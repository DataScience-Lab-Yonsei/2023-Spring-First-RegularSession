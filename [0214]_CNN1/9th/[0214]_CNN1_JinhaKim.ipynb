{
  "nbformat": 4,
  "nbformat_minor": 0,
  "metadata": {
    "colab": {
      "provenance": [],
      "collapsed_sections": [
        "cdNvme8aKSBP",
        "OHckdZ55KeH2",
        "mCrBa-gRRMEO",
        "EFPYE3UUnpmX",
        "xVxKI_rwCvhI",
        "klpXGc2tCimP",
        "huNh3EnhJLyh",
        "W-2Q7c6-JW9z",
        "FOUBE2UfKS6D",
        "LaVvtEOvKUgJ",
        "jRyyw49jKVhj",
        "5IecfHZiI09W",
        "SZcZQv4PGeYv",
        "V7HoLqroDhyF",
        "_civVcIYBGxA",
        "7Thu9NRyCV7j",
        "kuP_3_DyD42p"
      ]
    },
    "kernelspec": {
      "name": "python3",
      "display_name": "Python 3"
    },
    "accelerator": "GPU",
    "gpuClass": "standard",
    "widgets": {
      "application/vnd.jupyter.widget-state+json": {
        "d6ac3d3c42474c99911d736bada67de7": {
          "model_module": "@jupyter-widgets/controls",
          "model_name": "HBoxModel",
          "model_module_version": "1.5.0",
          "state": {
            "_dom_classes": [],
            "_model_module": "@jupyter-widgets/controls",
            "_model_module_version": "1.5.0",
            "_model_name": "HBoxModel",
            "_view_count": null,
            "_view_module": "@jupyter-widgets/controls",
            "_view_module_version": "1.5.0",
            "_view_name": "HBoxView",
            "box_style": "",
            "children": [
              "IPY_MODEL_a5805aed016a451abcc05f1263d68321",
              "IPY_MODEL_aee0862c337c40aea3d9d31dca234d38",
              "IPY_MODEL_be4439f52ec24b7ca5a07b7aa33ae2a0"
            ],
            "layout": "IPY_MODEL_a1873980ba484397b7e5d5586a0088e0"
          }
        },
        "a5805aed016a451abcc05f1263d68321": {
          "model_module": "@jupyter-widgets/controls",
          "model_name": "HTMLModel",
          "model_module_version": "1.5.0",
          "state": {
            "_dom_classes": [],
            "_model_module": "@jupyter-widgets/controls",
            "_model_module_version": "1.5.0",
            "_model_name": "HTMLModel",
            "_view_count": null,
            "_view_module": "@jupyter-widgets/controls",
            "_view_module_version": "1.5.0",
            "_view_name": "HTMLView",
            "description": "",
            "description_tooltip": null,
            "layout": "IPY_MODEL_299a0ae6768147d4bf994024cb4015fb",
            "placeholder": "​",
            "style": "IPY_MODEL_e30246e77d1445e29e8748f566b51d1a",
            "value": "100%"
          }
        },
        "aee0862c337c40aea3d9d31dca234d38": {
          "model_module": "@jupyter-widgets/controls",
          "model_name": "FloatProgressModel",
          "model_module_version": "1.5.0",
          "state": {
            "_dom_classes": [],
            "_model_module": "@jupyter-widgets/controls",
            "_model_module_version": "1.5.0",
            "_model_name": "FloatProgressModel",
            "_view_count": null,
            "_view_module": "@jupyter-widgets/controls",
            "_view_module_version": "1.5.0",
            "_view_name": "ProgressView",
            "bar_style": "success",
            "description": "",
            "description_tooltip": null,
            "layout": "IPY_MODEL_5d357d146b864c74b1c7c3f4ab51b5a8",
            "max": 26421880,
            "min": 0,
            "orientation": "horizontal",
            "style": "IPY_MODEL_55eb0cdd6a1d4def8d126a19b51ca6bf",
            "value": 26421880
          }
        },
        "be4439f52ec24b7ca5a07b7aa33ae2a0": {
          "model_module": "@jupyter-widgets/controls",
          "model_name": "HTMLModel",
          "model_module_version": "1.5.0",
          "state": {
            "_dom_classes": [],
            "_model_module": "@jupyter-widgets/controls",
            "_model_module_version": "1.5.0",
            "_model_name": "HTMLModel",
            "_view_count": null,
            "_view_module": "@jupyter-widgets/controls",
            "_view_module_version": "1.5.0",
            "_view_name": "HTMLView",
            "description": "",
            "description_tooltip": null,
            "layout": "IPY_MODEL_606883e6aa024875b4a94287448bfe15",
            "placeholder": "​",
            "style": "IPY_MODEL_5d53c5463e214c92816172986194bb3e",
            "value": " 26421880/26421880 [00:01&lt;00:00, 25882372.05it/s]"
          }
        },
        "a1873980ba484397b7e5d5586a0088e0": {
          "model_module": "@jupyter-widgets/base",
          "model_name": "LayoutModel",
          "model_module_version": "1.2.0",
          "state": {
            "_model_module": "@jupyter-widgets/base",
            "_model_module_version": "1.2.0",
            "_model_name": "LayoutModel",
            "_view_count": null,
            "_view_module": "@jupyter-widgets/base",
            "_view_module_version": "1.2.0",
            "_view_name": "LayoutView",
            "align_content": null,
            "align_items": null,
            "align_self": null,
            "border": null,
            "bottom": null,
            "display": null,
            "flex": null,
            "flex_flow": null,
            "grid_area": null,
            "grid_auto_columns": null,
            "grid_auto_flow": null,
            "grid_auto_rows": null,
            "grid_column": null,
            "grid_gap": null,
            "grid_row": null,
            "grid_template_areas": null,
            "grid_template_columns": null,
            "grid_template_rows": null,
            "height": null,
            "justify_content": null,
            "justify_items": null,
            "left": null,
            "margin": null,
            "max_height": null,
            "max_width": null,
            "min_height": null,
            "min_width": null,
            "object_fit": null,
            "object_position": null,
            "order": null,
            "overflow": null,
            "overflow_x": null,
            "overflow_y": null,
            "padding": null,
            "right": null,
            "top": null,
            "visibility": null,
            "width": null
          }
        },
        "299a0ae6768147d4bf994024cb4015fb": {
          "model_module": "@jupyter-widgets/base",
          "model_name": "LayoutModel",
          "model_module_version": "1.2.0",
          "state": {
            "_model_module": "@jupyter-widgets/base",
            "_model_module_version": "1.2.0",
            "_model_name": "LayoutModel",
            "_view_count": null,
            "_view_module": "@jupyter-widgets/base",
            "_view_module_version": "1.2.0",
            "_view_name": "LayoutView",
            "align_content": null,
            "align_items": null,
            "align_self": null,
            "border": null,
            "bottom": null,
            "display": null,
            "flex": null,
            "flex_flow": null,
            "grid_area": null,
            "grid_auto_columns": null,
            "grid_auto_flow": null,
            "grid_auto_rows": null,
            "grid_column": null,
            "grid_gap": null,
            "grid_row": null,
            "grid_template_areas": null,
            "grid_template_columns": null,
            "grid_template_rows": null,
            "height": null,
            "justify_content": null,
            "justify_items": null,
            "left": null,
            "margin": null,
            "max_height": null,
            "max_width": null,
            "min_height": null,
            "min_width": null,
            "object_fit": null,
            "object_position": null,
            "order": null,
            "overflow": null,
            "overflow_x": null,
            "overflow_y": null,
            "padding": null,
            "right": null,
            "top": null,
            "visibility": null,
            "width": null
          }
        },
        "e30246e77d1445e29e8748f566b51d1a": {
          "model_module": "@jupyter-widgets/controls",
          "model_name": "DescriptionStyleModel",
          "model_module_version": "1.5.0",
          "state": {
            "_model_module": "@jupyter-widgets/controls",
            "_model_module_version": "1.5.0",
            "_model_name": "DescriptionStyleModel",
            "_view_count": null,
            "_view_module": "@jupyter-widgets/base",
            "_view_module_version": "1.2.0",
            "_view_name": "StyleView",
            "description_width": ""
          }
        },
        "5d357d146b864c74b1c7c3f4ab51b5a8": {
          "model_module": "@jupyter-widgets/base",
          "model_name": "LayoutModel",
          "model_module_version": "1.2.0",
          "state": {
            "_model_module": "@jupyter-widgets/base",
            "_model_module_version": "1.2.0",
            "_model_name": "LayoutModel",
            "_view_count": null,
            "_view_module": "@jupyter-widgets/base",
            "_view_module_version": "1.2.0",
            "_view_name": "LayoutView",
            "align_content": null,
            "align_items": null,
            "align_self": null,
            "border": null,
            "bottom": null,
            "display": null,
            "flex": null,
            "flex_flow": null,
            "grid_area": null,
            "grid_auto_columns": null,
            "grid_auto_flow": null,
            "grid_auto_rows": null,
            "grid_column": null,
            "grid_gap": null,
            "grid_row": null,
            "grid_template_areas": null,
            "grid_template_columns": null,
            "grid_template_rows": null,
            "height": null,
            "justify_content": null,
            "justify_items": null,
            "left": null,
            "margin": null,
            "max_height": null,
            "max_width": null,
            "min_height": null,
            "min_width": null,
            "object_fit": null,
            "object_position": null,
            "order": null,
            "overflow": null,
            "overflow_x": null,
            "overflow_y": null,
            "padding": null,
            "right": null,
            "top": null,
            "visibility": null,
            "width": null
          }
        },
        "55eb0cdd6a1d4def8d126a19b51ca6bf": {
          "model_module": "@jupyter-widgets/controls",
          "model_name": "ProgressStyleModel",
          "model_module_version": "1.5.0",
          "state": {
            "_model_module": "@jupyter-widgets/controls",
            "_model_module_version": "1.5.0",
            "_model_name": "ProgressStyleModel",
            "_view_count": null,
            "_view_module": "@jupyter-widgets/base",
            "_view_module_version": "1.2.0",
            "_view_name": "StyleView",
            "bar_color": null,
            "description_width": ""
          }
        },
        "606883e6aa024875b4a94287448bfe15": {
          "model_module": "@jupyter-widgets/base",
          "model_name": "LayoutModel",
          "model_module_version": "1.2.0",
          "state": {
            "_model_module": "@jupyter-widgets/base",
            "_model_module_version": "1.2.0",
            "_model_name": "LayoutModel",
            "_view_count": null,
            "_view_module": "@jupyter-widgets/base",
            "_view_module_version": "1.2.0",
            "_view_name": "LayoutView",
            "align_content": null,
            "align_items": null,
            "align_self": null,
            "border": null,
            "bottom": null,
            "display": null,
            "flex": null,
            "flex_flow": null,
            "grid_area": null,
            "grid_auto_columns": null,
            "grid_auto_flow": null,
            "grid_auto_rows": null,
            "grid_column": null,
            "grid_gap": null,
            "grid_row": null,
            "grid_template_areas": null,
            "grid_template_columns": null,
            "grid_template_rows": null,
            "height": null,
            "justify_content": null,
            "justify_items": null,
            "left": null,
            "margin": null,
            "max_height": null,
            "max_width": null,
            "min_height": null,
            "min_width": null,
            "object_fit": null,
            "object_position": null,
            "order": null,
            "overflow": null,
            "overflow_x": null,
            "overflow_y": null,
            "padding": null,
            "right": null,
            "top": null,
            "visibility": null,
            "width": null
          }
        },
        "5d53c5463e214c92816172986194bb3e": {
          "model_module": "@jupyter-widgets/controls",
          "model_name": "DescriptionStyleModel",
          "model_module_version": "1.5.0",
          "state": {
            "_model_module": "@jupyter-widgets/controls",
            "_model_module_version": "1.5.0",
            "_model_name": "DescriptionStyleModel",
            "_view_count": null,
            "_view_module": "@jupyter-widgets/base",
            "_view_module_version": "1.2.0",
            "_view_name": "StyleView",
            "description_width": ""
          }
        },
        "bfead8758f734560946f10c8023c4fdb": {
          "model_module": "@jupyter-widgets/controls",
          "model_name": "HBoxModel",
          "model_module_version": "1.5.0",
          "state": {
            "_dom_classes": [],
            "_model_module": "@jupyter-widgets/controls",
            "_model_module_version": "1.5.0",
            "_model_name": "HBoxModel",
            "_view_count": null,
            "_view_module": "@jupyter-widgets/controls",
            "_view_module_version": "1.5.0",
            "_view_name": "HBoxView",
            "box_style": "",
            "children": [
              "IPY_MODEL_da04321d4ca04f3ca6f5190c070890f9",
              "IPY_MODEL_f46258fe4a1f466cb85f0286530cd304",
              "IPY_MODEL_efb8a302ebe345d49080f75c99d2428d"
            ],
            "layout": "IPY_MODEL_69818b5bce754a949ee168fe105c0739"
          }
        },
        "da04321d4ca04f3ca6f5190c070890f9": {
          "model_module": "@jupyter-widgets/controls",
          "model_name": "HTMLModel",
          "model_module_version": "1.5.0",
          "state": {
            "_dom_classes": [],
            "_model_module": "@jupyter-widgets/controls",
            "_model_module_version": "1.5.0",
            "_model_name": "HTMLModel",
            "_view_count": null,
            "_view_module": "@jupyter-widgets/controls",
            "_view_module_version": "1.5.0",
            "_view_name": "HTMLView",
            "description": "",
            "description_tooltip": null,
            "layout": "IPY_MODEL_2016408b0e764947bc8dc607690af074",
            "placeholder": "​",
            "style": "IPY_MODEL_c36cb46378c640eba1e78f55186fcce3",
            "value": "100%"
          }
        },
        "f46258fe4a1f466cb85f0286530cd304": {
          "model_module": "@jupyter-widgets/controls",
          "model_name": "FloatProgressModel",
          "model_module_version": "1.5.0",
          "state": {
            "_dom_classes": [],
            "_model_module": "@jupyter-widgets/controls",
            "_model_module_version": "1.5.0",
            "_model_name": "FloatProgressModel",
            "_view_count": null,
            "_view_module": "@jupyter-widgets/controls",
            "_view_module_version": "1.5.0",
            "_view_name": "ProgressView",
            "bar_style": "success",
            "description": "",
            "description_tooltip": null,
            "layout": "IPY_MODEL_3ad03c110d804cecbec855bbe1600ec2",
            "max": 29515,
            "min": 0,
            "orientation": "horizontal",
            "style": "IPY_MODEL_62928c15ab7f4c99945eee8436fea611",
            "value": 29515
          }
        },
        "efb8a302ebe345d49080f75c99d2428d": {
          "model_module": "@jupyter-widgets/controls",
          "model_name": "HTMLModel",
          "model_module_version": "1.5.0",
          "state": {
            "_dom_classes": [],
            "_model_module": "@jupyter-widgets/controls",
            "_model_module_version": "1.5.0",
            "_model_name": "HTMLModel",
            "_view_count": null,
            "_view_module": "@jupyter-widgets/controls",
            "_view_module_version": "1.5.0",
            "_view_name": "HTMLView",
            "description": "",
            "description_tooltip": null,
            "layout": "IPY_MODEL_87ea822a1bd5454c87c6604e3353d716",
            "placeholder": "​",
            "style": "IPY_MODEL_08359f769a344f2faf63958ba5342812",
            "value": " 29515/29515 [00:00&lt;00:00, 334499.40it/s]"
          }
        },
        "69818b5bce754a949ee168fe105c0739": {
          "model_module": "@jupyter-widgets/base",
          "model_name": "LayoutModel",
          "model_module_version": "1.2.0",
          "state": {
            "_model_module": "@jupyter-widgets/base",
            "_model_module_version": "1.2.0",
            "_model_name": "LayoutModel",
            "_view_count": null,
            "_view_module": "@jupyter-widgets/base",
            "_view_module_version": "1.2.0",
            "_view_name": "LayoutView",
            "align_content": null,
            "align_items": null,
            "align_self": null,
            "border": null,
            "bottom": null,
            "display": null,
            "flex": null,
            "flex_flow": null,
            "grid_area": null,
            "grid_auto_columns": null,
            "grid_auto_flow": null,
            "grid_auto_rows": null,
            "grid_column": null,
            "grid_gap": null,
            "grid_row": null,
            "grid_template_areas": null,
            "grid_template_columns": null,
            "grid_template_rows": null,
            "height": null,
            "justify_content": null,
            "justify_items": null,
            "left": null,
            "margin": null,
            "max_height": null,
            "max_width": null,
            "min_height": null,
            "min_width": null,
            "object_fit": null,
            "object_position": null,
            "order": null,
            "overflow": null,
            "overflow_x": null,
            "overflow_y": null,
            "padding": null,
            "right": null,
            "top": null,
            "visibility": null,
            "width": null
          }
        },
        "2016408b0e764947bc8dc607690af074": {
          "model_module": "@jupyter-widgets/base",
          "model_name": "LayoutModel",
          "model_module_version": "1.2.0",
          "state": {
            "_model_module": "@jupyter-widgets/base",
            "_model_module_version": "1.2.0",
            "_model_name": "LayoutModel",
            "_view_count": null,
            "_view_module": "@jupyter-widgets/base",
            "_view_module_version": "1.2.0",
            "_view_name": "LayoutView",
            "align_content": null,
            "align_items": null,
            "align_self": null,
            "border": null,
            "bottom": null,
            "display": null,
            "flex": null,
            "flex_flow": null,
            "grid_area": null,
            "grid_auto_columns": null,
            "grid_auto_flow": null,
            "grid_auto_rows": null,
            "grid_column": null,
            "grid_gap": null,
            "grid_row": null,
            "grid_template_areas": null,
            "grid_template_columns": null,
            "grid_template_rows": null,
            "height": null,
            "justify_content": null,
            "justify_items": null,
            "left": null,
            "margin": null,
            "max_height": null,
            "max_width": null,
            "min_height": null,
            "min_width": null,
            "object_fit": null,
            "object_position": null,
            "order": null,
            "overflow": null,
            "overflow_x": null,
            "overflow_y": null,
            "padding": null,
            "right": null,
            "top": null,
            "visibility": null,
            "width": null
          }
        },
        "c36cb46378c640eba1e78f55186fcce3": {
          "model_module": "@jupyter-widgets/controls",
          "model_name": "DescriptionStyleModel",
          "model_module_version": "1.5.0",
          "state": {
            "_model_module": "@jupyter-widgets/controls",
            "_model_module_version": "1.5.0",
            "_model_name": "DescriptionStyleModel",
            "_view_count": null,
            "_view_module": "@jupyter-widgets/base",
            "_view_module_version": "1.2.0",
            "_view_name": "StyleView",
            "description_width": ""
          }
        },
        "3ad03c110d804cecbec855bbe1600ec2": {
          "model_module": "@jupyter-widgets/base",
          "model_name": "LayoutModel",
          "model_module_version": "1.2.0",
          "state": {
            "_model_module": "@jupyter-widgets/base",
            "_model_module_version": "1.2.0",
            "_model_name": "LayoutModel",
            "_view_count": null,
            "_view_module": "@jupyter-widgets/base",
            "_view_module_version": "1.2.0",
            "_view_name": "LayoutView",
            "align_content": null,
            "align_items": null,
            "align_self": null,
            "border": null,
            "bottom": null,
            "display": null,
            "flex": null,
            "flex_flow": null,
            "grid_area": null,
            "grid_auto_columns": null,
            "grid_auto_flow": null,
            "grid_auto_rows": null,
            "grid_column": null,
            "grid_gap": null,
            "grid_row": null,
            "grid_template_areas": null,
            "grid_template_columns": null,
            "grid_template_rows": null,
            "height": null,
            "justify_content": null,
            "justify_items": null,
            "left": null,
            "margin": null,
            "max_height": null,
            "max_width": null,
            "min_height": null,
            "min_width": null,
            "object_fit": null,
            "object_position": null,
            "order": null,
            "overflow": null,
            "overflow_x": null,
            "overflow_y": null,
            "padding": null,
            "right": null,
            "top": null,
            "visibility": null,
            "width": null
          }
        },
        "62928c15ab7f4c99945eee8436fea611": {
          "model_module": "@jupyter-widgets/controls",
          "model_name": "ProgressStyleModel",
          "model_module_version": "1.5.0",
          "state": {
            "_model_module": "@jupyter-widgets/controls",
            "_model_module_version": "1.5.0",
            "_model_name": "ProgressStyleModel",
            "_view_count": null,
            "_view_module": "@jupyter-widgets/base",
            "_view_module_version": "1.2.0",
            "_view_name": "StyleView",
            "bar_color": null,
            "description_width": ""
          }
        },
        "87ea822a1bd5454c87c6604e3353d716": {
          "model_module": "@jupyter-widgets/base",
          "model_name": "LayoutModel",
          "model_module_version": "1.2.0",
          "state": {
            "_model_module": "@jupyter-widgets/base",
            "_model_module_version": "1.2.0",
            "_model_name": "LayoutModel",
            "_view_count": null,
            "_view_module": "@jupyter-widgets/base",
            "_view_module_version": "1.2.0",
            "_view_name": "LayoutView",
            "align_content": null,
            "align_items": null,
            "align_self": null,
            "border": null,
            "bottom": null,
            "display": null,
            "flex": null,
            "flex_flow": null,
            "grid_area": null,
            "grid_auto_columns": null,
            "grid_auto_flow": null,
            "grid_auto_rows": null,
            "grid_column": null,
            "grid_gap": null,
            "grid_row": null,
            "grid_template_areas": null,
            "grid_template_columns": null,
            "grid_template_rows": null,
            "height": null,
            "justify_content": null,
            "justify_items": null,
            "left": null,
            "margin": null,
            "max_height": null,
            "max_width": null,
            "min_height": null,
            "min_width": null,
            "object_fit": null,
            "object_position": null,
            "order": null,
            "overflow": null,
            "overflow_x": null,
            "overflow_y": null,
            "padding": null,
            "right": null,
            "top": null,
            "visibility": null,
            "width": null
          }
        },
        "08359f769a344f2faf63958ba5342812": {
          "model_module": "@jupyter-widgets/controls",
          "model_name": "DescriptionStyleModel",
          "model_module_version": "1.5.0",
          "state": {
            "_model_module": "@jupyter-widgets/controls",
            "_model_module_version": "1.5.0",
            "_model_name": "DescriptionStyleModel",
            "_view_count": null,
            "_view_module": "@jupyter-widgets/base",
            "_view_module_version": "1.2.0",
            "_view_name": "StyleView",
            "description_width": ""
          }
        },
        "8517d29539d14343b71cd4c8dd3a244d": {
          "model_module": "@jupyter-widgets/controls",
          "model_name": "HBoxModel",
          "model_module_version": "1.5.0",
          "state": {
            "_dom_classes": [],
            "_model_module": "@jupyter-widgets/controls",
            "_model_module_version": "1.5.0",
            "_model_name": "HBoxModel",
            "_view_count": null,
            "_view_module": "@jupyter-widgets/controls",
            "_view_module_version": "1.5.0",
            "_view_name": "HBoxView",
            "box_style": "",
            "children": [
              "IPY_MODEL_d311e47237c543ac91db407b9cadbe20",
              "IPY_MODEL_763b072b6f2c481a939d8ded0181e08c",
              "IPY_MODEL_bde7f9ed3d4e4132b7cd7bf911a5049d"
            ],
            "layout": "IPY_MODEL_6956f3e9e87c458d9aa90f3fad3b4a48"
          }
        },
        "d311e47237c543ac91db407b9cadbe20": {
          "model_module": "@jupyter-widgets/controls",
          "model_name": "HTMLModel",
          "model_module_version": "1.5.0",
          "state": {
            "_dom_classes": [],
            "_model_module": "@jupyter-widgets/controls",
            "_model_module_version": "1.5.0",
            "_model_name": "HTMLModel",
            "_view_count": null,
            "_view_module": "@jupyter-widgets/controls",
            "_view_module_version": "1.5.0",
            "_view_name": "HTMLView",
            "description": "",
            "description_tooltip": null,
            "layout": "IPY_MODEL_44a1e3784bf64ef48b9cac74ff71ff83",
            "placeholder": "​",
            "style": "IPY_MODEL_fb3e66519c6546fdb8f26cde09847db5",
            "value": "100%"
          }
        },
        "763b072b6f2c481a939d8ded0181e08c": {
          "model_module": "@jupyter-widgets/controls",
          "model_name": "FloatProgressModel",
          "model_module_version": "1.5.0",
          "state": {
            "_dom_classes": [],
            "_model_module": "@jupyter-widgets/controls",
            "_model_module_version": "1.5.0",
            "_model_name": "FloatProgressModel",
            "_view_count": null,
            "_view_module": "@jupyter-widgets/controls",
            "_view_module_version": "1.5.0",
            "_view_name": "ProgressView",
            "bar_style": "success",
            "description": "",
            "description_tooltip": null,
            "layout": "IPY_MODEL_061dffd2d92d49e38a0ef8a890f3ef57",
            "max": 4422102,
            "min": 0,
            "orientation": "horizontal",
            "style": "IPY_MODEL_5b9dd9f6dd2440159aadea7d19103289",
            "value": 4422102
          }
        },
        "bde7f9ed3d4e4132b7cd7bf911a5049d": {
          "model_module": "@jupyter-widgets/controls",
          "model_name": "HTMLModel",
          "model_module_version": "1.5.0",
          "state": {
            "_dom_classes": [],
            "_model_module": "@jupyter-widgets/controls",
            "_model_module_version": "1.5.0",
            "_model_name": "HTMLModel",
            "_view_count": null,
            "_view_module": "@jupyter-widgets/controls",
            "_view_module_version": "1.5.0",
            "_view_name": "HTMLView",
            "description": "",
            "description_tooltip": null,
            "layout": "IPY_MODEL_fd250950362b403cbef2e34a3dc00ffa",
            "placeholder": "​",
            "style": "IPY_MODEL_f77892a059f24c35b75acaf0cf532039",
            "value": " 4422102/4422102 [00:00&lt;00:00, 4242550.37it/s]"
          }
        },
        "6956f3e9e87c458d9aa90f3fad3b4a48": {
          "model_module": "@jupyter-widgets/base",
          "model_name": "LayoutModel",
          "model_module_version": "1.2.0",
          "state": {
            "_model_module": "@jupyter-widgets/base",
            "_model_module_version": "1.2.0",
            "_model_name": "LayoutModel",
            "_view_count": null,
            "_view_module": "@jupyter-widgets/base",
            "_view_module_version": "1.2.0",
            "_view_name": "LayoutView",
            "align_content": null,
            "align_items": null,
            "align_self": null,
            "border": null,
            "bottom": null,
            "display": null,
            "flex": null,
            "flex_flow": null,
            "grid_area": null,
            "grid_auto_columns": null,
            "grid_auto_flow": null,
            "grid_auto_rows": null,
            "grid_column": null,
            "grid_gap": null,
            "grid_row": null,
            "grid_template_areas": null,
            "grid_template_columns": null,
            "grid_template_rows": null,
            "height": null,
            "justify_content": null,
            "justify_items": null,
            "left": null,
            "margin": null,
            "max_height": null,
            "max_width": null,
            "min_height": null,
            "min_width": null,
            "object_fit": null,
            "object_position": null,
            "order": null,
            "overflow": null,
            "overflow_x": null,
            "overflow_y": null,
            "padding": null,
            "right": null,
            "top": null,
            "visibility": null,
            "width": null
          }
        },
        "44a1e3784bf64ef48b9cac74ff71ff83": {
          "model_module": "@jupyter-widgets/base",
          "model_name": "LayoutModel",
          "model_module_version": "1.2.0",
          "state": {
            "_model_module": "@jupyter-widgets/base",
            "_model_module_version": "1.2.0",
            "_model_name": "LayoutModel",
            "_view_count": null,
            "_view_module": "@jupyter-widgets/base",
            "_view_module_version": "1.2.0",
            "_view_name": "LayoutView",
            "align_content": null,
            "align_items": null,
            "align_self": null,
            "border": null,
            "bottom": null,
            "display": null,
            "flex": null,
            "flex_flow": null,
            "grid_area": null,
            "grid_auto_columns": null,
            "grid_auto_flow": null,
            "grid_auto_rows": null,
            "grid_column": null,
            "grid_gap": null,
            "grid_row": null,
            "grid_template_areas": null,
            "grid_template_columns": null,
            "grid_template_rows": null,
            "height": null,
            "justify_content": null,
            "justify_items": null,
            "left": null,
            "margin": null,
            "max_height": null,
            "max_width": null,
            "min_height": null,
            "min_width": null,
            "object_fit": null,
            "object_position": null,
            "order": null,
            "overflow": null,
            "overflow_x": null,
            "overflow_y": null,
            "padding": null,
            "right": null,
            "top": null,
            "visibility": null,
            "width": null
          }
        },
        "fb3e66519c6546fdb8f26cde09847db5": {
          "model_module": "@jupyter-widgets/controls",
          "model_name": "DescriptionStyleModel",
          "model_module_version": "1.5.0",
          "state": {
            "_model_module": "@jupyter-widgets/controls",
            "_model_module_version": "1.5.0",
            "_model_name": "DescriptionStyleModel",
            "_view_count": null,
            "_view_module": "@jupyter-widgets/base",
            "_view_module_version": "1.2.0",
            "_view_name": "StyleView",
            "description_width": ""
          }
        },
        "061dffd2d92d49e38a0ef8a890f3ef57": {
          "model_module": "@jupyter-widgets/base",
          "model_name": "LayoutModel",
          "model_module_version": "1.2.0",
          "state": {
            "_model_module": "@jupyter-widgets/base",
            "_model_module_version": "1.2.0",
            "_model_name": "LayoutModel",
            "_view_count": null,
            "_view_module": "@jupyter-widgets/base",
            "_view_module_version": "1.2.0",
            "_view_name": "LayoutView",
            "align_content": null,
            "align_items": null,
            "align_self": null,
            "border": null,
            "bottom": null,
            "display": null,
            "flex": null,
            "flex_flow": null,
            "grid_area": null,
            "grid_auto_columns": null,
            "grid_auto_flow": null,
            "grid_auto_rows": null,
            "grid_column": null,
            "grid_gap": null,
            "grid_row": null,
            "grid_template_areas": null,
            "grid_template_columns": null,
            "grid_template_rows": null,
            "height": null,
            "justify_content": null,
            "justify_items": null,
            "left": null,
            "margin": null,
            "max_height": null,
            "max_width": null,
            "min_height": null,
            "min_width": null,
            "object_fit": null,
            "object_position": null,
            "order": null,
            "overflow": null,
            "overflow_x": null,
            "overflow_y": null,
            "padding": null,
            "right": null,
            "top": null,
            "visibility": null,
            "width": null
          }
        },
        "5b9dd9f6dd2440159aadea7d19103289": {
          "model_module": "@jupyter-widgets/controls",
          "model_name": "ProgressStyleModel",
          "model_module_version": "1.5.0",
          "state": {
            "_model_module": "@jupyter-widgets/controls",
            "_model_module_version": "1.5.0",
            "_model_name": "ProgressStyleModel",
            "_view_count": null,
            "_view_module": "@jupyter-widgets/base",
            "_view_module_version": "1.2.0",
            "_view_name": "StyleView",
            "bar_color": null,
            "description_width": ""
          }
        },
        "fd250950362b403cbef2e34a3dc00ffa": {
          "model_module": "@jupyter-widgets/base",
          "model_name": "LayoutModel",
          "model_module_version": "1.2.0",
          "state": {
            "_model_module": "@jupyter-widgets/base",
            "_model_module_version": "1.2.0",
            "_model_name": "LayoutModel",
            "_view_count": null,
            "_view_module": "@jupyter-widgets/base",
            "_view_module_version": "1.2.0",
            "_view_name": "LayoutView",
            "align_content": null,
            "align_items": null,
            "align_self": null,
            "border": null,
            "bottom": null,
            "display": null,
            "flex": null,
            "flex_flow": null,
            "grid_area": null,
            "grid_auto_columns": null,
            "grid_auto_flow": null,
            "grid_auto_rows": null,
            "grid_column": null,
            "grid_gap": null,
            "grid_row": null,
            "grid_template_areas": null,
            "grid_template_columns": null,
            "grid_template_rows": null,
            "height": null,
            "justify_content": null,
            "justify_items": null,
            "left": null,
            "margin": null,
            "max_height": null,
            "max_width": null,
            "min_height": null,
            "min_width": null,
            "object_fit": null,
            "object_position": null,
            "order": null,
            "overflow": null,
            "overflow_x": null,
            "overflow_y": null,
            "padding": null,
            "right": null,
            "top": null,
            "visibility": null,
            "width": null
          }
        },
        "f77892a059f24c35b75acaf0cf532039": {
          "model_module": "@jupyter-widgets/controls",
          "model_name": "DescriptionStyleModel",
          "model_module_version": "1.5.0",
          "state": {
            "_model_module": "@jupyter-widgets/controls",
            "_model_module_version": "1.5.0",
            "_model_name": "DescriptionStyleModel",
            "_view_count": null,
            "_view_module": "@jupyter-widgets/base",
            "_view_module_version": "1.2.0",
            "_view_name": "StyleView",
            "description_width": ""
          }
        },
        "d04bb0b2516345d5a7f192da61e7f5ac": {
          "model_module": "@jupyter-widgets/controls",
          "model_name": "HBoxModel",
          "model_module_version": "1.5.0",
          "state": {
            "_dom_classes": [],
            "_model_module": "@jupyter-widgets/controls",
            "_model_module_version": "1.5.0",
            "_model_name": "HBoxModel",
            "_view_count": null,
            "_view_module": "@jupyter-widgets/controls",
            "_view_module_version": "1.5.0",
            "_view_name": "HBoxView",
            "box_style": "",
            "children": [
              "IPY_MODEL_40ebfd15b9a54ada8f5e1e9fd7f362db",
              "IPY_MODEL_02fb8fee3d4b4193ad2362d04d055b17",
              "IPY_MODEL_286de4b449374df29a8ffc2415757bd5"
            ],
            "layout": "IPY_MODEL_5d993e92d7df4e44815a5979a7fb837e"
          }
        },
        "40ebfd15b9a54ada8f5e1e9fd7f362db": {
          "model_module": "@jupyter-widgets/controls",
          "model_name": "HTMLModel",
          "model_module_version": "1.5.0",
          "state": {
            "_dom_classes": [],
            "_model_module": "@jupyter-widgets/controls",
            "_model_module_version": "1.5.0",
            "_model_name": "HTMLModel",
            "_view_count": null,
            "_view_module": "@jupyter-widgets/controls",
            "_view_module_version": "1.5.0",
            "_view_name": "HTMLView",
            "description": "",
            "description_tooltip": null,
            "layout": "IPY_MODEL_0ade0b86d60f4d3996c3363d3bdef2fe",
            "placeholder": "​",
            "style": "IPY_MODEL_18a519b178484fe8899f2b7473dc0b8b",
            "value": "100%"
          }
        },
        "02fb8fee3d4b4193ad2362d04d055b17": {
          "model_module": "@jupyter-widgets/controls",
          "model_name": "FloatProgressModel",
          "model_module_version": "1.5.0",
          "state": {
            "_dom_classes": [],
            "_model_module": "@jupyter-widgets/controls",
            "_model_module_version": "1.5.0",
            "_model_name": "FloatProgressModel",
            "_view_count": null,
            "_view_module": "@jupyter-widgets/controls",
            "_view_module_version": "1.5.0",
            "_view_name": "ProgressView",
            "bar_style": "success",
            "description": "",
            "description_tooltip": null,
            "layout": "IPY_MODEL_fbe277974847446ca641d3473c85d6d9",
            "max": 5148,
            "min": 0,
            "orientation": "horizontal",
            "style": "IPY_MODEL_1cfafeb752b245b89b85acd3da87bd90",
            "value": 5148
          }
        },
        "286de4b449374df29a8ffc2415757bd5": {
          "model_module": "@jupyter-widgets/controls",
          "model_name": "HTMLModel",
          "model_module_version": "1.5.0",
          "state": {
            "_dom_classes": [],
            "_model_module": "@jupyter-widgets/controls",
            "_model_module_version": "1.5.0",
            "_model_name": "HTMLModel",
            "_view_count": null,
            "_view_module": "@jupyter-widgets/controls",
            "_view_module_version": "1.5.0",
            "_view_name": "HTMLView",
            "description": "",
            "description_tooltip": null,
            "layout": "IPY_MODEL_a5293810ac5b4a2c904f367121496460",
            "placeholder": "​",
            "style": "IPY_MODEL_f40ad5c6d55b4a04b0880510f7018f0e",
            "value": " 5148/5148 [00:00&lt;00:00, 69705.57it/s]"
          }
        },
        "5d993e92d7df4e44815a5979a7fb837e": {
          "model_module": "@jupyter-widgets/base",
          "model_name": "LayoutModel",
          "model_module_version": "1.2.0",
          "state": {
            "_model_module": "@jupyter-widgets/base",
            "_model_module_version": "1.2.0",
            "_model_name": "LayoutModel",
            "_view_count": null,
            "_view_module": "@jupyter-widgets/base",
            "_view_module_version": "1.2.0",
            "_view_name": "LayoutView",
            "align_content": null,
            "align_items": null,
            "align_self": null,
            "border": null,
            "bottom": null,
            "display": null,
            "flex": null,
            "flex_flow": null,
            "grid_area": null,
            "grid_auto_columns": null,
            "grid_auto_flow": null,
            "grid_auto_rows": null,
            "grid_column": null,
            "grid_gap": null,
            "grid_row": null,
            "grid_template_areas": null,
            "grid_template_columns": null,
            "grid_template_rows": null,
            "height": null,
            "justify_content": null,
            "justify_items": null,
            "left": null,
            "margin": null,
            "max_height": null,
            "max_width": null,
            "min_height": null,
            "min_width": null,
            "object_fit": null,
            "object_position": null,
            "order": null,
            "overflow": null,
            "overflow_x": null,
            "overflow_y": null,
            "padding": null,
            "right": null,
            "top": null,
            "visibility": null,
            "width": null
          }
        },
        "0ade0b86d60f4d3996c3363d3bdef2fe": {
          "model_module": "@jupyter-widgets/base",
          "model_name": "LayoutModel",
          "model_module_version": "1.2.0",
          "state": {
            "_model_module": "@jupyter-widgets/base",
            "_model_module_version": "1.2.0",
            "_model_name": "LayoutModel",
            "_view_count": null,
            "_view_module": "@jupyter-widgets/base",
            "_view_module_version": "1.2.0",
            "_view_name": "LayoutView",
            "align_content": null,
            "align_items": null,
            "align_self": null,
            "border": null,
            "bottom": null,
            "display": null,
            "flex": null,
            "flex_flow": null,
            "grid_area": null,
            "grid_auto_columns": null,
            "grid_auto_flow": null,
            "grid_auto_rows": null,
            "grid_column": null,
            "grid_gap": null,
            "grid_row": null,
            "grid_template_areas": null,
            "grid_template_columns": null,
            "grid_template_rows": null,
            "height": null,
            "justify_content": null,
            "justify_items": null,
            "left": null,
            "margin": null,
            "max_height": null,
            "max_width": null,
            "min_height": null,
            "min_width": null,
            "object_fit": null,
            "object_position": null,
            "order": null,
            "overflow": null,
            "overflow_x": null,
            "overflow_y": null,
            "padding": null,
            "right": null,
            "top": null,
            "visibility": null,
            "width": null
          }
        },
        "18a519b178484fe8899f2b7473dc0b8b": {
          "model_module": "@jupyter-widgets/controls",
          "model_name": "DescriptionStyleModel",
          "model_module_version": "1.5.0",
          "state": {
            "_model_module": "@jupyter-widgets/controls",
            "_model_module_version": "1.5.0",
            "_model_name": "DescriptionStyleModel",
            "_view_count": null,
            "_view_module": "@jupyter-widgets/base",
            "_view_module_version": "1.2.0",
            "_view_name": "StyleView",
            "description_width": ""
          }
        },
        "fbe277974847446ca641d3473c85d6d9": {
          "model_module": "@jupyter-widgets/base",
          "model_name": "LayoutModel",
          "model_module_version": "1.2.0",
          "state": {
            "_model_module": "@jupyter-widgets/base",
            "_model_module_version": "1.2.0",
            "_model_name": "LayoutModel",
            "_view_count": null,
            "_view_module": "@jupyter-widgets/base",
            "_view_module_version": "1.2.0",
            "_view_name": "LayoutView",
            "align_content": null,
            "align_items": null,
            "align_self": null,
            "border": null,
            "bottom": null,
            "display": null,
            "flex": null,
            "flex_flow": null,
            "grid_area": null,
            "grid_auto_columns": null,
            "grid_auto_flow": null,
            "grid_auto_rows": null,
            "grid_column": null,
            "grid_gap": null,
            "grid_row": null,
            "grid_template_areas": null,
            "grid_template_columns": null,
            "grid_template_rows": null,
            "height": null,
            "justify_content": null,
            "justify_items": null,
            "left": null,
            "margin": null,
            "max_height": null,
            "max_width": null,
            "min_height": null,
            "min_width": null,
            "object_fit": null,
            "object_position": null,
            "order": null,
            "overflow": null,
            "overflow_x": null,
            "overflow_y": null,
            "padding": null,
            "right": null,
            "top": null,
            "visibility": null,
            "width": null
          }
        },
        "1cfafeb752b245b89b85acd3da87bd90": {
          "model_module": "@jupyter-widgets/controls",
          "model_name": "ProgressStyleModel",
          "model_module_version": "1.5.0",
          "state": {
            "_model_module": "@jupyter-widgets/controls",
            "_model_module_version": "1.5.0",
            "_model_name": "ProgressStyleModel",
            "_view_count": null,
            "_view_module": "@jupyter-widgets/base",
            "_view_module_version": "1.2.0",
            "_view_name": "StyleView",
            "bar_color": null,
            "description_width": ""
          }
        },
        "a5293810ac5b4a2c904f367121496460": {
          "model_module": "@jupyter-widgets/base",
          "model_name": "LayoutModel",
          "model_module_version": "1.2.0",
          "state": {
            "_model_module": "@jupyter-widgets/base",
            "_model_module_version": "1.2.0",
            "_model_name": "LayoutModel",
            "_view_count": null,
            "_view_module": "@jupyter-widgets/base",
            "_view_module_version": "1.2.0",
            "_view_name": "LayoutView",
            "align_content": null,
            "align_items": null,
            "align_self": null,
            "border": null,
            "bottom": null,
            "display": null,
            "flex": null,
            "flex_flow": null,
            "grid_area": null,
            "grid_auto_columns": null,
            "grid_auto_flow": null,
            "grid_auto_rows": null,
            "grid_column": null,
            "grid_gap": null,
            "grid_row": null,
            "grid_template_areas": null,
            "grid_template_columns": null,
            "grid_template_rows": null,
            "height": null,
            "justify_content": null,
            "justify_items": null,
            "left": null,
            "margin": null,
            "max_height": null,
            "max_width": null,
            "min_height": null,
            "min_width": null,
            "object_fit": null,
            "object_position": null,
            "order": null,
            "overflow": null,
            "overflow_x": null,
            "overflow_y": null,
            "padding": null,
            "right": null,
            "top": null,
            "visibility": null,
            "width": null
          }
        },
        "f40ad5c6d55b4a04b0880510f7018f0e": {
          "model_module": "@jupyter-widgets/controls",
          "model_name": "DescriptionStyleModel",
          "model_module_version": "1.5.0",
          "state": {
            "_model_module": "@jupyter-widgets/controls",
            "_model_module_version": "1.5.0",
            "_model_name": "DescriptionStyleModel",
            "_view_count": null,
            "_view_module": "@jupyter-widgets/base",
            "_view_module_version": "1.2.0",
            "_view_name": "StyleView",
            "description_width": ""
          }
        }
      }
    }
  },
  "cells": [
    {
      "cell_type": "markdown",
      "source": [
        "# 초기 세팅"
      ],
      "metadata": {
        "id": "cdNvme8aKSBP"
      }
    },
    {
      "cell_type": "code",
      "metadata": {
        "id": "P1v9luAfHXdz"
      },
      "source": [
        "import torch\n",
        "import torch.nn as nn\n",
        "import torch.nn.functional as F\n",
        "import torch.optim as optim\n",
        "from torch.utils.data import Dataset, DataLoader\n",
        "\n",
        "import torchvision\n",
        "import torchvision.datasets as datasets\n",
        "import torchvision.transforms as transforms\n",
        "\n",
        "import numpy as np\n",
        "import matplotlib.pyplot as plt\n",
        "plt.style.use('seaborn-white')"
      ],
      "execution_count": 1,
      "outputs": []
    },
    {
      "cell_type": "code",
      "source": [
        "!pip install torchsummary\n",
        "from torchsummary import summary"
      ],
      "metadata": {
        "colab": {
          "base_uri": "https://localhost:8080/"
        },
        "id": "D39aCPyTu2Ce",
        "outputId": "8c3bcd9b-45c7-4e86-f361-751619467d66"
      },
      "execution_count": 2,
      "outputs": [
        {
          "output_type": "stream",
          "name": "stdout",
          "text": [
            "Looking in indexes: https://pypi.org/simple, https://us-python.pkg.dev/colab-wheels/public/simple/\n",
            "Requirement already satisfied: torchsummary in /usr/local/lib/python3.8/dist-packages (1.5.1)\n"
          ]
        }
      ]
    },
    {
      "cell_type": "markdown",
      "metadata": {
        "id": "02LdHlTTSz5L"
      },
      "source": [
        "- 현재 GPU 설정"
      ]
    },
    {
      "cell_type": "code",
      "metadata": {
        "id": "Ybsjn80uSx3X",
        "colab": {
          "base_uri": "https://localhost:8080/"
        },
        "outputId": "f6518064-d58d-4568-9ed5-d7bd3be9de8a"
      },
      "source": [
        "# colab의 runtime-type을 GPU로 설정해서, True가 나오도록 한다.\n",
        "\n",
        "torch.cuda.is_available()"
      ],
      "execution_count": 3,
      "outputs": [
        {
          "output_type": "execute_result",
          "data": {
            "text/plain": [
              "True"
            ]
          },
          "metadata": {},
          "execution_count": 3
        }
      ]
    },
    {
      "cell_type": "code",
      "metadata": {
        "id": "HlPZI5wfDQhv",
        "colab": {
          "base_uri": "https://localhost:8080/"
        },
        "outputId": "1fc5e507-5a2f-4c3a-bddb-553ea803a1a9"
      },
      "source": [
        "use_cuda = torch.cuda.is_available()\n",
        "device = torch.device(\"cuda\" if use_cuda else \"cpu\")\n",
        "device"
      ],
      "execution_count": 4,
      "outputs": [
        {
          "output_type": "execute_result",
          "data": {
            "text/plain": [
              "device(type='cuda')"
            ]
          },
          "metadata": {},
          "execution_count": 4
        }
      ]
    },
    {
      "cell_type": "markdown",
      "source": [
        "# FashionMNIST 분류 모델 만들기\n",
        "* 흑/백(1) 이미지 데이터 분류\n",
        "* 28x28 pixel"
      ],
      "metadata": {
        "id": "OHckdZ55KeH2"
      }
    },
    {
      "cell_type": "markdown",
      "source": [
        "## 데이터 로드"
      ],
      "metadata": {
        "id": "mCrBa-gRRMEO"
      }
    },
    {
      "cell_type": "code",
      "source": [
        "# 데이터 전처리\n",
        "\n",
        "MNIST_transform = transforms.Compose([transforms.ToTensor(), # tensor로 펴준다.\n",
        "                                      transforms.Normalize((0.5,),(0.5,))]) # 정규화를 해준다."
      ],
      "metadata": {
        "id": "vYP9dGrWzDqd"
      },
      "execution_count": 5,
      "outputs": []
    },
    {
      "cell_type": "code",
      "source": [
        "trainset = datasets.FashionMNIST(root='/content',\n",
        "                                 train=True, download=True,\n",
        "                                 transform=MNIST_transform)\n",
        "\n",
        "testset = datasets.FashionMNIST(root='/content',\n",
        "                                 train=False, download=True,\n",
        "                                 transform=MNIST_transform)"
      ],
      "metadata": {
        "id": "VpVsTevTWE5i",
        "colab": {
          "base_uri": "https://localhost:8080/",
          "height": 439,
          "referenced_widgets": [
            "d6ac3d3c42474c99911d736bada67de7",
            "a5805aed016a451abcc05f1263d68321",
            "aee0862c337c40aea3d9d31dca234d38",
            "be4439f52ec24b7ca5a07b7aa33ae2a0",
            "a1873980ba484397b7e5d5586a0088e0",
            "299a0ae6768147d4bf994024cb4015fb",
            "e30246e77d1445e29e8748f566b51d1a",
            "5d357d146b864c74b1c7c3f4ab51b5a8",
            "55eb0cdd6a1d4def8d126a19b51ca6bf",
            "606883e6aa024875b4a94287448bfe15",
            "5d53c5463e214c92816172986194bb3e",
            "bfead8758f734560946f10c8023c4fdb",
            "da04321d4ca04f3ca6f5190c070890f9",
            "f46258fe4a1f466cb85f0286530cd304",
            "efb8a302ebe345d49080f75c99d2428d",
            "69818b5bce754a949ee168fe105c0739",
            "2016408b0e764947bc8dc607690af074",
            "c36cb46378c640eba1e78f55186fcce3",
            "3ad03c110d804cecbec855bbe1600ec2",
            "62928c15ab7f4c99945eee8436fea611",
            "87ea822a1bd5454c87c6604e3353d716",
            "08359f769a344f2faf63958ba5342812",
            "8517d29539d14343b71cd4c8dd3a244d",
            "d311e47237c543ac91db407b9cadbe20",
            "763b072b6f2c481a939d8ded0181e08c",
            "bde7f9ed3d4e4132b7cd7bf911a5049d",
            "6956f3e9e87c458d9aa90f3fad3b4a48",
            "44a1e3784bf64ef48b9cac74ff71ff83",
            "fb3e66519c6546fdb8f26cde09847db5",
            "061dffd2d92d49e38a0ef8a890f3ef57",
            "5b9dd9f6dd2440159aadea7d19103289",
            "fd250950362b403cbef2e34a3dc00ffa",
            "f77892a059f24c35b75acaf0cf532039",
            "d04bb0b2516345d5a7f192da61e7f5ac",
            "40ebfd15b9a54ada8f5e1e9fd7f362db",
            "02fb8fee3d4b4193ad2362d04d055b17",
            "286de4b449374df29a8ffc2415757bd5",
            "5d993e92d7df4e44815a5979a7fb837e",
            "0ade0b86d60f4d3996c3363d3bdef2fe",
            "18a519b178484fe8899f2b7473dc0b8b",
            "fbe277974847446ca641d3473c85d6d9",
            "1cfafeb752b245b89b85acd3da87bd90",
            "a5293810ac5b4a2c904f367121496460",
            "f40ad5c6d55b4a04b0880510f7018f0e"
          ]
        },
        "outputId": "883bd817-906c-4c42-ba60-82b530b39274"
      },
      "execution_count": 6,
      "outputs": [
        {
          "output_type": "stream",
          "name": "stdout",
          "text": [
            "Downloading http://fashion-mnist.s3-website.eu-central-1.amazonaws.com/train-images-idx3-ubyte.gz\n",
            "Downloading http://fashion-mnist.s3-website.eu-central-1.amazonaws.com/train-images-idx3-ubyte.gz to /content/FashionMNIST/raw/train-images-idx3-ubyte.gz\n"
          ]
        },
        {
          "output_type": "display_data",
          "data": {
            "text/plain": [
              "  0%|          | 0/26421880 [00:00<?, ?it/s]"
            ],
            "application/vnd.jupyter.widget-view+json": {
              "version_major": 2,
              "version_minor": 0,
              "model_id": "d6ac3d3c42474c99911d736bada67de7"
            }
          },
          "metadata": {}
        },
        {
          "output_type": "stream",
          "name": "stdout",
          "text": [
            "Extracting /content/FashionMNIST/raw/train-images-idx3-ubyte.gz to /content/FashionMNIST/raw\n",
            "\n",
            "Downloading http://fashion-mnist.s3-website.eu-central-1.amazonaws.com/train-labels-idx1-ubyte.gz\n",
            "Downloading http://fashion-mnist.s3-website.eu-central-1.amazonaws.com/train-labels-idx1-ubyte.gz to /content/FashionMNIST/raw/train-labels-idx1-ubyte.gz\n"
          ]
        },
        {
          "output_type": "display_data",
          "data": {
            "text/plain": [
              "  0%|          | 0/29515 [00:00<?, ?it/s]"
            ],
            "application/vnd.jupyter.widget-view+json": {
              "version_major": 2,
              "version_minor": 0,
              "model_id": "bfead8758f734560946f10c8023c4fdb"
            }
          },
          "metadata": {}
        },
        {
          "output_type": "stream",
          "name": "stdout",
          "text": [
            "Extracting /content/FashionMNIST/raw/train-labels-idx1-ubyte.gz to /content/FashionMNIST/raw\n",
            "\n",
            "Downloading http://fashion-mnist.s3-website.eu-central-1.amazonaws.com/t10k-images-idx3-ubyte.gz\n",
            "Downloading http://fashion-mnist.s3-website.eu-central-1.amazonaws.com/t10k-images-idx3-ubyte.gz to /content/FashionMNIST/raw/t10k-images-idx3-ubyte.gz\n"
          ]
        },
        {
          "output_type": "display_data",
          "data": {
            "text/plain": [
              "  0%|          | 0/4422102 [00:00<?, ?it/s]"
            ],
            "application/vnd.jupyter.widget-view+json": {
              "version_major": 2,
              "version_minor": 0,
              "model_id": "8517d29539d14343b71cd4c8dd3a244d"
            }
          },
          "metadata": {}
        },
        {
          "output_type": "stream",
          "name": "stdout",
          "text": [
            "Extracting /content/FashionMNIST/raw/t10k-images-idx3-ubyte.gz to /content/FashionMNIST/raw\n",
            "\n",
            "Downloading http://fashion-mnist.s3-website.eu-central-1.amazonaws.com/t10k-labels-idx1-ubyte.gz\n",
            "Downloading http://fashion-mnist.s3-website.eu-central-1.amazonaws.com/t10k-labels-idx1-ubyte.gz to /content/FashionMNIST/raw/t10k-labels-idx1-ubyte.gz\n"
          ]
        },
        {
          "output_type": "display_data",
          "data": {
            "text/plain": [
              "  0%|          | 0/5148 [00:00<?, ?it/s]"
            ],
            "application/vnd.jupyter.widget-view+json": {
              "version_major": 2,
              "version_minor": 0,
              "model_id": "d04bb0b2516345d5a7f192da61e7f5ac"
            }
          },
          "metadata": {}
        },
        {
          "output_type": "stream",
          "name": "stdout",
          "text": [
            "Extracting /content/FashionMNIST/raw/t10k-labels-idx1-ubyte.gz to /content/FashionMNIST/raw\n",
            "\n"
          ]
        }
      ]
    },
    {
      "cell_type": "markdown",
      "source": [
        "input-data size 확인"
      ],
      "metadata": {
        "id": "qh7uI7ewsipv"
      }
    },
    {
      "cell_type": "code",
      "source": [
        "# batch-size=128\n",
        "train_loader128 =  DataLoader(trainset, batch_size=128, shuffle=True, num_workers=2)\n",
        "test_loader128 =  DataLoader(testset, batch_size=128, shuffle=False, num_workers=2)\n",
        "\n",
        "# batch-size=64\n",
        "train_loader64 =  DataLoader(trainset, batch_size=64, shuffle=True, num_workers=2)\n",
        "test_loader64 =  DataLoader(testset, batch_size=64, shuffle=False, num_workers=2)"
      ],
      "metadata": {
        "id": "Dz-CJf0x0nne"
      },
      "execution_count": 7,
      "outputs": []
    },
    {
      "cell_type": "code",
      "source": [
        "# 128 : batch-size\n",
        "# 1 : 흑백\n",
        "# 28x28 : pixel-size\n",
        "\n",
        "images128, labels128 = next(iter(train_loader128))\n",
        "images128.shape, labels128.shape"
      ],
      "metadata": {
        "id": "iy6D1Rg_07fD",
        "colab": {
          "base_uri": "https://localhost:8080/"
        },
        "outputId": "67abf152-8bca-4161-d766-6a6f70e82e69"
      },
      "execution_count": 8,
      "outputs": [
        {
          "output_type": "execute_result",
          "data": {
            "text/plain": [
              "(torch.Size([128, 1, 28, 28]), torch.Size([128]))"
            ]
          },
          "metadata": {},
          "execution_count": 8
        }
      ]
    },
    {
      "cell_type": "code",
      "source": [
        "# 64 : batch-size\n",
        "# 1 : 흑백\n",
        "# 28x28 : pixel-size\n",
        "\n",
        "images64, labels64 = next(iter(train_loader64))\n",
        "images64.shape, labels64.shape"
      ],
      "metadata": {
        "colab": {
          "base_uri": "https://localhost:8080/"
        },
        "id": "AotS6123m9sK",
        "outputId": "14032775-6890-4648-df08-03a00745d091"
      },
      "execution_count": 9,
      "outputs": [
        {
          "output_type": "execute_result",
          "data": {
            "text/plain": [
              "(torch.Size([64, 1, 28, 28]), torch.Size([64]))"
            ]
          },
          "metadata": {},
          "execution_count": 9
        }
      ]
    },
    {
      "cell_type": "code",
      "source": [
        "# 숫자 label에 해당되는 값\n",
        "\n",
        "labels_map = {\n",
        "    0: 'T-Shirt',\n",
        "    1: 'Trouser',\n",
        "    2: 'Pullover',\n",
        "    3: 'Dress',\n",
        "    4: 'Coat',\n",
        "    5: 'Sandal',\n",
        "    6: 'Shirt',\n",
        "    7: 'Sneaker',\n",
        "    8: 'Bag',\n",
        "    9: 'Ankle Boot'\n",
        "}"
      ],
      "metadata": {
        "id": "g4Nd4uLGTEDy"
      },
      "execution_count": 10,
      "outputs": []
    },
    {
      "cell_type": "code",
      "source": [
        "# 데이터 확인\n",
        "\n",
        "figure = plt.figure(figsize=(12,12))\n",
        "cols, rows = 4, 1\n",
        "\n",
        "for i in range(1, cols * rows + 1):\n",
        "    image = images128[i].squeeze()\n",
        "    label_idx = labels128[i].item() # y_label\n",
        "    label = labels_map[label_idx] # 위에서 해당되는 label\n",
        "\n",
        "    figure.add_subplot(rows, cols, i)\n",
        "    plt.title(label)\n",
        "    plt.axis('off')\n",
        "    plt.imshow(image, cmap='gray')\n",
        "\n",
        "plt.show()"
      ],
      "metadata": {
        "id": "_u5_UEAH09SB",
        "colab": {
          "base_uri": "https://localhost:8080/",
          "height": 191
        },
        "outputId": "da76d603-0036-4b9e-c493-c8ed013b31d6"
      },
      "execution_count": 11,
      "outputs": [
        {
          "output_type": "display_data",
          "data": {
            "text/plain": [
              "<Figure size 864x864 with 4 Axes>"
            ],
            "image/png": "[encoded data removed]"
          },
          "metadata": {}
        }
      ]
    },
    {
      "cell_type": "markdown",
      "source": [
        "## 모델 1 생성\n",
        "* 10개의 convolution-layer(Conv2d)와 2개의 fully-connected(fc)로 이루어진 모델\n",
        "* Total params: 28,784"
      ],
      "metadata": {
        "id": "EFPYE3UUnpmX"
      }
    },
    {
      "cell_type": "markdown",
      "source": [
        "input-data size\n",
        "* train_loader128(batch-size;128) : 128, 1, 28, 28\n",
        "* train_loader64(batch-size;64) : 64, 1, 28, 28\n",
        "\n",
        "\n",
        "구현해야하는 모델 정보<br>\n",
        "* convolution-layer 1\n",
        "* maxpooling-layer\n",
        "* convolution-layer 2\n",
        "* convolution-layer 3\n",
        "* convolution-layer 4\n",
        "* convolution-layer 5\n",
        "* convolution-layer 6\n",
        "* convolution-layer 7\n",
        "* convolution-layer 8\n",
        "* convolution-layer 9\n",
        "* maxpooling-layer\n",
        "* convolution-layer 10\n",
        "* flatten\n",
        "* fc1\n",
        "* fc2\n",
        "\n",
        "추가 정보\n",
        "* 활성화함수 : relu\n",
        "(단, maxpooling과 마지막 fc2에는 보통적으로 활성화함수를 사용하지 않는다.)\n",
        "* flatten의 경우, weights가 들어가지 않는다. 즉, layer라고는 볼 수 없다.\n",
        "\n",
        "모델의 layer를 통과함에 따라 데이터의 크기 변화는 다음과 같다.\n",
        "1. batch-size128 -> torch.Size([128, 1, 28, 28]) 으로 시작\n",
        "2. batch-size;64 -> torch.Size([64, 1, 28, 28]) 으로 시작\n",
        "> * torch.Size([128 or 64, 5, 30, 30])\n",
        "> * torch.Size([128 or 64, 5, 15, 15])\n",
        "> * torch.Size([128 or 64, 7, 15, 15])\n",
        "> * torch.Size([128 or 64, 16, 16, 16])\n",
        "> * torch.Size([128 or 64, 19, 15, 15])\n",
        "> * torch.Size([128 or 64, 29, 13, 13])\n",
        "> * torch.Size([128 or 64, 29, 14, 14])\n",
        "> * torch.Size([128 or 64, 6, 12, 12])\n",
        "> * torch.Size([128 or 64, 2, 12, 12])\n",
        "> * torch.Size([128 or 64, 10, 7, 7])\n",
        "> * torch.Size([128 or 64, 20, 7, 7])\n",
        "> * torch.Size([128 or 64, 20, 3, 3])\n",
        "> * torch.Size([128 or 64, 180])\n",
        "> * torch.Size([128 or 64, 86])\n",
        "> * torch.Size([128 or 64, 10]) "
      ],
      "metadata": {
        "id": "orF-z9choFaB"
      }
    },
    {
      "cell_type": "code",
      "source": [
        "class CNN_Model1(nn.Module):\n",
        "    def __init__(self):\n",
        "        super(CNN_Model1, self).__init__()\n",
        "\n",
        "\n",
        "\n",
        "        self.conv1 = nn.Conv2d(in_channels=1, out_channels=5, kernel_size=3, stride=1, padding=2)\n",
        "        # in-channels = 1 <- 흑/백\n",
        "        # out-channels = 5\n",
        "        # kernel_size / filter-size = 3\n",
        "        # stride = 1(default) -> s=1\n",
        "        # padding = 2(default) -> p=2\n",
        "        # input-data pixel size = 28x28 -> n=28\n",
        "        # (n-f+2p)/s + 1 = new n\n",
        "        # (28-3+2x2)/1 + 1 = 30\n",
        "    \n",
        "        # maxpool : n=30 -> 15\n",
        "\n",
        "        self.conv2 = nn.Conv2d(in_channels=5, out_channels=7, kernel_size=3, stride=1, padding=1)\n",
        "        # in-channels = 5 <- 이전것의 out-channels\n",
        "        # out-channels = 7\n",
        "        # filter-size = 3\n",
        "        # stride = 1(default)\n",
        "        # padding = 1\n",
        "        # (n-f+2p)/s + 1 = new n    \n",
        "        # (15-3+2x1)/1 + 1 = 15\n",
        "\n",
        "        self.conv3 = nn.Conv2d(in_channels=7 , out_channels=16 , kernel_size=2 , stride=1 , padding=1 )\n",
        "        # in-channels = 7 <- 이전것의 out-channels\n",
        "        # out-channels = 16\n",
        "        # filter-size = 2\n",
        "        # stride = 1(default)\n",
        "        # padding = 1\n",
        "        # (n-f+2p)/s + 1 = new n    \n",
        "        # (15-2+2x1)/1 + 1 = 16\n",
        "\n",
        "        self.conv4 = nn.Conv2d(in_channels=16 , out_channels=19 , kernel_size=2 , stride=1 , padding=0 )\n",
        "        # in-channels = 16 <- 이전것의 out-channels\n",
        "        # out-channels = 19\n",
        "        # filter-size = 2\n",
        "        # stride = 1(default)\n",
        "        # padding = 0\n",
        "        # (n-f+2p)/s + 1 = new n    \n",
        "        # (16-2+2x0)/1 + 1 = 15\n",
        "\n",
        "        self.conv5 = nn.Conv2d(in_channels=19 , out_channels=29 , kernel_size=3 , stride=1 , padding=0 )\n",
        "        # in-channels = 19 <- 이전것의 out-channels\n",
        "        # out-channels = 29\n",
        "        # filter-size = 3\n",
        "        # stride = 1(default)\n",
        "        # padding = 0\n",
        "        # (n-f+2p)/s + 1 = new n    \n",
        "        # (15-3+2x0)/1 + 1 = 13\n",
        "\n",
        "        self.conv6 = nn.Conv2d(in_channels=29 , out_channels=29 , kernel_size=2 , stride=1 , padding=1 )\n",
        "        # in-channels = 29 <- 이전것의 out-channels\n",
        "        # out-channels = 29\n",
        "        # filter-size = 2\n",
        "        # stride = 1(default)\n",
        "        # padding = 1\n",
        "        # (n-f+2p)/s + 1 = new n    \n",
        "        # (13-2+2x1)/1 + 1 = 14\n",
        "\n",
        "        self.conv7 = nn.Conv2d(in_channels=29 , out_channels=6 , kernel_size=3 , stride=1 , padding=0 )\n",
        "        # in-channels = 29 <- 이전것의 out-channels\n",
        "        # out-channels = 6\n",
        "        # filter-size = 2\n",
        "        # stride = 1(default)\n",
        "        # padding = 1\n",
        "        # (n-f+2p)/s + 1 = new n    \n",
        "        # (14-3+2x0)/1 + 1 = 12\n",
        "\n",
        "        self.conv8 = nn.Conv2d(in_channels=6 , out_channels=2 , kernel_size=1 , stride=1 , padding=0 )\n",
        "        # in-channels = 6 <- 이전것의 out-channels\n",
        "        # out-channels = 2\n",
        "        # filter-size = 1\n",
        "        # stride = 1(default)\n",
        "        # padding = 0\n",
        "        # (n-f+2p)/s + 1 = new n    \n",
        "        # (12-1+2x0)/1 + 1 = 12\n",
        "\n",
        "        self.conv9 = nn.Conv2d(in_channels=2 , out_channels=10 , kernel_size=2 , stride=2 , padding=1 )\n",
        "        # in-channels = 2 <- 이전것의 out-channels\n",
        "        # out-channels = 10\n",
        "        # filter-size = 2\n",
        "        # stride = 2\n",
        "        # padding = 1\n",
        "        # (n-f+2p)/s + 1 = new n    \n",
        "        # (12-2+2x1)/2 + 1 = 7\n",
        "\n",
        "        # # maxpool : n=7 -> 3\n",
        "        # 참고\n",
        "        # MaxPooling2D 에 padding 이라는 옵션이 있습니다.\n",
        "        # 기본값은 \"valid\" 인데요. padding 값이 \"valid\" 인 경우에는 끝에 남는 모서리 부분이 pool_size 와 맞지 않을 경우 그냥 무시합니다.\n",
        "        # padding 값을 \"same\" 으로 설정하면, zero padding 을 추가하여 사이즈를 맞춘 뒤 처리를 하게 됩니다.\n",
        "\n",
        "        self.conv10 = nn.Conv2d(in_channels=10 , out_channels=20 , kernel_size=1 , stride=1 , padding=0 )\n",
        "        # in-channels = 10 <- 이전것의 out-channels\n",
        "        # out-channels = 20\n",
        "        # filter-size = 1\n",
        "        # stride = 1\n",
        "        # padding = 1\n",
        "        # (n-f+2p)/s + 1 = new n    \n",
        "        # (3-1+2x0)/1 + 1 = 3\n",
        "\n",
        "        self.fc1 = nn.Linear(20*3*3, 86)\n",
        "        self.fc2 = nn.Linear(86, 10)\n",
        "\n",
        "    def forward(self, x):\n",
        "       \n",
        "        x = F.relu(self.conv1(x))\n",
        "        x = F.max_pool2d(x, 2)\n",
        "        x = F.relu(self.conv2(x))\n",
        "        x = F.relu(self.conv3(x))\n",
        "        x = F.relu(self.conv4(x))\n",
        "        x = F.relu(self.conv5(x))\n",
        "        x = F.relu(self.conv6(x))\n",
        "        x = F.relu(self.conv7(x))\n",
        "        x = F.relu(self.conv8(x))\n",
        "        x = F.relu(self.conv9(x))\n",
        "        x = F.max_pool2d(x, 2)\n",
        "        x = F.relu(self.conv10(x))\n",
        "\n",
        "        x = x.view(-1, self.num_flat_features(x)) # num_flat_features : 아래에서 정의\n",
        "\n",
        "        x = F.relu(self.fc1(x))\n",
        "        x = self.fc2(x)\n",
        "\n",
        "        return x\n",
        "    \n",
        "    def num_flat_features(self, x): # 처음 dim-size을 제외하고, 모두 곱한 값을 반환해준다.\n",
        "        size = x.size()[1:]\n",
        "        num_features = 1\n",
        "        for s in size:\n",
        "            num_features *= s\n",
        "        \n",
        "        return num_features"
      ],
      "metadata": {
        "id": "EedVZU7Knv0X"
      },
      "execution_count": 12,
      "outputs": []
    },
    {
      "cell_type": "code",
      "source": [
        "# 모델객체 생성\n",
        "DeepConv_net128 = CNN_Model1().to(device)\n",
        "DeepConv_net64 = CNN_Model1().to(device)\n",
        "\n",
        "print(DeepConv_net128)"
      ],
      "metadata": {
        "colab": {
          "base_uri": "https://localhost:8080/"
        },
        "id": "RiMZ7sX6oDn3",
        "outputId": "89746d8f-37b8-45e3-f63a-5502d3ea86d2"
      },
      "execution_count": 13,
      "outputs": [
        {
          "output_type": "stream",
          "name": "stdout",
          "text": [
            "CNN_Model1(\n",
            "  (conv1): Conv2d(1, 5, kernel_size=(3, 3), stride=(1, 1), padding=(2, 2))\n",
            "  (conv2): Conv2d(5, 7, kernel_size=(3, 3), stride=(1, 1), padding=(1, 1))\n",
            "  (conv3): Conv2d(7, 16, kernel_size=(2, 2), stride=(1, 1), padding=(1, 1))\n",
            "  (conv4): Conv2d(16, 19, kernel_size=(2, 2), stride=(1, 1))\n",
            "  (conv5): Conv2d(19, 29, kernel_size=(3, 3), stride=(1, 1))\n",
            "  (conv6): Conv2d(29, 29, kernel_size=(2, 2), stride=(1, 1), padding=(1, 1))\n",
            "  (conv7): Conv2d(29, 6, kernel_size=(3, 3), stride=(1, 1))\n",
            "  (conv8): Conv2d(6, 2, kernel_size=(1, 1), stride=(1, 1))\n",
            "  (conv9): Conv2d(2, 10, kernel_size=(2, 2), stride=(2, 2), padding=(1, 1))\n",
            "  (conv10): Conv2d(10, 20, kernel_size=(1, 1), stride=(1, 1))\n",
            "  (fc1): Linear(in_features=180, out_features=86, bias=True)\n",
            "  (fc2): Linear(in_features=86, out_features=10, bias=True)\n",
            ")\n"
          ]
        }
      ]
    },
    {
      "cell_type": "code",
      "source": [
        "input = images128.to(device)\n",
        "input.size()"
      ],
      "metadata": {
        "colab": {
          "base_uri": "https://localhost:8080/"
        },
        "id": "8gBjDmoc7fJh",
        "outputId": "b9544b53-8c44-450c-f4c5-739ad7ff9672"
      },
      "execution_count": 14,
      "outputs": [
        {
          "output_type": "execute_result",
          "data": {
            "text/plain": [
              "torch.Size([128, 1, 28, 28])"
            ]
          },
          "metadata": {},
          "execution_count": 14
        }
      ]
    },
    {
      "cell_type": "code",
      "source": [
        "output = DeepConv_net128.forward(input)\n",
        "output.size()"
      ],
      "metadata": {
        "colab": {
          "base_uri": "https://localhost:8080/"
        },
        "id": "tflPlTme7h9x",
        "outputId": "e0d228c1-e7cc-4850-fd7f-b0ab340f9537"
      },
      "execution_count": 15,
      "outputs": [
        {
          "output_type": "execute_result",
          "data": {
            "text/plain": [
              "torch.Size([128, 10])"
            ]
          },
          "metadata": {},
          "execution_count": 15
        }
      ]
    },
    {
      "cell_type": "code",
      "source": [
        "summary(DeepConv_net128, input_size=(1, 28, 28), batch_size=128)"
      ],
      "metadata": {
        "colab": {
          "base_uri": "https://localhost:8080/"
        },
        "id": "DSH3qCADujAi",
        "outputId": "a996703d-298e-4e41-a54b-a83663364c15"
      },
      "execution_count": 16,
      "outputs": [
        {
          "output_type": "stream",
          "name": "stdout",
          "text": [
            "----------------------------------------------------------------\n",
            "        Layer (type)               Output Shape         Param #\n",
            "================================================================\n",
            "            Conv2d-1           [128, 5, 30, 30]              50\n",
            "            Conv2d-2           [128, 7, 15, 15]             322\n",
            "            Conv2d-3          [128, 16, 16, 16]             464\n",
            "            Conv2d-4          [128, 19, 15, 15]           1,235\n",
            "            Conv2d-5          [128, 29, 13, 13]           4,988\n",
            "            Conv2d-6          [128, 29, 14, 14]           3,393\n",
            "            Conv2d-7           [128, 6, 12, 12]           1,572\n",
            "            Conv2d-8           [128, 2, 12, 12]              14\n",
            "            Conv2d-9            [128, 10, 7, 7]              90\n",
            "           Conv2d-10            [128, 20, 3, 3]             220\n",
            "           Linear-11                  [128, 86]          15,566\n",
            "           Linear-12                  [128, 10]             870\n",
            "================================================================\n",
            "Total params: 28,784\n",
            "Trainable params: 28,784\n",
            "Non-trainable params: 0\n",
            "----------------------------------------------------------------\n",
            "Input size (MB): 0.38\n",
            "Forward/backward pass size (MB): 26.32\n",
            "Params size (MB): 0.11\n",
            "Estimated Total Size (MB): 26.81\n",
            "----------------------------------------------------------------\n"
          ]
        }
      ]
    },
    {
      "cell_type": "code",
      "source": [
        "input = images64.to(device)\n",
        "input.size()"
      ],
      "metadata": {
        "colab": {
          "base_uri": "https://localhost:8080/"
        },
        "outputId": "fe8f1a29-19b3-453c-d537-911b3c8d6f9f",
        "id": "jcybKk5Nvj4Z"
      },
      "execution_count": 17,
      "outputs": [
        {
          "output_type": "execute_result",
          "data": {
            "text/plain": [
              "torch.Size([64, 1, 28, 28])"
            ]
          },
          "metadata": {},
          "execution_count": 17
        }
      ]
    },
    {
      "cell_type": "code",
      "source": [
        "output = DeepConv_net64.forward(input)\n",
        "output.size()"
      ],
      "metadata": {
        "colab": {
          "base_uri": "https://localhost:8080/"
        },
        "outputId": "9c53962d-f58b-459b-b1f9-2a0f1af0941f",
        "id": "y2PZCHyyvj4a"
      },
      "execution_count": 18,
      "outputs": [
        {
          "output_type": "execute_result",
          "data": {
            "text/plain": [
              "torch.Size([64, 10])"
            ]
          },
          "metadata": {},
          "execution_count": 18
        }
      ]
    },
    {
      "cell_type": "code",
      "source": [
        "summary(DeepConv_net64, input_size=(1, 28, 28), batch_size=64)"
      ],
      "metadata": {
        "colab": {
          "base_uri": "https://localhost:8080/"
        },
        "id": "uh1pmRXcvZP8",
        "outputId": "9395d599-cb60-4083-a0f2-c8174c1d43fd"
      },
      "execution_count": 19,
      "outputs": [
        {
          "output_type": "stream",
          "name": "stdout",
          "text": [
            "----------------------------------------------------------------\n",
            "        Layer (type)               Output Shape         Param #\n",
            "================================================================\n",
            "            Conv2d-1            [64, 5, 30, 30]              50\n",
            "            Conv2d-2            [64, 7, 15, 15]             322\n",
            "            Conv2d-3           [64, 16, 16, 16]             464\n",
            "            Conv2d-4           [64, 19, 15, 15]           1,235\n",
            "            Conv2d-5           [64, 29, 13, 13]           4,988\n",
            "            Conv2d-6           [64, 29, 14, 14]           3,393\n",
            "            Conv2d-7            [64, 6, 12, 12]           1,572\n",
            "            Conv2d-8            [64, 2, 12, 12]              14\n",
            "            Conv2d-9             [64, 10, 7, 7]              90\n",
            "           Conv2d-10             [64, 20, 3, 3]             220\n",
            "           Linear-11                   [64, 86]          15,566\n",
            "           Linear-12                   [64, 10]             870\n",
            "================================================================\n",
            "Total params: 28,784\n",
            "Trainable params: 28,784\n",
            "Non-trainable params: 0\n",
            "----------------------------------------------------------------\n",
            "Input size (MB): 0.19\n",
            "Forward/backward pass size (MB): 13.16\n",
            "Params size (MB): 0.11\n",
            "Estimated Total Size (MB): 13.46\n",
            "----------------------------------------------------------------\n"
          ]
        }
      ]
    },
    {
      "cell_type": "markdown",
      "source": [
        "## 모델 2 생성\n",
        "* 2개의 convolution-layer(Conv2d)와 5개의 fully-connected(fc)로 이루어진 모델\n",
        "* Total params: 9,516,488"
      ],
      "metadata": {
        "id": "xVxKI_rwCvhI"
      }
    },
    {
      "cell_type": "markdown",
      "source": [
        "input-data size\n",
        "* train_loader128(batch-size;128) : 128, 1, 28, 28\n",
        "* train_loader64(batch-size;64) : 64, 1, 28, 28\n",
        "\n",
        "\n",
        "구현해야하는 모델 정보<br>\n",
        "* convolution-layer 1\n",
        "* maxpooling-layer\n",
        "* convolution-layer 2\n",
        "* flatten\n",
        "* fc1\n",
        "* fc2\n",
        "* fc3\n",
        "* fc4\n",
        "* fc5\n",
        "\n",
        "추가 정보\n",
        "* 활성화함수 : relu\n",
        "(단, maxpooling과 마지막 fc5에는 보통적으로 활성화함수를 사용하지 않는다.)\n",
        "* flatten의 경우, weights가 들어가지 않는다. 즉, layer라고는 볼 수 없다.\n",
        "\n",
        "모델의 layer를 통과함에 따라 데이터의 크기 변화는 다음과 같다.\n",
        "\n",
        "1. batch-size128 -> torch.Size([128, 1, 28, 28]) 으로 시작\n",
        "2. batch-size;64 -> torch.Size([64, 1, 28, 28]) 으로 시작\n",
        "> * torch.Size([128 or 64, 5, 30, 30])\n",
        "> * torch.Size([128 or 64, 5, 15, 15])\n",
        "> * torch.Size([128 or 64, 7, 15, 15])\n",
        "> * torch.Size([128 or 64, 1575])\n",
        "> * torch.Size([128 or 64, 3000])\n",
        "> * torch.Size([128 or 64, 1500])\n",
        "> * torch.Size([128 or 64, 180])\n",
        "> * torch.Size([128 or 64, 86])\n",
        "> * torch.Size([128 or 64, 10])"
      ],
      "metadata": {
        "id": "uN5s0Re-CvhI"
      }
    },
    {
      "cell_type": "code",
      "source": [
        "class CNN_Model2(nn.Module):\n",
        "    def __init__(self):\n",
        "        super(CNN_Model2, self).__init__()\n",
        "\n",
        "        self.conv1 = nn.Conv2d(in_channels=1, out_channels=5, kernel_size=3, stride=1, padding=2)\n",
        "        # in-channels = 1 <- 이전것의 out-channels\n",
        "        # out-channels = 5\n",
        "        # filter-size = 3\n",
        "        # stride = 1\n",
        "        # padding = 2\n",
        "        # (n-f+2p)/s + 1 = new n    \n",
        "        # (28-3+2x2)/1 + 1 = 30\n",
        "\n",
        "        # maxpool : n=30 -> 15\n",
        "\n",
        "        self.conv2 = nn.Conv2d(in_channels=5, out_channels=7, kernel_size=3, stride=1, padding=1)\n",
        "        # in-channels = 5 <- 이전것의 out-channels\n",
        "        # out-channels = 7\n",
        "        # filter-size = 3\n",
        "        # stride = 1\n",
        "        # padding = 1\n",
        "        # (n-f+2p)/s + 1 = new n    \n",
        "        # (15-3+2x1)/1 + 1 = 15\n",
        "\n",
        "        self.fc1 = nn.Linear(7*15*15, 3000)\n",
        "        self.fc2 = nn.Linear(3000, 1500)\n",
        "        self.fc3 = nn.Linear(1500, 180)\n",
        "        self.fc4 = nn.Linear(180, 86)\n",
        "        self.fc5 = nn.Linear(86, 10)\n",
        "\n",
        "    def forward(self, x):\n",
        "        x = F.relu(self.conv1(x))\n",
        "        x = F.max_pool2d(x, 2)\n",
        "        x = F.relu(self.conv2(x))\n",
        "\n",
        "        x = x.view(-1, self.num_flat_features(x))\n",
        "\n",
        "        x = F.relu(self.fc1(x))\n",
        "        x = F.relu(self.fc2(x))\n",
        "        x = F.relu(self.fc3(x))\n",
        "        x = F.relu(self.fc4(x))\n",
        "        x = self.fc5(x)\n",
        "        return x\n",
        "    \n",
        "    def num_flat_features(self, x): # 처음 dim-size을 제외하고, 모두 곱한 값을 반환해준다.\n",
        "        size = x.size()[1:]\n",
        "        num_features = 1\n",
        "        for s in size:\n",
        "            num_features *= s\n",
        "        \n",
        "        return num_features"
      ],
      "metadata": {
        "id": "JfSM-k0DCvhI"
      },
      "execution_count": 20,
      "outputs": []
    },
    {
      "cell_type": "code",
      "source": [
        "# 모델객체 생성\n",
        "DeepFC_net128 = CNN_Model2().to(device)\n",
        "DeepFC_net64 = CNN_Model2().to(device)\n",
        "\n",
        "print(DeepFC_net128)"
      ],
      "metadata": {
        "colab": {
          "base_uri": "https://localhost:8080/"
        },
        "outputId": "d15df402-9752-41e2-a5f5-b57f69457f32",
        "id": "QQ_AnPi5CvhI"
      },
      "execution_count": 21,
      "outputs": [
        {
          "output_type": "stream",
          "name": "stdout",
          "text": [
            "CNN_Model2(\n",
            "  (conv1): Conv2d(1, 5, kernel_size=(3, 3), stride=(1, 1), padding=(2, 2))\n",
            "  (conv2): Conv2d(5, 7, kernel_size=(3, 3), stride=(1, 1), padding=(1, 1))\n",
            "  (fc1): Linear(in_features=1575, out_features=3000, bias=True)\n",
            "  (fc2): Linear(in_features=3000, out_features=1500, bias=True)\n",
            "  (fc3): Linear(in_features=1500, out_features=180, bias=True)\n",
            "  (fc4): Linear(in_features=180, out_features=86, bias=True)\n",
            "  (fc5): Linear(in_features=86, out_features=10, bias=True)\n",
            ")\n"
          ]
        }
      ]
    },
    {
      "cell_type": "code",
      "source": [
        "input = images128.to(device)\n",
        "input.size()"
      ],
      "metadata": {
        "colab": {
          "base_uri": "https://localhost:8080/"
        },
        "outputId": "28a2d7d9-8f70-47b4-dc82-525db936c134",
        "id": "S9IVOG3pwgoS"
      },
      "execution_count": 22,
      "outputs": [
        {
          "output_type": "execute_result",
          "data": {
            "text/plain": [
              "torch.Size([128, 1, 28, 28])"
            ]
          },
          "metadata": {},
          "execution_count": 22
        }
      ]
    },
    {
      "cell_type": "code",
      "source": [
        "output = DeepFC_net128.forward(input)\n",
        "output.size()"
      ],
      "metadata": {
        "colab": {
          "base_uri": "https://localhost:8080/"
        },
        "outputId": "74457378-1bfd-4599-9c0d-acf967a4686e",
        "id": "p4ydm5qCwgoT"
      },
      "execution_count": 23,
      "outputs": [
        {
          "output_type": "execute_result",
          "data": {
            "text/plain": [
              "torch.Size([128, 10])"
            ]
          },
          "metadata": {},
          "execution_count": 23
        }
      ]
    },
    {
      "cell_type": "code",
      "source": [
        "summary(DeepFC_net128, input_size=(1, 28, 28), batch_size=128)"
      ],
      "metadata": {
        "colab": {
          "base_uri": "https://localhost:8080/"
        },
        "outputId": "9441dd62-9e77-480c-fd7b-230bca5219a6",
        "id": "Q3uN6Dw6wgoT"
      },
      "execution_count": 24,
      "outputs": [
        {
          "output_type": "stream",
          "name": "stdout",
          "text": [
            "----------------------------------------------------------------\n",
            "        Layer (type)               Output Shape         Param #\n",
            "================================================================\n",
            "            Conv2d-1           [128, 5, 30, 30]              50\n",
            "            Conv2d-2           [128, 7, 15, 15]             322\n",
            "            Linear-3                [128, 3000]       4,728,000\n",
            "            Linear-4                [128, 1500]       4,501,500\n",
            "            Linear-5                 [128, 180]         270,180\n",
            "            Linear-6                  [128, 86]          15,566\n",
            "            Linear-7                  [128, 10]             870\n",
            "================================================================\n",
            "Total params: 9,516,488\n",
            "Trainable params: 9,516,488\n",
            "Non-trainable params: 0\n",
            "----------------------------------------------------------------\n",
            "Input size (MB): 0.38\n",
            "Forward/backward pass size (MB): 10.60\n",
            "Params size (MB): 36.30\n",
            "Estimated Total Size (MB): 47.28\n",
            "----------------------------------------------------------------\n"
          ]
        }
      ]
    },
    {
      "cell_type": "code",
      "source": [
        "input = images64.to(device)\n",
        "input.size()"
      ],
      "metadata": {
        "colab": {
          "base_uri": "https://localhost:8080/"
        },
        "outputId": "b1a3e0e8-4fd8-443c-f2b6-d6c1d82a8a36",
        "id": "d9t36x7bwgoT"
      },
      "execution_count": 25,
      "outputs": [
        {
          "output_type": "execute_result",
          "data": {
            "text/plain": [
              "torch.Size([64, 1, 28, 28])"
            ]
          },
          "metadata": {},
          "execution_count": 25
        }
      ]
    },
    {
      "cell_type": "code",
      "source": [
        "output = DeepFC_net64.forward(input)\n",
        "output.size()"
      ],
      "metadata": {
        "colab": {
          "base_uri": "https://localhost:8080/"
        },
        "outputId": "36f051ea-3a16-461b-b5e9-c45f8c22f442",
        "id": "GFHweMakwgoT"
      },
      "execution_count": 26,
      "outputs": [
        {
          "output_type": "execute_result",
          "data": {
            "text/plain": [
              "torch.Size([64, 10])"
            ]
          },
          "metadata": {},
          "execution_count": 26
        }
      ]
    },
    {
      "cell_type": "code",
      "source": [
        "summary(DeepFC_net64, input_size=(1, 28, 28), batch_size=64)"
      ],
      "metadata": {
        "colab": {
          "base_uri": "https://localhost:8080/"
        },
        "outputId": "5cf57bb7-e050-4991-8c29-b39a33232a9d",
        "id": "2VIZ4WCCwgoT"
      },
      "execution_count": 27,
      "outputs": [
        {
          "output_type": "stream",
          "name": "stdout",
          "text": [
            "----------------------------------------------------------------\n",
            "        Layer (type)               Output Shape         Param #\n",
            "================================================================\n",
            "            Conv2d-1            [64, 5, 30, 30]              50\n",
            "            Conv2d-2            [64, 7, 15, 15]             322\n",
            "            Linear-3                 [64, 3000]       4,728,000\n",
            "            Linear-4                 [64, 1500]       4,501,500\n",
            "            Linear-5                  [64, 180]         270,180\n",
            "            Linear-6                   [64, 86]          15,566\n",
            "            Linear-7                   [64, 10]             870\n",
            "================================================================\n",
            "Total params: 9,516,488\n",
            "Trainable params: 9,516,488\n",
            "Non-trainable params: 0\n",
            "----------------------------------------------------------------\n",
            "Input size (MB): 0.19\n",
            "Forward/backward pass size (MB): 5.30\n",
            "Params size (MB): 36.30\n",
            "Estimated Total Size (MB): 41.79\n",
            "----------------------------------------------------------------\n"
          ]
        }
      ]
    },
    {
      "cell_type": "markdown",
      "source": [
        "## 손실함수와 옵티마이저"
      ],
      "metadata": {
        "id": "klpXGc2tCimP"
      }
    },
    {
      "cell_type": "code",
      "source": [
        "criterion = nn.CrossEntropyLoss()\n",
        "\n",
        "optimizerDC_128 = optim.SGD(DeepConv_net128.parameters(), lr=0.001, momentum=0.9)\n",
        "optimizerDC_64 = optim.SGD(DeepConv_net64.parameters(), lr=0.001, momentum=0.9)\n",
        "optimizerFC_128 = optim.SGD(DeepFC_net128.parameters(), lr=0.001, momentum=0.9)\n",
        "optimizerFC_64 = optim.SGD(DeepFC_net64.parameters(), lr=0.001, momentum=0.9)"
      ],
      "metadata": {
        "id": "69AHX-ZXClOm"
      },
      "execution_count": 28,
      "outputs": []
    },
    {
      "cell_type": "markdown",
      "source": [
        "## 모델 학습"
      ],
      "metadata": {
        "id": "huNh3EnhJLyh"
      }
    },
    {
      "cell_type": "markdown",
      "source": [
        "### 1. DeepConv_net128\n",
        "* 10개의 Convolution-layer & 2개의 fc-layer\n",
        "* 128 batch-size"
      ],
      "metadata": {
        "id": "W-2Q7c6-JW9z"
      }
    },
    {
      "cell_type": "code",
      "source": [
        "for epoch in range(10):\n",
        "\n",
        "    running_loss = 0.0\n",
        "\n",
        "    for i, data in enumerate(train_loader128, start=0):\n",
        "        inputs, labels = data[0].to(device), data[1].to(device)\n",
        "\n",
        "        optimizerDC_128.zero_grad() # epoch마다 gradient 0으로 초기화\n",
        "\n",
        "        outputs = DeepConv_net128(inputs) # y_pred = f(X)\n",
        "        loss = criterion(outputs, labels) # CrossEntropyLoss; 0~1 사이값\n",
        "        loss.backward() # back-propagation; gradient 계산\n",
        "        optimizerDC_128.step() # parameters(weights) update\n",
        "\n",
        "        running_loss += loss.item() # 그냥 전체적인 비교를 위해 누적함\n",
        "\n",
        "        if i % 100 == 99: # 100번 마다 확인; epoch=10, iter(=i)=469, batch=128\n",
        "            print('Epoch: {}, Iter: {}, Loss: {}'.format(epoch+1, i+1, running_loss/2000))\n",
        "            running_loss = 0.0"
      ],
      "metadata": {
        "colab": {
          "base_uri": "https://localhost:8080/"
        },
        "id": "y-_UvdNWJR-r",
        "outputId": "17b8098a-80f6-4ba0-f53c-87dfa69ce110"
      },
      "execution_count": 29,
      "outputs": [
        {
          "output_type": "stream",
          "name": "stdout",
          "text": [
            "Epoch: 1, Iter: 100, Loss: 0.11519824111461639\n",
            "Epoch: 1, Iter: 200, Loss: 0.11520390629768372\n",
            "Epoch: 1, Iter: 300, Loss: 0.11518528211116791\n",
            "Epoch: 1, Iter: 400, Loss: 0.11515590035915375\n",
            "Epoch: 2, Iter: 100, Loss: 0.1151451290845871\n",
            "Epoch: 2, Iter: 200, Loss: 0.11513888597488403\n",
            "Epoch: 2, Iter: 300, Loss: 0.11513920509815216\n",
            "Epoch: 2, Iter: 400, Loss: 0.11513908767700196\n",
            "Epoch: 3, Iter: 100, Loss: 0.11512407422065735\n",
            "Epoch: 3, Iter: 200, Loss: 0.11514081263542175\n",
            "Epoch: 3, Iter: 300, Loss: 0.11513099706172943\n",
            "Epoch: 3, Iter: 400, Loss: 0.11513449466228486\n",
            "Epoch: 4, Iter: 100, Loss: 0.11513306295871735\n",
            "Epoch: 4, Iter: 200, Loss: 0.11512979018688202\n",
            "Epoch: 4, Iter: 300, Loss: 0.11513272738456726\n",
            "Epoch: 4, Iter: 400, Loss: 0.11513443577289581\n",
            "Epoch: 5, Iter: 100, Loss: 0.11512869501113891\n",
            "Epoch: 5, Iter: 200, Loss: 0.11513330805301666\n",
            "Epoch: 5, Iter: 300, Loss: 0.11513372957706451\n",
            "Epoch: 5, Iter: 400, Loss: 0.11513219380378723\n",
            "Epoch: 6, Iter: 100, Loss: 0.11512929320335388\n",
            "Epoch: 6, Iter: 200, Loss: 0.11513272738456726\n",
            "Epoch: 6, Iter: 300, Loss: 0.11513207697868347\n",
            "Epoch: 6, Iter: 400, Loss: 0.11513456010818482\n",
            "Epoch: 7, Iter: 100, Loss: 0.11513162970542908\n",
            "Epoch: 7, Iter: 200, Loss: 0.11513246989250184\n",
            "Epoch: 7, Iter: 300, Loss: 0.11513220345973968\n",
            "Epoch: 7, Iter: 400, Loss: 0.11513253355026246\n",
            "Epoch: 8, Iter: 100, Loss: 0.11513009572029113\n",
            "Epoch: 8, Iter: 200, Loss: 0.11513389384746552\n",
            "Epoch: 8, Iter: 300, Loss: 0.11513134121894836\n",
            "Epoch: 8, Iter: 400, Loss: 0.11513239467144012\n",
            "Epoch: 9, Iter: 100, Loss: 0.11513216960430145\n",
            "Epoch: 9, Iter: 200, Loss: 0.11513150703907013\n",
            "Epoch: 9, Iter: 300, Loss: 0.11513161659240723\n",
            "Epoch: 9, Iter: 400, Loss: 0.11513356864452362\n",
            "Epoch: 10, Iter: 100, Loss: 0.1151284110546112\n",
            "Epoch: 10, Iter: 200, Loss: 0.11512984347343445\n",
            "Epoch: 10, Iter: 300, Loss: 0.11513751792907714\n",
            "Epoch: 10, Iter: 400, Loss: 0.11513116645812989\n"
          ]
        }
      ]
    },
    {
      "cell_type": "code",
      "source": [
        "for epoch in range(5):\n",
        "\n",
        "    running_loss = 0.0\n",
        "\n",
        "    for i, data in enumerate(train_loader128, start=0):\n",
        "        inputs, labels = data[0].to(device), data[1].to(device)\n",
        "\n",
        "        optimizerDC_128.zero_grad() # epoch마다 gradient 0으로 초기화\n",
        "\n",
        "        outputs = DeepConv_net128(inputs) # y_pred = f(X)\n",
        "        loss = criterion(outputs, labels) # CrossEntropyLoss; 0~1 사이값\n",
        "        loss.backward() # back-propagation; gradient 계산\n",
        "        optimizerDC_128.step() # parameters(weights) update\n",
        "\n",
        "        running_loss += loss.item() # 그냥 전체적인 비교를 위해 누적함\n",
        "\n",
        "        if i % 100 == 99: # 100번 마다 확인; epoch=10, iter(=i)=469, batch=128\n",
        "            print('Epoch: {}, Iter: {}, Loss: {}'.format(epoch+1, i+1, running_loss/2000))\n",
        "            running_loss = 0.0"
      ],
      "metadata": {
        "colab": {
          "base_uri": "https://localhost:8080/"
        },
        "id": "dNa8-7SC5u2a",
        "outputId": "31303756-5331-41dc-f45e-bed18e398d5e"
      },
      "execution_count": 30,
      "outputs": [
        {
          "output_type": "stream",
          "name": "stdout",
          "text": [
            "Epoch: 1, Iter: 100, Loss: 0.1151306049823761\n",
            "Epoch: 1, Iter: 200, Loss: 0.11513284957408905\n",
            "Epoch: 1, Iter: 300, Loss: 0.11513133215904235\n",
            "Epoch: 1, Iter: 400, Loss: 0.11513396084308625\n",
            "Epoch: 2, Iter: 100, Loss: 0.11513022744655609\n",
            "Epoch: 2, Iter: 200, Loss: 0.11513221848011017\n",
            "Epoch: 2, Iter: 300, Loss: 0.11513244652748109\n",
            "Epoch: 2, Iter: 400, Loss: 0.11513364064693452\n",
            "Epoch: 3, Iter: 100, Loss: 0.11513056302070618\n",
            "Epoch: 3, Iter: 200, Loss: 0.11513074147701263\n",
            "Epoch: 3, Iter: 300, Loss: 0.11513286340236664\n",
            "Epoch: 3, Iter: 400, Loss: 0.1151340457201004\n",
            "Epoch: 4, Iter: 100, Loss: 0.11512923657894135\n",
            "Epoch: 4, Iter: 200, Loss: 0.11513420784473419\n",
            "Epoch: 4, Iter: 300, Loss: 0.11513029420375824\n",
            "Epoch: 4, Iter: 400, Loss: 0.11513375627994538\n",
            "Epoch: 5, Iter: 100, Loss: 0.11513155245780946\n",
            "Epoch: 5, Iter: 200, Loss: 0.11512967073917389\n",
            "Epoch: 5, Iter: 300, Loss: 0.1151353862285614\n",
            "Epoch: 5, Iter: 400, Loss: 0.11513416719436645\n"
          ]
        }
      ]
    },
    {
      "cell_type": "markdown",
      "source": [
        "### 2. DeepConv_net64\n",
        "* 10개의 Convolution-layer & 2개의 fc-layer\n",
        "* 64 batch-size"
      ],
      "metadata": {
        "id": "FOUBE2UfKS6D"
      }
    },
    {
      "cell_type": "code",
      "source": [
        "for epoch in range(10):\n",
        "\n",
        "    running_loss = 0.0\n",
        "\n",
        "    for i, data in enumerate(train_loader64, start=0):\n",
        "        inputs, labels = data[0].to(device), data[1].to(device)\n",
        "\n",
        "        optimizerDC_64.zero_grad() # epoch마다 gradient 0으로 초기화\n",
        "\n",
        "        outputs = DeepConv_net64(inputs) # y_pred = f(X)\n",
        "        loss = criterion(outputs, labels) # CrossEntropyLoss; 0~1 사이값\n",
        "        loss.backward() # back-propagation; gradient 계산\n",
        "        optimizerDC_64.step() # parameters(weights) update\n",
        "\n",
        "        running_loss += loss.item() # 그냥 전체적인 비교를 위해 누적함\n",
        "\n",
        "        if i % 100 == 99: # 100번 마다 확인; epoch=10, iter(=i)=469, batch=64\n",
        "            print('Epoch: {}, Iter: {}, Loss: {}'.format(epoch+1, i+1, running_loss/2000))\n",
        "            running_loss = 0.0"
      ],
      "metadata": {
        "colab": {
          "base_uri": "https://localhost:8080/"
        },
        "id": "Q1znQlsWKS6D",
        "outputId": "9c9253f4-b7a4-4622-8387-9886eb6ffd59"
      },
      "execution_count": 31,
      "outputs": [
        {
          "output_type": "stream",
          "name": "stdout",
          "text": [
            "Epoch: 1, Iter: 100, Loss: 0.11533387768268585\n",
            "Epoch: 1, Iter: 200, Loss: 0.11525505459308624\n",
            "Epoch: 1, Iter: 300, Loss: 0.11511911070346832\n",
            "Epoch: 1, Iter: 400, Loss: 0.1151538108587265\n",
            "Epoch: 1, Iter: 500, Loss: 0.11519093036651612\n",
            "Epoch: 1, Iter: 600, Loss: 0.11518657839298248\n",
            "Epoch: 1, Iter: 700, Loss: 0.11518752658367157\n",
            "Epoch: 1, Iter: 800, Loss: 0.11513083589076996\n",
            "Epoch: 1, Iter: 900, Loss: 0.11513896322250367\n",
            "Epoch: 2, Iter: 100, Loss: 0.11514369368553162\n",
            "Epoch: 2, Iter: 200, Loss: 0.11514359164237976\n",
            "Epoch: 2, Iter: 300, Loss: 0.11513358700275421\n",
            "Epoch: 2, Iter: 400, Loss: 0.11512788009643554\n",
            "Epoch: 2, Iter: 500, Loss: 0.11511997723579406\n",
            "Epoch: 2, Iter: 600, Loss: 0.1151266348361969\n",
            "Epoch: 2, Iter: 700, Loss: 0.11515225327014923\n",
            "Epoch: 2, Iter: 800, Loss: 0.11514299762248993\n",
            "Epoch: 2, Iter: 900, Loss: 0.11513826000690461\n",
            "Epoch: 3, Iter: 100, Loss: 0.11513160586357117\n",
            "Epoch: 3, Iter: 200, Loss: 0.1151383581161499\n",
            "Epoch: 3, Iter: 300, Loss: 0.11513680267333984\n",
            "Epoch: 3, Iter: 400, Loss: 0.1151343915462494\n",
            "Epoch: 3, Iter: 500, Loss: 0.11513277530670166\n",
            "Epoch: 3, Iter: 600, Loss: 0.11513595974445343\n",
            "Epoch: 3, Iter: 700, Loss: 0.11513514459133148\n",
            "Epoch: 3, Iter: 800, Loss: 0.11513427031040192\n",
            "Epoch: 3, Iter: 900, Loss: 0.11513768517971039\n",
            "Epoch: 4, Iter: 100, Loss: 0.11511788141727447\n",
            "Epoch: 4, Iter: 200, Loss: 0.11513027167320251\n",
            "Epoch: 4, Iter: 300, Loss: 0.1151436505317688\n",
            "Epoch: 4, Iter: 400, Loss: 0.11513543319702148\n",
            "Epoch: 4, Iter: 500, Loss: 0.115133425116539\n",
            "Epoch: 4, Iter: 600, Loss: 0.11514360916614533\n",
            "Epoch: 4, Iter: 700, Loss: 0.11513140487670899\n",
            "Epoch: 4, Iter: 800, Loss: 0.11513617300987243\n",
            "Epoch: 4, Iter: 900, Loss: 0.11513528597354888\n",
            "Epoch: 5, Iter: 100, Loss: 0.11513356411457062\n",
            "Epoch: 5, Iter: 200, Loss: 0.1151268081665039\n",
            "Epoch: 5, Iter: 300, Loss: 0.11512222230434417\n",
            "Epoch: 5, Iter: 400, Loss: 0.11513998997211457\n",
            "Epoch: 5, Iter: 500, Loss: 0.11514468419551849\n",
            "Epoch: 5, Iter: 600, Loss: 0.11513816833496093\n",
            "Epoch: 5, Iter: 700, Loss: 0.11513505244255066\n",
            "Epoch: 5, Iter: 800, Loss: 0.1151365317106247\n",
            "Epoch: 5, Iter: 900, Loss: 0.11513232886791229\n",
            "Epoch: 6, Iter: 100, Loss: 0.11513038647174835\n",
            "Epoch: 6, Iter: 200, Loss: 0.11513118743896485\n",
            "Epoch: 6, Iter: 300, Loss: 0.11513747763633728\n",
            "Epoch: 6, Iter: 400, Loss: 0.11513486504554749\n",
            "Epoch: 6, Iter: 500, Loss: 0.1151288310289383\n",
            "Epoch: 6, Iter: 600, Loss: 0.11513869798183442\n",
            "Epoch: 6, Iter: 700, Loss: 0.11513776636123657\n",
            "Epoch: 6, Iter: 800, Loss: 0.11513964009284973\n",
            "Epoch: 6, Iter: 900, Loss: 0.1151355744600296\n",
            "Epoch: 7, Iter: 100, Loss: 0.11513174641132355\n",
            "Epoch: 7, Iter: 200, Loss: 0.11513137042522431\n",
            "Epoch: 7, Iter: 300, Loss: 0.11513001132011413\n",
            "Epoch: 7, Iter: 400, Loss: 0.11513862586021423\n",
            "Epoch: 7, Iter: 500, Loss: 0.1151376701593399\n",
            "Epoch: 7, Iter: 600, Loss: 0.11513314878940582\n",
            "Epoch: 7, Iter: 700, Loss: 0.1151343331336975\n",
            "Epoch: 7, Iter: 800, Loss: 0.11513492655754089\n",
            "Epoch: 7, Iter: 900, Loss: 0.11514363515377045\n",
            "Epoch: 8, Iter: 100, Loss: 0.11513394594192505\n",
            "Epoch: 8, Iter: 200, Loss: 0.11512572312355042\n",
            "Epoch: 8, Iter: 300, Loss: 0.11513734936714172\n",
            "Epoch: 8, Iter: 400, Loss: 0.1151346355676651\n",
            "Epoch: 8, Iter: 500, Loss: 0.11513082420825958\n",
            "Epoch: 8, Iter: 600, Loss: 0.11513488650321961\n",
            "Epoch: 8, Iter: 700, Loss: 0.11513633465766906\n",
            "Epoch: 8, Iter: 800, Loss: 0.1151383011341095\n",
            "Epoch: 8, Iter: 900, Loss: 0.11513462245464325\n",
            "Epoch: 9, Iter: 100, Loss: 0.1151248494386673\n",
            "Epoch: 9, Iter: 200, Loss: 0.11512983036041259\n",
            "Epoch: 9, Iter: 300, Loss: 0.1151388076543808\n",
            "Epoch: 9, Iter: 400, Loss: 0.11513030993938446\n",
            "Epoch: 9, Iter: 500, Loss: 0.1151383512020111\n",
            "Epoch: 9, Iter: 600, Loss: 0.115139617562294\n",
            "Epoch: 9, Iter: 700, Loss: 0.11513073217868805\n",
            "Epoch: 9, Iter: 800, Loss: 0.11513409805297851\n",
            "Epoch: 9, Iter: 900, Loss: 0.11514234149456024\n",
            "Epoch: 10, Iter: 100, Loss: 0.1151290111541748\n",
            "Epoch: 10, Iter: 200, Loss: 0.11512706243991852\n",
            "Epoch: 10, Iter: 300, Loss: 0.11514347779750823\n",
            "Epoch: 10, Iter: 400, Loss: 0.115135324716568\n",
            "Epoch: 10, Iter: 500, Loss: 0.11513285899162293\n",
            "Epoch: 10, Iter: 600, Loss: 0.11513094031810761\n",
            "Epoch: 10, Iter: 700, Loss: 0.11513250756263733\n",
            "Epoch: 10, Iter: 800, Loss: 0.11514411807060242\n",
            "Epoch: 10, Iter: 900, Loss: 0.11513664066791535\n"
          ]
        }
      ]
    },
    {
      "cell_type": "markdown",
      "source": [
        "### 3. DeepFC_net128\n",
        "* 2개의 Convolution-layer & 5개의 fc-layer\n",
        "* 128 batch-size"
      ],
      "metadata": {
        "id": "LaVvtEOvKUgJ"
      }
    },
    {
      "cell_type": "code",
      "source": [
        "for epoch in range(10):\n",
        "\n",
        "    running_loss = 0.0\n",
        "\n",
        "    for i, data in enumerate(train_loader128, start=0):\n",
        "        inputs, labels = data[0].to(device), data[1].to(device)\n",
        "\n",
        "        optimizerFC_128.zero_grad() # epoch마다 gradient 0으로 초기화\n",
        "\n",
        "        outputs = DeepFC_net128(inputs) # y_pred = f(X)\n",
        "        loss = criterion(outputs, labels) # CrossEntropyLoss; 0~1 사이값\n",
        "        loss.backward() # back-propagation; gradient 계산\n",
        "        optimizerFC_128.step() # parameters(weights) update\n",
        "\n",
        "        running_loss += loss.item() # 그냥 전체적인 비교를 위해 누적함\n",
        "\n",
        "        if i % 100 == 99: # 100번 마다 확인; epoch=10, iter(=i)=469, batch=128\n",
        "            print('Epoch: {}, Iter: {}, Loss: {}'.format(epoch+1, i+1, running_loss/2000))\n",
        "            running_loss = 0.0"
      ],
      "metadata": {
        "colab": {
          "base_uri": "https://localhost:8080/"
        },
        "id": "Dwh9TK_1KUgK",
        "outputId": "75ff3543-4d95-4561-8bc4-91660f8b1426"
      },
      "execution_count": 32,
      "outputs": [
        {
          "output_type": "stream",
          "name": "stdout",
          "text": [
            "Epoch: 1, Iter: 100, Loss: 0.1151897085905075\n",
            "Epoch: 1, Iter: 200, Loss: 0.11515347135066986\n",
            "Epoch: 1, Iter: 300, Loss: 0.11508856034278869\n",
            "Epoch: 1, Iter: 400, Loss: 0.11505698955059052\n",
            "Epoch: 2, Iter: 100, Loss: 0.11492866623401642\n",
            "Epoch: 2, Iter: 200, Loss: 0.11485172414779662\n",
            "Epoch: 2, Iter: 300, Loss: 0.11470779395103455\n",
            "Epoch: 2, Iter: 400, Loss: 0.11453460085391998\n",
            "Epoch: 3, Iter: 100, Loss: 0.11393263804912566\n",
            "Epoch: 3, Iter: 200, Loss: 0.11320138657093048\n",
            "Epoch: 3, Iter: 300, Loss: 0.11150797140598297\n",
            "Epoch: 3, Iter: 400, Loss: 0.10622095954418183\n",
            "Epoch: 4, Iter: 100, Loss: 0.06199591931700706\n",
            "Epoch: 4, Iter: 200, Loss: 0.04894722858071327\n",
            "Epoch: 4, Iter: 300, Loss: 0.041967123448848724\n",
            "Epoch: 4, Iter: 400, Loss: 0.03910210129618645\n",
            "Epoch: 5, Iter: 100, Loss: 0.03403652277588844\n",
            "Epoch: 5, Iter: 200, Loss: 0.032542072653770446\n",
            "Epoch: 5, Iter: 300, Loss: 0.031220994129776955\n",
            "Epoch: 5, Iter: 400, Loss: 0.030729627951979636\n",
            "Epoch: 6, Iter: 100, Loss: 0.029340511694550514\n",
            "Epoch: 6, Iter: 200, Loss: 0.02821233233809471\n",
            "Epoch: 6, Iter: 300, Loss: 0.027424940839409828\n",
            "Epoch: 6, Iter: 400, Loss: 0.02758325311541557\n",
            "Epoch: 7, Iter: 100, Loss: 0.02615978465974331\n",
            "Epoch: 7, Iter: 200, Loss: 0.02477735586464405\n",
            "Epoch: 7, Iter: 300, Loss: 0.02466826118528843\n",
            "Epoch: 7, Iter: 400, Loss: 0.024453830271959305\n",
            "Epoch: 8, Iter: 100, Loss: 0.022999087288975716\n",
            "Epoch: 8, Iter: 200, Loss: 0.023032733768224716\n",
            "Epoch: 8, Iter: 300, Loss: 0.022905626371502875\n",
            "Epoch: 8, Iter: 400, Loss: 0.022486354276537897\n",
            "Epoch: 9, Iter: 100, Loss: 0.021937775045633316\n",
            "Epoch: 9, Iter: 200, Loss: 0.02064194416999817\n",
            "Epoch: 9, Iter: 300, Loss: 0.02163152392208576\n",
            "Epoch: 9, Iter: 400, Loss: 0.021003034874796867\n",
            "Epoch: 10, Iter: 100, Loss: 0.020357111915946007\n",
            "Epoch: 10, Iter: 200, Loss: 0.020686600752174853\n",
            "Epoch: 10, Iter: 300, Loss: 0.01967371542006731\n",
            "Epoch: 10, Iter: 400, Loss: 0.01921895195543766\n"
          ]
        }
      ]
    },
    {
      "cell_type": "markdown",
      "source": [
        "### 4. DeepFC_net128\n",
        "* 2개의 Convolution-layer & 5개의 fc-layer\n",
        "* 64 batch-size"
      ],
      "metadata": {
        "id": "jRyyw49jKVhj"
      }
    },
    {
      "cell_type": "code",
      "source": [
        "for epoch in range(10):\n",
        "\n",
        "    running_loss = 0.0\n",
        "\n",
        "    for i, data in enumerate(train_loader64, start=0):\n",
        "        inputs, labels = data[0].to(device), data[1].to(device)\n",
        "\n",
        "        optimizerFC_64.zero_grad() # epoch마다 gradient 0으로 초기화\n",
        "\n",
        "        outputs = DeepFC_net64(inputs) # y_pred = f(X)\n",
        "        loss = criterion(outputs, labels) # CrossEntropyLoss; 0~1 사이값\n",
        "        loss.backward() # back-propagation; gradient 계산\n",
        "        optimizerFC_64.step() # parameters(weights) update\n",
        "\n",
        "        running_loss += loss.item() # 그냥 전체적인 비교를 위해 누적함\n",
        "\n",
        "        if i % 100 == 99: # 100번 마다 확인; epoch=10, iter(=i)=469, batch=64\n",
        "            print('Epoch: {}, Iter: {}, Loss: {}'.format(epoch+1, i+1, running_loss/2000))\n",
        "            running_loss = 0.0"
      ],
      "metadata": {
        "colab": {
          "base_uri": "https://localhost:8080/"
        },
        "id": "X3847V0dKVhk",
        "outputId": "af5186f4-ca85-4423-b6eb-4242c17b7992"
      },
      "execution_count": null,
      "outputs": [
        {
          "output_type": "stream",
          "name": "stdout",
          "text": [
            "Epoch: 1, Iter: 100, Loss: 0.11517054212093353\n",
            "Epoch: 1, Iter: 200, Loss: 0.11518558156490326\n",
            "Epoch: 1, Iter: 300, Loss: 0.11512141835689545\n",
            "Epoch: 1, Iter: 400, Loss: 0.11510403299331665\n",
            "Epoch: 1, Iter: 500, Loss: 0.11504266381263734\n",
            "Epoch: 1, Iter: 600, Loss: 0.11497715795040131\n",
            "Epoch: 1, Iter: 700, Loss: 0.11497151064872742\n",
            "Epoch: 1, Iter: 800, Loss: 0.1148419498205185\n",
            "Epoch: 1, Iter: 900, Loss: 0.11473876237869263\n",
            "Epoch: 2, Iter: 100, Loss: 0.11445065200328827\n",
            "Epoch: 2, Iter: 200, Loss: 0.11401493191719055\n",
            "Epoch: 2, Iter: 300, Loss: 0.11319677436351776\n",
            "Epoch: 2, Iter: 400, Loss: 0.11035092318058014\n",
            "Epoch: 2, Iter: 500, Loss: 0.0933974136710167\n",
            "Epoch: 2, Iter: 600, Loss: 0.056129651576280595\n",
            "Epoch: 2, Iter: 700, Loss: 0.0423743779361248\n",
            "Epoch: 2, Iter: 800, Loss: 0.03764878991246223\n",
            "Epoch: 2, Iter: 900, Loss: 0.03451525369286537\n",
            "Epoch: 3, Iter: 100, Loss: 0.033164670839905735\n",
            "Epoch: 3, Iter: 200, Loss: 0.03199973540008068\n",
            "Epoch: 3, Iter: 300, Loss: 0.03053766603767872\n",
            "Epoch: 3, Iter: 400, Loss: 0.03142979311943054\n",
            "Epoch: 3, Iter: 500, Loss: 0.03017855566740036\n",
            "Epoch: 3, Iter: 600, Loss: 0.028684165686368942\n",
            "Epoch: 3, Iter: 700, Loss: 0.029561270251870154\n",
            "Epoch: 3, Iter: 800, Loss: 0.02826019087433815\n",
            "Epoch: 3, Iter: 900, Loss: 0.02815558199584484\n",
            "Epoch: 4, Iter: 100, Loss: 0.028543028846383094\n",
            "Epoch: 4, Iter: 200, Loss: 0.02780271080136299\n",
            "Epoch: 4, Iter: 300, Loss: 0.026486568093299866\n",
            "Epoch: 4, Iter: 400, Loss: 0.026555065006017686\n",
            "Epoch: 4, Iter: 500, Loss: 0.02579443907737732\n",
            "Epoch: 4, Iter: 600, Loss: 0.025033018991351127\n",
            "Epoch: 4, Iter: 700, Loss: 0.025510076463222505\n",
            "Epoch: 4, Iter: 800, Loss: 0.02473656466603279\n",
            "Epoch: 4, Iter: 900, Loss: 0.02502938584983349\n",
            "Epoch: 5, Iter: 100, Loss: 0.024777165561914442\n",
            "Epoch: 5, Iter: 200, Loss: 0.023826916962862016\n",
            "Epoch: 5, Iter: 300, Loss: 0.02383904279768467\n",
            "Epoch: 5, Iter: 400, Loss: 0.0235251654535532\n",
            "Epoch: 5, Iter: 500, Loss: 0.02279243004322052\n",
            "Epoch: 5, Iter: 600, Loss: 0.02234614734351635\n",
            "Epoch: 5, Iter: 700, Loss: 0.023217621222138406\n",
            "Epoch: 5, Iter: 800, Loss: 0.022292822368443013\n",
            "Epoch: 5, Iter: 900, Loss: 0.023712915897369385\n",
            "Epoch: 6, Iter: 100, Loss: 0.02168831314891577\n",
            "Epoch: 6, Iter: 200, Loss: 0.02256417640298605\n",
            "Epoch: 6, Iter: 300, Loss: 0.02216638569533825\n",
            "Epoch: 6, Iter: 400, Loss: 0.021998341850936413\n",
            "Epoch: 6, Iter: 500, Loss: 0.021473207511007786\n",
            "Epoch: 6, Iter: 600, Loss: 0.020836947448551656\n",
            "Epoch: 6, Iter: 700, Loss: 0.020850028932094575\n",
            "Epoch: 6, Iter: 800, Loss: 0.021121427617967127\n",
            "Epoch: 6, Iter: 900, Loss: 0.020840425059199332\n",
            "Epoch: 7, Iter: 100, Loss: 0.020099445335567\n",
            "Epoch: 7, Iter: 200, Loss: 0.02157149727642536\n",
            "Epoch: 7, Iter: 300, Loss: 0.02039591892808676\n",
            "Epoch: 7, Iter: 400, Loss: 0.021265473999083042\n",
            "Epoch: 7, Iter: 500, Loss: 0.02191878145188093\n",
            "Epoch: 7, Iter: 600, Loss: 0.019699009642004967\n",
            "Epoch: 7, Iter: 700, Loss: 0.020095366433262825\n",
            "Epoch: 7, Iter: 800, Loss: 0.020471986927092074\n",
            "Epoch: 7, Iter: 900, Loss: 0.020462792828679084\n",
            "Epoch: 8, Iter: 100, Loss: 0.01989916254580021\n",
            "Epoch: 8, Iter: 200, Loss: 0.019778516247868538\n",
            "Epoch: 8, Iter: 300, Loss: 0.019614742413163185\n",
            "Epoch: 8, Iter: 400, Loss: 0.019566771440207957\n",
            "Epoch: 8, Iter: 500, Loss: 0.018696946009993554\n",
            "Epoch: 8, Iter: 600, Loss: 0.019316729165613652\n",
            "Epoch: 8, Iter: 700, Loss: 0.020027208909392358\n",
            "Epoch: 8, Iter: 800, Loss: 0.018749044016003608\n",
            "Epoch: 8, Iter: 900, Loss: 0.019232360266149044\n",
            "Epoch: 9, Iter: 100, Loss: 0.01901075292378664\n",
            "Epoch: 9, Iter: 200, Loss: 0.01909215299412608\n",
            "Epoch: 9, Iter: 300, Loss: 0.019402719162404537\n",
            "Epoch: 9, Iter: 400, Loss: 0.018663183324038983\n",
            "Epoch: 9, Iter: 500, Loss: 0.01889272291958332\n",
            "Epoch: 9, Iter: 600, Loss: 0.018065270252525807\n",
            "Epoch: 9, Iter: 700, Loss: 0.019527179352939128\n",
            "Epoch: 9, Iter: 800, Loss: 0.01881168294698\n",
            "Epoch: 9, Iter: 900, Loss: 0.018021796613931655\n",
            "Epoch: 10, Iter: 100, Loss: 0.017549175091087818\n",
            "Epoch: 10, Iter: 200, Loss: 0.01810932146757841\n",
            "Epoch: 10, Iter: 300, Loss: 0.01822731664031744\n",
            "Epoch: 10, Iter: 400, Loss: 0.018238167580217124\n",
            "Epoch: 10, Iter: 500, Loss: 0.01873709160834551\n",
            "Epoch: 10, Iter: 600, Loss: 0.018497481867671015\n",
            "Epoch: 10, Iter: 700, Loss: 0.017520317316055297\n",
            "Epoch: 10, Iter: 800, Loss: 0.017640156246721744\n",
            "Epoch: 10, Iter: 900, Loss: 0.0176430020108819\n"
          ]
        }
      ]
    },
    {
      "cell_type": "markdown",
      "metadata": {
        "id": "5IecfHZiI09W"
      },
      "source": [
        "## 모델 테스트"
      ]
    },
    {
      "cell_type": "code",
      "source": [
        "# 전체 test 데이터에 대해서 성능 확인\n",
        "\n",
        "correct_list = [0]*4\n",
        "total_list = [0]*4\n",
        "a = -1\n",
        "\n",
        "model_list = {'DeepConv' : [DeepConv_net128, DeepConv_net64],\n",
        "              'DeepFC' : [DeepFC_net128, DeepFC_net64]}\n",
        "data_list = [test_loader128, test_loader64]\n",
        "\n",
        "with torch.no_grad(): # grad가 필요없다.\n",
        "\n",
        "    for key in model_list:\n",
        "        for idx in range(len(model_list[key])):\n",
        "            a += 1\n",
        "            model = model_list[key][idx]\n",
        "            data_loader = data_list[idx]\n",
        "            for data in data_loader:\n",
        "                images, labels = data[0].to(device), data[1].to(device)\n",
        "\n",
        "                outputs = model(images)\n",
        "                _, predicted = torch.max(outputs.data, 1)\n",
        "\n",
        "                total_list[a] += labels.size(0)\n",
        "                correct_list[a] += (predicted == labels).sum().item()\n",
        "            \n",
        "correct_rate = np.array(correct_list) / np.array(total_list)\n",
        "model_name = ['DeepConv_net128', 'DeepConv_net64', 'DeepFC_net128', 'DeepFC_net64']\n",
        "\n",
        "for i in range(len(correct_rate)):\n",
        "    print('{0} : {1}'.format(model_name[i], correct_rate[i]))"
      ],
      "metadata": {
        "colab": {
          "base_uri": "https://localhost:8080/"
        },
        "id": "VjVs_iS0rlof",
        "outputId": "78cf1631-e484-40a4-b2a2-27966a69d94d"
      },
      "execution_count": 33,
      "outputs": [
        {
          "output_type": "stream",
          "name": "stdout",
          "text": [
            "DeepConv_net128 : 0.1\n",
            "DeepConv_net64 : 0.1\n",
            "DeepFC_net128 : 0.8516\n",
            "DeepFC_net64 : 0.1047\n"
          ]
        }
      ]
    },
    {
      "cell_type": "markdown",
      "source": [
        "# FashionMNIST 분류 모델 중 성능이 낮은 모델 이유 확인"
      ],
      "metadata": {
        "id": "SZcZQv4PGeYv"
      }
    },
    {
      "cell_type": "markdown",
      "source": [
        "## Convolution-layer를 하나씩 추가하면서, 성능변화를 관찰"
      ],
      "metadata": {
        "id": "V7HoLqroDhyF"
      }
    },
    {
      "cell_type": "markdown",
      "source": [
        "### 3개의 convolution-layer 사용시"
      ],
      "metadata": {
        "id": "_civVcIYBGxA"
      }
    },
    {
      "cell_type": "code",
      "source": [
        "class CNN_Model3(nn.Module):\n",
        "    def __init__(self):\n",
        "        super(CNN_Model3, self).__init__()\n",
        "\n",
        "        self.conv1 = nn.Conv2d(in_channels=1, out_channels=5, kernel_size=3, stride=1, padding=2)\n",
        "        self.conv2 = nn.Conv2d(5, 7, 3, padding=1)\n",
        "        self.conv3 = nn.Conv2d(7, 16, 2, padding=1)\n",
        "\n",
        "        self.fc1 = nn.Linear(16* 16 * 16, 3000)\n",
        "        self.fc2 = nn.Linear(3000, 1500)\n",
        "        self.fc3 = nn.Linear(1500, 20 * 3 * 3)\n",
        "        self.fc4 = nn.Linear(20 * 3 * 3, 86)\n",
        "        self.fc5 = nn.Linear(86, 10) # 10 : 10개의 category\n",
        "\n",
        "    def forward(self, x):\n",
        "        x = F.relu(self.conv1(x))\n",
        "        x = F.max_pool2d(x, (2,2))\n",
        "        x = F.relu(self.conv2(x))\n",
        "        x = F.relu(self.conv3(x))\n",
        "\n",
        "        x = x.view(-1, self.num_flat_features(x)) # num_flat_features : 아래에서 정의\n",
        "\n",
        "        x = F.relu(self.fc1(x))\n",
        "        x = F.relu(self.fc2(x))\n",
        "        x = F.relu(self.fc3(x))\n",
        "        x = F.relu(self.fc4(x))\n",
        "        x = self.fc5(x)\n",
        "\n",
        "        return x\n",
        "    \n",
        "    def num_flat_features(self, x): # 처음 dim-size을 제외하고, 모두 곱한 값을 반환해준다.\n",
        "        size = x.size()[1:]\n",
        "        num_features = 1\n",
        "        for s in size:\n",
        "            num_features *= s\n",
        "        \n",
        "        return num_features"
      ],
      "metadata": {
        "id": "29zvOdhT-fwY"
      },
      "execution_count": 46,
      "outputs": []
    },
    {
      "cell_type": "code",
      "source": [
        "# 모델객체 생성\n",
        "new_model = CNN_Model3().to(device)\n",
        "\n",
        "print(new_model)"
      ],
      "metadata": {
        "colab": {
          "base_uri": "https://localhost:8080/"
        },
        "outputId": "cc848e1f-169f-4191-d2e7-ccb4adeef87c",
        "id": "t81gXZmz-fwY"
      },
      "execution_count": 47,
      "outputs": [
        {
          "output_type": "stream",
          "name": "stdout",
          "text": [
            "CNN_Model3(\n",
            "  (conv1): Conv2d(1, 5, kernel_size=(3, 3), stride=(1, 1), padding=(2, 2))\n",
            "  (conv2): Conv2d(5, 7, kernel_size=(3, 3), stride=(1, 1), padding=(1, 1))\n",
            "  (conv3): Conv2d(7, 16, kernel_size=(2, 2), stride=(1, 1), padding=(1, 1))\n",
            "  (fc1): Linear(in_features=4096, out_features=3000, bias=True)\n",
            "  (fc2): Linear(in_features=3000, out_features=1500, bias=True)\n",
            "  (fc3): Linear(in_features=1500, out_features=180, bias=True)\n",
            "  (fc4): Linear(in_features=180, out_features=86, bias=True)\n",
            "  (fc5): Linear(in_features=86, out_features=10, bias=True)\n",
            ")\n"
          ]
        }
      ]
    },
    {
      "cell_type": "code",
      "source": [
        "summary(new_model, input_size=(1, 28, 28), batch_size=128)"
      ],
      "metadata": {
        "colab": {
          "base_uri": "https://localhost:8080/"
        },
        "id": "Bb2EkGUbBnuM",
        "outputId": "bf9a8c36-aa8d-4b25-ffce-14b52b14d2a6"
      },
      "execution_count": 48,
      "outputs": [
        {
          "output_type": "stream",
          "name": "stdout",
          "text": [
            "----------------------------------------------------------------\n",
            "        Layer (type)               Output Shape         Param #\n",
            "================================================================\n",
            "            Conv2d-1           [128, 5, 30, 30]              50\n",
            "            Conv2d-2           [128, 7, 15, 15]             322\n",
            "            Conv2d-3          [128, 16, 16, 16]             464\n",
            "            Linear-4                [128, 3000]      12,291,000\n",
            "            Linear-5                [128, 1500]       4,501,500\n",
            "            Linear-6                 [128, 180]         270,180\n",
            "            Linear-7                  [128, 86]          15,566\n",
            "            Linear-8                  [128, 10]             870\n",
            "================================================================\n",
            "Total params: 17,079,952\n",
            "Trainable params: 17,079,952\n",
            "Non-trainable params: 0\n",
            "----------------------------------------------------------------\n",
            "Input size (MB): 0.38\n",
            "Forward/backward pass size (MB): 14.60\n",
            "Params size (MB): 65.15\n",
            "Estimated Total Size (MB): 80.13\n",
            "----------------------------------------------------------------\n"
          ]
        }
      ]
    },
    {
      "cell_type": "code",
      "source": [
        "optimizer = optim.SGD(new_model.parameters(), lr=0.001, momentum=0.9)"
      ],
      "metadata": {
        "id": "aQDT4bYIBsZl"
      },
      "execution_count": 49,
      "outputs": []
    },
    {
      "cell_type": "code",
      "source": [
        "for epoch in range(10):\n",
        "\n",
        "    running_loss = 0.0\n",
        "\n",
        "    for i, data in enumerate(train_loader128, start=0):\n",
        "        inputs, labels = data[0].to(device), data[1].to(device)\n",
        "\n",
        "        optimizer.zero_grad() # epoch마다 gradient 0으로 초기화\n",
        "\n",
        "        outputs = new_model(inputs) # y_pred = f(X)\n",
        "        loss = criterion(outputs, labels) # CrossEntropyLoss; 0~1 사이값\n",
        "        loss.backward() # back-propagation; gradient 계산\n",
        "        optimizer.step() # parameters(weights) update\n",
        "\n",
        "        running_loss += loss.item() # 그냥 전체적인 비교를 위해 누적함\n",
        "\n",
        "        if i % 100 == 99: # 100번 마다 확인; epoch=10, iter(=i)=469, batch=128\n",
        "            print('Epoch: {}, Iter: {}, Loss: {}'.format(epoch+1, i+1, running_loss/2000))\n",
        "            running_loss = 0.0"
      ],
      "metadata": {
        "colab": {
          "base_uri": "https://localhost:8080/"
        },
        "id": "D6GqkR8nBwhH",
        "outputId": "6033fecc-0977-420c-9dc6-727841f74ff4"
      },
      "execution_count": 50,
      "outputs": [
        {
          "output_type": "stream",
          "name": "stdout",
          "text": [
            "Epoch: 1, Iter: 100, Loss: 0.11522707676887513\n",
            "Epoch: 1, Iter: 200, Loss: 0.11516271388530731\n",
            "Epoch: 1, Iter: 300, Loss: 0.11509503698349\n",
            "Epoch: 1, Iter: 400, Loss: 0.1149962739944458\n",
            "Epoch: 2, Iter: 100, Loss: 0.11485114526748658\n",
            "Epoch: 2, Iter: 200, Loss: 0.11462671494483948\n",
            "Epoch: 2, Iter: 300, Loss: 0.11427831566333771\n",
            "Epoch: 2, Iter: 400, Loss: 0.11356605327129364\n",
            "Epoch: 3, Iter: 100, Loss: 0.10385658180713654\n",
            "Epoch: 3, Iter: 200, Loss: 0.07101588135957718\n",
            "Epoch: 3, Iter: 300, Loss: 0.04512797278165817\n",
            "Epoch: 3, Iter: 400, Loss: 0.038618267476558686\n",
            "Epoch: 4, Iter: 100, Loss: 0.03450304773449898\n",
            "Epoch: 4, Iter: 200, Loss: 0.033437569886446\n",
            "Epoch: 4, Iter: 300, Loss: 0.031394393801689145\n",
            "Epoch: 4, Iter: 400, Loss: 0.03099602201581001\n",
            "Epoch: 5, Iter: 100, Loss: 0.030215176090598105\n",
            "Epoch: 5, Iter: 200, Loss: 0.029948794975876807\n",
            "Epoch: 5, Iter: 300, Loss: 0.02824493685364723\n",
            "Epoch: 5, Iter: 400, Loss: 0.028519369751214982\n",
            "Epoch: 6, Iter: 100, Loss: 0.027449742048978806\n",
            "Epoch: 6, Iter: 200, Loss: 0.02699790136516094\n",
            "Epoch: 6, Iter: 300, Loss: 0.026781864747405053\n",
            "Epoch: 6, Iter: 400, Loss: 0.02651345430314541\n",
            "Epoch: 7, Iter: 100, Loss: 0.02496909610927105\n",
            "Epoch: 7, Iter: 200, Loss: 0.025481875002384184\n",
            "Epoch: 7, Iter: 300, Loss: 0.024983979284763338\n",
            "Epoch: 7, Iter: 400, Loss: 0.02482142958045006\n",
            "Epoch: 8, Iter: 100, Loss: 0.02429117092490196\n",
            "Epoch: 8, Iter: 200, Loss: 0.0241674215644598\n",
            "Epoch: 8, Iter: 300, Loss: 0.02441455437242985\n",
            "Epoch: 8, Iter: 400, Loss: 0.023039355278015136\n",
            "Epoch: 9, Iter: 100, Loss: 0.02378776577115059\n",
            "Epoch: 9, Iter: 200, Loss: 0.022561404898762703\n",
            "Epoch: 9, Iter: 300, Loss: 0.022226987287402154\n",
            "Epoch: 9, Iter: 400, Loss: 0.022453214466571808\n",
            "Epoch: 10, Iter: 100, Loss: 0.022804294228553772\n",
            "Epoch: 10, Iter: 200, Loss: 0.022269600436091424\n",
            "Epoch: 10, Iter: 300, Loss: 0.021420246452093124\n",
            "Epoch: 10, Iter: 400, Loss: 0.021691504031419753\n"
          ]
        }
      ]
    },
    {
      "cell_type": "code",
      "source": [
        "correct = 0\n",
        "total = 0\n",
        "\n",
        "with torch.no_grad():\n",
        "    for data in test_loader128:\n",
        "        images, labels = data[0].to(device), data[1].to(device)\n",
        "        outputs = new_model(images)\n",
        "        _, predicted = torch.max(outputs.data, axis=1)\n",
        "        total += labels.size(0)\n",
        "        correct += (predicted == labels).sum().item()\n",
        "    \n",
        "    print(100 * correct / total)"
      ],
      "metadata": {
        "colab": {
          "base_uri": "https://localhost:8080/"
        },
        "id": "1PDu2v9bB_NE",
        "outputId": "7f71570f-3d7c-499e-d3c6-fbd661f725ce"
      },
      "execution_count": 51,
      "outputs": [
        {
          "output_type": "stream",
          "name": "stdout",
          "text": [
            "83.84\n"
          ]
        }
      ]
    },
    {
      "cell_type": "markdown",
      "source": [
        "### 4개의 convolution-layer 사용시"
      ],
      "metadata": {
        "id": "7Thu9NRyCV7j"
      }
    },
    {
      "cell_type": "code",
      "source": [
        "class CNN_Model4(nn.Module):\n",
        "    def __init__(self):\n",
        "        super(CNN_Model4, self).__init__()\n",
        "\n",
        "        self.conv1 = nn.Conv2d(in_channels=1, out_channels=5, kernel_size=3, stride=1, padding=2)\n",
        "        self.conv2 = nn.Conv2d(5, 7, 3, padding=1)\n",
        "        self.conv3 = nn.Conv2d(7, 16, 2, padding=1)\n",
        "        self.conv4 = nn.Conv2d(16, 19, 2)\n",
        "\n",
        "        self.fc1 = nn.Linear(15* 15 * 19, 3000)\n",
        "        self.fc2 = nn.Linear(3000, 1500)\n",
        "        self.fc3 = nn.Linear(1500, 20 * 3 * 3)\n",
        "        self.fc4 = nn.Linear(20 * 3 * 3, 86)\n",
        "        self.fc5 = nn.Linear(86, 10) # 10 : 10개의 category\n",
        "\n",
        "    def forward(self, x):\n",
        "        x = F.relu(self.conv1(x))\n",
        "        x = F.max_pool2d(x, (2,2))\n",
        "        x = F.relu(self.conv2(x))\n",
        "        x = F.relu(self.conv3(x))\n",
        "        x = F.relu(self.conv4(x))\n",
        "\n",
        "        x = x.view(-1, self.num_flat_features(x)) # num_flat_features : 아래에서 정의\n",
        "\n",
        "        x = F.relu(self.fc1(x))\n",
        "        x = F.relu(self.fc2(x))\n",
        "        x = F.relu(self.fc3(x))\n",
        "        x = F.relu(self.fc4(x))\n",
        "        x = self.fc5(x)\n",
        "\n",
        "        return x\n",
        "    \n",
        "    def num_flat_features(self, x): # 처음 dim-size을 제외하고, 모두 곱한 값을 반환해준다.\n",
        "        size = x.size()[1:]\n",
        "        num_features = 1\n",
        "        for s in size:\n",
        "            num_features *= s\n",
        "        \n",
        "        return num_features"
      ],
      "metadata": {
        "id": "V9PQvGFPCV7k"
      },
      "execution_count": 52,
      "outputs": []
    },
    {
      "cell_type": "code",
      "source": [
        "# 모델객체 생성\n",
        "new_model = CNN_Model4().to(device)\n",
        "\n",
        "print(new_model)"
      ],
      "metadata": {
        "colab": {
          "base_uri": "https://localhost:8080/"
        },
        "outputId": "a6f1555c-0470-40da-9123-d9cce08c25e2",
        "id": "HNAL7SRZCV7k"
      },
      "execution_count": 53,
      "outputs": [
        {
          "output_type": "stream",
          "name": "stdout",
          "text": [
            "CNN_Model4(\n",
            "  (conv1): Conv2d(1, 5, kernel_size=(3, 3), stride=(1, 1), padding=(2, 2))\n",
            "  (conv2): Conv2d(5, 7, kernel_size=(3, 3), stride=(1, 1), padding=(1, 1))\n",
            "  (conv3): Conv2d(7, 16, kernel_size=(2, 2), stride=(1, 1), padding=(1, 1))\n",
            "  (conv4): Conv2d(16, 19, kernel_size=(2, 2), stride=(1, 1))\n",
            "  (fc1): Linear(in_features=4275, out_features=3000, bias=True)\n",
            "  (fc2): Linear(in_features=3000, out_features=1500, bias=True)\n",
            "  (fc3): Linear(in_features=1500, out_features=180, bias=True)\n",
            "  (fc4): Linear(in_features=180, out_features=86, bias=True)\n",
            "  (fc5): Linear(in_features=86, out_features=10, bias=True)\n",
            ")\n"
          ]
        }
      ]
    },
    {
      "cell_type": "code",
      "source": [
        "summary(new_model, input_size=(1, 28, 28), batch_size=128)"
      ],
      "metadata": {
        "colab": {
          "base_uri": "https://localhost:8080/"
        },
        "outputId": "d29149ab-bb4b-444d-c38a-6a33fd5c0393",
        "id": "fHmIarJBCV7k"
      },
      "execution_count": 54,
      "outputs": [
        {
          "output_type": "stream",
          "name": "stdout",
          "text": [
            "----------------------------------------------------------------\n",
            "        Layer (type)               Output Shape         Param #\n",
            "================================================================\n",
            "            Conv2d-1           [128, 5, 30, 30]              50\n",
            "            Conv2d-2           [128, 7, 15, 15]             322\n",
            "            Conv2d-3          [128, 16, 16, 16]             464\n",
            "            Conv2d-4          [128, 19, 15, 15]           1,235\n",
            "            Linear-5                [128, 3000]      12,828,000\n",
            "            Linear-6                [128, 1500]       4,501,500\n",
            "            Linear-7                 [128, 180]         270,180\n",
            "            Linear-8                  [128, 86]          15,566\n",
            "            Linear-9                  [128, 10]             870\n",
            "================================================================\n",
            "Total params: 17,618,187\n",
            "Trainable params: 17,618,187\n",
            "Non-trainable params: 0\n",
            "----------------------------------------------------------------\n",
            "Input size (MB): 0.38\n",
            "Forward/backward pass size (MB): 18.77\n",
            "Params size (MB): 67.21\n",
            "Estimated Total Size (MB): 86.36\n",
            "----------------------------------------------------------------\n"
          ]
        }
      ]
    },
    {
      "cell_type": "code",
      "source": [
        "optimizer = optim.SGD(new_model.parameters(), lr=0.001, momentum=0.9)"
      ],
      "metadata": {
        "id": "z6gegPTRCV7k"
      },
      "execution_count": 55,
      "outputs": []
    },
    {
      "cell_type": "code",
      "source": [
        "for epoch in range(10):\n",
        "\n",
        "    running_loss = 0.0\n",
        "\n",
        "    for i, data in enumerate(train_loader128, start=0):\n",
        "        inputs, labels = data[0].to(device), data[1].to(device)\n",
        "\n",
        "        optimizer.zero_grad() # epoch마다 gradient 0으로 초기화\n",
        "\n",
        "        outputs = new_model(inputs) # y_pred = f(X)\n",
        "        loss = criterion(outputs, labels) # CrossEntropyLoss; 0~1 사이값\n",
        "        loss.backward() # back-propagation; gradient 계산\n",
        "        optimizer.step() # parameters(weights) update\n",
        "\n",
        "        running_loss += loss.item() # 그냥 전체적인 비교를 위해 누적함\n",
        "\n",
        "        if i % 100 == 99: # 100번 마다 확인; epoch=10, iter(=i)=469, batch=128\n",
        "            print('Epoch: {}, Iter: {}, Loss: {}'.format(epoch+1, i+1, running_loss/2000))\n",
        "            running_loss = 0.0"
      ],
      "metadata": {
        "colab": {
          "base_uri": "https://localhost:8080/"
        },
        "outputId": "5f4e7945-e40e-45a1-8df2-c1d2cdd028f4",
        "id": "oeeKVQdKCV7k"
      },
      "execution_count": 56,
      "outputs": [
        {
          "output_type": "stream",
          "name": "stdout",
          "text": [
            "Epoch: 1, Iter: 100, Loss: 0.11524257838726043\n",
            "Epoch: 1, Iter: 200, Loss: 0.11519347953796387\n",
            "Epoch: 1, Iter: 300, Loss: 0.1151370918750763\n",
            "Epoch: 1, Iter: 400, Loss: 0.11513991236686706\n",
            "Epoch: 2, Iter: 100, Loss: 0.11511233699321746\n",
            "Epoch: 2, Iter: 200, Loss: 0.11509601473808288\n",
            "Epoch: 2, Iter: 300, Loss: 0.11511879897117615\n",
            "Epoch: 2, Iter: 400, Loss: 0.11508365976810456\n",
            "Epoch: 3, Iter: 100, Loss: 0.11507456934452057\n",
            "Epoch: 3, Iter: 200, Loss: 0.11506624257564545\n",
            "Epoch: 3, Iter: 300, Loss: 0.11505155611038208\n",
            "Epoch: 3, Iter: 400, Loss: 0.11503830969333649\n",
            "Epoch: 4, Iter: 100, Loss: 0.11501237189769745\n",
            "Epoch: 4, Iter: 200, Loss: 0.11498934102058411\n",
            "Epoch: 4, Iter: 300, Loss: 0.11498036348819733\n",
            "Epoch: 4, Iter: 400, Loss: 0.11493626987934112\n",
            "Epoch: 5, Iter: 100, Loss: 0.11486386775970459\n",
            "Epoch: 5, Iter: 200, Loss: 0.11480578100681305\n",
            "Epoch: 5, Iter: 300, Loss: 0.11471997737884522\n",
            "Epoch: 5, Iter: 400, Loss: 0.11458786702156067\n",
            "Epoch: 6, Iter: 100, Loss: 0.11414118373394012\n",
            "Epoch: 6, Iter: 200, Loss: 0.11344981527328492\n",
            "Epoch: 6, Iter: 300, Loss: 0.11096815943717957\n",
            "Epoch: 6, Iter: 400, Loss: 0.08504490834474564\n",
            "Epoch: 7, Iter: 100, Loss: 0.03888887372612953\n",
            "Epoch: 7, Iter: 200, Loss: 0.03600766882300377\n",
            "Epoch: 7, Iter: 300, Loss: 0.033438929438591\n",
            "Epoch: 7, Iter: 400, Loss: 0.03204379612207413\n",
            "Epoch: 8, Iter: 100, Loss: 0.03137616682052612\n",
            "Epoch: 8, Iter: 200, Loss: 0.02994302736222744\n",
            "Epoch: 8, Iter: 300, Loss: 0.02947189062833786\n",
            "Epoch: 8, Iter: 400, Loss: 0.02821606034040451\n",
            "Epoch: 9, Iter: 100, Loss: 0.02745767092704773\n",
            "Epoch: 9, Iter: 200, Loss: 0.026958534345030784\n",
            "Epoch: 9, Iter: 300, Loss: 0.027807905152440072\n",
            "Epoch: 9, Iter: 400, Loss: 0.026070336282253265\n",
            "Epoch: 10, Iter: 100, Loss: 0.025419141188263893\n",
            "Epoch: 10, Iter: 200, Loss: 0.026255513429641723\n",
            "Epoch: 10, Iter: 300, Loss: 0.024480519697070123\n",
            "Epoch: 10, Iter: 400, Loss: 0.024504779547452928\n"
          ]
        }
      ]
    },
    {
      "cell_type": "code",
      "source": [
        "correct = 0\n",
        "total = 0\n",
        "\n",
        "with torch.no_grad():\n",
        "    for data in test_loader128:\n",
        "        images, labels = data[0].to(device), data[1].to(device)\n",
        "        outputs = new_model(images)\n",
        "        _, predicted = torch.max(outputs.data, axis=1)\n",
        "        total += labels.size(0)\n",
        "        correct += (predicted == labels).sum().item()\n",
        "    \n",
        "    print(100 * correct / total)"
      ],
      "metadata": {
        "colab": {
          "base_uri": "https://localhost:8080/"
        },
        "id": "w3uuDeS_CV7k",
        "outputId": "90dd6ddc-7783-454a-fbf9-d8ac572bf5cc"
      },
      "execution_count": 57,
      "outputs": [
        {
          "output_type": "stream",
          "name": "stdout",
          "text": [
            "81.56\n"
          ]
        }
      ]
    },
    {
      "cell_type": "markdown",
      "source": [
        "### 5개의 convolution-layer 사용시"
      ],
      "metadata": {
        "id": "kuP_3_DyD42p"
      }
    },
    {
      "cell_type": "code",
      "source": [
        "class CNN_Model5(nn.Module):\n",
        "    def __init__(self):\n",
        "        super(CNN_Model5, self).__init__()\n",
        "\n",
        "        self.conv1 = nn.Conv2d(in_channels=1, out_channels=5, kernel_size=3, stride=1, padding=2)\n",
        "        self.conv2 = nn.Conv2d(5, 7, 3, padding=1)      \n",
        "        self.conv3 = nn.Conv2d(7, 16, 2, padding=1)\n",
        "        self.conv4 = nn.Conv2d(16, 19, 2)\n",
        "        self.conv5 = nn.Conv2d(19, 29, 3)\n",
        "\n",
        "        self.fc1 = nn.Linear(29 * 13 * 13, 100)\n",
        "        self.fc2 = nn.Linear(100, 50)\n",
        "        self.fc3 = nn.Linear(50, 25)\n",
        "        self.fc4 = nn.Linear(25, 10) # 10 : 10개의 category\n",
        "\n",
        "    def forward(self, x):\n",
        "        x = F.relu(self.conv1(x))\n",
        "        x = F.max_pool2d(x, (2,2))\n",
        "        x = F.relu(self.conv2(x))\n",
        "        x = F.relu(self.conv3(x))\n",
        "        x = F.relu(self.conv4(x))\n",
        "        x = F.relu(self.conv5(x))\n",
        "\n",
        "        x = x.view(-1, self.num_flat_features(x)) # num_flat_features : 아래에서 정의\n",
        "\n",
        "        x = F.relu(self.fc1(x))\n",
        "        x = F.relu(self.fc2(x))\n",
        "        x = F.relu(self.fc3(x))\n",
        "        x = self.fc4(x)\n",
        "\n",
        "        return x\n",
        "    \n",
        "    def num_flat_features(self, x): # 처음 dim-size을 제외하고, 모두 곱한 값을 반환해준다.\n",
        "        size = x.size()[1:]\n",
        "        num_features = 1\n",
        "        for s in size:\n",
        "            num_features *= s\n",
        "        \n",
        "        return num_features"
      ],
      "metadata": {
        "id": "Bk1u7iloD42q"
      },
      "execution_count": 58,
      "outputs": []
    },
    {
      "cell_type": "code",
      "source": [
        "# 모델객체 생성\n",
        "new_model = CNN_Model5().to(device)\n",
        "\n",
        "print(new_model)"
      ],
      "metadata": {
        "colab": {
          "base_uri": "https://localhost:8080/"
        },
        "outputId": "a9a1cad2-ef26-4011-d04d-45257ffa9fff",
        "id": "GPoNB-4vD42q"
      },
      "execution_count": 59,
      "outputs": [
        {
          "output_type": "stream",
          "name": "stdout",
          "text": [
            "CNN_Model5(\n",
            "  (conv1): Conv2d(1, 5, kernel_size=(3, 3), stride=(1, 1), padding=(2, 2))\n",
            "  (conv2): Conv2d(5, 7, kernel_size=(3, 3), stride=(1, 1), padding=(1, 1))\n",
            "  (conv3): Conv2d(7, 16, kernel_size=(2, 2), stride=(1, 1), padding=(1, 1))\n",
            "  (conv4): Conv2d(16, 19, kernel_size=(2, 2), stride=(1, 1))\n",
            "  (conv5): Conv2d(19, 29, kernel_size=(3, 3), stride=(1, 1))\n",
            "  (fc1): Linear(in_features=4901, out_features=100, bias=True)\n",
            "  (fc2): Linear(in_features=100, out_features=50, bias=True)\n",
            "  (fc3): Linear(in_features=50, out_features=25, bias=True)\n",
            "  (fc4): Linear(in_features=25, out_features=10, bias=True)\n",
            ")\n"
          ]
        }
      ]
    },
    {
      "cell_type": "code",
      "source": [
        "summary(new_model, input_size=(1, 28, 28), batch_size=128)"
      ],
      "metadata": {
        "colab": {
          "base_uri": "https://localhost:8080/"
        },
        "outputId": "7de9ee13-0c73-44d8-e1ec-3bfe461b616b",
        "id": "aDvnyPw6D42q"
      },
      "execution_count": 60,
      "outputs": [
        {
          "output_type": "stream",
          "name": "stdout",
          "text": [
            "----------------------------------------------------------------\n",
            "        Layer (type)               Output Shape         Param #\n",
            "================================================================\n",
            "            Conv2d-1           [128, 5, 30, 30]              50\n",
            "            Conv2d-2           [128, 7, 15, 15]             322\n",
            "            Conv2d-3          [128, 16, 16, 16]             464\n",
            "            Conv2d-4          [128, 19, 15, 15]           1,235\n",
            "            Conv2d-5          [128, 29, 13, 13]           4,988\n",
            "            Linear-6                 [128, 100]         490,200\n",
            "            Linear-7                  [128, 50]           5,050\n",
            "            Linear-8                  [128, 25]           1,275\n",
            "            Linear-9                  [128, 10]             260\n",
            "================================================================\n",
            "Total params: 503,844\n",
            "Trainable params: 503,844\n",
            "Non-trainable params: 0\n",
            "----------------------------------------------------------------\n",
            "Input size (MB): 0.38\n",
            "Forward/backward pass size (MB): 19.07\n",
            "Params size (MB): 1.92\n",
            "Estimated Total Size (MB): 21.38\n",
            "----------------------------------------------------------------\n"
          ]
        }
      ]
    },
    {
      "cell_type": "code",
      "source": [
        "optimizer = optim.SGD(new_model.parameters(), lr=0.001, momentum=0.9)"
      ],
      "metadata": {
        "id": "QmOiVQDLD42q"
      },
      "execution_count": 61,
      "outputs": []
    },
    {
      "cell_type": "code",
      "source": [
        "for epoch in range(10):\n",
        "\n",
        "    running_loss = 0.0\n",
        "\n",
        "    for i, data in enumerate(train_loader128, start=0):\n",
        "        inputs, labels = data[0].to(device), data[1].to(device)\n",
        "\n",
        "        optimizer.zero_grad() # epoch마다 gradient 0으로 초기화\n",
        "\n",
        "        outputs = new_model(inputs) # y_pred = f(X)\n",
        "        loss = criterion(outputs, labels) # CrossEntropyLoss; 0~1 사이값\n",
        "        loss.backward() # back-propagation; gradient 계산\n",
        "        optimizer.step() # parameters(weights) update\n",
        "\n",
        "        running_loss += loss.item() # 그냥 전체적인 비교를 위해 누적함\n",
        "\n",
        "        if i % 100 == 99: # 100번 마다 확인; epoch=10, iter(=i)=469, batch=128\n",
        "            print('Epoch: {}, Iter: {}, Loss: {}'.format(epoch+1, i+1, running_loss/2000))\n",
        "            running_loss = 0.0"
      ],
      "metadata": {
        "colab": {
          "base_uri": "https://localhost:8080/"
        },
        "outputId": "92b3a997-93d2-4e63-de8a-0c0566b7e66f",
        "id": "eS9fQfeED42q"
      },
      "execution_count": 62,
      "outputs": [
        {
          "output_type": "stream",
          "name": "stdout",
          "text": [
            "Epoch: 1, Iter: 100, Loss: 0.11541106355190277\n",
            "Epoch: 1, Iter: 200, Loss: 0.11530939269065857\n",
            "Epoch: 1, Iter: 300, Loss: 0.11528618121147156\n",
            "Epoch: 1, Iter: 400, Loss: 0.1152089639902115\n",
            "Epoch: 2, Iter: 100, Loss: 0.11521005487442017\n",
            "Epoch: 2, Iter: 200, Loss: 0.11515647399425506\n",
            "Epoch: 2, Iter: 300, Loss: 0.11513171720504761\n",
            "Epoch: 2, Iter: 400, Loss: 0.11516530847549439\n",
            "Epoch: 3, Iter: 100, Loss: 0.11512499690055847\n",
            "Epoch: 3, Iter: 200, Loss: 0.11510327565670013\n",
            "Epoch: 3, Iter: 300, Loss: 0.11512101602554321\n",
            "Epoch: 3, Iter: 400, Loss: 0.11511000216007233\n",
            "Epoch: 4, Iter: 100, Loss: 0.11509456861019135\n",
            "Epoch: 4, Iter: 200, Loss: 0.11506837654113769\n",
            "Epoch: 4, Iter: 300, Loss: 0.11506629204750062\n",
            "Epoch: 4, Iter: 400, Loss: 0.11505816757678985\n",
            "Epoch: 5, Iter: 100, Loss: 0.11502820384502412\n",
            "Epoch: 5, Iter: 200, Loss: 0.11500883162021637\n",
            "Epoch: 5, Iter: 300, Loss: 0.11498509287834167\n",
            "Epoch: 5, Iter: 400, Loss: 0.11495036399364471\n",
            "Epoch: 6, Iter: 100, Loss: 0.11487305390834808\n",
            "Epoch: 6, Iter: 200, Loss: 0.11479333686828613\n",
            "Epoch: 6, Iter: 300, Loss: 0.11469840252399445\n",
            "Epoch: 6, Iter: 400, Loss: 0.11453774571418762\n",
            "Epoch: 7, Iter: 100, Loss: 0.1139719762802124\n",
            "Epoch: 7, Iter: 200, Loss: 0.11312581670284272\n",
            "Epoch: 7, Iter: 300, Loss: 0.11069582295417786\n",
            "Epoch: 7, Iter: 400, Loss: 0.10262647426128388\n",
            "Epoch: 8, Iter: 100, Loss: 0.055450956255197525\n",
            "Epoch: 8, Iter: 200, Loss: 0.04721658879518509\n",
            "Epoch: 8, Iter: 300, Loss: 0.04311366125941277\n",
            "Epoch: 8, Iter: 400, Loss: 0.041419190496206286\n",
            "Epoch: 9, Iter: 100, Loss: 0.037108837336301805\n",
            "Epoch: 9, Iter: 200, Loss: 0.03620315581560135\n",
            "Epoch: 9, Iter: 300, Loss: 0.03471546474099159\n",
            "Epoch: 9, Iter: 400, Loss: 0.03443267546594143\n",
            "Epoch: 10, Iter: 100, Loss: 0.031878046184778214\n",
            "Epoch: 10, Iter: 200, Loss: 0.03236871939897537\n",
            "Epoch: 10, Iter: 300, Loss: 0.03140765988826752\n",
            "Epoch: 10, Iter: 400, Loss: 0.029558349952101708\n"
          ]
        }
      ]
    },
    {
      "cell_type": "code",
      "source": [
        "correct = 0\n",
        "total = 0\n",
        "\n",
        "with torch.no_grad():\n",
        "    for data in test_loader128:\n",
        "        images, labels = data[0].to(device), data[1].to(device)\n",
        "        outputs = new_model(images)\n",
        "        _, predicted = torch.max(outputs.data, axis=1)\n",
        "        total += labels.size(0)\n",
        "        correct += (predicted == labels).sum().item()\n",
        "    \n",
        "    print(100 * correct / total)"
      ],
      "metadata": {
        "colab": {
          "base_uri": "https://localhost:8080/"
        },
        "outputId": "13b02341-a470-4e21-9d2e-88cab644e409",
        "id": "X0H3p7PGD42q"
      },
      "execution_count": 63,
      "outputs": [
        {
          "output_type": "stream",
          "name": "stdout",
          "text": [
            "76.48\n"
          ]
        }
      ]
    }
  ]
}