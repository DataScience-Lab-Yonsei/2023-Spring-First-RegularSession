{
  "cells": [
    {
      "cell_type": "markdown",
      "metadata": {
        "id": "cdNvme8aKSBP"
      },
      "source": [
        "# 초기 세팅"
      ]
    },
    {
      "cell_type": "code",
      "execution_count": 1,
      "metadata": {
        "id": "P1v9luAfHXdz"
      },
      "outputs": [],
      "source": [
        "import torch\n",
        "import torch.nn as nn\n",
        "import torch.nn.functional as F\n",
        "import torch.optim as optim\n",
        "from torch.utils.data import Dataset, DataLoader\n",
        "\n",
        "import torchvision\n",
        "import torchvision.datasets as datasets\n",
        "import torchvision.transforms as transforms\n",
        "\n",
        "import numpy as np\n",
        "import matplotlib.pyplot as plt\n",
        "plt.style.use('seaborn-white')"
      ]
    },
    {
      "cell_type": "code",
      "execution_count": 2,
      "metadata": {
        "colab": {
          "base_uri": "https://localhost:8080/"
        },
        "id": "D39aCPyTu2Ce",
        "outputId": "9ee209bf-2364-4b83-917b-9791c4edcaf1"
      },
      "outputs": [
        {
          "output_type": "stream",
          "name": "stdout",
          "text": [
            "Looking in indexes: https://pypi.org/simple, https://us-python.pkg.dev/colab-wheels/public/simple/\n",
            "Requirement already satisfied: torchsummary in /usr/local/lib/python3.8/dist-packages (1.5.1)\n"
          ]
        }
      ],
      "source": [
        "!pip install torchsummary\n",
        "from torchsummary import summary"
      ]
    },
    {
      "cell_type": "markdown",
      "metadata": {
        "id": "02LdHlTTSz5L"
      },
      "source": [
        "- 현재 GPU 설정"
      ]
    },
    {
      "cell_type": "code",
      "execution_count": 3,
      "metadata": {
        "colab": {
          "base_uri": "https://localhost:8080/"
        },
        "id": "Ybsjn80uSx3X",
        "outputId": "1096daf8-007d-478d-a728-91e0849b4574"
      },
      "outputs": [
        {
          "output_type": "execute_result",
          "data": {
            "text/plain": [
              "True"
            ]
          },
          "metadata": {},
          "execution_count": 3
        }
      ],
      "source": [
        "# colab의 runtime-type을 GPU로 설정해서, True가 나오도록 한다.\n",
        "\n",
        "torch.cuda.is_available()"
      ]
    },
    {
      "cell_type": "code",
      "execution_count": 4,
      "metadata": {
        "colab": {
          "base_uri": "https://localhost:8080/"
        },
        "id": "HlPZI5wfDQhv",
        "outputId": "4bb8e98e-6f01-4ab0-8a7d-7ae0d913edf8"
      },
      "outputs": [
        {
          "output_type": "execute_result",
          "data": {
            "text/plain": [
              "device(type='cuda')"
            ]
          },
          "metadata": {},
          "execution_count": 4
        }
      ],
      "source": [
        "use_cuda = torch.cuda.is_available()\n",
        "device = torch.device(\"cuda\" if use_cuda else \"cpu\")\n",
        "device"
      ]
    },
    {
      "cell_type": "markdown",
      "metadata": {
        "id": "OHckdZ55KeH2"
      },
      "source": [
        "# FashionMNIST 분류 모델 만들기\n",
        "* 흑/백(1) 이미지 데이터 분류\n",
        "* 28x28 pixel"
      ]
    },
    {
      "cell_type": "markdown",
      "metadata": {
        "id": "mCrBa-gRRMEO"
      },
      "source": [
        "## 데이터 로드"
      ]
    },
    {
      "cell_type": "code",
      "execution_count": 5,
      "metadata": {
        "id": "vYP9dGrWzDqd"
      },
      "outputs": [],
      "source": [
        "# 데이터 전처리\n",
        "\n",
        "MNIST_transform = transforms.Compose([transforms.ToTensor(), # tensor로 펴준다.\n",
        "                                      transforms.Normalize((0.5,),(0.5,))]) # 정규화를 해준다."
      ]
    },
    {
      "cell_type": "code",
      "execution_count": 6,
      "metadata": {
        "id": "VpVsTevTWE5i",
        "colab": {
          "base_uri": "https://localhost:8080/",
          "height": 492,
          "referenced_widgets": [
            "14d127ede0614465823d8b81facdbdb3",
            "b759f37ecb9e42068e5bb9dcd6f82062",
            "17315fcb19c540c1a7af3696dcff54de",
            "6a089b554d034786b586587ecd6d188e",
            "16b47821c1e9405ba4d5509b92755be7",
            "a5e48aa7b1a44543889f78f8cc7dccfc",
            "2d545cfeda2f42aba68f8466bd1b0dec",
            "ea185e5ce47843508c49bb8d91700437",
            "c05bece06a884dff88bb376fa3e9d5c2",
            "576d86d1b9c742f1a4327ce0c88eb3c6",
            "6c51d92f291b4b92bf4d135eb07ae724",
            "bd75cd2b8dcc4b4091694d93c2635f5e",
            "5c300d6d56f14431a92011fb20a3b1e6",
            "01790809d6ba4ac7b051c3cba2231aca",
            "4012aa3af6b04489badce70c6584e6ea",
            "73662dc7e00f4311835a056e3768d37a",
            "7e2f302cf8f34b74b2841911acb2bff9",
            "1a55d82f4e79430c97b1aca6aedcce96",
            "5a37f20b147843018d0e2f8f9e7a911d",
            "f00749e4d68b419ab2babb672c9cc653",
            "ced3e2e39dd6472287e8732fc13d80e8",
            "5431765440a84f398d7a8e21e8794f62",
            "f2e31ae309ab4bc78365662f95e6588b",
            "3399c1b9cf1f4600a32a59dc2ffd513d",
            "fce8fc7ed9ba414e9a0eadb7cbcaa808",
            "5732c9cd6fb54877b01a482d957f899a",
            "d0ada62b30634e8f96f1703f269b0fd2",
            "9817fbf8b3e14d6b991961434f1eafeb",
            "588593c1bb96443b96e6974b93a7ded4",
            "4bbb3947e8314800af064708ca5f109c",
            "5d443cb2060f43b0a6a383345147bad8",
            "d2b151c652474c8583ae425ff598acec",
            "3d3f784d4a1a44dcb6014a7f7f05fa98",
            "cf919f8e204f49bab577144ecdd3a570",
            "9e3f0922daa846dfad8fc535f2c2df55",
            "4d0b53ff01c04c9cb609ff40da9fb1b4",
            "020800813b794ba09b789cb67f19789c",
            "ef00af28de5943e4afdd14683bdb06b7",
            "7a1b791daec44ad0afe927ed7d509265",
            "acdb86fee169435692ec1bd0615253c1",
            "ba943247765840bea04ddbd3285d8891",
            "e23772ea0c3d4323906a2c0e95ead147",
            "a121f95e6dea4f7188160df0eb6d9ad2",
            "6b63034ffb614a81b3b86e7969378557"
          ]
        },
        "outputId": "8ee3869d-2dc0-4561-9369-45e89acd2b9a"
      },
      "outputs": [
        {
          "output_type": "stream",
          "name": "stdout",
          "text": [
            "Downloading http://fashion-mnist.s3-website.eu-central-1.amazonaws.com/train-images-idx3-ubyte.gz\n",
            "Downloading http://fashion-mnist.s3-website.eu-central-1.amazonaws.com/train-images-idx3-ubyte.gz to /content/FashionMNIST/raw/train-images-idx3-ubyte.gz\n"
          ]
        },
        {
          "output_type": "display_data",
          "data": {
            "text/plain": [
              "  0%|          | 0/26421880 [00:00<?, ?it/s]"
            ],
            "application/vnd.jupyter.widget-view+json": {
              "version_major": 2,
              "version_minor": 0,
              "model_id": "14d127ede0614465823d8b81facdbdb3"
            }
          },
          "metadata": {}
        },
        {
          "output_type": "stream",
          "name": "stdout",
          "text": [
            "Extracting /content/FashionMNIST/raw/train-images-idx3-ubyte.gz to /content/FashionMNIST/raw\n",
            "\n",
            "Downloading http://fashion-mnist.s3-website.eu-central-1.amazonaws.com/train-labels-idx1-ubyte.gz\n",
            "Downloading http://fashion-mnist.s3-website.eu-central-1.amazonaws.com/train-labels-idx1-ubyte.gz to /content/FashionMNIST/raw/train-labels-idx1-ubyte.gz\n"
          ]
        },
        {
          "output_type": "display_data",
          "data": {
            "text/plain": [
              "  0%|          | 0/29515 [00:00<?, ?it/s]"
            ],
            "application/vnd.jupyter.widget-view+json": {
              "version_major": 2,
              "version_minor": 0,
              "model_id": "bd75cd2b8dcc4b4091694d93c2635f5e"
            }
          },
          "metadata": {}
        },
        {
          "output_type": "stream",
          "name": "stdout",
          "text": [
            "Extracting /content/FashionMNIST/raw/train-labels-idx1-ubyte.gz to /content/FashionMNIST/raw\n",
            "\n",
            "Downloading http://fashion-mnist.s3-website.eu-central-1.amazonaws.com/t10k-images-idx3-ubyte.gz\n",
            "Downloading http://fashion-mnist.s3-website.eu-central-1.amazonaws.com/t10k-images-idx3-ubyte.gz to /content/FashionMNIST/raw/t10k-images-idx3-ubyte.gz\n"
          ]
        },
        {
          "output_type": "display_data",
          "data": {
            "text/plain": [
              "  0%|          | 0/4422102 [00:00<?, ?it/s]"
            ],
            "application/vnd.jupyter.widget-view+json": {
              "version_major": 2,
              "version_minor": 0,
              "model_id": "f2e31ae309ab4bc78365662f95e6588b"
            }
          },
          "metadata": {}
        },
        {
          "output_type": "stream",
          "name": "stdout",
          "text": [
            "Extracting /content/FashionMNIST/raw/t10k-images-idx3-ubyte.gz to /content/FashionMNIST/raw\n",
            "\n",
            "Downloading http://fashion-mnist.s3-website.eu-central-1.amazonaws.com/t10k-labels-idx1-ubyte.gz\n",
            "Downloading http://fashion-mnist.s3-website.eu-central-1.amazonaws.com/t10k-labels-idx1-ubyte.gz to /content/FashionMNIST/raw/t10k-labels-idx1-ubyte.gz\n"
          ]
        },
        {
          "output_type": "display_data",
          "data": {
            "text/plain": [
              "  0%|          | 0/5148 [00:00<?, ?it/s]"
            ],
            "application/vnd.jupyter.widget-view+json": {
              "version_major": 2,
              "version_minor": 0,
              "model_id": "cf919f8e204f49bab577144ecdd3a570"
            }
          },
          "metadata": {}
        },
        {
          "output_type": "stream",
          "name": "stdout",
          "text": [
            "Extracting /content/FashionMNIST/raw/t10k-labels-idx1-ubyte.gz to /content/FashionMNIST/raw\n",
            "\n"
          ]
        }
      ],
      "source": [
        "trainset = datasets.FashionMNIST(root='/content',\n",
        "                                 train=True, download=True,\n",
        "                                 transform=MNIST_transform)\n",
        "\n",
        "testset = datasets.FashionMNIST(root='/content',\n",
        "                                 train=False, download=True,\n",
        "                                 transform=MNIST_transform)"
      ]
    },
    {
      "cell_type": "markdown",
      "metadata": {
        "id": "qh7uI7ewsipv"
      },
      "source": [
        "input-data size 확인"
      ]
    },
    {
      "cell_type": "code",
      "execution_count": 7,
      "metadata": {
        "id": "Dz-CJf0x0nne"
      },
      "outputs": [],
      "source": [
        "# batch-size=128\n",
        "train_loader128 =  DataLoader(trainset, batch_size=128, shuffle=True, num_workers=2)\n",
        "test_loader128 =  DataLoader(testset, batch_size=128, shuffle=False, num_workers=2)\n",
        "\n",
        "# batch-size=64\n",
        "train_loader64 =  DataLoader(trainset, batch_size=64, shuffle=True, num_workers=2)\n",
        "test_loader64 =  DataLoader(testset, batch_size=64, shuffle=False, num_workers=2)"
      ]
    },
    {
      "cell_type": "code",
      "execution_count": 8,
      "metadata": {
        "colab": {
          "base_uri": "https://localhost:8080/"
        },
        "id": "iy6D1Rg_07fD",
        "outputId": "1db8c283-e43a-4ba1-d275-70f31c82d28d"
      },
      "outputs": [
        {
          "output_type": "execute_result",
          "data": {
            "text/plain": [
              "(torch.Size([128, 1, 28, 28]), torch.Size([128]))"
            ]
          },
          "metadata": {},
          "execution_count": 8
        }
      ],
      "source": [
        "# 128 : batch-size\n",
        "# 1 : 흑백\n",
        "# 28x28 : pixel-size\n",
        "\n",
        "images128, labels128 = next(iter(train_loader128))\n",
        "images128.shape, labels128.shape"
      ]
    },
    {
      "cell_type": "code",
      "execution_count": 9,
      "metadata": {
        "colab": {
          "base_uri": "https://localhost:8080/"
        },
        "id": "AotS6123m9sK",
        "outputId": "b90a7188-d514-4640-aa30-cf49ac867b2a"
      },
      "outputs": [
        {
          "output_type": "execute_result",
          "data": {
            "text/plain": [
              "(torch.Size([64, 1, 28, 28]), torch.Size([64]))"
            ]
          },
          "metadata": {},
          "execution_count": 9
        }
      ],
      "source": [
        "# 64 : batch-size\n",
        "# 1 : 흑백\n",
        "# 28x28 : pixel-size\n",
        "\n",
        "images64, labels64 = next(iter(train_loader64))\n",
        "images64.shape, labels64.shape"
      ]
    },
    {
      "cell_type": "code",
      "execution_count": 10,
      "metadata": {
        "id": "g4Nd4uLGTEDy"
      },
      "outputs": [],
      "source": [
        "# 숫자 label에 해당되는 값\n",
        "\n",
        "labels_map = {\n",
        "    0: 'T-Shirt',\n",
        "    1: 'Trouser',\n",
        "    2: 'Pullover',\n",
        "    3: 'Dress',\n",
        "    4: 'Coat',\n",
        "    5: 'Sandal',\n",
        "    6: 'Shirt',\n",
        "    7: 'Sneaker',\n",
        "    8: 'Bag',\n",
        "    9: 'Ankle Boot'\n",
        "}"
      ]
    },
    {
      "cell_type": "code",
      "execution_count": 11,
      "metadata": {
        "colab": {
          "base_uri": "https://localhost:8080/",
          "height": 177
        },
        "id": "_u5_UEAH09SB",
        "outputId": "53d35cf0-d3a9-4319-e08d-a48120c40624"
      },
      "outputs": [
        {
          "output_type": "display_data",
          "data": {
            "text/plain": [
              "<Figure size 864x864 with 4 Axes>"
            ],
            "image/png": "[encoded data removed]"
          },
          "metadata": {}
        }
      ],
      "source": [
        "# 데이터 확인\n",
        "\n",
        "figure = plt.figure(figsize=(12,12))\n",
        "cols, rows = 4, 1\n",
        "\n",
        "for i in range(1, cols * rows + 1):\n",
        "    image = images128[i].squeeze()\n",
        "    label_idx = labels128[i].item() # y_label\n",
        "    label = labels_map[label_idx] # 위에서 해당되는 label\n",
        "\n",
        "    figure.add_subplot(rows, cols, i)\n",
        "    plt.title(label)\n",
        "    plt.axis('off')\n",
        "    plt.imshow(image, cmap='gray')\n",
        "\n",
        "plt.show()"
      ]
    },
    {
      "cell_type": "markdown",
      "metadata": {
        "id": "EFPYE3UUnpmX"
      },
      "source": [
        "## 모델 1 생성\n",
        "* 10개의 convolution-layer(Conv2d)와 2개의 fully-connected(fc)로 이루어진 모델\n",
        "* Total params: 28,784"
      ]
    },
    {
      "cell_type": "markdown",
      "metadata": {
        "id": "orF-z9choFaB"
      },
      "source": [
        "input-data size\n",
        "* train_loader128(batch-size;128) : 128, 1, 28, 28\n",
        "* train_loader64(batch-size;64) : 64, 1, 28, 28\n",
        "\n",
        "\n",
        "구현해야하는 모델 정보<br>\n",
        "* convolution-layer 1\n",
        "* maxpooling-layer\n",
        "* convolution-layer 2\n",
        "* convolution-layer 3\n",
        "* convolution-layer 4\n",
        "* convolution-layer 5\n",
        "* convolution-layer 6\n",
        "* convolution-layer 7\n",
        "* convolution-layer 8\n",
        "* convolution-layer 9\n",
        "* maxpooling-layer\n",
        "* convolution-layer 10\n",
        "* flatten\n",
        "* fc1\n",
        "* fc2\n",
        "\n",
        "추가 정보\n",
        "* 활성화함수 : relu\n",
        "(단, maxpooling과 마지막 fc2에는 보통적으로 활성화함수를 사용하지 않는다.)\n",
        "* flatten의 경우, weights가 들어가지 않는다. 즉, layer라고는 볼 수 없다.\n",
        "\n",
        "모델의 layer를 통과함에 따라 데이터의 크기 변화는 다음과 같다.\n",
        "1. batch-size128 -> torch.Size([128, 1, 28, 28]) 으로 시작\n",
        "2. batch-size;64 -> torch.Size([64, 1, 28, 28]) 으로 시작\n",
        "> * torch.Size([128 or 64, 5, 30, 30])\n",
        "> * torch.Size([128 or 64, 5, 15, 15])\n",
        "> * torch.Size([128 or 64, 7, 15, 15])\n",
        "> * torch.Size([128 or 64, 16, 16, 16])\n",
        "> * torch.Size([128 or 64, 19, 15, 15])\n",
        "> * torch.Size([128 or 64, 29, 13, 13])\n",
        "> * torch.Size([128 or 64, 29, 14, 14])\n",
        "> * torch.Size([128 or 64, 6, 12, 12])\n",
        "> * torch.Size([128 or 64, 2, 12, 12])\n",
        "> * torch.Size([128 or 64, 10, 7, 7])\n",
        "> * torch.Size([128 or 64, 20, 7, 7])\n",
        "> * torch.Size([128 or 64, 20, 3, 3])\n",
        "> * torch.Size([128 or 64, 180])\n",
        "> * torch.Size([128 or 64, 86])\n",
        "> * torch.Size([128 or 64, 10]) "
      ]
    },
    {
      "cell_type": "code",
      "execution_count": 18,
      "metadata": {
        "id": "EedVZU7Knv0X"
      },
      "outputs": [],
      "source": [
        "class CNN_Model1(nn.Module):\n",
        "    def __init__(self):\n",
        "        super(CNN_Model1, self).__init__()\n",
        "\n",
        "\n",
        "\n",
        "        self.conv1 = nn.Conv2d(in_channels=1, out_channels=5, kernel_size=3, stride=1, padding=2)\n",
        "        # in-channels = 1 <- 흑/백\n",
        "        # out-channels = 5\n",
        "        # kernel_size / filter-size = 2x2 -> f=3\n",
        "        # stride = 1(default) -> s=1\n",
        "        # padding = 2(default) -> p=2\n",
        "        # input-data pixel size = 28x28 -> n=28\n",
        "        # (n-f+2p)/s + 1 = new n\n",
        "        # (28-3+2x2)/1 + 1 = 30\n",
        "    \n",
        "        # maxpool : n=30 -> 15\n",
        "\n",
        "        self.conv2 = nn.Conv2d(5, 7, 3, padding=1)\n",
        "        # in-channels = 5 <- 이전것의 out-channels\n",
        "        # out-channels = 7\n",
        "        # filter-size = 3x3\n",
        "        # stride = 1(default)\n",
        "        # padding = 1\n",
        "        # (n-f+2p)/s + 1 = new n    \n",
        "        # (15-3+2x1)/1 + 1 = 15\n",
        "\n",
        "        self.conv3 = nn.Conv2d(7,16,2, padding=1)\n",
        "        self.conv4 = nn.Conv2d(16,19,2)\n",
        "        self.conv5 = nn.Conv2d(19,29,3)\n",
        "        self.conv6 = nn.Conv2d(29,29,2, padding=1)\n",
        "        self.conv7 = nn.Conv2d(29,6,3)\n",
        "        self.conv8 = nn.Conv2d(6,2,1,)\n",
        "        self.conv9 = nn.Conv2d(2,10,2, stride=2, padding=1)\n",
        "        self.conv10 = nn.Conv2d(10,20,1)\n",
        "\n",
        "        self.fc1 = nn.Linear(180,86)\n",
        "        self.fc2 = nn.Linear(86,10)\n",
        "\n",
        "\n",
        "    def forward(self, x):\n",
        "        x = F.relu(self.conv1(x))\n",
        "        x = F.max_pool2d(x, (2,2))\n",
        "        x = F.relu(self.conv2(x))\n",
        "        x = F.relu(self.conv3(x))\n",
        "        x = F.relu(self.conv4(x))\n",
        "        x = F.relu(self.conv5(x))\n",
        "        x = F.relu(self.conv6(x))\n",
        "        x = F.relu(self.conv7(x))\n",
        "        x = F.relu(self.conv8(x))\n",
        "        x = F.relu(self.conv9(x))\n",
        "        x = F.max_pool2d(x, (2,2))\n",
        "        x = F.relu(self.conv10(x))\n",
        "\n",
        "        x = x.view(-1, self.num_flat_features(x)) # num_flat_features : 아래에서 정의\n",
        "        x = F.relu(self.fc1(x))\n",
        "        x = self.fc2(x)\n",
        "        return x\n",
        "    \n",
        "    def num_flat_features(self, x): # 처음 dim-size을 제외하고, 모두 곱한 값을 반환해준다.\n",
        "        size = x.size()[1:]\n",
        "        num_features = 1\n",
        "        for s in size:\n",
        "            num_features *= s\n",
        "        \n",
        "        return num_features"
      ]
    },
    {
      "cell_type": "code",
      "execution_count": 19,
      "metadata": {
        "colab": {
          "base_uri": "https://localhost:8080/"
        },
        "id": "RiMZ7sX6oDn3",
        "outputId": "55d89db6-7dac-4ec6-8bc2-1a83a40cbabb"
      },
      "outputs": [
        {
          "output_type": "stream",
          "name": "stdout",
          "text": [
            "CNN_Model1(\n",
            "  (conv1): Conv2d(1, 5, kernel_size=(3, 3), stride=(1, 1), padding=(2, 2))\n",
            "  (conv2): Conv2d(5, 7, kernel_size=(3, 3), stride=(1, 1), padding=(1, 1))\n",
            "  (conv3): Conv2d(7, 16, kernel_size=(2, 2), stride=(1, 1), padding=(1, 1))\n",
            "  (conv4): Conv2d(16, 19, kernel_size=(2, 2), stride=(1, 1))\n",
            "  (conv5): Conv2d(19, 29, kernel_size=(3, 3), stride=(1, 1))\n",
            "  (conv6): Conv2d(29, 29, kernel_size=(2, 2), stride=(1, 1), padding=(1, 1))\n",
            "  (conv7): Conv2d(29, 6, kernel_size=(3, 3), stride=(1, 1))\n",
            "  (conv8): Conv2d(6, 2, kernel_size=(1, 1), stride=(1, 1))\n",
            "  (conv9): Conv2d(2, 10, kernel_size=(2, 2), stride=(2, 2), padding=(1, 1))\n",
            "  (conv10): Conv2d(10, 20, kernel_size=(1, 1), stride=(1, 1))\n",
            "  (fc1): Linear(in_features=180, out_features=86, bias=True)\n",
            "  (fc2): Linear(in_features=86, out_features=10, bias=True)\n",
            ")\n"
          ]
        }
      ],
      "source": [
        "# 모델객체 생성\n",
        "DeepConv_net128 = CNN_Model1().to(device)\n",
        "DeepConv_net64 = CNN_Model1().to(device)\n",
        "\n",
        "print(DeepConv_net128)"
      ]
    },
    {
      "cell_type": "code",
      "execution_count": 20,
      "metadata": {
        "colab": {
          "base_uri": "https://localhost:8080/"
        },
        "id": "8gBjDmoc7fJh",
        "outputId": "48dd86dc-eb34-446c-947c-387d4c2b1ac0"
      },
      "outputs": [
        {
          "output_type": "execute_result",
          "data": {
            "text/plain": [
              "torch.Size([128, 1, 28, 28])"
            ]
          },
          "metadata": {},
          "execution_count": 20
        }
      ],
      "source": [
        "input = images128.to(device)\n",
        "input.size()"
      ]
    },
    {
      "cell_type": "code",
      "execution_count": 21,
      "metadata": {
        "colab": {
          "base_uri": "https://localhost:8080/"
        },
        "id": "tflPlTme7h9x",
        "outputId": "ed325083-ca9a-48f6-8285-1ae084252081"
      },
      "outputs": [
        {
          "output_type": "execute_result",
          "data": {
            "text/plain": [
              "torch.Size([128, 10])"
            ]
          },
          "metadata": {},
          "execution_count": 21
        }
      ],
      "source": [
        "output = DeepConv_net128.forward(input)\n",
        "output.size()"
      ]
    },
    {
      "cell_type": "code",
      "execution_count": 22,
      "metadata": {
        "colab": {
          "base_uri": "https://localhost:8080/"
        },
        "id": "DSH3qCADujAi",
        "outputId": "d164b178-426f-46c6-fabf-cf1860117c97"
      },
      "outputs": [
        {
          "output_type": "stream",
          "name": "stdout",
          "text": [
            "----------------------------------------------------------------\n",
            "        Layer (type)               Output Shape         Param #\n",
            "================================================================\n",
            "            Conv2d-1           [128, 5, 30, 30]              50\n",
            "            Conv2d-2           [128, 7, 15, 15]             322\n",
            "            Conv2d-3          [128, 16, 16, 16]             464\n",
            "            Conv2d-4          [128, 19, 15, 15]           1,235\n",
            "            Conv2d-5          [128, 29, 13, 13]           4,988\n",
            "            Conv2d-6          [128, 29, 14, 14]           3,393\n",
            "            Conv2d-7           [128, 6, 12, 12]           1,572\n",
            "            Conv2d-8           [128, 2, 12, 12]              14\n",
            "            Conv2d-9            [128, 10, 7, 7]              90\n",
            "           Conv2d-10            [128, 20, 3, 3]             220\n",
            "           Linear-11                  [128, 86]          15,566\n",
            "           Linear-12                  [128, 10]             870\n",
            "================================================================\n",
            "Total params: 28,784\n",
            "Trainable params: 28,784\n",
            "Non-trainable params: 0\n",
            "----------------------------------------------------------------\n",
            "Input size (MB): 0.38\n",
            "Forward/backward pass size (MB): 26.32\n",
            "Params size (MB): 0.11\n",
            "Estimated Total Size (MB): 26.81\n",
            "----------------------------------------------------------------\n"
          ]
        }
      ],
      "source": [
        "summary(DeepConv_net128, input_size=(1, 28, 28), batch_size=128)"
      ]
    },
    {
      "cell_type": "code",
      "execution_count": 23,
      "metadata": {
        "colab": {
          "base_uri": "https://localhost:8080/"
        },
        "id": "jcybKk5Nvj4Z",
        "outputId": "96a5a517-82e9-4f52-f857-10df20596a8d"
      },
      "outputs": [
        {
          "output_type": "execute_result",
          "data": {
            "text/plain": [
              "torch.Size([64, 1, 28, 28])"
            ]
          },
          "metadata": {},
          "execution_count": 23
        }
      ],
      "source": [
        "input = images64.to(device)\n",
        "input.size()"
      ]
    },
    {
      "cell_type": "code",
      "execution_count": 24,
      "metadata": {
        "colab": {
          "base_uri": "https://localhost:8080/"
        },
        "id": "y2PZCHyyvj4a",
        "outputId": "319c2140-5ab8-4ffc-bc40-2a7bf3b2c5cb"
      },
      "outputs": [
        {
          "output_type": "execute_result",
          "data": {
            "text/plain": [
              "torch.Size([64, 10])"
            ]
          },
          "metadata": {},
          "execution_count": 24
        }
      ],
      "source": [
        "output = DeepConv_net64.forward(input)\n",
        "output.size()"
      ]
    },
    {
      "cell_type": "code",
      "execution_count": 25,
      "metadata": {
        "colab": {
          "base_uri": "https://localhost:8080/"
        },
        "id": "uh1pmRXcvZP8",
        "outputId": "045d9167-abfa-49b9-edf1-c5e0f34bdd09"
      },
      "outputs": [
        {
          "output_type": "stream",
          "name": "stdout",
          "text": [
            "----------------------------------------------------------------\n",
            "        Layer (type)               Output Shape         Param #\n",
            "================================================================\n",
            "            Conv2d-1            [64, 5, 30, 30]              50\n",
            "            Conv2d-2            [64, 7, 15, 15]             322\n",
            "            Conv2d-3           [64, 16, 16, 16]             464\n",
            "            Conv2d-4           [64, 19, 15, 15]           1,235\n",
            "            Conv2d-5           [64, 29, 13, 13]           4,988\n",
            "            Conv2d-6           [64, 29, 14, 14]           3,393\n",
            "            Conv2d-7            [64, 6, 12, 12]           1,572\n",
            "            Conv2d-8            [64, 2, 12, 12]              14\n",
            "            Conv2d-9             [64, 10, 7, 7]              90\n",
            "           Conv2d-10             [64, 20, 3, 3]             220\n",
            "           Linear-11                   [64, 86]          15,566\n",
            "           Linear-12                   [64, 10]             870\n",
            "================================================================\n",
            "Total params: 28,784\n",
            "Trainable params: 28,784\n",
            "Non-trainable params: 0\n",
            "----------------------------------------------------------------\n",
            "Input size (MB): 0.19\n",
            "Forward/backward pass size (MB): 13.16\n",
            "Params size (MB): 0.11\n",
            "Estimated Total Size (MB): 13.46\n",
            "----------------------------------------------------------------\n"
          ]
        }
      ],
      "source": [
        "summary(DeepConv_net64, input_size=(1, 28, 28), batch_size=64)"
      ]
    },
    {
      "cell_type": "markdown",
      "metadata": {
        "id": "xVxKI_rwCvhI"
      },
      "source": [
        "## 모델 2 생성\n",
        "* 2개의 convolution-layer(Conv2d)와 5개의 fully-connected(fc)로 이루어진 모델\n",
        "* Total params: 9,516,488"
      ]
    },
    {
      "cell_type": "markdown",
      "metadata": {
        "id": "uN5s0Re-CvhI"
      },
      "source": [
        "input-data size\n",
        "* train_loader128(batch-size;128) : 128, 1, 28, 28\n",
        "* train_loader64(batch-size;64) : 64, 1, 28, 28\n",
        "\n",
        "\n",
        "구현해야하는 모델 정보<br>\n",
        "* convolution-layer 1\n",
        "* maxpooling-layer\n",
        "* convolution-layer 2\n",
        "* flatten\n",
        "* fc1\n",
        "* fc2\n",
        "* fc3\n",
        "* fc4\n",
        "* fc5\n",
        "\n",
        "추가 정보\n",
        "* 활성화함수 : relu\n",
        "(단, maxpooling과 마지막 fc5에는 보통적으로 활성화함수를 사용하지 않는다.)\n",
        "* flatten의 경우, weights가 들어가지 않는다. 즉, layer라고는 볼 수 없다.\n",
        "\n",
        "모델의 layer를 통과함에 따라 데이터의 크기 변화는 다음과 같다.\n",
        "\n",
        "1. batch-size128 -> torch.Size([128, 1, 28, 28]) 으로 시작\n",
        "2. batch-size;64 -> torch.Size([64, 1, 28, 28]) 으로 시작\n",
        "> * torch.Size([128 or 64, 5, 30, 30])\n",
        "> * torch.Size([128 or 64, 5, 15, 15])\n",
        "> * torch.Size([128 or 64, 7, 15, 15])\n",
        "> * torch.Size([128 or 64, 1575])\n",
        "> * torch.Size([128 or 64, 3000])\n",
        "> * torch.Size([128 or 64, 1500])\n",
        "> * torch.Size([128 or 64, 180])\n",
        "> * torch.Size([128 or 64, 86])\n",
        "> * torch.Size([128 or 64, 10])"
      ]
    },
    {
      "cell_type": "code",
      "execution_count": 26,
      "metadata": {
        "id": "JfSM-k0DCvhI"
      },
      "outputs": [],
      "source": [
        "class CNN_Model2(nn.Module):\n",
        "    def __init__(self):\n",
        "        super(CNN_Model2, self).__init__()\n",
        "\n",
        "        self.conv1 = nn.Conv2d(in_channels=1, out_channels=5, kernel_size=3, stride=1, padding=2)\n",
        "        self.conv2 = nn.Conv2d(5, 7, 3, padding=1)\n",
        "        self.fc1 = nn.Linear(1575,3000)\n",
        "        self.fc2 = nn.Linear(3000,1500)\n",
        "        self.fc3 = nn.Linear(1500,180)\n",
        "        self.fc4 = nn.Linear(180,86)\n",
        "        self.fc5 = nn.Linear(86,10)\n",
        "\n",
        "    def forward(self, x):\n",
        "        x = F.relu(self.conv1(x))\n",
        "        x = F.max_pool2d(x,2)\n",
        "        x = F.relu(self.conv2(x))\n",
        "        x = x.view(-1, self.num_flat_features(x))\n",
        "        x = F.relu(self.fc1(x))\n",
        "        x = F.relu(self.fc2(x))\n",
        "        x = F.relu(self.fc3(x))\n",
        "        x = F.relu(self.fc4(x))\n",
        "        x = self.fc5(x)\n",
        "        return x\n",
        "    \n",
        "    def num_flat_features(self, x): # 처음 dim-size을 제외하고, 모두 곱한 값을 반환해준다.\n",
        "        size = x.size()[1:]\n",
        "        num_features = 1\n",
        "        for s in size:\n",
        "            num_features *= s\n",
        "        \n",
        "        return num_features"
      ]
    },
    {
      "cell_type": "code",
      "execution_count": 27,
      "metadata": {
        "colab": {
          "base_uri": "https://localhost:8080/"
        },
        "id": "QQ_AnPi5CvhI",
        "outputId": "e5b9852f-9b55-4fc3-c6d1-3c727dcfbd73"
      },
      "outputs": [
        {
          "output_type": "stream",
          "name": "stdout",
          "text": [
            "CNN_Model2(\n",
            "  (conv1): Conv2d(1, 5, kernel_size=(3, 3), stride=(1, 1), padding=(2, 2))\n",
            "  (conv2): Conv2d(5, 7, kernel_size=(3, 3), stride=(1, 1), padding=(1, 1))\n",
            "  (fc1): Linear(in_features=1575, out_features=3000, bias=True)\n",
            "  (fc2): Linear(in_features=3000, out_features=1500, bias=True)\n",
            "  (fc3): Linear(in_features=1500, out_features=180, bias=True)\n",
            "  (fc4): Linear(in_features=180, out_features=86, bias=True)\n",
            "  (fc5): Linear(in_features=86, out_features=10, bias=True)\n",
            ")\n"
          ]
        }
      ],
      "source": [
        "# 모델객체 생성\n",
        "DeepFC_net128 = CNN_Model2().to(device)\n",
        "DeepFC_net64 = CNN_Model2().to(device)\n",
        "\n",
        "print(DeepFC_net128)"
      ]
    },
    {
      "cell_type": "code",
      "execution_count": 28,
      "metadata": {
        "colab": {
          "base_uri": "https://localhost:8080/"
        },
        "id": "S9IVOG3pwgoS",
        "outputId": "4a2e5e58-441d-47c8-a1dc-875b1cb3a2bf"
      },
      "outputs": [
        {
          "output_type": "execute_result",
          "data": {
            "text/plain": [
              "torch.Size([128, 1, 28, 28])"
            ]
          },
          "metadata": {},
          "execution_count": 28
        }
      ],
      "source": [
        "input = images128.to(device)\n",
        "input.size()"
      ]
    },
    {
      "cell_type": "code",
      "execution_count": 29,
      "metadata": {
        "colab": {
          "base_uri": "https://localhost:8080/"
        },
        "id": "p4ydm5qCwgoT",
        "outputId": "d4f80b9f-06b9-4757-c77a-f5a84f7284cf"
      },
      "outputs": [
        {
          "output_type": "execute_result",
          "data": {
            "text/plain": [
              "torch.Size([128, 10])"
            ]
          },
          "metadata": {},
          "execution_count": 29
        }
      ],
      "source": [
        "output = DeepFC_net128.forward(input)\n",
        "output.size()"
      ]
    },
    {
      "cell_type": "code",
      "execution_count": 30,
      "metadata": {
        "colab": {
          "base_uri": "https://localhost:8080/"
        },
        "id": "Q3uN6Dw6wgoT",
        "outputId": "0f31cbb0-ed4c-40a6-b852-d19e23b30cae"
      },
      "outputs": [
        {
          "output_type": "stream",
          "name": "stdout",
          "text": [
            "----------------------------------------------------------------\n",
            "        Layer (type)               Output Shape         Param #\n",
            "================================================================\n",
            "            Conv2d-1           [128, 5, 30, 30]              50\n",
            "            Conv2d-2           [128, 7, 15, 15]             322\n",
            "            Linear-3                [128, 3000]       4,728,000\n",
            "            Linear-4                [128, 1500]       4,501,500\n",
            "            Linear-5                 [128, 180]         270,180\n",
            "            Linear-6                  [128, 86]          15,566\n",
            "            Linear-7                  [128, 10]             870\n",
            "================================================================\n",
            "Total params: 9,516,488\n",
            "Trainable params: 9,516,488\n",
            "Non-trainable params: 0\n",
            "----------------------------------------------------------------\n",
            "Input size (MB): 0.38\n",
            "Forward/backward pass size (MB): 10.60\n",
            "Params size (MB): 36.30\n",
            "Estimated Total Size (MB): 47.28\n",
            "----------------------------------------------------------------\n"
          ]
        }
      ],
      "source": [
        "summary(DeepFC_net128, input_size=(1, 28, 28), batch_size=128)"
      ]
    },
    {
      "cell_type": "code",
      "execution_count": 31,
      "metadata": {
        "colab": {
          "base_uri": "https://localhost:8080/"
        },
        "id": "d9t36x7bwgoT",
        "outputId": "c5022d2c-a383-47de-da13-6a5a4227bcc3"
      },
      "outputs": [
        {
          "output_type": "execute_result",
          "data": {
            "text/plain": [
              "torch.Size([64, 1, 28, 28])"
            ]
          },
          "metadata": {},
          "execution_count": 31
        }
      ],
      "source": [
        "input = images64.to(device)\n",
        "input.size()"
      ]
    },
    {
      "cell_type": "code",
      "execution_count": 32,
      "metadata": {
        "colab": {
          "base_uri": "https://localhost:8080/"
        },
        "id": "GFHweMakwgoT",
        "outputId": "94c6782b-9f12-451a-f98f-7be003437874"
      },
      "outputs": [
        {
          "output_type": "execute_result",
          "data": {
            "text/plain": [
              "torch.Size([64, 10])"
            ]
          },
          "metadata": {},
          "execution_count": 32
        }
      ],
      "source": [
        "output = DeepFC_net64.forward(input)\n",
        "output.size()"
      ]
    },
    {
      "cell_type": "code",
      "execution_count": 33,
      "metadata": {
        "colab": {
          "base_uri": "https://localhost:8080/"
        },
        "id": "2VIZ4WCCwgoT",
        "outputId": "865c97db-68b2-47c2-c503-b64d6102bc44"
      },
      "outputs": [
        {
          "output_type": "stream",
          "name": "stdout",
          "text": [
            "----------------------------------------------------------------\n",
            "        Layer (type)               Output Shape         Param #\n",
            "================================================================\n",
            "            Conv2d-1            [64, 5, 30, 30]              50\n",
            "            Conv2d-2            [64, 7, 15, 15]             322\n",
            "            Linear-3                 [64, 3000]       4,728,000\n",
            "            Linear-4                 [64, 1500]       4,501,500\n",
            "            Linear-5                  [64, 180]         270,180\n",
            "            Linear-6                   [64, 86]          15,566\n",
            "            Linear-7                   [64, 10]             870\n",
            "================================================================\n",
            "Total params: 9,516,488\n",
            "Trainable params: 9,516,488\n",
            "Non-trainable params: 0\n",
            "----------------------------------------------------------------\n",
            "Input size (MB): 0.19\n",
            "Forward/backward pass size (MB): 5.30\n",
            "Params size (MB): 36.30\n",
            "Estimated Total Size (MB): 41.79\n",
            "----------------------------------------------------------------\n"
          ]
        }
      ],
      "source": [
        "summary(DeepFC_net64, input_size=(1, 28, 28), batch_size=64)"
      ]
    },
    {
      "cell_type": "markdown",
      "metadata": {
        "id": "klpXGc2tCimP"
      },
      "source": [
        "## 손실함수와 옵티마이저"
      ]
    },
    {
      "cell_type": "code",
      "execution_count": 34,
      "metadata": {
        "id": "69AHX-ZXClOm"
      },
      "outputs": [],
      "source": [
        "criterion = nn.CrossEntropyLoss()\n",
        "\n",
        "optimizerDC_128 = optim.SGD(DeepConv_net128.parameters(), lr=0.001, momentum=0.9)\n",
        "optimizerDC_64 = optim.SGD(DeepConv_net64.parameters(), lr=0.001, momentum=0.9)\n",
        "optimizerFC_128 = optim.SGD(DeepFC_net128.parameters(), lr=0.001, momentum=0.9)\n",
        "optimizerFC_64 = optim.SGD(DeepFC_net64.parameters(), lr=0.001, momentum=0.9)"
      ]
    },
    {
      "cell_type": "markdown",
      "metadata": {
        "id": "huNh3EnhJLyh"
      },
      "source": [
        "## 모델 학습"
      ]
    },
    {
      "cell_type": "markdown",
      "metadata": {
        "id": "W-2Q7c6-JW9z"
      },
      "source": [
        "### 1. DeepConv_net128\n",
        "* 10개의 Convolution-layer & 2개의 fc-layer\n",
        "* 128 batch-size"
      ]
    },
    {
      "cell_type": "code",
      "execution_count": 35,
      "metadata": {
        "colab": {
          "base_uri": "https://localhost:8080/"
        },
        "id": "y-_UvdNWJR-r",
        "outputId": "47658241-776d-4d8f-84e4-493d3d2f8dec"
      },
      "outputs": [
        {
          "output_type": "stream",
          "name": "stdout",
          "text": [
            "Epoch: 1, Iter: 100, Loss: 0.1152111747264862\n",
            "Epoch: 1, Iter: 200, Loss: 0.11516565239429474\n",
            "Epoch: 1, Iter: 300, Loss: 0.11516870391368866\n",
            "Epoch: 1, Iter: 400, Loss: 0.11516591084003448\n",
            "Epoch: 2, Iter: 100, Loss: 0.11514588356018067\n",
            "Epoch: 2, Iter: 200, Loss: 0.11514634883403778\n",
            "Epoch: 2, Iter: 300, Loss: 0.11513402628898621\n",
            "Epoch: 2, Iter: 400, Loss: 0.11512994360923767\n",
            "Epoch: 3, Iter: 100, Loss: 0.11513636016845703\n",
            "Epoch: 3, Iter: 200, Loss: 0.11513406229019164\n",
            "Epoch: 3, Iter: 300, Loss: 0.11513611435890198\n",
            "Epoch: 3, Iter: 400, Loss: 0.11513007366657257\n",
            "Epoch: 4, Iter: 100, Loss: 0.11513312077522278\n",
            "Epoch: 4, Iter: 200, Loss: 0.11513071918487548\n",
            "Epoch: 4, Iter: 300, Loss: 0.1151349869966507\n",
            "Epoch: 4, Iter: 400, Loss: 0.11513115715980529\n",
            "Epoch: 5, Iter: 100, Loss: 0.11512985527515411\n",
            "Epoch: 5, Iter: 200, Loss: 0.11513363146781921\n",
            "Epoch: 5, Iter: 300, Loss: 0.11513235700130463\n",
            "Epoch: 5, Iter: 400, Loss: 0.11513355934619904\n",
            "Epoch: 6, Iter: 100, Loss: 0.11513178515434265\n",
            "Epoch: 6, Iter: 200, Loss: 0.1151284931898117\n",
            "Epoch: 6, Iter: 300, Loss: 0.11513437378406524\n",
            "Epoch: 6, Iter: 400, Loss: 0.11513197147846221\n",
            "Epoch: 7, Iter: 100, Loss: 0.1151311764717102\n",
            "Epoch: 7, Iter: 200, Loss: 0.1151294528245926\n",
            "Epoch: 7, Iter: 300, Loss: 0.11513590574264526\n",
            "Epoch: 7, Iter: 400, Loss: 0.11513125348091126\n",
            "Epoch: 8, Iter: 100, Loss: 0.11512660610675812\n",
            "Epoch: 8, Iter: 200, Loss: 0.11513039481639863\n",
            "Epoch: 8, Iter: 300, Loss: 0.11513843882083893\n",
            "Epoch: 8, Iter: 400, Loss: 0.11513155293464661\n",
            "Epoch: 9, Iter: 100, Loss: 0.11513004612922668\n",
            "Epoch: 9, Iter: 200, Loss: 0.11513170397281647\n",
            "Epoch: 9, Iter: 300, Loss: 0.11513438022136688\n",
            "Epoch: 9, Iter: 400, Loss: 0.1151351535320282\n",
            "Epoch: 10, Iter: 100, Loss: 0.11513015353679656\n",
            "Epoch: 10, Iter: 200, Loss: 0.11513309633731841\n",
            "Epoch: 10, Iter: 300, Loss: 0.11513279533386231\n",
            "Epoch: 10, Iter: 400, Loss: 0.11513118922710419\n"
          ]
        }
      ],
      "source": [
        "for epoch in range(10):\n",
        "\n",
        "    running_loss = 0.0\n",
        "\n",
        "    for i, data in enumerate(train_loader128, start=0):\n",
        "        inputs, labels = data[0].to(device), data[1].to(device)\n",
        "\n",
        "        optimizerDC_128.zero_grad() # epoch마다 gradient 0으로 초기화\n",
        "\n",
        "        outputs = DeepConv_net128(inputs) # y_pred = f(X)\n",
        "        loss = criterion(outputs, labels) # CrossEntropyLoss; 0~1 사이값\n",
        "        loss.backward() # back-propagation; gradient 계산\n",
        "        optimizerDC_128.step() # parameters(weights) update\n",
        "\n",
        "        running_loss += loss.item() # 그냥 전체적인 비교를 위해 누적함\n",
        "\n",
        "        if i % 100 == 99: # 100번 마다 확인; epoch=10, iter(=i)=469, batch=128\n",
        "            print('Epoch: {}, Iter: {}, Loss: {}'.format(epoch+1, i+1, running_loss/2000))\n",
        "            running_loss = 0.0"
      ]
    },
    {
      "cell_type": "code",
      "execution_count": 36,
      "metadata": {
        "colab": {
          "base_uri": "https://localhost:8080/"
        },
        "id": "dNa8-7SC5u2a",
        "outputId": "d803b23c-2521-4bda-c05a-0546305f11c7"
      },
      "outputs": [
        {
          "output_type": "stream",
          "name": "stdout",
          "text": [
            "Epoch: 1, Iter: 100, Loss: 0.11512775206565858\n",
            "Epoch: 1, Iter: 200, Loss: 0.11513121604919434\n",
            "Epoch: 1, Iter: 300, Loss: 0.11512991786003113\n",
            "Epoch: 1, Iter: 400, Loss: 0.11513768100738525\n",
            "Epoch: 2, Iter: 100, Loss: 0.11513005757331848\n",
            "Epoch: 2, Iter: 200, Loss: 0.11513161599636078\n",
            "Epoch: 2, Iter: 300, Loss: 0.11513282430171967\n",
            "Epoch: 2, Iter: 400, Loss: 0.11513348841667176\n",
            "Epoch: 3, Iter: 100, Loss: 0.11513144505023956\n",
            "Epoch: 3, Iter: 200, Loss: 0.11512901282310486\n",
            "Epoch: 3, Iter: 300, Loss: 0.11513333165645599\n",
            "Epoch: 3, Iter: 400, Loss: 0.11513318860530854\n",
            "Epoch: 4, Iter: 100, Loss: 0.1151294926404953\n",
            "Epoch: 4, Iter: 200, Loss: 0.11513083326816559\n",
            "Epoch: 4, Iter: 300, Loss: 0.11513308453559876\n",
            "Epoch: 4, Iter: 400, Loss: 0.11513522231578827\n",
            "Epoch: 5, Iter: 100, Loss: 0.11512690329551697\n",
            "Epoch: 5, Iter: 200, Loss: 0.11513518750667572\n",
            "Epoch: 5, Iter: 300, Loss: 0.11513302206993103\n",
            "Epoch: 5, Iter: 400, Loss: 0.11513342869281769\n"
          ]
        }
      ],
      "source": [
        "for epoch in range(5):\n",
        "\n",
        "    running_loss = 0.0\n",
        "\n",
        "    for i, data in enumerate(train_loader128, start=0):\n",
        "        inputs, labels = data[0].to(device), data[1].to(device)\n",
        "\n",
        "        optimizerDC_128.zero_grad() # epoch마다 gradient 0으로 초기화\n",
        "\n",
        "        outputs = DeepConv_net128(inputs) # y_pred = f(X)\n",
        "        loss = criterion(outputs, labels) # CrossEntropyLoss; 0~1 사이값\n",
        "        loss.backward() # back-propagation; gradient 계산\n",
        "        optimizerDC_128.step() # parameters(weights) update\n",
        "\n",
        "        running_loss += loss.item() # 그냥 전체적인 비교를 위해 누적함\n",
        "\n",
        "        if i % 100 == 99: # 100번 마다 확인; epoch=10, iter(=i)=469, batch=128\n",
        "            print('Epoch: {}, Iter: {}, Loss: {}'.format(epoch+1, i+1, running_loss/2000))\n",
        "            running_loss = 0.0"
      ]
    },
    {
      "cell_type": "markdown",
      "metadata": {
        "id": "FOUBE2UfKS6D"
      },
      "source": [
        "### 2. DeepConv_net64\n",
        "* 10개의 Convolution-layer & 2개의 fc-layer\n",
        "* 64 batch-size"
      ]
    },
    {
      "cell_type": "code",
      "execution_count": 37,
      "metadata": {
        "colab": {
          "base_uri": "https://localhost:8080/"
        },
        "id": "Q1znQlsWKS6D",
        "outputId": "f6d0824f-604b-4de2-9871-1c6f61e4998a"
      },
      "outputs": [
        {
          "output_type": "stream",
          "name": "stdout",
          "text": [
            "Epoch: 1, Iter: 100, Loss: 0.11522892045974731\n",
            "Epoch: 1, Iter: 200, Loss: 0.11520182991027832\n",
            "Epoch: 1, Iter: 300, Loss: 0.11519810819625854\n",
            "Epoch: 1, Iter: 400, Loss: 0.11516480553150177\n",
            "Epoch: 1, Iter: 500, Loss: 0.11518985509872437\n",
            "Epoch: 1, Iter: 600, Loss: 0.11513058733940125\n",
            "Epoch: 1, Iter: 700, Loss: 0.11515348315238953\n",
            "Epoch: 1, Iter: 800, Loss: 0.1151549710035324\n",
            "Epoch: 1, Iter: 900, Loss: 0.11513885736465454\n",
            "Epoch: 2, Iter: 100, Loss: 0.11513546514511108\n",
            "Epoch: 2, Iter: 200, Loss: 0.11513628852367401\n",
            "Epoch: 2, Iter: 300, Loss: 0.1151294401884079\n",
            "Epoch: 2, Iter: 400, Loss: 0.1151397968530655\n",
            "Epoch: 2, Iter: 500, Loss: 0.11513595080375671\n",
            "Epoch: 2, Iter: 600, Loss: 0.11514018440246582\n",
            "Epoch: 2, Iter: 700, Loss: 0.11513597714900971\n",
            "Epoch: 2, Iter: 800, Loss: 0.11513384580612182\n",
            "Epoch: 2, Iter: 900, Loss: 0.11513413631916046\n",
            "Epoch: 3, Iter: 100, Loss: 0.1151310271024704\n",
            "Epoch: 3, Iter: 200, Loss: 0.11512761306762695\n",
            "Epoch: 3, Iter: 300, Loss: 0.11512595903873443\n",
            "Epoch: 3, Iter: 400, Loss: 0.11514440393447876\n",
            "Epoch: 3, Iter: 500, Loss: 0.11513894116878509\n",
            "Epoch: 3, Iter: 600, Loss: 0.11513385713100434\n",
            "Epoch: 3, Iter: 700, Loss: 0.11512727558612823\n",
            "Epoch: 3, Iter: 800, Loss: 0.11514043462276459\n",
            "Epoch: 3, Iter: 900, Loss: 0.11513433456420899\n",
            "Epoch: 4, Iter: 100, Loss: 0.11513194656372071\n",
            "Epoch: 4, Iter: 200, Loss: 0.11513182365894317\n",
            "Epoch: 4, Iter: 300, Loss: 0.11513373041152954\n",
            "Epoch: 4, Iter: 400, Loss: 0.11513892245292663\n",
            "Epoch: 4, Iter: 500, Loss: 0.11513623857498169\n",
            "Epoch: 4, Iter: 600, Loss: 0.11513411176204681\n",
            "Epoch: 4, Iter: 700, Loss: 0.1151352676153183\n",
            "Epoch: 4, Iter: 800, Loss: 0.11513515067100524\n",
            "Epoch: 4, Iter: 900, Loss: 0.11513723850250245\n",
            "Epoch: 5, Iter: 100, Loss: 0.11512993121147155\n",
            "Epoch: 5, Iter: 200, Loss: 0.11513622665405274\n",
            "Epoch: 5, Iter: 300, Loss: 0.11513308894634247\n",
            "Epoch: 5, Iter: 400, Loss: 0.11513106071949006\n",
            "Epoch: 5, Iter: 500, Loss: 0.11513754212856293\n",
            "Epoch: 5, Iter: 600, Loss: 0.11513326668739318\n",
            "Epoch: 5, Iter: 700, Loss: 0.1151299420595169\n",
            "Epoch: 5, Iter: 800, Loss: 0.11514083147048951\n",
            "Epoch: 5, Iter: 900, Loss: 0.11513829398155212\n",
            "Epoch: 6, Iter: 100, Loss: 0.11513294291496277\n",
            "Epoch: 6, Iter: 200, Loss: 0.11513031566143037\n",
            "Epoch: 6, Iter: 300, Loss: 0.1151311401128769\n",
            "Epoch: 6, Iter: 400, Loss: 0.11513503873348237\n",
            "Epoch: 6, Iter: 500, Loss: 0.11513683938980103\n",
            "Epoch: 6, Iter: 600, Loss: 0.11513417279720306\n",
            "Epoch: 6, Iter: 700, Loss: 0.11513463282585144\n",
            "Epoch: 6, Iter: 800, Loss: 0.11513797616958618\n",
            "Epoch: 6, Iter: 900, Loss: 0.11513175106048584\n",
            "Epoch: 7, Iter: 100, Loss: 0.11513404893875122\n",
            "Epoch: 7, Iter: 200, Loss: 0.11513016629219056\n",
            "Epoch: 7, Iter: 300, Loss: 0.11513526022434234\n",
            "Epoch: 7, Iter: 400, Loss: 0.11513248634338379\n",
            "Epoch: 7, Iter: 500, Loss: 0.11513533294200898\n",
            "Epoch: 7, Iter: 600, Loss: 0.11513615560531616\n",
            "Epoch: 7, Iter: 700, Loss: 0.11513517773151398\n",
            "Epoch: 7, Iter: 800, Loss: 0.11513023948669433\n",
            "Epoch: 7, Iter: 900, Loss: 0.115139089345932\n",
            "Epoch: 8, Iter: 100, Loss: 0.11513449513912201\n",
            "Epoch: 8, Iter: 200, Loss: 0.11512134110927581\n",
            "Epoch: 8, Iter: 300, Loss: 0.11514096355438233\n",
            "Epoch: 8, Iter: 400, Loss: 0.11513730156421662\n",
            "Epoch: 8, Iter: 500, Loss: 0.11513206577301026\n",
            "Epoch: 8, Iter: 600, Loss: 0.1151364485025406\n",
            "Epoch: 8, Iter: 700, Loss: 0.11513346624374389\n",
            "Epoch: 8, Iter: 800, Loss: 0.11513520848751069\n",
            "Epoch: 8, Iter: 900, Loss: 0.11513347792625427\n",
            "Epoch: 9, Iter: 100, Loss: 0.11513605940341949\n",
            "Epoch: 9, Iter: 200, Loss: 0.11513401377201081\n",
            "Epoch: 9, Iter: 300, Loss: 0.11512839913368225\n",
            "Epoch: 9, Iter: 400, Loss: 0.1151378071308136\n",
            "Epoch: 9, Iter: 500, Loss: 0.11513231492042542\n",
            "Epoch: 9, Iter: 600, Loss: 0.11513414943218231\n",
            "Epoch: 9, Iter: 700, Loss: 0.1151364871263504\n",
            "Epoch: 9, Iter: 800, Loss: 0.1151373120546341\n",
            "Epoch: 9, Iter: 900, Loss: 0.11513772428035736\n",
            "Epoch: 10, Iter: 100, Loss: 0.11513231086730957\n",
            "Epoch: 10, Iter: 200, Loss: 0.11513275051116943\n",
            "Epoch: 10, Iter: 300, Loss: 0.11513383293151855\n",
            "Epoch: 10, Iter: 400, Loss: 0.1151369378566742\n",
            "Epoch: 10, Iter: 500, Loss: 0.11512889182567597\n",
            "Epoch: 10, Iter: 600, Loss: 0.11512877404689789\n",
            "Epoch: 10, Iter: 700, Loss: 0.11513930773735047\n",
            "Epoch: 10, Iter: 800, Loss: 0.1151390573978424\n",
            "Epoch: 10, Iter: 900, Loss: 0.11513577961921692\n"
          ]
        }
      ],
      "source": [
        "for epoch in range(10):\n",
        "\n",
        "    running_loss = 0.0\n",
        "\n",
        "    for i, data in enumerate(train_loader64, start=0):\n",
        "        inputs, labels = data[0].to(device), data[1].to(device)\n",
        "\n",
        "        optimizerDC_64.zero_grad() # epoch마다 gradient 0으로 초기화\n",
        "\n",
        "        outputs = DeepConv_net64(inputs) # y_pred = f(X)\n",
        "        loss = criterion(outputs, labels) # CrossEntropyLoss; 0~1 사이값\n",
        "        loss.backward() # back-propagation; gradient 계산\n",
        "        optimizerDC_64.step() # parameters(weights) update\n",
        "\n",
        "        running_loss += loss.item() # 그냥 전체적인 비교를 위해 누적함\n",
        "\n",
        "        if i % 100 == 99: # 100번 마다 확인; epoch=10, iter(=i)=469, batch=64\n",
        "            print('Epoch: {}, Iter: {}, Loss: {}'.format(epoch+1, i+1, running_loss/2000))\n",
        "            running_loss = 0.0"
      ]
    },
    {
      "cell_type": "markdown",
      "metadata": {
        "id": "LaVvtEOvKUgJ"
      },
      "source": [
        "### 3. DeepFC_net128\n",
        "* 2개의 Convolution-layer & 5개의 fc-layer\n",
        "* 128 batch-size"
      ]
    },
    {
      "cell_type": "code",
      "execution_count": 38,
      "metadata": {
        "colab": {
          "base_uri": "https://localhost:8080/"
        },
        "id": "Dwh9TK_1KUgK",
        "outputId": "6fedb22a-a82b-44dd-e690-481c6973f573"
      },
      "outputs": [
        {
          "output_type": "stream",
          "name": "stdout",
          "text": [
            "Epoch: 1, Iter: 100, Loss: 0.11517298805713654\n",
            "Epoch: 1, Iter: 200, Loss: 0.115135528922081\n",
            "Epoch: 1, Iter: 300, Loss: 0.11504510438442231\n",
            "Epoch: 1, Iter: 400, Loss: 0.11492477452754975\n",
            "Epoch: 2, Iter: 100, Loss: 0.11454551208019256\n",
            "Epoch: 2, Iter: 200, Loss: 0.11411436820030213\n",
            "Epoch: 2, Iter: 300, Loss: 0.11308793330192565\n",
            "Epoch: 2, Iter: 400, Loss: 0.10950532484054565\n",
            "Epoch: 3, Iter: 100, Loss: 0.06797944828867912\n",
            "Epoch: 3, Iter: 200, Loss: 0.04526737153530121\n",
            "Epoch: 3, Iter: 300, Loss: 0.03959919500350952\n",
            "Epoch: 3, Iter: 400, Loss: 0.035392925590276715\n",
            "Epoch: 4, Iter: 100, Loss: 0.033959305435419085\n",
            "Epoch: 4, Iter: 200, Loss: 0.03152354809641838\n",
            "Epoch: 4, Iter: 300, Loss: 0.030880981996655465\n",
            "Epoch: 4, Iter: 400, Loss: 0.03079320389032364\n",
            "Epoch: 5, Iter: 100, Loss: 0.029892477244138717\n",
            "Epoch: 5, Iter: 200, Loss: 0.027949828803539276\n",
            "Epoch: 5, Iter: 300, Loss: 0.02849362637102604\n",
            "Epoch: 5, Iter: 400, Loss: 0.027415371432900428\n",
            "Epoch: 6, Iter: 100, Loss: 0.026503288343548776\n",
            "Epoch: 6, Iter: 200, Loss: 0.026140776976943017\n",
            "Epoch: 6, Iter: 300, Loss: 0.0262936442643404\n",
            "Epoch: 6, Iter: 400, Loss: 0.02569906422495842\n",
            "Epoch: 7, Iter: 100, Loss: 0.02467463654279709\n",
            "Epoch: 7, Iter: 200, Loss: 0.024703719213604928\n",
            "Epoch: 7, Iter: 300, Loss: 0.024479039296507837\n",
            "Epoch: 7, Iter: 400, Loss: 0.023617537796497345\n",
            "Epoch: 8, Iter: 100, Loss: 0.023677399545907973\n",
            "Epoch: 8, Iter: 200, Loss: 0.02306844837963581\n",
            "Epoch: 8, Iter: 300, Loss: 0.022603140369057657\n",
            "Epoch: 8, Iter: 400, Loss: 0.02332651889324188\n",
            "Epoch: 9, Iter: 100, Loss: 0.022201135739684106\n",
            "Epoch: 9, Iter: 200, Loss: 0.022711934328079223\n",
            "Epoch: 9, Iter: 300, Loss: 0.022163440257310867\n",
            "Epoch: 9, Iter: 400, Loss: 0.021136211082339287\n",
            "Epoch: 10, Iter: 100, Loss: 0.021270962834358215\n",
            "Epoch: 10, Iter: 200, Loss: 0.020659881606698037\n",
            "Epoch: 10, Iter: 300, Loss: 0.021456510454416274\n",
            "Epoch: 10, Iter: 400, Loss: 0.02102480647712946\n"
          ]
        }
      ],
      "source": [
        "for epoch in range(10):\n",
        "\n",
        "    running_loss = 0.0\n",
        "\n",
        "    for i, data in enumerate(train_loader128, start=0):\n",
        "        inputs, labels = data[0].to(device), data[1].to(device)\n",
        "\n",
        "        optimizerFC_128.zero_grad() # epoch마다 gradient 0으로 초기화\n",
        "\n",
        "        outputs = DeepFC_net128(inputs) # y_pred = f(X)\n",
        "        loss = criterion(outputs, labels) # CrossEntropyLoss; 0~1 사이값\n",
        "        loss.backward() # back-propagation; gradient 계산\n",
        "        optimizerFC_128.step() # parameters(weights) update\n",
        "\n",
        "        running_loss += loss.item() # 그냥 전체적인 비교를 위해 누적함\n",
        "\n",
        "        if i % 100 == 99: # 100번 마다 확인; epoch=10, iter(=i)=469, batch=128\n",
        "            print('Epoch: {}, Iter: {}, Loss: {}'.format(epoch+1, i+1, running_loss/2000))\n",
        "            running_loss = 0.0"
      ]
    },
    {
      "cell_type": "markdown",
      "metadata": {
        "id": "jRyyw49jKVhj"
      },
      "source": [
        "### 4. DeepFC_net128\n",
        "* 2개의 Convolution-layer & 5개의 fc-layer\n",
        "* 64 batch-size"
      ]
    },
    {
      "cell_type": "code",
      "execution_count": 39,
      "metadata": {
        "colab": {
          "base_uri": "https://localhost:8080/"
        },
        "id": "X3847V0dKVhk",
        "outputId": "8925a303-e91f-435b-ca1d-6a23d62dafb4"
      },
      "outputs": [
        {
          "output_type": "stream",
          "name": "stdout",
          "text": [
            "Epoch: 1, Iter: 100, Loss: 0.11517469155788422\n",
            "Epoch: 1, Iter: 200, Loss: 0.11512594330310821\n",
            "Epoch: 1, Iter: 300, Loss: 0.11510588991641998\n",
            "Epoch: 1, Iter: 400, Loss: 0.1150485098361969\n",
            "Epoch: 1, Iter: 500, Loss: 0.11497099828720093\n",
            "Epoch: 1, Iter: 600, Loss: 0.11488560748100281\n",
            "Epoch: 1, Iter: 700, Loss: 0.11483720541000367\n",
            "Epoch: 1, Iter: 800, Loss: 0.11464981138706207\n",
            "Epoch: 1, Iter: 900, Loss: 0.11444268560409546\n",
            "Epoch: 2, Iter: 100, Loss: 0.11371410286426545\n",
            "Epoch: 2, Iter: 200, Loss: 0.11247255229949951\n",
            "Epoch: 2, Iter: 300, Loss: 0.10866465437412262\n",
            "Epoch: 2, Iter: 400, Loss: 0.09272501909732819\n",
            "Epoch: 2, Iter: 500, Loss: 0.0681335250735283\n",
            "Epoch: 2, Iter: 600, Loss: 0.054541983664035794\n",
            "Epoch: 2, Iter: 700, Loss: 0.0485526773929596\n",
            "Epoch: 2, Iter: 800, Loss: 0.043446240544319156\n",
            "Epoch: 2, Iter: 900, Loss: 0.041690235882997514\n",
            "Epoch: 3, Iter: 100, Loss: 0.03789228995144367\n",
            "Epoch: 3, Iter: 200, Loss: 0.03647120612859726\n",
            "Epoch: 3, Iter: 300, Loss: 0.03551991425454617\n",
            "Epoch: 3, Iter: 400, Loss: 0.034103559881448746\n",
            "Epoch: 3, Iter: 500, Loss: 0.03329956589639187\n",
            "Epoch: 3, Iter: 600, Loss: 0.03291925372183323\n",
            "Epoch: 3, Iter: 700, Loss: 0.03126578240096569\n",
            "Epoch: 3, Iter: 800, Loss: 0.030569600462913512\n",
            "Epoch: 3, Iter: 900, Loss: 0.031610784724354746\n",
            "Epoch: 4, Iter: 100, Loss: 0.029738573864102363\n",
            "Epoch: 4, Iter: 200, Loss: 0.029791835859417914\n",
            "Epoch: 4, Iter: 300, Loss: 0.028011930674314497\n",
            "Epoch: 4, Iter: 400, Loss: 0.028868688225746154\n",
            "Epoch: 4, Iter: 500, Loss: 0.028090736478567125\n",
            "Epoch: 4, Iter: 600, Loss: 0.028473443031311035\n",
            "Epoch: 4, Iter: 700, Loss: 0.027182729110121727\n",
            "Epoch: 4, Iter: 800, Loss: 0.02663207146525383\n",
            "Epoch: 4, Iter: 900, Loss: 0.02702751512825489\n",
            "Epoch: 5, Iter: 100, Loss: 0.025483141750097273\n",
            "Epoch: 5, Iter: 200, Loss: 0.02575527888536453\n",
            "Epoch: 5, Iter: 300, Loss: 0.025517720624804497\n",
            "Epoch: 5, Iter: 400, Loss: 0.02520513577759266\n",
            "Epoch: 5, Iter: 500, Loss: 0.024777358472347258\n",
            "Epoch: 5, Iter: 600, Loss: 0.025154392927885055\n",
            "Epoch: 5, Iter: 700, Loss: 0.02418389032781124\n",
            "Epoch: 5, Iter: 800, Loss: 0.02323139902949333\n",
            "Epoch: 5, Iter: 900, Loss: 0.023080994479358196\n",
            "Epoch: 6, Iter: 100, Loss: 0.022530713222920894\n",
            "Epoch: 6, Iter: 200, Loss: 0.0221149240732193\n",
            "Epoch: 6, Iter: 300, Loss: 0.022475047998130323\n",
            "Epoch: 6, Iter: 400, Loss: 0.022562210954725742\n",
            "Epoch: 6, Iter: 500, Loss: 0.02215717926621437\n",
            "Epoch: 6, Iter: 600, Loss: 0.022011123299598694\n",
            "Epoch: 6, Iter: 700, Loss: 0.022031539127230645\n",
            "Epoch: 6, Iter: 800, Loss: 0.021297860242426397\n",
            "Epoch: 6, Iter: 900, Loss: 0.022208546824753286\n",
            "Epoch: 7, Iter: 100, Loss: 0.02143773751705885\n",
            "Epoch: 7, Iter: 200, Loss: 0.02079455129057169\n",
            "Epoch: 7, Iter: 300, Loss: 0.02039981720596552\n",
            "Epoch: 7, Iter: 400, Loss: 0.020991218812763692\n",
            "Epoch: 7, Iter: 500, Loss: 0.020020821183919908\n",
            "Epoch: 7, Iter: 600, Loss: 0.02024729686975479\n",
            "Epoch: 7, Iter: 700, Loss: 0.020426870696246623\n",
            "Epoch: 7, Iter: 800, Loss: 0.0198301719725132\n",
            "Epoch: 7, Iter: 900, Loss: 0.019484440207481385\n",
            "Epoch: 8, Iter: 100, Loss: 0.01956226098537445\n",
            "Epoch: 8, Iter: 200, Loss: 0.01940853165090084\n",
            "Epoch: 8, Iter: 300, Loss: 0.019175999030470847\n",
            "Epoch: 8, Iter: 400, Loss: 0.018886359177529812\n",
            "Epoch: 8, Iter: 500, Loss: 0.019069715559482576\n",
            "Epoch: 8, Iter: 600, Loss: 0.019191943116486074\n",
            "Epoch: 8, Iter: 700, Loss: 0.019554208986461163\n",
            "Epoch: 8, Iter: 800, Loss: 0.019723780892789363\n",
            "Epoch: 8, Iter: 900, Loss: 0.01848128428310156\n",
            "Epoch: 9, Iter: 100, Loss: 0.01813496368378401\n",
            "Epoch: 9, Iter: 200, Loss: 0.01814761736243963\n",
            "Epoch: 9, Iter: 300, Loss: 0.017587939254939556\n",
            "Epoch: 9, Iter: 400, Loss: 0.018389457374811173\n",
            "Epoch: 9, Iter: 500, Loss: 0.01831283313781023\n",
            "Epoch: 9, Iter: 600, Loss: 0.018499577082693577\n",
            "Epoch: 9, Iter: 700, Loss: 0.017965387657284736\n",
            "Epoch: 9, Iter: 800, Loss: 0.017467616252601147\n",
            "Epoch: 9, Iter: 900, Loss: 0.017944496102631092\n",
            "Epoch: 10, Iter: 100, Loss: 0.01741243800893426\n",
            "Epoch: 10, Iter: 200, Loss: 0.017771005161106586\n",
            "Epoch: 10, Iter: 300, Loss: 0.016878191977739335\n",
            "Epoch: 10, Iter: 400, Loss: 0.018022424913942812\n",
            "Epoch: 10, Iter: 500, Loss: 0.017085632488131525\n",
            "Epoch: 10, Iter: 600, Loss: 0.01697187823057175\n",
            "Epoch: 10, Iter: 700, Loss: 0.016895781934261323\n",
            "Epoch: 10, Iter: 800, Loss: 0.017769862592220305\n",
            "Epoch: 10, Iter: 900, Loss: 0.016805332981050015\n"
          ]
        }
      ],
      "source": [
        "for epoch in range(10):\n",
        "\n",
        "    running_loss = 0.0\n",
        "\n",
        "    for i, data in enumerate(train_loader64, start=0):\n",
        "        inputs, labels = data[0].to(device), data[1].to(device)\n",
        "\n",
        "        optimizerFC_64.zero_grad() # epoch마다 gradient 0으로 초기화\n",
        "\n",
        "        outputs = DeepFC_net64(inputs) # y_pred = f(X)\n",
        "        loss = criterion(outputs, labels) # CrossEntropyLoss; 0~1 사이값\n",
        "        loss.backward() # back-propagation; gradient 계산\n",
        "        optimizerFC_64.step() # parameters(weights) update\n",
        "\n",
        "        running_loss += loss.item() # 그냥 전체적인 비교를 위해 누적함\n",
        "\n",
        "        if i % 100 == 99: # 100번 마다 확인; epoch=10, iter(=i)=469, batch=64\n",
        "            print('Epoch: {}, Iter: {}, Loss: {}'.format(epoch+1, i+1, running_loss/2000))\n",
        "            running_loss = 0.0"
      ]
    },
    {
      "cell_type": "markdown",
      "metadata": {
        "id": "5IecfHZiI09W"
      },
      "source": [
        "## 모델 테스트"
      ]
    },
    {
      "cell_type": "code",
      "execution_count": 40,
      "metadata": {
        "colab": {
          "base_uri": "https://localhost:8080/"
        },
        "id": "VjVs_iS0rlof",
        "outputId": "61b9b0d4-a50e-4d27-943d-b56bc87fec11"
      },
      "outputs": [
        {
          "output_type": "stream",
          "name": "stdout",
          "text": [
            "DeepConv_net128 : 0.1\n",
            "DeepConv_net64 : 0.1\n",
            "DeepFC_net128 : 0.8234\n",
            "DeepFC_net64 : 0.871\n"
          ]
        }
      ],
      "source": [
        "# 전체 test 데이터에 대해서 성능 확인\n",
        "\n",
        "correct_list = [0]*4\n",
        "total_list = [0]*4\n",
        "a = -1\n",
        "\n",
        "model_list = {'DeepConv' : [DeepConv_net128, DeepConv_net64],\n",
        "              'DeepFC' : [DeepFC_net128, DeepFC_net64]}\n",
        "data_list = [test_loader128, test_loader64]\n",
        "\n",
        "with torch.no_grad(): # grad가 필요없다.\n",
        "\n",
        "    for key in model_list:\n",
        "        for idx in range(len(model_list[key])):\n",
        "            a += 1\n",
        "            model = model_list[key][idx]\n",
        "            data_loader = data_list[idx]\n",
        "            for data in data_loader:\n",
        "                images, labels = data[0].to(device), data[1].to(device)\n",
        "\n",
        "                outputs = model(images)\n",
        "                _, predicted = torch.max(outputs.data, 1)\n",
        "\n",
        "                total_list[a] += labels.size(0)\n",
        "                correct_list[a] += (predicted == labels).sum().item()\n",
        "            \n",
        "correct_rate = np.array(correct_list) / np.array(total_list)\n",
        "model_name = ['DeepConv_net128', 'DeepConv_net64', 'DeepFC_net128', 'DeepFC_net64']\n",
        "\n",
        "for i in range(len(correct_rate)):\n",
        "    print('{0} : {1}'.format(model_name[i], correct_rate[i]))"
      ]
    },
    {
      "cell_type": "markdown",
      "metadata": {
        "id": "SZcZQv4PGeYv"
      },
      "source": [
        "# FashionMNIST 분류 모델 중 성능이 낮은 모델 이유 확인"
      ]
    },
    {
      "cell_type": "markdown",
      "metadata": {
        "id": "V7HoLqroDhyF"
      },
      "source": [
        "## Convolution-layer를 하나씩 추가하면서, 성능변화를 관찰"
      ]
    },
    {
      "cell_type": "markdown",
      "metadata": {
        "id": "_civVcIYBGxA"
      },
      "source": [
        "### 3개의 convolution-layer 사용시"
      ]
    },
    {
      "cell_type": "code",
      "execution_count": 41,
      "metadata": {
        "id": "29zvOdhT-fwY"
      },
      "outputs": [],
      "source": [
        "class CNN_Model3(nn.Module):\n",
        "    def __init__(self):\n",
        "        super(CNN_Model3, self).__init__()\n",
        "\n",
        "        self.conv1 = nn.Conv2d(in_channels=1, out_channels=5, kernel_size=3, stride=1, padding=2)\n",
        "        self.conv2 = nn.Conv2d(5, 7, 3, padding=1)\n",
        "        self.conv3 = nn.Conv2d(7, 16, 2, padding=1)\n",
        "\n",
        "        self.fc1 = nn.Linear(16* 16 * 16, 3000)\n",
        "        self.fc2 = nn.Linear(3000, 1500)\n",
        "        self.fc3 = nn.Linear(1500, 20 * 3 * 3)\n",
        "        self.fc4 = nn.Linear(20 * 3 * 3, 86)\n",
        "        self.fc5 = nn.Linear(86, 10) # 10 : 10개의 category\n",
        "\n",
        "    def forward(self, x):\n",
        "        x = F.relu(self.conv1(x))\n",
        "        x = F.max_pool2d(x, (2,2))\n",
        "        x = F.relu(self.conv2(x))\n",
        "        x = F.relu(self.conv3(x))\n",
        "\n",
        "        x = x.view(-1, self.num_flat_features(x)) # num_flat_features : 아래에서 정의\n",
        "\n",
        "        x = F.relu(self.fc1(x))\n",
        "        x = F.relu(self.fc2(x))\n",
        "        x = F.relu(self.fc3(x))\n",
        "        x = F.relu(self.fc4(x))\n",
        "        x = self.fc5(x)\n",
        "\n",
        "        return x\n",
        "    \n",
        "    def num_flat_features(self, x): # 처음 dim-size을 제외하고, 모두 곱한 값을 반환해준다.\n",
        "        size = x.size()[1:]\n",
        "        num_features = 1\n",
        "        for s in size:\n",
        "            num_features *= s\n",
        "        \n",
        "        return num_features"
      ]
    },
    {
      "cell_type": "code",
      "execution_count": 42,
      "metadata": {
        "colab": {
          "base_uri": "https://localhost:8080/"
        },
        "id": "t81gXZmz-fwY",
        "outputId": "ce644750-ca1a-4a1f-9bf7-9015b8d0647b"
      },
      "outputs": [
        {
          "output_type": "stream",
          "name": "stdout",
          "text": [
            "CNN_Model3(\n",
            "  (conv1): Conv2d(1, 5, kernel_size=(3, 3), stride=(1, 1), padding=(2, 2))\n",
            "  (conv2): Conv2d(5, 7, kernel_size=(3, 3), stride=(1, 1), padding=(1, 1))\n",
            "  (conv3): Conv2d(7, 16, kernel_size=(2, 2), stride=(1, 1), padding=(1, 1))\n",
            "  (fc1): Linear(in_features=4096, out_features=3000, bias=True)\n",
            "  (fc2): Linear(in_features=3000, out_features=1500, bias=True)\n",
            "  (fc3): Linear(in_features=1500, out_features=180, bias=True)\n",
            "  (fc4): Linear(in_features=180, out_features=86, bias=True)\n",
            "  (fc5): Linear(in_features=86, out_features=10, bias=True)\n",
            ")\n"
          ]
        }
      ],
      "source": [
        "# 모델객체 생성\n",
        "new_model = CNN_Model3().to(device)\n",
        "\n",
        "print(new_model)"
      ]
    },
    {
      "cell_type": "code",
      "execution_count": 43,
      "metadata": {
        "colab": {
          "base_uri": "https://localhost:8080/"
        },
        "id": "Bb2EkGUbBnuM",
        "outputId": "b9860551-b9f5-4709-812c-6a51fda49800"
      },
      "outputs": [
        {
          "output_type": "stream",
          "name": "stdout",
          "text": [
            "----------------------------------------------------------------\n",
            "        Layer (type)               Output Shape         Param #\n",
            "================================================================\n",
            "            Conv2d-1           [128, 5, 30, 30]              50\n",
            "            Conv2d-2           [128, 7, 15, 15]             322\n",
            "            Conv2d-3          [128, 16, 16, 16]             464\n",
            "            Linear-4                [128, 3000]      12,291,000\n",
            "            Linear-5                [128, 1500]       4,501,500\n",
            "            Linear-6                 [128, 180]         270,180\n",
            "            Linear-7                  [128, 86]          15,566\n",
            "            Linear-8                  [128, 10]             870\n",
            "================================================================\n",
            "Total params: 17,079,952\n",
            "Trainable params: 17,079,952\n",
            "Non-trainable params: 0\n",
            "----------------------------------------------------------------\n",
            "Input size (MB): 0.38\n",
            "Forward/backward pass size (MB): 14.60\n",
            "Params size (MB): 65.15\n",
            "Estimated Total Size (MB): 80.13\n",
            "----------------------------------------------------------------\n"
          ]
        }
      ],
      "source": [
        "summary(new_model, input_size=(1, 28, 28), batch_size=128)"
      ]
    },
    {
      "cell_type": "code",
      "execution_count": 44,
      "metadata": {
        "id": "aQDT4bYIBsZl"
      },
      "outputs": [],
      "source": [
        "optimizer = optim.SGD(new_model.parameters(), lr=0.001, momentum=0.9)"
      ]
    },
    {
      "cell_type": "code",
      "execution_count": 45,
      "metadata": {
        "colab": {
          "base_uri": "https://localhost:8080/"
        },
        "id": "D6GqkR8nBwhH",
        "outputId": "2ff3c1e3-47cd-4b82-ba0a-d6dfba4a1404"
      },
      "outputs": [
        {
          "output_type": "stream",
          "name": "stdout",
          "text": [
            "Epoch: 1, Iter: 100, Loss: 0.11521300852298737\n",
            "Epoch: 1, Iter: 200, Loss: 0.11517337787151337\n",
            "Epoch: 1, Iter: 300, Loss: 0.1151209843158722\n",
            "Epoch: 1, Iter: 400, Loss: 0.11513023948669433\n",
            "Epoch: 2, Iter: 100, Loss: 0.11509661412239075\n",
            "Epoch: 2, Iter: 200, Loss: 0.1151156975030899\n",
            "Epoch: 2, Iter: 300, Loss: 0.11508943414688111\n",
            "Epoch: 2, Iter: 400, Loss: 0.11508834874629974\n",
            "Epoch: 3, Iter: 100, Loss: 0.11506394565105438\n",
            "Epoch: 3, Iter: 200, Loss: 0.11504773151874542\n",
            "Epoch: 3, Iter: 300, Loss: 0.1150435688495636\n",
            "Epoch: 3, Iter: 400, Loss: 0.11502103579044343\n",
            "Epoch: 4, Iter: 100, Loss: 0.11498765790462494\n",
            "Epoch: 4, Iter: 200, Loss: 0.11497682976722717\n",
            "Epoch: 4, Iter: 300, Loss: 0.1149429178237915\n",
            "Epoch: 4, Iter: 400, Loss: 0.11491066765785217\n",
            "Epoch: 5, Iter: 100, Loss: 0.11482498157024383\n",
            "Epoch: 5, Iter: 200, Loss: 0.11475877106189727\n",
            "Epoch: 5, Iter: 300, Loss: 0.11467282450199127\n",
            "Epoch: 5, Iter: 400, Loss: 0.11454131865501403\n",
            "Epoch: 6, Iter: 100, Loss: 0.11417753326892853\n",
            "Epoch: 6, Iter: 200, Loss: 0.11375263214111328\n",
            "Epoch: 6, Iter: 300, Loss: 0.1130202615261078\n",
            "Epoch: 6, Iter: 400, Loss: 0.11147273135185241\n",
            "Epoch: 7, Iter: 100, Loss: 0.09658915072679519\n",
            "Epoch: 7, Iter: 200, Loss: 0.0681130183339119\n",
            "Epoch: 7, Iter: 300, Loss: 0.05318314790725708\n",
            "Epoch: 7, Iter: 400, Loss: 0.046539255857467654\n",
            "Epoch: 8, Iter: 100, Loss: 0.04116749635338783\n",
            "Epoch: 8, Iter: 200, Loss: 0.03926349303126335\n",
            "Epoch: 8, Iter: 300, Loss: 0.0358188648223877\n",
            "Epoch: 8, Iter: 400, Loss: 0.03445334812998772\n",
            "Epoch: 9, Iter: 100, Loss: 0.031742173179984096\n",
            "Epoch: 9, Iter: 200, Loss: 0.03140576222538948\n",
            "Epoch: 9, Iter: 300, Loss: 0.029919480830430986\n",
            "Epoch: 9, Iter: 400, Loss: 0.029431185230612753\n",
            "Epoch: 10, Iter: 100, Loss: 0.02790561294555664\n",
            "Epoch: 10, Iter: 200, Loss: 0.028334555760025977\n",
            "Epoch: 10, Iter: 300, Loss: 0.027896009773015977\n",
            "Epoch: 10, Iter: 400, Loss: 0.02629153797030449\n"
          ]
        }
      ],
      "source": [
        "for epoch in range(10):\n",
        "\n",
        "    running_loss = 0.0\n",
        "\n",
        "    for i, data in enumerate(train_loader128, start=0):\n",
        "        inputs, labels = data[0].to(device), data[1].to(device)\n",
        "\n",
        "        optimizer.zero_grad() # epoch마다 gradient 0으로 초기화\n",
        "\n",
        "        outputs = new_model(inputs) # y_pred = f(X)\n",
        "        loss = criterion(outputs, labels) # CrossEntropyLoss; 0~1 사이값\n",
        "        loss.backward() # back-propagation; gradient 계산\n",
        "        optimizer.step() # parameters(weights) update\n",
        "\n",
        "        running_loss += loss.item() # 그냥 전체적인 비교를 위해 누적함\n",
        "\n",
        "        if i % 100 == 99: # 100번 마다 확인; epoch=10, iter(=i)=469, batch=128\n",
        "            print('Epoch: {}, Iter: {}, Loss: {}'.format(epoch+1, i+1, running_loss/2000))\n",
        "            running_loss = 0.0"
      ]
    },
    {
      "cell_type": "code",
      "execution_count": 46,
      "metadata": {
        "colab": {
          "base_uri": "https://localhost:8080/"
        },
        "id": "1PDu2v9bB_NE",
        "outputId": "7ef0ea91-4caf-4e5c-9ed6-96c1401d5eb6"
      },
      "outputs": [
        {
          "output_type": "stream",
          "name": "stdout",
          "text": [
            "79.63\n"
          ]
        }
      ],
      "source": [
        "correct = 0\n",
        "total = 0\n",
        "\n",
        "with torch.no_grad():\n",
        "    for data in test_loader128:\n",
        "        images, labels = data[0].to(device), data[1].to(device)\n",
        "        outputs = new_model(images)\n",
        "        _, predicted = torch.max(outputs.data, axis=1)\n",
        "        total += labels.size(0)\n",
        "        correct += (predicted == labels).sum().item()\n",
        "    \n",
        "    print(100 * correct / total)"
      ]
    },
    {
      "cell_type": "markdown",
      "metadata": {
        "id": "7Thu9NRyCV7j"
      },
      "source": [
        "### 4개의 convolution-layer 사용시"
      ]
    },
    {
      "cell_type": "code",
      "execution_count": 47,
      "metadata": {
        "id": "V9PQvGFPCV7k"
      },
      "outputs": [],
      "source": [
        "class CNN_Model4(nn.Module):\n",
        "    def __init__(self):\n",
        "        super(CNN_Model4, self).__init__()\n",
        "\n",
        "        self.conv1 = nn.Conv2d(in_channels=1, out_channels=5, kernel_size=3, stride=1, padding=2)\n",
        "        self.conv2 = nn.Conv2d(5, 7, 3, padding=1)\n",
        "        self.conv3 = nn.Conv2d(7, 16, 2, padding=1)\n",
        "        self.conv4 = nn.Conv2d(16, 19, 2)\n",
        "\n",
        "        self.fc1 = nn.Linear(15* 15 * 19, 3000)\n",
        "        self.fc2 = nn.Linear(3000, 1500)\n",
        "        self.fc3 = nn.Linear(1500, 20 * 3 * 3)\n",
        "        self.fc4 = nn.Linear(20 * 3 * 3, 86)\n",
        "        self.fc5 = nn.Linear(86, 10) # 10 : 10개의 category\n",
        "\n",
        "    def forward(self, x):\n",
        "        x = F.relu(self.conv1(x))\n",
        "        x = F.max_pool2d(x, (2,2))\n",
        "        x = F.relu(self.conv2(x))\n",
        "        x = F.relu(self.conv3(x))\n",
        "        x = F.relu(self.conv4(x))\n",
        "\n",
        "        x = x.view(-1, self.num_flat_features(x)) # num_flat_features : 아래에서 정의\n",
        "\n",
        "        x = F.relu(self.fc1(x))\n",
        "        x = F.relu(self.fc2(x))\n",
        "        x = F.relu(self.fc3(x))\n",
        "        x = F.relu(self.fc4(x))\n",
        "        x = self.fc5(x)\n",
        "\n",
        "        return x\n",
        "    \n",
        "    def num_flat_features(self, x): # 처음 dim-size을 제외하고, 모두 곱한 값을 반환해준다.\n",
        "        size = x.size()[1:]\n",
        "        num_features = 1\n",
        "        for s in size:\n",
        "            num_features *= s\n",
        "        \n",
        "        return num_features"
      ]
    },
    {
      "cell_type": "code",
      "execution_count": 48,
      "metadata": {
        "colab": {
          "base_uri": "https://localhost:8080/"
        },
        "id": "HNAL7SRZCV7k",
        "outputId": "99a76c61-e6b0-4b40-9a7e-c165ad89c9f7"
      },
      "outputs": [
        {
          "output_type": "stream",
          "name": "stdout",
          "text": [
            "CNN_Model4(\n",
            "  (conv1): Conv2d(1, 5, kernel_size=(3, 3), stride=(1, 1), padding=(2, 2))\n",
            "  (conv2): Conv2d(5, 7, kernel_size=(3, 3), stride=(1, 1), padding=(1, 1))\n",
            "  (conv3): Conv2d(7, 16, kernel_size=(2, 2), stride=(1, 1), padding=(1, 1))\n",
            "  (conv4): Conv2d(16, 19, kernel_size=(2, 2), stride=(1, 1))\n",
            "  (fc1): Linear(in_features=4275, out_features=3000, bias=True)\n",
            "  (fc2): Linear(in_features=3000, out_features=1500, bias=True)\n",
            "  (fc3): Linear(in_features=1500, out_features=180, bias=True)\n",
            "  (fc4): Linear(in_features=180, out_features=86, bias=True)\n",
            "  (fc5): Linear(in_features=86, out_features=10, bias=True)\n",
            ")\n"
          ]
        }
      ],
      "source": [
        "# 모델객체 생성\n",
        "new_model = CNN_Model4().to(device)\n",
        "\n",
        "print(new_model)"
      ]
    },
    {
      "cell_type": "code",
      "execution_count": 49,
      "metadata": {
        "colab": {
          "base_uri": "https://localhost:8080/"
        },
        "id": "fHmIarJBCV7k",
        "outputId": "340878ff-1b3c-49e6-cdd5-37309819afeb"
      },
      "outputs": [
        {
          "output_type": "stream",
          "name": "stdout",
          "text": [
            "----------------------------------------------------------------\n",
            "        Layer (type)               Output Shape         Param #\n",
            "================================================================\n",
            "            Conv2d-1           [128, 5, 30, 30]              50\n",
            "            Conv2d-2           [128, 7, 15, 15]             322\n",
            "            Conv2d-3          [128, 16, 16, 16]             464\n",
            "            Conv2d-4          [128, 19, 15, 15]           1,235\n",
            "            Linear-5                [128, 3000]      12,828,000\n",
            "            Linear-6                [128, 1500]       4,501,500\n",
            "            Linear-7                 [128, 180]         270,180\n",
            "            Linear-8                  [128, 86]          15,566\n",
            "            Linear-9                  [128, 10]             870\n",
            "================================================================\n",
            "Total params: 17,618,187\n",
            "Trainable params: 17,618,187\n",
            "Non-trainable params: 0\n",
            "----------------------------------------------------------------\n",
            "Input size (MB): 0.38\n",
            "Forward/backward pass size (MB): 18.77\n",
            "Params size (MB): 67.21\n",
            "Estimated Total Size (MB): 86.36\n",
            "----------------------------------------------------------------\n"
          ]
        }
      ],
      "source": [
        "summary(new_model, input_size=(1, 28, 28), batch_size=128)"
      ]
    },
    {
      "cell_type": "code",
      "execution_count": 50,
      "metadata": {
        "id": "z6gegPTRCV7k"
      },
      "outputs": [],
      "source": [
        "optimizer = optim.SGD(new_model.parameters(), lr=0.001, momentum=0.9)"
      ]
    },
    {
      "cell_type": "code",
      "execution_count": 54,
      "metadata": {
        "colab": {
          "base_uri": "https://localhost:8080/"
        },
        "id": "oeeKVQdKCV7k",
        "outputId": "f102b12d-8a31-42d7-9f18-7f38894e2325"
      },
      "outputs": [
        {
          "output_type": "stream",
          "name": "stdout",
          "text": [
            "Epoch: 1, Iter: 100, Loss: 0.11507385766506195\n",
            "Epoch: 1, Iter: 200, Loss: 0.11507147550582886\n",
            "Epoch: 1, Iter: 300, Loss: 0.1150690770149231\n",
            "Epoch: 1, Iter: 400, Loss: 0.11506472337245942\n",
            "Epoch: 2, Iter: 100, Loss: 0.1150552304983139\n",
            "Epoch: 2, Iter: 200, Loss: 0.11505370557308198\n",
            "Epoch: 2, Iter: 300, Loss: 0.1150479588508606\n",
            "Epoch: 2, Iter: 400, Loss: 0.11504248046875\n",
            "Epoch: 3, Iter: 100, Loss: 0.11502701902389527\n",
            "Epoch: 3, Iter: 200, Loss: 0.11502287387847901\n",
            "Epoch: 3, Iter: 300, Loss: 0.11501299226284027\n",
            "Epoch: 3, Iter: 400, Loss: 0.11500135469436645\n",
            "Epoch: 4, Iter: 100, Loss: 0.11497710502147675\n",
            "Epoch: 4, Iter: 200, Loss: 0.1149666781425476\n",
            "Epoch: 4, Iter: 300, Loss: 0.11494269824028015\n",
            "Epoch: 4, Iter: 400, Loss: 0.11492165458202362\n",
            "Epoch: 5, Iter: 100, Loss: 0.11486730015277863\n",
            "Epoch: 5, Iter: 200, Loss: 0.11482560682296752\n",
            "Epoch: 5, Iter: 300, Loss: 0.11476651656627655\n",
            "Epoch: 5, Iter: 400, Loss: 0.1146893447637558\n",
            "Epoch: 6, Iter: 100, Loss: 0.11448607921600341\n",
            "Epoch: 6, Iter: 200, Loss: 0.11429308724403381\n",
            "Epoch: 6, Iter: 300, Loss: 0.11396796333789826\n",
            "Epoch: 6, Iter: 400, Loss: 0.11344225680828095\n",
            "Epoch: 7, Iter: 100, Loss: 0.11078647994995117\n",
            "Epoch: 7, Iter: 200, Loss: 0.10332160484790802\n",
            "Epoch: 7, Iter: 300, Loss: 0.07711470949649811\n",
            "Epoch: 7, Iter: 400, Loss: 0.05839610028266907\n",
            "Epoch: 8, Iter: 100, Loss: 0.04621356144547462\n",
            "Epoch: 8, Iter: 200, Loss: 0.041830943048000335\n",
            "Epoch: 8, Iter: 300, Loss: 0.038583472192287444\n",
            "Epoch: 8, Iter: 400, Loss: 0.03591098821163177\n",
            "Epoch: 9, Iter: 100, Loss: 0.03383833381533623\n",
            "Epoch: 9, Iter: 200, Loss: 0.03260967780649662\n",
            "Epoch: 9, Iter: 300, Loss: 0.03218402355909347\n",
            "Epoch: 9, Iter: 400, Loss: 0.030823692321777344\n",
            "Epoch: 10, Iter: 100, Loss: 0.03041154508292675\n",
            "Epoch: 10, Iter: 200, Loss: 0.0299529427587986\n",
            "Epoch: 10, Iter: 300, Loss: 0.028124041244387627\n",
            "Epoch: 10, Iter: 400, Loss: 0.028111557468771933\n"
          ]
        }
      ],
      "source": [
        "for epoch in range(10):\n",
        "\n",
        "    running_loss = 0.0\n",
        "\n",
        "    for i, data in enumerate(train_loader128, start=0):\n",
        "        inputs, labels = data[0].to(device), data[1].to(device)\n",
        "\n",
        "        optimizer.zero_grad() # epoch마다 gradient 0으로 초기화\n",
        "\n",
        "        outputs = new_model(inputs) # y_pred = f(X)\n",
        "        loss = criterion(outputs, labels) # CrossEntropyLoss; 0~1 사이값\n",
        "        loss.backward() # back-propagation; gradient 계산\n",
        "        optimizer.step() # parameters(weights) update\n",
        "\n",
        "        running_loss += loss.item() # 그냥 전체적인 비교를 위해 누적함\n",
        "\n",
        "        if i % 100 == 99: # 100번 마다 확인; epoch=10, iter(=i)=469, batch=128\n",
        "            print('Epoch: {}, Iter: {}, Loss: {}'.format(epoch+1, i+1, running_loss/2000))\n",
        "            running_loss = 0.0"
      ]
    },
    {
      "cell_type": "code",
      "execution_count": 55,
      "metadata": {
        "colab": {
          "base_uri": "https://localhost:8080/"
        },
        "id": "w3uuDeS_CV7k",
        "outputId": "ea19bcdf-4df2-4977-cc3f-bfb685f14ba2"
      },
      "outputs": [
        {
          "output_type": "stream",
          "name": "stdout",
          "text": [
            "77.74\n"
          ]
        }
      ],
      "source": [
        "correct = 0\n",
        "total = 0\n",
        "\n",
        "with torch.no_grad():\n",
        "    for data in test_loader128:\n",
        "        images, labels = data[0].to(device), data[1].to(device)\n",
        "        outputs = new_model(images)\n",
        "        _, predicted = torch.max(outputs.data, axis=1)\n",
        "        total += labels.size(0)\n",
        "        correct += (predicted == labels).sum().item()\n",
        "    \n",
        "    print(100 * correct / total)"
      ]
    },
    {
      "cell_type": "markdown",
      "metadata": {
        "id": "kuP_3_DyD42p"
      },
      "source": [
        "### 5개의 convolution-layer 사용시"
      ]
    },
    {
      "cell_type": "code",
      "execution_count": 56,
      "metadata": {
        "id": "Bk1u7iloD42q"
      },
      "outputs": [],
      "source": [
        "class CNN_Model5(nn.Module):\n",
        "    def __init__(self):\n",
        "        super(CNN_Model5, self).__init__()\n",
        "\n",
        "        self.conv1 = nn.Conv2d(in_channels=1, out_channels=5, kernel_size=3, stride=1, padding=2)\n",
        "        self.conv2 = nn.Conv2d(5, 7, 3, padding=1)      \n",
        "        self.conv3 = nn.Conv2d(7, 16, 2, padding=1)\n",
        "        self.conv4 = nn.Conv2d(16, 19, 2)\n",
        "        self.conv5 = nn.Conv2d(19, 29, 3)\n",
        "\n",
        "        self.fc1 = nn.Linear(29 * 13 * 13, 100)\n",
        "        self.fc2 = nn.Linear(100, 50)\n",
        "        self.fc3 = nn.Linear(50, 25)\n",
        "        self.fc4 = nn.Linear(25, 10) # 10 : 10개의 category\n",
        "\n",
        "    def forward(self, x):\n",
        "        x = F.relu(self.conv1(x))\n",
        "        x = F.max_pool2d(x, (2,2))\n",
        "        x = F.relu(self.conv2(x))\n",
        "        x = F.relu(self.conv3(x))\n",
        "        x = F.relu(self.conv4(x))\n",
        "        x = F.relu(self.conv5(x))\n",
        "\n",
        "        x = x.view(-1, self.num_flat_features(x)) # num_flat_features : 아래에서 정의\n",
        "\n",
        "        x = F.relu(self.fc1(x))\n",
        "        x = F.relu(self.fc2(x))\n",
        "        x = F.relu(self.fc3(x))\n",
        "        x = self.fc4(x)\n",
        "\n",
        "        return x\n",
        "    \n",
        "    def num_flat_features(self, x): # 처음 dim-size을 제외하고, 모두 곱한 값을 반환해준다.\n",
        "        size = x.size()[1:]\n",
        "        num_features = 1\n",
        "        for s in size:\n",
        "            num_features *= s\n",
        "        \n",
        "        return num_features"
      ]
    },
    {
      "cell_type": "code",
      "execution_count": 57,
      "metadata": {
        "colab": {
          "base_uri": "https://localhost:8080/"
        },
        "id": "GPoNB-4vD42q",
        "outputId": "4c63a75a-30de-4b64-e908-eeafbb65b83c"
      },
      "outputs": [
        {
          "output_type": "stream",
          "name": "stdout",
          "text": [
            "CNN_Model5(\n",
            "  (conv1): Conv2d(1, 5, kernel_size=(3, 3), stride=(1, 1), padding=(2, 2))\n",
            "  (conv2): Conv2d(5, 7, kernel_size=(3, 3), stride=(1, 1), padding=(1, 1))\n",
            "  (conv3): Conv2d(7, 16, kernel_size=(2, 2), stride=(1, 1), padding=(1, 1))\n",
            "  (conv4): Conv2d(16, 19, kernel_size=(2, 2), stride=(1, 1))\n",
            "  (conv5): Conv2d(19, 29, kernel_size=(3, 3), stride=(1, 1))\n",
            "  (fc1): Linear(in_features=4901, out_features=100, bias=True)\n",
            "  (fc2): Linear(in_features=100, out_features=50, bias=True)\n",
            "  (fc3): Linear(in_features=50, out_features=25, bias=True)\n",
            "  (fc4): Linear(in_features=25, out_features=10, bias=True)\n",
            ")\n"
          ]
        }
      ],
      "source": [
        "# 모델객체 생성\n",
        "new_model = CNN_Model5().to(device)\n",
        "\n",
        "print(new_model)"
      ]
    },
    {
      "cell_type": "code",
      "execution_count": 58,
      "metadata": {
        "colab": {
          "base_uri": "https://localhost:8080/"
        },
        "id": "aDvnyPw6D42q",
        "outputId": "f25ffd05-1d8a-42bd-cf4c-27223a8c2339"
      },
      "outputs": [
        {
          "output_type": "stream",
          "name": "stdout",
          "text": [
            "----------------------------------------------------------------\n",
            "        Layer (type)               Output Shape         Param #\n",
            "================================================================\n",
            "            Conv2d-1           [128, 5, 30, 30]              50\n",
            "            Conv2d-2           [128, 7, 15, 15]             322\n",
            "            Conv2d-3          [128, 16, 16, 16]             464\n",
            "            Conv2d-4          [128, 19, 15, 15]           1,235\n",
            "            Conv2d-5          [128, 29, 13, 13]           4,988\n",
            "            Linear-6                 [128, 100]         490,200\n",
            "            Linear-7                  [128, 50]           5,050\n",
            "            Linear-8                  [128, 25]           1,275\n",
            "            Linear-9                  [128, 10]             260\n",
            "================================================================\n",
            "Total params: 503,844\n",
            "Trainable params: 503,844\n",
            "Non-trainable params: 0\n",
            "----------------------------------------------------------------\n",
            "Input size (MB): 0.38\n",
            "Forward/backward pass size (MB): 19.07\n",
            "Params size (MB): 1.92\n",
            "Estimated Total Size (MB): 21.38\n",
            "----------------------------------------------------------------\n"
          ]
        }
      ],
      "source": [
        "summary(new_model, input_size=(1, 28, 28), batch_size=128)"
      ]
    },
    {
      "cell_type": "code",
      "execution_count": 59,
      "metadata": {
        "id": "QmOiVQDLD42q"
      },
      "outputs": [],
      "source": [
        "optimizer = optim.SGD(new_model.parameters(), lr=0.001, momentum=0.9)"
      ]
    },
    {
      "cell_type": "code",
      "execution_count": 60,
      "metadata": {
        "colab": {
          "base_uri": "https://localhost:8080/"
        },
        "id": "eS9fQfeED42q",
        "outputId": "7f1b57ab-2fce-42cd-c28f-da2475efb7b5"
      },
      "outputs": [
        {
          "output_type": "stream",
          "name": "stdout",
          "text": [
            "Epoch: 1, Iter: 100, Loss: 0.11545832455158234\n",
            "Epoch: 1, Iter: 200, Loss: 0.1153479300737381\n",
            "Epoch: 1, Iter: 300, Loss: 0.11531426978111267\n",
            "Epoch: 1, Iter: 400, Loss: 0.1152202421426773\n",
            "Epoch: 2, Iter: 100, Loss: 0.1152558742761612\n",
            "Epoch: 2, Iter: 200, Loss: 0.1151968674659729\n",
            "Epoch: 2, Iter: 300, Loss: 0.11518808960914612\n",
            "Epoch: 2, Iter: 400, Loss: 0.11516525566577912\n",
            "Epoch: 3, Iter: 100, Loss: 0.11513779485225678\n",
            "Epoch: 3, Iter: 200, Loss: 0.1151596382856369\n",
            "Epoch: 3, Iter: 300, Loss: 0.11515145170688629\n",
            "Epoch: 3, Iter: 400, Loss: 0.11515458059310914\n",
            "Epoch: 4, Iter: 100, Loss: 0.11513023746013641\n",
            "Epoch: 4, Iter: 200, Loss: 0.11511526477336884\n",
            "Epoch: 4, Iter: 300, Loss: 0.11513392436504365\n",
            "Epoch: 4, Iter: 400, Loss: 0.11513601732254028\n",
            "Epoch: 5, Iter: 100, Loss: 0.1151181070804596\n",
            "Epoch: 5, Iter: 200, Loss: 0.11511614203453063\n",
            "Epoch: 5, Iter: 300, Loss: 0.1151150929927826\n",
            "Epoch: 5, Iter: 400, Loss: 0.11512045490741729\n",
            "Epoch: 6, Iter: 100, Loss: 0.11510504257678986\n",
            "Epoch: 6, Iter: 200, Loss: 0.11510081219673157\n",
            "Epoch: 6, Iter: 300, Loss: 0.11509764111042023\n",
            "Epoch: 6, Iter: 400, Loss: 0.11509188807010651\n",
            "Epoch: 7, Iter: 100, Loss: 0.11507892370223999\n",
            "Epoch: 7, Iter: 200, Loss: 0.11507245206832886\n",
            "Epoch: 7, Iter: 300, Loss: 0.11505885946750641\n",
            "Epoch: 7, Iter: 400, Loss: 0.11504760682582856\n",
            "Epoch: 8, Iter: 100, Loss: 0.11500208377838135\n",
            "Epoch: 8, Iter: 200, Loss: 0.11497299718856811\n",
            "Epoch: 8, Iter: 300, Loss: 0.11492819428443908\n",
            "Epoch: 8, Iter: 400, Loss: 0.11485928511619568\n",
            "Epoch: 9, Iter: 100, Loss: 0.11457242155075073\n",
            "Epoch: 9, Iter: 200, Loss: 0.11417595314979553\n",
            "Epoch: 9, Iter: 300, Loss: 0.11288639092445374\n",
            "Epoch: 9, Iter: 400, Loss: 0.09795112013816834\n",
            "Epoch: 10, Iter: 100, Loss: 0.04216941773891449\n",
            "Epoch: 10, Iter: 200, Loss: 0.03886483547091484\n",
            "Epoch: 10, Iter: 300, Loss: 0.03631646996736527\n",
            "Epoch: 10, Iter: 400, Loss: 0.03422634926438332\n"
          ]
        }
      ],
      "source": [
        "for epoch in range(10):\n",
        "\n",
        "    running_loss = 0.0\n",
        "\n",
        "    for i, data in enumerate(train_loader128, start=0):\n",
        "        inputs, labels = data[0].to(device), data[1].to(device)\n",
        "\n",
        "        optimizer.zero_grad() # epoch마다 gradient 0으로 초기화\n",
        "\n",
        "        outputs = new_model(inputs) # y_pred = f(X)\n",
        "        loss = criterion(outputs, labels) # CrossEntropyLoss; 0~1 사이값\n",
        "        loss.backward() # back-propagation; gradient 계산\n",
        "        optimizer.step() # parameters(weights) update\n",
        "\n",
        "        running_loss += loss.item() # 그냥 전체적인 비교를 위해 누적함\n",
        "\n",
        "        if i % 100 == 99: # 100번 마다 확인; epoch=10, iter(=i)=469, batch=128\n",
        "            print('Epoch: {}, Iter: {}, Loss: {}'.format(epoch+1, i+1, running_loss/2000))\n",
        "            running_loss = 0.0"
      ]
    },
    {
      "cell_type": "code",
      "execution_count": 61,
      "metadata": {
        "colab": {
          "base_uri": "https://localhost:8080/"
        },
        "id": "X0H3p7PGD42q",
        "outputId": "97dde7fb-b1c8-457a-9032-6dc27ef0f2a2"
      },
      "outputs": [
        {
          "output_type": "stream",
          "name": "stdout",
          "text": [
            "75.1\n"
          ]
        }
      ],
      "source": [
        "correct = 0\n",
        "total = 0\n",
        "\n",
        "with torch.no_grad():\n",
        "    for data in test_loader128:\n",
        "        images, labels = data[0].to(device), data[1].to(device)\n",
        "        outputs = new_model(images)\n",
        "        _, predicted = torch.max(outputs.data, axis=1)\n",
        "        total += labels.size(0)\n",
        "        correct += (predicted == labels).sum().item()\n",
        "    \n",
        "    print(100 * correct / total)"
      ]
    }
  ],
  "metadata": {
    "accelerator": "GPU",
    "colab": {
      "provenance": []
    },
    "gpuClass": "standard",
    "kernelspec": {
      "display_name": "Python 3 (ipykernel)",
      "language": "python",
      "name": "python3"
    },
    "language_info": {
      "codemirror_mode": {
        "name": "ipython",
        "version": 3
      },
      "file_extension": ".py",
      "mimetype": "text/x-python",
      "name": "python",
      "nbconvert_exporter": "python",
      "pygments_lexer": "ipython3",
      "version": "3.9.6"
    },
    "toc": {
      "base_numbering": 1,
      "nav_menu": {},
      "number_sections": true,
      "sideBar": true,
      "skip_h1_title": false,
      "title_cell": "Table of Contents",
      "title_sidebar": "Contents",
      "toc_cell": false,
      "toc_position": {},
      "toc_section_display": true,
      "toc_window_display": false
    },
    "widgets": {
      "application/vnd.jupyter.widget-state+json": {
        "14d127ede0614465823d8b81facdbdb3": {
          "model_module": "@jupyter-widgets/controls",
          "model_name": "HBoxModel",
          "model_module_version": "1.5.0",
          "state": {
            "_dom_classes": [],
            "_model_module": "@jupyter-widgets/controls",
            "_model_module_version": "1.5.0",
            "_model_name": "HBoxModel",
            "_view_count": null,
            "_view_module": "@jupyter-widgets/controls",
            "_view_module_version": "1.5.0",
            "_view_name": "HBoxView",
            "box_style": "",
            "children": [
              "IPY_MODEL_b759f37ecb9e42068e5bb9dcd6f82062",
              "IPY_MODEL_17315fcb19c540c1a7af3696dcff54de",
              "IPY_MODEL_6a089b554d034786b586587ecd6d188e"
            ],
            "layout": "IPY_MODEL_16b47821c1e9405ba4d5509b92755be7"
          }
        },
        "b759f37ecb9e42068e5bb9dcd6f82062": {
          "model_module": "@jupyter-widgets/controls",
          "model_name": "HTMLModel",
          "model_module_version": "1.5.0",
          "state": {
            "_dom_classes": [],
            "_model_module": "@jupyter-widgets/controls",
            "_model_module_version": "1.5.0",
            "_model_name": "HTMLModel",
            "_view_count": null,
            "_view_module": "@jupyter-widgets/controls",
            "_view_module_version": "1.5.0",
            "_view_name": "HTMLView",
            "description": "",
            "description_tooltip": null,
            "layout": "IPY_MODEL_a5e48aa7b1a44543889f78f8cc7dccfc",
            "placeholder": "​",
            "style": "IPY_MODEL_2d545cfeda2f42aba68f8466bd1b0dec",
            "value": "100%"
          }
        },
        "17315fcb19c540c1a7af3696dcff54de": {
          "model_module": "@jupyter-widgets/controls",
          "model_name": "FloatProgressModel",
          "model_module_version": "1.5.0",
          "state": {
            "_dom_classes": [],
            "_model_module": "@jupyter-widgets/controls",
            "_model_module_version": "1.5.0",
            "_model_name": "FloatProgressModel",
            "_view_count": null,
            "_view_module": "@jupyter-widgets/controls",
            "_view_module_version": "1.5.0",
            "_view_name": "ProgressView",
            "bar_style": "success",
            "description": "",
            "description_tooltip": null,
            "layout": "IPY_MODEL_ea185e5ce47843508c49bb8d91700437",
            "max": 26421880,
            "min": 0,
            "orientation": "horizontal",
            "style": "IPY_MODEL_c05bece06a884dff88bb376fa3e9d5c2",
            "value": 26421880
          }
        },
        "6a089b554d034786b586587ecd6d188e": {
          "model_module": "@jupyter-widgets/controls",
          "model_name": "HTMLModel",
          "model_module_version": "1.5.0",
          "state": {
            "_dom_classes": [],
            "_model_module": "@jupyter-widgets/controls",
            "_model_module_version": "1.5.0",
            "_model_name": "HTMLModel",
            "_view_count": null,
            "_view_module": "@jupyter-widgets/controls",
            "_view_module_version": "1.5.0",
            "_view_name": "HTMLView",
            "description": "",
            "description_tooltip": null,
            "layout": "IPY_MODEL_576d86d1b9c742f1a4327ce0c88eb3c6",
            "placeholder": "​",
            "style": "IPY_MODEL_6c51d92f291b4b92bf4d135eb07ae724",
            "value": " 26421880/26421880 [00:03&lt;00:00, 13741906.93it/s]"
          }
        },
        "16b47821c1e9405ba4d5509b92755be7": {
          "model_module": "@jupyter-widgets/base",
          "model_name": "LayoutModel",
          "model_module_version": "1.2.0",
          "state": {
            "_model_module": "@jupyter-widgets/base",
            "_model_module_version": "1.2.0",
            "_model_name": "LayoutModel",
            "_view_count": null,
            "_view_module": "@jupyter-widgets/base",
            "_view_module_version": "1.2.0",
            "_view_name": "LayoutView",
            "align_content": null,
            "align_items": null,
            "align_self": null,
            "border": null,
            "bottom": null,
            "display": null,
            "flex": null,
            "flex_flow": null,
            "grid_area": null,
            "grid_auto_columns": null,
            "grid_auto_flow": null,
            "grid_auto_rows": null,
            "grid_column": null,
            "grid_gap": null,
            "grid_row": null,
            "grid_template_areas": null,
            "grid_template_columns": null,
            "grid_template_rows": null,
            "height": null,
            "justify_content": null,
            "justify_items": null,
            "left": null,
            "margin": null,
            "max_height": null,
            "max_width": null,
            "min_height": null,
            "min_width": null,
            "object_fit": null,
            "object_position": null,
            "order": null,
            "overflow": null,
            "overflow_x": null,
            "overflow_y": null,
            "padding": null,
            "right": null,
            "top": null,
            "visibility": null,
            "width": null
          }
        },
        "a5e48aa7b1a44543889f78f8cc7dccfc": {
          "model_module": "@jupyter-widgets/base",
          "model_name": "LayoutModel",
          "model_module_version": "1.2.0",
          "state": {
            "_model_module": "@jupyter-widgets/base",
            "_model_module_version": "1.2.0",
            "_model_name": "LayoutModel",
            "_view_count": null,
            "_view_module": "@jupyter-widgets/base",
            "_view_module_version": "1.2.0",
            "_view_name": "LayoutView",
            "align_content": null,
            "align_items": null,
            "align_self": null,
            "border": null,
            "bottom": null,
            "display": null,
            "flex": null,
            "flex_flow": null,
            "grid_area": null,
            "grid_auto_columns": null,
            "grid_auto_flow": null,
            "grid_auto_rows": null,
            "grid_column": null,
            "grid_gap": null,
            "grid_row": null,
            "grid_template_areas": null,
            "grid_template_columns": null,
            "grid_template_rows": null,
            "height": null,
            "justify_content": null,
            "justify_items": null,
            "left": null,
            "margin": null,
            "max_height": null,
            "max_width": null,
            "min_height": null,
            "min_width": null,
            "object_fit": null,
            "object_position": null,
            "order": null,
            "overflow": null,
            "overflow_x": null,
            "overflow_y": null,
            "padding": null,
            "right": null,
            "top": null,
            "visibility": null,
            "width": null
          }
        },
        "2d545cfeda2f42aba68f8466bd1b0dec": {
          "model_module": "@jupyter-widgets/controls",
          "model_name": "DescriptionStyleModel",
          "model_module_version": "1.5.0",
          "state": {
            "_model_module": "@jupyter-widgets/controls",
            "_model_module_version": "1.5.0",
            "_model_name": "DescriptionStyleModel",
            "_view_count": null,
            "_view_module": "@jupyter-widgets/base",
            "_view_module_version": "1.2.0",
            "_view_name": "StyleView",
            "description_width": ""
          }
        },
        "ea185e5ce47843508c49bb8d91700437": {
          "model_module": "@jupyter-widgets/base",
          "model_name": "LayoutModel",
          "model_module_version": "1.2.0",
          "state": {
            "_model_module": "@jupyter-widgets/base",
            "_model_module_version": "1.2.0",
            "_model_name": "LayoutModel",
            "_view_count": null,
            "_view_module": "@jupyter-widgets/base",
            "_view_module_version": "1.2.0",
            "_view_name": "LayoutView",
            "align_content": null,
            "align_items": null,
            "align_self": null,
            "border": null,
            "bottom": null,
            "display": null,
            "flex": null,
            "flex_flow": null,
            "grid_area": null,
            "grid_auto_columns": null,
            "grid_auto_flow": null,
            "grid_auto_rows": null,
            "grid_column": null,
            "grid_gap": null,
            "grid_row": null,
            "grid_template_areas": null,
            "grid_template_columns": null,
            "grid_template_rows": null,
            "height": null,
            "justify_content": null,
            "justify_items": null,
            "left": null,
            "margin": null,
            "max_height": null,
            "max_width": null,
            "min_height": null,
            "min_width": null,
            "object_fit": null,
            "object_position": null,
            "order": null,
            "overflow": null,
            "overflow_x": null,
            "overflow_y": null,
            "padding": null,
            "right": null,
            "top": null,
            "visibility": null,
            "width": null
          }
        },
        "c05bece06a884dff88bb376fa3e9d5c2": {
          "model_module": "@jupyter-widgets/controls",
          "model_name": "ProgressStyleModel",
          "model_module_version": "1.5.0",
          "state": {
            "_model_module": "@jupyter-widgets/controls",
            "_model_module_version": "1.5.0",
            "_model_name": "ProgressStyleModel",
            "_view_count": null,
            "_view_module": "@jupyter-widgets/base",
            "_view_module_version": "1.2.0",
            "_view_name": "StyleView",
            "bar_color": null,
            "description_width": ""
          }
        },
        "576d86d1b9c742f1a4327ce0c88eb3c6": {
          "model_module": "@jupyter-widgets/base",
          "model_name": "LayoutModel",
          "model_module_version": "1.2.0",
          "state": {
            "_model_module": "@jupyter-widgets/base",
            "_model_module_version": "1.2.0",
            "_model_name": "LayoutModel",
            "_view_count": null,
            "_view_module": "@jupyter-widgets/base",
            "_view_module_version": "1.2.0",
            "_view_name": "LayoutView",
            "align_content": null,
            "align_items": null,
            "align_self": null,
            "border": null,
            "bottom": null,
            "display": null,
            "flex": null,
            "flex_flow": null,
            "grid_area": null,
            "grid_auto_columns": null,
            "grid_auto_flow": null,
            "grid_auto_rows": null,
            "grid_column": null,
            "grid_gap": null,
            "grid_row": null,
            "grid_template_areas": null,
            "grid_template_columns": null,
            "grid_template_rows": null,
            "height": null,
            "justify_content": null,
            "justify_items": null,
            "left": null,
            "margin": null,
            "max_height": null,
            "max_width": null,
            "min_height": null,
            "min_width": null,
            "object_fit": null,
            "object_position": null,
            "order": null,
            "overflow": null,
            "overflow_x": null,
            "overflow_y": null,
            "padding": null,
            "right": null,
            "top": null,
            "visibility": null,
            "width": null
          }
        },
        "6c51d92f291b4b92bf4d135eb07ae724": {
          "model_module": "@jupyter-widgets/controls",
          "model_name": "DescriptionStyleModel",
          "model_module_version": "1.5.0",
          "state": {
            "_model_module": "@jupyter-widgets/controls",
            "_model_module_version": "1.5.0",
            "_model_name": "DescriptionStyleModel",
            "_view_count": null,
            "_view_module": "@jupyter-widgets/base",
            "_view_module_version": "1.2.0",
            "_view_name": "StyleView",
            "description_width": ""
          }
        },
        "bd75cd2b8dcc4b4091694d93c2635f5e": {
          "model_module": "@jupyter-widgets/controls",
          "model_name": "HBoxModel",
          "model_module_version": "1.5.0",
          "state": {
            "_dom_classes": [],
            "_model_module": "@jupyter-widgets/controls",
            "_model_module_version": "1.5.0",
            "_model_name": "HBoxModel",
            "_view_count": null,
            "_view_module": "@jupyter-widgets/controls",
            "_view_module_version": "1.5.0",
            "_view_name": "HBoxView",
            "box_style": "",
            "children": [
              "IPY_MODEL_5c300d6d56f14431a92011fb20a3b1e6",
              "IPY_MODEL_01790809d6ba4ac7b051c3cba2231aca",
              "IPY_MODEL_4012aa3af6b04489badce70c6584e6ea"
            ],
            "layout": "IPY_MODEL_73662dc7e00f4311835a056e3768d37a"
          }
        },
        "5c300d6d56f14431a92011fb20a3b1e6": {
          "model_module": "@jupyter-widgets/controls",
          "model_name": "HTMLModel",
          "model_module_version": "1.5.0",
          "state": {
            "_dom_classes": [],
            "_model_module": "@jupyter-widgets/controls",
            "_model_module_version": "1.5.0",
            "_model_name": "HTMLModel",
            "_view_count": null,
            "_view_module": "@jupyter-widgets/controls",
            "_view_module_version": "1.5.0",
            "_view_name": "HTMLView",
            "description": "",
            "description_tooltip": null,
            "layout": "IPY_MODEL_7e2f302cf8f34b74b2841911acb2bff9",
            "placeholder": "​",
            "style": "IPY_MODEL_1a55d82f4e79430c97b1aca6aedcce96",
            "value": "100%"
          }
        },
        "01790809d6ba4ac7b051c3cba2231aca": {
          "model_module": "@jupyter-widgets/controls",
          "model_name": "FloatProgressModel",
          "model_module_version": "1.5.0",
          "state": {
            "_dom_classes": [],
            "_model_module": "@jupyter-widgets/controls",
            "_model_module_version": "1.5.0",
            "_model_name": "FloatProgressModel",
            "_view_count": null,
            "_view_module": "@jupyter-widgets/controls",
            "_view_module_version": "1.5.0",
            "_view_name": "ProgressView",
            "bar_style": "success",
            "description": "",
            "description_tooltip": null,
            "layout": "IPY_MODEL_5a37f20b147843018d0e2f8f9e7a911d",
            "max": 29515,
            "min": 0,
            "orientation": "horizontal",
            "style": "IPY_MODEL_f00749e4d68b419ab2babb672c9cc653",
            "value": 29515
          }
        },
        "4012aa3af6b04489badce70c6584e6ea": {
          "model_module": "@jupyter-widgets/controls",
          "model_name": "HTMLModel",
          "model_module_version": "1.5.0",
          "state": {
            "_dom_classes": [],
            "_model_module": "@jupyter-widgets/controls",
            "_model_module_version": "1.5.0",
            "_model_name": "HTMLModel",
            "_view_count": null,
            "_view_module": "@jupyter-widgets/controls",
            "_view_module_version": "1.5.0",
            "_view_name": "HTMLView",
            "description": "",
            "description_tooltip": null,
            "layout": "IPY_MODEL_ced3e2e39dd6472287e8732fc13d80e8",
            "placeholder": "​",
            "style": "IPY_MODEL_5431765440a84f398d7a8e21e8794f62",
            "value": " 29515/29515 [00:00&lt;00:00, 145292.68it/s]"
          }
        },
        "73662dc7e00f4311835a056e3768d37a": {
          "model_module": "@jupyter-widgets/base",
          "model_name": "LayoutModel",
          "model_module_version": "1.2.0",
          "state": {
            "_model_module": "@jupyter-widgets/base",
            "_model_module_version": "1.2.0",
            "_model_name": "LayoutModel",
            "_view_count": null,
            "_view_module": "@jupyter-widgets/base",
            "_view_module_version": "1.2.0",
            "_view_name": "LayoutView",
            "align_content": null,
            "align_items": null,
            "align_self": null,
            "border": null,
            "bottom": null,
            "display": null,
            "flex": null,
            "flex_flow": null,
            "grid_area": null,
            "grid_auto_columns": null,
            "grid_auto_flow": null,
            "grid_auto_rows": null,
            "grid_column": null,
            "grid_gap": null,
            "grid_row": null,
            "grid_template_areas": null,
            "grid_template_columns": null,
            "grid_template_rows": null,
            "height": null,
            "justify_content": null,
            "justify_items": null,
            "left": null,
            "margin": null,
            "max_height": null,
            "max_width": null,
            "min_height": null,
            "min_width": null,
            "object_fit": null,
            "object_position": null,
            "order": null,
            "overflow": null,
            "overflow_x": null,
            "overflow_y": null,
            "padding": null,
            "right": null,
            "top": null,
            "visibility": null,
            "width": null
          }
        },
        "7e2f302cf8f34b74b2841911acb2bff9": {
          "model_module": "@jupyter-widgets/base",
          "model_name": "LayoutModel",
          "model_module_version": "1.2.0",
          "state": {
            "_model_module": "@jupyter-widgets/base",
            "_model_module_version": "1.2.0",
            "_model_name": "LayoutModel",
            "_view_count": null,
            "_view_module": "@jupyter-widgets/base",
            "_view_module_version": "1.2.0",
            "_view_name": "LayoutView",
            "align_content": null,
            "align_items": null,
            "align_self": null,
            "border": null,
            "bottom": null,
            "display": null,
            "flex": null,
            "flex_flow": null,
            "grid_area": null,
            "grid_auto_columns": null,
            "grid_auto_flow": null,
            "grid_auto_rows": null,
            "grid_column": null,
            "grid_gap": null,
            "grid_row": null,
            "grid_template_areas": null,
            "grid_template_columns": null,
            "grid_template_rows": null,
            "height": null,
            "justify_content": null,
            "justify_items": null,
            "left": null,
            "margin": null,
            "max_height": null,
            "max_width": null,
            "min_height": null,
            "min_width": null,
            "object_fit": null,
            "object_position": null,
            "order": null,
            "overflow": null,
            "overflow_x": null,
            "overflow_y": null,
            "padding": null,
            "right": null,
            "top": null,
            "visibility": null,
            "width": null
          }
        },
        "1a55d82f4e79430c97b1aca6aedcce96": {
          "model_module": "@jupyter-widgets/controls",
          "model_name": "DescriptionStyleModel",
          "model_module_version": "1.5.0",
          "state": {
            "_model_module": "@jupyter-widgets/controls",
            "_model_module_version": "1.5.0",
            "_model_name": "DescriptionStyleModel",
            "_view_count": null,
            "_view_module": "@jupyter-widgets/base",
            "_view_module_version": "1.2.0",
            "_view_name": "StyleView",
            "description_width": ""
          }
        },
        "5a37f20b147843018d0e2f8f9e7a911d": {
          "model_module": "@jupyter-widgets/base",
          "model_name": "LayoutModel",
          "model_module_version": "1.2.0",
          "state": {
            "_model_module": "@jupyter-widgets/base",
            "_model_module_version": "1.2.0",
            "_model_name": "LayoutModel",
            "_view_count": null,
            "_view_module": "@jupyter-widgets/base",
            "_view_module_version": "1.2.0",
            "_view_name": "LayoutView",
            "align_content": null,
            "align_items": null,
            "align_self": null,
            "border": null,
            "bottom": null,
            "display": null,
            "flex": null,
            "flex_flow": null,
            "grid_area": null,
            "grid_auto_columns": null,
            "grid_auto_flow": null,
            "grid_auto_rows": null,
            "grid_column": null,
            "grid_gap": null,
            "grid_row": null,
            "grid_template_areas": null,
            "grid_template_columns": null,
            "grid_template_rows": null,
            "height": null,
            "justify_content": null,
            "justify_items": null,
            "left": null,
            "margin": null,
            "max_height": null,
            "max_width": null,
            "min_height": null,
            "min_width": null,
            "object_fit": null,
            "object_position": null,
            "order": null,
            "overflow": null,
            "overflow_x": null,
            "overflow_y": null,
            "padding": null,
            "right": null,
            "top": null,
            "visibility": null,
            "width": null
          }
        },
        "f00749e4d68b419ab2babb672c9cc653": {
          "model_module": "@jupyter-widgets/controls",
          "model_name": "ProgressStyleModel",
          "model_module_version": "1.5.0",
          "state": {
            "_model_module": "@jupyter-widgets/controls",
            "_model_module_version": "1.5.0",
            "_model_name": "ProgressStyleModel",
            "_view_count": null,
            "_view_module": "@jupyter-widgets/base",
            "_view_module_version": "1.2.0",
            "_view_name": "StyleView",
            "bar_color": null,
            "description_width": ""
          }
        },
        "ced3e2e39dd6472287e8732fc13d80e8": {
          "model_module": "@jupyter-widgets/base",
          "model_name": "LayoutModel",
          "model_module_version": "1.2.0",
          "state": {
            "_model_module": "@jupyter-widgets/base",
            "_model_module_version": "1.2.0",
            "_model_name": "LayoutModel",
            "_view_count": null,
            "_view_module": "@jupyter-widgets/base",
            "_view_module_version": "1.2.0",
            "_view_name": "LayoutView",
            "align_content": null,
            "align_items": null,
            "align_self": null,
            "border": null,
            "bottom": null,
            "display": null,
            "flex": null,
            "flex_flow": null,
            "grid_area": null,
            "grid_auto_columns": null,
            "grid_auto_flow": null,
            "grid_auto_rows": null,
            "grid_column": null,
            "grid_gap": null,
            "grid_row": null,
            "grid_template_areas": null,
            "grid_template_columns": null,
            "grid_template_rows": null,
            "height": null,
            "justify_content": null,
            "justify_items": null,
            "left": null,
            "margin": null,
            "max_height": null,
            "max_width": null,
            "min_height": null,
            "min_width": null,
            "object_fit": null,
            "object_position": null,
            "order": null,
            "overflow": null,
            "overflow_x": null,
            "overflow_y": null,
            "padding": null,
            "right": null,
            "top": null,
            "visibility": null,
            "width": null
          }
        },
        "5431765440a84f398d7a8e21e8794f62": {
          "model_module": "@jupyter-widgets/controls",
          "model_name": "DescriptionStyleModel",
          "model_module_version": "1.5.0",
          "state": {
            "_model_module": "@jupyter-widgets/controls",
            "_model_module_version": "1.5.0",
            "_model_name": "DescriptionStyleModel",
            "_view_count": null,
            "_view_module": "@jupyter-widgets/base",
            "_view_module_version": "1.2.0",
            "_view_name": "StyleView",
            "description_width": ""
          }
        },
        "f2e31ae309ab4bc78365662f95e6588b": {
          "model_module": "@jupyter-widgets/controls",
          "model_name": "HBoxModel",
          "model_module_version": "1.5.0",
          "state": {
            "_dom_classes": [],
            "_model_module": "@jupyter-widgets/controls",
            "_model_module_version": "1.5.0",
            "_model_name": "HBoxModel",
            "_view_count": null,
            "_view_module": "@jupyter-widgets/controls",
            "_view_module_version": "1.5.0",
            "_view_name": "HBoxView",
            "box_style": "",
            "children": [
              "IPY_MODEL_3399c1b9cf1f4600a32a59dc2ffd513d",
              "IPY_MODEL_fce8fc7ed9ba414e9a0eadb7cbcaa808",
              "IPY_MODEL_5732c9cd6fb54877b01a482d957f899a"
            ],
            "layout": "IPY_MODEL_d0ada62b30634e8f96f1703f269b0fd2"
          }
        },
        "3399c1b9cf1f4600a32a59dc2ffd513d": {
          "model_module": "@jupyter-widgets/controls",
          "model_name": "HTMLModel",
          "model_module_version": "1.5.0",
          "state": {
            "_dom_classes": [],
            "_model_module": "@jupyter-widgets/controls",
            "_model_module_version": "1.5.0",
            "_model_name": "HTMLModel",
            "_view_count": null,
            "_view_module": "@jupyter-widgets/controls",
            "_view_module_version": "1.5.0",
            "_view_name": "HTMLView",
            "description": "",
            "description_tooltip": null,
            "layout": "IPY_MODEL_9817fbf8b3e14d6b991961434f1eafeb",
            "placeholder": "​",
            "style": "IPY_MODEL_588593c1bb96443b96e6974b93a7ded4",
            "value": "100%"
          }
        },
        "fce8fc7ed9ba414e9a0eadb7cbcaa808": {
          "model_module": "@jupyter-widgets/controls",
          "model_name": "FloatProgressModel",
          "model_module_version": "1.5.0",
          "state": {
            "_dom_classes": [],
            "_model_module": "@jupyter-widgets/controls",
            "_model_module_version": "1.5.0",
            "_model_name": "FloatProgressModel",
            "_view_count": null,
            "_view_module": "@jupyter-widgets/controls",
            "_view_module_version": "1.5.0",
            "_view_name": "ProgressView",
            "bar_style": "success",
            "description": "",
            "description_tooltip": null,
            "layout": "IPY_MODEL_4bbb3947e8314800af064708ca5f109c",
            "max": 4422102,
            "min": 0,
            "orientation": "horizontal",
            "style": "IPY_MODEL_5d443cb2060f43b0a6a383345147bad8",
            "value": 4422102
          }
        },
        "5732c9cd6fb54877b01a482d957f899a": {
          "model_module": "@jupyter-widgets/controls",
          "model_name": "HTMLModel",
          "model_module_version": "1.5.0",
          "state": {
            "_dom_classes": [],
            "_model_module": "@jupyter-widgets/controls",
            "_model_module_version": "1.5.0",
            "_model_name": "HTMLModel",
            "_view_count": null,
            "_view_module": "@jupyter-widgets/controls",
            "_view_module_version": "1.5.0",
            "_view_name": "HTMLView",
            "description": "",
            "description_tooltip": null,
            "layout": "IPY_MODEL_d2b151c652474c8583ae425ff598acec",
            "placeholder": "​",
            "style": "IPY_MODEL_3d3f784d4a1a44dcb6014a7f7f05fa98",
            "value": " 4422102/4422102 [00:01&lt;00:00, 4623645.98it/s]"
          }
        },
        "d0ada62b30634e8f96f1703f269b0fd2": {
          "model_module": "@jupyter-widgets/base",
          "model_name": "LayoutModel",
          "model_module_version": "1.2.0",
          "state": {
            "_model_module": "@jupyter-widgets/base",
            "_model_module_version": "1.2.0",
            "_model_name": "LayoutModel",
            "_view_count": null,
            "_view_module": "@jupyter-widgets/base",
            "_view_module_version": "1.2.0",
            "_view_name": "LayoutView",
            "align_content": null,
            "align_items": null,
            "align_self": null,
            "border": null,
            "bottom": null,
            "display": null,
            "flex": null,
            "flex_flow": null,
            "grid_area": null,
            "grid_auto_columns": null,
            "grid_auto_flow": null,
            "grid_auto_rows": null,
            "grid_column": null,
            "grid_gap": null,
            "grid_row": null,
            "grid_template_areas": null,
            "grid_template_columns": null,
            "grid_template_rows": null,
            "height": null,
            "justify_content": null,
            "justify_items": null,
            "left": null,
            "margin": null,
            "max_height": null,
            "max_width": null,
            "min_height": null,
            "min_width": null,
            "object_fit": null,
            "object_position": null,
            "order": null,
            "overflow": null,
            "overflow_x": null,
            "overflow_y": null,
            "padding": null,
            "right": null,
            "top": null,
            "visibility": null,
            "width": null
          }
        },
        "9817fbf8b3e14d6b991961434f1eafeb": {
          "model_module": "@jupyter-widgets/base",
          "model_name": "LayoutModel",
          "model_module_version": "1.2.0",
          "state": {
            "_model_module": "@jupyter-widgets/base",
            "_model_module_version": "1.2.0",
            "_model_name": "LayoutModel",
            "_view_count": null,
            "_view_module": "@jupyter-widgets/base",
            "_view_module_version": "1.2.0",
            "_view_name": "LayoutView",
            "align_content": null,
            "align_items": null,
            "align_self": null,
            "border": null,
            "bottom": null,
            "display": null,
            "flex": null,
            "flex_flow": null,
            "grid_area": null,
            "grid_auto_columns": null,
            "grid_auto_flow": null,
            "grid_auto_rows": null,
            "grid_column": null,
            "grid_gap": null,
            "grid_row": null,
            "grid_template_areas": null,
            "grid_template_columns": null,
            "grid_template_rows": null,
            "height": null,
            "justify_content": null,
            "justify_items": null,
            "left": null,
            "margin": null,
            "max_height": null,
            "max_width": null,
            "min_height": null,
            "min_width": null,
            "object_fit": null,
            "object_position": null,
            "order": null,
            "overflow": null,
            "overflow_x": null,
            "overflow_y": null,
            "padding": null,
            "right": null,
            "top": null,
            "visibility": null,
            "width": null
          }
        },
        "588593c1bb96443b96e6974b93a7ded4": {
          "model_module": "@jupyter-widgets/controls",
          "model_name": "DescriptionStyleModel",
          "model_module_version": "1.5.0",
          "state": {
            "_model_module": "@jupyter-widgets/controls",
            "_model_module_version": "1.5.0",
            "_model_name": "DescriptionStyleModel",
            "_view_count": null,
            "_view_module": "@jupyter-widgets/base",
            "_view_module_version": "1.2.0",
            "_view_name": "StyleView",
            "description_width": ""
          }
        },
        "4bbb3947e8314800af064708ca5f109c": {
          "model_module": "@jupyter-widgets/base",
          "model_name": "LayoutModel",
          "model_module_version": "1.2.0",
          "state": {
            "_model_module": "@jupyter-widgets/base",
            "_model_module_version": "1.2.0",
            "_model_name": "LayoutModel",
            "_view_count": null,
            "_view_module": "@jupyter-widgets/base",
            "_view_module_version": "1.2.0",
            "_view_name": "LayoutView",
            "align_content": null,
            "align_items": null,
            "align_self": null,
            "border": null,
            "bottom": null,
            "display": null,
            "flex": null,
            "flex_flow": null,
            "grid_area": null,
            "grid_auto_columns": null,
            "grid_auto_flow": null,
            "grid_auto_rows": null,
            "grid_column": null,
            "grid_gap": null,
            "grid_row": null,
            "grid_template_areas": null,
            "grid_template_columns": null,
            "grid_template_rows": null,
            "height": null,
            "justify_content": null,
            "justify_items": null,
            "left": null,
            "margin": null,
            "max_height": null,
            "max_width": null,
            "min_height": null,
            "min_width": null,
            "object_fit": null,
            "object_position": null,
            "order": null,
            "overflow": null,
            "overflow_x": null,
            "overflow_y": null,
            "padding": null,
            "right": null,
            "top": null,
            "visibility": null,
            "width": null
          }
        },
        "5d443cb2060f43b0a6a383345147bad8": {
          "model_module": "@jupyter-widgets/controls",
          "model_name": "ProgressStyleModel",
          "model_module_version": "1.5.0",
          "state": {
            "_model_module": "@jupyter-widgets/controls",
            "_model_module_version": "1.5.0",
            "_model_name": "ProgressStyleModel",
            "_view_count": null,
            "_view_module": "@jupyter-widgets/base",
            "_view_module_version": "1.2.0",
            "_view_name": "StyleView",
            "bar_color": null,
            "description_width": ""
          }
        },
        "d2b151c652474c8583ae425ff598acec": {
          "model_module": "@jupyter-widgets/base",
          "model_name": "LayoutModel",
          "model_module_version": "1.2.0",
          "state": {
            "_model_module": "@jupyter-widgets/base",
            "_model_module_version": "1.2.0",
            "_model_name": "LayoutModel",
            "_view_count": null,
            "_view_module": "@jupyter-widgets/base",
            "_view_module_version": "1.2.0",
            "_view_name": "LayoutView",
            "align_content": null,
            "align_items": null,
            "align_self": null,
            "border": null,
            "bottom": null,
            "display": null,
            "flex": null,
            "flex_flow": null,
            "grid_area": null,
            "grid_auto_columns": null,
            "grid_auto_flow": null,
            "grid_auto_rows": null,
            "grid_column": null,
            "grid_gap": null,
            "grid_row": null,
            "grid_template_areas": null,
            "grid_template_columns": null,
            "grid_template_rows": null,
            "height": null,
            "justify_content": null,
            "justify_items": null,
            "left": null,
            "margin": null,
            "max_height": null,
            "max_width": null,
            "min_height": null,
            "min_width": null,
            "object_fit": null,
            "object_position": null,
            "order": null,
            "overflow": null,
            "overflow_x": null,
            "overflow_y": null,
            "padding": null,
            "right": null,
            "top": null,
            "visibility": null,
            "width": null
          }
        },
        "3d3f784d4a1a44dcb6014a7f7f05fa98": {
          "model_module": "@jupyter-widgets/controls",
          "model_name": "DescriptionStyleModel",
          "model_module_version": "1.5.0",
          "state": {
            "_model_module": "@jupyter-widgets/controls",
            "_model_module_version": "1.5.0",
            "_model_name": "DescriptionStyleModel",
            "_view_count": null,
            "_view_module": "@jupyter-widgets/base",
            "_view_module_version": "1.2.0",
            "_view_name": "StyleView",
            "description_width": ""
          }
        },
        "cf919f8e204f49bab577144ecdd3a570": {
          "model_module": "@jupyter-widgets/controls",
          "model_name": "HBoxModel",
          "model_module_version": "1.5.0",
          "state": {
            "_dom_classes": [],
            "_model_module": "@jupyter-widgets/controls",
            "_model_module_version": "1.5.0",
            "_model_name": "HBoxModel",
            "_view_count": null,
            "_view_module": "@jupyter-widgets/controls",
            "_view_module_version": "1.5.0",
            "_view_name": "HBoxView",
            "box_style": "",
            "children": [
              "IPY_MODEL_9e3f0922daa846dfad8fc535f2c2df55",
              "IPY_MODEL_4d0b53ff01c04c9cb609ff40da9fb1b4",
              "IPY_MODEL_020800813b794ba09b789cb67f19789c"
            ],
            "layout": "IPY_MODEL_ef00af28de5943e4afdd14683bdb06b7"
          }
        },
        "9e3f0922daa846dfad8fc535f2c2df55": {
          "model_module": "@jupyter-widgets/controls",
          "model_name": "HTMLModel",
          "model_module_version": "1.5.0",
          "state": {
            "_dom_classes": [],
            "_model_module": "@jupyter-widgets/controls",
            "_model_module_version": "1.5.0",
            "_model_name": "HTMLModel",
            "_view_count": null,
            "_view_module": "@jupyter-widgets/controls",
            "_view_module_version": "1.5.0",
            "_view_name": "HTMLView",
            "description": "",
            "description_tooltip": null,
            "layout": "IPY_MODEL_7a1b791daec44ad0afe927ed7d509265",
            "placeholder": "​",
            "style": "IPY_MODEL_acdb86fee169435692ec1bd0615253c1",
            "value": "100%"
          }
        },
        "4d0b53ff01c04c9cb609ff40da9fb1b4": {
          "model_module": "@jupyter-widgets/controls",
          "model_name": "FloatProgressModel",
          "model_module_version": "1.5.0",
          "state": {
            "_dom_classes": [],
            "_model_module": "@jupyter-widgets/controls",
            "_model_module_version": "1.5.0",
            "_model_name": "FloatProgressModel",
            "_view_count": null,
            "_view_module": "@jupyter-widgets/controls",
            "_view_module_version": "1.5.0",
            "_view_name": "ProgressView",
            "bar_style": "success",
            "description": "",
            "description_tooltip": null,
            "layout": "IPY_MODEL_ba943247765840bea04ddbd3285d8891",
            "max": 5148,
            "min": 0,
            "orientation": "horizontal",
            "style": "IPY_MODEL_e23772ea0c3d4323906a2c0e95ead147",
            "value": 5148
          }
        },
        "020800813b794ba09b789cb67f19789c": {
          "model_module": "@jupyter-widgets/controls",
          "model_name": "HTMLModel",
          "model_module_version": "1.5.0",
          "state": {
            "_dom_classes": [],
            "_model_module": "@jupyter-widgets/controls",
            "_model_module_version": "1.5.0",
            "_model_name": "HTMLModel",
            "_view_count": null,
            "_view_module": "@jupyter-widgets/controls",
            "_view_module_version": "1.5.0",
            "_view_name": "HTMLView",
            "description": "",
            "description_tooltip": null,
            "layout": "IPY_MODEL_a121f95e6dea4f7188160df0eb6d9ad2",
            "placeholder": "​",
            "style": "IPY_MODEL_6b63034ffb614a81b3b86e7969378557",
            "value": " 5148/5148 [00:00&lt;00:00, 51157.08it/s]"
          }
        },
        "ef00af28de5943e4afdd14683bdb06b7": {
          "model_module": "@jupyter-widgets/base",
          "model_name": "LayoutModel",
          "model_module_version": "1.2.0",
          "state": {
            "_model_module": "@jupyter-widgets/base",
            "_model_module_version": "1.2.0",
            "_model_name": "LayoutModel",
            "_view_count": null,
            "_view_module": "@jupyter-widgets/base",
            "_view_module_version": "1.2.0",
            "_view_name": "LayoutView",
            "align_content": null,
            "align_items": null,
            "align_self": null,
            "border": null,
            "bottom": null,
            "display": null,
            "flex": null,
            "flex_flow": null,
            "grid_area": null,
            "grid_auto_columns": null,
            "grid_auto_flow": null,
            "grid_auto_rows": null,
            "grid_column": null,
            "grid_gap": null,
            "grid_row": null,
            "grid_template_areas": null,
            "grid_template_columns": null,
            "grid_template_rows": null,
            "height": null,
            "justify_content": null,
            "justify_items": null,
            "left": null,
            "margin": null,
            "max_height": null,
            "max_width": null,
            "min_height": null,
            "min_width": null,
            "object_fit": null,
            "object_position": null,
            "order": null,
            "overflow": null,
            "overflow_x": null,
            "overflow_y": null,
            "padding": null,
            "right": null,
            "top": null,
            "visibility": null,
            "width": null
          }
        },
        "7a1b791daec44ad0afe927ed7d509265": {
          "model_module": "@jupyter-widgets/base",
          "model_name": "LayoutModel",
          "model_module_version": "1.2.0",
          "state": {
            "_model_module": "@jupyter-widgets/base",
            "_model_module_version": "1.2.0",
            "_model_name": "LayoutModel",
            "_view_count": null,
            "_view_module": "@jupyter-widgets/base",
            "_view_module_version": "1.2.0",
            "_view_name": "LayoutView",
            "align_content": null,
            "align_items": null,
            "align_self": null,
            "border": null,
            "bottom": null,
            "display": null,
            "flex": null,
            "flex_flow": null,
            "grid_area": null,
            "grid_auto_columns": null,
            "grid_auto_flow": null,
            "grid_auto_rows": null,
            "grid_column": null,
            "grid_gap": null,
            "grid_row": null,
            "grid_template_areas": null,
            "grid_template_columns": null,
            "grid_template_rows": null,
            "height": null,
            "justify_content": null,
            "justify_items": null,
            "left": null,
            "margin": null,
            "max_height": null,
            "max_width": null,
            "min_height": null,
            "min_width": null,
            "object_fit": null,
            "object_position": null,
            "order": null,
            "overflow": null,
            "overflow_x": null,
            "overflow_y": null,
            "padding": null,
            "right": null,
            "top": null,
            "visibility": null,
            "width": null
          }
        },
        "acdb86fee169435692ec1bd0615253c1": {
          "model_module": "@jupyter-widgets/controls",
          "model_name": "DescriptionStyleModel",
          "model_module_version": "1.5.0",
          "state": {
            "_model_module": "@jupyter-widgets/controls",
            "_model_module_version": "1.5.0",
            "_model_name": "DescriptionStyleModel",
            "_view_count": null,
            "_view_module": "@jupyter-widgets/base",
            "_view_module_version": "1.2.0",
            "_view_name": "StyleView",
            "description_width": ""
          }
        },
        "ba943247765840bea04ddbd3285d8891": {
          "model_module": "@jupyter-widgets/base",
          "model_name": "LayoutModel",
          "model_module_version": "1.2.0",
          "state": {
            "_model_module": "@jupyter-widgets/base",
            "_model_module_version": "1.2.0",
            "_model_name": "LayoutModel",
            "_view_count": null,
            "_view_module": "@jupyter-widgets/base",
            "_view_module_version": "1.2.0",
            "_view_name": "LayoutView",
            "align_content": null,
            "align_items": null,
            "align_self": null,
            "border": null,
            "bottom": null,
            "display": null,
            "flex": null,
            "flex_flow": null,
            "grid_area": null,
            "grid_auto_columns": null,
            "grid_auto_flow": null,
            "grid_auto_rows": null,
            "grid_column": null,
            "grid_gap": null,
            "grid_row": null,
            "grid_template_areas": null,
            "grid_template_columns": null,
            "grid_template_rows": null,
            "height": null,
            "justify_content": null,
            "justify_items": null,
            "left": null,
            "margin": null,
            "max_height": null,
            "max_width": null,
            "min_height": null,
            "min_width": null,
            "object_fit": null,
            "object_position": null,
            "order": null,
            "overflow": null,
            "overflow_x": null,
            "overflow_y": null,
            "padding": null,
            "right": null,
            "top": null,
            "visibility": null,
            "width": null
          }
        },
        "e23772ea0c3d4323906a2c0e95ead147": {
          "model_module": "@jupyter-widgets/controls",
          "model_name": "ProgressStyleModel",
          "model_module_version": "1.5.0",
          "state": {
            "_model_module": "@jupyter-widgets/controls",
            "_model_module_version": "1.5.0",
            "_model_name": "ProgressStyleModel",
            "_view_count": null,
            "_view_module": "@jupyter-widgets/base",
            "_view_module_version": "1.2.0",
            "_view_name": "StyleView",
            "bar_color": null,
            "description_width": ""
          }
        },
        "a121f95e6dea4f7188160df0eb6d9ad2": {
          "model_module": "@jupyter-widgets/base",
          "model_name": "LayoutModel",
          "model_module_version": "1.2.0",
          "state": {
            "_model_module": "@jupyter-widgets/base",
            "_model_module_version": "1.2.0",
            "_model_name": "LayoutModel",
            "_view_count": null,
            "_view_module": "@jupyter-widgets/base",
            "_view_module_version": "1.2.0",
            "_view_name": "LayoutView",
            "align_content": null,
            "align_items": null,
            "align_self": null,
            "border": null,
            "bottom": null,
            "display": null,
            "flex": null,
            "flex_flow": null,
            "grid_area": null,
            "grid_auto_columns": null,
            "grid_auto_flow": null,
            "grid_auto_rows": null,
            "grid_column": null,
            "grid_gap": null,
            "grid_row": null,
            "grid_template_areas": null,
            "grid_template_columns": null,
            "grid_template_rows": null,
            "height": null,
            "justify_content": null,
            "justify_items": null,
            "left": null,
            "margin": null,
            "max_height": null,
            "max_width": null,
            "min_height": null,
            "min_width": null,
            "object_fit": null,
            "object_position": null,
            "order": null,
            "overflow": null,
            "overflow_x": null,
            "overflow_y": null,
            "padding": null,
            "right": null,
            "top": null,
            "visibility": null,
            "width": null
          }
        },
        "6b63034ffb614a81b3b86e7969378557": {
          "model_module": "@jupyter-widgets/controls",
          "model_name": "DescriptionStyleModel",
          "model_module_version": "1.5.0",
          "state": {
            "_model_module": "@jupyter-widgets/controls",
            "_model_module_version": "1.5.0",
            "_model_name": "DescriptionStyleModel",
            "_view_count": null,
            "_view_module": "@jupyter-widgets/base",
            "_view_module_version": "1.2.0",
            "_view_name": "StyleView",
            "description_width": ""
          }
        }
      }
    }
  },
  "nbformat": 4,
  "nbformat_minor": 0
}