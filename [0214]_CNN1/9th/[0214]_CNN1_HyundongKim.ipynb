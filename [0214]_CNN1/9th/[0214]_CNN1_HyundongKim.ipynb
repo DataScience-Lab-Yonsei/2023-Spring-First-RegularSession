{
  "nbformat": 4,
  "nbformat_minor": 0,
  "metadata": {
    "colab": {
      "provenance": [],
      "collapsed_sections": [
        "V7HoLqroDhyF"
      ]
    },
    "kernelspec": {
      "name": "python3",
      "display_name": "Python 3"
    },
    "accelerator": "GPU",
    "gpuClass": "standard",
    "widgets": {
      "application/vnd.jupyter.widget-state+json": {
        "04aef4510eca4398be193939a1602843": {
          "model_module": "@jupyter-widgets/controls",
          "model_name": "HBoxModel",
          "model_module_version": "1.5.0",
          "state": {
            "_dom_classes": [],
            "_model_module": "@jupyter-widgets/controls",
            "_model_module_version": "1.5.0",
            "_model_name": "HBoxModel",
            "_view_count": null,
            "_view_module": "@jupyter-widgets/controls",
            "_view_module_version": "1.5.0",
            "_view_name": "HBoxView",
            "box_style": "",
            "children": [
              "IPY_MODEL_a74beb1475914572a997e4ef5ec40748",
              "IPY_MODEL_9f42bb2f58954a70af7ac143f0397ad0",
              "IPY_MODEL_44ed9f4eea014165a5f8dc6410cbad7d"
            ],
            "layout": "IPY_MODEL_6845295949ac48b2ae76259b7f7569ad"
          }
        },
        "a74beb1475914572a997e4ef5ec40748": {
          "model_module": "@jupyter-widgets/controls",
          "model_name": "HTMLModel",
          "model_module_version": "1.5.0",
          "state": {
            "_dom_classes": [],
            "_model_module": "@jupyter-widgets/controls",
            "_model_module_version": "1.5.0",
            "_model_name": "HTMLModel",
            "_view_count": null,
            "_view_module": "@jupyter-widgets/controls",
            "_view_module_version": "1.5.0",
            "_view_name": "HTMLView",
            "description": "",
            "description_tooltip": null,
            "layout": "IPY_MODEL_629a6256fc86436f96587aa0509940bb",
            "placeholder": "​",
            "style": "IPY_MODEL_a850630ec7934d1582845da98f50f8b8",
            "value": "100%"
          }
        },
        "9f42bb2f58954a70af7ac143f0397ad0": {
          "model_module": "@jupyter-widgets/controls",
          "model_name": "FloatProgressModel",
          "model_module_version": "1.5.0",
          "state": {
            "_dom_classes": [],
            "_model_module": "@jupyter-widgets/controls",
            "_model_module_version": "1.5.0",
            "_model_name": "FloatProgressModel",
            "_view_count": null,
            "_view_module": "@jupyter-widgets/controls",
            "_view_module_version": "1.5.0",
            "_view_name": "ProgressView",
            "bar_style": "success",
            "description": "",
            "description_tooltip": null,
            "layout": "IPY_MODEL_1e1e9cd3f5ca433da1ba94695690323a",
            "max": 26421880,
            "min": 0,
            "orientation": "horizontal",
            "style": "IPY_MODEL_c8cf2aafa1114676b46b39907e413183",
            "value": 26421880
          }
        },
        "44ed9f4eea014165a5f8dc6410cbad7d": {
          "model_module": "@jupyter-widgets/controls",
          "model_name": "HTMLModel",
          "model_module_version": "1.5.0",
          "state": {
            "_dom_classes": [],
            "_model_module": "@jupyter-widgets/controls",
            "_model_module_version": "1.5.0",
            "_model_name": "HTMLModel",
            "_view_count": null,
            "_view_module": "@jupyter-widgets/controls",
            "_view_module_version": "1.5.0",
            "_view_name": "HTMLView",
            "description": "",
            "description_tooltip": null,
            "layout": "IPY_MODEL_5ac8813ee7614417b06e803349eb7b8e",
            "placeholder": "​",
            "style": "IPY_MODEL_0f5efb5b5bc94ddea91489bb4df98b34",
            "value": " 26421880/26421880 [00:01&lt;00:00, 28688768.03it/s]"
          }
        },
        "6845295949ac48b2ae76259b7f7569ad": {
          "model_module": "@jupyter-widgets/base",
          "model_name": "LayoutModel",
          "model_module_version": "1.2.0",
          "state": {
            "_model_module": "@jupyter-widgets/base",
            "_model_module_version": "1.2.0",
            "_model_name": "LayoutModel",
            "_view_count": null,
            "_view_module": "@jupyter-widgets/base",
            "_view_module_version": "1.2.0",
            "_view_name": "LayoutView",
            "align_content": null,
            "align_items": null,
            "align_self": null,
            "border": null,
            "bottom": null,
            "display": null,
            "flex": null,
            "flex_flow": null,
            "grid_area": null,
            "grid_auto_columns": null,
            "grid_auto_flow": null,
            "grid_auto_rows": null,
            "grid_column": null,
            "grid_gap": null,
            "grid_row": null,
            "grid_template_areas": null,
            "grid_template_columns": null,
            "grid_template_rows": null,
            "height": null,
            "justify_content": null,
            "justify_items": null,
            "left": null,
            "margin": null,
            "max_height": null,
            "max_width": null,
            "min_height": null,
            "min_width": null,
            "object_fit": null,
            "object_position": null,
            "order": null,
            "overflow": null,
            "overflow_x": null,
            "overflow_y": null,
            "padding": null,
            "right": null,
            "top": null,
            "visibility": null,
            "width": null
          }
        },
        "629a6256fc86436f96587aa0509940bb": {
          "model_module": "@jupyter-widgets/base",
          "model_name": "LayoutModel",
          "model_module_version": "1.2.0",
          "state": {
            "_model_module": "@jupyter-widgets/base",
            "_model_module_version": "1.2.0",
            "_model_name": "LayoutModel",
            "_view_count": null,
            "_view_module": "@jupyter-widgets/base",
            "_view_module_version": "1.2.0",
            "_view_name": "LayoutView",
            "align_content": null,
            "align_items": null,
            "align_self": null,
            "border": null,
            "bottom": null,
            "display": null,
            "flex": null,
            "flex_flow": null,
            "grid_area": null,
            "grid_auto_columns": null,
            "grid_auto_flow": null,
            "grid_auto_rows": null,
            "grid_column": null,
            "grid_gap": null,
            "grid_row": null,
            "grid_template_areas": null,
            "grid_template_columns": null,
            "grid_template_rows": null,
            "height": null,
            "justify_content": null,
            "justify_items": null,
            "left": null,
            "margin": null,
            "max_height": null,
            "max_width": null,
            "min_height": null,
            "min_width": null,
            "object_fit": null,
            "object_position": null,
            "order": null,
            "overflow": null,
            "overflow_x": null,
            "overflow_y": null,
            "padding": null,
            "right": null,
            "top": null,
            "visibility": null,
            "width": null
          }
        },
        "a850630ec7934d1582845da98f50f8b8": {
          "model_module": "@jupyter-widgets/controls",
          "model_name": "DescriptionStyleModel",
          "model_module_version": "1.5.0",
          "state": {
            "_model_module": "@jupyter-widgets/controls",
            "_model_module_version": "1.5.0",
            "_model_name": "DescriptionStyleModel",
            "_view_count": null,
            "_view_module": "@jupyter-widgets/base",
            "_view_module_version": "1.2.0",
            "_view_name": "StyleView",
            "description_width": ""
          }
        },
        "1e1e9cd3f5ca433da1ba94695690323a": {
          "model_module": "@jupyter-widgets/base",
          "model_name": "LayoutModel",
          "model_module_version": "1.2.0",
          "state": {
            "_model_module": "@jupyter-widgets/base",
            "_model_module_version": "1.2.0",
            "_model_name": "LayoutModel",
            "_view_count": null,
            "_view_module": "@jupyter-widgets/base",
            "_view_module_version": "1.2.0",
            "_view_name": "LayoutView",
            "align_content": null,
            "align_items": null,
            "align_self": null,
            "border": null,
            "bottom": null,
            "display": null,
            "flex": null,
            "flex_flow": null,
            "grid_area": null,
            "grid_auto_columns": null,
            "grid_auto_flow": null,
            "grid_auto_rows": null,
            "grid_column": null,
            "grid_gap": null,
            "grid_row": null,
            "grid_template_areas": null,
            "grid_template_columns": null,
            "grid_template_rows": null,
            "height": null,
            "justify_content": null,
            "justify_items": null,
            "left": null,
            "margin": null,
            "max_height": null,
            "max_width": null,
            "min_height": null,
            "min_width": null,
            "object_fit": null,
            "object_position": null,
            "order": null,
            "overflow": null,
            "overflow_x": null,
            "overflow_y": null,
            "padding": null,
            "right": null,
            "top": null,
            "visibility": null,
            "width": null
          }
        },
        "c8cf2aafa1114676b46b39907e413183": {
          "model_module": "@jupyter-widgets/controls",
          "model_name": "ProgressStyleModel",
          "model_module_version": "1.5.0",
          "state": {
            "_model_module": "@jupyter-widgets/controls",
            "_model_module_version": "1.5.0",
            "_model_name": "ProgressStyleModel",
            "_view_count": null,
            "_view_module": "@jupyter-widgets/base",
            "_view_module_version": "1.2.0",
            "_view_name": "StyleView",
            "bar_color": null,
            "description_width": ""
          }
        },
        "5ac8813ee7614417b06e803349eb7b8e": {
          "model_module": "@jupyter-widgets/base",
          "model_name": "LayoutModel",
          "model_module_version": "1.2.0",
          "state": {
            "_model_module": "@jupyter-widgets/base",
            "_model_module_version": "1.2.0",
            "_model_name": "LayoutModel",
            "_view_count": null,
            "_view_module": "@jupyter-widgets/base",
            "_view_module_version": "1.2.0",
            "_view_name": "LayoutView",
            "align_content": null,
            "align_items": null,
            "align_self": null,
            "border": null,
            "bottom": null,
            "display": null,
            "flex": null,
            "flex_flow": null,
            "grid_area": null,
            "grid_auto_columns": null,
            "grid_auto_flow": null,
            "grid_auto_rows": null,
            "grid_column": null,
            "grid_gap": null,
            "grid_row": null,
            "grid_template_areas": null,
            "grid_template_columns": null,
            "grid_template_rows": null,
            "height": null,
            "justify_content": null,
            "justify_items": null,
            "left": null,
            "margin": null,
            "max_height": null,
            "max_width": null,
            "min_height": null,
            "min_width": null,
            "object_fit": null,
            "object_position": null,
            "order": null,
            "overflow": null,
            "overflow_x": null,
            "overflow_y": null,
            "padding": null,
            "right": null,
            "top": null,
            "visibility": null,
            "width": null
          }
        },
        "0f5efb5b5bc94ddea91489bb4df98b34": {
          "model_module": "@jupyter-widgets/controls",
          "model_name": "DescriptionStyleModel",
          "model_module_version": "1.5.0",
          "state": {
            "_model_module": "@jupyter-widgets/controls",
            "_model_module_version": "1.5.0",
            "_model_name": "DescriptionStyleModel",
            "_view_count": null,
            "_view_module": "@jupyter-widgets/base",
            "_view_module_version": "1.2.0",
            "_view_name": "StyleView",
            "description_width": ""
          }
        },
        "7e045f6fe43f40a2a869c96f1eb25064": {
          "model_module": "@jupyter-widgets/controls",
          "model_name": "HBoxModel",
          "model_module_version": "1.5.0",
          "state": {
            "_dom_classes": [],
            "_model_module": "@jupyter-widgets/controls",
            "_model_module_version": "1.5.0",
            "_model_name": "HBoxModel",
            "_view_count": null,
            "_view_module": "@jupyter-widgets/controls",
            "_view_module_version": "1.5.0",
            "_view_name": "HBoxView",
            "box_style": "",
            "children": [
              "IPY_MODEL_03f4e929f69a46f5b349fd3d00544c35",
              "IPY_MODEL_f46910ac129249f597cf50c64aa02a65",
              "IPY_MODEL_f6b983e518d54acf9284e3daabb04dc2"
            ],
            "layout": "IPY_MODEL_f65ff9cbff00407e84d435c7651ffdd2"
          }
        },
        "03f4e929f69a46f5b349fd3d00544c35": {
          "model_module": "@jupyter-widgets/controls",
          "model_name": "HTMLModel",
          "model_module_version": "1.5.0",
          "state": {
            "_dom_classes": [],
            "_model_module": "@jupyter-widgets/controls",
            "_model_module_version": "1.5.0",
            "_model_name": "HTMLModel",
            "_view_count": null,
            "_view_module": "@jupyter-widgets/controls",
            "_view_module_version": "1.5.0",
            "_view_name": "HTMLView",
            "description": "",
            "description_tooltip": null,
            "layout": "IPY_MODEL_a53fbb6a63364e8e95b44e22cfc1189f",
            "placeholder": "​",
            "style": "IPY_MODEL_d2df1257007f41fb91c7f74d5f30a65d",
            "value": "100%"
          }
        },
        "f46910ac129249f597cf50c64aa02a65": {
          "model_module": "@jupyter-widgets/controls",
          "model_name": "FloatProgressModel",
          "model_module_version": "1.5.0",
          "state": {
            "_dom_classes": [],
            "_model_module": "@jupyter-widgets/controls",
            "_model_module_version": "1.5.0",
            "_model_name": "FloatProgressModel",
            "_view_count": null,
            "_view_module": "@jupyter-widgets/controls",
            "_view_module_version": "1.5.0",
            "_view_name": "ProgressView",
            "bar_style": "success",
            "description": "",
            "description_tooltip": null,
            "layout": "IPY_MODEL_11a8fa0aec5e4304b232ecc3572df0c4",
            "max": 29515,
            "min": 0,
            "orientation": "horizontal",
            "style": "IPY_MODEL_a7a393ea957c4f61a4565569ae28fd81",
            "value": 29515
          }
        },
        "f6b983e518d54acf9284e3daabb04dc2": {
          "model_module": "@jupyter-widgets/controls",
          "model_name": "HTMLModel",
          "model_module_version": "1.5.0",
          "state": {
            "_dom_classes": [],
            "_model_module": "@jupyter-widgets/controls",
            "_model_module_version": "1.5.0",
            "_model_name": "HTMLModel",
            "_view_count": null,
            "_view_module": "@jupyter-widgets/controls",
            "_view_module_version": "1.5.0",
            "_view_name": "HTMLView",
            "description": "",
            "description_tooltip": null,
            "layout": "IPY_MODEL_3a085176cff7497dad33a9c7b1d9124e",
            "placeholder": "​",
            "style": "IPY_MODEL_b16868612686445e8355b920214a361f",
            "value": " 29515/29515 [00:00&lt;00:00, 336499.72it/s]"
          }
        },
        "f65ff9cbff00407e84d435c7651ffdd2": {
          "model_module": "@jupyter-widgets/base",
          "model_name": "LayoutModel",
          "model_module_version": "1.2.0",
          "state": {
            "_model_module": "@jupyter-widgets/base",
            "_model_module_version": "1.2.0",
            "_model_name": "LayoutModel",
            "_view_count": null,
            "_view_module": "@jupyter-widgets/base",
            "_view_module_version": "1.2.0",
            "_view_name": "LayoutView",
            "align_content": null,
            "align_items": null,
            "align_self": null,
            "border": null,
            "bottom": null,
            "display": null,
            "flex": null,
            "flex_flow": null,
            "grid_area": null,
            "grid_auto_columns": null,
            "grid_auto_flow": null,
            "grid_auto_rows": null,
            "grid_column": null,
            "grid_gap": null,
            "grid_row": null,
            "grid_template_areas": null,
            "grid_template_columns": null,
            "grid_template_rows": null,
            "height": null,
            "justify_content": null,
            "justify_items": null,
            "left": null,
            "margin": null,
            "max_height": null,
            "max_width": null,
            "min_height": null,
            "min_width": null,
            "object_fit": null,
            "object_position": null,
            "order": null,
            "overflow": null,
            "overflow_x": null,
            "overflow_y": null,
            "padding": null,
            "right": null,
            "top": null,
            "visibility": null,
            "width": null
          }
        },
        "a53fbb6a63364e8e95b44e22cfc1189f": {
          "model_module": "@jupyter-widgets/base",
          "model_name": "LayoutModel",
          "model_module_version": "1.2.0",
          "state": {
            "_model_module": "@jupyter-widgets/base",
            "_model_module_version": "1.2.0",
            "_model_name": "LayoutModel",
            "_view_count": null,
            "_view_module": "@jupyter-widgets/base",
            "_view_module_version": "1.2.0",
            "_view_name": "LayoutView",
            "align_content": null,
            "align_items": null,
            "align_self": null,
            "border": null,
            "bottom": null,
            "display": null,
            "flex": null,
            "flex_flow": null,
            "grid_area": null,
            "grid_auto_columns": null,
            "grid_auto_flow": null,
            "grid_auto_rows": null,
            "grid_column": null,
            "grid_gap": null,
            "grid_row": null,
            "grid_template_areas": null,
            "grid_template_columns": null,
            "grid_template_rows": null,
            "height": null,
            "justify_content": null,
            "justify_items": null,
            "left": null,
            "margin": null,
            "max_height": null,
            "max_width": null,
            "min_height": null,
            "min_width": null,
            "object_fit": null,
            "object_position": null,
            "order": null,
            "overflow": null,
            "overflow_x": null,
            "overflow_y": null,
            "padding": null,
            "right": null,
            "top": null,
            "visibility": null,
            "width": null
          }
        },
        "d2df1257007f41fb91c7f74d5f30a65d": {
          "model_module": "@jupyter-widgets/controls",
          "model_name": "DescriptionStyleModel",
          "model_module_version": "1.5.0",
          "state": {
            "_model_module": "@jupyter-widgets/controls",
            "_model_module_version": "1.5.0",
            "_model_name": "DescriptionStyleModel",
            "_view_count": null,
            "_view_module": "@jupyter-widgets/base",
            "_view_module_version": "1.2.0",
            "_view_name": "StyleView",
            "description_width": ""
          }
        },
        "11a8fa0aec5e4304b232ecc3572df0c4": {
          "model_module": "@jupyter-widgets/base",
          "model_name": "LayoutModel",
          "model_module_version": "1.2.0",
          "state": {
            "_model_module": "@jupyter-widgets/base",
            "_model_module_version": "1.2.0",
            "_model_name": "LayoutModel",
            "_view_count": null,
            "_view_module": "@jupyter-widgets/base",
            "_view_module_version": "1.2.0",
            "_view_name": "LayoutView",
            "align_content": null,
            "align_items": null,
            "align_self": null,
            "border": null,
            "bottom": null,
            "display": null,
            "flex": null,
            "flex_flow": null,
            "grid_area": null,
            "grid_auto_columns": null,
            "grid_auto_flow": null,
            "grid_auto_rows": null,
            "grid_column": null,
            "grid_gap": null,
            "grid_row": null,
            "grid_template_areas": null,
            "grid_template_columns": null,
            "grid_template_rows": null,
            "height": null,
            "justify_content": null,
            "justify_items": null,
            "left": null,
            "margin": null,
            "max_height": null,
            "max_width": null,
            "min_height": null,
            "min_width": null,
            "object_fit": null,
            "object_position": null,
            "order": null,
            "overflow": null,
            "overflow_x": null,
            "overflow_y": null,
            "padding": null,
            "right": null,
            "top": null,
            "visibility": null,
            "width": null
          }
        },
        "a7a393ea957c4f61a4565569ae28fd81": {
          "model_module": "@jupyter-widgets/controls",
          "model_name": "ProgressStyleModel",
          "model_module_version": "1.5.0",
          "state": {
            "_model_module": "@jupyter-widgets/controls",
            "_model_module_version": "1.5.0",
            "_model_name": "ProgressStyleModel",
            "_view_count": null,
            "_view_module": "@jupyter-widgets/base",
            "_view_module_version": "1.2.0",
            "_view_name": "StyleView",
            "bar_color": null,
            "description_width": ""
          }
        },
        "3a085176cff7497dad33a9c7b1d9124e": {
          "model_module": "@jupyter-widgets/base",
          "model_name": "LayoutModel",
          "model_module_version": "1.2.0",
          "state": {
            "_model_module": "@jupyter-widgets/base",
            "_model_module_version": "1.2.0",
            "_model_name": "LayoutModel",
            "_view_count": null,
            "_view_module": "@jupyter-widgets/base",
            "_view_module_version": "1.2.0",
            "_view_name": "LayoutView",
            "align_content": null,
            "align_items": null,
            "align_self": null,
            "border": null,
            "bottom": null,
            "display": null,
            "flex": null,
            "flex_flow": null,
            "grid_area": null,
            "grid_auto_columns": null,
            "grid_auto_flow": null,
            "grid_auto_rows": null,
            "grid_column": null,
            "grid_gap": null,
            "grid_row": null,
            "grid_template_areas": null,
            "grid_template_columns": null,
            "grid_template_rows": null,
            "height": null,
            "justify_content": null,
            "justify_items": null,
            "left": null,
            "margin": null,
            "max_height": null,
            "max_width": null,
            "min_height": null,
            "min_width": null,
            "object_fit": null,
            "object_position": null,
            "order": null,
            "overflow": null,
            "overflow_x": null,
            "overflow_y": null,
            "padding": null,
            "right": null,
            "top": null,
            "visibility": null,
            "width": null
          }
        },
        "b16868612686445e8355b920214a361f": {
          "model_module": "@jupyter-widgets/controls",
          "model_name": "DescriptionStyleModel",
          "model_module_version": "1.5.0",
          "state": {
            "_model_module": "@jupyter-widgets/controls",
            "_model_module_version": "1.5.0",
            "_model_name": "DescriptionStyleModel",
            "_view_count": null,
            "_view_module": "@jupyter-widgets/base",
            "_view_module_version": "1.2.0",
            "_view_name": "StyleView",
            "description_width": ""
          }
        },
        "20e1bf0072834ee08ce5a8a4292bd7c0": {
          "model_module": "@jupyter-widgets/controls",
          "model_name": "HBoxModel",
          "model_module_version": "1.5.0",
          "state": {
            "_dom_classes": [],
            "_model_module": "@jupyter-widgets/controls",
            "_model_module_version": "1.5.0",
            "_model_name": "HBoxModel",
            "_view_count": null,
            "_view_module": "@jupyter-widgets/controls",
            "_view_module_version": "1.5.0",
            "_view_name": "HBoxView",
            "box_style": "",
            "children": [
              "IPY_MODEL_a0703b7e9c354e2884e70fdb60bd54b6",
              "IPY_MODEL_04421be701c946438543a79d72c4577a",
              "IPY_MODEL_ae7cac2a80b341a99aa8ecff3bea5836"
            ],
            "layout": "IPY_MODEL_f83b70ae7b96444b99d78981014d67ef"
          }
        },
        "a0703b7e9c354e2884e70fdb60bd54b6": {
          "model_module": "@jupyter-widgets/controls",
          "model_name": "HTMLModel",
          "model_module_version": "1.5.0",
          "state": {
            "_dom_classes": [],
            "_model_module": "@jupyter-widgets/controls",
            "_model_module_version": "1.5.0",
            "_model_name": "HTMLModel",
            "_view_count": null,
            "_view_module": "@jupyter-widgets/controls",
            "_view_module_version": "1.5.0",
            "_view_name": "HTMLView",
            "description": "",
            "description_tooltip": null,
            "layout": "IPY_MODEL_d5a8311721324d23bb0e88a012fa71bc",
            "placeholder": "​",
            "style": "IPY_MODEL_86c3644e84cd4f099f6c8d41c7627b75",
            "value": "100%"
          }
        },
        "04421be701c946438543a79d72c4577a": {
          "model_module": "@jupyter-widgets/controls",
          "model_name": "FloatProgressModel",
          "model_module_version": "1.5.0",
          "state": {
            "_dom_classes": [],
            "_model_module": "@jupyter-widgets/controls",
            "_model_module_version": "1.5.0",
            "_model_name": "FloatProgressModel",
            "_view_count": null,
            "_view_module": "@jupyter-widgets/controls",
            "_view_module_version": "1.5.0",
            "_view_name": "ProgressView",
            "bar_style": "success",
            "description": "",
            "description_tooltip": null,
            "layout": "IPY_MODEL_29c395c0b7e94ca585a3c1f1627cb397",
            "max": 4422102,
            "min": 0,
            "orientation": "horizontal",
            "style": "IPY_MODEL_68b5b624da0e409dad8d68821df8f666",
            "value": 4422102
          }
        },
        "ae7cac2a80b341a99aa8ecff3bea5836": {
          "model_module": "@jupyter-widgets/controls",
          "model_name": "HTMLModel",
          "model_module_version": "1.5.0",
          "state": {
            "_dom_classes": [],
            "_model_module": "@jupyter-widgets/controls",
            "_model_module_version": "1.5.0",
            "_model_name": "HTMLModel",
            "_view_count": null,
            "_view_module": "@jupyter-widgets/controls",
            "_view_module_version": "1.5.0",
            "_view_name": "HTMLView",
            "description": "",
            "description_tooltip": null,
            "layout": "IPY_MODEL_5590cd83e86043debd33403da6b210f1",
            "placeholder": "​",
            "style": "IPY_MODEL_a6e812e2854546ce9e08beabf9664ef6",
            "value": " 4422102/4422102 [00:00&lt;00:00, 8160256.16it/s]"
          }
        },
        "f83b70ae7b96444b99d78981014d67ef": {
          "model_module": "@jupyter-widgets/base",
          "model_name": "LayoutModel",
          "model_module_version": "1.2.0",
          "state": {
            "_model_module": "@jupyter-widgets/base",
            "_model_module_version": "1.2.0",
            "_model_name": "LayoutModel",
            "_view_count": null,
            "_view_module": "@jupyter-widgets/base",
            "_view_module_version": "1.2.0",
            "_view_name": "LayoutView",
            "align_content": null,
            "align_items": null,
            "align_self": null,
            "border": null,
            "bottom": null,
            "display": null,
            "flex": null,
            "flex_flow": null,
            "grid_area": null,
            "grid_auto_columns": null,
            "grid_auto_flow": null,
            "grid_auto_rows": null,
            "grid_column": null,
            "grid_gap": null,
            "grid_row": null,
            "grid_template_areas": null,
            "grid_template_columns": null,
            "grid_template_rows": null,
            "height": null,
            "justify_content": null,
            "justify_items": null,
            "left": null,
            "margin": null,
            "max_height": null,
            "max_width": null,
            "min_height": null,
            "min_width": null,
            "object_fit": null,
            "object_position": null,
            "order": null,
            "overflow": null,
            "overflow_x": null,
            "overflow_y": null,
            "padding": null,
            "right": null,
            "top": null,
            "visibility": null,
            "width": null
          }
        },
        "d5a8311721324d23bb0e88a012fa71bc": {
          "model_module": "@jupyter-widgets/base",
          "model_name": "LayoutModel",
          "model_module_version": "1.2.0",
          "state": {
            "_model_module": "@jupyter-widgets/base",
            "_model_module_version": "1.2.0",
            "_model_name": "LayoutModel",
            "_view_count": null,
            "_view_module": "@jupyter-widgets/base",
            "_view_module_version": "1.2.0",
            "_view_name": "LayoutView",
            "align_content": null,
            "align_items": null,
            "align_self": null,
            "border": null,
            "bottom": null,
            "display": null,
            "flex": null,
            "flex_flow": null,
            "grid_area": null,
            "grid_auto_columns": null,
            "grid_auto_flow": null,
            "grid_auto_rows": null,
            "grid_column": null,
            "grid_gap": null,
            "grid_row": null,
            "grid_template_areas": null,
            "grid_template_columns": null,
            "grid_template_rows": null,
            "height": null,
            "justify_content": null,
            "justify_items": null,
            "left": null,
            "margin": null,
            "max_height": null,
            "max_width": null,
            "min_height": null,
            "min_width": null,
            "object_fit": null,
            "object_position": null,
            "order": null,
            "overflow": null,
            "overflow_x": null,
            "overflow_y": null,
            "padding": null,
            "right": null,
            "top": null,
            "visibility": null,
            "width": null
          }
        },
        "86c3644e84cd4f099f6c8d41c7627b75": {
          "model_module": "@jupyter-widgets/controls",
          "model_name": "DescriptionStyleModel",
          "model_module_version": "1.5.0",
          "state": {
            "_model_module": "@jupyter-widgets/controls",
            "_model_module_version": "1.5.0",
            "_model_name": "DescriptionStyleModel",
            "_view_count": null,
            "_view_module": "@jupyter-widgets/base",
            "_view_module_version": "1.2.0",
            "_view_name": "StyleView",
            "description_width": ""
          }
        },
        "29c395c0b7e94ca585a3c1f1627cb397": {
          "model_module": "@jupyter-widgets/base",
          "model_name": "LayoutModel",
          "model_module_version": "1.2.0",
          "state": {
            "_model_module": "@jupyter-widgets/base",
            "_model_module_version": "1.2.0",
            "_model_name": "LayoutModel",
            "_view_count": null,
            "_view_module": "@jupyter-widgets/base",
            "_view_module_version": "1.2.0",
            "_view_name": "LayoutView",
            "align_content": null,
            "align_items": null,
            "align_self": null,
            "border": null,
            "bottom": null,
            "display": null,
            "flex": null,
            "flex_flow": null,
            "grid_area": null,
            "grid_auto_columns": null,
            "grid_auto_flow": null,
            "grid_auto_rows": null,
            "grid_column": null,
            "grid_gap": null,
            "grid_row": null,
            "grid_template_areas": null,
            "grid_template_columns": null,
            "grid_template_rows": null,
            "height": null,
            "justify_content": null,
            "justify_items": null,
            "left": null,
            "margin": null,
            "max_height": null,
            "max_width": null,
            "min_height": null,
            "min_width": null,
            "object_fit": null,
            "object_position": null,
            "order": null,
            "overflow": null,
            "overflow_x": null,
            "overflow_y": null,
            "padding": null,
            "right": null,
            "top": null,
            "visibility": null,
            "width": null
          }
        },
        "68b5b624da0e409dad8d68821df8f666": {
          "model_module": "@jupyter-widgets/controls",
          "model_name": "ProgressStyleModel",
          "model_module_version": "1.5.0",
          "state": {
            "_model_module": "@jupyter-widgets/controls",
            "_model_module_version": "1.5.0",
            "_model_name": "ProgressStyleModel",
            "_view_count": null,
            "_view_module": "@jupyter-widgets/base",
            "_view_module_version": "1.2.0",
            "_view_name": "StyleView",
            "bar_color": null,
            "description_width": ""
          }
        },
        "5590cd83e86043debd33403da6b210f1": {
          "model_module": "@jupyter-widgets/base",
          "model_name": "LayoutModel",
          "model_module_version": "1.2.0",
          "state": {
            "_model_module": "@jupyter-widgets/base",
            "_model_module_version": "1.2.0",
            "_model_name": "LayoutModel",
            "_view_count": null,
            "_view_module": "@jupyter-widgets/base",
            "_view_module_version": "1.2.0",
            "_view_name": "LayoutView",
            "align_content": null,
            "align_items": null,
            "align_self": null,
            "border": null,
            "bottom": null,
            "display": null,
            "flex": null,
            "flex_flow": null,
            "grid_area": null,
            "grid_auto_columns": null,
            "grid_auto_flow": null,
            "grid_auto_rows": null,
            "grid_column": null,
            "grid_gap": null,
            "grid_row": null,
            "grid_template_areas": null,
            "grid_template_columns": null,
            "grid_template_rows": null,
            "height": null,
            "justify_content": null,
            "justify_items": null,
            "left": null,
            "margin": null,
            "max_height": null,
            "max_width": null,
            "min_height": null,
            "min_width": null,
            "object_fit": null,
            "object_position": null,
            "order": null,
            "overflow": null,
            "overflow_x": null,
            "overflow_y": null,
            "padding": null,
            "right": null,
            "top": null,
            "visibility": null,
            "width": null
          }
        },
        "a6e812e2854546ce9e08beabf9664ef6": {
          "model_module": "@jupyter-widgets/controls",
          "model_name": "DescriptionStyleModel",
          "model_module_version": "1.5.0",
          "state": {
            "_model_module": "@jupyter-widgets/controls",
            "_model_module_version": "1.5.0",
            "_model_name": "DescriptionStyleModel",
            "_view_count": null,
            "_view_module": "@jupyter-widgets/base",
            "_view_module_version": "1.2.0",
            "_view_name": "StyleView",
            "description_width": ""
          }
        },
        "d99f860cd26f4a368dd4c48801f6f8e6": {
          "model_module": "@jupyter-widgets/controls",
          "model_name": "HBoxModel",
          "model_module_version": "1.5.0",
          "state": {
            "_dom_classes": [],
            "_model_module": "@jupyter-widgets/controls",
            "_model_module_version": "1.5.0",
            "_model_name": "HBoxModel",
            "_view_count": null,
            "_view_module": "@jupyter-widgets/controls",
            "_view_module_version": "1.5.0",
            "_view_name": "HBoxView",
            "box_style": "",
            "children": [
              "IPY_MODEL_e315eda61fe34cef9ab2d72b89a17c36",
              "IPY_MODEL_1670dda0484e4a2e8aedc2182ad24eea",
              "IPY_MODEL_d3353975af9a413cb85480ddb8f36723"
            ],
            "layout": "IPY_MODEL_cb8367f4d7064904a32ec2a903ea876b"
          }
        },
        "e315eda61fe34cef9ab2d72b89a17c36": {
          "model_module": "@jupyter-widgets/controls",
          "model_name": "HTMLModel",
          "model_module_version": "1.5.0",
          "state": {
            "_dom_classes": [],
            "_model_module": "@jupyter-widgets/controls",
            "_model_module_version": "1.5.0",
            "_model_name": "HTMLModel",
            "_view_count": null,
            "_view_module": "@jupyter-widgets/controls",
            "_view_module_version": "1.5.0",
            "_view_name": "HTMLView",
            "description": "",
            "description_tooltip": null,
            "layout": "IPY_MODEL_0ed1e8ac54734d5eaf698b347f8c7d77",
            "placeholder": "​",
            "style": "IPY_MODEL_01b12819fc2a475a970ec32c0f882752",
            "value": "100%"
          }
        },
        "1670dda0484e4a2e8aedc2182ad24eea": {
          "model_module": "@jupyter-widgets/controls",
          "model_name": "FloatProgressModel",
          "model_module_version": "1.5.0",
          "state": {
            "_dom_classes": [],
            "_model_module": "@jupyter-widgets/controls",
            "_model_module_version": "1.5.0",
            "_model_name": "FloatProgressModel",
            "_view_count": null,
            "_view_module": "@jupyter-widgets/controls",
            "_view_module_version": "1.5.0",
            "_view_name": "ProgressView",
            "bar_style": "success",
            "description": "",
            "description_tooltip": null,
            "layout": "IPY_MODEL_34ed4ce2e5b744ad848fbfe077013e8a",
            "max": 5148,
            "min": 0,
            "orientation": "horizontal",
            "style": "IPY_MODEL_9d39bca8366749a1a979b99e327c6a87",
            "value": 5148
          }
        },
        "d3353975af9a413cb85480ddb8f36723": {
          "model_module": "@jupyter-widgets/controls",
          "model_name": "HTMLModel",
          "model_module_version": "1.5.0",
          "state": {
            "_dom_classes": [],
            "_model_module": "@jupyter-widgets/controls",
            "_model_module_version": "1.5.0",
            "_model_name": "HTMLModel",
            "_view_count": null,
            "_view_module": "@jupyter-widgets/controls",
            "_view_module_version": "1.5.0",
            "_view_name": "HTMLView",
            "description": "",
            "description_tooltip": null,
            "layout": "IPY_MODEL_23b3b0094a6e466086b12748879c9f38",
            "placeholder": "​",
            "style": "IPY_MODEL_e45596cb38c2444ca4af3f2b8747e395",
            "value": " 5148/5148 [00:00&lt;00:00, 270705.43it/s]"
          }
        },
        "cb8367f4d7064904a32ec2a903ea876b": {
          "model_module": "@jupyter-widgets/base",
          "model_name": "LayoutModel",
          "model_module_version": "1.2.0",
          "state": {
            "_model_module": "@jupyter-widgets/base",
            "_model_module_version": "1.2.0",
            "_model_name": "LayoutModel",
            "_view_count": null,
            "_view_module": "@jupyter-widgets/base",
            "_view_module_version": "1.2.0",
            "_view_name": "LayoutView",
            "align_content": null,
            "align_items": null,
            "align_self": null,
            "border": null,
            "bottom": null,
            "display": null,
            "flex": null,
            "flex_flow": null,
            "grid_area": null,
            "grid_auto_columns": null,
            "grid_auto_flow": null,
            "grid_auto_rows": null,
            "grid_column": null,
            "grid_gap": null,
            "grid_row": null,
            "grid_template_areas": null,
            "grid_template_columns": null,
            "grid_template_rows": null,
            "height": null,
            "justify_content": null,
            "justify_items": null,
            "left": null,
            "margin": null,
            "max_height": null,
            "max_width": null,
            "min_height": null,
            "min_width": null,
            "object_fit": null,
            "object_position": null,
            "order": null,
            "overflow": null,
            "overflow_x": null,
            "overflow_y": null,
            "padding": null,
            "right": null,
            "top": null,
            "visibility": null,
            "width": null
          }
        },
        "0ed1e8ac54734d5eaf698b347f8c7d77": {
          "model_module": "@jupyter-widgets/base",
          "model_name": "LayoutModel",
          "model_module_version": "1.2.0",
          "state": {
            "_model_module": "@jupyter-widgets/base",
            "_model_module_version": "1.2.0",
            "_model_name": "LayoutModel",
            "_view_count": null,
            "_view_module": "@jupyter-widgets/base",
            "_view_module_version": "1.2.0",
            "_view_name": "LayoutView",
            "align_content": null,
            "align_items": null,
            "align_self": null,
            "border": null,
            "bottom": null,
            "display": null,
            "flex": null,
            "flex_flow": null,
            "grid_area": null,
            "grid_auto_columns": null,
            "grid_auto_flow": null,
            "grid_auto_rows": null,
            "grid_column": null,
            "grid_gap": null,
            "grid_row": null,
            "grid_template_areas": null,
            "grid_template_columns": null,
            "grid_template_rows": null,
            "height": null,
            "justify_content": null,
            "justify_items": null,
            "left": null,
            "margin": null,
            "max_height": null,
            "max_width": null,
            "min_height": null,
            "min_width": null,
            "object_fit": null,
            "object_position": null,
            "order": null,
            "overflow": null,
            "overflow_x": null,
            "overflow_y": null,
            "padding": null,
            "right": null,
            "top": null,
            "visibility": null,
            "width": null
          }
        },
        "01b12819fc2a475a970ec32c0f882752": {
          "model_module": "@jupyter-widgets/controls",
          "model_name": "DescriptionStyleModel",
          "model_module_version": "1.5.0",
          "state": {
            "_model_module": "@jupyter-widgets/controls",
            "_model_module_version": "1.5.0",
            "_model_name": "DescriptionStyleModel",
            "_view_count": null,
            "_view_module": "@jupyter-widgets/base",
            "_view_module_version": "1.2.0",
            "_view_name": "StyleView",
            "description_width": ""
          }
        },
        "34ed4ce2e5b744ad848fbfe077013e8a": {
          "model_module": "@jupyter-widgets/base",
          "model_name": "LayoutModel",
          "model_module_version": "1.2.0",
          "state": {
            "_model_module": "@jupyter-widgets/base",
            "_model_module_version": "1.2.0",
            "_model_name": "LayoutModel",
            "_view_count": null,
            "_view_module": "@jupyter-widgets/base",
            "_view_module_version": "1.2.0",
            "_view_name": "LayoutView",
            "align_content": null,
            "align_items": null,
            "align_self": null,
            "border": null,
            "bottom": null,
            "display": null,
            "flex": null,
            "flex_flow": null,
            "grid_area": null,
            "grid_auto_columns": null,
            "grid_auto_flow": null,
            "grid_auto_rows": null,
            "grid_column": null,
            "grid_gap": null,
            "grid_row": null,
            "grid_template_areas": null,
            "grid_template_columns": null,
            "grid_template_rows": null,
            "height": null,
            "justify_content": null,
            "justify_items": null,
            "left": null,
            "margin": null,
            "max_height": null,
            "max_width": null,
            "min_height": null,
            "min_width": null,
            "object_fit": null,
            "object_position": null,
            "order": null,
            "overflow": null,
            "overflow_x": null,
            "overflow_y": null,
            "padding": null,
            "right": null,
            "top": null,
            "visibility": null,
            "width": null
          }
        },
        "9d39bca8366749a1a979b99e327c6a87": {
          "model_module": "@jupyter-widgets/controls",
          "model_name": "ProgressStyleModel",
          "model_module_version": "1.5.0",
          "state": {
            "_model_module": "@jupyter-widgets/controls",
            "_model_module_version": "1.5.0",
            "_model_name": "ProgressStyleModel",
            "_view_count": null,
            "_view_module": "@jupyter-widgets/base",
            "_view_module_version": "1.2.0",
            "_view_name": "StyleView",
            "bar_color": null,
            "description_width": ""
          }
        },
        "23b3b0094a6e466086b12748879c9f38": {
          "model_module": "@jupyter-widgets/base",
          "model_name": "LayoutModel",
          "model_module_version": "1.2.0",
          "state": {
            "_model_module": "@jupyter-widgets/base",
            "_model_module_version": "1.2.0",
            "_model_name": "LayoutModel",
            "_view_count": null,
            "_view_module": "@jupyter-widgets/base",
            "_view_module_version": "1.2.0",
            "_view_name": "LayoutView",
            "align_content": null,
            "align_items": null,
            "align_self": null,
            "border": null,
            "bottom": null,
            "display": null,
            "flex": null,
            "flex_flow": null,
            "grid_area": null,
            "grid_auto_columns": null,
            "grid_auto_flow": null,
            "grid_auto_rows": null,
            "grid_column": null,
            "grid_gap": null,
            "grid_row": null,
            "grid_template_areas": null,
            "grid_template_columns": null,
            "grid_template_rows": null,
            "height": null,
            "justify_content": null,
            "justify_items": null,
            "left": null,
            "margin": null,
            "max_height": null,
            "max_width": null,
            "min_height": null,
            "min_width": null,
            "object_fit": null,
            "object_position": null,
            "order": null,
            "overflow": null,
            "overflow_x": null,
            "overflow_y": null,
            "padding": null,
            "right": null,
            "top": null,
            "visibility": null,
            "width": null
          }
        },
        "e45596cb38c2444ca4af3f2b8747e395": {
          "model_module": "@jupyter-widgets/controls",
          "model_name": "DescriptionStyleModel",
          "model_module_version": "1.5.0",
          "state": {
            "_model_module": "@jupyter-widgets/controls",
            "_model_module_version": "1.5.0",
            "_model_name": "DescriptionStyleModel",
            "_view_count": null,
            "_view_module": "@jupyter-widgets/base",
            "_view_module_version": "1.2.0",
            "_view_name": "StyleView",
            "description_width": ""
          }
        }
      }
    }
  },
  "cells": [
    {
      "cell_type": "markdown",
      "source": [
        "# 초기 세팅"
      ],
      "metadata": {
        "id": "cdNvme8aKSBP"
      }
    },
    {
      "cell_type": "code",
      "metadata": {
        "id": "P1v9luAfHXdz"
      },
      "source": [
        "import torch\n",
        "import torch.nn as nn\n",
        "import torch.nn.functional as F\n",
        "import torch.optim as optim\n",
        "from torch.utils.data import Dataset, DataLoader\n",
        "\n",
        "import torchvision\n",
        "import torchvision.datasets as datasets\n",
        "import torchvision.transforms as transforms\n",
        "\n",
        "import numpy as np\n",
        "import matplotlib.pyplot as plt\n",
        "plt.style.use('seaborn-white')"
      ],
      "execution_count": null,
      "outputs": []
    },
    {
      "cell_type": "code",
      "source": [
        "!pip install torchsummary\n",
        "from torchsummary import summary"
      ],
      "metadata": {
        "colab": {
          "base_uri": "https://localhost:8080/"
        },
        "id": "D39aCPyTu2Ce",
        "outputId": "3a3694a2-3f8d-4dca-c783-84d1402ed3ab"
      },
      "execution_count": null,
      "outputs": [
        {
          "output_type": "stream",
          "name": "stdout",
          "text": [
            "Looking in indexes: https://pypi.org/simple, https://us-python.pkg.dev/colab-wheels/public/simple/\n",
            "Requirement already satisfied: torchsummary in /usr/local/lib/python3.8/dist-packages (1.5.1)\n"
          ]
        }
      ]
    },
    {
      "cell_type": "markdown",
      "metadata": {
        "id": "02LdHlTTSz5L"
      },
      "source": [
        "- 현재 GPU 설정"
      ]
    },
    {
      "cell_type": "code",
      "metadata": {
        "id": "Ybsjn80uSx3X",
        "colab": {
          "base_uri": "https://localhost:8080/"
        },
        "outputId": "f8b49857-f0f4-4b96-c760-89f2d0f52c50"
      },
      "source": [
        "# colab의 runtime-type을 GPU로 설정해서, True가 나오도록 한다.\n",
        "\n",
        "torch.cuda.is_available()"
      ],
      "execution_count": null,
      "outputs": [
        {
          "output_type": "execute_result",
          "data": {
            "text/plain": [
              "True"
            ]
          },
          "metadata": {},
          "execution_count": 3
        }
      ]
    },
    {
      "cell_type": "code",
      "metadata": {
        "id": "HlPZI5wfDQhv",
        "colab": {
          "base_uri": "https://localhost:8080/"
        },
        "outputId": "dd9a82b8-29d7-40c7-cd6a-34ec89934340"
      },
      "source": [
        "use_cuda = torch.cuda.is_available()\n",
        "device = torch.device(\"cuda\" if use_cuda else \"cpu\")\n",
        "device"
      ],
      "execution_count": null,
      "outputs": [
        {
          "output_type": "execute_result",
          "data": {
            "text/plain": [
              "device(type='cuda')"
            ]
          },
          "metadata": {},
          "execution_count": 4
        }
      ]
    },
    {
      "cell_type": "markdown",
      "source": [
        "# FashionMNIST 분류 모델 만들기\n",
        "* 흑/백(1) 이미지 데이터 분류\n",
        "* 28x28 pixel"
      ],
      "metadata": {
        "id": "OHckdZ55KeH2"
      }
    },
    {
      "cell_type": "markdown",
      "source": [
        "## 데이터 로드"
      ],
      "metadata": {
        "id": "mCrBa-gRRMEO"
      }
    },
    {
      "cell_type": "code",
      "source": [
        "# 데이터 전처리\n",
        "\n",
        "MNIST_transform = transforms.Compose([transforms.ToTensor(), # tensor로 펴준다.\n",
        "                                      transforms.Normalize((0.5,),(0.5,))]) # 정규화를 해준다."
      ],
      "metadata": {
        "id": "vYP9dGrWzDqd"
      },
      "execution_count": null,
      "outputs": []
    },
    {
      "cell_type": "code",
      "source": [
        "trainset = datasets.FashionMNIST(root='/content',\n",
        "                                 train=True, download=True,\n",
        "                                 transform=MNIST_transform)\n",
        "\n",
        "testset = datasets.FashionMNIST(root='/content',\n",
        "                                 train=False, download=True,\n",
        "                                 transform=MNIST_transform)"
      ],
      "metadata": {
        "id": "VpVsTevTWE5i",
        "colab": {
          "base_uri": "https://localhost:8080/",
          "height": 457,
          "referenced_widgets": [
            "04aef4510eca4398be193939a1602843",
            "a74beb1475914572a997e4ef5ec40748",
            "9f42bb2f58954a70af7ac143f0397ad0",
            "44ed9f4eea014165a5f8dc6410cbad7d",
            "6845295949ac48b2ae76259b7f7569ad",
            "629a6256fc86436f96587aa0509940bb",
            "a850630ec7934d1582845da98f50f8b8",
            "1e1e9cd3f5ca433da1ba94695690323a",
            "c8cf2aafa1114676b46b39907e413183",
            "5ac8813ee7614417b06e803349eb7b8e",
            "0f5efb5b5bc94ddea91489bb4df98b34",
            "7e045f6fe43f40a2a869c96f1eb25064",
            "03f4e929f69a46f5b349fd3d00544c35",
            "f46910ac129249f597cf50c64aa02a65",
            "f6b983e518d54acf9284e3daabb04dc2",
            "f65ff9cbff00407e84d435c7651ffdd2",
            "a53fbb6a63364e8e95b44e22cfc1189f",
            "d2df1257007f41fb91c7f74d5f30a65d",
            "11a8fa0aec5e4304b232ecc3572df0c4",
            "a7a393ea957c4f61a4565569ae28fd81",
            "3a085176cff7497dad33a9c7b1d9124e",
            "b16868612686445e8355b920214a361f",
            "20e1bf0072834ee08ce5a8a4292bd7c0",
            "a0703b7e9c354e2884e70fdb60bd54b6",
            "04421be701c946438543a79d72c4577a",
            "ae7cac2a80b341a99aa8ecff3bea5836",
            "f83b70ae7b96444b99d78981014d67ef",
            "d5a8311721324d23bb0e88a012fa71bc",
            "86c3644e84cd4f099f6c8d41c7627b75",
            "29c395c0b7e94ca585a3c1f1627cb397",
            "68b5b624da0e409dad8d68821df8f666",
            "5590cd83e86043debd33403da6b210f1",
            "a6e812e2854546ce9e08beabf9664ef6",
            "d99f860cd26f4a368dd4c48801f6f8e6",
            "e315eda61fe34cef9ab2d72b89a17c36",
            "1670dda0484e4a2e8aedc2182ad24eea",
            "d3353975af9a413cb85480ddb8f36723",
            "cb8367f4d7064904a32ec2a903ea876b",
            "0ed1e8ac54734d5eaf698b347f8c7d77",
            "01b12819fc2a475a970ec32c0f882752",
            "34ed4ce2e5b744ad848fbfe077013e8a",
            "9d39bca8366749a1a979b99e327c6a87",
            "23b3b0094a6e466086b12748879c9f38",
            "e45596cb38c2444ca4af3f2b8747e395"
          ]
        },
        "outputId": "add0264e-f23d-40aa-e116-52e0e85e1c23"
      },
      "execution_count": null,
      "outputs": [
        {
          "output_type": "stream",
          "name": "stdout",
          "text": [
            "Downloading http://fashion-mnist.s3-website.eu-central-1.amazonaws.com/train-images-idx3-ubyte.gz\n",
            "Downloading http://fashion-mnist.s3-website.eu-central-1.amazonaws.com/train-images-idx3-ubyte.gz to /content/FashionMNIST/raw/train-images-idx3-ubyte.gz\n"
          ]
        },
        {
          "output_type": "display_data",
          "data": {
            "text/plain": [
              "  0%|          | 0/26421880 [00:00<?, ?it/s]"
            ],
            "application/vnd.jupyter.widget-view+json": {
              "version_major": 2,
              "version_minor": 0,
              "model_id": "04aef4510eca4398be193939a1602843"
            }
          },
          "metadata": {}
        },
        {
          "output_type": "stream",
          "name": "stdout",
          "text": [
            "Extracting /content/FashionMNIST/raw/train-images-idx3-ubyte.gz to /content/FashionMNIST/raw\n",
            "\n",
            "Downloading http://fashion-mnist.s3-website.eu-central-1.amazonaws.com/train-labels-idx1-ubyte.gz\n",
            "Downloading http://fashion-mnist.s3-website.eu-central-1.amazonaws.com/train-labels-idx1-ubyte.gz to /content/FashionMNIST/raw/train-labels-idx1-ubyte.gz\n"
          ]
        },
        {
          "output_type": "display_data",
          "data": {
            "text/plain": [
              "  0%|          | 0/29515 [00:00<?, ?it/s]"
            ],
            "application/vnd.jupyter.widget-view+json": {
              "version_major": 2,
              "version_minor": 0,
              "model_id": "7e045f6fe43f40a2a869c96f1eb25064"
            }
          },
          "metadata": {}
        },
        {
          "output_type": "stream",
          "name": "stdout",
          "text": [
            "Extracting /content/FashionMNIST/raw/train-labels-idx1-ubyte.gz to /content/FashionMNIST/raw\n",
            "\n",
            "Downloading http://fashion-mnist.s3-website.eu-central-1.amazonaws.com/t10k-images-idx3-ubyte.gz\n",
            "Downloading http://fashion-mnist.s3-website.eu-central-1.amazonaws.com/t10k-images-idx3-ubyte.gz to /content/FashionMNIST/raw/t10k-images-idx3-ubyte.gz\n"
          ]
        },
        {
          "output_type": "display_data",
          "data": {
            "text/plain": [
              "  0%|          | 0/4422102 [00:00<?, ?it/s]"
            ],
            "application/vnd.jupyter.widget-view+json": {
              "version_major": 2,
              "version_minor": 0,
              "model_id": "20e1bf0072834ee08ce5a8a4292bd7c0"
            }
          },
          "metadata": {}
        },
        {
          "output_type": "stream",
          "name": "stdout",
          "text": [
            "Extracting /content/FashionMNIST/raw/t10k-images-idx3-ubyte.gz to /content/FashionMNIST/raw\n",
            "\n",
            "Downloading http://fashion-mnist.s3-website.eu-central-1.amazonaws.com/t10k-labels-idx1-ubyte.gz\n",
            "Downloading http://fashion-mnist.s3-website.eu-central-1.amazonaws.com/t10k-labels-idx1-ubyte.gz to /content/FashionMNIST/raw/t10k-labels-idx1-ubyte.gz\n"
          ]
        },
        {
          "output_type": "display_data",
          "data": {
            "text/plain": [
              "  0%|          | 0/5148 [00:00<?, ?it/s]"
            ],
            "application/vnd.jupyter.widget-view+json": {
              "version_major": 2,
              "version_minor": 0,
              "model_id": "d99f860cd26f4a368dd4c48801f6f8e6"
            }
          },
          "metadata": {}
        },
        {
          "output_type": "stream",
          "name": "stdout",
          "text": [
            "Extracting /content/FashionMNIST/raw/t10k-labels-idx1-ubyte.gz to /content/FashionMNIST/raw\n",
            "\n"
          ]
        }
      ]
    },
    {
      "cell_type": "markdown",
      "source": [
        "input-data size 확인"
      ],
      "metadata": {
        "id": "qh7uI7ewsipv"
      }
    },
    {
      "cell_type": "code",
      "source": [
        "# batch-size=128\n",
        "train_loader128 =  DataLoader(trainset, batch_size=128, shuffle=True, num_workers=2)\n",
        "test_loader128 =  DataLoader(testset, batch_size=128, shuffle=False, num_workers=2)\n",
        "\n",
        "# batch-size=64\n",
        "train_loader64 =  DataLoader(trainset, batch_size=64, shuffle=True, num_workers=2)\n",
        "test_loader64 =  DataLoader(testset, batch_size=64, shuffle=False, num_workers=2)"
      ],
      "metadata": {
        "id": "Dz-CJf0x0nne"
      },
      "execution_count": null,
      "outputs": []
    },
    {
      "cell_type": "code",
      "source": [
        "# 128 : batch-size\n",
        "# 1 : 흑백\n",
        "# 28x28 : pixel-size\n",
        "\n",
        "images128, labels128 = next(iter(train_loader128))\n",
        "images128.shape, labels128.shape"
      ],
      "metadata": {
        "id": "iy6D1Rg_07fD",
        "colab": {
          "base_uri": "https://localhost:8080/"
        },
        "outputId": "e47af9ca-72bd-40ca-b726-f7fa41ea0e97"
      },
      "execution_count": null,
      "outputs": [
        {
          "output_type": "execute_result",
          "data": {
            "text/plain": [
              "(torch.Size([128, 1, 28, 28]), torch.Size([128]))"
            ]
          },
          "metadata": {},
          "execution_count": 8
        }
      ]
    },
    {
      "cell_type": "code",
      "source": [
        "# 64 : batch-size\n",
        "# 1 : 흑백\n",
        "# 28x28 : pixel-size\n",
        "\n",
        "images64, labels64 = next(iter(train_loader64))\n",
        "images64.shape, labels64.shape"
      ],
      "metadata": {
        "colab": {
          "base_uri": "https://localhost:8080/"
        },
        "id": "AotS6123m9sK",
        "outputId": "9223a4a4-9230-42a2-e274-2877dbff6db5"
      },
      "execution_count": null,
      "outputs": [
        {
          "output_type": "execute_result",
          "data": {
            "text/plain": [
              "(torch.Size([64, 1, 28, 28]), torch.Size([64]))"
            ]
          },
          "metadata": {},
          "execution_count": 9
        }
      ]
    },
    {
      "cell_type": "code",
      "source": [
        "# 숫자 label에 해당되는 값\n",
        "\n",
        "labels_map = {\n",
        "    0: 'T-Shirt',\n",
        "    1: 'Trouser',\n",
        "    2: 'Pullover',\n",
        "    3: 'Dress',\n",
        "    4: 'Coat',\n",
        "    5: 'Sandal',\n",
        "    6: 'Shirt',\n",
        "    7: 'Sneaker',\n",
        "    8: 'Bag',\n",
        "    9: 'Ankle Boot'\n",
        "}"
      ],
      "metadata": {
        "id": "g4Nd4uLGTEDy"
      },
      "execution_count": null,
      "outputs": []
    },
    {
      "cell_type": "code",
      "source": [
        "# 데이터 확인\n",
        "\n",
        "figure = plt.figure(figsize=(12,12))\n",
        "cols, rows = 4, 1\n",
        "\n",
        "for i in range(1, cols * rows + 1):\n",
        "    image = images128[i].squeeze()\n",
        "    label_idx = labels128[i].item() # y_label\n",
        "    label = labels_map[label_idx] # 위에서 해당되는 label\n",
        "\n",
        "    figure.add_subplot(rows, cols, i)\n",
        "    plt.title(label)\n",
        "    plt.axis('off')\n",
        "    plt.imshow(image, cmap='gray')\n",
        "\n",
        "plt.show()"
      ],
      "metadata": {
        "id": "_u5_UEAH09SB",
        "colab": {
          "base_uri": "https://localhost:8080/",
          "height": 191
        },
        "outputId": "576a94fc-e351-44dd-c4c0-3bfeab21e02a"
      },
      "execution_count": null,
      "outputs": [
        {
          "output_type": "display_data",
          "data": {
            "text/plain": [
              "<Figure size 864x864 with 4 Axes>"
            ],
            "image/png": "[encoded data removed]"
          },
          "metadata": {}
        }
      ]
    },
    {
      "cell_type": "markdown",
      "source": [
        "## 모델 1 생성\n",
        "* 10개의 convolution-layer(Conv2d)와 2개의 fully-connected(fc)로 이루어진 모델\n",
        "* Total params: 28,784"
      ],
      "metadata": {
        "id": "EFPYE3UUnpmX"
      }
    },
    {
      "cell_type": "markdown",
      "source": [
        "input-data size\n",
        "* train_loader128(batch-size;128) : 128, 1, 28, 28\n",
        "* train_loader64(batch-size;64) : 64, 1, 28, 28\n",
        "\n",
        "\n",
        "구현해야하는 모델 정보<br>\n",
        "* convolution-layer 1\n",
        "* maxpooling-layer\n",
        "* convolution-layer 2\n",
        "* convolution-layer 3\n",
        "* convolution-layer 4\n",
        "* convolution-layer 5\n",
        "* convolution-layer 6\n",
        "* convolution-layer 7\n",
        "* convolution-layer 8\n",
        "* convolution-layer 9\n",
        "* maxpooling-layer\n",
        "* convolution-layer 10\n",
        "* flatten\n",
        "* fc1\n",
        "* fc2\n",
        "\n",
        "추가 정보\n",
        "* 활성화함수 : relu\n",
        "(단, maxpooling과 마지막 fc2에는 보통적으로 활성화함수를 사용하지 않는다.)\n",
        "* flatten의 경우, weights가 들어가지 않는다. 즉, layer라고는 볼 수 없다.\n",
        "\n",
        "모델의 layer를 통과함에 따라 데이터의 크기 변화는 다음과 같다.\n",
        "1. batch-size128 -> torch.Size([128, 1, 28, 28]) 으로 시작\n",
        "2. batch-size;64 -> torch.Size([64, 1, 28, 28]) 으로 시작\n",
        "> * torch.Size([128 or 64, 5, 30, 30])\n",
        "> * torch.Size([128 or 64, 5, 15, 15])\n",
        "> * torch.Size([128 or 64, 7, 15, 15])\n",
        "> * torch.Size([128 or 64, 16, 16, 16])\n",
        "> * torch.Size([128 or 64, 19, 15, 15])\n",
        "> * torch.Size([128 or 64, 29, 13, 13])\n",
        "> * torch.Size([128 or 64, 29, 14, 14])\n",
        "> * torch.Size([128 or 64, 6, 12, 12])\n",
        "> * torch.Size([128 or 64, 2, 12, 12])\n",
        "> * torch.Size([128 or 64, 10, 7, 7])\n",
        "> * torch.Size([128 or 64, 20, 7, 7])\n",
        "> * torch.Size([128 or 64, 20, 3, 3])\n",
        "> * torch.Size([128 or 64, 180])\n",
        "> * torch.Size([128 or 64, 86])\n",
        "> * torch.Size([128 or 64, 10]) "
      ],
      "metadata": {
        "id": "orF-z9choFaB"
      }
    },
    {
      "cell_type": "code",
      "source": [
        "class CNN_Model1(nn.Module):\n",
        "    def __init__(self):\n",
        "        super(CNN_Model1, self).__init__()\n",
        "\n",
        "\n",
        "\n",
        "        self.conv1 = nn.Conv2d(in_channels=1, out_channels=5, kernel_size=3, stride=1, padding=2)\n",
        "        # in-channels = 1 <- 흑/백\n",
        "        # out-channels = 5\n",
        "        # kernel_size / filter-size = 2x2 -> f=3\n",
        "        # stride = 1(default) -> s=1\n",
        "        # padding = 2(default) -> p=2\n",
        "        # input-data pixel size = 28x28 -> n=28\n",
        "        # (n-f+2p)/s + 1 = new n\n",
        "        # (28-3+2x2)/1 + 1 = 30\n",
        "\n",
        "        self.maxpool1 = nn.MaxPool2d(kernel_size=2, stride=2, padding = 0)\n",
        "        # maxpool : n=30 -> 15\n",
        "\n",
        "        self.conv2 = nn.Conv2d(5, 7, 3, padding=1)\n",
        "        # in-channels = 5 <- 이전것의 out-channels\n",
        "        # out-channels = 7\n",
        "        # filter-size = 3x3\n",
        "        # stride = 1(default)\n",
        "        # padding = 1\n",
        "        # (n-f+2p)/s + 1 = new n    \n",
        "        # (15-3+2x1)/1 + 1 = 15\n",
        "\n",
        "        self.conv3 = nn.Conv2d(in_channels=7, out_channels=16, kernel_size=2, stride=1, padding=1)\n",
        "        # (15-3+2xp)/s +1 = 16 \n",
        "        self.conv4 = nn.Conv2d(in_channels=16, out_channels=19, kernel_size=2, stride=1, padding=0)\n",
        "        self.conv5 = nn.Conv2d(in_channels=19, out_channels=29, kernel_size=3, stride=1, padding=0)\n",
        "        self.conv6 = nn.Conv2d(in_channels=29, out_channels=29, kernel_size=2, stride=1, padding=1)\n",
        "        self.conv7 = nn.Conv2d(in_channels=29, out_channels=6, kernel_size=3, stride=1, padding=0)\n",
        "        self.conv8 = nn.Conv2d(in_channels=6, out_channels=2, kernel_size=3, stride=1, padding=1)\n",
        "        self.conv9 = nn.Conv2d(in_channels=2, out_channels=10, kernel_size=2, stride=2, padding=1)\n",
        "        self.conv10 = nn.Conv2d(in_channels=10, out_channels=20, kernel_size=3, stride=1, padding=1)\n",
        "\n",
        "        self.maxpool2 = nn.MaxPool2d(kernel_size=3, stride=2, padding =0)\n",
        "\n",
        "        self.flatten = nn.Flatten()\n",
        "\n",
        "        self.fc1 = nn.Linear(180, 86)\n",
        "        self.fc2 = nn.Linear(86, 10)\n",
        "\n",
        "    def forward(self, x):\n",
        "        x = self.conv1(x)\n",
        "        x = self.maxpool1(x)\n",
        "        x = self.conv2(x)\n",
        "        x = self.conv3(x)\n",
        "        x = self.conv4(x)\n",
        "        x = self.conv5(x)\n",
        "        x = self.conv6(x)\n",
        "        x = self.conv7(x)\n",
        "        x = self.conv8(x)\n",
        "        x = self.conv9(x)\n",
        "        x = self.conv10(x)\n",
        "        x = self.maxpool2(x)\n",
        "        x = self.flatten(x)\n",
        "        x = self.fc1(x)\n",
        "        x = self.fc2(x)\n",
        "\n",
        "\n",
        "        x = x.view(-1, self.num_flat_features(x)) # num_flat_features : 아래에서 정의\n",
        "\n",
        "        return x\n",
        "    \n",
        "    def num_flat_features(self, x): # 처음 dim-size을 제외하고, 모두 곱한 값을 반환해준다.\n",
        "        size = x.size()[1:]\n",
        "        num_features = 1\n",
        "        for s in size:\n",
        "            num_features *= s\n",
        "        \n",
        "        return num_features"
      ],
      "metadata": {
        "id": "EedVZU7Knv0X"
      },
      "execution_count": null,
      "outputs": []
    },
    {
      "cell_type": "code",
      "source": [
        "# 모델객체 생성\n",
        "DeepConv_net128 = CNN_Model1().to(device)\n",
        "DeepConv_net64 = CNN_Model1().to(device)\n",
        "\n",
        "print(DeepConv_net128)"
      ],
      "metadata": {
        "colab": {
          "base_uri": "https://localhost:8080/"
        },
        "id": "RiMZ7sX6oDn3",
        "outputId": "258536f3-4558-411b-f710-a257e0756d3e"
      },
      "execution_count": null,
      "outputs": [
        {
          "output_type": "stream",
          "name": "stdout",
          "text": [
            "CNN_Model1(\n",
            "  (conv1): Conv2d(1, 5, kernel_size=(3, 3), stride=(1, 1), padding=(2, 2))\n",
            "  (maxpool1): MaxPool2d(kernel_size=2, stride=2, padding=0, dilation=1, ceil_mode=False)\n",
            "  (conv2): Conv2d(5, 7, kernel_size=(3, 3), stride=(1, 1), padding=(1, 1))\n",
            "  (conv3): Conv2d(7, 16, kernel_size=(2, 2), stride=(1, 1), padding=(1, 1))\n",
            "  (conv4): Conv2d(16, 19, kernel_size=(2, 2), stride=(1, 1))\n",
            "  (conv5): Conv2d(19, 29, kernel_size=(3, 3), stride=(1, 1))\n",
            "  (conv6): Conv2d(29, 29, kernel_size=(2, 2), stride=(1, 1), padding=(1, 1))\n",
            "  (conv7): Conv2d(29, 6, kernel_size=(3, 3), stride=(1, 1))\n",
            "  (conv8): Conv2d(6, 2, kernel_size=(3, 3), stride=(1, 1), padding=(1, 1))\n",
            "  (conv9): Conv2d(2, 10, kernel_size=(2, 2), stride=(2, 2), padding=(1, 1))\n",
            "  (conv10): Conv2d(10, 20, kernel_size=(3, 3), stride=(1, 1), padding=(1, 1))\n",
            "  (maxpool2): MaxPool2d(kernel_size=3, stride=2, padding=0, dilation=1, ceil_mode=False)\n",
            "  (flatten): Flatten(start_dim=1, end_dim=-1)\n",
            "  (fc1): Linear(in_features=180, out_features=86, bias=True)\n",
            "  (fc2): Linear(in_features=86, out_features=10, bias=True)\n",
            ")\n"
          ]
        }
      ]
    },
    {
      "cell_type": "code",
      "source": [
        "input = images128.to(device)\n",
        "input.size()"
      ],
      "metadata": {
        "colab": {
          "base_uri": "https://localhost:8080/"
        },
        "id": "8gBjDmoc7fJh",
        "outputId": "0e8ca9a1-0418-4ae6-d91e-80b2747ad9a6"
      },
      "execution_count": null,
      "outputs": [
        {
          "output_type": "execute_result",
          "data": {
            "text/plain": [
              "torch.Size([128, 1, 28, 28])"
            ]
          },
          "metadata": {},
          "execution_count": 21
        }
      ]
    },
    {
      "cell_type": "code",
      "source": [
        "output = DeepConv_net128.forward(input)\n",
        "output.size()"
      ],
      "metadata": {
        "colab": {
          "base_uri": "https://localhost:8080/"
        },
        "id": "tflPlTme7h9x",
        "outputId": "9f88ee8d-6439-420c-ac8d-9e8ceff6a174"
      },
      "execution_count": null,
      "outputs": [
        {
          "output_type": "execute_result",
          "data": {
            "text/plain": [
              "torch.Size([128, 10])"
            ]
          },
          "metadata": {},
          "execution_count": 22
        }
      ]
    },
    {
      "cell_type": "code",
      "source": [
        "summary(DeepConv_net128, input_size=(1, 28, 28), batch_size=128)"
      ],
      "metadata": {
        "colab": {
          "base_uri": "https://localhost:8080/"
        },
        "id": "DSH3qCADujAi",
        "outputId": "805225dc-0df3-416d-b0c6-df2db21854f0"
      },
      "execution_count": null,
      "outputs": [
        {
          "output_type": "stream",
          "name": "stdout",
          "text": [
            "----------------------------------------------------------------\n",
            "        Layer (type)               Output Shape         Param #\n",
            "================================================================\n",
            "            Conv2d-1           [128, 5, 30, 30]              50\n",
            "         MaxPool2d-2           [128, 5, 15, 15]               0\n",
            "            Conv2d-3           [128, 7, 15, 15]             322\n",
            "            Conv2d-4          [128, 16, 16, 16]             464\n",
            "            Conv2d-5          [128, 19, 15, 15]           1,235\n",
            "            Conv2d-6          [128, 29, 13, 13]           4,988\n",
            "            Conv2d-7          [128, 29, 14, 14]           3,393\n",
            "            Conv2d-8           [128, 6, 12, 12]           1,572\n",
            "            Conv2d-9           [128, 2, 12, 12]             110\n",
            "           Conv2d-10            [128, 10, 7, 7]              90\n",
            "           Conv2d-11            [128, 20, 7, 7]           1,820\n",
            "        MaxPool2d-12            [128, 20, 3, 3]               0\n",
            "          Flatten-13                 [128, 180]               0\n",
            "           Linear-14                  [128, 86]          15,566\n",
            "           Linear-15                  [128, 10]             870\n",
            "================================================================\n",
            "Total params: 30,480\n",
            "Trainable params: 30,480\n",
            "Non-trainable params: 0\n",
            "----------------------------------------------------------------\n",
            "Input size (MB): 0.38\n",
            "Forward/backward pass size (MB): 28.55\n",
            "Params size (MB): 0.12\n",
            "Estimated Total Size (MB): 29.05\n",
            "----------------------------------------------------------------\n"
          ]
        }
      ]
    },
    {
      "cell_type": "code",
      "source": [
        "input = images64.to(device)\n",
        "input.size()"
      ],
      "metadata": {
        "colab": {
          "base_uri": "https://localhost:8080/"
        },
        "outputId": "42e25345-2331-4a1f-cad3-a1895500cdb5",
        "id": "jcybKk5Nvj4Z"
      },
      "execution_count": null,
      "outputs": [
        {
          "output_type": "execute_result",
          "data": {
            "text/plain": [
              "torch.Size([64, 1, 28, 28])"
            ]
          },
          "metadata": {},
          "execution_count": 24
        }
      ]
    },
    {
      "cell_type": "code",
      "source": [
        "output = DeepConv_net64.forward(input)\n",
        "output.size()"
      ],
      "metadata": {
        "colab": {
          "base_uri": "https://localhost:8080/"
        },
        "outputId": "5033d728-3a94-4730-f57a-76c387f3575c",
        "id": "y2PZCHyyvj4a"
      },
      "execution_count": null,
      "outputs": [
        {
          "output_type": "execute_result",
          "data": {
            "text/plain": [
              "torch.Size([64, 10])"
            ]
          },
          "metadata": {},
          "execution_count": 25
        }
      ]
    },
    {
      "cell_type": "code",
      "source": [
        "summary(DeepConv_net64, input_size=(1, 28, 28), batch_size=64)"
      ],
      "metadata": {
        "colab": {
          "base_uri": "https://localhost:8080/"
        },
        "id": "uh1pmRXcvZP8",
        "outputId": "08b55b1e-550c-426b-f68b-9a30f7ac7d43"
      },
      "execution_count": null,
      "outputs": [
        {
          "output_type": "stream",
          "name": "stdout",
          "text": [
            "----------------------------------------------------------------\n",
            "        Layer (type)               Output Shape         Param #\n",
            "================================================================\n",
            "            Conv2d-1            [64, 5, 30, 30]              50\n",
            "         MaxPool2d-2            [64, 5, 15, 15]               0\n",
            "            Conv2d-3            [64, 7, 15, 15]             322\n",
            "            Conv2d-4           [64, 16, 16, 16]             464\n",
            "            Conv2d-5           [64, 19, 15, 15]           1,235\n",
            "            Conv2d-6           [64, 29, 13, 13]           4,988\n",
            "            Conv2d-7           [64, 29, 14, 14]           3,393\n",
            "            Conv2d-8            [64, 6, 12, 12]           1,572\n",
            "            Conv2d-9            [64, 2, 12, 12]             110\n",
            "           Conv2d-10             [64, 10, 7, 7]              90\n",
            "           Conv2d-11             [64, 20, 7, 7]           1,820\n",
            "        MaxPool2d-12             [64, 20, 3, 3]               0\n",
            "          Flatten-13                  [64, 180]               0\n",
            "           Linear-14                   [64, 86]          15,566\n",
            "           Linear-15                   [64, 10]             870\n",
            "================================================================\n",
            "Total params: 30,480\n",
            "Trainable params: 30,480\n",
            "Non-trainable params: 0\n",
            "----------------------------------------------------------------\n",
            "Input size (MB): 0.19\n",
            "Forward/backward pass size (MB): 14.27\n",
            "Params size (MB): 0.12\n",
            "Estimated Total Size (MB): 14.58\n",
            "----------------------------------------------------------------\n"
          ]
        }
      ]
    },
    {
      "cell_type": "markdown",
      "source": [
        "## 모델 2 생성\n",
        "* 2개의 convolution-layer(Conv2d)와 5개의 fully-connected(fc)로 이루어진 모델\n",
        "* Total params: 9,516,488"
      ],
      "metadata": {
        "id": "xVxKI_rwCvhI"
      }
    },
    {
      "cell_type": "markdown",
      "source": [
        "input-data size\n",
        "* train_loader128(batch-size;128) : 128, 1, 28, 28\n",
        "* train_loader64(batch-size;64) : 64, 1, 28, 28\n",
        "\n",
        "\n",
        "구현해야하는 모델 정보<br>\n",
        "* convolution-layer 1\n",
        "* maxpooling-layer\n",
        "* convolution-layer 2\n",
        "* flatten\n",
        "* fc1\n",
        "* fc2\n",
        "* fc3\n",
        "* fc4\n",
        "* fc5\n",
        "\n",
        "추가 정보\n",
        "* 활성화함수 : relu\n",
        "(단, maxpooling과 마지막 fc5에는 보통적으로 활성화함수를 사용하지 않는다.)\n",
        "* flatten의 경우, weights가 들어가지 않는다. 즉, layer라고는 볼 수 없다.\n",
        "\n",
        "모델의 layer를 통과함에 따라 데이터의 크기 변화는 다음과 같다.\n",
        "\n",
        "1. batch-size128 -> torch.Size([128, 1, 28, 28]) 으로 시작\n",
        "2. batch-size;64 -> torch.Size([64, 1, 28, 28]) 으로 시작\n",
        "> * torch.Size([128 or 64, 5, 30, 30])\n",
        "> * torch.Size([128 or 64, 5, 15, 15])\n",
        "> * torch.Size([128 or 64, 7, 15, 15])\n",
        "> * torch.Size([128 or 64, 1575])\n",
        "> * torch.Size([128 or 64, 3000])\n",
        "> * torch.Size([128 or 64, 1500])\n",
        "> * torch.Size([128 or 64, 180])\n",
        "> * torch.Size([128 or 64, 86])\n",
        "> * torch.Size([128 or 64, 10])"
      ],
      "metadata": {
        "id": "uN5s0Re-CvhI"
      }
    },
    {
      "cell_type": "code",
      "source": [
        "class CNN_Model2(nn.Module):\n",
        "    def __init__(self):\n",
        "        super(CNN_Model2, self).__init__()\n",
        "\n",
        "        self.conv1 = nn.Conv2d(in_channels=1, out_channels=5, kernel_size=3, stride=1, padding=2)\n",
        "        self.conv2 = nn.Conv2d(5, 7, 3, padding=1)\n",
        "\n",
        "        self.maxpool1 = nn.MaxPool2d(kernel_size=2, stride=2, padding = 0)\n",
        "\n",
        "        self.flatten = nn.Flatten()\n",
        "\n",
        "        self.fc1 = nn.Linear(1575, 3000)\n",
        "        self.fc2 = nn.Linear(3000, 1500)\n",
        "        self.fc3 = nn.Linear(1500, 180)\n",
        "        self.fc4 = nn.Linear(180,86)\n",
        "        self.fc5 = nn.Linear(86,10)\n",
        "\n",
        "    def forward(self, x):\n",
        "        x = self.conv1(x)\n",
        "        x = self.maxpool1(x)\n",
        "        x = self.conv2(x)\n",
        "        x = self.flatten(x)\n",
        "        x = self.fc1(x)\n",
        "        x = self.fc2(x)\n",
        "        x = self.fc3(x)\n",
        "        x = self.fc4(x)\n",
        "        x = self.fc5(x)\n",
        "        return x\n",
        "    \n",
        "    def num_flat_features(self, x): # 처음 dim-size을 제외하고, 모두 곱한 값을 반환해준다.\n",
        "        size = x.size()[1:]\n",
        "        num_features = 1\n",
        "        for s in size:\n",
        "            num_features *= s\n",
        "        \n",
        "        return num_features"
      ],
      "metadata": {
        "id": "JfSM-k0DCvhI"
      },
      "execution_count": null,
      "outputs": []
    },
    {
      "cell_type": "code",
      "source": [
        "# 모델객체 생성\n",
        "DeepFC_net128 = CNN_Model2().to(device)\n",
        "DeepFC_net64 = CNN_Model2().to(device)\n",
        "\n",
        "print(DeepFC_net128)"
      ],
      "metadata": {
        "colab": {
          "base_uri": "https://localhost:8080/"
        },
        "outputId": "eed71423-1b33-440b-b4a5-06ffaf272f06",
        "id": "QQ_AnPi5CvhI"
      },
      "execution_count": null,
      "outputs": [
        {
          "output_type": "stream",
          "name": "stdout",
          "text": [
            "CNN_Model2(\n",
            "  (conv1): Conv2d(1, 5, kernel_size=(3, 3), stride=(1, 1), padding=(2, 2))\n",
            "  (conv2): Conv2d(5, 7, kernel_size=(3, 3), stride=(1, 1), padding=(1, 1))\n",
            "  (maxpool1): MaxPool2d(kernel_size=2, stride=2, padding=0, dilation=1, ceil_mode=False)\n",
            "  (flatten): Flatten(start_dim=1, end_dim=-1)\n",
            "  (fc1): Linear(in_features=1575, out_features=3000, bias=True)\n",
            "  (fc2): Linear(in_features=3000, out_features=1500, bias=True)\n",
            "  (fc3): Linear(in_features=1500, out_features=180, bias=True)\n",
            "  (fc4): Linear(in_features=180, out_features=86, bias=True)\n",
            "  (fc5): Linear(in_features=86, out_features=10, bias=True)\n",
            ")\n"
          ]
        }
      ]
    },
    {
      "cell_type": "code",
      "source": [
        "input = images128.to(device)\n",
        "input.size()"
      ],
      "metadata": {
        "colab": {
          "base_uri": "https://localhost:8080/"
        },
        "outputId": "bf230378-ac21-4ba5-cc65-2c00425e5231",
        "id": "S9IVOG3pwgoS"
      },
      "execution_count": null,
      "outputs": [
        {
          "output_type": "execute_result",
          "data": {
            "text/plain": [
              "torch.Size([128, 1, 28, 28])"
            ]
          },
          "metadata": {},
          "execution_count": 29
        }
      ]
    },
    {
      "cell_type": "code",
      "source": [
        "output = DeepFC_net128.forward(input)\n",
        "output.size()"
      ],
      "metadata": {
        "colab": {
          "base_uri": "https://localhost:8080/"
        },
        "outputId": "5382f412-62fe-4820-9aec-ed2617b67ae9",
        "id": "p4ydm5qCwgoT"
      },
      "execution_count": null,
      "outputs": [
        {
          "output_type": "execute_result",
          "data": {
            "text/plain": [
              "torch.Size([128, 10])"
            ]
          },
          "metadata": {},
          "execution_count": 30
        }
      ]
    },
    {
      "cell_type": "code",
      "source": [
        "summary(DeepFC_net128, input_size=(1, 28, 28), batch_size=128)"
      ],
      "metadata": {
        "colab": {
          "base_uri": "https://localhost:8080/"
        },
        "outputId": "4a76db1c-9dd3-4875-d56f-294649e2e6c0",
        "id": "Q3uN6Dw6wgoT"
      },
      "execution_count": null,
      "outputs": [
        {
          "output_type": "stream",
          "name": "stdout",
          "text": [
            "----------------------------------------------------------------\n",
            "        Layer (type)               Output Shape         Param #\n",
            "================================================================\n",
            "            Conv2d-1           [128, 5, 30, 30]              50\n",
            "         MaxPool2d-2           [128, 5, 15, 15]               0\n",
            "            Conv2d-3           [128, 7, 15, 15]             322\n",
            "           Flatten-4                [128, 1575]               0\n",
            "            Linear-5                [128, 3000]       4,728,000\n",
            "            Linear-6                [128, 1500]       4,501,500\n",
            "            Linear-7                 [128, 180]         270,180\n",
            "            Linear-8                  [128, 86]          15,566\n",
            "            Linear-9                  [128, 10]             870\n",
            "================================================================\n",
            "Total params: 9,516,488\n",
            "Trainable params: 9,516,488\n",
            "Non-trainable params: 0\n",
            "----------------------------------------------------------------\n",
            "Input size (MB): 0.38\n",
            "Forward/backward pass size (MB): 13.23\n",
            "Params size (MB): 36.30\n",
            "Estimated Total Size (MB): 49.92\n",
            "----------------------------------------------------------------\n"
          ]
        }
      ]
    },
    {
      "cell_type": "code",
      "source": [
        "input = images64.to(device)\n",
        "input.size()"
      ],
      "metadata": {
        "colab": {
          "base_uri": "https://localhost:8080/"
        },
        "outputId": "d5524581-d979-4ce9-982e-dfb1d37b439d",
        "id": "d9t36x7bwgoT"
      },
      "execution_count": null,
      "outputs": [
        {
          "output_type": "execute_result",
          "data": {
            "text/plain": [
              "torch.Size([64, 1, 28, 28])"
            ]
          },
          "metadata": {},
          "execution_count": 32
        }
      ]
    },
    {
      "cell_type": "code",
      "source": [
        "output = DeepFC_net64.forward(input)\n",
        "output.size()"
      ],
      "metadata": {
        "colab": {
          "base_uri": "https://localhost:8080/"
        },
        "outputId": "03b7c48c-04cf-4f21-c362-176d0f3c7f09",
        "id": "GFHweMakwgoT"
      },
      "execution_count": null,
      "outputs": [
        {
          "output_type": "execute_result",
          "data": {
            "text/plain": [
              "torch.Size([64, 10])"
            ]
          },
          "metadata": {},
          "execution_count": 33
        }
      ]
    },
    {
      "cell_type": "code",
      "source": [
        "summary(DeepFC_net64, input_size=(1, 28, 28), batch_size=64)"
      ],
      "metadata": {
        "colab": {
          "base_uri": "https://localhost:8080/"
        },
        "outputId": "30335def-0e79-4953-b0b4-b80ccf2b77d2",
        "id": "2VIZ4WCCwgoT"
      },
      "execution_count": null,
      "outputs": [
        {
          "output_type": "stream",
          "name": "stdout",
          "text": [
            "----------------------------------------------------------------\n",
            "        Layer (type)               Output Shape         Param #\n",
            "================================================================\n",
            "            Conv2d-1            [64, 5, 30, 30]              50\n",
            "         MaxPool2d-2            [64, 5, 15, 15]               0\n",
            "            Conv2d-3            [64, 7, 15, 15]             322\n",
            "           Flatten-4                 [64, 1575]               0\n",
            "            Linear-5                 [64, 3000]       4,728,000\n",
            "            Linear-6                 [64, 1500]       4,501,500\n",
            "            Linear-7                  [64, 180]         270,180\n",
            "            Linear-8                   [64, 86]          15,566\n",
            "            Linear-9                   [64, 10]             870\n",
            "================================================================\n",
            "Total params: 9,516,488\n",
            "Trainable params: 9,516,488\n",
            "Non-trainable params: 0\n",
            "----------------------------------------------------------------\n",
            "Input size (MB): 0.19\n",
            "Forward/backward pass size (MB): 6.62\n",
            "Params size (MB): 36.30\n",
            "Estimated Total Size (MB): 43.11\n",
            "----------------------------------------------------------------\n"
          ]
        }
      ]
    },
    {
      "cell_type": "markdown",
      "source": [
        "## 손실함수와 옵티마이저"
      ],
      "metadata": {
        "id": "klpXGc2tCimP"
      }
    },
    {
      "cell_type": "code",
      "source": [
        "criterion = nn.CrossEntropyLoss()\n",
        "\n",
        "optimizerDC_128 = optim.SGD(DeepConv_net128.parameters(), lr=0.001, momentum=0.9)\n",
        "optimizerDC_64 = optim.SGD(DeepConv_net64.parameters(), lr=0.001, momentum=0.9)\n",
        "optimizerFC_128 = optim.SGD(DeepFC_net128.parameters(), lr=0.001, momentum=0.9)\n",
        "optimizerFC_64 = optim.SGD(DeepFC_net64.parameters(), lr=0.001, momentum=0.9)"
      ],
      "metadata": {
        "id": "69AHX-ZXClOm"
      },
      "execution_count": null,
      "outputs": []
    },
    {
      "cell_type": "markdown",
      "source": [
        "## 모델 학습"
      ],
      "metadata": {
        "id": "huNh3EnhJLyh"
      }
    },
    {
      "cell_type": "markdown",
      "source": [
        "### 1. DeepConv_net128\n",
        "* 10개의 Convolution-layer & 2개의 fc-layer\n",
        "* 128 batch-size"
      ],
      "metadata": {
        "id": "W-2Q7c6-JW9z"
      }
    },
    {
      "cell_type": "code",
      "source": [
        "for epoch in range(10):\n",
        "\n",
        "    running_loss = 0.0\n",
        "\n",
        "    for i, data in enumerate(train_loader128, start=0):\n",
        "        inputs, labels = data[0].to(device), data[1].to(device)\n",
        "\n",
        "        optimizerDC_128.zero_grad() # epoch마다 gradient 0으로 초기화\n",
        "\n",
        "        outputs = DeepConv_net128(inputs) # y_pred = f(X)\n",
        "        loss = criterion(outputs, labels) # CrossEntropyLoss; 0~1 사이값\n",
        "        loss.backward() # back-propagation; gradient 계산\n",
        "        optimizerDC_128.step() # parameters(weights) update\n",
        "\n",
        "        running_loss += loss.item() # 그냥 전체적인 비교를 위해 누적함\n",
        "\n",
        "        if i % 100 == 99: # 100번 마다 확인; epoch=10, iter(=i)=469, batch=128\n",
        "            print('Epoch: {}, Iter: {}, Loss: {}'.format(epoch+1, i+1, running_loss/2000))\n",
        "            running_loss = 0.0"
      ],
      "metadata": {
        "colab": {
          "base_uri": "https://localhost:8080/"
        },
        "id": "y-_UvdNWJR-r",
        "outputId": "b109e04b-db9a-4a01-c327-72e85bbf7278"
      },
      "execution_count": null,
      "outputs": [
        {
          "output_type": "stream",
          "name": "stdout",
          "text": [
            "Epoch: 1, Iter: 100, Loss: 0.11528149497509002\n",
            "Epoch: 1, Iter: 200, Loss: 0.11514854311943054\n",
            "Epoch: 1, Iter: 300, Loss: 0.11513363373279571\n",
            "Epoch: 1, Iter: 400, Loss: 0.11510071039199829\n",
            "Epoch: 2, Iter: 100, Loss: 0.11503847539424897\n",
            "Epoch: 2, Iter: 200, Loss: 0.1149661580324173\n",
            "Epoch: 2, Iter: 300, Loss: 0.11476304376125336\n",
            "Epoch: 2, Iter: 400, Loss: 0.11360912537574767\n",
            "Epoch: 3, Iter: 100, Loss: 0.049439445406198504\n",
            "Epoch: 3, Iter: 200, Loss: 0.041975890100002286\n",
            "Epoch: 3, Iter: 300, Loss: 0.039203034430742266\n",
            "Epoch: 3, Iter: 400, Loss: 0.03592240759730339\n",
            "Epoch: 4, Iter: 100, Loss: 0.03451222559809685\n",
            "Epoch: 4, Iter: 200, Loss: 0.033033158123493195\n",
            "Epoch: 4, Iter: 300, Loss: 0.03132912401854992\n",
            "Epoch: 4, Iter: 400, Loss: 0.03054311329126358\n",
            "Epoch: 5, Iter: 100, Loss: 0.02889901642501354\n",
            "Epoch: 5, Iter: 200, Loss: 0.02815051408112049\n",
            "Epoch: 5, Iter: 300, Loss: 0.027630784839391707\n",
            "Epoch: 5, Iter: 400, Loss: 0.027067265719175337\n",
            "Epoch: 6, Iter: 100, Loss: 0.025923566579818726\n",
            "Epoch: 6, Iter: 200, Loss: 0.025455617606639863\n",
            "Epoch: 6, Iter: 300, Loss: 0.026139694184064866\n",
            "Epoch: 6, Iter: 400, Loss: 0.02596950350701809\n",
            "Epoch: 7, Iter: 100, Loss: 0.024367085069417954\n",
            "Epoch: 7, Iter: 200, Loss: 0.024423876792192458\n",
            "Epoch: 7, Iter: 300, Loss: 0.024013220727443694\n",
            "Epoch: 7, Iter: 400, Loss: 0.024040853798389435\n",
            "Epoch: 8, Iter: 100, Loss: 0.02342565965652466\n",
            "Epoch: 8, Iter: 200, Loss: 0.02314748927950859\n",
            "Epoch: 8, Iter: 300, Loss: 0.0230428167283535\n",
            "Epoch: 8, Iter: 400, Loss: 0.02325667169690132\n",
            "Epoch: 9, Iter: 100, Loss: 0.022615169733762742\n",
            "Epoch: 9, Iter: 200, Loss: 0.02253957799077034\n",
            "Epoch: 9, Iter: 300, Loss: 0.02317973679304123\n",
            "Epoch: 9, Iter: 400, Loss: 0.02240974469482899\n",
            "Epoch: 10, Iter: 100, Loss: 0.021994142308831215\n",
            "Epoch: 10, Iter: 200, Loss: 0.021773816496133806\n",
            "Epoch: 10, Iter: 300, Loss: 0.021498327001929284\n",
            "Epoch: 10, Iter: 400, Loss: 0.0224557730704546\n"
          ]
        }
      ]
    },
    {
      "cell_type": "code",
      "source": [
        "for epoch in range(5):\n",
        "\n",
        "    running_loss = 0.0\n",
        "\n",
        "    for i, data in enumerate(train_loader128, start=0):\n",
        "        inputs, labels = data[0].to(device), data[1].to(device)\n",
        "\n",
        "        optimizerDC_128.zero_grad() # epoch마다 gradient 0으로 초기화\n",
        "\n",
        "        outputs = DeepConv_net128(inputs) # y_pred = f(X)\n",
        "        loss = criterion(outputs, labels) # CrossEntropyLoss; 0~1 사이값\n",
        "        loss.backward() # back-propagation; gradient 계산\n",
        "        optimizerDC_128.step() # parameters(weights) update\n",
        "\n",
        "        running_loss += loss.item() # 그냥 전체적인 비교를 위해 누적함\n",
        "\n",
        "        if i % 100 == 99: # 100번 마다 확인; epoch=10, iter(=i)=469, batch=128\n",
        "            print('Epoch: {}, Iter: {}, Loss: {}'.format(epoch+1, i+1, running_loss/2000))\n",
        "            running_loss = 0.0"
      ],
      "metadata": {
        "colab": {
          "base_uri": "https://localhost:8080/"
        },
        "id": "dNa8-7SC5u2a",
        "outputId": "d6a1060a-2fa8-4e86-bcf4-4a6d733fe12c"
      },
      "execution_count": null,
      "outputs": [
        {
          "output_type": "stream",
          "name": "stdout",
          "text": [
            "Epoch: 1, Iter: 100, Loss: 0.021516395285725593\n",
            "Epoch: 1, Iter: 200, Loss: 0.021382591634988783\n",
            "Epoch: 1, Iter: 300, Loss: 0.020925749093294144\n",
            "Epoch: 1, Iter: 400, Loss: 0.021884964838624\n",
            "Epoch: 2, Iter: 100, Loss: 0.021046285599470138\n",
            "Epoch: 2, Iter: 200, Loss: 0.020786991640925408\n",
            "Epoch: 2, Iter: 300, Loss: 0.02084022679924965\n",
            "Epoch: 2, Iter: 400, Loss: 0.021287164315581322\n",
            "Epoch: 3, Iter: 100, Loss: 0.020408618867397307\n",
            "Epoch: 3, Iter: 200, Loss: 0.020908169895410538\n",
            "Epoch: 3, Iter: 300, Loss: 0.020549078702926635\n",
            "Epoch: 3, Iter: 400, Loss: 0.020463990956544876\n",
            "Epoch: 4, Iter: 100, Loss: 0.020669481217861177\n",
            "Epoch: 4, Iter: 200, Loss: 0.020637575089931488\n",
            "Epoch: 4, Iter: 300, Loss: 0.020430049881339073\n",
            "Epoch: 4, Iter: 400, Loss: 0.020609645381569862\n",
            "Epoch: 5, Iter: 100, Loss: 0.019697414010763168\n",
            "Epoch: 5, Iter: 200, Loss: 0.020384522058069707\n",
            "Epoch: 5, Iter: 300, Loss: 0.019866839982569218\n",
            "Epoch: 5, Iter: 400, Loss: 0.020148495376110076\n"
          ]
        }
      ]
    },
    {
      "cell_type": "markdown",
      "source": [
        "### 2. DeepConv_net64\n",
        "* 10개의 Convolution-layer & 2개의 fc-layer\n",
        "* 64 batch-size"
      ],
      "metadata": {
        "id": "FOUBE2UfKS6D"
      }
    },
    {
      "cell_type": "code",
      "source": [
        "for epoch in range(10):\n",
        "\n",
        "    running_loss = 0.0\n",
        "\n",
        "    for i, data in enumerate(train_loader64, start=0):\n",
        "        inputs, labels = data[0].to(device), data[1].to(device)\n",
        "\n",
        "        optimizerDC_64.zero_grad() # epoch마다 gradient 0으로 초기화\n",
        "\n",
        "        outputs = DeepConv_net64(inputs) # y_pred = f(X)\n",
        "        loss = criterion(outputs, labels) # CrossEntropyLoss; 0~1 사이값\n",
        "        loss.backward() # back-propagation; gradient 계산\n",
        "        optimizerDC_64.step() # parameters(weights) update\n",
        "\n",
        "        running_loss += loss.item() # 그냥 전체적인 비교를 위해 누적함\n",
        "\n",
        "        if i % 100 == 99: # 100번 마다 확인; epoch=10, iter(=i)=469, batch=64\n",
        "            print('Epoch: {}, Iter: {}, Loss: {}'.format(epoch+1, i+1, running_loss/2000))\n",
        "            running_loss = 0.0"
      ],
      "metadata": {
        "colab": {
          "base_uri": "https://localhost:8080/"
        },
        "id": "Q1znQlsWKS6D",
        "outputId": "311cd4cf-a94c-4537-ee08-7a3e694a9f3e"
      },
      "execution_count": null,
      "outputs": [
        {
          "output_type": "stream",
          "name": "stdout",
          "text": [
            "Epoch: 1, Iter: 100, Loss: 0.11527229690551757\n",
            "Epoch: 1, Iter: 200, Loss: 0.11515441501140594\n",
            "Epoch: 1, Iter: 300, Loss: 0.11511345624923706\n",
            "Epoch: 1, Iter: 400, Loss: 0.11513170278072357\n",
            "Epoch: 1, Iter: 500, Loss: 0.11511618387699127\n",
            "Epoch: 1, Iter: 600, Loss: 0.11510122919082641\n",
            "Epoch: 1, Iter: 700, Loss: 0.11508134067058563\n",
            "Epoch: 1, Iter: 800, Loss: 0.11507006788253785\n",
            "Epoch: 1, Iter: 900, Loss: 0.1150491874217987\n",
            "Epoch: 2, Iter: 100, Loss: 0.11498071479797363\n",
            "Epoch: 2, Iter: 200, Loss: 0.11484547090530396\n",
            "Epoch: 2, Iter: 300, Loss: 0.11443842911720276\n",
            "Epoch: 2, Iter: 400, Loss: 0.10696010142564774\n",
            "Epoch: 2, Iter: 500, Loss: 0.061338900238275526\n",
            "Epoch: 2, Iter: 600, Loss: 0.044300973385572436\n",
            "Epoch: 2, Iter: 700, Loss: 0.040856516003608706\n",
            "Epoch: 2, Iter: 800, Loss: 0.03759696885943413\n",
            "Epoch: 2, Iter: 900, Loss: 0.0386904756873846\n",
            "Epoch: 3, Iter: 100, Loss: 0.03791608250141144\n",
            "Epoch: 3, Iter: 200, Loss: 0.03576043739914894\n",
            "Epoch: 3, Iter: 300, Loss: 0.034834543973207475\n",
            "Epoch: 3, Iter: 400, Loss: 0.033700340390205384\n",
            "Epoch: 3, Iter: 500, Loss: 0.03281071428954601\n",
            "Epoch: 3, Iter: 600, Loss: 0.0316353937536478\n",
            "Epoch: 3, Iter: 700, Loss: 0.03133007411658764\n",
            "Epoch: 3, Iter: 800, Loss: 0.030772443644702434\n",
            "Epoch: 3, Iter: 900, Loss: 0.02995899087190628\n",
            "Epoch: 4, Iter: 100, Loss: 0.02948880337178707\n",
            "Epoch: 4, Iter: 200, Loss: 0.029879006356000902\n",
            "Epoch: 4, Iter: 300, Loss: 0.029562374383211135\n",
            "Epoch: 4, Iter: 400, Loss: 0.028373280718922617\n",
            "Epoch: 4, Iter: 500, Loss: 0.029217344909906386\n",
            "Epoch: 4, Iter: 600, Loss: 0.02842234340310097\n",
            "Epoch: 4, Iter: 700, Loss: 0.026938799023628234\n",
            "Epoch: 4, Iter: 800, Loss: 0.026765144288539888\n",
            "Epoch: 4, Iter: 900, Loss: 0.026830323070287706\n",
            "Epoch: 5, Iter: 100, Loss: 0.026050224244594574\n",
            "Epoch: 5, Iter: 200, Loss: 0.026704744458198548\n",
            "Epoch: 5, Iter: 300, Loss: 0.025862533658742904\n",
            "Epoch: 5, Iter: 400, Loss: 0.026839471340179444\n",
            "Epoch: 5, Iter: 500, Loss: 0.026259116664528848\n",
            "Epoch: 5, Iter: 600, Loss: 0.02561355023086071\n",
            "Epoch: 5, Iter: 700, Loss: 0.025619391426444052\n",
            "Epoch: 5, Iter: 800, Loss: 0.026093114763498307\n",
            "Epoch: 5, Iter: 900, Loss: 0.025536454260349273\n",
            "Epoch: 6, Iter: 100, Loss: 0.02491218553483486\n",
            "Epoch: 6, Iter: 200, Loss: 0.02396720977127552\n",
            "Epoch: 6, Iter: 300, Loss: 0.02606618893146515\n",
            "Epoch: 6, Iter: 400, Loss: 0.02465124702453613\n",
            "Epoch: 6, Iter: 500, Loss: 0.02415828613936901\n",
            "Epoch: 6, Iter: 600, Loss: 0.02409089559316635\n",
            "Epoch: 6, Iter: 700, Loss: 0.02361409491300583\n",
            "Epoch: 6, Iter: 800, Loss: 0.023899971716105937\n",
            "Epoch: 6, Iter: 900, Loss: 0.02387490136921406\n",
            "Epoch: 7, Iter: 100, Loss: 0.023678242206573486\n",
            "Epoch: 7, Iter: 200, Loss: 0.023815984666347503\n",
            "Epoch: 7, Iter: 300, Loss: 0.024063326977193357\n",
            "Epoch: 7, Iter: 400, Loss: 0.024324339807033538\n",
            "Epoch: 7, Iter: 500, Loss: 0.023730139061808587\n",
            "Epoch: 7, Iter: 600, Loss: 0.02211787310987711\n",
            "Epoch: 7, Iter: 700, Loss: 0.02362868422269821\n",
            "Epoch: 7, Iter: 800, Loss: 0.023189314745366573\n",
            "Epoch: 7, Iter: 900, Loss: 0.022827521190047263\n",
            "Epoch: 8, Iter: 100, Loss: 0.023314972057938577\n",
            "Epoch: 8, Iter: 200, Loss: 0.02224879002571106\n",
            "Epoch: 8, Iter: 300, Loss: 0.023035395964980124\n",
            "Epoch: 8, Iter: 400, Loss: 0.02191876807808876\n",
            "Epoch: 8, Iter: 500, Loss: 0.02263283161818981\n",
            "Epoch: 8, Iter: 600, Loss: 0.022050937928259372\n",
            "Epoch: 8, Iter: 700, Loss: 0.02167909021675587\n",
            "Epoch: 8, Iter: 800, Loss: 0.02322235020250082\n",
            "Epoch: 8, Iter: 900, Loss: 0.022209740161895752\n",
            "Epoch: 9, Iter: 100, Loss: 0.02117301297187805\n",
            "Epoch: 9, Iter: 200, Loss: 0.02168262743204832\n",
            "Epoch: 9, Iter: 300, Loss: 0.021348411299288272\n",
            "Epoch: 9, Iter: 400, Loss: 0.021468259386718272\n",
            "Epoch: 9, Iter: 500, Loss: 0.022174129389226437\n",
            "Epoch: 9, Iter: 600, Loss: 0.021676248013973234\n",
            "Epoch: 9, Iter: 700, Loss: 0.021859945841133595\n",
            "Epoch: 9, Iter: 800, Loss: 0.022503591008484362\n",
            "Epoch: 9, Iter: 900, Loss: 0.0218910603672266\n",
            "Epoch: 10, Iter: 100, Loss: 0.020501245476305486\n",
            "Epoch: 10, Iter: 200, Loss: 0.021746685072779656\n",
            "Epoch: 10, Iter: 300, Loss: 0.020865954779088498\n",
            "Epoch: 10, Iter: 400, Loss: 0.02128319375962019\n",
            "Epoch: 10, Iter: 500, Loss: 0.020997418865561484\n",
            "Epoch: 10, Iter: 600, Loss: 0.02104439526796341\n",
            "Epoch: 10, Iter: 700, Loss: 0.020731208302080632\n",
            "Epoch: 10, Iter: 800, Loss: 0.02103541339933872\n",
            "Epoch: 10, Iter: 900, Loss: 0.02102910651266575\n"
          ]
        }
      ]
    },
    {
      "cell_type": "markdown",
      "source": [
        "### 3. DeepFC_net128\n",
        "* 2개의 Convolution-layer & 5개의 fc-layer\n",
        "* 128 batch-size"
      ],
      "metadata": {
        "id": "LaVvtEOvKUgJ"
      }
    },
    {
      "cell_type": "code",
      "source": [
        "for epoch in range(10):\n",
        "\n",
        "    running_loss = 0.0\n",
        "\n",
        "    for i, data in enumerate(train_loader128, start=0):\n",
        "        inputs, labels = data[0].to(device), data[1].to(device)\n",
        "\n",
        "        optimizerFC_128.zero_grad() # epoch마다 gradient 0으로 초기화\n",
        "\n",
        "        outputs = DeepFC_net128(inputs) # y_pred = f(X)\n",
        "        loss = criterion(outputs, labels) # CrossEntropyLoss; 0~1 사이값\n",
        "        loss.backward() # back-propagation; gradient 계산\n",
        "        optimizerFC_128.step() # parameters(weights) update\n",
        "\n",
        "        running_loss += loss.item() # 그냥 전체적인 비교를 위해 누적함\n",
        "\n",
        "        if i % 100 == 99: # 100번 마다 확인; epoch=10, iter(=i)=469, batch=128\n",
        "            print('Epoch: {}, Iter: {}, Loss: {}'.format(epoch+1, i+1, running_loss/2000))\n",
        "            running_loss = 0.0"
      ],
      "metadata": {
        "colab": {
          "base_uri": "https://localhost:8080/"
        },
        "id": "Dwh9TK_1KUgK",
        "outputId": "e3ddbd12-5a5f-4083-9e66-85079124941c"
      },
      "execution_count": null,
      "outputs": [
        {
          "output_type": "stream",
          "name": "stdout",
          "text": [
            "Epoch: 1, Iter: 100, Loss: 0.1130304627418518\n",
            "Epoch: 1, Iter: 200, Loss: 0.08454804968833923\n",
            "Epoch: 1, Iter: 300, Loss: 0.044050616174936295\n",
            "Epoch: 1, Iter: 400, Loss: 0.03593054363131523\n",
            "Epoch: 2, Iter: 100, Loss: 0.031865703776478765\n",
            "Epoch: 2, Iter: 200, Loss: 0.03095705099403858\n",
            "Epoch: 2, Iter: 300, Loss: 0.029786112993955612\n",
            "Epoch: 2, Iter: 400, Loss: 0.029987931221723555\n",
            "Epoch: 3, Iter: 100, Loss: 0.027781368240714074\n",
            "Epoch: 3, Iter: 200, Loss: 0.027762889325618743\n",
            "Epoch: 3, Iter: 300, Loss: 0.026133304327726363\n",
            "Epoch: 3, Iter: 400, Loss: 0.026422998964786528\n",
            "Epoch: 4, Iter: 100, Loss: 0.024641820535063745\n",
            "Epoch: 4, Iter: 200, Loss: 0.025158520475029946\n",
            "Epoch: 4, Iter: 300, Loss: 0.024958019882440566\n",
            "Epoch: 4, Iter: 400, Loss: 0.024010824337601662\n",
            "Epoch: 5, Iter: 100, Loss: 0.02337187545746565\n",
            "Epoch: 5, Iter: 200, Loss: 0.02298364345729351\n",
            "Epoch: 5, Iter: 300, Loss: 0.02319069804251194\n",
            "Epoch: 5, Iter: 400, Loss: 0.02240691527724266\n",
            "Epoch: 6, Iter: 100, Loss: 0.02206097985804081\n",
            "Epoch: 6, Iter: 200, Loss: 0.021489302217960356\n",
            "Epoch: 6, Iter: 300, Loss: 0.02196789374947548\n",
            "Epoch: 6, Iter: 400, Loss: 0.021338955789804458\n",
            "Epoch: 7, Iter: 100, Loss: 0.020782204404473304\n",
            "Epoch: 7, Iter: 200, Loss: 0.02103782357275486\n",
            "Epoch: 7, Iter: 300, Loss: 0.021253113508224487\n",
            "Epoch: 7, Iter: 400, Loss: 0.020470543935894966\n",
            "Epoch: 8, Iter: 100, Loss: 0.02002848182618618\n",
            "Epoch: 8, Iter: 200, Loss: 0.020632799796760082\n",
            "Epoch: 8, Iter: 300, Loss: 0.02000352983176708\n",
            "Epoch: 8, Iter: 400, Loss: 0.02008324298262596\n",
            "Epoch: 9, Iter: 100, Loss: 0.02028037215769291\n",
            "Epoch: 9, Iter: 200, Loss: 0.019814363956451416\n",
            "Epoch: 9, Iter: 300, Loss: 0.01902379058301449\n",
            "Epoch: 9, Iter: 400, Loss: 0.019352158062160014\n",
            "Epoch: 10, Iter: 100, Loss: 0.019184893131256105\n",
            "Epoch: 10, Iter: 200, Loss: 0.019118589505553247\n",
            "Epoch: 10, Iter: 300, Loss: 0.018524903401732445\n",
            "Epoch: 10, Iter: 400, Loss: 0.019707398183643816\n"
          ]
        }
      ]
    },
    {
      "cell_type": "markdown",
      "source": [
        "### 4. DeepFC_net128\n",
        "* 2개의 Convolution-layer & 5개의 fc-layer\n",
        "* 64 batch-size"
      ],
      "metadata": {
        "id": "jRyyw49jKVhj"
      }
    },
    {
      "cell_type": "code",
      "source": [
        "for epoch in range(10):\n",
        "\n",
        "    running_loss = 0.0\n",
        "\n",
        "    for i, data in enumerate(train_loader64, start=0):\n",
        "        inputs, labels = data[0].to(device), data[1].to(device)\n",
        "\n",
        "        optimizerFC_64.zero_grad() # epoch마다 gradient 0으로 초기화\n",
        "\n",
        "        outputs = DeepFC_net64(inputs) # y_pred = f(X)\n",
        "        loss = criterion(outputs, labels) # CrossEntropyLoss; 0~1 사이값\n",
        "        loss.backward() # back-propagation; gradient 계산\n",
        "        optimizerFC_64.step() # parameters(weights) update\n",
        "\n",
        "        running_loss += loss.item() # 그냥 전체적인 비교를 위해 누적함\n",
        "\n",
        "        if i % 100 == 99: # 100번 마다 확인; epoch=10, iter(=i)=469, batch=64\n",
        "            print('Epoch: {}, Iter: {}, Loss: {}'.format(epoch+1, i+1, running_loss/2000))\n",
        "            running_loss = 0.0"
      ],
      "metadata": {
        "colab": {
          "base_uri": "https://localhost:8080/"
        },
        "id": "X3847V0dKVhk",
        "outputId": "8555bc23-bdc5-4b3f-acbf-e6c795d1c941"
      },
      "execution_count": null,
      "outputs": [
        {
          "output_type": "stream",
          "name": "stdout",
          "text": [
            "Epoch: 1, Iter: 100, Loss: 0.11341752910614014\n",
            "Epoch: 1, Iter: 200, Loss: 0.08624436622858048\n",
            "Epoch: 1, Iter: 300, Loss: 0.04695912748575211\n",
            "Epoch: 1, Iter: 400, Loss: 0.03733893659710884\n",
            "Epoch: 1, Iter: 500, Loss: 0.034216800764203074\n",
            "Epoch: 1, Iter: 600, Loss: 0.031607872635126114\n",
            "Epoch: 1, Iter: 700, Loss: 0.03201846146583557\n",
            "Epoch: 1, Iter: 800, Loss: 0.03006940048933029\n",
            "Epoch: 1, Iter: 900, Loss: 0.030014734596014024\n",
            "Epoch: 2, Iter: 100, Loss: 0.029170458257198335\n",
            "Epoch: 2, Iter: 200, Loss: 0.02803203198313713\n",
            "Epoch: 2, Iter: 300, Loss: 0.027533877015113832\n",
            "Epoch: 2, Iter: 400, Loss: 0.02788632610440254\n",
            "Epoch: 2, Iter: 500, Loss: 0.02679652354121208\n",
            "Epoch: 2, Iter: 600, Loss: 0.026043590888381006\n",
            "Epoch: 2, Iter: 700, Loss: 0.026572433575987816\n",
            "Epoch: 2, Iter: 800, Loss: 0.026692518398165704\n",
            "Epoch: 2, Iter: 900, Loss: 0.0246238377392292\n",
            "Epoch: 3, Iter: 100, Loss: 0.025253399327397348\n",
            "Epoch: 3, Iter: 200, Loss: 0.02441218987107277\n",
            "Epoch: 3, Iter: 300, Loss: 0.025158178046345712\n",
            "Epoch: 3, Iter: 400, Loss: 0.023690858773887158\n",
            "Epoch: 3, Iter: 500, Loss: 0.02374400170892477\n",
            "Epoch: 3, Iter: 600, Loss: 0.02331310651451349\n",
            "Epoch: 3, Iter: 700, Loss: 0.02339011113345623\n",
            "Epoch: 3, Iter: 800, Loss: 0.022934943459928036\n",
            "Epoch: 3, Iter: 900, Loss: 0.024115901589393616\n",
            "Epoch: 4, Iter: 100, Loss: 0.023831382401287557\n",
            "Epoch: 4, Iter: 200, Loss: 0.02238763442635536\n",
            "Epoch: 4, Iter: 300, Loss: 0.022451109379529953\n",
            "Epoch: 4, Iter: 400, Loss: 0.021976713821291925\n",
            "Epoch: 4, Iter: 500, Loss: 0.021597977213561534\n",
            "Epoch: 4, Iter: 600, Loss: 0.021784199200570585\n",
            "Epoch: 4, Iter: 700, Loss: 0.021436693616211415\n",
            "Epoch: 4, Iter: 800, Loss: 0.021300714142620563\n",
            "Epoch: 4, Iter: 900, Loss: 0.02198188478499651\n",
            "Epoch: 5, Iter: 100, Loss: 0.02114343336224556\n",
            "Epoch: 5, Iter: 200, Loss: 0.020464086636900903\n",
            "Epoch: 5, Iter: 300, Loss: 0.02095052181184292\n",
            "Epoch: 5, Iter: 400, Loss: 0.020728426225483418\n",
            "Epoch: 5, Iter: 500, Loss: 0.020576777510344983\n",
            "Epoch: 5, Iter: 600, Loss: 0.020509255528450013\n",
            "Epoch: 5, Iter: 700, Loss: 0.019970184229314326\n",
            "Epoch: 5, Iter: 800, Loss: 0.021549925737082958\n",
            "Epoch: 5, Iter: 900, Loss: 0.020592114016413688\n",
            "Epoch: 6, Iter: 100, Loss: 0.01957942133396864\n",
            "Epoch: 6, Iter: 200, Loss: 0.01982101475447416\n",
            "Epoch: 6, Iter: 300, Loss: 0.02025941913574934\n",
            "Epoch: 6, Iter: 400, Loss: 0.019869228385388852\n",
            "Epoch: 6, Iter: 500, Loss: 0.020439406894147395\n",
            "Epoch: 6, Iter: 600, Loss: 0.020303918816149236\n",
            "Epoch: 6, Iter: 700, Loss: 0.01905022831261158\n",
            "Epoch: 6, Iter: 800, Loss: 0.018445511527359487\n",
            "Epoch: 6, Iter: 900, Loss: 0.019600095570087434\n",
            "Epoch: 7, Iter: 100, Loss: 0.020103937730193137\n",
            "Epoch: 7, Iter: 200, Loss: 0.01853523162007332\n",
            "Epoch: 7, Iter: 300, Loss: 0.018561437517404557\n",
            "Epoch: 7, Iter: 400, Loss: 0.018566822245717048\n",
            "Epoch: 7, Iter: 500, Loss: 0.01967282557487488\n",
            "Epoch: 7, Iter: 600, Loss: 0.019046332120895387\n",
            "Epoch: 7, Iter: 700, Loss: 0.017783776134252548\n",
            "Epoch: 7, Iter: 800, Loss: 0.019663765631616117\n",
            "Epoch: 7, Iter: 900, Loss: 0.019192688778042793\n",
            "Epoch: 8, Iter: 100, Loss: 0.018773267962038518\n",
            "Epoch: 8, Iter: 200, Loss: 0.01868231225758791\n",
            "Epoch: 8, Iter: 300, Loss: 0.01794675751775503\n",
            "Epoch: 8, Iter: 400, Loss: 0.01831398379802704\n",
            "Epoch: 8, Iter: 500, Loss: 0.019018292233347892\n",
            "Epoch: 8, Iter: 600, Loss: 0.018092481687664985\n",
            "Epoch: 8, Iter: 700, Loss: 0.01842997018247843\n",
            "Epoch: 8, Iter: 800, Loss: 0.018806654304265976\n",
            "Epoch: 8, Iter: 900, Loss: 0.01764299078285694\n",
            "Epoch: 9, Iter: 100, Loss: 0.01849067057669163\n",
            "Epoch: 9, Iter: 200, Loss: 0.017693539179861547\n",
            "Epoch: 9, Iter: 300, Loss: 0.017705738939344882\n",
            "Epoch: 9, Iter: 400, Loss: 0.01826996275782585\n",
            "Epoch: 9, Iter: 500, Loss: 0.018181195929646492\n",
            "Epoch: 9, Iter: 600, Loss: 0.017983444906771184\n",
            "Epoch: 9, Iter: 700, Loss: 0.017749167859554292\n",
            "Epoch: 9, Iter: 800, Loss: 0.017799358755350114\n",
            "Epoch: 9, Iter: 900, Loss: 0.017934339933097364\n",
            "Epoch: 10, Iter: 100, Loss: 0.017550891101360322\n",
            "Epoch: 10, Iter: 200, Loss: 0.01669017256051302\n",
            "Epoch: 10, Iter: 300, Loss: 0.017566876973956824\n",
            "Epoch: 10, Iter: 400, Loss: 0.01854327070713043\n",
            "Epoch: 10, Iter: 500, Loss: 0.018522795557975768\n",
            "Epoch: 10, Iter: 600, Loss: 0.01708148891478777\n",
            "Epoch: 10, Iter: 700, Loss: 0.018532516457140446\n",
            "Epoch: 10, Iter: 800, Loss: 0.016533902630209922\n",
            "Epoch: 10, Iter: 900, Loss: 0.01760387658327818\n"
          ]
        }
      ]
    },
    {
      "cell_type": "markdown",
      "metadata": {
        "id": "5IecfHZiI09W"
      },
      "source": [
        "## 모델 테스트"
      ]
    },
    {
      "cell_type": "code",
      "source": [
        "# 전체 test 데이터에 대해서 성능 확인\n",
        "\n",
        "correct_list = [0]*4\n",
        "total_list = [0]*4\n",
        "a = -1\n",
        "\n",
        "model_list = {'DeepConv' : [DeepConv_net128, DeepConv_net64],\n",
        "              'DeepFC' : [DeepFC_net128, DeepFC_net64]}\n",
        "data_list = [test_loader128, test_loader64]\n",
        "\n",
        "with torch.no_grad(): # grad가 필요없다.\n",
        "\n",
        "    for key in model_list:\n",
        "        for idx in range(len(model_list[key])):\n",
        "            a += 1\n",
        "            model = model_list[key][idx]\n",
        "            data_loader = data_list[idx]\n",
        "            for data in data_loader:\n",
        "                images, labels = data[0].to(device), data[1].to(device)\n",
        "\n",
        "                outputs = model(images)\n",
        "                _, predicted = torch.max(outputs.data, 1)\n",
        "\n",
        "                total_list[a] += labels.size(0)\n",
        "                correct_list[a] += (predicted == labels).sum().item()\n",
        "            \n",
        "correct_rate = np.array(correct_list) / np.array(total_list)\n",
        "model_name = ['DeepConv_net128', 'DeepConv_net64', 'DeepFC_net128', 'DeepFC_net64']\n",
        "\n",
        "for i in range(len(correct_rate)):\n",
        "    print('{0} : {1}'.format(model_name[i], correct_rate[i]))"
      ],
      "metadata": {
        "colab": {
          "base_uri": "https://localhost:8080/"
        },
        "id": "VjVs_iS0rlof",
        "outputId": "a78f2263-0442-4fb7-ff38-006db22432e5"
      },
      "execution_count": null,
      "outputs": [
        {
          "output_type": "stream",
          "name": "stdout",
          "text": [
            "DeepConv_net128 : 0.8405\n",
            "DeepConv_net64 : 0.8499\n",
            "DeepFC_net128 : 0.8613\n",
            "DeepFC_net64 : 0.8705\n"
          ]
        }
      ]
    },
    {
      "cell_type": "markdown",
      "source": [
        "# FashionMNIST 분류 모델 중 성능이 낮은 모델 이유 확인"
      ],
      "metadata": {
        "id": "SZcZQv4PGeYv"
      }
    },
    {
      "cell_type": "markdown",
      "source": [
        "## Convolution-layer를 하나씩 추가하면서, 성능변화를 관찰"
      ],
      "metadata": {
        "id": "V7HoLqroDhyF"
      }
    },
    {
      "cell_type": "markdown",
      "source": [
        "### 3개의 convolution-layer 사용시"
      ],
      "metadata": {
        "id": "_civVcIYBGxA"
      }
    },
    {
      "cell_type": "code",
      "source": [
        "class CNN_Model3(nn.Module):\n",
        "    def __init__(self):\n",
        "        super(CNN_Model3, self).__init__()\n",
        "\n",
        "        self.conv1 = nn.Conv2d(in_channels=1, out_channels=5, kernel_size=3, stride=1, padding=2)\n",
        "        self.conv2 = nn.Conv2d(5, 7, 3, padding=1)\n",
        "        self.conv3 = nn.Conv2d(7, 16, 2, padding=1)\n",
        "\n",
        "        self.fc1 = nn.Linear(16* 16 * 16, 3000)\n",
        "        self.fc2 = nn.Linear(3000, 1500)\n",
        "        self.fc3 = nn.Linear(1500, 20 * 3 * 3)\n",
        "        self.fc4 = nn.Linear(20 * 3 * 3, 86)\n",
        "        self.fc5 = nn.Linear(86, 10) # 10 : 10개의 category\n",
        "\n",
        "    def forward(self, x):\n",
        "        x = F.relu(self.conv1(x))\n",
        "        x = F.max_pool2d(x, (2,2))\n",
        "        x = F.relu(self.conv2(x))\n",
        "        x = F.relu(self.conv3(x))\n",
        "\n",
        "        x = x.view(-1, self.num_flat_features(x)) # num_flat_features : 아래에서 정의\n",
        "\n",
        "        x = F.relu(self.fc1(x))\n",
        "        x = F.relu(self.fc2(x))\n",
        "        x = F.relu(self.fc3(x))\n",
        "        x = F.relu(self.fc4(x))\n",
        "        x = self.fc5(x)\n",
        "\n",
        "        return x\n",
        "    \n",
        "    def num_flat_features(self, x): # 처음 dim-size을 제외하고, 모두 곱한 값을 반환해준다.\n",
        "        size = x.size()[1:]\n",
        "        num_features = 1\n",
        "        for s in size:\n",
        "            num_features *= s\n",
        "        \n",
        "        return num_features"
      ],
      "metadata": {
        "id": "29zvOdhT-fwY"
      },
      "execution_count": null,
      "outputs": []
    },
    {
      "cell_type": "code",
      "source": [
        "# 모델객체 생성\n",
        "new_model = CNN_Model3().to(device)\n",
        "\n",
        "print(new_model)"
      ],
      "metadata": {
        "colab": {
          "base_uri": "https://localhost:8080/"
        },
        "outputId": "81fd2ffd-adf8-4eb6-983c-841736871bcc",
        "id": "t81gXZmz-fwY"
      },
      "execution_count": null,
      "outputs": [
        {
          "output_type": "stream",
          "name": "stdout",
          "text": [
            "CNN_Model3(\n",
            "  (conv1): Conv2d(1, 5, kernel_size=(3, 3), stride=(1, 1), padding=(2, 2))\n",
            "  (conv2): Conv2d(5, 7, kernel_size=(3, 3), stride=(1, 1), padding=(1, 1))\n",
            "  (conv3): Conv2d(7, 16, kernel_size=(2, 2), stride=(1, 1), padding=(1, 1))\n",
            "  (fc1): Linear(in_features=4096, out_features=3000, bias=True)\n",
            "  (fc2): Linear(in_features=3000, out_features=1500, bias=True)\n",
            "  (fc3): Linear(in_features=1500, out_features=180, bias=True)\n",
            "  (fc4): Linear(in_features=180, out_features=86, bias=True)\n",
            "  (fc5): Linear(in_features=86, out_features=10, bias=True)\n",
            ")\n"
          ]
        }
      ]
    },
    {
      "cell_type": "code",
      "source": [
        "summary(new_model, input_size=(1, 28, 28), batch_size=128)"
      ],
      "metadata": {
        "colab": {
          "base_uri": "https://localhost:8080/"
        },
        "id": "Bb2EkGUbBnuM",
        "outputId": "62bae2a4-dd47-40c9-90ab-df7c997b0c39"
      },
      "execution_count": null,
      "outputs": [
        {
          "output_type": "stream",
          "name": "stdout",
          "text": [
            "----------------------------------------------------------------\n",
            "        Layer (type)               Output Shape         Param #\n",
            "================================================================\n",
            "            Conv2d-1           [128, 5, 30, 30]              50\n",
            "            Conv2d-2           [128, 7, 15, 15]             322\n",
            "            Conv2d-3          [128, 16, 16, 16]             464\n",
            "            Linear-4                [128, 3000]      12,291,000\n",
            "            Linear-5                [128, 1500]       4,501,500\n",
            "            Linear-6                 [128, 180]         270,180\n",
            "            Linear-7                  [128, 86]          15,566\n",
            "            Linear-8                  [128, 10]             870\n",
            "================================================================\n",
            "Total params: 17,079,952\n",
            "Trainable params: 17,079,952\n",
            "Non-trainable params: 0\n",
            "----------------------------------------------------------------\n",
            "Input size (MB): 0.38\n",
            "Forward/backward pass size (MB): 14.60\n",
            "Params size (MB): 65.15\n",
            "Estimated Total Size (MB): 80.13\n",
            "----------------------------------------------------------------\n"
          ]
        }
      ]
    },
    {
      "cell_type": "code",
      "source": [
        "optimizer = optim.SGD(new_model.parameters(), lr=0.001, momentum=0.9)"
      ],
      "metadata": {
        "id": "aQDT4bYIBsZl"
      },
      "execution_count": null,
      "outputs": []
    },
    {
      "cell_type": "code",
      "source": [
        "for epoch in range(10):\n",
        "\n",
        "    running_loss = 0.0\n",
        "\n",
        "    for i, data in enumerate(train_loader128, start=0):\n",
        "        inputs, labels = data[0].to(device), data[1].to(device)\n",
        "\n",
        "        optimizer.zero_grad() # epoch마다 gradient 0으로 초기화\n",
        "\n",
        "        outputs = new_model(inputs) # y_pred = f(X)\n",
        "        loss = criterion(outputs, labels) # CrossEntropyLoss; 0~1 사이값\n",
        "        loss.backward() # back-propagation; gradient 계산\n",
        "        optimizer.step() # parameters(weights) update\n",
        "\n",
        "        running_loss += loss.item() # 그냥 전체적인 비교를 위해 누적함\n",
        "\n",
        "        if i % 100 == 99: # 100번 마다 확인; epoch=10, iter(=i)=469, batch=128\n",
        "            print('Epoch: {}, Iter: {}, Loss: {}'.format(epoch+1, i+1, running_loss/2000))\n",
        "            running_loss = 0.0"
      ],
      "metadata": {
        "colab": {
          "base_uri": "https://localhost:8080/"
        },
        "id": "D6GqkR8nBwhH",
        "outputId": "1cef0f64-741d-4008-a3f3-9595328b7d4d"
      },
      "execution_count": null,
      "outputs": [
        {
          "output_type": "stream",
          "name": "stdout",
          "text": [
            "Epoch: 1, Iter: 100, Loss: 0.11527096271514893\n",
            "Epoch: 1, Iter: 200, Loss: 0.1151740483045578\n",
            "Epoch: 1, Iter: 300, Loss: 0.11507172644138336\n",
            "Epoch: 1, Iter: 400, Loss: 0.11505967688560485\n",
            "Epoch: 2, Iter: 100, Loss: 0.11501594960689544\n",
            "Epoch: 2, Iter: 200, Loss: 0.11496127820014954\n",
            "Epoch: 2, Iter: 300, Loss: 0.11491498506069184\n",
            "Epoch: 2, Iter: 400, Loss: 0.11486004757881164\n",
            "Epoch: 3, Iter: 100, Loss: 0.11467908000946045\n",
            "Epoch: 3, Iter: 200, Loss: 0.11449542546272277\n",
            "Epoch: 3, Iter: 300, Loss: 0.1141676561832428\n",
            "Epoch: 3, Iter: 400, Loss: 0.11351825761795044\n",
            "Epoch: 4, Iter: 100, Loss: 0.10639093631505966\n",
            "Epoch: 4, Iter: 200, Loss: 0.069286561191082\n",
            "Epoch: 4, Iter: 300, Loss: 0.044438306599855426\n",
            "Epoch: 4, Iter: 400, Loss: 0.03865900439023971\n",
            "Epoch: 5, Iter: 100, Loss: 0.034356672435998915\n",
            "Epoch: 5, Iter: 200, Loss: 0.03229566314816475\n",
            "Epoch: 5, Iter: 300, Loss: 0.031600719660520554\n",
            "Epoch: 5, Iter: 400, Loss: 0.030620367392897606\n",
            "Epoch: 6, Iter: 100, Loss: 0.03053821313381195\n",
            "Epoch: 6, Iter: 200, Loss: 0.02869279146194458\n",
            "Epoch: 6, Iter: 300, Loss: 0.028065473586320878\n",
            "Epoch: 6, Iter: 400, Loss: 0.027454395294189454\n",
            "Epoch: 7, Iter: 100, Loss: 0.02782447509467602\n",
            "Epoch: 7, Iter: 200, Loss: 0.02654048003256321\n",
            "Epoch: 7, Iter: 300, Loss: 0.026922109335660936\n",
            "Epoch: 7, Iter: 400, Loss: 0.024983323559165\n",
            "Epoch: 8, Iter: 100, Loss: 0.02459272737801075\n",
            "Epoch: 8, Iter: 200, Loss: 0.025338820397853852\n",
            "Epoch: 8, Iter: 300, Loss: 0.025728975579142572\n",
            "Epoch: 8, Iter: 400, Loss: 0.02443733996152878\n",
            "Epoch: 9, Iter: 100, Loss: 0.02340439224243164\n",
            "Epoch: 9, Iter: 200, Loss: 0.023180209904909134\n",
            "Epoch: 9, Iter: 300, Loss: 0.0230750779658556\n",
            "Epoch: 9, Iter: 400, Loss: 0.02233323623239994\n",
            "Epoch: 10, Iter: 100, Loss: 0.02222005444765091\n",
            "Epoch: 10, Iter: 200, Loss: 0.021669040843844415\n",
            "Epoch: 10, Iter: 300, Loss: 0.021584815368056297\n",
            "Epoch: 10, Iter: 400, Loss: 0.02074129632115364\n"
          ]
        }
      ]
    },
    {
      "cell_type": "code",
      "source": [
        "correct = 0\n",
        "total = 0\n",
        "\n",
        "with torch.no_grad():\n",
        "    for data in test_loader128:\n",
        "        images, labels = data[0].to(device), data[1].to(device)\n",
        "        outputs = new_model(images)\n",
        "        _, predicted = torch.max(outputs.data, axis=1)\n",
        "        total += labels.size(0)\n",
        "        correct += (predicted == labels).sum().item()\n",
        "    \n",
        "    print(100 * correct / total)"
      ],
      "metadata": {
        "colab": {
          "base_uri": "https://localhost:8080/"
        },
        "id": "1PDu2v9bB_NE",
        "outputId": "a13f6830-d429-4964-8f21-093a1dab76d0"
      },
      "execution_count": null,
      "outputs": [
        {
          "output_type": "stream",
          "name": "stdout",
          "text": [
            "83.67\n"
          ]
        }
      ]
    },
    {
      "cell_type": "markdown",
      "source": [
        "### 4개의 convolution-layer 사용시"
      ],
      "metadata": {
        "id": "7Thu9NRyCV7j"
      }
    },
    {
      "cell_type": "code",
      "source": [
        "class CNN_Model4(nn.Module):\n",
        "    def __init__(self):\n",
        "        super(CNN_Model4, self).__init__()\n",
        "\n",
        "        self.conv1 = nn.Conv2d(in_channels=1, out_channels=5, kernel_size=3, stride=1, padding=2)\n",
        "        self.conv2 = nn.Conv2d(5, 7, 3, padding=1)\n",
        "        self.conv3 = nn.Conv2d(7, 16, 2, padding=1)\n",
        "        self.conv4 = nn.Conv2d(16, 19, 2)\n",
        "\n",
        "        self.fc1 = nn.Linear(15* 15 * 19, 3000)\n",
        "        self.fc2 = nn.Linear(3000, 1500)\n",
        "        self.fc3 = nn.Linear(1500, 20 * 3 * 3)\n",
        "        self.fc4 = nn.Linear(20 * 3 * 3, 86)\n",
        "        self.fc5 = nn.Linear(86, 10) # 10 : 10개의 category\n",
        "\n",
        "    def forward(self, x):\n",
        "        x = F.relu(self.conv1(x))\n",
        "        x = F.max_pool2d(x, (2,2))\n",
        "        x = F.relu(self.conv2(x))\n",
        "        x = F.relu(self.conv3(x))\n",
        "        x = F.relu(self.conv4(x))\n",
        "\n",
        "        x = x.view(-1, self.num_flat_features(x)) # num_flat_features : 아래에서 정의\n",
        "\n",
        "        x = F.relu(self.fc1(x))\n",
        "        x = F.relu(self.fc2(x))\n",
        "        x = F.relu(self.fc3(x))\n",
        "        x = F.relu(self.fc4(x))\n",
        "        x = self.fc5(x)\n",
        "\n",
        "        return x\n",
        "    \n",
        "    def num_flat_features(self, x): # 처음 dim-size을 제외하고, 모두 곱한 값을 반환해준다.\n",
        "        size = x.size()[1:]\n",
        "        num_features = 1\n",
        "        for s in size:\n",
        "            num_features *= s\n",
        "        \n",
        "        return num_features"
      ],
      "metadata": {
        "id": "V9PQvGFPCV7k"
      },
      "execution_count": null,
      "outputs": []
    },
    {
      "cell_type": "code",
      "source": [
        "# 모델객체 생성\n",
        "new_model = CNN_Model4().to(device)\n",
        "\n",
        "print(new_model)"
      ],
      "metadata": {
        "colab": {
          "base_uri": "https://localhost:8080/"
        },
        "outputId": "bd72c94a-ac44-46d7-fabb-7ddaa446306f",
        "id": "HNAL7SRZCV7k"
      },
      "execution_count": null,
      "outputs": [
        {
          "output_type": "stream",
          "name": "stdout",
          "text": [
            "CNN_Model4(\n",
            "  (conv1): Conv2d(1, 5, kernel_size=(3, 3), stride=(1, 1), padding=(2, 2))\n",
            "  (conv2): Conv2d(5, 7, kernel_size=(3, 3), stride=(1, 1), padding=(1, 1))\n",
            "  (conv3): Conv2d(7, 16, kernel_size=(2, 2), stride=(1, 1), padding=(1, 1))\n",
            "  (conv4): Conv2d(16, 19, kernel_size=(2, 2), stride=(1, 1))\n",
            "  (fc1): Linear(in_features=4275, out_features=3000, bias=True)\n",
            "  (fc2): Linear(in_features=3000, out_features=1500, bias=True)\n",
            "  (fc3): Linear(in_features=1500, out_features=180, bias=True)\n",
            "  (fc4): Linear(in_features=180, out_features=86, bias=True)\n",
            "  (fc5): Linear(in_features=86, out_features=10, bias=True)\n",
            ")\n"
          ]
        }
      ]
    },
    {
      "cell_type": "code",
      "source": [
        "summary(new_model, input_size=(1, 28, 28), batch_size=128)"
      ],
      "metadata": {
        "colab": {
          "base_uri": "https://localhost:8080/"
        },
        "outputId": "e6708fd6-4c1e-46f9-9d8b-2d5226ba169d",
        "id": "fHmIarJBCV7k"
      },
      "execution_count": null,
      "outputs": [
        {
          "output_type": "stream",
          "name": "stdout",
          "text": [
            "----------------------------------------------------------------\n",
            "        Layer (type)               Output Shape         Param #\n",
            "================================================================\n",
            "            Conv2d-1           [128, 5, 30, 30]              50\n",
            "            Conv2d-2           [128, 7, 15, 15]             322\n",
            "            Conv2d-3          [128, 16, 16, 16]             464\n",
            "            Conv2d-4          [128, 19, 15, 15]           1,235\n",
            "            Linear-5                [128, 3000]      12,828,000\n",
            "            Linear-6                [128, 1500]       4,501,500\n",
            "            Linear-7                 [128, 180]         270,180\n",
            "            Linear-8                  [128, 86]          15,566\n",
            "            Linear-9                  [128, 10]             870\n",
            "================================================================\n",
            "Total params: 17,618,187\n",
            "Trainable params: 17,618,187\n",
            "Non-trainable params: 0\n",
            "----------------------------------------------------------------\n",
            "Input size (MB): 0.38\n",
            "Forward/backward pass size (MB): 18.77\n",
            "Params size (MB): 67.21\n",
            "Estimated Total Size (MB): 86.36\n",
            "----------------------------------------------------------------\n"
          ]
        }
      ]
    },
    {
      "cell_type": "code",
      "source": [
        "optimizer = optim.SGD(new_model.parameters(), lr=0.001, momentum=0.9)"
      ],
      "metadata": {
        "id": "z6gegPTRCV7k"
      },
      "execution_count": null,
      "outputs": []
    },
    {
      "cell_type": "code",
      "source": [
        "for epoch in range(10):\n",
        "\n",
        "    running_loss = 0.0\n",
        "\n",
        "    for i, data in enumerate(train_loader128, start=0):\n",
        "        inputs, labels = data[0].to(device), data[1].to(device)\n",
        "\n",
        "        optimizer.zero_grad() # epoch마다 gradient 0으로 초기화\n",
        "\n",
        "        outputs = new_model(inputs) # y_pred = f(X)\n",
        "        loss = criterion(outputs, labels) # CrossEntropyLoss; 0~1 사이값\n",
        "        loss.backward() # back-propagation; gradient 계산\n",
        "        optimizer.step() # parameters(weights) update\n",
        "\n",
        "        running_loss += loss.item() # 그냥 전체적인 비교를 위해 누적함\n",
        "\n",
        "        if i % 100 == 99: # 100번 마다 확인; epoch=10, iter(=i)=469, batch=128\n",
        "            print('Epoch: {}, Iter: {}, Loss: {}'.format(epoch+1, i+1, running_loss/2000))\n",
        "            running_loss = 0.0"
      ],
      "metadata": {
        "colab": {
          "base_uri": "https://localhost:8080/"
        },
        "outputId": "18b437ca-4b1c-4215-c7df-684c67e658bf",
        "id": "oeeKVQdKCV7k"
      },
      "execution_count": null,
      "outputs": [
        {
          "output_type": "stream",
          "name": "stdout",
          "text": [
            "Epoch: 1, Iter: 100, Loss: 0.11522567594051361\n",
            "Epoch: 1, Iter: 200, Loss: 0.11517291831970215\n",
            "Epoch: 1, Iter: 300, Loss: 0.1151488116979599\n",
            "Epoch: 1, Iter: 400, Loss: 0.11516111755371093\n",
            "Epoch: 2, Iter: 100, Loss: 0.11510919868946075\n",
            "Epoch: 2, Iter: 200, Loss: 0.11510135507583619\n",
            "Epoch: 2, Iter: 300, Loss: 0.11505622065067292\n",
            "Epoch: 2, Iter: 400, Loss: 0.11504484713077545\n",
            "Epoch: 3, Iter: 100, Loss: 0.11501442670822143\n",
            "Epoch: 3, Iter: 200, Loss: 0.11497091031074524\n",
            "Epoch: 3, Iter: 300, Loss: 0.11493080151081085\n",
            "Epoch: 3, Iter: 400, Loss: 0.11487099969387055\n",
            "Epoch: 4, Iter: 100, Loss: 0.114682510972023\n",
            "Epoch: 4, Iter: 200, Loss: 0.11443778693675995\n",
            "Epoch: 4, Iter: 300, Loss: 0.11391491031646729\n",
            "Epoch: 4, Iter: 400, Loss: 0.11244672656059265\n",
            "Epoch: 5, Iter: 100, Loss: 0.07748143881559372\n",
            "Epoch: 5, Iter: 200, Loss: 0.04573566341400147\n",
            "Epoch: 5, Iter: 300, Loss: 0.037327832847833635\n",
            "Epoch: 5, Iter: 400, Loss: 0.03450916884839535\n",
            "Epoch: 6, Iter: 100, Loss: 0.03288967414200306\n",
            "Epoch: 6, Iter: 200, Loss: 0.03140804848074913\n",
            "Epoch: 6, Iter: 300, Loss: 0.030303083553910256\n",
            "Epoch: 6, Iter: 400, Loss: 0.029921117901802064\n",
            "Epoch: 7, Iter: 100, Loss: 0.029075585782527922\n",
            "Epoch: 7, Iter: 200, Loss: 0.02862851846218109\n",
            "Epoch: 7, Iter: 300, Loss: 0.02717459210753441\n",
            "Epoch: 7, Iter: 400, Loss: 0.027504344537854195\n",
            "Epoch: 8, Iter: 100, Loss: 0.025991251289844513\n",
            "Epoch: 8, Iter: 200, Loss: 0.026731394708156584\n",
            "Epoch: 8, Iter: 300, Loss: 0.025822785943746568\n",
            "Epoch: 8, Iter: 400, Loss: 0.024467938423156737\n",
            "Epoch: 9, Iter: 100, Loss: 0.025062966838479042\n",
            "Epoch: 9, Iter: 200, Loss: 0.025110761746764184\n",
            "Epoch: 9, Iter: 300, Loss: 0.024051258012652395\n",
            "Epoch: 9, Iter: 400, Loss: 0.022752555370330812\n",
            "Epoch: 10, Iter: 100, Loss: 0.023631860703229902\n",
            "Epoch: 10, Iter: 200, Loss: 0.023891636595129967\n",
            "Epoch: 10, Iter: 300, Loss: 0.02327515494823456\n",
            "Epoch: 10, Iter: 400, Loss: 0.02236403125524521\n"
          ]
        }
      ]
    },
    {
      "cell_type": "code",
      "source": [
        "correct = 0\n",
        "total = 0\n",
        "\n",
        "with torch.no_grad():\n",
        "    for data in test_loader128:\n",
        "        images, labels = data[0].to(device), data[1].to(device)\n",
        "        outputs = new_model(images)\n",
        "        _, predicted = torch.max(outputs.data, axis=1)\n",
        "        total += labels.size(0)\n",
        "        correct += (predicted == labels).sum().item()\n",
        "    \n",
        "    print(100 * correct / total)"
      ],
      "metadata": {
        "colab": {
          "base_uri": "https://localhost:8080/"
        },
        "id": "w3uuDeS_CV7k",
        "outputId": "071a6b96-be72-495a-95b8-e5ec7683caa7"
      },
      "execution_count": null,
      "outputs": [
        {
          "output_type": "stream",
          "name": "stdout",
          "text": [
            "83.41\n"
          ]
        }
      ]
    },
    {
      "cell_type": "markdown",
      "source": [
        "### 5개의 convolution-layer 사용시"
      ],
      "metadata": {
        "id": "kuP_3_DyD42p"
      }
    },
    {
      "cell_type": "code",
      "source": [
        "class CNN_Model5(nn.Module):\n",
        "    def __init__(self):\n",
        "        super(CNN_Model5, self).__init__()\n",
        "\n",
        "        self.conv1 = nn.Conv2d(in_channels=1, out_channels=5, kernel_size=3, stride=1, padding=2)\n",
        "        self.conv2 = nn.Conv2d(5, 7, 3, padding=1)      \n",
        "        self.conv3 = nn.Conv2d(7, 16, 2, padding=1)\n",
        "        self.conv4 = nn.Conv2d(16, 19, 2)\n",
        "        self.conv5 = nn.Conv2d(19, 29, 3)\n",
        "\n",
        "        self.fc1 = nn.Linear(29 * 13 * 13, 100)\n",
        "        self.fc2 = nn.Linear(100, 50)\n",
        "        self.fc3 = nn.Linear(50, 25)\n",
        "        self.fc4 = nn.Linear(25, 10) # 10 : 10개의 category\n",
        "\n",
        "    def forward(self, x):\n",
        "        x = F.relu(self.conv1(x))\n",
        "        x = F.max_pool2d(x, (2,2))\n",
        "        x = F.relu(self.conv2(x))\n",
        "        x = F.relu(self.conv3(x))\n",
        "        x = F.relu(self.conv4(x))\n",
        "        x = F.relu(self.conv5(x))\n",
        "\n",
        "        x = x.view(-1, self.num_flat_features(x)) # num_flat_features : 아래에서 정의\n",
        "\n",
        "        x = F.relu(self.fc1(x))\n",
        "        x = F.relu(self.fc2(x))\n",
        "        x = F.relu(self.fc3(x))\n",
        "        x = self.fc4(x)\n",
        "\n",
        "        return x\n",
        "    \n",
        "    def num_flat_features(self, x): # 처음 dim-size을 제외하고, 모두 곱한 값을 반환해준다.\n",
        "        size = x.size()[1:]\n",
        "        num_features = 1\n",
        "        for s in size:\n",
        "            num_features *= s\n",
        "        \n",
        "        return num_features"
      ],
      "metadata": {
        "id": "Bk1u7iloD42q"
      },
      "execution_count": null,
      "outputs": []
    },
    {
      "cell_type": "code",
      "source": [
        "# 모델객체 생성\n",
        "new_model = CNN_Model5().to(device)\n",
        "\n",
        "print(new_model)"
      ],
      "metadata": {
        "colab": {
          "base_uri": "https://localhost:8080/"
        },
        "outputId": "87f37010-fb10-458e-97cf-2e7d72eae3a5",
        "id": "GPoNB-4vD42q"
      },
      "execution_count": null,
      "outputs": [
        {
          "output_type": "stream",
          "name": "stdout",
          "text": [
            "CNN_Model5(\n",
            "  (conv1): Conv2d(1, 5, kernel_size=(3, 3), stride=(1, 1), padding=(2, 2))\n",
            "  (conv2): Conv2d(5, 7, kernel_size=(3, 3), stride=(1, 1), padding=(1, 1))\n",
            "  (conv3): Conv2d(7, 16, kernel_size=(2, 2), stride=(1, 1), padding=(1, 1))\n",
            "  (conv4): Conv2d(16, 19, kernel_size=(2, 2), stride=(1, 1))\n",
            "  (conv5): Conv2d(19, 29, kernel_size=(3, 3), stride=(1, 1))\n",
            "  (fc1): Linear(in_features=4901, out_features=100, bias=True)\n",
            "  (fc2): Linear(in_features=100, out_features=50, bias=True)\n",
            "  (fc3): Linear(in_features=50, out_features=25, bias=True)\n",
            "  (fc4): Linear(in_features=25, out_features=10, bias=True)\n",
            ")\n"
          ]
        }
      ]
    },
    {
      "cell_type": "code",
      "source": [
        "summary(new_model, input_size=(1, 28, 28), batch_size=128)"
      ],
      "metadata": {
        "colab": {
          "base_uri": "https://localhost:8080/"
        },
        "outputId": "dd278f19-1345-41b1-f632-a71e95ae204f",
        "id": "aDvnyPw6D42q"
      },
      "execution_count": null,
      "outputs": [
        {
          "output_type": "stream",
          "name": "stdout",
          "text": [
            "----------------------------------------------------------------\n",
            "        Layer (type)               Output Shape         Param #\n",
            "================================================================\n",
            "            Conv2d-1           [128, 5, 30, 30]              50\n",
            "            Conv2d-2           [128, 7, 15, 15]             322\n",
            "            Conv2d-3          [128, 16, 16, 16]             464\n",
            "            Conv2d-4          [128, 19, 15, 15]           1,235\n",
            "            Conv2d-5          [128, 29, 13, 13]           4,988\n",
            "            Linear-6                 [128, 100]         490,200\n",
            "            Linear-7                  [128, 50]           5,050\n",
            "            Linear-8                  [128, 25]           1,275\n",
            "            Linear-9                  [128, 10]             260\n",
            "================================================================\n",
            "Total params: 503,844\n",
            "Trainable params: 503,844\n",
            "Non-trainable params: 0\n",
            "----------------------------------------------------------------\n",
            "Input size (MB): 0.38\n",
            "Forward/backward pass size (MB): 19.07\n",
            "Params size (MB): 1.92\n",
            "Estimated Total Size (MB): 21.38\n",
            "----------------------------------------------------------------\n"
          ]
        }
      ]
    },
    {
      "cell_type": "code",
      "source": [
        "optimizer = optim.SGD(new_model.parameters(), lr=0.001, momentum=0.9)"
      ],
      "metadata": {
        "id": "QmOiVQDLD42q"
      },
      "execution_count": null,
      "outputs": []
    },
    {
      "cell_type": "code",
      "source": [
        "for epoch in range(10):\n",
        "\n",
        "    running_loss = 0.0\n",
        "\n",
        "    for i, data in enumerate(train_loader128, start=0):\n",
        "        inputs, labels = data[0].to(device), data[1].to(device)\n",
        "\n",
        "        optimizer.zero_grad() # epoch마다 gradient 0으로 초기화\n",
        "\n",
        "        outputs = new_model(inputs) # y_pred = f(X)\n",
        "        loss = criterion(outputs, labels) # CrossEntropyLoss; 0~1 사이값\n",
        "        loss.backward() # back-propagation; gradient 계산\n",
        "        optimizer.step() # parameters(weights) update\n",
        "\n",
        "        running_loss += loss.item() # 그냥 전체적인 비교를 위해 누적함\n",
        "\n",
        "        if i % 100 == 99: # 100번 마다 확인; epoch=10, iter(=i)=469, batch=128\n",
        "            print('Epoch: {}, Iter: {}, Loss: {}'.format(epoch+1, i+1, running_loss/2000))\n",
        "            running_loss = 0.0"
      ],
      "metadata": {
        "colab": {
          "base_uri": "https://localhost:8080/"
        },
        "outputId": "22084c71-f062-4a88-9f25-cbfa12fbd4b7",
        "id": "eS9fQfeED42q"
      },
      "execution_count": null,
      "outputs": [
        {
          "output_type": "stream",
          "name": "stdout",
          "text": [
            "Epoch: 1, Iter: 100, Loss: 0.11525248980522156\n",
            "Epoch: 1, Iter: 200, Loss: 0.11517426025867462\n",
            "Epoch: 1, Iter: 300, Loss: 0.11520726048946381\n",
            "Epoch: 1, Iter: 400, Loss: 0.1151927570104599\n",
            "Epoch: 2, Iter: 100, Loss: 0.1151253263950348\n",
            "Epoch: 2, Iter: 200, Loss: 0.11512268567085267\n",
            "Epoch: 2, Iter: 300, Loss: 0.11511669015884399\n",
            "Epoch: 2, Iter: 400, Loss: 0.1150851697921753\n",
            "Epoch: 3, Iter: 100, Loss: 0.1150614343881607\n",
            "Epoch: 3, Iter: 200, Loss: 0.11503952825069427\n",
            "Epoch: 3, Iter: 300, Loss: 0.11503675496578217\n",
            "Epoch: 3, Iter: 400, Loss: 0.1149960584640503\n",
            "Epoch: 4, Iter: 100, Loss: 0.11490999400615692\n",
            "Epoch: 4, Iter: 200, Loss: 0.11483270752429962\n",
            "Epoch: 4, Iter: 300, Loss: 0.1147084082365036\n",
            "Epoch: 4, Iter: 400, Loss: 0.11452177298069001\n",
            "Epoch: 5, Iter: 100, Loss: 0.1138176075220108\n",
            "Epoch: 5, Iter: 200, Loss: 0.1126066552400589\n",
            "Epoch: 5, Iter: 300, Loss: 0.10548369377851487\n",
            "Epoch: 5, Iter: 400, Loss: 0.06779910960793495\n",
            "Epoch: 6, Iter: 100, Loss: 0.0397003967165947\n",
            "Epoch: 6, Iter: 200, Loss: 0.036100981295108796\n",
            "Epoch: 6, Iter: 300, Loss: 0.03581453613936901\n",
            "Epoch: 6, Iter: 400, Loss: 0.03388909667730331\n",
            "Epoch: 7, Iter: 100, Loss: 0.032630137503147125\n",
            "Epoch: 7, Iter: 200, Loss: 0.031904611855745314\n",
            "Epoch: 7, Iter: 300, Loss: 0.031145424604415894\n",
            "Epoch: 7, Iter: 400, Loss: 0.030923303231596946\n",
            "Epoch: 8, Iter: 100, Loss: 0.030082316249608995\n",
            "Epoch: 8, Iter: 200, Loss: 0.029315090000629426\n",
            "Epoch: 8, Iter: 300, Loss: 0.029359688580036163\n",
            "Epoch: 8, Iter: 400, Loss: 0.02974282017350197\n",
            "Epoch: 9, Iter: 100, Loss: 0.02862969896197319\n",
            "Epoch: 9, Iter: 200, Loss: 0.028358827620744705\n",
            "Epoch: 9, Iter: 300, Loss: 0.02745782893896103\n",
            "Epoch: 9, Iter: 400, Loss: 0.027051033169031142\n",
            "Epoch: 10, Iter: 100, Loss: 0.026425262466073036\n",
            "Epoch: 10, Iter: 200, Loss: 0.026537451282143593\n",
            "Epoch: 10, Iter: 300, Loss: 0.026048693835735322\n",
            "Epoch: 10, Iter: 400, Loss: 0.026514946937561037\n"
          ]
        }
      ]
    },
    {
      "cell_type": "code",
      "source": [
        "correct = 0\n",
        "total = 0\n",
        "\n",
        "with torch.no_grad():\n",
        "    for data in test_loader128:\n",
        "        images, labels = data[0].to(device), data[1].to(device)\n",
        "        outputs = new_model(images)\n",
        "        _, predicted = torch.max(outputs.data, axis=1)\n",
        "        total += labels.size(0)\n",
        "        correct += (predicted == labels).sum().item()\n",
        "    \n",
        "    print(100 * correct / total)"
      ],
      "metadata": {
        "colab": {
          "base_uri": "https://localhost:8080/"
        },
        "outputId": "044d3e14-9913-42a8-fa70-c46e198abcb9",
        "id": "X0H3p7PGD42q"
      },
      "execution_count": null,
      "outputs": [
        {
          "output_type": "stream",
          "name": "stdout",
          "text": [
            "80.47\n"
          ]
        }
      ]
    }
  ]
}