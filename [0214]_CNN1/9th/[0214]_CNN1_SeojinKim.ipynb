{
  "nbformat": 4,
  "nbformat_minor": 0,
  "metadata": {
    "colab": {
      "provenance": [],
      "collapsed_sections": [
        "cdNvme8aKSBP",
        "OHckdZ55KeH2",
        "mCrBa-gRRMEO",
        "EFPYE3UUnpmX",
        "xVxKI_rwCvhI",
        "klpXGc2tCimP",
        "huNh3EnhJLyh",
        "W-2Q7c6-JW9z",
        "FOUBE2UfKS6D",
        "LaVvtEOvKUgJ",
        "jRyyw49jKVhj",
        "5IecfHZiI09W",
        "SZcZQv4PGeYv",
        "V7HoLqroDhyF",
        "_civVcIYBGxA",
        "7Thu9NRyCV7j",
        "kuP_3_DyD42p"
      ],
      "toc_visible": true
    },
    "kernelspec": {
      "name": "python3",
      "display_name": "Python 3"
    },
    "accelerator": "GPU",
    "gpuClass": "standard"
  },
  "cells": [
    {
      "cell_type": "markdown",
      "source": [
        "# 초기 세팅"
      ],
      "metadata": {
        "id": "cdNvme8aKSBP"
      }
    },
    {
      "cell_type": "code",
      "metadata": {
        "id": "P1v9luAfHXdz"
      },
      "source": [
        "import torch\n",
        "import torch.nn as nn\n",
        "import torch.nn.functional as F\n",
        "import torch.optim as optim\n",
        "from torch.utils.data import Dataset, DataLoader\n",
        "\n",
        "import torchvision\n",
        "import torchvision.datasets as datasets\n",
        "import torchvision.transforms as transforms\n",
        "\n",
        "import numpy as np\n",
        "import matplotlib.pyplot as plt\n",
        "plt.style.use('seaborn-white')"
      ],
      "execution_count": 1,
      "outputs": []
    },
    {
      "cell_type": "code",
      "source": [
        "!pip install torchsummary\n",
        "from torchsummary import summary"
      ],
      "metadata": {
        "colab": {
          "base_uri": "https://localhost:8080/"
        },
        "id": "D39aCPyTu2Ce",
        "outputId": "bdf92879-9f6d-4894-ba7d-b33550932d9e"
      },
      "execution_count": 2,
      "outputs": [
        {
          "output_type": "stream",
          "name": "stdout",
          "text": [
            "Looking in indexes: https://pypi.org/simple, https://us-python.pkg.dev/colab-wheels/public/simple/\n",
            "Requirement already satisfied: torchsummary in /usr/local/lib/python3.8/dist-packages (1.5.1)\n"
          ]
        }
      ]
    },
    {
      "cell_type": "markdown",
      "metadata": {
        "id": "02LdHlTTSz5L"
      },
      "source": [
        "- 현재 GPU 설정"
      ]
    },
    {
      "cell_type": "code",
      "metadata": {
        "id": "Ybsjn80uSx3X",
        "colab": {
          "base_uri": "https://localhost:8080/"
        },
        "outputId": "620017b5-0b31-4ea9-df4a-27ea271ee1aa"
      },
      "source": [
        "# colab의 runtime-type을 GPU로 설정해서, True가 나오도록 한다.\n",
        "\n",
        "torch.cuda.is_available()"
      ],
      "execution_count": 3,
      "outputs": [
        {
          "output_type": "execute_result",
          "data": {
            "text/plain": [
              "True"
            ]
          },
          "metadata": {},
          "execution_count": 3
        }
      ]
    },
    {
      "cell_type": "code",
      "metadata": {
        "id": "HlPZI5wfDQhv",
        "colab": {
          "base_uri": "https://localhost:8080/"
        },
        "outputId": "c0167cc0-0c79-47b9-f166-f43c06158f92"
      },
      "source": [
        "use_cuda = torch.cuda.is_available()\n",
        "device = torch.device(\"cuda\" if use_cuda else \"cpu\")\n",
        "device"
      ],
      "execution_count": 4,
      "outputs": [
        {
          "output_type": "execute_result",
          "data": {
            "text/plain": [
              "device(type='cuda')"
            ]
          },
          "metadata": {},
          "execution_count": 4
        }
      ]
    },
    {
      "cell_type": "markdown",
      "source": [
        "# FashionMNIST 분류 모델 만들기\n",
        "* 흑/백(1) 이미지 데이터 분류\n",
        "* 28x28 pixel"
      ],
      "metadata": {
        "id": "OHckdZ55KeH2"
      }
    },
    {
      "cell_type": "markdown",
      "source": [
        "## 데이터 로드"
      ],
      "metadata": {
        "id": "mCrBa-gRRMEO"
      }
    },
    {
      "cell_type": "code",
      "source": [
        "# 데이터 전처리\n",
        "\n",
        "MNIST_transform = transforms.Compose([transforms.ToTensor(), # tensor로 펴준다.\n",
        "                                      transforms.Normalize((0.5,),(0.5,))]) # 정규화를 해준다."
      ],
      "metadata": {
        "id": "vYP9dGrWzDqd"
      },
      "execution_count": 5,
      "outputs": []
    },
    {
      "cell_type": "code",
      "source": [
        "trainset = datasets.FashionMNIST(root='/content',\n",
        "                                 train=True, download=True,\n",
        "                                 transform=MNIST_transform)\n",
        "\n",
        "testset = datasets.FashionMNIST(root='/content',\n",
        "                                 train=False, download=True,\n",
        "                                 transform=MNIST_transform)"
      ],
      "metadata": {
        "id": "VpVsTevTWE5i"
      },
      "execution_count": 6,
      "outputs": []
    },
    {
      "cell_type": "markdown",
      "source": [
        "input-data size 확인"
      ],
      "metadata": {
        "id": "qh7uI7ewsipv"
      }
    },
    {
      "cell_type": "code",
      "source": [
        "# batch-size=128\n",
        "train_loader128 =  DataLoader(trainset, batch_size=128, shuffle=True, num_workers=2)\n",
        "test_loader128 =  DataLoader(testset, batch_size=128, shuffle=False, num_workers=2)\n",
        "\n",
        "# batch-size=64\n",
        "train_loader64 =  DataLoader(trainset, batch_size=64, shuffle=True, num_workers=2)\n",
        "test_loader64 =  DataLoader(testset, batch_size=64, shuffle=False, num_workers=2)"
      ],
      "metadata": {
        "id": "Dz-CJf0x0nne"
      },
      "execution_count": 7,
      "outputs": []
    },
    {
      "cell_type": "code",
      "source": [
        "# 128 : batch-size\n",
        "# 1 : 흑백\n",
        "# 28x28 : pixel-size\n",
        "\n",
        "images128, labels128 = next(iter(train_loader128))\n",
        "images128.shape, labels128.shape"
      ],
      "metadata": {
        "id": "iy6D1Rg_07fD",
        "colab": {
          "base_uri": "https://localhost:8080/"
        },
        "outputId": "f591d0bf-1e8f-454e-c40e-883020c8f2ec"
      },
      "execution_count": 8,
      "outputs": [
        {
          "output_type": "execute_result",
          "data": {
            "text/plain": [
              "(torch.Size([128, 1, 28, 28]), torch.Size([128]))"
            ]
          },
          "metadata": {},
          "execution_count": 8
        }
      ]
    },
    {
      "cell_type": "code",
      "source": [
        "# 64 : batch-size\n",
        "# 1 : 흑백\n",
        "# 28x28 : pixel-size\n",
        "\n",
        "images64, labels64 = next(iter(train_loader64))\n",
        "images64.shape, labels64.shape"
      ],
      "metadata": {
        "colab": {
          "base_uri": "https://localhost:8080/"
        },
        "id": "AotS6123m9sK",
        "outputId": "59067469-687a-4fd4-b78c-ad4fb20baa7e"
      },
      "execution_count": 9,
      "outputs": [
        {
          "output_type": "execute_result",
          "data": {
            "text/plain": [
              "(torch.Size([64, 1, 28, 28]), torch.Size([64]))"
            ]
          },
          "metadata": {},
          "execution_count": 9
        }
      ]
    },
    {
      "cell_type": "code",
      "source": [
        "# 숫자 label에 해당되는 값\n",
        "\n",
        "labels_map = {\n",
        "    0: 'T-Shirt',\n",
        "    1: 'Trouser',\n",
        "    2: 'Pullover',\n",
        "    3: 'Dress',\n",
        "    4: 'Coat',\n",
        "    5: 'Sandal',\n",
        "    6: 'Shirt',\n",
        "    7: 'Sneaker',\n",
        "    8: 'Bag',\n",
        "    9: 'Ankle Boot'\n",
        "}"
      ],
      "metadata": {
        "id": "g4Nd4uLGTEDy"
      },
      "execution_count": 10,
      "outputs": []
    },
    {
      "cell_type": "code",
      "source": [
        "# 데이터 확인\n",
        "\n",
        "figure = plt.figure(figsize=(12,12))\n",
        "cols, rows = 4, 1\n",
        "\n",
        "for i in range(1, cols * rows + 1):\n",
        "    image = images128[i].squeeze()\n",
        "    label_idx = labels128[i].item() # y_label\n",
        "    label = labels_map[label_idx] # 위에서 해당되는 label\n",
        "\n",
        "    figure.add_subplot(rows, cols, i)\n",
        "    plt.title(label)\n",
        "    plt.axis('off')\n",
        "    plt.imshow(image, cmap='gray')\n",
        "\n",
        "plt.show()"
      ],
      "metadata": {
        "id": "_u5_UEAH09SB",
        "colab": {
          "base_uri": "https://localhost:8080/",
          "height": 191
        },
        "outputId": "3be5b8ed-8e6a-492a-9f09-5bd8419acf3c"
      },
      "execution_count": 11,
      "outputs": [
        {
          "output_type": "display_data",
          "data": {
            "text/plain": [
              "<Figure size 864x864 with 4 Axes>"
            ],
            "image/png": "[encoded data removed]"
          },
          "metadata": {}
        }
      ]
    },
    {
      "cell_type": "markdown",
      "source": [
        "## 모델 1 생성\n",
        "* 10개의 convolution-layer(Conv2d)와 2개의 fully-connected(fc)로 이루어진 모델\n",
        "* Total params: 28,784"
      ],
      "metadata": {
        "id": "EFPYE3UUnpmX"
      }
    },
    {
      "cell_type": "markdown",
      "source": [
        "input-data size\n",
        "* train_loader128(batch-size;128) : 128, 1, 28, 28\n",
        "* train_loader64(batch-size;64) : 64, 1, 28, 28\n",
        "\n",
        "\n",
        "구현해야하는 모델 정보<br>\n",
        "* convolution-layer 1\n",
        "* maxpooling-layer\n",
        "* convolution-layer 2\n",
        "* convolution-layer 3\n",
        "* convolution-layer 4\n",
        "* convolution-layer 5\n",
        "* convolution-layer 6\n",
        "* convolution-layer 7\n",
        "* convolution-layer 8\n",
        "* convolution-layer 9\n",
        "* maxpooling-layer\n",
        "* convolution-layer 10\n",
        "* flatten\n",
        "* fc1\n",
        "* fc2\n",
        "\n",
        "추가 정보\n",
        "* 활성화함수 : relu\n",
        "(단, maxpooling과 마지막 fc2에는 보통적으로 활성화함수를 사용하지 않는다.)\n",
        "* flatten의 경우, weights가 들어가지 않는다. 즉, layer라고는 볼 수 없다.\n",
        "\n",
        "모델의 layer를 통과함에 따라 데이터의 크기 변화는 다음과 같다.\n",
        "1. batch-size128 -> torch.Size([128, 1, 28, 28]) 으로 시작\n",
        "2. batch-size;64 -> torch.Size([64, 1, 28, 28]) 으로 시작\n",
        "> * torch.Size([128 or 64, 5, 30, 30])\n",
        "> * torch.Size([128 or 64, 5, 15, 15])\n",
        "> * torch.Size([128 or 64, 7, 15, 15])\n",
        "> * torch.Size([128 or 64, 16, 16, 16])\n",
        "> * torch.Size([128 or 64, 19, 15, 15])\n",
        "> * torch.Size([128 or 64, 29, 13, 13])\n",
        "> * torch.Size([128 or 64, 29, 14, 14])\n",
        "> * torch.Size([128 or 64, 6, 12, 12])\n",
        "> * torch.Size([128 or 64, 2, 12, 12])\n",
        "> * torch.Size([128 or 64, 10, 7, 7])\n",
        "> * torch.Size([128 or 64, 10, 3, 3])\n",
        "> * torch.Size([128 or 64, 20, 3, 3])\n",
        "> * torch.Size([128 or 64, 180])\n",
        "> * torch.Size([128 or 64, 86])\n",
        "> * torch.Size([128 or 64, 10]) "
      ],
      "metadata": {
        "id": "orF-z9choFaB"
      }
    },
    {
      "cell_type": "code",
      "source": [
        "class CNN_Model1(nn.Module):\n",
        "    def __init__(self):\n",
        "        super(CNN_Model1, self).__init__()\n",
        "\n",
        "\n",
        "\n",
        "        self.conv1 = nn.Conv2d(in_channels=1, out_channels=5, kernel_size=3, stride=1, padding=2)\n",
        "        # in-channels = 1 <- 흑/백\n",
        "        # out-channels = 5\n",
        "        # kernel_size / filter-size = 2x2 -> f=3\n",
        "        # stride = 1(default) -> s=1\n",
        "        # padding = 2(default) -> p=2\n",
        "        # input-data pixel size = 28x28 -> n=28\n",
        "        # (n-f+2p)/s + 1 = new n\n",
        "        # (28-3+2x2)/1 + 1 = 30\n",
        "    \n",
        "        # maxpool : n=30 -> 15\n",
        "\n",
        "        self.conv2 = nn.Conv2d(5, 7, 3, padding=1)\n",
        "        # in-channels = 5 <- 이전것의 out-channels\n",
        "        # out-channels = 7\n",
        "        # filter-size = 3x3\n",
        "        # stride = 1(default)\n",
        "        # padding = 1\n",
        "        # (n-f+2p)/s + 1 = new n    \n",
        "        # (15-3+2x1)/1 + 1 = 15\n",
        "\n",
        "        self.conv3 = nn.Conv2d(7, 16, 2, padding=1)\n",
        "        self.conv4 = nn.Conv2d(16, 19, 2, padding=0)\n",
        "        self.conv5 = nn.Conv2d(19, 29, 3, padding=0)\n",
        "        self.conv6 = nn.Conv2d(29, 29, 2, padding=1)\n",
        "        self.conv7 = nn.Conv2d(29, 6, 3, padding=0)\n",
        "        self.conv8 = nn.Conv2d(6, 2, 1, padding=0)\n",
        "        self.conv9 = nn.Conv2d(2, 10, 2, stride=2, padding=1)\n",
        "        self.conv10 = nn.Conv2d(10, 20, 1, padding=0)\n",
        "\n",
        "        self.fc1 = nn.Linear(180, 86)\n",
        "        self.fc2 = nn.Linear(86, 10)\n",
        "\n",
        "\n",
        "    def forward(self, x):\n",
        "        x = F.relu(self.conv1(x))\n",
        "        x = F.max_pool2d(x, (2,2))\n",
        "        x = F.relu(self.conv2(x))\n",
        "        x = F.relu(self.conv3(x))\n",
        "        x = F.relu(self.conv4(x))\n",
        "        x = F.relu(self.conv5(x))\n",
        "        x = F.relu(self.conv6(x))\n",
        "        x = F.relu(self.conv7(x))\n",
        "        x = F.relu(self.conv8(x))\n",
        "        x = F.relu(self.conv9(x))\n",
        "        x = F.max_pool2d(x, (2,2))\n",
        "        x = F.relu(self.conv10(x))\n",
        "\n",
        "        x = x.view(-1, self.num_flat_features(x)) # num_flat_features : 아래에서 정의\n",
        "\n",
        "        x = F.relu(self.fc1(x))\n",
        "        x = self.fc2(x)\n",
        "\n",
        "        return x\n",
        "    \n",
        "    def num_flat_features(self, x): # 처음 dim-size을 제외하고, 모두 곱한 값을 반환해준다.\n",
        "        size = x.size()[1:]\n",
        "        num_features = 1\n",
        "        for s in size:\n",
        "            num_features *= s\n",
        "        \n",
        "        return num_features"
      ],
      "metadata": {
        "id": "EedVZU7Knv0X"
      },
      "execution_count": 16,
      "outputs": []
    },
    {
      "cell_type": "code",
      "source": [
        "# 모델객체 생성\n",
        "DeepConv_net128 = CNN_Model1().to(device)\n",
        "DeepConv_net64 = CNN_Model1().to(device)\n",
        "\n",
        "print(DeepConv_net128)"
      ],
      "metadata": {
        "colab": {
          "base_uri": "https://localhost:8080/"
        },
        "id": "RiMZ7sX6oDn3",
        "outputId": "0eada84b-d663-43a0-a952-6c58212c6721"
      },
      "execution_count": 17,
      "outputs": [
        {
          "output_type": "stream",
          "name": "stdout",
          "text": [
            "CNN_Model1(\n",
            "  (conv1): Conv2d(1, 5, kernel_size=(3, 3), stride=(1, 1), padding=(2, 2))\n",
            "  (conv2): Conv2d(5, 7, kernel_size=(3, 3), stride=(1, 1), padding=(1, 1))\n",
            "  (conv3): Conv2d(7, 16, kernel_size=(2, 2), stride=(1, 1), padding=(1, 1))\n",
            "  (conv4): Conv2d(16, 19, kernel_size=(2, 2), stride=(1, 1))\n",
            "  (conv5): Conv2d(19, 29, kernel_size=(3, 3), stride=(1, 1))\n",
            "  (conv6): Conv2d(29, 29, kernel_size=(2, 2), stride=(1, 1), padding=(1, 1))\n",
            "  (conv7): Conv2d(29, 6, kernel_size=(3, 3), stride=(1, 1))\n",
            "  (conv8): Conv2d(6, 2, kernel_size=(1, 1), stride=(1, 1))\n",
            "  (conv9): Conv2d(2, 10, kernel_size=(2, 2), stride=(2, 2), padding=(1, 1))\n",
            "  (conv10): Conv2d(10, 20, kernel_size=(1, 1), stride=(1, 1))\n",
            "  (fc1): Linear(in_features=180, out_features=86, bias=True)\n",
            "  (fc2): Linear(in_features=86, out_features=10, bias=True)\n",
            ")\n"
          ]
        }
      ]
    },
    {
      "cell_type": "code",
      "source": [
        "input = images128.to(device)\n",
        "input.size()"
      ],
      "metadata": {
        "colab": {
          "base_uri": "https://localhost:8080/"
        },
        "id": "8gBjDmoc7fJh",
        "outputId": "8e9161d9-42c7-4404-ddb2-7c5f7a5da0ac"
      },
      "execution_count": 18,
      "outputs": [
        {
          "output_type": "execute_result",
          "data": {
            "text/plain": [
              "torch.Size([128, 1, 28, 28])"
            ]
          },
          "metadata": {},
          "execution_count": 18
        }
      ]
    },
    {
      "cell_type": "code",
      "source": [
        "output = DeepConv_net128.forward(input)\n",
        "output.size()"
      ],
      "metadata": {
        "colab": {
          "base_uri": "https://localhost:8080/"
        },
        "id": "tflPlTme7h9x",
        "outputId": "3e58380b-8cde-4019-bd84-4609eee5fd5e"
      },
      "execution_count": 19,
      "outputs": [
        {
          "output_type": "execute_result",
          "data": {
            "text/plain": [
              "torch.Size([128, 10])"
            ]
          },
          "metadata": {},
          "execution_count": 19
        }
      ]
    },
    {
      "cell_type": "code",
      "source": [
        "summary(DeepConv_net128, input_size=(1, 28, 28), batch_size=128)"
      ],
      "metadata": {
        "colab": {
          "base_uri": "https://localhost:8080/"
        },
        "id": "DSH3qCADujAi",
        "outputId": "3f7929c3-962c-4eed-9bba-66c634c7028a"
      },
      "execution_count": 20,
      "outputs": [
        {
          "output_type": "stream",
          "name": "stdout",
          "text": [
            "----------------------------------------------------------------\n",
            "        Layer (type)               Output Shape         Param #\n",
            "================================================================\n",
            "            Conv2d-1           [128, 5, 30, 30]              50\n",
            "            Conv2d-2           [128, 7, 15, 15]             322\n",
            "            Conv2d-3          [128, 16, 16, 16]             464\n",
            "            Conv2d-4          [128, 19, 15, 15]           1,235\n",
            "            Conv2d-5          [128, 29, 13, 13]           4,988\n",
            "            Conv2d-6          [128, 29, 14, 14]           3,393\n",
            "            Conv2d-7           [128, 6, 12, 12]           1,572\n",
            "            Conv2d-8           [128, 2, 12, 12]              14\n",
            "            Conv2d-9            [128, 10, 7, 7]              90\n",
            "           Conv2d-10            [128, 20, 3, 3]             220\n",
            "           Linear-11                  [128, 86]          15,566\n",
            "           Linear-12                  [128, 10]             870\n",
            "================================================================\n",
            "Total params: 28,784\n",
            "Trainable params: 28,784\n",
            "Non-trainable params: 0\n",
            "----------------------------------------------------------------\n",
            "Input size (MB): 0.38\n",
            "Forward/backward pass size (MB): 26.32\n",
            "Params size (MB): 0.11\n",
            "Estimated Total Size (MB): 26.81\n",
            "----------------------------------------------------------------\n"
          ]
        }
      ]
    },
    {
      "cell_type": "code",
      "source": [
        "input = images64.to(device)\n",
        "input.size()"
      ],
      "metadata": {
        "colab": {
          "base_uri": "https://localhost:8080/"
        },
        "outputId": "336e340d-2c72-4dce-eda3-c70475dfabc4",
        "id": "jcybKk5Nvj4Z"
      },
      "execution_count": 21,
      "outputs": [
        {
          "output_type": "execute_result",
          "data": {
            "text/plain": [
              "torch.Size([64, 1, 28, 28])"
            ]
          },
          "metadata": {},
          "execution_count": 21
        }
      ]
    },
    {
      "cell_type": "code",
      "source": [
        "output = DeepConv_net64.forward(input)\n",
        "output.size()"
      ],
      "metadata": {
        "colab": {
          "base_uri": "https://localhost:8080/"
        },
        "outputId": "c30c3a44-b566-4124-df48-74b6f7eeafbb",
        "id": "y2PZCHyyvj4a"
      },
      "execution_count": 22,
      "outputs": [
        {
          "output_type": "execute_result",
          "data": {
            "text/plain": [
              "torch.Size([64, 10])"
            ]
          },
          "metadata": {},
          "execution_count": 22
        }
      ]
    },
    {
      "cell_type": "code",
      "source": [
        "summary(DeepConv_net64, input_size=(1, 28, 28), batch_size=64)"
      ],
      "metadata": {
        "colab": {
          "base_uri": "https://localhost:8080/"
        },
        "id": "uh1pmRXcvZP8",
        "outputId": "0deca1d1-4e70-4e64-efda-f031301fb68a"
      },
      "execution_count": 23,
      "outputs": [
        {
          "output_type": "stream",
          "name": "stdout",
          "text": [
            "----------------------------------------------------------------\n",
            "        Layer (type)               Output Shape         Param #\n",
            "================================================================\n",
            "            Conv2d-1            [64, 5, 30, 30]              50\n",
            "            Conv2d-2            [64, 7, 15, 15]             322\n",
            "            Conv2d-3           [64, 16, 16, 16]             464\n",
            "            Conv2d-4           [64, 19, 15, 15]           1,235\n",
            "            Conv2d-5           [64, 29, 13, 13]           4,988\n",
            "            Conv2d-6           [64, 29, 14, 14]           3,393\n",
            "            Conv2d-7            [64, 6, 12, 12]           1,572\n",
            "            Conv2d-8            [64, 2, 12, 12]              14\n",
            "            Conv2d-9             [64, 10, 7, 7]              90\n",
            "           Conv2d-10             [64, 20, 3, 3]             220\n",
            "           Linear-11                   [64, 86]          15,566\n",
            "           Linear-12                   [64, 10]             870\n",
            "================================================================\n",
            "Total params: 28,784\n",
            "Trainable params: 28,784\n",
            "Non-trainable params: 0\n",
            "----------------------------------------------------------------\n",
            "Input size (MB): 0.19\n",
            "Forward/backward pass size (MB): 13.16\n",
            "Params size (MB): 0.11\n",
            "Estimated Total Size (MB): 13.46\n",
            "----------------------------------------------------------------\n"
          ]
        }
      ]
    },
    {
      "cell_type": "markdown",
      "source": [
        "## 모델 2 생성\n",
        "* 2개의 convolution-layer(Conv2d)와 5개의 fully-connected(fc)로 이루어진 모델\n",
        "* Total params: 9,516,488"
      ],
      "metadata": {
        "id": "xVxKI_rwCvhI"
      }
    },
    {
      "cell_type": "markdown",
      "source": [
        "input-data size\n",
        "* train_loader128(batch-size;128) : 128, 1, 28, 28\n",
        "* train_loader64(batch-size;64) : 64, 1, 28, 28\n",
        "\n",
        "\n",
        "구현해야하는 모델 정보<br>\n",
        "* convolution-layer 1\n",
        "* maxpooling-layer\n",
        "* convolution-layer 2\n",
        "* flatten\n",
        "* fc1\n",
        "* fc2\n",
        "* fc3\n",
        "* fc4\n",
        "* fc5\n",
        "\n",
        "추가 정보\n",
        "* 활성화함수 : relu\n",
        "(단, maxpooling과 마지막 fc5에는 보통적으로 활성화함수를 사용하지 않는다.)\n",
        "* flatten의 경우, weights가 들어가지 않는다. 즉, layer라고는 볼 수 없다.\n",
        "\n",
        "모델의 layer를 통과함에 따라 데이터의 크기 변화는 다음과 같다.\n",
        "\n",
        "1. batch-size128 -> torch.Size([128, 1, 28, 28]) 으로 시작\n",
        "2. batch-size;64 -> torch.Size([64, 1, 28, 28]) 으로 시작\n",
        "> * torch.Size([128 or 64, 5, 30, 30])\n",
        "> * torch.Size([128 or 64, 5, 15, 15])\n",
        "> * torch.Size([128 or 64, 7, 15, 15])\n",
        "> * torch.Size([128 or 64, 1575])\n",
        "> * torch.Size([128 or 64, 3000])\n",
        "> * torch.Size([128 or 64, 1500])\n",
        "> * torch.Size([128 or 64, 180])\n",
        "> * torch.Size([128 or 64, 86])\n",
        "> * torch.Size([128 or 64, 10])"
      ],
      "metadata": {
        "id": "uN5s0Re-CvhI"
      }
    },
    {
      "cell_type": "code",
      "source": [
        "class CNN_Model2(nn.Module):\n",
        "    def __init__(self):\n",
        "        super(CNN_Model2, self).__init__()\n",
        "\n",
        "        self.conv1 = nn.Conv2d(in_channels=1, out_channels=5, kernel_size=3, stride=1, padding=2)\n",
        "        self.conv2 = nn.Conv2d(5, 7, 3, padding=1)\n",
        "        self.fc1 = nn.Linear(1575, 3000)\n",
        "        self.fc2 = nn.Linear(3000, 1500)\n",
        "        self.fc3 = nn.Linear(1500, 180)\n",
        "        self.fc4 = nn.Linear(180, 86)\n",
        "        self.fc5 = nn.Linear(86, 10)\n",
        "\n",
        "    def forward(self, x):\n",
        "        x = F.relu(self.conv1(x))\n",
        "        x = F.max_pool2d(x, (2, 2))\n",
        "        x = F.relu(self.conv2(x))\n",
        "        x = x.view(-1, self.num_flat_features(x))\n",
        "        x = F.relu(self.fc1(x))\n",
        "        x = F.relu(self.fc2(x))\n",
        "        x = F.relu(self.fc3(x))\n",
        "        x = F.relu(self.fc4(x))\n",
        "        x = self.fc5(x)\n",
        "        return x\n",
        "    \n",
        "    def num_flat_features(self, x): # 처음 dim-size을 제외하고, 모두 곱한 값을 반환해준다.\n",
        "        size = x.size()[1:]\n",
        "        num_features = 1\n",
        "        for s in size:\n",
        "            num_features *= s\n",
        "        \n",
        "        return num_features"
      ],
      "metadata": {
        "id": "JfSM-k0DCvhI"
      },
      "execution_count": 28,
      "outputs": []
    },
    {
      "cell_type": "code",
      "source": [
        "# 모델객체 생성\n",
        "DeepFC_net128 = CNN_Model2().to(device)\n",
        "DeepFC_net64 = CNN_Model2().to(device)\n",
        "\n",
        "print(DeepFC_net128)"
      ],
      "metadata": {
        "colab": {
          "base_uri": "https://localhost:8080/"
        },
        "outputId": "7d5191d1-25e1-4d45-fb9f-d1d3b186642c",
        "id": "QQ_AnPi5CvhI"
      },
      "execution_count": 29,
      "outputs": [
        {
          "output_type": "stream",
          "name": "stdout",
          "text": [
            "CNN_Model2(\n",
            "  (conv1): Conv2d(1, 5, kernel_size=(3, 3), stride=(1, 1), padding=(2, 2))\n",
            "  (conv2): Conv2d(5, 7, kernel_size=(3, 3), stride=(1, 1), padding=(1, 1))\n",
            "  (fc1): Linear(in_features=1575, out_features=3000, bias=True)\n",
            "  (fc2): Linear(in_features=3000, out_features=1500, bias=True)\n",
            "  (fc3): Linear(in_features=1500, out_features=180, bias=True)\n",
            "  (fc4): Linear(in_features=180, out_features=86, bias=True)\n",
            "  (fc5): Linear(in_features=86, out_features=10, bias=True)\n",
            ")\n"
          ]
        }
      ]
    },
    {
      "cell_type": "code",
      "source": [
        "input = images128.to(device)\n",
        "input.size()"
      ],
      "metadata": {
        "colab": {
          "base_uri": "https://localhost:8080/"
        },
        "outputId": "21bc0478-b139-405e-df5e-554f53858aee",
        "id": "S9IVOG3pwgoS"
      },
      "execution_count": 30,
      "outputs": [
        {
          "output_type": "execute_result",
          "data": {
            "text/plain": [
              "torch.Size([128, 1, 28, 28])"
            ]
          },
          "metadata": {},
          "execution_count": 30
        }
      ]
    },
    {
      "cell_type": "code",
      "source": [
        "output = DeepFC_net128.forward(input)\n",
        "output.size()"
      ],
      "metadata": {
        "colab": {
          "base_uri": "https://localhost:8080/"
        },
        "outputId": "dfa326b8-40a6-4ae6-90e2-4b1240a245ea",
        "id": "p4ydm5qCwgoT"
      },
      "execution_count": 31,
      "outputs": [
        {
          "output_type": "execute_result",
          "data": {
            "text/plain": [
              "torch.Size([128, 10])"
            ]
          },
          "metadata": {},
          "execution_count": 31
        }
      ]
    },
    {
      "cell_type": "code",
      "source": [
        "summary(DeepFC_net128, input_size=(1, 28, 28), batch_size=128)"
      ],
      "metadata": {
        "colab": {
          "base_uri": "https://localhost:8080/"
        },
        "outputId": "441379d9-4e84-4e76-f5bd-dccd32b9a138",
        "id": "Q3uN6Dw6wgoT"
      },
      "execution_count": 32,
      "outputs": [
        {
          "output_type": "stream",
          "name": "stdout",
          "text": [
            "----------------------------------------------------------------\n",
            "        Layer (type)               Output Shape         Param #\n",
            "================================================================\n",
            "            Conv2d-1           [128, 5, 30, 30]              50\n",
            "            Conv2d-2           [128, 7, 15, 15]             322\n",
            "            Linear-3                [128, 3000]       4,728,000\n",
            "            Linear-4                [128, 1500]       4,501,500\n",
            "            Linear-5                 [128, 180]         270,180\n",
            "            Linear-6                  [128, 86]          15,566\n",
            "            Linear-7                  [128, 10]             870\n",
            "================================================================\n",
            "Total params: 9,516,488\n",
            "Trainable params: 9,516,488\n",
            "Non-trainable params: 0\n",
            "----------------------------------------------------------------\n",
            "Input size (MB): 0.38\n",
            "Forward/backward pass size (MB): 10.60\n",
            "Params size (MB): 36.30\n",
            "Estimated Total Size (MB): 47.28\n",
            "----------------------------------------------------------------\n"
          ]
        }
      ]
    },
    {
      "cell_type": "code",
      "source": [
        "input = images64.to(device)\n",
        "input.size()"
      ],
      "metadata": {
        "colab": {
          "base_uri": "https://localhost:8080/"
        },
        "outputId": "2adc6150-d926-465d-f156-e5360668d9b5",
        "id": "d9t36x7bwgoT"
      },
      "execution_count": 33,
      "outputs": [
        {
          "output_type": "execute_result",
          "data": {
            "text/plain": [
              "torch.Size([64, 1, 28, 28])"
            ]
          },
          "metadata": {},
          "execution_count": 33
        }
      ]
    },
    {
      "cell_type": "code",
      "source": [
        "output = DeepFC_net64.forward(input)\n",
        "output.size()"
      ],
      "metadata": {
        "colab": {
          "base_uri": "https://localhost:8080/"
        },
        "outputId": "c6f7e645-d870-4958-dbdb-d7553251f752",
        "id": "GFHweMakwgoT"
      },
      "execution_count": 34,
      "outputs": [
        {
          "output_type": "execute_result",
          "data": {
            "text/plain": [
              "torch.Size([64, 10])"
            ]
          },
          "metadata": {},
          "execution_count": 34
        }
      ]
    },
    {
      "cell_type": "code",
      "source": [
        "summary(DeepFC_net64, input_size=(1, 28, 28), batch_size=64)"
      ],
      "metadata": {
        "colab": {
          "base_uri": "https://localhost:8080/"
        },
        "outputId": "b4d75e93-405a-487c-c6bf-6c8f0daafd1a",
        "id": "2VIZ4WCCwgoT"
      },
      "execution_count": 35,
      "outputs": [
        {
          "output_type": "stream",
          "name": "stdout",
          "text": [
            "----------------------------------------------------------------\n",
            "        Layer (type)               Output Shape         Param #\n",
            "================================================================\n",
            "            Conv2d-1            [64, 5, 30, 30]              50\n",
            "            Conv2d-2            [64, 7, 15, 15]             322\n",
            "            Linear-3                 [64, 3000]       4,728,000\n",
            "            Linear-4                 [64, 1500]       4,501,500\n",
            "            Linear-5                  [64, 180]         270,180\n",
            "            Linear-6                   [64, 86]          15,566\n",
            "            Linear-7                   [64, 10]             870\n",
            "================================================================\n",
            "Total params: 9,516,488\n",
            "Trainable params: 9,516,488\n",
            "Non-trainable params: 0\n",
            "----------------------------------------------------------------\n",
            "Input size (MB): 0.19\n",
            "Forward/backward pass size (MB): 5.30\n",
            "Params size (MB): 36.30\n",
            "Estimated Total Size (MB): 41.79\n",
            "----------------------------------------------------------------\n"
          ]
        }
      ]
    },
    {
      "cell_type": "markdown",
      "source": [
        "## 손실함수와 옵티마이저"
      ],
      "metadata": {
        "id": "klpXGc2tCimP"
      }
    },
    {
      "cell_type": "code",
      "source": [
        "criterion = nn.CrossEntropyLoss()\n",
        "\n",
        "optimizerDC_128 = optim.SGD(DeepConv_net128.parameters(), lr=0.001, momentum=0.9)\n",
        "optimizerDC_64 = optim.SGD(DeepConv_net64.parameters(), lr=0.001, momentum=0.9)\n",
        "optimizerFC_128 = optim.SGD(DeepFC_net128.parameters(), lr=0.001, momentum=0.9)\n",
        "optimizerFC_64 = optim.SGD(DeepFC_net64.parameters(), lr=0.001, momentum=0.9)"
      ],
      "metadata": {
        "id": "69AHX-ZXClOm"
      },
      "execution_count": 36,
      "outputs": []
    },
    {
      "cell_type": "markdown",
      "source": [
        "## 모델 학습"
      ],
      "metadata": {
        "id": "huNh3EnhJLyh"
      }
    },
    {
      "cell_type": "markdown",
      "source": [
        "### 1. DeepConv_net128\n",
        "* 10개의 Convolution-layer & 2개의 fc-layer\n",
        "* 128 batch-size"
      ],
      "metadata": {
        "id": "W-2Q7c6-JW9z"
      }
    },
    {
      "cell_type": "code",
      "source": [
        "for epoch in range(10):\n",
        "\n",
        "    running_loss = 0.0\n",
        "\n",
        "    for i, data in enumerate(train_loader128, start=0):\n",
        "        inputs, labels = data[0].to(device), data[1].to(device)\n",
        "\n",
        "        optimizerDC_128.zero_grad() # epoch마다 gradient 0으로 초기화\n",
        "\n",
        "        outputs = DeepConv_net128(inputs) # y_pred = f(X)\n",
        "        loss = criterion(outputs, labels) # CrossEntropyLoss; 0~1 사이값\n",
        "        loss.backward() # back-propagation; gradient 계산\n",
        "        optimizerDC_128.step() # parameters(weights) update\n",
        "\n",
        "        running_loss += loss.item() # 그냥 전체적인 비교를 위해 누적함\n",
        "\n",
        "        if i % 100 == 99: # 100번 마다 확인; epoch=10, iter(=i)=469, batch=128\n",
        "            print('Epoch: {}, Iter: {}, Loss: {}'.format(epoch+1, i+1, running_loss/2000))\n",
        "            running_loss = 0.0"
      ],
      "metadata": {
        "colab": {
          "base_uri": "https://localhost:8080/"
        },
        "id": "y-_UvdNWJR-r",
        "outputId": "46469da2-497d-4ad2-9fb4-f233a9fac7d0"
      },
      "execution_count": 37,
      "outputs": [
        {
          "output_type": "stream",
          "name": "stdout",
          "text": [
            "Epoch: 1, Iter: 100, Loss: 0.1152625230550766\n",
            "Epoch: 1, Iter: 200, Loss: 0.11516880321502686\n",
            "Epoch: 1, Iter: 300, Loss: 0.11516418397426605\n",
            "Epoch: 1, Iter: 400, Loss: 0.11518653070926667\n",
            "Epoch: 2, Iter: 100, Loss: 0.11515827834606171\n",
            "Epoch: 2, Iter: 200, Loss: 0.11513296437263489\n",
            "Epoch: 2, Iter: 300, Loss: 0.11515876805782319\n",
            "Epoch: 2, Iter: 400, Loss: 0.11513057899475097\n",
            "Epoch: 3, Iter: 100, Loss: 0.11513343751430512\n",
            "Epoch: 3, Iter: 200, Loss: 0.1151414452791214\n",
            "Epoch: 3, Iter: 300, Loss: 0.1151286268234253\n",
            "Epoch: 3, Iter: 400, Loss: 0.11513675189018249\n",
            "Epoch: 4, Iter: 100, Loss: 0.11512046492099762\n",
            "Epoch: 4, Iter: 200, Loss: 0.11513932144641877\n",
            "Epoch: 4, Iter: 300, Loss: 0.11513629078865051\n",
            "Epoch: 4, Iter: 400, Loss: 0.11513445127010345\n",
            "Epoch: 5, Iter: 100, Loss: 0.11512903082370758\n",
            "Epoch: 5, Iter: 200, Loss: 0.11513080441951752\n",
            "Epoch: 5, Iter: 300, Loss: 0.11513253915309905\n",
            "Epoch: 5, Iter: 400, Loss: 0.11513449335098266\n",
            "Epoch: 6, Iter: 100, Loss: 0.1151303962469101\n",
            "Epoch: 6, Iter: 200, Loss: 0.11512968719005584\n",
            "Epoch: 6, Iter: 300, Loss: 0.11513341510295869\n",
            "Epoch: 6, Iter: 400, Loss: 0.11513399040699004\n",
            "Epoch: 7, Iter: 100, Loss: 0.11512853121757508\n",
            "Epoch: 7, Iter: 200, Loss: 0.11513485848903655\n",
            "Epoch: 7, Iter: 300, Loss: 0.11513058042526245\n",
            "Epoch: 7, Iter: 400, Loss: 0.11513318002223968\n",
            "Epoch: 8, Iter: 100, Loss: 0.1151304202079773\n",
            "Epoch: 8, Iter: 200, Loss: 0.11513021767139435\n",
            "Epoch: 8, Iter: 300, Loss: 0.11513224160671234\n",
            "Epoch: 8, Iter: 400, Loss: 0.11513507091999053\n",
            "Epoch: 9, Iter: 100, Loss: 0.11513155591487885\n",
            "Epoch: 9, Iter: 200, Loss: 0.11513016533851624\n",
            "Epoch: 9, Iter: 300, Loss: 0.1151309849023819\n",
            "Epoch: 9, Iter: 400, Loss: 0.1151321839094162\n",
            "Epoch: 10, Iter: 100, Loss: 0.11512947058677674\n",
            "Epoch: 10, Iter: 200, Loss: 0.11513197934627532\n",
            "Epoch: 10, Iter: 300, Loss: 0.11512772560119629\n",
            "Epoch: 10, Iter: 400, Loss: 0.11513591563701629\n"
          ]
        }
      ]
    },
    {
      "cell_type": "code",
      "source": [
        "for epoch in range(5):\n",
        "\n",
        "    running_loss = 0.0\n",
        "\n",
        "    for i, data in enumerate(train_loader128, start=0):\n",
        "        inputs, labels = data[0].to(device), data[1].to(device)\n",
        "\n",
        "        optimizerDC_128.zero_grad() # epoch마다 gradient 0으로 초기화\n",
        "\n",
        "        outputs = DeepConv_net128(inputs) # y_pred = f(X)\n",
        "        loss = criterion(outputs, labels) # CrossEntropyLoss; 0~1 사이값\n",
        "        loss.backward() # back-propagation; gradient 계산\n",
        "        optimizerDC_128.step() # parameters(weights) update\n",
        "\n",
        "        running_loss += loss.item() # 그냥 전체적인 비교를 위해 누적함\n",
        "\n",
        "        if i % 100 == 99: # 100번 마다 확인; epoch=10, iter(=i)=469, batch=128\n",
        "            print('Epoch: {}, Iter: {}, Loss: {}'.format(epoch+1, i+1, running_loss/2000))\n",
        "            running_loss = 0.0"
      ],
      "metadata": {
        "colab": {
          "base_uri": "https://localhost:8080/"
        },
        "id": "dNa8-7SC5u2a",
        "outputId": "4c798e1c-af69-46e8-dfb6-7fe3c4cf8020"
      },
      "execution_count": null,
      "outputs": [
        {
          "output_type": "stream",
          "name": "stdout",
          "text": [
            "Epoch: 1, Iter: 100, Loss: 0.11513062512874603\n",
            "Epoch: 1, Iter: 200, Loss: 0.11512958586215973\n",
            "Epoch: 1, Iter: 300, Loss: 0.11513410818576812\n",
            "Epoch: 1, Iter: 400, Loss: 0.11513170647621154\n",
            "Epoch: 2, Iter: 100, Loss: 0.11513063108921051\n",
            "Epoch: 2, Iter: 200, Loss: 0.11513061451911927\n",
            "Epoch: 2, Iter: 300, Loss: 0.1151320812702179\n",
            "Epoch: 2, Iter: 400, Loss: 0.11513225758075714\n",
            "Epoch: 3, Iter: 100, Loss: 0.11513030624389649\n",
            "Epoch: 3, Iter: 200, Loss: 0.11512928187847138\n",
            "Epoch: 3, Iter: 300, Loss: 0.11513432478904724\n",
            "Epoch: 3, Iter: 400, Loss: 0.11513169825077058\n",
            "Epoch: 4, Iter: 100, Loss: 0.11512754309177399\n",
            "Epoch: 4, Iter: 200, Loss: 0.11513170742988586\n",
            "Epoch: 4, Iter: 300, Loss: 0.11513228261470795\n",
            "Epoch: 4, Iter: 400, Loss: 0.11513312435150147\n",
            "Epoch: 5, Iter: 100, Loss: 0.1151303848028183\n",
            "Epoch: 5, Iter: 200, Loss: 0.11512850546836853\n",
            "Epoch: 5, Iter: 300, Loss: 0.11513362538814545\n",
            "Epoch: 5, Iter: 400, Loss: 0.11513367640972137\n"
          ]
        }
      ]
    },
    {
      "cell_type": "markdown",
      "source": [
        "### 2. DeepConv_net64\n",
        "* 10개의 Convolution-layer & 2개의 fc-layer\n",
        "* 64 batch-size"
      ],
      "metadata": {
        "id": "FOUBE2UfKS6D"
      }
    },
    {
      "cell_type": "code",
      "source": [
        "for epoch in range(10):\n",
        "\n",
        "    running_loss = 0.0\n",
        "\n",
        "    for i, data in enumerate(train_loader64, start=0):\n",
        "        inputs, labels = data[0].to(device), data[1].to(device)\n",
        "\n",
        "        optimizerDC_64.zero_grad() # epoch마다 gradient 0으로 초기화\n",
        "\n",
        "        outputs = DeepConv_net64(inputs) # y_pred = f(X)\n",
        "        loss = criterion(outputs, labels) # CrossEntropyLoss; 0~1 사이값\n",
        "        loss.backward() # back-propagation; gradient 계산\n",
        "        optimizerDC_64.step() # parameters(weights) update\n",
        "\n",
        "        running_loss += loss.item() # 그냥 전체적인 비교를 위해 누적함\n",
        "\n",
        "        if i % 100 == 99: # 100번 마다 확인; epoch=10, iter(=i)=469, batch=64\n",
        "            print('Epoch: {}, Iter: {}, Loss: {}'.format(epoch+1, i+1, running_loss/2000))\n",
        "            running_loss = 0.0"
      ],
      "metadata": {
        "colab": {
          "base_uri": "https://localhost:8080/"
        },
        "id": "Q1znQlsWKS6D",
        "outputId": "d428f1a5-b843-4e25-fa57-a4be6aa50c39"
      },
      "execution_count": 38,
      "outputs": [
        {
          "output_type": "stream",
          "name": "stdout",
          "text": [
            "Epoch: 1, Iter: 100, Loss: 0.11525819265842438\n",
            "Epoch: 1, Iter: 200, Loss: 0.11513927030563355\n",
            "Epoch: 1, Iter: 300, Loss: 0.11518978369235992\n",
            "Epoch: 1, Iter: 400, Loss: 0.11515384435653686\n",
            "Epoch: 1, Iter: 500, Loss: 0.1151281989812851\n",
            "Epoch: 1, Iter: 600, Loss: 0.11516202807426452\n",
            "Epoch: 1, Iter: 700, Loss: 0.1151509393453598\n",
            "Epoch: 1, Iter: 800, Loss: 0.11513403367996215\n",
            "Epoch: 1, Iter: 900, Loss: 0.11512713098526\n",
            "Epoch: 2, Iter: 100, Loss: 0.11513154029846191\n",
            "Epoch: 2, Iter: 200, Loss: 0.115116335272789\n",
            "Epoch: 2, Iter: 300, Loss: 0.11514509308338165\n",
            "Epoch: 2, Iter: 400, Loss: 0.11513602471351624\n",
            "Epoch: 2, Iter: 500, Loss: 0.11514006638526916\n",
            "Epoch: 2, Iter: 600, Loss: 0.11513291132450104\n",
            "Epoch: 2, Iter: 700, Loss: 0.11513538765907287\n",
            "Epoch: 2, Iter: 800, Loss: 0.11514116418361664\n",
            "Epoch: 2, Iter: 900, Loss: 0.11513827228546143\n",
            "Epoch: 3, Iter: 100, Loss: 0.11513191401958466\n",
            "Epoch: 3, Iter: 200, Loss: 0.11513520205020905\n",
            "Epoch: 3, Iter: 300, Loss: 0.1151349514722824\n",
            "Epoch: 3, Iter: 400, Loss: 0.11513456523418426\n",
            "Epoch: 3, Iter: 500, Loss: 0.1151302080154419\n",
            "Epoch: 3, Iter: 600, Loss: 0.1151341656446457\n",
            "Epoch: 3, Iter: 700, Loss: 0.11513394498825073\n",
            "Epoch: 3, Iter: 800, Loss: 0.11513556337356567\n",
            "Epoch: 3, Iter: 900, Loss: 0.11513524067401885\n",
            "Epoch: 4, Iter: 100, Loss: 0.11513055634498597\n",
            "Epoch: 4, Iter: 200, Loss: 0.11513288807868957\n",
            "Epoch: 4, Iter: 300, Loss: 0.11513474273681641\n",
            "Epoch: 4, Iter: 400, Loss: 0.11512855148315429\n",
            "Epoch: 4, Iter: 500, Loss: 0.11513751542568207\n",
            "Epoch: 4, Iter: 600, Loss: 0.11513192117214203\n",
            "Epoch: 4, Iter: 700, Loss: 0.11513444769382476\n",
            "Epoch: 4, Iter: 800, Loss: 0.1151383856534958\n",
            "Epoch: 4, Iter: 900, Loss: 0.11513444411754609\n",
            "Epoch: 5, Iter: 100, Loss: 0.11513064026832581\n",
            "Epoch: 5, Iter: 200, Loss: 0.11512924432754516\n",
            "Epoch: 5, Iter: 300, Loss: 0.11513062071800231\n",
            "Epoch: 5, Iter: 400, Loss: 0.11513350427150726\n",
            "Epoch: 5, Iter: 500, Loss: 0.11513722348213196\n",
            "Epoch: 5, Iter: 600, Loss: 0.11512797474861144\n",
            "Epoch: 5, Iter: 700, Loss: 0.11513809430599213\n",
            "Epoch: 5, Iter: 800, Loss: 0.11513473176956177\n",
            "Epoch: 5, Iter: 900, Loss: 0.1151363080739975\n",
            "Epoch: 6, Iter: 100, Loss: 0.11513150155544281\n",
            "Epoch: 6, Iter: 200, Loss: 0.11513459253311158\n",
            "Epoch: 6, Iter: 300, Loss: 0.11513463890552521\n",
            "Epoch: 6, Iter: 400, Loss: 0.11512937569618226\n",
            "Epoch: 6, Iter: 500, Loss: 0.11513460636138916\n",
            "Epoch: 6, Iter: 600, Loss: 0.1151377284526825\n",
            "Epoch: 6, Iter: 700, Loss: 0.11513234651088715\n",
            "Epoch: 6, Iter: 800, Loss: 0.11513335359096527\n",
            "Epoch: 6, Iter: 900, Loss: 0.11513509953022003\n",
            "Epoch: 7, Iter: 100, Loss: 0.11512620425224304\n",
            "Epoch: 7, Iter: 200, Loss: 0.11513068699836732\n",
            "Epoch: 7, Iter: 300, Loss: 0.11513452398777008\n",
            "Epoch: 7, Iter: 400, Loss: 0.11513446772098541\n",
            "Epoch: 7, Iter: 500, Loss: 0.11513077044487\n",
            "Epoch: 7, Iter: 600, Loss: 0.11513417971134186\n",
            "Epoch: 7, Iter: 700, Loss: 0.11513955366611481\n",
            "Epoch: 7, Iter: 800, Loss: 0.11512887525558471\n",
            "Epoch: 7, Iter: 900, Loss: 0.115138263463974\n",
            "Epoch: 8, Iter: 100, Loss: 0.11512963783740997\n",
            "Epoch: 8, Iter: 200, Loss: 0.11513503909111023\n",
            "Epoch: 8, Iter: 300, Loss: 0.11513182532787324\n",
            "Epoch: 8, Iter: 400, Loss: 0.11513488602638244\n",
            "Epoch: 8, Iter: 500, Loss: 0.11513507187366485\n",
            "Epoch: 8, Iter: 600, Loss: 0.11513633620738983\n",
            "Epoch: 8, Iter: 700, Loss: 0.11513264906406402\n",
            "Epoch: 8, Iter: 800, Loss: 0.11513430607318878\n",
            "Epoch: 8, Iter: 900, Loss: 0.11513603341579437\n",
            "Epoch: 9, Iter: 100, Loss: 0.11512831509113312\n",
            "Epoch: 9, Iter: 200, Loss: 0.11513167834281922\n",
            "Epoch: 9, Iter: 300, Loss: 0.11513062131404876\n",
            "Epoch: 9, Iter: 400, Loss: 0.11513819241523743\n",
            "Epoch: 9, Iter: 500, Loss: 0.11513538241386413\n",
            "Epoch: 9, Iter: 600, Loss: 0.11513657760620118\n",
            "Epoch: 9, Iter: 700, Loss: 0.11513295710086822\n",
            "Epoch: 9, Iter: 800, Loss: 0.11513025557994842\n",
            "Epoch: 9, Iter: 900, Loss: 0.11513557970523834\n",
            "Epoch: 10, Iter: 100, Loss: 0.11513143682479858\n",
            "Epoch: 10, Iter: 200, Loss: 0.11513299238681793\n",
            "Epoch: 10, Iter: 300, Loss: 0.11513201212882995\n",
            "Epoch: 10, Iter: 400, Loss: 0.11513269770145416\n",
            "Epoch: 10, Iter: 500, Loss: 0.11513444650173187\n",
            "Epoch: 10, Iter: 600, Loss: 0.11513202214241028\n",
            "Epoch: 10, Iter: 700, Loss: 0.11513765752315522\n",
            "Epoch: 10, Iter: 800, Loss: 0.11513308835029602\n",
            "Epoch: 10, Iter: 900, Loss: 0.11513694894313813\n"
          ]
        }
      ]
    },
    {
      "cell_type": "markdown",
      "source": [
        "### 3. DeepFC_net128\n",
        "* 2개의 Convolution-layer & 5개의 fc-layer\n",
        "* 128 batch-size"
      ],
      "metadata": {
        "id": "LaVvtEOvKUgJ"
      }
    },
    {
      "cell_type": "code",
      "source": [
        "for epoch in range(10):\n",
        "\n",
        "    running_loss = 0.0\n",
        "\n",
        "    for i, data in enumerate(train_loader128, start=0):\n",
        "        inputs, labels = data[0].to(device), data[1].to(device)\n",
        "\n",
        "        optimizerFC_128.zero_grad() # epoch마다 gradient 0으로 초기화\n",
        "\n",
        "        outputs = DeepFC_net128(inputs) # y_pred = f(X)\n",
        "        loss = criterion(outputs, labels) # CrossEntropyLoss; 0~1 사이값\n",
        "        loss.backward() # back-propagation; gradient 계산\n",
        "        optimizerFC_128.step() # parameters(weights) update\n",
        "\n",
        "        running_loss += loss.item() # 그냥 전체적인 비교를 위해 누적함\n",
        "\n",
        "        if i % 100 == 99: # 100번 마다 확인; epoch=10, iter(=i)=469, batch=128\n",
        "            print('Epoch: {}, Iter: {}, Loss: {}'.format(epoch+1, i+1, running_loss/2000))\n",
        "            running_loss = 0.0"
      ],
      "metadata": {
        "colab": {
          "base_uri": "https://localhost:8080/"
        },
        "id": "Dwh9TK_1KUgK",
        "outputId": "d39d6e7c-2595-4639-a838-b7e2eee7154b"
      },
      "execution_count": 39,
      "outputs": [
        {
          "output_type": "stream",
          "name": "stdout",
          "text": [
            "Epoch: 1, Iter: 100, Loss: 0.1151416003704071\n",
            "Epoch: 1, Iter: 200, Loss: 0.11507508254051209\n",
            "Epoch: 1, Iter: 300, Loss: 0.11494351983070374\n",
            "Epoch: 1, Iter: 400, Loss: 0.11476123023033143\n",
            "Epoch: 2, Iter: 100, Loss: 0.11423084151744843\n",
            "Epoch: 2, Iter: 200, Loss: 0.11336051893234253\n",
            "Epoch: 2, Iter: 300, Loss: 0.11048813664913178\n",
            "Epoch: 2, Iter: 400, Loss: 0.09510581433773041\n",
            "Epoch: 3, Iter: 100, Loss: 0.0470364910364151\n",
            "Epoch: 3, Iter: 200, Loss: 0.03861152732372284\n",
            "Epoch: 3, Iter: 300, Loss: 0.03429207199811935\n",
            "Epoch: 3, Iter: 400, Loss: 0.0341544468998909\n",
            "Epoch: 4, Iter: 100, Loss: 0.031507647678256034\n",
            "Epoch: 4, Iter: 200, Loss: 0.029747765257954598\n",
            "Epoch: 4, Iter: 300, Loss: 0.03092515315115452\n",
            "Epoch: 4, Iter: 400, Loss: 0.029932702779769896\n",
            "Epoch: 5, Iter: 100, Loss: 0.028277900546789168\n",
            "Epoch: 5, Iter: 200, Loss: 0.028599069207906724\n",
            "Epoch: 5, Iter: 300, Loss: 0.028939305275678635\n",
            "Epoch: 5, Iter: 400, Loss: 0.027231046304106714\n",
            "Epoch: 6, Iter: 100, Loss: 0.026249040216207505\n",
            "Epoch: 6, Iter: 200, Loss: 0.026691009029746054\n",
            "Epoch: 6, Iter: 300, Loss: 0.026080350309610367\n",
            "Epoch: 6, Iter: 400, Loss: 0.025320664048194885\n",
            "Epoch: 7, Iter: 100, Loss: 0.025236752524971963\n",
            "Epoch: 7, Iter: 200, Loss: 0.024304661199450493\n",
            "Epoch: 7, Iter: 300, Loss: 0.024309674367308617\n",
            "Epoch: 7, Iter: 400, Loss: 0.02372244580090046\n",
            "Epoch: 8, Iter: 100, Loss: 0.02340650352835655\n",
            "Epoch: 8, Iter: 200, Loss: 0.02311580102145672\n",
            "Epoch: 8, Iter: 300, Loss: 0.023112867653369902\n",
            "Epoch: 8, Iter: 400, Loss: 0.022594696328043937\n",
            "Epoch: 9, Iter: 100, Loss: 0.022658663921058177\n",
            "Epoch: 9, Iter: 200, Loss: 0.022203342020511628\n",
            "Epoch: 9, Iter: 300, Loss: 0.020893433153629303\n",
            "Epoch: 9, Iter: 400, Loss: 0.021373205170035364\n",
            "Epoch: 10, Iter: 100, Loss: 0.020849522590637208\n",
            "Epoch: 10, Iter: 200, Loss: 0.020619582951068877\n",
            "Epoch: 10, Iter: 300, Loss: 0.02023370286077261\n",
            "Epoch: 10, Iter: 400, Loss: 0.021543091893196108\n"
          ]
        }
      ]
    },
    {
      "cell_type": "markdown",
      "source": [
        "### 4. DeepFC_net128\n",
        "* 2개의 Convolution-layer & 5개의 fc-layer\n",
        "* 64 batch-size"
      ],
      "metadata": {
        "id": "jRyyw49jKVhj"
      }
    },
    {
      "cell_type": "code",
      "source": [
        "for epoch in range(10):\n",
        "\n",
        "    running_loss = 0.0\n",
        "\n",
        "    for i, data in enumerate(train_loader64, start=0):\n",
        "        inputs, labels = data[0].to(device), data[1].to(device)\n",
        "\n",
        "        optimizerFC_64.zero_grad() # epoch마다 gradient 0으로 초기화\n",
        "\n",
        "        outputs = DeepFC_net64(inputs) # y_pred = f(X)\n",
        "        loss = criterion(outputs, labels) # CrossEntropyLoss; 0~1 사이값\n",
        "        loss.backward() # back-propagation; gradient 계산\n",
        "        optimizerFC_64.step() # parameters(weights) update\n",
        "\n",
        "        running_loss += loss.item() # 그냥 전체적인 비교를 위해 누적함\n",
        "\n",
        "        if i % 100 == 99: # 100번 마다 확인; epoch=10, iter(=i)=469, batch=64\n",
        "            print('Epoch: {}, Iter: {}, Loss: {}'.format(epoch+1, i+1, running_loss/2000))\n",
        "            running_loss = 0.0"
      ],
      "metadata": {
        "colab": {
          "base_uri": "https://localhost:8080/"
        },
        "id": "X3847V0dKVhk",
        "outputId": "99231cd9-2545-484f-b1b5-76861d2b5240"
      },
      "execution_count": 40,
      "outputs": [
        {
          "output_type": "stream",
          "name": "stdout",
          "text": [
            "Epoch: 1, Iter: 100, Loss: 0.11516552114486694\n",
            "Epoch: 1, Iter: 200, Loss: 0.11493501901626586\n",
            "Epoch: 1, Iter: 300, Loss: 0.11468230962753295\n",
            "Epoch: 1, Iter: 400, Loss: 0.11425575256347656\n",
            "Epoch: 1, Iter: 500, Loss: 0.1132006264925003\n",
            "Epoch: 1, Iter: 600, Loss: 0.10907390308380127\n",
            "Epoch: 1, Iter: 700, Loss: 0.08740356659889222\n",
            "Epoch: 1, Iter: 800, Loss: 0.052523681432008744\n",
            "Epoch: 1, Iter: 900, Loss: 0.041380770236253736\n",
            "Epoch: 2, Iter: 100, Loss: 0.036946560189127925\n",
            "Epoch: 2, Iter: 200, Loss: 0.03497813592851162\n",
            "Epoch: 2, Iter: 300, Loss: 0.03322546184062958\n",
            "Epoch: 2, Iter: 400, Loss: 0.03276922468841076\n",
            "Epoch: 2, Iter: 500, Loss: 0.031075525507330896\n",
            "Epoch: 2, Iter: 600, Loss: 0.030290081560611724\n",
            "Epoch: 2, Iter: 700, Loss: 0.03116202250123024\n",
            "Epoch: 2, Iter: 800, Loss: 0.028943328827619554\n",
            "Epoch: 2, Iter: 900, Loss: 0.028931564688682555\n",
            "Epoch: 3, Iter: 100, Loss: 0.02908554583787918\n",
            "Epoch: 3, Iter: 200, Loss: 0.02781032671034336\n",
            "Epoch: 3, Iter: 300, Loss: 0.027557857111096384\n",
            "Epoch: 3, Iter: 400, Loss: 0.027293335795402527\n",
            "Epoch: 3, Iter: 500, Loss: 0.027122520446777345\n",
            "Epoch: 3, Iter: 600, Loss: 0.02627041882276535\n",
            "Epoch: 3, Iter: 700, Loss: 0.026652032643556596\n",
            "Epoch: 3, Iter: 800, Loss: 0.02570718391239643\n",
            "Epoch: 3, Iter: 900, Loss: 0.025233579874038695\n",
            "Epoch: 4, Iter: 100, Loss: 0.024072469487786293\n",
            "Epoch: 4, Iter: 200, Loss: 0.024031759455800057\n",
            "Epoch: 4, Iter: 300, Loss: 0.023957478754222394\n",
            "Epoch: 4, Iter: 400, Loss: 0.02393761022388935\n",
            "Epoch: 4, Iter: 500, Loss: 0.02316329374164343\n",
            "Epoch: 4, Iter: 600, Loss: 0.024094565391540528\n",
            "Epoch: 4, Iter: 700, Loss: 0.023895968794822694\n",
            "Epoch: 4, Iter: 800, Loss: 0.022832502752542495\n",
            "Epoch: 4, Iter: 900, Loss: 0.023536906331777574\n",
            "Epoch: 5, Iter: 100, Loss: 0.022885474741458894\n",
            "Epoch: 5, Iter: 200, Loss: 0.02172096599638462\n",
            "Epoch: 5, Iter: 300, Loss: 0.02250567015260458\n",
            "Epoch: 5, Iter: 400, Loss: 0.02140577268600464\n",
            "Epoch: 5, Iter: 500, Loss: 0.021650001525878905\n",
            "Epoch: 5, Iter: 600, Loss: 0.020906445093452932\n",
            "Epoch: 5, Iter: 700, Loss: 0.0208757433667779\n",
            "Epoch: 5, Iter: 800, Loss: 0.02027992843836546\n",
            "Epoch: 5, Iter: 900, Loss: 0.0208088947981596\n",
            "Epoch: 6, Iter: 100, Loss: 0.020309571512043476\n",
            "Epoch: 6, Iter: 200, Loss: 0.02048438962548971\n",
            "Epoch: 6, Iter: 300, Loss: 0.020500657707452775\n",
            "Epoch: 6, Iter: 400, Loss: 0.020355056948959827\n",
            "Epoch: 6, Iter: 500, Loss: 0.020178733862936497\n",
            "Epoch: 6, Iter: 600, Loss: 0.019593352012336255\n",
            "Epoch: 6, Iter: 700, Loss: 0.019079054549336432\n",
            "Epoch: 6, Iter: 800, Loss: 0.019085739098489284\n",
            "Epoch: 6, Iter: 900, Loss: 0.018794628359377383\n",
            "Epoch: 7, Iter: 100, Loss: 0.020138819821178912\n",
            "Epoch: 7, Iter: 200, Loss: 0.019158492639660834\n",
            "Epoch: 7, Iter: 300, Loss: 0.018620012432336807\n",
            "Epoch: 7, Iter: 400, Loss: 0.018754300877451897\n",
            "Epoch: 7, Iter: 500, Loss: 0.018091120831668375\n",
            "Epoch: 7, Iter: 600, Loss: 0.018492548063397406\n",
            "Epoch: 7, Iter: 700, Loss: 0.01824980929493904\n",
            "Epoch: 7, Iter: 800, Loss: 0.018619193702936174\n",
            "Epoch: 7, Iter: 900, Loss: 0.01827234383672476\n",
            "Epoch: 8, Iter: 100, Loss: 0.018387058697640894\n",
            "Epoch: 8, Iter: 200, Loss: 0.016910777442157267\n",
            "Epoch: 8, Iter: 300, Loss: 0.017826155357062817\n",
            "Epoch: 8, Iter: 400, Loss: 0.017297895476222038\n",
            "Epoch: 8, Iter: 500, Loss: 0.01758567914366722\n",
            "Epoch: 8, Iter: 600, Loss: 0.017973024260252716\n",
            "Epoch: 8, Iter: 700, Loss: 0.017447975002229214\n",
            "Epoch: 8, Iter: 800, Loss: 0.016743493504822255\n",
            "Epoch: 8, Iter: 900, Loss: 0.017396060772240162\n",
            "Epoch: 9, Iter: 100, Loss: 0.016253553166985513\n",
            "Epoch: 9, Iter: 200, Loss: 0.01617727779597044\n",
            "Epoch: 9, Iter: 300, Loss: 0.017315469235181808\n",
            "Epoch: 9, Iter: 400, Loss: 0.016405090902000666\n",
            "Epoch: 9, Iter: 500, Loss: 0.01730915555357933\n",
            "Epoch: 9, Iter: 600, Loss: 0.016599956288933754\n",
            "Epoch: 9, Iter: 700, Loss: 0.016589229084551335\n",
            "Epoch: 9, Iter: 800, Loss: 0.016813394151628018\n",
            "Epoch: 9, Iter: 900, Loss: 0.016420711398124694\n",
            "Epoch: 10, Iter: 100, Loss: 0.015950966857373714\n",
            "Epoch: 10, Iter: 200, Loss: 0.01534050415083766\n",
            "Epoch: 10, Iter: 300, Loss: 0.016301081441342832\n",
            "Epoch: 10, Iter: 400, Loss: 0.016760412372648716\n",
            "Epoch: 10, Iter: 500, Loss: 0.015804342824965716\n",
            "Epoch: 10, Iter: 600, Loss: 0.016580114774405956\n",
            "Epoch: 10, Iter: 700, Loss: 0.015624240037053823\n",
            "Epoch: 10, Iter: 800, Loss: 0.015713730305433275\n",
            "Epoch: 10, Iter: 900, Loss: 0.014922885529696941\n"
          ]
        }
      ]
    },
    {
      "cell_type": "markdown",
      "metadata": {
        "id": "5IecfHZiI09W"
      },
      "source": [
        "## 모델 테스트"
      ]
    },
    {
      "cell_type": "code",
      "source": [
        "# 전체 test 데이터에 대해서 성능 확인\n",
        "\n",
        "correct_list = [0]*4\n",
        "total_list = [0]*4\n",
        "a = -1\n",
        "\n",
        "model_list = {'DeepConv' : [DeepConv_net128, DeepConv_net64],\n",
        "              'DeepFC' : [DeepFC_net128, DeepFC_net64]}\n",
        "data_list = [test_loader128, test_loader64]\n",
        "\n",
        "with torch.no_grad(): # grad가 필요없다.\n",
        "\n",
        "    for key in model_list:\n",
        "        for idx in range(len(model_list[key])):\n",
        "            a += 1\n",
        "            model = model_list[key][idx]\n",
        "            data_loader = data_list[idx]\n",
        "            for data in data_loader:\n",
        "                images, labels = data[0].to(device), data[1].to(device)\n",
        "\n",
        "                outputs = model(images)\n",
        "                _, predicted = torch.max(outputs.data, 1)\n",
        "\n",
        "                total_list[a] += labels.size(0)\n",
        "                correct_list[a] += (predicted == labels).sum().item()\n",
        "            \n",
        "correct_rate = np.array(correct_list) / np.array(total_list)\n",
        "model_name = ['DeepConv_net128', 'DeepConv_net64', 'DeepFC_net128', 'DeepFC_net64']\n",
        "\n",
        "for i in range(len(correct_rate)):\n",
        "    print('{0} : {1}'.format(model_name[i], correct_rate[i]))"
      ],
      "metadata": {
        "colab": {
          "base_uri": "https://localhost:8080/"
        },
        "id": "VjVs_iS0rlof",
        "outputId": "850d7576-92f9-46f4-e44d-e7f3116c76e7"
      },
      "execution_count": 41,
      "outputs": [
        {
          "output_type": "stream",
          "name": "stdout",
          "text": [
            "DeepConv_net128 : 0.1\n",
            "DeepConv_net64 : 0.1\n",
            "DeepFC_net128 : 0.8408\n",
            "DeepFC_net64 : 0.8757\n"
          ]
        }
      ]
    },
    {
      "cell_type": "markdown",
      "source": [
        "# FashionMNIST 분류 모델 중 성능이 낮은 모델 이유 확인"
      ],
      "metadata": {
        "id": "SZcZQv4PGeYv"
      }
    },
    {
      "cell_type": "markdown",
      "source": [
        "## Convolution-layer를 하나씩 추가하면서, 성능변화를 관찰"
      ],
      "metadata": {
        "id": "V7HoLqroDhyF"
      }
    },
    {
      "cell_type": "markdown",
      "source": [
        "### 3개의 convolution-layer 사용시"
      ],
      "metadata": {
        "id": "_civVcIYBGxA"
      }
    },
    {
      "cell_type": "code",
      "source": [
        "class CNN_Model3(nn.Module):\n",
        "    def __init__(self):\n",
        "        super(CNN_Model3, self).__init__()\n",
        "\n",
        "        self.conv1 = nn.Conv2d(in_channels=1, out_channels=5, kernel_size=3, stride=1, padding=2)\n",
        "        self.conv2 = nn.Conv2d(5, 7, 3, padding=1)\n",
        "        self.conv3 = nn.Conv2d(7, 16, 2, padding=1)\n",
        "\n",
        "        self.fc1 = nn.Linear(16* 16 * 16, 3000)\n",
        "        self.fc2 = nn.Linear(3000, 1500)\n",
        "        self.fc3 = nn.Linear(1500, 20 * 3 * 3)\n",
        "        self.fc4 = nn.Linear(20 * 3 * 3, 86)\n",
        "        self.fc5 = nn.Linear(86, 10) # 10 : 10개의 category\n",
        "\n",
        "    def forward(self, x):\n",
        "        x = F.relu(self.conv1(x))\n",
        "        x = F.max_pool2d(x, (2,2))\n",
        "        x = F.relu(self.conv2(x))\n",
        "        x = F.relu(self.conv3(x))\n",
        "\n",
        "        x = x.view(-1, self.num_flat_features(x)) # num_flat_features : 아래에서 정의\n",
        "\n",
        "        x = F.relu(self.fc1(x))\n",
        "        x = F.relu(self.fc2(x))\n",
        "        x = F.relu(self.fc3(x))\n",
        "        x = F.relu(self.fc4(x))\n",
        "        x = self.fc5(x)\n",
        "\n",
        "        return x\n",
        "    \n",
        "    def num_flat_features(self, x): # 처음 dim-size을 제외하고, 모두 곱한 값을 반환해준다.\n",
        "        size = x.size()[1:]\n",
        "        num_features = 1\n",
        "        for s in size:\n",
        "            num_features *= s\n",
        "        \n",
        "        return num_features"
      ],
      "metadata": {
        "id": "29zvOdhT-fwY"
      },
      "execution_count": 42,
      "outputs": []
    },
    {
      "cell_type": "code",
      "source": [
        "# 모델객체 생성\n",
        "new_model = CNN_Model3().to(device)\n",
        "\n",
        "print(new_model)"
      ],
      "metadata": {
        "colab": {
          "base_uri": "https://localhost:8080/"
        },
        "outputId": "1b0a04bb-05ca-4d39-c28e-abff28f31320",
        "id": "t81gXZmz-fwY"
      },
      "execution_count": 43,
      "outputs": [
        {
          "output_type": "stream",
          "name": "stdout",
          "text": [
            "CNN_Model3(\n",
            "  (conv1): Conv2d(1, 5, kernel_size=(3, 3), stride=(1, 1), padding=(2, 2))\n",
            "  (conv2): Conv2d(5, 7, kernel_size=(3, 3), stride=(1, 1), padding=(1, 1))\n",
            "  (conv3): Conv2d(7, 16, kernel_size=(2, 2), stride=(1, 1), padding=(1, 1))\n",
            "  (fc1): Linear(in_features=4096, out_features=3000, bias=True)\n",
            "  (fc2): Linear(in_features=3000, out_features=1500, bias=True)\n",
            "  (fc3): Linear(in_features=1500, out_features=180, bias=True)\n",
            "  (fc4): Linear(in_features=180, out_features=86, bias=True)\n",
            "  (fc5): Linear(in_features=86, out_features=10, bias=True)\n",
            ")\n"
          ]
        }
      ]
    },
    {
      "cell_type": "code",
      "source": [
        "summary(new_model, input_size=(1, 28, 28), batch_size=128)"
      ],
      "metadata": {
        "colab": {
          "base_uri": "https://localhost:8080/"
        },
        "id": "Bb2EkGUbBnuM",
        "outputId": "4e54146d-293d-4bca-cb0f-928fd02dd494"
      },
      "execution_count": 44,
      "outputs": [
        {
          "output_type": "stream",
          "name": "stdout",
          "text": [
            "----------------------------------------------------------------\n",
            "        Layer (type)               Output Shape         Param #\n",
            "================================================================\n",
            "            Conv2d-1           [128, 5, 30, 30]              50\n",
            "            Conv2d-2           [128, 7, 15, 15]             322\n",
            "            Conv2d-3          [128, 16, 16, 16]             464\n",
            "            Linear-4                [128, 3000]      12,291,000\n",
            "            Linear-5                [128, 1500]       4,501,500\n",
            "            Linear-6                 [128, 180]         270,180\n",
            "            Linear-7                  [128, 86]          15,566\n",
            "            Linear-8                  [128, 10]             870\n",
            "================================================================\n",
            "Total params: 17,079,952\n",
            "Trainable params: 17,079,952\n",
            "Non-trainable params: 0\n",
            "----------------------------------------------------------------\n",
            "Input size (MB): 0.38\n",
            "Forward/backward pass size (MB): 14.60\n",
            "Params size (MB): 65.15\n",
            "Estimated Total Size (MB): 80.13\n",
            "----------------------------------------------------------------\n"
          ]
        }
      ]
    },
    {
      "cell_type": "code",
      "source": [
        "optimizer = optim.SGD(new_model.parameters(), lr=0.001, momentum=0.9)"
      ],
      "metadata": {
        "id": "aQDT4bYIBsZl"
      },
      "execution_count": 45,
      "outputs": []
    },
    {
      "cell_type": "code",
      "source": [
        "for epoch in range(10):\n",
        "\n",
        "    running_loss = 0.0\n",
        "\n",
        "    for i, data in enumerate(train_loader128, start=0):\n",
        "        inputs, labels = data[0].to(device), data[1].to(device)\n",
        "\n",
        "        optimizer.zero_grad() # epoch마다 gradient 0으로 초기화\n",
        "\n",
        "        outputs = new_model(inputs) # y_pred = f(X)\n",
        "        loss = criterion(outputs, labels) # CrossEntropyLoss; 0~1 사이값\n",
        "        loss.backward() # back-propagation; gradient 계산\n",
        "        optimizer.step() # parameters(weights) update\n",
        "\n",
        "        running_loss += loss.item() # 그냥 전체적인 비교를 위해 누적함\n",
        "\n",
        "        if i % 100 == 99: # 100번 마다 확인; epoch=10, iter(=i)=469, batch=128\n",
        "            print('Epoch: {}, Iter: {}, Loss: {}'.format(epoch+1, i+1, running_loss/2000))\n",
        "            running_loss = 0.0"
      ],
      "metadata": {
        "colab": {
          "base_uri": "https://localhost:8080/"
        },
        "id": "D6GqkR8nBwhH",
        "outputId": "24350470-3b94-412a-8d81-518daf4fbebb"
      },
      "execution_count": 46,
      "outputs": [
        {
          "output_type": "stream",
          "name": "stdout",
          "text": [
            "Epoch: 1, Iter: 100, Loss: 0.11515422439575196\n",
            "Epoch: 1, Iter: 200, Loss: 0.11518697106838226\n",
            "Epoch: 1, Iter: 300, Loss: 0.11513840281963349\n",
            "Epoch: 1, Iter: 400, Loss: 0.11510563170909882\n",
            "Epoch: 2, Iter: 100, Loss: 0.11508533453941346\n",
            "Epoch: 2, Iter: 200, Loss: 0.1150416989326477\n",
            "Epoch: 2, Iter: 300, Loss: 0.11504570412635803\n",
            "Epoch: 2, Iter: 400, Loss: 0.11499481761455536\n",
            "Epoch: 3, Iter: 100, Loss: 0.11495190465450286\n",
            "Epoch: 3, Iter: 200, Loss: 0.11489908015727997\n",
            "Epoch: 3, Iter: 300, Loss: 0.11483227944374085\n",
            "Epoch: 3, Iter: 400, Loss: 0.11476672971248626\n",
            "Epoch: 4, Iter: 100, Loss: 0.11451713573932648\n",
            "Epoch: 4, Iter: 200, Loss: 0.11422385036945343\n",
            "Epoch: 4, Iter: 300, Loss: 0.11377710652351379\n",
            "Epoch: 4, Iter: 400, Loss: 0.11284722685813904\n",
            "Epoch: 5, Iter: 100, Loss: 0.10094634360074997\n",
            "Epoch: 5, Iter: 200, Loss: 0.06462749475240707\n",
            "Epoch: 5, Iter: 300, Loss: 0.04569476935267448\n",
            "Epoch: 5, Iter: 400, Loss: 0.04072203016281128\n",
            "Epoch: 6, Iter: 100, Loss: 0.03425860367715359\n",
            "Epoch: 6, Iter: 200, Loss: 0.03371313852071762\n",
            "Epoch: 6, Iter: 300, Loss: 0.0322648418545723\n",
            "Epoch: 6, Iter: 400, Loss: 0.03200331026315689\n",
            "Epoch: 7, Iter: 100, Loss: 0.03049969905614853\n",
            "Epoch: 7, Iter: 200, Loss: 0.02945111671090126\n",
            "Epoch: 7, Iter: 300, Loss: 0.028595577254891397\n",
            "Epoch: 7, Iter: 400, Loss: 0.028859681576490402\n",
            "Epoch: 8, Iter: 100, Loss: 0.027880711778998375\n",
            "Epoch: 8, Iter: 200, Loss: 0.027238355576992036\n",
            "Epoch: 8, Iter: 300, Loss: 0.026712583720684052\n",
            "Epoch: 8, Iter: 400, Loss: 0.026815856739878654\n",
            "Epoch: 9, Iter: 100, Loss: 0.025120123118162155\n",
            "Epoch: 9, Iter: 200, Loss: 0.025962058395147324\n",
            "Epoch: 9, Iter: 300, Loss: 0.024766922742128373\n",
            "Epoch: 9, Iter: 400, Loss: 0.024667810291051865\n",
            "Epoch: 10, Iter: 100, Loss: 0.024195058032870292\n",
            "Epoch: 10, Iter: 200, Loss: 0.0228782207518816\n",
            "Epoch: 10, Iter: 300, Loss: 0.024077397316694258\n",
            "Epoch: 10, Iter: 400, Loss: 0.023561636477708817\n"
          ]
        }
      ]
    },
    {
      "cell_type": "code",
      "source": [
        "correct = 0\n",
        "total = 0\n",
        "\n",
        "with torch.no_grad():\n",
        "    for data in test_loader128:\n",
        "        images, labels = data[0].to(device), data[1].to(device)\n",
        "        outputs = new_model(images)\n",
        "        _, predicted = torch.max(outputs.data, axis=1)\n",
        "        total += labels.size(0)\n",
        "        correct += (predicted == labels).sum().item()\n",
        "    \n",
        "    print(100 * correct / total)"
      ],
      "metadata": {
        "colab": {
          "base_uri": "https://localhost:8080/"
        },
        "id": "1PDu2v9bB_NE",
        "outputId": "7f60f375-9948-412d-f4be-35886b190971"
      },
      "execution_count": 47,
      "outputs": [
        {
          "output_type": "stream",
          "name": "stdout",
          "text": [
            "82.63\n"
          ]
        }
      ]
    },
    {
      "cell_type": "markdown",
      "source": [
        "### 4개의 convolution-layer 사용시"
      ],
      "metadata": {
        "id": "7Thu9NRyCV7j"
      }
    },
    {
      "cell_type": "code",
      "source": [
        "class CNN_Model4(nn.Module):\n",
        "    def __init__(self):\n",
        "        super(CNN_Model4, self).__init__()\n",
        "\n",
        "        self.conv1 = nn.Conv2d(in_channels=1, out_channels=5, kernel_size=3, stride=1, padding=2)\n",
        "        self.conv2 = nn.Conv2d(5, 7, 3, padding=1)\n",
        "        self.conv3 = nn.Conv2d(7, 16, 2, padding=1)\n",
        "        self.conv4 = nn.Conv2d(16, 19, 2)\n",
        "\n",
        "        self.fc1 = nn.Linear(15* 15 * 19, 3000)\n",
        "        self.fc2 = nn.Linear(3000, 1500)\n",
        "        self.fc3 = nn.Linear(1500, 20 * 3 * 3)\n",
        "        self.fc4 = nn.Linear(20 * 3 * 3, 86)\n",
        "        self.fc5 = nn.Linear(86, 10) # 10 : 10개의 category\n",
        "\n",
        "    def forward(self, x):\n",
        "        x = F.relu(self.conv1(x))\n",
        "        x = F.max_pool2d(x, (2,2))\n",
        "        x = F.relu(self.conv2(x))\n",
        "        x = F.relu(self.conv3(x))\n",
        "        x = F.relu(self.conv4(x))\n",
        "\n",
        "        x = x.view(-1, self.num_flat_features(x)) # num_flat_features : 아래에서 정의\n",
        "\n",
        "        x = F.relu(self.fc1(x))\n",
        "        x = F.relu(self.fc2(x))\n",
        "        x = F.relu(self.fc3(x))\n",
        "        x = F.relu(self.fc4(x))\n",
        "        x = self.fc5(x)\n",
        "\n",
        "        return x\n",
        "    \n",
        "    def num_flat_features(self, x): # 처음 dim-size을 제외하고, 모두 곱한 값을 반환해준다.\n",
        "        size = x.size()[1:]\n",
        "        num_features = 1\n",
        "        for s in size:\n",
        "            num_features *= s\n",
        "        \n",
        "        return num_features"
      ],
      "metadata": {
        "id": "V9PQvGFPCV7k"
      },
      "execution_count": 54,
      "outputs": []
    },
    {
      "cell_type": "code",
      "source": [
        "# 모델객체 생성\n",
        "new_model = CNN_Model4().to(device)\n",
        "\n",
        "print(new_model)"
      ],
      "metadata": {
        "colab": {
          "base_uri": "https://localhost:8080/"
        },
        "outputId": "e00d8592-f7fa-4e0b-9bda-97823aa282ff",
        "id": "HNAL7SRZCV7k"
      },
      "execution_count": 55,
      "outputs": [
        {
          "output_type": "stream",
          "name": "stdout",
          "text": [
            "CNN_Model4(\n",
            "  (conv1): Conv2d(1, 5, kernel_size=(3, 3), stride=(1, 1), padding=(2, 2))\n",
            "  (conv2): Conv2d(5, 7, kernel_size=(3, 3), stride=(1, 1), padding=(1, 1))\n",
            "  (conv3): Conv2d(7, 16, kernel_size=(2, 2), stride=(1, 1), padding=(1, 1))\n",
            "  (conv4): Conv2d(16, 19, kernel_size=(2, 2), stride=(1, 1))\n",
            "  (fc1): Linear(in_features=4275, out_features=3000, bias=True)\n",
            "  (fc2): Linear(in_features=3000, out_features=1500, bias=True)\n",
            "  (fc3): Linear(in_features=1500, out_features=180, bias=True)\n",
            "  (fc4): Linear(in_features=180, out_features=86, bias=True)\n",
            "  (fc5): Linear(in_features=86, out_features=10, bias=True)\n",
            ")\n"
          ]
        }
      ]
    },
    {
      "cell_type": "code",
      "source": [
        "summary(new_model, input_size=(1, 28, 28), batch_size=128)"
      ],
      "metadata": {
        "colab": {
          "base_uri": "https://localhost:8080/"
        },
        "outputId": "7719f2ec-a317-4e49-b4d7-91c4439dcc87",
        "id": "fHmIarJBCV7k"
      },
      "execution_count": 56,
      "outputs": [
        {
          "output_type": "stream",
          "name": "stdout",
          "text": [
            "----------------------------------------------------------------\n",
            "        Layer (type)               Output Shape         Param #\n",
            "================================================================\n",
            "            Conv2d-1           [128, 5, 30, 30]              50\n",
            "            Conv2d-2           [128, 7, 15, 15]             322\n",
            "            Conv2d-3          [128, 16, 16, 16]             464\n",
            "            Conv2d-4          [128, 19, 15, 15]           1,235\n",
            "            Linear-5                [128, 3000]      12,828,000\n",
            "            Linear-6                [128, 1500]       4,501,500\n",
            "            Linear-7                 [128, 180]         270,180\n",
            "            Linear-8                  [128, 86]          15,566\n",
            "            Linear-9                  [128, 10]             870\n",
            "================================================================\n",
            "Total params: 17,618,187\n",
            "Trainable params: 17,618,187\n",
            "Non-trainable params: 0\n",
            "----------------------------------------------------------------\n",
            "Input size (MB): 0.38\n",
            "Forward/backward pass size (MB): 18.77\n",
            "Params size (MB): 67.21\n",
            "Estimated Total Size (MB): 86.36\n",
            "----------------------------------------------------------------\n"
          ]
        }
      ]
    },
    {
      "cell_type": "code",
      "source": [
        "optimizer = optim.SGD(new_model.parameters(), lr=0.001, momentum=0.9)"
      ],
      "metadata": {
        "id": "z6gegPTRCV7k"
      },
      "execution_count": 57,
      "outputs": []
    },
    {
      "cell_type": "code",
      "source": [
        "for epoch in range(10):\n",
        "\n",
        "    running_loss = 0.0\n",
        "\n",
        "    for i, data in enumerate(train_loader128, start=0):\n",
        "        inputs, labels = data[0].to(device), data[1].to(device)\n",
        "\n",
        "        optimizer.zero_grad() # epoch마다 gradient 0으로 초기화\n",
        "\n",
        "        outputs = new_model(inputs) # y_pred = f(X)\n",
        "        loss = criterion(outputs, labels) # CrossEntropyLoss; 0~1 사이값\n",
        "        loss.backward() # back-propagation; gradient 계산\n",
        "        optimizer.step() # parameters(weights) update\n",
        "\n",
        "        running_loss += loss.item() # 그냥 전체적인 비교를 위해 누적함\n",
        "\n",
        "        if i % 100 == 99: # 100번 마다 확인; epoch=10, iter(=i)=469, batch=128\n",
        "            print('Epoch: {}, Iter: {}, Loss: {}'.format(epoch+1, i+1, running_loss/2000))\n",
        "            running_loss = 0.0"
      ],
      "metadata": {
        "colab": {
          "base_uri": "https://localhost:8080/"
        },
        "outputId": "d65892ff-ed34-42fb-9f58-c007f9ab9ea0",
        "id": "oeeKVQdKCV7k"
      },
      "execution_count": 58,
      "outputs": [
        {
          "output_type": "stream",
          "name": "stdout",
          "text": [
            "Epoch: 1, Iter: 100, Loss: 0.11522395622730255\n",
            "Epoch: 1, Iter: 200, Loss: 0.11520297837257386\n",
            "Epoch: 1, Iter: 300, Loss: 0.11517366755008697\n",
            "Epoch: 1, Iter: 400, Loss: 0.11517030453681945\n",
            "Epoch: 2, Iter: 100, Loss: 0.11513225483894349\n",
            "Epoch: 2, Iter: 200, Loss: 0.11512748563289642\n",
            "Epoch: 2, Iter: 300, Loss: 0.11510876548290253\n",
            "Epoch: 2, Iter: 400, Loss: 0.11512458014488221\n",
            "Epoch: 3, Iter: 100, Loss: 0.11510701739788055\n",
            "Epoch: 3, Iter: 200, Loss: 0.11508299100399018\n",
            "Epoch: 3, Iter: 300, Loss: 0.11507918870449066\n",
            "Epoch: 3, Iter: 400, Loss: 0.11507386600971221\n",
            "Epoch: 4, Iter: 100, Loss: 0.11506104457378387\n",
            "Epoch: 4, Iter: 200, Loss: 0.1150484436750412\n",
            "Epoch: 4, Iter: 300, Loss: 0.11503587257862091\n",
            "Epoch: 4, Iter: 400, Loss: 0.1150230221748352\n",
            "Epoch: 5, Iter: 100, Loss: 0.11499057126045227\n",
            "Epoch: 5, Iter: 200, Loss: 0.11496666610240937\n",
            "Epoch: 5, Iter: 300, Loss: 0.11493022561073303\n",
            "Epoch: 5, Iter: 400, Loss: 0.11488782238960266\n",
            "Epoch: 6, Iter: 100, Loss: 0.11477534961700439\n",
            "Epoch: 6, Iter: 200, Loss: 0.11465467858314514\n",
            "Epoch: 6, Iter: 300, Loss: 0.11448288774490356\n",
            "Epoch: 6, Iter: 400, Loss: 0.11417074394226075\n",
            "Epoch: 7, Iter: 100, Loss: 0.11263993680477143\n",
            "Epoch: 7, Iter: 200, Loss: 0.10606378704309463\n",
            "Epoch: 7, Iter: 300, Loss: 0.07529069685935974\n",
            "Epoch: 7, Iter: 400, Loss: 0.04533320188522339\n",
            "Epoch: 8, Iter: 100, Loss: 0.03462961642444134\n",
            "Epoch: 8, Iter: 200, Loss: 0.032564626798033715\n",
            "Epoch: 8, Iter: 300, Loss: 0.032966175615787505\n",
            "Epoch: 8, Iter: 400, Loss: 0.030943137094378473\n",
            "Epoch: 9, Iter: 100, Loss: 0.03087774060666561\n",
            "Epoch: 9, Iter: 200, Loss: 0.029501756489276887\n",
            "Epoch: 9, Iter: 300, Loss: 0.028843376815319063\n",
            "Epoch: 9, Iter: 400, Loss: 0.028278835758566857\n",
            "Epoch: 10, Iter: 100, Loss: 0.026898530796170234\n",
            "Epoch: 10, Iter: 200, Loss: 0.02778854739665985\n",
            "Epoch: 10, Iter: 300, Loss: 0.02678434333205223\n",
            "Epoch: 10, Iter: 400, Loss: 0.026512857034802436\n"
          ]
        }
      ]
    },
    {
      "cell_type": "code",
      "source": [
        "correct = 0\n",
        "total = 0\n",
        "\n",
        "with torch.no_grad():\n",
        "    for data in test_loader128:\n",
        "        images, labels = data[0].to(device), data[1].to(device)\n",
        "        outputs = new_model(images)\n",
        "        _, predicted = torch.max(outputs.data, axis=1)\n",
        "        total += labels.size(0)\n",
        "        correct += (predicted == labels).sum().item()\n",
        "    \n",
        "    print(100 * correct / total)"
      ],
      "metadata": {
        "colab": {
          "base_uri": "https://localhost:8080/"
        },
        "id": "w3uuDeS_CV7k",
        "outputId": "95fa93da-54a3-49ba-c4f2-e6700576f8fb"
      },
      "execution_count": 59,
      "outputs": [
        {
          "output_type": "stream",
          "name": "stdout",
          "text": [
            "79.6\n"
          ]
        }
      ]
    },
    {
      "cell_type": "markdown",
      "source": [
        "### 5개의 convolution-layer 사용시"
      ],
      "metadata": {
        "id": "kuP_3_DyD42p"
      }
    },
    {
      "cell_type": "code",
      "source": [
        "class CNN_Model5(nn.Module):\n",
        "    def __init__(self):\n",
        "        super(CNN_Model5, self).__init__()\n",
        "\n",
        "        self.conv1 = nn.Conv2d(in_channels=1, out_channels=5, kernel_size=3, stride=1, padding=2)\n",
        "        self.conv2 = nn.Conv2d(5, 7, 3, padding=1)      \n",
        "        self.conv3 = nn.Conv2d(7, 16, 2, padding=1)\n",
        "        self.conv4 = nn.Conv2d(16, 19, 2)\n",
        "        self.conv5 = nn.Conv2d(19, 29, 3)\n",
        "\n",
        "        self.fc1 = nn.Linear(29 * 13 * 13, 100)\n",
        "        self.fc2 = nn.Linear(100, 50)\n",
        "        self.fc3 = nn.Linear(50, 25)\n",
        "        self.fc4 = nn.Linear(25, 10) # 10 : 10개의 category\n",
        "\n",
        "    def forward(self, x):\n",
        "        x = F.relu(self.conv1(x))\n",
        "        x = F.max_pool2d(x, (2,2))\n",
        "        x = F.relu(self.conv2(x))\n",
        "        x = F.relu(self.conv3(x))\n",
        "        x = F.relu(self.conv4(x))\n",
        "        x = F.relu(self.conv5(x))\n",
        "\n",
        "        x = x.view(-1, self.num_flat_features(x)) # num_flat_features : 아래에서 정의\n",
        "\n",
        "        x = F.relu(self.fc1(x))\n",
        "        x = F.relu(self.fc2(x))\n",
        "        x = F.relu(self.fc3(x))\n",
        "        x = self.fc4(x)\n",
        "\n",
        "        return x\n",
        "    \n",
        "    def num_flat_features(self, x): # 처음 dim-size을 제외하고, 모두 곱한 값을 반환해준다.\n",
        "        size = x.size()[1:]\n",
        "        num_features = 1\n",
        "        for s in size:\n",
        "            num_features *= s\n",
        "        \n",
        "        return num_features"
      ],
      "metadata": {
        "id": "Bk1u7iloD42q"
      },
      "execution_count": 60,
      "outputs": []
    },
    {
      "cell_type": "code",
      "source": [
        "# 모델객체 생성\n",
        "new_model = CNN_Model5().to(device)\n",
        "\n",
        "print(new_model)"
      ],
      "metadata": {
        "colab": {
          "base_uri": "https://localhost:8080/"
        },
        "outputId": "4657a907-a59f-4422-de68-ed480af4f355",
        "id": "GPoNB-4vD42q"
      },
      "execution_count": 61,
      "outputs": [
        {
          "output_type": "stream",
          "name": "stdout",
          "text": [
            "CNN_Model5(\n",
            "  (conv1): Conv2d(1, 5, kernel_size=(3, 3), stride=(1, 1), padding=(2, 2))\n",
            "  (conv2): Conv2d(5, 7, kernel_size=(3, 3), stride=(1, 1), padding=(1, 1))\n",
            "  (conv3): Conv2d(7, 16, kernel_size=(2, 2), stride=(1, 1), padding=(1, 1))\n",
            "  (conv4): Conv2d(16, 19, kernel_size=(2, 2), stride=(1, 1))\n",
            "  (conv5): Conv2d(19, 29, kernel_size=(3, 3), stride=(1, 1))\n",
            "  (fc1): Linear(in_features=4901, out_features=100, bias=True)\n",
            "  (fc2): Linear(in_features=100, out_features=50, bias=True)\n",
            "  (fc3): Linear(in_features=50, out_features=25, bias=True)\n",
            "  (fc4): Linear(in_features=25, out_features=10, bias=True)\n",
            ")\n"
          ]
        }
      ]
    },
    {
      "cell_type": "code",
      "source": [
        "summary(new_model, input_size=(1, 28, 28), batch_size=128)"
      ],
      "metadata": {
        "colab": {
          "base_uri": "https://localhost:8080/"
        },
        "outputId": "7e2f3543-f06c-4f9f-8c2e-e856b3267e81",
        "id": "aDvnyPw6D42q"
      },
      "execution_count": 62,
      "outputs": [
        {
          "output_type": "stream",
          "name": "stdout",
          "text": [
            "----------------------------------------------------------------\n",
            "        Layer (type)               Output Shape         Param #\n",
            "================================================================\n",
            "            Conv2d-1           [128, 5, 30, 30]              50\n",
            "            Conv2d-2           [128, 7, 15, 15]             322\n",
            "            Conv2d-3          [128, 16, 16, 16]             464\n",
            "            Conv2d-4          [128, 19, 15, 15]           1,235\n",
            "            Conv2d-5          [128, 29, 13, 13]           4,988\n",
            "            Linear-6                 [128, 100]         490,200\n",
            "            Linear-7                  [128, 50]           5,050\n",
            "            Linear-8                  [128, 25]           1,275\n",
            "            Linear-9                  [128, 10]             260\n",
            "================================================================\n",
            "Total params: 503,844\n",
            "Trainable params: 503,844\n",
            "Non-trainable params: 0\n",
            "----------------------------------------------------------------\n",
            "Input size (MB): 0.38\n",
            "Forward/backward pass size (MB): 19.07\n",
            "Params size (MB): 1.92\n",
            "Estimated Total Size (MB): 21.38\n",
            "----------------------------------------------------------------\n"
          ]
        }
      ]
    },
    {
      "cell_type": "code",
      "source": [
        "optimizer = optim.SGD(new_model.parameters(), lr=0.001, momentum=0.9)"
      ],
      "metadata": {
        "id": "QmOiVQDLD42q"
      },
      "execution_count": 63,
      "outputs": []
    },
    {
      "cell_type": "code",
      "source": [
        "for epoch in range(10):\n",
        "\n",
        "    running_loss = 0.0\n",
        "\n",
        "    for i, data in enumerate(train_loader128, start=0):\n",
        "        inputs, labels = data[0].to(device), data[1].to(device)\n",
        "\n",
        "        optimizer.zero_grad() # epoch마다 gradient 0으로 초기화\n",
        "\n",
        "        outputs = new_model(inputs) # y_pred = f(X)\n",
        "        loss = criterion(outputs, labels) # CrossEntropyLoss; 0~1 사이값\n",
        "        loss.backward() # back-propagation; gradient 계산\n",
        "        optimizer.step() # parameters(weights) update\n",
        "\n",
        "        running_loss += loss.item() # 그냥 전체적인 비교를 위해 누적함\n",
        "\n",
        "        if i % 100 == 99: # 100번 마다 확인; epoch=10, iter(=i)=469, batch=128\n",
        "            print('Epoch: {}, Iter: {}, Loss: {}'.format(epoch+1, i+1, running_loss/2000))\n",
        "            running_loss = 0.0"
      ],
      "metadata": {
        "colab": {
          "base_uri": "https://localhost:8080/"
        },
        "outputId": "aa2d4edf-ec32-447b-9e26-15d90531a491",
        "id": "eS9fQfeED42q"
      },
      "execution_count": 64,
      "outputs": [
        {
          "output_type": "stream",
          "name": "stdout",
          "text": [
            "Epoch: 1, Iter: 100, Loss: 0.11540176331996918\n",
            "Epoch: 1, Iter: 200, Loss: 0.11538287031650543\n",
            "Epoch: 1, Iter: 300, Loss: 0.11528286194801331\n",
            "Epoch: 1, Iter: 400, Loss: 0.11529573130607605\n",
            "Epoch: 2, Iter: 100, Loss: 0.11517993021011352\n",
            "Epoch: 2, Iter: 200, Loss: 0.11522552466392517\n",
            "Epoch: 2, Iter: 300, Loss: 0.1152014399766922\n",
            "Epoch: 2, Iter: 400, Loss: 0.11517261815071106\n",
            "Epoch: 3, Iter: 100, Loss: 0.1151808031797409\n",
            "Epoch: 3, Iter: 200, Loss: 0.11515441346168519\n",
            "Epoch: 3, Iter: 300, Loss: 0.11513832950592041\n",
            "Epoch: 3, Iter: 400, Loss: 0.1151190527677536\n",
            "Epoch: 4, Iter: 100, Loss: 0.11512292861938477\n",
            "Epoch: 4, Iter: 200, Loss: 0.11513926231861114\n",
            "Epoch: 4, Iter: 300, Loss: 0.1151345009803772\n",
            "Epoch: 4, Iter: 400, Loss: 0.1151377032995224\n",
            "Epoch: 5, Iter: 100, Loss: 0.11513271272182464\n",
            "Epoch: 5, Iter: 200, Loss: 0.11512785911560058\n",
            "Epoch: 5, Iter: 300, Loss: 0.1151254814863205\n",
            "Epoch: 5, Iter: 400, Loss: 0.1151287249326706\n",
            "Epoch: 6, Iter: 100, Loss: 0.11512484335899353\n",
            "Epoch: 6, Iter: 200, Loss: 0.11512523603439331\n",
            "Epoch: 6, Iter: 300, Loss: 0.11512326431274414\n",
            "Epoch: 6, Iter: 400, Loss: 0.11513033246994019\n",
            "Epoch: 7, Iter: 100, Loss: 0.11512524044513703\n",
            "Epoch: 7, Iter: 200, Loss: 0.1151236742734909\n",
            "Epoch: 7, Iter: 300, Loss: 0.1151221364736557\n",
            "Epoch: 7, Iter: 400, Loss: 0.11512438559532165\n",
            "Epoch: 8, Iter: 100, Loss: 0.11512194979190826\n",
            "Epoch: 8, Iter: 200, Loss: 0.11511629784107208\n",
            "Epoch: 8, Iter: 300, Loss: 0.11512385606765747\n",
            "Epoch: 8, Iter: 400, Loss: 0.11512348222732544\n",
            "Epoch: 9, Iter: 100, Loss: 0.11511569166183472\n",
            "Epoch: 9, Iter: 200, Loss: 0.11511901986598969\n",
            "Epoch: 9, Iter: 300, Loss: 0.11511787366867066\n",
            "Epoch: 9, Iter: 400, Loss: 0.11512033712863923\n",
            "Epoch: 10, Iter: 100, Loss: 0.11511414062976837\n",
            "Epoch: 10, Iter: 200, Loss: 0.1151140239238739\n",
            "Epoch: 10, Iter: 300, Loss: 0.11511589908599854\n",
            "Epoch: 10, Iter: 400, Loss: 0.11511373901367188\n"
          ]
        }
      ]
    },
    {
      "cell_type": "code",
      "source": [
        "correct = 0\n",
        "total = 0\n",
        "\n",
        "with torch.no_grad():\n",
        "    for data in test_loader128:\n",
        "        images, labels = data[0].to(device), data[1].to(device)\n",
        "        outputs = new_model(images)\n",
        "        _, predicted = torch.max(outputs.data, axis=1)\n",
        "        total += labels.size(0)\n",
        "        correct += (predicted == labels).sum().item()\n",
        "    \n",
        "    print(100 * correct / total)"
      ],
      "metadata": {
        "colab": {
          "base_uri": "https://localhost:8080/"
        },
        "outputId": "23072281-2da5-4b1c-d7c7-894be38dc12f",
        "id": "X0H3p7PGD42q"
      },
      "execution_count": 65,
      "outputs": [
        {
          "output_type": "stream",
          "name": "stdout",
          "text": [
            "9.46\n"
          ]
        }
      ]
    }
  ]
}