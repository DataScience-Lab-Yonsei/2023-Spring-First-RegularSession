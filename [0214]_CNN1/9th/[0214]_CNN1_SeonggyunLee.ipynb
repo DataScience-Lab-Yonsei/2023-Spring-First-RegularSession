{
  "cells": [
    {
      "cell_type": "markdown",
      "metadata": {
        "id": "cdNvme8aKSBP"
      },
      "source": [
        "# 초기 세팅"
      ]
    },
    {
      "cell_type": "code",
      "execution_count": 1,
      "metadata": {
        "id": "P1v9luAfHXdz"
      },
      "outputs": [],
      "source": [
        "import torch\n",
        "import torch.nn as nn\n",
        "import torch.nn.functional as F\n",
        "import torch.optim as optim\n",
        "from torch.utils.data import Dataset, DataLoader\n",
        "\n",
        "import torchvision\n",
        "import torchvision.datasets as datasets\n",
        "import torchvision.transforms as transforms\n",
        "\n",
        "import numpy as np\n",
        "import matplotlib.pyplot as plt\n",
        "plt.style.use('seaborn-white')"
      ]
    },
    {
      "cell_type": "code",
      "execution_count": 2,
      "metadata": {
        "colab": {
          "base_uri": "https://localhost:8080/"
        },
        "id": "D39aCPyTu2Ce",
        "outputId": "3964d01e-0470-48f4-ad90-2c00a1f0d983"
      },
      "outputs": [
        {
          "output_type": "stream",
          "name": "stdout",
          "text": [
            "Looking in indexes: https://pypi.org/simple, https://us-python.pkg.dev/colab-wheels/public/simple/\n",
            "Requirement already satisfied: torchsummary in /usr/local/lib/python3.8/dist-packages (1.5.1)\n"
          ]
        }
      ],
      "source": [
        "!pip install torchsummary\n",
        "from torchsummary import summary"
      ]
    },
    {
      "cell_type": "markdown",
      "metadata": {
        "id": "02LdHlTTSz5L"
      },
      "source": [
        "- 현재 GPU 설정"
      ]
    },
    {
      "cell_type": "code",
      "execution_count": 3,
      "metadata": {
        "colab": {
          "base_uri": "https://localhost:8080/"
        },
        "id": "Ybsjn80uSx3X",
        "outputId": "5aa30267-ae60-4c5f-ac60-897fd8617f16"
      },
      "outputs": [
        {
          "output_type": "execute_result",
          "data": {
            "text/plain": [
              "True"
            ]
          },
          "metadata": {},
          "execution_count": 3
        }
      ],
      "source": [
        "# colab의 runtime-type을 GPU로 설정해서, True가 나오도록 한다.\n",
        "\n",
        "torch.cuda.is_available()"
      ]
    },
    {
      "cell_type": "code",
      "execution_count": 4,
      "metadata": {
        "colab": {
          "base_uri": "https://localhost:8080/"
        },
        "id": "HlPZI5wfDQhv",
        "outputId": "bc5561ab-838e-4b74-fcc3-ce0ff8ada5ed"
      },
      "outputs": [
        {
          "output_type": "execute_result",
          "data": {
            "text/plain": [
              "device(type='cuda')"
            ]
          },
          "metadata": {},
          "execution_count": 4
        }
      ],
      "source": [
        "use_cuda = torch.cuda.is_available()\n",
        "device = torch.device(\"cuda\" if use_cuda else \"cpu\")\n",
        "device"
      ]
    },
    {
      "cell_type": "markdown",
      "metadata": {
        "id": "OHckdZ55KeH2"
      },
      "source": [
        "# FashionMNIST 분류 모델 만들기\n",
        "* 흑/백(1) 이미지 데이터 분류\n",
        "* 28x28 pixel"
      ]
    },
    {
      "cell_type": "markdown",
      "metadata": {
        "id": "mCrBa-gRRMEO"
      },
      "source": [
        "## 데이터 로드"
      ]
    },
    {
      "cell_type": "code",
      "execution_count": 5,
      "metadata": {
        "id": "vYP9dGrWzDqd"
      },
      "outputs": [],
      "source": [
        "# 데이터 전처리\n",
        "\n",
        "MNIST_transform = transforms.Compose([transforms.ToTensor(), # tensor로 펴준다.\n",
        "                                      transforms.Normalize((0.5,),(0.5,))]) # 정규화를 해준다."
      ]
    },
    {
      "cell_type": "code",
      "execution_count": 6,
      "metadata": {
        "id": "VpVsTevTWE5i",
        "colab": {
          "base_uri": "https://localhost:8080/",
          "height": 444,
          "referenced_widgets": [
            "00c6a771ddc449d58c8f17a944fc4f05",
            "341092e7d4294180b2afcc1dcb39aed8",
            "aea4484dd9414406b00ea262851eeb0d",
            "3429b6ea2f7649628c39d842d5f4b1c0",
            "cb149e199d0049b3bc0322f6563adf5a",
            "74fedb600da54d7cbe0c839eb3e2df6f",
            "9d043b26c1384b12a6078432b1ba6f67",
            "8df8f7608f2144caa1e973665a0a24e2",
            "e213646f28094a779364556cd545bf5a",
            "a6a47071f1f549598fdeec4773871aaa",
            "52381f5d288c48199958913e3a62bdb3",
            "6b16b61cddce41709ef552a4de532fe3",
            "bcafa1e224f94a9e8abeeede73b2f4d1",
            "9f2d195a14d54b319a7d0fbb154a3af0",
            "9b12d92c9fb4416cb94794a9fd3da819",
            "80da8c1016a0488ebc5530afbbc6b231",
            "699d8be5029042068123373653bea59f",
            "bbaf051ca76a4ea680e35bc0209261f7",
            "2c3a22855dd44f5482913727aa47e83d",
            "6188a13e141c4587a9c49bbffc3df55b",
            "9d3a6cb8a1314abba5591956309713fe",
            "7f84db82b96d49b993c081ab8bde4cc7",
            "b80a58fd88864b06a923ae54b3857b74",
            "e7d902569ee74c3face5a68335423127",
            "e7f8506a1d1f42cdb41f0435c6598cac",
            "b9d589c60bf5487c906af06cbde88250",
            "c591d9cb9c294206a054397098a8c3f3",
            "9bbd09580d0a43b6b411027abb57e71d",
            "cd81a8564e8148c79d9d9902d225f011",
            "41127c72907745a39a53d657c295fe1a",
            "23c2123178634ccbab18a584bc2b9480",
            "90d076a89a2246e68483afaa6916b0c1",
            "c0af96cf809e4e9e9eda3b199d1f2d0b",
            "a77ec53e6931472aa5daba2897f8b87d",
            "9564e7638e8447658f33d11e77caaf99",
            "303765be673a49cd99cf16e342ada832",
            "a34441a3381e40b98e4b70d1b13a90cf",
            "44c4a0c1076247818b374ac41b1a82d6",
            "3e16eb80d01840a29bffae69eb4043b6",
            "f1495ab6cfcf4f22a7e4476b539af6e2",
            "2dc9caccf51f4c79b53ed82ce5af41ce",
            "f5a71b1118954d86b0ea643dae3a6941",
            "9920f6dfaeba4dc09e326e647bff3fe4",
            "b71b097b89f24eeca1bec7b1d4471122"
          ]
        },
        "outputId": "7a92a3da-7144-4157-df59-2a061ea28182"
      },
      "outputs": [
        {
          "output_type": "stream",
          "name": "stdout",
          "text": [
            "Downloading http://fashion-mnist.s3-website.eu-central-1.amazonaws.com/train-images-idx3-ubyte.gz\n",
            "Downloading http://fashion-mnist.s3-website.eu-central-1.amazonaws.com/train-images-idx3-ubyte.gz to /content/FashionMNIST/raw/train-images-idx3-ubyte.gz\n"
          ]
        },
        {
          "output_type": "display_data",
          "data": {
            "text/plain": [
              "  0%|          | 0/26421880 [00:00<?, ?it/s]"
            ],
            "application/vnd.jupyter.widget-view+json": {
              "version_major": 2,
              "version_minor": 0,
              "model_id": "00c6a771ddc449d58c8f17a944fc4f05"
            }
          },
          "metadata": {}
        },
        {
          "output_type": "stream",
          "name": "stdout",
          "text": [
            "Extracting /content/FashionMNIST/raw/train-images-idx3-ubyte.gz to /content/FashionMNIST/raw\n",
            "\n",
            "Downloading http://fashion-mnist.s3-website.eu-central-1.amazonaws.com/train-labels-idx1-ubyte.gz\n",
            "Downloading http://fashion-mnist.s3-website.eu-central-1.amazonaws.com/train-labels-idx1-ubyte.gz to /content/FashionMNIST/raw/train-labels-idx1-ubyte.gz\n"
          ]
        },
        {
          "output_type": "display_data",
          "data": {
            "text/plain": [
              "  0%|          | 0/29515 [00:00<?, ?it/s]"
            ],
            "application/vnd.jupyter.widget-view+json": {
              "version_major": 2,
              "version_minor": 0,
              "model_id": "6b16b61cddce41709ef552a4de532fe3"
            }
          },
          "metadata": {}
        },
        {
          "output_type": "stream",
          "name": "stdout",
          "text": [
            "Extracting /content/FashionMNIST/raw/train-labels-idx1-ubyte.gz to /content/FashionMNIST/raw\n",
            "\n",
            "Downloading http://fashion-mnist.s3-website.eu-central-1.amazonaws.com/t10k-images-idx3-ubyte.gz\n",
            "Downloading http://fashion-mnist.s3-website.eu-central-1.amazonaws.com/t10k-images-idx3-ubyte.gz to /content/FashionMNIST/raw/t10k-images-idx3-ubyte.gz\n"
          ]
        },
        {
          "output_type": "display_data",
          "data": {
            "text/plain": [
              "  0%|          | 0/4422102 [00:00<?, ?it/s]"
            ],
            "application/vnd.jupyter.widget-view+json": {
              "version_major": 2,
              "version_minor": 0,
              "model_id": "b80a58fd88864b06a923ae54b3857b74"
            }
          },
          "metadata": {}
        },
        {
          "output_type": "stream",
          "name": "stdout",
          "text": [
            "Extracting /content/FashionMNIST/raw/t10k-images-idx3-ubyte.gz to /content/FashionMNIST/raw\n",
            "\n",
            "Downloading http://fashion-mnist.s3-website.eu-central-1.amazonaws.com/t10k-labels-idx1-ubyte.gz\n",
            "Downloading http://fashion-mnist.s3-website.eu-central-1.amazonaws.com/t10k-labels-idx1-ubyte.gz to /content/FashionMNIST/raw/t10k-labels-idx1-ubyte.gz\n"
          ]
        },
        {
          "output_type": "display_data",
          "data": {
            "text/plain": [
              "  0%|          | 0/5148 [00:00<?, ?it/s]"
            ],
            "application/vnd.jupyter.widget-view+json": {
              "version_major": 2,
              "version_minor": 0,
              "model_id": "a77ec53e6931472aa5daba2897f8b87d"
            }
          },
          "metadata": {}
        },
        {
          "output_type": "stream",
          "name": "stdout",
          "text": [
            "Extracting /content/FashionMNIST/raw/t10k-labels-idx1-ubyte.gz to /content/FashionMNIST/raw\n",
            "\n"
          ]
        }
      ],
      "source": [
        "trainset = datasets.FashionMNIST(root='/content',\n",
        "                                 train=True, download=True,\n",
        "                                 transform=MNIST_transform)\n",
        "\n",
        "testset = datasets.FashionMNIST(root='/content',\n",
        "                                 train=False, download=True,\n",
        "                                 transform=MNIST_transform)"
      ]
    },
    {
      "cell_type": "markdown",
      "metadata": {
        "id": "qh7uI7ewsipv"
      },
      "source": [
        "input-data size 확인"
      ]
    },
    {
      "cell_type": "code",
      "execution_count": 7,
      "metadata": {
        "id": "Dz-CJf0x0nne"
      },
      "outputs": [],
      "source": [
        "# batch-size=128\n",
        "train_loader128 =  DataLoader(trainset, batch_size=128, shuffle=True, num_workers=2)\n",
        "test_loader128 =  DataLoader(testset, batch_size=128, shuffle=False, num_workers=2)\n",
        "\n",
        "# batch-size=64\n",
        "train_loader64 =  DataLoader(trainset, batch_size=64, shuffle=True, num_workers=2)\n",
        "test_loader64 =  DataLoader(testset, batch_size=64, shuffle=False, num_workers=2)"
      ]
    },
    {
      "cell_type": "code",
      "execution_count": 8,
      "metadata": {
        "colab": {
          "base_uri": "https://localhost:8080/"
        },
        "id": "iy6D1Rg_07fD",
        "outputId": "dd50cc8a-0c4e-4a46-d7d4-c855407c55dc"
      },
      "outputs": [
        {
          "output_type": "execute_result",
          "data": {
            "text/plain": [
              "(torch.Size([128, 1, 28, 28]), torch.Size([128]))"
            ]
          },
          "metadata": {},
          "execution_count": 8
        }
      ],
      "source": [
        "# 128 : batch-size\n",
        "# 1 : 흑백\n",
        "# 28x28 : pixel-size\n",
        "\n",
        "images128, labels128 = next(iter(train_loader128))\n",
        "images128.shape, labels128.shape"
      ]
    },
    {
      "cell_type": "code",
      "execution_count": 9,
      "metadata": {
        "colab": {
          "base_uri": "https://localhost:8080/"
        },
        "id": "AotS6123m9sK",
        "outputId": "c5f16bb8-4b56-4b09-bcd8-ae61f8a79db7"
      },
      "outputs": [
        {
          "output_type": "execute_result",
          "data": {
            "text/plain": [
              "(torch.Size([64, 1, 28, 28]), torch.Size([64]))"
            ]
          },
          "metadata": {},
          "execution_count": 9
        }
      ],
      "source": [
        "# 64 : batch-size\n",
        "# 1 : 흑백\n",
        "# 28x28 : pixel-size\n",
        "\n",
        "images64, labels64 = next(iter(train_loader64))\n",
        "images64.shape, labels64.shape"
      ]
    },
    {
      "cell_type": "code",
      "execution_count": 10,
      "metadata": {
        "id": "g4Nd4uLGTEDy"
      },
      "outputs": [],
      "source": [
        "# 숫자 label에 해당되는 값\n",
        "\n",
        "labels_map = {\n",
        "    0: 'T-Shirt',\n",
        "    1: 'Trouser',\n",
        "    2: 'Pullover',\n",
        "    3: 'Dress',\n",
        "    4: 'Coat',\n",
        "    5: 'Sandal',\n",
        "    6: 'Shirt',\n",
        "    7: 'Sneaker',\n",
        "    8: 'Bag',\n",
        "    9: 'Ankle Boot'\n",
        "}"
      ]
    },
    {
      "cell_type": "code",
      "execution_count": 11,
      "metadata": {
        "colab": {
          "base_uri": "https://localhost:8080/",
          "height": 191
        },
        "id": "_u5_UEAH09SB",
        "outputId": "9f3a3b6a-ffaa-47c9-f759-f3f140616a09"
      },
      "outputs": [
        {
          "output_type": "display_data",
          "data": {
            "text/plain": [
              "<Figure size 864x864 with 4 Axes>"
            ],
            "image/png": "[encoded data removed]"
          },
          "metadata": {}
        }
      ],
      "source": [
        "# 데이터 확인\n",
        "\n",
        "figure = plt.figure(figsize=(12,12))\n",
        "cols, rows = 4, 1\n",
        "\n",
        "for i in range(1, cols * rows + 1):\n",
        "    image = images128[i].squeeze()\n",
        "    label_idx = labels128[i].item() # y_label\n",
        "    label = labels_map[label_idx] # 위에서 해당되는 label\n",
        "\n",
        "    figure.add_subplot(rows, cols, i)\n",
        "    plt.title(label)\n",
        "    plt.axis('off')\n",
        "    plt.imshow(image, cmap='gray')\n",
        "\n",
        "plt.show()"
      ]
    },
    {
      "cell_type": "markdown",
      "metadata": {
        "id": "EFPYE3UUnpmX"
      },
      "source": [
        "## 모델 1 생성\n",
        "* 10개의 convolution-layer(Conv2d)와 2개의 fully-connected(fc)로 이루어진 모델\n",
        "* Total params: 28,784"
      ]
    },
    {
      "cell_type": "markdown",
      "metadata": {
        "id": "orF-z9choFaB"
      },
      "source": [
        "input-data size\n",
        "* train_loader128(batch-size;128) : 128, 1, 28, 28\n",
        "* train_loader64(batch-size;64) : 64, 1, 28, 28\n",
        "\n",
        "\n",
        "구현해야하는 모델 정보<br>\n",
        "* convolution-layer 1\n",
        "* maxpooling-layer\n",
        "* convolution-layer 2\n",
        "* convolution-layer 3\n",
        "* convolution-layer 4\n",
        "* convolution-layer 5\n",
        "* convolution-layer 6\n",
        "* convolution-layer 7\n",
        "* convolution-layer 8\n",
        "* convolution-layer 9\n",
        "* maxpooling-layer\n",
        "* convolution-layer 10\n",
        "* flatten\n",
        "* fc1\n",
        "* fc2\n",
        "\n",
        "추가 정보\n",
        "* 활성화함수 : relu\n",
        "(단, maxpooling과 마지막 fc2에는 보통적으로 활성화함수를 사용하지 않는다.)\n",
        "* flatten의 경우, weights가 들어가지 않는다. 즉, layer라고는 볼 수 없다.\n",
        "\n",
        "모델의 layer를 통과함에 따라 데이터의 크기 변화는 다음과 같다.\n",
        "1. batch-size128 -> torch.Size([128, 1, 28, 28]) 으로 시작\n",
        "2. batch-size;64 -> torch.Size([64, 1, 28, 28]) 으로 시작\n",
        "> * torch.Size([128 or 64, 5, 30, 30])\n",
        "> * torch.Size([128 or 64, 5, 15, 15])\n",
        "> * torch.Size([128 or 64, 7, 15, 15])\n",
        "> * torch.Size([128 or 64, 16, 16, 16])\n",
        "> * torch.Size([128 or 64, 19, 15, 15])\n",
        "> * torch.Size([128 or 64, 29, 13, 13])\n",
        "> * torch.Size([128 or 64, 29, 14, 14])\n",
        "> * torch.Size([128 or 64, 6, 12, 12])\n",
        "> * torch.Size([128 or 64, 2, 12, 12])\n",
        "> * torch.Size([128 or 64, 10, 7, 7])\n",
        "> * torch.Size([128 or 64, 20, 7, 7])\n",
        "> * torch.Size([128 or 64, 20, 3, 3])\n",
        "> * torch.Size([128 or 64, 180])\n",
        "> * torch.Size([128 or 64, 86])\n",
        "> * torch.Size([128 or 64, 10]) "
      ]
    },
    {
      "cell_type": "code",
      "execution_count": 16,
      "metadata": {
        "id": "EedVZU7Knv0X"
      },
      "outputs": [],
      "source": [
        "class CNN_Model1(nn.Module):\n",
        "    def __init__(self):\n",
        "        super(CNN_Model1, self).__init__()\n",
        "\n",
        "\n",
        "\n",
        "        self.conv1 = nn.Conv2d(in_channels=1, out_channels=5, kernel_size=3, stride=1, padding=2)\n",
        "        # in-channels = 1 <- 흑/백\n",
        "        # out-channels = 5\n",
        "        # kernel_size / filter-size = 2x2 -> f=3\n",
        "        # stride = 1(default) -> s=1\n",
        "        # padding = 2(default) -> p=2\n",
        "        # input-data pixel size = 28x28 -> n=28\n",
        "        # (n-f+2p)/s + 1 = new n\n",
        "        # (28-3+2x2)/1 + 1 = 30\n",
        "    \n",
        "        # maxpool : n=30 -> 15\n",
        "\n",
        "        self.conv2 = nn.Conv2d(5, 7, 3, padding=1)\n",
        "        # in-channels = 5 <- 이전것의 out-channels\n",
        "        # out-channels = 7\n",
        "        # filter-size = 3x3\n",
        "        # stride = 1(default)\n",
        "        # padding = 1\n",
        "        # (n-f+2p)/s + 1 = new n    \n",
        "        # (15-3+2x1)/1 + 1 = 15\n",
        "\n",
        "        self.conv3 = nn.Conv2d(7, 16, 2, padding=1)\n",
        "        self.conv4 = nn.Conv2d(16, 19, 2)\n",
        "        self.conv5 = nn.Conv2d(19, 29, 3)\n",
        "        self.conv6 = nn.Conv2d(29, 29, 2, padding=1)\n",
        "        self.conv7 = nn.Conv2d(29, 6, 3)\n",
        "        self.conv8 = nn.Conv2d(6, 2, 1)\n",
        "        self.conv9 = nn.Conv2d(2, 10, 2, padding=1)\n",
        "        self.conv10 = nn.Conv2d(10, 20, 1)\n",
        "\n",
        "        self.fc1 = nn.Linear(720, 86)\n",
        "        self.fc2 = nn.Linear(86, 10) # 10개의 분류범주(0번~9번)\n",
        "\n",
        "    def forward(self, x):\n",
        "        x = F.relu(self.conv1(x))\n",
        "        x = F.max_pool2d(x, (2,2))\n",
        "        x = F.relu(self.conv2(x))\n",
        "        x = F.relu(self.conv3(x))\n",
        "        x = F.relu(self.conv4(x))\n",
        "        x = F.relu(self.conv5(x))\n",
        "        x = F.relu(self.conv6(x))\n",
        "        x = F.relu(self.conv7(x))\n",
        "        x = F.relu(self.conv8(x))\n",
        "        x = F.relu(self.conv9(x))\n",
        "        x = F.max_pool2d(x, (2,2)) ####???!\n",
        "        x = F.relu(self.conv10(x))\n",
        "\n",
        "        x = x.view(-1, self.num_flat_features(x)) # num_flat_features : 아래에서 정의\n",
        "\n",
        "        x = F.relu(self.fc1(x))\n",
        "        x = self.fc2(x)\n",
        "\n",
        "        return x\n",
        "    \n",
        "    def num_flat_features(self, x): # 처음 dim-size을 제외하고, 모두 곱한 값을 반환해준다.\n",
        "        size = x.size()[1:]\n",
        "        num_features = 1\n",
        "        for s in size:\n",
        "            num_features *= s\n",
        "        \n",
        "        return num_features"
      ]
    },
    {
      "cell_type": "code",
      "execution_count": 17,
      "metadata": {
        "colab": {
          "base_uri": "https://localhost:8080/"
        },
        "id": "RiMZ7sX6oDn3",
        "outputId": "b65d2566-10dd-4a6e-ff11-bb1c6b015ee3"
      },
      "outputs": [
        {
          "output_type": "stream",
          "name": "stdout",
          "text": [
            "CNN_Model1(\n",
            "  (conv1): Conv2d(1, 5, kernel_size=(3, 3), stride=(1, 1), padding=(2, 2))\n",
            "  (conv2): Conv2d(5, 7, kernel_size=(3, 3), stride=(1, 1), padding=(1, 1))\n",
            "  (conv3): Conv2d(7, 16, kernel_size=(2, 2), stride=(1, 1), padding=(1, 1))\n",
            "  (conv4): Conv2d(16, 19, kernel_size=(2, 2), stride=(1, 1))\n",
            "  (conv5): Conv2d(19, 29, kernel_size=(3, 3), stride=(1, 1))\n",
            "  (conv6): Conv2d(29, 29, kernel_size=(2, 2), stride=(1, 1), padding=(1, 1))\n",
            "  (conv7): Conv2d(29, 6, kernel_size=(3, 3), stride=(1, 1))\n",
            "  (conv8): Conv2d(6, 2, kernel_size=(1, 1), stride=(1, 1))\n",
            "  (conv9): Conv2d(2, 10, kernel_size=(2, 2), stride=(1, 1), padding=(1, 1))\n",
            "  (conv10): Conv2d(10, 20, kernel_size=(1, 1), stride=(1, 1))\n",
            "  (fc1): Linear(in_features=720, out_features=86, bias=True)\n",
            "  (fc2): Linear(in_features=86, out_features=10, bias=True)\n",
            ")\n"
          ]
        }
      ],
      "source": [
        "# 모델객체 생성\n",
        "DeepConv_net128 = CNN_Model1().to(device)\n",
        "DeepConv_net64 = CNN_Model1().to(device)\n",
        "\n",
        "print(DeepConv_net128)"
      ]
    },
    {
      "cell_type": "code",
      "execution_count": 18,
      "metadata": {
        "colab": {
          "base_uri": "https://localhost:8080/"
        },
        "id": "8gBjDmoc7fJh",
        "outputId": "1ce9d536-7af4-4b9c-f2f9-451521b76375"
      },
      "outputs": [
        {
          "output_type": "execute_result",
          "data": {
            "text/plain": [
              "torch.Size([128, 1, 28, 28])"
            ]
          },
          "metadata": {},
          "execution_count": 18
        }
      ],
      "source": [
        "input = images128.to(device)\n",
        "input.size()"
      ]
    },
    {
      "cell_type": "code",
      "execution_count": 19,
      "metadata": {
        "colab": {
          "base_uri": "https://localhost:8080/"
        },
        "id": "tflPlTme7h9x",
        "outputId": "0d20e392-695d-4600-eb6c-bd1ee19abfc7"
      },
      "outputs": [
        {
          "output_type": "execute_result",
          "data": {
            "text/plain": [
              "torch.Size([128, 10])"
            ]
          },
          "metadata": {},
          "execution_count": 19
        }
      ],
      "source": [
        "output = DeepConv_net128.forward(input)\n",
        "output.size()"
      ]
    },
    {
      "cell_type": "code",
      "execution_count": 20,
      "metadata": {
        "colab": {
          "base_uri": "https://localhost:8080/"
        },
        "id": "DSH3qCADujAi",
        "outputId": "1cc704c0-0836-42f9-ab26-de07ed81caa4"
      },
      "outputs": [
        {
          "output_type": "stream",
          "name": "stdout",
          "text": [
            "----------------------------------------------------------------\n",
            "        Layer (type)               Output Shape         Param #\n",
            "================================================================\n",
            "            Conv2d-1           [128, 5, 30, 30]              50\n",
            "            Conv2d-2           [128, 7, 15, 15]             322\n",
            "            Conv2d-3          [128, 16, 16, 16]             464\n",
            "            Conv2d-4          [128, 19, 15, 15]           1,235\n",
            "            Conv2d-5          [128, 29, 13, 13]           4,988\n",
            "            Conv2d-6          [128, 29, 14, 14]           3,393\n",
            "            Conv2d-7           [128, 6, 12, 12]           1,572\n",
            "            Conv2d-8           [128, 2, 12, 12]              14\n",
            "            Conv2d-9          [128, 10, 13, 13]              90\n",
            "           Conv2d-10            [128, 20, 6, 6]             220\n",
            "           Linear-11                  [128, 86]          62,006\n",
            "           Linear-12                  [128, 10]             870\n",
            "================================================================\n",
            "Total params: 75,224\n",
            "Trainable params: 75,224\n",
            "Non-trainable params: 0\n",
            "----------------------------------------------------------------\n",
            "Input size (MB): 0.38\n",
            "Forward/backward pass size (MB): 28.02\n",
            "Params size (MB): 0.29\n",
            "Estimated Total Size (MB): 28.69\n",
            "----------------------------------------------------------------\n"
          ]
        }
      ],
      "source": [
        "summary(DeepConv_net128, input_size=(1, 28, 28), batch_size=128)"
      ]
    },
    {
      "cell_type": "code",
      "execution_count": 21,
      "metadata": {
        "colab": {
          "base_uri": "https://localhost:8080/"
        },
        "id": "jcybKk5Nvj4Z",
        "outputId": "a8349a7c-226c-4f63-c718-8259105ed517"
      },
      "outputs": [
        {
          "output_type": "execute_result",
          "data": {
            "text/plain": [
              "torch.Size([64, 1, 28, 28])"
            ]
          },
          "metadata": {},
          "execution_count": 21
        }
      ],
      "source": [
        "input = images64.to(device)\n",
        "input.size()"
      ]
    },
    {
      "cell_type": "code",
      "execution_count": 22,
      "metadata": {
        "colab": {
          "base_uri": "https://localhost:8080/"
        },
        "id": "y2PZCHyyvj4a",
        "outputId": "43244ee3-8e56-4e46-d4d2-0cdcf8d3db0a"
      },
      "outputs": [
        {
          "output_type": "execute_result",
          "data": {
            "text/plain": [
              "torch.Size([64, 10])"
            ]
          },
          "metadata": {},
          "execution_count": 22
        }
      ],
      "source": [
        "output = DeepConv_net64.forward(input)\n",
        "output.size()"
      ]
    },
    {
      "cell_type": "code",
      "execution_count": 23,
      "metadata": {
        "colab": {
          "base_uri": "https://localhost:8080/"
        },
        "id": "uh1pmRXcvZP8",
        "outputId": "17ccffd2-97c8-449b-dc06-cbf1afdc088c"
      },
      "outputs": [
        {
          "output_type": "stream",
          "name": "stdout",
          "text": [
            "----------------------------------------------------------------\n",
            "        Layer (type)               Output Shape         Param #\n",
            "================================================================\n",
            "            Conv2d-1            [64, 5, 30, 30]              50\n",
            "            Conv2d-2            [64, 7, 15, 15]             322\n",
            "            Conv2d-3           [64, 16, 16, 16]             464\n",
            "            Conv2d-4           [64, 19, 15, 15]           1,235\n",
            "            Conv2d-5           [64, 29, 13, 13]           4,988\n",
            "            Conv2d-6           [64, 29, 14, 14]           3,393\n",
            "            Conv2d-7            [64, 6, 12, 12]           1,572\n",
            "            Conv2d-8            [64, 2, 12, 12]              14\n",
            "            Conv2d-9           [64, 10, 13, 13]              90\n",
            "           Conv2d-10             [64, 20, 6, 6]             220\n",
            "           Linear-11                   [64, 86]          62,006\n",
            "           Linear-12                   [64, 10]             870\n",
            "================================================================\n",
            "Total params: 75,224\n",
            "Trainable params: 75,224\n",
            "Non-trainable params: 0\n",
            "----------------------------------------------------------------\n",
            "Input size (MB): 0.19\n",
            "Forward/backward pass size (MB): 14.01\n",
            "Params size (MB): 0.29\n",
            "Estimated Total Size (MB): 14.49\n",
            "----------------------------------------------------------------\n"
          ]
        }
      ],
      "source": [
        "summary(DeepConv_net64, input_size=(1, 28, 28), batch_size=64)"
      ]
    },
    {
      "cell_type": "markdown",
      "metadata": {
        "id": "xVxKI_rwCvhI"
      },
      "source": [
        "## 모델 2 생성\n",
        "* 2개의 convolution-layer(Conv2d)와 5개의 fully-connected(fc)로 이루어진 모델\n",
        "* Total params: 9,516,488"
      ]
    },
    {
      "cell_type": "markdown",
      "metadata": {
        "id": "uN5s0Re-CvhI"
      },
      "source": [
        "input-data size\n",
        "* train_loader128(batch-size;128) : 128, 1, 28, 28\n",
        "* train_loader64(batch-size;64) : 64, 1, 28, 28\n",
        "\n",
        "\n",
        "구현해야하는 모델 정보<br>\n",
        "* convolution-layer 1\n",
        "* maxpooling-layer\n",
        "* convolution-layer 2\n",
        "* flatten\n",
        "* fc1\n",
        "* fc2\n",
        "* fc3\n",
        "* fc4\n",
        "* fc5\n",
        "\n",
        "추가 정보\n",
        "* 활성화함수 : relu\n",
        "(단, maxpooling과 마지막 fc5에는 보통적으로 활성화함수를 사용하지 않는다.)\n",
        "* flatten의 경우, weights가 들어가지 않는다. 즉, layer라고는 볼 수 없다.\n",
        "\n",
        "모델의 layer를 통과함에 따라 데이터의 크기 변화는 다음과 같다.\n",
        "\n",
        "1. batch-size128 -> torch.Size([128, 1, 28, 28]) 으로 시작\n",
        "2. batch-size;64 -> torch.Size([64, 1, 28, 28]) 으로 시작\n",
        "> * torch.Size([128 or 64, 5, 30, 30])\n",
        "> * torch.Size([128 or 64, 5, 15, 15])\n",
        "> * torch.Size([128 or 64, 7, 15, 15])\n",
        "> * torch.Size([128 or 64, 1575])\n",
        "> * torch.Size([128 or 64, 3000])\n",
        "> * torch.Size([128 or 64, 1500])\n",
        "> * torch.Size([128 or 64, 180])\n",
        "> * torch.Size([128 or 64, 86])\n",
        "> * torch.Size([128 or 64, 10])"
      ]
    },
    {
      "cell_type": "code",
      "execution_count": 24,
      "metadata": {
        "id": "JfSM-k0DCvhI"
      },
      "outputs": [],
      "source": [
        "class CNN_Model2(nn.Module):\n",
        "    def __init__(self):\n",
        "        super(CNN_Model2, self).__init__()\n",
        "\n",
        "        self.conv1 = nn.Conv2d(in_channels=1, out_channels=5, kernel_size=3, stride=1, padding=2)\n",
        "        self.conv2 = nn.Conv2d(5, 7, 3, padding=1)\n",
        "        \n",
        "        self.fc1 = nn.Linear(1575, 3000)\n",
        "        self.fc2 = nn.Linear(3000, 1500)\n",
        "        self.fc3 = nn.Linear(1500, 180)\n",
        "        self.fc4 = nn.Linear(180, 86)\n",
        "        self.fc5 = nn.Linear(86, 10) # 10개의 분류범주(0번~9번)\n",
        "\n",
        "    def forward(self, x):\n",
        "        x = F.relu(self.conv1(x))\n",
        "        x = F.max_pool2d(x, (2,2))\n",
        "        x = F.relu(self.conv2(x))\n",
        "\n",
        "        x = x.view(-1, self.num_flat_features(x)) # num_flat_features : 아래에서 정의\n",
        "\n",
        "        x = F.relu(self.fc1(x))\n",
        "        x = F.relu(self.fc2(x))\n",
        "        x = F.relu(self.fc3(x))\n",
        "        x = F.relu(self.fc4(x))\n",
        "        x = self.fc5(x)\n",
        "\n",
        "        return x\n",
        "    \n",
        "    def num_flat_features(self, x): # 처음 dim-size을 제외하고, 모두 곱한 값을 반환해준다.\n",
        "        size = x.size()[1:]\n",
        "        num_features = 1\n",
        "        for s in size:\n",
        "            num_features *= s\n",
        "        \n",
        "        return num_features"
      ]
    },
    {
      "cell_type": "code",
      "execution_count": 25,
      "metadata": {
        "colab": {
          "base_uri": "https://localhost:8080/"
        },
        "id": "QQ_AnPi5CvhI",
        "outputId": "879da6ac-2c23-4da8-e242-e2980d618d50"
      },
      "outputs": [
        {
          "output_type": "stream",
          "name": "stdout",
          "text": [
            "CNN_Model2(\n",
            "  (conv1): Conv2d(1, 5, kernel_size=(3, 3), stride=(1, 1), padding=(2, 2))\n",
            "  (conv2): Conv2d(5, 7, kernel_size=(3, 3), stride=(1, 1), padding=(1, 1))\n",
            "  (fc1): Linear(in_features=1575, out_features=3000, bias=True)\n",
            "  (fc2): Linear(in_features=3000, out_features=1500, bias=True)\n",
            "  (fc3): Linear(in_features=1500, out_features=180, bias=True)\n",
            "  (fc4): Linear(in_features=180, out_features=86, bias=True)\n",
            "  (fc5): Linear(in_features=86, out_features=10, bias=True)\n",
            ")\n"
          ]
        }
      ],
      "source": [
        "# 모델객체 생성\n",
        "DeepFC_net128 = CNN_Model2().to(device)\n",
        "DeepFC_net64 = CNN_Model2().to(device)\n",
        "\n",
        "print(DeepFC_net128)"
      ]
    },
    {
      "cell_type": "code",
      "execution_count": 26,
      "metadata": {
        "colab": {
          "base_uri": "https://localhost:8080/"
        },
        "id": "S9IVOG3pwgoS",
        "outputId": "7b88809e-651f-4b25-b4f8-5a8982db3b5c"
      },
      "outputs": [
        {
          "output_type": "execute_result",
          "data": {
            "text/plain": [
              "torch.Size([128, 1, 28, 28])"
            ]
          },
          "metadata": {},
          "execution_count": 26
        }
      ],
      "source": [
        "input = images128.to(device)\n",
        "input.size()"
      ]
    },
    {
      "cell_type": "code",
      "execution_count": 27,
      "metadata": {
        "colab": {
          "base_uri": "https://localhost:8080/"
        },
        "id": "p4ydm5qCwgoT",
        "outputId": "966cc5b5-5d10-4408-b450-bf2d880c3af0"
      },
      "outputs": [
        {
          "output_type": "execute_result",
          "data": {
            "text/plain": [
              "torch.Size([128, 10])"
            ]
          },
          "metadata": {},
          "execution_count": 27
        }
      ],
      "source": [
        "output = DeepFC_net128.forward(input)\n",
        "output.size()"
      ]
    },
    {
      "cell_type": "code",
      "execution_count": 28,
      "metadata": {
        "colab": {
          "base_uri": "https://localhost:8080/"
        },
        "id": "Q3uN6Dw6wgoT",
        "outputId": "d302fb1f-b6db-4648-a362-df8dfce15068"
      },
      "outputs": [
        {
          "output_type": "stream",
          "name": "stdout",
          "text": [
            "----------------------------------------------------------------\n",
            "        Layer (type)               Output Shape         Param #\n",
            "================================================================\n",
            "            Conv2d-1           [128, 5, 30, 30]              50\n",
            "            Conv2d-2           [128, 7, 15, 15]             322\n",
            "            Linear-3                [128, 3000]       4,728,000\n",
            "            Linear-4                [128, 1500]       4,501,500\n",
            "            Linear-5                 [128, 180]         270,180\n",
            "            Linear-6                  [128, 86]          15,566\n",
            "            Linear-7                  [128, 10]             870\n",
            "================================================================\n",
            "Total params: 9,516,488\n",
            "Trainable params: 9,516,488\n",
            "Non-trainable params: 0\n",
            "----------------------------------------------------------------\n",
            "Input size (MB): 0.38\n",
            "Forward/backward pass size (MB): 10.60\n",
            "Params size (MB): 36.30\n",
            "Estimated Total Size (MB): 47.28\n",
            "----------------------------------------------------------------\n"
          ]
        }
      ],
      "source": [
        "summary(DeepFC_net128, input_size=(1, 28, 28), batch_size=128)"
      ]
    },
    {
      "cell_type": "code",
      "execution_count": 29,
      "metadata": {
        "colab": {
          "base_uri": "https://localhost:8080/"
        },
        "id": "d9t36x7bwgoT",
        "outputId": "6f2d54b2-06eb-45e1-ab17-9a170f760c4b"
      },
      "outputs": [
        {
          "output_type": "execute_result",
          "data": {
            "text/plain": [
              "torch.Size([64, 1, 28, 28])"
            ]
          },
          "metadata": {},
          "execution_count": 29
        }
      ],
      "source": [
        "input = images64.to(device)\n",
        "input.size()"
      ]
    },
    {
      "cell_type": "code",
      "execution_count": 30,
      "metadata": {
        "colab": {
          "base_uri": "https://localhost:8080/"
        },
        "id": "GFHweMakwgoT",
        "outputId": "79141311-cc86-4d4a-dc72-86d51b49193b"
      },
      "outputs": [
        {
          "output_type": "execute_result",
          "data": {
            "text/plain": [
              "torch.Size([64, 10])"
            ]
          },
          "metadata": {},
          "execution_count": 30
        }
      ],
      "source": [
        "output = DeepFC_net64.forward(input)\n",
        "output.size()"
      ]
    },
    {
      "cell_type": "code",
      "execution_count": 31,
      "metadata": {
        "colab": {
          "base_uri": "https://localhost:8080/"
        },
        "id": "2VIZ4WCCwgoT",
        "outputId": "2480b78d-9118-4c36-e1a2-67ecb9a7ed2d"
      },
      "outputs": [
        {
          "output_type": "stream",
          "name": "stdout",
          "text": [
            "----------------------------------------------------------------\n",
            "        Layer (type)               Output Shape         Param #\n",
            "================================================================\n",
            "            Conv2d-1            [64, 5, 30, 30]              50\n",
            "            Conv2d-2            [64, 7, 15, 15]             322\n",
            "            Linear-3                 [64, 3000]       4,728,000\n",
            "            Linear-4                 [64, 1500]       4,501,500\n",
            "            Linear-5                  [64, 180]         270,180\n",
            "            Linear-6                   [64, 86]          15,566\n",
            "            Linear-7                   [64, 10]             870\n",
            "================================================================\n",
            "Total params: 9,516,488\n",
            "Trainable params: 9,516,488\n",
            "Non-trainable params: 0\n",
            "----------------------------------------------------------------\n",
            "Input size (MB): 0.19\n",
            "Forward/backward pass size (MB): 5.30\n",
            "Params size (MB): 36.30\n",
            "Estimated Total Size (MB): 41.79\n",
            "----------------------------------------------------------------\n"
          ]
        }
      ],
      "source": [
        "summary(DeepFC_net64, input_size=(1, 28, 28), batch_size=64)"
      ]
    },
    {
      "cell_type": "markdown",
      "metadata": {
        "id": "klpXGc2tCimP"
      },
      "source": [
        "## 손실함수와 옵티마이저"
      ]
    },
    {
      "cell_type": "code",
      "execution_count": 32,
      "metadata": {
        "id": "69AHX-ZXClOm"
      },
      "outputs": [],
      "source": [
        "criterion = nn.CrossEntropyLoss()\n",
        "\n",
        "optimizerDC_128 = optim.SGD(DeepConv_net128.parameters(), lr=0.001, momentum=0.9)\n",
        "optimizerDC_64 = optim.SGD(DeepConv_net64.parameters(), lr=0.001, momentum=0.9)\n",
        "optimizerFC_128 = optim.SGD(DeepFC_net128.parameters(), lr=0.001, momentum=0.9)\n",
        "optimizerFC_64 = optim.SGD(DeepFC_net64.parameters(), lr=0.001, momentum=0.9)"
      ]
    },
    {
      "cell_type": "markdown",
      "metadata": {
        "id": "huNh3EnhJLyh"
      },
      "source": [
        "## 모델 학습"
      ]
    },
    {
      "cell_type": "markdown",
      "metadata": {
        "id": "W-2Q7c6-JW9z"
      },
      "source": [
        "### 1. DeepConv_net128\n",
        "* 10개의 Convolution-layer & 2개의 fc-layer\n",
        "* 128 batch-size"
      ]
    },
    {
      "cell_type": "code",
      "execution_count": 33,
      "metadata": {
        "colab": {
          "base_uri": "https://localhost:8080/"
        },
        "id": "y-_UvdNWJR-r",
        "outputId": "379a2992-15b7-4d85-b020-645953c4f9c0"
      },
      "outputs": [
        {
          "output_type": "stream",
          "name": "stdout",
          "text": [
            "Epoch: 1, Iter: 100, Loss: 0.11518922233581542\n",
            "Epoch: 1, Iter: 200, Loss: 0.11515519750118255\n",
            "Epoch: 1, Iter: 300, Loss: 0.1151663191318512\n",
            "Epoch: 1, Iter: 400, Loss: 0.11515647721290588\n",
            "Epoch: 2, Iter: 100, Loss: 0.1151390436887741\n",
            "Epoch: 2, Iter: 200, Loss: 0.11512930130958557\n",
            "Epoch: 2, Iter: 300, Loss: 0.11514243626594543\n",
            "Epoch: 2, Iter: 400, Loss: 0.11513857936859132\n",
            "Epoch: 3, Iter: 100, Loss: 0.11512462544441224\n",
            "Epoch: 3, Iter: 200, Loss: 0.11513503205776214\n",
            "Epoch: 3, Iter: 300, Loss: 0.11513811314105987\n",
            "Epoch: 3, Iter: 400, Loss: 0.11513838839530945\n",
            "Epoch: 4, Iter: 100, Loss: 0.11512845349311829\n",
            "Epoch: 4, Iter: 200, Loss: 0.11513549292087555\n",
            "Epoch: 4, Iter: 300, Loss: 0.1151331706047058\n",
            "Epoch: 4, Iter: 400, Loss: 0.11513725757598876\n",
            "Epoch: 5, Iter: 100, Loss: 0.11513389825820923\n",
            "Epoch: 5, Iter: 200, Loss: 0.1151349754333496\n",
            "Epoch: 5, Iter: 300, Loss: 0.11513139486312866\n",
            "Epoch: 5, Iter: 400, Loss: 0.11513645088672637\n",
            "Epoch: 6, Iter: 100, Loss: 0.11513061821460724\n",
            "Epoch: 6, Iter: 200, Loss: 0.11513540875911712\n",
            "Epoch: 6, Iter: 300, Loss: 0.11513550531864167\n",
            "Epoch: 6, Iter: 400, Loss: 0.11513369965553284\n",
            "Epoch: 7, Iter: 100, Loss: 0.11513249397277832\n",
            "Epoch: 7, Iter: 200, Loss: 0.11513411164283753\n",
            "Epoch: 7, Iter: 300, Loss: 0.11512956702709198\n",
            "Epoch: 7, Iter: 400, Loss: 0.11513927376270294\n",
            "Epoch: 8, Iter: 100, Loss: 0.115134343624115\n",
            "Epoch: 8, Iter: 200, Loss: 0.11512835478782654\n",
            "Epoch: 8, Iter: 300, Loss: 0.11513789963722229\n",
            "Epoch: 8, Iter: 400, Loss: 0.11513148093223571\n",
            "Epoch: 9, Iter: 100, Loss: 0.11513157689571381\n",
            "Epoch: 9, Iter: 200, Loss: 0.1151308298110962\n",
            "Epoch: 9, Iter: 300, Loss: 0.11513697493076325\n",
            "Epoch: 9, Iter: 400, Loss: 0.11513297855854035\n",
            "Epoch: 10, Iter: 100, Loss: 0.11513260388374329\n",
            "Epoch: 10, Iter: 200, Loss: 0.11513387084007264\n",
            "Epoch: 10, Iter: 300, Loss: 0.11513178527355195\n",
            "Epoch: 10, Iter: 400, Loss: 0.11513755500316619\n"
          ]
        }
      ],
      "source": [
        "for epoch in range(10):\n",
        "\n",
        "    running_loss = 0.0\n",
        "\n",
        "    for i, data in enumerate(train_loader128, start=0):\n",
        "        inputs, labels = data[0].to(device), data[1].to(device)\n",
        "\n",
        "        optimizerDC_128.zero_grad() # epoch마다 gradient 0으로 초기화\n",
        "\n",
        "        outputs = DeepConv_net128(inputs) # y_pred = f(X)\n",
        "        loss = criterion(outputs, labels) # CrossEntropyLoss; 0~1 사이값\n",
        "        loss.backward() # back-propagation; gradient 계산\n",
        "        optimizerDC_128.step() # parameters(weights) update\n",
        "\n",
        "        running_loss += loss.item() # 그냥 전체적인 비교를 위해 누적함\n",
        "\n",
        "        if i % 100 == 99: # 100번 마다 확인; epoch=10, iter(=i)=469, batch=128\n",
        "            print('Epoch: {}, Iter: {}, Loss: {}'.format(epoch+1, i+1, running_loss/2000))\n",
        "            running_loss = 0.0"
      ]
    },
    {
      "cell_type": "code",
      "execution_count": 34,
      "metadata": {
        "colab": {
          "base_uri": "https://localhost:8080/"
        },
        "id": "dNa8-7SC5u2a",
        "outputId": "e491c114-d810-48d2-da8a-4cd2f030d602"
      },
      "outputs": [
        {
          "output_type": "stream",
          "name": "stdout",
          "text": [
            "Epoch: 1, Iter: 100, Loss: 0.11513216888904572\n",
            "Epoch: 1, Iter: 200, Loss: 0.11513323974609375\n",
            "Epoch: 1, Iter: 300, Loss: 0.11513189804553986\n",
            "Epoch: 1, Iter: 400, Loss: 0.11513521051406861\n",
            "Epoch: 2, Iter: 100, Loss: 0.11512584817409516\n",
            "Epoch: 2, Iter: 200, Loss: 0.11513857150077819\n",
            "Epoch: 2, Iter: 300, Loss: 0.11513694536685944\n",
            "Epoch: 2, Iter: 400, Loss: 0.11513312971591949\n",
            "Epoch: 3, Iter: 100, Loss: 0.11512869274616241\n",
            "Epoch: 3, Iter: 200, Loss: 0.11513126254081726\n",
            "Epoch: 3, Iter: 300, Loss: 0.11513525700569152\n",
            "Epoch: 3, Iter: 400, Loss: 0.11513600242137909\n",
            "Epoch: 4, Iter: 100, Loss: 0.11512854671478272\n",
            "Epoch: 4, Iter: 200, Loss: 0.11513825249671936\n",
            "Epoch: 4, Iter: 300, Loss: 0.1151361927986145\n",
            "Epoch: 4, Iter: 400, Loss: 0.11513347840309143\n",
            "Epoch: 5, Iter: 100, Loss: 0.11513316345214844\n",
            "Epoch: 5, Iter: 200, Loss: 0.11512831664085388\n",
            "Epoch: 5, Iter: 300, Loss: 0.11513792741298676\n",
            "Epoch: 5, Iter: 400, Loss: 0.11513441503047943\n"
          ]
        }
      ],
      "source": [
        "for epoch in range(5):\n",
        "\n",
        "    running_loss = 0.0\n",
        "\n",
        "    for i, data in enumerate(train_loader128, start=0):\n",
        "        inputs, labels = data[0].to(device), data[1].to(device)\n",
        "\n",
        "        optimizerDC_128.zero_grad() # epoch마다 gradient 0으로 초기화\n",
        "\n",
        "        outputs = DeepConv_net128(inputs) # y_pred = f(X)\n",
        "        loss = criterion(outputs, labels) # CrossEntropyLoss; 0~1 사이값\n",
        "        loss.backward() # back-propagation; gradient 계산\n",
        "        optimizerDC_128.step() # parameters(weights) update\n",
        "\n",
        "        running_loss += loss.item() # 그냥 전체적인 비교를 위해 누적함\n",
        "\n",
        "        if i % 100 == 99: # 100번 마다 확인; epoch=10, iter(=i)=469, batch=128\n",
        "            print('Epoch: {}, Iter: {}, Loss: {}'.format(epoch+1, i+1, running_loss/2000))\n",
        "            running_loss = 0.0"
      ]
    },
    {
      "cell_type": "markdown",
      "metadata": {
        "id": "FOUBE2UfKS6D"
      },
      "source": [
        "### 2. DeepConv_net64\n",
        "* 10개의 Convolution-layer & 2개의 fc-layer\n",
        "* 64 batch-size"
      ]
    },
    {
      "cell_type": "code",
      "execution_count": 35,
      "metadata": {
        "colab": {
          "base_uri": "https://localhost:8080/"
        },
        "id": "Q1znQlsWKS6D",
        "outputId": "039332e3-4361-4ebc-d5ae-38bad9de83c3"
      },
      "outputs": [
        {
          "output_type": "stream",
          "name": "stdout",
          "text": [
            "Epoch: 1, Iter: 100, Loss: 0.11524700200557708\n",
            "Epoch: 1, Iter: 200, Loss: 0.11514579606056213\n",
            "Epoch: 1, Iter: 300, Loss: 0.11514208364486694\n",
            "Epoch: 1, Iter: 400, Loss: 0.11514076709747315\n",
            "Epoch: 1, Iter: 500, Loss: 0.1151714403629303\n",
            "Epoch: 1, Iter: 600, Loss: 0.11513444197177887\n",
            "Epoch: 1, Iter: 700, Loss: 0.11515025079250335\n",
            "Epoch: 1, Iter: 800, Loss: 0.11514075744152069\n",
            "Epoch: 1, Iter: 900, Loss: 0.11514272356033325\n",
            "Epoch: 2, Iter: 100, Loss: 0.11513716351985931\n",
            "Epoch: 2, Iter: 200, Loss: 0.11514352071285248\n",
            "Epoch: 2, Iter: 300, Loss: 0.11513240694999695\n",
            "Epoch: 2, Iter: 400, Loss: 0.11513940072059631\n",
            "Epoch: 2, Iter: 500, Loss: 0.11514663112163544\n",
            "Epoch: 2, Iter: 600, Loss: 0.11513077998161315\n",
            "Epoch: 2, Iter: 700, Loss: 0.11514695060253144\n",
            "Epoch: 2, Iter: 800, Loss: 0.11513825273513793\n",
            "Epoch: 2, Iter: 900, Loss: 0.11513195753097534\n",
            "Epoch: 3, Iter: 100, Loss: 0.11512221300601959\n",
            "Epoch: 3, Iter: 200, Loss: 0.11515838980674743\n",
            "Epoch: 3, Iter: 300, Loss: 0.11514389276504516\n",
            "Epoch: 3, Iter: 400, Loss: 0.11513947260379791\n",
            "Epoch: 3, Iter: 500, Loss: 0.11512455487251282\n",
            "Epoch: 3, Iter: 600, Loss: 0.11514928925037383\n",
            "Epoch: 3, Iter: 700, Loss: 0.11514068233966827\n",
            "Epoch: 3, Iter: 800, Loss: 0.11513813364505768\n",
            "Epoch: 3, Iter: 900, Loss: 0.11513873863220214\n",
            "Epoch: 4, Iter: 100, Loss: 0.1151301919221878\n",
            "Epoch: 4, Iter: 200, Loss: 0.11514460384845733\n",
            "Epoch: 4, Iter: 300, Loss: 0.11513645732402801\n",
            "Epoch: 4, Iter: 400, Loss: 0.11514467287063598\n",
            "Epoch: 4, Iter: 500, Loss: 0.11513025987148284\n",
            "Epoch: 4, Iter: 600, Loss: 0.11514490807056427\n",
            "Epoch: 4, Iter: 700, Loss: 0.1151413869857788\n",
            "Epoch: 4, Iter: 800, Loss: 0.11513938224315644\n",
            "Epoch: 4, Iter: 900, Loss: 0.11513973331451416\n",
            "Epoch: 5, Iter: 100, Loss: 0.11513169801235199\n",
            "Epoch: 5, Iter: 200, Loss: 0.11513781893253326\n",
            "Epoch: 5, Iter: 300, Loss: 0.11513331949710846\n",
            "Epoch: 5, Iter: 400, Loss: 0.11513927948474884\n",
            "Epoch: 5, Iter: 500, Loss: 0.1151306095123291\n",
            "Epoch: 5, Iter: 600, Loss: 0.11514451241493225\n",
            "Epoch: 5, Iter: 700, Loss: 0.11513973236083984\n",
            "Epoch: 5, Iter: 800, Loss: 0.11514165735244751\n",
            "Epoch: 5, Iter: 900, Loss: 0.11513475334644317\n",
            "Epoch: 6, Iter: 100, Loss: 0.11513551270961761\n",
            "Epoch: 6, Iter: 200, Loss: 0.11514462101459504\n",
            "Epoch: 6, Iter: 300, Loss: 0.11513581681251527\n",
            "Epoch: 6, Iter: 400, Loss: 0.11513911008834839\n",
            "Epoch: 6, Iter: 500, Loss: 0.11513698375225068\n",
            "Epoch: 6, Iter: 600, Loss: 0.1151382313966751\n",
            "Epoch: 6, Iter: 700, Loss: 0.11513851630687713\n",
            "Epoch: 6, Iter: 800, Loss: 0.11514357972145081\n",
            "Epoch: 6, Iter: 900, Loss: 0.11513276278972626\n",
            "Epoch: 7, Iter: 100, Loss: 0.1151154361963272\n",
            "Epoch: 7, Iter: 200, Loss: 0.1151278133392334\n",
            "Epoch: 7, Iter: 300, Loss: 0.11516491568088531\n",
            "Epoch: 7, Iter: 400, Loss: 0.11513667607307435\n",
            "Epoch: 7, Iter: 500, Loss: 0.11513390231132507\n",
            "Epoch: 7, Iter: 600, Loss: 0.1151370804309845\n",
            "Epoch: 7, Iter: 700, Loss: 0.11513427031040192\n",
            "Epoch: 7, Iter: 800, Loss: 0.11514806318283081\n",
            "Epoch: 7, Iter: 900, Loss: 0.11514353537559509\n",
            "Epoch: 8, Iter: 100, Loss: 0.11513761901855468\n",
            "Epoch: 8, Iter: 200, Loss: 0.11512640511989594\n",
            "Epoch: 8, Iter: 300, Loss: 0.11514785850048065\n",
            "Epoch: 8, Iter: 400, Loss: 0.11513818407058715\n",
            "Epoch: 8, Iter: 500, Loss: 0.11513440120220185\n",
            "Epoch: 8, Iter: 600, Loss: 0.11514532315731049\n",
            "Epoch: 8, Iter: 700, Loss: 0.1151347793340683\n",
            "Epoch: 8, Iter: 800, Loss: 0.1151406899690628\n",
            "Epoch: 8, Iter: 900, Loss: 0.11513951504230499\n",
            "Epoch: 9, Iter: 100, Loss: 0.11513504838943481\n",
            "Epoch: 9, Iter: 200, Loss: 0.11513784790039062\n",
            "Epoch: 9, Iter: 300, Loss: 0.1151386617422104\n",
            "Epoch: 9, Iter: 400, Loss: 0.11514378154277802\n",
            "Epoch: 9, Iter: 500, Loss: 0.11513898861408234\n",
            "Epoch: 9, Iter: 600, Loss: 0.11514079177379608\n",
            "Epoch: 9, Iter: 700, Loss: 0.1151386251449585\n",
            "Epoch: 9, Iter: 800, Loss: 0.1151372697353363\n",
            "Epoch: 9, Iter: 900, Loss: 0.1151366890668869\n",
            "Epoch: 10, Iter: 100, Loss: 0.11513681101799011\n",
            "Epoch: 10, Iter: 200, Loss: 0.11512376868724823\n",
            "Epoch: 10, Iter: 300, Loss: 0.11514732253551484\n",
            "Epoch: 10, Iter: 400, Loss: 0.11513213193416595\n",
            "Epoch: 10, Iter: 500, Loss: 0.11513203477859497\n",
            "Epoch: 10, Iter: 600, Loss: 0.11515504431724548\n",
            "Epoch: 10, Iter: 700, Loss: 0.11513794434070587\n",
            "Epoch: 10, Iter: 800, Loss: 0.11514033102989196\n",
            "Epoch: 10, Iter: 900, Loss: 0.11514220356941224\n"
          ]
        }
      ],
      "source": [
        "for epoch in range(10):\n",
        "\n",
        "    running_loss = 0.0\n",
        "\n",
        "    for i, data in enumerate(train_loader64, start=0):\n",
        "        inputs, labels = data[0].to(device), data[1].to(device)\n",
        "\n",
        "        optimizerDC_64.zero_grad() # epoch마다 gradient 0으로 초기화\n",
        "\n",
        "        outputs = DeepConv_net64(inputs) # y_pred = f(X)\n",
        "        loss = criterion(outputs, labels) # CrossEntropyLoss; 0~1 사이값\n",
        "        loss.backward() # back-propagation; gradient 계산\n",
        "        optimizerDC_64.step() # parameters(weights) update\n",
        "\n",
        "        running_loss += loss.item() # 그냥 전체적인 비교를 위해 누적함\n",
        "\n",
        "        if i % 100 == 99: # 100번 마다 확인; epoch=10, iter(=i)=469, batch=64\n",
        "            print('Epoch: {}, Iter: {}, Loss: {}'.format(epoch+1, i+1, running_loss/2000))\n",
        "            running_loss = 0.0"
      ]
    },
    {
      "cell_type": "markdown",
      "metadata": {
        "id": "LaVvtEOvKUgJ"
      },
      "source": [
        "### 3. DeepFC_net128\n",
        "* 2개의 Convolution-layer & 5개의 fc-layer\n",
        "* 128 batch-size"
      ]
    },
    {
      "cell_type": "code",
      "execution_count": 36,
      "metadata": {
        "colab": {
          "base_uri": "https://localhost:8080/"
        },
        "id": "Dwh9TK_1KUgK",
        "outputId": "778f80d7-707b-43a9-f568-bc09d8387df2"
      },
      "outputs": [
        {
          "output_type": "stream",
          "name": "stdout",
          "text": [
            "Epoch: 1, Iter: 100, Loss: 0.11524303424358368\n",
            "Epoch: 1, Iter: 200, Loss: 0.11517262423038482\n",
            "Epoch: 1, Iter: 300, Loss: 0.11511860859394074\n",
            "Epoch: 1, Iter: 400, Loss: 0.11505071294307709\n",
            "Epoch: 2, Iter: 100, Loss: 0.11495859599113464\n",
            "Epoch: 2, Iter: 200, Loss: 0.11491884875297546\n",
            "Epoch: 2, Iter: 300, Loss: 0.11482798135280609\n",
            "Epoch: 2, Iter: 400, Loss: 0.11473590016365051\n",
            "Epoch: 3, Iter: 100, Loss: 0.11446635746955872\n",
            "Epoch: 3, Iter: 200, Loss: 0.11418130254745483\n",
            "Epoch: 3, Iter: 300, Loss: 0.11370573973655701\n",
            "Epoch: 3, Iter: 400, Loss: 0.11277913475036622\n",
            "Epoch: 4, Iter: 100, Loss: 0.10567988181114196\n",
            "Epoch: 4, Iter: 200, Loss: 0.08339021617174149\n",
            "Epoch: 4, Iter: 300, Loss: 0.05882205292582512\n",
            "Epoch: 4, Iter: 400, Loss: 0.05004351389408111\n",
            "Epoch: 5, Iter: 100, Loss: 0.0408606176674366\n",
            "Epoch: 5, Iter: 200, Loss: 0.038363059103488924\n",
            "Epoch: 5, Iter: 300, Loss: 0.03639045611023903\n",
            "Epoch: 5, Iter: 400, Loss: 0.033834149330854414\n",
            "Epoch: 6, Iter: 100, Loss: 0.032418510720133784\n",
            "Epoch: 6, Iter: 200, Loss: 0.03125734719634056\n",
            "Epoch: 6, Iter: 300, Loss: 0.030836839586496353\n",
            "Epoch: 6, Iter: 400, Loss: 0.03086394287645817\n",
            "Epoch: 7, Iter: 100, Loss: 0.02902911791205406\n",
            "Epoch: 7, Iter: 200, Loss: 0.028785958886146545\n",
            "Epoch: 7, Iter: 300, Loss: 0.028874234467744828\n",
            "Epoch: 7, Iter: 400, Loss: 0.02730240640044212\n",
            "Epoch: 8, Iter: 100, Loss: 0.026759805768728256\n",
            "Epoch: 8, Iter: 200, Loss: 0.026550368517637254\n",
            "Epoch: 8, Iter: 300, Loss: 0.02662851046025753\n",
            "Epoch: 8, Iter: 400, Loss: 0.02572705762088299\n",
            "Epoch: 9, Iter: 100, Loss: 0.025441169425845147\n",
            "Epoch: 9, Iter: 200, Loss: 0.023751872673630714\n",
            "Epoch: 9, Iter: 300, Loss: 0.02471281884610653\n",
            "Epoch: 9, Iter: 400, Loss: 0.02371070882678032\n",
            "Epoch: 10, Iter: 100, Loss: 0.02338327519595623\n",
            "Epoch: 10, Iter: 200, Loss: 0.0224149993956089\n",
            "Epoch: 10, Iter: 300, Loss: 0.02262084336578846\n",
            "Epoch: 10, Iter: 400, Loss: 0.022842182859778404\n"
          ]
        }
      ],
      "source": [
        "for epoch in range(10):\n",
        "\n",
        "    running_loss = 0.0\n",
        "\n",
        "    for i, data in enumerate(train_loader128, start=0):\n",
        "        inputs, labels = data[0].to(device), data[1].to(device)\n",
        "\n",
        "        optimizerFC_128.zero_grad() # epoch마다 gradient 0으로 초기화\n",
        "\n",
        "        outputs = DeepFC_net128(inputs) # y_pred = f(X)\n",
        "        loss = criterion(outputs, labels) # CrossEntropyLoss; 0~1 사이값\n",
        "        loss.backward() # back-propagation; gradient 계산\n",
        "        optimizerFC_128.step() # parameters(weights) update\n",
        "\n",
        "        running_loss += loss.item() # 그냥 전체적인 비교를 위해 누적함\n",
        "\n",
        "        if i % 100 == 99: # 100번 마다 확인; epoch=10, iter(=i)=469, batch=128\n",
        "            print('Epoch: {}, Iter: {}, Loss: {}'.format(epoch+1, i+1, running_loss/2000))\n",
        "            running_loss = 0.0"
      ]
    },
    {
      "cell_type": "markdown",
      "metadata": {
        "id": "jRyyw49jKVhj"
      },
      "source": [
        "### 4. DeepFC_net128\n",
        "* 2개의 Convolution-layer & 5개의 fc-layer\n",
        "* 64 batch-size"
      ]
    },
    {
      "cell_type": "code",
      "execution_count": 37,
      "metadata": {
        "colab": {
          "base_uri": "https://localhost:8080/"
        },
        "id": "X3847V0dKVhk",
        "outputId": "ad9e21b8-5d11-47bf-964e-ef3ac888bead"
      },
      "outputs": [
        {
          "output_type": "stream",
          "name": "stdout",
          "text": [
            "Epoch: 1, Iter: 100, Loss: 0.11511343765258789\n",
            "Epoch: 1, Iter: 200, Loss: 0.11502223300933838\n",
            "Epoch: 1, Iter: 300, Loss: 0.11494366812705993\n",
            "Epoch: 1, Iter: 400, Loss: 0.11477721917629242\n",
            "Epoch: 1, Iter: 500, Loss: 0.11461631369590759\n",
            "Epoch: 1, Iter: 600, Loss: 0.11424395942687988\n",
            "Epoch: 1, Iter: 700, Loss: 0.1134613424539566\n",
            "Epoch: 1, Iter: 800, Loss: 0.11137041509151459\n",
            "Epoch: 1, Iter: 900, Loss: 0.09912989866733551\n",
            "Epoch: 2, Iter: 100, Loss: 0.05823230376839638\n",
            "Epoch: 2, Iter: 200, Loss: 0.043923157334327695\n",
            "Epoch: 2, Iter: 300, Loss: 0.040011699825525285\n",
            "Epoch: 2, Iter: 400, Loss: 0.036589729577302936\n",
            "Epoch: 2, Iter: 500, Loss: 0.03425683306157589\n",
            "Epoch: 2, Iter: 600, Loss: 0.033910425037145614\n",
            "Epoch: 2, Iter: 700, Loss: 0.03176931975781917\n",
            "Epoch: 2, Iter: 800, Loss: 0.030967127352952956\n",
            "Epoch: 2, Iter: 900, Loss: 0.030426816254854203\n",
            "Epoch: 3, Iter: 100, Loss: 0.0298112413585186\n",
            "Epoch: 3, Iter: 200, Loss: 0.02938925789296627\n",
            "Epoch: 3, Iter: 300, Loss: 0.027976253300905227\n",
            "Epoch: 3, Iter: 400, Loss: 0.027861356198787688\n",
            "Epoch: 3, Iter: 500, Loss: 0.02905339726805687\n",
            "Epoch: 3, Iter: 600, Loss: 0.027991324305534363\n",
            "Epoch: 3, Iter: 700, Loss: 0.027265771627426147\n",
            "Epoch: 3, Iter: 800, Loss: 0.026443164333701134\n",
            "Epoch: 3, Iter: 900, Loss: 0.026784573167562484\n",
            "Epoch: 4, Iter: 100, Loss: 0.025139918349683286\n",
            "Epoch: 4, Iter: 200, Loss: 0.025392317563295363\n",
            "Epoch: 4, Iter: 300, Loss: 0.025049701392650604\n",
            "Epoch: 4, Iter: 400, Loss: 0.025847353413701056\n",
            "Epoch: 4, Iter: 500, Loss: 0.024971963435411453\n",
            "Epoch: 4, Iter: 600, Loss: 0.024064652934670448\n",
            "Epoch: 4, Iter: 700, Loss: 0.023584906257688998\n",
            "Epoch: 4, Iter: 800, Loss: 0.023885774597525597\n",
            "Epoch: 4, Iter: 900, Loss: 0.023562793761491774\n",
            "Epoch: 5, Iter: 100, Loss: 0.023016249611973762\n",
            "Epoch: 5, Iter: 200, Loss: 0.022887940540909767\n",
            "Epoch: 5, Iter: 300, Loss: 0.02311675888299942\n",
            "Epoch: 5, Iter: 400, Loss: 0.02252399967610836\n",
            "Epoch: 5, Iter: 500, Loss: 0.022548346929252148\n",
            "Epoch: 5, Iter: 600, Loss: 0.02141701704263687\n",
            "Epoch: 5, Iter: 700, Loss: 0.02258515790104866\n",
            "Epoch: 5, Iter: 800, Loss: 0.02207120071351528\n",
            "Epoch: 5, Iter: 900, Loss: 0.022033023566007615\n",
            "Epoch: 6, Iter: 100, Loss: 0.02110720159113407\n",
            "Epoch: 6, Iter: 200, Loss: 0.02098334837704897\n",
            "Epoch: 6, Iter: 300, Loss: 0.021535732977092267\n",
            "Epoch: 6, Iter: 400, Loss: 0.021074207238852977\n",
            "Epoch: 6, Iter: 500, Loss: 0.020750522553920746\n",
            "Epoch: 6, Iter: 600, Loss: 0.019814899675548076\n",
            "Epoch: 6, Iter: 700, Loss: 0.02060935439169407\n",
            "Epoch: 6, Iter: 800, Loss: 0.021223241984844207\n",
            "Epoch: 6, Iter: 900, Loss: 0.02102196267992258\n",
            "Epoch: 7, Iter: 100, Loss: 0.020164041325449942\n",
            "Epoch: 7, Iter: 200, Loss: 0.020438043609261512\n",
            "Epoch: 7, Iter: 300, Loss: 0.019763240702450276\n",
            "Epoch: 7, Iter: 400, Loss: 0.019425555497407914\n",
            "Epoch: 7, Iter: 500, Loss: 0.019238252587616442\n",
            "Epoch: 7, Iter: 600, Loss: 0.020874673195183276\n",
            "Epoch: 7, Iter: 700, Loss: 0.019167540304362775\n",
            "Epoch: 7, Iter: 800, Loss: 0.01972080224752426\n",
            "Epoch: 7, Iter: 900, Loss: 0.01870753240585327\n",
            "Epoch: 8, Iter: 100, Loss: 0.019579832039773464\n",
            "Epoch: 8, Iter: 200, Loss: 0.019287306509912013\n",
            "Epoch: 8, Iter: 300, Loss: 0.019279107809066772\n",
            "Epoch: 8, Iter: 400, Loss: 0.018130927219986916\n",
            "Epoch: 8, Iter: 500, Loss: 0.018958972081542014\n",
            "Epoch: 8, Iter: 600, Loss: 0.018556866861879826\n",
            "Epoch: 8, Iter: 700, Loss: 0.018433416113257408\n",
            "Epoch: 8, Iter: 800, Loss: 0.01884360156953335\n",
            "Epoch: 8, Iter: 900, Loss: 0.018966542549431323\n",
            "Epoch: 9, Iter: 100, Loss: 0.01760987637192011\n",
            "Epoch: 9, Iter: 200, Loss: 0.016954869352281094\n",
            "Epoch: 9, Iter: 300, Loss: 0.018116032116115094\n",
            "Epoch: 9, Iter: 400, Loss: 0.01797753347456455\n",
            "Epoch: 9, Iter: 500, Loss: 0.018724628053605558\n",
            "Epoch: 9, Iter: 600, Loss: 0.0179396261498332\n",
            "Epoch: 9, Iter: 700, Loss: 0.017957539662718774\n",
            "Epoch: 9, Iter: 800, Loss: 0.01771326231956482\n",
            "Epoch: 9, Iter: 900, Loss: 0.018313619673252107\n",
            "Epoch: 10, Iter: 100, Loss: 0.017171837098896504\n",
            "Epoch: 10, Iter: 200, Loss: 0.01727749998867512\n",
            "Epoch: 10, Iter: 300, Loss: 0.016464002884924413\n",
            "Epoch: 10, Iter: 400, Loss: 0.017119644075632094\n",
            "Epoch: 10, Iter: 500, Loss: 0.01733141902089119\n",
            "Epoch: 10, Iter: 600, Loss: 0.018525917544960975\n",
            "Epoch: 10, Iter: 700, Loss: 0.0175285524725914\n",
            "Epoch: 10, Iter: 800, Loss: 0.017335524335503578\n",
            "Epoch: 10, Iter: 900, Loss: 0.016640820197761058\n"
          ]
        }
      ],
      "source": [
        "for epoch in range(10):\n",
        "\n",
        "    running_loss = 0.0\n",
        "\n",
        "    for i, data in enumerate(train_loader64, start=0):\n",
        "        inputs, labels = data[0].to(device), data[1].to(device)\n",
        "\n",
        "        optimizerFC_64.zero_grad() # epoch마다 gradient 0으로 초기화\n",
        "\n",
        "        outputs = DeepFC_net64(inputs) # y_pred = f(X)\n",
        "        loss = criterion(outputs, labels) # CrossEntropyLoss; 0~1 사이값\n",
        "        loss.backward() # back-propagation; gradient 계산\n",
        "        optimizerFC_64.step() # parameters(weights) update\n",
        "\n",
        "        running_loss += loss.item() # 그냥 전체적인 비교를 위해 누적함\n",
        "\n",
        "        if i % 100 == 99: # 100번 마다 확인; epoch=10, iter(=i)=469, batch=64\n",
        "            print('Epoch: {}, Iter: {}, Loss: {}'.format(epoch+1, i+1, running_loss/2000))\n",
        "            running_loss = 0.0"
      ]
    },
    {
      "cell_type": "markdown",
      "metadata": {
        "id": "5IecfHZiI09W"
      },
      "source": [
        "## 모델 테스트"
      ]
    },
    {
      "cell_type": "code",
      "execution_count": 38,
      "metadata": {
        "colab": {
          "base_uri": "https://localhost:8080/"
        },
        "id": "VjVs_iS0rlof",
        "outputId": "bebde87f-97a9-44d4-a005-c03fd5e27875"
      },
      "outputs": [
        {
          "output_type": "stream",
          "name": "stdout",
          "text": [
            "DeepConv_net128 : 0.1\n",
            "DeepConv_net64 : 0.1\n",
            "DeepFC_net128 : 0.8326\n",
            "DeepFC_net64 : 0.8636\n"
          ]
        }
      ],
      "source": [
        "# 전체 test 데이터에 대해서 성능 확인\n",
        "\n",
        "correct_list = [0]*4\n",
        "total_list = [0]*4\n",
        "a = -1\n",
        "\n",
        "model_list = {'DeepConv' : [DeepConv_net128, DeepConv_net64],\n",
        "              'DeepFC' : [DeepFC_net128, DeepFC_net64]}\n",
        "data_list = [test_loader128, test_loader64]\n",
        "\n",
        "with torch.no_grad(): # grad가 필요없다.\n",
        "\n",
        "    for key in model_list:\n",
        "        for idx in range(len(model_list[key])):\n",
        "            a += 1\n",
        "            model = model_list[key][idx]\n",
        "            data_loader = data_list[idx]\n",
        "            for data in data_loader:\n",
        "                images, labels = data[0].to(device), data[1].to(device)\n",
        "\n",
        "                outputs = model(images)\n",
        "                _, predicted = torch.max(outputs.data, 1)\n",
        "\n",
        "                total_list[a] += labels.size(0)\n",
        "                correct_list[a] += (predicted == labels).sum().item()\n",
        "            \n",
        "correct_rate = np.array(correct_list) / np.array(total_list)\n",
        "model_name = ['DeepConv_net128', 'DeepConv_net64', 'DeepFC_net128', 'DeepFC_net64']\n",
        "\n",
        "for i in range(len(correct_rate)):\n",
        "    print('{0} : {1}'.format(model_name[i], correct_rate[i]))"
      ]
    },
    {
      "cell_type": "markdown",
      "metadata": {
        "id": "SZcZQv4PGeYv"
      },
      "source": [
        "# FashionMNIST 분류 모델 중 성능이 낮은 모델 이유 확인"
      ]
    },
    {
      "cell_type": "markdown",
      "metadata": {
        "id": "V7HoLqroDhyF"
      },
      "source": [
        "## Convolution-layer를 하나씩 추가하면서, 성능변화를 관찰"
      ]
    },
    {
      "cell_type": "markdown",
      "metadata": {
        "id": "_civVcIYBGxA"
      },
      "source": [
        "### 3개의 convolution-layer 사용시"
      ]
    },
    {
      "cell_type": "code",
      "execution_count": 39,
      "metadata": {
        "id": "29zvOdhT-fwY"
      },
      "outputs": [],
      "source": [
        "class CNN_Model3(nn.Module):\n",
        "    def __init__(self):\n",
        "        super(CNN_Model3, self).__init__()\n",
        "\n",
        "        self.conv1 = nn.Conv2d(in_channels=1, out_channels=5, kernel_size=3, stride=1, padding=2)\n",
        "        self.conv2 = nn.Conv2d(5, 7, 3, padding=1)\n",
        "        self.conv3 = nn.Conv2d(7, 16, 2, padding=1)\n",
        "\n",
        "        self.fc1 = nn.Linear(16* 16 * 16, 3000)\n",
        "        self.fc2 = nn.Linear(3000, 1500)\n",
        "        self.fc3 = nn.Linear(1500, 20 * 3 * 3)\n",
        "        self.fc4 = nn.Linear(20 * 3 * 3, 86)\n",
        "        self.fc5 = nn.Linear(86, 10) # 10 : 10개의 category\n",
        "\n",
        "    def forward(self, x):\n",
        "        x = F.relu(self.conv1(x))\n",
        "        x = F.max_pool2d(x, (2,2))\n",
        "        x = F.relu(self.conv2(x))\n",
        "        x = F.relu(self.conv3(x))\n",
        "\n",
        "        x = x.view(-1, self.num_flat_features(x)) # num_flat_features : 아래에서 정의\n",
        "\n",
        "        x = F.relu(self.fc1(x))\n",
        "        x = F.relu(self.fc2(x))\n",
        "        x = F.relu(self.fc3(x))\n",
        "        x = F.relu(self.fc4(x))\n",
        "        x = self.fc5(x)\n",
        "\n",
        "        return x\n",
        "    \n",
        "    def num_flat_features(self, x): # 처음 dim-size을 제외하고, 모두 곱한 값을 반환해준다.\n",
        "        size = x.size()[1:]\n",
        "        num_features = 1\n",
        "        for s in size:\n",
        "            num_features *= s\n",
        "        \n",
        "        return num_features"
      ]
    },
    {
      "cell_type": "code",
      "execution_count": 40,
      "metadata": {
        "colab": {
          "base_uri": "https://localhost:8080/"
        },
        "id": "t81gXZmz-fwY",
        "outputId": "efcbdc3b-cddf-434e-8e29-2b3189e1f601"
      },
      "outputs": [
        {
          "output_type": "stream",
          "name": "stdout",
          "text": [
            "CNN_Model3(\n",
            "  (conv1): Conv2d(1, 5, kernel_size=(3, 3), stride=(1, 1), padding=(2, 2))\n",
            "  (conv2): Conv2d(5, 7, kernel_size=(3, 3), stride=(1, 1), padding=(1, 1))\n",
            "  (conv3): Conv2d(7, 16, kernel_size=(2, 2), stride=(1, 1), padding=(1, 1))\n",
            "  (fc1): Linear(in_features=4096, out_features=3000, bias=True)\n",
            "  (fc2): Linear(in_features=3000, out_features=1500, bias=True)\n",
            "  (fc3): Linear(in_features=1500, out_features=180, bias=True)\n",
            "  (fc4): Linear(in_features=180, out_features=86, bias=True)\n",
            "  (fc5): Linear(in_features=86, out_features=10, bias=True)\n",
            ")\n"
          ]
        }
      ],
      "source": [
        "# 모델객체 생성\n",
        "new_model = CNN_Model3().to(device)\n",
        "\n",
        "print(new_model)"
      ]
    },
    {
      "cell_type": "code",
      "execution_count": 41,
      "metadata": {
        "colab": {
          "base_uri": "https://localhost:8080/"
        },
        "id": "Bb2EkGUbBnuM",
        "outputId": "9eb28d76-f760-490e-d6a6-01fa70663448"
      },
      "outputs": [
        {
          "output_type": "stream",
          "name": "stdout",
          "text": [
            "----------------------------------------------------------------\n",
            "        Layer (type)               Output Shape         Param #\n",
            "================================================================\n",
            "            Conv2d-1           [128, 5, 30, 30]              50\n",
            "            Conv2d-2           [128, 7, 15, 15]             322\n",
            "            Conv2d-3          [128, 16, 16, 16]             464\n",
            "            Linear-4                [128, 3000]      12,291,000\n",
            "            Linear-5                [128, 1500]       4,501,500\n",
            "            Linear-6                 [128, 180]         270,180\n",
            "            Linear-7                  [128, 86]          15,566\n",
            "            Linear-8                  [128, 10]             870\n",
            "================================================================\n",
            "Total params: 17,079,952\n",
            "Trainable params: 17,079,952\n",
            "Non-trainable params: 0\n",
            "----------------------------------------------------------------\n",
            "Input size (MB): 0.38\n",
            "Forward/backward pass size (MB): 14.60\n",
            "Params size (MB): 65.15\n",
            "Estimated Total Size (MB): 80.13\n",
            "----------------------------------------------------------------\n"
          ]
        }
      ],
      "source": [
        "summary(new_model, input_size=(1, 28, 28), batch_size=128)"
      ]
    },
    {
      "cell_type": "code",
      "execution_count": 42,
      "metadata": {
        "id": "aQDT4bYIBsZl"
      },
      "outputs": [],
      "source": [
        "optimizer = optim.SGD(new_model.parameters(), lr=0.001, momentum=0.9)"
      ]
    },
    {
      "cell_type": "code",
      "execution_count": 43,
      "metadata": {
        "colab": {
          "base_uri": "https://localhost:8080/"
        },
        "id": "D6GqkR8nBwhH",
        "outputId": "c523ebd6-ad02-4cd1-b91b-99801cbb6707"
      },
      "outputs": [
        {
          "output_type": "stream",
          "name": "stdout",
          "text": [
            "Epoch: 1, Iter: 100, Loss: 0.11519166302680969\n",
            "Epoch: 1, Iter: 200, Loss: 0.11516423845291138\n",
            "Epoch: 1, Iter: 300, Loss: 0.11514258873462677\n",
            "Epoch: 1, Iter: 400, Loss: 0.11509791159629822\n",
            "Epoch: 2, Iter: 100, Loss: 0.11508310830593109\n",
            "Epoch: 2, Iter: 200, Loss: 0.11508082628250121\n",
            "Epoch: 2, Iter: 300, Loss: 0.11506484651565552\n",
            "Epoch: 2, Iter: 400, Loss: 0.11504914009571075\n",
            "Epoch: 3, Iter: 100, Loss: 0.11501747953891754\n",
            "Epoch: 3, Iter: 200, Loss: 0.11499930191040039\n",
            "Epoch: 3, Iter: 300, Loss: 0.11497533798217774\n",
            "Epoch: 3, Iter: 400, Loss: 0.11495089280605317\n",
            "Epoch: 4, Iter: 100, Loss: 0.11489397668838501\n",
            "Epoch: 4, Iter: 200, Loss: 0.1148463397026062\n",
            "Epoch: 4, Iter: 300, Loss: 0.11479025506973267\n",
            "Epoch: 4, Iter: 400, Loss: 0.11471071219444275\n",
            "Epoch: 5, Iter: 100, Loss: 0.11451912355422973\n",
            "Epoch: 5, Iter: 200, Loss: 0.11433548307418823\n",
            "Epoch: 5, Iter: 300, Loss: 0.11404227781295777\n",
            "Epoch: 5, Iter: 400, Loss: 0.11353075492382049\n",
            "Epoch: 6, Iter: 100, Loss: 0.11088965022563935\n",
            "Epoch: 6, Iter: 200, Loss: 0.1016275291442871\n",
            "Epoch: 6, Iter: 300, Loss: 0.06567263329029083\n",
            "Epoch: 6, Iter: 400, Loss: 0.05102003857493401\n",
            "Epoch: 7, Iter: 100, Loss: 0.045098785966634754\n",
            "Epoch: 7, Iter: 200, Loss: 0.04230144828557968\n",
            "Epoch: 7, Iter: 300, Loss: 0.03939682629704475\n",
            "Epoch: 7, Iter: 400, Loss: 0.036659505009651185\n",
            "Epoch: 8, Iter: 100, Loss: 0.03564631643891335\n",
            "Epoch: 8, Iter: 200, Loss: 0.034831682622432705\n",
            "Epoch: 8, Iter: 300, Loss: 0.03353990811109543\n",
            "Epoch: 8, Iter: 400, Loss: 0.032592374682426456\n",
            "Epoch: 9, Iter: 100, Loss: 0.030901344165205954\n",
            "Epoch: 9, Iter: 200, Loss: 0.031367324218153955\n",
            "Epoch: 9, Iter: 300, Loss: 0.029956488654017448\n",
            "Epoch: 9, Iter: 400, Loss: 0.030358665704727172\n",
            "Epoch: 10, Iter: 100, Loss: 0.02870336276292801\n",
            "Epoch: 10, Iter: 200, Loss: 0.02858574543893337\n",
            "Epoch: 10, Iter: 300, Loss: 0.027169445112347604\n",
            "Epoch: 10, Iter: 400, Loss: 0.02728642621636391\n"
          ]
        }
      ],
      "source": [
        "for epoch in range(10):\n",
        "\n",
        "    running_loss = 0.0\n",
        "\n",
        "    for i, data in enumerate(train_loader128, start=0):\n",
        "        inputs, labels = data[0].to(device), data[1].to(device)\n",
        "\n",
        "        optimizer.zero_grad() # epoch마다 gradient 0으로 초기화\n",
        "\n",
        "        outputs = new_model(inputs) # y_pred = f(X)\n",
        "        loss = criterion(outputs, labels) # CrossEntropyLoss; 0~1 사이값\n",
        "        loss.backward() # back-propagation; gradient 계산\n",
        "        optimizer.step() # parameters(weights) update\n",
        "\n",
        "        running_loss += loss.item() # 그냥 전체적인 비교를 위해 누적함\n",
        "\n",
        "        if i % 100 == 99: # 100번 마다 확인; epoch=10, iter(=i)=469, batch=128\n",
        "            print('Epoch: {}, Iter: {}, Loss: {}'.format(epoch+1, i+1, running_loss/2000))\n",
        "            running_loss = 0.0"
      ]
    },
    {
      "cell_type": "code",
      "execution_count": 44,
      "metadata": {
        "colab": {
          "base_uri": "https://localhost:8080/"
        },
        "id": "1PDu2v9bB_NE",
        "outputId": "4efe6e35-bef8-43cd-a5ef-151de993927c"
      },
      "outputs": [
        {
          "output_type": "stream",
          "name": "stdout",
          "text": [
            "80.38\n"
          ]
        }
      ],
      "source": [
        "correct = 0\n",
        "total = 0\n",
        "\n",
        "with torch.no_grad():\n",
        "    for data in test_loader128:\n",
        "        images, labels = data[0].to(device), data[1].to(device)\n",
        "        outputs = new_model(images)\n",
        "        _, predicted = torch.max(outputs.data, axis=1)\n",
        "        total += labels.size(0)\n",
        "        correct += (predicted == labels).sum().item()\n",
        "    \n",
        "    print(100 * correct / total)"
      ]
    },
    {
      "cell_type": "markdown",
      "metadata": {
        "id": "7Thu9NRyCV7j"
      },
      "source": [
        "### 4개의 convolution-layer 사용시"
      ]
    },
    {
      "cell_type": "code",
      "execution_count": 45,
      "metadata": {
        "id": "V9PQvGFPCV7k"
      },
      "outputs": [],
      "source": [
        "class CNN_Model4(nn.Module):\n",
        "    def __init__(self):\n",
        "        super(CNN_Model4, self).__init__()\n",
        "\n",
        "        self.conv1 = nn.Conv2d(in_channels=1, out_channels=5, kernel_size=3, stride=1, padding=2)\n",
        "        self.conv2 = nn.Conv2d(5, 7, 3, padding=1)\n",
        "        self.conv3 = nn.Conv2d(7, 16, 2, padding=1)\n",
        "        self.conv4 = nn.Conv2d(16, 19, 2)\n",
        "\n",
        "        self.fc1 = nn.Linear(15* 15 * 19, 3000)\n",
        "        self.fc2 = nn.Linear(3000, 1500)\n",
        "        self.fc3 = nn.Linear(1500, 20 * 3 * 3)\n",
        "        self.fc4 = nn.Linear(20 * 3 * 3, 86)\n",
        "        self.fc5 = nn.Linear(86, 10) # 10 : 10개의 category\n",
        "\n",
        "    def forward(self, x):\n",
        "        x = F.relu(self.conv1(x))\n",
        "        x = F.max_pool2d(x, (2,2))\n",
        "        x = F.relu(self.conv2(x))\n",
        "        x = F.relu(self.conv3(x))\n",
        "        x = F.relu(self.conv4(x))\n",
        "\n",
        "        x = x.view(-1, self.num_flat_features(x)) # num_flat_features : 아래에서 정의\n",
        "\n",
        "        x = F.relu(self.fc1(x))\n",
        "        x = F.relu(self.fc2(x))\n",
        "        x = F.relu(self.fc3(x))\n",
        "        x = F.relu(self.fc4(x))\n",
        "        x = self.fc5(x)\n",
        "\n",
        "        return x\n",
        "    \n",
        "    def num_flat_features(self, x): # 처음 dim-size을 제외하고, 모두 곱한 값을 반환해준다.\n",
        "        size = x.size()[1:]\n",
        "        num_features = 1\n",
        "        for s in size:\n",
        "            num_features *= s\n",
        "        \n",
        "        return num_features"
      ]
    },
    {
      "cell_type": "code",
      "execution_count": 46,
      "metadata": {
        "colab": {
          "base_uri": "https://localhost:8080/"
        },
        "id": "HNAL7SRZCV7k",
        "outputId": "fdb6643d-dc5b-42c8-d9b5-c087c6409621"
      },
      "outputs": [
        {
          "output_type": "stream",
          "name": "stdout",
          "text": [
            "CNN_Model4(\n",
            "  (conv1): Conv2d(1, 5, kernel_size=(3, 3), stride=(1, 1), padding=(2, 2))\n",
            "  (conv2): Conv2d(5, 7, kernel_size=(3, 3), stride=(1, 1), padding=(1, 1))\n",
            "  (conv3): Conv2d(7, 16, kernel_size=(2, 2), stride=(1, 1), padding=(1, 1))\n",
            "  (conv4): Conv2d(16, 19, kernel_size=(2, 2), stride=(1, 1))\n",
            "  (fc1): Linear(in_features=4275, out_features=3000, bias=True)\n",
            "  (fc2): Linear(in_features=3000, out_features=1500, bias=True)\n",
            "  (fc3): Linear(in_features=1500, out_features=180, bias=True)\n",
            "  (fc4): Linear(in_features=180, out_features=86, bias=True)\n",
            "  (fc5): Linear(in_features=86, out_features=10, bias=True)\n",
            ")\n"
          ]
        }
      ],
      "source": [
        "# 모델객체 생성\n",
        "new_model = CNN_Model4().to(device)\n",
        "\n",
        "print(new_model)"
      ]
    },
    {
      "cell_type": "code",
      "execution_count": 47,
      "metadata": {
        "colab": {
          "base_uri": "https://localhost:8080/"
        },
        "id": "fHmIarJBCV7k",
        "outputId": "92f50470-c0c3-441e-8c72-d7eab2a30c75"
      },
      "outputs": [
        {
          "output_type": "stream",
          "name": "stdout",
          "text": [
            "----------------------------------------------------------------\n",
            "        Layer (type)               Output Shape         Param #\n",
            "================================================================\n",
            "            Conv2d-1           [128, 5, 30, 30]              50\n",
            "            Conv2d-2           [128, 7, 15, 15]             322\n",
            "            Conv2d-3          [128, 16, 16, 16]             464\n",
            "            Conv2d-4          [128, 19, 15, 15]           1,235\n",
            "            Linear-5                [128, 3000]      12,828,000\n",
            "            Linear-6                [128, 1500]       4,501,500\n",
            "            Linear-7                 [128, 180]         270,180\n",
            "            Linear-8                  [128, 86]          15,566\n",
            "            Linear-9                  [128, 10]             870\n",
            "================================================================\n",
            "Total params: 17,618,187\n",
            "Trainable params: 17,618,187\n",
            "Non-trainable params: 0\n",
            "----------------------------------------------------------------\n",
            "Input size (MB): 0.38\n",
            "Forward/backward pass size (MB): 18.77\n",
            "Params size (MB): 67.21\n",
            "Estimated Total Size (MB): 86.36\n",
            "----------------------------------------------------------------\n"
          ]
        }
      ],
      "source": [
        "summary(new_model, input_size=(1, 28, 28), batch_size=128)"
      ]
    },
    {
      "cell_type": "code",
      "execution_count": 48,
      "metadata": {
        "id": "z6gegPTRCV7k"
      },
      "outputs": [],
      "source": [
        "optimizer = optim.SGD(new_model.parameters(), lr=0.001, momentum=0.9)"
      ]
    },
    {
      "cell_type": "code",
      "execution_count": 49,
      "metadata": {
        "colab": {
          "base_uri": "https://localhost:8080/"
        },
        "id": "oeeKVQdKCV7k",
        "outputId": "765efd79-36d1-4236-949f-82f20d405525"
      },
      "outputs": [
        {
          "output_type": "stream",
          "name": "stdout",
          "text": [
            "Epoch: 1, Iter: 100, Loss: 0.11523629188537597\n",
            "Epoch: 1, Iter: 200, Loss: 0.11517588984966277\n",
            "Epoch: 1, Iter: 300, Loss: 0.1151677463054657\n",
            "Epoch: 1, Iter: 400, Loss: 0.11514272165298461\n",
            "Epoch: 2, Iter: 100, Loss: 0.1151292608976364\n",
            "Epoch: 2, Iter: 200, Loss: 0.11515993070602416\n",
            "Epoch: 2, Iter: 300, Loss: 0.11514083874225617\n",
            "Epoch: 2, Iter: 400, Loss: 0.11513780415058136\n",
            "Epoch: 3, Iter: 100, Loss: 0.1151321941614151\n",
            "Epoch: 3, Iter: 200, Loss: 0.11512260544300079\n",
            "Epoch: 3, Iter: 300, Loss: 0.11513303470611572\n",
            "Epoch: 3, Iter: 400, Loss: 0.11512395119667053\n",
            "Epoch: 4, Iter: 100, Loss: 0.11512001013755799\n",
            "Epoch: 4, Iter: 200, Loss: 0.11511794257164001\n",
            "Epoch: 4, Iter: 300, Loss: 0.1151161607503891\n",
            "Epoch: 4, Iter: 400, Loss: 0.11512091290950775\n",
            "Epoch: 5, Iter: 100, Loss: 0.11511185503005981\n",
            "Epoch: 5, Iter: 200, Loss: 0.11511730647087097\n",
            "Epoch: 5, Iter: 300, Loss: 0.11510958862304688\n",
            "Epoch: 5, Iter: 400, Loss: 0.11511300003528595\n",
            "Epoch: 6, Iter: 100, Loss: 0.11510698688030242\n",
            "Epoch: 6, Iter: 200, Loss: 0.11510608398914338\n",
            "Epoch: 6, Iter: 300, Loss: 0.11510606288909912\n",
            "Epoch: 6, Iter: 400, Loss: 0.11510576772689819\n",
            "Epoch: 7, Iter: 100, Loss: 0.11509760344028473\n",
            "Epoch: 7, Iter: 200, Loss: 0.11509863698482513\n",
            "Epoch: 7, Iter: 300, Loss: 0.11509351706504822\n",
            "Epoch: 7, Iter: 400, Loss: 0.11509454846382142\n",
            "Epoch: 8, Iter: 100, Loss: 0.11508561098575593\n",
            "Epoch: 8, Iter: 200, Loss: 0.11508229494094849\n",
            "Epoch: 8, Iter: 300, Loss: 0.11507820856571198\n",
            "Epoch: 8, Iter: 400, Loss: 0.11507595491409302\n",
            "Epoch: 9, Iter: 100, Loss: 0.11506475293636322\n",
            "Epoch: 9, Iter: 200, Loss: 0.11505920314788819\n",
            "Epoch: 9, Iter: 300, Loss: 0.11504756641387939\n",
            "Epoch: 9, Iter: 400, Loss: 0.11504503571987153\n",
            "Epoch: 10, Iter: 100, Loss: 0.11502334797382355\n",
            "Epoch: 10, Iter: 200, Loss: 0.11500649607181548\n",
            "Epoch: 10, Iter: 300, Loss: 0.11498814260959625\n",
            "Epoch: 10, Iter: 400, Loss: 0.11496236503124237\n"
          ]
        }
      ],
      "source": [
        "for epoch in range(10):\n",
        "\n",
        "    running_loss = 0.0\n",
        "\n",
        "    for i, data in enumerate(train_loader128, start=0):\n",
        "        inputs, labels = data[0].to(device), data[1].to(device)\n",
        "\n",
        "        optimizer.zero_grad() # epoch마다 gradient 0으로 초기화\n",
        "\n",
        "        outputs = new_model(inputs) # y_pred = f(X)\n",
        "        loss = criterion(outputs, labels) # CrossEntropyLoss; 0~1 사이값\n",
        "        loss.backward() # back-propagation; gradient 계산\n",
        "        optimizer.step() # parameters(weights) update\n",
        "\n",
        "        running_loss += loss.item() # 그냥 전체적인 비교를 위해 누적함\n",
        "\n",
        "        if i % 100 == 99: # 100번 마다 확인; epoch=10, iter(=i)=469, batch=128\n",
        "            print('Epoch: {}, Iter: {}, Loss: {}'.format(epoch+1, i+1, running_loss/2000))\n",
        "            running_loss = 0.0"
      ]
    },
    {
      "cell_type": "code",
      "execution_count": 50,
      "metadata": {
        "colab": {
          "base_uri": "https://localhost:8080/"
        },
        "id": "w3uuDeS_CV7k",
        "outputId": "d148478f-085b-4c37-e538-1294a976b06b"
      },
      "outputs": [
        {
          "output_type": "stream",
          "name": "stdout",
          "text": [
            "39.24\n"
          ]
        }
      ],
      "source": [
        "correct = 0\n",
        "total = 0\n",
        "\n",
        "with torch.no_grad():\n",
        "    for data in test_loader128:\n",
        "        images, labels = data[0].to(device), data[1].to(device)\n",
        "        outputs = new_model(images)\n",
        "        _, predicted = torch.max(outputs.data, axis=1)\n",
        "        total += labels.size(0)\n",
        "        correct += (predicted == labels).sum().item()\n",
        "    \n",
        "    print(100 * correct / total)"
      ]
    },
    {
      "cell_type": "markdown",
      "metadata": {
        "id": "kuP_3_DyD42p"
      },
      "source": [
        "### 5개의 convolution-layer 사용시"
      ]
    },
    {
      "cell_type": "code",
      "execution_count": 51,
      "metadata": {
        "id": "Bk1u7iloD42q"
      },
      "outputs": [],
      "source": [
        "class CNN_Model5(nn.Module):\n",
        "    def __init__(self):\n",
        "        super(CNN_Model5, self).__init__()\n",
        "\n",
        "        self.conv1 = nn.Conv2d(in_channels=1, out_channels=5, kernel_size=3, stride=1, padding=2)\n",
        "        self.conv2 = nn.Conv2d(5, 7, 3, padding=1)      \n",
        "        self.conv3 = nn.Conv2d(7, 16, 2, padding=1)\n",
        "        self.conv4 = nn.Conv2d(16, 19, 2)\n",
        "        self.conv5 = nn.Conv2d(19, 29, 3)\n",
        "\n",
        "        self.fc1 = nn.Linear(29 * 13 * 13, 100)\n",
        "        self.fc2 = nn.Linear(100, 50)\n",
        "        self.fc3 = nn.Linear(50, 25)\n",
        "        self.fc4 = nn.Linear(25, 10) # 10 : 10개의 category\n",
        "\n",
        "    def forward(self, x):\n",
        "        x = F.relu(self.conv1(x))\n",
        "        x = F.max_pool2d(x, (2,2))\n",
        "        x = F.relu(self.conv2(x))\n",
        "        x = F.relu(self.conv3(x))\n",
        "        x = F.relu(self.conv4(x))\n",
        "        x = F.relu(self.conv5(x))\n",
        "\n",
        "        x = x.view(-1, self.num_flat_features(x)) # num_flat_features : 아래에서 정의\n",
        "\n",
        "        x = F.relu(self.fc1(x))\n",
        "        x = F.relu(self.fc2(x))\n",
        "        x = F.relu(self.fc3(x))\n",
        "        x = self.fc4(x)\n",
        "\n",
        "        return x\n",
        "    \n",
        "    def num_flat_features(self, x): # 처음 dim-size을 제외하고, 모두 곱한 값을 반환해준다.\n",
        "        size = x.size()[1:]\n",
        "        num_features = 1\n",
        "        for s in size:\n",
        "            num_features *= s\n",
        "        \n",
        "        return num_features"
      ]
    },
    {
      "cell_type": "code",
      "execution_count": 52,
      "metadata": {
        "colab": {
          "base_uri": "https://localhost:8080/"
        },
        "id": "GPoNB-4vD42q",
        "outputId": "21fbd0d6-45e6-4047-8e1d-2f895ec0898a"
      },
      "outputs": [
        {
          "output_type": "stream",
          "name": "stdout",
          "text": [
            "CNN_Model5(\n",
            "  (conv1): Conv2d(1, 5, kernel_size=(3, 3), stride=(1, 1), padding=(2, 2))\n",
            "  (conv2): Conv2d(5, 7, kernel_size=(3, 3), stride=(1, 1), padding=(1, 1))\n",
            "  (conv3): Conv2d(7, 16, kernel_size=(2, 2), stride=(1, 1), padding=(1, 1))\n",
            "  (conv4): Conv2d(16, 19, kernel_size=(2, 2), stride=(1, 1))\n",
            "  (conv5): Conv2d(19, 29, kernel_size=(3, 3), stride=(1, 1))\n",
            "  (fc1): Linear(in_features=4901, out_features=100, bias=True)\n",
            "  (fc2): Linear(in_features=100, out_features=50, bias=True)\n",
            "  (fc3): Linear(in_features=50, out_features=25, bias=True)\n",
            "  (fc4): Linear(in_features=25, out_features=10, bias=True)\n",
            ")\n"
          ]
        }
      ],
      "source": [
        "# 모델객체 생성\n",
        "new_model = CNN_Model5().to(device)\n",
        "\n",
        "print(new_model)"
      ]
    },
    {
      "cell_type": "code",
      "execution_count": 53,
      "metadata": {
        "colab": {
          "base_uri": "https://localhost:8080/"
        },
        "id": "aDvnyPw6D42q",
        "outputId": "1e3ed800-0fa9-4d5c-e8dc-f22415284a55"
      },
      "outputs": [
        {
          "output_type": "stream",
          "name": "stdout",
          "text": [
            "----------------------------------------------------------------\n",
            "        Layer (type)               Output Shape         Param #\n",
            "================================================================\n",
            "            Conv2d-1           [128, 5, 30, 30]              50\n",
            "            Conv2d-2           [128, 7, 15, 15]             322\n",
            "            Conv2d-3          [128, 16, 16, 16]             464\n",
            "            Conv2d-4          [128, 19, 15, 15]           1,235\n",
            "            Conv2d-5          [128, 29, 13, 13]           4,988\n",
            "            Linear-6                 [128, 100]         490,200\n",
            "            Linear-7                  [128, 50]           5,050\n",
            "            Linear-8                  [128, 25]           1,275\n",
            "            Linear-9                  [128, 10]             260\n",
            "================================================================\n",
            "Total params: 503,844\n",
            "Trainable params: 503,844\n",
            "Non-trainable params: 0\n",
            "----------------------------------------------------------------\n",
            "Input size (MB): 0.38\n",
            "Forward/backward pass size (MB): 19.07\n",
            "Params size (MB): 1.92\n",
            "Estimated Total Size (MB): 21.38\n",
            "----------------------------------------------------------------\n"
          ]
        }
      ],
      "source": [
        "summary(new_model, input_size=(1, 28, 28), batch_size=128)"
      ]
    },
    {
      "cell_type": "code",
      "execution_count": 54,
      "metadata": {
        "id": "QmOiVQDLD42q"
      },
      "outputs": [],
      "source": [
        "optimizer = optim.SGD(new_model.parameters(), lr=0.001, momentum=0.9)"
      ]
    },
    {
      "cell_type": "code",
      "execution_count": 55,
      "metadata": {
        "colab": {
          "base_uri": "https://localhost:8080/"
        },
        "id": "eS9fQfeED42q",
        "outputId": "7e0f7b22-2d93-46ea-c702-d18aaf8f24e4"
      },
      "outputs": [
        {
          "output_type": "stream",
          "name": "stdout",
          "text": [
            "Epoch: 1, Iter: 100, Loss: 0.11538441300392151\n",
            "Epoch: 1, Iter: 200, Loss: 0.1153342787027359\n",
            "Epoch: 1, Iter: 300, Loss: 0.1152564753293991\n",
            "Epoch: 1, Iter: 400, Loss: 0.1152109797000885\n",
            "Epoch: 2, Iter: 100, Loss: 0.115178098320961\n",
            "Epoch: 2, Iter: 200, Loss: 0.11517882025241852\n",
            "Epoch: 2, Iter: 300, Loss: 0.11517783176898956\n",
            "Epoch: 2, Iter: 400, Loss: 0.11514985263347625\n",
            "Epoch: 3, Iter: 100, Loss: 0.11513526499271393\n",
            "Epoch: 3, Iter: 200, Loss: 0.11513001024723053\n",
            "Epoch: 3, Iter: 300, Loss: 0.11515358996391296\n",
            "Epoch: 3, Iter: 400, Loss: 0.11513377773761749\n",
            "Epoch: 4, Iter: 100, Loss: 0.11512815070152282\n",
            "Epoch: 4, Iter: 200, Loss: 0.1151261488199234\n",
            "Epoch: 4, Iter: 300, Loss: 0.11513164484500885\n",
            "Epoch: 4, Iter: 400, Loss: 0.11512865841388703\n",
            "Epoch: 5, Iter: 100, Loss: 0.11512389945983886\n",
            "Epoch: 5, Iter: 200, Loss: 0.11512436854839325\n",
            "Epoch: 5, Iter: 300, Loss: 0.11512144255638122\n",
            "Epoch: 5, Iter: 400, Loss: 0.11512687265872955\n",
            "Epoch: 6, Iter: 100, Loss: 0.11512444889545441\n",
            "Epoch: 6, Iter: 200, Loss: 0.11512268054485321\n",
            "Epoch: 6, Iter: 300, Loss: 0.11512183153629303\n",
            "Epoch: 6, Iter: 400, Loss: 0.11512145495414734\n",
            "Epoch: 7, Iter: 100, Loss: 0.11511912667751312\n",
            "Epoch: 7, Iter: 200, Loss: 0.11512001657485962\n",
            "Epoch: 7, Iter: 300, Loss: 0.11512047755718231\n",
            "Epoch: 7, Iter: 400, Loss: 0.11512123608589173\n",
            "Epoch: 8, Iter: 100, Loss: 0.11511822509765625\n",
            "Epoch: 8, Iter: 200, Loss: 0.1151155971288681\n",
            "Epoch: 8, Iter: 300, Loss: 0.11511896049976349\n",
            "Epoch: 8, Iter: 400, Loss: 0.11511607694625854\n",
            "Epoch: 9, Iter: 100, Loss: 0.11511295366287232\n",
            "Epoch: 9, Iter: 200, Loss: 0.11511422383785248\n",
            "Epoch: 9, Iter: 300, Loss: 0.11511420679092407\n",
            "Epoch: 9, Iter: 400, Loss: 0.11511246740818024\n",
            "Epoch: 10, Iter: 100, Loss: 0.11510894763469696\n",
            "Epoch: 10, Iter: 200, Loss: 0.11510738670825958\n",
            "Epoch: 10, Iter: 300, Loss: 0.11510681962966919\n",
            "Epoch: 10, Iter: 400, Loss: 0.11510613811016082\n"
          ]
        }
      ],
      "source": [
        "for epoch in range(10):\n",
        "\n",
        "    running_loss = 0.0\n",
        "\n",
        "    for i, data in enumerate(train_loader128, start=0):\n",
        "        inputs, labels = data[0].to(device), data[1].to(device)\n",
        "\n",
        "        optimizer.zero_grad() # epoch마다 gradient 0으로 초기화\n",
        "\n",
        "        outputs = new_model(inputs) # y_pred = f(X)\n",
        "        loss = criterion(outputs, labels) # CrossEntropyLoss; 0~1 사이값\n",
        "        loss.backward() # back-propagation; gradient 계산\n",
        "        optimizer.step() # parameters(weights) update\n",
        "\n",
        "        running_loss += loss.item() # 그냥 전체적인 비교를 위해 누적함\n",
        "\n",
        "        if i % 100 == 99: # 100번 마다 확인; epoch=10, iter(=i)=469, batch=128\n",
        "            print('Epoch: {}, Iter: {}, Loss: {}'.format(epoch+1, i+1, running_loss/2000))\n",
        "            running_loss = 0.0"
      ]
    },
    {
      "cell_type": "code",
      "execution_count": 56,
      "metadata": {
        "colab": {
          "base_uri": "https://localhost:8080/"
        },
        "id": "X0H3p7PGD42q",
        "outputId": "e58ddc03-2921-4af5-a670-cf3609e1f5a7"
      },
      "outputs": [
        {
          "output_type": "stream",
          "name": "stdout",
          "text": [
            "10.01\n"
          ]
        }
      ],
      "source": [
        "correct = 0\n",
        "total = 0\n",
        "\n",
        "with torch.no_grad():\n",
        "    for data in test_loader128:\n",
        "        images, labels = data[0].to(device), data[1].to(device)\n",
        "        outputs = new_model(images)\n",
        "        _, predicted = torch.max(outputs.data, axis=1)\n",
        "        total += labels.size(0)\n",
        "        correct += (predicted == labels).sum().item()\n",
        "    \n",
        "    print(100 * correct / total)"
      ]
    }
  ],
  "metadata": {
    "accelerator": "GPU",
    "colab": {
      "collapsed_sections": [
        "cdNvme8aKSBP",
        "OHckdZ55KeH2",
        "mCrBa-gRRMEO",
        "EFPYE3UUnpmX",
        "xVxKI_rwCvhI",
        "klpXGc2tCimP",
        "huNh3EnhJLyh",
        "W-2Q7c6-JW9z",
        "FOUBE2UfKS6D",
        "LaVvtEOvKUgJ",
        "jRyyw49jKVhj",
        "5IecfHZiI09W",
        "SZcZQv4PGeYv",
        "V7HoLqroDhyF",
        "_civVcIYBGxA",
        "7Thu9NRyCV7j",
        "kuP_3_DyD42p"
      ],
      "provenance": []
    },
    "gpuClass": "standard",
    "kernelspec": {
      "display_name": "Python 3",
      "name": "python3"
    },
    "widgets": {
      "application/vnd.jupyter.widget-state+json": {
        "00c6a771ddc449d58c8f17a944fc4f05": {
          "model_module": "@jupyter-widgets/controls",
          "model_name": "HBoxModel",
          "model_module_version": "1.5.0",
          "state": {
            "_dom_classes": [],
            "_model_module": "@jupyter-widgets/controls",
            "_model_module_version": "1.5.0",
            "_model_name": "HBoxModel",
            "_view_count": null,
            "_view_module": "@jupyter-widgets/controls",
            "_view_module_version": "1.5.0",
            "_view_name": "HBoxView",
            "box_style": "",
            "children": [
              "IPY_MODEL_341092e7d4294180b2afcc1dcb39aed8",
              "IPY_MODEL_aea4484dd9414406b00ea262851eeb0d",
              "IPY_MODEL_3429b6ea2f7649628c39d842d5f4b1c0"
            ],
            "layout": "IPY_MODEL_cb149e199d0049b3bc0322f6563adf5a"
          }
        },
        "341092e7d4294180b2afcc1dcb39aed8": {
          "model_module": "@jupyter-widgets/controls",
          "model_name": "HTMLModel",
          "model_module_version": "1.5.0",
          "state": {
            "_dom_classes": [],
            "_model_module": "@jupyter-widgets/controls",
            "_model_module_version": "1.5.0",
            "_model_name": "HTMLModel",
            "_view_count": null,
            "_view_module": "@jupyter-widgets/controls",
            "_view_module_version": "1.5.0",
            "_view_name": "HTMLView",
            "description": "",
            "description_tooltip": null,
            "layout": "IPY_MODEL_74fedb600da54d7cbe0c839eb3e2df6f",
            "placeholder": "​",
            "style": "IPY_MODEL_9d043b26c1384b12a6078432b1ba6f67",
            "value": "100%"
          }
        },
        "aea4484dd9414406b00ea262851eeb0d": {
          "model_module": "@jupyter-widgets/controls",
          "model_name": "FloatProgressModel",
          "model_module_version": "1.5.0",
          "state": {
            "_dom_classes": [],
            "_model_module": "@jupyter-widgets/controls",
            "_model_module_version": "1.5.0",
            "_model_name": "FloatProgressModel",
            "_view_count": null,
            "_view_module": "@jupyter-widgets/controls",
            "_view_module_version": "1.5.0",
            "_view_name": "ProgressView",
            "bar_style": "success",
            "description": "",
            "description_tooltip": null,
            "layout": "IPY_MODEL_8df8f7608f2144caa1e973665a0a24e2",
            "max": 26421880,
            "min": 0,
            "orientation": "horizontal",
            "style": "IPY_MODEL_e213646f28094a779364556cd545bf5a",
            "value": 26421880
          }
        },
        "3429b6ea2f7649628c39d842d5f4b1c0": {
          "model_module": "@jupyter-widgets/controls",
          "model_name": "HTMLModel",
          "model_module_version": "1.5.0",
          "state": {
            "_dom_classes": [],
            "_model_module": "@jupyter-widgets/controls",
            "_model_module_version": "1.5.0",
            "_model_name": "HTMLModel",
            "_view_count": null,
            "_view_module": "@jupyter-widgets/controls",
            "_view_module_version": "1.5.0",
            "_view_name": "HTMLView",
            "description": "",
            "description_tooltip": null,
            "layout": "IPY_MODEL_a6a47071f1f549598fdeec4773871aaa",
            "placeholder": "​",
            "style": "IPY_MODEL_52381f5d288c48199958913e3a62bdb3",
            "value": " 26421880/26421880 [00:03&lt;00:00, 13757804.48it/s]"
          }
        },
        "cb149e199d0049b3bc0322f6563adf5a": {
          "model_module": "@jupyter-widgets/base",
          "model_name": "LayoutModel",
          "model_module_version": "1.2.0",
          "state": {
            "_model_module": "@jupyter-widgets/base",
            "_model_module_version": "1.2.0",
            "_model_name": "LayoutModel",
            "_view_count": null,
            "_view_module": "@jupyter-widgets/base",
            "_view_module_version": "1.2.0",
            "_view_name": "LayoutView",
            "align_content": null,
            "align_items": null,
            "align_self": null,
            "border": null,
            "bottom": null,
            "display": null,
            "flex": null,
            "flex_flow": null,
            "grid_area": null,
            "grid_auto_columns": null,
            "grid_auto_flow": null,
            "grid_auto_rows": null,
            "grid_column": null,
            "grid_gap": null,
            "grid_row": null,
            "grid_template_areas": null,
            "grid_template_columns": null,
            "grid_template_rows": null,
            "height": null,
            "justify_content": null,
            "justify_items": null,
            "left": null,
            "margin": null,
            "max_height": null,
            "max_width": null,
            "min_height": null,
            "min_width": null,
            "object_fit": null,
            "object_position": null,
            "order": null,
            "overflow": null,
            "overflow_x": null,
            "overflow_y": null,
            "padding": null,
            "right": null,
            "top": null,
            "visibility": null,
            "width": null
          }
        },
        "74fedb600da54d7cbe0c839eb3e2df6f": {
          "model_module": "@jupyter-widgets/base",
          "model_name": "LayoutModel",
          "model_module_version": "1.2.0",
          "state": {
            "_model_module": "@jupyter-widgets/base",
            "_model_module_version": "1.2.0",
            "_model_name": "LayoutModel",
            "_view_count": null,
            "_view_module": "@jupyter-widgets/base",
            "_view_module_version": "1.2.0",
            "_view_name": "LayoutView",
            "align_content": null,
            "align_items": null,
            "align_self": null,
            "border": null,
            "bottom": null,
            "display": null,
            "flex": null,
            "flex_flow": null,
            "grid_area": null,
            "grid_auto_columns": null,
            "grid_auto_flow": null,
            "grid_auto_rows": null,
            "grid_column": null,
            "grid_gap": null,
            "grid_row": null,
            "grid_template_areas": null,
            "grid_template_columns": null,
            "grid_template_rows": null,
            "height": null,
            "justify_content": null,
            "justify_items": null,
            "left": null,
            "margin": null,
            "max_height": null,
            "max_width": null,
            "min_height": null,
            "min_width": null,
            "object_fit": null,
            "object_position": null,
            "order": null,
            "overflow": null,
            "overflow_x": null,
            "overflow_y": null,
            "padding": null,
            "right": null,
            "top": null,
            "visibility": null,
            "width": null
          }
        },
        "9d043b26c1384b12a6078432b1ba6f67": {
          "model_module": "@jupyter-widgets/controls",
          "model_name": "DescriptionStyleModel",
          "model_module_version": "1.5.0",
          "state": {
            "_model_module": "@jupyter-widgets/controls",
            "_model_module_version": "1.5.0",
            "_model_name": "DescriptionStyleModel",
            "_view_count": null,
            "_view_module": "@jupyter-widgets/base",
            "_view_module_version": "1.2.0",
            "_view_name": "StyleView",
            "description_width": ""
          }
        },
        "8df8f7608f2144caa1e973665a0a24e2": {
          "model_module": "@jupyter-widgets/base",
          "model_name": "LayoutModel",
          "model_module_version": "1.2.0",
          "state": {
            "_model_module": "@jupyter-widgets/base",
            "_model_module_version": "1.2.0",
            "_model_name": "LayoutModel",
            "_view_count": null,
            "_view_module": "@jupyter-widgets/base",
            "_view_module_version": "1.2.0",
            "_view_name": "LayoutView",
            "align_content": null,
            "align_items": null,
            "align_self": null,
            "border": null,
            "bottom": null,
            "display": null,
            "flex": null,
            "flex_flow": null,
            "grid_area": null,
            "grid_auto_columns": null,
            "grid_auto_flow": null,
            "grid_auto_rows": null,
            "grid_column": null,
            "grid_gap": null,
            "grid_row": null,
            "grid_template_areas": null,
            "grid_template_columns": null,
            "grid_template_rows": null,
            "height": null,
            "justify_content": null,
            "justify_items": null,
            "left": null,
            "margin": null,
            "max_height": null,
            "max_width": null,
            "min_height": null,
            "min_width": null,
            "object_fit": null,
            "object_position": null,
            "order": null,
            "overflow": null,
            "overflow_x": null,
            "overflow_y": null,
            "padding": null,
            "right": null,
            "top": null,
            "visibility": null,
            "width": null
          }
        },
        "e213646f28094a779364556cd545bf5a": {
          "model_module": "@jupyter-widgets/controls",
          "model_name": "ProgressStyleModel",
          "model_module_version": "1.5.0",
          "state": {
            "_model_module": "@jupyter-widgets/controls",
            "_model_module_version": "1.5.0",
            "_model_name": "ProgressStyleModel",
            "_view_count": null,
            "_view_module": "@jupyter-widgets/base",
            "_view_module_version": "1.2.0",
            "_view_name": "StyleView",
            "bar_color": null,
            "description_width": ""
          }
        },
        "a6a47071f1f549598fdeec4773871aaa": {
          "model_module": "@jupyter-widgets/base",
          "model_name": "LayoutModel",
          "model_module_version": "1.2.0",
          "state": {
            "_model_module": "@jupyter-widgets/base",
            "_model_module_version": "1.2.0",
            "_model_name": "LayoutModel",
            "_view_count": null,
            "_view_module": "@jupyter-widgets/base",
            "_view_module_version": "1.2.0",
            "_view_name": "LayoutView",
            "align_content": null,
            "align_items": null,
            "align_self": null,
            "border": null,
            "bottom": null,
            "display": null,
            "flex": null,
            "flex_flow": null,
            "grid_area": null,
            "grid_auto_columns": null,
            "grid_auto_flow": null,
            "grid_auto_rows": null,
            "grid_column": null,
            "grid_gap": null,
            "grid_row": null,
            "grid_template_areas": null,
            "grid_template_columns": null,
            "grid_template_rows": null,
            "height": null,
            "justify_content": null,
            "justify_items": null,
            "left": null,
            "margin": null,
            "max_height": null,
            "max_width": null,
            "min_height": null,
            "min_width": null,
            "object_fit": null,
            "object_position": null,
            "order": null,
            "overflow": null,
            "overflow_x": null,
            "overflow_y": null,
            "padding": null,
            "right": null,
            "top": null,
            "visibility": null,
            "width": null
          }
        },
        "52381f5d288c48199958913e3a62bdb3": {
          "model_module": "@jupyter-widgets/controls",
          "model_name": "DescriptionStyleModel",
          "model_module_version": "1.5.0",
          "state": {
            "_model_module": "@jupyter-widgets/controls",
            "_model_module_version": "1.5.0",
            "_model_name": "DescriptionStyleModel",
            "_view_count": null,
            "_view_module": "@jupyter-widgets/base",
            "_view_module_version": "1.2.0",
            "_view_name": "StyleView",
            "description_width": ""
          }
        },
        "6b16b61cddce41709ef552a4de532fe3": {
          "model_module": "@jupyter-widgets/controls",
          "model_name": "HBoxModel",
          "model_module_version": "1.5.0",
          "state": {
            "_dom_classes": [],
            "_model_module": "@jupyter-widgets/controls",
            "_model_module_version": "1.5.0",
            "_model_name": "HBoxModel",
            "_view_count": null,
            "_view_module": "@jupyter-widgets/controls",
            "_view_module_version": "1.5.0",
            "_view_name": "HBoxView",
            "box_style": "",
            "children": [
              "IPY_MODEL_bcafa1e224f94a9e8abeeede73b2f4d1",
              "IPY_MODEL_9f2d195a14d54b319a7d0fbb154a3af0",
              "IPY_MODEL_9b12d92c9fb4416cb94794a9fd3da819"
            ],
            "layout": "IPY_MODEL_80da8c1016a0488ebc5530afbbc6b231"
          }
        },
        "bcafa1e224f94a9e8abeeede73b2f4d1": {
          "model_module": "@jupyter-widgets/controls",
          "model_name": "HTMLModel",
          "model_module_version": "1.5.0",
          "state": {
            "_dom_classes": [],
            "_model_module": "@jupyter-widgets/controls",
            "_model_module_version": "1.5.0",
            "_model_name": "HTMLModel",
            "_view_count": null,
            "_view_module": "@jupyter-widgets/controls",
            "_view_module_version": "1.5.0",
            "_view_name": "HTMLView",
            "description": "",
            "description_tooltip": null,
            "layout": "IPY_MODEL_699d8be5029042068123373653bea59f",
            "placeholder": "​",
            "style": "IPY_MODEL_bbaf051ca76a4ea680e35bc0209261f7",
            "value": "100%"
          }
        },
        "9f2d195a14d54b319a7d0fbb154a3af0": {
          "model_module": "@jupyter-widgets/controls",
          "model_name": "FloatProgressModel",
          "model_module_version": "1.5.0",
          "state": {
            "_dom_classes": [],
            "_model_module": "@jupyter-widgets/controls",
            "_model_module_version": "1.5.0",
            "_model_name": "FloatProgressModel",
            "_view_count": null,
            "_view_module": "@jupyter-widgets/controls",
            "_view_module_version": "1.5.0",
            "_view_name": "ProgressView",
            "bar_style": "success",
            "description": "",
            "description_tooltip": null,
            "layout": "IPY_MODEL_2c3a22855dd44f5482913727aa47e83d",
            "max": 29515,
            "min": 0,
            "orientation": "horizontal",
            "style": "IPY_MODEL_6188a13e141c4587a9c49bbffc3df55b",
            "value": 29515
          }
        },
        "9b12d92c9fb4416cb94794a9fd3da819": {
          "model_module": "@jupyter-widgets/controls",
          "model_name": "HTMLModel",
          "model_module_version": "1.5.0",
          "state": {
            "_dom_classes": [],
            "_model_module": "@jupyter-widgets/controls",
            "_model_module_version": "1.5.0",
            "_model_name": "HTMLModel",
            "_view_count": null,
            "_view_module": "@jupyter-widgets/controls",
            "_view_module_version": "1.5.0",
            "_view_name": "HTMLView",
            "description": "",
            "description_tooltip": null,
            "layout": "IPY_MODEL_9d3a6cb8a1314abba5591956309713fe",
            "placeholder": "​",
            "style": "IPY_MODEL_7f84db82b96d49b993c081ab8bde4cc7",
            "value": " 29515/29515 [00:00&lt;00:00, 145422.05it/s]"
          }
        },
        "80da8c1016a0488ebc5530afbbc6b231": {
          "model_module": "@jupyter-widgets/base",
          "model_name": "LayoutModel",
          "model_module_version": "1.2.0",
          "state": {
            "_model_module": "@jupyter-widgets/base",
            "_model_module_version": "1.2.0",
            "_model_name": "LayoutModel",
            "_view_count": null,
            "_view_module": "@jupyter-widgets/base",
            "_view_module_version": "1.2.0",
            "_view_name": "LayoutView",
            "align_content": null,
            "align_items": null,
            "align_self": null,
            "border": null,
            "bottom": null,
            "display": null,
            "flex": null,
            "flex_flow": null,
            "grid_area": null,
            "grid_auto_columns": null,
            "grid_auto_flow": null,
            "grid_auto_rows": null,
            "grid_column": null,
            "grid_gap": null,
            "grid_row": null,
            "grid_template_areas": null,
            "grid_template_columns": null,
            "grid_template_rows": null,
            "height": null,
            "justify_content": null,
            "justify_items": null,
            "left": null,
            "margin": null,
            "max_height": null,
            "max_width": null,
            "min_height": null,
            "min_width": null,
            "object_fit": null,
            "object_position": null,
            "order": null,
            "overflow": null,
            "overflow_x": null,
            "overflow_y": null,
            "padding": null,
            "right": null,
            "top": null,
            "visibility": null,
            "width": null
          }
        },
        "699d8be5029042068123373653bea59f": {
          "model_module": "@jupyter-widgets/base",
          "model_name": "LayoutModel",
          "model_module_version": "1.2.0",
          "state": {
            "_model_module": "@jupyter-widgets/base",
            "_model_module_version": "1.2.0",
            "_model_name": "LayoutModel",
            "_view_count": null,
            "_view_module": "@jupyter-widgets/base",
            "_view_module_version": "1.2.0",
            "_view_name": "LayoutView",
            "align_content": null,
            "align_items": null,
            "align_self": null,
            "border": null,
            "bottom": null,
            "display": null,
            "flex": null,
            "flex_flow": null,
            "grid_area": null,
            "grid_auto_columns": null,
            "grid_auto_flow": null,
            "grid_auto_rows": null,
            "grid_column": null,
            "grid_gap": null,
            "grid_row": null,
            "grid_template_areas": null,
            "grid_template_columns": null,
            "grid_template_rows": null,
            "height": null,
            "justify_content": null,
            "justify_items": null,
            "left": null,
            "margin": null,
            "max_height": null,
            "max_width": null,
            "min_height": null,
            "min_width": null,
            "object_fit": null,
            "object_position": null,
            "order": null,
            "overflow": null,
            "overflow_x": null,
            "overflow_y": null,
            "padding": null,
            "right": null,
            "top": null,
            "visibility": null,
            "width": null
          }
        },
        "bbaf051ca76a4ea680e35bc0209261f7": {
          "model_module": "@jupyter-widgets/controls",
          "model_name": "DescriptionStyleModel",
          "model_module_version": "1.5.0",
          "state": {
            "_model_module": "@jupyter-widgets/controls",
            "_model_module_version": "1.5.0",
            "_model_name": "DescriptionStyleModel",
            "_view_count": null,
            "_view_module": "@jupyter-widgets/base",
            "_view_module_version": "1.2.0",
            "_view_name": "StyleView",
            "description_width": ""
          }
        },
        "2c3a22855dd44f5482913727aa47e83d": {
          "model_module": "@jupyter-widgets/base",
          "model_name": "LayoutModel",
          "model_module_version": "1.2.0",
          "state": {
            "_model_module": "@jupyter-widgets/base",
            "_model_module_version": "1.2.0",
            "_model_name": "LayoutModel",
            "_view_count": null,
            "_view_module": "@jupyter-widgets/base",
            "_view_module_version": "1.2.0",
            "_view_name": "LayoutView",
            "align_content": null,
            "align_items": null,
            "align_self": null,
            "border": null,
            "bottom": null,
            "display": null,
            "flex": null,
            "flex_flow": null,
            "grid_area": null,
            "grid_auto_columns": null,
            "grid_auto_flow": null,
            "grid_auto_rows": null,
            "grid_column": null,
            "grid_gap": null,
            "grid_row": null,
            "grid_template_areas": null,
            "grid_template_columns": null,
            "grid_template_rows": null,
            "height": null,
            "justify_content": null,
            "justify_items": null,
            "left": null,
            "margin": null,
            "max_height": null,
            "max_width": null,
            "min_height": null,
            "min_width": null,
            "object_fit": null,
            "object_position": null,
            "order": null,
            "overflow": null,
            "overflow_x": null,
            "overflow_y": null,
            "padding": null,
            "right": null,
            "top": null,
            "visibility": null,
            "width": null
          }
        },
        "6188a13e141c4587a9c49bbffc3df55b": {
          "model_module": "@jupyter-widgets/controls",
          "model_name": "ProgressStyleModel",
          "model_module_version": "1.5.0",
          "state": {
            "_model_module": "@jupyter-widgets/controls",
            "_model_module_version": "1.5.0",
            "_model_name": "ProgressStyleModel",
            "_view_count": null,
            "_view_module": "@jupyter-widgets/base",
            "_view_module_version": "1.2.0",
            "_view_name": "StyleView",
            "bar_color": null,
            "description_width": ""
          }
        },
        "9d3a6cb8a1314abba5591956309713fe": {
          "model_module": "@jupyter-widgets/base",
          "model_name": "LayoutModel",
          "model_module_version": "1.2.0",
          "state": {
            "_model_module": "@jupyter-widgets/base",
            "_model_module_version": "1.2.0",
            "_model_name": "LayoutModel",
            "_view_count": null,
            "_view_module": "@jupyter-widgets/base",
            "_view_module_version": "1.2.0",
            "_view_name": "LayoutView",
            "align_content": null,
            "align_items": null,
            "align_self": null,
            "border": null,
            "bottom": null,
            "display": null,
            "flex": null,
            "flex_flow": null,
            "grid_area": null,
            "grid_auto_columns": null,
            "grid_auto_flow": null,
            "grid_auto_rows": null,
            "grid_column": null,
            "grid_gap": null,
            "grid_row": null,
            "grid_template_areas": null,
            "grid_template_columns": null,
            "grid_template_rows": null,
            "height": null,
            "justify_content": null,
            "justify_items": null,
            "left": null,
            "margin": null,
            "max_height": null,
            "max_width": null,
            "min_height": null,
            "min_width": null,
            "object_fit": null,
            "object_position": null,
            "order": null,
            "overflow": null,
            "overflow_x": null,
            "overflow_y": null,
            "padding": null,
            "right": null,
            "top": null,
            "visibility": null,
            "width": null
          }
        },
        "7f84db82b96d49b993c081ab8bde4cc7": {
          "model_module": "@jupyter-widgets/controls",
          "model_name": "DescriptionStyleModel",
          "model_module_version": "1.5.0",
          "state": {
            "_model_module": "@jupyter-widgets/controls",
            "_model_module_version": "1.5.0",
            "_model_name": "DescriptionStyleModel",
            "_view_count": null,
            "_view_module": "@jupyter-widgets/base",
            "_view_module_version": "1.2.0",
            "_view_name": "StyleView",
            "description_width": ""
          }
        },
        "b80a58fd88864b06a923ae54b3857b74": {
          "model_module": "@jupyter-widgets/controls",
          "model_name": "HBoxModel",
          "model_module_version": "1.5.0",
          "state": {
            "_dom_classes": [],
            "_model_module": "@jupyter-widgets/controls",
            "_model_module_version": "1.5.0",
            "_model_name": "HBoxModel",
            "_view_count": null,
            "_view_module": "@jupyter-widgets/controls",
            "_view_module_version": "1.5.0",
            "_view_name": "HBoxView",
            "box_style": "",
            "children": [
              "IPY_MODEL_e7d902569ee74c3face5a68335423127",
              "IPY_MODEL_e7f8506a1d1f42cdb41f0435c6598cac",
              "IPY_MODEL_b9d589c60bf5487c906af06cbde88250"
            ],
            "layout": "IPY_MODEL_c591d9cb9c294206a054397098a8c3f3"
          }
        },
        "e7d902569ee74c3face5a68335423127": {
          "model_module": "@jupyter-widgets/controls",
          "model_name": "HTMLModel",
          "model_module_version": "1.5.0",
          "state": {
            "_dom_classes": [],
            "_model_module": "@jupyter-widgets/controls",
            "_model_module_version": "1.5.0",
            "_model_name": "HTMLModel",
            "_view_count": null,
            "_view_module": "@jupyter-widgets/controls",
            "_view_module_version": "1.5.0",
            "_view_name": "HTMLView",
            "description": "",
            "description_tooltip": null,
            "layout": "IPY_MODEL_9bbd09580d0a43b6b411027abb57e71d",
            "placeholder": "​",
            "style": "IPY_MODEL_cd81a8564e8148c79d9d9902d225f011",
            "value": "100%"
          }
        },
        "e7f8506a1d1f42cdb41f0435c6598cac": {
          "model_module": "@jupyter-widgets/controls",
          "model_name": "FloatProgressModel",
          "model_module_version": "1.5.0",
          "state": {
            "_dom_classes": [],
            "_model_module": "@jupyter-widgets/controls",
            "_model_module_version": "1.5.0",
            "_model_name": "FloatProgressModel",
            "_view_count": null,
            "_view_module": "@jupyter-widgets/controls",
            "_view_module_version": "1.5.0",
            "_view_name": "ProgressView",
            "bar_style": "success",
            "description": "",
            "description_tooltip": null,
            "layout": "IPY_MODEL_41127c72907745a39a53d657c295fe1a",
            "max": 4422102,
            "min": 0,
            "orientation": "horizontal",
            "style": "IPY_MODEL_23c2123178634ccbab18a584bc2b9480",
            "value": 4422102
          }
        },
        "b9d589c60bf5487c906af06cbde88250": {
          "model_module": "@jupyter-widgets/controls",
          "model_name": "HTMLModel",
          "model_module_version": "1.5.0",
          "state": {
            "_dom_classes": [],
            "_model_module": "@jupyter-widgets/controls",
            "_model_module_version": "1.5.0",
            "_model_name": "HTMLModel",
            "_view_count": null,
            "_view_module": "@jupyter-widgets/controls",
            "_view_module_version": "1.5.0",
            "_view_name": "HTMLView",
            "description": "",
            "description_tooltip": null,
            "layout": "IPY_MODEL_90d076a89a2246e68483afaa6916b0c1",
            "placeholder": "​",
            "style": "IPY_MODEL_c0af96cf809e4e9e9eda3b199d1f2d0b",
            "value": " 4422102/4422102 [00:01&lt;00:00, 4579614.24it/s]"
          }
        },
        "c591d9cb9c294206a054397098a8c3f3": {
          "model_module": "@jupyter-widgets/base",
          "model_name": "LayoutModel",
          "model_module_version": "1.2.0",
          "state": {
            "_model_module": "@jupyter-widgets/base",
            "_model_module_version": "1.2.0",
            "_model_name": "LayoutModel",
            "_view_count": null,
            "_view_module": "@jupyter-widgets/base",
            "_view_module_version": "1.2.0",
            "_view_name": "LayoutView",
            "align_content": null,
            "align_items": null,
            "align_self": null,
            "border": null,
            "bottom": null,
            "display": null,
            "flex": null,
            "flex_flow": null,
            "grid_area": null,
            "grid_auto_columns": null,
            "grid_auto_flow": null,
            "grid_auto_rows": null,
            "grid_column": null,
            "grid_gap": null,
            "grid_row": null,
            "grid_template_areas": null,
            "grid_template_columns": null,
            "grid_template_rows": null,
            "height": null,
            "justify_content": null,
            "justify_items": null,
            "left": null,
            "margin": null,
            "max_height": null,
            "max_width": null,
            "min_height": null,
            "min_width": null,
            "object_fit": null,
            "object_position": null,
            "order": null,
            "overflow": null,
            "overflow_x": null,
            "overflow_y": null,
            "padding": null,
            "right": null,
            "top": null,
            "visibility": null,
            "width": null
          }
        },
        "9bbd09580d0a43b6b411027abb57e71d": {
          "model_module": "@jupyter-widgets/base",
          "model_name": "LayoutModel",
          "model_module_version": "1.2.0",
          "state": {
            "_model_module": "@jupyter-widgets/base",
            "_model_module_version": "1.2.0",
            "_model_name": "LayoutModel",
            "_view_count": null,
            "_view_module": "@jupyter-widgets/base",
            "_view_module_version": "1.2.0",
            "_view_name": "LayoutView",
            "align_content": null,
            "align_items": null,
            "align_self": null,
            "border": null,
            "bottom": null,
            "display": null,
            "flex": null,
            "flex_flow": null,
            "grid_area": null,
            "grid_auto_columns": null,
            "grid_auto_flow": null,
            "grid_auto_rows": null,
            "grid_column": null,
            "grid_gap": null,
            "grid_row": null,
            "grid_template_areas": null,
            "grid_template_columns": null,
            "grid_template_rows": null,
            "height": null,
            "justify_content": null,
            "justify_items": null,
            "left": null,
            "margin": null,
            "max_height": null,
            "max_width": null,
            "min_height": null,
            "min_width": null,
            "object_fit": null,
            "object_position": null,
            "order": null,
            "overflow": null,
            "overflow_x": null,
            "overflow_y": null,
            "padding": null,
            "right": null,
            "top": null,
            "visibility": null,
            "width": null
          }
        },
        "cd81a8564e8148c79d9d9902d225f011": {
          "model_module": "@jupyter-widgets/controls",
          "model_name": "DescriptionStyleModel",
          "model_module_version": "1.5.0",
          "state": {
            "_model_module": "@jupyter-widgets/controls",
            "_model_module_version": "1.5.0",
            "_model_name": "DescriptionStyleModel",
            "_view_count": null,
            "_view_module": "@jupyter-widgets/base",
            "_view_module_version": "1.2.0",
            "_view_name": "StyleView",
            "description_width": ""
          }
        },
        "41127c72907745a39a53d657c295fe1a": {
          "model_module": "@jupyter-widgets/base",
          "model_name": "LayoutModel",
          "model_module_version": "1.2.0",
          "state": {
            "_model_module": "@jupyter-widgets/base",
            "_model_module_version": "1.2.0",
            "_model_name": "LayoutModel",
            "_view_count": null,
            "_view_module": "@jupyter-widgets/base",
            "_view_module_version": "1.2.0",
            "_view_name": "LayoutView",
            "align_content": null,
            "align_items": null,
            "align_self": null,
            "border": null,
            "bottom": null,
            "display": null,
            "flex": null,
            "flex_flow": null,
            "grid_area": null,
            "grid_auto_columns": null,
            "grid_auto_flow": null,
            "grid_auto_rows": null,
            "grid_column": null,
            "grid_gap": null,
            "grid_row": null,
            "grid_template_areas": null,
            "grid_template_columns": null,
            "grid_template_rows": null,
            "height": null,
            "justify_content": null,
            "justify_items": null,
            "left": null,
            "margin": null,
            "max_height": null,
            "max_width": null,
            "min_height": null,
            "min_width": null,
            "object_fit": null,
            "object_position": null,
            "order": null,
            "overflow": null,
            "overflow_x": null,
            "overflow_y": null,
            "padding": null,
            "right": null,
            "top": null,
            "visibility": null,
            "width": null
          }
        },
        "23c2123178634ccbab18a584bc2b9480": {
          "model_module": "@jupyter-widgets/controls",
          "model_name": "ProgressStyleModel",
          "model_module_version": "1.5.0",
          "state": {
            "_model_module": "@jupyter-widgets/controls",
            "_model_module_version": "1.5.0",
            "_model_name": "ProgressStyleModel",
            "_view_count": null,
            "_view_module": "@jupyter-widgets/base",
            "_view_module_version": "1.2.0",
            "_view_name": "StyleView",
            "bar_color": null,
            "description_width": ""
          }
        },
        "90d076a89a2246e68483afaa6916b0c1": {
          "model_module": "@jupyter-widgets/base",
          "model_name": "LayoutModel",
          "model_module_version": "1.2.0",
          "state": {
            "_model_module": "@jupyter-widgets/base",
            "_model_module_version": "1.2.0",
            "_model_name": "LayoutModel",
            "_view_count": null,
            "_view_module": "@jupyter-widgets/base",
            "_view_module_version": "1.2.0",
            "_view_name": "LayoutView",
            "align_content": null,
            "align_items": null,
            "align_self": null,
            "border": null,
            "bottom": null,
            "display": null,
            "flex": null,
            "flex_flow": null,
            "grid_area": null,
            "grid_auto_columns": null,
            "grid_auto_flow": null,
            "grid_auto_rows": null,
            "grid_column": null,
            "grid_gap": null,
            "grid_row": null,
            "grid_template_areas": null,
            "grid_template_columns": null,
            "grid_template_rows": null,
            "height": null,
            "justify_content": null,
            "justify_items": null,
            "left": null,
            "margin": null,
            "max_height": null,
            "max_width": null,
            "min_height": null,
            "min_width": null,
            "object_fit": null,
            "object_position": null,
            "order": null,
            "overflow": null,
            "overflow_x": null,
            "overflow_y": null,
            "padding": null,
            "right": null,
            "top": null,
            "visibility": null,
            "width": null
          }
        },
        "c0af96cf809e4e9e9eda3b199d1f2d0b": {
          "model_module": "@jupyter-widgets/controls",
          "model_name": "DescriptionStyleModel",
          "model_module_version": "1.5.0",
          "state": {
            "_model_module": "@jupyter-widgets/controls",
            "_model_module_version": "1.5.0",
            "_model_name": "DescriptionStyleModel",
            "_view_count": null,
            "_view_module": "@jupyter-widgets/base",
            "_view_module_version": "1.2.0",
            "_view_name": "StyleView",
            "description_width": ""
          }
        },
        "a77ec53e6931472aa5daba2897f8b87d": {
          "model_module": "@jupyter-widgets/controls",
          "model_name": "HBoxModel",
          "model_module_version": "1.5.0",
          "state": {
            "_dom_classes": [],
            "_model_module": "@jupyter-widgets/controls",
            "_model_module_version": "1.5.0",
            "_model_name": "HBoxModel",
            "_view_count": null,
            "_view_module": "@jupyter-widgets/controls",
            "_view_module_version": "1.5.0",
            "_view_name": "HBoxView",
            "box_style": "",
            "children": [
              "IPY_MODEL_9564e7638e8447658f33d11e77caaf99",
              "IPY_MODEL_303765be673a49cd99cf16e342ada832",
              "IPY_MODEL_a34441a3381e40b98e4b70d1b13a90cf"
            ],
            "layout": "IPY_MODEL_44c4a0c1076247818b374ac41b1a82d6"
          }
        },
        "9564e7638e8447658f33d11e77caaf99": {
          "model_module": "@jupyter-widgets/controls",
          "model_name": "HTMLModel",
          "model_module_version": "1.5.0",
          "state": {
            "_dom_classes": [],
            "_model_module": "@jupyter-widgets/controls",
            "_model_module_version": "1.5.0",
            "_model_name": "HTMLModel",
            "_view_count": null,
            "_view_module": "@jupyter-widgets/controls",
            "_view_module_version": "1.5.0",
            "_view_name": "HTMLView",
            "description": "",
            "description_tooltip": null,
            "layout": "IPY_MODEL_3e16eb80d01840a29bffae69eb4043b6",
            "placeholder": "​",
            "style": "IPY_MODEL_f1495ab6cfcf4f22a7e4476b539af6e2",
            "value": "100%"
          }
        },
        "303765be673a49cd99cf16e342ada832": {
          "model_module": "@jupyter-widgets/controls",
          "model_name": "FloatProgressModel",
          "model_module_version": "1.5.0",
          "state": {
            "_dom_classes": [],
            "_model_module": "@jupyter-widgets/controls",
            "_model_module_version": "1.5.0",
            "_model_name": "FloatProgressModel",
            "_view_count": null,
            "_view_module": "@jupyter-widgets/controls",
            "_view_module_version": "1.5.0",
            "_view_name": "ProgressView",
            "bar_style": "success",
            "description": "",
            "description_tooltip": null,
            "layout": "IPY_MODEL_2dc9caccf51f4c79b53ed82ce5af41ce",
            "max": 5148,
            "min": 0,
            "orientation": "horizontal",
            "style": "IPY_MODEL_f5a71b1118954d86b0ea643dae3a6941",
            "value": 5148
          }
        },
        "a34441a3381e40b98e4b70d1b13a90cf": {
          "model_module": "@jupyter-widgets/controls",
          "model_name": "HTMLModel",
          "model_module_version": "1.5.0",
          "state": {
            "_dom_classes": [],
            "_model_module": "@jupyter-widgets/controls",
            "_model_module_version": "1.5.0",
            "_model_name": "HTMLModel",
            "_view_count": null,
            "_view_module": "@jupyter-widgets/controls",
            "_view_module_version": "1.5.0",
            "_view_name": "HTMLView",
            "description": "",
            "description_tooltip": null,
            "layout": "IPY_MODEL_9920f6dfaeba4dc09e326e647bff3fe4",
            "placeholder": "​",
            "style": "IPY_MODEL_b71b097b89f24eeca1bec7b1d4471122",
            "value": " 5148/5148 [00:00&lt;00:00, 96454.81it/s]"
          }
        },
        "44c4a0c1076247818b374ac41b1a82d6": {
          "model_module": "@jupyter-widgets/base",
          "model_name": "LayoutModel",
          "model_module_version": "1.2.0",
          "state": {
            "_model_module": "@jupyter-widgets/base",
            "_model_module_version": "1.2.0",
            "_model_name": "LayoutModel",
            "_view_count": null,
            "_view_module": "@jupyter-widgets/base",
            "_view_module_version": "1.2.0",
            "_view_name": "LayoutView",
            "align_content": null,
            "align_items": null,
            "align_self": null,
            "border": null,
            "bottom": null,
            "display": null,
            "flex": null,
            "flex_flow": null,
            "grid_area": null,
            "grid_auto_columns": null,
            "grid_auto_flow": null,
            "grid_auto_rows": null,
            "grid_column": null,
            "grid_gap": null,
            "grid_row": null,
            "grid_template_areas": null,
            "grid_template_columns": null,
            "grid_template_rows": null,
            "height": null,
            "justify_content": null,
            "justify_items": null,
            "left": null,
            "margin": null,
            "max_height": null,
            "max_width": null,
            "min_height": null,
            "min_width": null,
            "object_fit": null,
            "object_position": null,
            "order": null,
            "overflow": null,
            "overflow_x": null,
            "overflow_y": null,
            "padding": null,
            "right": null,
            "top": null,
            "visibility": null,
            "width": null
          }
        },
        "3e16eb80d01840a29bffae69eb4043b6": {
          "model_module": "@jupyter-widgets/base",
          "model_name": "LayoutModel",
          "model_module_version": "1.2.0",
          "state": {
            "_model_module": "@jupyter-widgets/base",
            "_model_module_version": "1.2.0",
            "_model_name": "LayoutModel",
            "_view_count": null,
            "_view_module": "@jupyter-widgets/base",
            "_view_module_version": "1.2.0",
            "_view_name": "LayoutView",
            "align_content": null,
            "align_items": null,
            "align_self": null,
            "border": null,
            "bottom": null,
            "display": null,
            "flex": null,
            "flex_flow": null,
            "grid_area": null,
            "grid_auto_columns": null,
            "grid_auto_flow": null,
            "grid_auto_rows": null,
            "grid_column": null,
            "grid_gap": null,
            "grid_row": null,
            "grid_template_areas": null,
            "grid_template_columns": null,
            "grid_template_rows": null,
            "height": null,
            "justify_content": null,
            "justify_items": null,
            "left": null,
            "margin": null,
            "max_height": null,
            "max_width": null,
            "min_height": null,
            "min_width": null,
            "object_fit": null,
            "object_position": null,
            "order": null,
            "overflow": null,
            "overflow_x": null,
            "overflow_y": null,
            "padding": null,
            "right": null,
            "top": null,
            "visibility": null,
            "width": null
          }
        },
        "f1495ab6cfcf4f22a7e4476b539af6e2": {
          "model_module": "@jupyter-widgets/controls",
          "model_name": "DescriptionStyleModel",
          "model_module_version": "1.5.0",
          "state": {
            "_model_module": "@jupyter-widgets/controls",
            "_model_module_version": "1.5.0",
            "_model_name": "DescriptionStyleModel",
            "_view_count": null,
            "_view_module": "@jupyter-widgets/base",
            "_view_module_version": "1.2.0",
            "_view_name": "StyleView",
            "description_width": ""
          }
        },
        "2dc9caccf51f4c79b53ed82ce5af41ce": {
          "model_module": "@jupyter-widgets/base",
          "model_name": "LayoutModel",
          "model_module_version": "1.2.0",
          "state": {
            "_model_module": "@jupyter-widgets/base",
            "_model_module_version": "1.2.0",
            "_model_name": "LayoutModel",
            "_view_count": null,
            "_view_module": "@jupyter-widgets/base",
            "_view_module_version": "1.2.0",
            "_view_name": "LayoutView",
            "align_content": null,
            "align_items": null,
            "align_self": null,
            "border": null,
            "bottom": null,
            "display": null,
            "flex": null,
            "flex_flow": null,
            "grid_area": null,
            "grid_auto_columns": null,
            "grid_auto_flow": null,
            "grid_auto_rows": null,
            "grid_column": null,
            "grid_gap": null,
            "grid_row": null,
            "grid_template_areas": null,
            "grid_template_columns": null,
            "grid_template_rows": null,
            "height": null,
            "justify_content": null,
            "justify_items": null,
            "left": null,
            "margin": null,
            "max_height": null,
            "max_width": null,
            "min_height": null,
            "min_width": null,
            "object_fit": null,
            "object_position": null,
            "order": null,
            "overflow": null,
            "overflow_x": null,
            "overflow_y": null,
            "padding": null,
            "right": null,
            "top": null,
            "visibility": null,
            "width": null
          }
        },
        "f5a71b1118954d86b0ea643dae3a6941": {
          "model_module": "@jupyter-widgets/controls",
          "model_name": "ProgressStyleModel",
          "model_module_version": "1.5.0",
          "state": {
            "_model_module": "@jupyter-widgets/controls",
            "_model_module_version": "1.5.0",
            "_model_name": "ProgressStyleModel",
            "_view_count": null,
            "_view_module": "@jupyter-widgets/base",
            "_view_module_version": "1.2.0",
            "_view_name": "StyleView",
            "bar_color": null,
            "description_width": ""
          }
        },
        "9920f6dfaeba4dc09e326e647bff3fe4": {
          "model_module": "@jupyter-widgets/base",
          "model_name": "LayoutModel",
          "model_module_version": "1.2.0",
          "state": {
            "_model_module": "@jupyter-widgets/base",
            "_model_module_version": "1.2.0",
            "_model_name": "LayoutModel",
            "_view_count": null,
            "_view_module": "@jupyter-widgets/base",
            "_view_module_version": "1.2.0",
            "_view_name": "LayoutView",
            "align_content": null,
            "align_items": null,
            "align_self": null,
            "border": null,
            "bottom": null,
            "display": null,
            "flex": null,
            "flex_flow": null,
            "grid_area": null,
            "grid_auto_columns": null,
            "grid_auto_flow": null,
            "grid_auto_rows": null,
            "grid_column": null,
            "grid_gap": null,
            "grid_row": null,
            "grid_template_areas": null,
            "grid_template_columns": null,
            "grid_template_rows": null,
            "height": null,
            "justify_content": null,
            "justify_items": null,
            "left": null,
            "margin": null,
            "max_height": null,
            "max_width": null,
            "min_height": null,
            "min_width": null,
            "object_fit": null,
            "object_position": null,
            "order": null,
            "overflow": null,
            "overflow_x": null,
            "overflow_y": null,
            "padding": null,
            "right": null,
            "top": null,
            "visibility": null,
            "width": null
          }
        },
        "b71b097b89f24eeca1bec7b1d4471122": {
          "model_module": "@jupyter-widgets/controls",
          "model_name": "DescriptionStyleModel",
          "model_module_version": "1.5.0",
          "state": {
            "_model_module": "@jupyter-widgets/controls",
            "_model_module_version": "1.5.0",
            "_model_name": "DescriptionStyleModel",
            "_view_count": null,
            "_view_module": "@jupyter-widgets/base",
            "_view_module_version": "1.2.0",
            "_view_name": "StyleView",
            "description_width": ""
          }
        }
      }
    }
  },
  "nbformat": 4,
  "nbformat_minor": 0
}