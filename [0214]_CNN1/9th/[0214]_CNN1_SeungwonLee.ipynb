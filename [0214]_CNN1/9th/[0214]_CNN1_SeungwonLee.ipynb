{
  "nbformat": 4,
  "nbformat_minor": 0,
  "metadata": {
    "colab": {
      "provenance": [],
      "collapsed_sections": [
        "xVxKI_rwCvhI",
        "klpXGc2tCimP",
        "huNh3EnhJLyh",
        "W-2Q7c6-JW9z",
        "FOUBE2UfKS6D",
        "LaVvtEOvKUgJ",
        "jRyyw49jKVhj",
        "5IecfHZiI09W",
        "V7HoLqroDhyF",
        "_civVcIYBGxA",
        "7Thu9NRyCV7j",
        "kuP_3_DyD42p"
      ]
    },
    "kernelspec": {
      "name": "python3",
      "display_name": "Python 3"
    },
    "accelerator": "GPU",
    "gpuClass": "standard",
    "widgets": {
      "application/vnd.jupyter.widget-state+json": {
        "ceaa66b57b764ee4b9df631a63a2c991": {
          "model_module": "@jupyter-widgets/controls",
          "model_name": "HBoxModel",
          "model_module_version": "1.5.0",
          "state": {
            "_dom_classes": [],
            "_model_module": "@jupyter-widgets/controls",
            "_model_module_version": "1.5.0",
            "_model_name": "HBoxModel",
            "_view_count": null,
            "_view_module": "@jupyter-widgets/controls",
            "_view_module_version": "1.5.0",
            "_view_name": "HBoxView",
            "box_style": "",
            "children": [
              "IPY_MODEL_88ed5dce889b4a57b1f316bb3e87e8a3",
              "IPY_MODEL_7c81cfa5ee3743cd99d09362fcd5df43",
              "IPY_MODEL_ee1a3b3df70241bdb13e9f87c120fa85"
            ],
            "layout": "IPY_MODEL_9c5910d3c9de460181262a8c3294962c"
          }
        },
        "88ed5dce889b4a57b1f316bb3e87e8a3": {
          "model_module": "@jupyter-widgets/controls",
          "model_name": "HTMLModel",
          "model_module_version": "1.5.0",
          "state": {
            "_dom_classes": [],
            "_model_module": "@jupyter-widgets/controls",
            "_model_module_version": "1.5.0",
            "_model_name": "HTMLModel",
            "_view_count": null,
            "_view_module": "@jupyter-widgets/controls",
            "_view_module_version": "1.5.0",
            "_view_name": "HTMLView",
            "description": "",
            "description_tooltip": null,
            "layout": "IPY_MODEL_3c65b67a60f34032bd42977cc1656b67",
            "placeholder": "​",
            "style": "IPY_MODEL_49e02e5ed8054f0cb7552d665c4cbef7",
            "value": "100%"
          }
        },
        "7c81cfa5ee3743cd99d09362fcd5df43": {
          "model_module": "@jupyter-widgets/controls",
          "model_name": "FloatProgressModel",
          "model_module_version": "1.5.0",
          "state": {
            "_dom_classes": [],
            "_model_module": "@jupyter-widgets/controls",
            "_model_module_version": "1.5.0",
            "_model_name": "FloatProgressModel",
            "_view_count": null,
            "_view_module": "@jupyter-widgets/controls",
            "_view_module_version": "1.5.0",
            "_view_name": "ProgressView",
            "bar_style": "success",
            "description": "",
            "description_tooltip": null,
            "layout": "IPY_MODEL_ba1e6936d476478d8b424fb55b35652c",
            "max": 26421880,
            "min": 0,
            "orientation": "horizontal",
            "style": "IPY_MODEL_96714569c4a740cdbc9f75a0d98d1cde",
            "value": 26421880
          }
        },
        "ee1a3b3df70241bdb13e9f87c120fa85": {
          "model_module": "@jupyter-widgets/controls",
          "model_name": "HTMLModel",
          "model_module_version": "1.5.0",
          "state": {
            "_dom_classes": [],
            "_model_module": "@jupyter-widgets/controls",
            "_model_module_version": "1.5.0",
            "_model_name": "HTMLModel",
            "_view_count": null,
            "_view_module": "@jupyter-widgets/controls",
            "_view_module_version": "1.5.0",
            "_view_name": "HTMLView",
            "description": "",
            "description_tooltip": null,
            "layout": "IPY_MODEL_0d29e346bf224967b5dfe0e40b70f2bd",
            "placeholder": "​",
            "style": "IPY_MODEL_414e670ab5064e97970f7403a5a1261a",
            "value": " 26421880/26421880 [00:01&lt;00:00, 28379162.35it/s]"
          }
        },
        "9c5910d3c9de460181262a8c3294962c": {
          "model_module": "@jupyter-widgets/base",
          "model_name": "LayoutModel",
          "model_module_version": "1.2.0",
          "state": {
            "_model_module": "@jupyter-widgets/base",
            "_model_module_version": "1.2.0",
            "_model_name": "LayoutModel",
            "_view_count": null,
            "_view_module": "@jupyter-widgets/base",
            "_view_module_version": "1.2.0",
            "_view_name": "LayoutView",
            "align_content": null,
            "align_items": null,
            "align_self": null,
            "border": null,
            "bottom": null,
            "display": null,
            "flex": null,
            "flex_flow": null,
            "grid_area": null,
            "grid_auto_columns": null,
            "grid_auto_flow": null,
            "grid_auto_rows": null,
            "grid_column": null,
            "grid_gap": null,
            "grid_row": null,
            "grid_template_areas": null,
            "grid_template_columns": null,
            "grid_template_rows": null,
            "height": null,
            "justify_content": null,
            "justify_items": null,
            "left": null,
            "margin": null,
            "max_height": null,
            "max_width": null,
            "min_height": null,
            "min_width": null,
            "object_fit": null,
            "object_position": null,
            "order": null,
            "overflow": null,
            "overflow_x": null,
            "overflow_y": null,
            "padding": null,
            "right": null,
            "top": null,
            "visibility": null,
            "width": null
          }
        },
        "3c65b67a60f34032bd42977cc1656b67": {
          "model_module": "@jupyter-widgets/base",
          "model_name": "LayoutModel",
          "model_module_version": "1.2.0",
          "state": {
            "_model_module": "@jupyter-widgets/base",
            "_model_module_version": "1.2.0",
            "_model_name": "LayoutModel",
            "_view_count": null,
            "_view_module": "@jupyter-widgets/base",
            "_view_module_version": "1.2.0",
            "_view_name": "LayoutView",
            "align_content": null,
            "align_items": null,
            "align_self": null,
            "border": null,
            "bottom": null,
            "display": null,
            "flex": null,
            "flex_flow": null,
            "grid_area": null,
            "grid_auto_columns": null,
            "grid_auto_flow": null,
            "grid_auto_rows": null,
            "grid_column": null,
            "grid_gap": null,
            "grid_row": null,
            "grid_template_areas": null,
            "grid_template_columns": null,
            "grid_template_rows": null,
            "height": null,
            "justify_content": null,
            "justify_items": null,
            "left": null,
            "margin": null,
            "max_height": null,
            "max_width": null,
            "min_height": null,
            "min_width": null,
            "object_fit": null,
            "object_position": null,
            "order": null,
            "overflow": null,
            "overflow_x": null,
            "overflow_y": null,
            "padding": null,
            "right": null,
            "top": null,
            "visibility": null,
            "width": null
          }
        },
        "49e02e5ed8054f0cb7552d665c4cbef7": {
          "model_module": "@jupyter-widgets/controls",
          "model_name": "DescriptionStyleModel",
          "model_module_version": "1.5.0",
          "state": {
            "_model_module": "@jupyter-widgets/controls",
            "_model_module_version": "1.5.0",
            "_model_name": "DescriptionStyleModel",
            "_view_count": null,
            "_view_module": "@jupyter-widgets/base",
            "_view_module_version": "1.2.0",
            "_view_name": "StyleView",
            "description_width": ""
          }
        },
        "ba1e6936d476478d8b424fb55b35652c": {
          "model_module": "@jupyter-widgets/base",
          "model_name": "LayoutModel",
          "model_module_version": "1.2.0",
          "state": {
            "_model_module": "@jupyter-widgets/base",
            "_model_module_version": "1.2.0",
            "_model_name": "LayoutModel",
            "_view_count": null,
            "_view_module": "@jupyter-widgets/base",
            "_view_module_version": "1.2.0",
            "_view_name": "LayoutView",
            "align_content": null,
            "align_items": null,
            "align_self": null,
            "border": null,
            "bottom": null,
            "display": null,
            "flex": null,
            "flex_flow": null,
            "grid_area": null,
            "grid_auto_columns": null,
            "grid_auto_flow": null,
            "grid_auto_rows": null,
            "grid_column": null,
            "grid_gap": null,
            "grid_row": null,
            "grid_template_areas": null,
            "grid_template_columns": null,
            "grid_template_rows": null,
            "height": null,
            "justify_content": null,
            "justify_items": null,
            "left": null,
            "margin": null,
            "max_height": null,
            "max_width": null,
            "min_height": null,
            "min_width": null,
            "object_fit": null,
            "object_position": null,
            "order": null,
            "overflow": null,
            "overflow_x": null,
            "overflow_y": null,
            "padding": null,
            "right": null,
            "top": null,
            "visibility": null,
            "width": null
          }
        },
        "96714569c4a740cdbc9f75a0d98d1cde": {
          "model_module": "@jupyter-widgets/controls",
          "model_name": "ProgressStyleModel",
          "model_module_version": "1.5.0",
          "state": {
            "_model_module": "@jupyter-widgets/controls",
            "_model_module_version": "1.5.0",
            "_model_name": "ProgressStyleModel",
            "_view_count": null,
            "_view_module": "@jupyter-widgets/base",
            "_view_module_version": "1.2.0",
            "_view_name": "StyleView",
            "bar_color": null,
            "description_width": ""
          }
        },
        "0d29e346bf224967b5dfe0e40b70f2bd": {
          "model_module": "@jupyter-widgets/base",
          "model_name": "LayoutModel",
          "model_module_version": "1.2.0",
          "state": {
            "_model_module": "@jupyter-widgets/base",
            "_model_module_version": "1.2.0",
            "_model_name": "LayoutModel",
            "_view_count": null,
            "_view_module": "@jupyter-widgets/base",
            "_view_module_version": "1.2.0",
            "_view_name": "LayoutView",
            "align_content": null,
            "align_items": null,
            "align_self": null,
            "border": null,
            "bottom": null,
            "display": null,
            "flex": null,
            "flex_flow": null,
            "grid_area": null,
            "grid_auto_columns": null,
            "grid_auto_flow": null,
            "grid_auto_rows": null,
            "grid_column": null,
            "grid_gap": null,
            "grid_row": null,
            "grid_template_areas": null,
            "grid_template_columns": null,
            "grid_template_rows": null,
            "height": null,
            "justify_content": null,
            "justify_items": null,
            "left": null,
            "margin": null,
            "max_height": null,
            "max_width": null,
            "min_height": null,
            "min_width": null,
            "object_fit": null,
            "object_position": null,
            "order": null,
            "overflow": null,
            "overflow_x": null,
            "overflow_y": null,
            "padding": null,
            "right": null,
            "top": null,
            "visibility": null,
            "width": null
          }
        },
        "414e670ab5064e97970f7403a5a1261a": {
          "model_module": "@jupyter-widgets/controls",
          "model_name": "DescriptionStyleModel",
          "model_module_version": "1.5.0",
          "state": {
            "_model_module": "@jupyter-widgets/controls",
            "_model_module_version": "1.5.0",
            "_model_name": "DescriptionStyleModel",
            "_view_count": null,
            "_view_module": "@jupyter-widgets/base",
            "_view_module_version": "1.2.0",
            "_view_name": "StyleView",
            "description_width": ""
          }
        },
        "c795e3d4a6b9482ca3d50960fc2f94de": {
          "model_module": "@jupyter-widgets/controls",
          "model_name": "HBoxModel",
          "model_module_version": "1.5.0",
          "state": {
            "_dom_classes": [],
            "_model_module": "@jupyter-widgets/controls",
            "_model_module_version": "1.5.0",
            "_model_name": "HBoxModel",
            "_view_count": null,
            "_view_module": "@jupyter-widgets/controls",
            "_view_module_version": "1.5.0",
            "_view_name": "HBoxView",
            "box_style": "",
            "children": [
              "IPY_MODEL_0d67c86cf8f245c3ad3bcfe3fcdc0e76",
              "IPY_MODEL_c2fa6f4f90c1430a8cee7261015a8cce",
              "IPY_MODEL_ce99eab7e33848648eb2f2d80fe12d02"
            ],
            "layout": "IPY_MODEL_1a576f6a361547cd900cedfa304d0afc"
          }
        },
        "0d67c86cf8f245c3ad3bcfe3fcdc0e76": {
          "model_module": "@jupyter-widgets/controls",
          "model_name": "HTMLModel",
          "model_module_version": "1.5.0",
          "state": {
            "_dom_classes": [],
            "_model_module": "@jupyter-widgets/controls",
            "_model_module_version": "1.5.0",
            "_model_name": "HTMLModel",
            "_view_count": null,
            "_view_module": "@jupyter-widgets/controls",
            "_view_module_version": "1.5.0",
            "_view_name": "HTMLView",
            "description": "",
            "description_tooltip": null,
            "layout": "IPY_MODEL_0447e4bb11b94436a2ffa0231ad8fa23",
            "placeholder": "​",
            "style": "IPY_MODEL_de289c9c8f184ee6b1b324f9f058fe59",
            "value": "100%"
          }
        },
        "c2fa6f4f90c1430a8cee7261015a8cce": {
          "model_module": "@jupyter-widgets/controls",
          "model_name": "FloatProgressModel",
          "model_module_version": "1.5.0",
          "state": {
            "_dom_classes": [],
            "_model_module": "@jupyter-widgets/controls",
            "_model_module_version": "1.5.0",
            "_model_name": "FloatProgressModel",
            "_view_count": null,
            "_view_module": "@jupyter-widgets/controls",
            "_view_module_version": "1.5.0",
            "_view_name": "ProgressView",
            "bar_style": "success",
            "description": "",
            "description_tooltip": null,
            "layout": "IPY_MODEL_c6b827940e194ec1a69f715773a61e99",
            "max": 29515,
            "min": 0,
            "orientation": "horizontal",
            "style": "IPY_MODEL_d69a5be81bbe4481b9f21a9463fa019a",
            "value": 29515
          }
        },
        "ce99eab7e33848648eb2f2d80fe12d02": {
          "model_module": "@jupyter-widgets/controls",
          "model_name": "HTMLModel",
          "model_module_version": "1.5.0",
          "state": {
            "_dom_classes": [],
            "_model_module": "@jupyter-widgets/controls",
            "_model_module_version": "1.5.0",
            "_model_name": "HTMLModel",
            "_view_count": null,
            "_view_module": "@jupyter-widgets/controls",
            "_view_module_version": "1.5.0",
            "_view_name": "HTMLView",
            "description": "",
            "description_tooltip": null,
            "layout": "IPY_MODEL_ee088cab2b2f4756861312214edc072d",
            "placeholder": "​",
            "style": "IPY_MODEL_918b4cf6cd8e452c95f9967e885da339",
            "value": " 29515/29515 [00:00&lt;00:00, 295606.27it/s]"
          }
        },
        "1a576f6a361547cd900cedfa304d0afc": {
          "model_module": "@jupyter-widgets/base",
          "model_name": "LayoutModel",
          "model_module_version": "1.2.0",
          "state": {
            "_model_module": "@jupyter-widgets/base",
            "_model_module_version": "1.2.0",
            "_model_name": "LayoutModel",
            "_view_count": null,
            "_view_module": "@jupyter-widgets/base",
            "_view_module_version": "1.2.0",
            "_view_name": "LayoutView",
            "align_content": null,
            "align_items": null,
            "align_self": null,
            "border": null,
            "bottom": null,
            "display": null,
            "flex": null,
            "flex_flow": null,
            "grid_area": null,
            "grid_auto_columns": null,
            "grid_auto_flow": null,
            "grid_auto_rows": null,
            "grid_column": null,
            "grid_gap": null,
            "grid_row": null,
            "grid_template_areas": null,
            "grid_template_columns": null,
            "grid_template_rows": null,
            "height": null,
            "justify_content": null,
            "justify_items": null,
            "left": null,
            "margin": null,
            "max_height": null,
            "max_width": null,
            "min_height": null,
            "min_width": null,
            "object_fit": null,
            "object_position": null,
            "order": null,
            "overflow": null,
            "overflow_x": null,
            "overflow_y": null,
            "padding": null,
            "right": null,
            "top": null,
            "visibility": null,
            "width": null
          }
        },
        "0447e4bb11b94436a2ffa0231ad8fa23": {
          "model_module": "@jupyter-widgets/base",
          "model_name": "LayoutModel",
          "model_module_version": "1.2.0",
          "state": {
            "_model_module": "@jupyter-widgets/base",
            "_model_module_version": "1.2.0",
            "_model_name": "LayoutModel",
            "_view_count": null,
            "_view_module": "@jupyter-widgets/base",
            "_view_module_version": "1.2.0",
            "_view_name": "LayoutView",
            "align_content": null,
            "align_items": null,
            "align_self": null,
            "border": null,
            "bottom": null,
            "display": null,
            "flex": null,
            "flex_flow": null,
            "grid_area": null,
            "grid_auto_columns": null,
            "grid_auto_flow": null,
            "grid_auto_rows": null,
            "grid_column": null,
            "grid_gap": null,
            "grid_row": null,
            "grid_template_areas": null,
            "grid_template_columns": null,
            "grid_template_rows": null,
            "height": null,
            "justify_content": null,
            "justify_items": null,
            "left": null,
            "margin": null,
            "max_height": null,
            "max_width": null,
            "min_height": null,
            "min_width": null,
            "object_fit": null,
            "object_position": null,
            "order": null,
            "overflow": null,
            "overflow_x": null,
            "overflow_y": null,
            "padding": null,
            "right": null,
            "top": null,
            "visibility": null,
            "width": null
          }
        },
        "de289c9c8f184ee6b1b324f9f058fe59": {
          "model_module": "@jupyter-widgets/controls",
          "model_name": "DescriptionStyleModel",
          "model_module_version": "1.5.0",
          "state": {
            "_model_module": "@jupyter-widgets/controls",
            "_model_module_version": "1.5.0",
            "_model_name": "DescriptionStyleModel",
            "_view_count": null,
            "_view_module": "@jupyter-widgets/base",
            "_view_module_version": "1.2.0",
            "_view_name": "StyleView",
            "description_width": ""
          }
        },
        "c6b827940e194ec1a69f715773a61e99": {
          "model_module": "@jupyter-widgets/base",
          "model_name": "LayoutModel",
          "model_module_version": "1.2.0",
          "state": {
            "_model_module": "@jupyter-widgets/base",
            "_model_module_version": "1.2.0",
            "_model_name": "LayoutModel",
            "_view_count": null,
            "_view_module": "@jupyter-widgets/base",
            "_view_module_version": "1.2.0",
            "_view_name": "LayoutView",
            "align_content": null,
            "align_items": null,
            "align_self": null,
            "border": null,
            "bottom": null,
            "display": null,
            "flex": null,
            "flex_flow": null,
            "grid_area": null,
            "grid_auto_columns": null,
            "grid_auto_flow": null,
            "grid_auto_rows": null,
            "grid_column": null,
            "grid_gap": null,
            "grid_row": null,
            "grid_template_areas": null,
            "grid_template_columns": null,
            "grid_template_rows": null,
            "height": null,
            "justify_content": null,
            "justify_items": null,
            "left": null,
            "margin": null,
            "max_height": null,
            "max_width": null,
            "min_height": null,
            "min_width": null,
            "object_fit": null,
            "object_position": null,
            "order": null,
            "overflow": null,
            "overflow_x": null,
            "overflow_y": null,
            "padding": null,
            "right": null,
            "top": null,
            "visibility": null,
            "width": null
          }
        },
        "d69a5be81bbe4481b9f21a9463fa019a": {
          "model_module": "@jupyter-widgets/controls",
          "model_name": "ProgressStyleModel",
          "model_module_version": "1.5.0",
          "state": {
            "_model_module": "@jupyter-widgets/controls",
            "_model_module_version": "1.5.0",
            "_model_name": "ProgressStyleModel",
            "_view_count": null,
            "_view_module": "@jupyter-widgets/base",
            "_view_module_version": "1.2.0",
            "_view_name": "StyleView",
            "bar_color": null,
            "description_width": ""
          }
        },
        "ee088cab2b2f4756861312214edc072d": {
          "model_module": "@jupyter-widgets/base",
          "model_name": "LayoutModel",
          "model_module_version": "1.2.0",
          "state": {
            "_model_module": "@jupyter-widgets/base",
            "_model_module_version": "1.2.0",
            "_model_name": "LayoutModel",
            "_view_count": null,
            "_view_module": "@jupyter-widgets/base",
            "_view_module_version": "1.2.0",
            "_view_name": "LayoutView",
            "align_content": null,
            "align_items": null,
            "align_self": null,
            "border": null,
            "bottom": null,
            "display": null,
            "flex": null,
            "flex_flow": null,
            "grid_area": null,
            "grid_auto_columns": null,
            "grid_auto_flow": null,
            "grid_auto_rows": null,
            "grid_column": null,
            "grid_gap": null,
            "grid_row": null,
            "grid_template_areas": null,
            "grid_template_columns": null,
            "grid_template_rows": null,
            "height": null,
            "justify_content": null,
            "justify_items": null,
            "left": null,
            "margin": null,
            "max_height": null,
            "max_width": null,
            "min_height": null,
            "min_width": null,
            "object_fit": null,
            "object_position": null,
            "order": null,
            "overflow": null,
            "overflow_x": null,
            "overflow_y": null,
            "padding": null,
            "right": null,
            "top": null,
            "visibility": null,
            "width": null
          }
        },
        "918b4cf6cd8e452c95f9967e885da339": {
          "model_module": "@jupyter-widgets/controls",
          "model_name": "DescriptionStyleModel",
          "model_module_version": "1.5.0",
          "state": {
            "_model_module": "@jupyter-widgets/controls",
            "_model_module_version": "1.5.0",
            "_model_name": "DescriptionStyleModel",
            "_view_count": null,
            "_view_module": "@jupyter-widgets/base",
            "_view_module_version": "1.2.0",
            "_view_name": "StyleView",
            "description_width": ""
          }
        },
        "a300d7cbb9dd404395d8cd351ec837eb": {
          "model_module": "@jupyter-widgets/controls",
          "model_name": "HBoxModel",
          "model_module_version": "1.5.0",
          "state": {
            "_dom_classes": [],
            "_model_module": "@jupyter-widgets/controls",
            "_model_module_version": "1.5.0",
            "_model_name": "HBoxModel",
            "_view_count": null,
            "_view_module": "@jupyter-widgets/controls",
            "_view_module_version": "1.5.0",
            "_view_name": "HBoxView",
            "box_style": "",
            "children": [
              "IPY_MODEL_1b554ba3bce54a228373a16ea50b802f",
              "IPY_MODEL_c3815148eb9c4e8e9e64b35ede5e1aac",
              "IPY_MODEL_27a526543b65461d8d9bc56930cb1b63"
            ],
            "layout": "IPY_MODEL_f7212ddd30654b41bfd98ad80c6a5157"
          }
        },
        "1b554ba3bce54a228373a16ea50b802f": {
          "model_module": "@jupyter-widgets/controls",
          "model_name": "HTMLModel",
          "model_module_version": "1.5.0",
          "state": {
            "_dom_classes": [],
            "_model_module": "@jupyter-widgets/controls",
            "_model_module_version": "1.5.0",
            "_model_name": "HTMLModel",
            "_view_count": null,
            "_view_module": "@jupyter-widgets/controls",
            "_view_module_version": "1.5.0",
            "_view_name": "HTMLView",
            "description": "",
            "description_tooltip": null,
            "layout": "IPY_MODEL_5b132cc1eaec4541be478216203269b0",
            "placeholder": "​",
            "style": "IPY_MODEL_528dd8c1fe29464aa4bd89f1f05ad2a5",
            "value": "100%"
          }
        },
        "c3815148eb9c4e8e9e64b35ede5e1aac": {
          "model_module": "@jupyter-widgets/controls",
          "model_name": "FloatProgressModel",
          "model_module_version": "1.5.0",
          "state": {
            "_dom_classes": [],
            "_model_module": "@jupyter-widgets/controls",
            "_model_module_version": "1.5.0",
            "_model_name": "FloatProgressModel",
            "_view_count": null,
            "_view_module": "@jupyter-widgets/controls",
            "_view_module_version": "1.5.0",
            "_view_name": "ProgressView",
            "bar_style": "success",
            "description": "",
            "description_tooltip": null,
            "layout": "IPY_MODEL_ad43404fcffa41c69c8cc4ead9c6d55a",
            "max": 4422102,
            "min": 0,
            "orientation": "horizontal",
            "style": "IPY_MODEL_6c62352814914dd0a8711386d0b61441",
            "value": 4422102
          }
        },
        "27a526543b65461d8d9bc56930cb1b63": {
          "model_module": "@jupyter-widgets/controls",
          "model_name": "HTMLModel",
          "model_module_version": "1.5.0",
          "state": {
            "_dom_classes": [],
            "_model_module": "@jupyter-widgets/controls",
            "_model_module_version": "1.5.0",
            "_model_name": "HTMLModel",
            "_view_count": null,
            "_view_module": "@jupyter-widgets/controls",
            "_view_module_version": "1.5.0",
            "_view_name": "HTMLView",
            "description": "",
            "description_tooltip": null,
            "layout": "IPY_MODEL_fae727ffca58496492dc5cb31428f50a",
            "placeholder": "​",
            "style": "IPY_MODEL_2f7a6b2a23c643549f4ddf1acdb3d56d",
            "value": " 4422102/4422102 [00:00&lt;00:00, 9111564.79it/s]"
          }
        },
        "f7212ddd30654b41bfd98ad80c6a5157": {
          "model_module": "@jupyter-widgets/base",
          "model_name": "LayoutModel",
          "model_module_version": "1.2.0",
          "state": {
            "_model_module": "@jupyter-widgets/base",
            "_model_module_version": "1.2.0",
            "_model_name": "LayoutModel",
            "_view_count": null,
            "_view_module": "@jupyter-widgets/base",
            "_view_module_version": "1.2.0",
            "_view_name": "LayoutView",
            "align_content": null,
            "align_items": null,
            "align_self": null,
            "border": null,
            "bottom": null,
            "display": null,
            "flex": null,
            "flex_flow": null,
            "grid_area": null,
            "grid_auto_columns": null,
            "grid_auto_flow": null,
            "grid_auto_rows": null,
            "grid_column": null,
            "grid_gap": null,
            "grid_row": null,
            "grid_template_areas": null,
            "grid_template_columns": null,
            "grid_template_rows": null,
            "height": null,
            "justify_content": null,
            "justify_items": null,
            "left": null,
            "margin": null,
            "max_height": null,
            "max_width": null,
            "min_height": null,
            "min_width": null,
            "object_fit": null,
            "object_position": null,
            "order": null,
            "overflow": null,
            "overflow_x": null,
            "overflow_y": null,
            "padding": null,
            "right": null,
            "top": null,
            "visibility": null,
            "width": null
          }
        },
        "5b132cc1eaec4541be478216203269b0": {
          "model_module": "@jupyter-widgets/base",
          "model_name": "LayoutModel",
          "model_module_version": "1.2.0",
          "state": {
            "_model_module": "@jupyter-widgets/base",
            "_model_module_version": "1.2.0",
            "_model_name": "LayoutModel",
            "_view_count": null,
            "_view_module": "@jupyter-widgets/base",
            "_view_module_version": "1.2.0",
            "_view_name": "LayoutView",
            "align_content": null,
            "align_items": null,
            "align_self": null,
            "border": null,
            "bottom": null,
            "display": null,
            "flex": null,
            "flex_flow": null,
            "grid_area": null,
            "grid_auto_columns": null,
            "grid_auto_flow": null,
            "grid_auto_rows": null,
            "grid_column": null,
            "grid_gap": null,
            "grid_row": null,
            "grid_template_areas": null,
            "grid_template_columns": null,
            "grid_template_rows": null,
            "height": null,
            "justify_content": null,
            "justify_items": null,
            "left": null,
            "margin": null,
            "max_height": null,
            "max_width": null,
            "min_height": null,
            "min_width": null,
            "object_fit": null,
            "object_position": null,
            "order": null,
            "overflow": null,
            "overflow_x": null,
            "overflow_y": null,
            "padding": null,
            "right": null,
            "top": null,
            "visibility": null,
            "width": null
          }
        },
        "528dd8c1fe29464aa4bd89f1f05ad2a5": {
          "model_module": "@jupyter-widgets/controls",
          "model_name": "DescriptionStyleModel",
          "model_module_version": "1.5.0",
          "state": {
            "_model_module": "@jupyter-widgets/controls",
            "_model_module_version": "1.5.0",
            "_model_name": "DescriptionStyleModel",
            "_view_count": null,
            "_view_module": "@jupyter-widgets/base",
            "_view_module_version": "1.2.0",
            "_view_name": "StyleView",
            "description_width": ""
          }
        },
        "ad43404fcffa41c69c8cc4ead9c6d55a": {
          "model_module": "@jupyter-widgets/base",
          "model_name": "LayoutModel",
          "model_module_version": "1.2.0",
          "state": {
            "_model_module": "@jupyter-widgets/base",
            "_model_module_version": "1.2.0",
            "_model_name": "LayoutModel",
            "_view_count": null,
            "_view_module": "@jupyter-widgets/base",
            "_view_module_version": "1.2.0",
            "_view_name": "LayoutView",
            "align_content": null,
            "align_items": null,
            "align_self": null,
            "border": null,
            "bottom": null,
            "display": null,
            "flex": null,
            "flex_flow": null,
            "grid_area": null,
            "grid_auto_columns": null,
            "grid_auto_flow": null,
            "grid_auto_rows": null,
            "grid_column": null,
            "grid_gap": null,
            "grid_row": null,
            "grid_template_areas": null,
            "grid_template_columns": null,
            "grid_template_rows": null,
            "height": null,
            "justify_content": null,
            "justify_items": null,
            "left": null,
            "margin": null,
            "max_height": null,
            "max_width": null,
            "min_height": null,
            "min_width": null,
            "object_fit": null,
            "object_position": null,
            "order": null,
            "overflow": null,
            "overflow_x": null,
            "overflow_y": null,
            "padding": null,
            "right": null,
            "top": null,
            "visibility": null,
            "width": null
          }
        },
        "6c62352814914dd0a8711386d0b61441": {
          "model_module": "@jupyter-widgets/controls",
          "model_name": "ProgressStyleModel",
          "model_module_version": "1.5.0",
          "state": {
            "_model_module": "@jupyter-widgets/controls",
            "_model_module_version": "1.5.0",
            "_model_name": "ProgressStyleModel",
            "_view_count": null,
            "_view_module": "@jupyter-widgets/base",
            "_view_module_version": "1.2.0",
            "_view_name": "StyleView",
            "bar_color": null,
            "description_width": ""
          }
        },
        "fae727ffca58496492dc5cb31428f50a": {
          "model_module": "@jupyter-widgets/base",
          "model_name": "LayoutModel",
          "model_module_version": "1.2.0",
          "state": {
            "_model_module": "@jupyter-widgets/base",
            "_model_module_version": "1.2.0",
            "_model_name": "LayoutModel",
            "_view_count": null,
            "_view_module": "@jupyter-widgets/base",
            "_view_module_version": "1.2.0",
            "_view_name": "LayoutView",
            "align_content": null,
            "align_items": null,
            "align_self": null,
            "border": null,
            "bottom": null,
            "display": null,
            "flex": null,
            "flex_flow": null,
            "grid_area": null,
            "grid_auto_columns": null,
            "grid_auto_flow": null,
            "grid_auto_rows": null,
            "grid_column": null,
            "grid_gap": null,
            "grid_row": null,
            "grid_template_areas": null,
            "grid_template_columns": null,
            "grid_template_rows": null,
            "height": null,
            "justify_content": null,
            "justify_items": null,
            "left": null,
            "margin": null,
            "max_height": null,
            "max_width": null,
            "min_height": null,
            "min_width": null,
            "object_fit": null,
            "object_position": null,
            "order": null,
            "overflow": null,
            "overflow_x": null,
            "overflow_y": null,
            "padding": null,
            "right": null,
            "top": null,
            "visibility": null,
            "width": null
          }
        },
        "2f7a6b2a23c643549f4ddf1acdb3d56d": {
          "model_module": "@jupyter-widgets/controls",
          "model_name": "DescriptionStyleModel",
          "model_module_version": "1.5.0",
          "state": {
            "_model_module": "@jupyter-widgets/controls",
            "_model_module_version": "1.5.0",
            "_model_name": "DescriptionStyleModel",
            "_view_count": null,
            "_view_module": "@jupyter-widgets/base",
            "_view_module_version": "1.2.0",
            "_view_name": "StyleView",
            "description_width": ""
          }
        },
        "e86f8b97d39c4575a8679bf78eb984f8": {
          "model_module": "@jupyter-widgets/controls",
          "model_name": "HBoxModel",
          "model_module_version": "1.5.0",
          "state": {
            "_dom_classes": [],
            "_model_module": "@jupyter-widgets/controls",
            "_model_module_version": "1.5.0",
            "_model_name": "HBoxModel",
            "_view_count": null,
            "_view_module": "@jupyter-widgets/controls",
            "_view_module_version": "1.5.0",
            "_view_name": "HBoxView",
            "box_style": "",
            "children": [
              "IPY_MODEL_28a830df4aa142f88457af7f485a58dc",
              "IPY_MODEL_f6965cfaeddc4ab388e4dce1d68f4ac9",
              "IPY_MODEL_f9e6d380cff549bcbea57af3194ded69"
            ],
            "layout": "IPY_MODEL_9667f2ebbe7442f4928fa5ce955b6756"
          }
        },
        "28a830df4aa142f88457af7f485a58dc": {
          "model_module": "@jupyter-widgets/controls",
          "model_name": "HTMLModel",
          "model_module_version": "1.5.0",
          "state": {
            "_dom_classes": [],
            "_model_module": "@jupyter-widgets/controls",
            "_model_module_version": "1.5.0",
            "_model_name": "HTMLModel",
            "_view_count": null,
            "_view_module": "@jupyter-widgets/controls",
            "_view_module_version": "1.5.0",
            "_view_name": "HTMLView",
            "description": "",
            "description_tooltip": null,
            "layout": "IPY_MODEL_439bea76d6054566b68a7e04c5fe13a8",
            "placeholder": "​",
            "style": "IPY_MODEL_97041b606bb9473f966838d313a0254f",
            "value": "100%"
          }
        },
        "f6965cfaeddc4ab388e4dce1d68f4ac9": {
          "model_module": "@jupyter-widgets/controls",
          "model_name": "FloatProgressModel",
          "model_module_version": "1.5.0",
          "state": {
            "_dom_classes": [],
            "_model_module": "@jupyter-widgets/controls",
            "_model_module_version": "1.5.0",
            "_model_name": "FloatProgressModel",
            "_view_count": null,
            "_view_module": "@jupyter-widgets/controls",
            "_view_module_version": "1.5.0",
            "_view_name": "ProgressView",
            "bar_style": "success",
            "description": "",
            "description_tooltip": null,
            "layout": "IPY_MODEL_9208e4f1273d49e59e81bf9180d55eed",
            "max": 5148,
            "min": 0,
            "orientation": "horizontal",
            "style": "IPY_MODEL_b1c1593566204763b6cfc81b94f81ff4",
            "value": 5148
          }
        },
        "f9e6d380cff549bcbea57af3194ded69": {
          "model_module": "@jupyter-widgets/controls",
          "model_name": "HTMLModel",
          "model_module_version": "1.5.0",
          "state": {
            "_dom_classes": [],
            "_model_module": "@jupyter-widgets/controls",
            "_model_module_version": "1.5.0",
            "_model_name": "HTMLModel",
            "_view_count": null,
            "_view_module": "@jupyter-widgets/controls",
            "_view_module_version": "1.5.0",
            "_view_name": "HTMLView",
            "description": "",
            "description_tooltip": null,
            "layout": "IPY_MODEL_b91e7a120bc24342a34351aa5c87fc1c",
            "placeholder": "​",
            "style": "IPY_MODEL_89ad6eb04312472d9ab981ac6277d7a0",
            "value": " 5148/5148 [00:00&lt;00:00, 310559.60it/s]"
          }
        },
        "9667f2ebbe7442f4928fa5ce955b6756": {
          "model_module": "@jupyter-widgets/base",
          "model_name": "LayoutModel",
          "model_module_version": "1.2.0",
          "state": {
            "_model_module": "@jupyter-widgets/base",
            "_model_module_version": "1.2.0",
            "_model_name": "LayoutModel",
            "_view_count": null,
            "_view_module": "@jupyter-widgets/base",
            "_view_module_version": "1.2.0",
            "_view_name": "LayoutView",
            "align_content": null,
            "align_items": null,
            "align_self": null,
            "border": null,
            "bottom": null,
            "display": null,
            "flex": null,
            "flex_flow": null,
            "grid_area": null,
            "grid_auto_columns": null,
            "grid_auto_flow": null,
            "grid_auto_rows": null,
            "grid_column": null,
            "grid_gap": null,
            "grid_row": null,
            "grid_template_areas": null,
            "grid_template_columns": null,
            "grid_template_rows": null,
            "height": null,
            "justify_content": null,
            "justify_items": null,
            "left": null,
            "margin": null,
            "max_height": null,
            "max_width": null,
            "min_height": null,
            "min_width": null,
            "object_fit": null,
            "object_position": null,
            "order": null,
            "overflow": null,
            "overflow_x": null,
            "overflow_y": null,
            "padding": null,
            "right": null,
            "top": null,
            "visibility": null,
            "width": null
          }
        },
        "439bea76d6054566b68a7e04c5fe13a8": {
          "model_module": "@jupyter-widgets/base",
          "model_name": "LayoutModel",
          "model_module_version": "1.2.0",
          "state": {
            "_model_module": "@jupyter-widgets/base",
            "_model_module_version": "1.2.0",
            "_model_name": "LayoutModel",
            "_view_count": null,
            "_view_module": "@jupyter-widgets/base",
            "_view_module_version": "1.2.0",
            "_view_name": "LayoutView",
            "align_content": null,
            "align_items": null,
            "align_self": null,
            "border": null,
            "bottom": null,
            "display": null,
            "flex": null,
            "flex_flow": null,
            "grid_area": null,
            "grid_auto_columns": null,
            "grid_auto_flow": null,
            "grid_auto_rows": null,
            "grid_column": null,
            "grid_gap": null,
            "grid_row": null,
            "grid_template_areas": null,
            "grid_template_columns": null,
            "grid_template_rows": null,
            "height": null,
            "justify_content": null,
            "justify_items": null,
            "left": null,
            "margin": null,
            "max_height": null,
            "max_width": null,
            "min_height": null,
            "min_width": null,
            "object_fit": null,
            "object_position": null,
            "order": null,
            "overflow": null,
            "overflow_x": null,
            "overflow_y": null,
            "padding": null,
            "right": null,
            "top": null,
            "visibility": null,
            "width": null
          }
        },
        "97041b606bb9473f966838d313a0254f": {
          "model_module": "@jupyter-widgets/controls",
          "model_name": "DescriptionStyleModel",
          "model_module_version": "1.5.0",
          "state": {
            "_model_module": "@jupyter-widgets/controls",
            "_model_module_version": "1.5.0",
            "_model_name": "DescriptionStyleModel",
            "_view_count": null,
            "_view_module": "@jupyter-widgets/base",
            "_view_module_version": "1.2.0",
            "_view_name": "StyleView",
            "description_width": ""
          }
        },
        "9208e4f1273d49e59e81bf9180d55eed": {
          "model_module": "@jupyter-widgets/base",
          "model_name": "LayoutModel",
          "model_module_version": "1.2.0",
          "state": {
            "_model_module": "@jupyter-widgets/base",
            "_model_module_version": "1.2.0",
            "_model_name": "LayoutModel",
            "_view_count": null,
            "_view_module": "@jupyter-widgets/base",
            "_view_module_version": "1.2.0",
            "_view_name": "LayoutView",
            "align_content": null,
            "align_items": null,
            "align_self": null,
            "border": null,
            "bottom": null,
            "display": null,
            "flex": null,
            "flex_flow": null,
            "grid_area": null,
            "grid_auto_columns": null,
            "grid_auto_flow": null,
            "grid_auto_rows": null,
            "grid_column": null,
            "grid_gap": null,
            "grid_row": null,
            "grid_template_areas": null,
            "grid_template_columns": null,
            "grid_template_rows": null,
            "height": null,
            "justify_content": null,
            "justify_items": null,
            "left": null,
            "margin": null,
            "max_height": null,
            "max_width": null,
            "min_height": null,
            "min_width": null,
            "object_fit": null,
            "object_position": null,
            "order": null,
            "overflow": null,
            "overflow_x": null,
            "overflow_y": null,
            "padding": null,
            "right": null,
            "top": null,
            "visibility": null,
            "width": null
          }
        },
        "b1c1593566204763b6cfc81b94f81ff4": {
          "model_module": "@jupyter-widgets/controls",
          "model_name": "ProgressStyleModel",
          "model_module_version": "1.5.0",
          "state": {
            "_model_module": "@jupyter-widgets/controls",
            "_model_module_version": "1.5.0",
            "_model_name": "ProgressStyleModel",
            "_view_count": null,
            "_view_module": "@jupyter-widgets/base",
            "_view_module_version": "1.2.0",
            "_view_name": "StyleView",
            "bar_color": null,
            "description_width": ""
          }
        },
        "b91e7a120bc24342a34351aa5c87fc1c": {
          "model_module": "@jupyter-widgets/base",
          "model_name": "LayoutModel",
          "model_module_version": "1.2.0",
          "state": {
            "_model_module": "@jupyter-widgets/base",
            "_model_module_version": "1.2.0",
            "_model_name": "LayoutModel",
            "_view_count": null,
            "_view_module": "@jupyter-widgets/base",
            "_view_module_version": "1.2.0",
            "_view_name": "LayoutView",
            "align_content": null,
            "align_items": null,
            "align_self": null,
            "border": null,
            "bottom": null,
            "display": null,
            "flex": null,
            "flex_flow": null,
            "grid_area": null,
            "grid_auto_columns": null,
            "grid_auto_flow": null,
            "grid_auto_rows": null,
            "grid_column": null,
            "grid_gap": null,
            "grid_row": null,
            "grid_template_areas": null,
            "grid_template_columns": null,
            "grid_template_rows": null,
            "height": null,
            "justify_content": null,
            "justify_items": null,
            "left": null,
            "margin": null,
            "max_height": null,
            "max_width": null,
            "min_height": null,
            "min_width": null,
            "object_fit": null,
            "object_position": null,
            "order": null,
            "overflow": null,
            "overflow_x": null,
            "overflow_y": null,
            "padding": null,
            "right": null,
            "top": null,
            "visibility": null,
            "width": null
          }
        },
        "89ad6eb04312472d9ab981ac6277d7a0": {
          "model_module": "@jupyter-widgets/controls",
          "model_name": "DescriptionStyleModel",
          "model_module_version": "1.5.0",
          "state": {
            "_model_module": "@jupyter-widgets/controls",
            "_model_module_version": "1.5.0",
            "_model_name": "DescriptionStyleModel",
            "_view_count": null,
            "_view_module": "@jupyter-widgets/base",
            "_view_module_version": "1.2.0",
            "_view_name": "StyleView",
            "description_width": ""
          }
        }
      }
    }
  },
  "cells": [
    {
      "cell_type": "markdown",
      "source": [
        "# 초기 세팅"
      ],
      "metadata": {
        "id": "cdNvme8aKSBP"
      }
    },
    {
      "cell_type": "code",
      "metadata": {
        "id": "P1v9luAfHXdz"
      },
      "source": [
        "import torch\n",
        "import torch.nn as nn\n",
        "import torch.nn.functional as F\n",
        "import torch.optim as optim\n",
        "from torch.utils.data import Dataset, DataLoader\n",
        "\n",
        "import torchvision\n",
        "import torchvision.datasets as datasets\n",
        "import torchvision.transforms as transforms\n",
        "\n",
        "import numpy as np\n",
        "import matplotlib.pyplot as plt\n",
        "plt.style.use('seaborn-white')"
      ],
      "execution_count": null,
      "outputs": []
    },
    {
      "cell_type": "code",
      "source": [
        "!pip install torchsummary\n",
        "from torchsummary import summary"
      ],
      "metadata": {
        "colab": {
          "base_uri": "https://localhost:8080/"
        },
        "id": "D39aCPyTu2Ce",
        "outputId": "497fcf4c-d405-4b35-9b21-b52c86943d67"
      },
      "execution_count": null,
      "outputs": [
        {
          "output_type": "stream",
          "name": "stdout",
          "text": [
            "Looking in indexes: https://pypi.org/simple, https://us-python.pkg.dev/colab-wheels/public/simple/\n",
            "Requirement already satisfied: torchsummary in /usr/local/lib/python3.8/dist-packages (1.5.1)\n"
          ]
        }
      ]
    },
    {
      "cell_type": "markdown",
      "metadata": {
        "id": "02LdHlTTSz5L"
      },
      "source": [
        "- 현재 GPU 설정"
      ]
    },
    {
      "cell_type": "code",
      "metadata": {
        "id": "Ybsjn80uSx3X",
        "colab": {
          "base_uri": "https://localhost:8080/"
        },
        "outputId": "e1bb6543-c281-4ab0-c125-9a85f40de306"
      },
      "source": [
        "# colab의 runtime-type을 GPU로 설정해서, True가 나오도록 한다.\n",
        "\n",
        "torch.cuda.is_available()"
      ],
      "execution_count": null,
      "outputs": [
        {
          "output_type": "execute_result",
          "data": {
            "text/plain": [
              "True"
            ]
          },
          "metadata": {},
          "execution_count": 3
        }
      ]
    },
    {
      "cell_type": "code",
      "metadata": {
        "id": "HlPZI5wfDQhv",
        "colab": {
          "base_uri": "https://localhost:8080/"
        },
        "outputId": "eba11d37-693e-4564-c993-26990ed9b804"
      },
      "source": [
        "use_cuda = torch.cuda.is_available()\n",
        "device = torch.device(\"cuda\" if use_cuda else \"cpu\")\n",
        "device"
      ],
      "execution_count": null,
      "outputs": [
        {
          "output_type": "execute_result",
          "data": {
            "text/plain": [
              "device(type='cuda')"
            ]
          },
          "metadata": {},
          "execution_count": 4
        }
      ]
    },
    {
      "cell_type": "markdown",
      "source": [
        "# FashionMNIST 분류 모델 만들기\n",
        "* 흑/백(1) 이미지 데이터 분류\n",
        "* 28x28 pixel"
      ],
      "metadata": {
        "id": "OHckdZ55KeH2"
      }
    },
    {
      "cell_type": "markdown",
      "source": [
        "## 데이터 로드"
      ],
      "metadata": {
        "id": "mCrBa-gRRMEO"
      }
    },
    {
      "cell_type": "code",
      "source": [
        "# 데이터 전처리\n",
        "\n",
        "MNIST_transform = transforms.Compose([transforms.ToTensor(), # tensor로 펴준다.\n",
        "                                      transforms.Normalize((0.5,),(0.5,))]) # 정규화를 해준다."
      ],
      "metadata": {
        "id": "vYP9dGrWzDqd"
      },
      "execution_count": null,
      "outputs": []
    },
    {
      "cell_type": "code",
      "source": [
        "pwd"
      ],
      "metadata": {
        "colab": {
          "base_uri": "https://localhost:8080/",
          "height": 36
        },
        "id": "JTwuBu3UDAIe",
        "outputId": "2c30a79a-1ea1-42e7-80db-eb8f9889293b"
      },
      "execution_count": null,
      "outputs": [
        {
          "output_type": "execute_result",
          "data": {
            "text/plain": [
              "'/content'"
            ],
            "application/vnd.google.colaboratory.intrinsic+json": {
              "type": "string"
            }
          },
          "metadata": {},
          "execution_count": 7
        }
      ]
    },
    {
      "cell_type": "code",
      "source": [
        "trainset = datasets.FashionMNIST(root='/content',\n",
        "                                 train=True, download=True,\n",
        "                                 transform=MNIST_transform)\n",
        "\n",
        "testset = datasets.FashionMNIST(root='/content',\n",
        "                                 train=False, download=True,\n",
        "                                 transform=MNIST_transform)"
      ],
      "metadata": {
        "id": "VpVsTevTWE5i",
        "colab": {
          "base_uri": "https://localhost:8080/",
          "height": 431,
          "referenced_widgets": [
            "ceaa66b57b764ee4b9df631a63a2c991",
            "88ed5dce889b4a57b1f316bb3e87e8a3",
            "7c81cfa5ee3743cd99d09362fcd5df43",
            "ee1a3b3df70241bdb13e9f87c120fa85",
            "9c5910d3c9de460181262a8c3294962c",
            "3c65b67a60f34032bd42977cc1656b67",
            "49e02e5ed8054f0cb7552d665c4cbef7",
            "ba1e6936d476478d8b424fb55b35652c",
            "96714569c4a740cdbc9f75a0d98d1cde",
            "0d29e346bf224967b5dfe0e40b70f2bd",
            "414e670ab5064e97970f7403a5a1261a",
            "c795e3d4a6b9482ca3d50960fc2f94de",
            "0d67c86cf8f245c3ad3bcfe3fcdc0e76",
            "c2fa6f4f90c1430a8cee7261015a8cce",
            "ce99eab7e33848648eb2f2d80fe12d02",
            "1a576f6a361547cd900cedfa304d0afc",
            "0447e4bb11b94436a2ffa0231ad8fa23",
            "de289c9c8f184ee6b1b324f9f058fe59",
            "c6b827940e194ec1a69f715773a61e99",
            "d69a5be81bbe4481b9f21a9463fa019a",
            "ee088cab2b2f4756861312214edc072d",
            "918b4cf6cd8e452c95f9967e885da339",
            "a300d7cbb9dd404395d8cd351ec837eb",
            "1b554ba3bce54a228373a16ea50b802f",
            "c3815148eb9c4e8e9e64b35ede5e1aac",
            "27a526543b65461d8d9bc56930cb1b63",
            "f7212ddd30654b41bfd98ad80c6a5157",
            "5b132cc1eaec4541be478216203269b0",
            "528dd8c1fe29464aa4bd89f1f05ad2a5",
            "ad43404fcffa41c69c8cc4ead9c6d55a",
            "6c62352814914dd0a8711386d0b61441",
            "fae727ffca58496492dc5cb31428f50a",
            "2f7a6b2a23c643549f4ddf1acdb3d56d",
            "e86f8b97d39c4575a8679bf78eb984f8",
            "28a830df4aa142f88457af7f485a58dc",
            "f6965cfaeddc4ab388e4dce1d68f4ac9",
            "f9e6d380cff549bcbea57af3194ded69",
            "9667f2ebbe7442f4928fa5ce955b6756",
            "439bea76d6054566b68a7e04c5fe13a8",
            "97041b606bb9473f966838d313a0254f",
            "9208e4f1273d49e59e81bf9180d55eed",
            "b1c1593566204763b6cfc81b94f81ff4",
            "b91e7a120bc24342a34351aa5c87fc1c",
            "89ad6eb04312472d9ab981ac6277d7a0"
          ]
        },
        "outputId": "b67e05ab-933c-4774-a03e-6f0f93ef4af5"
      },
      "execution_count": null,
      "outputs": [
        {
          "output_type": "stream",
          "name": "stdout",
          "text": [
            "Downloading http://fashion-mnist.s3-website.eu-central-1.amazonaws.com/train-images-idx3-ubyte.gz\n",
            "Downloading http://fashion-mnist.s3-website.eu-central-1.amazonaws.com/train-images-idx3-ubyte.gz to /content/FashionMNIST/raw/train-images-idx3-ubyte.gz\n"
          ]
        },
        {
          "output_type": "display_data",
          "data": {
            "text/plain": [
              "  0%|          | 0/26421880 [00:00<?, ?it/s]"
            ],
            "application/vnd.jupyter.widget-view+json": {
              "version_major": 2,
              "version_minor": 0,
              "model_id": "ceaa66b57b764ee4b9df631a63a2c991"
            }
          },
          "metadata": {}
        },
        {
          "output_type": "stream",
          "name": "stdout",
          "text": [
            "Extracting /content/FashionMNIST/raw/train-images-idx3-ubyte.gz to /content/FashionMNIST/raw\n",
            "\n",
            "Downloading http://fashion-mnist.s3-website.eu-central-1.amazonaws.com/train-labels-idx1-ubyte.gz\n",
            "Downloading http://fashion-mnist.s3-website.eu-central-1.amazonaws.com/train-labels-idx1-ubyte.gz to /content/FashionMNIST/raw/train-labels-idx1-ubyte.gz\n"
          ]
        },
        {
          "output_type": "display_data",
          "data": {
            "text/plain": [
              "  0%|          | 0/29515 [00:00<?, ?it/s]"
            ],
            "application/vnd.jupyter.widget-view+json": {
              "version_major": 2,
              "version_minor": 0,
              "model_id": "c795e3d4a6b9482ca3d50960fc2f94de"
            }
          },
          "metadata": {}
        },
        {
          "output_type": "stream",
          "name": "stdout",
          "text": [
            "Extracting /content/FashionMNIST/raw/train-labels-idx1-ubyte.gz to /content/FashionMNIST/raw\n",
            "\n",
            "Downloading http://fashion-mnist.s3-website.eu-central-1.amazonaws.com/t10k-images-idx3-ubyte.gz\n",
            "Downloading http://fashion-mnist.s3-website.eu-central-1.amazonaws.com/t10k-images-idx3-ubyte.gz to /content/FashionMNIST/raw/t10k-images-idx3-ubyte.gz\n"
          ]
        },
        {
          "output_type": "display_data",
          "data": {
            "text/plain": [
              "  0%|          | 0/4422102 [00:00<?, ?it/s]"
            ],
            "application/vnd.jupyter.widget-view+json": {
              "version_major": 2,
              "version_minor": 0,
              "model_id": "a300d7cbb9dd404395d8cd351ec837eb"
            }
          },
          "metadata": {}
        },
        {
          "output_type": "stream",
          "name": "stdout",
          "text": [
            "Extracting /content/FashionMNIST/raw/t10k-images-idx3-ubyte.gz to /content/FashionMNIST/raw\n",
            "\n",
            "Downloading http://fashion-mnist.s3-website.eu-central-1.amazonaws.com/t10k-labels-idx1-ubyte.gz\n",
            "Downloading http://fashion-mnist.s3-website.eu-central-1.amazonaws.com/t10k-labels-idx1-ubyte.gz to /content/FashionMNIST/raw/t10k-labels-idx1-ubyte.gz\n"
          ]
        },
        {
          "output_type": "display_data",
          "data": {
            "text/plain": [
              "  0%|          | 0/5148 [00:00<?, ?it/s]"
            ],
            "application/vnd.jupyter.widget-view+json": {
              "version_major": 2,
              "version_minor": 0,
              "model_id": "e86f8b97d39c4575a8679bf78eb984f8"
            }
          },
          "metadata": {}
        },
        {
          "output_type": "stream",
          "name": "stdout",
          "text": [
            "Extracting /content/FashionMNIST/raw/t10k-labels-idx1-ubyte.gz to /content/FashionMNIST/raw\n",
            "\n"
          ]
        }
      ]
    },
    {
      "cell_type": "markdown",
      "source": [
        "input-data size 확인\n",
        "\n",
        "\n",
        "*batch size: 모델 학습 중 parameter를 업데이트할 때 사용할 데이터 개수를 의미"
      ],
      "metadata": {
        "id": "qh7uI7ewsipv"
      }
    },
    {
      "cell_type": "code",
      "source": [
        "# batch-size=128\n",
        "train_loader128 =  DataLoader(trainset, batch_size=128, shuffle=True, num_workers=2)\n",
        "test_loader128 =  DataLoader(testset, batch_size=128, shuffle=False, num_workers=2)\n",
        "\n",
        "# batch-size=64\n",
        "train_loader64 =  DataLoader(trainset, batch_size=64, shuffle=True, num_workers=2)\n",
        "test_loader64 =  DataLoader(testset, batch_size=64, shuffle=False, num_workers=2)"
      ],
      "metadata": {
        "id": "Dz-CJf0x0nne"
      },
      "execution_count": null,
      "outputs": []
    },
    {
      "cell_type": "code",
      "source": [
        "# 128 : batch-size\n",
        "# 1 : 흑백\n",
        "# 28x28 : pixel-size\n",
        "\n",
        "images128, labels128 = next(iter(train_loader128))\n",
        "images128.shape, labels128.shape"
      ],
      "metadata": {
        "id": "iy6D1Rg_07fD",
        "colab": {
          "base_uri": "https://localhost:8080/"
        },
        "outputId": "ab66f48c-1bc3-47a1-ea6f-13eeddd3fe18"
      },
      "execution_count": null,
      "outputs": [
        {
          "output_type": "execute_result",
          "data": {
            "text/plain": [
              "(torch.Size([128, 1, 28, 28]), torch.Size([128]))"
            ]
          },
          "metadata": {},
          "execution_count": 9
        }
      ]
    },
    {
      "cell_type": "code",
      "source": [
        "# 64 : batch-size : \n",
        "# 1 : 흑백\n",
        "# 28x28 : pixel-size\n",
        "\n",
        "images64, labels64 = next(iter(train_loader64))\n",
        "images64.shape, labels64.shape"
      ],
      "metadata": {
        "colab": {
          "base_uri": "https://localhost:8080/"
        },
        "id": "AotS6123m9sK",
        "outputId": "b05e91f5-19fc-44fa-8985-615654f6d049"
      },
      "execution_count": null,
      "outputs": [
        {
          "output_type": "execute_result",
          "data": {
            "text/plain": [
              "(torch.Size([64, 1, 28, 28]), torch.Size([64]))"
            ]
          },
          "metadata": {},
          "execution_count": 10
        }
      ]
    },
    {
      "cell_type": "code",
      "source": [
        "# 숫자 label에 해당되는 값\n",
        "\n",
        "labels_map = {\n",
        "    0: 'T-Shirt',\n",
        "    1: 'Trouser',\n",
        "    2: 'Pullover',\n",
        "    3: 'Dress',\n",
        "    4: 'Coat',\n",
        "    5: 'Sandal',\n",
        "    6: 'Shirt',\n",
        "    7: 'Sneaker',\n",
        "    8: 'Bag',\n",
        "    9: 'Ankle Boot'\n",
        "}"
      ],
      "metadata": {
        "id": "g4Nd4uLGTEDy"
      },
      "execution_count": null,
      "outputs": []
    },
    {
      "cell_type": "code",
      "source": [
        "# 데이터 확인\n",
        "\n",
        "figure = plt.figure(figsize=(12,12))\n",
        "cols, rows = 4, 1\n",
        "\n",
        "for i in range(1, cols * rows + 1):\n",
        "    image = images128[i].squeeze() #squeeze: 흑백차원을 없앤다\n",
        "    label_idx = labels128[i].item() # y_label\n",
        "    label = labels_map[label_idx] # 위에서 해당되는 label\n",
        "\n",
        "    figure.add_subplot(rows, cols, i)\n",
        "    plt.title(label)\n",
        "    plt.axis('off')\n",
        "    plt.imshow(image, cmap='gray') #흑백차원을 없앤 image를 회색으로 시각화\n",
        "\n",
        "plt.show()"
      ],
      "metadata": {
        "id": "_u5_UEAH09SB",
        "colab": {
          "base_uri": "https://localhost:8080/",
          "height": 191
        },
        "outputId": "dec33b62-33fd-4ce1-e2a7-24357b100377"
      },
      "execution_count": null,
      "outputs": [
        {
          "output_type": "display_data",
          "data": {
            "text/plain": [
              "<Figure size 864x864 with 4 Axes>"
            ],
            "image/png": "[encoded data removed]"
          },
          "metadata": {}
        }
      ]
    },
    {
      "cell_type": "markdown",
      "source": [
        "## 모델 1 생성\n",
        "* 10개의 convolution-layer(Conv2d)와 2개의 fully-connected(fc)로 이루어진 모델\n",
        "* Total params: 28,784"
      ],
      "metadata": {
        "id": "EFPYE3UUnpmX"
      }
    },
    {
      "cell_type": "markdown",
      "source": [
        "input-data size\n",
        "* train_loader128(batch-size;128) : 128, 1, 28, 28\n",
        "* train_loader64(batch-size;64) : 64, 1, 28, 28\n",
        "\n",
        "\n",
        "구현해야하는 모델 정보<br>\n",
        "* convolution-layer 1\n",
        "* maxpooling-layer\n",
        "* convolution-layer 2\n",
        "* convolution-layer 3\n",
        "* convolution-layer 4\n",
        "* convolution-layer 5\n",
        "* convolution-layer 6\n",
        "* convolution-layer 7\n",
        "* convolution-layer 8\n",
        "* convolution-layer 9\n",
        "* maxpooling-layer\n",
        "* convolution-layer 10\n",
        "* flatten\n",
        "* fc1\n",
        "* fc2\n",
        "\n",
        "추가 정보\n",
        "* 활성화함수 : relu\n",
        "(단, maxpooling과 마지막 fc2에는 보통적으로 활성화함수를 사용하지 않는다.)\n",
        "* flatten의 경우, weights가 들어가지 않는다. 즉, layer라고는 볼 수 없다.\n",
        "\n",
        "모델의 layer를 통과함에 따라 데이터의 크기 변화는 다음과 같다.\n",
        "1. batch-size128 -> torch.Size([128, 1, 28, 28]) 으로 시작\n",
        "2. batch-size;64 -> torch.Size([64, 1, 28, 28]) 으로 시작\n",
        "> * torch.Size([128 or 64, 5, 30, 30])\n",
        "> * torch.Size([128 or 64, 5, 15, 15])\n",
        "> * torch.Size([128 or 64, 7, 15, 15])\n",
        "> * torch.Size([128 or 64, 16, 16, 16])\n",
        "> * torch.Size([128 or 64, 19, 15, 15])\n",
        "> * torch.Size([128 or 64, 29, 13, 13])\n",
        "> * torch.Size([128 or 64, 29, 14, 14])\n",
        "> * torch.Size([128 or 64, 6, 12, 12])\n",
        "> * torch.Size([128 or 64, 2, 12, 12])\n",
        "> * torch.Size([128 or 64, 10, 7, 7])\n",
        "> * torch.Size([128 or 64, 20, 7, 7])\n",
        "> * torch.Size([128 or 64, 20, 3, 3])\n",
        "> * torch.Size([128 or 64, 180])\n",
        "> * torch.Size([128 or 64, 86])\n",
        "> * torch.Size([128 or 64, 10]) "
      ],
      "metadata": {
        "id": "orF-z9choFaB"
      }
    },
    {
      "cell_type": "code",
      "source": [
        "class CNN_Model1(nn.Module):\n",
        "    def __init__(self):\n",
        "        super(CNN_Model1, self).__init__()\n",
        "\n",
        "\n",
        "        self.conv1 = nn.Conv2d(in_channels=1, out_channels=5, kernel_size=3, stride=1, padding=2)\n",
        "        # in-channels = 1 <- 흑/백\n",
        "        # out-channels = 5\n",
        "        # kernel_size / filter-size = 2x2 -> f=3\n",
        "        # stride = 1(default) -> s=1\n",
        "        # padding = 2(default) -> p=2\n",
        "        # input-data pixel size = 28x28 -> n=28\n",
        "        # (n-f+2p)/s + 1 = new n\n",
        "        # (28-3+2x2)/1 + 1 = 30\n",
        "\n",
        "        self.conv2 = nn.Conv2d(5, 7, 3, padding=1)\n",
        "        # in-channels = 5 <- 이전것의 out-channels\n",
        "        # out-channels = 7\n",
        "        # filter-size = 3x3\n",
        "        # stride = 1(default)\n",
        "        # padding = 1\n",
        "        # (n-f+2p)/s + 1 = new n    \n",
        "        # (15-3+2x1)/1 + 1 = 15\n",
        "\n",
        "        self.conv3 = nn.Conv2d(in_channels=7, out_channels=16, kernel_size=2, stride=1, padding=1)\n",
        "        self.conv4 = nn.Conv2d(in_channels=16, out_channels=19, kernel_size=2, stride=1)\n",
        "        self.conv5 = nn.Conv2d(in_channels=19, out_channels=29, kernel_size=3, stride=1)\n",
        "        self.conv6 = nn.Conv2d(in_channels=29, out_channels=29, kernel_size=2, stride=1, padding=1)\n",
        "        self.conv7 = nn.Conv2d(in_channels=29, out_channels=6, kernel_size=3, stride=1)\n",
        "        self.conv8 = nn.Conv2d(in_channels=6, out_channels=2, kernel_size=1, stride=1)\n",
        "        self.conv9 = nn.Conv2d(in_channels=2, out_channels=10, kernel_size=2, stride=2, padding=1)\n",
        "        self.conv10 = nn.Conv2d(in_channels=10, out_channels=20, kernel_size=1, stride=1)\n",
        "\n",
        "        self.fc1 = nn.Linear(180, 86)\n",
        "        self.fc2 = nn.Linear(86, 10)\n",
        "\n",
        "\n",
        "    def forward(self, x):\n",
        "      # 데이터가 conv1을 지나갑니다.\n",
        "      x = self.conv1(x)\n",
        "      # x를 ReLU 활성함수(rectified-linear activation function)에 대입합니다.\n",
        "      x = F.relu(x)\n",
        "\n",
        "      x = F.max_pool2d(x, kernel_size=2, stride=2)\n",
        "\n",
        "      x = self.conv2(x)\n",
        "      x = F.relu(x)\n",
        "\n",
        "      x = self.conv3(x)\n",
        "      x = F.relu(x)\n",
        "\n",
        "      x = self.conv4(x)\n",
        "      x = F.relu(x)\n",
        "\n",
        "      x = self.conv5(x)\n",
        "      x = F.relu(x)\n",
        "\n",
        "      x = self.conv6(x)\n",
        "      x = F.relu(x)\n",
        "\n",
        "      x = self.conv7(x)\n",
        "      x = F.relu(x)\n",
        "\n",
        "      x = self.conv8(x)\n",
        "      x = F.relu(x)\n",
        "\n",
        "      x = self.conv9(x)\n",
        "      x = F.relu(x)\n",
        "\n",
        "      x = F.max_pool2d(x, kernel_size=3, stride=2)\n",
        "\n",
        "      x = self.conv10(x)\n",
        "      x = F.relu(x)\n",
        "\n",
        "      x = x.view(x.shape[0], -1) # Linear적용전에 flatten을 해준다.\n",
        "\n",
        "      x = self.fc1(x)\n",
        "      x = F.relu(x)\n",
        "\n",
        "      x = self.fc2(x)\n",
        "  \n",
        "      x = x.view(-1, self.num_flat_features(x)) # num_flat_features : 아래에서 정의\n",
        "\n",
        "      return x\n",
        "    \n",
        "    def num_flat_features(self, x): # 처음 dim-size을 제외하고, 모두 곱한 값을 반환해준다.\n",
        "        size = x.size()[1:]\n",
        "        num_features = 1\n",
        "        for s in size:\n",
        "            num_features *= s\n",
        "        \n",
        "        return num_features"
      ],
      "metadata": {
        "id": "EedVZU7Knv0X"
      },
      "execution_count": null,
      "outputs": []
    },
    {
      "cell_type": "code",
      "source": [
        "# 모델객체 생성\n",
        "DeepConv_net128 = CNN_Model1().to(device)\n",
        "DeepConv_net64 = CNN_Model1().to(device)\n",
        "\n",
        "print(DeepConv_net128)"
      ],
      "metadata": {
        "colab": {
          "base_uri": "https://localhost:8080/"
        },
        "id": "RiMZ7sX6oDn3",
        "outputId": "452e3160-3e13-4350-c1b0-205c3b5ba588"
      },
      "execution_count": null,
      "outputs": [
        {
          "output_type": "stream",
          "name": "stdout",
          "text": [
            "CNN_Model1(\n",
            "  (conv1): Conv2d(1, 5, kernel_size=(3, 3), stride=(1, 1), padding=(2, 2))\n",
            "  (conv2): Conv2d(5, 7, kernel_size=(3, 3), stride=(1, 1), padding=(1, 1))\n",
            "  (conv3): Conv2d(7, 16, kernel_size=(2, 2), stride=(1, 1), padding=(1, 1))\n",
            "  (conv4): Conv2d(16, 19, kernel_size=(2, 2), stride=(1, 1))\n",
            "  (conv5): Conv2d(19, 29, kernel_size=(3, 3), stride=(1, 1))\n",
            "  (conv6): Conv2d(29, 29, kernel_size=(2, 2), stride=(1, 1), padding=(1, 1))\n",
            "  (conv7): Conv2d(29, 6, kernel_size=(3, 3), stride=(1, 1))\n",
            "  (conv8): Conv2d(6, 2, kernel_size=(1, 1), stride=(1, 1))\n",
            "  (conv9): Conv2d(2, 10, kernel_size=(2, 2), stride=(2, 2), padding=(1, 1))\n",
            "  (conv10): Conv2d(10, 20, kernel_size=(1, 1), stride=(1, 1))\n",
            "  (fc1): Linear(in_features=180, out_features=86, bias=True)\n",
            "  (fc2): Linear(in_features=86, out_features=10, bias=True)\n",
            ")\n"
          ]
        }
      ]
    },
    {
      "cell_type": "code",
      "source": [
        "input = images128.to(device)\n",
        "input.size()"
      ],
      "metadata": {
        "colab": {
          "base_uri": "https://localhost:8080/"
        },
        "id": "8gBjDmoc7fJh",
        "outputId": "5f69cf92-4250-469e-93f3-6b42277179c5"
      },
      "execution_count": null,
      "outputs": [
        {
          "output_type": "execute_result",
          "data": {
            "text/plain": [
              "torch.Size([128, 1, 28, 28])"
            ]
          },
          "metadata": {},
          "execution_count": 45
        }
      ]
    },
    {
      "cell_type": "code",
      "source": [
        "output = DeepConv_net128.forward(input)\n",
        "output.size()"
      ],
      "metadata": {
        "colab": {
          "base_uri": "https://localhost:8080/"
        },
        "id": "tflPlTme7h9x",
        "outputId": "360fb5da-29db-4e71-f09f-55d5e22e54b5"
      },
      "execution_count": null,
      "outputs": [
        {
          "output_type": "execute_result",
          "data": {
            "text/plain": [
              "torch.Size([128, 10])"
            ]
          },
          "metadata": {},
          "execution_count": 46
        }
      ]
    },
    {
      "cell_type": "code",
      "source": [
        "summary(DeepConv_net128, input_size=(1, 28, 28), batch_size=128)"
      ],
      "metadata": {
        "colab": {
          "base_uri": "https://localhost:8080/"
        },
        "id": "DSH3qCADujAi",
        "outputId": "1cd49cc7-b5f8-49bf-fc87-82b370cb6751"
      },
      "execution_count": null,
      "outputs": [
        {
          "output_type": "stream",
          "name": "stdout",
          "text": [
            "----------------------------------------------------------------\n",
            "        Layer (type)               Output Shape         Param #\n",
            "================================================================\n",
            "            Conv2d-1           [128, 5, 30, 30]              50\n",
            "            Conv2d-2           [128, 7, 15, 15]             322\n",
            "            Conv2d-3          [128, 16, 16, 16]             464\n",
            "            Conv2d-4          [128, 19, 15, 15]           1,235\n",
            "            Conv2d-5          [128, 29, 13, 13]           4,988\n",
            "            Conv2d-6          [128, 29, 14, 14]           3,393\n",
            "            Conv2d-7           [128, 6, 12, 12]           1,572\n",
            "            Conv2d-8           [128, 2, 12, 12]              14\n",
            "            Conv2d-9            [128, 10, 7, 7]              90\n",
            "           Conv2d-10            [128, 20, 3, 3]             220\n",
            "           Linear-11                  [128, 86]          15,566\n",
            "           Linear-12                  [128, 10]             870\n",
            "================================================================\n",
            "Total params: 28,784\n",
            "Trainable params: 28,784\n",
            "Non-trainable params: 0\n",
            "----------------------------------------------------------------\n",
            "Input size (MB): 0.38\n",
            "Forward/backward pass size (MB): 26.32\n",
            "Params size (MB): 0.11\n",
            "Estimated Total Size (MB): 26.81\n",
            "----------------------------------------------------------------\n"
          ]
        }
      ]
    },
    {
      "cell_type": "code",
      "source": [
        "input = images64.to(device)\n",
        "input.size()"
      ],
      "metadata": {
        "colab": {
          "base_uri": "https://localhost:8080/"
        },
        "outputId": "03e2518a-c0ec-4e01-ac43-61fde5b5eddd",
        "id": "jcybKk5Nvj4Z"
      },
      "execution_count": null,
      "outputs": [
        {
          "output_type": "execute_result",
          "data": {
            "text/plain": [
              "torch.Size([64, 1, 28, 28])"
            ]
          },
          "metadata": {},
          "execution_count": 47
        }
      ]
    },
    {
      "cell_type": "code",
      "source": [
        "output = DeepConv_net64.forward(input)\n",
        "output.size()"
      ],
      "metadata": {
        "colab": {
          "base_uri": "https://localhost:8080/"
        },
        "outputId": "ad5a3ed9-ec15-4c82-eb61-9c2993a060b4",
        "id": "y2PZCHyyvj4a"
      },
      "execution_count": null,
      "outputs": [
        {
          "output_type": "execute_result",
          "data": {
            "text/plain": [
              "torch.Size([64, 10])"
            ]
          },
          "metadata": {},
          "execution_count": 48
        }
      ]
    },
    {
      "cell_type": "code",
      "source": [
        "summary(DeepConv_net64, input_size=(1, 28, 28), batch_size=64)"
      ],
      "metadata": {
        "colab": {
          "base_uri": "https://localhost:8080/"
        },
        "id": "uh1pmRXcvZP8",
        "outputId": "fe046f9c-128e-4a23-bf0f-d1303e668fd1"
      },
      "execution_count": null,
      "outputs": [
        {
          "output_type": "stream",
          "name": "stdout",
          "text": [
            "----------------------------------------------------------------\n",
            "        Layer (type)               Output Shape         Param #\n",
            "================================================================\n",
            "            Conv2d-1            [64, 5, 30, 30]              50\n",
            "            Conv2d-2            [64, 7, 15, 15]             322\n",
            "            Conv2d-3           [64, 16, 16, 16]             464\n",
            "            Conv2d-4           [64, 19, 15, 15]           1,235\n",
            "            Conv2d-5           [64, 29, 13, 13]           4,988\n",
            "            Conv2d-6           [64, 29, 14, 14]           3,393\n",
            "            Conv2d-7            [64, 6, 12, 12]           1,572\n",
            "            Conv2d-8            [64, 2, 12, 12]              14\n",
            "            Conv2d-9             [64, 10, 7, 7]              90\n",
            "           Conv2d-10             [64, 20, 3, 3]             220\n",
            "           Linear-11                   [64, 86]          15,566\n",
            "           Linear-12                   [64, 10]             870\n",
            "================================================================\n",
            "Total params: 28,784\n",
            "Trainable params: 28,784\n",
            "Non-trainable params: 0\n",
            "----------------------------------------------------------------\n",
            "Input size (MB): 0.19\n",
            "Forward/backward pass size (MB): 13.16\n",
            "Params size (MB): 0.11\n",
            "Estimated Total Size (MB): 13.46\n",
            "----------------------------------------------------------------\n"
          ]
        }
      ]
    },
    {
      "cell_type": "markdown",
      "source": [
        "## 모델 2 생성\n",
        "* 2개의 convolution-layer(Conv2d)와 5개의 fully-connected(fc)로 이루어진 모델\n",
        "* Total params: 9,516,488"
      ],
      "metadata": {
        "id": "xVxKI_rwCvhI"
      }
    },
    {
      "cell_type": "markdown",
      "source": [
        "input-data size\n",
        "* train_loader128(batch-size;128) : 128, 1, 28, 28\n",
        "* train_loader64(batch-size;64) : 64, 1, 28, 28\n",
        "\n",
        "\n",
        "구현해야하는 모델 정보<br>\n",
        "* convolution-layer 1\n",
        "* maxpooling-layer\n",
        "* convolution-layer 2\n",
        "* flatten\n",
        "* fc1\n",
        "* fc2\n",
        "* fc3\n",
        "* fc4\n",
        "* fc5\n",
        "\n",
        "추가 정보\n",
        "* 활성화함수 : relu\n",
        "(단, maxpooling과 마지막 fc5에는 보통적으로 활성화함수를 사용하지 않는다.)\n",
        "* flatten의 경우, weights가 들어가지 않는다. 즉, layer라고는 볼 수 없다.\n",
        "\n",
        "모델의 layer를 통과함에 따라 데이터의 크기 변화는 다음과 같다.\n",
        "\n",
        "1. batch-size128 -> torch.Size([128, 1, 28, 28]) 으로 시작\n",
        "2. batch-size;64 -> torch.Size([64, 1, 28, 28]) 으로 시작\n",
        "> * torch.Size([128 or 64, 5, 30, 30])\n",
        "> * torch.Size([128 or 64, 5, 15, 15])\n",
        "> * torch.Size([128 or 64, 7, 15, 15])\n",
        "> * torch.Size([128 or 64, 1575])\n",
        "> * torch.Size([128 or 64, 3000])\n",
        "> * torch.Size([128 or 64, 1500])\n",
        "> * torch.Size([128 or 64, 180])\n",
        "> * torch.Size([128 or 64, 86])\n",
        "> * torch.Size([128 or 64, 10])"
      ],
      "metadata": {
        "id": "uN5s0Re-CvhI"
      }
    },
    {
      "cell_type": "code",
      "source": [
        "class CNN_Model2(nn.Module):\n",
        "    def __init__(self):\n",
        "        super(CNN_Model2, self).__init__()\n",
        "\n",
        "        self.conv1 = nn.Conv2d(in_channels=1, out_channels=5, kernel_size=3, stride=1, padding=2)\n",
        "        self.conv2 = nn.Conv2d(5, 7, 3, padding=1)\n",
        "        \n",
        "        self.fc1 = nn.Linear(1575, 3000)\n",
        "        self.fc2 = nn.Linear(3000, 1500)\n",
        "        self.fc3 = nn.Linear(1500, 180)\n",
        "        self.fc4 = nn.Linear(180, 86)\n",
        "        self.fc5 = nn.Linear(86, 10)\n",
        "\n",
        "\n",
        "    def forward(self, x):\n",
        "        x = self.conv1(x)\n",
        "        x = F.relu(x)\n",
        "\n",
        "        x = F.max_pool2d(x, kernel_size=2, stride=2)\n",
        "\n",
        "        x = self.conv2(x)\n",
        "        x = F.relu(x)\n",
        "\n",
        "        x = x.view(x.shape[0], -1) # Linear적용전에 flatten을 해준다.\n",
        "\n",
        "        x = self.fc1(x)\n",
        "        x = F.relu(x)\n",
        "\n",
        "        x = self.fc2(x)\n",
        "        x = F.relu(x)\n",
        "\n",
        "        x = self.fc3(x)\n",
        "        x = F.relu(x)\n",
        "\n",
        "        x = self.fc4(x)\n",
        "        x = F.relu(x)\n",
        "\n",
        "        x = self.fc5(x)\n",
        "\n",
        "        return x\n",
        "    \n",
        "    def num_flat_features(self, x): # 처음 dim-size을 제외하고, 모두 곱한 값을 반환해준다.\n",
        "        size = x.size()[1:]\n",
        "        num_features = 1\n",
        "        for s in size:\n",
        "            num_features *= s\n",
        "        \n",
        "        return num_features"
      ],
      "metadata": {
        "id": "JfSM-k0DCvhI"
      },
      "execution_count": null,
      "outputs": []
    },
    {
      "cell_type": "code",
      "source": [
        "# 모델객체 생성\n",
        "DeepFC_net128 = CNN_Model2().to(device)\n",
        "DeepFC_net64 = CNN_Model2().to(device)\n",
        "\n",
        "print(DeepFC_net128)"
      ],
      "metadata": {
        "colab": {
          "base_uri": "https://localhost:8080/"
        },
        "outputId": "f6a7134f-041b-41dc-c9ce-37eeeae5f670",
        "id": "QQ_AnPi5CvhI"
      },
      "execution_count": null,
      "outputs": [
        {
          "output_type": "stream",
          "name": "stdout",
          "text": [
            "CNN_Model2(\n",
            "  (conv1): Conv2d(1, 5, kernel_size=(3, 3), stride=(1, 1), padding=(2, 2))\n",
            "  (conv2): Conv2d(5, 7, kernel_size=(3, 3), stride=(1, 1), padding=(1, 1))\n",
            "  (fc1): Linear(in_features=1575, out_features=3000, bias=True)\n",
            "  (fc2): Linear(in_features=3000, out_features=1500, bias=True)\n",
            "  (fc3): Linear(in_features=1500, out_features=180, bias=True)\n",
            "  (fc4): Linear(in_features=180, out_features=86, bias=True)\n",
            "  (fc5): Linear(in_features=86, out_features=10, bias=True)\n",
            ")\n"
          ]
        }
      ]
    },
    {
      "cell_type": "code",
      "source": [
        "input = images128.to(device)\n",
        "input.size()"
      ],
      "metadata": {
        "colab": {
          "base_uri": "https://localhost:8080/"
        },
        "outputId": "e2b44109-4b01-4804-9b58-b3dd041486c8",
        "id": "S9IVOG3pwgoS"
      },
      "execution_count": null,
      "outputs": [
        {
          "output_type": "execute_result",
          "data": {
            "text/plain": [
              "torch.Size([128, 1, 28, 28])"
            ]
          },
          "metadata": {},
          "execution_count": 53
        }
      ]
    },
    {
      "cell_type": "code",
      "source": [
        "output = DeepFC_net128.forward(input)\n",
        "output.size()"
      ],
      "metadata": {
        "colab": {
          "base_uri": "https://localhost:8080/"
        },
        "outputId": "add65947-7b29-4b3c-ef7d-dc565565a2bd",
        "id": "p4ydm5qCwgoT"
      },
      "execution_count": null,
      "outputs": [
        {
          "output_type": "execute_result",
          "data": {
            "text/plain": [
              "torch.Size([128, 10])"
            ]
          },
          "metadata": {},
          "execution_count": 54
        }
      ]
    },
    {
      "cell_type": "code",
      "source": [
        "summary(DeepFC_net128, input_size=(1, 28, 28), batch_size=128)"
      ],
      "metadata": {
        "colab": {
          "base_uri": "https://localhost:8080/"
        },
        "outputId": "e7fb85af-6e3b-476a-da47-c27117e1c2dd",
        "id": "Q3uN6Dw6wgoT"
      },
      "execution_count": null,
      "outputs": [
        {
          "output_type": "stream",
          "name": "stdout",
          "text": [
            "----------------------------------------------------------------\n",
            "        Layer (type)               Output Shape         Param #\n",
            "================================================================\n",
            "            Conv2d-1           [128, 5, 30, 30]              50\n",
            "            Conv2d-2           [128, 7, 15, 15]             322\n",
            "            Linear-3                [128, 3000]       4,728,000\n",
            "            Linear-4                [128, 1500]       4,501,500\n",
            "            Linear-5                 [128, 180]         270,180\n",
            "            Linear-6                  [128, 86]          15,566\n",
            "            Linear-7                  [128, 10]             870\n",
            "================================================================\n",
            "Total params: 9,516,488\n",
            "Trainable params: 9,516,488\n",
            "Non-trainable params: 0\n",
            "----------------------------------------------------------------\n",
            "Input size (MB): 0.38\n",
            "Forward/backward pass size (MB): 10.60\n",
            "Params size (MB): 36.30\n",
            "Estimated Total Size (MB): 47.28\n",
            "----------------------------------------------------------------\n"
          ]
        }
      ]
    },
    {
      "cell_type": "code",
      "source": [
        "input = images64.to(device)\n",
        "input.size()"
      ],
      "metadata": {
        "colab": {
          "base_uri": "https://localhost:8080/"
        },
        "outputId": "1ee8cbed-93c1-4232-b404-dc976512429b",
        "id": "d9t36x7bwgoT"
      },
      "execution_count": null,
      "outputs": [
        {
          "output_type": "execute_result",
          "data": {
            "text/plain": [
              "torch.Size([64, 1, 28, 28])"
            ]
          },
          "metadata": {},
          "execution_count": 56
        }
      ]
    },
    {
      "cell_type": "code",
      "source": [
        "output = DeepFC_net64.forward(input)\n",
        "output.size()"
      ],
      "metadata": {
        "id": "GFHweMakwgoT"
      },
      "execution_count": null,
      "outputs": []
    },
    {
      "cell_type": "code",
      "source": [
        "summary(DeepFC_net64, input_size=(1, 28, 28), batch_size=64)"
      ],
      "metadata": {
        "colab": {
          "base_uri": "https://localhost:8080/"
        },
        "outputId": "5ae86c11-51f6-46e3-fd95-a589d01ca68e",
        "id": "2VIZ4WCCwgoT"
      },
      "execution_count": null,
      "outputs": [
        {
          "output_type": "stream",
          "name": "stdout",
          "text": [
            "----------------------------------------------------------------\n",
            "        Layer (type)               Output Shape         Param #\n",
            "================================================================\n",
            "            Conv2d-1            [64, 5, 30, 30]              50\n",
            "            Conv2d-2            [64, 7, 15, 15]             322\n",
            "            Linear-3                 [64, 3000]       4,728,000\n",
            "            Linear-4                 [64, 1500]       4,501,500\n",
            "            Linear-5                  [64, 180]         270,180\n",
            "            Linear-6                   [64, 86]          15,566\n",
            "            Linear-7                   [64, 10]             870\n",
            "================================================================\n",
            "Total params: 9,516,488\n",
            "Trainable params: 9,516,488\n",
            "Non-trainable params: 0\n",
            "----------------------------------------------------------------\n",
            "Input size (MB): 0.19\n",
            "Forward/backward pass size (MB): 5.30\n",
            "Params size (MB): 36.30\n",
            "Estimated Total Size (MB): 41.79\n",
            "----------------------------------------------------------------\n"
          ]
        }
      ]
    },
    {
      "cell_type": "markdown",
      "source": [
        "## 손실함수와 옵티마이저"
      ],
      "metadata": {
        "id": "klpXGc2tCimP"
      }
    },
    {
      "cell_type": "code",
      "source": [
        "criterion = nn.CrossEntropyLoss()\n",
        "\n",
        "optimizerDC_128 = optim.SGD(DeepConv_net128.parameters(), lr=0.001, momentum=0.9)\n",
        "optimizerDC_64 = optim.SGD(DeepConv_net64.parameters(), lr=0.001, momentum=0.9)\n",
        "optimizerFC_128 = optim.SGD(DeepFC_net128.parameters(), lr=0.001, momentum=0.9)\n",
        "optimizerFC_64 = optim.SGD(DeepFC_net64.parameters(), lr=0.001, momentum=0.9)"
      ],
      "metadata": {
        "id": "69AHX-ZXClOm"
      },
      "execution_count": null,
      "outputs": []
    },
    {
      "cell_type": "markdown",
      "source": [
        "## 모델 학습"
      ],
      "metadata": {
        "id": "huNh3EnhJLyh"
      }
    },
    {
      "cell_type": "markdown",
      "source": [
        "### 1. DeepConv_net128\n",
        "* 10개의 Convolution-layer & 2개의 fc-layer\n",
        "* 128 batch-size"
      ],
      "metadata": {
        "id": "W-2Q7c6-JW9z"
      }
    },
    {
      "cell_type": "code",
      "source": [
        "for epoch in range(10):\n",
        "\n",
        "    running_loss = 0.0\n",
        "\n",
        "    for i, data in enumerate(train_loader128, start=0):\n",
        "        inputs, labels = data[0].to(device), data[1].to(device)\n",
        "\n",
        "        optimizerDC_128.zero_grad() # epoch마다 gradient 0으로 초기화\n",
        "\n",
        "        outputs = DeepConv_net128(inputs) # y_pred = f(X)\n",
        "        loss = criterion(outputs, labels) # CrossEntropyLoss; 0~1 사이값\n",
        "        loss.backward() # back-propagation; gradient 계산\n",
        "        optimizerDC_128.step() # parameters(weights) update\n",
        "\n",
        "        running_loss += loss.item() # 그냥 전체적인 비교를 위해 누적함\n",
        "\n",
        "        if i % 100 == 99: # 100번 마다 확인; epoch=10, iter(=i)=469, batch=128\n",
        "            print('Epoch: {}, Iter: {}, Loss: {}'.format(epoch+1, i+1, running_loss/2000))\n",
        "            running_loss = 0.0"
      ],
      "metadata": {
        "colab": {
          "base_uri": "https://localhost:8080/"
        },
        "id": "y-_UvdNWJR-r",
        "outputId": "68ec6932-dafb-4f13-c578-65fa97efe3eb"
      },
      "execution_count": null,
      "outputs": [
        {
          "output_type": "stream",
          "name": "stdout",
          "text": [
            "Epoch: 1, Iter: 100, Loss: 0.11516413974761963\n",
            "Epoch: 1, Iter: 200, Loss: 0.11517704594135285\n",
            "Epoch: 1, Iter: 300, Loss: 0.11515231490135193\n",
            "Epoch: 1, Iter: 400, Loss: 0.1151437097787857\n",
            "Epoch: 2, Iter: 100, Loss: 0.11515545070171357\n",
            "Epoch: 2, Iter: 200, Loss: 0.1151368625164032\n",
            "Epoch: 2, Iter: 300, Loss: 0.11513105428218842\n",
            "Epoch: 2, Iter: 400, Loss: 0.11512815535068512\n",
            "Epoch: 3, Iter: 100, Loss: 0.1151365213394165\n",
            "Epoch: 3, Iter: 200, Loss: 0.1151317857503891\n",
            "Epoch: 3, Iter: 300, Loss: 0.11513401567935944\n",
            "Epoch: 3, Iter: 400, Loss: 0.11513344705104828\n",
            "Epoch: 4, Iter: 100, Loss: 0.1151283552646637\n",
            "Epoch: 4, Iter: 200, Loss: 0.11513182687759399\n",
            "Epoch: 4, Iter: 300, Loss: 0.11513440537452697\n",
            "Epoch: 4, Iter: 400, Loss: 0.11513107359409332\n",
            "Epoch: 5, Iter: 100, Loss: 0.11512836742401122\n",
            "Epoch: 5, Iter: 200, Loss: 0.1151308091878891\n",
            "Epoch: 5, Iter: 300, Loss: 0.11513162314891816\n",
            "Epoch: 5, Iter: 400, Loss: 0.1151343879699707\n",
            "Epoch: 6, Iter: 100, Loss: 0.115129265666008\n",
            "Epoch: 6, Iter: 200, Loss: 0.11513246607780457\n",
            "Epoch: 6, Iter: 300, Loss: 0.11513131713867188\n",
            "Epoch: 6, Iter: 400, Loss: 0.11513257503509522\n",
            "Epoch: 7, Iter: 100, Loss: 0.1151315816640854\n",
            "Epoch: 7, Iter: 200, Loss: 0.11513093864917755\n",
            "Epoch: 7, Iter: 300, Loss: 0.11513185822963715\n",
            "Epoch: 7, Iter: 400, Loss: 0.11513122022151948\n",
            "Epoch: 8, Iter: 100, Loss: 0.11513064730167388\n",
            "Epoch: 8, Iter: 200, Loss: 0.11513179516792298\n",
            "Epoch: 8, Iter: 300, Loss: 0.11513180661201478\n",
            "Epoch: 8, Iter: 400, Loss: 0.11513145327568054\n",
            "Epoch: 9, Iter: 100, Loss: 0.11513134753704071\n",
            "Epoch: 9, Iter: 200, Loss: 0.11513245749473572\n",
            "Epoch: 9, Iter: 300, Loss: 0.11513071835041046\n",
            "Epoch: 9, Iter: 400, Loss: 0.11513176488876342\n",
            "Epoch: 10, Iter: 100, Loss: 0.11512935256958008\n",
            "Epoch: 10, Iter: 200, Loss: 0.11513181555271149\n",
            "Epoch: 10, Iter: 300, Loss: 0.11512869131565094\n",
            "Epoch: 10, Iter: 400, Loss: 0.11513452231884003\n"
          ]
        }
      ]
    },
    {
      "cell_type": "code",
      "source": [
        "for epoch in range(5):\n",
        "\n",
        "    running_loss = 0.0\n",
        "\n",
        "    for i, data in enumerate(train_loader128, start=0):\n",
        "        inputs, labels = data[0].to(device), data[1].to(device)\n",
        "\n",
        "        optimizerDC_128.zero_grad() # epoch마다 gradient 0으로 초기화\n",
        "\n",
        "        outputs = DeepConv_net128(inputs) # y_pred = f(X)\n",
        "        loss = criterion(outputs, labels) # CrossEntropyLoss; 0~1 사이값\n",
        "        loss.backward() # back-propagation; gradient 계산\n",
        "        optimizerDC_128.step() # parameters(weights) update\n",
        "\n",
        "        running_loss += loss.item() # 그냥 전체적인 비교를 위해 누적함\n",
        "\n",
        "        if i % 100 == 99: # 100번 마다 확인; epoch=10, iter(=i)=469, batch=128\n",
        "            print('Epoch: {}, Iter: {}, Loss: {}'.format(epoch+1, i+1, running_loss/2000))\n",
        "            running_loss = 0.0"
      ],
      "metadata": {
        "colab": {
          "base_uri": "https://localhost:8080/"
        },
        "id": "dNa8-7SC5u2a",
        "outputId": "4c798e1c-af69-46e8-dfb6-7fe3c4cf8020"
      },
      "execution_count": null,
      "outputs": [
        {
          "output_type": "stream",
          "name": "stdout",
          "text": [
            "Epoch: 1, Iter: 100, Loss: 0.11513062512874603\n",
            "Epoch: 1, Iter: 200, Loss: 0.11512958586215973\n",
            "Epoch: 1, Iter: 300, Loss: 0.11513410818576812\n",
            "Epoch: 1, Iter: 400, Loss: 0.11513170647621154\n",
            "Epoch: 2, Iter: 100, Loss: 0.11513063108921051\n",
            "Epoch: 2, Iter: 200, Loss: 0.11513061451911927\n",
            "Epoch: 2, Iter: 300, Loss: 0.1151320812702179\n",
            "Epoch: 2, Iter: 400, Loss: 0.11513225758075714\n",
            "Epoch: 3, Iter: 100, Loss: 0.11513030624389649\n",
            "Epoch: 3, Iter: 200, Loss: 0.11512928187847138\n",
            "Epoch: 3, Iter: 300, Loss: 0.11513432478904724\n",
            "Epoch: 3, Iter: 400, Loss: 0.11513169825077058\n",
            "Epoch: 4, Iter: 100, Loss: 0.11512754309177399\n",
            "Epoch: 4, Iter: 200, Loss: 0.11513170742988586\n",
            "Epoch: 4, Iter: 300, Loss: 0.11513228261470795\n",
            "Epoch: 4, Iter: 400, Loss: 0.11513312435150147\n",
            "Epoch: 5, Iter: 100, Loss: 0.1151303848028183\n",
            "Epoch: 5, Iter: 200, Loss: 0.11512850546836853\n",
            "Epoch: 5, Iter: 300, Loss: 0.11513362538814545\n",
            "Epoch: 5, Iter: 400, Loss: 0.11513367640972137\n"
          ]
        }
      ]
    },
    {
      "cell_type": "markdown",
      "source": [
        "### 2. DeepConv_net64\n",
        "* 10개의 Convolution-layer & 2개의 fc-layer\n",
        "* 64 batch-size"
      ],
      "metadata": {
        "id": "FOUBE2UfKS6D"
      }
    },
    {
      "cell_type": "code",
      "source": [
        "for epoch in range(10):\n",
        "\n",
        "    running_loss = 0.0\n",
        "\n",
        "    for i, data in enumerate(train_loader64, start=0):\n",
        "        inputs, labels = data[0].to(device), data[1].to(device)\n",
        "\n",
        "        optimizerDC_64.zero_grad() # epoch마다 gradient 0으로 초기화\n",
        "\n",
        "        outputs = DeepConv_net64(inputs) # y_pred = f(X)\n",
        "        loss = criterion(outputs, labels) # CrossEntropyLoss; 0~1 사이값\n",
        "        loss.backward() # back-propagation; gradient 계산\n",
        "        optimizerDC_64.step() # parameters(weights) update\n",
        "\n",
        "        running_loss += loss.item() # 그냥 전체적인 비교를 위해 누적함\n",
        "\n",
        "        if i % 100 == 99: # 100번 마다 확인; epoch=10, iter(=i)=469, batch=64\n",
        "            print('Epoch: {}, Iter: {}, Loss: {}'.format(epoch+1, i+1, running_loss/2000))\n",
        "            running_loss = 0.0"
      ],
      "metadata": {
        "colab": {
          "base_uri": "https://localhost:8080/"
        },
        "id": "Q1znQlsWKS6D",
        "outputId": "fd74107b-a0ea-4917-f9a6-87826edfac96"
      },
      "execution_count": null,
      "outputs": [
        {
          "output_type": "stream",
          "name": "stdout",
          "text": [
            "Epoch: 1, Iter: 100, Loss: 0.11529894244670869\n",
            "Epoch: 1, Iter: 200, Loss: 0.1152126933336258\n",
            "Epoch: 1, Iter: 300, Loss: 0.11517653036117553\n",
            "Epoch: 1, Iter: 400, Loss: 0.11513693070411682\n",
            "Epoch: 1, Iter: 500, Loss: 0.1151366764307022\n",
            "Epoch: 1, Iter: 600, Loss: 0.11516397559642792\n",
            "Epoch: 1, Iter: 700, Loss: 0.11515087378025055\n",
            "Epoch: 1, Iter: 800, Loss: 0.11515092420578003\n",
            "Epoch: 1, Iter: 900, Loss: 0.1151301531791687\n",
            "Epoch: 2, Iter: 100, Loss: 0.11513679683208465\n",
            "Epoch: 2, Iter: 200, Loss: 0.11513052749633788\n",
            "Epoch: 2, Iter: 300, Loss: 0.11513195598125457\n",
            "Epoch: 2, Iter: 400, Loss: 0.11514296197891236\n",
            "Epoch: 2, Iter: 500, Loss: 0.11513429284095764\n",
            "Epoch: 2, Iter: 600, Loss: 0.11513255774974823\n",
            "Epoch: 2, Iter: 700, Loss: 0.11514078152179719\n",
            "Epoch: 2, Iter: 800, Loss: 0.11513621509075164\n",
            "Epoch: 2, Iter: 900, Loss: 0.11513982522487641\n",
            "Epoch: 3, Iter: 100, Loss: 0.11513449001312256\n",
            "Epoch: 3, Iter: 200, Loss: 0.11513463866710663\n",
            "Epoch: 3, Iter: 300, Loss: 0.11513757848739624\n",
            "Epoch: 3, Iter: 400, Loss: 0.11512793397903442\n",
            "Epoch: 3, Iter: 500, Loss: 0.1151447229385376\n",
            "Epoch: 3, Iter: 600, Loss: 0.11513749027252197\n",
            "Epoch: 3, Iter: 700, Loss: 0.1151337834596634\n",
            "Epoch: 3, Iter: 800, Loss: 0.11512771463394166\n",
            "Epoch: 3, Iter: 900, Loss: 0.11514622938632965\n",
            "Epoch: 4, Iter: 100, Loss: 0.1151300038099289\n",
            "Epoch: 4, Iter: 200, Loss: 0.11513914656639099\n",
            "Epoch: 4, Iter: 300, Loss: 0.115134805560112\n",
            "Epoch: 4, Iter: 400, Loss: 0.11513621163368225\n",
            "Epoch: 4, Iter: 500, Loss: 0.11513162159919739\n",
            "Epoch: 4, Iter: 600, Loss: 0.11514384484291076\n",
            "Epoch: 4, Iter: 700, Loss: 0.11513537704944611\n",
            "Epoch: 4, Iter: 800, Loss: 0.11513842654228211\n",
            "Epoch: 4, Iter: 900, Loss: 0.11513613116741181\n",
            "Epoch: 5, Iter: 100, Loss: 0.11512551188468934\n",
            "Epoch: 5, Iter: 200, Loss: 0.11513041758537293\n",
            "Epoch: 5, Iter: 300, Loss: 0.11514283645153045\n",
            "Epoch: 5, Iter: 400, Loss: 0.1151291366815567\n",
            "Epoch: 5, Iter: 500, Loss: 0.11514147019386292\n",
            "Epoch: 5, Iter: 600, Loss: 0.11513215446472168\n",
            "Epoch: 5, Iter: 700, Loss: 0.11513956034183502\n",
            "Epoch: 5, Iter: 800, Loss: 0.11513655602931977\n",
            "Epoch: 5, Iter: 900, Loss: 0.11513978898525239\n",
            "Epoch: 6, Iter: 100, Loss: 0.11513055717945099\n",
            "Epoch: 6, Iter: 200, Loss: 0.11513131320476531\n",
            "Epoch: 6, Iter: 300, Loss: 0.11514317452907562\n",
            "Epoch: 6, Iter: 400, Loss: 0.11513575148582458\n",
            "Epoch: 6, Iter: 500, Loss: 0.11513443720340728\n",
            "Epoch: 6, Iter: 600, Loss: 0.11513697564601898\n",
            "Epoch: 6, Iter: 700, Loss: 0.11513653028011323\n",
            "Epoch: 6, Iter: 800, Loss: 0.11513854265213012\n",
            "Epoch: 6, Iter: 900, Loss: 0.1151406387090683\n",
            "Epoch: 7, Iter: 100, Loss: 0.1151311365365982\n",
            "Epoch: 7, Iter: 200, Loss: 0.11512523853778839\n",
            "Epoch: 7, Iter: 300, Loss: 0.11514467632770538\n",
            "Epoch: 7, Iter: 400, Loss: 0.11513841164112092\n",
            "Epoch: 7, Iter: 500, Loss: 0.11513782393932342\n",
            "Epoch: 7, Iter: 600, Loss: 0.11513504993915558\n",
            "Epoch: 7, Iter: 700, Loss: 0.11513555037975311\n",
            "Epoch: 7, Iter: 800, Loss: 0.1151403796672821\n",
            "Epoch: 7, Iter: 900, Loss: 0.1151356235742569\n",
            "Epoch: 8, Iter: 100, Loss: 0.11513612020015716\n",
            "Epoch: 8, Iter: 200, Loss: 0.11512917315959931\n",
            "Epoch: 8, Iter: 300, Loss: 0.11513566529750824\n",
            "Epoch: 8, Iter: 400, Loss: 0.11513689410686492\n",
            "Epoch: 8, Iter: 500, Loss: 0.11513554334640502\n",
            "Epoch: 8, Iter: 600, Loss: 0.11514073455333709\n",
            "Epoch: 8, Iter: 700, Loss: 0.11513225889205933\n",
            "Epoch: 8, Iter: 800, Loss: 0.11513612759113312\n",
            "Epoch: 8, Iter: 900, Loss: 0.11513341069221497\n",
            "Epoch: 9, Iter: 100, Loss: 0.1151287842988968\n",
            "Epoch: 9, Iter: 200, Loss: 0.11513451898097991\n",
            "Epoch: 9, Iter: 300, Loss: 0.11513682055473327\n",
            "Epoch: 9, Iter: 400, Loss: 0.11513724970817565\n",
            "Epoch: 9, Iter: 500, Loss: 0.1151334217786789\n",
            "Epoch: 9, Iter: 600, Loss: 0.11513829040527344\n",
            "Epoch: 9, Iter: 700, Loss: 0.11514116954803467\n",
            "Epoch: 9, Iter: 800, Loss: 0.1151313658952713\n",
            "Epoch: 9, Iter: 900, Loss: 0.11514230096340179\n",
            "Epoch: 10, Iter: 100, Loss: 0.11513108479976654\n",
            "Epoch: 10, Iter: 200, Loss: 0.11513247859477997\n",
            "Epoch: 10, Iter: 300, Loss: 0.11513524508476257\n",
            "Epoch: 10, Iter: 400, Loss: 0.11513713264465332\n",
            "Epoch: 10, Iter: 500, Loss: 0.11513420188426972\n",
            "Epoch: 10, Iter: 600, Loss: 0.11513482010364533\n",
            "Epoch: 10, Iter: 700, Loss: 0.11513915467262269\n",
            "Epoch: 10, Iter: 800, Loss: 0.11513546526432038\n",
            "Epoch: 10, Iter: 900, Loss: 0.11514029002189637\n"
          ]
        }
      ]
    },
    {
      "cell_type": "markdown",
      "source": [
        "### 3. DeepFC_net128\n",
        "* 2개의 Convolution-layer & 5개의 fc-layer\n",
        "* 128 batch-size"
      ],
      "metadata": {
        "id": "LaVvtEOvKUgJ"
      }
    },
    {
      "cell_type": "code",
      "source": [
        "for epoch in range(10):\n",
        "\n",
        "    running_loss = 0.0\n",
        "\n",
        "    for i, data in enumerate(train_loader128, start=0):\n",
        "        inputs, labels = data[0].to(device), data[1].to(device)\n",
        "\n",
        "        optimizerFC_128.zero_grad() # epoch마다 gradient 0으로 초기화\n",
        "\n",
        "        outputs = DeepFC_net128(inputs) # y_pred = f(X)\n",
        "        loss = criterion(outputs, labels) # CrossEntropyLoss; 0~1 사이값\n",
        "        loss.backward() # back-propagation; gradient 계산\n",
        "        optimizerFC_128.step() # parameters(weights) update\n",
        "\n",
        "        running_loss += loss.item() # 그냥 전체적인 비교를 위해 누적함\n",
        "\n",
        "        if i % 100 == 99: # 100번 마다 확인; epoch=10, iter(=i)=469, batch=128\n",
        "            print('Epoch: {}, Iter: {}, Loss: {}'.format(epoch+1, i+1, running_loss/2000))\n",
        "            running_loss = 0.0"
      ],
      "metadata": {
        "colab": {
          "base_uri": "https://localhost:8080/",
          "height": 416
        },
        "id": "Dwh9TK_1KUgK",
        "outputId": "4e6130c2-f6c4-4046-eb67-e0a2c108182a"
      },
      "execution_count": null,
      "outputs": [
        {
          "output_type": "stream",
          "name": "stdout",
          "text": [
            "Epoch: 1, Iter: 100, Loss: 0.01656702657043934\n",
            "Epoch: 1, Iter: 200, Loss: 0.0170785478875041\n"
          ]
        },
        {
          "output_type": "error",
          "ename": "KeyboardInterrupt",
          "evalue": "ignored",
          "traceback": [
            "\u001b[0;31m---------------------------------------------------------------------------\u001b[0m",
            "\u001b[0;31mKeyboardInterrupt\u001b[0m                         Traceback (most recent call last)",
            "\u001b[0;32m<ipython-input-394-40c0f2915744>\u001b[0m in \u001b[0;36m<module>\u001b[0;34m\u001b[0m\n\u001b[1;32m      3\u001b[0m     \u001b[0mrunning_loss\u001b[0m \u001b[0;34m=\u001b[0m \u001b[0;36m0.0\u001b[0m\u001b[0;34m\u001b[0m\u001b[0;34m\u001b[0m\u001b[0m\n\u001b[1;32m      4\u001b[0m \u001b[0;34m\u001b[0m\u001b[0m\n\u001b[0;32m----> 5\u001b[0;31m     \u001b[0;32mfor\u001b[0m \u001b[0mi\u001b[0m\u001b[0;34m,\u001b[0m \u001b[0mdata\u001b[0m \u001b[0;32min\u001b[0m \u001b[0menumerate\u001b[0m\u001b[0;34m(\u001b[0m\u001b[0mtrain_loader128\u001b[0m\u001b[0;34m,\u001b[0m \u001b[0mstart\u001b[0m\u001b[0;34m=\u001b[0m\u001b[0;36m0\u001b[0m\u001b[0;34m)\u001b[0m\u001b[0;34m:\u001b[0m\u001b[0;34m\u001b[0m\u001b[0;34m\u001b[0m\u001b[0m\n\u001b[0m\u001b[1;32m      6\u001b[0m         \u001b[0minputs\u001b[0m\u001b[0;34m,\u001b[0m \u001b[0mlabels\u001b[0m \u001b[0;34m=\u001b[0m \u001b[0mdata\u001b[0m\u001b[0;34m[\u001b[0m\u001b[0;36m0\u001b[0m\u001b[0;34m]\u001b[0m\u001b[0;34m.\u001b[0m\u001b[0mto\u001b[0m\u001b[0;34m(\u001b[0m\u001b[0mdevice\u001b[0m\u001b[0;34m)\u001b[0m\u001b[0;34m,\u001b[0m \u001b[0mdata\u001b[0m\u001b[0;34m[\u001b[0m\u001b[0;36m1\u001b[0m\u001b[0;34m]\u001b[0m\u001b[0;34m.\u001b[0m\u001b[0mto\u001b[0m\u001b[0;34m(\u001b[0m\u001b[0mdevice\u001b[0m\u001b[0;34m)\u001b[0m\u001b[0;34m\u001b[0m\u001b[0;34m\u001b[0m\u001b[0m\n\u001b[1;32m      7\u001b[0m \u001b[0;34m\u001b[0m\u001b[0m\n",
            "\u001b[0;32m/usr/local/lib/python3.8/dist-packages/torch/utils/data/dataloader.py\u001b[0m in \u001b[0;36m__next__\u001b[0;34m(self)\u001b[0m\n\u001b[1;32m    626\u001b[0m                 \u001b[0;31m# TODO(https://github.com/pytorch/pytorch/issues/76750)\u001b[0m\u001b[0;34m\u001b[0m\u001b[0;34m\u001b[0m\u001b[0;34m\u001b[0m\u001b[0m\n\u001b[1;32m    627\u001b[0m                 \u001b[0mself\u001b[0m\u001b[0;34m.\u001b[0m\u001b[0m_reset\u001b[0m\u001b[0;34m(\u001b[0m\u001b[0;34m)\u001b[0m  \u001b[0;31m# type: ignore[call-arg]\u001b[0m\u001b[0;34m\u001b[0m\u001b[0;34m\u001b[0m\u001b[0m\n\u001b[0;32m--> 628\u001b[0;31m             \u001b[0mdata\u001b[0m \u001b[0;34m=\u001b[0m \u001b[0mself\u001b[0m\u001b[0;34m.\u001b[0m\u001b[0m_next_data\u001b[0m\u001b[0;34m(\u001b[0m\u001b[0;34m)\u001b[0m\u001b[0;34m\u001b[0m\u001b[0;34m\u001b[0m\u001b[0m\n\u001b[0m\u001b[1;32m    629\u001b[0m             \u001b[0mself\u001b[0m\u001b[0;34m.\u001b[0m\u001b[0m_num_yielded\u001b[0m \u001b[0;34m+=\u001b[0m \u001b[0;36m1\u001b[0m\u001b[0;34m\u001b[0m\u001b[0;34m\u001b[0m\u001b[0m\n\u001b[1;32m    630\u001b[0m             \u001b[0;32mif\u001b[0m \u001b[0mself\u001b[0m\u001b[0;34m.\u001b[0m\u001b[0m_dataset_kind\u001b[0m \u001b[0;34m==\u001b[0m \u001b[0m_DatasetKind\u001b[0m\u001b[0;34m.\u001b[0m\u001b[0mIterable\u001b[0m \u001b[0;32mand\u001b[0m\u001b[0;31m \u001b[0m\u001b[0;31m\\\u001b[0m\u001b[0;34m\u001b[0m\u001b[0;34m\u001b[0m\u001b[0m\n",
            "\u001b[0;32m/usr/local/lib/python3.8/dist-packages/torch/utils/data/dataloader.py\u001b[0m in \u001b[0;36m_next_data\u001b[0;34m(self)\u001b[0m\n\u001b[1;32m   1314\u001b[0m \u001b[0;34m\u001b[0m\u001b[0m\n\u001b[1;32m   1315\u001b[0m             \u001b[0;32massert\u001b[0m \u001b[0;32mnot\u001b[0m \u001b[0mself\u001b[0m\u001b[0;34m.\u001b[0m\u001b[0m_shutdown\u001b[0m \u001b[0;32mand\u001b[0m \u001b[0mself\u001b[0m\u001b[0;34m.\u001b[0m\u001b[0m_tasks_outstanding\u001b[0m \u001b[0;34m>\u001b[0m \u001b[0;36m0\u001b[0m\u001b[0;34m\u001b[0m\u001b[0;34m\u001b[0m\u001b[0m\n\u001b[0;32m-> 1316\u001b[0;31m             \u001b[0midx\u001b[0m\u001b[0;34m,\u001b[0m \u001b[0mdata\u001b[0m \u001b[0;34m=\u001b[0m \u001b[0mself\u001b[0m\u001b[0;34m.\u001b[0m\u001b[0m_get_data\u001b[0m\u001b[0;34m(\u001b[0m\u001b[0;34m)\u001b[0m\u001b[0;34m\u001b[0m\u001b[0;34m\u001b[0m\u001b[0m\n\u001b[0m\u001b[1;32m   1317\u001b[0m             \u001b[0mself\u001b[0m\u001b[0;34m.\u001b[0m\u001b[0m_tasks_outstanding\u001b[0m \u001b[0;34m-=\u001b[0m \u001b[0;36m1\u001b[0m\u001b[0;34m\u001b[0m\u001b[0;34m\u001b[0m\u001b[0m\n\u001b[1;32m   1318\u001b[0m             \u001b[0;32mif\u001b[0m \u001b[0mself\u001b[0m\u001b[0;34m.\u001b[0m\u001b[0m_dataset_kind\u001b[0m \u001b[0;34m==\u001b[0m \u001b[0m_DatasetKind\u001b[0m\u001b[0;34m.\u001b[0m\u001b[0mIterable\u001b[0m\u001b[0;34m:\u001b[0m\u001b[0;34m\u001b[0m\u001b[0;34m\u001b[0m\u001b[0m\n",
            "\u001b[0;32m/usr/local/lib/python3.8/dist-packages/torch/utils/data/dataloader.py\u001b[0m in \u001b[0;36m_get_data\u001b[0;34m(self)\u001b[0m\n\u001b[1;32m   1280\u001b[0m         \u001b[0;32melse\u001b[0m\u001b[0;34m:\u001b[0m\u001b[0;34m\u001b[0m\u001b[0;34m\u001b[0m\u001b[0m\n\u001b[1;32m   1281\u001b[0m             \u001b[0;32mwhile\u001b[0m \u001b[0;32mTrue\u001b[0m\u001b[0;34m:\u001b[0m\u001b[0;34m\u001b[0m\u001b[0;34m\u001b[0m\u001b[0m\n\u001b[0;32m-> 1282\u001b[0;31m                 \u001b[0msuccess\u001b[0m\u001b[0;34m,\u001b[0m \u001b[0mdata\u001b[0m \u001b[0;34m=\u001b[0m \u001b[0mself\u001b[0m\u001b[0;34m.\u001b[0m\u001b[0m_try_get_data\u001b[0m\u001b[0;34m(\u001b[0m\u001b[0;34m)\u001b[0m\u001b[0;34m\u001b[0m\u001b[0;34m\u001b[0m\u001b[0m\n\u001b[0m\u001b[1;32m   1283\u001b[0m                 \u001b[0;32mif\u001b[0m \u001b[0msuccess\u001b[0m\u001b[0;34m:\u001b[0m\u001b[0;34m\u001b[0m\u001b[0;34m\u001b[0m\u001b[0m\n\u001b[1;32m   1284\u001b[0m                     \u001b[0;32mreturn\u001b[0m \u001b[0mdata\u001b[0m\u001b[0;34m\u001b[0m\u001b[0;34m\u001b[0m\u001b[0m\n",
            "\u001b[0;32m/usr/local/lib/python3.8/dist-packages/torch/utils/data/dataloader.py\u001b[0m in \u001b[0;36m_try_get_data\u001b[0;34m(self, timeout)\u001b[0m\n\u001b[1;32m   1118\u001b[0m         \u001b[0;31m#   (bool: whether successfully get data, any: data if successful else None)\u001b[0m\u001b[0;34m\u001b[0m\u001b[0;34m\u001b[0m\u001b[0;34m\u001b[0m\u001b[0m\n\u001b[1;32m   1119\u001b[0m         \u001b[0;32mtry\u001b[0m\u001b[0;34m:\u001b[0m\u001b[0;34m\u001b[0m\u001b[0;34m\u001b[0m\u001b[0m\n\u001b[0;32m-> 1120\u001b[0;31m             \u001b[0mdata\u001b[0m \u001b[0;34m=\u001b[0m \u001b[0mself\u001b[0m\u001b[0;34m.\u001b[0m\u001b[0m_data_queue\u001b[0m\u001b[0;34m.\u001b[0m\u001b[0mget\u001b[0m\u001b[0;34m(\u001b[0m\u001b[0mtimeout\u001b[0m\u001b[0;34m=\u001b[0m\u001b[0mtimeout\u001b[0m\u001b[0;34m)\u001b[0m\u001b[0;34m\u001b[0m\u001b[0;34m\u001b[0m\u001b[0m\n\u001b[0m\u001b[1;32m   1121\u001b[0m             \u001b[0;32mreturn\u001b[0m \u001b[0;34m(\u001b[0m\u001b[0;32mTrue\u001b[0m\u001b[0;34m,\u001b[0m \u001b[0mdata\u001b[0m\u001b[0;34m)\u001b[0m\u001b[0;34m\u001b[0m\u001b[0;34m\u001b[0m\u001b[0m\n\u001b[1;32m   1122\u001b[0m         \u001b[0;32mexcept\u001b[0m \u001b[0mException\u001b[0m \u001b[0;32mas\u001b[0m \u001b[0me\u001b[0m\u001b[0;34m:\u001b[0m\u001b[0;34m\u001b[0m\u001b[0;34m\u001b[0m\u001b[0m\n",
            "\u001b[0;32m/usr/lib/python3.8/multiprocessing/queues.py\u001b[0m in \u001b[0;36mget\u001b[0;34m(self, block, timeout)\u001b[0m\n\u001b[1;32m    105\u001b[0m                 \u001b[0;32mif\u001b[0m \u001b[0mblock\u001b[0m\u001b[0;34m:\u001b[0m\u001b[0;34m\u001b[0m\u001b[0;34m\u001b[0m\u001b[0m\n\u001b[1;32m    106\u001b[0m                     \u001b[0mtimeout\u001b[0m \u001b[0;34m=\u001b[0m \u001b[0mdeadline\u001b[0m \u001b[0;34m-\u001b[0m \u001b[0mtime\u001b[0m\u001b[0;34m.\u001b[0m\u001b[0mmonotonic\u001b[0m\u001b[0;34m(\u001b[0m\u001b[0;34m)\u001b[0m\u001b[0;34m\u001b[0m\u001b[0;34m\u001b[0m\u001b[0m\n\u001b[0;32m--> 107\u001b[0;31m                     \u001b[0;32mif\u001b[0m \u001b[0;32mnot\u001b[0m \u001b[0mself\u001b[0m\u001b[0;34m.\u001b[0m\u001b[0m_poll\u001b[0m\u001b[0;34m(\u001b[0m\u001b[0mtimeout\u001b[0m\u001b[0;34m)\u001b[0m\u001b[0;34m:\u001b[0m\u001b[0;34m\u001b[0m\u001b[0;34m\u001b[0m\u001b[0m\n\u001b[0m\u001b[1;32m    108\u001b[0m                         \u001b[0;32mraise\u001b[0m \u001b[0mEmpty\u001b[0m\u001b[0;34m\u001b[0m\u001b[0;34m\u001b[0m\u001b[0m\n\u001b[1;32m    109\u001b[0m                 \u001b[0;32melif\u001b[0m \u001b[0;32mnot\u001b[0m \u001b[0mself\u001b[0m\u001b[0;34m.\u001b[0m\u001b[0m_poll\u001b[0m\u001b[0;34m(\u001b[0m\u001b[0;34m)\u001b[0m\u001b[0;34m:\u001b[0m\u001b[0;34m\u001b[0m\u001b[0;34m\u001b[0m\u001b[0m\n",
            "\u001b[0;32m/usr/lib/python3.8/multiprocessing/connection.py\u001b[0m in \u001b[0;36mpoll\u001b[0;34m(self, timeout)\u001b[0m\n\u001b[1;32m    255\u001b[0m         \u001b[0mself\u001b[0m\u001b[0;34m.\u001b[0m\u001b[0m_check_closed\u001b[0m\u001b[0;34m(\u001b[0m\u001b[0;34m)\u001b[0m\u001b[0;34m\u001b[0m\u001b[0;34m\u001b[0m\u001b[0m\n\u001b[1;32m    256\u001b[0m         \u001b[0mself\u001b[0m\u001b[0;34m.\u001b[0m\u001b[0m_check_readable\u001b[0m\u001b[0;34m(\u001b[0m\u001b[0;34m)\u001b[0m\u001b[0;34m\u001b[0m\u001b[0;34m\u001b[0m\u001b[0m\n\u001b[0;32m--> 257\u001b[0;31m         \u001b[0;32mreturn\u001b[0m \u001b[0mself\u001b[0m\u001b[0;34m.\u001b[0m\u001b[0m_poll\u001b[0m\u001b[0;34m(\u001b[0m\u001b[0mtimeout\u001b[0m\u001b[0;34m)\u001b[0m\u001b[0;34m\u001b[0m\u001b[0;34m\u001b[0m\u001b[0m\n\u001b[0m\u001b[1;32m    258\u001b[0m \u001b[0;34m\u001b[0m\u001b[0m\n\u001b[1;32m    259\u001b[0m     \u001b[0;32mdef\u001b[0m \u001b[0m__enter__\u001b[0m\u001b[0;34m(\u001b[0m\u001b[0mself\u001b[0m\u001b[0;34m)\u001b[0m\u001b[0;34m:\u001b[0m\u001b[0;34m\u001b[0m\u001b[0;34m\u001b[0m\u001b[0m\n",
            "\u001b[0;32m/usr/lib/python3.8/multiprocessing/connection.py\u001b[0m in \u001b[0;36m_poll\u001b[0;34m(self, timeout)\u001b[0m\n\u001b[1;32m    422\u001b[0m \u001b[0;34m\u001b[0m\u001b[0m\n\u001b[1;32m    423\u001b[0m     \u001b[0;32mdef\u001b[0m \u001b[0m_poll\u001b[0m\u001b[0;34m(\u001b[0m\u001b[0mself\u001b[0m\u001b[0;34m,\u001b[0m \u001b[0mtimeout\u001b[0m\u001b[0;34m)\u001b[0m\u001b[0;34m:\u001b[0m\u001b[0;34m\u001b[0m\u001b[0;34m\u001b[0m\u001b[0m\n\u001b[0;32m--> 424\u001b[0;31m         \u001b[0mr\u001b[0m \u001b[0;34m=\u001b[0m \u001b[0mwait\u001b[0m\u001b[0;34m(\u001b[0m\u001b[0;34m[\u001b[0m\u001b[0mself\u001b[0m\u001b[0;34m]\u001b[0m\u001b[0;34m,\u001b[0m \u001b[0mtimeout\u001b[0m\u001b[0;34m)\u001b[0m\u001b[0;34m\u001b[0m\u001b[0;34m\u001b[0m\u001b[0m\n\u001b[0m\u001b[1;32m    425\u001b[0m         \u001b[0;32mreturn\u001b[0m \u001b[0mbool\u001b[0m\u001b[0;34m(\u001b[0m\u001b[0mr\u001b[0m\u001b[0;34m)\u001b[0m\u001b[0;34m\u001b[0m\u001b[0;34m\u001b[0m\u001b[0m\n\u001b[1;32m    426\u001b[0m \u001b[0;34m\u001b[0m\u001b[0m\n",
            "\u001b[0;32m/usr/lib/python3.8/multiprocessing/connection.py\u001b[0m in \u001b[0;36mwait\u001b[0;34m(object_list, timeout)\u001b[0m\n\u001b[1;32m    929\u001b[0m \u001b[0;34m\u001b[0m\u001b[0m\n\u001b[1;32m    930\u001b[0m             \u001b[0;32mwhile\u001b[0m \u001b[0;32mTrue\u001b[0m\u001b[0;34m:\u001b[0m\u001b[0;34m\u001b[0m\u001b[0;34m\u001b[0m\u001b[0m\n\u001b[0;32m--> 931\u001b[0;31m                 \u001b[0mready\u001b[0m \u001b[0;34m=\u001b[0m \u001b[0mselector\u001b[0m\u001b[0;34m.\u001b[0m\u001b[0mselect\u001b[0m\u001b[0;34m(\u001b[0m\u001b[0mtimeout\u001b[0m\u001b[0;34m)\u001b[0m\u001b[0;34m\u001b[0m\u001b[0;34m\u001b[0m\u001b[0m\n\u001b[0m\u001b[1;32m    932\u001b[0m                 \u001b[0;32mif\u001b[0m \u001b[0mready\u001b[0m\u001b[0;34m:\u001b[0m\u001b[0;34m\u001b[0m\u001b[0;34m\u001b[0m\u001b[0m\n\u001b[1;32m    933\u001b[0m                     \u001b[0;32mreturn\u001b[0m \u001b[0;34m[\u001b[0m\u001b[0mkey\u001b[0m\u001b[0;34m.\u001b[0m\u001b[0mfileobj\u001b[0m \u001b[0;32mfor\u001b[0m \u001b[0;34m(\u001b[0m\u001b[0mkey\u001b[0m\u001b[0;34m,\u001b[0m \u001b[0mevents\u001b[0m\u001b[0;34m)\u001b[0m \u001b[0;32min\u001b[0m \u001b[0mready\u001b[0m\u001b[0;34m]\u001b[0m\u001b[0;34m\u001b[0m\u001b[0;34m\u001b[0m\u001b[0m\n",
            "\u001b[0;32m/usr/lib/python3.8/selectors.py\u001b[0m in \u001b[0;36mselect\u001b[0;34m(self, timeout)\u001b[0m\n\u001b[1;32m    413\u001b[0m         \u001b[0mready\u001b[0m \u001b[0;34m=\u001b[0m \u001b[0;34m[\u001b[0m\u001b[0;34m]\u001b[0m\u001b[0;34m\u001b[0m\u001b[0;34m\u001b[0m\u001b[0m\n\u001b[1;32m    414\u001b[0m         \u001b[0;32mtry\u001b[0m\u001b[0;34m:\u001b[0m\u001b[0;34m\u001b[0m\u001b[0;34m\u001b[0m\u001b[0m\n\u001b[0;32m--> 415\u001b[0;31m             \u001b[0mfd_event_list\u001b[0m \u001b[0;34m=\u001b[0m \u001b[0mself\u001b[0m\u001b[0;34m.\u001b[0m\u001b[0m_selector\u001b[0m\u001b[0;34m.\u001b[0m\u001b[0mpoll\u001b[0m\u001b[0;34m(\u001b[0m\u001b[0mtimeout\u001b[0m\u001b[0;34m)\u001b[0m\u001b[0;34m\u001b[0m\u001b[0;34m\u001b[0m\u001b[0m\n\u001b[0m\u001b[1;32m    416\u001b[0m         \u001b[0;32mexcept\u001b[0m \u001b[0mInterruptedError\u001b[0m\u001b[0;34m:\u001b[0m\u001b[0;34m\u001b[0m\u001b[0;34m\u001b[0m\u001b[0m\n\u001b[1;32m    417\u001b[0m             \u001b[0;32mreturn\u001b[0m \u001b[0mready\u001b[0m\u001b[0;34m\u001b[0m\u001b[0;34m\u001b[0m\u001b[0m\n",
            "\u001b[0;31mKeyboardInterrupt\u001b[0m: "
          ]
        }
      ]
    },
    {
      "cell_type": "markdown",
      "source": [
        "### 4. DeepFC_net128\n",
        "* 2개의 Convolution-layer & 5개의 fc-layer\n",
        "* 64 batch-size"
      ],
      "metadata": {
        "id": "jRyyw49jKVhj"
      }
    },
    {
      "cell_type": "code",
      "source": [
        "for epoch in range(10):\n",
        "\n",
        "    running_loss = 0.0\n",
        "\n",
        "    for i, data in enumerate(train_loader64, start=0):\n",
        "        inputs, labels = data[0].to(device), data[1].to(device)\n",
        "\n",
        "        optimizerFC_64.zero_grad() # epoch마다 gradient 0으로 초기화\n",
        "\n",
        "        outputs = DeepFC_net64(inputs) # y_pred = f(X)\n",
        "        loss = criterion(outputs, labels) # CrossEntropyLoss; 0~1 사이값\n",
        "        loss.backward() # back-propagation; gradient 계산\n",
        "        optimizerFC_64.step() # parameters(weights) update\n",
        "\n",
        "        running_loss += loss.item() # 그냥 전체적인 비교를 위해 누적함\n",
        "\n",
        "        if i % 100 == 99: # 100번 마다 확인; epoch=10, iter(=i)=469, batch=64\n",
        "            print('Epoch: {}, Iter: {}, Loss: {}'.format(epoch+1, i+1, running_loss/2000))\n",
        "            running_loss = 0.0"
      ],
      "metadata": {
        "colab": {
          "base_uri": "https://localhost:8080/"
        },
        "id": "X3847V0dKVhk",
        "outputId": "af5186f4-ca85-4423-b6eb-4242c17b7992"
      },
      "execution_count": null,
      "outputs": [
        {
          "output_type": "stream",
          "name": "stdout",
          "text": [
            "Epoch: 1, Iter: 100, Loss: 0.11517054212093353\n",
            "Epoch: 1, Iter: 200, Loss: 0.11518558156490326\n",
            "Epoch: 1, Iter: 300, Loss: 0.11512141835689545\n",
            "Epoch: 1, Iter: 400, Loss: 0.11510403299331665\n",
            "Epoch: 1, Iter: 500, Loss: 0.11504266381263734\n",
            "Epoch: 1, Iter: 600, Loss: 0.11497715795040131\n",
            "Epoch: 1, Iter: 700, Loss: 0.11497151064872742\n",
            "Epoch: 1, Iter: 800, Loss: 0.1148419498205185\n",
            "Epoch: 1, Iter: 900, Loss: 0.11473876237869263\n",
            "Epoch: 2, Iter: 100, Loss: 0.11445065200328827\n",
            "Epoch: 2, Iter: 200, Loss: 0.11401493191719055\n",
            "Epoch: 2, Iter: 300, Loss: 0.11319677436351776\n",
            "Epoch: 2, Iter: 400, Loss: 0.11035092318058014\n",
            "Epoch: 2, Iter: 500, Loss: 0.0933974136710167\n",
            "Epoch: 2, Iter: 600, Loss: 0.056129651576280595\n",
            "Epoch: 2, Iter: 700, Loss: 0.0423743779361248\n",
            "Epoch: 2, Iter: 800, Loss: 0.03764878991246223\n",
            "Epoch: 2, Iter: 900, Loss: 0.03451525369286537\n",
            "Epoch: 3, Iter: 100, Loss: 0.033164670839905735\n",
            "Epoch: 3, Iter: 200, Loss: 0.03199973540008068\n",
            "Epoch: 3, Iter: 300, Loss: 0.03053766603767872\n",
            "Epoch: 3, Iter: 400, Loss: 0.03142979311943054\n",
            "Epoch: 3, Iter: 500, Loss: 0.03017855566740036\n",
            "Epoch: 3, Iter: 600, Loss: 0.028684165686368942\n",
            "Epoch: 3, Iter: 700, Loss: 0.029561270251870154\n",
            "Epoch: 3, Iter: 800, Loss: 0.02826019087433815\n",
            "Epoch: 3, Iter: 900, Loss: 0.02815558199584484\n",
            "Epoch: 4, Iter: 100, Loss: 0.028543028846383094\n",
            "Epoch: 4, Iter: 200, Loss: 0.02780271080136299\n",
            "Epoch: 4, Iter: 300, Loss: 0.026486568093299866\n",
            "Epoch: 4, Iter: 400, Loss: 0.026555065006017686\n",
            "Epoch: 4, Iter: 500, Loss: 0.02579443907737732\n",
            "Epoch: 4, Iter: 600, Loss: 0.025033018991351127\n",
            "Epoch: 4, Iter: 700, Loss: 0.025510076463222505\n",
            "Epoch: 4, Iter: 800, Loss: 0.02473656466603279\n",
            "Epoch: 4, Iter: 900, Loss: 0.02502938584983349\n",
            "Epoch: 5, Iter: 100, Loss: 0.024777165561914442\n",
            "Epoch: 5, Iter: 200, Loss: 0.023826916962862016\n",
            "Epoch: 5, Iter: 300, Loss: 0.02383904279768467\n",
            "Epoch: 5, Iter: 400, Loss: 0.0235251654535532\n",
            "Epoch: 5, Iter: 500, Loss: 0.02279243004322052\n",
            "Epoch: 5, Iter: 600, Loss: 0.02234614734351635\n",
            "Epoch: 5, Iter: 700, Loss: 0.023217621222138406\n",
            "Epoch: 5, Iter: 800, Loss: 0.022292822368443013\n",
            "Epoch: 5, Iter: 900, Loss: 0.023712915897369385\n",
            "Epoch: 6, Iter: 100, Loss: 0.02168831314891577\n",
            "Epoch: 6, Iter: 200, Loss: 0.02256417640298605\n",
            "Epoch: 6, Iter: 300, Loss: 0.02216638569533825\n",
            "Epoch: 6, Iter: 400, Loss: 0.021998341850936413\n",
            "Epoch: 6, Iter: 500, Loss: 0.021473207511007786\n",
            "Epoch: 6, Iter: 600, Loss: 0.020836947448551656\n",
            "Epoch: 6, Iter: 700, Loss: 0.020850028932094575\n",
            "Epoch: 6, Iter: 800, Loss: 0.021121427617967127\n",
            "Epoch: 6, Iter: 900, Loss: 0.020840425059199332\n",
            "Epoch: 7, Iter: 100, Loss: 0.020099445335567\n",
            "Epoch: 7, Iter: 200, Loss: 0.02157149727642536\n",
            "Epoch: 7, Iter: 300, Loss: 0.02039591892808676\n",
            "Epoch: 7, Iter: 400, Loss: 0.021265473999083042\n",
            "Epoch: 7, Iter: 500, Loss: 0.02191878145188093\n",
            "Epoch: 7, Iter: 600, Loss: 0.019699009642004967\n",
            "Epoch: 7, Iter: 700, Loss: 0.020095366433262825\n",
            "Epoch: 7, Iter: 800, Loss: 0.020471986927092074\n",
            "Epoch: 7, Iter: 900, Loss: 0.020462792828679084\n",
            "Epoch: 8, Iter: 100, Loss: 0.01989916254580021\n",
            "Epoch: 8, Iter: 200, Loss: 0.019778516247868538\n",
            "Epoch: 8, Iter: 300, Loss: 0.019614742413163185\n",
            "Epoch: 8, Iter: 400, Loss: 0.019566771440207957\n",
            "Epoch: 8, Iter: 500, Loss: 0.018696946009993554\n",
            "Epoch: 8, Iter: 600, Loss: 0.019316729165613652\n",
            "Epoch: 8, Iter: 700, Loss: 0.020027208909392358\n",
            "Epoch: 8, Iter: 800, Loss: 0.018749044016003608\n",
            "Epoch: 8, Iter: 900, Loss: 0.019232360266149044\n",
            "Epoch: 9, Iter: 100, Loss: 0.01901075292378664\n",
            "Epoch: 9, Iter: 200, Loss: 0.01909215299412608\n",
            "Epoch: 9, Iter: 300, Loss: 0.019402719162404537\n",
            "Epoch: 9, Iter: 400, Loss: 0.018663183324038983\n",
            "Epoch: 9, Iter: 500, Loss: 0.01889272291958332\n",
            "Epoch: 9, Iter: 600, Loss: 0.018065270252525807\n",
            "Epoch: 9, Iter: 700, Loss: 0.019527179352939128\n",
            "Epoch: 9, Iter: 800, Loss: 0.01881168294698\n",
            "Epoch: 9, Iter: 900, Loss: 0.018021796613931655\n",
            "Epoch: 10, Iter: 100, Loss: 0.017549175091087818\n",
            "Epoch: 10, Iter: 200, Loss: 0.01810932146757841\n",
            "Epoch: 10, Iter: 300, Loss: 0.01822731664031744\n",
            "Epoch: 10, Iter: 400, Loss: 0.018238167580217124\n",
            "Epoch: 10, Iter: 500, Loss: 0.01873709160834551\n",
            "Epoch: 10, Iter: 600, Loss: 0.018497481867671015\n",
            "Epoch: 10, Iter: 700, Loss: 0.017520317316055297\n",
            "Epoch: 10, Iter: 800, Loss: 0.017640156246721744\n",
            "Epoch: 10, Iter: 900, Loss: 0.0176430020108819\n"
          ]
        }
      ]
    },
    {
      "cell_type": "markdown",
      "metadata": {
        "id": "5IecfHZiI09W"
      },
      "source": [
        "## 모델 테스트"
      ]
    },
    {
      "cell_type": "code",
      "source": [
        "# 전체 test 데이터에 대해서 성능 확인\n",
        "\n",
        "correct_list = [0]*4\n",
        "total_list = [0]*4\n",
        "a = -1\n",
        "\n",
        "model_list = {'DeepConv' : [DeepConv_net128, DeepConv_net64],\n",
        "              'DeepFC' : [DeepFC_net128, DeepFC_net64]}\n",
        "data_list = [test_loader128, test_loader64]\n",
        "\n",
        "with torch.no_grad(): # grad가 필요없다.\n",
        "\n",
        "    for key in model_list:\n",
        "        for idx in range(len(model_list[key])):\n",
        "            a += 1\n",
        "            model = model_list[key][idx]\n",
        "            data_loader = data_list[idx]\n",
        "            for data in data_loader:\n",
        "                images, labels = data[0].to(device), data[1].to(device)\n",
        "\n",
        "                outputs = model(images)\n",
        "                _, predicted = torch.max(outputs.data, 1)\n",
        "\n",
        "                total_list[a] += labels.size(0)\n",
        "                correct_list[a] += (predicted == labels).sum().item()\n",
        "            \n",
        "correct_rate = np.array(correct_list) / np.array(total_list)\n",
        "model_name = ['DeepConv_net128', 'DeepConv_net64', 'DeepFC_net128', 'DeepFC_net64']\n",
        "\n",
        "for i in range(len(correct_rate)):\n",
        "    print('{0} : {1}'.format(model_name[i], correct_rate[i]))"
      ],
      "metadata": {
        "colab": {
          "base_uri": "https://localhost:8080/"
        },
        "id": "VjVs_iS0rlof",
        "outputId": "af02f140-f192-4b0b-f026-db763706257f"
      },
      "execution_count": null,
      "outputs": [
        {
          "output_type": "stream",
          "name": "stdout",
          "text": [
            "DeepConv_net128 : 0.1\n",
            "DeepConv_net64 : 0.1\n",
            "DeepFC_net128 : 0.865\n",
            "DeepFC_net64 : 0.8519\n"
          ]
        }
      ]
    },
    {
      "cell_type": "markdown",
      "source": [
        "# FashionMNIST 분류 모델 중 성능이 낮은 모델 이유 확인"
      ],
      "metadata": {
        "id": "SZcZQv4PGeYv"
      }
    },
    {
      "cell_type": "markdown",
      "source": [
        "## Convolution-layer를 하나씩 추가하면서, 성능변화를 관찰"
      ],
      "metadata": {
        "id": "V7HoLqroDhyF"
      }
    },
    {
      "cell_type": "markdown",
      "source": [
        "### 3개의 convolution-layer 사용시"
      ],
      "metadata": {
        "id": "_civVcIYBGxA"
      }
    },
    {
      "cell_type": "code",
      "source": [
        "class CNN_Model3(nn.Module):\n",
        "    def __init__(self):\n",
        "        super(CNN_Model3, self).__init__()\n",
        "\n",
        "        self.conv1 = nn.Conv2d(in_channels=1, out_channels=5, kernel_size=3, stride=1, padding=2)\n",
        "        self.conv2 = nn.Conv2d(5, 7, 3, padding=1)\n",
        "        self.conv3 = nn.Conv2d(7, 16, 2, padding=1)\n",
        "\n",
        "        self.fc1 = nn.Linear(16* 16 * 16, 3000)\n",
        "        self.fc2 = nn.Linear(3000, 1500)\n",
        "        self.fc3 = nn.Linear(1500, 20 * 3 * 3)\n",
        "        self.fc4 = nn.Linear(20 * 3 * 3, 86)\n",
        "        self.fc5 = nn.Linear(86, 10) # 10 : 10개의 category\n",
        "\n",
        "    def forward(self, x):\n",
        "        x = F.relu(self.conv1(x))\n",
        "        x = F.max_pool2d(x, (2,2))\n",
        "        x = F.relu(self.conv2(x))\n",
        "        x = F.relu(self.conv3(x))\n",
        "\n",
        "        x = x.view(-1, self.num_flat_features(x)) # num_flat_features : 아래에서 정의\n",
        "\n",
        "        x = F.relu(self.fc1(x))\n",
        "        x = F.relu(self.fc2(x))\n",
        "        x = F.relu(self.fc3(x))\n",
        "        x = F.relu(self.fc4(x))\n",
        "        x = self.fc5(x)\n",
        "\n",
        "        return x\n",
        "    \n",
        "    def num_flat_features(self, x): # 처음 dim-size을 제외하고, 모두 곱한 값을 반환해준다.\n",
        "        size = x.size()[1:]\n",
        "        num_features = 1\n",
        "        for s in size:\n",
        "            num_features *= s\n",
        "        \n",
        "        return num_features"
      ],
      "metadata": {
        "id": "29zvOdhT-fwY"
      },
      "execution_count": null,
      "outputs": []
    },
    {
      "cell_type": "code",
      "source": [
        "# 모델객체 생성\n",
        "new_model = CNN_Model3().to(device)\n",
        "\n",
        "print(new_model)"
      ],
      "metadata": {
        "colab": {
          "base_uri": "https://localhost:8080/"
        },
        "outputId": "7fe5d139-bf73-43af-e6bc-263471b5f005",
        "id": "t81gXZmz-fwY"
      },
      "execution_count": null,
      "outputs": [
        {
          "output_type": "stream",
          "name": "stdout",
          "text": [
            "CNN_Model3(\n",
            "  (conv1): Conv2d(1, 5, kernel_size=(3, 3), stride=(1, 1), padding=(2, 2))\n",
            "  (conv2): Conv2d(5, 7, kernel_size=(3, 3), stride=(1, 1), padding=(1, 1))\n",
            "  (conv3): Conv2d(7, 16, kernel_size=(2, 2), stride=(1, 1), padding=(1, 1))\n",
            "  (fc1): Linear(in_features=4096, out_features=3000, bias=True)\n",
            "  (fc2): Linear(in_features=3000, out_features=1500, bias=True)\n",
            "  (fc3): Linear(in_features=1500, out_features=180, bias=True)\n",
            "  (fc4): Linear(in_features=180, out_features=86, bias=True)\n",
            "  (fc5): Linear(in_features=86, out_features=10, bias=True)\n",
            ")\n"
          ]
        }
      ]
    },
    {
      "cell_type": "code",
      "source": [
        "summary(new_model, input_size=(1, 28, 28), batch_size=128)"
      ],
      "metadata": {
        "colab": {
          "base_uri": "https://localhost:8080/"
        },
        "id": "Bb2EkGUbBnuM",
        "outputId": "5f129f9d-2057-4a09-da82-c81dd10d3e67"
      },
      "execution_count": null,
      "outputs": [
        {
          "output_type": "stream",
          "name": "stdout",
          "text": [
            "----------------------------------------------------------------\n",
            "        Layer (type)               Output Shape         Param #\n",
            "================================================================\n",
            "            Conv2d-1           [128, 5, 30, 30]              50\n",
            "            Conv2d-2           [128, 7, 15, 15]             322\n",
            "            Conv2d-3          [128, 16, 16, 16]             464\n",
            "            Linear-4                [128, 3000]      12,291,000\n",
            "            Linear-5                [128, 1500]       4,501,500\n",
            "            Linear-6                 [128, 180]         270,180\n",
            "            Linear-7                  [128, 86]          15,566\n",
            "            Linear-8                  [128, 10]             870\n",
            "================================================================\n",
            "Total params: 17,079,952\n",
            "Trainable params: 17,079,952\n",
            "Non-trainable params: 0\n",
            "----------------------------------------------------------------\n",
            "Input size (MB): 0.38\n",
            "Forward/backward pass size (MB): 14.60\n",
            "Params size (MB): 65.15\n",
            "Estimated Total Size (MB): 80.13\n",
            "----------------------------------------------------------------\n"
          ]
        }
      ]
    },
    {
      "cell_type": "code",
      "source": [
        "optimizer = optim.SGD(new_model.parameters(), lr=0.001, momentum=0.9)"
      ],
      "metadata": {
        "id": "aQDT4bYIBsZl"
      },
      "execution_count": null,
      "outputs": []
    },
    {
      "cell_type": "code",
      "source": [
        "for epoch in range(10):\n",
        "\n",
        "    running_loss = 0.0\n",
        "\n",
        "    for i, data in enumerate(train_loader128, start=0):\n",
        "        inputs, labels = data[0].to(device), data[1].to(device)\n",
        "\n",
        "        optimizer.zero_grad() # epoch마다 gradient 0으로 초기화\n",
        "\n",
        "        outputs = new_model(inputs) # y_pred = f(X)\n",
        "        loss = criterion(outputs, labels) # CrossEntropyLoss; 0~1 사이값\n",
        "        loss.backward() # back-propagation; gradient 계산\n",
        "        optimizer.step() # parameters(weights) update\n",
        "\n",
        "        running_loss += loss.item() # 그냥 전체적인 비교를 위해 누적함\n",
        "\n",
        "        if i % 100 == 99: # 100번 마다 확인; epoch=10, iter(=i)=469, batch=128\n",
        "            print('Epoch: {}, Iter: {}, Loss: {}'.format(epoch+1, i+1, running_loss/2000))\n",
        "            running_loss = 0.0"
      ],
      "metadata": {
        "colab": {
          "base_uri": "https://localhost:8080/"
        },
        "id": "D6GqkR8nBwhH",
        "outputId": "107f1fb2-7ed7-4725-b7b5-ee17a36bad51"
      },
      "execution_count": null,
      "outputs": [
        {
          "output_type": "stream",
          "name": "stdout",
          "text": [
            "Epoch: 1, Iter: 100, Loss: 0.11519398355484009\n",
            "Epoch: 1, Iter: 200, Loss: 0.11514422690868378\n",
            "Epoch: 1, Iter: 300, Loss: 0.1151123411655426\n",
            "Epoch: 1, Iter: 400, Loss: 0.11508644258975982\n",
            "Epoch: 2, Iter: 100, Loss: 0.1150071805715561\n",
            "Epoch: 2, Iter: 200, Loss: 0.11495142149925232\n",
            "Epoch: 2, Iter: 300, Loss: 0.11488631844520569\n",
            "Epoch: 2, Iter: 400, Loss: 0.11478898751735687\n",
            "Epoch: 3, Iter: 100, Loss: 0.11438788950443268\n",
            "Epoch: 3, Iter: 200, Loss: 0.11390453338623047\n",
            "Epoch: 3, Iter: 300, Loss: 0.11256192910671234\n",
            "Epoch: 3, Iter: 400, Loss: 0.10448865818977356\n",
            "Epoch: 4, Iter: 100, Loss: 0.04805727195739746\n",
            "Epoch: 4, Iter: 200, Loss: 0.039461121022701266\n",
            "Epoch: 4, Iter: 300, Loss: 0.03552169913053513\n",
            "Epoch: 4, Iter: 400, Loss: 0.03419936951994896\n",
            "Epoch: 5, Iter: 100, Loss: 0.032092437297105786\n",
            "Epoch: 5, Iter: 200, Loss: 0.030611014664173125\n",
            "Epoch: 5, Iter: 300, Loss: 0.030534122958779334\n",
            "Epoch: 5, Iter: 400, Loss: 0.030247083589434624\n",
            "Epoch: 6, Iter: 100, Loss: 0.028526979357004167\n",
            "Epoch: 6, Iter: 200, Loss: 0.02887688048183918\n",
            "Epoch: 6, Iter: 300, Loss: 0.028605852216482163\n",
            "Epoch: 6, Iter: 400, Loss: 0.027949207842350006\n",
            "Epoch: 7, Iter: 100, Loss: 0.02684966030716896\n",
            "Epoch: 7, Iter: 200, Loss: 0.027045142471790313\n",
            "Epoch: 7, Iter: 300, Loss: 0.025665957659482957\n",
            "Epoch: 7, Iter: 400, Loss: 0.02472960416972637\n",
            "Epoch: 8, Iter: 100, Loss: 0.024742569491267203\n",
            "Epoch: 8, Iter: 200, Loss: 0.02464320960640907\n",
            "Epoch: 8, Iter: 300, Loss: 0.02395121328532696\n",
            "Epoch: 8, Iter: 400, Loss: 0.023661399126052855\n",
            "Epoch: 9, Iter: 100, Loss: 0.02410077352821827\n",
            "Epoch: 9, Iter: 200, Loss: 0.023181424871087073\n",
            "Epoch: 9, Iter: 300, Loss: 0.022967235252261162\n",
            "Epoch: 9, Iter: 400, Loss: 0.02262467311322689\n",
            "Epoch: 10, Iter: 100, Loss: 0.02205083529651165\n",
            "Epoch: 10, Iter: 200, Loss: 0.022077771797776223\n",
            "Epoch: 10, Iter: 300, Loss: 0.021797703891992568\n",
            "Epoch: 10, Iter: 400, Loss: 0.021889505565166473\n"
          ]
        }
      ]
    },
    {
      "cell_type": "code",
      "source": [
        "correct = 0\n",
        "total = 0\n",
        "\n",
        "with torch.no_grad():\n",
        "    for data in test_loader128:\n",
        "        images, labels = data[0].to(device), data[1].to(device)\n",
        "        outputs = new_model(images)\n",
        "        _, predicted = torch.max(outputs.data, axis=1)\n",
        "        total += labels.size(0)\n",
        "        correct += (predicted == labels).sum().item()\n",
        "    \n",
        "    print(100 * correct / total)"
      ],
      "metadata": {
        "colab": {
          "base_uri": "https://localhost:8080/"
        },
        "id": "1PDu2v9bB_NE",
        "outputId": "7ef829e6-4309-4ac6-e21e-e401c94bab72"
      },
      "execution_count": null,
      "outputs": [
        {
          "output_type": "stream",
          "name": "stdout",
          "text": [
            "83.61\n"
          ]
        }
      ]
    },
    {
      "cell_type": "markdown",
      "source": [
        "### 4개의 convolution-layer 사용시"
      ],
      "metadata": {
        "id": "7Thu9NRyCV7j"
      }
    },
    {
      "cell_type": "code",
      "source": [
        "class CNN_Model4(nn.Module):\n",
        "    def __init__(self):\n",
        "        super(CNN_Model4, self).__init__()\n",
        "\n",
        "        self.conv1 = nn.Conv2d(in_channels=1, out_channels=5, kernel_size=3, stride=1, padding=2)\n",
        "        self.conv2 = nn.Conv2d(5, 7, 3, padding=1)\n",
        "        self.conv3 = nn.Conv2d(7, 16, 2, padding=1)\n",
        "        self.conv4 = nn.Conv2d(16, 19, 2)\n",
        "\n",
        "        self.fc1 = nn.Linear(15* 15 * 19, 3000)\n",
        "        self.fc2 = nn.Linear(3000, 1500)\n",
        "        self.fc3 = nn.Linear(1500, 20 * 3 * 3)\n",
        "        self.fc4 = nn.Linear(20 * 3 * 3, 86)\n",
        "        self.fc5 = nn.Linear(86, 10) # 10 : 10개의 category\n",
        "\n",
        "    def forward(self, x):\n",
        "        x = F.relu(self.conv1(x))\n",
        "        x = F.max_pool2d(x, (2,2))\n",
        "        x = F.relu(self.conv2(x))\n",
        "        x = F.relu(self.conv3(x))\n",
        "        x = F.relu(self.conv4(x))\n",
        "\n",
        "        x = x.view(-1, self.num_flat_features(x)) # num_flat_features : 아래에서 정의\n",
        "\n",
        "        x = F.relu(self.fc1(x))\n",
        "        x = F.relu(self.fc2(x))\n",
        "        x = F.relu(self.fc3(x))\n",
        "        x = F.relu(self.fc4(x))\n",
        "        x = self.fc5(x)\n",
        "\n",
        "        return x\n",
        "    \n",
        "    def num_flat_features(self, x): # 처음 dim-size을 제외하고, 모두 곱한 값을 반환해준다.\n",
        "        size = x.size()[1:]\n",
        "        num_features = 1\n",
        "        for s in size:\n",
        "            num_features *= s\n",
        "        \n",
        "        return num_features"
      ],
      "metadata": {
        "id": "V9PQvGFPCV7k"
      },
      "execution_count": null,
      "outputs": []
    },
    {
      "cell_type": "code",
      "source": [
        "# 모델객체 생성\n",
        "new_model = CNN_Model4().to(device)\n",
        "\n",
        "print(new_model)"
      ],
      "metadata": {
        "colab": {
          "base_uri": "https://localhost:8080/"
        },
        "outputId": "8b307f14-532d-45cd-dd0a-0e164652a287",
        "id": "HNAL7SRZCV7k"
      },
      "execution_count": null,
      "outputs": [
        {
          "output_type": "stream",
          "name": "stdout",
          "text": [
            "CNN_Model3(\n",
            "  (conv1): Conv2d(1, 5, kernel_size=(3, 3), stride=(1, 1), padding=(2, 2))\n",
            "  (conv2): Conv2d(5, 7, kernel_size=(3, 3), stride=(1, 1), padding=(1, 1))\n",
            "  (conv3): Conv2d(7, 16, kernel_size=(2, 2), stride=(1, 1), padding=(1, 1))\n",
            "  (conv4): Conv2d(16, 19, kernel_size=(2, 2), stride=(1, 1))\n",
            "  (fc1): Linear(in_features=4275, out_features=3000, bias=True)\n",
            "  (fc2): Linear(in_features=3000, out_features=1500, bias=True)\n",
            "  (fc3): Linear(in_features=1500, out_features=180, bias=True)\n",
            "  (fc4): Linear(in_features=180, out_features=86, bias=True)\n",
            "  (fc5): Linear(in_features=86, out_features=10, bias=True)\n",
            ")\n"
          ]
        }
      ]
    },
    {
      "cell_type": "code",
      "source": [
        "summary(new_model, input_size=(1, 28, 28), batch_size=128)"
      ],
      "metadata": {
        "colab": {
          "base_uri": "https://localhost:8080/"
        },
        "outputId": "a5f1f957-cdb1-40a9-e2b5-6c94153d474c",
        "id": "fHmIarJBCV7k"
      },
      "execution_count": null,
      "outputs": [
        {
          "output_type": "stream",
          "name": "stdout",
          "text": [
            "----------------------------------------------------------------\n",
            "        Layer (type)               Output Shape         Param #\n",
            "================================================================\n",
            "            Conv2d-1           [128, 5, 30, 30]              50\n",
            "            Conv2d-2           [128, 7, 15, 15]             322\n",
            "            Conv2d-3          [128, 16, 16, 16]             464\n",
            "            Conv2d-4          [128, 19, 15, 15]           1,235\n",
            "            Linear-5                [128, 3000]      12,828,000\n",
            "            Linear-6                [128, 1500]       4,501,500\n",
            "            Linear-7                 [128, 180]         270,180\n",
            "            Linear-8                  [128, 86]          15,566\n",
            "            Linear-9                  [128, 10]             870\n",
            "================================================================\n",
            "Total params: 17,618,187\n",
            "Trainable params: 17,618,187\n",
            "Non-trainable params: 0\n",
            "----------------------------------------------------------------\n",
            "Input size (MB): 0.38\n",
            "Forward/backward pass size (MB): 18.77\n",
            "Params size (MB): 67.21\n",
            "Estimated Total Size (MB): 86.36\n",
            "----------------------------------------------------------------\n"
          ]
        }
      ]
    },
    {
      "cell_type": "code",
      "source": [
        "optimizer = optim.SGD(new_model.parameters(), lr=0.001, momentum=0.9)"
      ],
      "metadata": {
        "id": "z6gegPTRCV7k"
      },
      "execution_count": null,
      "outputs": []
    },
    {
      "cell_type": "code",
      "source": [
        "for epoch in range(10):\n",
        "\n",
        "    running_loss = 0.0\n",
        "\n",
        "    for i, data in enumerate(train_loader128, start=0):\n",
        "        inputs, labels = data[0].to(device), data[1].to(device)\n",
        "\n",
        "        optimizer.zero_grad() # epoch마다 gradient 0으로 초기화\n",
        "\n",
        "        outputs = new_model(inputs) # y_pred = f(X)\n",
        "        loss = criterion(outputs, labels) # CrossEntropyLoss; 0~1 사이값\n",
        "        loss.backward() # back-propagation; gradient 계산\n",
        "        optimizer.step() # parameters(weights) update\n",
        "\n",
        "        running_loss += loss.item() # 그냥 전체적인 비교를 위해 누적함\n",
        "\n",
        "        if i % 100 == 99: # 100번 마다 확인; epoch=10, iter(=i)=469, batch=128\n",
        "            print('Epoch: {}, Iter: {}, Loss: {}'.format(epoch+1, i+1, running_loss/2000))\n",
        "            running_loss = 0.0"
      ],
      "metadata": {
        "colab": {
          "base_uri": "https://localhost:8080/"
        },
        "outputId": "e419d6a6-8405-4d05-9c6a-d661c0c4b91d",
        "id": "oeeKVQdKCV7k"
      },
      "execution_count": null,
      "outputs": [
        {
          "output_type": "stream",
          "name": "stdout",
          "text": [
            "Epoch: 1, Iter: 100, Loss: 0.11519611871242523\n",
            "Epoch: 1, Iter: 200, Loss: 0.11521574079990388\n",
            "Epoch: 1, Iter: 300, Loss: 0.11521736824512482\n",
            "Epoch: 1, Iter: 400, Loss: 0.11515061974525452\n",
            "Epoch: 2, Iter: 100, Loss: 0.11516089415550232\n",
            "Epoch: 2, Iter: 200, Loss: 0.11512716960906982\n",
            "Epoch: 2, Iter: 300, Loss: 0.11513755357265472\n",
            "Epoch: 2, Iter: 400, Loss: 0.11511598992347717\n",
            "Epoch: 3, Iter: 100, Loss: 0.11513030612468719\n",
            "Epoch: 3, Iter: 200, Loss: 0.11509760749340057\n",
            "Epoch: 3, Iter: 300, Loss: 0.11510218334197998\n",
            "Epoch: 3, Iter: 400, Loss: 0.11510523653030395\n",
            "Epoch: 4, Iter: 100, Loss: 0.11509827101230621\n",
            "Epoch: 4, Iter: 200, Loss: 0.11508925342559814\n",
            "Epoch: 4, Iter: 300, Loss: 0.11509384608268738\n",
            "Epoch: 4, Iter: 400, Loss: 0.11509047281742096\n",
            "Epoch: 5, Iter: 100, Loss: 0.11508220613002777\n",
            "Epoch: 5, Iter: 200, Loss: 0.11507677328586578\n",
            "Epoch: 5, Iter: 300, Loss: 0.11507185316085815\n",
            "Epoch: 5, Iter: 400, Loss: 0.11506561255455017\n",
            "Epoch: 6, Iter: 100, Loss: 0.11505461275577546\n",
            "Epoch: 6, Iter: 200, Loss: 0.11505101835727692\n",
            "Epoch: 6, Iter: 300, Loss: 0.11504114174842835\n",
            "Epoch: 6, Iter: 400, Loss: 0.11503183913230897\n",
            "Epoch: 7, Iter: 100, Loss: 0.11501241183280944\n",
            "Epoch: 7, Iter: 200, Loss: 0.11499932408332825\n",
            "Epoch: 7, Iter: 300, Loss: 0.11498291552066803\n",
            "Epoch: 7, Iter: 400, Loss: 0.11496755599975586\n",
            "Epoch: 8, Iter: 100, Loss: 0.11492174446582794\n",
            "Epoch: 8, Iter: 200, Loss: 0.11488599717617035\n",
            "Epoch: 8, Iter: 300, Loss: 0.11484336411952972\n",
            "Epoch: 8, Iter: 400, Loss: 0.11478675770759582\n",
            "Epoch: 9, Iter: 100, Loss: 0.11462692523002624\n",
            "Epoch: 9, Iter: 200, Loss: 0.11447418415546418\n",
            "Epoch: 9, Iter: 300, Loss: 0.11422021663188935\n",
            "Epoch: 9, Iter: 400, Loss: 0.1137476851940155\n",
            "Epoch: 10, Iter: 100, Loss: 0.11112988305091857\n",
            "Epoch: 10, Iter: 200, Loss: 0.09806095296144486\n",
            "Epoch: 10, Iter: 300, Loss: 0.057501908659935\n",
            "Epoch: 10, Iter: 400, Loss: 0.04588349795341492\n"
          ]
        }
      ]
    },
    {
      "cell_type": "code",
      "source": [
        "correct = 0\n",
        "total = 0\n",
        "\n",
        "with torch.no_grad():\n",
        "    for data in test_loader128:\n",
        "        images, labels = data[0].to(device), data[1].to(device)\n",
        "        outputs = new_model(images)\n",
        "        _, predicted = torch.max(outputs.data, axis=1)\n",
        "        total += labels.size(0)\n",
        "        correct += (predicted == labels).sum().item()\n",
        "    \n",
        "    print(100 * correct / total)"
      ],
      "metadata": {
        "colab": {
          "base_uri": "https://localhost:8080/"
        },
        "id": "w3uuDeS_CV7k",
        "outputId": "4ecf936e-91d6-4bfc-8546-93801e16d158"
      },
      "execution_count": null,
      "outputs": [
        {
          "output_type": "stream",
          "name": "stdout",
          "text": [
            "68.73\n"
          ]
        }
      ]
    },
    {
      "cell_type": "markdown",
      "source": [
        "### 5개의 convolution-layer 사용시"
      ],
      "metadata": {
        "id": "kuP_3_DyD42p"
      }
    },
    {
      "cell_type": "code",
      "source": [
        "class CNN_Model5(nn.Module):\n",
        "    def __init__(self):\n",
        "        super(CNN_Model5, self).__init__()\n",
        "\n",
        "        self.conv1 = nn.Conv2d(in_channels=1, out_channels=5, kernel_size=3, stride=1, padding=2)\n",
        "        self.conv2 = nn.Conv2d(5, 7, 3, padding=1)      \n",
        "        self.conv3 = nn.Conv2d(7, 16, 2, padding=1)\n",
        "        self.conv4 = nn.Conv2d(16, 19, 2)\n",
        "        self.conv5 = nn.Conv2d(19, 29, 3)\n",
        "\n",
        "        self.fc1 = nn.Linear(29 * 13 * 13, 100)\n",
        "        self.fc2 = nn.Linear(100, 50)\n",
        "        self.fc3 = nn.Linear(50, 25)\n",
        "        self.fc4 = nn.Linear(25, 10) # 10 : 10개의 category\n",
        "\n",
        "    def forward(self, x):\n",
        "        x = F.relu(self.conv1(x))\n",
        "        x = F.max_pool2d(x, (2,2))\n",
        "        x = F.relu(self.conv2(x))\n",
        "        x = F.relu(self.conv3(x))\n",
        "        x = F.relu(self.conv4(x))\n",
        "        x = F.relu(self.conv5(x))\n",
        "\n",
        "        x = x.view(-1, self.num_flat_features(x)) # num_flat_features : 아래에서 정의\n",
        "\n",
        "        x = F.relu(self.fc1(x))\n",
        "        x = F.relu(self.fc2(x))\n",
        "        x = F.relu(self.fc3(x))\n",
        "        x = self.fc4(x)\n",
        "\n",
        "        return x\n",
        "    \n",
        "    def num_flat_features(self, x): # 처음 dim-size을 제외하고, 모두 곱한 값을 반환해준다.\n",
        "        size = x.size()[1:]\n",
        "        num_features = 1\n",
        "        for s in size:\n",
        "            num_features *= s\n",
        "        \n",
        "        return num_features"
      ],
      "metadata": {
        "id": "Bk1u7iloD42q"
      },
      "execution_count": null,
      "outputs": []
    },
    {
      "cell_type": "code",
      "source": [
        "# 모델객체 생성\n",
        "new_model = CNN_Model5().to(device)\n",
        "\n",
        "print(new_model)"
      ],
      "metadata": {
        "colab": {
          "base_uri": "https://localhost:8080/"
        },
        "outputId": "57c3b06d-6bc0-47f2-8b8d-ea4fb0cbb367",
        "id": "GPoNB-4vD42q"
      },
      "execution_count": null,
      "outputs": [
        {
          "output_type": "stream",
          "name": "stdout",
          "text": [
            "CNN_Model3(\n",
            "  (conv1): Conv2d(1, 5, kernel_size=(3, 3), stride=(1, 1), padding=(2, 2))\n",
            "  (conv2): Conv2d(5, 7, kernel_size=(3, 3), stride=(1, 1), padding=(1, 1))\n",
            "  (conv3): Conv2d(7, 16, kernel_size=(2, 2), stride=(1, 1), padding=(1, 1))\n",
            "  (conv4): Conv2d(16, 19, kernel_size=(2, 2), stride=(1, 1))\n",
            "  (conv5): Conv2d(19, 29, kernel_size=(3, 3), stride=(1, 1))\n",
            "  (fc1): Linear(in_features=4901, out_features=100, bias=True)\n",
            "  (fc2): Linear(in_features=100, out_features=50, bias=True)\n",
            "  (fc3): Linear(in_features=50, out_features=25, bias=True)\n",
            "  (fc4): Linear(in_features=25, out_features=10, bias=True)\n",
            ")\n"
          ]
        }
      ]
    },
    {
      "cell_type": "code",
      "source": [
        "summary(new_model, input_size=(1, 28, 28), batch_size=128)"
      ],
      "metadata": {
        "colab": {
          "base_uri": "https://localhost:8080/"
        },
        "outputId": "aca3d67f-32f8-4e13-aca2-fdff8d8ad95b",
        "id": "aDvnyPw6D42q"
      },
      "execution_count": null,
      "outputs": [
        {
          "output_type": "stream",
          "name": "stdout",
          "text": [
            "----------------------------------------------------------------\n",
            "        Layer (type)               Output Shape         Param #\n",
            "================================================================\n",
            "            Conv2d-1           [128, 5, 30, 30]              50\n",
            "            Conv2d-2           [128, 7, 15, 15]             322\n",
            "            Conv2d-3          [128, 16, 16, 16]             464\n",
            "            Conv2d-4          [128, 19, 15, 15]           1,235\n",
            "            Conv2d-5          [128, 29, 13, 13]           4,988\n",
            "            Linear-6                 [128, 100]         490,200\n",
            "            Linear-7                  [128, 50]           5,050\n",
            "            Linear-8                  [128, 25]           1,275\n",
            "            Linear-9                  [128, 10]             260\n",
            "================================================================\n",
            "Total params: 503,844\n",
            "Trainable params: 503,844\n",
            "Non-trainable params: 0\n",
            "----------------------------------------------------------------\n",
            "Input size (MB): 0.38\n",
            "Forward/backward pass size (MB): 19.07\n",
            "Params size (MB): 1.92\n",
            "Estimated Total Size (MB): 21.38\n",
            "----------------------------------------------------------------\n"
          ]
        }
      ]
    },
    {
      "cell_type": "code",
      "source": [
        "optimizer = optim.SGD(new_model.parameters(), lr=0.001, momentum=0.9)"
      ],
      "metadata": {
        "id": "QmOiVQDLD42q"
      },
      "execution_count": null,
      "outputs": []
    },
    {
      "cell_type": "code",
      "source": [
        "for epoch in range(10):\n",
        "\n",
        "    running_loss = 0.0\n",
        "\n",
        "    for i, data in enumerate(train_loader128, start=0):\n",
        "        inputs, labels = data[0].to(device), data[1].to(device)\n",
        "\n",
        "        optimizer.zero_grad() # epoch마다 gradient 0으로 초기화\n",
        "\n",
        "        outputs = new_model(inputs) # y_pred = f(X)\n",
        "        loss = criterion(outputs, labels) # CrossEntropyLoss; 0~1 사이값\n",
        "        loss.backward() # back-propagation; gradient 계산\n",
        "        optimizer.step() # parameters(weights) update\n",
        "\n",
        "        running_loss += loss.item() # 그냥 전체적인 비교를 위해 누적함\n",
        "\n",
        "        if i % 100 == 99: # 100번 마다 확인; epoch=10, iter(=i)=469, batch=128\n",
        "            print('Epoch: {}, Iter: {}, Loss: {}'.format(epoch+1, i+1, running_loss/2000))\n",
        "            running_loss = 0.0"
      ],
      "metadata": {
        "colab": {
          "base_uri": "https://localhost:8080/"
        },
        "outputId": "32596c0d-797c-4de6-9a7b-0dd97ddf891b",
        "id": "eS9fQfeED42q"
      },
      "execution_count": null,
      "outputs": [
        {
          "output_type": "stream",
          "name": "stdout",
          "text": [
            "Epoch: 1, Iter: 100, Loss: 0.11543198049068451\n",
            "Epoch: 1, Iter: 200, Loss: 0.11530282306671143\n",
            "Epoch: 1, Iter: 300, Loss: 0.11530901575088501\n",
            "Epoch: 1, Iter: 400, Loss: 0.11522050750255584\n",
            "Epoch: 2, Iter: 100, Loss: 0.11522065305709839\n",
            "Epoch: 2, Iter: 200, Loss: 0.11515305805206298\n",
            "Epoch: 2, Iter: 300, Loss: 0.11515569114685059\n",
            "Epoch: 2, Iter: 400, Loss: 0.11516375982761383\n",
            "Epoch: 3, Iter: 100, Loss: 0.11512697637081146\n",
            "Epoch: 3, Iter: 200, Loss: 0.11513668882846832\n",
            "Epoch: 3, Iter: 300, Loss: 0.11514008140563965\n",
            "Epoch: 3, Iter: 400, Loss: 0.11511781585216523\n",
            "Epoch: 4, Iter: 100, Loss: 0.11511454820632934\n",
            "Epoch: 4, Iter: 200, Loss: 0.11512211894989013\n",
            "Epoch: 4, Iter: 300, Loss: 0.11512244129180908\n",
            "Epoch: 4, Iter: 400, Loss: 0.1151157341003418\n",
            "Epoch: 5, Iter: 100, Loss: 0.11511646783351898\n",
            "Epoch: 5, Iter: 200, Loss: 0.11511037909984588\n",
            "Epoch: 5, Iter: 300, Loss: 0.11511185359954834\n",
            "Epoch: 5, Iter: 400, Loss: 0.115108726978302\n",
            "Epoch: 6, Iter: 100, Loss: 0.1151046621799469\n",
            "Epoch: 6, Iter: 200, Loss: 0.11509593641757965\n",
            "Epoch: 6, Iter: 300, Loss: 0.11510584712028503\n",
            "Epoch: 6, Iter: 400, Loss: 0.11509858441352844\n",
            "Epoch: 7, Iter: 100, Loss: 0.11508784222602844\n",
            "Epoch: 7, Iter: 200, Loss: 0.11509343922138214\n",
            "Epoch: 7, Iter: 300, Loss: 0.11508572506904602\n",
            "Epoch: 7, Iter: 400, Loss: 0.11508496224880219\n",
            "Epoch: 8, Iter: 100, Loss: 0.1150725667476654\n",
            "Epoch: 8, Iter: 200, Loss: 0.11506851267814636\n",
            "Epoch: 8, Iter: 300, Loss: 0.11505920016765595\n",
            "Epoch: 8, Iter: 400, Loss: 0.11505410742759704\n",
            "Epoch: 9, Iter: 100, Loss: 0.11503372168540954\n",
            "Epoch: 9, Iter: 200, Loss: 0.11501808845996857\n",
            "Epoch: 9, Iter: 300, Loss: 0.11501030027866363\n",
            "Epoch: 9, Iter: 400, Loss: 0.11498795902729034\n",
            "Epoch: 10, Iter: 100, Loss: 0.11494731914997101\n",
            "Epoch: 10, Iter: 200, Loss: 0.11491318464279175\n",
            "Epoch: 10, Iter: 300, Loss: 0.11487376725673676\n",
            "Epoch: 10, Iter: 400, Loss: 0.11480642557144165\n"
          ]
        }
      ]
    },
    {
      "cell_type": "code",
      "source": [
        "correct = 0\n",
        "total = 0\n",
        "\n",
        "with torch.no_grad():\n",
        "    for data in test_loader128:\n",
        "        images, labels = data[0].to(device), data[1].to(device)\n",
        "        outputs = new_model(images)\n",
        "        _, predicted = torch.max(outputs.data, axis=1)\n",
        "        total += labels.size(0)\n",
        "        correct += (predicted == labels).sum().item()\n",
        "    \n",
        "    print(100 * correct / total)"
      ],
      "metadata": {
        "colab": {
          "base_uri": "https://localhost:8080/"
        },
        "outputId": "acb56f79-c9dc-40d4-d649-4178b9a1502f",
        "id": "X0H3p7PGD42q"
      },
      "execution_count": null,
      "outputs": [
        {
          "output_type": "stream",
          "name": "stdout",
          "text": [
            "25.44\n"
          ]
        }
      ]
    }
  ]
}