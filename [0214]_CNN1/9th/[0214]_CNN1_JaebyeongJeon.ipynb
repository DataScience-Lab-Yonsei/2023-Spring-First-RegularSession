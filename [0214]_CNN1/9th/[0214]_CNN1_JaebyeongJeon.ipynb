{
  "nbformat": 4,
  "nbformat_minor": 0,
  "metadata": {
    "colab": {
      "provenance": [],
      "collapsed_sections": [
        "cdNvme8aKSBP",
        "OHckdZ55KeH2",
        "mCrBa-gRRMEO",
        "EFPYE3UUnpmX",
        "xVxKI_rwCvhI",
        "klpXGc2tCimP",
        "huNh3EnhJLyh",
        "W-2Q7c6-JW9z",
        "FOUBE2UfKS6D",
        "LaVvtEOvKUgJ",
        "jRyyw49jKVhj",
        "5IecfHZiI09W",
        "SZcZQv4PGeYv",
        "V7HoLqroDhyF",
        "_civVcIYBGxA",
        "7Thu9NRyCV7j",
        "kuP_3_DyD42p"
      ]
    },
    "kernelspec": {
      "name": "python3",
      "display_name": "Python 3"
    },
    "accelerator": "GPU",
    "gpuClass": "standard",
    "widgets": {
      "application/vnd.jupyter.widget-state+json": {
        "e2793e0977f04b4f87b6f6e2d1e5fcfb": {
          "model_module": "@jupyter-widgets/controls",
          "model_name": "HBoxModel",
          "model_module_version": "1.5.0",
          "state": {
            "_dom_classes": [],
            "_model_module": "@jupyter-widgets/controls",
            "_model_module_version": "1.5.0",
            "_model_name": "HBoxModel",
            "_view_count": null,
            "_view_module": "@jupyter-widgets/controls",
            "_view_module_version": "1.5.0",
            "_view_name": "HBoxView",
            "box_style": "",
            "children": [
              "IPY_MODEL_ec4a64991eb6468ab468d2404ac0d48a",
              "IPY_MODEL_62a4beebc40948248aab39df8903ea7f",
              "IPY_MODEL_d54da25c2a4d49478eb2cecb02335e5a"
            ],
            "layout": "IPY_MODEL_d204515e591d460198f6309de937e46a"
          }
        },
        "ec4a64991eb6468ab468d2404ac0d48a": {
          "model_module": "@jupyter-widgets/controls",
          "model_name": "HTMLModel",
          "model_module_version": "1.5.0",
          "state": {
            "_dom_classes": [],
            "_model_module": "@jupyter-widgets/controls",
            "_model_module_version": "1.5.0",
            "_model_name": "HTMLModel",
            "_view_count": null,
            "_view_module": "@jupyter-widgets/controls",
            "_view_module_version": "1.5.0",
            "_view_name": "HTMLView",
            "description": "",
            "description_tooltip": null,
            "layout": "IPY_MODEL_9588a8c5f232430ab91fbf3e28061284",
            "placeholder": "​",
            "style": "IPY_MODEL_5d9562652bc34f06a5ce0fd1c612b8c9",
            "value": "100%"
          }
        },
        "62a4beebc40948248aab39df8903ea7f": {
          "model_module": "@jupyter-widgets/controls",
          "model_name": "FloatProgressModel",
          "model_module_version": "1.5.0",
          "state": {
            "_dom_classes": [],
            "_model_module": "@jupyter-widgets/controls",
            "_model_module_version": "1.5.0",
            "_model_name": "FloatProgressModel",
            "_view_count": null,
            "_view_module": "@jupyter-widgets/controls",
            "_view_module_version": "1.5.0",
            "_view_name": "ProgressView",
            "bar_style": "success",
            "description": "",
            "description_tooltip": null,
            "layout": "IPY_MODEL_57518aa868a4493f9b2f52b4db80e483",
            "max": 26421880,
            "min": 0,
            "orientation": "horizontal",
            "style": "IPY_MODEL_b166f30886414144996c794c7c7ba0a6",
            "value": 26421880
          }
        },
        "d54da25c2a4d49478eb2cecb02335e5a": {
          "model_module": "@jupyter-widgets/controls",
          "model_name": "HTMLModel",
          "model_module_version": "1.5.0",
          "state": {
            "_dom_classes": [],
            "_model_module": "@jupyter-widgets/controls",
            "_model_module_version": "1.5.0",
            "_model_name": "HTMLModel",
            "_view_count": null,
            "_view_module": "@jupyter-widgets/controls",
            "_view_module_version": "1.5.0",
            "_view_name": "HTMLView",
            "description": "",
            "description_tooltip": null,
            "layout": "IPY_MODEL_4feac67138ef4d929e30c0a6254a71cb",
            "placeholder": "​",
            "style": "IPY_MODEL_1afd9cd4316c45c0aa73ca8c7bc3acfd",
            "value": " 26421880/26421880 [00:01&lt;00:00, 30928025.06it/s]"
          }
        },
        "d204515e591d460198f6309de937e46a": {
          "model_module": "@jupyter-widgets/base",
          "model_name": "LayoutModel",
          "model_module_version": "1.2.0",
          "state": {
            "_model_module": "@jupyter-widgets/base",
            "_model_module_version": "1.2.0",
            "_model_name": "LayoutModel",
            "_view_count": null,
            "_view_module": "@jupyter-widgets/base",
            "_view_module_version": "1.2.0",
            "_view_name": "LayoutView",
            "align_content": null,
            "align_items": null,
            "align_self": null,
            "border": null,
            "bottom": null,
            "display": null,
            "flex": null,
            "flex_flow": null,
            "grid_area": null,
            "grid_auto_columns": null,
            "grid_auto_flow": null,
            "grid_auto_rows": null,
            "grid_column": null,
            "grid_gap": null,
            "grid_row": null,
            "grid_template_areas": null,
            "grid_template_columns": null,
            "grid_template_rows": null,
            "height": null,
            "justify_content": null,
            "justify_items": null,
            "left": null,
            "margin": null,
            "max_height": null,
            "max_width": null,
            "min_height": null,
            "min_width": null,
            "object_fit": null,
            "object_position": null,
            "order": null,
            "overflow": null,
            "overflow_x": null,
            "overflow_y": null,
            "padding": null,
            "right": null,
            "top": null,
            "visibility": null,
            "width": null
          }
        },
        "9588a8c5f232430ab91fbf3e28061284": {
          "model_module": "@jupyter-widgets/base",
          "model_name": "LayoutModel",
          "model_module_version": "1.2.0",
          "state": {
            "_model_module": "@jupyter-widgets/base",
            "_model_module_version": "1.2.0",
            "_model_name": "LayoutModel",
            "_view_count": null,
            "_view_module": "@jupyter-widgets/base",
            "_view_module_version": "1.2.0",
            "_view_name": "LayoutView",
            "align_content": null,
            "align_items": null,
            "align_self": null,
            "border": null,
            "bottom": null,
            "display": null,
            "flex": null,
            "flex_flow": null,
            "grid_area": null,
            "grid_auto_columns": null,
            "grid_auto_flow": null,
            "grid_auto_rows": null,
            "grid_column": null,
            "grid_gap": null,
            "grid_row": null,
            "grid_template_areas": null,
            "grid_template_columns": null,
            "grid_template_rows": null,
            "height": null,
            "justify_content": null,
            "justify_items": null,
            "left": null,
            "margin": null,
            "max_height": null,
            "max_width": null,
            "min_height": null,
            "min_width": null,
            "object_fit": null,
            "object_position": null,
            "order": null,
            "overflow": null,
            "overflow_x": null,
            "overflow_y": null,
            "padding": null,
            "right": null,
            "top": null,
            "visibility": null,
            "width": null
          }
        },
        "5d9562652bc34f06a5ce0fd1c612b8c9": {
          "model_module": "@jupyter-widgets/controls",
          "model_name": "DescriptionStyleModel",
          "model_module_version": "1.5.0",
          "state": {
            "_model_module": "@jupyter-widgets/controls",
            "_model_module_version": "1.5.0",
            "_model_name": "DescriptionStyleModel",
            "_view_count": null,
            "_view_module": "@jupyter-widgets/base",
            "_view_module_version": "1.2.0",
            "_view_name": "StyleView",
            "description_width": ""
          }
        },
        "57518aa868a4493f9b2f52b4db80e483": {
          "model_module": "@jupyter-widgets/base",
          "model_name": "LayoutModel",
          "model_module_version": "1.2.0",
          "state": {
            "_model_module": "@jupyter-widgets/base",
            "_model_module_version": "1.2.0",
            "_model_name": "LayoutModel",
            "_view_count": null,
            "_view_module": "@jupyter-widgets/base",
            "_view_module_version": "1.2.0",
            "_view_name": "LayoutView",
            "align_content": null,
            "align_items": null,
            "align_self": null,
            "border": null,
            "bottom": null,
            "display": null,
            "flex": null,
            "flex_flow": null,
            "grid_area": null,
            "grid_auto_columns": null,
            "grid_auto_flow": null,
            "grid_auto_rows": null,
            "grid_column": null,
            "grid_gap": null,
            "grid_row": null,
            "grid_template_areas": null,
            "grid_template_columns": null,
            "grid_template_rows": null,
            "height": null,
            "justify_content": null,
            "justify_items": null,
            "left": null,
            "margin": null,
            "max_height": null,
            "max_width": null,
            "min_height": null,
            "min_width": null,
            "object_fit": null,
            "object_position": null,
            "order": null,
            "overflow": null,
            "overflow_x": null,
            "overflow_y": null,
            "padding": null,
            "right": null,
            "top": null,
            "visibility": null,
            "width": null
          }
        },
        "b166f30886414144996c794c7c7ba0a6": {
          "model_module": "@jupyter-widgets/controls",
          "model_name": "ProgressStyleModel",
          "model_module_version": "1.5.0",
          "state": {
            "_model_module": "@jupyter-widgets/controls",
            "_model_module_version": "1.5.0",
            "_model_name": "ProgressStyleModel",
            "_view_count": null,
            "_view_module": "@jupyter-widgets/base",
            "_view_module_version": "1.2.0",
            "_view_name": "StyleView",
            "bar_color": null,
            "description_width": ""
          }
        },
        "4feac67138ef4d929e30c0a6254a71cb": {
          "model_module": "@jupyter-widgets/base",
          "model_name": "LayoutModel",
          "model_module_version": "1.2.0",
          "state": {
            "_model_module": "@jupyter-widgets/base",
            "_model_module_version": "1.2.0",
            "_model_name": "LayoutModel",
            "_view_count": null,
            "_view_module": "@jupyter-widgets/base",
            "_view_module_version": "1.2.0",
            "_view_name": "LayoutView",
            "align_content": null,
            "align_items": null,
            "align_self": null,
            "border": null,
            "bottom": null,
            "display": null,
            "flex": null,
            "flex_flow": null,
            "grid_area": null,
            "grid_auto_columns": null,
            "grid_auto_flow": null,
            "grid_auto_rows": null,
            "grid_column": null,
            "grid_gap": null,
            "grid_row": null,
            "grid_template_areas": null,
            "grid_template_columns": null,
            "grid_template_rows": null,
            "height": null,
            "justify_content": null,
            "justify_items": null,
            "left": null,
            "margin": null,
            "max_height": null,
            "max_width": null,
            "min_height": null,
            "min_width": null,
            "object_fit": null,
            "object_position": null,
            "order": null,
            "overflow": null,
            "overflow_x": null,
            "overflow_y": null,
            "padding": null,
            "right": null,
            "top": null,
            "visibility": null,
            "width": null
          }
        },
        "1afd9cd4316c45c0aa73ca8c7bc3acfd": {
          "model_module": "@jupyter-widgets/controls",
          "model_name": "DescriptionStyleModel",
          "model_module_version": "1.5.0",
          "state": {
            "_model_module": "@jupyter-widgets/controls",
            "_model_module_version": "1.5.0",
            "_model_name": "DescriptionStyleModel",
            "_view_count": null,
            "_view_module": "@jupyter-widgets/base",
            "_view_module_version": "1.2.0",
            "_view_name": "StyleView",
            "description_width": ""
          }
        },
        "8ca8fdacd66f416c940c3c915185b9bc": {
          "model_module": "@jupyter-widgets/controls",
          "model_name": "HBoxModel",
          "model_module_version": "1.5.0",
          "state": {
            "_dom_classes": [],
            "_model_module": "@jupyter-widgets/controls",
            "_model_module_version": "1.5.0",
            "_model_name": "HBoxModel",
            "_view_count": null,
            "_view_module": "@jupyter-widgets/controls",
            "_view_module_version": "1.5.0",
            "_view_name": "HBoxView",
            "box_style": "",
            "children": [
              "IPY_MODEL_d9a29cda9c324988a2ab877b845a64a2",
              "IPY_MODEL_afda7c672b3c45978a42f7edb71423b3",
              "IPY_MODEL_db5f7597ee01490e9bc77f56fdf8c905"
            ],
            "layout": "IPY_MODEL_098a90c1053c43c7953fe8841963d658"
          }
        },
        "d9a29cda9c324988a2ab877b845a64a2": {
          "model_module": "@jupyter-widgets/controls",
          "model_name": "HTMLModel",
          "model_module_version": "1.5.0",
          "state": {
            "_dom_classes": [],
            "_model_module": "@jupyter-widgets/controls",
            "_model_module_version": "1.5.0",
            "_model_name": "HTMLModel",
            "_view_count": null,
            "_view_module": "@jupyter-widgets/controls",
            "_view_module_version": "1.5.0",
            "_view_name": "HTMLView",
            "description": "",
            "description_tooltip": null,
            "layout": "IPY_MODEL_d595b865480e4403a5fe4d7b5ee65c73",
            "placeholder": "​",
            "style": "IPY_MODEL_af13a34d0b734a43bcc3db27301436ce",
            "value": "100%"
          }
        },
        "afda7c672b3c45978a42f7edb71423b3": {
          "model_module": "@jupyter-widgets/controls",
          "model_name": "FloatProgressModel",
          "model_module_version": "1.5.0",
          "state": {
            "_dom_classes": [],
            "_model_module": "@jupyter-widgets/controls",
            "_model_module_version": "1.5.0",
            "_model_name": "FloatProgressModel",
            "_view_count": null,
            "_view_module": "@jupyter-widgets/controls",
            "_view_module_version": "1.5.0",
            "_view_name": "ProgressView",
            "bar_style": "success",
            "description": "",
            "description_tooltip": null,
            "layout": "IPY_MODEL_515b61425b484a02aa435e06953d0d90",
            "max": 29515,
            "min": 0,
            "orientation": "horizontal",
            "style": "IPY_MODEL_72673aa5d3104d568eded1f411bda0c3",
            "value": 29515
          }
        },
        "db5f7597ee01490e9bc77f56fdf8c905": {
          "model_module": "@jupyter-widgets/controls",
          "model_name": "HTMLModel",
          "model_module_version": "1.5.0",
          "state": {
            "_dom_classes": [],
            "_model_module": "@jupyter-widgets/controls",
            "_model_module_version": "1.5.0",
            "_model_name": "HTMLModel",
            "_view_count": null,
            "_view_module": "@jupyter-widgets/controls",
            "_view_module_version": "1.5.0",
            "_view_name": "HTMLView",
            "description": "",
            "description_tooltip": null,
            "layout": "IPY_MODEL_1b357957833f4582bd6ac07386ab8d9c",
            "placeholder": "​",
            "style": "IPY_MODEL_d9c37d422d9b44a582f2a2b4a4b2a0e8",
            "value": " 29515/29515 [00:00&lt;00:00, 335189.54it/s]"
          }
        },
        "098a90c1053c43c7953fe8841963d658": {
          "model_module": "@jupyter-widgets/base",
          "model_name": "LayoutModel",
          "model_module_version": "1.2.0",
          "state": {
            "_model_module": "@jupyter-widgets/base",
            "_model_module_version": "1.2.0",
            "_model_name": "LayoutModel",
            "_view_count": null,
            "_view_module": "@jupyter-widgets/base",
            "_view_module_version": "1.2.0",
            "_view_name": "LayoutView",
            "align_content": null,
            "align_items": null,
            "align_self": null,
            "border": null,
            "bottom": null,
            "display": null,
            "flex": null,
            "flex_flow": null,
            "grid_area": null,
            "grid_auto_columns": null,
            "grid_auto_flow": null,
            "grid_auto_rows": null,
            "grid_column": null,
            "grid_gap": null,
            "grid_row": null,
            "grid_template_areas": null,
            "grid_template_columns": null,
            "grid_template_rows": null,
            "height": null,
            "justify_content": null,
            "justify_items": null,
            "left": null,
            "margin": null,
            "max_height": null,
            "max_width": null,
            "min_height": null,
            "min_width": null,
            "object_fit": null,
            "object_position": null,
            "order": null,
            "overflow": null,
            "overflow_x": null,
            "overflow_y": null,
            "padding": null,
            "right": null,
            "top": null,
            "visibility": null,
            "width": null
          }
        },
        "d595b865480e4403a5fe4d7b5ee65c73": {
          "model_module": "@jupyter-widgets/base",
          "model_name": "LayoutModel",
          "model_module_version": "1.2.0",
          "state": {
            "_model_module": "@jupyter-widgets/base",
            "_model_module_version": "1.2.0",
            "_model_name": "LayoutModel",
            "_view_count": null,
            "_view_module": "@jupyter-widgets/base",
            "_view_module_version": "1.2.0",
            "_view_name": "LayoutView",
            "align_content": null,
            "align_items": null,
            "align_self": null,
            "border": null,
            "bottom": null,
            "display": null,
            "flex": null,
            "flex_flow": null,
            "grid_area": null,
            "grid_auto_columns": null,
            "grid_auto_flow": null,
            "grid_auto_rows": null,
            "grid_column": null,
            "grid_gap": null,
            "grid_row": null,
            "grid_template_areas": null,
            "grid_template_columns": null,
            "grid_template_rows": null,
            "height": null,
            "justify_content": null,
            "justify_items": null,
            "left": null,
            "margin": null,
            "max_height": null,
            "max_width": null,
            "min_height": null,
            "min_width": null,
            "object_fit": null,
            "object_position": null,
            "order": null,
            "overflow": null,
            "overflow_x": null,
            "overflow_y": null,
            "padding": null,
            "right": null,
            "top": null,
            "visibility": null,
            "width": null
          }
        },
        "af13a34d0b734a43bcc3db27301436ce": {
          "model_module": "@jupyter-widgets/controls",
          "model_name": "DescriptionStyleModel",
          "model_module_version": "1.5.0",
          "state": {
            "_model_module": "@jupyter-widgets/controls",
            "_model_module_version": "1.5.0",
            "_model_name": "DescriptionStyleModel",
            "_view_count": null,
            "_view_module": "@jupyter-widgets/base",
            "_view_module_version": "1.2.0",
            "_view_name": "StyleView",
            "description_width": ""
          }
        },
        "515b61425b484a02aa435e06953d0d90": {
          "model_module": "@jupyter-widgets/base",
          "model_name": "LayoutModel",
          "model_module_version": "1.2.0",
          "state": {
            "_model_module": "@jupyter-widgets/base",
            "_model_module_version": "1.2.0",
            "_model_name": "LayoutModel",
            "_view_count": null,
            "_view_module": "@jupyter-widgets/base",
            "_view_module_version": "1.2.0",
            "_view_name": "LayoutView",
            "align_content": null,
            "align_items": null,
            "align_self": null,
            "border": null,
            "bottom": null,
            "display": null,
            "flex": null,
            "flex_flow": null,
            "grid_area": null,
            "grid_auto_columns": null,
            "grid_auto_flow": null,
            "grid_auto_rows": null,
            "grid_column": null,
            "grid_gap": null,
            "grid_row": null,
            "grid_template_areas": null,
            "grid_template_columns": null,
            "grid_template_rows": null,
            "height": null,
            "justify_content": null,
            "justify_items": null,
            "left": null,
            "margin": null,
            "max_height": null,
            "max_width": null,
            "min_height": null,
            "min_width": null,
            "object_fit": null,
            "object_position": null,
            "order": null,
            "overflow": null,
            "overflow_x": null,
            "overflow_y": null,
            "padding": null,
            "right": null,
            "top": null,
            "visibility": null,
            "width": null
          }
        },
        "72673aa5d3104d568eded1f411bda0c3": {
          "model_module": "@jupyter-widgets/controls",
          "model_name": "ProgressStyleModel",
          "model_module_version": "1.5.0",
          "state": {
            "_model_module": "@jupyter-widgets/controls",
            "_model_module_version": "1.5.0",
            "_model_name": "ProgressStyleModel",
            "_view_count": null,
            "_view_module": "@jupyter-widgets/base",
            "_view_module_version": "1.2.0",
            "_view_name": "StyleView",
            "bar_color": null,
            "description_width": ""
          }
        },
        "1b357957833f4582bd6ac07386ab8d9c": {
          "model_module": "@jupyter-widgets/base",
          "model_name": "LayoutModel",
          "model_module_version": "1.2.0",
          "state": {
            "_model_module": "@jupyter-widgets/base",
            "_model_module_version": "1.2.0",
            "_model_name": "LayoutModel",
            "_view_count": null,
            "_view_module": "@jupyter-widgets/base",
            "_view_module_version": "1.2.0",
            "_view_name": "LayoutView",
            "align_content": null,
            "align_items": null,
            "align_self": null,
            "border": null,
            "bottom": null,
            "display": null,
            "flex": null,
            "flex_flow": null,
            "grid_area": null,
            "grid_auto_columns": null,
            "grid_auto_flow": null,
            "grid_auto_rows": null,
            "grid_column": null,
            "grid_gap": null,
            "grid_row": null,
            "grid_template_areas": null,
            "grid_template_columns": null,
            "grid_template_rows": null,
            "height": null,
            "justify_content": null,
            "justify_items": null,
            "left": null,
            "margin": null,
            "max_height": null,
            "max_width": null,
            "min_height": null,
            "min_width": null,
            "object_fit": null,
            "object_position": null,
            "order": null,
            "overflow": null,
            "overflow_x": null,
            "overflow_y": null,
            "padding": null,
            "right": null,
            "top": null,
            "visibility": null,
            "width": null
          }
        },
        "d9c37d422d9b44a582f2a2b4a4b2a0e8": {
          "model_module": "@jupyter-widgets/controls",
          "model_name": "DescriptionStyleModel",
          "model_module_version": "1.5.0",
          "state": {
            "_model_module": "@jupyter-widgets/controls",
            "_model_module_version": "1.5.0",
            "_model_name": "DescriptionStyleModel",
            "_view_count": null,
            "_view_module": "@jupyter-widgets/base",
            "_view_module_version": "1.2.0",
            "_view_name": "StyleView",
            "description_width": ""
          }
        },
        "98855fe300b8411d96c73110f83a5bbf": {
          "model_module": "@jupyter-widgets/controls",
          "model_name": "HBoxModel",
          "model_module_version": "1.5.0",
          "state": {
            "_dom_classes": [],
            "_model_module": "@jupyter-widgets/controls",
            "_model_module_version": "1.5.0",
            "_model_name": "HBoxModel",
            "_view_count": null,
            "_view_module": "@jupyter-widgets/controls",
            "_view_module_version": "1.5.0",
            "_view_name": "HBoxView",
            "box_style": "",
            "children": [
              "IPY_MODEL_4ef5b5d5d06a4840b16fe75af541eb54",
              "IPY_MODEL_9370d4cd95a9495abf59cf311af6d91b",
              "IPY_MODEL_590cf125cd6d4c38bf81cf018e1e1dca"
            ],
            "layout": "IPY_MODEL_3d09ae41a42a4d56a8e84731ed9f493d"
          }
        },
        "4ef5b5d5d06a4840b16fe75af541eb54": {
          "model_module": "@jupyter-widgets/controls",
          "model_name": "HTMLModel",
          "model_module_version": "1.5.0",
          "state": {
            "_dom_classes": [],
            "_model_module": "@jupyter-widgets/controls",
            "_model_module_version": "1.5.0",
            "_model_name": "HTMLModel",
            "_view_count": null,
            "_view_module": "@jupyter-widgets/controls",
            "_view_module_version": "1.5.0",
            "_view_name": "HTMLView",
            "description": "",
            "description_tooltip": null,
            "layout": "IPY_MODEL_924609411b164e75a29ea3793484f33d",
            "placeholder": "​",
            "style": "IPY_MODEL_fdcd8bd75eb2458b8438e562ebe76619",
            "value": "100%"
          }
        },
        "9370d4cd95a9495abf59cf311af6d91b": {
          "model_module": "@jupyter-widgets/controls",
          "model_name": "FloatProgressModel",
          "model_module_version": "1.5.0",
          "state": {
            "_dom_classes": [],
            "_model_module": "@jupyter-widgets/controls",
            "_model_module_version": "1.5.0",
            "_model_name": "FloatProgressModel",
            "_view_count": null,
            "_view_module": "@jupyter-widgets/controls",
            "_view_module_version": "1.5.0",
            "_view_name": "ProgressView",
            "bar_style": "success",
            "description": "",
            "description_tooltip": null,
            "layout": "IPY_MODEL_3ce4d36e59a842a287b106c2d4fc6a3a",
            "max": 4422102,
            "min": 0,
            "orientation": "horizontal",
            "style": "IPY_MODEL_524d330de05c48989c35e179de9a0f41",
            "value": 4422102
          }
        },
        "590cf125cd6d4c38bf81cf018e1e1dca": {
          "model_module": "@jupyter-widgets/controls",
          "model_name": "HTMLModel",
          "model_module_version": "1.5.0",
          "state": {
            "_dom_classes": [],
            "_model_module": "@jupyter-widgets/controls",
            "_model_module_version": "1.5.0",
            "_model_name": "HTMLModel",
            "_view_count": null,
            "_view_module": "@jupyter-widgets/controls",
            "_view_module_version": "1.5.0",
            "_view_name": "HTMLView",
            "description": "",
            "description_tooltip": null,
            "layout": "IPY_MODEL_5f407957a6304d04bc74fbde1abd7dbd",
            "placeholder": "​",
            "style": "IPY_MODEL_6eb9ca749e1a46aca4cf77fc6018e65c",
            "value": " 4422102/4422102 [00:00&lt;00:00, 3859544.21it/s]"
          }
        },
        "3d09ae41a42a4d56a8e84731ed9f493d": {
          "model_module": "@jupyter-widgets/base",
          "model_name": "LayoutModel",
          "model_module_version": "1.2.0",
          "state": {
            "_model_module": "@jupyter-widgets/base",
            "_model_module_version": "1.2.0",
            "_model_name": "LayoutModel",
            "_view_count": null,
            "_view_module": "@jupyter-widgets/base",
            "_view_module_version": "1.2.0",
            "_view_name": "LayoutView",
            "align_content": null,
            "align_items": null,
            "align_self": null,
            "border": null,
            "bottom": null,
            "display": null,
            "flex": null,
            "flex_flow": null,
            "grid_area": null,
            "grid_auto_columns": null,
            "grid_auto_flow": null,
            "grid_auto_rows": null,
            "grid_column": null,
            "grid_gap": null,
            "grid_row": null,
            "grid_template_areas": null,
            "grid_template_columns": null,
            "grid_template_rows": null,
            "height": null,
            "justify_content": null,
            "justify_items": null,
            "left": null,
            "margin": null,
            "max_height": null,
            "max_width": null,
            "min_height": null,
            "min_width": null,
            "object_fit": null,
            "object_position": null,
            "order": null,
            "overflow": null,
            "overflow_x": null,
            "overflow_y": null,
            "padding": null,
            "right": null,
            "top": null,
            "visibility": null,
            "width": null
          }
        },
        "924609411b164e75a29ea3793484f33d": {
          "model_module": "@jupyter-widgets/base",
          "model_name": "LayoutModel",
          "model_module_version": "1.2.0",
          "state": {
            "_model_module": "@jupyter-widgets/base",
            "_model_module_version": "1.2.0",
            "_model_name": "LayoutModel",
            "_view_count": null,
            "_view_module": "@jupyter-widgets/base",
            "_view_module_version": "1.2.0",
            "_view_name": "LayoutView",
            "align_content": null,
            "align_items": null,
            "align_self": null,
            "border": null,
            "bottom": null,
            "display": null,
            "flex": null,
            "flex_flow": null,
            "grid_area": null,
            "grid_auto_columns": null,
            "grid_auto_flow": null,
            "grid_auto_rows": null,
            "grid_column": null,
            "grid_gap": null,
            "grid_row": null,
            "grid_template_areas": null,
            "grid_template_columns": null,
            "grid_template_rows": null,
            "height": null,
            "justify_content": null,
            "justify_items": null,
            "left": null,
            "margin": null,
            "max_height": null,
            "max_width": null,
            "min_height": null,
            "min_width": null,
            "object_fit": null,
            "object_position": null,
            "order": null,
            "overflow": null,
            "overflow_x": null,
            "overflow_y": null,
            "padding": null,
            "right": null,
            "top": null,
            "visibility": null,
            "width": null
          }
        },
        "fdcd8bd75eb2458b8438e562ebe76619": {
          "model_module": "@jupyter-widgets/controls",
          "model_name": "DescriptionStyleModel",
          "model_module_version": "1.5.0",
          "state": {
            "_model_module": "@jupyter-widgets/controls",
            "_model_module_version": "1.5.0",
            "_model_name": "DescriptionStyleModel",
            "_view_count": null,
            "_view_module": "@jupyter-widgets/base",
            "_view_module_version": "1.2.0",
            "_view_name": "StyleView",
            "description_width": ""
          }
        },
        "3ce4d36e59a842a287b106c2d4fc6a3a": {
          "model_module": "@jupyter-widgets/base",
          "model_name": "LayoutModel",
          "model_module_version": "1.2.0",
          "state": {
            "_model_module": "@jupyter-widgets/base",
            "_model_module_version": "1.2.0",
            "_model_name": "LayoutModel",
            "_view_count": null,
            "_view_module": "@jupyter-widgets/base",
            "_view_module_version": "1.2.0",
            "_view_name": "LayoutView",
            "align_content": null,
            "align_items": null,
            "align_self": null,
            "border": null,
            "bottom": null,
            "display": null,
            "flex": null,
            "flex_flow": null,
            "grid_area": null,
            "grid_auto_columns": null,
            "grid_auto_flow": null,
            "grid_auto_rows": null,
            "grid_column": null,
            "grid_gap": null,
            "grid_row": null,
            "grid_template_areas": null,
            "grid_template_columns": null,
            "grid_template_rows": null,
            "height": null,
            "justify_content": null,
            "justify_items": null,
            "left": null,
            "margin": null,
            "max_height": null,
            "max_width": null,
            "min_height": null,
            "min_width": null,
            "object_fit": null,
            "object_position": null,
            "order": null,
            "overflow": null,
            "overflow_x": null,
            "overflow_y": null,
            "padding": null,
            "right": null,
            "top": null,
            "visibility": null,
            "width": null
          }
        },
        "524d330de05c48989c35e179de9a0f41": {
          "model_module": "@jupyter-widgets/controls",
          "model_name": "ProgressStyleModel",
          "model_module_version": "1.5.0",
          "state": {
            "_model_module": "@jupyter-widgets/controls",
            "_model_module_version": "1.5.0",
            "_model_name": "ProgressStyleModel",
            "_view_count": null,
            "_view_module": "@jupyter-widgets/base",
            "_view_module_version": "1.2.0",
            "_view_name": "StyleView",
            "bar_color": null,
            "description_width": ""
          }
        },
        "5f407957a6304d04bc74fbde1abd7dbd": {
          "model_module": "@jupyter-widgets/base",
          "model_name": "LayoutModel",
          "model_module_version": "1.2.0",
          "state": {
            "_model_module": "@jupyter-widgets/base",
            "_model_module_version": "1.2.0",
            "_model_name": "LayoutModel",
            "_view_count": null,
            "_view_module": "@jupyter-widgets/base",
            "_view_module_version": "1.2.0",
            "_view_name": "LayoutView",
            "align_content": null,
            "align_items": null,
            "align_self": null,
            "border": null,
            "bottom": null,
            "display": null,
            "flex": null,
            "flex_flow": null,
            "grid_area": null,
            "grid_auto_columns": null,
            "grid_auto_flow": null,
            "grid_auto_rows": null,
            "grid_column": null,
            "grid_gap": null,
            "grid_row": null,
            "grid_template_areas": null,
            "grid_template_columns": null,
            "grid_template_rows": null,
            "height": null,
            "justify_content": null,
            "justify_items": null,
            "left": null,
            "margin": null,
            "max_height": null,
            "max_width": null,
            "min_height": null,
            "min_width": null,
            "object_fit": null,
            "object_position": null,
            "order": null,
            "overflow": null,
            "overflow_x": null,
            "overflow_y": null,
            "padding": null,
            "right": null,
            "top": null,
            "visibility": null,
            "width": null
          }
        },
        "6eb9ca749e1a46aca4cf77fc6018e65c": {
          "model_module": "@jupyter-widgets/controls",
          "model_name": "DescriptionStyleModel",
          "model_module_version": "1.5.0",
          "state": {
            "_model_module": "@jupyter-widgets/controls",
            "_model_module_version": "1.5.0",
            "_model_name": "DescriptionStyleModel",
            "_view_count": null,
            "_view_module": "@jupyter-widgets/base",
            "_view_module_version": "1.2.0",
            "_view_name": "StyleView",
            "description_width": ""
          }
        },
        "cce4eca1ff704cafa6599c80c255ffb0": {
          "model_module": "@jupyter-widgets/controls",
          "model_name": "HBoxModel",
          "model_module_version": "1.5.0",
          "state": {
            "_dom_classes": [],
            "_model_module": "@jupyter-widgets/controls",
            "_model_module_version": "1.5.0",
            "_model_name": "HBoxModel",
            "_view_count": null,
            "_view_module": "@jupyter-widgets/controls",
            "_view_module_version": "1.5.0",
            "_view_name": "HBoxView",
            "box_style": "",
            "children": [
              "IPY_MODEL_94cf43b33d2144e4b86e70ba71579528",
              "IPY_MODEL_470fc3577aa6494f977848b8e3472c55",
              "IPY_MODEL_07b4f820fc264a51b9a05bbc261c83cb"
            ],
            "layout": "IPY_MODEL_b0d2c131b5504de3a6b7535d5aab9ca6"
          }
        },
        "94cf43b33d2144e4b86e70ba71579528": {
          "model_module": "@jupyter-widgets/controls",
          "model_name": "HTMLModel",
          "model_module_version": "1.5.0",
          "state": {
            "_dom_classes": [],
            "_model_module": "@jupyter-widgets/controls",
            "_model_module_version": "1.5.0",
            "_model_name": "HTMLModel",
            "_view_count": null,
            "_view_module": "@jupyter-widgets/controls",
            "_view_module_version": "1.5.0",
            "_view_name": "HTMLView",
            "description": "",
            "description_tooltip": null,
            "layout": "IPY_MODEL_f10b5ea4fb2f4d8fad097f41700fa1fe",
            "placeholder": "​",
            "style": "IPY_MODEL_3d6f07ea339e473c9f76d3b444d1d557",
            "value": "100%"
          }
        },
        "470fc3577aa6494f977848b8e3472c55": {
          "model_module": "@jupyter-widgets/controls",
          "model_name": "FloatProgressModel",
          "model_module_version": "1.5.0",
          "state": {
            "_dom_classes": [],
            "_model_module": "@jupyter-widgets/controls",
            "_model_module_version": "1.5.0",
            "_model_name": "FloatProgressModel",
            "_view_count": null,
            "_view_module": "@jupyter-widgets/controls",
            "_view_module_version": "1.5.0",
            "_view_name": "ProgressView",
            "bar_style": "success",
            "description": "",
            "description_tooltip": null,
            "layout": "IPY_MODEL_9eadc873bc4248b2aca58885f1a043ee",
            "max": 5148,
            "min": 0,
            "orientation": "horizontal",
            "style": "IPY_MODEL_47c83bb04b5048feb558e9252f8a94e8",
            "value": 5148
          }
        },
        "07b4f820fc264a51b9a05bbc261c83cb": {
          "model_module": "@jupyter-widgets/controls",
          "model_name": "HTMLModel",
          "model_module_version": "1.5.0",
          "state": {
            "_dom_classes": [],
            "_model_module": "@jupyter-widgets/controls",
            "_model_module_version": "1.5.0",
            "_model_name": "HTMLModel",
            "_view_count": null,
            "_view_module": "@jupyter-widgets/controls",
            "_view_module_version": "1.5.0",
            "_view_name": "HTMLView",
            "description": "",
            "description_tooltip": null,
            "layout": "IPY_MODEL_13b90cc6f1334182adfc72306ca04fa2",
            "placeholder": "​",
            "style": "IPY_MODEL_b2cb1b806ade41b596b1e503bb68e872",
            "value": " 5148/5148 [00:00&lt;00:00, 288400.77it/s]"
          }
        },
        "b0d2c131b5504de3a6b7535d5aab9ca6": {
          "model_module": "@jupyter-widgets/base",
          "model_name": "LayoutModel",
          "model_module_version": "1.2.0",
          "state": {
            "_model_module": "@jupyter-widgets/base",
            "_model_module_version": "1.2.0",
            "_model_name": "LayoutModel",
            "_view_count": null,
            "_view_module": "@jupyter-widgets/base",
            "_view_module_version": "1.2.0",
            "_view_name": "LayoutView",
            "align_content": null,
            "align_items": null,
            "align_self": null,
            "border": null,
            "bottom": null,
            "display": null,
            "flex": null,
            "flex_flow": null,
            "grid_area": null,
            "grid_auto_columns": null,
            "grid_auto_flow": null,
            "grid_auto_rows": null,
            "grid_column": null,
            "grid_gap": null,
            "grid_row": null,
            "grid_template_areas": null,
            "grid_template_columns": null,
            "grid_template_rows": null,
            "height": null,
            "justify_content": null,
            "justify_items": null,
            "left": null,
            "margin": null,
            "max_height": null,
            "max_width": null,
            "min_height": null,
            "min_width": null,
            "object_fit": null,
            "object_position": null,
            "order": null,
            "overflow": null,
            "overflow_x": null,
            "overflow_y": null,
            "padding": null,
            "right": null,
            "top": null,
            "visibility": null,
            "width": null
          }
        },
        "f10b5ea4fb2f4d8fad097f41700fa1fe": {
          "model_module": "@jupyter-widgets/base",
          "model_name": "LayoutModel",
          "model_module_version": "1.2.0",
          "state": {
            "_model_module": "@jupyter-widgets/base",
            "_model_module_version": "1.2.0",
            "_model_name": "LayoutModel",
            "_view_count": null,
            "_view_module": "@jupyter-widgets/base",
            "_view_module_version": "1.2.0",
            "_view_name": "LayoutView",
            "align_content": null,
            "align_items": null,
            "align_self": null,
            "border": null,
            "bottom": null,
            "display": null,
            "flex": null,
            "flex_flow": null,
            "grid_area": null,
            "grid_auto_columns": null,
            "grid_auto_flow": null,
            "grid_auto_rows": null,
            "grid_column": null,
            "grid_gap": null,
            "grid_row": null,
            "grid_template_areas": null,
            "grid_template_columns": null,
            "grid_template_rows": null,
            "height": null,
            "justify_content": null,
            "justify_items": null,
            "left": null,
            "margin": null,
            "max_height": null,
            "max_width": null,
            "min_height": null,
            "min_width": null,
            "object_fit": null,
            "object_position": null,
            "order": null,
            "overflow": null,
            "overflow_x": null,
            "overflow_y": null,
            "padding": null,
            "right": null,
            "top": null,
            "visibility": null,
            "width": null
          }
        },
        "3d6f07ea339e473c9f76d3b444d1d557": {
          "model_module": "@jupyter-widgets/controls",
          "model_name": "DescriptionStyleModel",
          "model_module_version": "1.5.0",
          "state": {
            "_model_module": "@jupyter-widgets/controls",
            "_model_module_version": "1.5.0",
            "_model_name": "DescriptionStyleModel",
            "_view_count": null,
            "_view_module": "@jupyter-widgets/base",
            "_view_module_version": "1.2.0",
            "_view_name": "StyleView",
            "description_width": ""
          }
        },
        "9eadc873bc4248b2aca58885f1a043ee": {
          "model_module": "@jupyter-widgets/base",
          "model_name": "LayoutModel",
          "model_module_version": "1.2.0",
          "state": {
            "_model_module": "@jupyter-widgets/base",
            "_model_module_version": "1.2.0",
            "_model_name": "LayoutModel",
            "_view_count": null,
            "_view_module": "@jupyter-widgets/base",
            "_view_module_version": "1.2.0",
            "_view_name": "LayoutView",
            "align_content": null,
            "align_items": null,
            "align_self": null,
            "border": null,
            "bottom": null,
            "display": null,
            "flex": null,
            "flex_flow": null,
            "grid_area": null,
            "grid_auto_columns": null,
            "grid_auto_flow": null,
            "grid_auto_rows": null,
            "grid_column": null,
            "grid_gap": null,
            "grid_row": null,
            "grid_template_areas": null,
            "grid_template_columns": null,
            "grid_template_rows": null,
            "height": null,
            "justify_content": null,
            "justify_items": null,
            "left": null,
            "margin": null,
            "max_height": null,
            "max_width": null,
            "min_height": null,
            "min_width": null,
            "object_fit": null,
            "object_position": null,
            "order": null,
            "overflow": null,
            "overflow_x": null,
            "overflow_y": null,
            "padding": null,
            "right": null,
            "top": null,
            "visibility": null,
            "width": null
          }
        },
        "47c83bb04b5048feb558e9252f8a94e8": {
          "model_module": "@jupyter-widgets/controls",
          "model_name": "ProgressStyleModel",
          "model_module_version": "1.5.0",
          "state": {
            "_model_module": "@jupyter-widgets/controls",
            "_model_module_version": "1.5.0",
            "_model_name": "ProgressStyleModel",
            "_view_count": null,
            "_view_module": "@jupyter-widgets/base",
            "_view_module_version": "1.2.0",
            "_view_name": "StyleView",
            "bar_color": null,
            "description_width": ""
          }
        },
        "13b90cc6f1334182adfc72306ca04fa2": {
          "model_module": "@jupyter-widgets/base",
          "model_name": "LayoutModel",
          "model_module_version": "1.2.0",
          "state": {
            "_model_module": "@jupyter-widgets/base",
            "_model_module_version": "1.2.0",
            "_model_name": "LayoutModel",
            "_view_count": null,
            "_view_module": "@jupyter-widgets/base",
            "_view_module_version": "1.2.0",
            "_view_name": "LayoutView",
            "align_content": null,
            "align_items": null,
            "align_self": null,
            "border": null,
            "bottom": null,
            "display": null,
            "flex": null,
            "flex_flow": null,
            "grid_area": null,
            "grid_auto_columns": null,
            "grid_auto_flow": null,
            "grid_auto_rows": null,
            "grid_column": null,
            "grid_gap": null,
            "grid_row": null,
            "grid_template_areas": null,
            "grid_template_columns": null,
            "grid_template_rows": null,
            "height": null,
            "justify_content": null,
            "justify_items": null,
            "left": null,
            "margin": null,
            "max_height": null,
            "max_width": null,
            "min_height": null,
            "min_width": null,
            "object_fit": null,
            "object_position": null,
            "order": null,
            "overflow": null,
            "overflow_x": null,
            "overflow_y": null,
            "padding": null,
            "right": null,
            "top": null,
            "visibility": null,
            "width": null
          }
        },
        "b2cb1b806ade41b596b1e503bb68e872": {
          "model_module": "@jupyter-widgets/controls",
          "model_name": "DescriptionStyleModel",
          "model_module_version": "1.5.0",
          "state": {
            "_model_module": "@jupyter-widgets/controls",
            "_model_module_version": "1.5.0",
            "_model_name": "DescriptionStyleModel",
            "_view_count": null,
            "_view_module": "@jupyter-widgets/base",
            "_view_module_version": "1.2.0",
            "_view_name": "StyleView",
            "description_width": ""
          }
        }
      }
    }
  },
  "cells": [
    {
      "cell_type": "markdown",
      "source": [
        "# 초기 세팅"
      ],
      "metadata": {
        "id": "cdNvme8aKSBP"
      }
    },
    {
      "cell_type": "code",
      "metadata": {
        "id": "P1v9luAfHXdz"
      },
      "source": [
        "import torch\n",
        "import torch.nn as nn\n",
        "import torch.nn.functional as F\n",
        "import torch.optim as optim\n",
        "from torch.utils.data import Dataset, DataLoader\n",
        "\n",
        "import torchvision\n",
        "import torchvision.datasets as datasets\n",
        "import torchvision.transforms as transforms\n",
        "\n",
        "import numpy as np\n",
        "import matplotlib.pyplot as plt\n",
        "plt.style.use('seaborn-white')"
      ],
      "execution_count": 1,
      "outputs": []
    },
    {
      "cell_type": "code",
      "source": [
        "!pip install torchsummary\n",
        "from torchsummary import summary"
      ],
      "metadata": {
        "colab": {
          "base_uri": "https://localhost:8080/"
        },
        "id": "D39aCPyTu2Ce",
        "outputId": "5b1505eb-870a-445c-d8e4-a9c0017d3cac"
      },
      "execution_count": 2,
      "outputs": [
        {
          "output_type": "stream",
          "name": "stdout",
          "text": [
            "Looking in indexes: https://pypi.org/simple, https://us-python.pkg.dev/colab-wheels/public/simple/\n",
            "Requirement already satisfied: torchsummary in /usr/local/lib/python3.8/dist-packages (1.5.1)\n"
          ]
        }
      ]
    },
    {
      "cell_type": "markdown",
      "metadata": {
        "id": "02LdHlTTSz5L"
      },
      "source": [
        "- 현재 GPU 설정"
      ]
    },
    {
      "cell_type": "code",
      "metadata": {
        "id": "Ybsjn80uSx3X",
        "colab": {
          "base_uri": "https://localhost:8080/"
        },
        "outputId": "740db853-f0e9-4ff6-a5a7-b490dfb7679d"
      },
      "source": [
        "# colab의 runtime-type을 GPU로 설정해서, True가 나오도록 한다.\n",
        "\n",
        "torch.cuda.is_available()"
      ],
      "execution_count": 3,
      "outputs": [
        {
          "output_type": "execute_result",
          "data": {
            "text/plain": [
              "True"
            ]
          },
          "metadata": {},
          "execution_count": 3
        }
      ]
    },
    {
      "cell_type": "code",
      "metadata": {
        "id": "HlPZI5wfDQhv",
        "colab": {
          "base_uri": "https://localhost:8080/"
        },
        "outputId": "f6be5ccf-b7e2-422b-da06-73fa66e46bfa"
      },
      "source": [
        "use_cuda = torch.cuda.is_available()\n",
        "device = torch.device(\"cuda\" if use_cuda else \"cpu\")\n",
        "device"
      ],
      "execution_count": 4,
      "outputs": [
        {
          "output_type": "execute_result",
          "data": {
            "text/plain": [
              "device(type='cuda')"
            ]
          },
          "metadata": {},
          "execution_count": 4
        }
      ]
    },
    {
      "cell_type": "markdown",
      "source": [
        "# FashionMNIST 분류 모델 만들기\n",
        "* 흑/백(1) 이미지 데이터 분류\n",
        "* 28x28 pixel"
      ],
      "metadata": {
        "id": "OHckdZ55KeH2"
      }
    },
    {
      "cell_type": "markdown",
      "source": [
        "## 데이터 로드"
      ],
      "metadata": {
        "id": "mCrBa-gRRMEO"
      }
    },
    {
      "cell_type": "code",
      "source": [
        "# 데이터 전처리\n",
        "\n",
        "MNIST_transform = transforms.Compose([transforms.ToTensor(), # tensor로 펴준다.\n",
        "                                      transforms.Normalize((0.5,),(0.5,))]) # 정규화를 해준다."
      ],
      "metadata": {
        "id": "vYP9dGrWzDqd"
      },
      "execution_count": 5,
      "outputs": []
    },
    {
      "cell_type": "code",
      "source": [
        "trainset = datasets.FashionMNIST(root='/content',\n",
        "                                 train=True, download=True,\n",
        "                                 transform=MNIST_transform)\n",
        "\n",
        "testset = datasets.FashionMNIST(root='/content',\n",
        "                                 train=False, download=True,\n",
        "                                 transform=MNIST_transform)"
      ],
      "metadata": {
        "id": "VpVsTevTWE5i",
        "colab": {
          "base_uri": "https://localhost:8080/",
          "height": 431,
          "referenced_widgets": [
            "e2793e0977f04b4f87b6f6e2d1e5fcfb",
            "ec4a64991eb6468ab468d2404ac0d48a",
            "62a4beebc40948248aab39df8903ea7f",
            "d54da25c2a4d49478eb2cecb02335e5a",
            "d204515e591d460198f6309de937e46a",
            "9588a8c5f232430ab91fbf3e28061284",
            "5d9562652bc34f06a5ce0fd1c612b8c9",
            "57518aa868a4493f9b2f52b4db80e483",
            "b166f30886414144996c794c7c7ba0a6",
            "4feac67138ef4d929e30c0a6254a71cb",
            "1afd9cd4316c45c0aa73ca8c7bc3acfd",
            "8ca8fdacd66f416c940c3c915185b9bc",
            "d9a29cda9c324988a2ab877b845a64a2",
            "afda7c672b3c45978a42f7edb71423b3",
            "db5f7597ee01490e9bc77f56fdf8c905",
            "098a90c1053c43c7953fe8841963d658",
            "d595b865480e4403a5fe4d7b5ee65c73",
            "af13a34d0b734a43bcc3db27301436ce",
            "515b61425b484a02aa435e06953d0d90",
            "72673aa5d3104d568eded1f411bda0c3",
            "1b357957833f4582bd6ac07386ab8d9c",
            "d9c37d422d9b44a582f2a2b4a4b2a0e8",
            "98855fe300b8411d96c73110f83a5bbf",
            "4ef5b5d5d06a4840b16fe75af541eb54",
            "9370d4cd95a9495abf59cf311af6d91b",
            "590cf125cd6d4c38bf81cf018e1e1dca",
            "3d09ae41a42a4d56a8e84731ed9f493d",
            "924609411b164e75a29ea3793484f33d",
            "fdcd8bd75eb2458b8438e562ebe76619",
            "3ce4d36e59a842a287b106c2d4fc6a3a",
            "524d330de05c48989c35e179de9a0f41",
            "5f407957a6304d04bc74fbde1abd7dbd",
            "6eb9ca749e1a46aca4cf77fc6018e65c",
            "cce4eca1ff704cafa6599c80c255ffb0",
            "94cf43b33d2144e4b86e70ba71579528",
            "470fc3577aa6494f977848b8e3472c55",
            "07b4f820fc264a51b9a05bbc261c83cb",
            "b0d2c131b5504de3a6b7535d5aab9ca6",
            "f10b5ea4fb2f4d8fad097f41700fa1fe",
            "3d6f07ea339e473c9f76d3b444d1d557",
            "9eadc873bc4248b2aca58885f1a043ee",
            "47c83bb04b5048feb558e9252f8a94e8",
            "13b90cc6f1334182adfc72306ca04fa2",
            "b2cb1b806ade41b596b1e503bb68e872"
          ]
        },
        "outputId": "9a363387-6b7c-4c8e-ff1b-8c42a3dea1c2"
      },
      "execution_count": 6,
      "outputs": [
        {
          "output_type": "stream",
          "name": "stdout",
          "text": [
            "Downloading http://fashion-mnist.s3-website.eu-central-1.amazonaws.com/train-images-idx3-ubyte.gz\n",
            "Downloading http://fashion-mnist.s3-website.eu-central-1.amazonaws.com/train-images-idx3-ubyte.gz to /content/FashionMNIST/raw/train-images-idx3-ubyte.gz\n"
          ]
        },
        {
          "output_type": "display_data",
          "data": {
            "text/plain": [
              "  0%|          | 0/26421880 [00:00<?, ?it/s]"
            ],
            "application/vnd.jupyter.widget-view+json": {
              "version_major": 2,
              "version_minor": 0,
              "model_id": "e2793e0977f04b4f87b6f6e2d1e5fcfb"
            }
          },
          "metadata": {}
        },
        {
          "output_type": "stream",
          "name": "stdout",
          "text": [
            "Extracting /content/FashionMNIST/raw/train-images-idx3-ubyte.gz to /content/FashionMNIST/raw\n",
            "\n",
            "Downloading http://fashion-mnist.s3-website.eu-central-1.amazonaws.com/train-labels-idx1-ubyte.gz\n",
            "Downloading http://fashion-mnist.s3-website.eu-central-1.amazonaws.com/train-labels-idx1-ubyte.gz to /content/FashionMNIST/raw/train-labels-idx1-ubyte.gz\n"
          ]
        },
        {
          "output_type": "display_data",
          "data": {
            "text/plain": [
              "  0%|          | 0/29515 [00:00<?, ?it/s]"
            ],
            "application/vnd.jupyter.widget-view+json": {
              "version_major": 2,
              "version_minor": 0,
              "model_id": "8ca8fdacd66f416c940c3c915185b9bc"
            }
          },
          "metadata": {}
        },
        {
          "output_type": "stream",
          "name": "stdout",
          "text": [
            "Extracting /content/FashionMNIST/raw/train-labels-idx1-ubyte.gz to /content/FashionMNIST/raw\n",
            "\n",
            "Downloading http://fashion-mnist.s3-website.eu-central-1.amazonaws.com/t10k-images-idx3-ubyte.gz\n",
            "Downloading http://fashion-mnist.s3-website.eu-central-1.amazonaws.com/t10k-images-idx3-ubyte.gz to /content/FashionMNIST/raw/t10k-images-idx3-ubyte.gz\n"
          ]
        },
        {
          "output_type": "display_data",
          "data": {
            "text/plain": [
              "  0%|          | 0/4422102 [00:00<?, ?it/s]"
            ],
            "application/vnd.jupyter.widget-view+json": {
              "version_major": 2,
              "version_minor": 0,
              "model_id": "98855fe300b8411d96c73110f83a5bbf"
            }
          },
          "metadata": {}
        },
        {
          "output_type": "stream",
          "name": "stdout",
          "text": [
            "Extracting /content/FashionMNIST/raw/t10k-images-idx3-ubyte.gz to /content/FashionMNIST/raw\n",
            "\n",
            "Downloading http://fashion-mnist.s3-website.eu-central-1.amazonaws.com/t10k-labels-idx1-ubyte.gz\n",
            "Downloading http://fashion-mnist.s3-website.eu-central-1.amazonaws.com/t10k-labels-idx1-ubyte.gz to /content/FashionMNIST/raw/t10k-labels-idx1-ubyte.gz\n"
          ]
        },
        {
          "output_type": "display_data",
          "data": {
            "text/plain": [
              "  0%|          | 0/5148 [00:00<?, ?it/s]"
            ],
            "application/vnd.jupyter.widget-view+json": {
              "version_major": 2,
              "version_minor": 0,
              "model_id": "cce4eca1ff704cafa6599c80c255ffb0"
            }
          },
          "metadata": {}
        },
        {
          "output_type": "stream",
          "name": "stdout",
          "text": [
            "Extracting /content/FashionMNIST/raw/t10k-labels-idx1-ubyte.gz to /content/FashionMNIST/raw\n",
            "\n"
          ]
        }
      ]
    },
    {
      "cell_type": "markdown",
      "source": [
        "input-data size 확인"
      ],
      "metadata": {
        "id": "qh7uI7ewsipv"
      }
    },
    {
      "cell_type": "code",
      "source": [
        "# batch-size=128\n",
        "train_loader128 =  DataLoader(trainset, batch_size=128, shuffle=True, num_workers=2)\n",
        "test_loader128 =  DataLoader(testset, batch_size=128, shuffle=False, num_workers=2)\n",
        "\n",
        "# batch-size=64\n",
        "train_loader64 =  DataLoader(trainset, batch_size=64, shuffle=True, num_workers=2)\n",
        "test_loader64 =  DataLoader(testset, batch_size=64, shuffle=False, num_workers=2)"
      ],
      "metadata": {
        "id": "Dz-CJf0x0nne"
      },
      "execution_count": 20,
      "outputs": []
    },
    {
      "cell_type": "code",
      "source": [
        "# 128 : batch-size\n",
        "# 1 : 흑백\n",
        "# 28x28 : pixel-size\n",
        "\n",
        "images128, labels128 = next(iter(train_loader128))\n",
        "images128.shape, labels128.shape"
      ],
      "metadata": {
        "id": "iy6D1Rg_07fD",
        "colab": {
          "base_uri": "https://localhost:8080/"
        },
        "outputId": "ad5f06ff-718c-4aec-b4fa-a62c313e70b5"
      },
      "execution_count": 21,
      "outputs": [
        {
          "output_type": "execute_result",
          "data": {
            "text/plain": [
              "(torch.Size([128, 1, 28, 28]), torch.Size([128]))"
            ]
          },
          "metadata": {},
          "execution_count": 21
        }
      ]
    },
    {
      "cell_type": "code",
      "source": [
        "# 64 : batch-size\n",
        "# 1 : 흑백\n",
        "# 28x28 : pixel-size\n",
        "\n",
        "images64, labels64 = next(iter(train_loader64))\n",
        "images64.shape, labels64.shape"
      ],
      "metadata": {
        "colab": {
          "base_uri": "https://localhost:8080/"
        },
        "id": "AotS6123m9sK",
        "outputId": "6ddb7ba4-f89e-40d2-b2b0-57f9d846e58e"
      },
      "execution_count": 22,
      "outputs": [
        {
          "output_type": "execute_result",
          "data": {
            "text/plain": [
              "(torch.Size([64, 1, 28, 28]), torch.Size([64]))"
            ]
          },
          "metadata": {},
          "execution_count": 22
        }
      ]
    },
    {
      "cell_type": "code",
      "source": [
        "# 숫자 label에 해당되는 값\n",
        "\n",
        "labels_map = {\n",
        "    0: 'T-Shirt',\n",
        "    1: 'Trouser',\n",
        "    2: 'Pullover',\n",
        "    3: 'Dress',\n",
        "    4: 'Coat',\n",
        "    5: 'Sandal',\n",
        "    6: 'Shirt',\n",
        "    7: 'Sneaker',\n",
        "    8: 'Bag',\n",
        "    9: 'Ankle Boot'\n",
        "}"
      ],
      "metadata": {
        "id": "g4Nd4uLGTEDy"
      },
      "execution_count": 23,
      "outputs": []
    },
    {
      "cell_type": "code",
      "source": [
        "# 데이터 확인\n",
        "\n",
        "figure = plt.figure(figsize=(12,12))\n",
        "cols, rows = 4, 1\n",
        "\n",
        "for i in range(1, cols * rows + 1):\n",
        "    image = images128[i].squeeze()\n",
        "    label_idx = labels128[i].item() # y_label\n",
        "    label = labels_map[label_idx] # 위에서 해당되는 label\n",
        "\n",
        "    figure.add_subplot(rows, cols, i)\n",
        "    plt.title(label)\n",
        "    plt.axis('off')\n",
        "    plt.imshow(image, cmap='gray')\n",
        "\n",
        "plt.show()"
      ],
      "metadata": {
        "id": "_u5_UEAH09SB",
        "colab": {
          "base_uri": "https://localhost:8080/",
          "height": 191
        },
        "outputId": "0a0f7894-112a-4560-b6a1-18bacbb9a697"
      },
      "execution_count": 24,
      "outputs": [
        {
          "output_type": "display_data",
          "data": {
            "text/plain": [
              "<Figure size 864x864 with 4 Axes>"
            ],
            "image/png": "[encoded data removed]"
          },
          "metadata": {}
        }
      ]
    },
    {
      "cell_type": "markdown",
      "source": [
        "## 모델 1 생성\n",
        "* 10개의 convolution-layer(Conv2d)와 2개의 fully-connected(fc)로 이루어진 모델\n",
        "* Total params: 28,784"
      ],
      "metadata": {
        "id": "EFPYE3UUnpmX"
      }
    },
    {
      "cell_type": "markdown",
      "source": [
        "input-data size\n",
        "* train_loader128(batch-size;128) : 128, 1, 28, 28\n",
        "* train_loader64(batch-size;64) : 64, 1, 28, 28\n",
        "\n",
        "\n",
        "구현해야하는 모델 정보<br>\n",
        "* convolution-layer 1\n",
        "* maxpooling-layer\n",
        "* convolution-layer 2\n",
        "* convolution-layer 3\n",
        "* convolution-layer 4\n",
        "* convolution-layer 5\n",
        "* convolution-layer 6\n",
        "* convolution-layer 7\n",
        "* convolution-layer 8\n",
        "* convolution-layer 9\n",
        "* maxpooling-layer\n",
        "* convolution-layer 10\n",
        "* flatten\n",
        "* fc1\n",
        "* fc2\n",
        "\n",
        "추가 정보\n",
        "* 활성화함수 : relu\n",
        "(단, maxpooling과 마지막 fc2에는 보통적으로 활성화함수를 사용하지 않는다.)\n",
        "* flatten의 경우, weights가 들어가지 않는다. 즉, layer라고는 볼 수 없다.\n",
        "\n",
        "모델의 layer를 통과함에 따라 데이터의 크기 변화는 다음과 같다.\n",
        "1. batch-size128 -> torch.Size([128, 1, 28, 28]) 으로 시작\n",
        "2. batch-size;64 -> torch.Size([64, 1, 28, 28]) 으로 시작\n",
        "> * torch.Size([128 or 64, 5, 30, 30])\n",
        "> * torch.Size([128 or 64, 5, 15, 15])\n",
        "> * torch.Size([128 or 64, 7, 15, 15])\n",
        "> * torch.Size([128 or 64, 16, 16, 16])\n",
        "> * torch.Size([128 or 64, 19, 15, 15])\n",
        "> * torch.Size([128 or 64, 29, 13, 13])\n",
        "> * torch.Size([128 or 64, 29, 14, 14])\n",
        "> * torch.Size([128 or 64, 6, 12, 12])\n",
        "> * torch.Size([128 or 64, 2, 12, 12])\n",
        "> * torch.Size([128 or 64, 10, 7, 7])\n",
        "> * torch.Size([128 or 64, 20, 7, 7])\n",
        "> * torch.Size([128 or 64, 20, 3, 3])\n",
        "> * torch.Size([128 or 64, 180])\n",
        "> * torch.Size([128 or 64, 86])\n",
        "> * torch.Size([128 or 64, 10]) "
      ],
      "metadata": {
        "id": "orF-z9choFaB"
      }
    },
    {
      "cell_type": "code",
      "source": [
        "class CNN_Model1(nn.Module):\n",
        "    def __init__(self):\n",
        "        super(CNN_Model1, self).__init__()\n",
        "\n",
        "\n",
        "\n",
        "        self.conv1 = nn.Conv2d(in_channels=1, out_channels=5, kernel_size=3, stride=1, padding=2)\n",
        "        # in-channels = 1 <- 흑/백\n",
        "        # out-channels = 5\n",
        "        # kernel_size / filter-size = 3x3 -> f=3\n",
        "        # stride = 1(default) -> s=1\n",
        "        # padding = 2(default) -> p=2\n",
        "        # input-data pixel size = 28x28 -> n=28\n",
        "        # (n-f+2p)/s + 1 = new n\n",
        "        # (28-3+2x2)/1 + 1 = 30\n",
        "    \n",
        "        # maxpool : n=30 -> 15\n",
        "\n",
        "        self.conv2 = nn.Conv2d(5, 7, 3, padding=1)\n",
        "        # in-channels = 5 <- 이전것의 out-channels\n",
        "        # out-channels = 7\n",
        "        # filter-size = 3x3\n",
        "        # stride = 1(default)\n",
        "        # padding = 1\n",
        "        # (n-f+2p)/s + 1 = new n    \n",
        "        # (15-3+2x1)/1 + 1 = 15\n",
        "\n",
        "        self.conv3 = nn.Conv2d(7, 16, kernel_size=2, padding=1)\n",
        "        self.conv4 = nn.Conv2d(16, 19, kernel_size=2, padding=0)\n",
        "        self.conv5 = nn.Conv2d(19, 29, kernel_size=3, padding=0)\n",
        "        self.conv6 = nn.Conv2d(29, 29, kernel_size=2, padding=1)\n",
        "        self.conv7 = nn.Conv2d(29, 6, kernel_size=3, padding=0)\n",
        "        self.conv8 = nn.Conv2d(6, 2, kernel_size=1, padding=0)\n",
        "        self.conv9 = nn.Conv2d(2, 10, kernel_size=2, padding=1, stride=2)\n",
        "\n",
        "        # maxpool : n=7 -> 3\n",
        "\n",
        "        self.conv10 = nn.Conv2d(10, 20, kernel_size=1, padding=0)\n",
        "\n",
        "        self.fc1 = nn.Linear(180, 86)\n",
        "        self.fc2 = nn.Linear(86, 10)\n",
        "\n",
        "\n",
        "    def forward(self, x):\n",
        "        x = F.relu(self.conv1(x))\n",
        "        x = F.max_pool2d(x, (2,2))\n",
        "        x = F.relu(self.conv2(x))\n",
        "        x = F.relu(self.conv3(x))\n",
        "        x = F.relu(self.conv4(x))\n",
        "        x = F.relu(self.conv5(x))\n",
        "        x = F.relu(self.conv6(x))\n",
        "        x = F.relu(self.conv7(x))\n",
        "        x = F.relu(self.conv8(x))\n",
        "        x = F.relu(self.conv9(x))\n",
        "        x = F.max_pool2d(x, (2,2))\n",
        "        x = F.relu(self.conv10(x))\n",
        "\n",
        "        x = x.view(-1, self.num_flat_features(x)) # num_flat_features : 아래에서 정의\n",
        "\n",
        "        x = F.relu(self.fc1(x))\n",
        "        x = self.fc2(x)\n",
        "\n",
        "        return x\n",
        "    \n",
        "    def num_flat_features(self, x): # 처음 dim-size을 제외하고, 모두 곱한 값을 반환해준다.\n",
        "        size = x.size()[1:]\n",
        "        num_features = 1\n",
        "        for s in size:\n",
        "            num_features *= s\n",
        "        \n",
        "        return num_features"
      ],
      "metadata": {
        "id": "EedVZU7Knv0X"
      },
      "execution_count": 73,
      "outputs": []
    },
    {
      "cell_type": "code",
      "source": [
        "_# 모델객체 생성\n",
        "DeepConv_net128 = CNN_Model1().to(device)\n",
        "DeepConv_net64 = CNN_Model1().to(device)\n",
        "\n",
        "print(DeepConv_net128)"
      ],
      "metadata": {
        "colab": {
          "base_uri": "https://localhost:8080/"
        },
        "id": "RiMZ7sX6oDn3",
        "outputId": "8d681a5d-b884-4eca-a6a6-303b275f7e01"
      },
      "execution_count": 74,
      "outputs": [
        {
          "output_type": "stream",
          "name": "stdout",
          "text": [
            "CNN_Model1(\n",
            "  (conv1): Conv2d(1, 5, kernel_size=(3, 3), stride=(1, 1), padding=(2, 2))\n",
            "  (conv2): Conv2d(5, 7, kernel_size=(3, 3), stride=(1, 1), padding=(1, 1))\n",
            "  (conv3): Conv2d(7, 16, kernel_size=(2, 2), stride=(1, 1), padding=(1, 1))\n",
            "  (conv4): Conv2d(16, 19, kernel_size=(2, 2), stride=(1, 1))\n",
            "  (conv5): Conv2d(19, 29, kernel_size=(3, 3), stride=(1, 1))\n",
            "  (conv6): Conv2d(29, 29, kernel_size=(2, 2), stride=(1, 1), padding=(1, 1))\n",
            "  (conv7): Conv2d(29, 6, kernel_size=(3, 3), stride=(1, 1))\n",
            "  (conv8): Conv2d(6, 2, kernel_size=(1, 1), stride=(1, 1))\n",
            "  (conv9): Conv2d(2, 10, kernel_size=(2, 2), stride=(2, 2), padding=(1, 1))\n",
            "  (conv10): Conv2d(10, 20, kernel_size=(1, 1), stride=(1, 1))\n",
            "  (fc1): Linear(in_features=180, out_features=86, bias=True)\n",
            "  (fc2): Linear(in_features=86, out_features=10, bias=True)\n",
            ")\n"
          ]
        }
      ]
    },
    {
      "cell_type": "code",
      "source": [
        "input = images128.to(device)\n",
        "input.size()"
      ],
      "metadata": {
        "colab": {
          "base_uri": "https://localhost:8080/"
        },
        "id": "8gBjDmoc7fJh",
        "outputId": "09b0eee3-8e4b-4b0e-febd-71cc338404ad"
      },
      "execution_count": 75,
      "outputs": [
        {
          "output_type": "execute_result",
          "data": {
            "text/plain": [
              "torch.Size([128, 1, 28, 28])"
            ]
          },
          "metadata": {},
          "execution_count": 75
        }
      ]
    },
    {
      "cell_type": "code",
      "source": [
        "output = DeepConv_net128.forward(input)\n",
        "output.size()"
      ],
      "metadata": {
        "colab": {
          "base_uri": "https://localhost:8080/"
        },
        "id": "wK2FOxA-bOpi",
        "outputId": "c262fc8c-f4b6-488e-8de5-89d5eb0f8161"
      },
      "execution_count": 76,
      "outputs": [
        {
          "output_type": "execute_result",
          "data": {
            "text/plain": [
              "torch.Size([128, 10])"
            ]
          },
          "metadata": {},
          "execution_count": 76
        }
      ]
    },
    {
      "cell_type": "code",
      "source": [
        "summary(DeepConv_net128, input_size=(1, 28, 28), batch_size=128)"
      ],
      "metadata": {
        "colab": {
          "base_uri": "https://localhost:8080/"
        },
        "id": "DSH3qCADujAi",
        "outputId": "9bc74ad6-4e90-49c4-aa92-66a3ed300980"
      },
      "execution_count": 77,
      "outputs": [
        {
          "output_type": "stream",
          "name": "stdout",
          "text": [
            "----------------------------------------------------------------\n",
            "        Layer (type)               Output Shape         Param #\n",
            "================================================================\n",
            "            Conv2d-1           [128, 5, 30, 30]              50\n",
            "            Conv2d-2           [128, 7, 15, 15]             322\n",
            "            Conv2d-3          [128, 16, 16, 16]             464\n",
            "            Conv2d-4          [128, 19, 15, 15]           1,235\n",
            "            Conv2d-5          [128, 29, 13, 13]           4,988\n",
            "            Conv2d-6          [128, 29, 14, 14]           3,393\n",
            "            Conv2d-7           [128, 6, 12, 12]           1,572\n",
            "            Conv2d-8           [128, 2, 12, 12]              14\n",
            "            Conv2d-9            [128, 10, 7, 7]              90\n",
            "           Conv2d-10            [128, 20, 3, 3]             220\n",
            "           Linear-11                  [128, 86]          15,566\n",
            "           Linear-12                  [128, 10]             870\n",
            "================================================================\n",
            "Total params: 28,784\n",
            "Trainable params: 28,784\n",
            "Non-trainable params: 0\n",
            "----------------------------------------------------------------\n",
            "Input size (MB): 0.38\n",
            "Forward/backward pass size (MB): 26.32\n",
            "Params size (MB): 0.11\n",
            "Estimated Total Size (MB): 26.81\n",
            "----------------------------------------------------------------\n"
          ]
        }
      ]
    },
    {
      "cell_type": "code",
      "source": [
        "input = images64.to(device)\n",
        "input.size()"
      ],
      "metadata": {
        "colab": {
          "base_uri": "https://localhost:8080/"
        },
        "outputId": "ec5a2519-9967-48d8-bfde-e1a53cbb77f9",
        "id": "jcybKk5Nvj4Z"
      },
      "execution_count": 78,
      "outputs": [
        {
          "output_type": "execute_result",
          "data": {
            "text/plain": [
              "torch.Size([64, 1, 28, 28])"
            ]
          },
          "metadata": {},
          "execution_count": 78
        }
      ]
    },
    {
      "cell_type": "code",
      "source": [
        "output = DeepConv_net64.forward(input)\n",
        "output.size()"
      ],
      "metadata": {
        "colab": {
          "base_uri": "https://localhost:8080/"
        },
        "outputId": "30b65979-034c-4447-d1e3-06fe0f7b5e9e",
        "id": "y2PZCHyyvj4a"
      },
      "execution_count": 79,
      "outputs": [
        {
          "output_type": "execute_result",
          "data": {
            "text/plain": [
              "torch.Size([64, 10])"
            ]
          },
          "metadata": {},
          "execution_count": 79
        }
      ]
    },
    {
      "cell_type": "code",
      "source": [
        "summary(DeepConv_net64, input_size=(1, 28, 28), batch_size=64)"
      ],
      "metadata": {
        "colab": {
          "base_uri": "https://localhost:8080/"
        },
        "id": "uh1pmRXcvZP8",
        "outputId": "7582570c-d332-4044-e780-f8765a339566"
      },
      "execution_count": 80,
      "outputs": [
        {
          "output_type": "stream",
          "name": "stdout",
          "text": [
            "----------------------------------------------------------------\n",
            "        Layer (type)               Output Shape         Param #\n",
            "================================================================\n",
            "            Conv2d-1            [64, 5, 30, 30]              50\n",
            "            Conv2d-2            [64, 7, 15, 15]             322\n",
            "            Conv2d-3           [64, 16, 16, 16]             464\n",
            "            Conv2d-4           [64, 19, 15, 15]           1,235\n",
            "            Conv2d-5           [64, 29, 13, 13]           4,988\n",
            "            Conv2d-6           [64, 29, 14, 14]           3,393\n",
            "            Conv2d-7            [64, 6, 12, 12]           1,572\n",
            "            Conv2d-8            [64, 2, 12, 12]              14\n",
            "            Conv2d-9             [64, 10, 7, 7]              90\n",
            "           Conv2d-10             [64, 20, 3, 3]             220\n",
            "           Linear-11                   [64, 86]          15,566\n",
            "           Linear-12                   [64, 10]             870\n",
            "================================================================\n",
            "Total params: 28,784\n",
            "Trainable params: 28,784\n",
            "Non-trainable params: 0\n",
            "----------------------------------------------------------------\n",
            "Input size (MB): 0.19\n",
            "Forward/backward pass size (MB): 13.16\n",
            "Params size (MB): 0.11\n",
            "Estimated Total Size (MB): 13.46\n",
            "----------------------------------------------------------------\n"
          ]
        }
      ]
    },
    {
      "cell_type": "markdown",
      "source": [
        "## 모델 2 생성\n",
        "* 2개의 convolution-layer(Conv2d)와 5개의 fully-connected(fc)로 이루어진 모델\n",
        "* Total params: 9,516,488"
      ],
      "metadata": {
        "id": "xVxKI_rwCvhI"
      }
    },
    {
      "cell_type": "markdown",
      "source": [
        "input-data size\n",
        "* train_loader128(batch-size;128) : 128, 1, 28, 28\n",
        "* train_loader64(batch-size;64) : 64, 1, 28, 28\n",
        "\n",
        "\n",
        "구현해야하는 모델 정보<br>\n",
        "* convolution-layer 1\n",
        "* maxpooling-layer\n",
        "* convolution-layer 2\n",
        "* flatten\n",
        "* fc1\n",
        "* fc2\n",
        "* fc3\n",
        "* fc4\n",
        "* fc5\n",
        "\n",
        "추가 정보\n",
        "* 활성화함수 : relu\n",
        "(단, maxpooling과 마지막 fc5에는 보통적으로 활성화함수를 사용하지 않는다.)\n",
        "* flatten의 경우, weights가 들어가지 않는다. 즉, layer라고는 볼 수 없다.\n",
        "\n",
        "모델의 layer를 통과함에 따라 데이터의 크기 변화는 다음과 같다.\n",
        "\n",
        "1. batch-size128 -> torch.Size([128, 1, 28, 28]) 으로 시작\n",
        "2. batch-size;64 -> torch.Size([64, 1, 28, 28]) 으로 시작\n",
        "> * torch.Size([128 or 64, 5, 30, 30])\n",
        "> * torch.Size([128 or 64, 5, 15, 15])\n",
        "> * torch.Size([128 or 64, 7, 15, 15])\n",
        "> * torch.Size([128 or 64, 1575])\n",
        "> * torch.Size([128 or 64, 3000])\n",
        "> * torch.Size([128 or 64, 1500])\n",
        "> * torch.Size([128 or 64, 180])\n",
        "> * torch.Size([128 or 64, 86])\n",
        "> * torch.Size([128 or 64, 10])"
      ],
      "metadata": {
        "id": "uN5s0Re-CvhI"
      }
    },
    {
      "cell_type": "code",
      "source": [
        "class CNN_Model2(nn.Module):\n",
        "    def __init__(self):\n",
        "        super(CNN_Model2, self).__init__()\n",
        "\n",
        "        self.conv1 = nn.Conv2d(in_channels=1, out_channels=5, kernel_size=3, stride=1, padding=2)\n",
        "        self.conv2 = nn.Conv2d(5, 7, 3, padding=1)\n",
        "        self.fc1 = nn.Linear(1575, 3000)\n",
        "        self.fc2 = nn.Linear(3000, 1500)\n",
        "        self.fc3 = nn.Linear(1500, 180)\n",
        "        self.fc4 = nn.Linear(180, 86)\n",
        "        self.fc5 = nn.Linear(86, 10)\n",
        "\n",
        "    def forward(self, x):\n",
        "        x = F.relu(self.conv1(x))\n",
        "        x = F.max_pool2d(x, 2)\n",
        "        x = F.relu(self.conv2(x))\n",
        "        \n",
        "        x = x.view(-1, self.num_flat_features(x))\n",
        "\n",
        "        x = F.relu(self.fc1(x))\n",
        "        x = F.relu(self.fc2(x))\n",
        "        x = F.relu(self.fc3(x))\n",
        "        x = F.relu(self.fc4(x))\n",
        "        x = self.fc5(x)\n",
        "\n",
        "        return x\n",
        "    \n",
        "    def num_flat_features(self, x): # 처음 dim-size을 제외하고, 모두 곱한 값을 반환해준다.\n",
        "        size = x.size()[1:]\n",
        "        num_features = 1\n",
        "        for s in size:\n",
        "            num_features *= s\n",
        "        \n",
        "        return num_features"
      ],
      "metadata": {
        "id": "JfSM-k0DCvhI"
      },
      "execution_count": 91,
      "outputs": []
    },
    {
      "cell_type": "code",
      "source": [
        "# 모델객체 생성\n",
        "DeepFC_net128 = CNN_Model2().to(device)\n",
        "DeepFC_net64 = CNN_Model2().to(device)\n",
        "\n",
        "print(DeepFC_net128)"
      ],
      "metadata": {
        "colab": {
          "base_uri": "https://localhost:8080/"
        },
        "outputId": "f2831b5f-a5b8-4532-fb84-f93eab301c25",
        "id": "QQ_AnPi5CvhI"
      },
      "execution_count": 92,
      "outputs": [
        {
          "output_type": "stream",
          "name": "stdout",
          "text": [
            "CNN_Model2(\n",
            "  (conv1): Conv2d(1, 5, kernel_size=(3, 3), stride=(1, 1), padding=(2, 2))\n",
            "  (conv2): Conv2d(5, 7, kernel_size=(3, 3), stride=(1, 1), padding=(1, 1))\n",
            "  (fc1): Linear(in_features=1575, out_features=3000, bias=True)\n",
            "  (fc2): Linear(in_features=3000, out_features=1500, bias=True)\n",
            "  (fc3): Linear(in_features=1500, out_features=180, bias=True)\n",
            "  (fc4): Linear(in_features=180, out_features=86, bias=True)\n",
            "  (fc5): Linear(in_features=86, out_features=10, bias=True)\n",
            ")\n"
          ]
        }
      ]
    },
    {
      "cell_type": "code",
      "source": [
        "input = images128.to(device)\n",
        "input.size()"
      ],
      "metadata": {
        "colab": {
          "base_uri": "https://localhost:8080/"
        },
        "outputId": "a6977263-4261-45c4-c171-7bbfb74c63b3",
        "id": "S9IVOG3pwgoS"
      },
      "execution_count": 93,
      "outputs": [
        {
          "output_type": "execute_result",
          "data": {
            "text/plain": [
              "torch.Size([128, 1, 28, 28])"
            ]
          },
          "metadata": {},
          "execution_count": 93
        }
      ]
    },
    {
      "cell_type": "code",
      "source": [
        "output = DeepFC_net128.forward(input)\n",
        "output.size()"
      ],
      "metadata": {
        "colab": {
          "base_uri": "https://localhost:8080/"
        },
        "outputId": "b45f0d1b-f865-4c8b-9691-6e1491d2a459",
        "id": "p4ydm5qCwgoT"
      },
      "execution_count": 94,
      "outputs": [
        {
          "output_type": "execute_result",
          "data": {
            "text/plain": [
              "torch.Size([128, 10])"
            ]
          },
          "metadata": {},
          "execution_count": 94
        }
      ]
    },
    {
      "cell_type": "code",
      "source": [
        "summary(DeepFC_net128, input_size=(1, 28, 28), batch_size=128)"
      ],
      "metadata": {
        "colab": {
          "base_uri": "https://localhost:8080/"
        },
        "outputId": "a9387c87-b63f-45a2-8b1c-3e0747097226",
        "id": "Q3uN6Dw6wgoT"
      },
      "execution_count": 95,
      "outputs": [
        {
          "output_type": "stream",
          "name": "stdout",
          "text": [
            "----------------------------------------------------------------\n",
            "        Layer (type)               Output Shape         Param #\n",
            "================================================================\n",
            "            Conv2d-1           [128, 5, 30, 30]              50\n",
            "            Conv2d-2           [128, 7, 15, 15]             322\n",
            "            Linear-3                [128, 3000]       4,728,000\n",
            "            Linear-4                [128, 1500]       4,501,500\n",
            "            Linear-5                 [128, 180]         270,180\n",
            "            Linear-6                  [128, 86]          15,566\n",
            "            Linear-7                  [128, 10]             870\n",
            "================================================================\n",
            "Total params: 9,516,488\n",
            "Trainable params: 9,516,488\n",
            "Non-trainable params: 0\n",
            "----------------------------------------------------------------\n",
            "Input size (MB): 0.38\n",
            "Forward/backward pass size (MB): 10.60\n",
            "Params size (MB): 36.30\n",
            "Estimated Total Size (MB): 47.28\n",
            "----------------------------------------------------------------\n"
          ]
        }
      ]
    },
    {
      "cell_type": "code",
      "source": [
        "input = images64.to(device)\n",
        "input.size()"
      ],
      "metadata": {
        "colab": {
          "base_uri": "https://localhost:8080/"
        },
        "outputId": "4f8f26ef-240f-4130-fb39-9120b3a40425",
        "id": "d9t36x7bwgoT"
      },
      "execution_count": 96,
      "outputs": [
        {
          "output_type": "execute_result",
          "data": {
            "text/plain": [
              "torch.Size([64, 1, 28, 28])"
            ]
          },
          "metadata": {},
          "execution_count": 96
        }
      ]
    },
    {
      "cell_type": "code",
      "source": [
        "output = DeepFC_net64.forward(input)\n",
        "output.size()"
      ],
      "metadata": {
        "colab": {
          "base_uri": "https://localhost:8080/"
        },
        "outputId": "b9288c5f-1c4f-4faf-a8aa-571bdddd82b4",
        "id": "GFHweMakwgoT"
      },
      "execution_count": 97,
      "outputs": [
        {
          "output_type": "execute_result",
          "data": {
            "text/plain": [
              "torch.Size([64, 10])"
            ]
          },
          "metadata": {},
          "execution_count": 97
        }
      ]
    },
    {
      "cell_type": "code",
      "source": [
        "summary(DeepFC_net64, input_size=(1, 28, 28), batch_size=64)"
      ],
      "metadata": {
        "colab": {
          "base_uri": "https://localhost:8080/"
        },
        "outputId": "76a4a39c-d70e-4239-a46b-d27a347a9a2d",
        "id": "2VIZ4WCCwgoT"
      },
      "execution_count": 98,
      "outputs": [
        {
          "output_type": "stream",
          "name": "stdout",
          "text": [
            "----------------------------------------------------------------\n",
            "        Layer (type)               Output Shape         Param #\n",
            "================================================================\n",
            "            Conv2d-1            [64, 5, 30, 30]              50\n",
            "            Conv2d-2            [64, 7, 15, 15]             322\n",
            "            Linear-3                 [64, 3000]       4,728,000\n",
            "            Linear-4                 [64, 1500]       4,501,500\n",
            "            Linear-5                  [64, 180]         270,180\n",
            "            Linear-6                   [64, 86]          15,566\n",
            "            Linear-7                   [64, 10]             870\n",
            "================================================================\n",
            "Total params: 9,516,488\n",
            "Trainable params: 9,516,488\n",
            "Non-trainable params: 0\n",
            "----------------------------------------------------------------\n",
            "Input size (MB): 0.19\n",
            "Forward/backward pass size (MB): 5.30\n",
            "Params size (MB): 36.30\n",
            "Estimated Total Size (MB): 41.79\n",
            "----------------------------------------------------------------\n"
          ]
        }
      ]
    },
    {
      "cell_type": "markdown",
      "source": [
        "## 손실함수와 옵티마이저"
      ],
      "metadata": {
        "id": "klpXGc2tCimP"
      }
    },
    {
      "cell_type": "code",
      "source": [
        "criterion = nn.CrossEntropyLoss()\n",
        "\n",
        "optimizerDC_128 = optim.SGD(DeepConv_net128.parameters(), lr=0.001, momentum=0.9)\n",
        "optimizerDC_64 = optim.SGD(DeepConv_net64.parameters(), lr=0.001, momentum=0.9)\n",
        "optimizerFC_128 = optim.SGD(DeepFC_net128.parameters(), lr=0.001, momentum=0.9)\n",
        "optimizerFC_64 = optim.SGD(DeepFC_net64.parameters(), lr=0.001, momentum=0.9)"
      ],
      "metadata": {
        "id": "69AHX-ZXClOm"
      },
      "execution_count": 99,
      "outputs": []
    },
    {
      "cell_type": "markdown",
      "source": [
        "## 모델 학습"
      ],
      "metadata": {
        "id": "huNh3EnhJLyh"
      }
    },
    {
      "cell_type": "markdown",
      "source": [
        "### 1. DeepConv_net128\n",
        "* 10개의 Convolution-layer & 2개의 fc-layer\n",
        "* 128 batch-size"
      ],
      "metadata": {
        "id": "W-2Q7c6-JW9z"
      }
    },
    {
      "cell_type": "code",
      "source": [
        "for epoch in range(10):\n",
        "\n",
        "    running_loss = 0.0\n",
        "\n",
        "    for i, data in enumerate(train_loader128, start=0):\n",
        "        inputs, labels = data[0].to(device), data[1].to(device)\n",
        "\n",
        "        optimizerDC_128.zero_grad() # epoch마다 gradient 0으로 초기화\n",
        "\n",
        "        outputs = DeepConv_net128(inputs) # y_pred = f(X)\n",
        "        loss = criterion(outputs, labels) # CrossEntropyLoss; 0~1 사이값\n",
        "        loss.backward() # back-propagation; gradient 계산\n",
        "        optimizerDC_128.step() # parameters(weights) update\n",
        "\n",
        "        running_loss += loss.item() # 그냥 전체적인 비교를 위해 누적함\n",
        "\n",
        "        if i % 100 == 99: # 100번 마다 확인; epoch=10, iter(=i)=469, batch=128\n",
        "            print('Epoch: {}, Iter: {}, Loss: {}'.format(epoch+1, i+1, running_loss/2000))\n",
        "            running_loss = 0.0"
      ],
      "metadata": {
        "colab": {
          "base_uri": "https://localhost:8080/"
        },
        "id": "y-_UvdNWJR-r",
        "outputId": "65edfda6-fcce-4e0b-932b-1890bc81646d"
      },
      "execution_count": 100,
      "outputs": [
        {
          "output_type": "stream",
          "name": "stdout",
          "text": [
            "Epoch: 1, Iter: 100, Loss: 0.11522079372406006\n",
            "Epoch: 1, Iter: 200, Loss: 0.11516822552680969\n",
            "Epoch: 1, Iter: 300, Loss: 0.11515889501571655\n",
            "Epoch: 1, Iter: 400, Loss: 0.11519476437568664\n",
            "Epoch: 2, Iter: 100, Loss: 0.11514388310909271\n",
            "Epoch: 2, Iter: 200, Loss: 0.11514278531074523\n",
            "Epoch: 2, Iter: 300, Loss: 0.11513218998908997\n",
            "Epoch: 2, Iter: 400, Loss: 0.11515240061283112\n",
            "Epoch: 3, Iter: 100, Loss: 0.11512913453578949\n",
            "Epoch: 3, Iter: 200, Loss: 0.11513638484477996\n",
            "Epoch: 3, Iter: 300, Loss: 0.11513548767566681\n",
            "Epoch: 3, Iter: 400, Loss: 0.11513392984867096\n",
            "Epoch: 4, Iter: 100, Loss: 0.11512777197360992\n",
            "Epoch: 4, Iter: 200, Loss: 0.11513445389270782\n",
            "Epoch: 4, Iter: 300, Loss: 0.11513618552684785\n",
            "Epoch: 4, Iter: 400, Loss: 0.11513284015655517\n",
            "Epoch: 5, Iter: 100, Loss: 0.11513102352619171\n",
            "Epoch: 5, Iter: 200, Loss: 0.11513076591491699\n",
            "Epoch: 5, Iter: 300, Loss: 0.11513300108909606\n",
            "Epoch: 5, Iter: 400, Loss: 0.11513142657279968\n",
            "Epoch: 6, Iter: 100, Loss: 0.11513115167617798\n",
            "Epoch: 6, Iter: 200, Loss: 0.11512968933582306\n",
            "Epoch: 6, Iter: 300, Loss: 0.11513184261322021\n",
            "Epoch: 6, Iter: 400, Loss: 0.11513268840312958\n",
            "Epoch: 7, Iter: 100, Loss: 0.11513195252418518\n",
            "Epoch: 7, Iter: 200, Loss: 0.11513107097148895\n",
            "Epoch: 7, Iter: 300, Loss: 0.11512959134578706\n",
            "Epoch: 7, Iter: 400, Loss: 0.11513319039344788\n",
            "Epoch: 8, Iter: 100, Loss: 0.1151289038658142\n",
            "Epoch: 8, Iter: 200, Loss: 0.11513375389575958\n",
            "Epoch: 8, Iter: 300, Loss: 0.11513196754455567\n",
            "Epoch: 8, Iter: 400, Loss: 0.11513196742534637\n",
            "Epoch: 9, Iter: 100, Loss: 0.11513080883026124\n",
            "Epoch: 9, Iter: 200, Loss: 0.11512776184082031\n",
            "Epoch: 9, Iter: 300, Loss: 0.11513393211364746\n",
            "Epoch: 9, Iter: 400, Loss: 0.11513275110721588\n",
            "Epoch: 10, Iter: 100, Loss: 0.11513052451610566\n",
            "Epoch: 10, Iter: 200, Loss: 0.11513146090507508\n",
            "Epoch: 10, Iter: 300, Loss: 0.11513338696956635\n",
            "Epoch: 10, Iter: 400, Loss: 0.11513170719146729\n"
          ]
        }
      ]
    },
    {
      "cell_type": "code",
      "source": [
        "for epoch in range(5):\n",
        "\n",
        "    running_loss = 0.0\n",
        "\n",
        "    for i, data in enumerate(train_loader128, start=0):\n",
        "        inputs, labels = data[0].to(device), data[1].to(device)\n",
        "\n",
        "        optimizerDC_128.zero_grad() # epoch마다 gradient 0으로 초기화\n",
        "\n",
        "        outputs = DeepConv_net128(inputs) # y_pred = f(X)\n",
        "        loss = criterion(outputs, labels) # CrossEntropyLoss; 0~1 사이값\n",
        "        loss.backward() # back-propagation; gradient 계산\n",
        "        optimizerDC_128.step() # parameters(weights) update\n",
        "\n",
        "        running_loss += loss.item() # 그냥 전체적인 비교를 위해 누적함\n",
        "\n",
        "        if i % 100 == 99: # 100번 마다 확인; epoch=10, iter(=i)=469, batch=128\n",
        "            print('Epoch: {}, Iter: {}, Loss: {}'.format(epoch+1, i+1, running_loss/2000))\n",
        "            running_loss = 0.0"
      ],
      "metadata": {
        "colab": {
          "base_uri": "https://localhost:8080/"
        },
        "id": "dNa8-7SC5u2a",
        "outputId": "4c798e1c-af69-46e8-dfb6-7fe3c4cf8020"
      },
      "execution_count": null,
      "outputs": [
        {
          "output_type": "stream",
          "name": "stdout",
          "text": [
            "Epoch: 1, Iter: 100, Loss: 0.11513062512874603\n",
            "Epoch: 1, Iter: 200, Loss: 0.11512958586215973\n",
            "Epoch: 1, Iter: 300, Loss: 0.11513410818576812\n",
            "Epoch: 1, Iter: 400, Loss: 0.11513170647621154\n",
            "Epoch: 2, Iter: 100, Loss: 0.11513063108921051\n",
            "Epoch: 2, Iter: 200, Loss: 0.11513061451911927\n",
            "Epoch: 2, Iter: 300, Loss: 0.1151320812702179\n",
            "Epoch: 2, Iter: 400, Loss: 0.11513225758075714\n",
            "Epoch: 3, Iter: 100, Loss: 0.11513030624389649\n",
            "Epoch: 3, Iter: 200, Loss: 0.11512928187847138\n",
            "Epoch: 3, Iter: 300, Loss: 0.11513432478904724\n",
            "Epoch: 3, Iter: 400, Loss: 0.11513169825077058\n",
            "Epoch: 4, Iter: 100, Loss: 0.11512754309177399\n",
            "Epoch: 4, Iter: 200, Loss: 0.11513170742988586\n",
            "Epoch: 4, Iter: 300, Loss: 0.11513228261470795\n",
            "Epoch: 4, Iter: 400, Loss: 0.11513312435150147\n",
            "Epoch: 5, Iter: 100, Loss: 0.1151303848028183\n",
            "Epoch: 5, Iter: 200, Loss: 0.11512850546836853\n",
            "Epoch: 5, Iter: 300, Loss: 0.11513362538814545\n",
            "Epoch: 5, Iter: 400, Loss: 0.11513367640972137\n"
          ]
        }
      ]
    },
    {
      "cell_type": "markdown",
      "source": [
        "### 2. DeepConv_net64\n",
        "* 10개의 Convolution-layer & 2개의 fc-layer\n",
        "* 64 batch-size"
      ],
      "metadata": {
        "id": "FOUBE2UfKS6D"
      }
    },
    {
      "cell_type": "code",
      "source": [
        "for epoch in range(10):\n",
        "\n",
        "    running_loss = 0.0\n",
        "\n",
        "    for i, data in enumerate(train_loader64, start=0):\n",
        "        inputs, labels = data[0].to(device), data[1].to(device)\n",
        "\n",
        "        optimizerDC_64.zero_grad() # epoch마다 gradient 0으로 초기화\n",
        "\n",
        "        outputs = DeepConv_net64(inputs) # y_pred = f(X)\n",
        "        loss = criterion(outputs, labels) # CrossEntropyLoss; 0~1 사이값\n",
        "        loss.backward() # back-propagation; gradient 계산\n",
        "        optimizerDC_64.step() # parameters(weights) update\n",
        "\n",
        "        running_loss += loss.item() # 그냥 전체적인 비교를 위해 누적함\n",
        "\n",
        "        if i % 100 == 99: # 100번 마다 확인; epoch=10, iter(=i)=469, batch=64\n",
        "            print('Epoch: {}, Iter: {}, Loss: {}'.format(epoch+1, i+1, running_loss/2000))\n",
        "            running_loss = 0.0"
      ],
      "metadata": {
        "colab": {
          "base_uri": "https://localhost:8080/"
        },
        "id": "Q1znQlsWKS6D",
        "outputId": "566d631e-14d3-4108-ad3b-969d988e1697"
      },
      "execution_count": 101,
      "outputs": [
        {
          "output_type": "stream",
          "name": "stdout",
          "text": [
            "Epoch: 1, Iter: 100, Loss: 0.11520230805873871\n",
            "Epoch: 1, Iter: 200, Loss: 0.11513696575164795\n",
            "Epoch: 1, Iter: 300, Loss: 0.11516148138046264\n",
            "Epoch: 1, Iter: 400, Loss: 0.11514973866939544\n",
            "Epoch: 1, Iter: 500, Loss: 0.11515271437168122\n",
            "Epoch: 1, Iter: 600, Loss: 0.11513343572616577\n",
            "Epoch: 1, Iter: 700, Loss: 0.11513634753227234\n",
            "Epoch: 1, Iter: 800, Loss: 0.11513360047340393\n",
            "Epoch: 1, Iter: 900, Loss: 0.11516339814662933\n",
            "Epoch: 2, Iter: 100, Loss: 0.1151348432302475\n",
            "Epoch: 2, Iter: 200, Loss: 0.11513377392292022\n",
            "Epoch: 2, Iter: 300, Loss: 0.11512778413295746\n",
            "Epoch: 2, Iter: 400, Loss: 0.1151389855146408\n",
            "Epoch: 2, Iter: 500, Loss: 0.1151414716243744\n",
            "Epoch: 2, Iter: 600, Loss: 0.11513909959793091\n",
            "Epoch: 2, Iter: 700, Loss: 0.11513762760162354\n",
            "Epoch: 2, Iter: 800, Loss: 0.11512868821620942\n",
            "Epoch: 2, Iter: 900, Loss: 0.11513790488243103\n",
            "Epoch: 3, Iter: 100, Loss: 0.11512766420841217\n",
            "Epoch: 3, Iter: 200, Loss: 0.11513461303710938\n",
            "Epoch: 3, Iter: 300, Loss: 0.11512372255325318\n",
            "Epoch: 3, Iter: 400, Loss: 0.1151390916109085\n",
            "Epoch: 3, Iter: 500, Loss: 0.11514095878601074\n",
            "Epoch: 3, Iter: 600, Loss: 0.11513079261779785\n",
            "Epoch: 3, Iter: 700, Loss: 0.11513610255718232\n",
            "Epoch: 3, Iter: 800, Loss: 0.11513955223560333\n",
            "Epoch: 3, Iter: 900, Loss: 0.11513604474067687\n",
            "Epoch: 4, Iter: 100, Loss: 0.11513060462474824\n",
            "Epoch: 4, Iter: 200, Loss: 0.11513167560100555\n",
            "Epoch: 4, Iter: 300, Loss: 0.11513391709327697\n",
            "Epoch: 4, Iter: 400, Loss: 0.11514067494869232\n",
            "Epoch: 4, Iter: 500, Loss: 0.11513712882995605\n",
            "Epoch: 4, Iter: 600, Loss: 0.11513620853424072\n",
            "Epoch: 4, Iter: 700, Loss: 0.11513573241233825\n",
            "Epoch: 4, Iter: 800, Loss: 0.11513608610630036\n",
            "Epoch: 4, Iter: 900, Loss: 0.11513452732563019\n",
            "Epoch: 5, Iter: 100, Loss: 0.11513209211826324\n",
            "Epoch: 5, Iter: 200, Loss: 0.1151329106092453\n",
            "Epoch: 5, Iter: 300, Loss: 0.11513286066055298\n",
            "Epoch: 5, Iter: 400, Loss: 0.11513858878612518\n",
            "Epoch: 5, Iter: 500, Loss: 0.11512864196300507\n",
            "Epoch: 5, Iter: 600, Loss: 0.11514085590839386\n",
            "Epoch: 5, Iter: 700, Loss: 0.115135418176651\n",
            "Epoch: 5, Iter: 800, Loss: 0.11513715994358063\n",
            "Epoch: 5, Iter: 900, Loss: 0.11513635158538818\n",
            "Epoch: 6, Iter: 100, Loss: 0.11513479208946228\n",
            "Epoch: 6, Iter: 200, Loss: 0.11512445425987243\n",
            "Epoch: 6, Iter: 300, Loss: 0.11514076948165894\n",
            "Epoch: 6, Iter: 400, Loss: 0.11513107013702392\n",
            "Epoch: 6, Iter: 500, Loss: 0.11514026010036468\n",
            "Epoch: 6, Iter: 600, Loss: 0.1151355437040329\n",
            "Epoch: 6, Iter: 700, Loss: 0.1151361507177353\n",
            "Epoch: 6, Iter: 800, Loss: 0.11513574779033661\n",
            "Epoch: 6, Iter: 900, Loss: 0.1151324450969696\n",
            "Epoch: 7, Iter: 100, Loss: 0.11513364124298096\n",
            "Epoch: 7, Iter: 200, Loss: 0.11513827323913574\n",
            "Epoch: 7, Iter: 300, Loss: 0.11513215613365173\n",
            "Epoch: 7, Iter: 400, Loss: 0.11513812506198882\n",
            "Epoch: 7, Iter: 500, Loss: 0.11513290703296661\n",
            "Epoch: 7, Iter: 600, Loss: 0.11513438379764557\n",
            "Epoch: 7, Iter: 700, Loss: 0.11513758027553558\n",
            "Epoch: 7, Iter: 800, Loss: 0.11513520574569702\n",
            "Epoch: 7, Iter: 900, Loss: 0.11513571059703827\n",
            "Epoch: 8, Iter: 100, Loss: 0.11512949728965759\n",
            "Epoch: 8, Iter: 200, Loss: 0.11513350331783295\n",
            "Epoch: 8, Iter: 300, Loss: 0.11512948393821716\n",
            "Epoch: 8, Iter: 400, Loss: 0.11513777315616608\n",
            "Epoch: 8, Iter: 500, Loss: 0.11513703918457031\n",
            "Epoch: 8, Iter: 600, Loss: 0.11513506722450256\n",
            "Epoch: 8, Iter: 700, Loss: 0.11513838112354279\n",
            "Epoch: 8, Iter: 800, Loss: 0.11513293886184692\n",
            "Epoch: 8, Iter: 900, Loss: 0.11513393056392669\n",
            "Epoch: 9, Iter: 100, Loss: 0.11512851417064666\n",
            "Epoch: 9, Iter: 200, Loss: 0.11513237047195435\n",
            "Epoch: 9, Iter: 300, Loss: 0.11514013922214508\n",
            "Epoch: 9, Iter: 400, Loss: 0.11513857042789459\n",
            "Epoch: 9, Iter: 500, Loss: 0.11513183152675628\n",
            "Epoch: 9, Iter: 600, Loss: 0.11512997663021088\n",
            "Epoch: 9, Iter: 700, Loss: 0.11514171743392944\n",
            "Epoch: 9, Iter: 800, Loss: 0.11513312375545502\n",
            "Epoch: 9, Iter: 900, Loss: 0.11513257002830506\n",
            "Epoch: 10, Iter: 100, Loss: 0.11513000619411469\n",
            "Epoch: 10, Iter: 200, Loss: 0.11512883961200714\n",
            "Epoch: 10, Iter: 300, Loss: 0.1151356029510498\n",
            "Epoch: 10, Iter: 400, Loss: 0.11514238858222961\n",
            "Epoch: 10, Iter: 500, Loss: 0.11513516020774842\n",
            "Epoch: 10, Iter: 600, Loss: 0.11513182961940766\n",
            "Epoch: 10, Iter: 700, Loss: 0.11513288259506226\n",
            "Epoch: 10, Iter: 800, Loss: 0.11513741743564605\n",
            "Epoch: 10, Iter: 900, Loss: 0.1151368454694748\n"
          ]
        }
      ]
    },
    {
      "cell_type": "markdown",
      "source": [
        "### 3. DeepFC_net128\n",
        "* 2개의 Convolution-layer & 5개의 fc-layer\n",
        "* 128 batch-size"
      ],
      "metadata": {
        "id": "LaVvtEOvKUgJ"
      }
    },
    {
      "cell_type": "code",
      "source": [
        "for epoch in range(10):\n",
        "\n",
        "    running_loss = 0.0\n",
        "\n",
        "    for i, data in enumerate(train_loader128, start=0):\n",
        "        inputs, labels = data[0].to(device), data[1].to(device)\n",
        "\n",
        "        optimizerFC_128.zero_grad() # epoch마다 gradient 0으로 초기화\n",
        "\n",
        "        outputs = DeepFC_net128(inputs) # y_pred = f(X)\n",
        "        loss = criterion(outputs, labels) # CrossEntropyLoss; 0~1 사이값\n",
        "        loss.backward() # back-propagation; gradient 계산\n",
        "        optimizerFC_128.step() # parameters(weights) update\n",
        "\n",
        "        running_loss += loss.item() # 그냥 전체적인 비교를 위해 누적함\n",
        "\n",
        "        if i % 100 == 99: # 100번 마다 확인; epoch=10, iter(=i)=469, batch=128\n",
        "            print('Epoch: {}, Iter: {}, Loss: {}'.format(epoch+1, i+1, running_loss/2000))\n",
        "            running_loss = 0.0"
      ],
      "metadata": {
        "colab": {
          "base_uri": "https://localhost:8080/"
        },
        "id": "Dwh9TK_1KUgK",
        "outputId": "069af277-76a8-4aeb-ba62-852cefda876f"
      },
      "execution_count": 102,
      "outputs": [
        {
          "output_type": "stream",
          "name": "stdout",
          "text": [
            "Epoch: 1, Iter: 100, Loss: 0.11511921727657318\n",
            "Epoch: 1, Iter: 200, Loss: 0.11505809080600739\n",
            "Epoch: 1, Iter: 300, Loss: 0.11498917186260224\n",
            "Epoch: 1, Iter: 400, Loss: 0.11487321436405182\n",
            "Epoch: 2, Iter: 100, Loss: 0.11462066853046417\n",
            "Epoch: 2, Iter: 200, Loss: 0.11436203289031982\n",
            "Epoch: 2, Iter: 300, Loss: 0.11390484368801117\n",
            "Epoch: 2, Iter: 400, Loss: 0.1130463045835495\n",
            "Epoch: 3, Iter: 100, Loss: 0.10719923639297485\n",
            "Epoch: 3, Iter: 200, Loss: 0.08702860176563262\n",
            "Epoch: 3, Iter: 300, Loss: 0.06244893288612366\n",
            "Epoch: 3, Iter: 400, Loss: 0.05163339751958847\n",
            "Epoch: 4, Iter: 100, Loss: 0.043706057131290436\n",
            "Epoch: 4, Iter: 200, Loss: 0.03982238620519638\n",
            "Epoch: 4, Iter: 300, Loss: 0.03771778559684753\n",
            "Epoch: 4, Iter: 400, Loss: 0.03565329936146736\n",
            "Epoch: 5, Iter: 100, Loss: 0.03313007988035679\n",
            "Epoch: 5, Iter: 200, Loss: 0.032872485607862476\n",
            "Epoch: 5, Iter: 300, Loss: 0.03230512197315693\n",
            "Epoch: 5, Iter: 400, Loss: 0.030514939233660696\n",
            "Epoch: 6, Iter: 100, Loss: 0.030039819672703742\n",
            "Epoch: 6, Iter: 200, Loss: 0.029283027321100236\n",
            "Epoch: 6, Iter: 300, Loss: 0.028076250299811364\n",
            "Epoch: 6, Iter: 400, Loss: 0.02816508461534977\n",
            "Epoch: 7, Iter: 100, Loss: 0.027372005328536033\n",
            "Epoch: 7, Iter: 200, Loss: 0.02717082276940346\n",
            "Epoch: 7, Iter: 300, Loss: 0.025663431361317636\n",
            "Epoch: 7, Iter: 400, Loss: 0.02583807072043419\n",
            "Epoch: 8, Iter: 100, Loss: 0.024903310909867287\n",
            "Epoch: 8, Iter: 200, Loss: 0.024696050494909288\n",
            "Epoch: 8, Iter: 300, Loss: 0.023911501690745355\n",
            "Epoch: 8, Iter: 400, Loss: 0.023536520943045616\n",
            "Epoch: 9, Iter: 100, Loss: 0.022423811048269272\n",
            "Epoch: 9, Iter: 200, Loss: 0.022856810629367827\n",
            "Epoch: 9, Iter: 300, Loss: 0.022252056717872618\n",
            "Epoch: 9, Iter: 400, Loss: 0.022054626613855363\n",
            "Epoch: 10, Iter: 100, Loss: 0.021287367008626462\n",
            "Epoch: 10, Iter: 200, Loss: 0.022578638464212417\n",
            "Epoch: 10, Iter: 300, Loss: 0.02083129721879959\n",
            "Epoch: 10, Iter: 400, Loss: 0.020629915058612825\n"
          ]
        }
      ]
    },
    {
      "cell_type": "markdown",
      "source": [
        "### 4. DeepFC_net128\n",
        "* 2개의 Convolution-layer & 5개의 fc-layer\n",
        "* 64 batch-size"
      ],
      "metadata": {
        "id": "jRyyw49jKVhj"
      }
    },
    {
      "cell_type": "code",
      "source": [
        "for epoch in range(10):\n",
        "\n",
        "    running_loss = 0.0\n",
        "\n",
        "    for i, data in enumerate(train_loader64, start=0):\n",
        "        inputs, labels = data[0].to(device), data[1].to(device)\n",
        "\n",
        "        optimizerFC_64.zero_grad() # epoch마다 gradient 0으로 초기화\n",
        "\n",
        "        outputs = DeepFC_net64(inputs) # y_pred = f(X)\n",
        "        loss = criterion(outputs, labels) # CrossEntropyLoss; 0~1 사이값\n",
        "        loss.backward() # back-propagation; gradient 계산\n",
        "        optimizerFC_64.step() # parameters(weights) update\n",
        "\n",
        "        running_loss += loss.item() # 그냥 전체적인 비교를 위해 누적함\n",
        "\n",
        "        if i % 100 == 99: # 100번 마다 확인; epoch=10, iter(=i)=469, batch=64\n",
        "            print('Epoch: {}, Iter: {}, Loss: {}'.format(epoch+1, i+1, running_loss/2000))\n",
        "            running_loss = 0.0"
      ],
      "metadata": {
        "colab": {
          "base_uri": "https://localhost:8080/"
        },
        "id": "X3847V0dKVhk",
        "outputId": "068c9b7d-0e6f-4f2f-97df-9cfdaa88bf80"
      },
      "execution_count": 103,
      "outputs": [
        {
          "output_type": "stream",
          "name": "stdout",
          "text": [
            "Epoch: 1, Iter: 100, Loss: 0.11525478982925415\n",
            "Epoch: 1, Iter: 200, Loss: 0.11509323847293854\n",
            "Epoch: 1, Iter: 300, Loss: 0.11496180093288422\n",
            "Epoch: 1, Iter: 400, Loss: 0.11478407835960389\n",
            "Epoch: 1, Iter: 500, Loss: 0.11459950518608093\n",
            "Epoch: 1, Iter: 600, Loss: 0.1142120041847229\n",
            "Epoch: 1, Iter: 700, Loss: 0.11357706272602082\n",
            "Epoch: 1, Iter: 800, Loss: 0.11205367052555085\n",
            "Epoch: 1, Iter: 900, Loss: 0.1073384850025177\n",
            "Epoch: 2, Iter: 100, Loss: 0.08090418648719788\n",
            "Epoch: 2, Iter: 200, Loss: 0.059481895446777344\n",
            "Epoch: 2, Iter: 300, Loss: 0.05026206523180008\n",
            "Epoch: 2, Iter: 400, Loss: 0.04432573661208153\n",
            "Epoch: 2, Iter: 500, Loss: 0.04127158480882644\n",
            "Epoch: 2, Iter: 600, Loss: 0.037700594216585157\n",
            "Epoch: 2, Iter: 700, Loss: 0.0367949438393116\n",
            "Epoch: 2, Iter: 800, Loss: 0.03537050685286522\n",
            "Epoch: 2, Iter: 900, Loss: 0.033828251495957376\n",
            "Epoch: 3, Iter: 100, Loss: 0.03272198490798473\n",
            "Epoch: 3, Iter: 200, Loss: 0.03113810649514198\n",
            "Epoch: 3, Iter: 300, Loss: 0.03234758801758289\n",
            "Epoch: 3, Iter: 400, Loss: 0.029313401952385902\n",
            "Epoch: 3, Iter: 500, Loss: 0.03042049878835678\n",
            "Epoch: 3, Iter: 600, Loss: 0.02928794603049755\n",
            "Epoch: 3, Iter: 700, Loss: 0.02830826434493065\n",
            "Epoch: 3, Iter: 800, Loss: 0.02743876764178276\n",
            "Epoch: 3, Iter: 900, Loss: 0.027535591021180153\n",
            "Epoch: 4, Iter: 100, Loss: 0.02608416974544525\n",
            "Epoch: 4, Iter: 200, Loss: 0.02570152971148491\n",
            "Epoch: 4, Iter: 300, Loss: 0.026420567974448205\n",
            "Epoch: 4, Iter: 400, Loss: 0.024870251044631003\n",
            "Epoch: 4, Iter: 500, Loss: 0.026231566578149797\n",
            "Epoch: 4, Iter: 600, Loss: 0.02412232603132725\n",
            "Epoch: 4, Iter: 700, Loss: 0.024445652037858964\n",
            "Epoch: 4, Iter: 800, Loss: 0.023383677907288073\n",
            "Epoch: 4, Iter: 900, Loss: 0.02331899294257164\n",
            "Epoch: 5, Iter: 100, Loss: 0.022838841781020164\n",
            "Epoch: 5, Iter: 200, Loss: 0.023088036745786668\n",
            "Epoch: 5, Iter: 300, Loss: 0.022355499632656574\n",
            "Epoch: 5, Iter: 400, Loss: 0.021960278898477556\n",
            "Epoch: 5, Iter: 500, Loss: 0.02213480606675148\n",
            "Epoch: 5, Iter: 600, Loss: 0.022862538188695908\n",
            "Epoch: 5, Iter: 700, Loss: 0.02129174917191267\n",
            "Epoch: 5, Iter: 800, Loss: 0.022005477845668794\n",
            "Epoch: 5, Iter: 900, Loss: 0.020568272553384306\n",
            "Epoch: 6, Iter: 100, Loss: 0.02026394859701395\n",
            "Epoch: 6, Iter: 200, Loss: 0.02070130091160536\n",
            "Epoch: 6, Iter: 300, Loss: 0.02074134112149477\n",
            "Epoch: 6, Iter: 400, Loss: 0.021788721315562726\n",
            "Epoch: 6, Iter: 500, Loss: 0.020273737631738186\n",
            "Epoch: 6, Iter: 600, Loss: 0.019664648808538913\n",
            "Epoch: 6, Iter: 700, Loss: 0.020339363545179366\n",
            "Epoch: 6, Iter: 800, Loss: 0.019776967175304888\n",
            "Epoch: 6, Iter: 900, Loss: 0.02004669214040041\n",
            "Epoch: 7, Iter: 100, Loss: 0.02041214495152235\n",
            "Epoch: 7, Iter: 200, Loss: 0.019701911203563214\n",
            "Epoch: 7, Iter: 300, Loss: 0.019456299535930158\n",
            "Epoch: 7, Iter: 400, Loss: 0.019740480102598667\n",
            "Epoch: 7, Iter: 500, Loss: 0.01876318322867155\n",
            "Epoch: 7, Iter: 600, Loss: 0.019718307606875898\n",
            "Epoch: 7, Iter: 700, Loss: 0.01773795348405838\n",
            "Epoch: 7, Iter: 800, Loss: 0.01880700421333313\n",
            "Epoch: 7, Iter: 900, Loss: 0.018094274774193765\n",
            "Epoch: 8, Iter: 100, Loss: 0.017780282706022263\n",
            "Epoch: 8, Iter: 200, Loss: 0.01838521733134985\n",
            "Epoch: 8, Iter: 300, Loss: 0.01773237369954586\n",
            "Epoch: 8, Iter: 400, Loss: 0.018258177042007447\n",
            "Epoch: 8, Iter: 500, Loss: 0.018650937117636202\n",
            "Epoch: 8, Iter: 600, Loss: 0.01744366383552551\n",
            "Epoch: 8, Iter: 700, Loss: 0.018156597331166268\n",
            "Epoch: 8, Iter: 800, Loss: 0.018854793816804886\n",
            "Epoch: 8, Iter: 900, Loss: 0.016967069186270237\n",
            "Epoch: 9, Iter: 100, Loss: 0.01737262611091137\n",
            "Epoch: 9, Iter: 200, Loss: 0.016788015879690647\n",
            "Epoch: 9, Iter: 300, Loss: 0.01800686666369438\n",
            "Epoch: 9, Iter: 400, Loss: 0.017126848548650743\n",
            "Epoch: 9, Iter: 500, Loss: 0.017056223556399346\n",
            "Epoch: 9, Iter: 600, Loss: 0.01773494275659323\n",
            "Epoch: 9, Iter: 700, Loss: 0.016948977805674077\n",
            "Epoch: 9, Iter: 800, Loss: 0.01679061508178711\n",
            "Epoch: 9, Iter: 900, Loss: 0.0182887739315629\n",
            "Epoch: 10, Iter: 100, Loss: 0.016124695405364035\n",
            "Epoch: 10, Iter: 200, Loss: 0.016887141674757005\n",
            "Epoch: 10, Iter: 300, Loss: 0.01605573084205389\n",
            "Epoch: 10, Iter: 400, Loss: 0.017643484003841876\n",
            "Epoch: 10, Iter: 500, Loss: 0.016967473417520522\n",
            "Epoch: 10, Iter: 600, Loss: 0.01679553745687008\n",
            "Epoch: 10, Iter: 700, Loss: 0.017016614504158496\n",
            "Epoch: 10, Iter: 800, Loss: 0.016664387933909893\n",
            "Epoch: 10, Iter: 900, Loss: 0.016733701594173908\n"
          ]
        }
      ]
    },
    {
      "cell_type": "markdown",
      "metadata": {
        "id": "5IecfHZiI09W"
      },
      "source": [
        "## 모델 테스트"
      ]
    },
    {
      "cell_type": "code",
      "source": [
        "# 전체 test 데이터에 대해서 성능 확인\n",
        "\n",
        "correct_list = [0]*4\n",
        "total_list = [0]*4\n",
        "a = -1\n",
        "\n",
        "model_list = {'DeepConv' : [DeepConv_net128, DeepConv_net64],\n",
        "              'DeepFC' : [DeepFC_net128, DeepFC_net64]}\n",
        "data_list = [test_loader128, test_loader64]\n",
        "\n",
        "with torch.no_grad(): # grad가 필요없다.\n",
        "\n",
        "    for key in model_list:\n",
        "        for idx in range(len(model_list[key])):\n",
        "            a += 1\n",
        "            model = model_list[key][idx]\n",
        "            data_loader = data_list[idx]\n",
        "            for data in data_loader:\n",
        "                images, labels = data[0].to(device), data[1].to(device)\n",
        "\n",
        "                outputs = model(images)\n",
        "                _, predicted = torch.max(outputs.data, 1)\n",
        "\n",
        "                total_list[a] += labels.size(0)\n",
        "                correct_list[a] += (predicted == labels).sum().item()\n",
        "            \n",
        "correct_rate = np.array(correct_list) / np.array(total_list)\n",
        "model_name = ['DeepConv_net128', 'DeepConv_net64', 'DeepFC_net128', 'DeepFC_net64']\n",
        "\n",
        "for i in range(len(correct_rate)):\n",
        "    print('{0} : {1}'.format(model_name[i], correct_rate[i]))"
      ],
      "metadata": {
        "colab": {
          "base_uri": "https://localhost:8080/"
        },
        "id": "VjVs_iS0rlof",
        "outputId": "1b116791-5fd1-4e3d-9a0e-4b23d79e1a69"
      },
      "execution_count": 104,
      "outputs": [
        {
          "output_type": "stream",
          "name": "stdout",
          "text": [
            "DeepConv_net128 : 0.1\n",
            "DeepConv_net64 : 0.1\n",
            "DeepFC_net128 : 0.835\n",
            "DeepFC_net64 : 0.8632\n"
          ]
        }
      ]
    },
    {
      "cell_type": "markdown",
      "source": [
        "# FashionMNIST 분류 모델 중 성능이 낮은 모델 이유 확인"
      ],
      "metadata": {
        "id": "SZcZQv4PGeYv"
      }
    },
    {
      "cell_type": "markdown",
      "source": [
        "## Convolution-layer를 하나씩 추가하면서, 성능변화를 관찰"
      ],
      "metadata": {
        "id": "V7HoLqroDhyF"
      }
    },
    {
      "cell_type": "markdown",
      "source": [
        "### 3개의 convolution-layer 사용시"
      ],
      "metadata": {
        "id": "_civVcIYBGxA"
      }
    },
    {
      "cell_type": "code",
      "source": [
        "class CNN_Model3(nn.Module):\n",
        "    def __init__(self):\n",
        "        super(CNN_Model3, self).__init__()\n",
        "\n",
        "        self.conv1 = nn.Conv2d(in_channels=1, out_channels=5, kernel_size=3, stride=1, padding=2)\n",
        "        self.conv2 = nn.Conv2d(5, 7, 3, padding=1)\n",
        "        self.conv3 = nn.Conv2d(7, 16, 2, padding=1)\n",
        "\n",
        "        self.fc1 = nn.Linear(16* 16 * 16, 3000)\n",
        "        self.fc2 = nn.Linear(3000, 1500)\n",
        "        self.fc3 = nn.Linear(1500, 20 * 3 * 3)\n",
        "        self.fc4 = nn.Linear(20 * 3 * 3, 86)\n",
        "        self.fc5 = nn.Linear(86, 10) # 10 : 10개의 category\n",
        "\n",
        "    def forward(self, x):\n",
        "        x = F.relu(self.conv1(x))\n",
        "        x = F.max_pool2d(x, (2,2))\n",
        "        x = F.relu(self.conv2(x))\n",
        "        x = F.relu(self.conv3(x))\n",
        "\n",
        "        x = x.view(-1, self.num_flat_features(x)) # num_flat_features : 아래에서 정의\n",
        "\n",
        "        x = F.relu(self.fc1(x))\n",
        "        x = F.relu(self.fc2(x))\n",
        "        x = F.relu(self.fc3(x))\n",
        "        x = F.relu(self.fc4(x))\n",
        "        x = self.fc5(x)\n",
        "\n",
        "        return x\n",
        "    \n",
        "    def num_flat_features(self, x): # 처음 dim-size을 제외하고, 모두 곱한 값을 반환해준다.\n",
        "        size = x.size()[1:]\n",
        "        num_features = 1\n",
        "        for s in size:\n",
        "            num_features *= s\n",
        "        \n",
        "        return num_features"
      ],
      "metadata": {
        "id": "29zvOdhT-fwY"
      },
      "execution_count": 105,
      "outputs": []
    },
    {
      "cell_type": "code",
      "source": [
        "# 모델객체 생성\n",
        "new_model = CNN_Model3().to(device)\n",
        "\n",
        "print(new_model)"
      ],
      "metadata": {
        "colab": {
          "base_uri": "https://localhost:8080/"
        },
        "outputId": "c4d8a907-a792-45c0-f991-f27d96297ed4",
        "id": "t81gXZmz-fwY"
      },
      "execution_count": 106,
      "outputs": [
        {
          "output_type": "stream",
          "name": "stdout",
          "text": [
            "CNN_Model3(\n",
            "  (conv1): Conv2d(1, 5, kernel_size=(3, 3), stride=(1, 1), padding=(2, 2))\n",
            "  (conv2): Conv2d(5, 7, kernel_size=(3, 3), stride=(1, 1), padding=(1, 1))\n",
            "  (conv3): Conv2d(7, 16, kernel_size=(2, 2), stride=(1, 1), padding=(1, 1))\n",
            "  (fc1): Linear(in_features=4096, out_features=3000, bias=True)\n",
            "  (fc2): Linear(in_features=3000, out_features=1500, bias=True)\n",
            "  (fc3): Linear(in_features=1500, out_features=180, bias=True)\n",
            "  (fc4): Linear(in_features=180, out_features=86, bias=True)\n",
            "  (fc5): Linear(in_features=86, out_features=10, bias=True)\n",
            ")\n"
          ]
        }
      ]
    },
    {
      "cell_type": "code",
      "source": [
        "summary(new_model, input_size=(1, 28, 28), batch_size=128)"
      ],
      "metadata": {
        "colab": {
          "base_uri": "https://localhost:8080/"
        },
        "id": "Bb2EkGUbBnuM",
        "outputId": "c827b1de-0629-473f-cee3-687bbf9c43c7"
      },
      "execution_count": 107,
      "outputs": [
        {
          "output_type": "stream",
          "name": "stdout",
          "text": [
            "----------------------------------------------------------------\n",
            "        Layer (type)               Output Shape         Param #\n",
            "================================================================\n",
            "            Conv2d-1           [128, 5, 30, 30]              50\n",
            "            Conv2d-2           [128, 7, 15, 15]             322\n",
            "            Conv2d-3          [128, 16, 16, 16]             464\n",
            "            Linear-4                [128, 3000]      12,291,000\n",
            "            Linear-5                [128, 1500]       4,501,500\n",
            "            Linear-6                 [128, 180]         270,180\n",
            "            Linear-7                  [128, 86]          15,566\n",
            "            Linear-8                  [128, 10]             870\n",
            "================================================================\n",
            "Total params: 17,079,952\n",
            "Trainable params: 17,079,952\n",
            "Non-trainable params: 0\n",
            "----------------------------------------------------------------\n",
            "Input size (MB): 0.38\n",
            "Forward/backward pass size (MB): 14.60\n",
            "Params size (MB): 65.15\n",
            "Estimated Total Size (MB): 80.13\n",
            "----------------------------------------------------------------\n"
          ]
        }
      ]
    },
    {
      "cell_type": "code",
      "source": [
        "optimizer = optim.SGD(new_model.parameters(), lr=0.001, momentum=0.9)"
      ],
      "metadata": {
        "id": "aQDT4bYIBsZl"
      },
      "execution_count": 108,
      "outputs": []
    },
    {
      "cell_type": "code",
      "source": [
        "for epoch in range(10):\n",
        "\n",
        "    running_loss = 0.0\n",
        "\n",
        "    for i, data in enumerate(train_loader128, start=0):\n",
        "        inputs, labels = data[0].to(device), data[1].to(device)\n",
        "\n",
        "        optimizer.zero_grad() # epoch마다 gradient 0으로 초기화\n",
        "\n",
        "        outputs = new_model(inputs) # y_pred = f(X)\n",
        "        loss = criterion(outputs, labels) # CrossEntropyLoss; 0~1 사이값\n",
        "        loss.backward() # back-propagation; gradient 계산\n",
        "        optimizer.step() # parameters(weights) update\n",
        "\n",
        "        running_loss += loss.item() # 그냥 전체적인 비교를 위해 누적함\n",
        "\n",
        "        if i % 100 == 99: # 100번 마다 확인; epoch=10, iter(=i)=469, batch=128\n",
        "            print('Epoch: {}, Iter: {}, Loss: {}'.format(epoch+1, i+1, running_loss/2000))\n",
        "            running_loss = 0.0"
      ],
      "metadata": {
        "colab": {
          "base_uri": "https://localhost:8080/"
        },
        "id": "D6GqkR8nBwhH",
        "outputId": "2f2e18b2-466b-4ea2-d8f0-16846538a919"
      },
      "execution_count": 109,
      "outputs": [
        {
          "output_type": "stream",
          "name": "stdout",
          "text": [
            "Epoch: 1, Iter: 100, Loss: 0.11524001240730286\n",
            "Epoch: 1, Iter: 200, Loss: 0.1151558221578598\n",
            "Epoch: 1, Iter: 300, Loss: 0.11514208316802979\n",
            "Epoch: 1, Iter: 400, Loss: 0.11514673328399658\n",
            "Epoch: 2, Iter: 100, Loss: 0.11507081961631775\n",
            "Epoch: 2, Iter: 200, Loss: 0.11505809509754181\n",
            "Epoch: 2, Iter: 300, Loss: 0.11501257991790771\n",
            "Epoch: 2, Iter: 400, Loss: 0.11495934092998504\n",
            "Epoch: 3, Iter: 100, Loss: 0.11488657903671265\n",
            "Epoch: 3, Iter: 200, Loss: 0.11482775783538818\n",
            "Epoch: 3, Iter: 300, Loss: 0.1147502338886261\n",
            "Epoch: 3, Iter: 400, Loss: 0.11458726823329926\n",
            "Epoch: 4, Iter: 100, Loss: 0.11405021739006042\n",
            "Epoch: 4, Iter: 200, Loss: 0.11309285724163055\n",
            "Epoch: 4, Iter: 300, Loss: 0.10943054902553559\n",
            "Epoch: 4, Iter: 400, Loss: 0.08322199773788452\n",
            "Epoch: 5, Iter: 100, Loss: 0.04272803407907486\n",
            "Epoch: 5, Iter: 200, Loss: 0.036546148806810376\n",
            "Epoch: 5, Iter: 300, Loss: 0.03437615251541138\n",
            "Epoch: 5, Iter: 400, Loss: 0.03369856122136116\n",
            "Epoch: 6, Iter: 100, Loss: 0.03245269145071507\n",
            "Epoch: 6, Iter: 200, Loss: 0.03099249057471752\n",
            "Epoch: 6, Iter: 300, Loss: 0.030045330807566644\n",
            "Epoch: 6, Iter: 400, Loss: 0.028547714546322822\n",
            "Epoch: 7, Iter: 100, Loss: 0.02850148992240429\n",
            "Epoch: 7, Iter: 200, Loss: 0.02674820053577423\n",
            "Epoch: 7, Iter: 300, Loss: 0.02761587040126324\n",
            "Epoch: 7, Iter: 400, Loss: 0.02869848419725895\n",
            "Epoch: 8, Iter: 100, Loss: 0.026366784319281578\n",
            "Epoch: 8, Iter: 200, Loss: 0.026706242814660074\n",
            "Epoch: 8, Iter: 300, Loss: 0.0259988389313221\n",
            "Epoch: 8, Iter: 400, Loss: 0.025616767361760138\n",
            "Epoch: 9, Iter: 100, Loss: 0.025116604685783386\n",
            "Epoch: 9, Iter: 200, Loss: 0.025235464751720428\n",
            "Epoch: 9, Iter: 300, Loss: 0.024391327515244483\n",
            "Epoch: 9, Iter: 400, Loss: 0.024289908811450003\n",
            "Epoch: 10, Iter: 100, Loss: 0.024205615401268005\n",
            "Epoch: 10, Iter: 200, Loss: 0.023315608486533166\n",
            "Epoch: 10, Iter: 300, Loss: 0.023195753008127214\n",
            "Epoch: 10, Iter: 400, Loss: 0.02276985615491867\n"
          ]
        }
      ]
    },
    {
      "cell_type": "code",
      "source": [
        "correct = 0\n",
        "total = 0\n",
        "\n",
        "with torch.no_grad():\n",
        "    for data in test_loader128:\n",
        "        images, labels = data[0].to(device), data[1].to(device)\n",
        "        outputs = new_model(images)\n",
        "        _, predicted = torch.max(outputs.data, axis=1)\n",
        "        total += labels.size(0)\n",
        "        correct += (predicted == labels).sum().item()\n",
        "    \n",
        "    print(100 * correct / total)"
      ],
      "metadata": {
        "colab": {
          "base_uri": "https://localhost:8080/"
        },
        "id": "1PDu2v9bB_NE",
        "outputId": "1f84893b-2993-4d1b-81b3-94841738642a"
      },
      "execution_count": 110,
      "outputs": [
        {
          "output_type": "stream",
          "name": "stdout",
          "text": [
            "82.92\n"
          ]
        }
      ]
    },
    {
      "cell_type": "markdown",
      "source": [
        "### 4개의 convolution-layer 사용시"
      ],
      "metadata": {
        "id": "7Thu9NRyCV7j"
      }
    },
    {
      "cell_type": "code",
      "source": [
        "class CNN_Model4(nn.Module):\n",
        "    def __init__(self):\n",
        "        super(CNN_Model4, self).__init__()\n",
        "\n",
        "        self.conv1 = nn.Conv2d(in_channels=1, out_channels=5, kernel_size=3, stride=1, padding=2)\n",
        "        self.conv2 = nn.Conv2d(5, 7, 3, padding=1)\n",
        "        self.conv3 = nn.Conv2d(7, 16, 2, padding=1)\n",
        "        self.conv4 = nn.Conv2d(16, 19, 2)\n",
        "\n",
        "        self.fc1 = nn.Linear(15* 15 * 19, 3000)\n",
        "        self.fc2 = nn.Linear(3000, 1500)\n",
        "        self.fc3 = nn.Linear(1500, 20 * 3 * 3)\n",
        "        self.fc4 = nn.Linear(20 * 3 * 3, 86)\n",
        "        self.fc5 = nn.Linear(86, 10) # 10 : 10개의 category\n",
        "\n",
        "    def forward(self, x):\n",
        "        x = F.relu(self.conv1(x))\n",
        "        x = F.max_pool2d(x, (2,2))\n",
        "        x = F.relu(self.conv2(x))\n",
        "        x = F.relu(self.conv3(x))\n",
        "        x = F.relu(self.conv4(x))\n",
        "\n",
        "        x = x.view(-1, self.num_flat_features(x)) # num_flat_features : 아래에서 정의\n",
        "\n",
        "        x = F.relu(self.fc1(x))\n",
        "        x = F.relu(self.fc2(x))\n",
        "        x = F.relu(self.fc3(x))\n",
        "        x = F.relu(self.fc4(x))\n",
        "        x = self.fc5(x)\n",
        "\n",
        "        return x\n",
        "    \n",
        "    def num_flat_features(self, x): # 처음 dim-size을 제외하고, 모두 곱한 값을 반환해준다.\n",
        "        size = x.size()[1:]\n",
        "        num_features = 1\n",
        "        for s in size:\n",
        "            num_features *= s\n",
        "        \n",
        "        return num_features"
      ],
      "metadata": {
        "id": "V9PQvGFPCV7k"
      },
      "execution_count": 111,
      "outputs": []
    },
    {
      "cell_type": "code",
      "source": [
        "# 모델객체 생성\n",
        "new_model = CNN_Model4().to(device)\n",
        "\n",
        "print(new_model)"
      ],
      "metadata": {
        "colab": {
          "base_uri": "https://localhost:8080/"
        },
        "outputId": "9773166f-fb8a-4f31-8568-389d5bdc3cdf",
        "id": "HNAL7SRZCV7k"
      },
      "execution_count": 112,
      "outputs": [
        {
          "output_type": "stream",
          "name": "stdout",
          "text": [
            "CNN_Model4(\n",
            "  (conv1): Conv2d(1, 5, kernel_size=(3, 3), stride=(1, 1), padding=(2, 2))\n",
            "  (conv2): Conv2d(5, 7, kernel_size=(3, 3), stride=(1, 1), padding=(1, 1))\n",
            "  (conv3): Conv2d(7, 16, kernel_size=(2, 2), stride=(1, 1), padding=(1, 1))\n",
            "  (conv4): Conv2d(16, 19, kernel_size=(2, 2), stride=(1, 1))\n",
            "  (fc1): Linear(in_features=4275, out_features=3000, bias=True)\n",
            "  (fc2): Linear(in_features=3000, out_features=1500, bias=True)\n",
            "  (fc3): Linear(in_features=1500, out_features=180, bias=True)\n",
            "  (fc4): Linear(in_features=180, out_features=86, bias=True)\n",
            "  (fc5): Linear(in_features=86, out_features=10, bias=True)\n",
            ")\n"
          ]
        }
      ]
    },
    {
      "cell_type": "code",
      "source": [
        "summary(new_model, input_size=(1, 28, 28), batch_size=128)"
      ],
      "metadata": {
        "colab": {
          "base_uri": "https://localhost:8080/"
        },
        "outputId": "39ad2d65-2245-4951-a8c2-26e9df7a9ad9",
        "id": "fHmIarJBCV7k"
      },
      "execution_count": 113,
      "outputs": [
        {
          "output_type": "stream",
          "name": "stdout",
          "text": [
            "----------------------------------------------------------------\n",
            "        Layer (type)               Output Shape         Param #\n",
            "================================================================\n",
            "            Conv2d-1           [128, 5, 30, 30]              50\n",
            "            Conv2d-2           [128, 7, 15, 15]             322\n",
            "            Conv2d-3          [128, 16, 16, 16]             464\n",
            "            Conv2d-4          [128, 19, 15, 15]           1,235\n",
            "            Linear-5                [128, 3000]      12,828,000\n",
            "            Linear-6                [128, 1500]       4,501,500\n",
            "            Linear-7                 [128, 180]         270,180\n",
            "            Linear-8                  [128, 86]          15,566\n",
            "            Linear-9                  [128, 10]             870\n",
            "================================================================\n",
            "Total params: 17,618,187\n",
            "Trainable params: 17,618,187\n",
            "Non-trainable params: 0\n",
            "----------------------------------------------------------------\n",
            "Input size (MB): 0.38\n",
            "Forward/backward pass size (MB): 18.77\n",
            "Params size (MB): 67.21\n",
            "Estimated Total Size (MB): 86.36\n",
            "----------------------------------------------------------------\n"
          ]
        }
      ]
    },
    {
      "cell_type": "code",
      "source": [
        "optimizer = optim.SGD(new_model.parameters(), lr=0.001, momentum=0.9)"
      ],
      "metadata": {
        "id": "z6gegPTRCV7k"
      },
      "execution_count": 114,
      "outputs": []
    },
    {
      "cell_type": "code",
      "source": [
        "for epoch in range(10):\n",
        "\n",
        "    running_loss = 0.0\n",
        "\n",
        "    for i, data in enumerate(train_loader128, start=0):\n",
        "        inputs, labels = data[0].to(device), data[1].to(device)\n",
        "\n",
        "        optimizer.zero_grad() # epoch마다 gradient 0으로 초기화\n",
        "\n",
        "        outputs = new_model(inputs) # y_pred = f(X)\n",
        "        loss = criterion(outputs, labels) # CrossEntropyLoss; 0~1 사이값\n",
        "        loss.backward() # back-propagation; gradient 계산\n",
        "        optimizer.step() # parameters(weights) update\n",
        "\n",
        "        running_loss += loss.item() # 그냥 전체적인 비교를 위해 누적함\n",
        "\n",
        "        if i % 100 == 99: # 100번 마다 확인; epoch=10, iter(=i)=469, batch=128\n",
        "            print('Epoch: {}, Iter: {}, Loss: {}'.format(epoch+1, i+1, running_loss/2000))\n",
        "            running_loss = 0.0"
      ],
      "metadata": {
        "colab": {
          "base_uri": "https://localhost:8080/"
        },
        "outputId": "bde6dc66-7681-4644-90ff-76d20bc70e85",
        "id": "oeeKVQdKCV7k"
      },
      "execution_count": 115,
      "outputs": [
        {
          "output_type": "stream",
          "name": "stdout",
          "text": [
            "Epoch: 1, Iter: 100, Loss: 0.11516221714019775\n",
            "Epoch: 1, Iter: 200, Loss: 0.11518132984638214\n",
            "Epoch: 1, Iter: 300, Loss: 0.1151922310590744\n",
            "Epoch: 1, Iter: 400, Loss: 0.11516533696651458\n",
            "Epoch: 2, Iter: 100, Loss: 0.11513121461868286\n",
            "Epoch: 2, Iter: 200, Loss: 0.1151609491109848\n",
            "Epoch: 2, Iter: 300, Loss: 0.11512990415096283\n",
            "Epoch: 2, Iter: 400, Loss: 0.1151242629289627\n",
            "Epoch: 3, Iter: 100, Loss: 0.11513311767578124\n",
            "Epoch: 3, Iter: 200, Loss: 0.11511363458633422\n",
            "Epoch: 3, Iter: 300, Loss: 0.11512020313739776\n",
            "Epoch: 3, Iter: 400, Loss: 0.11510670173168182\n",
            "Epoch: 4, Iter: 100, Loss: 0.11510977411270142\n",
            "Epoch: 4, Iter: 200, Loss: 0.11510185921192169\n",
            "Epoch: 4, Iter: 300, Loss: 0.11510630786418914\n",
            "Epoch: 4, Iter: 400, Loss: 0.11510090899467468\n",
            "Epoch: 5, Iter: 100, Loss: 0.11509184074401856\n",
            "Epoch: 5, Iter: 200, Loss: 0.11509167182445526\n",
            "Epoch: 5, Iter: 300, Loss: 0.11509033417701721\n",
            "Epoch: 5, Iter: 400, Loss: 0.11508371078968048\n",
            "Epoch: 6, Iter: 100, Loss: 0.11507640540599823\n",
            "Epoch: 6, Iter: 200, Loss: 0.11506987988948822\n",
            "Epoch: 6, Iter: 300, Loss: 0.11506687700748444\n",
            "Epoch: 6, Iter: 400, Loss: 0.11505935955047607\n",
            "Epoch: 7, Iter: 100, Loss: 0.11504234600067138\n",
            "Epoch: 7, Iter: 200, Loss: 0.11503421258926391\n",
            "Epoch: 7, Iter: 300, Loss: 0.11502199172973633\n",
            "Epoch: 7, Iter: 400, Loss: 0.11500530874729156\n",
            "Epoch: 8, Iter: 100, Loss: 0.11497196125984192\n",
            "Epoch: 8, Iter: 200, Loss: 0.11494854211807251\n",
            "Epoch: 8, Iter: 300, Loss: 0.11491775500774383\n",
            "Epoch: 8, Iter: 400, Loss: 0.11488363206386566\n",
            "Epoch: 9, Iter: 100, Loss: 0.11479271793365478\n",
            "Epoch: 9, Iter: 200, Loss: 0.11470990264415741\n",
            "Epoch: 9, Iter: 300, Loss: 0.11459696996212006\n",
            "Epoch: 9, Iter: 400, Loss: 0.11443944835662842\n",
            "Epoch: 10, Iter: 100, Loss: 0.11388473999500275\n",
            "Epoch: 10, Iter: 200, Loss: 0.11311858344078064\n",
            "Epoch: 10, Iter: 300, Loss: 0.111202969789505\n",
            "Epoch: 10, Iter: 400, Loss: 0.10150502789020538\n"
          ]
        }
      ]
    },
    {
      "cell_type": "code",
      "source": [
        "correct = 0\n",
        "total = 0\n",
        "\n",
        "with torch.no_grad():\n",
        "    for data in test_loader128:\n",
        "        images, labels = data[0].to(device), data[1].to(device)\n",
        "        outputs = new_model(images)\n",
        "        _, predicted = torch.max(outputs.data, axis=1)\n",
        "        total += labels.size(0)\n",
        "        correct += (predicted == labels).sum().item()\n",
        "    \n",
        "    print(100 * correct / total)"
      ],
      "metadata": {
        "colab": {
          "base_uri": "https://localhost:8080/"
        },
        "id": "w3uuDeS_CV7k",
        "outputId": "cac378a3-7925-4363-8416-64302bac64d8"
      },
      "execution_count": 116,
      "outputs": [
        {
          "output_type": "stream",
          "name": "stdout",
          "text": [
            "55.63\n"
          ]
        }
      ]
    },
    {
      "cell_type": "markdown",
      "source": [
        "### 5개의 convolution-layer 사용시"
      ],
      "metadata": {
        "id": "kuP_3_DyD42p"
      }
    },
    {
      "cell_type": "code",
      "source": [
        "class CNN_Model5(nn.Module):\n",
        "    def __init__(self):\n",
        "        super(CNN_Model5, self).__init__()\n",
        "\n",
        "        self.conv1 = nn.Conv2d(in_channels=1, out_channels=5, kernel_size=3, stride=1, padding=2)\n",
        "        self.conv2 = nn.Conv2d(5, 7, 3, padding=1)      \n",
        "        self.conv3 = nn.Conv2d(7, 16, 2, padding=1)\n",
        "        self.conv4 = nn.Conv2d(16, 19, 2)\n",
        "        self.conv5 = nn.Conv2d(19, 29, 3)\n",
        "\n",
        "        self.fc1 = nn.Linear(29 * 13 * 13, 100)\n",
        "        self.fc2 = nn.Linear(100, 50)\n",
        "        self.fc3 = nn.Linear(50, 25)\n",
        "        self.fc4 = nn.Linear(25, 10) # 10 : 10개의 category\n",
        "\n",
        "    def forward(self, x):\n",
        "        x = F.relu(self.conv1(x))\n",
        "        x = F.max_pool2d(x, (2,2))\n",
        "        x = F.relu(self.conv2(x))\n",
        "        x = F.relu(self.conv3(x))\n",
        "        x = F.relu(self.conv4(x))\n",
        "        x = F.relu(self.conv5(x))\n",
        "\n",
        "        x = x.view(-1, self.num_flat_features(x)) # num_flat_features : 아래에서 정의\n",
        "\n",
        "        x = F.relu(self.fc1(x))\n",
        "        x = F.relu(self.fc2(x))\n",
        "        x = F.relu(self.fc3(x))\n",
        "        x = self.fc4(x)\n",
        "\n",
        "        return x\n",
        "    \n",
        "    def num_flat_features(self, x): # 처음 dim-size을 제외하고, 모두 곱한 값을 반환해준다.\n",
        "        size = x.size()[1:]\n",
        "        num_features = 1\n",
        "        for s in size:\n",
        "            num_features *= s\n",
        "        \n",
        "        return num_features"
      ],
      "metadata": {
        "id": "Bk1u7iloD42q"
      },
      "execution_count": 117,
      "outputs": []
    },
    {
      "cell_type": "code",
      "source": [
        "# 모델객체 생성\n",
        "new_model = CNN_Model5().to(device)\n",
        "\n",
        "print(new_model)"
      ],
      "metadata": {
        "colab": {
          "base_uri": "https://localhost:8080/"
        },
        "outputId": "18267a97-2c5a-440b-e89a-31fe82b078cf",
        "id": "GPoNB-4vD42q"
      },
      "execution_count": 118,
      "outputs": [
        {
          "output_type": "stream",
          "name": "stdout",
          "text": [
            "CNN_Model5(\n",
            "  (conv1): Conv2d(1, 5, kernel_size=(3, 3), stride=(1, 1), padding=(2, 2))\n",
            "  (conv2): Conv2d(5, 7, kernel_size=(3, 3), stride=(1, 1), padding=(1, 1))\n",
            "  (conv3): Conv2d(7, 16, kernel_size=(2, 2), stride=(1, 1), padding=(1, 1))\n",
            "  (conv4): Conv2d(16, 19, kernel_size=(2, 2), stride=(1, 1))\n",
            "  (conv5): Conv2d(19, 29, kernel_size=(3, 3), stride=(1, 1))\n",
            "  (fc1): Linear(in_features=4901, out_features=100, bias=True)\n",
            "  (fc2): Linear(in_features=100, out_features=50, bias=True)\n",
            "  (fc3): Linear(in_features=50, out_features=25, bias=True)\n",
            "  (fc4): Linear(in_features=25, out_features=10, bias=True)\n",
            ")\n"
          ]
        }
      ]
    },
    {
      "cell_type": "code",
      "source": [
        "summary(new_model, input_size=(1, 28, 28), batch_size=128)"
      ],
      "metadata": {
        "colab": {
          "base_uri": "https://localhost:8080/"
        },
        "outputId": "a23c7d97-1cb5-42ac-9d94-580f58a6afd8",
        "id": "aDvnyPw6D42q"
      },
      "execution_count": 119,
      "outputs": [
        {
          "output_type": "stream",
          "name": "stdout",
          "text": [
            "----------------------------------------------------------------\n",
            "        Layer (type)               Output Shape         Param #\n",
            "================================================================\n",
            "            Conv2d-1           [128, 5, 30, 30]              50\n",
            "            Conv2d-2           [128, 7, 15, 15]             322\n",
            "            Conv2d-3          [128, 16, 16, 16]             464\n",
            "            Conv2d-4          [128, 19, 15, 15]           1,235\n",
            "            Conv2d-5          [128, 29, 13, 13]           4,988\n",
            "            Linear-6                 [128, 100]         490,200\n",
            "            Linear-7                  [128, 50]           5,050\n",
            "            Linear-8                  [128, 25]           1,275\n",
            "            Linear-9                  [128, 10]             260\n",
            "================================================================\n",
            "Total params: 503,844\n",
            "Trainable params: 503,844\n",
            "Non-trainable params: 0\n",
            "----------------------------------------------------------------\n",
            "Input size (MB): 0.38\n",
            "Forward/backward pass size (MB): 19.07\n",
            "Params size (MB): 1.92\n",
            "Estimated Total Size (MB): 21.38\n",
            "----------------------------------------------------------------\n"
          ]
        }
      ]
    },
    {
      "cell_type": "code",
      "source": [
        "optimizer = optim.SGD(new_model.parameters(), lr=0.001, momentum=0.9)"
      ],
      "metadata": {
        "id": "QmOiVQDLD42q"
      },
      "execution_count": 120,
      "outputs": []
    },
    {
      "cell_type": "code",
      "source": [
        "for epoch in range(10):\n",
        "\n",
        "    running_loss = 0.0\n",
        "\n",
        "    for i, data in enumerate(train_loader128, start=0):\n",
        "        inputs, labels = data[0].to(device), data[1].to(device)\n",
        "\n",
        "        optimizer.zero_grad() # epoch마다 gradient 0으로 초기화\n",
        "\n",
        "        outputs = new_model(inputs) # y_pred = f(X)\n",
        "        loss = criterion(outputs, labels) # CrossEntropyLoss; 0~1 사이값\n",
        "        loss.backward() # back-propagation; gradient 계산\n",
        "        optimizer.step() # parameters(weights) update\n",
        "\n",
        "        running_loss += loss.item() # 그냥 전체적인 비교를 위해 누적함\n",
        "\n",
        "        if i % 100 == 99: # 100번 마다 확인; epoch=10, iter(=i)=469, batch=128\n",
        "            print('Epoch: {}, Iter: {}, Loss: {}'.format(epoch+1, i+1, running_loss/2000))\n",
        "            running_loss = 0.0"
      ],
      "metadata": {
        "colab": {
          "base_uri": "https://localhost:8080/"
        },
        "outputId": "8d066e0e-2b2b-4aa9-b846-28b67ae78bbf",
        "id": "eS9fQfeED42q"
      },
      "execution_count": 121,
      "outputs": [
        {
          "output_type": "stream",
          "name": "stdout",
          "text": [
            "Epoch: 1, Iter: 100, Loss: 0.11524335813522339\n",
            "Epoch: 1, Iter: 200, Loss: 0.11533893346786499\n",
            "Epoch: 1, Iter: 300, Loss: 0.11524578523635864\n",
            "Epoch: 1, Iter: 400, Loss: 0.11524154031276702\n",
            "Epoch: 2, Iter: 100, Loss: 0.11518757140636444\n",
            "Epoch: 2, Iter: 200, Loss: 0.11516847455501557\n",
            "Epoch: 2, Iter: 300, Loss: 0.11516919803619385\n",
            "Epoch: 2, Iter: 400, Loss: 0.11517012703418732\n",
            "Epoch: 3, Iter: 100, Loss: 0.11514579093456269\n",
            "Epoch: 3, Iter: 200, Loss: 0.11514502477645874\n",
            "Epoch: 3, Iter: 300, Loss: 0.11516196477413178\n",
            "Epoch: 3, Iter: 400, Loss: 0.11512192332744599\n",
            "Epoch: 4, Iter: 100, Loss: 0.11512178182601929\n",
            "Epoch: 4, Iter: 200, Loss: 0.11512945818901062\n",
            "Epoch: 4, Iter: 300, Loss: 0.11513986229896546\n",
            "Epoch: 4, Iter: 400, Loss: 0.11513113903999328\n",
            "Epoch: 5, Iter: 100, Loss: 0.11512580394744873\n",
            "Epoch: 5, Iter: 200, Loss: 0.11512349307537079\n",
            "Epoch: 5, Iter: 300, Loss: 0.11513065993785858\n",
            "Epoch: 5, Iter: 400, Loss: 0.11512157750129699\n",
            "Epoch: 6, Iter: 100, Loss: 0.11512064826488495\n",
            "Epoch: 6, Iter: 200, Loss: 0.11512227642536163\n",
            "Epoch: 6, Iter: 300, Loss: 0.11512170612812042\n",
            "Epoch: 6, Iter: 400, Loss: 0.11511948621273041\n",
            "Epoch: 7, Iter: 100, Loss: 0.1151151373386383\n",
            "Epoch: 7, Iter: 200, Loss: 0.11511655437946319\n",
            "Epoch: 7, Iter: 300, Loss: 0.11511540365219117\n",
            "Epoch: 7, Iter: 400, Loss: 0.1151118665933609\n",
            "Epoch: 8, Iter: 100, Loss: 0.11510856401920319\n",
            "Epoch: 8, Iter: 200, Loss: 0.11510512828826905\n",
            "Epoch: 8, Iter: 300, Loss: 0.11510183787345886\n",
            "Epoch: 8, Iter: 400, Loss: 0.11510018801689148\n",
            "Epoch: 9, Iter: 100, Loss: 0.11509034729003906\n",
            "Epoch: 9, Iter: 200, Loss: 0.11508729195594787\n",
            "Epoch: 9, Iter: 300, Loss: 0.1150822137594223\n",
            "Epoch: 9, Iter: 400, Loss: 0.11507354092597961\n",
            "Epoch: 10, Iter: 100, Loss: 0.11505197644233704\n",
            "Epoch: 10, Iter: 200, Loss: 0.11503799617290497\n",
            "Epoch: 10, Iter: 300, Loss: 0.11501935565471649\n",
            "Epoch: 10, Iter: 400, Loss: 0.11499394190311432\n"
          ]
        }
      ]
    },
    {
      "cell_type": "code",
      "source": [
        "correct = 0\n",
        "total = 0\n",
        "\n",
        "with torch.no_grad():\n",
        "    for data in test_loader128:\n",
        "        images, labels = data[0].to(device), data[1].to(device)\n",
        "        outputs = new_model(images)\n",
        "        _, predicted = torch.max(outputs.data, axis=1)\n",
        "        total += labels.size(0)\n",
        "        correct += (predicted == labels).sum().item()\n",
        "    \n",
        "    print(100 * correct / total)"
      ],
      "metadata": {
        "colab": {
          "base_uri": "https://localhost:8080/"
        },
        "outputId": "ca9797c6-5a8f-4ab7-841a-3b889e503cd3",
        "id": "X0H3p7PGD42q"
      },
      "execution_count": 122,
      "outputs": [
        {
          "output_type": "stream",
          "name": "stdout",
          "text": [
            "32.78\n"
          ]
        }
      ]
    }
  ]
}