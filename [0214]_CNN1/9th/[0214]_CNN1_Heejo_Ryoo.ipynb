{
  "nbformat": 4,
  "nbformat_minor": 0,
  "metadata": {
    "colab": {
      "provenance": [],
      "collapsed_sections": [
        "cdNvme8aKSBP",
        "OHckdZ55KeH2",
        "mCrBa-gRRMEO",
        "EFPYE3UUnpmX",
        "xVxKI_rwCvhI",
        "klpXGc2tCimP",
        "huNh3EnhJLyh",
        "W-2Q7c6-JW9z",
        "FOUBE2UfKS6D",
        "LaVvtEOvKUgJ",
        "jRyyw49jKVhj",
        "5IecfHZiI09W",
        "SZcZQv4PGeYv",
        "V7HoLqroDhyF",
        "_civVcIYBGxA",
        "7Thu9NRyCV7j",
        "kuP_3_DyD42p"
      ]
    },
    "kernelspec": {
      "name": "python3",
      "display_name": "Python 3"
    },
    "accelerator": "GPU",
    "gpuClass": "standard",
    "widgets": {
      "application/vnd.jupyter.widget-state+json": {
        "1b91d797177d4256b2773661f5e11e33": {
          "model_module": "@jupyter-widgets/controls",
          "model_name": "HBoxModel",
          "model_module_version": "1.5.0",
          "state": {
            "_dom_classes": [],
            "_model_module": "@jupyter-widgets/controls",
            "_model_module_version": "1.5.0",
            "_model_name": "HBoxModel",
            "_view_count": null,
            "_view_module": "@jupyter-widgets/controls",
            "_view_module_version": "1.5.0",
            "_view_name": "HBoxView",
            "box_style": "",
            "children": [
              "IPY_MODEL_cb15b870e98d4d0a9df71bfcf3312a74",
              "IPY_MODEL_21fb24a9666f4d2281f4bfc506461c7c",
              "IPY_MODEL_bf0bc16715c8476b9568f3eb9ae5a565"
            ],
            "layout": "IPY_MODEL_1ef89988ad0d4338a20e3d3c0af64d11"
          }
        },
        "cb15b870e98d4d0a9df71bfcf3312a74": {
          "model_module": "@jupyter-widgets/controls",
          "model_name": "HTMLModel",
          "model_module_version": "1.5.0",
          "state": {
            "_dom_classes": [],
            "_model_module": "@jupyter-widgets/controls",
            "_model_module_version": "1.5.0",
            "_model_name": "HTMLModel",
            "_view_count": null,
            "_view_module": "@jupyter-widgets/controls",
            "_view_module_version": "1.5.0",
            "_view_name": "HTMLView",
            "description": "",
            "description_tooltip": null,
            "layout": "IPY_MODEL_7611e174a8404c76bd1961d32163b44d",
            "placeholder": "​",
            "style": "IPY_MODEL_5731c827b9594be1a5d46e665aef3804",
            "value": "100%"
          }
        },
        "21fb24a9666f4d2281f4bfc506461c7c": {
          "model_module": "@jupyter-widgets/controls",
          "model_name": "FloatProgressModel",
          "model_module_version": "1.5.0",
          "state": {
            "_dom_classes": [],
            "_model_module": "@jupyter-widgets/controls",
            "_model_module_version": "1.5.0",
            "_model_name": "FloatProgressModel",
            "_view_count": null,
            "_view_module": "@jupyter-widgets/controls",
            "_view_module_version": "1.5.0",
            "_view_name": "ProgressView",
            "bar_style": "success",
            "description": "",
            "description_tooltip": null,
            "layout": "IPY_MODEL_d88215d899f94804a9e6888755f11a77",
            "max": 26421880,
            "min": 0,
            "orientation": "horizontal",
            "style": "IPY_MODEL_a3e59a55a24e4e3399ad2c9c7f6dff18",
            "value": 26421880
          }
        },
        "bf0bc16715c8476b9568f3eb9ae5a565": {
          "model_module": "@jupyter-widgets/controls",
          "model_name": "HTMLModel",
          "model_module_version": "1.5.0",
          "state": {
            "_dom_classes": [],
            "_model_module": "@jupyter-widgets/controls",
            "_model_module_version": "1.5.0",
            "_model_name": "HTMLModel",
            "_view_count": null,
            "_view_module": "@jupyter-widgets/controls",
            "_view_module_version": "1.5.0",
            "_view_name": "HTMLView",
            "description": "",
            "description_tooltip": null,
            "layout": "IPY_MODEL_276d78ffe22f4dc58de3e6a61483de2e",
            "placeholder": "​",
            "style": "IPY_MODEL_5dba05a6ad5047a0b79af905401848e7",
            "value": " 26421880/26421880 [00:03&lt;00:00, 14262908.55it/s]"
          }
        },
        "1ef89988ad0d4338a20e3d3c0af64d11": {
          "model_module": "@jupyter-widgets/base",
          "model_name": "LayoutModel",
          "model_module_version": "1.2.0",
          "state": {
            "_model_module": "@jupyter-widgets/base",
            "_model_module_version": "1.2.0",
            "_model_name": "LayoutModel",
            "_view_count": null,
            "_view_module": "@jupyter-widgets/base",
            "_view_module_version": "1.2.0",
            "_view_name": "LayoutView",
            "align_content": null,
            "align_items": null,
            "align_self": null,
            "border": null,
            "bottom": null,
            "display": null,
            "flex": null,
            "flex_flow": null,
            "grid_area": null,
            "grid_auto_columns": null,
            "grid_auto_flow": null,
            "grid_auto_rows": null,
            "grid_column": null,
            "grid_gap": null,
            "grid_row": null,
            "grid_template_areas": null,
            "grid_template_columns": null,
            "grid_template_rows": null,
            "height": null,
            "justify_content": null,
            "justify_items": null,
            "left": null,
            "margin": null,
            "max_height": null,
            "max_width": null,
            "min_height": null,
            "min_width": null,
            "object_fit": null,
            "object_position": null,
            "order": null,
            "overflow": null,
            "overflow_x": null,
            "overflow_y": null,
            "padding": null,
            "right": null,
            "top": null,
            "visibility": null,
            "width": null
          }
        },
        "7611e174a8404c76bd1961d32163b44d": {
          "model_module": "@jupyter-widgets/base",
          "model_name": "LayoutModel",
          "model_module_version": "1.2.0",
          "state": {
            "_model_module": "@jupyter-widgets/base",
            "_model_module_version": "1.2.0",
            "_model_name": "LayoutModel",
            "_view_count": null,
            "_view_module": "@jupyter-widgets/base",
            "_view_module_version": "1.2.0",
            "_view_name": "LayoutView",
            "align_content": null,
            "align_items": null,
            "align_self": null,
            "border": null,
            "bottom": null,
            "display": null,
            "flex": null,
            "flex_flow": null,
            "grid_area": null,
            "grid_auto_columns": null,
            "grid_auto_flow": null,
            "grid_auto_rows": null,
            "grid_column": null,
            "grid_gap": null,
            "grid_row": null,
            "grid_template_areas": null,
            "grid_template_columns": null,
            "grid_template_rows": null,
            "height": null,
            "justify_content": null,
            "justify_items": null,
            "left": null,
            "margin": null,
            "max_height": null,
            "max_width": null,
            "min_height": null,
            "min_width": null,
            "object_fit": null,
            "object_position": null,
            "order": null,
            "overflow": null,
            "overflow_x": null,
            "overflow_y": null,
            "padding": null,
            "right": null,
            "top": null,
            "visibility": null,
            "width": null
          }
        },
        "5731c827b9594be1a5d46e665aef3804": {
          "model_module": "@jupyter-widgets/controls",
          "model_name": "DescriptionStyleModel",
          "model_module_version": "1.5.0",
          "state": {
            "_model_module": "@jupyter-widgets/controls",
            "_model_module_version": "1.5.0",
            "_model_name": "DescriptionStyleModel",
            "_view_count": null,
            "_view_module": "@jupyter-widgets/base",
            "_view_module_version": "1.2.0",
            "_view_name": "StyleView",
            "description_width": ""
          }
        },
        "d88215d899f94804a9e6888755f11a77": {
          "model_module": "@jupyter-widgets/base",
          "model_name": "LayoutModel",
          "model_module_version": "1.2.0",
          "state": {
            "_model_module": "@jupyter-widgets/base",
            "_model_module_version": "1.2.0",
            "_model_name": "LayoutModel",
            "_view_count": null,
            "_view_module": "@jupyter-widgets/base",
            "_view_module_version": "1.2.0",
            "_view_name": "LayoutView",
            "align_content": null,
            "align_items": null,
            "align_self": null,
            "border": null,
            "bottom": null,
            "display": null,
            "flex": null,
            "flex_flow": null,
            "grid_area": null,
            "grid_auto_columns": null,
            "grid_auto_flow": null,
            "grid_auto_rows": null,
            "grid_column": null,
            "grid_gap": null,
            "grid_row": null,
            "grid_template_areas": null,
            "grid_template_columns": null,
            "grid_template_rows": null,
            "height": null,
            "justify_content": null,
            "justify_items": null,
            "left": null,
            "margin": null,
            "max_height": null,
            "max_width": null,
            "min_height": null,
            "min_width": null,
            "object_fit": null,
            "object_position": null,
            "order": null,
            "overflow": null,
            "overflow_x": null,
            "overflow_y": null,
            "padding": null,
            "right": null,
            "top": null,
            "visibility": null,
            "width": null
          }
        },
        "a3e59a55a24e4e3399ad2c9c7f6dff18": {
          "model_module": "@jupyter-widgets/controls",
          "model_name": "ProgressStyleModel",
          "model_module_version": "1.5.0",
          "state": {
            "_model_module": "@jupyter-widgets/controls",
            "_model_module_version": "1.5.0",
            "_model_name": "ProgressStyleModel",
            "_view_count": null,
            "_view_module": "@jupyter-widgets/base",
            "_view_module_version": "1.2.0",
            "_view_name": "StyleView",
            "bar_color": null,
            "description_width": ""
          }
        },
        "276d78ffe22f4dc58de3e6a61483de2e": {
          "model_module": "@jupyter-widgets/base",
          "model_name": "LayoutModel",
          "model_module_version": "1.2.0",
          "state": {
            "_model_module": "@jupyter-widgets/base",
            "_model_module_version": "1.2.0",
            "_model_name": "LayoutModel",
            "_view_count": null,
            "_view_module": "@jupyter-widgets/base",
            "_view_module_version": "1.2.0",
            "_view_name": "LayoutView",
            "align_content": null,
            "align_items": null,
            "align_self": null,
            "border": null,
            "bottom": null,
            "display": null,
            "flex": null,
            "flex_flow": null,
            "grid_area": null,
            "grid_auto_columns": null,
            "grid_auto_flow": null,
            "grid_auto_rows": null,
            "grid_column": null,
            "grid_gap": null,
            "grid_row": null,
            "grid_template_areas": null,
            "grid_template_columns": null,
            "grid_template_rows": null,
            "height": null,
            "justify_content": null,
            "justify_items": null,
            "left": null,
            "margin": null,
            "max_height": null,
            "max_width": null,
            "min_height": null,
            "min_width": null,
            "object_fit": null,
            "object_position": null,
            "order": null,
            "overflow": null,
            "overflow_x": null,
            "overflow_y": null,
            "padding": null,
            "right": null,
            "top": null,
            "visibility": null,
            "width": null
          }
        },
        "5dba05a6ad5047a0b79af905401848e7": {
          "model_module": "@jupyter-widgets/controls",
          "model_name": "DescriptionStyleModel",
          "model_module_version": "1.5.0",
          "state": {
            "_model_module": "@jupyter-widgets/controls",
            "_model_module_version": "1.5.0",
            "_model_name": "DescriptionStyleModel",
            "_view_count": null,
            "_view_module": "@jupyter-widgets/base",
            "_view_module_version": "1.2.0",
            "_view_name": "StyleView",
            "description_width": ""
          }
        },
        "1363161621a74c89a5462bae5addcd29": {
          "model_module": "@jupyter-widgets/controls",
          "model_name": "HBoxModel",
          "model_module_version": "1.5.0",
          "state": {
            "_dom_classes": [],
            "_model_module": "@jupyter-widgets/controls",
            "_model_module_version": "1.5.0",
            "_model_name": "HBoxModel",
            "_view_count": null,
            "_view_module": "@jupyter-widgets/controls",
            "_view_module_version": "1.5.0",
            "_view_name": "HBoxView",
            "box_style": "",
            "children": [
              "IPY_MODEL_679740ef3fe5443ba995d8486b4b55d9",
              "IPY_MODEL_b0cd5760a92542c1a8e37c13372665f4",
              "IPY_MODEL_9464d7db9cc740d28c9a6a8d298973e7"
            ],
            "layout": "IPY_MODEL_dd0c1d04c20f4c42aa2b90ff1313440b"
          }
        },
        "679740ef3fe5443ba995d8486b4b55d9": {
          "model_module": "@jupyter-widgets/controls",
          "model_name": "HTMLModel",
          "model_module_version": "1.5.0",
          "state": {
            "_dom_classes": [],
            "_model_module": "@jupyter-widgets/controls",
            "_model_module_version": "1.5.0",
            "_model_name": "HTMLModel",
            "_view_count": null,
            "_view_module": "@jupyter-widgets/controls",
            "_view_module_version": "1.5.0",
            "_view_name": "HTMLView",
            "description": "",
            "description_tooltip": null,
            "layout": "IPY_MODEL_90cfa9a2cf3c4d40ab65ba34bb839fc5",
            "placeholder": "​",
            "style": "IPY_MODEL_1bfb6c3eacdb4d1cb3369af61f08394b",
            "value": "100%"
          }
        },
        "b0cd5760a92542c1a8e37c13372665f4": {
          "model_module": "@jupyter-widgets/controls",
          "model_name": "FloatProgressModel",
          "model_module_version": "1.5.0",
          "state": {
            "_dom_classes": [],
            "_model_module": "@jupyter-widgets/controls",
            "_model_module_version": "1.5.0",
            "_model_name": "FloatProgressModel",
            "_view_count": null,
            "_view_module": "@jupyter-widgets/controls",
            "_view_module_version": "1.5.0",
            "_view_name": "ProgressView",
            "bar_style": "success",
            "description": "",
            "description_tooltip": null,
            "layout": "IPY_MODEL_e91edf568fed456faf59cf450de0771e",
            "max": 29515,
            "min": 0,
            "orientation": "horizontal",
            "style": "IPY_MODEL_c86071d91b7f4e6eabfffa62bcfc1fc2",
            "value": 29515
          }
        },
        "9464d7db9cc740d28c9a6a8d298973e7": {
          "model_module": "@jupyter-widgets/controls",
          "model_name": "HTMLModel",
          "model_module_version": "1.5.0",
          "state": {
            "_dom_classes": [],
            "_model_module": "@jupyter-widgets/controls",
            "_model_module_version": "1.5.0",
            "_model_name": "HTMLModel",
            "_view_count": null,
            "_view_module": "@jupyter-widgets/controls",
            "_view_module_version": "1.5.0",
            "_view_name": "HTMLView",
            "description": "",
            "description_tooltip": null,
            "layout": "IPY_MODEL_93e4f8e4d0314a74b55cfa57ab8afc78",
            "placeholder": "​",
            "style": "IPY_MODEL_a62bac43ec8f4b7fbbdb6e1344edc401",
            "value": " 29515/29515 [00:00&lt;00:00, 146619.59it/s]"
          }
        },
        "dd0c1d04c20f4c42aa2b90ff1313440b": {
          "model_module": "@jupyter-widgets/base",
          "model_name": "LayoutModel",
          "model_module_version": "1.2.0",
          "state": {
            "_model_module": "@jupyter-widgets/base",
            "_model_module_version": "1.2.0",
            "_model_name": "LayoutModel",
            "_view_count": null,
            "_view_module": "@jupyter-widgets/base",
            "_view_module_version": "1.2.0",
            "_view_name": "LayoutView",
            "align_content": null,
            "align_items": null,
            "align_self": null,
            "border": null,
            "bottom": null,
            "display": null,
            "flex": null,
            "flex_flow": null,
            "grid_area": null,
            "grid_auto_columns": null,
            "grid_auto_flow": null,
            "grid_auto_rows": null,
            "grid_column": null,
            "grid_gap": null,
            "grid_row": null,
            "grid_template_areas": null,
            "grid_template_columns": null,
            "grid_template_rows": null,
            "height": null,
            "justify_content": null,
            "justify_items": null,
            "left": null,
            "margin": null,
            "max_height": null,
            "max_width": null,
            "min_height": null,
            "min_width": null,
            "object_fit": null,
            "object_position": null,
            "order": null,
            "overflow": null,
            "overflow_x": null,
            "overflow_y": null,
            "padding": null,
            "right": null,
            "top": null,
            "visibility": null,
            "width": null
          }
        },
        "90cfa9a2cf3c4d40ab65ba34bb839fc5": {
          "model_module": "@jupyter-widgets/base",
          "model_name": "LayoutModel",
          "model_module_version": "1.2.0",
          "state": {
            "_model_module": "@jupyter-widgets/base",
            "_model_module_version": "1.2.0",
            "_model_name": "LayoutModel",
            "_view_count": null,
            "_view_module": "@jupyter-widgets/base",
            "_view_module_version": "1.2.0",
            "_view_name": "LayoutView",
            "align_content": null,
            "align_items": null,
            "align_self": null,
            "border": null,
            "bottom": null,
            "display": null,
            "flex": null,
            "flex_flow": null,
            "grid_area": null,
            "grid_auto_columns": null,
            "grid_auto_flow": null,
            "grid_auto_rows": null,
            "grid_column": null,
            "grid_gap": null,
            "grid_row": null,
            "grid_template_areas": null,
            "grid_template_columns": null,
            "grid_template_rows": null,
            "height": null,
            "justify_content": null,
            "justify_items": null,
            "left": null,
            "margin": null,
            "max_height": null,
            "max_width": null,
            "min_height": null,
            "min_width": null,
            "object_fit": null,
            "object_position": null,
            "order": null,
            "overflow": null,
            "overflow_x": null,
            "overflow_y": null,
            "padding": null,
            "right": null,
            "top": null,
            "visibility": null,
            "width": null
          }
        },
        "1bfb6c3eacdb4d1cb3369af61f08394b": {
          "model_module": "@jupyter-widgets/controls",
          "model_name": "DescriptionStyleModel",
          "model_module_version": "1.5.0",
          "state": {
            "_model_module": "@jupyter-widgets/controls",
            "_model_module_version": "1.5.0",
            "_model_name": "DescriptionStyleModel",
            "_view_count": null,
            "_view_module": "@jupyter-widgets/base",
            "_view_module_version": "1.2.0",
            "_view_name": "StyleView",
            "description_width": ""
          }
        },
        "e91edf568fed456faf59cf450de0771e": {
          "model_module": "@jupyter-widgets/base",
          "model_name": "LayoutModel",
          "model_module_version": "1.2.0",
          "state": {
            "_model_module": "@jupyter-widgets/base",
            "_model_module_version": "1.2.0",
            "_model_name": "LayoutModel",
            "_view_count": null,
            "_view_module": "@jupyter-widgets/base",
            "_view_module_version": "1.2.0",
            "_view_name": "LayoutView",
            "align_content": null,
            "align_items": null,
            "align_self": null,
            "border": null,
            "bottom": null,
            "display": null,
            "flex": null,
            "flex_flow": null,
            "grid_area": null,
            "grid_auto_columns": null,
            "grid_auto_flow": null,
            "grid_auto_rows": null,
            "grid_column": null,
            "grid_gap": null,
            "grid_row": null,
            "grid_template_areas": null,
            "grid_template_columns": null,
            "grid_template_rows": null,
            "height": null,
            "justify_content": null,
            "justify_items": null,
            "left": null,
            "margin": null,
            "max_height": null,
            "max_width": null,
            "min_height": null,
            "min_width": null,
            "object_fit": null,
            "object_position": null,
            "order": null,
            "overflow": null,
            "overflow_x": null,
            "overflow_y": null,
            "padding": null,
            "right": null,
            "top": null,
            "visibility": null,
            "width": null
          }
        },
        "c86071d91b7f4e6eabfffa62bcfc1fc2": {
          "model_module": "@jupyter-widgets/controls",
          "model_name": "ProgressStyleModel",
          "model_module_version": "1.5.0",
          "state": {
            "_model_module": "@jupyter-widgets/controls",
            "_model_module_version": "1.5.0",
            "_model_name": "ProgressStyleModel",
            "_view_count": null,
            "_view_module": "@jupyter-widgets/base",
            "_view_module_version": "1.2.0",
            "_view_name": "StyleView",
            "bar_color": null,
            "description_width": ""
          }
        },
        "93e4f8e4d0314a74b55cfa57ab8afc78": {
          "model_module": "@jupyter-widgets/base",
          "model_name": "LayoutModel",
          "model_module_version": "1.2.0",
          "state": {
            "_model_module": "@jupyter-widgets/base",
            "_model_module_version": "1.2.0",
            "_model_name": "LayoutModel",
            "_view_count": null,
            "_view_module": "@jupyter-widgets/base",
            "_view_module_version": "1.2.0",
            "_view_name": "LayoutView",
            "align_content": null,
            "align_items": null,
            "align_self": null,
            "border": null,
            "bottom": null,
            "display": null,
            "flex": null,
            "flex_flow": null,
            "grid_area": null,
            "grid_auto_columns": null,
            "grid_auto_flow": null,
            "grid_auto_rows": null,
            "grid_column": null,
            "grid_gap": null,
            "grid_row": null,
            "grid_template_areas": null,
            "grid_template_columns": null,
            "grid_template_rows": null,
            "height": null,
            "justify_content": null,
            "justify_items": null,
            "left": null,
            "margin": null,
            "max_height": null,
            "max_width": null,
            "min_height": null,
            "min_width": null,
            "object_fit": null,
            "object_position": null,
            "order": null,
            "overflow": null,
            "overflow_x": null,
            "overflow_y": null,
            "padding": null,
            "right": null,
            "top": null,
            "visibility": null,
            "width": null
          }
        },
        "a62bac43ec8f4b7fbbdb6e1344edc401": {
          "model_module": "@jupyter-widgets/controls",
          "model_name": "DescriptionStyleModel",
          "model_module_version": "1.5.0",
          "state": {
            "_model_module": "@jupyter-widgets/controls",
            "_model_module_version": "1.5.0",
            "_model_name": "DescriptionStyleModel",
            "_view_count": null,
            "_view_module": "@jupyter-widgets/base",
            "_view_module_version": "1.2.0",
            "_view_name": "StyleView",
            "description_width": ""
          }
        },
        "7c7d3b5006844cb587c099d29b9f5501": {
          "model_module": "@jupyter-widgets/controls",
          "model_name": "HBoxModel",
          "model_module_version": "1.5.0",
          "state": {
            "_dom_classes": [],
            "_model_module": "@jupyter-widgets/controls",
            "_model_module_version": "1.5.0",
            "_model_name": "HBoxModel",
            "_view_count": null,
            "_view_module": "@jupyter-widgets/controls",
            "_view_module_version": "1.5.0",
            "_view_name": "HBoxView",
            "box_style": "",
            "children": [
              "IPY_MODEL_b7be708878614a52bcf1781073ab2bc8",
              "IPY_MODEL_953f85ac31c247f093612c6d62a5058e",
              "IPY_MODEL_c20953c79fd24f48800be51c6b8135fd"
            ],
            "layout": "IPY_MODEL_5a5223557a144f11afae0233b4a1ce36"
          }
        },
        "b7be708878614a52bcf1781073ab2bc8": {
          "model_module": "@jupyter-widgets/controls",
          "model_name": "HTMLModel",
          "model_module_version": "1.5.0",
          "state": {
            "_dom_classes": [],
            "_model_module": "@jupyter-widgets/controls",
            "_model_module_version": "1.5.0",
            "_model_name": "HTMLModel",
            "_view_count": null,
            "_view_module": "@jupyter-widgets/controls",
            "_view_module_version": "1.5.0",
            "_view_name": "HTMLView",
            "description": "",
            "description_tooltip": null,
            "layout": "IPY_MODEL_7fbd210019524cdd8b18e97c29c82151",
            "placeholder": "​",
            "style": "IPY_MODEL_eb44f5d06a9d459b82d0fe83d84ae127",
            "value": "100%"
          }
        },
        "953f85ac31c247f093612c6d62a5058e": {
          "model_module": "@jupyter-widgets/controls",
          "model_name": "FloatProgressModel",
          "model_module_version": "1.5.0",
          "state": {
            "_dom_classes": [],
            "_model_module": "@jupyter-widgets/controls",
            "_model_module_version": "1.5.0",
            "_model_name": "FloatProgressModel",
            "_view_count": null,
            "_view_module": "@jupyter-widgets/controls",
            "_view_module_version": "1.5.0",
            "_view_name": "ProgressView",
            "bar_style": "success",
            "description": "",
            "description_tooltip": null,
            "layout": "IPY_MODEL_ee23ad3e6af54b86ae0770d1b404b561",
            "max": 4422102,
            "min": 0,
            "orientation": "horizontal",
            "style": "IPY_MODEL_3923c04e639b42aab647da04af45ba16",
            "value": 4422102
          }
        },
        "c20953c79fd24f48800be51c6b8135fd": {
          "model_module": "@jupyter-widgets/controls",
          "model_name": "HTMLModel",
          "model_module_version": "1.5.0",
          "state": {
            "_dom_classes": [],
            "_model_module": "@jupyter-widgets/controls",
            "_model_module_version": "1.5.0",
            "_model_name": "HTMLModel",
            "_view_count": null,
            "_view_module": "@jupyter-widgets/controls",
            "_view_module_version": "1.5.0",
            "_view_name": "HTMLView",
            "description": "",
            "description_tooltip": null,
            "layout": "IPY_MODEL_3461ed8a1c984decb40379fefd8b47cd",
            "placeholder": "​",
            "style": "IPY_MODEL_77913484a2b44132a27de02bae04da7b",
            "value": " 4422102/4422102 [00:01&lt;00:00, 4452999.35it/s]"
          }
        },
        "5a5223557a144f11afae0233b4a1ce36": {
          "model_module": "@jupyter-widgets/base",
          "model_name": "LayoutModel",
          "model_module_version": "1.2.0",
          "state": {
            "_model_module": "@jupyter-widgets/base",
            "_model_module_version": "1.2.0",
            "_model_name": "LayoutModel",
            "_view_count": null,
            "_view_module": "@jupyter-widgets/base",
            "_view_module_version": "1.2.0",
            "_view_name": "LayoutView",
            "align_content": null,
            "align_items": null,
            "align_self": null,
            "border": null,
            "bottom": null,
            "display": null,
            "flex": null,
            "flex_flow": null,
            "grid_area": null,
            "grid_auto_columns": null,
            "grid_auto_flow": null,
            "grid_auto_rows": null,
            "grid_column": null,
            "grid_gap": null,
            "grid_row": null,
            "grid_template_areas": null,
            "grid_template_columns": null,
            "grid_template_rows": null,
            "height": null,
            "justify_content": null,
            "justify_items": null,
            "left": null,
            "margin": null,
            "max_height": null,
            "max_width": null,
            "min_height": null,
            "min_width": null,
            "object_fit": null,
            "object_position": null,
            "order": null,
            "overflow": null,
            "overflow_x": null,
            "overflow_y": null,
            "padding": null,
            "right": null,
            "top": null,
            "visibility": null,
            "width": null
          }
        },
        "7fbd210019524cdd8b18e97c29c82151": {
          "model_module": "@jupyter-widgets/base",
          "model_name": "LayoutModel",
          "model_module_version": "1.2.0",
          "state": {
            "_model_module": "@jupyter-widgets/base",
            "_model_module_version": "1.2.0",
            "_model_name": "LayoutModel",
            "_view_count": null,
            "_view_module": "@jupyter-widgets/base",
            "_view_module_version": "1.2.0",
            "_view_name": "LayoutView",
            "align_content": null,
            "align_items": null,
            "align_self": null,
            "border": null,
            "bottom": null,
            "display": null,
            "flex": null,
            "flex_flow": null,
            "grid_area": null,
            "grid_auto_columns": null,
            "grid_auto_flow": null,
            "grid_auto_rows": null,
            "grid_column": null,
            "grid_gap": null,
            "grid_row": null,
            "grid_template_areas": null,
            "grid_template_columns": null,
            "grid_template_rows": null,
            "height": null,
            "justify_content": null,
            "justify_items": null,
            "left": null,
            "margin": null,
            "max_height": null,
            "max_width": null,
            "min_height": null,
            "min_width": null,
            "object_fit": null,
            "object_position": null,
            "order": null,
            "overflow": null,
            "overflow_x": null,
            "overflow_y": null,
            "padding": null,
            "right": null,
            "top": null,
            "visibility": null,
            "width": null
          }
        },
        "eb44f5d06a9d459b82d0fe83d84ae127": {
          "model_module": "@jupyter-widgets/controls",
          "model_name": "DescriptionStyleModel",
          "model_module_version": "1.5.0",
          "state": {
            "_model_module": "@jupyter-widgets/controls",
            "_model_module_version": "1.5.0",
            "_model_name": "DescriptionStyleModel",
            "_view_count": null,
            "_view_module": "@jupyter-widgets/base",
            "_view_module_version": "1.2.0",
            "_view_name": "StyleView",
            "description_width": ""
          }
        },
        "ee23ad3e6af54b86ae0770d1b404b561": {
          "model_module": "@jupyter-widgets/base",
          "model_name": "LayoutModel",
          "model_module_version": "1.2.0",
          "state": {
            "_model_module": "@jupyter-widgets/base",
            "_model_module_version": "1.2.0",
            "_model_name": "LayoutModel",
            "_view_count": null,
            "_view_module": "@jupyter-widgets/base",
            "_view_module_version": "1.2.0",
            "_view_name": "LayoutView",
            "align_content": null,
            "align_items": null,
            "align_self": null,
            "border": null,
            "bottom": null,
            "display": null,
            "flex": null,
            "flex_flow": null,
            "grid_area": null,
            "grid_auto_columns": null,
            "grid_auto_flow": null,
            "grid_auto_rows": null,
            "grid_column": null,
            "grid_gap": null,
            "grid_row": null,
            "grid_template_areas": null,
            "grid_template_columns": null,
            "grid_template_rows": null,
            "height": null,
            "justify_content": null,
            "justify_items": null,
            "left": null,
            "margin": null,
            "max_height": null,
            "max_width": null,
            "min_height": null,
            "min_width": null,
            "object_fit": null,
            "object_position": null,
            "order": null,
            "overflow": null,
            "overflow_x": null,
            "overflow_y": null,
            "padding": null,
            "right": null,
            "top": null,
            "visibility": null,
            "width": null
          }
        },
        "3923c04e639b42aab647da04af45ba16": {
          "model_module": "@jupyter-widgets/controls",
          "model_name": "ProgressStyleModel",
          "model_module_version": "1.5.0",
          "state": {
            "_model_module": "@jupyter-widgets/controls",
            "_model_module_version": "1.5.0",
            "_model_name": "ProgressStyleModel",
            "_view_count": null,
            "_view_module": "@jupyter-widgets/base",
            "_view_module_version": "1.2.0",
            "_view_name": "StyleView",
            "bar_color": null,
            "description_width": ""
          }
        },
        "3461ed8a1c984decb40379fefd8b47cd": {
          "model_module": "@jupyter-widgets/base",
          "model_name": "LayoutModel",
          "model_module_version": "1.2.0",
          "state": {
            "_model_module": "@jupyter-widgets/base",
            "_model_module_version": "1.2.0",
            "_model_name": "LayoutModel",
            "_view_count": null,
            "_view_module": "@jupyter-widgets/base",
            "_view_module_version": "1.2.0",
            "_view_name": "LayoutView",
            "align_content": null,
            "align_items": null,
            "align_self": null,
            "border": null,
            "bottom": null,
            "display": null,
            "flex": null,
            "flex_flow": null,
            "grid_area": null,
            "grid_auto_columns": null,
            "grid_auto_flow": null,
            "grid_auto_rows": null,
            "grid_column": null,
            "grid_gap": null,
            "grid_row": null,
            "grid_template_areas": null,
            "grid_template_columns": null,
            "grid_template_rows": null,
            "height": null,
            "justify_content": null,
            "justify_items": null,
            "left": null,
            "margin": null,
            "max_height": null,
            "max_width": null,
            "min_height": null,
            "min_width": null,
            "object_fit": null,
            "object_position": null,
            "order": null,
            "overflow": null,
            "overflow_x": null,
            "overflow_y": null,
            "padding": null,
            "right": null,
            "top": null,
            "visibility": null,
            "width": null
          }
        },
        "77913484a2b44132a27de02bae04da7b": {
          "model_module": "@jupyter-widgets/controls",
          "model_name": "DescriptionStyleModel",
          "model_module_version": "1.5.0",
          "state": {
            "_model_module": "@jupyter-widgets/controls",
            "_model_module_version": "1.5.0",
            "_model_name": "DescriptionStyleModel",
            "_view_count": null,
            "_view_module": "@jupyter-widgets/base",
            "_view_module_version": "1.2.0",
            "_view_name": "StyleView",
            "description_width": ""
          }
        },
        "19accea29e50422980ec399544ea0881": {
          "model_module": "@jupyter-widgets/controls",
          "model_name": "HBoxModel",
          "model_module_version": "1.5.0",
          "state": {
            "_dom_classes": [],
            "_model_module": "@jupyter-widgets/controls",
            "_model_module_version": "1.5.0",
            "_model_name": "HBoxModel",
            "_view_count": null,
            "_view_module": "@jupyter-widgets/controls",
            "_view_module_version": "1.5.0",
            "_view_name": "HBoxView",
            "box_style": "",
            "children": [
              "IPY_MODEL_d2138b733dc54b34aac8318ec447ede1",
              "IPY_MODEL_1744fb46e3a24c23a48bb3c2f1ccac80",
              "IPY_MODEL_a8868a8429c640958aa15977e44405d7"
            ],
            "layout": "IPY_MODEL_67a2abbceaee4e4ab1531a5497b39fcd"
          }
        },
        "d2138b733dc54b34aac8318ec447ede1": {
          "model_module": "@jupyter-widgets/controls",
          "model_name": "HTMLModel",
          "model_module_version": "1.5.0",
          "state": {
            "_dom_classes": [],
            "_model_module": "@jupyter-widgets/controls",
            "_model_module_version": "1.5.0",
            "_model_name": "HTMLModel",
            "_view_count": null,
            "_view_module": "@jupyter-widgets/controls",
            "_view_module_version": "1.5.0",
            "_view_name": "HTMLView",
            "description": "",
            "description_tooltip": null,
            "layout": "IPY_MODEL_58d1d5166b7c4634bef894083a4d6cea",
            "placeholder": "​",
            "style": "IPY_MODEL_a3b2101c608547bb9644c3355a749f65",
            "value": "100%"
          }
        },
        "1744fb46e3a24c23a48bb3c2f1ccac80": {
          "model_module": "@jupyter-widgets/controls",
          "model_name": "FloatProgressModel",
          "model_module_version": "1.5.0",
          "state": {
            "_dom_classes": [],
            "_model_module": "@jupyter-widgets/controls",
            "_model_module_version": "1.5.0",
            "_model_name": "FloatProgressModel",
            "_view_count": null,
            "_view_module": "@jupyter-widgets/controls",
            "_view_module_version": "1.5.0",
            "_view_name": "ProgressView",
            "bar_style": "success",
            "description": "",
            "description_tooltip": null,
            "layout": "IPY_MODEL_7da1c6092a8940179e46244293e9363f",
            "max": 5148,
            "min": 0,
            "orientation": "horizontal",
            "style": "IPY_MODEL_c8cb9c28b4ed44b096f16435aa98b907",
            "value": 5148
          }
        },
        "a8868a8429c640958aa15977e44405d7": {
          "model_module": "@jupyter-widgets/controls",
          "model_name": "HTMLModel",
          "model_module_version": "1.5.0",
          "state": {
            "_dom_classes": [],
            "_model_module": "@jupyter-widgets/controls",
            "_model_module_version": "1.5.0",
            "_model_name": "HTMLModel",
            "_view_count": null,
            "_view_module": "@jupyter-widgets/controls",
            "_view_module_version": "1.5.0",
            "_view_name": "HTMLView",
            "description": "",
            "description_tooltip": null,
            "layout": "IPY_MODEL_58a35e90b09d4ea5821363aad0802a50",
            "placeholder": "​",
            "style": "IPY_MODEL_2ff25fc47ab04e64a9af82278198e0f0",
            "value": " 5148/5148 [00:00&lt;00:00, 431759.19it/s]"
          }
        },
        "67a2abbceaee4e4ab1531a5497b39fcd": {
          "model_module": "@jupyter-widgets/base",
          "model_name": "LayoutModel",
          "model_module_version": "1.2.0",
          "state": {
            "_model_module": "@jupyter-widgets/base",
            "_model_module_version": "1.2.0",
            "_model_name": "LayoutModel",
            "_view_count": null,
            "_view_module": "@jupyter-widgets/base",
            "_view_module_version": "1.2.0",
            "_view_name": "LayoutView",
            "align_content": null,
            "align_items": null,
            "align_self": null,
            "border": null,
            "bottom": null,
            "display": null,
            "flex": null,
            "flex_flow": null,
            "grid_area": null,
            "grid_auto_columns": null,
            "grid_auto_flow": null,
            "grid_auto_rows": null,
            "grid_column": null,
            "grid_gap": null,
            "grid_row": null,
            "grid_template_areas": null,
            "grid_template_columns": null,
            "grid_template_rows": null,
            "height": null,
            "justify_content": null,
            "justify_items": null,
            "left": null,
            "margin": null,
            "max_height": null,
            "max_width": null,
            "min_height": null,
            "min_width": null,
            "object_fit": null,
            "object_position": null,
            "order": null,
            "overflow": null,
            "overflow_x": null,
            "overflow_y": null,
            "padding": null,
            "right": null,
            "top": null,
            "visibility": null,
            "width": null
          }
        },
        "58d1d5166b7c4634bef894083a4d6cea": {
          "model_module": "@jupyter-widgets/base",
          "model_name": "LayoutModel",
          "model_module_version": "1.2.0",
          "state": {
            "_model_module": "@jupyter-widgets/base",
            "_model_module_version": "1.2.0",
            "_model_name": "LayoutModel",
            "_view_count": null,
            "_view_module": "@jupyter-widgets/base",
            "_view_module_version": "1.2.0",
            "_view_name": "LayoutView",
            "align_content": null,
            "align_items": null,
            "align_self": null,
            "border": null,
            "bottom": null,
            "display": null,
            "flex": null,
            "flex_flow": null,
            "grid_area": null,
            "grid_auto_columns": null,
            "grid_auto_flow": null,
            "grid_auto_rows": null,
            "grid_column": null,
            "grid_gap": null,
            "grid_row": null,
            "grid_template_areas": null,
            "grid_template_columns": null,
            "grid_template_rows": null,
            "height": null,
            "justify_content": null,
            "justify_items": null,
            "left": null,
            "margin": null,
            "max_height": null,
            "max_width": null,
            "min_height": null,
            "min_width": null,
            "object_fit": null,
            "object_position": null,
            "order": null,
            "overflow": null,
            "overflow_x": null,
            "overflow_y": null,
            "padding": null,
            "right": null,
            "top": null,
            "visibility": null,
            "width": null
          }
        },
        "a3b2101c608547bb9644c3355a749f65": {
          "model_module": "@jupyter-widgets/controls",
          "model_name": "DescriptionStyleModel",
          "model_module_version": "1.5.0",
          "state": {
            "_model_module": "@jupyter-widgets/controls",
            "_model_module_version": "1.5.0",
            "_model_name": "DescriptionStyleModel",
            "_view_count": null,
            "_view_module": "@jupyter-widgets/base",
            "_view_module_version": "1.2.0",
            "_view_name": "StyleView",
            "description_width": ""
          }
        },
        "7da1c6092a8940179e46244293e9363f": {
          "model_module": "@jupyter-widgets/base",
          "model_name": "LayoutModel",
          "model_module_version": "1.2.0",
          "state": {
            "_model_module": "@jupyter-widgets/base",
            "_model_module_version": "1.2.0",
            "_model_name": "LayoutModel",
            "_view_count": null,
            "_view_module": "@jupyter-widgets/base",
            "_view_module_version": "1.2.0",
            "_view_name": "LayoutView",
            "align_content": null,
            "align_items": null,
            "align_self": null,
            "border": null,
            "bottom": null,
            "display": null,
            "flex": null,
            "flex_flow": null,
            "grid_area": null,
            "grid_auto_columns": null,
            "grid_auto_flow": null,
            "grid_auto_rows": null,
            "grid_column": null,
            "grid_gap": null,
            "grid_row": null,
            "grid_template_areas": null,
            "grid_template_columns": null,
            "grid_template_rows": null,
            "height": null,
            "justify_content": null,
            "justify_items": null,
            "left": null,
            "margin": null,
            "max_height": null,
            "max_width": null,
            "min_height": null,
            "min_width": null,
            "object_fit": null,
            "object_position": null,
            "order": null,
            "overflow": null,
            "overflow_x": null,
            "overflow_y": null,
            "padding": null,
            "right": null,
            "top": null,
            "visibility": null,
            "width": null
          }
        },
        "c8cb9c28b4ed44b096f16435aa98b907": {
          "model_module": "@jupyter-widgets/controls",
          "model_name": "ProgressStyleModel",
          "model_module_version": "1.5.0",
          "state": {
            "_model_module": "@jupyter-widgets/controls",
            "_model_module_version": "1.5.0",
            "_model_name": "ProgressStyleModel",
            "_view_count": null,
            "_view_module": "@jupyter-widgets/base",
            "_view_module_version": "1.2.0",
            "_view_name": "StyleView",
            "bar_color": null,
            "description_width": ""
          }
        },
        "58a35e90b09d4ea5821363aad0802a50": {
          "model_module": "@jupyter-widgets/base",
          "model_name": "LayoutModel",
          "model_module_version": "1.2.0",
          "state": {
            "_model_module": "@jupyter-widgets/base",
            "_model_module_version": "1.2.0",
            "_model_name": "LayoutModel",
            "_view_count": null,
            "_view_module": "@jupyter-widgets/base",
            "_view_module_version": "1.2.0",
            "_view_name": "LayoutView",
            "align_content": null,
            "align_items": null,
            "align_self": null,
            "border": null,
            "bottom": null,
            "display": null,
            "flex": null,
            "flex_flow": null,
            "grid_area": null,
            "grid_auto_columns": null,
            "grid_auto_flow": null,
            "grid_auto_rows": null,
            "grid_column": null,
            "grid_gap": null,
            "grid_row": null,
            "grid_template_areas": null,
            "grid_template_columns": null,
            "grid_template_rows": null,
            "height": null,
            "justify_content": null,
            "justify_items": null,
            "left": null,
            "margin": null,
            "max_height": null,
            "max_width": null,
            "min_height": null,
            "min_width": null,
            "object_fit": null,
            "object_position": null,
            "order": null,
            "overflow": null,
            "overflow_x": null,
            "overflow_y": null,
            "padding": null,
            "right": null,
            "top": null,
            "visibility": null,
            "width": null
          }
        },
        "2ff25fc47ab04e64a9af82278198e0f0": {
          "model_module": "@jupyter-widgets/controls",
          "model_name": "DescriptionStyleModel",
          "model_module_version": "1.5.0",
          "state": {
            "_model_module": "@jupyter-widgets/controls",
            "_model_module_version": "1.5.0",
            "_model_name": "DescriptionStyleModel",
            "_view_count": null,
            "_view_module": "@jupyter-widgets/base",
            "_view_module_version": "1.2.0",
            "_view_name": "StyleView",
            "description_width": ""
          }
        }
      }
    }
  },
  "cells": [
    {
      "cell_type": "markdown",
      "source": [
        "# 초기 세팅"
      ],
      "metadata": {
        "id": "cdNvme8aKSBP"
      }
    },
    {
      "cell_type": "code",
      "metadata": {
        "id": "P1v9luAfHXdz"
      },
      "source": [
        "import torch\n",
        "import torch.nn as nn\n",
        "import torch.nn.functional as F\n",
        "import torch.optim as optim\n",
        "from torch.utils.data import Dataset, DataLoader\n",
        "\n",
        "import torchvision\n",
        "import torchvision.datasets as datasets\n",
        "import torchvision.transforms as transforms\n",
        "\n",
        "import numpy as np\n",
        "import matplotlib.pyplot as plt\n",
        "plt.style.use('seaborn-white')"
      ],
      "execution_count": 1,
      "outputs": []
    },
    {
      "cell_type": "code",
      "source": [
        "!pip install torchsummary\n",
        "from torchsummary import summary"
      ],
      "metadata": {
        "colab": {
          "base_uri": "https://localhost:8080/"
        },
        "id": "D39aCPyTu2Ce",
        "outputId": "f1cd5629-249c-4fbe-e212-f935f268169d"
      },
      "execution_count": 2,
      "outputs": [
        {
          "output_type": "stream",
          "name": "stdout",
          "text": [
            "Looking in indexes: https://pypi.org/simple, https://us-python.pkg.dev/colab-wheels/public/simple/\n",
            "Requirement already satisfied: torchsummary in /usr/local/lib/python3.8/dist-packages (1.5.1)\n"
          ]
        }
      ]
    },
    {
      "cell_type": "markdown",
      "metadata": {
        "id": "02LdHlTTSz5L"
      },
      "source": [
        "- 현재 GPU 설정"
      ]
    },
    {
      "cell_type": "code",
      "metadata": {
        "id": "Ybsjn80uSx3X",
        "colab": {
          "base_uri": "https://localhost:8080/"
        },
        "outputId": "7b3b6d6f-fa4e-421d-b7d6-016636999c55"
      },
      "source": [
        "# colab의 runtime-type을 GPU로 설정해서, True가 나오도록 한다.\n",
        "\n",
        "torch.cuda.is_available()"
      ],
      "execution_count": 3,
      "outputs": [
        {
          "output_type": "execute_result",
          "data": {
            "text/plain": [
              "True"
            ]
          },
          "metadata": {},
          "execution_count": 3
        }
      ]
    },
    {
      "cell_type": "code",
      "metadata": {
        "id": "HlPZI5wfDQhv",
        "colab": {
          "base_uri": "https://localhost:8080/"
        },
        "outputId": "8889b22c-6d1b-41ee-a292-ac6506885274"
      },
      "source": [
        "use_cuda = torch.cuda.is_available()\n",
        "device = torch.device(\"cuda\" if use_cuda else \"cpu\")\n",
        "device"
      ],
      "execution_count": 4,
      "outputs": [
        {
          "output_type": "execute_result",
          "data": {
            "text/plain": [
              "device(type='cuda')"
            ]
          },
          "metadata": {},
          "execution_count": 4
        }
      ]
    },
    {
      "cell_type": "markdown",
      "source": [
        "# FashionMNIST 분류 모델 만들기\n",
        "* 흑/백(1) 이미지 데이터 분류\n",
        "* 28x28 pixel"
      ],
      "metadata": {
        "id": "OHckdZ55KeH2"
      }
    },
    {
      "cell_type": "markdown",
      "source": [
        "## 데이터 로드"
      ],
      "metadata": {
        "id": "mCrBa-gRRMEO"
      }
    },
    {
      "cell_type": "code",
      "source": [
        "# 데이터 전처리\n",
        "\n",
        "MNIST_transform = transforms.Compose([transforms.ToTensor(), # tensor로 펴준다.\n",
        "                                      transforms.Normalize((0.5,),(0.5,))]) # 정규화를 해준다."
      ],
      "metadata": {
        "id": "vYP9dGrWzDqd"
      },
      "execution_count": 5,
      "outputs": []
    },
    {
      "cell_type": "code",
      "source": [
        "trainset = datasets.FashionMNIST(root='/content',\n",
        "                                 train=True, download=True,\n",
        "                                 transform=MNIST_transform)\n",
        "\n",
        "testset = datasets.FashionMNIST(root='/content',\n",
        "                                 train=False, download=True,\n",
        "                                 transform=MNIST_transform)"
      ],
      "metadata": {
        "id": "VpVsTevTWE5i",
        "colab": {
          "base_uri": "https://localhost:8080/",
          "height": 437,
          "referenced_widgets": [
            "1b91d797177d4256b2773661f5e11e33",
            "cb15b870e98d4d0a9df71bfcf3312a74",
            "21fb24a9666f4d2281f4bfc506461c7c",
            "bf0bc16715c8476b9568f3eb9ae5a565",
            "1ef89988ad0d4338a20e3d3c0af64d11",
            "7611e174a8404c76bd1961d32163b44d",
            "5731c827b9594be1a5d46e665aef3804",
            "d88215d899f94804a9e6888755f11a77",
            "a3e59a55a24e4e3399ad2c9c7f6dff18",
            "276d78ffe22f4dc58de3e6a61483de2e",
            "5dba05a6ad5047a0b79af905401848e7",
            "1363161621a74c89a5462bae5addcd29",
            "679740ef3fe5443ba995d8486b4b55d9",
            "b0cd5760a92542c1a8e37c13372665f4",
            "9464d7db9cc740d28c9a6a8d298973e7",
            "dd0c1d04c20f4c42aa2b90ff1313440b",
            "90cfa9a2cf3c4d40ab65ba34bb839fc5",
            "1bfb6c3eacdb4d1cb3369af61f08394b",
            "e91edf568fed456faf59cf450de0771e",
            "c86071d91b7f4e6eabfffa62bcfc1fc2",
            "93e4f8e4d0314a74b55cfa57ab8afc78",
            "a62bac43ec8f4b7fbbdb6e1344edc401",
            "7c7d3b5006844cb587c099d29b9f5501",
            "b7be708878614a52bcf1781073ab2bc8",
            "953f85ac31c247f093612c6d62a5058e",
            "c20953c79fd24f48800be51c6b8135fd",
            "5a5223557a144f11afae0233b4a1ce36",
            "7fbd210019524cdd8b18e97c29c82151",
            "eb44f5d06a9d459b82d0fe83d84ae127",
            "ee23ad3e6af54b86ae0770d1b404b561",
            "3923c04e639b42aab647da04af45ba16",
            "3461ed8a1c984decb40379fefd8b47cd",
            "77913484a2b44132a27de02bae04da7b",
            "19accea29e50422980ec399544ea0881",
            "d2138b733dc54b34aac8318ec447ede1",
            "1744fb46e3a24c23a48bb3c2f1ccac80",
            "a8868a8429c640958aa15977e44405d7",
            "67a2abbceaee4e4ab1531a5497b39fcd",
            "58d1d5166b7c4634bef894083a4d6cea",
            "a3b2101c608547bb9644c3355a749f65",
            "7da1c6092a8940179e46244293e9363f",
            "c8cb9c28b4ed44b096f16435aa98b907",
            "58a35e90b09d4ea5821363aad0802a50",
            "2ff25fc47ab04e64a9af82278198e0f0"
          ]
        },
        "outputId": "c695d1d8-8caa-49cc-a500-224570103c95"
      },
      "execution_count": 6,
      "outputs": [
        {
          "output_type": "stream",
          "name": "stdout",
          "text": [
            "Downloading http://fashion-mnist.s3-website.eu-central-1.amazonaws.com/train-images-idx3-ubyte.gz\n",
            "Downloading http://fashion-mnist.s3-website.eu-central-1.amazonaws.com/train-images-idx3-ubyte.gz to /content/FashionMNIST/raw/train-images-idx3-ubyte.gz\n"
          ]
        },
        {
          "output_type": "display_data",
          "data": {
            "text/plain": [
              "  0%|          | 0/26421880 [00:00<?, ?it/s]"
            ],
            "application/vnd.jupyter.widget-view+json": {
              "version_major": 2,
              "version_minor": 0,
              "model_id": "1b91d797177d4256b2773661f5e11e33"
            }
          },
          "metadata": {}
        },
        {
          "output_type": "stream",
          "name": "stdout",
          "text": [
            "Extracting /content/FashionMNIST/raw/train-images-idx3-ubyte.gz to /content/FashionMNIST/raw\n",
            "\n",
            "Downloading http://fashion-mnist.s3-website.eu-central-1.amazonaws.com/train-labels-idx1-ubyte.gz\n",
            "Downloading http://fashion-mnist.s3-website.eu-central-1.amazonaws.com/train-labels-idx1-ubyte.gz to /content/FashionMNIST/raw/train-labels-idx1-ubyte.gz\n"
          ]
        },
        {
          "output_type": "display_data",
          "data": {
            "text/plain": [
              "  0%|          | 0/29515 [00:00<?, ?it/s]"
            ],
            "application/vnd.jupyter.widget-view+json": {
              "version_major": 2,
              "version_minor": 0,
              "model_id": "1363161621a74c89a5462bae5addcd29"
            }
          },
          "metadata": {}
        },
        {
          "output_type": "stream",
          "name": "stdout",
          "text": [
            "Extracting /content/FashionMNIST/raw/train-labels-idx1-ubyte.gz to /content/FashionMNIST/raw\n",
            "\n",
            "Downloading http://fashion-mnist.s3-website.eu-central-1.amazonaws.com/t10k-images-idx3-ubyte.gz\n",
            "Downloading http://fashion-mnist.s3-website.eu-central-1.amazonaws.com/t10k-images-idx3-ubyte.gz to /content/FashionMNIST/raw/t10k-images-idx3-ubyte.gz\n"
          ]
        },
        {
          "output_type": "display_data",
          "data": {
            "text/plain": [
              "  0%|          | 0/4422102 [00:00<?, ?it/s]"
            ],
            "application/vnd.jupyter.widget-view+json": {
              "version_major": 2,
              "version_minor": 0,
              "model_id": "7c7d3b5006844cb587c099d29b9f5501"
            }
          },
          "metadata": {}
        },
        {
          "output_type": "stream",
          "name": "stdout",
          "text": [
            "Extracting /content/FashionMNIST/raw/t10k-images-idx3-ubyte.gz to /content/FashionMNIST/raw\n",
            "\n",
            "Downloading http://fashion-mnist.s3-website.eu-central-1.amazonaws.com/t10k-labels-idx1-ubyte.gz\n",
            "Downloading http://fashion-mnist.s3-website.eu-central-1.amazonaws.com/t10k-labels-idx1-ubyte.gz to /content/FashionMNIST/raw/t10k-labels-idx1-ubyte.gz\n"
          ]
        },
        {
          "output_type": "display_data",
          "data": {
            "text/plain": [
              "  0%|          | 0/5148 [00:00<?, ?it/s]"
            ],
            "application/vnd.jupyter.widget-view+json": {
              "version_major": 2,
              "version_minor": 0,
              "model_id": "19accea29e50422980ec399544ea0881"
            }
          },
          "metadata": {}
        },
        {
          "output_type": "stream",
          "name": "stdout",
          "text": [
            "Extracting /content/FashionMNIST/raw/t10k-labels-idx1-ubyte.gz to /content/FashionMNIST/raw\n",
            "\n"
          ]
        }
      ]
    },
    {
      "cell_type": "markdown",
      "source": [
        "input-data size 확인"
      ],
      "metadata": {
        "id": "qh7uI7ewsipv"
      }
    },
    {
      "cell_type": "code",
      "source": [
        "# batch-size=128\n",
        "train_loader128 =  DataLoader(trainset, batch_size=128, shuffle=True, num_workers=2)\n",
        "test_loader128 =  DataLoader(testset, batch_size=128, shuffle=False, num_workers=2)\n",
        "\n",
        "# batch-size=64\n",
        "train_loader64 =  DataLoader(trainset, batch_size=64, shuffle=True, num_workers=2)\n",
        "test_loader64 =  DataLoader(testset, batch_size=64, shuffle=False, num_workers=2)"
      ],
      "metadata": {
        "id": "Dz-CJf0x0nne"
      },
      "execution_count": 7,
      "outputs": []
    },
    {
      "cell_type": "code",
      "source": [
        "# 128 : batch-size\n",
        "# 1 : 흑백\n",
        "# 28x28 : pixel-size\n",
        "\n",
        "images128, labels128 = next(iter(train_loader128))\n",
        "images128.shape, labels128.shape"
      ],
      "metadata": {
        "id": "iy6D1Rg_07fD",
        "colab": {
          "base_uri": "https://localhost:8080/"
        },
        "outputId": "5a8bd51b-8ad4-4a26-f9b4-0a8166da60ab"
      },
      "execution_count": 8,
      "outputs": [
        {
          "output_type": "execute_result",
          "data": {
            "text/plain": [
              "(torch.Size([128, 1, 28, 28]), torch.Size([128]))"
            ]
          },
          "metadata": {},
          "execution_count": 8
        }
      ]
    },
    {
      "cell_type": "code",
      "source": [
        "# 64 : batch-size\n",
        "# 1 : 흑백\n",
        "# 28x28 : pixel-size\n",
        "\n",
        "images64, labels64 = next(iter(train_loader64))\n",
        "images64.shape, labels64.shape"
      ],
      "metadata": {
        "colab": {
          "base_uri": "https://localhost:8080/"
        },
        "id": "AotS6123m9sK",
        "outputId": "caab314f-f063-4072-fc25-15620a6b33fd"
      },
      "execution_count": 9,
      "outputs": [
        {
          "output_type": "execute_result",
          "data": {
            "text/plain": [
              "(torch.Size([64, 1, 28, 28]), torch.Size([64]))"
            ]
          },
          "metadata": {},
          "execution_count": 9
        }
      ]
    },
    {
      "cell_type": "code",
      "source": [
        "# 숫자 label에 해당되는 값\n",
        "\n",
        "labels_map = {\n",
        "    0: 'T-Shirt',\n",
        "    1: 'Trouser',\n",
        "    2: 'Pullover',\n",
        "    3: 'Dress',\n",
        "    4: 'Coat',\n",
        "    5: 'Sandal',\n",
        "    6: 'Shirt',\n",
        "    7: 'Sneaker',\n",
        "    8: 'Bag',\n",
        "    9: 'Ankle Boot'\n",
        "}"
      ],
      "metadata": {
        "id": "g4Nd4uLGTEDy"
      },
      "execution_count": 10,
      "outputs": []
    },
    {
      "cell_type": "code",
      "source": [
        "# 데이터 확인\n",
        "\n",
        "figure = plt.figure(figsize=(12,12))\n",
        "cols, rows = 4, 1\n",
        "\n",
        "for i in range(1, cols * rows + 1):\n",
        "    image = images128[i].squeeze()\n",
        "    label_idx = labels128[i].item() # y_label\n",
        "    label = labels_map[label_idx] # 위에서 해당되는 label\n",
        "\n",
        "    figure.add_subplot(rows, cols, i)\n",
        "    plt.title(label)\n",
        "    plt.axis('off')\n",
        "    plt.imshow(image, cmap='gray')\n",
        "\n",
        "plt.show()"
      ],
      "metadata": {
        "id": "_u5_UEAH09SB",
        "colab": {
          "base_uri": "https://localhost:8080/",
          "height": 191
        },
        "outputId": "b0dcd274-12df-4b6c-9e01-ed78fd9ccaa9"
      },
      "execution_count": 11,
      "outputs": [
        {
          "output_type": "display_data",
          "data": {
            "text/plain": [
              "<Figure size 864x864 with 4 Axes>"
            ],
            "image/png": "[encoded data removed]"
          },
          "metadata": {}
        }
      ]
    },
    {
      "cell_type": "markdown",
      "source": [
        "## 모델 1 생성\n",
        "* 10개의 convolution-layer(Conv2d)와 2개의 fully-connected(fc)로 이루어진 모델\n",
        "* Total params: 28,784"
      ],
      "metadata": {
        "id": "EFPYE3UUnpmX"
      }
    },
    {
      "cell_type": "markdown",
      "source": [
        "input-data size\n",
        "* train_loader128(batch-size;128) : 128, 1, 28, 28\n",
        "* train_loader64(batch-size;64) : 64, 1, 28, 28\n",
        "\n",
        "\n",
        "구현해야하는 모델 정보<br>\n",
        "* convolution-layer 1\n",
        "* maxpooling-layer\n",
        "* convolution-layer 2\n",
        "* convolution-layer 3\n",
        "* convolution-layer 4\n",
        "* convolution-layer 5\n",
        "* convolution-layer 6\n",
        "* convolution-layer 7\n",
        "* convolution-layer 8\n",
        "* convolution-layer 9\n",
        "* maxpooling-layer\n",
        "* convolution-layer 10\n",
        "* flatten\n",
        "* fc1\n",
        "* fc2\n",
        "\n",
        "추가 정보\n",
        "* 활성화함수 : relu\n",
        "(단, maxpooling과 마지막 fc2에는 보통적으로 활성화함수를 사용하지 않는다.)\n",
        "* flatten의 경우, weights가 들어가지 않는다. 즉, layer라고는 볼 수 없다.\n",
        "\n",
        "모델의 layer를 통과함에 따라 데이터의 크기 변화는 다음과 같다.\n",
        "1. batch-size128 -> torch.Size([128, 1, 28, 28]) 으로 시작\n",
        "2. batch-size;64 -> torch.Size([64, 1, 28, 28]) 으로 시작\n",
        "> * torch.Size([128 or 64, 5, 30, 30])\n",
        "> * torch.Size([128 or 64, 5, 15, 15])\n",
        "> * torch.Size([128 or 64, 7, 15, 15])\n",
        "> * torch.Size([128 or 64, 16, 16, 16])\n",
        "> * torch.Size([128 or 64, 19, 15, 15])\n",
        "> * torch.Size([128 or 64, 29, 13, 13])\n",
        "> * torch.Size([128 or 64, 29, 14, 14])\n",
        "> * torch.Size([128 or 64, 6, 12, 12])\n",
        "> * torch.Size([128 or 64, 2, 12, 12])\n",
        "> * torch.Size([128 or 64, 10, 7, 7])\n",
        "> * torch.Size([128 or 64, 20, 7, 7])\n",
        "> * torch.Size([128 or 64, 20, 3, 3])\n",
        "> * torch.Size([128 or 64, 180])\n",
        "> * torch.Size([128 or 64, 86])\n",
        "> * torch.Size([128 or 64, 10]) "
      ],
      "metadata": {
        "id": "orF-z9choFaB"
      }
    },
    {
      "cell_type": "code",
      "source": [
        "class CNN_Model1(nn.Module):\n",
        "    def __init__(self):\n",
        "        super(CNN_Model1, self).__init__()\n",
        "\n",
        "\n",
        "\n",
        "        self.conv1 = nn.Conv2d(in_channels=1, out_channels=5, kernel_size=3, stride=1, padding=2)\n",
        "        # in-channels = 1 <- 흑/백\n",
        "        # out-channels = 5\n",
        "        # kernel_size / filter-size = 3\n",
        "        # stride = 1(default) -> s=1\n",
        "        # padding = 2(default) -> p=2\n",
        "        # input-data pixel size = 28x28 -> n=28\n",
        "        # (n-f+2p)/s + 1 = new n\n",
        "        # (28-3+2x2)/1 + 1 = 30\n",
        "    \n",
        "        # maxpool : n=30 -> 15\n",
        "\n",
        "        self.conv2 = nn.Conv2d(in_channels=5, out_channels=7, kernel_size=3, stride=1, padding=1)\n",
        "        # in-channels = 5 <- 이전것의 out-channels\n",
        "        # out-channels = 7\n",
        "        # filter-size = 3\n",
        "        # stride = 1(default)\n",
        "        # padding = 1\n",
        "        # (n-f+2p)/s + 1 = new n    \n",
        "        # (15-3+2x1)/1 + 1 = 15\n",
        "\n",
        "        self.conv3 = nn.Conv2d(in_channels=7 , out_channels=16 , kernel_size=2 , stride=1 , padding=1 )\n",
        "        # in-channels = 7 <- 이전것의 out-channels\n",
        "        # out-channels = 16\n",
        "        # filter-size = 2\n",
        "        # stride = 1(default)\n",
        "        # padding = 1\n",
        "        # (n-f+2p)/s + 1 = new n    \n",
        "        # (15-2+2x1)/1 + 1 = 16\n",
        "\n",
        "        self.conv4 = nn.Conv2d(in_channels=16 , out_channels=19 , kernel_size=2 , stride=1 , padding=0 )\n",
        "        # in-channels = 16 <- 이전것의 out-channels\n",
        "        # out-channels = 19\n",
        "        # filter-size = 2\n",
        "        # stride = 1(default)\n",
        "        # padding = 0\n",
        "        # (n-f+2p)/s + 1 = new n    \n",
        "        # (16-2+2x0)/1 + 1 = 15\n",
        "\n",
        "        self.conv5 = nn.Conv2d(in_channels=19 , out_channels=29 , kernel_size=3 , stride=1 , padding=0 )\n",
        "        # in-channels = 19 <- 이전것의 out-channels\n",
        "        # out-channels = 29\n",
        "        # filter-size = 3\n",
        "        # stride = 1(default)\n",
        "        # padding = 0\n",
        "        # (n-f+2p)/s + 1 = new n    \n",
        "        # (15-3+2x0)/1 + 1 = 13\n",
        "\n",
        "        self.conv6 = nn.Conv2d(in_channels=29 , out_channels=29 , kernel_size=2 , stride=1 , padding=1 )\n",
        "        # in-channels = 29 <- 이전것의 out-channels\n",
        "        # out-channels = 29\n",
        "        # filter-size = 2\n",
        "        # stride = 1(default)\n",
        "        # padding = 1\n",
        "        # (n-f+2p)/s + 1 = new n    \n",
        "        # (13-2+2x1)/1 + 1 = 14\n",
        "\n",
        "        self.conv7 = nn.Conv2d(in_channels=29 , out_channels=6 , kernel_size=3 , stride=1 , padding=0 )\n",
        "        # in-channels = 29 <- 이전것의 out-channels\n",
        "        # out-channels = 6\n",
        "        # filter-size = 2\n",
        "        # stride = 1(default)\n",
        "        # padding = 1\n",
        "        # (n-f+2p)/s + 1 = new n    \n",
        "        # (14-3+2x0)/1 + 1 = 12\n",
        "\n",
        "        self.conv8 = nn.Conv2d(in_channels=6 , out_channels=2 , kernel_size=1 , stride=1 , padding=0 )\n",
        "        # in-channels = 6 <- 이전것의 out-channels\n",
        "        # out-channels = 2\n",
        "        # filter-size = 1\n",
        "        # stride = 1(default)\n",
        "        # padding = 0\n",
        "        # (n-f+2p)/s + 1 = new n    \n",
        "        # (12-1+2x0)/1 + 1 = 12\n",
        "\n",
        "        self.conv9 = nn.Conv2d(in_channels=2 , out_channels=10 , kernel_size=2 , stride=2 , padding=1 )\n",
        "        # in-channels = 2 <- 이전것의 out-channels\n",
        "        # out-channels = 10\n",
        "        # filter-size = 2\n",
        "        # stride = 2\n",
        "        # padding = 1\n",
        "        # (n-f+2p)/s + 1 = new n    \n",
        "        # (12-2+2x1)/2 + 1 = 7\n",
        "\n",
        "        self.conv10 = nn.Conv2d(in_channels=10 , out_channels=20 , kernel_size=1 , stride=1 , padding=0 )\n",
        "        # in-channels = 10 <- 이전것의 out-channels\n",
        "        # out-channels = 20\n",
        "        # filter-size = 1\n",
        "        # stride = 1\n",
        "        # padding = 1\n",
        "        # (n-f+2p)/s + 1 = new n    \n",
        "        # (3-1+2x0)/1 + 1 = 3\n",
        "\n",
        "        self.fc1 = nn.Linear(20*3*3, 86)\n",
        "        self.fc2 = nn.Linear(86, 10)\n",
        "\n",
        "    def forward(self, x):\n",
        "       \n",
        "        x = F.relu(self.conv1(x))\n",
        "        x = F.max_pool2d(x, 2)\n",
        "        x = F.relu(self.conv2(x))\n",
        "        x = F.relu(self.conv3(x))\n",
        "        x = F.relu(self.conv4(x))\n",
        "        x = F.relu(self.conv5(x))\n",
        "        x = F.relu(self.conv6(x))\n",
        "        x = F.relu(self.conv7(x))\n",
        "        x = F.relu(self.conv8(x))\n",
        "        x = F.relu(self.conv9(x))\n",
        "        x = F.max_pool2d(x, 2)\n",
        "        x = F.relu(self.conv10(x))\n",
        "\n",
        "        x = x.view(-1, self.num_flat_features(x)) # num_flat_features : 아래에서 정의\n",
        "        x = F.relu(self.fc1(x))\n",
        "        x = self.fc2(x)\n",
        "\n",
        "        return x\n",
        "    \n",
        "    def num_flat_features(self, x): # 처음 dim-size을 제외하고, 모두 곱한 값을 반환해준다.\n",
        "        size = x.size()[1:]\n",
        "        num_features = 1\n",
        "        for s in size:\n",
        "            num_features *= s\n",
        "        \n",
        "        return num_features"
      ],
      "metadata": {
        "id": "EedVZU7Knv0X"
      },
      "execution_count": 12,
      "outputs": []
    },
    {
      "cell_type": "code",
      "source": [
        "# 모델객체 생성\n",
        "DeepConv_net128 = CNN_Model1().to(device)\n",
        "DeepConv_net64 = CNN_Model1().to(device)\n",
        "\n",
        "print(DeepConv_net128)"
      ],
      "metadata": {
        "colab": {
          "base_uri": "https://localhost:8080/"
        },
        "id": "RiMZ7sX6oDn3",
        "outputId": "17183f31-d958-4d8c-b99e-5a38b0348c72"
      },
      "execution_count": 13,
      "outputs": [
        {
          "output_type": "stream",
          "name": "stdout",
          "text": [
            "CNN_Model1(\n",
            "  (conv1): Conv2d(1, 5, kernel_size=(3, 3), stride=(1, 1), padding=(2, 2))\n",
            "  (conv2): Conv2d(5, 7, kernel_size=(3, 3), stride=(1, 1), padding=(1, 1))\n",
            "  (conv3): Conv2d(7, 16, kernel_size=(2, 2), stride=(1, 1), padding=(1, 1))\n",
            "  (conv4): Conv2d(16, 19, kernel_size=(2, 2), stride=(1, 1))\n",
            "  (conv5): Conv2d(19, 29, kernel_size=(3, 3), stride=(1, 1))\n",
            "  (conv6): Conv2d(29, 29, kernel_size=(2, 2), stride=(1, 1), padding=(1, 1))\n",
            "  (conv7): Conv2d(29, 6, kernel_size=(3, 3), stride=(1, 1))\n",
            "  (conv8): Conv2d(6, 2, kernel_size=(1, 1), stride=(1, 1))\n",
            "  (conv9): Conv2d(2, 10, kernel_size=(2, 2), stride=(2, 2), padding=(1, 1))\n",
            "  (conv10): Conv2d(10, 20, kernel_size=(1, 1), stride=(1, 1))\n",
            "  (fc1): Linear(in_features=180, out_features=86, bias=True)\n",
            "  (fc2): Linear(in_features=86, out_features=10, bias=True)\n",
            ")\n"
          ]
        }
      ]
    },
    {
      "cell_type": "code",
      "source": [
        "input = images128.to(device)\n",
        "input.size()"
      ],
      "metadata": {
        "colab": {
          "base_uri": "https://localhost:8080/"
        },
        "id": "8gBjDmoc7fJh",
        "outputId": "912c0684-866d-499f-e8ca-37865ed0db9f"
      },
      "execution_count": 14,
      "outputs": [
        {
          "output_type": "execute_result",
          "data": {
            "text/plain": [
              "torch.Size([128, 1, 28, 28])"
            ]
          },
          "metadata": {},
          "execution_count": 14
        }
      ]
    },
    {
      "cell_type": "code",
      "source": [
        "output = DeepConv_net128.forward(input)\n",
        "output.size()"
      ],
      "metadata": {
        "colab": {
          "base_uri": "https://localhost:8080/"
        },
        "id": "tflPlTme7h9x",
        "outputId": "6225e497-13a1-4eec-e0a7-8327938d38cb"
      },
      "execution_count": 15,
      "outputs": [
        {
          "output_type": "execute_result",
          "data": {
            "text/plain": [
              "torch.Size([128, 10])"
            ]
          },
          "metadata": {},
          "execution_count": 15
        }
      ]
    },
    {
      "cell_type": "code",
      "source": [
        "summary(DeepConv_net128, input_size=(1, 28, 28), batch_size=128)"
      ],
      "metadata": {
        "colab": {
          "base_uri": "https://localhost:8080/"
        },
        "id": "DSH3qCADujAi",
        "outputId": "57c7f580-14b7-4800-b82a-b1912e88515c"
      },
      "execution_count": 16,
      "outputs": [
        {
          "output_type": "stream",
          "name": "stdout",
          "text": [
            "----------------------------------------------------------------\n",
            "        Layer (type)               Output Shape         Param #\n",
            "================================================================\n",
            "            Conv2d-1           [128, 5, 30, 30]              50\n",
            "            Conv2d-2           [128, 7, 15, 15]             322\n",
            "            Conv2d-3          [128, 16, 16, 16]             464\n",
            "            Conv2d-4          [128, 19, 15, 15]           1,235\n",
            "            Conv2d-5          [128, 29, 13, 13]           4,988\n",
            "            Conv2d-6          [128, 29, 14, 14]           3,393\n",
            "            Conv2d-7           [128, 6, 12, 12]           1,572\n",
            "            Conv2d-8           [128, 2, 12, 12]              14\n",
            "            Conv2d-9            [128, 10, 7, 7]              90\n",
            "           Conv2d-10            [128, 20, 3, 3]             220\n",
            "           Linear-11                  [128, 86]          15,566\n",
            "           Linear-12                  [128, 10]             870\n",
            "================================================================\n",
            "Total params: 28,784\n",
            "Trainable params: 28,784\n",
            "Non-trainable params: 0\n",
            "----------------------------------------------------------------\n",
            "Input size (MB): 0.38\n",
            "Forward/backward pass size (MB): 26.32\n",
            "Params size (MB): 0.11\n",
            "Estimated Total Size (MB): 26.81\n",
            "----------------------------------------------------------------\n"
          ]
        }
      ]
    },
    {
      "cell_type": "code",
      "source": [
        "input = images64.to(device)\n",
        "input.size()"
      ],
      "metadata": {
        "colab": {
          "base_uri": "https://localhost:8080/"
        },
        "outputId": "6f7c10f1-dc8a-4671-d0ca-1ba99e55b706",
        "id": "jcybKk5Nvj4Z"
      },
      "execution_count": 17,
      "outputs": [
        {
          "output_type": "execute_result",
          "data": {
            "text/plain": [
              "torch.Size([64, 1, 28, 28])"
            ]
          },
          "metadata": {},
          "execution_count": 17
        }
      ]
    },
    {
      "cell_type": "code",
      "source": [
        "output = DeepConv_net64.forward(input)\n",
        "output.size()"
      ],
      "metadata": {
        "colab": {
          "base_uri": "https://localhost:8080/"
        },
        "outputId": "26e609e0-c38d-407d-ebb6-5b99aee8c849",
        "id": "y2PZCHyyvj4a"
      },
      "execution_count": 18,
      "outputs": [
        {
          "output_type": "execute_result",
          "data": {
            "text/plain": [
              "torch.Size([64, 10])"
            ]
          },
          "metadata": {},
          "execution_count": 18
        }
      ]
    },
    {
      "cell_type": "code",
      "source": [
        "summary(DeepConv_net64, input_size=(1, 28, 28), batch_size=64)"
      ],
      "metadata": {
        "colab": {
          "base_uri": "https://localhost:8080/"
        },
        "id": "uh1pmRXcvZP8",
        "outputId": "fcefb682-659b-43cd-8ae6-57e41cad5cf5"
      },
      "execution_count": 19,
      "outputs": [
        {
          "output_type": "stream",
          "name": "stdout",
          "text": [
            "----------------------------------------------------------------\n",
            "        Layer (type)               Output Shape         Param #\n",
            "================================================================\n",
            "            Conv2d-1            [64, 5, 30, 30]              50\n",
            "            Conv2d-2            [64, 7, 15, 15]             322\n",
            "            Conv2d-3           [64, 16, 16, 16]             464\n",
            "            Conv2d-4           [64, 19, 15, 15]           1,235\n",
            "            Conv2d-5           [64, 29, 13, 13]           4,988\n",
            "            Conv2d-6           [64, 29, 14, 14]           3,393\n",
            "            Conv2d-7            [64, 6, 12, 12]           1,572\n",
            "            Conv2d-8            [64, 2, 12, 12]              14\n",
            "            Conv2d-9             [64, 10, 7, 7]              90\n",
            "           Conv2d-10             [64, 20, 3, 3]             220\n",
            "           Linear-11                   [64, 86]          15,566\n",
            "           Linear-12                   [64, 10]             870\n",
            "================================================================\n",
            "Total params: 28,784\n",
            "Trainable params: 28,784\n",
            "Non-trainable params: 0\n",
            "----------------------------------------------------------------\n",
            "Input size (MB): 0.19\n",
            "Forward/backward pass size (MB): 13.16\n",
            "Params size (MB): 0.11\n",
            "Estimated Total Size (MB): 13.46\n",
            "----------------------------------------------------------------\n"
          ]
        }
      ]
    },
    {
      "cell_type": "markdown",
      "source": [
        "## 모델 2 생성\n",
        "* 2개의 convolution-layer(Conv2d)와 5개의 fully-connected(fc)로 이루어진 모델\n",
        "* Total params: 9,516,488"
      ],
      "metadata": {
        "id": "xVxKI_rwCvhI"
      }
    },
    {
      "cell_type": "markdown",
      "source": [
        "input-data size\n",
        "* train_loader128(batch-size;128) : 128, 1, 28, 28\n",
        "* train_loader64(batch-size;64) : 64, 1, 28, 28\n",
        "\n",
        "\n",
        "구현해야하는 모델 정보<br>\n",
        "* convolution-layer 1\n",
        "* maxpooling-layer\n",
        "* convolution-layer 2\n",
        "* flatten\n",
        "* fc1\n",
        "* fc2\n",
        "* fc3\n",
        "* fc4\n",
        "* fc5\n",
        "\n",
        "추가 정보\n",
        "* 활성화함수 : relu\n",
        "(단, maxpooling과 마지막 fc5에는 보통적으로 활성화함수를 사용하지 않는다.)\n",
        "* flatten의 경우, weights가 들어가지 않는다. 즉, layer라고는 볼 수 없다.\n",
        "\n",
        "모델의 layer를 통과함에 따라 데이터의 크기 변화는 다음과 같다.\n",
        "\n",
        "1. batch-size128 -> torch.Size([128, 1, 28, 28]) 으로 시작\n",
        "2. batch-size;64 -> torch.Size([64, 1, 28, 28]) 으로 시작\n",
        "> * torch.Size([128 or 64, 5, 30, 30])\n",
        "> * torch.Size([128 or 64, 5, 15, 15])\n",
        "> * torch.Size([128 or 64, 7, 15, 15])\n",
        "> * torch.Size([128 or 64, 1575])\n",
        "> * torch.Size([128 or 64, 3000])\n",
        "> * torch.Size([128 or 64, 1500])\n",
        "> * torch.Size([128 or 64, 180])\n",
        "> * torch.Size([128 or 64, 86])\n",
        "> * torch.Size([128 or 64, 10])"
      ],
      "metadata": {
        "id": "uN5s0Re-CvhI"
      }
    },
    {
      "cell_type": "code",
      "source": [
        "class CNN_Model2(nn.Module):\n",
        "    def __init__(self):\n",
        "        super(CNN_Model2, self).__init__()\n",
        "\n",
        "        self.conv1 = nn.Conv2d(in_channels=1, out_channels=5, kernel_size=3, stride=1, padding=2)\n",
        "        # in-channels = 1 <- 이전것의 out-channels\n",
        "        # out-channels = 5\n",
        "        # filter-size = 3\n",
        "        # stride = 1\n",
        "        # padding = 2\n",
        "        # (n-f+2p)/s + 1 = new n    \n",
        "        # (28-3+2x2)/1 + 1 = 30\n",
        "\n",
        "        self.conv2 = nn.Conv2d(in_channels=5, out_channels=7, kernel_size=3, stride=1, padding=1)\n",
        "        # in-channels = 5 <- 이전것의 out-channels\n",
        "        # out-channels = 7\n",
        "        # filter-size = 3\n",
        "        # stride = 1\n",
        "        # padding = 1\n",
        "        # (n-f+2p)/s + 1 = new n    \n",
        "        # (15-3+2x1)/1 + 1 = 15\n",
        "\n",
        "        self.fc1 = nn.Linear(7*15*15, 3000)\n",
        "        self.fc2 = nn.Linear(3000, 1500)\n",
        "        self.fc3 = nn.Linear(1500, 180)\n",
        "        self.fc4 = nn.Linear(180, 86)\n",
        "        self.fc5 = nn.Linear(86, 10)\n",
        "\n",
        "    def forward(self, x):\n",
        "        x = F.relu(self.conv1(x))\n",
        "        x = F.max_pool2d(x, 2)\n",
        "        x = F.relu(self.conv2(x))\n",
        "\n",
        "        x = x.view(-1, self.num_flat_features(x))\n",
        "\n",
        "        x = F.relu(self.fc1(x))\n",
        "        x = F.relu(self.fc2(x))\n",
        "        x = F.relu(self.fc3(x))\n",
        "        x = F.relu(self.fc4(x))\n",
        "        x = self.fc5(x)\n",
        "        return x\n",
        "    \n",
        "    def num_flat_features(self, x): # 처음 dim-size을 제외하고, 모두 곱한 값을 반환해준다.\n",
        "        size = x.size()[1:]\n",
        "        num_features = 1\n",
        "        for s in size:\n",
        "            num_features *= s\n",
        "        \n",
        "        return num_features"
      ],
      "metadata": {
        "id": "JfSM-k0DCvhI"
      },
      "execution_count": 20,
      "outputs": []
    },
    {
      "cell_type": "code",
      "source": [
        "# 모델객체 생성\n",
        "DeepFC_net128 = CNN_Model2().to(device)\n",
        "DeepFC_net64 = CNN_Model2().to(device)\n",
        "\n",
        "print(DeepFC_net128)"
      ],
      "metadata": {
        "colab": {
          "base_uri": "https://localhost:8080/"
        },
        "outputId": "0819364b-95c9-40bc-ba60-1dfd30fb3891",
        "id": "QQ_AnPi5CvhI"
      },
      "execution_count": 21,
      "outputs": [
        {
          "output_type": "stream",
          "name": "stdout",
          "text": [
            "CNN_Model2(\n",
            "  (conv1): Conv2d(1, 5, kernel_size=(3, 3), stride=(1, 1), padding=(2, 2))\n",
            "  (conv2): Conv2d(5, 7, kernel_size=(3, 3), stride=(1, 1), padding=(1, 1))\n",
            "  (fc1): Linear(in_features=1575, out_features=3000, bias=True)\n",
            "  (fc2): Linear(in_features=3000, out_features=1500, bias=True)\n",
            "  (fc3): Linear(in_features=1500, out_features=180, bias=True)\n",
            "  (fc4): Linear(in_features=180, out_features=86, bias=True)\n",
            "  (fc5): Linear(in_features=86, out_features=10, bias=True)\n",
            ")\n"
          ]
        }
      ]
    },
    {
      "cell_type": "code",
      "source": [
        "input = images128.to(device)\n",
        "input.size()"
      ],
      "metadata": {
        "colab": {
          "base_uri": "https://localhost:8080/"
        },
        "outputId": "d6941c2d-68e9-4ed1-f91c-f674999ab744",
        "id": "S9IVOG3pwgoS"
      },
      "execution_count": 22,
      "outputs": [
        {
          "output_type": "execute_result",
          "data": {
            "text/plain": [
              "torch.Size([128, 1, 28, 28])"
            ]
          },
          "metadata": {},
          "execution_count": 22
        }
      ]
    },
    {
      "cell_type": "code",
      "source": [
        "output = DeepFC_net128.forward(input)\n",
        "output.size()"
      ],
      "metadata": {
        "colab": {
          "base_uri": "https://localhost:8080/"
        },
        "outputId": "74d5821b-9896-4d06-e3d2-1ca618038aaf",
        "id": "p4ydm5qCwgoT"
      },
      "execution_count": 23,
      "outputs": [
        {
          "output_type": "execute_result",
          "data": {
            "text/plain": [
              "torch.Size([128, 10])"
            ]
          },
          "metadata": {},
          "execution_count": 23
        }
      ]
    },
    {
      "cell_type": "code",
      "source": [
        "summary(DeepFC_net128, input_size=(1, 28, 28), batch_size=128)"
      ],
      "metadata": {
        "colab": {
          "base_uri": "https://localhost:8080/"
        },
        "outputId": "da1815bc-ae02-47d8-9e7f-39a02e3ab45c",
        "id": "Q3uN6Dw6wgoT"
      },
      "execution_count": 24,
      "outputs": [
        {
          "output_type": "stream",
          "name": "stdout",
          "text": [
            "----------------------------------------------------------------\n",
            "        Layer (type)               Output Shape         Param #\n",
            "================================================================\n",
            "            Conv2d-1           [128, 5, 30, 30]              50\n",
            "            Conv2d-2           [128, 7, 15, 15]             322\n",
            "            Linear-3                [128, 3000]       4,728,000\n",
            "            Linear-4                [128, 1500]       4,501,500\n",
            "            Linear-5                 [128, 180]         270,180\n",
            "            Linear-6                  [128, 86]          15,566\n",
            "            Linear-7                  [128, 10]             870\n",
            "================================================================\n",
            "Total params: 9,516,488\n",
            "Trainable params: 9,516,488\n",
            "Non-trainable params: 0\n",
            "----------------------------------------------------------------\n",
            "Input size (MB): 0.38\n",
            "Forward/backward pass size (MB): 10.60\n",
            "Params size (MB): 36.30\n",
            "Estimated Total Size (MB): 47.28\n",
            "----------------------------------------------------------------\n"
          ]
        }
      ]
    },
    {
      "cell_type": "code",
      "source": [
        "input = images64.to(device)\n",
        "input.size()"
      ],
      "metadata": {
        "colab": {
          "base_uri": "https://localhost:8080/"
        },
        "outputId": "6519e687-2b48-4161-b2a0-b11fd597c7fe",
        "id": "d9t36x7bwgoT"
      },
      "execution_count": 25,
      "outputs": [
        {
          "output_type": "execute_result",
          "data": {
            "text/plain": [
              "torch.Size([64, 1, 28, 28])"
            ]
          },
          "metadata": {},
          "execution_count": 25
        }
      ]
    },
    {
      "cell_type": "code",
      "source": [
        "output = DeepFC_net64.forward(input)\n",
        "output.size()"
      ],
      "metadata": {
        "colab": {
          "base_uri": "https://localhost:8080/"
        },
        "outputId": "5ed6f34a-9f1f-44e7-d3ae-e1213ec45d8f",
        "id": "GFHweMakwgoT"
      },
      "execution_count": 26,
      "outputs": [
        {
          "output_type": "execute_result",
          "data": {
            "text/plain": [
              "torch.Size([64, 10])"
            ]
          },
          "metadata": {},
          "execution_count": 26
        }
      ]
    },
    {
      "cell_type": "code",
      "source": [
        "summary(DeepFC_net64, input_size=(1, 28, 28), batch_size=64)"
      ],
      "metadata": {
        "colab": {
          "base_uri": "https://localhost:8080/"
        },
        "outputId": "68446fa5-ca1b-441a-e5f8-0de8911b4b82",
        "id": "2VIZ4WCCwgoT"
      },
      "execution_count": 27,
      "outputs": [
        {
          "output_type": "stream",
          "name": "stdout",
          "text": [
            "----------------------------------------------------------------\n",
            "        Layer (type)               Output Shape         Param #\n",
            "================================================================\n",
            "            Conv2d-1            [64, 5, 30, 30]              50\n",
            "            Conv2d-2            [64, 7, 15, 15]             322\n",
            "            Linear-3                 [64, 3000]       4,728,000\n",
            "            Linear-4                 [64, 1500]       4,501,500\n",
            "            Linear-5                  [64, 180]         270,180\n",
            "            Linear-6                   [64, 86]          15,566\n",
            "            Linear-7                   [64, 10]             870\n",
            "================================================================\n",
            "Total params: 9,516,488\n",
            "Trainable params: 9,516,488\n",
            "Non-trainable params: 0\n",
            "----------------------------------------------------------------\n",
            "Input size (MB): 0.19\n",
            "Forward/backward pass size (MB): 5.30\n",
            "Params size (MB): 36.30\n",
            "Estimated Total Size (MB): 41.79\n",
            "----------------------------------------------------------------\n"
          ]
        }
      ]
    },
    {
      "cell_type": "markdown",
      "source": [
        "## 손실함수와 옵티마이저"
      ],
      "metadata": {
        "id": "klpXGc2tCimP"
      }
    },
    {
      "cell_type": "code",
      "source": [
        "criterion = nn.CrossEntropyLoss()\n",
        "\n",
        "optimizerDC_128 = optim.SGD(DeepConv_net128.parameters(), lr=0.001, momentum=0.9)\n",
        "optimizerDC_64 = optim.SGD(DeepConv_net64.parameters(), lr=0.001, momentum=0.9)\n",
        "optimizerFC_128 = optim.SGD(DeepFC_net128.parameters(), lr=0.001, momentum=0.9)\n",
        "optimizerFC_64 = optim.SGD(DeepFC_net64.parameters(), lr=0.001, momentum=0.9)"
      ],
      "metadata": {
        "id": "69AHX-ZXClOm"
      },
      "execution_count": 28,
      "outputs": []
    },
    {
      "cell_type": "markdown",
      "source": [
        "## 모델 학습"
      ],
      "metadata": {
        "id": "huNh3EnhJLyh"
      }
    },
    {
      "cell_type": "markdown",
      "source": [
        "### 1. DeepConv_net128\n",
        "* 10개의 Convolution-layer & 2개의 fc-layer\n",
        "* 128 batch-size"
      ],
      "metadata": {
        "id": "W-2Q7c6-JW9z"
      }
    },
    {
      "cell_type": "code",
      "source": [
        "for epoch in range(10):\n",
        "\n",
        "    running_loss = 0.0\n",
        "\n",
        "    for i, data in enumerate(train_loader128, start=0):\n",
        "        inputs, labels = data[0].to(device), data[1].to(device)\n",
        "\n",
        "        optimizerDC_128.zero_grad() # epoch마다 gradient 0으로 초기화\n",
        "\n",
        "        outputs = DeepConv_net128(inputs) # y_pred = f(X)\n",
        "        loss = criterion(outputs, labels) # CrossEntropyLoss; 0~1 사이값\n",
        "        loss.backward() # back-propagation; gradient 계산\n",
        "        optimizerDC_128.step() # parameters(weights) update\n",
        "\n",
        "        running_loss += loss.item() # 그냥 전체적인 비교를 위해 누적함\n",
        "\n",
        "        if i % 100 == 99: # 100번 마다 확인; epoch=10, iter(=i)=469, batch=128\n",
        "            print('Epoch: {}, Iter: {}, Loss: {}'.format(epoch+1, i+1, running_loss/2000))\n",
        "            running_loss = 0.0"
      ],
      "metadata": {
        "colab": {
          "base_uri": "https://localhost:8080/"
        },
        "id": "y-_UvdNWJR-r",
        "outputId": "049c172e-1094-4ac7-c1ac-456a72548dd7"
      },
      "execution_count": 29,
      "outputs": [
        {
          "output_type": "stream",
          "name": "stdout",
          "text": [
            "Epoch: 1, Iter: 100, Loss: 0.11520281863212585\n",
            "Epoch: 1, Iter: 200, Loss: 0.11519041347503663\n",
            "Epoch: 1, Iter: 300, Loss: 0.11515073406696319\n",
            "Epoch: 1, Iter: 400, Loss: 0.11517001152038574\n",
            "Epoch: 2, Iter: 100, Loss: 0.11513290393352509\n",
            "Epoch: 2, Iter: 200, Loss: 0.11513956928253175\n",
            "Epoch: 2, Iter: 300, Loss: 0.11514781177043915\n",
            "Epoch: 2, Iter: 400, Loss: 0.11513757169246673\n",
            "Epoch: 3, Iter: 100, Loss: 0.11513216662406921\n",
            "Epoch: 3, Iter: 200, Loss: 0.11513315415382386\n",
            "Epoch: 3, Iter: 300, Loss: 0.11513636374473572\n",
            "Epoch: 3, Iter: 400, Loss: 0.11513128888607026\n",
            "Epoch: 4, Iter: 100, Loss: 0.115131316781044\n",
            "Epoch: 4, Iter: 200, Loss: 0.1151322649717331\n",
            "Epoch: 4, Iter: 300, Loss: 0.11513239705562592\n",
            "Epoch: 4, Iter: 400, Loss: 0.11513111710548402\n",
            "Epoch: 5, Iter: 100, Loss: 0.11512900197505951\n",
            "Epoch: 5, Iter: 200, Loss: 0.11513113200664521\n",
            "Epoch: 5, Iter: 300, Loss: 0.11513384687900544\n",
            "Epoch: 5, Iter: 400, Loss: 0.1151341792345047\n",
            "Epoch: 6, Iter: 100, Loss: 0.11513113951683045\n",
            "Epoch: 6, Iter: 200, Loss: 0.1151299467086792\n",
            "Epoch: 6, Iter: 300, Loss: 0.11513310515880584\n",
            "Epoch: 6, Iter: 400, Loss: 0.1151323457956314\n",
            "Epoch: 7, Iter: 100, Loss: 0.11513050246238708\n",
            "Epoch: 7, Iter: 200, Loss: 0.11513056254386902\n",
            "Epoch: 7, Iter: 300, Loss: 0.11513351905345917\n",
            "Epoch: 7, Iter: 400, Loss: 0.11513251066207886\n",
            "Epoch: 8, Iter: 100, Loss: 0.1151278338432312\n",
            "Epoch: 8, Iter: 200, Loss: 0.11513354015350342\n",
            "Epoch: 8, Iter: 300, Loss: 0.11513304710388184\n",
            "Epoch: 8, Iter: 400, Loss: 0.11513395297527314\n",
            "Epoch: 9, Iter: 100, Loss: 0.11512869000434875\n",
            "Epoch: 9, Iter: 200, Loss: 0.11513354825973511\n",
            "Epoch: 9, Iter: 300, Loss: 0.11513167107105256\n",
            "Epoch: 9, Iter: 400, Loss: 0.11513402438163757\n",
            "Epoch: 10, Iter: 100, Loss: 0.1151303517818451\n",
            "Epoch: 10, Iter: 200, Loss: 0.11513177180290222\n",
            "Epoch: 10, Iter: 300, Loss: 0.11513177633285522\n",
            "Epoch: 10, Iter: 400, Loss: 0.1151328763961792\n"
          ]
        }
      ]
    },
    {
      "cell_type": "code",
      "source": [
        "for epoch in range(5):\n",
        "\n",
        "    running_loss = 0.0\n",
        "\n",
        "    for i, data in enumerate(train_loader128, start=0):\n",
        "        inputs, labels = data[0].to(device), data[1].to(device)\n",
        "\n",
        "        optimizerDC_128.zero_grad() # epoch마다 gradient 0으로 초기화\n",
        "\n",
        "        outputs = DeepConv_net128(inputs) # y_pred = f(X)\n",
        "        loss = criterion(outputs, labels) # CrossEntropyLoss; 0~1 사이값\n",
        "        loss.backward() # back-propagation; gradient 계산\n",
        "        optimizerDC_128.step() # parameters(weights) update\n",
        "\n",
        "        running_loss += loss.item() # 그냥 전체적인 비교를 위해 누적함\n",
        "\n",
        "        if i % 100 == 99: # 100번 마다 확인; epoch=10, iter(=i)=469, batch=128\n",
        "            print('Epoch: {}, Iter: {}, Loss: {}'.format(epoch+1, i+1, running_loss/2000))\n",
        "            running_loss = 0.0"
      ],
      "metadata": {
        "colab": {
          "base_uri": "https://localhost:8080/"
        },
        "id": "dNa8-7SC5u2a",
        "outputId": "f254d204-eebb-4d79-fccd-11b1157d0e33"
      },
      "execution_count": 30,
      "outputs": [
        {
          "output_type": "stream",
          "name": "stdout",
          "text": [
            "Epoch: 1, Iter: 100, Loss: 0.11513115751743316\n",
            "Epoch: 1, Iter: 200, Loss: 0.1151303653717041\n",
            "Epoch: 1, Iter: 300, Loss: 0.11512918305397034\n",
            "Epoch: 1, Iter: 400, Loss: 0.11513624250888825\n",
            "Epoch: 2, Iter: 100, Loss: 0.11512876045703888\n",
            "Epoch: 2, Iter: 200, Loss: 0.1151336487531662\n",
            "Epoch: 2, Iter: 300, Loss: 0.11513119339942932\n",
            "Epoch: 2, Iter: 400, Loss: 0.11513208019733429\n",
            "Epoch: 3, Iter: 100, Loss: 0.11512986540794373\n",
            "Epoch: 3, Iter: 200, Loss: 0.11513273859024048\n",
            "Epoch: 3, Iter: 300, Loss: 0.11513150179386139\n",
            "Epoch: 3, Iter: 400, Loss: 0.11513327860832215\n",
            "Epoch: 4, Iter: 100, Loss: 0.11512929058074951\n",
            "Epoch: 4, Iter: 200, Loss: 0.1151312953233719\n",
            "Epoch: 4, Iter: 300, Loss: 0.11513250064849853\n",
            "Epoch: 4, Iter: 400, Loss: 0.11513308918476105\n",
            "Epoch: 5, Iter: 100, Loss: 0.11512709867954254\n",
            "Epoch: 5, Iter: 200, Loss: 0.11513037538528442\n",
            "Epoch: 5, Iter: 300, Loss: 0.11513643741607665\n",
            "Epoch: 5, Iter: 400, Loss: 0.11513267266750336\n"
          ]
        }
      ]
    },
    {
      "cell_type": "markdown",
      "source": [
        "### 2. DeepConv_net64\n",
        "* 10개의 Convolution-layer & 2개의 fc-layer\n",
        "* 64 batch-size"
      ],
      "metadata": {
        "id": "FOUBE2UfKS6D"
      }
    },
    {
      "cell_type": "code",
      "source": [
        "for epoch in range(10):\n",
        "\n",
        "    running_loss = 0.0\n",
        "\n",
        "    for i, data in enumerate(train_loader64, start=0):\n",
        "        inputs, labels = data[0].to(device), data[1].to(device)\n",
        "\n",
        "        optimizerDC_64.zero_grad() # epoch마다 gradient 0으로 초기화\n",
        "\n",
        "        outputs = DeepConv_net64(inputs) # y_pred = f(X)\n",
        "        loss = criterion(outputs, labels) # CrossEntropyLoss; 0~1 사이값\n",
        "        loss.backward() # back-propagation; gradient 계산\n",
        "        optimizerDC_64.step() # parameters(weights) update\n",
        "\n",
        "        running_loss += loss.item() # 그냥 전체적인 비교를 위해 누적함\n",
        "\n",
        "        if i % 100 == 99: # 100번 마다 확인; epoch=10, iter(=i)=469, batch=64\n",
        "            print('Epoch: {}, Iter: {}, Loss: {}'.format(epoch+1, i+1, running_loss/2000))\n",
        "            running_loss = 0.0"
      ],
      "metadata": {
        "colab": {
          "base_uri": "https://localhost:8080/"
        },
        "id": "Q1znQlsWKS6D",
        "outputId": "53758cf0-553c-40a3-9e72-820184c7e3e9"
      },
      "execution_count": 31,
      "outputs": [
        {
          "output_type": "stream",
          "name": "stdout",
          "text": [
            "Epoch: 1, Iter: 100, Loss: 0.11542037642002105\n",
            "Epoch: 1, Iter: 200, Loss: 0.11520443856716156\n",
            "Epoch: 1, Iter: 300, Loss: 0.11517099273204803\n",
            "Epoch: 1, Iter: 400, Loss: 0.11514164268970489\n",
            "Epoch: 1, Iter: 500, Loss: 0.1151565660238266\n",
            "Epoch: 1, Iter: 600, Loss: 0.11515077495574952\n",
            "Epoch: 1, Iter: 700, Loss: 0.11514544224739075\n",
            "Epoch: 1, Iter: 800, Loss: 0.11513743424415589\n",
            "Epoch: 1, Iter: 900, Loss: 0.11513934838771821\n",
            "Epoch: 2, Iter: 100, Loss: 0.11512824404239655\n",
            "Epoch: 2, Iter: 200, Loss: 0.11512892162799836\n",
            "Epoch: 2, Iter: 300, Loss: 0.11514721703529358\n",
            "Epoch: 2, Iter: 400, Loss: 0.11512371277809143\n",
            "Epoch: 2, Iter: 500, Loss: 0.11513759791851044\n",
            "Epoch: 2, Iter: 600, Loss: 0.11514597964286805\n",
            "Epoch: 2, Iter: 700, Loss: 0.11514508736133576\n",
            "Epoch: 2, Iter: 800, Loss: 0.11513512933254241\n",
            "Epoch: 2, Iter: 900, Loss: 0.11514017105102539\n",
            "Epoch: 3, Iter: 100, Loss: 0.11513154065608978\n",
            "Epoch: 3, Iter: 200, Loss: 0.11512532138824463\n",
            "Epoch: 3, Iter: 300, Loss: 0.11513815653324128\n",
            "Epoch: 3, Iter: 400, Loss: 0.11513600409030915\n",
            "Epoch: 3, Iter: 500, Loss: 0.11513893043994904\n",
            "Epoch: 3, Iter: 600, Loss: 0.11514238345623017\n",
            "Epoch: 3, Iter: 700, Loss: 0.11513543701171874\n",
            "Epoch: 3, Iter: 800, Loss: 0.1151366513967514\n",
            "Epoch: 3, Iter: 900, Loss: 0.11513713145256042\n",
            "Epoch: 4, Iter: 100, Loss: 0.1151310772895813\n",
            "Epoch: 4, Iter: 200, Loss: 0.1151351191997528\n",
            "Epoch: 4, Iter: 300, Loss: 0.11514075112342835\n",
            "Epoch: 4, Iter: 400, Loss: 0.11513267600536346\n",
            "Epoch: 4, Iter: 500, Loss: 0.11513731336593627\n",
            "Epoch: 4, Iter: 600, Loss: 0.11513593339920045\n",
            "Epoch: 4, Iter: 700, Loss: 0.11513318848609924\n",
            "Epoch: 4, Iter: 800, Loss: 0.11513751661777497\n",
            "Epoch: 4, Iter: 900, Loss: 0.11514056730270386\n",
            "Epoch: 5, Iter: 100, Loss: 0.11512370157241822\n",
            "Epoch: 5, Iter: 200, Loss: 0.11512867438793183\n",
            "Epoch: 5, Iter: 300, Loss: 0.11513286972045898\n",
            "Epoch: 5, Iter: 400, Loss: 0.11514598596096039\n",
            "Epoch: 5, Iter: 500, Loss: 0.11513665473461152\n",
            "Epoch: 5, Iter: 600, Loss: 0.11513672494888305\n",
            "Epoch: 5, Iter: 700, Loss: 0.11514007532596589\n",
            "Epoch: 5, Iter: 800, Loss: 0.11513276529312134\n",
            "Epoch: 5, Iter: 900, Loss: 0.11513754606246948\n",
            "Epoch: 6, Iter: 100, Loss: 0.11513399696350098\n",
            "Epoch: 6, Iter: 200, Loss: 0.11513465797901154\n",
            "Epoch: 6, Iter: 300, Loss: 0.11513657760620118\n",
            "Epoch: 6, Iter: 400, Loss: 0.1151251437664032\n",
            "Epoch: 6, Iter: 500, Loss: 0.11514788794517516\n",
            "Epoch: 6, Iter: 600, Loss: 0.11513629150390625\n",
            "Epoch: 6, Iter: 700, Loss: 0.11512539553642273\n",
            "Epoch: 6, Iter: 800, Loss: 0.11514482462406159\n",
            "Epoch: 6, Iter: 900, Loss: 0.11513605749607086\n",
            "Epoch: 7, Iter: 100, Loss: 0.1151333029270172\n",
            "Epoch: 7, Iter: 200, Loss: 0.11513029861450196\n",
            "Epoch: 7, Iter: 300, Loss: 0.11512694752216339\n",
            "Epoch: 7, Iter: 400, Loss: 0.11514361131191253\n",
            "Epoch: 7, Iter: 500, Loss: 0.11513877725601196\n",
            "Epoch: 7, Iter: 600, Loss: 0.11513725173473358\n",
            "Epoch: 7, Iter: 700, Loss: 0.11513815581798553\n",
            "Epoch: 7, Iter: 800, Loss: 0.1151411828994751\n",
            "Epoch: 7, Iter: 900, Loss: 0.11512964355945587\n",
            "Epoch: 8, Iter: 100, Loss: 0.11512631380558014\n",
            "Epoch: 8, Iter: 200, Loss: 0.11513367867469787\n",
            "Epoch: 8, Iter: 300, Loss: 0.11514213907718658\n",
            "Epoch: 8, Iter: 400, Loss: 0.11512939715385437\n",
            "Epoch: 8, Iter: 500, Loss: 0.11513779234886169\n",
            "Epoch: 8, Iter: 600, Loss: 0.11513843369483948\n",
            "Epoch: 8, Iter: 700, Loss: 0.11513637065887451\n",
            "Epoch: 8, Iter: 800, Loss: 0.11513700366020202\n",
            "Epoch: 8, Iter: 900, Loss: 0.11513559937477112\n",
            "Epoch: 9, Iter: 100, Loss: 0.1151339373588562\n",
            "Epoch: 9, Iter: 200, Loss: 0.1151335688829422\n",
            "Epoch: 9, Iter: 300, Loss: 0.11513976669311524\n",
            "Epoch: 9, Iter: 400, Loss: 0.11514244472980499\n",
            "Epoch: 9, Iter: 500, Loss: 0.11513397920131684\n",
            "Epoch: 9, Iter: 600, Loss: 0.11513735091686249\n",
            "Epoch: 9, Iter: 700, Loss: 0.11513694536685944\n",
            "Epoch: 9, Iter: 800, Loss: 0.11513451075553895\n",
            "Epoch: 9, Iter: 900, Loss: 0.11513833105564117\n",
            "Epoch: 10, Iter: 100, Loss: 0.11513151264190674\n",
            "Epoch: 10, Iter: 200, Loss: 0.11512793755531311\n",
            "Epoch: 10, Iter: 300, Loss: 0.11513256204128265\n",
            "Epoch: 10, Iter: 400, Loss: 0.1151386616230011\n",
            "Epoch: 10, Iter: 500, Loss: 0.11513905322551728\n",
            "Epoch: 10, Iter: 600, Loss: 0.11513799631595611\n",
            "Epoch: 10, Iter: 700, Loss: 0.11513275218009948\n",
            "Epoch: 10, Iter: 800, Loss: 0.1151336190700531\n",
            "Epoch: 10, Iter: 900, Loss: 0.11514080035686493\n"
          ]
        }
      ]
    },
    {
      "cell_type": "markdown",
      "source": [
        "### 3. DeepFC_net128\n",
        "* 2개의 Convolution-layer & 5개의 fc-layer\n",
        "* 128 batch-size"
      ],
      "metadata": {
        "id": "LaVvtEOvKUgJ"
      }
    },
    {
      "cell_type": "code",
      "source": [
        "for epoch in range(10):\n",
        "\n",
        "    running_loss = 0.0\n",
        "\n",
        "    for i, data in enumerate(train_loader128, start=0):\n",
        "        inputs, labels = data[0].to(device), data[1].to(device)\n",
        "\n",
        "        optimizerFC_128.zero_grad() # epoch마다 gradient 0으로 초기화\n",
        "\n",
        "        outputs = DeepFC_net128(inputs) # y_pred = f(X)\n",
        "        loss = criterion(outputs, labels) # CrossEntropyLoss; 0~1 사이값\n",
        "        loss.backward() # back-propagation; gradient 계산\n",
        "        optimizerFC_128.step() # parameters(weights) update\n",
        "\n",
        "        running_loss += loss.item() # 그냥 전체적인 비교를 위해 누적함\n",
        "\n",
        "        if i % 100 == 99: # 100번 마다 확인; epoch=10, iter(=i)=469, batch=128\n",
        "            print('Epoch: {}, Iter: {}, Loss: {}'.format(epoch+1, i+1, running_loss/2000))\n",
        "            running_loss = 0.0"
      ],
      "metadata": {
        "colab": {
          "base_uri": "https://localhost:8080/"
        },
        "id": "Dwh9TK_1KUgK",
        "outputId": "8f7566be-f4fd-4a9e-b91f-8079f8456f66"
      },
      "execution_count": 32,
      "outputs": [
        {
          "output_type": "stream",
          "name": "stdout",
          "text": [
            "Epoch: 1, Iter: 100, Loss: 0.11510884463787079\n",
            "Epoch: 1, Iter: 200, Loss: 0.11504023230075835\n",
            "Epoch: 1, Iter: 300, Loss: 0.11492579460144042\n",
            "Epoch: 1, Iter: 400, Loss: 0.11476909959316253\n",
            "Epoch: 2, Iter: 100, Loss: 0.11418921399116516\n",
            "Epoch: 2, Iter: 200, Loss: 0.11339641261100769\n",
            "Epoch: 2, Iter: 300, Loss: 0.11130120098590851\n",
            "Epoch: 2, Iter: 400, Loss: 0.1004257829785347\n",
            "Epoch: 3, Iter: 100, Loss: 0.04631147980690002\n",
            "Epoch: 3, Iter: 200, Loss: 0.038823032677173616\n",
            "Epoch: 3, Iter: 300, Loss: 0.03506029896438122\n",
            "Epoch: 3, Iter: 400, Loss: 0.034531748086214065\n",
            "Epoch: 4, Iter: 100, Loss: 0.03203041926026344\n",
            "Epoch: 4, Iter: 200, Loss: 0.03023068058490753\n",
            "Epoch: 4, Iter: 300, Loss: 0.03014421482384205\n",
            "Epoch: 4, Iter: 400, Loss: 0.03052313371002674\n",
            "Epoch: 5, Iter: 100, Loss: 0.028820857018232345\n",
            "Epoch: 5, Iter: 200, Loss: 0.028925907135009764\n",
            "Epoch: 5, Iter: 300, Loss: 0.028008104398846625\n",
            "Epoch: 5, Iter: 400, Loss: 0.02742785036563873\n",
            "Epoch: 6, Iter: 100, Loss: 0.026727203771471978\n",
            "Epoch: 6, Iter: 200, Loss: 0.0270623572319746\n",
            "Epoch: 6, Iter: 300, Loss: 0.026145245373249054\n",
            "Epoch: 6, Iter: 400, Loss: 0.025769706770777702\n",
            "Epoch: 7, Iter: 100, Loss: 0.025379742607474328\n",
            "Epoch: 7, Iter: 200, Loss: 0.023877980902791023\n",
            "Epoch: 7, Iter: 300, Loss: 0.024417075604200363\n",
            "Epoch: 7, Iter: 400, Loss: 0.02464193545281887\n",
            "Epoch: 8, Iter: 100, Loss: 0.02270089679956436\n",
            "Epoch: 8, Iter: 200, Loss: 0.022577415719628333\n",
            "Epoch: 8, Iter: 300, Loss: 0.0232385965436697\n",
            "Epoch: 8, Iter: 400, Loss: 0.023226675227284433\n",
            "Epoch: 9, Iter: 100, Loss: 0.022207571551203727\n",
            "Epoch: 9, Iter: 200, Loss: 0.02152476851642132\n",
            "Epoch: 9, Iter: 300, Loss: 0.02205963549017906\n",
            "Epoch: 9, Iter: 400, Loss: 0.02146566455066204\n",
            "Epoch: 10, Iter: 100, Loss: 0.02105456081032753\n",
            "Epoch: 10, Iter: 200, Loss: 0.02147029609978199\n",
            "Epoch: 10, Iter: 300, Loss: 0.021291584715247155\n",
            "Epoch: 10, Iter: 400, Loss: 0.020543827816843985\n"
          ]
        }
      ]
    },
    {
      "cell_type": "markdown",
      "source": [
        "### 4. DeepFC_net128\n",
        "* 2개의 Convolution-layer & 5개의 fc-layer\n",
        "* 64 batch-size"
      ],
      "metadata": {
        "id": "jRyyw49jKVhj"
      }
    },
    {
      "cell_type": "code",
      "source": [
        "for epoch in range(10):\n",
        "\n",
        "    running_loss = 0.0\n",
        "\n",
        "    for i, data in enumerate(train_loader64, start=0):\n",
        "        inputs, labels = data[0].to(device), data[1].to(device)\n",
        "\n",
        "        optimizerFC_64.zero_grad() # epoch마다 gradient 0으로 초기화\n",
        "\n",
        "        outputs = DeepFC_net64(inputs) # y_pred = f(X)\n",
        "        loss = criterion(outputs, labels) # CrossEntropyLoss; 0~1 사이값\n",
        "        loss.backward() # back-propagation; gradient 계산\n",
        "        optimizerFC_64.step() # parameters(weights) update\n",
        "\n",
        "        running_loss += loss.item() # 그냥 전체적인 비교를 위해 누적함\n",
        "\n",
        "        if i % 100 == 99: # 100번 마다 확인; epoch=10, iter(=i)=469, batch=64\n",
        "            print('Epoch: {}, Iter: {}, Loss: {}'.format(epoch+1, i+1, running_loss/2000))\n",
        "            running_loss = 0.0"
      ],
      "metadata": {
        "colab": {
          "base_uri": "https://localhost:8080/"
        },
        "id": "X3847V0dKVhk",
        "outputId": "2584e459-fde7-48b5-c0c1-9c3620a3ef11"
      },
      "execution_count": 33,
      "outputs": [
        {
          "output_type": "stream",
          "name": "stdout",
          "text": [
            "Epoch: 1, Iter: 100, Loss: 0.11509496915340424\n",
            "Epoch: 1, Iter: 200, Loss: 0.11498662221431732\n",
            "Epoch: 1, Iter: 300, Loss: 0.11494379377365112\n",
            "Epoch: 1, Iter: 400, Loss: 0.11477901554107665\n",
            "Epoch: 1, Iter: 500, Loss: 0.1144532619714737\n",
            "Epoch: 1, Iter: 600, Loss: 0.11399960696697235\n",
            "Epoch: 1, Iter: 700, Loss: 0.11301183688640594\n",
            "Epoch: 1, Iter: 800, Loss: 0.1096380535364151\n",
            "Epoch: 1, Iter: 900, Loss: 0.08960025346279145\n",
            "Epoch: 2, Iter: 100, Loss: 0.049930631279945376\n",
            "Epoch: 2, Iter: 200, Loss: 0.042662792772054675\n",
            "Epoch: 2, Iter: 300, Loss: 0.03782714936137199\n",
            "Epoch: 2, Iter: 400, Loss: 0.036424625754356385\n",
            "Epoch: 2, Iter: 500, Loss: 0.034002397701144216\n",
            "Epoch: 2, Iter: 600, Loss: 0.03217499516904354\n",
            "Epoch: 2, Iter: 700, Loss: 0.03276402378082276\n",
            "Epoch: 2, Iter: 800, Loss: 0.03247129783034325\n",
            "Epoch: 2, Iter: 900, Loss: 0.03165964333713055\n",
            "Epoch: 3, Iter: 100, Loss: 0.030781944543123246\n",
            "Epoch: 3, Iter: 200, Loss: 0.030754238292574884\n",
            "Epoch: 3, Iter: 300, Loss: 0.029455163344740867\n",
            "Epoch: 3, Iter: 400, Loss: 0.02894908981025219\n",
            "Epoch: 3, Iter: 500, Loss: 0.028403858855366705\n",
            "Epoch: 3, Iter: 600, Loss: 0.028500008568167687\n",
            "Epoch: 3, Iter: 700, Loss: 0.02770985969901085\n",
            "Epoch: 3, Iter: 800, Loss: 0.027244678497314455\n",
            "Epoch: 3, Iter: 900, Loss: 0.026964727118611337\n",
            "Epoch: 4, Iter: 100, Loss: 0.026778037071228028\n",
            "Epoch: 4, Iter: 200, Loss: 0.02602789345383644\n",
            "Epoch: 4, Iter: 300, Loss: 0.026375632122159005\n",
            "Epoch: 4, Iter: 400, Loss: 0.02643403674662113\n",
            "Epoch: 4, Iter: 500, Loss: 0.025534696578979492\n",
            "Epoch: 4, Iter: 600, Loss: 0.025836720645427705\n",
            "Epoch: 4, Iter: 700, Loss: 0.024424608170986177\n",
            "Epoch: 4, Iter: 800, Loss: 0.02482863003015518\n",
            "Epoch: 4, Iter: 900, Loss: 0.024647224843502045\n",
            "Epoch: 5, Iter: 100, Loss: 0.02394687195122242\n",
            "Epoch: 5, Iter: 200, Loss: 0.023327132254838942\n",
            "Epoch: 5, Iter: 300, Loss: 0.023261131085455418\n",
            "Epoch: 5, Iter: 400, Loss: 0.02390920527279377\n",
            "Epoch: 5, Iter: 500, Loss: 0.023331978470087052\n",
            "Epoch: 5, Iter: 600, Loss: 0.022656527824699877\n",
            "Epoch: 5, Iter: 700, Loss: 0.022150707185268403\n",
            "Epoch: 5, Iter: 800, Loss: 0.0230957293510437\n",
            "Epoch: 5, Iter: 900, Loss: 0.021983460977673532\n",
            "Epoch: 6, Iter: 100, Loss: 0.021718181133270262\n",
            "Epoch: 6, Iter: 200, Loss: 0.022520772710442543\n",
            "Epoch: 6, Iter: 300, Loss: 0.021527365796267985\n",
            "Epoch: 6, Iter: 400, Loss: 0.021665868006646632\n",
            "Epoch: 6, Iter: 500, Loss: 0.021944483548402786\n",
            "Epoch: 6, Iter: 600, Loss: 0.021585649587213995\n",
            "Epoch: 6, Iter: 700, Loss: 0.02071865339577198\n",
            "Epoch: 6, Iter: 800, Loss: 0.021354179345071316\n",
            "Epoch: 6, Iter: 900, Loss: 0.021637065224349498\n",
            "Epoch: 7, Iter: 100, Loss: 0.020517578415572644\n",
            "Epoch: 7, Iter: 200, Loss: 0.021073246523737908\n",
            "Epoch: 7, Iter: 300, Loss: 0.022644775003194808\n",
            "Epoch: 7, Iter: 400, Loss: 0.020316000625491142\n",
            "Epoch: 7, Iter: 500, Loss: 0.021204929009079932\n",
            "Epoch: 7, Iter: 600, Loss: 0.020459711797535418\n",
            "Epoch: 7, Iter: 700, Loss: 0.019755495153367518\n",
            "Epoch: 7, Iter: 800, Loss: 0.02104608055949211\n",
            "Epoch: 7, Iter: 900, Loss: 0.020084907695651053\n",
            "Epoch: 8, Iter: 100, Loss: 0.019680011227726935\n",
            "Epoch: 8, Iter: 200, Loss: 0.019416655138134956\n",
            "Epoch: 8, Iter: 300, Loss: 0.019917450167238712\n",
            "Epoch: 8, Iter: 400, Loss: 0.019753878608345984\n",
            "Epoch: 8, Iter: 500, Loss: 0.0199224703758955\n",
            "Epoch: 8, Iter: 600, Loss: 0.019108400523662566\n",
            "Epoch: 8, Iter: 700, Loss: 0.019093741238117218\n",
            "Epoch: 8, Iter: 800, Loss: 0.01873571377247572\n",
            "Epoch: 8, Iter: 900, Loss: 0.020458974599838257\n",
            "Epoch: 9, Iter: 100, Loss: 0.019216991811990738\n",
            "Epoch: 9, Iter: 200, Loss: 0.019149364985525608\n",
            "Epoch: 9, Iter: 300, Loss: 0.019414899252355098\n",
            "Epoch: 9, Iter: 400, Loss: 0.01880638610571623\n",
            "Epoch: 9, Iter: 500, Loss: 0.018439414434134962\n",
            "Epoch: 9, Iter: 600, Loss: 0.019084470361471175\n",
            "Epoch: 9, Iter: 700, Loss: 0.01807517398893833\n",
            "Epoch: 9, Iter: 800, Loss: 0.017849869914352893\n",
            "Epoch: 9, Iter: 900, Loss: 0.019114648431539535\n",
            "Epoch: 10, Iter: 100, Loss: 0.01917045457661152\n",
            "Epoch: 10, Iter: 200, Loss: 0.018421716913580896\n",
            "Epoch: 10, Iter: 300, Loss: 0.01809536297619343\n",
            "Epoch: 10, Iter: 400, Loss: 0.01780645088106394\n",
            "Epoch: 10, Iter: 500, Loss: 0.018377096705138683\n",
            "Epoch: 10, Iter: 600, Loss: 0.01727244798839092\n",
            "Epoch: 10, Iter: 700, Loss: 0.01835180851072073\n",
            "Epoch: 10, Iter: 800, Loss: 0.017561000116169453\n",
            "Epoch: 10, Iter: 900, Loss: 0.01793236880749464\n"
          ]
        }
      ]
    },
    {
      "cell_type": "markdown",
      "metadata": {
        "id": "5IecfHZiI09W"
      },
      "source": [
        "## 모델 테스트"
      ]
    },
    {
      "cell_type": "code",
      "source": [
        "# 전체 test 데이터에 대해서 성능 확인\n",
        "\n",
        "correct_list = [0]*4\n",
        "total_list = [0]*4\n",
        "a = -1\n",
        "\n",
        "model_list = {'DeepConv' : [DeepConv_net128, DeepConv_net64],\n",
        "              'DeepFC' : [DeepFC_net128, DeepFC_net64]}\n",
        "data_list = [test_loader128, test_loader64]\n",
        "\n",
        "with torch.no_grad(): # grad가 필요없다.\n",
        "\n",
        "    for key in model_list:\n",
        "        for idx in range(len(model_list[key])):\n",
        "            a += 1\n",
        "            model = model_list[key][idx]\n",
        "            data_loader = data_list[idx]\n",
        "            for data in data_loader:\n",
        "                images, labels = data[0].to(device), data[1].to(device)\n",
        "\n",
        "                outputs = model(images)\n",
        "                _, predicted = torch.max(outputs.data, 1)\n",
        "\n",
        "                total_list[a] += labels.size(0)\n",
        "                correct_list[a] += (predicted == labels).sum().item()\n",
        "            \n",
        "correct_rate = np.array(correct_list) / np.array(total_list)\n",
        "model_name = ['DeepConv_net128', 'DeepConv_net64', 'DeepFC_net128', 'DeepFC_net64']\n",
        "\n",
        "for i in range(len(correct_rate)):\n",
        "    print('{0} : {1}'.format(model_name[i], correct_rate[i]))"
      ],
      "metadata": {
        "colab": {
          "base_uri": "https://localhost:8080/"
        },
        "id": "VjVs_iS0rlof",
        "outputId": "36ced30d-495d-427f-fdfe-f06d1264a196"
      },
      "execution_count": 34,
      "outputs": [
        {
          "output_type": "stream",
          "name": "stdout",
          "text": [
            "DeepConv_net128 : 0.1\n",
            "DeepConv_net64 : 0.1\n",
            "DeepFC_net128 : 0.8385\n",
            "DeepFC_net64 : 0.8607\n"
          ]
        }
      ]
    },
    {
      "cell_type": "markdown",
      "source": [
        "# FashionMNIST 분류 모델 중 성능이 낮은 모델 이유 확인"
      ],
      "metadata": {
        "id": "SZcZQv4PGeYv"
      }
    },
    {
      "cell_type": "markdown",
      "source": [
        "## Convolution-layer를 하나씩 추가하면서, 성능변화를 관찰"
      ],
      "metadata": {
        "id": "V7HoLqroDhyF"
      }
    },
    {
      "cell_type": "markdown",
      "source": [
        "### 3개의 convolution-layer 사용시"
      ],
      "metadata": {
        "id": "_civVcIYBGxA"
      }
    },
    {
      "cell_type": "code",
      "source": [
        "class CNN_Model3(nn.Module):\n",
        "    def __init__(self):\n",
        "        super(CNN_Model3, self).__init__()\n",
        "\n",
        "        self.conv1 = nn.Conv2d(in_channels=1, out_channels=5, kernel_size=3, stride=1, padding=2)\n",
        "        self.conv2 = nn.Conv2d(5, 7, 3, padding=1)\n",
        "        self.conv3 = nn.Conv2d(7, 16, 2, padding=1)\n",
        "\n",
        "        self.fc1 = nn.Linear(16* 16 * 16, 3000)\n",
        "        self.fc2 = nn.Linear(3000, 1500)\n",
        "        self.fc3 = nn.Linear(1500, 20 * 3 * 3)\n",
        "        self.fc4 = nn.Linear(20 * 3 * 3, 86)\n",
        "        self.fc5 = nn.Linear(86, 10) # 10 : 10개의 category\n",
        "\n",
        "    def forward(self, x):\n",
        "        x = F.relu(self.conv1(x))\n",
        "        x = F.max_pool2d(x, (2,2))\n",
        "        x = F.relu(self.conv2(x))\n",
        "        x = F.relu(self.conv3(x))\n",
        "\n",
        "        x = x.view(-1, self.num_flat_features(x)) # num_flat_features : 아래에서 정의\n",
        "\n",
        "        x = F.relu(self.fc1(x))\n",
        "        x = F.relu(self.fc2(x))\n",
        "        x = F.relu(self.fc3(x))\n",
        "        x = F.relu(self.fc4(x))\n",
        "        x = self.fc5(x)\n",
        "\n",
        "        return x\n",
        "    \n",
        "    def num_flat_features(self, x): # 처음 dim-size을 제외하고, 모두 곱한 값을 반환해준다.\n",
        "        size = x.size()[1:]\n",
        "        num_features = 1\n",
        "        for s in size:\n",
        "            num_features *= s\n",
        "        \n",
        "        return num_features"
      ],
      "metadata": {
        "id": "29zvOdhT-fwY"
      },
      "execution_count": 35,
      "outputs": []
    },
    {
      "cell_type": "code",
      "source": [
        "# 모델객체 생성\n",
        "new_model = CNN_Model3().to(device)\n",
        "\n",
        "print(new_model)"
      ],
      "metadata": {
        "colab": {
          "base_uri": "https://localhost:8080/"
        },
        "outputId": "9fbf224f-9aef-4b9d-d957-ddf80fc2a42c",
        "id": "t81gXZmz-fwY"
      },
      "execution_count": 36,
      "outputs": [
        {
          "output_type": "stream",
          "name": "stdout",
          "text": [
            "CNN_Model3(\n",
            "  (conv1): Conv2d(1, 5, kernel_size=(3, 3), stride=(1, 1), padding=(2, 2))\n",
            "  (conv2): Conv2d(5, 7, kernel_size=(3, 3), stride=(1, 1), padding=(1, 1))\n",
            "  (conv3): Conv2d(7, 16, kernel_size=(2, 2), stride=(1, 1), padding=(1, 1))\n",
            "  (fc1): Linear(in_features=4096, out_features=3000, bias=True)\n",
            "  (fc2): Linear(in_features=3000, out_features=1500, bias=True)\n",
            "  (fc3): Linear(in_features=1500, out_features=180, bias=True)\n",
            "  (fc4): Linear(in_features=180, out_features=86, bias=True)\n",
            "  (fc5): Linear(in_features=86, out_features=10, bias=True)\n",
            ")\n"
          ]
        }
      ]
    },
    {
      "cell_type": "code",
      "source": [
        "summary(new_model, input_size=(1, 28, 28), batch_size=128)"
      ],
      "metadata": {
        "colab": {
          "base_uri": "https://localhost:8080/"
        },
        "id": "Bb2EkGUbBnuM",
        "outputId": "6bc78088-7e99-4ded-bded-35e95355444d"
      },
      "execution_count": 37,
      "outputs": [
        {
          "output_type": "stream",
          "name": "stdout",
          "text": [
            "----------------------------------------------------------------\n",
            "        Layer (type)               Output Shape         Param #\n",
            "================================================================\n",
            "            Conv2d-1           [128, 5, 30, 30]              50\n",
            "            Conv2d-2           [128, 7, 15, 15]             322\n",
            "            Conv2d-3          [128, 16, 16, 16]             464\n",
            "            Linear-4                [128, 3000]      12,291,000\n",
            "            Linear-5                [128, 1500]       4,501,500\n",
            "            Linear-6                 [128, 180]         270,180\n",
            "            Linear-7                  [128, 86]          15,566\n",
            "            Linear-8                  [128, 10]             870\n",
            "================================================================\n",
            "Total params: 17,079,952\n",
            "Trainable params: 17,079,952\n",
            "Non-trainable params: 0\n",
            "----------------------------------------------------------------\n",
            "Input size (MB): 0.38\n",
            "Forward/backward pass size (MB): 14.60\n",
            "Params size (MB): 65.15\n",
            "Estimated Total Size (MB): 80.13\n",
            "----------------------------------------------------------------\n"
          ]
        }
      ]
    },
    {
      "cell_type": "code",
      "source": [
        "optimizer = optim.SGD(new_model.parameters(), lr=0.001, momentum=0.9)"
      ],
      "metadata": {
        "id": "aQDT4bYIBsZl"
      },
      "execution_count": 38,
      "outputs": []
    },
    {
      "cell_type": "code",
      "source": [
        "for epoch in range(10):\n",
        "\n",
        "    running_loss = 0.0\n",
        "\n",
        "    for i, data in enumerate(train_loader128, start=0):\n",
        "        inputs, labels = data[0].to(device), data[1].to(device)\n",
        "\n",
        "        optimizer.zero_grad() # epoch마다 gradient 0으로 초기화\n",
        "\n",
        "        outputs = new_model(inputs) # y_pred = f(X)\n",
        "        loss = criterion(outputs, labels) # CrossEntropyLoss; 0~1 사이값\n",
        "        loss.backward() # back-propagation; gradient 계산\n",
        "        optimizer.step() # parameters(weights) update\n",
        "\n",
        "        running_loss += loss.item() # 그냥 전체적인 비교를 위해 누적함\n",
        "\n",
        "        if i % 100 == 99: # 100번 마다 확인; epoch=10, iter(=i)=469, batch=128\n",
        "            print('Epoch: {}, Iter: {}, Loss: {}'.format(epoch+1, i+1, running_loss/2000))\n",
        "            running_loss = 0.0"
      ],
      "metadata": {
        "colab": {
          "base_uri": "https://localhost:8080/"
        },
        "id": "D6GqkR8nBwhH",
        "outputId": "eab1980c-d484-4826-e74d-0c4e7047b5c5"
      },
      "execution_count": 39,
      "outputs": [
        {
          "output_type": "stream",
          "name": "stdout",
          "text": [
            "Epoch: 1, Iter: 100, Loss: 0.11523035287857056\n",
            "Epoch: 1, Iter: 200, Loss: 0.11518643510341645\n",
            "Epoch: 1, Iter: 300, Loss: 0.11510635673999786\n",
            "Epoch: 1, Iter: 400, Loss: 0.11512486028671265\n",
            "Epoch: 2, Iter: 100, Loss: 0.11507256138324738\n",
            "Epoch: 2, Iter: 200, Loss: 0.11505331337451935\n",
            "Epoch: 2, Iter: 300, Loss: 0.11504793882369996\n",
            "Epoch: 2, Iter: 400, Loss: 0.11498121106624604\n",
            "Epoch: 3, Iter: 100, Loss: 0.11491974866390228\n",
            "Epoch: 3, Iter: 200, Loss: 0.1148461593389511\n",
            "Epoch: 3, Iter: 300, Loss: 0.11477075684070587\n",
            "Epoch: 3, Iter: 400, Loss: 0.11464347696304321\n",
            "Epoch: 4, Iter: 100, Loss: 0.11420633518695832\n",
            "Epoch: 4, Iter: 200, Loss: 0.1135858861207962\n",
            "Epoch: 4, Iter: 300, Loss: 0.11187368333339691\n",
            "Epoch: 4, Iter: 400, Loss: 0.10113373345136642\n",
            "Epoch: 5, Iter: 100, Loss: 0.04944894728064537\n",
            "Epoch: 5, Iter: 200, Loss: 0.042399983137845994\n",
            "Epoch: 5, Iter: 300, Loss: 0.03698117595911026\n",
            "Epoch: 5, Iter: 400, Loss: 0.03451774489879608\n",
            "Epoch: 6, Iter: 100, Loss: 0.03276064343750477\n",
            "Epoch: 6, Iter: 200, Loss: 0.032087578117847446\n",
            "Epoch: 6, Iter: 300, Loss: 0.031258927434682844\n",
            "Epoch: 6, Iter: 400, Loss: 0.030642251908779145\n",
            "Epoch: 7, Iter: 100, Loss: 0.029698084354400633\n",
            "Epoch: 7, Iter: 200, Loss: 0.03058542302250862\n",
            "Epoch: 7, Iter: 300, Loss: 0.02842591440677643\n",
            "Epoch: 7, Iter: 400, Loss: 0.02803286549448967\n",
            "Epoch: 8, Iter: 100, Loss: 0.02708794692158699\n",
            "Epoch: 8, Iter: 200, Loss: 0.027634787306189536\n",
            "Epoch: 8, Iter: 300, Loss: 0.02690145729482174\n",
            "Epoch: 8, Iter: 400, Loss: 0.025892856791615487\n",
            "Epoch: 9, Iter: 100, Loss: 0.02526344156265259\n",
            "Epoch: 9, Iter: 200, Loss: 0.02522170278429985\n",
            "Epoch: 9, Iter: 300, Loss: 0.024504798769950868\n",
            "Epoch: 9, Iter: 400, Loss: 0.024053372874855997\n",
            "Epoch: 10, Iter: 100, Loss: 0.0234616187363863\n",
            "Epoch: 10, Iter: 200, Loss: 0.02402543283998966\n",
            "Epoch: 10, Iter: 300, Loss: 0.023357004329562187\n",
            "Epoch: 10, Iter: 400, Loss: 0.02325708082318306\n"
          ]
        }
      ]
    },
    {
      "cell_type": "code",
      "source": [
        "correct = 0\n",
        "total = 0\n",
        "\n",
        "with torch.no_grad():\n",
        "    for data in test_loader128:\n",
        "        images, labels = data[0].to(device), data[1].to(device)\n",
        "        outputs = new_model(images)\n",
        "        _, predicted = torch.max(outputs.data, axis=1)\n",
        "        total += labels.size(0)\n",
        "        correct += (predicted == labels).sum().item()\n",
        "    \n",
        "    print(100 * correct / total)"
      ],
      "metadata": {
        "colab": {
          "base_uri": "https://localhost:8080/"
        },
        "id": "1PDu2v9bB_NE",
        "outputId": "7f1d61d1-e26c-40ef-f351-f5dd30d335c2"
      },
      "execution_count": 40,
      "outputs": [
        {
          "output_type": "stream",
          "name": "stdout",
          "text": [
            "82.08\n"
          ]
        }
      ]
    },
    {
      "cell_type": "markdown",
      "source": [
        "### 4개의 convolution-layer 사용시"
      ],
      "metadata": {
        "id": "7Thu9NRyCV7j"
      }
    },
    {
      "cell_type": "code",
      "source": [
        "class CNN_Model4(nn.Module):\n",
        "    def __init__(self):\n",
        "        super(CNN_Model4, self).__init__()\n",
        "\n",
        "        self.conv1 = nn.Conv2d(in_channels=1, out_channels=5, kernel_size=3, stride=1, padding=2)\n",
        "        self.conv2 = nn.Conv2d(5, 7, 3, padding=1)\n",
        "        self.conv3 = nn.Conv2d(7, 16, 2, padding=1)\n",
        "        self.conv4 = nn.Conv2d(16, 19, 2)\n",
        "\n",
        "        self.fc1 = nn.Linear(15* 15 * 19, 3000)\n",
        "        self.fc2 = nn.Linear(3000, 1500)\n",
        "        self.fc3 = nn.Linear(1500, 20 * 3 * 3)\n",
        "        self.fc4 = nn.Linear(20 * 3 * 3, 86)\n",
        "        self.fc5 = nn.Linear(86, 10) # 10 : 10개의 category\n",
        "\n",
        "    def forward(self, x):\n",
        "        x = F.relu(self.conv1(x))\n",
        "        x = F.max_pool2d(x, (2,2))\n",
        "        x = F.relu(self.conv2(x))\n",
        "        x = F.relu(self.conv3(x))\n",
        "        x = F.relu(self.conv4(x))\n",
        "\n",
        "        x = x.view(-1, self.num_flat_features(x)) # num_flat_features : 아래에서 정의\n",
        "\n",
        "        x = F.relu(self.fc1(x))\n",
        "        x = F.relu(self.fc2(x))\n",
        "        x = F.relu(self.fc3(x))\n",
        "        x = F.relu(self.fc4(x))\n",
        "        x = self.fc5(x)\n",
        "\n",
        "        return x\n",
        "    \n",
        "    def num_flat_features(self, x): # 처음 dim-size을 제외하고, 모두 곱한 값을 반환해준다.\n",
        "        size = x.size()[1:]\n",
        "        num_features = 1\n",
        "        for s in size:\n",
        "            num_features *= s\n",
        "        \n",
        "        return num_features"
      ],
      "metadata": {
        "id": "V9PQvGFPCV7k"
      },
      "execution_count": 41,
      "outputs": []
    },
    {
      "cell_type": "code",
      "source": [
        "# 모델객체 생성\n",
        "new_model = CNN_Model4().to(device)\n",
        "\n",
        "print(new_model)"
      ],
      "metadata": {
        "colab": {
          "base_uri": "https://localhost:8080/"
        },
        "outputId": "8b50bb99-da62-4337-c075-8e63cb681385",
        "id": "HNAL7SRZCV7k"
      },
      "execution_count": 42,
      "outputs": [
        {
          "output_type": "stream",
          "name": "stdout",
          "text": [
            "CNN_Model4(\n",
            "  (conv1): Conv2d(1, 5, kernel_size=(3, 3), stride=(1, 1), padding=(2, 2))\n",
            "  (conv2): Conv2d(5, 7, kernel_size=(3, 3), stride=(1, 1), padding=(1, 1))\n",
            "  (conv3): Conv2d(7, 16, kernel_size=(2, 2), stride=(1, 1), padding=(1, 1))\n",
            "  (conv4): Conv2d(16, 19, kernel_size=(2, 2), stride=(1, 1))\n",
            "  (fc1): Linear(in_features=4275, out_features=3000, bias=True)\n",
            "  (fc2): Linear(in_features=3000, out_features=1500, bias=True)\n",
            "  (fc3): Linear(in_features=1500, out_features=180, bias=True)\n",
            "  (fc4): Linear(in_features=180, out_features=86, bias=True)\n",
            "  (fc5): Linear(in_features=86, out_features=10, bias=True)\n",
            ")\n"
          ]
        }
      ]
    },
    {
      "cell_type": "code",
      "source": [
        "summary(new_model, input_size=(1, 28, 28), batch_size=128)"
      ],
      "metadata": {
        "colab": {
          "base_uri": "https://localhost:8080/"
        },
        "outputId": "a38c9f4f-d652-444b-ddb6-d778bc6217b9",
        "id": "fHmIarJBCV7k"
      },
      "execution_count": 43,
      "outputs": [
        {
          "output_type": "stream",
          "name": "stdout",
          "text": [
            "----------------------------------------------------------------\n",
            "        Layer (type)               Output Shape         Param #\n",
            "================================================================\n",
            "            Conv2d-1           [128, 5, 30, 30]              50\n",
            "            Conv2d-2           [128, 7, 15, 15]             322\n",
            "            Conv2d-3          [128, 16, 16, 16]             464\n",
            "            Conv2d-4          [128, 19, 15, 15]           1,235\n",
            "            Linear-5                [128, 3000]      12,828,000\n",
            "            Linear-6                [128, 1500]       4,501,500\n",
            "            Linear-7                 [128, 180]         270,180\n",
            "            Linear-8                  [128, 86]          15,566\n",
            "            Linear-9                  [128, 10]             870\n",
            "================================================================\n",
            "Total params: 17,618,187\n",
            "Trainable params: 17,618,187\n",
            "Non-trainable params: 0\n",
            "----------------------------------------------------------------\n",
            "Input size (MB): 0.38\n",
            "Forward/backward pass size (MB): 18.77\n",
            "Params size (MB): 67.21\n",
            "Estimated Total Size (MB): 86.36\n",
            "----------------------------------------------------------------\n"
          ]
        }
      ]
    },
    {
      "cell_type": "code",
      "source": [
        "optimizer = optim.SGD(new_model.parameters(), lr=0.001, momentum=0.9)"
      ],
      "metadata": {
        "id": "z6gegPTRCV7k"
      },
      "execution_count": 44,
      "outputs": []
    },
    {
      "cell_type": "code",
      "source": [
        "for epoch in range(10):\n",
        "\n",
        "    running_loss = 0.0\n",
        "\n",
        "    for i, data in enumerate(train_loader128, start=0):\n",
        "        inputs, labels = data[0].to(device), data[1].to(device)\n",
        "\n",
        "        optimizer.zero_grad() # epoch마다 gradient 0으로 초기화\n",
        "\n",
        "        outputs = new_model(inputs) # y_pred = f(X)\n",
        "        loss = criterion(outputs, labels) # CrossEntropyLoss; 0~1 사이값\n",
        "        loss.backward() # back-propagation; gradient 계산\n",
        "        optimizer.step() # parameters(weights) update\n",
        "\n",
        "        running_loss += loss.item() # 그냥 전체적인 비교를 위해 누적함\n",
        "\n",
        "        if i % 100 == 99: # 100번 마다 확인; epoch=10, iter(=i)=469, batch=128\n",
        "            print('Epoch: {}, Iter: {}, Loss: {}'.format(epoch+1, i+1, running_loss/2000))\n",
        "            running_loss = 0.0"
      ],
      "metadata": {
        "colab": {
          "base_uri": "https://localhost:8080/"
        },
        "outputId": "2828d5bf-2824-40d5-8291-d314053d339a",
        "id": "oeeKVQdKCV7k"
      },
      "execution_count": 45,
      "outputs": [
        {
          "output_type": "stream",
          "name": "stdout",
          "text": [
            "Epoch: 1, Iter: 100, Loss: 0.11516589403152466\n",
            "Epoch: 1, Iter: 200, Loss: 0.11518118631839752\n",
            "Epoch: 1, Iter: 300, Loss: 0.11509176099300385\n",
            "Epoch: 1, Iter: 400, Loss: 0.11511369693279266\n",
            "Epoch: 2, Iter: 100, Loss: 0.11502536273002624\n",
            "Epoch: 2, Iter: 200, Loss: 0.11498034799098969\n",
            "Epoch: 2, Iter: 300, Loss: 0.11492346680164336\n",
            "Epoch: 2, Iter: 400, Loss: 0.11486510145664215\n",
            "Epoch: 3, Iter: 100, Loss: 0.11464470100402832\n",
            "Epoch: 3, Iter: 200, Loss: 0.11433660030364991\n",
            "Epoch: 3, Iter: 300, Loss: 0.1137571177482605\n",
            "Epoch: 3, Iter: 400, Loss: 0.11201880371570587\n",
            "Epoch: 4, Iter: 100, Loss: 0.06450102430582047\n",
            "Epoch: 4, Iter: 200, Loss: 0.04111837646365166\n",
            "Epoch: 4, Iter: 300, Loss: 0.036873056650161745\n",
            "Epoch: 4, Iter: 400, Loss: 0.03401846349239349\n",
            "Epoch: 5, Iter: 100, Loss: 0.03164292313158512\n",
            "Epoch: 5, Iter: 200, Loss: 0.031164344072341917\n",
            "Epoch: 5, Iter: 300, Loss: 0.030197735756635667\n",
            "Epoch: 5, Iter: 400, Loss: 0.029858278304338456\n",
            "Epoch: 6, Iter: 100, Loss: 0.02839517967402935\n",
            "Epoch: 6, Iter: 200, Loss: 0.02853490298986435\n",
            "Epoch: 6, Iter: 300, Loss: 0.027190101996064187\n",
            "Epoch: 6, Iter: 400, Loss: 0.02686894179880619\n",
            "Epoch: 7, Iter: 100, Loss: 0.026318390175700188\n",
            "Epoch: 7, Iter: 200, Loss: 0.025887042596936225\n",
            "Epoch: 7, Iter: 300, Loss: 0.024920847430825233\n",
            "Epoch: 7, Iter: 400, Loss: 0.02563508927822113\n",
            "Epoch: 8, Iter: 100, Loss: 0.024814701944589616\n",
            "Epoch: 8, Iter: 200, Loss: 0.02466688048839569\n",
            "Epoch: 8, Iter: 300, Loss: 0.0248826289921999\n",
            "Epoch: 8, Iter: 400, Loss: 0.024505271151661873\n",
            "Epoch: 9, Iter: 100, Loss: 0.02373129403591156\n",
            "Epoch: 9, Iter: 200, Loss: 0.02297928984463215\n",
            "Epoch: 9, Iter: 300, Loss: 0.022167391665279864\n",
            "Epoch: 9, Iter: 400, Loss: 0.023005676001310347\n",
            "Epoch: 10, Iter: 100, Loss: 0.022412685334682464\n",
            "Epoch: 10, Iter: 200, Loss: 0.022827859967947006\n",
            "Epoch: 10, Iter: 300, Loss: 0.021906400755047798\n",
            "Epoch: 10, Iter: 400, Loss: 0.021362211734056474\n"
          ]
        }
      ]
    },
    {
      "cell_type": "code",
      "source": [
        "correct = 0\n",
        "total = 0\n",
        "\n",
        "with torch.no_grad():\n",
        "    for data in test_loader128:\n",
        "        images, labels = data[0].to(device), data[1].to(device)\n",
        "        outputs = new_model(images)\n",
        "        _, predicted = torch.max(outputs.data, axis=1)\n",
        "        total += labels.size(0)\n",
        "        correct += (predicted == labels).sum().item()\n",
        "    \n",
        "    print(100 * correct / total)"
      ],
      "metadata": {
        "colab": {
          "base_uri": "https://localhost:8080/"
        },
        "id": "w3uuDeS_CV7k",
        "outputId": "c26a797a-7556-4392-ffc1-0b0749fd0c43"
      },
      "execution_count": 46,
      "outputs": [
        {
          "output_type": "stream",
          "name": "stdout",
          "text": [
            "81.94\n"
          ]
        }
      ]
    },
    {
      "cell_type": "markdown",
      "source": [
        "### 5개의 convolution-layer 사용시"
      ],
      "metadata": {
        "id": "kuP_3_DyD42p"
      }
    },
    {
      "cell_type": "code",
      "source": [
        "class CNN_Model5(nn.Module):\n",
        "    def __init__(self):\n",
        "        super(CNN_Model5, self).__init__()\n",
        "\n",
        "        self.conv1 = nn.Conv2d(in_channels=1, out_channels=5, kernel_size=3, stride=1, padding=2)\n",
        "        self.conv2 = nn.Conv2d(5, 7, 3, padding=1)      \n",
        "        self.conv3 = nn.Conv2d(7, 16, 2, padding=1)\n",
        "        self.conv4 = nn.Conv2d(16, 19, 2)\n",
        "        self.conv5 = nn.Conv2d(19, 29, 3)\n",
        "\n",
        "        self.fc1 = nn.Linear(29 * 13 * 13, 100)\n",
        "        self.fc2 = nn.Linear(100, 50)\n",
        "        self.fc3 = nn.Linear(50, 25)\n",
        "        self.fc4 = nn.Linear(25, 10) # 10 : 10개의 category\n",
        "\n",
        "    def forward(self, x):\n",
        "        x = F.relu(self.conv1(x))\n",
        "        x = F.max_pool2d(x, (2,2))\n",
        "        x = F.relu(self.conv2(x))\n",
        "        x = F.relu(self.conv3(x))\n",
        "        x = F.relu(self.conv4(x))\n",
        "        x = F.relu(self.conv5(x))\n",
        "\n",
        "        x = x.view(-1, self.num_flat_features(x)) # num_flat_features : 아래에서 정의\n",
        "\n",
        "        x = F.relu(self.fc1(x))\n",
        "        x = F.relu(self.fc2(x))\n",
        "        x = F.relu(self.fc3(x))\n",
        "        x = self.fc4(x)\n",
        "\n",
        "        return x\n",
        "    \n",
        "    def num_flat_features(self, x): # 처음 dim-size을 제외하고, 모두 곱한 값을 반환해준다.\n",
        "        size = x.size()[1:]\n",
        "        num_features = 1\n",
        "        for s in size:\n",
        "            num_features *= s\n",
        "        \n",
        "        return num_features"
      ],
      "metadata": {
        "id": "Bk1u7iloD42q"
      },
      "execution_count": 47,
      "outputs": []
    },
    {
      "cell_type": "code",
      "source": [
        "# 모델객체 생성\n",
        "new_model = CNN_Model5().to(device)\n",
        "\n",
        "print(new_model)"
      ],
      "metadata": {
        "colab": {
          "base_uri": "https://localhost:8080/"
        },
        "outputId": "92f7ed8f-97d3-402c-9e03-936635d17767",
        "id": "GPoNB-4vD42q"
      },
      "execution_count": 48,
      "outputs": [
        {
          "output_type": "stream",
          "name": "stdout",
          "text": [
            "CNN_Model5(\n",
            "  (conv1): Conv2d(1, 5, kernel_size=(3, 3), stride=(1, 1), padding=(2, 2))\n",
            "  (conv2): Conv2d(5, 7, kernel_size=(3, 3), stride=(1, 1), padding=(1, 1))\n",
            "  (conv3): Conv2d(7, 16, kernel_size=(2, 2), stride=(1, 1), padding=(1, 1))\n",
            "  (conv4): Conv2d(16, 19, kernel_size=(2, 2), stride=(1, 1))\n",
            "  (conv5): Conv2d(19, 29, kernel_size=(3, 3), stride=(1, 1))\n",
            "  (fc1): Linear(in_features=4901, out_features=100, bias=True)\n",
            "  (fc2): Linear(in_features=100, out_features=50, bias=True)\n",
            "  (fc3): Linear(in_features=50, out_features=25, bias=True)\n",
            "  (fc4): Linear(in_features=25, out_features=10, bias=True)\n",
            ")\n"
          ]
        }
      ]
    },
    {
      "cell_type": "code",
      "source": [
        "summary(new_model, input_size=(1, 28, 28), batch_size=128)"
      ],
      "metadata": {
        "colab": {
          "base_uri": "https://localhost:8080/"
        },
        "outputId": "b5ed89b7-7b32-4ddf-f1c5-1cc803e2fa31",
        "id": "aDvnyPw6D42q"
      },
      "execution_count": 49,
      "outputs": [
        {
          "output_type": "stream",
          "name": "stdout",
          "text": [
            "----------------------------------------------------------------\n",
            "        Layer (type)               Output Shape         Param #\n",
            "================================================================\n",
            "            Conv2d-1           [128, 5, 30, 30]              50\n",
            "            Conv2d-2           [128, 7, 15, 15]             322\n",
            "            Conv2d-3          [128, 16, 16, 16]             464\n",
            "            Conv2d-4          [128, 19, 15, 15]           1,235\n",
            "            Conv2d-5          [128, 29, 13, 13]           4,988\n",
            "            Linear-6                 [128, 100]         490,200\n",
            "            Linear-7                  [128, 50]           5,050\n",
            "            Linear-8                  [128, 25]           1,275\n",
            "            Linear-9                  [128, 10]             260\n",
            "================================================================\n",
            "Total params: 503,844\n",
            "Trainable params: 503,844\n",
            "Non-trainable params: 0\n",
            "----------------------------------------------------------------\n",
            "Input size (MB): 0.38\n",
            "Forward/backward pass size (MB): 19.07\n",
            "Params size (MB): 1.92\n",
            "Estimated Total Size (MB): 21.38\n",
            "----------------------------------------------------------------\n"
          ]
        }
      ]
    },
    {
      "cell_type": "code",
      "source": [
        "optimizer = optim.SGD(new_model.parameters(), lr=0.001, momentum=0.9)"
      ],
      "metadata": {
        "id": "QmOiVQDLD42q"
      },
      "execution_count": 50,
      "outputs": []
    },
    {
      "cell_type": "code",
      "source": [
        "for epoch in range(10):\n",
        "\n",
        "    running_loss = 0.0\n",
        "\n",
        "    for i, data in enumerate(train_loader128, start=0):\n",
        "        inputs, labels = data[0].to(device), data[1].to(device)\n",
        "\n",
        "        optimizer.zero_grad() # epoch마다 gradient 0으로 초기화\n",
        "\n",
        "        outputs = new_model(inputs) # y_pred = f(X)\n",
        "        loss = criterion(outputs, labels) # CrossEntropyLoss; 0~1 사이값\n",
        "        loss.backward() # back-propagation; gradient 계산\n",
        "        optimizer.step() # parameters(weights) update\n",
        "\n",
        "        running_loss += loss.item() # 그냥 전체적인 비교를 위해 누적함\n",
        "\n",
        "        if i % 100 == 99: # 100번 마다 확인; epoch=10, iter(=i)=469, batch=128\n",
        "            print('Epoch: {}, Iter: {}, Loss: {}'.format(epoch+1, i+1, running_loss/2000))\n",
        "            running_loss = 0.0"
      ],
      "metadata": {
        "colab": {
          "base_uri": "https://localhost:8080/"
        },
        "outputId": "4950298c-e28e-4c33-e66e-ded1e7cc2aa5",
        "id": "eS9fQfeED42q"
      },
      "execution_count": 51,
      "outputs": [
        {
          "output_type": "stream",
          "name": "stdout",
          "text": [
            "Epoch: 1, Iter: 100, Loss: 0.1153301819562912\n",
            "Epoch: 1, Iter: 200, Loss: 0.11527120757102967\n",
            "Epoch: 1, Iter: 300, Loss: 0.11520213150978088\n",
            "Epoch: 1, Iter: 400, Loss: 0.11523149526119232\n",
            "Epoch: 2, Iter: 100, Loss: 0.11515223813056946\n",
            "Epoch: 2, Iter: 200, Loss: 0.11514106512069702\n",
            "Epoch: 2, Iter: 300, Loss: 0.11512274491786957\n",
            "Epoch: 2, Iter: 400, Loss: 0.11511850535869599\n",
            "Epoch: 3, Iter: 100, Loss: 0.11505517411231994\n",
            "Epoch: 3, Iter: 200, Loss: 0.11501420724391938\n",
            "Epoch: 3, Iter: 300, Loss: 0.11498920774459839\n",
            "Epoch: 3, Iter: 400, Loss: 0.11490422403812409\n",
            "Epoch: 4, Iter: 100, Loss: 0.11470611310005188\n",
            "Epoch: 4, Iter: 200, Loss: 0.11443360793590546\n",
            "Epoch: 4, Iter: 300, Loss: 0.11383783650398255\n",
            "Epoch: 4, Iter: 400, Loss: 0.11196072578430176\n",
            "Epoch: 5, Iter: 100, Loss: 0.060894902378320695\n",
            "Epoch: 5, Iter: 200, Loss: 0.043934879660606385\n",
            "Epoch: 5, Iter: 300, Loss: 0.03761592066287994\n",
            "Epoch: 5, Iter: 400, Loss: 0.03620906415581703\n",
            "Epoch: 6, Iter: 100, Loss: 0.03300260278582573\n",
            "Epoch: 6, Iter: 200, Loss: 0.03224984890222549\n",
            "Epoch: 6, Iter: 300, Loss: 0.03322735686600208\n",
            "Epoch: 6, Iter: 400, Loss: 0.032467115938663485\n",
            "Epoch: 7, Iter: 100, Loss: 0.030248903036117554\n",
            "Epoch: 7, Iter: 200, Loss: 0.029664162650704384\n",
            "Epoch: 7, Iter: 300, Loss: 0.029676598891615866\n",
            "Epoch: 7, Iter: 400, Loss: 0.029959302470088003\n",
            "Epoch: 8, Iter: 100, Loss: 0.02822607809305191\n",
            "Epoch: 8, Iter: 200, Loss: 0.027547372594475747\n",
            "Epoch: 8, Iter: 300, Loss: 0.028251365542411803\n",
            "Epoch: 8, Iter: 400, Loss: 0.028088222846388816\n",
            "Epoch: 9, Iter: 100, Loss: 0.02655240997672081\n",
            "Epoch: 9, Iter: 200, Loss: 0.026882353201508523\n",
            "Epoch: 9, Iter: 300, Loss: 0.025794086053967477\n",
            "Epoch: 9, Iter: 400, Loss: 0.026929154336452484\n",
            "Epoch: 10, Iter: 100, Loss: 0.025835735857486726\n",
            "Epoch: 10, Iter: 200, Loss: 0.025188464909791947\n",
            "Epoch: 10, Iter: 300, Loss: 0.02522002911567688\n",
            "Epoch: 10, Iter: 400, Loss: 0.02371574455499649\n"
          ]
        }
      ]
    },
    {
      "cell_type": "code",
      "source": [
        "correct = 0\n",
        "total = 0\n",
        "\n",
        "with torch.no_grad():\n",
        "    for data in test_loader128:\n",
        "        images, labels = data[0].to(device), data[1].to(device)\n",
        "        outputs = new_model(images)\n",
        "        _, predicted = torch.max(outputs.data, axis=1)\n",
        "        total += labels.size(0)\n",
        "        correct += (predicted == labels).sum().item()\n",
        "    \n",
        "    print(100 * correct / total)"
      ],
      "metadata": {
        "colab": {
          "base_uri": "https://localhost:8080/"
        },
        "outputId": "d85c8e1d-50cc-48ae-a345-f4d489d1ddab",
        "id": "X0H3p7PGD42q"
      },
      "execution_count": 52,
      "outputs": [
        {
          "output_type": "stream",
          "name": "stdout",
          "text": [
            "81.09\n"
          ]
        }
      ]
    }
  ]
}