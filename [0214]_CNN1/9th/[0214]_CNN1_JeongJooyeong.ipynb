{
  "nbformat": 4,
  "nbformat_minor": 0,
  "metadata": {
    "colab": {
      "provenance": [],
      "collapsed_sections": [
        "cdNvme8aKSBP",
        "OHckdZ55KeH2",
        "mCrBa-gRRMEO",
        "EFPYE3UUnpmX",
        "xVxKI_rwCvhI",
        "klpXGc2tCimP",
        "huNh3EnhJLyh",
        "W-2Q7c6-JW9z",
        "FOUBE2UfKS6D",
        "LaVvtEOvKUgJ",
        "jRyyw49jKVhj",
        "5IecfHZiI09W",
        "SZcZQv4PGeYv",
        "V7HoLqroDhyF",
        "_civVcIYBGxA",
        "7Thu9NRyCV7j",
        "kuP_3_DyD42p"
      ]
    },
    "kernelspec": {
      "name": "python3",
      "display_name": "Python 3"
    },
    "accelerator": "GPU",
    "gpuClass": "standard",
    "widgets": {
      "application/vnd.jupyter.widget-state+json": {
        "41f259cc7a444e958de00d23ad225b8b": {
          "model_module": "@jupyter-widgets/controls",
          "model_name": "HBoxModel",
          "model_module_version": "1.5.0",
          "state": {
            "_dom_classes": [],
            "_model_module": "@jupyter-widgets/controls",
            "_model_module_version": "1.5.0",
            "_model_name": "HBoxModel",
            "_view_count": null,
            "_view_module": "@jupyter-widgets/controls",
            "_view_module_version": "1.5.0",
            "_view_name": "HBoxView",
            "box_style": "",
            "children": [
              "IPY_MODEL_a159f73ba1ae484eb8061988e722e54a",
              "IPY_MODEL_e42a0c72039346caa50632d5f23fc3f9",
              "IPY_MODEL_3dc4ae4364114f1aade79502183b1d99"
            ],
            "layout": "IPY_MODEL_cf731c97004a4ad2b8da782ebb82f5c9"
          }
        },
        "a159f73ba1ae484eb8061988e722e54a": {
          "model_module": "@jupyter-widgets/controls",
          "model_name": "HTMLModel",
          "model_module_version": "1.5.0",
          "state": {
            "_dom_classes": [],
            "_model_module": "@jupyter-widgets/controls",
            "_model_module_version": "1.5.0",
            "_model_name": "HTMLModel",
            "_view_count": null,
            "_view_module": "@jupyter-widgets/controls",
            "_view_module_version": "1.5.0",
            "_view_name": "HTMLView",
            "description": "",
            "description_tooltip": null,
            "layout": "IPY_MODEL_8196aaab27604c4180747ecc361b49ab",
            "placeholder": "​",
            "style": "IPY_MODEL_340be065b52847b6a1f3bfd07dd8add5",
            "value": "100%"
          }
        },
        "e42a0c72039346caa50632d5f23fc3f9": {
          "model_module": "@jupyter-widgets/controls",
          "model_name": "FloatProgressModel",
          "model_module_version": "1.5.0",
          "state": {
            "_dom_classes": [],
            "_model_module": "@jupyter-widgets/controls",
            "_model_module_version": "1.5.0",
            "_model_name": "FloatProgressModel",
            "_view_count": null,
            "_view_module": "@jupyter-widgets/controls",
            "_view_module_version": "1.5.0",
            "_view_name": "ProgressView",
            "bar_style": "success",
            "description": "",
            "description_tooltip": null,
            "layout": "IPY_MODEL_fbaf940446c9456ab2b89288806cf19e",
            "max": 26421880,
            "min": 0,
            "orientation": "horizontal",
            "style": "IPY_MODEL_212ca1bdca8740f9be3762afcbf096c3",
            "value": 26421880
          }
        },
        "3dc4ae4364114f1aade79502183b1d99": {
          "model_module": "@jupyter-widgets/controls",
          "model_name": "HTMLModel",
          "model_module_version": "1.5.0",
          "state": {
            "_dom_classes": [],
            "_model_module": "@jupyter-widgets/controls",
            "_model_module_version": "1.5.0",
            "_model_name": "HTMLModel",
            "_view_count": null,
            "_view_module": "@jupyter-widgets/controls",
            "_view_module_version": "1.5.0",
            "_view_name": "HTMLView",
            "description": "",
            "description_tooltip": null,
            "layout": "IPY_MODEL_fce4bb9d8db74fe7a25be4f8ccb5c47f",
            "placeholder": "​",
            "style": "IPY_MODEL_c8e90c5d238c47b9b7f65755b2ee0eda",
            "value": " 26421880/26421880 [00:02&lt;00:00, 20278491.10it/s]"
          }
        },
        "cf731c97004a4ad2b8da782ebb82f5c9": {
          "model_module": "@jupyter-widgets/base",
          "model_name": "LayoutModel",
          "model_module_version": "1.2.0",
          "state": {
            "_model_module": "@jupyter-widgets/base",
            "_model_module_version": "1.2.0",
            "_model_name": "LayoutModel",
            "_view_count": null,
            "_view_module": "@jupyter-widgets/base",
            "_view_module_version": "1.2.0",
            "_view_name": "LayoutView",
            "align_content": null,
            "align_items": null,
            "align_self": null,
            "border": null,
            "bottom": null,
            "display": null,
            "flex": null,
            "flex_flow": null,
            "grid_area": null,
            "grid_auto_columns": null,
            "grid_auto_flow": null,
            "grid_auto_rows": null,
            "grid_column": null,
            "grid_gap": null,
            "grid_row": null,
            "grid_template_areas": null,
            "grid_template_columns": null,
            "grid_template_rows": null,
            "height": null,
            "justify_content": null,
            "justify_items": null,
            "left": null,
            "margin": null,
            "max_height": null,
            "max_width": null,
            "min_height": null,
            "min_width": null,
            "object_fit": null,
            "object_position": null,
            "order": null,
            "overflow": null,
            "overflow_x": null,
            "overflow_y": null,
            "padding": null,
            "right": null,
            "top": null,
            "visibility": null,
            "width": null
          }
        },
        "8196aaab27604c4180747ecc361b49ab": {
          "model_module": "@jupyter-widgets/base",
          "model_name": "LayoutModel",
          "model_module_version": "1.2.0",
          "state": {
            "_model_module": "@jupyter-widgets/base",
            "_model_module_version": "1.2.0",
            "_model_name": "LayoutModel",
            "_view_count": null,
            "_view_module": "@jupyter-widgets/base",
            "_view_module_version": "1.2.0",
            "_view_name": "LayoutView",
            "align_content": null,
            "align_items": null,
            "align_self": null,
            "border": null,
            "bottom": null,
            "display": null,
            "flex": null,
            "flex_flow": null,
            "grid_area": null,
            "grid_auto_columns": null,
            "grid_auto_flow": null,
            "grid_auto_rows": null,
            "grid_column": null,
            "grid_gap": null,
            "grid_row": null,
            "grid_template_areas": null,
            "grid_template_columns": null,
            "grid_template_rows": null,
            "height": null,
            "justify_content": null,
            "justify_items": null,
            "left": null,
            "margin": null,
            "max_height": null,
            "max_width": null,
            "min_height": null,
            "min_width": null,
            "object_fit": null,
            "object_position": null,
            "order": null,
            "overflow": null,
            "overflow_x": null,
            "overflow_y": null,
            "padding": null,
            "right": null,
            "top": null,
            "visibility": null,
            "width": null
          }
        },
        "340be065b52847b6a1f3bfd07dd8add5": {
          "model_module": "@jupyter-widgets/controls",
          "model_name": "DescriptionStyleModel",
          "model_module_version": "1.5.0",
          "state": {
            "_model_module": "@jupyter-widgets/controls",
            "_model_module_version": "1.5.0",
            "_model_name": "DescriptionStyleModel",
            "_view_count": null,
            "_view_module": "@jupyter-widgets/base",
            "_view_module_version": "1.2.0",
            "_view_name": "StyleView",
            "description_width": ""
          }
        },
        "fbaf940446c9456ab2b89288806cf19e": {
          "model_module": "@jupyter-widgets/base",
          "model_name": "LayoutModel",
          "model_module_version": "1.2.0",
          "state": {
            "_model_module": "@jupyter-widgets/base",
            "_model_module_version": "1.2.0",
            "_model_name": "LayoutModel",
            "_view_count": null,
            "_view_module": "@jupyter-widgets/base",
            "_view_module_version": "1.2.0",
            "_view_name": "LayoutView",
            "align_content": null,
            "align_items": null,
            "align_self": null,
            "border": null,
            "bottom": null,
            "display": null,
            "flex": null,
            "flex_flow": null,
            "grid_area": null,
            "grid_auto_columns": null,
            "grid_auto_flow": null,
            "grid_auto_rows": null,
            "grid_column": null,
            "grid_gap": null,
            "grid_row": null,
            "grid_template_areas": null,
            "grid_template_columns": null,
            "grid_template_rows": null,
            "height": null,
            "justify_content": null,
            "justify_items": null,
            "left": null,
            "margin": null,
            "max_height": null,
            "max_width": null,
            "min_height": null,
            "min_width": null,
            "object_fit": null,
            "object_position": null,
            "order": null,
            "overflow": null,
            "overflow_x": null,
            "overflow_y": null,
            "padding": null,
            "right": null,
            "top": null,
            "visibility": null,
            "width": null
          }
        },
        "212ca1bdca8740f9be3762afcbf096c3": {
          "model_module": "@jupyter-widgets/controls",
          "model_name": "ProgressStyleModel",
          "model_module_version": "1.5.0",
          "state": {
            "_model_module": "@jupyter-widgets/controls",
            "_model_module_version": "1.5.0",
            "_model_name": "ProgressStyleModel",
            "_view_count": null,
            "_view_module": "@jupyter-widgets/base",
            "_view_module_version": "1.2.0",
            "_view_name": "StyleView",
            "bar_color": null,
            "description_width": ""
          }
        },
        "fce4bb9d8db74fe7a25be4f8ccb5c47f": {
          "model_module": "@jupyter-widgets/base",
          "model_name": "LayoutModel",
          "model_module_version": "1.2.0",
          "state": {
            "_model_module": "@jupyter-widgets/base",
            "_model_module_version": "1.2.0",
            "_model_name": "LayoutModel",
            "_view_count": null,
            "_view_module": "@jupyter-widgets/base",
            "_view_module_version": "1.2.0",
            "_view_name": "LayoutView",
            "align_content": null,
            "align_items": null,
            "align_self": null,
            "border": null,
            "bottom": null,
            "display": null,
            "flex": null,
            "flex_flow": null,
            "grid_area": null,
            "grid_auto_columns": null,
            "grid_auto_flow": null,
            "grid_auto_rows": null,
            "grid_column": null,
            "grid_gap": null,
            "grid_row": null,
            "grid_template_areas": null,
            "grid_template_columns": null,
            "grid_template_rows": null,
            "height": null,
            "justify_content": null,
            "justify_items": null,
            "left": null,
            "margin": null,
            "max_height": null,
            "max_width": null,
            "min_height": null,
            "min_width": null,
            "object_fit": null,
            "object_position": null,
            "order": null,
            "overflow": null,
            "overflow_x": null,
            "overflow_y": null,
            "padding": null,
            "right": null,
            "top": null,
            "visibility": null,
            "width": null
          }
        },
        "c8e90c5d238c47b9b7f65755b2ee0eda": {
          "model_module": "@jupyter-widgets/controls",
          "model_name": "DescriptionStyleModel",
          "model_module_version": "1.5.0",
          "state": {
            "_model_module": "@jupyter-widgets/controls",
            "_model_module_version": "1.5.0",
            "_model_name": "DescriptionStyleModel",
            "_view_count": null,
            "_view_module": "@jupyter-widgets/base",
            "_view_module_version": "1.2.0",
            "_view_name": "StyleView",
            "description_width": ""
          }
        },
        "c410bc94c5c440b3a3feb1f43545ac0f": {
          "model_module": "@jupyter-widgets/controls",
          "model_name": "HBoxModel",
          "model_module_version": "1.5.0",
          "state": {
            "_dom_classes": [],
            "_model_module": "@jupyter-widgets/controls",
            "_model_module_version": "1.5.0",
            "_model_name": "HBoxModel",
            "_view_count": null,
            "_view_module": "@jupyter-widgets/controls",
            "_view_module_version": "1.5.0",
            "_view_name": "HBoxView",
            "box_style": "",
            "children": [
              "IPY_MODEL_56442264ef7e4da29cd72247af4b3b80",
              "IPY_MODEL_e160d14e6d664ce6a2a2ea0fde3f7d22",
              "IPY_MODEL_1feb38c58cdf4ee59bb0cae331303dff"
            ],
            "layout": "IPY_MODEL_5de76c4ac8864c9aa3911c736f24e28f"
          }
        },
        "56442264ef7e4da29cd72247af4b3b80": {
          "model_module": "@jupyter-widgets/controls",
          "model_name": "HTMLModel",
          "model_module_version": "1.5.0",
          "state": {
            "_dom_classes": [],
            "_model_module": "@jupyter-widgets/controls",
            "_model_module_version": "1.5.0",
            "_model_name": "HTMLModel",
            "_view_count": null,
            "_view_module": "@jupyter-widgets/controls",
            "_view_module_version": "1.5.0",
            "_view_name": "HTMLView",
            "description": "",
            "description_tooltip": null,
            "layout": "IPY_MODEL_0803261662b54e6cb6f52bde752430f3",
            "placeholder": "​",
            "style": "IPY_MODEL_8c8549c71351454f91d110be6125f8ca",
            "value": "100%"
          }
        },
        "e160d14e6d664ce6a2a2ea0fde3f7d22": {
          "model_module": "@jupyter-widgets/controls",
          "model_name": "FloatProgressModel",
          "model_module_version": "1.5.0",
          "state": {
            "_dom_classes": [],
            "_model_module": "@jupyter-widgets/controls",
            "_model_module_version": "1.5.0",
            "_model_name": "FloatProgressModel",
            "_view_count": null,
            "_view_module": "@jupyter-widgets/controls",
            "_view_module_version": "1.5.0",
            "_view_name": "ProgressView",
            "bar_style": "success",
            "description": "",
            "description_tooltip": null,
            "layout": "IPY_MODEL_4221b41bc1f644e3a87d207358149d81",
            "max": 29515,
            "min": 0,
            "orientation": "horizontal",
            "style": "IPY_MODEL_0cd7d589a831423cb2840b3f31effe77",
            "value": 29515
          }
        },
        "1feb38c58cdf4ee59bb0cae331303dff": {
          "model_module": "@jupyter-widgets/controls",
          "model_name": "HTMLModel",
          "model_module_version": "1.5.0",
          "state": {
            "_dom_classes": [],
            "_model_module": "@jupyter-widgets/controls",
            "_model_module_version": "1.5.0",
            "_model_name": "HTMLModel",
            "_view_count": null,
            "_view_module": "@jupyter-widgets/controls",
            "_view_module_version": "1.5.0",
            "_view_name": "HTMLView",
            "description": "",
            "description_tooltip": null,
            "layout": "IPY_MODEL_94c6d1f1c85a4b969aeb1153e270c415",
            "placeholder": "​",
            "style": "IPY_MODEL_d82049565a3e4e55a4a8f81aa4e66c1d",
            "value": " 29515/29515 [00:00&lt;00:00, 206767.29it/s]"
          }
        },
        "5de76c4ac8864c9aa3911c736f24e28f": {
          "model_module": "@jupyter-widgets/base",
          "model_name": "LayoutModel",
          "model_module_version": "1.2.0",
          "state": {
            "_model_module": "@jupyter-widgets/base",
            "_model_module_version": "1.2.0",
            "_model_name": "LayoutModel",
            "_view_count": null,
            "_view_module": "@jupyter-widgets/base",
            "_view_module_version": "1.2.0",
            "_view_name": "LayoutView",
            "align_content": null,
            "align_items": null,
            "align_self": null,
            "border": null,
            "bottom": null,
            "display": null,
            "flex": null,
            "flex_flow": null,
            "grid_area": null,
            "grid_auto_columns": null,
            "grid_auto_flow": null,
            "grid_auto_rows": null,
            "grid_column": null,
            "grid_gap": null,
            "grid_row": null,
            "grid_template_areas": null,
            "grid_template_columns": null,
            "grid_template_rows": null,
            "height": null,
            "justify_content": null,
            "justify_items": null,
            "left": null,
            "margin": null,
            "max_height": null,
            "max_width": null,
            "min_height": null,
            "min_width": null,
            "object_fit": null,
            "object_position": null,
            "order": null,
            "overflow": null,
            "overflow_x": null,
            "overflow_y": null,
            "padding": null,
            "right": null,
            "top": null,
            "visibility": null,
            "width": null
          }
        },
        "0803261662b54e6cb6f52bde752430f3": {
          "model_module": "@jupyter-widgets/base",
          "model_name": "LayoutModel",
          "model_module_version": "1.2.0",
          "state": {
            "_model_module": "@jupyter-widgets/base",
            "_model_module_version": "1.2.0",
            "_model_name": "LayoutModel",
            "_view_count": null,
            "_view_module": "@jupyter-widgets/base",
            "_view_module_version": "1.2.0",
            "_view_name": "LayoutView",
            "align_content": null,
            "align_items": null,
            "align_self": null,
            "border": null,
            "bottom": null,
            "display": null,
            "flex": null,
            "flex_flow": null,
            "grid_area": null,
            "grid_auto_columns": null,
            "grid_auto_flow": null,
            "grid_auto_rows": null,
            "grid_column": null,
            "grid_gap": null,
            "grid_row": null,
            "grid_template_areas": null,
            "grid_template_columns": null,
            "grid_template_rows": null,
            "height": null,
            "justify_content": null,
            "justify_items": null,
            "left": null,
            "margin": null,
            "max_height": null,
            "max_width": null,
            "min_height": null,
            "min_width": null,
            "object_fit": null,
            "object_position": null,
            "order": null,
            "overflow": null,
            "overflow_x": null,
            "overflow_y": null,
            "padding": null,
            "right": null,
            "top": null,
            "visibility": null,
            "width": null
          }
        },
        "8c8549c71351454f91d110be6125f8ca": {
          "model_module": "@jupyter-widgets/controls",
          "model_name": "DescriptionStyleModel",
          "model_module_version": "1.5.0",
          "state": {
            "_model_module": "@jupyter-widgets/controls",
            "_model_module_version": "1.5.0",
            "_model_name": "DescriptionStyleModel",
            "_view_count": null,
            "_view_module": "@jupyter-widgets/base",
            "_view_module_version": "1.2.0",
            "_view_name": "StyleView",
            "description_width": ""
          }
        },
        "4221b41bc1f644e3a87d207358149d81": {
          "model_module": "@jupyter-widgets/base",
          "model_name": "LayoutModel",
          "model_module_version": "1.2.0",
          "state": {
            "_model_module": "@jupyter-widgets/base",
            "_model_module_version": "1.2.0",
            "_model_name": "LayoutModel",
            "_view_count": null,
            "_view_module": "@jupyter-widgets/base",
            "_view_module_version": "1.2.0",
            "_view_name": "LayoutView",
            "align_content": null,
            "align_items": null,
            "align_self": null,
            "border": null,
            "bottom": null,
            "display": null,
            "flex": null,
            "flex_flow": null,
            "grid_area": null,
            "grid_auto_columns": null,
            "grid_auto_flow": null,
            "grid_auto_rows": null,
            "grid_column": null,
            "grid_gap": null,
            "grid_row": null,
            "grid_template_areas": null,
            "grid_template_columns": null,
            "grid_template_rows": null,
            "height": null,
            "justify_content": null,
            "justify_items": null,
            "left": null,
            "margin": null,
            "max_height": null,
            "max_width": null,
            "min_height": null,
            "min_width": null,
            "object_fit": null,
            "object_position": null,
            "order": null,
            "overflow": null,
            "overflow_x": null,
            "overflow_y": null,
            "padding": null,
            "right": null,
            "top": null,
            "visibility": null,
            "width": null
          }
        },
        "0cd7d589a831423cb2840b3f31effe77": {
          "model_module": "@jupyter-widgets/controls",
          "model_name": "ProgressStyleModel",
          "model_module_version": "1.5.0",
          "state": {
            "_model_module": "@jupyter-widgets/controls",
            "_model_module_version": "1.5.0",
            "_model_name": "ProgressStyleModel",
            "_view_count": null,
            "_view_module": "@jupyter-widgets/base",
            "_view_module_version": "1.2.0",
            "_view_name": "StyleView",
            "bar_color": null,
            "description_width": ""
          }
        },
        "94c6d1f1c85a4b969aeb1153e270c415": {
          "model_module": "@jupyter-widgets/base",
          "model_name": "LayoutModel",
          "model_module_version": "1.2.0",
          "state": {
            "_model_module": "@jupyter-widgets/base",
            "_model_module_version": "1.2.0",
            "_model_name": "LayoutModel",
            "_view_count": null,
            "_view_module": "@jupyter-widgets/base",
            "_view_module_version": "1.2.0",
            "_view_name": "LayoutView",
            "align_content": null,
            "align_items": null,
            "align_self": null,
            "border": null,
            "bottom": null,
            "display": null,
            "flex": null,
            "flex_flow": null,
            "grid_area": null,
            "grid_auto_columns": null,
            "grid_auto_flow": null,
            "grid_auto_rows": null,
            "grid_column": null,
            "grid_gap": null,
            "grid_row": null,
            "grid_template_areas": null,
            "grid_template_columns": null,
            "grid_template_rows": null,
            "height": null,
            "justify_content": null,
            "justify_items": null,
            "left": null,
            "margin": null,
            "max_height": null,
            "max_width": null,
            "min_height": null,
            "min_width": null,
            "object_fit": null,
            "object_position": null,
            "order": null,
            "overflow": null,
            "overflow_x": null,
            "overflow_y": null,
            "padding": null,
            "right": null,
            "top": null,
            "visibility": null,
            "width": null
          }
        },
        "d82049565a3e4e55a4a8f81aa4e66c1d": {
          "model_module": "@jupyter-widgets/controls",
          "model_name": "DescriptionStyleModel",
          "model_module_version": "1.5.0",
          "state": {
            "_model_module": "@jupyter-widgets/controls",
            "_model_module_version": "1.5.0",
            "_model_name": "DescriptionStyleModel",
            "_view_count": null,
            "_view_module": "@jupyter-widgets/base",
            "_view_module_version": "1.2.0",
            "_view_name": "StyleView",
            "description_width": ""
          }
        },
        "a4ff8f5de5d24f5b8ffac64608c5d098": {
          "model_module": "@jupyter-widgets/controls",
          "model_name": "HBoxModel",
          "model_module_version": "1.5.0",
          "state": {
            "_dom_classes": [],
            "_model_module": "@jupyter-widgets/controls",
            "_model_module_version": "1.5.0",
            "_model_name": "HBoxModel",
            "_view_count": null,
            "_view_module": "@jupyter-widgets/controls",
            "_view_module_version": "1.5.0",
            "_view_name": "HBoxView",
            "box_style": "",
            "children": [
              "IPY_MODEL_d56186506f684365a93b188a8209a604",
              "IPY_MODEL_61dc74f7abe5466795936e08a862ff60",
              "IPY_MODEL_4bba60bd42dc460b97567c1d3abcf8c3"
            ],
            "layout": "IPY_MODEL_528fa2c75ac64fceac37700407ed8e6f"
          }
        },
        "d56186506f684365a93b188a8209a604": {
          "model_module": "@jupyter-widgets/controls",
          "model_name": "HTMLModel",
          "model_module_version": "1.5.0",
          "state": {
            "_dom_classes": [],
            "_model_module": "@jupyter-widgets/controls",
            "_model_module_version": "1.5.0",
            "_model_name": "HTMLModel",
            "_view_count": null,
            "_view_module": "@jupyter-widgets/controls",
            "_view_module_version": "1.5.0",
            "_view_name": "HTMLView",
            "description": "",
            "description_tooltip": null,
            "layout": "IPY_MODEL_b53af0033ea045b781aafc4258c6e358",
            "placeholder": "​",
            "style": "IPY_MODEL_b910fa857d8f452ea6a7621800643ce3",
            "value": "100%"
          }
        },
        "61dc74f7abe5466795936e08a862ff60": {
          "model_module": "@jupyter-widgets/controls",
          "model_name": "FloatProgressModel",
          "model_module_version": "1.5.0",
          "state": {
            "_dom_classes": [],
            "_model_module": "@jupyter-widgets/controls",
            "_model_module_version": "1.5.0",
            "_model_name": "FloatProgressModel",
            "_view_count": null,
            "_view_module": "@jupyter-widgets/controls",
            "_view_module_version": "1.5.0",
            "_view_name": "ProgressView",
            "bar_style": "success",
            "description": "",
            "description_tooltip": null,
            "layout": "IPY_MODEL_d82be3097dab4497984cd3198cca273f",
            "max": 4422102,
            "min": 0,
            "orientation": "horizontal",
            "style": "IPY_MODEL_568482ce1efd4980912f12f3b5f5a5e4",
            "value": 4422102
          }
        },
        "4bba60bd42dc460b97567c1d3abcf8c3": {
          "model_module": "@jupyter-widgets/controls",
          "model_name": "HTMLModel",
          "model_module_version": "1.5.0",
          "state": {
            "_dom_classes": [],
            "_model_module": "@jupyter-widgets/controls",
            "_model_module_version": "1.5.0",
            "_model_name": "HTMLModel",
            "_view_count": null,
            "_view_module": "@jupyter-widgets/controls",
            "_view_module_version": "1.5.0",
            "_view_name": "HTMLView",
            "description": "",
            "description_tooltip": null,
            "layout": "IPY_MODEL_32afc80595f545b1bda3e313b1b16ee8",
            "placeholder": "​",
            "style": "IPY_MODEL_117f37fe6c6948f8877439e39d3680c8",
            "value": " 4422102/4422102 [00:01&lt;00:00, 6746819.29it/s]"
          }
        },
        "528fa2c75ac64fceac37700407ed8e6f": {
          "model_module": "@jupyter-widgets/base",
          "model_name": "LayoutModel",
          "model_module_version": "1.2.0",
          "state": {
            "_model_module": "@jupyter-widgets/base",
            "_model_module_version": "1.2.0",
            "_model_name": "LayoutModel",
            "_view_count": null,
            "_view_module": "@jupyter-widgets/base",
            "_view_module_version": "1.2.0",
            "_view_name": "LayoutView",
            "align_content": null,
            "align_items": null,
            "align_self": null,
            "border": null,
            "bottom": null,
            "display": null,
            "flex": null,
            "flex_flow": null,
            "grid_area": null,
            "grid_auto_columns": null,
            "grid_auto_flow": null,
            "grid_auto_rows": null,
            "grid_column": null,
            "grid_gap": null,
            "grid_row": null,
            "grid_template_areas": null,
            "grid_template_columns": null,
            "grid_template_rows": null,
            "height": null,
            "justify_content": null,
            "justify_items": null,
            "left": null,
            "margin": null,
            "max_height": null,
            "max_width": null,
            "min_height": null,
            "min_width": null,
            "object_fit": null,
            "object_position": null,
            "order": null,
            "overflow": null,
            "overflow_x": null,
            "overflow_y": null,
            "padding": null,
            "right": null,
            "top": null,
            "visibility": null,
            "width": null
          }
        },
        "b53af0033ea045b781aafc4258c6e358": {
          "model_module": "@jupyter-widgets/base",
          "model_name": "LayoutModel",
          "model_module_version": "1.2.0",
          "state": {
            "_model_module": "@jupyter-widgets/base",
            "_model_module_version": "1.2.0",
            "_model_name": "LayoutModel",
            "_view_count": null,
            "_view_module": "@jupyter-widgets/base",
            "_view_module_version": "1.2.0",
            "_view_name": "LayoutView",
            "align_content": null,
            "align_items": null,
            "align_self": null,
            "border": null,
            "bottom": null,
            "display": null,
            "flex": null,
            "flex_flow": null,
            "grid_area": null,
            "grid_auto_columns": null,
            "grid_auto_flow": null,
            "grid_auto_rows": null,
            "grid_column": null,
            "grid_gap": null,
            "grid_row": null,
            "grid_template_areas": null,
            "grid_template_columns": null,
            "grid_template_rows": null,
            "height": null,
            "justify_content": null,
            "justify_items": null,
            "left": null,
            "margin": null,
            "max_height": null,
            "max_width": null,
            "min_height": null,
            "min_width": null,
            "object_fit": null,
            "object_position": null,
            "order": null,
            "overflow": null,
            "overflow_x": null,
            "overflow_y": null,
            "padding": null,
            "right": null,
            "top": null,
            "visibility": null,
            "width": null
          }
        },
        "b910fa857d8f452ea6a7621800643ce3": {
          "model_module": "@jupyter-widgets/controls",
          "model_name": "DescriptionStyleModel",
          "model_module_version": "1.5.0",
          "state": {
            "_model_module": "@jupyter-widgets/controls",
            "_model_module_version": "1.5.0",
            "_model_name": "DescriptionStyleModel",
            "_view_count": null,
            "_view_module": "@jupyter-widgets/base",
            "_view_module_version": "1.2.0",
            "_view_name": "StyleView",
            "description_width": ""
          }
        },
        "d82be3097dab4497984cd3198cca273f": {
          "model_module": "@jupyter-widgets/base",
          "model_name": "LayoutModel",
          "model_module_version": "1.2.0",
          "state": {
            "_model_module": "@jupyter-widgets/base",
            "_model_module_version": "1.2.0",
            "_model_name": "LayoutModel",
            "_view_count": null,
            "_view_module": "@jupyter-widgets/base",
            "_view_module_version": "1.2.0",
            "_view_name": "LayoutView",
            "align_content": null,
            "align_items": null,
            "align_self": null,
            "border": null,
            "bottom": null,
            "display": null,
            "flex": null,
            "flex_flow": null,
            "grid_area": null,
            "grid_auto_columns": null,
            "grid_auto_flow": null,
            "grid_auto_rows": null,
            "grid_column": null,
            "grid_gap": null,
            "grid_row": null,
            "grid_template_areas": null,
            "grid_template_columns": null,
            "grid_template_rows": null,
            "height": null,
            "justify_content": null,
            "justify_items": null,
            "left": null,
            "margin": null,
            "max_height": null,
            "max_width": null,
            "min_height": null,
            "min_width": null,
            "object_fit": null,
            "object_position": null,
            "order": null,
            "overflow": null,
            "overflow_x": null,
            "overflow_y": null,
            "padding": null,
            "right": null,
            "top": null,
            "visibility": null,
            "width": null
          }
        },
        "568482ce1efd4980912f12f3b5f5a5e4": {
          "model_module": "@jupyter-widgets/controls",
          "model_name": "ProgressStyleModel",
          "model_module_version": "1.5.0",
          "state": {
            "_model_module": "@jupyter-widgets/controls",
            "_model_module_version": "1.5.0",
            "_model_name": "ProgressStyleModel",
            "_view_count": null,
            "_view_module": "@jupyter-widgets/base",
            "_view_module_version": "1.2.0",
            "_view_name": "StyleView",
            "bar_color": null,
            "description_width": ""
          }
        },
        "32afc80595f545b1bda3e313b1b16ee8": {
          "model_module": "@jupyter-widgets/base",
          "model_name": "LayoutModel",
          "model_module_version": "1.2.0",
          "state": {
            "_model_module": "@jupyter-widgets/base",
            "_model_module_version": "1.2.0",
            "_model_name": "LayoutModel",
            "_view_count": null,
            "_view_module": "@jupyter-widgets/base",
            "_view_module_version": "1.2.0",
            "_view_name": "LayoutView",
            "align_content": null,
            "align_items": null,
            "align_self": null,
            "border": null,
            "bottom": null,
            "display": null,
            "flex": null,
            "flex_flow": null,
            "grid_area": null,
            "grid_auto_columns": null,
            "grid_auto_flow": null,
            "grid_auto_rows": null,
            "grid_column": null,
            "grid_gap": null,
            "grid_row": null,
            "grid_template_areas": null,
            "grid_template_columns": null,
            "grid_template_rows": null,
            "height": null,
            "justify_content": null,
            "justify_items": null,
            "left": null,
            "margin": null,
            "max_height": null,
            "max_width": null,
            "min_height": null,
            "min_width": null,
            "object_fit": null,
            "object_position": null,
            "order": null,
            "overflow": null,
            "overflow_x": null,
            "overflow_y": null,
            "padding": null,
            "right": null,
            "top": null,
            "visibility": null,
            "width": null
          }
        },
        "117f37fe6c6948f8877439e39d3680c8": {
          "model_module": "@jupyter-widgets/controls",
          "model_name": "DescriptionStyleModel",
          "model_module_version": "1.5.0",
          "state": {
            "_model_module": "@jupyter-widgets/controls",
            "_model_module_version": "1.5.0",
            "_model_name": "DescriptionStyleModel",
            "_view_count": null,
            "_view_module": "@jupyter-widgets/base",
            "_view_module_version": "1.2.0",
            "_view_name": "StyleView",
            "description_width": ""
          }
        },
        "63e0da830fbe461d81b2884681d0eaf8": {
          "model_module": "@jupyter-widgets/controls",
          "model_name": "HBoxModel",
          "model_module_version": "1.5.0",
          "state": {
            "_dom_classes": [],
            "_model_module": "@jupyter-widgets/controls",
            "_model_module_version": "1.5.0",
            "_model_name": "HBoxModel",
            "_view_count": null,
            "_view_module": "@jupyter-widgets/controls",
            "_view_module_version": "1.5.0",
            "_view_name": "HBoxView",
            "box_style": "",
            "children": [
              "IPY_MODEL_2e8a640dcf044353bf23c5f2f7910ee4",
              "IPY_MODEL_e7a28a173e3149da80185eb48322d7c6",
              "IPY_MODEL_4d30751eaadb4d5a92f1a6a18f7ad90e"
            ],
            "layout": "IPY_MODEL_6e4f10019733461d94d17e7953ad2881"
          }
        },
        "2e8a640dcf044353bf23c5f2f7910ee4": {
          "model_module": "@jupyter-widgets/controls",
          "model_name": "HTMLModel",
          "model_module_version": "1.5.0",
          "state": {
            "_dom_classes": [],
            "_model_module": "@jupyter-widgets/controls",
            "_model_module_version": "1.5.0",
            "_model_name": "HTMLModel",
            "_view_count": null,
            "_view_module": "@jupyter-widgets/controls",
            "_view_module_version": "1.5.0",
            "_view_name": "HTMLView",
            "description": "",
            "description_tooltip": null,
            "layout": "IPY_MODEL_bb9ce975878d4c62a91d9f22f57cb0a1",
            "placeholder": "​",
            "style": "IPY_MODEL_95b53a4d2a6c4e29ba28c47939f87448",
            "value": "100%"
          }
        },
        "e7a28a173e3149da80185eb48322d7c6": {
          "model_module": "@jupyter-widgets/controls",
          "model_name": "FloatProgressModel",
          "model_module_version": "1.5.0",
          "state": {
            "_dom_classes": [],
            "_model_module": "@jupyter-widgets/controls",
            "_model_module_version": "1.5.0",
            "_model_name": "FloatProgressModel",
            "_view_count": null,
            "_view_module": "@jupyter-widgets/controls",
            "_view_module_version": "1.5.0",
            "_view_name": "ProgressView",
            "bar_style": "success",
            "description": "",
            "description_tooltip": null,
            "layout": "IPY_MODEL_7cc57fe5ee694dae8fede304a3fd1c9d",
            "max": 5148,
            "min": 0,
            "orientation": "horizontal",
            "style": "IPY_MODEL_2fd09ceb2c1c43efb8299f9a74de89a5",
            "value": 5148
          }
        },
        "4d30751eaadb4d5a92f1a6a18f7ad90e": {
          "model_module": "@jupyter-widgets/controls",
          "model_name": "HTMLModel",
          "model_module_version": "1.5.0",
          "state": {
            "_dom_classes": [],
            "_model_module": "@jupyter-widgets/controls",
            "_model_module_version": "1.5.0",
            "_model_name": "HTMLModel",
            "_view_count": null,
            "_view_module": "@jupyter-widgets/controls",
            "_view_module_version": "1.5.0",
            "_view_name": "HTMLView",
            "description": "",
            "description_tooltip": null,
            "layout": "IPY_MODEL_9c7f06f5d34d485a98f439aa000fdbfc",
            "placeholder": "​",
            "style": "IPY_MODEL_a0494f29535145e6af7f2ca2f6e139d4",
            "value": " 5148/5148 [00:00&lt;00:00, 86362.89it/s]"
          }
        },
        "6e4f10019733461d94d17e7953ad2881": {
          "model_module": "@jupyter-widgets/base",
          "model_name": "LayoutModel",
          "model_module_version": "1.2.0",
          "state": {
            "_model_module": "@jupyter-widgets/base",
            "_model_module_version": "1.2.0",
            "_model_name": "LayoutModel",
            "_view_count": null,
            "_view_module": "@jupyter-widgets/base",
            "_view_module_version": "1.2.0",
            "_view_name": "LayoutView",
            "align_content": null,
            "align_items": null,
            "align_self": null,
            "border": null,
            "bottom": null,
            "display": null,
            "flex": null,
            "flex_flow": null,
            "grid_area": null,
            "grid_auto_columns": null,
            "grid_auto_flow": null,
            "grid_auto_rows": null,
            "grid_column": null,
            "grid_gap": null,
            "grid_row": null,
            "grid_template_areas": null,
            "grid_template_columns": null,
            "grid_template_rows": null,
            "height": null,
            "justify_content": null,
            "justify_items": null,
            "left": null,
            "margin": null,
            "max_height": null,
            "max_width": null,
            "min_height": null,
            "min_width": null,
            "object_fit": null,
            "object_position": null,
            "order": null,
            "overflow": null,
            "overflow_x": null,
            "overflow_y": null,
            "padding": null,
            "right": null,
            "top": null,
            "visibility": null,
            "width": null
          }
        },
        "bb9ce975878d4c62a91d9f22f57cb0a1": {
          "model_module": "@jupyter-widgets/base",
          "model_name": "LayoutModel",
          "model_module_version": "1.2.0",
          "state": {
            "_model_module": "@jupyter-widgets/base",
            "_model_module_version": "1.2.0",
            "_model_name": "LayoutModel",
            "_view_count": null,
            "_view_module": "@jupyter-widgets/base",
            "_view_module_version": "1.2.0",
            "_view_name": "LayoutView",
            "align_content": null,
            "align_items": null,
            "align_self": null,
            "border": null,
            "bottom": null,
            "display": null,
            "flex": null,
            "flex_flow": null,
            "grid_area": null,
            "grid_auto_columns": null,
            "grid_auto_flow": null,
            "grid_auto_rows": null,
            "grid_column": null,
            "grid_gap": null,
            "grid_row": null,
            "grid_template_areas": null,
            "grid_template_columns": null,
            "grid_template_rows": null,
            "height": null,
            "justify_content": null,
            "justify_items": null,
            "left": null,
            "margin": null,
            "max_height": null,
            "max_width": null,
            "min_height": null,
            "min_width": null,
            "object_fit": null,
            "object_position": null,
            "order": null,
            "overflow": null,
            "overflow_x": null,
            "overflow_y": null,
            "padding": null,
            "right": null,
            "top": null,
            "visibility": null,
            "width": null
          }
        },
        "95b53a4d2a6c4e29ba28c47939f87448": {
          "model_module": "@jupyter-widgets/controls",
          "model_name": "DescriptionStyleModel",
          "model_module_version": "1.5.0",
          "state": {
            "_model_module": "@jupyter-widgets/controls",
            "_model_module_version": "1.5.0",
            "_model_name": "DescriptionStyleModel",
            "_view_count": null,
            "_view_module": "@jupyter-widgets/base",
            "_view_module_version": "1.2.0",
            "_view_name": "StyleView",
            "description_width": ""
          }
        },
        "7cc57fe5ee694dae8fede304a3fd1c9d": {
          "model_module": "@jupyter-widgets/base",
          "model_name": "LayoutModel",
          "model_module_version": "1.2.0",
          "state": {
            "_model_module": "@jupyter-widgets/base",
            "_model_module_version": "1.2.0",
            "_model_name": "LayoutModel",
            "_view_count": null,
            "_view_module": "@jupyter-widgets/base",
            "_view_module_version": "1.2.0",
            "_view_name": "LayoutView",
            "align_content": null,
            "align_items": null,
            "align_self": null,
            "border": null,
            "bottom": null,
            "display": null,
            "flex": null,
            "flex_flow": null,
            "grid_area": null,
            "grid_auto_columns": null,
            "grid_auto_flow": null,
            "grid_auto_rows": null,
            "grid_column": null,
            "grid_gap": null,
            "grid_row": null,
            "grid_template_areas": null,
            "grid_template_columns": null,
            "grid_template_rows": null,
            "height": null,
            "justify_content": null,
            "justify_items": null,
            "left": null,
            "margin": null,
            "max_height": null,
            "max_width": null,
            "min_height": null,
            "min_width": null,
            "object_fit": null,
            "object_position": null,
            "order": null,
            "overflow": null,
            "overflow_x": null,
            "overflow_y": null,
            "padding": null,
            "right": null,
            "top": null,
            "visibility": null,
            "width": null
          }
        },
        "2fd09ceb2c1c43efb8299f9a74de89a5": {
          "model_module": "@jupyter-widgets/controls",
          "model_name": "ProgressStyleModel",
          "model_module_version": "1.5.0",
          "state": {
            "_model_module": "@jupyter-widgets/controls",
            "_model_module_version": "1.5.0",
            "_model_name": "ProgressStyleModel",
            "_view_count": null,
            "_view_module": "@jupyter-widgets/base",
            "_view_module_version": "1.2.0",
            "_view_name": "StyleView",
            "bar_color": null,
            "description_width": ""
          }
        },
        "9c7f06f5d34d485a98f439aa000fdbfc": {
          "model_module": "@jupyter-widgets/base",
          "model_name": "LayoutModel",
          "model_module_version": "1.2.0",
          "state": {
            "_model_module": "@jupyter-widgets/base",
            "_model_module_version": "1.2.0",
            "_model_name": "LayoutModel",
            "_view_count": null,
            "_view_module": "@jupyter-widgets/base",
            "_view_module_version": "1.2.0",
            "_view_name": "LayoutView",
            "align_content": null,
            "align_items": null,
            "align_self": null,
            "border": null,
            "bottom": null,
            "display": null,
            "flex": null,
            "flex_flow": null,
            "grid_area": null,
            "grid_auto_columns": null,
            "grid_auto_flow": null,
            "grid_auto_rows": null,
            "grid_column": null,
            "grid_gap": null,
            "grid_row": null,
            "grid_template_areas": null,
            "grid_template_columns": null,
            "grid_template_rows": null,
            "height": null,
            "justify_content": null,
            "justify_items": null,
            "left": null,
            "margin": null,
            "max_height": null,
            "max_width": null,
            "min_height": null,
            "min_width": null,
            "object_fit": null,
            "object_position": null,
            "order": null,
            "overflow": null,
            "overflow_x": null,
            "overflow_y": null,
            "padding": null,
            "right": null,
            "top": null,
            "visibility": null,
            "width": null
          }
        },
        "a0494f29535145e6af7f2ca2f6e139d4": {
          "model_module": "@jupyter-widgets/controls",
          "model_name": "DescriptionStyleModel",
          "model_module_version": "1.5.0",
          "state": {
            "_model_module": "@jupyter-widgets/controls",
            "_model_module_version": "1.5.0",
            "_model_name": "DescriptionStyleModel",
            "_view_count": null,
            "_view_module": "@jupyter-widgets/base",
            "_view_module_version": "1.2.0",
            "_view_name": "StyleView",
            "description_width": ""
          }
        }
      }
    }
  },
  "cells": [
    {
      "cell_type": "markdown",
      "source": [
        "# 초기 세팅"
      ],
      "metadata": {
        "id": "cdNvme8aKSBP"
      }
    },
    {
      "cell_type": "code",
      "metadata": {
        "id": "P1v9luAfHXdz"
      },
      "source": [
        "import torch\n",
        "import torch.nn as nn\n",
        "import torch.nn.functional as F\n",
        "import torch.optim as optim\n",
        "from torch.utils.data import Dataset, DataLoader\n",
        "\n",
        "import torchvision\n",
        "import torchvision.datasets as datasets\n",
        "import torchvision.transforms as transforms\n",
        "\n",
        "import numpy as np\n",
        "import matplotlib.pyplot as plt\n",
        "plt.style.use('seaborn-white')"
      ],
      "execution_count": null,
      "outputs": []
    },
    {
      "cell_type": "code",
      "source": [
        "!pip install torchsummary\n",
        "from torchsummary import summary"
      ],
      "metadata": {
        "colab": {
          "base_uri": "https://localhost:8080/"
        },
        "id": "D39aCPyTu2Ce",
        "outputId": "b2f3ae69-0dcd-4fe1-f9be-935a6c6044ae"
      },
      "execution_count": null,
      "outputs": [
        {
          "output_type": "stream",
          "name": "stdout",
          "text": [
            "Looking in indexes: https://pypi.org/simple, https://us-python.pkg.dev/colab-wheels/public/simple/\n",
            "Requirement already satisfied: torchsummary in /usr/local/lib/python3.8/dist-packages (1.5.1)\n"
          ]
        }
      ]
    },
    {
      "cell_type": "code",
      "source": [
        "!pip install torchinfo\n",
        "from torchinfo import summary"
      ],
      "metadata": {
        "colab": {
          "base_uri": "https://localhost:8080/"
        },
        "id": "TKu3Hg8JBLiQ",
        "outputId": "4f663bf7-e30e-499a-94e5-dce936826e8a"
      },
      "execution_count": null,
      "outputs": [
        {
          "output_type": "stream",
          "name": "stdout",
          "text": [
            "Looking in indexes: https://pypi.org/simple, https://us-python.pkg.dev/colab-wheels/public/simple/\n",
            "Collecting torchinfo\n",
            "  Downloading torchinfo-1.7.2-py3-none-any.whl (22 kB)\n",
            "Installing collected packages: torchinfo\n",
            "Successfully installed torchinfo-1.7.2\n"
          ]
        }
      ]
    },
    {
      "cell_type": "markdown",
      "metadata": {
        "id": "02LdHlTTSz5L"
      },
      "source": [
        "- 현재 GPU 설정"
      ]
    },
    {
      "cell_type": "code",
      "metadata": {
        "id": "Ybsjn80uSx3X",
        "colab": {
          "base_uri": "https://localhost:8080/"
        },
        "outputId": "e910f781-c337-4108-cdb0-65e31b1ae7cb"
      },
      "source": [
        "# colab의 runtime-type을 GPU로 설정해서, True가 나오도록 한다.\n",
        "\n",
        "torch.cuda.is_available()"
      ],
      "execution_count": null,
      "outputs": [
        {
          "output_type": "execute_result",
          "data": {
            "text/plain": [
              "True"
            ]
          },
          "metadata": {},
          "execution_count": 3
        }
      ]
    },
    {
      "cell_type": "code",
      "metadata": {
        "id": "HlPZI5wfDQhv",
        "colab": {
          "base_uri": "https://localhost:8080/"
        },
        "outputId": "7abc791b-892f-482c-f3b3-d7bd1b9d04e3"
      },
      "source": [
        "use_cuda = torch.cuda.is_available()\n",
        "device = torch.device(\"cuda\" if use_cuda else \"cpu\")\n",
        "device"
      ],
      "execution_count": null,
      "outputs": [
        {
          "output_type": "execute_result",
          "data": {
            "text/plain": [
              "device(type='cuda')"
            ]
          },
          "metadata": {},
          "execution_count": 4
        }
      ]
    },
    {
      "cell_type": "markdown",
      "source": [
        "# FashionMNIST 분류 모델 만들기\n",
        "* 흑/백(1) 이미지 데이터 분류\n",
        "* 28x28 pixel"
      ],
      "metadata": {
        "id": "OHckdZ55KeH2"
      }
    },
    {
      "cell_type": "markdown",
      "source": [
        "## 데이터 로드"
      ],
      "metadata": {
        "id": "mCrBa-gRRMEO"
      }
    },
    {
      "cell_type": "code",
      "source": [
        "# 데이터 전처리\n",
        "\n",
        "MNIST_transform = transforms.Compose([transforms.ToTensor(), # tensor로 펴준다.\n",
        "                                      transforms.Normalize((0.5,),(0.5,))]) # 정규화를 해준다."
      ],
      "metadata": {
        "id": "vYP9dGrWzDqd"
      },
      "execution_count": null,
      "outputs": []
    },
    {
      "cell_type": "code",
      "source": [
        "trainset = datasets.FashionMNIST(root='/content',\n",
        "                                 train=True, download=True,\n",
        "                                 transform=MNIST_transform)\n",
        "\n",
        "testset = datasets.FashionMNIST(root='/content',\n",
        "                                 train=False, download=True,\n",
        "                                 transform=MNIST_transform)"
      ],
      "metadata": {
        "id": "VpVsTevTWE5i",
        "colab": {
          "base_uri": "https://localhost:8080/",
          "height": 438,
          "referenced_widgets": [
            "41f259cc7a444e958de00d23ad225b8b",
            "a159f73ba1ae484eb8061988e722e54a",
            "e42a0c72039346caa50632d5f23fc3f9",
            "3dc4ae4364114f1aade79502183b1d99",
            "cf731c97004a4ad2b8da782ebb82f5c9",
            "8196aaab27604c4180747ecc361b49ab",
            "340be065b52847b6a1f3bfd07dd8add5",
            "fbaf940446c9456ab2b89288806cf19e",
            "212ca1bdca8740f9be3762afcbf096c3",
            "fce4bb9d8db74fe7a25be4f8ccb5c47f",
            "c8e90c5d238c47b9b7f65755b2ee0eda",
            "c410bc94c5c440b3a3feb1f43545ac0f",
            "56442264ef7e4da29cd72247af4b3b80",
            "e160d14e6d664ce6a2a2ea0fde3f7d22",
            "1feb38c58cdf4ee59bb0cae331303dff",
            "5de76c4ac8864c9aa3911c736f24e28f",
            "0803261662b54e6cb6f52bde752430f3",
            "8c8549c71351454f91d110be6125f8ca",
            "4221b41bc1f644e3a87d207358149d81",
            "0cd7d589a831423cb2840b3f31effe77",
            "94c6d1f1c85a4b969aeb1153e270c415",
            "d82049565a3e4e55a4a8f81aa4e66c1d",
            "a4ff8f5de5d24f5b8ffac64608c5d098",
            "d56186506f684365a93b188a8209a604",
            "61dc74f7abe5466795936e08a862ff60",
            "4bba60bd42dc460b97567c1d3abcf8c3",
            "528fa2c75ac64fceac37700407ed8e6f",
            "b53af0033ea045b781aafc4258c6e358",
            "b910fa857d8f452ea6a7621800643ce3",
            "d82be3097dab4497984cd3198cca273f",
            "568482ce1efd4980912f12f3b5f5a5e4",
            "32afc80595f545b1bda3e313b1b16ee8",
            "117f37fe6c6948f8877439e39d3680c8",
            "63e0da830fbe461d81b2884681d0eaf8",
            "2e8a640dcf044353bf23c5f2f7910ee4",
            "e7a28a173e3149da80185eb48322d7c6",
            "4d30751eaadb4d5a92f1a6a18f7ad90e",
            "6e4f10019733461d94d17e7953ad2881",
            "bb9ce975878d4c62a91d9f22f57cb0a1",
            "95b53a4d2a6c4e29ba28c47939f87448",
            "7cc57fe5ee694dae8fede304a3fd1c9d",
            "2fd09ceb2c1c43efb8299f9a74de89a5",
            "9c7f06f5d34d485a98f439aa000fdbfc",
            "a0494f29535145e6af7f2ca2f6e139d4"
          ]
        },
        "outputId": "d412e382-e2ce-4fcc-fd81-f866d0249149"
      },
      "execution_count": null,
      "outputs": [
        {
          "output_type": "stream",
          "name": "stdout",
          "text": [
            "Downloading http://fashion-mnist.s3-website.eu-central-1.amazonaws.com/train-images-idx3-ubyte.gz\n",
            "Downloading http://fashion-mnist.s3-website.eu-central-1.amazonaws.com/train-images-idx3-ubyte.gz to /content/FashionMNIST/raw/train-images-idx3-ubyte.gz\n"
          ]
        },
        {
          "output_type": "display_data",
          "data": {
            "text/plain": [
              "  0%|          | 0/26421880 [00:00<?, ?it/s]"
            ],
            "application/vnd.jupyter.widget-view+json": {
              "version_major": 2,
              "version_minor": 0,
              "model_id": "41f259cc7a444e958de00d23ad225b8b"
            }
          },
          "metadata": {}
        },
        {
          "output_type": "stream",
          "name": "stdout",
          "text": [
            "Extracting /content/FashionMNIST/raw/train-images-idx3-ubyte.gz to /content/FashionMNIST/raw\n",
            "\n",
            "Downloading http://fashion-mnist.s3-website.eu-central-1.amazonaws.com/train-labels-idx1-ubyte.gz\n",
            "Downloading http://fashion-mnist.s3-website.eu-central-1.amazonaws.com/train-labels-idx1-ubyte.gz to /content/FashionMNIST/raw/train-labels-idx1-ubyte.gz\n"
          ]
        },
        {
          "output_type": "display_data",
          "data": {
            "text/plain": [
              "  0%|          | 0/29515 [00:00<?, ?it/s]"
            ],
            "application/vnd.jupyter.widget-view+json": {
              "version_major": 2,
              "version_minor": 0,
              "model_id": "c410bc94c5c440b3a3feb1f43545ac0f"
            }
          },
          "metadata": {}
        },
        {
          "output_type": "stream",
          "name": "stdout",
          "text": [
            "Extracting /content/FashionMNIST/raw/train-labels-idx1-ubyte.gz to /content/FashionMNIST/raw\n",
            "\n",
            "Downloading http://fashion-mnist.s3-website.eu-central-1.amazonaws.com/t10k-images-idx3-ubyte.gz\n",
            "Downloading http://fashion-mnist.s3-website.eu-central-1.amazonaws.com/t10k-images-idx3-ubyte.gz to /content/FashionMNIST/raw/t10k-images-idx3-ubyte.gz\n"
          ]
        },
        {
          "output_type": "display_data",
          "data": {
            "text/plain": [
              "  0%|          | 0/4422102 [00:00<?, ?it/s]"
            ],
            "application/vnd.jupyter.widget-view+json": {
              "version_major": 2,
              "version_minor": 0,
              "model_id": "a4ff8f5de5d24f5b8ffac64608c5d098"
            }
          },
          "metadata": {}
        },
        {
          "output_type": "stream",
          "name": "stdout",
          "text": [
            "Extracting /content/FashionMNIST/raw/t10k-images-idx3-ubyte.gz to /content/FashionMNIST/raw\n",
            "\n",
            "Downloading http://fashion-mnist.s3-website.eu-central-1.amazonaws.com/t10k-labels-idx1-ubyte.gz\n",
            "Downloading http://fashion-mnist.s3-website.eu-central-1.amazonaws.com/t10k-labels-idx1-ubyte.gz to /content/FashionMNIST/raw/t10k-labels-idx1-ubyte.gz\n"
          ]
        },
        {
          "output_type": "display_data",
          "data": {
            "text/plain": [
              "  0%|          | 0/5148 [00:00<?, ?it/s]"
            ],
            "application/vnd.jupyter.widget-view+json": {
              "version_major": 2,
              "version_minor": 0,
              "model_id": "63e0da830fbe461d81b2884681d0eaf8"
            }
          },
          "metadata": {}
        },
        {
          "output_type": "stream",
          "name": "stdout",
          "text": [
            "Extracting /content/FashionMNIST/raw/t10k-labels-idx1-ubyte.gz to /content/FashionMNIST/raw\n",
            "\n"
          ]
        }
      ]
    },
    {
      "cell_type": "markdown",
      "source": [
        "input-data size 확인"
      ],
      "metadata": {
        "id": "qh7uI7ewsipv"
      }
    },
    {
      "cell_type": "code",
      "source": [
        "# batch-size=128\n",
        "train_loader128 =  DataLoader(trainset, batch_size=128, shuffle=True, num_workers=2)\n",
        "test_loader128 =  DataLoader(testset, batch_size=128, shuffle=False, num_workers=2)\n",
        "\n",
        "# batch-size=64\n",
        "train_loader64 =  DataLoader(trainset, batch_size=64, shuffle=True, num_workers=2)\n",
        "test_loader64 =  DataLoader(testset, batch_size=64, shuffle=False, num_workers=2)"
      ],
      "metadata": {
        "id": "Dz-CJf0x0nne"
      },
      "execution_count": null,
      "outputs": []
    },
    {
      "cell_type": "code",
      "source": [
        "# 128 : batch-size\n",
        "# 1 : 흑백\n",
        "# 28x28 : pixel-size\n",
        "\n",
        "images128, labels128 = next(iter(train_loader128))\n",
        "images128.shape, labels128.shape"
      ],
      "metadata": {
        "id": "iy6D1Rg_07fD",
        "colab": {
          "base_uri": "https://localhost:8080/"
        },
        "outputId": "c0167219-860c-4f46-dca6-fbf2d0c2daf7"
      },
      "execution_count": null,
      "outputs": [
        {
          "output_type": "execute_result",
          "data": {
            "text/plain": [
              "(torch.Size([128, 1, 28, 28]), torch.Size([128]))"
            ]
          },
          "metadata": {},
          "execution_count": 8
        }
      ]
    },
    {
      "cell_type": "code",
      "source": [
        "# 64 : batch-size\n",
        "# 1 : 흑백\n",
        "# 28x28 : pixel-size\n",
        "\n",
        "images64, labels64 = next(iter(train_loader64))\n",
        "images64.shape, labels64.shape"
      ],
      "metadata": {
        "colab": {
          "base_uri": "https://localhost:8080/"
        },
        "id": "AotS6123m9sK",
        "outputId": "112079d0-0b7e-41f8-99f1-3374203c1515"
      },
      "execution_count": null,
      "outputs": [
        {
          "output_type": "execute_result",
          "data": {
            "text/plain": [
              "(torch.Size([64, 1, 28, 28]), torch.Size([64]))"
            ]
          },
          "metadata": {},
          "execution_count": 9
        }
      ]
    },
    {
      "cell_type": "code",
      "source": [
        "# 숫자 label에 해당되는 값\n",
        "\n",
        "labels_map = {\n",
        "    0: 'T-Shirt',\n",
        "    1: 'Trouser',\n",
        "    2: 'Pullover',\n",
        "    3: 'Dress',\n",
        "    4: 'Coat',\n",
        "    5: 'Sandal',\n",
        "    6: 'Shirt',\n",
        "    7: 'Sneaker',\n",
        "    8: 'Bag',\n",
        "    9: 'Ankle Boot'\n",
        "}"
      ],
      "metadata": {
        "id": "g4Nd4uLGTEDy"
      },
      "execution_count": null,
      "outputs": []
    },
    {
      "cell_type": "code",
      "source": [
        "# 데이터 확인\n",
        "\n",
        "figure = plt.figure(figsize=(12,12))\n",
        "cols, rows = 4, 1\n",
        "\n",
        "for i in range(1, cols * rows + 1):\n",
        "    image = images128[i].squeeze()\n",
        "    label_idx = labels128[i].item() # y_label\n",
        "    label = labels_map[label_idx] # 위에서 해당되는 label\n",
        "\n",
        "    figure.add_subplot(rows, cols, i)\n",
        "    plt.title(label)\n",
        "    plt.axis('off')\n",
        "    plt.imshow(image, cmap='gray')\n",
        "\n",
        "plt.show()"
      ],
      "metadata": {
        "id": "_u5_UEAH09SB",
        "colab": {
          "base_uri": "https://localhost:8080/",
          "height": 191
        },
        "outputId": "f98745b5-80cb-4e0f-9f42-d346d574a790"
      },
      "execution_count": null,
      "outputs": [
        {
          "output_type": "display_data",
          "data": {
            "text/plain": [
              "<Figure size 864x864 with 4 Axes>"
            ],
            "image/png": "[encoded data removed]"
          },
          "metadata": {}
        }
      ]
    },
    {
      "cell_type": "markdown",
      "source": [
        "## 모델 1 생성\n",
        "* 10개의 convolution-layer(Conv2d)와 2개의 fully-connected(fc)로 이루어진 모델\n",
        "* Total params: 28,784"
      ],
      "metadata": {
        "id": "EFPYE3UUnpmX"
      }
    },
    {
      "cell_type": "markdown",
      "source": [
        "input-data size\n",
        "* train_loader128(batch-size;128) : 128, 1, 28, 28\n",
        "* train_loader64(batch-size;64) : 64, 1, 28, 28\n",
        "\n",
        "\n",
        "구현해야하는 모델 정보<br>\n",
        "* convolution-layer 1\n",
        "* maxpooling-layer\n",
        "* convolution-layer 2\n",
        "* convolution-layer 3\n",
        "* convolution-layer 4\n",
        "* convolution-layer 5\n",
        "* convolution-layer 6\n",
        "* convolution-layer 7\n",
        "* convolution-layer 8\n",
        "* convolution-layer 9\n",
        "* maxpooling-layer\n",
        "* convolution-layer 10\n",
        "* flatten\n",
        "* fc1\n",
        "* fc2\n",
        "\n",
        "추가 정보\n",
        "* 활성화함수 : relu\n",
        "(단, maxpooling과 마지막 fc2에는 보통적으로 활성화함수를 사용하지 않는다.)\n",
        "* flatten의 경우, weights가 들어가지 않는다. 즉, layer라고는 볼 수 없다.\n",
        "\n",
        "모델의 layer를 통과함에 따라 데이터의 크기 변화는 다음과 같다.\n",
        "1. batch-size128 -> torch.Size([128, 1, 28, 28]) 으로 시작\n",
        "2. batch-size;64 -> torch.Size([64, 1, 28, 28]) 으로 시작\n",
        "> * torch.Size([128 or 64, 5, 30, 30])\n",
        "> * torch.Size([128 or 64, 5, 15, 15])\n",
        "> * torch.Size([128 or 64, 7, 15, 15])\n",
        "> * torch.Size([128 or 64, 16, 16, 16])\n",
        "> * torch.Size([128 or 64, 19, 15, 15])\n",
        "> * torch.Size([128 or 64, 29, 13, 13])\n",
        "> * torch.Size([128 or 64, 29, 14, 14])\n",
        "> * torch.Size([128 or 64, 6, 12, 12])\n",
        "> * torch.Size([128 or 64, 2, 12, 12])\n",
        "> * torch.Size([128 or 64, 10, 7, 7])\n",
        "> * torch.Size([128 or 64, 20, 7, 7])\n",
        "> * torch.Size([128 or 64, 20, 3, 3])\n",
        "> * torch.Size([128 or 64, 180])\n",
        "> * torch.Size([128 or 64, 86])\n",
        "> * torch.Size([128 or 64, 10]) "
      ],
      "metadata": {
        "id": "orF-z9choFaB"
      }
    },
    {
      "cell_type": "code",
      "source": [
        "class CNN_Model1(nn.Module):\n",
        "    def __init__(self):\n",
        "        super(CNN_Model1, self).__init__()\n",
        "\n",
        "\n",
        "\n",
        "        self.conv1 = nn.Conv2d(in_channels=1, out_channels=5, kernel_size=3, stride=1, padding=2)\n",
        "        # in-channels = 1 <- 흑/백\n",
        "        # out-channels = 5\n",
        "        # kernel_size / filter-size = 2x2 -> f=3\n",
        "        # stride = 1(default) -> s=1\n",
        "        # padding = 2(default) -> p=2\n",
        "        # input-data pixel size = 28x28 -> n=28\n",
        "        # (n-f+2p)/s + 1 = new n\n",
        "        # (28-3+2x2)/1 + 1 = 30\n",
        "    \n",
        "        # maxpool : n=30 -> 15\n",
        "\n",
        "        self.conv2 = nn.Conv2d(5, 7, 3, padding=1)\n",
        "        # in-channels = 5 <- 이전것의 out-channels\n",
        "        # out-channels = 7\n",
        "        # filter-size = 3x3\n",
        "        # stride = 1(default)\n",
        "        # padding = 1\n",
        "        # (n-f+2p)/s + 1 = new n    \n",
        "        # (15-3+2x1)/1 + 1 = 15\n",
        "\n",
        "        self.conv3 = nn.Conv2d(7,16,2,padding=1)\n",
        "        self.conv4 = nn.Conv2d(16,19,2,padding=0)\n",
        "        self.conv5 = nn.Conv2d(19,29,3,padding=0)\n",
        "        self.conv6 = nn.Conv2d(29,29,2,padding=1)\n",
        "        self.conv7 = nn.Conv2d(29,6,3,padding=0)\n",
        "        self.conv8 = nn.Conv2d(6,2,1,padding=0)\n",
        "        self.conv9 = nn.Conv2d(2,10,2,2,1)\n",
        "        self.conv10 = nn.Conv2d(10,20,1,padding=0)\n",
        "\n",
        "        self.fc1 = nn.Linear(180, 86)\n",
        "        self.fc2 = nn.Linear(86, 10)\n",
        "\n",
        "    def forward(self, x):\n",
        "        x = F.relu(self.conv1(x))\n",
        "        x = F.max_pool2d(x, (2,2))\n",
        "        x = F.relu(self.conv2(x))\n",
        "        x = F.relu(self.conv3(x))\n",
        "        x = F.relu(self.conv4(x))\n",
        "        x = F.relu(self.conv5(x))\n",
        "        x = F.relu(self.conv6(x))\n",
        "        x = F.relu(self.conv7(x))\n",
        "        x = F.relu(self.conv8(x))\n",
        "        x = F.relu(self.conv9(x))\n",
        "        x = F.max_pool2d(x, (2,2))\n",
        "        x = F.relu(self.conv10(x))\n",
        "\n",
        "        x = x.view(-1, self.num_flat_features(x)) # num_flat_features : 아래에서 정의\n",
        "\n",
        "        x = F.relu(self.fc1(x))\n",
        "        x = self.fc2(x)\n",
        "        return x\n",
        "    \n",
        "    def num_flat_features(self, x): # 처음 dim-size을 제외하고, 모두 곱한 값을 반환해준다.\n",
        "        size = x.size()[1:]\n",
        "        num_features = 1\n",
        "        for s in size:\n",
        "            num_features *= s\n",
        "        \n",
        "        return num_features"
      ],
      "metadata": {
        "id": "EedVZU7Knv0X"
      },
      "execution_count": null,
      "outputs": []
    },
    {
      "cell_type": "code",
      "source": [
        "# 모델객체 생성\n",
        "DeepConv_net128 = CNN_Model1().to(device)\n",
        "DeepConv_net64 = CNN_Model1().to(device)\n",
        "\n",
        "print(DeepConv_net128)"
      ],
      "metadata": {
        "colab": {
          "base_uri": "https://localhost:8080/"
        },
        "id": "RiMZ7sX6oDn3",
        "outputId": "15d4e588-97f8-47ee-9552-2b197272fff4"
      },
      "execution_count": null,
      "outputs": [
        {
          "output_type": "stream",
          "name": "stdout",
          "text": [
            "CNN_Model1(\n",
            "  (conv1): Conv2d(1, 5, kernel_size=(3, 3), stride=(1, 1), padding=(2, 2))\n",
            "  (conv2): Conv2d(5, 7, kernel_size=(3, 3), stride=(1, 1), padding=(1, 1))\n",
            "  (conv3): Conv2d(7, 16, kernel_size=(2, 2), stride=(1, 1), padding=(1, 1))\n",
            "  (conv4): Conv2d(16, 19, kernel_size=(2, 2), stride=(1, 1))\n",
            "  (conv5): Conv2d(19, 29, kernel_size=(3, 3), stride=(1, 1))\n",
            "  (conv6): Conv2d(29, 29, kernel_size=(2, 2), stride=(1, 1), padding=(1, 1))\n",
            "  (conv7): Conv2d(29, 6, kernel_size=(3, 3), stride=(1, 1))\n",
            "  (conv8): Conv2d(6, 2, kernel_size=(1, 1), stride=(1, 1))\n",
            "  (conv9): Conv2d(2, 10, kernel_size=(2, 2), stride=(2, 2), padding=(1, 1))\n",
            "  (conv10): Conv2d(10, 20, kernel_size=(1, 1), stride=(1, 1))\n",
            "  (fc1): Linear(in_features=180, out_features=86, bias=True)\n",
            "  (fc2): Linear(in_features=86, out_features=10, bias=True)\n",
            ")\n"
          ]
        }
      ]
    },
    {
      "cell_type": "code",
      "source": [
        "input = images128.to(device)\n",
        "input.size()"
      ],
      "metadata": {
        "colab": {
          "base_uri": "https://localhost:8080/"
        },
        "id": "8gBjDmoc7fJh",
        "outputId": "bfffaf23-dcec-4c22-c4f5-b5ad16a93a96"
      },
      "execution_count": null,
      "outputs": [
        {
          "output_type": "execute_result",
          "data": {
            "text/plain": [
              "torch.Size([128, 1, 28, 28])"
            ]
          },
          "metadata": {},
          "execution_count": 66
        }
      ]
    },
    {
      "cell_type": "code",
      "source": [
        "output = DeepConv_net128.forward(input)\n",
        "output.size()"
      ],
      "metadata": {
        "colab": {
          "base_uri": "https://localhost:8080/"
        },
        "id": "tflPlTme7h9x",
        "outputId": "f673bb07-50a4-4be7-926a-c5c81cb00931"
      },
      "execution_count": null,
      "outputs": [
        {
          "output_type": "execute_result",
          "data": {
            "text/plain": [
              "torch.Size([128, 10])"
            ]
          },
          "metadata": {},
          "execution_count": 67
        }
      ]
    },
    {
      "cell_type": "code",
      "source": [
        "summary(DeepConv_net128, input_size=(128, 1, 28, 28))"
      ],
      "metadata": {
        "colab": {
          "base_uri": "https://localhost:8080/"
        },
        "id": "DSH3qCADujAi",
        "outputId": "c2544380-940a-4d5c-c2da-596147fac57c"
      },
      "execution_count": null,
      "outputs": [
        {
          "output_type": "execute_result",
          "data": {
            "text/plain": [
              "==========================================================================================\n",
              "Layer (type:depth-idx)                   Output Shape              Param #\n",
              "==========================================================================================\n",
              "CNN_Model1                               [128, 10]                 --\n",
              "├─Conv2d: 1-1                            [128, 5, 30, 30]          50\n",
              "├─Conv2d: 1-2                            [128, 7, 15, 15]          322\n",
              "├─Conv2d: 1-3                            [128, 16, 16, 16]         464\n",
              "├─Conv2d: 1-4                            [128, 19, 15, 15]         1,235\n",
              "├─Conv2d: 1-5                            [128, 29, 13, 13]         4,988\n",
              "├─Conv2d: 1-6                            [128, 29, 14, 14]         3,393\n",
              "├─Conv2d: 1-7                            [128, 6, 12, 12]          1,572\n",
              "├─Conv2d: 1-8                            [128, 2, 12, 12]          14\n",
              "├─Conv2d: 1-9                            [128, 10, 7, 7]           90\n",
              "├─Conv2d: 1-10                           [128, 20, 3, 3]           220\n",
              "├─Linear: 1-11                           [128, 86]                 15,566\n",
              "├─Linear: 1-12                           [128, 10]                 870\n",
              "==========================================================================================\n",
              "Total params: 28,784\n",
              "Trainable params: 28,784\n",
              "Non-trainable params: 0\n",
              "Total mult-adds (M): 290.98\n",
              "==========================================================================================\n",
              "Input size (MB): 0.40\n",
              "Forward/backward pass size (MB): 27.60\n",
              "Params size (MB): 0.12\n",
              "Estimated Total Size (MB): 28.11\n",
              "=========================================================================================="
            ]
          },
          "metadata": {},
          "execution_count": 68
        }
      ]
    },
    {
      "cell_type": "code",
      "source": [
        "input = images64.to(device)\n",
        "input.size()"
      ],
      "metadata": {
        "colab": {
          "base_uri": "https://localhost:8080/"
        },
        "outputId": "66a390bc-e4bc-499a-85fb-fc271d8fac63",
        "id": "jcybKk5Nvj4Z"
      },
      "execution_count": null,
      "outputs": [
        {
          "output_type": "execute_result",
          "data": {
            "text/plain": [
              "torch.Size([64, 1, 28, 28])"
            ]
          },
          "metadata": {},
          "execution_count": 69
        }
      ]
    },
    {
      "cell_type": "code",
      "source": [
        "output = DeepConv_net64.forward(input)\n",
        "output.size()"
      ],
      "metadata": {
        "colab": {
          "base_uri": "https://localhost:8080/"
        },
        "outputId": "6e9a761c-9f26-4763-96f1-6becfecbff5a",
        "id": "y2PZCHyyvj4a"
      },
      "execution_count": null,
      "outputs": [
        {
          "output_type": "execute_result",
          "data": {
            "text/plain": [
              "torch.Size([64, 10])"
            ]
          },
          "metadata": {},
          "execution_count": 70
        }
      ]
    },
    {
      "cell_type": "code",
      "source": [
        "summary(DeepConv_net64, input_size=(128, 1, 28, 28))"
      ],
      "metadata": {
        "colab": {
          "base_uri": "https://localhost:8080/"
        },
        "id": "uh1pmRXcvZP8",
        "outputId": "516a6d7b-82b9-41cb-81a6-314f62178836"
      },
      "execution_count": null,
      "outputs": [
        {
          "output_type": "execute_result",
          "data": {
            "text/plain": [
              "==========================================================================================\n",
              "Layer (type:depth-idx)                   Output Shape              Param #\n",
              "==========================================================================================\n",
              "CNN_Model1                               [128, 10]                 --\n",
              "├─Conv2d: 1-1                            [128, 5, 30, 30]          50\n",
              "├─Conv2d: 1-2                            [128, 7, 15, 15]          322\n",
              "├─Conv2d: 1-3                            [128, 16, 16, 16]         464\n",
              "├─Conv2d: 1-4                            [128, 19, 15, 15]         1,235\n",
              "├─Conv2d: 1-5                            [128, 29, 13, 13]         4,988\n",
              "├─Conv2d: 1-6                            [128, 29, 14, 14]         3,393\n",
              "├─Conv2d: 1-7                            [128, 6, 12, 12]          1,572\n",
              "├─Conv2d: 1-8                            [128, 2, 12, 12]          14\n",
              "├─Conv2d: 1-9                            [128, 10, 7, 7]           90\n",
              "├─Conv2d: 1-10                           [128, 20, 3, 3]           220\n",
              "├─Linear: 1-11                           [128, 86]                 15,566\n",
              "├─Linear: 1-12                           [128, 10]                 870\n",
              "==========================================================================================\n",
              "Total params: 28,784\n",
              "Trainable params: 28,784\n",
              "Non-trainable params: 0\n",
              "Total mult-adds (M): 290.98\n",
              "==========================================================================================\n",
              "Input size (MB): 0.40\n",
              "Forward/backward pass size (MB): 27.60\n",
              "Params size (MB): 0.12\n",
              "Estimated Total Size (MB): 28.11\n",
              "=========================================================================================="
            ]
          },
          "metadata": {},
          "execution_count": 71
        }
      ]
    },
    {
      "cell_type": "markdown",
      "source": [
        "## 모델 2 생성\n",
        "* 2개의 convolution-layer(Conv2d)와 5개의 fully-connected(fc)로 이루어진 모델\n",
        "* Total params: 9,516,488"
      ],
      "metadata": {
        "id": "xVxKI_rwCvhI"
      }
    },
    {
      "cell_type": "markdown",
      "source": [
        "input-data size\n",
        "* train_loader128(batch-size;128) : 128, 1, 28, 28\n",
        "* train_loader64(batch-size;64) : 64, 1, 28, 28\n",
        "\n",
        "\n",
        "구현해야하는 모델 정보<br>\n",
        "* convolution-layer 1\n",
        "* maxpooling-layer\n",
        "* convolution-layer 2\n",
        "* flatten\n",
        "* fc1\n",
        "* fc2\n",
        "* fc3\n",
        "* fc4\n",
        "* fc5\n",
        "\n",
        "추가 정보\n",
        "* 활성화함수 : relu\n",
        "(단, maxpooling과 마지막 fc5에는 보통적으로 활성화함수를 사용하지 않는다.)\n",
        "* flatten의 경우, weights가 들어가지 않는다. 즉, layer라고는 볼 수 없다.\n",
        "\n",
        "모델의 layer를 통과함에 따라 데이터의 크기 변화는 다음과 같다.\n",
        "\n",
        "1. batch-size128 -> torch.Size([128, 1, 28, 28]) 으로 시작\n",
        "2. batch-size;64 -> torch.Size([64, 1, 28, 28]) 으로 시작\n",
        "> * torch.Size([128 or 64, 5, 30, 30])\n",
        "> * torch.Size([128 or 64, 5, 15, 15])\n",
        "> * torch.Size([128 or 64, 7, 15, 15])\n",
        "> * torch.Size([128 or 64, 1575])\n",
        "> * torch.Size([128 or 64, 3000])\n",
        "> * torch.Size([128 or 64, 1500])\n",
        "> * torch.Size([128 or 64, 180])\n",
        "> * torch.Size([128 or 64, 86])\n",
        "> * torch.Size([128 or 64, 10])"
      ],
      "metadata": {
        "id": "uN5s0Re-CvhI"
      }
    },
    {
      "cell_type": "code",
      "source": [
        "class CNN_Model2(nn.Module):\n",
        "    def __init__(self):\n",
        "        super(CNN_Model2, self).__init__()\n",
        "\n",
        "        self.conv1 = nn.Conv2d(in_channels=1, out_channels=5, kernel_size=3, stride=1, padding=2)\n",
        "        self.conv2 = nn.Conv2d(5, 7, 3, padding=1)\n",
        "        self.fc1 = nn.Linear(1575, 3000)\n",
        "        self.fc2 = nn.Linear(3000, 1500)\n",
        "        self.fc3 = nn.Linear(1500, 180)\n",
        "        self.fc4 = nn.Linear(180, 86)\n",
        "        self.fc5 = nn.Linear(86, 10)\n",
        "\n",
        "    def forward(self, x):\n",
        "        x = F.relu(self.conv1(x))\n",
        "        x = F.max_pool2d(x, (2, 2))\n",
        "        x = F.relu(self.conv2(x))\n",
        "        x = x.view(-1, self.num_flat_features(x))\n",
        "        x = F.relu(self.fc1(x))\n",
        "        x = F.relu(self.fc2(x))\n",
        "        x = F.relu(self.fc3(x))\n",
        "        x = F.relu(self.fc4(x))\n",
        "        x = self.fc5(x)\n",
        "        return x\n",
        "    \n",
        "    def num_flat_features(self, x): # 처음 dim-size을 제외하고, 모두 곱한 값을 반환해준다.\n",
        "        size = x.size()[1:]\n",
        "        num_features = 1\n",
        "        for s in size:\n",
        "            num_features *= s\n",
        "        \n",
        "        return num_features"
      ],
      "metadata": {
        "id": "JfSM-k0DCvhI"
      },
      "execution_count": null,
      "outputs": []
    },
    {
      "cell_type": "code",
      "source": [
        "# 모델객체 생성\n",
        "DeepFC_net128 = CNN_Model2().to(device)\n",
        "DeepFC_net64 = CNN_Model2().to(device)\n",
        "\n",
        "print(DeepFC_net128)"
      ],
      "metadata": {
        "colab": {
          "base_uri": "https://localhost:8080/"
        },
        "outputId": "c6ba786f-e685-4a3c-aa6e-6cdf6166e1a1",
        "id": "QQ_AnPi5CvhI"
      },
      "execution_count": null,
      "outputs": [
        {
          "output_type": "stream",
          "name": "stdout",
          "text": [
            "CNN_Model2(\n",
            "  (conv1): Conv2d(1, 5, kernel_size=(3, 3), stride=(1, 1), padding=(2, 2))\n",
            "  (conv2): Conv2d(5, 7, kernel_size=(3, 3), stride=(1, 1), padding=(1, 1))\n",
            "  (fc1): Linear(in_features=1575, out_features=3000, bias=True)\n",
            "  (fc2): Linear(in_features=3000, out_features=1500, bias=True)\n",
            "  (fc3): Linear(in_features=1500, out_features=180, bias=True)\n",
            "  (fc4): Linear(in_features=180, out_features=86, bias=True)\n",
            "  (fc5): Linear(in_features=86, out_features=10, bias=True)\n",
            ")\n"
          ]
        }
      ]
    },
    {
      "cell_type": "code",
      "source": [
        "input = images128.to(device)\n",
        "input.size()"
      ],
      "metadata": {
        "colab": {
          "base_uri": "https://localhost:8080/"
        },
        "outputId": "6aa4391d-6930-4c7e-863e-58d94fa64c8c",
        "id": "S9IVOG3pwgoS"
      },
      "execution_count": null,
      "outputs": [
        {
          "output_type": "execute_result",
          "data": {
            "text/plain": [
              "torch.Size([128, 1, 28, 28])"
            ]
          },
          "metadata": {},
          "execution_count": 74
        }
      ]
    },
    {
      "cell_type": "code",
      "source": [
        "output = DeepFC_net128.forward(input)\n",
        "output.size()"
      ],
      "metadata": {
        "colab": {
          "base_uri": "https://localhost:8080/"
        },
        "outputId": "832dd65d-4b21-4782-ea39-ca2740efa180",
        "id": "p4ydm5qCwgoT"
      },
      "execution_count": null,
      "outputs": [
        {
          "output_type": "execute_result",
          "data": {
            "text/plain": [
              "torch.Size([128, 10])"
            ]
          },
          "metadata": {},
          "execution_count": 75
        }
      ]
    },
    {
      "cell_type": "code",
      "source": [
        "summary(DeepFC_net128, input_size=(128, 1, 28, 28))"
      ],
      "metadata": {
        "colab": {
          "base_uri": "https://localhost:8080/"
        },
        "outputId": "5de2e4b4-6b3f-4ddc-ec0d-585dd7e5a91a",
        "id": "Q3uN6Dw6wgoT"
      },
      "execution_count": null,
      "outputs": [
        {
          "output_type": "execute_result",
          "data": {
            "text/plain": [
              "==========================================================================================\n",
              "Layer (type:depth-idx)                   Output Shape              Param #\n",
              "==========================================================================================\n",
              "CNN_Model2                               [128, 10]                 --\n",
              "├─Conv2d: 1-1                            [128, 5, 30, 30]          50\n",
              "├─Conv2d: 1-2                            [128, 7, 15, 15]          322\n",
              "├─Linear: 1-3                            [128, 3000]               4,728,000\n",
              "├─Linear: 1-4                            [128, 1500]               4,501,500\n",
              "├─Linear: 1-5                            [128, 180]                270,180\n",
              "├─Linear: 1-6                            [128, 86]                 15,566\n",
              "├─Linear: 1-7                            [128, 10]                 870\n",
              "==========================================================================================\n",
              "Total params: 9,516,488\n",
              "Trainable params: 9,516,488\n",
              "Non-trainable params: 0\n",
              "Total mult-adds (G): 1.23\n",
              "==========================================================================================\n",
              "Input size (MB): 0.40\n",
              "Forward/backward pass size (MB): 11.11\n",
              "Params size (MB): 38.07\n",
              "Estimated Total Size (MB): 49.58\n",
              "=========================================================================================="
            ]
          },
          "metadata": {},
          "execution_count": 76
        }
      ]
    },
    {
      "cell_type": "code",
      "source": [
        "input = images64.to(device)\n",
        "input.size()"
      ],
      "metadata": {
        "colab": {
          "base_uri": "https://localhost:8080/"
        },
        "outputId": "858a7f1d-0734-4c0a-e285-064ff6abbdad",
        "id": "d9t36x7bwgoT"
      },
      "execution_count": null,
      "outputs": [
        {
          "output_type": "execute_result",
          "data": {
            "text/plain": [
              "torch.Size([64, 1, 28, 28])"
            ]
          },
          "metadata": {},
          "execution_count": 77
        }
      ]
    },
    {
      "cell_type": "code",
      "source": [
        "output = DeepFC_net64.forward(input)\n",
        "output.size()"
      ],
      "metadata": {
        "colab": {
          "base_uri": "https://localhost:8080/"
        },
        "outputId": "e0c4c07d-bfff-473c-8c76-f24796452a1d",
        "id": "GFHweMakwgoT"
      },
      "execution_count": null,
      "outputs": [
        {
          "output_type": "execute_result",
          "data": {
            "text/plain": [
              "torch.Size([64, 10])"
            ]
          },
          "metadata": {},
          "execution_count": 78
        }
      ]
    },
    {
      "cell_type": "code",
      "source": [
        "summary(DeepFC_net64, input_size=(64, 1, 28, 28))"
      ],
      "metadata": {
        "colab": {
          "base_uri": "https://localhost:8080/"
        },
        "outputId": "8d22a032-89fc-4089-e591-3385488df8dd",
        "id": "2VIZ4WCCwgoT"
      },
      "execution_count": null,
      "outputs": [
        {
          "output_type": "execute_result",
          "data": {
            "text/plain": [
              "==========================================================================================\n",
              "Layer (type:depth-idx)                   Output Shape              Param #\n",
              "==========================================================================================\n",
              "CNN_Model2                               [64, 10]                  --\n",
              "├─Conv2d: 1-1                            [64, 5, 30, 30]           50\n",
              "├─Conv2d: 1-2                            [64, 7, 15, 15]           322\n",
              "├─Linear: 1-3                            [64, 3000]                4,728,000\n",
              "├─Linear: 1-4                            [64, 1500]                4,501,500\n",
              "├─Linear: 1-5                            [64, 180]                 270,180\n",
              "├─Linear: 1-6                            [64, 86]                  15,566\n",
              "├─Linear: 1-7                            [64, 10]                  870\n",
              "==========================================================================================\n",
              "Total params: 9,516,488\n",
              "Trainable params: 9,516,488\n",
              "Non-trainable params: 0\n",
              "Total mult-adds (M): 616.55\n",
              "==========================================================================================\n",
              "Input size (MB): 0.20\n",
              "Forward/backward pass size (MB): 5.56\n",
              "Params size (MB): 38.07\n",
              "Estimated Total Size (MB): 43.82\n",
              "=========================================================================================="
            ]
          },
          "metadata": {},
          "execution_count": 79
        }
      ]
    },
    {
      "cell_type": "markdown",
      "source": [
        "## 손실함수와 옵티마이저"
      ],
      "metadata": {
        "id": "klpXGc2tCimP"
      }
    },
    {
      "cell_type": "code",
      "source": [
        "criterion = nn.CrossEntropyLoss()\n",
        "\n",
        "optimizerDC_128 = optim.SGD(DeepConv_net128.parameters(), lr=0.001, momentum=0.9)\n",
        "optimizerDC_64 = optim.SGD(DeepConv_net64.parameters(), lr=0.001, momentum=0.9)\n",
        "optimizerFC_128 = optim.SGD(DeepFC_net128.parameters(), lr=0.001, momentum=0.9)\n",
        "optimizerFC_64 = optim.SGD(DeepFC_net64.parameters(), lr=0.001, momentum=0.9)"
      ],
      "metadata": {
        "id": "69AHX-ZXClOm"
      },
      "execution_count": null,
      "outputs": []
    },
    {
      "cell_type": "markdown",
      "source": [
        "## 모델 학습"
      ],
      "metadata": {
        "id": "huNh3EnhJLyh"
      }
    },
    {
      "cell_type": "markdown",
      "source": [
        "### 1. DeepConv_net128\n",
        "* 10개의 Convolution-layer & 2개의 fc-layer\n",
        "* 128 batch-size"
      ],
      "metadata": {
        "id": "W-2Q7c6-JW9z"
      }
    },
    {
      "cell_type": "code",
      "source": [
        "for epoch in range(10):\n",
        "\n",
        "    running_loss = 0.0\n",
        "\n",
        "    for i, data in enumerate(train_loader128, start=0):\n",
        "        inputs, labels = data[0].to(device), data[1].to(device)\n",
        "\n",
        "        optimizerDC_128.zero_grad() # epoch마다 gradient 0으로 초기화\n",
        "\n",
        "        outputs = DeepConv_net128(inputs) # y_pred = f(X)\n",
        "        loss = criterion(outputs, labels) # CrossEntropyLoss; 0~1 사이값\n",
        "        loss.backward() # back-propagation; gradient 계산\n",
        "        optimizerDC_128.step() # parameters(weights) update\n",
        "\n",
        "        running_loss += loss.item() # 그냥 전체적인 비교를 위해 누적함\n",
        "\n",
        "        if i % 100 == 99: # 100번 마다 확인; epoch=10, iter(=i)=469, batch=128\n",
        "            print('Epoch: {}, Iter: {}, Loss: {}'.format(epoch+1, i+1, running_loss/2000))\n",
        "            running_loss = 0.0"
      ],
      "metadata": {
        "colab": {
          "base_uri": "https://localhost:8080/"
        },
        "id": "y-_UvdNWJR-r",
        "outputId": "bf3355bd-1e37-45d5-83a9-a3f5fe08ddd3"
      },
      "execution_count": null,
      "outputs": [
        {
          "output_type": "stream",
          "name": "stdout",
          "text": [
            "Epoch: 1, Iter: 100, Loss: 0.11527664482593536\n",
            "Epoch: 1, Iter: 200, Loss: 0.11522419607639313\n",
            "Epoch: 1, Iter: 300, Loss: 0.11522263312339782\n",
            "Epoch: 1, Iter: 400, Loss: 0.11521088480949401\n",
            "Epoch: 2, Iter: 100, Loss: 0.11517347049713135\n",
            "Epoch: 2, Iter: 200, Loss: 0.11512159311771393\n",
            "Epoch: 2, Iter: 300, Loss: 0.11515030777454376\n",
            "Epoch: 2, Iter: 400, Loss: 0.11516574919223785\n",
            "Epoch: 3, Iter: 100, Loss: 0.11514479506015778\n",
            "Epoch: 3, Iter: 200, Loss: 0.11514024698734283\n",
            "Epoch: 3, Iter: 300, Loss: 0.11512989592552185\n",
            "Epoch: 3, Iter: 400, Loss: 0.11513272869586945\n",
            "Epoch: 4, Iter: 100, Loss: 0.11513517045974732\n",
            "Epoch: 4, Iter: 200, Loss: 0.11512883841991424\n",
            "Epoch: 4, Iter: 300, Loss: 0.11513325035572052\n",
            "Epoch: 4, Iter: 400, Loss: 0.11513673341274261\n",
            "Epoch: 5, Iter: 100, Loss: 0.11513333332538604\n",
            "Epoch: 5, Iter: 200, Loss: 0.11513241565227508\n",
            "Epoch: 5, Iter: 300, Loss: 0.11513211369514466\n",
            "Epoch: 5, Iter: 400, Loss: 0.11513308525085449\n",
            "Epoch: 6, Iter: 100, Loss: 0.11513172805309296\n",
            "Epoch: 6, Iter: 200, Loss: 0.11512952542304992\n",
            "Epoch: 6, Iter: 300, Loss: 0.11513433277606964\n",
            "Epoch: 6, Iter: 400, Loss: 0.1151304451227188\n",
            "Epoch: 7, Iter: 100, Loss: 0.11512960577011108\n",
            "Epoch: 7, Iter: 200, Loss: 0.11513254380226136\n",
            "Epoch: 7, Iter: 300, Loss: 0.11513416242599488\n",
            "Epoch: 7, Iter: 400, Loss: 0.115132049202919\n",
            "Epoch: 8, Iter: 100, Loss: 0.11513060903549194\n",
            "Epoch: 8, Iter: 200, Loss: 0.11513079130649567\n",
            "Epoch: 8, Iter: 300, Loss: 0.11513302898406982\n",
            "Epoch: 8, Iter: 400, Loss: 0.11513222646713257\n",
            "Epoch: 9, Iter: 100, Loss: 0.11513033854961395\n",
            "Epoch: 9, Iter: 200, Loss: 0.11513258564472198\n",
            "Epoch: 9, Iter: 300, Loss: 0.1151289130449295\n",
            "Epoch: 9, Iter: 400, Loss: 0.11513410031795501\n",
            "Epoch: 10, Iter: 100, Loss: 0.11512936198711396\n",
            "Epoch: 10, Iter: 200, Loss: 0.11513385915756226\n",
            "Epoch: 10, Iter: 300, Loss: 0.11512949180603027\n",
            "Epoch: 10, Iter: 400, Loss: 0.1151343457698822\n"
          ]
        }
      ]
    },
    {
      "cell_type": "code",
      "source": [
        "for epoch in range(5):\n",
        "\n",
        "    running_loss = 0.0\n",
        "\n",
        "    for i, data in enumerate(train_loader128, start=0):\n",
        "        inputs, labels = data[0].to(device), data[1].to(device)\n",
        "\n",
        "        optimizerDC_128.zero_grad() # epoch마다 gradient 0으로 초기화\n",
        "\n",
        "        outputs = DeepConv_net128(inputs) # y_pred = f(X)\n",
        "        loss = criterion(outputs, labels) # CrossEntropyLoss; 0~1 사이값\n",
        "        loss.backward() # back-propagation; gradient 계산\n",
        "        optimizerDC_128.step() # parameters(weights) update\n",
        "\n",
        "        running_loss += loss.item() # 그냥 전체적인 비교를 위해 누적함\n",
        "\n",
        "        if i % 100 == 99: # 100번 마다 확인; epoch=10, iter(=i)=469, batch=128\n",
        "            print('Epoch: {}, Iter: {}, Loss: {}'.format(epoch+1, i+1, running_loss/2000))\n",
        "            running_loss = 0.0"
      ],
      "metadata": {
        "colab": {
          "base_uri": "https://localhost:8080/"
        },
        "id": "dNa8-7SC5u2a",
        "outputId": "319e99c7-2477-4a5a-da17-a978f69e67e2"
      },
      "execution_count": null,
      "outputs": [
        {
          "output_type": "stream",
          "name": "stdout",
          "text": [
            "Epoch: 1, Iter: 100, Loss: 0.11513105475902558\n",
            "Epoch: 1, Iter: 200, Loss: 0.11512936890125275\n",
            "Epoch: 1, Iter: 300, Loss: 0.11513281655311584\n",
            "Epoch: 1, Iter: 400, Loss: 0.11513279390335084\n",
            "Epoch: 2, Iter: 100, Loss: 0.11512879920005799\n",
            "Epoch: 2, Iter: 200, Loss: 0.11513299942016601\n",
            "Epoch: 2, Iter: 300, Loss: 0.1151317138671875\n",
            "Epoch: 2, Iter: 400, Loss: 0.11513170886039734\n",
            "Epoch: 3, Iter: 100, Loss: 0.11513097989559173\n",
            "Epoch: 3, Iter: 200, Loss: 0.11513098526000977\n",
            "Epoch: 3, Iter: 300, Loss: 0.11513347935676575\n",
            "Epoch: 3, Iter: 400, Loss: 0.11513099122047424\n",
            "Epoch: 4, Iter: 100, Loss: 0.11512867891788482\n",
            "Epoch: 4, Iter: 200, Loss: 0.11513174986839295\n",
            "Epoch: 4, Iter: 300, Loss: 0.11513203811645507\n",
            "Epoch: 4, Iter: 400, Loss: 0.11513381159305572\n",
            "Epoch: 5, Iter: 100, Loss: 0.11512844967842102\n",
            "Epoch: 5, Iter: 200, Loss: 0.1151325204372406\n",
            "Epoch: 5, Iter: 300, Loss: 0.11513305163383483\n",
            "Epoch: 5, Iter: 400, Loss: 0.11513123059272766\n"
          ]
        }
      ]
    },
    {
      "cell_type": "markdown",
      "source": [
        "### 2. DeepConv_net64\n",
        "* 10개의 Convolution-layer & 2개의 fc-layer\n",
        "* 64 batch-size"
      ],
      "metadata": {
        "id": "FOUBE2UfKS6D"
      }
    },
    {
      "cell_type": "code",
      "source": [
        "for epoch in range(10):\n",
        "\n",
        "    running_loss = 0.0\n",
        "\n",
        "    for i, data in enumerate(train_loader64, start=0):\n",
        "        inputs, labels = data[0].to(device), data[1].to(device)\n",
        "\n",
        "        optimizerDC_64.zero_grad() # epoch마다 gradient 0으로 초기화\n",
        "\n",
        "        outputs = DeepConv_net64(inputs) # y_pred = f(X)\n",
        "        loss = criterion(outputs, labels) # CrossEntropyLoss; 0~1 사이값\n",
        "        loss.backward() # back-propagation; gradient 계산\n",
        "        optimizerDC_64.step() # parameters(weights) update\n",
        "\n",
        "        running_loss += loss.item() # 그냥 전체적인 비교를 위해 누적함\n",
        "\n",
        "        if i % 100 == 99: # 100번 마다 확인; epoch=10, iter(=i)=469, batch=64\n",
        "            print('Epoch: {}, Iter: {}, Loss: {}'.format(epoch+1, i+1, running_loss/2000))\n",
        "            running_loss = 0.0"
      ],
      "metadata": {
        "colab": {
          "base_uri": "https://localhost:8080/"
        },
        "id": "Q1znQlsWKS6D",
        "outputId": "b3d6d055-1e10-45d4-8451-f6c4bce4b5c1"
      },
      "execution_count": null,
      "outputs": [
        {
          "output_type": "stream",
          "name": "stdout",
          "text": [
            "Epoch: 1, Iter: 100, Loss: 0.11518771028518676\n",
            "Epoch: 1, Iter: 200, Loss: 0.11514706444740296\n",
            "Epoch: 1, Iter: 300, Loss: 0.11513859760761261\n",
            "Epoch: 1, Iter: 400, Loss: 0.11515025019645692\n",
            "Epoch: 1, Iter: 500, Loss: 0.11513884723186493\n",
            "Epoch: 1, Iter: 600, Loss: 0.11514225149154664\n",
            "Epoch: 1, Iter: 700, Loss: 0.11514530754089355\n",
            "Epoch: 1, Iter: 800, Loss: 0.11512990605831146\n",
            "Epoch: 1, Iter: 900, Loss: 0.11513261187076569\n",
            "Epoch: 2, Iter: 100, Loss: 0.11513822674751281\n",
            "Epoch: 2, Iter: 200, Loss: 0.1151351238489151\n",
            "Epoch: 2, Iter: 300, Loss: 0.11513129687309265\n",
            "Epoch: 2, Iter: 400, Loss: 0.11513244938850403\n",
            "Epoch: 2, Iter: 500, Loss: 0.11513331210613251\n",
            "Epoch: 2, Iter: 600, Loss: 0.11513306891918182\n",
            "Epoch: 2, Iter: 700, Loss: 0.11513497936725617\n",
            "Epoch: 2, Iter: 800, Loss: 0.11513878393173217\n",
            "Epoch: 2, Iter: 900, Loss: 0.1151366981267929\n",
            "Epoch: 3, Iter: 100, Loss: 0.11513370466232299\n",
            "Epoch: 3, Iter: 200, Loss: 0.11512832200527191\n",
            "Epoch: 3, Iter: 300, Loss: 0.11514208114147187\n",
            "Epoch: 3, Iter: 400, Loss: 0.11512834107875825\n",
            "Epoch: 3, Iter: 500, Loss: 0.11513388788700103\n",
            "Epoch: 3, Iter: 600, Loss: 0.11513431918621063\n",
            "Epoch: 3, Iter: 700, Loss: 0.11513452315330505\n",
            "Epoch: 3, Iter: 800, Loss: 0.11513560378551484\n",
            "Epoch: 3, Iter: 900, Loss: 0.1151346526145935\n",
            "Epoch: 4, Iter: 100, Loss: 0.11513298380374909\n",
            "Epoch: 4, Iter: 200, Loss: 0.11512702095508576\n",
            "Epoch: 4, Iter: 300, Loss: 0.11513482797145844\n",
            "Epoch: 4, Iter: 400, Loss: 0.11513333868980408\n",
            "Epoch: 4, Iter: 500, Loss: 0.11513122916221619\n",
            "Epoch: 4, Iter: 600, Loss: 0.1151350507736206\n",
            "Epoch: 4, Iter: 700, Loss: 0.11514174926280975\n",
            "Epoch: 4, Iter: 800, Loss: 0.11513499176502227\n",
            "Epoch: 4, Iter: 900, Loss: 0.11513173258304596\n",
            "Epoch: 5, Iter: 100, Loss: 0.11513224744796753\n",
            "Epoch: 5, Iter: 200, Loss: 0.11513534951210022\n",
            "Epoch: 5, Iter: 300, Loss: 0.1151340526342392\n",
            "Epoch: 5, Iter: 400, Loss: 0.11513245129585266\n",
            "Epoch: 5, Iter: 500, Loss: 0.1151356701850891\n",
            "Epoch: 5, Iter: 600, Loss: 0.1151317617893219\n",
            "Epoch: 5, Iter: 700, Loss: 0.11513849842548371\n",
            "Epoch: 5, Iter: 800, Loss: 0.11513506424427032\n",
            "Epoch: 5, Iter: 900, Loss: 0.1151346640586853\n",
            "Epoch: 6, Iter: 100, Loss: 0.11512400627136231\n",
            "Epoch: 6, Iter: 200, Loss: 0.11513058650493622\n",
            "Epoch: 6, Iter: 300, Loss: 0.11513074839115142\n",
            "Epoch: 6, Iter: 400, Loss: 0.11513628911972046\n",
            "Epoch: 6, Iter: 500, Loss: 0.1151435182094574\n",
            "Epoch: 6, Iter: 600, Loss: 0.1151314971446991\n",
            "Epoch: 6, Iter: 700, Loss: 0.11513142824172974\n",
            "Epoch: 6, Iter: 800, Loss: 0.11514020240306855\n",
            "Epoch: 6, Iter: 900, Loss: 0.11513436579704285\n",
            "Epoch: 7, Iter: 100, Loss: 0.11512812411785125\n",
            "Epoch: 7, Iter: 200, Loss: 0.11513425862789153\n",
            "Epoch: 7, Iter: 300, Loss: 0.11512457942962646\n",
            "Epoch: 7, Iter: 400, Loss: 0.11512810504436492\n",
            "Epoch: 7, Iter: 500, Loss: 0.11514287614822388\n",
            "Epoch: 7, Iter: 600, Loss: 0.11513725101947785\n",
            "Epoch: 7, Iter: 700, Loss: 0.11513677859306336\n",
            "Epoch: 7, Iter: 800, Loss: 0.11513786387443542\n",
            "Epoch: 7, Iter: 900, Loss: 0.11513218927383423\n",
            "Epoch: 8, Iter: 100, Loss: 0.11512619292736054\n",
            "Epoch: 8, Iter: 200, Loss: 0.11512938368320465\n",
            "Epoch: 8, Iter: 300, Loss: 0.11513702929019928\n",
            "Epoch: 8, Iter: 400, Loss: 0.11513592410087585\n",
            "Epoch: 8, Iter: 500, Loss: 0.11513418018817902\n",
            "Epoch: 8, Iter: 600, Loss: 0.11512762641906739\n",
            "Epoch: 8, Iter: 700, Loss: 0.11513279318809509\n",
            "Epoch: 8, Iter: 800, Loss: 0.11514144361019135\n",
            "Epoch: 8, Iter: 900, Loss: 0.1151374260187149\n",
            "Epoch: 9, Iter: 100, Loss: 0.11512991178035736\n",
            "Epoch: 9, Iter: 200, Loss: 0.11512800049781799\n",
            "Epoch: 9, Iter: 300, Loss: 0.11513450670242309\n",
            "Epoch: 9, Iter: 400, Loss: 0.1151341142654419\n",
            "Epoch: 9, Iter: 500, Loss: 0.11512804424762726\n",
            "Epoch: 9, Iter: 600, Loss: 0.1151403489112854\n",
            "Epoch: 9, Iter: 700, Loss: 0.11513368999958039\n",
            "Epoch: 9, Iter: 800, Loss: 0.1151387710571289\n",
            "Epoch: 9, Iter: 900, Loss: 0.11513147699832917\n",
            "Epoch: 10, Iter: 100, Loss: 0.11513025879859924\n",
            "Epoch: 10, Iter: 200, Loss: 0.11513118076324463\n",
            "Epoch: 10, Iter: 300, Loss: 0.11513135528564453\n",
            "Epoch: 10, Iter: 400, Loss: 0.11512828302383422\n",
            "Epoch: 10, Iter: 500, Loss: 0.11514356458187103\n",
            "Epoch: 10, Iter: 600, Loss: 0.11513310980796813\n",
            "Epoch: 10, Iter: 700, Loss: 0.11513200664520264\n",
            "Epoch: 10, Iter: 800, Loss: 0.11513546514511108\n",
            "Epoch: 10, Iter: 900, Loss: 0.11513707816600799\n"
          ]
        }
      ]
    },
    {
      "cell_type": "markdown",
      "source": [
        "### 3. DeepFC_net128\n",
        "* 2개의 Convolution-layer & 5개의 fc-layer\n",
        "* 128 batch-size"
      ],
      "metadata": {
        "id": "LaVvtEOvKUgJ"
      }
    },
    {
      "cell_type": "code",
      "source": [
        "for epoch in range(10):\n",
        "\n",
        "    running_loss = 0.0\n",
        "\n",
        "    for i, data in enumerate(train_loader128, start=0):\n",
        "        inputs, labels = data[0].to(device), data[1].to(device)\n",
        "\n",
        "        optimizerFC_128.zero_grad() # epoch마다 gradient 0으로 초기화\n",
        "\n",
        "        outputs = DeepFC_net128(inputs) # y_pred = f(X)\n",
        "        loss = criterion(outputs, labels) # CrossEntropyLoss; 0~1 사이값\n",
        "        loss.backward() # back-propagation; gradient 계산\n",
        "        optimizerFC_128.step() # parameters(weights) update\n",
        "\n",
        "        running_loss += loss.item() # 그냥 전체적인 비교를 위해 누적함\n",
        "\n",
        "        if i % 100 == 99: # 100번 마다 확인; epoch=10, iter(=i)=469, batch=128\n",
        "            print('Epoch: {}, Iter: {}, Loss: {}'.format(epoch+1, i+1, running_loss/2000))\n",
        "            running_loss = 0.0"
      ],
      "metadata": {
        "colab": {
          "base_uri": "https://localhost:8080/"
        },
        "id": "Dwh9TK_1KUgK",
        "outputId": "4233b948-7f1b-4b18-925f-c159454b6c4f"
      },
      "execution_count": null,
      "outputs": [
        {
          "output_type": "stream",
          "name": "stdout",
          "text": [
            "Epoch: 1, Iter: 100, Loss: 0.1151856575012207\n",
            "Epoch: 1, Iter: 200, Loss: 0.11506034302711486\n",
            "Epoch: 1, Iter: 300, Loss: 0.11502220702171326\n",
            "Epoch: 1, Iter: 400, Loss: 0.1148845340013504\n",
            "Epoch: 2, Iter: 100, Loss: 0.11458224892616271\n",
            "Epoch: 2, Iter: 200, Loss: 0.11426403677463531\n",
            "Epoch: 2, Iter: 300, Loss: 0.11365597259998321\n",
            "Epoch: 2, Iter: 400, Loss: 0.11213640701770783\n",
            "Epoch: 3, Iter: 100, Loss: 0.08829190224409103\n",
            "Epoch: 3, Iter: 200, Loss: 0.05567644849419594\n",
            "Epoch: 3, Iter: 300, Loss: 0.04270921224355698\n",
            "Epoch: 3, Iter: 400, Loss: 0.03644769445061684\n",
            "Epoch: 4, Iter: 100, Loss: 0.03277550330758095\n",
            "Epoch: 4, Iter: 200, Loss: 0.0319677167981863\n",
            "Epoch: 4, Iter: 300, Loss: 0.031232540696859358\n",
            "Epoch: 4, Iter: 400, Loss: 0.030566641062498092\n",
            "Epoch: 5, Iter: 100, Loss: 0.0295128503292799\n",
            "Epoch: 5, Iter: 200, Loss: 0.029505868926644325\n",
            "Epoch: 5, Iter: 300, Loss: 0.02849436151981354\n",
            "Epoch: 5, Iter: 400, Loss: 0.027680845454335214\n",
            "Epoch: 6, Iter: 100, Loss: 0.02732149603962898\n",
            "Epoch: 6, Iter: 200, Loss: 0.025692595422267914\n",
            "Epoch: 6, Iter: 300, Loss: 0.026304873168468475\n",
            "Epoch: 6, Iter: 400, Loss: 0.0261161218136549\n",
            "Epoch: 7, Iter: 100, Loss: 0.02478634938597679\n",
            "Epoch: 7, Iter: 200, Loss: 0.024903396308422088\n",
            "Epoch: 7, Iter: 300, Loss: 0.02387038217484951\n",
            "Epoch: 7, Iter: 400, Loss: 0.02423148038983345\n",
            "Epoch: 8, Iter: 100, Loss: 0.02300403933227062\n",
            "Epoch: 8, Iter: 200, Loss: 0.02308684332668781\n",
            "Epoch: 8, Iter: 300, Loss: 0.023347835049033164\n",
            "Epoch: 8, Iter: 400, Loss: 0.02314065372943878\n",
            "Epoch: 9, Iter: 100, Loss: 0.022017333149909973\n",
            "Epoch: 9, Iter: 200, Loss: 0.021595479652285577\n",
            "Epoch: 9, Iter: 300, Loss: 0.021938675358891487\n",
            "Epoch: 9, Iter: 400, Loss: 0.02178546106815338\n",
            "Epoch: 10, Iter: 100, Loss: 0.021334765076637268\n",
            "Epoch: 10, Iter: 200, Loss: 0.020573250755667686\n",
            "Epoch: 10, Iter: 300, Loss: 0.02100483226776123\n",
            "Epoch: 10, Iter: 400, Loss: 0.02080129224061966\n"
          ]
        }
      ]
    },
    {
      "cell_type": "markdown",
      "source": [
        "### 4. DeepFC_net128\n",
        "* 2개의 Convolution-layer & 5개의 fc-layer\n",
        "* 64 batch-size"
      ],
      "metadata": {
        "id": "jRyyw49jKVhj"
      }
    },
    {
      "cell_type": "code",
      "source": [
        "for epoch in range(10):\n",
        "\n",
        "    running_loss = 0.0\n",
        "\n",
        "    for i, data in enumerate(train_loader64, start=0):\n",
        "        inputs, labels = data[0].to(device), data[1].to(device)\n",
        "\n",
        "        optimizerFC_64.zero_grad() # epoch마다 gradient 0으로 초기화\n",
        "\n",
        "        outputs = DeepFC_net64(inputs) # y_pred = f(X)\n",
        "        loss = criterion(outputs, labels) # CrossEntropyLoss; 0~1 사이값\n",
        "        loss.backward() # back-propagation; gradient 계산\n",
        "        optimizerFC_64.step() # parameters(weights) update\n",
        "\n",
        "        running_loss += loss.item() # 그냥 전체적인 비교를 위해 누적함\n",
        "\n",
        "        if i % 100 == 99: # 100번 마다 확인; epoch=10, iter(=i)=469, batch=64\n",
        "            print('Epoch: {}, Iter: {}, Loss: {}'.format(epoch+1, i+1, running_loss/2000))\n",
        "            running_loss = 0.0"
      ],
      "metadata": {
        "colab": {
          "base_uri": "https://localhost:8080/"
        },
        "id": "X3847V0dKVhk",
        "outputId": "44e9ff2e-b002-4f0a-dd45-0fc51882b5f5"
      },
      "execution_count": null,
      "outputs": [
        {
          "output_type": "stream",
          "name": "stdout",
          "text": [
            "Epoch: 1, Iter: 100, Loss: 0.11518648731708526\n",
            "Epoch: 1, Iter: 200, Loss: 0.11512259662151336\n",
            "Epoch: 1, Iter: 300, Loss: 0.11507262587547303\n",
            "Epoch: 1, Iter: 400, Loss: 0.11504738783836364\n",
            "Epoch: 1, Iter: 500, Loss: 0.11488208031654358\n",
            "Epoch: 1, Iter: 600, Loss: 0.11484893238544464\n",
            "Epoch: 1, Iter: 700, Loss: 0.11475736367702484\n",
            "Epoch: 1, Iter: 800, Loss: 0.11458077752590179\n",
            "Epoch: 1, Iter: 900, Loss: 0.11444271290302277\n",
            "Epoch: 2, Iter: 100, Loss: 0.11399007284641266\n",
            "Epoch: 2, Iter: 200, Loss: 0.11343862974643708\n",
            "Epoch: 2, Iter: 300, Loss: 0.11242397487163544\n",
            "Epoch: 2, Iter: 400, Loss: 0.1099845643043518\n",
            "Epoch: 2, Iter: 500, Loss: 0.10017674958705902\n",
            "Epoch: 2, Iter: 600, Loss: 0.0727217743396759\n",
            "Epoch: 2, Iter: 700, Loss: 0.05145103910565376\n",
            "Epoch: 2, Iter: 800, Loss: 0.04477900567650795\n",
            "Epoch: 2, Iter: 900, Loss: 0.03973642212152481\n",
            "Epoch: 3, Iter: 100, Loss: 0.03523911786079407\n",
            "Epoch: 3, Iter: 200, Loss: 0.03398072625696659\n",
            "Epoch: 3, Iter: 300, Loss: 0.03201975481212139\n",
            "Epoch: 3, Iter: 400, Loss: 0.03150227962434292\n",
            "Epoch: 3, Iter: 500, Loss: 0.030402977898716925\n",
            "Epoch: 3, Iter: 600, Loss: 0.030584756627678872\n",
            "Epoch: 3, Iter: 700, Loss: 0.028429847985506056\n",
            "Epoch: 3, Iter: 800, Loss: 0.02755133607983589\n",
            "Epoch: 3, Iter: 900, Loss: 0.02741507911682129\n",
            "Epoch: 4, Iter: 100, Loss: 0.02603174723684788\n",
            "Epoch: 4, Iter: 200, Loss: 0.025060469105839728\n",
            "Epoch: 4, Iter: 300, Loss: 0.025905650705099106\n",
            "Epoch: 4, Iter: 400, Loss: 0.025227683022618293\n",
            "Epoch: 4, Iter: 500, Loss: 0.02375959535688162\n",
            "Epoch: 4, Iter: 600, Loss: 0.024879412546753882\n",
            "Epoch: 4, Iter: 700, Loss: 0.02300207330286503\n",
            "Epoch: 4, Iter: 800, Loss: 0.023508863627910614\n",
            "Epoch: 4, Iter: 900, Loss: 0.02337162686884403\n",
            "Epoch: 5, Iter: 100, Loss: 0.02156360798329115\n",
            "Epoch: 5, Iter: 200, Loss: 0.0225903397873044\n",
            "Epoch: 5, Iter: 300, Loss: 0.022493919499218463\n",
            "Epoch: 5, Iter: 400, Loss: 0.020565307565033435\n",
            "Epoch: 5, Iter: 500, Loss: 0.021307381354272365\n",
            "Epoch: 5, Iter: 600, Loss: 0.020971994921565054\n",
            "Epoch: 5, Iter: 700, Loss: 0.021336962677538394\n",
            "Epoch: 5, Iter: 800, Loss: 0.020307590149343014\n",
            "Epoch: 5, Iter: 900, Loss: 0.020530345894396305\n",
            "Epoch: 6, Iter: 100, Loss: 0.019458796270191668\n",
            "Epoch: 6, Iter: 200, Loss: 0.02053217212855816\n",
            "Epoch: 6, Iter: 300, Loss: 0.020119143024086954\n",
            "Epoch: 6, Iter: 400, Loss: 0.019637680053710936\n",
            "Epoch: 6, Iter: 500, Loss: 0.01893905022740364\n",
            "Epoch: 6, Iter: 600, Loss: 0.019468031227588653\n",
            "Epoch: 6, Iter: 700, Loss: 0.019029599979519845\n",
            "Epoch: 6, Iter: 800, Loss: 0.019482825443148614\n",
            "Epoch: 6, Iter: 900, Loss: 0.018803329348564147\n",
            "Epoch: 7, Iter: 100, Loss: 0.018131439700722694\n",
            "Epoch: 7, Iter: 200, Loss: 0.018583015441894533\n",
            "Epoch: 7, Iter: 300, Loss: 0.01810283874720335\n",
            "Epoch: 7, Iter: 400, Loss: 0.017970916636288164\n",
            "Epoch: 7, Iter: 500, Loss: 0.018066908486187458\n",
            "Epoch: 7, Iter: 600, Loss: 0.017817063100636004\n",
            "Epoch: 7, Iter: 700, Loss: 0.01828695424646139\n",
            "Epoch: 7, Iter: 800, Loss: 0.01731126080453396\n",
            "Epoch: 7, Iter: 900, Loss: 0.017497551865875722\n",
            "Epoch: 8, Iter: 100, Loss: 0.01662802816927433\n",
            "Epoch: 8, Iter: 200, Loss: 0.017634599767625332\n",
            "Epoch: 8, Iter: 300, Loss: 0.016799137718975544\n",
            "Epoch: 8, Iter: 400, Loss: 0.016726208731532098\n",
            "Epoch: 8, Iter: 500, Loss: 0.017056955344974995\n",
            "Epoch: 8, Iter: 600, Loss: 0.017598570935428142\n",
            "Epoch: 8, Iter: 700, Loss: 0.01717748799920082\n",
            "Epoch: 8, Iter: 800, Loss: 0.016273060761392115\n",
            "Epoch: 8, Iter: 900, Loss: 0.016358903028070925\n",
            "Epoch: 9, Iter: 100, Loss: 0.016873105563223363\n",
            "Epoch: 9, Iter: 200, Loss: 0.016154098719358443\n",
            "Epoch: 9, Iter: 300, Loss: 0.01688819819688797\n",
            "Epoch: 9, Iter: 400, Loss: 0.016149608947336674\n",
            "Epoch: 9, Iter: 500, Loss: 0.016493180625140668\n",
            "Epoch: 9, Iter: 600, Loss: 0.01640963667631149\n",
            "Epoch: 9, Iter: 700, Loss: 0.015801821663975715\n",
            "Epoch: 9, Iter: 800, Loss: 0.016185995452106\n",
            "Epoch: 9, Iter: 900, Loss: 0.015232898510992528\n",
            "Epoch: 10, Iter: 100, Loss: 0.015902598503977062\n",
            "Epoch: 10, Iter: 200, Loss: 0.014801367033272981\n",
            "Epoch: 10, Iter: 300, Loss: 0.015722733668982983\n",
            "Epoch: 10, Iter: 400, Loss: 0.015177143827080727\n",
            "Epoch: 10, Iter: 500, Loss: 0.01579883709549904\n",
            "Epoch: 10, Iter: 600, Loss: 0.01527681665122509\n",
            "Epoch: 10, Iter: 700, Loss: 0.014758217792958021\n",
            "Epoch: 10, Iter: 800, Loss: 0.015478836610913276\n",
            "Epoch: 10, Iter: 900, Loss: 0.015112273648381233\n"
          ]
        }
      ]
    },
    {
      "cell_type": "markdown",
      "metadata": {
        "id": "5IecfHZiI09W"
      },
      "source": [
        "## 모델 테스트"
      ]
    },
    {
      "cell_type": "code",
      "source": [
        "# 전체 test 데이터에 대해서 성능 확인\n",
        "\n",
        "correct_list = [0]*4\n",
        "total_list = [0]*4\n",
        "a = -1\n",
        "\n",
        "model_list = {'DeepConv' : [DeepConv_net128, DeepConv_net64],\n",
        "              'DeepFC' : [DeepFC_net128, DeepFC_net64]}\n",
        "data_list = [test_loader128, test_loader64]\n",
        "\n",
        "with torch.no_grad(): # grad가 필요없다.\n",
        "\n",
        "    for key in model_list:\n",
        "        for idx in range(len(model_list[key])):\n",
        "            a += 1\n",
        "            model = model_list[key][idx]\n",
        "            data_loader = data_list[idx]\n",
        "            for data in data_loader:\n",
        "                images, labels = data[0].to(device), data[1].to(device)\n",
        "\n",
        "                outputs = model(images)\n",
        "                _, predicted = torch.max(outputs.data, 1)\n",
        "\n",
        "                total_list[a] += labels.size(0)\n",
        "                correct_list[a] += (predicted == labels).sum().item()\n",
        "            \n",
        "correct_rate = np.array(correct_list) / np.array(total_list)\n",
        "model_name = ['DeepConv_net128', 'DeepConv_net64', 'DeepFC_net128', 'DeepFC_net64']\n",
        "\n",
        "for i in range(len(correct_rate)):\n",
        "    print('{0} : {1}'.format(model_name[i], correct_rate[i]))"
      ],
      "metadata": {
        "colab": {
          "base_uri": "https://localhost:8080/"
        },
        "id": "VjVs_iS0rlof",
        "outputId": "a56e694f-4885-4c5a-e09f-6fda54fc7128"
      },
      "execution_count": null,
      "outputs": [
        {
          "output_type": "stream",
          "name": "stdout",
          "text": [
            "DeepConv_net128 : 0.1\n",
            "DeepConv_net64 : 0.1\n",
            "DeepFC_net128 : 0.8425\n",
            "DeepFC_net64 : 0.873\n"
          ]
        }
      ]
    },
    {
      "cell_type": "markdown",
      "source": [
        "# FashionMNIST 분류 모델 중 성능이 낮은 모델 이유 확인"
      ],
      "metadata": {
        "id": "SZcZQv4PGeYv"
      }
    },
    {
      "cell_type": "markdown",
      "source": [
        "## Convolution-layer를 하나씩 추가하면서, 성능변화를 관찰"
      ],
      "metadata": {
        "id": "V7HoLqroDhyF"
      }
    },
    {
      "cell_type": "markdown",
      "source": [
        "### 3개의 convolution-layer 사용시"
      ],
      "metadata": {
        "id": "_civVcIYBGxA"
      }
    },
    {
      "cell_type": "code",
      "source": [
        "class CNN_Model3(nn.Module):\n",
        "    def __init__(self):\n",
        "        super(CNN_Model3, self).__init__()\n",
        "\n",
        "        self.conv1 = nn.Conv2d(in_channels=1, out_channels=5, kernel_size=3, stride=1, padding=2)\n",
        "        self.conv2 = nn.Conv2d(5, 7, 3, padding=1)\n",
        "        self.conv3 = nn.Conv2d(7, 16, 2, padding=1)\n",
        "\n",
        "        self.fc1 = nn.Linear(16* 16 * 16, 3000)\n",
        "        self.fc2 = nn.Linear(3000, 1500)\n",
        "        self.fc3 = nn.Linear(1500, 20 * 3 * 3)\n",
        "        self.fc4 = nn.Linear(20 * 3 * 3, 86)\n",
        "        self.fc5 = nn.Linear(86, 10) # 10 : 10개의 category\n",
        "\n",
        "    def forward(self, x):\n",
        "        x = F.relu(self.conv1(x))\n",
        "        x = F.max_pool2d(x, (2,2))\n",
        "        x = F.relu(self.conv2(x))\n",
        "        x = F.relu(self.conv3(x))\n",
        "\n",
        "        x = x.view(-1, self.num_flat_features(x)) # num_flat_features : 아래에서 정의\n",
        "\n",
        "        x = F.relu(self.fc1(x))\n",
        "        x = F.relu(self.fc2(x))\n",
        "        x = F.relu(self.fc3(x))\n",
        "        x = F.relu(self.fc4(x))\n",
        "        x = self.fc5(x)\n",
        "\n",
        "        return x\n",
        "    \n",
        "    def num_flat_features(self, x): # 처음 dim-size을 제외하고, 모두 곱한 값을 반환해준다.\n",
        "        size = x.size()[1:]\n",
        "        num_features = 1\n",
        "        for s in size:\n",
        "            num_features *= s\n",
        "        \n",
        "        return num_features"
      ],
      "metadata": {
        "id": "29zvOdhT-fwY"
      },
      "execution_count": null,
      "outputs": []
    },
    {
      "cell_type": "code",
      "source": [
        "# 모델객체 생성\n",
        "new_model = CNN_Model3().to(device)\n",
        "\n",
        "print(new_model)"
      ],
      "metadata": {
        "colab": {
          "base_uri": "https://localhost:8080/"
        },
        "outputId": "237a1e8e-9453-4692-e2b7-5b1ca7731f16",
        "id": "t81gXZmz-fwY"
      },
      "execution_count": null,
      "outputs": [
        {
          "output_type": "stream",
          "name": "stdout",
          "text": [
            "CNN_Model3(\n",
            "  (conv1): Conv2d(1, 5, kernel_size=(3, 3), stride=(1, 1), padding=(2, 2))\n",
            "  (conv2): Conv2d(5, 7, kernel_size=(3, 3), stride=(1, 1), padding=(1, 1))\n",
            "  (conv3): Conv2d(7, 16, kernel_size=(2, 2), stride=(1, 1), padding=(1, 1))\n",
            "  (fc1): Linear(in_features=4096, out_features=3000, bias=True)\n",
            "  (fc2): Linear(in_features=3000, out_features=1500, bias=True)\n",
            "  (fc3): Linear(in_features=1500, out_features=180, bias=True)\n",
            "  (fc4): Linear(in_features=180, out_features=86, bias=True)\n",
            "  (fc5): Linear(in_features=86, out_features=10, bias=True)\n",
            ")\n"
          ]
        }
      ]
    },
    {
      "cell_type": "code",
      "source": [
        "summary(new_model, input_size=(128, 1, 28, 28))"
      ],
      "metadata": {
        "colab": {
          "base_uri": "https://localhost:8080/"
        },
        "id": "Bb2EkGUbBnuM",
        "outputId": "c51c310b-8c46-4d73-e69a-821ae9e1e8f1"
      },
      "execution_count": null,
      "outputs": [
        {
          "output_type": "execute_result",
          "data": {
            "text/plain": [
              "==========================================================================================\n",
              "Layer (type:depth-idx)                   Output Shape              Param #\n",
              "==========================================================================================\n",
              "CNN_Model3                               [128, 10]                 --\n",
              "├─Conv2d: 1-1                            [128, 5, 30, 30]          50\n",
              "├─Conv2d: 1-2                            [128, 7, 15, 15]          322\n",
              "├─Conv2d: 1-3                            [128, 16, 16, 16]         464\n",
              "├─Linear: 1-4                            [128, 3000]               12,291,000\n",
              "├─Linear: 1-5                            [128, 1500]               4,501,500\n",
              "├─Linear: 1-6                            [128, 180]                270,180\n",
              "├─Linear: 1-7                            [128, 86]                 15,566\n",
              "├─Linear: 1-8                            [128, 10]                 870\n",
              "==========================================================================================\n",
              "Total params: 17,079,952\n",
              "Trainable params: 17,079,952\n",
              "Non-trainable params: 0\n",
              "Total mult-adds (G): 2.22\n",
              "==========================================================================================\n",
              "Input size (MB): 0.40\n",
              "Forward/backward pass size (MB): 15.31\n",
              "Params size (MB): 68.32\n",
              "Estimated Total Size (MB): 84.03\n",
              "=========================================================================================="
            ]
          },
          "metadata": {},
          "execution_count": 90
        }
      ]
    },
    {
      "cell_type": "code",
      "source": [
        "optimizer = optim.SGD(new_model.parameters(), lr=0.001, momentum=0.9)"
      ],
      "metadata": {
        "id": "aQDT4bYIBsZl"
      },
      "execution_count": null,
      "outputs": []
    },
    {
      "cell_type": "code",
      "source": [
        "for epoch in range(10):\n",
        "\n",
        "    running_loss = 0.0\n",
        "\n",
        "    for i, data in enumerate(train_loader128, start=0):\n",
        "        inputs, labels = data[0].to(device), data[1].to(device)\n",
        "\n",
        "        optimizer.zero_grad() # epoch마다 gradient 0으로 초기화\n",
        "\n",
        "        outputs = new_model(inputs) # y_pred = f(X)\n",
        "        loss = criterion(outputs, labels) # CrossEntropyLoss; 0~1 사이값\n",
        "        loss.backward() # back-propagation; gradient 계산\n",
        "        optimizer.step() # parameters(weights) update\n",
        "\n",
        "        running_loss += loss.item() # 그냥 전체적인 비교를 위해 누적함\n",
        "\n",
        "        if i % 100 == 99: # 100번 마다 확인; epoch=10, iter(=i)=469, batch=128\n",
        "            print('Epoch: {}, Iter: {}, Loss: {}'.format(epoch+1, i+1, running_loss/2000))\n",
        "            running_loss = 0.0"
      ],
      "metadata": {
        "colab": {
          "base_uri": "https://localhost:8080/"
        },
        "id": "D6GqkR8nBwhH",
        "outputId": "9f7052e0-1aff-4c13-b26e-09e1ffc79108"
      },
      "execution_count": null,
      "outputs": [
        {
          "output_type": "stream",
          "name": "stdout",
          "text": [
            "Epoch: 1, Iter: 100, Loss: 0.11519804751873017\n",
            "Epoch: 1, Iter: 200, Loss: 0.11524665904045105\n",
            "Epoch: 1, Iter: 300, Loss: 0.11521085560321807\n",
            "Epoch: 1, Iter: 400, Loss: 0.11513307452201843\n",
            "Epoch: 2, Iter: 100, Loss: 0.11512671160697938\n",
            "Epoch: 2, Iter: 200, Loss: 0.11511298251152038\n",
            "Epoch: 2, Iter: 300, Loss: 0.11511405277252197\n",
            "Epoch: 2, Iter: 400, Loss: 0.11509204697608948\n",
            "Epoch: 3, Iter: 100, Loss: 0.11506640982627869\n",
            "Epoch: 3, Iter: 200, Loss: 0.1150563018321991\n",
            "Epoch: 3, Iter: 300, Loss: 0.11504943585395813\n",
            "Epoch: 3, Iter: 400, Loss: 0.11503632473945617\n",
            "Epoch: 4, Iter: 100, Loss: 0.11500178873538972\n",
            "Epoch: 4, Iter: 200, Loss: 0.11499194025993348\n",
            "Epoch: 4, Iter: 300, Loss: 0.11497151756286621\n",
            "Epoch: 4, Iter: 400, Loss: 0.11494070279598236\n",
            "Epoch: 5, Iter: 100, Loss: 0.11489369904994964\n",
            "Epoch: 5, Iter: 200, Loss: 0.11484885966777801\n",
            "Epoch: 5, Iter: 300, Loss: 0.11479879891872406\n",
            "Epoch: 5, Iter: 400, Loss: 0.11473333609104157\n",
            "Epoch: 6, Iter: 100, Loss: 0.11458024334907532\n",
            "Epoch: 6, Iter: 200, Loss: 0.11443401038646699\n",
            "Epoch: 6, Iter: 300, Loss: 0.1142323546409607\n",
            "Epoch: 6, Iter: 400, Loss: 0.11392573297023773\n",
            "Epoch: 7, Iter: 100, Loss: 0.11290527677536011\n",
            "Epoch: 7, Iter: 200, Loss: 0.11159993469715118\n",
            "Epoch: 7, Iter: 300, Loss: 0.10784745240211487\n",
            "Epoch: 7, Iter: 400, Loss: 0.08382364672422409\n",
            "Epoch: 8, Iter: 100, Loss: 0.043102175325155256\n",
            "Epoch: 8, Iter: 200, Loss: 0.03844824030995369\n",
            "Epoch: 8, Iter: 300, Loss: 0.035911448359489444\n",
            "Epoch: 8, Iter: 400, Loss: 0.0343233992755413\n",
            "Epoch: 9, Iter: 100, Loss: 0.03204415586590767\n",
            "Epoch: 9, Iter: 200, Loss: 0.032100291073322296\n",
            "Epoch: 9, Iter: 300, Loss: 0.030673851534724236\n",
            "Epoch: 9, Iter: 400, Loss: 0.031380144089460375\n",
            "Epoch: 10, Iter: 100, Loss: 0.02939697490632534\n",
            "Epoch: 10, Iter: 200, Loss: 0.028518341779708863\n",
            "Epoch: 10, Iter: 300, Loss: 0.028120665311813356\n",
            "Epoch: 10, Iter: 400, Loss: 0.028204769924283026\n"
          ]
        }
      ]
    },
    {
      "cell_type": "code",
      "source": [
        "correct = 0\n",
        "total = 0\n",
        "\n",
        "with torch.no_grad():\n",
        "    for data in test_loader128:\n",
        "        images, labels = data[0].to(device), data[1].to(device)\n",
        "        outputs = new_model(images)\n",
        "        _, predicted = torch.max(outputs.data, axis=1)\n",
        "        total += labels.size(0)\n",
        "        correct += (predicted == labels).sum().item()\n",
        "    \n",
        "    print(100 * correct / total)"
      ],
      "metadata": {
        "colab": {
          "base_uri": "https://localhost:8080/"
        },
        "id": "1PDu2v9bB_NE",
        "outputId": "8d20421a-6046-498a-bff4-7cd3db140e54"
      },
      "execution_count": null,
      "outputs": [
        {
          "output_type": "stream",
          "name": "stdout",
          "text": [
            "78.42\n"
          ]
        }
      ]
    },
    {
      "cell_type": "markdown",
      "source": [
        "### 4개의 convolution-layer 사용시"
      ],
      "metadata": {
        "id": "7Thu9NRyCV7j"
      }
    },
    {
      "cell_type": "code",
      "source": [
        "class CNN_Model4(nn.Module):\n",
        "    def __init__(self):\n",
        "        super(CNN_Model4, self).__init__()\n",
        "\n",
        "        self.conv1 = nn.Conv2d(in_channels=1, out_channels=5, kernel_size=3, stride=1, padding=2)\n",
        "        self.conv2 = nn.Conv2d(5, 7, 3, padding=1)\n",
        "        self.conv3 = nn.Conv2d(7, 16, 2, padding=1)\n",
        "        self.conv4 = nn.Conv2d(16, 19, 2)\n",
        "\n",
        "        self.fc1 = nn.Linear(15* 15 * 19, 3000)\n",
        "        self.fc2 = nn.Linear(3000, 1500)\n",
        "        self.fc3 = nn.Linear(1500, 20 * 3 * 3)\n",
        "        self.fc4 = nn.Linear(20 * 3 * 3, 86)\n",
        "        self.fc5 = nn.Linear(86, 10) # 10 : 10개의 category\n",
        "\n",
        "    def forward(self, x):\n",
        "        x = F.relu(self.conv1(x))\n",
        "        x = F.max_pool2d(x, (2,2))\n",
        "        x = F.relu(self.conv2(x))\n",
        "        x = F.relu(self.conv3(x))\n",
        "        x = F.relu(self.conv4(x))\n",
        "\n",
        "        x = x.view(-1, self.num_flat_features(x)) # num_flat_features : 아래에서 정의\n",
        "\n",
        "        x = F.relu(self.fc1(x))\n",
        "        x = F.relu(self.fc2(x))\n",
        "        x = F.relu(self.fc3(x))\n",
        "        x = F.relu(self.fc4(x))\n",
        "        x = self.fc5(x)\n",
        "\n",
        "        return x\n",
        "    \n",
        "    def num_flat_features(self, x): # 처음 dim-size을 제외하고, 모두 곱한 값을 반환해준다.\n",
        "        size = x.size()[1:]\n",
        "        num_features = 1\n",
        "        for s in size:\n",
        "            num_features *= s\n",
        "        \n",
        "        return num_features"
      ],
      "metadata": {
        "id": "V9PQvGFPCV7k"
      },
      "execution_count": null,
      "outputs": []
    },
    {
      "cell_type": "code",
      "source": [
        "# 모델객체 생성\n",
        "new_model = CNN_Model4().to(device)\n",
        "\n",
        "print(new_model)"
      ],
      "metadata": {
        "colab": {
          "base_uri": "https://localhost:8080/"
        },
        "outputId": "5de5c17c-45ba-459c-988c-5b03c84e3eba",
        "id": "HNAL7SRZCV7k"
      },
      "execution_count": null,
      "outputs": [
        {
          "output_type": "stream",
          "name": "stdout",
          "text": [
            "CNN_Model4(\n",
            "  (conv1): Conv2d(1, 5, kernel_size=(3, 3), stride=(1, 1), padding=(2, 2))\n",
            "  (conv2): Conv2d(5, 7, kernel_size=(3, 3), stride=(1, 1), padding=(1, 1))\n",
            "  (conv3): Conv2d(7, 16, kernel_size=(2, 2), stride=(1, 1), padding=(1, 1))\n",
            "  (conv4): Conv2d(16, 19, kernel_size=(2, 2), stride=(1, 1))\n",
            "  (fc1): Linear(in_features=4275, out_features=3000, bias=True)\n",
            "  (fc2): Linear(in_features=3000, out_features=1500, bias=True)\n",
            "  (fc3): Linear(in_features=1500, out_features=180, bias=True)\n",
            "  (fc4): Linear(in_features=180, out_features=86, bias=True)\n",
            "  (fc5): Linear(in_features=86, out_features=10, bias=True)\n",
            ")\n"
          ]
        }
      ]
    },
    {
      "cell_type": "code",
      "source": [
        "summary(new_model, input_size=(128, 1, 28, 28))"
      ],
      "metadata": {
        "colab": {
          "base_uri": "https://localhost:8080/"
        },
        "outputId": "e804597d-9929-4cdd-adda-10855d9e67c5",
        "id": "fHmIarJBCV7k"
      },
      "execution_count": null,
      "outputs": [
        {
          "output_type": "execute_result",
          "data": {
            "text/plain": [
              "==========================================================================================\n",
              "Layer (type:depth-idx)                   Output Shape              Param #\n",
              "==========================================================================================\n",
              "CNN_Model4                               [128, 10]                 --\n",
              "├─Conv2d: 1-1                            [128, 5, 30, 30]          50\n",
              "├─Conv2d: 1-2                            [128, 7, 15, 15]          322\n",
              "├─Conv2d: 1-3                            [128, 16, 16, 16]         464\n",
              "├─Conv2d: 1-4                            [128, 19, 15, 15]         1,235\n",
              "├─Linear: 1-5                            [128, 3000]               12,828,000\n",
              "├─Linear: 1-6                            [128, 1500]               4,501,500\n",
              "├─Linear: 1-7                            [128, 180]                270,180\n",
              "├─Linear: 1-8                            [128, 86]                 15,566\n",
              "├─Linear: 1-9                            [128, 10]                 870\n",
              "==========================================================================================\n",
              "Total params: 17,618,187\n",
              "Trainable params: 17,618,187\n",
              "Non-trainable params: 0\n",
              "Total mult-adds (G): 2.32\n",
              "==========================================================================================\n",
              "Input size (MB): 0.40\n",
              "Forward/backward pass size (MB): 19.68\n",
              "Params size (MB): 70.47\n",
              "Estimated Total Size (MB): 90.56\n",
              "=========================================================================================="
            ]
          },
          "metadata": {},
          "execution_count": 96
        }
      ]
    },
    {
      "cell_type": "code",
      "source": [
        "optimizer = optim.SGD(new_model.parameters(), lr=0.001, momentum=0.9)"
      ],
      "metadata": {
        "id": "z6gegPTRCV7k"
      },
      "execution_count": null,
      "outputs": []
    },
    {
      "cell_type": "code",
      "source": [
        "for epoch in range(10):\n",
        "\n",
        "    running_loss = 0.0\n",
        "\n",
        "    for i, data in enumerate(train_loader128, start=0):\n",
        "        inputs, labels = data[0].to(device), data[1].to(device)\n",
        "\n",
        "        optimizer.zero_grad() # epoch마다 gradient 0으로 초기화\n",
        "\n",
        "        outputs = new_model(inputs) # y_pred = f(X)\n",
        "        loss = criterion(outputs, labels) # CrossEntropyLoss; 0~1 사이값\n",
        "        loss.backward() # back-propagation; gradient 계산\n",
        "        optimizer.step() # parameters(weights) update\n",
        "\n",
        "        running_loss += loss.item() # 그냥 전체적인 비교를 위해 누적함\n",
        "\n",
        "        if i % 100 == 99: # 100번 마다 확인; epoch=10, iter(=i)=469, batch=128\n",
        "            print('Epoch: {}, Iter: {}, Loss: {}'.format(epoch+1, i+1, running_loss/2000))\n",
        "            running_loss = 0.0"
      ],
      "metadata": {
        "colab": {
          "base_uri": "https://localhost:8080/"
        },
        "outputId": "b1088bb2-9fbd-4e94-959c-cf3e1de4c4d3",
        "id": "oeeKVQdKCV7k"
      },
      "execution_count": null,
      "outputs": [
        {
          "output_type": "stream",
          "name": "stdout",
          "text": [
            "Epoch: 1, Iter: 100, Loss: 0.1151897863149643\n",
            "Epoch: 1, Iter: 200, Loss: 0.11517694687843323\n",
            "Epoch: 1, Iter: 300, Loss: 0.11512542843818664\n",
            "Epoch: 1, Iter: 400, Loss: 0.11517249751091004\n",
            "Epoch: 2, Iter: 100, Loss: 0.11513068056106568\n",
            "Epoch: 2, Iter: 200, Loss: 0.11514400291442871\n",
            "Epoch: 2, Iter: 300, Loss: 0.11510215282440185\n",
            "Epoch: 2, Iter: 400, Loss: 0.11509388399124146\n",
            "Epoch: 3, Iter: 100, Loss: 0.115089271068573\n",
            "Epoch: 3, Iter: 200, Loss: 0.11508894479274749\n",
            "Epoch: 3, Iter: 300, Loss: 0.11507298636436462\n",
            "Epoch: 3, Iter: 400, Loss: 0.11506737124919891\n",
            "Epoch: 4, Iter: 100, Loss: 0.1150520007610321\n",
            "Epoch: 4, Iter: 200, Loss: 0.11502894675731659\n",
            "Epoch: 4, Iter: 300, Loss: 0.11501467037200928\n",
            "Epoch: 4, Iter: 400, Loss: 0.11499447548389435\n",
            "Epoch: 5, Iter: 100, Loss: 0.11494578623771667\n",
            "Epoch: 5, Iter: 200, Loss: 0.11490557479858399\n",
            "Epoch: 5, Iter: 300, Loss: 0.1148455593585968\n",
            "Epoch: 5, Iter: 400, Loss: 0.11477218425273895\n",
            "Epoch: 6, Iter: 100, Loss: 0.11451803624629975\n",
            "Epoch: 6, Iter: 200, Loss: 0.11421885514259339\n",
            "Epoch: 6, Iter: 300, Loss: 0.1136590942144394\n",
            "Epoch: 6, Iter: 400, Loss: 0.11214725029468536\n",
            "Epoch: 7, Iter: 100, Loss: 0.07615572714805603\n",
            "Epoch: 7, Iter: 200, Loss: 0.04417530873417854\n",
            "Epoch: 7, Iter: 300, Loss: 0.03673679277300835\n",
            "Epoch: 7, Iter: 400, Loss: 0.03499570749700069\n",
            "Epoch: 8, Iter: 100, Loss: 0.03304748824238777\n",
            "Epoch: 8, Iter: 200, Loss: 0.03238979381322861\n",
            "Epoch: 8, Iter: 300, Loss: 0.030922196879982947\n",
            "Epoch: 8, Iter: 400, Loss: 0.030504914328455927\n",
            "Epoch: 9, Iter: 100, Loss: 0.028584867134690283\n",
            "Epoch: 9, Iter: 200, Loss: 0.028702900364995003\n",
            "Epoch: 9, Iter: 300, Loss: 0.027914297103881835\n",
            "Epoch: 9, Iter: 400, Loss: 0.028209891200065614\n",
            "Epoch: 10, Iter: 100, Loss: 0.027089693501591683\n",
            "Epoch: 10, Iter: 200, Loss: 0.026971325367689133\n",
            "Epoch: 10, Iter: 300, Loss: 0.026347728341817856\n",
            "Epoch: 10, Iter: 400, Loss: 0.02604785321652889\n"
          ]
        }
      ]
    },
    {
      "cell_type": "code",
      "source": [
        "correct = 0\n",
        "total = 0\n",
        "\n",
        "with torch.no_grad():\n",
        "    for data in test_loader128:\n",
        "        images, labels = data[0].to(device), data[1].to(device)\n",
        "        outputs = new_model(images)\n",
        "        _, predicted = torch.max(outputs.data, axis=1)\n",
        "        total += labels.size(0)\n",
        "        correct += (predicted == labels).sum().item()\n",
        "    \n",
        "    print(100 * correct / total)"
      ],
      "metadata": {
        "colab": {
          "base_uri": "https://localhost:8080/"
        },
        "id": "w3uuDeS_CV7k",
        "outputId": "8c543bd4-c495-44a2-c64e-5c3d3df1b3d1"
      },
      "execution_count": null,
      "outputs": [
        {
          "output_type": "stream",
          "name": "stdout",
          "text": [
            "80.39\n"
          ]
        }
      ]
    },
    {
      "cell_type": "markdown",
      "source": [
        "### 5개의 convolution-layer 사용시"
      ],
      "metadata": {
        "id": "kuP_3_DyD42p"
      }
    },
    {
      "cell_type": "code",
      "source": [
        "class CNN_Model5(nn.Module):\n",
        "    def __init__(self):\n",
        "        super(CNN_Model5, self).__init__()\n",
        "\n",
        "        self.conv1 = nn.Conv2d(in_channels=1, out_channels=5, kernel_size=3, stride=1, padding=2)\n",
        "        self.conv2 = nn.Conv2d(5, 7, 3, padding=1)      \n",
        "        self.conv3 = nn.Conv2d(7, 16, 2, padding=1)\n",
        "        self.conv4 = nn.Conv2d(16, 19, 2)\n",
        "        self.conv5 = nn.Conv2d(19, 29, 3)\n",
        "\n",
        "        self.fc1 = nn.Linear(29 * 13 * 13, 100)\n",
        "        self.fc2 = nn.Linear(100, 50)\n",
        "        self.fc3 = nn.Linear(50, 25)\n",
        "        self.fc4 = nn.Linear(25, 10) # 10 : 10개의 category\n",
        "\n",
        "    def forward(self, x):\n",
        "        x = F.relu(self.conv1(x))\n",
        "        x = F.max_pool2d(x, (2,2))\n",
        "        x = F.relu(self.conv2(x))\n",
        "        x = F.relu(self.conv3(x))\n",
        "        x = F.relu(self.conv4(x))\n",
        "        x = F.relu(self.conv5(x))\n",
        "\n",
        "        x = x.view(-1, self.num_flat_features(x)) # num_flat_features : 아래에서 정의\n",
        "\n",
        "        x = F.relu(self.fc1(x))\n",
        "        x = F.relu(self.fc2(x))\n",
        "        x = F.relu(self.fc3(x))\n",
        "        x = self.fc4(x)\n",
        "\n",
        "        return x\n",
        "    \n",
        "    def num_flat_features(self, x): # 처음 dim-size을 제외하고, 모두 곱한 값을 반환해준다.\n",
        "        size = x.size()[1:]\n",
        "        num_features = 1\n",
        "        for s in size:\n",
        "            num_features *= s\n",
        "        \n",
        "        return num_features"
      ],
      "metadata": {
        "id": "Bk1u7iloD42q"
      },
      "execution_count": null,
      "outputs": []
    },
    {
      "cell_type": "code",
      "source": [
        "# 모델객체 생성\n",
        "new_model = CNN_Model5().to(device)\n",
        "\n",
        "print(new_model)"
      ],
      "metadata": {
        "colab": {
          "base_uri": "https://localhost:8080/"
        },
        "outputId": "e0836f89-a4ae-4a9c-e9f4-bc24ed82c018",
        "id": "GPoNB-4vD42q"
      },
      "execution_count": null,
      "outputs": [
        {
          "output_type": "stream",
          "name": "stdout",
          "text": [
            "CNN_Model5(\n",
            "  (conv1): Conv2d(1, 5, kernel_size=(3, 3), stride=(1, 1), padding=(2, 2))\n",
            "  (conv2): Conv2d(5, 7, kernel_size=(3, 3), stride=(1, 1), padding=(1, 1))\n",
            "  (conv3): Conv2d(7, 16, kernel_size=(2, 2), stride=(1, 1), padding=(1, 1))\n",
            "  (conv4): Conv2d(16, 19, kernel_size=(2, 2), stride=(1, 1))\n",
            "  (conv5): Conv2d(19, 29, kernel_size=(3, 3), stride=(1, 1))\n",
            "  (fc1): Linear(in_features=4901, out_features=100, bias=True)\n",
            "  (fc2): Linear(in_features=100, out_features=50, bias=True)\n",
            "  (fc3): Linear(in_features=50, out_features=25, bias=True)\n",
            "  (fc4): Linear(in_features=25, out_features=10, bias=True)\n",
            ")\n"
          ]
        }
      ]
    },
    {
      "cell_type": "code",
      "source": [
        "summary(new_model, input_size=(128, 1, 28, 28))"
      ],
      "metadata": {
        "colab": {
          "base_uri": "https://localhost:8080/"
        },
        "outputId": "60c7c094-9b59-459f-8b37-faa0f18f0698",
        "id": "aDvnyPw6D42q"
      },
      "execution_count": null,
      "outputs": [
        {
          "output_type": "execute_result",
          "data": {
            "text/plain": [
              "==========================================================================================\n",
              "Layer (type:depth-idx)                   Output Shape              Param #\n",
              "==========================================================================================\n",
              "CNN_Model5                               [128, 10]                 --\n",
              "├─Conv2d: 1-1                            [128, 5, 30, 30]          50\n",
              "├─Conv2d: 1-2                            [128, 7, 15, 15]          322\n",
              "├─Conv2d: 1-3                            [128, 16, 16, 16]         464\n",
              "├─Conv2d: 1-4                            [128, 19, 15, 15]         1,235\n",
              "├─Conv2d: 1-5                            [128, 29, 13, 13]         4,988\n",
              "├─Linear: 1-6                            [128, 100]                490,200\n",
              "├─Linear: 1-7                            [128, 50]                 5,050\n",
              "├─Linear: 1-8                            [128, 25]                 1,275\n",
              "├─Linear: 1-9                            [128, 10]                 260\n",
              "==========================================================================================\n",
              "Total params: 503,844\n",
              "Trainable params: 503,844\n",
              "Non-trainable params: 0\n",
              "Total mult-adds (M): 237.29\n",
              "==========================================================================================\n",
              "Input size (MB): 0.40\n",
              "Forward/backward pass size (MB): 20.00\n",
              "Params size (MB): 2.02\n",
              "Estimated Total Size (MB): 22.42\n",
              "=========================================================================================="
            ]
          },
          "metadata": {},
          "execution_count": 103
        }
      ]
    },
    {
      "cell_type": "code",
      "source": [
        "optimizer = optim.SGD(new_model.parameters(), lr=0.001, momentum=0.9)"
      ],
      "metadata": {
        "id": "QmOiVQDLD42q"
      },
      "execution_count": null,
      "outputs": []
    },
    {
      "cell_type": "code",
      "source": [
        "for epoch in range(10):\n",
        "\n",
        "    running_loss = 0.0\n",
        "\n",
        "    for i, data in enumerate(train_loader128, start=0):\n",
        "        inputs, labels = data[0].to(device), data[1].to(device)\n",
        "\n",
        "        optimizer.zero_grad() # epoch마다 gradient 0으로 초기화\n",
        "\n",
        "        outputs = new_model(inputs) # y_pred = f(X)\n",
        "        loss = criterion(outputs, labels) # CrossEntropyLoss; 0~1 사이값\n",
        "        loss.backward() # back-propagation; gradient 계산\n",
        "        optimizer.step() # parameters(weights) update\n",
        "\n",
        "        running_loss += loss.item() # 그냥 전체적인 비교를 위해 누적함\n",
        "\n",
        "        if i % 100 == 99: # 100번 마다 확인; epoch=10, iter(=i)=469, batch=128\n",
        "            print('Epoch: {}, Iter: {}, Loss: {}'.format(epoch+1, i+1, running_loss/2000))\n",
        "            running_loss = 0.0"
      ],
      "metadata": {
        "colab": {
          "base_uri": "https://localhost:8080/"
        },
        "outputId": "435a3da1-fcef-48de-b419-ab004dfd3d8e",
        "id": "eS9fQfeED42q"
      },
      "execution_count": null,
      "outputs": [
        {
          "output_type": "stream",
          "name": "stdout",
          "text": [
            "Epoch: 1, Iter: 100, Loss: 0.11532787895202637\n",
            "Epoch: 1, Iter: 200, Loss: 0.11532190263271332\n",
            "Epoch: 1, Iter: 300, Loss: 0.11522132050991059\n",
            "Epoch: 1, Iter: 400, Loss: 0.11524536561965942\n",
            "Epoch: 2, Iter: 100, Loss: 0.11516456854343414\n",
            "Epoch: 2, Iter: 200, Loss: 0.11516634714603424\n",
            "Epoch: 2, Iter: 300, Loss: 0.11516660714149475\n",
            "Epoch: 2, Iter: 400, Loss: 0.11515363311767578\n",
            "Epoch: 3, Iter: 100, Loss: 0.1151256502866745\n",
            "Epoch: 3, Iter: 200, Loss: 0.11512220323085785\n",
            "Epoch: 3, Iter: 300, Loss: 0.11510164260864258\n",
            "Epoch: 3, Iter: 400, Loss: 0.1151017130613327\n",
            "Epoch: 4, Iter: 100, Loss: 0.11509067821502686\n",
            "Epoch: 4, Iter: 200, Loss: 0.11509009122848511\n",
            "Epoch: 4, Iter: 300, Loss: 0.11507981169223785\n",
            "Epoch: 4, Iter: 400, Loss: 0.11506389462947846\n",
            "Epoch: 5, Iter: 100, Loss: 0.11504180419445038\n",
            "Epoch: 5, Iter: 200, Loss: 0.11502680337429047\n",
            "Epoch: 5, Iter: 300, Loss: 0.11500411260128021\n",
            "Epoch: 5, Iter: 400, Loss: 0.11498297917842865\n",
            "Epoch: 6, Iter: 100, Loss: 0.11490251255035401\n",
            "Epoch: 6, Iter: 200, Loss: 0.11484059023857117\n",
            "Epoch: 6, Iter: 300, Loss: 0.11473956537246705\n",
            "Epoch: 6, Iter: 400, Loss: 0.11459892320632935\n",
            "Epoch: 7, Iter: 100, Loss: 0.11405263602733612\n",
            "Epoch: 7, Iter: 200, Loss: 0.11348262166976929\n",
            "Epoch: 7, Iter: 300, Loss: 0.11230669188499451\n",
            "Epoch: 7, Iter: 400, Loss: 0.10839625489711761\n",
            "Epoch: 8, Iter: 100, Loss: 0.06162974745035171\n",
            "Epoch: 8, Iter: 200, Loss: 0.04926114761829376\n",
            "Epoch: 8, Iter: 300, Loss: 0.04350288617610931\n",
            "Epoch: 8, Iter: 400, Loss: 0.03930507591366768\n",
            "Epoch: 9, Iter: 100, Loss: 0.03456991159915924\n",
            "Epoch: 9, Iter: 200, Loss: 0.03324788784980774\n",
            "Epoch: 9, Iter: 300, Loss: 0.03300537042319775\n",
            "Epoch: 9, Iter: 400, Loss: 0.031094648167490958\n",
            "Epoch: 10, Iter: 100, Loss: 0.03023258262872696\n",
            "Epoch: 10, Iter: 200, Loss: 0.029321451991796494\n",
            "Epoch: 10, Iter: 300, Loss: 0.028856825947761535\n",
            "Epoch: 10, Iter: 400, Loss: 0.027891267836093903\n"
          ]
        }
      ]
    },
    {
      "cell_type": "code",
      "source": [
        "correct = 0\n",
        "total = 0\n",
        "\n",
        "with torch.no_grad():\n",
        "    for data in test_loader128:\n",
        "        images, labels = data[0].to(device), data[1].to(device)\n",
        "        outputs = new_model(images)\n",
        "        _, predicted = torch.max(outputs.data, axis=1)\n",
        "        total += labels.size(0)\n",
        "        correct += (predicted == labels).sum().item()\n",
        "    \n",
        "    print(100 * correct / total)"
      ],
      "metadata": {
        "colab": {
          "base_uri": "https://localhost:8080/"
        },
        "outputId": "bad2975c-7803-42a6-929a-12d7e0c4b2e7",
        "id": "X0H3p7PGD42q"
      },
      "execution_count": null,
      "outputs": [
        {
          "output_type": "stream",
          "name": "stdout",
          "text": [
            "78.72\n"
          ]
        }
      ]
    }
  ]
}