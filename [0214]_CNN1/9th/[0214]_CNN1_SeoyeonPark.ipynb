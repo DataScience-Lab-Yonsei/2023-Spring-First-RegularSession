{
  "cells": [
    {
      "cell_type": "markdown",
      "metadata": {
        "id": "cdNvme8aKSBP"
      },
      "source": [
        "# 초기 세팅"
      ]
    },
    {
      "cell_type": "code",
      "execution_count": 2,
      "metadata": {
        "id": "P1v9luAfHXdz",
        "vscode": {
          "languageId": "python"
        }
      },
      "outputs": [],
      "source": [
        "import torch\n",
        "import torch.nn as nn\n",
        "import torch.nn.functional as F\n",
        "import torch.optim as optim\n",
        "from torch.utils.data import Dataset, DataLoader\n",
        "\n",
        "import torchvision\n",
        "import torchvision.datasets as datasets\n",
        "import torchvision.transforms as transforms\n",
        "\n",
        "import numpy as np\n",
        "import matplotlib.pyplot as plt\n",
        "plt.style.use('seaborn-white')"
      ]
    },
    {
      "cell_type": "code",
      "execution_count": 3,
      "metadata": {
        "colab": {
          "base_uri": "https://localhost:8080/"
        },
        "id": "D39aCPyTu2Ce",
        "outputId": "ebaeb0d8-3778-4619-b4a2-d839383e0fc6",
        "vscode": {
          "languageId": "python"
        }
      },
      "outputs": [
        {
          "name": "stdout",
          "output_type": "stream",
          "text": [
            "Looking in indexes: https://pypi.org/simple, https://us-python.pkg.dev/colab-wheels/public/simple/\n",
            "Requirement already satisfied: torchsummary in /usr/local/lib/python3.8/dist-packages (1.5.1)\n"
          ]
        }
      ],
      "source": [
        "!pip install torchsummary\n",
        "from torchsummary import summary"
      ]
    },
    {
      "cell_type": "markdown",
      "metadata": {
        "id": "02LdHlTTSz5L"
      },
      "source": [
        "- 현재 GPU 설정"
      ]
    },
    {
      "cell_type": "code",
      "execution_count": 4,
      "metadata": {
        "colab": {
          "base_uri": "https://localhost:8080/"
        },
        "id": "Ybsjn80uSx3X",
        "outputId": "79586c84-f73a-4d71-b23f-ca40407dcba9",
        "vscode": {
          "languageId": "python"
        }
      },
      "outputs": [
        {
          "data": {
            "text/plain": [
              "True"
            ]
          },
          "execution_count": 4,
          "metadata": {},
          "output_type": "execute_result"
        }
      ],
      "source": [
        "# colab의 runtime-type을 GPU로 설정해서, True가 나오도록 한다.\n",
        "\n",
        "torch.cuda.is_available()"
      ]
    },
    {
      "cell_type": "code",
      "execution_count": 5,
      "metadata": {
        "colab": {
          "base_uri": "https://localhost:8080/"
        },
        "id": "HlPZI5wfDQhv",
        "outputId": "807d6c1f-b545-4369-8c8a-eaabf273a2ee",
        "vscode": {
          "languageId": "python"
        }
      },
      "outputs": [
        {
          "data": {
            "text/plain": [
              "device(type='cuda')"
            ]
          },
          "execution_count": 5,
          "metadata": {},
          "output_type": "execute_result"
        }
      ],
      "source": [
        "use_cuda = torch.cuda.is_available()\n",
        "device = torch.device(\"cuda\" if use_cuda else \"cpu\")\n",
        "device"
      ]
    },
    {
      "cell_type": "markdown",
      "metadata": {
        "id": "OHckdZ55KeH2"
      },
      "source": [
        "# FashionMNIST 분류 모델 만들기\n",
        "* 흑/백(1) 이미지 데이터 분류\n",
        "* 28x28 pixel"
      ]
    },
    {
      "cell_type": "markdown",
      "metadata": {
        "id": "mCrBa-gRRMEO"
      },
      "source": [
        "## 데이터 로드"
      ]
    },
    {
      "cell_type": "code",
      "execution_count": 6,
      "metadata": {
        "id": "vYP9dGrWzDqd",
        "vscode": {
          "languageId": "python"
        }
      },
      "outputs": [],
      "source": [
        "# 데이터 전처리\n",
        "\n",
        "MNIST_transform = transforms.Compose([transforms.ToTensor(), # tensor로 펴준다.\n",
        "                                      transforms.Normalize((0.5,),(0.5,))]) # 정규화를 해준다."
      ]
    },
    {
      "cell_type": "code",
      "execution_count": 7,
      "metadata": {
        "colab": {
          "base_uri": "https://localhost:8080/",
          "height": 443,
          "referenced_widgets": [
            "342a0ea580ca4cbca4e126a2b474edec",
            "93c73df117cf45189acb53d17bdfb234",
            "27f80b8bbe3b498a848c88f7dd69c09f",
            "dd7cb1d3d9a54a51b8a308c81b75c479",
            "373fd6e959f3414688246719d4e0aa1c",
            "65f69d0bb9fa41d1872fb3c887f8c14a",
            "919466d711c84a95b80541b2015c67be",
            "635d5df06da440a6a62f344667e885cd",
            "4446dd7719e44957a71c5bf57fd87420",
            "3da7da7de5574294a20d93a281b8b48f",
            "b6f67fe83a774336bbef883daad4125f",
            "461047b036e54144a2dbfecb76405a0d",
            "1840ace9e85f4023af2b8d335c9a8b66",
            "344da4ff96a2448e920d1acbfa059bb9",
            "358b8e68b87a4f8eb760c6ef61cfa78a",
            "6a46e488477e47df9041ac1ff5c9df19",
            "1bf9be2d146f4d7d8d0f1c27a9210dd4",
            "eb1f6c3f8cad47509a337635a54c3cd3",
            "53f2971c83c84b8191dea450a66fe31b",
            "b389e409a55f48de8a3925c40b46a8a2",
            "ff0f2bd4a407444fbd50a9d4ea175cce",
            "6573e5306b1b441e8a4011504e99e442",
            "d0d6d80195f54fe98244a931ffcc57ee",
            "a250bca1e3754c9384e2b981f1c592c7",
            "f8b0dc39c89e44988f8c30c5b6ac1df1",
            "78f272cc9a784f53870193f23c6335f3",
            "38eb724ef47646e2b71359d1231e4270",
            "1705c53798d246b089035dfe36c0bc51",
            "eb983e4a3d0e4cbf9715d4ac5932edd3",
            "98af8963d0de455fa966c2ecc14b6281",
            "6c837ba56c9a4e66a0e3e7b064c2aacc",
            "d17a6985ca7145ce94251728b3cc597a",
            "6260e30a1ef9401a9fac6a35f298c0a9",
            "1c7b8fc1f2124df489ca048d0859b990",
            "088b90d0eb264398aa7327085c8205ce",
            "319cc4ffe7c5440a8c718b57b3c69f05",
            "73df476910e145519d17810de3e22b3c",
            "f88a36062a314d89a17e8bcf2b313c77",
            "46aaa64e040f4b91ae441dc2feaa4e09",
            "bd12ee978535431eb5e28b5fcea1a7ce",
            "65c5d07a7d8f4849a4ebf4bcfd296028",
            "9d2276fd6b484d64903623386e55057d",
            "3a19083b3c1a4ceba90da994d0e70147",
            "3ddbe8ab2fd34e03bfa9cfee394c7d05"
          ]
        },
        "id": "VpVsTevTWE5i",
        "outputId": "dbfadb6d-9d84-481e-bf77-61f6effa7517",
        "vscode": {
          "languageId": "python"
        }
      },
      "outputs": [
        {
          "name": "stdout",
          "output_type": "stream",
          "text": [
            "Downloading http://fashion-mnist.s3-website.eu-central-1.amazonaws.com/train-images-idx3-ubyte.gz\n",
            "Downloading http://fashion-mnist.s3-website.eu-central-1.amazonaws.com/train-images-idx3-ubyte.gz to /content/FashionMNIST/raw/train-images-idx3-ubyte.gz\n"
          ]
        },
        {
          "data": {
            "application/vnd.jupyter.widget-view+json": {
              "model_id": "342a0ea580ca4cbca4e126a2b474edec",
              "version_major": 2,
              "version_minor": 0
            },
            "text/plain": [
              "  0%|          | 0/26421880 [00:00<?, ?it/s]"
            ]
          },
          "metadata": {},
          "output_type": "display_data"
        },
        {
          "name": "stdout",
          "output_type": "stream",
          "text": [
            "Extracting /content/FashionMNIST/raw/train-images-idx3-ubyte.gz to /content/FashionMNIST/raw\n",
            "\n",
            "Downloading http://fashion-mnist.s3-website.eu-central-1.amazonaws.com/train-labels-idx1-ubyte.gz\n",
            "Downloading http://fashion-mnist.s3-website.eu-central-1.amazonaws.com/train-labels-idx1-ubyte.gz to /content/FashionMNIST/raw/train-labels-idx1-ubyte.gz\n"
          ]
        },
        {
          "data": {
            "application/vnd.jupyter.widget-view+json": {
              "model_id": "461047b036e54144a2dbfecb76405a0d",
              "version_major": 2,
              "version_minor": 0
            },
            "text/plain": [
              "  0%|          | 0/29515 [00:00<?, ?it/s]"
            ]
          },
          "metadata": {},
          "output_type": "display_data"
        },
        {
          "name": "stdout",
          "output_type": "stream",
          "text": [
            "Extracting /content/FashionMNIST/raw/train-labels-idx1-ubyte.gz to /content/FashionMNIST/raw\n",
            "\n",
            "Downloading http://fashion-mnist.s3-website.eu-central-1.amazonaws.com/t10k-images-idx3-ubyte.gz\n",
            "Downloading http://fashion-mnist.s3-website.eu-central-1.amazonaws.com/t10k-images-idx3-ubyte.gz to /content/FashionMNIST/raw/t10k-images-idx3-ubyte.gz\n"
          ]
        },
        {
          "data": {
            "application/vnd.jupyter.widget-view+json": {
              "model_id": "d0d6d80195f54fe98244a931ffcc57ee",
              "version_major": 2,
              "version_minor": 0
            },
            "text/plain": [
              "  0%|          | 0/4422102 [00:00<?, ?it/s]"
            ]
          },
          "metadata": {},
          "output_type": "display_data"
        },
        {
          "name": "stdout",
          "output_type": "stream",
          "text": [
            "Extracting /content/FashionMNIST/raw/t10k-images-idx3-ubyte.gz to /content/FashionMNIST/raw\n",
            "\n",
            "Downloading http://fashion-mnist.s3-website.eu-central-1.amazonaws.com/t10k-labels-idx1-ubyte.gz\n",
            "Downloading http://fashion-mnist.s3-website.eu-central-1.amazonaws.com/t10k-labels-idx1-ubyte.gz to /content/FashionMNIST/raw/t10k-labels-idx1-ubyte.gz\n"
          ]
        },
        {
          "data": {
            "application/vnd.jupyter.widget-view+json": {
              "model_id": "1c7b8fc1f2124df489ca048d0859b990",
              "version_major": 2,
              "version_minor": 0
            },
            "text/plain": [
              "  0%|          | 0/5148 [00:00<?, ?it/s]"
            ]
          },
          "metadata": {},
          "output_type": "display_data"
        },
        {
          "name": "stdout",
          "output_type": "stream",
          "text": [
            "Extracting /content/FashionMNIST/raw/t10k-labels-idx1-ubyte.gz to /content/FashionMNIST/raw\n",
            "\n"
          ]
        }
      ],
      "source": [
        "trainset = datasets.FashionMNIST(root='/content',\n",
        "                                 train=True, download=True,\n",
        "                                 transform=MNIST_transform)\n",
        "\n",
        "testset = datasets.FashionMNIST(root='/content',\n",
        "                                 train=False, download=True,\n",
        "                                 transform=MNIST_transform)"
      ]
    },
    {
      "cell_type": "markdown",
      "metadata": {
        "id": "qh7uI7ewsipv"
      },
      "source": [
        "input-data size 확인"
      ]
    },
    {
      "cell_type": "code",
      "execution_count": 8,
      "metadata": {
        "id": "Dz-CJf0x0nne",
        "vscode": {
          "languageId": "python"
        }
      },
      "outputs": [],
      "source": [
        "# batch-size=128\n",
        "train_loader128 =  DataLoader(trainset, batch_size=128, shuffle=True, num_workers=2)\n",
        "test_loader128 =  DataLoader(testset, batch_size=128, shuffle=False, num_workers=2)\n",
        "\n",
        "# batch-size=64\n",
        "train_loader64 =  DataLoader(trainset, batch_size=64, shuffle=True, num_workers=2)\n",
        "test_loader64 =  DataLoader(testset, batch_size=64, shuffle=False, num_workers=2)"
      ]
    },
    {
      "cell_type": "code",
      "execution_count": 9,
      "metadata": {
        "colab": {
          "base_uri": "https://localhost:8080/"
        },
        "id": "iy6D1Rg_07fD",
        "outputId": "e7fcd8c6-b106-4c45-d16c-becd573a4c52",
        "vscode": {
          "languageId": "python"
        }
      },
      "outputs": [
        {
          "data": {
            "text/plain": [
              "(torch.Size([128, 1, 28, 28]), torch.Size([128]))"
            ]
          },
          "execution_count": 9,
          "metadata": {},
          "output_type": "execute_result"
        }
      ],
      "source": [
        "# 128 : batch-size\n",
        "# 1 : 흑백\n",
        "# 28x28 : pixel-size\n",
        "\n",
        "images128, labels128 = next(iter(train_loader128))\n",
        "images128.shape, labels128.shape"
      ]
    },
    {
      "cell_type": "code",
      "execution_count": 10,
      "metadata": {
        "colab": {
          "base_uri": "https://localhost:8080/"
        },
        "id": "AotS6123m9sK",
        "outputId": "ad83c465-6841-45a5-d6de-65f5a104e028",
        "vscode": {
          "languageId": "python"
        }
      },
      "outputs": [
        {
          "data": {
            "text/plain": [
              "(torch.Size([64, 1, 28, 28]), torch.Size([64]))"
            ]
          },
          "execution_count": 10,
          "metadata": {},
          "output_type": "execute_result"
        }
      ],
      "source": [
        "# 64 : batch-size\n",
        "# 1 : 흑백\n",
        "# 28x28 : pixel-size\n",
        "\n",
        "images64, labels64 = next(iter(train_loader64))\n",
        "images64.shape, labels64.shape"
      ]
    },
    {
      "cell_type": "code",
      "execution_count": 11,
      "metadata": {
        "id": "g4Nd4uLGTEDy",
        "vscode": {
          "languageId": "python"
        }
      },
      "outputs": [],
      "source": [
        "# 숫자 label에 해당되는 값\n",
        "\n",
        "labels_map = {\n",
        "    0: 'T-Shirt',\n",
        "    1: 'Trouser',\n",
        "    2: 'Pullover',\n",
        "    3: 'Dress',\n",
        "    4: 'Coat',\n",
        "    5: 'Sandal',\n",
        "    6: 'Shirt',\n",
        "    7: 'Sneaker',\n",
        "    8: 'Bag',\n",
        "    9: 'Ankle Boot'\n",
        "}"
      ]
    },
    {
      "cell_type": "code",
      "execution_count": 12,
      "metadata": {
        "colab": {
          "base_uri": "https://localhost:8080/",
          "height": 191
        },
        "id": "_u5_UEAH09SB",
        "outputId": "c5eb646f-268a-4e2e-a4ef-7f369c376c41",
        "vscode": {
          "languageId": "python"
        }
      },
      "outputs": [
        {
          "data": {
            "image/png": "[encoded data removed]",
            "text/plain": [
              "<Figure size 864x864 with 4 Axes>"
            ]
          },
          "metadata": {},
          "output_type": "display_data"
        }
      ],
      "source": [
        "# 데이터 확인\n",
        "\n",
        "figure = plt.figure(figsize=(12,12))\n",
        "cols, rows = 4, 1\n",
        "\n",
        "for i in range(1, cols * rows + 1):\n",
        "    image = images128[i].squeeze()\n",
        "    label_idx = labels128[i].item() # y_label\n",
        "    label = labels_map[label_idx] # 위에서 해당되는 label\n",
        "\n",
        "    figure.add_subplot(rows, cols, i)\n",
        "    plt.title(label)\n",
        "    plt.axis('off')\n",
        "    plt.imshow(image, cmap='gray')\n",
        "\n",
        "plt.show()"
      ]
    },
    {
      "cell_type": "markdown",
      "metadata": {
        "id": "EFPYE3UUnpmX"
      },
      "source": [
        "## 모델 1 생성\n",
        "* 10개의 convolution-layer(Conv2d)와 2개의 fully-connected(fc)로 이루어진 모델\n",
        "* Total params: 28,784"
      ]
    },
    {
      "cell_type": "markdown",
      "metadata": {
        "id": "orF-z9choFaB"
      },
      "source": [
        "input-data size\n",
        "* train_loader128(batch-size;128) : 128, 1, 28, 28\n",
        "* train_loader64(batch-size;64) : 64, 1, 28, 28\n",
        "\n",
        "\n",
        "구현해야하는 모델 정보<br>\n",
        "* convolution-layer 1\n",
        "* maxpooling-layer\n",
        "* convolution-layer 2\n",
        "* convolution-layer 3\n",
        "* convolution-layer 4\n",
        "* convolution-layer 5\n",
        "* convolution-layer 6\n",
        "* convolution-layer 7\n",
        "* convolution-layer 8\n",
        "* convolution-layer 9\n",
        "* maxpooling-layer\n",
        "* convolution-layer 10\n",
        "* flatten\n",
        "* fc1\n",
        "* fc2\n",
        "\n",
        "추가 정보\n",
        "* 활성화함수 : relu\n",
        "(단, maxpooling과 마지막 fc2에는 보통적으로 활성화함수를 사용하지 않는다.)\n",
        "* flatten의 경우, weights가 들어가지 않는다. 즉, layer라고는 볼 수 없다.\n",
        "\n",
        "모델의 layer를 통과함에 따라 데이터의 크기 변화는 다음과 같다.\n",
        "1. batch-size128 -> torch.Size([128, 1, 28, 28]) 으로 시작\n",
        "2. batch-size;64 -> torch.Size([64, 1, 28, 28]) 으로 시작\n",
        "> * torch.Size([128 or 64, 5, 30, 30])\n",
        "> * torch.Size([128 or 64, 5, 15, 15])\n",
        "> * torch.Size([128 or 64, 7, 15, 15])\n",
        "> * torch.Size([128 or 64, 16, 16, 16])\n",
        "> * torch.Size([128 or 64, 19, 15, 15])\n",
        "> * torch.Size([128 or 64, 29, 13, 13])\n",
        "> * torch.Size([128 or 64, 29, 14, 14])\n",
        "> * torch.Size([128 or 64, 6, 12, 12])\n",
        "> * torch.Size([128 or 64, 2, 12, 12])\n",
        "> * torch.Size([128 or 64, 10, 7, 7]) # fc9\n",
        "> * torch.Size([128 or 64, 10, 3, 3]) # maxpool\n",
        "> * torch.Size([128 or 64, 20, 3, 3]) #fc10\n",
        "> * torch.Size([128 or 64, 180])\n",
        "> * torch.Size([128 or 64, 86])\n",
        "> * torch.Size([128 or 64, 10]) "
      ]
    },
    {
      "cell_type": "code",
      "execution_count": 21,
      "metadata": {
        "id": "EedVZU7Knv0X",
        "vscode": {
          "languageId": "python"
        }
      },
      "outputs": [],
      "source": [
        "class CNN_Model1(nn.Module):\n",
        "    def __init__(self):\n",
        "        super(CNN_Model1, self).__init__()\n",
        "\n",
        "        self.conv1 = nn.Conv2d(in_channels=1, out_channels=5, kernel_size=3, stride=1, padding=2)\n",
        "        # in-channels = 1 <- 흑/백\n",
        "        # out-channels = 5\n",
        "        # kernel_size / filter-size = 2x2 -> f=3\n",
        "        # stride = 1(default) -> s=1\n",
        "        # padding = 2(default) -> p=2\n",
        "        # input-data pixel size = 28x28 -> n=28\n",
        "        # (n-f+2p)/s + 1 = new n\n",
        "        # (28-3+2x2)/1 + 1 = 30\n",
        "    \n",
        "        # maxpool : n=30 -> 15\n",
        "\n",
        "        self.conv2 = nn.Conv2d(5, 7, 3, padding=1)\n",
        "        # in-channels = 5 <- 이전것의 out-channels\n",
        "        # out-channels = 7\n",
        "        # filter-size = 3x3\n",
        "        # stride = 1(default)\n",
        "        # padding = 1\n",
        "        # (n-f+2p)/s + 1 = new n    \n",
        "        # (15-3+2x1)/1 + 1 = 15\n",
        "\n",
        "        self.conv3 = nn.Conv2d(7, 16, 2, padding = 1)\n",
        "        self.conv4 = nn.Conv2d(16, 19, 2)\n",
        "        self.conv5 = nn.Conv2d(19, 29, 3)\n",
        "        self.conv6 = nn.Conv2d(29, 29, 2, padding = 1)\n",
        "        self.conv7 = nn.Conv2d(29, 6, 3)\n",
        "        self.conv8 = nn.Conv2d(6, 2, 1)\n",
        "        self.conv9 = nn.Conv2d(2, 10, 2, stride = 2, padding = 1)\n",
        "        self.conv10 = nn.Conv2d(10, 20, 1, stride = 1)\n",
        "\n",
        "        self.fc1 = nn.Linear(180, 86)\n",
        "        self.fc2 = nn.Linear(86, 10)\n",
        "\n",
        "\n",
        "    def forward(self, x):\n",
        "        x = F.relu(self.conv1(x))\n",
        "        x = F.max_pool2d(x, (2, 2))\n",
        "        x = F.relu(self.conv2(x))\n",
        "        x = F.relu(self.conv3(x))\n",
        "        x = F.relu(self.conv4(x))\n",
        "        x = F.relu(self.conv5(x))\n",
        "        x = F.relu(self.conv6(x))\n",
        "        x = F.relu(self.conv7(x))\n",
        "        x = F.relu(self.conv8(x))\n",
        "        x = F.relu(self.conv9(x))\n",
        "        x = F.max_pool2d(x, (2, 2))\n",
        "        x = F.relu(self.conv10(x))\n",
        "        \n",
        "        x = x.view(-1, self.num_flat_features(x)) # num_flat_features : 아래에서 정의\n",
        "\n",
        "        x = F.relu(self.fc1(x))\n",
        "        x = self.fc2(x)\n",
        "\n",
        "        return x\n",
        "\n",
        "\n",
        "    def num_flat_features(self, x): # 처음 dim-size을 제외하고, 모두 곱한 값을 반환해준다.\n",
        "        size = x.size()[1:]\n",
        "        num_features = 1\n",
        "        for s in size:\n",
        "            num_features *= s\n",
        "        \n",
        "        return num_features"
      ]
    },
    {
      "cell_type": "code",
      "execution_count": 22,
      "metadata": {
        "colab": {
          "base_uri": "https://localhost:8080/"
        },
        "id": "RiMZ7sX6oDn3",
        "outputId": "c6443f1b-1c66-458a-8ce9-d70451879982",
        "vscode": {
          "languageId": "python"
        }
      },
      "outputs": [
        {
          "name": "stdout",
          "output_type": "stream",
          "text": [
            "CNN_Model1(\n",
            "  (conv1): Conv2d(1, 5, kernel_size=(3, 3), stride=(1, 1), padding=(2, 2))\n",
            "  (conv2): Conv2d(5, 7, kernel_size=(3, 3), stride=(1, 1), padding=(1, 1))\n",
            "  (conv3): Conv2d(7, 16, kernel_size=(2, 2), stride=(1, 1), padding=(1, 1))\n",
            "  (conv4): Conv2d(16, 19, kernel_size=(2, 2), stride=(1, 1))\n",
            "  (conv5): Conv2d(19, 29, kernel_size=(3, 3), stride=(1, 1))\n",
            "  (conv6): Conv2d(29, 29, kernel_size=(2, 2), stride=(1, 1), padding=(1, 1))\n",
            "  (conv7): Conv2d(29, 6, kernel_size=(3, 3), stride=(1, 1))\n",
            "  (conv8): Conv2d(6, 2, kernel_size=(1, 1), stride=(1, 1))\n",
            "  (conv9): Conv2d(2, 10, kernel_size=(2, 2), stride=(2, 2), padding=(1, 1))\n",
            "  (conv10): Conv2d(10, 20, kernel_size=(1, 1), stride=(1, 1))\n",
            "  (fc1): Linear(in_features=180, out_features=86, bias=True)\n",
            "  (fc2): Linear(in_features=86, out_features=10, bias=True)\n",
            ")\n"
          ]
        }
      ],
      "source": [
        "# 모델객체 생성\n",
        "DeepConv_net128 = CNN_Model1().to(device)\n",
        "DeepConv_net64 = CNN_Model1().to(device)\n",
        "\n",
        "print(DeepConv_net128)"
      ]
    },
    {
      "cell_type": "code",
      "execution_count": 23,
      "metadata": {
        "colab": {
          "base_uri": "https://localhost:8080/"
        },
        "id": "8gBjDmoc7fJh",
        "outputId": "9b4b353a-b591-4d85-d5c9-3c31c172c099",
        "vscode": {
          "languageId": "python"
        }
      },
      "outputs": [
        {
          "data": {
            "text/plain": [
              "torch.Size([128, 1, 28, 28])"
            ]
          },
          "execution_count": 23,
          "metadata": {},
          "output_type": "execute_result"
        }
      ],
      "source": [
        "input = images128.to(device)\n",
        "input.size()"
      ]
    },
    {
      "cell_type": "code",
      "execution_count": 24,
      "metadata": {
        "colab": {
          "base_uri": "https://localhost:8080/"
        },
        "id": "tflPlTme7h9x",
        "outputId": "07d423ae-cddc-4b4b-e746-c190966669f9",
        "vscode": {
          "languageId": "python"
        }
      },
      "outputs": [
        {
          "data": {
            "text/plain": [
              "torch.Size([128, 10])"
            ]
          },
          "execution_count": 24,
          "metadata": {},
          "output_type": "execute_result"
        }
      ],
      "source": [
        "output = DeepConv_net128.forward(input)\n",
        "output.size()"
      ]
    },
    {
      "cell_type": "code",
      "execution_count": 25,
      "metadata": {
        "colab": {
          "base_uri": "https://localhost:8080/"
        },
        "id": "DSH3qCADujAi",
        "outputId": "df3191a2-0eb3-44e5-ead0-1bab43e2d9ca",
        "vscode": {
          "languageId": "python"
        }
      },
      "outputs": [
        {
          "name": "stdout",
          "output_type": "stream",
          "text": [
            "----------------------------------------------------------------\n",
            "        Layer (type)               Output Shape         Param #\n",
            "================================================================\n",
            "            Conv2d-1           [128, 5, 30, 30]              50\n",
            "            Conv2d-2           [128, 7, 15, 15]             322\n",
            "            Conv2d-3          [128, 16, 16, 16]             464\n",
            "            Conv2d-4          [128, 19, 15, 15]           1,235\n",
            "            Conv2d-5          [128, 29, 13, 13]           4,988\n",
            "            Conv2d-6          [128, 29, 14, 14]           3,393\n",
            "            Conv2d-7           [128, 6, 12, 12]           1,572\n",
            "            Conv2d-8           [128, 2, 12, 12]              14\n",
            "            Conv2d-9            [128, 10, 7, 7]              90\n",
            "           Conv2d-10            [128, 20, 3, 3]             220\n",
            "           Linear-11                  [128, 86]          15,566\n",
            "           Linear-12                  [128, 10]             870\n",
            "================================================================\n",
            "Total params: 28,784\n",
            "Trainable params: 28,784\n",
            "Non-trainable params: 0\n",
            "----------------------------------------------------------------\n",
            "Input size (MB): 0.38\n",
            "Forward/backward pass size (MB): 26.32\n",
            "Params size (MB): 0.11\n",
            "Estimated Total Size (MB): 26.81\n",
            "----------------------------------------------------------------\n"
          ]
        }
      ],
      "source": [
        "summary(DeepConv_net128, input_size=(1, 28, 28), batch_size=128)"
      ]
    },
    {
      "cell_type": "code",
      "execution_count": 26,
      "metadata": {
        "colab": {
          "base_uri": "https://localhost:8080/"
        },
        "id": "jcybKk5Nvj4Z",
        "outputId": "16088823-3b04-448a-805b-ec2dfec306a6",
        "vscode": {
          "languageId": "python"
        }
      },
      "outputs": [
        {
          "data": {
            "text/plain": [
              "torch.Size([64, 1, 28, 28])"
            ]
          },
          "execution_count": 26,
          "metadata": {},
          "output_type": "execute_result"
        }
      ],
      "source": [
        "input = images64.to(device)\n",
        "input.size()"
      ]
    },
    {
      "cell_type": "code",
      "execution_count": 27,
      "metadata": {
        "colab": {
          "base_uri": "https://localhost:8080/"
        },
        "id": "y2PZCHyyvj4a",
        "outputId": "4a33996b-989e-42ce-c961-bd404757289e",
        "vscode": {
          "languageId": "python"
        }
      },
      "outputs": [
        {
          "data": {
            "text/plain": [
              "torch.Size([64, 10])"
            ]
          },
          "execution_count": 27,
          "metadata": {},
          "output_type": "execute_result"
        }
      ],
      "source": [
        "output = DeepConv_net64.forward(input)\n",
        "output.size()"
      ]
    },
    {
      "cell_type": "code",
      "execution_count": 28,
      "metadata": {
        "colab": {
          "base_uri": "https://localhost:8080/"
        },
        "id": "uh1pmRXcvZP8",
        "outputId": "e2319c0f-f1f9-4bbb-ebdf-422e1687ab51",
        "vscode": {
          "languageId": "python"
        }
      },
      "outputs": [
        {
          "name": "stdout",
          "output_type": "stream",
          "text": [
            "----------------------------------------------------------------\n",
            "        Layer (type)               Output Shape         Param #\n",
            "================================================================\n",
            "            Conv2d-1            [64, 5, 30, 30]              50\n",
            "            Conv2d-2            [64, 7, 15, 15]             322\n",
            "            Conv2d-3           [64, 16, 16, 16]             464\n",
            "            Conv2d-4           [64, 19, 15, 15]           1,235\n",
            "            Conv2d-5           [64, 29, 13, 13]           4,988\n",
            "            Conv2d-6           [64, 29, 14, 14]           3,393\n",
            "            Conv2d-7            [64, 6, 12, 12]           1,572\n",
            "            Conv2d-8            [64, 2, 12, 12]              14\n",
            "            Conv2d-9             [64, 10, 7, 7]              90\n",
            "           Conv2d-10             [64, 20, 3, 3]             220\n",
            "           Linear-11                   [64, 86]          15,566\n",
            "           Linear-12                   [64, 10]             870\n",
            "================================================================\n",
            "Total params: 28,784\n",
            "Trainable params: 28,784\n",
            "Non-trainable params: 0\n",
            "----------------------------------------------------------------\n",
            "Input size (MB): 0.19\n",
            "Forward/backward pass size (MB): 13.16\n",
            "Params size (MB): 0.11\n",
            "Estimated Total Size (MB): 13.46\n",
            "----------------------------------------------------------------\n"
          ]
        }
      ],
      "source": [
        "summary(DeepConv_net64, input_size=(1, 28, 28), batch_size=64)"
      ]
    },
    {
      "cell_type": "markdown",
      "metadata": {
        "id": "xVxKI_rwCvhI"
      },
      "source": [
        "## 모델 2 생성\n",
        "* 2개의 convolution-layer(Conv2d)와 5개의 fully-connected(fc)로 이루어진 모델\n",
        "* Total params: 9,516,488"
      ]
    },
    {
      "cell_type": "markdown",
      "metadata": {
        "id": "uN5s0Re-CvhI"
      },
      "source": [
        "input-data size\n",
        "* train_loader128(batch-size;128) : 128, 1, 28, 28\n",
        "* train_loader64(batch-size;64) : 64, 1, 28, 28\n",
        "\n",
        "\n",
        "구현해야하는 모델 정보<br>\n",
        "* convolution-layer 1\n",
        "* maxpooling-layer\n",
        "* convolution-layer 2\n",
        "* flatten\n",
        "* fc1\n",
        "* fc2\n",
        "* fc3\n",
        "* fc4\n",
        "* fc5\n",
        "\n",
        "추가 정보\n",
        "* 활성화함수 : relu\n",
        "(단, maxpooling과 마지막 fc5에는 보통적으로 활성화함수를 사용하지 않는다.)\n",
        "* flatten의 경우, weights가 들어가지 않는다. 즉, layer라고는 볼 수 없다.\n",
        "\n",
        "모델의 layer를 통과함에 따라 데이터의 크기 변화는 다음과 같다.\n",
        "\n",
        "1. batch-size128 -> torch.Size([128, 1, 28, 28]) 으로 시작\n",
        "2. batch-size;64 -> torch.Size([64, 1, 28, 28]) 으로 시작\n",
        "> * torch.Size([128 or 64, 5, 30, 30])\n",
        "> * torch.Size([128 or 64, 5, 15, 15])\n",
        "> * torch.Size([128 or 64, 7, 15, 15])\n",
        "> * torch.Size([128 or 64, 1575])\n",
        "> * torch.Size([128 or 64, 3000])\n",
        "> * torch.Size([128 or 64, 1500])\n",
        "> * torch.Size([128 or 64, 180])\n",
        "> * torch.Size([128 or 64, 86])\n",
        "> * torch.Size([128 or 64, 10])"
      ]
    },
    {
      "cell_type": "code",
      "execution_count": 29,
      "metadata": {
        "id": "JfSM-k0DCvhI",
        "vscode": {
          "languageId": "python"
        }
      },
      "outputs": [],
      "source": [
        "class CNN_Model2(nn.Module):\n",
        "    def __init__(self):\n",
        "        super(CNN_Model2, self).__init__()\n",
        "\n",
        "        self.conv1 = nn.Conv2d(in_channels=1, out_channels=5, kernel_size=3, stride=1, padding=2)\n",
        "        self.conv2 = nn.Conv2d(5, 7, 3, padding=1)\n",
        "        \n",
        "        self.fc1 = nn.Linear(1575, 3000)\n",
        "        self.fc2 = nn.Linear(3000, 1500)\n",
        "        self.fc3 = nn.Linear(1500, 180)\n",
        "        self.fc4 = nn.Linear(180, 86)\n",
        "        self.fc5 = nn.Linear(86, 10)\n",
        "\n",
        "    def forward(self, x):\n",
        "        x = F.relu(self.conv1(x))\n",
        "        x = F.max_pool2d(x, (2, 2))\n",
        "        x = F.relu(self.conv2(x))\n",
        "        \n",
        "        x = x.view(-1, self.num_flat_features(x)) # num_flat_features : 아래에서 정의\n",
        "\n",
        "        x = F.relu(self.fc1(x))\n",
        "        x = F.relu(self.fc2(x))\n",
        "        x = F.relu(self.fc3(x))\n",
        "        x = F.relu(self.fc4(x))\n",
        "        x = self.fc5(x)\n",
        "\n",
        "        return x\n",
        "    \n",
        "    def num_flat_features(self, x): # 처음 dim-size을 제외하고, 모두 곱한 값을 반환해준다.\n",
        "        size = x.size()[1:]\n",
        "        num_features = 1\n",
        "        for s in size:\n",
        "            num_features *= s\n",
        "        \n",
        "        return num_features"
      ]
    },
    {
      "cell_type": "code",
      "execution_count": 30,
      "metadata": {
        "colab": {
          "base_uri": "https://localhost:8080/"
        },
        "id": "QQ_AnPi5CvhI",
        "outputId": "b45d63ec-9bd9-4dec-b2de-a115f8eb4f67",
        "vscode": {
          "languageId": "python"
        }
      },
      "outputs": [
        {
          "name": "stdout",
          "output_type": "stream",
          "text": [
            "CNN_Model2(\n",
            "  (conv1): Conv2d(1, 5, kernel_size=(3, 3), stride=(1, 1), padding=(2, 2))\n",
            "  (conv2): Conv2d(5, 7, kernel_size=(3, 3), stride=(1, 1), padding=(1, 1))\n",
            "  (fc1): Linear(in_features=1575, out_features=3000, bias=True)\n",
            "  (fc2): Linear(in_features=3000, out_features=1500, bias=True)\n",
            "  (fc3): Linear(in_features=1500, out_features=180, bias=True)\n",
            "  (fc4): Linear(in_features=180, out_features=86, bias=True)\n",
            "  (fc5): Linear(in_features=86, out_features=10, bias=True)\n",
            ")\n"
          ]
        }
      ],
      "source": [
        "# 모델객체 생성\n",
        "DeepFC_net128 = CNN_Model2().to(device)\n",
        "DeepFC_net64 = CNN_Model2().to(device)\n",
        "\n",
        "print(DeepFC_net128)"
      ]
    },
    {
      "cell_type": "code",
      "execution_count": 31,
      "metadata": {
        "colab": {
          "base_uri": "https://localhost:8080/"
        },
        "id": "S9IVOG3pwgoS",
        "outputId": "eabb7a08-e2bd-40ac-b24d-cd248752ffbf",
        "vscode": {
          "languageId": "python"
        }
      },
      "outputs": [
        {
          "data": {
            "text/plain": [
              "torch.Size([128, 1, 28, 28])"
            ]
          },
          "execution_count": 31,
          "metadata": {},
          "output_type": "execute_result"
        }
      ],
      "source": [
        "input = images128.to(device)\n",
        "input.size()"
      ]
    },
    {
      "cell_type": "code",
      "execution_count": 32,
      "metadata": {
        "colab": {
          "base_uri": "https://localhost:8080/"
        },
        "id": "p4ydm5qCwgoT",
        "outputId": "f3b37ac2-a4fd-4a21-8d08-8c81a1f2012e",
        "vscode": {
          "languageId": "python"
        }
      },
      "outputs": [
        {
          "data": {
            "text/plain": [
              "torch.Size([128, 10])"
            ]
          },
          "execution_count": 32,
          "metadata": {},
          "output_type": "execute_result"
        }
      ],
      "source": [
        "output = DeepFC_net128.forward(input)\n",
        "output.size()"
      ]
    },
    {
      "cell_type": "code",
      "execution_count": 33,
      "metadata": {
        "colab": {
          "base_uri": "https://localhost:8080/"
        },
        "id": "Q3uN6Dw6wgoT",
        "outputId": "2caced82-56d4-45eb-dcab-e431cad85153",
        "vscode": {
          "languageId": "python"
        }
      },
      "outputs": [
        {
          "name": "stdout",
          "output_type": "stream",
          "text": [
            "----------------------------------------------------------------\n",
            "        Layer (type)               Output Shape         Param #\n",
            "================================================================\n",
            "            Conv2d-1           [128, 5, 30, 30]              50\n",
            "            Conv2d-2           [128, 7, 15, 15]             322\n",
            "            Linear-3                [128, 3000]       4,728,000\n",
            "            Linear-4                [128, 1500]       4,501,500\n",
            "            Linear-5                 [128, 180]         270,180\n",
            "            Linear-6                  [128, 86]          15,566\n",
            "            Linear-7                  [128, 10]             870\n",
            "================================================================\n",
            "Total params: 9,516,488\n",
            "Trainable params: 9,516,488\n",
            "Non-trainable params: 0\n",
            "----------------------------------------------------------------\n",
            "Input size (MB): 0.38\n",
            "Forward/backward pass size (MB): 10.60\n",
            "Params size (MB): 36.30\n",
            "Estimated Total Size (MB): 47.28\n",
            "----------------------------------------------------------------\n"
          ]
        }
      ],
      "source": [
        "summary(DeepFC_net128, input_size=(1, 28, 28), batch_size=128)"
      ]
    },
    {
      "cell_type": "code",
      "execution_count": 34,
      "metadata": {
        "colab": {
          "base_uri": "https://localhost:8080/"
        },
        "id": "d9t36x7bwgoT",
        "outputId": "a5652822-aec8-4cf5-973c-ab77a2ef9858",
        "vscode": {
          "languageId": "python"
        }
      },
      "outputs": [
        {
          "data": {
            "text/plain": [
              "torch.Size([64, 1, 28, 28])"
            ]
          },
          "execution_count": 34,
          "metadata": {},
          "output_type": "execute_result"
        }
      ],
      "source": [
        "input = images64.to(device)\n",
        "input.size()"
      ]
    },
    {
      "cell_type": "code",
      "execution_count": 35,
      "metadata": {
        "colab": {
          "base_uri": "https://localhost:8080/"
        },
        "id": "GFHweMakwgoT",
        "outputId": "5a6f6cc5-6aac-47ff-fe12-ff32093550ca",
        "vscode": {
          "languageId": "python"
        }
      },
      "outputs": [
        {
          "data": {
            "text/plain": [
              "torch.Size([64, 10])"
            ]
          },
          "execution_count": 35,
          "metadata": {},
          "output_type": "execute_result"
        }
      ],
      "source": [
        "output = DeepFC_net64.forward(input)\n",
        "output.size()"
      ]
    },
    {
      "cell_type": "code",
      "execution_count": 36,
      "metadata": {
        "colab": {
          "base_uri": "https://localhost:8080/"
        },
        "id": "2VIZ4WCCwgoT",
        "outputId": "384a3df6-6ab9-4902-b39a-1f4f6c6d8b28",
        "vscode": {
          "languageId": "python"
        }
      },
      "outputs": [
        {
          "name": "stdout",
          "output_type": "stream",
          "text": [
            "----------------------------------------------------------------\n",
            "        Layer (type)               Output Shape         Param #\n",
            "================================================================\n",
            "            Conv2d-1            [64, 5, 30, 30]              50\n",
            "            Conv2d-2            [64, 7, 15, 15]             322\n",
            "            Linear-3                 [64, 3000]       4,728,000\n",
            "            Linear-4                 [64, 1500]       4,501,500\n",
            "            Linear-5                  [64, 180]         270,180\n",
            "            Linear-6                   [64, 86]          15,566\n",
            "            Linear-7                   [64, 10]             870\n",
            "================================================================\n",
            "Total params: 9,516,488\n",
            "Trainable params: 9,516,488\n",
            "Non-trainable params: 0\n",
            "----------------------------------------------------------------\n",
            "Input size (MB): 0.19\n",
            "Forward/backward pass size (MB): 5.30\n",
            "Params size (MB): 36.30\n",
            "Estimated Total Size (MB): 41.79\n",
            "----------------------------------------------------------------\n"
          ]
        }
      ],
      "source": [
        "summary(DeepFC_net64, input_size=(1, 28, 28), batch_size=64)"
      ]
    },
    {
      "cell_type": "markdown",
      "metadata": {
        "id": "klpXGc2tCimP"
      },
      "source": [
        "## 손실함수와 옵티마이저"
      ]
    },
    {
      "cell_type": "code",
      "execution_count": 37,
      "metadata": {
        "id": "69AHX-ZXClOm",
        "vscode": {
          "languageId": "python"
        }
      },
      "outputs": [],
      "source": [
        "criterion = nn.CrossEntropyLoss()\n",
        "\n",
        "optimizerDC_128 = optim.SGD(DeepConv_net128.parameters(), lr=0.001, momentum=0.9)\n",
        "optimizerDC_64 = optim.SGD(DeepConv_net64.parameters(), lr=0.001, momentum=0.9)\n",
        "optimizerFC_128 = optim.SGD(DeepFC_net128.parameters(), lr=0.001, momentum=0.9)\n",
        "optimizerFC_64 = optim.SGD(DeepFC_net64.parameters(), lr=0.001, momentum=0.9)"
      ]
    },
    {
      "cell_type": "markdown",
      "metadata": {
        "id": "huNh3EnhJLyh"
      },
      "source": [
        "## 모델 학습"
      ]
    },
    {
      "cell_type": "markdown",
      "metadata": {
        "id": "W-2Q7c6-JW9z"
      },
      "source": [
        "### 1. DeepConv_net128\n",
        "* 10개의 Convolution-layer & 2개의 fc-layer\n",
        "* 128 batch-size"
      ]
    },
    {
      "cell_type": "code",
      "execution_count": 38,
      "metadata": {
        "colab": {
          "base_uri": "https://localhost:8080/"
        },
        "id": "y-_UvdNWJR-r",
        "outputId": "6ed22b5e-c674-43f8-99d1-ce8ba77838e9",
        "vscode": {
          "languageId": "python"
        }
      },
      "outputs": [
        {
          "name": "stdout",
          "output_type": "stream",
          "text": [
            "Epoch: 1, Iter: 100, Loss: 0.11519150531291962\n",
            "Epoch: 1, Iter: 200, Loss: 0.11518996894359589\n",
            "Epoch: 1, Iter: 300, Loss: 0.11516134047508239\n",
            "Epoch: 1, Iter: 400, Loss: 0.11515785813331604\n",
            "Epoch: 2, Iter: 100, Loss: 0.11515889167785645\n",
            "Epoch: 2, Iter: 200, Loss: 0.11513069367408753\n",
            "Epoch: 2, Iter: 300, Loss: 0.11513091552257537\n",
            "Epoch: 2, Iter: 400, Loss: 0.11513149285316468\n",
            "Epoch: 3, Iter: 100, Loss: 0.11513027179241181\n",
            "Epoch: 3, Iter: 200, Loss: 0.11513023281097412\n",
            "Epoch: 3, Iter: 300, Loss: 0.11513718664646148\n",
            "Epoch: 3, Iter: 400, Loss: 0.1151339477300644\n",
            "Epoch: 4, Iter: 100, Loss: 0.11513163888454438\n",
            "Epoch: 4, Iter: 200, Loss: 0.11513055288791657\n",
            "Epoch: 4, Iter: 300, Loss: 0.1151354558467865\n",
            "Epoch: 4, Iter: 400, Loss: 0.11513252592086792\n",
            "Epoch: 5, Iter: 100, Loss: 0.11513036465644837\n",
            "Epoch: 5, Iter: 200, Loss: 0.11513222277164459\n",
            "Epoch: 5, Iter: 300, Loss: 0.11513370621204376\n",
            "Epoch: 5, Iter: 400, Loss: 0.1151313318014145\n",
            "Epoch: 6, Iter: 100, Loss: 0.11513178622722625\n",
            "Epoch: 6, Iter: 200, Loss: 0.11512980389595032\n",
            "Epoch: 6, Iter: 300, Loss: 0.1151329402923584\n",
            "Epoch: 6, Iter: 400, Loss: 0.1151338677406311\n",
            "Epoch: 7, Iter: 100, Loss: 0.11513082456588745\n",
            "Epoch: 7, Iter: 200, Loss: 0.11512707459926605\n",
            "Epoch: 7, Iter: 300, Loss: 0.11513172388076783\n",
            "Epoch: 7, Iter: 400, Loss: 0.11513468527793884\n",
            "Epoch: 8, Iter: 100, Loss: 0.1151309598684311\n",
            "Epoch: 8, Iter: 200, Loss: 0.11513145864009858\n",
            "Epoch: 8, Iter: 300, Loss: 0.11513344657421112\n",
            "Epoch: 8, Iter: 400, Loss: 0.1151306265592575\n",
            "Epoch: 9, Iter: 100, Loss: 0.1151275006532669\n",
            "Epoch: 9, Iter: 200, Loss: 0.11513334500789642\n",
            "Epoch: 9, Iter: 300, Loss: 0.11513373398780823\n",
            "Epoch: 9, Iter: 400, Loss: 0.11513301932811737\n",
            "Epoch: 10, Iter: 100, Loss: 0.11512942790985108\n",
            "Epoch: 10, Iter: 200, Loss: 0.11513298261165619\n",
            "Epoch: 10, Iter: 300, Loss: 0.11512972629070282\n",
            "Epoch: 10, Iter: 400, Loss: 0.1151344631910324\n"
          ]
        }
      ],
      "source": [
        "for epoch in range(10):\n",
        "\n",
        "    running_loss = 0.0\n",
        "\n",
        "    for i, data in enumerate(train_loader128, start=0):\n",
        "        inputs, labels = data[0].to(device), data[1].to(device)\n",
        "\n",
        "        optimizerDC_128.zero_grad() # epoch마다 gradient 0으로 초기화\n",
        "\n",
        "        outputs = DeepConv_net128(inputs) # y_pred = f(X)\n",
        "        loss = criterion(outputs, labels) # CrossEntropyLoss; 0~1 사이값\n",
        "        loss.backward() # back-propagation; gradient 계산\n",
        "        optimizerDC_128.step() # parameters(weights) update\n",
        "\n",
        "        running_loss += loss.item() # 그냥 전체적인 비교를 위해 누적함\n",
        "\n",
        "        if i % 100 == 99: # 100번 마다 확인; epoch=10, iter(=i)=469, batch=128\n",
        "            print('Epoch: {}, Iter: {}, Loss: {}'.format(epoch+1, i+1, running_loss/2000))\n",
        "            running_loss = 0.0"
      ]
    },
    {
      "cell_type": "code",
      "execution_count": 39,
      "metadata": {
        "colab": {
          "base_uri": "https://localhost:8080/"
        },
        "id": "dNa8-7SC5u2a",
        "outputId": "54e5bfdd-e038-4ea2-e2f2-61f5564a4da6",
        "vscode": {
          "languageId": "python"
        }
      },
      "outputs": [
        {
          "name": "stdout",
          "output_type": "stream",
          "text": [
            "Epoch: 1, Iter: 100, Loss: 0.11512726104259491\n",
            "Epoch: 1, Iter: 200, Loss: 0.11513332390785218\n",
            "Epoch: 1, Iter: 300, Loss: 0.11513173830509185\n",
            "Epoch: 1, Iter: 400, Loss: 0.11513372039794922\n",
            "Epoch: 2, Iter: 100, Loss: 0.11513016498088836\n",
            "Epoch: 2, Iter: 200, Loss: 0.11513136327266693\n",
            "Epoch: 2, Iter: 300, Loss: 0.1151308035850525\n",
            "Epoch: 2, Iter: 400, Loss: 0.11513329875469208\n",
            "Epoch: 3, Iter: 100, Loss: 0.1151288526058197\n",
            "Epoch: 3, Iter: 200, Loss: 0.11513349199295043\n",
            "Epoch: 3, Iter: 300, Loss: 0.11513250052928925\n",
            "Epoch: 3, Iter: 400, Loss: 0.11513468360900879\n",
            "Epoch: 4, Iter: 100, Loss: 0.11512937211990357\n",
            "Epoch: 4, Iter: 200, Loss: 0.11513242423534394\n",
            "Epoch: 4, Iter: 300, Loss: 0.11513095009326935\n",
            "Epoch: 4, Iter: 400, Loss: 0.11513481485843659\n",
            "Epoch: 5, Iter: 100, Loss: 0.1151264660358429\n",
            "Epoch: 5, Iter: 200, Loss: 0.11513079905509949\n",
            "Epoch: 5, Iter: 300, Loss: 0.11513434731960297\n",
            "Epoch: 5, Iter: 400, Loss: 0.11513554155826569\n"
          ]
        }
      ],
      "source": [
        "for epoch in range(5):\n",
        "\n",
        "    running_loss = 0.0\n",
        "\n",
        "    for i, data in enumerate(train_loader128, start=0):\n",
        "        inputs, labels = data[0].to(device), data[1].to(device)\n",
        "\n",
        "        optimizerDC_128.zero_grad() # epoch마다 gradient 0으로 초기화\n",
        "\n",
        "        outputs = DeepConv_net128(inputs) # y_pred = f(X)\n",
        "        loss = criterion(outputs, labels) # CrossEntropyLoss; 0~1 사이값\n",
        "        loss.backward() # back-propagation; gradient 계산\n",
        "        optimizerDC_128.step() # parameters(weights) update\n",
        "\n",
        "        running_loss += loss.item() # 그냥 전체적인 비교를 위해 누적함\n",
        "\n",
        "        if i % 100 == 99: # 100번 마다 확인; epoch=10, iter(=i)=469, batch=128\n",
        "            print('Epoch: {}, Iter: {}, Loss: {}'.format(epoch+1, i+1, running_loss/2000))\n",
        "            running_loss = 0.0"
      ]
    },
    {
      "cell_type": "markdown",
      "metadata": {
        "id": "FOUBE2UfKS6D"
      },
      "source": [
        "### 2. DeepConv_net64\n",
        "* 10개의 Convolution-layer & 2개의 fc-layer\n",
        "* 64 batch-size"
      ]
    },
    {
      "cell_type": "code",
      "execution_count": 40,
      "metadata": {
        "colab": {
          "base_uri": "https://localhost:8080/"
        },
        "id": "Q1znQlsWKS6D",
        "outputId": "9177eb11-70c5-4ce3-d240-bd3337f30d13",
        "vscode": {
          "languageId": "python"
        }
      },
      "outputs": [
        {
          "name": "stdout",
          "output_type": "stream",
          "text": [
            "Epoch: 1, Iter: 100, Loss: 0.11532766330242157\n",
            "Epoch: 1, Iter: 200, Loss: 0.11519570922851563\n",
            "Epoch: 1, Iter: 300, Loss: 0.11519343185424805\n",
            "Epoch: 1, Iter: 400, Loss: 0.1151450070142746\n",
            "Epoch: 1, Iter: 500, Loss: 0.11516195559501648\n",
            "Epoch: 1, Iter: 600, Loss: 0.1151423226594925\n",
            "Epoch: 1, Iter: 700, Loss: 0.11515048015117645\n",
            "Epoch: 1, Iter: 800, Loss: 0.11513835525512696\n",
            "Epoch: 1, Iter: 900, Loss: 0.11513148283958435\n",
            "Epoch: 2, Iter: 100, Loss: 0.11513483273983002\n",
            "Epoch: 2, Iter: 200, Loss: 0.11514283037185669\n",
            "Epoch: 2, Iter: 300, Loss: 0.11513824546337127\n",
            "Epoch: 2, Iter: 400, Loss: 0.11512880516052246\n",
            "Epoch: 2, Iter: 500, Loss: 0.11513279461860657\n",
            "Epoch: 2, Iter: 600, Loss: 0.11513663029670715\n",
            "Epoch: 2, Iter: 700, Loss: 0.11513884675502777\n",
            "Epoch: 2, Iter: 800, Loss: 0.11514188957214355\n",
            "Epoch: 2, Iter: 900, Loss: 0.11513655912876129\n",
            "Epoch: 3, Iter: 100, Loss: 0.11513545393943786\n",
            "Epoch: 3, Iter: 200, Loss: 0.11513806927204132\n",
            "Epoch: 3, Iter: 300, Loss: 0.11513576340675354\n",
            "Epoch: 3, Iter: 400, Loss: 0.11512918996810913\n",
            "Epoch: 3, Iter: 500, Loss: 0.11513702750205994\n",
            "Epoch: 3, Iter: 600, Loss: 0.11513804817199708\n",
            "Epoch: 3, Iter: 700, Loss: 0.11513988041877747\n",
            "Epoch: 3, Iter: 800, Loss: 0.11513619637489318\n",
            "Epoch: 3, Iter: 900, Loss: 0.11513593673706055\n",
            "Epoch: 4, Iter: 100, Loss: 0.11513516974449158\n",
            "Epoch: 4, Iter: 200, Loss: 0.11513559436798096\n",
            "Epoch: 4, Iter: 300, Loss: 0.11513649952411652\n",
            "Epoch: 4, Iter: 400, Loss: 0.11513718521595001\n",
            "Epoch: 4, Iter: 500, Loss: 0.11513768827915191\n",
            "Epoch: 4, Iter: 600, Loss: 0.11513898515701294\n",
            "Epoch: 4, Iter: 700, Loss: 0.11513525295257568\n",
            "Epoch: 4, Iter: 800, Loss: 0.11513989925384521\n",
            "Epoch: 4, Iter: 900, Loss: 0.11513634502887726\n",
            "Epoch: 5, Iter: 100, Loss: 0.1151280677318573\n",
            "Epoch: 5, Iter: 200, Loss: 0.11513670217990875\n",
            "Epoch: 5, Iter: 300, Loss: 0.11513287079334258\n",
            "Epoch: 5, Iter: 400, Loss: 0.11514230751991272\n",
            "Epoch: 5, Iter: 500, Loss: 0.11513446152210235\n",
            "Epoch: 5, Iter: 600, Loss: 0.11514265596866607\n",
            "Epoch: 5, Iter: 700, Loss: 0.1151345715522766\n",
            "Epoch: 5, Iter: 800, Loss: 0.11512846577167511\n",
            "Epoch: 5, Iter: 900, Loss: 0.11514620339870453\n",
            "Epoch: 6, Iter: 100, Loss: 0.11513884365558624\n",
            "Epoch: 6, Iter: 200, Loss: 0.11513504922389985\n",
            "Epoch: 6, Iter: 300, Loss: 0.11512730610370636\n",
            "Epoch: 6, Iter: 400, Loss: 0.11513624930381774\n",
            "Epoch: 6, Iter: 500, Loss: 0.11514398193359375\n",
            "Epoch: 6, Iter: 600, Loss: 0.11513636255264283\n",
            "Epoch: 6, Iter: 700, Loss: 0.1151347177028656\n",
            "Epoch: 6, Iter: 800, Loss: 0.11513709783554077\n",
            "Epoch: 6, Iter: 900, Loss: 0.11513962149620056\n",
            "Epoch: 7, Iter: 100, Loss: 0.11513675379753113\n",
            "Epoch: 7, Iter: 200, Loss: 0.1151310533285141\n",
            "Epoch: 7, Iter: 300, Loss: 0.11513902795314788\n",
            "Epoch: 7, Iter: 400, Loss: 0.11513459813594819\n",
            "Epoch: 7, Iter: 500, Loss: 0.11513679027557373\n",
            "Epoch: 7, Iter: 600, Loss: 0.11513242137432099\n",
            "Epoch: 7, Iter: 700, Loss: 0.11513915419578552\n",
            "Epoch: 7, Iter: 800, Loss: 0.11513749408721924\n",
            "Epoch: 7, Iter: 900, Loss: 0.11513664329051972\n",
            "Epoch: 8, Iter: 100, Loss: 0.11513585424423217\n",
            "Epoch: 8, Iter: 200, Loss: 0.11513604855537414\n",
            "Epoch: 8, Iter: 300, Loss: 0.11512769424915313\n",
            "Epoch: 8, Iter: 400, Loss: 0.11514078390598297\n",
            "Epoch: 8, Iter: 500, Loss: 0.11513923275470733\n",
            "Epoch: 8, Iter: 600, Loss: 0.11513871002197265\n",
            "Epoch: 8, Iter: 700, Loss: 0.11513691532611847\n",
            "Epoch: 8, Iter: 800, Loss: 0.1151332803964615\n",
            "Epoch: 8, Iter: 900, Loss: 0.11513700377941131\n",
            "Epoch: 9, Iter: 100, Loss: 0.1151353520154953\n",
            "Epoch: 9, Iter: 200, Loss: 0.11513520193099976\n",
            "Epoch: 9, Iter: 300, Loss: 0.11513683974742889\n",
            "Epoch: 9, Iter: 400, Loss: 0.11514437568187713\n",
            "Epoch: 9, Iter: 500, Loss: 0.1151328353881836\n",
            "Epoch: 9, Iter: 600, Loss: 0.11513537561893464\n",
            "Epoch: 9, Iter: 700, Loss: 0.11513205587863923\n",
            "Epoch: 9, Iter: 800, Loss: 0.11514234173297883\n",
            "Epoch: 9, Iter: 900, Loss: 0.11513660371303558\n",
            "Epoch: 10, Iter: 100, Loss: 0.11513251161575318\n",
            "Epoch: 10, Iter: 200, Loss: 0.11513993728160858\n",
            "Epoch: 10, Iter: 300, Loss: 0.11513679921627044\n",
            "Epoch: 10, Iter: 400, Loss: 0.1151241809129715\n",
            "Epoch: 10, Iter: 500, Loss: 0.11513794720172882\n",
            "Epoch: 10, Iter: 600, Loss: 0.11514385735988616\n",
            "Epoch: 10, Iter: 700, Loss: 0.1151378002166748\n",
            "Epoch: 10, Iter: 800, Loss: 0.1151348671913147\n",
            "Epoch: 10, Iter: 900, Loss: 0.11513824081420898\n"
          ]
        }
      ],
      "source": [
        "for epoch in range(10):\n",
        "\n",
        "    running_loss = 0.0\n",
        "\n",
        "    for i, data in enumerate(train_loader64, start=0):\n",
        "        inputs, labels = data[0].to(device), data[1].to(device)\n",
        "\n",
        "        optimizerDC_64.zero_grad() # epoch마다 gradient 0으로 초기화\n",
        "\n",
        "        outputs = DeepConv_net64(inputs) # y_pred = f(X)\n",
        "        loss = criterion(outputs, labels) # CrossEntropyLoss; 0~1 사이값\n",
        "        loss.backward() # back-propagation; gradient 계산\n",
        "        optimizerDC_64.step() # parameters(weights) update\n",
        "\n",
        "        running_loss += loss.item() # 그냥 전체적인 비교를 위해 누적함\n",
        "\n",
        "        if i % 100 == 99: # 100번 마다 확인; epoch=10, iter(=i)=469, batch=64\n",
        "            print('Epoch: {}, Iter: {}, Loss: {}'.format(epoch+1, i+1, running_loss/2000))\n",
        "            running_loss = 0.0"
      ]
    },
    {
      "cell_type": "markdown",
      "metadata": {
        "id": "LaVvtEOvKUgJ"
      },
      "source": [
        "### 3. DeepFC_net128\n",
        "* 2개의 Convolution-layer & 5개의 fc-layer\n",
        "* 128 batch-size"
      ]
    },
    {
      "cell_type": "code",
      "execution_count": 41,
      "metadata": {
        "colab": {
          "base_uri": "https://localhost:8080/"
        },
        "id": "Dwh9TK_1KUgK",
        "outputId": "976e1d1b-1de5-40c1-fb7d-77e4443c61c0",
        "vscode": {
          "languageId": "python"
        }
      },
      "outputs": [
        {
          "name": "stdout",
          "output_type": "stream",
          "text": [
            "Epoch: 1, Iter: 100, Loss: 0.11517232584953307\n",
            "Epoch: 1, Iter: 200, Loss: 0.11515739035606384\n",
            "Epoch: 1, Iter: 300, Loss: 0.11510068619251251\n",
            "Epoch: 1, Iter: 400, Loss: 0.11507054305076599\n",
            "Epoch: 2, Iter: 100, Loss: 0.1150120712518692\n",
            "Epoch: 2, Iter: 200, Loss: 0.11497862732410431\n",
            "Epoch: 2, Iter: 300, Loss: 0.1149322258234024\n",
            "Epoch: 2, Iter: 400, Loss: 0.11484488880634308\n",
            "Epoch: 3, Iter: 100, Loss: 0.1146918157339096\n",
            "Epoch: 3, Iter: 200, Loss: 0.11455188882350921\n",
            "Epoch: 3, Iter: 300, Loss: 0.11434619402885438\n",
            "Epoch: 3, Iter: 400, Loss: 0.11401473069190979\n",
            "Epoch: 4, Iter: 100, Loss: 0.11273833882808686\n",
            "Epoch: 4, Iter: 200, Loss: 0.1106674028635025\n",
            "Epoch: 4, Iter: 300, Loss: 0.10363834351301193\n",
            "Epoch: 4, Iter: 400, Loss: 0.08108778774738312\n",
            "Epoch: 5, Iter: 100, Loss: 0.0497353886961937\n",
            "Epoch: 5, Iter: 200, Loss: 0.044487755894660946\n",
            "Epoch: 5, Iter: 300, Loss: 0.0401213595867157\n",
            "Epoch: 5, Iter: 400, Loss: 0.03695879080891609\n",
            "Epoch: 6, Iter: 100, Loss: 0.03416167914867401\n",
            "Epoch: 6, Iter: 200, Loss: 0.032629206642508506\n",
            "Epoch: 6, Iter: 300, Loss: 0.031824973642826083\n",
            "Epoch: 6, Iter: 400, Loss: 0.030843042626976968\n",
            "Epoch: 7, Iter: 100, Loss: 0.02889649510383606\n",
            "Epoch: 7, Iter: 200, Loss: 0.0287781533151865\n",
            "Epoch: 7, Iter: 300, Loss: 0.028135687977075576\n",
            "Epoch: 7, Iter: 400, Loss: 0.02703581029176712\n",
            "Epoch: 8, Iter: 100, Loss: 0.026997808903455735\n",
            "Epoch: 8, Iter: 200, Loss: 0.026372028082609175\n",
            "Epoch: 8, Iter: 300, Loss: 0.02491789048910141\n",
            "Epoch: 8, Iter: 400, Loss: 0.02469636408984661\n",
            "Epoch: 9, Iter: 100, Loss: 0.024958918333053588\n",
            "Epoch: 9, Iter: 200, Loss: 0.024080199256539345\n",
            "Epoch: 9, Iter: 300, Loss: 0.023059411630034447\n",
            "Epoch: 9, Iter: 400, Loss: 0.02348897713422775\n",
            "Epoch: 10, Iter: 100, Loss: 0.022934159800410272\n",
            "Epoch: 10, Iter: 200, Loss: 0.02264657174795866\n",
            "Epoch: 10, Iter: 300, Loss: 0.02102675035595894\n",
            "Epoch: 10, Iter: 400, Loss: 0.023043248236179353\n"
          ]
        }
      ],
      "source": [
        "for epoch in range(10):\n",
        "\n",
        "    running_loss = 0.0\n",
        "\n",
        "    for i, data in enumerate(train_loader128, start=0):\n",
        "        inputs, labels = data[0].to(device), data[1].to(device)\n",
        "\n",
        "        optimizerFC_128.zero_grad() # epoch마다 gradient 0으로 초기화\n",
        "\n",
        "        outputs = DeepFC_net128(inputs) # y_pred = f(X)\n",
        "        loss = criterion(outputs, labels) # CrossEntropyLoss; 0~1 사이값\n",
        "        loss.backward() # back-propagation; gradient 계산\n",
        "        optimizerFC_128.step() # parameters(weights) update\n",
        "\n",
        "        running_loss += loss.item() # 그냥 전체적인 비교를 위해 누적함\n",
        "\n",
        "        if i % 100 == 99: # 100번 마다 확인; epoch=10, iter(=i)=469, batch=128\n",
        "            print('Epoch: {}, Iter: {}, Loss: {}'.format(epoch+1, i+1, running_loss/2000))\n",
        "            running_loss = 0.0"
      ]
    },
    {
      "attachments": {},
      "cell_type": "markdown",
      "metadata": {
        "id": "jRyyw49jKVhj"
      },
      "source": [
        "### 4. DeepFC_net64\n",
        "* 2개의 Convolution-layer & 5개의 fc-layer\n",
        "* 64 batch-size"
      ]
    },
    {
      "cell_type": "code",
      "execution_count": 42,
      "metadata": {
        "colab": {
          "base_uri": "https://localhost:8080/"
        },
        "id": "X3847V0dKVhk",
        "outputId": "4edab928-d2a6-4444-9772-13754c5924b7",
        "vscode": {
          "languageId": "python"
        }
      },
      "outputs": [
        {
          "name": "stdout",
          "output_type": "stream",
          "text": [
            "Epoch: 1, Iter: 100, Loss: 0.11518253171443939\n",
            "Epoch: 1, Iter: 200, Loss: 0.11505803740024567\n",
            "Epoch: 1, Iter: 300, Loss: 0.11493481326103211\n",
            "Epoch: 1, Iter: 400, Loss: 0.11478636693954468\n",
            "Epoch: 1, Iter: 500, Loss: 0.1145568550825119\n",
            "Epoch: 1, Iter: 600, Loss: 0.11421484172344208\n",
            "Epoch: 1, Iter: 700, Loss: 0.11356756472587586\n",
            "Epoch: 1, Iter: 800, Loss: 0.11219739472866058\n",
            "Epoch: 1, Iter: 900, Loss: 0.10686697739362716\n",
            "Epoch: 2, Iter: 100, Loss: 0.06522347539663315\n",
            "Epoch: 2, Iter: 200, Loss: 0.04750974893569946\n",
            "Epoch: 2, Iter: 300, Loss: 0.04160465052723884\n",
            "Epoch: 2, Iter: 400, Loss: 0.037542450770735744\n",
            "Epoch: 2, Iter: 500, Loss: 0.03485797262191773\n",
            "Epoch: 2, Iter: 600, Loss: 0.03473837047815323\n",
            "Epoch: 2, Iter: 700, Loss: 0.03210637933015823\n",
            "Epoch: 2, Iter: 800, Loss: 0.031684845253825186\n",
            "Epoch: 2, Iter: 900, Loss: 0.029965869560837747\n",
            "Epoch: 3, Iter: 100, Loss: 0.029248483419418336\n",
            "Epoch: 3, Iter: 200, Loss: 0.027485513888299465\n",
            "Epoch: 3, Iter: 300, Loss: 0.029385866940021516\n",
            "Epoch: 3, Iter: 400, Loss: 0.02800557617843151\n",
            "Epoch: 3, Iter: 500, Loss: 0.026684496447443962\n",
            "Epoch: 3, Iter: 600, Loss: 0.0270848238915205\n",
            "Epoch: 3, Iter: 700, Loss: 0.02666404640674591\n",
            "Epoch: 3, Iter: 800, Loss: 0.02789442063868046\n",
            "Epoch: 3, Iter: 900, Loss: 0.02527833765745163\n",
            "Epoch: 4, Iter: 100, Loss: 0.024262645065784454\n",
            "Epoch: 4, Iter: 200, Loss: 0.024718533292412758\n",
            "Epoch: 4, Iter: 300, Loss: 0.02483148793131113\n",
            "Epoch: 4, Iter: 400, Loss: 0.025205889865756035\n",
            "Epoch: 4, Iter: 500, Loss: 0.02367890365421772\n",
            "Epoch: 4, Iter: 600, Loss: 0.023914902195334434\n",
            "Epoch: 4, Iter: 700, Loss: 0.023412455156445505\n",
            "Epoch: 4, Iter: 800, Loss: 0.02305187012255192\n",
            "Epoch: 4, Iter: 900, Loss: 0.022861148849129678\n",
            "Epoch: 5, Iter: 100, Loss: 0.023017593875527383\n",
            "Epoch: 5, Iter: 200, Loss: 0.02187071143090725\n",
            "Epoch: 5, Iter: 300, Loss: 0.022321186996996402\n",
            "Epoch: 5, Iter: 400, Loss: 0.022065701089799404\n",
            "Epoch: 5, Iter: 500, Loss: 0.021870973013341427\n",
            "Epoch: 5, Iter: 600, Loss: 0.02136331357806921\n",
            "Epoch: 5, Iter: 700, Loss: 0.020810974098742007\n",
            "Epoch: 5, Iter: 800, Loss: 0.021843198791146278\n",
            "Epoch: 5, Iter: 900, Loss: 0.021126706309616567\n",
            "Epoch: 6, Iter: 100, Loss: 0.020133682072162627\n",
            "Epoch: 6, Iter: 200, Loss: 0.021135908596217633\n",
            "Epoch: 6, Iter: 300, Loss: 0.021194351851940154\n",
            "Epoch: 6, Iter: 400, Loss: 0.019972399093210698\n",
            "Epoch: 6, Iter: 500, Loss: 0.021151135101914405\n",
            "Epoch: 6, Iter: 600, Loss: 0.019616602137684822\n",
            "Epoch: 6, Iter: 700, Loss: 0.019777537368237973\n",
            "Epoch: 6, Iter: 800, Loss: 0.019936240322887898\n",
            "Epoch: 6, Iter: 900, Loss: 0.019639463901519775\n",
            "Epoch: 7, Iter: 100, Loss: 0.019181993268430234\n",
            "Epoch: 7, Iter: 200, Loss: 0.019779230371117593\n",
            "Epoch: 7, Iter: 300, Loss: 0.020213451638817787\n",
            "Epoch: 7, Iter: 400, Loss: 0.018844583414494992\n",
            "Epoch: 7, Iter: 500, Loss: 0.019068484075367452\n",
            "Epoch: 7, Iter: 600, Loss: 0.01957295896857977\n",
            "Epoch: 7, Iter: 700, Loss: 0.01898648973926902\n",
            "Epoch: 7, Iter: 800, Loss: 0.019388080924749373\n",
            "Epoch: 7, Iter: 900, Loss: 0.018187520623207092\n",
            "Epoch: 8, Iter: 100, Loss: 0.018642120093107225\n",
            "Epoch: 8, Iter: 200, Loss: 0.019183535382151604\n",
            "Epoch: 8, Iter: 300, Loss: 0.017944194331765174\n",
            "Epoch: 8, Iter: 400, Loss: 0.018193111702799795\n",
            "Epoch: 8, Iter: 500, Loss: 0.018062083572149275\n",
            "Epoch: 8, Iter: 600, Loss: 0.017663613066077232\n",
            "Epoch: 8, Iter: 700, Loss: 0.018682916689664125\n",
            "Epoch: 8, Iter: 800, Loss: 0.018461688973009587\n",
            "Epoch: 8, Iter: 900, Loss: 0.017909886263310908\n",
            "Epoch: 9, Iter: 100, Loss: 0.017435915283858777\n",
            "Epoch: 9, Iter: 200, Loss: 0.017308894284069537\n",
            "Epoch: 9, Iter: 300, Loss: 0.017559546574950218\n",
            "Epoch: 9, Iter: 400, Loss: 0.018112628109753132\n",
            "Epoch: 9, Iter: 500, Loss: 0.01764125943928957\n",
            "Epoch: 9, Iter: 600, Loss: 0.0170758351162076\n",
            "Epoch: 9, Iter: 700, Loss: 0.01709582841396332\n",
            "Epoch: 9, Iter: 800, Loss: 0.018153201960027218\n",
            "Epoch: 9, Iter: 900, Loss: 0.01645306496322155\n",
            "Epoch: 10, Iter: 100, Loss: 0.0169366996511817\n",
            "Epoch: 10, Iter: 200, Loss: 0.017094380736351014\n",
            "Epoch: 10, Iter: 300, Loss: 0.016295090928673744\n",
            "Epoch: 10, Iter: 400, Loss: 0.017960954010486602\n",
            "Epoch: 10, Iter: 500, Loss: 0.016979623526334763\n",
            "Epoch: 10, Iter: 600, Loss: 0.017044286899268627\n",
            "Epoch: 10, Iter: 700, Loss: 0.016422658793628215\n",
            "Epoch: 10, Iter: 800, Loss: 0.017255362838506698\n",
            "Epoch: 10, Iter: 900, Loss: 0.016555850103497506\n"
          ]
        }
      ],
      "source": [
        "for epoch in range(10):\n",
        "\n",
        "    running_loss = 0.0\n",
        "\n",
        "    for i, data in enumerate(train_loader64, start=0):\n",
        "        inputs, labels = data[0].to(device), data[1].to(device)\n",
        "\n",
        "        optimizerFC_64.zero_grad() # epoch마다 gradient 0으로 초기화\n",
        "\n",
        "        outputs = DeepFC_net64(inputs) # y_pred = f(X)\n",
        "        loss = criterion(outputs, labels) # CrossEntropyLoss; 0~1 사이값\n",
        "        loss.backward() # back-propagation; gradient 계산\n",
        "        optimizerFC_64.step() # parameters(weights) update\n",
        "\n",
        "        running_loss += loss.item() # 그냥 전체적인 비교를 위해 누적함\n",
        "\n",
        "        if i % 100 == 99: # 100번 마다 확인; epoch=10, iter(=i)=469, batch=64\n",
        "            print('Epoch: {}, Iter: {}, Loss: {}'.format(epoch+1, i+1, running_loss/2000))\n",
        "            running_loss = 0.0"
      ]
    },
    {
      "cell_type": "markdown",
      "metadata": {
        "id": "q8tlUx2VHLak"
      },
      "source": [
        "DeepConv보다 DeepFC 모델의 성능이 더 좋다. -> loss가 더 효과적으로 줄어들기 때문"
      ]
    },
    {
      "cell_type": "markdown",
      "metadata": {
        "id": "5IecfHZiI09W"
      },
      "source": [
        "## 모델 테스트"
      ]
    },
    {
      "cell_type": "code",
      "execution_count": 43,
      "metadata": {
        "colab": {
          "base_uri": "https://localhost:8080/"
        },
        "id": "VjVs_iS0rlof",
        "outputId": "f033f34e-29ce-498e-8a01-9be79788dac3",
        "vscode": {
          "languageId": "python"
        }
      },
      "outputs": [
        {
          "name": "stdout",
          "output_type": "stream",
          "text": [
            "DeepConv_net128 : 0.1\n",
            "DeepConv_net64 : 0.1\n",
            "DeepFC_net128 : 0.8344\n",
            "DeepFC_net64 : 0.8638\n"
          ]
        }
      ],
      "source": [
        "# 전체 test 데이터에 대해서 성능 확인\n",
        "\n",
        "correct_list = [0]*4\n",
        "total_list = [0]*4\n",
        "a = -1\n",
        "\n",
        "model_list = {'DeepConv' : [DeepConv_net128, DeepConv_net64],\n",
        "              'DeepFC' : [DeepFC_net128, DeepFC_net64]}\n",
        "data_list = [test_loader128, test_loader64]\n",
        "\n",
        "with torch.no_grad(): # grad가 필요없다.\n",
        "\n",
        "    for key in model_list:\n",
        "        for idx in range(len(model_list[key])):\n",
        "            a += 1\n",
        "            model = model_list[key][idx]\n",
        "            data_loader = data_list[idx]\n",
        "            for data in data_loader:\n",
        "                images, labels = data[0].to(device), data[1].to(device)\n",
        "\n",
        "                outputs = model(images)\n",
        "                _, predicted = torch.max(outputs.data, 1)\n",
        "\n",
        "                total_list[a] += labels.size(0)\n",
        "                correct_list[a] += (predicted == labels).sum().item()\n",
        "            \n",
        "correct_rate = np.array(correct_list) / np.array(total_list)\n",
        "model_name = ['DeepConv_net128', 'DeepConv_net64', 'DeepFC_net128', 'DeepFC_net64']\n",
        "\n",
        "for i in range(len(correct_rate)):\n",
        "    print('{0} : {1}'.format(model_name[i], correct_rate[i]))"
      ]
    },
    {
      "cell_type": "markdown",
      "metadata": {
        "id": "UQX6L6xKInEg"
      },
      "source": [
        "전체 test 데이터에 대해서 성능 확인을 해보아도 DeepFC가 더 성능이 좋다.  \n",
        "성능 확인을 위해 'correct rate'라는 지표를 사용했는데, 이는 정답률이므로 높을수록 좋기 때문."
      ]
    },
    {
      "cell_type": "markdown",
      "metadata": {
        "id": "SZcZQv4PGeYv"
      },
      "source": [
        "# FashionMNIST 분류 모델 중 성능이 낮은 모델 이유 확인"
      ]
    },
    {
      "cell_type": "markdown",
      "metadata": {
        "id": "V7HoLqroDhyF"
      },
      "source": [
        "## Convolution-layer를 하나씩 추가하면서, 성능변화를 관찰"
      ]
    },
    {
      "cell_type": "markdown",
      "metadata": {
        "id": "_civVcIYBGxA"
      },
      "source": [
        "### 3개의 convolution-layer 사용시"
      ]
    },
    {
      "cell_type": "code",
      "execution_count": 44,
      "metadata": {
        "id": "29zvOdhT-fwY",
        "vscode": {
          "languageId": "python"
        }
      },
      "outputs": [],
      "source": [
        "class CNN_Model3(nn.Module):\n",
        "    def __init__(self):\n",
        "        super(CNN_Model3, self).__init__()\n",
        "\n",
        "        self.conv1 = nn.Conv2d(in_channels=1, out_channels=5, kernel_size=3, stride=1, padding=2)\n",
        "        self.conv2 = nn.Conv2d(5, 7, 3, padding=1)\n",
        "        self.conv3 = nn.Conv2d(7, 16, 2, padding=1)\n",
        "\n",
        "        self.fc1 = nn.Linear(16* 16 * 16, 3000)\n",
        "        self.fc2 = nn.Linear(3000, 1500)\n",
        "        self.fc3 = nn.Linear(1500, 20 * 3 * 3)\n",
        "        self.fc4 = nn.Linear(20 * 3 * 3, 86)\n",
        "        self.fc5 = nn.Linear(86, 10) # 10 : 10개의 category\n",
        "\n",
        "    def forward(self, x):\n",
        "        x = F.relu(self.conv1(x))\n",
        "        x = F.max_pool2d(x, (2,2))\n",
        "        x = F.relu(self.conv2(x))\n",
        "        x = F.relu(self.conv3(x))\n",
        "\n",
        "        x = x.view(-1, self.num_flat_features(x)) # num_flat_features : 아래에서 정의\n",
        "\n",
        "        x = F.relu(self.fc1(x))\n",
        "        x = F.relu(self.fc2(x))\n",
        "        x = F.relu(self.fc3(x))\n",
        "        x = F.relu(self.fc4(x))\n",
        "        x = self.fc5(x)\n",
        "\n",
        "        return x\n",
        "    \n",
        "    def num_flat_features(self, x): # 처음 dim-size을 제외하고, 모두 곱한 값을 반환해준다.\n",
        "        size = x.size()[1:]\n",
        "        num_features = 1\n",
        "        for s in size:\n",
        "            num_features *= s\n",
        "        \n",
        "        return num_features"
      ]
    },
    {
      "cell_type": "code",
      "execution_count": 45,
      "metadata": {
        "colab": {
          "base_uri": "https://localhost:8080/"
        },
        "id": "t81gXZmz-fwY",
        "outputId": "590b66a2-70b1-4911-e3f1-11ad0d401434",
        "vscode": {
          "languageId": "python"
        }
      },
      "outputs": [
        {
          "name": "stdout",
          "output_type": "stream",
          "text": [
            "CNN_Model3(\n",
            "  (conv1): Conv2d(1, 5, kernel_size=(3, 3), stride=(1, 1), padding=(2, 2))\n",
            "  (conv2): Conv2d(5, 7, kernel_size=(3, 3), stride=(1, 1), padding=(1, 1))\n",
            "  (conv3): Conv2d(7, 16, kernel_size=(2, 2), stride=(1, 1), padding=(1, 1))\n",
            "  (fc1): Linear(in_features=4096, out_features=3000, bias=True)\n",
            "  (fc2): Linear(in_features=3000, out_features=1500, bias=True)\n",
            "  (fc3): Linear(in_features=1500, out_features=180, bias=True)\n",
            "  (fc4): Linear(in_features=180, out_features=86, bias=True)\n",
            "  (fc5): Linear(in_features=86, out_features=10, bias=True)\n",
            ")\n"
          ]
        }
      ],
      "source": [
        "# 모델객체 생성\n",
        "new_model = CNN_Model3().to(device)\n",
        "\n",
        "print(new_model)"
      ]
    },
    {
      "cell_type": "code",
      "execution_count": 46,
      "metadata": {
        "colab": {
          "base_uri": "https://localhost:8080/"
        },
        "id": "Bb2EkGUbBnuM",
        "outputId": "eb924175-bc6a-4d76-f309-54fbbf2e4a35",
        "vscode": {
          "languageId": "python"
        }
      },
      "outputs": [
        {
          "name": "stdout",
          "output_type": "stream",
          "text": [
            "----------------------------------------------------------------\n",
            "        Layer (type)               Output Shape         Param #\n",
            "================================================================\n",
            "            Conv2d-1           [128, 5, 30, 30]              50\n",
            "            Conv2d-2           [128, 7, 15, 15]             322\n",
            "            Conv2d-3          [128, 16, 16, 16]             464\n",
            "            Linear-4                [128, 3000]      12,291,000\n",
            "            Linear-5                [128, 1500]       4,501,500\n",
            "            Linear-6                 [128, 180]         270,180\n",
            "            Linear-7                  [128, 86]          15,566\n",
            "            Linear-8                  [128, 10]             870\n",
            "================================================================\n",
            "Total params: 17,079,952\n",
            "Trainable params: 17,079,952\n",
            "Non-trainable params: 0\n",
            "----------------------------------------------------------------\n",
            "Input size (MB): 0.38\n",
            "Forward/backward pass size (MB): 14.60\n",
            "Params size (MB): 65.15\n",
            "Estimated Total Size (MB): 80.13\n",
            "----------------------------------------------------------------\n"
          ]
        }
      ],
      "source": [
        "summary(new_model, input_size=(1, 28, 28), batch_size=128)"
      ]
    },
    {
      "cell_type": "code",
      "execution_count": 47,
      "metadata": {
        "id": "aQDT4bYIBsZl",
        "vscode": {
          "languageId": "python"
        }
      },
      "outputs": [],
      "source": [
        "optimizer = optim.SGD(new_model.parameters(), lr=0.001, momentum=0.9)"
      ]
    },
    {
      "cell_type": "code",
      "execution_count": 48,
      "metadata": {
        "colab": {
          "base_uri": "https://localhost:8080/"
        },
        "id": "D6GqkR8nBwhH",
        "outputId": "d8a22295-8152-4102-bff1-e4c30ba1c737",
        "vscode": {
          "languageId": "python"
        }
      },
      "outputs": [
        {
          "name": "stdout",
          "output_type": "stream",
          "text": [
            "Epoch: 1, Iter: 100, Loss: 0.1152018494606018\n",
            "Epoch: 1, Iter: 200, Loss: 0.11524909925460815\n",
            "Epoch: 1, Iter: 300, Loss: 0.11516328585147857\n",
            "Epoch: 1, Iter: 400, Loss: 0.11512723970413208\n",
            "Epoch: 2, Iter: 100, Loss: 0.11510119271278381\n",
            "Epoch: 2, Iter: 200, Loss: 0.1151008723974228\n",
            "Epoch: 2, Iter: 300, Loss: 0.11511336445808411\n",
            "Epoch: 2, Iter: 400, Loss: 0.11506723284721375\n",
            "Epoch: 3, Iter: 100, Loss: 0.115045783162117\n",
            "Epoch: 3, Iter: 200, Loss: 0.11503641211986541\n",
            "Epoch: 3, Iter: 300, Loss: 0.11500042164325715\n",
            "Epoch: 3, Iter: 400, Loss: 0.11497445607185364\n",
            "Epoch: 4, Iter: 100, Loss: 0.11491039407253266\n",
            "Epoch: 4, Iter: 200, Loss: 0.1148741055727005\n",
            "Epoch: 4, Iter: 300, Loss: 0.11479785680770874\n",
            "Epoch: 4, Iter: 400, Loss: 0.11469183599948883\n",
            "Epoch: 5, Iter: 100, Loss: 0.11438860285282135\n",
            "Epoch: 5, Iter: 200, Loss: 0.11402619624137879\n",
            "Epoch: 5, Iter: 300, Loss: 0.11329318451881408\n",
            "Epoch: 5, Iter: 400, Loss: 0.11115406441688537\n",
            "Epoch: 6, Iter: 100, Loss: 0.0631427712738514\n",
            "Epoch: 6, Iter: 200, Loss: 0.04556256812810898\n",
            "Epoch: 6, Iter: 300, Loss: 0.03972525754570961\n",
            "Epoch: 6, Iter: 400, Loss: 0.035155978441238404\n",
            "Epoch: 7, Iter: 100, Loss: 0.034049693405628204\n",
            "Epoch: 7, Iter: 200, Loss: 0.03214820565283299\n",
            "Epoch: 7, Iter: 300, Loss: 0.03228958809375763\n",
            "Epoch: 7, Iter: 400, Loss: 0.03013400872051716\n",
            "Epoch: 8, Iter: 100, Loss: 0.029503394708037377\n",
            "Epoch: 8, Iter: 200, Loss: 0.028439228221774103\n",
            "Epoch: 8, Iter: 300, Loss: 0.029164441391825675\n",
            "Epoch: 8, Iter: 400, Loss: 0.02832982650399208\n",
            "Epoch: 9, Iter: 100, Loss: 0.02757433779537678\n",
            "Epoch: 9, Iter: 200, Loss: 0.027110767394304274\n",
            "Epoch: 9, Iter: 300, Loss: 0.026702398255467413\n",
            "Epoch: 9, Iter: 400, Loss: 0.025651283383369444\n",
            "Epoch: 10, Iter: 100, Loss: 0.024614786237478255\n",
            "Epoch: 10, Iter: 200, Loss: 0.026340867310762406\n",
            "Epoch: 10, Iter: 300, Loss: 0.024881406754255295\n",
            "Epoch: 10, Iter: 400, Loss: 0.024095349445939065\n"
          ]
        }
      ],
      "source": [
        "for epoch in range(10):\n",
        "\n",
        "    running_loss = 0.0\n",
        "\n",
        "    for i, data in enumerate(train_loader128, start=0):\n",
        "        inputs, labels = data[0].to(device), data[1].to(device)\n",
        "\n",
        "        optimizer.zero_grad() # epoch마다 gradient 0으로 초기화\n",
        "\n",
        "        outputs = new_model(inputs) # y_pred = f(X)\n",
        "        loss = criterion(outputs, labels) # CrossEntropyLoss; 0~1 사이값\n",
        "        loss.backward() # back-propagation; gradient 계산\n",
        "        optimizer.step() # parameters(weights) update\n",
        "\n",
        "        running_loss += loss.item() # 그냥 전체적인 비교를 위해 누적함\n",
        "\n",
        "        if i % 100 == 99: # 100번 마다 확인; epoch=10, iter(=i)=469, batch=128\n",
        "            print('Epoch: {}, Iter: {}, Loss: {}'.format(epoch+1, i+1, running_loss/2000))\n",
        "            running_loss = 0.0"
      ]
    },
    {
      "cell_type": "code",
      "execution_count": 49,
      "metadata": {
        "colab": {
          "base_uri": "https://localhost:8080/"
        },
        "id": "1PDu2v9bB_NE",
        "outputId": "ce1195c6-d49b-4ec9-f587-cd07238221c8",
        "vscode": {
          "languageId": "python"
        }
      },
      "outputs": [
        {
          "name": "stdout",
          "output_type": "stream",
          "text": [
            "80.08\n"
          ]
        }
      ],
      "source": [
        "correct = 0\n",
        "total = 0\n",
        "\n",
        "with torch.no_grad():\n",
        "    for data in test_loader128:\n",
        "        images, labels = data[0].to(device), data[1].to(device)\n",
        "        outputs = new_model(images)\n",
        "        _, predicted = torch.max(outputs.data, axis=1)\n",
        "        total += labels.size(0)\n",
        "        correct += (predicted == labels).sum().item()\n",
        "    \n",
        "    print(100 * correct / total)"
      ]
    },
    {
      "cell_type": "markdown",
      "metadata": {
        "id": "7Thu9NRyCV7j"
      },
      "source": [
        "### 4개의 convolution-layer 사용시"
      ]
    },
    {
      "cell_type": "code",
      "execution_count": 50,
      "metadata": {
        "id": "V9PQvGFPCV7k",
        "vscode": {
          "languageId": "python"
        }
      },
      "outputs": [],
      "source": [
        "class CNN_Model4(nn.Module):\n",
        "    def __init__(self):\n",
        "        super(CNN_Model4, self).__init__()\n",
        "\n",
        "        self.conv1 = nn.Conv2d(in_channels=1, out_channels=5, kernel_size=3, stride=1, padding=2)\n",
        "        self.conv2 = nn.Conv2d(5, 7, 3, padding=1)\n",
        "        self.conv3 = nn.Conv2d(7, 16, 2, padding=1)\n",
        "        self.conv4 = nn.Conv2d(16, 19, 2)\n",
        "\n",
        "        self.fc1 = nn.Linear(15* 15 * 19, 3000)\n",
        "        self.fc2 = nn.Linear(3000, 1500)\n",
        "        self.fc3 = nn.Linear(1500, 20 * 3 * 3)\n",
        "        self.fc4 = nn.Linear(20 * 3 * 3, 86)\n",
        "        self.fc5 = nn.Linear(86, 10) # 10 : 10개의 category\n",
        "\n",
        "    def forward(self, x):\n",
        "        x = F.relu(self.conv1(x))\n",
        "        x = F.max_pool2d(x, (2,2))\n",
        "        x = F.relu(self.conv2(x))\n",
        "        x = F.relu(self.conv3(x))\n",
        "        x = F.relu(self.conv4(x))\n",
        "\n",
        "        x = x.view(-1, self.num_flat_features(x)) # num_flat_features : 아래에서 정의\n",
        "\n",
        "        x = F.relu(self.fc1(x))\n",
        "        x = F.relu(self.fc2(x))\n",
        "        x = F.relu(self.fc3(x))\n",
        "        x = F.relu(self.fc4(x))\n",
        "        x = self.fc5(x)\n",
        "\n",
        "        return x\n",
        "    \n",
        "    def num_flat_features(self, x): # 처음 dim-size을 제외하고, 모두 곱한 값을 반환해준다.\n",
        "        size = x.size()[1:]\n",
        "        num_features = 1\n",
        "        for s in size:\n",
        "            num_features *= s\n",
        "        \n",
        "        return num_features"
      ]
    },
    {
      "cell_type": "code",
      "execution_count": 51,
      "metadata": {
        "colab": {
          "base_uri": "https://localhost:8080/"
        },
        "id": "HNAL7SRZCV7k",
        "outputId": "421670c4-a7ad-4ee4-abff-34fa4c6cdbf3",
        "vscode": {
          "languageId": "python"
        }
      },
      "outputs": [
        {
          "name": "stdout",
          "output_type": "stream",
          "text": [
            "CNN_Model4(\n",
            "  (conv1): Conv2d(1, 5, kernel_size=(3, 3), stride=(1, 1), padding=(2, 2))\n",
            "  (conv2): Conv2d(5, 7, kernel_size=(3, 3), stride=(1, 1), padding=(1, 1))\n",
            "  (conv3): Conv2d(7, 16, kernel_size=(2, 2), stride=(1, 1), padding=(1, 1))\n",
            "  (conv4): Conv2d(16, 19, kernel_size=(2, 2), stride=(1, 1))\n",
            "  (fc1): Linear(in_features=4275, out_features=3000, bias=True)\n",
            "  (fc2): Linear(in_features=3000, out_features=1500, bias=True)\n",
            "  (fc3): Linear(in_features=1500, out_features=180, bias=True)\n",
            "  (fc4): Linear(in_features=180, out_features=86, bias=True)\n",
            "  (fc5): Linear(in_features=86, out_features=10, bias=True)\n",
            ")\n"
          ]
        }
      ],
      "source": [
        "# 모델객체 생성\n",
        "new_model = CNN_Model4().to(device)\n",
        "\n",
        "print(new_model)"
      ]
    },
    {
      "cell_type": "code",
      "execution_count": 52,
      "metadata": {
        "colab": {
          "base_uri": "https://localhost:8080/"
        },
        "id": "fHmIarJBCV7k",
        "outputId": "be5e7fae-0c6a-48a2-c829-c140cd9dc508",
        "vscode": {
          "languageId": "python"
        }
      },
      "outputs": [
        {
          "name": "stdout",
          "output_type": "stream",
          "text": [
            "----------------------------------------------------------------\n",
            "        Layer (type)               Output Shape         Param #\n",
            "================================================================\n",
            "            Conv2d-1           [128, 5, 30, 30]              50\n",
            "            Conv2d-2           [128, 7, 15, 15]             322\n",
            "            Conv2d-3          [128, 16, 16, 16]             464\n",
            "            Conv2d-4          [128, 19, 15, 15]           1,235\n",
            "            Linear-5                [128, 3000]      12,828,000\n",
            "            Linear-6                [128, 1500]       4,501,500\n",
            "            Linear-7                 [128, 180]         270,180\n",
            "            Linear-8                  [128, 86]          15,566\n",
            "            Linear-9                  [128, 10]             870\n",
            "================================================================\n",
            "Total params: 17,618,187\n",
            "Trainable params: 17,618,187\n",
            "Non-trainable params: 0\n",
            "----------------------------------------------------------------\n",
            "Input size (MB): 0.38\n",
            "Forward/backward pass size (MB): 18.77\n",
            "Params size (MB): 67.21\n",
            "Estimated Total Size (MB): 86.36\n",
            "----------------------------------------------------------------\n"
          ]
        }
      ],
      "source": [
        "summary(new_model, input_size=(1, 28, 28), batch_size=128)"
      ]
    },
    {
      "cell_type": "code",
      "execution_count": 53,
      "metadata": {
        "id": "z6gegPTRCV7k",
        "vscode": {
          "languageId": "python"
        }
      },
      "outputs": [],
      "source": [
        "optimizer = optim.SGD(new_model.parameters(), lr=0.001, momentum=0.9)"
      ]
    },
    {
      "cell_type": "code",
      "execution_count": 54,
      "metadata": {
        "colab": {
          "base_uri": "https://localhost:8080/"
        },
        "id": "oeeKVQdKCV7k",
        "outputId": "1387a774-8bee-418b-a0db-120cb5bbe163",
        "vscode": {
          "languageId": "python"
        }
      },
      "outputs": [
        {
          "name": "stdout",
          "output_type": "stream",
          "text": [
            "Epoch: 1, Iter: 100, Loss: 0.1152010097503662\n",
            "Epoch: 1, Iter: 200, Loss: 0.11517565715312958\n",
            "Epoch: 1, Iter: 300, Loss: 0.11514250087738037\n",
            "Epoch: 1, Iter: 400, Loss: 0.11513137662410736\n",
            "Epoch: 2, Iter: 100, Loss: 0.11514277410507202\n",
            "Epoch: 2, Iter: 200, Loss: 0.11510643982887268\n",
            "Epoch: 2, Iter: 300, Loss: 0.11509348034858703\n",
            "Epoch: 2, Iter: 400, Loss: 0.11508279120922088\n",
            "Epoch: 3, Iter: 100, Loss: 0.11506671309471131\n",
            "Epoch: 3, Iter: 200, Loss: 0.11506678807735443\n",
            "Epoch: 3, Iter: 300, Loss: 0.11503956592082977\n",
            "Epoch: 3, Iter: 400, Loss: 0.11503354036808014\n",
            "Epoch: 4, Iter: 100, Loss: 0.11498326420783997\n",
            "Epoch: 4, Iter: 200, Loss: 0.11496211218833924\n",
            "Epoch: 4, Iter: 300, Loss: 0.11492314159870148\n",
            "Epoch: 4, Iter: 400, Loss: 0.11487524962425232\n",
            "Epoch: 5, Iter: 100, Loss: 0.11473388063907623\n",
            "Epoch: 5, Iter: 200, Loss: 0.11459842908382416\n",
            "Epoch: 5, Iter: 300, Loss: 0.11437180745601654\n",
            "Epoch: 5, Iter: 400, Loss: 0.11392722856998444\n",
            "Epoch: 6, Iter: 100, Loss: 0.11068852114677429\n",
            "Epoch: 6, Iter: 200, Loss: 0.08844466137886048\n",
            "Epoch: 6, Iter: 300, Loss: 0.0478170413672924\n",
            "Epoch: 6, Iter: 400, Loss: 0.039626573503017425\n",
            "Epoch: 7, Iter: 100, Loss: 0.03414077904820442\n",
            "Epoch: 7, Iter: 200, Loss: 0.03325382004678249\n",
            "Epoch: 7, Iter: 300, Loss: 0.03131710569560528\n",
            "Epoch: 7, Iter: 400, Loss: 0.0303633970618248\n",
            "Epoch: 8, Iter: 100, Loss: 0.029241435304284094\n",
            "Epoch: 8, Iter: 200, Loss: 0.029810567155480385\n",
            "Epoch: 8, Iter: 300, Loss: 0.029371912136673926\n",
            "Epoch: 8, Iter: 400, Loss: 0.027520414501428603\n",
            "Epoch: 9, Iter: 100, Loss: 0.027213701874017716\n",
            "Epoch: 9, Iter: 200, Loss: 0.02640768873691559\n",
            "Epoch: 9, Iter: 300, Loss: 0.026679673820734023\n",
            "Epoch: 9, Iter: 400, Loss: 0.025755048394203187\n",
            "Epoch: 10, Iter: 100, Loss: 0.024704175874590874\n",
            "Epoch: 10, Iter: 200, Loss: 0.025031078189611436\n",
            "Epoch: 10, Iter: 300, Loss: 0.02415975806117058\n",
            "Epoch: 10, Iter: 400, Loss: 0.02501679375767708\n"
          ]
        }
      ],
      "source": [
        "for epoch in range(10):\n",
        "\n",
        "    running_loss = 0.0\n",
        "\n",
        "    for i, data in enumerate(train_loader128, start=0):\n",
        "        inputs, labels = data[0].to(device), data[1].to(device)\n",
        "\n",
        "        optimizer.zero_grad() # epoch마다 gradient 0으로 초기화\n",
        "\n",
        "        outputs = new_model(inputs) # y_pred = f(X)\n",
        "        loss = criterion(outputs, labels) # CrossEntropyLoss; 0~1 사이값\n",
        "        loss.backward() # back-propagation; gradient 계산\n",
        "        optimizer.step() # parameters(weights) update\n",
        "\n",
        "        running_loss += loss.item() # 그냥 전체적인 비교를 위해 누적함\n",
        "\n",
        "        if i % 100 == 99: # 100번 마다 확인; epoch=10, iter(=i)=469, batch=128\n",
        "            print('Epoch: {}, Iter: {}, Loss: {}'.format(epoch+1, i+1, running_loss/2000))\n",
        "            running_loss = 0.0"
      ]
    },
    {
      "cell_type": "code",
      "execution_count": 55,
      "metadata": {
        "colab": {
          "base_uri": "https://localhost:8080/"
        },
        "id": "w3uuDeS_CV7k",
        "outputId": "de758fa5-cc88-4251-b634-8334f3f78ed7",
        "vscode": {
          "languageId": "python"
        }
      },
      "outputs": [
        {
          "name": "stdout",
          "output_type": "stream",
          "text": [
            "81.54\n"
          ]
        }
      ],
      "source": [
        "correct = 0\n",
        "total = 0\n",
        "\n",
        "with torch.no_grad():\n",
        "    for data in test_loader128:\n",
        "        images, labels = data[0].to(device), data[1].to(device)\n",
        "        outputs = new_model(images)\n",
        "        _, predicted = torch.max(outputs.data, axis=1)\n",
        "        total += labels.size(0)\n",
        "        correct += (predicted == labels).sum().item()\n",
        "    \n",
        "    print(100 * correct / total)"
      ]
    },
    {
      "cell_type": "markdown",
      "metadata": {
        "id": "kuP_3_DyD42p"
      },
      "source": [
        "### 5개의 convolution-layer 사용시"
      ]
    },
    {
      "cell_type": "code",
      "execution_count": 56,
      "metadata": {
        "id": "Bk1u7iloD42q",
        "vscode": {
          "languageId": "python"
        }
      },
      "outputs": [],
      "source": [
        "class CNN_Model5(nn.Module):\n",
        "    def __init__(self):\n",
        "        super(CNN_Model5, self).__init__()\n",
        "\n",
        "        self.conv1 = nn.Conv2d(in_channels=1, out_channels=5, kernel_size=3, stride=1, padding=2)\n",
        "        self.conv2 = nn.Conv2d(5, 7, 3, padding=1)      \n",
        "        self.conv3 = nn.Conv2d(7, 16, 2, padding=1)\n",
        "        self.conv4 = nn.Conv2d(16, 19, 2)\n",
        "        self.conv5 = nn.Conv2d(19, 29, 3)\n",
        "\n",
        "        self.fc1 = nn.Linear(29 * 13 * 13, 100)\n",
        "        self.fc2 = nn.Linear(100, 50)\n",
        "        self.fc3 = nn.Linear(50, 25)\n",
        "        self.fc4 = nn.Linear(25, 10) # 10 : 10개의 category\n",
        "\n",
        "    def forward(self, x):\n",
        "        x = F.relu(self.conv1(x))\n",
        "        x = F.max_pool2d(x, (2,2))\n",
        "        x = F.relu(self.conv2(x))\n",
        "        x = F.relu(self.conv3(x))\n",
        "        x = F.relu(self.conv4(x))\n",
        "        x = F.relu(self.conv5(x))\n",
        "\n",
        "        x = x.view(-1, self.num_flat_features(x)) # num_flat_features : 아래에서 정의\n",
        "\n",
        "        x = F.relu(self.fc1(x))\n",
        "        x = F.relu(self.fc2(x))\n",
        "        x = F.relu(self.fc3(x))\n",
        "        x = self.fc4(x)\n",
        "\n",
        "        return x\n",
        "    \n",
        "    def num_flat_features(self, x): # 처음 dim-size을 제외하고, 모두 곱한 값을 반환해준다.\n",
        "        size = x.size()[1:]\n",
        "        num_features = 1\n",
        "        for s in size:\n",
        "            num_features *= s\n",
        "        \n",
        "        return num_features"
      ]
    },
    {
      "cell_type": "code",
      "execution_count": 57,
      "metadata": {
        "colab": {
          "base_uri": "https://localhost:8080/"
        },
        "id": "GPoNB-4vD42q",
        "outputId": "a1d162b0-4ea1-4bc5-853e-28a0523a4683",
        "vscode": {
          "languageId": "python"
        }
      },
      "outputs": [
        {
          "name": "stdout",
          "output_type": "stream",
          "text": [
            "CNN_Model5(\n",
            "  (conv1): Conv2d(1, 5, kernel_size=(3, 3), stride=(1, 1), padding=(2, 2))\n",
            "  (conv2): Conv2d(5, 7, kernel_size=(3, 3), stride=(1, 1), padding=(1, 1))\n",
            "  (conv3): Conv2d(7, 16, kernel_size=(2, 2), stride=(1, 1), padding=(1, 1))\n",
            "  (conv4): Conv2d(16, 19, kernel_size=(2, 2), stride=(1, 1))\n",
            "  (conv5): Conv2d(19, 29, kernel_size=(3, 3), stride=(1, 1))\n",
            "  (fc1): Linear(in_features=4901, out_features=100, bias=True)\n",
            "  (fc2): Linear(in_features=100, out_features=50, bias=True)\n",
            "  (fc3): Linear(in_features=50, out_features=25, bias=True)\n",
            "  (fc4): Linear(in_features=25, out_features=10, bias=True)\n",
            ")\n"
          ]
        }
      ],
      "source": [
        "# 모델객체 생성\n",
        "new_model = CNN_Model5().to(device)\n",
        "\n",
        "print(new_model)"
      ]
    },
    {
      "cell_type": "code",
      "execution_count": 58,
      "metadata": {
        "colab": {
          "base_uri": "https://localhost:8080/"
        },
        "id": "aDvnyPw6D42q",
        "outputId": "90c99608-2c4d-4900-fd68-e2fec1eea416",
        "vscode": {
          "languageId": "python"
        }
      },
      "outputs": [
        {
          "name": "stdout",
          "output_type": "stream",
          "text": [
            "----------------------------------------------------------------\n",
            "        Layer (type)               Output Shape         Param #\n",
            "================================================================\n",
            "            Conv2d-1           [128, 5, 30, 30]              50\n",
            "            Conv2d-2           [128, 7, 15, 15]             322\n",
            "            Conv2d-3          [128, 16, 16, 16]             464\n",
            "            Conv2d-4          [128, 19, 15, 15]           1,235\n",
            "            Conv2d-5          [128, 29, 13, 13]           4,988\n",
            "            Linear-6                 [128, 100]         490,200\n",
            "            Linear-7                  [128, 50]           5,050\n",
            "            Linear-8                  [128, 25]           1,275\n",
            "            Linear-9                  [128, 10]             260\n",
            "================================================================\n",
            "Total params: 503,844\n",
            "Trainable params: 503,844\n",
            "Non-trainable params: 0\n",
            "----------------------------------------------------------------\n",
            "Input size (MB): 0.38\n",
            "Forward/backward pass size (MB): 19.07\n",
            "Params size (MB): 1.92\n",
            "Estimated Total Size (MB): 21.38\n",
            "----------------------------------------------------------------\n"
          ]
        }
      ],
      "source": [
        "summary(new_model, input_size=(1, 28, 28), batch_size=128)"
      ]
    },
    {
      "cell_type": "code",
      "execution_count": 59,
      "metadata": {
        "id": "QmOiVQDLD42q",
        "vscode": {
          "languageId": "python"
        }
      },
      "outputs": [],
      "source": [
        "optimizer = optim.SGD(new_model.parameters(), lr=0.001, momentum=0.9)"
      ]
    },
    {
      "cell_type": "code",
      "execution_count": 60,
      "metadata": {
        "colab": {
          "base_uri": "https://localhost:8080/"
        },
        "id": "eS9fQfeED42q",
        "outputId": "a751a588-2ed5-4c2b-bbb5-7b3900a8c024",
        "vscode": {
          "languageId": "python"
        }
      },
      "outputs": [
        {
          "name": "stdout",
          "output_type": "stream",
          "text": [
            "Epoch: 1, Iter: 100, Loss: 0.11530286681652069\n",
            "Epoch: 1, Iter: 200, Loss: 0.11534405636787415\n",
            "Epoch: 1, Iter: 300, Loss: 0.11523013138771057\n",
            "Epoch: 1, Iter: 400, Loss: 0.11521595859527588\n",
            "Epoch: 2, Iter: 100, Loss: 0.11518910586833954\n",
            "Epoch: 2, Iter: 200, Loss: 0.11516863453388214\n",
            "Epoch: 2, Iter: 300, Loss: 0.11514735209941863\n",
            "Epoch: 2, Iter: 400, Loss: 0.11515392911434173\n",
            "Epoch: 3, Iter: 100, Loss: 0.11514671492576599\n",
            "Epoch: 3, Iter: 200, Loss: 0.11514167749881744\n",
            "Epoch: 3, Iter: 300, Loss: 0.11513765025138854\n",
            "Epoch: 3, Iter: 400, Loss: 0.11512306761741638\n",
            "Epoch: 4, Iter: 100, Loss: 0.11512416279315948\n",
            "Epoch: 4, Iter: 200, Loss: 0.11513336884975434\n",
            "Epoch: 4, Iter: 300, Loss: 0.11512398421764374\n",
            "Epoch: 4, Iter: 400, Loss: 0.11512266480922699\n",
            "Epoch: 5, Iter: 100, Loss: 0.1151239274740219\n",
            "Epoch: 5, Iter: 200, Loss: 0.11511953687667846\n",
            "Epoch: 5, Iter: 300, Loss: 0.11512096321582795\n",
            "Epoch: 5, Iter: 400, Loss: 0.11511966753005981\n",
            "Epoch: 6, Iter: 100, Loss: 0.11511522710323334\n",
            "Epoch: 6, Iter: 200, Loss: 0.11511596667766572\n",
            "Epoch: 6, Iter: 300, Loss: 0.11511622226238251\n",
            "Epoch: 6, Iter: 400, Loss: 0.11511642909049988\n",
            "Epoch: 7, Iter: 100, Loss: 0.11511087155342102\n",
            "Epoch: 7, Iter: 200, Loss: 0.11511011624336243\n",
            "Epoch: 7, Iter: 300, Loss: 0.11510836625099183\n",
            "Epoch: 7, Iter: 400, Loss: 0.11511033463478089\n",
            "Epoch: 8, Iter: 100, Loss: 0.11510242044925689\n",
            "Epoch: 8, Iter: 200, Loss: 0.11510562264919282\n",
            "Epoch: 8, Iter: 300, Loss: 0.11509939122200012\n",
            "Epoch: 8, Iter: 400, Loss: 0.1151024260520935\n",
            "Epoch: 9, Iter: 100, Loss: 0.1150945701599121\n",
            "Epoch: 9, Iter: 200, Loss: 0.11509035122394562\n",
            "Epoch: 9, Iter: 300, Loss: 0.11508631932735443\n",
            "Epoch: 9, Iter: 400, Loss: 0.11508344197273254\n",
            "Epoch: 10, Iter: 100, Loss: 0.11507316756248474\n",
            "Epoch: 10, Iter: 200, Loss: 0.11506713044643402\n",
            "Epoch: 10, Iter: 300, Loss: 0.11506435644626617\n",
            "Epoch: 10, Iter: 400, Loss: 0.11505711328983306\n"
          ]
        }
      ],
      "source": [
        "for epoch in range(10):\n",
        "\n",
        "    running_loss = 0.0\n",
        "\n",
        "    for i, data in enumerate(train_loader128, start=0):\n",
        "        inputs, labels = data[0].to(device), data[1].to(device)\n",
        "\n",
        "        optimizer.zero_grad() # epoch마다 gradient 0으로 초기화\n",
        "\n",
        "        outputs = new_model(inputs) # y_pred = f(X)\n",
        "        loss = criterion(outputs, labels) # CrossEntropyLoss; 0~1 사이값\n",
        "        loss.backward() # back-propagation; gradient 계산\n",
        "        optimizer.step() # parameters(weights) update\n",
        "\n",
        "        running_loss += loss.item() # 그냥 전체적인 비교를 위해 누적함\n",
        "\n",
        "        if i % 100 == 99: # 100번 마다 확인; epoch=10, iter(=i)=469, batch=128\n",
        "            print('Epoch: {}, Iter: {}, Loss: {}'.format(epoch+1, i+1, running_loss/2000))\n",
        "            running_loss = 0.0"
      ]
    },
    {
      "cell_type": "code",
      "execution_count": 61,
      "metadata": {
        "colab": {
          "base_uri": "https://localhost:8080/"
        },
        "id": "X0H3p7PGD42q",
        "outputId": "51dd3401-eac1-4420-e433-1d7f6c11b75c",
        "vscode": {
          "languageId": "python"
        }
      },
      "outputs": [
        {
          "name": "stdout",
          "output_type": "stream",
          "text": [
            "32.29\n"
          ]
        }
      ],
      "source": [
        "correct = 0\n",
        "total = 0\n",
        "\n",
        "with torch.no_grad():\n",
        "    for data in test_loader128:\n",
        "        images, labels = data[0].to(device), data[1].to(device)\n",
        "        outputs = new_model(images)\n",
        "        _, predicted = torch.max(outputs.data, axis=1)\n",
        "        total += labels.size(0)\n",
        "        correct += (predicted == labels).sum().item()\n",
        "    \n",
        "    print(100 * correct / total)"
      ]
    },
    {
      "cell_type": "markdown",
      "metadata": {
        "id": "TBZcIltIJPLj"
      },
      "source": [
        "convolution layer의 개수가 5개 이상으로 많아지자 정답률이 급감한다. 즉 성능이 낮아진다. vanishing gradient 등이 그 이유가 아닐까 추측한다."
      ]
    }
  ],
  "metadata": {
    "accelerator": "GPU",
    "colab": {
      "collapsed_sections": [
        "cdNvme8aKSBP",
        "OHckdZ55KeH2",
        "mCrBa-gRRMEO",
        "EFPYE3UUnpmX",
        "xVxKI_rwCvhI",
        "klpXGc2tCimP",
        "huNh3EnhJLyh",
        "W-2Q7c6-JW9z",
        "FOUBE2UfKS6D",
        "LaVvtEOvKUgJ",
        "jRyyw49jKVhj",
        "5IecfHZiI09W",
        "SZcZQv4PGeYv",
        "V7HoLqroDhyF",
        "_civVcIYBGxA",
        "7Thu9NRyCV7j",
        "kuP_3_DyD42p"
      ],
      "provenance": []
    },
    "gpuClass": "standard",
    "kernelspec": {
      "display_name": "Python 3",
      "name": "python3"
    },
    "widgets": {
      "application/vnd.jupyter.widget-state+json": {
        "088b90d0eb264398aa7327085c8205ce": {
          "model_module": "@jupyter-widgets/controls",
          "model_module_version": "1.5.0",
          "model_name": "HTMLModel",
          "state": {
            "_dom_classes": [],
            "_model_module": "@jupyter-widgets/controls",
            "_model_module_version": "1.5.0",
            "_model_name": "HTMLModel",
            "_view_count": null,
            "_view_module": "@jupyter-widgets/controls",
            "_view_module_version": "1.5.0",
            "_view_name": "HTMLView",
            "description": "",
            "description_tooltip": null,
            "layout": "IPY_MODEL_46aaa64e040f4b91ae441dc2feaa4e09",
            "placeholder": "​",
            "style": "IPY_MODEL_bd12ee978535431eb5e28b5fcea1a7ce",
            "value": "100%"
          }
        },
        "1705c53798d246b089035dfe36c0bc51": {
          "model_module": "@jupyter-widgets/base",
          "model_module_version": "1.2.0",
          "model_name": "LayoutModel",
          "state": {
            "_model_module": "@jupyter-widgets/base",
            "_model_module_version": "1.2.0",
            "_model_name": "LayoutModel",
            "_view_count": null,
            "_view_module": "@jupyter-widgets/base",
            "_view_module_version": "1.2.0",
            "_view_name": "LayoutView",
            "align_content": null,
            "align_items": null,
            "align_self": null,
            "border": null,
            "bottom": null,
            "display": null,
            "flex": null,
            "flex_flow": null,
            "grid_area": null,
            "grid_auto_columns": null,
            "grid_auto_flow": null,
            "grid_auto_rows": null,
            "grid_column": null,
            "grid_gap": null,
            "grid_row": null,
            "grid_template_areas": null,
            "grid_template_columns": null,
            "grid_template_rows": null,
            "height": null,
            "justify_content": null,
            "justify_items": null,
            "left": null,
            "margin": null,
            "max_height": null,
            "max_width": null,
            "min_height": null,
            "min_width": null,
            "object_fit": null,
            "object_position": null,
            "order": null,
            "overflow": null,
            "overflow_x": null,
            "overflow_y": null,
            "padding": null,
            "right": null,
            "top": null,
            "visibility": null,
            "width": null
          }
        },
        "1840ace9e85f4023af2b8d335c9a8b66": {
          "model_module": "@jupyter-widgets/controls",
          "model_module_version": "1.5.0",
          "model_name": "HTMLModel",
          "state": {
            "_dom_classes": [],
            "_model_module": "@jupyter-widgets/controls",
            "_model_module_version": "1.5.0",
            "_model_name": "HTMLModel",
            "_view_count": null,
            "_view_module": "@jupyter-widgets/controls",
            "_view_module_version": "1.5.0",
            "_view_name": "HTMLView",
            "description": "",
            "description_tooltip": null,
            "layout": "IPY_MODEL_1bf9be2d146f4d7d8d0f1c27a9210dd4",
            "placeholder": "​",
            "style": "IPY_MODEL_eb1f6c3f8cad47509a337635a54c3cd3",
            "value": "100%"
          }
        },
        "1bf9be2d146f4d7d8d0f1c27a9210dd4": {
          "model_module": "@jupyter-widgets/base",
          "model_module_version": "1.2.0",
          "model_name": "LayoutModel",
          "state": {
            "_model_module": "@jupyter-widgets/base",
            "_model_module_version": "1.2.0",
            "_model_name": "LayoutModel",
            "_view_count": null,
            "_view_module": "@jupyter-widgets/base",
            "_view_module_version": "1.2.0",
            "_view_name": "LayoutView",
            "align_content": null,
            "align_items": null,
            "align_self": null,
            "border": null,
            "bottom": null,
            "display": null,
            "flex": null,
            "flex_flow": null,
            "grid_area": null,
            "grid_auto_columns": null,
            "grid_auto_flow": null,
            "grid_auto_rows": null,
            "grid_column": null,
            "grid_gap": null,
            "grid_row": null,
            "grid_template_areas": null,
            "grid_template_columns": null,
            "grid_template_rows": null,
            "height": null,
            "justify_content": null,
            "justify_items": null,
            "left": null,
            "margin": null,
            "max_height": null,
            "max_width": null,
            "min_height": null,
            "min_width": null,
            "object_fit": null,
            "object_position": null,
            "order": null,
            "overflow": null,
            "overflow_x": null,
            "overflow_y": null,
            "padding": null,
            "right": null,
            "top": null,
            "visibility": null,
            "width": null
          }
        },
        "1c7b8fc1f2124df489ca048d0859b990": {
          "model_module": "@jupyter-widgets/controls",
          "model_module_version": "1.5.0",
          "model_name": "HBoxModel",
          "state": {
            "_dom_classes": [],
            "_model_module": "@jupyter-widgets/controls",
            "_model_module_version": "1.5.0",
            "_model_name": "HBoxModel",
            "_view_count": null,
            "_view_module": "@jupyter-widgets/controls",
            "_view_module_version": "1.5.0",
            "_view_name": "HBoxView",
            "box_style": "",
            "children": [
              "IPY_MODEL_088b90d0eb264398aa7327085c8205ce",
              "IPY_MODEL_319cc4ffe7c5440a8c718b57b3c69f05",
              "IPY_MODEL_73df476910e145519d17810de3e22b3c"
            ],
            "layout": "IPY_MODEL_f88a36062a314d89a17e8bcf2b313c77"
          }
        },
        "27f80b8bbe3b498a848c88f7dd69c09f": {
          "model_module": "@jupyter-widgets/controls",
          "model_module_version": "1.5.0",
          "model_name": "FloatProgressModel",
          "state": {
            "_dom_classes": [],
            "_model_module": "@jupyter-widgets/controls",
            "_model_module_version": "1.5.0",
            "_model_name": "FloatProgressModel",
            "_view_count": null,
            "_view_module": "@jupyter-widgets/controls",
            "_view_module_version": "1.5.0",
            "_view_name": "ProgressView",
            "bar_style": "success",
            "description": "",
            "description_tooltip": null,
            "layout": "IPY_MODEL_635d5df06da440a6a62f344667e885cd",
            "max": 26421880,
            "min": 0,
            "orientation": "horizontal",
            "style": "IPY_MODEL_4446dd7719e44957a71c5bf57fd87420",
            "value": 26421880
          }
        },
        "319cc4ffe7c5440a8c718b57b3c69f05": {
          "model_module": "@jupyter-widgets/controls",
          "model_module_version": "1.5.0",
          "model_name": "FloatProgressModel",
          "state": {
            "_dom_classes": [],
            "_model_module": "@jupyter-widgets/controls",
            "_model_module_version": "1.5.0",
            "_model_name": "FloatProgressModel",
            "_view_count": null,
            "_view_module": "@jupyter-widgets/controls",
            "_view_module_version": "1.5.0",
            "_view_name": "ProgressView",
            "bar_style": "success",
            "description": "",
            "description_tooltip": null,
            "layout": "IPY_MODEL_65c5d07a7d8f4849a4ebf4bcfd296028",
            "max": 5148,
            "min": 0,
            "orientation": "horizontal",
            "style": "IPY_MODEL_9d2276fd6b484d64903623386e55057d",
            "value": 5148
          }
        },
        "342a0ea580ca4cbca4e126a2b474edec": {
          "model_module": "@jupyter-widgets/controls",
          "model_module_version": "1.5.0",
          "model_name": "HBoxModel",
          "state": {
            "_dom_classes": [],
            "_model_module": "@jupyter-widgets/controls",
            "_model_module_version": "1.5.0",
            "_model_name": "HBoxModel",
            "_view_count": null,
            "_view_module": "@jupyter-widgets/controls",
            "_view_module_version": "1.5.0",
            "_view_name": "HBoxView",
            "box_style": "",
            "children": [
              "IPY_MODEL_93c73df117cf45189acb53d17bdfb234",
              "IPY_MODEL_27f80b8bbe3b498a848c88f7dd69c09f",
              "IPY_MODEL_dd7cb1d3d9a54a51b8a308c81b75c479"
            ],
            "layout": "IPY_MODEL_373fd6e959f3414688246719d4e0aa1c"
          }
        },
        "344da4ff96a2448e920d1acbfa059bb9": {
          "model_module": "@jupyter-widgets/controls",
          "model_module_version": "1.5.0",
          "model_name": "FloatProgressModel",
          "state": {
            "_dom_classes": [],
            "_model_module": "@jupyter-widgets/controls",
            "_model_module_version": "1.5.0",
            "_model_name": "FloatProgressModel",
            "_view_count": null,
            "_view_module": "@jupyter-widgets/controls",
            "_view_module_version": "1.5.0",
            "_view_name": "ProgressView",
            "bar_style": "success",
            "description": "",
            "description_tooltip": null,
            "layout": "IPY_MODEL_53f2971c83c84b8191dea450a66fe31b",
            "max": 29515,
            "min": 0,
            "orientation": "horizontal",
            "style": "IPY_MODEL_b389e409a55f48de8a3925c40b46a8a2",
            "value": 29515
          }
        },
        "358b8e68b87a4f8eb760c6ef61cfa78a": {
          "model_module": "@jupyter-widgets/controls",
          "model_module_version": "1.5.0",
          "model_name": "HTMLModel",
          "state": {
            "_dom_classes": [],
            "_model_module": "@jupyter-widgets/controls",
            "_model_module_version": "1.5.0",
            "_model_name": "HTMLModel",
            "_view_count": null,
            "_view_module": "@jupyter-widgets/controls",
            "_view_module_version": "1.5.0",
            "_view_name": "HTMLView",
            "description": "",
            "description_tooltip": null,
            "layout": "IPY_MODEL_ff0f2bd4a407444fbd50a9d4ea175cce",
            "placeholder": "​",
            "style": "IPY_MODEL_6573e5306b1b441e8a4011504e99e442",
            "value": " 29515/29515 [00:00&lt;00:00, 268681.83it/s]"
          }
        },
        "373fd6e959f3414688246719d4e0aa1c": {
          "model_module": "@jupyter-widgets/base",
          "model_module_version": "1.2.0",
          "model_name": "LayoutModel",
          "state": {
            "_model_module": "@jupyter-widgets/base",
            "_model_module_version": "1.2.0",
            "_model_name": "LayoutModel",
            "_view_count": null,
            "_view_module": "@jupyter-widgets/base",
            "_view_module_version": "1.2.0",
            "_view_name": "LayoutView",
            "align_content": null,
            "align_items": null,
            "align_self": null,
            "border": null,
            "bottom": null,
            "display": null,
            "flex": null,
            "flex_flow": null,
            "grid_area": null,
            "grid_auto_columns": null,
            "grid_auto_flow": null,
            "grid_auto_rows": null,
            "grid_column": null,
            "grid_gap": null,
            "grid_row": null,
            "grid_template_areas": null,
            "grid_template_columns": null,
            "grid_template_rows": null,
            "height": null,
            "justify_content": null,
            "justify_items": null,
            "left": null,
            "margin": null,
            "max_height": null,
            "max_width": null,
            "min_height": null,
            "min_width": null,
            "object_fit": null,
            "object_position": null,
            "order": null,
            "overflow": null,
            "overflow_x": null,
            "overflow_y": null,
            "padding": null,
            "right": null,
            "top": null,
            "visibility": null,
            "width": null
          }
        },
        "38eb724ef47646e2b71359d1231e4270": {
          "model_module": "@jupyter-widgets/base",
          "model_module_version": "1.2.0",
          "model_name": "LayoutModel",
          "state": {
            "_model_module": "@jupyter-widgets/base",
            "_model_module_version": "1.2.0",
            "_model_name": "LayoutModel",
            "_view_count": null,
            "_view_module": "@jupyter-widgets/base",
            "_view_module_version": "1.2.0",
            "_view_name": "LayoutView",
            "align_content": null,
            "align_items": null,
            "align_self": null,
            "border": null,
            "bottom": null,
            "display": null,
            "flex": null,
            "flex_flow": null,
            "grid_area": null,
            "grid_auto_columns": null,
            "grid_auto_flow": null,
            "grid_auto_rows": null,
            "grid_column": null,
            "grid_gap": null,
            "grid_row": null,
            "grid_template_areas": null,
            "grid_template_columns": null,
            "grid_template_rows": null,
            "height": null,
            "justify_content": null,
            "justify_items": null,
            "left": null,
            "margin": null,
            "max_height": null,
            "max_width": null,
            "min_height": null,
            "min_width": null,
            "object_fit": null,
            "object_position": null,
            "order": null,
            "overflow": null,
            "overflow_x": null,
            "overflow_y": null,
            "padding": null,
            "right": null,
            "top": null,
            "visibility": null,
            "width": null
          }
        },
        "3a19083b3c1a4ceba90da994d0e70147": {
          "model_module": "@jupyter-widgets/base",
          "model_module_version": "1.2.0",
          "model_name": "LayoutModel",
          "state": {
            "_model_module": "@jupyter-widgets/base",
            "_model_module_version": "1.2.0",
            "_model_name": "LayoutModel",
            "_view_count": null,
            "_view_module": "@jupyter-widgets/base",
            "_view_module_version": "1.2.0",
            "_view_name": "LayoutView",
            "align_content": null,
            "align_items": null,
            "align_self": null,
            "border": null,
            "bottom": null,
            "display": null,
            "flex": null,
            "flex_flow": null,
            "grid_area": null,
            "grid_auto_columns": null,
            "grid_auto_flow": null,
            "grid_auto_rows": null,
            "grid_column": null,
            "grid_gap": null,
            "grid_row": null,
            "grid_template_areas": null,
            "grid_template_columns": null,
            "grid_template_rows": null,
            "height": null,
            "justify_content": null,
            "justify_items": null,
            "left": null,
            "margin": null,
            "max_height": null,
            "max_width": null,
            "min_height": null,
            "min_width": null,
            "object_fit": null,
            "object_position": null,
            "order": null,
            "overflow": null,
            "overflow_x": null,
            "overflow_y": null,
            "padding": null,
            "right": null,
            "top": null,
            "visibility": null,
            "width": null
          }
        },
        "3da7da7de5574294a20d93a281b8b48f": {
          "model_module": "@jupyter-widgets/base",
          "model_module_version": "1.2.0",
          "model_name": "LayoutModel",
          "state": {
            "_model_module": "@jupyter-widgets/base",
            "_model_module_version": "1.2.0",
            "_model_name": "LayoutModel",
            "_view_count": null,
            "_view_module": "@jupyter-widgets/base",
            "_view_module_version": "1.2.0",
            "_view_name": "LayoutView",
            "align_content": null,
            "align_items": null,
            "align_self": null,
            "border": null,
            "bottom": null,
            "display": null,
            "flex": null,
            "flex_flow": null,
            "grid_area": null,
            "grid_auto_columns": null,
            "grid_auto_flow": null,
            "grid_auto_rows": null,
            "grid_column": null,
            "grid_gap": null,
            "grid_row": null,
            "grid_template_areas": null,
            "grid_template_columns": null,
            "grid_template_rows": null,
            "height": null,
            "justify_content": null,
            "justify_items": null,
            "left": null,
            "margin": null,
            "max_height": null,
            "max_width": null,
            "min_height": null,
            "min_width": null,
            "object_fit": null,
            "object_position": null,
            "order": null,
            "overflow": null,
            "overflow_x": null,
            "overflow_y": null,
            "padding": null,
            "right": null,
            "top": null,
            "visibility": null,
            "width": null
          }
        },
        "3ddbe8ab2fd34e03bfa9cfee394c7d05": {
          "model_module": "@jupyter-widgets/controls",
          "model_module_version": "1.5.0",
          "model_name": "DescriptionStyleModel",
          "state": {
            "_model_module": "@jupyter-widgets/controls",
            "_model_module_version": "1.5.0",
            "_model_name": "DescriptionStyleModel",
            "_view_count": null,
            "_view_module": "@jupyter-widgets/base",
            "_view_module_version": "1.2.0",
            "_view_name": "StyleView",
            "description_width": ""
          }
        },
        "4446dd7719e44957a71c5bf57fd87420": {
          "model_module": "@jupyter-widgets/controls",
          "model_module_version": "1.5.0",
          "model_name": "ProgressStyleModel",
          "state": {
            "_model_module": "@jupyter-widgets/controls",
            "_model_module_version": "1.5.0",
            "_model_name": "ProgressStyleModel",
            "_view_count": null,
            "_view_module": "@jupyter-widgets/base",
            "_view_module_version": "1.2.0",
            "_view_name": "StyleView",
            "bar_color": null,
            "description_width": ""
          }
        },
        "461047b036e54144a2dbfecb76405a0d": {
          "model_module": "@jupyter-widgets/controls",
          "model_module_version": "1.5.0",
          "model_name": "HBoxModel",
          "state": {
            "_dom_classes": [],
            "_model_module": "@jupyter-widgets/controls",
            "_model_module_version": "1.5.0",
            "_model_name": "HBoxModel",
            "_view_count": null,
            "_view_module": "@jupyter-widgets/controls",
            "_view_module_version": "1.5.0",
            "_view_name": "HBoxView",
            "box_style": "",
            "children": [
              "IPY_MODEL_1840ace9e85f4023af2b8d335c9a8b66",
              "IPY_MODEL_344da4ff96a2448e920d1acbfa059bb9",
              "IPY_MODEL_358b8e68b87a4f8eb760c6ef61cfa78a"
            ],
            "layout": "IPY_MODEL_6a46e488477e47df9041ac1ff5c9df19"
          }
        },
        "46aaa64e040f4b91ae441dc2feaa4e09": {
          "model_module": "@jupyter-widgets/base",
          "model_module_version": "1.2.0",
          "model_name": "LayoutModel",
          "state": {
            "_model_module": "@jupyter-widgets/base",
            "_model_module_version": "1.2.0",
            "_model_name": "LayoutModel",
            "_view_count": null,
            "_view_module": "@jupyter-widgets/base",
            "_view_module_version": "1.2.0",
            "_view_name": "LayoutView",
            "align_content": null,
            "align_items": null,
            "align_self": null,
            "border": null,
            "bottom": null,
            "display": null,
            "flex": null,
            "flex_flow": null,
            "grid_area": null,
            "grid_auto_columns": null,
            "grid_auto_flow": null,
            "grid_auto_rows": null,
            "grid_column": null,
            "grid_gap": null,
            "grid_row": null,
            "grid_template_areas": null,
            "grid_template_columns": null,
            "grid_template_rows": null,
            "height": null,
            "justify_content": null,
            "justify_items": null,
            "left": null,
            "margin": null,
            "max_height": null,
            "max_width": null,
            "min_height": null,
            "min_width": null,
            "object_fit": null,
            "object_position": null,
            "order": null,
            "overflow": null,
            "overflow_x": null,
            "overflow_y": null,
            "padding": null,
            "right": null,
            "top": null,
            "visibility": null,
            "width": null
          }
        },
        "53f2971c83c84b8191dea450a66fe31b": {
          "model_module": "@jupyter-widgets/base",
          "model_module_version": "1.2.0",
          "model_name": "LayoutModel",
          "state": {
            "_model_module": "@jupyter-widgets/base",
            "_model_module_version": "1.2.0",
            "_model_name": "LayoutModel",
            "_view_count": null,
            "_view_module": "@jupyter-widgets/base",
            "_view_module_version": "1.2.0",
            "_view_name": "LayoutView",
            "align_content": null,
            "align_items": null,
            "align_self": null,
            "border": null,
            "bottom": null,
            "display": null,
            "flex": null,
            "flex_flow": null,
            "grid_area": null,
            "grid_auto_columns": null,
            "grid_auto_flow": null,
            "grid_auto_rows": null,
            "grid_column": null,
            "grid_gap": null,
            "grid_row": null,
            "grid_template_areas": null,
            "grid_template_columns": null,
            "grid_template_rows": null,
            "height": null,
            "justify_content": null,
            "justify_items": null,
            "left": null,
            "margin": null,
            "max_height": null,
            "max_width": null,
            "min_height": null,
            "min_width": null,
            "object_fit": null,
            "object_position": null,
            "order": null,
            "overflow": null,
            "overflow_x": null,
            "overflow_y": null,
            "padding": null,
            "right": null,
            "top": null,
            "visibility": null,
            "width": null
          }
        },
        "6260e30a1ef9401a9fac6a35f298c0a9": {
          "model_module": "@jupyter-widgets/controls",
          "model_module_version": "1.5.0",
          "model_name": "DescriptionStyleModel",
          "state": {
            "_model_module": "@jupyter-widgets/controls",
            "_model_module_version": "1.5.0",
            "_model_name": "DescriptionStyleModel",
            "_view_count": null,
            "_view_module": "@jupyter-widgets/base",
            "_view_module_version": "1.2.0",
            "_view_name": "StyleView",
            "description_width": ""
          }
        },
        "635d5df06da440a6a62f344667e885cd": {
          "model_module": "@jupyter-widgets/base",
          "model_module_version": "1.2.0",
          "model_name": "LayoutModel",
          "state": {
            "_model_module": "@jupyter-widgets/base",
            "_model_module_version": "1.2.0",
            "_model_name": "LayoutModel",
            "_view_count": null,
            "_view_module": "@jupyter-widgets/base",
            "_view_module_version": "1.2.0",
            "_view_name": "LayoutView",
            "align_content": null,
            "align_items": null,
            "align_self": null,
            "border": null,
            "bottom": null,
            "display": null,
            "flex": null,
            "flex_flow": null,
            "grid_area": null,
            "grid_auto_columns": null,
            "grid_auto_flow": null,
            "grid_auto_rows": null,
            "grid_column": null,
            "grid_gap": null,
            "grid_row": null,
            "grid_template_areas": null,
            "grid_template_columns": null,
            "grid_template_rows": null,
            "height": null,
            "justify_content": null,
            "justify_items": null,
            "left": null,
            "margin": null,
            "max_height": null,
            "max_width": null,
            "min_height": null,
            "min_width": null,
            "object_fit": null,
            "object_position": null,
            "order": null,
            "overflow": null,
            "overflow_x": null,
            "overflow_y": null,
            "padding": null,
            "right": null,
            "top": null,
            "visibility": null,
            "width": null
          }
        },
        "6573e5306b1b441e8a4011504e99e442": {
          "model_module": "@jupyter-widgets/controls",
          "model_module_version": "1.5.0",
          "model_name": "DescriptionStyleModel",
          "state": {
            "_model_module": "@jupyter-widgets/controls",
            "_model_module_version": "1.5.0",
            "_model_name": "DescriptionStyleModel",
            "_view_count": null,
            "_view_module": "@jupyter-widgets/base",
            "_view_module_version": "1.2.0",
            "_view_name": "StyleView",
            "description_width": ""
          }
        },
        "65c5d07a7d8f4849a4ebf4bcfd296028": {
          "model_module": "@jupyter-widgets/base",
          "model_module_version": "1.2.0",
          "model_name": "LayoutModel",
          "state": {
            "_model_module": "@jupyter-widgets/base",
            "_model_module_version": "1.2.0",
            "_model_name": "LayoutModel",
            "_view_count": null,
            "_view_module": "@jupyter-widgets/base",
            "_view_module_version": "1.2.0",
            "_view_name": "LayoutView",
            "align_content": null,
            "align_items": null,
            "align_self": null,
            "border": null,
            "bottom": null,
            "display": null,
            "flex": null,
            "flex_flow": null,
            "grid_area": null,
            "grid_auto_columns": null,
            "grid_auto_flow": null,
            "grid_auto_rows": null,
            "grid_column": null,
            "grid_gap": null,
            "grid_row": null,
            "grid_template_areas": null,
            "grid_template_columns": null,
            "grid_template_rows": null,
            "height": null,
            "justify_content": null,
            "justify_items": null,
            "left": null,
            "margin": null,
            "max_height": null,
            "max_width": null,
            "min_height": null,
            "min_width": null,
            "object_fit": null,
            "object_position": null,
            "order": null,
            "overflow": null,
            "overflow_x": null,
            "overflow_y": null,
            "padding": null,
            "right": null,
            "top": null,
            "visibility": null,
            "width": null
          }
        },
        "65f69d0bb9fa41d1872fb3c887f8c14a": {
          "model_module": "@jupyter-widgets/base",
          "model_module_version": "1.2.0",
          "model_name": "LayoutModel",
          "state": {
            "_model_module": "@jupyter-widgets/base",
            "_model_module_version": "1.2.0",
            "_model_name": "LayoutModel",
            "_view_count": null,
            "_view_module": "@jupyter-widgets/base",
            "_view_module_version": "1.2.0",
            "_view_name": "LayoutView",
            "align_content": null,
            "align_items": null,
            "align_self": null,
            "border": null,
            "bottom": null,
            "display": null,
            "flex": null,
            "flex_flow": null,
            "grid_area": null,
            "grid_auto_columns": null,
            "grid_auto_flow": null,
            "grid_auto_rows": null,
            "grid_column": null,
            "grid_gap": null,
            "grid_row": null,
            "grid_template_areas": null,
            "grid_template_columns": null,
            "grid_template_rows": null,
            "height": null,
            "justify_content": null,
            "justify_items": null,
            "left": null,
            "margin": null,
            "max_height": null,
            "max_width": null,
            "min_height": null,
            "min_width": null,
            "object_fit": null,
            "object_position": null,
            "order": null,
            "overflow": null,
            "overflow_x": null,
            "overflow_y": null,
            "padding": null,
            "right": null,
            "top": null,
            "visibility": null,
            "width": null
          }
        },
        "6a46e488477e47df9041ac1ff5c9df19": {
          "model_module": "@jupyter-widgets/base",
          "model_module_version": "1.2.0",
          "model_name": "LayoutModel",
          "state": {
            "_model_module": "@jupyter-widgets/base",
            "_model_module_version": "1.2.0",
            "_model_name": "LayoutModel",
            "_view_count": null,
            "_view_module": "@jupyter-widgets/base",
            "_view_module_version": "1.2.0",
            "_view_name": "LayoutView",
            "align_content": null,
            "align_items": null,
            "align_self": null,
            "border": null,
            "bottom": null,
            "display": null,
            "flex": null,
            "flex_flow": null,
            "grid_area": null,
            "grid_auto_columns": null,
            "grid_auto_flow": null,
            "grid_auto_rows": null,
            "grid_column": null,
            "grid_gap": null,
            "grid_row": null,
            "grid_template_areas": null,
            "grid_template_columns": null,
            "grid_template_rows": null,
            "height": null,
            "justify_content": null,
            "justify_items": null,
            "left": null,
            "margin": null,
            "max_height": null,
            "max_width": null,
            "min_height": null,
            "min_width": null,
            "object_fit": null,
            "object_position": null,
            "order": null,
            "overflow": null,
            "overflow_x": null,
            "overflow_y": null,
            "padding": null,
            "right": null,
            "top": null,
            "visibility": null,
            "width": null
          }
        },
        "6c837ba56c9a4e66a0e3e7b064c2aacc": {
          "model_module": "@jupyter-widgets/controls",
          "model_module_version": "1.5.0",
          "model_name": "ProgressStyleModel",
          "state": {
            "_model_module": "@jupyter-widgets/controls",
            "_model_module_version": "1.5.0",
            "_model_name": "ProgressStyleModel",
            "_view_count": null,
            "_view_module": "@jupyter-widgets/base",
            "_view_module_version": "1.2.0",
            "_view_name": "StyleView",
            "bar_color": null,
            "description_width": ""
          }
        },
        "73df476910e145519d17810de3e22b3c": {
          "model_module": "@jupyter-widgets/controls",
          "model_module_version": "1.5.0",
          "model_name": "HTMLModel",
          "state": {
            "_dom_classes": [],
            "_model_module": "@jupyter-widgets/controls",
            "_model_module_version": "1.5.0",
            "_model_name": "HTMLModel",
            "_view_count": null,
            "_view_module": "@jupyter-widgets/controls",
            "_view_module_version": "1.5.0",
            "_view_name": "HTMLView",
            "description": "",
            "description_tooltip": null,
            "layout": "IPY_MODEL_3a19083b3c1a4ceba90da994d0e70147",
            "placeholder": "​",
            "style": "IPY_MODEL_3ddbe8ab2fd34e03bfa9cfee394c7d05",
            "value": " 5148/5148 [00:00&lt;00:00, 82075.88it/s]"
          }
        },
        "78f272cc9a784f53870193f23c6335f3": {
          "model_module": "@jupyter-widgets/controls",
          "model_module_version": "1.5.0",
          "model_name": "HTMLModel",
          "state": {
            "_dom_classes": [],
            "_model_module": "@jupyter-widgets/controls",
            "_model_module_version": "1.5.0",
            "_model_name": "HTMLModel",
            "_view_count": null,
            "_view_module": "@jupyter-widgets/controls",
            "_view_module_version": "1.5.0",
            "_view_name": "HTMLView",
            "description": "",
            "description_tooltip": null,
            "layout": "IPY_MODEL_d17a6985ca7145ce94251728b3cc597a",
            "placeholder": "​",
            "style": "IPY_MODEL_6260e30a1ef9401a9fac6a35f298c0a9",
            "value": " 4422102/4422102 [00:00&lt;00:00, 8519583.30it/s]"
          }
        },
        "919466d711c84a95b80541b2015c67be": {
          "model_module": "@jupyter-widgets/controls",
          "model_module_version": "1.5.0",
          "model_name": "DescriptionStyleModel",
          "state": {
            "_model_module": "@jupyter-widgets/controls",
            "_model_module_version": "1.5.0",
            "_model_name": "DescriptionStyleModel",
            "_view_count": null,
            "_view_module": "@jupyter-widgets/base",
            "_view_module_version": "1.2.0",
            "_view_name": "StyleView",
            "description_width": ""
          }
        },
        "93c73df117cf45189acb53d17bdfb234": {
          "model_module": "@jupyter-widgets/controls",
          "model_module_version": "1.5.0",
          "model_name": "HTMLModel",
          "state": {
            "_dom_classes": [],
            "_model_module": "@jupyter-widgets/controls",
            "_model_module_version": "1.5.0",
            "_model_name": "HTMLModel",
            "_view_count": null,
            "_view_module": "@jupyter-widgets/controls",
            "_view_module_version": "1.5.0",
            "_view_name": "HTMLView",
            "description": "",
            "description_tooltip": null,
            "layout": "IPY_MODEL_65f69d0bb9fa41d1872fb3c887f8c14a",
            "placeholder": "​",
            "style": "IPY_MODEL_919466d711c84a95b80541b2015c67be",
            "value": "100%"
          }
        },
        "98af8963d0de455fa966c2ecc14b6281": {
          "model_module": "@jupyter-widgets/base",
          "model_module_version": "1.2.0",
          "model_name": "LayoutModel",
          "state": {
            "_model_module": "@jupyter-widgets/base",
            "_model_module_version": "1.2.0",
            "_model_name": "LayoutModel",
            "_view_count": null,
            "_view_module": "@jupyter-widgets/base",
            "_view_module_version": "1.2.0",
            "_view_name": "LayoutView",
            "align_content": null,
            "align_items": null,
            "align_self": null,
            "border": null,
            "bottom": null,
            "display": null,
            "flex": null,
            "flex_flow": null,
            "grid_area": null,
            "grid_auto_columns": null,
            "grid_auto_flow": null,
            "grid_auto_rows": null,
            "grid_column": null,
            "grid_gap": null,
            "grid_row": null,
            "grid_template_areas": null,
            "grid_template_columns": null,
            "grid_template_rows": null,
            "height": null,
            "justify_content": null,
            "justify_items": null,
            "left": null,
            "margin": null,
            "max_height": null,
            "max_width": null,
            "min_height": null,
            "min_width": null,
            "object_fit": null,
            "object_position": null,
            "order": null,
            "overflow": null,
            "overflow_x": null,
            "overflow_y": null,
            "padding": null,
            "right": null,
            "top": null,
            "visibility": null,
            "width": null
          }
        },
        "9d2276fd6b484d64903623386e55057d": {
          "model_module": "@jupyter-widgets/controls",
          "model_module_version": "1.5.0",
          "model_name": "ProgressStyleModel",
          "state": {
            "_model_module": "@jupyter-widgets/controls",
            "_model_module_version": "1.5.0",
            "_model_name": "ProgressStyleModel",
            "_view_count": null,
            "_view_module": "@jupyter-widgets/base",
            "_view_module_version": "1.2.0",
            "_view_name": "StyleView",
            "bar_color": null,
            "description_width": ""
          }
        },
        "a250bca1e3754c9384e2b981f1c592c7": {
          "model_module": "@jupyter-widgets/controls",
          "model_module_version": "1.5.0",
          "model_name": "HTMLModel",
          "state": {
            "_dom_classes": [],
            "_model_module": "@jupyter-widgets/controls",
            "_model_module_version": "1.5.0",
            "_model_name": "HTMLModel",
            "_view_count": null,
            "_view_module": "@jupyter-widgets/controls",
            "_view_module_version": "1.5.0",
            "_view_name": "HTMLView",
            "description": "",
            "description_tooltip": null,
            "layout": "IPY_MODEL_1705c53798d246b089035dfe36c0bc51",
            "placeholder": "​",
            "style": "IPY_MODEL_eb983e4a3d0e4cbf9715d4ac5932edd3",
            "value": "100%"
          }
        },
        "b389e409a55f48de8a3925c40b46a8a2": {
          "model_module": "@jupyter-widgets/controls",
          "model_module_version": "1.5.0",
          "model_name": "ProgressStyleModel",
          "state": {
            "_model_module": "@jupyter-widgets/controls",
            "_model_module_version": "1.5.0",
            "_model_name": "ProgressStyleModel",
            "_view_count": null,
            "_view_module": "@jupyter-widgets/base",
            "_view_module_version": "1.2.0",
            "_view_name": "StyleView",
            "bar_color": null,
            "description_width": ""
          }
        },
        "b6f67fe83a774336bbef883daad4125f": {
          "model_module": "@jupyter-widgets/controls",
          "model_module_version": "1.5.0",
          "model_name": "DescriptionStyleModel",
          "state": {
            "_model_module": "@jupyter-widgets/controls",
            "_model_module_version": "1.5.0",
            "_model_name": "DescriptionStyleModel",
            "_view_count": null,
            "_view_module": "@jupyter-widgets/base",
            "_view_module_version": "1.2.0",
            "_view_name": "StyleView",
            "description_width": ""
          }
        },
        "bd12ee978535431eb5e28b5fcea1a7ce": {
          "model_module": "@jupyter-widgets/controls",
          "model_module_version": "1.5.0",
          "model_name": "DescriptionStyleModel",
          "state": {
            "_model_module": "@jupyter-widgets/controls",
            "_model_module_version": "1.5.0",
            "_model_name": "DescriptionStyleModel",
            "_view_count": null,
            "_view_module": "@jupyter-widgets/base",
            "_view_module_version": "1.2.0",
            "_view_name": "StyleView",
            "description_width": ""
          }
        },
        "d0d6d80195f54fe98244a931ffcc57ee": {
          "model_module": "@jupyter-widgets/controls",
          "model_module_version": "1.5.0",
          "model_name": "HBoxModel",
          "state": {
            "_dom_classes": [],
            "_model_module": "@jupyter-widgets/controls",
            "_model_module_version": "1.5.0",
            "_model_name": "HBoxModel",
            "_view_count": null,
            "_view_module": "@jupyter-widgets/controls",
            "_view_module_version": "1.5.0",
            "_view_name": "HBoxView",
            "box_style": "",
            "children": [
              "IPY_MODEL_a250bca1e3754c9384e2b981f1c592c7",
              "IPY_MODEL_f8b0dc39c89e44988f8c30c5b6ac1df1",
              "IPY_MODEL_78f272cc9a784f53870193f23c6335f3"
            ],
            "layout": "IPY_MODEL_38eb724ef47646e2b71359d1231e4270"
          }
        },
        "d17a6985ca7145ce94251728b3cc597a": {
          "model_module": "@jupyter-widgets/base",
          "model_module_version": "1.2.0",
          "model_name": "LayoutModel",
          "state": {
            "_model_module": "@jupyter-widgets/base",
            "_model_module_version": "1.2.0",
            "_model_name": "LayoutModel",
            "_view_count": null,
            "_view_module": "@jupyter-widgets/base",
            "_view_module_version": "1.2.0",
            "_view_name": "LayoutView",
            "align_content": null,
            "align_items": null,
            "align_self": null,
            "border": null,
            "bottom": null,
            "display": null,
            "flex": null,
            "flex_flow": null,
            "grid_area": null,
            "grid_auto_columns": null,
            "grid_auto_flow": null,
            "grid_auto_rows": null,
            "grid_column": null,
            "grid_gap": null,
            "grid_row": null,
            "grid_template_areas": null,
            "grid_template_columns": null,
            "grid_template_rows": null,
            "height": null,
            "justify_content": null,
            "justify_items": null,
            "left": null,
            "margin": null,
            "max_height": null,
            "max_width": null,
            "min_height": null,
            "min_width": null,
            "object_fit": null,
            "object_position": null,
            "order": null,
            "overflow": null,
            "overflow_x": null,
            "overflow_y": null,
            "padding": null,
            "right": null,
            "top": null,
            "visibility": null,
            "width": null
          }
        },
        "dd7cb1d3d9a54a51b8a308c81b75c479": {
          "model_module": "@jupyter-widgets/controls",
          "model_module_version": "1.5.0",
          "model_name": "HTMLModel",
          "state": {
            "_dom_classes": [],
            "_model_module": "@jupyter-widgets/controls",
            "_model_module_version": "1.5.0",
            "_model_name": "HTMLModel",
            "_view_count": null,
            "_view_module": "@jupyter-widgets/controls",
            "_view_module_version": "1.5.0",
            "_view_name": "HTMLView",
            "description": "",
            "description_tooltip": null,
            "layout": "IPY_MODEL_3da7da7de5574294a20d93a281b8b48f",
            "placeholder": "​",
            "style": "IPY_MODEL_b6f67fe83a774336bbef883daad4125f",
            "value": " 26421880/26421880 [00:01&lt;00:00, 24790312.97it/s]"
          }
        },
        "eb1f6c3f8cad47509a337635a54c3cd3": {
          "model_module": "@jupyter-widgets/controls",
          "model_module_version": "1.5.0",
          "model_name": "DescriptionStyleModel",
          "state": {
            "_model_module": "@jupyter-widgets/controls",
            "_model_module_version": "1.5.0",
            "_model_name": "DescriptionStyleModel",
            "_view_count": null,
            "_view_module": "@jupyter-widgets/base",
            "_view_module_version": "1.2.0",
            "_view_name": "StyleView",
            "description_width": ""
          }
        },
        "eb983e4a3d0e4cbf9715d4ac5932edd3": {
          "model_module": "@jupyter-widgets/controls",
          "model_module_version": "1.5.0",
          "model_name": "DescriptionStyleModel",
          "state": {
            "_model_module": "@jupyter-widgets/controls",
            "_model_module_version": "1.5.0",
            "_model_name": "DescriptionStyleModel",
            "_view_count": null,
            "_view_module": "@jupyter-widgets/base",
            "_view_module_version": "1.2.0",
            "_view_name": "StyleView",
            "description_width": ""
          }
        },
        "f88a36062a314d89a17e8bcf2b313c77": {
          "model_module": "@jupyter-widgets/base",
          "model_module_version": "1.2.0",
          "model_name": "LayoutModel",
          "state": {
            "_model_module": "@jupyter-widgets/base",
            "_model_module_version": "1.2.0",
            "_model_name": "LayoutModel",
            "_view_count": null,
            "_view_module": "@jupyter-widgets/base",
            "_view_module_version": "1.2.0",
            "_view_name": "LayoutView",
            "align_content": null,
            "align_items": null,
            "align_self": null,
            "border": null,
            "bottom": null,
            "display": null,
            "flex": null,
            "flex_flow": null,
            "grid_area": null,
            "grid_auto_columns": null,
            "grid_auto_flow": null,
            "grid_auto_rows": null,
            "grid_column": null,
            "grid_gap": null,
            "grid_row": null,
            "grid_template_areas": null,
            "grid_template_columns": null,
            "grid_template_rows": null,
            "height": null,
            "justify_content": null,
            "justify_items": null,
            "left": null,
            "margin": null,
            "max_height": null,
            "max_width": null,
            "min_height": null,
            "min_width": null,
            "object_fit": null,
            "object_position": null,
            "order": null,
            "overflow": null,
            "overflow_x": null,
            "overflow_y": null,
            "padding": null,
            "right": null,
            "top": null,
            "visibility": null,
            "width": null
          }
        },
        "f8b0dc39c89e44988f8c30c5b6ac1df1": {
          "model_module": "@jupyter-widgets/controls",
          "model_module_version": "1.5.0",
          "model_name": "FloatProgressModel",
          "state": {
            "_dom_classes": [],
            "_model_module": "@jupyter-widgets/controls",
            "_model_module_version": "1.5.0",
            "_model_name": "FloatProgressModel",
            "_view_count": null,
            "_view_module": "@jupyter-widgets/controls",
            "_view_module_version": "1.5.0",
            "_view_name": "ProgressView",
            "bar_style": "success",
            "description": "",
            "description_tooltip": null,
            "layout": "IPY_MODEL_98af8963d0de455fa966c2ecc14b6281",
            "max": 4422102,
            "min": 0,
            "orientation": "horizontal",
            "style": "IPY_MODEL_6c837ba56c9a4e66a0e3e7b064c2aacc",
            "value": 4422102
          }
        },
        "ff0f2bd4a407444fbd50a9d4ea175cce": {
          "model_module": "@jupyter-widgets/base",
          "model_module_version": "1.2.0",
          "model_name": "LayoutModel",
          "state": {
            "_model_module": "@jupyter-widgets/base",
            "_model_module_version": "1.2.0",
            "_model_name": "LayoutModel",
            "_view_count": null,
            "_view_module": "@jupyter-widgets/base",
            "_view_module_version": "1.2.0",
            "_view_name": "LayoutView",
            "align_content": null,
            "align_items": null,
            "align_self": null,
            "border": null,
            "bottom": null,
            "display": null,
            "flex": null,
            "flex_flow": null,
            "grid_area": null,
            "grid_auto_columns": null,
            "grid_auto_flow": null,
            "grid_auto_rows": null,
            "grid_column": null,
            "grid_gap": null,
            "grid_row": null,
            "grid_template_areas": null,
            "grid_template_columns": null,
            "grid_template_rows": null,
            "height": null,
            "justify_content": null,
            "justify_items": null,
            "left": null,
            "margin": null,
            "max_height": null,
            "max_width": null,
            "min_height": null,
            "min_width": null,
            "object_fit": null,
            "object_position": null,
            "order": null,
            "overflow": null,
            "overflow_x": null,
            "overflow_y": null,
            "padding": null,
            "right": null,
            "top": null,
            "visibility": null,
            "width": null
          }
        }
      }
    }
  },
  "nbformat": 4,
  "nbformat_minor": 0
}
