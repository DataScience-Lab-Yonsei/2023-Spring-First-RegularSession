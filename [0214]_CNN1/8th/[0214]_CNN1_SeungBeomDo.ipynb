{
  "nbformat": 4,
  "nbformat_minor": 0,
  "metadata": {
    "colab": {
      "provenance": [],
      "collapsed_sections": [
        "cdNvme8aKSBP",
        "OHckdZ55KeH2",
        "mCrBa-gRRMEO",
        "EFPYE3UUnpmX",
        "xVxKI_rwCvhI",
        "klpXGc2tCimP",
        "huNh3EnhJLyh",
        "W-2Q7c6-JW9z",
        "FOUBE2UfKS6D",
        "LaVvtEOvKUgJ",
        "jRyyw49jKVhj",
        "5IecfHZiI09W",
        "SZcZQv4PGeYv",
        "V7HoLqroDhyF",
        "7Thu9NRyCV7j",
        "kuP_3_DyD42p"
      ]
    },
    "kernelspec": {
      "name": "python3",
      "display_name": "Python 3"
    },
    "accelerator": "GPU",
    "gpuClass": "standard",
    "widgets": {
      "application/vnd.jupyter.widget-state+json": {
        "8c584a5edc604033a3ad6db94285c352": {
          "model_module": "@jupyter-widgets/controls",
          "model_name": "HBoxModel",
          "model_module_version": "1.5.0",
          "state": {
            "_dom_classes": [],
            "_model_module": "@jupyter-widgets/controls",
            "_model_module_version": "1.5.0",
            "_model_name": "HBoxModel",
            "_view_count": null,
            "_view_module": "@jupyter-widgets/controls",
            "_view_module_version": "1.5.0",
            "_view_name": "HBoxView",
            "box_style": "",
            "children": [
              "IPY_MODEL_501a07b58e1042e3961240d8252840f8",
              "IPY_MODEL_ebef46af68a749719314526b05381a90",
              "IPY_MODEL_a1398e27cce0454a837881657a125ce4"
            ],
            "layout": "IPY_MODEL_02aa2ee7e19c431e9e6f64f8b83605c7"
          }
        },
        "501a07b58e1042e3961240d8252840f8": {
          "model_module": "@jupyter-widgets/controls",
          "model_name": "HTMLModel",
          "model_module_version": "1.5.0",
          "state": {
            "_dom_classes": [],
            "_model_module": "@jupyter-widgets/controls",
            "_model_module_version": "1.5.0",
            "_model_name": "HTMLModel",
            "_view_count": null,
            "_view_module": "@jupyter-widgets/controls",
            "_view_module_version": "1.5.0",
            "_view_name": "HTMLView",
            "description": "",
            "description_tooltip": null,
            "layout": "IPY_MODEL_2c30ba6c02ec4e36b6600f9be0d99758",
            "placeholder": "​",
            "style": "IPY_MODEL_22e58aa2db3549c78974b337c47bc8b6",
            "value": "100%"
          }
        },
        "ebef46af68a749719314526b05381a90": {
          "model_module": "@jupyter-widgets/controls",
          "model_name": "FloatProgressModel",
          "model_module_version": "1.5.0",
          "state": {
            "_dom_classes": [],
            "_model_module": "@jupyter-widgets/controls",
            "_model_module_version": "1.5.0",
            "_model_name": "FloatProgressModel",
            "_view_count": null,
            "_view_module": "@jupyter-widgets/controls",
            "_view_module_version": "1.5.0",
            "_view_name": "ProgressView",
            "bar_style": "success",
            "description": "",
            "description_tooltip": null,
            "layout": "IPY_MODEL_a019b2b2796d4f82837de39609cd648f",
            "max": 26421880,
            "min": 0,
            "orientation": "horizontal",
            "style": "IPY_MODEL_3204c417cc1d4ada9913fff0c7d103ac",
            "value": 26421880
          }
        },
        "a1398e27cce0454a837881657a125ce4": {
          "model_module": "@jupyter-widgets/controls",
          "model_name": "HTMLModel",
          "model_module_version": "1.5.0",
          "state": {
            "_dom_classes": [],
            "_model_module": "@jupyter-widgets/controls",
            "_model_module_version": "1.5.0",
            "_model_name": "HTMLModel",
            "_view_count": null,
            "_view_module": "@jupyter-widgets/controls",
            "_view_module_version": "1.5.0",
            "_view_name": "HTMLView",
            "description": "",
            "description_tooltip": null,
            "layout": "IPY_MODEL_9e35d06a13e64d0ab3d316a335bb38a7",
            "placeholder": "​",
            "style": "IPY_MODEL_e026de7df8994c95a7e777edd428b94c",
            "value": " 26421880/26421880 [00:02&lt;00:00, 14738638.95it/s]"
          }
        },
        "02aa2ee7e19c431e9e6f64f8b83605c7": {
          "model_module": "@jupyter-widgets/base",
          "model_name": "LayoutModel",
          "model_module_version": "1.2.0",
          "state": {
            "_model_module": "@jupyter-widgets/base",
            "_model_module_version": "1.2.0",
            "_model_name": "LayoutModel",
            "_view_count": null,
            "_view_module": "@jupyter-widgets/base",
            "_view_module_version": "1.2.0",
            "_view_name": "LayoutView",
            "align_content": null,
            "align_items": null,
            "align_self": null,
            "border": null,
            "bottom": null,
            "display": null,
            "flex": null,
            "flex_flow": null,
            "grid_area": null,
            "grid_auto_columns": null,
            "grid_auto_flow": null,
            "grid_auto_rows": null,
            "grid_column": null,
            "grid_gap": null,
            "grid_row": null,
            "grid_template_areas": null,
            "grid_template_columns": null,
            "grid_template_rows": null,
            "height": null,
            "justify_content": null,
            "justify_items": null,
            "left": null,
            "margin": null,
            "max_height": null,
            "max_width": null,
            "min_height": null,
            "min_width": null,
            "object_fit": null,
            "object_position": null,
            "order": null,
            "overflow": null,
            "overflow_x": null,
            "overflow_y": null,
            "padding": null,
            "right": null,
            "top": null,
            "visibility": null,
            "width": null
          }
        },
        "2c30ba6c02ec4e36b6600f9be0d99758": {
          "model_module": "@jupyter-widgets/base",
          "model_name": "LayoutModel",
          "model_module_version": "1.2.0",
          "state": {
            "_model_module": "@jupyter-widgets/base",
            "_model_module_version": "1.2.0",
            "_model_name": "LayoutModel",
            "_view_count": null,
            "_view_module": "@jupyter-widgets/base",
            "_view_module_version": "1.2.0",
            "_view_name": "LayoutView",
            "align_content": null,
            "align_items": null,
            "align_self": null,
            "border": null,
            "bottom": null,
            "display": null,
            "flex": null,
            "flex_flow": null,
            "grid_area": null,
            "grid_auto_columns": null,
            "grid_auto_flow": null,
            "grid_auto_rows": null,
            "grid_column": null,
            "grid_gap": null,
            "grid_row": null,
            "grid_template_areas": null,
            "grid_template_columns": null,
            "grid_template_rows": null,
            "height": null,
            "justify_content": null,
            "justify_items": null,
            "left": null,
            "margin": null,
            "max_height": null,
            "max_width": null,
            "min_height": null,
            "min_width": null,
            "object_fit": null,
            "object_position": null,
            "order": null,
            "overflow": null,
            "overflow_x": null,
            "overflow_y": null,
            "padding": null,
            "right": null,
            "top": null,
            "visibility": null,
            "width": null
          }
        },
        "22e58aa2db3549c78974b337c47bc8b6": {
          "model_module": "@jupyter-widgets/controls",
          "model_name": "DescriptionStyleModel",
          "model_module_version": "1.5.0",
          "state": {
            "_model_module": "@jupyter-widgets/controls",
            "_model_module_version": "1.5.0",
            "_model_name": "DescriptionStyleModel",
            "_view_count": null,
            "_view_module": "@jupyter-widgets/base",
            "_view_module_version": "1.2.0",
            "_view_name": "StyleView",
            "description_width": ""
          }
        },
        "a019b2b2796d4f82837de39609cd648f": {
          "model_module": "@jupyter-widgets/base",
          "model_name": "LayoutModel",
          "model_module_version": "1.2.0",
          "state": {
            "_model_module": "@jupyter-widgets/base",
            "_model_module_version": "1.2.0",
            "_model_name": "LayoutModel",
            "_view_count": null,
            "_view_module": "@jupyter-widgets/base",
            "_view_module_version": "1.2.0",
            "_view_name": "LayoutView",
            "align_content": null,
            "align_items": null,
            "align_self": null,
            "border": null,
            "bottom": null,
            "display": null,
            "flex": null,
            "flex_flow": null,
            "grid_area": null,
            "grid_auto_columns": null,
            "grid_auto_flow": null,
            "grid_auto_rows": null,
            "grid_column": null,
            "grid_gap": null,
            "grid_row": null,
            "grid_template_areas": null,
            "grid_template_columns": null,
            "grid_template_rows": null,
            "height": null,
            "justify_content": null,
            "justify_items": null,
            "left": null,
            "margin": null,
            "max_height": null,
            "max_width": null,
            "min_height": null,
            "min_width": null,
            "object_fit": null,
            "object_position": null,
            "order": null,
            "overflow": null,
            "overflow_x": null,
            "overflow_y": null,
            "padding": null,
            "right": null,
            "top": null,
            "visibility": null,
            "width": null
          }
        },
        "3204c417cc1d4ada9913fff0c7d103ac": {
          "model_module": "@jupyter-widgets/controls",
          "model_name": "ProgressStyleModel",
          "model_module_version": "1.5.0",
          "state": {
            "_model_module": "@jupyter-widgets/controls",
            "_model_module_version": "1.5.0",
            "_model_name": "ProgressStyleModel",
            "_view_count": null,
            "_view_module": "@jupyter-widgets/base",
            "_view_module_version": "1.2.0",
            "_view_name": "StyleView",
            "bar_color": null,
            "description_width": ""
          }
        },
        "9e35d06a13e64d0ab3d316a335bb38a7": {
          "model_module": "@jupyter-widgets/base",
          "model_name": "LayoutModel",
          "model_module_version": "1.2.0",
          "state": {
            "_model_module": "@jupyter-widgets/base",
            "_model_module_version": "1.2.0",
            "_model_name": "LayoutModel",
            "_view_count": null,
            "_view_module": "@jupyter-widgets/base",
            "_view_module_version": "1.2.0",
            "_view_name": "LayoutView",
            "align_content": null,
            "align_items": null,
            "align_self": null,
            "border": null,
            "bottom": null,
            "display": null,
            "flex": null,
            "flex_flow": null,
            "grid_area": null,
            "grid_auto_columns": null,
            "grid_auto_flow": null,
            "grid_auto_rows": null,
            "grid_column": null,
            "grid_gap": null,
            "grid_row": null,
            "grid_template_areas": null,
            "grid_template_columns": null,
            "grid_template_rows": null,
            "height": null,
            "justify_content": null,
            "justify_items": null,
            "left": null,
            "margin": null,
            "max_height": null,
            "max_width": null,
            "min_height": null,
            "min_width": null,
            "object_fit": null,
            "object_position": null,
            "order": null,
            "overflow": null,
            "overflow_x": null,
            "overflow_y": null,
            "padding": null,
            "right": null,
            "top": null,
            "visibility": null,
            "width": null
          }
        },
        "e026de7df8994c95a7e777edd428b94c": {
          "model_module": "@jupyter-widgets/controls",
          "model_name": "DescriptionStyleModel",
          "model_module_version": "1.5.0",
          "state": {
            "_model_module": "@jupyter-widgets/controls",
            "_model_module_version": "1.5.0",
            "_model_name": "DescriptionStyleModel",
            "_view_count": null,
            "_view_module": "@jupyter-widgets/base",
            "_view_module_version": "1.2.0",
            "_view_name": "StyleView",
            "description_width": ""
          }
        },
        "f40dd904b60a46c1a3a792bbb2d0f56f": {
          "model_module": "@jupyter-widgets/controls",
          "model_name": "HBoxModel",
          "model_module_version": "1.5.0",
          "state": {
            "_dom_classes": [],
            "_model_module": "@jupyter-widgets/controls",
            "_model_module_version": "1.5.0",
            "_model_name": "HBoxModel",
            "_view_count": null,
            "_view_module": "@jupyter-widgets/controls",
            "_view_module_version": "1.5.0",
            "_view_name": "HBoxView",
            "box_style": "",
            "children": [
              "IPY_MODEL_8687f82b0db34e908d3b8d8d264d26e2",
              "IPY_MODEL_30a0785839f1447d9e7fa22213d52d04",
              "IPY_MODEL_3e67c594e7f24410bff4ad6fa27a678f"
            ],
            "layout": "IPY_MODEL_1e4eb16a37f840f59961dd54bc1eacd3"
          }
        },
        "8687f82b0db34e908d3b8d8d264d26e2": {
          "model_module": "@jupyter-widgets/controls",
          "model_name": "HTMLModel",
          "model_module_version": "1.5.0",
          "state": {
            "_dom_classes": [],
            "_model_module": "@jupyter-widgets/controls",
            "_model_module_version": "1.5.0",
            "_model_name": "HTMLModel",
            "_view_count": null,
            "_view_module": "@jupyter-widgets/controls",
            "_view_module_version": "1.5.0",
            "_view_name": "HTMLView",
            "description": "",
            "description_tooltip": null,
            "layout": "IPY_MODEL_a945dc2072ee4c42859055d202307ea6",
            "placeholder": "​",
            "style": "IPY_MODEL_5e34f3c93b134f43a140445e86a86681",
            "value": "100%"
          }
        },
        "30a0785839f1447d9e7fa22213d52d04": {
          "model_module": "@jupyter-widgets/controls",
          "model_name": "FloatProgressModel",
          "model_module_version": "1.5.0",
          "state": {
            "_dom_classes": [],
            "_model_module": "@jupyter-widgets/controls",
            "_model_module_version": "1.5.0",
            "_model_name": "FloatProgressModel",
            "_view_count": null,
            "_view_module": "@jupyter-widgets/controls",
            "_view_module_version": "1.5.0",
            "_view_name": "ProgressView",
            "bar_style": "success",
            "description": "",
            "description_tooltip": null,
            "layout": "IPY_MODEL_2b7512e0bfc34077aad11a2bd0074e6e",
            "max": 29515,
            "min": 0,
            "orientation": "horizontal",
            "style": "IPY_MODEL_e5ae4b2b5b65451d9a08be76c08f36be",
            "value": 29515
          }
        },
        "3e67c594e7f24410bff4ad6fa27a678f": {
          "model_module": "@jupyter-widgets/controls",
          "model_name": "HTMLModel",
          "model_module_version": "1.5.0",
          "state": {
            "_dom_classes": [],
            "_model_module": "@jupyter-widgets/controls",
            "_model_module_version": "1.5.0",
            "_model_name": "HTMLModel",
            "_view_count": null,
            "_view_module": "@jupyter-widgets/controls",
            "_view_module_version": "1.5.0",
            "_view_name": "HTMLView",
            "description": "",
            "description_tooltip": null,
            "layout": "IPY_MODEL_7cdf9591e5a042619cc97b4b5ccf9144",
            "placeholder": "​",
            "style": "IPY_MODEL_40fccf00a3804f2da40fde5c893eb434",
            "value": " 29515/29515 [00:00&lt;00:00, 202274.26it/s]"
          }
        },
        "1e4eb16a37f840f59961dd54bc1eacd3": {
          "model_module": "@jupyter-widgets/base",
          "model_name": "LayoutModel",
          "model_module_version": "1.2.0",
          "state": {
            "_model_module": "@jupyter-widgets/base",
            "_model_module_version": "1.2.0",
            "_model_name": "LayoutModel",
            "_view_count": null,
            "_view_module": "@jupyter-widgets/base",
            "_view_module_version": "1.2.0",
            "_view_name": "LayoutView",
            "align_content": null,
            "align_items": null,
            "align_self": null,
            "border": null,
            "bottom": null,
            "display": null,
            "flex": null,
            "flex_flow": null,
            "grid_area": null,
            "grid_auto_columns": null,
            "grid_auto_flow": null,
            "grid_auto_rows": null,
            "grid_column": null,
            "grid_gap": null,
            "grid_row": null,
            "grid_template_areas": null,
            "grid_template_columns": null,
            "grid_template_rows": null,
            "height": null,
            "justify_content": null,
            "justify_items": null,
            "left": null,
            "margin": null,
            "max_height": null,
            "max_width": null,
            "min_height": null,
            "min_width": null,
            "object_fit": null,
            "object_position": null,
            "order": null,
            "overflow": null,
            "overflow_x": null,
            "overflow_y": null,
            "padding": null,
            "right": null,
            "top": null,
            "visibility": null,
            "width": null
          }
        },
        "a945dc2072ee4c42859055d202307ea6": {
          "model_module": "@jupyter-widgets/base",
          "model_name": "LayoutModel",
          "model_module_version": "1.2.0",
          "state": {
            "_model_module": "@jupyter-widgets/base",
            "_model_module_version": "1.2.0",
            "_model_name": "LayoutModel",
            "_view_count": null,
            "_view_module": "@jupyter-widgets/base",
            "_view_module_version": "1.2.0",
            "_view_name": "LayoutView",
            "align_content": null,
            "align_items": null,
            "align_self": null,
            "border": null,
            "bottom": null,
            "display": null,
            "flex": null,
            "flex_flow": null,
            "grid_area": null,
            "grid_auto_columns": null,
            "grid_auto_flow": null,
            "grid_auto_rows": null,
            "grid_column": null,
            "grid_gap": null,
            "grid_row": null,
            "grid_template_areas": null,
            "grid_template_columns": null,
            "grid_template_rows": null,
            "height": null,
            "justify_content": null,
            "justify_items": null,
            "left": null,
            "margin": null,
            "max_height": null,
            "max_width": null,
            "min_height": null,
            "min_width": null,
            "object_fit": null,
            "object_position": null,
            "order": null,
            "overflow": null,
            "overflow_x": null,
            "overflow_y": null,
            "padding": null,
            "right": null,
            "top": null,
            "visibility": null,
            "width": null
          }
        },
        "5e34f3c93b134f43a140445e86a86681": {
          "model_module": "@jupyter-widgets/controls",
          "model_name": "DescriptionStyleModel",
          "model_module_version": "1.5.0",
          "state": {
            "_model_module": "@jupyter-widgets/controls",
            "_model_module_version": "1.5.0",
            "_model_name": "DescriptionStyleModel",
            "_view_count": null,
            "_view_module": "@jupyter-widgets/base",
            "_view_module_version": "1.2.0",
            "_view_name": "StyleView",
            "description_width": ""
          }
        },
        "2b7512e0bfc34077aad11a2bd0074e6e": {
          "model_module": "@jupyter-widgets/base",
          "model_name": "LayoutModel",
          "model_module_version": "1.2.0",
          "state": {
            "_model_module": "@jupyter-widgets/base",
            "_model_module_version": "1.2.0",
            "_model_name": "LayoutModel",
            "_view_count": null,
            "_view_module": "@jupyter-widgets/base",
            "_view_module_version": "1.2.0",
            "_view_name": "LayoutView",
            "align_content": null,
            "align_items": null,
            "align_self": null,
            "border": null,
            "bottom": null,
            "display": null,
            "flex": null,
            "flex_flow": null,
            "grid_area": null,
            "grid_auto_columns": null,
            "grid_auto_flow": null,
            "grid_auto_rows": null,
            "grid_column": null,
            "grid_gap": null,
            "grid_row": null,
            "grid_template_areas": null,
            "grid_template_columns": null,
            "grid_template_rows": null,
            "height": null,
            "justify_content": null,
            "justify_items": null,
            "left": null,
            "margin": null,
            "max_height": null,
            "max_width": null,
            "min_height": null,
            "min_width": null,
            "object_fit": null,
            "object_position": null,
            "order": null,
            "overflow": null,
            "overflow_x": null,
            "overflow_y": null,
            "padding": null,
            "right": null,
            "top": null,
            "visibility": null,
            "width": null
          }
        },
        "e5ae4b2b5b65451d9a08be76c08f36be": {
          "model_module": "@jupyter-widgets/controls",
          "model_name": "ProgressStyleModel",
          "model_module_version": "1.5.0",
          "state": {
            "_model_module": "@jupyter-widgets/controls",
            "_model_module_version": "1.5.0",
            "_model_name": "ProgressStyleModel",
            "_view_count": null,
            "_view_module": "@jupyter-widgets/base",
            "_view_module_version": "1.2.0",
            "_view_name": "StyleView",
            "bar_color": null,
            "description_width": ""
          }
        },
        "7cdf9591e5a042619cc97b4b5ccf9144": {
          "model_module": "@jupyter-widgets/base",
          "model_name": "LayoutModel",
          "model_module_version": "1.2.0",
          "state": {
            "_model_module": "@jupyter-widgets/base",
            "_model_module_version": "1.2.0",
            "_model_name": "LayoutModel",
            "_view_count": null,
            "_view_module": "@jupyter-widgets/base",
            "_view_module_version": "1.2.0",
            "_view_name": "LayoutView",
            "align_content": null,
            "align_items": null,
            "align_self": null,
            "border": null,
            "bottom": null,
            "display": null,
            "flex": null,
            "flex_flow": null,
            "grid_area": null,
            "grid_auto_columns": null,
            "grid_auto_flow": null,
            "grid_auto_rows": null,
            "grid_column": null,
            "grid_gap": null,
            "grid_row": null,
            "grid_template_areas": null,
            "grid_template_columns": null,
            "grid_template_rows": null,
            "height": null,
            "justify_content": null,
            "justify_items": null,
            "left": null,
            "margin": null,
            "max_height": null,
            "max_width": null,
            "min_height": null,
            "min_width": null,
            "object_fit": null,
            "object_position": null,
            "order": null,
            "overflow": null,
            "overflow_x": null,
            "overflow_y": null,
            "padding": null,
            "right": null,
            "top": null,
            "visibility": null,
            "width": null
          }
        },
        "40fccf00a3804f2da40fde5c893eb434": {
          "model_module": "@jupyter-widgets/controls",
          "model_name": "DescriptionStyleModel",
          "model_module_version": "1.5.0",
          "state": {
            "_model_module": "@jupyter-widgets/controls",
            "_model_module_version": "1.5.0",
            "_model_name": "DescriptionStyleModel",
            "_view_count": null,
            "_view_module": "@jupyter-widgets/base",
            "_view_module_version": "1.2.0",
            "_view_name": "StyleView",
            "description_width": ""
          }
        },
        "1e564f84884946838c2f27784e875cb2": {
          "model_module": "@jupyter-widgets/controls",
          "model_name": "HBoxModel",
          "model_module_version": "1.5.0",
          "state": {
            "_dom_classes": [],
            "_model_module": "@jupyter-widgets/controls",
            "_model_module_version": "1.5.0",
            "_model_name": "HBoxModel",
            "_view_count": null,
            "_view_module": "@jupyter-widgets/controls",
            "_view_module_version": "1.5.0",
            "_view_name": "HBoxView",
            "box_style": "",
            "children": [
              "IPY_MODEL_982042ac542f416f869f7288f5ecde2c",
              "IPY_MODEL_3b2ab22279754c74b4fac0e6d9be1c92",
              "IPY_MODEL_30c98a1c981a4a578a118bf56f430837"
            ],
            "layout": "IPY_MODEL_1f93657d3d324df9a1af39216bc8f46a"
          }
        },
        "982042ac542f416f869f7288f5ecde2c": {
          "model_module": "@jupyter-widgets/controls",
          "model_name": "HTMLModel",
          "model_module_version": "1.5.0",
          "state": {
            "_dom_classes": [],
            "_model_module": "@jupyter-widgets/controls",
            "_model_module_version": "1.5.0",
            "_model_name": "HTMLModel",
            "_view_count": null,
            "_view_module": "@jupyter-widgets/controls",
            "_view_module_version": "1.5.0",
            "_view_name": "HTMLView",
            "description": "",
            "description_tooltip": null,
            "layout": "IPY_MODEL_e64ac59d2b194452a792ac1e62c501e8",
            "placeholder": "​",
            "style": "IPY_MODEL_bc280aca239143da937f791c369d1af7",
            "value": "100%"
          }
        },
        "3b2ab22279754c74b4fac0e6d9be1c92": {
          "model_module": "@jupyter-widgets/controls",
          "model_name": "FloatProgressModel",
          "model_module_version": "1.5.0",
          "state": {
            "_dom_classes": [],
            "_model_module": "@jupyter-widgets/controls",
            "_model_module_version": "1.5.0",
            "_model_name": "FloatProgressModel",
            "_view_count": null,
            "_view_module": "@jupyter-widgets/controls",
            "_view_module_version": "1.5.0",
            "_view_name": "ProgressView",
            "bar_style": "success",
            "description": "",
            "description_tooltip": null,
            "layout": "IPY_MODEL_1d8b88afff6e4b06bd26d358ad30591e",
            "max": 4422102,
            "min": 0,
            "orientation": "horizontal",
            "style": "IPY_MODEL_d8a2b8cd4b124514b74a15cb7cc3371e",
            "value": 4422102
          }
        },
        "30c98a1c981a4a578a118bf56f430837": {
          "model_module": "@jupyter-widgets/controls",
          "model_name": "HTMLModel",
          "model_module_version": "1.5.0",
          "state": {
            "_dom_classes": [],
            "_model_module": "@jupyter-widgets/controls",
            "_model_module_version": "1.5.0",
            "_model_name": "HTMLModel",
            "_view_count": null,
            "_view_module": "@jupyter-widgets/controls",
            "_view_module_version": "1.5.0",
            "_view_name": "HTMLView",
            "description": "",
            "description_tooltip": null,
            "layout": "IPY_MODEL_fb6977cb995f47a9ae68e27407f44fb5",
            "placeholder": "​",
            "style": "IPY_MODEL_bea3557436bc4f9e9e02de66cf4151a4",
            "value": " 4422102/4422102 [00:01&lt;00:00, 5354775.93it/s]"
          }
        },
        "1f93657d3d324df9a1af39216bc8f46a": {
          "model_module": "@jupyter-widgets/base",
          "model_name": "LayoutModel",
          "model_module_version": "1.2.0",
          "state": {
            "_model_module": "@jupyter-widgets/base",
            "_model_module_version": "1.2.0",
            "_model_name": "LayoutModel",
            "_view_count": null,
            "_view_module": "@jupyter-widgets/base",
            "_view_module_version": "1.2.0",
            "_view_name": "LayoutView",
            "align_content": null,
            "align_items": null,
            "align_self": null,
            "border": null,
            "bottom": null,
            "display": null,
            "flex": null,
            "flex_flow": null,
            "grid_area": null,
            "grid_auto_columns": null,
            "grid_auto_flow": null,
            "grid_auto_rows": null,
            "grid_column": null,
            "grid_gap": null,
            "grid_row": null,
            "grid_template_areas": null,
            "grid_template_columns": null,
            "grid_template_rows": null,
            "height": null,
            "justify_content": null,
            "justify_items": null,
            "left": null,
            "margin": null,
            "max_height": null,
            "max_width": null,
            "min_height": null,
            "min_width": null,
            "object_fit": null,
            "object_position": null,
            "order": null,
            "overflow": null,
            "overflow_x": null,
            "overflow_y": null,
            "padding": null,
            "right": null,
            "top": null,
            "visibility": null,
            "width": null
          }
        },
        "e64ac59d2b194452a792ac1e62c501e8": {
          "model_module": "@jupyter-widgets/base",
          "model_name": "LayoutModel",
          "model_module_version": "1.2.0",
          "state": {
            "_model_module": "@jupyter-widgets/base",
            "_model_module_version": "1.2.0",
            "_model_name": "LayoutModel",
            "_view_count": null,
            "_view_module": "@jupyter-widgets/base",
            "_view_module_version": "1.2.0",
            "_view_name": "LayoutView",
            "align_content": null,
            "align_items": null,
            "align_self": null,
            "border": null,
            "bottom": null,
            "display": null,
            "flex": null,
            "flex_flow": null,
            "grid_area": null,
            "grid_auto_columns": null,
            "grid_auto_flow": null,
            "grid_auto_rows": null,
            "grid_column": null,
            "grid_gap": null,
            "grid_row": null,
            "grid_template_areas": null,
            "grid_template_columns": null,
            "grid_template_rows": null,
            "height": null,
            "justify_content": null,
            "justify_items": null,
            "left": null,
            "margin": null,
            "max_height": null,
            "max_width": null,
            "min_height": null,
            "min_width": null,
            "object_fit": null,
            "object_position": null,
            "order": null,
            "overflow": null,
            "overflow_x": null,
            "overflow_y": null,
            "padding": null,
            "right": null,
            "top": null,
            "visibility": null,
            "width": null
          }
        },
        "bc280aca239143da937f791c369d1af7": {
          "model_module": "@jupyter-widgets/controls",
          "model_name": "DescriptionStyleModel",
          "model_module_version": "1.5.0",
          "state": {
            "_model_module": "@jupyter-widgets/controls",
            "_model_module_version": "1.5.0",
            "_model_name": "DescriptionStyleModel",
            "_view_count": null,
            "_view_module": "@jupyter-widgets/base",
            "_view_module_version": "1.2.0",
            "_view_name": "StyleView",
            "description_width": ""
          }
        },
        "1d8b88afff6e4b06bd26d358ad30591e": {
          "model_module": "@jupyter-widgets/base",
          "model_name": "LayoutModel",
          "model_module_version": "1.2.0",
          "state": {
            "_model_module": "@jupyter-widgets/base",
            "_model_module_version": "1.2.0",
            "_model_name": "LayoutModel",
            "_view_count": null,
            "_view_module": "@jupyter-widgets/base",
            "_view_module_version": "1.2.0",
            "_view_name": "LayoutView",
            "align_content": null,
            "align_items": null,
            "align_self": null,
            "border": null,
            "bottom": null,
            "display": null,
            "flex": null,
            "flex_flow": null,
            "grid_area": null,
            "grid_auto_columns": null,
            "grid_auto_flow": null,
            "grid_auto_rows": null,
            "grid_column": null,
            "grid_gap": null,
            "grid_row": null,
            "grid_template_areas": null,
            "grid_template_columns": null,
            "grid_template_rows": null,
            "height": null,
            "justify_content": null,
            "justify_items": null,
            "left": null,
            "margin": null,
            "max_height": null,
            "max_width": null,
            "min_height": null,
            "min_width": null,
            "object_fit": null,
            "object_position": null,
            "order": null,
            "overflow": null,
            "overflow_x": null,
            "overflow_y": null,
            "padding": null,
            "right": null,
            "top": null,
            "visibility": null,
            "width": null
          }
        },
        "d8a2b8cd4b124514b74a15cb7cc3371e": {
          "model_module": "@jupyter-widgets/controls",
          "model_name": "ProgressStyleModel",
          "model_module_version": "1.5.0",
          "state": {
            "_model_module": "@jupyter-widgets/controls",
            "_model_module_version": "1.5.0",
            "_model_name": "ProgressStyleModel",
            "_view_count": null,
            "_view_module": "@jupyter-widgets/base",
            "_view_module_version": "1.2.0",
            "_view_name": "StyleView",
            "bar_color": null,
            "description_width": ""
          }
        },
        "fb6977cb995f47a9ae68e27407f44fb5": {
          "model_module": "@jupyter-widgets/base",
          "model_name": "LayoutModel",
          "model_module_version": "1.2.0",
          "state": {
            "_model_module": "@jupyter-widgets/base",
            "_model_module_version": "1.2.0",
            "_model_name": "LayoutModel",
            "_view_count": null,
            "_view_module": "@jupyter-widgets/base",
            "_view_module_version": "1.2.0",
            "_view_name": "LayoutView",
            "align_content": null,
            "align_items": null,
            "align_self": null,
            "border": null,
            "bottom": null,
            "display": null,
            "flex": null,
            "flex_flow": null,
            "grid_area": null,
            "grid_auto_columns": null,
            "grid_auto_flow": null,
            "grid_auto_rows": null,
            "grid_column": null,
            "grid_gap": null,
            "grid_row": null,
            "grid_template_areas": null,
            "grid_template_columns": null,
            "grid_template_rows": null,
            "height": null,
            "justify_content": null,
            "justify_items": null,
            "left": null,
            "margin": null,
            "max_height": null,
            "max_width": null,
            "min_height": null,
            "min_width": null,
            "object_fit": null,
            "object_position": null,
            "order": null,
            "overflow": null,
            "overflow_x": null,
            "overflow_y": null,
            "padding": null,
            "right": null,
            "top": null,
            "visibility": null,
            "width": null
          }
        },
        "bea3557436bc4f9e9e02de66cf4151a4": {
          "model_module": "@jupyter-widgets/controls",
          "model_name": "DescriptionStyleModel",
          "model_module_version": "1.5.0",
          "state": {
            "_model_module": "@jupyter-widgets/controls",
            "_model_module_version": "1.5.0",
            "_model_name": "DescriptionStyleModel",
            "_view_count": null,
            "_view_module": "@jupyter-widgets/base",
            "_view_module_version": "1.2.0",
            "_view_name": "StyleView",
            "description_width": ""
          }
        },
        "374a6640a4c34cf299c63ed44f5146de": {
          "model_module": "@jupyter-widgets/controls",
          "model_name": "HBoxModel",
          "model_module_version": "1.5.0",
          "state": {
            "_dom_classes": [],
            "_model_module": "@jupyter-widgets/controls",
            "_model_module_version": "1.5.0",
            "_model_name": "HBoxModel",
            "_view_count": null,
            "_view_module": "@jupyter-widgets/controls",
            "_view_module_version": "1.5.0",
            "_view_name": "HBoxView",
            "box_style": "",
            "children": [
              "IPY_MODEL_dc19d5d930c04de6aaf21b559292afad",
              "IPY_MODEL_c300d17a4c664508b51a7a54efda8a26",
              "IPY_MODEL_41b047e40ec945ef94a950e040dca483"
            ],
            "layout": "IPY_MODEL_0feb3a5a109741efb3be41b6e309b0ad"
          }
        },
        "dc19d5d930c04de6aaf21b559292afad": {
          "model_module": "@jupyter-widgets/controls",
          "model_name": "HTMLModel",
          "model_module_version": "1.5.0",
          "state": {
            "_dom_classes": [],
            "_model_module": "@jupyter-widgets/controls",
            "_model_module_version": "1.5.0",
            "_model_name": "HTMLModel",
            "_view_count": null,
            "_view_module": "@jupyter-widgets/controls",
            "_view_module_version": "1.5.0",
            "_view_name": "HTMLView",
            "description": "",
            "description_tooltip": null,
            "layout": "IPY_MODEL_f54cd0181e054b6abbae85c036697253",
            "placeholder": "​",
            "style": "IPY_MODEL_b56dffda0c394849b215764bd0171534",
            "value": "100%"
          }
        },
        "c300d17a4c664508b51a7a54efda8a26": {
          "model_module": "@jupyter-widgets/controls",
          "model_name": "FloatProgressModel",
          "model_module_version": "1.5.0",
          "state": {
            "_dom_classes": [],
            "_model_module": "@jupyter-widgets/controls",
            "_model_module_version": "1.5.0",
            "_model_name": "FloatProgressModel",
            "_view_count": null,
            "_view_module": "@jupyter-widgets/controls",
            "_view_module_version": "1.5.0",
            "_view_name": "ProgressView",
            "bar_style": "success",
            "description": "",
            "description_tooltip": null,
            "layout": "IPY_MODEL_75a6c98d94c74d5182b20400039dd4da",
            "max": 5148,
            "min": 0,
            "orientation": "horizontal",
            "style": "IPY_MODEL_079b37549ade4cbd820ea8a855f8122f",
            "value": 5148
          }
        },
        "41b047e40ec945ef94a950e040dca483": {
          "model_module": "@jupyter-widgets/controls",
          "model_name": "HTMLModel",
          "model_module_version": "1.5.0",
          "state": {
            "_dom_classes": [],
            "_model_module": "@jupyter-widgets/controls",
            "_model_module_version": "1.5.0",
            "_model_name": "HTMLModel",
            "_view_count": null,
            "_view_module": "@jupyter-widgets/controls",
            "_view_module_version": "1.5.0",
            "_view_name": "HTMLView",
            "description": "",
            "description_tooltip": null,
            "layout": "IPY_MODEL_b10869bc6d514179b1e4079f7bbb7f5d",
            "placeholder": "​",
            "style": "IPY_MODEL_c5f2711173384d0989eb336405617c72",
            "value": " 5148/5148 [00:00&lt;00:00, 158270.98it/s]"
          }
        },
        "0feb3a5a109741efb3be41b6e309b0ad": {
          "model_module": "@jupyter-widgets/base",
          "model_name": "LayoutModel",
          "model_module_version": "1.2.0",
          "state": {
            "_model_module": "@jupyter-widgets/base",
            "_model_module_version": "1.2.0",
            "_model_name": "LayoutModel",
            "_view_count": null,
            "_view_module": "@jupyter-widgets/base",
            "_view_module_version": "1.2.0",
            "_view_name": "LayoutView",
            "align_content": null,
            "align_items": null,
            "align_self": null,
            "border": null,
            "bottom": null,
            "display": null,
            "flex": null,
            "flex_flow": null,
            "grid_area": null,
            "grid_auto_columns": null,
            "grid_auto_flow": null,
            "grid_auto_rows": null,
            "grid_column": null,
            "grid_gap": null,
            "grid_row": null,
            "grid_template_areas": null,
            "grid_template_columns": null,
            "grid_template_rows": null,
            "height": null,
            "justify_content": null,
            "justify_items": null,
            "left": null,
            "margin": null,
            "max_height": null,
            "max_width": null,
            "min_height": null,
            "min_width": null,
            "object_fit": null,
            "object_position": null,
            "order": null,
            "overflow": null,
            "overflow_x": null,
            "overflow_y": null,
            "padding": null,
            "right": null,
            "top": null,
            "visibility": null,
            "width": null
          }
        },
        "f54cd0181e054b6abbae85c036697253": {
          "model_module": "@jupyter-widgets/base",
          "model_name": "LayoutModel",
          "model_module_version": "1.2.0",
          "state": {
            "_model_module": "@jupyter-widgets/base",
            "_model_module_version": "1.2.0",
            "_model_name": "LayoutModel",
            "_view_count": null,
            "_view_module": "@jupyter-widgets/base",
            "_view_module_version": "1.2.0",
            "_view_name": "LayoutView",
            "align_content": null,
            "align_items": null,
            "align_self": null,
            "border": null,
            "bottom": null,
            "display": null,
            "flex": null,
            "flex_flow": null,
            "grid_area": null,
            "grid_auto_columns": null,
            "grid_auto_flow": null,
            "grid_auto_rows": null,
            "grid_column": null,
            "grid_gap": null,
            "grid_row": null,
            "grid_template_areas": null,
            "grid_template_columns": null,
            "grid_template_rows": null,
            "height": null,
            "justify_content": null,
            "justify_items": null,
            "left": null,
            "margin": null,
            "max_height": null,
            "max_width": null,
            "min_height": null,
            "min_width": null,
            "object_fit": null,
            "object_position": null,
            "order": null,
            "overflow": null,
            "overflow_x": null,
            "overflow_y": null,
            "padding": null,
            "right": null,
            "top": null,
            "visibility": null,
            "width": null
          }
        },
        "b56dffda0c394849b215764bd0171534": {
          "model_module": "@jupyter-widgets/controls",
          "model_name": "DescriptionStyleModel",
          "model_module_version": "1.5.0",
          "state": {
            "_model_module": "@jupyter-widgets/controls",
            "_model_module_version": "1.5.0",
            "_model_name": "DescriptionStyleModel",
            "_view_count": null,
            "_view_module": "@jupyter-widgets/base",
            "_view_module_version": "1.2.0",
            "_view_name": "StyleView",
            "description_width": ""
          }
        },
        "75a6c98d94c74d5182b20400039dd4da": {
          "model_module": "@jupyter-widgets/base",
          "model_name": "LayoutModel",
          "model_module_version": "1.2.0",
          "state": {
            "_model_module": "@jupyter-widgets/base",
            "_model_module_version": "1.2.0",
            "_model_name": "LayoutModel",
            "_view_count": null,
            "_view_module": "@jupyter-widgets/base",
            "_view_module_version": "1.2.0",
            "_view_name": "LayoutView",
            "align_content": null,
            "align_items": null,
            "align_self": null,
            "border": null,
            "bottom": null,
            "display": null,
            "flex": null,
            "flex_flow": null,
            "grid_area": null,
            "grid_auto_columns": null,
            "grid_auto_flow": null,
            "grid_auto_rows": null,
            "grid_column": null,
            "grid_gap": null,
            "grid_row": null,
            "grid_template_areas": null,
            "grid_template_columns": null,
            "grid_template_rows": null,
            "height": null,
            "justify_content": null,
            "justify_items": null,
            "left": null,
            "margin": null,
            "max_height": null,
            "max_width": null,
            "min_height": null,
            "min_width": null,
            "object_fit": null,
            "object_position": null,
            "order": null,
            "overflow": null,
            "overflow_x": null,
            "overflow_y": null,
            "padding": null,
            "right": null,
            "top": null,
            "visibility": null,
            "width": null
          }
        },
        "079b37549ade4cbd820ea8a855f8122f": {
          "model_module": "@jupyter-widgets/controls",
          "model_name": "ProgressStyleModel",
          "model_module_version": "1.5.0",
          "state": {
            "_model_module": "@jupyter-widgets/controls",
            "_model_module_version": "1.5.0",
            "_model_name": "ProgressStyleModel",
            "_view_count": null,
            "_view_module": "@jupyter-widgets/base",
            "_view_module_version": "1.2.0",
            "_view_name": "StyleView",
            "bar_color": null,
            "description_width": ""
          }
        },
        "b10869bc6d514179b1e4079f7bbb7f5d": {
          "model_module": "@jupyter-widgets/base",
          "model_name": "LayoutModel",
          "model_module_version": "1.2.0",
          "state": {
            "_model_module": "@jupyter-widgets/base",
            "_model_module_version": "1.2.0",
            "_model_name": "LayoutModel",
            "_view_count": null,
            "_view_module": "@jupyter-widgets/base",
            "_view_module_version": "1.2.0",
            "_view_name": "LayoutView",
            "align_content": null,
            "align_items": null,
            "align_self": null,
            "border": null,
            "bottom": null,
            "display": null,
            "flex": null,
            "flex_flow": null,
            "grid_area": null,
            "grid_auto_columns": null,
            "grid_auto_flow": null,
            "grid_auto_rows": null,
            "grid_column": null,
            "grid_gap": null,
            "grid_row": null,
            "grid_template_areas": null,
            "grid_template_columns": null,
            "grid_template_rows": null,
            "height": null,
            "justify_content": null,
            "justify_items": null,
            "left": null,
            "margin": null,
            "max_height": null,
            "max_width": null,
            "min_height": null,
            "min_width": null,
            "object_fit": null,
            "object_position": null,
            "order": null,
            "overflow": null,
            "overflow_x": null,
            "overflow_y": null,
            "padding": null,
            "right": null,
            "top": null,
            "visibility": null,
            "width": null
          }
        },
        "c5f2711173384d0989eb336405617c72": {
          "model_module": "@jupyter-widgets/controls",
          "model_name": "DescriptionStyleModel",
          "model_module_version": "1.5.0",
          "state": {
            "_model_module": "@jupyter-widgets/controls",
            "_model_module_version": "1.5.0",
            "_model_name": "DescriptionStyleModel",
            "_view_count": null,
            "_view_module": "@jupyter-widgets/base",
            "_view_module_version": "1.2.0",
            "_view_name": "StyleView",
            "description_width": ""
          }
        }
      }
    }
  },
  "cells": [
    {
      "cell_type": "markdown",
      "source": [
        "# 초기 세팅"
      ],
      "metadata": {
        "id": "cdNvme8aKSBP"
      }
    },
    {
      "cell_type": "code",
      "metadata": {
        "id": "P1v9luAfHXdz"
      },
      "source": [
        "import torch\n",
        "import torch.nn as nn\n",
        "import torch.nn.functional as F\n",
        "import torch.optim as optim\n",
        "from torch.utils.data import Dataset, DataLoader\n",
        "\n",
        "import torchvision\n",
        "import torchvision.datasets as datasets\n",
        "import torchvision.transforms as transforms\n",
        "\n",
        "import numpy as np\n",
        "import matplotlib.pyplot as plt\n",
        "plt.style.use('seaborn-white')"
      ],
      "execution_count": 4,
      "outputs": []
    },
    {
      "cell_type": "code",
      "source": [
        "!pip install torchsummary\n",
        "from torchsummary import summary"
      ],
      "metadata": {
        "colab": {
          "base_uri": "https://localhost:8080/"
        },
        "id": "D39aCPyTu2Ce",
        "outputId": "ed48fbb8-8f23-49ad-f524-4144a25740c4"
      },
      "execution_count": 5,
      "outputs": [
        {
          "output_type": "stream",
          "name": "stdout",
          "text": [
            "Looking in indexes: https://pypi.org/simple, https://us-python.pkg.dev/colab-wheels/public/simple/\n",
            "Requirement already satisfied: torchsummary in /usr/local/lib/python3.8/dist-packages (1.5.1)\n"
          ]
        }
      ]
    },
    {
      "cell_type": "markdown",
      "metadata": {
        "id": "02LdHlTTSz5L"
      },
      "source": [
        "- 현재 GPU 설정"
      ]
    },
    {
      "cell_type": "code",
      "metadata": {
        "id": "Ybsjn80uSx3X",
        "colab": {
          "base_uri": "https://localhost:8080/"
        },
        "outputId": "9ccafb8d-fa49-4003-f5cf-f3835bc119b1"
      },
      "source": [
        "# colab의 runtime-type을 GPU로 설정해서, True가 나오도록 한다.\n",
        "\n",
        "torch.cuda.is_available()"
      ],
      "execution_count": 6,
      "outputs": [
        {
          "output_type": "execute_result",
          "data": {
            "text/plain": [
              "True"
            ]
          },
          "metadata": {},
          "execution_count": 6
        }
      ]
    },
    {
      "cell_type": "code",
      "metadata": {
        "id": "HlPZI5wfDQhv",
        "colab": {
          "base_uri": "https://localhost:8080/"
        },
        "outputId": "157d3ae0-94e9-4a5a-960b-3dc1cd5b9620"
      },
      "source": [
        "use_cuda = torch.cuda.is_available()\n",
        "device = torch.device(\"cuda\" if use_cuda else \"cpu\")\n",
        "device"
      ],
      "execution_count": 7,
      "outputs": [
        {
          "output_type": "execute_result",
          "data": {
            "text/plain": [
              "device(type='cuda')"
            ]
          },
          "metadata": {},
          "execution_count": 7
        }
      ]
    },
    {
      "cell_type": "markdown",
      "source": [
        "# FashionMNIST 분류 모델 만들기\n",
        "* 흑/백(1) 이미지 데이터 분류\n",
        "* 28x28 pixel"
      ],
      "metadata": {
        "id": "OHckdZ55KeH2"
      }
    },
    {
      "cell_type": "markdown",
      "source": [
        "## 데이터 로드"
      ],
      "metadata": {
        "id": "mCrBa-gRRMEO"
      }
    },
    {
      "cell_type": "code",
      "source": [
        "# 데이터 전처리\n",
        "\n",
        "MNIST_transform = transforms.Compose([transforms.ToTensor(), # tensor로 펴준다.\n",
        "                                      transforms.Normalize((0.5,),(0.5,))]) # 정규화를 해준다."
      ],
      "metadata": {
        "id": "vYP9dGrWzDqd"
      },
      "execution_count": 8,
      "outputs": []
    },
    {
      "cell_type": "code",
      "source": [
        "trainset = datasets.FashionMNIST(root='/content',\n",
        "                                 train=True, download=True,\n",
        "                                 transform=MNIST_transform)\n",
        "\n",
        "testset = datasets.FashionMNIST(root='/content',\n",
        "                                 train=False, download=True,\n",
        "                                 transform=MNIST_transform)"
      ],
      "metadata": {
        "id": "VpVsTevTWE5i",
        "colab": {
          "base_uri": "https://localhost:8080/",
          "height": 0,
          "referenced_widgets": [
            "8c584a5edc604033a3ad6db94285c352",
            "501a07b58e1042e3961240d8252840f8",
            "ebef46af68a749719314526b05381a90",
            "a1398e27cce0454a837881657a125ce4",
            "02aa2ee7e19c431e9e6f64f8b83605c7",
            "2c30ba6c02ec4e36b6600f9be0d99758",
            "22e58aa2db3549c78974b337c47bc8b6",
            "a019b2b2796d4f82837de39609cd648f",
            "3204c417cc1d4ada9913fff0c7d103ac",
            "9e35d06a13e64d0ab3d316a335bb38a7",
            "e026de7df8994c95a7e777edd428b94c",
            "f40dd904b60a46c1a3a792bbb2d0f56f",
            "8687f82b0db34e908d3b8d8d264d26e2",
            "30a0785839f1447d9e7fa22213d52d04",
            "3e67c594e7f24410bff4ad6fa27a678f",
            "1e4eb16a37f840f59961dd54bc1eacd3",
            "a945dc2072ee4c42859055d202307ea6",
            "5e34f3c93b134f43a140445e86a86681",
            "2b7512e0bfc34077aad11a2bd0074e6e",
            "e5ae4b2b5b65451d9a08be76c08f36be",
            "7cdf9591e5a042619cc97b4b5ccf9144",
            "40fccf00a3804f2da40fde5c893eb434",
            "1e564f84884946838c2f27784e875cb2",
            "982042ac542f416f869f7288f5ecde2c",
            "3b2ab22279754c74b4fac0e6d9be1c92",
            "30c98a1c981a4a578a118bf56f430837",
            "1f93657d3d324df9a1af39216bc8f46a",
            "e64ac59d2b194452a792ac1e62c501e8",
            "bc280aca239143da937f791c369d1af7",
            "1d8b88afff6e4b06bd26d358ad30591e",
            "d8a2b8cd4b124514b74a15cb7cc3371e",
            "fb6977cb995f47a9ae68e27407f44fb5",
            "bea3557436bc4f9e9e02de66cf4151a4",
            "374a6640a4c34cf299c63ed44f5146de",
            "dc19d5d930c04de6aaf21b559292afad",
            "c300d17a4c664508b51a7a54efda8a26",
            "41b047e40ec945ef94a950e040dca483",
            "0feb3a5a109741efb3be41b6e309b0ad",
            "f54cd0181e054b6abbae85c036697253",
            "b56dffda0c394849b215764bd0171534",
            "75a6c98d94c74d5182b20400039dd4da",
            "079b37549ade4cbd820ea8a855f8122f",
            "b10869bc6d514179b1e4079f7bbb7f5d",
            "c5f2711173384d0989eb336405617c72"
          ]
        },
        "outputId": "4d6b0a21-72b7-4412-acae-5c3104f0806a"
      },
      "execution_count": 9,
      "outputs": [
        {
          "output_type": "stream",
          "name": "stdout",
          "text": [
            "Downloading http://fashion-mnist.s3-website.eu-central-1.amazonaws.com/train-images-idx3-ubyte.gz\n",
            "Downloading http://fashion-mnist.s3-website.eu-central-1.amazonaws.com/train-images-idx3-ubyte.gz to /content/FashionMNIST/raw/train-images-idx3-ubyte.gz\n"
          ]
        },
        {
          "output_type": "display_data",
          "data": {
            "text/plain": [
              "  0%|          | 0/26421880 [00:00<?, ?it/s]"
            ],
            "application/vnd.jupyter.widget-view+json": {
              "version_major": 2,
              "version_minor": 0,
              "model_id": "8c584a5edc604033a3ad6db94285c352"
            }
          },
          "metadata": {}
        },
        {
          "output_type": "stream",
          "name": "stdout",
          "text": [
            "Extracting /content/FashionMNIST/raw/train-images-idx3-ubyte.gz to /content/FashionMNIST/raw\n",
            "\n",
            "Downloading http://fashion-mnist.s3-website.eu-central-1.amazonaws.com/train-labels-idx1-ubyte.gz\n",
            "Downloading http://fashion-mnist.s3-website.eu-central-1.amazonaws.com/train-labels-idx1-ubyte.gz to /content/FashionMNIST/raw/train-labels-idx1-ubyte.gz\n"
          ]
        },
        {
          "output_type": "display_data",
          "data": {
            "text/plain": [
              "  0%|          | 0/29515 [00:00<?, ?it/s]"
            ],
            "application/vnd.jupyter.widget-view+json": {
              "version_major": 2,
              "version_minor": 0,
              "model_id": "f40dd904b60a46c1a3a792bbb2d0f56f"
            }
          },
          "metadata": {}
        },
        {
          "output_type": "stream",
          "name": "stdout",
          "text": [
            "Extracting /content/FashionMNIST/raw/train-labels-idx1-ubyte.gz to /content/FashionMNIST/raw\n",
            "\n",
            "Downloading http://fashion-mnist.s3-website.eu-central-1.amazonaws.com/t10k-images-idx3-ubyte.gz\n",
            "Downloading http://fashion-mnist.s3-website.eu-central-1.amazonaws.com/t10k-images-idx3-ubyte.gz to /content/FashionMNIST/raw/t10k-images-idx3-ubyte.gz\n"
          ]
        },
        {
          "output_type": "display_data",
          "data": {
            "text/plain": [
              "  0%|          | 0/4422102 [00:00<?, ?it/s]"
            ],
            "application/vnd.jupyter.widget-view+json": {
              "version_major": 2,
              "version_minor": 0,
              "model_id": "1e564f84884946838c2f27784e875cb2"
            }
          },
          "metadata": {}
        },
        {
          "output_type": "stream",
          "name": "stdout",
          "text": [
            "Extracting /content/FashionMNIST/raw/t10k-images-idx3-ubyte.gz to /content/FashionMNIST/raw\n",
            "\n",
            "Downloading http://fashion-mnist.s3-website.eu-central-1.amazonaws.com/t10k-labels-idx1-ubyte.gz\n",
            "Downloading http://fashion-mnist.s3-website.eu-central-1.amazonaws.com/t10k-labels-idx1-ubyte.gz to /content/FashionMNIST/raw/t10k-labels-idx1-ubyte.gz\n"
          ]
        },
        {
          "output_type": "display_data",
          "data": {
            "text/plain": [
              "  0%|          | 0/5148 [00:00<?, ?it/s]"
            ],
            "application/vnd.jupyter.widget-view+json": {
              "version_major": 2,
              "version_minor": 0,
              "model_id": "374a6640a4c34cf299c63ed44f5146de"
            }
          },
          "metadata": {}
        },
        {
          "output_type": "stream",
          "name": "stdout",
          "text": [
            "Extracting /content/FashionMNIST/raw/t10k-labels-idx1-ubyte.gz to /content/FashionMNIST/raw\n",
            "\n"
          ]
        }
      ]
    },
    {
      "cell_type": "markdown",
      "source": [
        "input-data size 확인"
      ],
      "metadata": {
        "id": "qh7uI7ewsipv"
      }
    },
    {
      "cell_type": "code",
      "source": [
        "# batch-size=128\n",
        "train_loader128 =  DataLoader(trainset, batch_size=128, shuffle=True, num_workers=2)\n",
        "test_loader128 =  DataLoader(testset, batch_size=128, shuffle=False, num_workers=2)\n",
        "\n",
        "# batch-size=64\n",
        "train_loader64 =  DataLoader(trainset, batch_size=64, shuffle=True, num_workers=2)\n",
        "test_loader64 =  DataLoader(testset, batch_size=64, shuffle=False, num_workers=2)"
      ],
      "metadata": {
        "id": "Dz-CJf0x0nne"
      },
      "execution_count": 10,
      "outputs": []
    },
    {
      "cell_type": "code",
      "source": [
        "# 128 : batch-size\n",
        "# 1 : 흑백\n",
        "# 28x28 : pixel-size\n",
        "\n",
        "images128, labels128 = next(iter(train_loader128))\n",
        "images128.shape, labels128.shape"
      ],
      "metadata": {
        "id": "iy6D1Rg_07fD",
        "colab": {
          "base_uri": "https://localhost:8080/"
        },
        "outputId": "ce604393-1db1-48f4-c060-654d572f7859"
      },
      "execution_count": 11,
      "outputs": [
        {
          "output_type": "execute_result",
          "data": {
            "text/plain": [
              "(torch.Size([128, 1, 28, 28]), torch.Size([128]))"
            ]
          },
          "metadata": {},
          "execution_count": 11
        }
      ]
    },
    {
      "cell_type": "code",
      "source": [
        "# 64 : batch-size\n",
        "# 1 : 흑백\n",
        "# 28x28 : pixel-size\n",
        "\n",
        "images64, labels64 = next(iter(train_loader64))\n",
        "images64.shape, labels64.shape"
      ],
      "metadata": {
        "colab": {
          "base_uri": "https://localhost:8080/"
        },
        "id": "AotS6123m9sK",
        "outputId": "ea330a3d-eb89-4eb5-8572-14e8034a1329"
      },
      "execution_count": 12,
      "outputs": [
        {
          "output_type": "execute_result",
          "data": {
            "text/plain": [
              "(torch.Size([64, 1, 28, 28]), torch.Size([64]))"
            ]
          },
          "metadata": {},
          "execution_count": 12
        }
      ]
    },
    {
      "cell_type": "code",
      "source": [
        "# 숫자 label에 해당되는 값\n",
        "\n",
        "labels_map = {\n",
        "    0: 'T-Shirt',\n",
        "    1: 'Trouser',\n",
        "    2: 'Pullover',\n",
        "    3: 'Dress',\n",
        "    4: 'Coat',\n",
        "    5: 'Sandal',\n",
        "    6: 'Shirt',\n",
        "    7: 'Sneaker',\n",
        "    8: 'Bag',\n",
        "    9: 'Ankle Boot'\n",
        "}"
      ],
      "metadata": {
        "id": "g4Nd4uLGTEDy"
      },
      "execution_count": 13,
      "outputs": []
    },
    {
      "cell_type": "code",
      "source": [
        "# 데이터 확인\n",
        "\n",
        "figure = plt.figure(figsize=(12,12))\n",
        "cols, rows = 4, 1\n",
        "\n",
        "for i in range(1, cols * rows + 1):\n",
        "    image = images128[i].squeeze()\n",
        "    label_idx = labels128[i].item() # y_label\n",
        "    label = labels_map[label_idx] # 위에서 해당되는 label\n",
        "\n",
        "    figure.add_subplot(rows, cols, i)\n",
        "    plt.title(label)\n",
        "    plt.axis('off')\n",
        "    plt.imshow(image, cmap='gray')\n",
        "\n",
        "plt.show()"
      ],
      "metadata": {
        "id": "_u5_UEAH09SB",
        "colab": {
          "base_uri": "https://localhost:8080/",
          "height": 0
        },
        "outputId": "e9b9f9cd-496c-46fd-d234-a1570508e66b"
      },
      "execution_count": 14,
      "outputs": [
        {
          "output_type": "display_data",
          "data": {
            "text/plain": [
              "<Figure size 864x864 with 4 Axes>"
            ],
            "image/png": "[encoded data removed]"
          },
          "metadata": {}
        }
      ]
    },
    {
      "cell_type": "markdown",
      "source": [
        "## 모델 1 생성\n",
        "* 10개의 convolution-layer(Conv2d)와 2개의 fully-connected(fc)로 이루어진 모델\n",
        "* Total params: 28,784"
      ],
      "metadata": {
        "id": "EFPYE3UUnpmX"
      }
    },
    {
      "cell_type": "markdown",
      "source": [
        "input-data size\n",
        "* train_loader128(batch-size;128) : 128, 1, 28, 28\n",
        "* train_loader64(batch-size;64) : 64, 1, 28, 28\n",
        "\n",
        "\n",
        "구현해야하는 모델 정보<br>\n",
        "* convolution-layer 1\n",
        "* maxpooling-layer\n",
        "* convolution-layer 2\n",
        "* convolution-layer 3\n",
        "* convolution-layer 4\n",
        "* convolution-layer 5\n",
        "* convolution-layer 6\n",
        "* convolution-layer 7\n",
        "* convolution-layer 8\n",
        "* convolution-layer 9\n",
        "* maxpooling-layer\n",
        "* convolution-layer 10\n",
        "* flatten\n",
        "* fc1\n",
        "* fc2\n",
        "\n",
        "추가 정보\n",
        "* 활성화함수 : relu\n",
        "(단, maxpooling과 마지막 fc2에는 보통적으로 활성화함수를 사용하지 않는다.)\n",
        "* flatten의 경우, weights가 들어가지 않는다. 즉, layer라고는 볼 수 없다.\n",
        "\n",
        "모델의 layer를 통과함에 따라 데이터의 크기 변화는 다음과 같다.\n",
        "1. batch-size128 -> torch.Size([128, 1, 28, 28]) 으로 시작\n",
        "2. batch-size;64 -> torch.Size([64, 1, 28, 28]) 으로 시작\n",
        "> * torch.Size([128 or 64, 5, 30, 30])\n",
        "> * torch.Size([128 or 64, 5, 15, 15])\n",
        "> * torch.Size([128 or 64, 7, 15, 15])\n",
        "> * torch.Size([128 or 64, 16, 16, 16])\n",
        "> * torch.Size([128 or 64, 19, 15, 15])\n",
        "> * torch.Size([128 or 64, 29, 13, 13])\n",
        "> * torch.Size([128 or 64, 29, 14, 14])\n",
        "> * torch.Size([128 or 64, 6, 12, 12])\n",
        "> * torch.Size([128 or 64, 2, 12, 12])\n",
        "> * torch.Size([128 or 64, 10, 7, 7])\n",
        "> * torch.Size([128 or 64, 20, 7, 7])\n",
        "> * torch.Size([128 or 64, 20, 3, 3])\n",
        "> * torch.Size([128 or 64, 180])\n",
        "> * torch.Size([128 or 64, 86])\n",
        "> * torch.Size([128 or 64, 10]) "
      ],
      "metadata": {
        "id": "orF-z9choFaB"
      }
    },
    {
      "cell_type": "code",
      "source": [
        "class CNN_Model1(nn.Module):\n",
        "\n",
        "    def __init__(self):\n",
        "        super(CNN_Model1, self).__init__()\n",
        "\n",
        "        self.conv1 = nn.Conv2d(in_channels=1, out_channels=5, kernel_size=3, stride=1, padding=2)\n",
        "        # in-channels = 1 <- 흑/백\n",
        "        # out-channels = 5\n",
        "        # kernel_size / filter-size = 2x2 -> f=3\n",
        "        # stride = 1(default) -> s=1\n",
        "        # padding = 2(default) -> p=2\n",
        "        # input-data pixel size = 28x28 -> n=28\n",
        "        # (n-f+2p)/s + 1 = new n\n",
        "        # (28-3+2x2)/1 + 1 = 30\n",
        "    \n",
        "        # maxpool : n=30 -> 15\n",
        "\n",
        "\n",
        "        self.conv2 = nn.Conv2d(5, 7, 3, stride = 1, padding=1)\n",
        "        # in-channels = 5 <- 이전것의 out-channels\n",
        "        # out-channels = 7\n",
        "        # filter-size = 3x3\n",
        "        # stride = 1(default)\n",
        "        # padding = 1\n",
        "        # (n-f+2p)/s + 1 = new n    \n",
        "        # (15-3+2x1)/1 + 1 = 15\n",
        "\n",
        "        self.conv3 = nn.Conv2d(in_channels = 7, out_channels = 16, kernel_size = 2, stride = 1, padding = 1)\n",
        "        self.conv4 = nn.Conv2d(in_channels = 16, out_channels = 19, kernel_size = 2, stride = 1, padding = 0)\n",
        "        self.conv5 = nn.Conv2d(in_channels = 19, out_channels = 29, kernel_size = 3, stride = 1, padding = 0)\n",
        "        self.conv6 = nn.Conv2d(in_channels = 29, out_channels = 29, kernel_size = 2, stride = 1, padding = 1)\n",
        "        self.conv7 = nn.Conv2d(in_channels = 29, out_channels = 6, kernel_size = 3, stride = 1, padding = 0)\n",
        "        self.conv8 = nn.Conv2d(in_channels = 6, out_channels = 2, kernel_size = 1, stride = 1, padding = 0)\n",
        "        self.conv9 = nn.Conv2d(in_channels = 2, out_channels = 10, kernel_size = 2, stride = 2, padding = 1)\n",
        "        self.conv10 = nn.Conv2d(in_channels = 10, out_channels = 20, kernel_size = 1, stride = 1, padding = 0)\n",
        "\n",
        "        self.fc1 = nn.Linear(20*3*3, 86)\n",
        "        self.fc2 = nn.Linear(86, 10)\n",
        "\n",
        "    def forward(self, x):\n",
        "        x = F.relu(x)\n",
        "        x = self.conv1(x)\n",
        "        x = F.relu(x)\n",
        "        x = F.max_pool2d(x, 2)\n",
        "        x = F.relu(x)\n",
        "        x = self.conv2(x) \n",
        "        x = F.relu(x)    \n",
        "        x = self.conv3(x)\n",
        "        x = F.relu(x)\n",
        "        x = self.conv4(x)\n",
        "        x = F.relu(x)\n",
        "        x = self.conv5(x)\n",
        "        x = F.relu(x)\n",
        "        x = self.conv6(x)\n",
        "        x = F.relu(x)\n",
        "        x = self.conv7(x)\n",
        "        x = F.relu(x)\n",
        "        x = self.conv8(x)\n",
        "        x = F.relu(x)\n",
        "        x = self.conv9(x)\n",
        "        x = F.relu(x)\n",
        "        x = F.max_pool2d(x, 2)\n",
        "        x = F.relu(x)\n",
        "        x = self.conv10(x)\n",
        "        x = F.relu(x)\n",
        "\n",
        "        x = x.view(-1, self.num_flat_features(x)) # num_flat_features : 아래에서 정의\n",
        "        x = F.relu(x)\n",
        "        x = self.fc1(x)\n",
        "        x = F.relu(x)\n",
        "        x = self.fc2(x)\n",
        "\n",
        "        return x\n",
        "    \n",
        "    def num_flat_features(self, x): # 처음 dim-size을 제외하고, 모두 곱한 값을 반환해준다.\n",
        "        size = x.size()[1:]\n",
        "        num_features = 1\n",
        "        for s in size:\n",
        "            num_features *= s\n",
        "        \n",
        "        return num_features"
      ],
      "metadata": {
        "id": "EedVZU7Knv0X"
      },
      "execution_count": 15,
      "outputs": []
    },
    {
      "cell_type": "code",
      "source": [
        "# 모델객체 생성\n",
        "DeepConv_net128 = CNN_Model1().to(device)\n",
        "DeepConv_net64 = CNN_Model1().to(device)\n",
        "\n",
        "print(DeepConv_net128)"
      ],
      "metadata": {
        "colab": {
          "base_uri": "https://localhost:8080/"
        },
        "id": "QEtijZWqPjw3",
        "outputId": "4532dc96-51cb-4b54-afdb-53482ff4215b"
      },
      "execution_count": 16,
      "outputs": [
        {
          "output_type": "stream",
          "name": "stdout",
          "text": [
            "CNN_Model1(\n",
            "  (conv1): Conv2d(1, 5, kernel_size=(3, 3), stride=(1, 1), padding=(2, 2))\n",
            "  (conv2): Conv2d(5, 7, kernel_size=(3, 3), stride=(1, 1), padding=(1, 1))\n",
            "  (conv3): Conv2d(7, 16, kernel_size=(2, 2), stride=(1, 1), padding=(1, 1))\n",
            "  (conv4): Conv2d(16, 19, kernel_size=(2, 2), stride=(1, 1))\n",
            "  (conv5): Conv2d(19, 29, kernel_size=(3, 3), stride=(1, 1))\n",
            "  (conv6): Conv2d(29, 29, kernel_size=(2, 2), stride=(1, 1), padding=(1, 1))\n",
            "  (conv7): Conv2d(29, 6, kernel_size=(3, 3), stride=(1, 1))\n",
            "  (conv8): Conv2d(6, 2, kernel_size=(1, 1), stride=(1, 1))\n",
            "  (conv9): Conv2d(2, 10, kernel_size=(2, 2), stride=(2, 2), padding=(1, 1))\n",
            "  (conv10): Conv2d(10, 20, kernel_size=(1, 1), stride=(1, 1))\n",
            "  (fc1): Linear(in_features=180, out_features=86, bias=True)\n",
            "  (fc2): Linear(in_features=86, out_features=10, bias=True)\n",
            ")\n"
          ]
        }
      ]
    },
    {
      "cell_type": "code",
      "source": [
        "input = images128.to(device)\n",
        "input.size()"
      ],
      "metadata": {
        "colab": {
          "base_uri": "https://localhost:8080/"
        },
        "id": "8gBjDmoc7fJh",
        "outputId": "3e7a4b3c-d799-425a-f526-9d2371f4e8d2"
      },
      "execution_count": 17,
      "outputs": [
        {
          "output_type": "execute_result",
          "data": {
            "text/plain": [
              "torch.Size([128, 1, 28, 28])"
            ]
          },
          "metadata": {},
          "execution_count": 17
        }
      ]
    },
    {
      "cell_type": "code",
      "source": [
        "output = DeepConv_net128.forward(input)\n",
        "output.size()"
      ],
      "metadata": {
        "colab": {
          "base_uri": "https://localhost:8080/"
        },
        "id": "tflPlTme7h9x",
        "outputId": "1cc524f1-630f-4844-b357-2e4e0ba48cff"
      },
      "execution_count": 18,
      "outputs": [
        {
          "output_type": "execute_result",
          "data": {
            "text/plain": [
              "torch.Size([128, 10])"
            ]
          },
          "metadata": {},
          "execution_count": 18
        }
      ]
    },
    {
      "cell_type": "code",
      "source": [
        "summary(DeepConv_net128, input_size=(1, 28, 28), batch_size=128)"
      ],
      "metadata": {
        "colab": {
          "base_uri": "https://localhost:8080/"
        },
        "id": "9hGi9kyTP2ej",
        "outputId": "6cdabdc9-7cfd-4494-d87e-225e86ec9154"
      },
      "execution_count": 19,
      "outputs": [
        {
          "output_type": "stream",
          "name": "stdout",
          "text": [
            "----------------------------------------------------------------\n",
            "        Layer (type)               Output Shape         Param #\n",
            "================================================================\n",
            "            Conv2d-1           [128, 5, 30, 30]              50\n",
            "            Conv2d-2           [128, 7, 15, 15]             322\n",
            "            Conv2d-3          [128, 16, 16, 16]             464\n",
            "            Conv2d-4          [128, 19, 15, 15]           1,235\n",
            "            Conv2d-5          [128, 29, 13, 13]           4,988\n",
            "            Conv2d-6          [128, 29, 14, 14]           3,393\n",
            "            Conv2d-7           [128, 6, 12, 12]           1,572\n",
            "            Conv2d-8           [128, 2, 12, 12]              14\n",
            "            Conv2d-9            [128, 10, 7, 7]              90\n",
            "           Conv2d-10            [128, 20, 3, 3]             220\n",
            "           Linear-11                  [128, 86]          15,566\n",
            "           Linear-12                  [128, 10]             870\n",
            "================================================================\n",
            "Total params: 28,784\n",
            "Trainable params: 28,784\n",
            "Non-trainable params: 0\n",
            "----------------------------------------------------------------\n",
            "Input size (MB): 0.38\n",
            "Forward/backward pass size (MB): 26.32\n",
            "Params size (MB): 0.11\n",
            "Estimated Total Size (MB): 26.81\n",
            "----------------------------------------------------------------\n"
          ]
        }
      ]
    },
    {
      "cell_type": "code",
      "source": [
        "input = images64.to(device)\n",
        "input.size()"
      ],
      "metadata": {
        "colab": {
          "base_uri": "https://localhost:8080/"
        },
        "outputId": "5aa439f4-27c3-4c50-c06d-45a5c3dcb097",
        "id": "jcybKk5Nvj4Z"
      },
      "execution_count": 20,
      "outputs": [
        {
          "output_type": "execute_result",
          "data": {
            "text/plain": [
              "torch.Size([64, 1, 28, 28])"
            ]
          },
          "metadata": {},
          "execution_count": 20
        }
      ]
    },
    {
      "cell_type": "code",
      "source": [
        "output = DeepConv_net64.forward(input)\n",
        "output.size()"
      ],
      "metadata": {
        "colab": {
          "base_uri": "https://localhost:8080/"
        },
        "outputId": "0b15ac20-d9d5-40de-fc2a-499440f5547f",
        "id": "y2PZCHyyvj4a"
      },
      "execution_count": 21,
      "outputs": [
        {
          "output_type": "execute_result",
          "data": {
            "text/plain": [
              "torch.Size([64, 10])"
            ]
          },
          "metadata": {},
          "execution_count": 21
        }
      ]
    },
    {
      "cell_type": "code",
      "source": [
        "summary(DeepConv_net64, input_size=(1, 28, 28), batch_size=64)"
      ],
      "metadata": {
        "colab": {
          "base_uri": "https://localhost:8080/"
        },
        "id": "uh1pmRXcvZP8",
        "outputId": "3a97ee64-f339-4f2e-aa07-32cfdd3d414c"
      },
      "execution_count": 22,
      "outputs": [
        {
          "output_type": "stream",
          "name": "stdout",
          "text": [
            "----------------------------------------------------------------\n",
            "        Layer (type)               Output Shape         Param #\n",
            "================================================================\n",
            "            Conv2d-1            [64, 5, 30, 30]              50\n",
            "            Conv2d-2            [64, 7, 15, 15]             322\n",
            "            Conv2d-3           [64, 16, 16, 16]             464\n",
            "            Conv2d-4           [64, 19, 15, 15]           1,235\n",
            "            Conv2d-5           [64, 29, 13, 13]           4,988\n",
            "            Conv2d-6           [64, 29, 14, 14]           3,393\n",
            "            Conv2d-7            [64, 6, 12, 12]           1,572\n",
            "            Conv2d-8            [64, 2, 12, 12]              14\n",
            "            Conv2d-9             [64, 10, 7, 7]              90\n",
            "           Conv2d-10             [64, 20, 3, 3]             220\n",
            "           Linear-11                   [64, 86]          15,566\n",
            "           Linear-12                   [64, 10]             870\n",
            "================================================================\n",
            "Total params: 28,784\n",
            "Trainable params: 28,784\n",
            "Non-trainable params: 0\n",
            "----------------------------------------------------------------\n",
            "Input size (MB): 0.19\n",
            "Forward/backward pass size (MB): 13.16\n",
            "Params size (MB): 0.11\n",
            "Estimated Total Size (MB): 13.46\n",
            "----------------------------------------------------------------\n"
          ]
        }
      ]
    },
    {
      "cell_type": "markdown",
      "source": [
        "## 모델 2 생성\n",
        "* 2개의 convolution-layer(Conv2d)와 5개의 fully-connected(fc)로 이루어진 모델\n",
        "* Total params: 9,516,488"
      ],
      "metadata": {
        "id": "xVxKI_rwCvhI"
      }
    },
    {
      "cell_type": "markdown",
      "source": [
        "input-data size\n",
        "* train_loader128(batch-size;128) : 128, 1, 28, 28\n",
        "* train_loader64(batch-size;64) : 64, 1, 28, 28\n",
        "\n",
        "\n",
        "구현해야하는 모델 정보<br>\n",
        "* convolution-layer 1\n",
        "* maxpooling-layer\n",
        "* convolution-layer 2\n",
        "* flatten\n",
        "* fc1\n",
        "* fc2\n",
        "* fc3\n",
        "* fc4\n",
        "* fc5\n",
        "\n",
        "추가 정보\n",
        "* 활성화함수 : relu\n",
        "(단, maxpooling과 마지막 fc5에는 보통적으로 활성화함수를 사용하지 않는다.)\n",
        "* flatten의 경우, weights가 들어가지 않는다. 즉, layer라고는 볼 수 없다.\n",
        "\n",
        "모델의 layer를 통과함에 따라 데이터의 크기 변화는 다음과 같다.\n",
        "\n",
        "1. batch-size128 -> torch.Size([128, 1, 28, 28]) 으로 시작\n",
        "2. batch-size;64 -> torch.Size([64, 1, 28, 28]) 으로 시작\n",
        "> * torch.Size([128 or 64, 5, 30, 30])\n",
        "> * torch.Size([128 or 64, 5, 15, 15])\n",
        "> * torch.Size([128 or 64, 7, 15, 15])\n",
        "> * torch.Size([128 or 64, 1575])\n",
        "> * torch.Size([128 or 64, 3000])\n",
        "> * torch.Size([128 or 64, 1500])\n",
        "> * torch.Size([128 or 64, 180])\n",
        "> * torch.Size([128 or 64, 86])\n",
        "> * torch.Size([128 or 64, 10])"
      ],
      "metadata": {
        "id": "uN5s0Re-CvhI"
      }
    },
    {
      "cell_type": "code",
      "source": [
        "class CNN_Model2(nn.Module):\n",
        "    def __init__(self):\n",
        "        super(CNN_Model2, self).__init__()\n",
        "\n",
        "        self.conv1 = nn.Conv2d(in_channels=1, out_channels=5, kernel_size=3, stride=1, padding=2)\n",
        "        self.conv2 = nn.Conv2d(in_channels=5, out_channels=7, kernel_size=3, stride=1, padding=1)\n",
        "        \n",
        "        self.fc1 = nn.Linear(1575, 3000)\n",
        "        self.fc2 = nn.Linear(3000, 1500)\n",
        "        self.fc3 = nn.Linear(1500, 180)\n",
        "        self.fc4 = nn.Linear(180, 86)\n",
        "        self.fc5 = nn.Linear(86, 10)\n",
        "\n",
        "    def forward(self, x):\n",
        "        \n",
        "        x = F.relu(x)\n",
        "        x = self.conv1(x)\n",
        "        x = F.relu(x)\n",
        "        x = F.max_pool2d(x, 2)\n",
        "        x = self.conv2(x)\n",
        "        x = F.relu(x)\n",
        "\n",
        "        x = x.view(-1, self.num_flat_features(x))\n",
        "        x = self.fc1(x) \n",
        "        x = F.relu(x)\n",
        "        x = self.fc2(x) \n",
        "        x = F.relu(x)\n",
        "        x = self.fc3(x) \n",
        "        x = F.relu(x)\n",
        "        x = self.fc4(x)\n",
        "        x = F.relu(x)\n",
        "        x = self.fc5(x)\n",
        "\n",
        "\n",
        "        return x\n",
        "    \n",
        "    def num_flat_features(self, x): # 처음 dim-size을 제외하고, 모두 곱한 값을 반환해준다.\n",
        "        size = x.size()[1:]\n",
        "        num_features = 1\n",
        "        for s in size:\n",
        "            num_features *= s\n",
        "        \n",
        "        return num_features"
      ],
      "metadata": {
        "id": "JfSM-k0DCvhI"
      },
      "execution_count": 29,
      "outputs": []
    },
    {
      "cell_type": "code",
      "source": [
        "# 모델객체 생성\n",
        "DeepFC_net128 = CNN_Model2().to(device)\n",
        "DeepFC_net64 = CNN_Model2().to(device)\n",
        "\n",
        "print(DeepFC_net128)"
      ],
      "metadata": {
        "colab": {
          "base_uri": "https://localhost:8080/"
        },
        "id": "2nWbNdeSRV0q",
        "outputId": "3a509fa5-d3ea-49ea-d021-20c80a5c3e48"
      },
      "execution_count": 30,
      "outputs": [
        {
          "output_type": "stream",
          "name": "stdout",
          "text": [
            "CNN_Model2(\n",
            "  (conv1): Conv2d(1, 5, kernel_size=(3, 3), stride=(1, 1), padding=(2, 2))\n",
            "  (conv2): Conv2d(5, 7, kernel_size=(3, 3), stride=(1, 1), padding=(1, 1))\n",
            "  (fc1): Linear(in_features=1575, out_features=3000, bias=True)\n",
            "  (fc2): Linear(in_features=3000, out_features=1500, bias=True)\n",
            "  (fc3): Linear(in_features=1500, out_features=180, bias=True)\n",
            "  (fc4): Linear(in_features=180, out_features=86, bias=True)\n",
            "  (fc5): Linear(in_features=86, out_features=10, bias=True)\n",
            ")\n"
          ]
        }
      ]
    },
    {
      "cell_type": "code",
      "source": [
        "input = images128.to(device)\n",
        "input.size()"
      ],
      "metadata": {
        "colab": {
          "base_uri": "https://localhost:8080/"
        },
        "outputId": "81f5a138-08fe-446c-a488-393d2a2055a7",
        "id": "S9IVOG3pwgoS"
      },
      "execution_count": 31,
      "outputs": [
        {
          "output_type": "execute_result",
          "data": {
            "text/plain": [
              "torch.Size([128, 1, 28, 28])"
            ]
          },
          "metadata": {},
          "execution_count": 31
        }
      ]
    },
    {
      "cell_type": "code",
      "source": [
        "output = DeepFC_net128.forward(input)\n",
        "output.size()"
      ],
      "metadata": {
        "colab": {
          "base_uri": "https://localhost:8080/"
        },
        "outputId": "36dff7db-5bd2-4993-9603-28342684f720",
        "id": "p4ydm5qCwgoT"
      },
      "execution_count": 32,
      "outputs": [
        {
          "output_type": "execute_result",
          "data": {
            "text/plain": [
              "torch.Size([128, 10])"
            ]
          },
          "metadata": {},
          "execution_count": 32
        }
      ]
    },
    {
      "cell_type": "code",
      "source": [
        "summary(DeepFC_net128, input_size=(1, 28, 28), batch_size=128)"
      ],
      "metadata": {
        "colab": {
          "base_uri": "https://localhost:8080/"
        },
        "id": "HgDI7cyDRtDy",
        "outputId": "8998ff91-d024-4df3-a881-60cd2580d4be"
      },
      "execution_count": 33,
      "outputs": [
        {
          "output_type": "stream",
          "name": "stdout",
          "text": [
            "----------------------------------------------------------------\n",
            "        Layer (type)               Output Shape         Param #\n",
            "================================================================\n",
            "            Conv2d-1           [128, 5, 30, 30]              50\n",
            "            Conv2d-2           [128, 7, 15, 15]             322\n",
            "            Linear-3                [128, 3000]       4,728,000\n",
            "            Linear-4                [128, 1500]       4,501,500\n",
            "            Linear-5                 [128, 180]         270,180\n",
            "            Linear-6                  [128, 86]          15,566\n",
            "            Linear-7                  [128, 10]             870\n",
            "================================================================\n",
            "Total params: 9,516,488\n",
            "Trainable params: 9,516,488\n",
            "Non-trainable params: 0\n",
            "----------------------------------------------------------------\n",
            "Input size (MB): 0.38\n",
            "Forward/backward pass size (MB): 10.60\n",
            "Params size (MB): 36.30\n",
            "Estimated Total Size (MB): 47.28\n",
            "----------------------------------------------------------------\n"
          ]
        }
      ]
    },
    {
      "cell_type": "code",
      "source": [
        "input = images64.to(device)\n",
        "input.size()"
      ],
      "metadata": {
        "colab": {
          "base_uri": "https://localhost:8080/"
        },
        "outputId": "1903c54d-84dd-48a5-c1ac-43e829e38f00",
        "id": "d9t36x7bwgoT"
      },
      "execution_count": 34,
      "outputs": [
        {
          "output_type": "execute_result",
          "data": {
            "text/plain": [
              "torch.Size([64, 1, 28, 28])"
            ]
          },
          "metadata": {},
          "execution_count": 34
        }
      ]
    },
    {
      "cell_type": "code",
      "source": [
        "output = DeepFC_net64.forward(input)\n",
        "output.size()"
      ],
      "metadata": {
        "colab": {
          "base_uri": "https://localhost:8080/"
        },
        "outputId": "70b76c35-63da-4f8a-b423-78bf26757ca6",
        "id": "GFHweMakwgoT"
      },
      "execution_count": 35,
      "outputs": [
        {
          "output_type": "execute_result",
          "data": {
            "text/plain": [
              "torch.Size([64, 10])"
            ]
          },
          "metadata": {},
          "execution_count": 35
        }
      ]
    },
    {
      "cell_type": "code",
      "source": [
        "summary(DeepFC_net64, input_size=(1, 28, 28), batch_size=64)"
      ],
      "metadata": {
        "colab": {
          "base_uri": "https://localhost:8080/"
        },
        "outputId": "735d4c99-932d-4d8f-a063-21e218c88b3b",
        "id": "2VIZ4WCCwgoT"
      },
      "execution_count": 36,
      "outputs": [
        {
          "output_type": "stream",
          "name": "stdout",
          "text": [
            "----------------------------------------------------------------\n",
            "        Layer (type)               Output Shape         Param #\n",
            "================================================================\n",
            "            Conv2d-1            [64, 5, 30, 30]              50\n",
            "            Conv2d-2            [64, 7, 15, 15]             322\n",
            "            Linear-3                 [64, 3000]       4,728,000\n",
            "            Linear-4                 [64, 1500]       4,501,500\n",
            "            Linear-5                  [64, 180]         270,180\n",
            "            Linear-6                   [64, 86]          15,566\n",
            "            Linear-7                   [64, 10]             870\n",
            "================================================================\n",
            "Total params: 9,516,488\n",
            "Trainable params: 9,516,488\n",
            "Non-trainable params: 0\n",
            "----------------------------------------------------------------\n",
            "Input size (MB): 0.19\n",
            "Forward/backward pass size (MB): 5.30\n",
            "Params size (MB): 36.30\n",
            "Estimated Total Size (MB): 41.79\n",
            "----------------------------------------------------------------\n"
          ]
        }
      ]
    },
    {
      "cell_type": "markdown",
      "source": [
        "## 손실함수와 옵티마이저"
      ],
      "metadata": {
        "id": "klpXGc2tCimP"
      }
    },
    {
      "cell_type": "code",
      "source": [
        "criterion = nn.CrossEntropyLoss()\n",
        "\n",
        "optimizerDC_128 = optim.SGD(DeepConv_net128.parameters(), lr=0.001, momentum=0.9)\n",
        "optimizerDC_64 = optim.SGD(DeepConv_net64.parameters(), lr=0.001, momentum=0.9)\n",
        "optimizerFC_128 = optim.SGD(DeepFC_net128.parameters(), lr=0.001, momentum=0.9)\n",
        "optimizerFC_64 = optim.SGD(DeepFC_net64.parameters(), lr=0.001, momentum=0.9)"
      ],
      "metadata": {
        "id": "69AHX-ZXClOm"
      },
      "execution_count": 37,
      "outputs": []
    },
    {
      "cell_type": "markdown",
      "source": [
        "## 모델 학습"
      ],
      "metadata": {
        "id": "huNh3EnhJLyh"
      }
    },
    {
      "cell_type": "markdown",
      "source": [
        "### 1. DeepConv_net128\n",
        "* 10개의 Convolution-layer & 2개의 fc-layer\n",
        "* 128 batch-size"
      ],
      "metadata": {
        "id": "W-2Q7c6-JW9z"
      }
    },
    {
      "cell_type": "code",
      "source": [
        "for epoch in range(10):\n",
        "\n",
        "    running_loss = 0.0\n",
        "\n",
        "    for i, data in enumerate(train_loader128, start=0):\n",
        "        inputs, labels = data[0].to(device), data[1].to(device)\n",
        "\n",
        "        optimizerDC_128.zero_grad() # epoch마다 gradient 0으로 초기화\n",
        "\n",
        "        outputs = DeepConv_net128(inputs) # y_pred = f(X)\n",
        "        loss = criterion(outputs, labels) # CrossEntropyLoss; 0~1 사이값\n",
        "        loss.backward() # back-propagation; gradient 계산\n",
        "        optimizerDC_128.step() # parameters(weights) update\n",
        "\n",
        "        running_loss += loss.item() # 그냥 전체적인 비교를 위해 누적함\n",
        "\n",
        "        if i % 100 == 99: # 100번 마다 확인; epoch=10, iter(=i)=469, batch=128\n",
        "            print('Epoch: {}, Iter: {}, Loss: {}'.format(epoch+1, i+1, running_loss/2000))\n",
        "            running_loss = 0.0"
      ],
      "metadata": {
        "colab": {
          "base_uri": "https://localhost:8080/"
        },
        "id": "y-_UvdNWJR-r",
        "outputId": "0d68a300-0266-4d8c-cb54-ab22fa6b532b"
      },
      "execution_count": 38,
      "outputs": [
        {
          "output_type": "stream",
          "name": "stdout",
          "text": [
            "Epoch: 1, Iter: 100, Loss: 0.1152901269197464\n",
            "Epoch: 1, Iter: 200, Loss: 0.11520645678043366\n",
            "Epoch: 1, Iter: 300, Loss: 0.11519885730743408\n",
            "Epoch: 1, Iter: 400, Loss: 0.11517012405395508\n",
            "Epoch: 2, Iter: 100, Loss: 0.11515200889110565\n",
            "Epoch: 2, Iter: 200, Loss: 0.11516182315349578\n",
            "Epoch: 2, Iter: 300, Loss: 0.11514136064052581\n",
            "Epoch: 2, Iter: 400, Loss: 0.11514130246639252\n",
            "Epoch: 3, Iter: 100, Loss: 0.115139963388443\n",
            "Epoch: 3, Iter: 200, Loss: 0.11513485014438629\n",
            "Epoch: 3, Iter: 300, Loss: 0.11513289880752564\n",
            "Epoch: 3, Iter: 400, Loss: 0.11513737916946411\n",
            "Epoch: 4, Iter: 100, Loss: 0.11513044989109039\n",
            "Epoch: 4, Iter: 200, Loss: 0.11513115811347961\n",
            "Epoch: 4, Iter: 300, Loss: 0.11513430964946747\n",
            "Epoch: 4, Iter: 400, Loss: 0.11513397765159607\n",
            "Epoch: 5, Iter: 100, Loss: 0.1151291937828064\n",
            "Epoch: 5, Iter: 200, Loss: 0.11513365960121155\n",
            "Epoch: 5, Iter: 300, Loss: 0.1151299387216568\n",
            "Epoch: 5, Iter: 400, Loss: 0.11513256096839905\n",
            "Epoch: 6, Iter: 100, Loss: 0.11513076603412628\n",
            "Epoch: 6, Iter: 200, Loss: 0.11513072168827057\n",
            "Epoch: 6, Iter: 300, Loss: 0.115132110953331\n",
            "Epoch: 6, Iter: 400, Loss: 0.11513259363174438\n",
            "Epoch: 7, Iter: 100, Loss: 0.11513079047203063\n",
            "Epoch: 7, Iter: 200, Loss: 0.11513194441795349\n",
            "Epoch: 7, Iter: 300, Loss: 0.11513220381736755\n",
            "Epoch: 7, Iter: 400, Loss: 0.11513241732120513\n",
            "Epoch: 8, Iter: 100, Loss: 0.11512942516803741\n",
            "Epoch: 8, Iter: 200, Loss: 0.11513175773620606\n",
            "Epoch: 8, Iter: 300, Loss: 0.11513149261474609\n",
            "Epoch: 8, Iter: 400, Loss: 0.11513229942321777\n",
            "Epoch: 9, Iter: 100, Loss: 0.11512948989868164\n",
            "Epoch: 9, Iter: 200, Loss: 0.115132670044899\n",
            "Epoch: 9, Iter: 300, Loss: 0.1151313271522522\n",
            "Epoch: 9, Iter: 400, Loss: 0.11513297688961029\n",
            "Epoch: 10, Iter: 100, Loss: 0.11512949395179749\n",
            "Epoch: 10, Iter: 200, Loss: 0.11513251984119416\n",
            "Epoch: 10, Iter: 300, Loss: 0.11513235545158386\n",
            "Epoch: 10, Iter: 400, Loss: 0.11513156139850617\n"
          ]
        }
      ]
    },
    {
      "cell_type": "code",
      "source": [
        "for epoch in range(5):\n",
        "\n",
        "    running_loss = 0.0\n",
        "\n",
        "    for i, data in enumerate(train_loader128, start=0):\n",
        "        inputs, labels = data[0].to(device), data[1].to(device)\n",
        "\n",
        "        optimizerDC_128.zero_grad() # epoch마다 gradient 0으로 초기화\n",
        "\n",
        "        outputs = DeepConv_net128(inputs) # y_pred = f(X)\n",
        "        loss = criterion(outputs, labels) # CrossEntropyLoss; 0~1 사이값\n",
        "        loss.backward() # back-propagation; gradient 계산\n",
        "        optimizerDC_128.step() # parameters(weights) update\n",
        "\n",
        "        running_loss += loss.item() # 그냥 전체적인 비교를 위해 누적함\n",
        "\n",
        "        if i % 100 == 99: # 100번 마다 확인; epoch=10, iter(=i)=469, batch=128\n",
        "            print('Epoch: {}, Iter: {}, Loss: {}'.format(epoch+1, i+1, running_loss/2000))\n",
        "            running_loss = 0.0"
      ],
      "metadata": {
        "colab": {
          "base_uri": "https://localhost:8080/"
        },
        "id": "dNa8-7SC5u2a",
        "outputId": "3cd28e5f-99e1-4b92-90c3-e0f28e3953b6"
      },
      "execution_count": 39,
      "outputs": [
        {
          "output_type": "stream",
          "name": "stdout",
          "text": [
            "Epoch: 1, Iter: 100, Loss: 0.11513078641891479\n",
            "Epoch: 1, Iter: 200, Loss: 0.11512928652763367\n",
            "Epoch: 1, Iter: 300, Loss: 0.11513359105587005\n",
            "Epoch: 1, Iter: 400, Loss: 0.11513243675231934\n",
            "Epoch: 2, Iter: 100, Loss: 0.11513087320327758\n",
            "Epoch: 2, Iter: 200, Loss: 0.11513043737411499\n",
            "Epoch: 2, Iter: 300, Loss: 0.11513214206695557\n",
            "Epoch: 2, Iter: 400, Loss: 0.11513197553157807\n",
            "Epoch: 3, Iter: 100, Loss: 0.11513082885742187\n",
            "Epoch: 3, Iter: 200, Loss: 0.11513225424289704\n",
            "Epoch: 3, Iter: 300, Loss: 0.11513130044937134\n",
            "Epoch: 3, Iter: 400, Loss: 0.11513127863407135\n",
            "Epoch: 4, Iter: 100, Loss: 0.11512975347042084\n",
            "Epoch: 4, Iter: 200, Loss: 0.1151327965259552\n",
            "Epoch: 4, Iter: 300, Loss: 0.11512888586521149\n",
            "Epoch: 4, Iter: 400, Loss: 0.11513439428806305\n",
            "Epoch: 5, Iter: 100, Loss: 0.11513111662864685\n",
            "Epoch: 5, Iter: 200, Loss: 0.11512941634654998\n",
            "Epoch: 5, Iter: 300, Loss: 0.1151322170495987\n",
            "Epoch: 5, Iter: 400, Loss: 0.11513218379020691\n"
          ]
        }
      ]
    },
    {
      "cell_type": "markdown",
      "source": [
        "### 2. DeepConv_net64\n",
        "* 10개의 Convolution-layer & 2개의 fc-layer\n",
        "* 64 batch-size"
      ],
      "metadata": {
        "id": "FOUBE2UfKS6D"
      }
    },
    {
      "cell_type": "code",
      "source": [
        "for epoch in range(10):\n",
        "\n",
        "    running_loss = 0.0\n",
        "\n",
        "    for i, data in enumerate(train_loader64, start=0):\n",
        "        inputs, labels = data[0].to(device), data[1].to(device)\n",
        "\n",
        "        optimizerDC_64.zero_grad() # epoch마다 gradient 0으로 초기화\n",
        "\n",
        "        outputs = DeepConv_net64(inputs) # y_pred = f(X)\n",
        "        loss = criterion(outputs, labels) # CrossEntropyLoss; 0~1 사이값\n",
        "        loss.backward() # back-propagation; gradient 계산\n",
        "        optimizerDC_64.step() # parameters(weights) update\n",
        "\n",
        "        running_loss += loss.item() # 그냥 전체적인 비교를 위해 누적함\n",
        "\n",
        "        if i % 100 == 99: # 100번 마다 확인; epoch=10, iter(=i)=469, batch=64\n",
        "            print('Epoch: {}, Iter: {}, Loss: {}'.format(epoch+1, i+1, running_loss/2000))\n",
        "            running_loss = 0.0"
      ],
      "metadata": {
        "colab": {
          "base_uri": "https://localhost:8080/"
        },
        "id": "Q1znQlsWKS6D",
        "outputId": "8c171244-a726-475b-ac3d-59e10632c18d"
      },
      "execution_count": 40,
      "outputs": [
        {
          "output_type": "stream",
          "name": "stdout",
          "text": [
            "Epoch: 1, Iter: 100, Loss: 0.11518800914287568\n",
            "Epoch: 1, Iter: 200, Loss: 0.11522685909271241\n",
            "Epoch: 1, Iter: 300, Loss: 0.11517091739177704\n",
            "Epoch: 1, Iter: 400, Loss: 0.11516080617904663\n",
            "Epoch: 1, Iter: 500, Loss: 0.11512004828453064\n",
            "Epoch: 1, Iter: 600, Loss: 0.11514227640628814\n",
            "Epoch: 1, Iter: 700, Loss: 0.11515284764766694\n",
            "Epoch: 1, Iter: 800, Loss: 0.11514121580123901\n",
            "Epoch: 1, Iter: 900, Loss: 0.1151514185667038\n",
            "Epoch: 2, Iter: 100, Loss: 0.11512913799285888\n",
            "Epoch: 2, Iter: 200, Loss: 0.11514303195476532\n",
            "Epoch: 2, Iter: 300, Loss: 0.11513017880916596\n",
            "Epoch: 2, Iter: 400, Loss: 0.11513078570365906\n",
            "Epoch: 2, Iter: 500, Loss: 0.1151306974887848\n",
            "Epoch: 2, Iter: 600, Loss: 0.11514217078685761\n",
            "Epoch: 2, Iter: 700, Loss: 0.11513660490512848\n",
            "Epoch: 2, Iter: 800, Loss: 0.11513433527946472\n",
            "Epoch: 2, Iter: 900, Loss: 0.11513579571247101\n",
            "Epoch: 3, Iter: 100, Loss: 0.11512473487854004\n",
            "Epoch: 3, Iter: 200, Loss: 0.115140744805336\n",
            "Epoch: 3, Iter: 300, Loss: 0.11513228857517242\n",
            "Epoch: 3, Iter: 400, Loss: 0.11513143920898437\n",
            "Epoch: 3, Iter: 500, Loss: 0.11513585603237152\n",
            "Epoch: 3, Iter: 600, Loss: 0.11513689231872559\n",
            "Epoch: 3, Iter: 700, Loss: 0.11513565933704376\n",
            "Epoch: 3, Iter: 800, Loss: 0.11513555324077607\n",
            "Epoch: 3, Iter: 900, Loss: 0.11513588869571686\n",
            "Epoch: 4, Iter: 100, Loss: 0.11512666130065918\n",
            "Epoch: 4, Iter: 200, Loss: 0.11513000237941742\n",
            "Epoch: 4, Iter: 300, Loss: 0.11513467955589295\n",
            "Epoch: 4, Iter: 400, Loss: 0.11513956356048584\n",
            "Epoch: 4, Iter: 500, Loss: 0.115134681224823\n",
            "Epoch: 4, Iter: 600, Loss: 0.11513756477832794\n",
            "Epoch: 4, Iter: 700, Loss: 0.11513569247722626\n",
            "Epoch: 4, Iter: 800, Loss: 0.11513186764717102\n",
            "Epoch: 4, Iter: 900, Loss: 0.11513775193691253\n",
            "Epoch: 5, Iter: 100, Loss: 0.11513136672973633\n",
            "Epoch: 5, Iter: 200, Loss: 0.1151291788816452\n",
            "Epoch: 5, Iter: 300, Loss: 0.11513477158546448\n",
            "Epoch: 5, Iter: 400, Loss: 0.11513115477561951\n",
            "Epoch: 5, Iter: 500, Loss: 0.11513782918453216\n",
            "Epoch: 5, Iter: 600, Loss: 0.11513782572746277\n",
            "Epoch: 5, Iter: 700, Loss: 0.11513704311847686\n",
            "Epoch: 5, Iter: 800, Loss: 0.11513256919384003\n",
            "Epoch: 5, Iter: 900, Loss: 0.11513293802738189\n",
            "Epoch: 6, Iter: 100, Loss: 0.11513141429424285\n",
            "Epoch: 6, Iter: 200, Loss: 0.11513470888137817\n",
            "Epoch: 6, Iter: 300, Loss: 0.11512583446502686\n",
            "Epoch: 6, Iter: 400, Loss: 0.11513665759563446\n",
            "Epoch: 6, Iter: 500, Loss: 0.11513930869102477\n",
            "Epoch: 6, Iter: 600, Loss: 0.11512688910961151\n",
            "Epoch: 6, Iter: 700, Loss: 0.11513932645320893\n",
            "Epoch: 6, Iter: 800, Loss: 0.11513993656635284\n",
            "Epoch: 6, Iter: 900, Loss: 0.11513236951828003\n",
            "Epoch: 7, Iter: 100, Loss: 0.11513284146785736\n",
            "Epoch: 7, Iter: 200, Loss: 0.11513419282436371\n",
            "Epoch: 7, Iter: 300, Loss: 0.1151340411901474\n",
            "Epoch: 7, Iter: 400, Loss: 0.11512888431549072\n",
            "Epoch: 7, Iter: 500, Loss: 0.11513071191310882\n",
            "Epoch: 7, Iter: 600, Loss: 0.11513415825366974\n",
            "Epoch: 7, Iter: 700, Loss: 0.1151397511959076\n",
            "Epoch: 7, Iter: 800, Loss: 0.1151374888420105\n",
            "Epoch: 7, Iter: 900, Loss: 0.1151318440437317\n",
            "Epoch: 8, Iter: 100, Loss: 0.11513150680065155\n",
            "Epoch: 8, Iter: 200, Loss: 0.1151356464624405\n",
            "Epoch: 8, Iter: 300, Loss: 0.11512791526317596\n",
            "Epoch: 8, Iter: 400, Loss: 0.11513354063034058\n",
            "Epoch: 8, Iter: 500, Loss: 0.11513896107673645\n",
            "Epoch: 8, Iter: 600, Loss: 0.11513588273525238\n",
            "Epoch: 8, Iter: 700, Loss: 0.11513168919086457\n",
            "Epoch: 8, Iter: 800, Loss: 0.11513589477539063\n",
            "Epoch: 8, Iter: 900, Loss: 0.11513589680194855\n",
            "Epoch: 9, Iter: 100, Loss: 0.11513169431686401\n",
            "Epoch: 9, Iter: 200, Loss: 0.11513673222064971\n",
            "Epoch: 9, Iter: 300, Loss: 0.11513181829452515\n",
            "Epoch: 9, Iter: 400, Loss: 0.11512947201728821\n",
            "Epoch: 9, Iter: 500, Loss: 0.11514099717140197\n",
            "Epoch: 9, Iter: 600, Loss: 0.11512939143180848\n",
            "Epoch: 9, Iter: 700, Loss: 0.11513317227363587\n",
            "Epoch: 9, Iter: 800, Loss: 0.11513973391056061\n",
            "Epoch: 9, Iter: 900, Loss: 0.11513152682781219\n",
            "Epoch: 10, Iter: 100, Loss: 0.11512857043743134\n",
            "Epoch: 10, Iter: 200, Loss: 0.1151331478357315\n",
            "Epoch: 10, Iter: 300, Loss: 0.11513162231445312\n",
            "Epoch: 10, Iter: 400, Loss: 0.11513405227661133\n",
            "Epoch: 10, Iter: 500, Loss: 0.11513416302204132\n",
            "Epoch: 10, Iter: 600, Loss: 0.11513471174240113\n",
            "Epoch: 10, Iter: 700, Loss: 0.11514029145240784\n",
            "Epoch: 10, Iter: 800, Loss: 0.11513409101963043\n",
            "Epoch: 10, Iter: 900, Loss: 0.11513451051712036\n"
          ]
        }
      ]
    },
    {
      "cell_type": "markdown",
      "source": [
        "### 3. DeepFC_net128\n",
        "* 2개의 Convolution-layer & 5개의 fc-layer\n",
        "* 128 batch-size"
      ],
      "metadata": {
        "id": "LaVvtEOvKUgJ"
      }
    },
    {
      "cell_type": "code",
      "source": [
        "for epoch in range(10):\n",
        "\n",
        "    running_loss = 0.0\n",
        "\n",
        "    for i, data in enumerate(train_loader128, start=0):\n",
        "        inputs, labels = data[0].to(device), data[1].to(device)\n",
        "\n",
        "        optimizerFC_128.zero_grad() # epoch마다 gradient 0으로 초기화\n",
        "\n",
        "        outputs = DeepFC_net128(inputs) # y_pred = f(X)\n",
        "        loss = criterion(outputs, labels) # CrossEntropyLoss; 0~1 사이값\n",
        "        loss.backward() # back-propagation; gradient 계산\n",
        "        optimizerFC_128.step() # parameters(weights) update\n",
        "\n",
        "        running_loss += loss.item() # 그냥 전체적인 비교를 위해 누적함\n",
        "\n",
        "        if i % 100 == 99: # 100번 마다 확인; epoch=10, iter(=i)=469, batch=128\n",
        "            print('Epoch: {}, Iter: {}, Loss: {}'.format(epoch+1, i+1, running_loss/2000))\n",
        "            running_loss = 0.0"
      ],
      "metadata": {
        "colab": {
          "base_uri": "https://localhost:8080/"
        },
        "id": "Dwh9TK_1KUgK",
        "outputId": "693099d1-06eb-4933-9602-854c4f6d6e2e"
      },
      "execution_count": 41,
      "outputs": [
        {
          "output_type": "stream",
          "name": "stdout",
          "text": [
            "Epoch: 1, Iter: 100, Loss: 0.11516991996765137\n",
            "Epoch: 1, Iter: 200, Loss: 0.11512530958652496\n",
            "Epoch: 1, Iter: 300, Loss: 0.1151475887298584\n",
            "Epoch: 1, Iter: 400, Loss: 0.11511615240573883\n",
            "Epoch: 2, Iter: 100, Loss: 0.11510087263584137\n",
            "Epoch: 2, Iter: 200, Loss: 0.11507263779640198\n",
            "Epoch: 2, Iter: 300, Loss: 0.11504862439632416\n",
            "Epoch: 2, Iter: 400, Loss: 0.1150469446182251\n",
            "Epoch: 3, Iter: 100, Loss: 0.11498494172096252\n",
            "Epoch: 3, Iter: 200, Loss: 0.11494371616840363\n",
            "Epoch: 3, Iter: 300, Loss: 0.11490364634990692\n",
            "Epoch: 3, Iter: 400, Loss: 0.11482431900501251\n",
            "Epoch: 4, Iter: 100, Loss: 0.1146540846824646\n",
            "Epoch: 4, Iter: 200, Loss: 0.11448497247695923\n",
            "Epoch: 4, Iter: 300, Loss: 0.11421105635166168\n",
            "Epoch: 4, Iter: 400, Loss: 0.11371836996078491\n",
            "Epoch: 5, Iter: 100, Loss: 0.11093054330348968\n",
            "Epoch: 5, Iter: 200, Loss: 0.1030328164100647\n",
            "Epoch: 5, Iter: 300, Loss: 0.07980588173866272\n",
            "Epoch: 5, Iter: 400, Loss: 0.0626839024424553\n",
            "Epoch: 6, Iter: 100, Loss: 0.051956540405750276\n",
            "Epoch: 6, Iter: 200, Loss: 0.04890744718909264\n",
            "Epoch: 6, Iter: 300, Loss: 0.046140813052654266\n",
            "Epoch: 6, Iter: 400, Loss: 0.045569178134202956\n",
            "Epoch: 7, Iter: 100, Loss: 0.043461065769195555\n",
            "Epoch: 7, Iter: 200, Loss: 0.04211403492093086\n",
            "Epoch: 7, Iter: 300, Loss: 0.04233950632810592\n",
            "Epoch: 7, Iter: 400, Loss: 0.04074416160583496\n",
            "Epoch: 8, Iter: 100, Loss: 0.04017383781075477\n",
            "Epoch: 8, Iter: 200, Loss: 0.038694702684879304\n",
            "Epoch: 8, Iter: 300, Loss: 0.03832453057169914\n",
            "Epoch: 8, Iter: 400, Loss: 0.03728753924369812\n",
            "Epoch: 9, Iter: 100, Loss: 0.037049109309911725\n",
            "Epoch: 9, Iter: 200, Loss: 0.03660612142086029\n",
            "Epoch: 9, Iter: 300, Loss: 0.035537486791610715\n",
            "Epoch: 9, Iter: 400, Loss: 0.03494375467300415\n",
            "Epoch: 10, Iter: 100, Loss: 0.03412211099267006\n",
            "Epoch: 10, Iter: 200, Loss: 0.03343324214220047\n",
            "Epoch: 10, Iter: 300, Loss: 0.03343469287455082\n",
            "Epoch: 10, Iter: 400, Loss: 0.03324302488565445\n"
          ]
        }
      ]
    },
    {
      "cell_type": "markdown",
      "source": [
        "### 4. DeepFC_net128\n",
        "* 2개의 Convolution-layer & 5개의 fc-layer\n",
        "* 64 batch-size"
      ],
      "metadata": {
        "id": "jRyyw49jKVhj"
      }
    },
    {
      "cell_type": "code",
      "source": [
        "for epoch in range(10):\n",
        "\n",
        "    running_loss = 0.0\n",
        "\n",
        "    for i, data in enumerate(train_loader64, start=0):\n",
        "        inputs, labels = data[0].to(device), data[1].to(device)\n",
        "\n",
        "        optimizerFC_64.zero_grad() # epoch마다 gradient 0으로 초기화\n",
        "\n",
        "        outputs = DeepFC_net64(inputs) # y_pred = f(X)\n",
        "        loss = criterion(outputs, labels) # CrossEntropyLoss; 0~1 사이값\n",
        "        loss.backward() # back-propagation; gradient 계산\n",
        "        optimizerFC_64.step() # parameters(weights) update\n",
        "\n",
        "        running_loss += loss.item() # 그냥 전체적인 비교를 위해 누적함\n",
        "\n",
        "        if i % 100 == 99: # 100번 마다 확인; epoch=10, iter(=i)=469, batch=64\n",
        "            print('Epoch: {}, Iter: {}, Loss: {}'.format(epoch+1, i+1, running_loss/2000))\n",
        "            running_loss = 0.0"
      ],
      "metadata": {
        "colab": {
          "base_uri": "https://localhost:8080/"
        },
        "id": "X3847V0dKVhk",
        "outputId": "f2150983-43ef-4c57-d2dd-06f4ef1103ac"
      },
      "execution_count": 42,
      "outputs": [
        {
          "output_type": "stream",
          "name": "stdout",
          "text": [
            "Epoch: 1, Iter: 100, Loss: 0.11517401921749115\n",
            "Epoch: 1, Iter: 200, Loss: 0.11522014939785004\n",
            "Epoch: 1, Iter: 300, Loss: 0.11520105516910553\n",
            "Epoch: 1, Iter: 400, Loss: 0.11518967175483703\n",
            "Epoch: 1, Iter: 500, Loss: 0.1151459767818451\n",
            "Epoch: 1, Iter: 600, Loss: 0.11512749528884887\n",
            "Epoch: 1, Iter: 700, Loss: 0.11512425017356873\n",
            "Epoch: 1, Iter: 800, Loss: 0.115107630610466\n",
            "Epoch: 1, Iter: 900, Loss: 0.1150894730091095\n",
            "Epoch: 2, Iter: 100, Loss: 0.11507662415504455\n",
            "Epoch: 2, Iter: 200, Loss: 0.11506294095516205\n",
            "Epoch: 2, Iter: 300, Loss: 0.11505610597133636\n",
            "Epoch: 2, Iter: 400, Loss: 0.11503598642349243\n",
            "Epoch: 2, Iter: 500, Loss: 0.11500657749176026\n",
            "Epoch: 2, Iter: 600, Loss: 0.11497842991352081\n",
            "Epoch: 2, Iter: 700, Loss: 0.11496032404899598\n",
            "Epoch: 2, Iter: 800, Loss: 0.11491109085083008\n",
            "Epoch: 2, Iter: 900, Loss: 0.11484660160541535\n",
            "Epoch: 3, Iter: 100, Loss: 0.1147419797182083\n",
            "Epoch: 3, Iter: 200, Loss: 0.11462262296676635\n",
            "Epoch: 3, Iter: 300, Loss: 0.11444290924072266\n",
            "Epoch: 3, Iter: 400, Loss: 0.11416587173938751\n",
            "Epoch: 3, Iter: 500, Loss: 0.11370040380954742\n",
            "Epoch: 3, Iter: 600, Loss: 0.1127564332485199\n",
            "Epoch: 3, Iter: 700, Loss: 0.11029161202907563\n",
            "Epoch: 3, Iter: 800, Loss: 0.09948055386543274\n",
            "Epoch: 3, Iter: 900, Loss: 0.07577084857225418\n",
            "Epoch: 4, Iter: 100, Loss: 0.05624969685077667\n",
            "Epoch: 4, Iter: 200, Loss: 0.053282498121261596\n",
            "Epoch: 4, Iter: 300, Loss: 0.05006716075539589\n",
            "Epoch: 4, Iter: 400, Loss: 0.04753833955526352\n",
            "Epoch: 4, Iter: 500, Loss: 0.048076175510883334\n",
            "Epoch: 4, Iter: 600, Loss: 0.0452586213350296\n",
            "Epoch: 4, Iter: 700, Loss: 0.04491005605459213\n",
            "Epoch: 4, Iter: 800, Loss: 0.044187978595495225\n",
            "Epoch: 4, Iter: 900, Loss: 0.042713558971881865\n",
            "Epoch: 5, Iter: 100, Loss: 0.04138893616199493\n",
            "Epoch: 5, Iter: 200, Loss: 0.04038961791992188\n",
            "Epoch: 5, Iter: 300, Loss: 0.03928111135959625\n",
            "Epoch: 5, Iter: 400, Loss: 0.03997792428731918\n",
            "Epoch: 5, Iter: 500, Loss: 0.03916824242472649\n",
            "Epoch: 5, Iter: 600, Loss: 0.039339320600032805\n",
            "Epoch: 5, Iter: 700, Loss: 0.036436446383595465\n",
            "Epoch: 5, Iter: 800, Loss: 0.0384558242559433\n",
            "Epoch: 5, Iter: 900, Loss: 0.037172679752111436\n",
            "Epoch: 6, Iter: 100, Loss: 0.035915167063474654\n",
            "Epoch: 6, Iter: 200, Loss: 0.035884852945804596\n",
            "Epoch: 6, Iter: 300, Loss: 0.03581571669876576\n",
            "Epoch: 6, Iter: 400, Loss: 0.03402876776456833\n",
            "Epoch: 6, Iter: 500, Loss: 0.03378013852238655\n",
            "Epoch: 6, Iter: 600, Loss: 0.03491851145029068\n",
            "Epoch: 6, Iter: 700, Loss: 0.0325763621032238\n",
            "Epoch: 6, Iter: 800, Loss: 0.03409395785629749\n",
            "Epoch: 6, Iter: 900, Loss: 0.03426000951230526\n",
            "Epoch: 7, Iter: 100, Loss: 0.03173594750463962\n",
            "Epoch: 7, Iter: 200, Loss: 0.03180781833827496\n",
            "Epoch: 7, Iter: 300, Loss: 0.03223532295227051\n",
            "Epoch: 7, Iter: 400, Loss: 0.029863162115216255\n",
            "Epoch: 7, Iter: 500, Loss: 0.031420751065015795\n",
            "Epoch: 7, Iter: 600, Loss: 0.030903748616576195\n",
            "Epoch: 7, Iter: 700, Loss: 0.031982242941856386\n",
            "Epoch: 7, Iter: 800, Loss: 0.03098882545530796\n",
            "Epoch: 7, Iter: 900, Loss: 0.030535296112298965\n",
            "Epoch: 8, Iter: 100, Loss: 0.029871479332447052\n",
            "Epoch: 8, Iter: 200, Loss: 0.02912906529009342\n",
            "Epoch: 8, Iter: 300, Loss: 0.029063919961452484\n",
            "Epoch: 8, Iter: 400, Loss: 0.029543493956327438\n",
            "Epoch: 8, Iter: 500, Loss: 0.029378060325980185\n",
            "Epoch: 8, Iter: 600, Loss: 0.028196931302547454\n",
            "Epoch: 8, Iter: 700, Loss: 0.02970032475888729\n",
            "Epoch: 8, Iter: 800, Loss: 0.029136927872896193\n",
            "Epoch: 8, Iter: 900, Loss: 0.02796331325173378\n",
            "Epoch: 9, Iter: 100, Loss: 0.028287212997674942\n",
            "Epoch: 9, Iter: 200, Loss: 0.02820195296406746\n",
            "Epoch: 9, Iter: 300, Loss: 0.027148298248648645\n",
            "Epoch: 9, Iter: 400, Loss: 0.027698603332042694\n",
            "Epoch: 9, Iter: 500, Loss: 0.027707127913832664\n",
            "Epoch: 9, Iter: 600, Loss: 0.026629706308245658\n",
            "Epoch: 9, Iter: 700, Loss: 0.02704778465628624\n",
            "Epoch: 9, Iter: 800, Loss: 0.027201810494065285\n",
            "Epoch: 9, Iter: 900, Loss: 0.0270556830316782\n",
            "Epoch: 10, Iter: 100, Loss: 0.02569761198759079\n",
            "Epoch: 10, Iter: 200, Loss: 0.02643154725432396\n",
            "Epoch: 10, Iter: 300, Loss: 0.025444605000317096\n",
            "Epoch: 10, Iter: 400, Loss: 0.027044540956616403\n",
            "Epoch: 10, Iter: 500, Loss: 0.02664151141047478\n",
            "Epoch: 10, Iter: 600, Loss: 0.025527840912342073\n",
            "Epoch: 10, Iter: 700, Loss: 0.026399539276957512\n",
            "Epoch: 10, Iter: 800, Loss: 0.025219547770917415\n",
            "Epoch: 10, Iter: 900, Loss: 0.025881662592291833\n"
          ]
        }
      ]
    },
    {
      "cell_type": "markdown",
      "metadata": {
        "id": "5IecfHZiI09W"
      },
      "source": [
        "## 모델 테스트"
      ]
    },
    {
      "cell_type": "code",
      "source": [
        "# 전체 test 데이터에 대해서 성능 확인\n",
        "\n",
        "correct_list = [0]*4\n",
        "total_list = [0]*4\n",
        "a = -1\n",
        "\n",
        "model_list = {'DeepConv' : [DeepConv_net128, DeepConv_net64],\n",
        "              'DeepFC' : [DeepFC_net128, DeepFC_net64]}\n",
        "data_list = [test_loader128, test_loader64]\n",
        "\n",
        "with torch.no_grad(): # grad가 필요없다.\n",
        "\n",
        "    for key in model_list:\n",
        "        for idx in range(len(model_list[key])):\n",
        "            a += 1\n",
        "            model = model_list[key][idx]\n",
        "            data_loader = data_list[idx]\n",
        "            for data in data_loader:\n",
        "                images, labels = data[0].to(device), data[1].to(device)\n",
        "\n",
        "                outputs = model(images)\n",
        "                _, predicted = torch.max(outputs.data, 1)\n",
        "\n",
        "                total_list[a] += labels.size(0)\n",
        "                correct_list[a] += (predicted == labels).sum().item()\n",
        "            \n",
        "correct_rate = np.array(correct_list) / np.array(total_list)\n",
        "model_name = ['DeepConv_net128', 'DeepConv_net64', 'DeepFC_net128', 'DeepFC_net64']\n",
        "\n",
        "for i in range(len(correct_rate)):\n",
        "    print('{0} : {1}'.format(model_name[i], correct_rate[i]))"
      ],
      "metadata": {
        "colab": {
          "base_uri": "https://localhost:8080/"
        },
        "id": "VjVs_iS0rlof",
        "outputId": "660a3aee-619c-4e68-b6f5-353a95f55d6e"
      },
      "execution_count": 43,
      "outputs": [
        {
          "output_type": "stream",
          "name": "stdout",
          "text": [
            "DeepConv_net128 : 0.1\n",
            "DeepConv_net64 : 0.1\n",
            "DeepFC_net128 : 0.7191\n",
            "DeepFC_net64 : 0.7879\n"
          ]
        }
      ]
    },
    {
      "cell_type": "markdown",
      "source": [
        "# FashionMNIST 분류 모델 중 성능이 낮은 모델 이유 확인"
      ],
      "metadata": {
        "id": "SZcZQv4PGeYv"
      }
    },
    {
      "cell_type": "markdown",
      "source": [
        "## Convolution-layer를 하나씩 추가하면서, 성능변화를 관찰"
      ],
      "metadata": {
        "id": "V7HoLqroDhyF"
      }
    },
    {
      "cell_type": "markdown",
      "source": [
        "### 3개의 convolution-layer 사용시"
      ],
      "metadata": {
        "id": "_civVcIYBGxA"
      }
    },
    {
      "cell_type": "code",
      "source": [
        "class CNN_Model3(nn.Module):\n",
        "    def __init__(self):\n",
        "        super(CNN_Model3, self).__init__()\n",
        "\n",
        "        self.conv1 = nn.Conv2d(in_channels=1, out_channels=5, kernel_size=3, stride=1, padding=2)\n",
        "        self.conv2 = nn.Conv2d(5, 7, 3, padding=1)\n",
        "        self.conv3 = nn.Conv2d(7, 16, 2, padding=1)\n",
        "\n",
        "        self.fc1 = nn.Linear(16* 16 * 16, 3000)\n",
        "        self.fc2 = nn.Linear(3000, 1500)\n",
        "        self.fc3 = nn.Linear(1500, 20 * 3 * 3)\n",
        "        self.fc4 = nn.Linear(20 * 3 * 3, 86)\n",
        "        self.fc5 = nn.Linear(86, 10) # 10 : 10개의 category\n",
        "\n",
        "    def forward(self, x):\n",
        "        x = F.relu(self.conv1(x))\n",
        "        x = F.max_pool2d(x, (2,2))\n",
        "        x = F.relu(self.conv2(x))\n",
        "        x = F.relu(self.conv3(x))\n",
        "\n",
        "        x = x.view(-1, self.num_flat_features(x)) # num_flat_features : 아래에서 정의\n",
        "\n",
        "        x = F.relu(self.fc1(x))\n",
        "        x = F.relu(self.fc2(x))\n",
        "        x = F.relu(self.fc3(x))\n",
        "        x = F.relu(self.fc4(x))\n",
        "        x = self.fc5(x)\n",
        "\n",
        "        return x\n",
        "    \n",
        "    def num_flat_features(self, x): # 처음 dim-size을 제외하고, 모두 곱한 값을 반환해준다.\n",
        "        size = x.size()[1:]\n",
        "        num_features = 1\n",
        "        for s in size:\n",
        "            num_features *= s\n",
        "        \n",
        "        return num_features"
      ],
      "metadata": {
        "id": "29zvOdhT-fwY"
      },
      "execution_count": 44,
      "outputs": []
    },
    {
      "cell_type": "code",
      "source": [
        "# 모델객체 생성\n",
        "new_model = CNN_Model3().to(device)\n",
        "\n",
        "print(new_model)"
      ],
      "metadata": {
        "colab": {
          "base_uri": "https://localhost:8080/"
        },
        "outputId": "a83db277-a7cf-41aa-9318-80d6a92992b1",
        "id": "t81gXZmz-fwY"
      },
      "execution_count": 45,
      "outputs": [
        {
          "output_type": "stream",
          "name": "stdout",
          "text": [
            "CNN_Model3(\n",
            "  (conv1): Conv2d(1, 5, kernel_size=(3, 3), stride=(1, 1), padding=(2, 2))\n",
            "  (conv2): Conv2d(5, 7, kernel_size=(3, 3), stride=(1, 1), padding=(1, 1))\n",
            "  (conv3): Conv2d(7, 16, kernel_size=(2, 2), stride=(1, 1), padding=(1, 1))\n",
            "  (fc1): Linear(in_features=4096, out_features=3000, bias=True)\n",
            "  (fc2): Linear(in_features=3000, out_features=1500, bias=True)\n",
            "  (fc3): Linear(in_features=1500, out_features=180, bias=True)\n",
            "  (fc4): Linear(in_features=180, out_features=86, bias=True)\n",
            "  (fc5): Linear(in_features=86, out_features=10, bias=True)\n",
            ")\n"
          ]
        }
      ]
    },
    {
      "cell_type": "code",
      "source": [
        "summary(new_model, input_size=(1, 28, 28), batch_size=128)"
      ],
      "metadata": {
        "colab": {
          "base_uri": "https://localhost:8080/"
        },
        "id": "Bb2EkGUbBnuM",
        "outputId": "de9cc1b1-6d53-4beb-8271-3f156fc445b3"
      },
      "execution_count": 46,
      "outputs": [
        {
          "output_type": "stream",
          "name": "stdout",
          "text": [
            "----------------------------------------------------------------\n",
            "        Layer (type)               Output Shape         Param #\n",
            "================================================================\n",
            "            Conv2d-1           [128, 5, 30, 30]              50\n",
            "            Conv2d-2           [128, 7, 15, 15]             322\n",
            "            Conv2d-3          [128, 16, 16, 16]             464\n",
            "            Linear-4                [128, 3000]      12,291,000\n",
            "            Linear-5                [128, 1500]       4,501,500\n",
            "            Linear-6                 [128, 180]         270,180\n",
            "            Linear-7                  [128, 86]          15,566\n",
            "            Linear-8                  [128, 10]             870\n",
            "================================================================\n",
            "Total params: 17,079,952\n",
            "Trainable params: 17,079,952\n",
            "Non-trainable params: 0\n",
            "----------------------------------------------------------------\n",
            "Input size (MB): 0.38\n",
            "Forward/backward pass size (MB): 14.60\n",
            "Params size (MB): 65.15\n",
            "Estimated Total Size (MB): 80.13\n",
            "----------------------------------------------------------------\n"
          ]
        }
      ]
    },
    {
      "cell_type": "code",
      "source": [
        "optimizer = optim.SGD(new_model.parameters(), lr=0.001, momentum=0.9)"
      ],
      "metadata": {
        "id": "aQDT4bYIBsZl"
      },
      "execution_count": 47,
      "outputs": []
    },
    {
      "cell_type": "code",
      "source": [
        "for epoch in range(10):\n",
        "\n",
        "    running_loss = 0.0\n",
        "\n",
        "    for i, data in enumerate(train_loader128, start=0):\n",
        "        inputs, labels = data[0].to(device), data[1].to(device)\n",
        "\n",
        "        optimizer.zero_grad() # epoch마다 gradient 0으로 초기화\n",
        "\n",
        "        outputs = new_model(inputs) # y_pred = f(X)\n",
        "        loss = criterion(outputs, labels) # CrossEntropyLoss; 0~1 사이값\n",
        "        loss.backward() # back-propagation; gradient 계산\n",
        "        optimizer.step() # parameters(weights) update\n",
        "\n",
        "        running_loss += loss.item() # 그냥 전체적인 비교를 위해 누적함\n",
        "\n",
        "        if i % 100 == 99: # 100번 마다 확인; epoch=10, iter(=i)=469, batch=128\n",
        "            print('Epoch: {}, Iter: {}, Loss: {}'.format(epoch+1, i+1, running_loss/2000))\n",
        "            running_loss = 0.0"
      ],
      "metadata": {
        "colab": {
          "base_uri": "https://localhost:8080/"
        },
        "id": "D6GqkR8nBwhH",
        "outputId": "4461502e-59dd-4b9a-ad0a-3b9197b792fb"
      },
      "execution_count": 48,
      "outputs": [
        {
          "output_type": "stream",
          "name": "stdout",
          "text": [
            "Epoch: 1, Iter: 100, Loss: 0.11525289523601533\n",
            "Epoch: 1, Iter: 200, Loss: 0.11516018497943878\n",
            "Epoch: 1, Iter: 300, Loss: 0.11513047254085541\n",
            "Epoch: 1, Iter: 400, Loss: 0.11513158392906189\n",
            "Epoch: 2, Iter: 100, Loss: 0.11505227971076966\n",
            "Epoch: 2, Iter: 200, Loss: 0.11505390954017639\n",
            "Epoch: 2, Iter: 300, Loss: 0.1150231282711029\n",
            "Epoch: 2, Iter: 400, Loss: 0.1149998720884323\n",
            "Epoch: 3, Iter: 100, Loss: 0.11492679297924041\n",
            "Epoch: 3, Iter: 200, Loss: 0.11488059997558593\n",
            "Epoch: 3, Iter: 300, Loss: 0.11482284152507782\n",
            "Epoch: 3, Iter: 400, Loss: 0.1147632257938385\n",
            "Epoch: 4, Iter: 100, Loss: 0.11454205334186554\n",
            "Epoch: 4, Iter: 200, Loss: 0.11432641792297363\n",
            "Epoch: 4, Iter: 300, Loss: 0.113958367228508\n",
            "Epoch: 4, Iter: 400, Loss: 0.11327020692825317\n",
            "Epoch: 5, Iter: 100, Loss: 0.10849588704109192\n",
            "Epoch: 5, Iter: 200, Loss: 0.08761909186840057\n",
            "Epoch: 5, Iter: 300, Loss: 0.05893667379021644\n",
            "Epoch: 5, Iter: 400, Loss: 0.0471258242726326\n",
            "Epoch: 6, Iter: 100, Loss: 0.039349026203155515\n",
            "Epoch: 6, Iter: 200, Loss: 0.0369671539068222\n",
            "Epoch: 6, Iter: 300, Loss: 0.035730286300182344\n",
            "Epoch: 6, Iter: 400, Loss: 0.03314809326827526\n",
            "Epoch: 7, Iter: 100, Loss: 0.032425075858831406\n",
            "Epoch: 7, Iter: 200, Loss: 0.030835809111595155\n",
            "Epoch: 7, Iter: 300, Loss: 0.03014969800412655\n",
            "Epoch: 7, Iter: 400, Loss: 0.02946702030301094\n",
            "Epoch: 8, Iter: 100, Loss: 0.028265638664364816\n",
            "Epoch: 8, Iter: 200, Loss: 0.027734412893652916\n",
            "Epoch: 8, Iter: 300, Loss: 0.026582574352622033\n",
            "Epoch: 8, Iter: 400, Loss: 0.02599626961350441\n",
            "Epoch: 9, Iter: 100, Loss: 0.025007730290293694\n",
            "Epoch: 9, Iter: 200, Loss: 0.0240285778939724\n",
            "Epoch: 9, Iter: 300, Loss: 0.025080162689089774\n",
            "Epoch: 9, Iter: 400, Loss: 0.024397053644061088\n",
            "Epoch: 10, Iter: 100, Loss: 0.023099611192941665\n",
            "Epoch: 10, Iter: 200, Loss: 0.02257609635591507\n",
            "Epoch: 10, Iter: 300, Loss: 0.022776898354291916\n",
            "Epoch: 10, Iter: 400, Loss: 0.022496956273913384\n"
          ]
        }
      ]
    },
    {
      "cell_type": "code",
      "source": [
        "correct = 0\n",
        "total = 0\n",
        "\n",
        "with torch.no_grad():\n",
        "    for data in test_loader128:\n",
        "        images, labels = data[0].to(device), data[1].to(device)\n",
        "        outputs = new_model(images)\n",
        "        _, predicted = torch.max(outputs.data, axis=1)\n",
        "        total += labels.size(0)\n",
        "        correct += (predicted == labels).sum().item()\n",
        "    \n",
        "    print(100 * correct / total)"
      ],
      "metadata": {
        "colab": {
          "base_uri": "https://localhost:8080/"
        },
        "id": "1PDu2v9bB_NE",
        "outputId": "dbc1adae-9095-4b44-cf7b-fcae9e562d6c"
      },
      "execution_count": 49,
      "outputs": [
        {
          "output_type": "stream",
          "name": "stdout",
          "text": [
            "84.35\n"
          ]
        }
      ]
    },
    {
      "cell_type": "markdown",
      "source": [
        "### 4개의 convolution-layer 사용시"
      ],
      "metadata": {
        "id": "7Thu9NRyCV7j"
      }
    },
    {
      "cell_type": "code",
      "source": [
        "class CNN_Model4(nn.Module):\n",
        "    def __init__(self):\n",
        "        super(CNN_Model4, self).__init__()\n",
        "\n",
        "        self.conv1 = nn.Conv2d(in_channels=1, out_channels=5, kernel_size=3, stride=1, padding=2)\n",
        "        self.conv2 = nn.Conv2d(5, 7, 3, padding=1)\n",
        "        self.conv3 = nn.Conv2d(7, 16, 2, padding=1)\n",
        "        self.conv4 = nn.Conv2d(16, 19, 2)\n",
        "\n",
        "        self.fc1 = nn.Linear(15* 15 * 19, 3000)\n",
        "        self.fc2 = nn.Linear(3000, 1500)\n",
        "        self.fc3 = nn.Linear(1500, 20 * 3 * 3)\n",
        "        self.fc4 = nn.Linear(20 * 3 * 3, 86)\n",
        "        self.fc5 = nn.Linear(86, 10) # 10 : 10개의 category\n",
        "\n",
        "    def forward(self, x):\n",
        "        x = F.relu(self.conv1(x))\n",
        "        x = F.max_pool2d(x, (2,2))\n",
        "        x = F.relu(self.conv2(x))\n",
        "        x = F.relu(self.conv3(x))\n",
        "        x = F.relu(self.conv4(x))\n",
        "\n",
        "        x = x.view(-1, self.num_flat_features(x)) # num_flat_features : 아래에서 정의\n",
        "\n",
        "        x = F.relu(self.fc1(x))\n",
        "        x = F.relu(self.fc2(x))\n",
        "        x = F.relu(self.fc3(x))\n",
        "        x = F.relu(self.fc4(x))\n",
        "        x = self.fc5(x)\n",
        "\n",
        "        return x\n",
        "    \n",
        "    def num_flat_features(self, x): # 처음 dim-size을 제외하고, 모두 곱한 값을 반환해준다.\n",
        "        size = x.size()[1:]\n",
        "        num_features = 1\n",
        "        for s in size:\n",
        "            num_features *= s\n",
        "        \n",
        "        return num_features"
      ],
      "metadata": {
        "id": "V9PQvGFPCV7k"
      },
      "execution_count": 50,
      "outputs": []
    },
    {
      "cell_type": "code",
      "source": [
        "# 모델객체 생성\n",
        "new_model = CNN_Model4().to(device)\n",
        "\n",
        "print(new_model)"
      ],
      "metadata": {
        "colab": {
          "base_uri": "https://localhost:8080/"
        },
        "outputId": "16fea7c9-ea2c-4be6-fca9-36abc5c81875",
        "id": "HNAL7SRZCV7k"
      },
      "execution_count": 51,
      "outputs": [
        {
          "output_type": "stream",
          "name": "stdout",
          "text": [
            "CNN_Model4(\n",
            "  (conv1): Conv2d(1, 5, kernel_size=(3, 3), stride=(1, 1), padding=(2, 2))\n",
            "  (conv2): Conv2d(5, 7, kernel_size=(3, 3), stride=(1, 1), padding=(1, 1))\n",
            "  (conv3): Conv2d(7, 16, kernel_size=(2, 2), stride=(1, 1), padding=(1, 1))\n",
            "  (conv4): Conv2d(16, 19, kernel_size=(2, 2), stride=(1, 1))\n",
            "  (fc1): Linear(in_features=4275, out_features=3000, bias=True)\n",
            "  (fc2): Linear(in_features=3000, out_features=1500, bias=True)\n",
            "  (fc3): Linear(in_features=1500, out_features=180, bias=True)\n",
            "  (fc4): Linear(in_features=180, out_features=86, bias=True)\n",
            "  (fc5): Linear(in_features=86, out_features=10, bias=True)\n",
            ")\n"
          ]
        }
      ]
    },
    {
      "cell_type": "code",
      "source": [
        "summary(new_model, input_size=(1, 28, 28), batch_size=128)"
      ],
      "metadata": {
        "colab": {
          "base_uri": "https://localhost:8080/"
        },
        "outputId": "2ec77dc6-c4fb-4a9b-fe10-4a1dfd24c7f0",
        "id": "fHmIarJBCV7k"
      },
      "execution_count": 52,
      "outputs": [
        {
          "output_type": "stream",
          "name": "stdout",
          "text": [
            "----------------------------------------------------------------\n",
            "        Layer (type)               Output Shape         Param #\n",
            "================================================================\n",
            "            Conv2d-1           [128, 5, 30, 30]              50\n",
            "            Conv2d-2           [128, 7, 15, 15]             322\n",
            "            Conv2d-3          [128, 16, 16, 16]             464\n",
            "            Conv2d-4          [128, 19, 15, 15]           1,235\n",
            "            Linear-5                [128, 3000]      12,828,000\n",
            "            Linear-6                [128, 1500]       4,501,500\n",
            "            Linear-7                 [128, 180]         270,180\n",
            "            Linear-8                  [128, 86]          15,566\n",
            "            Linear-9                  [128, 10]             870\n",
            "================================================================\n",
            "Total params: 17,618,187\n",
            "Trainable params: 17,618,187\n",
            "Non-trainable params: 0\n",
            "----------------------------------------------------------------\n",
            "Input size (MB): 0.38\n",
            "Forward/backward pass size (MB): 18.77\n",
            "Params size (MB): 67.21\n",
            "Estimated Total Size (MB): 86.36\n",
            "----------------------------------------------------------------\n"
          ]
        }
      ]
    },
    {
      "cell_type": "code",
      "source": [
        "optimizer = optim.SGD(new_model.parameters(), lr=0.001, momentum=0.9)"
      ],
      "metadata": {
        "id": "z6gegPTRCV7k"
      },
      "execution_count": 53,
      "outputs": []
    },
    {
      "cell_type": "code",
      "source": [
        "for epoch in range(10):\n",
        "\n",
        "    running_loss = 0.0\n",
        "\n",
        "    for i, data in enumerate(train_loader128, start=0):\n",
        "        inputs, labels = data[0].to(device), data[1].to(device)\n",
        "\n",
        "        optimizer.zero_grad() # epoch마다 gradient 0으로 초기화\n",
        "\n",
        "        outputs = new_model(inputs) # y_pred = f(X)\n",
        "        loss = criterion(outputs, labels) # CrossEntropyLoss; 0~1 사이값\n",
        "        loss.backward() # back-propagation; gradient 계산\n",
        "        optimizer.step() # parameters(weights) update\n",
        "\n",
        "        running_loss += loss.item() # 그냥 전체적인 비교를 위해 누적함\n",
        "\n",
        "        if i % 100 == 99: # 100번 마다 확인; epoch=10, iter(=i)=469, batch=128\n",
        "            print('Epoch: {}, Iter: {}, Loss: {}'.format(epoch+1, i+1, running_loss/2000))\n",
        "            running_loss = 0.0"
      ],
      "metadata": {
        "colab": {
          "base_uri": "https://localhost:8080/"
        },
        "outputId": "320f7df5-3640-409f-812c-a426ee2d551e",
        "id": "oeeKVQdKCV7k"
      },
      "execution_count": 54,
      "outputs": [
        {
          "output_type": "stream",
          "name": "stdout",
          "text": [
            "Epoch: 1, Iter: 100, Loss: 0.1151692191362381\n",
            "Epoch: 1, Iter: 200, Loss: 0.11520289254188537\n",
            "Epoch: 1, Iter: 300, Loss: 0.11514375650882722\n",
            "Epoch: 1, Iter: 400, Loss: 0.11515856981277466\n",
            "Epoch: 2, Iter: 100, Loss: 0.11512621998786926\n",
            "Epoch: 2, Iter: 200, Loss: 0.11515145599842072\n",
            "Epoch: 2, Iter: 300, Loss: 0.11513591396808624\n",
            "Epoch: 2, Iter: 400, Loss: 0.11512814438343048\n",
            "Epoch: 3, Iter: 100, Loss: 0.11512653052806854\n",
            "Epoch: 3, Iter: 200, Loss: 0.11511658072471619\n",
            "Epoch: 3, Iter: 300, Loss: 0.11513287746906281\n",
            "Epoch: 3, Iter: 400, Loss: 0.1151157956123352\n",
            "Epoch: 4, Iter: 100, Loss: 0.11511864292621612\n",
            "Epoch: 4, Iter: 200, Loss: 0.11511456799507142\n",
            "Epoch: 4, Iter: 300, Loss: 0.11512051963806152\n",
            "Epoch: 4, Iter: 400, Loss: 0.1151156759262085\n",
            "Epoch: 5, Iter: 100, Loss: 0.11511498045921326\n",
            "Epoch: 5, Iter: 200, Loss: 0.11511131501197815\n",
            "Epoch: 5, Iter: 300, Loss: 0.11511406099796295\n",
            "Epoch: 5, Iter: 400, Loss: 0.11511271131038665\n",
            "Epoch: 6, Iter: 100, Loss: 0.11510877466201783\n",
            "Epoch: 6, Iter: 200, Loss: 0.11510572016239166\n",
            "Epoch: 6, Iter: 300, Loss: 0.11510398590564727\n",
            "Epoch: 6, Iter: 400, Loss: 0.11510423719882965\n",
            "Epoch: 7, Iter: 100, Loss: 0.11509750688076019\n",
            "Epoch: 7, Iter: 200, Loss: 0.11509273958206177\n",
            "Epoch: 7, Iter: 300, Loss: 0.11509376013278962\n",
            "Epoch: 7, Iter: 400, Loss: 0.11508962619304657\n",
            "Epoch: 8, Iter: 100, Loss: 0.11507786071300506\n",
            "Epoch: 8, Iter: 200, Loss: 0.11507555782794952\n",
            "Epoch: 8, Iter: 300, Loss: 0.11506711745262146\n",
            "Epoch: 8, Iter: 400, Loss: 0.11506078338623046\n",
            "Epoch: 9, Iter: 100, Loss: 0.11504226994514466\n",
            "Epoch: 9, Iter: 200, Loss: 0.11503288316726684\n",
            "Epoch: 9, Iter: 300, Loss: 0.11501606559753418\n",
            "Epoch: 9, Iter: 400, Loss: 0.1150063557624817\n",
            "Epoch: 10, Iter: 100, Loss: 0.11495995986461639\n",
            "Epoch: 10, Iter: 200, Loss: 0.11493311476707459\n",
            "Epoch: 10, Iter: 300, Loss: 0.11488877320289612\n",
            "Epoch: 10, Iter: 400, Loss: 0.11483784580230713\n"
          ]
        }
      ]
    },
    {
      "cell_type": "code",
      "source": [
        "correct = 0\n",
        "total = 0\n",
        "\n",
        "with torch.no_grad():\n",
        "    for data in test_loader128:\n",
        "        images, labels = data[0].to(device), data[1].to(device)\n",
        "        outputs = new_model(images)\n",
        "        _, predicted = torch.max(outputs.data, axis=1)\n",
        "        total += labels.size(0)\n",
        "        correct += (predicted == labels).sum().item()\n",
        "    \n",
        "    print(100 * correct / total)"
      ],
      "metadata": {
        "colab": {
          "base_uri": "https://localhost:8080/"
        },
        "id": "w3uuDeS_CV7k",
        "outputId": "802d9f8a-fc60-4ca5-9220-8bd0cbe7b3f9"
      },
      "execution_count": 55,
      "outputs": [
        {
          "output_type": "stream",
          "name": "stdout",
          "text": [
            "35.53\n"
          ]
        }
      ]
    },
    {
      "cell_type": "markdown",
      "source": [
        "### 5개의 convolution-layer 사용시"
      ],
      "metadata": {
        "id": "kuP_3_DyD42p"
      }
    },
    {
      "cell_type": "code",
      "source": [
        "class CNN_Model5(nn.Module):\n",
        "    def __init__(self):\n",
        "        super(CNN_Model5, self).__init__()\n",
        "\n",
        "        self.conv1 = nn.Conv2d(in_channels=1, out_channels=5, kernel_size=3, stride=1, padding=2)\n",
        "        self.conv2 = nn.Conv2d(5, 7, 3, padding=1)      \n",
        "        self.conv3 = nn.Conv2d(7, 16, 2, padding=1)\n",
        "        self.conv4 = nn.Conv2d(16, 19, 2)\n",
        "        self.conv5 = nn.Conv2d(19, 29, 3)\n",
        "\n",
        "        self.fc1 = nn.Linear(29 * 13 * 13, 100)\n",
        "        self.fc2 = nn.Linear(100, 50)\n",
        "        self.fc3 = nn.Linear(50, 25)\n",
        "        self.fc4 = nn.Linear(25, 10) # 10 : 10개의 category\n",
        "\n",
        "    def forward(self, x):\n",
        "        x = F.relu(self.conv1(x))\n",
        "        x = F.max_pool2d(x, (2,2))\n",
        "        x = F.relu(self.conv2(x))\n",
        "        x = F.relu(self.conv3(x))\n",
        "        x = F.relu(self.conv4(x))\n",
        "        x = F.relu(self.conv5(x))\n",
        "\n",
        "        x = x.view(-1, self.num_flat_features(x)) # num_flat_features : 아래에서 정의\n",
        "\n",
        "        x = F.relu(self.fc1(x))\n",
        "        x = F.relu(self.fc2(x))\n",
        "        x = F.relu(self.fc3(x))\n",
        "        x = self.fc4(x)\n",
        "\n",
        "        return x\n",
        "    \n",
        "    def num_flat_features(self, x): # 처음 dim-size을 제외하고, 모두 곱한 값을 반환해준다.\n",
        "        size = x.size()[1:]\n",
        "        num_features = 1\n",
        "        for s in size:\n",
        "            num_features *= s\n",
        "        \n",
        "        return num_features"
      ],
      "metadata": {
        "id": "Bk1u7iloD42q"
      },
      "execution_count": 56,
      "outputs": []
    },
    {
      "cell_type": "code",
      "source": [
        "# 모델객체 생성\n",
        "new_model = CNN_Model5().to(device)\n",
        "\n",
        "print(new_model)"
      ],
      "metadata": {
        "colab": {
          "base_uri": "https://localhost:8080/"
        },
        "outputId": "6fa59cac-5c57-4109-8c88-10514f40a6b4",
        "id": "GPoNB-4vD42q"
      },
      "execution_count": 57,
      "outputs": [
        {
          "output_type": "stream",
          "name": "stdout",
          "text": [
            "CNN_Model5(\n",
            "  (conv1): Conv2d(1, 5, kernel_size=(3, 3), stride=(1, 1), padding=(2, 2))\n",
            "  (conv2): Conv2d(5, 7, kernel_size=(3, 3), stride=(1, 1), padding=(1, 1))\n",
            "  (conv3): Conv2d(7, 16, kernel_size=(2, 2), stride=(1, 1), padding=(1, 1))\n",
            "  (conv4): Conv2d(16, 19, kernel_size=(2, 2), stride=(1, 1))\n",
            "  (conv5): Conv2d(19, 29, kernel_size=(3, 3), stride=(1, 1))\n",
            "  (fc1): Linear(in_features=4901, out_features=100, bias=True)\n",
            "  (fc2): Linear(in_features=100, out_features=50, bias=True)\n",
            "  (fc3): Linear(in_features=50, out_features=25, bias=True)\n",
            "  (fc4): Linear(in_features=25, out_features=10, bias=True)\n",
            ")\n"
          ]
        }
      ]
    },
    {
      "cell_type": "code",
      "source": [
        "summary(new_model, input_size=(1, 28, 28), batch_size=128)"
      ],
      "metadata": {
        "colab": {
          "base_uri": "https://localhost:8080/"
        },
        "outputId": "766cd65f-fb89-4d24-b29b-1f5cf7a2ab5d",
        "id": "aDvnyPw6D42q"
      },
      "execution_count": 58,
      "outputs": [
        {
          "output_type": "stream",
          "name": "stdout",
          "text": [
            "----------------------------------------------------------------\n",
            "        Layer (type)               Output Shape         Param #\n",
            "================================================================\n",
            "            Conv2d-1           [128, 5, 30, 30]              50\n",
            "            Conv2d-2           [128, 7, 15, 15]             322\n",
            "            Conv2d-3          [128, 16, 16, 16]             464\n",
            "            Conv2d-4          [128, 19, 15, 15]           1,235\n",
            "            Conv2d-5          [128, 29, 13, 13]           4,988\n",
            "            Linear-6                 [128, 100]         490,200\n",
            "            Linear-7                  [128, 50]           5,050\n",
            "            Linear-8                  [128, 25]           1,275\n",
            "            Linear-9                  [128, 10]             260\n",
            "================================================================\n",
            "Total params: 503,844\n",
            "Trainable params: 503,844\n",
            "Non-trainable params: 0\n",
            "----------------------------------------------------------------\n",
            "Input size (MB): 0.38\n",
            "Forward/backward pass size (MB): 19.07\n",
            "Params size (MB): 1.92\n",
            "Estimated Total Size (MB): 21.38\n",
            "----------------------------------------------------------------\n"
          ]
        }
      ]
    },
    {
      "cell_type": "code",
      "source": [
        "optimizer = optim.SGD(new_model.parameters(), lr=0.001, momentum=0.9)"
      ],
      "metadata": {
        "id": "QmOiVQDLD42q"
      },
      "execution_count": 59,
      "outputs": []
    },
    {
      "cell_type": "code",
      "source": [
        "for epoch in range(10):\n",
        "\n",
        "    running_loss = 0.0\n",
        "\n",
        "    for i, data in enumerate(train_loader128, start=0):\n",
        "        inputs, labels = data[0].to(device), data[1].to(device)\n",
        "\n",
        "        optimizer.zero_grad() # epoch마다 gradient 0으로 초기화\n",
        "\n",
        "        outputs = new_model(inputs) # y_pred = f(X)\n",
        "        loss = criterion(outputs, labels) # CrossEntropyLoss; 0~1 사이값\n",
        "        loss.backward() # back-propagation; gradient 계산\n",
        "        optimizer.step() # parameters(weights) update\n",
        "\n",
        "        running_loss += loss.item() # 그냥 전체적인 비교를 위해 누적함\n",
        "\n",
        "        if i % 100 == 99: # 100번 마다 확인; epoch=10, iter(=i)=469, batch=128\n",
        "            print('Epoch: {}, Iter: {}, Loss: {}'.format(epoch+1, i+1, running_loss/2000))\n",
        "            running_loss = 0.0"
      ],
      "metadata": {
        "colab": {
          "base_uri": "https://localhost:8080/"
        },
        "outputId": "1313e5b2-385f-4bf8-956e-1899a24414b2",
        "id": "eS9fQfeED42q"
      },
      "execution_count": 60,
      "outputs": [
        {
          "output_type": "stream",
          "name": "stdout",
          "text": [
            "Epoch: 1, Iter: 100, Loss: 0.11549806463718414\n",
            "Epoch: 1, Iter: 200, Loss: 0.11533227968215942\n",
            "Epoch: 1, Iter: 300, Loss: 0.11527290964126587\n",
            "Epoch: 1, Iter: 400, Loss: 0.11520790016651153\n",
            "Epoch: 2, Iter: 100, Loss: 0.11521561717987061\n",
            "Epoch: 2, Iter: 200, Loss: 0.11518181896209717\n",
            "Epoch: 2, Iter: 300, Loss: 0.11516961908340453\n",
            "Epoch: 2, Iter: 400, Loss: 0.11516034066677093\n",
            "Epoch: 3, Iter: 100, Loss: 0.11516309559345245\n",
            "Epoch: 3, Iter: 200, Loss: 0.11513386917114257\n",
            "Epoch: 3, Iter: 300, Loss: 0.11513303208351135\n",
            "Epoch: 3, Iter: 400, Loss: 0.11512779688835144\n",
            "Epoch: 4, Iter: 100, Loss: 0.11512657368183137\n",
            "Epoch: 4, Iter: 200, Loss: 0.1151303025484085\n",
            "Epoch: 4, Iter: 300, Loss: 0.11511956143379211\n",
            "Epoch: 4, Iter: 400, Loss: 0.11512682723999024\n",
            "Epoch: 5, Iter: 100, Loss: 0.11512608325481415\n",
            "Epoch: 5, Iter: 200, Loss: 0.1151206750869751\n",
            "Epoch: 5, Iter: 300, Loss: 0.11511888575553894\n",
            "Epoch: 5, Iter: 400, Loss: 0.11511896014213562\n",
            "Epoch: 6, Iter: 100, Loss: 0.11511460518836975\n",
            "Epoch: 6, Iter: 200, Loss: 0.11511531043052674\n",
            "Epoch: 6, Iter: 300, Loss: 0.11511699688434601\n",
            "Epoch: 6, Iter: 400, Loss: 0.11511448907852173\n",
            "Epoch: 7, Iter: 100, Loss: 0.1151111376285553\n",
            "Epoch: 7, Iter: 200, Loss: 0.11510716533660889\n",
            "Epoch: 7, Iter: 300, Loss: 0.11510603630542755\n",
            "Epoch: 7, Iter: 400, Loss: 0.11510613548755645\n",
            "Epoch: 8, Iter: 100, Loss: 0.11509812319278717\n",
            "Epoch: 8, Iter: 200, Loss: 0.11509528505802155\n",
            "Epoch: 8, Iter: 300, Loss: 0.11509260714054108\n",
            "Epoch: 8, Iter: 400, Loss: 0.11508671224117278\n",
            "Epoch: 9, Iter: 100, Loss: 0.11507615447044373\n",
            "Epoch: 9, Iter: 200, Loss: 0.11506829226016999\n",
            "Epoch: 9, Iter: 300, Loss: 0.11505935490131378\n",
            "Epoch: 9, Iter: 400, Loss: 0.1150508165359497\n",
            "Epoch: 10, Iter: 100, Loss: 0.11502478897571564\n",
            "Epoch: 10, Iter: 200, Loss: 0.11500369334220886\n",
            "Epoch: 10, Iter: 300, Loss: 0.11497741329669953\n",
            "Epoch: 10, Iter: 400, Loss: 0.11494292902946472\n"
          ]
        }
      ]
    },
    {
      "cell_type": "code",
      "source": [
        "correct = 0\n",
        "total = 0\n",
        "\n",
        "with torch.no_grad():\n",
        "    for data in test_loader128:\n",
        "        images, labels = data[0].to(device), data[1].to(device)\n",
        "        outputs = new_model(images)\n",
        "        _, predicted = torch.max(outputs.data, axis=1)\n",
        "        total += labels.size(0)\n",
        "        correct += (predicted == labels).sum().item()\n",
        "    \n",
        "    print(100 * correct / total)"
      ],
      "metadata": {
        "colab": {
          "base_uri": "https://localhost:8080/"
        },
        "outputId": "cf8b7b12-3165-4744-f28c-cdb5c5652332",
        "id": "X0H3p7PGD42q"
      },
      "execution_count": 61,
      "outputs": [
        {
          "output_type": "stream",
          "name": "stdout",
          "text": [
            "26.43\n"
          ]
        }
      ]
    }
  ]
}