{
  "cells": [
    {
      "cell_type": "markdown",
      "metadata": {
        "id": "cdNvme8aKSBP"
      },
      "source": [
        "# 초기 세팅"
      ]
    },
    {
      "cell_type": "code",
      "execution_count": 1,
      "metadata": {
        "id": "P1v9luAfHXdz"
      },
      "outputs": [],
      "source": [
        "import torch\n",
        "import torch.nn as nn\n",
        "import torch.nn.functional as F\n",
        "import torch.optim as optim\n",
        "from torch.utils.data import Dataset, DataLoader\n",
        "\n",
        "import torchvision\n",
        "import torchvision.datasets as datasets\n",
        "import torchvision.transforms as transforms\n",
        "\n",
        "import numpy as np\n",
        "import matplotlib.pyplot as plt\n",
        "plt.style.use('seaborn-white')"
      ]
    },
    {
      "cell_type": "code",
      "execution_count": 2,
      "metadata": {
        "colab": {
          "base_uri": "https://localhost:8080/"
        },
        "id": "D39aCPyTu2Ce",
        "outputId": "ada297f2-398f-499e-9f07-bee34cae4704"
      },
      "outputs": [
        {
          "output_type": "stream",
          "name": "stdout",
          "text": [
            "Looking in indexes: https://pypi.org/simple, https://us-python.pkg.dev/colab-wheels/public/simple/\n",
            "Requirement already satisfied: torchsummary in /usr/local/lib/python3.8/dist-packages (1.5.1)\n"
          ]
        }
      ],
      "source": [
        "!pip install torchsummary\n",
        "from torchsummary import summary"
      ]
    },
    {
      "cell_type": "markdown",
      "metadata": {
        "id": "02LdHlTTSz5L"
      },
      "source": [
        "- 현재 GPU 설정"
      ]
    },
    {
      "cell_type": "code",
      "execution_count": 3,
      "metadata": {
        "colab": {
          "base_uri": "https://localhost:8080/"
        },
        "id": "Ybsjn80uSx3X",
        "outputId": "4bcca47c-ba4e-42f4-ae70-7106e931fa19"
      },
      "outputs": [
        {
          "output_type": "execute_result",
          "data": {
            "text/plain": [
              "True"
            ]
          },
          "metadata": {},
          "execution_count": 3
        }
      ],
      "source": [
        "# colab의 runtime-type을 GPU로 설정해서, True가 나오도록 한다.\n",
        "\n",
        "torch.cuda.is_available()"
      ]
    },
    {
      "cell_type": "code",
      "execution_count": 4,
      "metadata": {
        "colab": {
          "base_uri": "https://localhost:8080/"
        },
        "id": "HlPZI5wfDQhv",
        "outputId": "7553294c-acb0-47c9-a735-aaf56f62d4f1"
      },
      "outputs": [
        {
          "output_type": "execute_result",
          "data": {
            "text/plain": [
              "device(type='cuda')"
            ]
          },
          "metadata": {},
          "execution_count": 4
        }
      ],
      "source": [
        "use_cuda = torch.cuda.is_available()\n",
        "device = torch.device(\"cuda\" if use_cuda else \"cpu\")\n",
        "device"
      ]
    },
    {
      "cell_type": "markdown",
      "metadata": {
        "id": "OHckdZ55KeH2"
      },
      "source": [
        "# FashionMNIST 분류 모델 만들기\n",
        "* 흑/백(1) 이미지 데이터 분류\n",
        "* 28x28 pixel"
      ]
    },
    {
      "cell_type": "markdown",
      "metadata": {
        "id": "mCrBa-gRRMEO"
      },
      "source": [
        "## 데이터 로드"
      ]
    },
    {
      "cell_type": "code",
      "execution_count": 5,
      "metadata": {
        "id": "vYP9dGrWzDqd"
      },
      "outputs": [],
      "source": [
        "# 데이터 전처리\n",
        "\n",
        "MNIST_transform = transforms.Compose([transforms.ToTensor(), # tensor로 펴준다.\n",
        "                                      transforms.Normalize((0.5,),(0.5,))]) # 정규화를 해준다."
      ]
    },
    {
      "cell_type": "code",
      "execution_count": 6,
      "metadata": {
        "colab": {
          "base_uri": "https://localhost:8080/",
          "height": 439,
          "referenced_widgets": [
            "5d6658358f0249e0bbe1b0aa92649b34",
            "61b4294e7b404d50a5b5052160d92a72",
            "fb508a7f8b624b5d93aa3123efa9145f",
            "fd818c7ff5414b7e926d9d78cee6a4b9",
            "6386b36fd38242538bf5f55c96c4d145",
            "6ff8e55577f14ab69134e773833cf624",
            "4618918456c0416aa2d9dfd82dad2727",
            "e2b112f643114778a8d184180fc34414",
            "02197ab0a17a4d5a95843773694d9fe6",
            "d4191906c0624f76a9d9df72954f279f",
            "636ff05f6ce24e9c8bb6badcc140632f",
            "28252cceb04540b795447bab1271a758",
            "cdf22626d25c403e992afd7819213cf9",
            "443b9d822b124fccbb0644d23e0ffba5",
            "90599c83ab6d4fc48c73bb09abdbb582",
            "b0dd04eb78ef44deb2519518472f2d40",
            "0875a1e82c3d41d792dd20ff4448954d",
            "27fef6d6ab0740baae20b96fa26050b6",
            "d2d92dae09084d87b5a3f10930091932",
            "1949edd5502748cea91f3804b323f6e9",
            "fa57ac05ca0348b08ba5921e4b54c39f",
            "94acb3b1d8c64e57bd760876f93d379a",
            "06bae3935fdb48aabd043f25a097a166",
            "6db0a801015e4ccdb51f79fe8aeb5405",
            "6a5cb2fef3bf4520b0129001a8b95670",
            "418123b03cfd44de89494ad5d500fa7d",
            "a2faa75a185543b1a5ff027e8f1d75c2",
            "3fc5bbe1645c4ae3847853a4ffe7b157",
            "7b2ea82f60ce49e185708d925c812988",
            "942203db55414524941a048edd09c2d6",
            "35d60712d07c40d8bce189fea60fae55",
            "b12456e5ac6e418fac80e13ea66eae5e",
            "28f005806c074375a03b1ba24b153fde",
            "0fcc7bcc4c66470c8b961aa286b6fbeb",
            "3074534f47ba4bf89edbe1b16c60d55a",
            "c71b49980f714d528431020baffb0266",
            "8298b27870f443269567f02c20c040fd",
            "b845964c250c4cd292b21a890bd8e2da",
            "16cef689caa24d4eb4d7e9665ed3f777",
            "1207bbc49cfc4507aa6afb1e2a7511fb",
            "5a02a72cc9af4e60abc31a988228bb62",
            "59d99a796b6f441cb81903f0d20d4081",
            "cb66d01a88fd4b87aff8898a93a1a0da",
            "aaa4718fd2084857ab720eee9ff83553"
          ]
        },
        "id": "VpVsTevTWE5i",
        "outputId": "779b1759-9d19-4bd5-f5c9-08447943fa09"
      },
      "outputs": [
        {
          "output_type": "stream",
          "name": "stdout",
          "text": [
            "Downloading http://fashion-mnist.s3-website.eu-central-1.amazonaws.com/train-images-idx3-ubyte.gz\n",
            "Downloading http://fashion-mnist.s3-website.eu-central-1.amazonaws.com/train-images-idx3-ubyte.gz to /content/FashionMNIST/raw/train-images-idx3-ubyte.gz\n"
          ]
        },
        {
          "output_type": "display_data",
          "data": {
            "text/plain": [
              "  0%|          | 0/26421880 [00:00<?, ?it/s]"
            ],
            "application/vnd.jupyter.widget-view+json": {
              "version_major": 2,
              "version_minor": 0,
              "model_id": "5d6658358f0249e0bbe1b0aa92649b34"
            }
          },
          "metadata": {}
        },
        {
          "output_type": "stream",
          "name": "stdout",
          "text": [
            "Extracting /content/FashionMNIST/raw/train-images-idx3-ubyte.gz to /content/FashionMNIST/raw\n",
            "\n",
            "Downloading http://fashion-mnist.s3-website.eu-central-1.amazonaws.com/train-labels-idx1-ubyte.gz\n",
            "Downloading http://fashion-mnist.s3-website.eu-central-1.amazonaws.com/train-labels-idx1-ubyte.gz to /content/FashionMNIST/raw/train-labels-idx1-ubyte.gz\n"
          ]
        },
        {
          "output_type": "display_data",
          "data": {
            "text/plain": [
              "  0%|          | 0/29515 [00:00<?, ?it/s]"
            ],
            "application/vnd.jupyter.widget-view+json": {
              "version_major": 2,
              "version_minor": 0,
              "model_id": "28252cceb04540b795447bab1271a758"
            }
          },
          "metadata": {}
        },
        {
          "output_type": "stream",
          "name": "stdout",
          "text": [
            "Extracting /content/FashionMNIST/raw/train-labels-idx1-ubyte.gz to /content/FashionMNIST/raw\n",
            "\n",
            "Downloading http://fashion-mnist.s3-website.eu-central-1.amazonaws.com/t10k-images-idx3-ubyte.gz\n",
            "Downloading http://fashion-mnist.s3-website.eu-central-1.amazonaws.com/t10k-images-idx3-ubyte.gz to /content/FashionMNIST/raw/t10k-images-idx3-ubyte.gz\n"
          ]
        },
        {
          "output_type": "display_data",
          "data": {
            "text/plain": [
              "  0%|          | 0/4422102 [00:00<?, ?it/s]"
            ],
            "application/vnd.jupyter.widget-view+json": {
              "version_major": 2,
              "version_minor": 0,
              "model_id": "06bae3935fdb48aabd043f25a097a166"
            }
          },
          "metadata": {}
        },
        {
          "output_type": "stream",
          "name": "stdout",
          "text": [
            "Extracting /content/FashionMNIST/raw/t10k-images-idx3-ubyte.gz to /content/FashionMNIST/raw\n",
            "\n",
            "Downloading http://fashion-mnist.s3-website.eu-central-1.amazonaws.com/t10k-labels-idx1-ubyte.gz\n",
            "Downloading http://fashion-mnist.s3-website.eu-central-1.amazonaws.com/t10k-labels-idx1-ubyte.gz to /content/FashionMNIST/raw/t10k-labels-idx1-ubyte.gz\n"
          ]
        },
        {
          "output_type": "display_data",
          "data": {
            "text/plain": [
              "  0%|          | 0/5148 [00:00<?, ?it/s]"
            ],
            "application/vnd.jupyter.widget-view+json": {
              "version_major": 2,
              "version_minor": 0,
              "model_id": "0fcc7bcc4c66470c8b961aa286b6fbeb"
            }
          },
          "metadata": {}
        },
        {
          "output_type": "stream",
          "name": "stdout",
          "text": [
            "Extracting /content/FashionMNIST/raw/t10k-labels-idx1-ubyte.gz to /content/FashionMNIST/raw\n",
            "\n"
          ]
        }
      ],
      "source": [
        "trainset = datasets.FashionMNIST(root='/content',\n",
        "                                 train=True, download=True,\n",
        "                                 transform=MNIST_transform)\n",
        "\n",
        "testset = datasets.FashionMNIST(root='/content',\n",
        "                                 train=False, download=True,\n",
        "                                 transform=MNIST_transform)"
      ]
    },
    {
      "cell_type": "markdown",
      "metadata": {
        "id": "qh7uI7ewsipv"
      },
      "source": [
        "input-data size 확인"
      ]
    },
    {
      "cell_type": "code",
      "execution_count": 7,
      "metadata": {
        "id": "Dz-CJf0x0nne"
      },
      "outputs": [],
      "source": [
        "# batch-size=128\n",
        "train_loader128 =  DataLoader(trainset, batch_size=128, shuffle=True, num_workers=2)\n",
        "test_loader128 =  DataLoader(testset, batch_size=128, shuffle=False, num_workers=2)\n",
        "\n",
        "# batch-size=64\n",
        "train_loader64 =  DataLoader(trainset, batch_size=64, shuffle=True, num_workers=2)\n",
        "test_loader64 =  DataLoader(testset, batch_size=64, shuffle=False, num_workers=2)"
      ]
    },
    {
      "cell_type": "code",
      "execution_count": 8,
      "metadata": {
        "colab": {
          "base_uri": "https://localhost:8080/"
        },
        "id": "iy6D1Rg_07fD",
        "outputId": "c50fb7db-68fa-48e4-effa-f42feb0a6815"
      },
      "outputs": [
        {
          "output_type": "execute_result",
          "data": {
            "text/plain": [
              "(torch.Size([128, 1, 28, 28]), torch.Size([128]))"
            ]
          },
          "metadata": {},
          "execution_count": 8
        }
      ],
      "source": [
        "# 128 : batch-size\n",
        "# 1 : 흑백\n",
        "# 28x28 : pixel-size\n",
        "\n",
        "images128, labels128 = next(iter(train_loader128))\n",
        "images128.shape, labels128.shape"
      ]
    },
    {
      "cell_type": "code",
      "execution_count": 9,
      "metadata": {
        "colab": {
          "base_uri": "https://localhost:8080/"
        },
        "id": "AotS6123m9sK",
        "outputId": "16e30e34-90d7-4e81-b730-d75b5b065d39"
      },
      "outputs": [
        {
          "output_type": "execute_result",
          "data": {
            "text/plain": [
              "(torch.Size([64, 1, 28, 28]), torch.Size([64]))"
            ]
          },
          "metadata": {},
          "execution_count": 9
        }
      ],
      "source": [
        "# 64 : batch-size\n",
        "# 1 : 흑백\n",
        "# 28x28 : pixel-size\n",
        "\n",
        "images64, labels64 = next(iter(train_loader64))\n",
        "images64.shape, labels64.shape"
      ]
    },
    {
      "cell_type": "code",
      "execution_count": 10,
      "metadata": {
        "id": "g4Nd4uLGTEDy"
      },
      "outputs": [],
      "source": [
        "# 숫자 label에 해당되는 값\n",
        "\n",
        "labels_map = {\n",
        "    0: 'T-Shirt',\n",
        "    1: 'Trouser',\n",
        "    2: 'Pullover',\n",
        "    3: 'Dress',\n",
        "    4: 'Coat',\n",
        "    5: 'Sandal',\n",
        "    6: 'Shirt',\n",
        "    7: 'Sneaker',\n",
        "    8: 'Bag',\n",
        "    9: 'Ankle Boot'\n",
        "}"
      ]
    },
    {
      "cell_type": "code",
      "execution_count": 11,
      "metadata": {
        "colab": {
          "base_uri": "https://localhost:8080/",
          "height": 191
        },
        "id": "_u5_UEAH09SB",
        "outputId": "c434307f-da09-4d20-b55b-db77413c0c0b"
      },
      "outputs": [
        {
          "output_type": "display_data",
          "data": {
            "text/plain": [
              "<Figure size 864x864 with 4 Axes>"
            ],
            "image/png": "[encoded data removed]"
          },
          "metadata": {}
        }
      ],
      "source": [
        "# 데이터 확인\n",
        "\n",
        "figure = plt.figure(figsize=(12,12))\n",
        "cols, rows = 4, 1\n",
        "\n",
        "for i in range(1, cols * rows + 1):\n",
        "    image = images128[i].squeeze()\n",
        "    label_idx = labels128[i].item() # y_label\n",
        "    label = labels_map[label_idx] # 위에서 해당되는 label\n",
        "\n",
        "    figure.add_subplot(rows, cols, i)\n",
        "    plt.title(label)\n",
        "    plt.axis('off')\n",
        "    plt.imshow(image, cmap='gray')\n",
        "\n",
        "plt.show()"
      ]
    },
    {
      "cell_type": "markdown",
      "metadata": {
        "id": "EFPYE3UUnpmX"
      },
      "source": [
        "## 모델 1 생성\n",
        "* 10개의 convolution-layer(Conv2d)와 2개의 fully-connected(fc)로 이루어진 모델\n",
        "* Total params: 28,784"
      ]
    },
    {
      "cell_type": "markdown",
      "metadata": {
        "id": "orF-z9choFaB"
      },
      "source": [
        "input-data size\n",
        "* train_loader128(batch-size;128) : 128, 1, 28, 28\n",
        "* train_loader64(batch-size;64) : 64, 1, 28, 28\n",
        "\n",
        "\n",
        "구현해야하는 모델 정보<br>\n",
        "* convolution-layer 1\n",
        "* maxpooling-layer\n",
        "* convolution-layer 2\n",
        "* convolution-layer 3\n",
        "* convolution-layer 4\n",
        "* convolution-layer 5\n",
        "* convolution-layer 6\n",
        "* convolution-layer 7\n",
        "* convolution-layer 8\n",
        "* convolution-layer 9\n",
        "* maxpooling-layer\n",
        "* convolution-layer 10\n",
        "* flatten\n",
        "* fc1\n",
        "* fc2\n",
        "\n",
        "추가 정보\n",
        "* 활성화함수 : relu\n",
        "(단, maxpooling과 마지막 fc2에는 보통적으로 활성화함수를 사용하지 않는다.)\n",
        "* flatten의 경우, weights가 들어가지 않는다. 즉, layer라고는 볼 수 없다.\n",
        "\n",
        "모델의 layer를 통과함에 따라 데이터의 크기 변화는 다음과 같다.\n",
        "1. batch-size128 -> torch.Size([128, 1, 28, 28]) 으로 시작\n",
        "2. batch-size;64 -> torch.Size([64, 1, 28, 28]) 으로 시작\n",
        "> * torch.Size([128 or 64, 5, 30, 30])\n",
        "> * torch.Size([128 or 64, 5, 15, 15])\n",
        "> * torch.Size([128 or 64, 7, 15, 15])\n",
        "> * torch.Size([128 or 64, 16, 16, 16])\n",
        "> * torch.Size([128 or 64, 19, 15, 15])\n",
        "> * torch.Size([128 or 64, 29, 13, 13])\n",
        "> * torch.Size([128 or 64, 29, 14, 14])\n",
        "> * torch.Size([128 or 64, 6, 12, 12])\n",
        "> * torch.Size([128 or 64, 2, 12, 12])\n",
        "> * torch.Size([128 or 64, 10, 7, 7])\n",
        "> * torch.Size([128 or 64, 20, 7, 7])\n",
        "> * torch.Size([128 or 64, 20, 3, 3])\n",
        "> * torch.Size([128 or 64, 180])\n",
        "> * torch.Size([128 or 64, 86])\n",
        "> * torch.Size([128 or 64, 10]) "
      ]
    },
    {
      "cell_type": "code",
      "execution_count": 12,
      "metadata": {
        "id": "EedVZU7Knv0X"
      },
      "outputs": [],
      "source": [
        "class CNN_Model1(nn.Module):\n",
        "    def __init__(self):\n",
        "        super(CNN_Model1, self).__init__()\n",
        "\n",
        "\n",
        "\n",
        "        self.conv1 = nn.Conv2d(in_channels=1, out_channels=5, kernel_size=3, stride=1, padding=2)\n",
        "        # in-channels = 1 <- 흑/백\n",
        "        # out-channels = 5\n",
        "        # kernel_size / filter-size = 2x2 -> f=3\n",
        "        # stride = 1(default) -> s=1\n",
        "        # padding = 2(default) -> p=2\n",
        "        # input-data pixel size = 28x28 -> n=28\n",
        "        # (n-f+2p)/s + 1 = new n\n",
        "        # (28-3+2x2)/1 + 1 = 30\n",
        "        self.maxpool1 = nn.MaxPool2d(2)\n",
        "\n",
        "        # maxpool : n=30 -> 15\n",
        "\n",
        "        self.conv2 = nn.Conv2d(5, 7, 3, padding=1)\n",
        "        # in-channels = 5 <- 이전것의 out-channels\n",
        "        # out-channels = 7\n",
        "        # filter-size = 3x3\n",
        "        # stride = 1(default)\n",
        "        # padding = 1\n",
        "        # (n-f+2p)/s + 1 = new n    \n",
        "        # (15-3+2x1)/1 + 1 = 15\n",
        "\n",
        "        self.conv3 = nn.Conv2d(7, 16, 2, padding = 1)\n",
        "        #(15-2+2x1)/1+1 = 16\n",
        "        self.conv4 = nn.Conv2d(16,19,2, padding = 0)\n",
        "        #(16-2)/1+1 = 15\n",
        "        self.conv5 = nn.Conv2d(19,29,3, padding = 0)\n",
        "        #(15-3)/1+1 = 13\n",
        "        self.conv6 = nn.Conv2d(29,29,2, padding=1)\n",
        "        #(13-2+2)/1+1 = 14\n",
        "        self.conv7 = nn.Conv2d(29,6,3, padding =0)\n",
        "        #(14-3)/1+1 = 12\n",
        "        self.conv8 = nn.Conv2d(6,2,1,padding=0)\n",
        "        #(12-1)/1+1 = 12\n",
        "        self.conv9 = nn.Conv2d(2,10,2, stride=2,padding=1)\n",
        "        #(12-2+2)/2+1 = 7\n",
        "        self.conv10 = nn.Conv2d(10,20,1, padding=0)\n",
        "        #(7-1)/1+1 = 7\n",
        "\n",
        "\n",
        "\n",
        "        self.fc1 = nn.Linear(20 * 7 * 7, 120)\n",
        "        self.fc2 = nn.Linear(120, 86)\n",
        "        self.fc3 = nn.Linear(86, 10) # 10 : 10개의 category\n",
        "\n",
        "\n",
        "\n",
        "    def forward(self, x):\n",
        "        \n",
        "        x = F.relu(self.conv1(x))\n",
        "        \n",
        "        x = F.max_pool2d(x, (2,2))\n",
        "        \n",
        "        x = F.relu(self.conv2(x))\n",
        "        \n",
        "        x = F.relu(self.conv3(x))\n",
        "        x = F.relu(self.conv4(x))\n",
        "        x = F.relu(self.conv5(x))\n",
        "        x = F.relu(self.conv6(x)) \n",
        "        x = F.relu(self.conv7(x))    \n",
        "        x = F.relu(self.conv8(x))\n",
        "        x = F.relu(self.conv9(x))\n",
        "        x = F.relu(self.conv10(x))   \n",
        "       \n",
        "       \n",
        "\n",
        "        x = x.view(-1, self.num_flat_features(x)) # num_flat_features : 아래에서 정의\n",
        "        x = F.relu(self.fc1(x))\n",
        "        x = F.relu(self.fc2(x))\n",
        "        x = self.fc3(x)\n",
        "\n",
        "\n",
        "        return x\n",
        "    \n",
        "    def num_flat_features(self, x): # 처음 dim-size을 제외하고, 모두 곱한 값을 반환해준다.\n",
        "        size = x.size()[1:]\n",
        "        num_features = 1\n",
        "        for s in size:\n",
        "            num_features *= s\n",
        "        \n",
        "        return num_features"
      ]
    },
    {
      "cell_type": "code",
      "execution_count": 13,
      "metadata": {
        "colab": {
          "base_uri": "https://localhost:8080/"
        },
        "id": "RiMZ7sX6oDn3",
        "outputId": "6cf3dbc6-4724-4476-ed7f-fedd6ec85325"
      },
      "outputs": [
        {
          "output_type": "stream",
          "name": "stdout",
          "text": [
            "CNN_Model1(\n",
            "  (conv1): Conv2d(1, 5, kernel_size=(3, 3), stride=(1, 1), padding=(2, 2))\n",
            "  (maxpool1): MaxPool2d(kernel_size=2, stride=2, padding=0, dilation=1, ceil_mode=False)\n",
            "  (conv2): Conv2d(5, 7, kernel_size=(3, 3), stride=(1, 1), padding=(1, 1))\n",
            "  (conv3): Conv2d(7, 16, kernel_size=(2, 2), stride=(1, 1), padding=(1, 1))\n",
            "  (conv4): Conv2d(16, 19, kernel_size=(2, 2), stride=(1, 1))\n",
            "  (conv5): Conv2d(19, 29, kernel_size=(3, 3), stride=(1, 1))\n",
            "  (conv6): Conv2d(29, 29, kernel_size=(2, 2), stride=(1, 1), padding=(1, 1))\n",
            "  (conv7): Conv2d(29, 6, kernel_size=(3, 3), stride=(1, 1))\n",
            "  (conv8): Conv2d(6, 2, kernel_size=(1, 1), stride=(1, 1))\n",
            "  (conv9): Conv2d(2, 10, kernel_size=(2, 2), stride=(2, 2), padding=(1, 1))\n",
            "  (conv10): Conv2d(10, 20, kernel_size=(1, 1), stride=(1, 1))\n",
            "  (fc1): Linear(in_features=980, out_features=120, bias=True)\n",
            "  (fc2): Linear(in_features=120, out_features=86, bias=True)\n",
            "  (fc3): Linear(in_features=86, out_features=10, bias=True)\n",
            ")\n"
          ]
        }
      ],
      "source": [
        "# 모델객체 생성\n",
        "DeepConv_net128 = CNN_Model1().to(device)\n",
        "DeepConv_net64 = CNN_Model1().to(device)\n",
        "\n",
        "print(DeepConv_net128)"
      ]
    },
    {
      "cell_type": "code",
      "execution_count": 14,
      "metadata": {
        "colab": {
          "base_uri": "https://localhost:8080/"
        },
        "id": "8gBjDmoc7fJh",
        "outputId": "1ca33f8d-f2ed-4f09-b501-75d6589eb5dd"
      },
      "outputs": [
        {
          "output_type": "execute_result",
          "data": {
            "text/plain": [
              "torch.Size([128, 1, 28, 28])"
            ]
          },
          "metadata": {},
          "execution_count": 14
        }
      ],
      "source": [
        "input = images128.to(device)\n",
        "input.size()"
      ]
    },
    {
      "cell_type": "code",
      "execution_count": 15,
      "metadata": {
        "colab": {
          "base_uri": "https://localhost:8080/"
        },
        "id": "tflPlTme7h9x",
        "outputId": "db01caa0-0120-4a3d-f380-ca1ad0cd4933"
      },
      "outputs": [
        {
          "output_type": "execute_result",
          "data": {
            "text/plain": [
              "torch.Size([128, 10])"
            ]
          },
          "metadata": {},
          "execution_count": 15
        }
      ],
      "source": [
        "output = DeepConv_net128.forward(input)\n",
        "output.size()"
      ]
    },
    {
      "cell_type": "code",
      "execution_count": 16,
      "metadata": {
        "colab": {
          "base_uri": "https://localhost:8080/"
        },
        "id": "DSH3qCADujAi",
        "outputId": "2503f8c5-6519-4fc3-ddee-abd1257e68de"
      },
      "outputs": [
        {
          "output_type": "stream",
          "name": "stdout",
          "text": [
            "----------------------------------------------------------------\n",
            "        Layer (type)               Output Shape         Param #\n",
            "================================================================\n",
            "            Conv2d-1           [128, 5, 30, 30]              50\n",
            "            Conv2d-2           [128, 7, 15, 15]             322\n",
            "            Conv2d-3          [128, 16, 16, 16]             464\n",
            "            Conv2d-4          [128, 19, 15, 15]           1,235\n",
            "            Conv2d-5          [128, 29, 13, 13]           4,988\n",
            "            Conv2d-6          [128, 29, 14, 14]           3,393\n",
            "            Conv2d-7           [128, 6, 12, 12]           1,572\n",
            "            Conv2d-8           [128, 2, 12, 12]              14\n",
            "            Conv2d-9            [128, 10, 7, 7]              90\n",
            "           Conv2d-10            [128, 20, 7, 7]             220\n",
            "           Linear-11                 [128, 120]         117,720\n",
            "           Linear-12                  [128, 86]          10,406\n",
            "           Linear-13                  [128, 10]             870\n",
            "================================================================\n",
            "Total params: 141,344\n",
            "Trainable params: 141,344\n",
            "Non-trainable params: 0\n",
            "----------------------------------------------------------------\n",
            "Input size (MB): 0.38\n",
            "Forward/backward pass size (MB): 27.22\n",
            "Params size (MB): 0.54\n",
            "Estimated Total Size (MB): 28.14\n",
            "----------------------------------------------------------------\n"
          ]
        }
      ],
      "source": [
        "summary(DeepConv_net128, input_size=(1, 28, 28), batch_size=128)"
      ]
    },
    {
      "cell_type": "code",
      "execution_count": 17,
      "metadata": {
        "colab": {
          "base_uri": "https://localhost:8080/"
        },
        "id": "jcybKk5Nvj4Z",
        "outputId": "185d2620-7954-456e-bf6b-f3daee2d3667"
      },
      "outputs": [
        {
          "output_type": "execute_result",
          "data": {
            "text/plain": [
              "torch.Size([64, 1, 28, 28])"
            ]
          },
          "metadata": {},
          "execution_count": 17
        }
      ],
      "source": [
        "input = images64.to(device)\n",
        "input.size()"
      ]
    },
    {
      "cell_type": "code",
      "execution_count": 18,
      "metadata": {
        "colab": {
          "base_uri": "https://localhost:8080/"
        },
        "id": "y2PZCHyyvj4a",
        "outputId": "228eb4cc-7626-4d4f-8a1a-372d10fb4093"
      },
      "outputs": [
        {
          "output_type": "execute_result",
          "data": {
            "text/plain": [
              "torch.Size([64, 10])"
            ]
          },
          "metadata": {},
          "execution_count": 18
        }
      ],
      "source": [
        "output = DeepConv_net64.forward(input)\n",
        "output.size()"
      ]
    },
    {
      "cell_type": "code",
      "execution_count": 19,
      "metadata": {
        "colab": {
          "base_uri": "https://localhost:8080/"
        },
        "id": "uh1pmRXcvZP8",
        "outputId": "44ee8ae1-0a30-49f5-8e27-48b47c7d3f66"
      },
      "outputs": [
        {
          "output_type": "stream",
          "name": "stdout",
          "text": [
            "----------------------------------------------------------------\n",
            "        Layer (type)               Output Shape         Param #\n",
            "================================================================\n",
            "            Conv2d-1            [64, 5, 30, 30]              50\n",
            "            Conv2d-2            [64, 7, 15, 15]             322\n",
            "            Conv2d-3           [64, 16, 16, 16]             464\n",
            "            Conv2d-4           [64, 19, 15, 15]           1,235\n",
            "            Conv2d-5           [64, 29, 13, 13]           4,988\n",
            "            Conv2d-6           [64, 29, 14, 14]           3,393\n",
            "            Conv2d-7            [64, 6, 12, 12]           1,572\n",
            "            Conv2d-8            [64, 2, 12, 12]              14\n",
            "            Conv2d-9             [64, 10, 7, 7]              90\n",
            "           Conv2d-10             [64, 20, 7, 7]             220\n",
            "           Linear-11                  [64, 120]         117,720\n",
            "           Linear-12                   [64, 86]          10,406\n",
            "           Linear-13                   [64, 10]             870\n",
            "================================================================\n",
            "Total params: 141,344\n",
            "Trainable params: 141,344\n",
            "Non-trainable params: 0\n",
            "----------------------------------------------------------------\n",
            "Input size (MB): 0.19\n",
            "Forward/backward pass size (MB): 13.61\n",
            "Params size (MB): 0.54\n",
            "Estimated Total Size (MB): 14.34\n",
            "----------------------------------------------------------------\n"
          ]
        }
      ],
      "source": [
        "summary(DeepConv_net64, input_size=(1, 28, 28), batch_size=64)"
      ]
    },
    {
      "cell_type": "markdown",
      "metadata": {
        "id": "xVxKI_rwCvhI"
      },
      "source": [
        "## 모델 2 생성\n",
        "* 2개의 convolution-layer(Conv2d)와 5개의 fully-connected(fc)로 이루어진 모델\n",
        "* Total params: 9,516,488"
      ]
    },
    {
      "cell_type": "markdown",
      "metadata": {
        "id": "uN5s0Re-CvhI"
      },
      "source": [
        "input-data size\n",
        "* train_loader128(batch-size;128) : 128, 1, 28, 28\n",
        "* train_loader64(batch-size;64) : 64, 1, 28, 28\n",
        "\n",
        "\n",
        "구현해야하는 모델 정보<br>\n",
        "* convolution-layer 1\n",
        "* maxpooling-layer\n",
        "* convolution-layer 2\n",
        "* flatten\n",
        "* fc1\n",
        "* fc2\n",
        "* fc3\n",
        "* fc4\n",
        "* fc5\n",
        "\n",
        "추가 정보\n",
        "* 활성화함수 : relu\n",
        "(단, maxpooling과 마지막 fc5에는 보통적으로 활성화함수를 사용하지 않는다.)\n",
        "* flatten의 경우, weights가 들어가지 않는다. 즉, layer라고는 볼 수 없다.\n",
        "\n",
        "모델의 layer를 통과함에 따라 데이터의 크기 변화는 다음과 같다.\n",
        "\n",
        "1. batch-size128 -> torch.Size([128, 1, 28, 28]) 으로 시작\n",
        "2. batch-size;64 -> torch.Size([64, 1, 28, 28]) 으로 시작\n",
        "> * torch.Size([128 or 64, 5, 30, 30])\n",
        "> * torch.Size([128 or 64, 5, 15, 15])\n",
        "> * torch.Size([128 or 64, 7, 15, 15])\n",
        "> * torch.Size([128 or 64, 1575])\n",
        "> * torch.Size([128 or 64, 3000])\n",
        "> * torch.Size([128 or 64, 1500])\n",
        "> * torch.Size([128 or 64, 180])\n",
        "> * torch.Size([128 or 64, 86])\n",
        "> * torch.Size([128 or 64, 10])"
      ]
    },
    {
      "cell_type": "code",
      "execution_count": 20,
      "metadata": {
        "id": "JfSM-k0DCvhI"
      },
      "outputs": [],
      "source": [
        "class CNN_Model2(nn.Module):\n",
        "    def __init__(self):\n",
        "        super(CNN_Model2, self).__init__()\n",
        "\n",
        "        self.conv1 = nn.Conv2d(in_channels=1, out_channels=5, kernel_size=3, stride=1, padding=2)\n",
        "        self.conv2 = nn.Conv2d(5, 7, 3, padding=1)\n",
        "        self.fc1 = nn.Linear(7 * 15 * 15, 3000)\n",
        "        self.fc2 = nn.Linear(3000, 1500)\n",
        "        self.fc3 = nn.Linear(1500, 180) \n",
        "        self.fc4 = nn.Linear(180,86)\n",
        "        self.fc5 = nn.Linear(86,10)\n",
        "        \n",
        "\n",
        "    def forward(self, x):\n",
        "        x = F.relu(self.conv1(x))\n",
        "        x = F.max_pool2d(x, (2,2))\n",
        "        x = F.relu(self.conv2(x))\n",
        "\n",
        "        x = x.view(-1, self.num_flat_features(x))\n",
        "\n",
        "        x = F.relu(self.fc1(x))\n",
        "        x = F.relu(self.fc2(x))\n",
        "        x = F.relu(self.fc3(x))\n",
        "        x = F.relu(self.fc4(x))\n",
        "        x = self.fc5(x)\n",
        "        return x\n",
        "    \n",
        "    def num_flat_features(self, x): # 처음 dim-size을 제외하고, 모두 곱한 값을 반환해준다.\n",
        "        size = x.size()[1:]\n",
        "        num_features = 1\n",
        "        for s in size:\n",
        "            num_features *= s\n",
        "        \n",
        "        return num_features"
      ]
    },
    {
      "cell_type": "code",
      "execution_count": 21,
      "metadata": {
        "colab": {
          "base_uri": "https://localhost:8080/"
        },
        "id": "QQ_AnPi5CvhI",
        "outputId": "97c67651-e984-45c4-8e0d-daa2900e0526"
      },
      "outputs": [
        {
          "output_type": "stream",
          "name": "stdout",
          "text": [
            "CNN_Model2(\n",
            "  (conv1): Conv2d(1, 5, kernel_size=(3, 3), stride=(1, 1), padding=(2, 2))\n",
            "  (conv2): Conv2d(5, 7, kernel_size=(3, 3), stride=(1, 1), padding=(1, 1))\n",
            "  (fc1): Linear(in_features=1575, out_features=3000, bias=True)\n",
            "  (fc2): Linear(in_features=3000, out_features=1500, bias=True)\n",
            "  (fc3): Linear(in_features=1500, out_features=180, bias=True)\n",
            "  (fc4): Linear(in_features=180, out_features=86, bias=True)\n",
            "  (fc5): Linear(in_features=86, out_features=10, bias=True)\n",
            ")\n"
          ]
        }
      ],
      "source": [
        "# 모델객체 생성\n",
        "DeepFC_net128 = CNN_Model2().to(device)\n",
        "DeepFC_net64 = CNN_Model2().to(device)\n",
        "\n",
        "print(DeepFC_net128)"
      ]
    },
    {
      "cell_type": "code",
      "execution_count": 22,
      "metadata": {
        "colab": {
          "base_uri": "https://localhost:8080/"
        },
        "id": "S9IVOG3pwgoS",
        "outputId": "048cc61c-8c0f-4306-ae14-63286e28868d"
      },
      "outputs": [
        {
          "output_type": "execute_result",
          "data": {
            "text/plain": [
              "torch.Size([128, 1, 28, 28])"
            ]
          },
          "metadata": {},
          "execution_count": 22
        }
      ],
      "source": [
        "input = images128.to(device)\n",
        "input.size()"
      ]
    },
    {
      "cell_type": "code",
      "execution_count": 23,
      "metadata": {
        "colab": {
          "base_uri": "https://localhost:8080/"
        },
        "id": "p4ydm5qCwgoT",
        "outputId": "80fde6f1-b3f3-47fa-d374-d687379717fd"
      },
      "outputs": [
        {
          "output_type": "execute_result",
          "data": {
            "text/plain": [
              "torch.Size([128, 10])"
            ]
          },
          "metadata": {},
          "execution_count": 23
        }
      ],
      "source": [
        "output = DeepFC_net128.forward(input)\n",
        "output.size()"
      ]
    },
    {
      "cell_type": "code",
      "execution_count": 24,
      "metadata": {
        "colab": {
          "base_uri": "https://localhost:8080/"
        },
        "id": "Q3uN6Dw6wgoT",
        "outputId": "0e178f80-4359-44d6-8348-0a03a6d994e9"
      },
      "outputs": [
        {
          "output_type": "stream",
          "name": "stdout",
          "text": [
            "----------------------------------------------------------------\n",
            "        Layer (type)               Output Shape         Param #\n",
            "================================================================\n",
            "            Conv2d-1           [128, 5, 30, 30]              50\n",
            "            Conv2d-2           [128, 7, 15, 15]             322\n",
            "            Linear-3                [128, 3000]       4,728,000\n",
            "            Linear-4                [128, 1500]       4,501,500\n",
            "            Linear-5                 [128, 180]         270,180\n",
            "            Linear-6                  [128, 86]          15,566\n",
            "            Linear-7                  [128, 10]             870\n",
            "================================================================\n",
            "Total params: 9,516,488\n",
            "Trainable params: 9,516,488\n",
            "Non-trainable params: 0\n",
            "----------------------------------------------------------------\n",
            "Input size (MB): 0.38\n",
            "Forward/backward pass size (MB): 10.60\n",
            "Params size (MB): 36.30\n",
            "Estimated Total Size (MB): 47.28\n",
            "----------------------------------------------------------------\n"
          ]
        }
      ],
      "source": [
        "summary(DeepFC_net128, input_size=(1, 28, 28), batch_size=128)"
      ]
    },
    {
      "cell_type": "code",
      "execution_count": 25,
      "metadata": {
        "colab": {
          "base_uri": "https://localhost:8080/"
        },
        "id": "d9t36x7bwgoT",
        "outputId": "893934de-0eef-42d9-ffd8-d3deacba794b"
      },
      "outputs": [
        {
          "output_type": "execute_result",
          "data": {
            "text/plain": [
              "torch.Size([64, 1, 28, 28])"
            ]
          },
          "metadata": {},
          "execution_count": 25
        }
      ],
      "source": [
        "input = images64.to(device)\n",
        "input.size()"
      ]
    },
    {
      "cell_type": "code",
      "execution_count": 26,
      "metadata": {
        "colab": {
          "base_uri": "https://localhost:8080/"
        },
        "id": "GFHweMakwgoT",
        "outputId": "a1cb7771-3462-4ce9-8199-75a53ec5d7f9"
      },
      "outputs": [
        {
          "output_type": "execute_result",
          "data": {
            "text/plain": [
              "torch.Size([64, 10])"
            ]
          },
          "metadata": {},
          "execution_count": 26
        }
      ],
      "source": [
        "output = DeepFC_net64.forward(input)\n",
        "output.size()"
      ]
    },
    {
      "cell_type": "code",
      "execution_count": 27,
      "metadata": {
        "colab": {
          "base_uri": "https://localhost:8080/"
        },
        "id": "2VIZ4WCCwgoT",
        "outputId": "d64d8b01-15d2-4490-b5a5-f63c6c50b051"
      },
      "outputs": [
        {
          "output_type": "stream",
          "name": "stdout",
          "text": [
            "----------------------------------------------------------------\n",
            "        Layer (type)               Output Shape         Param #\n",
            "================================================================\n",
            "            Conv2d-1            [64, 5, 30, 30]              50\n",
            "            Conv2d-2            [64, 7, 15, 15]             322\n",
            "            Linear-3                 [64, 3000]       4,728,000\n",
            "            Linear-4                 [64, 1500]       4,501,500\n",
            "            Linear-5                  [64, 180]         270,180\n",
            "            Linear-6                   [64, 86]          15,566\n",
            "            Linear-7                   [64, 10]             870\n",
            "================================================================\n",
            "Total params: 9,516,488\n",
            "Trainable params: 9,516,488\n",
            "Non-trainable params: 0\n",
            "----------------------------------------------------------------\n",
            "Input size (MB): 0.19\n",
            "Forward/backward pass size (MB): 5.30\n",
            "Params size (MB): 36.30\n",
            "Estimated Total Size (MB): 41.79\n",
            "----------------------------------------------------------------\n"
          ]
        }
      ],
      "source": [
        "summary(DeepFC_net64, input_size=(1, 28, 28), batch_size=64)"
      ]
    },
    {
      "cell_type": "markdown",
      "metadata": {
        "id": "klpXGc2tCimP"
      },
      "source": [
        "## 손실함수와 옵티마이저"
      ]
    },
    {
      "cell_type": "code",
      "execution_count": 28,
      "metadata": {
        "id": "69AHX-ZXClOm"
      },
      "outputs": [],
      "source": [
        "criterion = nn.CrossEntropyLoss()\n",
        "\n",
        "optimizerDC_128 = optim.SGD(DeepConv_net128.parameters(), lr=0.001, momentum=0.9)\n",
        "optimizerDC_64 = optim.SGD(DeepConv_net64.parameters(), lr=0.001, momentum=0.9)\n",
        "optimizerFC_128 = optim.SGD(DeepFC_net128.parameters(), lr=0.001, momentum=0.9)\n",
        "optimizerFC_64 = optim.SGD(DeepFC_net64.parameters(), lr=0.001, momentum=0.9)"
      ]
    },
    {
      "cell_type": "markdown",
      "metadata": {
        "id": "huNh3EnhJLyh"
      },
      "source": [
        "## 모델 학습"
      ]
    },
    {
      "cell_type": "markdown",
      "metadata": {
        "id": "W-2Q7c6-JW9z"
      },
      "source": [
        "### 1. DeepConv_net128\n",
        "* 10개의 Convolution-layer & 2개의 fc-layer\n",
        "* 128 batch-size"
      ]
    },
    {
      "cell_type": "code",
      "execution_count": 29,
      "metadata": {
        "colab": {
          "base_uri": "https://localhost:8080/"
        },
        "id": "y-_UvdNWJR-r",
        "outputId": "1e0099be-540a-4b04-e9d5-63efebe7c085"
      },
      "outputs": [
        {
          "output_type": "stream",
          "name": "stdout",
          "text": [
            "Epoch: 1, Iter: 100, Loss: 0.11521510362625122\n",
            "Epoch: 1, Iter: 200, Loss: 0.11515640997886657\n",
            "Epoch: 1, Iter: 300, Loss: 0.11516936004161835\n",
            "Epoch: 1, Iter: 400, Loss: 0.11514688873291015\n",
            "Epoch: 2, Iter: 100, Loss: 0.115143261551857\n",
            "Epoch: 2, Iter: 200, Loss: 0.1151370986700058\n",
            "Epoch: 2, Iter: 300, Loss: 0.11514263224601745\n",
            "Epoch: 2, Iter: 400, Loss: 0.11513822615146636\n",
            "Epoch: 3, Iter: 100, Loss: 0.11513790142536164\n",
            "Epoch: 3, Iter: 200, Loss: 0.11512623369693756\n",
            "Epoch: 3, Iter: 300, Loss: 0.11513991081714631\n",
            "Epoch: 3, Iter: 400, Loss: 0.11513168406486511\n",
            "Epoch: 4, Iter: 100, Loss: 0.11513318526744842\n",
            "Epoch: 4, Iter: 200, Loss: 0.11512881267070771\n",
            "Epoch: 4, Iter: 300, Loss: 0.11513296782970428\n",
            "Epoch: 4, Iter: 400, Loss: 0.11513481569290161\n",
            "Epoch: 5, Iter: 100, Loss: 0.11512769675254822\n",
            "Epoch: 5, Iter: 200, Loss: 0.1151345956325531\n",
            "Epoch: 5, Iter: 300, Loss: 0.1151353030204773\n",
            "Epoch: 5, Iter: 400, Loss: 0.11513162887096405\n",
            "Epoch: 6, Iter: 100, Loss: 0.11513179850578308\n",
            "Epoch: 6, Iter: 200, Loss: 0.11513047766685486\n",
            "Epoch: 6, Iter: 300, Loss: 0.11513304567337036\n",
            "Epoch: 6, Iter: 400, Loss: 0.11513284230232239\n",
            "Epoch: 7, Iter: 100, Loss: 0.11513055074214935\n",
            "Epoch: 7, Iter: 200, Loss: 0.11513192582130433\n",
            "Epoch: 7, Iter: 300, Loss: 0.1151316293478012\n",
            "Epoch: 7, Iter: 400, Loss: 0.11513168179988861\n",
            "Epoch: 8, Iter: 100, Loss: 0.11512966346740723\n",
            "Epoch: 8, Iter: 200, Loss: 0.11513347709178924\n",
            "Epoch: 8, Iter: 300, Loss: 0.11513446629047394\n",
            "Epoch: 8, Iter: 400, Loss: 0.1151317697763443\n",
            "Epoch: 9, Iter: 100, Loss: 0.11513064551353455\n",
            "Epoch: 9, Iter: 200, Loss: 0.1151315895318985\n",
            "Epoch: 9, Iter: 300, Loss: 0.11513109469413757\n",
            "Epoch: 9, Iter: 400, Loss: 0.11513395845890045\n",
            "Epoch: 10, Iter: 100, Loss: 0.1151316865682602\n",
            "Epoch: 10, Iter: 200, Loss: 0.11513066613674164\n",
            "Epoch: 10, Iter: 300, Loss: 0.11513362026214599\n",
            "Epoch: 10, Iter: 400, Loss: 0.115133638381958\n"
          ]
        }
      ],
      "source": [
        "for epoch in range(10):\n",
        "\n",
        "    running_loss = 0.0\n",
        "\n",
        "    for i, data in enumerate(train_loader128, start=0):\n",
        "        inputs, labels = data[0].to(device), data[1].to(device)\n",
        "\n",
        "        optimizerDC_128.zero_grad() # epoch마다 gradient 0으로 초기화\n",
        "\n",
        "        outputs = DeepConv_net128(inputs) # y_pred = f(X)\n",
        "        loss = criterion(outputs, labels) # CrossEntropyLoss; 0~1 사이값\n",
        "        loss.backward() # back-propagation; gradient 계산\n",
        "        optimizerDC_128.step() # parameters(weights) update\n",
        "\n",
        "        running_loss += loss.item() # 그냥 전체적인 비교를 위해 누적함\n",
        "\n",
        "        if i % 100 == 99: # 100번 마다 확인; epoch=10, iter(=i)=469, batch=128\n",
        "            print('Epoch: {}, Iter: {}, Loss: {}'.format(epoch+1, i+1, running_loss/2000))\n",
        "            running_loss = 0.0"
      ]
    },
    {
      "cell_type": "code",
      "execution_count": 30,
      "metadata": {
        "colab": {
          "base_uri": "https://localhost:8080/"
        },
        "id": "dNa8-7SC5u2a",
        "outputId": "20ed0347-0d06-4e88-d6a5-92965528b50f"
      },
      "outputs": [
        {
          "output_type": "stream",
          "name": "stdout",
          "text": [
            "Epoch: 1, Iter: 100, Loss: 0.11512876296043396\n",
            "Epoch: 1, Iter: 200, Loss: 0.1151330064535141\n",
            "Epoch: 1, Iter: 300, Loss: 0.11513431465625763\n",
            "Epoch: 1, Iter: 400, Loss: 0.11513180279731751\n",
            "Epoch: 2, Iter: 100, Loss: 0.11512945127487183\n",
            "Epoch: 2, Iter: 200, Loss: 0.11513118469715118\n",
            "Epoch: 2, Iter: 300, Loss: 0.11513137948513032\n",
            "Epoch: 2, Iter: 400, Loss: 0.11513313126564026\n",
            "Epoch: 3, Iter: 100, Loss: 0.11513041937351227\n",
            "Epoch: 3, Iter: 200, Loss: 0.11513117873668671\n",
            "Epoch: 3, Iter: 300, Loss: 0.1151348237991333\n",
            "Epoch: 3, Iter: 400, Loss: 0.11513174557685853\n",
            "Epoch: 4, Iter: 100, Loss: 0.11512952053546906\n",
            "Epoch: 4, Iter: 200, Loss: 0.11513404476642608\n",
            "Epoch: 4, Iter: 300, Loss: 0.11513082063198089\n",
            "Epoch: 4, Iter: 400, Loss: 0.11513312971591949\n",
            "Epoch: 5, Iter: 100, Loss: 0.11512862455844879\n",
            "Epoch: 5, Iter: 200, Loss: 0.11513316261768342\n",
            "Epoch: 5, Iter: 300, Loss: 0.11513161289691926\n",
            "Epoch: 5, Iter: 400, Loss: 0.1151351135969162\n"
          ]
        }
      ],
      "source": [
        "for epoch in range(5):\n",
        "\n",
        "    running_loss = 0.0\n",
        "\n",
        "    for i, data in enumerate(train_loader128, start=0):\n",
        "        inputs, labels = data[0].to(device), data[1].to(device)\n",
        "\n",
        "        optimizerDC_128.zero_grad() # epoch마다 gradient 0으로 초기화\n",
        "\n",
        "        outputs = DeepConv_net128(inputs) # y_pred = f(X)\n",
        "        loss = criterion(outputs, labels) # CrossEntropyLoss; 0~1 사이값\n",
        "        loss.backward() # back-propagation; gradient 계산\n",
        "        optimizerDC_128.step() # parameters(weights) update\n",
        "\n",
        "        running_loss += loss.item() # 그냥 전체적인 비교를 위해 누적함\n",
        "\n",
        "        if i % 100 == 99: # 100번 마다 확인; epoch=10, iter(=i)=469, batch=128\n",
        "            print('Epoch: {}, Iter: {}, Loss: {}'.format(epoch+1, i+1, running_loss/2000))\n",
        "            running_loss = 0.0"
      ]
    },
    {
      "cell_type": "markdown",
      "metadata": {
        "id": "FOUBE2UfKS6D"
      },
      "source": [
        "### 2. DeepConv_net64\n",
        "* 10개의 Convolution-layer & 2개의 fc-layer\n",
        "* 64 batch-size"
      ]
    },
    {
      "cell_type": "code",
      "execution_count": 31,
      "metadata": {
        "colab": {
          "base_uri": "https://localhost:8080/"
        },
        "id": "Q1znQlsWKS6D",
        "outputId": "fbd24c6a-6ad6-4f91-d256-331854dbca3a"
      },
      "outputs": [
        {
          "output_type": "stream",
          "name": "stdout",
          "text": [
            "Epoch: 1, Iter: 100, Loss: 0.11523882794380189\n",
            "Epoch: 1, Iter: 200, Loss: 0.11519193923473359\n",
            "Epoch: 1, Iter: 300, Loss: 0.1151701581478119\n",
            "Epoch: 1, Iter: 400, Loss: 0.1151420476436615\n",
            "Epoch: 1, Iter: 500, Loss: 0.11512322282791138\n",
            "Epoch: 1, Iter: 600, Loss: 0.11513183045387268\n",
            "Epoch: 1, Iter: 700, Loss: 0.11518607139587403\n",
            "Epoch: 1, Iter: 800, Loss: 0.1151353417634964\n",
            "Epoch: 1, Iter: 900, Loss: 0.11515317511558533\n",
            "Epoch: 2, Iter: 100, Loss: 0.11513295495510101\n",
            "Epoch: 2, Iter: 200, Loss: 0.11514293658733368\n",
            "Epoch: 2, Iter: 300, Loss: 0.11513524639606476\n",
            "Epoch: 2, Iter: 400, Loss: 0.11514248704910278\n",
            "Epoch: 2, Iter: 500, Loss: 0.11513403534889222\n",
            "Epoch: 2, Iter: 600, Loss: 0.11513226532936097\n",
            "Epoch: 2, Iter: 700, Loss: 0.11513123178482056\n",
            "Epoch: 2, Iter: 800, Loss: 0.11514383101463319\n",
            "Epoch: 2, Iter: 900, Loss: 0.1151331729888916\n",
            "Epoch: 3, Iter: 100, Loss: 0.11512139654159546\n",
            "Epoch: 3, Iter: 200, Loss: 0.11512685871124267\n",
            "Epoch: 3, Iter: 300, Loss: 0.1151290670633316\n",
            "Epoch: 3, Iter: 400, Loss: 0.11514061319828034\n",
            "Epoch: 3, Iter: 500, Loss: 0.11514335370063782\n",
            "Epoch: 3, Iter: 600, Loss: 0.11513387620449066\n",
            "Epoch: 3, Iter: 700, Loss: 0.1151418423652649\n",
            "Epoch: 3, Iter: 800, Loss: 0.1151338506937027\n",
            "Epoch: 3, Iter: 900, Loss: 0.11513129210472108\n",
            "Epoch: 4, Iter: 100, Loss: 0.11513295078277588\n",
            "Epoch: 4, Iter: 200, Loss: 0.11512483155727386\n",
            "Epoch: 4, Iter: 300, Loss: 0.11514091336727142\n",
            "Epoch: 4, Iter: 400, Loss: 0.11513552236557006\n",
            "Epoch: 4, Iter: 500, Loss: 0.1151361277103424\n",
            "Epoch: 4, Iter: 600, Loss: 0.11513377726078033\n",
            "Epoch: 4, Iter: 700, Loss: 0.11512044513225556\n",
            "Epoch: 4, Iter: 800, Loss: 0.1151378515958786\n",
            "Epoch: 4, Iter: 900, Loss: 0.1151446977853775\n",
            "Epoch: 5, Iter: 100, Loss: 0.11513197386264801\n",
            "Epoch: 5, Iter: 200, Loss: 0.11513764035701751\n",
            "Epoch: 5, Iter: 300, Loss: 0.11513259947299957\n",
            "Epoch: 5, Iter: 400, Loss: 0.11513850498199463\n",
            "Epoch: 5, Iter: 500, Loss: 0.11513357830047607\n",
            "Epoch: 5, Iter: 600, Loss: 0.11512433755397797\n",
            "Epoch: 5, Iter: 700, Loss: 0.11514530563354493\n",
            "Epoch: 5, Iter: 800, Loss: 0.11513408684730529\n",
            "Epoch: 5, Iter: 900, Loss: 0.11513388979434967\n",
            "Epoch: 6, Iter: 100, Loss: 0.11513297927379608\n",
            "Epoch: 6, Iter: 200, Loss: 0.11513527989387512\n",
            "Epoch: 6, Iter: 300, Loss: 0.11512923359870911\n",
            "Epoch: 6, Iter: 400, Loss: 0.11513499689102173\n",
            "Epoch: 6, Iter: 500, Loss: 0.11513475847244263\n",
            "Epoch: 6, Iter: 600, Loss: 0.11513891279697418\n",
            "Epoch: 6, Iter: 700, Loss: 0.1151343810558319\n",
            "Epoch: 6, Iter: 800, Loss: 0.11513352584838867\n",
            "Epoch: 6, Iter: 900, Loss: 0.1151352412700653\n",
            "Epoch: 7, Iter: 100, Loss: 0.1151329107284546\n",
            "Epoch: 7, Iter: 200, Loss: 0.11513418781757355\n",
            "Epoch: 7, Iter: 300, Loss: 0.11513683772087097\n",
            "Epoch: 7, Iter: 400, Loss: 0.11512772130966187\n",
            "Epoch: 7, Iter: 500, Loss: 0.11513295984268189\n",
            "Epoch: 7, Iter: 600, Loss: 0.11513342928886414\n",
            "Epoch: 7, Iter: 700, Loss: 0.115136559009552\n",
            "Epoch: 7, Iter: 800, Loss: 0.11513538134098053\n",
            "Epoch: 7, Iter: 900, Loss: 0.1151397043466568\n",
            "Epoch: 8, Iter: 100, Loss: 0.11513262963294983\n",
            "Epoch: 8, Iter: 200, Loss: 0.11513438260555267\n",
            "Epoch: 8, Iter: 300, Loss: 0.11513112485408783\n",
            "Epoch: 8, Iter: 400, Loss: 0.11513060021400452\n",
            "Epoch: 8, Iter: 500, Loss: 0.11513690972328186\n",
            "Epoch: 8, Iter: 600, Loss: 0.1151346081495285\n",
            "Epoch: 8, Iter: 700, Loss: 0.11513427221775055\n",
            "Epoch: 8, Iter: 800, Loss: 0.11513256204128265\n",
            "Epoch: 8, Iter: 900, Loss: 0.11513750958442688\n",
            "Epoch: 9, Iter: 100, Loss: 0.11513309681415558\n",
            "Epoch: 9, Iter: 200, Loss: 0.11512809479236603\n",
            "Epoch: 9, Iter: 300, Loss: 0.11513437509536743\n",
            "Epoch: 9, Iter: 400, Loss: 0.11513713991641998\n",
            "Epoch: 9, Iter: 500, Loss: 0.11513164174556732\n",
            "Epoch: 9, Iter: 600, Loss: 0.11513517427444458\n",
            "Epoch: 9, Iter: 700, Loss: 0.11513821470737458\n",
            "Epoch: 9, Iter: 800, Loss: 0.11513259756565095\n",
            "Epoch: 9, Iter: 900, Loss: 0.11513649165630341\n",
            "Epoch: 10, Iter: 100, Loss: 0.11512307262420654\n",
            "Epoch: 10, Iter: 200, Loss: 0.11513756763935089\n",
            "Epoch: 10, Iter: 300, Loss: 0.11513582098484039\n",
            "Epoch: 10, Iter: 400, Loss: 0.1151329528093338\n",
            "Epoch: 10, Iter: 500, Loss: 0.11513537049293518\n",
            "Epoch: 10, Iter: 600, Loss: 0.11513633275032044\n",
            "Epoch: 10, Iter: 700, Loss: 0.11513305842876434\n",
            "Epoch: 10, Iter: 800, Loss: 0.11513550209999085\n",
            "Epoch: 10, Iter: 900, Loss: 0.11513535189628601\n"
          ]
        }
      ],
      "source": [
        "for epoch in range(10):\n",
        "\n",
        "    running_loss = 0.0\n",
        "\n",
        "    for i, data in enumerate(train_loader64, start=0):\n",
        "        inputs, labels = data[0].to(device), data[1].to(device)\n",
        "\n",
        "        optimizerDC_64.zero_grad() # epoch마다 gradient 0으로 초기화\n",
        "\n",
        "        outputs = DeepConv_net64(inputs) # y_pred = f(X)\n",
        "        loss = criterion(outputs, labels) # CrossEntropyLoss; 0~1 사이값\n",
        "        loss.backward() # back-propagation; gradient 계산\n",
        "        optimizerDC_64.step() # parameters(weights) update\n",
        "\n",
        "        running_loss += loss.item() # 그냥 전체적인 비교를 위해 누적함\n",
        "\n",
        "        if i % 100 == 99: # 100번 마다 확인; epoch=10, iter(=i)=469, batch=64\n",
        "            print('Epoch: {}, Iter: {}, Loss: {}'.format(epoch+1, i+1, running_loss/2000))\n",
        "            running_loss = 0.0"
      ]
    },
    {
      "cell_type": "markdown",
      "metadata": {
        "id": "LaVvtEOvKUgJ"
      },
      "source": [
        "### 3. DeepFC_net128\n",
        "* 2개의 Convolution-layer & 5개의 fc-layer\n",
        "* 128 batch-size"
      ]
    },
    {
      "cell_type": "code",
      "execution_count": 32,
      "metadata": {
        "colab": {
          "base_uri": "https://localhost:8080/"
        },
        "id": "Dwh9TK_1KUgK",
        "outputId": "d293b129-6862-4a2e-9ea0-f26ecddd7886"
      },
      "outputs": [
        {
          "output_type": "stream",
          "name": "stdout",
          "text": [
            "Epoch: 1, Iter: 100, Loss: 0.11514501607418061\n",
            "Epoch: 1, Iter: 200, Loss: 0.11517788445949555\n",
            "Epoch: 1, Iter: 300, Loss: 0.11509571635723113\n",
            "Epoch: 1, Iter: 400, Loss: 0.11506094539165497\n",
            "Epoch: 2, Iter: 100, Loss: 0.11489494049549102\n",
            "Epoch: 2, Iter: 200, Loss: 0.11482456946372986\n",
            "Epoch: 2, Iter: 300, Loss: 0.11463470697402954\n",
            "Epoch: 2, Iter: 400, Loss: 0.11430708014965058\n",
            "Epoch: 3, Iter: 100, Loss: 0.11304770123958588\n",
            "Epoch: 3, Iter: 200, Loss: 0.11074608337879181\n",
            "Epoch: 3, Iter: 300, Loss: 0.10067788320779801\n",
            "Epoch: 3, Iter: 400, Loss: 0.07133311223983764\n",
            "Epoch: 4, Iter: 100, Loss: 0.04433291772007942\n",
            "Epoch: 4, Iter: 200, Loss: 0.039299583703279496\n",
            "Epoch: 4, Iter: 300, Loss: 0.036136695921421054\n",
            "Epoch: 4, Iter: 400, Loss: 0.033929239556193355\n",
            "Epoch: 5, Iter: 100, Loss: 0.032344644159078596\n",
            "Epoch: 5, Iter: 200, Loss: 0.030312421321868895\n",
            "Epoch: 5, Iter: 300, Loss: 0.030022914469242094\n",
            "Epoch: 5, Iter: 400, Loss: 0.02853552269935608\n",
            "Epoch: 6, Iter: 100, Loss: 0.027662144094705583\n",
            "Epoch: 6, Iter: 200, Loss: 0.027465414628386496\n",
            "Epoch: 6, Iter: 300, Loss: 0.02666623941063881\n",
            "Epoch: 6, Iter: 400, Loss: 0.026651214629411696\n",
            "Epoch: 7, Iter: 100, Loss: 0.026254863485693933\n",
            "Epoch: 7, Iter: 200, Loss: 0.025167092651128768\n",
            "Epoch: 7, Iter: 300, Loss: 0.023877993375062943\n",
            "Epoch: 7, Iter: 400, Loss: 0.024251616328954697\n",
            "Epoch: 8, Iter: 100, Loss: 0.023583686113357545\n",
            "Epoch: 8, Iter: 200, Loss: 0.023650652304291725\n",
            "Epoch: 8, Iter: 300, Loss: 0.022408256620168685\n",
            "Epoch: 8, Iter: 400, Loss: 0.02212901322543621\n",
            "Epoch: 9, Iter: 100, Loss: 0.02225267294049263\n",
            "Epoch: 9, Iter: 200, Loss: 0.021318793661892415\n",
            "Epoch: 9, Iter: 300, Loss: 0.020869804799556732\n",
            "Epoch: 9, Iter: 400, Loss: 0.021190608739852904\n",
            "Epoch: 10, Iter: 100, Loss: 0.020240052178502083\n",
            "Epoch: 10, Iter: 200, Loss: 0.020236786991357805\n",
            "Epoch: 10, Iter: 300, Loss: 0.0201857945099473\n",
            "Epoch: 10, Iter: 400, Loss: 0.019849441170692445\n"
          ]
        }
      ],
      "source": [
        "for epoch in range(10):\n",
        "\n",
        "    running_loss = 0.0\n",
        "\n",
        "    for i, data in enumerate(train_loader128, start=0):\n",
        "        inputs, labels = data[0].to(device), data[1].to(device)\n",
        "\n",
        "        optimizerFC_128.zero_grad() # epoch마다 gradient 0으로 초기화\n",
        "\n",
        "        outputs = DeepFC_net128(inputs) # y_pred = f(X)\n",
        "        loss = criterion(outputs, labels) # CrossEntropyLoss; 0~1 사이값\n",
        "        loss.backward() # back-propagation; gradient 계산\n",
        "        optimizerFC_128.step() # parameters(weights) update\n",
        "\n",
        "        running_loss += loss.item() # 그냥 전체적인 비교를 위해 누적함\n",
        "\n",
        "        if i % 100 == 99: # 100번 마다 확인; epoch=10, iter(=i)=469, batch=128\n",
        "            print('Epoch: {}, Iter: {}, Loss: {}'.format(epoch+1, i+1, running_loss/2000))\n",
        "            running_loss = 0.0"
      ]
    },
    {
      "cell_type": "markdown",
      "metadata": {
        "id": "jRyyw49jKVhj"
      },
      "source": [
        "### 4. DeepFC_net128\n",
        "* 2개의 Convolution-layer & 5개의 fc-layer\n",
        "* 64 batch-size"
      ]
    },
    {
      "cell_type": "code",
      "execution_count": 33,
      "metadata": {
        "colab": {
          "base_uri": "https://localhost:8080/"
        },
        "id": "X3847V0dKVhk",
        "outputId": "6bb68ae1-8d97-4ba0-f4e6-e13eb0c68f81"
      },
      "outputs": [
        {
          "output_type": "stream",
          "name": "stdout",
          "text": [
            "Epoch: 1, Iter: 100, Loss: 0.115202188372612\n",
            "Epoch: 1, Iter: 200, Loss: 0.11514722311496735\n",
            "Epoch: 1, Iter: 300, Loss: 0.11503065824508667\n",
            "Epoch: 1, Iter: 400, Loss: 0.11498857939243316\n",
            "Epoch: 1, Iter: 500, Loss: 0.11489535117149353\n",
            "Epoch: 1, Iter: 600, Loss: 0.11474682247638703\n",
            "Epoch: 1, Iter: 700, Loss: 0.11451938676834106\n",
            "Epoch: 1, Iter: 800, Loss: 0.11416039764881133\n",
            "Epoch: 1, Iter: 900, Loss: 0.11339417147636413\n",
            "Epoch: 2, Iter: 100, Loss: 0.10932674193382264\n",
            "Epoch: 2, Iter: 200, Loss: 0.08940845501422882\n",
            "Epoch: 2, Iter: 300, Loss: 0.058887134432792664\n",
            "Epoch: 2, Iter: 400, Loss: 0.043819460302591325\n",
            "Epoch: 2, Iter: 500, Loss: 0.039346792757511136\n",
            "Epoch: 2, Iter: 600, Loss: 0.03743228983879089\n",
            "Epoch: 2, Iter: 700, Loss: 0.03548023103177547\n",
            "Epoch: 2, Iter: 800, Loss: 0.03344284984469414\n",
            "Epoch: 2, Iter: 900, Loss: 0.03236202178895473\n",
            "Epoch: 3, Iter: 100, Loss: 0.03243258835375309\n",
            "Epoch: 3, Iter: 200, Loss: 0.03220453073084355\n",
            "Epoch: 3, Iter: 300, Loss: 0.02999150873720646\n",
            "Epoch: 3, Iter: 400, Loss: 0.02997511565685272\n",
            "Epoch: 3, Iter: 500, Loss: 0.030083811059594154\n",
            "Epoch: 3, Iter: 600, Loss: 0.029988174721598624\n",
            "Epoch: 3, Iter: 700, Loss: 0.02922031758725643\n",
            "Epoch: 3, Iter: 800, Loss: 0.028442016422748566\n",
            "Epoch: 3, Iter: 900, Loss: 0.027114661991596224\n",
            "Epoch: 4, Iter: 100, Loss: 0.02740254333615303\n",
            "Epoch: 4, Iter: 200, Loss: 0.026686127960681916\n",
            "Epoch: 4, Iter: 300, Loss: 0.026512362107634545\n",
            "Epoch: 4, Iter: 400, Loss: 0.02693720552325249\n",
            "Epoch: 4, Iter: 500, Loss: 0.025476181387901305\n",
            "Epoch: 4, Iter: 600, Loss: 0.02633434522151947\n",
            "Epoch: 4, Iter: 700, Loss: 0.025580304428935052\n",
            "Epoch: 4, Iter: 800, Loss: 0.025738542959094047\n",
            "Epoch: 4, Iter: 900, Loss: 0.024070128619670866\n",
            "Epoch: 5, Iter: 100, Loss: 0.024277616709470748\n",
            "Epoch: 5, Iter: 200, Loss: 0.02411539201438427\n",
            "Epoch: 5, Iter: 300, Loss: 0.024038988709449767\n",
            "Epoch: 5, Iter: 400, Loss: 0.02472927890717983\n",
            "Epoch: 5, Iter: 500, Loss: 0.02444922336935997\n",
            "Epoch: 5, Iter: 600, Loss: 0.02298452240973711\n",
            "Epoch: 5, Iter: 700, Loss: 0.023091390684247017\n",
            "Epoch: 5, Iter: 800, Loss: 0.023767425514757634\n",
            "Epoch: 5, Iter: 900, Loss: 0.0228140824213624\n",
            "Epoch: 6, Iter: 100, Loss: 0.022616594552993776\n",
            "Epoch: 6, Iter: 200, Loss: 0.021521989703178406\n",
            "Epoch: 6, Iter: 300, Loss: 0.02166991302371025\n",
            "Epoch: 6, Iter: 400, Loss: 0.021846308887004853\n",
            "Epoch: 6, Iter: 500, Loss: 0.02197221978008747\n",
            "Epoch: 6, Iter: 600, Loss: 0.022466113202273846\n",
            "Epoch: 6, Iter: 700, Loss: 0.021833518497645855\n",
            "Epoch: 6, Iter: 800, Loss: 0.022310947485268115\n",
            "Epoch: 6, Iter: 900, Loss: 0.021205575205385685\n",
            "Epoch: 7, Iter: 100, Loss: 0.02158170349150896\n",
            "Epoch: 7, Iter: 200, Loss: 0.021477968990802766\n",
            "Epoch: 7, Iter: 300, Loss: 0.021646579645574093\n",
            "Epoch: 7, Iter: 400, Loss: 0.020504157781600953\n",
            "Epoch: 7, Iter: 500, Loss: 0.02273085118830204\n",
            "Epoch: 7, Iter: 600, Loss: 0.020474934220314024\n",
            "Epoch: 7, Iter: 700, Loss: 0.02024450704455376\n",
            "Epoch: 7, Iter: 800, Loss: 0.02011067349463701\n",
            "Epoch: 7, Iter: 900, Loss: 0.019955110177397727\n",
            "Epoch: 8, Iter: 100, Loss: 0.020658224880695342\n",
            "Epoch: 8, Iter: 200, Loss: 0.02054999414086342\n",
            "Epoch: 8, Iter: 300, Loss: 0.019987019121646882\n",
            "Epoch: 8, Iter: 400, Loss: 0.02060921969264746\n",
            "Epoch: 8, Iter: 500, Loss: 0.01968947733193636\n",
            "Epoch: 8, Iter: 600, Loss: 0.019982715301215648\n",
            "Epoch: 8, Iter: 700, Loss: 0.01973372596502304\n",
            "Epoch: 8, Iter: 800, Loss: 0.01950267845392227\n",
            "Epoch: 8, Iter: 900, Loss: 0.018690919235348703\n",
            "Epoch: 9, Iter: 100, Loss: 0.019639378212392332\n",
            "Epoch: 9, Iter: 200, Loss: 0.019482885278761387\n",
            "Epoch: 9, Iter: 300, Loss: 0.01924464000761509\n",
            "Epoch: 9, Iter: 400, Loss: 0.019440392956137656\n",
            "Epoch: 9, Iter: 500, Loss: 0.018833266988396644\n",
            "Epoch: 9, Iter: 600, Loss: 0.01887026832997799\n",
            "Epoch: 9, Iter: 700, Loss: 0.019759643018245697\n",
            "Epoch: 9, Iter: 800, Loss: 0.018383559867739676\n",
            "Epoch: 9, Iter: 900, Loss: 0.01952862736582756\n",
            "Epoch: 10, Iter: 100, Loss: 0.017201901227235795\n",
            "Epoch: 10, Iter: 200, Loss: 0.018670346170663835\n",
            "Epoch: 10, Iter: 300, Loss: 0.01836982563138008\n",
            "Epoch: 10, Iter: 400, Loss: 0.018819389149546624\n",
            "Epoch: 10, Iter: 500, Loss: 0.01794742389023304\n",
            "Epoch: 10, Iter: 600, Loss: 0.018306536510586738\n",
            "Epoch: 10, Iter: 700, Loss: 0.01910443614795804\n",
            "Epoch: 10, Iter: 800, Loss: 0.018670691803097723\n",
            "Epoch: 10, Iter: 900, Loss: 0.018558460339903833\n"
          ]
        }
      ],
      "source": [
        "for epoch in range(10):\n",
        "\n",
        "    running_loss = 0.0\n",
        "\n",
        "    for i, data in enumerate(train_loader64, start=0):\n",
        "        inputs, labels = data[0].to(device), data[1].to(device)\n",
        "\n",
        "        optimizerFC_64.zero_grad() # epoch마다 gradient 0으로 초기화\n",
        "\n",
        "        outputs = DeepFC_net64(inputs) # y_pred = f(X)\n",
        "        loss = criterion(outputs, labels) # CrossEntropyLoss; 0~1 사이값\n",
        "        loss.backward() # back-propagation; gradient 계산\n",
        "        optimizerFC_64.step() # parameters(weights) update\n",
        "\n",
        "        running_loss += loss.item() # 그냥 전체적인 비교를 위해 누적함\n",
        "\n",
        "        if i % 100 == 99: # 100번 마다 확인; epoch=10, iter(=i)=469, batch=64\n",
        "            print('Epoch: {}, Iter: {}, Loss: {}'.format(epoch+1, i+1, running_loss/2000))\n",
        "            running_loss = 0.0"
      ]
    },
    {
      "cell_type": "markdown",
      "metadata": {
        "id": "5IecfHZiI09W"
      },
      "source": [
        "## 모델 테스트"
      ]
    },
    {
      "cell_type": "code",
      "execution_count": 34,
      "metadata": {
        "colab": {
          "base_uri": "https://localhost:8080/"
        },
        "id": "VjVs_iS0rlof",
        "outputId": "e12adfaa-8e92-46d2-ed63-a1c0d23f38d0"
      },
      "outputs": [
        {
          "output_type": "stream",
          "name": "stdout",
          "text": [
            "DeepConv_net128 : 0.1\n",
            "DeepConv_net64 : 0.1\n",
            "DeepFC_net128 : 0.8535\n",
            "DeepFC_net64 : 0.8586\n"
          ]
        }
      ],
      "source": [
        "# 전체 test 데이터에 대해서 성능 확인\n",
        "\n",
        "correct_list = [0]*4\n",
        "total_list = [0]*4\n",
        "a = -1\n",
        "\n",
        "model_list = {'DeepConv' : [DeepConv_net128, DeepConv_net64],\n",
        "              'DeepFC' : [DeepFC_net128, DeepFC_net64]}\n",
        "data_list = [test_loader128, test_loader64]\n",
        "\n",
        "with torch.no_grad(): # grad가 필요없다.\n",
        "\n",
        "    for key in model_list:\n",
        "        for idx in range(len(model_list[key])):\n",
        "            a += 1\n",
        "            model = model_list[key][idx]\n",
        "            data_loader = data_list[idx]\n",
        "            for data in data_loader:\n",
        "                images, labels = data[0].to(device), data[1].to(device)\n",
        "\n",
        "                outputs = model(images)\n",
        "                _, predicted = torch.max(outputs.data, 1)\n",
        "\n",
        "                total_list[a] += labels.size(0)\n",
        "                correct_list[a] += (predicted == labels).sum().item()\n",
        "            \n",
        "correct_rate = np.array(correct_list) / np.array(total_list)\n",
        "model_name = ['DeepConv_net128', 'DeepConv_net64', 'DeepFC_net128', 'DeepFC_net64']\n",
        "\n",
        "for i in range(len(correct_rate)):\n",
        "    print('{0} : {1}'.format(model_name[i], correct_rate[i]))"
      ]
    },
    {
      "cell_type": "markdown",
      "metadata": {
        "id": "SZcZQv4PGeYv"
      },
      "source": [
        "# FashionMNIST 분류 모델 중 성능이 낮은 모델 이유 확인"
      ]
    },
    {
      "cell_type": "markdown",
      "metadata": {
        "id": "V7HoLqroDhyF"
      },
      "source": [
        "## Convolution-layer를 하나씩 추가하면서, 성능변화를 관찰"
      ]
    },
    {
      "cell_type": "markdown",
      "metadata": {
        "id": "_civVcIYBGxA"
      },
      "source": [
        "### 3개의 convolution-layer 사용시"
      ]
    },
    {
      "cell_type": "code",
      "execution_count": 35,
      "metadata": {
        "id": "29zvOdhT-fwY"
      },
      "outputs": [],
      "source": [
        "class CNN_Model3(nn.Module):\n",
        "    def __init__(self):\n",
        "        super(CNN_Model3, self).__init__()\n",
        "\n",
        "        self.conv1 = nn.Conv2d(in_channels=1, out_channels=5, kernel_size=3, stride=1, padding=2)\n",
        "        self.conv2 = nn.Conv2d(5, 7, 3, padding=1)\n",
        "        self.conv3 = nn.Conv2d(7, 16, 2, padding=1)\n",
        "\n",
        "        self.fc1 = nn.Linear(16* 16 * 16, 3000)\n",
        "        self.fc2 = nn.Linear(3000, 1500)\n",
        "        self.fc3 = nn.Linear(1500, 20 * 3 * 3)\n",
        "        self.fc4 = nn.Linear(20 * 3 * 3, 86)\n",
        "        self.fc5 = nn.Linear(86, 10) # 10 : 10개의 category\n",
        "\n",
        "    def forward(self, x):\n",
        "        x = F.relu(self.conv1(x))\n",
        "        x = F.max_pool2d(x, (2,2))\n",
        "        x = F.relu(self.conv2(x))\n",
        "        x = F.relu(self.conv3(x))\n",
        "\n",
        "        x = x.view(-1, self.num_flat_features(x)) # num_flat_features : 아래에서 정의\n",
        "\n",
        "        x = F.relu(self.fc1(x))\n",
        "        x = F.relu(self.fc2(x))\n",
        "        x = F.relu(self.fc3(x))\n",
        "        x = F.relu(self.fc4(x))\n",
        "        x = self.fc5(x)\n",
        "\n",
        "        return x\n",
        "    \n",
        "    def num_flat_features(self, x): # 처음 dim-size을 제외하고, 모두 곱한 값을 반환해준다.\n",
        "        size = x.size()[1:]\n",
        "        num_features = 1\n",
        "        for s in size:\n",
        "            num_features *= s\n",
        "        \n",
        "        return num_features"
      ]
    },
    {
      "cell_type": "code",
      "execution_count": 36,
      "metadata": {
        "colab": {
          "base_uri": "https://localhost:8080/"
        },
        "id": "t81gXZmz-fwY",
        "outputId": "9b81da57-be36-46e9-c949-76a31a47282f"
      },
      "outputs": [
        {
          "output_type": "stream",
          "name": "stdout",
          "text": [
            "CNN_Model3(\n",
            "  (conv1): Conv2d(1, 5, kernel_size=(3, 3), stride=(1, 1), padding=(2, 2))\n",
            "  (conv2): Conv2d(5, 7, kernel_size=(3, 3), stride=(1, 1), padding=(1, 1))\n",
            "  (conv3): Conv2d(7, 16, kernel_size=(2, 2), stride=(1, 1), padding=(1, 1))\n",
            "  (fc1): Linear(in_features=4096, out_features=3000, bias=True)\n",
            "  (fc2): Linear(in_features=3000, out_features=1500, bias=True)\n",
            "  (fc3): Linear(in_features=1500, out_features=180, bias=True)\n",
            "  (fc4): Linear(in_features=180, out_features=86, bias=True)\n",
            "  (fc5): Linear(in_features=86, out_features=10, bias=True)\n",
            ")\n"
          ]
        }
      ],
      "source": [
        "# 모델객체 생성\n",
        "new_model = CNN_Model3().to(device)\n",
        "\n",
        "print(new_model)"
      ]
    },
    {
      "cell_type": "code",
      "execution_count": 37,
      "metadata": {
        "colab": {
          "base_uri": "https://localhost:8080/"
        },
        "id": "Bb2EkGUbBnuM",
        "outputId": "1b443314-e99e-402a-a7c4-17f7e6b79bb3"
      },
      "outputs": [
        {
          "output_type": "stream",
          "name": "stdout",
          "text": [
            "----------------------------------------------------------------\n",
            "        Layer (type)               Output Shape         Param #\n",
            "================================================================\n",
            "            Conv2d-1           [128, 5, 30, 30]              50\n",
            "            Conv2d-2           [128, 7, 15, 15]             322\n",
            "            Conv2d-3          [128, 16, 16, 16]             464\n",
            "            Linear-4                [128, 3000]      12,291,000\n",
            "            Linear-5                [128, 1500]       4,501,500\n",
            "            Linear-6                 [128, 180]         270,180\n",
            "            Linear-7                  [128, 86]          15,566\n",
            "            Linear-8                  [128, 10]             870\n",
            "================================================================\n",
            "Total params: 17,079,952\n",
            "Trainable params: 17,079,952\n",
            "Non-trainable params: 0\n",
            "----------------------------------------------------------------\n",
            "Input size (MB): 0.38\n",
            "Forward/backward pass size (MB): 14.60\n",
            "Params size (MB): 65.15\n",
            "Estimated Total Size (MB): 80.13\n",
            "----------------------------------------------------------------\n"
          ]
        }
      ],
      "source": [
        "summary(new_model, input_size=(1, 28, 28), batch_size=128)"
      ]
    },
    {
      "cell_type": "code",
      "execution_count": 38,
      "metadata": {
        "id": "aQDT4bYIBsZl"
      },
      "outputs": [],
      "source": [
        "optimizer = optim.SGD(new_model.parameters(), lr=0.001, momentum=0.9)"
      ]
    },
    {
      "cell_type": "code",
      "execution_count": 39,
      "metadata": {
        "colab": {
          "base_uri": "https://localhost:8080/"
        },
        "id": "D6GqkR8nBwhH",
        "outputId": "4eb32e8f-8e36-42bb-ecc9-f5c35e39e9ff"
      },
      "outputs": [
        {
          "output_type": "stream",
          "name": "stdout",
          "text": [
            "Epoch: 1, Iter: 100, Loss: 0.11519123446941376\n",
            "Epoch: 1, Iter: 200, Loss: 0.11512129187583924\n",
            "Epoch: 1, Iter: 300, Loss: 0.11512882399559021\n",
            "Epoch: 1, Iter: 400, Loss: 0.1150939519405365\n",
            "Epoch: 2, Iter: 100, Loss: 0.11505429422855377\n",
            "Epoch: 2, Iter: 200, Loss: 0.11505655777454377\n",
            "Epoch: 2, Iter: 300, Loss: 0.11503763031959534\n",
            "Epoch: 2, Iter: 400, Loss: 0.1150185513496399\n",
            "Epoch: 3, Iter: 100, Loss: 0.11496489775180817\n",
            "Epoch: 3, Iter: 200, Loss: 0.11493183362483979\n",
            "Epoch: 3, Iter: 300, Loss: 0.11489453768730164\n",
            "Epoch: 3, Iter: 400, Loss: 0.11483803689479828\n",
            "Epoch: 4, Iter: 100, Loss: 0.11471075332164764\n",
            "Epoch: 4, Iter: 200, Loss: 0.11459591412544251\n",
            "Epoch: 4, Iter: 300, Loss: 0.11443780946731567\n",
            "Epoch: 4, Iter: 400, Loss: 0.11421216630935668\n",
            "Epoch: 5, Iter: 100, Loss: 0.11341863775253296\n",
            "Epoch: 5, Iter: 200, Loss: 0.11249066233634948\n",
            "Epoch: 5, Iter: 300, Loss: 0.11026174962520599\n",
            "Epoch: 5, Iter: 400, Loss: 0.10222928631305694\n",
            "Epoch: 6, Iter: 100, Loss: 0.057449733316898344\n",
            "Epoch: 6, Iter: 200, Loss: 0.04939606499671936\n",
            "Epoch: 6, Iter: 300, Loss: 0.04538322442770004\n",
            "Epoch: 6, Iter: 400, Loss: 0.04237891364097595\n",
            "Epoch: 7, Iter: 100, Loss: 0.03745120006799698\n",
            "Epoch: 7, Iter: 200, Loss: 0.03628468704223633\n",
            "Epoch: 7, Iter: 300, Loss: 0.03496560060977936\n",
            "Epoch: 7, Iter: 400, Loss: 0.03342712283134461\n",
            "Epoch: 8, Iter: 100, Loss: 0.03352923595905304\n",
            "Epoch: 8, Iter: 200, Loss: 0.03117780953645706\n",
            "Epoch: 8, Iter: 300, Loss: 0.030197126403450965\n",
            "Epoch: 8, Iter: 400, Loss: 0.03020065952837467\n",
            "Epoch: 9, Iter: 100, Loss: 0.02946288077533245\n",
            "Epoch: 9, Iter: 200, Loss: 0.02839411447942257\n",
            "Epoch: 9, Iter: 300, Loss: 0.02743426401913166\n",
            "Epoch: 9, Iter: 400, Loss: 0.027573874831199646\n",
            "Epoch: 10, Iter: 100, Loss: 0.026937807589769363\n",
            "Epoch: 10, Iter: 200, Loss: 0.02565494979918003\n",
            "Epoch: 10, Iter: 300, Loss: 0.025238234579563142\n",
            "Epoch: 10, Iter: 400, Loss: 0.02530929733812809\n"
          ]
        }
      ],
      "source": [
        "for epoch in range(10):\n",
        "\n",
        "    running_loss = 0.0\n",
        "\n",
        "    for i, data in enumerate(train_loader128, start=0):\n",
        "        inputs, labels = data[0].to(device), data[1].to(device)\n",
        "\n",
        "        optimizer.zero_grad() # epoch마다 gradient 0으로 초기화\n",
        "\n",
        "        outputs = new_model(inputs) # y_pred = f(X)\n",
        "        loss = criterion(outputs, labels) # CrossEntropyLoss; 0~1 사이값\n",
        "        loss.backward() # back-propagation; gradient 계산\n",
        "        optimizer.step() # parameters(weights) update\n",
        "\n",
        "        running_loss += loss.item() # 그냥 전체적인 비교를 위해 누적함\n",
        "\n",
        "        if i % 100 == 99: # 100번 마다 확인; epoch=10, iter(=i)=469, batch=128\n",
        "            print('Epoch: {}, Iter: {}, Loss: {}'.format(epoch+1, i+1, running_loss/2000))\n",
        "            running_loss = 0.0"
      ]
    },
    {
      "cell_type": "code",
      "execution_count": 40,
      "metadata": {
        "colab": {
          "base_uri": "https://localhost:8080/"
        },
        "id": "1PDu2v9bB_NE",
        "outputId": "fbaf9947-10df-4b6b-cc5f-56e6fb78d232"
      },
      "outputs": [
        {
          "output_type": "stream",
          "name": "stdout",
          "text": [
            "82.17\n"
          ]
        }
      ],
      "source": [
        "correct = 0\n",
        "total = 0\n",
        "\n",
        "with torch.no_grad():\n",
        "    for data in test_loader128:\n",
        "        images, labels = data[0].to(device), data[1].to(device)\n",
        "        outputs = new_model(images)\n",
        "        _, predicted = torch.max(outputs.data, axis=1)\n",
        "        total += labels.size(0)\n",
        "        correct += (predicted == labels).sum().item()\n",
        "    \n",
        "    print(100 * correct / total)"
      ]
    },
    {
      "cell_type": "markdown",
      "metadata": {
        "id": "7Thu9NRyCV7j"
      },
      "source": [
        "### 4개의 convolution-layer 사용시"
      ]
    },
    {
      "cell_type": "code",
      "execution_count": 41,
      "metadata": {
        "id": "V9PQvGFPCV7k"
      },
      "outputs": [],
      "source": [
        "class CNN_Model4(nn.Module):\n",
        "    def __init__(self):\n",
        "        super(CNN_Model4, self).__init__()\n",
        "\n",
        "        self.conv1 = nn.Conv2d(in_channels=1, out_channels=5, kernel_size=3, stride=1, padding=2)\n",
        "        self.conv2 = nn.Conv2d(5, 7, 3, padding=1)\n",
        "        self.conv3 = nn.Conv2d(7, 16, 2, padding=1)\n",
        "        self.conv4 = nn.Conv2d(16, 19, 2)\n",
        "\n",
        "        self.fc1 = nn.Linear(15* 15 * 19, 3000)\n",
        "        self.fc2 = nn.Linear(3000, 1500)\n",
        "        self.fc3 = nn.Linear(1500, 20 * 3 * 3)\n",
        "        self.fc4 = nn.Linear(20 * 3 * 3, 86)\n",
        "        self.fc5 = nn.Linear(86, 10) # 10 : 10개의 category\n",
        "\n",
        "    def forward(self, x):\n",
        "        x = F.relu(self.conv1(x))\n",
        "        x = F.max_pool2d(x, (2,2))\n",
        "        x = F.relu(self.conv2(x))\n",
        "        x = F.relu(self.conv3(x))\n",
        "        x = F.relu(self.conv4(x))\n",
        "\n",
        "        x = x.view(-1, self.num_flat_features(x)) # num_flat_features : 아래에서 정의\n",
        "\n",
        "        x = F.relu(self.fc1(x))\n",
        "        x = F.relu(self.fc2(x))\n",
        "        x = F.relu(self.fc3(x))\n",
        "        x = F.relu(self.fc4(x))\n",
        "        x = self.fc5(x)\n",
        "\n",
        "        return x\n",
        "    \n",
        "    def num_flat_features(self, x): # 처음 dim-size을 제외하고, 모두 곱한 값을 반환해준다.\n",
        "        size = x.size()[1:]\n",
        "        num_features = 1\n",
        "        for s in size:\n",
        "            num_features *= s\n",
        "        \n",
        "        return num_features"
      ]
    },
    {
      "cell_type": "code",
      "execution_count": 42,
      "metadata": {
        "colab": {
          "base_uri": "https://localhost:8080/"
        },
        "id": "HNAL7SRZCV7k",
        "outputId": "357ad1fc-0704-494b-cc00-0f32f826a968"
      },
      "outputs": [
        {
          "output_type": "stream",
          "name": "stdout",
          "text": [
            "CNN_Model4(\n",
            "  (conv1): Conv2d(1, 5, kernel_size=(3, 3), stride=(1, 1), padding=(2, 2))\n",
            "  (conv2): Conv2d(5, 7, kernel_size=(3, 3), stride=(1, 1), padding=(1, 1))\n",
            "  (conv3): Conv2d(7, 16, kernel_size=(2, 2), stride=(1, 1), padding=(1, 1))\n",
            "  (conv4): Conv2d(16, 19, kernel_size=(2, 2), stride=(1, 1))\n",
            "  (fc1): Linear(in_features=4275, out_features=3000, bias=True)\n",
            "  (fc2): Linear(in_features=3000, out_features=1500, bias=True)\n",
            "  (fc3): Linear(in_features=1500, out_features=180, bias=True)\n",
            "  (fc4): Linear(in_features=180, out_features=86, bias=True)\n",
            "  (fc5): Linear(in_features=86, out_features=10, bias=True)\n",
            ")\n"
          ]
        }
      ],
      "source": [
        "# 모델객체 생성\n",
        "new_model = CNN_Model4().to(device)\n",
        "\n",
        "print(new_model)"
      ]
    },
    {
      "cell_type": "code",
      "execution_count": 43,
      "metadata": {
        "colab": {
          "base_uri": "https://localhost:8080/"
        },
        "id": "fHmIarJBCV7k",
        "outputId": "9fcb205f-740d-4f7f-e46d-2116317db90b"
      },
      "outputs": [
        {
          "output_type": "stream",
          "name": "stdout",
          "text": [
            "----------------------------------------------------------------\n",
            "        Layer (type)               Output Shape         Param #\n",
            "================================================================\n",
            "            Conv2d-1           [128, 5, 30, 30]              50\n",
            "            Conv2d-2           [128, 7, 15, 15]             322\n",
            "            Conv2d-3          [128, 16, 16, 16]             464\n",
            "            Conv2d-4          [128, 19, 15, 15]           1,235\n",
            "            Linear-5                [128, 3000]      12,828,000\n",
            "            Linear-6                [128, 1500]       4,501,500\n",
            "            Linear-7                 [128, 180]         270,180\n",
            "            Linear-8                  [128, 86]          15,566\n",
            "            Linear-9                  [128, 10]             870\n",
            "================================================================\n",
            "Total params: 17,618,187\n",
            "Trainable params: 17,618,187\n",
            "Non-trainable params: 0\n",
            "----------------------------------------------------------------\n",
            "Input size (MB): 0.38\n",
            "Forward/backward pass size (MB): 18.77\n",
            "Params size (MB): 67.21\n",
            "Estimated Total Size (MB): 86.36\n",
            "----------------------------------------------------------------\n"
          ]
        }
      ],
      "source": [
        "summary(new_model, input_size=(1, 28, 28), batch_size=128)"
      ]
    },
    {
      "cell_type": "code",
      "execution_count": 44,
      "metadata": {
        "id": "z6gegPTRCV7k"
      },
      "outputs": [],
      "source": [
        "optimizer = optim.SGD(new_model.parameters(), lr=0.001, momentum=0.9)"
      ]
    },
    {
      "cell_type": "code",
      "execution_count": 45,
      "metadata": {
        "id": "oeeKVQdKCV7k",
        "colab": {
          "base_uri": "https://localhost:8080/"
        },
        "outputId": "f907c06a-7688-4232-be9c-d5f188455b80"
      },
      "outputs": [
        {
          "output_type": "stream",
          "name": "stdout",
          "text": [
            "Epoch: 1, Iter: 100, Loss: 0.11522480118274689\n",
            "Epoch: 1, Iter: 200, Loss: 0.1152380291223526\n",
            "Epoch: 1, Iter: 300, Loss: 0.11516550123691559\n",
            "Epoch: 1, Iter: 400, Loss: 0.11517847919464111\n",
            "Epoch: 2, Iter: 100, Loss: 0.11513623595237732\n",
            "Epoch: 2, Iter: 200, Loss: 0.1151263153553009\n",
            "Epoch: 2, Iter: 300, Loss: 0.11510617136955262\n",
            "Epoch: 2, Iter: 400, Loss: 0.11509221470355988\n",
            "Epoch: 3, Iter: 100, Loss: 0.11508713233470917\n",
            "Epoch: 3, Iter: 200, Loss: 0.11505338251590728\n",
            "Epoch: 3, Iter: 300, Loss: 0.11504730188846587\n",
            "Epoch: 3, Iter: 400, Loss: 0.11504905092716217\n",
            "Epoch: 4, Iter: 100, Loss: 0.11501643443107605\n",
            "Epoch: 4, Iter: 200, Loss: 0.11499377262592315\n",
            "Epoch: 4, Iter: 300, Loss: 0.11496447324752808\n",
            "Epoch: 4, Iter: 400, Loss: 0.11493199002742767\n",
            "Epoch: 5, Iter: 100, Loss: 0.11484541952610015\n",
            "Epoch: 5, Iter: 200, Loss: 0.11477817118167877\n",
            "Epoch: 5, Iter: 300, Loss: 0.1146652410030365\n",
            "Epoch: 5, Iter: 400, Loss: 0.11448270428180694\n",
            "Epoch: 6, Iter: 100, Loss: 0.11371107542514801\n",
            "Epoch: 6, Iter: 200, Loss: 0.11215018570423126\n",
            "Epoch: 6, Iter: 300, Loss: 0.09928891974687576\n",
            "Epoch: 6, Iter: 400, Loss: 0.056557804852724075\n",
            "Epoch: 7, Iter: 100, Loss: 0.03751445123553276\n",
            "Epoch: 7, Iter: 200, Loss: 0.035149208441376686\n",
            "Epoch: 7, Iter: 300, Loss: 0.03257228296995163\n",
            "Epoch: 7, Iter: 400, Loss: 0.031147572860121726\n",
            "Epoch: 8, Iter: 100, Loss: 0.03025131368637085\n",
            "Epoch: 8, Iter: 200, Loss: 0.02975181005895138\n",
            "Epoch: 8, Iter: 300, Loss: 0.02901795379817486\n",
            "Epoch: 8, Iter: 400, Loss: 0.029355143427848816\n",
            "Epoch: 9, Iter: 100, Loss: 0.02730185317993164\n",
            "Epoch: 9, Iter: 200, Loss: 0.02674596907198429\n",
            "Epoch: 9, Iter: 300, Loss: 0.026969827443361283\n",
            "Epoch: 9, Iter: 400, Loss: 0.025654773607850075\n",
            "Epoch: 10, Iter: 100, Loss: 0.026006759032607078\n",
            "Epoch: 10, Iter: 200, Loss: 0.025016183972358705\n",
            "Epoch: 10, Iter: 300, Loss: 0.024993128776550293\n",
            "Epoch: 10, Iter: 400, Loss: 0.02446781176328659\n"
          ]
        }
      ],
      "source": [
        "for epoch in range(10):\n",
        "\n",
        "    running_loss = 0.0\n",
        "\n",
        "    for i, data in enumerate(train_loader128, start=0):\n",
        "        inputs, labels = data[0].to(device), data[1].to(device)\n",
        "\n",
        "        optimizer.zero_grad() # epoch마다 gradient 0으로 초기화\n",
        "\n",
        "        outputs = new_model(inputs) # y_pred = f(X)\n",
        "        loss = criterion(outputs, labels) # CrossEntropyLoss; 0~1 사이값\n",
        "        loss.backward() # back-propagation; gradient 계산\n",
        "        optimizer.step() # parameters(weights) update\n",
        "\n",
        "        running_loss += loss.item() # 그냥 전체적인 비교를 위해 누적함\n",
        "\n",
        "        if i % 100 == 99: # 100번 마다 확인; epoch=10, iter(=i)=469, batch=128\n",
        "            print('Epoch: {}, Iter: {}, Loss: {}'.format(epoch+1, i+1, running_loss/2000))\n",
        "            running_loss = 0.0"
      ]
    },
    {
      "cell_type": "code",
      "execution_count": 46,
      "metadata": {
        "id": "w3uuDeS_CV7k",
        "colab": {
          "base_uri": "https://localhost:8080/"
        },
        "outputId": "b2bdf695-6a22-4d67-a714-88e87fe3f314"
      },
      "outputs": [
        {
          "output_type": "stream",
          "name": "stdout",
          "text": [
            "80.99\n"
          ]
        }
      ],
      "source": [
        "correct = 0\n",
        "total = 0\n",
        "\n",
        "with torch.no_grad():\n",
        "    for data in test_loader128:\n",
        "        images, labels = data[0].to(device), data[1].to(device)\n",
        "        outputs = new_model(images)\n",
        "        _, predicted = torch.max(outputs.data, axis=1)\n",
        "        total += labels.size(0)\n",
        "        correct += (predicted == labels).sum().item()\n",
        "    \n",
        "    print(100 * correct / total)"
      ]
    },
    {
      "cell_type": "markdown",
      "metadata": {
        "id": "kuP_3_DyD42p"
      },
      "source": [
        "### 5개의 convolution-layer 사용시"
      ]
    },
    {
      "cell_type": "code",
      "execution_count": 47,
      "metadata": {
        "id": "Bk1u7iloD42q"
      },
      "outputs": [],
      "source": [
        "class CNN_Model5(nn.Module):\n",
        "    def __init__(self):\n",
        "        super(CNN_Model5, self).__init__()\n",
        "\n",
        "        self.conv1 = nn.Conv2d(in_channels=1, out_channels=5, kernel_size=3, stride=1, padding=2)\n",
        "        self.conv2 = nn.Conv2d(5, 7, 3, padding=1)      \n",
        "        self.conv3 = nn.Conv2d(7, 16, 2, padding=1)\n",
        "        self.conv4 = nn.Conv2d(16, 19, 2)\n",
        "        self.conv5 = nn.Conv2d(19, 29, 3)\n",
        "\n",
        "        self.fc1 = nn.Linear(29 * 13 * 13, 100)\n",
        "        self.fc2 = nn.Linear(100, 50)\n",
        "        self.fc3 = nn.Linear(50, 25)\n",
        "        self.fc4 = nn.Linear(25, 10) # 10 : 10개의 category\n",
        "\n",
        "    def forward(self, x):\n",
        "        x = F.relu(self.conv1(x))\n",
        "        x = F.max_pool2d(x, (2,2))\n",
        "        x = F.relu(self.conv2(x))\n",
        "        x = F.relu(self.conv3(x))\n",
        "        x = F.relu(self.conv4(x))\n",
        "        x = F.relu(self.conv5(x))\n",
        "\n",
        "        x = x.view(-1, self.num_flat_features(x)) # num_flat_features : 아래에서 정의\n",
        "\n",
        "        x = F.relu(self.fc1(x))\n",
        "        x = F.relu(self.fc2(x))\n",
        "        x = F.relu(self.fc3(x))\n",
        "        x = self.fc4(x)\n",
        "\n",
        "        return x\n",
        "    \n",
        "    def num_flat_features(self, x): # 처음 dim-size을 제외하고, 모두 곱한 값을 반환해준다.\n",
        "        size = x.size()[1:]\n",
        "        num_features = 1\n",
        "        for s in size:\n",
        "            num_features *= s\n",
        "        \n",
        "        return num_features"
      ]
    },
    {
      "cell_type": "code",
      "execution_count": 48,
      "metadata": {
        "id": "GPoNB-4vD42q",
        "colab": {
          "base_uri": "https://localhost:8080/"
        },
        "outputId": "c9994158-921f-48ab-c265-e93373607553"
      },
      "outputs": [
        {
          "output_type": "stream",
          "name": "stdout",
          "text": [
            "CNN_Model5(\n",
            "  (conv1): Conv2d(1, 5, kernel_size=(3, 3), stride=(1, 1), padding=(2, 2))\n",
            "  (conv2): Conv2d(5, 7, kernel_size=(3, 3), stride=(1, 1), padding=(1, 1))\n",
            "  (conv3): Conv2d(7, 16, kernel_size=(2, 2), stride=(1, 1), padding=(1, 1))\n",
            "  (conv4): Conv2d(16, 19, kernel_size=(2, 2), stride=(1, 1))\n",
            "  (conv5): Conv2d(19, 29, kernel_size=(3, 3), stride=(1, 1))\n",
            "  (fc1): Linear(in_features=4901, out_features=100, bias=True)\n",
            "  (fc2): Linear(in_features=100, out_features=50, bias=True)\n",
            "  (fc3): Linear(in_features=50, out_features=25, bias=True)\n",
            "  (fc4): Linear(in_features=25, out_features=10, bias=True)\n",
            ")\n"
          ]
        }
      ],
      "source": [
        "# 모델객체 생성\n",
        "new_model = CNN_Model5().to(device)\n",
        "\n",
        "print(new_model)"
      ]
    },
    {
      "cell_type": "code",
      "execution_count": 49,
      "metadata": {
        "id": "aDvnyPw6D42q",
        "colab": {
          "base_uri": "https://localhost:8080/"
        },
        "outputId": "39d11b45-6eb9-4b7f-e56d-54777f6b2839"
      },
      "outputs": [
        {
          "output_type": "stream",
          "name": "stdout",
          "text": [
            "----------------------------------------------------------------\n",
            "        Layer (type)               Output Shape         Param #\n",
            "================================================================\n",
            "            Conv2d-1           [128, 5, 30, 30]              50\n",
            "            Conv2d-2           [128, 7, 15, 15]             322\n",
            "            Conv2d-3          [128, 16, 16, 16]             464\n",
            "            Conv2d-4          [128, 19, 15, 15]           1,235\n",
            "            Conv2d-5          [128, 29, 13, 13]           4,988\n",
            "            Linear-6                 [128, 100]         490,200\n",
            "            Linear-7                  [128, 50]           5,050\n",
            "            Linear-8                  [128, 25]           1,275\n",
            "            Linear-9                  [128, 10]             260\n",
            "================================================================\n",
            "Total params: 503,844\n",
            "Trainable params: 503,844\n",
            "Non-trainable params: 0\n",
            "----------------------------------------------------------------\n",
            "Input size (MB): 0.38\n",
            "Forward/backward pass size (MB): 19.07\n",
            "Params size (MB): 1.92\n",
            "Estimated Total Size (MB): 21.38\n",
            "----------------------------------------------------------------\n"
          ]
        }
      ],
      "source": [
        "summary(new_model, input_size=(1, 28, 28), batch_size=128)"
      ]
    },
    {
      "cell_type": "code",
      "execution_count": 50,
      "metadata": {
        "id": "QmOiVQDLD42q"
      },
      "outputs": [],
      "source": [
        "optimizer = optim.SGD(new_model.parameters(), lr=0.001, momentum=0.9)"
      ]
    },
    {
      "cell_type": "code",
      "execution_count": 51,
      "metadata": {
        "id": "eS9fQfeED42q",
        "colab": {
          "base_uri": "https://localhost:8080/"
        },
        "outputId": "59d1ae1c-2302-446d-ec51-d702813de822"
      },
      "outputs": [
        {
          "output_type": "stream",
          "name": "stdout",
          "text": [
            "Epoch: 1, Iter: 100, Loss: 0.11567164587974549\n",
            "Epoch: 1, Iter: 200, Loss: 0.11546226918697357\n",
            "Epoch: 1, Iter: 300, Loss: 0.11541467118263245\n",
            "Epoch: 1, Iter: 400, Loss: 0.11534259986877442\n",
            "Epoch: 2, Iter: 100, Loss: 0.11524767065048218\n",
            "Epoch: 2, Iter: 200, Loss: 0.11526472151279449\n",
            "Epoch: 2, Iter: 300, Loss: 0.11521817004680633\n",
            "Epoch: 2, Iter: 400, Loss: 0.11519896066188812\n",
            "Epoch: 3, Iter: 100, Loss: 0.11517163848876953\n",
            "Epoch: 3, Iter: 200, Loss: 0.1151323903799057\n",
            "Epoch: 3, Iter: 300, Loss: 0.11512553322315217\n",
            "Epoch: 3, Iter: 400, Loss: 0.11510960114002228\n",
            "Epoch: 4, Iter: 100, Loss: 0.1150824819803238\n",
            "Epoch: 4, Iter: 200, Loss: 0.11507307672500611\n",
            "Epoch: 4, Iter: 300, Loss: 0.11507314372062682\n",
            "Epoch: 4, Iter: 400, Loss: 0.11505209696292877\n",
            "Epoch: 5, Iter: 100, Loss: 0.11501604580879211\n",
            "Epoch: 5, Iter: 200, Loss: 0.11498665916919708\n",
            "Epoch: 5, Iter: 300, Loss: 0.11495737850666046\n",
            "Epoch: 5, Iter: 400, Loss: 0.11491599547863006\n",
            "Epoch: 6, Iter: 100, Loss: 0.114776651263237\n",
            "Epoch: 6, Iter: 200, Loss: 0.11464055728912353\n",
            "Epoch: 6, Iter: 300, Loss: 0.1143783631324768\n",
            "Epoch: 6, Iter: 400, Loss: 0.11395297193527222\n",
            "Epoch: 7, Iter: 100, Loss: 0.11137403643131256\n",
            "Epoch: 7, Iter: 200, Loss: 0.08941738969087601\n",
            "Epoch: 7, Iter: 300, Loss: 0.048381401777267456\n",
            "Epoch: 7, Iter: 400, Loss: 0.03936256676912308\n",
            "Epoch: 8, Iter: 100, Loss: 0.0348633409589529\n",
            "Epoch: 8, Iter: 200, Loss: 0.03487414763867855\n",
            "Epoch: 8, Iter: 300, Loss: 0.03270881743729114\n",
            "Epoch: 8, Iter: 400, Loss: 0.032472746282815934\n",
            "Epoch: 9, Iter: 100, Loss: 0.03164679850637913\n",
            "Epoch: 9, Iter: 200, Loss: 0.031039567813277245\n",
            "Epoch: 9, Iter: 300, Loss: 0.029535505533218383\n",
            "Epoch: 9, Iter: 400, Loss: 0.029246571213006972\n",
            "Epoch: 10, Iter: 100, Loss: 0.028199856907129287\n",
            "Epoch: 10, Iter: 200, Loss: 0.028031369611620904\n",
            "Epoch: 10, Iter: 300, Loss: 0.02841172829270363\n",
            "Epoch: 10, Iter: 400, Loss: 0.027656748712062834\n"
          ]
        }
      ],
      "source": [
        "for epoch in range(10):\n",
        "\n",
        "    running_loss = 0.0\n",
        "\n",
        "    for i, data in enumerate(train_loader128, start=0):\n",
        "        inputs, labels = data[0].to(device), data[1].to(device)\n",
        "\n",
        "        optimizer.zero_grad() # epoch마다 gradient 0으로 초기화\n",
        "\n",
        "        outputs = new_model(inputs) # y_pred = f(X)\n",
        "        loss = criterion(outputs, labels) # CrossEntropyLoss; 0~1 사이값\n",
        "        loss.backward() # back-propagation; gradient 계산\n",
        "        optimizer.step() # parameters(weights) update\n",
        "\n",
        "        running_loss += loss.item() # 그냥 전체적인 비교를 위해 누적함\n",
        "\n",
        "        if i % 100 == 99: # 100번 마다 확인; epoch=10, iter(=i)=469, batch=128\n",
        "            print('Epoch: {}, Iter: {}, Loss: {}'.format(epoch+1, i+1, running_loss/2000))\n",
        "            running_loss = 0.0"
      ]
    },
    {
      "cell_type": "code",
      "execution_count": 52,
      "metadata": {
        "id": "X0H3p7PGD42q",
        "colab": {
          "base_uri": "https://localhost:8080/"
        },
        "outputId": "79a2d3f6-38ae-4a2d-a7e0-84afc0339339"
      },
      "outputs": [
        {
          "output_type": "stream",
          "name": "stdout",
          "text": [
            "78.67\n"
          ]
        }
      ],
      "source": [
        "correct = 0\n",
        "total = 0\n",
        "\n",
        "with torch.no_grad():\n",
        "    for data in test_loader128:\n",
        "        images, labels = data[0].to(device), data[1].to(device)\n",
        "        outputs = new_model(images)\n",
        "        _, predicted = torch.max(outputs.data, axis=1)\n",
        "        total += labels.size(0)\n",
        "        correct += (predicted == labels).sum().item()\n",
        "    \n",
        "    print(100 * correct / total)"
      ]
    }
  ],
  "metadata": {
    "accelerator": "GPU",
    "colab": {
      "collapsed_sections": [
        "cdNvme8aKSBP",
        "OHckdZ55KeH2",
        "mCrBa-gRRMEO",
        "EFPYE3UUnpmX",
        "xVxKI_rwCvhI",
        "klpXGc2tCimP",
        "huNh3EnhJLyh",
        "W-2Q7c6-JW9z",
        "FOUBE2UfKS6D",
        "LaVvtEOvKUgJ",
        "jRyyw49jKVhj",
        "5IecfHZiI09W",
        "SZcZQv4PGeYv",
        "V7HoLqroDhyF",
        "_civVcIYBGxA",
        "7Thu9NRyCV7j",
        "kuP_3_DyD42p"
      ],
      "provenance": []
    },
    "gpuClass": "standard",
    "kernelspec": {
      "display_name": "Python 3",
      "name": "python3"
    },
    "widgets": {
      "application/vnd.jupyter.widget-state+json": {
        "5d6658358f0249e0bbe1b0aa92649b34": {
          "model_module": "@jupyter-widgets/controls",
          "model_name": "HBoxModel",
          "model_module_version": "1.5.0",
          "state": {
            "_dom_classes": [],
            "_model_module": "@jupyter-widgets/controls",
            "_model_module_version": "1.5.0",
            "_model_name": "HBoxModel",
            "_view_count": null,
            "_view_module": "@jupyter-widgets/controls",
            "_view_module_version": "1.5.0",
            "_view_name": "HBoxView",
            "box_style": "",
            "children": [
              "IPY_MODEL_61b4294e7b404d50a5b5052160d92a72",
              "IPY_MODEL_fb508a7f8b624b5d93aa3123efa9145f",
              "IPY_MODEL_fd818c7ff5414b7e926d9d78cee6a4b9"
            ],
            "layout": "IPY_MODEL_6386b36fd38242538bf5f55c96c4d145"
          }
        },
        "61b4294e7b404d50a5b5052160d92a72": {
          "model_module": "@jupyter-widgets/controls",
          "model_name": "HTMLModel",
          "model_module_version": "1.5.0",
          "state": {
            "_dom_classes": [],
            "_model_module": "@jupyter-widgets/controls",
            "_model_module_version": "1.5.0",
            "_model_name": "HTMLModel",
            "_view_count": null,
            "_view_module": "@jupyter-widgets/controls",
            "_view_module_version": "1.5.0",
            "_view_name": "HTMLView",
            "description": "",
            "description_tooltip": null,
            "layout": "IPY_MODEL_6ff8e55577f14ab69134e773833cf624",
            "placeholder": "​",
            "style": "IPY_MODEL_4618918456c0416aa2d9dfd82dad2727",
            "value": "100%"
          }
        },
        "fb508a7f8b624b5d93aa3123efa9145f": {
          "model_module": "@jupyter-widgets/controls",
          "model_name": "FloatProgressModel",
          "model_module_version": "1.5.0",
          "state": {
            "_dom_classes": [],
            "_model_module": "@jupyter-widgets/controls",
            "_model_module_version": "1.5.0",
            "_model_name": "FloatProgressModel",
            "_view_count": null,
            "_view_module": "@jupyter-widgets/controls",
            "_view_module_version": "1.5.0",
            "_view_name": "ProgressView",
            "bar_style": "success",
            "description": "",
            "description_tooltip": null,
            "layout": "IPY_MODEL_e2b112f643114778a8d184180fc34414",
            "max": 26421880,
            "min": 0,
            "orientation": "horizontal",
            "style": "IPY_MODEL_02197ab0a17a4d5a95843773694d9fe6",
            "value": 26421880
          }
        },
        "fd818c7ff5414b7e926d9d78cee6a4b9": {
          "model_module": "@jupyter-widgets/controls",
          "model_name": "HTMLModel",
          "model_module_version": "1.5.0",
          "state": {
            "_dom_classes": [],
            "_model_module": "@jupyter-widgets/controls",
            "_model_module_version": "1.5.0",
            "_model_name": "HTMLModel",
            "_view_count": null,
            "_view_module": "@jupyter-widgets/controls",
            "_view_module_version": "1.5.0",
            "_view_name": "HTMLView",
            "description": "",
            "description_tooltip": null,
            "layout": "IPY_MODEL_d4191906c0624f76a9d9df72954f279f",
            "placeholder": "​",
            "style": "IPY_MODEL_636ff05f6ce24e9c8bb6badcc140632f",
            "value": " 26421880/26421880 [00:01&lt;00:00, 25849804.65it/s]"
          }
        },
        "6386b36fd38242538bf5f55c96c4d145": {
          "model_module": "@jupyter-widgets/base",
          "model_name": "LayoutModel",
          "model_module_version": "1.2.0",
          "state": {
            "_model_module": "@jupyter-widgets/base",
            "_model_module_version": "1.2.0",
            "_model_name": "LayoutModel",
            "_view_count": null,
            "_view_module": "@jupyter-widgets/base",
            "_view_module_version": "1.2.0",
            "_view_name": "LayoutView",
            "align_content": null,
            "align_items": null,
            "align_self": null,
            "border": null,
            "bottom": null,
            "display": null,
            "flex": null,
            "flex_flow": null,
            "grid_area": null,
            "grid_auto_columns": null,
            "grid_auto_flow": null,
            "grid_auto_rows": null,
            "grid_column": null,
            "grid_gap": null,
            "grid_row": null,
            "grid_template_areas": null,
            "grid_template_columns": null,
            "grid_template_rows": null,
            "height": null,
            "justify_content": null,
            "justify_items": null,
            "left": null,
            "margin": null,
            "max_height": null,
            "max_width": null,
            "min_height": null,
            "min_width": null,
            "object_fit": null,
            "object_position": null,
            "order": null,
            "overflow": null,
            "overflow_x": null,
            "overflow_y": null,
            "padding": null,
            "right": null,
            "top": null,
            "visibility": null,
            "width": null
          }
        },
        "6ff8e55577f14ab69134e773833cf624": {
          "model_module": "@jupyter-widgets/base",
          "model_name": "LayoutModel",
          "model_module_version": "1.2.0",
          "state": {
            "_model_module": "@jupyter-widgets/base",
            "_model_module_version": "1.2.0",
            "_model_name": "LayoutModel",
            "_view_count": null,
            "_view_module": "@jupyter-widgets/base",
            "_view_module_version": "1.2.0",
            "_view_name": "LayoutView",
            "align_content": null,
            "align_items": null,
            "align_self": null,
            "border": null,
            "bottom": null,
            "display": null,
            "flex": null,
            "flex_flow": null,
            "grid_area": null,
            "grid_auto_columns": null,
            "grid_auto_flow": null,
            "grid_auto_rows": null,
            "grid_column": null,
            "grid_gap": null,
            "grid_row": null,
            "grid_template_areas": null,
            "grid_template_columns": null,
            "grid_template_rows": null,
            "height": null,
            "justify_content": null,
            "justify_items": null,
            "left": null,
            "margin": null,
            "max_height": null,
            "max_width": null,
            "min_height": null,
            "min_width": null,
            "object_fit": null,
            "object_position": null,
            "order": null,
            "overflow": null,
            "overflow_x": null,
            "overflow_y": null,
            "padding": null,
            "right": null,
            "top": null,
            "visibility": null,
            "width": null
          }
        },
        "4618918456c0416aa2d9dfd82dad2727": {
          "model_module": "@jupyter-widgets/controls",
          "model_name": "DescriptionStyleModel",
          "model_module_version": "1.5.0",
          "state": {
            "_model_module": "@jupyter-widgets/controls",
            "_model_module_version": "1.5.0",
            "_model_name": "DescriptionStyleModel",
            "_view_count": null,
            "_view_module": "@jupyter-widgets/base",
            "_view_module_version": "1.2.0",
            "_view_name": "StyleView",
            "description_width": ""
          }
        },
        "e2b112f643114778a8d184180fc34414": {
          "model_module": "@jupyter-widgets/base",
          "model_name": "LayoutModel",
          "model_module_version": "1.2.0",
          "state": {
            "_model_module": "@jupyter-widgets/base",
            "_model_module_version": "1.2.0",
            "_model_name": "LayoutModel",
            "_view_count": null,
            "_view_module": "@jupyter-widgets/base",
            "_view_module_version": "1.2.0",
            "_view_name": "LayoutView",
            "align_content": null,
            "align_items": null,
            "align_self": null,
            "border": null,
            "bottom": null,
            "display": null,
            "flex": null,
            "flex_flow": null,
            "grid_area": null,
            "grid_auto_columns": null,
            "grid_auto_flow": null,
            "grid_auto_rows": null,
            "grid_column": null,
            "grid_gap": null,
            "grid_row": null,
            "grid_template_areas": null,
            "grid_template_columns": null,
            "grid_template_rows": null,
            "height": null,
            "justify_content": null,
            "justify_items": null,
            "left": null,
            "margin": null,
            "max_height": null,
            "max_width": null,
            "min_height": null,
            "min_width": null,
            "object_fit": null,
            "object_position": null,
            "order": null,
            "overflow": null,
            "overflow_x": null,
            "overflow_y": null,
            "padding": null,
            "right": null,
            "top": null,
            "visibility": null,
            "width": null
          }
        },
        "02197ab0a17a4d5a95843773694d9fe6": {
          "model_module": "@jupyter-widgets/controls",
          "model_name": "ProgressStyleModel",
          "model_module_version": "1.5.0",
          "state": {
            "_model_module": "@jupyter-widgets/controls",
            "_model_module_version": "1.5.0",
            "_model_name": "ProgressStyleModel",
            "_view_count": null,
            "_view_module": "@jupyter-widgets/base",
            "_view_module_version": "1.2.0",
            "_view_name": "StyleView",
            "bar_color": null,
            "description_width": ""
          }
        },
        "d4191906c0624f76a9d9df72954f279f": {
          "model_module": "@jupyter-widgets/base",
          "model_name": "LayoutModel",
          "model_module_version": "1.2.0",
          "state": {
            "_model_module": "@jupyter-widgets/base",
            "_model_module_version": "1.2.0",
            "_model_name": "LayoutModel",
            "_view_count": null,
            "_view_module": "@jupyter-widgets/base",
            "_view_module_version": "1.2.0",
            "_view_name": "LayoutView",
            "align_content": null,
            "align_items": null,
            "align_self": null,
            "border": null,
            "bottom": null,
            "display": null,
            "flex": null,
            "flex_flow": null,
            "grid_area": null,
            "grid_auto_columns": null,
            "grid_auto_flow": null,
            "grid_auto_rows": null,
            "grid_column": null,
            "grid_gap": null,
            "grid_row": null,
            "grid_template_areas": null,
            "grid_template_columns": null,
            "grid_template_rows": null,
            "height": null,
            "justify_content": null,
            "justify_items": null,
            "left": null,
            "margin": null,
            "max_height": null,
            "max_width": null,
            "min_height": null,
            "min_width": null,
            "object_fit": null,
            "object_position": null,
            "order": null,
            "overflow": null,
            "overflow_x": null,
            "overflow_y": null,
            "padding": null,
            "right": null,
            "top": null,
            "visibility": null,
            "width": null
          }
        },
        "636ff05f6ce24e9c8bb6badcc140632f": {
          "model_module": "@jupyter-widgets/controls",
          "model_name": "DescriptionStyleModel",
          "model_module_version": "1.5.0",
          "state": {
            "_model_module": "@jupyter-widgets/controls",
            "_model_module_version": "1.5.0",
            "_model_name": "DescriptionStyleModel",
            "_view_count": null,
            "_view_module": "@jupyter-widgets/base",
            "_view_module_version": "1.2.0",
            "_view_name": "StyleView",
            "description_width": ""
          }
        },
        "28252cceb04540b795447bab1271a758": {
          "model_module": "@jupyter-widgets/controls",
          "model_name": "HBoxModel",
          "model_module_version": "1.5.0",
          "state": {
            "_dom_classes": [],
            "_model_module": "@jupyter-widgets/controls",
            "_model_module_version": "1.5.0",
            "_model_name": "HBoxModel",
            "_view_count": null,
            "_view_module": "@jupyter-widgets/controls",
            "_view_module_version": "1.5.0",
            "_view_name": "HBoxView",
            "box_style": "",
            "children": [
              "IPY_MODEL_cdf22626d25c403e992afd7819213cf9",
              "IPY_MODEL_443b9d822b124fccbb0644d23e0ffba5",
              "IPY_MODEL_90599c83ab6d4fc48c73bb09abdbb582"
            ],
            "layout": "IPY_MODEL_b0dd04eb78ef44deb2519518472f2d40"
          }
        },
        "cdf22626d25c403e992afd7819213cf9": {
          "model_module": "@jupyter-widgets/controls",
          "model_name": "HTMLModel",
          "model_module_version": "1.5.0",
          "state": {
            "_dom_classes": [],
            "_model_module": "@jupyter-widgets/controls",
            "_model_module_version": "1.5.0",
            "_model_name": "HTMLModel",
            "_view_count": null,
            "_view_module": "@jupyter-widgets/controls",
            "_view_module_version": "1.5.0",
            "_view_name": "HTMLView",
            "description": "",
            "description_tooltip": null,
            "layout": "IPY_MODEL_0875a1e82c3d41d792dd20ff4448954d",
            "placeholder": "​",
            "style": "IPY_MODEL_27fef6d6ab0740baae20b96fa26050b6",
            "value": "100%"
          }
        },
        "443b9d822b124fccbb0644d23e0ffba5": {
          "model_module": "@jupyter-widgets/controls",
          "model_name": "FloatProgressModel",
          "model_module_version": "1.5.0",
          "state": {
            "_dom_classes": [],
            "_model_module": "@jupyter-widgets/controls",
            "_model_module_version": "1.5.0",
            "_model_name": "FloatProgressModel",
            "_view_count": null,
            "_view_module": "@jupyter-widgets/controls",
            "_view_module_version": "1.5.0",
            "_view_name": "ProgressView",
            "bar_style": "success",
            "description": "",
            "description_tooltip": null,
            "layout": "IPY_MODEL_d2d92dae09084d87b5a3f10930091932",
            "max": 29515,
            "min": 0,
            "orientation": "horizontal",
            "style": "IPY_MODEL_1949edd5502748cea91f3804b323f6e9",
            "value": 29515
          }
        },
        "90599c83ab6d4fc48c73bb09abdbb582": {
          "model_module": "@jupyter-widgets/controls",
          "model_name": "HTMLModel",
          "model_module_version": "1.5.0",
          "state": {
            "_dom_classes": [],
            "_model_module": "@jupyter-widgets/controls",
            "_model_module_version": "1.5.0",
            "_model_name": "HTMLModel",
            "_view_count": null,
            "_view_module": "@jupyter-widgets/controls",
            "_view_module_version": "1.5.0",
            "_view_name": "HTMLView",
            "description": "",
            "description_tooltip": null,
            "layout": "IPY_MODEL_fa57ac05ca0348b08ba5921e4b54c39f",
            "placeholder": "​",
            "style": "IPY_MODEL_94acb3b1d8c64e57bd760876f93d379a",
            "value": " 29515/29515 [00:00&lt;00:00, 262020.82it/s]"
          }
        },
        "b0dd04eb78ef44deb2519518472f2d40": {
          "model_module": "@jupyter-widgets/base",
          "model_name": "LayoutModel",
          "model_module_version": "1.2.0",
          "state": {
            "_model_module": "@jupyter-widgets/base",
            "_model_module_version": "1.2.0",
            "_model_name": "LayoutModel",
            "_view_count": null,
            "_view_module": "@jupyter-widgets/base",
            "_view_module_version": "1.2.0",
            "_view_name": "LayoutView",
            "align_content": null,
            "align_items": null,
            "align_self": null,
            "border": null,
            "bottom": null,
            "display": null,
            "flex": null,
            "flex_flow": null,
            "grid_area": null,
            "grid_auto_columns": null,
            "grid_auto_flow": null,
            "grid_auto_rows": null,
            "grid_column": null,
            "grid_gap": null,
            "grid_row": null,
            "grid_template_areas": null,
            "grid_template_columns": null,
            "grid_template_rows": null,
            "height": null,
            "justify_content": null,
            "justify_items": null,
            "left": null,
            "margin": null,
            "max_height": null,
            "max_width": null,
            "min_height": null,
            "min_width": null,
            "object_fit": null,
            "object_position": null,
            "order": null,
            "overflow": null,
            "overflow_x": null,
            "overflow_y": null,
            "padding": null,
            "right": null,
            "top": null,
            "visibility": null,
            "width": null
          }
        },
        "0875a1e82c3d41d792dd20ff4448954d": {
          "model_module": "@jupyter-widgets/base",
          "model_name": "LayoutModel",
          "model_module_version": "1.2.0",
          "state": {
            "_model_module": "@jupyter-widgets/base",
            "_model_module_version": "1.2.0",
            "_model_name": "LayoutModel",
            "_view_count": null,
            "_view_module": "@jupyter-widgets/base",
            "_view_module_version": "1.2.0",
            "_view_name": "LayoutView",
            "align_content": null,
            "align_items": null,
            "align_self": null,
            "border": null,
            "bottom": null,
            "display": null,
            "flex": null,
            "flex_flow": null,
            "grid_area": null,
            "grid_auto_columns": null,
            "grid_auto_flow": null,
            "grid_auto_rows": null,
            "grid_column": null,
            "grid_gap": null,
            "grid_row": null,
            "grid_template_areas": null,
            "grid_template_columns": null,
            "grid_template_rows": null,
            "height": null,
            "justify_content": null,
            "justify_items": null,
            "left": null,
            "margin": null,
            "max_height": null,
            "max_width": null,
            "min_height": null,
            "min_width": null,
            "object_fit": null,
            "object_position": null,
            "order": null,
            "overflow": null,
            "overflow_x": null,
            "overflow_y": null,
            "padding": null,
            "right": null,
            "top": null,
            "visibility": null,
            "width": null
          }
        },
        "27fef6d6ab0740baae20b96fa26050b6": {
          "model_module": "@jupyter-widgets/controls",
          "model_name": "DescriptionStyleModel",
          "model_module_version": "1.5.0",
          "state": {
            "_model_module": "@jupyter-widgets/controls",
            "_model_module_version": "1.5.0",
            "_model_name": "DescriptionStyleModel",
            "_view_count": null,
            "_view_module": "@jupyter-widgets/base",
            "_view_module_version": "1.2.0",
            "_view_name": "StyleView",
            "description_width": ""
          }
        },
        "d2d92dae09084d87b5a3f10930091932": {
          "model_module": "@jupyter-widgets/base",
          "model_name": "LayoutModel",
          "model_module_version": "1.2.0",
          "state": {
            "_model_module": "@jupyter-widgets/base",
            "_model_module_version": "1.2.0",
            "_model_name": "LayoutModel",
            "_view_count": null,
            "_view_module": "@jupyter-widgets/base",
            "_view_module_version": "1.2.0",
            "_view_name": "LayoutView",
            "align_content": null,
            "align_items": null,
            "align_self": null,
            "border": null,
            "bottom": null,
            "display": null,
            "flex": null,
            "flex_flow": null,
            "grid_area": null,
            "grid_auto_columns": null,
            "grid_auto_flow": null,
            "grid_auto_rows": null,
            "grid_column": null,
            "grid_gap": null,
            "grid_row": null,
            "grid_template_areas": null,
            "grid_template_columns": null,
            "grid_template_rows": null,
            "height": null,
            "justify_content": null,
            "justify_items": null,
            "left": null,
            "margin": null,
            "max_height": null,
            "max_width": null,
            "min_height": null,
            "min_width": null,
            "object_fit": null,
            "object_position": null,
            "order": null,
            "overflow": null,
            "overflow_x": null,
            "overflow_y": null,
            "padding": null,
            "right": null,
            "top": null,
            "visibility": null,
            "width": null
          }
        },
        "1949edd5502748cea91f3804b323f6e9": {
          "model_module": "@jupyter-widgets/controls",
          "model_name": "ProgressStyleModel",
          "model_module_version": "1.5.0",
          "state": {
            "_model_module": "@jupyter-widgets/controls",
            "_model_module_version": "1.5.0",
            "_model_name": "ProgressStyleModel",
            "_view_count": null,
            "_view_module": "@jupyter-widgets/base",
            "_view_module_version": "1.2.0",
            "_view_name": "StyleView",
            "bar_color": null,
            "description_width": ""
          }
        },
        "fa57ac05ca0348b08ba5921e4b54c39f": {
          "model_module": "@jupyter-widgets/base",
          "model_name": "LayoutModel",
          "model_module_version": "1.2.0",
          "state": {
            "_model_module": "@jupyter-widgets/base",
            "_model_module_version": "1.2.0",
            "_model_name": "LayoutModel",
            "_view_count": null,
            "_view_module": "@jupyter-widgets/base",
            "_view_module_version": "1.2.0",
            "_view_name": "LayoutView",
            "align_content": null,
            "align_items": null,
            "align_self": null,
            "border": null,
            "bottom": null,
            "display": null,
            "flex": null,
            "flex_flow": null,
            "grid_area": null,
            "grid_auto_columns": null,
            "grid_auto_flow": null,
            "grid_auto_rows": null,
            "grid_column": null,
            "grid_gap": null,
            "grid_row": null,
            "grid_template_areas": null,
            "grid_template_columns": null,
            "grid_template_rows": null,
            "height": null,
            "justify_content": null,
            "justify_items": null,
            "left": null,
            "margin": null,
            "max_height": null,
            "max_width": null,
            "min_height": null,
            "min_width": null,
            "object_fit": null,
            "object_position": null,
            "order": null,
            "overflow": null,
            "overflow_x": null,
            "overflow_y": null,
            "padding": null,
            "right": null,
            "top": null,
            "visibility": null,
            "width": null
          }
        },
        "94acb3b1d8c64e57bd760876f93d379a": {
          "model_module": "@jupyter-widgets/controls",
          "model_name": "DescriptionStyleModel",
          "model_module_version": "1.5.0",
          "state": {
            "_model_module": "@jupyter-widgets/controls",
            "_model_module_version": "1.5.0",
            "_model_name": "DescriptionStyleModel",
            "_view_count": null,
            "_view_module": "@jupyter-widgets/base",
            "_view_module_version": "1.2.0",
            "_view_name": "StyleView",
            "description_width": ""
          }
        },
        "06bae3935fdb48aabd043f25a097a166": {
          "model_module": "@jupyter-widgets/controls",
          "model_name": "HBoxModel",
          "model_module_version": "1.5.0",
          "state": {
            "_dom_classes": [],
            "_model_module": "@jupyter-widgets/controls",
            "_model_module_version": "1.5.0",
            "_model_name": "HBoxModel",
            "_view_count": null,
            "_view_module": "@jupyter-widgets/controls",
            "_view_module_version": "1.5.0",
            "_view_name": "HBoxView",
            "box_style": "",
            "children": [
              "IPY_MODEL_6db0a801015e4ccdb51f79fe8aeb5405",
              "IPY_MODEL_6a5cb2fef3bf4520b0129001a8b95670",
              "IPY_MODEL_418123b03cfd44de89494ad5d500fa7d"
            ],
            "layout": "IPY_MODEL_a2faa75a185543b1a5ff027e8f1d75c2"
          }
        },
        "6db0a801015e4ccdb51f79fe8aeb5405": {
          "model_module": "@jupyter-widgets/controls",
          "model_name": "HTMLModel",
          "model_module_version": "1.5.0",
          "state": {
            "_dom_classes": [],
            "_model_module": "@jupyter-widgets/controls",
            "_model_module_version": "1.5.0",
            "_model_name": "HTMLModel",
            "_view_count": null,
            "_view_module": "@jupyter-widgets/controls",
            "_view_module_version": "1.5.0",
            "_view_name": "HTMLView",
            "description": "",
            "description_tooltip": null,
            "layout": "IPY_MODEL_3fc5bbe1645c4ae3847853a4ffe7b157",
            "placeholder": "​",
            "style": "IPY_MODEL_7b2ea82f60ce49e185708d925c812988",
            "value": "100%"
          }
        },
        "6a5cb2fef3bf4520b0129001a8b95670": {
          "model_module": "@jupyter-widgets/controls",
          "model_name": "FloatProgressModel",
          "model_module_version": "1.5.0",
          "state": {
            "_dom_classes": [],
            "_model_module": "@jupyter-widgets/controls",
            "_model_module_version": "1.5.0",
            "_model_name": "FloatProgressModel",
            "_view_count": null,
            "_view_module": "@jupyter-widgets/controls",
            "_view_module_version": "1.5.0",
            "_view_name": "ProgressView",
            "bar_style": "success",
            "description": "",
            "description_tooltip": null,
            "layout": "IPY_MODEL_942203db55414524941a048edd09c2d6",
            "max": 4422102,
            "min": 0,
            "orientation": "horizontal",
            "style": "IPY_MODEL_35d60712d07c40d8bce189fea60fae55",
            "value": 4422102
          }
        },
        "418123b03cfd44de89494ad5d500fa7d": {
          "model_module": "@jupyter-widgets/controls",
          "model_name": "HTMLModel",
          "model_module_version": "1.5.0",
          "state": {
            "_dom_classes": [],
            "_model_module": "@jupyter-widgets/controls",
            "_model_module_version": "1.5.0",
            "_model_name": "HTMLModel",
            "_view_count": null,
            "_view_module": "@jupyter-widgets/controls",
            "_view_module_version": "1.5.0",
            "_view_name": "HTMLView",
            "description": "",
            "description_tooltip": null,
            "layout": "IPY_MODEL_b12456e5ac6e418fac80e13ea66eae5e",
            "placeholder": "​",
            "style": "IPY_MODEL_28f005806c074375a03b1ba24b153fde",
            "value": " 4422102/4422102 [00:00&lt;00:00, 8370150.36it/s]"
          }
        },
        "a2faa75a185543b1a5ff027e8f1d75c2": {
          "model_module": "@jupyter-widgets/base",
          "model_name": "LayoutModel",
          "model_module_version": "1.2.0",
          "state": {
            "_model_module": "@jupyter-widgets/base",
            "_model_module_version": "1.2.0",
            "_model_name": "LayoutModel",
            "_view_count": null,
            "_view_module": "@jupyter-widgets/base",
            "_view_module_version": "1.2.0",
            "_view_name": "LayoutView",
            "align_content": null,
            "align_items": null,
            "align_self": null,
            "border": null,
            "bottom": null,
            "display": null,
            "flex": null,
            "flex_flow": null,
            "grid_area": null,
            "grid_auto_columns": null,
            "grid_auto_flow": null,
            "grid_auto_rows": null,
            "grid_column": null,
            "grid_gap": null,
            "grid_row": null,
            "grid_template_areas": null,
            "grid_template_columns": null,
            "grid_template_rows": null,
            "height": null,
            "justify_content": null,
            "justify_items": null,
            "left": null,
            "margin": null,
            "max_height": null,
            "max_width": null,
            "min_height": null,
            "min_width": null,
            "object_fit": null,
            "object_position": null,
            "order": null,
            "overflow": null,
            "overflow_x": null,
            "overflow_y": null,
            "padding": null,
            "right": null,
            "top": null,
            "visibility": null,
            "width": null
          }
        },
        "3fc5bbe1645c4ae3847853a4ffe7b157": {
          "model_module": "@jupyter-widgets/base",
          "model_name": "LayoutModel",
          "model_module_version": "1.2.0",
          "state": {
            "_model_module": "@jupyter-widgets/base",
            "_model_module_version": "1.2.0",
            "_model_name": "LayoutModel",
            "_view_count": null,
            "_view_module": "@jupyter-widgets/base",
            "_view_module_version": "1.2.0",
            "_view_name": "LayoutView",
            "align_content": null,
            "align_items": null,
            "align_self": null,
            "border": null,
            "bottom": null,
            "display": null,
            "flex": null,
            "flex_flow": null,
            "grid_area": null,
            "grid_auto_columns": null,
            "grid_auto_flow": null,
            "grid_auto_rows": null,
            "grid_column": null,
            "grid_gap": null,
            "grid_row": null,
            "grid_template_areas": null,
            "grid_template_columns": null,
            "grid_template_rows": null,
            "height": null,
            "justify_content": null,
            "justify_items": null,
            "left": null,
            "margin": null,
            "max_height": null,
            "max_width": null,
            "min_height": null,
            "min_width": null,
            "object_fit": null,
            "object_position": null,
            "order": null,
            "overflow": null,
            "overflow_x": null,
            "overflow_y": null,
            "padding": null,
            "right": null,
            "top": null,
            "visibility": null,
            "width": null
          }
        },
        "7b2ea82f60ce49e185708d925c812988": {
          "model_module": "@jupyter-widgets/controls",
          "model_name": "DescriptionStyleModel",
          "model_module_version": "1.5.0",
          "state": {
            "_model_module": "@jupyter-widgets/controls",
            "_model_module_version": "1.5.0",
            "_model_name": "DescriptionStyleModel",
            "_view_count": null,
            "_view_module": "@jupyter-widgets/base",
            "_view_module_version": "1.2.0",
            "_view_name": "StyleView",
            "description_width": ""
          }
        },
        "942203db55414524941a048edd09c2d6": {
          "model_module": "@jupyter-widgets/base",
          "model_name": "LayoutModel",
          "model_module_version": "1.2.0",
          "state": {
            "_model_module": "@jupyter-widgets/base",
            "_model_module_version": "1.2.0",
            "_model_name": "LayoutModel",
            "_view_count": null,
            "_view_module": "@jupyter-widgets/base",
            "_view_module_version": "1.2.0",
            "_view_name": "LayoutView",
            "align_content": null,
            "align_items": null,
            "align_self": null,
            "border": null,
            "bottom": null,
            "display": null,
            "flex": null,
            "flex_flow": null,
            "grid_area": null,
            "grid_auto_columns": null,
            "grid_auto_flow": null,
            "grid_auto_rows": null,
            "grid_column": null,
            "grid_gap": null,
            "grid_row": null,
            "grid_template_areas": null,
            "grid_template_columns": null,
            "grid_template_rows": null,
            "height": null,
            "justify_content": null,
            "justify_items": null,
            "left": null,
            "margin": null,
            "max_height": null,
            "max_width": null,
            "min_height": null,
            "min_width": null,
            "object_fit": null,
            "object_position": null,
            "order": null,
            "overflow": null,
            "overflow_x": null,
            "overflow_y": null,
            "padding": null,
            "right": null,
            "top": null,
            "visibility": null,
            "width": null
          }
        },
        "35d60712d07c40d8bce189fea60fae55": {
          "model_module": "@jupyter-widgets/controls",
          "model_name": "ProgressStyleModel",
          "model_module_version": "1.5.0",
          "state": {
            "_model_module": "@jupyter-widgets/controls",
            "_model_module_version": "1.5.0",
            "_model_name": "ProgressStyleModel",
            "_view_count": null,
            "_view_module": "@jupyter-widgets/base",
            "_view_module_version": "1.2.0",
            "_view_name": "StyleView",
            "bar_color": null,
            "description_width": ""
          }
        },
        "b12456e5ac6e418fac80e13ea66eae5e": {
          "model_module": "@jupyter-widgets/base",
          "model_name": "LayoutModel",
          "model_module_version": "1.2.0",
          "state": {
            "_model_module": "@jupyter-widgets/base",
            "_model_module_version": "1.2.0",
            "_model_name": "LayoutModel",
            "_view_count": null,
            "_view_module": "@jupyter-widgets/base",
            "_view_module_version": "1.2.0",
            "_view_name": "LayoutView",
            "align_content": null,
            "align_items": null,
            "align_self": null,
            "border": null,
            "bottom": null,
            "display": null,
            "flex": null,
            "flex_flow": null,
            "grid_area": null,
            "grid_auto_columns": null,
            "grid_auto_flow": null,
            "grid_auto_rows": null,
            "grid_column": null,
            "grid_gap": null,
            "grid_row": null,
            "grid_template_areas": null,
            "grid_template_columns": null,
            "grid_template_rows": null,
            "height": null,
            "justify_content": null,
            "justify_items": null,
            "left": null,
            "margin": null,
            "max_height": null,
            "max_width": null,
            "min_height": null,
            "min_width": null,
            "object_fit": null,
            "object_position": null,
            "order": null,
            "overflow": null,
            "overflow_x": null,
            "overflow_y": null,
            "padding": null,
            "right": null,
            "top": null,
            "visibility": null,
            "width": null
          }
        },
        "28f005806c074375a03b1ba24b153fde": {
          "model_module": "@jupyter-widgets/controls",
          "model_name": "DescriptionStyleModel",
          "model_module_version": "1.5.0",
          "state": {
            "_model_module": "@jupyter-widgets/controls",
            "_model_module_version": "1.5.0",
            "_model_name": "DescriptionStyleModel",
            "_view_count": null,
            "_view_module": "@jupyter-widgets/base",
            "_view_module_version": "1.2.0",
            "_view_name": "StyleView",
            "description_width": ""
          }
        },
        "0fcc7bcc4c66470c8b961aa286b6fbeb": {
          "model_module": "@jupyter-widgets/controls",
          "model_name": "HBoxModel",
          "model_module_version": "1.5.0",
          "state": {
            "_dom_classes": [],
            "_model_module": "@jupyter-widgets/controls",
            "_model_module_version": "1.5.0",
            "_model_name": "HBoxModel",
            "_view_count": null,
            "_view_module": "@jupyter-widgets/controls",
            "_view_module_version": "1.5.0",
            "_view_name": "HBoxView",
            "box_style": "",
            "children": [
              "IPY_MODEL_3074534f47ba4bf89edbe1b16c60d55a",
              "IPY_MODEL_c71b49980f714d528431020baffb0266",
              "IPY_MODEL_8298b27870f443269567f02c20c040fd"
            ],
            "layout": "IPY_MODEL_b845964c250c4cd292b21a890bd8e2da"
          }
        },
        "3074534f47ba4bf89edbe1b16c60d55a": {
          "model_module": "@jupyter-widgets/controls",
          "model_name": "HTMLModel",
          "model_module_version": "1.5.0",
          "state": {
            "_dom_classes": [],
            "_model_module": "@jupyter-widgets/controls",
            "_model_module_version": "1.5.0",
            "_model_name": "HTMLModel",
            "_view_count": null,
            "_view_module": "@jupyter-widgets/controls",
            "_view_module_version": "1.5.0",
            "_view_name": "HTMLView",
            "description": "",
            "description_tooltip": null,
            "layout": "IPY_MODEL_16cef689caa24d4eb4d7e9665ed3f777",
            "placeholder": "​",
            "style": "IPY_MODEL_1207bbc49cfc4507aa6afb1e2a7511fb",
            "value": "100%"
          }
        },
        "c71b49980f714d528431020baffb0266": {
          "model_module": "@jupyter-widgets/controls",
          "model_name": "FloatProgressModel",
          "model_module_version": "1.5.0",
          "state": {
            "_dom_classes": [],
            "_model_module": "@jupyter-widgets/controls",
            "_model_module_version": "1.5.0",
            "_model_name": "FloatProgressModel",
            "_view_count": null,
            "_view_module": "@jupyter-widgets/controls",
            "_view_module_version": "1.5.0",
            "_view_name": "ProgressView",
            "bar_style": "success",
            "description": "",
            "description_tooltip": null,
            "layout": "IPY_MODEL_5a02a72cc9af4e60abc31a988228bb62",
            "max": 5148,
            "min": 0,
            "orientation": "horizontal",
            "style": "IPY_MODEL_59d99a796b6f441cb81903f0d20d4081",
            "value": 5148
          }
        },
        "8298b27870f443269567f02c20c040fd": {
          "model_module": "@jupyter-widgets/controls",
          "model_name": "HTMLModel",
          "model_module_version": "1.5.0",
          "state": {
            "_dom_classes": [],
            "_model_module": "@jupyter-widgets/controls",
            "_model_module_version": "1.5.0",
            "_model_name": "HTMLModel",
            "_view_count": null,
            "_view_module": "@jupyter-widgets/controls",
            "_view_module_version": "1.5.0",
            "_view_name": "HTMLView",
            "description": "",
            "description_tooltip": null,
            "layout": "IPY_MODEL_cb66d01a88fd4b87aff8898a93a1a0da",
            "placeholder": "​",
            "style": "IPY_MODEL_aaa4718fd2084857ab720eee9ff83553",
            "value": " 5148/5148 [00:00&lt;00:00, 93691.27it/s]"
          }
        },
        "b845964c250c4cd292b21a890bd8e2da": {
          "model_module": "@jupyter-widgets/base",
          "model_name": "LayoutModel",
          "model_module_version": "1.2.0",
          "state": {
            "_model_module": "@jupyter-widgets/base",
            "_model_module_version": "1.2.0",
            "_model_name": "LayoutModel",
            "_view_count": null,
            "_view_module": "@jupyter-widgets/base",
            "_view_module_version": "1.2.0",
            "_view_name": "LayoutView",
            "align_content": null,
            "align_items": null,
            "align_self": null,
            "border": null,
            "bottom": null,
            "display": null,
            "flex": null,
            "flex_flow": null,
            "grid_area": null,
            "grid_auto_columns": null,
            "grid_auto_flow": null,
            "grid_auto_rows": null,
            "grid_column": null,
            "grid_gap": null,
            "grid_row": null,
            "grid_template_areas": null,
            "grid_template_columns": null,
            "grid_template_rows": null,
            "height": null,
            "justify_content": null,
            "justify_items": null,
            "left": null,
            "margin": null,
            "max_height": null,
            "max_width": null,
            "min_height": null,
            "min_width": null,
            "object_fit": null,
            "object_position": null,
            "order": null,
            "overflow": null,
            "overflow_x": null,
            "overflow_y": null,
            "padding": null,
            "right": null,
            "top": null,
            "visibility": null,
            "width": null
          }
        },
        "16cef689caa24d4eb4d7e9665ed3f777": {
          "model_module": "@jupyter-widgets/base",
          "model_name": "LayoutModel",
          "model_module_version": "1.2.0",
          "state": {
            "_model_module": "@jupyter-widgets/base",
            "_model_module_version": "1.2.0",
            "_model_name": "LayoutModel",
            "_view_count": null,
            "_view_module": "@jupyter-widgets/base",
            "_view_module_version": "1.2.0",
            "_view_name": "LayoutView",
            "align_content": null,
            "align_items": null,
            "align_self": null,
            "border": null,
            "bottom": null,
            "display": null,
            "flex": null,
            "flex_flow": null,
            "grid_area": null,
            "grid_auto_columns": null,
            "grid_auto_flow": null,
            "grid_auto_rows": null,
            "grid_column": null,
            "grid_gap": null,
            "grid_row": null,
            "grid_template_areas": null,
            "grid_template_columns": null,
            "grid_template_rows": null,
            "height": null,
            "justify_content": null,
            "justify_items": null,
            "left": null,
            "margin": null,
            "max_height": null,
            "max_width": null,
            "min_height": null,
            "min_width": null,
            "object_fit": null,
            "object_position": null,
            "order": null,
            "overflow": null,
            "overflow_x": null,
            "overflow_y": null,
            "padding": null,
            "right": null,
            "top": null,
            "visibility": null,
            "width": null
          }
        },
        "1207bbc49cfc4507aa6afb1e2a7511fb": {
          "model_module": "@jupyter-widgets/controls",
          "model_name": "DescriptionStyleModel",
          "model_module_version": "1.5.0",
          "state": {
            "_model_module": "@jupyter-widgets/controls",
            "_model_module_version": "1.5.0",
            "_model_name": "DescriptionStyleModel",
            "_view_count": null,
            "_view_module": "@jupyter-widgets/base",
            "_view_module_version": "1.2.0",
            "_view_name": "StyleView",
            "description_width": ""
          }
        },
        "5a02a72cc9af4e60abc31a988228bb62": {
          "model_module": "@jupyter-widgets/base",
          "model_name": "LayoutModel",
          "model_module_version": "1.2.0",
          "state": {
            "_model_module": "@jupyter-widgets/base",
            "_model_module_version": "1.2.0",
            "_model_name": "LayoutModel",
            "_view_count": null,
            "_view_module": "@jupyter-widgets/base",
            "_view_module_version": "1.2.0",
            "_view_name": "LayoutView",
            "align_content": null,
            "align_items": null,
            "align_self": null,
            "border": null,
            "bottom": null,
            "display": null,
            "flex": null,
            "flex_flow": null,
            "grid_area": null,
            "grid_auto_columns": null,
            "grid_auto_flow": null,
            "grid_auto_rows": null,
            "grid_column": null,
            "grid_gap": null,
            "grid_row": null,
            "grid_template_areas": null,
            "grid_template_columns": null,
            "grid_template_rows": null,
            "height": null,
            "justify_content": null,
            "justify_items": null,
            "left": null,
            "margin": null,
            "max_height": null,
            "max_width": null,
            "min_height": null,
            "min_width": null,
            "object_fit": null,
            "object_position": null,
            "order": null,
            "overflow": null,
            "overflow_x": null,
            "overflow_y": null,
            "padding": null,
            "right": null,
            "top": null,
            "visibility": null,
            "width": null
          }
        },
        "59d99a796b6f441cb81903f0d20d4081": {
          "model_module": "@jupyter-widgets/controls",
          "model_name": "ProgressStyleModel",
          "model_module_version": "1.5.0",
          "state": {
            "_model_module": "@jupyter-widgets/controls",
            "_model_module_version": "1.5.0",
            "_model_name": "ProgressStyleModel",
            "_view_count": null,
            "_view_module": "@jupyter-widgets/base",
            "_view_module_version": "1.2.0",
            "_view_name": "StyleView",
            "bar_color": null,
            "description_width": ""
          }
        },
        "cb66d01a88fd4b87aff8898a93a1a0da": {
          "model_module": "@jupyter-widgets/base",
          "model_name": "LayoutModel",
          "model_module_version": "1.2.0",
          "state": {
            "_model_module": "@jupyter-widgets/base",
            "_model_module_version": "1.2.0",
            "_model_name": "LayoutModel",
            "_view_count": null,
            "_view_module": "@jupyter-widgets/base",
            "_view_module_version": "1.2.0",
            "_view_name": "LayoutView",
            "align_content": null,
            "align_items": null,
            "align_self": null,
            "border": null,
            "bottom": null,
            "display": null,
            "flex": null,
            "flex_flow": null,
            "grid_area": null,
            "grid_auto_columns": null,
            "grid_auto_flow": null,
            "grid_auto_rows": null,
            "grid_column": null,
            "grid_gap": null,
            "grid_row": null,
            "grid_template_areas": null,
            "grid_template_columns": null,
            "grid_template_rows": null,
            "height": null,
            "justify_content": null,
            "justify_items": null,
            "left": null,
            "margin": null,
            "max_height": null,
            "max_width": null,
            "min_height": null,
            "min_width": null,
            "object_fit": null,
            "object_position": null,
            "order": null,
            "overflow": null,
            "overflow_x": null,
            "overflow_y": null,
            "padding": null,
            "right": null,
            "top": null,
            "visibility": null,
            "width": null
          }
        },
        "aaa4718fd2084857ab720eee9ff83553": {
          "model_module": "@jupyter-widgets/controls",
          "model_name": "DescriptionStyleModel",
          "model_module_version": "1.5.0",
          "state": {
            "_model_module": "@jupyter-widgets/controls",
            "_model_module_version": "1.5.0",
            "_model_name": "DescriptionStyleModel",
            "_view_count": null,
            "_view_module": "@jupyter-widgets/base",
            "_view_module_version": "1.2.0",
            "_view_name": "StyleView",
            "description_width": ""
          }
        }
      }
    }
  },
  "nbformat": 4,
  "nbformat_minor": 0
}