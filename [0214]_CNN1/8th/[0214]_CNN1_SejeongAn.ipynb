{
  "nbformat": 4,
  "nbformat_minor": 0,
  "metadata": {
    "colab": {
      "provenance": [],
      "collapsed_sections": [
        "cdNvme8aKSBP",
        "OHckdZ55KeH2",
        "mCrBa-gRRMEO",
        "EFPYE3UUnpmX",
        "xVxKI_rwCvhI",
        "klpXGc2tCimP",
        "huNh3EnhJLyh",
        "W-2Q7c6-JW9z",
        "FOUBE2UfKS6D",
        "LaVvtEOvKUgJ",
        "jRyyw49jKVhj",
        "5IecfHZiI09W",
        "SZcZQv4PGeYv",
        "V7HoLqroDhyF",
        "_civVcIYBGxA",
        "7Thu9NRyCV7j",
        "kuP_3_DyD42p"
      ]
    },
    "kernelspec": {
      "name": "python3",
      "display_name": "Python 3"
    },
    "accelerator": "GPU",
    "gpuClass": "standard"
  },
  "cells": [
    {
      "cell_type": "markdown",
      "source": [
        "# 초기 세팅"
      ],
      "metadata": {
        "id": "cdNvme8aKSBP"
      }
    },
    {
      "cell_type": "code",
      "metadata": {
        "id": "P1v9luAfHXdz"
      },
      "source": [
        "import torch\n",
        "import torch.nn as nn\n",
        "import torch.nn.functional as F\n",
        "import torch.optim as optim\n",
        "from torch.utils.data import Dataset, DataLoader\n",
        "\n",
        "import torchvision\n",
        "import torchvision.datasets as datasets\n",
        "import torchvision.transforms as transforms\n",
        "\n",
        "import numpy as np\n",
        "import matplotlib.pyplot as plt\n",
        "plt.style.use('seaborn-white')"
      ],
      "execution_count": 20,
      "outputs": []
    },
    {
      "cell_type": "code",
      "source": [
        "!pip install torchsummary\n",
        "from torchsummary import summary"
      ],
      "metadata": {
        "colab": {
          "base_uri": "https://localhost:8080/"
        },
        "id": "D39aCPyTu2Ce",
        "outputId": "455c86e1-4bbe-4c85-ceb2-e03080e3c7c0"
      },
      "execution_count": 21,
      "outputs": [
        {
          "output_type": "stream",
          "name": "stdout",
          "text": [
            "Looking in indexes: https://pypi.org/simple, https://us-python.pkg.dev/colab-wheels/public/simple/\n",
            "Requirement already satisfied: torchsummary in /usr/local/lib/python3.8/dist-packages (1.5.1)\n"
          ]
        }
      ]
    },
    {
      "cell_type": "markdown",
      "metadata": {
        "id": "02LdHlTTSz5L"
      },
      "source": [
        "- 현재 GPU 설정"
      ]
    },
    {
      "cell_type": "code",
      "metadata": {
        "id": "Ybsjn80uSx3X",
        "colab": {
          "base_uri": "https://localhost:8080/"
        },
        "outputId": "7f933e4c-7650-4bc3-f678-989c890e90fc"
      },
      "source": [
        "# colab의 runtime-type을 GPU로 설정해서, True가 나오도록 한다.\n",
        "\n",
        "torch.cuda.is_available()"
      ],
      "execution_count": 22,
      "outputs": [
        {
          "output_type": "execute_result",
          "data": {
            "text/plain": [
              "True"
            ]
          },
          "metadata": {},
          "execution_count": 22
        }
      ]
    },
    {
      "cell_type": "code",
      "metadata": {
        "id": "HlPZI5wfDQhv",
        "colab": {
          "base_uri": "https://localhost:8080/"
        },
        "outputId": "27e0dc6f-6e30-4a77-ea73-1df3bbe1ce3d"
      },
      "source": [
        "use_cuda = torch.cuda.is_available()\n",
        "device = torch.device(\"cuda\" if use_cuda else \"cpu\")\n",
        "device"
      ],
      "execution_count": 23,
      "outputs": [
        {
          "output_type": "execute_result",
          "data": {
            "text/plain": [
              "device(type='cuda')"
            ]
          },
          "metadata": {},
          "execution_count": 23
        }
      ]
    },
    {
      "cell_type": "markdown",
      "source": [
        "# FashionMNIST 분류 모델 만들기\n",
        "* 흑/백(1) 이미지 데이터 분류\n",
        "* 28x28 pixel"
      ],
      "metadata": {
        "id": "OHckdZ55KeH2"
      }
    },
    {
      "cell_type": "markdown",
      "source": [
        "## 데이터 로드"
      ],
      "metadata": {
        "id": "mCrBa-gRRMEO"
      }
    },
    {
      "cell_type": "code",
      "source": [
        "# 데이터 전처리\n",
        "\n",
        "MNIST_transform = transforms.Compose([transforms.ToTensor(), # tensor로 펴준다.\n",
        "                                      transforms.Normalize((0.5,),(0.5,))]) # 정규화를 해준다."
      ],
      "metadata": {
        "id": "vYP9dGrWzDqd"
      },
      "execution_count": 24,
      "outputs": []
    },
    {
      "cell_type": "code",
      "source": [
        "trainset = datasets.FashionMNIST(root='/content',\n",
        "                                 train=True, download=True,\n",
        "                                 transform=MNIST_transform)\n",
        "\n",
        "testset = datasets.FashionMNIST(root='/content',\n",
        "                                 train=False, download=True,\n",
        "                                 transform=MNIST_transform)"
      ],
      "metadata": {
        "id": "VpVsTevTWE5i"
      },
      "execution_count": 25,
      "outputs": []
    },
    {
      "cell_type": "markdown",
      "source": [
        "input-data size 확인"
      ],
      "metadata": {
        "id": "qh7uI7ewsipv"
      }
    },
    {
      "cell_type": "code",
      "source": [
        "# batch-size=128\n",
        "train_loader128 = DataLoader(trainset, batch_size=128, shuffle=True, num_workers=2)\n",
        "test_loader128 = DataLoader(testset, batch_size=128, shuffle=False, num_workers=2)\n",
        "\n",
        "# batch-size=64\n",
        "train_loader64 = DataLoader(trainset, batch_size=64, shuffle=True, num_workers=2)\n",
        "test_loader64 = DataLoader(testset, batch_size=64, shuffle=False, num_workers=2)"
      ],
      "metadata": {
        "id": "Dz-CJf0x0nne"
      },
      "execution_count": 26,
      "outputs": []
    },
    {
      "cell_type": "code",
      "source": [
        "# 128 : batch-size\n",
        "# 1 : 흑백\n",
        "# 28x28 : pixel-size\n",
        "\n",
        "images128, labels128 = next(iter(train_loader128))\n",
        "images128.shape, labels128.shape"
      ],
      "metadata": {
        "id": "iy6D1Rg_07fD",
        "colab": {
          "base_uri": "https://localhost:8080/"
        },
        "outputId": "c63a01a3-4e2f-47c4-ab19-c4d81c5ff5ec"
      },
      "execution_count": 27,
      "outputs": [
        {
          "output_type": "execute_result",
          "data": {
            "text/plain": [
              "(torch.Size([128, 1, 28, 28]), torch.Size([128]))"
            ]
          },
          "metadata": {},
          "execution_count": 27
        }
      ]
    },
    {
      "cell_type": "code",
      "source": [
        "# 64 : batch-size\n",
        "# 1 : 흑백\n",
        "# 28x28 : pixel-size\n",
        "\n",
        "images64, labels64 = next(iter(train_loader64))\n",
        "images64.shape, labels64.shape"
      ],
      "metadata": {
        "colab": {
          "base_uri": "https://localhost:8080/"
        },
        "id": "AotS6123m9sK",
        "outputId": "d1ef68b4-6d0a-4c99-e430-a5d53b92ecc9"
      },
      "execution_count": 28,
      "outputs": [
        {
          "output_type": "execute_result",
          "data": {
            "text/plain": [
              "(torch.Size([64, 1, 28, 28]), torch.Size([64]))"
            ]
          },
          "metadata": {},
          "execution_count": 28
        }
      ]
    },
    {
      "cell_type": "code",
      "source": [
        "# 숫자 label에 해당되는 값\n",
        "\n",
        "labels_map = {\n",
        "    0: 'T-Shirt',\n",
        "    1: 'Trouser',\n",
        "    2: 'Pullover',\n",
        "    3: 'Dress',\n",
        "    4: 'Coat',\n",
        "    5: 'Sandal',\n",
        "    6: 'Shirt',\n",
        "    7: 'Sneaker',\n",
        "    8: 'Bag',\n",
        "    9: 'Ankle Boot'\n",
        "}"
      ],
      "metadata": {
        "id": "g4Nd4uLGTEDy"
      },
      "execution_count": 29,
      "outputs": []
    },
    {
      "cell_type": "code",
      "source": [
        "# 데이터 확인\n",
        "\n",
        "figure = plt.figure(figsize=(12,12))\n",
        "cols, rows = 4, 1\n",
        "\n",
        "for i in range(1, cols * rows + 1):\n",
        "    image = images128[i].squeeze()\n",
        "    label_idx = labels128[i].item() # y_label\n",
        "    label = labels_map[label_idx] # 위에서 해당되는 label\n",
        "\n",
        "    figure.add_subplot(rows, cols, i)\n",
        "    plt.title(label)\n",
        "    plt.axis('off')\n",
        "    plt.imshow(image, cmap='gray')\n",
        "\n",
        "plt.show()"
      ],
      "metadata": {
        "id": "_u5_UEAH09SB",
        "colab": {
          "base_uri": "https://localhost:8080/",
          "height": 191
        },
        "outputId": "27e8ba60-c377-410c-ea5c-ff295860a3e6"
      },
      "execution_count": 30,
      "outputs": [
        {
          "output_type": "display_data",
          "data": {
            "text/plain": [
              "<Figure size 864x864 with 4 Axes>"
            ],
            "image/png": "[encoded data removed]"
          },
          "metadata": {}
        }
      ]
    },
    {
      "cell_type": "markdown",
      "source": [
        "## 모델 1 생성\n",
        "* 10개의 convolution-layer(Conv2d)와 2개의 fully-connected(fc)로 이루어진 모델\n",
        "* Total params: 28,784"
      ],
      "metadata": {
        "id": "EFPYE3UUnpmX"
      }
    },
    {
      "cell_type": "markdown",
      "source": [
        "input-data size\n",
        "* train_loader128(batch-size;128) : 128, 1, 28, 28\n",
        "* train_loader64(batch-size;64) : 64, 1, 28, 28\n",
        "\n",
        "\n",
        "구현해야하는 모델 정보<br>\n",
        "* convolution-layer 1\n",
        "* maxpooling-layer\n",
        "* convolution-layer 2\n",
        "* convolution-layer 3\n",
        "* convolution-layer 4\n",
        "* convolution-layer 5\n",
        "* convolution-layer 6\n",
        "* convolution-layer 7\n",
        "* convolution-layer 8\n",
        "* convolution-layer 9\n",
        "* maxpooling-layer\n",
        "* convolution-layer 10\n",
        "* flatten\n",
        "* fc1\n",
        "* fc2\n",
        "\n",
        "추가 정보\n",
        "* 활성화함수 : relu\n",
        "(단, maxpooling과 마지막 fc2에는 보통 활성화함수를 사용하지 않는다.)\n",
        "* flatten의 경우, weights가 들어가지 않는다. 즉, layer라고는 볼 수 없다.\n",
        "\n",
        "모델의 layer를 통과함에 따라 데이터의 크기 변화는 다음과 같다.\n",
        "1. batch-size128 -> torch.Size([128, 1, 28, 28]) 으로 시작\n",
        "2. batch-size64 -> torch.Size([64, 1, 28, 28]) 으로 시작\n",
        "> * torch.Size([128 or 64, 5, 30, 30])\n",
        "> * torch.Size([128 or 64, 5, 15, 15])\n",
        "> * torch.Size([128 or 64, 7, 15, 15])\n",
        "> * torch.Size([128 or 64, 16, 16, 16])\n",
        "> * torch.Size([128 or 64, 19, 15, 15])\n",
        "> * torch.Size([128 or 64, 29, 13, 13])\n",
        "> * torch.Size([128 or 64, 29, 14, 14])\n",
        "> * torch.Size([128 or 64, 6, 12, 12])\n",
        "> * torch.Size([128 or 64, 2, 12, 12])\n",
        "> * torch.Size([128 or 64, 10, 7, 7])\n",
        "> * torch.Size([128 or 64, 10, 3, 3])\n",
        "> * torch.Size([128 or 64, 20, 3, 3])\n",
        "> * torch.Size([128 or 64, 180])\n",
        "> * torch.Size([128 or 64, 86])\n",
        "> * torch.Size([128 or 64, 10]) "
      ],
      "metadata": {
        "id": "orF-z9choFaB"
      }
    },
    {
      "cell_type": "code",
      "source": [
        "class CNN_Model1(nn.Module):\n",
        "    def __init__(self):\n",
        "        super(CNN_Model1, self).__init__()\n",
        "\n",
        "        self.layer = nn.Sequential(\n",
        "            nn.Conv2d(in_channels=1, out_channels=5, kernel_size=3, stride=1, padding=2),\n",
        "              # in-channels = 1 <- 흑/백\n",
        "              # out-channels = 5\n",
        "              # kernel_size / filter-size = 2x2 -> f=3\n",
        "              # stride = 1(default) -> s=1\n",
        "              # padding = 2(default) -> p=2\n",
        "              # input-data pixel size = 28*28 -> n=28\n",
        "              # (n-f+2p)/s + 1 = new n\n",
        "              # (28-3+2x2)/1 + 1 = 30\n",
        "            nn.MaxPool2d(2),\n",
        "              # maxpool : n=30 -> 15\n",
        "            nn.Conv2d(in_channels=5, out_channels=7, kernel_size=3, padding=1),\n",
        "              # in-channels = 5 <- 이전것의 out-channels\n",
        "              # out-channels = 7\n",
        "              # filter-size = 3x3\n",
        "              # stride = 1(default)\n",
        "              # padding = 1\n",
        "              # (n-f+2p)/s + 1 = new n    \n",
        "              # (15-3+2x1)/1 + 1 = 15\n",
        "            nn.Conv2d(in_channels=7, out_channels=16, kernel_size=2, stride=1, padding=1),\n",
        "            nn.Conv2d(in_channels=16, out_channels=19, kernel_size=4, stride=1, padding=1),\n",
        "            nn.Conv2d(in_channels=19, out_channels=29, kernel_size=5, stride=1, padding=1),\n",
        "            nn.Conv2d(in_channels=29, out_channels=29, kernel_size=2, stride=1, padding=1),\n",
        "            nn.Conv2d(in_channels=29, out_channels=6, kernel_size=5, stride=1, padding=1),\n",
        "            nn.Conv2d(in_channels=6, out_channels=2, kernel_size=3, stride=1, padding=1),\n",
        "            nn.Conv2d(in_channels=2, out_channels=10, kernel_size=2, stride=2, padding=1),\n",
        "            nn.MaxPool2d(2),\n",
        "            nn.Conv2d(in_channels=10, out_channels=20, kernel_size=3, stride=1, padding=1)\n",
        "        )\n",
        "\n",
        "\n",
        "        self.fc_layer = nn.Sequential(\n",
        "            nn.Linear(180, 86), # 180 = 20 * 3 * 3\n",
        "            nn.Linear(86, 10)\n",
        "        )\n",
        "\n",
        "\n",
        "    def forward(self, x):\n",
        "      x = self.layer(x)\n",
        "      x = x.view(-1, self.num_flat_features(x)) # num_flat_features : 아래에서 정의\n",
        "      x = self.fc_layer(x)\n",
        "\n",
        "      return x\n",
        "    \n",
        "    def num_flat_features(self, x): # 처음 dim-size을 제외하고, 모두 곱한 값을 반환해준다.\n",
        "      size = x.size()[1:]\n",
        "      num_features = 1\n",
        "      for s in size:\n",
        "          num_features *= s\n",
        "      \n",
        "      return num_features"
      ],
      "metadata": {
        "id": "EedVZU7Knv0X"
      },
      "execution_count": 37,
      "outputs": []
    },
    {
      "cell_type": "code",
      "source": [
        "# 모델객체 생성\n",
        "DeepConv_net128 = CNN_Model1().to(device)\n",
        "DeepConv_net64 = CNN_Model1().to(device)\n",
        "\n",
        "print(DeepConv_net128)"
      ],
      "metadata": {
        "colab": {
          "base_uri": "https://localhost:8080/"
        },
        "id": "RiMZ7sX6oDn3",
        "outputId": "889c6e00-6729-48ce-9cac-db6cc07a1a09"
      },
      "execution_count": 38,
      "outputs": [
        {
          "output_type": "stream",
          "name": "stdout",
          "text": [
            "CNN_Model1(\n",
            "  (layer): Sequential(\n",
            "    (0): Conv2d(1, 5, kernel_size=(3, 3), stride=(1, 1), padding=(2, 2))\n",
            "    (1): MaxPool2d(kernel_size=2, stride=2, padding=0, dilation=1, ceil_mode=False)\n",
            "    (2): Conv2d(5, 7, kernel_size=(3, 3), stride=(1, 1), padding=(1, 1))\n",
            "    (3): Conv2d(7, 16, kernel_size=(2, 2), stride=(1, 1), padding=(1, 1))\n",
            "    (4): Conv2d(16, 19, kernel_size=(4, 4), stride=(1, 1), padding=(1, 1))\n",
            "    (5): Conv2d(19, 29, kernel_size=(5, 5), stride=(1, 1), padding=(1, 1))\n",
            "    (6): Conv2d(29, 29, kernel_size=(2, 2), stride=(1, 1), padding=(1, 1))\n",
            "    (7): Conv2d(29, 6, kernel_size=(5, 5), stride=(1, 1), padding=(1, 1))\n",
            "    (8): Conv2d(6, 2, kernel_size=(3, 3), stride=(1, 1), padding=(1, 1))\n",
            "    (9): Conv2d(2, 10, kernel_size=(2, 2), stride=(2, 2), padding=(1, 1))\n",
            "    (10): MaxPool2d(kernel_size=2, stride=2, padding=0, dilation=1, ceil_mode=False)\n",
            "    (11): Conv2d(10, 20, kernel_size=(3, 3), stride=(1, 1), padding=(1, 1))\n",
            "  )\n",
            "  (fc_layer): Sequential(\n",
            "    (0): Linear(in_features=180, out_features=86, bias=True)\n",
            "    (1): Linear(in_features=86, out_features=10, bias=True)\n",
            "  )\n",
            ")\n"
          ]
        }
      ]
    },
    {
      "cell_type": "code",
      "source": [
        "input = images128.to(device)\n",
        "input.size()"
      ],
      "metadata": {
        "colab": {
          "base_uri": "https://localhost:8080/"
        },
        "id": "8gBjDmoc7fJh",
        "outputId": "8f58481b-2cb9-43da-941e-103cb00f8cc0"
      },
      "execution_count": 39,
      "outputs": [
        {
          "output_type": "execute_result",
          "data": {
            "text/plain": [
              "torch.Size([128, 1, 28, 28])"
            ]
          },
          "metadata": {},
          "execution_count": 39
        }
      ]
    },
    {
      "cell_type": "code",
      "source": [
        "output = DeepConv_net128.forward(input)\n",
        "output.size()"
      ],
      "metadata": {
        "colab": {
          "base_uri": "https://localhost:8080/"
        },
        "id": "tflPlTme7h9x",
        "outputId": "635c8003-1aa4-42a9-a939-4c8562c92c44"
      },
      "execution_count": 40,
      "outputs": [
        {
          "output_type": "execute_result",
          "data": {
            "text/plain": [
              "torch.Size([128, 10])"
            ]
          },
          "metadata": {},
          "execution_count": 40
        }
      ]
    },
    {
      "cell_type": "code",
      "source": [
        "summary(DeepConv_net128, input_size=(1, 28, 28), batch_size=128)"
      ],
      "metadata": {
        "colab": {
          "base_uri": "https://localhost:8080/"
        },
        "id": "DSH3qCADujAi",
        "outputId": "79038d0d-bb0d-4f6c-d72b-0234423ca261"
      },
      "execution_count": 41,
      "outputs": [
        {
          "output_type": "stream",
          "name": "stdout",
          "text": [
            "----------------------------------------------------------------\n",
            "        Layer (type)               Output Shape         Param #\n",
            "================================================================\n",
            "            Conv2d-1           [128, 5, 30, 30]              50\n",
            "         MaxPool2d-2           [128, 5, 15, 15]               0\n",
            "            Conv2d-3           [128, 7, 15, 15]             322\n",
            "            Conv2d-4          [128, 16, 16, 16]             464\n",
            "            Conv2d-5          [128, 19, 15, 15]           4,883\n",
            "            Conv2d-6          [128, 29, 13, 13]          13,804\n",
            "            Conv2d-7          [128, 29, 14, 14]           3,393\n",
            "            Conv2d-8           [128, 6, 12, 12]           4,356\n",
            "            Conv2d-9           [128, 2, 12, 12]             110\n",
            "           Conv2d-10            [128, 10, 7, 7]              90\n",
            "        MaxPool2d-11            [128, 10, 3, 3]               0\n",
            "           Conv2d-12            [128, 20, 3, 3]           1,820\n",
            "           Linear-13                  [128, 86]          15,566\n",
            "           Linear-14                  [128, 10]             870\n",
            "================================================================\n",
            "Total params: 45,728\n",
            "Trainable params: 45,728\n",
            "Non-trainable params: 0\n",
            "----------------------------------------------------------------\n",
            "Input size (MB): 0.38\n",
            "Forward/backward pass size (MB): 27.50\n",
            "Params size (MB): 0.17\n",
            "Estimated Total Size (MB): 28.06\n",
            "----------------------------------------------------------------\n"
          ]
        }
      ]
    },
    {
      "cell_type": "code",
      "source": [
        "input = images64.to(device)\n",
        "input.size()"
      ],
      "metadata": {
        "colab": {
          "base_uri": "https://localhost:8080/"
        },
        "outputId": "be23cc94-261b-4b9e-c89f-e25fb416e5df",
        "id": "jcybKk5Nvj4Z"
      },
      "execution_count": 42,
      "outputs": [
        {
          "output_type": "execute_result",
          "data": {
            "text/plain": [
              "torch.Size([64, 1, 28, 28])"
            ]
          },
          "metadata": {},
          "execution_count": 42
        }
      ]
    },
    {
      "cell_type": "code",
      "source": [
        "output = DeepConv_net64.forward(input)\n",
        "output.size()"
      ],
      "metadata": {
        "colab": {
          "base_uri": "https://localhost:8080/"
        },
        "outputId": "1e11e71b-8ac5-455a-c801-e4f788bf51fc",
        "id": "y2PZCHyyvj4a"
      },
      "execution_count": 43,
      "outputs": [
        {
          "output_type": "execute_result",
          "data": {
            "text/plain": [
              "torch.Size([64, 10])"
            ]
          },
          "metadata": {},
          "execution_count": 43
        }
      ]
    },
    {
      "cell_type": "code",
      "source": [
        "summary(DeepConv_net64, input_size=(1, 28, 28), batch_size=64)"
      ],
      "metadata": {
        "colab": {
          "base_uri": "https://localhost:8080/"
        },
        "id": "uh1pmRXcvZP8",
        "outputId": "b0366585-eec6-4207-85fa-23775e0df65b"
      },
      "execution_count": 44,
      "outputs": [
        {
          "output_type": "stream",
          "name": "stdout",
          "text": [
            "----------------------------------------------------------------\n",
            "        Layer (type)               Output Shape         Param #\n",
            "================================================================\n",
            "            Conv2d-1            [64, 5, 30, 30]              50\n",
            "         MaxPool2d-2            [64, 5, 15, 15]               0\n",
            "            Conv2d-3            [64, 7, 15, 15]             322\n",
            "            Conv2d-4           [64, 16, 16, 16]             464\n",
            "            Conv2d-5           [64, 19, 15, 15]           4,883\n",
            "            Conv2d-6           [64, 29, 13, 13]          13,804\n",
            "            Conv2d-7           [64, 29, 14, 14]           3,393\n",
            "            Conv2d-8            [64, 6, 12, 12]           4,356\n",
            "            Conv2d-9            [64, 2, 12, 12]             110\n",
            "           Conv2d-10             [64, 10, 7, 7]              90\n",
            "        MaxPool2d-11             [64, 10, 3, 3]               0\n",
            "           Conv2d-12             [64, 20, 3, 3]           1,820\n",
            "           Linear-13                   [64, 86]          15,566\n",
            "           Linear-14                   [64, 10]             870\n",
            "================================================================\n",
            "Total params: 45,728\n",
            "Trainable params: 45,728\n",
            "Non-trainable params: 0\n",
            "----------------------------------------------------------------\n",
            "Input size (MB): 0.19\n",
            "Forward/backward pass size (MB): 13.75\n",
            "Params size (MB): 0.17\n",
            "Estimated Total Size (MB): 14.12\n",
            "----------------------------------------------------------------\n"
          ]
        }
      ]
    },
    {
      "cell_type": "markdown",
      "source": [
        "## 모델 2 생성\n",
        "* 2개의 convolution-layer(Conv2d)와 5개의 fully-connected(fc)로 이루어진 모델\n",
        "* Total params: 9,516,488"
      ],
      "metadata": {
        "id": "xVxKI_rwCvhI"
      }
    },
    {
      "cell_type": "markdown",
      "source": [
        "input-data size\n",
        "* train_loader128(batch-size;128) : 128, 1, 28, 28\n",
        "* train_loader64(batch-size;64) : 64, 1, 28, 28\n",
        "\n",
        "\n",
        "구현해야하는 모델 정보<br>\n",
        "* convolution-layer 1\n",
        "* maxpooling-layer\n",
        "* convolution-layer 2\n",
        "* flatten\n",
        "* fc1\n",
        "* fc2\n",
        "* fc3\n",
        "* fc4\n",
        "* fc5\n",
        "\n",
        "추가 정보\n",
        "* 활성화함수 : relu\n",
        "(단, maxpooling과 마지막 fc5에는 보통적으로 활성화함수를 사용하지 않는다.)\n",
        "* flatten의 경우, weights가 들어가지 않는다. 즉, layer라고는 볼 수 없다.\n",
        "\n",
        "모델의 layer를 통과함에 따라 데이터의 크기 변화는 다음과 같다.\n",
        "\n",
        "1. batch-size128 -> torch.Size([128, 1, 28, 28]) 으로 시작\n",
        "2. batch-size;64 -> torch.Size([64, 1, 28, 28]) 으로 시작\n",
        "> * torch.Size([128 or 64, 5, 30, 30])\n",
        "> * torch.Size([128 or 64, 5, 15, 15])\n",
        "> * torch.Size([128 or 64, 7, 15, 15])\n",
        "> * torch.Size([128 or 64, 1575])\n",
        "> * torch.Size([128 or 64, 3000])\n",
        "> * torch.Size([128 or 64, 1500])\n",
        "> * torch.Size([128 or 64, 180])\n",
        "> * torch.Size([128 or 64, 86])\n",
        "> * torch.Size([128 or 64, 10])"
      ],
      "metadata": {
        "id": "uN5s0Re-CvhI"
      }
    },
    {
      "cell_type": "code",
      "source": [
        "class CNN_Model2(nn.Module):\n",
        "    def __init__(self):\n",
        "        super(CNN_Model2, self).__init__()\n",
        "\n",
        "        self.layer = nn.Sequential(\n",
        "            nn.Conv2d(in_channels=1, out_channels=5, kernel_size=3, stride=1, padding=2),\n",
        "            nn.MaxPool2d(2),\n",
        "            nn.Conv2d(in_channels=5, out_channels=7, kernel_size=3, padding=1)\n",
        "        )\n",
        "\n",
        "        self.fc_layer = nn.Sequential(\n",
        "            nn.Linear(1575, 3000), # 1575 = 15 * 15 * 7\n",
        "            nn.Linear(3000, 1500),\n",
        "            nn.Linear(1500, 180),\n",
        "            nn.Linear(180, 86),\n",
        "            nn.Linear(86, 10)\n",
        "        )\n",
        "\n",
        "    def forward(self, x):\n",
        "      x = self.layer(x)\n",
        "      x = x.view(-1, self.num_flat_features(x)) # num_flat_features : 아래에서 정의\n",
        "      x = self.fc_layer(x)\n",
        "      return x\n",
        "    \n",
        "    def num_flat_features(self, x): # 처음 dim-size을 제외하고, 모두 곱한 값을 반환해준다.\n",
        "      size = x.size()[1:]\n",
        "      num_features = 1\n",
        "      for s in size:\n",
        "          num_features *= s\n",
        "      \n",
        "      return num_features"
      ],
      "metadata": {
        "id": "JfSM-k0DCvhI"
      },
      "execution_count": 45,
      "outputs": []
    },
    {
      "cell_type": "code",
      "source": [
        "# 모델객체 생성\n",
        "DeepFC_net128 = CNN_Model2().to(device)\n",
        "DeepFC_net64 = CNN_Model2().to(device)\n",
        "\n",
        "print(DeepFC_net128)"
      ],
      "metadata": {
        "colab": {
          "base_uri": "https://localhost:8080/"
        },
        "outputId": "911bfe39-474a-4e33-b229-b2a83c317944",
        "id": "QQ_AnPi5CvhI"
      },
      "execution_count": 46,
      "outputs": [
        {
          "output_type": "stream",
          "name": "stdout",
          "text": [
            "CNN_Model2(\n",
            "  (layer): Sequential(\n",
            "    (0): Conv2d(1, 5, kernel_size=(3, 3), stride=(1, 1), padding=(2, 2))\n",
            "    (1): MaxPool2d(kernel_size=2, stride=2, padding=0, dilation=1, ceil_mode=False)\n",
            "    (2): Conv2d(5, 7, kernel_size=(3, 3), stride=(1, 1), padding=(1, 1))\n",
            "  )\n",
            "  (fc_layer): Sequential(\n",
            "    (0): Linear(in_features=1575, out_features=3000, bias=True)\n",
            "    (1): Linear(in_features=3000, out_features=1500, bias=True)\n",
            "    (2): Linear(in_features=1500, out_features=180, bias=True)\n",
            "    (3): Linear(in_features=180, out_features=86, bias=True)\n",
            "    (4): Linear(in_features=86, out_features=10, bias=True)\n",
            "  )\n",
            ")\n"
          ]
        }
      ]
    },
    {
      "cell_type": "code",
      "source": [
        "input = images128.to(device)\n",
        "input.size()"
      ],
      "metadata": {
        "colab": {
          "base_uri": "https://localhost:8080/"
        },
        "outputId": "773e6bb6-fc8d-480c-baf6-935a70d9aa3b",
        "id": "S9IVOG3pwgoS"
      },
      "execution_count": 47,
      "outputs": [
        {
          "output_type": "execute_result",
          "data": {
            "text/plain": [
              "torch.Size([128, 1, 28, 28])"
            ]
          },
          "metadata": {},
          "execution_count": 47
        }
      ]
    },
    {
      "cell_type": "code",
      "source": [
        "output = DeepFC_net128.forward(input)\n",
        "output.size()"
      ],
      "metadata": {
        "colab": {
          "base_uri": "https://localhost:8080/"
        },
        "outputId": "0935bce9-b30f-40df-c5e5-ada19266ae73",
        "id": "p4ydm5qCwgoT"
      },
      "execution_count": 48,
      "outputs": [
        {
          "output_type": "execute_result",
          "data": {
            "text/plain": [
              "torch.Size([128, 10])"
            ]
          },
          "metadata": {},
          "execution_count": 48
        }
      ]
    },
    {
      "cell_type": "code",
      "source": [
        "summary(DeepFC_net128, input_size=(1, 28, 28), batch_size=128)"
      ],
      "metadata": {
        "colab": {
          "base_uri": "https://localhost:8080/"
        },
        "outputId": "4d86a13f-51f3-4d56-9005-9358301502d8",
        "id": "Q3uN6Dw6wgoT"
      },
      "execution_count": 49,
      "outputs": [
        {
          "output_type": "stream",
          "name": "stdout",
          "text": [
            "----------------------------------------------------------------\n",
            "        Layer (type)               Output Shape         Param #\n",
            "================================================================\n",
            "            Conv2d-1           [128, 5, 30, 30]              50\n",
            "         MaxPool2d-2           [128, 5, 15, 15]               0\n",
            "            Conv2d-3           [128, 7, 15, 15]             322\n",
            "            Linear-4                [128, 3000]       4,728,000\n",
            "            Linear-5                [128, 1500]       4,501,500\n",
            "            Linear-6                 [128, 180]         270,180\n",
            "            Linear-7                  [128, 86]          15,566\n",
            "            Linear-8                  [128, 10]             870\n",
            "================================================================\n",
            "Total params: 9,516,488\n",
            "Trainable params: 9,516,488\n",
            "Non-trainable params: 0\n",
            "----------------------------------------------------------------\n",
            "Input size (MB): 0.38\n",
            "Forward/backward pass size (MB): 11.70\n",
            "Params size (MB): 36.30\n",
            "Estimated Total Size (MB): 48.38\n",
            "----------------------------------------------------------------\n"
          ]
        }
      ]
    },
    {
      "cell_type": "code",
      "source": [
        "input = images64.to(device)\n",
        "input.size()"
      ],
      "metadata": {
        "colab": {
          "base_uri": "https://localhost:8080/"
        },
        "outputId": "dfb5e211-2586-4c9c-d895-9e1d17427cb6",
        "id": "d9t36x7bwgoT"
      },
      "execution_count": 50,
      "outputs": [
        {
          "output_type": "execute_result",
          "data": {
            "text/plain": [
              "torch.Size([64, 1, 28, 28])"
            ]
          },
          "metadata": {},
          "execution_count": 50
        }
      ]
    },
    {
      "cell_type": "code",
      "source": [
        "output = DeepFC_net64.forward(input)\n",
        "output.size()"
      ],
      "metadata": {
        "colab": {
          "base_uri": "https://localhost:8080/"
        },
        "outputId": "5119a08e-4f90-4c4f-fbb8-1d218aec64d4",
        "id": "GFHweMakwgoT"
      },
      "execution_count": 51,
      "outputs": [
        {
          "output_type": "execute_result",
          "data": {
            "text/plain": [
              "torch.Size([64, 10])"
            ]
          },
          "metadata": {},
          "execution_count": 51
        }
      ]
    },
    {
      "cell_type": "code",
      "source": [
        "summary(DeepFC_net64, input_size=(1, 28, 28), batch_size=64)"
      ],
      "metadata": {
        "colab": {
          "base_uri": "https://localhost:8080/"
        },
        "outputId": "a2d1a6f6-20d9-4c46-e084-a6a2cf52dc9b",
        "id": "2VIZ4WCCwgoT"
      },
      "execution_count": 52,
      "outputs": [
        {
          "output_type": "stream",
          "name": "stdout",
          "text": [
            "----------------------------------------------------------------\n",
            "        Layer (type)               Output Shape         Param #\n",
            "================================================================\n",
            "            Conv2d-1            [64, 5, 30, 30]              50\n",
            "         MaxPool2d-2            [64, 5, 15, 15]               0\n",
            "            Conv2d-3            [64, 7, 15, 15]             322\n",
            "            Linear-4                 [64, 3000]       4,728,000\n",
            "            Linear-5                 [64, 1500]       4,501,500\n",
            "            Linear-6                  [64, 180]         270,180\n",
            "            Linear-7                   [64, 86]          15,566\n",
            "            Linear-8                   [64, 10]             870\n",
            "================================================================\n",
            "Total params: 9,516,488\n",
            "Trainable params: 9,516,488\n",
            "Non-trainable params: 0\n",
            "----------------------------------------------------------------\n",
            "Input size (MB): 0.19\n",
            "Forward/backward pass size (MB): 5.85\n",
            "Params size (MB): 36.30\n",
            "Estimated Total Size (MB): 42.34\n",
            "----------------------------------------------------------------\n"
          ]
        }
      ]
    },
    {
      "cell_type": "markdown",
      "source": [
        "## 손실함수와 옵티마이저"
      ],
      "metadata": {
        "id": "klpXGc2tCimP"
      }
    },
    {
      "cell_type": "code",
      "source": [
        "criterion = nn.CrossEntropyLoss()\n",
        "\n",
        "optimizerDC_128 = optim.SGD(DeepConv_net128.parameters(), lr=0.001, momentum=0.9)\n",
        "optimizerDC_64 = optim.SGD(DeepConv_net64.parameters(), lr=0.001, momentum=0.9)\n",
        "optimizerFC_128 = optim.SGD(DeepFC_net128.parameters(), lr=0.001, momentum=0.9)\n",
        "optimizerFC_64 = optim.SGD(DeepFC_net64.parameters(), lr=0.001, momentum=0.9)"
      ],
      "metadata": {
        "id": "69AHX-ZXClOm"
      },
      "execution_count": 53,
      "outputs": []
    },
    {
      "cell_type": "markdown",
      "source": [
        "## 모델 학습"
      ],
      "metadata": {
        "id": "huNh3EnhJLyh"
      }
    },
    {
      "cell_type": "markdown",
      "source": [
        "### 1. DeepConv_net128\n",
        "* 10개의 Convolution-layer & 2개의 fc-layer\n",
        "* 128 batch-size"
      ],
      "metadata": {
        "id": "W-2Q7c6-JW9z"
      }
    },
    {
      "cell_type": "code",
      "source": [
        "for epoch in range(10):\n",
        "\n",
        "    running_loss = 0.0\n",
        "\n",
        "    for i, data in enumerate(train_loader128, start=0):\n",
        "        inputs, labels = data[0].to(device), data[1].to(device)\n",
        "\n",
        "        optimizerDC_128.zero_grad() # epoch마다 gradient 0으로 초기화\n",
        "\n",
        "        outputs = DeepConv_net128(inputs) # y_pred = f(X)\n",
        "        loss = criterion(outputs, labels) # CrossEntropyLoss; 0~1 사이값\n",
        "        loss.backward() # back-propagation; gradient 계산\n",
        "        optimizerDC_128.step() # parameters(weights) update\n",
        "\n",
        "        running_loss += loss.item() # 그냥 전체적인 비교를 위해 누적함\n",
        "\n",
        "        if i % 100 == 99: # 100번 마다 확인; epoch=10, iter(=i)=469, batch=128\n",
        "            print('Epoch: {}, Iter: {}, Loss: {}'.format(epoch+1, i+1, running_loss/2000))\n",
        "            running_loss = 0.0"
      ],
      "metadata": {
        "colab": {
          "base_uri": "https://localhost:8080/"
        },
        "id": "y-_UvdNWJR-r",
        "outputId": "58064a91-46d2-4999-c424-279166c91c2d"
      },
      "execution_count": 54,
      "outputs": [
        {
          "output_type": "stream",
          "name": "stdout",
          "text": [
            "Epoch: 1, Iter: 100, Loss: 0.1152886266708374\n",
            "Epoch: 1, Iter: 200, Loss: 0.11527666616439819\n",
            "Epoch: 1, Iter: 300, Loss: 0.11519265353679657\n",
            "Epoch: 1, Iter: 400, Loss: 0.11518823552131653\n",
            "Epoch: 2, Iter: 100, Loss: 0.11515890634059905\n",
            "Epoch: 2, Iter: 200, Loss: 0.11512418413162231\n",
            "Epoch: 2, Iter: 300, Loss: 0.11513996064662933\n",
            "Epoch: 2, Iter: 400, Loss: 0.11513682734966278\n",
            "Epoch: 3, Iter: 100, Loss: 0.11513069236278534\n",
            "Epoch: 3, Iter: 200, Loss: 0.11512996196746826\n",
            "Epoch: 3, Iter: 300, Loss: 0.11512765789031983\n",
            "Epoch: 3, Iter: 400, Loss: 0.11512924087047577\n",
            "Epoch: 4, Iter: 100, Loss: 0.11512437808513641\n",
            "Epoch: 4, Iter: 200, Loss: 0.1151218239068985\n",
            "Epoch: 4, Iter: 300, Loss: 0.11512771272659302\n",
            "Epoch: 4, Iter: 400, Loss: 0.11512593877315522\n",
            "Epoch: 5, Iter: 100, Loss: 0.11512167692184448\n",
            "Epoch: 5, Iter: 200, Loss: 0.1151204686164856\n",
            "Epoch: 5, Iter: 300, Loss: 0.1151209877729416\n",
            "Epoch: 5, Iter: 400, Loss: 0.11512468457221985\n",
            "Epoch: 6, Iter: 100, Loss: 0.11511517310142518\n",
            "Epoch: 6, Iter: 200, Loss: 0.11511791276931763\n",
            "Epoch: 6, Iter: 300, Loss: 0.11512167823314667\n",
            "Epoch: 6, Iter: 400, Loss: 0.1151138002872467\n",
            "Epoch: 7, Iter: 100, Loss: 0.11511095476150512\n",
            "Epoch: 7, Iter: 200, Loss: 0.11510867786407471\n",
            "Epoch: 7, Iter: 300, Loss: 0.11510784101486206\n",
            "Epoch: 7, Iter: 400, Loss: 0.11510828983783722\n",
            "Epoch: 8, Iter: 100, Loss: 0.11509875082969666\n",
            "Epoch: 8, Iter: 200, Loss: 0.11509607541561127\n",
            "Epoch: 8, Iter: 300, Loss: 0.11509067559242249\n",
            "Epoch: 8, Iter: 400, Loss: 0.11508300507068633\n",
            "Epoch: 9, Iter: 100, Loss: 0.11506069707870484\n",
            "Epoch: 9, Iter: 200, Loss: 0.11503622937202454\n",
            "Epoch: 9, Iter: 300, Loss: 0.11499821197986602\n",
            "Epoch: 9, Iter: 400, Loss: 0.11488828468322754\n",
            "Epoch: 10, Iter: 100, Loss: 0.10594161522388458\n",
            "Epoch: 10, Iter: 200, Loss: 0.06236049774289131\n",
            "Epoch: 10, Iter: 300, Loss: 0.04541526609659195\n",
            "Epoch: 10, Iter: 400, Loss: 0.04180828839540482\n"
          ]
        }
      ]
    },
    {
      "cell_type": "code",
      "source": [
        "for epoch in range(5):\n",
        "\n",
        "    running_loss = 0.0\n",
        "\n",
        "    for i, data in enumerate(train_loader128, start=0):\n",
        "        inputs, labels = data[0].to(device), data[1].to(device)\n",
        "\n",
        "        optimizerDC_128.zero_grad() # epoch마다 gradient 0으로 초기화\n",
        "\n",
        "        outputs = DeepConv_net128(inputs) # y_pred = f(X)\n",
        "        loss = criterion(outputs, labels) # CrossEntropyLoss; 0~1 사이값\n",
        "        loss.backward() # back-propagation; gradient 계산\n",
        "        optimizerDC_128.step() # parameters(weights) update\n",
        "\n",
        "        running_loss += loss.item() # 그냥 전체적인 비교를 위해 누적함\n",
        "\n",
        "        if i % 100 == 99: # 100번 마다 확인; epoch=10, iter(=i)=469, batch=128\n",
        "            print('Epoch: {}, Iter: {}, Loss: {}'.format(epoch+1, i+1, running_loss/2000))\n",
        "            running_loss = 0.0"
      ],
      "metadata": {
        "colab": {
          "base_uri": "https://localhost:8080/"
        },
        "id": "dNa8-7SC5u2a",
        "outputId": "cd60c42c-e5ab-4919-9ad6-e78848aa0710"
      },
      "execution_count": 55,
      "outputs": [
        {
          "output_type": "stream",
          "name": "stdout",
          "text": [
            "Epoch: 1, Iter: 100, Loss: 0.03830080470442772\n",
            "Epoch: 1, Iter: 200, Loss: 0.037019329965114596\n",
            "Epoch: 1, Iter: 300, Loss: 0.03637518221139908\n",
            "Epoch: 1, Iter: 400, Loss: 0.03532196846604347\n",
            "Epoch: 2, Iter: 100, Loss: 0.033347263127565384\n",
            "Epoch: 2, Iter: 200, Loss: 0.03319059643149376\n",
            "Epoch: 2, Iter: 300, Loss: 0.0325384786427021\n",
            "Epoch: 2, Iter: 400, Loss: 0.0325536353290081\n",
            "Epoch: 3, Iter: 100, Loss: 0.031218133002519608\n",
            "Epoch: 3, Iter: 200, Loss: 0.03046456268429756\n",
            "Epoch: 3, Iter: 300, Loss: 0.029879989489912988\n",
            "Epoch: 3, Iter: 400, Loss: 0.03018845582008362\n",
            "Epoch: 4, Iter: 100, Loss: 0.029228077724575998\n",
            "Epoch: 4, Iter: 200, Loss: 0.028667012125253678\n",
            "Epoch: 4, Iter: 300, Loss: 0.027999673902988433\n",
            "Epoch: 4, Iter: 400, Loss: 0.02846739672124386\n",
            "Epoch: 5, Iter: 100, Loss: 0.027982713878154753\n",
            "Epoch: 5, Iter: 200, Loss: 0.02669763542711735\n",
            "Epoch: 5, Iter: 300, Loss: 0.026189900398254393\n",
            "Epoch: 5, Iter: 400, Loss: 0.02625629897415638\n"
          ]
        }
      ]
    },
    {
      "cell_type": "markdown",
      "source": [
        "### 2. DeepConv_net64\n",
        "* 10개의 Convolution-layer & 2개의 fc-layer\n",
        "* 64 batch-size"
      ],
      "metadata": {
        "id": "FOUBE2UfKS6D"
      }
    },
    {
      "cell_type": "code",
      "source": [
        "for epoch in range(10):\n",
        "\n",
        "    running_loss = 0.0\n",
        "\n",
        "    for i, data in enumerate(train_loader64, start=0):\n",
        "        inputs, labels = data[0].to(device), data[1].to(device)\n",
        "\n",
        "        optimizerDC_64.zero_grad() # epoch마다 gradient 0으로 초기화\n",
        "\n",
        "        outputs = DeepConv_net64(inputs) # y_pred = f(X)\n",
        "        loss = criterion(outputs, labels) # CrossEntropyLoss; 0~1 사이값\n",
        "        loss.backward() # back-propagation; gradient 계산\n",
        "        optimizerDC_64.step() # parameters(weights) update\n",
        "\n",
        "        running_loss += loss.item() # 그냥 전체적인 비교를 위해 누적함\n",
        "\n",
        "        if i % 100 == 99: # 100번 마다 확인; epoch=10, iter(=i)=469, batch=64\n",
        "            print('Epoch: {}, Iter: {}, Loss: {}'.format(epoch+1, i+1, running_loss/2000))\n",
        "            running_loss = 0.0"
      ],
      "metadata": {
        "colab": {
          "base_uri": "https://localhost:8080/"
        },
        "id": "Q1znQlsWKS6D",
        "outputId": "9b26d340-1797-44f5-e1de-151889be0545"
      },
      "execution_count": 56,
      "outputs": [
        {
          "output_type": "stream",
          "name": "stdout",
          "text": [
            "Epoch: 1, Iter: 100, Loss: 0.11529004991054535\n",
            "Epoch: 1, Iter: 200, Loss: 0.11523648595809936\n",
            "Epoch: 1, Iter: 300, Loss: 0.11512744283676148\n",
            "Epoch: 1, Iter: 400, Loss: 0.11519581878185273\n",
            "Epoch: 1, Iter: 500, Loss: 0.11512670660018921\n",
            "Epoch: 1, Iter: 600, Loss: 0.11513731122016907\n",
            "Epoch: 1, Iter: 700, Loss: 0.11514333653450012\n",
            "Epoch: 1, Iter: 800, Loss: 0.11513457000255585\n",
            "Epoch: 1, Iter: 900, Loss: 0.11512660431861878\n",
            "Epoch: 2, Iter: 100, Loss: 0.11511602878570557\n",
            "Epoch: 2, Iter: 200, Loss: 0.11511718595027924\n",
            "Epoch: 2, Iter: 300, Loss: 0.11512392163276672\n",
            "Epoch: 2, Iter: 400, Loss: 0.11512555921077729\n",
            "Epoch: 2, Iter: 500, Loss: 0.1151184720993042\n",
            "Epoch: 2, Iter: 600, Loss: 0.11512408852577209\n",
            "Epoch: 2, Iter: 700, Loss: 0.11510840320587158\n",
            "Epoch: 2, Iter: 800, Loss: 0.11511018180847168\n",
            "Epoch: 2, Iter: 900, Loss: 0.11512255978584289\n",
            "Epoch: 3, Iter: 100, Loss: 0.11509846258163452\n",
            "Epoch: 3, Iter: 200, Loss: 0.11510347139835357\n",
            "Epoch: 3, Iter: 300, Loss: 0.11508851039409637\n",
            "Epoch: 3, Iter: 400, Loss: 0.1150990446805954\n",
            "Epoch: 3, Iter: 500, Loss: 0.11507839262485504\n",
            "Epoch: 3, Iter: 600, Loss: 0.1150674992799759\n",
            "Epoch: 3, Iter: 700, Loss: 0.11503334617614747\n",
            "Epoch: 3, Iter: 800, Loss: 0.11499912977218628\n",
            "Epoch: 3, Iter: 900, Loss: 0.11490409791469575\n",
            "Epoch: 4, Iter: 100, Loss: 0.11372623836994171\n",
            "Epoch: 4, Iter: 200, Loss: 0.07688614121079444\n",
            "Epoch: 4, Iter: 300, Loss: 0.04712539583444595\n",
            "Epoch: 4, Iter: 400, Loss: 0.04241562333703041\n",
            "Epoch: 4, Iter: 500, Loss: 0.03918412326276302\n",
            "Epoch: 4, Iter: 600, Loss: 0.038497010201215744\n",
            "Epoch: 4, Iter: 700, Loss: 0.037149118304252625\n",
            "Epoch: 4, Iter: 800, Loss: 0.03565855687856674\n",
            "Epoch: 4, Iter: 900, Loss: 0.034718485176563264\n",
            "Epoch: 5, Iter: 100, Loss: 0.03483722691237927\n",
            "Epoch: 5, Iter: 200, Loss: 0.03368155798316002\n",
            "Epoch: 5, Iter: 300, Loss: 0.032413130581378936\n",
            "Epoch: 5, Iter: 400, Loss: 0.03221521268785\n",
            "Epoch: 5, Iter: 500, Loss: 0.03125305067002773\n",
            "Epoch: 5, Iter: 600, Loss: 0.031962193846702576\n",
            "Epoch: 5, Iter: 700, Loss: 0.032163975775241854\n",
            "Epoch: 5, Iter: 800, Loss: 0.031237389758229255\n",
            "Epoch: 5, Iter: 900, Loss: 0.030014536052942277\n",
            "Epoch: 6, Iter: 100, Loss: 0.02966187161207199\n",
            "Epoch: 6, Iter: 200, Loss: 0.02871903957426548\n",
            "Epoch: 6, Iter: 300, Loss: 0.028550760075449943\n",
            "Epoch: 6, Iter: 400, Loss: 0.02867196770012379\n",
            "Epoch: 6, Iter: 500, Loss: 0.028533943757414817\n",
            "Epoch: 6, Iter: 600, Loss: 0.02848943454027176\n",
            "Epoch: 6, Iter: 700, Loss: 0.028731282964348792\n",
            "Epoch: 6, Iter: 800, Loss: 0.027720896691083907\n",
            "Epoch: 6, Iter: 900, Loss: 0.02742539691925049\n",
            "Epoch: 7, Iter: 100, Loss: 0.026592891857028008\n",
            "Epoch: 7, Iter: 200, Loss: 0.026071408167481422\n",
            "Epoch: 7, Iter: 300, Loss: 0.026683466613292694\n",
            "Epoch: 7, Iter: 400, Loss: 0.026505944043397903\n",
            "Epoch: 7, Iter: 500, Loss: 0.026496778771281242\n",
            "Epoch: 7, Iter: 600, Loss: 0.02729101113975048\n",
            "Epoch: 7, Iter: 700, Loss: 0.02620951819419861\n",
            "Epoch: 7, Iter: 800, Loss: 0.027269595131278038\n",
            "Epoch: 7, Iter: 900, Loss: 0.025649109840393067\n",
            "Epoch: 8, Iter: 100, Loss: 0.025182007543742658\n",
            "Epoch: 8, Iter: 200, Loss: 0.02562139317393303\n",
            "Epoch: 8, Iter: 300, Loss: 0.026103892520070077\n",
            "Epoch: 8, Iter: 400, Loss: 0.02490252083539963\n",
            "Epoch: 8, Iter: 500, Loss: 0.02525045020878315\n",
            "Epoch: 8, Iter: 600, Loss: 0.025859260827302933\n",
            "Epoch: 8, Iter: 700, Loss: 0.025227722913026808\n",
            "Epoch: 8, Iter: 800, Loss: 0.02461790603399277\n",
            "Epoch: 8, Iter: 900, Loss: 0.024591216564178467\n",
            "Epoch: 9, Iter: 100, Loss: 0.025212171778082847\n",
            "Epoch: 9, Iter: 200, Loss: 0.023481137171387674\n",
            "Epoch: 9, Iter: 300, Loss: 0.0244380207657814\n",
            "Epoch: 9, Iter: 400, Loss: 0.024065520450472833\n",
            "Epoch: 9, Iter: 500, Loss: 0.024439437121152877\n",
            "Epoch: 9, Iter: 600, Loss: 0.02467237997800112\n",
            "Epoch: 9, Iter: 700, Loss: 0.024208538249135016\n",
            "Epoch: 9, Iter: 800, Loss: 0.023085271298885345\n",
            "Epoch: 9, Iter: 900, Loss: 0.023815983310341834\n",
            "Epoch: 10, Iter: 100, Loss: 0.02419867379963398\n",
            "Epoch: 10, Iter: 200, Loss: 0.024191502764821054\n",
            "Epoch: 10, Iter: 300, Loss: 0.02306405285000801\n",
            "Epoch: 10, Iter: 400, Loss: 0.02275421193242073\n",
            "Epoch: 10, Iter: 500, Loss: 0.02371735045313835\n",
            "Epoch: 10, Iter: 600, Loss: 0.023055895045399667\n",
            "Epoch: 10, Iter: 700, Loss: 0.023166258960962294\n",
            "Epoch: 10, Iter: 800, Loss: 0.023853482127189636\n",
            "Epoch: 10, Iter: 900, Loss: 0.022458236664533615\n"
          ]
        }
      ]
    },
    {
      "cell_type": "markdown",
      "source": [
        "### 3. DeepFC_net128\n",
        "* 2개의 Convolution-layer & 5개의 fc-layer\n",
        "* 128 batch-size"
      ],
      "metadata": {
        "id": "LaVvtEOvKUgJ"
      }
    },
    {
      "cell_type": "code",
      "source": [
        "for epoch in range(10):\n",
        "\n",
        "    running_loss = 0.0\n",
        "\n",
        "    for i, data in enumerate(train_loader128, start=0):\n",
        "        inputs, labels = data[0].to(device), data[1].to(device)\n",
        "\n",
        "        optimizerFC_128.zero_grad() # epoch마다 gradient 0으로 초기화\n",
        "\n",
        "        outputs = DeepFC_net128(inputs) # y_pred = f(X)\n",
        "        loss = criterion(outputs, labels) # CrossEntropyLoss; 0~1 사이값\n",
        "        loss.backward() # back-propagation; gradient 계산\n",
        "        optimizerFC_128.step() # parameters(weights) update\n",
        "\n",
        "        running_loss += loss.item() # 그냥 전체적인 비교를 위해 누적함\n",
        "\n",
        "        if i % 100 == 99: # 100번 마다 확인; epoch=10, iter(=i)=469, batch=128\n",
        "            print('Epoch: {}, Iter: {}, Loss: {}'.format(epoch+1, i+1, running_loss/2000))\n",
        "            running_loss = 0.0"
      ],
      "metadata": {
        "colab": {
          "base_uri": "https://localhost:8080/"
        },
        "id": "Dwh9TK_1KUgK",
        "outputId": "52c18d16-1323-4369-955c-4b7fb06cfa53"
      },
      "execution_count": 57,
      "outputs": [
        {
          "output_type": "stream",
          "name": "stdout",
          "text": [
            "Epoch: 1, Iter: 100, Loss: 0.11446721589565277\n",
            "Epoch: 1, Iter: 200, Loss: 0.10907852792739868\n",
            "Epoch: 1, Iter: 300, Loss: 0.06945642721652985\n",
            "Epoch: 1, Iter: 400, Loss: 0.04091229286789894\n",
            "Epoch: 2, Iter: 100, Loss: 0.03397443026304245\n",
            "Epoch: 2, Iter: 200, Loss: 0.03181787024438381\n",
            "Epoch: 2, Iter: 300, Loss: 0.03161371546983719\n",
            "Epoch: 2, Iter: 400, Loss: 0.03063543590903282\n",
            "Epoch: 3, Iter: 100, Loss: 0.029610855340957642\n",
            "Epoch: 3, Iter: 200, Loss: 0.028900758758187293\n",
            "Epoch: 3, Iter: 300, Loss: 0.028757110357284545\n",
            "Epoch: 3, Iter: 400, Loss: 0.02867139133810997\n",
            "Epoch: 4, Iter: 100, Loss: 0.02794681516289711\n",
            "Epoch: 4, Iter: 200, Loss: 0.026732380717992783\n",
            "Epoch: 4, Iter: 300, Loss: 0.02716951432824135\n",
            "Epoch: 4, Iter: 400, Loss: 0.02640540012717247\n",
            "Epoch: 5, Iter: 100, Loss: 0.026456524565815924\n",
            "Epoch: 5, Iter: 200, Loss: 0.025828805953264235\n",
            "Epoch: 5, Iter: 300, Loss: 0.025941275373101234\n",
            "Epoch: 5, Iter: 400, Loss: 0.02606983059644699\n",
            "Epoch: 6, Iter: 100, Loss: 0.02598008692264557\n",
            "Epoch: 6, Iter: 200, Loss: 0.025142238914966582\n",
            "Epoch: 6, Iter: 300, Loss: 0.02545814524590969\n",
            "Epoch: 6, Iter: 400, Loss: 0.02483215732872486\n",
            "Epoch: 7, Iter: 100, Loss: 0.025313997462391852\n",
            "Epoch: 7, Iter: 200, Loss: 0.025228838965296745\n",
            "Epoch: 7, Iter: 300, Loss: 0.023896912664175034\n",
            "Epoch: 7, Iter: 400, Loss: 0.02452063000202179\n",
            "Epoch: 8, Iter: 100, Loss: 0.02425873087346554\n",
            "Epoch: 8, Iter: 200, Loss: 0.02410569278895855\n",
            "Epoch: 8, Iter: 300, Loss: 0.024307543218135833\n",
            "Epoch: 8, Iter: 400, Loss: 0.024510619387030603\n",
            "Epoch: 9, Iter: 100, Loss: 0.02441958439350128\n",
            "Epoch: 9, Iter: 200, Loss: 0.023954721823334694\n",
            "Epoch: 9, Iter: 300, Loss: 0.023503400012850763\n",
            "Epoch: 9, Iter: 400, Loss: 0.023109248220920562\n",
            "Epoch: 10, Iter: 100, Loss: 0.023929607063531876\n",
            "Epoch: 10, Iter: 200, Loss: 0.023535038992762564\n",
            "Epoch: 10, Iter: 300, Loss: 0.02295567536354065\n",
            "Epoch: 10, Iter: 400, Loss: 0.022642049357295035\n"
          ]
        }
      ]
    },
    {
      "cell_type": "markdown",
      "source": [
        "### 4. DeepFC_net128\n",
        "* 2개의 Convolution-layer & 5개의 fc-layer\n",
        "* 64 batch-size"
      ],
      "metadata": {
        "id": "jRyyw49jKVhj"
      }
    },
    {
      "cell_type": "code",
      "source": [
        "for epoch in range(10):\n",
        "\n",
        "    running_loss = 0.0\n",
        "\n",
        "    for i, data in enumerate(train_loader64, start=0):\n",
        "        inputs, labels = data[0].to(device), data[1].to(device)\n",
        "\n",
        "        optimizerFC_64.zero_grad() # epoch마다 gradient 0으로 초기화\n",
        "\n",
        "        outputs = DeepFC_net64(inputs) # y_pred = f(X)\n",
        "        loss = criterion(outputs, labels) # CrossEntropyLoss; 0~1 사이값\n",
        "        loss.backward() # back-propagation; gradient 계산\n",
        "        optimizerFC_64.step() # parameters(weights) update\n",
        "\n",
        "        running_loss += loss.item() # 그냥 전체적인 비교를 위해 누적함\n",
        "\n",
        "        if i % 100 == 99: # 100번 마다 확인; epoch=10, iter(=i)=469, batch=64\n",
        "            print('Epoch: {}, Iter: {}, Loss: {}'.format(epoch+1, i+1, running_loss/2000))\n",
        "            running_loss = 0.0"
      ],
      "metadata": {
        "colab": {
          "base_uri": "https://localhost:8080/"
        },
        "id": "X3847V0dKVhk",
        "outputId": "e1694066-a9f1-4fb8-a51a-c3b6e4acf18d"
      },
      "execution_count": 58,
      "outputs": [
        {
          "output_type": "stream",
          "name": "stdout",
          "text": [
            "Epoch: 1, Iter: 100, Loss: 0.10908984190225601\n",
            "Epoch: 1, Iter: 200, Loss: 0.0614627673625946\n",
            "Epoch: 1, Iter: 300, Loss: 0.038302718073129655\n",
            "Epoch: 1, Iter: 400, Loss: 0.035018502473831176\n",
            "Epoch: 1, Iter: 500, Loss: 0.03376821672916412\n",
            "Epoch: 1, Iter: 600, Loss: 0.03180117481946945\n",
            "Epoch: 1, Iter: 700, Loss: 0.03209193302690983\n",
            "Epoch: 1, Iter: 800, Loss: 0.029856535226106644\n",
            "Epoch: 1, Iter: 900, Loss: 0.030114945560693742\n",
            "Epoch: 2, Iter: 100, Loss: 0.030241411000490187\n",
            "Epoch: 2, Iter: 200, Loss: 0.029560648262500763\n",
            "Epoch: 2, Iter: 300, Loss: 0.028280165672302245\n",
            "Epoch: 2, Iter: 400, Loss: 0.02836426621675491\n",
            "Epoch: 2, Iter: 500, Loss: 0.028911324590444563\n",
            "Epoch: 2, Iter: 600, Loss: 0.02735027852654457\n",
            "Epoch: 2, Iter: 700, Loss: 0.02696521930396557\n",
            "Epoch: 2, Iter: 800, Loss: 0.02760372668504715\n",
            "Epoch: 2, Iter: 900, Loss: 0.026195307448506355\n",
            "Epoch: 3, Iter: 100, Loss: 0.026598015189170838\n",
            "Epoch: 3, Iter: 200, Loss: 0.025933134660124778\n",
            "Epoch: 3, Iter: 300, Loss: 0.02522315163910389\n",
            "Epoch: 3, Iter: 400, Loss: 0.025472813576459884\n",
            "Epoch: 3, Iter: 500, Loss: 0.02530953060090542\n",
            "Epoch: 3, Iter: 600, Loss: 0.025197943434119224\n",
            "Epoch: 3, Iter: 700, Loss: 0.024437607273459436\n",
            "Epoch: 3, Iter: 800, Loss: 0.023646194651722907\n",
            "Epoch: 3, Iter: 900, Loss: 0.022851179771125316\n",
            "Epoch: 4, Iter: 100, Loss: 0.022720590457320212\n",
            "Epoch: 4, Iter: 200, Loss: 0.022686968669295312\n",
            "Epoch: 4, Iter: 300, Loss: 0.022443685211241245\n",
            "Epoch: 4, Iter: 400, Loss: 0.022959931522607804\n",
            "Epoch: 4, Iter: 500, Loss: 0.022853011451661586\n",
            "Epoch: 4, Iter: 600, Loss: 0.0222358905300498\n",
            "Epoch: 4, Iter: 700, Loss: 0.022063713937997817\n",
            "Epoch: 4, Iter: 800, Loss: 0.021925713405013085\n",
            "Epoch: 4, Iter: 900, Loss: 0.022161728121340273\n",
            "Epoch: 5, Iter: 100, Loss: 0.021041771933436395\n",
            "Epoch: 5, Iter: 200, Loss: 0.02087837652862072\n",
            "Epoch: 5, Iter: 300, Loss: 0.02061123827844858\n",
            "Epoch: 5, Iter: 400, Loss: 0.020860202088952066\n",
            "Epoch: 5, Iter: 500, Loss: 0.021906821325421332\n",
            "Epoch: 5, Iter: 600, Loss: 0.021089675821363927\n",
            "Epoch: 5, Iter: 700, Loss: 0.020469169519841672\n",
            "Epoch: 5, Iter: 800, Loss: 0.020398812621831894\n",
            "Epoch: 5, Iter: 900, Loss: 0.019931658692657946\n",
            "Epoch: 6, Iter: 100, Loss: 0.020388053983449936\n",
            "Epoch: 6, Iter: 200, Loss: 0.020682050578296186\n",
            "Epoch: 6, Iter: 300, Loss: 0.018809187404811384\n",
            "Epoch: 6, Iter: 400, Loss: 0.0197752321138978\n",
            "Epoch: 6, Iter: 500, Loss: 0.019509219266474247\n",
            "Epoch: 6, Iter: 600, Loss: 0.019040236473083495\n",
            "Epoch: 6, Iter: 700, Loss: 0.019476271487772465\n",
            "Epoch: 6, Iter: 800, Loss: 0.0202300973162055\n",
            "Epoch: 6, Iter: 900, Loss: 0.019720281802117826\n",
            "Epoch: 7, Iter: 100, Loss: 0.019137316226959227\n",
            "Epoch: 7, Iter: 200, Loss: 0.019122540779411792\n",
            "Epoch: 7, Iter: 300, Loss: 0.018700332008302213\n",
            "Epoch: 7, Iter: 400, Loss: 0.018786605842411517\n",
            "Epoch: 7, Iter: 500, Loss: 0.018975036308169366\n",
            "Epoch: 7, Iter: 600, Loss: 0.01961277852207422\n",
            "Epoch: 7, Iter: 700, Loss: 0.019563408836722373\n",
            "Epoch: 7, Iter: 800, Loss: 0.019037781331688167\n",
            "Epoch: 7, Iter: 900, Loss: 0.019138431824743746\n",
            "Epoch: 8, Iter: 100, Loss: 0.019206460259854792\n",
            "Epoch: 8, Iter: 200, Loss: 0.018845661096274852\n",
            "Epoch: 8, Iter: 300, Loss: 0.017693548686802386\n",
            "Epoch: 8, Iter: 400, Loss: 0.01842628085613251\n",
            "Epoch: 8, Iter: 500, Loss: 0.01876336396485567\n",
            "Epoch: 8, Iter: 600, Loss: 0.017854159474372865\n",
            "Epoch: 8, Iter: 700, Loss: 0.01819760196655989\n",
            "Epoch: 8, Iter: 800, Loss: 0.01801066531985998\n",
            "Epoch: 8, Iter: 900, Loss: 0.018997776091098786\n",
            "Epoch: 9, Iter: 100, Loss: 0.018029419533908367\n",
            "Epoch: 9, Iter: 200, Loss: 0.016751326464116572\n",
            "Epoch: 9, Iter: 300, Loss: 0.018227610990405083\n",
            "Epoch: 9, Iter: 400, Loss: 0.018718191891908646\n",
            "Epoch: 9, Iter: 500, Loss: 0.01809206723421812\n",
            "Epoch: 9, Iter: 600, Loss: 0.018454425916075705\n",
            "Epoch: 9, Iter: 700, Loss: 0.01815431534126401\n",
            "Epoch: 9, Iter: 800, Loss: 0.017544986106455326\n",
            "Epoch: 9, Iter: 900, Loss: 0.018132167231291532\n",
            "Epoch: 10, Iter: 100, Loss: 0.017425727643072604\n",
            "Epoch: 10, Iter: 200, Loss: 0.017871949873864652\n",
            "Epoch: 10, Iter: 300, Loss: 0.017705206491053106\n",
            "Epoch: 10, Iter: 400, Loss: 0.018312504798173906\n",
            "Epoch: 10, Iter: 500, Loss: 0.017454687863588333\n",
            "Epoch: 10, Iter: 600, Loss: 0.017714532427489757\n",
            "Epoch: 10, Iter: 700, Loss: 0.017267693273723125\n",
            "Epoch: 10, Iter: 800, Loss: 0.017992415137588976\n",
            "Epoch: 10, Iter: 900, Loss: 0.017326742984354496\n"
          ]
        }
      ]
    },
    {
      "cell_type": "markdown",
      "metadata": {
        "id": "5IecfHZiI09W"
      },
      "source": [
        "## 모델 테스트"
      ]
    },
    {
      "cell_type": "code",
      "source": [
        "# 전체 test 데이터에 대해서 성능 확인\n",
        "\n",
        "correct_list = [0]*4\n",
        "total_list = [0]*4\n",
        "a = -1\n",
        "\n",
        "model_list = {'DeepConv' : [DeepConv_net128, DeepConv_net64],\n",
        "              'DeepFC' : [DeepFC_net128, DeepFC_net64]}\n",
        "data_list = [test_loader128, test_loader64]\n",
        "\n",
        "with torch.no_grad(): # grad가 필요없다.\n",
        "\n",
        "    for key in model_list:\n",
        "        for idx in range(len(model_list[key])):\n",
        "            a += 1\n",
        "            model = model_list[key][idx]\n",
        "            data_loader = data_list[idx]\n",
        "            for data in data_loader:\n",
        "                images, labels = data[0].to(device), data[1].to(device)\n",
        "\n",
        "                outputs = model(images)\n",
        "                _, predicted = torch.max(outputs.data, 1)\n",
        "\n",
        "                total_list[a] += labels.size(0)\n",
        "                correct_list[a] += (predicted == labels).sum().item()\n",
        "            \n",
        "correct_rate = np.array(correct_list) / np.array(total_list)\n",
        "model_name = ['DeepConv_net128', 'DeepConv_net64', 'DeepFC_net128', 'DeepFC_net64']\n",
        "\n",
        "for i in range(len(correct_rate)):\n",
        "    print('{0} : {1}'.format(model_name[i], correct_rate[i]))"
      ],
      "metadata": {
        "colab": {
          "base_uri": "https://localhost:8080/"
        },
        "id": "VjVs_iS0rlof",
        "outputId": "9b0f8100-afbd-4465-fe37-e5d5e406d53c"
      },
      "execution_count": 59,
      "outputs": [
        {
          "output_type": "stream",
          "name": "stdout",
          "text": [
            "DeepConv_net128 : 0.8076\n",
            "DeepConv_net64 : 0.8218\n",
            "DeepFC_net128 : 0.8333\n",
            "DeepFC_net64 : 0.8661\n"
          ]
        }
      ]
    },
    {
      "cell_type": "markdown",
      "source": [
        "# FashionMNIST 분류 모델 중 성능이 낮은 모델 이유 확인"
      ],
      "metadata": {
        "id": "SZcZQv4PGeYv"
      }
    },
    {
      "cell_type": "markdown",
      "source": [
        "## Convolution-layer를 하나씩 추가하면서, 성능변화를 관찰"
      ],
      "metadata": {
        "id": "V7HoLqroDhyF"
      }
    },
    {
      "cell_type": "markdown",
      "source": [
        "### 3개의 convolution-layer 사용시"
      ],
      "metadata": {
        "id": "_civVcIYBGxA"
      }
    },
    {
      "cell_type": "code",
      "source": [
        "class CNN_Model3(nn.Module):\n",
        "    def __init__(self):\n",
        "        super(CNN_Model3, self).__init__()\n",
        "\n",
        "        self.conv1 = nn.Conv2d(in_channels=1, out_channels=5, kernel_size=3, stride=1, padding=2)\n",
        "        self.conv2 = nn.Conv2d(5, 7, 3, padding=1)\n",
        "        self.conv3 = nn.Conv2d(7, 16, 2, padding=1)\n",
        "\n",
        "        self.fc1 = nn.Linear(16* 16 * 16, 3000)\n",
        "        self.fc2 = nn.Linear(3000, 1500)\n",
        "        self.fc3 = nn.Linear(1500, 20 * 3 * 3)\n",
        "        self.fc4 = nn.Linear(20 * 3 * 3, 86)\n",
        "        self.fc5 = nn.Linear(86, 10) # 10 : 10개의 category\n",
        "\n",
        "    def forward(self, x):\n",
        "        x = F.relu(self.conv1(x))\n",
        "        x = F.max_pool2d(x, (2,2))\n",
        "        x = F.relu(self.conv2(x))\n",
        "        x = F.relu(self.conv3(x))\n",
        "\n",
        "        x = x.view(-1, self.num_flat_features(x)) # num_flat_features : 아래에서 정의\n",
        "\n",
        "        x = F.relu(self.fc1(x))\n",
        "        x = F.relu(self.fc2(x))\n",
        "        x = F.relu(self.fc3(x))\n",
        "        x = F.relu(self.fc4(x))\n",
        "        x = self.fc5(x)\n",
        "\n",
        "        return x\n",
        "    \n",
        "    def num_flat_features(self, x): # 처음 dim-size을 제외하고, 모두 곱한 값을 반환해준다.\n",
        "        size = x.size()[1:]\n",
        "        num_features = 1\n",
        "        for s in size:\n",
        "            num_features *= s\n",
        "        \n",
        "        return num_features"
      ],
      "metadata": {
        "id": "29zvOdhT-fwY"
      },
      "execution_count": 60,
      "outputs": []
    },
    {
      "cell_type": "code",
      "source": [
        "# 모델객체 생성\n",
        "new_model = CNN_Model3().to(device)\n",
        "\n",
        "print(new_model)"
      ],
      "metadata": {
        "colab": {
          "base_uri": "https://localhost:8080/"
        },
        "outputId": "357799e3-263b-48a9-ed90-81826abdbbb4",
        "id": "t81gXZmz-fwY"
      },
      "execution_count": 61,
      "outputs": [
        {
          "output_type": "stream",
          "name": "stdout",
          "text": [
            "CNN_Model3(\n",
            "  (conv1): Conv2d(1, 5, kernel_size=(3, 3), stride=(1, 1), padding=(2, 2))\n",
            "  (conv2): Conv2d(5, 7, kernel_size=(3, 3), stride=(1, 1), padding=(1, 1))\n",
            "  (conv3): Conv2d(7, 16, kernel_size=(2, 2), stride=(1, 1), padding=(1, 1))\n",
            "  (fc1): Linear(in_features=4096, out_features=3000, bias=True)\n",
            "  (fc2): Linear(in_features=3000, out_features=1500, bias=True)\n",
            "  (fc3): Linear(in_features=1500, out_features=180, bias=True)\n",
            "  (fc4): Linear(in_features=180, out_features=86, bias=True)\n",
            "  (fc5): Linear(in_features=86, out_features=10, bias=True)\n",
            ")\n"
          ]
        }
      ]
    },
    {
      "cell_type": "code",
      "source": [
        "summary(new_model, input_size=(1, 28, 28), batch_size=128)"
      ],
      "metadata": {
        "colab": {
          "base_uri": "https://localhost:8080/"
        },
        "id": "Bb2EkGUbBnuM",
        "outputId": "a5a529e8-14ae-4dfb-92ca-579b4e720e93"
      },
      "execution_count": 62,
      "outputs": [
        {
          "output_type": "stream",
          "name": "stdout",
          "text": [
            "----------------------------------------------------------------\n",
            "        Layer (type)               Output Shape         Param #\n",
            "================================================================\n",
            "            Conv2d-1           [128, 5, 30, 30]              50\n",
            "            Conv2d-2           [128, 7, 15, 15]             322\n",
            "            Conv2d-3          [128, 16, 16, 16]             464\n",
            "            Linear-4                [128, 3000]      12,291,000\n",
            "            Linear-5                [128, 1500]       4,501,500\n",
            "            Linear-6                 [128, 180]         270,180\n",
            "            Linear-7                  [128, 86]          15,566\n",
            "            Linear-8                  [128, 10]             870\n",
            "================================================================\n",
            "Total params: 17,079,952\n",
            "Trainable params: 17,079,952\n",
            "Non-trainable params: 0\n",
            "----------------------------------------------------------------\n",
            "Input size (MB): 0.38\n",
            "Forward/backward pass size (MB): 14.60\n",
            "Params size (MB): 65.15\n",
            "Estimated Total Size (MB): 80.13\n",
            "----------------------------------------------------------------\n"
          ]
        }
      ]
    },
    {
      "cell_type": "code",
      "source": [
        "optimizer = optim.SGD(new_model.parameters(), lr=0.001, momentum=0.9)"
      ],
      "metadata": {
        "id": "aQDT4bYIBsZl"
      },
      "execution_count": 63,
      "outputs": []
    },
    {
      "cell_type": "code",
      "source": [
        "for epoch in range(10):\n",
        "\n",
        "    running_loss = 0.0\n",
        "\n",
        "    for i, data in enumerate(train_loader128, start=0):\n",
        "        inputs, labels = data[0].to(device), data[1].to(device)\n",
        "\n",
        "        optimizer.zero_grad() # epoch마다 gradient 0으로 초기화\n",
        "\n",
        "        outputs = new_model(inputs) # y_pred = f(X)\n",
        "        loss = criterion(outputs, labels) # CrossEntropyLoss; 0~1 사이값\n",
        "        loss.backward() # back-propagation; gradient 계산\n",
        "        optimizer.step() # parameters(weights) update\n",
        "\n",
        "        running_loss += loss.item() # 그냥 전체적인 비교를 위해 누적함\n",
        "\n",
        "        if i % 100 == 99: # 100번 마다 확인; epoch=10, iter(=i)=469, batch=128\n",
        "            print('Epoch: {}, Iter: {}, Loss: {}'.format(epoch+1, i+1, running_loss/2000))\n",
        "            running_loss = 0.0"
      ],
      "metadata": {
        "colab": {
          "base_uri": "https://localhost:8080/"
        },
        "id": "D6GqkR8nBwhH",
        "outputId": "35d12c3c-80d3-4b09-f5f2-952cda5022d4"
      },
      "execution_count": 64,
      "outputs": [
        {
          "output_type": "stream",
          "name": "stdout",
          "text": [
            "Epoch: 1, Iter: 100, Loss: 0.11522226190567017\n",
            "Epoch: 1, Iter: 200, Loss: 0.11521053624153137\n",
            "Epoch: 1, Iter: 300, Loss: 0.11518025553226471\n",
            "Epoch: 1, Iter: 400, Loss: 0.11516672253608704\n",
            "Epoch: 2, Iter: 100, Loss: 0.11514701199531555\n",
            "Epoch: 2, Iter: 200, Loss: 0.11511442065238953\n",
            "Epoch: 2, Iter: 300, Loss: 0.11507297158241273\n",
            "Epoch: 2, Iter: 400, Loss: 0.11507502746582031\n",
            "Epoch: 3, Iter: 100, Loss: 0.11504921674728394\n",
            "Epoch: 3, Iter: 200, Loss: 0.11503772497177124\n",
            "Epoch: 3, Iter: 300, Loss: 0.11502346920967102\n",
            "Epoch: 3, Iter: 400, Loss: 0.11500858116149902\n",
            "Epoch: 4, Iter: 100, Loss: 0.1149536646604538\n",
            "Epoch: 4, Iter: 200, Loss: 0.11493075120449066\n",
            "Epoch: 4, Iter: 300, Loss: 0.11488014280796051\n",
            "Epoch: 4, Iter: 400, Loss: 0.11482397639751435\n",
            "Epoch: 5, Iter: 100, Loss: 0.11467377400398254\n",
            "Epoch: 5, Iter: 200, Loss: 0.11453002655506134\n",
            "Epoch: 5, Iter: 300, Loss: 0.11430970001220703\n",
            "Epoch: 5, Iter: 400, Loss: 0.11394093418121339\n",
            "Epoch: 6, Iter: 100, Loss: 0.11224484813213348\n",
            "Epoch: 6, Iter: 200, Loss: 0.10784306693077088\n",
            "Epoch: 6, Iter: 300, Loss: 0.08568768179416657\n",
            "Epoch: 6, Iter: 400, Loss: 0.0580044958293438\n",
            "Epoch: 7, Iter: 100, Loss: 0.04537550821900368\n",
            "Epoch: 7, Iter: 200, Loss: 0.04230940020084381\n",
            "Epoch: 7, Iter: 300, Loss: 0.03824494135379791\n",
            "Epoch: 7, Iter: 400, Loss: 0.03753970345854759\n",
            "Epoch: 8, Iter: 100, Loss: 0.035280881524086\n",
            "Epoch: 8, Iter: 200, Loss: 0.033124702483415605\n",
            "Epoch: 8, Iter: 300, Loss: 0.033360988318920134\n",
            "Epoch: 8, Iter: 400, Loss: 0.03188490974903107\n",
            "Epoch: 9, Iter: 100, Loss: 0.030601443499326707\n",
            "Epoch: 9, Iter: 200, Loss: 0.030654933884739877\n",
            "Epoch: 9, Iter: 300, Loss: 0.030074726313352586\n",
            "Epoch: 9, Iter: 400, Loss: 0.028991132766008378\n",
            "Epoch: 10, Iter: 100, Loss: 0.027849882140755653\n",
            "Epoch: 10, Iter: 200, Loss: 0.027765555024147032\n",
            "Epoch: 10, Iter: 300, Loss: 0.02706971898674965\n",
            "Epoch: 10, Iter: 400, Loss: 0.026684569105505943\n"
          ]
        }
      ]
    },
    {
      "cell_type": "code",
      "source": [
        "correct = 0\n",
        "total = 0\n",
        "\n",
        "with torch.no_grad():\n",
        "    for data in test_loader128:\n",
        "        images, labels = data[0].to(device), data[1].to(device)\n",
        "        outputs = new_model(images)\n",
        "        _, predicted = torch.max(outputs.data, axis=1)\n",
        "        total += labels.size(0)\n",
        "        correct += (predicted == labels).sum().item()\n",
        "    \n",
        "    print(100 * correct / total)"
      ],
      "metadata": {
        "colab": {
          "base_uri": "https://localhost:8080/"
        },
        "id": "1PDu2v9bB_NE",
        "outputId": "078658ee-fff9-4696-be4f-23bf3f819e8b"
      },
      "execution_count": 65,
      "outputs": [
        {
          "output_type": "stream",
          "name": "stdout",
          "text": [
            "80.45\n"
          ]
        }
      ]
    },
    {
      "cell_type": "markdown",
      "source": [
        "### 4개의 convolution-layer 사용시"
      ],
      "metadata": {
        "id": "7Thu9NRyCV7j"
      }
    },
    {
      "cell_type": "code",
      "source": [
        "class CNN_Model4(nn.Module):\n",
        "    def __init__(self):\n",
        "        super(CNN_Model4, self).__init__()\n",
        "\n",
        "        self.conv1 = nn.Conv2d(in_channels=1, out_channels=5, kernel_size=3, stride=1, padding=2)\n",
        "        self.conv2 = nn.Conv2d(5, 7, 3, padding=1)\n",
        "        self.conv3 = nn.Conv2d(7, 16, 2, padding=1)\n",
        "        self.conv4 = nn.Conv2d(16, 19, 2)\n",
        "\n",
        "        self.fc1 = nn.Linear(15* 15 * 19, 3000)\n",
        "        self.fc2 = nn.Linear(3000, 1500)\n",
        "        self.fc3 = nn.Linear(1500, 20 * 3 * 3)\n",
        "        self.fc4 = nn.Linear(20 * 3 * 3, 86)\n",
        "        self.fc5 = nn.Linear(86, 10) # 10 : 10개의 category\n",
        "\n",
        "    def forward(self, x):\n",
        "        x = F.relu(self.conv1(x))\n",
        "        x = F.max_pool2d(x, (2,2))\n",
        "        x = F.relu(self.conv2(x))\n",
        "        x = F.relu(self.conv3(x))\n",
        "        x = F.relu(self.conv4(x))\n",
        "\n",
        "        x = x.view(-1, self.num_flat_features(x)) # num_flat_features : 아래에서 정의\n",
        "\n",
        "        x = F.relu(self.fc1(x))\n",
        "        x = F.relu(self.fc2(x))\n",
        "        x = F.relu(self.fc3(x))\n",
        "        x = F.relu(self.fc4(x))\n",
        "        x = self.fc5(x)\n",
        "\n",
        "        return x\n",
        "    \n",
        "    def num_flat_features(self, x): # 처음 dim-size을 제외하고, 모두 곱한 값을 반환해준다.\n",
        "        size = x.size()[1:]\n",
        "        num_features = 1\n",
        "        for s in size:\n",
        "            num_features *= s\n",
        "        \n",
        "        return num_features"
      ],
      "metadata": {
        "id": "V9PQvGFPCV7k"
      },
      "execution_count": 66,
      "outputs": []
    },
    {
      "cell_type": "code",
      "source": [
        "# 모델객체 생성\n",
        "new_model = CNN_Model4().to(device)\n",
        "\n",
        "print(new_model)"
      ],
      "metadata": {
        "colab": {
          "base_uri": "https://localhost:8080/"
        },
        "outputId": "77ad08e9-ec2f-4182-c75c-d1d7890f8f77",
        "id": "HNAL7SRZCV7k"
      },
      "execution_count": 67,
      "outputs": [
        {
          "output_type": "stream",
          "name": "stdout",
          "text": [
            "CNN_Model4(\n",
            "  (conv1): Conv2d(1, 5, kernel_size=(3, 3), stride=(1, 1), padding=(2, 2))\n",
            "  (conv2): Conv2d(5, 7, kernel_size=(3, 3), stride=(1, 1), padding=(1, 1))\n",
            "  (conv3): Conv2d(7, 16, kernel_size=(2, 2), stride=(1, 1), padding=(1, 1))\n",
            "  (conv4): Conv2d(16, 19, kernel_size=(2, 2), stride=(1, 1))\n",
            "  (fc1): Linear(in_features=4275, out_features=3000, bias=True)\n",
            "  (fc2): Linear(in_features=3000, out_features=1500, bias=True)\n",
            "  (fc3): Linear(in_features=1500, out_features=180, bias=True)\n",
            "  (fc4): Linear(in_features=180, out_features=86, bias=True)\n",
            "  (fc5): Linear(in_features=86, out_features=10, bias=True)\n",
            ")\n"
          ]
        }
      ]
    },
    {
      "cell_type": "code",
      "source": [
        "summary(new_model, input_size=(1, 28, 28), batch_size=128)"
      ],
      "metadata": {
        "colab": {
          "base_uri": "https://localhost:8080/"
        },
        "outputId": "4c8d3d6b-05ab-4558-c3e8-f1cab7f63262",
        "id": "fHmIarJBCV7k"
      },
      "execution_count": 68,
      "outputs": [
        {
          "output_type": "stream",
          "name": "stdout",
          "text": [
            "----------------------------------------------------------------\n",
            "        Layer (type)               Output Shape         Param #\n",
            "================================================================\n",
            "            Conv2d-1           [128, 5, 30, 30]              50\n",
            "            Conv2d-2           [128, 7, 15, 15]             322\n",
            "            Conv2d-3          [128, 16, 16, 16]             464\n",
            "            Conv2d-4          [128, 19, 15, 15]           1,235\n",
            "            Linear-5                [128, 3000]      12,828,000\n",
            "            Linear-6                [128, 1500]       4,501,500\n",
            "            Linear-7                 [128, 180]         270,180\n",
            "            Linear-8                  [128, 86]          15,566\n",
            "            Linear-9                  [128, 10]             870\n",
            "================================================================\n",
            "Total params: 17,618,187\n",
            "Trainable params: 17,618,187\n",
            "Non-trainable params: 0\n",
            "----------------------------------------------------------------\n",
            "Input size (MB): 0.38\n",
            "Forward/backward pass size (MB): 18.77\n",
            "Params size (MB): 67.21\n",
            "Estimated Total Size (MB): 86.36\n",
            "----------------------------------------------------------------\n"
          ]
        }
      ]
    },
    {
      "cell_type": "code",
      "source": [
        "optimizer = optim.SGD(new_model.parameters(), lr=0.001, momentum=0.9)"
      ],
      "metadata": {
        "id": "z6gegPTRCV7k"
      },
      "execution_count": 69,
      "outputs": []
    },
    {
      "cell_type": "code",
      "source": [
        "for epoch in range(10):\n",
        "\n",
        "    running_loss = 0.0\n",
        "\n",
        "    for i, data in enumerate(train_loader128, start=0):\n",
        "        inputs, labels = data[0].to(device), data[1].to(device)\n",
        "\n",
        "        optimizer.zero_grad() # epoch마다 gradient 0으로 초기화\n",
        "\n",
        "        outputs = new_model(inputs) # y_pred = f(X)\n",
        "        loss = criterion(outputs, labels) # CrossEntropyLoss; 0~1 사이값\n",
        "        loss.backward() # back-propagation; gradient 계산\n",
        "        optimizer.step() # parameters(weights) update\n",
        "\n",
        "        running_loss += loss.item() # 그냥 전체적인 비교를 위해 누적함\n",
        "\n",
        "        if i % 100 == 99: # 100번 마다 확인; epoch=10, iter(=i)=469, batch=128\n",
        "            print('Epoch: {}, Iter: {}, Loss: {}'.format(epoch+1, i+1, running_loss/2000))\n",
        "            running_loss = 0.0"
      ],
      "metadata": {
        "colab": {
          "base_uri": "https://localhost:8080/"
        },
        "outputId": "71a548ba-3de0-4dfd-da5c-d1c569c1941b",
        "id": "oeeKVQdKCV7k"
      },
      "execution_count": 70,
      "outputs": [
        {
          "output_type": "stream",
          "name": "stdout",
          "text": [
            "Epoch: 1, Iter: 100, Loss: 0.11518304741382598\n",
            "Epoch: 1, Iter: 200, Loss: 0.11515615820884705\n",
            "Epoch: 1, Iter: 300, Loss: 0.11516983187198639\n",
            "Epoch: 1, Iter: 400, Loss: 0.11509763157367706\n",
            "Epoch: 2, Iter: 100, Loss: 0.1151035144329071\n",
            "Epoch: 2, Iter: 200, Loss: 0.11510371553897858\n",
            "Epoch: 2, Iter: 300, Loss: 0.11506981992721557\n",
            "Epoch: 2, Iter: 400, Loss: 0.11506044864654541\n",
            "Epoch: 3, Iter: 100, Loss: 0.11504491031169892\n",
            "Epoch: 3, Iter: 200, Loss: 0.1150112065076828\n",
            "Epoch: 3, Iter: 300, Loss: 0.11499805963039399\n",
            "Epoch: 3, Iter: 400, Loss: 0.11497210431098938\n",
            "Epoch: 4, Iter: 100, Loss: 0.11490821540355682\n",
            "Epoch: 4, Iter: 200, Loss: 0.11485017359256744\n",
            "Epoch: 4, Iter: 300, Loss: 0.11476791048049927\n",
            "Epoch: 4, Iter: 400, Loss: 0.11465292060375214\n",
            "Epoch: 5, Iter: 100, Loss: 0.11423606407642364\n",
            "Epoch: 5, Iter: 200, Loss: 0.11363131165504456\n",
            "Epoch: 5, Iter: 300, Loss: 0.111764204621315\n",
            "Epoch: 5, Iter: 400, Loss: 0.09431081742048264\n",
            "Epoch: 6, Iter: 100, Loss: 0.04137044379115105\n",
            "Epoch: 6, Iter: 200, Loss: 0.036374893695116046\n",
            "Epoch: 6, Iter: 300, Loss: 0.033619923874735835\n",
            "Epoch: 6, Iter: 400, Loss: 0.03344186756014824\n",
            "Epoch: 7, Iter: 100, Loss: 0.0312826633900404\n",
            "Epoch: 7, Iter: 200, Loss: 0.029881194204092024\n",
            "Epoch: 7, Iter: 300, Loss: 0.02958008974790573\n",
            "Epoch: 7, Iter: 400, Loss: 0.030122018232941628\n",
            "Epoch: 8, Iter: 100, Loss: 0.028886115908622743\n",
            "Epoch: 8, Iter: 200, Loss: 0.02781711858510971\n",
            "Epoch: 8, Iter: 300, Loss: 0.026661831930279732\n",
            "Epoch: 8, Iter: 400, Loss: 0.026555090591311455\n",
            "Epoch: 9, Iter: 100, Loss: 0.025850999921560286\n",
            "Epoch: 9, Iter: 200, Loss: 0.025138473644852638\n",
            "Epoch: 9, Iter: 300, Loss: 0.025293652787804603\n",
            "Epoch: 9, Iter: 400, Loss: 0.02557569122314453\n",
            "Epoch: 10, Iter: 100, Loss: 0.024452153384685517\n",
            "Epoch: 10, Iter: 200, Loss: 0.024579819425940515\n",
            "Epoch: 10, Iter: 300, Loss: 0.023252006515860558\n",
            "Epoch: 10, Iter: 400, Loss: 0.023490869179368018\n"
          ]
        }
      ]
    },
    {
      "cell_type": "code",
      "source": [
        "correct = 0\n",
        "total = 0\n",
        "\n",
        "with torch.no_grad():\n",
        "    for data in test_loader128:\n",
        "        images, labels = data[0].to(device), data[1].to(device)\n",
        "        outputs = new_model(images)\n",
        "        _, predicted = torch.max(outputs.data, axis=1)\n",
        "        total += labels.size(0)\n",
        "        correct += (predicted == labels).sum().item()\n",
        "    \n",
        "    print(100 * correct / total)"
      ],
      "metadata": {
        "colab": {
          "base_uri": "https://localhost:8080/"
        },
        "id": "w3uuDeS_CV7k",
        "outputId": "bb54028a-1e51-48d6-8b88-c5d50d864156"
      },
      "execution_count": 71,
      "outputs": [
        {
          "output_type": "stream",
          "name": "stdout",
          "text": [
            "82.45\n"
          ]
        }
      ]
    },
    {
      "cell_type": "markdown",
      "source": [
        "### 5개의 convolution-layer 사용시"
      ],
      "metadata": {
        "id": "kuP_3_DyD42p"
      }
    },
    {
      "cell_type": "code",
      "source": [
        "class CNN_Model5(nn.Module):\n",
        "    def __init__(self):\n",
        "        super(CNN_Model5, self).__init__()\n",
        "\n",
        "        self.conv1 = nn.Conv2d(in_channels=1, out_channels=5, kernel_size=3, stride=1, padding=2)\n",
        "        self.conv2 = nn.Conv2d(5, 7, 3, padding=1)      \n",
        "        self.conv3 = nn.Conv2d(7, 16, 2, padding=1)\n",
        "        self.conv4 = nn.Conv2d(16, 19, 2)\n",
        "        self.conv5 = nn.Conv2d(19, 29, 3)\n",
        "\n",
        "        self.fc1 = nn.Linear(29 * 13 * 13, 100)\n",
        "        self.fc2 = nn.Linear(100, 50)\n",
        "        self.fc3 = nn.Linear(50, 25)\n",
        "        self.fc4 = nn.Linear(25, 10) # 10 : 10개의 category\n",
        "\n",
        "    def forward(self, x):\n",
        "        x = F.relu(self.conv1(x))\n",
        "        x = F.max_pool2d(x, (2,2))\n",
        "        x = F.relu(self.conv2(x))\n",
        "        x = F.relu(self.conv3(x))\n",
        "        x = F.relu(self.conv4(x))\n",
        "        x = F.relu(self.conv5(x))\n",
        "\n",
        "        x = x.view(-1, self.num_flat_features(x)) # num_flat_features : 아래에서 정의\n",
        "\n",
        "        x = F.relu(self.fc1(x))\n",
        "        x = F.relu(self.fc2(x))\n",
        "        x = F.relu(self.fc3(x))\n",
        "        x = self.fc4(x)\n",
        "\n",
        "        return x\n",
        "    \n",
        "    def num_flat_features(self, x): # 처음 dim-size을 제외하고, 모두 곱한 값을 반환해준다.\n",
        "        size = x.size()[1:]\n",
        "        num_features = 1\n",
        "        for s in size:\n",
        "            num_features *= s\n",
        "        \n",
        "        return num_features"
      ],
      "metadata": {
        "id": "Bk1u7iloD42q"
      },
      "execution_count": 72,
      "outputs": []
    },
    {
      "cell_type": "code",
      "source": [
        "# 모델객체 생성\n",
        "new_model = CNN_Model5().to(device)\n",
        "\n",
        "print(new_model)"
      ],
      "metadata": {
        "colab": {
          "base_uri": "https://localhost:8080/"
        },
        "outputId": "3ba25b42-e618-4822-f4c0-f233e3b55a61",
        "id": "GPoNB-4vD42q"
      },
      "execution_count": 73,
      "outputs": [
        {
          "output_type": "stream",
          "name": "stdout",
          "text": [
            "CNN_Model5(\n",
            "  (conv1): Conv2d(1, 5, kernel_size=(3, 3), stride=(1, 1), padding=(2, 2))\n",
            "  (conv2): Conv2d(5, 7, kernel_size=(3, 3), stride=(1, 1), padding=(1, 1))\n",
            "  (conv3): Conv2d(7, 16, kernel_size=(2, 2), stride=(1, 1), padding=(1, 1))\n",
            "  (conv4): Conv2d(16, 19, kernel_size=(2, 2), stride=(1, 1))\n",
            "  (conv5): Conv2d(19, 29, kernel_size=(3, 3), stride=(1, 1))\n",
            "  (fc1): Linear(in_features=4901, out_features=100, bias=True)\n",
            "  (fc2): Linear(in_features=100, out_features=50, bias=True)\n",
            "  (fc3): Linear(in_features=50, out_features=25, bias=True)\n",
            "  (fc4): Linear(in_features=25, out_features=10, bias=True)\n",
            ")\n"
          ]
        }
      ]
    },
    {
      "cell_type": "code",
      "source": [
        "summary(new_model, input_size=(1, 28, 28), batch_size=128)"
      ],
      "metadata": {
        "colab": {
          "base_uri": "https://localhost:8080/"
        },
        "outputId": "c7ac3bc8-9950-495c-ddfe-de12922a576f",
        "id": "aDvnyPw6D42q"
      },
      "execution_count": 74,
      "outputs": [
        {
          "output_type": "stream",
          "name": "stdout",
          "text": [
            "----------------------------------------------------------------\n",
            "        Layer (type)               Output Shape         Param #\n",
            "================================================================\n",
            "            Conv2d-1           [128, 5, 30, 30]              50\n",
            "            Conv2d-2           [128, 7, 15, 15]             322\n",
            "            Conv2d-3          [128, 16, 16, 16]             464\n",
            "            Conv2d-4          [128, 19, 15, 15]           1,235\n",
            "            Conv2d-5          [128, 29, 13, 13]           4,988\n",
            "            Linear-6                 [128, 100]         490,200\n",
            "            Linear-7                  [128, 50]           5,050\n",
            "            Linear-8                  [128, 25]           1,275\n",
            "            Linear-9                  [128, 10]             260\n",
            "================================================================\n",
            "Total params: 503,844\n",
            "Trainable params: 503,844\n",
            "Non-trainable params: 0\n",
            "----------------------------------------------------------------\n",
            "Input size (MB): 0.38\n",
            "Forward/backward pass size (MB): 19.07\n",
            "Params size (MB): 1.92\n",
            "Estimated Total Size (MB): 21.38\n",
            "----------------------------------------------------------------\n"
          ]
        }
      ]
    },
    {
      "cell_type": "code",
      "source": [
        "optimizer = optim.SGD(new_model.parameters(), lr=0.001, momentum=0.9)"
      ],
      "metadata": {
        "id": "QmOiVQDLD42q"
      },
      "execution_count": 75,
      "outputs": []
    },
    {
      "cell_type": "code",
      "source": [
        "for epoch in range(10):\n",
        "\n",
        "    running_loss = 0.0\n",
        "\n",
        "    for i, data in enumerate(train_loader128, start=0):\n",
        "        inputs, labels = data[0].to(device), data[1].to(device)\n",
        "\n",
        "        optimizer.zero_grad() # epoch마다 gradient 0으로 초기화\n",
        "\n",
        "        outputs = new_model(inputs) # y_pred = f(X)\n",
        "        loss = criterion(outputs, labels) # CrossEntropyLoss; 0~1 사이값\n",
        "        loss.backward() # back-propagation; gradient 계산\n",
        "        optimizer.step() # parameters(weights) update\n",
        "\n",
        "        running_loss += loss.item() # 그냥 전체적인 비교를 위해 누적함\n",
        "\n",
        "        if i % 100 == 99: # 100번 마다 확인; epoch=10, iter(=i)=469, batch=128\n",
        "            print('Epoch: {}, Iter: {}, Loss: {}'.format(epoch+1, i+1, running_loss/2000))\n",
        "            running_loss = 0.0"
      ],
      "metadata": {
        "colab": {
          "base_uri": "https://localhost:8080/"
        },
        "outputId": "96cdadc7-830e-4659-d61d-913963ef37e3",
        "id": "eS9fQfeED42q"
      },
      "execution_count": 76,
      "outputs": [
        {
          "output_type": "stream",
          "name": "stdout",
          "text": [
            "Epoch: 1, Iter: 100, Loss: 0.1153114241361618\n",
            "Epoch: 1, Iter: 200, Loss: 0.11530707371234894\n",
            "Epoch: 1, Iter: 300, Loss: 0.11526763880252838\n",
            "Epoch: 1, Iter: 400, Loss: 0.11523949527740479\n",
            "Epoch: 2, Iter: 100, Loss: 0.11520022070407868\n",
            "Epoch: 2, Iter: 200, Loss: 0.11519382786750794\n",
            "Epoch: 2, Iter: 300, Loss: 0.11518293535709381\n",
            "Epoch: 2, Iter: 400, Loss: 0.11515660655498505\n",
            "Epoch: 3, Iter: 100, Loss: 0.11515345954895019\n",
            "Epoch: 3, Iter: 200, Loss: 0.11514348149299622\n",
            "Epoch: 3, Iter: 300, Loss: 0.11514863908290864\n",
            "Epoch: 3, Iter: 400, Loss: 0.11514580726623536\n",
            "Epoch: 4, Iter: 100, Loss: 0.11513648974895477\n",
            "Epoch: 4, Iter: 200, Loss: 0.11513850784301757\n",
            "Epoch: 4, Iter: 300, Loss: 0.11512613797187805\n",
            "Epoch: 4, Iter: 400, Loss: 0.11512748634815216\n",
            "Epoch: 5, Iter: 100, Loss: 0.11513035643100739\n",
            "Epoch: 5, Iter: 200, Loss: 0.11511885714530945\n",
            "Epoch: 5, Iter: 300, Loss: 0.115134463429451\n",
            "Epoch: 5, Iter: 400, Loss: 0.1151248562335968\n",
            "Epoch: 6, Iter: 100, Loss: 0.11512527382373809\n",
            "Epoch: 6, Iter: 200, Loss: 0.11512144136428833\n",
            "Epoch: 6, Iter: 300, Loss: 0.11512523651123047\n",
            "Epoch: 6, Iter: 400, Loss: 0.1151204013824463\n",
            "Epoch: 7, Iter: 100, Loss: 0.11511946177482604\n",
            "Epoch: 7, Iter: 200, Loss: 0.11511624884605408\n",
            "Epoch: 7, Iter: 300, Loss: 0.11511768245697021\n",
            "Epoch: 7, Iter: 400, Loss: 0.11511993801593781\n",
            "Epoch: 8, Iter: 100, Loss: 0.11511416757106781\n",
            "Epoch: 8, Iter: 200, Loss: 0.11511531746387482\n",
            "Epoch: 8, Iter: 300, Loss: 0.11511533570289612\n",
            "Epoch: 8, Iter: 400, Loss: 0.11511596536636352\n",
            "Epoch: 9, Iter: 100, Loss: 0.11511205410957337\n",
            "Epoch: 9, Iter: 200, Loss: 0.11511026608943939\n",
            "Epoch: 9, Iter: 300, Loss: 0.11511133944988251\n",
            "Epoch: 9, Iter: 400, Loss: 0.11510762166976929\n",
            "Epoch: 10, Iter: 100, Loss: 0.11510516393184662\n",
            "Epoch: 10, Iter: 200, Loss: 0.11510401570796966\n",
            "Epoch: 10, Iter: 300, Loss: 0.11510252010822296\n",
            "Epoch: 10, Iter: 400, Loss: 0.11510171735286713\n"
          ]
        }
      ]
    },
    {
      "cell_type": "code",
      "source": [
        "correct = 0\n",
        "total = 0\n",
        "\n",
        "with torch.no_grad():\n",
        "    for data in test_loader128:\n",
        "        images, labels = data[0].to(device), data[1].to(device)\n",
        "        outputs = new_model(images)\n",
        "        _, predicted = torch.max(outputs.data, axis=1)\n",
        "        total += labels.size(0)\n",
        "        correct += (predicted == labels).sum().item()\n",
        "    \n",
        "    print(100 * correct / total)"
      ],
      "metadata": {
        "colab": {
          "base_uri": "https://localhost:8080/"
        },
        "outputId": "b0f85de4-327e-46c3-fcac-f08c3baadad2",
        "id": "X0H3p7PGD42q"
      },
      "execution_count": 77,
      "outputs": [
        {
          "output_type": "stream",
          "name": "stdout",
          "text": [
            "17.71\n"
          ]
        }
      ]
    }
  ]
}