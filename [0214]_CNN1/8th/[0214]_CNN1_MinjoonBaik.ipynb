{
  "nbformat": 4,
  "nbformat_minor": 0,
  "metadata": {
    "colab": {
      "provenance": [],
      "collapsed_sections": [
        "cdNvme8aKSBP",
        "OHckdZ55KeH2",
        "mCrBa-gRRMEO",
        "EFPYE3UUnpmX",
        "xVxKI_rwCvhI",
        "klpXGc2tCimP",
        "huNh3EnhJLyh",
        "W-2Q7c6-JW9z",
        "FOUBE2UfKS6D",
        "LaVvtEOvKUgJ",
        "jRyyw49jKVhj",
        "5IecfHZiI09W",
        "SZcZQv4PGeYv",
        "V7HoLqroDhyF",
        "_civVcIYBGxA",
        "7Thu9NRyCV7j",
        "kuP_3_DyD42p"
      ]
    },
    "kernelspec": {
      "name": "python3",
      "display_name": "Python 3"
    },
    "accelerator": "GPU",
    "gpuClass": "standard"
  },
  "cells": [
    {
      "cell_type": "markdown",
      "source": [
        "# 초기 세팅"
      ],
      "metadata": {
        "id": "cdNvme8aKSBP"
      }
    },
    {
      "cell_type": "code",
      "metadata": {
        "id": "P1v9luAfHXdz"
      },
      "source": [
        "import torch\n",
        "import torch.nn as nn\n",
        "import torch.nn.functional as F\n",
        "import torch.optim as optim\n",
        "from torch.utils.data import Dataset, DataLoader\n",
        "\n",
        "import torchvision\n",
        "import torchvision.datasets as datasets\n",
        "import torchvision.transforms as transforms\n",
        "\n",
        "import numpy as np\n",
        "import matplotlib.pyplot as plt\n",
        "plt.style.use('seaborn-white')"
      ],
      "execution_count": 56,
      "outputs": []
    },
    {
      "cell_type": "code",
      "source": [
        "!pip install torchsummary\n",
        "from torchsummary import summary"
      ],
      "metadata": {
        "colab": {
          "base_uri": "https://localhost:8080/"
        },
        "id": "D39aCPyTu2Ce",
        "outputId": "9a39b0bd-7ee3-44a6-ce9d-92f0cb7c6294"
      },
      "execution_count": 57,
      "outputs": [
        {
          "output_type": "stream",
          "name": "stdout",
          "text": [
            "Looking in indexes: https://pypi.org/simple, https://us-python.pkg.dev/colab-wheels/public/simple/\n",
            "Requirement already satisfied: torchsummary in /usr/local/lib/python3.8/dist-packages (1.5.1)\n"
          ]
        }
      ]
    },
    {
      "cell_type": "markdown",
      "metadata": {
        "id": "02LdHlTTSz5L"
      },
      "source": [
        "- 현재 GPU 설정"
      ]
    },
    {
      "cell_type": "code",
      "metadata": {
        "id": "Ybsjn80uSx3X",
        "colab": {
          "base_uri": "https://localhost:8080/"
        },
        "outputId": "079e944b-5f14-40db-a8ae-401542403728"
      },
      "source": [
        "# colab의 runtime-type을 GPU로 설정해서, True가 나오도록 한다.\n",
        "\n",
        "torch.cuda.is_available()"
      ],
      "execution_count": 58,
      "outputs": [
        {
          "output_type": "execute_result",
          "data": {
            "text/plain": [
              "True"
            ]
          },
          "metadata": {},
          "execution_count": 58
        }
      ]
    },
    {
      "cell_type": "code",
      "metadata": {
        "id": "HlPZI5wfDQhv",
        "colab": {
          "base_uri": "https://localhost:8080/"
        },
        "outputId": "d35ba458-c7f8-47c8-8328-e5a4d7f6ef10"
      },
      "source": [
        "use_cuda = torch.cuda.is_available()\n",
        "device = torch.device(\"cuda\" if use_cuda else \"cpu\")\n",
        "device"
      ],
      "execution_count": 59,
      "outputs": [
        {
          "output_type": "execute_result",
          "data": {
            "text/plain": [
              "device(type='cuda')"
            ]
          },
          "metadata": {},
          "execution_count": 59
        }
      ]
    },
    {
      "cell_type": "markdown",
      "source": [
        "# FashionMNIST 분류 모델 만들기\n",
        "* 흑/백(1) 이미지 데이터 분류\n",
        "* 28x28 pixel"
      ],
      "metadata": {
        "id": "OHckdZ55KeH2"
      }
    },
    {
      "cell_type": "markdown",
      "source": [
        "## 데이터 로드"
      ],
      "metadata": {
        "id": "mCrBa-gRRMEO"
      }
    },
    {
      "cell_type": "code",
      "source": [
        "# 데이터 전처리\n",
        "\n",
        "MNIST_transform = transforms.Compose([transforms.ToTensor(), # tensor로 펴준다.\n",
        "                                      transforms.Normalize((0.5,),(0.5,))]) # 정규화를 해준다."
      ],
      "metadata": {
        "id": "vYP9dGrWzDqd"
      },
      "execution_count": 60,
      "outputs": []
    },
    {
      "cell_type": "code",
      "source": [
        "trainset = datasets.FashionMNIST(root='/content',\n",
        "                                 train=True, download=True,\n",
        "                                 transform=MNIST_transform)\n",
        "\n",
        "testset = datasets.FashionMNIST(root='/content',\n",
        "                                 train=False, download=True,\n",
        "                                 transform=MNIST_transform)"
      ],
      "metadata": {
        "id": "VpVsTevTWE5i"
      },
      "execution_count": 61,
      "outputs": []
    },
    {
      "cell_type": "markdown",
      "source": [
        "input-data size 확인"
      ],
      "metadata": {
        "id": "qh7uI7ewsipv"
      }
    },
    {
      "cell_type": "code",
      "source": [
        "# batch-size=128\n",
        "train_loader128 =  DataLoader(trainset, batch_size=128, shuffle=True, num_workers=2)\n",
        "test_loader128 =  DataLoader(testset, batch_size=128, shuffle=False, num_workers=2)\n",
        "\n",
        "# batch-size=64\n",
        "train_loader64 =  DataLoader(trainset, batch_size=64, shuffle=True, num_workers=2)\n",
        "test_loader64 =  DataLoader(testset, batch_size=64, shuffle=False, num_workers=2)"
      ],
      "metadata": {
        "id": "Dz-CJf0x0nne"
      },
      "execution_count": 62,
      "outputs": []
    },
    {
      "cell_type": "code",
      "source": [
        "# 128 : batch-size\n",
        "# 1 : 흑백\n",
        "# 28x28 : pixel-size\n",
        "\n",
        "images128, labels128 = next(iter(train_loader128))\n",
        "images128.shape, labels128.shape"
      ],
      "metadata": {
        "id": "iy6D1Rg_07fD",
        "colab": {
          "base_uri": "https://localhost:8080/"
        },
        "outputId": "e553656a-1429-4163-91b9-84ed9c2f8fc0"
      },
      "execution_count": 63,
      "outputs": [
        {
          "output_type": "execute_result",
          "data": {
            "text/plain": [
              "(torch.Size([128, 1, 28, 28]), torch.Size([128]))"
            ]
          },
          "metadata": {},
          "execution_count": 63
        }
      ]
    },
    {
      "cell_type": "code",
      "source": [
        "# 64 : batch-size\n",
        "# 1 : 흑백\n",
        "# 28x28 : pixel-size\n",
        "\n",
        "images64, labels64 = next(iter(train_loader64))\n",
        "images64.shape, labels64.shape"
      ],
      "metadata": {
        "colab": {
          "base_uri": "https://localhost:8080/"
        },
        "id": "AotS6123m9sK",
        "outputId": "d3217734-a6d1-4fd6-cc5c-7667df0ee298"
      },
      "execution_count": 64,
      "outputs": [
        {
          "output_type": "execute_result",
          "data": {
            "text/plain": [
              "(torch.Size([64, 1, 28, 28]), torch.Size([64]))"
            ]
          },
          "metadata": {},
          "execution_count": 64
        }
      ]
    },
    {
      "cell_type": "code",
      "source": [
        "# 숫자 label에 해당되는 값\n",
        "\n",
        "labels_map = {\n",
        "    0: 'T-Shirt',\n",
        "    1: 'Trouser',\n",
        "    2: 'Pullover',\n",
        "    3: 'Dress',\n",
        "    4: 'Coat',\n",
        "    5: 'Sandal',\n",
        "    6: 'Shirt',\n",
        "    7: 'Sneaker',\n",
        "    8: 'Bag',\n",
        "    9: 'Ankle Boot'\n",
        "}"
      ],
      "metadata": {
        "id": "g4Nd4uLGTEDy"
      },
      "execution_count": 65,
      "outputs": []
    },
    {
      "cell_type": "code",
      "source": [
        "# 데이터 확인\n",
        "\n",
        "figure = plt.figure(figsize=(12,12))\n",
        "cols, rows = 4, 1\n",
        "\n",
        "for i in range(1, cols * rows + 1):\n",
        "    image = images128[i].squeeze()\n",
        "    label_idx = labels128[i].item() # y_label\n",
        "    label = labels_map[label_idx] # 위에서 해당되는 label\n",
        "\n",
        "    figure.add_subplot(rows, cols, i)\n",
        "    plt.title(label)\n",
        "    plt.axis('off')\n",
        "    plt.imshow(image, cmap='gray')\n",
        "\n",
        "plt.show()"
      ],
      "metadata": {
        "id": "_u5_UEAH09SB",
        "colab": {
          "base_uri": "https://localhost:8080/",
          "height": 179
        },
        "outputId": "e06773ba-d6db-4509-8c61-2908cf3e3f89"
      },
      "execution_count": 66,
      "outputs": [
        {
          "output_type": "display_data",
          "data": {
            "text/plain": [
              "<Figure size 864x864 with 4 Axes>"
            ],
            "image/png": "[encoded data removed]"
          },
          "metadata": {}
        }
      ]
    },
    {
      "cell_type": "markdown",
      "source": [
        "## 모델 1 생성\n",
        "* 10개의 convolution-layer(Conv2d)와 2개의 fully-connected(fc)로 이루어진 모델\n",
        "* Total params: 28,784"
      ],
      "metadata": {
        "id": "EFPYE3UUnpmX"
      }
    },
    {
      "cell_type": "markdown",
      "source": [
        "input-data size\n",
        "* train_loader128(batch-size;128) : 128, 1, 28, 28\n",
        "* train_loader64(batch-size;64) : 64, 1, 28, 28\n",
        "\n",
        "\n",
        "구현해야하는 모델 정보<br>\n",
        "* convolution-layer 1\n",
        "* maxpooling-layer\n",
        "* convolution-layer 2\n",
        "* convolution-layer 3\n",
        "* convolution-layer 4\n",
        "* convolution-layer 5\n",
        "* convolution-layer 6\n",
        "* convolution-layer 7\n",
        "* convolution-layer 8\n",
        "* convolution-layer 9\n",
        "* maxpooling-layer\n",
        "* convolution-layer 10\n",
        "* flatten\n",
        "* fc1\n",
        "* fc2\n",
        "\n",
        "추가 정보\n",
        "* 활성화함수 : relu\n",
        "(단, maxpooling과 마지막 fc2에는 보통적으로 활성화함수를 사용하지 않는다.)\n",
        "* flatten의 경우, weights가 들어가지 않는다. 즉, layer라고는 볼 수 없다.\n",
        "\n",
        "모델의 layer를 통과함에 따라 데이터의 크기 변화는 다음과 같다.\n",
        "1. batch-size128 -> torch.Size([128, 1, 28, 28]) 으로 시작\n",
        "2. batch-size;64 -> torch.Size([64, 1, 28, 28]) 으로 시작\n",
        "> * torch.Size([128 or 64, 5, 30, 30])\n",
        "> * torch.Size([128 or 64, 5, 15, 15])\n",
        "> * torch.Size([128 or 64, 7, 15, 15])\n",
        "> * torch.Size([128 or 64, 16, 16, 16])\n",
        "> * torch.Size([128 or 64, 19, 15, 15])\n",
        "> * torch.Size([128 or 64, 29, 13, 13])\n",
        "> * torch.Size([128 or 64, 29, 14, 14])\n",
        "> * torch.Size([128 or 64, 6, 12, 12])\n",
        "> * torch.Size([128 or 64, 2, 12, 12])\n",
        "> * torch.Size([128 or 64, 10, 7, 7])\n",
        "> * torch.Size([128 or 64, 20, 7, 7])\n",
        "> * torch.Size([128 or 64, 20, 3, 3])\n",
        "> * torch.Size([128 or 64, 180])\n",
        "> * torch.Size([128 or 64, 86])\n",
        "> * torch.Size([128 or 64, 10]) "
      ],
      "metadata": {
        "id": "orF-z9choFaB"
      }
    },
    {
      "cell_type": "code",
      "source": [
        "class CNN_Model1(nn.Module):\n",
        "    def __init__(self):\n",
        "        super(CNN_Model1, self).__init__()\n",
        "\n",
        "\n",
        "\n",
        "        self.conv1 = nn.Conv2d(in_channels=1, out_channels=5, kernel_size=3, stride=1, padding=2)\n",
        "        # in-channels = 1 <- 흑/백\n",
        "        # out-channels = 5\n",
        "        # kernel_size / filter-size = 2x2 -> f=3\n",
        "        # stride = 1(default) -> s=1\n",
        "        # padding = 2(default) -> p=2\n",
        "        # input-data pixel size = 28x28 -> n=28\n",
        "        # (n-f+2p)/s + 1 = new n\n",
        "        # (28-3+2x2)/1 + 1 = 30\n",
        "    \n",
        "        # maxpool : n=30 -> 15\n",
        "\n",
        "        self.conv2 = nn.Conv2d(5, 7, 3, padding=1)\n",
        "        # in-channels = 5 <- 이전것의 out-channels\n",
        "        # out-channels = 7\n",
        "        # filter-size = 3x3\n",
        "        # stride = 1(default)\n",
        "        # padding = 1\n",
        "        # (n-f+2p)/s + 1 = new n    \n",
        "        # (15-3+2x1)/1 + 1 = 15\n",
        "\n",
        "        self.conv3 = nn.Conv2d(in_channels=7, out_channels=16, kernel_size=4, stride=1, padding=2)\n",
        "        # (15-4+2*2)/1 + 1 = 16\n",
        "        self.conv4 = nn.Conv2d(in_channels=16, out_channels=19, kernel_size=4, stride=1, padding=1)\n",
        "        # (16-4+2*1)/1 + 1 = 15\n",
        "        self.conv5 = nn.Conv2d(in_channels=19, out_channels=29, kernel_size=5, stride=1, padding=1)\n",
        "        # (15-5+2*1)/1 +1 = 13\n",
        "        self.conv6 = nn.Conv2d(in_channels=29, out_channels=29, kernel_size=2, stride=1, padding=1)\n",
        "        # (13-2+2*1)/1 +1 = 14\n",
        "        self.conv7 = nn.Conv2d(in_channels=29, out_channels=6, kernel_size=5, stride=1, padding=1)\n",
        "        # (14-5+2*1)/1 +1 = 12\n",
        "        self.conv8 = nn.Conv2d(in_channels=6, out_channels=2, kernel_size=3, stride=1, padding=1)\n",
        "        # (12-3+2*1)/1 +1 = 12\n",
        "        self.conv9 = nn.Conv2d(in_channels=2, out_channels=10, kernel_size=2, stride=2, padding=1)\n",
        "        # (12-2+2*1)/2 +1 = 7\n",
        "        # maxpool : n=7 -> 3\n",
        "        self.conv10 = nn.Conv2d(in_channels=10, out_channels=20, kernel_size=3, stride=1, padding=1)\n",
        "        # (3-3+2*1)/1 +1 = 3\n",
        "\n",
        "        self.fc1 = nn.Linear(20 * 3 * 3, 86)\n",
        "        self.fc2 = nn.Linear(86, 10)\n",
        "        # 10 : 10개의 category\n",
        "\n",
        "    def forward(self, x):\n",
        "       x = F.relu(self.conv1(x))\n",
        "       #print(x.size()) \n",
        "       x = F.max_pool2d(x, (2,2), stride=2)\n",
        "       #print(x.size()) \n",
        "       x = F.relu(self.conv2(x))\n",
        "       #print(x.size()) \n",
        "       x = F.relu(self.conv3(x))\n",
        "       #print(x.size()) \n",
        "       x = F.relu(self.conv4(x))\n",
        "       #print(x.size()) \n",
        "       x = F.relu(self.conv5(x))\n",
        "       #print(x.size()) \n",
        "       x = F.relu(self.conv6(x))\n",
        "       #print(x.size()) \n",
        "       x = F.relu(self.conv7(x))\n",
        "       #print(x.size()) \n",
        "       x = F.relu(self.conv8(x))\n",
        "       #print(x.size()) \n",
        "       x = F.relu(self.conv9(x))\n",
        "       #print(x.size()) \n",
        "       x = F.max_pool2d(x, 2, stride=2)\n",
        "       #print(x.size()) \n",
        "       x = F.relu(self.conv10(x))\n",
        "       #print(x.size()) \n",
        "       x = x.view(-1, self.num_flat_features(x)) # num_flat_features : 아래에서 정의\n",
        "       \n",
        "       x = F.relu(self.fc1(x))\n",
        "       #print(x.size())\n",
        "       x = self.fc2(x)\n",
        "       #print(x.size(), '\\n\\n')\n",
        "       \n",
        "       return x\n",
        "    \n",
        "    def num_flat_features(self, x): # 처음 dim-size을 제외하고, 모두 곱한 값을 반환해준다.\n",
        "        size = x.size()[1:]\n",
        "        num_features = 1\n",
        "        for s in size:\n",
        "            num_features *= s\n",
        "        \n",
        "        return num_features"
      ],
      "metadata": {
        "id": "EedVZU7Knv0X"
      },
      "execution_count": 67,
      "outputs": []
    },
    {
      "cell_type": "code",
      "source": [
        "# 모델객체 생성\n",
        "DeepConv_net128 = CNN_Model1().to(device)\n",
        "DeepConv_net64 = CNN_Model1().to(device)\n",
        "\n",
        "print(DeepConv_net128)"
      ],
      "metadata": {
        "colab": {
          "base_uri": "https://localhost:8080/"
        },
        "id": "RiMZ7sX6oDn3",
        "outputId": "648a3c73-7b40-4ee3-ee72-f37860959487"
      },
      "execution_count": 68,
      "outputs": [
        {
          "output_type": "stream",
          "name": "stdout",
          "text": [
            "CNN_Model1(\n",
            "  (conv1): Conv2d(1, 5, kernel_size=(3, 3), stride=(1, 1), padding=(2, 2))\n",
            "  (conv2): Conv2d(5, 7, kernel_size=(3, 3), stride=(1, 1), padding=(1, 1))\n",
            "  (conv3): Conv2d(7, 16, kernel_size=(4, 4), stride=(1, 1), padding=(2, 2))\n",
            "  (conv4): Conv2d(16, 19, kernel_size=(4, 4), stride=(1, 1), padding=(1, 1))\n",
            "  (conv5): Conv2d(19, 29, kernel_size=(5, 5), stride=(1, 1), padding=(1, 1))\n",
            "  (conv6): Conv2d(29, 29, kernel_size=(2, 2), stride=(1, 1), padding=(1, 1))\n",
            "  (conv7): Conv2d(29, 6, kernel_size=(5, 5), stride=(1, 1), padding=(1, 1))\n",
            "  (conv8): Conv2d(6, 2, kernel_size=(3, 3), stride=(1, 1), padding=(1, 1))\n",
            "  (conv9): Conv2d(2, 10, kernel_size=(2, 2), stride=(2, 2), padding=(1, 1))\n",
            "  (conv10): Conv2d(10, 20, kernel_size=(3, 3), stride=(1, 1), padding=(1, 1))\n",
            "  (fc1): Linear(in_features=180, out_features=86, bias=True)\n",
            "  (fc2): Linear(in_features=86, out_features=10, bias=True)\n",
            ")\n"
          ]
        }
      ]
    },
    {
      "cell_type": "code",
      "source": [
        "input = images128.to(device)\n",
        "input.size()"
      ],
      "metadata": {
        "colab": {
          "base_uri": "https://localhost:8080/"
        },
        "id": "8gBjDmoc7fJh",
        "outputId": "163a2092-4d85-4819-8ebe-cc2a38cd496b"
      },
      "execution_count": 69,
      "outputs": [
        {
          "output_type": "execute_result",
          "data": {
            "text/plain": [
              "torch.Size([128, 1, 28, 28])"
            ]
          },
          "metadata": {},
          "execution_count": 69
        }
      ]
    },
    {
      "cell_type": "code",
      "source": [
        "output = DeepConv_net128.forward(input)\n",
        "output.size()"
      ],
      "metadata": {
        "colab": {
          "base_uri": "https://localhost:8080/"
        },
        "id": "tflPlTme7h9x",
        "outputId": "3f8e1f0c-2365-4897-f1bb-5f2424353f1a"
      },
      "execution_count": 70,
      "outputs": [
        {
          "output_type": "execute_result",
          "data": {
            "text/plain": [
              "torch.Size([128, 10])"
            ]
          },
          "metadata": {},
          "execution_count": 70
        }
      ]
    },
    {
      "cell_type": "code",
      "source": [
        "summary(DeepConv_net128, input_size=(1, 28, 28), batch_size=128)"
      ],
      "metadata": {
        "colab": {
          "base_uri": "https://localhost:8080/"
        },
        "id": "DSH3qCADujAi",
        "outputId": "f99f3ff2-6675-409f-dc8a-ba34a897f459"
      },
      "execution_count": 71,
      "outputs": [
        {
          "output_type": "stream",
          "name": "stdout",
          "text": [
            "----------------------------------------------------------------\n",
            "        Layer (type)               Output Shape         Param #\n",
            "================================================================\n",
            "            Conv2d-1           [128, 5, 30, 30]              50\n",
            "            Conv2d-2           [128, 7, 15, 15]             322\n",
            "            Conv2d-3          [128, 16, 16, 16]           1,808\n",
            "            Conv2d-4          [128, 19, 15, 15]           4,883\n",
            "            Conv2d-5          [128, 29, 13, 13]          13,804\n",
            "            Conv2d-6          [128, 29, 14, 14]           3,393\n",
            "            Conv2d-7           [128, 6, 12, 12]           4,356\n",
            "            Conv2d-8           [128, 2, 12, 12]             110\n",
            "            Conv2d-9            [128, 10, 7, 7]              90\n",
            "           Conv2d-10            [128, 20, 3, 3]           1,820\n",
            "           Linear-11                  [128, 86]          15,566\n",
            "           Linear-12                  [128, 10]             870\n",
            "================================================================\n",
            "Total params: 47,072\n",
            "Trainable params: 47,072\n",
            "Non-trainable params: 0\n",
            "----------------------------------------------------------------\n",
            "Input size (MB): 0.38\n",
            "Forward/backward pass size (MB): 26.32\n",
            "Params size (MB): 0.18\n",
            "Estimated Total Size (MB): 26.88\n",
            "----------------------------------------------------------------\n"
          ]
        }
      ]
    },
    {
      "cell_type": "code",
      "source": [
        "input = images64.to(device)\n",
        "input.size()"
      ],
      "metadata": {
        "colab": {
          "base_uri": "https://localhost:8080/"
        },
        "outputId": "999105d7-0308-4d31-8d8c-3f02232d5516",
        "id": "jcybKk5Nvj4Z"
      },
      "execution_count": 72,
      "outputs": [
        {
          "output_type": "execute_result",
          "data": {
            "text/plain": [
              "torch.Size([64, 1, 28, 28])"
            ]
          },
          "metadata": {},
          "execution_count": 72
        }
      ]
    },
    {
      "cell_type": "code",
      "source": [
        "output = DeepConv_net64.forward(input)\n",
        "output.size()"
      ],
      "metadata": {
        "colab": {
          "base_uri": "https://localhost:8080/"
        },
        "outputId": "b8e600e3-f08a-459e-b2e8-68fb6310826f",
        "id": "y2PZCHyyvj4a"
      },
      "execution_count": 73,
      "outputs": [
        {
          "output_type": "execute_result",
          "data": {
            "text/plain": [
              "torch.Size([64, 10])"
            ]
          },
          "metadata": {},
          "execution_count": 73
        }
      ]
    },
    {
      "cell_type": "code",
      "source": [
        "summary(DeepConv_net64, input_size=(1, 28, 28), batch_size=64)"
      ],
      "metadata": {
        "colab": {
          "base_uri": "https://localhost:8080/"
        },
        "id": "uh1pmRXcvZP8",
        "outputId": "77b8fb7a-1f0f-4d58-9433-0ab276d0a094"
      },
      "execution_count": 74,
      "outputs": [
        {
          "output_type": "stream",
          "name": "stdout",
          "text": [
            "----------------------------------------------------------------\n",
            "        Layer (type)               Output Shape         Param #\n",
            "================================================================\n",
            "            Conv2d-1            [64, 5, 30, 30]              50\n",
            "            Conv2d-2            [64, 7, 15, 15]             322\n",
            "            Conv2d-3           [64, 16, 16, 16]           1,808\n",
            "            Conv2d-4           [64, 19, 15, 15]           4,883\n",
            "            Conv2d-5           [64, 29, 13, 13]          13,804\n",
            "            Conv2d-6           [64, 29, 14, 14]           3,393\n",
            "            Conv2d-7            [64, 6, 12, 12]           4,356\n",
            "            Conv2d-8            [64, 2, 12, 12]             110\n",
            "            Conv2d-9             [64, 10, 7, 7]              90\n",
            "           Conv2d-10             [64, 20, 3, 3]           1,820\n",
            "           Linear-11                   [64, 86]          15,566\n",
            "           Linear-12                   [64, 10]             870\n",
            "================================================================\n",
            "Total params: 47,072\n",
            "Trainable params: 47,072\n",
            "Non-trainable params: 0\n",
            "----------------------------------------------------------------\n",
            "Input size (MB): 0.19\n",
            "Forward/backward pass size (MB): 13.16\n",
            "Params size (MB): 0.18\n",
            "Estimated Total Size (MB): 13.53\n",
            "----------------------------------------------------------------\n"
          ]
        }
      ]
    },
    {
      "cell_type": "markdown",
      "source": [
        "## 모델 2 생성\n",
        "* 2개의 convolution-layer(Conv2d)와 5개의 fully-connected(fc)로 이루어진 모델\n",
        "* Total params: 9,516,488"
      ],
      "metadata": {
        "id": "xVxKI_rwCvhI"
      }
    },
    {
      "cell_type": "markdown",
      "source": [
        "input-data size\n",
        "* train_loader128(batch-size;128) : 128, 1, 28, 28\n",
        "* train_loader64(batch-size;64) : 64, 1, 28, 28\n",
        "\n",
        "\n",
        "구현해야하는 모델 정보<br>\n",
        "* convolution-layer 1\n",
        "* maxpooling-layer\n",
        "* convolution-layer 2\n",
        "* flatten\n",
        "* fc1\n",
        "* fc2\n",
        "* fc3\n",
        "* fc4\n",
        "* fc5\n",
        "\n",
        "추가 정보\n",
        "* 활성화함수 : relu\n",
        "(단, maxpooling과 마지막 fc5에는 보통적으로 활성화함수를 사용하지 않는다.)\n",
        "* flatten의 경우, weights가 들어가지 않는다. 즉, layer라고는 볼 수 없다.\n",
        "\n",
        "모델의 layer를 통과함에 따라 데이터의 크기 변화는 다음과 같다.\n",
        "\n",
        "1. batch-size128 -> torch.Size([128, 1, 28, 28]) 으로 시작\n",
        "2. batch-size;64 -> torch.Size([64, 1, 28, 28]) 으로 시작\n",
        "> * torch.Size([128 or 64, 5, 30, 30])\n",
        "> * torch.Size([128 or 64, 5, 15, 15])\n",
        "> * torch.Size([128 or 64, 7, 15, 15])\n",
        "> * torch.Size([128 or 64, 1575])\n",
        "> * torch.Size([128 or 64, 3000])\n",
        "> * torch.Size([128 or 64, 1500])\n",
        "> * torch.Size([128 or 64, 180])\n",
        "> * torch.Size([128 or 64, 86])\n",
        "> * torch.Size([128 or 64, 10])"
      ],
      "metadata": {
        "id": "uN5s0Re-CvhI"
      }
    },
    {
      "cell_type": "code",
      "source": [
        "class CNN_Model2(nn.Module):\n",
        "    def __init__(self):\n",
        "        super(CNN_Model2, self).__init__()\n",
        "\n",
        "        self.conv1 = nn.Conv2d(in_channels=1, out_channels=5, kernel_size=3, stride=1, padding=2)\n",
        "        self.conv2 = nn.Conv2d(5, 7, 3, padding=1)\n",
        "        self.fc1 = nn.Linear(7 * 15 * 15, 3000)\n",
        "        self.fc2 = nn.Linear(3000, 1500)\n",
        "        self.fc3 = nn.Linear(1500, 180)\n",
        "        self.fc4 = nn.Linear(180, 86)\n",
        "        self.fc5 = nn.Linear(86, 10)\n",
        "\n",
        "    def forward(self, x):\n",
        "      x = F.relu(self.conv1(x)) \n",
        "      #print(x.size())\n",
        "      x = F.max_pool2d(x,(2,2))\n",
        "      #print(x.size())\n",
        "      x = F.relu(self.conv2(x))\n",
        "      #print(x.size())\n",
        "      \n",
        "      x = x.view(-1, self.num_flat_features(x)) # num_flat_features : 아래에서 정의\n",
        "      #print(x.size())\n",
        "      \n",
        "\n",
        "      x = F.relu(self.fc1(x))\n",
        "      #print(x.size())\n",
        "      x = F.relu(self.fc2(x))\n",
        "      #print(x.size())\n",
        "      x = F.relu(self.fc3(x))\n",
        "      #print(x.size())\n",
        "      x = F.relu(self.fc4(x))\n",
        "      #print(x.size())\n",
        "      x = self.fc5(x)\n",
        "      #print(x.size(), '\\n\\n')\n",
        "      return x\n",
        "    \n",
        "    def num_flat_features(self, x): # 처음 dim-size을 제외하고, 모두 곱한 값을 반환해준다.\n",
        "        size = x.size()[1:]\n",
        "        num_features = 1\n",
        "        for s in size:\n",
        "            num_features *= s\n",
        "        \n",
        "        return num_features"
      ],
      "metadata": {
        "id": "JfSM-k0DCvhI"
      },
      "execution_count": 75,
      "outputs": []
    },
    {
      "cell_type": "code",
      "source": [
        "# 모델객체 생성\n",
        "DeepFC_net128 = CNN_Model2().to(device)\n",
        "DeepFC_net64 = CNN_Model2().to(device)\n",
        "\n",
        "print(DeepFC_net128)"
      ],
      "metadata": {
        "colab": {
          "base_uri": "https://localhost:8080/"
        },
        "outputId": "d4a234a9-a448-4701-8b45-c81baf766db4",
        "id": "QQ_AnPi5CvhI"
      },
      "execution_count": 76,
      "outputs": [
        {
          "output_type": "stream",
          "name": "stdout",
          "text": [
            "CNN_Model2(\n",
            "  (conv1): Conv2d(1, 5, kernel_size=(3, 3), stride=(1, 1), padding=(2, 2))\n",
            "  (conv2): Conv2d(5, 7, kernel_size=(3, 3), stride=(1, 1), padding=(1, 1))\n",
            "  (fc1): Linear(in_features=1575, out_features=3000, bias=True)\n",
            "  (fc2): Linear(in_features=3000, out_features=1500, bias=True)\n",
            "  (fc3): Linear(in_features=1500, out_features=180, bias=True)\n",
            "  (fc4): Linear(in_features=180, out_features=86, bias=True)\n",
            "  (fc5): Linear(in_features=86, out_features=10, bias=True)\n",
            ")\n"
          ]
        }
      ]
    },
    {
      "cell_type": "code",
      "source": [
        "input = images128.to(device)\n",
        "input.size()"
      ],
      "metadata": {
        "colab": {
          "base_uri": "https://localhost:8080/"
        },
        "outputId": "cb120da1-13d9-45d2-f860-22fffbead8ec",
        "id": "S9IVOG3pwgoS"
      },
      "execution_count": 77,
      "outputs": [
        {
          "output_type": "execute_result",
          "data": {
            "text/plain": [
              "torch.Size([128, 1, 28, 28])"
            ]
          },
          "metadata": {},
          "execution_count": 77
        }
      ]
    },
    {
      "cell_type": "code",
      "source": [
        "output = DeepFC_net128.forward(input)\n",
        "output.size()"
      ],
      "metadata": {
        "colab": {
          "base_uri": "https://localhost:8080/"
        },
        "outputId": "35ca9905-5d27-40b4-c2e3-125d8743a523",
        "id": "p4ydm5qCwgoT"
      },
      "execution_count": 78,
      "outputs": [
        {
          "output_type": "execute_result",
          "data": {
            "text/plain": [
              "torch.Size([128, 10])"
            ]
          },
          "metadata": {},
          "execution_count": 78
        }
      ]
    },
    {
      "cell_type": "code",
      "source": [
        "summary(DeepFC_net128, input_size=(1, 28, 28), batch_size=128)"
      ],
      "metadata": {
        "colab": {
          "base_uri": "https://localhost:8080/"
        },
        "outputId": "947c59e7-a55c-4cd3-c6b4-761e4782233f",
        "id": "Q3uN6Dw6wgoT"
      },
      "execution_count": 79,
      "outputs": [
        {
          "output_type": "stream",
          "name": "stdout",
          "text": [
            "----------------------------------------------------------------\n",
            "        Layer (type)               Output Shape         Param #\n",
            "================================================================\n",
            "            Conv2d-1           [128, 5, 30, 30]              50\n",
            "            Conv2d-2           [128, 7, 15, 15]             322\n",
            "            Linear-3                [128, 3000]       4,728,000\n",
            "            Linear-4                [128, 1500]       4,501,500\n",
            "            Linear-5                 [128, 180]         270,180\n",
            "            Linear-6                  [128, 86]          15,566\n",
            "            Linear-7                  [128, 10]             870\n",
            "================================================================\n",
            "Total params: 9,516,488\n",
            "Trainable params: 9,516,488\n",
            "Non-trainable params: 0\n",
            "----------------------------------------------------------------\n",
            "Input size (MB): 0.38\n",
            "Forward/backward pass size (MB): 10.60\n",
            "Params size (MB): 36.30\n",
            "Estimated Total Size (MB): 47.28\n",
            "----------------------------------------------------------------\n"
          ]
        }
      ]
    },
    {
      "cell_type": "code",
      "source": [
        "input = images64.to(device)\n",
        "input.size()"
      ],
      "metadata": {
        "colab": {
          "base_uri": "https://localhost:8080/"
        },
        "outputId": "896874ab-345a-43d9-fd7b-f42409452c01",
        "id": "d9t36x7bwgoT"
      },
      "execution_count": 80,
      "outputs": [
        {
          "output_type": "execute_result",
          "data": {
            "text/plain": [
              "torch.Size([64, 1, 28, 28])"
            ]
          },
          "metadata": {},
          "execution_count": 80
        }
      ]
    },
    {
      "cell_type": "code",
      "source": [
        "output = DeepFC_net64.forward(input)\n",
        "output.size()"
      ],
      "metadata": {
        "colab": {
          "base_uri": "https://localhost:8080/"
        },
        "outputId": "c68f9e8b-30bc-4751-e953-67704fc95d3c",
        "id": "GFHweMakwgoT"
      },
      "execution_count": 81,
      "outputs": [
        {
          "output_type": "execute_result",
          "data": {
            "text/plain": [
              "torch.Size([64, 10])"
            ]
          },
          "metadata": {},
          "execution_count": 81
        }
      ]
    },
    {
      "cell_type": "code",
      "source": [
        "summary(DeepFC_net64, input_size=(1, 28, 28), batch_size=64)"
      ],
      "metadata": {
        "colab": {
          "base_uri": "https://localhost:8080/"
        },
        "outputId": "c9537ebb-9b30-45a4-ce7e-9707ce04e752",
        "id": "2VIZ4WCCwgoT"
      },
      "execution_count": 82,
      "outputs": [
        {
          "output_type": "stream",
          "name": "stdout",
          "text": [
            "----------------------------------------------------------------\n",
            "        Layer (type)               Output Shape         Param #\n",
            "================================================================\n",
            "            Conv2d-1            [64, 5, 30, 30]              50\n",
            "            Conv2d-2            [64, 7, 15, 15]             322\n",
            "            Linear-3                 [64, 3000]       4,728,000\n",
            "            Linear-4                 [64, 1500]       4,501,500\n",
            "            Linear-5                  [64, 180]         270,180\n",
            "            Linear-6                   [64, 86]          15,566\n",
            "            Linear-7                   [64, 10]             870\n",
            "================================================================\n",
            "Total params: 9,516,488\n",
            "Trainable params: 9,516,488\n",
            "Non-trainable params: 0\n",
            "----------------------------------------------------------------\n",
            "Input size (MB): 0.19\n",
            "Forward/backward pass size (MB): 5.30\n",
            "Params size (MB): 36.30\n",
            "Estimated Total Size (MB): 41.79\n",
            "----------------------------------------------------------------\n"
          ]
        }
      ]
    },
    {
      "cell_type": "markdown",
      "source": [
        "## 손실함수와 옵티마이저"
      ],
      "metadata": {
        "id": "klpXGc2tCimP"
      }
    },
    {
      "cell_type": "code",
      "source": [
        "criterion = nn.CrossEntropyLoss()\n",
        "\n",
        "optimizerDC_128 = optim.SGD(DeepConv_net128.parameters(), lr=0.001, momentum=0.9)\n",
        "optimizerDC_64 = optim.SGD(DeepConv_net64.parameters(), lr=0.001, momentum=0.9)\n",
        "optimizerFC_128 = optim.SGD(DeepFC_net128.parameters(), lr=0.001, momentum=0.9)\n",
        "optimizerFC_64 = optim.SGD(DeepFC_net64.parameters(), lr=0.001, momentum=0.9)"
      ],
      "metadata": {
        "id": "69AHX-ZXClOm"
      },
      "execution_count": 83,
      "outputs": []
    },
    {
      "cell_type": "markdown",
      "source": [
        "## 모델 학습"
      ],
      "metadata": {
        "id": "huNh3EnhJLyh"
      }
    },
    {
      "cell_type": "markdown",
      "source": [
        "### 1. DeepConv_net128\n",
        "* 10개의 Convolution-layer & 2개의 fc-layer\n",
        "* 128 batch-size"
      ],
      "metadata": {
        "id": "W-2Q7c6-JW9z"
      }
    },
    {
      "cell_type": "code",
      "source": [
        "for epoch in range(10):\n",
        "\n",
        "    running_loss = 0.0\n",
        "\n",
        "    for i, data in enumerate(train_loader128, start=0):\n",
        "        inputs, labels = data[0].to(device), data[1].to(device)\n",
        "\n",
        "        optimizerDC_128.zero_grad() # epoch마다 gradient 0으로 초기화\n",
        "\n",
        "        outputs = DeepConv_net128(inputs) # y_pred = f(X)\n",
        "        loss = criterion(outputs, labels) # CrossEntropyLoss; 0~1 사이값\n",
        "        loss.backward() # back-propagation; gradient 계산\n",
        "        optimizerDC_128.step() # parameters(weights) update\n",
        "\n",
        "        running_loss += loss.item() # 그냥 전체적인 비교를 위해 누적함\n",
        "\n",
        "        if i % 100 == 99: # 100번 마다 확인; epoch=10, iter(=i)=469, batch=128\n",
        "            print('Epoch: {}, Iter: {}, Loss: {}'.format(epoch+1, i+1, running_loss/2000))\n",
        "            running_loss = 0.0"
      ],
      "metadata": {
        "colab": {
          "base_uri": "https://localhost:8080/"
        },
        "id": "y-_UvdNWJR-r",
        "outputId": "1dedbfe5-dbe2-49ff-f22d-2f5bc2f928df"
      },
      "execution_count": 84,
      "outputs": [
        {
          "output_type": "stream",
          "name": "stdout",
          "text": [
            "Epoch: 1, Iter: 100, Loss: 0.11529107999801635\n",
            "Epoch: 1, Iter: 200, Loss: 0.11523732531070709\n",
            "Epoch: 1, Iter: 300, Loss: 0.11524857938289643\n",
            "Epoch: 1, Iter: 400, Loss: 0.11516190338134766\n",
            "Epoch: 2, Iter: 100, Loss: 0.11517930150032044\n",
            "Epoch: 2, Iter: 200, Loss: 0.11515357744693756\n",
            "Epoch: 2, Iter: 300, Loss: 0.11514695930480957\n",
            "Epoch: 2, Iter: 400, Loss: 0.11515267372131348\n",
            "Epoch: 3, Iter: 100, Loss: 0.11513913428783416\n",
            "Epoch: 3, Iter: 200, Loss: 0.11513030099868775\n",
            "Epoch: 3, Iter: 300, Loss: 0.1151421046257019\n",
            "Epoch: 3, Iter: 400, Loss: 0.11514327073097229\n",
            "Epoch: 4, Iter: 100, Loss: 0.11513562417030335\n",
            "Epoch: 4, Iter: 200, Loss: 0.1151302181482315\n",
            "Epoch: 4, Iter: 300, Loss: 0.11513157474994659\n",
            "Epoch: 4, Iter: 400, Loss: 0.11513545036315918\n",
            "Epoch: 5, Iter: 100, Loss: 0.11512944912910461\n",
            "Epoch: 5, Iter: 200, Loss: 0.11513334143161774\n",
            "Epoch: 5, Iter: 300, Loss: 0.1151332551240921\n",
            "Epoch: 5, Iter: 400, Loss: 0.11513143098354339\n",
            "Epoch: 6, Iter: 100, Loss: 0.11512971317768098\n",
            "Epoch: 6, Iter: 200, Loss: 0.11513005292415619\n",
            "Epoch: 6, Iter: 300, Loss: 0.11513203728199005\n",
            "Epoch: 6, Iter: 400, Loss: 0.11513440847396851\n",
            "Epoch: 7, Iter: 100, Loss: 0.11512913072109222\n",
            "Epoch: 7, Iter: 200, Loss: 0.11512969744205474\n",
            "Epoch: 7, Iter: 300, Loss: 0.11513415145874023\n",
            "Epoch: 7, Iter: 400, Loss: 0.11513198125362396\n",
            "Epoch: 8, Iter: 100, Loss: 0.11513014960289002\n",
            "Epoch: 8, Iter: 200, Loss: 0.11513131296634674\n",
            "Epoch: 8, Iter: 300, Loss: 0.11512944030761718\n",
            "Epoch: 8, Iter: 400, Loss: 0.11513345670700073\n",
            "Epoch: 9, Iter: 100, Loss: 0.11513021874427795\n",
            "Epoch: 9, Iter: 200, Loss: 0.1151299170255661\n",
            "Epoch: 9, Iter: 300, Loss: 0.11513086652755737\n",
            "Epoch: 9, Iter: 400, Loss: 0.11513379395008087\n",
            "Epoch: 10, Iter: 100, Loss: 0.11513103556632996\n",
            "Epoch: 10, Iter: 200, Loss: 0.11512962460517884\n",
            "Epoch: 10, Iter: 300, Loss: 0.1151319786310196\n",
            "Epoch: 10, Iter: 400, Loss: 0.11513273656368256\n"
          ]
        }
      ]
    },
    {
      "cell_type": "code",
      "source": [
        "for epoch in range(5):\n",
        "\n",
        "    running_loss = 0.0\n",
        "\n",
        "    for i, data in enumerate(train_loader128, start=0):\n",
        "        inputs, labels = data[0].to(device), data[1].to(device)\n",
        "\n",
        "        optimizerDC_128.zero_grad() # epoch마다 gradient 0으로 초기화\n",
        "\n",
        "        outputs = DeepConv_net128(inputs) # y_pred = f(X)\n",
        "        loss = criterion(outputs, labels) # CrossEntropyLoss; 0~1 사이값\n",
        "        loss.backward() # back-propagation; gradient 계산\n",
        "        optimizerDC_128.step() # parameters(weights) update\n",
        "\n",
        "        running_loss += loss.item() # 그냥 전체적인 비교를 위해 누적함\n",
        "\n",
        "        if i % 100 == 99: # 100번 마다 확인; epoch=10, iter(=i)=469, batch=128\n",
        "            print('Epoch: {}, Iter: {}, Loss: {}'.format(epoch+1, i+1, running_loss/2000))\n",
        "            running_loss = 0.0"
      ],
      "metadata": {
        "colab": {
          "base_uri": "https://localhost:8080/"
        },
        "id": "dNa8-7SC5u2a",
        "outputId": "99a20ac0-70c6-402c-8820-1db1e93a2113"
      },
      "execution_count": 85,
      "outputs": [
        {
          "output_type": "stream",
          "name": "stdout",
          "text": [
            "Epoch: 1, Iter: 100, Loss: 0.1151298838853836\n",
            "Epoch: 1, Iter: 200, Loss: 0.11513145852088928\n",
            "Epoch: 1, Iter: 300, Loss: 0.11513285946846008\n",
            "Epoch: 1, Iter: 400, Loss: 0.11513242626190186\n",
            "Epoch: 2, Iter: 100, Loss: 0.11513055825233459\n",
            "Epoch: 2, Iter: 200, Loss: 0.11512967014312744\n",
            "Epoch: 2, Iter: 300, Loss: 0.11513468432426453\n",
            "Epoch: 2, Iter: 400, Loss: 0.11513027095794678\n",
            "Epoch: 3, Iter: 100, Loss: 0.11513107168674469\n",
            "Epoch: 3, Iter: 200, Loss: 0.11513038146495819\n",
            "Epoch: 3, Iter: 300, Loss: 0.11513085544109344\n",
            "Epoch: 3, Iter: 400, Loss: 0.11513199090957642\n",
            "Epoch: 4, Iter: 100, Loss: 0.11513077867031098\n",
            "Epoch: 4, Iter: 200, Loss: 0.11512936544418335\n",
            "Epoch: 4, Iter: 300, Loss: 0.11513375020027161\n",
            "Epoch: 4, Iter: 400, Loss: 0.11513205134868622\n",
            "Epoch: 5, Iter: 100, Loss: 0.11513007056713104\n",
            "Epoch: 5, Iter: 200, Loss: 0.11513080441951752\n",
            "Epoch: 5, Iter: 300, Loss: 0.11513272392749786\n",
            "Epoch: 5, Iter: 400, Loss: 0.11513170313835144\n"
          ]
        }
      ]
    },
    {
      "cell_type": "markdown",
      "source": [
        "### 2. DeepConv_net64\n",
        "* 10개의 Convolution-layer & 2개의 fc-layer\n",
        "* 64 batch-size"
      ],
      "metadata": {
        "id": "FOUBE2UfKS6D"
      }
    },
    {
      "cell_type": "code",
      "source": [
        "for epoch in range(10):\n",
        "\n",
        "    running_loss = 0.0\n",
        "\n",
        "    for i, data in enumerate(train_loader64, start=0):\n",
        "        inputs, labels = data[0].to(device), data[1].to(device)\n",
        "\n",
        "        optimizerDC_64.zero_grad() # epoch마다 gradient 0으로 초기화\n",
        "\n",
        "        outputs = DeepConv_net64(inputs) # y_pred = f(X)\n",
        "        loss = criterion(outputs, labels) # CrossEntropyLoss; 0~1 사이값\n",
        "        loss.backward() # back-propagation; gradient 계산\n",
        "        optimizerDC_64.step() # parameters(weights) update\n",
        "\n",
        "        running_loss += loss.item() # 그냥 전체적인 비교를 위해 누적함\n",
        "\n",
        "        if i % 100 == 99: # 100번 마다 확인; epoch=10, iter(=i)=469, batch=64\n",
        "            print('Epoch: {}, Iter: {}, Loss: {}'.format(epoch+1, i+1, running_loss/2000))\n",
        "            running_loss = 0.0"
      ],
      "metadata": {
        "colab": {
          "base_uri": "https://localhost:8080/"
        },
        "id": "Q1znQlsWKS6D",
        "outputId": "94b45d9b-dba9-49de-e635-6812b663ad1b"
      },
      "execution_count": 86,
      "outputs": [
        {
          "output_type": "stream",
          "name": "stdout",
          "text": [
            "Epoch: 1, Iter: 100, Loss: 0.11523095941543579\n",
            "Epoch: 1, Iter: 200, Loss: 0.11523081243038177\n",
            "Epoch: 1, Iter: 300, Loss: 0.11528170144557953\n",
            "Epoch: 1, Iter: 400, Loss: 0.11515707790851593\n",
            "Epoch: 1, Iter: 500, Loss: 0.11516003119945527\n",
            "Epoch: 1, Iter: 600, Loss: 0.11515574097633362\n",
            "Epoch: 1, Iter: 700, Loss: 0.11515933620929718\n",
            "Epoch: 1, Iter: 800, Loss: 0.11518365371227264\n",
            "Epoch: 1, Iter: 900, Loss: 0.11512965643405915\n",
            "Epoch: 2, Iter: 100, Loss: 0.11514471018314362\n",
            "Epoch: 2, Iter: 200, Loss: 0.11513863623142243\n",
            "Epoch: 2, Iter: 300, Loss: 0.11513293910026551\n",
            "Epoch: 2, Iter: 400, Loss: 0.11512746846675873\n",
            "Epoch: 2, Iter: 500, Loss: 0.11514037120342255\n",
            "Epoch: 2, Iter: 600, Loss: 0.11513466012477874\n",
            "Epoch: 2, Iter: 700, Loss: 0.11514063167572021\n",
            "Epoch: 2, Iter: 800, Loss: 0.11513898646831512\n",
            "Epoch: 2, Iter: 900, Loss: 0.11513923394680023\n",
            "Epoch: 3, Iter: 100, Loss: 0.11513715207576752\n",
            "Epoch: 3, Iter: 200, Loss: 0.11512772655487061\n",
            "Epoch: 3, Iter: 300, Loss: 0.11513027572631836\n",
            "Epoch: 3, Iter: 400, Loss: 0.11514070582389832\n",
            "Epoch: 3, Iter: 500, Loss: 0.11513380479812622\n",
            "Epoch: 3, Iter: 600, Loss: 0.11513271844387055\n",
            "Epoch: 3, Iter: 700, Loss: 0.11513135707378387\n",
            "Epoch: 3, Iter: 800, Loss: 0.1151343731880188\n",
            "Epoch: 3, Iter: 900, Loss: 0.11513760113716126\n",
            "Epoch: 4, Iter: 100, Loss: 0.11513181602954864\n",
            "Epoch: 4, Iter: 200, Loss: 0.11513264441490173\n",
            "Epoch: 4, Iter: 300, Loss: 0.11513448965549469\n",
            "Epoch: 4, Iter: 400, Loss: 0.1151303699016571\n",
            "Epoch: 4, Iter: 500, Loss: 0.11513798296451569\n",
            "Epoch: 4, Iter: 600, Loss: 0.11513417840003967\n",
            "Epoch: 4, Iter: 700, Loss: 0.11513159668445587\n",
            "Epoch: 4, Iter: 800, Loss: 0.11513742983341217\n",
            "Epoch: 4, Iter: 900, Loss: 0.11513249385356904\n",
            "Epoch: 5, Iter: 100, Loss: 0.11512961757183075\n",
            "Epoch: 5, Iter: 200, Loss: 0.11513592147827148\n",
            "Epoch: 5, Iter: 300, Loss: 0.1151272451877594\n",
            "Epoch: 5, Iter: 400, Loss: 0.11513510417938233\n",
            "Epoch: 5, Iter: 500, Loss: 0.11513115298748017\n",
            "Epoch: 5, Iter: 600, Loss: 0.1151365441083908\n",
            "Epoch: 5, Iter: 700, Loss: 0.11513599216938018\n",
            "Epoch: 5, Iter: 800, Loss: 0.11513837230205536\n",
            "Epoch: 5, Iter: 900, Loss: 0.11513275134563446\n",
            "Epoch: 6, Iter: 100, Loss: 0.11513210463523865\n",
            "Epoch: 6, Iter: 200, Loss: 0.11512881290912629\n",
            "Epoch: 6, Iter: 300, Loss: 0.11513551414012908\n",
            "Epoch: 6, Iter: 400, Loss: 0.11513065183162689\n",
            "Epoch: 6, Iter: 500, Loss: 0.11513655483722687\n",
            "Epoch: 6, Iter: 600, Loss: 0.11513443231582642\n",
            "Epoch: 6, Iter: 700, Loss: 0.11512852251529694\n",
            "Epoch: 6, Iter: 800, Loss: 0.11513892233371735\n",
            "Epoch: 6, Iter: 900, Loss: 0.11513310670852661\n",
            "Epoch: 7, Iter: 100, Loss: 0.11512868869304657\n",
            "Epoch: 7, Iter: 200, Loss: 0.11513502490520477\n",
            "Epoch: 7, Iter: 300, Loss: 0.11513126635551453\n",
            "Epoch: 7, Iter: 400, Loss: 0.11513021671772003\n",
            "Epoch: 7, Iter: 500, Loss: 0.11514005136489869\n",
            "Epoch: 7, Iter: 600, Loss: 0.11513449490070343\n",
            "Epoch: 7, Iter: 700, Loss: 0.11513241827487945\n",
            "Epoch: 7, Iter: 800, Loss: 0.11513310742378235\n",
            "Epoch: 7, Iter: 900, Loss: 0.11513558280467986\n",
            "Epoch: 8, Iter: 100, Loss: 0.11513123285770416\n",
            "Epoch: 8, Iter: 200, Loss: 0.11513224458694458\n",
            "Epoch: 8, Iter: 300, Loss: 0.11512968969345093\n",
            "Epoch: 8, Iter: 400, Loss: 0.11513539946079254\n",
            "Epoch: 8, Iter: 500, Loss: 0.11513161253929138\n",
            "Epoch: 8, Iter: 600, Loss: 0.11513736987113952\n",
            "Epoch: 8, Iter: 700, Loss: 0.11513316857814788\n",
            "Epoch: 8, Iter: 800, Loss: 0.11513445913791656\n",
            "Epoch: 8, Iter: 900, Loss: 0.11513244950771331\n",
            "Epoch: 9, Iter: 100, Loss: 0.11512867915630341\n",
            "Epoch: 9, Iter: 200, Loss: 0.11513376116752624\n",
            "Epoch: 9, Iter: 300, Loss: 0.1151329665184021\n",
            "Epoch: 9, Iter: 400, Loss: 0.11513584327697754\n",
            "Epoch: 9, Iter: 500, Loss: 0.11512954676151275\n",
            "Epoch: 9, Iter: 600, Loss: 0.11513157069683075\n",
            "Epoch: 9, Iter: 700, Loss: 0.11513733148574828\n",
            "Epoch: 9, Iter: 800, Loss: 0.11513465189933778\n",
            "Epoch: 9, Iter: 900, Loss: 0.11513526391983032\n",
            "Epoch: 10, Iter: 100, Loss: 0.1151250764131546\n",
            "Epoch: 10, Iter: 200, Loss: 0.11513289165496826\n",
            "Epoch: 10, Iter: 300, Loss: 0.11513154661655425\n",
            "Epoch: 10, Iter: 400, Loss: 0.11513296687602997\n",
            "Epoch: 10, Iter: 500, Loss: 0.1151364004611969\n",
            "Epoch: 10, Iter: 600, Loss: 0.11513880181312561\n",
            "Epoch: 10, Iter: 700, Loss: 0.11512711608409881\n",
            "Epoch: 10, Iter: 800, Loss: 0.11513684594631195\n",
            "Epoch: 10, Iter: 900, Loss: 0.11513445615768432\n"
          ]
        }
      ]
    },
    {
      "cell_type": "markdown",
      "source": [
        "### 3. DeepFC_net128\n",
        "* 2개의 Convolution-layer & 5개의 fc-layer\n",
        "* 128 batch-size"
      ],
      "metadata": {
        "id": "LaVvtEOvKUgJ"
      }
    },
    {
      "cell_type": "code",
      "source": [
        "for epoch in range(10):\n",
        "\n",
        "    running_loss = 0.0\n",
        "\n",
        "    for i, data in enumerate(train_loader128, start=0):\n",
        "        inputs, labels = data[0].to(device), data[1].to(device)\n",
        "\n",
        "        optimizerFC_128.zero_grad() # epoch마다 gradient 0으로 초기화\n",
        "\n",
        "        outputs = DeepFC_net128(inputs) # y_pred = f(X)\n",
        "        loss = criterion(outputs, labels) # CrossEntropyLoss; 0~1 사이값\n",
        "        loss.backward() # back-propagation; gradient 계산\n",
        "        optimizerFC_128.step() # parameters(weights) update\n",
        "\n",
        "        running_loss += loss.item() # 그냥 전체적인 비교를 위해 누적함\n",
        "\n",
        "        if i % 100 == 99: # 100번 마다 확인; epoch=10, iter(=i)=469, batch=128\n",
        "            print('Epoch: {}, Iter: {}, Loss: {}'.format(epoch+1, i+1, running_loss/2000))\n",
        "            running_loss = 0.0"
      ],
      "metadata": {
        "colab": {
          "base_uri": "https://localhost:8080/"
        },
        "id": "Dwh9TK_1KUgK",
        "outputId": "20f6ec5b-3437-4ecc-bced-68ed73fba568"
      },
      "execution_count": 87,
      "outputs": [
        {
          "output_type": "stream",
          "name": "stdout",
          "text": [
            "Epoch: 1, Iter: 100, Loss: 0.11514456582069398\n",
            "Epoch: 1, Iter: 200, Loss: 0.11513355243206023\n",
            "Epoch: 1, Iter: 300, Loss: 0.11509226167201995\n",
            "Epoch: 1, Iter: 400, Loss: 0.11508845448493958\n",
            "Epoch: 2, Iter: 100, Loss: 0.11500853538513184\n",
            "Epoch: 2, Iter: 200, Loss: 0.11497839868068695\n",
            "Epoch: 2, Iter: 300, Loss: 0.1149198350906372\n",
            "Epoch: 2, Iter: 400, Loss: 0.11482441103458405\n",
            "Epoch: 3, Iter: 100, Loss: 0.11456825232505799\n",
            "Epoch: 3, Iter: 200, Loss: 0.11429459238052368\n",
            "Epoch: 3, Iter: 300, Loss: 0.11377016520500183\n",
            "Epoch: 3, Iter: 400, Loss: 0.11276644253730773\n",
            "Epoch: 4, Iter: 100, Loss: 0.10393423062562943\n",
            "Epoch: 4, Iter: 200, Loss: 0.07742594069242477\n",
            "Epoch: 4, Iter: 300, Loss: 0.055612309277057646\n",
            "Epoch: 4, Iter: 400, Loss: 0.04906202983856201\n",
            "Epoch: 5, Iter: 100, Loss: 0.04457947224378586\n",
            "Epoch: 5, Iter: 200, Loss: 0.04072509834170342\n",
            "Epoch: 5, Iter: 300, Loss: 0.03867316374182701\n",
            "Epoch: 5, Iter: 400, Loss: 0.03754332500696182\n",
            "Epoch: 6, Iter: 100, Loss: 0.03597015157341957\n",
            "Epoch: 6, Iter: 200, Loss: 0.033985931232571605\n",
            "Epoch: 6, Iter: 300, Loss: 0.03310372456908226\n",
            "Epoch: 6, Iter: 400, Loss: 0.03298256373405457\n",
            "Epoch: 7, Iter: 100, Loss: 0.031108279049396514\n",
            "Epoch: 7, Iter: 200, Loss: 0.030695729851722718\n",
            "Epoch: 7, Iter: 300, Loss: 0.02905201704800129\n",
            "Epoch: 7, Iter: 400, Loss: 0.029124619141221046\n",
            "Epoch: 8, Iter: 100, Loss: 0.02803144685924053\n",
            "Epoch: 8, Iter: 200, Loss: 0.027519956201314925\n",
            "Epoch: 8, Iter: 300, Loss: 0.026622915148735046\n",
            "Epoch: 8, Iter: 400, Loss: 0.02638134962320328\n",
            "Epoch: 9, Iter: 100, Loss: 0.025271969124674797\n",
            "Epoch: 9, Iter: 200, Loss: 0.024978341475129128\n",
            "Epoch: 9, Iter: 300, Loss: 0.0245740397721529\n",
            "Epoch: 9, Iter: 400, Loss: 0.02481556309759617\n",
            "Epoch: 10, Iter: 100, Loss: 0.022471526131033898\n",
            "Epoch: 10, Iter: 200, Loss: 0.0230083719342947\n",
            "Epoch: 10, Iter: 300, Loss: 0.02328441947698593\n",
            "Epoch: 10, Iter: 400, Loss: 0.022857962429523468\n"
          ]
        }
      ]
    },
    {
      "cell_type": "markdown",
      "source": [
        "### 4. DeepFC_net128\n",
        "* 2개의 Convolution-layer & 5개의 fc-layer\n",
        "* 64 batch-size"
      ],
      "metadata": {
        "id": "jRyyw49jKVhj"
      }
    },
    {
      "cell_type": "code",
      "source": [
        "for epoch in range(10):\n",
        "\n",
        "    running_loss = 0.0\n",
        "\n",
        "    for i, data in enumerate(train_loader64, start=0):\n",
        "        inputs, labels = data[0].to(device), data[1].to(device)\n",
        "\n",
        "        optimizerFC_64.zero_grad() # epoch마다 gradient 0으로 초기화\n",
        "\n",
        "        outputs = DeepFC_net64(inputs) # y_pred = f(X)\n",
        "        loss = criterion(outputs, labels) # CrossEntropyLoss; 0~1 사이값\n",
        "        loss.backward() # back-propagation; gradient 계산\n",
        "        optimizerFC_64.step() # parameters(weights) update\n",
        "\n",
        "        running_loss += loss.item() # 그냥 전체적인 비교를 위해 누적함\n",
        "\n",
        "        if i % 100 == 99: # 100번 마다 확인; epoch=10, iter(=i)=469, batch=64\n",
        "            print('Epoch: {}, Iter: {}, Loss: {}'.format(epoch+1, i+1, running_loss/2000))\n",
        "            running_loss = 0.0"
      ],
      "metadata": {
        "colab": {
          "base_uri": "https://localhost:8080/"
        },
        "id": "X3847V0dKVhk",
        "outputId": "97d5bf39-3345-47c8-8304-d56bfc3b807a"
      },
      "execution_count": 88,
      "outputs": [
        {
          "output_type": "stream",
          "name": "stdout",
          "text": [
            "Epoch: 1, Iter: 100, Loss: 0.11513553929328918\n",
            "Epoch: 1, Iter: 200, Loss: 0.11508518648147582\n",
            "Epoch: 1, Iter: 300, Loss: 0.11500915586948394\n",
            "Epoch: 1, Iter: 400, Loss: 0.11490108811855317\n",
            "Epoch: 1, Iter: 500, Loss: 0.11478039455413819\n",
            "Epoch: 1, Iter: 600, Loss: 0.11461477255821229\n",
            "Epoch: 1, Iter: 700, Loss: 0.11437775766849517\n",
            "Epoch: 1, Iter: 800, Loss: 0.11405372381210327\n",
            "Epoch: 1, Iter: 900, Loss: 0.11345929908752442\n",
            "Epoch: 2, Iter: 100, Loss: 0.11154491531848908\n",
            "Epoch: 2, Iter: 200, Loss: 0.10632467609643936\n",
            "Epoch: 2, Iter: 300, Loss: 0.08539998799562454\n",
            "Epoch: 2, Iter: 400, Loss: 0.05879182180762291\n",
            "Epoch: 2, Iter: 500, Loss: 0.04942367258667946\n",
            "Epoch: 2, Iter: 600, Loss: 0.044049420535564425\n",
            "Epoch: 2, Iter: 700, Loss: 0.041056322813034056\n",
            "Epoch: 2, Iter: 800, Loss: 0.037931109473109244\n",
            "Epoch: 2, Iter: 900, Loss: 0.03670404168963432\n",
            "Epoch: 3, Iter: 100, Loss: 0.034383165687322616\n",
            "Epoch: 3, Iter: 200, Loss: 0.03275985264778137\n",
            "Epoch: 3, Iter: 300, Loss: 0.03100975739955902\n",
            "Epoch: 3, Iter: 400, Loss: 0.03036567623913288\n",
            "Epoch: 3, Iter: 500, Loss: 0.029332722306251526\n",
            "Epoch: 3, Iter: 600, Loss: 0.029911007165908814\n",
            "Epoch: 3, Iter: 700, Loss: 0.028586697682738305\n",
            "Epoch: 3, Iter: 800, Loss: 0.02777114547044039\n",
            "Epoch: 3, Iter: 900, Loss: 0.027332488775253298\n",
            "Epoch: 4, Iter: 100, Loss: 0.026640935495495795\n",
            "Epoch: 4, Iter: 200, Loss: 0.02593268869817257\n",
            "Epoch: 4, Iter: 300, Loss: 0.025781910449266435\n",
            "Epoch: 4, Iter: 400, Loss: 0.025141852751374243\n",
            "Epoch: 4, Iter: 500, Loss: 0.024688848584890365\n",
            "Epoch: 4, Iter: 600, Loss: 0.02464473967254162\n",
            "Epoch: 4, Iter: 700, Loss: 0.024030457079410553\n",
            "Epoch: 4, Iter: 800, Loss: 0.02399565890431404\n",
            "Epoch: 4, Iter: 900, Loss: 0.023518238052725793\n",
            "Epoch: 5, Iter: 100, Loss: 0.022873771622776984\n",
            "Epoch: 5, Iter: 200, Loss: 0.022639722123742104\n",
            "Epoch: 5, Iter: 300, Loss: 0.022889327809214592\n",
            "Epoch: 5, Iter: 400, Loss: 0.023140621706843376\n",
            "Epoch: 5, Iter: 500, Loss: 0.02160022146999836\n",
            "Epoch: 5, Iter: 600, Loss: 0.022480178132653236\n",
            "Epoch: 5, Iter: 700, Loss: 0.02192610888928175\n",
            "Epoch: 5, Iter: 800, Loss: 0.02134294034540653\n",
            "Epoch: 5, Iter: 900, Loss: 0.02127172763645649\n",
            "Epoch: 6, Iter: 100, Loss: 0.021047547549009324\n",
            "Epoch: 6, Iter: 200, Loss: 0.020191546365618707\n",
            "Epoch: 6, Iter: 300, Loss: 0.020517155557870866\n",
            "Epoch: 6, Iter: 400, Loss: 0.020401125736534596\n",
            "Epoch: 6, Iter: 500, Loss: 0.02043710085749626\n",
            "Epoch: 6, Iter: 600, Loss: 0.01924738495796919\n",
            "Epoch: 6, Iter: 700, Loss: 0.02044899449497461\n",
            "Epoch: 6, Iter: 800, Loss: 0.02000459598749876\n",
            "Epoch: 6, Iter: 900, Loss: 0.019593287736177443\n",
            "Epoch: 7, Iter: 100, Loss: 0.019018684811890126\n",
            "Epoch: 7, Iter: 200, Loss: 0.019413983792066575\n",
            "Epoch: 7, Iter: 300, Loss: 0.01925428918749094\n",
            "Epoch: 7, Iter: 400, Loss: 0.018112740248441696\n",
            "Epoch: 7, Iter: 500, Loss: 0.019149381294846536\n",
            "Epoch: 7, Iter: 600, Loss: 0.018022256635129453\n",
            "Epoch: 7, Iter: 700, Loss: 0.017964231982827185\n",
            "Epoch: 7, Iter: 800, Loss: 0.01816152435541153\n",
            "Epoch: 7, Iter: 900, Loss: 0.018663212783634663\n",
            "Epoch: 8, Iter: 100, Loss: 0.018846055656671523\n",
            "Epoch: 8, Iter: 200, Loss: 0.017227244019508363\n",
            "Epoch: 8, Iter: 300, Loss: 0.01772043614089489\n",
            "Epoch: 8, Iter: 400, Loss: 0.016976067282259463\n",
            "Epoch: 8, Iter: 500, Loss: 0.017143973775207995\n",
            "Epoch: 8, Iter: 600, Loss: 0.017519596599042415\n",
            "Epoch: 8, Iter: 700, Loss: 0.017294606380164623\n",
            "Epoch: 8, Iter: 800, Loss: 0.017496839959174396\n",
            "Epoch: 8, Iter: 900, Loss: 0.01720852589607239\n",
            "Epoch: 9, Iter: 100, Loss: 0.017968115009367465\n",
            "Epoch: 9, Iter: 200, Loss: 0.016819574300199747\n",
            "Epoch: 9, Iter: 300, Loss: 0.016094665862619876\n",
            "Epoch: 9, Iter: 400, Loss: 0.016955500558018685\n",
            "Epoch: 9, Iter: 500, Loss: 0.017548422157764434\n",
            "Epoch: 9, Iter: 600, Loss: 0.016037264354526997\n",
            "Epoch: 9, Iter: 700, Loss: 0.016420756943523882\n",
            "Epoch: 9, Iter: 800, Loss: 0.016797410555183887\n",
            "Epoch: 9, Iter: 900, Loss: 0.01627816304564476\n",
            "Epoch: 10, Iter: 100, Loss: 0.016137291230261325\n",
            "Epoch: 10, Iter: 200, Loss: 0.016040328189730644\n",
            "Epoch: 10, Iter: 300, Loss: 0.01596334025263786\n",
            "Epoch: 10, Iter: 400, Loss: 0.016556138876825572\n",
            "Epoch: 10, Iter: 500, Loss: 0.015709014642983674\n",
            "Epoch: 10, Iter: 600, Loss: 0.015385989233851432\n",
            "Epoch: 10, Iter: 700, Loss: 0.015859827045351268\n",
            "Epoch: 10, Iter: 800, Loss: 0.015688725963234902\n",
            "Epoch: 10, Iter: 900, Loss: 0.015483002603054047\n"
          ]
        }
      ]
    },
    {
      "cell_type": "markdown",
      "metadata": {
        "id": "5IecfHZiI09W"
      },
      "source": [
        "## 모델 테스트"
      ]
    },
    {
      "cell_type": "code",
      "source": [
        "# 전체 test 데이터에 대해서 성능 확인\n",
        "\n",
        "correct_list = [0]*4\n",
        "total_list = [0]*4\n",
        "a = -1\n",
        "\n",
        "model_list = {'DeepConv' : [DeepConv_net128, DeepConv_net64],\n",
        "              'DeepFC' : [DeepFC_net128, DeepFC_net64]}\n",
        "data_list = [test_loader128, test_loader64]\n",
        "\n",
        "with torch.no_grad(): # grad가 필요없다.\n",
        "\n",
        "    for key in model_list:\n",
        "        for idx in range(len(model_list[key])):\n",
        "            a += 1\n",
        "            model = model_list[key][idx]\n",
        "            data_loader = data_list[idx]\n",
        "            for data in data_loader:\n",
        "                images, labels = data[0].to(device), data[1].to(device)\n",
        "\n",
        "                outputs = model(images)\n",
        "                _, predicted = torch.max(outputs.data, 1)\n",
        "\n",
        "                total_list[a] += labels.size(0)\n",
        "                correct_list[a] += (predicted == labels).sum().item()\n",
        "            \n",
        "correct_rate = np.array(correct_list) / np.array(total_list)\n",
        "model_name = ['DeepConv_net128', 'DeepConv_net64', 'DeepFC_net128', 'DeepFC_net64']\n",
        "\n",
        "for i in range(len(correct_rate)):\n",
        "    print('{0} : {1}'.format(model_name[i], correct_rate[i]))"
      ],
      "metadata": {
        "colab": {
          "base_uri": "https://localhost:8080/"
        },
        "id": "VjVs_iS0rlof",
        "outputId": "bf090154-3f85-479a-e501-d5017e5a4b83"
      },
      "execution_count": 89,
      "outputs": [
        {
          "output_type": "stream",
          "name": "stdout",
          "text": [
            "DeepConv_net128 : 0.1\n",
            "DeepConv_net64 : 0.1\n",
            "DeepFC_net128 : 0.838\n",
            "DeepFC_net64 : 0.8768\n"
          ]
        }
      ]
    },
    {
      "cell_type": "markdown",
      "source": [
        "# FashionMNIST 분류 모델 중 성능이 낮은 모델 이유 확인"
      ],
      "metadata": {
        "id": "SZcZQv4PGeYv"
      }
    },
    {
      "cell_type": "markdown",
      "source": [
        "## Convolution-layer를 하나씩 추가하면서, 성능변화를 관찰"
      ],
      "metadata": {
        "id": "V7HoLqroDhyF"
      }
    },
    {
      "cell_type": "markdown",
      "source": [
        "### 3개의 convolution-layer 사용시"
      ],
      "metadata": {
        "id": "_civVcIYBGxA"
      }
    },
    {
      "cell_type": "code",
      "source": [
        "class CNN_Model3(nn.Module):\n",
        "    def __init__(self):\n",
        "        super(CNN_Model3, self).__init__()\n",
        "\n",
        "        self.conv1 = nn.Conv2d(in_channels=1, out_channels=5, kernel_size=3, stride=1, padding=2)\n",
        "        self.conv2 = nn.Conv2d(5, 7, 3, padding=1)\n",
        "        self.conv3 = nn.Conv2d(7, 16, 2, padding=1)\n",
        "\n",
        "        self.fc1 = nn.Linear(16* 16 * 16, 3000)\n",
        "        self.fc2 = nn.Linear(3000, 1500)\n",
        "        self.fc3 = nn.Linear(1500, 20 * 3 * 3)\n",
        "        self.fc4 = nn.Linear(20 * 3 * 3, 86)\n",
        "        self.fc5 = nn.Linear(86, 10) # 10 : 10개의 category\n",
        "\n",
        "    def forward(self, x):\n",
        "        x = F.relu(self.conv1(x))\n",
        "        x = F.max_pool2d(x, (2,2))\n",
        "        x = F.relu(self.conv2(x))\n",
        "        x = F.relu(self.conv3(x))\n",
        "\n",
        "        x = x.view(-1, self.num_flat_features(x)) # num_flat_features : 아래에서 정의\n",
        "\n",
        "        x = F.relu(self.fc1(x))\n",
        "        x = F.relu(self.fc2(x))\n",
        "        x = F.relu(self.fc3(x))\n",
        "        x = F.relu(self.fc4(x))\n",
        "        x = self.fc5(x)\n",
        "\n",
        "        return x\n",
        "    \n",
        "    def num_flat_features(self, x): # 처음 dim-size을 제외하고, 모두 곱한 값을 반환해준다.\n",
        "        size = x.size()[1:]\n",
        "        num_features = 1\n",
        "        for s in size:\n",
        "            num_features *= s\n",
        "        \n",
        "        return num_features"
      ],
      "metadata": {
        "id": "29zvOdhT-fwY"
      },
      "execution_count": 90,
      "outputs": []
    },
    {
      "cell_type": "code",
      "source": [
        "# 모델객체 생성\n",
        "new_model = CNN_Model3().to(device)\n",
        "\n",
        "print(new_model)"
      ],
      "metadata": {
        "colab": {
          "base_uri": "https://localhost:8080/"
        },
        "outputId": "f6e2c29b-ba5b-4c74-f27a-8c1030b05795",
        "id": "t81gXZmz-fwY"
      },
      "execution_count": 91,
      "outputs": [
        {
          "output_type": "stream",
          "name": "stdout",
          "text": [
            "CNN_Model3(\n",
            "  (conv1): Conv2d(1, 5, kernel_size=(3, 3), stride=(1, 1), padding=(2, 2))\n",
            "  (conv2): Conv2d(5, 7, kernel_size=(3, 3), stride=(1, 1), padding=(1, 1))\n",
            "  (conv3): Conv2d(7, 16, kernel_size=(2, 2), stride=(1, 1), padding=(1, 1))\n",
            "  (fc1): Linear(in_features=4096, out_features=3000, bias=True)\n",
            "  (fc2): Linear(in_features=3000, out_features=1500, bias=True)\n",
            "  (fc3): Linear(in_features=1500, out_features=180, bias=True)\n",
            "  (fc4): Linear(in_features=180, out_features=86, bias=True)\n",
            "  (fc5): Linear(in_features=86, out_features=10, bias=True)\n",
            ")\n"
          ]
        }
      ]
    },
    {
      "cell_type": "code",
      "source": [
        "summary(new_model, input_size=(1, 28, 28), batch_size=128)"
      ],
      "metadata": {
        "colab": {
          "base_uri": "https://localhost:8080/"
        },
        "id": "Bb2EkGUbBnuM",
        "outputId": "d091df2c-6745-4f57-85a9-77d757cba0eb"
      },
      "execution_count": 92,
      "outputs": [
        {
          "output_type": "stream",
          "name": "stdout",
          "text": [
            "----------------------------------------------------------------\n",
            "        Layer (type)               Output Shape         Param #\n",
            "================================================================\n",
            "            Conv2d-1           [128, 5, 30, 30]              50\n",
            "            Conv2d-2           [128, 7, 15, 15]             322\n",
            "            Conv2d-3          [128, 16, 16, 16]             464\n",
            "            Linear-4                [128, 3000]      12,291,000\n",
            "            Linear-5                [128, 1500]       4,501,500\n",
            "            Linear-6                 [128, 180]         270,180\n",
            "            Linear-7                  [128, 86]          15,566\n",
            "            Linear-8                  [128, 10]             870\n",
            "================================================================\n",
            "Total params: 17,079,952\n",
            "Trainable params: 17,079,952\n",
            "Non-trainable params: 0\n",
            "----------------------------------------------------------------\n",
            "Input size (MB): 0.38\n",
            "Forward/backward pass size (MB): 14.60\n",
            "Params size (MB): 65.15\n",
            "Estimated Total Size (MB): 80.13\n",
            "----------------------------------------------------------------\n"
          ]
        }
      ]
    },
    {
      "cell_type": "code",
      "source": [
        "optimizer = optim.SGD(new_model.parameters(), lr=0.001, momentum=0.9)"
      ],
      "metadata": {
        "id": "aQDT4bYIBsZl"
      },
      "execution_count": 93,
      "outputs": []
    },
    {
      "cell_type": "code",
      "source": [
        "for epoch in range(10):\n",
        "\n",
        "    running_loss = 0.0\n",
        "\n",
        "    for i, data in enumerate(train_loader128, start=0):\n",
        "        inputs, labels = data[0].to(device), data[1].to(device)\n",
        "\n",
        "        optimizer.zero_grad() # epoch마다 gradient 0으로 초기화\n",
        "\n",
        "        outputs = new_model(inputs) # y_pred = f(X)\n",
        "        loss = criterion(outputs, labels) # CrossEntropyLoss; 0~1 사이값\n",
        "        loss.backward() # back-propagation; gradient 계산\n",
        "        optimizer.step() # parameters(weights) update\n",
        "\n",
        "        running_loss += loss.item() # 그냥 전체적인 비교를 위해 누적함\n",
        "\n",
        "        if i % 100 == 99: # 100번 마다 확인; epoch=10, iter(=i)=469, batch=128\n",
        "            print('Epoch: {}, Iter: {}, Loss: {}'.format(epoch+1, i+1, running_loss/2000))\n",
        "            running_loss = 0.0"
      ],
      "metadata": {
        "colab": {
          "base_uri": "https://localhost:8080/"
        },
        "id": "D6GqkR8nBwhH",
        "outputId": "429b485c-0713-4ae4-8021-9744fd4efb6c"
      },
      "execution_count": 94,
      "outputs": [
        {
          "output_type": "stream",
          "name": "stdout",
          "text": [
            "Epoch: 1, Iter: 100, Loss: 0.11518246114253998\n",
            "Epoch: 1, Iter: 200, Loss: 0.115173433303833\n",
            "Epoch: 1, Iter: 300, Loss: 0.11516578924655914\n",
            "Epoch: 1, Iter: 400, Loss: 0.11512358295917512\n",
            "Epoch: 2, Iter: 100, Loss: 0.11510171282291412\n",
            "Epoch: 2, Iter: 200, Loss: 0.11509631907939911\n",
            "Epoch: 2, Iter: 300, Loss: 0.11505861151218415\n",
            "Epoch: 2, Iter: 400, Loss: 0.11505602359771729\n",
            "Epoch: 3, Iter: 100, Loss: 0.11501206171512604\n",
            "Epoch: 3, Iter: 200, Loss: 0.11499800896644592\n",
            "Epoch: 3, Iter: 300, Loss: 0.11498141145706177\n",
            "Epoch: 3, Iter: 400, Loss: 0.11492798244953155\n",
            "Epoch: 4, Iter: 100, Loss: 0.11484132814407348\n",
            "Epoch: 4, Iter: 200, Loss: 0.11477490723133087\n",
            "Epoch: 4, Iter: 300, Loss: 0.11470136439800263\n",
            "Epoch: 4, Iter: 400, Loss: 0.11457792985439301\n",
            "Epoch: 5, Iter: 100, Loss: 0.11421372807025909\n",
            "Epoch: 5, Iter: 200, Loss: 0.11381855583190918\n",
            "Epoch: 5, Iter: 300, Loss: 0.11319038021564484\n",
            "Epoch: 5, Iter: 400, Loss: 0.11177393746376038\n",
            "Epoch: 6, Iter: 100, Loss: 0.09435160607099533\n",
            "Epoch: 6, Iter: 200, Loss: 0.06662272018194199\n",
            "Epoch: 6, Iter: 300, Loss: 0.04736008170247078\n",
            "Epoch: 6, Iter: 400, Loss: 0.04055240797996521\n",
            "Epoch: 7, Iter: 100, Loss: 0.0351802376806736\n",
            "Epoch: 7, Iter: 200, Loss: 0.033756689310073855\n",
            "Epoch: 7, Iter: 300, Loss: 0.03253848049044609\n",
            "Epoch: 7, Iter: 400, Loss: 0.031059127420186995\n",
            "Epoch: 8, Iter: 100, Loss: 0.030505155444145202\n",
            "Epoch: 8, Iter: 200, Loss: 0.02953870739042759\n",
            "Epoch: 8, Iter: 300, Loss: 0.029192122608423233\n",
            "Epoch: 8, Iter: 400, Loss: 0.02911010740697384\n",
            "Epoch: 9, Iter: 100, Loss: 0.027673970758914947\n",
            "Epoch: 9, Iter: 200, Loss: 0.027298217982053757\n",
            "Epoch: 9, Iter: 300, Loss: 0.027747819915413856\n",
            "Epoch: 9, Iter: 400, Loss: 0.027321260526776314\n",
            "Epoch: 10, Iter: 100, Loss: 0.026244794726371767\n",
            "Epoch: 10, Iter: 200, Loss: 0.025950274750590325\n",
            "Epoch: 10, Iter: 300, Loss: 0.026542438447475433\n",
            "Epoch: 10, Iter: 400, Loss: 0.025673664942383767\n"
          ]
        }
      ]
    },
    {
      "cell_type": "code",
      "source": [
        "correct = 0\n",
        "total = 0\n",
        "\n",
        "with torch.no_grad():\n",
        "    for data in test_loader128:\n",
        "        images, labels = data[0].to(device), data[1].to(device)\n",
        "        outputs = new_model(images)\n",
        "        _, predicted = torch.max(outputs.data, axis=1)\n",
        "        total += labels.size(0)\n",
        "        correct += (predicted == labels).sum().item()\n",
        "    \n",
        "    print(100 * correct / total)"
      ],
      "metadata": {
        "colab": {
          "base_uri": "https://localhost:8080/"
        },
        "id": "1PDu2v9bB_NE",
        "outputId": "4e7e0762-8c92-444c-e590-f1f1c906d9d7"
      },
      "execution_count": 95,
      "outputs": [
        {
          "output_type": "stream",
          "name": "stdout",
          "text": [
            "80.89\n"
          ]
        }
      ]
    },
    {
      "cell_type": "markdown",
      "source": [
        "### 4개의 convolution-layer 사용시"
      ],
      "metadata": {
        "id": "7Thu9NRyCV7j"
      }
    },
    {
      "cell_type": "code",
      "source": [
        "class CNN_Model4(nn.Module):\n",
        "    def __init__(self):\n",
        "        super(CNN_Model4, self).__init__()\n",
        "\n",
        "        self.conv1 = nn.Conv2d(in_channels=1, out_channels=5, kernel_size=3, stride=1, padding=2)\n",
        "        self.conv2 = nn.Conv2d(5, 7, 3, padding=1)\n",
        "        self.conv3 = nn.Conv2d(7, 16, 2, padding=1)\n",
        "        self.conv4 = nn.Conv2d(16, 19, 2)\n",
        "\n",
        "        self.fc1 = nn.Linear(15* 15 * 19, 3000)\n",
        "        self.fc2 = nn.Linear(3000, 1500)\n",
        "        self.fc3 = nn.Linear(1500, 20 * 3 * 3)\n",
        "        self.fc4 = nn.Linear(20 * 3 * 3, 86)\n",
        "        self.fc5 = nn.Linear(86, 10) # 10 : 10개의 category\n",
        "\n",
        "    def forward(self, x):\n",
        "        x = F.relu(self.conv1(x))\n",
        "        x = F.max_pool2d(x, (2,2))\n",
        "        x = F.relu(self.conv2(x))\n",
        "        x = F.relu(self.conv3(x))\n",
        "        x = F.relu(self.conv4(x))\n",
        "\n",
        "        x = x.view(-1, self.num_flat_features(x)) # num_flat_features : 아래에서 정의\n",
        "\n",
        "        x = F.relu(self.fc1(x))\n",
        "        x = F.relu(self.fc2(x))\n",
        "        x = F.relu(self.fc3(x))\n",
        "        x = F.relu(self.fc4(x))\n",
        "        x = self.fc5(x)\n",
        "\n",
        "        return x\n",
        "    \n",
        "    def num_flat_features(self, x): # 처음 dim-size을 제외하고, 모두 곱한 값을 반환해준다.\n",
        "        size = x.size()[1:]\n",
        "        num_features = 1\n",
        "        for s in size:\n",
        "            num_features *= s\n",
        "        \n",
        "        return num_features"
      ],
      "metadata": {
        "id": "V9PQvGFPCV7k"
      },
      "execution_count": 96,
      "outputs": []
    },
    {
      "cell_type": "code",
      "source": [
        "# 모델객체 생성\n",
        "new_model = CNN_Model4().to(device)\n",
        "\n",
        "print(new_model)"
      ],
      "metadata": {
        "colab": {
          "base_uri": "https://localhost:8080/"
        },
        "outputId": "f9dbf074-5cae-4dcc-cd46-a5d38b941351",
        "id": "HNAL7SRZCV7k"
      },
      "execution_count": 97,
      "outputs": [
        {
          "output_type": "stream",
          "name": "stdout",
          "text": [
            "CNN_Model4(\n",
            "  (conv1): Conv2d(1, 5, kernel_size=(3, 3), stride=(1, 1), padding=(2, 2))\n",
            "  (conv2): Conv2d(5, 7, kernel_size=(3, 3), stride=(1, 1), padding=(1, 1))\n",
            "  (conv3): Conv2d(7, 16, kernel_size=(2, 2), stride=(1, 1), padding=(1, 1))\n",
            "  (conv4): Conv2d(16, 19, kernel_size=(2, 2), stride=(1, 1))\n",
            "  (fc1): Linear(in_features=4275, out_features=3000, bias=True)\n",
            "  (fc2): Linear(in_features=3000, out_features=1500, bias=True)\n",
            "  (fc3): Linear(in_features=1500, out_features=180, bias=True)\n",
            "  (fc4): Linear(in_features=180, out_features=86, bias=True)\n",
            "  (fc5): Linear(in_features=86, out_features=10, bias=True)\n",
            ")\n"
          ]
        }
      ]
    },
    {
      "cell_type": "code",
      "source": [
        "summary(new_model, input_size=(1, 28, 28), batch_size=128)"
      ],
      "metadata": {
        "colab": {
          "base_uri": "https://localhost:8080/"
        },
        "outputId": "41bd7443-2bfb-4291-da04-246ab45e05a5",
        "id": "fHmIarJBCV7k"
      },
      "execution_count": 98,
      "outputs": [
        {
          "output_type": "stream",
          "name": "stdout",
          "text": [
            "----------------------------------------------------------------\n",
            "        Layer (type)               Output Shape         Param #\n",
            "================================================================\n",
            "            Conv2d-1           [128, 5, 30, 30]              50\n",
            "            Conv2d-2           [128, 7, 15, 15]             322\n",
            "            Conv2d-3          [128, 16, 16, 16]             464\n",
            "            Conv2d-4          [128, 19, 15, 15]           1,235\n",
            "            Linear-5                [128, 3000]      12,828,000\n",
            "            Linear-6                [128, 1500]       4,501,500\n",
            "            Linear-7                 [128, 180]         270,180\n",
            "            Linear-8                  [128, 86]          15,566\n",
            "            Linear-9                  [128, 10]             870\n",
            "================================================================\n",
            "Total params: 17,618,187\n",
            "Trainable params: 17,618,187\n",
            "Non-trainable params: 0\n",
            "----------------------------------------------------------------\n",
            "Input size (MB): 0.38\n",
            "Forward/backward pass size (MB): 18.77\n",
            "Params size (MB): 67.21\n",
            "Estimated Total Size (MB): 86.36\n",
            "----------------------------------------------------------------\n"
          ]
        }
      ]
    },
    {
      "cell_type": "code",
      "source": [
        "optimizer = optim.SGD(new_model.parameters(), lr=0.001, momentum=0.9)"
      ],
      "metadata": {
        "id": "z6gegPTRCV7k"
      },
      "execution_count": 99,
      "outputs": []
    },
    {
      "cell_type": "code",
      "source": [
        "for epoch in range(10):\n",
        "\n",
        "    running_loss = 0.0\n",
        "\n",
        "    for i, data in enumerate(train_loader128, start=0):\n",
        "        inputs, labels = data[0].to(device), data[1].to(device)\n",
        "\n",
        "        optimizer.zero_grad() # epoch마다 gradient 0으로 초기화\n",
        "\n",
        "        outputs = new_model(inputs) # y_pred = f(X)\n",
        "        loss = criterion(outputs, labels) # CrossEntropyLoss; 0~1 사이값\n",
        "        loss.backward() # back-propagation; gradient 계산\n",
        "        optimizer.step() # parameters(weights) update\n",
        "\n",
        "        running_loss += loss.item() # 그냥 전체적인 비교를 위해 누적함\n",
        "\n",
        "        if i % 100 == 99: # 100번 마다 확인; epoch=10, iter(=i)=469, batch=128\n",
        "            print('Epoch: {}, Iter: {}, Loss: {}'.format(epoch+1, i+1, running_loss/2000))\n",
        "            running_loss = 0.0"
      ],
      "metadata": {
        "colab": {
          "base_uri": "https://localhost:8080/"
        },
        "outputId": "0e8b64c2-9ee3-4eb4-ac86-147f11c051a4",
        "id": "oeeKVQdKCV7k"
      },
      "execution_count": 100,
      "outputs": [
        {
          "output_type": "stream",
          "name": "stdout",
          "text": [
            "Epoch: 1, Iter: 100, Loss: 0.11527042496204376\n",
            "Epoch: 1, Iter: 200, Loss: 0.1152372568845749\n",
            "Epoch: 1, Iter: 300, Loss: 0.11517693614959716\n",
            "Epoch: 1, Iter: 400, Loss: 0.11517900371551514\n",
            "Epoch: 2, Iter: 100, Loss: 0.11516215789318085\n",
            "Epoch: 2, Iter: 200, Loss: 0.11515277254581452\n",
            "Epoch: 2, Iter: 300, Loss: 0.11515065312385558\n",
            "Epoch: 2, Iter: 400, Loss: 0.1151393632888794\n",
            "Epoch: 3, Iter: 100, Loss: 0.11513216328620911\n",
            "Epoch: 3, Iter: 200, Loss: 0.11513841044902802\n",
            "Epoch: 3, Iter: 300, Loss: 0.11513434302806855\n",
            "Epoch: 3, Iter: 400, Loss: 0.11512234652042388\n",
            "Epoch: 4, Iter: 100, Loss: 0.11512771236896514\n",
            "Epoch: 4, Iter: 200, Loss: 0.11512494659423828\n",
            "Epoch: 4, Iter: 300, Loss: 0.11512079536914825\n",
            "Epoch: 4, Iter: 400, Loss: 0.11512497353553772\n",
            "Epoch: 5, Iter: 100, Loss: 0.11512319827079773\n",
            "Epoch: 5, Iter: 200, Loss: 0.11511914563179017\n",
            "Epoch: 5, Iter: 300, Loss: 0.11511730778217316\n",
            "Epoch: 5, Iter: 400, Loss: 0.11511604273319244\n",
            "Epoch: 6, Iter: 100, Loss: 0.11511680638790131\n",
            "Epoch: 6, Iter: 200, Loss: 0.11511418926715851\n",
            "Epoch: 6, Iter: 300, Loss: 0.11511760532855987\n",
            "Epoch: 6, Iter: 400, Loss: 0.11511343777179718\n",
            "Epoch: 7, Iter: 100, Loss: 0.11511276650428771\n",
            "Epoch: 7, Iter: 200, Loss: 0.11510956227779388\n",
            "Epoch: 7, Iter: 300, Loss: 0.11511014115810395\n",
            "Epoch: 7, Iter: 400, Loss: 0.11511166644096374\n",
            "Epoch: 8, Iter: 100, Loss: 0.11510565912723542\n",
            "Epoch: 8, Iter: 200, Loss: 0.115105299949646\n",
            "Epoch: 8, Iter: 300, Loss: 0.11510321736335755\n",
            "Epoch: 8, Iter: 400, Loss: 0.11510737681388855\n",
            "Epoch: 9, Iter: 100, Loss: 0.11509847819805145\n",
            "Epoch: 9, Iter: 200, Loss: 0.11509821712970733\n",
            "Epoch: 9, Iter: 300, Loss: 0.1150969134569168\n",
            "Epoch: 9, Iter: 400, Loss: 0.11509457087516785\n",
            "Epoch: 10, Iter: 100, Loss: 0.1150882329940796\n",
            "Epoch: 10, Iter: 200, Loss: 0.1150864440202713\n",
            "Epoch: 10, Iter: 300, Loss: 0.11508250558376312\n",
            "Epoch: 10, Iter: 400, Loss: 0.11507991874217988\n"
          ]
        }
      ]
    },
    {
      "cell_type": "code",
      "source": [
        "correct = 0\n",
        "total = 0\n",
        "\n",
        "with torch.no_grad():\n",
        "    for data in test_loader128:\n",
        "        images, labels = data[0].to(device), data[1].to(device)\n",
        "        outputs = new_model(images)\n",
        "        _, predicted = torch.max(outputs.data, axis=1)\n",
        "        total += labels.size(0)\n",
        "        correct += (predicted == labels).sum().item()\n",
        "    \n",
        "    print(100 * correct / total)"
      ],
      "metadata": {
        "colab": {
          "base_uri": "https://localhost:8080/"
        },
        "id": "w3uuDeS_CV7k",
        "outputId": "a34cbb62-5998-4691-871e-ae856403e4d3"
      },
      "execution_count": 101,
      "outputs": [
        {
          "output_type": "stream",
          "name": "stdout",
          "text": [
            "14.28\n"
          ]
        }
      ]
    },
    {
      "cell_type": "markdown",
      "source": [
        "### 5개의 convolution-layer 사용시"
      ],
      "metadata": {
        "id": "kuP_3_DyD42p"
      }
    },
    {
      "cell_type": "code",
      "source": [
        "class CNN_Model5(nn.Module):\n",
        "    def __init__(self):\n",
        "        super(CNN_Model5, self).__init__()\n",
        "\n",
        "        self.conv1 = nn.Conv2d(in_channels=1, out_channels=5, kernel_size=3, stride=1, padding=2)\n",
        "        self.conv2 = nn.Conv2d(5, 7, 3, padding=1)      \n",
        "        self.conv3 = nn.Conv2d(7, 16, 2, padding=1)\n",
        "        self.conv4 = nn.Conv2d(16, 19, 2)\n",
        "        self.conv5 = nn.Conv2d(19, 29, 3)\n",
        "\n",
        "        self.fc1 = nn.Linear(29 * 13 * 13, 100)\n",
        "        self.fc2 = nn.Linear(100, 50)\n",
        "        self.fc3 = nn.Linear(50, 25)\n",
        "        self.fc4 = nn.Linear(25, 10) # 10 : 10개의 category\n",
        "\n",
        "    def forward(self, x):\n",
        "        x = F.relu(self.conv1(x))\n",
        "        x = F.max_pool2d(x, (2,2))\n",
        "        x = F.relu(self.conv2(x))\n",
        "        x = F.relu(self.conv3(x))\n",
        "        x = F.relu(self.conv4(x))\n",
        "        x = F.relu(self.conv5(x))\n",
        "\n",
        "        x = x.view(-1, self.num_flat_features(x)) # num_flat_features : 아래에서 정의\n",
        "\n",
        "        x = F.relu(self.fc1(x))\n",
        "        x = F.relu(self.fc2(x))\n",
        "        x = F.relu(self.fc3(x))\n",
        "        x = self.fc4(x)\n",
        "\n",
        "        return x\n",
        "    \n",
        "    def num_flat_features(self, x): # 처음 dim-size을 제외하고, 모두 곱한 값을 반환해준다.\n",
        "        size = x.size()[1:]\n",
        "        num_features = 1\n",
        "        for s in size:\n",
        "            num_features *= s\n",
        "        \n",
        "        return num_features"
      ],
      "metadata": {
        "id": "Bk1u7iloD42q"
      },
      "execution_count": 102,
      "outputs": []
    },
    {
      "cell_type": "code",
      "source": [
        "# 모델객체 생성\n",
        "new_model = CNN_Model5().to(device)\n",
        "\n",
        "print(new_model)"
      ],
      "metadata": {
        "colab": {
          "base_uri": "https://localhost:8080/"
        },
        "outputId": "7fe19c30-a231-4887-af7e-78847457ecb5",
        "id": "GPoNB-4vD42q"
      },
      "execution_count": 103,
      "outputs": [
        {
          "output_type": "stream",
          "name": "stdout",
          "text": [
            "CNN_Model5(\n",
            "  (conv1): Conv2d(1, 5, kernel_size=(3, 3), stride=(1, 1), padding=(2, 2))\n",
            "  (conv2): Conv2d(5, 7, kernel_size=(3, 3), stride=(1, 1), padding=(1, 1))\n",
            "  (conv3): Conv2d(7, 16, kernel_size=(2, 2), stride=(1, 1), padding=(1, 1))\n",
            "  (conv4): Conv2d(16, 19, kernel_size=(2, 2), stride=(1, 1))\n",
            "  (conv5): Conv2d(19, 29, kernel_size=(3, 3), stride=(1, 1))\n",
            "  (fc1): Linear(in_features=4901, out_features=100, bias=True)\n",
            "  (fc2): Linear(in_features=100, out_features=50, bias=True)\n",
            "  (fc3): Linear(in_features=50, out_features=25, bias=True)\n",
            "  (fc4): Linear(in_features=25, out_features=10, bias=True)\n",
            ")\n"
          ]
        }
      ]
    },
    {
      "cell_type": "code",
      "source": [
        "summary(new_model, input_size=(1, 28, 28), batch_size=128)"
      ],
      "metadata": {
        "colab": {
          "base_uri": "https://localhost:8080/"
        },
        "outputId": "71509d91-c874-464b-ed3f-864cb4f9d8e3",
        "id": "aDvnyPw6D42q"
      },
      "execution_count": 104,
      "outputs": [
        {
          "output_type": "stream",
          "name": "stdout",
          "text": [
            "----------------------------------------------------------------\n",
            "        Layer (type)               Output Shape         Param #\n",
            "================================================================\n",
            "            Conv2d-1           [128, 5, 30, 30]              50\n",
            "            Conv2d-2           [128, 7, 15, 15]             322\n",
            "            Conv2d-3          [128, 16, 16, 16]             464\n",
            "            Conv2d-4          [128, 19, 15, 15]           1,235\n",
            "            Conv2d-5          [128, 29, 13, 13]           4,988\n",
            "            Linear-6                 [128, 100]         490,200\n",
            "            Linear-7                  [128, 50]           5,050\n",
            "            Linear-8                  [128, 25]           1,275\n",
            "            Linear-9                  [128, 10]             260\n",
            "================================================================\n",
            "Total params: 503,844\n",
            "Trainable params: 503,844\n",
            "Non-trainable params: 0\n",
            "----------------------------------------------------------------\n",
            "Input size (MB): 0.38\n",
            "Forward/backward pass size (MB): 19.07\n",
            "Params size (MB): 1.92\n",
            "Estimated Total Size (MB): 21.38\n",
            "----------------------------------------------------------------\n"
          ]
        }
      ]
    },
    {
      "cell_type": "code",
      "source": [
        "optimizer = optim.SGD(new_model.parameters(), lr=0.001, momentum=0.9)"
      ],
      "metadata": {
        "id": "QmOiVQDLD42q"
      },
      "execution_count": 105,
      "outputs": []
    },
    {
      "cell_type": "code",
      "source": [
        "for epoch in range(10):\n",
        "\n",
        "    running_loss = 0.0\n",
        "\n",
        "    for i, data in enumerate(train_loader128, start=0):\n",
        "        inputs, labels = data[0].to(device), data[1].to(device)\n",
        "\n",
        "        optimizer.zero_grad() # epoch마다 gradient 0으로 초기화\n",
        "\n",
        "        outputs = new_model(inputs) # y_pred = f(X)\n",
        "        loss = criterion(outputs, labels) # CrossEntropyLoss; 0~1 사이값\n",
        "        loss.backward() # back-propagation; gradient 계산\n",
        "        optimizer.step() # parameters(weights) update\n",
        "\n",
        "        running_loss += loss.item() # 그냥 전체적인 비교를 위해 누적함\n",
        "\n",
        "        if i % 100 == 99: # 100번 마다 확인; epoch=10, iter(=i)=469, batch=128\n",
        "            print('Epoch: {}, Iter: {}, Loss: {}'.format(epoch+1, i+1, running_loss/2000))\n",
        "            running_loss = 0.0"
      ],
      "metadata": {
        "colab": {
          "base_uri": "https://localhost:8080/"
        },
        "outputId": "51d96e63-13f8-48e6-b6c8-650283f91f2b",
        "id": "eS9fQfeED42q"
      },
      "execution_count": 106,
      "outputs": [
        {
          "output_type": "stream",
          "name": "stdout",
          "text": [
            "Epoch: 1, Iter: 100, Loss: 0.11532772076129913\n",
            "Epoch: 1, Iter: 200, Loss: 0.11530674827098847\n",
            "Epoch: 1, Iter: 300, Loss: 0.1152087219953537\n",
            "Epoch: 1, Iter: 400, Loss: 0.11517982697486877\n",
            "Epoch: 2, Iter: 100, Loss: 0.11514698731899262\n",
            "Epoch: 2, Iter: 200, Loss: 0.11513621437549591\n",
            "Epoch: 2, Iter: 300, Loss: 0.11516756439208985\n",
            "Epoch: 2, Iter: 400, Loss: 0.11515974605083465\n",
            "Epoch: 3, Iter: 100, Loss: 0.11513344478607178\n",
            "Epoch: 3, Iter: 200, Loss: 0.11513655412197113\n",
            "Epoch: 3, Iter: 300, Loss: 0.11511489796638488\n",
            "Epoch: 3, Iter: 400, Loss: 0.11512536203861237\n",
            "Epoch: 4, Iter: 100, Loss: 0.11512005460262299\n",
            "Epoch: 4, Iter: 200, Loss: 0.11511792469024658\n",
            "Epoch: 4, Iter: 300, Loss: 0.11511747765541076\n",
            "Epoch: 4, Iter: 400, Loss: 0.11511468398571015\n",
            "Epoch: 5, Iter: 100, Loss: 0.11511329877376557\n",
            "Epoch: 5, Iter: 200, Loss: 0.11510835003852844\n",
            "Epoch: 5, Iter: 300, Loss: 0.11510865759849548\n",
            "Epoch: 5, Iter: 400, Loss: 0.11510638046264648\n",
            "Epoch: 6, Iter: 100, Loss: 0.11509938704967498\n",
            "Epoch: 6, Iter: 200, Loss: 0.11509854781627656\n",
            "Epoch: 6, Iter: 300, Loss: 0.11509102618694306\n",
            "Epoch: 6, Iter: 400, Loss: 0.11509042418003082\n",
            "Epoch: 7, Iter: 100, Loss: 0.11507904088497162\n",
            "Epoch: 7, Iter: 200, Loss: 0.11507126426696777\n",
            "Epoch: 7, Iter: 300, Loss: 0.11506349229812622\n",
            "Epoch: 7, Iter: 400, Loss: 0.11505727541446686\n",
            "Epoch: 8, Iter: 100, Loss: 0.11503171503543853\n",
            "Epoch: 8, Iter: 200, Loss: 0.1150085152387619\n",
            "Epoch: 8, Iter: 300, Loss: 0.11499309778213501\n",
            "Epoch: 8, Iter: 400, Loss: 0.11496081244945526\n",
            "Epoch: 9, Iter: 100, Loss: 0.11487950575351714\n",
            "Epoch: 9, Iter: 200, Loss: 0.11480067384243012\n",
            "Epoch: 9, Iter: 300, Loss: 0.11469447207450867\n",
            "Epoch: 9, Iter: 400, Loss: 0.11452248883247375\n",
            "Epoch: 10, Iter: 100, Loss: 0.11397718071937561\n",
            "Epoch: 10, Iter: 200, Loss: 0.1132982759475708\n",
            "Epoch: 10, Iter: 300, Loss: 0.11181031835079193\n",
            "Epoch: 10, Iter: 400, Loss: 0.10531208837032319\n"
          ]
        }
      ]
    },
    {
      "cell_type": "code",
      "source": [
        "correct = 0\n",
        "total = 0\n",
        "\n",
        "with torch.no_grad():\n",
        "    for data in test_loader128:\n",
        "        images, labels = data[0].to(device), data[1].to(device)\n",
        "        outputs = new_model(images)\n",
        "        _, predicted = torch.max(outputs.data, axis=1)\n",
        "        total += labels.size(0)\n",
        "        correct += (predicted == labels).sum().item()\n",
        "    \n",
        "    print(100 * correct / total)"
      ],
      "metadata": {
        "colab": {
          "base_uri": "https://localhost:8080/"
        },
        "outputId": "2659d852-cd3c-4f01-a8d6-2d490c67bcc6",
        "id": "X0H3p7PGD42q"
      },
      "execution_count": 107,
      "outputs": [
        {
          "output_type": "stream",
          "name": "stdout",
          "text": [
            "46.46\n"
          ]
        }
      ]
    },
    {
      "cell_type": "markdown",
      "source": [
        "3개의 convoluntional layer를 사용했을 때 가장 성능이 좋았다. <br>"
      ],
      "metadata": {
        "id": "4_Ru2aEo2oqB"
      }
    }
  ]
}