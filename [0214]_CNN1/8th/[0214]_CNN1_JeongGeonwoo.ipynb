{
  "nbformat": 4,
  "nbformat_minor": 0,
  "metadata": {
    "colab": {
      "provenance": [],
      "collapsed_sections": [
        "cdNvme8aKSBP",
        "OHckdZ55KeH2",
        "mCrBa-gRRMEO",
        "EFPYE3UUnpmX",
        "xVxKI_rwCvhI",
        "klpXGc2tCimP",
        "huNh3EnhJLyh",
        "W-2Q7c6-JW9z",
        "FOUBE2UfKS6D",
        "LaVvtEOvKUgJ",
        "jRyyw49jKVhj",
        "5IecfHZiI09W",
        "SZcZQv4PGeYv",
        "V7HoLqroDhyF",
        "_civVcIYBGxA",
        "7Thu9NRyCV7j",
        "kuP_3_DyD42p"
      ],
      "toc_visible": true
    },
    "kernelspec": {
      "name": "python3",
      "display_name": "Python 3"
    },
    "accelerator": "GPU",
    "gpuClass": "standard",
    "widgets": {
      "application/vnd.jupyter.widget-state+json": {
        "e480739b96e7431ebe38134430dc2090": {
          "model_module": "@jupyter-widgets/controls",
          "model_name": "HBoxModel",
          "model_module_version": "1.5.0",
          "state": {
            "_dom_classes": [],
            "_model_module": "@jupyter-widgets/controls",
            "_model_module_version": "1.5.0",
            "_model_name": "HBoxModel",
            "_view_count": null,
            "_view_module": "@jupyter-widgets/controls",
            "_view_module_version": "1.5.0",
            "_view_name": "HBoxView",
            "box_style": "",
            "children": [
              "IPY_MODEL_b3a4e5d61b85425aaae37220b804102f",
              "IPY_MODEL_804aa9a2876641ada34948a665a6a00d",
              "IPY_MODEL_07e20b243cce44b0865ebd5cfd20cf3d"
            ],
            "layout": "IPY_MODEL_71b86821424249dd82862efbffbbbb77"
          }
        },
        "b3a4e5d61b85425aaae37220b804102f": {
          "model_module": "@jupyter-widgets/controls",
          "model_name": "HTMLModel",
          "model_module_version": "1.5.0",
          "state": {
            "_dom_classes": [],
            "_model_module": "@jupyter-widgets/controls",
            "_model_module_version": "1.5.0",
            "_model_name": "HTMLModel",
            "_view_count": null,
            "_view_module": "@jupyter-widgets/controls",
            "_view_module_version": "1.5.0",
            "_view_name": "HTMLView",
            "description": "",
            "description_tooltip": null,
            "layout": "IPY_MODEL_c4950a41f8bd4f65898cd0705c9f2268",
            "placeholder": "​",
            "style": "IPY_MODEL_eb759b90bafb448ca88c072a04651f83",
            "value": "100%"
          }
        },
        "804aa9a2876641ada34948a665a6a00d": {
          "model_module": "@jupyter-widgets/controls",
          "model_name": "FloatProgressModel",
          "model_module_version": "1.5.0",
          "state": {
            "_dom_classes": [],
            "_model_module": "@jupyter-widgets/controls",
            "_model_module_version": "1.5.0",
            "_model_name": "FloatProgressModel",
            "_view_count": null,
            "_view_module": "@jupyter-widgets/controls",
            "_view_module_version": "1.5.0",
            "_view_name": "ProgressView",
            "bar_style": "success",
            "description": "",
            "description_tooltip": null,
            "layout": "IPY_MODEL_3dae13c3c2ba4009a4451d706506850c",
            "max": 26421880,
            "min": 0,
            "orientation": "horizontal",
            "style": "IPY_MODEL_828845cc836d40fd9d085f0d166df821",
            "value": 26421880
          }
        },
        "07e20b243cce44b0865ebd5cfd20cf3d": {
          "model_module": "@jupyter-widgets/controls",
          "model_name": "HTMLModel",
          "model_module_version": "1.5.0",
          "state": {
            "_dom_classes": [],
            "_model_module": "@jupyter-widgets/controls",
            "_model_module_version": "1.5.0",
            "_model_name": "HTMLModel",
            "_view_count": null,
            "_view_module": "@jupyter-widgets/controls",
            "_view_module_version": "1.5.0",
            "_view_name": "HTMLView",
            "description": "",
            "description_tooltip": null,
            "layout": "IPY_MODEL_5cff102fde744462aed96017d57562f6",
            "placeholder": "​",
            "style": "IPY_MODEL_8d66106c637840d5b358fabde4d54524",
            "value": " 26421880/26421880 [00:02&lt;00:00, 19541456.42it/s]"
          }
        },
        "71b86821424249dd82862efbffbbbb77": {
          "model_module": "@jupyter-widgets/base",
          "model_name": "LayoutModel",
          "model_module_version": "1.2.0",
          "state": {
            "_model_module": "@jupyter-widgets/base",
            "_model_module_version": "1.2.0",
            "_model_name": "LayoutModel",
            "_view_count": null,
            "_view_module": "@jupyter-widgets/base",
            "_view_module_version": "1.2.0",
            "_view_name": "LayoutView",
            "align_content": null,
            "align_items": null,
            "align_self": null,
            "border": null,
            "bottom": null,
            "display": null,
            "flex": null,
            "flex_flow": null,
            "grid_area": null,
            "grid_auto_columns": null,
            "grid_auto_flow": null,
            "grid_auto_rows": null,
            "grid_column": null,
            "grid_gap": null,
            "grid_row": null,
            "grid_template_areas": null,
            "grid_template_columns": null,
            "grid_template_rows": null,
            "height": null,
            "justify_content": null,
            "justify_items": null,
            "left": null,
            "margin": null,
            "max_height": null,
            "max_width": null,
            "min_height": null,
            "min_width": null,
            "object_fit": null,
            "object_position": null,
            "order": null,
            "overflow": null,
            "overflow_x": null,
            "overflow_y": null,
            "padding": null,
            "right": null,
            "top": null,
            "visibility": null,
            "width": null
          }
        },
        "c4950a41f8bd4f65898cd0705c9f2268": {
          "model_module": "@jupyter-widgets/base",
          "model_name": "LayoutModel",
          "model_module_version": "1.2.0",
          "state": {
            "_model_module": "@jupyter-widgets/base",
            "_model_module_version": "1.2.0",
            "_model_name": "LayoutModel",
            "_view_count": null,
            "_view_module": "@jupyter-widgets/base",
            "_view_module_version": "1.2.0",
            "_view_name": "LayoutView",
            "align_content": null,
            "align_items": null,
            "align_self": null,
            "border": null,
            "bottom": null,
            "display": null,
            "flex": null,
            "flex_flow": null,
            "grid_area": null,
            "grid_auto_columns": null,
            "grid_auto_flow": null,
            "grid_auto_rows": null,
            "grid_column": null,
            "grid_gap": null,
            "grid_row": null,
            "grid_template_areas": null,
            "grid_template_columns": null,
            "grid_template_rows": null,
            "height": null,
            "justify_content": null,
            "justify_items": null,
            "left": null,
            "margin": null,
            "max_height": null,
            "max_width": null,
            "min_height": null,
            "min_width": null,
            "object_fit": null,
            "object_position": null,
            "order": null,
            "overflow": null,
            "overflow_x": null,
            "overflow_y": null,
            "padding": null,
            "right": null,
            "top": null,
            "visibility": null,
            "width": null
          }
        },
        "eb759b90bafb448ca88c072a04651f83": {
          "model_module": "@jupyter-widgets/controls",
          "model_name": "DescriptionStyleModel",
          "model_module_version": "1.5.0",
          "state": {
            "_model_module": "@jupyter-widgets/controls",
            "_model_module_version": "1.5.0",
            "_model_name": "DescriptionStyleModel",
            "_view_count": null,
            "_view_module": "@jupyter-widgets/base",
            "_view_module_version": "1.2.0",
            "_view_name": "StyleView",
            "description_width": ""
          }
        },
        "3dae13c3c2ba4009a4451d706506850c": {
          "model_module": "@jupyter-widgets/base",
          "model_name": "LayoutModel",
          "model_module_version": "1.2.0",
          "state": {
            "_model_module": "@jupyter-widgets/base",
            "_model_module_version": "1.2.0",
            "_model_name": "LayoutModel",
            "_view_count": null,
            "_view_module": "@jupyter-widgets/base",
            "_view_module_version": "1.2.0",
            "_view_name": "LayoutView",
            "align_content": null,
            "align_items": null,
            "align_self": null,
            "border": null,
            "bottom": null,
            "display": null,
            "flex": null,
            "flex_flow": null,
            "grid_area": null,
            "grid_auto_columns": null,
            "grid_auto_flow": null,
            "grid_auto_rows": null,
            "grid_column": null,
            "grid_gap": null,
            "grid_row": null,
            "grid_template_areas": null,
            "grid_template_columns": null,
            "grid_template_rows": null,
            "height": null,
            "justify_content": null,
            "justify_items": null,
            "left": null,
            "margin": null,
            "max_height": null,
            "max_width": null,
            "min_height": null,
            "min_width": null,
            "object_fit": null,
            "object_position": null,
            "order": null,
            "overflow": null,
            "overflow_x": null,
            "overflow_y": null,
            "padding": null,
            "right": null,
            "top": null,
            "visibility": null,
            "width": null
          }
        },
        "828845cc836d40fd9d085f0d166df821": {
          "model_module": "@jupyter-widgets/controls",
          "model_name": "ProgressStyleModel",
          "model_module_version": "1.5.0",
          "state": {
            "_model_module": "@jupyter-widgets/controls",
            "_model_module_version": "1.5.0",
            "_model_name": "ProgressStyleModel",
            "_view_count": null,
            "_view_module": "@jupyter-widgets/base",
            "_view_module_version": "1.2.0",
            "_view_name": "StyleView",
            "bar_color": null,
            "description_width": ""
          }
        },
        "5cff102fde744462aed96017d57562f6": {
          "model_module": "@jupyter-widgets/base",
          "model_name": "LayoutModel",
          "model_module_version": "1.2.0",
          "state": {
            "_model_module": "@jupyter-widgets/base",
            "_model_module_version": "1.2.0",
            "_model_name": "LayoutModel",
            "_view_count": null,
            "_view_module": "@jupyter-widgets/base",
            "_view_module_version": "1.2.0",
            "_view_name": "LayoutView",
            "align_content": null,
            "align_items": null,
            "align_self": null,
            "border": null,
            "bottom": null,
            "display": null,
            "flex": null,
            "flex_flow": null,
            "grid_area": null,
            "grid_auto_columns": null,
            "grid_auto_flow": null,
            "grid_auto_rows": null,
            "grid_column": null,
            "grid_gap": null,
            "grid_row": null,
            "grid_template_areas": null,
            "grid_template_columns": null,
            "grid_template_rows": null,
            "height": null,
            "justify_content": null,
            "justify_items": null,
            "left": null,
            "margin": null,
            "max_height": null,
            "max_width": null,
            "min_height": null,
            "min_width": null,
            "object_fit": null,
            "object_position": null,
            "order": null,
            "overflow": null,
            "overflow_x": null,
            "overflow_y": null,
            "padding": null,
            "right": null,
            "top": null,
            "visibility": null,
            "width": null
          }
        },
        "8d66106c637840d5b358fabde4d54524": {
          "model_module": "@jupyter-widgets/controls",
          "model_name": "DescriptionStyleModel",
          "model_module_version": "1.5.0",
          "state": {
            "_model_module": "@jupyter-widgets/controls",
            "_model_module_version": "1.5.0",
            "_model_name": "DescriptionStyleModel",
            "_view_count": null,
            "_view_module": "@jupyter-widgets/base",
            "_view_module_version": "1.2.0",
            "_view_name": "StyleView",
            "description_width": ""
          }
        },
        "2855e0c45787463db0c5046bace5de3d": {
          "model_module": "@jupyter-widgets/controls",
          "model_name": "HBoxModel",
          "model_module_version": "1.5.0",
          "state": {
            "_dom_classes": [],
            "_model_module": "@jupyter-widgets/controls",
            "_model_module_version": "1.5.0",
            "_model_name": "HBoxModel",
            "_view_count": null,
            "_view_module": "@jupyter-widgets/controls",
            "_view_module_version": "1.5.0",
            "_view_name": "HBoxView",
            "box_style": "",
            "children": [
              "IPY_MODEL_f7e2ab4ddab4430884880a866d847c0b",
              "IPY_MODEL_d714097f8bba4d3eab9187366ce2ef5d",
              "IPY_MODEL_85afc06a006f4381811756367978c83b"
            ],
            "layout": "IPY_MODEL_62c3520627ae401894f7ab50c3bfe692"
          }
        },
        "f7e2ab4ddab4430884880a866d847c0b": {
          "model_module": "@jupyter-widgets/controls",
          "model_name": "HTMLModel",
          "model_module_version": "1.5.0",
          "state": {
            "_dom_classes": [],
            "_model_module": "@jupyter-widgets/controls",
            "_model_module_version": "1.5.0",
            "_model_name": "HTMLModel",
            "_view_count": null,
            "_view_module": "@jupyter-widgets/controls",
            "_view_module_version": "1.5.0",
            "_view_name": "HTMLView",
            "description": "",
            "description_tooltip": null,
            "layout": "IPY_MODEL_78fde8ae6c224adba79ea8a4e2a93d29",
            "placeholder": "​",
            "style": "IPY_MODEL_b54fd537fded49b682b5fc84974a9fbc",
            "value": "100%"
          }
        },
        "d714097f8bba4d3eab9187366ce2ef5d": {
          "model_module": "@jupyter-widgets/controls",
          "model_name": "FloatProgressModel",
          "model_module_version": "1.5.0",
          "state": {
            "_dom_classes": [],
            "_model_module": "@jupyter-widgets/controls",
            "_model_module_version": "1.5.0",
            "_model_name": "FloatProgressModel",
            "_view_count": null,
            "_view_module": "@jupyter-widgets/controls",
            "_view_module_version": "1.5.0",
            "_view_name": "ProgressView",
            "bar_style": "success",
            "description": "",
            "description_tooltip": null,
            "layout": "IPY_MODEL_07d82cec614042169a6766519e4cc59f",
            "max": 29515,
            "min": 0,
            "orientation": "horizontal",
            "style": "IPY_MODEL_5f165a8279634f0396844b6bac9a0508",
            "value": 29515
          }
        },
        "85afc06a006f4381811756367978c83b": {
          "model_module": "@jupyter-widgets/controls",
          "model_name": "HTMLModel",
          "model_module_version": "1.5.0",
          "state": {
            "_dom_classes": [],
            "_model_module": "@jupyter-widgets/controls",
            "_model_module_version": "1.5.0",
            "_model_name": "HTMLModel",
            "_view_count": null,
            "_view_module": "@jupyter-widgets/controls",
            "_view_module_version": "1.5.0",
            "_view_name": "HTMLView",
            "description": "",
            "description_tooltip": null,
            "layout": "IPY_MODEL_b10c01efa4b04c13bf14d1df4307d320",
            "placeholder": "​",
            "style": "IPY_MODEL_2f0e102f220f41b494773b9ad91db63d",
            "value": " 29515/29515 [00:00&lt;00:00, 208012.48it/s]"
          }
        },
        "62c3520627ae401894f7ab50c3bfe692": {
          "model_module": "@jupyter-widgets/base",
          "model_name": "LayoutModel",
          "model_module_version": "1.2.0",
          "state": {
            "_model_module": "@jupyter-widgets/base",
            "_model_module_version": "1.2.0",
            "_model_name": "LayoutModel",
            "_view_count": null,
            "_view_module": "@jupyter-widgets/base",
            "_view_module_version": "1.2.0",
            "_view_name": "LayoutView",
            "align_content": null,
            "align_items": null,
            "align_self": null,
            "border": null,
            "bottom": null,
            "display": null,
            "flex": null,
            "flex_flow": null,
            "grid_area": null,
            "grid_auto_columns": null,
            "grid_auto_flow": null,
            "grid_auto_rows": null,
            "grid_column": null,
            "grid_gap": null,
            "grid_row": null,
            "grid_template_areas": null,
            "grid_template_columns": null,
            "grid_template_rows": null,
            "height": null,
            "justify_content": null,
            "justify_items": null,
            "left": null,
            "margin": null,
            "max_height": null,
            "max_width": null,
            "min_height": null,
            "min_width": null,
            "object_fit": null,
            "object_position": null,
            "order": null,
            "overflow": null,
            "overflow_x": null,
            "overflow_y": null,
            "padding": null,
            "right": null,
            "top": null,
            "visibility": null,
            "width": null
          }
        },
        "78fde8ae6c224adba79ea8a4e2a93d29": {
          "model_module": "@jupyter-widgets/base",
          "model_name": "LayoutModel",
          "model_module_version": "1.2.0",
          "state": {
            "_model_module": "@jupyter-widgets/base",
            "_model_module_version": "1.2.0",
            "_model_name": "LayoutModel",
            "_view_count": null,
            "_view_module": "@jupyter-widgets/base",
            "_view_module_version": "1.2.0",
            "_view_name": "LayoutView",
            "align_content": null,
            "align_items": null,
            "align_self": null,
            "border": null,
            "bottom": null,
            "display": null,
            "flex": null,
            "flex_flow": null,
            "grid_area": null,
            "grid_auto_columns": null,
            "grid_auto_flow": null,
            "grid_auto_rows": null,
            "grid_column": null,
            "grid_gap": null,
            "grid_row": null,
            "grid_template_areas": null,
            "grid_template_columns": null,
            "grid_template_rows": null,
            "height": null,
            "justify_content": null,
            "justify_items": null,
            "left": null,
            "margin": null,
            "max_height": null,
            "max_width": null,
            "min_height": null,
            "min_width": null,
            "object_fit": null,
            "object_position": null,
            "order": null,
            "overflow": null,
            "overflow_x": null,
            "overflow_y": null,
            "padding": null,
            "right": null,
            "top": null,
            "visibility": null,
            "width": null
          }
        },
        "b54fd537fded49b682b5fc84974a9fbc": {
          "model_module": "@jupyter-widgets/controls",
          "model_name": "DescriptionStyleModel",
          "model_module_version": "1.5.0",
          "state": {
            "_model_module": "@jupyter-widgets/controls",
            "_model_module_version": "1.5.0",
            "_model_name": "DescriptionStyleModel",
            "_view_count": null,
            "_view_module": "@jupyter-widgets/base",
            "_view_module_version": "1.2.0",
            "_view_name": "StyleView",
            "description_width": ""
          }
        },
        "07d82cec614042169a6766519e4cc59f": {
          "model_module": "@jupyter-widgets/base",
          "model_name": "LayoutModel",
          "model_module_version": "1.2.0",
          "state": {
            "_model_module": "@jupyter-widgets/base",
            "_model_module_version": "1.2.0",
            "_model_name": "LayoutModel",
            "_view_count": null,
            "_view_module": "@jupyter-widgets/base",
            "_view_module_version": "1.2.0",
            "_view_name": "LayoutView",
            "align_content": null,
            "align_items": null,
            "align_self": null,
            "border": null,
            "bottom": null,
            "display": null,
            "flex": null,
            "flex_flow": null,
            "grid_area": null,
            "grid_auto_columns": null,
            "grid_auto_flow": null,
            "grid_auto_rows": null,
            "grid_column": null,
            "grid_gap": null,
            "grid_row": null,
            "grid_template_areas": null,
            "grid_template_columns": null,
            "grid_template_rows": null,
            "height": null,
            "justify_content": null,
            "justify_items": null,
            "left": null,
            "margin": null,
            "max_height": null,
            "max_width": null,
            "min_height": null,
            "min_width": null,
            "object_fit": null,
            "object_position": null,
            "order": null,
            "overflow": null,
            "overflow_x": null,
            "overflow_y": null,
            "padding": null,
            "right": null,
            "top": null,
            "visibility": null,
            "width": null
          }
        },
        "5f165a8279634f0396844b6bac9a0508": {
          "model_module": "@jupyter-widgets/controls",
          "model_name": "ProgressStyleModel",
          "model_module_version": "1.5.0",
          "state": {
            "_model_module": "@jupyter-widgets/controls",
            "_model_module_version": "1.5.0",
            "_model_name": "ProgressStyleModel",
            "_view_count": null,
            "_view_module": "@jupyter-widgets/base",
            "_view_module_version": "1.2.0",
            "_view_name": "StyleView",
            "bar_color": null,
            "description_width": ""
          }
        },
        "b10c01efa4b04c13bf14d1df4307d320": {
          "model_module": "@jupyter-widgets/base",
          "model_name": "LayoutModel",
          "model_module_version": "1.2.0",
          "state": {
            "_model_module": "@jupyter-widgets/base",
            "_model_module_version": "1.2.0",
            "_model_name": "LayoutModel",
            "_view_count": null,
            "_view_module": "@jupyter-widgets/base",
            "_view_module_version": "1.2.0",
            "_view_name": "LayoutView",
            "align_content": null,
            "align_items": null,
            "align_self": null,
            "border": null,
            "bottom": null,
            "display": null,
            "flex": null,
            "flex_flow": null,
            "grid_area": null,
            "grid_auto_columns": null,
            "grid_auto_flow": null,
            "grid_auto_rows": null,
            "grid_column": null,
            "grid_gap": null,
            "grid_row": null,
            "grid_template_areas": null,
            "grid_template_columns": null,
            "grid_template_rows": null,
            "height": null,
            "justify_content": null,
            "justify_items": null,
            "left": null,
            "margin": null,
            "max_height": null,
            "max_width": null,
            "min_height": null,
            "min_width": null,
            "object_fit": null,
            "object_position": null,
            "order": null,
            "overflow": null,
            "overflow_x": null,
            "overflow_y": null,
            "padding": null,
            "right": null,
            "top": null,
            "visibility": null,
            "width": null
          }
        },
        "2f0e102f220f41b494773b9ad91db63d": {
          "model_module": "@jupyter-widgets/controls",
          "model_name": "DescriptionStyleModel",
          "model_module_version": "1.5.0",
          "state": {
            "_model_module": "@jupyter-widgets/controls",
            "_model_module_version": "1.5.0",
            "_model_name": "DescriptionStyleModel",
            "_view_count": null,
            "_view_module": "@jupyter-widgets/base",
            "_view_module_version": "1.2.0",
            "_view_name": "StyleView",
            "description_width": ""
          }
        },
        "8a6897ab92384cff8de48a44e1195404": {
          "model_module": "@jupyter-widgets/controls",
          "model_name": "HBoxModel",
          "model_module_version": "1.5.0",
          "state": {
            "_dom_classes": [],
            "_model_module": "@jupyter-widgets/controls",
            "_model_module_version": "1.5.0",
            "_model_name": "HBoxModel",
            "_view_count": null,
            "_view_module": "@jupyter-widgets/controls",
            "_view_module_version": "1.5.0",
            "_view_name": "HBoxView",
            "box_style": "",
            "children": [
              "IPY_MODEL_10d0717775b64d90a69f7a178bb4d0b0",
              "IPY_MODEL_36de904ab7c74ae28cbee730bd766394",
              "IPY_MODEL_55f99a46a2944edeb7b6a0b626865081"
            ],
            "layout": "IPY_MODEL_633e9e4a8d3e4c85a48b754d81d95216"
          }
        },
        "10d0717775b64d90a69f7a178bb4d0b0": {
          "model_module": "@jupyter-widgets/controls",
          "model_name": "HTMLModel",
          "model_module_version": "1.5.0",
          "state": {
            "_dom_classes": [],
            "_model_module": "@jupyter-widgets/controls",
            "_model_module_version": "1.5.0",
            "_model_name": "HTMLModel",
            "_view_count": null,
            "_view_module": "@jupyter-widgets/controls",
            "_view_module_version": "1.5.0",
            "_view_name": "HTMLView",
            "description": "",
            "description_tooltip": null,
            "layout": "IPY_MODEL_461d61def16940489f978f99af579f02",
            "placeholder": "​",
            "style": "IPY_MODEL_a492343fb81141b289dbb2f4328865cd",
            "value": "100%"
          }
        },
        "36de904ab7c74ae28cbee730bd766394": {
          "model_module": "@jupyter-widgets/controls",
          "model_name": "FloatProgressModel",
          "model_module_version": "1.5.0",
          "state": {
            "_dom_classes": [],
            "_model_module": "@jupyter-widgets/controls",
            "_model_module_version": "1.5.0",
            "_model_name": "FloatProgressModel",
            "_view_count": null,
            "_view_module": "@jupyter-widgets/controls",
            "_view_module_version": "1.5.0",
            "_view_name": "ProgressView",
            "bar_style": "success",
            "description": "",
            "description_tooltip": null,
            "layout": "IPY_MODEL_56ed8548f26948a3875d8dcea6106f4a",
            "max": 4422102,
            "min": 0,
            "orientation": "horizontal",
            "style": "IPY_MODEL_ea0b42c9a79f412c828ee553aa7f704a",
            "value": 4422102
          }
        },
        "55f99a46a2944edeb7b6a0b626865081": {
          "model_module": "@jupyter-widgets/controls",
          "model_name": "HTMLModel",
          "model_module_version": "1.5.0",
          "state": {
            "_dom_classes": [],
            "_model_module": "@jupyter-widgets/controls",
            "_model_module_version": "1.5.0",
            "_model_name": "HTMLModel",
            "_view_count": null,
            "_view_module": "@jupyter-widgets/controls",
            "_view_module_version": "1.5.0",
            "_view_name": "HTMLView",
            "description": "",
            "description_tooltip": null,
            "layout": "IPY_MODEL_0ee26778339044719db2f4a9cfd95547",
            "placeholder": "​",
            "style": "IPY_MODEL_e82ea6a1dfc6480191ac9c62717d3c4b",
            "value": " 4422102/4422102 [00:01&lt;00:00, 6715730.32it/s]"
          }
        },
        "633e9e4a8d3e4c85a48b754d81d95216": {
          "model_module": "@jupyter-widgets/base",
          "model_name": "LayoutModel",
          "model_module_version": "1.2.0",
          "state": {
            "_model_module": "@jupyter-widgets/base",
            "_model_module_version": "1.2.0",
            "_model_name": "LayoutModel",
            "_view_count": null,
            "_view_module": "@jupyter-widgets/base",
            "_view_module_version": "1.2.0",
            "_view_name": "LayoutView",
            "align_content": null,
            "align_items": null,
            "align_self": null,
            "border": null,
            "bottom": null,
            "display": null,
            "flex": null,
            "flex_flow": null,
            "grid_area": null,
            "grid_auto_columns": null,
            "grid_auto_flow": null,
            "grid_auto_rows": null,
            "grid_column": null,
            "grid_gap": null,
            "grid_row": null,
            "grid_template_areas": null,
            "grid_template_columns": null,
            "grid_template_rows": null,
            "height": null,
            "justify_content": null,
            "justify_items": null,
            "left": null,
            "margin": null,
            "max_height": null,
            "max_width": null,
            "min_height": null,
            "min_width": null,
            "object_fit": null,
            "object_position": null,
            "order": null,
            "overflow": null,
            "overflow_x": null,
            "overflow_y": null,
            "padding": null,
            "right": null,
            "top": null,
            "visibility": null,
            "width": null
          }
        },
        "461d61def16940489f978f99af579f02": {
          "model_module": "@jupyter-widgets/base",
          "model_name": "LayoutModel",
          "model_module_version": "1.2.0",
          "state": {
            "_model_module": "@jupyter-widgets/base",
            "_model_module_version": "1.2.0",
            "_model_name": "LayoutModel",
            "_view_count": null,
            "_view_module": "@jupyter-widgets/base",
            "_view_module_version": "1.2.0",
            "_view_name": "LayoutView",
            "align_content": null,
            "align_items": null,
            "align_self": null,
            "border": null,
            "bottom": null,
            "display": null,
            "flex": null,
            "flex_flow": null,
            "grid_area": null,
            "grid_auto_columns": null,
            "grid_auto_flow": null,
            "grid_auto_rows": null,
            "grid_column": null,
            "grid_gap": null,
            "grid_row": null,
            "grid_template_areas": null,
            "grid_template_columns": null,
            "grid_template_rows": null,
            "height": null,
            "justify_content": null,
            "justify_items": null,
            "left": null,
            "margin": null,
            "max_height": null,
            "max_width": null,
            "min_height": null,
            "min_width": null,
            "object_fit": null,
            "object_position": null,
            "order": null,
            "overflow": null,
            "overflow_x": null,
            "overflow_y": null,
            "padding": null,
            "right": null,
            "top": null,
            "visibility": null,
            "width": null
          }
        },
        "a492343fb81141b289dbb2f4328865cd": {
          "model_module": "@jupyter-widgets/controls",
          "model_name": "DescriptionStyleModel",
          "model_module_version": "1.5.0",
          "state": {
            "_model_module": "@jupyter-widgets/controls",
            "_model_module_version": "1.5.0",
            "_model_name": "DescriptionStyleModel",
            "_view_count": null,
            "_view_module": "@jupyter-widgets/base",
            "_view_module_version": "1.2.0",
            "_view_name": "StyleView",
            "description_width": ""
          }
        },
        "56ed8548f26948a3875d8dcea6106f4a": {
          "model_module": "@jupyter-widgets/base",
          "model_name": "LayoutModel",
          "model_module_version": "1.2.0",
          "state": {
            "_model_module": "@jupyter-widgets/base",
            "_model_module_version": "1.2.0",
            "_model_name": "LayoutModel",
            "_view_count": null,
            "_view_module": "@jupyter-widgets/base",
            "_view_module_version": "1.2.0",
            "_view_name": "LayoutView",
            "align_content": null,
            "align_items": null,
            "align_self": null,
            "border": null,
            "bottom": null,
            "display": null,
            "flex": null,
            "flex_flow": null,
            "grid_area": null,
            "grid_auto_columns": null,
            "grid_auto_flow": null,
            "grid_auto_rows": null,
            "grid_column": null,
            "grid_gap": null,
            "grid_row": null,
            "grid_template_areas": null,
            "grid_template_columns": null,
            "grid_template_rows": null,
            "height": null,
            "justify_content": null,
            "justify_items": null,
            "left": null,
            "margin": null,
            "max_height": null,
            "max_width": null,
            "min_height": null,
            "min_width": null,
            "object_fit": null,
            "object_position": null,
            "order": null,
            "overflow": null,
            "overflow_x": null,
            "overflow_y": null,
            "padding": null,
            "right": null,
            "top": null,
            "visibility": null,
            "width": null
          }
        },
        "ea0b42c9a79f412c828ee553aa7f704a": {
          "model_module": "@jupyter-widgets/controls",
          "model_name": "ProgressStyleModel",
          "model_module_version": "1.5.0",
          "state": {
            "_model_module": "@jupyter-widgets/controls",
            "_model_module_version": "1.5.0",
            "_model_name": "ProgressStyleModel",
            "_view_count": null,
            "_view_module": "@jupyter-widgets/base",
            "_view_module_version": "1.2.0",
            "_view_name": "StyleView",
            "bar_color": null,
            "description_width": ""
          }
        },
        "0ee26778339044719db2f4a9cfd95547": {
          "model_module": "@jupyter-widgets/base",
          "model_name": "LayoutModel",
          "model_module_version": "1.2.0",
          "state": {
            "_model_module": "@jupyter-widgets/base",
            "_model_module_version": "1.2.0",
            "_model_name": "LayoutModel",
            "_view_count": null,
            "_view_module": "@jupyter-widgets/base",
            "_view_module_version": "1.2.0",
            "_view_name": "LayoutView",
            "align_content": null,
            "align_items": null,
            "align_self": null,
            "border": null,
            "bottom": null,
            "display": null,
            "flex": null,
            "flex_flow": null,
            "grid_area": null,
            "grid_auto_columns": null,
            "grid_auto_flow": null,
            "grid_auto_rows": null,
            "grid_column": null,
            "grid_gap": null,
            "grid_row": null,
            "grid_template_areas": null,
            "grid_template_columns": null,
            "grid_template_rows": null,
            "height": null,
            "justify_content": null,
            "justify_items": null,
            "left": null,
            "margin": null,
            "max_height": null,
            "max_width": null,
            "min_height": null,
            "min_width": null,
            "object_fit": null,
            "object_position": null,
            "order": null,
            "overflow": null,
            "overflow_x": null,
            "overflow_y": null,
            "padding": null,
            "right": null,
            "top": null,
            "visibility": null,
            "width": null
          }
        },
        "e82ea6a1dfc6480191ac9c62717d3c4b": {
          "model_module": "@jupyter-widgets/controls",
          "model_name": "DescriptionStyleModel",
          "model_module_version": "1.5.0",
          "state": {
            "_model_module": "@jupyter-widgets/controls",
            "_model_module_version": "1.5.0",
            "_model_name": "DescriptionStyleModel",
            "_view_count": null,
            "_view_module": "@jupyter-widgets/base",
            "_view_module_version": "1.2.0",
            "_view_name": "StyleView",
            "description_width": ""
          }
        },
        "17083261896f4ee2a19ac3f787d139db": {
          "model_module": "@jupyter-widgets/controls",
          "model_name": "HBoxModel",
          "model_module_version": "1.5.0",
          "state": {
            "_dom_classes": [],
            "_model_module": "@jupyter-widgets/controls",
            "_model_module_version": "1.5.0",
            "_model_name": "HBoxModel",
            "_view_count": null,
            "_view_module": "@jupyter-widgets/controls",
            "_view_module_version": "1.5.0",
            "_view_name": "HBoxView",
            "box_style": "",
            "children": [
              "IPY_MODEL_450902a5991c46038dd7941e47d32bab",
              "IPY_MODEL_50030c235f9246caba99d670e2e584ce",
              "IPY_MODEL_f2fd8ce91a194daead460dbdcf90f910"
            ],
            "layout": "IPY_MODEL_9d837f98614b421db49cf95e8b635eb8"
          }
        },
        "450902a5991c46038dd7941e47d32bab": {
          "model_module": "@jupyter-widgets/controls",
          "model_name": "HTMLModel",
          "model_module_version": "1.5.0",
          "state": {
            "_dom_classes": [],
            "_model_module": "@jupyter-widgets/controls",
            "_model_module_version": "1.5.0",
            "_model_name": "HTMLModel",
            "_view_count": null,
            "_view_module": "@jupyter-widgets/controls",
            "_view_module_version": "1.5.0",
            "_view_name": "HTMLView",
            "description": "",
            "description_tooltip": null,
            "layout": "IPY_MODEL_befd188a9fd843849e8b4c257a28a245",
            "placeholder": "​",
            "style": "IPY_MODEL_dd9126e4fce24056a02b1f3aadd752da",
            "value": "100%"
          }
        },
        "50030c235f9246caba99d670e2e584ce": {
          "model_module": "@jupyter-widgets/controls",
          "model_name": "FloatProgressModel",
          "model_module_version": "1.5.0",
          "state": {
            "_dom_classes": [],
            "_model_module": "@jupyter-widgets/controls",
            "_model_module_version": "1.5.0",
            "_model_name": "FloatProgressModel",
            "_view_count": null,
            "_view_module": "@jupyter-widgets/controls",
            "_view_module_version": "1.5.0",
            "_view_name": "ProgressView",
            "bar_style": "success",
            "description": "",
            "description_tooltip": null,
            "layout": "IPY_MODEL_170c84ad3e3344a1944eaae54aeb88b6",
            "max": 5148,
            "min": 0,
            "orientation": "horizontal",
            "style": "IPY_MODEL_f82f1e446b3c4bbdaadb2cbc465c63ab",
            "value": 5148
          }
        },
        "f2fd8ce91a194daead460dbdcf90f910": {
          "model_module": "@jupyter-widgets/controls",
          "model_name": "HTMLModel",
          "model_module_version": "1.5.0",
          "state": {
            "_dom_classes": [],
            "_model_module": "@jupyter-widgets/controls",
            "_model_module_version": "1.5.0",
            "_model_name": "HTMLModel",
            "_view_count": null,
            "_view_module": "@jupyter-widgets/controls",
            "_view_module_version": "1.5.0",
            "_view_name": "HTMLView",
            "description": "",
            "description_tooltip": null,
            "layout": "IPY_MODEL_1d1ced974f4f420f984b99714319a30f",
            "placeholder": "​",
            "style": "IPY_MODEL_4f52e3085690487d99c4d37eab7cc1ff",
            "value": " 5148/5148 [00:00&lt;00:00, 228998.59it/s]"
          }
        },
        "9d837f98614b421db49cf95e8b635eb8": {
          "model_module": "@jupyter-widgets/base",
          "model_name": "LayoutModel",
          "model_module_version": "1.2.0",
          "state": {
            "_model_module": "@jupyter-widgets/base",
            "_model_module_version": "1.2.0",
            "_model_name": "LayoutModel",
            "_view_count": null,
            "_view_module": "@jupyter-widgets/base",
            "_view_module_version": "1.2.0",
            "_view_name": "LayoutView",
            "align_content": null,
            "align_items": null,
            "align_self": null,
            "border": null,
            "bottom": null,
            "display": null,
            "flex": null,
            "flex_flow": null,
            "grid_area": null,
            "grid_auto_columns": null,
            "grid_auto_flow": null,
            "grid_auto_rows": null,
            "grid_column": null,
            "grid_gap": null,
            "grid_row": null,
            "grid_template_areas": null,
            "grid_template_columns": null,
            "grid_template_rows": null,
            "height": null,
            "justify_content": null,
            "justify_items": null,
            "left": null,
            "margin": null,
            "max_height": null,
            "max_width": null,
            "min_height": null,
            "min_width": null,
            "object_fit": null,
            "object_position": null,
            "order": null,
            "overflow": null,
            "overflow_x": null,
            "overflow_y": null,
            "padding": null,
            "right": null,
            "top": null,
            "visibility": null,
            "width": null
          }
        },
        "befd188a9fd843849e8b4c257a28a245": {
          "model_module": "@jupyter-widgets/base",
          "model_name": "LayoutModel",
          "model_module_version": "1.2.0",
          "state": {
            "_model_module": "@jupyter-widgets/base",
            "_model_module_version": "1.2.0",
            "_model_name": "LayoutModel",
            "_view_count": null,
            "_view_module": "@jupyter-widgets/base",
            "_view_module_version": "1.2.0",
            "_view_name": "LayoutView",
            "align_content": null,
            "align_items": null,
            "align_self": null,
            "border": null,
            "bottom": null,
            "display": null,
            "flex": null,
            "flex_flow": null,
            "grid_area": null,
            "grid_auto_columns": null,
            "grid_auto_flow": null,
            "grid_auto_rows": null,
            "grid_column": null,
            "grid_gap": null,
            "grid_row": null,
            "grid_template_areas": null,
            "grid_template_columns": null,
            "grid_template_rows": null,
            "height": null,
            "justify_content": null,
            "justify_items": null,
            "left": null,
            "margin": null,
            "max_height": null,
            "max_width": null,
            "min_height": null,
            "min_width": null,
            "object_fit": null,
            "object_position": null,
            "order": null,
            "overflow": null,
            "overflow_x": null,
            "overflow_y": null,
            "padding": null,
            "right": null,
            "top": null,
            "visibility": null,
            "width": null
          }
        },
        "dd9126e4fce24056a02b1f3aadd752da": {
          "model_module": "@jupyter-widgets/controls",
          "model_name": "DescriptionStyleModel",
          "model_module_version": "1.5.0",
          "state": {
            "_model_module": "@jupyter-widgets/controls",
            "_model_module_version": "1.5.0",
            "_model_name": "DescriptionStyleModel",
            "_view_count": null,
            "_view_module": "@jupyter-widgets/base",
            "_view_module_version": "1.2.0",
            "_view_name": "StyleView",
            "description_width": ""
          }
        },
        "170c84ad3e3344a1944eaae54aeb88b6": {
          "model_module": "@jupyter-widgets/base",
          "model_name": "LayoutModel",
          "model_module_version": "1.2.0",
          "state": {
            "_model_module": "@jupyter-widgets/base",
            "_model_module_version": "1.2.0",
            "_model_name": "LayoutModel",
            "_view_count": null,
            "_view_module": "@jupyter-widgets/base",
            "_view_module_version": "1.2.0",
            "_view_name": "LayoutView",
            "align_content": null,
            "align_items": null,
            "align_self": null,
            "border": null,
            "bottom": null,
            "display": null,
            "flex": null,
            "flex_flow": null,
            "grid_area": null,
            "grid_auto_columns": null,
            "grid_auto_flow": null,
            "grid_auto_rows": null,
            "grid_column": null,
            "grid_gap": null,
            "grid_row": null,
            "grid_template_areas": null,
            "grid_template_columns": null,
            "grid_template_rows": null,
            "height": null,
            "justify_content": null,
            "justify_items": null,
            "left": null,
            "margin": null,
            "max_height": null,
            "max_width": null,
            "min_height": null,
            "min_width": null,
            "object_fit": null,
            "object_position": null,
            "order": null,
            "overflow": null,
            "overflow_x": null,
            "overflow_y": null,
            "padding": null,
            "right": null,
            "top": null,
            "visibility": null,
            "width": null
          }
        },
        "f82f1e446b3c4bbdaadb2cbc465c63ab": {
          "model_module": "@jupyter-widgets/controls",
          "model_name": "ProgressStyleModel",
          "model_module_version": "1.5.0",
          "state": {
            "_model_module": "@jupyter-widgets/controls",
            "_model_module_version": "1.5.0",
            "_model_name": "ProgressStyleModel",
            "_view_count": null,
            "_view_module": "@jupyter-widgets/base",
            "_view_module_version": "1.2.0",
            "_view_name": "StyleView",
            "bar_color": null,
            "description_width": ""
          }
        },
        "1d1ced974f4f420f984b99714319a30f": {
          "model_module": "@jupyter-widgets/base",
          "model_name": "LayoutModel",
          "model_module_version": "1.2.0",
          "state": {
            "_model_module": "@jupyter-widgets/base",
            "_model_module_version": "1.2.0",
            "_model_name": "LayoutModel",
            "_view_count": null,
            "_view_module": "@jupyter-widgets/base",
            "_view_module_version": "1.2.0",
            "_view_name": "LayoutView",
            "align_content": null,
            "align_items": null,
            "align_self": null,
            "border": null,
            "bottom": null,
            "display": null,
            "flex": null,
            "flex_flow": null,
            "grid_area": null,
            "grid_auto_columns": null,
            "grid_auto_flow": null,
            "grid_auto_rows": null,
            "grid_column": null,
            "grid_gap": null,
            "grid_row": null,
            "grid_template_areas": null,
            "grid_template_columns": null,
            "grid_template_rows": null,
            "height": null,
            "justify_content": null,
            "justify_items": null,
            "left": null,
            "margin": null,
            "max_height": null,
            "max_width": null,
            "min_height": null,
            "min_width": null,
            "object_fit": null,
            "object_position": null,
            "order": null,
            "overflow": null,
            "overflow_x": null,
            "overflow_y": null,
            "padding": null,
            "right": null,
            "top": null,
            "visibility": null,
            "width": null
          }
        },
        "4f52e3085690487d99c4d37eab7cc1ff": {
          "model_module": "@jupyter-widgets/controls",
          "model_name": "DescriptionStyleModel",
          "model_module_version": "1.5.0",
          "state": {
            "_model_module": "@jupyter-widgets/controls",
            "_model_module_version": "1.5.0",
            "_model_name": "DescriptionStyleModel",
            "_view_count": null,
            "_view_module": "@jupyter-widgets/base",
            "_view_module_version": "1.2.0",
            "_view_name": "StyleView",
            "description_width": ""
          }
        }
      }
    }
  },
  "cells": [
    {
      "cell_type": "markdown",
      "source": [
        "# 초기 세팅"
      ],
      "metadata": {
        "id": "cdNvme8aKSBP"
      }
    },
    {
      "cell_type": "code",
      "metadata": {
        "id": "P1v9luAfHXdz"
      },
      "source": [
        "import torch\n",
        "import torch.nn as nn\n",
        "import torch.nn.functional as F\n",
        "import torch.optim as optim\n",
        "from torch.utils.data import Dataset, DataLoader\n",
        "\n",
        "import torchvision\n",
        "import torchvision.datasets as datasets\n",
        "import torchvision.transforms as transforms\n",
        "\n",
        "import numpy as np\n",
        "import matplotlib.pyplot as plt\n",
        "plt.style.use('seaborn-white')"
      ],
      "execution_count": 1,
      "outputs": []
    },
    {
      "cell_type": "code",
      "source": [
        "!pip install torchsummary\n",
        "from torchsummary import summary"
      ],
      "metadata": {
        "colab": {
          "base_uri": "https://localhost:8080/"
        },
        "id": "D39aCPyTu2Ce",
        "outputId": "61ef9496-a61a-4737-86fc-00d9c274ff3f"
      },
      "execution_count": 2,
      "outputs": [
        {
          "output_type": "stream",
          "name": "stdout",
          "text": [
            "Looking in indexes: https://pypi.org/simple, https://us-python.pkg.dev/colab-wheels/public/simple/\n",
            "Requirement already satisfied: torchsummary in /usr/local/lib/python3.8/dist-packages (1.5.1)\n"
          ]
        }
      ]
    },
    {
      "cell_type": "markdown",
      "metadata": {
        "id": "02LdHlTTSz5L"
      },
      "source": [
        "- 현재 GPU 설정"
      ]
    },
    {
      "cell_type": "code",
      "metadata": {
        "id": "Ybsjn80uSx3X",
        "colab": {
          "base_uri": "https://localhost:8080/"
        },
        "outputId": "979aa548-6d7e-4d71-8284-7ba189fdf270"
      },
      "source": [
        "# colab의 runtime-type을 GPU로 설정해서, True가 나오도록 한다.\n",
        "\n",
        "torch.cuda.is_available()"
      ],
      "execution_count": 3,
      "outputs": [
        {
          "output_type": "execute_result",
          "data": {
            "text/plain": [
              "True"
            ]
          },
          "metadata": {},
          "execution_count": 3
        }
      ]
    },
    {
      "cell_type": "code",
      "metadata": {
        "id": "HlPZI5wfDQhv",
        "colab": {
          "base_uri": "https://localhost:8080/"
        },
        "outputId": "e80d9212-278d-4613-89b9-179d14e8da81"
      },
      "source": [
        "use_cuda = torch.cuda.is_available()\n",
        "device = torch.device(\"cuda\" if use_cuda else \"cpu\")\n",
        "device"
      ],
      "execution_count": 4,
      "outputs": [
        {
          "output_type": "execute_result",
          "data": {
            "text/plain": [
              "device(type='cuda')"
            ]
          },
          "metadata": {},
          "execution_count": 4
        }
      ]
    },
    {
      "cell_type": "markdown",
      "source": [
        "# FashionMNIST 분류 모델 만들기\n",
        "* 흑/백(1) 이미지 데이터 분류\n",
        "* 28x28 pixel"
      ],
      "metadata": {
        "id": "OHckdZ55KeH2"
      }
    },
    {
      "cell_type": "markdown",
      "source": [
        "## 데이터 로드"
      ],
      "metadata": {
        "id": "mCrBa-gRRMEO"
      }
    },
    {
      "cell_type": "code",
      "source": [
        "# 데이터 전처리\n",
        "\n",
        "MNIST_transform = transforms.Compose([transforms.ToTensor(), # tensor로 펴준다.\n",
        "                                      transforms.Normalize((0.5,),(0.5,))]) # 정규화를 해준다."
      ],
      "metadata": {
        "id": "vYP9dGrWzDqd"
      },
      "execution_count": 5,
      "outputs": []
    },
    {
      "cell_type": "code",
      "source": [
        "trainset = datasets.FashionMNIST(root='/content',\n",
        "                                 train=True, download=True,\n",
        "                                 transform=MNIST_transform)\n",
        "\n",
        "testset = datasets.FashionMNIST(root='/content',\n",
        "                                 train=False, download=True,\n",
        "                                 transform=MNIST_transform)"
      ],
      "metadata": {
        "id": "VpVsTevTWE5i",
        "colab": {
          "base_uri": "https://localhost:8080/",
          "height": 437,
          "referenced_widgets": [
            "e480739b96e7431ebe38134430dc2090",
            "b3a4e5d61b85425aaae37220b804102f",
            "804aa9a2876641ada34948a665a6a00d",
            "07e20b243cce44b0865ebd5cfd20cf3d",
            "71b86821424249dd82862efbffbbbb77",
            "c4950a41f8bd4f65898cd0705c9f2268",
            "eb759b90bafb448ca88c072a04651f83",
            "3dae13c3c2ba4009a4451d706506850c",
            "828845cc836d40fd9d085f0d166df821",
            "5cff102fde744462aed96017d57562f6",
            "8d66106c637840d5b358fabde4d54524",
            "2855e0c45787463db0c5046bace5de3d",
            "f7e2ab4ddab4430884880a866d847c0b",
            "d714097f8bba4d3eab9187366ce2ef5d",
            "85afc06a006f4381811756367978c83b",
            "62c3520627ae401894f7ab50c3bfe692",
            "78fde8ae6c224adba79ea8a4e2a93d29",
            "b54fd537fded49b682b5fc84974a9fbc",
            "07d82cec614042169a6766519e4cc59f",
            "5f165a8279634f0396844b6bac9a0508",
            "b10c01efa4b04c13bf14d1df4307d320",
            "2f0e102f220f41b494773b9ad91db63d",
            "8a6897ab92384cff8de48a44e1195404",
            "10d0717775b64d90a69f7a178bb4d0b0",
            "36de904ab7c74ae28cbee730bd766394",
            "55f99a46a2944edeb7b6a0b626865081",
            "633e9e4a8d3e4c85a48b754d81d95216",
            "461d61def16940489f978f99af579f02",
            "a492343fb81141b289dbb2f4328865cd",
            "56ed8548f26948a3875d8dcea6106f4a",
            "ea0b42c9a79f412c828ee553aa7f704a",
            "0ee26778339044719db2f4a9cfd95547",
            "e82ea6a1dfc6480191ac9c62717d3c4b",
            "17083261896f4ee2a19ac3f787d139db",
            "450902a5991c46038dd7941e47d32bab",
            "50030c235f9246caba99d670e2e584ce",
            "f2fd8ce91a194daead460dbdcf90f910",
            "9d837f98614b421db49cf95e8b635eb8",
            "befd188a9fd843849e8b4c257a28a245",
            "dd9126e4fce24056a02b1f3aadd752da",
            "170c84ad3e3344a1944eaae54aeb88b6",
            "f82f1e446b3c4bbdaadb2cbc465c63ab",
            "1d1ced974f4f420f984b99714319a30f",
            "4f52e3085690487d99c4d37eab7cc1ff"
          ]
        },
        "outputId": "a2fbf61b-83d0-4c24-a52d-907856f897e4"
      },
      "execution_count": 6,
      "outputs": [
        {
          "output_type": "stream",
          "name": "stdout",
          "text": [
            "Downloading http://fashion-mnist.s3-website.eu-central-1.amazonaws.com/train-images-idx3-ubyte.gz\n",
            "Downloading http://fashion-mnist.s3-website.eu-central-1.amazonaws.com/train-images-idx3-ubyte.gz to /content/FashionMNIST/raw/train-images-idx3-ubyte.gz\n"
          ]
        },
        {
          "output_type": "display_data",
          "data": {
            "text/plain": [
              "  0%|          | 0/26421880 [00:00<?, ?it/s]"
            ],
            "application/vnd.jupyter.widget-view+json": {
              "version_major": 2,
              "version_minor": 0,
              "model_id": "e480739b96e7431ebe38134430dc2090"
            }
          },
          "metadata": {}
        },
        {
          "output_type": "stream",
          "name": "stdout",
          "text": [
            "Extracting /content/FashionMNIST/raw/train-images-idx3-ubyte.gz to /content/FashionMNIST/raw\n",
            "\n",
            "Downloading http://fashion-mnist.s3-website.eu-central-1.amazonaws.com/train-labels-idx1-ubyte.gz\n",
            "Downloading http://fashion-mnist.s3-website.eu-central-1.amazonaws.com/train-labels-idx1-ubyte.gz to /content/FashionMNIST/raw/train-labels-idx1-ubyte.gz\n"
          ]
        },
        {
          "output_type": "display_data",
          "data": {
            "text/plain": [
              "  0%|          | 0/29515 [00:00<?, ?it/s]"
            ],
            "application/vnd.jupyter.widget-view+json": {
              "version_major": 2,
              "version_minor": 0,
              "model_id": "2855e0c45787463db0c5046bace5de3d"
            }
          },
          "metadata": {}
        },
        {
          "output_type": "stream",
          "name": "stdout",
          "text": [
            "Extracting /content/FashionMNIST/raw/train-labels-idx1-ubyte.gz to /content/FashionMNIST/raw\n",
            "\n",
            "Downloading http://fashion-mnist.s3-website.eu-central-1.amazonaws.com/t10k-images-idx3-ubyte.gz\n",
            "Downloading http://fashion-mnist.s3-website.eu-central-1.amazonaws.com/t10k-images-idx3-ubyte.gz to /content/FashionMNIST/raw/t10k-images-idx3-ubyte.gz\n"
          ]
        },
        {
          "output_type": "display_data",
          "data": {
            "text/plain": [
              "  0%|          | 0/4422102 [00:00<?, ?it/s]"
            ],
            "application/vnd.jupyter.widget-view+json": {
              "version_major": 2,
              "version_minor": 0,
              "model_id": "8a6897ab92384cff8de48a44e1195404"
            }
          },
          "metadata": {}
        },
        {
          "output_type": "stream",
          "name": "stdout",
          "text": [
            "Extracting /content/FashionMNIST/raw/t10k-images-idx3-ubyte.gz to /content/FashionMNIST/raw\n",
            "\n",
            "Downloading http://fashion-mnist.s3-website.eu-central-1.amazonaws.com/t10k-labels-idx1-ubyte.gz\n",
            "Downloading http://fashion-mnist.s3-website.eu-central-1.amazonaws.com/t10k-labels-idx1-ubyte.gz to /content/FashionMNIST/raw/t10k-labels-idx1-ubyte.gz\n"
          ]
        },
        {
          "output_type": "display_data",
          "data": {
            "text/plain": [
              "  0%|          | 0/5148 [00:00<?, ?it/s]"
            ],
            "application/vnd.jupyter.widget-view+json": {
              "version_major": 2,
              "version_minor": 0,
              "model_id": "17083261896f4ee2a19ac3f787d139db"
            }
          },
          "metadata": {}
        },
        {
          "output_type": "stream",
          "name": "stdout",
          "text": [
            "Extracting /content/FashionMNIST/raw/t10k-labels-idx1-ubyte.gz to /content/FashionMNIST/raw\n",
            "\n"
          ]
        }
      ]
    },
    {
      "cell_type": "markdown",
      "source": [
        "input-data size 확인"
      ],
      "metadata": {
        "id": "qh7uI7ewsipv"
      }
    },
    {
      "cell_type": "code",
      "source": [
        "# batch-size=128\n",
        "train_loader128 =  DataLoader(trainset, batch_size=128, shuffle=True, num_workers=2)\n",
        "test_loader128 =  DataLoader(testset, batch_size=128, shuffle=False, num_workers=2)\n",
        "\n",
        "# batch-size=64\n",
        "train_loader64 =  DataLoader(trainset, batch_size=64, shuffle=True, num_workers=2)\n",
        "test_loader64 =  DataLoader(testset, batch_size=64, shuffle=False, num_workers=2)"
      ],
      "metadata": {
        "id": "Dz-CJf0x0nne"
      },
      "execution_count": 7,
      "outputs": []
    },
    {
      "cell_type": "code",
      "source": [
        "# 128 : batch-size\n",
        "# 1 : 흑백\n",
        "# 28x28 : pixel-size\n",
        "\n",
        "images128, labels128 = next(iter(train_loader128))\n",
        "images128.shape, labels128.shape"
      ],
      "metadata": {
        "id": "iy6D1Rg_07fD",
        "colab": {
          "base_uri": "https://localhost:8080/"
        },
        "outputId": "bfd08669-f52a-4fba-e675-779aef2de0c3"
      },
      "execution_count": 8,
      "outputs": [
        {
          "output_type": "execute_result",
          "data": {
            "text/plain": [
              "(torch.Size([128, 1, 28, 28]), torch.Size([128]))"
            ]
          },
          "metadata": {},
          "execution_count": 8
        }
      ]
    },
    {
      "cell_type": "code",
      "source": [
        "# 64 : batch-size\n",
        "# 1 : 흑백\n",
        "# 28x28 : pixel-size\n",
        "\n",
        "images64, labels64 = next(iter(train_loader64))\n",
        "images64.shape, labels64.shape"
      ],
      "metadata": {
        "colab": {
          "base_uri": "https://localhost:8080/"
        },
        "id": "AotS6123m9sK",
        "outputId": "31d35010-67eb-4092-ad5e-d0ed30ca6a65"
      },
      "execution_count": 9,
      "outputs": [
        {
          "output_type": "execute_result",
          "data": {
            "text/plain": [
              "(torch.Size([64, 1, 28, 28]), torch.Size([64]))"
            ]
          },
          "metadata": {},
          "execution_count": 9
        }
      ]
    },
    {
      "cell_type": "code",
      "source": [
        "# 숫자 label에 해당되는 값\n",
        "\n",
        "labels_map = {\n",
        "    0: 'T-Shirt',\n",
        "    1: 'Trouser',\n",
        "    2: 'Pullover',\n",
        "    3: 'Dress',\n",
        "    4: 'Coat',\n",
        "    5: 'Sandal',\n",
        "    6: 'Shirt',\n",
        "    7: 'Sneaker',\n",
        "    8: 'Bag',\n",
        "    9: 'Ankle Boot'\n",
        "}"
      ],
      "metadata": {
        "id": "g4Nd4uLGTEDy"
      },
      "execution_count": 10,
      "outputs": []
    },
    {
      "cell_type": "code",
      "source": [
        "# 데이터 확인\n",
        "\n",
        "figure = plt.figure(figsize=(12,12))\n",
        "cols, rows = 4, 1\n",
        "\n",
        "for i in range(1, cols * rows + 1):\n",
        "    image = images128[i].squeeze()\n",
        "    label_idx = labels128[i].item() # y_label\n",
        "    label = labels_map[label_idx] # 위에서 해당되는 label\n",
        "\n",
        "    figure.add_subplot(rows, cols, i)\n",
        "    plt.title(label)\n",
        "    plt.axis('off')\n",
        "    plt.imshow(image, cmap='gray')\n",
        "\n",
        "plt.show()"
      ],
      "metadata": {
        "id": "_u5_UEAH09SB",
        "colab": {
          "base_uri": "https://localhost:8080/",
          "height": 191
        },
        "outputId": "febd9aee-c98b-4845-c089-ccf70e9faa89"
      },
      "execution_count": 11,
      "outputs": [
        {
          "output_type": "display_data",
          "data": {
            "text/plain": [
              "<Figure size 864x864 with 4 Axes>"
            ],
            "image/png": "[encoded data removed]"
          },
          "metadata": {}
        }
      ]
    },
    {
      "cell_type": "markdown",
      "source": [
        "## 모델 1 생성\n",
        "* 10개의 convolution-layer(Conv2d)와 2개의 fully-connected(fc)로 이루어진 모델\n",
        "* Total params: 28,784"
      ],
      "metadata": {
        "id": "EFPYE3UUnpmX"
      }
    },
    {
      "cell_type": "markdown",
      "source": [
        "input-data size\n",
        "* train_loader128(batch-size;128) : 128, 1, 28, 28\n",
        "* train_loader64(batch-size;64) : 64, 1, 28, 28\n",
        "\n",
        "\n",
        "구현해야하는 모델 정보<br>\n",
        "* convolution-layer 1\n",
        "* maxpooling-layer\n",
        "* convolution-layer 2\n",
        "* convolution-layer 3\n",
        "* convolution-layer 4\n",
        "* convolution-layer 5\n",
        "* convolution-layer 6\n",
        "* convolution-layer 7\n",
        "* convolution-layer 8\n",
        "* convolution-layer 9\n",
        "* maxpooling-layer\n",
        "* convolution-layer 10\n",
        "* flatten\n",
        "* fc1\n",
        "* fc2\n",
        "\n",
        "추가 정보\n",
        "* 활성화함수 : relu\n",
        "(단, maxpooling과 마지막 fc2에는 보통적으로 활성화함수를 사용하지 않는다.)\n",
        "* flatten의 경우, weights가 들어가지 않는다. 즉, layer라고는 볼 수 없다.\n",
        "\n",
        "모델의 layer를 통과함에 따라 데이터의 크기 변화는 다음과 같다.\n",
        "1. batch-size128 -> torch.Size([128, 1, 28, 28]) 으로 시작\n",
        "2. batch-size;64 -> torch.Size([64, 1, 28, 28]) 으로 시작\n",
        "> * torch.Size([128 or 64, 5, 30, 30])\n",
        "> * torch.Size([128 or 64, 5, 15, 15])\n",
        "> * torch.Size([128 or 64, 7, 15, 15])\n",
        "> * torch.Size([128 or 64, 16, 16, 16])\n",
        "> * torch.Size([128 or 64, 19, 15, 15])\n",
        "> * torch.Size([128 or 64, 29, 13, 13])\n",
        "> * torch.Size([128 or 64, 29, 14, 14])\n",
        "> * torch.Size([128 or 64, 6, 12, 12])\n",
        "> * torch.Size([128 or 64, 2, 12, 12])\n",
        "> * torch.Size([128 or 64, 10, 7, 7])\n",
        "> * torch.Size([128 or 64, 20, 7, 7])\n",
        "> * torch.Size([128 or 64, 20, 3, 3])\n",
        "> * torch.Size([128 or 64, 180])\n",
        "> * torch.Size([128 or 64, 86])\n",
        "> * torch.Size([128 or 64, 10]) "
      ],
      "metadata": {
        "id": "orF-z9choFaB"
      }
    },
    {
      "cell_type": "code",
      "source": [
        "class CNN_Model1(nn.Module):\n",
        "    def __init__(self):\n",
        "        super(CNN_Model1, self).__init__()\n",
        "\n",
        "\n",
        "\n",
        "        self.conv1 = nn.Conv2d(in_channels=1, out_channels=5, kernel_size=3, stride=1, padding=2)\n",
        "        # in-channels = 1 <- 흑/백\n",
        "        # out-channels = 5\n",
        "        # kernel_size / filter-size = 3\n",
        "        # stride = 1(default) -> s=1\n",
        "        # padding = 2(default) -> p=2\n",
        "        # input-data pixel size = 28x28 -> n=28\n",
        "        # (n-f+2p)/s + 1 = new n\n",
        "        # (28-3+2x2)/1 + 1 = 30\n",
        "    \n",
        "        # maxpool : n=30 -> 15\n",
        "\n",
        "        self.conv2 = nn.Conv2d(in_channels=5, out_channels=7, kernel_size=3, stride=1, padding=1)\n",
        "        # in-channels = 5 <- 이전것의 out-channels\n",
        "        # out-channels = 7\n",
        "        # filter-size = 3\n",
        "        # stride = 1(default)\n",
        "        # padding = 1\n",
        "        # (n-f+2p)/s + 1 = new n    \n",
        "        # (15-3+2x1)/1 + 1 = 15\n",
        "\n",
        "        self.conv3 = nn.Conv2d(in_channels=7 , out_channels=16 , kernel_size=2 , stride=1 , padding=1 )\n",
        "        # in-channels = 7 <- 이전것의 out-channels\n",
        "        # out-channels = 16\n",
        "        # filter-size = 2\n",
        "        # stride = 1(default)\n",
        "        # padding = 1\n",
        "        # (n-f+2p)/s + 1 = new n    \n",
        "        # (15-2+2x1)/1 + 1 = 16\n",
        "\n",
        "        self.conv4 = nn.Conv2d(in_channels=16 , out_channels=19 , kernel_size=2 , stride=1 , padding=0 )\n",
        "        # in-channels = 16 <- 이전것의 out-channels\n",
        "        # out-channels = 19\n",
        "        # filter-size = 2\n",
        "        # stride = 1(default)\n",
        "        # padding = 0\n",
        "        # (n-f+2p)/s + 1 = new n    \n",
        "        # (16-2+2x0)/1 + 1 = 15\n",
        "\n",
        "        self.conv5 = nn.Conv2d(in_channels=19 , out_channels=29 , kernel_size=3 , stride=1 , padding=0 )\n",
        "        # in-channels = 19 <- 이전것의 out-channels\n",
        "        # out-channels = 29\n",
        "        # filter-size = 3\n",
        "        # stride = 1(default)\n",
        "        # padding = 0\n",
        "        # (n-f+2p)/s + 1 = new n    \n",
        "        # (15-3+2x0)/1 + 1 = 13\n",
        "\n",
        "        self.conv6 = nn.Conv2d(in_channels=29 , out_channels=29 , kernel_size=2 , stride=1 , padding=1 )\n",
        "        # in-channels = 29 <- 이전것의 out-channels\n",
        "        # out-channels = 29\n",
        "        # filter-size = 2\n",
        "        # stride = 1(default)\n",
        "        # padding = 1\n",
        "        # (n-f+2p)/s + 1 = new n    \n",
        "        # (13-2+2x1)/1 + 1 = 14\n",
        "\n",
        "        self.conv7 = nn.Conv2d(in_channels=29 , out_channels=6 , kernel_size=3 , stride=1 , padding=0 )\n",
        "        # in-channels = 29 <- 이전것의 out-channels\n",
        "        # out-channels = 6\n",
        "        # filter-size = 2\n",
        "        # stride = 1(default)\n",
        "        # padding = 1\n",
        "        # (n-f+2p)/s + 1 = new n    \n",
        "        # (14-3+2x0)/1 + 1 = 12\n",
        "\n",
        "        self.conv8 = nn.Conv2d(in_channels=6 , out_channels=2 , kernel_size=1 , stride=1 , padding=0 )\n",
        "        # in-channels = 6 <- 이전것의 out-channels\n",
        "        # out-channels = 2\n",
        "        # filter-size = 1\n",
        "        # stride = 1(default)\n",
        "        # padding = 0\n",
        "        # (n-f+2p)/s + 1 = new n    \n",
        "        # (12-1+2x0)/1 + 1 = 12\n",
        "\n",
        "        self.conv9 = nn.Conv2d(in_channels=2 , out_channels=10 , kernel_size=2 , stride=2 , padding=1 )\n",
        "        # in-channels = 2 <- 이전것의 out-channels\n",
        "        # out-channels = 10\n",
        "        # filter-size = 2\n",
        "        # stride = 2\n",
        "        # padding = 1\n",
        "        # (n-f+2p)/s + 1 = new n    \n",
        "        # (12-2+2x1)/2 + 1 = 7\n",
        "\n",
        "        # # maxpool : n=7 -> 3\n",
        "        # 참고\n",
        "        # MaxPooling2D 에 padding 이라는 옵션이 있습니다.\n",
        "        # 기본값은 \"valid\" 인데요. padding 값이 \"valid\" 인 경우에는 끝에 남는 모서리 부분이 pool_size 와 맞지 않을 경우 그냥 무시합니다.\n",
        "        # padding 값을 \"same\" 으로 설정하면, zero padding 을 추가하여 사이즈를 맞춘 뒤 처리를 하게 됩니다.\n",
        "\n",
        "        self.conv10 = nn.Conv2d(in_channels=10 , out_channels=20 , kernel_size=1 , stride=1 , padding=0 )\n",
        "        # in-channels = 10 <- 이전것의 out-channels\n",
        "        # out-channels = 20\n",
        "        # filter-size = 1\n",
        "        # stride = 1\n",
        "        # padding = 1\n",
        "        # (n-f+2p)/s + 1 = new n    \n",
        "        # (3-1+2x0)/1 + 1 = 3\n",
        "\n",
        "        self.fc1 = nn.Linear(20*3*3, 86)\n",
        "        self.fc2 = nn.Linear(86, 10)\n",
        "\n",
        "    def forward(self, x):\n",
        "       \n",
        "        x = F.relu(self.conv1(x))\n",
        "        x = F.max_pool2d(x, 2)\n",
        "        x = F.relu(self.conv2(x))\n",
        "        x = F.relu(self.conv3(x))\n",
        "        x = F.relu(self.conv4(x))\n",
        "        x = F.relu(self.conv5(x))\n",
        "        x = F.relu(self.conv6(x))\n",
        "        x = F.relu(self.conv7(x))\n",
        "        x = F.relu(self.conv8(x))\n",
        "        x = F.relu(self.conv9(x))\n",
        "        x = F.max_pool2d(x, 2)\n",
        "        x = F.relu(self.conv10(x))\n",
        "\n",
        "        x = x.view(-1, self.num_flat_features(x)) # num_flat_features : 아래에서 정의\n",
        "\n",
        "        x = F.relu(self.fc1(x))\n",
        "        x = self.fc2(x)\n",
        "\n",
        "        return x\n",
        "    \n",
        "    def num_flat_features(self, x): # 처음 dim-size을 제외하고, 모두 곱한 값을 반환해준다.\n",
        "        size = x.size()[1:]\n",
        "        num_features = 1\n",
        "        for s in size:\n",
        "            num_features *= s\n",
        "        \n",
        "        return num_features"
      ],
      "metadata": {
        "id": "EedVZU7Knv0X"
      },
      "execution_count": 36,
      "outputs": []
    },
    {
      "cell_type": "code",
      "source": [
        "# 모델객체 생성\n",
        "DeepConv_net128 = CNN_Model1().to(device)\n",
        "DeepConv_net64 = CNN_Model1().to(device)\n",
        "\n",
        "print(DeepConv_net128)"
      ],
      "metadata": {
        "colab": {
          "base_uri": "https://localhost:8080/"
        },
        "id": "RiMZ7sX6oDn3",
        "outputId": "e8eafcd5-582d-41d3-db40-4a11ccb97868"
      },
      "execution_count": 37,
      "outputs": [
        {
          "output_type": "stream",
          "name": "stdout",
          "text": [
            "CNN_Model1(\n",
            "  (conv1): Conv2d(1, 5, kernel_size=(3, 3), stride=(1, 1), padding=(2, 2))\n",
            "  (conv2): Conv2d(5, 7, kernel_size=(3, 3), stride=(1, 1), padding=(1, 1))\n",
            "  (conv3): Conv2d(7, 16, kernel_size=(2, 2), stride=(1, 1), padding=(1, 1))\n",
            "  (conv4): Conv2d(16, 19, kernel_size=(2, 2), stride=(1, 1))\n",
            "  (conv5): Conv2d(19, 29, kernel_size=(3, 3), stride=(1, 1))\n",
            "  (conv6): Conv2d(29, 29, kernel_size=(2, 2), stride=(1, 1), padding=(1, 1))\n",
            "  (conv7): Conv2d(29, 6, kernel_size=(3, 3), stride=(1, 1))\n",
            "  (conv8): Conv2d(6, 2, kernel_size=(1, 1), stride=(1, 1))\n",
            "  (conv9): Conv2d(2, 10, kernel_size=(2, 2), stride=(2, 2), padding=(1, 1))\n",
            "  (conv10): Conv2d(10, 20, kernel_size=(1, 1), stride=(1, 1))\n",
            "  (fc1): Linear(in_features=180, out_features=86, bias=True)\n",
            "  (fc2): Linear(in_features=86, out_features=10, bias=True)\n",
            ")\n"
          ]
        }
      ]
    },
    {
      "cell_type": "code",
      "source": [
        "input = images128.to(device)\n",
        "input.size()"
      ],
      "metadata": {
        "colab": {
          "base_uri": "https://localhost:8080/"
        },
        "id": "8gBjDmoc7fJh",
        "outputId": "4418479c-8753-43bf-ac6c-3806301a8430"
      },
      "execution_count": 38,
      "outputs": [
        {
          "output_type": "execute_result",
          "data": {
            "text/plain": [
              "torch.Size([128, 1, 28, 28])"
            ]
          },
          "metadata": {},
          "execution_count": 38
        }
      ]
    },
    {
      "cell_type": "code",
      "source": [
        "output = DeepConv_net128.forward(input)\n",
        "output.size()"
      ],
      "metadata": {
        "colab": {
          "base_uri": "https://localhost:8080/"
        },
        "id": "vD4X9PX7gcbM",
        "outputId": "26b8c0da-ec74-43d7-9703-009e169f9c05"
      },
      "execution_count": 39,
      "outputs": [
        {
          "output_type": "execute_result",
          "data": {
            "text/plain": [
              "torch.Size([128, 10])"
            ]
          },
          "metadata": {},
          "execution_count": 39
        }
      ]
    },
    {
      "cell_type": "code",
      "source": [
        "summary(DeepConv_net128, input_size=(1, 28, 28), batch_size=128)"
      ],
      "metadata": {
        "colab": {
          "base_uri": "https://localhost:8080/"
        },
        "id": "DSH3qCADujAi",
        "outputId": "0bf8fffe-26fb-49a9-93cb-7f167865efa3"
      },
      "execution_count": 42,
      "outputs": [
        {
          "output_type": "stream",
          "name": "stdout",
          "text": [
            "----------------------------------------------------------------\n",
            "        Layer (type)               Output Shape         Param #\n",
            "================================================================\n",
            "            Conv2d-1           [128, 5, 30, 30]              50\n",
            "            Conv2d-2           [128, 7, 15, 15]             322\n",
            "            Conv2d-3          [128, 16, 16, 16]             464\n",
            "            Conv2d-4          [128, 19, 15, 15]           1,235\n",
            "            Conv2d-5          [128, 29, 13, 13]           4,988\n",
            "            Conv2d-6          [128, 29, 14, 14]           3,393\n",
            "            Conv2d-7           [128, 6, 12, 12]           1,572\n",
            "            Conv2d-8           [128, 2, 12, 12]              14\n",
            "            Conv2d-9            [128, 10, 7, 7]              90\n",
            "           Conv2d-10            [128, 20, 3, 3]             220\n",
            "           Linear-11                  [128, 86]          15,566\n",
            "           Linear-12                  [128, 10]             870\n",
            "================================================================\n",
            "Total params: 28,784\n",
            "Trainable params: 28,784\n",
            "Non-trainable params: 0\n",
            "----------------------------------------------------------------\n",
            "Input size (MB): 0.38\n",
            "Forward/backward pass size (MB): 26.32\n",
            "Params size (MB): 0.11\n",
            "Estimated Total Size (MB): 26.81\n",
            "----------------------------------------------------------------\n"
          ]
        }
      ]
    },
    {
      "cell_type": "code",
      "source": [
        "input = images64.to(device)\n",
        "input.size()"
      ],
      "metadata": {
        "colab": {
          "base_uri": "https://localhost:8080/"
        },
        "outputId": "fd751ea9-1490-403b-aa3d-7df232abfd73",
        "id": "jcybKk5Nvj4Z"
      },
      "execution_count": 43,
      "outputs": [
        {
          "output_type": "execute_result",
          "data": {
            "text/plain": [
              "torch.Size([64, 1, 28, 28])"
            ]
          },
          "metadata": {},
          "execution_count": 43
        }
      ]
    },
    {
      "cell_type": "code",
      "source": [
        "output = DeepConv_net64.forward(input)\n",
        "output.size()"
      ],
      "metadata": {
        "colab": {
          "base_uri": "https://localhost:8080/"
        },
        "outputId": "5f163096-ea37-4628-b9dd-49357a3da9f7",
        "id": "y2PZCHyyvj4a"
      },
      "execution_count": 44,
      "outputs": [
        {
          "output_type": "execute_result",
          "data": {
            "text/plain": [
              "torch.Size([64, 10])"
            ]
          },
          "metadata": {},
          "execution_count": 44
        }
      ]
    },
    {
      "cell_type": "code",
      "source": [
        "summary(DeepConv_net64, input_size=(1, 28, 28), batch_size=64)"
      ],
      "metadata": {
        "colab": {
          "base_uri": "https://localhost:8080/"
        },
        "id": "uh1pmRXcvZP8",
        "outputId": "fd09d7e8-a231-4ef3-b65d-fa149851a573"
      },
      "execution_count": 45,
      "outputs": [
        {
          "output_type": "stream",
          "name": "stdout",
          "text": [
            "----------------------------------------------------------------\n",
            "        Layer (type)               Output Shape         Param #\n",
            "================================================================\n",
            "            Conv2d-1            [64, 5, 30, 30]              50\n",
            "            Conv2d-2            [64, 7, 15, 15]             322\n",
            "            Conv2d-3           [64, 16, 16, 16]             464\n",
            "            Conv2d-4           [64, 19, 15, 15]           1,235\n",
            "            Conv2d-5           [64, 29, 13, 13]           4,988\n",
            "            Conv2d-6           [64, 29, 14, 14]           3,393\n",
            "            Conv2d-7            [64, 6, 12, 12]           1,572\n",
            "            Conv2d-8            [64, 2, 12, 12]              14\n",
            "            Conv2d-9             [64, 10, 7, 7]              90\n",
            "           Conv2d-10             [64, 20, 3, 3]             220\n",
            "           Linear-11                   [64, 86]          15,566\n",
            "           Linear-12                   [64, 10]             870\n",
            "================================================================\n",
            "Total params: 28,784\n",
            "Trainable params: 28,784\n",
            "Non-trainable params: 0\n",
            "----------------------------------------------------------------\n",
            "Input size (MB): 0.19\n",
            "Forward/backward pass size (MB): 13.16\n",
            "Params size (MB): 0.11\n",
            "Estimated Total Size (MB): 13.46\n",
            "----------------------------------------------------------------\n"
          ]
        }
      ]
    },
    {
      "cell_type": "markdown",
      "source": [
        "## 모델 2 생성\n",
        "* 2개의 convolution-layer(Conv2d)와 5개의 fully-connected(fc)로 이루어진 모델\n",
        "* Total params: 9,516,488"
      ],
      "metadata": {
        "id": "xVxKI_rwCvhI"
      }
    },
    {
      "cell_type": "markdown",
      "source": [
        "input-data size\n",
        "* train_loader128(batch-size;128) : 128, 1, 28, 28\n",
        "* train_loader64(batch-size;64) : 64, 1, 28, 28\n",
        "\n",
        "\n",
        "구현해야하는 모델 정보<br>\n",
        "* convolution-layer 1\n",
        "* maxpooling-layer\n",
        "* convolution-layer 2\n",
        "* flatten\n",
        "* fc1\n",
        "* fc2\n",
        "* fc3\n",
        "* fc4\n",
        "* fc5\n",
        "\n",
        "추가 정보\n",
        "* 활성화함수 : relu\n",
        "(단, maxpooling과 마지막 fc5에는 보통적으로 활성화함수를 사용하지 않는다.)\n",
        "* flatten의 경우, weights가 들어가지 않는다. 즉, layer라고는 볼 수 없다.\n",
        "\n",
        "모델의 layer를 통과함에 따라 데이터의 크기 변화는 다음과 같다.\n",
        "\n",
        "1. batch-size128 -> torch.Size([128, 1, 28, 28]) 으로 시작\n",
        "2. batch-size;64 -> torch.Size([64, 1, 28, 28]) 으로 시작\n",
        "> * torch.Size([128 or 64, 5, 30, 30])\n",
        "> * torch.Size([128 or 64, 5, 15, 15])\n",
        "> * torch.Size([128 or 64, 7, 15, 15])\n",
        "> * torch.Size([128 or 64, 1575])\n",
        "> * torch.Size([128 or 64, 3000])\n",
        "> * torch.Size([128 or 64, 1500])\n",
        "> * torch.Size([128 or 64, 180])\n",
        "> * torch.Size([128 or 64, 86])\n",
        "> * torch.Size([128 or 64, 10])"
      ],
      "metadata": {
        "id": "uN5s0Re-CvhI"
      }
    },
    {
      "cell_type": "code",
      "source": [
        "class CNN_Model2(nn.Module):\n",
        "    def __init__(self):\n",
        "        super(CNN_Model2, self).__init__()\n",
        "\n",
        "        self.conv1 = nn.Conv2d(in_channels=1, out_channels=5, kernel_size=3, stride=1, padding=2)\n",
        "        # in-channels = 1 <- 이전것의 out-channels\n",
        "        # out-channels = 5\n",
        "        # filter-size = 3\n",
        "        # stride = 1\n",
        "        # padding = 2\n",
        "        # (n-f+2p)/s + 1 = new n    \n",
        "        # (28-3+2x2)/1 + 1 = 30\n",
        "\n",
        "        # maxpool : n=30 -> 15\n",
        "\n",
        "        self.conv2 = nn.Conv2d(in_channels=5, out_channels=7, kernel_size=3, stride=1, padding=1)\n",
        "        # in-channels = 5 <- 이전것의 out-channels\n",
        "        # out-channels = 7\n",
        "        # filter-size = 3\n",
        "        # stride = 1\n",
        "        # padding = 1\n",
        "        # (n-f+2p)/s + 1 = new n    \n",
        "        # (15-3+2x1)/1 + 1 = 15\n",
        "\n",
        "        self.fc1 = nn.Linear(7*15*15, 3000)\n",
        "        self.fc2 = nn.Linear(3000, 1500)\n",
        "        self.fc3 = nn.Linear(1500, 180)\n",
        "        self.fc4 = nn.Linear(180, 86)\n",
        "        self.fc5 = nn.Linear(86, 10)\n",
        "\n",
        "    def forward(self, x):\n",
        "        x = F.relu(self.conv1(x))\n",
        "        x = F.max_pool2d(x, 2)\n",
        "        x = F.relu(self.conv2(x))\n",
        "\n",
        "        x = x.view(-1, self.num_flat_features(x))\n",
        "\n",
        "        x = F.relu(self.fc1(x))\n",
        "        x = F.relu(self.fc2(x))\n",
        "        x = F.relu(self.fc3(x))\n",
        "        x = F.relu(self.fc4(x))\n",
        "        x = self.fc5(x)\n",
        "        return x\n",
        "    \n",
        "    def num_flat_features(self, x): # 처음 dim-size을 제외하고, 모두 곱한 값을 반환해준다.\n",
        "        size = x.size()[1:]\n",
        "        num_features = 1\n",
        "        for s in size:\n",
        "            num_features *= s\n",
        "        \n",
        "        return num_features"
      ],
      "metadata": {
        "id": "JfSM-k0DCvhI"
      },
      "execution_count": 46,
      "outputs": []
    },
    {
      "cell_type": "code",
      "source": [
        "# 모델객체 생성\n",
        "DeepFC_net128 = CNN_Model2().to(device)\n",
        "DeepFC_net64 = CNN_Model2().to(device)\n",
        "\n",
        "print(DeepFC_net128)"
      ],
      "metadata": {
        "colab": {
          "base_uri": "https://localhost:8080/"
        },
        "outputId": "76b6d7d1-b6e2-461b-a9fc-fc4f10032237",
        "id": "QQ_AnPi5CvhI"
      },
      "execution_count": 47,
      "outputs": [
        {
          "output_type": "stream",
          "name": "stdout",
          "text": [
            "CNN_Model2(\n",
            "  (conv1): Conv2d(1, 5, kernel_size=(3, 3), stride=(1, 1), padding=(2, 2))\n",
            "  (conv2): Conv2d(5, 7, kernel_size=(3, 3), stride=(1, 1), padding=(1, 1))\n",
            "  (fc1): Linear(in_features=1575, out_features=3000, bias=True)\n",
            "  (fc2): Linear(in_features=3000, out_features=1500, bias=True)\n",
            "  (fc3): Linear(in_features=1500, out_features=180, bias=True)\n",
            "  (fc4): Linear(in_features=180, out_features=86, bias=True)\n",
            "  (fc5): Linear(in_features=86, out_features=10, bias=True)\n",
            ")\n"
          ]
        }
      ]
    },
    {
      "cell_type": "code",
      "source": [
        "input = images128.to(device)\n",
        "input.size()"
      ],
      "metadata": {
        "colab": {
          "base_uri": "https://localhost:8080/"
        },
        "outputId": "6a8b95d5-1c34-454c-b6a0-3ed87bf1f157",
        "id": "S9IVOG3pwgoS"
      },
      "execution_count": 48,
      "outputs": [
        {
          "output_type": "execute_result",
          "data": {
            "text/plain": [
              "torch.Size([128, 1, 28, 28])"
            ]
          },
          "metadata": {},
          "execution_count": 48
        }
      ]
    },
    {
      "cell_type": "code",
      "source": [
        "output = DeepFC_net128.forward(input)\n",
        "output.size()"
      ],
      "metadata": {
        "colab": {
          "base_uri": "https://localhost:8080/"
        },
        "outputId": "34ef74ee-5aab-4dfd-f5cb-9cfedfce9049",
        "id": "p4ydm5qCwgoT"
      },
      "execution_count": 49,
      "outputs": [
        {
          "output_type": "execute_result",
          "data": {
            "text/plain": [
              "torch.Size([128, 10])"
            ]
          },
          "metadata": {},
          "execution_count": 49
        }
      ]
    },
    {
      "cell_type": "code",
      "source": [
        "summary(DeepFC_net128, input_size=(1, 28, 28), batch_size=128)"
      ],
      "metadata": {
        "colab": {
          "base_uri": "https://localhost:8080/"
        },
        "outputId": "08e59eb7-b7b6-4e6c-a6a7-af29e9b30e21",
        "id": "Q3uN6Dw6wgoT"
      },
      "execution_count": 50,
      "outputs": [
        {
          "output_type": "stream",
          "name": "stdout",
          "text": [
            "----------------------------------------------------------------\n",
            "        Layer (type)               Output Shape         Param #\n",
            "================================================================\n",
            "            Conv2d-1           [128, 5, 30, 30]              50\n",
            "            Conv2d-2           [128, 7, 15, 15]             322\n",
            "            Linear-3                [128, 3000]       4,728,000\n",
            "            Linear-4                [128, 1500]       4,501,500\n",
            "            Linear-5                 [128, 180]         270,180\n",
            "            Linear-6                  [128, 86]          15,566\n",
            "            Linear-7                  [128, 10]             870\n",
            "================================================================\n",
            "Total params: 9,516,488\n",
            "Trainable params: 9,516,488\n",
            "Non-trainable params: 0\n",
            "----------------------------------------------------------------\n",
            "Input size (MB): 0.38\n",
            "Forward/backward pass size (MB): 10.60\n",
            "Params size (MB): 36.30\n",
            "Estimated Total Size (MB): 47.28\n",
            "----------------------------------------------------------------\n"
          ]
        }
      ]
    },
    {
      "cell_type": "code",
      "source": [
        "input = images64.to(device)\n",
        "input.size()"
      ],
      "metadata": {
        "colab": {
          "base_uri": "https://localhost:8080/"
        },
        "outputId": "c607addf-52d4-401a-fb19-c343274cbda5",
        "id": "d9t36x7bwgoT"
      },
      "execution_count": 51,
      "outputs": [
        {
          "output_type": "execute_result",
          "data": {
            "text/plain": [
              "torch.Size([64, 1, 28, 28])"
            ]
          },
          "metadata": {},
          "execution_count": 51
        }
      ]
    },
    {
      "cell_type": "code",
      "source": [
        "output = DeepFC_net64.forward(input)\n",
        "output.size()"
      ],
      "metadata": {
        "colab": {
          "base_uri": "https://localhost:8080/"
        },
        "outputId": "a555a7ce-66f8-4387-90d4-9797dbb2940b",
        "id": "GFHweMakwgoT"
      },
      "execution_count": 52,
      "outputs": [
        {
          "output_type": "execute_result",
          "data": {
            "text/plain": [
              "torch.Size([64, 10])"
            ]
          },
          "metadata": {},
          "execution_count": 52
        }
      ]
    },
    {
      "cell_type": "code",
      "source": [
        "summary(DeepFC_net64, input_size=(1, 28, 28), batch_size=64)"
      ],
      "metadata": {
        "colab": {
          "base_uri": "https://localhost:8080/"
        },
        "outputId": "92751c7f-a260-485d-e605-75ae50cd84a0",
        "id": "2VIZ4WCCwgoT"
      },
      "execution_count": 53,
      "outputs": [
        {
          "output_type": "stream",
          "name": "stdout",
          "text": [
            "----------------------------------------------------------------\n",
            "        Layer (type)               Output Shape         Param #\n",
            "================================================================\n",
            "            Conv2d-1            [64, 5, 30, 30]              50\n",
            "            Conv2d-2            [64, 7, 15, 15]             322\n",
            "            Linear-3                 [64, 3000]       4,728,000\n",
            "            Linear-4                 [64, 1500]       4,501,500\n",
            "            Linear-5                  [64, 180]         270,180\n",
            "            Linear-6                   [64, 86]          15,566\n",
            "            Linear-7                   [64, 10]             870\n",
            "================================================================\n",
            "Total params: 9,516,488\n",
            "Trainable params: 9,516,488\n",
            "Non-trainable params: 0\n",
            "----------------------------------------------------------------\n",
            "Input size (MB): 0.19\n",
            "Forward/backward pass size (MB): 5.30\n",
            "Params size (MB): 36.30\n",
            "Estimated Total Size (MB): 41.79\n",
            "----------------------------------------------------------------\n"
          ]
        }
      ]
    },
    {
      "cell_type": "markdown",
      "source": [
        "## 손실함수와 옵티마이저"
      ],
      "metadata": {
        "id": "klpXGc2tCimP"
      }
    },
    {
      "cell_type": "code",
      "source": [
        "criterion = nn.CrossEntropyLoss()\n",
        "\n",
        "optimizerDC_128 = optim.SGD(DeepConv_net128.parameters(), lr=0.001, momentum=0.9)\n",
        "optimizerDC_64 = optim.SGD(DeepConv_net64.parameters(), lr=0.001, momentum=0.9)\n",
        "optimizerFC_128 = optim.SGD(DeepFC_net128.parameters(), lr=0.001, momentum=0.9)\n",
        "optimizerFC_64 = optim.SGD(DeepFC_net64.parameters(), lr=0.001, momentum=0.9)"
      ],
      "metadata": {
        "id": "69AHX-ZXClOm"
      },
      "execution_count": 54,
      "outputs": []
    },
    {
      "cell_type": "markdown",
      "source": [
        "## 모델 학습"
      ],
      "metadata": {
        "id": "huNh3EnhJLyh"
      }
    },
    {
      "cell_type": "markdown",
      "source": [
        "### 1. DeepConv_net128\n",
        "* 10개의 Convolution-layer & 2개의 fc-layer\n",
        "* 128 batch-size"
      ],
      "metadata": {
        "id": "W-2Q7c6-JW9z"
      }
    },
    {
      "cell_type": "code",
      "source": [
        "for epoch in range(10):\n",
        "\n",
        "    running_loss = 0.0\n",
        "\n",
        "    for i, data in enumerate(train_loader128, start=0):\n",
        "        inputs, labels = data[0].to(device), data[1].to(device)\n",
        "\n",
        "        optimizerDC_128.zero_grad() # epoch마다 gradient 0으로 초기화\n",
        "\n",
        "        outputs = DeepConv_net128(inputs) # y_pred = f(X)\n",
        "        loss = criterion(outputs, labels) # CrossEntropyLoss; 0~1 사이값\n",
        "        loss.backward() # back-propagation; gradient 계산\n",
        "        optimizerDC_128.step() # parameters(weights) update\n",
        "\n",
        "        running_loss += loss.item() # 그냥 전체적인 비교를 위해 누적함\n",
        "\n",
        "        if i % 100 == 99: # 100번 마다 확인; epoch=10, iter(=i)=469, batch=128\n",
        "            print('Epoch: {}, Iter: {}, Loss: {}'.format(epoch+1, i+1, running_loss/2000))\n",
        "            running_loss = 0.0"
      ],
      "metadata": {
        "colab": {
          "base_uri": "https://localhost:8080/"
        },
        "id": "y-_UvdNWJR-r",
        "outputId": "dbe2e8fd-b024-467b-b3dc-c960662ed51a"
      },
      "execution_count": 55,
      "outputs": [
        {
          "output_type": "stream",
          "name": "stdout",
          "text": [
            "Epoch: 1, Iter: 100, Loss: 0.1152985211610794\n",
            "Epoch: 1, Iter: 200, Loss: 0.11526042652130127\n",
            "Epoch: 1, Iter: 300, Loss: 0.11523290514945984\n",
            "Epoch: 1, Iter: 400, Loss: 0.11517453241348266\n",
            "Epoch: 2, Iter: 100, Loss: 0.1151630563735962\n",
            "Epoch: 2, Iter: 200, Loss: 0.11516719591617584\n",
            "Epoch: 2, Iter: 300, Loss: 0.11514472234249115\n",
            "Epoch: 2, Iter: 400, Loss: 0.11513712573051453\n",
            "Epoch: 3, Iter: 100, Loss: 0.11514241516590118\n",
            "Epoch: 3, Iter: 200, Loss: 0.11513638257980346\n",
            "Epoch: 3, Iter: 300, Loss: 0.11513541746139526\n",
            "Epoch: 3, Iter: 400, Loss: 0.11513261020183563\n",
            "Epoch: 4, Iter: 100, Loss: 0.11513325822353362\n",
            "Epoch: 4, Iter: 200, Loss: 0.11512816345691682\n",
            "Epoch: 4, Iter: 300, Loss: 0.11513588440418243\n",
            "Epoch: 4, Iter: 400, Loss: 0.11513440310955048\n",
            "Epoch: 5, Iter: 100, Loss: 0.11513040709495545\n",
            "Epoch: 5, Iter: 200, Loss: 0.11513266181945801\n",
            "Epoch: 5, Iter: 300, Loss: 0.11513151741027831\n",
            "Epoch: 5, Iter: 400, Loss: 0.11513415598869324\n",
            "Epoch: 6, Iter: 100, Loss: 0.11513102102279663\n",
            "Epoch: 6, Iter: 200, Loss: 0.11513177871704101\n",
            "Epoch: 6, Iter: 300, Loss: 0.1151288868188858\n",
            "Epoch: 6, Iter: 400, Loss: 0.1151345111131668\n",
            "Epoch: 7, Iter: 100, Loss: 0.11512917876243592\n",
            "Epoch: 7, Iter: 200, Loss: 0.11513340723514556\n",
            "Epoch: 7, Iter: 300, Loss: 0.11513312375545502\n",
            "Epoch: 7, Iter: 400, Loss: 0.11513109672069549\n",
            "Epoch: 8, Iter: 100, Loss: 0.11513105142116546\n",
            "Epoch: 8, Iter: 200, Loss: 0.11513102984428406\n",
            "Epoch: 8, Iter: 300, Loss: 0.11513232243061065\n",
            "Epoch: 8, Iter: 400, Loss: 0.11513148283958435\n",
            "Epoch: 9, Iter: 100, Loss: 0.11512866079807281\n",
            "Epoch: 9, Iter: 200, Loss: 0.11512749874591828\n",
            "Epoch: 9, Iter: 300, Loss: 0.11513416850566864\n",
            "Epoch: 9, Iter: 400, Loss: 0.11513456165790557\n",
            "Epoch: 10, Iter: 100, Loss: 0.11513006997108459\n",
            "Epoch: 10, Iter: 200, Loss: 0.11513305139541626\n",
            "Epoch: 10, Iter: 300, Loss: 0.11513189768791199\n",
            "Epoch: 10, Iter: 400, Loss: 0.11513117408752441\n"
          ]
        }
      ]
    },
    {
      "cell_type": "code",
      "source": [
        "for epoch in range(5):\n",
        "\n",
        "    running_loss = 0.0\n",
        "\n",
        "    for i, data in enumerate(train_loader128, start=0):\n",
        "        inputs, labels = data[0].to(device), data[1].to(device)\n",
        "\n",
        "        optimizerDC_128.zero_grad() # epoch마다 gradient 0으로 초기화\n",
        "\n",
        "        outputs = DeepConv_net128(inputs) # y_pred = f(X)\n",
        "        loss = criterion(outputs, labels) # CrossEntropyLoss; 0~1 사이값\n",
        "        loss.backward() # back-propagation; gradient 계산\n",
        "        optimizerDC_128.step() # parameters(weights) update\n",
        "\n",
        "        running_loss += loss.item() # 그냥 전체적인 비교를 위해 누적함\n",
        "\n",
        "        if i % 100 == 99: # 100번 마다 확인; epoch=10, iter(=i)=469, batch=128\n",
        "            print('Epoch: {}, Iter: {}, Loss: {}'.format(epoch+1, i+1, running_loss/2000))\n",
        "            running_loss = 0.0"
      ],
      "metadata": {
        "colab": {
          "base_uri": "https://localhost:8080/"
        },
        "id": "dNa8-7SC5u2a",
        "outputId": "71d390e0-7420-4f31-ed21-fddd47a53fe5"
      },
      "execution_count": 56,
      "outputs": [
        {
          "output_type": "stream",
          "name": "stdout",
          "text": [
            "Epoch: 1, Iter: 100, Loss: 0.11513131308555603\n",
            "Epoch: 1, Iter: 200, Loss: 0.11513162052631379\n",
            "Epoch: 1, Iter: 300, Loss: 0.11512995088100433\n",
            "Epoch: 1, Iter: 400, Loss: 0.11513421833515167\n",
            "Epoch: 2, Iter: 100, Loss: 0.11512989282608033\n",
            "Epoch: 2, Iter: 200, Loss: 0.11512875235080719\n",
            "Epoch: 2, Iter: 300, Loss: 0.11513207542896271\n",
            "Epoch: 2, Iter: 400, Loss: 0.11513385057449341\n",
            "Epoch: 3, Iter: 100, Loss: 0.11513013124465943\n",
            "Epoch: 3, Iter: 200, Loss: 0.11513014364242553\n",
            "Epoch: 3, Iter: 300, Loss: 0.11513316011428833\n",
            "Epoch: 3, Iter: 400, Loss: 0.11513049018383026\n",
            "Epoch: 4, Iter: 100, Loss: 0.11512986207008362\n",
            "Epoch: 4, Iter: 200, Loss: 0.11513279509544373\n",
            "Epoch: 4, Iter: 300, Loss: 0.1151298966407776\n",
            "Epoch: 4, Iter: 400, Loss: 0.11513369703292847\n",
            "Epoch: 5, Iter: 100, Loss: 0.11512980926036835\n",
            "Epoch: 5, Iter: 200, Loss: 0.11513179230690003\n",
            "Epoch: 5, Iter: 300, Loss: 0.11513275945186616\n",
            "Epoch: 5, Iter: 400, Loss: 0.11513227260112763\n"
          ]
        }
      ]
    },
    {
      "cell_type": "markdown",
      "source": [
        "### 2. DeepConv_net64\n",
        "* 10개의 Convolution-layer & 2개의 fc-layer\n",
        "* 64 batch-size"
      ],
      "metadata": {
        "id": "FOUBE2UfKS6D"
      }
    },
    {
      "cell_type": "code",
      "source": [
        "for epoch in range(10):\n",
        "\n",
        "    running_loss = 0.0\n",
        "\n",
        "    for i, data in enumerate(train_loader64, start=0):\n",
        "        inputs, labels = data[0].to(device), data[1].to(device)\n",
        "\n",
        "        optimizerDC_64.zero_grad() # epoch마다 gradient 0으로 초기화\n",
        "\n",
        "        outputs = DeepConv_net64(inputs) # y_pred = f(X)\n",
        "        loss = criterion(outputs, labels) # CrossEntropyLoss; 0~1 사이값\n",
        "        loss.backward() # back-propagation; gradient 계산\n",
        "        optimizerDC_64.step() # parameters(weights) update\n",
        "\n",
        "        running_loss += loss.item() # 그냥 전체적인 비교를 위해 누적함\n",
        "\n",
        "        if i % 100 == 99: # 100번 마다 확인; epoch=10, iter(=i)=469, batch=64\n",
        "            print('Epoch: {}, Iter: {}, Loss: {}'.format(epoch+1, i+1, running_loss/2000))\n",
        "            running_loss = 0.0"
      ],
      "metadata": {
        "colab": {
          "base_uri": "https://localhost:8080/"
        },
        "id": "Q1znQlsWKS6D",
        "outputId": "319a0333-e761-46f3-d90e-f66b87b8df81"
      },
      "execution_count": 57,
      "outputs": [
        {
          "output_type": "stream",
          "name": "stdout",
          "text": [
            "Epoch: 1, Iter: 100, Loss: 0.11516699755191803\n",
            "Epoch: 1, Iter: 200, Loss: 0.1151903612613678\n",
            "Epoch: 1, Iter: 300, Loss: 0.1151550852060318\n",
            "Epoch: 1, Iter: 400, Loss: 0.11516975498199462\n",
            "Epoch: 1, Iter: 500, Loss: 0.11514536821842193\n",
            "Epoch: 1, Iter: 600, Loss: 0.11512256455421448\n",
            "Epoch: 1, Iter: 700, Loss: 0.11515903902053833\n",
            "Epoch: 1, Iter: 800, Loss: 0.11514771354198455\n",
            "Epoch: 1, Iter: 900, Loss: 0.11515102446079255\n",
            "Epoch: 2, Iter: 100, Loss: 0.11514347672462463\n",
            "Epoch: 2, Iter: 200, Loss: 0.11513646018505097\n",
            "Epoch: 2, Iter: 300, Loss: 0.11512812530994415\n",
            "Epoch: 2, Iter: 400, Loss: 0.11513531124591828\n",
            "Epoch: 2, Iter: 500, Loss: 0.11513284707069397\n",
            "Epoch: 2, Iter: 600, Loss: 0.11513309013843537\n",
            "Epoch: 2, Iter: 700, Loss: 0.11514014089107513\n",
            "Epoch: 2, Iter: 800, Loss: 0.11513419032096862\n",
            "Epoch: 2, Iter: 900, Loss: 0.11513523256778717\n",
            "Epoch: 3, Iter: 100, Loss: 0.1151315565109253\n",
            "Epoch: 3, Iter: 200, Loss: 0.11513695609569549\n",
            "Epoch: 3, Iter: 300, Loss: 0.1151245732307434\n",
            "Epoch: 3, Iter: 400, Loss: 0.11513588201999664\n",
            "Epoch: 3, Iter: 500, Loss: 0.11513760566711426\n",
            "Epoch: 3, Iter: 600, Loss: 0.11513745427131652\n",
            "Epoch: 3, Iter: 700, Loss: 0.1151441525220871\n",
            "Epoch: 3, Iter: 800, Loss: 0.11513567709922791\n",
            "Epoch: 3, Iter: 900, Loss: 0.11513219380378723\n",
            "Epoch: 4, Iter: 100, Loss: 0.11513111889362335\n",
            "Epoch: 4, Iter: 200, Loss: 0.11513713812828064\n",
            "Epoch: 4, Iter: 300, Loss: 0.11512850689888\n",
            "Epoch: 4, Iter: 400, Loss: 0.11513415956497193\n",
            "Epoch: 4, Iter: 500, Loss: 0.11513738071918488\n",
            "Epoch: 4, Iter: 600, Loss: 0.11513964402675629\n",
            "Epoch: 4, Iter: 700, Loss: 0.11513501846790314\n",
            "Epoch: 4, Iter: 800, Loss: 0.11513680958747864\n",
            "Epoch: 4, Iter: 900, Loss: 0.11513623011112213\n",
            "Epoch: 5, Iter: 100, Loss: 0.11513094699382782\n",
            "Epoch: 5, Iter: 200, Loss: 0.11513544940948486\n",
            "Epoch: 5, Iter: 300, Loss: 0.11513247489929199\n",
            "Epoch: 5, Iter: 400, Loss: 0.11513967287540436\n",
            "Epoch: 5, Iter: 500, Loss: 0.11513617920875549\n",
            "Epoch: 5, Iter: 600, Loss: 0.11512206089496613\n",
            "Epoch: 5, Iter: 700, Loss: 0.11513597726821899\n",
            "Epoch: 5, Iter: 800, Loss: 0.11514516341686248\n",
            "Epoch: 5, Iter: 900, Loss: 0.11513571512699128\n",
            "Epoch: 6, Iter: 100, Loss: 0.11513282215595246\n",
            "Epoch: 6, Iter: 200, Loss: 0.11513130235671996\n",
            "Epoch: 6, Iter: 300, Loss: 0.11513204836845398\n",
            "Epoch: 6, Iter: 400, Loss: 0.11513288390636445\n",
            "Epoch: 6, Iter: 500, Loss: 0.11513922071456908\n",
            "Epoch: 6, Iter: 600, Loss: 0.11513353431224824\n",
            "Epoch: 6, Iter: 700, Loss: 0.11513865232467652\n",
            "Epoch: 6, Iter: 800, Loss: 0.11513669633865356\n",
            "Epoch: 6, Iter: 900, Loss: 0.1151376212835312\n",
            "Epoch: 7, Iter: 100, Loss: 0.1151350507736206\n",
            "Epoch: 7, Iter: 200, Loss: 0.1151305878162384\n",
            "Epoch: 7, Iter: 300, Loss: 0.11513771367073058\n",
            "Epoch: 7, Iter: 400, Loss: 0.11513999891281128\n",
            "Epoch: 7, Iter: 500, Loss: 0.11513387048244476\n",
            "Epoch: 7, Iter: 600, Loss: 0.11513476359844207\n",
            "Epoch: 7, Iter: 700, Loss: 0.11513161206245423\n",
            "Epoch: 7, Iter: 800, Loss: 0.11513816297054291\n",
            "Epoch: 7, Iter: 900, Loss: 0.11513826072216034\n",
            "Epoch: 8, Iter: 100, Loss: 0.11512736713886261\n",
            "Epoch: 8, Iter: 200, Loss: 0.1151323812007904\n",
            "Epoch: 8, Iter: 300, Loss: 0.11514042317867279\n",
            "Epoch: 8, Iter: 400, Loss: 0.11513299477100372\n",
            "Epoch: 8, Iter: 500, Loss: 0.11513035070896149\n",
            "Epoch: 8, Iter: 600, Loss: 0.11514242911338807\n",
            "Epoch: 8, Iter: 700, Loss: 0.11513516557216644\n",
            "Epoch: 8, Iter: 800, Loss: 0.11513597249984742\n",
            "Epoch: 8, Iter: 900, Loss: 0.11513757407665252\n",
            "Epoch: 9, Iter: 100, Loss: 0.11513594436645508\n",
            "Epoch: 9, Iter: 200, Loss: 0.11513761162757874\n",
            "Epoch: 9, Iter: 300, Loss: 0.115129887342453\n",
            "Epoch: 9, Iter: 400, Loss: 0.11513352072238922\n",
            "Epoch: 9, Iter: 500, Loss: 0.11512745487689972\n",
            "Epoch: 9, Iter: 600, Loss: 0.11513349950313569\n",
            "Epoch: 9, Iter: 700, Loss: 0.11514124524593353\n",
            "Epoch: 9, Iter: 800, Loss: 0.11514001047611236\n",
            "Epoch: 9, Iter: 900, Loss: 0.11512877810001373\n",
            "Epoch: 10, Iter: 100, Loss: 0.11513120245933532\n",
            "Epoch: 10, Iter: 200, Loss: 0.11513484585285187\n",
            "Epoch: 10, Iter: 300, Loss: 0.11513762056827545\n",
            "Epoch: 10, Iter: 400, Loss: 0.11512652122974396\n",
            "Epoch: 10, Iter: 500, Loss: 0.11512320137023926\n",
            "Epoch: 10, Iter: 600, Loss: 0.11514420986175537\n",
            "Epoch: 10, Iter: 700, Loss: 0.1151392104625702\n",
            "Epoch: 10, Iter: 800, Loss: 0.11513470709323884\n",
            "Epoch: 10, Iter: 900, Loss: 0.11513966512680053\n"
          ]
        }
      ]
    },
    {
      "cell_type": "markdown",
      "source": [
        "### 3. DeepFC_net128\n",
        "* 2개의 Convolution-layer & 5개의 fc-layer\n",
        "* 128 batch-size"
      ],
      "metadata": {
        "id": "LaVvtEOvKUgJ"
      }
    },
    {
      "cell_type": "code",
      "source": [
        "for epoch in range(10):\n",
        "\n",
        "    running_loss = 0.0\n",
        "\n",
        "    for i, data in enumerate(train_loader128, start=0):\n",
        "        inputs, labels = data[0].to(device), data[1].to(device)\n",
        "\n",
        "        optimizerFC_128.zero_grad() # epoch마다 gradient 0으로 초기화\n",
        "\n",
        "        outputs = DeepFC_net128(inputs) # y_pred = f(X)\n",
        "        loss = criterion(outputs, labels) # CrossEntropyLoss; 0~1 사이값\n",
        "        loss.backward() # back-propagation; gradient 계산\n",
        "        optimizerFC_128.step() # parameters(weights) update\n",
        "\n",
        "        running_loss += loss.item() # 그냥 전체적인 비교를 위해 누적함\n",
        "\n",
        "        if i % 100 == 99: # 100번 마다 확인; epoch=10, iter(=i)=469, batch=128\n",
        "            print('Epoch: {}, Iter: {}, Loss: {}'.format(epoch+1, i+1, running_loss/2000))\n",
        "            running_loss = 0.0"
      ],
      "metadata": {
        "colab": {
          "base_uri": "https://localhost:8080/"
        },
        "id": "Dwh9TK_1KUgK",
        "outputId": "33d842a0-1314-4056-eaa6-ab19f39008c5"
      },
      "execution_count": 58,
      "outputs": [
        {
          "output_type": "stream",
          "name": "stdout",
          "text": [
            "Epoch: 1, Iter: 100, Loss: 0.11522072994709015\n",
            "Epoch: 1, Iter: 200, Loss: 0.11505744969844818\n",
            "Epoch: 1, Iter: 300, Loss: 0.1149467043876648\n",
            "Epoch: 1, Iter: 400, Loss: 0.11480098605155944\n",
            "Epoch: 2, Iter: 100, Loss: 0.11433263039588928\n",
            "Epoch: 2, Iter: 200, Loss: 0.11364042401313781\n",
            "Epoch: 2, Iter: 300, Loss: 0.11208013963699341\n",
            "Epoch: 2, Iter: 400, Loss: 0.10540127420425414\n",
            "Epoch: 3, Iter: 100, Loss: 0.05815810236334801\n",
            "Epoch: 3, Iter: 200, Loss: 0.04437147322297096\n",
            "Epoch: 3, Iter: 300, Loss: 0.03805302822589874\n",
            "Epoch: 3, Iter: 400, Loss: 0.03600218024849892\n",
            "Epoch: 4, Iter: 100, Loss: 0.032465782970190045\n",
            "Epoch: 4, Iter: 200, Loss: 0.031794414177536964\n",
            "Epoch: 4, Iter: 300, Loss: 0.0302855257242918\n",
            "Epoch: 4, Iter: 400, Loss: 0.029867206156253816\n",
            "Epoch: 5, Iter: 100, Loss: 0.02860247978568077\n",
            "Epoch: 5, Iter: 200, Loss: 0.02815578755736351\n",
            "Epoch: 5, Iter: 300, Loss: 0.028106746435165406\n",
            "Epoch: 5, Iter: 400, Loss: 0.027931166604161263\n",
            "Epoch: 6, Iter: 100, Loss: 0.026581333473324777\n",
            "Epoch: 6, Iter: 200, Loss: 0.026139143854379654\n",
            "Epoch: 6, Iter: 300, Loss: 0.026233954787254335\n",
            "Epoch: 6, Iter: 400, Loss: 0.025815390184521676\n",
            "Epoch: 7, Iter: 100, Loss: 0.02486126910150051\n",
            "Epoch: 7, Iter: 200, Loss: 0.023888285279273988\n",
            "Epoch: 7, Iter: 300, Loss: 0.024407383278012274\n",
            "Epoch: 7, Iter: 400, Loss: 0.024403498113155366\n",
            "Epoch: 8, Iter: 100, Loss: 0.023056583747267722\n",
            "Epoch: 8, Iter: 200, Loss: 0.022843339443206788\n",
            "Epoch: 8, Iter: 300, Loss: 0.02208251428604126\n",
            "Epoch: 8, Iter: 400, Loss: 0.022891080781817435\n",
            "Epoch: 9, Iter: 100, Loss: 0.021784176021814348\n",
            "Epoch: 9, Iter: 200, Loss: 0.021932091921567917\n",
            "Epoch: 9, Iter: 300, Loss: 0.021775821089744567\n",
            "Epoch: 9, Iter: 400, Loss: 0.022178134486079217\n",
            "Epoch: 10, Iter: 100, Loss: 0.020699243545532226\n",
            "Epoch: 10, Iter: 200, Loss: 0.021694542557001113\n",
            "Epoch: 10, Iter: 300, Loss: 0.020782082110643387\n",
            "Epoch: 10, Iter: 400, Loss: 0.020727231696248054\n"
          ]
        }
      ]
    },
    {
      "cell_type": "markdown",
      "source": [
        "### 4. DeepFC_net128\n",
        "* 2개의 Convolution-layer & 5개의 fc-layer\n",
        "* 64 batch-size"
      ],
      "metadata": {
        "id": "jRyyw49jKVhj"
      }
    },
    {
      "cell_type": "code",
      "source": [
        "for epoch in range(10):\n",
        "\n",
        "    running_loss = 0.0\n",
        "\n",
        "    for i, data in enumerate(train_loader64, start=0):\n",
        "        inputs, labels = data[0].to(device), data[1].to(device)\n",
        "\n",
        "        optimizerFC_64.zero_grad() # epoch마다 gradient 0으로 초기화\n",
        "\n",
        "        outputs = DeepFC_net64(inputs) # y_pred = f(X)\n",
        "        loss = criterion(outputs, labels) # CrossEntropyLoss; 0~1 사이값\n",
        "        loss.backward() # back-propagation; gradient 계산\n",
        "        optimizerFC_64.step() # parameters(weights) update\n",
        "\n",
        "        running_loss += loss.item() # 그냥 전체적인 비교를 위해 누적함\n",
        "\n",
        "        if i % 100 == 99: # 100번 마다 확인; epoch=10, iter(=i)=469, batch=64\n",
        "            print('Epoch: {}, Iter: {}, Loss: {}'.format(epoch+1, i+1, running_loss/2000))\n",
        "            running_loss = 0.0"
      ],
      "metadata": {
        "colab": {
          "base_uri": "https://localhost:8080/"
        },
        "id": "X3847V0dKVhk",
        "outputId": "ed9cd644-c64a-426c-c34e-8f118386c008"
      },
      "execution_count": 59,
      "outputs": [
        {
          "output_type": "stream",
          "name": "stdout",
          "text": [
            "Epoch: 1, Iter: 100, Loss: 0.11523037850856781\n",
            "Epoch: 1, Iter: 200, Loss: 0.11507994759082794\n",
            "Epoch: 1, Iter: 300, Loss: 0.11496160423755646\n",
            "Epoch: 1, Iter: 400, Loss: 0.11477411770820618\n",
            "Epoch: 1, Iter: 500, Loss: 0.11446841180324555\n",
            "Epoch: 1, Iter: 600, Loss: 0.1139243893623352\n",
            "Epoch: 1, Iter: 700, Loss: 0.11252259516716004\n",
            "Epoch: 1, Iter: 800, Loss: 0.10591437274217605\n",
            "Epoch: 1, Iter: 900, Loss: 0.07550087839365005\n",
            "Epoch: 2, Iter: 100, Loss: 0.04597771602869034\n",
            "Epoch: 2, Iter: 200, Loss: 0.039204606086015704\n",
            "Epoch: 2, Iter: 300, Loss: 0.037894160360097885\n",
            "Epoch: 2, Iter: 400, Loss: 0.034134649813175204\n",
            "Epoch: 2, Iter: 500, Loss: 0.03266601614654064\n",
            "Epoch: 2, Iter: 600, Loss: 0.032015054747462274\n",
            "Epoch: 2, Iter: 700, Loss: 0.03168132157623768\n",
            "Epoch: 2, Iter: 800, Loss: 0.031311695381999016\n",
            "Epoch: 2, Iter: 900, Loss: 0.030454842627048492\n",
            "Epoch: 3, Iter: 100, Loss: 0.02976535537838936\n",
            "Epoch: 3, Iter: 200, Loss: 0.028879251196980475\n",
            "Epoch: 3, Iter: 300, Loss: 0.0293627927005291\n",
            "Epoch: 3, Iter: 400, Loss: 0.027866379529237748\n",
            "Epoch: 3, Iter: 500, Loss: 0.027503441005945206\n",
            "Epoch: 3, Iter: 600, Loss: 0.027448734506964684\n",
            "Epoch: 3, Iter: 700, Loss: 0.026439299240708352\n",
            "Epoch: 3, Iter: 800, Loss: 0.026966675281524657\n",
            "Epoch: 3, Iter: 900, Loss: 0.0263660142570734\n",
            "Epoch: 4, Iter: 100, Loss: 0.02561669559776783\n",
            "Epoch: 4, Iter: 200, Loss: 0.025004539400339126\n",
            "Epoch: 4, Iter: 300, Loss: 0.02446111489832401\n",
            "Epoch: 4, Iter: 400, Loss: 0.025164727702736856\n",
            "Epoch: 4, Iter: 500, Loss: 0.025102067545056343\n",
            "Epoch: 4, Iter: 600, Loss: 0.024571027860045433\n",
            "Epoch: 4, Iter: 700, Loss: 0.02363262879103422\n",
            "Epoch: 4, Iter: 800, Loss: 0.0231519797667861\n",
            "Epoch: 4, Iter: 900, Loss: 0.02278174352645874\n",
            "Epoch: 5, Iter: 100, Loss: 0.02381865468621254\n",
            "Epoch: 5, Iter: 200, Loss: 0.022214930221438407\n",
            "Epoch: 5, Iter: 300, Loss: 0.022654595904052256\n",
            "Epoch: 5, Iter: 400, Loss: 0.022671344310045242\n",
            "Epoch: 5, Iter: 500, Loss: 0.0220247128456831\n",
            "Epoch: 5, Iter: 600, Loss: 0.023399776726961134\n",
            "Epoch: 5, Iter: 700, Loss: 0.020890432350337506\n",
            "Epoch: 5, Iter: 800, Loss: 0.020077065899968147\n",
            "Epoch: 5, Iter: 900, Loss: 0.021378390043973922\n",
            "Epoch: 6, Iter: 100, Loss: 0.02111283599585295\n",
            "Epoch: 6, Iter: 200, Loss: 0.0210621053352952\n",
            "Epoch: 6, Iter: 300, Loss: 0.020106485217809677\n",
            "Epoch: 6, Iter: 400, Loss: 0.021211124479770662\n",
            "Epoch: 6, Iter: 500, Loss: 0.01958362802118063\n",
            "Epoch: 6, Iter: 600, Loss: 0.019400763228535654\n",
            "Epoch: 6, Iter: 700, Loss: 0.020585864514112474\n",
            "Epoch: 6, Iter: 800, Loss: 0.02036317764222622\n",
            "Epoch: 6, Iter: 900, Loss: 0.020027274250984193\n",
            "Epoch: 7, Iter: 100, Loss: 0.02025276295095682\n",
            "Epoch: 7, Iter: 200, Loss: 0.01950452996790409\n",
            "Epoch: 7, Iter: 300, Loss: 0.01893207099288702\n",
            "Epoch: 7, Iter: 400, Loss: 0.02011595979332924\n",
            "Epoch: 7, Iter: 500, Loss: 0.01889270456135273\n",
            "Epoch: 7, Iter: 600, Loss: 0.01842268719524145\n",
            "Epoch: 7, Iter: 700, Loss: 0.018159388072788715\n",
            "Epoch: 7, Iter: 800, Loss: 0.018983685560524464\n",
            "Epoch: 7, Iter: 900, Loss: 0.01890784476697445\n",
            "Epoch: 8, Iter: 100, Loss: 0.018547738321125506\n",
            "Epoch: 8, Iter: 200, Loss: 0.01834056110680103\n",
            "Epoch: 8, Iter: 300, Loss: 0.018571362130343914\n",
            "Epoch: 8, Iter: 400, Loss: 0.01773736545443535\n",
            "Epoch: 8, Iter: 500, Loss: 0.01795068198442459\n",
            "Epoch: 8, Iter: 600, Loss: 0.01855600593984127\n",
            "Epoch: 8, Iter: 700, Loss: 0.018742766916751863\n",
            "Epoch: 8, Iter: 800, Loss: 0.018659521669149397\n",
            "Epoch: 8, Iter: 900, Loss: 0.01792932979017496\n",
            "Epoch: 9, Iter: 100, Loss: 0.017722406700253487\n",
            "Epoch: 9, Iter: 200, Loss: 0.017420916974544527\n",
            "Epoch: 9, Iter: 300, Loss: 0.017463539086282252\n",
            "Epoch: 9, Iter: 400, Loss: 0.017758690554648637\n",
            "Epoch: 9, Iter: 500, Loss: 0.018011206664144994\n",
            "Epoch: 9, Iter: 600, Loss: 0.017478192768990992\n",
            "Epoch: 9, Iter: 700, Loss: 0.017563892103731632\n",
            "Epoch: 9, Iter: 800, Loss: 0.017258207462728024\n",
            "Epoch: 9, Iter: 900, Loss: 0.01695709992200136\n",
            "Epoch: 10, Iter: 100, Loss: 0.016267222106456758\n",
            "Epoch: 10, Iter: 200, Loss: 0.01671714647859335\n",
            "Epoch: 10, Iter: 300, Loss: 0.017073639534413813\n",
            "Epoch: 10, Iter: 400, Loss: 0.017151885583996773\n",
            "Epoch: 10, Iter: 500, Loss: 0.015833182841539385\n",
            "Epoch: 10, Iter: 600, Loss: 0.016921625196933746\n",
            "Epoch: 10, Iter: 700, Loss: 0.0164517929404974\n",
            "Epoch: 10, Iter: 800, Loss: 0.017742748700082304\n",
            "Epoch: 10, Iter: 900, Loss: 0.01643880657851696\n"
          ]
        }
      ]
    },
    {
      "cell_type": "markdown",
      "metadata": {
        "id": "5IecfHZiI09W"
      },
      "source": [
        "## 모델 테스트"
      ]
    },
    {
      "cell_type": "code",
      "source": [
        "# 전체 test 데이터에 대해서 성능 확인\n",
        "\n",
        "correct_list = [0]*4\n",
        "total_list = [0]*4\n",
        "a = -1\n",
        "\n",
        "model_list = {'DeepConv' : [DeepConv_net128, DeepConv_net64],\n",
        "              'DeepFC' : [DeepFC_net128, DeepFC_net64]}\n",
        "data_list = [test_loader128, test_loader64]\n",
        "\n",
        "with torch.no_grad(): # grad가 필요없다.\n",
        "\n",
        "    for key in model_list:\n",
        "        for idx in range(len(model_list[key])):\n",
        "            a += 1\n",
        "            model = model_list[key][idx]\n",
        "            data_loader = data_list[idx]\n",
        "            for data in data_loader:\n",
        "                images, labels = data[0].to(device), data[1].to(device)\n",
        "\n",
        "                outputs = model(images)\n",
        "                _, predicted = torch.max(outputs.data, 1)\n",
        "\n",
        "                total_list[a] += labels.size(0)\n",
        "                correct_list[a] += (predicted == labels).sum().item()\n",
        "            \n",
        "correct_rate = np.array(correct_list) / np.array(total_list)\n",
        "model_name = ['DeepConv_net128', 'DeepConv_net64', 'DeepFC_net128', 'DeepFC_net64']\n",
        "\n",
        "for i in range(len(correct_rate)):\n",
        "    print('{0} : {1}'.format(model_name[i], correct_rate[i]))"
      ],
      "metadata": {
        "colab": {
          "base_uri": "https://localhost:8080/"
        },
        "id": "VjVs_iS0rlof",
        "outputId": "4840a9d4-7413-4c4f-a5f1-5908bc86fba0"
      },
      "execution_count": 60,
      "outputs": [
        {
          "output_type": "stream",
          "name": "stdout",
          "text": [
            "DeepConv_net128 : 0.1\n",
            "DeepConv_net64 : 0.1\n",
            "DeepFC_net128 : 0.8264\n",
            "DeepFC_net64 : 0.8668\n"
          ]
        }
      ]
    },
    {
      "cell_type": "markdown",
      "source": [
        "# FashionMNIST 분류 모델 중 성능이 낮은 모델 이유 확인"
      ],
      "metadata": {
        "id": "SZcZQv4PGeYv"
      }
    },
    {
      "cell_type": "markdown",
      "source": [
        "## Convolution-layer를 하나씩 추가하면서, 성능변화를 관찰"
      ],
      "metadata": {
        "id": "V7HoLqroDhyF"
      }
    },
    {
      "cell_type": "markdown",
      "source": [
        "### 3개의 convolution-layer 사용시"
      ],
      "metadata": {
        "id": "_civVcIYBGxA"
      }
    },
    {
      "cell_type": "code",
      "source": [
        "class CNN_Model3(nn.Module):\n",
        "    def __init__(self):\n",
        "        super(CNN_Model3, self).__init__()\n",
        "\n",
        "        self.conv1 = nn.Conv2d(in_channels=1, out_channels=5, kernel_size=3, stride=1, padding=2)\n",
        "        self.conv2 = nn.Conv2d(5, 7, 3, padding=1)\n",
        "        self.conv3 = nn.Conv2d(7, 16, 2, padding=1)\n",
        "\n",
        "        self.fc1 = nn.Linear(16* 16 * 16, 3000)\n",
        "        self.fc2 = nn.Linear(3000, 1500)\n",
        "        self.fc3 = nn.Linear(1500, 20 * 3 * 3)\n",
        "        self.fc4 = nn.Linear(20 * 3 * 3, 86)\n",
        "        self.fc5 = nn.Linear(86, 10) # 10 : 10개의 category\n",
        "\n",
        "    def forward(self, x):\n",
        "        x = F.relu(self.conv1(x))\n",
        "        x = F.max_pool2d(x, (2,2))\n",
        "        x = F.relu(self.conv2(x))\n",
        "        x = F.relu(self.conv3(x))\n",
        "\n",
        "        x = x.view(-1, self.num_flat_features(x)) # num_flat_features : 아래에서 정의\n",
        "\n",
        "        x = F.relu(self.fc1(x))\n",
        "        x = F.relu(self.fc2(x))\n",
        "        x = F.relu(self.fc3(x))\n",
        "        x = F.relu(self.fc4(x))\n",
        "        x = self.fc5(x)\n",
        "\n",
        "        return x\n",
        "    \n",
        "    def num_flat_features(self, x): # 처음 dim-size을 제외하고, 모두 곱한 값을 반환해준다.\n",
        "        size = x.size()[1:]\n",
        "        num_features = 1\n",
        "        for s in size:\n",
        "            num_features *= s\n",
        "        \n",
        "        return num_features"
      ],
      "metadata": {
        "id": "29zvOdhT-fwY"
      },
      "execution_count": 61,
      "outputs": []
    },
    {
      "cell_type": "code",
      "source": [
        "# 모델객체 생성\n",
        "new_model = CNN_Model3().to(device)\n",
        "\n",
        "print(new_model)"
      ],
      "metadata": {
        "colab": {
          "base_uri": "https://localhost:8080/"
        },
        "outputId": "89dabe84-bbbb-4b00-e2da-1c411c892323",
        "id": "t81gXZmz-fwY"
      },
      "execution_count": 62,
      "outputs": [
        {
          "output_type": "stream",
          "name": "stdout",
          "text": [
            "CNN_Model3(\n",
            "  (conv1): Conv2d(1, 5, kernel_size=(3, 3), stride=(1, 1), padding=(2, 2))\n",
            "  (conv2): Conv2d(5, 7, kernel_size=(3, 3), stride=(1, 1), padding=(1, 1))\n",
            "  (conv3): Conv2d(7, 16, kernel_size=(2, 2), stride=(1, 1), padding=(1, 1))\n",
            "  (fc1): Linear(in_features=4096, out_features=3000, bias=True)\n",
            "  (fc2): Linear(in_features=3000, out_features=1500, bias=True)\n",
            "  (fc3): Linear(in_features=1500, out_features=180, bias=True)\n",
            "  (fc4): Linear(in_features=180, out_features=86, bias=True)\n",
            "  (fc5): Linear(in_features=86, out_features=10, bias=True)\n",
            ")\n"
          ]
        }
      ]
    },
    {
      "cell_type": "code",
      "source": [
        "summary(new_model, input_size=(1, 28, 28), batch_size=128)"
      ],
      "metadata": {
        "colab": {
          "base_uri": "https://localhost:8080/"
        },
        "id": "Bb2EkGUbBnuM",
        "outputId": "33dc83bc-3cf2-4cc3-d779-79b01af041da"
      },
      "execution_count": 63,
      "outputs": [
        {
          "output_type": "stream",
          "name": "stdout",
          "text": [
            "----------------------------------------------------------------\n",
            "        Layer (type)               Output Shape         Param #\n",
            "================================================================\n",
            "            Conv2d-1           [128, 5, 30, 30]              50\n",
            "            Conv2d-2           [128, 7, 15, 15]             322\n",
            "            Conv2d-3          [128, 16, 16, 16]             464\n",
            "            Linear-4                [128, 3000]      12,291,000\n",
            "            Linear-5                [128, 1500]       4,501,500\n",
            "            Linear-6                 [128, 180]         270,180\n",
            "            Linear-7                  [128, 86]          15,566\n",
            "            Linear-8                  [128, 10]             870\n",
            "================================================================\n",
            "Total params: 17,079,952\n",
            "Trainable params: 17,079,952\n",
            "Non-trainable params: 0\n",
            "----------------------------------------------------------------\n",
            "Input size (MB): 0.38\n",
            "Forward/backward pass size (MB): 14.60\n",
            "Params size (MB): 65.15\n",
            "Estimated Total Size (MB): 80.13\n",
            "----------------------------------------------------------------\n"
          ]
        }
      ]
    },
    {
      "cell_type": "code",
      "source": [
        "optimizer = optim.SGD(new_model.parameters(), lr=0.001, momentum=0.9)"
      ],
      "metadata": {
        "id": "aQDT4bYIBsZl"
      },
      "execution_count": 64,
      "outputs": []
    },
    {
      "cell_type": "code",
      "source": [
        "for epoch in range(10):\n",
        "\n",
        "    running_loss = 0.0\n",
        "\n",
        "    for i, data in enumerate(train_loader128, start=0):\n",
        "        inputs, labels = data[0].to(device), data[1].to(device)\n",
        "\n",
        "        optimizer.zero_grad() # epoch마다 gradient 0으로 초기화\n",
        "\n",
        "        outputs = new_model(inputs) # y_pred = f(X)\n",
        "        loss = criterion(outputs, labels) # CrossEntropyLoss; 0~1 사이값\n",
        "        loss.backward() # back-propagation; gradient 계산\n",
        "        optimizer.step() # parameters(weights) update\n",
        "\n",
        "        running_loss += loss.item() # 그냥 전체적인 비교를 위해 누적함\n",
        "\n",
        "        if i % 100 == 99: # 100번 마다 확인; epoch=10, iter(=i)=469, batch=128\n",
        "            print('Epoch: {}, Iter: {}, Loss: {}'.format(epoch+1, i+1, running_loss/2000))\n",
        "            running_loss = 0.0"
      ],
      "metadata": {
        "colab": {
          "base_uri": "https://localhost:8080/"
        },
        "id": "D6GqkR8nBwhH",
        "outputId": "73ca05ac-1b53-4a47-f0a5-0c8ae872bf27"
      },
      "execution_count": 65,
      "outputs": [
        {
          "output_type": "stream",
          "name": "stdout",
          "text": [
            "Epoch: 1, Iter: 100, Loss: 0.1152729115486145\n",
            "Epoch: 1, Iter: 200, Loss: 0.11516884469985962\n",
            "Epoch: 1, Iter: 300, Loss: 0.11518006789684296\n",
            "Epoch: 1, Iter: 400, Loss: 0.11518666052818298\n",
            "Epoch: 2, Iter: 100, Loss: 0.11510547518730163\n",
            "Epoch: 2, Iter: 200, Loss: 0.11510616505146026\n",
            "Epoch: 2, Iter: 300, Loss: 0.1150865125656128\n",
            "Epoch: 2, Iter: 400, Loss: 0.1150993069410324\n",
            "Epoch: 3, Iter: 100, Loss: 0.11505284488201141\n",
            "Epoch: 3, Iter: 200, Loss: 0.11503831470012665\n",
            "Epoch: 3, Iter: 300, Loss: 0.11500944674015046\n",
            "Epoch: 3, Iter: 400, Loss: 0.11499143922328948\n",
            "Epoch: 4, Iter: 100, Loss: 0.11494899678230286\n",
            "Epoch: 4, Iter: 200, Loss: 0.1149178603887558\n",
            "Epoch: 4, Iter: 300, Loss: 0.1148652673959732\n",
            "Epoch: 4, Iter: 400, Loss: 0.11480023038387299\n",
            "Epoch: 5, Iter: 100, Loss: 0.11463777577877045\n",
            "Epoch: 5, Iter: 200, Loss: 0.1144713487625122\n",
            "Epoch: 5, Iter: 300, Loss: 0.11421231639385224\n",
            "Epoch: 5, Iter: 400, Loss: 0.11371867048740388\n",
            "Epoch: 6, Iter: 100, Loss: 0.11093239879608155\n",
            "Epoch: 6, Iter: 200, Loss: 0.10007267737388612\n",
            "Epoch: 6, Iter: 300, Loss: 0.07058908051252365\n",
            "Epoch: 6, Iter: 400, Loss: 0.04906122627854347\n",
            "Epoch: 7, Iter: 100, Loss: 0.03935219779610634\n",
            "Epoch: 7, Iter: 200, Loss: 0.03567856845259666\n",
            "Epoch: 7, Iter: 300, Loss: 0.03393907538056374\n",
            "Epoch: 7, Iter: 400, Loss: 0.03279935142397881\n",
            "Epoch: 8, Iter: 100, Loss: 0.031141268596053123\n",
            "Epoch: 8, Iter: 200, Loss: 0.030283730104565622\n",
            "Epoch: 8, Iter: 300, Loss: 0.02953393666446209\n",
            "Epoch: 8, Iter: 400, Loss: 0.02900113379955292\n",
            "Epoch: 9, Iter: 100, Loss: 0.027932351022958754\n",
            "Epoch: 9, Iter: 200, Loss: 0.027668206423521042\n",
            "Epoch: 9, Iter: 300, Loss: 0.027143587559461592\n",
            "Epoch: 9, Iter: 400, Loss: 0.026447716221213342\n",
            "Epoch: 10, Iter: 100, Loss: 0.026333931609988214\n",
            "Epoch: 10, Iter: 200, Loss: 0.025592844203114508\n",
            "Epoch: 10, Iter: 300, Loss: 0.025506971076130865\n",
            "Epoch: 10, Iter: 400, Loss: 0.024451355844736098\n"
          ]
        }
      ]
    },
    {
      "cell_type": "code",
      "source": [
        "correct = 0\n",
        "total = 0\n",
        "\n",
        "with torch.no_grad():\n",
        "    for data in test_loader128:\n",
        "        images, labels = data[0].to(device), data[1].to(device)\n",
        "        outputs = new_model(images)\n",
        "        _, predicted = torch.max(outputs.data, axis=1)\n",
        "        total += labels.size(0)\n",
        "        correct += (predicted == labels).sum().item()\n",
        "    \n",
        "    print(100 * correct / total)"
      ],
      "metadata": {
        "colab": {
          "base_uri": "https://localhost:8080/"
        },
        "id": "1PDu2v9bB_NE",
        "outputId": "7b2ef56e-a545-4ba0-fc7d-844ca80ba416"
      },
      "execution_count": 66,
      "outputs": [
        {
          "output_type": "stream",
          "name": "stdout",
          "text": [
            "81.8\n"
          ]
        }
      ]
    },
    {
      "cell_type": "markdown",
      "source": [
        "### 4개의 convolution-layer 사용시"
      ],
      "metadata": {
        "id": "7Thu9NRyCV7j"
      }
    },
    {
      "cell_type": "code",
      "source": [
        "class CNN_Model4(nn.Module):\n",
        "    def __init__(self):\n",
        "        super(CNN_Model4, self).__init__()\n",
        "\n",
        "        self.conv1 = nn.Conv2d(in_channels=1, out_channels=5, kernel_size=3, stride=1, padding=2)\n",
        "        self.conv2 = nn.Conv2d(5, 7, 3, padding=1)\n",
        "        self.conv3 = nn.Conv2d(7, 16, 2, padding=1)\n",
        "        self.conv4 = nn.Conv2d(16, 19, 2)\n",
        "\n",
        "        self.fc1 = nn.Linear(15* 15 * 19, 3000)\n",
        "        self.fc2 = nn.Linear(3000, 1500)\n",
        "        self.fc3 = nn.Linear(1500, 20 * 3 * 3)\n",
        "        self.fc4 = nn.Linear(20 * 3 * 3, 86)\n",
        "        self.fc5 = nn.Linear(86, 10) # 10 : 10개의 category\n",
        "\n",
        "    def forward(self, x):\n",
        "        x = F.relu(self.conv1(x))\n",
        "        x = F.max_pool2d(x, (2,2))\n",
        "        x = F.relu(self.conv2(x))\n",
        "        x = F.relu(self.conv3(x))\n",
        "        x = F.relu(self.conv4(x))\n",
        "\n",
        "        x = x.view(-1, self.num_flat_features(x)) # num_flat_features : 아래에서 정의\n",
        "\n",
        "        x = F.relu(self.fc1(x))\n",
        "        x = F.relu(self.fc2(x))\n",
        "        x = F.relu(self.fc3(x))\n",
        "        x = F.relu(self.fc4(x))\n",
        "        x = self.fc5(x)\n",
        "\n",
        "        return x\n",
        "    \n",
        "    def num_flat_features(self, x): # 처음 dim-size을 제외하고, 모두 곱한 값을 반환해준다.\n",
        "        size = x.size()[1:]\n",
        "        num_features = 1\n",
        "        for s in size:\n",
        "            num_features *= s\n",
        "        \n",
        "        return num_features"
      ],
      "metadata": {
        "id": "V9PQvGFPCV7k"
      },
      "execution_count": 67,
      "outputs": []
    },
    {
      "cell_type": "code",
      "source": [
        "# 모델객체 생성\n",
        "new_model = CNN_Model4().to(device)\n",
        "\n",
        "print(new_model)"
      ],
      "metadata": {
        "colab": {
          "base_uri": "https://localhost:8080/"
        },
        "outputId": "2dbe6a89-5efb-4330-934d-fcc27b64579e",
        "id": "HNAL7SRZCV7k"
      },
      "execution_count": 68,
      "outputs": [
        {
          "output_type": "stream",
          "name": "stdout",
          "text": [
            "CNN_Model4(\n",
            "  (conv1): Conv2d(1, 5, kernel_size=(3, 3), stride=(1, 1), padding=(2, 2))\n",
            "  (conv2): Conv2d(5, 7, kernel_size=(3, 3), stride=(1, 1), padding=(1, 1))\n",
            "  (conv3): Conv2d(7, 16, kernel_size=(2, 2), stride=(1, 1), padding=(1, 1))\n",
            "  (conv4): Conv2d(16, 19, kernel_size=(2, 2), stride=(1, 1))\n",
            "  (fc1): Linear(in_features=4275, out_features=3000, bias=True)\n",
            "  (fc2): Linear(in_features=3000, out_features=1500, bias=True)\n",
            "  (fc3): Linear(in_features=1500, out_features=180, bias=True)\n",
            "  (fc4): Linear(in_features=180, out_features=86, bias=True)\n",
            "  (fc5): Linear(in_features=86, out_features=10, bias=True)\n",
            ")\n"
          ]
        }
      ]
    },
    {
      "cell_type": "code",
      "source": [
        "summary(new_model, input_size=(1, 28, 28), batch_size=128)"
      ],
      "metadata": {
        "colab": {
          "base_uri": "https://localhost:8080/"
        },
        "outputId": "57dac659-1d5c-4942-f6a4-7af5ff36f00c",
        "id": "fHmIarJBCV7k"
      },
      "execution_count": 69,
      "outputs": [
        {
          "output_type": "stream",
          "name": "stdout",
          "text": [
            "----------------------------------------------------------------\n",
            "        Layer (type)               Output Shape         Param #\n",
            "================================================================\n",
            "            Conv2d-1           [128, 5, 30, 30]              50\n",
            "            Conv2d-2           [128, 7, 15, 15]             322\n",
            "            Conv2d-3          [128, 16, 16, 16]             464\n",
            "            Conv2d-4          [128, 19, 15, 15]           1,235\n",
            "            Linear-5                [128, 3000]      12,828,000\n",
            "            Linear-6                [128, 1500]       4,501,500\n",
            "            Linear-7                 [128, 180]         270,180\n",
            "            Linear-8                  [128, 86]          15,566\n",
            "            Linear-9                  [128, 10]             870\n",
            "================================================================\n",
            "Total params: 17,618,187\n",
            "Trainable params: 17,618,187\n",
            "Non-trainable params: 0\n",
            "----------------------------------------------------------------\n",
            "Input size (MB): 0.38\n",
            "Forward/backward pass size (MB): 18.77\n",
            "Params size (MB): 67.21\n",
            "Estimated Total Size (MB): 86.36\n",
            "----------------------------------------------------------------\n"
          ]
        }
      ]
    },
    {
      "cell_type": "code",
      "source": [
        "optimizer = optim.SGD(new_model.parameters(), lr=0.001, momentum=0.9)"
      ],
      "metadata": {
        "id": "z6gegPTRCV7k"
      },
      "execution_count": 70,
      "outputs": []
    },
    {
      "cell_type": "code",
      "source": [
        "for epoch in range(10):\n",
        "\n",
        "    running_loss = 0.0\n",
        "\n",
        "    for i, data in enumerate(train_loader128, start=0):\n",
        "        inputs, labels = data[0].to(device), data[1].to(device)\n",
        "\n",
        "        optimizer.zero_grad() # epoch마다 gradient 0으로 초기화\n",
        "\n",
        "        outputs = new_model(inputs) # y_pred = f(X)\n",
        "        loss = criterion(outputs, labels) # CrossEntropyLoss; 0~1 사이값\n",
        "        loss.backward() # back-propagation; gradient 계산\n",
        "        optimizer.step() # parameters(weights) update\n",
        "\n",
        "        running_loss += loss.item() # 그냥 전체적인 비교를 위해 누적함\n",
        "\n",
        "        if i % 100 == 99: # 100번 마다 확인; epoch=10, iter(=i)=469, batch=128\n",
        "            print('Epoch: {}, Iter: {}, Loss: {}'.format(epoch+1, i+1, running_loss/2000))\n",
        "            running_loss = 0.0"
      ],
      "metadata": {
        "colab": {
          "base_uri": "https://localhost:8080/"
        },
        "outputId": "1527c44b-e111-488e-e4ca-d3e64b6f17dc",
        "id": "oeeKVQdKCV7k"
      },
      "execution_count": 71,
      "outputs": [
        {
          "output_type": "stream",
          "name": "stdout",
          "text": [
            "Epoch: 1, Iter: 100, Loss: 0.11517616677284241\n",
            "Epoch: 1, Iter: 200, Loss: 0.11516676318645477\n",
            "Epoch: 1, Iter: 300, Loss: 0.1151595014333725\n",
            "Epoch: 1, Iter: 400, Loss: 0.11512936651706696\n",
            "Epoch: 2, Iter: 100, Loss: 0.11510745573043824\n",
            "Epoch: 2, Iter: 200, Loss: 0.11511939358711243\n",
            "Epoch: 2, Iter: 300, Loss: 0.11510167741775512\n",
            "Epoch: 2, Iter: 400, Loss: 0.11510930371284485\n",
            "Epoch: 3, Iter: 100, Loss: 0.11508889877796173\n",
            "Epoch: 3, Iter: 200, Loss: 0.11508040714263916\n",
            "Epoch: 3, Iter: 300, Loss: 0.11508492434024811\n",
            "Epoch: 3, Iter: 400, Loss: 0.11507141780853271\n",
            "Epoch: 4, Iter: 100, Loss: 0.11505676460266114\n",
            "Epoch: 4, Iter: 200, Loss: 0.11504230511188507\n",
            "Epoch: 4, Iter: 300, Loss: 0.11503909254074096\n",
            "Epoch: 4, Iter: 400, Loss: 0.11502650308609008\n",
            "Epoch: 5, Iter: 100, Loss: 0.11499339771270752\n",
            "Epoch: 5, Iter: 200, Loss: 0.11497627997398377\n",
            "Epoch: 5, Iter: 300, Loss: 0.11496487295627594\n",
            "Epoch: 5, Iter: 400, Loss: 0.11493335247039795\n",
            "Epoch: 6, Iter: 100, Loss: 0.11486311435699463\n",
            "Epoch: 6, Iter: 200, Loss: 0.11481102764606475\n",
            "Epoch: 6, Iter: 300, Loss: 0.11474131548404694\n",
            "Epoch: 6, Iter: 400, Loss: 0.1146420259475708\n",
            "Epoch: 7, Iter: 100, Loss: 0.11435364031791687\n",
            "Epoch: 7, Iter: 200, Loss: 0.11406678116321564\n",
            "Epoch: 7, Iter: 300, Loss: 0.11350158429145812\n",
            "Epoch: 7, Iter: 400, Loss: 0.1123495329618454\n",
            "Epoch: 8, Iter: 100, Loss: 0.09043550771474838\n",
            "Epoch: 8, Iter: 200, Loss: 0.052337848395109174\n",
            "Epoch: 8, Iter: 300, Loss: 0.04234977775812149\n",
            "Epoch: 8, Iter: 400, Loss: 0.03755632522702217\n",
            "Epoch: 9, Iter: 100, Loss: 0.03291605013608932\n",
            "Epoch: 9, Iter: 200, Loss: 0.032383723735809326\n",
            "Epoch: 9, Iter: 300, Loss: 0.030803149655461312\n",
            "Epoch: 9, Iter: 400, Loss: 0.030045174166560173\n",
            "Epoch: 10, Iter: 100, Loss: 0.028044585421681405\n",
            "Epoch: 10, Iter: 200, Loss: 0.027219061851501466\n",
            "Epoch: 10, Iter: 300, Loss: 0.02661625987291336\n",
            "Epoch: 10, Iter: 400, Loss: 0.026149666294455528\n"
          ]
        }
      ]
    },
    {
      "cell_type": "code",
      "source": [
        "correct = 0\n",
        "total = 0\n",
        "\n",
        "with torch.no_grad():\n",
        "    for data in test_loader128:\n",
        "        images, labels = data[0].to(device), data[1].to(device)\n",
        "        outputs = new_model(images)\n",
        "        _, predicted = torch.max(outputs.data, axis=1)\n",
        "        total += labels.size(0)\n",
        "        correct += (predicted == labels).sum().item()\n",
        "    \n",
        "    print(100 * correct / total)"
      ],
      "metadata": {
        "colab": {
          "base_uri": "https://localhost:8080/"
        },
        "id": "w3uuDeS_CV7k",
        "outputId": "22ad008a-74c6-4a94-a664-124314ff0d58"
      },
      "execution_count": 72,
      "outputs": [
        {
          "output_type": "stream",
          "name": "stdout",
          "text": [
            "80.28\n"
          ]
        }
      ]
    },
    {
      "cell_type": "markdown",
      "source": [
        "### 5개의 convolution-layer 사용시"
      ],
      "metadata": {
        "id": "kuP_3_DyD42p"
      }
    },
    {
      "cell_type": "code",
      "source": [
        "class CNN_Model5(nn.Module):\n",
        "    def __init__(self):\n",
        "        super(CNN_Model5, self).__init__()\n",
        "\n",
        "        self.conv1 = nn.Conv2d(in_channels=1, out_channels=5, kernel_size=3, stride=1, padding=2)\n",
        "        self.conv2 = nn.Conv2d(5, 7, 3, padding=1)      \n",
        "        self.conv3 = nn.Conv2d(7, 16, 2, padding=1)\n",
        "        self.conv4 = nn.Conv2d(16, 19, 2)\n",
        "        self.conv5 = nn.Conv2d(19, 29, 3)\n",
        "\n",
        "        self.fc1 = nn.Linear(29 * 13 * 13, 100)\n",
        "        self.fc2 = nn.Linear(100, 50)\n",
        "        self.fc3 = nn.Linear(50, 25)\n",
        "        self.fc4 = nn.Linear(25, 10) # 10 : 10개의 category\n",
        "\n",
        "    def forward(self, x):\n",
        "        x = F.relu(self.conv1(x))\n",
        "        x = F.max_pool2d(x, (2,2))\n",
        "        x = F.relu(self.conv2(x))\n",
        "        x = F.relu(self.conv3(x))\n",
        "        x = F.relu(self.conv4(x))\n",
        "        x = F.relu(self.conv5(x))\n",
        "\n",
        "        x = x.view(-1, self.num_flat_features(x)) # num_flat_features : 아래에서 정의\n",
        "\n",
        "        x = F.relu(self.fc1(x))\n",
        "        x = F.relu(self.fc2(x))\n",
        "        x = F.relu(self.fc3(x))\n",
        "        x = self.fc4(x)\n",
        "\n",
        "        return x\n",
        "    \n",
        "    def num_flat_features(self, x): # 처음 dim-size을 제외하고, 모두 곱한 값을 반환해준다.\n",
        "        size = x.size()[1:]\n",
        "        num_features = 1\n",
        "        for s in size:\n",
        "            num_features *= s\n",
        "        \n",
        "        return num_features"
      ],
      "metadata": {
        "id": "Bk1u7iloD42q"
      },
      "execution_count": 73,
      "outputs": []
    },
    {
      "cell_type": "code",
      "source": [
        "# 모델객체 생성\n",
        "new_model = CNN_Model5().to(device)\n",
        "\n",
        "print(new_model)"
      ],
      "metadata": {
        "colab": {
          "base_uri": "https://localhost:8080/"
        },
        "outputId": "b289db6f-64da-4002-8a57-73aea213ad67",
        "id": "GPoNB-4vD42q"
      },
      "execution_count": 74,
      "outputs": [
        {
          "output_type": "stream",
          "name": "stdout",
          "text": [
            "CNN_Model5(\n",
            "  (conv1): Conv2d(1, 5, kernel_size=(3, 3), stride=(1, 1), padding=(2, 2))\n",
            "  (conv2): Conv2d(5, 7, kernel_size=(3, 3), stride=(1, 1), padding=(1, 1))\n",
            "  (conv3): Conv2d(7, 16, kernel_size=(2, 2), stride=(1, 1), padding=(1, 1))\n",
            "  (conv4): Conv2d(16, 19, kernel_size=(2, 2), stride=(1, 1))\n",
            "  (conv5): Conv2d(19, 29, kernel_size=(3, 3), stride=(1, 1))\n",
            "  (fc1): Linear(in_features=4901, out_features=100, bias=True)\n",
            "  (fc2): Linear(in_features=100, out_features=50, bias=True)\n",
            "  (fc3): Linear(in_features=50, out_features=25, bias=True)\n",
            "  (fc4): Linear(in_features=25, out_features=10, bias=True)\n",
            ")\n"
          ]
        }
      ]
    },
    {
      "cell_type": "code",
      "source": [
        "summary(new_model, input_size=(1, 28, 28), batch_size=128)"
      ],
      "metadata": {
        "colab": {
          "base_uri": "https://localhost:8080/"
        },
        "outputId": "aa73c5d8-a150-4416-bcab-a11439a1cf06",
        "id": "aDvnyPw6D42q"
      },
      "execution_count": 75,
      "outputs": [
        {
          "output_type": "stream",
          "name": "stdout",
          "text": [
            "----------------------------------------------------------------\n",
            "        Layer (type)               Output Shape         Param #\n",
            "================================================================\n",
            "            Conv2d-1           [128, 5, 30, 30]              50\n",
            "            Conv2d-2           [128, 7, 15, 15]             322\n",
            "            Conv2d-3          [128, 16, 16, 16]             464\n",
            "            Conv2d-4          [128, 19, 15, 15]           1,235\n",
            "            Conv2d-5          [128, 29, 13, 13]           4,988\n",
            "            Linear-6                 [128, 100]         490,200\n",
            "            Linear-7                  [128, 50]           5,050\n",
            "            Linear-8                  [128, 25]           1,275\n",
            "            Linear-9                  [128, 10]             260\n",
            "================================================================\n",
            "Total params: 503,844\n",
            "Trainable params: 503,844\n",
            "Non-trainable params: 0\n",
            "----------------------------------------------------------------\n",
            "Input size (MB): 0.38\n",
            "Forward/backward pass size (MB): 19.07\n",
            "Params size (MB): 1.92\n",
            "Estimated Total Size (MB): 21.38\n",
            "----------------------------------------------------------------\n"
          ]
        }
      ]
    },
    {
      "cell_type": "code",
      "source": [
        "optimizer = optim.SGD(new_model.parameters(), lr=0.001, momentum=0.9)"
      ],
      "metadata": {
        "id": "QmOiVQDLD42q"
      },
      "execution_count": 76,
      "outputs": []
    },
    {
      "cell_type": "code",
      "source": [
        "for epoch in range(10):\n",
        "\n",
        "    running_loss = 0.0\n",
        "\n",
        "    for i, data in enumerate(train_loader128, start=0):\n",
        "        inputs, labels = data[0].to(device), data[1].to(device)\n",
        "\n",
        "        optimizer.zero_grad() # epoch마다 gradient 0으로 초기화\n",
        "\n",
        "        outputs = new_model(inputs) # y_pred = f(X)\n",
        "        loss = criterion(outputs, labels) # CrossEntropyLoss; 0~1 사이값\n",
        "        loss.backward() # back-propagation; gradient 계산\n",
        "        optimizer.step() # parameters(weights) update\n",
        "\n",
        "        running_loss += loss.item() # 그냥 전체적인 비교를 위해 누적함\n",
        "\n",
        "        if i % 100 == 99: # 100번 마다 확인; epoch=10, iter(=i)=469, batch=128\n",
        "            print('Epoch: {}, Iter: {}, Loss: {}'.format(epoch+1, i+1, running_loss/2000))\n",
        "            running_loss = 0.0"
      ],
      "metadata": {
        "colab": {
          "base_uri": "https://localhost:8080/"
        },
        "outputId": "74397796-e98f-4c3f-b922-2178ab944767",
        "id": "eS9fQfeED42q"
      },
      "execution_count": 77,
      "outputs": [
        {
          "output_type": "stream",
          "name": "stdout",
          "text": [
            "Epoch: 1, Iter: 100, Loss: 0.11541947185993194\n",
            "Epoch: 1, Iter: 200, Loss: 0.11531505036354064\n",
            "Epoch: 1, Iter: 300, Loss: 0.1153106336593628\n",
            "Epoch: 1, Iter: 400, Loss: 0.1152508864402771\n",
            "Epoch: 2, Iter: 100, Loss: 0.11519654166698456\n",
            "Epoch: 2, Iter: 200, Loss: 0.11514678645133972\n",
            "Epoch: 2, Iter: 300, Loss: 0.11516515922546387\n",
            "Epoch: 2, Iter: 400, Loss: 0.11516753149032592\n",
            "Epoch: 3, Iter: 100, Loss: 0.1151438022851944\n",
            "Epoch: 3, Iter: 200, Loss: 0.11510059595108033\n",
            "Epoch: 3, Iter: 300, Loss: 0.1150938776731491\n",
            "Epoch: 3, Iter: 400, Loss: 0.11505605149269103\n",
            "Epoch: 4, Iter: 100, Loss: 0.11502801096439362\n",
            "Epoch: 4, Iter: 200, Loss: 0.11500155305862426\n",
            "Epoch: 4, Iter: 300, Loss: 0.11494310653209686\n",
            "Epoch: 4, Iter: 400, Loss: 0.1148838745355606\n",
            "Epoch: 5, Iter: 100, Loss: 0.11459493803977966\n",
            "Epoch: 5, Iter: 200, Loss: 0.11413790094852448\n",
            "Epoch: 5, Iter: 300, Loss: 0.11310709643363953\n",
            "Epoch: 5, Iter: 400, Loss: 0.10580892556905747\n",
            "Epoch: 6, Iter: 100, Loss: 0.0485425016283989\n",
            "Epoch: 6, Iter: 200, Loss: 0.03897380512952805\n",
            "Epoch: 6, Iter: 300, Loss: 0.036590401351451876\n",
            "Epoch: 6, Iter: 400, Loss: 0.034936940163373946\n",
            "Epoch: 7, Iter: 100, Loss: 0.03289842118322849\n",
            "Epoch: 7, Iter: 200, Loss: 0.03286649183928966\n",
            "Epoch: 7, Iter: 300, Loss: 0.031269924685359\n",
            "Epoch: 7, Iter: 400, Loss: 0.03100634029507637\n",
            "Epoch: 8, Iter: 100, Loss: 0.03109527024626732\n",
            "Epoch: 8, Iter: 200, Loss: 0.029456185564398767\n",
            "Epoch: 8, Iter: 300, Loss: 0.028634272038936617\n",
            "Epoch: 8, Iter: 400, Loss: 0.029307883560657503\n",
            "Epoch: 9, Iter: 100, Loss: 0.0276517274081707\n",
            "Epoch: 9, Iter: 200, Loss: 0.028657935872673988\n",
            "Epoch: 9, Iter: 300, Loss: 0.028034209176898004\n",
            "Epoch: 9, Iter: 400, Loss: 0.02653145897388458\n",
            "Epoch: 10, Iter: 100, Loss: 0.027760416895151137\n",
            "Epoch: 10, Iter: 200, Loss: 0.026186888709664343\n",
            "Epoch: 10, Iter: 300, Loss: 0.025840662121772766\n",
            "Epoch: 10, Iter: 400, Loss: 0.02601499333977699\n"
          ]
        }
      ]
    },
    {
      "cell_type": "code",
      "source": [
        "correct = 0\n",
        "total = 0\n",
        "\n",
        "with torch.no_grad():\n",
        "    for data in test_loader128:\n",
        "        images, labels = data[0].to(device), data[1].to(device)\n",
        "        outputs = new_model(images)\n",
        "        _, predicted = torch.max(outputs.data, axis=1)\n",
        "        total += labels.size(0)\n",
        "        correct += (predicted == labels).sum().item()\n",
        "    \n",
        "    print(100 * correct / total)"
      ],
      "metadata": {
        "colab": {
          "base_uri": "https://localhost:8080/"
        },
        "outputId": "94d655a9-ae5b-4249-a5f2-b186b06115d0",
        "id": "X0H3p7PGD42q"
      },
      "execution_count": 78,
      "outputs": [
        {
          "output_type": "stream",
          "name": "stdout",
          "text": [
            "80.19\n"
          ]
        }
      ]
    },
    {
      "cell_type": "code",
      "source": [],
      "metadata": {
        "id": "sq4EugAyuiTJ"
      },
      "execution_count": null,
      "outputs": []
    }
  ]
}