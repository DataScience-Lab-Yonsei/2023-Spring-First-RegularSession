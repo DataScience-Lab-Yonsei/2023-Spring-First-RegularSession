{
  "nbformat": 4,
  "nbformat_minor": 0,
  "metadata": {
    "colab": {
      "provenance": [],
      "collapsed_sections": [
        "klpXGc2tCimP",
        "huNh3EnhJLyh",
        "_civVcIYBGxA",
        "7Thu9NRyCV7j",
        "kuP_3_DyD42p"
      ],
      "toc_visible": true
    },
    "kernelspec": {
      "name": "python3",
      "display_name": "Python 3"
    },
    "accelerator": "GPU",
    "gpuClass": "standard"
  },
  "cells": [
    {
      "cell_type": "markdown",
      "source": [
        "# 초기 세팅"
      ],
      "metadata": {
        "id": "cdNvme8aKSBP"
      }
    },
    {
      "cell_type": "code",
      "metadata": {
        "id": "P1v9luAfHXdz"
      },
      "source": [
        "import torch\n",
        "import torch.nn as nn\n",
        "import torch.nn.functional as F\n",
        "import torch.optim as optim\n",
        "from torch.utils.data import Dataset, DataLoader\n",
        "\n",
        "import torchvision\n",
        "import torchvision.datasets as datasets\n",
        "import torchvision.transforms as transforms\n",
        "\n",
        "import numpy as np\n",
        "import matplotlib.pyplot as plt\n",
        "plt.style.use('seaborn-white')"
      ],
      "execution_count": null,
      "outputs": []
    },
    {
      "cell_type": "code",
      "source": [
        "!pip install torchsummary\n",
        "from torchsummary import summary"
      ],
      "metadata": {
        "colab": {
          "base_uri": "https://localhost:8080/"
        },
        "id": "D39aCPyTu2Ce",
        "outputId": "4fedd890-9a0b-41b1-81fe-e2d0b2816367"
      },
      "execution_count": null,
      "outputs": [
        {
          "output_type": "stream",
          "name": "stdout",
          "text": [
            "Looking in indexes: https://pypi.org/simple, https://us-python.pkg.dev/colab-wheels/public/simple/\n",
            "Requirement already satisfied: torchsummary in /usr/local/lib/python3.8/dist-packages (1.5.1)\n"
          ]
        }
      ]
    },
    {
      "cell_type": "markdown",
      "metadata": {
        "id": "02LdHlTTSz5L"
      },
      "source": [
        "- 현재 GPU 설정"
      ]
    },
    {
      "cell_type": "code",
      "metadata": {
        "id": "Ybsjn80uSx3X",
        "colab": {
          "base_uri": "https://localhost:8080/"
        },
        "outputId": "98f277b0-ba02-4442-9ffe-ab8608b6ff72"
      },
      "source": [
        "# colab의 runtime-type을 GPU로 설정해서, True가 나오도록 한다.\n",
        "\n",
        "torch.cuda.is_available()"
      ],
      "execution_count": null,
      "outputs": [
        {
          "output_type": "execute_result",
          "data": {
            "text/plain": [
              "True"
            ]
          },
          "metadata": {},
          "execution_count": 3
        }
      ]
    },
    {
      "cell_type": "code",
      "metadata": {
        "id": "HlPZI5wfDQhv",
        "colab": {
          "base_uri": "https://localhost:8080/"
        },
        "outputId": "1e219182-e9fa-4feb-f300-73c635592256"
      },
      "source": [
        "use_cuda = torch.cuda.is_available()\n",
        "device = torch.device(\"cuda\" if use_cuda else \"cpu\")\n",
        "device"
      ],
      "execution_count": null,
      "outputs": [
        {
          "output_type": "execute_result",
          "data": {
            "text/plain": [
              "device(type='cuda')"
            ]
          },
          "metadata": {},
          "execution_count": 4
        }
      ]
    },
    {
      "cell_type": "markdown",
      "source": [
        "# FashionMNIST 분류 모델 만들기\n",
        "* 흑/백(1) 이미지 데이터 분류\n",
        "* 28x28 pixel"
      ],
      "metadata": {
        "id": "OHckdZ55KeH2"
      }
    },
    {
      "cell_type": "markdown",
      "source": [
        "## 데이터 로드"
      ],
      "metadata": {
        "id": "mCrBa-gRRMEO"
      }
    },
    {
      "cell_type": "code",
      "source": [
        "# 데이터 전처리\n",
        "\n",
        "MNIST_transform = transforms.Compose([transforms.ToTensor(), # tensor로 펴준다.\n",
        "                                      transforms.Normalize((0.5,),(0.5,))]) # 정규화를 해준다."
      ],
      "metadata": {
        "id": "vYP9dGrWzDqd"
      },
      "execution_count": null,
      "outputs": []
    },
    {
      "cell_type": "code",
      "source": [
        "trainset = datasets.FashionMNIST(root='/content',\n",
        "                                 train=True, download=True,\n",
        "                                 transform=MNIST_transform)\n",
        "\n",
        "testset = datasets.FashionMNIST(root='/content',\n",
        "                                 train=False, download=True,\n",
        "                                 transform=MNIST_transform)"
      ],
      "metadata": {
        "id": "VpVsTevTWE5i"
      },
      "execution_count": null,
      "outputs": []
    },
    {
      "cell_type": "markdown",
      "source": [
        "input-data size 확인"
      ],
      "metadata": {
        "id": "qh7uI7ewsipv"
      }
    },
    {
      "cell_type": "code",
      "source": [
        "# batch-size=128\n",
        "train_loader128 =  DataLoader(trainset, batch_size=128, shuffle=True, num_workers=2)\n",
        "test_loader128 =  DataLoader(testset, batch_size=128, shuffle=False, num_workers=2)\n",
        "\n",
        "# batch-size=64\n",
        "train_loader64 =  DataLoader(trainset, batch_size=64, shuffle=True, num_workers=2)\n",
        "test_loader64 =  DataLoader(testset, batch_size=64, shuffle=False, num_workers=2)"
      ],
      "metadata": {
        "id": "Dz-CJf0x0nne"
      },
      "execution_count": null,
      "outputs": []
    },
    {
      "cell_type": "code",
      "source": [
        "# 128 : batch-size\n",
        "# 1 : 흑백\n",
        "# 28x28 : pixel-size\n",
        "\n",
        "images128, labels128 = next(iter(train_loader128))\n",
        "images128.shape, labels128.shape"
      ],
      "metadata": {
        "id": "iy6D1Rg_07fD",
        "colab": {
          "base_uri": "https://localhost:8080/"
        },
        "outputId": "c2185287-c079-4ae1-ba64-c1cd502b1758"
      },
      "execution_count": null,
      "outputs": [
        {
          "output_type": "execute_result",
          "data": {
            "text/plain": [
              "(torch.Size([128, 1, 28, 28]), torch.Size([128]))"
            ]
          },
          "metadata": {},
          "execution_count": 8
        }
      ]
    },
    {
      "cell_type": "code",
      "source": [
        "# 64 : batch-size\n",
        "# 1 : 흑백\n",
        "# 28x28 : pixel-size\n",
        "\n",
        "images64, labels64 = next(iter(train_loader64))\n",
        "images64.shape, labels64.shape"
      ],
      "metadata": {
        "colab": {
          "base_uri": "https://localhost:8080/"
        },
        "id": "AotS6123m9sK",
        "outputId": "b005050f-4efa-4903-f421-35c5e10e8797"
      },
      "execution_count": null,
      "outputs": [
        {
          "output_type": "execute_result",
          "data": {
            "text/plain": [
              "(torch.Size([64, 1, 28, 28]), torch.Size([64]))"
            ]
          },
          "metadata": {},
          "execution_count": 9
        }
      ]
    },
    {
      "cell_type": "code",
      "source": [
        "# 숫자 label에 해당되는 값\n",
        "\n",
        "labels_map = {\n",
        "    0: 'T-Shirt',\n",
        "    1: 'Trouser',\n",
        "    2: 'Pullover',\n",
        "    3: 'Dress',\n",
        "    4: 'Coat',\n",
        "    5: 'Sandal',\n",
        "    6: 'Shirt',\n",
        "    7: 'Sneaker',\n",
        "    8: 'Bag',\n",
        "    9: 'Ankle Boot'\n",
        "}"
      ],
      "metadata": {
        "id": "g4Nd4uLGTEDy"
      },
      "execution_count": null,
      "outputs": []
    },
    {
      "cell_type": "code",
      "source": [
        "# 데이터 확인\n",
        "\n",
        "figure = plt.figure(figsize=(12,12))\n",
        "cols, rows = 4, 1\n",
        "\n",
        "for i in range(1, cols * rows + 1):\n",
        "    image = images128[i].squeeze()\n",
        "    label_idx = labels128[i].item() # y_label\n",
        "    label = labels_map[label_idx] # 위에서 해당되는 label\n",
        "\n",
        "    figure.add_subplot(rows, cols, i)\n",
        "    plt.title(label)\n",
        "    plt.axis('off')\n",
        "    plt.imshow(image, cmap='gray')\n",
        "\n",
        "plt.show()"
      ],
      "metadata": {
        "id": "_u5_UEAH09SB",
        "colab": {
          "base_uri": "https://localhost:8080/",
          "height": 191
        },
        "outputId": "2f74caf2-3849-4a94-8378-5a0444fbda7c"
      },
      "execution_count": null,
      "outputs": [
        {
          "output_type": "display_data",
          "data": {
            "text/plain": [
              "<Figure size 864x864 with 4 Axes>"
            ],
            "image/png": "[encoded data removed]"
          },
          "metadata": {}
        }
      ]
    },
    {
      "cell_type": "markdown",
      "source": [
        "## 모델 1 생성\n",
        "* 10개의 convolution-layer(Conv2d)와 2개의 fully-connected(fc)로 이루어진 모델\n",
        "* Total params: 28,784"
      ],
      "metadata": {
        "id": "EFPYE3UUnpmX"
      }
    },
    {
      "cell_type": "markdown",
      "source": [
        "input-data size\n",
        "* train_loader128(batch-size;128) : 128, 1, 28, 28\n",
        "* train_loader64(batch-size;64) : 64, 1, 28, 28\n",
        "\n",
        "\n",
        "구현해야하는 모델 정보<br>\n",
        "* convolution-layer 1\n",
        "* maxpooling-layer\n",
        "* convolution-layer 2\n",
        "* convolution-layer 3\n",
        "* convolution-layer 4\n",
        "* convolution-layer 5\n",
        "* convolution-layer 6\n",
        "* convolution-layer 7\n",
        "* convolution-layer 8\n",
        "* convolution-layer 9\n",
        "* maxpooling-layer\n",
        "* convolution-layer 10\n",
        "* flatten\n",
        "* fc1\n",
        "* fc2\n",
        "\n",
        "추가 정보\n",
        "* 활성화함수 : relu\n",
        "(단, maxpooling과 마지막 fc2에는 보통적으로 활성화함수를 사용하지 않는다.)\n",
        "* flatten의 경우, weights가 들어가지 않는다. 즉, layer라고는 볼 수 없다.\n",
        "\n",
        "모델의 layer를 통과함에 따라 데이터의 크기 변화는 다음과 같다.\n",
        "1. batch-size128 -> torch.Size([128, 1, 28, 28]) 으로 시작\n",
        "2. batch-size;64 -> torch.Size([64, 1, 28, 28]) 으로 시작\n",
        "> * torch.Size([128 or 64, 5, 30, 30])\n",
        "> * torch.Size([128 or 64, 5, 15, 15])\n",
        "> * torch.Size([128 or 64, 7, 15, 15])\n",
        "> * torch.Size([128 or 64, 16, 16, 16])\n",
        "> * torch.Size([128 or 64, 19, 15, 15])\n",
        "> * torch.Size([128 or 64, 29, 13, 13])\n",
        "> * torch.Size([128 or 64, 29, 14, 14])\n",
        "> * torch.Size([128 or 64, 6, 12, 12])\n",
        "> * torch.Size([128 or 64, 2, 12, 12])\n",
        "> * torch.Size([128 or 64, 10, 7, 7])\n",
        "> * torch.Size([128 or 64, 10, 3, 3])\n",
        "> * torch.Size([128 or 64, 20, 3, 3])\n",
        "> * torch.Size([128 or 64, 180])\n",
        "> * torch.Size([128 or 64, 86])\n",
        "> * torch.Size([128 or 64, 10]) "
      ],
      "metadata": {
        "id": "orF-z9choFaB"
      }
    },
    {
      "cell_type": "code",
      "source": [
        "class CNN_Model1(nn.Module):\n",
        "    def __init__(self):\n",
        "        super(CNN_Model1, self).__init__()\n",
        "\n",
        "\n",
        "\n",
        "        self.conv1 = nn.Conv2d(in_channels=1, out_channels=5, kernel_size=3, stride=1, padding=2)\n",
        "        # in-channels = 1 <- 흑/백\n",
        "        # out-channels = 5 필터 개수\n",
        "        # kernel_size / filter-size = 2x2 -> f=3\n",
        "        # stride = 1(default) -> s=1\n",
        "        # padding = 2(default) -> p=2\n",
        "        # input-data pixel size = 28x28 -> n=28\n",
        "        # (n-f+2p)/s + 1 = new n\n",
        "        # (28-3+2x2)/1 + 1 = 30 필터 한 번 거친 output의 size 30*30\n",
        "    \n",
        "        # maxpool : n=30 -> 15\n",
        "\n",
        "        self.conv2 = nn.Conv2d(5, 7, 3, padding=1)\n",
        "        # in-channels = 5 <- 이전것의 out-channels\n",
        "        # out-channels = 7 필터 개수\n",
        "        # filter-size = 3x3\n",
        "        # stride = 1(default)\n",
        "        # padding = 1\n",
        "        # (n-f+2p)/s + 1 = new n    \n",
        "        # (15-3+2x1)/1 + 1 = 15\n",
        "\n",
        "        self.conv3 = nn.Conv2d(in_channels=7, out_channels=16, kernel_size=4, stride=1, padding=2)\n",
        "        # (15-4+2*2)/1+1 = 16\n",
        "        self.conv4 = nn.Conv2d(in_channels=16, out_channels=19, kernel_size=4, stride=1, padding=1)\n",
        "        # ( 16 - 4 + 2*1 )/1 +1 = 15\n",
        "        self.conv5 = nn.Conv2d(in_channels=19, out_channels=29, kernel_size=5, stride=1, padding=1)\n",
        "        # ( 15 - 5 + 2*1 )/1 +1 = 13\n",
        "        self.conv6 = nn.Conv2d(in_channels=29, out_channels=29, kernel_size=2, stride=1, padding=1)\n",
        "        # ( 13 - 2 + 2*1 )/1 +1 = 14\n",
        "        self.conv7 = nn.Conv2d(in_channels=29, out_channels=6, kernel_size=5, stride=1, padding=1)\n",
        "        # ( 14 - 5 + 2*1 )/1 +1 = 12\n",
        "        self.conv8 = nn.Conv2d(in_channels=6, out_channels=2, kernel_size=3, stride=1, padding=1)\n",
        "        # ( 12 - 3 + 2*1 )/1 +1 = 12\n",
        "        self.conv9 = nn.Conv2d(in_channels=2, out_channels=10, kernel_size=2, stride=2, padding=1)\n",
        "        # ( 12 - 2 + 2*1 )/2 +1 = 7\n",
        "        # maxpool : n=7 -> 3\n",
        "        self.conv10 = nn.Conv2d(in_channels=10, out_channels=20, kernel_size=3, stride=1, padding=1)\n",
        "        # ( 3 - 3 + 2*1 )/1 +1 = 3\n",
        "\n",
        "        self.fc1 = nn.Linear(20 * 3 * 3, 86)\n",
        "        self.fc2 = nn.Linear(86, 10)\n",
        "        # 10 : 10개의 category\n",
        "\n",
        "\n",
        "    def forward(self, x):\n",
        "       x = F.relu(self.conv1(x))\n",
        "       #print(x.size()) \n",
        "       x = F.max_pool2d(x, (2,2), stride=2)\n",
        "       #print(x.size()) \n",
        "       x = F.relu(self.conv2(x))\n",
        "       #print(x.size()) \n",
        "       x = F.relu(self.conv3(x))\n",
        "       #print(x.size()) \n",
        "       x = F.relu(self.conv4(x))\n",
        "       #print(x.size()) \n",
        "       x = F.relu(self.conv5(x))\n",
        "       #print(x.size()) \n",
        "       x = F.relu(self.conv6(x))\n",
        "       #print(x.size()) \n",
        "       x = F.relu(self.conv7(x))\n",
        "       #print(x.size()) \n",
        "       x = F.relu(self.conv8(x))\n",
        "       #print(x.size()) \n",
        "       x = F.relu(self.conv9(x))\n",
        "       #print(x.size()) \n",
        "       x = F.max_pool2d(x, 2, stride=2)\n",
        "       #print(x.size()) \n",
        "       x = F.relu(self.conv10(x))\n",
        "       #print(x.size()) \n",
        "       x = x.view(-1, self.num_flat_features(x)) # num_flat_features : 아래에서 정의\n",
        "       #print(x.size())\n",
        "      \n",
        "\n",
        "       x = F.relu(self.fc1(x))\n",
        "       #print(x.size())\n",
        "       x = self.fc2(x)\n",
        "       #print(x.size(), '\\n\\n')\n",
        "      \n",
        "       \n",
        "      \n",
        "\n",
        "       \n",
        "\n",
        "       return x\n",
        "    \n",
        "    def num_flat_features(self, x): # 처음 dim-size을 제외하고, 모두 곱한 값을 반환해준다.\n",
        "        size = x.size()[1:]\n",
        "        num_features = 1\n",
        "        for s in size:\n",
        "            num_features *= s\n",
        "        \n",
        "        return num_features"
      ],
      "metadata": {
        "id": "EedVZU7Knv0X"
      },
      "execution_count": null,
      "outputs": []
    },
    {
      "cell_type": "code",
      "source": [
        "# 모델객체 생성\n",
        "DeepConv_net128 = CNN_Model1().to(device)\n",
        "DeepConv_net64 = CNN_Model1().to(device)\n",
        "\n",
        "print(DeepConv_net128)"
      ],
      "metadata": {
        "colab": {
          "base_uri": "https://localhost:8080/"
        },
        "id": "RiMZ7sX6oDn3",
        "outputId": "5b9c3069-a2a9-4bf0-f425-976b73e96f95"
      },
      "execution_count": null,
      "outputs": [
        {
          "output_type": "stream",
          "name": "stdout",
          "text": [
            "CNN_Model1(\n",
            "  (conv1): Conv2d(1, 5, kernel_size=(3, 3), stride=(1, 1), padding=(2, 2))\n",
            "  (conv2): Conv2d(5, 7, kernel_size=(3, 3), stride=(1, 1), padding=(1, 1))\n",
            "  (conv3): Conv2d(7, 16, kernel_size=(4, 4), stride=(1, 1), padding=(2, 2))\n",
            "  (conv4): Conv2d(16, 19, kernel_size=(4, 4), stride=(1, 1), padding=(1, 1))\n",
            "  (conv5): Conv2d(19, 29, kernel_size=(5, 5), stride=(1, 1), padding=(1, 1))\n",
            "  (conv6): Conv2d(29, 29, kernel_size=(2, 2), stride=(1, 1), padding=(1, 1))\n",
            "  (conv7): Conv2d(29, 6, kernel_size=(5, 5), stride=(1, 1), padding=(1, 1))\n",
            "  (conv8): Conv2d(6, 2, kernel_size=(3, 3), stride=(1, 1), padding=(1, 1))\n",
            "  (conv9): Conv2d(2, 10, kernel_size=(2, 2), stride=(2, 2), padding=(1, 1))\n",
            "  (conv10): Conv2d(10, 20, kernel_size=(3, 3), stride=(1, 1), padding=(1, 1))\n",
            "  (fc1): Linear(in_features=180, out_features=86, bias=True)\n",
            "  (fc2): Linear(in_features=86, out_features=10, bias=True)\n",
            ")\n"
          ]
        }
      ]
    },
    {
      "cell_type": "code",
      "source": [
        "input = images128.to(device)\n",
        "input.size()"
      ],
      "metadata": {
        "colab": {
          "base_uri": "https://localhost:8080/"
        },
        "id": "8gBjDmoc7fJh",
        "outputId": "8bef2576-209e-48b0-d028-853eda2828a3"
      },
      "execution_count": null,
      "outputs": [
        {
          "output_type": "execute_result",
          "data": {
            "text/plain": [
              "torch.Size([128, 1, 28, 28])"
            ]
          },
          "metadata": {},
          "execution_count": 14
        }
      ]
    },
    {
      "cell_type": "code",
      "source": [
        "output = DeepConv_net128.forward(input)\n",
        "output.size()"
      ],
      "metadata": {
        "colab": {
          "base_uri": "https://localhost:8080/"
        },
        "id": "tflPlTme7h9x",
        "outputId": "f81f2923-a8e5-471e-bf70-d5c1a8f2719a"
      },
      "execution_count": null,
      "outputs": [
        {
          "output_type": "execute_result",
          "data": {
            "text/plain": [
              "torch.Size([128, 10])"
            ]
          },
          "metadata": {},
          "execution_count": 15
        }
      ]
    },
    {
      "cell_type": "code",
      "source": [
        "summary(DeepConv_net128, input_size=(1, 28, 28), batch_size=128)"
      ],
      "metadata": {
        "colab": {
          "base_uri": "https://localhost:8080/"
        },
        "id": "DSH3qCADujAi",
        "outputId": "60c5d5de-7995-4ca6-8df8-659d48e3c65b"
      },
      "execution_count": null,
      "outputs": [
        {
          "output_type": "stream",
          "name": "stdout",
          "text": [
            "----------------------------------------------------------------\n",
            "        Layer (type)               Output Shape         Param #\n",
            "================================================================\n",
            "            Conv2d-1           [128, 5, 30, 30]              50\n",
            "            Conv2d-2           [128, 7, 15, 15]             322\n",
            "            Conv2d-3          [128, 16, 16, 16]           1,808\n",
            "            Conv2d-4          [128, 19, 15, 15]           4,883\n",
            "            Conv2d-5          [128, 29, 13, 13]          13,804\n",
            "            Conv2d-6          [128, 29, 14, 14]           3,393\n",
            "            Conv2d-7           [128, 6, 12, 12]           4,356\n",
            "            Conv2d-8           [128, 2, 12, 12]             110\n",
            "            Conv2d-9            [128, 10, 7, 7]              90\n",
            "           Conv2d-10            [128, 20, 3, 3]           1,820\n",
            "           Linear-11                  [128, 86]          15,566\n",
            "           Linear-12                  [128, 10]             870\n",
            "================================================================\n",
            "Total params: 47,072\n",
            "Trainable params: 47,072\n",
            "Non-trainable params: 0\n",
            "----------------------------------------------------------------\n",
            "Input size (MB): 0.38\n",
            "Forward/backward pass size (MB): 26.32\n",
            "Params size (MB): 0.18\n",
            "Estimated Total Size (MB): 26.88\n",
            "----------------------------------------------------------------\n"
          ]
        }
      ]
    },
    {
      "cell_type": "code",
      "source": [
        "input = images64.to(device)\n",
        "input.size()"
      ],
      "metadata": {
        "colab": {
          "base_uri": "https://localhost:8080/"
        },
        "outputId": "266d4fd8-a57c-4c38-9e66-65a35f664184",
        "id": "jcybKk5Nvj4Z"
      },
      "execution_count": null,
      "outputs": [
        {
          "output_type": "execute_result",
          "data": {
            "text/plain": [
              "torch.Size([64, 1, 28, 28])"
            ]
          },
          "metadata": {},
          "execution_count": 17
        }
      ]
    },
    {
      "cell_type": "code",
      "source": [
        "output = DeepConv_net64.forward(input)\n",
        "output.size()"
      ],
      "metadata": {
        "colab": {
          "base_uri": "https://localhost:8080/"
        },
        "outputId": "ac4f9b26-3fc9-417b-f737-1b2e100c39fa",
        "id": "y2PZCHyyvj4a"
      },
      "execution_count": null,
      "outputs": [
        {
          "output_type": "execute_result",
          "data": {
            "text/plain": [
              "torch.Size([64, 10])"
            ]
          },
          "metadata": {},
          "execution_count": 18
        }
      ]
    },
    {
      "cell_type": "code",
      "source": [
        "summary(DeepConv_net64, input_size=(1, 28, 28), batch_size=64)"
      ],
      "metadata": {
        "colab": {
          "base_uri": "https://localhost:8080/"
        },
        "id": "uh1pmRXcvZP8",
        "outputId": "90c020bc-2429-429d-9301-16c2e0b8fe84"
      },
      "execution_count": null,
      "outputs": [
        {
          "output_type": "stream",
          "name": "stdout",
          "text": [
            "----------------------------------------------------------------\n",
            "        Layer (type)               Output Shape         Param #\n",
            "================================================================\n",
            "            Conv2d-1            [64, 5, 30, 30]              50\n",
            "            Conv2d-2            [64, 7, 15, 15]             322\n",
            "            Conv2d-3           [64, 16, 16, 16]           1,808\n",
            "            Conv2d-4           [64, 19, 15, 15]           4,883\n",
            "            Conv2d-5           [64, 29, 13, 13]          13,804\n",
            "            Conv2d-6           [64, 29, 14, 14]           3,393\n",
            "            Conv2d-7            [64, 6, 12, 12]           4,356\n",
            "            Conv2d-8            [64, 2, 12, 12]             110\n",
            "            Conv2d-9             [64, 10, 7, 7]              90\n",
            "           Conv2d-10             [64, 20, 3, 3]           1,820\n",
            "           Linear-11                   [64, 86]          15,566\n",
            "           Linear-12                   [64, 10]             870\n",
            "================================================================\n",
            "Total params: 47,072\n",
            "Trainable params: 47,072\n",
            "Non-trainable params: 0\n",
            "----------------------------------------------------------------\n",
            "Input size (MB): 0.19\n",
            "Forward/backward pass size (MB): 13.16\n",
            "Params size (MB): 0.18\n",
            "Estimated Total Size (MB): 13.53\n",
            "----------------------------------------------------------------\n"
          ]
        }
      ]
    },
    {
      "cell_type": "markdown",
      "source": [
        "## 모델 2 생성\n",
        "* 2개의 convolution-layer(Conv2d)와 5개의 fully-connected(fc)로 이루어진 모델\n",
        "* Total params: 9,516,488"
      ],
      "metadata": {
        "id": "xVxKI_rwCvhI"
      }
    },
    {
      "cell_type": "markdown",
      "source": [
        "input-data size\n",
        "* train_loader128(batch-size;128) : 128, 1, 28, 28\n",
        "* train_loader64(batch-size;64) : 64, 1, 28, 28\n",
        "\n",
        "\n",
        "구현해야하는 모델 정보<br>\n",
        "* convolution-layer 1\n",
        "* maxpooling-layer\n",
        "* convolution-layer 2\n",
        "* flatten\n",
        "* fc1\n",
        "* fc2\n",
        "* fc3\n",
        "* fc4\n",
        "* fc5\n",
        "\n",
        "추가 정보\n",
        "* 활성화함수 : relu\n",
        "(단, maxpooling과 마지막 fc5에는 보통적으로 활성화함수를 사용하지 않는다.)\n",
        "* flatten의 경우, weights가 들어가지 않는다. 즉, layer라고는 볼 수 없다.\n",
        "\n",
        "모델의 layer를 통과함에 따라 데이터의 크기 변화는 다음과 같다.\n",
        "\n",
        "1. batch-size128 -> torch.Size([128, 1, 28, 28]) 으로 시작\n",
        "2. batch-size;64 -> torch.Size([64, 1, 28, 28]) 으로 시작\n",
        "> * torch.Size([128 or 64, 5, 30, 30])\n",
        "> * torch.Size([128 or 64, 5, 15, 15])\n",
        "> * torch.Size([128 or 64, 7, 15, 15])\n",
        "> * torch.Size([128 or 64, 1575])\n",
        "> * torch.Size([128 or 64, 3000])\n",
        "> * torch.Size([128 or 64, 1500])\n",
        "> * torch.Size([128 or 64, 180])\n",
        "> * torch.Size([128 or 64, 86])\n",
        "> * torch.Size([128 or 64, 10])"
      ],
      "metadata": {
        "id": "uN5s0Re-CvhI"
      }
    },
    {
      "cell_type": "code",
      "source": [
        "class CNN_Model2(nn.Module):\n",
        "    def __init__(self):\n",
        "        super(CNN_Model2, self).__init__()\n",
        "\n",
        "        self.conv1 = nn.Conv2d(in_channels=1, out_channels=5, kernel_size=3, stride=1, padding=2)\n",
        "        # ( 28 - 3 + 2*2 )/1 +1 = 30\n",
        "        # maxpool2d: 30 -> 15\n",
        "        self.conv2 = nn.Conv2d(5, 7, 3, padding=1)\n",
        "        # ( 15 - 3 + 2*1 )/1 +1 = 15\n",
        "        \n",
        "        self.fc1 = nn.Linear(7 * 15 * 15, 3000)\n",
        "        self.fc2 = nn.Linear(3000, 1500)\n",
        "        self.fc3 = nn.Linear(1500, 180)\n",
        "        self.fc4 = nn.Linear(180, 86)\n",
        "        self.fc5 = nn.Linear(86, 10)\n",
        "        \n",
        "\n",
        "    def forward(self, x):\n",
        "       x = F.relu(self.conv1(x))\n",
        "       #print(x.size())\n",
        "       x = F.max_pool2d(x, (2,2))\n",
        "       #print(x.size())\n",
        "       x = F.relu(self.conv2(x))\n",
        "       #print(x.size())\n",
        "      \n",
        "\n",
        "       x = x.view(-1, self.num_flat_features(x)) # num_flat_features : 아래에서 정의\n",
        "       #print(x.size())\n",
        "      \n",
        "\n",
        "       x = F.relu(self.fc1(x))\n",
        "       #print(x.size())\n",
        "       x = F.relu(self.fc2(x))\n",
        "       #print(x.size())\n",
        "       x = F.relu(self.fc3(x))\n",
        "       #print(x.size())\n",
        "       x = F.relu(self.fc4(x))\n",
        "       #print(x.size())\n",
        "       x = self.fc5(x)\n",
        "       #print(x.size(), '\\n\\n')\n",
        "       return x\n",
        "    \n",
        "    def num_flat_features(self, x): # 처음 dim-size을 제외하고, 모두 곱한 값을 반환해준다.\n",
        "        size = x.size()[1:]\n",
        "        num_features = 1\n",
        "        for s in size:\n",
        "            num_features *= s\n",
        "        \n",
        "        return num_features"
      ],
      "metadata": {
        "id": "JfSM-k0DCvhI"
      },
      "execution_count": null,
      "outputs": []
    },
    {
      "cell_type": "code",
      "source": [
        "# 모델객체 생성\n",
        "DeepFC_net128 = CNN_Model2().to(device)\n",
        "DeepFC_net64 = CNN_Model2().to(device)\n",
        "\n",
        "print(DeepFC_net128)"
      ],
      "metadata": {
        "colab": {
          "base_uri": "https://localhost:8080/"
        },
        "outputId": "017ce02f-60df-4a76-8b55-b62c9584576b",
        "id": "QQ_AnPi5CvhI"
      },
      "execution_count": null,
      "outputs": [
        {
          "output_type": "stream",
          "name": "stdout",
          "text": [
            "CNN_Model2(\n",
            "  (conv1): Conv2d(1, 5, kernel_size=(3, 3), stride=(1, 1), padding=(2, 2))\n",
            "  (conv2): Conv2d(5, 7, kernel_size=(3, 3), stride=(1, 1), padding=(1, 1))\n",
            "  (fc1): Linear(in_features=1575, out_features=3000, bias=True)\n",
            "  (fc2): Linear(in_features=3000, out_features=1500, bias=True)\n",
            "  (fc3): Linear(in_features=1500, out_features=180, bias=True)\n",
            "  (fc4): Linear(in_features=180, out_features=86, bias=True)\n",
            "  (fc5): Linear(in_features=86, out_features=10, bias=True)\n",
            ")\n"
          ]
        }
      ]
    },
    {
      "cell_type": "code",
      "source": [
        "input = images128.to(device)\n",
        "input.size()"
      ],
      "metadata": {
        "colab": {
          "base_uri": "https://localhost:8080/"
        },
        "outputId": "6e8c3b8c-6bd3-4e2d-e95e-a5e3070402c1",
        "id": "S9IVOG3pwgoS"
      },
      "execution_count": null,
      "outputs": [
        {
          "output_type": "execute_result",
          "data": {
            "text/plain": [
              "torch.Size([128, 1, 28, 28])"
            ]
          },
          "metadata": {},
          "execution_count": 22
        }
      ]
    },
    {
      "cell_type": "code",
      "source": [
        "output = DeepFC_net128.forward(input)\n",
        "output.size()"
      ],
      "metadata": {
        "colab": {
          "base_uri": "https://localhost:8080/"
        },
        "outputId": "5e6a1165-b38d-48db-c672-c9e7bad2ea18",
        "id": "p4ydm5qCwgoT"
      },
      "execution_count": null,
      "outputs": [
        {
          "output_type": "execute_result",
          "data": {
            "text/plain": [
              "torch.Size([128, 10])"
            ]
          },
          "metadata": {},
          "execution_count": 23
        }
      ]
    },
    {
      "cell_type": "code",
      "source": [
        "summary(DeepFC_net128, input_size=(1, 28, 28), batch_size=128)"
      ],
      "metadata": {
        "colab": {
          "base_uri": "https://localhost:8080/"
        },
        "outputId": "83042612-c4a5-4b9d-be6d-b16077344909",
        "id": "Q3uN6Dw6wgoT"
      },
      "execution_count": null,
      "outputs": [
        {
          "output_type": "stream",
          "name": "stdout",
          "text": [
            "----------------------------------------------------------------\n",
            "        Layer (type)               Output Shape         Param #\n",
            "================================================================\n",
            "            Conv2d-1           [128, 5, 30, 30]              50\n",
            "            Conv2d-2           [128, 7, 15, 15]             322\n",
            "            Linear-3                [128, 3000]       4,728,000\n",
            "            Linear-4                [128, 1500]       4,501,500\n",
            "            Linear-5                 [128, 180]         270,180\n",
            "            Linear-6                  [128, 86]          15,566\n",
            "            Linear-7                  [128, 10]             870\n",
            "================================================================\n",
            "Total params: 9,516,488\n",
            "Trainable params: 9,516,488\n",
            "Non-trainable params: 0\n",
            "----------------------------------------------------------------\n",
            "Input size (MB): 0.38\n",
            "Forward/backward pass size (MB): 10.60\n",
            "Params size (MB): 36.30\n",
            "Estimated Total Size (MB): 47.28\n",
            "----------------------------------------------------------------\n"
          ]
        }
      ]
    },
    {
      "cell_type": "code",
      "source": [
        "input = images64.to(device)\n",
        "input.size()"
      ],
      "metadata": {
        "colab": {
          "base_uri": "https://localhost:8080/"
        },
        "outputId": "7b81a7e4-1580-41d2-879c-8b60d9beb178",
        "id": "d9t36x7bwgoT"
      },
      "execution_count": null,
      "outputs": [
        {
          "output_type": "execute_result",
          "data": {
            "text/plain": [
              "torch.Size([64, 1, 28, 28])"
            ]
          },
          "metadata": {},
          "execution_count": 25
        }
      ]
    },
    {
      "cell_type": "code",
      "source": [
        "output = DeepFC_net64.forward(input)\n",
        "output.size()"
      ],
      "metadata": {
        "colab": {
          "base_uri": "https://localhost:8080/"
        },
        "outputId": "3a293c52-a25e-43d3-ffdd-f8760e295c0c",
        "id": "GFHweMakwgoT"
      },
      "execution_count": null,
      "outputs": [
        {
          "output_type": "execute_result",
          "data": {
            "text/plain": [
              "torch.Size([64, 10])"
            ]
          },
          "metadata": {},
          "execution_count": 26
        }
      ]
    },
    {
      "cell_type": "code",
      "source": [
        "summary(DeepFC_net64, input_size=(1, 28, 28), batch_size=64)"
      ],
      "metadata": {
        "colab": {
          "base_uri": "https://localhost:8080/"
        },
        "outputId": "ba45d537-0c38-4803-e942-c312c5a66ecb",
        "id": "2VIZ4WCCwgoT"
      },
      "execution_count": null,
      "outputs": [
        {
          "output_type": "stream",
          "name": "stdout",
          "text": [
            "----------------------------------------------------------------\n",
            "        Layer (type)               Output Shape         Param #\n",
            "================================================================\n",
            "            Conv2d-1            [64, 5, 30, 30]              50\n",
            "            Conv2d-2            [64, 7, 15, 15]             322\n",
            "            Linear-3                 [64, 3000]       4,728,000\n",
            "            Linear-4                 [64, 1500]       4,501,500\n",
            "            Linear-5                  [64, 180]         270,180\n",
            "            Linear-6                   [64, 86]          15,566\n",
            "            Linear-7                   [64, 10]             870\n",
            "================================================================\n",
            "Total params: 9,516,488\n",
            "Trainable params: 9,516,488\n",
            "Non-trainable params: 0\n",
            "----------------------------------------------------------------\n",
            "Input size (MB): 0.19\n",
            "Forward/backward pass size (MB): 5.30\n",
            "Params size (MB): 36.30\n",
            "Estimated Total Size (MB): 41.79\n",
            "----------------------------------------------------------------\n"
          ]
        }
      ]
    },
    {
      "cell_type": "markdown",
      "source": [
        "## 손실함수와 옵티마이저"
      ],
      "metadata": {
        "id": "klpXGc2tCimP"
      }
    },
    {
      "cell_type": "code",
      "source": [
        "criterion = nn.CrossEntropyLoss()\n",
        "\n",
        "optimizerDC_128 = optim.SGD(DeepConv_net128.parameters(), lr=0.001, momentum=0.9)\n",
        "optimizerDC_64 = optim.SGD(DeepConv_net64.parameters(), lr=0.001, momentum=0.9)\n",
        "optimizerFC_128 = optim.SGD(DeepFC_net128.parameters(), lr=0.001, momentum=0.9)\n",
        "optimizerFC_64 = optim.SGD(DeepFC_net64.parameters(), lr=0.001, momentum=0.9)"
      ],
      "metadata": {
        "id": "69AHX-ZXClOm"
      },
      "execution_count": null,
      "outputs": []
    },
    {
      "cell_type": "markdown",
      "source": [
        "## 모델 학습"
      ],
      "metadata": {
        "id": "huNh3EnhJLyh"
      }
    },
    {
      "cell_type": "markdown",
      "source": [
        "### 1. DeepConv_net128\n",
        "* 10개의 Convolution-layer & 2개의 fc-layer\n",
        "* 128 batch-size"
      ],
      "metadata": {
        "id": "W-2Q7c6-JW9z"
      }
    },
    {
      "cell_type": "code",
      "source": [
        "for epoch in range(10):\n",
        "\n",
        "    running_loss = 0.0\n",
        "\n",
        "    for i, data in enumerate(train_loader128, start=0):\n",
        "        inputs, labels = data[0].to(device), data[1].to(device)\n",
        "\n",
        "        optimizerDC_128.zero_grad() # epoch마다 gradient 0으로 초기화\n",
        "\n",
        "        outputs = DeepConv_net128(inputs) # y_pred = f(X)\n",
        "        loss = criterion(outputs, labels) # CrossEntropyLoss; 0~1 사이값\n",
        "        loss.backward() # back-propagation; gradient 계산\n",
        "        optimizerDC_128.step() # parameters(weights) update\n",
        "\n",
        "        running_loss += loss.item() # 그냥 전체적인 비교를 위해 누적함\n",
        "\n",
        "        if i % 100 == 99: # 100번 마다 확인; epoch=10, iter(=i)=469, batch=128\n",
        "            print('Epoch: {}, Iter: {}, Loss: {}'.format(epoch+1, i+1, running_loss/2000))\n",
        "            running_loss = 0.0"
      ],
      "metadata": {
        "colab": {
          "base_uri": "https://localhost:8080/"
        },
        "id": "y-_UvdNWJR-r",
        "outputId": "3acefd99-a9ae-4435-ded3-63d2547331c6"
      },
      "execution_count": null,
      "outputs": [
        {
          "output_type": "stream",
          "name": "stdout",
          "text": [
            "Epoch: 1, Iter: 100, Loss: 0.11514573812484741\n",
            "Epoch: 1, Iter: 200, Loss: 0.11518320393562317\n",
            "Epoch: 1, Iter: 300, Loss: 0.11517898690700532\n",
            "Epoch: 1, Iter: 400, Loss: 0.11514306640625\n",
            "Epoch: 2, Iter: 100, Loss: 0.11514675891399384\n",
            "Epoch: 2, Iter: 200, Loss: 0.11513459992408752\n",
            "Epoch: 2, Iter: 300, Loss: 0.11513672065734863\n",
            "Epoch: 2, Iter: 400, Loss: 0.11513476729393006\n",
            "Epoch: 3, Iter: 100, Loss: 0.1151359132528305\n",
            "Epoch: 3, Iter: 200, Loss: 0.11513383972644806\n",
            "Epoch: 3, Iter: 300, Loss: 0.11513496053218841\n",
            "Epoch: 3, Iter: 400, Loss: 0.11513142657279968\n",
            "Epoch: 4, Iter: 100, Loss: 0.11512874209880829\n",
            "Epoch: 4, Iter: 200, Loss: 0.11513428938388824\n",
            "Epoch: 4, Iter: 300, Loss: 0.11512463092803955\n",
            "Epoch: 4, Iter: 400, Loss: 0.11513543248176575\n",
            "Epoch: 5, Iter: 100, Loss: 0.11512973999977112\n",
            "Epoch: 5, Iter: 200, Loss: 0.11512866628170014\n",
            "Epoch: 5, Iter: 300, Loss: 0.11513460183143616\n",
            "Epoch: 5, Iter: 400, Loss: 0.11513292384147644\n",
            "Epoch: 6, Iter: 100, Loss: 0.11513065576553344\n",
            "Epoch: 6, Iter: 200, Loss: 0.1151286039352417\n",
            "Epoch: 6, Iter: 300, Loss: 0.11513244760036469\n",
            "Epoch: 6, Iter: 400, Loss: 0.11513434731960297\n",
            "Epoch: 7, Iter: 100, Loss: 0.11513075995445252\n",
            "Epoch: 7, Iter: 200, Loss: 0.11512957978248596\n",
            "Epoch: 7, Iter: 300, Loss: 0.11513331651687622\n",
            "Epoch: 7, Iter: 400, Loss: 0.11513143706321716\n",
            "Epoch: 8, Iter: 100, Loss: 0.11512910830974579\n",
            "Epoch: 8, Iter: 200, Loss: 0.11513307893276215\n",
            "Epoch: 8, Iter: 300, Loss: 0.11513050520420075\n",
            "Epoch: 8, Iter: 400, Loss: 0.11513218641281128\n",
            "Epoch: 9, Iter: 100, Loss: 0.1151278361082077\n",
            "Epoch: 9, Iter: 200, Loss: 0.11513199174404144\n",
            "Epoch: 9, Iter: 300, Loss: 0.11513160169124603\n",
            "Epoch: 9, Iter: 400, Loss: 0.11513348996639251\n",
            "Epoch: 10, Iter: 100, Loss: 0.11513070213794709\n",
            "Epoch: 10, Iter: 200, Loss: 0.11513040316104889\n",
            "Epoch: 10, Iter: 300, Loss: 0.1151326185464859\n",
            "Epoch: 10, Iter: 400, Loss: 0.11513086128234863\n"
          ]
        }
      ]
    },
    {
      "cell_type": "code",
      "source": [
        "for epoch in range(5):\n",
        "\n",
        "    running_loss = 0.0\n",
        "\n",
        "    for i, data in enumerate(train_loader128, start=0):\n",
        "        inputs, labels = data[0].to(device), data[1].to(device)\n",
        "\n",
        "        optimizerDC_128.zero_grad() # epoch마다 gradient 0으로 초기화\n",
        "\n",
        "        outputs = DeepConv_net128(inputs) # y_pred = f(X)\n",
        "        loss = criterion(outputs, labels) # CrossEntropyLoss; 0~1 사이값\n",
        "        loss.backward() # back-propagation; gradient 계산\n",
        "        optimizerDC_128.step() # parameters(weights) update\n",
        "\n",
        "        running_loss += loss.item() # 그냥 전체적인 비교를 위해 누적함\n",
        "\n",
        "        if i % 100 == 99: # 100번 마다 확인; epoch=10, iter(=i)=469, batch=128\n",
        "            print('Epoch: {}, Iter: {}, Loss: {}'.format(epoch+1, i+1, running_loss/2000))\n",
        "            running_loss = 0.0"
      ],
      "metadata": {
        "colab": {
          "base_uri": "https://localhost:8080/"
        },
        "id": "dNa8-7SC5u2a",
        "outputId": "6d12637d-d4f2-4433-db46-5ee6b705ab70"
      },
      "execution_count": null,
      "outputs": [
        {
          "output_type": "stream",
          "name": "stdout",
          "text": [
            "Epoch: 1, Iter: 100, Loss: 0.11513105380535125\n",
            "Epoch: 1, Iter: 200, Loss: 0.11512964999675751\n",
            "Epoch: 1, Iter: 300, Loss: 0.11513144087791442\n",
            "Epoch: 1, Iter: 400, Loss: 0.1151323208808899\n",
            "Epoch: 2, Iter: 100, Loss: 0.11513119387626648\n",
            "Epoch: 2, Iter: 200, Loss: 0.11512920892238616\n",
            "Epoch: 2, Iter: 300, Loss: 0.11513304400444031\n",
            "Epoch: 2, Iter: 400, Loss: 0.11513183331489563\n",
            "Epoch: 3, Iter: 100, Loss: 0.11513090944290161\n",
            "Epoch: 3, Iter: 200, Loss: 0.11512980675697326\n",
            "Epoch: 3, Iter: 300, Loss: 0.11513034391403199\n",
            "Epoch: 3, Iter: 400, Loss: 0.11513284957408905\n",
            "Epoch: 4, Iter: 100, Loss: 0.11513000202178955\n",
            "Epoch: 4, Iter: 200, Loss: 0.11513202857971191\n",
            "Epoch: 4, Iter: 300, Loss: 0.11513047707080841\n",
            "Epoch: 4, Iter: 400, Loss: 0.11513223195075989\n",
            "Epoch: 5, Iter: 100, Loss: 0.11512967896461487\n",
            "Epoch: 5, Iter: 200, Loss: 0.11513340842723846\n",
            "Epoch: 5, Iter: 300, Loss: 0.11512952899932861\n",
            "Epoch: 5, Iter: 400, Loss: 0.11513332629203796\n"
          ]
        }
      ]
    },
    {
      "cell_type": "markdown",
      "source": [
        "### 2. DeepConv_net64\n",
        "* 10개의 Convolution-layer & 2개의 fc-layer\n",
        "* 64 batch-size"
      ],
      "metadata": {
        "id": "FOUBE2UfKS6D"
      }
    },
    {
      "cell_type": "code",
      "source": [
        "for epoch in range(10):\n",
        "\n",
        "    running_loss = 0.0\n",
        "\n",
        "    for i, data in enumerate(train_loader64, start=0):\n",
        "        inputs, labels = data[0].to(device), data[1].to(device)\n",
        "\n",
        "        optimizerDC_64.zero_grad() # epoch마다 gradient 0으로 초기화\n",
        "\n",
        "        outputs = DeepConv_net64(inputs) # y_pred = f(X)\n",
        "        loss = criterion(outputs, labels) # CrossEntropyLoss; 0~1 사이값\n",
        "        loss.backward() # back-propagation; gradient 계산\n",
        "        optimizerDC_64.step() # parameters(weights) update\n",
        "\n",
        "        running_loss += loss.item() # 그냥 전체적인 비교를 위해 누적함\n",
        "\n",
        "        if i % 100 == 99: # 100번 마다 확인; epoch=10, iter(=i)=469, batch=64\n",
        "            print('Epoch: {}, Iter: {}, Loss: {}'.format(epoch+1, i+1, running_loss/2000))\n",
        "            running_loss = 0.0"
      ],
      "metadata": {
        "colab": {
          "base_uri": "https://localhost:8080/"
        },
        "id": "Q1znQlsWKS6D",
        "outputId": "460fca2f-d2a4-4935-d719-3e25eebb88b3"
      },
      "execution_count": null,
      "outputs": [
        {
          "output_type": "stream",
          "name": "stdout",
          "text": [
            "Epoch: 1, Iter: 100, Loss: 0.11520905542373658\n",
            "Epoch: 1, Iter: 200, Loss: 0.11522598195075989\n",
            "Epoch: 1, Iter: 300, Loss: 0.11520017457008362\n",
            "Epoch: 1, Iter: 400, Loss: 0.11516600048542022\n",
            "Epoch: 1, Iter: 500, Loss: 0.1152052116394043\n",
            "Epoch: 1, Iter: 600, Loss: 0.11518823826313018\n",
            "Epoch: 1, Iter: 700, Loss: 0.1151527236700058\n",
            "Epoch: 1, Iter: 800, Loss: 0.115143119931221\n",
            "Epoch: 1, Iter: 900, Loss: 0.11514590167999268\n",
            "Epoch: 2, Iter: 100, Loss: 0.1151451063156128\n",
            "Epoch: 2, Iter: 200, Loss: 0.11514082956314087\n",
            "Epoch: 2, Iter: 300, Loss: 0.11512845695018768\n",
            "Epoch: 2, Iter: 400, Loss: 0.11513709509372712\n",
            "Epoch: 2, Iter: 500, Loss: 0.11513122010231018\n",
            "Epoch: 2, Iter: 600, Loss: 0.11512874853610992\n",
            "Epoch: 2, Iter: 700, Loss: 0.11514338779449462\n",
            "Epoch: 2, Iter: 800, Loss: 0.11514298486709594\n",
            "Epoch: 2, Iter: 900, Loss: 0.11513659834861756\n",
            "Epoch: 3, Iter: 100, Loss: 0.11513409614562989\n",
            "Epoch: 3, Iter: 200, Loss: 0.11512728488445281\n",
            "Epoch: 3, Iter: 300, Loss: 0.11513804638385773\n",
            "Epoch: 3, Iter: 400, Loss: 0.11513854825496674\n",
            "Epoch: 3, Iter: 500, Loss: 0.11513528192043304\n",
            "Epoch: 3, Iter: 600, Loss: 0.11513275110721588\n",
            "Epoch: 3, Iter: 700, Loss: 0.11513510310649872\n",
            "Epoch: 3, Iter: 800, Loss: 0.11513371789455414\n",
            "Epoch: 3, Iter: 900, Loss: 0.11513210606575013\n",
            "Epoch: 4, Iter: 100, Loss: 0.11512465167045594\n",
            "Epoch: 4, Iter: 200, Loss: 0.11513081121444702\n",
            "Epoch: 4, Iter: 300, Loss: 0.11513794863224029\n",
            "Epoch: 4, Iter: 400, Loss: 0.11512727642059326\n",
            "Epoch: 4, Iter: 500, Loss: 0.11513964235782623\n",
            "Epoch: 4, Iter: 600, Loss: 0.11513493943214416\n",
            "Epoch: 4, Iter: 700, Loss: 0.11513768601417541\n",
            "Epoch: 4, Iter: 800, Loss: 0.11513123166561126\n",
            "Epoch: 4, Iter: 900, Loss: 0.115135129570961\n",
            "Epoch: 5, Iter: 100, Loss: 0.11512718605995179\n",
            "Epoch: 5, Iter: 200, Loss: 0.11513149321079254\n",
            "Epoch: 5, Iter: 300, Loss: 0.1151341598033905\n",
            "Epoch: 5, Iter: 400, Loss: 0.11513220012187958\n",
            "Epoch: 5, Iter: 500, Loss: 0.1151359429359436\n",
            "Epoch: 5, Iter: 600, Loss: 0.11513215625286102\n",
            "Epoch: 5, Iter: 700, Loss: 0.11513784658908845\n",
            "Epoch: 5, Iter: 800, Loss: 0.11513306295871735\n",
            "Epoch: 5, Iter: 900, Loss: 0.1151348580121994\n",
            "Epoch: 6, Iter: 100, Loss: 0.11513420557975769\n",
            "Epoch: 6, Iter: 200, Loss: 0.11512976920604706\n",
            "Epoch: 6, Iter: 300, Loss: 0.11513318765163422\n",
            "Epoch: 6, Iter: 400, Loss: 0.11512917947769165\n",
            "Epoch: 6, Iter: 500, Loss: 0.11513399732112885\n",
            "Epoch: 6, Iter: 600, Loss: 0.11513445377349854\n",
            "Epoch: 6, Iter: 700, Loss: 0.11513663697242736\n",
            "Epoch: 6, Iter: 800, Loss: 0.11513434100151063\n",
            "Epoch: 6, Iter: 900, Loss: 0.11513645720481873\n",
            "Epoch: 7, Iter: 100, Loss: 0.11513449478149414\n",
            "Epoch: 7, Iter: 200, Loss: 0.11513053810596466\n",
            "Epoch: 7, Iter: 300, Loss: 0.11513143861293793\n",
            "Epoch: 7, Iter: 400, Loss: 0.11513469874858856\n",
            "Epoch: 7, Iter: 500, Loss: 0.11512954533100128\n",
            "Epoch: 7, Iter: 600, Loss: 0.11513338339328766\n",
            "Epoch: 7, Iter: 700, Loss: 0.11513683474063874\n",
            "Epoch: 7, Iter: 800, Loss: 0.11513259971141815\n",
            "Epoch: 7, Iter: 900, Loss: 0.11513582122325897\n",
            "Epoch: 8, Iter: 100, Loss: 0.1151281841993332\n",
            "Epoch: 8, Iter: 200, Loss: 0.11513396096229553\n",
            "Epoch: 8, Iter: 300, Loss: 0.11513724148273469\n",
            "Epoch: 8, Iter: 400, Loss: 0.11512858414649964\n",
            "Epoch: 8, Iter: 500, Loss: 0.11513243472576142\n",
            "Epoch: 8, Iter: 600, Loss: 0.11513243758678436\n",
            "Epoch: 8, Iter: 700, Loss: 0.11513647449016572\n",
            "Epoch: 8, Iter: 800, Loss: 0.11513967442512513\n",
            "Epoch: 8, Iter: 900, Loss: 0.11513585829734803\n",
            "Epoch: 9, Iter: 100, Loss: 0.11513269305229187\n",
            "Epoch: 9, Iter: 200, Loss: 0.11512940669059754\n",
            "Epoch: 9, Iter: 300, Loss: 0.11513021802902222\n",
            "Epoch: 9, Iter: 400, Loss: 0.11514013588428497\n",
            "Epoch: 9, Iter: 500, Loss: 0.11513127684593201\n",
            "Epoch: 9, Iter: 600, Loss: 0.11513296306133271\n",
            "Epoch: 9, Iter: 700, Loss: 0.11513410449028015\n",
            "Epoch: 9, Iter: 800, Loss: 0.11512662577629089\n",
            "Epoch: 9, Iter: 900, Loss: 0.11514270174503326\n",
            "Epoch: 10, Iter: 100, Loss: 0.11512606382369996\n",
            "Epoch: 10, Iter: 200, Loss: 0.11513689363002777\n",
            "Epoch: 10, Iter: 300, Loss: 0.11513683021068573\n",
            "Epoch: 10, Iter: 400, Loss: 0.11513349962234497\n",
            "Epoch: 10, Iter: 500, Loss: 0.11512932074069977\n",
            "Epoch: 10, Iter: 600, Loss: 0.11514001286029815\n",
            "Epoch: 10, Iter: 700, Loss: 0.11513255822658539\n",
            "Epoch: 10, Iter: 800, Loss: 0.11513396620750427\n",
            "Epoch: 10, Iter: 900, Loss: 0.11513444554805756\n"
          ]
        }
      ]
    },
    {
      "cell_type": "markdown",
      "source": [
        "### 3. DeepFC_net128\n",
        "* 2개의 Convolution-layer & 5개의 fc-layer\n",
        "* 128 batch-size"
      ],
      "metadata": {
        "id": "LaVvtEOvKUgJ"
      }
    },
    {
      "cell_type": "code",
      "source": [
        "for epoch in range(10):\n",
        "\n",
        "    running_loss = 0.0\n",
        "\n",
        "    for i, data in enumerate(train_loader128, start=0):\n",
        "        inputs, labels = data[0].to(device), data[1].to(device)\n",
        "\n",
        "        optimizerFC_128.zero_grad() # epoch마다 gradient 0으로 초기화\n",
        "\n",
        "        outputs = DeepFC_net128(inputs) # y_pred = f(X)\n",
        "        loss = criterion(outputs, labels) # CrossEntropyLoss; 0~1 사이값\n",
        "        loss.backward() # back-propagation; gradient 계산\n",
        "        optimizerFC_128.step() # parameters(weights) update\n",
        "\n",
        "        running_loss += loss.item() # 그냥 전체적인 비교를 위해 누적함\n",
        "\n",
        "        if i % 100 == 99: # 100번 마다 확인; epoch=10, iter(=i)=469, batch=128\n",
        "            print('Epoch: {}, Iter: {}, Loss: {}'.format(epoch+1, i+1, running_loss/2000))\n",
        "            running_loss = 0.0"
      ],
      "metadata": {
        "colab": {
          "base_uri": "https://localhost:8080/"
        },
        "id": "Dwh9TK_1KUgK",
        "outputId": "de5754d5-9cda-46da-c9e1-65c5b4925efb"
      },
      "execution_count": null,
      "outputs": [
        {
          "output_type": "stream",
          "name": "stdout",
          "text": [
            "Epoch: 1, Iter: 100, Loss: 0.11518402242660522\n",
            "Epoch: 1, Iter: 200, Loss: 0.11510258829593659\n",
            "Epoch: 1, Iter: 300, Loss: 0.11504803705215454\n",
            "Epoch: 1, Iter: 400, Loss: 0.11492359864711761\n",
            "Epoch: 2, Iter: 100, Loss: 0.11472778868675232\n",
            "Epoch: 2, Iter: 200, Loss: 0.11455101549625396\n",
            "Epoch: 2, Iter: 300, Loss: 0.11419897246360779\n",
            "Epoch: 2, Iter: 400, Loss: 0.113487291097641\n",
            "Epoch: 3, Iter: 100, Loss: 0.10588405382633209\n",
            "Epoch: 3, Iter: 200, Loss: 0.08143104749917984\n",
            "Epoch: 3, Iter: 300, Loss: 0.05438507062196732\n",
            "Epoch: 3, Iter: 400, Loss: 0.04165342181921005\n",
            "Epoch: 4, Iter: 100, Loss: 0.034055613890290264\n",
            "Epoch: 4, Iter: 200, Loss: 0.033507004097104075\n",
            "Epoch: 4, Iter: 300, Loss: 0.032280022963881494\n",
            "Epoch: 4, Iter: 400, Loss: 0.03148003332316875\n",
            "Epoch: 5, Iter: 100, Loss: 0.030094731912016868\n",
            "Epoch: 5, Iter: 200, Loss: 0.029334189876914024\n",
            "Epoch: 5, Iter: 300, Loss: 0.02887056314945221\n",
            "Epoch: 5, Iter: 400, Loss: 0.02873057098686695\n",
            "Epoch: 6, Iter: 100, Loss: 0.027721023917198183\n",
            "Epoch: 6, Iter: 200, Loss: 0.02716774897277355\n",
            "Epoch: 6, Iter: 300, Loss: 0.026291651517152785\n",
            "Epoch: 6, Iter: 400, Loss: 0.026001902893185616\n",
            "Epoch: 7, Iter: 100, Loss: 0.02623932287096977\n",
            "Epoch: 7, Iter: 200, Loss: 0.025326516285538673\n",
            "Epoch: 7, Iter: 300, Loss: 0.023801218420267105\n",
            "Epoch: 7, Iter: 400, Loss: 0.024820579186081885\n",
            "Epoch: 8, Iter: 100, Loss: 0.024057361140847205\n",
            "Epoch: 8, Iter: 200, Loss: 0.02436144486069679\n",
            "Epoch: 8, Iter: 300, Loss: 0.023675076201558114\n",
            "Epoch: 8, Iter: 400, Loss: 0.02332581175863743\n",
            "Epoch: 9, Iter: 100, Loss: 0.022955850571393967\n",
            "Epoch: 9, Iter: 200, Loss: 0.02224526357650757\n",
            "Epoch: 9, Iter: 300, Loss: 0.02298185960948467\n",
            "Epoch: 9, Iter: 400, Loss: 0.021959273368120192\n",
            "Epoch: 10, Iter: 100, Loss: 0.021524197444319725\n",
            "Epoch: 10, Iter: 200, Loss: 0.021276491075754165\n",
            "Epoch: 10, Iter: 300, Loss: 0.020786804392933844\n",
            "Epoch: 10, Iter: 400, Loss: 0.021805863425135612\n"
          ]
        }
      ]
    },
    {
      "cell_type": "markdown",
      "source": [
        "### 4. DeepFC_net128\n",
        "* 2개의 Convolution-layer & 5개의 fc-layer\n",
        "* 64 batch-size"
      ],
      "metadata": {
        "id": "jRyyw49jKVhj"
      }
    },
    {
      "cell_type": "code",
      "source": [
        "for epoch in range(10):\n",
        "\n",
        "    running_loss = 0.0\n",
        "\n",
        "    for i, data in enumerate(train_loader64, start=0):\n",
        "        inputs, labels = data[0].to(device), data[1].to(device)\n",
        "\n",
        "        optimizerFC_64.zero_grad() # epoch마다 gradient 0으로 초기화\n",
        "\n",
        "        outputs = DeepFC_net64(inputs) # y_pred = f(X)\n",
        "        loss = criterion(outputs, labels) # CrossEntropyLoss; 0~1 사이값\n",
        "        loss.backward() # back-propagation; gradient 계산\n",
        "        optimizerFC_64.step() # parameters(weights) update\n",
        "\n",
        "        running_loss += loss.item() # 그냥 전체적인 비교를 위해 누적함\n",
        "\n",
        "        if i % 100 == 99: # 100번 마다 확인; epoch=10, iter(=i)=469, batch=64\n",
        "            print('Epoch: {}, Iter: {}, Loss: {}'.format(epoch+1, i+1, running_loss/2000))\n",
        "            running_loss = 0.0"
      ],
      "metadata": {
        "colab": {
          "base_uri": "https://localhost:8080/"
        },
        "id": "X3847V0dKVhk",
        "outputId": "ca18db9b-88a8-4d19-faef-08f58e7fb6b3"
      },
      "execution_count": null,
      "outputs": [
        {
          "output_type": "stream",
          "name": "stdout",
          "text": [
            "Epoch: 1, Iter: 100, Loss: 0.11514135587215424\n",
            "Epoch: 1, Iter: 200, Loss: 0.11508983528614045\n",
            "Epoch: 1, Iter: 300, Loss: 0.11497322487831116\n",
            "Epoch: 1, Iter: 400, Loss: 0.11488701653480529\n",
            "Epoch: 1, Iter: 500, Loss: 0.11474923300743103\n",
            "Epoch: 1, Iter: 600, Loss: 0.11453506755828857\n",
            "Epoch: 1, Iter: 700, Loss: 0.1142014389038086\n",
            "Epoch: 1, Iter: 800, Loss: 0.11368099439144135\n",
            "Epoch: 1, Iter: 900, Loss: 0.11258122313022613\n",
            "Epoch: 2, Iter: 100, Loss: 0.10422820156812668\n",
            "Epoch: 2, Iter: 200, Loss: 0.0733283323943615\n",
            "Epoch: 2, Iter: 300, Loss: 0.04802433851361275\n",
            "Epoch: 2, Iter: 400, Loss: 0.043299988657236096\n",
            "Epoch: 2, Iter: 500, Loss: 0.03773823803663254\n",
            "Epoch: 2, Iter: 600, Loss: 0.03611106611788273\n",
            "Epoch: 2, Iter: 700, Loss: 0.03486390765011311\n",
            "Epoch: 2, Iter: 800, Loss: 0.031671139851212504\n",
            "Epoch: 2, Iter: 900, Loss: 0.0321476313918829\n",
            "Epoch: 3, Iter: 100, Loss: 0.030991616159677507\n",
            "Epoch: 3, Iter: 200, Loss: 0.03142943578958511\n",
            "Epoch: 3, Iter: 300, Loss: 0.030080072805285452\n",
            "Epoch: 3, Iter: 400, Loss: 0.029984442993998526\n",
            "Epoch: 3, Iter: 500, Loss: 0.028142292276024817\n",
            "Epoch: 3, Iter: 600, Loss: 0.027792856097221375\n",
            "Epoch: 3, Iter: 700, Loss: 0.02866992174088955\n",
            "Epoch: 3, Iter: 800, Loss: 0.02826155124604702\n",
            "Epoch: 3, Iter: 900, Loss: 0.02714287033677101\n",
            "Epoch: 4, Iter: 100, Loss: 0.02689547549188137\n",
            "Epoch: 4, Iter: 200, Loss: 0.026373796194791795\n",
            "Epoch: 4, Iter: 300, Loss: 0.026020767480134963\n",
            "Epoch: 4, Iter: 400, Loss: 0.02555381467938423\n",
            "Epoch: 4, Iter: 500, Loss: 0.02471801382303238\n",
            "Epoch: 4, Iter: 600, Loss: 0.02420280535519123\n",
            "Epoch: 4, Iter: 700, Loss: 0.025503883495926857\n",
            "Epoch: 4, Iter: 800, Loss: 0.024677960202097893\n",
            "Epoch: 4, Iter: 900, Loss: 0.023597763419151305\n",
            "Epoch: 5, Iter: 100, Loss: 0.023780727937817575\n",
            "Epoch: 5, Iter: 200, Loss: 0.023569552704691885\n",
            "Epoch: 5, Iter: 300, Loss: 0.02353403186798096\n",
            "Epoch: 5, Iter: 400, Loss: 0.023475739568471907\n",
            "Epoch: 5, Iter: 500, Loss: 0.022649493366479874\n",
            "Epoch: 5, Iter: 600, Loss: 0.02290432193875313\n",
            "Epoch: 5, Iter: 700, Loss: 0.022701740458607674\n",
            "Epoch: 5, Iter: 800, Loss: 0.02226406383514404\n",
            "Epoch: 5, Iter: 900, Loss: 0.022102498248219492\n",
            "Epoch: 6, Iter: 100, Loss: 0.02278415371477604\n",
            "Epoch: 6, Iter: 200, Loss: 0.021443371206521986\n",
            "Epoch: 6, Iter: 300, Loss: 0.020859860248863698\n",
            "Epoch: 6, Iter: 400, Loss: 0.02070838701725006\n",
            "Epoch: 6, Iter: 500, Loss: 0.021158100597560407\n",
            "Epoch: 6, Iter: 600, Loss: 0.022094268955290316\n",
            "Epoch: 6, Iter: 700, Loss: 0.021176132798194885\n",
            "Epoch: 6, Iter: 800, Loss: 0.02191014642268419\n",
            "Epoch: 6, Iter: 900, Loss: 0.02101833501458168\n",
            "Epoch: 7, Iter: 100, Loss: 0.020692361623048782\n",
            "Epoch: 7, Iter: 200, Loss: 0.020377616949379444\n",
            "Epoch: 7, Iter: 300, Loss: 0.019246165543794633\n",
            "Epoch: 7, Iter: 400, Loss: 0.020104846358299254\n",
            "Epoch: 7, Iter: 500, Loss: 0.0203445286154747\n",
            "Epoch: 7, Iter: 600, Loss: 0.01995275866240263\n",
            "Epoch: 7, Iter: 700, Loss: 0.02037504904717207\n",
            "Epoch: 7, Iter: 800, Loss: 0.0197493866533041\n",
            "Epoch: 7, Iter: 900, Loss: 0.02031363695114851\n",
            "Epoch: 8, Iter: 100, Loss: 0.01979347401112318\n",
            "Epoch: 8, Iter: 200, Loss: 0.019156607836484908\n",
            "Epoch: 8, Iter: 300, Loss: 0.019097519114613534\n",
            "Epoch: 8, Iter: 400, Loss: 0.018477164544165134\n",
            "Epoch: 8, Iter: 500, Loss: 0.019539263635873796\n",
            "Epoch: 8, Iter: 600, Loss: 0.01954337765276432\n",
            "Epoch: 8, Iter: 700, Loss: 0.019478883147239685\n",
            "Epoch: 8, Iter: 800, Loss: 0.017791769489645958\n",
            "Epoch: 8, Iter: 900, Loss: 0.018346136890351774\n",
            "Epoch: 9, Iter: 100, Loss: 0.01798672220110893\n",
            "Epoch: 9, Iter: 200, Loss: 0.01817388492077589\n",
            "Epoch: 9, Iter: 300, Loss: 0.01854002896696329\n",
            "Epoch: 9, Iter: 400, Loss: 0.018454080887138843\n",
            "Epoch: 9, Iter: 500, Loss: 0.018171688478440046\n",
            "Epoch: 9, Iter: 600, Loss: 0.01888632345199585\n",
            "Epoch: 9, Iter: 700, Loss: 0.01847026526927948\n",
            "Epoch: 9, Iter: 800, Loss: 0.017081092797219755\n",
            "Epoch: 9, Iter: 900, Loss: 0.01854802007228136\n",
            "Epoch: 10, Iter: 100, Loss: 0.017242694832384588\n",
            "Epoch: 10, Iter: 200, Loss: 0.01689844123274088\n",
            "Epoch: 10, Iter: 300, Loss: 0.01800410111993551\n",
            "Epoch: 10, Iter: 400, Loss: 0.018248623922467233\n",
            "Epoch: 10, Iter: 500, Loss: 0.017805953532457352\n",
            "Epoch: 10, Iter: 600, Loss: 0.01722218658775091\n",
            "Epoch: 10, Iter: 700, Loss: 0.017836903117597103\n",
            "Epoch: 10, Iter: 800, Loss: 0.017347127817571164\n",
            "Epoch: 10, Iter: 900, Loss: 0.01688206657767296\n"
          ]
        }
      ]
    },
    {
      "cell_type": "markdown",
      "metadata": {
        "id": "5IecfHZiI09W"
      },
      "source": [
        "## 모델 테스트"
      ]
    },
    {
      "cell_type": "code",
      "source": [
        "# 전체 test 데이터에 대해서 성능 확인\n",
        "\n",
        "correct_list = [0]*4\n",
        "total_list = [0]*4\n",
        "a = -1\n",
        "\n",
        "model_list = {'DeepConv' : [DeepConv_net128, DeepConv_net64],\n",
        "              'DeepFC' : [DeepFC_net128, DeepFC_net64]}\n",
        "data_list = [test_loader128, test_loader64]\n",
        "\n",
        "with torch.no_grad(): # grad가 필요없다.\n",
        "\n",
        "    for key in model_list:\n",
        "        for idx in range(len(model_list[key])):\n",
        "            a += 1\n",
        "            model = model_list[key][idx]\n",
        "            data_loader = data_list[idx]\n",
        "            for data in data_loader:\n",
        "                images, labels = data[0].to(device), data[1].to(device)\n",
        "\n",
        "                outputs = model(images)\n",
        "                _, predicted = torch.max(outputs.data, 1)\n",
        "\n",
        "                total_list[a] += labels.size(0)\n",
        "                correct_list[a] += (predicted == labels).sum().item()\n",
        "            \n",
        "correct_rate = np.array(correct_list) / np.array(total_list)\n",
        "model_name = ['DeepConv_net128', 'DeepConv_net64', 'DeepFC_net128', 'DeepFC_net64']\n",
        "\n",
        "for i in range(len(correct_rate)):\n",
        "    print('{0} : {1}'.format(model_name[i], correct_rate[i]))"
      ],
      "metadata": {
        "colab": {
          "base_uri": "https://localhost:8080/"
        },
        "id": "VjVs_iS0rlof",
        "outputId": "96cde8ad-a901-4e4d-aa00-f8c41e62592b"
      },
      "execution_count": null,
      "outputs": [
        {
          "output_type": "stream",
          "name": "stdout",
          "text": [
            "DeepConv_net128 : 0.1\n",
            "DeepConv_net64 : 0.1\n",
            "DeepFC_net128 : 0.8378\n",
            "DeepFC_net64 : 0.858\n"
          ]
        }
      ]
    },
    {
      "cell_type": "markdown",
      "source": [
        "# FashionMNIST 분류 모델 중 성능이 낮은 모델 이유 확인"
      ],
      "metadata": {
        "id": "SZcZQv4PGeYv"
      }
    },
    {
      "cell_type": "markdown",
      "source": [
        "## Convolution-layer를 하나씩 추가하면서, 성능변화를 관찰\n",
        "\n",
        "-3개의 convolution-layer 사용 시 성능이 가장 좋았다 -> overfitting 이슈가 4,5개 convolution-layer 사용한 모델에서 발생한 듯 하다 "
      ],
      "metadata": {
        "id": "V7HoLqroDhyF"
      }
    },
    {
      "cell_type": "markdown",
      "source": [
        "### 3개의 convolution-layer 사용시"
      ],
      "metadata": {
        "id": "_civVcIYBGxA"
      }
    },
    {
      "cell_type": "code",
      "source": [
        "class CNN_Model3(nn.Module):\n",
        "    def __init__(self):\n",
        "        super(CNN_Model3, self).__init__()\n",
        "\n",
        "        self.conv1 = nn.Conv2d(in_channels=1, out_channels=5, kernel_size=3, stride=1, padding=2)\n",
        "        self.conv2 = nn.Conv2d(5, 7, 3, padding=1)\n",
        "        self.conv3 = nn.Conv2d(7, 16, 2, padding=1)\n",
        "\n",
        "        self.fc1 = nn.Linear(16* 16 * 16, 3000)\n",
        "        self.fc2 = nn.Linear(3000, 1500)\n",
        "        self.fc3 = nn.Linear(1500, 20 * 3 * 3)\n",
        "        self.fc4 = nn.Linear(20 * 3 * 3, 86)\n",
        "        self.fc5 = nn.Linear(86, 10) # 10 : 10개의 category\n",
        "\n",
        "    def forward(self, x):\n",
        "        x = F.relu(self.conv1(x))\n",
        "        x = F.max_pool2d(x, (2,2))\n",
        "        x = F.relu(self.conv2(x))\n",
        "        x = F.relu(self.conv3(x))\n",
        "\n",
        "        x = x.view(-1, self.num_flat_features(x)) # num_flat_features : 아래에서 정의\n",
        "\n",
        "        x = F.relu(self.fc1(x))\n",
        "        x = F.relu(self.fc2(x))\n",
        "        x = F.relu(self.fc3(x))\n",
        "        x = F.relu(self.fc4(x))\n",
        "        x = self.fc5(x)\n",
        "\n",
        "        return x\n",
        "    \n",
        "    def num_flat_features(self, x): # 처음 dim-size을 제외하고, 모두 곱한 값을 반환해준다.\n",
        "        size = x.size()[1:]\n",
        "        num_features = 1\n",
        "        for s in size:\n",
        "            num_features *= s\n",
        "        \n",
        "        return num_features"
      ],
      "metadata": {
        "id": "29zvOdhT-fwY"
      },
      "execution_count": null,
      "outputs": []
    },
    {
      "cell_type": "code",
      "source": [
        "# 모델객체 생성\n",
        "new_model = CNN_Model3().to(device)\n",
        "\n",
        "print(new_model)"
      ],
      "metadata": {
        "colab": {
          "base_uri": "https://localhost:8080/"
        },
        "outputId": "7201580d-f17a-4e32-a1a1-6a2e8e8962ed",
        "id": "t81gXZmz-fwY"
      },
      "execution_count": null,
      "outputs": [
        {
          "output_type": "stream",
          "name": "stdout",
          "text": [
            "CNN_Model3(\n",
            "  (conv1): Conv2d(1, 5, kernel_size=(3, 3), stride=(1, 1), padding=(2, 2))\n",
            "  (conv2): Conv2d(5, 7, kernel_size=(3, 3), stride=(1, 1), padding=(1, 1))\n",
            "  (conv3): Conv2d(7, 16, kernel_size=(2, 2), stride=(1, 1), padding=(1, 1))\n",
            "  (fc1): Linear(in_features=4096, out_features=3000, bias=True)\n",
            "  (fc2): Linear(in_features=3000, out_features=1500, bias=True)\n",
            "  (fc3): Linear(in_features=1500, out_features=180, bias=True)\n",
            "  (fc4): Linear(in_features=180, out_features=86, bias=True)\n",
            "  (fc5): Linear(in_features=86, out_features=10, bias=True)\n",
            ")\n"
          ]
        }
      ]
    },
    {
      "cell_type": "code",
      "source": [
        "summary(new_model, input_size=(1, 28, 28), batch_size=128)"
      ],
      "metadata": {
        "colab": {
          "base_uri": "https://localhost:8080/"
        },
        "id": "Bb2EkGUbBnuM",
        "outputId": "f646fb7f-fbb6-4eba-bdae-4ed2c3dd0d61"
      },
      "execution_count": null,
      "outputs": [
        {
          "output_type": "stream",
          "name": "stdout",
          "text": [
            "----------------------------------------------------------------\n",
            "        Layer (type)               Output Shape         Param #\n",
            "================================================================\n",
            "            Conv2d-1           [128, 5, 30, 30]              50\n",
            "            Conv2d-2           [128, 7, 15, 15]             322\n",
            "            Conv2d-3          [128, 16, 16, 16]             464\n",
            "            Linear-4                [128, 3000]      12,291,000\n",
            "            Linear-5                [128, 1500]       4,501,500\n",
            "            Linear-6                 [128, 180]         270,180\n",
            "            Linear-7                  [128, 86]          15,566\n",
            "            Linear-8                  [128, 10]             870\n",
            "================================================================\n",
            "Total params: 17,079,952\n",
            "Trainable params: 17,079,952\n",
            "Non-trainable params: 0\n",
            "----------------------------------------------------------------\n",
            "Input size (MB): 0.38\n",
            "Forward/backward pass size (MB): 14.60\n",
            "Params size (MB): 65.15\n",
            "Estimated Total Size (MB): 80.13\n",
            "----------------------------------------------------------------\n"
          ]
        }
      ]
    },
    {
      "cell_type": "code",
      "source": [
        "optimizer = optim.SGD(new_model.parameters(), lr=0.001, momentum=0.9)"
      ],
      "metadata": {
        "id": "aQDT4bYIBsZl"
      },
      "execution_count": null,
      "outputs": []
    },
    {
      "cell_type": "code",
      "source": [
        "for epoch in range(10):\n",
        "\n",
        "    running_loss = 0.0\n",
        "\n",
        "    for i, data in enumerate(train_loader128, start=0):\n",
        "        inputs, labels = data[0].to(device), data[1].to(device)\n",
        "\n",
        "        optimizer.zero_grad() # epoch마다 gradient 0으로 초기화\n",
        "\n",
        "        outputs = new_model(inputs) # y_pred = f(X)\n",
        "        loss = criterion(outputs, labels) # CrossEntropyLoss; 0~1 사이값\n",
        "        loss.backward() # back-propagation; gradient 계산\n",
        "        optimizer.step() # parameters(weights) update\n",
        "\n",
        "        running_loss += loss.item() # 그냥 전체적인 비교를 위해 누적함\n",
        "\n",
        "        if i % 100 == 99: # 100번 마다 확인; epoch=10, iter(=i)=469, batch=128\n",
        "            print('Epoch: {}, Iter: {}, Loss: {}'.format(epoch+1, i+1, running_loss/2000))\n",
        "            running_loss = 0.0"
      ],
      "metadata": {
        "colab": {
          "base_uri": "https://localhost:8080/"
        },
        "id": "D6GqkR8nBwhH",
        "outputId": "3a392d94-2ebb-47c5-8abe-c94d08217206"
      },
      "execution_count": null,
      "outputs": [
        {
          "output_type": "stream",
          "name": "stdout",
          "text": [
            "Epoch: 1, Iter: 100, Loss: 0.1151690571308136\n",
            "Epoch: 1, Iter: 200, Loss: 0.11523366487026214\n",
            "Epoch: 1, Iter: 300, Loss: 0.11515863466262817\n",
            "Epoch: 1, Iter: 400, Loss: 0.11512654900550842\n",
            "Epoch: 2, Iter: 100, Loss: 0.11511004614830017\n",
            "Epoch: 2, Iter: 200, Loss: 0.11505749332904816\n",
            "Epoch: 2, Iter: 300, Loss: 0.11504490971565247\n",
            "Epoch: 2, Iter: 400, Loss: 0.1150310709476471\n",
            "Epoch: 3, Iter: 100, Loss: 0.11497744226455689\n",
            "Epoch: 3, Iter: 200, Loss: 0.11493766021728516\n",
            "Epoch: 3, Iter: 300, Loss: 0.1148950719833374\n",
            "Epoch: 3, Iter: 400, Loss: 0.11483719897270203\n",
            "Epoch: 4, Iter: 100, Loss: 0.11468647062778473\n",
            "Epoch: 4, Iter: 200, Loss: 0.11454112577438355\n",
            "Epoch: 4, Iter: 300, Loss: 0.11429765391349793\n",
            "Epoch: 4, Iter: 400, Loss: 0.11387550187110901\n",
            "Epoch: 5, Iter: 100, Loss: 0.11133917975425721\n",
            "Epoch: 5, Iter: 200, Loss: 0.09825861823558807\n",
            "Epoch: 5, Iter: 300, Loss: 0.06520409232378006\n",
            "Epoch: 5, Iter: 400, Loss: 0.043480889290571215\n",
            "Epoch: 6, Iter: 100, Loss: 0.03485772861540318\n",
            "Epoch: 6, Iter: 200, Loss: 0.03300875364243984\n",
            "Epoch: 6, Iter: 300, Loss: 0.03209701704978943\n",
            "Epoch: 6, Iter: 400, Loss: 0.031271287083625796\n",
            "Epoch: 7, Iter: 100, Loss: 0.030331861570477486\n",
            "Epoch: 7, Iter: 200, Loss: 0.029364878565073013\n",
            "Epoch: 7, Iter: 300, Loss: 0.028062998935580254\n",
            "Epoch: 7, Iter: 400, Loss: 0.028621960699558257\n",
            "Epoch: 8, Iter: 100, Loss: 0.026509821087121962\n",
            "Epoch: 8, Iter: 200, Loss: 0.02668530625104904\n",
            "Epoch: 8, Iter: 300, Loss: 0.02756687605381012\n",
            "Epoch: 8, Iter: 400, Loss: 0.02558841671049595\n",
            "Epoch: 9, Iter: 100, Loss: 0.025664287388324738\n",
            "Epoch: 9, Iter: 200, Loss: 0.024286314353346824\n",
            "Epoch: 9, Iter: 300, Loss: 0.024840993642807008\n",
            "Epoch: 9, Iter: 400, Loss: 0.023855738177895547\n",
            "Epoch: 10, Iter: 100, Loss: 0.023907226234674454\n",
            "Epoch: 10, Iter: 200, Loss: 0.022859461218118667\n",
            "Epoch: 10, Iter: 300, Loss: 0.022868194818496702\n",
            "Epoch: 10, Iter: 400, Loss: 0.023129882842302323\n"
          ]
        }
      ]
    },
    {
      "cell_type": "code",
      "source": [
        "correct = 0\n",
        "total = 0\n",
        "\n",
        "with torch.no_grad():\n",
        "    for data in test_loader128:\n",
        "        images, labels = data[0].to(device), data[1].to(device)\n",
        "        outputs = new_model(images)\n",
        "        _, predicted = torch.max(outputs.data, axis=1)\n",
        "        total += labels.size(0)\n",
        "        correct += (predicted == labels).sum().item()\n",
        "    \n",
        "    print(100 * correct / total)"
      ],
      "metadata": {
        "colab": {
          "base_uri": "https://localhost:8080/"
        },
        "id": "1PDu2v9bB_NE",
        "outputId": "f04cc691-d361-476e-fc25-9ee204c8d7b0"
      },
      "execution_count": null,
      "outputs": [
        {
          "output_type": "stream",
          "name": "stdout",
          "text": [
            "82.53\n"
          ]
        }
      ]
    },
    {
      "cell_type": "markdown",
      "source": [
        "### 4개의 convolution-layer 사용시"
      ],
      "metadata": {
        "id": "7Thu9NRyCV7j"
      }
    },
    {
      "cell_type": "code",
      "source": [
        "class CNN_Model4(nn.Module):\n",
        "    def __init__(self):\n",
        "        super(CNN_Model4, self).__init__()\n",
        "\n",
        "        self.conv1 = nn.Conv2d(in_channels=1, out_channels=5, kernel_size=3, stride=1, padding=2)\n",
        "        self.conv2 = nn.Conv2d(5, 7, 3, padding=1)\n",
        "        self.conv3 = nn.Conv2d(7, 16, 2, padding=1)\n",
        "        self.conv4 = nn.Conv2d(16, 19, 2)\n",
        "\n",
        "        self.fc1 = nn.Linear(15* 15 * 19, 3000)\n",
        "        self.fc2 = nn.Linear(3000, 1500)\n",
        "        self.fc3 = nn.Linear(1500, 20 * 3 * 3)\n",
        "        self.fc4 = nn.Linear(20 * 3 * 3, 86)\n",
        "        self.fc5 = nn.Linear(86, 10) # 10 : 10개의 category\n",
        "\n",
        "    def forward(self, x):\n",
        "        x = F.relu(self.conv1(x))\n",
        "        x = F.max_pool2d(x, (2,2))\n",
        "        x = F.relu(self.conv2(x))\n",
        "        x = F.relu(self.conv3(x))\n",
        "        x = F.relu(self.conv4(x))\n",
        "\n",
        "        x = x.view(-1, self.num_flat_features(x)) # num_flat_features : 아래에서 정의\n",
        "\n",
        "        x = F.relu(self.fc1(x))\n",
        "        x = F.relu(self.fc2(x))\n",
        "        x = F.relu(self.fc3(x))\n",
        "        x = F.relu(self.fc4(x))\n",
        "        x = self.fc5(x)\n",
        "\n",
        "        return x\n",
        "    \n",
        "    def num_flat_features(self, x): # 처음 dim-size을 제외하고, 모두 곱한 값을 반환해준다.\n",
        "        size = x.size()[1:]\n",
        "        num_features = 1\n",
        "        for s in size:\n",
        "            num_features *= s\n",
        "        \n",
        "        return num_features"
      ],
      "metadata": {
        "id": "V9PQvGFPCV7k"
      },
      "execution_count": null,
      "outputs": []
    },
    {
      "cell_type": "code",
      "source": [
        "# 모델객체 생성\n",
        "new_model = CNN_Model4().to(device)\n",
        "\n",
        "print(new_model)"
      ],
      "metadata": {
        "colab": {
          "base_uri": "https://localhost:8080/"
        },
        "outputId": "1b42adfb-b8dc-45c7-b88d-66ed78b7c4a9",
        "id": "HNAL7SRZCV7k"
      },
      "execution_count": null,
      "outputs": [
        {
          "output_type": "stream",
          "name": "stdout",
          "text": [
            "CNN_Model4(\n",
            "  (conv1): Conv2d(1, 5, kernel_size=(3, 3), stride=(1, 1), padding=(2, 2))\n",
            "  (conv2): Conv2d(5, 7, kernel_size=(3, 3), stride=(1, 1), padding=(1, 1))\n",
            "  (conv3): Conv2d(7, 16, kernel_size=(2, 2), stride=(1, 1), padding=(1, 1))\n",
            "  (conv4): Conv2d(16, 19, kernel_size=(2, 2), stride=(1, 1))\n",
            "  (fc1): Linear(in_features=4275, out_features=3000, bias=True)\n",
            "  (fc2): Linear(in_features=3000, out_features=1500, bias=True)\n",
            "  (fc3): Linear(in_features=1500, out_features=180, bias=True)\n",
            "  (fc4): Linear(in_features=180, out_features=86, bias=True)\n",
            "  (fc5): Linear(in_features=86, out_features=10, bias=True)\n",
            ")\n"
          ]
        }
      ]
    },
    {
      "cell_type": "code",
      "source": [
        "summary(new_model, input_size=(1, 28, 28), batch_size=128)"
      ],
      "metadata": {
        "colab": {
          "base_uri": "https://localhost:8080/"
        },
        "outputId": "2894dddd-69f9-45d1-fe0e-1f15b6676771",
        "id": "fHmIarJBCV7k"
      },
      "execution_count": null,
      "outputs": [
        {
          "output_type": "stream",
          "name": "stdout",
          "text": [
            "----------------------------------------------------------------\n",
            "        Layer (type)               Output Shape         Param #\n",
            "================================================================\n",
            "            Conv2d-1           [128, 5, 30, 30]              50\n",
            "            Conv2d-2           [128, 7, 15, 15]             322\n",
            "            Conv2d-3          [128, 16, 16, 16]             464\n",
            "            Conv2d-4          [128, 19, 15, 15]           1,235\n",
            "            Linear-5                [128, 3000]      12,828,000\n",
            "            Linear-6                [128, 1500]       4,501,500\n",
            "            Linear-7                 [128, 180]         270,180\n",
            "            Linear-8                  [128, 86]          15,566\n",
            "            Linear-9                  [128, 10]             870\n",
            "================================================================\n",
            "Total params: 17,618,187\n",
            "Trainable params: 17,618,187\n",
            "Non-trainable params: 0\n",
            "----------------------------------------------------------------\n",
            "Input size (MB): 0.38\n",
            "Forward/backward pass size (MB): 18.77\n",
            "Params size (MB): 67.21\n",
            "Estimated Total Size (MB): 86.36\n",
            "----------------------------------------------------------------\n"
          ]
        }
      ]
    },
    {
      "cell_type": "code",
      "source": [
        "optimizer = optim.SGD(new_model.parameters(), lr=0.001, momentum=0.9)"
      ],
      "metadata": {
        "id": "z6gegPTRCV7k"
      },
      "execution_count": null,
      "outputs": []
    },
    {
      "cell_type": "code",
      "source": [
        "for epoch in range(10):\n",
        "\n",
        "    running_loss = 0.0\n",
        "\n",
        "    for i, data in enumerate(train_loader128, start=0):\n",
        "        inputs, labels = data[0].to(device), data[1].to(device)\n",
        "\n",
        "        optimizer.zero_grad() # epoch마다 gradient 0으로 초기화\n",
        "\n",
        "        outputs = new_model(inputs) # y_pred = f(X)\n",
        "        loss = criterion(outputs, labels) # CrossEntropyLoss; 0~1 사이값\n",
        "        loss.backward() # back-propagation; gradient 계산\n",
        "        optimizer.step() # parameters(weights) update\n",
        "\n",
        "        running_loss += loss.item() # 그냥 전체적인 비교를 위해 누적함\n",
        "\n",
        "        if i % 100 == 99: # 100번 마다 확인; epoch=10, iter(=i)=469, batch=128\n",
        "            print('Epoch: {}, Iter: {}, Loss: {}'.format(epoch+1, i+1, running_loss/2000))\n",
        "            running_loss = 0.0"
      ],
      "metadata": {
        "colab": {
          "base_uri": "https://localhost:8080/"
        },
        "outputId": "c09aa04b-6d3a-4742-b1b6-e380e8fe2367",
        "id": "oeeKVQdKCV7k"
      },
      "execution_count": null,
      "outputs": [
        {
          "output_type": "stream",
          "name": "stdout",
          "text": [
            "Epoch: 1, Iter: 100, Loss: 0.11517873215675355\n",
            "Epoch: 1, Iter: 200, Loss: 0.115182079911232\n",
            "Epoch: 1, Iter: 300, Loss: 0.11517299902439117\n",
            "Epoch: 1, Iter: 400, Loss: 0.11515616714954376\n",
            "Epoch: 2, Iter: 100, Loss: 0.11512823820114136\n",
            "Epoch: 2, Iter: 200, Loss: 0.1151269142627716\n",
            "Epoch: 2, Iter: 300, Loss: 0.1151226578950882\n",
            "Epoch: 2, Iter: 400, Loss: 0.11510485851764679\n",
            "Epoch: 3, Iter: 100, Loss: 0.11510546910762787\n",
            "Epoch: 3, Iter: 200, Loss: 0.1150906320810318\n",
            "Epoch: 3, Iter: 300, Loss: 0.11508043324947358\n",
            "Epoch: 3, Iter: 400, Loss: 0.1150631947517395\n",
            "Epoch: 4, Iter: 100, Loss: 0.11505874872207641\n",
            "Epoch: 4, Iter: 200, Loss: 0.1150482714176178\n",
            "Epoch: 4, Iter: 300, Loss: 0.11503410291671753\n",
            "Epoch: 4, Iter: 400, Loss: 0.11501801919937134\n",
            "Epoch: 5, Iter: 100, Loss: 0.11498456621170045\n",
            "Epoch: 5, Iter: 200, Loss: 0.1149625152349472\n",
            "Epoch: 5, Iter: 300, Loss: 0.11493426656723023\n",
            "Epoch: 5, Iter: 400, Loss: 0.11488965022563934\n",
            "Epoch: 6, Iter: 100, Loss: 0.11478074133396149\n",
            "Epoch: 6, Iter: 200, Loss: 0.11465982246398926\n",
            "Epoch: 6, Iter: 300, Loss: 0.11448730039596558\n",
            "Epoch: 6, Iter: 400, Loss: 0.11419477558135986\n",
            "Epoch: 7, Iter: 100, Loss: 0.11299261689186096\n",
            "Epoch: 7, Iter: 200, Loss: 0.11004696846008301\n",
            "Epoch: 7, Iter: 300, Loss: 0.08993448460102081\n",
            "Epoch: 7, Iter: 400, Loss: 0.05388156020641327\n",
            "Epoch: 8, Iter: 100, Loss: 0.03795640116930008\n",
            "Epoch: 8, Iter: 200, Loss: 0.034498425215482714\n",
            "Epoch: 8, Iter: 300, Loss: 0.03353710567951202\n",
            "Epoch: 8, Iter: 400, Loss: 0.03274767841398716\n",
            "Epoch: 9, Iter: 100, Loss: 0.031003121182322502\n",
            "Epoch: 9, Iter: 200, Loss: 0.029518798366189\n",
            "Epoch: 9, Iter: 300, Loss: 0.029281536608934403\n",
            "Epoch: 9, Iter: 400, Loss: 0.029095526590943336\n",
            "Epoch: 10, Iter: 100, Loss: 0.027266164362430574\n",
            "Epoch: 10, Iter: 200, Loss: 0.027166250169277192\n",
            "Epoch: 10, Iter: 300, Loss: 0.027064221784472466\n",
            "Epoch: 10, Iter: 400, Loss: 0.026095034673810004\n"
          ]
        }
      ]
    },
    {
      "cell_type": "code",
      "source": [
        "correct = 0\n",
        "total = 0\n",
        "\n",
        "with torch.no_grad():\n",
        "    for data in test_loader128:\n",
        "        images, labels = data[0].to(device), data[1].to(device)\n",
        "        outputs = new_model(images)\n",
        "        _, predicted = torch.max(outputs.data, axis=1)\n",
        "        total += labels.size(0)\n",
        "        correct += (predicted == labels).sum().item()\n",
        "    \n",
        "    print(100 * correct / total)"
      ],
      "metadata": {
        "colab": {
          "base_uri": "https://localhost:8080/"
        },
        "id": "w3uuDeS_CV7k",
        "outputId": "8ca010a0-c8ac-46e3-e07b-67444a462b63"
      },
      "execution_count": null,
      "outputs": [
        {
          "output_type": "stream",
          "name": "stdout",
          "text": [
            "80.66\n"
          ]
        }
      ]
    },
    {
      "cell_type": "markdown",
      "source": [
        "### 5개의 convolution-layer 사용시"
      ],
      "metadata": {
        "id": "kuP_3_DyD42p"
      }
    },
    {
      "cell_type": "code",
      "source": [
        "class CNN_Model5(nn.Module):\n",
        "    def __init__(self):\n",
        "        super(CNN_Model5, self).__init__()\n",
        "\n",
        "        self.conv1 = nn.Conv2d(in_channels=1, out_channels=5, kernel_size=3, stride=1, padding=2)\n",
        "        self.conv2 = nn.Conv2d(5, 7, 3, padding=1)      \n",
        "        self.conv3 = nn.Conv2d(7, 16, 2, padding=1)\n",
        "        self.conv4 = nn.Conv2d(16, 19, 2)\n",
        "        self.conv5 = nn.Conv2d(19, 29, 3)\n",
        "\n",
        "        self.fc1 = nn.Linear(29 * 13 * 13, 100)\n",
        "        self.fc2 = nn.Linear(100, 50)\n",
        "        self.fc3 = nn.Linear(50, 25)\n",
        "        self.fc4 = nn.Linear(25, 10) # 10 : 10개의 category\n",
        "\n",
        "    def forward(self, x):\n",
        "        x = F.relu(self.conv1(x))\n",
        "        x = F.max_pool2d(x, (2,2))\n",
        "        x = F.relu(self.conv2(x))\n",
        "        x = F.relu(self.conv3(x))\n",
        "        x = F.relu(self.conv4(x))\n",
        "        x = F.relu(self.conv5(x))\n",
        "\n",
        "        x = x.view(-1, self.num_flat_features(x)) # num_flat_features : 아래에서 정의\n",
        "\n",
        "        x = F.relu(self.fc1(x))\n",
        "        x = F.relu(self.fc2(x))\n",
        "        x = F.relu(self.fc3(x))\n",
        "        x = self.fc4(x)\n",
        "\n",
        "        return x\n",
        "    \n",
        "    def num_flat_features(self, x): # 처음 dim-size을 제외하고, 모두 곱한 값을 반환해준다.\n",
        "        size = x.size()[1:]\n",
        "        num_features = 1\n",
        "        for s in size:\n",
        "            num_features *= s\n",
        "        \n",
        "        return num_features"
      ],
      "metadata": {
        "id": "Bk1u7iloD42q"
      },
      "execution_count": null,
      "outputs": []
    },
    {
      "cell_type": "code",
      "source": [
        "# 모델객체 생성\n",
        "new_model = CNN_Model5().to(device)\n",
        "\n",
        "print(new_model)"
      ],
      "metadata": {
        "colab": {
          "base_uri": "https://localhost:8080/"
        },
        "outputId": "770c9638-455e-4efe-8114-86d59a000d7f",
        "id": "GPoNB-4vD42q"
      },
      "execution_count": null,
      "outputs": [
        {
          "output_type": "stream",
          "name": "stdout",
          "text": [
            "CNN_Model5(\n",
            "  (conv1): Conv2d(1, 5, kernel_size=(3, 3), stride=(1, 1), padding=(2, 2))\n",
            "  (conv2): Conv2d(5, 7, kernel_size=(3, 3), stride=(1, 1), padding=(1, 1))\n",
            "  (conv3): Conv2d(7, 16, kernel_size=(2, 2), stride=(1, 1), padding=(1, 1))\n",
            "  (conv4): Conv2d(16, 19, kernel_size=(2, 2), stride=(1, 1))\n",
            "  (conv5): Conv2d(19, 29, kernel_size=(3, 3), stride=(1, 1))\n",
            "  (fc1): Linear(in_features=4901, out_features=100, bias=True)\n",
            "  (fc2): Linear(in_features=100, out_features=50, bias=True)\n",
            "  (fc3): Linear(in_features=50, out_features=25, bias=True)\n",
            "  (fc4): Linear(in_features=25, out_features=10, bias=True)\n",
            ")\n"
          ]
        }
      ]
    },
    {
      "cell_type": "code",
      "source": [
        "summary(new_model, input_size=(1, 28, 28), batch_size=128)"
      ],
      "metadata": {
        "colab": {
          "base_uri": "https://localhost:8080/"
        },
        "outputId": "353e9a45-b9e7-4859-ef6d-5c31cf91b585",
        "id": "aDvnyPw6D42q"
      },
      "execution_count": null,
      "outputs": [
        {
          "output_type": "stream",
          "name": "stdout",
          "text": [
            "----------------------------------------------------------------\n",
            "        Layer (type)               Output Shape         Param #\n",
            "================================================================\n",
            "            Conv2d-1           [128, 5, 30, 30]              50\n",
            "            Conv2d-2           [128, 7, 15, 15]             322\n",
            "            Conv2d-3          [128, 16, 16, 16]             464\n",
            "            Conv2d-4          [128, 19, 15, 15]           1,235\n",
            "            Conv2d-5          [128, 29, 13, 13]           4,988\n",
            "            Linear-6                 [128, 100]         490,200\n",
            "            Linear-7                  [128, 50]           5,050\n",
            "            Linear-8                  [128, 25]           1,275\n",
            "            Linear-9                  [128, 10]             260\n",
            "================================================================\n",
            "Total params: 503,844\n",
            "Trainable params: 503,844\n",
            "Non-trainable params: 0\n",
            "----------------------------------------------------------------\n",
            "Input size (MB): 0.38\n",
            "Forward/backward pass size (MB): 19.07\n",
            "Params size (MB): 1.92\n",
            "Estimated Total Size (MB): 21.38\n",
            "----------------------------------------------------------------\n"
          ]
        }
      ]
    },
    {
      "cell_type": "code",
      "source": [
        "optimizer = optim.SGD(new_model.parameters(), lr=0.001, momentum=0.9)"
      ],
      "metadata": {
        "id": "QmOiVQDLD42q"
      },
      "execution_count": null,
      "outputs": []
    },
    {
      "cell_type": "code",
      "source": [
        "for epoch in range(10):\n",
        "\n",
        "    running_loss = 0.0\n",
        "\n",
        "    for i, data in enumerate(train_loader128, start=0):\n",
        "        inputs, labels = data[0].to(device), data[1].to(device)\n",
        "\n",
        "        optimizer.zero_grad() # epoch마다 gradient 0으로 초기화\n",
        "\n",
        "        outputs = new_model(inputs) # y_pred = f(X)\n",
        "        loss = criterion(outputs, labels) # CrossEntropyLoss; 0~1 사이값\n",
        "        loss.backward() # back-propagation; gradient 계산\n",
        "        optimizer.step() # parameters(weights) update\n",
        "\n",
        "        running_loss += loss.item() # 그냥 전체적인 비교를 위해 누적함\n",
        "\n",
        "        if i % 100 == 99: # 100번 마다 확인; epoch=10, iter(=i)=469, batch=128\n",
        "            print('Epoch: {}, Iter: {}, Loss: {}'.format(epoch+1, i+1, running_loss/2000))\n",
        "            running_loss = 0.0"
      ],
      "metadata": {
        "colab": {
          "base_uri": "https://localhost:8080/"
        },
        "outputId": "f59c3cbd-86d9-4801-929e-8f8923cc8a9d",
        "id": "eS9fQfeED42q"
      },
      "execution_count": null,
      "outputs": [
        {
          "output_type": "stream",
          "name": "stdout",
          "text": [
            "Epoch: 1, Iter: 100, Loss: 0.11546162271499634\n",
            "Epoch: 1, Iter: 200, Loss: 0.11543843185901642\n",
            "Epoch: 1, Iter: 300, Loss: 0.11534241580963135\n",
            "Epoch: 1, Iter: 400, Loss: 0.11527835500240326\n",
            "Epoch: 2, Iter: 100, Loss: 0.1152514375448227\n",
            "Epoch: 2, Iter: 200, Loss: 0.11520999002456665\n",
            "Epoch: 2, Iter: 300, Loss: 0.11521580278873443\n",
            "Epoch: 2, Iter: 400, Loss: 0.11520619213581085\n",
            "Epoch: 3, Iter: 100, Loss: 0.11518655562400817\n",
            "Epoch: 3, Iter: 200, Loss: 0.11512993645668029\n",
            "Epoch: 3, Iter: 300, Loss: 0.11515814578533172\n",
            "Epoch: 3, Iter: 400, Loss: 0.11516304874420166\n",
            "Epoch: 4, Iter: 100, Loss: 0.11512786734104156\n",
            "Epoch: 4, Iter: 200, Loss: 0.11514050257205963\n",
            "Epoch: 4, Iter: 300, Loss: 0.11514316976070404\n",
            "Epoch: 4, Iter: 400, Loss: 0.11513892006874084\n",
            "Epoch: 5, Iter: 100, Loss: 0.11513571870326995\n",
            "Epoch: 5, Iter: 200, Loss: 0.11512126386165619\n",
            "Epoch: 5, Iter: 300, Loss: 0.1151409854888916\n",
            "Epoch: 5, Iter: 400, Loss: 0.11513086318969727\n",
            "Epoch: 6, Iter: 100, Loss: 0.11513018536567687\n",
            "Epoch: 6, Iter: 200, Loss: 0.11512820494174958\n",
            "Epoch: 6, Iter: 300, Loss: 0.11512378311157226\n",
            "Epoch: 6, Iter: 400, Loss: 0.11513309741020203\n",
            "Epoch: 7, Iter: 100, Loss: 0.1151265184879303\n",
            "Epoch: 7, Iter: 200, Loss: 0.11512525022029876\n",
            "Epoch: 7, Iter: 300, Loss: 0.11512704741954803\n",
            "Epoch: 7, Iter: 400, Loss: 0.11512840270996094\n",
            "Epoch: 8, Iter: 100, Loss: 0.11512581515312195\n",
            "Epoch: 8, Iter: 200, Loss: 0.11512335097789764\n",
            "Epoch: 8, Iter: 300, Loss: 0.1151282764673233\n",
            "Epoch: 8, Iter: 400, Loss: 0.1151272896528244\n",
            "Epoch: 9, Iter: 100, Loss: 0.11512418687343598\n",
            "Epoch: 9, Iter: 200, Loss: 0.11512593328952789\n",
            "Epoch: 9, Iter: 300, Loss: 0.115123495221138\n",
            "Epoch: 9, Iter: 400, Loss: 0.11512572634220124\n",
            "Epoch: 10, Iter: 100, Loss: 0.1151233069896698\n",
            "Epoch: 10, Iter: 200, Loss: 0.11512397968769074\n",
            "Epoch: 10, Iter: 300, Loss: 0.11512516474723816\n",
            "Epoch: 10, Iter: 400, Loss: 0.11512330520153045\n"
          ]
        }
      ]
    },
    {
      "cell_type": "code",
      "source": [
        "correct = 0\n",
        "total = 0\n",
        "\n",
        "with torch.no_grad():\n",
        "    for data in test_loader128:\n",
        "        images, labels = data[0].to(device), data[1].to(device)\n",
        "        outputs = new_model(images)\n",
        "        _, predicted = torch.max(outputs.data, axis=1)\n",
        "        total += labels.size(0)\n",
        "        correct += (predicted == labels).sum().item()\n",
        "    \n",
        "    print(100 * correct / total)"
      ],
      "metadata": {
        "colab": {
          "base_uri": "https://localhost:8080/"
        },
        "outputId": "ddd9ebe1-e10f-4da8-e6bf-54ffe4149028",
        "id": "X0H3p7PGD42q"
      },
      "execution_count": null,
      "outputs": [
        {
          "output_type": "stream",
          "name": "stdout",
          "text": [
            "19.46\n"
          ]
        }
      ]
    }
  ]
}