{
  "nbformat": 4,
  "nbformat_minor": 0,
  "metadata": {
    "colab": {
      "provenance": []
    },
    "kernelspec": {
      "name": "python3",
      "display_name": "Python 3"
    },
    "language_info": {
      "name": "python"
    },
    "accelerator": "GPU",
    "gpuClass": "standard"
  },
  "cells": [
    {
      "cell_type": "markdown",
      "source": [
        "Clustering"
      ],
      "metadata": {
        "id": "lM3kdR8UXji7"
      }
    },
    {
      "cell_type": "markdown",
      "source": [
        "하나의 데이터셋에 **다양한 알고리즘**을 적용하여 클러스터링을 진행하고, 결과를 시각화하여 확인해봅시다!"
      ],
      "metadata": {
        "id": "8SJrEF8Ec9WA"
      }
    },
    {
      "cell_type": "code",
      "source": [
        "## 필요한 라이브러리를 임포트합니다.\n",
        "\n",
        "import pandas as pd\n",
        "import numpy as np\n",
        "\n",
        "from sklearn.preprocessing import MinMaxScaler #Normalization\n",
        "from sklearn.metrics import silhouette_score #Silhouette Coefficient"
      ],
      "metadata": {
        "id": "Uw5hp8ADF8Ib"
      },
      "execution_count": 1,
      "outputs": []
    },
    {
      "cell_type": "code",
      "source": [
        "## 시각화 관련 라이브러리를 임포트합니다.\n",
        "\n",
        "from matplotlib import pyplot as plt\n",
        "import seaborn as sns"
      ],
      "metadata": {
        "id": "TLizKB1NPbdF"
      },
      "execution_count": 2,
      "outputs": []
    },
    {
      "cell_type": "markdown",
      "source": [
        "###데이터"
      ],
      "metadata": {
        "id": "q2EVaet0fezv"
      }
    },
    {
      "cell_type": "markdown",
      "source": [
        "사용할 데이터: 'Mall_customers.csv'"
      ],
      "metadata": {
        "id": "u93F5Rxodjhg"
      }
    },
    {
      "cell_type": "markdown",
      "source": [
        "주어진 데이터는 마켓 운영자가 보유하고 있는 소비자의 특성을 나타낸 데이터입니다.\n",
        "\n",
        "\n",
        "\n",
        "\n",
        "*   CustomerID: 소비자 ID\n",
        "*   Genre: 해당 소비자의 성별\n",
        "*   Age: 해당 소비자의 연령\n",
        "*   Annual Income: 해당 소비자의 연간 수입\n",
        "*   Spending Score: 해당 소비자의 소비 지수. 소비자 태도나 구매 이력 등을 바탕으로 계산되었다."
      ],
      "metadata": {
        "id": "3V10T3GMdkkq"
      }
    },
    {
      "cell_type": "markdown",
      "source": [
        "데이터를 불러옵니다."
      ],
      "metadata": {
        "id": "13998SwmXdYu"
      }
    },
    {
      "cell_type": "code",
      "source": [
        "## drive에 있는 데이터셋을 불러오기 위해 드라이브와 연동을 합니다.\n",
        "\n",
        "from google.colab import drive\n",
        "drive.mount('/content/drive')"
      ],
      "metadata": {
        "colab": {
          "base_uri": "https://localhost:8080/"
        },
        "id": "j9-R3h9_QgIS",
        "outputId": "d6969d5a-2ffc-4932-cade-10a6004b5ab9"
      },
      "execution_count": 3,
      "outputs": [
        {
          "output_type": "stream",
          "name": "stdout",
          "text": [
            "Mounted at /content/drive\n"
          ]
        }
      ]
    },
    {
      "cell_type": "code",
      "source": [
        "## 'Mall_Customers' 데이터의 위치를 불러와 저장합니다.\n",
        "\n",
        "data = pd.read_csv('/content/drive/MyDrive/Mall_Customers.csv')\n",
        "data.head()"
      ],
      "metadata": {
        "colab": {
          "base_uri": "https://localhost:8080/",
          "height": 206
        },
        "id": "EkKU5q96RYw5",
        "outputId": "b0fa810a-066b-4923-d2fb-fa657ae874ae"
      },
      "execution_count": 4,
      "outputs": [
        {
          "output_type": "execute_result",
          "data": {
            "text/plain": [
              "   CustomerID   Genre  Age  Annual Income (k$)  Spending Score (1-100)\n",
              "0           1    Male   19                  15                      39\n",
              "1           2    Male   21                  15                      81\n",
              "2           3  Female   20                  16                       6\n",
              "3           4  Female   23                  16                      77\n",
              "4           5  Female   31                  17                      40"
            ],
            "text/html": [
              "\n",
              "  <div id=\"df-82d049f2-24a4-4038-89e4-2ba5b942350e\">\n",
              "    <div class=\"colab-df-container\">\n",
              "      <div>\n",
              "<style scoped>\n",
              "    .dataframe tbody tr th:only-of-type {\n",
              "        vertical-align: middle;\n",
              "    }\n",
              "\n",
              "    .dataframe tbody tr th {\n",
              "        vertical-align: top;\n",
              "    }\n",
              "\n",
              "    .dataframe thead th {\n",
              "        text-align: right;\n",
              "    }\n",
              "</style>\n",
              "<table border=\"1\" class=\"dataframe\">\n",
              "  <thead>\n",
              "    <tr style=\"text-align: right;\">\n",
              "      <th></th>\n",
              "      <th>CustomerID</th>\n",
              "      <th>Genre</th>\n",
              "      <th>Age</th>\n",
              "      <th>Annual Income (k$)</th>\n",
              "      <th>Spending Score (1-100)</th>\n",
              "    </tr>\n",
              "  </thead>\n",
              "  <tbody>\n",
              "    <tr>\n",
              "      <th>0</th>\n",
              "      <td>1</td>\n",
              "      <td>Male</td>\n",
              "      <td>19</td>\n",
              "      <td>15</td>\n",
              "      <td>39</td>\n",
              "    </tr>\n",
              "    <tr>\n",
              "      <th>1</th>\n",
              "      <td>2</td>\n",
              "      <td>Male</td>\n",
              "      <td>21</td>\n",
              "      <td>15</td>\n",
              "      <td>81</td>\n",
              "    </tr>\n",
              "    <tr>\n",
              "      <th>2</th>\n",
              "      <td>3</td>\n",
              "      <td>Female</td>\n",
              "      <td>20</td>\n",
              "      <td>16</td>\n",
              "      <td>6</td>\n",
              "    </tr>\n",
              "    <tr>\n",
              "      <th>3</th>\n",
              "      <td>4</td>\n",
              "      <td>Female</td>\n",
              "      <td>23</td>\n",
              "      <td>16</td>\n",
              "      <td>77</td>\n",
              "    </tr>\n",
              "    <tr>\n",
              "      <th>4</th>\n",
              "      <td>5</td>\n",
              "      <td>Female</td>\n",
              "      <td>31</td>\n",
              "      <td>17</td>\n",
              "      <td>40</td>\n",
              "    </tr>\n",
              "  </tbody>\n",
              "</table>\n",
              "</div>\n",
              "      <button class=\"colab-df-convert\" onclick=\"convertToInteractive('df-82d049f2-24a4-4038-89e4-2ba5b942350e')\"\n",
              "              title=\"Convert this dataframe to an interactive table.\"\n",
              "              style=\"display:none;\">\n",
              "        \n",
              "  <svg xmlns=\"http://www.w3.org/2000/svg\" height=\"24px\"viewBox=\"0 0 24 24\"\n",
              "       width=\"24px\">\n",
              "    <path d=\"M0 0h24v24H0V0z\" fill=\"none\"/>\n",
              "    <path d=\"M18.56 5.44l.94 2.06.94-2.06 2.06-.94-2.06-.94-.94-2.06-.94 2.06-2.06.94zm-11 1L8.5 8.5l.94-2.06 2.06-.94-2.06-.94L8.5 2.5l-.94 2.06-2.06.94zm10 10l.94 2.06.94-2.06 2.06-.94-2.06-.94-.94-2.06-.94 2.06-2.06.94z\"/><path d=\"M17.41 7.96l-1.37-1.37c-.4-.4-.92-.59-1.43-.59-.52 0-1.04.2-1.43.59L10.3 9.45l-7.72 7.72c-.78.78-.78 2.05 0 2.83L4 21.41c.39.39.9.59 1.41.59.51 0 1.02-.2 1.41-.59l7.78-7.78 2.81-2.81c.8-.78.8-2.07 0-2.86zM5.41 20L4 18.59l7.72-7.72 1.47 1.35L5.41 20z\"/>\n",
              "  </svg>\n",
              "      </button>\n",
              "      \n",
              "  <style>\n",
              "    .colab-df-container {\n",
              "      display:flex;\n",
              "      flex-wrap:wrap;\n",
              "      gap: 12px;\n",
              "    }\n",
              "\n",
              "    .colab-df-convert {\n",
              "      background-color: #E8F0FE;\n",
              "      border: none;\n",
              "      border-radius: 50%;\n",
              "      cursor: pointer;\n",
              "      display: none;\n",
              "      fill: #1967D2;\n",
              "      height: 32px;\n",
              "      padding: 0 0 0 0;\n",
              "      width: 32px;\n",
              "    }\n",
              "\n",
              "    .colab-df-convert:hover {\n",
              "      background-color: #E2EBFA;\n",
              "      box-shadow: 0px 1px 2px rgba(60, 64, 67, 0.3), 0px 1px 3px 1px rgba(60, 64, 67, 0.15);\n",
              "      fill: #174EA6;\n",
              "    }\n",
              "\n",
              "    [theme=dark] .colab-df-convert {\n",
              "      background-color: #3B4455;\n",
              "      fill: #D2E3FC;\n",
              "    }\n",
              "\n",
              "    [theme=dark] .colab-df-convert:hover {\n",
              "      background-color: #434B5C;\n",
              "      box-shadow: 0px 1px 3px 1px rgba(0, 0, 0, 0.15);\n",
              "      filter: drop-shadow(0px 1px 2px rgba(0, 0, 0, 0.3));\n",
              "      fill: #FFFFFF;\n",
              "    }\n",
              "  </style>\n",
              "\n",
              "      <script>\n",
              "        const buttonEl =\n",
              "          document.querySelector('#df-82d049f2-24a4-4038-89e4-2ba5b942350e button.colab-df-convert');\n",
              "        buttonEl.style.display =\n",
              "          google.colab.kernel.accessAllowed ? 'block' : 'none';\n",
              "\n",
              "        async function convertToInteractive(key) {\n",
              "          const element = document.querySelector('#df-82d049f2-24a4-4038-89e4-2ba5b942350e');\n",
              "          const dataTable =\n",
              "            await google.colab.kernel.invokeFunction('convertToInteractive',\n",
              "                                                     [key], {});\n",
              "          if (!dataTable) return;\n",
              "\n",
              "          const docLinkHtml = 'Like what you see? Visit the ' +\n",
              "            '<a target=\"_blank\" href=https://colab.research.google.com/notebooks/data_table.ipynb>data table notebook</a>'\n",
              "            + ' to learn more about interactive tables.';\n",
              "          element.innerHTML = '';\n",
              "          dataTable['output_type'] = 'display_data';\n",
              "          await google.colab.output.renderOutput(dataTable, element);\n",
              "          const docLink = document.createElement('div');\n",
              "          docLink.innerHTML = docLinkHtml;\n",
              "          element.appendChild(docLink);\n",
              "        }\n",
              "      </script>\n",
              "    </div>\n",
              "  </div>\n",
              "  "
            ]
          },
          "metadata": {},
          "execution_count": 4
        }
      ]
    },
    {
      "cell_type": "code",
      "source": [
        "data.info()"
      ],
      "metadata": {
        "colab": {
          "base_uri": "https://localhost:8080/"
        },
        "id": "i946aFQTR1yC",
        "outputId": "db79a77a-aeaf-40d4-bd99-c13aeaf0c761"
      },
      "execution_count": 5,
      "outputs": [
        {
          "output_type": "stream",
          "name": "stdout",
          "text": [
            "<class 'pandas.core.frame.DataFrame'>\n",
            "RangeIndex: 200 entries, 0 to 199\n",
            "Data columns (total 5 columns):\n",
            " #   Column                  Non-Null Count  Dtype \n",
            "---  ------                  --------------  ----- \n",
            " 0   CustomerID              200 non-null    int64 \n",
            " 1   Genre                   200 non-null    object\n",
            " 2   Age                     200 non-null    int64 \n",
            " 3   Annual Income (k$)      200 non-null    int64 \n",
            " 4   Spending Score (1-100)  200 non-null    int64 \n",
            "dtypes: int64(4), object(1)\n",
            "memory usage: 7.9+ KB\n"
          ]
        }
      ]
    },
    {
      "cell_type": "code",
      "source": [
        "column = data.columns.values.tolist()\n",
        "column"
      ],
      "metadata": {
        "colab": {
          "base_uri": "https://localhost:8080/"
        },
        "id": "lDnxLQdyXw8j",
        "outputId": "dc7b03fd-085a-426d-aa74-88958bea197a"
      },
      "execution_count": 6,
      "outputs": [
        {
          "output_type": "execute_result",
          "data": {
            "text/plain": [
              "['CustomerID', 'Genre', 'Age', 'Annual Income (k$)', 'Spending Score (1-100)']"
            ]
          },
          "metadata": {},
          "execution_count": 6
        }
      ]
    },
    {
      "cell_type": "markdown",
      "source": [
        "Annual Income과 Spending Score 를 각각 x, y로 불러와 관계를 살펴보고자 합니다."
      ],
      "metadata": {
        "id": "R04bvZTiYRsz"
      }
    },
    {
      "cell_type": "code",
      "source": [
        "## 필요한 데이터만 추출합니다.\n",
        "\n",
        "data_x = data[['Annual Income (k$)','Spending Score (1-100)']]\n",
        "data_x"
      ],
      "metadata": {
        "colab": {
          "base_uri": "https://localhost:8080/",
          "height": 423
        },
        "id": "bmRBSCpwXRmq",
        "outputId": "2a94e69b-a01d-4139-df24-acf93a35c5ec"
      },
      "execution_count": 7,
      "outputs": [
        {
          "output_type": "execute_result",
          "data": {
            "text/plain": [
              "     Annual Income (k$)  Spending Score (1-100)\n",
              "0                    15                      39\n",
              "1                    15                      81\n",
              "2                    16                       6\n",
              "3                    16                      77\n",
              "4                    17                      40\n",
              "..                  ...                     ...\n",
              "195                 120                      79\n",
              "196                 126                      28\n",
              "197                 126                      74\n",
              "198                 137                      18\n",
              "199                 137                      83\n",
              "\n",
              "[200 rows x 2 columns]"
            ],
            "text/html": [
              "\n",
              "  <div id=\"df-dec45e1f-485c-43ee-aad1-f8af36082ed7\">\n",
              "    <div class=\"colab-df-container\">\n",
              "      <div>\n",
              "<style scoped>\n",
              "    .dataframe tbody tr th:only-of-type {\n",
              "        vertical-align: middle;\n",
              "    }\n",
              "\n",
              "    .dataframe tbody tr th {\n",
              "        vertical-align: top;\n",
              "    }\n",
              "\n",
              "    .dataframe thead th {\n",
              "        text-align: right;\n",
              "    }\n",
              "</style>\n",
              "<table border=\"1\" class=\"dataframe\">\n",
              "  <thead>\n",
              "    <tr style=\"text-align: right;\">\n",
              "      <th></th>\n",
              "      <th>Annual Income (k$)</th>\n",
              "      <th>Spending Score (1-100)</th>\n",
              "    </tr>\n",
              "  </thead>\n",
              "  <tbody>\n",
              "    <tr>\n",
              "      <th>0</th>\n",
              "      <td>15</td>\n",
              "      <td>39</td>\n",
              "    </tr>\n",
              "    <tr>\n",
              "      <th>1</th>\n",
              "      <td>15</td>\n",
              "      <td>81</td>\n",
              "    </tr>\n",
              "    <tr>\n",
              "      <th>2</th>\n",
              "      <td>16</td>\n",
              "      <td>6</td>\n",
              "    </tr>\n",
              "    <tr>\n",
              "      <th>3</th>\n",
              "      <td>16</td>\n",
              "      <td>77</td>\n",
              "    </tr>\n",
              "    <tr>\n",
              "      <th>4</th>\n",
              "      <td>17</td>\n",
              "      <td>40</td>\n",
              "    </tr>\n",
              "    <tr>\n",
              "      <th>...</th>\n",
              "      <td>...</td>\n",
              "      <td>...</td>\n",
              "    </tr>\n",
              "    <tr>\n",
              "      <th>195</th>\n",
              "      <td>120</td>\n",
              "      <td>79</td>\n",
              "    </tr>\n",
              "    <tr>\n",
              "      <th>196</th>\n",
              "      <td>126</td>\n",
              "      <td>28</td>\n",
              "    </tr>\n",
              "    <tr>\n",
              "      <th>197</th>\n",
              "      <td>126</td>\n",
              "      <td>74</td>\n",
              "    </tr>\n",
              "    <tr>\n",
              "      <th>198</th>\n",
              "      <td>137</td>\n",
              "      <td>18</td>\n",
              "    </tr>\n",
              "    <tr>\n",
              "      <th>199</th>\n",
              "      <td>137</td>\n",
              "      <td>83</td>\n",
              "    </tr>\n",
              "  </tbody>\n",
              "</table>\n",
              "<p>200 rows × 2 columns</p>\n",
              "</div>\n",
              "      <button class=\"colab-df-convert\" onclick=\"convertToInteractive('df-dec45e1f-485c-43ee-aad1-f8af36082ed7')\"\n",
              "              title=\"Convert this dataframe to an interactive table.\"\n",
              "              style=\"display:none;\">\n",
              "        \n",
              "  <svg xmlns=\"http://www.w3.org/2000/svg\" height=\"24px\"viewBox=\"0 0 24 24\"\n",
              "       width=\"24px\">\n",
              "    <path d=\"M0 0h24v24H0V0z\" fill=\"none\"/>\n",
              "    <path d=\"M18.56 5.44l.94 2.06.94-2.06 2.06-.94-2.06-.94-.94-2.06-.94 2.06-2.06.94zm-11 1L8.5 8.5l.94-2.06 2.06-.94-2.06-.94L8.5 2.5l-.94 2.06-2.06.94zm10 10l.94 2.06.94-2.06 2.06-.94-2.06-.94-.94-2.06-.94 2.06-2.06.94z\"/><path d=\"M17.41 7.96l-1.37-1.37c-.4-.4-.92-.59-1.43-.59-.52 0-1.04.2-1.43.59L10.3 9.45l-7.72 7.72c-.78.78-.78 2.05 0 2.83L4 21.41c.39.39.9.59 1.41.59.51 0 1.02-.2 1.41-.59l7.78-7.78 2.81-2.81c.8-.78.8-2.07 0-2.86zM5.41 20L4 18.59l7.72-7.72 1.47 1.35L5.41 20z\"/>\n",
              "  </svg>\n",
              "      </button>\n",
              "      \n",
              "  <style>\n",
              "    .colab-df-container {\n",
              "      display:flex;\n",
              "      flex-wrap:wrap;\n",
              "      gap: 12px;\n",
              "    }\n",
              "\n",
              "    .colab-df-convert {\n",
              "      background-color: #E8F0FE;\n",
              "      border: none;\n",
              "      border-radius: 50%;\n",
              "      cursor: pointer;\n",
              "      display: none;\n",
              "      fill: #1967D2;\n",
              "      height: 32px;\n",
              "      padding: 0 0 0 0;\n",
              "      width: 32px;\n",
              "    }\n",
              "\n",
              "    .colab-df-convert:hover {\n",
              "      background-color: #E2EBFA;\n",
              "      box-shadow: 0px 1px 2px rgba(60, 64, 67, 0.3), 0px 1px 3px 1px rgba(60, 64, 67, 0.15);\n",
              "      fill: #174EA6;\n",
              "    }\n",
              "\n",
              "    [theme=dark] .colab-df-convert {\n",
              "      background-color: #3B4455;\n",
              "      fill: #D2E3FC;\n",
              "    }\n",
              "\n",
              "    [theme=dark] .colab-df-convert:hover {\n",
              "      background-color: #434B5C;\n",
              "      box-shadow: 0px 1px 3px 1px rgba(0, 0, 0, 0.15);\n",
              "      filter: drop-shadow(0px 1px 2px rgba(0, 0, 0, 0.3));\n",
              "      fill: #FFFFFF;\n",
              "    }\n",
              "  </style>\n",
              "\n",
              "      <script>\n",
              "        const buttonEl =\n",
              "          document.querySelector('#df-dec45e1f-485c-43ee-aad1-f8af36082ed7 button.colab-df-convert');\n",
              "        buttonEl.style.display =\n",
              "          google.colab.kernel.accessAllowed ? 'block' : 'none';\n",
              "\n",
              "        async function convertToInteractive(key) {\n",
              "          const element = document.querySelector('#df-dec45e1f-485c-43ee-aad1-f8af36082ed7');\n",
              "          const dataTable =\n",
              "            await google.colab.kernel.invokeFunction('convertToInteractive',\n",
              "                                                     [key], {});\n",
              "          if (!dataTable) return;\n",
              "\n",
              "          const docLinkHtml = 'Like what you see? Visit the ' +\n",
              "            '<a target=\"_blank\" href=https://colab.research.google.com/notebooks/data_table.ipynb>data table notebook</a>'\n",
              "            + ' to learn more about interactive tables.';\n",
              "          element.innerHTML = '';\n",
              "          dataTable['output_type'] = 'display_data';\n",
              "          await google.colab.output.renderOutput(dataTable, element);\n",
              "          const docLink = document.createElement('div');\n",
              "          docLink.innerHTML = docLinkHtml;\n",
              "          element.appendChild(docLink);\n",
              "        }\n",
              "      </script>\n",
              "    </div>\n",
              "  </div>\n",
              "  "
            ]
          },
          "metadata": {},
          "execution_count": 7
        }
      ]
    },
    {
      "cell_type": "code",
      "source": [
        "feature_name = data_x.columns.to_list()\n",
        "feature_name"
      ],
      "metadata": {
        "colab": {
          "base_uri": "https://localhost:8080/"
        },
        "id": "EN9DV85PpQSJ",
        "outputId": "eee25f48-5690-4fbb-a068-0dda2175ceec"
      },
      "execution_count": 8,
      "outputs": [
        {
          "output_type": "execute_result",
          "data": {
            "text/plain": [
              "['Annual Income (k$)', 'Spending Score (1-100)']"
            ]
          },
          "metadata": {},
          "execution_count": 8
        }
      ]
    },
    {
      "cell_type": "markdown",
      "source": [
        "클러스터링을 하기 전 먼저 데이터셋의 분포가 어떠한지 확인해봅시다."
      ],
      "metadata": {
        "id": "gQQaCFylUYzA"
      }
    },
    {
      "cell_type": "code",
      "source": [
        "## 데이터의 분포 확인 \n",
        "\n",
        "plt.figure(figsize = (10, 10))\n",
        "sns.scatterplot('Annual Income (k$)', 'Spending Score (1-100)', alpha = 0.6, s = 80, data = data)\n",
        "plt.title('Mall_Customers Dataset', pad = 20)"
      ],
      "metadata": {
        "colab": {
          "base_uri": "https://localhost:8080/",
          "height": 710
        },
        "id": "fVmi6Ty0R_8l",
        "outputId": "25979d40-b070-41b0-d2c7-a4431c1897d7"
      },
      "execution_count": 9,
      "outputs": [
        {
          "output_type": "stream",
          "name": "stderr",
          "text": [
            "/usr/local/lib/python3.8/dist-packages/seaborn/_decorators.py:36: FutureWarning: Pass the following variables as keyword args: x, y. From version 0.12, the only valid positional argument will be `data`, and passing other arguments without an explicit keyword will result in an error or misinterpretation.\n",
            "  warnings.warn(\n"
          ]
        },
        {
          "output_type": "execute_result",
          "data": {
            "text/plain": [
              "Text(0.5, 1.0, 'Mall_Customers Dataset')"
            ]
          },
          "metadata": {},
          "execution_count": 9
        },
        {
          "output_type": "display_data",
          "data": {
            "text/plain": [
              "<Figure size 720x720 with 1 Axes>"
            ],
            "image/png": "[encoded data removed]"
          },
          "metadata": {
            "needs_background": "light"
          }
        }
      ]
    },
    {
      "cell_type": "code",
      "source": [
        "## Annual Income\n",
        "\n",
        "plt.figure(figsize = (8,5))\n",
        "plt.title('Annual Income',fontsize = 15, pad = 10)\n",
        "plt.xlabel('Annual Income (k$)', fontsize = 13)\n",
        "plt.ylabel('# of Data', fontsize = 13)\n",
        "plt.grid(True)\n",
        "plt.hist(data['Annual Income (k$)'], color = 'lightblue', edgecolor = 'k')\n",
        "plt.show()"
      ],
      "metadata": {
        "colab": {
          "base_uri": "https://localhost:8080/",
          "height": 359
        },
        "id": "yal-K41p_TtO",
        "outputId": "419f24c7-869f-4f35-d7bf-b1c22ac8fc8b"
      },
      "execution_count": 10,
      "outputs": [
        {
          "output_type": "display_data",
          "data": {
            "text/plain": [
              "<Figure size 576x360 with 1 Axes>"
            ],
            "image/png": "[encoded data removed]"
          },
          "metadata": {
            "needs_background": "light"
          }
        }
      ]
    },
    {
      "cell_type": "code",
      "source": [
        "## Spending Score\n",
        "\n",
        "plt.figure(figsize = (8,5))\n",
        "plt.title('Spending Score', fontsize = 15, pad = 10)\n",
        "plt.xlabel('Spending Score (1-100)',fontsize = 13)\n",
        "plt.ylabel('# of Data', fontsize = 13)\n",
        "plt.grid(True)\n",
        "plt.hist(data['Spending Score (1-100)'], color = 'lightgreen', edgecolor = 'k')\n",
        "plt.show()"
      ],
      "metadata": {
        "colab": {
          "base_uri": "https://localhost:8080/",
          "height": 359
        },
        "id": "24ih3qD4_f6F",
        "outputId": "29f5ac61-4430-4f4f-998a-69fd0c91d32d"
      },
      "execution_count": 11,
      "outputs": [
        {
          "output_type": "display_data",
          "data": {
            "text/plain": [
              "<Figure size 576x360 with 1 Axes>"
            ],
            "image/png": "[encoded data removed]"
          },
          "metadata": {
            "needs_background": "light"
          }
        }
      ]
    },
    {
      "cell_type": "markdown",
      "source": [
        "연간 수입과 소비 지수는 단위가 다르기 때문에 scaling을 통해 단위를 맞춰주는 작업이 필요합니다."
      ],
      "metadata": {
        "id": "WE7sGp0aVdgV"
      }
    },
    {
      "cell_type": "markdown",
      "source": [
        "정규화로 feature normalization을 진행하겠습니다."
      ],
      "metadata": {
        "id": "w0JRjn1NWb49"
      }
    },
    {
      "cell_type": "code",
      "source": [
        "data_x"
      ],
      "metadata": {
        "colab": {
          "base_uri": "https://localhost:8080/",
          "height": 423
        },
        "id": "eCi6FZ9LT2GX",
        "outputId": "c6a1dd0d-39e9-4d72-ce9d-5af0ce206d1b"
      },
      "execution_count": 12,
      "outputs": [
        {
          "output_type": "execute_result",
          "data": {
            "text/plain": [
              "     Annual Income (k$)  Spending Score (1-100)\n",
              "0                    15                      39\n",
              "1                    15                      81\n",
              "2                    16                       6\n",
              "3                    16                      77\n",
              "4                    17                      40\n",
              "..                  ...                     ...\n",
              "195                 120                      79\n",
              "196                 126                      28\n",
              "197                 126                      74\n",
              "198                 137                      18\n",
              "199                 137                      83\n",
              "\n",
              "[200 rows x 2 columns]"
            ],
            "text/html": [
              "\n",
              "  <div id=\"df-4136774f-f92c-4699-a7a0-75662cbf14ec\">\n",
              "    <div class=\"colab-df-container\">\n",
              "      <div>\n",
              "<style scoped>\n",
              "    .dataframe tbody tr th:only-of-type {\n",
              "        vertical-align: middle;\n",
              "    }\n",
              "\n",
              "    .dataframe tbody tr th {\n",
              "        vertical-align: top;\n",
              "    }\n",
              "\n",
              "    .dataframe thead th {\n",
              "        text-align: right;\n",
              "    }\n",
              "</style>\n",
              "<table border=\"1\" class=\"dataframe\">\n",
              "  <thead>\n",
              "    <tr style=\"text-align: right;\">\n",
              "      <th></th>\n",
              "      <th>Annual Income (k$)</th>\n",
              "      <th>Spending Score (1-100)</th>\n",
              "    </tr>\n",
              "  </thead>\n",
              "  <tbody>\n",
              "    <tr>\n",
              "      <th>0</th>\n",
              "      <td>15</td>\n",
              "      <td>39</td>\n",
              "    </tr>\n",
              "    <tr>\n",
              "      <th>1</th>\n",
              "      <td>15</td>\n",
              "      <td>81</td>\n",
              "    </tr>\n",
              "    <tr>\n",
              "      <th>2</th>\n",
              "      <td>16</td>\n",
              "      <td>6</td>\n",
              "    </tr>\n",
              "    <tr>\n",
              "      <th>3</th>\n",
              "      <td>16</td>\n",
              "      <td>77</td>\n",
              "    </tr>\n",
              "    <tr>\n",
              "      <th>4</th>\n",
              "      <td>17</td>\n",
              "      <td>40</td>\n",
              "    </tr>\n",
              "    <tr>\n",
              "      <th>...</th>\n",
              "      <td>...</td>\n",
              "      <td>...</td>\n",
              "    </tr>\n",
              "    <tr>\n",
              "      <th>195</th>\n",
              "      <td>120</td>\n",
              "      <td>79</td>\n",
              "    </tr>\n",
              "    <tr>\n",
              "      <th>196</th>\n",
              "      <td>126</td>\n",
              "      <td>28</td>\n",
              "    </tr>\n",
              "    <tr>\n",
              "      <th>197</th>\n",
              "      <td>126</td>\n",
              "      <td>74</td>\n",
              "    </tr>\n",
              "    <tr>\n",
              "      <th>198</th>\n",
              "      <td>137</td>\n",
              "      <td>18</td>\n",
              "    </tr>\n",
              "    <tr>\n",
              "      <th>199</th>\n",
              "      <td>137</td>\n",
              "      <td>83</td>\n",
              "    </tr>\n",
              "  </tbody>\n",
              "</table>\n",
              "<p>200 rows × 2 columns</p>\n",
              "</div>\n",
              "      <button class=\"colab-df-convert\" onclick=\"convertToInteractive('df-4136774f-f92c-4699-a7a0-75662cbf14ec')\"\n",
              "              title=\"Convert this dataframe to an interactive table.\"\n",
              "              style=\"display:none;\">\n",
              "        \n",
              "  <svg xmlns=\"http://www.w3.org/2000/svg\" height=\"24px\"viewBox=\"0 0 24 24\"\n",
              "       width=\"24px\">\n",
              "    <path d=\"M0 0h24v24H0V0z\" fill=\"none\"/>\n",
              "    <path d=\"M18.56 5.44l.94 2.06.94-2.06 2.06-.94-2.06-.94-.94-2.06-.94 2.06-2.06.94zm-11 1L8.5 8.5l.94-2.06 2.06-.94-2.06-.94L8.5 2.5l-.94 2.06-2.06.94zm10 10l.94 2.06.94-2.06 2.06-.94-2.06-.94-.94-2.06-.94 2.06-2.06.94z\"/><path d=\"M17.41 7.96l-1.37-1.37c-.4-.4-.92-.59-1.43-.59-.52 0-1.04.2-1.43.59L10.3 9.45l-7.72 7.72c-.78.78-.78 2.05 0 2.83L4 21.41c.39.39.9.59 1.41.59.51 0 1.02-.2 1.41-.59l7.78-7.78 2.81-2.81c.8-.78.8-2.07 0-2.86zM5.41 20L4 18.59l7.72-7.72 1.47 1.35L5.41 20z\"/>\n",
              "  </svg>\n",
              "      </button>\n",
              "      \n",
              "  <style>\n",
              "    .colab-df-container {\n",
              "      display:flex;\n",
              "      flex-wrap:wrap;\n",
              "      gap: 12px;\n",
              "    }\n",
              "\n",
              "    .colab-df-convert {\n",
              "      background-color: #E8F0FE;\n",
              "      border: none;\n",
              "      border-radius: 50%;\n",
              "      cursor: pointer;\n",
              "      display: none;\n",
              "      fill: #1967D2;\n",
              "      height: 32px;\n",
              "      padding: 0 0 0 0;\n",
              "      width: 32px;\n",
              "    }\n",
              "\n",
              "    .colab-df-convert:hover {\n",
              "      background-color: #E2EBFA;\n",
              "      box-shadow: 0px 1px 2px rgba(60, 64, 67, 0.3), 0px 1px 3px 1px rgba(60, 64, 67, 0.15);\n",
              "      fill: #174EA6;\n",
              "    }\n",
              "\n",
              "    [theme=dark] .colab-df-convert {\n",
              "      background-color: #3B4455;\n",
              "      fill: #D2E3FC;\n",
              "    }\n",
              "\n",
              "    [theme=dark] .colab-df-convert:hover {\n",
              "      background-color: #434B5C;\n",
              "      box-shadow: 0px 1px 3px 1px rgba(0, 0, 0, 0.15);\n",
              "      filter: drop-shadow(0px 1px 2px rgba(0, 0, 0, 0.3));\n",
              "      fill: #FFFFFF;\n",
              "    }\n",
              "  </style>\n",
              "\n",
              "      <script>\n",
              "        const buttonEl =\n",
              "          document.querySelector('#df-4136774f-f92c-4699-a7a0-75662cbf14ec button.colab-df-convert');\n",
              "        buttonEl.style.display =\n",
              "          google.colab.kernel.accessAllowed ? 'block' : 'none';\n",
              "\n",
              "        async function convertToInteractive(key) {\n",
              "          const element = document.querySelector('#df-4136774f-f92c-4699-a7a0-75662cbf14ec');\n",
              "          const dataTable =\n",
              "            await google.colab.kernel.invokeFunction('convertToInteractive',\n",
              "                                                     [key], {});\n",
              "          if (!dataTable) return;\n",
              "\n",
              "          const docLinkHtml = 'Like what you see? Visit the ' +\n",
              "            '<a target=\"_blank\" href=https://colab.research.google.com/notebooks/data_table.ipynb>data table notebook</a>'\n",
              "            + ' to learn more about interactive tables.';\n",
              "          element.innerHTML = '';\n",
              "          dataTable['output_type'] = 'display_data';\n",
              "          await google.colab.output.renderOutput(dataTable, element);\n",
              "          const docLink = document.createElement('div');\n",
              "          docLink.innerHTML = docLinkHtml;\n",
              "          element.appendChild(docLink);\n",
              "        }\n",
              "      </script>\n",
              "    </div>\n",
              "  </div>\n",
              "  "
            ]
          },
          "metadata": {},
          "execution_count": 12
        }
      ]
    },
    {
      "cell_type": "code",
      "source": [
        "## Feature Normalization\n",
        "\n",
        "scaler = MinMaxScaler()\n",
        "scaled_data = scaler.fit_transform(data_x)\n",
        "scaled_data = pd.DataFrame(scaled_data, columns = data_x.columns)\n",
        "scaled_data"
      ],
      "metadata": {
        "colab": {
          "base_uri": "https://localhost:8080/",
          "height": 423
        },
        "id": "5qCY52IVR4Ox",
        "outputId": "3b4598d1-69e0-4d20-8be0-3fe4dcaca37f"
      },
      "execution_count": 13,
      "outputs": [
        {
          "output_type": "execute_result",
          "data": {
            "text/plain": [
              "     Annual Income (k$)  Spending Score (1-100)\n",
              "0              0.000000                0.387755\n",
              "1              0.000000                0.816327\n",
              "2              0.008197                0.051020\n",
              "3              0.008197                0.775510\n",
              "4              0.016393                0.397959\n",
              "..                  ...                     ...\n",
              "195            0.860656                0.795918\n",
              "196            0.909836                0.275510\n",
              "197            0.909836                0.744898\n",
              "198            1.000000                0.173469\n",
              "199            1.000000                0.836735\n",
              "\n",
              "[200 rows x 2 columns]"
            ],
            "text/html": [
              "\n",
              "  <div id=\"df-a2c98a91-accd-4a25-bceb-d740b35f462c\">\n",
              "    <div class=\"colab-df-container\">\n",
              "      <div>\n",
              "<style scoped>\n",
              "    .dataframe tbody tr th:only-of-type {\n",
              "        vertical-align: middle;\n",
              "    }\n",
              "\n",
              "    .dataframe tbody tr th {\n",
              "        vertical-align: top;\n",
              "    }\n",
              "\n",
              "    .dataframe thead th {\n",
              "        text-align: right;\n",
              "    }\n",
              "</style>\n",
              "<table border=\"1\" class=\"dataframe\">\n",
              "  <thead>\n",
              "    <tr style=\"text-align: right;\">\n",
              "      <th></th>\n",
              "      <th>Annual Income (k$)</th>\n",
              "      <th>Spending Score (1-100)</th>\n",
              "    </tr>\n",
              "  </thead>\n",
              "  <tbody>\n",
              "    <tr>\n",
              "      <th>0</th>\n",
              "      <td>0.000000</td>\n",
              "      <td>0.387755</td>\n",
              "    </tr>\n",
              "    <tr>\n",
              "      <th>1</th>\n",
              "      <td>0.000000</td>\n",
              "      <td>0.816327</td>\n",
              "    </tr>\n",
              "    <tr>\n",
              "      <th>2</th>\n",
              "      <td>0.008197</td>\n",
              "      <td>0.051020</td>\n",
              "    </tr>\n",
              "    <tr>\n",
              "      <th>3</th>\n",
              "      <td>0.008197</td>\n",
              "      <td>0.775510</td>\n",
              "    </tr>\n",
              "    <tr>\n",
              "      <th>4</th>\n",
              "      <td>0.016393</td>\n",
              "      <td>0.397959</td>\n",
              "    </tr>\n",
              "    <tr>\n",
              "      <th>...</th>\n",
              "      <td>...</td>\n",
              "      <td>...</td>\n",
              "    </tr>\n",
              "    <tr>\n",
              "      <th>195</th>\n",
              "      <td>0.860656</td>\n",
              "      <td>0.795918</td>\n",
              "    </tr>\n",
              "    <tr>\n",
              "      <th>196</th>\n",
              "      <td>0.909836</td>\n",
              "      <td>0.275510</td>\n",
              "    </tr>\n",
              "    <tr>\n",
              "      <th>197</th>\n",
              "      <td>0.909836</td>\n",
              "      <td>0.744898</td>\n",
              "    </tr>\n",
              "    <tr>\n",
              "      <th>198</th>\n",
              "      <td>1.000000</td>\n",
              "      <td>0.173469</td>\n",
              "    </tr>\n",
              "    <tr>\n",
              "      <th>199</th>\n",
              "      <td>1.000000</td>\n",
              "      <td>0.836735</td>\n",
              "    </tr>\n",
              "  </tbody>\n",
              "</table>\n",
              "<p>200 rows × 2 columns</p>\n",
              "</div>\n",
              "      <button class=\"colab-df-convert\" onclick=\"convertToInteractive('df-a2c98a91-accd-4a25-bceb-d740b35f462c')\"\n",
              "              title=\"Convert this dataframe to an interactive table.\"\n",
              "              style=\"display:none;\">\n",
              "        \n",
              "  <svg xmlns=\"http://www.w3.org/2000/svg\" height=\"24px\"viewBox=\"0 0 24 24\"\n",
              "       width=\"24px\">\n",
              "    <path d=\"M0 0h24v24H0V0z\" fill=\"none\"/>\n",
              "    <path d=\"M18.56 5.44l.94 2.06.94-2.06 2.06-.94-2.06-.94-.94-2.06-.94 2.06-2.06.94zm-11 1L8.5 8.5l.94-2.06 2.06-.94-2.06-.94L8.5 2.5l-.94 2.06-2.06.94zm10 10l.94 2.06.94-2.06 2.06-.94-2.06-.94-.94-2.06-.94 2.06-2.06.94z\"/><path d=\"M17.41 7.96l-1.37-1.37c-.4-.4-.92-.59-1.43-.59-.52 0-1.04.2-1.43.59L10.3 9.45l-7.72 7.72c-.78.78-.78 2.05 0 2.83L4 21.41c.39.39.9.59 1.41.59.51 0 1.02-.2 1.41-.59l7.78-7.78 2.81-2.81c.8-.78.8-2.07 0-2.86zM5.41 20L4 18.59l7.72-7.72 1.47 1.35L5.41 20z\"/>\n",
              "  </svg>\n",
              "      </button>\n",
              "      \n",
              "  <style>\n",
              "    .colab-df-container {\n",
              "      display:flex;\n",
              "      flex-wrap:wrap;\n",
              "      gap: 12px;\n",
              "    }\n",
              "\n",
              "    .colab-df-convert {\n",
              "      background-color: #E8F0FE;\n",
              "      border: none;\n",
              "      border-radius: 50%;\n",
              "      cursor: pointer;\n",
              "      display: none;\n",
              "      fill: #1967D2;\n",
              "      height: 32px;\n",
              "      padding: 0 0 0 0;\n",
              "      width: 32px;\n",
              "    }\n",
              "\n",
              "    .colab-df-convert:hover {\n",
              "      background-color: #E2EBFA;\n",
              "      box-shadow: 0px 1px 2px rgba(60, 64, 67, 0.3), 0px 1px 3px 1px rgba(60, 64, 67, 0.15);\n",
              "      fill: #174EA6;\n",
              "    }\n",
              "\n",
              "    [theme=dark] .colab-df-convert {\n",
              "      background-color: #3B4455;\n",
              "      fill: #D2E3FC;\n",
              "    }\n",
              "\n",
              "    [theme=dark] .colab-df-convert:hover {\n",
              "      background-color: #434B5C;\n",
              "      box-shadow: 0px 1px 3px 1px rgba(0, 0, 0, 0.15);\n",
              "      filter: drop-shadow(0px 1px 2px rgba(0, 0, 0, 0.3));\n",
              "      fill: #FFFFFF;\n",
              "    }\n",
              "  </style>\n",
              "\n",
              "      <script>\n",
              "        const buttonEl =\n",
              "          document.querySelector('#df-a2c98a91-accd-4a25-bceb-d740b35f462c button.colab-df-convert');\n",
              "        buttonEl.style.display =\n",
              "          google.colab.kernel.accessAllowed ? 'block' : 'none';\n",
              "\n",
              "        async function convertToInteractive(key) {\n",
              "          const element = document.querySelector('#df-a2c98a91-accd-4a25-bceb-d740b35f462c');\n",
              "          const dataTable =\n",
              "            await google.colab.kernel.invokeFunction('convertToInteractive',\n",
              "                                                     [key], {});\n",
              "          if (!dataTable) return;\n",
              "\n",
              "          const docLinkHtml = 'Like what you see? Visit the ' +\n",
              "            '<a target=\"_blank\" href=https://colab.research.google.com/notebooks/data_table.ipynb>data table notebook</a>'\n",
              "            + ' to learn more about interactive tables.';\n",
              "          element.innerHTML = '';\n",
              "          dataTable['output_type'] = 'display_data';\n",
              "          await google.colab.output.renderOutput(dataTable, element);\n",
              "          const docLink = document.createElement('div');\n",
              "          docLink.innerHTML = docLinkHtml;\n",
              "          element.appendChild(docLink);\n",
              "        }\n",
              "      </script>\n",
              "    </div>\n",
              "  </div>\n",
              "  "
            ]
          },
          "metadata": {},
          "execution_count": 13
        }
      ]
    },
    {
      "cell_type": "markdown",
      "source": [
        "###K-means Clustering"
      ],
      "metadata": {
        "id": "KR3zH-rXgBLG"
      }
    },
    {
      "cell_type": "markdown",
      "source": [
        "1) K-means 클러스터링으로 군집화를 진행해 보겠습니다."
      ],
      "metadata": {
        "id": "Qpotj8Y2ZYUW"
      }
    },
    {
      "cell_type": "markdown",
      "source": [
        "\n",
        "\n",
        "---\n",
        "\n"
      ],
      "metadata": {
        "id": "YhtwXuAsrMSM"
      }
    },
    {
      "cell_type": "markdown",
      "source": [
        "사이킷런에서 K-means Clustering 구현 방법은 https://scikit-learn.org/stable/modules/generated/sklearn.cluster.KMeans.html 를 참고해주세요."
      ],
      "metadata": {
        "id": "pzcazhaoq3mi"
      }
    },
    {
      "cell_type": "code",
      "source": [
        "## 필요한 라이브러리를 임포트합니다.\n",
        "\n",
        "from sklearn.cluster import KMeans"
      ],
      "metadata": {
        "id": "uLIGhgpkrHVq"
      },
      "execution_count": 14,
      "outputs": []
    },
    {
      "cell_type": "markdown",
      "source": [
        "K-means 는 다른 클러스터링 알고리즘과는 다르게 사전에 군집 수 K를 정해야 합니다. Elbow method를 적용해 최적의 군집 수 K를 찾아봅시다."
      ],
      "metadata": {
        "id": "pb5NB7xJrUzN"
      }
    },
    {
      "cell_type": "markdown",
      "source": [
        "####최적의 군집 수 k 찾기"
      ],
      "metadata": {
        "id": "d6K2i7z3HDKw"
      }
    },
    {
      "cell_type": "code",
      "source": [
        "## 필요한 라이브러리를 임포트합니다.\n",
        "\n",
        "from yellowbrick.cluster import KElbowVisualizer #elbow method"
      ],
      "metadata": {
        "id": "JiU02rfHrO9m"
      },
      "execution_count": 15,
      "outputs": []
    },
    {
      "cell_type": "code",
      "source": [
        "## Elbow method의 x값은 군집 수, y값은 원하는 지표 (내부평가) 사용이 가능합니다.\n",
        "# 가장 구현이 간편한 SSE를 내부 평가 지표로 삼아 구현해봅시다.\n",
        "\n",
        "sse = []\n",
        "K = range(1, 12)\n",
        "for k in K:\n",
        "  km = KMeans(n_clusters = k)\n",
        "  km = km.fit(scaled_data)\n",
        "  sse.append(km.inertia_)\n",
        "\n",
        "plt.plot(K, sse)\n",
        "plt.xlabel('k(# of clusters)')\n",
        "plt.ylabel('SSE')\n",
        "plt.title('Elbow Method For Optimal k', pad = 10)\n",
        "plt.show()"
      ],
      "metadata": {
        "colab": {
          "base_uri": "https://localhost:8080/",
          "height": 380
        },
        "id": "1c4jVLcNja9i",
        "outputId": "2be26b57-6779-462e-b429-21492315a621"
      },
      "execution_count": 16,
      "outputs": [
        {
          "output_type": "display_data",
          "data": {
            "text/plain": [
              "<Figure size 576x396 with 1 Axes>"
            ],
            "image/png": "[encoded data removed]"
          },
          "metadata": {}
        }
      ]
    },
    {
      "cell_type": "markdown",
      "source": [
        "해당 그래프에서 elbow point는 k=5에서 형성됩니다."
      ],
      "metadata": {
        "id": "io7L59PQm-W1"
      }
    },
    {
      "cell_type": "markdown",
      "source": [
        "그러나 SSE는 군집 내 분산 최소화만 고려하는 지표였습니다. 군집 간 분산 최대화까지 하는 실루엣 계수를 적용해 elbow point를 찾아보고, SSE와 비교해봅시다."
      ],
      "metadata": {
        "id": "lCKNLbZfnVb6"
      }
    },
    {
      "cell_type": "markdown",
      "source": [
        "\n",
        "\n",
        "---\n",
        "\n"
      ],
      "metadata": {
        "id": "LdlLBz1TrOQF"
      }
    },
    {
      "cell_type": "markdown",
      "source": [
        "실루엣 계수를 활용한 elbow method 구현 방법은 https://www.scikit-yb.org/en/latest/api/cluster/elbow.html 를 참고해주세요."
      ],
      "metadata": {
        "id": "cMApYGGKoKAT"
      }
    },
    {
      "cell_type": "markdown",
      "source": [
        "(실루엣 계수에 대한 설명은 https://scikit-learn.org/stable/modules/clustering.html#silhouette-coefficient 를 참고해주세요.)"
      ],
      "metadata": {
        "id": "uOkgW9tsrG_d"
      }
    },
    {
      "cell_type": "code",
      "source": [
        "model = KMeans()"
      ],
      "metadata": {
        "id": "2audRXUGEpoB"
      },
      "execution_count": 17,
      "outputs": []
    },
    {
      "cell_type": "code",
      "source": [
        "# 실루엣 계수는 '2 <= # of labels <= (# of samples) - 1' 일 때에만 정의됩니다.\n",
        "elbowvisualizer = KElbowVisualizer(model, k = (2,10), metric = 'silhouette', timings = False)\n",
        "\n",
        "elbowvisualizer.fit(scaled_data)  \n",
        "elbowvisualizer.show()"
      ],
      "metadata": {
        "colab": {
          "base_uri": "https://localhost:8080/",
          "height": 394
        },
        "id": "PdUiyk4SoHuc",
        "outputId": "404cb588-7c1d-4f59-d82c-4528375b4462"
      },
      "execution_count": 18,
      "outputs": [
        {
          "output_type": "display_data",
          "data": {
            "text/plain": [
              "<Figure size 576x396 with 1 Axes>"
            ],
            "image/png": "[encoded data removed]"
          },
          "metadata": {}
        },
        {
          "output_type": "execute_result",
          "data": {
            "text/plain": [
              "<matplotlib.axes._subplots.AxesSubplot at 0x7f2905360190>"
            ]
          },
          "metadata": {},
          "execution_count": 18
        }
      ]
    },
    {
      "cell_type": "markdown",
      "source": [
        "실루엣 계수를 활용한 elbow method에서도 k=5에서 elbow point가 형성됨을 확인할 수 있습니다."
      ],
      "metadata": {
        "id": "dt2dPLQ3s2KC"
      }
    },
    {
      "cell_type": "markdown",
      "source": [
        "최적의 클러스터 수가 5라는 사실을 찾았으니, K-means 알고리즘을 데이터셋에 적용한 뒤 각각의 데이터가 어떠한 클러스터에 속하는지 알아보겠습니다."
      ],
      "metadata": {
        "id": "b_EjO41kuicn"
      }
    },
    {
      "cell_type": "markdown",
      "source": [
        "####클러스터링 실행 "
      ],
      "metadata": {
        "id": "yy6lNQ6wHNtn"
      }
    },
    {
      "cell_type": "code",
      "source": [
        "# 클러스터링을 진행할 데이터 확인\n",
        "\n",
        "scaled_data"
      ],
      "metadata": {
        "colab": {
          "base_uri": "https://localhost:8080/",
          "height": 423
        },
        "id": "9VaBcIxf9_SE",
        "outputId": "bfafc948-0e12-4c6c-ab0b-4faa79664634"
      },
      "execution_count": 19,
      "outputs": [
        {
          "output_type": "execute_result",
          "data": {
            "text/plain": [
              "     Annual Income (k$)  Spending Score (1-100)\n",
              "0              0.000000                0.387755\n",
              "1              0.000000                0.816327\n",
              "2              0.008197                0.051020\n",
              "3              0.008197                0.775510\n",
              "4              0.016393                0.397959\n",
              "..                  ...                     ...\n",
              "195            0.860656                0.795918\n",
              "196            0.909836                0.275510\n",
              "197            0.909836                0.744898\n",
              "198            1.000000                0.173469\n",
              "199            1.000000                0.836735\n",
              "\n",
              "[200 rows x 2 columns]"
            ],
            "text/html": [
              "\n",
              "  <div id=\"df-04b8875e-b423-4992-bc7e-32a9c09a5b7d\">\n",
              "    <div class=\"colab-df-container\">\n",
              "      <div>\n",
              "<style scoped>\n",
              "    .dataframe tbody tr th:only-of-type {\n",
              "        vertical-align: middle;\n",
              "    }\n",
              "\n",
              "    .dataframe tbody tr th {\n",
              "        vertical-align: top;\n",
              "    }\n",
              "\n",
              "    .dataframe thead th {\n",
              "        text-align: right;\n",
              "    }\n",
              "</style>\n",
              "<table border=\"1\" class=\"dataframe\">\n",
              "  <thead>\n",
              "    <tr style=\"text-align: right;\">\n",
              "      <th></th>\n",
              "      <th>Annual Income (k$)</th>\n",
              "      <th>Spending Score (1-100)</th>\n",
              "    </tr>\n",
              "  </thead>\n",
              "  <tbody>\n",
              "    <tr>\n",
              "      <th>0</th>\n",
              "      <td>0.000000</td>\n",
              "      <td>0.387755</td>\n",
              "    </tr>\n",
              "    <tr>\n",
              "      <th>1</th>\n",
              "      <td>0.000000</td>\n",
              "      <td>0.816327</td>\n",
              "    </tr>\n",
              "    <tr>\n",
              "      <th>2</th>\n",
              "      <td>0.008197</td>\n",
              "      <td>0.051020</td>\n",
              "    </tr>\n",
              "    <tr>\n",
              "      <th>3</th>\n",
              "      <td>0.008197</td>\n",
              "      <td>0.775510</td>\n",
              "    </tr>\n",
              "    <tr>\n",
              "      <th>4</th>\n",
              "      <td>0.016393</td>\n",
              "      <td>0.397959</td>\n",
              "    </tr>\n",
              "    <tr>\n",
              "      <th>...</th>\n",
              "      <td>...</td>\n",
              "      <td>...</td>\n",
              "    </tr>\n",
              "    <tr>\n",
              "      <th>195</th>\n",
              "      <td>0.860656</td>\n",
              "      <td>0.795918</td>\n",
              "    </tr>\n",
              "    <tr>\n",
              "      <th>196</th>\n",
              "      <td>0.909836</td>\n",
              "      <td>0.275510</td>\n",
              "    </tr>\n",
              "    <tr>\n",
              "      <th>197</th>\n",
              "      <td>0.909836</td>\n",
              "      <td>0.744898</td>\n",
              "    </tr>\n",
              "    <tr>\n",
              "      <th>198</th>\n",
              "      <td>1.000000</td>\n",
              "      <td>0.173469</td>\n",
              "    </tr>\n",
              "    <tr>\n",
              "      <th>199</th>\n",
              "      <td>1.000000</td>\n",
              "      <td>0.836735</td>\n",
              "    </tr>\n",
              "  </tbody>\n",
              "</table>\n",
              "<p>200 rows × 2 columns</p>\n",
              "</div>\n",
              "      <button class=\"colab-df-convert\" onclick=\"convertToInteractive('df-04b8875e-b423-4992-bc7e-32a9c09a5b7d')\"\n",
              "              title=\"Convert this dataframe to an interactive table.\"\n",
              "              style=\"display:none;\">\n",
              "        \n",
              "  <svg xmlns=\"http://www.w3.org/2000/svg\" height=\"24px\"viewBox=\"0 0 24 24\"\n",
              "       width=\"24px\">\n",
              "    <path d=\"M0 0h24v24H0V0z\" fill=\"none\"/>\n",
              "    <path d=\"M18.56 5.44l.94 2.06.94-2.06 2.06-.94-2.06-.94-.94-2.06-.94 2.06-2.06.94zm-11 1L8.5 8.5l.94-2.06 2.06-.94-2.06-.94L8.5 2.5l-.94 2.06-2.06.94zm10 10l.94 2.06.94-2.06 2.06-.94-2.06-.94-.94-2.06-.94 2.06-2.06.94z\"/><path d=\"M17.41 7.96l-1.37-1.37c-.4-.4-.92-.59-1.43-.59-.52 0-1.04.2-1.43.59L10.3 9.45l-7.72 7.72c-.78.78-.78 2.05 0 2.83L4 21.41c.39.39.9.59 1.41.59.51 0 1.02-.2 1.41-.59l7.78-7.78 2.81-2.81c.8-.78.8-2.07 0-2.86zM5.41 20L4 18.59l7.72-7.72 1.47 1.35L5.41 20z\"/>\n",
              "  </svg>\n",
              "      </button>\n",
              "      \n",
              "  <style>\n",
              "    .colab-df-container {\n",
              "      display:flex;\n",
              "      flex-wrap:wrap;\n",
              "      gap: 12px;\n",
              "    }\n",
              "\n",
              "    .colab-df-convert {\n",
              "      background-color: #E8F0FE;\n",
              "      border: none;\n",
              "      border-radius: 50%;\n",
              "      cursor: pointer;\n",
              "      display: none;\n",
              "      fill: #1967D2;\n",
              "      height: 32px;\n",
              "      padding: 0 0 0 0;\n",
              "      width: 32px;\n",
              "    }\n",
              "\n",
              "    .colab-df-convert:hover {\n",
              "      background-color: #E2EBFA;\n",
              "      box-shadow: 0px 1px 2px rgba(60, 64, 67, 0.3), 0px 1px 3px 1px rgba(60, 64, 67, 0.15);\n",
              "      fill: #174EA6;\n",
              "    }\n",
              "\n",
              "    [theme=dark] .colab-df-convert {\n",
              "      background-color: #3B4455;\n",
              "      fill: #D2E3FC;\n",
              "    }\n",
              "\n",
              "    [theme=dark] .colab-df-convert:hover {\n",
              "      background-color: #434B5C;\n",
              "      box-shadow: 0px 1px 3px 1px rgba(0, 0, 0, 0.15);\n",
              "      filter: drop-shadow(0px 1px 2px rgba(0, 0, 0, 0.3));\n",
              "      fill: #FFFFFF;\n",
              "    }\n",
              "  </style>\n",
              "\n",
              "      <script>\n",
              "        const buttonEl =\n",
              "          document.querySelector('#df-04b8875e-b423-4992-bc7e-32a9c09a5b7d button.colab-df-convert');\n",
              "        buttonEl.style.display =\n",
              "          google.colab.kernel.accessAllowed ? 'block' : 'none';\n",
              "\n",
              "        async function convertToInteractive(key) {\n",
              "          const element = document.querySelector('#df-04b8875e-b423-4992-bc7e-32a9c09a5b7d');\n",
              "          const dataTable =\n",
              "            await google.colab.kernel.invokeFunction('convertToInteractive',\n",
              "                                                     [key], {});\n",
              "          if (!dataTable) return;\n",
              "\n",
              "          const docLinkHtml = 'Like what you see? Visit the ' +\n",
              "            '<a target=\"_blank\" href=https://colab.research.google.com/notebooks/data_table.ipynb>data table notebook</a>'\n",
              "            + ' to learn more about interactive tables.';\n",
              "          element.innerHTML = '';\n",
              "          dataTable['output_type'] = 'display_data';\n",
              "          await google.colab.output.renderOutput(dataTable, element);\n",
              "          const docLink = document.createElement('div');\n",
              "          docLink.innerHTML = docLinkHtml;\n",
              "          element.appendChild(docLink);\n",
              "        }\n",
              "      </script>\n",
              "    </div>\n",
              "  </div>\n",
              "  "
            ]
          },
          "metadata": {},
          "execution_count": 19
        }
      ]
    },
    {
      "cell_type": "code",
      "source": [
        "## 데이터에 scaling을 적용한 뒤에 클러스터링을 실행합니다.\n",
        "\n",
        "km = KMeans(n_clusters=5)\n",
        "y_km = km.fit_predict(scaled_data)\n",
        "y_km"
      ],
      "metadata": {
        "colab": {
          "base_uri": "https://localhost:8080/"
        },
        "id": "XdqocZrI87y1",
        "outputId": "809d734c-8211-40e2-d748-e34b5e70fd23"
      },
      "execution_count": 54,
      "outputs": [
        {
          "output_type": "execute_result",
          "data": {
            "text/plain": [
              "array([1, 0, 3, 0, 1, 0, 3, 0, 3, 0, 3, 0, 3, 0, 3, 0, 1, 0, 1, 0, 1, 0,\n",
              "       3, 0, 3, 0, 1, 0, 1, 0, 3, 0, 3, 0, 3, 0, 3, 0, 0, 0, 1, 0, 1, 1,\n",
              "       0, 1, 1, 1, 1, 1, 1, 1, 1, 1, 1, 1, 1, 1, 1, 1, 1, 1, 1, 1, 1, 1,\n",
              "       1, 1, 1, 1, 1, 1, 1, 1, 1, 1, 1, 1, 1, 1, 1, 1, 1, 1, 1, 1, 1, 1,\n",
              "       1, 1, 1, 1, 1, 1, 1, 1, 1, 1, 1, 1, 1, 1, 1, 1, 1, 1, 1, 1, 1, 1,\n",
              "       1, 1, 1, 1, 1, 1, 1, 1, 1, 1, 1, 1, 1, 4, 1, 4, 1, 4, 2, 4, 2, 4,\n",
              "       1, 4, 2, 4, 2, 4, 2, 4, 2, 4, 1, 4, 2, 4, 1, 4, 2, 4, 2, 4, 2, 4,\n",
              "       2, 4, 2, 4, 2, 4, 1, 4, 2, 4, 2, 4, 2, 4, 0, 4, 2, 4, 2, 4, 2, 4,\n",
              "       2, 4, 2, 4, 0, 4, 2, 4, 0, 0, 0, 0, 0, 4, 0, 0, 0, 0, 0, 0, 0, 0,\n",
              "       0, 0], dtype=int32)"
            ]
          },
          "metadata": {},
          "execution_count": 54
        }
      ]
    },
    {
      "cell_type": "markdown",
      "source": [
        "위의 코드를 반복해서 돌려보면 돌릴 때마다 클러스터링 결과가 달라진다는 사실을 확인할 수 있습니다. 이는 매 시행마다 결과가 다르게 나오는 K-means Clustering의 특징을 보여줍니다. (동일한 학습 결과를 보고 싶다면 random_state를 이용하여 난수를 지정하면 됩니다.)"
      ],
      "metadata": {
        "id": "vxso1Ten_8EM"
      }
    },
    {
      "cell_type": "markdown",
      "source": [
        "\n",
        "\n",
        "---\n",
        "\n"
      ],
      "metadata": {
        "id": "cdDO3_YYAWP8"
      }
    },
    {
      "cell_type": "markdown",
      "source": [
        "클러스터링 결과를 기존 데이터셋에 반영합니다."
      ],
      "metadata": {
        "id": "KEBOKP8bAXaO"
      }
    },
    {
      "cell_type": "code",
      "source": [
        "data[\"Cluster\"] = y_km\n",
        "data.head(10)"
      ],
      "metadata": {
        "colab": {
          "base_uri": "https://localhost:8080/",
          "height": 363
        },
        "id": "jFk7qD8AAd0Y",
        "outputId": "94a214c6-bbd3-433c-da47-4b680da3f30f"
      },
      "execution_count": 21,
      "outputs": [
        {
          "output_type": "execute_result",
          "data": {
            "text/plain": [
              "   CustomerID   Genre  Age  Annual Income (k$)  Spending Score (1-100)  \\\n",
              "0           1    Male   19                  15                      39   \n",
              "1           2    Male   21                  15                      81   \n",
              "2           3  Female   20                  16                       6   \n",
              "3           4  Female   23                  16                      77   \n",
              "4           5  Female   31                  17                      40   \n",
              "5           6  Female   22                  17                      76   \n",
              "6           7  Female   35                  18                       6   \n",
              "7           8  Female   23                  18                      94   \n",
              "8           9    Male   64                  19                       3   \n",
              "9          10  Female   30                  19                      72   \n",
              "\n",
              "   Cluster  \n",
              "0        4  \n",
              "1        2  \n",
              "2        4  \n",
              "3        2  \n",
              "4        4  \n",
              "5        2  \n",
              "6        4  \n",
              "7        2  \n",
              "8        4  \n",
              "9        2  "
            ],
            "text/html": [
              "\n",
              "  <div id=\"df-7557c581-b5ed-47e4-abe0-939b16f9dac0\">\n",
              "    <div class=\"colab-df-container\">\n",
              "      <div>\n",
              "<style scoped>\n",
              "    .dataframe tbody tr th:only-of-type {\n",
              "        vertical-align: middle;\n",
              "    }\n",
              "\n",
              "    .dataframe tbody tr th {\n",
              "        vertical-align: top;\n",
              "    }\n",
              "\n",
              "    .dataframe thead th {\n",
              "        text-align: right;\n",
              "    }\n",
              "</style>\n",
              "<table border=\"1\" class=\"dataframe\">\n",
              "  <thead>\n",
              "    <tr style=\"text-align: right;\">\n",
              "      <th></th>\n",
              "      <th>CustomerID</th>\n",
              "      <th>Genre</th>\n",
              "      <th>Age</th>\n",
              "      <th>Annual Income (k$)</th>\n",
              "      <th>Spending Score (1-100)</th>\n",
              "      <th>Cluster</th>\n",
              "    </tr>\n",
              "  </thead>\n",
              "  <tbody>\n",
              "    <tr>\n",
              "      <th>0</th>\n",
              "      <td>1</td>\n",
              "      <td>Male</td>\n",
              "      <td>19</td>\n",
              "      <td>15</td>\n",
              "      <td>39</td>\n",
              "      <td>4</td>\n",
              "    </tr>\n",
              "    <tr>\n",
              "      <th>1</th>\n",
              "      <td>2</td>\n",
              "      <td>Male</td>\n",
              "      <td>21</td>\n",
              "      <td>15</td>\n",
              "      <td>81</td>\n",
              "      <td>2</td>\n",
              "    </tr>\n",
              "    <tr>\n",
              "      <th>2</th>\n",
              "      <td>3</td>\n",
              "      <td>Female</td>\n",
              "      <td>20</td>\n",
              "      <td>16</td>\n",
              "      <td>6</td>\n",
              "      <td>4</td>\n",
              "    </tr>\n",
              "    <tr>\n",
              "      <th>3</th>\n",
              "      <td>4</td>\n",
              "      <td>Female</td>\n",
              "      <td>23</td>\n",
              "      <td>16</td>\n",
              "      <td>77</td>\n",
              "      <td>2</td>\n",
              "    </tr>\n",
              "    <tr>\n",
              "      <th>4</th>\n",
              "      <td>5</td>\n",
              "      <td>Female</td>\n",
              "      <td>31</td>\n",
              "      <td>17</td>\n",
              "      <td>40</td>\n",
              "      <td>4</td>\n",
              "    </tr>\n",
              "    <tr>\n",
              "      <th>5</th>\n",
              "      <td>6</td>\n",
              "      <td>Female</td>\n",
              "      <td>22</td>\n",
              "      <td>17</td>\n",
              "      <td>76</td>\n",
              "      <td>2</td>\n",
              "    </tr>\n",
              "    <tr>\n",
              "      <th>6</th>\n",
              "      <td>7</td>\n",
              "      <td>Female</td>\n",
              "      <td>35</td>\n",
              "      <td>18</td>\n",
              "      <td>6</td>\n",
              "      <td>4</td>\n",
              "    </tr>\n",
              "    <tr>\n",
              "      <th>7</th>\n",
              "      <td>8</td>\n",
              "      <td>Female</td>\n",
              "      <td>23</td>\n",
              "      <td>18</td>\n",
              "      <td>94</td>\n",
              "      <td>2</td>\n",
              "    </tr>\n",
              "    <tr>\n",
              "      <th>8</th>\n",
              "      <td>9</td>\n",
              "      <td>Male</td>\n",
              "      <td>64</td>\n",
              "      <td>19</td>\n",
              "      <td>3</td>\n",
              "      <td>4</td>\n",
              "    </tr>\n",
              "    <tr>\n",
              "      <th>9</th>\n",
              "      <td>10</td>\n",
              "      <td>Female</td>\n",
              "      <td>30</td>\n",
              "      <td>19</td>\n",
              "      <td>72</td>\n",
              "      <td>2</td>\n",
              "    </tr>\n",
              "  </tbody>\n",
              "</table>\n",
              "</div>\n",
              "      <button class=\"colab-df-convert\" onclick=\"convertToInteractive('df-7557c581-b5ed-47e4-abe0-939b16f9dac0')\"\n",
              "              title=\"Convert this dataframe to an interactive table.\"\n",
              "              style=\"display:none;\">\n",
              "        \n",
              "  <svg xmlns=\"http://www.w3.org/2000/svg\" height=\"24px\"viewBox=\"0 0 24 24\"\n",
              "       width=\"24px\">\n",
              "    <path d=\"M0 0h24v24H0V0z\" fill=\"none\"/>\n",
              "    <path d=\"M18.56 5.44l.94 2.06.94-2.06 2.06-.94-2.06-.94-.94-2.06-.94 2.06-2.06.94zm-11 1L8.5 8.5l.94-2.06 2.06-.94-2.06-.94L8.5 2.5l-.94 2.06-2.06.94zm10 10l.94 2.06.94-2.06 2.06-.94-2.06-.94-.94-2.06-.94 2.06-2.06.94z\"/><path d=\"M17.41 7.96l-1.37-1.37c-.4-.4-.92-.59-1.43-.59-.52 0-1.04.2-1.43.59L10.3 9.45l-7.72 7.72c-.78.78-.78 2.05 0 2.83L4 21.41c.39.39.9.59 1.41.59.51 0 1.02-.2 1.41-.59l7.78-7.78 2.81-2.81c.8-.78.8-2.07 0-2.86zM5.41 20L4 18.59l7.72-7.72 1.47 1.35L5.41 20z\"/>\n",
              "  </svg>\n",
              "      </button>\n",
              "      \n",
              "  <style>\n",
              "    .colab-df-container {\n",
              "      display:flex;\n",
              "      flex-wrap:wrap;\n",
              "      gap: 12px;\n",
              "    }\n",
              "\n",
              "    .colab-df-convert {\n",
              "      background-color: #E8F0FE;\n",
              "      border: none;\n",
              "      border-radius: 50%;\n",
              "      cursor: pointer;\n",
              "      display: none;\n",
              "      fill: #1967D2;\n",
              "      height: 32px;\n",
              "      padding: 0 0 0 0;\n",
              "      width: 32px;\n",
              "    }\n",
              "\n",
              "    .colab-df-convert:hover {\n",
              "      background-color: #E2EBFA;\n",
              "      box-shadow: 0px 1px 2px rgba(60, 64, 67, 0.3), 0px 1px 3px 1px rgba(60, 64, 67, 0.15);\n",
              "      fill: #174EA6;\n",
              "    }\n",
              "\n",
              "    [theme=dark] .colab-df-convert {\n",
              "      background-color: #3B4455;\n",
              "      fill: #D2E3FC;\n",
              "    }\n",
              "\n",
              "    [theme=dark] .colab-df-convert:hover {\n",
              "      background-color: #434B5C;\n",
              "      box-shadow: 0px 1px 3px 1px rgba(0, 0, 0, 0.15);\n",
              "      filter: drop-shadow(0px 1px 2px rgba(0, 0, 0, 0.3));\n",
              "      fill: #FFFFFF;\n",
              "    }\n",
              "  </style>\n",
              "\n",
              "      <script>\n",
              "        const buttonEl =\n",
              "          document.querySelector('#df-7557c581-b5ed-47e4-abe0-939b16f9dac0 button.colab-df-convert');\n",
              "        buttonEl.style.display =\n",
              "          google.colab.kernel.accessAllowed ? 'block' : 'none';\n",
              "\n",
              "        async function convertToInteractive(key) {\n",
              "          const element = document.querySelector('#df-7557c581-b5ed-47e4-abe0-939b16f9dac0');\n",
              "          const dataTable =\n",
              "            await google.colab.kernel.invokeFunction('convertToInteractive',\n",
              "                                                     [key], {});\n",
              "          if (!dataTable) return;\n",
              "\n",
              "          const docLinkHtml = 'Like what you see? Visit the ' +\n",
              "            '<a target=\"_blank\" href=https://colab.research.google.com/notebooks/data_table.ipynb>data table notebook</a>'\n",
              "            + ' to learn more about interactive tables.';\n",
              "          element.innerHTML = '';\n",
              "          dataTable['output_type'] = 'display_data';\n",
              "          await google.colab.output.renderOutput(dataTable, element);\n",
              "          const docLink = document.createElement('div');\n",
              "          docLink.innerHTML = docLinkHtml;\n",
              "          element.appendChild(docLink);\n",
              "        }\n",
              "      </script>\n",
              "    </div>\n",
              "  </div>\n",
              "  "
            ]
          },
          "metadata": {},
          "execution_count": 21
        }
      ]
    },
    {
      "cell_type": "markdown",
      "source": [
        "학습된 K-means 모델은 클러스터를 형성합니다. 학습 결과 생성된 클러스터의 중심점들의 좌푯값입니다."
      ],
      "metadata": {
        "id": "ZdhyLFmwA3B0"
      }
    },
    {
      "cell_type": "code",
      "source": [
        "centers = km.cluster_centers_\n",
        "print(centers)"
      ],
      "metadata": {
        "colab": {
          "base_uri": "https://localhost:8080/"
        },
        "id": "qUSvzSJLA2W2",
        "outputId": "8bda5d09-3c51-4193-d627-e42bbd6f5332"
      },
      "execution_count": 22,
      "outputs": [
        {
          "output_type": "stream",
          "name": "stdout",
          "text": [
            "[[0.58638083 0.82783883]\n",
            " [0.33029751 0.49508692]\n",
            " [0.08792846 0.79962894]\n",
            " [0.6        0.16443149]\n",
            " [0.09265859 0.20319432]]\n"
          ]
        }
      ]
    },
    {
      "cell_type": "markdown",
      "source": [
        "####시각화"
      ],
      "metadata": {
        "id": "vOlO3WQRGlIG"
      }
    },
    {
      "cell_type": "markdown",
      "source": [
        "클러스터링 결과를 시각화 해봅시다!"
      ],
      "metadata": {
        "id": "AUckzAS7CU4m"
      }
    },
    {
      "cell_type": "code",
      "source": [
        "plt.figure(figsize = (10,8))\n",
        "df1 = data[data.Cluster == 0]\n",
        "df2 = data[data.Cluster == 1]\n",
        "df3 = data[data.Cluster == 2]\n",
        "df4 = data[data.Cluster == 3]\n",
        "df5 = data[data.Cluster == 4]\n",
        "plt.scatter(df1['Annual Income (k$)'], df1['Spending Score (1-100)'], color = 'green', alpha = 0.8, label = 'Cluster 0')\n",
        "plt.scatter(df2['Annual Income (k$)'], df2['Spending Score (1-100)'], color = 'purple', alpha = 0.8, label = 'Cluster 1')\n",
        "plt.scatter(df3['Annual Income (k$)'], df3['Spending Score (1-100)'], color = 'pink', alpha = 0.8, label = 'Cluster 2')\n",
        "plt.scatter(df4['Annual Income (k$)'], df4['Spending Score (1-100)'], color = 'orange', alpha = 0.8, label = 'Cluster 3')\n",
        "plt.scatter(df5['Annual Income (k$)'], df5['Spending Score (1-100)'], color = 'blue', alpha = 0.8, label = 'Cluster 4')\n",
        "plt.title('K-Means Clustering Result', fontsize = 18, pad = 20)\n",
        "plt.xlabel('Annual Income (k$)', fontsize = 13)\n",
        "plt.ylabel('Spending Score (1-100)', fontsize = 13)\n",
        "plt.legend(fontsize = 10)\n",
        "plt.grid(True)\n",
        "plt.show()"
      ],
      "metadata": {
        "colab": {
          "base_uri": "https://localhost:8080/",
          "height": 532
        },
        "id": "gAXWplyeCRu7",
        "outputId": "cf8306f3-8836-4696-f883-98e72c9fc3cb"
      },
      "execution_count": 23,
      "outputs": [
        {
          "output_type": "display_data",
          "data": {
            "text/plain": [
              "<Figure size 720x576 with 1 Axes>"
            ],
            "image/png": "[encoded data removed]"
          },
          "metadata": {}
        }
      ]
    },
    {
      "cell_type": "markdown",
      "source": [
        "클러스터링 결과를 분석해볼까요?"
      ],
      "metadata": {
        "id": "nUUDDENTF8mi"
      }
    },
    {
      "cell_type": "markdown",
      "source": [
        "###Hierarchical Clustering"
      ],
      "metadata": {
        "id": "hNcAc6VeIANB"
      }
    },
    {
      "cell_type": "markdown",
      "source": [
        "2) Hierarchical 클러스터링으로 군집화를 진행해 보겠습니다."
      ],
      "metadata": {
        "id": "eRveoQmt9aZ1"
      }
    },
    {
      "cell_type": "markdown",
      "source": [
        "\n",
        "\n",
        "---\n",
        "\n"
      ],
      "metadata": {
        "id": "CT-hNZ3g9c58"
      }
    },
    {
      "cell_type": "markdown",
      "source": [
        "계층적 군집화를 위해 필요한 function은 https://docs.scipy.org/doc/scipy/reference/cluster.hierarchy.html 를 참고해주세요."
      ],
      "metadata": {
        "id": "E-Oo1kDSUkqg"
      }
    },
    {
      "cell_type": "code",
      "source": [
        "## 다시 데이터를 가져 옵시다.\n",
        "\n",
        "data = pd.read_csv('/content/drive/MyDrive/Mall_Customers.csv')\n",
        "data.head()"
      ],
      "metadata": {
        "colab": {
          "base_uri": "https://localhost:8080/",
          "height": 206
        },
        "id": "qKibKmPLIpL6",
        "outputId": "41635767-e572-460b-e3dd-5ba580dbb81b"
      },
      "execution_count": 24,
      "outputs": [
        {
          "output_type": "execute_result",
          "data": {
            "text/plain": [
              "   CustomerID   Genre  Age  Annual Income (k$)  Spending Score (1-100)\n",
              "0           1    Male   19                  15                      39\n",
              "1           2    Male   21                  15                      81\n",
              "2           3  Female   20                  16                       6\n",
              "3           4  Female   23                  16                      77\n",
              "4           5  Female   31                  17                      40"
            ],
            "text/html": [
              "\n",
              "  <div id=\"df-62cf194f-ff17-4a0c-83f5-5a462e0a3ce6\">\n",
              "    <div class=\"colab-df-container\">\n",
              "      <div>\n",
              "<style scoped>\n",
              "    .dataframe tbody tr th:only-of-type {\n",
              "        vertical-align: middle;\n",
              "    }\n",
              "\n",
              "    .dataframe tbody tr th {\n",
              "        vertical-align: top;\n",
              "    }\n",
              "\n",
              "    .dataframe thead th {\n",
              "        text-align: right;\n",
              "    }\n",
              "</style>\n",
              "<table border=\"1\" class=\"dataframe\">\n",
              "  <thead>\n",
              "    <tr style=\"text-align: right;\">\n",
              "      <th></th>\n",
              "      <th>CustomerID</th>\n",
              "      <th>Genre</th>\n",
              "      <th>Age</th>\n",
              "      <th>Annual Income (k$)</th>\n",
              "      <th>Spending Score (1-100)</th>\n",
              "    </tr>\n",
              "  </thead>\n",
              "  <tbody>\n",
              "    <tr>\n",
              "      <th>0</th>\n",
              "      <td>1</td>\n",
              "      <td>Male</td>\n",
              "      <td>19</td>\n",
              "      <td>15</td>\n",
              "      <td>39</td>\n",
              "    </tr>\n",
              "    <tr>\n",
              "      <th>1</th>\n",
              "      <td>2</td>\n",
              "      <td>Male</td>\n",
              "      <td>21</td>\n",
              "      <td>15</td>\n",
              "      <td>81</td>\n",
              "    </tr>\n",
              "    <tr>\n",
              "      <th>2</th>\n",
              "      <td>3</td>\n",
              "      <td>Female</td>\n",
              "      <td>20</td>\n",
              "      <td>16</td>\n",
              "      <td>6</td>\n",
              "    </tr>\n",
              "    <tr>\n",
              "      <th>3</th>\n",
              "      <td>4</td>\n",
              "      <td>Female</td>\n",
              "      <td>23</td>\n",
              "      <td>16</td>\n",
              "      <td>77</td>\n",
              "    </tr>\n",
              "    <tr>\n",
              "      <th>4</th>\n",
              "      <td>5</td>\n",
              "      <td>Female</td>\n",
              "      <td>31</td>\n",
              "      <td>17</td>\n",
              "      <td>40</td>\n",
              "    </tr>\n",
              "  </tbody>\n",
              "</table>\n",
              "</div>\n",
              "      <button class=\"colab-df-convert\" onclick=\"convertToInteractive('df-62cf194f-ff17-4a0c-83f5-5a462e0a3ce6')\"\n",
              "              title=\"Convert this dataframe to an interactive table.\"\n",
              "              style=\"display:none;\">\n",
              "        \n",
              "  <svg xmlns=\"http://www.w3.org/2000/svg\" height=\"24px\"viewBox=\"0 0 24 24\"\n",
              "       width=\"24px\">\n",
              "    <path d=\"M0 0h24v24H0V0z\" fill=\"none\"/>\n",
              "    <path d=\"M18.56 5.44l.94 2.06.94-2.06 2.06-.94-2.06-.94-.94-2.06-.94 2.06-2.06.94zm-11 1L8.5 8.5l.94-2.06 2.06-.94-2.06-.94L8.5 2.5l-.94 2.06-2.06.94zm10 10l.94 2.06.94-2.06 2.06-.94-2.06-.94-.94-2.06-.94 2.06-2.06.94z\"/><path d=\"M17.41 7.96l-1.37-1.37c-.4-.4-.92-.59-1.43-.59-.52 0-1.04.2-1.43.59L10.3 9.45l-7.72 7.72c-.78.78-.78 2.05 0 2.83L4 21.41c.39.39.9.59 1.41.59.51 0 1.02-.2 1.41-.59l7.78-7.78 2.81-2.81c.8-.78.8-2.07 0-2.86zM5.41 20L4 18.59l7.72-7.72 1.47 1.35L5.41 20z\"/>\n",
              "  </svg>\n",
              "      </button>\n",
              "      \n",
              "  <style>\n",
              "    .colab-df-container {\n",
              "      display:flex;\n",
              "      flex-wrap:wrap;\n",
              "      gap: 12px;\n",
              "    }\n",
              "\n",
              "    .colab-df-convert {\n",
              "      background-color: #E8F0FE;\n",
              "      border: none;\n",
              "      border-radius: 50%;\n",
              "      cursor: pointer;\n",
              "      display: none;\n",
              "      fill: #1967D2;\n",
              "      height: 32px;\n",
              "      padding: 0 0 0 0;\n",
              "      width: 32px;\n",
              "    }\n",
              "\n",
              "    .colab-df-convert:hover {\n",
              "      background-color: #E2EBFA;\n",
              "      box-shadow: 0px 1px 2px rgba(60, 64, 67, 0.3), 0px 1px 3px 1px rgba(60, 64, 67, 0.15);\n",
              "      fill: #174EA6;\n",
              "    }\n",
              "\n",
              "    [theme=dark] .colab-df-convert {\n",
              "      background-color: #3B4455;\n",
              "      fill: #D2E3FC;\n",
              "    }\n",
              "\n",
              "    [theme=dark] .colab-df-convert:hover {\n",
              "      background-color: #434B5C;\n",
              "      box-shadow: 0px 1px 3px 1px rgba(0, 0, 0, 0.15);\n",
              "      filter: drop-shadow(0px 1px 2px rgba(0, 0, 0, 0.3));\n",
              "      fill: #FFFFFF;\n",
              "    }\n",
              "  </style>\n",
              "\n",
              "      <script>\n",
              "        const buttonEl =\n",
              "          document.querySelector('#df-62cf194f-ff17-4a0c-83f5-5a462e0a3ce6 button.colab-df-convert');\n",
              "        buttonEl.style.display =\n",
              "          google.colab.kernel.accessAllowed ? 'block' : 'none';\n",
              "\n",
              "        async function convertToInteractive(key) {\n",
              "          const element = document.querySelector('#df-62cf194f-ff17-4a0c-83f5-5a462e0a3ce6');\n",
              "          const dataTable =\n",
              "            await google.colab.kernel.invokeFunction('convertToInteractive',\n",
              "                                                     [key], {});\n",
              "          if (!dataTable) return;\n",
              "\n",
              "          const docLinkHtml = 'Like what you see? Visit the ' +\n",
              "            '<a target=\"_blank\" href=https://colab.research.google.com/notebooks/data_table.ipynb>data table notebook</a>'\n",
              "            + ' to learn more about interactive tables.';\n",
              "          element.innerHTML = '';\n",
              "          dataTable['output_type'] = 'display_data';\n",
              "          await google.colab.output.renderOutput(dataTable, element);\n",
              "          const docLink = document.createElement('div');\n",
              "          docLink.innerHTML = docLinkHtml;\n",
              "          element.appendChild(docLink);\n",
              "        }\n",
              "      </script>\n",
              "    </div>\n",
              "  </div>\n",
              "  "
            ]
          },
          "metadata": {},
          "execution_count": 24
        }
      ]
    },
    {
      "cell_type": "code",
      "source": [
        "## 데이터의 분포 확인\n",
        "\n",
        "plt.figure(figsize=(10, 10))\n",
        "sns.scatterplot('Annual Income (k$)', 'Spending Score (1-100)', alpha = 0.6, s = 80, data = data)\n",
        "plt.title('Mall_Customers Dataset', pad = 20)"
      ],
      "metadata": {
        "colab": {
          "base_uri": "https://localhost:8080/",
          "height": 708
        },
        "id": "3TLT_aE8RSP4",
        "outputId": "c9473c06-9794-4365-c0a3-fa362f5a3aea"
      },
      "execution_count": 25,
      "outputs": [
        {
          "output_type": "stream",
          "name": "stderr",
          "text": [
            "/usr/local/lib/python3.8/dist-packages/seaborn/_decorators.py:36: FutureWarning: Pass the following variables as keyword args: x, y. From version 0.12, the only valid positional argument will be `data`, and passing other arguments without an explicit keyword will result in an error or misinterpretation.\n",
            "  warnings.warn(\n"
          ]
        },
        {
          "output_type": "execute_result",
          "data": {
            "text/plain": [
              "Text(0.5, 1.0, 'Mall_Customers Dataset')"
            ]
          },
          "metadata": {},
          "execution_count": 25
        },
        {
          "output_type": "display_data",
          "data": {
            "text/plain": [
              "<Figure size 720x720 with 1 Axes>"
            ],
            "image/png": "[encoded data removed]"
          },
          "metadata": {}
        }
      ]
    },
    {
      "cell_type": "markdown",
      "source": [
        "####덴드로그램"
      ],
      "metadata": {
        "id": "x5_QPYwvTy41"
      }
    },
    {
      "cell_type": "markdown",
      "source": [
        "덴드로그램을 그려봅시다."
      ],
      "metadata": {
        "id": "8O6KWMuTSA7o"
      }
    },
    {
      "cell_type": "markdown",
      "source": [
        "덴드로그램 구현 방법은 https://docs.scipy.org/doc/scipy/reference/generated/scipy.cluster.hierarchy.dendrogram.html 를 참고해주세요."
      ],
      "metadata": {
        "id": "kBv0Y-rqVZjY"
      }
    },
    {
      "cell_type": "code",
      "source": [
        "## 필요한 라이브러리를 임포트합니다.\n",
        "\n",
        "from scipy.cluster import hierarchy\n",
        "from scipy.cluster.hierarchy import dendrogram, linkage\n",
        "import scipy.cluster.hierarchy as sch"
      ],
      "metadata": {
        "id": "b7U0C4KkSdwk"
      },
      "execution_count": 26,
      "outputs": []
    },
    {
      "cell_type": "code",
      "source": [
        "## 덴드로그램 그리기\n",
        "\n",
        "X = scaled_data.values #scaled_data: 전체 데이터에서 Annual Income과 Spending Score를 추출한 뒤 scaling한 데이터\n",
        "\n",
        "plt.figure(figsize = (15,8))\n",
        "plt.title('Dendrogram', fontsize = 15, pad = 10)\n",
        "plt.xlabel('Customers')\n",
        "plt.ylabel('Euclidean Distance')\n",
        "plt.grid(False)\n",
        "dendrogram = sch.dendrogram(sch.linkage(X, method = 'ward')) #와드연결법을 이용하여 군집화\n",
        "plt.show()"
      ],
      "metadata": {
        "colab": {
          "base_uri": "https://localhost:8080/",
          "height": 516
        },
        "id": "kcxFyKhHSANF",
        "outputId": "3e059132-3f61-49e9-c651-997e51b7398a"
      },
      "execution_count": 27,
      "outputs": [
        {
          "output_type": "display_data",
          "data": {
            "text/plain": [
              "<Figure size 1080x576 with 1 Axes>"
            ],
            "image/png": "[encoded data removed]"
          },
          "metadata": {}
        }
      ]
    },
    {
      "cell_type": "markdown",
      "source": [
        "덴드로그램을 완성한 후, 계층적 군집화의 마무리는 적절한 선에서 잘라 클러스터 수를 결정하는 것이었습니다."
      ],
      "metadata": {
        "id": "GHOsYMGeVzSP"
      }
    },
    {
      "cell_type": "markdown",
      "source": [
        "5개의 클러스터를 만들어 주는 선을 그어봅시다."
      ],
      "metadata": {
        "id": "omDz1HNRcf4o"
      }
    },
    {
      "cell_type": "code",
      "source": [
        "## 기존 코드\n",
        "plt.figure(figsize = (15,8))\n",
        "plt.title('Dendrogram', fontsize = 15, pad = 10)\n",
        "plt.xlabel('Customers')\n",
        "plt.ylabel('Ward Linkage - Distance')\n",
        "\n",
        "## 클러스터 수가 5인 지점에서 자르기\n",
        "plt.axhline(y = 2.1, linestyle = '--', color = 'black')\n",
        "plt.text(x = 1500, y = 2.2, s = 'k=5', fontsize = 15)\n",
        "plt.grid(False)\n",
        "\n",
        "dendrogram = sch.dendrogram(sch.linkage(X, method = 'ward'))\n",
        "plt.show()"
      ],
      "metadata": {
        "colab": {
          "base_uri": "https://localhost:8080/",
          "height": 516
        },
        "id": "anjIu7VJWFRU",
        "outputId": "dfc79338-8eae-4faf-c8fe-208b751b2dbc"
      },
      "execution_count": 28,
      "outputs": [
        {
          "output_type": "display_data",
          "data": {
            "text/plain": [
              "<Figure size 1080x576 with 1 Axes>"
            ],
            "image/png": "[encoded data removed]"
          },
          "metadata": {}
        }
      ]
    },
    {
      "cell_type": "markdown",
      "source": [
        "####클러스터링 실행"
      ],
      "metadata": {
        "id": "f77qUDEa8BVR"
      }
    },
    {
      "cell_type": "markdown",
      "source": [
        "Agglomerative Clustering을 해보겠습니다. "
      ],
      "metadata": {
        "id": "QL5tTL7Qq8fe"
      }
    },
    {
      "cell_type": "code",
      "source": [
        "## 필요한 라이브러리를 임포트합니다.\n",
        "\n",
        "from sklearn.cluster import AgglomerativeClustering"
      ],
      "metadata": {
        "id": "hqbaDNPCq91O"
      },
      "execution_count": 29,
      "outputs": []
    },
    {
      "cell_type": "code",
      "source": [
        "agghc = AgglomerativeClustering(n_clusters = 5, affinity = 'euclidean', linkage = 'ward')\n",
        "y_agghc = agghc.fit_predict(X)"
      ],
      "metadata": {
        "id": "W7dZo86exzS6"
      },
      "execution_count": 30,
      "outputs": []
    },
    {
      "cell_type": "code",
      "source": [
        "y_agghc"
      ],
      "metadata": {
        "colab": {
          "base_uri": "https://localhost:8080/"
        },
        "id": "f8eua-FvzfmV",
        "outputId": "4e6c1fd1-5301-4fcd-e00e-1506973011c5"
      },
      "execution_count": 56,
      "outputs": [
        {
          "output_type": "execute_result",
          "data": {
            "text/plain": [
              "array([4, 3, 4, 3, 4, 3, 4, 3, 4, 3, 4, 3, 4, 3, 4, 3, 4, 3, 4, 3, 4, 3,\n",
              "       4, 3, 4, 3, 4, 1, 4, 3, 4, 3, 4, 3, 4, 3, 4, 3, 4, 3, 4, 3, 4, 1,\n",
              "       4, 1, 1, 1, 1, 1, 1, 1, 1, 1, 1, 1, 1, 1, 1, 1, 1, 1, 1, 1, 1, 1,\n",
              "       1, 1, 1, 1, 1, 1, 1, 1, 1, 1, 1, 1, 1, 1, 1, 1, 1, 1, 1, 1, 1, 1,\n",
              "       1, 1, 1, 1, 1, 1, 1, 1, 1, 1, 1, 1, 1, 1, 1, 1, 1, 1, 1, 1, 1, 1,\n",
              "       1, 1, 1, 1, 1, 1, 1, 1, 1, 1, 1, 1, 1, 0, 1, 0, 1, 0, 2, 0, 2, 0,\n",
              "       1, 0, 2, 0, 2, 0, 2, 0, 2, 0, 1, 0, 2, 0, 1, 0, 2, 0, 2, 0, 2, 0,\n",
              "       2, 0, 2, 0, 2, 0, 1, 0, 2, 0, 2, 0, 2, 0, 2, 0, 2, 0, 2, 0, 2, 0,\n",
              "       2, 0, 2, 0, 2, 0, 2, 0, 2, 0, 2, 0, 2, 0, 2, 0, 2, 0, 2, 0, 2, 0,\n",
              "       2, 0])"
            ]
          },
          "metadata": {},
          "execution_count": 56
        }
      ]
    },
    {
      "cell_type": "markdown",
      "source": [
        "K-means 와는 다르게 클러스터링을 반복해도 결과가 변하지 않습니다."
      ],
      "metadata": {
        "id": "Jwjof0WNzi6g"
      }
    },
    {
      "cell_type": "markdown",
      "source": [
        "####시각화"
      ],
      "metadata": {
        "id": "WFREF-LGzzVC"
      }
    },
    {
      "cell_type": "markdown",
      "source": [
        "클러스터링 결과를 시각화 해봅시다!"
      ],
      "metadata": {
        "id": "KkIoRbTJznL3"
      }
    },
    {
      "cell_type": "code",
      "source": [
        "plt.figure(figsize = (10,8))\n",
        "plt.scatter(X[y_agghc == 0, 0], X[y_agghc == 0, 1], color = 'green', alpha = 0.8, label = 'Cluster 0')\n",
        "plt.scatter(X[y_agghc == 1, 0], X[y_agghc == 1, 1], color = 'purple', alpha = 0.8, label = 'Cluster 1')\n",
        "plt.scatter(X[y_agghc == 2, 0], X[y_agghc == 2, 1], color = 'pink', alpha = 0.8, label = 'Cluster 2')\n",
        "plt.scatter(X[y_agghc == 3, 0], X[y_agghc == 3, 1], color = 'orange', alpha = 0.8, label = 'Cluster 3')\n",
        "plt.scatter(X[y_agghc == 4, 0], X[y_agghc == 4, 1], color = 'blue', alpha = 0.8, label = 'Cluster 4')\n",
        "plt.title('Agglomerative Hierarchical Clustering Result', fontsize = 18, pad = 20)\n",
        "plt.xlabel('Annual Income (k$)', fontsize = 15)\n",
        "plt.ylabel('Spending Score (1-100)', fontsize = 15)\n",
        "plt.legend(fontsize = 15)\n",
        "plt.grid(True)\n",
        "plt.show()"
      ],
      "metadata": {
        "colab": {
          "base_uri": "https://localhost:8080/",
          "height": 534
        },
        "id": "lD0euWfUq82V",
        "outputId": "0235b0ec-be62-4a5f-c560-5220ee689d32"
      },
      "execution_count": 32,
      "outputs": [
        {
          "output_type": "display_data",
          "data": {
            "text/plain": [
              "<Figure size 720x576 with 1 Axes>"
            ],
            "image/png": "[encoded data removed]"
          },
          "metadata": {}
        }
      ]
    },
    {
      "cell_type": "markdown",
      "source": [
        "클러스터링 결과를 분석해볼까요?"
      ],
      "metadata": {
        "id": "tQlp7nvr0qSR"
      }
    },
    {
      "cell_type": "markdown",
      "source": [
        "###DBSCAN"
      ],
      "metadata": {
        "id": "x0YJUqJH0fM3"
      }
    },
    {
      "cell_type": "markdown",
      "source": [
        "3) DBSCAN 클러스터링으로 군집화를 진행해 보겠습니다."
      ],
      "metadata": {
        "id": "JUs3EO859gLQ"
      }
    },
    {
      "cell_type": "markdown",
      "source": [
        "\n",
        "\n",
        "---\n",
        "\n"
      ],
      "metadata": {
        "id": "ffrDqCfR9h8q"
      }
    },
    {
      "cell_type": "markdown",
      "source": [
        "DBSCAN 구현 방법은 https://scikit-learn.org/stable/modules/generated/sklearn.cluster.DBSCAN.html 를 참고해주세요."
      ],
      "metadata": {
        "id": "mfpxmAKp7g07"
      }
    },
    {
      "cell_type": "markdown",
      "source": [
        "NearestNeighbors는 https://scikit-learn.org/stable/modules/generated/sklearn.neighbors.NearestNeighbors.html 를 참고해주세요."
      ],
      "metadata": {
        "id": "cRZW_a977t_s"
      }
    },
    {
      "cell_type": "code",
      "source": [
        "## 필요한 라이브러리를 임포트합니다.\n",
        "\n",
        "from sklearn.cluster import DBSCAN\n",
        "import sklearn.utils\n",
        "import sklearn.neighbors\n",
        "from sklearn.neighbors import NearestNeighbors"
      ],
      "metadata": {
        "id": "hbYCmY3R0dLA"
      },
      "execution_count": 33,
      "outputs": []
    },
    {
      "cell_type": "code",
      "source": [
        "## 전체 데이터 확인\n",
        "\n",
        "data.head()"
      ],
      "metadata": {
        "colab": {
          "base_uri": "https://localhost:8080/",
          "height": 206
        },
        "id": "LXr2y-cP1OSw",
        "outputId": "1cc17f8e-3b75-43f9-b23c-84ee11901559"
      },
      "execution_count": 34,
      "outputs": [
        {
          "output_type": "execute_result",
          "data": {
            "text/plain": [
              "   CustomerID   Genre  Age  Annual Income (k$)  Spending Score (1-100)\n",
              "0           1    Male   19                  15                      39\n",
              "1           2    Male   21                  15                      81\n",
              "2           3  Female   20                  16                       6\n",
              "3           4  Female   23                  16                      77\n",
              "4           5  Female   31                  17                      40"
            ],
            "text/html": [
              "\n",
              "  <div id=\"df-3a3e42f5-c86a-4cdb-9fa5-05a9db6b3ffe\">\n",
              "    <div class=\"colab-df-container\">\n",
              "      <div>\n",
              "<style scoped>\n",
              "    .dataframe tbody tr th:only-of-type {\n",
              "        vertical-align: middle;\n",
              "    }\n",
              "\n",
              "    .dataframe tbody tr th {\n",
              "        vertical-align: top;\n",
              "    }\n",
              "\n",
              "    .dataframe thead th {\n",
              "        text-align: right;\n",
              "    }\n",
              "</style>\n",
              "<table border=\"1\" class=\"dataframe\">\n",
              "  <thead>\n",
              "    <tr style=\"text-align: right;\">\n",
              "      <th></th>\n",
              "      <th>CustomerID</th>\n",
              "      <th>Genre</th>\n",
              "      <th>Age</th>\n",
              "      <th>Annual Income (k$)</th>\n",
              "      <th>Spending Score (1-100)</th>\n",
              "    </tr>\n",
              "  </thead>\n",
              "  <tbody>\n",
              "    <tr>\n",
              "      <th>0</th>\n",
              "      <td>1</td>\n",
              "      <td>Male</td>\n",
              "      <td>19</td>\n",
              "      <td>15</td>\n",
              "      <td>39</td>\n",
              "    </tr>\n",
              "    <tr>\n",
              "      <th>1</th>\n",
              "      <td>2</td>\n",
              "      <td>Male</td>\n",
              "      <td>21</td>\n",
              "      <td>15</td>\n",
              "      <td>81</td>\n",
              "    </tr>\n",
              "    <tr>\n",
              "      <th>2</th>\n",
              "      <td>3</td>\n",
              "      <td>Female</td>\n",
              "      <td>20</td>\n",
              "      <td>16</td>\n",
              "      <td>6</td>\n",
              "    </tr>\n",
              "    <tr>\n",
              "      <th>3</th>\n",
              "      <td>4</td>\n",
              "      <td>Female</td>\n",
              "      <td>23</td>\n",
              "      <td>16</td>\n",
              "      <td>77</td>\n",
              "    </tr>\n",
              "    <tr>\n",
              "      <th>4</th>\n",
              "      <td>5</td>\n",
              "      <td>Female</td>\n",
              "      <td>31</td>\n",
              "      <td>17</td>\n",
              "      <td>40</td>\n",
              "    </tr>\n",
              "  </tbody>\n",
              "</table>\n",
              "</div>\n",
              "      <button class=\"colab-df-convert\" onclick=\"convertToInteractive('df-3a3e42f5-c86a-4cdb-9fa5-05a9db6b3ffe')\"\n",
              "              title=\"Convert this dataframe to an interactive table.\"\n",
              "              style=\"display:none;\">\n",
              "        \n",
              "  <svg xmlns=\"http://www.w3.org/2000/svg\" height=\"24px\"viewBox=\"0 0 24 24\"\n",
              "       width=\"24px\">\n",
              "    <path d=\"M0 0h24v24H0V0z\" fill=\"none\"/>\n",
              "    <path d=\"M18.56 5.44l.94 2.06.94-2.06 2.06-.94-2.06-.94-.94-2.06-.94 2.06-2.06.94zm-11 1L8.5 8.5l.94-2.06 2.06-.94-2.06-.94L8.5 2.5l-.94 2.06-2.06.94zm10 10l.94 2.06.94-2.06 2.06-.94-2.06-.94-.94-2.06-.94 2.06-2.06.94z\"/><path d=\"M17.41 7.96l-1.37-1.37c-.4-.4-.92-.59-1.43-.59-.52 0-1.04.2-1.43.59L10.3 9.45l-7.72 7.72c-.78.78-.78 2.05 0 2.83L4 21.41c.39.39.9.59 1.41.59.51 0 1.02-.2 1.41-.59l7.78-7.78 2.81-2.81c.8-.78.8-2.07 0-2.86zM5.41 20L4 18.59l7.72-7.72 1.47 1.35L5.41 20z\"/>\n",
              "  </svg>\n",
              "      </button>\n",
              "      \n",
              "  <style>\n",
              "    .colab-df-container {\n",
              "      display:flex;\n",
              "      flex-wrap:wrap;\n",
              "      gap: 12px;\n",
              "    }\n",
              "\n",
              "    .colab-df-convert {\n",
              "      background-color: #E8F0FE;\n",
              "      border: none;\n",
              "      border-radius: 50%;\n",
              "      cursor: pointer;\n",
              "      display: none;\n",
              "      fill: #1967D2;\n",
              "      height: 32px;\n",
              "      padding: 0 0 0 0;\n",
              "      width: 32px;\n",
              "    }\n",
              "\n",
              "    .colab-df-convert:hover {\n",
              "      background-color: #E2EBFA;\n",
              "      box-shadow: 0px 1px 2px rgba(60, 64, 67, 0.3), 0px 1px 3px 1px rgba(60, 64, 67, 0.15);\n",
              "      fill: #174EA6;\n",
              "    }\n",
              "\n",
              "    [theme=dark] .colab-df-convert {\n",
              "      background-color: #3B4455;\n",
              "      fill: #D2E3FC;\n",
              "    }\n",
              "\n",
              "    [theme=dark] .colab-df-convert:hover {\n",
              "      background-color: #434B5C;\n",
              "      box-shadow: 0px 1px 3px 1px rgba(0, 0, 0, 0.15);\n",
              "      filter: drop-shadow(0px 1px 2px rgba(0, 0, 0, 0.3));\n",
              "      fill: #FFFFFF;\n",
              "    }\n",
              "  </style>\n",
              "\n",
              "      <script>\n",
              "        const buttonEl =\n",
              "          document.querySelector('#df-3a3e42f5-c86a-4cdb-9fa5-05a9db6b3ffe button.colab-df-convert');\n",
              "        buttonEl.style.display =\n",
              "          google.colab.kernel.accessAllowed ? 'block' : 'none';\n",
              "\n",
              "        async function convertToInteractive(key) {\n",
              "          const element = document.querySelector('#df-3a3e42f5-c86a-4cdb-9fa5-05a9db6b3ffe');\n",
              "          const dataTable =\n",
              "            await google.colab.kernel.invokeFunction('convertToInteractive',\n",
              "                                                     [key], {});\n",
              "          if (!dataTable) return;\n",
              "\n",
              "          const docLinkHtml = 'Like what you see? Visit the ' +\n",
              "            '<a target=\"_blank\" href=https://colab.research.google.com/notebooks/data_table.ipynb>data table notebook</a>'\n",
              "            + ' to learn more about interactive tables.';\n",
              "          element.innerHTML = '';\n",
              "          dataTable['output_type'] = 'display_data';\n",
              "          await google.colab.output.renderOutput(dataTable, element);\n",
              "          const docLink = document.createElement('div');\n",
              "          docLink.innerHTML = docLinkHtml;\n",
              "          element.appendChild(docLink);\n",
              "        }\n",
              "      </script>\n",
              "    </div>\n",
              "  </div>\n",
              "  "
            ]
          },
          "metadata": {},
          "execution_count": 34
        }
      ]
    },
    {
      "cell_type": "code",
      "source": [
        "## 필요한 데이터 확인\n",
        "\n",
        "scaled_data"
      ],
      "metadata": {
        "colab": {
          "base_uri": "https://localhost:8080/",
          "height": 423
        },
        "id": "mUcwyAmZ8JId",
        "outputId": "6cf9d69e-7250-40e8-e6fd-5c096a726d21"
      },
      "execution_count": 35,
      "outputs": [
        {
          "output_type": "execute_result",
          "data": {
            "text/plain": [
              "     Annual Income (k$)  Spending Score (1-100)\n",
              "0              0.000000                0.387755\n",
              "1              0.000000                0.816327\n",
              "2              0.008197                0.051020\n",
              "3              0.008197                0.775510\n",
              "4              0.016393                0.397959\n",
              "..                  ...                     ...\n",
              "195            0.860656                0.795918\n",
              "196            0.909836                0.275510\n",
              "197            0.909836                0.744898\n",
              "198            1.000000                0.173469\n",
              "199            1.000000                0.836735\n",
              "\n",
              "[200 rows x 2 columns]"
            ],
            "text/html": [
              "\n",
              "  <div id=\"df-98a60bc3-3176-467a-b282-2416ac25891e\">\n",
              "    <div class=\"colab-df-container\">\n",
              "      <div>\n",
              "<style scoped>\n",
              "    .dataframe tbody tr th:only-of-type {\n",
              "        vertical-align: middle;\n",
              "    }\n",
              "\n",
              "    .dataframe tbody tr th {\n",
              "        vertical-align: top;\n",
              "    }\n",
              "\n",
              "    .dataframe thead th {\n",
              "        text-align: right;\n",
              "    }\n",
              "</style>\n",
              "<table border=\"1\" class=\"dataframe\">\n",
              "  <thead>\n",
              "    <tr style=\"text-align: right;\">\n",
              "      <th></th>\n",
              "      <th>Annual Income (k$)</th>\n",
              "      <th>Spending Score (1-100)</th>\n",
              "    </tr>\n",
              "  </thead>\n",
              "  <tbody>\n",
              "    <tr>\n",
              "      <th>0</th>\n",
              "      <td>0.000000</td>\n",
              "      <td>0.387755</td>\n",
              "    </tr>\n",
              "    <tr>\n",
              "      <th>1</th>\n",
              "      <td>0.000000</td>\n",
              "      <td>0.816327</td>\n",
              "    </tr>\n",
              "    <tr>\n",
              "      <th>2</th>\n",
              "      <td>0.008197</td>\n",
              "      <td>0.051020</td>\n",
              "    </tr>\n",
              "    <tr>\n",
              "      <th>3</th>\n",
              "      <td>0.008197</td>\n",
              "      <td>0.775510</td>\n",
              "    </tr>\n",
              "    <tr>\n",
              "      <th>4</th>\n",
              "      <td>0.016393</td>\n",
              "      <td>0.397959</td>\n",
              "    </tr>\n",
              "    <tr>\n",
              "      <th>...</th>\n",
              "      <td>...</td>\n",
              "      <td>...</td>\n",
              "    </tr>\n",
              "    <tr>\n",
              "      <th>195</th>\n",
              "      <td>0.860656</td>\n",
              "      <td>0.795918</td>\n",
              "    </tr>\n",
              "    <tr>\n",
              "      <th>196</th>\n",
              "      <td>0.909836</td>\n",
              "      <td>0.275510</td>\n",
              "    </tr>\n",
              "    <tr>\n",
              "      <th>197</th>\n",
              "      <td>0.909836</td>\n",
              "      <td>0.744898</td>\n",
              "    </tr>\n",
              "    <tr>\n",
              "      <th>198</th>\n",
              "      <td>1.000000</td>\n",
              "      <td>0.173469</td>\n",
              "    </tr>\n",
              "    <tr>\n",
              "      <th>199</th>\n",
              "      <td>1.000000</td>\n",
              "      <td>0.836735</td>\n",
              "    </tr>\n",
              "  </tbody>\n",
              "</table>\n",
              "<p>200 rows × 2 columns</p>\n",
              "</div>\n",
              "      <button class=\"colab-df-convert\" onclick=\"convertToInteractive('df-98a60bc3-3176-467a-b282-2416ac25891e')\"\n",
              "              title=\"Convert this dataframe to an interactive table.\"\n",
              "              style=\"display:none;\">\n",
              "        \n",
              "  <svg xmlns=\"http://www.w3.org/2000/svg\" height=\"24px\"viewBox=\"0 0 24 24\"\n",
              "       width=\"24px\">\n",
              "    <path d=\"M0 0h24v24H0V0z\" fill=\"none\"/>\n",
              "    <path d=\"M18.56 5.44l.94 2.06.94-2.06 2.06-.94-2.06-.94-.94-2.06-.94 2.06-2.06.94zm-11 1L8.5 8.5l.94-2.06 2.06-.94-2.06-.94L8.5 2.5l-.94 2.06-2.06.94zm10 10l.94 2.06.94-2.06 2.06-.94-2.06-.94-.94-2.06-.94 2.06-2.06.94z\"/><path d=\"M17.41 7.96l-1.37-1.37c-.4-.4-.92-.59-1.43-.59-.52 0-1.04.2-1.43.59L10.3 9.45l-7.72 7.72c-.78.78-.78 2.05 0 2.83L4 21.41c.39.39.9.59 1.41.59.51 0 1.02-.2 1.41-.59l7.78-7.78 2.81-2.81c.8-.78.8-2.07 0-2.86zM5.41 20L4 18.59l7.72-7.72 1.47 1.35L5.41 20z\"/>\n",
              "  </svg>\n",
              "      </button>\n",
              "      \n",
              "  <style>\n",
              "    .colab-df-container {\n",
              "      display:flex;\n",
              "      flex-wrap:wrap;\n",
              "      gap: 12px;\n",
              "    }\n",
              "\n",
              "    .colab-df-convert {\n",
              "      background-color: #E8F0FE;\n",
              "      border: none;\n",
              "      border-radius: 50%;\n",
              "      cursor: pointer;\n",
              "      display: none;\n",
              "      fill: #1967D2;\n",
              "      height: 32px;\n",
              "      padding: 0 0 0 0;\n",
              "      width: 32px;\n",
              "    }\n",
              "\n",
              "    .colab-df-convert:hover {\n",
              "      background-color: #E2EBFA;\n",
              "      box-shadow: 0px 1px 2px rgba(60, 64, 67, 0.3), 0px 1px 3px 1px rgba(60, 64, 67, 0.15);\n",
              "      fill: #174EA6;\n",
              "    }\n",
              "\n",
              "    [theme=dark] .colab-df-convert {\n",
              "      background-color: #3B4455;\n",
              "      fill: #D2E3FC;\n",
              "    }\n",
              "\n",
              "    [theme=dark] .colab-df-convert:hover {\n",
              "      background-color: #434B5C;\n",
              "      box-shadow: 0px 1px 3px 1px rgba(0, 0, 0, 0.15);\n",
              "      filter: drop-shadow(0px 1px 2px rgba(0, 0, 0, 0.3));\n",
              "      fill: #FFFFFF;\n",
              "    }\n",
              "  </style>\n",
              "\n",
              "      <script>\n",
              "        const buttonEl =\n",
              "          document.querySelector('#df-98a60bc3-3176-467a-b282-2416ac25891e button.colab-df-convert');\n",
              "        buttonEl.style.display =\n",
              "          google.colab.kernel.accessAllowed ? 'block' : 'none';\n",
              "\n",
              "        async function convertToInteractive(key) {\n",
              "          const element = document.querySelector('#df-98a60bc3-3176-467a-b282-2416ac25891e');\n",
              "          const dataTable =\n",
              "            await google.colab.kernel.invokeFunction('convertToInteractive',\n",
              "                                                     [key], {});\n",
              "          if (!dataTable) return;\n",
              "\n",
              "          const docLinkHtml = 'Like what you see? Visit the ' +\n",
              "            '<a target=\"_blank\" href=https://colab.research.google.com/notebooks/data_table.ipynb>data table notebook</a>'\n",
              "            + ' to learn more about interactive tables.';\n",
              "          element.innerHTML = '';\n",
              "          dataTable['output_type'] = 'display_data';\n",
              "          await google.colab.output.renderOutput(dataTable, element);\n",
              "          const docLink = document.createElement('div');\n",
              "          docLink.innerHTML = docLinkHtml;\n",
              "          element.appendChild(docLink);\n",
              "        }\n",
              "      </script>\n",
              "    </div>\n",
              "  </div>\n",
              "  "
            ]
          },
          "metadata": {},
          "execution_count": 35
        }
      ]
    },
    {
      "cell_type": "markdown",
      "source": [
        "####최적의 파라미터 찾기"
      ],
      "metadata": {
        "id": "3SVP42F87zh7"
      }
    },
    {
      "cell_type": "markdown",
      "source": [
        "세션에서 다룬 Heuristic Approach에 의하면, 2차원 데이터에서는 minPts를 4로 설정하는 것이 좋습니다. 최적의 eps를 찾아봅시다."
      ],
      "metadata": {
        "id": "gy-KWrXv8Pxo"
      }
    },
    {
      "cell_type": "code",
      "source": [
        "nb = NearestNeighbors(n_neighbors = 4).fit(scaled_data)"
      ],
      "metadata": {
        "id": "yFIwiNskPd53"
      },
      "execution_count": 36,
      "outputs": []
    },
    {
      "cell_type": "code",
      "source": [
        "minPts = 4"
      ],
      "metadata": {
        "id": "MoNxxdmSX-Ec"
      },
      "execution_count": 37,
      "outputs": []
    },
    {
      "cell_type": "code",
      "source": [
        "#kneighbors([X, n_neighbors, return_distance]): Find the K-neighbors of a point.\n",
        "distances, indices = nb.kneighbors(scaled_data)"
      ],
      "metadata": {
        "id": "R67mLtytutYj"
      },
      "execution_count": 38,
      "outputs": []
    },
    {
      "cell_type": "code",
      "source": [
        "distances #한 점이 minPts를 만족하는 점들과의 거리"
      ],
      "metadata": {
        "colab": {
          "base_uri": "https://localhost:8080/"
        },
        "id": "akzvY8TBveVf",
        "outputId": "05973a15-780c-4b70-8a91-43c66e7a2e5c"
      },
      "execution_count": 39,
      "outputs": [
        {
          "output_type": "execute_result",
          "data": {
            "text/plain": [
              "array([[0.        , 0.0193098 , 0.06391148, 0.0843093 ],\n",
              "       [0.        , 0.04163122, 0.04578372, 0.05358943],\n",
              "       [0.        , 0.01639344, 0.03926558, 0.07447287],\n",
              "       [0.        , 0.01308853, 0.03278689, 0.03861959],\n",
              "       [0.        , 0.0193098 , 0.06064703, 0.07678026],\n",
              "       [0.        , 0.01308853, 0.02662329, 0.03926558],\n",
              "       [0.        , 0.01639344, 0.03169063, 0.05827735],\n",
              "       [0.        , 0.05167464, 0.05784141, 0.11502859],\n",
              "       [0.        , 0.03169063, 0.03926558, 0.05324658],\n",
              "       [0.        , 0.04223481, 0.04398542, 0.05022776],\n",
              "       [0.        , 0.01308853, 0.01308853, 0.07377049],\n",
              "       [0.        , 0.03433807, 0.05167464, 0.13516858],\n",
              "       [0.        , 0.01308853, 0.02040816, 0.06636296],\n",
              "       [0.        , 0.02040816, 0.02662329, 0.03278689],\n",
              "       [0.        , 0.01308853, 0.02040816, 0.06636296],\n",
              "       [0.        , 0.02040816, 0.03861959, 0.03926558],\n",
              "       [0.        , 0.02459016, 0.06064703, 0.06338125],\n",
              "       [0.        , 0.06338125, 0.07554282, 0.07678026],\n",
              "       [0.        , 0.05115433, 0.05324658, 0.06177074],\n",
              "       [0.        , 0.03433807, 0.05784141, 0.10230866],\n",
              "       [0.        , 0.02459016, 0.04485632, 0.05784141],\n",
              "       [0.        , 0.00819672, 0.04223481, 0.04918033],\n",
              "       [0.        , 0.04223481, 0.05324658, 0.05827735],\n",
              "       [0.        , 0.00819672, 0.04098361, 0.05022776],\n",
              "       [0.        , 0.04098361, 0.05792939, 0.06636296],\n",
              "       [0.        , 0.04223481, 0.05167464, 0.07236732],\n",
              "       [0.        , 0.01308853, 0.04485632, 0.05115433],\n",
              "       [0.        , 0.07678026, 0.09016393, 0.09897226],\n",
              "       [0.        , 0.01308853, 0.05324658, 0.05784141],\n",
              "       [0.        , 0.05167464, 0.06064703, 0.06945083],\n",
              "       [0.        , 0.02459016, 0.04223481, 0.09073951],\n",
              "       [0.        , 0.03278689, 0.04098361, 0.04918033],\n",
              "       [0.        , 0.02459016, 0.06636296, 0.10204082],\n",
              "       [0.        , 0.04098361, 0.06064703, 0.10230866],\n",
              "       [0.        , 0.03169063, 0.04098361, 0.10204082],\n",
              "       [0.        , 0.04223481, 0.06945083, 0.06945083],\n",
              "       [0.        , 0.03169063, 0.05792939, 0.09507188],\n",
              "       [0.        , 0.03195574, 0.03278689, 0.07377049],\n",
              "       [0.        , 0.02617705, 0.0830843 , 0.0922018 ],\n",
              "       [0.        , 0.03195574, 0.06089843, 0.06945083],\n",
              "       [0.        , 0.01308853, 0.07189734, 0.07328565],\n",
              "       [0.        , 0.04098361, 0.08969486, 0.11949298],\n",
              "       [0.        , 0.01308853, 0.06064703, 0.06177074],\n",
              "       [0.        , 0.02662329, 0.03433807, 0.04081633],\n",
              "       [0.        , 0.02617705, 0.07189734, 0.08163265],\n",
              "       [0.        , 0.04081633, 0.05663707, 0.06064703],\n",
              "       [0.        , 0.02662329, 0.03472542, 0.04918033],\n",
              "       [0.        , 0.03195574, 0.03433807, 0.04485632],\n",
              "       [0.        , 0.        , 0.02662329, 0.03926558],\n",
              "       [0.        , 0.        , 0.02662329, 0.03926558],\n",
              "       [0.        , 0.02199271, 0.02617705, 0.03433807],\n",
              "       [0.        , 0.00819672, 0.02662329, 0.04223481],\n",
              "       [0.        , 0.02199271, 0.02662329, 0.02662329],\n",
              "       [0.        , 0.00819672, 0.03433807, 0.03433807],\n",
              "       [0.        , 0.01308853, 0.02662329, 0.03195574],\n",
              "       [0.        , 0.02662329, 0.02662329, 0.04081633],\n",
              "       [0.        , 0.0193098 , 0.02617705, 0.03195574],\n",
              "       [0.        , 0.01308853, 0.01639344, 0.03433807],\n",
              "       [0.        , 0.01308853, 0.01639344, 0.0193098 ],\n",
              "       [0.        , 0.01639344, 0.0193098 , 0.02617705],\n",
              "       [0.        , 0.01020408, 0.02662329, 0.03169063],\n",
              "       [0.        , 0.01020408, 0.02459016, 0.02662329],\n",
              "       [0.        , 0.01308853, 0.01308853, 0.02199271],\n",
              "       [0.        , 0.00819672, 0.00819672, 0.03169063],\n",
              "       [0.        , 0.01020408, 0.01308853, 0.01639344],\n",
              "       [0.        , 0.        , 0.00819672, 0.03472542],\n",
              "       [0.        , 0.01020408, 0.0193098 , 0.0193098 ],\n",
              "       [0.        , 0.01020408, 0.0193098 , 0.02040816],\n",
              "       [0.        , 0.        , 0.00819672, 0.03472542],\n",
              "       [0.        , 0.01020408, 0.0193098 , 0.02617705],\n",
              "       [0.        , 0.01308853, 0.02459016, 0.02662329],\n",
              "       [0.        , 0.04098361, 0.04223481, 0.04578372],\n",
              "       [0.        , 0.0193098 , 0.0193098 , 0.02617705],\n",
              "       [0.        , 0.01308853, 0.03278689, 0.03433807],\n",
              "       [0.        , 0.01020408, 0.01020408, 0.03061224],\n",
              "       [0.        , 0.01020408, 0.01020408, 0.02040816],\n",
              "       [0.        , 0.01020408, 0.01020408, 0.02040816],\n",
              "       [0.        , 0.01020408, 0.02040816, 0.03061224],\n",
              "       [0.        , 0.01020408, 0.01020408, 0.02040816],\n",
              "       [0.        , 0.01020408, 0.02040816, 0.04081633],\n",
              "       [0.        , 0.01020408, 0.02040816, 0.03061224],\n",
              "       [0.        , 0.01020408, 0.02040816, 0.02040816],\n",
              "       [0.        , 0.01020408, 0.03061224, 0.04098361],\n",
              "       [0.        , 0.02040816, 0.02040816, 0.03061224],\n",
              "       [0.        , 0.02040816, 0.02662329, 0.03061224],\n",
              "       [0.        , 0.01020408, 0.02040816, 0.02040816],\n",
              "       [0.        , 0.02199271, 0.02662329, 0.03061224],\n",
              "       [0.        , 0.01639344, 0.02459016, 0.02662329],\n",
              "       [0.        , 0.02199271, 0.03433807, 0.04485632],\n",
              "       [0.        , 0.0193098 , 0.03278689, 0.03433807],\n",
              "       [0.        , 0.01639344, 0.02459016, 0.02662329],\n",
              "       [0.        , 0.01308853, 0.01308853, 0.0193098 ],\n",
              "       [0.        , 0.00819672, 0.01020408, 0.0193098 ],\n",
              "       [0.        , 0.01308853, 0.0193098 , 0.02040816],\n",
              "       [0.        , 0.00819672, 0.01308853, 0.01639344],\n",
              "       [0.        , 0.02040816, 0.02459016, 0.03061224],\n",
              "       [0.        , 0.0193098 , 0.0193098 , 0.02040816],\n",
              "       [0.        , 0.01020408, 0.01308853, 0.02040816],\n",
              "       [0.        , 0.00819672, 0.00819672, 0.01308853],\n",
              "       [0.        , 0.00819672, 0.01308853, 0.01308853],\n",
              "       [0.        , 0.01020408, 0.01308853, 0.0193098 ],\n",
              "       [0.        , 0.00819672, 0.01308853, 0.0193098 ],\n",
              "       [0.        , 0.02459016, 0.03061224, 0.03433807],\n",
              "       [0.        , 0.01020408, 0.01308853, 0.02459016],\n",
              "       [0.        , 0.01020408, 0.02199271, 0.02662329],\n",
              "       [0.        , 0.00819672, 0.01020408, 0.01308853],\n",
              "       [0.        , 0.01639344, 0.0193098 , 0.02040816],\n",
              "       [0.        , 0.00819672, 0.02040816, 0.02199271],\n",
              "       [0.        , 0.01308853, 0.01308853, 0.01639344],\n",
              "       [0.        , 0.00819672, 0.01639344, 0.0193098 ],\n",
              "       [0.        , 0.02040816, 0.02040816, 0.02459016],\n",
              "       [0.        , 0.01308853, 0.02040816, 0.02199271],\n",
              "       [0.        , 0.01308853, 0.01308853, 0.01639344],\n",
              "       [0.        , 0.00819672, 0.02199271, 0.02199271],\n",
              "       [0.        , 0.01639344, 0.02040816, 0.02199271],\n",
              "       [0.        , 0.01639344, 0.02040816, 0.02617705],\n",
              "       [0.        , 0.01308853, 0.01639344, 0.01639344],\n",
              "       [0.        , 0.02459016, 0.02617705, 0.03433807],\n",
              "       [0.        , 0.01639344, 0.02662329, 0.03061224],\n",
              "       [0.        , 0.01020408, 0.0193098 , 0.02617705],\n",
              "       [0.        , 0.01020408, 0.02617705, 0.03472542],\n",
              "       [0.        , 0.03061224, 0.03195574, 0.03472542],\n",
              "       [0.        , 0.0193098 , 0.02617705, 0.03433807],\n",
              "       [0.        , 0.04398542, 0.04485632, 0.05324658],\n",
              "       [0.        , 0.05358943, 0.06177074, 0.09161968],\n",
              "       [0.        , 0.02199271, 0.02199271, 0.04765132],\n",
              "       [0.        , 0.01308853, 0.05022776, 0.06064703],\n",
              "       [0.        , 0.03861959, 0.04398542, 0.05324658],\n",
              "       [0.        , 0.02040816, 0.02662329, 0.04398542],\n",
              "       [0.        , 0.        , 0.02199271, 0.02617705],\n",
              "       [0.        , 0.02040816, 0.02617705, 0.02662329],\n",
              "       [0.        , 0.        , 0.02199271, 0.02617705],\n",
              "       [0.        , 0.01308853, 0.04578372, 0.05358943],\n",
              "       [0.        , 0.0193098 , 0.02199271, 0.04163122],\n",
              "       [0.        , 0.01639344, 0.02040816, 0.04398542],\n",
              "       [0.        , 0.02662329, 0.04098361, 0.04223481],\n",
              "       [0.        , 0.02040816, 0.02617705, 0.02617705],\n",
              "       [0.        , 0.01308853, 0.02199271, 0.02617705],\n",
              "       [0.        , 0.02662329, 0.02662329, 0.03169063],\n",
              "       [0.        , 0.01308853, 0.0193098 , 0.03195574],\n",
              "       [0.        , 0.01639344, 0.02617705, 0.04765132],\n",
              "       [0.        , 0.03861959, 0.03926558, 0.04398542],\n",
              "       [0.        , 0.04163122, 0.05663707, 0.06544263],\n",
              "       [0.        , 0.0193098 , 0.02617705, 0.02662329],\n",
              "       [0.        , 0.03195574, 0.04163122, 0.05022776],\n",
              "       [0.        , 0.04398542, 0.05235411, 0.05324658],\n",
              "       [0.        , 0.0193098 , 0.04163122, 0.04578372],\n",
              "       [0.        , 0.01308853, 0.02199271, 0.03195574],\n",
              "       [0.        , 0.02040816, 0.05102041, 0.06122449],\n",
              "       [0.        , 0.01020408, 0.02040816, 0.03472542],\n",
              "       [0.        , 0.01020408, 0.03061224, 0.05102041],\n",
              "       [0.        , 0.01020408, 0.0193098 , 0.02040816],\n",
              "       [0.        , 0.02040816, 0.03061224, 0.04081633],\n",
              "       [0.        , 0.02040816, 0.02199271, 0.03061224],\n",
              "       [0.        , 0.01020408, 0.04081633, 0.04163122],\n",
              "       [0.        , 0.01020408, 0.01020408, 0.02617705],\n",
              "       [0.        , 0.        , 0.04765132, 0.04765132],\n",
              "       [0.        , 0.02040816, 0.04163122, 0.05102041],\n",
              "       [0.        , 0.        , 0.04765132, 0.04765132],\n",
              "       [0.        , 0.01308853, 0.03061224, 0.03433807],\n",
              "       [0.        , 0.0193098 , 0.05663707, 0.05827735],\n",
              "       [0.        , 0.04765132, 0.05167464, 0.05167464],\n",
              "       [0.        , 0.04765132, 0.04765132, 0.04918033],\n",
              "       [0.        , 0.03926558, 0.04578372, 0.04765132],\n",
              "       [0.        , 0.0193098 , 0.06177074, 0.07041376],\n",
              "       [0.        , 0.01639344, 0.05827735, 0.06089843],\n",
              "       [0.        , 0.05358943, 0.06177074, 0.06557377],\n",
              "       [0.        , 0.03169063, 0.04578372, 0.07654135],\n",
              "       [0.        , 0.0193098 , 0.07189734, 0.08969486],\n",
              "       [0.        , 0.06177074, 0.12244898, 0.12354148],\n",
              "       [0.        , 0.00819672, 0.02199271, 0.03061224],\n",
              "       [0.        , 0.01639344, 0.06177074, 0.07447287],\n",
              "       [0.        , 0.03061224, 0.03169063, 0.05167464],\n",
              "       [0.        , 0.03169063, 0.05022776, 0.05324658],\n",
              "       [0.        , 0.00819672, 0.02040816, 0.03169063],\n",
              "       [0.        , 0.05784141, 0.06177074, 0.07377049],\n",
              "       [0.        , 0.02040816, 0.02199271, 0.04223481],\n",
              "       [0.        , 0.06177074, 0.06177074, 0.06597814],\n",
              "       [0.        , 0.04223481, 0.04223481, 0.04223481],\n",
              "       [0.        , 0.04578372, 0.05235411, 0.05324658],\n",
              "       [0.        , 0.07328565, 0.08797085, 0.09654898],\n",
              "       [0.        , 0.02199271, 0.05022776, 0.05235411],\n",
              "       [0.        , 0.04223481, 0.04578372, 0.08196721],\n",
              "       [0.        , 0.02199271, 0.04578372, 0.05115433],\n",
              "       [0.        , 0.07328565, 0.15393662, 0.15706232],\n",
              "       [0.        , 0.08672223, 0.0922018 , 0.10849409],\n",
              "       [0.        , 0.0193098 , 0.07328565, 0.08797085],\n",
              "       [0.        , 0.0193098 , 0.10704484, 0.12558497],\n",
              "       [0.        , 0.04578372, 0.06122449, 0.07328565],\n",
              "       [0.        , 0.05022776, 0.05115433, 0.09654898],\n",
              "       [0.        , 0.0193098 , 0.06122449, 0.09134301],\n",
              "       [0.        , 0.0193098 , 0.12295082, 0.14473464],\n",
              "       [0.        , 0.09977984, 0.12309594, 0.14219334],\n",
              "       [0.        , 0.10230866, 0.12670443, 0.13006514],\n",
              "       [0.        , 0.09977984, 0.13195627, 0.13971738],\n",
              "       [0.        , 0.07086457, 0.13522529, 0.14519916],\n",
              "       [0.        , 0.13195627, 0.13616851, 0.19530643],\n",
              "       [0.        , 0.07086457, 0.12869934, 0.19530643],\n",
              "       [0.        , 0.13616851, 0.14083081, 0.22161138],\n",
              "       [0.        , 0.12869934, 0.14519916, 0.2129863 ]])"
            ]
          },
          "metadata": {},
          "execution_count": 39
        }
      ]
    },
    {
      "cell_type": "code",
      "source": [
        "indices #해당 점에 대해 minPts를 만족하는 점들의 index"
      ],
      "metadata": {
        "colab": {
          "base_uri": "https://localhost:8080/"
        },
        "id": "lJpquV2Bu3GN",
        "outputId": "bc369889-d4ad-44ef-902b-c6ff3b627b97"
      },
      "execution_count": 40,
      "outputs": [
        {
          "output_type": "execute_result",
          "data": {
            "text/plain": [
              "array([[  0,   4,  16,  20],\n",
              "       [  1,   3,  15,   5],\n",
              "       [  2,   6,   8,  22],\n",
              "       [  3,   5,  13,  15],\n",
              "       [  4,   0,  16,  20],\n",
              "       [  5,   3,  13,  15],\n",
              "       [  6,   2,   8,  22],\n",
              "       [  7,  11,  19,  29],\n",
              "       [  8,   6,   2,  22],\n",
              "       [  9,  21,   5,  23],\n",
              "       [ 10,  12,  14,  24],\n",
              "       [ 11,  19,   7,  33],\n",
              "       [ 12,  10,  14,  24],\n",
              "       [ 13,  15,   5,   3],\n",
              "       [ 14,  10,  12,  24],\n",
              "       [ 15,  13,   3,   5],\n",
              "       [ 16,  20,   4,  18],\n",
              "       [ 17,   9,  21,  27],\n",
              "       [ 18,  26,  28,  20],\n",
              "       [ 19,  11,   7,  33],\n",
              "       [ 20,  16,  26,  28],\n",
              "       [ 21,  23,   9,  31],\n",
              "       [ 22,  30,   8,   6],\n",
              "       [ 23,  21,  31,   9],\n",
              "       [ 24,  34,  36,  12],\n",
              "       [ 25,  35,  29,  15],\n",
              "       [ 26,  28,  20,  18],\n",
              "       [ 27,  17,  43,  45],\n",
              "       [ 28,  26,  18,  20],\n",
              "       [ 29,  25,  33,  35],\n",
              "       [ 30,  32,  22,   8],\n",
              "       [ 31,  37,  23,  21],\n",
              "       [ 32,  30,  22,  34],\n",
              "       [ 33,  41,  29,  19],\n",
              "       [ 34,  36,  24,  32],\n",
              "       [ 35,  25,  39,  29],\n",
              "       [ 36,  34,  24,  38],\n",
              "       [ 37,  39,  31,  23],\n",
              "       [ 38,  44,  28,  40],\n",
              "       [ 39,  37,  31,  35],\n",
              "       [ 40,  42,  44,  49],\n",
              "       [ 41,  33,  29,  35],\n",
              "       [ 42,  40,  55,  49],\n",
              "       [ 43,  51,  53,  45],\n",
              "       [ 44,  38,  40,  42],\n",
              "       [ 45,  43,  51,  53],\n",
              "       [ 46,  52,  50,  61],\n",
              "       [ 47,  54,  57,  56],\n",
              "       [ 48,  49,  55,  54],\n",
              "       [ 48,  49,  55,  54],\n",
              "       [ 50,  52,  56,  58],\n",
              "       [ 51,  53,  43,  63],\n",
              "       [ 52,  50,  46,  61],\n",
              "       [ 53,  51,  43,  63],\n",
              "       [ 54,  57,  59,  47],\n",
              "       [ 55,  48,  49,  54],\n",
              "       [ 56,  58,  50,  62],\n",
              "       [ 57,  54,  59,  69],\n",
              "       [ 58,  62,  64,  66],\n",
              "       [ 59,  57,  69,  67],\n",
              "       [ 60,  61,  70,  63],\n",
              "       [ 61,  60,  70,  52],\n",
              "       [ 62,  64,  58,  66],\n",
              "       [ 63,  65,  68,  60],\n",
              "       [ 64,  66,  62,  58],\n",
              "       [ 65,  68,  63,  60],\n",
              "       [ 66,  64,  58,  72],\n",
              "       [ 67,  69,  72,  66],\n",
              "       [ 65,  68,  63,  60],\n",
              "       [ 69,  67,  59,  72],\n",
              "       [ 70,  73,  61,  60],\n",
              "       [ 71,  79,  82,  83],\n",
              "       [ 72,  67,  66,  69],\n",
              "       [ 73,  70,  60,  61],\n",
              "       [ 74,  77,  85,  83],\n",
              "       [ 75,  76,  81,  78],\n",
              "       [ 76,  78,  75,  80],\n",
              "       [ 77,  74,  85,  80],\n",
              "       [ 78,  80,  76,  75],\n",
              "       [ 79,  82,  83,  85],\n",
              "       [ 80,  78,  76,  77],\n",
              "       [ 81,  75,  76,  84],\n",
              "       [ 82,  79,  83,  91],\n",
              "       [ 83,  79,  85,  82],\n",
              "       [ 84,  81,  86,  75],\n",
              "       [ 85,  74,  77,  83],\n",
              "       [ 86,  88,  84,  87],\n",
              "       [ 87,  90,  81,  75],\n",
              "       [ 88,  86, 102,  84],\n",
              "       [ 89,  96,  85,  74],\n",
              "       [ 90,  87, 103, 104],\n",
              "       [ 91,  93,  94,  98],\n",
              "       [ 92,  99,  97, 101],\n",
              "       [ 93,  91, 100,  94],\n",
              "       [ 94,  98,  91, 105],\n",
              "       [ 95,  97, 110,  92],\n",
              "       [ 96, 101,  89,  92],\n",
              "       [ 97,  92,  99,  95],\n",
              "       [ 98,  94, 105, 100],\n",
              "       [ 99,  92, 101,  97],\n",
              "       [100, 105,  98,  94],\n",
              "       [101, 109,  99,  92],\n",
              "       [102, 117, 104,  88],\n",
              "       [103, 104, 111,  90],\n",
              "       [104, 103, 111,  90],\n",
              "       [105,  98, 100, 108],\n",
              "       [106, 115,  99, 110],\n",
              "       [107, 113, 109, 101],\n",
              "       [108, 105, 112, 116],\n",
              "       [109, 101, 114,  99],\n",
              "       [110, 106, 111,  95],\n",
              "       [111, 103, 110, 104],\n",
              "       [112, 116, 108, 105],\n",
              "       [113, 107, 109, 114],\n",
              "       [114, 109, 115, 113],\n",
              "       [115, 106, 114, 110],\n",
              "       [116, 112, 118, 108],\n",
              "       [117, 102, 119, 122],\n",
              "       [118, 116, 112, 121],\n",
              "       [119, 120, 122, 117],\n",
              "       [120, 119, 122, 117],\n",
              "       [121, 118, 112, 116],\n",
              "       [122, 119, 120, 117],\n",
              "       [123, 127, 135, 141],\n",
              "       [124, 132, 126, 146],\n",
              "       [125, 129, 131, 137],\n",
              "       [126, 132, 146, 121],\n",
              "       [127, 141, 123, 145],\n",
              "       [128, 130, 138, 136],\n",
              "       [129, 131, 125, 137],\n",
              "       [130, 128, 136, 138],\n",
              "       [129, 131, 125, 137],\n",
              "       [132, 126, 146, 124],\n",
              "       [133, 139, 137, 129],\n",
              "       [134, 140, 136, 130],\n",
              "       [135, 143, 151, 155],\n",
              "       [136, 134, 130, 140],\n",
              "       [137, 139, 133, 129],\n",
              "       [138, 128, 130, 136],\n",
              "       [139, 137, 133, 147],\n",
              "       [140, 134, 136, 158],\n",
              "       [141, 127, 149, 145],\n",
              "       [142, 146, 160, 126],\n",
              "       [143, 151, 155, 135],\n",
              "       [144, 138, 154, 128],\n",
              "       [145, 141, 163, 127],\n",
              "       [146, 160, 142, 132],\n",
              "       [147, 159, 153, 139],\n",
              "       [148, 152, 150, 154],\n",
              "       [149, 155, 151, 143],\n",
              "       [150, 154, 152, 148],\n",
              "       [151, 155, 143, 149],\n",
              "       [152, 148, 150, 154],\n",
              "       [153, 157, 147, 159],\n",
              "       [154, 150, 152, 144],\n",
              "       [155, 151, 149, 143],\n",
              "       [158, 156, 140, 162],\n",
              "       [157, 153, 147, 159],\n",
              "       [158, 156, 140, 162],\n",
              "       [159, 147, 153, 139],\n",
              "       [160, 146, 142, 132],\n",
              "       [161, 143, 151, 157],\n",
              "       [162, 158, 156, 140],\n",
              "       [163, 149, 167, 155],\n",
              "       [164, 168, 166, 148],\n",
              "       [165, 171, 153, 159],\n",
              "       [166, 176, 164, 152],\n",
              "       [167, 173, 163, 145],\n",
              "       [168, 164, 166, 148],\n",
              "       [169, 177, 171, 165],\n",
              "       [170, 174, 176, 172],\n",
              "       [171, 165, 177, 153],\n",
              "       [172, 170, 174, 176],\n",
              "       [173, 167, 163, 179],\n",
              "       [174, 170, 176, 172],\n",
              "       [175, 179, 173, 181],\n",
              "       [176, 174, 170, 178],\n",
              "       [177, 169, 171, 165],\n",
              "       [178, 182, 176, 174],\n",
              "       [179, 183, 181, 173],\n",
              "       [180, 184, 186, 168],\n",
              "       [181, 183, 189, 179],\n",
              "       [182, 178, 188, 176],\n",
              "       [183, 181, 179, 189],\n",
              "       [184, 180, 186, 168],\n",
              "       [185, 179, 183, 167],\n",
              "       [186, 190, 188, 180],\n",
              "       [187, 191, 177, 169],\n",
              "       [188, 182, 190, 186],\n",
              "       [189, 181, 183, 179],\n",
              "       [190, 186, 188, 182],\n",
              "       [191, 187, 177, 169],\n",
              "       [192, 194, 188, 182],\n",
              "       [193, 189, 183, 185],\n",
              "       [194, 192, 196, 188],\n",
              "       [195, 197, 193, 199],\n",
              "       [196, 194, 198, 190],\n",
              "       [197, 195, 199, 191],\n",
              "       [198, 196, 194, 192],\n",
              "       [199, 197, 195, 193]])"
            ]
          },
          "metadata": {},
          "execution_count": 40
        }
      ]
    },
    {
      "cell_type": "markdown",
      "source": [
        "minPts번째 점에 해당하는 거리를 내림차순으로 정렬하여 k-dist graph를 그립니다."
      ],
      "metadata": {
        "id": "TVBhnaqZw-SU"
      }
    },
    {
      "cell_type": "code",
      "source": [
        "distance = sorted(distances[:, minPts-1], reverse = True)\n",
        "plt.plot(list(range(1,201)), distance)"
      ],
      "metadata": {
        "colab": {
          "base_uri": "https://localhost:8080/",
          "height": 365
        },
        "id": "bhukpYY4OB8q",
        "outputId": "434cf3a2-8696-4fee-c5a2-d6d39fef1dab"
      },
      "execution_count": 41,
      "outputs": [
        {
          "output_type": "execute_result",
          "data": {
            "text/plain": [
              "[<matplotlib.lines.Line2D at 0x7f2904ceffd0>]"
            ]
          },
          "metadata": {},
          "execution_count": 41
        },
        {
          "output_type": "display_data",
          "data": {
            "text/plain": [
              "<Figure size 576x396 with 1 Axes>"
            ],
            "image/png": "[encoded data removed]"
          },
          "metadata": {}
        }
      ]
    },
    {
      "cell_type": "markdown",
      "source": [
        "명확하게 threshold point가 보이지는 않지만, 어느 정도의 valley는 있기에 valley가 시작되는 부분의 거리인 0.07을 eps로 설정합니다."
      ],
      "metadata": {
        "id": "Nu5TxxOLxHsO"
      }
    },
    {
      "cell_type": "markdown",
      "source": [
        "eps = 0.07, minPts = 4로 파라미터를 결정했으니 DBSCAN을 실행해봅시다."
      ],
      "metadata": {
        "id": "jSSvXZ8IxkS0"
      }
    },
    {
      "cell_type": "markdown",
      "source": [
        "####클러스터링 실행"
      ],
      "metadata": {
        "id": "0uBNuTNv75mS"
      }
    },
    {
      "cell_type": "code",
      "source": [
        "dbscan = DBSCAN(eps = 0.07, min_samples = 4).fit(scaled_data)"
      ],
      "metadata": {
        "id": "hBNfvsfn6Rul"
      },
      "execution_count": 42,
      "outputs": []
    },
    {
      "cell_type": "code",
      "source": [
        "## DBSCAN 결과 나온 라벨 값을 데이터에 저장합니다.\n",
        "scaled_data['Cluster'] = dbscan.labels_\n",
        "\n",
        "## 어떠한 클러스터가 생성되었는지 살펴봅시다.\n",
        "scaled_data['Cluster']"
      ],
      "metadata": {
        "colab": {
          "base_uri": "https://localhost:8080/"
        },
        "id": "jqIBTLYdjhj-",
        "outputId": "202374d5-4941-4c20-a8c4-9cb48396177a"
      },
      "execution_count": 43,
      "outputs": [
        {
          "output_type": "execute_result",
          "data": {
            "text/plain": [
              "0      3\n",
              "1      0\n",
              "2      1\n",
              "3      0\n",
              "4      3\n",
              "      ..\n",
              "195   -1\n",
              "196   -1\n",
              "197   -1\n",
              "198   -1\n",
              "199   -1\n",
              "Name: Cluster, Length: 200, dtype: int64"
            ]
          },
          "metadata": {},
          "execution_count": 43
        }
      ]
    },
    {
      "cell_type": "code",
      "source": [
        "y_db = dbscan.labels_"
      ],
      "metadata": {
        "id": "g7ZZ0LjwsIhF"
      },
      "execution_count": 44,
      "outputs": []
    },
    {
      "cell_type": "markdown",
      "source": [
        "DBSCAN에서 cluster label이 -1인 데이터는 noise에 해당합니다. 즉, 실제 클러스터 수를 계산할 때에는 -1인 라벨값이 있을 경우 1을 빼줘야 합니다."
      ],
      "metadata": {
        "id": "ac9A7zdHtycV"
      }
    },
    {
      "cell_type": "code",
      "source": [
        "# 실제 클러스터 수\n",
        "\n",
        "cluster_db = len(set(dbscan.labels_)) - (1 if -1 in dbscan.labels_ else 0)\n",
        "cluster_db"
      ],
      "metadata": {
        "colab": {
          "base_uri": "https://localhost:8080/"
        },
        "id": "fL-6Ygk2sIji",
        "outputId": "54969a99-d480-4238-8fcf-335a25a9b6e6"
      },
      "execution_count": 45,
      "outputs": [
        {
          "output_type": "execute_result",
          "data": {
            "text/plain": [
              "7"
            ]
          },
          "metadata": {},
          "execution_count": 45
        }
      ]
    },
    {
      "cell_type": "markdown",
      "source": [
        "####시각화"
      ],
      "metadata": {
        "id": "DGkJ2RM7yXJp"
      }
    },
    {
      "cell_type": "code",
      "source": [
        "plt.figure(figsize = (15, 8))\n",
        "sns.scatterplot(scaled_data['Annual Income (k$)'], scaled_data['Spending Score (1-100)'], hue = scaled_data['Cluster'], \n",
        "                 palette = sns.color_palette('hls', np.unique(dbscan.labels_).shape[0]))\n",
        "plt.title('DBSCAN with eps=0.07, minPts=4')\n",
        "plt.show()"
      ],
      "metadata": {
        "colab": {
          "base_uri": "https://localhost:8080/",
          "height": 568
        },
        "id": "_udFkNHfjqCO",
        "outputId": "68aece51-4488-4b79-9950-880d813ce88c"
      },
      "execution_count": 46,
      "outputs": [
        {
          "output_type": "stream",
          "name": "stderr",
          "text": [
            "/usr/local/lib/python3.8/dist-packages/seaborn/_decorators.py:36: FutureWarning: Pass the following variables as keyword args: x, y. From version 0.12, the only valid positional argument will be `data`, and passing other arguments without an explicit keyword will result in an error or misinterpretation.\n",
            "  warnings.warn(\n"
          ]
        },
        {
          "output_type": "display_data",
          "data": {
            "text/plain": [
              "<Figure size 1080x576 with 1 Axes>"
            ],
            "image/png": "[encoded data removed]"
          },
          "metadata": {}
        }
      ]
    },
    {
      "cell_type": "markdown",
      "source": [
        "###Validation"
      ],
      "metadata": {
        "id": "JdNyt7fcyxb7"
      }
    },
    {
      "cell_type": "markdown",
      "source": [
        "실루엣 계수를 활용해 클러스터링의 성능을 비교해봅시다."
      ],
      "metadata": {
        "id": "S_FJ_LhQk8WL"
      }
    },
    {
      "cell_type": "markdown",
      "source": [
        "\n",
        "\n",
        "---\n",
        "\n"
      ],
      "metadata": {
        "id": "f7hk-fNU5p_U"
      }
    },
    {
      "cell_type": "markdown",
      "source": [
        "실루엣 계수 구현은 https://scikit-learn.org/stable/modules/generated/sklearn.metrics.silhouette_score.html 를 참고해 주세요. "
      ],
      "metadata": {
        "id": "UGYIyEP15q4F"
      }
    },
    {
      "cell_type": "code",
      "source": [
        "## 필요한 라이브러리를 임포트합니다.\n",
        "\n",
        "import sklearn.metrics as metrics\n",
        "from sklearn.metrics.cluster import silhouette_score"
      ],
      "metadata": {
        "id": "zIpb3v463dV_"
      },
      "execution_count": 47,
      "outputs": []
    },
    {
      "cell_type": "markdown",
      "source": [
        "K-means Clustering의 실루엣 계수입니다."
      ],
      "metadata": {
        "id": "5bAQ6CyW6Uth"
      }
    },
    {
      "cell_type": "code",
      "source": [
        "coef_km = metrics.silhouette_score(data_x, y_km)\n",
        "print('Silhouette score is {}.'.format(coef_km))"
      ],
      "metadata": {
        "colab": {
          "base_uri": "https://localhost:8080/"
        },
        "id": "KDKJhjx6ojLj",
        "outputId": "eac2c920-e82e-4ac2-e117-2de1f9999d0c"
      },
      "execution_count": 48,
      "outputs": [
        {
          "output_type": "stream",
          "name": "stdout",
          "text": [
            "Silhouette score is 0.553931997444648.\n"
          ]
        }
      ]
    },
    {
      "cell_type": "markdown",
      "source": [
        "Hierarchical Clustering의 실루엣 계수입니다."
      ],
      "metadata": {
        "id": "WdNkPAm76eq9"
      }
    },
    {
      "cell_type": "code",
      "source": [
        "## Hierarchical Clustering\n",
        "\n",
        "coef_hc = metrics.silhouette_score(data_x, y_agghc)\n",
        "print('Silhouette score is {}.'.format(coef_hc))"
      ],
      "metadata": {
        "colab": {
          "base_uri": "https://localhost:8080/"
        },
        "id": "x1jUkQM_pbMk",
        "outputId": "4641cf63-c6af-40cb-dc9e-4f3eea63e71d"
      },
      "execution_count": 49,
      "outputs": [
        {
          "output_type": "stream",
          "name": "stdout",
          "text": [
            "Silhouette score is 0.5501569700737704.\n"
          ]
        }
      ]
    },
    {
      "cell_type": "markdown",
      "source": [
        "DBSCAN의 실루엣 계수입니다."
      ],
      "metadata": {
        "id": "4m7AX0LL6iV-"
      }
    },
    {
      "cell_type": "code",
      "source": [
        "## DBSCAN\n",
        "\n",
        "coef_db = metrics.silhouette_score(data_x, y_db)\n",
        "print('Silhouette score is {}.'.format(coef_db))"
      ],
      "metadata": {
        "colab": {
          "base_uri": "https://localhost:8080/"
        },
        "id": "vppodq1EqLbA",
        "outputId": "ac929956-62d4-4949-dad0-dacc9f0c566b"
      },
      "execution_count": 50,
      "outputs": [
        {
          "output_type": "stream",
          "name": "stdout",
          "text": [
            "Silhouette score is 0.4195404987631818.\n"
          ]
        }
      ]
    },
    {
      "cell_type": "markdown",
      "source": [
        "어떠한 클러스터링 알고리즘이 성능이 가장 높나요?"
      ],
      "metadata": {
        "id": "4Aef3wru4ycD"
      }
    }
  ]
}