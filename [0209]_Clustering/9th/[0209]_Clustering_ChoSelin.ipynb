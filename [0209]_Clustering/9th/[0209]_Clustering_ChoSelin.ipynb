{
 "cells": [
  {
   "cell_type": "markdown",
   "metadata": {
    "id": "OvZ4RWub-tp5"
   },
   "source": [
    "주어진 데이터셋을 차원 축소한 뒤 **다양한 알고리즘**을 적용하여 클러스터링을 진행하고, 결과를 시각화하는 작업을 직접 해보면서 **비지도학습** (Unsupervised Learning)에 대한 이해도를 높여 봅시다."
   ]
  },
  {
   "cell_type": "code",
   "execution_count": 64,
   "metadata": {
    "id": "sPkBwLLC_LpB"
   },
   "outputs": [],
   "source": [
    "## 필요한 라이브러리를 임포트합니다.\n",
    "\n",
    "import pandas as pd\n",
    "import numpy as np"
   ]
  },
  {
   "cell_type": "code",
   "execution_count": 65,
   "metadata": {
    "id": "OtnrxMvB-mV_"
   },
   "outputs": [],
   "source": [
    "## 시각화 관련 라이브러리를 임포트합니다.\n",
    "\n",
    "from matplotlib import pyplot as plt\n",
    "import seaborn as sns"
   ]
  },
  {
   "cell_type": "markdown",
   "metadata": {
    "id": "q2EVaet0fezv"
   },
   "source": [
    "###데이터"
   ]
  },
  {
   "cell_type": "markdown",
   "metadata": {
    "id": "u93F5Rxodjhg"
   },
   "source": [
    "사용할 데이터: 'Marketing Campaign.csv'"
   ]
  },
  {
   "cell_type": "markdown",
   "metadata": {
    "id": "3V10T3GMdkkq"
   },
   "source": [
    "주어진 데이터는 마케팅 캠페인을 펼치고자 하는 소비자들에 대한 정보를 나타낸 데이터입니다. 해당 소비자들을 알맞게 군집화시키는 것이 우리의 목적입니다.\n",
    "\n",
    "총 29개의 column으로 구성되어 있습니다. \n",
    "\n",
    "\n",
    "\n",
    "---\n",
    "\n",
    "\n",
    "\n",
    "\n",
    "\n"
   ]
  },
  {
   "cell_type": "markdown",
   "metadata": {
    "id": "bmzh86T1ftm5"
   },
   "source": [
    "데이터에 대한 자세한 설명은 해당 kaggle 페이지에서 확인하실 수 있습니다.\n",
    "\n",
    "https://www.kaggle.com/datasets/rodsaldanha/arketing-campaign"
   ]
  },
  {
   "cell_type": "markdown",
   "metadata": {
    "id": "13998SwmXdYu"
   },
   "source": [
    "데이터를 불러옵니다."
   ]
  },
  {
   "cell_type": "code",
   "execution_count": null,
   "metadata": {
    "colab": {
     "base_uri": "https://localhost:8080/"
    },
    "id": "j9-R3h9_QgIS",
    "outputId": "1515ac83-e9d8-4e24-8a5b-bd5ffdefbbed"
   },
   "outputs": [
    {
     "name": "stdout",
     "output_type": "stream",
     "text": [
      "Mounted at /content/drive\n"
     ]
    }
   ],
   "source": [
    "## drive에 있는 데이터셋을 불러오기 위해 드라이브와 연동을 합니다.\n",
    "\n",
    "from google.colab import drive\n",
    "drive.mount('/content/drive')"
   ]
  },
  {
   "cell_type": "code",
   "execution_count": 66,
   "metadata": {
    "colab": {
     "base_uri": "https://localhost:8080/",
     "height": 299
    },
    "id": "aavBGusyFTc0",
    "outputId": "75564450-8ac6-4714-f80b-b331dd7e5dba",
    "scrolled": true
   },
   "outputs": [
    {
     "data": {
      "text/html": [
       "<div>\n",
       "<style scoped>\n",
       "    .dataframe tbody tr th:only-of-type {\n",
       "        vertical-align: middle;\n",
       "    }\n",
       "\n",
       "    .dataframe tbody tr th {\n",
       "        vertical-align: top;\n",
       "    }\n",
       "\n",
       "    .dataframe thead th {\n",
       "        text-align: right;\n",
       "    }\n",
       "</style>\n",
       "<table border=\"1\" class=\"dataframe\">\n",
       "  <thead>\n",
       "    <tr style=\"text-align: right;\">\n",
       "      <th></th>\n",
       "      <th>ID</th>\n",
       "      <th>Year_Birth</th>\n",
       "      <th>Education</th>\n",
       "      <th>Marital_Status</th>\n",
       "      <th>Income</th>\n",
       "      <th>Kidhome</th>\n",
       "      <th>Teenhome</th>\n",
       "      <th>Dt_Customer</th>\n",
       "      <th>Recency</th>\n",
       "      <th>MntWines</th>\n",
       "      <th>...</th>\n",
       "      <th>NumWebVisitsMonth</th>\n",
       "      <th>AcceptedCmp3</th>\n",
       "      <th>AcceptedCmp4</th>\n",
       "      <th>AcceptedCmp5</th>\n",
       "      <th>AcceptedCmp1</th>\n",
       "      <th>AcceptedCmp2</th>\n",
       "      <th>Complain</th>\n",
       "      <th>Z_CostContact</th>\n",
       "      <th>Z_Revenue</th>\n",
       "      <th>Response</th>\n",
       "    </tr>\n",
       "  </thead>\n",
       "  <tbody>\n",
       "    <tr>\n",
       "      <th>0</th>\n",
       "      <td>5524</td>\n",
       "      <td>1957</td>\n",
       "      <td>Graduation</td>\n",
       "      <td>Single</td>\n",
       "      <td>58138.0</td>\n",
       "      <td>0</td>\n",
       "      <td>0</td>\n",
       "      <td>2012-09-04</td>\n",
       "      <td>58</td>\n",
       "      <td>635</td>\n",
       "      <td>...</td>\n",
       "      <td>7</td>\n",
       "      <td>0</td>\n",
       "      <td>0</td>\n",
       "      <td>0</td>\n",
       "      <td>0</td>\n",
       "      <td>0</td>\n",
       "      <td>0</td>\n",
       "      <td>3</td>\n",
       "      <td>11</td>\n",
       "      <td>1</td>\n",
       "    </tr>\n",
       "    <tr>\n",
       "      <th>1</th>\n",
       "      <td>2174</td>\n",
       "      <td>1954</td>\n",
       "      <td>Graduation</td>\n",
       "      <td>Single</td>\n",
       "      <td>46344.0</td>\n",
       "      <td>1</td>\n",
       "      <td>1</td>\n",
       "      <td>2014-03-08</td>\n",
       "      <td>38</td>\n",
       "      <td>11</td>\n",
       "      <td>...</td>\n",
       "      <td>5</td>\n",
       "      <td>0</td>\n",
       "      <td>0</td>\n",
       "      <td>0</td>\n",
       "      <td>0</td>\n",
       "      <td>0</td>\n",
       "      <td>0</td>\n",
       "      <td>3</td>\n",
       "      <td>11</td>\n",
       "      <td>0</td>\n",
       "    </tr>\n",
       "    <tr>\n",
       "      <th>2</th>\n",
       "      <td>4141</td>\n",
       "      <td>1965</td>\n",
       "      <td>Graduation</td>\n",
       "      <td>Together</td>\n",
       "      <td>71613.0</td>\n",
       "      <td>0</td>\n",
       "      <td>0</td>\n",
       "      <td>2013-08-21</td>\n",
       "      <td>26</td>\n",
       "      <td>426</td>\n",
       "      <td>...</td>\n",
       "      <td>4</td>\n",
       "      <td>0</td>\n",
       "      <td>0</td>\n",
       "      <td>0</td>\n",
       "      <td>0</td>\n",
       "      <td>0</td>\n",
       "      <td>0</td>\n",
       "      <td>3</td>\n",
       "      <td>11</td>\n",
       "      <td>0</td>\n",
       "    </tr>\n",
       "    <tr>\n",
       "      <th>3</th>\n",
       "      <td>6182</td>\n",
       "      <td>1984</td>\n",
       "      <td>Graduation</td>\n",
       "      <td>Together</td>\n",
       "      <td>26646.0</td>\n",
       "      <td>1</td>\n",
       "      <td>0</td>\n",
       "      <td>2014-02-10</td>\n",
       "      <td>26</td>\n",
       "      <td>11</td>\n",
       "      <td>...</td>\n",
       "      <td>6</td>\n",
       "      <td>0</td>\n",
       "      <td>0</td>\n",
       "      <td>0</td>\n",
       "      <td>0</td>\n",
       "      <td>0</td>\n",
       "      <td>0</td>\n",
       "      <td>3</td>\n",
       "      <td>11</td>\n",
       "      <td>0</td>\n",
       "    </tr>\n",
       "    <tr>\n",
       "      <th>4</th>\n",
       "      <td>5324</td>\n",
       "      <td>1981</td>\n",
       "      <td>PhD</td>\n",
       "      <td>Married</td>\n",
       "      <td>58293.0</td>\n",
       "      <td>1</td>\n",
       "      <td>0</td>\n",
       "      <td>2014-01-19</td>\n",
       "      <td>94</td>\n",
       "      <td>173</td>\n",
       "      <td>...</td>\n",
       "      <td>5</td>\n",
       "      <td>0</td>\n",
       "      <td>0</td>\n",
       "      <td>0</td>\n",
       "      <td>0</td>\n",
       "      <td>0</td>\n",
       "      <td>0</td>\n",
       "      <td>3</td>\n",
       "      <td>11</td>\n",
       "      <td>0</td>\n",
       "    </tr>\n",
       "  </tbody>\n",
       "</table>\n",
       "<p>5 rows × 29 columns</p>\n",
       "</div>"
      ],
      "text/plain": [
       "     ID  Year_Birth   Education Marital_Status   Income  Kidhome  Teenhome  \\\n",
       "0  5524        1957  Graduation         Single  58138.0        0         0   \n",
       "1  2174        1954  Graduation         Single  46344.0        1         1   \n",
       "2  4141        1965  Graduation       Together  71613.0        0         0   \n",
       "3  6182        1984  Graduation       Together  26646.0        1         0   \n",
       "4  5324        1981         PhD        Married  58293.0        1         0   \n",
       "\n",
       "  Dt_Customer  Recency  MntWines  ...  NumWebVisitsMonth  AcceptedCmp3  \\\n",
       "0  2012-09-04       58       635  ...                  7             0   \n",
       "1  2014-03-08       38        11  ...                  5             0   \n",
       "2  2013-08-21       26       426  ...                  4             0   \n",
       "3  2014-02-10       26        11  ...                  6             0   \n",
       "4  2014-01-19       94       173  ...                  5             0   \n",
       "\n",
       "   AcceptedCmp4  AcceptedCmp5  AcceptedCmp1  AcceptedCmp2  Complain  \\\n",
       "0             0             0             0             0         0   \n",
       "1             0             0             0             0         0   \n",
       "2             0             0             0             0         0   \n",
       "3             0             0             0             0         0   \n",
       "4             0             0             0             0         0   \n",
       "\n",
       "   Z_CostContact  Z_Revenue  Response  \n",
       "0              3         11         1  \n",
       "1              3         11         0  \n",
       "2              3         11         0  \n",
       "3              3         11         0  \n",
       "4              3         11         0  \n",
       "\n",
       "[5 rows x 29 columns]"
      ]
     },
     "execution_count": 66,
     "metadata": {},
     "output_type": "execute_result"
    }
   ],
   "source": [
    "## 'Marketing_campaign' 데이터의 위치를 불러와 저장합니다.\n",
    "\n",
    "data = pd.read_csv('marketing_campaign.csv', \\\n",
    "                   sep = ';')\n",
    "data.head()"
   ]
  },
  {
   "cell_type": "code",
   "execution_count": 67,
   "metadata": {},
   "outputs": [
    {
     "data": {
      "text/plain": [
       "Index(['ID', 'Year_Birth', 'Education', 'Marital_Status', 'Income', 'Kidhome',\n",
       "       'Teenhome', 'Dt_Customer', 'Recency', 'MntWines', 'MntFruits',\n",
       "       'MntMeatProducts', 'MntFishProducts', 'MntSweetProducts',\n",
       "       'MntGoldProds', 'NumDealsPurchases', 'NumWebPurchases',\n",
       "       'NumCatalogPurchases', 'NumStorePurchases', 'NumWebVisitsMonth',\n",
       "       'AcceptedCmp3', 'AcceptedCmp4', 'AcceptedCmp5', 'AcceptedCmp1',\n",
       "       'AcceptedCmp2', 'Complain', 'Z_CostContact', 'Z_Revenue', 'Response'],\n",
       "      dtype='object')"
      ]
     },
     "execution_count": 67,
     "metadata": {},
     "output_type": "execute_result"
    }
   ],
   "source": [
    "data.columns"
   ]
  },
  {
   "cell_type": "markdown",
   "metadata": {
    "id": "N9QSTEvPRK-t"
   },
   "source": [
    "### 데이터 전처리"
   ]
  },
  {
   "cell_type": "code",
   "execution_count": 68,
   "metadata": {
    "id": "y84-iEHeLRsY"
   },
   "outputs": [
    {
     "data": {
      "text/plain": [
       "0    3814\n",
       "1    3264\n",
       "2    3463\n",
       "3    3290\n",
       "4    3312\n",
       "Name: days, dtype: int32"
      ]
     },
     "execution_count": 68,
     "metadata": {},
     "output_type": "execute_result"
    }
   ],
   "source": [
    "## 등록한 이후에 현재까지의 기간(회원 일수)를 'days'라는 변수로 저장.\n",
    "from datetime import datetime\n",
    "y = pd.to_datetime(datetime.today().strftime(\"%Y-%m-%d\")) #datetime 타입으로 변환\n",
    "\n",
    "data.Dt_Customer = pd.to_datetime(data.Dt_Customer) #datetime 타입으로 변환\n",
    "data['days'] = y - data.Dt_Customer\n",
    "data['days'] = data['days'] / np.timedelta64(1, 'D')\n",
    "data['days'] = data['days'].astype('int')\n",
    "data['days'][:5]"
   ]
  },
  {
   "cell_type": "code",
   "execution_count": 69,
   "metadata": {
    "id": "uNjip3heP_8V"
   },
   "outputs": [],
   "source": [
    "## 나이를 age에 저장\n",
    "data['age'] = 2024-data['Year_Birth']"
   ]
  },
  {
   "cell_type": "code",
   "execution_count": 70,
   "metadata": {
    "id": "mFGUXheeRyRr"
   },
   "outputs": [],
   "source": [
    "## 마케팅 캠페인에서의 총 참여 횟수\n",
    "data['CampaignAttendance'] = data.iloc[:,20:25].sum(axis=1)\n",
    "\n",
    "## 이 데이터랑 군집화 결과가 얼마나 유사하게, 또는 다르게 나오는지 비교해봅시다~!!"
   ]
  },
  {
   "cell_type": "code",
   "execution_count": 71,
   "metadata": {
    "id": "GTOPK6rWTUj4"
   },
   "outputs": [],
   "source": [
    "data.columns\n",
    "\n",
    "features = ['days', 'age', 'Income', 'Recency', 'MntWines', 'MntFruits',\\\n",
    "                     'MntMeatProducts', 'MntFishProducts', 'MntSweetProducts',\\\n",
    "                     'MntGoldProds', 'NumDealsPurchases','NumWebPurchases', \\\n",
    "                     'NumCatalogPurchases', 'NumStorePurchases', 'NumWebVisitsMonth',\\\n",
    "                    'AcceptedCmp3', 'AcceptedCmp4', 'AcceptedCmp5', 'AcceptedCmp1',\\\n",
    "                    'AcceptedCmp2', 'Complain', 'Z_CostContact', 'Z_Revenue', 'Response','CampaignAttendance'] #우리가 고려할 변수들"
   ]
  },
  {
   "cell_type": "code",
   "execution_count": 72,
   "metadata": {
    "id": "EjWWJ0NDT_EN"
   },
   "outputs": [],
   "source": [
    "X_features = data[features]\n",
    "X_features = X_features.dropna().reset_index(drop = True) #결측치 제거\n",
    "\n",
    "y_label = X_features['CampaignAttendance'] #캠페인에서의 총 참여 횟수를 임의의 라벨값으로 설정 -> 기준으로 삼아보자.\n",
    "\n",
    "X_features = X_features.drop(['CampaignAttendance'], axis = 1)"
   ]
  },
  {
   "cell_type": "code",
   "execution_count": 73,
   "metadata": {
    "id": "F5ZEd_GfLFdx"
   },
   "outputs": [],
   "source": [
    "## 각 변수들을 '표준화' scaling 합니다.\n",
    "from sklearn.preprocessing import StandardScaler\n",
    "scaler = StandardScaler()\n",
    "X_features_scaling  = scaler.fit_transform(X_features)\n",
    "\n",
    "X_features_scaling = pd.DataFrame(X_features_scaling, columns = X_features.columns, index = list(X_features.index.values))"
   ]
  },
  {
   "cell_type": "markdown",
   "metadata": {
    "id": "hSweBGWmgDTy"
   },
   "source": [
    "###차원 축소"
   ]
  },
  {
   "cell_type": "markdown",
   "metadata": {
    "id": "GqDgcjqM2mrQ"
   },
   "source": [
    "데이터를 차원 축소 해봅시다."
   ]
  },
  {
   "cell_type": "code",
   "execution_count": 74,
   "metadata": {
    "id": "Fu0ayAvrYeC1"
   },
   "outputs": [],
   "source": [
    "from sklearn.discriminant_analysis import LinearDiscriminantAnalysis\n",
    "\n",
    "## LDA\n",
    "lda = LinearDiscriminantAnalysis(n_components = 2)\n",
    "X_train_lda = lda.fit_transform(X_features_scaling, y_label) #차원축소 과정에 y 라벨값을 입력해줌"
   ]
  },
  {
   "cell_type": "code",
   "execution_count": 75,
   "metadata": {
    "id": "eS_siPJ1YoXr"
   },
   "outputs": [
    {
     "data": {
      "image/png": "[encoded data removed]",
      "text/plain": [
       "<Figure size 402.375x360 with 1 Axes>"
      ]
     },
     "metadata": {
      "needs_background": "light"
     },
     "output_type": "display_data"
    }
   ],
   "source": [
    "X_train_lda = pd.DataFrame(X_train_lda).loc[:,0:1]\n",
    "X_train_lda = pd.concat((X_train_lda, y_label), axis = 1) #X_train_Ida와 y_label 데이터를 하나로 합치기\n",
    "X_train_lda.columns = ['lda_1', 'lda_2', 'label']\n",
    "X_train_lda\n",
    "\n",
    "sns.lmplot(x = 'lda_1',y = 'lda_2',data = X_train_lda, hue = 'label', fit_reg = False)\n",
    "plt.show()\n",
    "\n",
    "## 우리가 원하는 정답 모양\n",
    "## 캠페인 참여에서의 총 참여 횟수를 라벨값으로 둔 상태에서의 데이터 분포도"
   ]
  },
  {
   "cell_type": "markdown",
   "metadata": {
    "id": "mlmCquwTgNBF"
   },
   "source": [
    "###K-means Clustering"
   ]
  },
  {
   "cell_type": "markdown",
   "metadata": {
    "id": "lY9vjJLvmtSv"
   },
   "source": [
    "클러스터링을 돌려 보는 데에 의의가 있기에, 파라미터 값 최적화보다는 각 알고리즘을 사용하면 결과가 어떻게 달라지는 지에 초점을 맞추어 살펴봅니다. 여러 번 시행해보면서 **자유롭게 파라미터를 정해주세요**."
   ]
  },
  {
   "cell_type": "markdown",
   "metadata": {
    "id": "UWBpYVvn6Y9-"
   },
   "source": [
    "**(직접 최적의 파라미터 값을 찾아서 설정하고 싶으시다면 훨씬 좋습니다! 해당 과제의 모든 코드는 기본 뼈대일 뿐입니다. 코드를 추가 또는 변경하셔도 좋습니다.)**"
   ]
  },
  {
   "cell_type": "markdown",
   "metadata": {
    "id": "0NFbMzot24go"
   },
   "source": [
    "다른 x값들에 대해서도 캠페인 참여도, 즉 고객의 충실도를 잘 군집화할 수 있을까요? 클러스터링으로 결과를 확인해봅시다."
   ]
  },
  {
   "cell_type": "markdown",
   "metadata": {
    "id": "M6Bnqr3WgOH_"
   },
   "source": [
    "\n",
    "\n",
    "---\n",
    "\n",
    "\n",
    "\n"
   ]
  },
  {
   "cell_type": "markdown",
   "metadata": {
    "id": "TfuCCGgioEbh"
   },
   "source": [
    "K-means를 이용하여 클러스터링 해봅시다."
   ]
  },
  {
   "cell_type": "code",
   "execution_count": 76,
   "metadata": {
    "id": "T5c5byPLnB5e"
   },
   "outputs": [],
   "source": [
    "## 필요한 라이브러리를 임포트합니다.\n",
    "\n",
    "from sklearn.cluster import KMeans"
   ]
  },
  {
   "cell_type": "code",
   "execution_count": 77,
   "metadata": {
    "colab": {
     "base_uri": "https://localhost:8080/"
    },
    "id": "e66J9Orqaxdz",
    "outputId": "7c5827ca-a762-4c4f-964e-ae319797709e"
   },
   "outputs": [
    {
     "data": {
      "text/plain": [
       "array([0, 2, 0, ..., 1, 0, 2])"
      ]
     },
     "execution_count": 77,
     "metadata": {},
     "output_type": "execute_result"
    }
   ],
   "source": [
    "## 클러스터 수는 ########(숫자)########로 설정하고, KMeans를 활용하여 예측된 y값을 만들어 봅시다.\n",
    "\n",
    "km = KMeans(n_clusters = 4)\n",
    "\n",
    "y_km = km.fit_predict(X_features_scaling)\n",
    "y_km"
   ]
  },
  {
   "cell_type": "code",
   "execution_count": 78,
   "metadata": {
    "id": "Xalob8AybpqS"
   },
   "outputs": [],
   "source": [
    "X_train_lda['K_means'] = y_km"
   ]
  },
  {
   "cell_type": "markdown",
   "metadata": {
    "id": "IpNZtoEJns4f"
   },
   "source": [
    "####시각화"
   ]
  },
  {
   "cell_type": "code",
   "execution_count": 79,
   "metadata": {
    "id": "gMDG4QTFbkjJ"
   },
   "outputs": [
    {
     "data": {
      "image/png": "[encoded data removed]",
      "text/plain": [
       "<Figure size 413x360 with 1 Axes>"
      ]
     },
     "metadata": {
      "needs_background": "light"
     },
     "output_type": "display_data"
    }
   ],
   "source": [
    "sns.lmplot(x = 'lda_1', y = 'lda_2', data = X_train_lda, hue = 'K_means', fit_reg = False)\n",
    "plt.title('K-means Clustering Result')\n",
    "plt.show()"
   ]
  },
  {
   "cell_type": "markdown",
   "metadata": {
    "id": "D2pTwOUfn62c"
   },
   "source": [
    "###Hierarchical Clustering"
   ]
  },
  {
   "cell_type": "markdown",
   "metadata": {
    "id": "Ezn3DNWVn-Gx"
   },
   "source": [
    "Agglomerative 방법을 이용하여 클러스터링 해봅시다."
   ]
  },
  {
   "cell_type": "code",
   "execution_count": 80,
   "metadata": {
    "id": "GbahvycYcTnC"
   },
   "outputs": [],
   "source": [
    "## 필요한 라이브러리를 임포트합니다.\n",
    "\n",
    "from sklearn.cluster import AgglomerativeClustering"
   ]
  },
  {
   "cell_type": "code",
   "execution_count": 81,
   "metadata": {
    "colab": {
     "base_uri": "https://localhost:8080/"
    },
    "id": "Jm_odYfKoQOD",
    "outputId": "0527cd6f-d1f5-4593-b3b2-d5571069df0d"
   },
   "outputs": [
    {
     "data": {
      "text/plain": [
       "array([2, 3, 2, ..., 0, 2, 0], dtype=int64)"
      ]
     },
     "execution_count": 81,
     "metadata": {},
     "output_type": "execute_result"
    }
   ],
   "source": [
    "## 클러스터 수는 ########(숫자)########로 설정하고, Agglomerative를 활용하여 예측된 y값을 만들어 봅시다.\n",
    "\n",
    "agghc = AgglomerativeClustering(n_clusters = 4, affinity = 'euclidean', linkage = 'ward') #와드연결법을 사용합니다.\n",
    "\n",
    "y_agghc = agghc.fit_predict(X_features_scaling)\n",
    "y_agghc"
   ]
  },
  {
   "cell_type": "code",
   "execution_count": 82,
   "metadata": {
    "id": "JmPjxgKJodsz"
   },
   "outputs": [],
   "source": [
    "X_train_lda['hierarchical'] = y_agghc"
   ]
  },
  {
   "cell_type": "markdown",
   "metadata": {
    "id": "wtjDpfrN3ZE1"
   },
   "source": [
    "####시각화"
   ]
  },
  {
   "cell_type": "code",
   "execution_count": 83,
   "metadata": {
    "id": "Kc_5HVs9cna3"
   },
   "outputs": [
    {
     "data": {
      "image/png": "[encoded data removed]",
      "text/plain": [
       "<Figure size 426.75x360 with 1 Axes>"
      ]
     },
     "metadata": {
      "needs_background": "light"
     },
     "output_type": "display_data"
    }
   ],
   "source": [
    "sns.lmplot(x = 'lda_1', y = 'lda_2', data = X_train_lda, hue = 'hierarchical', fit_reg = False)\n",
    "plt.title('Hierarchical Clustering Result')\n",
    "plt.show()"
   ]
  },
  {
   "cell_type": "markdown",
   "metadata": {
    "id": "ZZ4kBn15o0Ln"
   },
   "source": [
    "###DBSCAN"
   ]
  },
  {
   "cell_type": "markdown",
   "metadata": {
    "id": "XqccBOmdo2NX"
   },
   "source": [
    "DBSCAN을 이용하여 클러스터링 해봅시다."
   ]
  },
  {
   "cell_type": "code",
   "execution_count": 84,
   "metadata": {
    "id": "RHb-CAXDcrBh"
   },
   "outputs": [],
   "source": [
    "## 필요한 라이브러리를 임포트합니다.\n",
    "\n",
    "from sklearn.cluster import DBSCAN"
   ]
  },
  {
   "cell_type": "code",
   "execution_count": 85,
   "metadata": {},
   "outputs": [],
   "source": [
    "from sklearn.cluster import DBSCAN\n",
    "import sklearn.utils\n",
    "import sklearn.neighbors\n",
    "from sklearn.neighbors import NearestNeighbors"
   ]
  },
  {
   "cell_type": "code",
   "execution_count": 101,
   "metadata": {},
   "outputs": [
    {
     "data": {
      "text/html": [
       "<div>\n",
       "<style scoped>\n",
       "    .dataframe tbody tr th:only-of-type {\n",
       "        vertical-align: middle;\n",
       "    }\n",
       "\n",
       "    .dataframe tbody tr th {\n",
       "        vertical-align: top;\n",
       "    }\n",
       "\n",
       "    .dataframe thead th {\n",
       "        text-align: right;\n",
       "    }\n",
       "</style>\n",
       "<table border=\"1\" class=\"dataframe\">\n",
       "  <thead>\n",
       "    <tr style=\"text-align: right;\">\n",
       "      <th></th>\n",
       "      <th>days</th>\n",
       "      <th>age</th>\n",
       "      <th>Income</th>\n",
       "      <th>Recency</th>\n",
       "      <th>MntWines</th>\n",
       "      <th>MntFruits</th>\n",
       "      <th>MntMeatProducts</th>\n",
       "      <th>MntFishProducts</th>\n",
       "      <th>MntSweetProducts</th>\n",
       "      <th>MntGoldProds</th>\n",
       "      <th>...</th>\n",
       "      <th>NumWebVisitsMonth</th>\n",
       "      <th>AcceptedCmp3</th>\n",
       "      <th>AcceptedCmp4</th>\n",
       "      <th>AcceptedCmp5</th>\n",
       "      <th>AcceptedCmp1</th>\n",
       "      <th>AcceptedCmp2</th>\n",
       "      <th>Complain</th>\n",
       "      <th>Z_CostContact</th>\n",
       "      <th>Z_Revenue</th>\n",
       "      <th>Response</th>\n",
       "    </tr>\n",
       "  </thead>\n",
       "  <tbody>\n",
       "    <tr>\n",
       "      <th>0</th>\n",
       "      <td>1.529129</td>\n",
       "      <td>0.986443</td>\n",
       "      <td>0.234063</td>\n",
       "      <td>0.310532</td>\n",
       "      <td>0.978226</td>\n",
       "      <td>1.549429</td>\n",
       "      <td>1.690227</td>\n",
       "      <td>2.454568</td>\n",
       "      <td>1.484827</td>\n",
       "      <td>0.850031</td>\n",
       "      <td>...</td>\n",
       "      <td>0.693232</td>\n",
       "      <td>-0.281773</td>\n",
       "      <td>-0.282705</td>\n",
       "      <td>-0.280839</td>\n",
       "      <td>-0.261661</td>\n",
       "      <td>-0.117148</td>\n",
       "      <td>-0.097812</td>\n",
       "      <td>0.0</td>\n",
       "      <td>0.0</td>\n",
       "      <td>2.377952</td>\n",
       "    </tr>\n",
       "    <tr>\n",
       "      <th>1</th>\n",
       "      <td>-1.188411</td>\n",
       "      <td>1.236801</td>\n",
       "      <td>-0.234559</td>\n",
       "      <td>-0.380509</td>\n",
       "      <td>-0.872024</td>\n",
       "      <td>-0.637328</td>\n",
       "      <td>-0.717986</td>\n",
       "      <td>-0.651038</td>\n",
       "      <td>-0.633880</td>\n",
       "      <td>-0.732867</td>\n",
       "      <td>...</td>\n",
       "      <td>-0.131574</td>\n",
       "      <td>-0.281773</td>\n",
       "      <td>-0.282705</td>\n",
       "      <td>-0.280839</td>\n",
       "      <td>-0.261661</td>\n",
       "      <td>-0.117148</td>\n",
       "      <td>-0.097812</td>\n",
       "      <td>0.0</td>\n",
       "      <td>0.0</td>\n",
       "      <td>-0.420530</td>\n",
       "    </tr>\n",
       "    <tr>\n",
       "      <th>2</th>\n",
       "      <td>-0.205155</td>\n",
       "      <td>0.318822</td>\n",
       "      <td>0.769478</td>\n",
       "      <td>-0.795134</td>\n",
       "      <td>0.358511</td>\n",
       "      <td>0.569159</td>\n",
       "      <td>-0.178368</td>\n",
       "      <td>1.340203</td>\n",
       "      <td>-0.146821</td>\n",
       "      <td>-0.037937</td>\n",
       "      <td>...</td>\n",
       "      <td>-0.543978</td>\n",
       "      <td>-0.281773</td>\n",
       "      <td>-0.282705</td>\n",
       "      <td>-0.280839</td>\n",
       "      <td>-0.261661</td>\n",
       "      <td>-0.117148</td>\n",
       "      <td>-0.097812</td>\n",
       "      <td>0.0</td>\n",
       "      <td>0.0</td>\n",
       "      <td>-0.420530</td>\n",
       "    </tr>\n",
       "    <tr>\n",
       "      <th>3</th>\n",
       "      <td>-1.059945</td>\n",
       "      <td>-1.266777</td>\n",
       "      <td>-1.017239</td>\n",
       "      <td>-0.795134</td>\n",
       "      <td>-0.872024</td>\n",
       "      <td>-0.561922</td>\n",
       "      <td>-0.655551</td>\n",
       "      <td>-0.504892</td>\n",
       "      <td>-0.585174</td>\n",
       "      <td>-0.752171</td>\n",
       "      <td>...</td>\n",
       "      <td>0.280829</td>\n",
       "      <td>-0.281773</td>\n",
       "      <td>-0.282705</td>\n",
       "      <td>-0.280839</td>\n",
       "      <td>-0.261661</td>\n",
       "      <td>-0.117148</td>\n",
       "      <td>-0.097812</td>\n",
       "      <td>0.0</td>\n",
       "      <td>0.0</td>\n",
       "      <td>-0.420530</td>\n",
       "    </tr>\n",
       "    <tr>\n",
       "      <th>4</th>\n",
       "      <td>-0.951244</td>\n",
       "      <td>-1.016420</td>\n",
       "      <td>0.240221</td>\n",
       "      <td>1.554407</td>\n",
       "      <td>-0.391671</td>\n",
       "      <td>0.418348</td>\n",
       "      <td>-0.218505</td>\n",
       "      <td>0.152766</td>\n",
       "      <td>-0.000703</td>\n",
       "      <td>-0.559135</td>\n",
       "      <td>...</td>\n",
       "      <td>-0.131574</td>\n",
       "      <td>-0.281773</td>\n",
       "      <td>-0.282705</td>\n",
       "      <td>-0.280839</td>\n",
       "      <td>-0.261661</td>\n",
       "      <td>-0.117148</td>\n",
       "      <td>-0.097812</td>\n",
       "      <td>0.0</td>\n",
       "      <td>0.0</td>\n",
       "      <td>-0.420530</td>\n",
       "    </tr>\n",
       "    <tr>\n",
       "      <th>...</th>\n",
       "      <td>...</td>\n",
       "      <td>...</td>\n",
       "      <td>...</td>\n",
       "      <td>...</td>\n",
       "      <td>...</td>\n",
       "      <td>...</td>\n",
       "      <td>...</td>\n",
       "      <td>...</td>\n",
       "      <td>...</td>\n",
       "      <td>...</td>\n",
       "      <td>...</td>\n",
       "      <td>...</td>\n",
       "      <td>...</td>\n",
       "      <td>...</td>\n",
       "      <td>...</td>\n",
       "      <td>...</td>\n",
       "      <td>...</td>\n",
       "      <td>...</td>\n",
       "      <td>...</td>\n",
       "      <td>...</td>\n",
       "      <td>...</td>\n",
       "    </tr>\n",
       "    <tr>\n",
       "      <th>2211</th>\n",
       "      <td>0.135772</td>\n",
       "      <td>0.151917</td>\n",
       "      <td>0.356642</td>\n",
       "      <td>-0.104093</td>\n",
       "      <td>1.197646</td>\n",
       "      <td>0.418348</td>\n",
       "      <td>0.066913</td>\n",
       "      <td>0.079693</td>\n",
       "      <td>2.215416</td>\n",
       "      <td>3.919308</td>\n",
       "      <td>...</td>\n",
       "      <td>-0.131574</td>\n",
       "      <td>-0.281773</td>\n",
       "      <td>-0.282705</td>\n",
       "      <td>-0.280839</td>\n",
       "      <td>-0.261661</td>\n",
       "      <td>-0.117148</td>\n",
       "      <td>-0.097812</td>\n",
       "      <td>0.0</td>\n",
       "      <td>0.0</td>\n",
       "      <td>-0.420530</td>\n",
       "    </tr>\n",
       "    <tr>\n",
       "      <th>2212</th>\n",
       "      <td>-1.652863</td>\n",
       "      <td>1.904422</td>\n",
       "      <td>0.467539</td>\n",
       "      <td>0.241428</td>\n",
       "      <td>0.299208</td>\n",
       "      <td>-0.662463</td>\n",
       "      <td>-0.610954</td>\n",
       "      <td>-0.687574</td>\n",
       "      <td>-0.658233</td>\n",
       "      <td>-0.694260</td>\n",
       "      <td>...</td>\n",
       "      <td>0.693232</td>\n",
       "      <td>-0.281773</td>\n",
       "      <td>-0.282705</td>\n",
       "      <td>-0.280839</td>\n",
       "      <td>3.821732</td>\n",
       "      <td>-0.117148</td>\n",
       "      <td>-0.097812</td>\n",
       "      <td>0.0</td>\n",
       "      <td>0.0</td>\n",
       "      <td>-0.420530</td>\n",
       "    </tr>\n",
       "    <tr>\n",
       "      <th>2213</th>\n",
       "      <td>-0.980889</td>\n",
       "      <td>-1.016420</td>\n",
       "      <td>0.188091</td>\n",
       "      <td>1.450751</td>\n",
       "      <td>1.787710</td>\n",
       "      <td>0.544024</td>\n",
       "      <td>0.223001</td>\n",
       "      <td>-0.102990</td>\n",
       "      <td>-0.365998</td>\n",
       "      <td>-0.385402</td>\n",
       "      <td>...</td>\n",
       "      <td>0.280829</td>\n",
       "      <td>-0.281773</td>\n",
       "      <td>3.537258</td>\n",
       "      <td>-0.280839</td>\n",
       "      <td>-0.261661</td>\n",
       "      <td>-0.117148</td>\n",
       "      <td>-0.097812</td>\n",
       "      <td>0.0</td>\n",
       "      <td>0.0</td>\n",
       "      <td>-0.420530</td>\n",
       "    </tr>\n",
       "    <tr>\n",
       "      <th>2214</th>\n",
       "      <td>-0.975948</td>\n",
       "      <td>1.069896</td>\n",
       "      <td>0.675388</td>\n",
       "      <td>-1.417072</td>\n",
       "      <td>0.364441</td>\n",
       "      <td>0.091591</td>\n",
       "      <td>0.209622</td>\n",
       "      <td>0.773887</td>\n",
       "      <td>0.072356</td>\n",
       "      <td>0.328832</td>\n",
       "      <td>...</td>\n",
       "      <td>-0.956381</td>\n",
       "      <td>-0.281773</td>\n",
       "      <td>-0.282705</td>\n",
       "      <td>-0.280839</td>\n",
       "      <td>-0.261661</td>\n",
       "      <td>-0.117148</td>\n",
       "      <td>-0.097812</td>\n",
       "      <td>0.0</td>\n",
       "      <td>0.0</td>\n",
       "      <td>-0.420530</td>\n",
       "    </tr>\n",
       "    <tr>\n",
       "      <th>2215</th>\n",
       "      <td>1.326548</td>\n",
       "      <td>1.236801</td>\n",
       "      <td>0.024705</td>\n",
       "      <td>-0.311405</td>\n",
       "      <td>-0.655568</td>\n",
       "      <td>-0.587058</td>\n",
       "      <td>-0.472705</td>\n",
       "      <td>-0.651038</td>\n",
       "      <td>-0.633880</td>\n",
       "      <td>-0.443313</td>\n",
       "      <td>...</td>\n",
       "      <td>0.693232</td>\n",
       "      <td>-0.281773</td>\n",
       "      <td>-0.282705</td>\n",
       "      <td>-0.280839</td>\n",
       "      <td>-0.261661</td>\n",
       "      <td>-0.117148</td>\n",
       "      <td>-0.097812</td>\n",
       "      <td>0.0</td>\n",
       "      <td>0.0</td>\n",
       "      <td>2.377952</td>\n",
       "    </tr>\n",
       "  </tbody>\n",
       "</table>\n",
       "<p>2216 rows × 24 columns</p>\n",
       "</div>"
      ],
      "text/plain": [
       "          days       age    Income   Recency  MntWines  MntFruits  \\\n",
       "0     1.529129  0.986443  0.234063  0.310532  0.978226   1.549429   \n",
       "1    -1.188411  1.236801 -0.234559 -0.380509 -0.872024  -0.637328   \n",
       "2    -0.205155  0.318822  0.769478 -0.795134  0.358511   0.569159   \n",
       "3    -1.059945 -1.266777 -1.017239 -0.795134 -0.872024  -0.561922   \n",
       "4    -0.951244 -1.016420  0.240221  1.554407 -0.391671   0.418348   \n",
       "...        ...       ...       ...       ...       ...        ...   \n",
       "2211  0.135772  0.151917  0.356642 -0.104093  1.197646   0.418348   \n",
       "2212 -1.652863  1.904422  0.467539  0.241428  0.299208  -0.662463   \n",
       "2213 -0.980889 -1.016420  0.188091  1.450751  1.787710   0.544024   \n",
       "2214 -0.975948  1.069896  0.675388 -1.417072  0.364441   0.091591   \n",
       "2215  1.326548  1.236801  0.024705 -0.311405 -0.655568  -0.587058   \n",
       "\n",
       "      MntMeatProducts  MntFishProducts  MntSweetProducts  MntGoldProds  ...  \\\n",
       "0            1.690227         2.454568          1.484827      0.850031  ...   \n",
       "1           -0.717986        -0.651038         -0.633880     -0.732867  ...   \n",
       "2           -0.178368         1.340203         -0.146821     -0.037937  ...   \n",
       "3           -0.655551        -0.504892         -0.585174     -0.752171  ...   \n",
       "4           -0.218505         0.152766         -0.000703     -0.559135  ...   \n",
       "...               ...              ...               ...           ...  ...   \n",
       "2211         0.066913         0.079693          2.215416      3.919308  ...   \n",
       "2212        -0.610954        -0.687574         -0.658233     -0.694260  ...   \n",
       "2213         0.223001        -0.102990         -0.365998     -0.385402  ...   \n",
       "2214         0.209622         0.773887          0.072356      0.328832  ...   \n",
       "2215        -0.472705        -0.651038         -0.633880     -0.443313  ...   \n",
       "\n",
       "      NumWebVisitsMonth  AcceptedCmp3  AcceptedCmp4  AcceptedCmp5  \\\n",
       "0              0.693232     -0.281773     -0.282705     -0.280839   \n",
       "1             -0.131574     -0.281773     -0.282705     -0.280839   \n",
       "2             -0.543978     -0.281773     -0.282705     -0.280839   \n",
       "3              0.280829     -0.281773     -0.282705     -0.280839   \n",
       "4             -0.131574     -0.281773     -0.282705     -0.280839   \n",
       "...                 ...           ...           ...           ...   \n",
       "2211          -0.131574     -0.281773     -0.282705     -0.280839   \n",
       "2212           0.693232     -0.281773     -0.282705     -0.280839   \n",
       "2213           0.280829     -0.281773      3.537258     -0.280839   \n",
       "2214          -0.956381     -0.281773     -0.282705     -0.280839   \n",
       "2215           0.693232     -0.281773     -0.282705     -0.280839   \n",
       "\n",
       "      AcceptedCmp1  AcceptedCmp2  Complain  Z_CostContact  Z_Revenue  Response  \n",
       "0        -0.261661     -0.117148 -0.097812            0.0        0.0  2.377952  \n",
       "1        -0.261661     -0.117148 -0.097812            0.0        0.0 -0.420530  \n",
       "2        -0.261661     -0.117148 -0.097812            0.0        0.0 -0.420530  \n",
       "3        -0.261661     -0.117148 -0.097812            0.0        0.0 -0.420530  \n",
       "4        -0.261661     -0.117148 -0.097812            0.0        0.0 -0.420530  \n",
       "...            ...           ...       ...            ...        ...       ...  \n",
       "2211     -0.261661     -0.117148 -0.097812            0.0        0.0 -0.420530  \n",
       "2212      3.821732     -0.117148 -0.097812            0.0        0.0 -0.420530  \n",
       "2213     -0.261661     -0.117148 -0.097812            0.0        0.0 -0.420530  \n",
       "2214     -0.261661     -0.117148 -0.097812            0.0        0.0 -0.420530  \n",
       "2215     -0.261661     -0.117148 -0.097812            0.0        0.0  2.377952  \n",
       "\n",
       "[2216 rows x 24 columns]"
      ]
     },
     "execution_count": 101,
     "metadata": {},
     "output_type": "execute_result"
    }
   ],
   "source": [
    "X_features_scaling"
   ]
  },
  {
   "cell_type": "code",
   "execution_count": 102,
   "metadata": {},
   "outputs": [],
   "source": [
    "nb = NearestNeighbors(n_neighbors = 4).fit(X_features_scaling)"
   ]
  },
  {
   "cell_type": "code",
   "execution_count": 103,
   "metadata": {},
   "outputs": [],
   "source": [
    "minPts = 4"
   ]
  },
  {
   "cell_type": "code",
   "execution_count": 104,
   "metadata": {},
   "outputs": [],
   "source": [
    "distances, indices = nb.kneighbors(X_features_scaling)"
   ]
  },
  {
   "cell_type": "code",
   "execution_count": 109,
   "metadata": {
    "scrolled": true
   },
   "outputs": [
    {
     "data": {
      "text/plain": [
       "[<matplotlib.lines.Line2D at 0x26a91656a00>]"
      ]
     },
     "execution_count": 109,
     "metadata": {},
     "output_type": "execute_result"
    },
    {
     "data": {
      "image/png": "[encoded data removed]",
      "text/plain": [
       "<Figure size 432x288 with 1 Axes>"
      ]
     },
     "metadata": {
      "needs_background": "light"
     },
     "output_type": "display_data"
    }
   ],
   "source": [
    "distance = sorted(distances[:, minPts-1], reverse = True)\n",
    "plt.plot(list(range(1,2217)), distance)\n",
    "#6.0정도에서 꺾이는 것을 확인 가능 =>eps=6"
   ]
  },
  {
   "cell_type": "code",
   "execution_count": 111,
   "metadata": {
    "id": "b9tu38-Fo98h"
   },
   "outputs": [
    {
     "data": {
      "text/plain": [
       "array([0, 0, 0, ..., 0, 0, 0], dtype=int64)"
      ]
     },
     "execution_count": 111,
     "metadata": {},
     "output_type": "execute_result"
    }
   ],
   "source": [
    "## eps는 ########(숫자)########, minPts는 ########(숫자)########로 설정한 뒤 DBSCAN를 활용하여 예측된 y값을 만들어 봅시다.\n",
    "\n",
    "dbscan = DBSCAN(eps = 6 , min_samples = 4, metric = 'euclidean') #eps는 0-1\n",
    "\n",
    "y_dbscan = dbscan.fit_predict(X_features_scaling)\n",
    "y_dbscan"
   ]
  },
  {
   "cell_type": "code",
   "execution_count": 112,
   "metadata": {
    "id": "1xVqMxMtqK_r"
   },
   "outputs": [],
   "source": [
    "X_train_lda['dbscan'] = y_dbscan"
   ]
  },
  {
   "cell_type": "markdown",
   "metadata": {
    "id": "3Rf8Hy_n3aEu"
   },
   "source": [
    "####시각화"
   ]
  },
  {
   "cell_type": "code",
   "execution_count": 113,
   "metadata": {
    "id": "z7xQlZz-dL9K"
   },
   "outputs": [
    {
     "data": {
      "image/png": "[encoded data removed]",
      "text/plain": [
       "<Figure size 406x360 with 1 Axes>"
      ]
     },
     "metadata": {
      "needs_background": "light"
     },
     "output_type": "display_data"
    }
   ],
   "source": [
    "sns.lmplot(x = 'lda_1', y = 'lda_2', data = X_train_lda, hue = 'dbscan', fit_reg = False)\n",
    "plt.show()"
   ]
  },
  {
   "cell_type": "markdown",
   "metadata": {
    "id": "HJpetyIbiEoy"
   },
   "source": [
    "###Validation"
   ]
  },
  {
   "cell_type": "markdown",
   "metadata": {
    "id": "CNaob-PWiI9e"
   },
   "source": [
    "실루엣 계수를 사용하여 각 클러스터링의 성능을 평가해봅시다."
   ]
  },
  {
   "cell_type": "markdown",
   "metadata": {
    "id": "n8o06Vu4irOF"
   },
   "source": [
    "\n",
    "\n",
    "---\n",
    "\n"
   ]
  },
  {
   "cell_type": "markdown",
   "metadata": {
    "id": "r9KRTq-biRY3"
   },
   "source": [
    "(Q) 실루엣 계수로 평가하기 전에, 육안 상으로 어떠한 알고리즘의 성능이 제일 높아 보이며 어떠한 알고리즘의 성능이 제일 낮아 보이는지 의견을 적어주세요."
   ]
  },
  {
   "cell_type": "markdown",
   "metadata": {
    "id": "Rv3V8sfuihsF"
   },
   "source": [
    "육안 상으로는 K-means clustering의 성능이 제일 낮아보이고 Hierarchical Clustering의 성능이 가장 높은 것처럼 보인다."
   ]
  },
  {
   "cell_type": "markdown",
   "metadata": {
    "id": "R_QgoTfIisvg"
   },
   "source": [
    "\n",
    "\n",
    "---\n",
    "\n"
   ]
  },
  {
   "cell_type": "markdown",
   "metadata": {
    "id": "Jv4WfZO4iuVF"
   },
   "source": [
    "이제 실루엣 계수로 성능을 평가해 봅시다!"
   ]
  },
  {
   "cell_type": "code",
   "execution_count": 114,
   "metadata": {
    "id": "fULi7pCudtHs"
   },
   "outputs": [],
   "source": [
    "## 필요한 라이브러리를 임포트합니다.\n",
    "\n",
    "import sklearn.metrics as metrics\n",
    "from sklearn.metrics.cluster import silhouette_score"
   ]
  },
  {
   "cell_type": "markdown",
   "metadata": {
    "id": "5bAQ6CyW6Uth"
   },
   "source": [
    "K-means Clustering의 실루엣 계수입니다."
   ]
  },
  {
   "cell_type": "code",
   "execution_count": 115,
   "metadata": {
    "colab": {
     "base_uri": "https://localhost:8080/"
    },
    "id": "KDKJhjx6ojLj",
    "outputId": "eb814db8-a503-4b17-ef5f-c9b0734b2d38"
   },
   "outputs": [
    {
     "name": "stdout",
     "output_type": "stream",
     "text": [
      "Silhouette score is 0.19062058158068393.\n"
     ]
    }
   ],
   "source": [
    "coef_km = metrics.silhouette_score(X_features_scaling, y_km)\n",
    "print('Silhouette score is {}.'.format(coef_km))"
   ]
  },
  {
   "cell_type": "markdown",
   "metadata": {
    "id": "WdNkPAm76eq9"
   },
   "source": [
    "Hierarchical Clustering의 실루엣 계수입니다."
   ]
  },
  {
   "cell_type": "code",
   "execution_count": 116,
   "metadata": {
    "colab": {
     "base_uri": "https://localhost:8080/"
    },
    "id": "x1jUkQM_pbMk",
    "outputId": "a5177f8a-0084-4115-e718-e9416a2e78a9"
   },
   "outputs": [
    {
     "name": "stdout",
     "output_type": "stream",
     "text": [
      "Silhouette score is 0.17142231156823046.\n"
     ]
    }
   ],
   "source": [
    "## Hierarchical Clustering\n",
    "\n",
    "coef_hc = metrics.silhouette_score(X_features_scaling, y_agghc)\n",
    "print('Silhouette score is {}.'.format(coef_hc))"
   ]
  },
  {
   "cell_type": "markdown",
   "metadata": {
    "id": "4m7AX0LL6iV-"
   },
   "source": [
    "DBSCAN의 실루엣 계수입니다."
   ]
  },
  {
   "cell_type": "code",
   "execution_count": 119,
   "metadata": {
    "colab": {
     "base_uri": "https://localhost:8080/"
    },
    "id": "vppodq1EqLbA",
    "outputId": "b17b2629-ee7e-4b21-a051-680bc40e6880"
   },
   "outputs": [
    {
     "name": "stdout",
     "output_type": "stream",
     "text": [
      "Silhouette score is 0.48936194362599106.\n"
     ]
    }
   ],
   "source": [
    "## DBSCAN\n",
    "\n",
    "coef_db = metrics.silhouette_score(X_features_scaling, y_dbscan)\n",
    "print('Silhouette score is {}.'.format(coef_db))"
   ]
  },
  {
   "cell_type": "markdown",
   "metadata": {
    "id": "4Aef3wru4ycD"
   },
   "source": [
    "(Q) 실루엣 계수를 기반으로, 클러스터링 알고리즘의 성능을 높은 순대로 적어주세요."
   ]
  },
  {
   "cell_type": "markdown",
   "metadata": {
    "id": "-95mdNXC4coe"
   },
   "source": [
    "실루엣 계수가 클수록 클러스터링 알고리즘의 성능이 높다고 볼 수 있으므로, 알고리즘 성능을 높은 순으로 나열하면 다음과 같다. \n",
    "\n",
    "DBSCAN > K-means Clustering > Hierarchical Clustering"
   ]
  },
  {
   "cell_type": "markdown",
   "metadata": {
    "id": "TrYTuEi34lG7"
   },
   "source": [
    "(Q) 클러스터링 결과에 대한 해석을 적어주세요. (참고로, 실루엣 계수는 -1에서 1 사이의 값을 가집니다.)"
   ]
  },
  {
   "cell_type": "markdown",
   "metadata": {
    "id": "YIoqd0OZ4tLF"
   },
   "source": [
    "일반적으로 실루엣 계수가 0.5이상 그리고 1에 가까울 수록 클러스터링 결과가 적절하다고 판단된다. 이 점을 고려하여 결과를 해석해보면, DBSCAN의 결과는 클러스터링이 잘 되었다고 판단할 수 있을 것 같다.\n"
   ]
  },
  {
   "cell_type": "markdown",
   "metadata": {
    "id": "9m2Rvla1fgj1"
   },
   "source": [
    "(Q) 마케팅 캠페인과 관련하여 도출할 수 있는 인사이트를 적어주세요."
   ]
  },
  {
   "cell_type": "markdown",
   "metadata": {
    "id": "a4B84sjvflRg"
   },
   "source": [
    "모든 알고리즘 결과에서 참여 횟수가 0번과 2번인 사람들은 clustering이 다른 참여횟수의 사람보다 비교적 잘 이루어진 결과가 나왔다. 따라서, 0번과 2번 참여하는 사람들의 경우 어떠한 공통점을 가지고 있을 것이라 생각되며, 이를 분석하여 마켓팅 캠페인을 시도하면 더 좋은 효과를 이끌어낼 수 있을 것 같다."
   ]
  }
 ],
 "metadata": {
  "colab": {
   "provenance": []
  },
  "kernelspec": {
   "display_name": "Python 3 (ipykernel)",
   "language": "python",
   "name": "python3"
  },
  "language_info": {
   "codemirror_mode": {
    "name": "ipython",
    "version": 3
   },
   "file_extension": ".py",
   "mimetype": "text/x-python",
   "name": "python",
   "nbconvert_exporter": "python",
   "pygments_lexer": "ipython3",
   "version": "3.9.12"
  }
 },
 "nbformat": 4,
 "nbformat_minor": 1
}
