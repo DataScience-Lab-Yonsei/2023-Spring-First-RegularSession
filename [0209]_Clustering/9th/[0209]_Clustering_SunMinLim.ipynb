{
  "nbformat": 4,
  "nbformat_minor": 0,
  "metadata": {
    "colab": {
      "provenance": [],
      "collapsed_sections": [
        "nB6bgvFjwvDC"
      ],
      "toc_visible": true
    },
    "kernelspec": {
      "name": "python3",
      "display_name": "Python 3"
    },
    "language_info": {
      "name": "python"
    }
  },
  "cells": [
    {
      "cell_type": "markdown",
      "source": [
        "주어진 데이터셋을 차원 축소한 뒤 **다양한 알고리즘**을 적용하여 클러스터링을 진행하고, 결과를 시각화하는 작업을 직접 해보면서 **비지도학습** (Unsupervised Learning)에 대한 이해도를 높여 봅시다."
      ],
      "metadata": {
        "id": "OvZ4RWub-tp5"
      }
    },
    {
      "cell_type": "code",
      "execution_count": 175,
      "metadata": {
        "id": "sPkBwLLC_LpB"
      },
      "outputs": [],
      "source": [
        "## 필요한 라이브러리를 임포트합니다.\n",
        "\n",
        "import pandas as pd\n",
        "import numpy as np"
      ]
    },
    {
      "cell_type": "code",
      "source": [
        "## 시각화 관련 라이브러리를 임포트합니다.\n",
        "\n",
        "from matplotlib import pyplot as plt\n",
        "import seaborn as sns"
      ],
      "metadata": {
        "id": "OtnrxMvB-mV_"
      },
      "execution_count": 176,
      "outputs": []
    },
    {
      "cell_type": "markdown",
      "source": [
        "###데이터"
      ],
      "metadata": {
        "id": "q2EVaet0fezv"
      }
    },
    {
      "cell_type": "markdown",
      "source": [
        "사용할 데이터: 'Marketing Campaign.csv'"
      ],
      "metadata": {
        "id": "u93F5Rxodjhg"
      }
    },
    {
      "cell_type": "markdown",
      "source": [
        "주어진 데이터는 마케팅 캠페인을 펼치고자 하는 소비자들에 대한 정보를 나타낸 데이터입니다. 해당 소비자들을 알맞게 군집화시키는 것이 우리의 목적입니다.\n",
        "\n",
        "총 29개의 column으로 구성되어 있습니다. \n",
        "\n",
        "\n",
        "\n",
        "---\n",
        "\n",
        "\n",
        "\n",
        "\n",
        "\n"
      ],
      "metadata": {
        "id": "3V10T3GMdkkq"
      }
    },
    {
      "cell_type": "markdown",
      "source": [
        "데이터에 대한 자세한 설명은 해당 kaggle 페이지에서 확인하실 수 있습니다.\n",
        "\n",
        "https://www.kaggle.com/datasets/rodsaldanha/arketing-campaign"
      ],
      "metadata": {
        "id": "bmzh86T1ftm5"
      }
    },
    {
      "cell_type": "markdown",
      "source": [
        "데이터를 불러옵니다."
      ],
      "metadata": {
        "id": "13998SwmXdYu"
      }
    },
    {
      "cell_type": "code",
      "source": [
        "## drive에 있는 데이터셋을 불러오기 위해 드라이브와 연동을 합니다.\n",
        "\n",
        "from google.colab import drive\n",
        "drive.mount('/content/drive')"
      ],
      "metadata": {
        "colab": {
          "base_uri": "https://localhost:8080/"
        },
        "id": "j9-R3h9_QgIS",
        "outputId": "b463007d-b0cf-4068-b72d-50a9803e7653"
      },
      "execution_count": 177,
      "outputs": [
        {
          "output_type": "stream",
          "name": "stdout",
          "text": [
            "Drive already mounted at /content/drive; to attempt to forcibly remount, call drive.mount(\"/content/drive\", force_remount=True).\n"
          ]
        }
      ]
    },
    {
      "cell_type": "code",
      "source": [
        "## 'Marketing_campaign' 데이터의 위치를 불러와 저장합니다.\n",
        "\n",
        "data = pd.read_csv('/content/drive/MyDrive/DSL/marketing_campaign.csv', \\\n",
        "                   sep = ';')\n",
        "data.head()"
      ],
      "metadata": {
        "colab": {
          "base_uri": "https://localhost:8080/",
          "height": 300
        },
        "id": "aavBGusyFTc0",
        "outputId": "743f2b18-dfd0-4bbb-ecdb-7b73b3d2a6ec"
      },
      "execution_count": 178,
      "outputs": [
        {
          "output_type": "execute_result",
          "data": {
            "text/plain": [
              "     ID  Year_Birth   Education Marital_Status   Income  Kidhome  Teenhome  \\\n",
              "0  5524        1957  Graduation         Single  58138.0        0         0   \n",
              "1  2174        1954  Graduation         Single  46344.0        1         1   \n",
              "2  4141        1965  Graduation       Together  71613.0        0         0   \n",
              "3  6182        1984  Graduation       Together  26646.0        1         0   \n",
              "4  5324        1981         PhD        Married  58293.0        1         0   \n",
              "\n",
              "  Dt_Customer  Recency  MntWines  ...  NumWebVisitsMonth  AcceptedCmp3  \\\n",
              "0  2012-09-04       58       635  ...                  7             0   \n",
              "1  2014-03-08       38        11  ...                  5             0   \n",
              "2  2013-08-21       26       426  ...                  4             0   \n",
              "3  2014-02-10       26        11  ...                  6             0   \n",
              "4  2014-01-19       94       173  ...                  5             0   \n",
              "\n",
              "   AcceptedCmp4  AcceptedCmp5  AcceptedCmp1  AcceptedCmp2  Complain  \\\n",
              "0             0             0             0             0         0   \n",
              "1             0             0             0             0         0   \n",
              "2             0             0             0             0         0   \n",
              "3             0             0             0             0         0   \n",
              "4             0             0             0             0         0   \n",
              "\n",
              "   Z_CostContact  Z_Revenue  Response  \n",
              "0              3         11         1  \n",
              "1              3         11         0  \n",
              "2              3         11         0  \n",
              "3              3         11         0  \n",
              "4              3         11         0  \n",
              "\n",
              "[5 rows x 29 columns]"
            ],
            "text/html": [
              "\n",
              "  <div id=\"df-ef80b287-d927-4c1d-99c9-4d541fa8c964\">\n",
              "    <div class=\"colab-df-container\">\n",
              "      <div>\n",
              "<style scoped>\n",
              "    .dataframe tbody tr th:only-of-type {\n",
              "        vertical-align: middle;\n",
              "    }\n",
              "\n",
              "    .dataframe tbody tr th {\n",
              "        vertical-align: top;\n",
              "    }\n",
              "\n",
              "    .dataframe thead th {\n",
              "        text-align: right;\n",
              "    }\n",
              "</style>\n",
              "<table border=\"1\" class=\"dataframe\">\n",
              "  <thead>\n",
              "    <tr style=\"text-align: right;\">\n",
              "      <th></th>\n",
              "      <th>ID</th>\n",
              "      <th>Year_Birth</th>\n",
              "      <th>Education</th>\n",
              "      <th>Marital_Status</th>\n",
              "      <th>Income</th>\n",
              "      <th>Kidhome</th>\n",
              "      <th>Teenhome</th>\n",
              "      <th>Dt_Customer</th>\n",
              "      <th>Recency</th>\n",
              "      <th>MntWines</th>\n",
              "      <th>...</th>\n",
              "      <th>NumWebVisitsMonth</th>\n",
              "      <th>AcceptedCmp3</th>\n",
              "      <th>AcceptedCmp4</th>\n",
              "      <th>AcceptedCmp5</th>\n",
              "      <th>AcceptedCmp1</th>\n",
              "      <th>AcceptedCmp2</th>\n",
              "      <th>Complain</th>\n",
              "      <th>Z_CostContact</th>\n",
              "      <th>Z_Revenue</th>\n",
              "      <th>Response</th>\n",
              "    </tr>\n",
              "  </thead>\n",
              "  <tbody>\n",
              "    <tr>\n",
              "      <th>0</th>\n",
              "      <td>5524</td>\n",
              "      <td>1957</td>\n",
              "      <td>Graduation</td>\n",
              "      <td>Single</td>\n",
              "      <td>58138.0</td>\n",
              "      <td>0</td>\n",
              "      <td>0</td>\n",
              "      <td>2012-09-04</td>\n",
              "      <td>58</td>\n",
              "      <td>635</td>\n",
              "      <td>...</td>\n",
              "      <td>7</td>\n",
              "      <td>0</td>\n",
              "      <td>0</td>\n",
              "      <td>0</td>\n",
              "      <td>0</td>\n",
              "      <td>0</td>\n",
              "      <td>0</td>\n",
              "      <td>3</td>\n",
              "      <td>11</td>\n",
              "      <td>1</td>\n",
              "    </tr>\n",
              "    <tr>\n",
              "      <th>1</th>\n",
              "      <td>2174</td>\n",
              "      <td>1954</td>\n",
              "      <td>Graduation</td>\n",
              "      <td>Single</td>\n",
              "      <td>46344.0</td>\n",
              "      <td>1</td>\n",
              "      <td>1</td>\n",
              "      <td>2014-03-08</td>\n",
              "      <td>38</td>\n",
              "      <td>11</td>\n",
              "      <td>...</td>\n",
              "      <td>5</td>\n",
              "      <td>0</td>\n",
              "      <td>0</td>\n",
              "      <td>0</td>\n",
              "      <td>0</td>\n",
              "      <td>0</td>\n",
              "      <td>0</td>\n",
              "      <td>3</td>\n",
              "      <td>11</td>\n",
              "      <td>0</td>\n",
              "    </tr>\n",
              "    <tr>\n",
              "      <th>2</th>\n",
              "      <td>4141</td>\n",
              "      <td>1965</td>\n",
              "      <td>Graduation</td>\n",
              "      <td>Together</td>\n",
              "      <td>71613.0</td>\n",
              "      <td>0</td>\n",
              "      <td>0</td>\n",
              "      <td>2013-08-21</td>\n",
              "      <td>26</td>\n",
              "      <td>426</td>\n",
              "      <td>...</td>\n",
              "      <td>4</td>\n",
              "      <td>0</td>\n",
              "      <td>0</td>\n",
              "      <td>0</td>\n",
              "      <td>0</td>\n",
              "      <td>0</td>\n",
              "      <td>0</td>\n",
              "      <td>3</td>\n",
              "      <td>11</td>\n",
              "      <td>0</td>\n",
              "    </tr>\n",
              "    <tr>\n",
              "      <th>3</th>\n",
              "      <td>6182</td>\n",
              "      <td>1984</td>\n",
              "      <td>Graduation</td>\n",
              "      <td>Together</td>\n",
              "      <td>26646.0</td>\n",
              "      <td>1</td>\n",
              "      <td>0</td>\n",
              "      <td>2014-02-10</td>\n",
              "      <td>26</td>\n",
              "      <td>11</td>\n",
              "      <td>...</td>\n",
              "      <td>6</td>\n",
              "      <td>0</td>\n",
              "      <td>0</td>\n",
              "      <td>0</td>\n",
              "      <td>0</td>\n",
              "      <td>0</td>\n",
              "      <td>0</td>\n",
              "      <td>3</td>\n",
              "      <td>11</td>\n",
              "      <td>0</td>\n",
              "    </tr>\n",
              "    <tr>\n",
              "      <th>4</th>\n",
              "      <td>5324</td>\n",
              "      <td>1981</td>\n",
              "      <td>PhD</td>\n",
              "      <td>Married</td>\n",
              "      <td>58293.0</td>\n",
              "      <td>1</td>\n",
              "      <td>0</td>\n",
              "      <td>2014-01-19</td>\n",
              "      <td>94</td>\n",
              "      <td>173</td>\n",
              "      <td>...</td>\n",
              "      <td>5</td>\n",
              "      <td>0</td>\n",
              "      <td>0</td>\n",
              "      <td>0</td>\n",
              "      <td>0</td>\n",
              "      <td>0</td>\n",
              "      <td>0</td>\n",
              "      <td>3</td>\n",
              "      <td>11</td>\n",
              "      <td>0</td>\n",
              "    </tr>\n",
              "  </tbody>\n",
              "</table>\n",
              "<p>5 rows × 29 columns</p>\n",
              "</div>\n",
              "      <button class=\"colab-df-convert\" onclick=\"convertToInteractive('df-ef80b287-d927-4c1d-99c9-4d541fa8c964')\"\n",
              "              title=\"Convert this dataframe to an interactive table.\"\n",
              "              style=\"display:none;\">\n",
              "        \n",
              "  <svg xmlns=\"http://www.w3.org/2000/svg\" height=\"24px\"viewBox=\"0 0 24 24\"\n",
              "       width=\"24px\">\n",
              "    <path d=\"M0 0h24v24H0V0z\" fill=\"none\"/>\n",
              "    <path d=\"M18.56 5.44l.94 2.06.94-2.06 2.06-.94-2.06-.94-.94-2.06-.94 2.06-2.06.94zm-11 1L8.5 8.5l.94-2.06 2.06-.94-2.06-.94L8.5 2.5l-.94 2.06-2.06.94zm10 10l.94 2.06.94-2.06 2.06-.94-2.06-.94-.94-2.06-.94 2.06-2.06.94z\"/><path d=\"M17.41 7.96l-1.37-1.37c-.4-.4-.92-.59-1.43-.59-.52 0-1.04.2-1.43.59L10.3 9.45l-7.72 7.72c-.78.78-.78 2.05 0 2.83L4 21.41c.39.39.9.59 1.41.59.51 0 1.02-.2 1.41-.59l7.78-7.78 2.81-2.81c.8-.78.8-2.07 0-2.86zM5.41 20L4 18.59l7.72-7.72 1.47 1.35L5.41 20z\"/>\n",
              "  </svg>\n",
              "      </button>\n",
              "      \n",
              "  <style>\n",
              "    .colab-df-container {\n",
              "      display:flex;\n",
              "      flex-wrap:wrap;\n",
              "      gap: 12px;\n",
              "    }\n",
              "\n",
              "    .colab-df-convert {\n",
              "      background-color: #E8F0FE;\n",
              "      border: none;\n",
              "      border-radius: 50%;\n",
              "      cursor: pointer;\n",
              "      display: none;\n",
              "      fill: #1967D2;\n",
              "      height: 32px;\n",
              "      padding: 0 0 0 0;\n",
              "      width: 32px;\n",
              "    }\n",
              "\n",
              "    .colab-df-convert:hover {\n",
              "      background-color: #E2EBFA;\n",
              "      box-shadow: 0px 1px 2px rgba(60, 64, 67, 0.3), 0px 1px 3px 1px rgba(60, 64, 67, 0.15);\n",
              "      fill: #174EA6;\n",
              "    }\n",
              "\n",
              "    [theme=dark] .colab-df-convert {\n",
              "      background-color: #3B4455;\n",
              "      fill: #D2E3FC;\n",
              "    }\n",
              "\n",
              "    [theme=dark] .colab-df-convert:hover {\n",
              "      background-color: #434B5C;\n",
              "      box-shadow: 0px 1px 3px 1px rgba(0, 0, 0, 0.15);\n",
              "      filter: drop-shadow(0px 1px 2px rgba(0, 0, 0, 0.3));\n",
              "      fill: #FFFFFF;\n",
              "    }\n",
              "  </style>\n",
              "\n",
              "      <script>\n",
              "        const buttonEl =\n",
              "          document.querySelector('#df-ef80b287-d927-4c1d-99c9-4d541fa8c964 button.colab-df-convert');\n",
              "        buttonEl.style.display =\n",
              "          google.colab.kernel.accessAllowed ? 'block' : 'none';\n",
              "\n",
              "        async function convertToInteractive(key) {\n",
              "          const element = document.querySelector('#df-ef80b287-d927-4c1d-99c9-4d541fa8c964');\n",
              "          const dataTable =\n",
              "            await google.colab.kernel.invokeFunction('convertToInteractive',\n",
              "                                                     [key], {});\n",
              "          if (!dataTable) return;\n",
              "\n",
              "          const docLinkHtml = 'Like what you see? Visit the ' +\n",
              "            '<a target=\"_blank\" href=https://colab.research.google.com/notebooks/data_table.ipynb>data table notebook</a>'\n",
              "            + ' to learn more about interactive tables.';\n",
              "          element.innerHTML = '';\n",
              "          dataTable['output_type'] = 'display_data';\n",
              "          await google.colab.output.renderOutput(dataTable, element);\n",
              "          const docLink = document.createElement('div');\n",
              "          docLink.innerHTML = docLinkHtml;\n",
              "          element.appendChild(docLink);\n",
              "        }\n",
              "      </script>\n",
              "    </div>\n",
              "  </div>\n",
              "  "
            ]
          },
          "metadata": {},
          "execution_count": 178
        }
      ]
    },
    {
      "cell_type": "markdown",
      "source": [
        "### 데이터 전처리"
      ],
      "metadata": {
        "id": "N9QSTEvPRK-t"
      }
    },
    {
      "cell_type": "code",
      "source": [
        "## 등록한 이후에 현재까지의 기간(회원 일수)를 'days'라는 변수로 저장.\n",
        "from datetime import datetime\n",
        "y = pd.to_datetime(datetime.today().strftime(\"%Y-%m-%d\")) #datetime 타입으로 변환\n",
        "\n",
        "data.Dt_Customer = pd.to_datetime(data.Dt_Customer) #datetime 타입으로 변환\n",
        "data['days'] = y - data.Dt_Customer\n",
        "data['days'] = data['days'] / np.timedelta64(1, 'D')\n",
        "data['days'] = data['days'].astype(int) #int형으로 변환\n",
        "data['days'][:5]"
      ],
      "metadata": {
        "id": "y84-iEHeLRsY",
        "colab": {
          "base_uri": "https://localhost:8080/"
        },
        "outputId": "335e69e2-b8a3-49fd-e9c5-158223d6b52e"
      },
      "execution_count": 179,
      "outputs": [
        {
          "output_type": "execute_result",
          "data": {
            "text/plain": [
              "0    3814\n",
              "1    3264\n",
              "2    3463\n",
              "3    3290\n",
              "4    3312\n",
              "Name: days, dtype: int64"
            ]
          },
          "metadata": {},
          "execution_count": 179
        }
      ]
    },
    {
      "cell_type": "code",
      "source": [
        "## 나이를 age에 저장\n",
        "data['age'] = 2024-data['Year_Birth']"
      ],
      "metadata": {
        "id": "uNjip3heP_8V"
      },
      "execution_count": 180,
      "outputs": []
    },
    {
      "cell_type": "code",
      "source": [
        "## 마케팅 캠페인에서의 총 참여 횟수\n",
        "data['CampaignAttendance'] = data.iloc[:,20:25].sum(axis=1)\n",
        "\n",
        "## 이 데이터랑 군집화 결과가 얼마나 유사하게, 또는 다르게 나오는지 비교해봅시다~!!"
      ],
      "metadata": {
        "id": "mFGUXheeRyRr"
      },
      "execution_count": 181,
      "outputs": []
    },
    {
      "cell_type": "code",
      "source": [
        "data.columns\n",
        "\n",
        "features = ['days', 'age', 'Income', 'Recency', 'MntWines', 'MntFruits',\\\n",
        "                     'MntMeatProducts', 'MntFishProducts', 'MntSweetProducts',\\\n",
        "                     'MntGoldProds', 'NumDealsPurchases','NumWebPurchases', \\\n",
        "                     'NumCatalogPurchases', 'NumStorePurchases', 'NumWebVisitsMonth',\\\n",
        "                    'AcceptedCmp3', 'AcceptedCmp4', 'AcceptedCmp5', 'AcceptedCmp1',\\\n",
        "                    'AcceptedCmp2', 'Complain', 'Z_CostContact', 'Z_Revenue', 'Response','CampaignAttendance'] #우리가 고려할 변수들"
      ],
      "metadata": {
        "id": "GTOPK6rWTUj4"
      },
      "execution_count": 182,
      "outputs": []
    },
    {
      "cell_type": "code",
      "source": [
        "X_features = data[features]\n",
        "X_features = X_features.dropna().reset_index(drop = True) #결측치 제거\n",
        "\n",
        "y_label = X_features['CampaignAttendance'] #캠페인에서의 총 참여 횟수를 임의의 라벨값으로 설정 -> 기준으로 삼아보자.\n",
        "\n",
        "X_features = X_features.drop(['CampaignAttendance'], axis = 1)"
      ],
      "metadata": {
        "id": "EjWWJ0NDT_EN"
      },
      "execution_count": 183,
      "outputs": []
    },
    {
      "cell_type": "code",
      "source": [
        "## 각 변수들을 '표준화' scaling 합니다.\n",
        "from sklearn.preprocessing import StandardScaler\n",
        "scaler = StandardScaler()\n",
        "X_features_scaling  = scaler.fit_transform(X_features)\n",
        "\n",
        "X_features_scaling = pd.DataFrame(X_features_scaling, columns = X_features.columns, index = list(X_features.index.values))"
      ],
      "metadata": {
        "id": "F5ZEd_GfLFdx"
      },
      "execution_count": 184,
      "outputs": []
    },
    {
      "cell_type": "markdown",
      "source": [
        "###차원 축소"
      ],
      "metadata": {
        "id": "hSweBGWmgDTy"
      }
    },
    {
      "cell_type": "markdown",
      "source": [
        "데이터를 차원 축소 해봅시다."
      ],
      "metadata": {
        "id": "GqDgcjqM2mrQ"
      }
    },
    {
      "cell_type": "code",
      "source": [
        "from sklearn.discriminant_analysis import LinearDiscriminantAnalysis\n",
        "\n",
        "## LDA\n",
        "lda = LinearDiscriminantAnalysis(n_components = 2)\n",
        "X_train_lda = lda.fit_transform(X_features_scaling, y_label) #차원축소 과정에 y 라벨값을 입력해줌"
      ],
      "metadata": {
        "id": "Fu0ayAvrYeC1"
      },
      "execution_count": 185,
      "outputs": []
    },
    {
      "cell_type": "code",
      "source": [
        "X_train_lda = pd.DataFrame(X_train_lda).loc[:,0:1]\n",
        "X_train_lda = pd.concat((X_train_lda, y_label), axis = 1) #X_train_Ida와 y_label 데이터를 하나로 합치기\n",
        "X_train_lda.columns = ['lda_1', 'lda_2', 'label']\n",
        "X_train_lda\n",
        "\n",
        "sns.lmplot(x = 'lda_1',y = 'lda_2',data = X_train_lda, hue = 'label', fit_reg = False)\n",
        "plt.show()\n",
        "\n",
        "## 우리가 원하는 정답 모양\n",
        "## 캠페인 참여에서의 총 참여 횟수를 라벨값으로 둔 상태에서의 데이터 분포도"
      ],
      "metadata": {
        "id": "eS_siPJ1YoXr",
        "colab": {
          "base_uri": "https://localhost:8080/",
          "height": 365
        },
        "outputId": "e461a21f-cac1-428c-b539-71b8eaccb646"
      },
      "execution_count": 186,
      "outputs": [
        {
          "output_type": "display_data",
          "data": {
            "text/plain": [
              "<Figure size 401.625x360 with 1 Axes>"
            ],
            "image/png": "[encoded data removed]"
          },
          "metadata": {}
        }
      ]
    },
    {
      "cell_type": "markdown",
      "source": [
        "###K-means Clustering"
      ],
      "metadata": {
        "id": "mlmCquwTgNBF"
      }
    },
    {
      "cell_type": "markdown",
      "source": [
        "클러스터링을 돌려 보는 데에 의의가 있기에, 파라미터 값 최적화보다는 각 알고리즘을 사용하면 결과가 어떻게 달라지는 지에 초점을 맞추어 살펴봅니다. 여러 번 시행해보면서 **자유롭게 파라미터를 정해주세요**."
      ],
      "metadata": {
        "id": "lY9vjJLvmtSv"
      }
    },
    {
      "cell_type": "markdown",
      "source": [
        "**(직접 최적의 파라미터 값을 찾아서 설정하고 싶으시다면 훨씬 좋습니다! 해당 과제의 모든 코드는 기본 뼈대일 뿐입니다. 코드를 추가 또는 변경하셔도 좋습니다.)**"
      ],
      "metadata": {
        "id": "UWBpYVvn6Y9-"
      }
    },
    {
      "cell_type": "markdown",
      "source": [
        "다른 x값들에 대해서도 캠페인 참여도, 즉 고객의 충실도를 잘 군집화할 수 있을까요? 클러스터링으로 결과를 확인해봅시다."
      ],
      "metadata": {
        "id": "0NFbMzot24go"
      }
    },
    {
      "cell_type": "markdown",
      "source": [
        "\n",
        "\n",
        "---\n",
        "\n",
        "\n",
        "\n"
      ],
      "metadata": {
        "id": "M6Bnqr3WgOH_"
      }
    },
    {
      "cell_type": "markdown",
      "source": [
        "K-means를 이용하여 클러스터링 해봅시다."
      ],
      "metadata": {
        "id": "TfuCCGgioEbh"
      }
    },
    {
      "cell_type": "code",
      "source": [
        "## 필요한 라이브러리를 임포트합니다.\n",
        "\n",
        "from sklearn.cluster import KMeans"
      ],
      "metadata": {
        "id": "T5c5byPLnB5e"
      },
      "execution_count": 225,
      "outputs": []
    },
    {
      "cell_type": "markdown",
      "source": [
        "#### 최적의 군집 수 k 찾기"
      ],
      "metadata": {
        "id": "vmSuuidAwCz6"
      }
    },
    {
      "cell_type": "code",
      "source": [
        "from yellowbrick.cluster import KElbowVisualizer #elbow method"
      ],
      "metadata": {
        "id": "9dmhpB4RwH-9"
      },
      "execution_count": 226,
      "outputs": []
    },
    {
      "cell_type": "code",
      "source": [
        "sse = []\n",
        "K = range(1, 12)\n",
        "for k in K:\n",
        "  km = KMeans(n_clusters = k)\n",
        "  km = km.fit(X_features_scaling)\n",
        "  sse.append(km.inertia_)\n",
        "\n",
        "plt.plot(K, sse)\n",
        "plt.xlabel('k(# of clusters)')\n",
        "plt.ylabel('SSE')\n",
        "plt.title('Elbow Method For Optimal k', pad = 10)\n",
        "plt.show()"
      ],
      "metadata": {
        "colab": {
          "base_uri": "https://localhost:8080/",
          "height": 380
        },
        "id": "w6XhPNS6wBve",
        "outputId": "3856b3fa-1b4c-47ea-a1fd-9199719630fc"
      },
      "execution_count": 227,
      "outputs": [
        {
          "output_type": "display_data",
          "data": {
            "text/plain": [
              "<Figure size 576x396 with 1 Axes>"
            ],
            "image/png": "[encoded data removed]"
          },
          "metadata": {}
        }
      ]
    },
    {
      "cell_type": "markdown",
      "source": [
        "- 해당 그래프에서 elbow point는 k=2에서 형성된다고 할 수 있다."
      ],
      "metadata": {
        "id": "rLKV4cMrwXR-"
      }
    },
    {
      "cell_type": "code",
      "source": [
        "model = KMeans()"
      ],
      "metadata": {
        "id": "vPgXQ8RhwBqL"
      },
      "execution_count": 228,
      "outputs": []
    },
    {
      "cell_type": "code",
      "source": [
        "elbowvisualizer = KElbowVisualizer(model, k = (2,10), metric = 'silhouette', timings = False)\n",
        "\n",
        "elbowvisualizer.fit(X_features_scaling)  \n",
        "elbowvisualizer.show()"
      ],
      "metadata": {
        "colab": {
          "base_uri": "https://localhost:8080/",
          "height": 394
        },
        "id": "lOHBRzcTwBlD",
        "outputId": "15207ae1-7273-4b74-ba91-4ecb82a5d2ec"
      },
      "execution_count": 229,
      "outputs": [
        {
          "output_type": "display_data",
          "data": {
            "text/plain": [
              "<Figure size 576x396 with 1 Axes>"
            ],
            "image/png": "[encoded data removed]"
          },
          "metadata": {}
        },
        {
          "output_type": "execute_result",
          "data": {
            "text/plain": [
              "<matplotlib.axes._subplots.AxesSubplot at 0x7fabda8fda90>"
            ]
          },
          "metadata": {},
          "execution_count": 229
        }
      ]
    },
    {
      "cell_type": "markdown",
      "source": [
        "- 실루엣 계수를 활용한 elbow method에서도 k=2에서 elbow point가 형성됨을 확인할 수 있습니다."
      ],
      "metadata": {
        "id": "mit4ckIZwpwY"
      }
    },
    {
      "cell_type": "markdown",
      "source": [
        "#### 클러스터링 실행"
      ],
      "metadata": {
        "id": "nB6bgvFjwvDC"
      }
    },
    {
      "cell_type": "code",
      "source": [
        "X_features_scaling"
      ],
      "metadata": {
        "colab": {
          "base_uri": "https://localhost:8080/",
          "height": 0
        },
        "id": "UR0suBg4wBeP",
        "outputId": "f163d5fe-7bdc-4fd0-926a-5187788d8135"
      },
      "execution_count": 230,
      "outputs": [
        {
          "output_type": "execute_result",
          "data": {
            "text/plain": [
              "          days       age    Income   Recency  MntWines  MntFruits  \\\n",
              "0     1.529129  0.986443  0.234063  0.310532  0.978226   1.549429   \n",
              "1    -1.188411  1.236801 -0.234559 -0.380509 -0.872024  -0.637328   \n",
              "2    -0.205155  0.318822  0.769478 -0.795134  0.358511   0.569159   \n",
              "3    -1.059945 -1.266777 -1.017239 -0.795134 -0.872024  -0.561922   \n",
              "4    -0.951244 -1.016420  0.240221  1.554407 -0.391671   0.418348   \n",
              "...        ...       ...       ...       ...       ...        ...   \n",
              "2211  0.135772  0.151917  0.356642 -0.104093  1.197646   0.418348   \n",
              "2212 -1.652863  1.904422  0.467539  0.241428  0.299208  -0.662463   \n",
              "2213 -0.980889 -1.016420  0.188091  1.450751  1.787710   0.544024   \n",
              "2214 -0.975948  1.069896  0.675388 -1.417072  0.364441   0.091591   \n",
              "2215  1.326548  1.236801  0.024705 -0.311405 -0.655568  -0.587058   \n",
              "\n",
              "      MntMeatProducts  MntFishProducts  MntSweetProducts  MntGoldProds  ...  \\\n",
              "0            1.690227         2.454568          1.484827      0.850031  ...   \n",
              "1           -0.717986        -0.651038         -0.633880     -0.732867  ...   \n",
              "2           -0.178368         1.340203         -0.146821     -0.037937  ...   \n",
              "3           -0.655551        -0.504892         -0.585174     -0.752171  ...   \n",
              "4           -0.218505         0.152766         -0.000703     -0.559135  ...   \n",
              "...               ...              ...               ...           ...  ...   \n",
              "2211         0.066913         0.079693          2.215416      3.919308  ...   \n",
              "2212        -0.610954        -0.687574         -0.658233     -0.694260  ...   \n",
              "2213         0.223001        -0.102990         -0.365998     -0.385402  ...   \n",
              "2214         0.209622         0.773887          0.072356      0.328832  ...   \n",
              "2215        -0.472705        -0.651038         -0.633880     -0.443313  ...   \n",
              "\n",
              "      NumWebVisitsMonth  AcceptedCmp3  AcceptedCmp4  AcceptedCmp5  \\\n",
              "0              0.693232     -0.281773     -0.282705     -0.280839   \n",
              "1             -0.131574     -0.281773     -0.282705     -0.280839   \n",
              "2             -0.543978     -0.281773     -0.282705     -0.280839   \n",
              "3              0.280829     -0.281773     -0.282705     -0.280839   \n",
              "4             -0.131574     -0.281773     -0.282705     -0.280839   \n",
              "...                 ...           ...           ...           ...   \n",
              "2211          -0.131574     -0.281773     -0.282705     -0.280839   \n",
              "2212           0.693232     -0.281773     -0.282705     -0.280839   \n",
              "2213           0.280829     -0.281773      3.537258     -0.280839   \n",
              "2214          -0.956381     -0.281773     -0.282705     -0.280839   \n",
              "2215           0.693232     -0.281773     -0.282705     -0.280839   \n",
              "\n",
              "      AcceptedCmp1  AcceptedCmp2  Complain  Z_CostContact  Z_Revenue  Response  \n",
              "0        -0.261661     -0.117148 -0.097812            0.0        0.0  2.377952  \n",
              "1        -0.261661     -0.117148 -0.097812            0.0        0.0 -0.420530  \n",
              "2        -0.261661     -0.117148 -0.097812            0.0        0.0 -0.420530  \n",
              "3        -0.261661     -0.117148 -0.097812            0.0        0.0 -0.420530  \n",
              "4        -0.261661     -0.117148 -0.097812            0.0        0.0 -0.420530  \n",
              "...            ...           ...       ...            ...        ...       ...  \n",
              "2211     -0.261661     -0.117148 -0.097812            0.0        0.0 -0.420530  \n",
              "2212      3.821732     -0.117148 -0.097812            0.0        0.0 -0.420530  \n",
              "2213     -0.261661     -0.117148 -0.097812            0.0        0.0 -0.420530  \n",
              "2214     -0.261661     -0.117148 -0.097812            0.0        0.0 -0.420530  \n",
              "2215     -0.261661     -0.117148 -0.097812            0.0        0.0  2.377952  \n",
              "\n",
              "[2216 rows x 24 columns]"
            ],
            "text/html": [
              "\n",
              "  <div id=\"df-7678f661-8983-4cf5-b21c-78d24bbb7233\">\n",
              "    <div class=\"colab-df-container\">\n",
              "      <div>\n",
              "<style scoped>\n",
              "    .dataframe tbody tr th:only-of-type {\n",
              "        vertical-align: middle;\n",
              "    }\n",
              "\n",
              "    .dataframe tbody tr th {\n",
              "        vertical-align: top;\n",
              "    }\n",
              "\n",
              "    .dataframe thead th {\n",
              "        text-align: right;\n",
              "    }\n",
              "</style>\n",
              "<table border=\"1\" class=\"dataframe\">\n",
              "  <thead>\n",
              "    <tr style=\"text-align: right;\">\n",
              "      <th></th>\n",
              "      <th>days</th>\n",
              "      <th>age</th>\n",
              "      <th>Income</th>\n",
              "      <th>Recency</th>\n",
              "      <th>MntWines</th>\n",
              "      <th>MntFruits</th>\n",
              "      <th>MntMeatProducts</th>\n",
              "      <th>MntFishProducts</th>\n",
              "      <th>MntSweetProducts</th>\n",
              "      <th>MntGoldProds</th>\n",
              "      <th>...</th>\n",
              "      <th>NumWebVisitsMonth</th>\n",
              "      <th>AcceptedCmp3</th>\n",
              "      <th>AcceptedCmp4</th>\n",
              "      <th>AcceptedCmp5</th>\n",
              "      <th>AcceptedCmp1</th>\n",
              "      <th>AcceptedCmp2</th>\n",
              "      <th>Complain</th>\n",
              "      <th>Z_CostContact</th>\n",
              "      <th>Z_Revenue</th>\n",
              "      <th>Response</th>\n",
              "    </tr>\n",
              "  </thead>\n",
              "  <tbody>\n",
              "    <tr>\n",
              "      <th>0</th>\n",
              "      <td>1.529129</td>\n",
              "      <td>0.986443</td>\n",
              "      <td>0.234063</td>\n",
              "      <td>0.310532</td>\n",
              "      <td>0.978226</td>\n",
              "      <td>1.549429</td>\n",
              "      <td>1.690227</td>\n",
              "      <td>2.454568</td>\n",
              "      <td>1.484827</td>\n",
              "      <td>0.850031</td>\n",
              "      <td>...</td>\n",
              "      <td>0.693232</td>\n",
              "      <td>-0.281773</td>\n",
              "      <td>-0.282705</td>\n",
              "      <td>-0.280839</td>\n",
              "      <td>-0.261661</td>\n",
              "      <td>-0.117148</td>\n",
              "      <td>-0.097812</td>\n",
              "      <td>0.0</td>\n",
              "      <td>0.0</td>\n",
              "      <td>2.377952</td>\n",
              "    </tr>\n",
              "    <tr>\n",
              "      <th>1</th>\n",
              "      <td>-1.188411</td>\n",
              "      <td>1.236801</td>\n",
              "      <td>-0.234559</td>\n",
              "      <td>-0.380509</td>\n",
              "      <td>-0.872024</td>\n",
              "      <td>-0.637328</td>\n",
              "      <td>-0.717986</td>\n",
              "      <td>-0.651038</td>\n",
              "      <td>-0.633880</td>\n",
              "      <td>-0.732867</td>\n",
              "      <td>...</td>\n",
              "      <td>-0.131574</td>\n",
              "      <td>-0.281773</td>\n",
              "      <td>-0.282705</td>\n",
              "      <td>-0.280839</td>\n",
              "      <td>-0.261661</td>\n",
              "      <td>-0.117148</td>\n",
              "      <td>-0.097812</td>\n",
              "      <td>0.0</td>\n",
              "      <td>0.0</td>\n",
              "      <td>-0.420530</td>\n",
              "    </tr>\n",
              "    <tr>\n",
              "      <th>2</th>\n",
              "      <td>-0.205155</td>\n",
              "      <td>0.318822</td>\n",
              "      <td>0.769478</td>\n",
              "      <td>-0.795134</td>\n",
              "      <td>0.358511</td>\n",
              "      <td>0.569159</td>\n",
              "      <td>-0.178368</td>\n",
              "      <td>1.340203</td>\n",
              "      <td>-0.146821</td>\n",
              "      <td>-0.037937</td>\n",
              "      <td>...</td>\n",
              "      <td>-0.543978</td>\n",
              "      <td>-0.281773</td>\n",
              "      <td>-0.282705</td>\n",
              "      <td>-0.280839</td>\n",
              "      <td>-0.261661</td>\n",
              "      <td>-0.117148</td>\n",
              "      <td>-0.097812</td>\n",
              "      <td>0.0</td>\n",
              "      <td>0.0</td>\n",
              "      <td>-0.420530</td>\n",
              "    </tr>\n",
              "    <tr>\n",
              "      <th>3</th>\n",
              "      <td>-1.059945</td>\n",
              "      <td>-1.266777</td>\n",
              "      <td>-1.017239</td>\n",
              "      <td>-0.795134</td>\n",
              "      <td>-0.872024</td>\n",
              "      <td>-0.561922</td>\n",
              "      <td>-0.655551</td>\n",
              "      <td>-0.504892</td>\n",
              "      <td>-0.585174</td>\n",
              "      <td>-0.752171</td>\n",
              "      <td>...</td>\n",
              "      <td>0.280829</td>\n",
              "      <td>-0.281773</td>\n",
              "      <td>-0.282705</td>\n",
              "      <td>-0.280839</td>\n",
              "      <td>-0.261661</td>\n",
              "      <td>-0.117148</td>\n",
              "      <td>-0.097812</td>\n",
              "      <td>0.0</td>\n",
              "      <td>0.0</td>\n",
              "      <td>-0.420530</td>\n",
              "    </tr>\n",
              "    <tr>\n",
              "      <th>4</th>\n",
              "      <td>-0.951244</td>\n",
              "      <td>-1.016420</td>\n",
              "      <td>0.240221</td>\n",
              "      <td>1.554407</td>\n",
              "      <td>-0.391671</td>\n",
              "      <td>0.418348</td>\n",
              "      <td>-0.218505</td>\n",
              "      <td>0.152766</td>\n",
              "      <td>-0.000703</td>\n",
              "      <td>-0.559135</td>\n",
              "      <td>...</td>\n",
              "      <td>-0.131574</td>\n",
              "      <td>-0.281773</td>\n",
              "      <td>-0.282705</td>\n",
              "      <td>-0.280839</td>\n",
              "      <td>-0.261661</td>\n",
              "      <td>-0.117148</td>\n",
              "      <td>-0.097812</td>\n",
              "      <td>0.0</td>\n",
              "      <td>0.0</td>\n",
              "      <td>-0.420530</td>\n",
              "    </tr>\n",
              "    <tr>\n",
              "      <th>...</th>\n",
              "      <td>...</td>\n",
              "      <td>...</td>\n",
              "      <td>...</td>\n",
              "      <td>...</td>\n",
              "      <td>...</td>\n",
              "      <td>...</td>\n",
              "      <td>...</td>\n",
              "      <td>...</td>\n",
              "      <td>...</td>\n",
              "      <td>...</td>\n",
              "      <td>...</td>\n",
              "      <td>...</td>\n",
              "      <td>...</td>\n",
              "      <td>...</td>\n",
              "      <td>...</td>\n",
              "      <td>...</td>\n",
              "      <td>...</td>\n",
              "      <td>...</td>\n",
              "      <td>...</td>\n",
              "      <td>...</td>\n",
              "      <td>...</td>\n",
              "    </tr>\n",
              "    <tr>\n",
              "      <th>2211</th>\n",
              "      <td>0.135772</td>\n",
              "      <td>0.151917</td>\n",
              "      <td>0.356642</td>\n",
              "      <td>-0.104093</td>\n",
              "      <td>1.197646</td>\n",
              "      <td>0.418348</td>\n",
              "      <td>0.066913</td>\n",
              "      <td>0.079693</td>\n",
              "      <td>2.215416</td>\n",
              "      <td>3.919308</td>\n",
              "      <td>...</td>\n",
              "      <td>-0.131574</td>\n",
              "      <td>-0.281773</td>\n",
              "      <td>-0.282705</td>\n",
              "      <td>-0.280839</td>\n",
              "      <td>-0.261661</td>\n",
              "      <td>-0.117148</td>\n",
              "      <td>-0.097812</td>\n",
              "      <td>0.0</td>\n",
              "      <td>0.0</td>\n",
              "      <td>-0.420530</td>\n",
              "    </tr>\n",
              "    <tr>\n",
              "      <th>2212</th>\n",
              "      <td>-1.652863</td>\n",
              "      <td>1.904422</td>\n",
              "      <td>0.467539</td>\n",
              "      <td>0.241428</td>\n",
              "      <td>0.299208</td>\n",
              "      <td>-0.662463</td>\n",
              "      <td>-0.610954</td>\n",
              "      <td>-0.687574</td>\n",
              "      <td>-0.658233</td>\n",
              "      <td>-0.694260</td>\n",
              "      <td>...</td>\n",
              "      <td>0.693232</td>\n",
              "      <td>-0.281773</td>\n",
              "      <td>-0.282705</td>\n",
              "      <td>-0.280839</td>\n",
              "      <td>3.821732</td>\n",
              "      <td>-0.117148</td>\n",
              "      <td>-0.097812</td>\n",
              "      <td>0.0</td>\n",
              "      <td>0.0</td>\n",
              "      <td>-0.420530</td>\n",
              "    </tr>\n",
              "    <tr>\n",
              "      <th>2213</th>\n",
              "      <td>-0.980889</td>\n",
              "      <td>-1.016420</td>\n",
              "      <td>0.188091</td>\n",
              "      <td>1.450751</td>\n",
              "      <td>1.787710</td>\n",
              "      <td>0.544024</td>\n",
              "      <td>0.223001</td>\n",
              "      <td>-0.102990</td>\n",
              "      <td>-0.365998</td>\n",
              "      <td>-0.385402</td>\n",
              "      <td>...</td>\n",
              "      <td>0.280829</td>\n",
              "      <td>-0.281773</td>\n",
              "      <td>3.537258</td>\n",
              "      <td>-0.280839</td>\n",
              "      <td>-0.261661</td>\n",
              "      <td>-0.117148</td>\n",
              "      <td>-0.097812</td>\n",
              "      <td>0.0</td>\n",
              "      <td>0.0</td>\n",
              "      <td>-0.420530</td>\n",
              "    </tr>\n",
              "    <tr>\n",
              "      <th>2214</th>\n",
              "      <td>-0.975948</td>\n",
              "      <td>1.069896</td>\n",
              "      <td>0.675388</td>\n",
              "      <td>-1.417072</td>\n",
              "      <td>0.364441</td>\n",
              "      <td>0.091591</td>\n",
              "      <td>0.209622</td>\n",
              "      <td>0.773887</td>\n",
              "      <td>0.072356</td>\n",
              "      <td>0.328832</td>\n",
              "      <td>...</td>\n",
              "      <td>-0.956381</td>\n",
              "      <td>-0.281773</td>\n",
              "      <td>-0.282705</td>\n",
              "      <td>-0.280839</td>\n",
              "      <td>-0.261661</td>\n",
              "      <td>-0.117148</td>\n",
              "      <td>-0.097812</td>\n",
              "      <td>0.0</td>\n",
              "      <td>0.0</td>\n",
              "      <td>-0.420530</td>\n",
              "    </tr>\n",
              "    <tr>\n",
              "      <th>2215</th>\n",
              "      <td>1.326548</td>\n",
              "      <td>1.236801</td>\n",
              "      <td>0.024705</td>\n",
              "      <td>-0.311405</td>\n",
              "      <td>-0.655568</td>\n",
              "      <td>-0.587058</td>\n",
              "      <td>-0.472705</td>\n",
              "      <td>-0.651038</td>\n",
              "      <td>-0.633880</td>\n",
              "      <td>-0.443313</td>\n",
              "      <td>...</td>\n",
              "      <td>0.693232</td>\n",
              "      <td>-0.281773</td>\n",
              "      <td>-0.282705</td>\n",
              "      <td>-0.280839</td>\n",
              "      <td>-0.261661</td>\n",
              "      <td>-0.117148</td>\n",
              "      <td>-0.097812</td>\n",
              "      <td>0.0</td>\n",
              "      <td>0.0</td>\n",
              "      <td>2.377952</td>\n",
              "    </tr>\n",
              "  </tbody>\n",
              "</table>\n",
              "<p>2216 rows × 24 columns</p>\n",
              "</div>\n",
              "      <button class=\"colab-df-convert\" onclick=\"convertToInteractive('df-7678f661-8983-4cf5-b21c-78d24bbb7233')\"\n",
              "              title=\"Convert this dataframe to an interactive table.\"\n",
              "              style=\"display:none;\">\n",
              "        \n",
              "  <svg xmlns=\"http://www.w3.org/2000/svg\" height=\"24px\"viewBox=\"0 0 24 24\"\n",
              "       width=\"24px\">\n",
              "    <path d=\"M0 0h24v24H0V0z\" fill=\"none\"/>\n",
              "    <path d=\"M18.56 5.44l.94 2.06.94-2.06 2.06-.94-2.06-.94-.94-2.06-.94 2.06-2.06.94zm-11 1L8.5 8.5l.94-2.06 2.06-.94-2.06-.94L8.5 2.5l-.94 2.06-2.06.94zm10 10l.94 2.06.94-2.06 2.06-.94-2.06-.94-.94-2.06-.94 2.06-2.06.94z\"/><path d=\"M17.41 7.96l-1.37-1.37c-.4-.4-.92-.59-1.43-.59-.52 0-1.04.2-1.43.59L10.3 9.45l-7.72 7.72c-.78.78-.78 2.05 0 2.83L4 21.41c.39.39.9.59 1.41.59.51 0 1.02-.2 1.41-.59l7.78-7.78 2.81-2.81c.8-.78.8-2.07 0-2.86zM5.41 20L4 18.59l7.72-7.72 1.47 1.35L5.41 20z\"/>\n",
              "  </svg>\n",
              "      </button>\n",
              "      \n",
              "  <style>\n",
              "    .colab-df-container {\n",
              "      display:flex;\n",
              "      flex-wrap:wrap;\n",
              "      gap: 12px;\n",
              "    }\n",
              "\n",
              "    .colab-df-convert {\n",
              "      background-color: #E8F0FE;\n",
              "      border: none;\n",
              "      border-radius: 50%;\n",
              "      cursor: pointer;\n",
              "      display: none;\n",
              "      fill: #1967D2;\n",
              "      height: 32px;\n",
              "      padding: 0 0 0 0;\n",
              "      width: 32px;\n",
              "    }\n",
              "\n",
              "    .colab-df-convert:hover {\n",
              "      background-color: #E2EBFA;\n",
              "      box-shadow: 0px 1px 2px rgba(60, 64, 67, 0.3), 0px 1px 3px 1px rgba(60, 64, 67, 0.15);\n",
              "      fill: #174EA6;\n",
              "    }\n",
              "\n",
              "    [theme=dark] .colab-df-convert {\n",
              "      background-color: #3B4455;\n",
              "      fill: #D2E3FC;\n",
              "    }\n",
              "\n",
              "    [theme=dark] .colab-df-convert:hover {\n",
              "      background-color: #434B5C;\n",
              "      box-shadow: 0px 1px 3px 1px rgba(0, 0, 0, 0.15);\n",
              "      filter: drop-shadow(0px 1px 2px rgba(0, 0, 0, 0.3));\n",
              "      fill: #FFFFFF;\n",
              "    }\n",
              "  </style>\n",
              "\n",
              "      <script>\n",
              "        const buttonEl =\n",
              "          document.querySelector('#df-7678f661-8983-4cf5-b21c-78d24bbb7233 button.colab-df-convert');\n",
              "        buttonEl.style.display =\n",
              "          google.colab.kernel.accessAllowed ? 'block' : 'none';\n",
              "\n",
              "        async function convertToInteractive(key) {\n",
              "          const element = document.querySelector('#df-7678f661-8983-4cf5-b21c-78d24bbb7233');\n",
              "          const dataTable =\n",
              "            await google.colab.kernel.invokeFunction('convertToInteractive',\n",
              "                                                     [key], {});\n",
              "          if (!dataTable) return;\n",
              "\n",
              "          const docLinkHtml = 'Like what you see? Visit the ' +\n",
              "            '<a target=\"_blank\" href=https://colab.research.google.com/notebooks/data_table.ipynb>data table notebook</a>'\n",
              "            + ' to learn more about interactive tables.';\n",
              "          element.innerHTML = '';\n",
              "          dataTable['output_type'] = 'display_data';\n",
              "          await google.colab.output.renderOutput(dataTable, element);\n",
              "          const docLink = document.createElement('div');\n",
              "          docLink.innerHTML = docLinkHtml;\n",
              "          element.appendChild(docLink);\n",
              "        }\n",
              "      </script>\n",
              "    </div>\n",
              "  </div>\n",
              "  "
            ]
          },
          "metadata": {},
          "execution_count": 230
        }
      ]
    },
    {
      "cell_type": "code",
      "source": [
        "## 클러스터 수는 ########(숫자)########로 설정하고, KMeans를 활용하여 예측된 y값을 만들어 봅시다.\n",
        "\n",
        "km = KMeans(n_clusters = 2)\n",
        "\n",
        "y_km = km.fit_predict(X_features_scaling)\n",
        "y_km"
      ],
      "metadata": {
        "id": "e66J9Orqaxdz",
        "colab": {
          "base_uri": "https://localhost:8080/"
        },
        "outputId": "f3e385b6-d830-4c96-c788-c7b419d56066"
      },
      "execution_count": 231,
      "outputs": [
        {
          "output_type": "execute_result",
          "data": {
            "text/plain": [
              "array([1, 0, 1, ..., 1, 1, 0], dtype=int32)"
            ]
          },
          "metadata": {},
          "execution_count": 231
        }
      ]
    },
    {
      "cell_type": "code",
      "source": [
        "X_train_lda['K_means'] = y_km"
      ],
      "metadata": {
        "id": "Xalob8AybpqS"
      },
      "execution_count": 232,
      "outputs": []
    },
    {
      "cell_type": "markdown",
      "source": [
        "####시각화"
      ],
      "metadata": {
        "id": "IpNZtoEJns4f"
      }
    },
    {
      "cell_type": "code",
      "source": [
        "sns.lmplot(x = 'lda_1', y = 'lda_2', data = X_train_lda, hue = 'K_means', fit_reg = False)\n",
        "plt.title('K-means Clustering Result')\n",
        "plt.show()"
      ],
      "metadata": {
        "id": "gMDG4QTFbkjJ",
        "colab": {
          "base_uri": "https://localhost:8080/",
          "height": 380
        },
        "outputId": "0a9a809f-a9c7-4aee-8fd7-81f24c970ba1"
      },
      "execution_count": 233,
      "outputs": [
        {
          "output_type": "display_data",
          "data": {
            "text/plain": [
              "<Figure size 418.75x360 with 1 Axes>"
            ],
            "image/png": "[encoded data removed]"
          },
          "metadata": {}
        }
      ]
    },
    {
      "cell_type": "markdown",
      "source": [
        "###Hierarchical Clustering"
      ],
      "metadata": {
        "id": "D2pTwOUfn62c"
      }
    },
    {
      "cell_type": "markdown",
      "source": [
        "Agglomerative 방법을 이용하여 클러스터링 해봅시다."
      ],
      "metadata": {
        "id": "Ezn3DNWVn-Gx"
      }
    },
    {
      "cell_type": "code",
      "source": [
        "## 필요한 라이브러리를 임포트합니다.\n",
        "\n",
        "from sklearn.cluster import AgglomerativeClustering"
      ],
      "metadata": {
        "id": "GbahvycYcTnC"
      },
      "execution_count": 234,
      "outputs": []
    },
    {
      "cell_type": "code",
      "source": [
        "## 클러스터 수는 ########(숫자)########로 설정하고, Agglomerative를 활용하여 예측된 y값을 만들어 봅시다.\n",
        "\n",
        "agghc = AgglomerativeClustering(n_clusters = 2, affinity = 'euclidean', linkage = 'ward') #와드연결법을 사용합니다.\n",
        "\n",
        "y_agghc = agghc.fit_predict(X_features_scaling)\n",
        "y_agghc"
      ],
      "metadata": {
        "colab": {
          "base_uri": "https://localhost:8080/"
        },
        "id": "Jm_odYfKoQOD",
        "outputId": "1b6a9ae7-ba56-4c6e-f7e3-ccd4c2d1d005"
      },
      "execution_count": 235,
      "outputs": [
        {
          "output_type": "execute_result",
          "data": {
            "text/plain": [
              "array([0, 1, 0, ..., 1, 0, 1])"
            ]
          },
          "metadata": {},
          "execution_count": 235
        }
      ]
    },
    {
      "cell_type": "code",
      "source": [
        "X_train_lda['hierarchical'] = y_agghc"
      ],
      "metadata": {
        "id": "JmPjxgKJodsz"
      },
      "execution_count": 236,
      "outputs": []
    },
    {
      "cell_type": "markdown",
      "source": [
        "####시각화"
      ],
      "metadata": {
        "id": "wtjDpfrN3ZE1"
      }
    },
    {
      "cell_type": "code",
      "source": [
        "sns.lmplot(x = 'lda_1', y = 'lda_2', data = X_train_lda, hue = 'hierarchical', fit_reg = False)\n",
        "plt.title('Hierarchical Clustering Result')\n",
        "plt.show()"
      ],
      "metadata": {
        "id": "Kc_5HVs9cna3",
        "colab": {
          "base_uri": "https://localhost:8080/",
          "height": 380
        },
        "outputId": "ef79634a-eb71-466b-c1a0-81dcc1458c78"
      },
      "execution_count": 237,
      "outputs": [
        {
          "output_type": "display_data",
          "data": {
            "text/plain": [
              "<Figure size 429.75x360 with 1 Axes>"
            ],
            "image/png": "[encoded data removed]"
          },
          "metadata": {}
        }
      ]
    },
    {
      "cell_type": "markdown",
      "source": [
        "###DBSCAN"
      ],
      "metadata": {
        "id": "ZZ4kBn15o0Ln"
      }
    },
    {
      "cell_type": "markdown",
      "source": [
        "DBSCAN을 이용하여 클러스터링 해봅시다."
      ],
      "metadata": {
        "id": "XqccBOmdo2NX"
      }
    },
    {
      "cell_type": "code",
      "source": [
        "## 필요한 라이브러리를 임포트합니다.\n",
        "\n",
        "from sklearn.cluster import DBSCAN"
      ],
      "metadata": {
        "id": "RHb-CAXDcrBh"
      },
      "execution_count": 238,
      "outputs": []
    },
    {
      "cell_type": "markdown",
      "source": [
        "#### 최적의 파라미터 찾기"
      ],
      "metadata": {
        "id": "i3qpfncW9FCp"
      }
    },
    {
      "cell_type": "code",
      "source": [
        "import sklearn.utils\n",
        "import sklearn.neighbors\n",
        "from sklearn.neighbors import NearestNeighbors"
      ],
      "metadata": {
        "id": "STl8BUx69HVU"
      },
      "execution_count": 246,
      "outputs": []
    },
    {
      "cell_type": "code",
      "source": [
        "X_features_scaling"
      ],
      "metadata": {
        "colab": {
          "base_uri": "https://localhost:8080/",
          "height": 488
        },
        "id": "_mkwQN5-9IbR",
        "outputId": "d90c77df-9516-4141-8e98-e50a08cee53c"
      },
      "execution_count": 247,
      "outputs": [
        {
          "output_type": "execute_result",
          "data": {
            "text/plain": [
              "          days       age    Income   Recency  MntWines  MntFruits  \\\n",
              "0     1.529129  0.986443  0.234063  0.310532  0.978226   1.549429   \n",
              "1    -1.188411  1.236801 -0.234559 -0.380509 -0.872024  -0.637328   \n",
              "2    -0.205155  0.318822  0.769478 -0.795134  0.358511   0.569159   \n",
              "3    -1.059945 -1.266777 -1.017239 -0.795134 -0.872024  -0.561922   \n",
              "4    -0.951244 -1.016420  0.240221  1.554407 -0.391671   0.418348   \n",
              "...        ...       ...       ...       ...       ...        ...   \n",
              "2211  0.135772  0.151917  0.356642 -0.104093  1.197646   0.418348   \n",
              "2212 -1.652863  1.904422  0.467539  0.241428  0.299208  -0.662463   \n",
              "2213 -0.980889 -1.016420  0.188091  1.450751  1.787710   0.544024   \n",
              "2214 -0.975948  1.069896  0.675388 -1.417072  0.364441   0.091591   \n",
              "2215  1.326548  1.236801  0.024705 -0.311405 -0.655568  -0.587058   \n",
              "\n",
              "      MntMeatProducts  MntFishProducts  MntSweetProducts  MntGoldProds  ...  \\\n",
              "0            1.690227         2.454568          1.484827      0.850031  ...   \n",
              "1           -0.717986        -0.651038         -0.633880     -0.732867  ...   \n",
              "2           -0.178368         1.340203         -0.146821     -0.037937  ...   \n",
              "3           -0.655551        -0.504892         -0.585174     -0.752171  ...   \n",
              "4           -0.218505         0.152766         -0.000703     -0.559135  ...   \n",
              "...               ...              ...               ...           ...  ...   \n",
              "2211         0.066913         0.079693          2.215416      3.919308  ...   \n",
              "2212        -0.610954        -0.687574         -0.658233     -0.694260  ...   \n",
              "2213         0.223001        -0.102990         -0.365998     -0.385402  ...   \n",
              "2214         0.209622         0.773887          0.072356      0.328832  ...   \n",
              "2215        -0.472705        -0.651038         -0.633880     -0.443313  ...   \n",
              "\n",
              "      NumWebVisitsMonth  AcceptedCmp3  AcceptedCmp4  AcceptedCmp5  \\\n",
              "0              0.693232     -0.281773     -0.282705     -0.280839   \n",
              "1             -0.131574     -0.281773     -0.282705     -0.280839   \n",
              "2             -0.543978     -0.281773     -0.282705     -0.280839   \n",
              "3              0.280829     -0.281773     -0.282705     -0.280839   \n",
              "4             -0.131574     -0.281773     -0.282705     -0.280839   \n",
              "...                 ...           ...           ...           ...   \n",
              "2211          -0.131574     -0.281773     -0.282705     -0.280839   \n",
              "2212           0.693232     -0.281773     -0.282705     -0.280839   \n",
              "2213           0.280829     -0.281773      3.537258     -0.280839   \n",
              "2214          -0.956381     -0.281773     -0.282705     -0.280839   \n",
              "2215           0.693232     -0.281773     -0.282705     -0.280839   \n",
              "\n",
              "      AcceptedCmp1  AcceptedCmp2  Complain  Z_CostContact  Z_Revenue  Response  \n",
              "0        -0.261661     -0.117148 -0.097812            0.0        0.0  2.377952  \n",
              "1        -0.261661     -0.117148 -0.097812            0.0        0.0 -0.420530  \n",
              "2        -0.261661     -0.117148 -0.097812            0.0        0.0 -0.420530  \n",
              "3        -0.261661     -0.117148 -0.097812            0.0        0.0 -0.420530  \n",
              "4        -0.261661     -0.117148 -0.097812            0.0        0.0 -0.420530  \n",
              "...            ...           ...       ...            ...        ...       ...  \n",
              "2211     -0.261661     -0.117148 -0.097812            0.0        0.0 -0.420530  \n",
              "2212      3.821732     -0.117148 -0.097812            0.0        0.0 -0.420530  \n",
              "2213     -0.261661     -0.117148 -0.097812            0.0        0.0 -0.420530  \n",
              "2214     -0.261661     -0.117148 -0.097812            0.0        0.0 -0.420530  \n",
              "2215     -0.261661     -0.117148 -0.097812            0.0        0.0  2.377952  \n",
              "\n",
              "[2216 rows x 24 columns]"
            ],
            "text/html": [
              "\n",
              "  <div id=\"df-5042c7e3-86e0-4153-9dfc-b62c0db42fbd\">\n",
              "    <div class=\"colab-df-container\">\n",
              "      <div>\n",
              "<style scoped>\n",
              "    .dataframe tbody tr th:only-of-type {\n",
              "        vertical-align: middle;\n",
              "    }\n",
              "\n",
              "    .dataframe tbody tr th {\n",
              "        vertical-align: top;\n",
              "    }\n",
              "\n",
              "    .dataframe thead th {\n",
              "        text-align: right;\n",
              "    }\n",
              "</style>\n",
              "<table border=\"1\" class=\"dataframe\">\n",
              "  <thead>\n",
              "    <tr style=\"text-align: right;\">\n",
              "      <th></th>\n",
              "      <th>days</th>\n",
              "      <th>age</th>\n",
              "      <th>Income</th>\n",
              "      <th>Recency</th>\n",
              "      <th>MntWines</th>\n",
              "      <th>MntFruits</th>\n",
              "      <th>MntMeatProducts</th>\n",
              "      <th>MntFishProducts</th>\n",
              "      <th>MntSweetProducts</th>\n",
              "      <th>MntGoldProds</th>\n",
              "      <th>...</th>\n",
              "      <th>NumWebVisitsMonth</th>\n",
              "      <th>AcceptedCmp3</th>\n",
              "      <th>AcceptedCmp4</th>\n",
              "      <th>AcceptedCmp5</th>\n",
              "      <th>AcceptedCmp1</th>\n",
              "      <th>AcceptedCmp2</th>\n",
              "      <th>Complain</th>\n",
              "      <th>Z_CostContact</th>\n",
              "      <th>Z_Revenue</th>\n",
              "      <th>Response</th>\n",
              "    </tr>\n",
              "  </thead>\n",
              "  <tbody>\n",
              "    <tr>\n",
              "      <th>0</th>\n",
              "      <td>1.529129</td>\n",
              "      <td>0.986443</td>\n",
              "      <td>0.234063</td>\n",
              "      <td>0.310532</td>\n",
              "      <td>0.978226</td>\n",
              "      <td>1.549429</td>\n",
              "      <td>1.690227</td>\n",
              "      <td>2.454568</td>\n",
              "      <td>1.484827</td>\n",
              "      <td>0.850031</td>\n",
              "      <td>...</td>\n",
              "      <td>0.693232</td>\n",
              "      <td>-0.281773</td>\n",
              "      <td>-0.282705</td>\n",
              "      <td>-0.280839</td>\n",
              "      <td>-0.261661</td>\n",
              "      <td>-0.117148</td>\n",
              "      <td>-0.097812</td>\n",
              "      <td>0.0</td>\n",
              "      <td>0.0</td>\n",
              "      <td>2.377952</td>\n",
              "    </tr>\n",
              "    <tr>\n",
              "      <th>1</th>\n",
              "      <td>-1.188411</td>\n",
              "      <td>1.236801</td>\n",
              "      <td>-0.234559</td>\n",
              "      <td>-0.380509</td>\n",
              "      <td>-0.872024</td>\n",
              "      <td>-0.637328</td>\n",
              "      <td>-0.717986</td>\n",
              "      <td>-0.651038</td>\n",
              "      <td>-0.633880</td>\n",
              "      <td>-0.732867</td>\n",
              "      <td>...</td>\n",
              "      <td>-0.131574</td>\n",
              "      <td>-0.281773</td>\n",
              "      <td>-0.282705</td>\n",
              "      <td>-0.280839</td>\n",
              "      <td>-0.261661</td>\n",
              "      <td>-0.117148</td>\n",
              "      <td>-0.097812</td>\n",
              "      <td>0.0</td>\n",
              "      <td>0.0</td>\n",
              "      <td>-0.420530</td>\n",
              "    </tr>\n",
              "    <tr>\n",
              "      <th>2</th>\n",
              "      <td>-0.205155</td>\n",
              "      <td>0.318822</td>\n",
              "      <td>0.769478</td>\n",
              "      <td>-0.795134</td>\n",
              "      <td>0.358511</td>\n",
              "      <td>0.569159</td>\n",
              "      <td>-0.178368</td>\n",
              "      <td>1.340203</td>\n",
              "      <td>-0.146821</td>\n",
              "      <td>-0.037937</td>\n",
              "      <td>...</td>\n",
              "      <td>-0.543978</td>\n",
              "      <td>-0.281773</td>\n",
              "      <td>-0.282705</td>\n",
              "      <td>-0.280839</td>\n",
              "      <td>-0.261661</td>\n",
              "      <td>-0.117148</td>\n",
              "      <td>-0.097812</td>\n",
              "      <td>0.0</td>\n",
              "      <td>0.0</td>\n",
              "      <td>-0.420530</td>\n",
              "    </tr>\n",
              "    <tr>\n",
              "      <th>3</th>\n",
              "      <td>-1.059945</td>\n",
              "      <td>-1.266777</td>\n",
              "      <td>-1.017239</td>\n",
              "      <td>-0.795134</td>\n",
              "      <td>-0.872024</td>\n",
              "      <td>-0.561922</td>\n",
              "      <td>-0.655551</td>\n",
              "      <td>-0.504892</td>\n",
              "      <td>-0.585174</td>\n",
              "      <td>-0.752171</td>\n",
              "      <td>...</td>\n",
              "      <td>0.280829</td>\n",
              "      <td>-0.281773</td>\n",
              "      <td>-0.282705</td>\n",
              "      <td>-0.280839</td>\n",
              "      <td>-0.261661</td>\n",
              "      <td>-0.117148</td>\n",
              "      <td>-0.097812</td>\n",
              "      <td>0.0</td>\n",
              "      <td>0.0</td>\n",
              "      <td>-0.420530</td>\n",
              "    </tr>\n",
              "    <tr>\n",
              "      <th>4</th>\n",
              "      <td>-0.951244</td>\n",
              "      <td>-1.016420</td>\n",
              "      <td>0.240221</td>\n",
              "      <td>1.554407</td>\n",
              "      <td>-0.391671</td>\n",
              "      <td>0.418348</td>\n",
              "      <td>-0.218505</td>\n",
              "      <td>0.152766</td>\n",
              "      <td>-0.000703</td>\n",
              "      <td>-0.559135</td>\n",
              "      <td>...</td>\n",
              "      <td>-0.131574</td>\n",
              "      <td>-0.281773</td>\n",
              "      <td>-0.282705</td>\n",
              "      <td>-0.280839</td>\n",
              "      <td>-0.261661</td>\n",
              "      <td>-0.117148</td>\n",
              "      <td>-0.097812</td>\n",
              "      <td>0.0</td>\n",
              "      <td>0.0</td>\n",
              "      <td>-0.420530</td>\n",
              "    </tr>\n",
              "    <tr>\n",
              "      <th>...</th>\n",
              "      <td>...</td>\n",
              "      <td>...</td>\n",
              "      <td>...</td>\n",
              "      <td>...</td>\n",
              "      <td>...</td>\n",
              "      <td>...</td>\n",
              "      <td>...</td>\n",
              "      <td>...</td>\n",
              "      <td>...</td>\n",
              "      <td>...</td>\n",
              "      <td>...</td>\n",
              "      <td>...</td>\n",
              "      <td>...</td>\n",
              "      <td>...</td>\n",
              "      <td>...</td>\n",
              "      <td>...</td>\n",
              "      <td>...</td>\n",
              "      <td>...</td>\n",
              "      <td>...</td>\n",
              "      <td>...</td>\n",
              "      <td>...</td>\n",
              "    </tr>\n",
              "    <tr>\n",
              "      <th>2211</th>\n",
              "      <td>0.135772</td>\n",
              "      <td>0.151917</td>\n",
              "      <td>0.356642</td>\n",
              "      <td>-0.104093</td>\n",
              "      <td>1.197646</td>\n",
              "      <td>0.418348</td>\n",
              "      <td>0.066913</td>\n",
              "      <td>0.079693</td>\n",
              "      <td>2.215416</td>\n",
              "      <td>3.919308</td>\n",
              "      <td>...</td>\n",
              "      <td>-0.131574</td>\n",
              "      <td>-0.281773</td>\n",
              "      <td>-0.282705</td>\n",
              "      <td>-0.280839</td>\n",
              "      <td>-0.261661</td>\n",
              "      <td>-0.117148</td>\n",
              "      <td>-0.097812</td>\n",
              "      <td>0.0</td>\n",
              "      <td>0.0</td>\n",
              "      <td>-0.420530</td>\n",
              "    </tr>\n",
              "    <tr>\n",
              "      <th>2212</th>\n",
              "      <td>-1.652863</td>\n",
              "      <td>1.904422</td>\n",
              "      <td>0.467539</td>\n",
              "      <td>0.241428</td>\n",
              "      <td>0.299208</td>\n",
              "      <td>-0.662463</td>\n",
              "      <td>-0.610954</td>\n",
              "      <td>-0.687574</td>\n",
              "      <td>-0.658233</td>\n",
              "      <td>-0.694260</td>\n",
              "      <td>...</td>\n",
              "      <td>0.693232</td>\n",
              "      <td>-0.281773</td>\n",
              "      <td>-0.282705</td>\n",
              "      <td>-0.280839</td>\n",
              "      <td>3.821732</td>\n",
              "      <td>-0.117148</td>\n",
              "      <td>-0.097812</td>\n",
              "      <td>0.0</td>\n",
              "      <td>0.0</td>\n",
              "      <td>-0.420530</td>\n",
              "    </tr>\n",
              "    <tr>\n",
              "      <th>2213</th>\n",
              "      <td>-0.980889</td>\n",
              "      <td>-1.016420</td>\n",
              "      <td>0.188091</td>\n",
              "      <td>1.450751</td>\n",
              "      <td>1.787710</td>\n",
              "      <td>0.544024</td>\n",
              "      <td>0.223001</td>\n",
              "      <td>-0.102990</td>\n",
              "      <td>-0.365998</td>\n",
              "      <td>-0.385402</td>\n",
              "      <td>...</td>\n",
              "      <td>0.280829</td>\n",
              "      <td>-0.281773</td>\n",
              "      <td>3.537258</td>\n",
              "      <td>-0.280839</td>\n",
              "      <td>-0.261661</td>\n",
              "      <td>-0.117148</td>\n",
              "      <td>-0.097812</td>\n",
              "      <td>0.0</td>\n",
              "      <td>0.0</td>\n",
              "      <td>-0.420530</td>\n",
              "    </tr>\n",
              "    <tr>\n",
              "      <th>2214</th>\n",
              "      <td>-0.975948</td>\n",
              "      <td>1.069896</td>\n",
              "      <td>0.675388</td>\n",
              "      <td>-1.417072</td>\n",
              "      <td>0.364441</td>\n",
              "      <td>0.091591</td>\n",
              "      <td>0.209622</td>\n",
              "      <td>0.773887</td>\n",
              "      <td>0.072356</td>\n",
              "      <td>0.328832</td>\n",
              "      <td>...</td>\n",
              "      <td>-0.956381</td>\n",
              "      <td>-0.281773</td>\n",
              "      <td>-0.282705</td>\n",
              "      <td>-0.280839</td>\n",
              "      <td>-0.261661</td>\n",
              "      <td>-0.117148</td>\n",
              "      <td>-0.097812</td>\n",
              "      <td>0.0</td>\n",
              "      <td>0.0</td>\n",
              "      <td>-0.420530</td>\n",
              "    </tr>\n",
              "    <tr>\n",
              "      <th>2215</th>\n",
              "      <td>1.326548</td>\n",
              "      <td>1.236801</td>\n",
              "      <td>0.024705</td>\n",
              "      <td>-0.311405</td>\n",
              "      <td>-0.655568</td>\n",
              "      <td>-0.587058</td>\n",
              "      <td>-0.472705</td>\n",
              "      <td>-0.651038</td>\n",
              "      <td>-0.633880</td>\n",
              "      <td>-0.443313</td>\n",
              "      <td>...</td>\n",
              "      <td>0.693232</td>\n",
              "      <td>-0.281773</td>\n",
              "      <td>-0.282705</td>\n",
              "      <td>-0.280839</td>\n",
              "      <td>-0.261661</td>\n",
              "      <td>-0.117148</td>\n",
              "      <td>-0.097812</td>\n",
              "      <td>0.0</td>\n",
              "      <td>0.0</td>\n",
              "      <td>2.377952</td>\n",
              "    </tr>\n",
              "  </tbody>\n",
              "</table>\n",
              "<p>2216 rows × 24 columns</p>\n",
              "</div>\n",
              "      <button class=\"colab-df-convert\" onclick=\"convertToInteractive('df-5042c7e3-86e0-4153-9dfc-b62c0db42fbd')\"\n",
              "              title=\"Convert this dataframe to an interactive table.\"\n",
              "              style=\"display:none;\">\n",
              "        \n",
              "  <svg xmlns=\"http://www.w3.org/2000/svg\" height=\"24px\"viewBox=\"0 0 24 24\"\n",
              "       width=\"24px\">\n",
              "    <path d=\"M0 0h24v24H0V0z\" fill=\"none\"/>\n",
              "    <path d=\"M18.56 5.44l.94 2.06.94-2.06 2.06-.94-2.06-.94-.94-2.06-.94 2.06-2.06.94zm-11 1L8.5 8.5l.94-2.06 2.06-.94-2.06-.94L8.5 2.5l-.94 2.06-2.06.94zm10 10l.94 2.06.94-2.06 2.06-.94-2.06-.94-.94-2.06-.94 2.06-2.06.94z\"/><path d=\"M17.41 7.96l-1.37-1.37c-.4-.4-.92-.59-1.43-.59-.52 0-1.04.2-1.43.59L10.3 9.45l-7.72 7.72c-.78.78-.78 2.05 0 2.83L4 21.41c.39.39.9.59 1.41.59.51 0 1.02-.2 1.41-.59l7.78-7.78 2.81-2.81c.8-.78.8-2.07 0-2.86zM5.41 20L4 18.59l7.72-7.72 1.47 1.35L5.41 20z\"/>\n",
              "  </svg>\n",
              "      </button>\n",
              "      \n",
              "  <style>\n",
              "    .colab-df-container {\n",
              "      display:flex;\n",
              "      flex-wrap:wrap;\n",
              "      gap: 12px;\n",
              "    }\n",
              "\n",
              "    .colab-df-convert {\n",
              "      background-color: #E8F0FE;\n",
              "      border: none;\n",
              "      border-radius: 50%;\n",
              "      cursor: pointer;\n",
              "      display: none;\n",
              "      fill: #1967D2;\n",
              "      height: 32px;\n",
              "      padding: 0 0 0 0;\n",
              "      width: 32px;\n",
              "    }\n",
              "\n",
              "    .colab-df-convert:hover {\n",
              "      background-color: #E2EBFA;\n",
              "      box-shadow: 0px 1px 2px rgba(60, 64, 67, 0.3), 0px 1px 3px 1px rgba(60, 64, 67, 0.15);\n",
              "      fill: #174EA6;\n",
              "    }\n",
              "\n",
              "    [theme=dark] .colab-df-convert {\n",
              "      background-color: #3B4455;\n",
              "      fill: #D2E3FC;\n",
              "    }\n",
              "\n",
              "    [theme=dark] .colab-df-convert:hover {\n",
              "      background-color: #434B5C;\n",
              "      box-shadow: 0px 1px 3px 1px rgba(0, 0, 0, 0.15);\n",
              "      filter: drop-shadow(0px 1px 2px rgba(0, 0, 0, 0.3));\n",
              "      fill: #FFFFFF;\n",
              "    }\n",
              "  </style>\n",
              "\n",
              "      <script>\n",
              "        const buttonEl =\n",
              "          document.querySelector('#df-5042c7e3-86e0-4153-9dfc-b62c0db42fbd button.colab-df-convert');\n",
              "        buttonEl.style.display =\n",
              "          google.colab.kernel.accessAllowed ? 'block' : 'none';\n",
              "\n",
              "        async function convertToInteractive(key) {\n",
              "          const element = document.querySelector('#df-5042c7e3-86e0-4153-9dfc-b62c0db42fbd');\n",
              "          const dataTable =\n",
              "            await google.colab.kernel.invokeFunction('convertToInteractive',\n",
              "                                                     [key], {});\n",
              "          if (!dataTable) return;\n",
              "\n",
              "          const docLinkHtml = 'Like what you see? Visit the ' +\n",
              "            '<a target=\"_blank\" href=https://colab.research.google.com/notebooks/data_table.ipynb>data table notebook</a>'\n",
              "            + ' to learn more about interactive tables.';\n",
              "          element.innerHTML = '';\n",
              "          dataTable['output_type'] = 'display_data';\n",
              "          await google.colab.output.renderOutput(dataTable, element);\n",
              "          const docLink = document.createElement('div');\n",
              "          docLink.innerHTML = docLinkHtml;\n",
              "          element.appendChild(docLink);\n",
              "        }\n",
              "      </script>\n",
              "    </div>\n",
              "  </div>\n",
              "  "
            ]
          },
          "metadata": {},
          "execution_count": 247
        }
      ]
    },
    {
      "cell_type": "code",
      "source": [
        "nb = NearestNeighbors(n_neighbors = 4).fit(X_features_scaling)"
      ],
      "metadata": {
        "id": "0OFdRLQ79LwU"
      },
      "execution_count": 249,
      "outputs": []
    },
    {
      "cell_type": "code",
      "source": [
        "minPts = 4"
      ],
      "metadata": {
        "id": "eNY_BSMN9Ltb"
      },
      "execution_count": 250,
      "outputs": []
    },
    {
      "cell_type": "code",
      "source": [
        "distances, indices = nb.kneighbors(X_features_scaling)"
      ],
      "metadata": {
        "id": "-sb0eB1q9Ln_"
      },
      "execution_count": 252,
      "outputs": []
    },
    {
      "cell_type": "code",
      "source": [
        "distance = sorted(distances[:, minPts-1], reverse = True)\n",
        "plt.plot(list(range(1,2217)), distance)"
      ],
      "metadata": {
        "colab": {
          "base_uri": "https://localhost:8080/",
          "height": 365
        },
        "id": "xJ7k7zcZ9S11",
        "outputId": "7f01b949-759f-4421-e758-13563b8c8ebb"
      },
      "execution_count": 255,
      "outputs": [
        {
          "output_type": "execute_result",
          "data": {
            "text/plain": [
              "[<matplotlib.lines.Line2D at 0x7fabda61d280>]"
            ]
          },
          "metadata": {},
          "execution_count": 255
        },
        {
          "output_type": "display_data",
          "data": {
            "text/plain": [
              "<Figure size 576x396 with 1 Axes>"
            ],
            "image/png": "[encoded data removed]"
          },
          "metadata": {}
        }
      ]
    },
    {
      "cell_type": "markdown",
      "source": [
        "- 명확하게 threshold point가 보이지는 않지만, 어느 정도의 valley는 있기에 valley가 시작되는 부분의 거리인 6을 eps로 설정합니다."
      ],
      "metadata": {
        "id": "Q3OoT-4i9Wij"
      }
    },
    {
      "cell_type": "code",
      "source": [],
      "metadata": {
        "id": "4_QBVqzo9SvD"
      },
      "execution_count": null,
      "outputs": []
    },
    {
      "cell_type": "code",
      "source": [
        "## eps는 ########(숫자)########, minPts는 ########(숫자)########로 설정한 뒤 DBSCAN를 활용하여 예측된 y값을 만들어 봅시다.\n",
        "\n",
        "dbscan = DBSCAN(eps = 6, min_samples = 4, metric = 'euclidean') #eps는 0-1\n",
        "\n",
        "y_dbscan = dbscan.fit_predict(X_features_scaling)\n",
        "y_dbscan"
      ],
      "metadata": {
        "id": "b9tu38-Fo98h",
        "colab": {
          "base_uri": "https://localhost:8080/"
        },
        "outputId": "4093c854-0aed-4851-f60a-0502326042d8"
      },
      "execution_count": 256,
      "outputs": [
        {
          "output_type": "execute_result",
          "data": {
            "text/plain": [
              "array([0, 0, 0, ..., 0, 0, 0])"
            ]
          },
          "metadata": {},
          "execution_count": 256
        }
      ]
    },
    {
      "cell_type": "code",
      "source": [
        "X_train_lda['dbscan'] = y_dbscan"
      ],
      "metadata": {
        "id": "1xVqMxMtqK_r"
      },
      "execution_count": 257,
      "outputs": []
    },
    {
      "cell_type": "markdown",
      "source": [
        "####시각화"
      ],
      "metadata": {
        "id": "3Rf8Hy_n3aEu"
      }
    },
    {
      "cell_type": "code",
      "source": [
        "sns.lmplot(x = 'lda_1', y = 'lda_2', data = X_train_lda, hue = 'dbscan', fit_reg = False)\n",
        "plt.show()"
      ],
      "metadata": {
        "id": "z7xQlZz-dL9K",
        "colab": {
          "base_uri": "https://localhost:8080/",
          "height": 365
        },
        "outputId": "84a34f25-8769-4285-fe69-04f2fc47a46e"
      },
      "execution_count": 258,
      "outputs": [
        {
          "output_type": "display_data",
          "data": {
            "text/plain": [
              "<Figure size 406.75x360 with 1 Axes>"
            ],
            "image/png": "[encoded data removed]"
          },
          "metadata": {}
        }
      ]
    },
    {
      "cell_type": "markdown",
      "source": [
        "###Validation"
      ],
      "metadata": {
        "id": "HJpetyIbiEoy"
      }
    },
    {
      "cell_type": "markdown",
      "source": [
        "실루엣 계수를 사용하여 각 클러스터링의 성능을 평가해봅시다."
      ],
      "metadata": {
        "id": "CNaob-PWiI9e"
      }
    },
    {
      "cell_type": "markdown",
      "source": [
        "\n",
        "\n",
        "---\n",
        "\n"
      ],
      "metadata": {
        "id": "n8o06Vu4irOF"
      }
    },
    {
      "cell_type": "markdown",
      "source": [
        "(Q) 실루엣 계수로 평가하기 전에, 육안 상으로 어떠한 알고리즘의 성능이 제일 높아 보이며 어떠한 알고리즘의 성능이 제일 낮아 보이는지 의견을 적어주세요."
      ],
      "metadata": {
        "id": "r9KRTq-biRY3"
      }
    },
    {
      "cell_type": "markdown",
      "source": [
        "- 육안으로 비교했을 때에는... DBSCAN 알고리즘이 성능이 제일 높아보이고, Hierarchical Clustering 알고리즘이 성능이 제일 낮아 보인다. \n",
        "- K-means Clustering과 Hierarchical Clustering 같은 경우, 몇 개의 특이한 값들로 인해, 같은 군집 내에 있는 어떤 개체들 사이의 거리는 상대적으로 큰 결과를 보인다. 하지만, 이와 비교했을 때 DBSCAN은 같은 군집 내의 개체들 간 거리가 가까운 편이며, 다른 군집에 속하는 개체들 간 거리는 먼 결과를 나타내기에, 이와 같이 평가하였다."
      ],
      "metadata": {
        "id": "Rv3V8sfuihsF"
      }
    },
    {
      "cell_type": "markdown",
      "source": [
        "\n",
        "\n",
        "---\n",
        "\n"
      ],
      "metadata": {
        "id": "R_QgoTfIisvg"
      }
    },
    {
      "cell_type": "markdown",
      "source": [
        "이제 실루엣 계수로 성능을 평가해 봅시다!"
      ],
      "metadata": {
        "id": "Jv4WfZO4iuVF"
      }
    },
    {
      "cell_type": "code",
      "source": [
        "## 필요한 라이브러리를 임포트합니다.\n",
        "\n",
        "import sklearn.metrics as metrics\n",
        "from sklearn.metrics.cluster import silhouette_score"
      ],
      "metadata": {
        "id": "fULi7pCudtHs"
      },
      "execution_count": 242,
      "outputs": []
    },
    {
      "cell_type": "markdown",
      "source": [
        "K-means Clustering의 실루엣 계수입니다."
      ],
      "metadata": {
        "id": "5bAQ6CyW6Uth"
      }
    },
    {
      "cell_type": "code",
      "source": [
        "coef_km = metrics.silhouette_score(X_features_scaling, y_km)\n",
        "print('Silhouette score is {}.'.format(coef_km))"
      ],
      "metadata": {
        "colab": {
          "base_uri": "https://localhost:8080/"
        },
        "id": "KDKJhjx6ojLj",
        "outputId": "e4d8023e-c680-46fb-ace5-c0f019e19820"
      },
      "execution_count": 243,
      "outputs": [
        {
          "output_type": "stream",
          "name": "stdout",
          "text": [
            "Silhouette score is 0.2720303244969593.\n"
          ]
        }
      ]
    },
    {
      "cell_type": "markdown",
      "source": [
        "Hierarchical Clustering의 실루엣 계수입니다."
      ],
      "metadata": {
        "id": "WdNkPAm76eq9"
      }
    },
    {
      "cell_type": "code",
      "source": [
        "## Hierarchical Clustering\n",
        "\n",
        "coef_hc = metrics.silhouette_score(X_features_scaling, y_agghc)\n",
        "print('Silhouette score is {}.'.format(coef_hc))"
      ],
      "metadata": {
        "colab": {
          "base_uri": "https://localhost:8080/"
        },
        "id": "x1jUkQM_pbMk",
        "outputId": "13f5b2df-73ff-4e32-fdc4-1b608f0c4644"
      },
      "execution_count": 244,
      "outputs": [
        {
          "output_type": "stream",
          "name": "stdout",
          "text": [
            "Silhouette score is 0.24392857890655703.\n"
          ]
        }
      ]
    },
    {
      "cell_type": "markdown",
      "source": [
        "DBSCAN의 실루엣 계수입니다."
      ],
      "metadata": {
        "id": "4m7AX0LL6iV-"
      }
    },
    {
      "cell_type": "code",
      "source": [
        "## DBSCAN\n",
        "\n",
        "coef_db = metrics.silhouette_score(X_features_scaling, y_dbscan)\n",
        "print('Silhouette score is {}.'.format(coef_db))"
      ],
      "metadata": {
        "colab": {
          "base_uri": "https://localhost:8080/"
        },
        "id": "vppodq1EqLbA",
        "outputId": "a9551c43-8ac3-43ee-f0eb-efb1ae052b46"
      },
      "execution_count": 259,
      "outputs": [
        {
          "output_type": "stream",
          "name": "stdout",
          "text": [
            "Silhouette score is 0.48936194362599106.\n"
          ]
        }
      ]
    },
    {
      "cell_type": "markdown",
      "source": [
        "- 과제 답안을 참고하였을 때, \"Silhouette score is -0.3544157747163334.\"가 정답으로 보이나, 이를 도출해내지 못했습니다. eps 값이 0~1 사이라 하나, 6이 가장 적절해보였으므로, 과제도 이를 토대로 분석을 진행하였습니다."
      ],
      "metadata": {
        "id": "M22YvE-b-ALS"
      }
    },
    {
      "cell_type": "markdown",
      "source": [
        "(Q) 실루엣 계수를 기반으로, 클러스터링 알고리즘의 성능을 높은 순대로 적어주세요."
      ],
      "metadata": {
        "id": "4Aef3wru4ycD"
      }
    },
    {
      "cell_type": "markdown",
      "source": [
        "- DBSCAN > K-means Clustering > Hierarchical Clustering 순으로 알고리즘 성능이 높다 할 수 있다."
      ],
      "metadata": {
        "id": "-95mdNXC4coe"
      }
    },
    {
      "cell_type": "markdown",
      "source": [
        "(Q) 클러스터링 결과에 대한 해석을 적어주세요. (참고로, 실루엣 계수는 -1에서 1 사이의 값을 가집니다.)"
      ],
      "metadata": {
        "id": "TrYTuEi34lG7"
      }
    },
    {
      "cell_type": "markdown",
      "source": [
        "- 실루엣 계수는 각 군집 간의 거리가 얼마나 효율적을 분리되어 있는지를 나타내는 지표로, 크기가 클수록 클러스터링 알고리즘의 성능이 높다고 분석할 수 있다.\n",
        "- 실루엣 계수를 기반으로, DBSCAN > K-means Clustering > Hierarchical Clustering 순으로 알고리즘의 성능이 높다고 할 수 있다.\n",
        "- 이를 시각화의 결과로 보았을 때, DBSCAN 알고리즘 시각화 결과가 클러스터 구분이 잘 되어 군집 간 상대적인 거리를 잘 유지하고 있으며, 같은 군집 내의 모든 개체들 사이의 평균 거리는 짧고, 다른 군집 내에 있는 모든 개체들 간의 평균 거리는 비교적 크기에, 군집화가 잘되어 있다고 결과를 해석할 수 있다.\n",
        "- 이를 모두 종합해볼 때, DBSCAN 알고리즘 결과가 우리가 원하는 정답 모양과 가장 가깝다고 할 수 있다."
      ],
      "metadata": {
        "id": "YIoqd0OZ4tLF"
      }
    },
    {
      "cell_type": "markdown",
      "source": [
        "(Q) 마케팅 캠페인과 관련하여 도출할 수 있는 인사이트를 적어주세요."
      ],
      "metadata": {
        "id": "9m2Rvla1fgj1"
      }
    },
    {
      "cell_type": "markdown",
      "source": [
        "- 알고리즘 분석 결과 및 시각화 분석 결과는 모두 캠페인 참여에서의 총 참여 횟수를 라벨값으로 둔 상태에서의 데이터 분포도를 나타낸다. \n",
        "- 따라서, 등록한 이후에 현재까지의 기간 (회원 일수) 또는 회원 나이 대비 캠페인 총 참여 횟수 간의 관계를 알 수 있는 것이다. 시각화 결과를 분석해 보았을 때, 나이가 어릴 수록; 또는 회원 일수가 적을수록 캠페인 참여 횟수에 매우 저조한 결과를 보였으며, 나이가 많을수록; 또는 회원 일수가 길수록 캠페인 참여 횟수가 매우 높은 수치를 보였다.\n",
        "- 이 결과를 통하여, 마케팅 캠페인 전략을 도출해보았을 때, 상대적으로 나이가 많은 회원, 그리고 그 중에서도 등록한 이후 현재까지의 기간 (회원 일수)가 긴 회원을 대상으로 캠페인을 홍보하는 것이 효율적인 동시에, 높은 참여도를 얻을 수 있을 것이라 예측할 수 있다. "
      ],
      "metadata": {
        "id": "a4B84sjvflRg"
      }
    }
  ]
}