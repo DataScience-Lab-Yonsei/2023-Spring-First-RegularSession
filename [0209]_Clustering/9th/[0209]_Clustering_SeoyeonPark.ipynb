{
  "nbformat": 4,
  "nbformat_minor": 0,
  "metadata": {
    "colab": {
      "provenance": []
    },
    "kernelspec": {
      "name": "python3",
      "display_name": "Python 3"
    },
    "language_info": {
      "name": "python"
    }
  },
  "cells": [
    {
      "cell_type": "markdown",
      "source": [
        "주어진 데이터셋을 차원 축소한 뒤 **다양한 알고리즘**을 적용하여 클러스터링을 진행하고, 결과를 시각화하는 작업을 직접 해보면서 **비지도학습** (Unsupervised Learning)에 대한 이해도를 높여 봅시다."
      ],
      "metadata": {
        "id": "OvZ4RWub-tp5"
      }
    },
    {
      "cell_type": "code",
      "execution_count": null,
      "metadata": {
        "id": "sPkBwLLC_LpB"
      },
      "outputs": [],
      "source": [
        "## 필요한 라이브러리를 임포트합니다.\n",
        "\n",
        "import pandas as pd\n",
        "import numpy as np"
      ]
    },
    {
      "cell_type": "code",
      "source": [
        "## 시각화 관련 라이브러리를 임포트합니다.\n",
        "\n",
        "from matplotlib import pyplot as plt\n",
        "import seaborn as sns"
      ],
      "metadata": {
        "id": "OtnrxMvB-mV_"
      },
      "execution_count": null,
      "outputs": []
    },
    {
      "cell_type": "markdown",
      "source": [
        "###데이터"
      ],
      "metadata": {
        "id": "q2EVaet0fezv"
      }
    },
    {
      "cell_type": "markdown",
      "source": [
        "사용할 데이터: 'Marketing Campaign.csv'"
      ],
      "metadata": {
        "id": "u93F5Rxodjhg"
      }
    },
    {
      "cell_type": "markdown",
      "source": [
        "주어진 데이터는 마케팅 캠페인을 펼치고자 하는 소비자들에 대한 정보를 나타낸 데이터입니다. 해당 소비자들을 알맞게 군집화시키는 것이 우리의 목적입니다.\n",
        "\n",
        "총 29개의 column으로 구성되어 있습니다. \n",
        "\n",
        "\n",
        "\n",
        "---\n",
        "\n",
        "\n",
        "\n",
        "\n",
        "\n"
      ],
      "metadata": {
        "id": "3V10T3GMdkkq"
      }
    },
    {
      "cell_type": "markdown",
      "source": [
        "데이터에 대한 자세한 설명은 해당 kaggle 페이지에서 확인하실 수 있습니다.\n",
        "\n",
        "https://www.kaggle.com/datasets/rodsaldanha/arketing-campaign"
      ],
      "metadata": {
        "id": "bmzh86T1ftm5"
      }
    },
    {
      "cell_type": "markdown",
      "source": [
        "데이터를 불러옵니다."
      ],
      "metadata": {
        "id": "13998SwmXdYu"
      }
    },
    {
      "cell_type": "code",
      "source": [
        "## drive에 있는 데이터셋을 불러오기 위해 드라이브와 연동을 합니다.\n",
        "\n",
        "from google.colab import drive\n",
        "drive.mount('/content/drive')"
      ],
      "metadata": {
        "colab": {
          "base_uri": "https://localhost:8080/"
        },
        "id": "j9-R3h9_QgIS",
        "outputId": "d046c29c-1cbe-4872-a3c3-53bfd647f1de"
      },
      "execution_count": null,
      "outputs": [
        {
          "output_type": "stream",
          "name": "stdout",
          "text": [
            "Mounted at /content/drive\n"
          ]
        }
      ]
    },
    {
      "cell_type": "code",
      "source": [
        "## 'Marketing_campaign' 데이터의 위치를 불러와 저장합니다.\n",
        "\n",
        "data = pd.read_csv('/content/drive/MyDrive/DSL/정규 1세션(ML)/[0209] Clustering/marketing_campaign.csv', \\\n",
        "                   sep = ';')\n",
        "data.head()"
      ],
      "metadata": {
        "colab": {
          "base_uri": "https://localhost:8080/",
          "height": 299
        },
        "id": "aavBGusyFTc0",
        "outputId": "4825ac8a-7567-4eef-ab66-2b4eec31fb8b"
      },
      "execution_count": null,
      "outputs": [
        {
          "output_type": "execute_result",
          "data": {
            "text/plain": [
              "     ID  Year_Birth   Education Marital_Status   Income  Kidhome  Teenhome  \\\n",
              "0  5524        1957  Graduation         Single  58138.0        0         0   \n",
              "1  2174        1954  Graduation         Single  46344.0        1         1   \n",
              "2  4141        1965  Graduation       Together  71613.0        0         0   \n",
              "3  6182        1984  Graduation       Together  26646.0        1         0   \n",
              "4  5324        1981         PhD        Married  58293.0        1         0   \n",
              "\n",
              "  Dt_Customer  Recency  MntWines  ...  NumWebVisitsMonth  AcceptedCmp3  \\\n",
              "0  2012-09-04       58       635  ...                  7             0   \n",
              "1  2014-03-08       38        11  ...                  5             0   \n",
              "2  2013-08-21       26       426  ...                  4             0   \n",
              "3  2014-02-10       26        11  ...                  6             0   \n",
              "4  2014-01-19       94       173  ...                  5             0   \n",
              "\n",
              "   AcceptedCmp4  AcceptedCmp5  AcceptedCmp1  AcceptedCmp2  Complain  \\\n",
              "0             0             0             0             0         0   \n",
              "1             0             0             0             0         0   \n",
              "2             0             0             0             0         0   \n",
              "3             0             0             0             0         0   \n",
              "4             0             0             0             0         0   \n",
              "\n",
              "   Z_CostContact  Z_Revenue  Response  \n",
              "0              3         11         1  \n",
              "1              3         11         0  \n",
              "2              3         11         0  \n",
              "3              3         11         0  \n",
              "4              3         11         0  \n",
              "\n",
              "[5 rows x 29 columns]"
            ],
            "text/html": [
              "\n",
              "  <div id=\"df-162afddc-303b-44be-8784-5a2924c68f59\">\n",
              "    <div class=\"colab-df-container\">\n",
              "      <div>\n",
              "<style scoped>\n",
              "    .dataframe tbody tr th:only-of-type {\n",
              "        vertical-align: middle;\n",
              "    }\n",
              "\n",
              "    .dataframe tbody tr th {\n",
              "        vertical-align: top;\n",
              "    }\n",
              "\n",
              "    .dataframe thead th {\n",
              "        text-align: right;\n",
              "    }\n",
              "</style>\n",
              "<table border=\"1\" class=\"dataframe\">\n",
              "  <thead>\n",
              "    <tr style=\"text-align: right;\">\n",
              "      <th></th>\n",
              "      <th>ID</th>\n",
              "      <th>Year_Birth</th>\n",
              "      <th>Education</th>\n",
              "      <th>Marital_Status</th>\n",
              "      <th>Income</th>\n",
              "      <th>Kidhome</th>\n",
              "      <th>Teenhome</th>\n",
              "      <th>Dt_Customer</th>\n",
              "      <th>Recency</th>\n",
              "      <th>MntWines</th>\n",
              "      <th>...</th>\n",
              "      <th>NumWebVisitsMonth</th>\n",
              "      <th>AcceptedCmp3</th>\n",
              "      <th>AcceptedCmp4</th>\n",
              "      <th>AcceptedCmp5</th>\n",
              "      <th>AcceptedCmp1</th>\n",
              "      <th>AcceptedCmp2</th>\n",
              "      <th>Complain</th>\n",
              "      <th>Z_CostContact</th>\n",
              "      <th>Z_Revenue</th>\n",
              "      <th>Response</th>\n",
              "    </tr>\n",
              "  </thead>\n",
              "  <tbody>\n",
              "    <tr>\n",
              "      <th>0</th>\n",
              "      <td>5524</td>\n",
              "      <td>1957</td>\n",
              "      <td>Graduation</td>\n",
              "      <td>Single</td>\n",
              "      <td>58138.0</td>\n",
              "      <td>0</td>\n",
              "      <td>0</td>\n",
              "      <td>2012-09-04</td>\n",
              "      <td>58</td>\n",
              "      <td>635</td>\n",
              "      <td>...</td>\n",
              "      <td>7</td>\n",
              "      <td>0</td>\n",
              "      <td>0</td>\n",
              "      <td>0</td>\n",
              "      <td>0</td>\n",
              "      <td>0</td>\n",
              "      <td>0</td>\n",
              "      <td>3</td>\n",
              "      <td>11</td>\n",
              "      <td>1</td>\n",
              "    </tr>\n",
              "    <tr>\n",
              "      <th>1</th>\n",
              "      <td>2174</td>\n",
              "      <td>1954</td>\n",
              "      <td>Graduation</td>\n",
              "      <td>Single</td>\n",
              "      <td>46344.0</td>\n",
              "      <td>1</td>\n",
              "      <td>1</td>\n",
              "      <td>2014-03-08</td>\n",
              "      <td>38</td>\n",
              "      <td>11</td>\n",
              "      <td>...</td>\n",
              "      <td>5</td>\n",
              "      <td>0</td>\n",
              "      <td>0</td>\n",
              "      <td>0</td>\n",
              "      <td>0</td>\n",
              "      <td>0</td>\n",
              "      <td>0</td>\n",
              "      <td>3</td>\n",
              "      <td>11</td>\n",
              "      <td>0</td>\n",
              "    </tr>\n",
              "    <tr>\n",
              "      <th>2</th>\n",
              "      <td>4141</td>\n",
              "      <td>1965</td>\n",
              "      <td>Graduation</td>\n",
              "      <td>Together</td>\n",
              "      <td>71613.0</td>\n",
              "      <td>0</td>\n",
              "      <td>0</td>\n",
              "      <td>2013-08-21</td>\n",
              "      <td>26</td>\n",
              "      <td>426</td>\n",
              "      <td>...</td>\n",
              "      <td>4</td>\n",
              "      <td>0</td>\n",
              "      <td>0</td>\n",
              "      <td>0</td>\n",
              "      <td>0</td>\n",
              "      <td>0</td>\n",
              "      <td>0</td>\n",
              "      <td>3</td>\n",
              "      <td>11</td>\n",
              "      <td>0</td>\n",
              "    </tr>\n",
              "    <tr>\n",
              "      <th>3</th>\n",
              "      <td>6182</td>\n",
              "      <td>1984</td>\n",
              "      <td>Graduation</td>\n",
              "      <td>Together</td>\n",
              "      <td>26646.0</td>\n",
              "      <td>1</td>\n",
              "      <td>0</td>\n",
              "      <td>2014-02-10</td>\n",
              "      <td>26</td>\n",
              "      <td>11</td>\n",
              "      <td>...</td>\n",
              "      <td>6</td>\n",
              "      <td>0</td>\n",
              "      <td>0</td>\n",
              "      <td>0</td>\n",
              "      <td>0</td>\n",
              "      <td>0</td>\n",
              "      <td>0</td>\n",
              "      <td>3</td>\n",
              "      <td>11</td>\n",
              "      <td>0</td>\n",
              "    </tr>\n",
              "    <tr>\n",
              "      <th>4</th>\n",
              "      <td>5324</td>\n",
              "      <td>1981</td>\n",
              "      <td>PhD</td>\n",
              "      <td>Married</td>\n",
              "      <td>58293.0</td>\n",
              "      <td>1</td>\n",
              "      <td>0</td>\n",
              "      <td>2014-01-19</td>\n",
              "      <td>94</td>\n",
              "      <td>173</td>\n",
              "      <td>...</td>\n",
              "      <td>5</td>\n",
              "      <td>0</td>\n",
              "      <td>0</td>\n",
              "      <td>0</td>\n",
              "      <td>0</td>\n",
              "      <td>0</td>\n",
              "      <td>0</td>\n",
              "      <td>3</td>\n",
              "      <td>11</td>\n",
              "      <td>0</td>\n",
              "    </tr>\n",
              "  </tbody>\n",
              "</table>\n",
              "<p>5 rows × 29 columns</p>\n",
              "</div>\n",
              "      <button class=\"colab-df-convert\" onclick=\"convertToInteractive('df-162afddc-303b-44be-8784-5a2924c68f59')\"\n",
              "              title=\"Convert this dataframe to an interactive table.\"\n",
              "              style=\"display:none;\">\n",
              "        \n",
              "  <svg xmlns=\"http://www.w3.org/2000/svg\" height=\"24px\"viewBox=\"0 0 24 24\"\n",
              "       width=\"24px\">\n",
              "    <path d=\"M0 0h24v24H0V0z\" fill=\"none\"/>\n",
              "    <path d=\"M18.56 5.44l.94 2.06.94-2.06 2.06-.94-2.06-.94-.94-2.06-.94 2.06-2.06.94zm-11 1L8.5 8.5l.94-2.06 2.06-.94-2.06-.94L8.5 2.5l-.94 2.06-2.06.94zm10 10l.94 2.06.94-2.06 2.06-.94-2.06-.94-.94-2.06-.94 2.06-2.06.94z\"/><path d=\"M17.41 7.96l-1.37-1.37c-.4-.4-.92-.59-1.43-.59-.52 0-1.04.2-1.43.59L10.3 9.45l-7.72 7.72c-.78.78-.78 2.05 0 2.83L4 21.41c.39.39.9.59 1.41.59.51 0 1.02-.2 1.41-.59l7.78-7.78 2.81-2.81c.8-.78.8-2.07 0-2.86zM5.41 20L4 18.59l7.72-7.72 1.47 1.35L5.41 20z\"/>\n",
              "  </svg>\n",
              "      </button>\n",
              "      \n",
              "  <style>\n",
              "    .colab-df-container {\n",
              "      display:flex;\n",
              "      flex-wrap:wrap;\n",
              "      gap: 12px;\n",
              "    }\n",
              "\n",
              "    .colab-df-convert {\n",
              "      background-color: #E8F0FE;\n",
              "      border: none;\n",
              "      border-radius: 50%;\n",
              "      cursor: pointer;\n",
              "      display: none;\n",
              "      fill: #1967D2;\n",
              "      height: 32px;\n",
              "      padding: 0 0 0 0;\n",
              "      width: 32px;\n",
              "    }\n",
              "\n",
              "    .colab-df-convert:hover {\n",
              "      background-color: #E2EBFA;\n",
              "      box-shadow: 0px 1px 2px rgba(60, 64, 67, 0.3), 0px 1px 3px 1px rgba(60, 64, 67, 0.15);\n",
              "      fill: #174EA6;\n",
              "    }\n",
              "\n",
              "    [theme=dark] .colab-df-convert {\n",
              "      background-color: #3B4455;\n",
              "      fill: #D2E3FC;\n",
              "    }\n",
              "\n",
              "    [theme=dark] .colab-df-convert:hover {\n",
              "      background-color: #434B5C;\n",
              "      box-shadow: 0px 1px 3px 1px rgba(0, 0, 0, 0.15);\n",
              "      filter: drop-shadow(0px 1px 2px rgba(0, 0, 0, 0.3));\n",
              "      fill: #FFFFFF;\n",
              "    }\n",
              "  </style>\n",
              "\n",
              "      <script>\n",
              "        const buttonEl =\n",
              "          document.querySelector('#df-162afddc-303b-44be-8784-5a2924c68f59 button.colab-df-convert');\n",
              "        buttonEl.style.display =\n",
              "          google.colab.kernel.accessAllowed ? 'block' : 'none';\n",
              "\n",
              "        async function convertToInteractive(key) {\n",
              "          const element = document.querySelector('#df-162afddc-303b-44be-8784-5a2924c68f59');\n",
              "          const dataTable =\n",
              "            await google.colab.kernel.invokeFunction('convertToInteractive',\n",
              "                                                     [key], {});\n",
              "          if (!dataTable) return;\n",
              "\n",
              "          const docLinkHtml = 'Like what you see? Visit the ' +\n",
              "            '<a target=\"_blank\" href=https://colab.research.google.com/notebooks/data_table.ipynb>data table notebook</a>'\n",
              "            + ' to learn more about interactive tables.';\n",
              "          element.innerHTML = '';\n",
              "          dataTable['output_type'] = 'display_data';\n",
              "          await google.colab.output.renderOutput(dataTable, element);\n",
              "          const docLink = document.createElement('div');\n",
              "          docLink.innerHTML = docLinkHtml;\n",
              "          element.appendChild(docLink);\n",
              "        }\n",
              "      </script>\n",
              "    </div>\n",
              "  </div>\n",
              "  "
            ]
          },
          "metadata": {},
          "execution_count": 4
        }
      ]
    },
    {
      "cell_type": "markdown",
      "source": [
        "### 데이터 전처리"
      ],
      "metadata": {
        "id": "N9QSTEvPRK-t"
      }
    },
    {
      "cell_type": "code",
      "source": [
        "## 등록한 이후에 현재까지의 기간(회원 일수)를 'days'라는 변수로 저장.\n",
        "from datetime import datetime\n",
        "y = pd.to_datetime(datetime.today().strftime(\"%Y-%m-%d\")) #datetime 타입으로 변환\n",
        "\n",
        "data.Dt_Customer = pd.to_datetime(data.Dt_Customer) #datetime 타입으로 변환\n",
        "data['days'] = y - data.Dt_Customer\n",
        "data['days'] = data['days'] / np.timedelta64(1, 'D')\n",
        "data['days'] = data['days'].astype('int') #int형으로 변환\n",
        "data['days'][:5]"
      ],
      "metadata": {
        "id": "y84-iEHeLRsY",
        "colab": {
          "base_uri": "https://localhost:8080/"
        },
        "outputId": "072e603d-5f29-4afc-8ea1-07a692da0e0d"
      },
      "execution_count": null,
      "outputs": [
        {
          "output_type": "execute_result",
          "data": {
            "text/plain": [
              "0    3814\n",
              "1    3264\n",
              "2    3463\n",
              "3    3290\n",
              "4    3312\n",
              "Name: days, dtype: int64"
            ]
          },
          "metadata": {},
          "execution_count": 5
        }
      ]
    },
    {
      "cell_type": "code",
      "source": [
        "## 나이를 age에 저장\n",
        "data['age'] = 2024-data['Year_Birth']"
      ],
      "metadata": {
        "id": "uNjip3heP_8V"
      },
      "execution_count": null,
      "outputs": []
    },
    {
      "cell_type": "code",
      "source": [
        "## 마케팅 캠페인에서의 총 참여 횟수\n",
        "data['CampaignAttendance'] = data.iloc[:,20:25].sum(axis=1)\n",
        "\n",
        "## 이 데이터랑 군집화 결과가 얼마나 유사하게, 또는 다르게 나오는지 비교해봅시다~!!"
      ],
      "metadata": {
        "id": "mFGUXheeRyRr"
      },
      "execution_count": null,
      "outputs": []
    },
    {
      "cell_type": "code",
      "source": [
        "data.columns\n",
        "\n",
        "features = ['days', 'age', 'Income', 'Recency', 'MntWines', 'MntFruits',\\\n",
        "                     'MntMeatProducts', 'MntFishProducts', 'MntSweetProducts',\\\n",
        "                     'MntGoldProds', 'NumDealsPurchases','NumWebPurchases', \\\n",
        "                     'NumCatalogPurchases', 'NumStorePurchases', 'NumWebVisitsMonth',\\\n",
        "                    'AcceptedCmp3', 'AcceptedCmp4', 'AcceptedCmp5', 'AcceptedCmp1',\\\n",
        "                    'AcceptedCmp2', 'Complain', 'Z_CostContact', 'Z_Revenue', 'Response','CampaignAttendance'] #우리가 고려할 변수들"
      ],
      "metadata": {
        "id": "GTOPK6rWTUj4"
      },
      "execution_count": null,
      "outputs": []
    },
    {
      "cell_type": "code",
      "source": [
        "X_features = data[features]\n",
        "X_features = X_features.dropna().reset_index(drop = True) #결측치 제거\n",
        "\n",
        "y_label = X_features['CampaignAttendance'] #캠페인에서의 총 참여 횟수를 임의의 라벨값으로 설정 -> 기준으로 삼아보자.\n",
        "\n",
        "X_features = X_features.drop(['CampaignAttendance'], axis = 1)"
      ],
      "metadata": {
        "id": "EjWWJ0NDT_EN"
      },
      "execution_count": null,
      "outputs": []
    },
    {
      "cell_type": "code",
      "source": [
        "## 각 변수들을 '표준화' scaling 합니다.\n",
        "from sklearn.preprocessing import StandardScaler\n",
        "scaler = StandardScaler()\n",
        "X_features_scaling  = scaler.fit_transform(X_features)\n",
        "\n",
        "X_features_scaling = pd.DataFrame(X_features_scaling, columns = X_features.columns, index = list(X_features.index.values))\n",
        "X_features_scaling"
      ],
      "metadata": {
        "id": "F5ZEd_GfLFdx",
        "colab": {
          "base_uri": "https://localhost:8080/",
          "height": 487
        },
        "outputId": "48a39658-85cb-42d7-8d2e-c72204a4b277"
      },
      "execution_count": null,
      "outputs": [
        {
          "output_type": "execute_result",
          "data": {
            "text/plain": [
              "          days       age    Income   Recency  MntWines  MntFruits  \\\n",
              "0     1.529129  0.986443  0.234063  0.310532  0.978226   1.549429   \n",
              "1    -1.188411  1.236801 -0.234559 -0.380509 -0.872024  -0.637328   \n",
              "2    -0.205155  0.318822  0.769478 -0.795134  0.358511   0.569159   \n",
              "3    -1.059945 -1.266777 -1.017239 -0.795134 -0.872024  -0.561922   \n",
              "4    -0.951244 -1.016420  0.240221  1.554407 -0.391671   0.418348   \n",
              "...        ...       ...       ...       ...       ...        ...   \n",
              "2211  0.135772  0.151917  0.356642 -0.104093  1.197646   0.418348   \n",
              "2212 -1.652863  1.904422  0.467539  0.241428  0.299208  -0.662463   \n",
              "2213 -0.980889 -1.016420  0.188091  1.450751  1.787710   0.544024   \n",
              "2214 -0.975948  1.069896  0.675388 -1.417072  0.364441   0.091591   \n",
              "2215  1.326548  1.236801  0.024705 -0.311405 -0.655568  -0.587058   \n",
              "\n",
              "      MntMeatProducts  MntFishProducts  MntSweetProducts  MntGoldProds  ...  \\\n",
              "0            1.690227         2.454568          1.484827      0.850031  ...   \n",
              "1           -0.717986        -0.651038         -0.633880     -0.732867  ...   \n",
              "2           -0.178368         1.340203         -0.146821     -0.037937  ...   \n",
              "3           -0.655551        -0.504892         -0.585174     -0.752171  ...   \n",
              "4           -0.218505         0.152766         -0.000703     -0.559135  ...   \n",
              "...               ...              ...               ...           ...  ...   \n",
              "2211         0.066913         0.079693          2.215416      3.919308  ...   \n",
              "2212        -0.610954        -0.687574         -0.658233     -0.694260  ...   \n",
              "2213         0.223001        -0.102990         -0.365998     -0.385402  ...   \n",
              "2214         0.209622         0.773887          0.072356      0.328832  ...   \n",
              "2215        -0.472705        -0.651038         -0.633880     -0.443313  ...   \n",
              "\n",
              "      NumWebVisitsMonth  AcceptedCmp3  AcceptedCmp4  AcceptedCmp5  \\\n",
              "0              0.693232     -0.281773     -0.282705     -0.280839   \n",
              "1             -0.131574     -0.281773     -0.282705     -0.280839   \n",
              "2             -0.543978     -0.281773     -0.282705     -0.280839   \n",
              "3              0.280829     -0.281773     -0.282705     -0.280839   \n",
              "4             -0.131574     -0.281773     -0.282705     -0.280839   \n",
              "...                 ...           ...           ...           ...   \n",
              "2211          -0.131574     -0.281773     -0.282705     -0.280839   \n",
              "2212           0.693232     -0.281773     -0.282705     -0.280839   \n",
              "2213           0.280829     -0.281773      3.537258     -0.280839   \n",
              "2214          -0.956381     -0.281773     -0.282705     -0.280839   \n",
              "2215           0.693232     -0.281773     -0.282705     -0.280839   \n",
              "\n",
              "      AcceptedCmp1  AcceptedCmp2  Complain  Z_CostContact  Z_Revenue  Response  \n",
              "0        -0.261661     -0.117148 -0.097812            0.0        0.0  2.377952  \n",
              "1        -0.261661     -0.117148 -0.097812            0.0        0.0 -0.420530  \n",
              "2        -0.261661     -0.117148 -0.097812            0.0        0.0 -0.420530  \n",
              "3        -0.261661     -0.117148 -0.097812            0.0        0.0 -0.420530  \n",
              "4        -0.261661     -0.117148 -0.097812            0.0        0.0 -0.420530  \n",
              "...            ...           ...       ...            ...        ...       ...  \n",
              "2211     -0.261661     -0.117148 -0.097812            0.0        0.0 -0.420530  \n",
              "2212      3.821732     -0.117148 -0.097812            0.0        0.0 -0.420530  \n",
              "2213     -0.261661     -0.117148 -0.097812            0.0        0.0 -0.420530  \n",
              "2214     -0.261661     -0.117148 -0.097812            0.0        0.0 -0.420530  \n",
              "2215     -0.261661     -0.117148 -0.097812            0.0        0.0  2.377952  \n",
              "\n",
              "[2216 rows x 24 columns]"
            ],
            "text/html": [
              "\n",
              "  <div id=\"df-36f1500a-01f3-4a67-a631-6062455cc72f\">\n",
              "    <div class=\"colab-df-container\">\n",
              "      <div>\n",
              "<style scoped>\n",
              "    .dataframe tbody tr th:only-of-type {\n",
              "        vertical-align: middle;\n",
              "    }\n",
              "\n",
              "    .dataframe tbody tr th {\n",
              "        vertical-align: top;\n",
              "    }\n",
              "\n",
              "    .dataframe thead th {\n",
              "        text-align: right;\n",
              "    }\n",
              "</style>\n",
              "<table border=\"1\" class=\"dataframe\">\n",
              "  <thead>\n",
              "    <tr style=\"text-align: right;\">\n",
              "      <th></th>\n",
              "      <th>days</th>\n",
              "      <th>age</th>\n",
              "      <th>Income</th>\n",
              "      <th>Recency</th>\n",
              "      <th>MntWines</th>\n",
              "      <th>MntFruits</th>\n",
              "      <th>MntMeatProducts</th>\n",
              "      <th>MntFishProducts</th>\n",
              "      <th>MntSweetProducts</th>\n",
              "      <th>MntGoldProds</th>\n",
              "      <th>...</th>\n",
              "      <th>NumWebVisitsMonth</th>\n",
              "      <th>AcceptedCmp3</th>\n",
              "      <th>AcceptedCmp4</th>\n",
              "      <th>AcceptedCmp5</th>\n",
              "      <th>AcceptedCmp1</th>\n",
              "      <th>AcceptedCmp2</th>\n",
              "      <th>Complain</th>\n",
              "      <th>Z_CostContact</th>\n",
              "      <th>Z_Revenue</th>\n",
              "      <th>Response</th>\n",
              "    </tr>\n",
              "  </thead>\n",
              "  <tbody>\n",
              "    <tr>\n",
              "      <th>0</th>\n",
              "      <td>1.529129</td>\n",
              "      <td>0.986443</td>\n",
              "      <td>0.234063</td>\n",
              "      <td>0.310532</td>\n",
              "      <td>0.978226</td>\n",
              "      <td>1.549429</td>\n",
              "      <td>1.690227</td>\n",
              "      <td>2.454568</td>\n",
              "      <td>1.484827</td>\n",
              "      <td>0.850031</td>\n",
              "      <td>...</td>\n",
              "      <td>0.693232</td>\n",
              "      <td>-0.281773</td>\n",
              "      <td>-0.282705</td>\n",
              "      <td>-0.280839</td>\n",
              "      <td>-0.261661</td>\n",
              "      <td>-0.117148</td>\n",
              "      <td>-0.097812</td>\n",
              "      <td>0.0</td>\n",
              "      <td>0.0</td>\n",
              "      <td>2.377952</td>\n",
              "    </tr>\n",
              "    <tr>\n",
              "      <th>1</th>\n",
              "      <td>-1.188411</td>\n",
              "      <td>1.236801</td>\n",
              "      <td>-0.234559</td>\n",
              "      <td>-0.380509</td>\n",
              "      <td>-0.872024</td>\n",
              "      <td>-0.637328</td>\n",
              "      <td>-0.717986</td>\n",
              "      <td>-0.651038</td>\n",
              "      <td>-0.633880</td>\n",
              "      <td>-0.732867</td>\n",
              "      <td>...</td>\n",
              "      <td>-0.131574</td>\n",
              "      <td>-0.281773</td>\n",
              "      <td>-0.282705</td>\n",
              "      <td>-0.280839</td>\n",
              "      <td>-0.261661</td>\n",
              "      <td>-0.117148</td>\n",
              "      <td>-0.097812</td>\n",
              "      <td>0.0</td>\n",
              "      <td>0.0</td>\n",
              "      <td>-0.420530</td>\n",
              "    </tr>\n",
              "    <tr>\n",
              "      <th>2</th>\n",
              "      <td>-0.205155</td>\n",
              "      <td>0.318822</td>\n",
              "      <td>0.769478</td>\n",
              "      <td>-0.795134</td>\n",
              "      <td>0.358511</td>\n",
              "      <td>0.569159</td>\n",
              "      <td>-0.178368</td>\n",
              "      <td>1.340203</td>\n",
              "      <td>-0.146821</td>\n",
              "      <td>-0.037937</td>\n",
              "      <td>...</td>\n",
              "      <td>-0.543978</td>\n",
              "      <td>-0.281773</td>\n",
              "      <td>-0.282705</td>\n",
              "      <td>-0.280839</td>\n",
              "      <td>-0.261661</td>\n",
              "      <td>-0.117148</td>\n",
              "      <td>-0.097812</td>\n",
              "      <td>0.0</td>\n",
              "      <td>0.0</td>\n",
              "      <td>-0.420530</td>\n",
              "    </tr>\n",
              "    <tr>\n",
              "      <th>3</th>\n",
              "      <td>-1.059945</td>\n",
              "      <td>-1.266777</td>\n",
              "      <td>-1.017239</td>\n",
              "      <td>-0.795134</td>\n",
              "      <td>-0.872024</td>\n",
              "      <td>-0.561922</td>\n",
              "      <td>-0.655551</td>\n",
              "      <td>-0.504892</td>\n",
              "      <td>-0.585174</td>\n",
              "      <td>-0.752171</td>\n",
              "      <td>...</td>\n",
              "      <td>0.280829</td>\n",
              "      <td>-0.281773</td>\n",
              "      <td>-0.282705</td>\n",
              "      <td>-0.280839</td>\n",
              "      <td>-0.261661</td>\n",
              "      <td>-0.117148</td>\n",
              "      <td>-0.097812</td>\n",
              "      <td>0.0</td>\n",
              "      <td>0.0</td>\n",
              "      <td>-0.420530</td>\n",
              "    </tr>\n",
              "    <tr>\n",
              "      <th>4</th>\n",
              "      <td>-0.951244</td>\n",
              "      <td>-1.016420</td>\n",
              "      <td>0.240221</td>\n",
              "      <td>1.554407</td>\n",
              "      <td>-0.391671</td>\n",
              "      <td>0.418348</td>\n",
              "      <td>-0.218505</td>\n",
              "      <td>0.152766</td>\n",
              "      <td>-0.000703</td>\n",
              "      <td>-0.559135</td>\n",
              "      <td>...</td>\n",
              "      <td>-0.131574</td>\n",
              "      <td>-0.281773</td>\n",
              "      <td>-0.282705</td>\n",
              "      <td>-0.280839</td>\n",
              "      <td>-0.261661</td>\n",
              "      <td>-0.117148</td>\n",
              "      <td>-0.097812</td>\n",
              "      <td>0.0</td>\n",
              "      <td>0.0</td>\n",
              "      <td>-0.420530</td>\n",
              "    </tr>\n",
              "    <tr>\n",
              "      <th>...</th>\n",
              "      <td>...</td>\n",
              "      <td>...</td>\n",
              "      <td>...</td>\n",
              "      <td>...</td>\n",
              "      <td>...</td>\n",
              "      <td>...</td>\n",
              "      <td>...</td>\n",
              "      <td>...</td>\n",
              "      <td>...</td>\n",
              "      <td>...</td>\n",
              "      <td>...</td>\n",
              "      <td>...</td>\n",
              "      <td>...</td>\n",
              "      <td>...</td>\n",
              "      <td>...</td>\n",
              "      <td>...</td>\n",
              "      <td>...</td>\n",
              "      <td>...</td>\n",
              "      <td>...</td>\n",
              "      <td>...</td>\n",
              "      <td>...</td>\n",
              "    </tr>\n",
              "    <tr>\n",
              "      <th>2211</th>\n",
              "      <td>0.135772</td>\n",
              "      <td>0.151917</td>\n",
              "      <td>0.356642</td>\n",
              "      <td>-0.104093</td>\n",
              "      <td>1.197646</td>\n",
              "      <td>0.418348</td>\n",
              "      <td>0.066913</td>\n",
              "      <td>0.079693</td>\n",
              "      <td>2.215416</td>\n",
              "      <td>3.919308</td>\n",
              "      <td>...</td>\n",
              "      <td>-0.131574</td>\n",
              "      <td>-0.281773</td>\n",
              "      <td>-0.282705</td>\n",
              "      <td>-0.280839</td>\n",
              "      <td>-0.261661</td>\n",
              "      <td>-0.117148</td>\n",
              "      <td>-0.097812</td>\n",
              "      <td>0.0</td>\n",
              "      <td>0.0</td>\n",
              "      <td>-0.420530</td>\n",
              "    </tr>\n",
              "    <tr>\n",
              "      <th>2212</th>\n",
              "      <td>-1.652863</td>\n",
              "      <td>1.904422</td>\n",
              "      <td>0.467539</td>\n",
              "      <td>0.241428</td>\n",
              "      <td>0.299208</td>\n",
              "      <td>-0.662463</td>\n",
              "      <td>-0.610954</td>\n",
              "      <td>-0.687574</td>\n",
              "      <td>-0.658233</td>\n",
              "      <td>-0.694260</td>\n",
              "      <td>...</td>\n",
              "      <td>0.693232</td>\n",
              "      <td>-0.281773</td>\n",
              "      <td>-0.282705</td>\n",
              "      <td>-0.280839</td>\n",
              "      <td>3.821732</td>\n",
              "      <td>-0.117148</td>\n",
              "      <td>-0.097812</td>\n",
              "      <td>0.0</td>\n",
              "      <td>0.0</td>\n",
              "      <td>-0.420530</td>\n",
              "    </tr>\n",
              "    <tr>\n",
              "      <th>2213</th>\n",
              "      <td>-0.980889</td>\n",
              "      <td>-1.016420</td>\n",
              "      <td>0.188091</td>\n",
              "      <td>1.450751</td>\n",
              "      <td>1.787710</td>\n",
              "      <td>0.544024</td>\n",
              "      <td>0.223001</td>\n",
              "      <td>-0.102990</td>\n",
              "      <td>-0.365998</td>\n",
              "      <td>-0.385402</td>\n",
              "      <td>...</td>\n",
              "      <td>0.280829</td>\n",
              "      <td>-0.281773</td>\n",
              "      <td>3.537258</td>\n",
              "      <td>-0.280839</td>\n",
              "      <td>-0.261661</td>\n",
              "      <td>-0.117148</td>\n",
              "      <td>-0.097812</td>\n",
              "      <td>0.0</td>\n",
              "      <td>0.0</td>\n",
              "      <td>-0.420530</td>\n",
              "    </tr>\n",
              "    <tr>\n",
              "      <th>2214</th>\n",
              "      <td>-0.975948</td>\n",
              "      <td>1.069896</td>\n",
              "      <td>0.675388</td>\n",
              "      <td>-1.417072</td>\n",
              "      <td>0.364441</td>\n",
              "      <td>0.091591</td>\n",
              "      <td>0.209622</td>\n",
              "      <td>0.773887</td>\n",
              "      <td>0.072356</td>\n",
              "      <td>0.328832</td>\n",
              "      <td>...</td>\n",
              "      <td>-0.956381</td>\n",
              "      <td>-0.281773</td>\n",
              "      <td>-0.282705</td>\n",
              "      <td>-0.280839</td>\n",
              "      <td>-0.261661</td>\n",
              "      <td>-0.117148</td>\n",
              "      <td>-0.097812</td>\n",
              "      <td>0.0</td>\n",
              "      <td>0.0</td>\n",
              "      <td>-0.420530</td>\n",
              "    </tr>\n",
              "    <tr>\n",
              "      <th>2215</th>\n",
              "      <td>1.326548</td>\n",
              "      <td>1.236801</td>\n",
              "      <td>0.024705</td>\n",
              "      <td>-0.311405</td>\n",
              "      <td>-0.655568</td>\n",
              "      <td>-0.587058</td>\n",
              "      <td>-0.472705</td>\n",
              "      <td>-0.651038</td>\n",
              "      <td>-0.633880</td>\n",
              "      <td>-0.443313</td>\n",
              "      <td>...</td>\n",
              "      <td>0.693232</td>\n",
              "      <td>-0.281773</td>\n",
              "      <td>-0.282705</td>\n",
              "      <td>-0.280839</td>\n",
              "      <td>-0.261661</td>\n",
              "      <td>-0.117148</td>\n",
              "      <td>-0.097812</td>\n",
              "      <td>0.0</td>\n",
              "      <td>0.0</td>\n",
              "      <td>2.377952</td>\n",
              "    </tr>\n",
              "  </tbody>\n",
              "</table>\n",
              "<p>2216 rows × 24 columns</p>\n",
              "</div>\n",
              "      <button class=\"colab-df-convert\" onclick=\"convertToInteractive('df-36f1500a-01f3-4a67-a631-6062455cc72f')\"\n",
              "              title=\"Convert this dataframe to an interactive table.\"\n",
              "              style=\"display:none;\">\n",
              "        \n",
              "  <svg xmlns=\"http://www.w3.org/2000/svg\" height=\"24px\"viewBox=\"0 0 24 24\"\n",
              "       width=\"24px\">\n",
              "    <path d=\"M0 0h24v24H0V0z\" fill=\"none\"/>\n",
              "    <path d=\"M18.56 5.44l.94 2.06.94-2.06 2.06-.94-2.06-.94-.94-2.06-.94 2.06-2.06.94zm-11 1L8.5 8.5l.94-2.06 2.06-.94-2.06-.94L8.5 2.5l-.94 2.06-2.06.94zm10 10l.94 2.06.94-2.06 2.06-.94-2.06-.94-.94-2.06-.94 2.06-2.06.94z\"/><path d=\"M17.41 7.96l-1.37-1.37c-.4-.4-.92-.59-1.43-.59-.52 0-1.04.2-1.43.59L10.3 9.45l-7.72 7.72c-.78.78-.78 2.05 0 2.83L4 21.41c.39.39.9.59 1.41.59.51 0 1.02-.2 1.41-.59l7.78-7.78 2.81-2.81c.8-.78.8-2.07 0-2.86zM5.41 20L4 18.59l7.72-7.72 1.47 1.35L5.41 20z\"/>\n",
              "  </svg>\n",
              "      </button>\n",
              "      \n",
              "  <style>\n",
              "    .colab-df-container {\n",
              "      display:flex;\n",
              "      flex-wrap:wrap;\n",
              "      gap: 12px;\n",
              "    }\n",
              "\n",
              "    .colab-df-convert {\n",
              "      background-color: #E8F0FE;\n",
              "      border: none;\n",
              "      border-radius: 50%;\n",
              "      cursor: pointer;\n",
              "      display: none;\n",
              "      fill: #1967D2;\n",
              "      height: 32px;\n",
              "      padding: 0 0 0 0;\n",
              "      width: 32px;\n",
              "    }\n",
              "\n",
              "    .colab-df-convert:hover {\n",
              "      background-color: #E2EBFA;\n",
              "      box-shadow: 0px 1px 2px rgba(60, 64, 67, 0.3), 0px 1px 3px 1px rgba(60, 64, 67, 0.15);\n",
              "      fill: #174EA6;\n",
              "    }\n",
              "\n",
              "    [theme=dark] .colab-df-convert {\n",
              "      background-color: #3B4455;\n",
              "      fill: #D2E3FC;\n",
              "    }\n",
              "\n",
              "    [theme=dark] .colab-df-convert:hover {\n",
              "      background-color: #434B5C;\n",
              "      box-shadow: 0px 1px 3px 1px rgba(0, 0, 0, 0.15);\n",
              "      filter: drop-shadow(0px 1px 2px rgba(0, 0, 0, 0.3));\n",
              "      fill: #FFFFFF;\n",
              "    }\n",
              "  </style>\n",
              "\n",
              "      <script>\n",
              "        const buttonEl =\n",
              "          document.querySelector('#df-36f1500a-01f3-4a67-a631-6062455cc72f button.colab-df-convert');\n",
              "        buttonEl.style.display =\n",
              "          google.colab.kernel.accessAllowed ? 'block' : 'none';\n",
              "\n",
              "        async function convertToInteractive(key) {\n",
              "          const element = document.querySelector('#df-36f1500a-01f3-4a67-a631-6062455cc72f');\n",
              "          const dataTable =\n",
              "            await google.colab.kernel.invokeFunction('convertToInteractive',\n",
              "                                                     [key], {});\n",
              "          if (!dataTable) return;\n",
              "\n",
              "          const docLinkHtml = 'Like what you see? Visit the ' +\n",
              "            '<a target=\"_blank\" href=https://colab.research.google.com/notebooks/data_table.ipynb>data table notebook</a>'\n",
              "            + ' to learn more about interactive tables.';\n",
              "          element.innerHTML = '';\n",
              "          dataTable['output_type'] = 'display_data';\n",
              "          await google.colab.output.renderOutput(dataTable, element);\n",
              "          const docLink = document.createElement('div');\n",
              "          docLink.innerHTML = docLinkHtml;\n",
              "          element.appendChild(docLink);\n",
              "        }\n",
              "      </script>\n",
              "    </div>\n",
              "  </div>\n",
              "  "
            ]
          },
          "metadata": {},
          "execution_count": 37
        }
      ]
    },
    {
      "cell_type": "markdown",
      "source": [
        "###차원 축소"
      ],
      "metadata": {
        "id": "hSweBGWmgDTy"
      }
    },
    {
      "cell_type": "markdown",
      "source": [
        "데이터를 차원 축소 해봅시다."
      ],
      "metadata": {
        "id": "GqDgcjqM2mrQ"
      }
    },
    {
      "cell_type": "code",
      "source": [
        "from sklearn.discriminant_analysis import LinearDiscriminantAnalysis\n",
        "\n",
        "## LDA\n",
        "lda = LinearDiscriminantAnalysis(n_components = 2)\n",
        "X_train_lda = lda.fit_transform(X_features_scaling, y_label) #차원축소 과정에 y 라벨값을 입력해줌"
      ],
      "metadata": {
        "id": "Fu0ayAvrYeC1"
      },
      "execution_count": null,
      "outputs": []
    },
    {
      "cell_type": "code",
      "source": [
        "X_train_lda = pd.DataFrame(X_train_lda).loc[:,0:1]\n",
        "X_train_lda = pd.concat((X_train_lda, y_label), axis = 1) #X_train_Ida와 y_label 데이터를 하나로 합치기\n",
        "X_train_lda.columns = ['lda_1', 'lda_2', 'label']\n",
        "X_train_lda\n",
        "\n",
        "sns.lmplot(x = 'lda_1',y = 'lda_2',data = X_train_lda, hue = 'label', fit_reg = False)\n",
        "plt.show()\n",
        "\n",
        "## 우리가 원하는 정답 모양\n",
        "## 캠페인 참여에서의 총 참여 횟수를 라벨값으로 둔 상태에서의 데이터 분포도"
      ],
      "metadata": {
        "id": "eS_siPJ1YoXr",
        "colab": {
          "base_uri": "https://localhost:8080/",
          "height": 369
        },
        "outputId": "23e6ffa1-fbc8-4ff4-ba14-6023ab96f942"
      },
      "execution_count": null,
      "outputs": [
        {
          "output_type": "display_data",
          "data": {
            "text/plain": [
              "<Figure size 402.375x360 with 1 Axes>"
            ],
            "image/png": "[encoded data removed]"
          },
          "metadata": {
            "needs_background": "light"
          }
        }
      ]
    },
    {
      "cell_type": "markdown",
      "source": [
        "###K-means Clustering"
      ],
      "metadata": {
        "id": "mlmCquwTgNBF"
      }
    },
    {
      "cell_type": "markdown",
      "source": [
        "클러스터링을 돌려 보는 데에 의의가 있기에, 파라미터 값 최적화보다는 각 알고리즘을 사용하면 결과가 어떻게 달라지는 지에 초점을 맞추어 살펴봅니다. 여러 번 시행해보면서 **자유롭게 파라미터를 정해주세요**."
      ],
      "metadata": {
        "id": "lY9vjJLvmtSv"
      }
    },
    {
      "cell_type": "markdown",
      "source": [
        "**(직접 최적의 파라미터 값을 찾아서 설정하고 싶으시다면 훨씬 좋습니다! 해당 과제의 모든 코드는 기본 뼈대일 뿐입니다. 코드를 추가 또는 변경하셔도 좋습니다.)**"
      ],
      "metadata": {
        "id": "UWBpYVvn6Y9-"
      }
    },
    {
      "cell_type": "markdown",
      "source": [
        "다른 x값들에 대해서도 캠페인 참여도, 즉 고객의 충실도를 잘 군집화할 수 있을까요? 클러스터링으로 결과를 확인해봅시다."
      ],
      "metadata": {
        "id": "0NFbMzot24go"
      }
    },
    {
      "cell_type": "markdown",
      "source": [
        "\n",
        "\n",
        "---\n",
        "\n",
        "\n",
        "\n"
      ],
      "metadata": {
        "id": "M6Bnqr3WgOH_"
      }
    },
    {
      "cell_type": "markdown",
      "source": [
        "K-means를 이용하여 클러스터링 해봅시다."
      ],
      "metadata": {
        "id": "TfuCCGgioEbh"
      }
    },
    {
      "cell_type": "code",
      "source": [
        "## 필요한 라이브러리를 임포트합니다.\n",
        "\n",
        "from sklearn.cluster import KMeans"
      ],
      "metadata": {
        "id": "T5c5byPLnB5e"
      },
      "execution_count": null,
      "outputs": []
    },
    {
      "cell_type": "code",
      "source": [
        "## 클러스터 수는 5로 설정하고, KMeans를 활용하여 예측된 y값을 만들어 봅시다.\n",
        "\n",
        "km = KMeans(n_clusters = 5)\n",
        "\n",
        "y_km = km.fit_predict(X_features_scaling)\n",
        "y_km"
      ],
      "metadata": {
        "id": "e66J9Orqaxdz",
        "colab": {
          "base_uri": "https://localhost:8080/"
        },
        "outputId": "4661be7e-a29c-4fdc-e644-3231105bbd3e"
      },
      "execution_count": null,
      "outputs": [
        {
          "output_type": "execute_result",
          "data": {
            "text/plain": [
              "array([0, 2, 0, ..., 1, 0, 2], dtype=int32)"
            ]
          },
          "metadata": {},
          "execution_count": 18
        }
      ]
    },
    {
      "cell_type": "code",
      "source": [
        "X_train_lda['K_means'] = y_km"
      ],
      "metadata": {
        "id": "Xalob8AybpqS"
      },
      "execution_count": null,
      "outputs": []
    },
    {
      "cell_type": "markdown",
      "source": [
        "####시각화"
      ],
      "metadata": {
        "id": "IpNZtoEJns4f"
      }
    },
    {
      "cell_type": "code",
      "source": [
        "sns.lmplot(x = 'lda_1', y = 'lda_2', data = X_train_lda, hue = 'K_means', fit_reg = False)\n",
        "plt.title('K-means Clustering Result')\n",
        "plt.show()"
      ],
      "metadata": {
        "id": "gMDG4QTFbkjJ",
        "colab": {
          "base_uri": "https://localhost:8080/",
          "height": 385
        },
        "outputId": "c200abe9-bcc4-4dec-a43f-a09f63394b7c"
      },
      "execution_count": null,
      "outputs": [
        {
          "output_type": "display_data",
          "data": {
            "text/plain": [
              "<Figure size 413x360 with 1 Axes>"
            ],
            "image/png": "[encoded data removed]"
          },
          "metadata": {
            "needs_background": "light"
          }
        }
      ]
    },
    {
      "cell_type": "markdown",
      "source": [
        "###Hierarchical Clustering"
      ],
      "metadata": {
        "id": "D2pTwOUfn62c"
      }
    },
    {
      "cell_type": "markdown",
      "source": [
        "Agglomerative 방법을 이용하여 클러스터링 해봅시다."
      ],
      "metadata": {
        "id": "Ezn3DNWVn-Gx"
      }
    },
    {
      "cell_type": "code",
      "source": [
        "## 필요한 라이브러리를 임포트합니다.\n",
        "\n",
        "from sklearn.cluster import AgglomerativeClustering"
      ],
      "metadata": {
        "id": "GbahvycYcTnC"
      },
      "execution_count": null,
      "outputs": []
    },
    {
      "cell_type": "code",
      "source": [
        "## 클러스터 수는 5로 설정하고, Agglomerative를 활용하여 예측된 y값을 만들어 봅시다.\n",
        "\n",
        "agghc = AgglomerativeClustering(n_clusters = 5, affinity = 'euclidean', linkage = 'ward') #와드연결법을 사용합니다.\n",
        "\n",
        "y_agghc = agghc.fit_predict(X_features_scaling)\n",
        "y_agghc"
      ],
      "metadata": {
        "colab": {
          "base_uri": "https://localhost:8080/"
        },
        "id": "Jm_odYfKoQOD",
        "outputId": "bfceca54-1a95-416c-e6e2-0df972f5a4f9"
      },
      "execution_count": null,
      "outputs": [
        {
          "output_type": "execute_result",
          "data": {
            "text/plain": [
              "array([2, 3, 2, ..., 1, 2, 1])"
            ]
          },
          "metadata": {},
          "execution_count": 22
        }
      ]
    },
    {
      "cell_type": "code",
      "source": [
        "X_train_lda['hierarchical'] = y_agghc"
      ],
      "metadata": {
        "id": "JmPjxgKJodsz"
      },
      "execution_count": null,
      "outputs": []
    },
    {
      "cell_type": "markdown",
      "source": [
        "####시각화"
      ],
      "metadata": {
        "id": "wtjDpfrN3ZE1"
      }
    },
    {
      "cell_type": "code",
      "source": [
        "sns.lmplot(x = 'lda_1', y = 'lda_2', data = X_train_lda, hue = 'hierarchical', fit_reg = False)\n",
        "plt.title('Hierarchical Clustering Result')\n",
        "plt.show()"
      ],
      "metadata": {
        "id": "Kc_5HVs9cna3",
        "colab": {
          "base_uri": "https://localhost:8080/",
          "height": 385
        },
        "outputId": "a1c126c6-d1b6-4930-9fda-01561bf4f271"
      },
      "execution_count": null,
      "outputs": [
        {
          "output_type": "display_data",
          "data": {
            "text/plain": [
              "<Figure size 426.75x360 with 1 Axes>"
            ],
            "image/png": "[encoded data removed]"
          },
          "metadata": {
            "needs_background": "light"
          }
        }
      ]
    },
    {
      "cell_type": "markdown",
      "source": [
        "###DBSCAN"
      ],
      "metadata": {
        "id": "ZZ4kBn15o0Ln"
      }
    },
    {
      "cell_type": "markdown",
      "source": [
        "DBSCAN을 이용하여 클러스터링 해봅시다."
      ],
      "metadata": {
        "id": "XqccBOmdo2NX"
      }
    },
    {
      "cell_type": "code",
      "source": [
        "## 필요한 라이브러리를 임포트합니다.\n",
        "\n",
        "from sklearn.cluster import DBSCAN\n",
        "import sklearn.neighbors\n",
        "from sklearn.neighbors import NearestNeighbors"
      ],
      "metadata": {
        "id": "RHb-CAXDcrBh"
      },
      "execution_count": null,
      "outputs": []
    },
    {
      "cell_type": "code",
      "source": [
        "nb = NearestNeighbors(n_neighbors = 4).fit(X_features_scaling)"
      ],
      "metadata": {
        "id": "5hvAy3gzbYXL"
      },
      "execution_count": null,
      "outputs": []
    },
    {
      "cell_type": "code",
      "source": [
        "minPts = 4"
      ],
      "metadata": {
        "id": "sjL_YB4lcOzK"
      },
      "execution_count": null,
      "outputs": []
    },
    {
      "cell_type": "code",
      "source": [
        "distances, indices = nb.kneighbors(X_features_scaling)"
      ],
      "metadata": {
        "id": "yRmXTCzMcQzz"
      },
      "execution_count": null,
      "outputs": []
    },
    {
      "cell_type": "code",
      "source": [
        "distance = sorted(distances[:, minPts-1], reverse = True)\n",
        "plt.plot(distance)"
      ],
      "metadata": {
        "colab": {
          "base_uri": "https://localhost:8080/",
          "height": 284
        },
        "id": "rO4U8msXcWel",
        "outputId": "b6286f2e-bc73-4bbd-a8da-b87f12c51749"
      },
      "execution_count": null,
      "outputs": [
        {
          "output_type": "execute_result",
          "data": {
            "text/plain": [
              "[<matplotlib.lines.Line2D at 0x7f157c27d040>]"
            ]
          },
          "metadata": {},
          "execution_count": 60
        },
        {
          "output_type": "display_data",
          "data": {
            "text/plain": [
              "<Figure size 432x288 with 1 Axes>"
            ],
            "image/png": "[encoded data removed]"
          },
          "metadata": {
            "needs_background": "light"
          }
        }
      ]
    },
    {
      "cell_type": "code",
      "source": [
        "## eps는 5.0, minPts는 4로 설정한 뒤 DBSCAN를 활용하여 예측된 y값을 만들어 봅시다.\n",
        "\n",
        "dbscan = DBSCAN(eps = 5.0, min_samples = 4, metric = 'euclidean') #eps는 일반적으로 0-1이나 위의 결과에 따라 5.0 채택\n",
        "\n",
        "y_dbscan = dbscan.fit_predict(X_features_scaling)\n",
        "y_dbscan"
      ],
      "metadata": {
        "id": "b9tu38-Fo98h",
        "colab": {
          "base_uri": "https://localhost:8080/"
        },
        "outputId": "c28dfde5-24a3-4493-a016-f79ce164a164"
      },
      "execution_count": null,
      "outputs": [
        {
          "output_type": "execute_result",
          "data": {
            "text/plain": [
              "array([0, 0, 0, ..., 0, 0, 0])"
            ]
          },
          "metadata": {},
          "execution_count": 64
        }
      ]
    },
    {
      "cell_type": "code",
      "source": [
        "X_train_lda['dbscan'] = y_dbscan"
      ],
      "metadata": {
        "id": "1xVqMxMtqK_r"
      },
      "execution_count": null,
      "outputs": []
    },
    {
      "cell_type": "markdown",
      "source": [
        "####시각화"
      ],
      "metadata": {
        "id": "3Rf8Hy_n3aEu"
      }
    },
    {
      "cell_type": "code",
      "source": [
        "sns.lmplot(x = 'lda_1', y = 'lda_2', data = X_train_lda, hue = 'dbscan', fit_reg = False)\n",
        "plt.show()"
      ],
      "metadata": {
        "id": "z7xQlZz-dL9K",
        "colab": {
          "base_uri": "https://localhost:8080/",
          "height": 369
        },
        "outputId": "4af38cf9-7f53-4aa7-c2c6-fe4f48dfa7b6"
      },
      "execution_count": null,
      "outputs": [
        {
          "output_type": "display_data",
          "data": {
            "text/plain": [
              "<Figure size 406x360 with 1 Axes>"
            ],
            "image/png": "[encoded data removed]"
          },
          "metadata": {
            "needs_background": "light"
          }
        }
      ]
    },
    {
      "cell_type": "markdown",
      "source": [
        "###Validation"
      ],
      "metadata": {
        "id": "HJpetyIbiEoy"
      }
    },
    {
      "cell_type": "markdown",
      "source": [
        "실루엣 계수를 사용하여 각 클러스터링의 성능을 평가해봅시다."
      ],
      "metadata": {
        "id": "CNaob-PWiI9e"
      }
    },
    {
      "cell_type": "markdown",
      "source": [
        "\n",
        "\n",
        "---\n",
        "\n"
      ],
      "metadata": {
        "id": "n8o06Vu4irOF"
      }
    },
    {
      "cell_type": "markdown",
      "source": [
        "(Q) 실루엣 계수로 평가하기 전에, 육안 상으로 어떠한 알고리즘의 성능이 제일 높아 보이며 어떠한 알고리즘의 성능이 제일 낮아 보이는지 의견을 적어주세요."
      ],
      "metadata": {
        "id": "r9KRTq-biRY3"
      }
    },
    {
      "cell_type": "markdown",
      "source": [
        "우리가 원하는 정답 모양과 비교해봤을 때, Hierarchical clustering이 가장 유사한 것으로 보아 해당 알고리즘의 성능이 제일 높아 보인다. 원하는 정답 모양과 차이가 가장 큰 DBSCAN이 성능이 가장 낮아 보인다."
      ],
      "metadata": {
        "id": "Rv3V8sfuihsF"
      }
    },
    {
      "cell_type": "markdown",
      "source": [
        "\n",
        "\n",
        "---\n",
        "\n"
      ],
      "metadata": {
        "id": "R_QgoTfIisvg"
      }
    },
    {
      "cell_type": "markdown",
      "source": [
        "이제 실루엣 계수로 성능을 평가해 봅시다!"
      ],
      "metadata": {
        "id": "Jv4WfZO4iuVF"
      }
    },
    {
      "cell_type": "code",
      "source": [
        "## 필요한 라이브러리를 임포트합니다.\n",
        "\n",
        "import sklearn.metrics as metrics\n",
        "from sklearn.metrics.cluster import silhouette_score"
      ],
      "metadata": {
        "id": "fULi7pCudtHs"
      },
      "execution_count": null,
      "outputs": []
    },
    {
      "cell_type": "markdown",
      "source": [
        "K-means Clustering의 실루엣 계수입니다."
      ],
      "metadata": {
        "id": "5bAQ6CyW6Uth"
      }
    },
    {
      "cell_type": "code",
      "source": [
        "coef_km = metrics.silhouette_score(X_features_scaling, y_km)\n",
        "print('Silhouette score is {}.'.format(coef_km))"
      ],
      "metadata": {
        "colab": {
          "base_uri": "https://localhost:8080/"
        },
        "id": "KDKJhjx6ojLj",
        "outputId": "d7ecd57a-e6ec-42ee-c860-86cd074ad6ea"
      },
      "execution_count": null,
      "outputs": [
        {
          "output_type": "stream",
          "name": "stdout",
          "text": [
            "Silhouette score is 0.1993050231444298.\n"
          ]
        }
      ]
    },
    {
      "cell_type": "markdown",
      "source": [
        "Hierarchical Clustering의 실루엣 계수입니다."
      ],
      "metadata": {
        "id": "WdNkPAm76eq9"
      }
    },
    {
      "cell_type": "code",
      "source": [
        "## Hierarchical Clustering\n",
        "\n",
        "coef_hc = metrics.silhouette_score(X_features_scaling, y_agghc)\n",
        "print('Silhouette score is {}.'.format(coef_hc))"
      ],
      "metadata": {
        "colab": {
          "base_uri": "https://localhost:8080/"
        },
        "id": "x1jUkQM_pbMk",
        "outputId": "82b63dbd-61ab-41f3-9f13-50d10bbb1234"
      },
      "execution_count": null,
      "outputs": [
        {
          "output_type": "stream",
          "name": "stdout",
          "text": [
            "Silhouette score is 0.17393367899599174.\n"
          ]
        }
      ]
    },
    {
      "cell_type": "markdown",
      "source": [
        "DBSCAN의 실루엣 계수입니다."
      ],
      "metadata": {
        "id": "4m7AX0LL6iV-"
      }
    },
    {
      "cell_type": "code",
      "source": [
        "## DBSCAN\n",
        "\n",
        "coef_db = metrics.silhouette_score(X_features_scaling, y_dbscan)\n",
        "print('Silhouette score is {}.'.format(coef_db))"
      ],
      "metadata": {
        "colab": {
          "base_uri": "https://localhost:8080/"
        },
        "id": "vppodq1EqLbA",
        "outputId": "c71aad12-7e43-4386-b563-ada2c7fc5c10"
      },
      "execution_count": null,
      "outputs": [
        {
          "output_type": "stream",
          "name": "stdout",
          "text": [
            "Silhouette score is 0.481500951729467.\n"
          ]
        }
      ]
    },
    {
      "cell_type": "markdown",
      "source": [
        "(Q) 실루엣 계수를 기반으로, 클러스터링 알고리즘의 성능을 높은 순대로 적어주세요."
      ],
      "metadata": {
        "id": "4Aef3wru4ycD"
      }
    },
    {
      "cell_type": "markdown",
      "source": [
        "DBSCAN > K-means clustering > Hierarchical clustering"
      ],
      "metadata": {
        "id": "-95mdNXC4coe"
      }
    },
    {
      "cell_type": "markdown",
      "source": [
        "(Q) 클러스터링 결과에 대한 해석을 적어주세요. (참고로, 실루엣 계수는 -1에서 1 사이의 값을 가집니다.)"
      ],
      "metadata": {
        "id": "TrYTuEi34lG7"
      }
    },
    {
      "cell_type": "markdown",
      "source": [
        "세션 때 실루엣 계수가 0.5보다 크면 군집화 결과가 타당하다고 본다고 배웠는데, 세 클러스터링 방법 모두 실루엣 계수가 0.5를 넘지 못했다.  \n",
        "이들 사이에서는 DBSCAN이 가장 실루엣 계수가 크고, 0.5에 가까운 값을 가지기 때문에 클러스터링 성능이 가장 좋다고 할 수는 있다. 그러나 이러한 결과 또한 밀도 기반으로 군집화를 진행한다는 DBSCAN의 특성으로 인해 밀도가 높은 부분에 모두 같은 클러스터 라벨을 부여했기 때문인 것으로 추정되어, 전체적으로 클러스터링이 원하는 방향대로 의미 있게 이루어졌다고 보기는 어렵지 않을까 생각한다."
      ],
      "metadata": {
        "id": "YIoqd0OZ4tLF"
      }
    },
    {
      "cell_type": "markdown",
      "source": [
        "(Q) 마케팅 캠페인과 관련하여 도출할 수 있는 인사이트를 적어주세요."
      ],
      "metadata": {
        "id": "9m2Rvla1fgj1"
      }
    },
    {
      "cell_type": "markdown",
      "source": [
        "* 세 클러스터링 방법 모두 실루엣 계수가 0.5를 넘지 못했고, 그나마 0.5에 가까운 실루엣 계수가 나온 DBSCAN의 경우 위에 서술한 것과 같은 특성상의 문제가 있기 때문에, 다른 클러스터링 방법을 사용하거나 데이터셋을 더 좋은 방향으로 가공하여 클러스터링 성능을 우선적으로 높일 필요성이 있다고 생각된다.\n",
        "* 캠페인 참여 횟수가 4회로 가장 높은 고객층이 그 특성만 놓고 본다면 가장 마케팅 효과가 좋고, 충성스러운 고객층이기 때문에 해당 군집을 타겟팅하면 좋겠지만, 절대적인 수가 적다는 문제가 있다. 따라서 가장 많은 수를 차지하는 0~1 클러스터 고객층이 캠페인에 더욱 활발히 참여할 수 있도록 독려하는 정책이 필요하다."
      ],
      "metadata": {
        "id": "a4B84sjvflRg"
      }
    }
  ]
}