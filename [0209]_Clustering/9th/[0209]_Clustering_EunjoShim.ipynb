{
  "cells": [
    {
      "cell_type": "markdown",
      "metadata": {
        "id": "OvZ4RWub-tp5"
      },
      "source": [
        "주어진 데이터셋을 차원 축소한 뒤 **다양한 알고리즘**을 적용하여 클러스터링을 진행하고, 결과를 시각화하는 작업을 직접 해보면서 **비지도학습** (Unsupervised Learning)에 대한 이해도를 높여 봅시다."
      ]
    },
    {
      "cell_type": "code",
      "execution_count": 1,
      "metadata": {
        "id": "sPkBwLLC_LpB"
      },
      "outputs": [],
      "source": [
        "## 필요한 라이브러리를 임포트합니다.\n",
        "\n",
        "import pandas as pd\n",
        "import numpy as np"
      ]
    },
    {
      "cell_type": "code",
      "execution_count": 2,
      "metadata": {
        "id": "OtnrxMvB-mV_"
      },
      "outputs": [],
      "source": [
        "## 시각화 관련 라이브러리를 임포트합니다.\n",
        "\n",
        "from matplotlib import pyplot as plt\n",
        "import seaborn as sns"
      ]
    },
    {
      "cell_type": "markdown",
      "metadata": {
        "id": "q2EVaet0fezv"
      },
      "source": [
        "###데이터"
      ]
    },
    {
      "cell_type": "markdown",
      "metadata": {
        "id": "u93F5Rxodjhg"
      },
      "source": [
        "사용할 데이터: 'Marketing Campaign.csv'"
      ]
    },
    {
      "cell_type": "markdown",
      "metadata": {
        "id": "3V10T3GMdkkq"
      },
      "source": [
        "주어진 데이터는 마케팅 캠페인을 펼치고자 하는 소비자들에 대한 정보를 나타낸 데이터입니다. 해당 소비자들을 알맞게 군집화시키는 것이 우리의 목적입니다.\n",
        "\n",
        "총 29개의 column으로 구성되어 있습니다. \n",
        "\n",
        "\n",
        "\n",
        "---\n",
        "\n",
        "\n",
        "\n",
        "\n",
        "\n"
      ]
    },
    {
      "cell_type": "markdown",
      "metadata": {
        "id": "bmzh86T1ftm5"
      },
      "source": [
        "데이터에 대한 자세한 설명은 해당 kaggle 페이지에서 확인하실 수 있습니다.\n",
        "\n",
        "https://www.kaggle.com/datasets/rodsaldanha/arketing-campaign"
      ]
    },
    {
      "cell_type": "markdown",
      "metadata": {
        "id": "13998SwmXdYu"
      },
      "source": [
        "데이터를 불러옵니다."
      ]
    },
    {
      "cell_type": "code",
      "execution_count": 3,
      "metadata": {
        "colab": {
          "base_uri": "https://localhost:8080/"
        },
        "id": "j9-R3h9_QgIS",
        "outputId": "3b1ad941-68b5-4749-a713-71009f008921"
      },
      "outputs": [
        {
          "output_type": "stream",
          "name": "stdout",
          "text": [
            "Mounted at /content/drive\n"
          ]
        }
      ],
      "source": [
        "## drive에 있는 데이터셋을 불러오기 위해 드라이브와 연동을 합니다.\n",
        "\n",
        "from google.colab import drive\n",
        "drive.mount('/content/drive')"
      ]
    },
    {
      "cell_type": "code",
      "execution_count": 4,
      "metadata": {
        "colab": {
          "base_uri": "https://localhost:8080/",
          "height": 299
        },
        "id": "aavBGusyFTc0",
        "outputId": "86c91282-69e7-4ca1-c3d0-9583e73ff1d2"
      },
      "outputs": [
        {
          "output_type": "execute_result",
          "data": {
            "text/plain": [
              "     ID  Year_Birth   Education Marital_Status   Income  Kidhome  Teenhome  \\\n",
              "0  5524        1957  Graduation         Single  58138.0        0         0   \n",
              "1  2174        1954  Graduation         Single  46344.0        1         1   \n",
              "2  4141        1965  Graduation       Together  71613.0        0         0   \n",
              "3  6182        1984  Graduation       Together  26646.0        1         0   \n",
              "4  5324        1981         PhD        Married  58293.0        1         0   \n",
              "\n",
              "  Dt_Customer  Recency  MntWines  ...  NumWebVisitsMonth  AcceptedCmp3  \\\n",
              "0  2012-09-04       58       635  ...                  7             0   \n",
              "1  2014-03-08       38        11  ...                  5             0   \n",
              "2  2013-08-21       26       426  ...                  4             0   \n",
              "3  2014-02-10       26        11  ...                  6             0   \n",
              "4  2014-01-19       94       173  ...                  5             0   \n",
              "\n",
              "   AcceptedCmp4  AcceptedCmp5  AcceptedCmp1  AcceptedCmp2  Complain  \\\n",
              "0             0             0             0             0         0   \n",
              "1             0             0             0             0         0   \n",
              "2             0             0             0             0         0   \n",
              "3             0             0             0             0         0   \n",
              "4             0             0             0             0         0   \n",
              "\n",
              "   Z_CostContact  Z_Revenue  Response  \n",
              "0              3         11         1  \n",
              "1              3         11         0  \n",
              "2              3         11         0  \n",
              "3              3         11         0  \n",
              "4              3         11         0  \n",
              "\n",
              "[5 rows x 29 columns]"
            ],
            "text/html": [
              "\n",
              "  <div id=\"df-9b6116ea-514f-43ae-8f18-02787f043c4a\">\n",
              "    <div class=\"colab-df-container\">\n",
              "      <div>\n",
              "<style scoped>\n",
              "    .dataframe tbody tr th:only-of-type {\n",
              "        vertical-align: middle;\n",
              "    }\n",
              "\n",
              "    .dataframe tbody tr th {\n",
              "        vertical-align: top;\n",
              "    }\n",
              "\n",
              "    .dataframe thead th {\n",
              "        text-align: right;\n",
              "    }\n",
              "</style>\n",
              "<table border=\"1\" class=\"dataframe\">\n",
              "  <thead>\n",
              "    <tr style=\"text-align: right;\">\n",
              "      <th></th>\n",
              "      <th>ID</th>\n",
              "      <th>Year_Birth</th>\n",
              "      <th>Education</th>\n",
              "      <th>Marital_Status</th>\n",
              "      <th>Income</th>\n",
              "      <th>Kidhome</th>\n",
              "      <th>Teenhome</th>\n",
              "      <th>Dt_Customer</th>\n",
              "      <th>Recency</th>\n",
              "      <th>MntWines</th>\n",
              "      <th>...</th>\n",
              "      <th>NumWebVisitsMonth</th>\n",
              "      <th>AcceptedCmp3</th>\n",
              "      <th>AcceptedCmp4</th>\n",
              "      <th>AcceptedCmp5</th>\n",
              "      <th>AcceptedCmp1</th>\n",
              "      <th>AcceptedCmp2</th>\n",
              "      <th>Complain</th>\n",
              "      <th>Z_CostContact</th>\n",
              "      <th>Z_Revenue</th>\n",
              "      <th>Response</th>\n",
              "    </tr>\n",
              "  </thead>\n",
              "  <tbody>\n",
              "    <tr>\n",
              "      <th>0</th>\n",
              "      <td>5524</td>\n",
              "      <td>1957</td>\n",
              "      <td>Graduation</td>\n",
              "      <td>Single</td>\n",
              "      <td>58138.0</td>\n",
              "      <td>0</td>\n",
              "      <td>0</td>\n",
              "      <td>2012-09-04</td>\n",
              "      <td>58</td>\n",
              "      <td>635</td>\n",
              "      <td>...</td>\n",
              "      <td>7</td>\n",
              "      <td>0</td>\n",
              "      <td>0</td>\n",
              "      <td>0</td>\n",
              "      <td>0</td>\n",
              "      <td>0</td>\n",
              "      <td>0</td>\n",
              "      <td>3</td>\n",
              "      <td>11</td>\n",
              "      <td>1</td>\n",
              "    </tr>\n",
              "    <tr>\n",
              "      <th>1</th>\n",
              "      <td>2174</td>\n",
              "      <td>1954</td>\n",
              "      <td>Graduation</td>\n",
              "      <td>Single</td>\n",
              "      <td>46344.0</td>\n",
              "      <td>1</td>\n",
              "      <td>1</td>\n",
              "      <td>2014-03-08</td>\n",
              "      <td>38</td>\n",
              "      <td>11</td>\n",
              "      <td>...</td>\n",
              "      <td>5</td>\n",
              "      <td>0</td>\n",
              "      <td>0</td>\n",
              "      <td>0</td>\n",
              "      <td>0</td>\n",
              "      <td>0</td>\n",
              "      <td>0</td>\n",
              "      <td>3</td>\n",
              "      <td>11</td>\n",
              "      <td>0</td>\n",
              "    </tr>\n",
              "    <tr>\n",
              "      <th>2</th>\n",
              "      <td>4141</td>\n",
              "      <td>1965</td>\n",
              "      <td>Graduation</td>\n",
              "      <td>Together</td>\n",
              "      <td>71613.0</td>\n",
              "      <td>0</td>\n",
              "      <td>0</td>\n",
              "      <td>2013-08-21</td>\n",
              "      <td>26</td>\n",
              "      <td>426</td>\n",
              "      <td>...</td>\n",
              "      <td>4</td>\n",
              "      <td>0</td>\n",
              "      <td>0</td>\n",
              "      <td>0</td>\n",
              "      <td>0</td>\n",
              "      <td>0</td>\n",
              "      <td>0</td>\n",
              "      <td>3</td>\n",
              "      <td>11</td>\n",
              "      <td>0</td>\n",
              "    </tr>\n",
              "    <tr>\n",
              "      <th>3</th>\n",
              "      <td>6182</td>\n",
              "      <td>1984</td>\n",
              "      <td>Graduation</td>\n",
              "      <td>Together</td>\n",
              "      <td>26646.0</td>\n",
              "      <td>1</td>\n",
              "      <td>0</td>\n",
              "      <td>2014-02-10</td>\n",
              "      <td>26</td>\n",
              "      <td>11</td>\n",
              "      <td>...</td>\n",
              "      <td>6</td>\n",
              "      <td>0</td>\n",
              "      <td>0</td>\n",
              "      <td>0</td>\n",
              "      <td>0</td>\n",
              "      <td>0</td>\n",
              "      <td>0</td>\n",
              "      <td>3</td>\n",
              "      <td>11</td>\n",
              "      <td>0</td>\n",
              "    </tr>\n",
              "    <tr>\n",
              "      <th>4</th>\n",
              "      <td>5324</td>\n",
              "      <td>1981</td>\n",
              "      <td>PhD</td>\n",
              "      <td>Married</td>\n",
              "      <td>58293.0</td>\n",
              "      <td>1</td>\n",
              "      <td>0</td>\n",
              "      <td>2014-01-19</td>\n",
              "      <td>94</td>\n",
              "      <td>173</td>\n",
              "      <td>...</td>\n",
              "      <td>5</td>\n",
              "      <td>0</td>\n",
              "      <td>0</td>\n",
              "      <td>0</td>\n",
              "      <td>0</td>\n",
              "      <td>0</td>\n",
              "      <td>0</td>\n",
              "      <td>3</td>\n",
              "      <td>11</td>\n",
              "      <td>0</td>\n",
              "    </tr>\n",
              "  </tbody>\n",
              "</table>\n",
              "<p>5 rows × 29 columns</p>\n",
              "</div>\n",
              "      <button class=\"colab-df-convert\" onclick=\"convertToInteractive('df-9b6116ea-514f-43ae-8f18-02787f043c4a')\"\n",
              "              title=\"Convert this dataframe to an interactive table.\"\n",
              "              style=\"display:none;\">\n",
              "        \n",
              "  <svg xmlns=\"http://www.w3.org/2000/svg\" height=\"24px\"viewBox=\"0 0 24 24\"\n",
              "       width=\"24px\">\n",
              "    <path d=\"M0 0h24v24H0V0z\" fill=\"none\"/>\n",
              "    <path d=\"M18.56 5.44l.94 2.06.94-2.06 2.06-.94-2.06-.94-.94-2.06-.94 2.06-2.06.94zm-11 1L8.5 8.5l.94-2.06 2.06-.94-2.06-.94L8.5 2.5l-.94 2.06-2.06.94zm10 10l.94 2.06.94-2.06 2.06-.94-2.06-.94-.94-2.06-.94 2.06-2.06.94z\"/><path d=\"M17.41 7.96l-1.37-1.37c-.4-.4-.92-.59-1.43-.59-.52 0-1.04.2-1.43.59L10.3 9.45l-7.72 7.72c-.78.78-.78 2.05 0 2.83L4 21.41c.39.39.9.59 1.41.59.51 0 1.02-.2 1.41-.59l7.78-7.78 2.81-2.81c.8-.78.8-2.07 0-2.86zM5.41 20L4 18.59l7.72-7.72 1.47 1.35L5.41 20z\"/>\n",
              "  </svg>\n",
              "      </button>\n",
              "      \n",
              "  <style>\n",
              "    .colab-df-container {\n",
              "      display:flex;\n",
              "      flex-wrap:wrap;\n",
              "      gap: 12px;\n",
              "    }\n",
              "\n",
              "    .colab-df-convert {\n",
              "      background-color: #E8F0FE;\n",
              "      border: none;\n",
              "      border-radius: 50%;\n",
              "      cursor: pointer;\n",
              "      display: none;\n",
              "      fill: #1967D2;\n",
              "      height: 32px;\n",
              "      padding: 0 0 0 0;\n",
              "      width: 32px;\n",
              "    }\n",
              "\n",
              "    .colab-df-convert:hover {\n",
              "      background-color: #E2EBFA;\n",
              "      box-shadow: 0px 1px 2px rgba(60, 64, 67, 0.3), 0px 1px 3px 1px rgba(60, 64, 67, 0.15);\n",
              "      fill: #174EA6;\n",
              "    }\n",
              "\n",
              "    [theme=dark] .colab-df-convert {\n",
              "      background-color: #3B4455;\n",
              "      fill: #D2E3FC;\n",
              "    }\n",
              "\n",
              "    [theme=dark] .colab-df-convert:hover {\n",
              "      background-color: #434B5C;\n",
              "      box-shadow: 0px 1px 3px 1px rgba(0, 0, 0, 0.15);\n",
              "      filter: drop-shadow(0px 1px 2px rgba(0, 0, 0, 0.3));\n",
              "      fill: #FFFFFF;\n",
              "    }\n",
              "  </style>\n",
              "\n",
              "      <script>\n",
              "        const buttonEl =\n",
              "          document.querySelector('#df-9b6116ea-514f-43ae-8f18-02787f043c4a button.colab-df-convert');\n",
              "        buttonEl.style.display =\n",
              "          google.colab.kernel.accessAllowed ? 'block' : 'none';\n",
              "\n",
              "        async function convertToInteractive(key) {\n",
              "          const element = document.querySelector('#df-9b6116ea-514f-43ae-8f18-02787f043c4a');\n",
              "          const dataTable =\n",
              "            await google.colab.kernel.invokeFunction('convertToInteractive',\n",
              "                                                     [key], {});\n",
              "          if (!dataTable) return;\n",
              "\n",
              "          const docLinkHtml = 'Like what you see? Visit the ' +\n",
              "            '<a target=\"_blank\" href=https://colab.research.google.com/notebooks/data_table.ipynb>data table notebook</a>'\n",
              "            + ' to learn more about interactive tables.';\n",
              "          element.innerHTML = '';\n",
              "          dataTable['output_type'] = 'display_data';\n",
              "          await google.colab.output.renderOutput(dataTable, element);\n",
              "          const docLink = document.createElement('div');\n",
              "          docLink.innerHTML = docLinkHtml;\n",
              "          element.appendChild(docLink);\n",
              "        }\n",
              "      </script>\n",
              "    </div>\n",
              "  </div>\n",
              "  "
            ]
          },
          "metadata": {},
          "execution_count": 4
        }
      ],
      "source": [
        "## 'Marketing_campaign' 데이터의 위치를 불러와 저장합니다.\n",
        "\n",
        "data = pd.read_csv('/content/drive/MyDrive/marketing_campaign.csv', \\\n",
        "                   sep = ';')\n",
        "data.head()"
      ]
    },
    {
      "cell_type": "markdown",
      "metadata": {
        "id": "N9QSTEvPRK-t"
      },
      "source": [
        "### 데이터 전처리"
      ]
    },
    {
      "cell_type": "code",
      "execution_count": 5,
      "metadata": {
        "id": "y84-iEHeLRsY",
        "colab": {
          "base_uri": "https://localhost:8080/"
        },
        "outputId": "acf1b81f-e765-4e4f-f222-594e48436b37"
      },
      "outputs": [
        {
          "output_type": "execute_result",
          "data": {
            "text/plain": [
              "0    3813\n",
              "1    3263\n",
              "2    3462\n",
              "3    3289\n",
              "4    3311\n",
              "Name: days, dtype: int64"
            ]
          },
          "metadata": {},
          "execution_count": 5
        }
      ],
      "source": [
        "## 등록한 이후에 현재까지의 기간(회원 일수)를 'days'라는 변수로 저장.\n",
        "from datetime import datetime\n",
        "y = pd.to_datetime(datetime.today().strftime(\"%Y-%m-%d\")) #datetime 타입으로 변환\n",
        "\n",
        "data.Dt_Customer = pd.to_datetime(data.Dt_Customer) #datetime 타입으로 변환\n",
        "data['days'] = y - data.Dt_Customer\n",
        "data['days'] = data['days'] / np.timedelta64(1, 'D')\n",
        "data['days'] = data['days'].astype(int) #int형으로 변환\n",
        "data['days'][:5]"
      ]
    },
    {
      "cell_type": "code",
      "execution_count": 6,
      "metadata": {
        "id": "uNjip3heP_8V"
      },
      "outputs": [],
      "source": [
        "## 나이를 age에 저장\n",
        "data['age'] = 2024-data['Year_Birth']"
      ]
    },
    {
      "cell_type": "code",
      "execution_count": 10,
      "metadata": {
        "id": "mFGUXheeRyRr"
      },
      "outputs": [],
      "source": [
        "## 마케팅 캠페인에서의 총 참여 횟수\n",
        "data['CampaignAttendance'] = data.iloc[:,20:25].sum(axis=1)\n",
        "\n",
        "## 이 데이터랑 군집화 결과가 얼마나 유사하게, 또는 다르게 나오는지 비교해봅시다~!!"
      ]
    },
    {
      "cell_type": "code",
      "execution_count": 15,
      "metadata": {
        "id": "GTOPK6rWTUj4"
      },
      "outputs": [],
      "source": [
        "data.columns\n",
        "\n",
        "features = ['days', 'age', 'Income', 'Recency', 'MntWines', 'MntFruits',\\\n",
        "                     'MntMeatProducts', 'MntFishProducts', 'MntSweetProducts',\\\n",
        "                     'MntGoldProds', 'NumDealsPurchases','NumWebPurchases', \\\n",
        "                     'NumCatalogPurchases', 'NumStorePurchases', 'NumWebVisitsMonth',\\\n",
        "                    'AcceptedCmp3', 'AcceptedCmp4', 'AcceptedCmp5', 'AcceptedCmp1',\\\n",
        "                    'AcceptedCmp2', 'Complain', 'Z_CostContact', 'Z_Revenue', 'Response','CampaignAttendance'] #우리가 고려할 변수들"
      ]
    },
    {
      "cell_type": "code",
      "execution_count": 16,
      "metadata": {
        "id": "EjWWJ0NDT_EN"
      },
      "outputs": [],
      "source": [
        "X_features = data[features]\n",
        "X_features = X_features.dropna().reset_index(drop = True) #결측치 제거\n",
        "\n",
        "y_label = X_features['CampaignAttendance'] #캠페인에서의 총 참여 횟수를 임의의 라벨값으로 설정 -> 기준으로 삼아보자.\n",
        "\n",
        "X_features = X_features.drop(['CampaignAttendance'], axis = 1)"
      ]
    },
    {
      "cell_type": "code",
      "execution_count": 30,
      "metadata": {
        "id": "F5ZEd_GfLFdx"
      },
      "outputs": [],
      "source": [
        "## 각 변수들을 '표준화' scaling 합니다.\n",
        "from sklearn.preprocessing import StandardScaler\n",
        "scaler = StandardScaler()\n",
        "X_features_scaling  = scaler.fit_transform(X_features)\n",
        "\n",
        "X_features_scaling = pd.DataFrame(X_features_scaling, columns = X_features.columns, index = list(X_features.index.values))"
      ]
    },
    {
      "cell_type": "markdown",
      "metadata": {
        "id": "hSweBGWmgDTy"
      },
      "source": [
        "###차원 축소"
      ]
    },
    {
      "cell_type": "markdown",
      "metadata": {
        "id": "GqDgcjqM2mrQ"
      },
      "source": [
        "데이터를 차원 축소 해봅시다."
      ]
    },
    {
      "cell_type": "code",
      "execution_count": 32,
      "metadata": {
        "id": "Fu0ayAvrYeC1"
      },
      "outputs": [],
      "source": [
        "from sklearn.discriminant_analysis import LinearDiscriminantAnalysis\n",
        "\n",
        "## LDA\n",
        "lda = LinearDiscriminantAnalysis(n_components = 2)\n",
        "X_train_lda = lda.fit_transform(X_features_scaling, y_label) #차원축소 과정에 y 라벨값을 입력해줌"
      ]
    },
    {
      "cell_type": "code",
      "execution_count": 33,
      "metadata": {
        "id": "eS_siPJ1YoXr",
        "colab": {
          "base_uri": "https://localhost:8080/",
          "height": 369
        },
        "outputId": "ad7b94f9-f0e9-4a22-e8b9-e65be1ce0b56"
      },
      "outputs": [
        {
          "output_type": "display_data",
          "data": {
            "text/plain": [
              "<Figure size 402.375x360 with 1 Axes>"
            ],
            "image/png": "[encoded data removed]"
          },
          "metadata": {
            "needs_background": "light"
          }
        }
      ],
      "source": [
        "X_train_lda = pd.DataFrame(X_train_lda).loc[:,0:1]\n",
        "X_train_lda = pd.concat((X_train_lda, y_label), axis = 1) #X_train_Ida와 y_label 데이터를 하나로 합치기\n",
        "X_train_lda.columns = ['lda_1', 'lda_2', 'label']\n",
        "X_train_lda\n",
        "\n",
        "sns.lmplot(x = 'lda_1',y = 'lda_2',data = X_train_lda, hue = 'label', fit_reg = False)\n",
        "plt.show()\n",
        "\n",
        "## 우리가 원하는 정답 모양\n",
        "## 캠페인 참여에서의 총 참여 횟수를 라벨값으로 둔 상태에서의 데이터 분포도"
      ]
    },
    {
      "cell_type": "markdown",
      "metadata": {
        "id": "mlmCquwTgNBF"
      },
      "source": [
        "###K-means Clustering"
      ]
    },
    {
      "cell_type": "markdown",
      "metadata": {
        "id": "lY9vjJLvmtSv"
      },
      "source": [
        "클러스터링을 돌려 보는 데에 의의가 있기에, 파라미터 값 최적화보다는 각 알고리즘을 사용하면 결과가 어떻게 달라지는 지에 초점을 맞추어 살펴봅니다. 여러 번 시행해보면서 **자유롭게 파라미터를 정해주세요**."
      ]
    },
    {
      "cell_type": "markdown",
      "metadata": {
        "id": "UWBpYVvn6Y9-"
      },
      "source": [
        "**(직접 최적의 파라미터 값을 찾아서 설정하고 싶으시다면 훨씬 좋습니다! 해당 과제의 모든 코드는 기본 뼈대일 뿐입니다. 코드를 추가 또는 변경하셔도 좋습니다.)**"
      ]
    },
    {
      "cell_type": "markdown",
      "metadata": {
        "id": "0NFbMzot24go"
      },
      "source": [
        "다른 x값들에 대해서도 캠페인 참여도, 즉 고객의 충실도를 잘 군집화할 수 있을까요? 클러스터링으로 결과를 확인해봅시다."
      ]
    },
    {
      "cell_type": "markdown",
      "metadata": {
        "id": "M6Bnqr3WgOH_"
      },
      "source": [
        "\n",
        "\n",
        "---\n",
        "\n",
        "\n",
        "\n"
      ]
    },
    {
      "cell_type": "markdown",
      "metadata": {
        "id": "TfuCCGgioEbh"
      },
      "source": [
        "K-means를 이용하여 클러스터링 해봅시다."
      ]
    },
    {
      "cell_type": "code",
      "execution_count": 34,
      "metadata": {
        "id": "T5c5byPLnB5e"
      },
      "outputs": [],
      "source": [
        "## 필요한 라이브러리를 임포트합니다.\n",
        "\n",
        "from sklearn.cluster import KMeans"
      ]
    },
    {
      "cell_type": "code",
      "execution_count": 47,
      "metadata": {
        "colab": {
          "base_uri": "https://localhost:8080/"
        },
        "id": "e66J9Orqaxdz",
        "outputId": "066b295c-ad90-4407-dd16-a14a69d6238c"
      },
      "outputs": [
        {
          "output_type": "execute_result",
          "data": {
            "text/plain": [
              "array([4, 1, 4, ..., 0, 4, 1], dtype=int32)"
            ]
          },
          "metadata": {},
          "execution_count": 47
        }
      ],
      "source": [
        "## 클러스터 수는 ########(숫자)########로 설정하고, KMeans를 활용하여 예측된 y값을 만들어 봅시다.\n",
        "\n",
        "km = KMeans(n_clusters = 5)\n",
        "\n",
        "y_km = km.fit_predict(X_features_scaling)\n",
        "y_km"
      ]
    },
    {
      "cell_type": "code",
      "execution_count": 48,
      "metadata": {
        "id": "Xalob8AybpqS"
      },
      "outputs": [],
      "source": [
        "X_train_lda['K_means'] = y_km"
      ]
    },
    {
      "cell_type": "markdown",
      "metadata": {
        "id": "IpNZtoEJns4f"
      },
      "source": [
        "####시각화"
      ]
    },
    {
      "cell_type": "code",
      "execution_count": 49,
      "metadata": {
        "id": "gMDG4QTFbkjJ",
        "colab": {
          "base_uri": "https://localhost:8080/",
          "height": 385
        },
        "outputId": "959e794d-94e3-481a-de75-9fcd64b50a32"
      },
      "outputs": [
        {
          "output_type": "display_data",
          "data": {
            "text/plain": [
              "<Figure size 413x360 with 1 Axes>"
            ],
            "image/png": "[encoded data removed]"
          },
          "metadata": {
            "needs_background": "light"
          }
        }
      ],
      "source": [
        "sns.lmplot(x = 'lda_1', y = 'lda_2', data = X_train_lda, hue = 'K_means', fit_reg = False)\n",
        "plt.title('K-means Clustering Result')\n",
        "plt.show()"
      ]
    },
    {
      "cell_type": "markdown",
      "metadata": {
        "id": "D2pTwOUfn62c"
      },
      "source": [
        "###Hierarchical Clustering"
      ]
    },
    {
      "cell_type": "markdown",
      "metadata": {
        "id": "Ezn3DNWVn-Gx"
      },
      "source": [
        "Agglomerative 방법을 이용하여 클러스터링 해봅시다."
      ]
    },
    {
      "cell_type": "code",
      "execution_count": 50,
      "metadata": {
        "id": "GbahvycYcTnC"
      },
      "outputs": [],
      "source": [
        "## 필요한 라이브러리를 임포트합니다.\n",
        "\n",
        "from sklearn.cluster import AgglomerativeClustering"
      ]
    },
    {
      "cell_type": "code",
      "execution_count": 61,
      "metadata": {
        "colab": {
          "base_uri": "https://localhost:8080/"
        },
        "id": "Jm_odYfKoQOD",
        "outputId": "f69d7320-0ca8-433c-fd8c-acce052a5cb8"
      },
      "outputs": [
        {
          "output_type": "execute_result",
          "data": {
            "text/plain": [
              "array([2, 3, 2, ..., 0, 2, 0])"
            ]
          },
          "metadata": {},
          "execution_count": 61
        }
      ],
      "source": [
        "## 클러스터 수는 ########(숫자)########로 설정하고, Agglomerative를 활용하여 예측된 y값을 만들어 봅시다.\n",
        "\n",
        "agghc = AgglomerativeClustering(n_clusters = 6, affinity = 'euclidean', linkage = 'ward') #와드연결법을 사용합니다.\n",
        "\n",
        "y_agghc = agghc.fit_predict(X_features_scaling)\n",
        "y_agghc"
      ]
    },
    {
      "cell_type": "code",
      "execution_count": 62,
      "metadata": {
        "id": "JmPjxgKJodsz"
      },
      "outputs": [],
      "source": [
        "X_train_lda['hierarchical'] = y_agghc"
      ]
    },
    {
      "cell_type": "markdown",
      "metadata": {
        "id": "wtjDpfrN3ZE1"
      },
      "source": [
        "####시각화"
      ]
    },
    {
      "cell_type": "code",
      "execution_count": 63,
      "metadata": {
        "id": "Kc_5HVs9cna3",
        "colab": {
          "base_uri": "https://localhost:8080/",
          "height": 385
        },
        "outputId": "90332bbd-fd65-499d-c154-853d46b06f7b"
      },
      "outputs": [
        {
          "output_type": "display_data",
          "data": {
            "text/plain": [
              "<Figure size 426.75x360 with 1 Axes>"
            ],
            "image/png": "[encoded data removed]"
          },
          "metadata": {
            "needs_background": "light"
          }
        }
      ],
      "source": [
        "sns.lmplot(x = 'lda_1', y = 'lda_2', data = X_train_lda, hue = 'hierarchical', fit_reg = False)\n",
        "plt.title('Hierarchical Clustering Result')\n",
        "plt.show()"
      ]
    },
    {
      "cell_type": "markdown",
      "metadata": {
        "id": "ZZ4kBn15o0Ln"
      },
      "source": [
        "###DBSCAN"
      ]
    },
    {
      "cell_type": "markdown",
      "metadata": {
        "id": "XqccBOmdo2NX"
      },
      "source": [
        "DBSCAN을 이용하여 클러스터링 해봅시다."
      ]
    },
    {
      "cell_type": "code",
      "execution_count": 64,
      "metadata": {
        "id": "RHb-CAXDcrBh"
      },
      "outputs": [],
      "source": [
        "## 필요한 라이브러리를 임포트합니다.\n",
        "\n",
        "from sklearn.cluster import DBSCAN"
      ]
    },
    {
      "cell_type": "code",
      "execution_count": 121,
      "metadata": {
        "id": "b9tu38-Fo98h",
        "colab": {
          "base_uri": "https://localhost:8080/"
        },
        "outputId": "ccd20f23-7627-4f96-ce88-ce3b47fc1803"
      },
      "outputs": [
        {
          "output_type": "execute_result",
          "data": {
            "text/plain": [
              "array([-1, -1, -1, ..., -1, -1, -1])"
            ]
          },
          "metadata": {},
          "execution_count": 121
        }
      ],
      "source": [
        "## eps는 ########(숫자)########, minPts는 ########(숫자)########로 설정한 뒤 DBSCAN를 활용하여 예측된 y값을 만들어 봅시다.\n",
        "\n",
        "dbscan = DBSCAN(eps = 0.9, min_samples = 10, metric = 'euclidean') #eps는 0-1\n",
        "\n",
        "y_dbscan = dbscan.fit_predict(X_features_scaling)\n",
        "y_dbscan"
      ]
    },
    {
      "cell_type": "code",
      "execution_count": 122,
      "metadata": {
        "id": "1xVqMxMtqK_r"
      },
      "outputs": [],
      "source": [
        "X_train_lda['dbscan'] = y_dbscan"
      ]
    },
    {
      "cell_type": "markdown",
      "metadata": {
        "id": "3Rf8Hy_n3aEu"
      },
      "source": [
        "####시각화"
      ]
    },
    {
      "cell_type": "code",
      "execution_count": 123,
      "metadata": {
        "id": "z7xQlZz-dL9K",
        "colab": {
          "base_uri": "https://localhost:8080/",
          "height": 369
        },
        "outputId": "45c53997-ea78-42c6-d097-6ed533c016f6"
      },
      "outputs": [
        {
          "output_type": "display_data",
          "data": {
            "text/plain": [
              "<Figure size 406x360 with 1 Axes>"
            ],
            "image/png": "[encoded data removed]"
          },
          "metadata": {
            "needs_background": "light"
          }
        }
      ],
      "source": [
        "sns.lmplot(x = 'lda_1', y = 'lda_2', data = X_train_lda, hue = 'dbscan', fit_reg = False)\n",
        "plt.show()"
      ]
    },
    {
      "cell_type": "markdown",
      "metadata": {
        "id": "HJpetyIbiEoy"
      },
      "source": [
        "###Validation"
      ]
    },
    {
      "cell_type": "markdown",
      "metadata": {
        "id": "CNaob-PWiI9e"
      },
      "source": [
        "실루엣 계수를 사용하여 각 클러스터링의 성능을 평가해봅시다."
      ]
    },
    {
      "cell_type": "markdown",
      "metadata": {
        "id": "n8o06Vu4irOF"
      },
      "source": [
        "\n",
        "\n",
        "---\n",
        "\n"
      ]
    },
    {
      "cell_type": "markdown",
      "metadata": {
        "id": "r9KRTq-biRY3"
      },
      "source": [
        "(Q) 실루엣 계수로 평가하기 전에, 육안 상으로 어떠한 알고리즘의 성능이 제일 높아 보이며 어떠한 알고리즘의 성능이 제일 낮아 보이는지 의견을 적어주세요."
      ]
    },
    {
      "cell_type": "markdown",
      "metadata": {
        "id": "Rv3V8sfuihsF"
      },
      "source": [
        "KMeans가 가장 높아보이고 DBScan이 가장 낮아보임 "
      ]
    },
    {
      "cell_type": "markdown",
      "metadata": {
        "id": "R_QgoTfIisvg"
      },
      "source": [
        "\n",
        "\n",
        "---\n",
        "\n"
      ]
    },
    {
      "cell_type": "markdown",
      "metadata": {
        "id": "Jv4WfZO4iuVF"
      },
      "source": [
        "이제 실루엣 계수로 성능을 평가해 봅시다!"
      ]
    },
    {
      "cell_type": "code",
      "execution_count": 77,
      "metadata": {
        "id": "fULi7pCudtHs"
      },
      "outputs": [],
      "source": [
        "## 필요한 라이브러리를 임포트합니다.\n",
        "\n",
        "import sklearn.metrics as metrics\n",
        "from sklearn.metrics.cluster import silhouette_score"
      ]
    },
    {
      "cell_type": "markdown",
      "metadata": {
        "id": "5bAQ6CyW6Uth"
      },
      "source": [
        "K-means Clustering의 실루엣 계수입니다."
      ]
    },
    {
      "cell_type": "code",
      "execution_count": 79,
      "metadata": {
        "colab": {
          "base_uri": "https://localhost:8080/"
        },
        "id": "KDKJhjx6ojLj",
        "outputId": "27b3c069-a6ec-490a-8e60-b05787d10c5f"
      },
      "outputs": [
        {
          "output_type": "stream",
          "name": "stdout",
          "text": [
            "Silhouette score is 0.19787623512246674.\n"
          ]
        }
      ],
      "source": [
        "coef_km = metrics.silhouette_score(X_features_scaling, y_km)\n",
        "print('Silhouette score is {}.'.format(coef_km))"
      ]
    },
    {
      "cell_type": "markdown",
      "metadata": {
        "id": "WdNkPAm76eq9"
      },
      "source": [
        "Hierarchical Clustering의 실루엣 계수입니다."
      ]
    },
    {
      "cell_type": "code",
      "execution_count": 80,
      "metadata": {
        "colab": {
          "base_uri": "https://localhost:8080/"
        },
        "id": "x1jUkQM_pbMk",
        "outputId": "3786b234-1fc3-4c20-c6f5-2cc1f915b28d"
      },
      "outputs": [
        {
          "output_type": "stream",
          "name": "stdout",
          "text": [
            "Silhouette score is 0.18381540842958252.\n"
          ]
        }
      ],
      "source": [
        "## Hierarchical Clustering\n",
        "\n",
        "coef_hc = metrics.silhouette_score(X_features_scaling, y_agghc)\n",
        "print('Silhouette score is {}.'.format(coef_hc))"
      ]
    },
    {
      "cell_type": "markdown",
      "metadata": {
        "id": "4m7AX0LL6iV-"
      },
      "source": [
        "DBSCAN의 실루엣 계수입니다."
      ]
    },
    {
      "cell_type": "code",
      "execution_count": 124,
      "metadata": {
        "colab": {
          "base_uri": "https://localhost:8080/"
        },
        "id": "vppodq1EqLbA",
        "outputId": "b99528f2-6fae-4593-c7c4-ffa959b6fe43"
      },
      "outputs": [
        {
          "output_type": "stream",
          "name": "stdout",
          "text": [
            "Silhouette score is -0.20738990749029668.\n"
          ]
        }
      ],
      "source": [
        "## DBSCAN\n",
        "\n",
        "coef_db = metrics.silhouette_score(X_features_scaling, y_dbscan)\n",
        "print('Silhouette score is {}.'.format(coef_db))"
      ]
    },
    {
      "cell_type": "markdown",
      "metadata": {
        "id": "4Aef3wru4ycD"
      },
      "source": [
        "(Q) 실루엣 계수를 기반으로, 클러스터링 알고리즘의 성능을 높은 순대로 적어주세요."
      ]
    },
    {
      "cell_type": "markdown",
      "metadata": {
        "id": "-95mdNXC4coe"
      },
      "source": [
        "K-means, Hierarchical, DBScan"
      ]
    },
    {
      "cell_type": "markdown",
      "metadata": {
        "id": "TrYTuEi34lG7"
      },
      "source": [
        "(Q) 클러스터링 결과에 대한 해석을 적어주세요. (참고로, 실루엣 계수는 -1에서 1 사이의 값을 가집니다.)"
      ]
    },
    {
      "cell_type": "markdown",
      "metadata": {
        "id": "YIoqd0OZ4tLF"
      },
      "source": [
        "세 알고리즘 모두 1에 가까운 값이 나오지 않았기 때문에 군집화가 잘 되지 않은 것 같다.\n"
      ]
    },
    {
      "cell_type": "markdown",
      "metadata": {
        "id": "9m2Rvla1fgj1"
      },
      "source": [
        "(Q) 마케팅 캠페인과 관련하여 도출할 수 있는 인사이트를 적어주세요."
      ]
    },
    {
      "cell_type": "markdown",
      "metadata": {
        "id": "a4B84sjvflRg"
      },
      "source": [
        "캠페인 참여 횟수로 다른 변수를 예측하긴 어렵다."
      ]
    }
  ],
  "metadata": {
    "colab": {
      "provenance": []
    },
    "kernelspec": {
      "display_name": "Python 3 (ipykernel)",
      "language": "python",
      "name": "python3"
    },
    "language_info": {
      "codemirror_mode": {
        "name": "ipython",
        "version": 3
      },
      "file_extension": ".py",
      "mimetype": "text/x-python",
      "name": "python",
      "nbconvert_exporter": "python",
      "pygments_lexer": "ipython3",
      "version": "3.9.6"
    },
    "toc": {
      "base_numbering": 1,
      "nav_menu": {},
      "number_sections": true,
      "sideBar": true,
      "skip_h1_title": false,
      "title_cell": "Table of Contents",
      "title_sidebar": "Contents",
      "toc_cell": false,
      "toc_position": {},
      "toc_section_display": true,
      "toc_window_display": false
    }
  },
  "nbformat": 4,
  "nbformat_minor": 0
}