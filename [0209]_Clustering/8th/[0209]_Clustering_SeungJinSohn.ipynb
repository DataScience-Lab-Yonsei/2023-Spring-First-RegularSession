{
  "nbformat": 4,
  "nbformat_minor": 0,
  "metadata": {
    "colab": {
      "provenance": []
    },
    "kernelspec": {
      "name": "python3",
      "display_name": "Python 3"
    },
    "language_info": {
      "name": "python"
    }
  },
  "cells": [
    {
      "cell_type": "markdown",
      "source": [
        "주어진 데이터셋을 차원 축소한 뒤 **다양한 알고리즘**을 적용하여 클러스터링을 진행하고, 결과를 시각화하는 작업을 직접 해보면서 **비지도학습** (Unsupervised Learning)에 대한 이해도를 높여 봅시다."
      ],
      "metadata": {
        "id": "OvZ4RWub-tp5"
      }
    },
    {
      "cell_type": "code",
      "execution_count": 1,
      "metadata": {
        "id": "sPkBwLLC_LpB"
      },
      "outputs": [],
      "source": [
        "## 필요한 라이브러리를 임포트합니다.\n",
        "\n",
        "import pandas as pd\n",
        "import numpy as np"
      ]
    },
    {
      "cell_type": "code",
      "source": [
        "## 시각화 관련 라이브러리를 임포트합니다.\n",
        "\n",
        "from matplotlib import pyplot as plt\n",
        "import seaborn as sns"
      ],
      "metadata": {
        "id": "OtnrxMvB-mV_"
      },
      "execution_count": 2,
      "outputs": []
    },
    {
      "cell_type": "markdown",
      "source": [
        "###데이터"
      ],
      "metadata": {
        "id": "q2EVaet0fezv"
      }
    },
    {
      "cell_type": "markdown",
      "source": [
        "사용할 데이터: 'Marketing Campaign.csv'"
      ],
      "metadata": {
        "id": "u93F5Rxodjhg"
      }
    },
    {
      "cell_type": "markdown",
      "source": [
        "주어진 데이터는 마케팅 캠페인을 펼치고자 하는 소비자들에 대한 정보를 나타낸 데이터입니다. 해당 소비자들을 알맞게 군집화시키는 것이 우리의 목적입니다.\n",
        "\n",
        "총 29개의 column으로 구성되어 있습니다. \n",
        "\n",
        "\n",
        "\n",
        "---\n",
        "\n",
        "\n",
        "\n",
        "\n",
        "\n"
      ],
      "metadata": {
        "id": "3V10T3GMdkkq"
      }
    },
    {
      "cell_type": "markdown",
      "source": [
        "데이터에 대한 자세한 설명은 해당 kaggle 페이지에서 확인하실 수 있습니다.\n",
        "\n",
        "https://www.kaggle.com/datasets/rodsaldanha/arketing-campaign"
      ],
      "metadata": {
        "id": "bmzh86T1ftm5"
      }
    },
    {
      "cell_type": "markdown",
      "source": [
        "데이터를 불러옵니다."
      ],
      "metadata": {
        "id": "13998SwmXdYu"
      }
    },
    {
      "cell_type": "code",
      "source": [
        "## drive에 있는 데이터셋을 불러오기 위해 드라이브와 연동을 합니다.\n",
        "\n",
        "from google.colab import drive\n",
        "drive.mount('/content/drive')"
      ],
      "metadata": {
        "colab": {
          "base_uri": "https://localhost:8080/"
        },
        "id": "j9-R3h9_QgIS",
        "outputId": "6300a4c5-7d0b-49a6-e70c-2981cdcc4f0c"
      },
      "execution_count": 4,
      "outputs": [
        {
          "output_type": "stream",
          "name": "stdout",
          "text": [
            "Drive already mounted at /content/drive; to attempt to forcibly remount, call drive.mount(\"/content/drive\", force_remount=True).\n"
          ]
        }
      ]
    },
    {
      "cell_type": "code",
      "source": [
        "## 'Marketing_campaign' 데이터의 위치를 불러와 저장합니다.\n",
        "\n",
        "data = pd.read_csv('/content/drive/MyDrive/[23-1]_DSL세션/[0209] Clustering 실습 및 과제 자료/marketing_campaign.csv', \\\n",
        "                   sep = ';')\n",
        "data.head()"
      ],
      "metadata": {
        "colab": {
          "base_uri": "https://localhost:8080/",
          "height": 299
        },
        "id": "aavBGusyFTc0",
        "outputId": "574b291d-2a57-4fab-9cdf-0f3dd8c5243e"
      },
      "execution_count": 5,
      "outputs": [
        {
          "output_type": "execute_result",
          "data": {
            "text/plain": [
              "     ID  Year_Birth   Education Marital_Status   Income  Kidhome  Teenhome  \\\n",
              "0  5524        1957  Graduation         Single  58138.0        0         0   \n",
              "1  2174        1954  Graduation         Single  46344.0        1         1   \n",
              "2  4141        1965  Graduation       Together  71613.0        0         0   \n",
              "3  6182        1984  Graduation       Together  26646.0        1         0   \n",
              "4  5324        1981         PhD        Married  58293.0        1         0   \n",
              "\n",
              "  Dt_Customer  Recency  MntWines  ...  NumWebVisitsMonth  AcceptedCmp3  \\\n",
              "0  2012-09-04       58       635  ...                  7             0   \n",
              "1  2014-03-08       38        11  ...                  5             0   \n",
              "2  2013-08-21       26       426  ...                  4             0   \n",
              "3  2014-02-10       26        11  ...                  6             0   \n",
              "4  2014-01-19       94       173  ...                  5             0   \n",
              "\n",
              "   AcceptedCmp4  AcceptedCmp5  AcceptedCmp1  AcceptedCmp2  Complain  \\\n",
              "0             0             0             0             0         0   \n",
              "1             0             0             0             0         0   \n",
              "2             0             0             0             0         0   \n",
              "3             0             0             0             0         0   \n",
              "4             0             0             0             0         0   \n",
              "\n",
              "   Z_CostContact  Z_Revenue  Response  \n",
              "0              3         11         1  \n",
              "1              3         11         0  \n",
              "2              3         11         0  \n",
              "3              3         11         0  \n",
              "4              3         11         0  \n",
              "\n",
              "[5 rows x 29 columns]"
            ],
            "text/html": [
              "\n",
              "  <div id=\"df-fbb6ba9a-34f6-47c4-bb73-d1e1cb4e798e\">\n",
              "    <div class=\"colab-df-container\">\n",
              "      <div>\n",
              "<style scoped>\n",
              "    .dataframe tbody tr th:only-of-type {\n",
              "        vertical-align: middle;\n",
              "    }\n",
              "\n",
              "    .dataframe tbody tr th {\n",
              "        vertical-align: top;\n",
              "    }\n",
              "\n",
              "    .dataframe thead th {\n",
              "        text-align: right;\n",
              "    }\n",
              "</style>\n",
              "<table border=\"1\" class=\"dataframe\">\n",
              "  <thead>\n",
              "    <tr style=\"text-align: right;\">\n",
              "      <th></th>\n",
              "      <th>ID</th>\n",
              "      <th>Year_Birth</th>\n",
              "      <th>Education</th>\n",
              "      <th>Marital_Status</th>\n",
              "      <th>Income</th>\n",
              "      <th>Kidhome</th>\n",
              "      <th>Teenhome</th>\n",
              "      <th>Dt_Customer</th>\n",
              "      <th>Recency</th>\n",
              "      <th>MntWines</th>\n",
              "      <th>...</th>\n",
              "      <th>NumWebVisitsMonth</th>\n",
              "      <th>AcceptedCmp3</th>\n",
              "      <th>AcceptedCmp4</th>\n",
              "      <th>AcceptedCmp5</th>\n",
              "      <th>AcceptedCmp1</th>\n",
              "      <th>AcceptedCmp2</th>\n",
              "      <th>Complain</th>\n",
              "      <th>Z_CostContact</th>\n",
              "      <th>Z_Revenue</th>\n",
              "      <th>Response</th>\n",
              "    </tr>\n",
              "  </thead>\n",
              "  <tbody>\n",
              "    <tr>\n",
              "      <th>0</th>\n",
              "      <td>5524</td>\n",
              "      <td>1957</td>\n",
              "      <td>Graduation</td>\n",
              "      <td>Single</td>\n",
              "      <td>58138.0</td>\n",
              "      <td>0</td>\n",
              "      <td>0</td>\n",
              "      <td>2012-09-04</td>\n",
              "      <td>58</td>\n",
              "      <td>635</td>\n",
              "      <td>...</td>\n",
              "      <td>7</td>\n",
              "      <td>0</td>\n",
              "      <td>0</td>\n",
              "      <td>0</td>\n",
              "      <td>0</td>\n",
              "      <td>0</td>\n",
              "      <td>0</td>\n",
              "      <td>3</td>\n",
              "      <td>11</td>\n",
              "      <td>1</td>\n",
              "    </tr>\n",
              "    <tr>\n",
              "      <th>1</th>\n",
              "      <td>2174</td>\n",
              "      <td>1954</td>\n",
              "      <td>Graduation</td>\n",
              "      <td>Single</td>\n",
              "      <td>46344.0</td>\n",
              "      <td>1</td>\n",
              "      <td>1</td>\n",
              "      <td>2014-03-08</td>\n",
              "      <td>38</td>\n",
              "      <td>11</td>\n",
              "      <td>...</td>\n",
              "      <td>5</td>\n",
              "      <td>0</td>\n",
              "      <td>0</td>\n",
              "      <td>0</td>\n",
              "      <td>0</td>\n",
              "      <td>0</td>\n",
              "      <td>0</td>\n",
              "      <td>3</td>\n",
              "      <td>11</td>\n",
              "      <td>0</td>\n",
              "    </tr>\n",
              "    <tr>\n",
              "      <th>2</th>\n",
              "      <td>4141</td>\n",
              "      <td>1965</td>\n",
              "      <td>Graduation</td>\n",
              "      <td>Together</td>\n",
              "      <td>71613.0</td>\n",
              "      <td>0</td>\n",
              "      <td>0</td>\n",
              "      <td>2013-08-21</td>\n",
              "      <td>26</td>\n",
              "      <td>426</td>\n",
              "      <td>...</td>\n",
              "      <td>4</td>\n",
              "      <td>0</td>\n",
              "      <td>0</td>\n",
              "      <td>0</td>\n",
              "      <td>0</td>\n",
              "      <td>0</td>\n",
              "      <td>0</td>\n",
              "      <td>3</td>\n",
              "      <td>11</td>\n",
              "      <td>0</td>\n",
              "    </tr>\n",
              "    <tr>\n",
              "      <th>3</th>\n",
              "      <td>6182</td>\n",
              "      <td>1984</td>\n",
              "      <td>Graduation</td>\n",
              "      <td>Together</td>\n",
              "      <td>26646.0</td>\n",
              "      <td>1</td>\n",
              "      <td>0</td>\n",
              "      <td>2014-02-10</td>\n",
              "      <td>26</td>\n",
              "      <td>11</td>\n",
              "      <td>...</td>\n",
              "      <td>6</td>\n",
              "      <td>0</td>\n",
              "      <td>0</td>\n",
              "      <td>0</td>\n",
              "      <td>0</td>\n",
              "      <td>0</td>\n",
              "      <td>0</td>\n",
              "      <td>3</td>\n",
              "      <td>11</td>\n",
              "      <td>0</td>\n",
              "    </tr>\n",
              "    <tr>\n",
              "      <th>4</th>\n",
              "      <td>5324</td>\n",
              "      <td>1981</td>\n",
              "      <td>PhD</td>\n",
              "      <td>Married</td>\n",
              "      <td>58293.0</td>\n",
              "      <td>1</td>\n",
              "      <td>0</td>\n",
              "      <td>2014-01-19</td>\n",
              "      <td>94</td>\n",
              "      <td>173</td>\n",
              "      <td>...</td>\n",
              "      <td>5</td>\n",
              "      <td>0</td>\n",
              "      <td>0</td>\n",
              "      <td>0</td>\n",
              "      <td>0</td>\n",
              "      <td>0</td>\n",
              "      <td>0</td>\n",
              "      <td>3</td>\n",
              "      <td>11</td>\n",
              "      <td>0</td>\n",
              "    </tr>\n",
              "  </tbody>\n",
              "</table>\n",
              "<p>5 rows × 29 columns</p>\n",
              "</div>\n",
              "      <button class=\"colab-df-convert\" onclick=\"convertToInteractive('df-fbb6ba9a-34f6-47c4-bb73-d1e1cb4e798e')\"\n",
              "              title=\"Convert this dataframe to an interactive table.\"\n",
              "              style=\"display:none;\">\n",
              "        \n",
              "  <svg xmlns=\"http://www.w3.org/2000/svg\" height=\"24px\"viewBox=\"0 0 24 24\"\n",
              "       width=\"24px\">\n",
              "    <path d=\"M0 0h24v24H0V0z\" fill=\"none\"/>\n",
              "    <path d=\"M18.56 5.44l.94 2.06.94-2.06 2.06-.94-2.06-.94-.94-2.06-.94 2.06-2.06.94zm-11 1L8.5 8.5l.94-2.06 2.06-.94-2.06-.94L8.5 2.5l-.94 2.06-2.06.94zm10 10l.94 2.06.94-2.06 2.06-.94-2.06-.94-.94-2.06-.94 2.06-2.06.94z\"/><path d=\"M17.41 7.96l-1.37-1.37c-.4-.4-.92-.59-1.43-.59-.52 0-1.04.2-1.43.59L10.3 9.45l-7.72 7.72c-.78.78-.78 2.05 0 2.83L4 21.41c.39.39.9.59 1.41.59.51 0 1.02-.2 1.41-.59l7.78-7.78 2.81-2.81c.8-.78.8-2.07 0-2.86zM5.41 20L4 18.59l7.72-7.72 1.47 1.35L5.41 20z\"/>\n",
              "  </svg>\n",
              "      </button>\n",
              "      \n",
              "  <style>\n",
              "    .colab-df-container {\n",
              "      display:flex;\n",
              "      flex-wrap:wrap;\n",
              "      gap: 12px;\n",
              "    }\n",
              "\n",
              "    .colab-df-convert {\n",
              "      background-color: #E8F0FE;\n",
              "      border: none;\n",
              "      border-radius: 50%;\n",
              "      cursor: pointer;\n",
              "      display: none;\n",
              "      fill: #1967D2;\n",
              "      height: 32px;\n",
              "      padding: 0 0 0 0;\n",
              "      width: 32px;\n",
              "    }\n",
              "\n",
              "    .colab-df-convert:hover {\n",
              "      background-color: #E2EBFA;\n",
              "      box-shadow: 0px 1px 2px rgba(60, 64, 67, 0.3), 0px 1px 3px 1px rgba(60, 64, 67, 0.15);\n",
              "      fill: #174EA6;\n",
              "    }\n",
              "\n",
              "    [theme=dark] .colab-df-convert {\n",
              "      background-color: #3B4455;\n",
              "      fill: #D2E3FC;\n",
              "    }\n",
              "\n",
              "    [theme=dark] .colab-df-convert:hover {\n",
              "      background-color: #434B5C;\n",
              "      box-shadow: 0px 1px 3px 1px rgba(0, 0, 0, 0.15);\n",
              "      filter: drop-shadow(0px 1px 2px rgba(0, 0, 0, 0.3));\n",
              "      fill: #FFFFFF;\n",
              "    }\n",
              "  </style>\n",
              "\n",
              "      <script>\n",
              "        const buttonEl =\n",
              "          document.querySelector('#df-fbb6ba9a-34f6-47c4-bb73-d1e1cb4e798e button.colab-df-convert');\n",
              "        buttonEl.style.display =\n",
              "          google.colab.kernel.accessAllowed ? 'block' : 'none';\n",
              "\n",
              "        async function convertToInteractive(key) {\n",
              "          const element = document.querySelector('#df-fbb6ba9a-34f6-47c4-bb73-d1e1cb4e798e');\n",
              "          const dataTable =\n",
              "            await google.colab.kernel.invokeFunction('convertToInteractive',\n",
              "                                                     [key], {});\n",
              "          if (!dataTable) return;\n",
              "\n",
              "          const docLinkHtml = 'Like what you see? Visit the ' +\n",
              "            '<a target=\"_blank\" href=https://colab.research.google.com/notebooks/data_table.ipynb>data table notebook</a>'\n",
              "            + ' to learn more about interactive tables.';\n",
              "          element.innerHTML = '';\n",
              "          dataTable['output_type'] = 'display_data';\n",
              "          await google.colab.output.renderOutput(dataTable, element);\n",
              "          const docLink = document.createElement('div');\n",
              "          docLink.innerHTML = docLinkHtml;\n",
              "          element.appendChild(docLink);\n",
              "        }\n",
              "      </script>\n",
              "    </div>\n",
              "  </div>\n",
              "  "
            ]
          },
          "metadata": {},
          "execution_count": 5
        }
      ]
    },
    {
      "cell_type": "markdown",
      "source": [
        "### 데이터 전처리"
      ],
      "metadata": {
        "id": "N9QSTEvPRK-t"
      }
    },
    {
      "cell_type": "code",
      "source": [
        "## 등록한 이후에 현재까지의 기간(회원 일수)를 'days'라는 변수로 저장.\n",
        "from datetime import datetime\n",
        "y = pd.datetime.today().strftime(\"%Y-%m-%d\")\n",
        "y = pd.to_datetime(y)\n",
        "########(코드)########(datetime.today().strftime(\"%Y-%m-%d\")) #datetime 타입으로 변환\n",
        "\n",
        "data.Dt_Customer = pd.to_datetime(data.Dt_Customer)\n",
        "########(코드)########(data.Dt_Customer) #datetime 타입으로 변환\n",
        "'''\n",
        "print(y)\n",
        "print(type(y))\n",
        "print(data.Dt_Customer)\n",
        "'''\n",
        "data['days'] = y - data.Dt_Customer\n",
        "data['days'] = data['days'] / np.timedelta64(1, 'D')\n",
        "data['days'] = data['days'].astype('int')\n",
        "########(코드)######## #int형으로 변환\n",
        "data['days'][:5]"
      ],
      "metadata": {
        "id": "y84-iEHeLRsY",
        "colab": {
          "base_uri": "https://localhost:8080/"
        },
        "outputId": "1a79dcbf-0fcb-4e60-8c9b-01e7dd46461b"
      },
      "execution_count": 21,
      "outputs": [
        {
          "output_type": "stream",
          "name": "stderr",
          "text": [
            "<ipython-input-21-e0e71b9335b4>:3: FutureWarning: The pandas.datetime class is deprecated and will be removed from pandas in a future version. Import from datetime module instead.\n",
            "  y = pd.datetime.today().strftime(\"%Y-%m-%d\")\n"
          ]
        },
        {
          "output_type": "execute_result",
          "data": {
            "text/plain": [
              "0    3813\n",
              "1    3263\n",
              "2    3462\n",
              "3    3289\n",
              "4    3311\n",
              "Name: days, dtype: int64"
            ]
          },
          "metadata": {},
          "execution_count": 21
        }
      ]
    },
    {
      "cell_type": "code",
      "source": [
        "## 나이를 age에 저장\n",
        "data['age'] = 2024-data['Year_Birth']"
      ],
      "metadata": {
        "id": "uNjip3heP_8V"
      },
      "execution_count": 22,
      "outputs": []
    },
    {
      "cell_type": "code",
      "source": [
        "data.iloc[:,20:25]"
      ],
      "metadata": {
        "colab": {
          "base_uri": "https://localhost:8080/",
          "height": 423
        },
        "id": "7wz6wdUh6a8f",
        "outputId": "1e13d0d2-8b52-4fbe-a217-c3ef1901c710"
      },
      "execution_count": 25,
      "outputs": [
        {
          "output_type": "execute_result",
          "data": {
            "text/plain": [
              "      AcceptedCmp3  AcceptedCmp4  AcceptedCmp5  AcceptedCmp1  AcceptedCmp2\n",
              "0                0             0             0             0             0\n",
              "1                0             0             0             0             0\n",
              "2                0             0             0             0             0\n",
              "3                0             0             0             0             0\n",
              "4                0             0             0             0             0\n",
              "...            ...           ...           ...           ...           ...\n",
              "2235             0             0             0             0             0\n",
              "2236             0             0             0             1             0\n",
              "2237             0             1             0             0             0\n",
              "2238             0             0             0             0             0\n",
              "2239             0             0             0             0             0\n",
              "\n",
              "[2240 rows x 5 columns]"
            ],
            "text/html": [
              "\n",
              "  <div id=\"df-66212f6a-dd71-4850-9dec-2b62c3cecdb9\">\n",
              "    <div class=\"colab-df-container\">\n",
              "      <div>\n",
              "<style scoped>\n",
              "    .dataframe tbody tr th:only-of-type {\n",
              "        vertical-align: middle;\n",
              "    }\n",
              "\n",
              "    .dataframe tbody tr th {\n",
              "        vertical-align: top;\n",
              "    }\n",
              "\n",
              "    .dataframe thead th {\n",
              "        text-align: right;\n",
              "    }\n",
              "</style>\n",
              "<table border=\"1\" class=\"dataframe\">\n",
              "  <thead>\n",
              "    <tr style=\"text-align: right;\">\n",
              "      <th></th>\n",
              "      <th>AcceptedCmp3</th>\n",
              "      <th>AcceptedCmp4</th>\n",
              "      <th>AcceptedCmp5</th>\n",
              "      <th>AcceptedCmp1</th>\n",
              "      <th>AcceptedCmp2</th>\n",
              "    </tr>\n",
              "  </thead>\n",
              "  <tbody>\n",
              "    <tr>\n",
              "      <th>0</th>\n",
              "      <td>0</td>\n",
              "      <td>0</td>\n",
              "      <td>0</td>\n",
              "      <td>0</td>\n",
              "      <td>0</td>\n",
              "    </tr>\n",
              "    <tr>\n",
              "      <th>1</th>\n",
              "      <td>0</td>\n",
              "      <td>0</td>\n",
              "      <td>0</td>\n",
              "      <td>0</td>\n",
              "      <td>0</td>\n",
              "    </tr>\n",
              "    <tr>\n",
              "      <th>2</th>\n",
              "      <td>0</td>\n",
              "      <td>0</td>\n",
              "      <td>0</td>\n",
              "      <td>0</td>\n",
              "      <td>0</td>\n",
              "    </tr>\n",
              "    <tr>\n",
              "      <th>3</th>\n",
              "      <td>0</td>\n",
              "      <td>0</td>\n",
              "      <td>0</td>\n",
              "      <td>0</td>\n",
              "      <td>0</td>\n",
              "    </tr>\n",
              "    <tr>\n",
              "      <th>4</th>\n",
              "      <td>0</td>\n",
              "      <td>0</td>\n",
              "      <td>0</td>\n",
              "      <td>0</td>\n",
              "      <td>0</td>\n",
              "    </tr>\n",
              "    <tr>\n",
              "      <th>...</th>\n",
              "      <td>...</td>\n",
              "      <td>...</td>\n",
              "      <td>...</td>\n",
              "      <td>...</td>\n",
              "      <td>...</td>\n",
              "    </tr>\n",
              "    <tr>\n",
              "      <th>2235</th>\n",
              "      <td>0</td>\n",
              "      <td>0</td>\n",
              "      <td>0</td>\n",
              "      <td>0</td>\n",
              "      <td>0</td>\n",
              "    </tr>\n",
              "    <tr>\n",
              "      <th>2236</th>\n",
              "      <td>0</td>\n",
              "      <td>0</td>\n",
              "      <td>0</td>\n",
              "      <td>1</td>\n",
              "      <td>0</td>\n",
              "    </tr>\n",
              "    <tr>\n",
              "      <th>2237</th>\n",
              "      <td>0</td>\n",
              "      <td>1</td>\n",
              "      <td>0</td>\n",
              "      <td>0</td>\n",
              "      <td>0</td>\n",
              "    </tr>\n",
              "    <tr>\n",
              "      <th>2238</th>\n",
              "      <td>0</td>\n",
              "      <td>0</td>\n",
              "      <td>0</td>\n",
              "      <td>0</td>\n",
              "      <td>0</td>\n",
              "    </tr>\n",
              "    <tr>\n",
              "      <th>2239</th>\n",
              "      <td>0</td>\n",
              "      <td>0</td>\n",
              "      <td>0</td>\n",
              "      <td>0</td>\n",
              "      <td>0</td>\n",
              "    </tr>\n",
              "  </tbody>\n",
              "</table>\n",
              "<p>2240 rows × 5 columns</p>\n",
              "</div>\n",
              "      <button class=\"colab-df-convert\" onclick=\"convertToInteractive('df-66212f6a-dd71-4850-9dec-2b62c3cecdb9')\"\n",
              "              title=\"Convert this dataframe to an interactive table.\"\n",
              "              style=\"display:none;\">\n",
              "        \n",
              "  <svg xmlns=\"http://www.w3.org/2000/svg\" height=\"24px\"viewBox=\"0 0 24 24\"\n",
              "       width=\"24px\">\n",
              "    <path d=\"M0 0h24v24H0V0z\" fill=\"none\"/>\n",
              "    <path d=\"M18.56 5.44l.94 2.06.94-2.06 2.06-.94-2.06-.94-.94-2.06-.94 2.06-2.06.94zm-11 1L8.5 8.5l.94-2.06 2.06-.94-2.06-.94L8.5 2.5l-.94 2.06-2.06.94zm10 10l.94 2.06.94-2.06 2.06-.94-2.06-.94-.94-2.06-.94 2.06-2.06.94z\"/><path d=\"M17.41 7.96l-1.37-1.37c-.4-.4-.92-.59-1.43-.59-.52 0-1.04.2-1.43.59L10.3 9.45l-7.72 7.72c-.78.78-.78 2.05 0 2.83L4 21.41c.39.39.9.59 1.41.59.51 0 1.02-.2 1.41-.59l7.78-7.78 2.81-2.81c.8-.78.8-2.07 0-2.86zM5.41 20L4 18.59l7.72-7.72 1.47 1.35L5.41 20z\"/>\n",
              "  </svg>\n",
              "      </button>\n",
              "      \n",
              "  <style>\n",
              "    .colab-df-container {\n",
              "      display:flex;\n",
              "      flex-wrap:wrap;\n",
              "      gap: 12px;\n",
              "    }\n",
              "\n",
              "    .colab-df-convert {\n",
              "      background-color: #E8F0FE;\n",
              "      border: none;\n",
              "      border-radius: 50%;\n",
              "      cursor: pointer;\n",
              "      display: none;\n",
              "      fill: #1967D2;\n",
              "      height: 32px;\n",
              "      padding: 0 0 0 0;\n",
              "      width: 32px;\n",
              "    }\n",
              "\n",
              "    .colab-df-convert:hover {\n",
              "      background-color: #E2EBFA;\n",
              "      box-shadow: 0px 1px 2px rgba(60, 64, 67, 0.3), 0px 1px 3px 1px rgba(60, 64, 67, 0.15);\n",
              "      fill: #174EA6;\n",
              "    }\n",
              "\n",
              "    [theme=dark] .colab-df-convert {\n",
              "      background-color: #3B4455;\n",
              "      fill: #D2E3FC;\n",
              "    }\n",
              "\n",
              "    [theme=dark] .colab-df-convert:hover {\n",
              "      background-color: #434B5C;\n",
              "      box-shadow: 0px 1px 3px 1px rgba(0, 0, 0, 0.15);\n",
              "      filter: drop-shadow(0px 1px 2px rgba(0, 0, 0, 0.3));\n",
              "      fill: #FFFFFF;\n",
              "    }\n",
              "  </style>\n",
              "\n",
              "      <script>\n",
              "        const buttonEl =\n",
              "          document.querySelector('#df-66212f6a-dd71-4850-9dec-2b62c3cecdb9 button.colab-df-convert');\n",
              "        buttonEl.style.display =\n",
              "          google.colab.kernel.accessAllowed ? 'block' : 'none';\n",
              "\n",
              "        async function convertToInteractive(key) {\n",
              "          const element = document.querySelector('#df-66212f6a-dd71-4850-9dec-2b62c3cecdb9');\n",
              "          const dataTable =\n",
              "            await google.colab.kernel.invokeFunction('convertToInteractive',\n",
              "                                                     [key], {});\n",
              "          if (!dataTable) return;\n",
              "\n",
              "          const docLinkHtml = 'Like what you see? Visit the ' +\n",
              "            '<a target=\"_blank\" href=https://colab.research.google.com/notebooks/data_table.ipynb>data table notebook</a>'\n",
              "            + ' to learn more about interactive tables.';\n",
              "          element.innerHTML = '';\n",
              "          dataTable['output_type'] = 'display_data';\n",
              "          await google.colab.output.renderOutput(dataTable, element);\n",
              "          const docLink = document.createElement('div');\n",
              "          docLink.innerHTML = docLinkHtml;\n",
              "          element.appendChild(docLink);\n",
              "        }\n",
              "      </script>\n",
              "    </div>\n",
              "  </div>\n",
              "  "
            ]
          },
          "metadata": {},
          "execution_count": 25
        }
      ]
    },
    {
      "cell_type": "code",
      "source": [
        "## 마케팅 캠페인에서의 총 참여 횟수\n",
        "data['CampaignAttendance'] = data.iloc[:,20:25].sum(axis=1)\n",
        "########(코드)########(axis=1)\n",
        "# data['CampaignAttendance'].value_counts()\n",
        "## 이 데이터랑 군집화 결과가 얼마나 유사하게, 또는 다르게 나오는지 비교해봅시다~!!"
      ],
      "metadata": {
        "id": "mFGUXheeRyRr",
        "colab": {
          "base_uri": "https://localhost:8080/"
        },
        "outputId": "2a1b7b14-84e1-4e38-e8b6-66629ef09f4b"
      },
      "execution_count": 64,
      "outputs": [
        {
          "output_type": "execute_result",
          "data": {
            "text/plain": [
              "0    1777\n",
              "1     325\n",
              "2      83\n",
              "3      44\n",
              "4      11\n",
              "Name: CampaignAttendance, dtype: int64"
            ]
          },
          "metadata": {},
          "execution_count": 64
        }
      ]
    },
    {
      "cell_type": "code",
      "source": [
        "data.columns\n",
        "\n",
        "features = ['days', 'age', 'Income', 'Recency', 'MntWines', 'MntFruits',\\\n",
        "                     'MntMeatProducts', 'MntFishProducts', 'MntSweetProducts',\\\n",
        "                     'MntGoldProds', 'NumDealsPurchases','NumWebPurchases', \\\n",
        "                     'NumCatalogPurchases', 'NumStorePurchases', 'NumWebVisitsMonth',\\\n",
        "                    'AcceptedCmp3', 'AcceptedCmp4', 'AcceptedCmp5', 'AcceptedCmp1',\\\n",
        "                    'AcceptedCmp2', 'Complain', 'Z_CostContact', 'Z_Revenue', 'Response','CampaignAttendance'] #우리가 고려할 변수들"
      ],
      "metadata": {
        "id": "GTOPK6rWTUj4"
      },
      "execution_count": 41,
      "outputs": []
    },
    {
      "cell_type": "code",
      "source": [
        "X_features = data[features]\n",
        "X_features = X_features.dropna().reset_index(drop = True) #결측치 제거\n",
        "\n",
        "y_label = X_features['CampaignAttendance'] #캠페인에서의 총 참여 횟수를 임의의 라벨값으로 설정 -> 기준으로 삼아보자.\n",
        "\n",
        "X_features = X_features.drop(['CampaignAttendance'], axis = 1)"
      ],
      "metadata": {
        "id": "EjWWJ0NDT_EN"
      },
      "execution_count": 42,
      "outputs": []
    },
    {
      "cell_type": "code",
      "source": [
        "## 각 변수들을 '표준화' scaling 합니다.\n",
        "from sklearn.preprocessing import StandardScaler\n",
        "scaler = StandardScaler()\n",
        "X_features_scaling  = scaler.fit_transform(X_features)\n",
        "########(코드)########(X_features)\n",
        "\n",
        "X_features_scaling = pd.DataFrame(X_features_scaling, columns = X_features.columns, index = list(X_features.index.values))\n",
        "#X_features_scaling"
      ],
      "metadata": {
        "id": "F5ZEd_GfLFdx",
        "colab": {
          "base_uri": "https://localhost:8080/",
          "height": 487
        },
        "outputId": "4d7e0f46-9aa5-457d-aa32-880e2a8fc20e"
      },
      "execution_count": 43,
      "outputs": [
        {
          "output_type": "execute_result",
          "data": {
            "text/plain": [
              "          days       age    Income   Recency  MntWines  MntFruits  \\\n",
              "0     1.529129  0.986443  0.234063  0.310532  0.978226   1.549429   \n",
              "1    -1.188411  1.236801 -0.234559 -0.380509 -0.872024  -0.637328   \n",
              "2    -0.205155  0.318822  0.769478 -0.795134  0.358511   0.569159   \n",
              "3    -1.059945 -1.266777 -1.017239 -0.795134 -0.872024  -0.561922   \n",
              "4    -0.951244 -1.016420  0.240221  1.554407 -0.391671   0.418348   \n",
              "...        ...       ...       ...       ...       ...        ...   \n",
              "2211  0.135772  0.151917  0.356642 -0.104093  1.197646   0.418348   \n",
              "2212 -1.652863  1.904422  0.467539  0.241428  0.299208  -0.662463   \n",
              "2213 -0.980889 -1.016420  0.188091  1.450751  1.787710   0.544024   \n",
              "2214 -0.975948  1.069896  0.675388 -1.417072  0.364441   0.091591   \n",
              "2215  1.326548  1.236801  0.024705 -0.311405 -0.655568  -0.587058   \n",
              "\n",
              "      MntMeatProducts  MntFishProducts  MntSweetProducts  MntGoldProds  ...  \\\n",
              "0            1.690227         2.454568          1.484827      0.850031  ...   \n",
              "1           -0.717986        -0.651038         -0.633880     -0.732867  ...   \n",
              "2           -0.178368         1.340203         -0.146821     -0.037937  ...   \n",
              "3           -0.655551        -0.504892         -0.585174     -0.752171  ...   \n",
              "4           -0.218505         0.152766         -0.000703     -0.559135  ...   \n",
              "...               ...              ...               ...           ...  ...   \n",
              "2211         0.066913         0.079693          2.215416      3.919308  ...   \n",
              "2212        -0.610954        -0.687574         -0.658233     -0.694260  ...   \n",
              "2213         0.223001        -0.102990         -0.365998     -0.385402  ...   \n",
              "2214         0.209622         0.773887          0.072356      0.328832  ...   \n",
              "2215        -0.472705        -0.651038         -0.633880     -0.443313  ...   \n",
              "\n",
              "      NumWebVisitsMonth  AcceptedCmp3  AcceptedCmp4  AcceptedCmp5  \\\n",
              "0              0.693232     -0.281773     -0.282705     -0.280839   \n",
              "1             -0.131574     -0.281773     -0.282705     -0.280839   \n",
              "2             -0.543978     -0.281773     -0.282705     -0.280839   \n",
              "3              0.280829     -0.281773     -0.282705     -0.280839   \n",
              "4             -0.131574     -0.281773     -0.282705     -0.280839   \n",
              "...                 ...           ...           ...           ...   \n",
              "2211          -0.131574     -0.281773     -0.282705     -0.280839   \n",
              "2212           0.693232     -0.281773     -0.282705     -0.280839   \n",
              "2213           0.280829     -0.281773      3.537258     -0.280839   \n",
              "2214          -0.956381     -0.281773     -0.282705     -0.280839   \n",
              "2215           0.693232     -0.281773     -0.282705     -0.280839   \n",
              "\n",
              "      AcceptedCmp1  AcceptedCmp2  Complain  Z_CostContact  Z_Revenue  Response  \n",
              "0        -0.261661     -0.117148 -0.097812            0.0        0.0  2.377952  \n",
              "1        -0.261661     -0.117148 -0.097812            0.0        0.0 -0.420530  \n",
              "2        -0.261661     -0.117148 -0.097812            0.0        0.0 -0.420530  \n",
              "3        -0.261661     -0.117148 -0.097812            0.0        0.0 -0.420530  \n",
              "4        -0.261661     -0.117148 -0.097812            0.0        0.0 -0.420530  \n",
              "...            ...           ...       ...            ...        ...       ...  \n",
              "2211     -0.261661     -0.117148 -0.097812            0.0        0.0 -0.420530  \n",
              "2212      3.821732     -0.117148 -0.097812            0.0        0.0 -0.420530  \n",
              "2213     -0.261661     -0.117148 -0.097812            0.0        0.0 -0.420530  \n",
              "2214     -0.261661     -0.117148 -0.097812            0.0        0.0 -0.420530  \n",
              "2215     -0.261661     -0.117148 -0.097812            0.0        0.0  2.377952  \n",
              "\n",
              "[2216 rows x 24 columns]"
            ],
            "text/html": [
              "\n",
              "  <div id=\"df-d4829e96-0c62-425f-8d77-769d8bb56dc5\">\n",
              "    <div class=\"colab-df-container\">\n",
              "      <div>\n",
              "<style scoped>\n",
              "    .dataframe tbody tr th:only-of-type {\n",
              "        vertical-align: middle;\n",
              "    }\n",
              "\n",
              "    .dataframe tbody tr th {\n",
              "        vertical-align: top;\n",
              "    }\n",
              "\n",
              "    .dataframe thead th {\n",
              "        text-align: right;\n",
              "    }\n",
              "</style>\n",
              "<table border=\"1\" class=\"dataframe\">\n",
              "  <thead>\n",
              "    <tr style=\"text-align: right;\">\n",
              "      <th></th>\n",
              "      <th>days</th>\n",
              "      <th>age</th>\n",
              "      <th>Income</th>\n",
              "      <th>Recency</th>\n",
              "      <th>MntWines</th>\n",
              "      <th>MntFruits</th>\n",
              "      <th>MntMeatProducts</th>\n",
              "      <th>MntFishProducts</th>\n",
              "      <th>MntSweetProducts</th>\n",
              "      <th>MntGoldProds</th>\n",
              "      <th>...</th>\n",
              "      <th>NumWebVisitsMonth</th>\n",
              "      <th>AcceptedCmp3</th>\n",
              "      <th>AcceptedCmp4</th>\n",
              "      <th>AcceptedCmp5</th>\n",
              "      <th>AcceptedCmp1</th>\n",
              "      <th>AcceptedCmp2</th>\n",
              "      <th>Complain</th>\n",
              "      <th>Z_CostContact</th>\n",
              "      <th>Z_Revenue</th>\n",
              "      <th>Response</th>\n",
              "    </tr>\n",
              "  </thead>\n",
              "  <tbody>\n",
              "    <tr>\n",
              "      <th>0</th>\n",
              "      <td>1.529129</td>\n",
              "      <td>0.986443</td>\n",
              "      <td>0.234063</td>\n",
              "      <td>0.310532</td>\n",
              "      <td>0.978226</td>\n",
              "      <td>1.549429</td>\n",
              "      <td>1.690227</td>\n",
              "      <td>2.454568</td>\n",
              "      <td>1.484827</td>\n",
              "      <td>0.850031</td>\n",
              "      <td>...</td>\n",
              "      <td>0.693232</td>\n",
              "      <td>-0.281773</td>\n",
              "      <td>-0.282705</td>\n",
              "      <td>-0.280839</td>\n",
              "      <td>-0.261661</td>\n",
              "      <td>-0.117148</td>\n",
              "      <td>-0.097812</td>\n",
              "      <td>0.0</td>\n",
              "      <td>0.0</td>\n",
              "      <td>2.377952</td>\n",
              "    </tr>\n",
              "    <tr>\n",
              "      <th>1</th>\n",
              "      <td>-1.188411</td>\n",
              "      <td>1.236801</td>\n",
              "      <td>-0.234559</td>\n",
              "      <td>-0.380509</td>\n",
              "      <td>-0.872024</td>\n",
              "      <td>-0.637328</td>\n",
              "      <td>-0.717986</td>\n",
              "      <td>-0.651038</td>\n",
              "      <td>-0.633880</td>\n",
              "      <td>-0.732867</td>\n",
              "      <td>...</td>\n",
              "      <td>-0.131574</td>\n",
              "      <td>-0.281773</td>\n",
              "      <td>-0.282705</td>\n",
              "      <td>-0.280839</td>\n",
              "      <td>-0.261661</td>\n",
              "      <td>-0.117148</td>\n",
              "      <td>-0.097812</td>\n",
              "      <td>0.0</td>\n",
              "      <td>0.0</td>\n",
              "      <td>-0.420530</td>\n",
              "    </tr>\n",
              "    <tr>\n",
              "      <th>2</th>\n",
              "      <td>-0.205155</td>\n",
              "      <td>0.318822</td>\n",
              "      <td>0.769478</td>\n",
              "      <td>-0.795134</td>\n",
              "      <td>0.358511</td>\n",
              "      <td>0.569159</td>\n",
              "      <td>-0.178368</td>\n",
              "      <td>1.340203</td>\n",
              "      <td>-0.146821</td>\n",
              "      <td>-0.037937</td>\n",
              "      <td>...</td>\n",
              "      <td>-0.543978</td>\n",
              "      <td>-0.281773</td>\n",
              "      <td>-0.282705</td>\n",
              "      <td>-0.280839</td>\n",
              "      <td>-0.261661</td>\n",
              "      <td>-0.117148</td>\n",
              "      <td>-0.097812</td>\n",
              "      <td>0.0</td>\n",
              "      <td>0.0</td>\n",
              "      <td>-0.420530</td>\n",
              "    </tr>\n",
              "    <tr>\n",
              "      <th>3</th>\n",
              "      <td>-1.059945</td>\n",
              "      <td>-1.266777</td>\n",
              "      <td>-1.017239</td>\n",
              "      <td>-0.795134</td>\n",
              "      <td>-0.872024</td>\n",
              "      <td>-0.561922</td>\n",
              "      <td>-0.655551</td>\n",
              "      <td>-0.504892</td>\n",
              "      <td>-0.585174</td>\n",
              "      <td>-0.752171</td>\n",
              "      <td>...</td>\n",
              "      <td>0.280829</td>\n",
              "      <td>-0.281773</td>\n",
              "      <td>-0.282705</td>\n",
              "      <td>-0.280839</td>\n",
              "      <td>-0.261661</td>\n",
              "      <td>-0.117148</td>\n",
              "      <td>-0.097812</td>\n",
              "      <td>0.0</td>\n",
              "      <td>0.0</td>\n",
              "      <td>-0.420530</td>\n",
              "    </tr>\n",
              "    <tr>\n",
              "      <th>4</th>\n",
              "      <td>-0.951244</td>\n",
              "      <td>-1.016420</td>\n",
              "      <td>0.240221</td>\n",
              "      <td>1.554407</td>\n",
              "      <td>-0.391671</td>\n",
              "      <td>0.418348</td>\n",
              "      <td>-0.218505</td>\n",
              "      <td>0.152766</td>\n",
              "      <td>-0.000703</td>\n",
              "      <td>-0.559135</td>\n",
              "      <td>...</td>\n",
              "      <td>-0.131574</td>\n",
              "      <td>-0.281773</td>\n",
              "      <td>-0.282705</td>\n",
              "      <td>-0.280839</td>\n",
              "      <td>-0.261661</td>\n",
              "      <td>-0.117148</td>\n",
              "      <td>-0.097812</td>\n",
              "      <td>0.0</td>\n",
              "      <td>0.0</td>\n",
              "      <td>-0.420530</td>\n",
              "    </tr>\n",
              "    <tr>\n",
              "      <th>...</th>\n",
              "      <td>...</td>\n",
              "      <td>...</td>\n",
              "      <td>...</td>\n",
              "      <td>...</td>\n",
              "      <td>...</td>\n",
              "      <td>...</td>\n",
              "      <td>...</td>\n",
              "      <td>...</td>\n",
              "      <td>...</td>\n",
              "      <td>...</td>\n",
              "      <td>...</td>\n",
              "      <td>...</td>\n",
              "      <td>...</td>\n",
              "      <td>...</td>\n",
              "      <td>...</td>\n",
              "      <td>...</td>\n",
              "      <td>...</td>\n",
              "      <td>...</td>\n",
              "      <td>...</td>\n",
              "      <td>...</td>\n",
              "      <td>...</td>\n",
              "    </tr>\n",
              "    <tr>\n",
              "      <th>2211</th>\n",
              "      <td>0.135772</td>\n",
              "      <td>0.151917</td>\n",
              "      <td>0.356642</td>\n",
              "      <td>-0.104093</td>\n",
              "      <td>1.197646</td>\n",
              "      <td>0.418348</td>\n",
              "      <td>0.066913</td>\n",
              "      <td>0.079693</td>\n",
              "      <td>2.215416</td>\n",
              "      <td>3.919308</td>\n",
              "      <td>...</td>\n",
              "      <td>-0.131574</td>\n",
              "      <td>-0.281773</td>\n",
              "      <td>-0.282705</td>\n",
              "      <td>-0.280839</td>\n",
              "      <td>-0.261661</td>\n",
              "      <td>-0.117148</td>\n",
              "      <td>-0.097812</td>\n",
              "      <td>0.0</td>\n",
              "      <td>0.0</td>\n",
              "      <td>-0.420530</td>\n",
              "    </tr>\n",
              "    <tr>\n",
              "      <th>2212</th>\n",
              "      <td>-1.652863</td>\n",
              "      <td>1.904422</td>\n",
              "      <td>0.467539</td>\n",
              "      <td>0.241428</td>\n",
              "      <td>0.299208</td>\n",
              "      <td>-0.662463</td>\n",
              "      <td>-0.610954</td>\n",
              "      <td>-0.687574</td>\n",
              "      <td>-0.658233</td>\n",
              "      <td>-0.694260</td>\n",
              "      <td>...</td>\n",
              "      <td>0.693232</td>\n",
              "      <td>-0.281773</td>\n",
              "      <td>-0.282705</td>\n",
              "      <td>-0.280839</td>\n",
              "      <td>3.821732</td>\n",
              "      <td>-0.117148</td>\n",
              "      <td>-0.097812</td>\n",
              "      <td>0.0</td>\n",
              "      <td>0.0</td>\n",
              "      <td>-0.420530</td>\n",
              "    </tr>\n",
              "    <tr>\n",
              "      <th>2213</th>\n",
              "      <td>-0.980889</td>\n",
              "      <td>-1.016420</td>\n",
              "      <td>0.188091</td>\n",
              "      <td>1.450751</td>\n",
              "      <td>1.787710</td>\n",
              "      <td>0.544024</td>\n",
              "      <td>0.223001</td>\n",
              "      <td>-0.102990</td>\n",
              "      <td>-0.365998</td>\n",
              "      <td>-0.385402</td>\n",
              "      <td>...</td>\n",
              "      <td>0.280829</td>\n",
              "      <td>-0.281773</td>\n",
              "      <td>3.537258</td>\n",
              "      <td>-0.280839</td>\n",
              "      <td>-0.261661</td>\n",
              "      <td>-0.117148</td>\n",
              "      <td>-0.097812</td>\n",
              "      <td>0.0</td>\n",
              "      <td>0.0</td>\n",
              "      <td>-0.420530</td>\n",
              "    </tr>\n",
              "    <tr>\n",
              "      <th>2214</th>\n",
              "      <td>-0.975948</td>\n",
              "      <td>1.069896</td>\n",
              "      <td>0.675388</td>\n",
              "      <td>-1.417072</td>\n",
              "      <td>0.364441</td>\n",
              "      <td>0.091591</td>\n",
              "      <td>0.209622</td>\n",
              "      <td>0.773887</td>\n",
              "      <td>0.072356</td>\n",
              "      <td>0.328832</td>\n",
              "      <td>...</td>\n",
              "      <td>-0.956381</td>\n",
              "      <td>-0.281773</td>\n",
              "      <td>-0.282705</td>\n",
              "      <td>-0.280839</td>\n",
              "      <td>-0.261661</td>\n",
              "      <td>-0.117148</td>\n",
              "      <td>-0.097812</td>\n",
              "      <td>0.0</td>\n",
              "      <td>0.0</td>\n",
              "      <td>-0.420530</td>\n",
              "    </tr>\n",
              "    <tr>\n",
              "      <th>2215</th>\n",
              "      <td>1.326548</td>\n",
              "      <td>1.236801</td>\n",
              "      <td>0.024705</td>\n",
              "      <td>-0.311405</td>\n",
              "      <td>-0.655568</td>\n",
              "      <td>-0.587058</td>\n",
              "      <td>-0.472705</td>\n",
              "      <td>-0.651038</td>\n",
              "      <td>-0.633880</td>\n",
              "      <td>-0.443313</td>\n",
              "      <td>...</td>\n",
              "      <td>0.693232</td>\n",
              "      <td>-0.281773</td>\n",
              "      <td>-0.282705</td>\n",
              "      <td>-0.280839</td>\n",
              "      <td>-0.261661</td>\n",
              "      <td>-0.117148</td>\n",
              "      <td>-0.097812</td>\n",
              "      <td>0.0</td>\n",
              "      <td>0.0</td>\n",
              "      <td>2.377952</td>\n",
              "    </tr>\n",
              "  </tbody>\n",
              "</table>\n",
              "<p>2216 rows × 24 columns</p>\n",
              "</div>\n",
              "      <button class=\"colab-df-convert\" onclick=\"convertToInteractive('df-d4829e96-0c62-425f-8d77-769d8bb56dc5')\"\n",
              "              title=\"Convert this dataframe to an interactive table.\"\n",
              "              style=\"display:none;\">\n",
              "        \n",
              "  <svg xmlns=\"http://www.w3.org/2000/svg\" height=\"24px\"viewBox=\"0 0 24 24\"\n",
              "       width=\"24px\">\n",
              "    <path d=\"M0 0h24v24H0V0z\" fill=\"none\"/>\n",
              "    <path d=\"M18.56 5.44l.94 2.06.94-2.06 2.06-.94-2.06-.94-.94-2.06-.94 2.06-2.06.94zm-11 1L8.5 8.5l.94-2.06 2.06-.94-2.06-.94L8.5 2.5l-.94 2.06-2.06.94zm10 10l.94 2.06.94-2.06 2.06-.94-2.06-.94-.94-2.06-.94 2.06-2.06.94z\"/><path d=\"M17.41 7.96l-1.37-1.37c-.4-.4-.92-.59-1.43-.59-.52 0-1.04.2-1.43.59L10.3 9.45l-7.72 7.72c-.78.78-.78 2.05 0 2.83L4 21.41c.39.39.9.59 1.41.59.51 0 1.02-.2 1.41-.59l7.78-7.78 2.81-2.81c.8-.78.8-2.07 0-2.86zM5.41 20L4 18.59l7.72-7.72 1.47 1.35L5.41 20z\"/>\n",
              "  </svg>\n",
              "      </button>\n",
              "      \n",
              "  <style>\n",
              "    .colab-df-container {\n",
              "      display:flex;\n",
              "      flex-wrap:wrap;\n",
              "      gap: 12px;\n",
              "    }\n",
              "\n",
              "    .colab-df-convert {\n",
              "      background-color: #E8F0FE;\n",
              "      border: none;\n",
              "      border-radius: 50%;\n",
              "      cursor: pointer;\n",
              "      display: none;\n",
              "      fill: #1967D2;\n",
              "      height: 32px;\n",
              "      padding: 0 0 0 0;\n",
              "      width: 32px;\n",
              "    }\n",
              "\n",
              "    .colab-df-convert:hover {\n",
              "      background-color: #E2EBFA;\n",
              "      box-shadow: 0px 1px 2px rgba(60, 64, 67, 0.3), 0px 1px 3px 1px rgba(60, 64, 67, 0.15);\n",
              "      fill: #174EA6;\n",
              "    }\n",
              "\n",
              "    [theme=dark] .colab-df-convert {\n",
              "      background-color: #3B4455;\n",
              "      fill: #D2E3FC;\n",
              "    }\n",
              "\n",
              "    [theme=dark] .colab-df-convert:hover {\n",
              "      background-color: #434B5C;\n",
              "      box-shadow: 0px 1px 3px 1px rgba(0, 0, 0, 0.15);\n",
              "      filter: drop-shadow(0px 1px 2px rgba(0, 0, 0, 0.3));\n",
              "      fill: #FFFFFF;\n",
              "    }\n",
              "  </style>\n",
              "\n",
              "      <script>\n",
              "        const buttonEl =\n",
              "          document.querySelector('#df-d4829e96-0c62-425f-8d77-769d8bb56dc5 button.colab-df-convert');\n",
              "        buttonEl.style.display =\n",
              "          google.colab.kernel.accessAllowed ? 'block' : 'none';\n",
              "\n",
              "        async function convertToInteractive(key) {\n",
              "          const element = document.querySelector('#df-d4829e96-0c62-425f-8d77-769d8bb56dc5');\n",
              "          const dataTable =\n",
              "            await google.colab.kernel.invokeFunction('convertToInteractive',\n",
              "                                                     [key], {});\n",
              "          if (!dataTable) return;\n",
              "\n",
              "          const docLinkHtml = 'Like what you see? Visit the ' +\n",
              "            '<a target=\"_blank\" href=https://colab.research.google.com/notebooks/data_table.ipynb>data table notebook</a>'\n",
              "            + ' to learn more about interactive tables.';\n",
              "          element.innerHTML = '';\n",
              "          dataTable['output_type'] = 'display_data';\n",
              "          await google.colab.output.renderOutput(dataTable, element);\n",
              "          const docLink = document.createElement('div');\n",
              "          docLink.innerHTML = docLinkHtml;\n",
              "          element.appendChild(docLink);\n",
              "        }\n",
              "      </script>\n",
              "    </div>\n",
              "  </div>\n",
              "  "
            ]
          },
          "metadata": {},
          "execution_count": 43
        }
      ]
    },
    {
      "cell_type": "markdown",
      "source": [
        "###차원 축소"
      ],
      "metadata": {
        "id": "hSweBGWmgDTy"
      }
    },
    {
      "cell_type": "markdown",
      "source": [
        "데이터를 차원 축소 해봅시다."
      ],
      "metadata": {
        "id": "GqDgcjqM2mrQ"
      }
    },
    {
      "cell_type": "code",
      "source": [
        "from sklearn.discriminant_analysis import LinearDiscriminantAnalysis\n",
        "\n",
        "## LDA\n",
        "lda = LinearDiscriminantAnalysis(n_components = 2)\n",
        "X_train_lda = lda.fit_transform(X_features_scaling, y_label)\n",
        "# X_train_lda\n",
        "########(코드)########(X_features_scaling, y_label) #차원축소 과정에 y 라벨값을 입력해줌"
      ],
      "metadata": {
        "id": "Fu0ayAvrYeC1"
      },
      "execution_count": 53,
      "outputs": []
    },
    {
      "cell_type": "code",
      "source": [
        "X_train_lda = pd.DataFrame(X_train_lda).loc[:,0:1]\n",
        "X_train_lda = pd.concat((X_train_lda, y_label), axis = 1)\n",
        "########(코드)########((X_train_lda, y_label), axis = 1) #X_train_Ida와 y_label 데이터를 하나로 합치기\n",
        "X_train_lda.columns = ['lda_1', 'lda_2', 'label']\n",
        "X_train_lda\n",
        "\n",
        "sns.lmplot(x = 'lda_1',y = 'lda_2',data = X_train_lda, hue = 'label', fit_reg = False)\n",
        "plt.show()\n",
        "\n",
        "## 우리가 원하는 정답 모양\n",
        "## 캠페인 참여에서의 총 참여 횟수를 라벨값으로 둔 상태에서의 데이터 분포도"
      ],
      "metadata": {
        "id": "eS_siPJ1YoXr",
        "colab": {
          "base_uri": "https://localhost:8080/",
          "height": 369
        },
        "outputId": "8d4c5f75-171c-455c-896f-8a5ac1d7b156"
      },
      "execution_count": 54,
      "outputs": [
        {
          "output_type": "display_data",
          "data": {
            "text/plain": [
              "<Figure size 402.375x360 with 1 Axes>"
            ],
            "image/png": "[encoded data removed]"
          },
          "metadata": {
            "needs_background": "light"
          }
        }
      ]
    },
    {
      "cell_type": "code",
      "source": [
        "X_train_lda.loc[:,['lda_1', 'lda_2']]"
      ],
      "metadata": {
        "colab": {
          "base_uri": "https://localhost:8080/",
          "height": 423
        },
        "id": "RwMCnCAtEDdT",
        "outputId": "02a818e9-0a77-49ca-c97a-5c1a20f475f4"
      },
      "execution_count": 107,
      "outputs": [
        {
          "output_type": "execute_result",
          "data": {
            "text/plain": [
              "         lda_1     lda_2\n",
              "0     1.136967 -1.804852\n",
              "1    -0.390107  0.562877\n",
              "2    -0.492550  0.143637\n",
              "3    -0.353401  0.644298\n",
              "4    -0.208290  0.529871\n",
              "...        ...       ...\n",
              "2211  0.528615 -1.351187\n",
              "2212  1.412328  0.439092\n",
              "2213 -0.421907 -2.493652\n",
              "2214 -0.353032 -0.057959\n",
              "2215  0.429144 -0.207797\n",
              "\n",
              "[2216 rows x 2 columns]"
            ],
            "text/html": [
              "\n",
              "  <div id=\"df-b4300220-3578-43bb-a974-21f8616ac21b\">\n",
              "    <div class=\"colab-df-container\">\n",
              "      <div>\n",
              "<style scoped>\n",
              "    .dataframe tbody tr th:only-of-type {\n",
              "        vertical-align: middle;\n",
              "    }\n",
              "\n",
              "    .dataframe tbody tr th {\n",
              "        vertical-align: top;\n",
              "    }\n",
              "\n",
              "    .dataframe thead th {\n",
              "        text-align: right;\n",
              "    }\n",
              "</style>\n",
              "<table border=\"1\" class=\"dataframe\">\n",
              "  <thead>\n",
              "    <tr style=\"text-align: right;\">\n",
              "      <th></th>\n",
              "      <th>lda_1</th>\n",
              "      <th>lda_2</th>\n",
              "    </tr>\n",
              "  </thead>\n",
              "  <tbody>\n",
              "    <tr>\n",
              "      <th>0</th>\n",
              "      <td>1.136967</td>\n",
              "      <td>-1.804852</td>\n",
              "    </tr>\n",
              "    <tr>\n",
              "      <th>1</th>\n",
              "      <td>-0.390107</td>\n",
              "      <td>0.562877</td>\n",
              "    </tr>\n",
              "    <tr>\n",
              "      <th>2</th>\n",
              "      <td>-0.492550</td>\n",
              "      <td>0.143637</td>\n",
              "    </tr>\n",
              "    <tr>\n",
              "      <th>3</th>\n",
              "      <td>-0.353401</td>\n",
              "      <td>0.644298</td>\n",
              "    </tr>\n",
              "    <tr>\n",
              "      <th>4</th>\n",
              "      <td>-0.208290</td>\n",
              "      <td>0.529871</td>\n",
              "    </tr>\n",
              "    <tr>\n",
              "      <th>...</th>\n",
              "      <td>...</td>\n",
              "      <td>...</td>\n",
              "    </tr>\n",
              "    <tr>\n",
              "      <th>2211</th>\n",
              "      <td>0.528615</td>\n",
              "      <td>-1.351187</td>\n",
              "    </tr>\n",
              "    <tr>\n",
              "      <th>2212</th>\n",
              "      <td>1.412328</td>\n",
              "      <td>0.439092</td>\n",
              "    </tr>\n",
              "    <tr>\n",
              "      <th>2213</th>\n",
              "      <td>-0.421907</td>\n",
              "      <td>-2.493652</td>\n",
              "    </tr>\n",
              "    <tr>\n",
              "      <th>2214</th>\n",
              "      <td>-0.353032</td>\n",
              "      <td>-0.057959</td>\n",
              "    </tr>\n",
              "    <tr>\n",
              "      <th>2215</th>\n",
              "      <td>0.429144</td>\n",
              "      <td>-0.207797</td>\n",
              "    </tr>\n",
              "  </tbody>\n",
              "</table>\n",
              "<p>2216 rows × 2 columns</p>\n",
              "</div>\n",
              "      <button class=\"colab-df-convert\" onclick=\"convertToInteractive('df-b4300220-3578-43bb-a974-21f8616ac21b')\"\n",
              "              title=\"Convert this dataframe to an interactive table.\"\n",
              "              style=\"display:none;\">\n",
              "        \n",
              "  <svg xmlns=\"http://www.w3.org/2000/svg\" height=\"24px\"viewBox=\"0 0 24 24\"\n",
              "       width=\"24px\">\n",
              "    <path d=\"M0 0h24v24H0V0z\" fill=\"none\"/>\n",
              "    <path d=\"M18.56 5.44l.94 2.06.94-2.06 2.06-.94-2.06-.94-.94-2.06-.94 2.06-2.06.94zm-11 1L8.5 8.5l.94-2.06 2.06-.94-2.06-.94L8.5 2.5l-.94 2.06-2.06.94zm10 10l.94 2.06.94-2.06 2.06-.94-2.06-.94-.94-2.06-.94 2.06-2.06.94z\"/><path d=\"M17.41 7.96l-1.37-1.37c-.4-.4-.92-.59-1.43-.59-.52 0-1.04.2-1.43.59L10.3 9.45l-7.72 7.72c-.78.78-.78 2.05 0 2.83L4 21.41c.39.39.9.59 1.41.59.51 0 1.02-.2 1.41-.59l7.78-7.78 2.81-2.81c.8-.78.8-2.07 0-2.86zM5.41 20L4 18.59l7.72-7.72 1.47 1.35L5.41 20z\"/>\n",
              "  </svg>\n",
              "      </button>\n",
              "      \n",
              "  <style>\n",
              "    .colab-df-container {\n",
              "      display:flex;\n",
              "      flex-wrap:wrap;\n",
              "      gap: 12px;\n",
              "    }\n",
              "\n",
              "    .colab-df-convert {\n",
              "      background-color: #E8F0FE;\n",
              "      border: none;\n",
              "      border-radius: 50%;\n",
              "      cursor: pointer;\n",
              "      display: none;\n",
              "      fill: #1967D2;\n",
              "      height: 32px;\n",
              "      padding: 0 0 0 0;\n",
              "      width: 32px;\n",
              "    }\n",
              "\n",
              "    .colab-df-convert:hover {\n",
              "      background-color: #E2EBFA;\n",
              "      box-shadow: 0px 1px 2px rgba(60, 64, 67, 0.3), 0px 1px 3px 1px rgba(60, 64, 67, 0.15);\n",
              "      fill: #174EA6;\n",
              "    }\n",
              "\n",
              "    [theme=dark] .colab-df-convert {\n",
              "      background-color: #3B4455;\n",
              "      fill: #D2E3FC;\n",
              "    }\n",
              "\n",
              "    [theme=dark] .colab-df-convert:hover {\n",
              "      background-color: #434B5C;\n",
              "      box-shadow: 0px 1px 3px 1px rgba(0, 0, 0, 0.15);\n",
              "      filter: drop-shadow(0px 1px 2px rgba(0, 0, 0, 0.3));\n",
              "      fill: #FFFFFF;\n",
              "    }\n",
              "  </style>\n",
              "\n",
              "      <script>\n",
              "        const buttonEl =\n",
              "          document.querySelector('#df-b4300220-3578-43bb-a974-21f8616ac21b button.colab-df-convert');\n",
              "        buttonEl.style.display =\n",
              "          google.colab.kernel.accessAllowed ? 'block' : 'none';\n",
              "\n",
              "        async function convertToInteractive(key) {\n",
              "          const element = document.querySelector('#df-b4300220-3578-43bb-a974-21f8616ac21b');\n",
              "          const dataTable =\n",
              "            await google.colab.kernel.invokeFunction('convertToInteractive',\n",
              "                                                     [key], {});\n",
              "          if (!dataTable) return;\n",
              "\n",
              "          const docLinkHtml = 'Like what you see? Visit the ' +\n",
              "            '<a target=\"_blank\" href=https://colab.research.google.com/notebooks/data_table.ipynb>data table notebook</a>'\n",
              "            + ' to learn more about interactive tables.';\n",
              "          element.innerHTML = '';\n",
              "          dataTable['output_type'] = 'display_data';\n",
              "          await google.colab.output.renderOutput(dataTable, element);\n",
              "          const docLink = document.createElement('div');\n",
              "          docLink.innerHTML = docLinkHtml;\n",
              "          element.appendChild(docLink);\n",
              "        }\n",
              "      </script>\n",
              "    </div>\n",
              "  </div>\n",
              "  "
            ]
          },
          "metadata": {},
          "execution_count": 107
        }
      ]
    },
    {
      "cell_type": "markdown",
      "source": [
        "###K-means Clustering"
      ],
      "metadata": {
        "id": "mlmCquwTgNBF"
      }
    },
    {
      "cell_type": "markdown",
      "source": [
        "클러스터링을 돌려 보는 데에 의의가 있기에, 파라미터 값 최적화보다는 각 알고리즘을 사용하면 결과가 어떻게 달라지는 지에 초점을 맞추어 살펴봅니다. 여러 번 시행해보면서 **자유롭게 파라미터를 정해주세요**."
      ],
      "metadata": {
        "id": "lY9vjJLvmtSv"
      }
    },
    {
      "cell_type": "markdown",
      "source": [
        "**(직접 최적의 파라미터 값을 찾아서 설정하고 싶으시다면 훨씬 좋습니다! 해당 과제의 모든 코드는 기본 뼈대일 뿐입니다. 코드를 추가 또는 변경하셔도 좋습니다.)**"
      ],
      "metadata": {
        "id": "UWBpYVvn6Y9-"
      }
    },
    {
      "cell_type": "markdown",
      "source": [
        "다른 x값들에 대해서도 캠페인 참여도, 즉 고객의 충실도를 잘 군집화할 수 있을까요? 클러스터링으로 결과를 확인해봅시다."
      ],
      "metadata": {
        "id": "0NFbMzot24go"
      }
    },
    {
      "cell_type": "markdown",
      "source": [
        "\n",
        "\n",
        "---\n",
        "\n",
        "\n",
        "\n"
      ],
      "metadata": {
        "id": "M6Bnqr3WgOH_"
      }
    },
    {
      "cell_type": "markdown",
      "source": [
        "K-means를 이용하여 클러스터링 해봅시다."
      ],
      "metadata": {
        "id": "TfuCCGgioEbh"
      }
    },
    {
      "cell_type": "code",
      "source": [
        "## 필요한 라이브러리를 임포트합니다.\n",
        "\n",
        "from sklearn.cluster import KMeans"
      ],
      "metadata": {
        "id": "T5c5byPLnB5e"
      },
      "execution_count": 51,
      "outputs": []
    },
    {
      "cell_type": "code",
      "source": [
        "## 필요한 라이브러리를 임포트합니다.\n",
        "\n",
        "from yellowbrick.cluster import KElbowVisualizer #elbow method"
      ],
      "metadata": {
        "id": "CsA_AvR--_2o"
      },
      "execution_count": 55,
      "outputs": []
    },
    {
      "cell_type": "code",
      "source": [
        "model = KMeans()"
      ],
      "metadata": {
        "id": "QoXt3sR9_C2F"
      },
      "execution_count": 56,
      "outputs": []
    },
    {
      "cell_type": "code",
      "source": [
        "# 실루엣 계수는 '2 <= # of labels <= (# of samples) - 1' 일 때에만 정의됩니다.\n",
        "elbowvisualizer = KElbowVisualizer(model, k = (2,10), metric = 'silhouette', timings = False) # timings : 돌아가는 시간 안 적어도 된다\n",
        "elbowvisualizer.fit(X_train_lda.iloc[:,0:2])  \n",
        "elbowvisualizer.show()"
      ],
      "metadata": {
        "colab": {
          "base_uri": "https://localhost:8080/",
          "height": 394
        },
        "id": "aP6zkGOw_HYq",
        "outputId": "d3d771b3-2d5f-4ea7-bd14-b22c252380d5"
      },
      "execution_count": 58,
      "outputs": [
        {
          "output_type": "display_data",
          "data": {
            "text/plain": [
              "<Figure size 576x396 with 1 Axes>"
            ],
            "image/png": "[encoded data removed]"
          },
          "metadata": {}
        },
        {
          "output_type": "execute_result",
          "data": {
            "text/plain": [
              "<matplotlib.axes._subplots.AxesSubplot at 0x7f06874a93d0>"
            ]
          },
          "metadata": {},
          "execution_count": 58
        }
      ]
    },
    {
      "cell_type": "code",
      "source": [
        "## 클러스터 수는 ########(숫자)########로 설정하고, KMeans를 활용하여 예측된 y값을 만들어 봅시다.\n",
        "\n",
        "km = KMeans(n_clusters = 5, random_state = 99)\n",
        "########(숫자)########\n",
        "\n",
        "y_km = km.fit_predict(X_features_scaling)\n",
        "########(코드)########(X_features_scaling)\n",
        "y_km"
      ],
      "metadata": {
        "id": "e66J9Orqaxdz",
        "colab": {
          "base_uri": "https://localhost:8080/"
        },
        "outputId": "83041d78-d83c-435b-fea0-4b433235297f"
      },
      "execution_count": 65,
      "outputs": [
        {
          "output_type": "execute_result",
          "data": {
            "text/plain": [
              "array([2, 1, 2, ..., 0, 2, 1], dtype=int32)"
            ]
          },
          "metadata": {},
          "execution_count": 65
        }
      ]
    },
    {
      "cell_type": "code",
      "source": [
        "X_train_lda['K_means'] = y_km"
      ],
      "metadata": {
        "id": "Xalob8AybpqS"
      },
      "execution_count": 66,
      "outputs": []
    },
    {
      "cell_type": "markdown",
      "source": [
        "####시각화"
      ],
      "metadata": {
        "id": "IpNZtoEJns4f"
      }
    },
    {
      "cell_type": "code",
      "source": [
        "sns.lmplot(x = 'lda_1', y = 'lda_2', data = X_train_lda, hue = 'K_means', fit_reg = False)\n",
        "plt.title('K-means Clustering Result')\n",
        "plt.show()"
      ],
      "metadata": {
        "id": "gMDG4QTFbkjJ",
        "colab": {
          "base_uri": "https://localhost:8080/",
          "height": 380
        },
        "outputId": "c4048903-72d5-40a2-e48b-a8bbe1621be3"
      },
      "execution_count": 67,
      "outputs": [
        {
          "output_type": "display_data",
          "data": {
            "text/plain": [
              "<Figure size 418.75x360 with 1 Axes>"
            ],
            "image/png": "[encoded data removed]"
          },
          "metadata": {}
        }
      ]
    },
    {
      "cell_type": "markdown",
      "source": [
        "###Hierarchical Clustering"
      ],
      "metadata": {
        "id": "D2pTwOUfn62c"
      }
    },
    {
      "cell_type": "markdown",
      "source": [
        "Agglomerative 방법을 이용하여 클러스터링 해봅시다."
      ],
      "metadata": {
        "id": "Ezn3DNWVn-Gx"
      }
    },
    {
      "cell_type": "code",
      "source": [
        "## 필요한 라이브러리를 임포트합니다.\n",
        "\n",
        "from sklearn.cluster import AgglomerativeClustering"
      ],
      "metadata": {
        "id": "GbahvycYcTnC"
      },
      "execution_count": 68,
      "outputs": []
    },
    {
      "cell_type": "code",
      "source": [
        "## 클러스터 수는 ########(숫자)########로 설정하고, Agglomerative를 활용하여 예측된 y값을 만들어 봅시다.\n",
        "\n",
        "agghc = AgglomerativeClustering(n_clusters = 5, affinity = 'euclidean', linkage = 'ward')\n",
        "########(숫자)########, affinity = 'euclidean', linkage = '########(숫자)########') #와드연결법을 사용합니다.\n",
        "\n",
        "y_agghc = agghc.fit_predict(X_features_scaling)########(코드)########(X_features_scaling)\n",
        "y_agghc"
      ],
      "metadata": {
        "colab": {
          "base_uri": "https://localhost:8080/"
        },
        "id": "Jm_odYfKoQOD",
        "outputId": "4790959f-b111-4197-eeef-cc46bccf838f"
      },
      "execution_count": 70,
      "outputs": [
        {
          "output_type": "execute_result",
          "data": {
            "text/plain": [
              "array([2, 3, 2, ..., 1, 2, 1])"
            ]
          },
          "metadata": {},
          "execution_count": 70
        }
      ]
    },
    {
      "cell_type": "code",
      "source": [
        "X_train_lda['hierarchical'] = y_agghc"
      ],
      "metadata": {
        "id": "JmPjxgKJodsz"
      },
      "execution_count": 71,
      "outputs": []
    },
    {
      "cell_type": "markdown",
      "source": [
        "####시각화"
      ],
      "metadata": {
        "id": "wtjDpfrN3ZE1"
      }
    },
    {
      "cell_type": "code",
      "source": [
        "sns.lmplot(x = 'lda_1', y = 'lda_2', data = X_train_lda, hue = 'hierarchical', fit_reg = False)\n",
        "plt.title('Hierarchical Clustering Result')\n",
        "plt.show()"
      ],
      "metadata": {
        "id": "Kc_5HVs9cna3",
        "colab": {
          "base_uri": "https://localhost:8080/",
          "height": 380
        },
        "outputId": "2d9129a1-dea0-490b-fdc5-fdfa859dcac6"
      },
      "execution_count": 72,
      "outputs": [
        {
          "output_type": "display_data",
          "data": {
            "text/plain": [
              "<Figure size 429.75x360 with 1 Axes>"
            ],
            "image/png": "[encoded data removed]"
          },
          "metadata": {}
        }
      ]
    },
    {
      "cell_type": "markdown",
      "source": [
        "###DBSCAN"
      ],
      "metadata": {
        "id": "ZZ4kBn15o0Ln"
      }
    },
    {
      "cell_type": "markdown",
      "source": [
        "DBSCAN을 이용하여 클러스터링 해봅시다."
      ],
      "metadata": {
        "id": "XqccBOmdo2NX"
      }
    },
    {
      "cell_type": "code",
      "source": [
        "## 필요한 라이브러리를 임포트합니다.\n",
        "\n",
        "from sklearn.cluster import DBSCAN"
      ],
      "metadata": {
        "id": "RHb-CAXDcrBh"
      },
      "execution_count": 74,
      "outputs": []
    },
    {
      "cell_type": "code",
      "source": [
        "import sklearn.utils\n",
        "import sklearn.neighbors\n",
        "from sklearn.neighbors import NearestNeighbors"
      ],
      "metadata": {
        "id": "roEyPcTBBJ0O"
      },
      "execution_count": 75,
      "outputs": []
    },
    {
      "cell_type": "code",
      "source": [
        "nb = NearestNeighbors(n_neighbors = 4).fit(X_features_scaling)\n",
        "# minPts를 4로 설정했으므로 n_neighbors도 4로 설정"
      ],
      "metadata": {
        "id": "xUPyA7BaBL9s"
      },
      "execution_count": 77,
      "outputs": []
    },
    {
      "cell_type": "code",
      "source": [
        "minPts = 4"
      ],
      "metadata": {
        "id": "N71qMOlZBPwB"
      },
      "execution_count": 78,
      "outputs": []
    },
    {
      "cell_type": "code",
      "source": [
        "#kneighbors([X, n_neighbors, return_distance]): Find the K-neighbors of a point.\n",
        "distances, indices = nb.kneighbors(X_features_scaling)"
      ],
      "metadata": {
        "id": "52_OhPeaBQ_7"
      },
      "execution_count": 80,
      "outputs": []
    },
    {
      "cell_type": "code",
      "source": [
        "distances #한 점이 minPts를 만족하는 점들과의 거리"
      ],
      "metadata": {
        "colab": {
          "base_uri": "https://localhost:8080/"
        },
        "id": "nvGd8wylBU3r",
        "outputId": "284345ca-4352-4c02-b2ea-796f4f72c5a8"
      },
      "execution_count": 81,
      "outputs": [
        {
          "output_type": "execute_result",
          "data": {
            "text/plain": [
              "array([[1.19209290e-07, 3.34668520e+00, 3.52977034e+00, 3.53985459e+00],\n",
              "       [0.00000000e+00, 9.09903423e-01, 9.39336054e-01, 9.58490843e-01],\n",
              "       [0.00000000e+00, 1.63108673e+00, 1.92351889e+00, 2.01634054e+00],\n",
              "       ...,\n",
              "       [0.00000000e+00, 2.85466117e+00, 3.02415529e+00, 3.27335510e+00],\n",
              "       [0.00000000e+00, 1.42852458e+00, 1.70955064e+00, 1.75579970e+00],\n",
              "       [0.00000000e+00, 1.14949383e+00, 1.40752549e+00, 1.54215594e+00]])"
            ]
          },
          "metadata": {},
          "execution_count": 81
        }
      ]
    },
    {
      "cell_type": "code",
      "source": [
        "## eps는 ########(숫자)########, minPts는 ########(숫자)########로 설정한 뒤 DBSCAN를 활용하여 예측된 y값을 만들어 봅시다.\n",
        "\n",
        "dbscan = DBSCAN(eps = 5.1, min_samples = 4, metric = 'euclidean')\n",
        "########(숫자)########, min_samples = ########(숫자)########, metric = 'euclidean') #eps는 0-1\n",
        "\n",
        "y_dbscan = dbscan.fit_predict(X_features_scaling)########(코드)########(X_features_scaling)\n",
        "y_dbscan"
      ],
      "metadata": {
        "id": "b9tu38-Fo98h",
        "colab": {
          "base_uri": "https://localhost:8080/"
        },
        "outputId": "950e39d4-ec69-47fe-b16e-3ebc0d44bc07"
      },
      "execution_count": 92,
      "outputs": [
        {
          "output_type": "execute_result",
          "data": {
            "text/plain": [
              "array([0, 0, 0, ..., 0, 0, 0])"
            ]
          },
          "metadata": {},
          "execution_count": 92
        }
      ]
    },
    {
      "cell_type": "code",
      "source": [
        "X_train_lda['dbscan'] = y_dbscan"
      ],
      "metadata": {
        "id": "1xVqMxMtqK_r"
      },
      "execution_count": 93,
      "outputs": []
    },
    {
      "cell_type": "code",
      "source": [
        "y_db = dbscan.labels_"
      ],
      "metadata": {
        "id": "C7mjm5KmDNji"
      },
      "execution_count": 104,
      "outputs": []
    },
    {
      "cell_type": "code",
      "source": [
        "# 실제 클러스터 수\n",
        "\n",
        "cluster_db = len(set(dbscan.labels_)) - (1 if -1 in dbscan.labels_ else 0)\n",
        "cluster_db"
      ],
      "metadata": {
        "colab": {
          "base_uri": "https://localhost:8080/"
        },
        "id": "1bTMTP4ODPkA",
        "outputId": "7b851307-557a-4993-8d25-8be2be79324b"
      },
      "execution_count": 105,
      "outputs": [
        {
          "output_type": "execute_result",
          "data": {
            "text/plain": [
              "3"
            ]
          },
          "metadata": {},
          "execution_count": 105
        }
      ]
    },
    {
      "cell_type": "markdown",
      "source": [
        "####시각화"
      ],
      "metadata": {
        "id": "3Rf8Hy_n3aEu"
      }
    },
    {
      "cell_type": "code",
      "source": [
        "sns.lmplot(x = 'lda_1', y = 'lda_2', data = X_train_lda, hue = 'dbscan', fit_reg = False)\n",
        "plt.show()"
      ],
      "metadata": {
        "id": "z7xQlZz-dL9K",
        "colab": {
          "base_uri": "https://localhost:8080/",
          "height": 365
        },
        "outputId": "142b4907-7db7-4d8a-d031-824df4f5ac6c"
      },
      "execution_count": 103,
      "outputs": [
        {
          "output_type": "display_data",
          "data": {
            "text/plain": [
              "<Figure size 406.75x360 with 1 Axes>"
            ],
            "image/png": "[encoded data removed]"
          },
          "metadata": {}
        }
      ]
    },
    {
      "cell_type": "markdown",
      "source": [
        "###Validation"
      ],
      "metadata": {
        "id": "HJpetyIbiEoy"
      }
    },
    {
      "cell_type": "markdown",
      "source": [
        "실루엣 계수를 사용하여 각 클러스터링의 성능을 평가해봅시다."
      ],
      "metadata": {
        "id": "CNaob-PWiI9e"
      }
    },
    {
      "cell_type": "markdown",
      "source": [
        "\n",
        "\n",
        "---\n",
        "\n"
      ],
      "metadata": {
        "id": "n8o06Vu4irOF"
      }
    },
    {
      "cell_type": "markdown",
      "source": [
        "(Q) 실루엣 계수로 평가하기 전에, 육안 상으로 어떠한 알고리즘의 성능이 제일 높아 보이며 어떠한 알고리즘의 성능이 제일 낮아 보이는지 의견을 적어주세요."
      ],
      "metadata": {
        "id": "r9KRTq-biRY3"
      }
    },
    {
      "cell_type": "markdown",
      "source": [
        "########(의견)########\n",
        "\n",
        "Hierarchical Clustering이 성능이 제일 높아보이며, DBSCAN이 성능이 제일 낮아보입니다!"
      ],
      "metadata": {
        "id": "Rv3V8sfuihsF"
      }
    },
    {
      "cell_type": "markdown",
      "source": [
        "\n",
        "\n",
        "---\n",
        "\n"
      ],
      "metadata": {
        "id": "R_QgoTfIisvg"
      }
    },
    {
      "cell_type": "markdown",
      "source": [
        "이제 실루엣 계수로 성능을 평가해 봅시다!"
      ],
      "metadata": {
        "id": "Jv4WfZO4iuVF"
      }
    },
    {
      "cell_type": "code",
      "source": [
        "## 필요한 라이브러리를 임포트합니다.\n",
        "\n",
        "import sklearn.metrics as metrics\n",
        "from sklearn.metrics.cluster import silhouette_score"
      ],
      "metadata": {
        "id": "fULi7pCudtHs"
      },
      "execution_count": 95,
      "outputs": []
    },
    {
      "cell_type": "markdown",
      "source": [
        "K-means Clustering의 실루엣 계수입니다."
      ],
      "metadata": {
        "id": "5bAQ6CyW6Uth"
      }
    },
    {
      "cell_type": "code",
      "source": [
        "coef_km = metrics.silhouette_score(X_features_scaling, y_km)\n",
        "print('Silhouette score is {}.'.format(coef_km))"
      ],
      "metadata": {
        "colab": {
          "base_uri": "https://localhost:8080/"
        },
        "id": "KDKJhjx6ojLj",
        "outputId": "6e592c2c-6701-4230-86ee-4e1c00db7ecb"
      },
      "execution_count": 97,
      "outputs": [
        {
          "output_type": "stream",
          "name": "stdout",
          "text": [
            "Silhouette score is 0.19660255982258726.\n"
          ]
        }
      ]
    },
    {
      "cell_type": "markdown",
      "source": [
        "Hierarchical Clustering의 실루엣 계수입니다."
      ],
      "metadata": {
        "id": "WdNkPAm76eq9"
      }
    },
    {
      "cell_type": "code",
      "source": [
        "## Hierarchical Clustering\n",
        "\n",
        "coef_hc = metrics.silhouette_score(X_features_scaling, y_agghc)\n",
        "print('Silhouette score is {}.'.format(coef_hc))"
      ],
      "metadata": {
        "colab": {
          "base_uri": "https://localhost:8080/"
        },
        "id": "x1jUkQM_pbMk",
        "outputId": "46c8986b-56a1-4942-ddf6-85111357cd5f"
      },
      "execution_count": 98,
      "outputs": [
        {
          "output_type": "stream",
          "name": "stdout",
          "text": [
            "Silhouette score is 0.17393367899599174.\n"
          ]
        }
      ]
    },
    {
      "cell_type": "markdown",
      "source": [
        "DBSCAN의 실루엣 계수입니다."
      ],
      "metadata": {
        "id": "4m7AX0LL6iV-"
      }
    },
    {
      "cell_type": "code",
      "source": [
        "## DBSCAN\n",
        "\n",
        "coef_db = metrics.silhouette_score(X_features_scaling,y_db)\n",
        "print('Silhouette score is {}.'.format(coef_db))"
      ],
      "metadata": {
        "colab": {
          "base_uri": "https://localhost:8080/"
        },
        "id": "vppodq1EqLbA",
        "outputId": "05582e5e-cbf7-443b-a1b9-d4aab95f6af5"
      },
      "execution_count": 106,
      "outputs": [
        {
          "output_type": "stream",
          "name": "stdout",
          "text": [
            "Silhouette score is 0.48526039037233165.\n"
          ]
        }
      ]
    },
    {
      "cell_type": "markdown",
      "source": [
        "(Q) 실루엣 계수를 기반으로, 클러스터링 알고리즘의 성능을 높은 순대로 적어주세요."
      ],
      "metadata": {
        "id": "4Aef3wru4ycD"
      }
    },
    {
      "cell_type": "markdown",
      "source": [
        "########(의견)########\n",
        "*  DBSCAN > K-Means > Hierarchical Clustering\n",
        "\n",
        "\n"
      ],
      "metadata": {
        "id": "-95mdNXC4coe"
      }
    },
    {
      "cell_type": "markdown",
      "source": [
        "(Q) 클러스터링 결과에 대한 해석을 적어주세요. (참고로, 실루엣 계수는 -1에서 1 사이의 값을 가집니다.)"
      ],
      "metadata": {
        "id": "TrYTuEi34lG7"
      }
    },
    {
      "cell_type": "markdown",
      "source": [
        "########(의견)########\n",
        "\n",
        "*   예상과 다르게 DBSCAN이 제일 성능이 높았습니다"
      ],
      "metadata": {
        "id": "YIoqd0OZ4tLF"
      }
    },
    {
      "cell_type": "markdown",
      "source": [
        "(Q) 마케팅 캠페인과 관련하여 도출할 수 있는 인사이트를 적어주세요."
      ],
      "metadata": {
        "id": "9m2Rvla1fgj1"
      }
    },
    {
      "cell_type": "markdown",
      "source": [
        "########(의견)########\n",
        "\n",
        "*   마케팅 캠페인에 4회 참여한 고객은 소수에 불과하며, 이들만의 특징을 추출하는 것이 매우 중요할 것으로 보인다.\n",
        "\n",
        "* 마케팅 캠페인에 많이 참여하게 하는 것이 중요할 수 있기 때문이다.\n",
        "\n",
        "\n",
        "*   마케팅 캠페인에 4회 참여한 고객과 그 외 의 고객을 따로 분류하여 어떤 다른 특징이 있는지 추가 분석을 진행하는 것이 필요할 것 같다.\n",
        "\n",
        "\n",
        "\n",
        "\n",
        "\n",
        "\n",
        "\n",
        "\n"
      ],
      "metadata": {
        "id": "a4B84sjvflRg"
      }
    }
  ]
}