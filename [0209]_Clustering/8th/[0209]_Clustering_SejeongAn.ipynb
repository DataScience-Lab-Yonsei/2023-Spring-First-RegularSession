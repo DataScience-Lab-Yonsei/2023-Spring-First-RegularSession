{
  "nbformat": 4,
  "nbformat_minor": 0,
  "metadata": {
    "colab": {
      "provenance": []
    },
    "kernelspec": {
      "name": "python3",
      "display_name": "Python 3"
    },
    "language_info": {
      "name": "python"
    }
  },
  "cells": [
    {
      "cell_type": "markdown",
      "source": [
        "주어진 데이터셋을 차원 축소한 뒤 **다양한 알고리즘**을 적용하여 클러스터링을 진행하고, 결과를 시각화하는 작업을 직접 해보면서 **비지도학습** (Unsupervised Learning)에 대한 이해도를 높여 봅시다."
      ],
      "metadata": {
        "id": "OvZ4RWub-tp5"
      }
    },
    {
      "cell_type": "code",
      "execution_count": 1,
      "metadata": {
        "id": "sPkBwLLC_LpB"
      },
      "outputs": [],
      "source": [
        "## 필요한 라이브러리를 임포트합니다.\n",
        "\n",
        "import pandas as pd\n",
        "import numpy as np"
      ]
    },
    {
      "cell_type": "code",
      "source": [
        "## 시각화 관련 라이브러리를 임포트합니다.\n",
        "\n",
        "from matplotlib import pyplot as plt\n",
        "import seaborn as sns"
      ],
      "metadata": {
        "id": "OtnrxMvB-mV_"
      },
      "execution_count": 2,
      "outputs": []
    },
    {
      "cell_type": "markdown",
      "source": [
        "###데이터"
      ],
      "metadata": {
        "id": "q2EVaet0fezv"
      }
    },
    {
      "cell_type": "markdown",
      "source": [
        "사용할 데이터: 'Marketing Campaign.csv'"
      ],
      "metadata": {
        "id": "u93F5Rxodjhg"
      }
    },
    {
      "cell_type": "markdown",
      "source": [
        "주어진 데이터는 마케팅 캠페인을 펼치고자 하는 소비자들에 대한 정보를 나타낸 데이터입니다. 해당 소비자들을 알맞게 군집화시키는 것이 우리의 목적입니다.\n",
        "\n",
        "총 29개의 column으로 구성되어 있습니다. \n",
        "\n",
        "\n",
        "\n",
        "---\n",
        "\n",
        "\n",
        "\n",
        "\n",
        "\n"
      ],
      "metadata": {
        "id": "3V10T3GMdkkq"
      }
    },
    {
      "cell_type": "markdown",
      "source": [
        "데이터에 대한 자세한 설명은 해당 kaggle 페이지에서 확인하실 수 있습니다.\n",
        "\n",
        "https://www.kaggle.com/datasets/rodsaldanha/arketing-campaign"
      ],
      "metadata": {
        "id": "bmzh86T1ftm5"
      }
    },
    {
      "cell_type": "markdown",
      "source": [
        "데이터를 불러옵니다."
      ],
      "metadata": {
        "id": "13998SwmXdYu"
      }
    },
    {
      "cell_type": "code",
      "source": [
        "## drive에 있는 데이터셋을 불러오기 위해 드라이브와 연동을 합니다.\n",
        "\n",
        "from google.colab import drive\n",
        "drive.mount('/content/drive')"
      ],
      "metadata": {
        "colab": {
          "base_uri": "https://localhost:8080/"
        },
        "id": "j9-R3h9_QgIS",
        "outputId": "bb76886b-4c17-4a7a-94b5-25510a4ea6b9"
      },
      "execution_count": 3,
      "outputs": [
        {
          "output_type": "stream",
          "name": "stdout",
          "text": [
            "Mounted at /content/drive\n"
          ]
        }
      ]
    },
    {
      "cell_type": "code",
      "source": [
        "cd '/content/drive/MyDrive/DSL/23-1 정규세션/[0209] Clustering'"
      ],
      "metadata": {
        "colab": {
          "base_uri": "https://localhost:8080/"
        },
        "id": "cB8bQvSI47n6",
        "outputId": "95320ec1-07df-4b65-e2e6-60fb76307972"
      },
      "execution_count": 5,
      "outputs": [
        {
          "output_type": "stream",
          "name": "stdout",
          "text": [
            "/content/drive/MyDrive/DSL/23-1 정규세션/[0209] Clustering\n"
          ]
        }
      ]
    },
    {
      "cell_type": "code",
      "source": [
        "## 'Marketing_campaign' 데이터의 위치를 불러와 저장합니다.\n",
        "\n",
        "data = pd.read_csv('./marketing_campaign.csv', \\\n",
        "                   sep = ';')\n",
        "data.head()"
      ],
      "metadata": {
        "colab": {
          "base_uri": "https://localhost:8080/",
          "height": 300
        },
        "id": "aavBGusyFTc0",
        "outputId": "1ca824f7-0957-4cc0-c03c-e0ea38990945"
      },
      "execution_count": 6,
      "outputs": [
        {
          "output_type": "execute_result",
          "data": {
            "text/plain": [
              "     ID  Year_Birth   Education Marital_Status   Income  Kidhome  Teenhome  \\\n",
              "0  5524        1957  Graduation         Single  58138.0        0         0   \n",
              "1  2174        1954  Graduation         Single  46344.0        1         1   \n",
              "2  4141        1965  Graduation       Together  71613.0        0         0   \n",
              "3  6182        1984  Graduation       Together  26646.0        1         0   \n",
              "4  5324        1981         PhD        Married  58293.0        1         0   \n",
              "\n",
              "  Dt_Customer  Recency  MntWines  ...  NumWebVisitsMonth  AcceptedCmp3  \\\n",
              "0  2012-09-04       58       635  ...                  7             0   \n",
              "1  2014-03-08       38        11  ...                  5             0   \n",
              "2  2013-08-21       26       426  ...                  4             0   \n",
              "3  2014-02-10       26        11  ...                  6             0   \n",
              "4  2014-01-19       94       173  ...                  5             0   \n",
              "\n",
              "   AcceptedCmp4  AcceptedCmp5  AcceptedCmp1  AcceptedCmp2  Complain  \\\n",
              "0             0             0             0             0         0   \n",
              "1             0             0             0             0         0   \n",
              "2             0             0             0             0         0   \n",
              "3             0             0             0             0         0   \n",
              "4             0             0             0             0         0   \n",
              "\n",
              "   Z_CostContact  Z_Revenue  Response  \n",
              "0              3         11         1  \n",
              "1              3         11         0  \n",
              "2              3         11         0  \n",
              "3              3         11         0  \n",
              "4              3         11         0  \n",
              "\n",
              "[5 rows x 29 columns]"
            ],
            "text/html": [
              "\n",
              "  <div id=\"df-3f58105b-d84d-4eb7-862a-416ea056b5e2\">\n",
              "    <div class=\"colab-df-container\">\n",
              "      <div>\n",
              "<style scoped>\n",
              "    .dataframe tbody tr th:only-of-type {\n",
              "        vertical-align: middle;\n",
              "    }\n",
              "\n",
              "    .dataframe tbody tr th {\n",
              "        vertical-align: top;\n",
              "    }\n",
              "\n",
              "    .dataframe thead th {\n",
              "        text-align: right;\n",
              "    }\n",
              "</style>\n",
              "<table border=\"1\" class=\"dataframe\">\n",
              "  <thead>\n",
              "    <tr style=\"text-align: right;\">\n",
              "      <th></th>\n",
              "      <th>ID</th>\n",
              "      <th>Year_Birth</th>\n",
              "      <th>Education</th>\n",
              "      <th>Marital_Status</th>\n",
              "      <th>Income</th>\n",
              "      <th>Kidhome</th>\n",
              "      <th>Teenhome</th>\n",
              "      <th>Dt_Customer</th>\n",
              "      <th>Recency</th>\n",
              "      <th>MntWines</th>\n",
              "      <th>...</th>\n",
              "      <th>NumWebVisitsMonth</th>\n",
              "      <th>AcceptedCmp3</th>\n",
              "      <th>AcceptedCmp4</th>\n",
              "      <th>AcceptedCmp5</th>\n",
              "      <th>AcceptedCmp1</th>\n",
              "      <th>AcceptedCmp2</th>\n",
              "      <th>Complain</th>\n",
              "      <th>Z_CostContact</th>\n",
              "      <th>Z_Revenue</th>\n",
              "      <th>Response</th>\n",
              "    </tr>\n",
              "  </thead>\n",
              "  <tbody>\n",
              "    <tr>\n",
              "      <th>0</th>\n",
              "      <td>5524</td>\n",
              "      <td>1957</td>\n",
              "      <td>Graduation</td>\n",
              "      <td>Single</td>\n",
              "      <td>58138.0</td>\n",
              "      <td>0</td>\n",
              "      <td>0</td>\n",
              "      <td>2012-09-04</td>\n",
              "      <td>58</td>\n",
              "      <td>635</td>\n",
              "      <td>...</td>\n",
              "      <td>7</td>\n",
              "      <td>0</td>\n",
              "      <td>0</td>\n",
              "      <td>0</td>\n",
              "      <td>0</td>\n",
              "      <td>0</td>\n",
              "      <td>0</td>\n",
              "      <td>3</td>\n",
              "      <td>11</td>\n",
              "      <td>1</td>\n",
              "    </tr>\n",
              "    <tr>\n",
              "      <th>1</th>\n",
              "      <td>2174</td>\n",
              "      <td>1954</td>\n",
              "      <td>Graduation</td>\n",
              "      <td>Single</td>\n",
              "      <td>46344.0</td>\n",
              "      <td>1</td>\n",
              "      <td>1</td>\n",
              "      <td>2014-03-08</td>\n",
              "      <td>38</td>\n",
              "      <td>11</td>\n",
              "      <td>...</td>\n",
              "      <td>5</td>\n",
              "      <td>0</td>\n",
              "      <td>0</td>\n",
              "      <td>0</td>\n",
              "      <td>0</td>\n",
              "      <td>0</td>\n",
              "      <td>0</td>\n",
              "      <td>3</td>\n",
              "      <td>11</td>\n",
              "      <td>0</td>\n",
              "    </tr>\n",
              "    <tr>\n",
              "      <th>2</th>\n",
              "      <td>4141</td>\n",
              "      <td>1965</td>\n",
              "      <td>Graduation</td>\n",
              "      <td>Together</td>\n",
              "      <td>71613.0</td>\n",
              "      <td>0</td>\n",
              "      <td>0</td>\n",
              "      <td>2013-08-21</td>\n",
              "      <td>26</td>\n",
              "      <td>426</td>\n",
              "      <td>...</td>\n",
              "      <td>4</td>\n",
              "      <td>0</td>\n",
              "      <td>0</td>\n",
              "      <td>0</td>\n",
              "      <td>0</td>\n",
              "      <td>0</td>\n",
              "      <td>0</td>\n",
              "      <td>3</td>\n",
              "      <td>11</td>\n",
              "      <td>0</td>\n",
              "    </tr>\n",
              "    <tr>\n",
              "      <th>3</th>\n",
              "      <td>6182</td>\n",
              "      <td>1984</td>\n",
              "      <td>Graduation</td>\n",
              "      <td>Together</td>\n",
              "      <td>26646.0</td>\n",
              "      <td>1</td>\n",
              "      <td>0</td>\n",
              "      <td>2014-02-10</td>\n",
              "      <td>26</td>\n",
              "      <td>11</td>\n",
              "      <td>...</td>\n",
              "      <td>6</td>\n",
              "      <td>0</td>\n",
              "      <td>0</td>\n",
              "      <td>0</td>\n",
              "      <td>0</td>\n",
              "      <td>0</td>\n",
              "      <td>0</td>\n",
              "      <td>3</td>\n",
              "      <td>11</td>\n",
              "      <td>0</td>\n",
              "    </tr>\n",
              "    <tr>\n",
              "      <th>4</th>\n",
              "      <td>5324</td>\n",
              "      <td>1981</td>\n",
              "      <td>PhD</td>\n",
              "      <td>Married</td>\n",
              "      <td>58293.0</td>\n",
              "      <td>1</td>\n",
              "      <td>0</td>\n",
              "      <td>2014-01-19</td>\n",
              "      <td>94</td>\n",
              "      <td>173</td>\n",
              "      <td>...</td>\n",
              "      <td>5</td>\n",
              "      <td>0</td>\n",
              "      <td>0</td>\n",
              "      <td>0</td>\n",
              "      <td>0</td>\n",
              "      <td>0</td>\n",
              "      <td>0</td>\n",
              "      <td>3</td>\n",
              "      <td>11</td>\n",
              "      <td>0</td>\n",
              "    </tr>\n",
              "  </tbody>\n",
              "</table>\n",
              "<p>5 rows × 29 columns</p>\n",
              "</div>\n",
              "      <button class=\"colab-df-convert\" onclick=\"convertToInteractive('df-3f58105b-d84d-4eb7-862a-416ea056b5e2')\"\n",
              "              title=\"Convert this dataframe to an interactive table.\"\n",
              "              style=\"display:none;\">\n",
              "        \n",
              "  <svg xmlns=\"http://www.w3.org/2000/svg\" height=\"24px\"viewBox=\"0 0 24 24\"\n",
              "       width=\"24px\">\n",
              "    <path d=\"M0 0h24v24H0V0z\" fill=\"none\"/>\n",
              "    <path d=\"M18.56 5.44l.94 2.06.94-2.06 2.06-.94-2.06-.94-.94-2.06-.94 2.06-2.06.94zm-11 1L8.5 8.5l.94-2.06 2.06-.94-2.06-.94L8.5 2.5l-.94 2.06-2.06.94zm10 10l.94 2.06.94-2.06 2.06-.94-2.06-.94-.94-2.06-.94 2.06-2.06.94z\"/><path d=\"M17.41 7.96l-1.37-1.37c-.4-.4-.92-.59-1.43-.59-.52 0-1.04.2-1.43.59L10.3 9.45l-7.72 7.72c-.78.78-.78 2.05 0 2.83L4 21.41c.39.39.9.59 1.41.59.51 0 1.02-.2 1.41-.59l7.78-7.78 2.81-2.81c.8-.78.8-2.07 0-2.86zM5.41 20L4 18.59l7.72-7.72 1.47 1.35L5.41 20z\"/>\n",
              "  </svg>\n",
              "      </button>\n",
              "      \n",
              "  <style>\n",
              "    .colab-df-container {\n",
              "      display:flex;\n",
              "      flex-wrap:wrap;\n",
              "      gap: 12px;\n",
              "    }\n",
              "\n",
              "    .colab-df-convert {\n",
              "      background-color: #E8F0FE;\n",
              "      border: none;\n",
              "      border-radius: 50%;\n",
              "      cursor: pointer;\n",
              "      display: none;\n",
              "      fill: #1967D2;\n",
              "      height: 32px;\n",
              "      padding: 0 0 0 0;\n",
              "      width: 32px;\n",
              "    }\n",
              "\n",
              "    .colab-df-convert:hover {\n",
              "      background-color: #E2EBFA;\n",
              "      box-shadow: 0px 1px 2px rgba(60, 64, 67, 0.3), 0px 1px 3px 1px rgba(60, 64, 67, 0.15);\n",
              "      fill: #174EA6;\n",
              "    }\n",
              "\n",
              "    [theme=dark] .colab-df-convert {\n",
              "      background-color: #3B4455;\n",
              "      fill: #D2E3FC;\n",
              "    }\n",
              "\n",
              "    [theme=dark] .colab-df-convert:hover {\n",
              "      background-color: #434B5C;\n",
              "      box-shadow: 0px 1px 3px 1px rgba(0, 0, 0, 0.15);\n",
              "      filter: drop-shadow(0px 1px 2px rgba(0, 0, 0, 0.3));\n",
              "      fill: #FFFFFF;\n",
              "    }\n",
              "  </style>\n",
              "\n",
              "      <script>\n",
              "        const buttonEl =\n",
              "          document.querySelector('#df-3f58105b-d84d-4eb7-862a-416ea056b5e2 button.colab-df-convert');\n",
              "        buttonEl.style.display =\n",
              "          google.colab.kernel.accessAllowed ? 'block' : 'none';\n",
              "\n",
              "        async function convertToInteractive(key) {\n",
              "          const element = document.querySelector('#df-3f58105b-d84d-4eb7-862a-416ea056b5e2');\n",
              "          const dataTable =\n",
              "            await google.colab.kernel.invokeFunction('convertToInteractive',\n",
              "                                                     [key], {});\n",
              "          if (!dataTable) return;\n",
              "\n",
              "          const docLinkHtml = 'Like what you see? Visit the ' +\n",
              "            '<a target=\"_blank\" href=https://colab.research.google.com/notebooks/data_table.ipynb>data table notebook</a>'\n",
              "            + ' to learn more about interactive tables.';\n",
              "          element.innerHTML = '';\n",
              "          dataTable['output_type'] = 'display_data';\n",
              "          await google.colab.output.renderOutput(dataTable, element);\n",
              "          const docLink = document.createElement('div');\n",
              "          docLink.innerHTML = docLinkHtml;\n",
              "          element.appendChild(docLink);\n",
              "        }\n",
              "      </script>\n",
              "    </div>\n",
              "  </div>\n",
              "  "
            ]
          },
          "metadata": {},
          "execution_count": 6
        }
      ]
    },
    {
      "cell_type": "code",
      "source": [
        "data.columns"
      ],
      "metadata": {
        "colab": {
          "base_uri": "https://localhost:8080/"
        },
        "id": "PbfisKJoBKcS",
        "outputId": "6216411e-d943-4e3b-f59e-5bf1be16f63d"
      },
      "execution_count": 7,
      "outputs": [
        {
          "output_type": "execute_result",
          "data": {
            "text/plain": [
              "Index(['ID', 'Year_Birth', 'Education', 'Marital_Status', 'Income', 'Kidhome',\n",
              "       'Teenhome', 'Dt_Customer', 'Recency', 'MntWines', 'MntFruits',\n",
              "       'MntMeatProducts', 'MntFishProducts', 'MntSweetProducts',\n",
              "       'MntGoldProds', 'NumDealsPurchases', 'NumWebPurchases',\n",
              "       'NumCatalogPurchases', 'NumStorePurchases', 'NumWebVisitsMonth',\n",
              "       'AcceptedCmp3', 'AcceptedCmp4', 'AcceptedCmp5', 'AcceptedCmp1',\n",
              "       'AcceptedCmp2', 'Complain', 'Z_CostContact', 'Z_Revenue', 'Response'],\n",
              "      dtype='object')"
            ]
          },
          "metadata": {},
          "execution_count": 7
        }
      ]
    },
    {
      "cell_type": "markdown",
      "source": [
        "### 데이터 전처리"
      ],
      "metadata": {
        "id": "N9QSTEvPRK-t"
      }
    },
    {
      "cell_type": "code",
      "source": [
        "## 등록한 이후에 현재까지의 기간(회원 일수)를 'days'라는 변수로 저장.\n",
        "from datetime import datetime\n",
        "\n",
        "y = datetime.today() #datetime 타입으로 변환\n",
        "\n",
        "data.Dt_Customer = pd.to_datetime(data.Dt_Customer, format='%Y-%m-%d') #datetime 타입으로 변환\n",
        "data['days'] = y - data.Dt_Customer\n",
        "data['days'] = data['days'] / np.timedelta64(1, 'D')\n",
        "data['days'] = data['days'].astype('int')\n",
        "data['days'][:5]"
      ],
      "metadata": {
        "colab": {
          "base_uri": "https://localhost:8080/"
        },
        "id": "NtJGXGU6BQOE",
        "outputId": "82818da4-0ed6-43f1-ef93-5efaebf769f1"
      },
      "execution_count": 8,
      "outputs": [
        {
          "output_type": "execute_result",
          "data": {
            "text/plain": [
              "0    3814\n",
              "1    3264\n",
              "2    3463\n",
              "3    3290\n",
              "4    3312\n",
              "Name: days, dtype: int64"
            ]
          },
          "metadata": {},
          "execution_count": 8
        }
      ]
    },
    {
      "cell_type": "code",
      "source": [
        "## 나이를 age에 저장\n",
        "data['age'] = 2024-data['Year_Birth']"
      ],
      "metadata": {
        "id": "uNjip3heP_8V"
      },
      "execution_count": 9,
      "outputs": []
    },
    {
      "cell_type": "code",
      "source": [
        "## 마케팅 캠페인에서의 총 참여 횟수\n",
        "data['CampaignAttendance'] = data.iloc[:,20:25].sum(axis=1)\n",
        "\n",
        "## 이 데이터랑 군집화 결과가 얼마나 유사하게, 또는 다르게 나오는지 비교해봅시다~!!"
      ],
      "metadata": {
        "id": "mFGUXheeRyRr"
      },
      "execution_count": 10,
      "outputs": []
    },
    {
      "cell_type": "code",
      "source": [
        "data.columns\n",
        "\n",
        "features = ['days', 'age', 'Income', 'Recency', 'MntWines', 'MntFruits',\\\n",
        "                     'MntMeatProducts', 'MntFishProducts', 'MntSweetProducts',\\\n",
        "                     'MntGoldProds', 'NumDealsPurchases','NumWebPurchases', \\\n",
        "                     'NumCatalogPurchases', 'NumStorePurchases', 'NumWebVisitsMonth',\\\n",
        "                    'AcceptedCmp3', 'AcceptedCmp4', 'AcceptedCmp5', 'AcceptedCmp1',\\\n",
        "                    'AcceptedCmp2', 'Complain', 'Z_CostContact', 'Z_Revenue', 'Response','CampaignAttendance'] #우리가 고려할 변수들"
      ],
      "metadata": {
        "id": "GTOPK6rWTUj4"
      },
      "execution_count": 11,
      "outputs": []
    },
    {
      "cell_type": "code",
      "source": [
        "X_features = data[features]\n",
        "X_features = X_features.dropna().reset_index(drop = True) #결측치 제거\n",
        "\n",
        "y_label = X_features['CampaignAttendance'] #캠페인에서의 총 참여 횟수를 임의의 라벨값으로 설정 -> 기준으로 삼아보자.\n",
        "\n",
        "X_features = X_features.drop(['CampaignAttendance'], axis = 1)"
      ],
      "metadata": {
        "id": "EjWWJ0NDT_EN"
      },
      "execution_count": 12,
      "outputs": []
    },
    {
      "cell_type": "code",
      "source": [
        "## 각 변수들을 '표준화' scaling 합니다.\n",
        "from sklearn.preprocessing import StandardScaler\n",
        "scaler = StandardScaler()\n",
        "X_features_scaling  = scaler.fit_transform(X_features)\n",
        "\n",
        "X_features_scaling = pd.DataFrame(X_features_scaling, columns = X_features.columns, index = list(X_features.index.values))"
      ],
      "metadata": {
        "id": "F5ZEd_GfLFdx"
      },
      "execution_count": 13,
      "outputs": []
    },
    {
      "cell_type": "markdown",
      "source": [
        "###차원 축소"
      ],
      "metadata": {
        "id": "hSweBGWmgDTy"
      }
    },
    {
      "cell_type": "markdown",
      "source": [
        "데이터를 차원 축소 해봅시다."
      ],
      "metadata": {
        "id": "GqDgcjqM2mrQ"
      }
    },
    {
      "cell_type": "code",
      "source": [
        "from sklearn.discriminant_analysis import LinearDiscriminantAnalysis\n",
        "\n",
        "## LDA\n",
        "lda = LinearDiscriminantAnalysis(n_components = 2)\n",
        "X_train_lda = lda.fit_transform(X_features_scaling, y_label) #차원축소 과정에 y 라벨값을 입력해줌"
      ],
      "metadata": {
        "id": "Fu0ayAvrYeC1"
      },
      "execution_count": 14,
      "outputs": []
    },
    {
      "cell_type": "code",
      "source": [
        "X_train_lda = pd.DataFrame(X_train_lda).loc[:,0:1]\n",
        "X_train_lda = pd.concat((X_train_lda, y_label), axis = 1) #X_train_Ida와 y_label 데이터를 하나로 합치기\n",
        "X_train_lda.columns = ['lda_1', 'lda_2', 'label']\n",
        "X_train_lda\n",
        "\n",
        "sns.lmplot(x = 'lda_1',y = 'lda_2',data = X_train_lda, hue = 'label', fit_reg = False)\n",
        "plt.show()\n",
        "\n",
        "## 우리가 원하는 정답 모양\n",
        "## 캠페인 참여에서의 총 참여 횟수를 라벨값으로 둔 상태에서의 데이터 분포도"
      ],
      "metadata": {
        "id": "eS_siPJ1YoXr",
        "colab": {
          "base_uri": "https://localhost:8080/",
          "height": 369
        },
        "outputId": "4ac3f2d2-9433-4ba3-c27d-17a41d58768d"
      },
      "execution_count": 15,
      "outputs": [
        {
          "output_type": "display_data",
          "data": {
            "text/plain": [
              "<Figure size 402.375x360 with 1 Axes>"
            ],
            "image/png": "[encoded data removed]"
          },
          "metadata": {
            "needs_background": "light"
          }
        }
      ]
    },
    {
      "cell_type": "markdown",
      "source": [
        "###K-means Clustering"
      ],
      "metadata": {
        "id": "mlmCquwTgNBF"
      }
    },
    {
      "cell_type": "markdown",
      "source": [
        "클러스터링을 돌려 보는 데에 의의가 있기에, 파라미터 값 최적화보다는 각 알고리즘을 사용하면 결과가 어떻게 달라지는 지에 초점을 맞추어 살펴봅니다. 여러 번 시행해보면서 **자유롭게 파라미터를 정해주세요**."
      ],
      "metadata": {
        "id": "lY9vjJLvmtSv"
      }
    },
    {
      "cell_type": "markdown",
      "source": [
        "**(직접 최적의 파라미터 값을 찾아서 설정하고 싶으시다면 훨씬 좋습니다! 해당 과제의 모든 코드는 기본 뼈대일 뿐입니다. 코드를 추가 또는 변경하셔도 좋습니다.)**"
      ],
      "metadata": {
        "id": "UWBpYVvn6Y9-"
      }
    },
    {
      "cell_type": "markdown",
      "source": [
        "다른 x값들에 대해서도 캠페인 참여도, 즉 고객의 충실도를 잘 군집화할 수 있을까요? 클러스터링으로 결과를 확인해봅시다."
      ],
      "metadata": {
        "id": "0NFbMzot24go"
      }
    },
    {
      "cell_type": "markdown",
      "source": [
        "\n",
        "\n",
        "---\n",
        "\n",
        "\n",
        "\n"
      ],
      "metadata": {
        "id": "M6Bnqr3WgOH_"
      }
    },
    {
      "cell_type": "markdown",
      "source": [
        "K-means를 이용하여 클러스터링 해봅시다."
      ],
      "metadata": {
        "id": "TfuCCGgioEbh"
      }
    },
    {
      "cell_type": "code",
      "source": [
        "## 필요한 라이브러리를 임포트합니다.\n",
        "\n",
        "from sklearn.cluster import KMeans"
      ],
      "metadata": {
        "id": "T5c5byPLnB5e"
      },
      "execution_count": 16,
      "outputs": []
    },
    {
      "cell_type": "code",
      "source": [
        "## 클러스터 수는 ########(숫자)########로 설정하고, KMeans를 활용하여 예측된 y값을 만들어 봅시다.\n",
        "\n",
        "km = KMeans(n_clusters = 6)\n",
        "\n",
        "y_km = km.fit_predict(X_features_scaling)\n",
        "y_km"
      ],
      "metadata": {
        "id": "e66J9Orqaxdz",
        "colab": {
          "base_uri": "https://localhost:8080/"
        },
        "outputId": "f1f1006a-5ba9-46f6-e4c6-c88ac3bedb88"
      },
      "execution_count": 84,
      "outputs": [
        {
          "output_type": "execute_result",
          "data": {
            "text/plain": [
              "array([0, 1, 2, ..., 4, 2, 1], dtype=int32)"
            ]
          },
          "metadata": {},
          "execution_count": 84
        }
      ]
    },
    {
      "cell_type": "code",
      "source": [
        "X_train_lda['K_means'] = y_km"
      ],
      "metadata": {
        "id": "Xalob8AybpqS"
      },
      "execution_count": 85,
      "outputs": []
    },
    {
      "cell_type": "markdown",
      "source": [
        "####시각화"
      ],
      "metadata": {
        "id": "IpNZtoEJns4f"
      }
    },
    {
      "cell_type": "code",
      "source": [
        "sns.lmplot(x = 'lda_1', y = 'lda_2', data = X_train_lda, hue = 'K_means', fit_reg = False)\n",
        "plt.title('K-means Clustering Result')\n",
        "plt.show()"
      ],
      "metadata": {
        "id": "gMDG4QTFbkjJ",
        "colab": {
          "base_uri": "https://localhost:8080/",
          "height": 385
        },
        "outputId": "4a771178-f6eb-4edc-c89a-f53149307813"
      },
      "execution_count": 86,
      "outputs": [
        {
          "output_type": "display_data",
          "data": {
            "text/plain": [
              "<Figure size 413x360 with 1 Axes>"
            ],
            "image/png": "[encoded data removed]"
          },
          "metadata": {
            "needs_background": "light"
          }
        }
      ]
    },
    {
      "cell_type": "markdown",
      "source": [
        "###Hierarchical Clustering"
      ],
      "metadata": {
        "id": "D2pTwOUfn62c"
      }
    },
    {
      "cell_type": "markdown",
      "source": [
        "Agglomerative 방법을 이용하여 클러스터링 해봅시다."
      ],
      "metadata": {
        "id": "Ezn3DNWVn-Gx"
      }
    },
    {
      "cell_type": "code",
      "source": [
        "## 필요한 라이브러리를 임포트합니다.\n",
        "\n",
        "from sklearn.cluster import AgglomerativeClustering"
      ],
      "metadata": {
        "id": "GbahvycYcTnC"
      },
      "execution_count": 32,
      "outputs": []
    },
    {
      "cell_type": "code",
      "source": [
        "## 클러스터 수는 ########(숫자)########로 설정하고, Agglomerative를 활용하여 예측된 y값을 만들어 봅시다.\n",
        "\n",
        "agghc = AgglomerativeClustering(n_clusters = 3, affinity = 'euclidean', linkage = 'ward') #와드연결법을 사용합니다.\n",
        "\n",
        "y_agghc = agghc.fit_predict(X_features_scaling)\n",
        "y_agghc"
      ],
      "metadata": {
        "colab": {
          "base_uri": "https://localhost:8080/"
        },
        "id": "Jm_odYfKoQOD",
        "outputId": "388a8c0e-e957-49b5-bb43-fd4af71c985a"
      },
      "execution_count": 36,
      "outputs": [
        {
          "output_type": "execute_result",
          "data": {
            "text/plain": [
              "array([2, 0, 2, ..., 0, 2, 0])"
            ]
          },
          "metadata": {},
          "execution_count": 36
        }
      ]
    },
    {
      "cell_type": "code",
      "source": [
        "X_train_lda['hierarchical'] = y_agghc"
      ],
      "metadata": {
        "id": "JmPjxgKJodsz"
      },
      "execution_count": 37,
      "outputs": []
    },
    {
      "cell_type": "markdown",
      "source": [
        "####시각화"
      ],
      "metadata": {
        "id": "wtjDpfrN3ZE1"
      }
    },
    {
      "cell_type": "code",
      "source": [
        "sns.lmplot(x = 'lda_1', y = 'lda_2', data = X_train_lda, hue = 'hierarchical', fit_reg = False)\n",
        "plt.title('Hierarchical Clustering Result')\n",
        "plt.show()"
      ],
      "metadata": {
        "id": "Kc_5HVs9cna3",
        "colab": {
          "base_uri": "https://localhost:8080/",
          "height": 385
        },
        "outputId": "ce4b5527-eebc-4dd0-d641-a4a879723590"
      },
      "execution_count": 38,
      "outputs": [
        {
          "output_type": "display_data",
          "data": {
            "text/plain": [
              "<Figure size 426.75x360 with 1 Axes>"
            ],
            "image/png": "[encoded data removed]"
          },
          "metadata": {
            "needs_background": "light"
          }
        }
      ]
    },
    {
      "cell_type": "markdown",
      "source": [
        "###DBSCAN"
      ],
      "metadata": {
        "id": "ZZ4kBn15o0Ln"
      }
    },
    {
      "cell_type": "markdown",
      "source": [
        "DBSCAN을 이용하여 클러스터링 해봅시다."
      ],
      "metadata": {
        "id": "XqccBOmdo2NX"
      }
    },
    {
      "cell_type": "code",
      "source": [
        "## 필요한 라이브러리를 임포트합니다.\n",
        "\n",
        "from sklearn.cluster import DBSCAN"
      ],
      "metadata": {
        "id": "RHb-CAXDcrBh"
      },
      "execution_count": 39,
      "outputs": []
    },
    {
      "cell_type": "code",
      "source": [
        "## eps는 ########(숫자)########, minPts는 ########(숫자)########로 설정한 뒤 DBSCAN를 활용하여 예측된 y값을 만들어 봅시다.\n",
        "\n",
        "dbscan = DBSCAN(eps = 0.6, min_samples = 3, metric = 'euclidean') #eps는 0-1\n",
        "\n",
        "y_dbscan = dbscan.fit_predict(X_features_scaling)\n",
        "y_dbscan"
      ],
      "metadata": {
        "id": "b9tu38-Fo98h",
        "colab": {
          "base_uri": "https://localhost:8080/"
        },
        "outputId": "301d04f3-02dd-4832-daea-f7551d85e45a"
      },
      "execution_count": 77,
      "outputs": [
        {
          "output_type": "execute_result",
          "data": {
            "text/plain": [
              "array([-1, -1, -1, ..., -1, -1, -1])"
            ]
          },
          "metadata": {},
          "execution_count": 77
        }
      ]
    },
    {
      "cell_type": "code",
      "source": [
        "X_train_lda['dbscan'] = y_dbscan"
      ],
      "metadata": {
        "id": "1xVqMxMtqK_r"
      },
      "execution_count": 78,
      "outputs": []
    },
    {
      "cell_type": "markdown",
      "source": [
        "####시각화"
      ],
      "metadata": {
        "id": "3Rf8Hy_n3aEu"
      }
    },
    {
      "cell_type": "code",
      "source": [
        "sns.lmplot(x = 'lda_1', y = 'lda_2', data = X_train_lda, hue = 'dbscan', fit_reg = False)\n",
        "plt.show()"
      ],
      "metadata": {
        "id": "z7xQlZz-dL9K",
        "colab": {
          "base_uri": "https://localhost:8080/",
          "height": 394
        },
        "outputId": "931c4c22-1ade-4e6f-f60f-5a096ff1f2de"
      },
      "execution_count": 79,
      "outputs": [
        {
          "output_type": "display_data",
          "data": {
            "text/plain": [
              "<Figure size 408.75x360 with 1 Axes>"
            ],
            "image/png": "[encoded data removed]"
          },
          "metadata": {
            "needs_background": "light"
          }
        }
      ]
    },
    {
      "cell_type": "markdown",
      "source": [
        "###Validation"
      ],
      "metadata": {
        "id": "HJpetyIbiEoy"
      }
    },
    {
      "cell_type": "markdown",
      "source": [
        "실루엣 계수를 사용하여 각 클러스터링의 성능을 평가해봅시다."
      ],
      "metadata": {
        "id": "CNaob-PWiI9e"
      }
    },
    {
      "cell_type": "markdown",
      "source": [
        "\n",
        "\n",
        "---\n",
        "\n"
      ],
      "metadata": {
        "id": "n8o06Vu4irOF"
      }
    },
    {
      "cell_type": "markdown",
      "source": [
        "(Q) 실루엣 계수로 평가하기 전에, 육안 상으로 어떠한 알고리즘의 성능이 제일 높아 보이며 어떠한 알고리즘의 성능이 제일 낮아 보이는지 의견을 적어주세요."
      ],
      "metadata": {
        "id": "r9KRTq-biRY3"
      }
    },
    {
      "cell_type": "markdown",
      "source": [
        "육안 상으로는 Agglomerative 클러스터링 알고리즘의 성능이 제일 높아보이는 반면에 DBSCAN의 성능이 가장 낮아보인다."
      ],
      "metadata": {
        "id": "Rv3V8sfuihsF"
      }
    },
    {
      "cell_type": "markdown",
      "source": [
        "\n",
        "\n",
        "---\n",
        "\n"
      ],
      "metadata": {
        "id": "R_QgoTfIisvg"
      }
    },
    {
      "cell_type": "markdown",
      "source": [
        "이제 실루엣 계수로 성능을 평가해 봅시다!"
      ],
      "metadata": {
        "id": "Jv4WfZO4iuVF"
      }
    },
    {
      "cell_type": "code",
      "source": [
        "## 필요한 라이브러리를 임포트합니다.\n",
        "\n",
        "import sklearn.metrics as metrics\n",
        "from sklearn.metrics.cluster import silhouette_score"
      ],
      "metadata": {
        "id": "fULi7pCudtHs"
      },
      "execution_count": 70,
      "outputs": []
    },
    {
      "cell_type": "markdown",
      "source": [
        "K-means Clustering의 실루엣 계수입니다."
      ],
      "metadata": {
        "id": "5bAQ6CyW6Uth"
      }
    },
    {
      "cell_type": "code",
      "source": [
        "coef_km = metrics.silhouette_score(X_features_scaling, y_km)\n",
        "print('Silhouette score is {}.'.format(coef_km))"
      ],
      "metadata": {
        "colab": {
          "base_uri": "https://localhost:8080/"
        },
        "id": "KDKJhjx6ojLj",
        "outputId": "ea3b9855-9de3-4c0c-f176-6443ce6c4e9b"
      },
      "execution_count": 87,
      "outputs": [
        {
          "output_type": "stream",
          "name": "stdout",
          "text": [
            "Silhouette score is 0.1986658433467094.\n"
          ]
        }
      ]
    },
    {
      "cell_type": "markdown",
      "source": [
        "Hierarchical Clustering의 실루엣 계수입니다."
      ],
      "metadata": {
        "id": "WdNkPAm76eq9"
      }
    },
    {
      "cell_type": "code",
      "source": [
        "## Hierarchical Clustering\n",
        "\n",
        "coef_hc = metrics.silhouette_score(X_features_scaling, y_agghc)\n",
        "print('Silhouette score is {}.'.format(coef_hc))"
      ],
      "metadata": {
        "colab": {
          "base_uri": "https://localhost:8080/"
        },
        "id": "x1jUkQM_pbMk",
        "outputId": "4e09f4cf-17cd-475a-9240-5fad085cccca"
      },
      "execution_count": 72,
      "outputs": [
        {
          "output_type": "stream",
          "name": "stdout",
          "text": [
            "Silhouette score is 0.21288254462011363.\n"
          ]
        }
      ]
    },
    {
      "cell_type": "markdown",
      "source": [
        "DBSCAN의 실루엣 계수입니다."
      ],
      "metadata": {
        "id": "4m7AX0LL6iV-"
      }
    },
    {
      "cell_type": "code",
      "source": [
        "## DBSCAN\n",
        "\n",
        "coef_db = metrics.silhouette_score(X_features_scaling, y_dbscan)\n",
        "print('Silhouette score is {}.'.format(coef_db))"
      ],
      "metadata": {
        "colab": {
          "base_uri": "https://localhost:8080/"
        },
        "id": "vppodq1EqLbA",
        "outputId": "e2bccdf0-9975-453d-b931-b7cc63c01ccc"
      },
      "execution_count": 73,
      "outputs": [
        {
          "output_type": "stream",
          "name": "stdout",
          "text": [
            "Silhouette score is -0.400665940431348.\n"
          ]
        }
      ]
    },
    {
      "cell_type": "markdown",
      "source": [
        "(Q) 실루엣 계수를 기반으로, 클러스터링 알고리즘의 성능을 높은 순대로 적어주세요."
      ],
      "metadata": {
        "id": "4Aef3wru4ycD"
      }
    },
    {
      "cell_type": "markdown",
      "source": [
        "Hierarchical 클러스터링 -> K-means 클러스터링 -> DBSCAN 순으로 성능이 높다."
      ],
      "metadata": {
        "id": "-95mdNXC4coe"
      }
    },
    {
      "cell_type": "markdown",
      "source": [
        "(Q) 클러스터링 결과에 대한 해석을 적어주세요. (참고로, 실루엣 계수는 -1에서 1 사이의 값을 가집니다.)"
      ],
      "metadata": {
        "id": "TrYTuEi34lG7"
      }
    },
    {
      "cell_type": "markdown",
      "source": [
        "주어진 데이터에서 DBSCAN 기반의 클러스터링은 부적절한 것 같다. Hierarchical 클러스터링의 결과가 가장 좋았지만 K-means와 비교해보았을 때 월등히 나은 것은 아니다."
      ],
      "metadata": {
        "id": "m_FVZolR8hG6"
      }
    },
    {
      "cell_type": "markdown",
      "source": [
        "(Q) 마케팅 캠페인과 관련하여 도출할 수 있는 인사이트를 적어주세요."
      ],
      "metadata": {
        "id": "9m2Rvla1fgj1"
      }
    },
    {
      "cell_type": "markdown",
      "source": [
        "소비자를 3개의 군집으로 나누어서 각 군집을 타겟할 수 있는 구체적인 마케팅 방안을 이용하면 좋을 것 같다."
      ],
      "metadata": {
        "id": "a4B84sjvflRg"
      }
    }
  ]
}