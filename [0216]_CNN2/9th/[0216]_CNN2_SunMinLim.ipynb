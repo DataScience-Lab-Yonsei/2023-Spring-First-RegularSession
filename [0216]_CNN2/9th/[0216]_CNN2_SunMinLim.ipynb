{
  "nbformat": 4,
  "nbformat_minor": 0,
  "metadata": {
    "colab": {
      "provenance": [],
      "collapsed_sections": [
        "cdNvme8aKSBP",
        "wD3z029XPFK0",
        "a4HzFx19PNYv",
        "hZgB4eq0Pk6c",
        "gogmHThzPrjK"
      ],
      "toc_visible": true
    },
    "kernelspec": {
      "name": "python3",
      "display_name": "Python 3"
    },
    "accelerator": "GPU",
    "gpuClass": "standard",
    "widgets": {
      "application/vnd.jupyter.widget-state+json": {
        "d7712e6e5b6b4273a172796ffce276fe": {
          "model_module": "@jupyter-widgets/controls",
          "model_name": "HBoxModel",
          "model_module_version": "1.5.0",
          "state": {
            "_dom_classes": [],
            "_model_module": "@jupyter-widgets/controls",
            "_model_module_version": "1.5.0",
            "_model_name": "HBoxModel",
            "_view_count": null,
            "_view_module": "@jupyter-widgets/controls",
            "_view_module_version": "1.5.0",
            "_view_name": "HBoxView",
            "box_style": "",
            "children": [
              "IPY_MODEL_8b732c754bde4c14915d940a32199993",
              "IPY_MODEL_81aa1e26460f4899b8cec1e60c9fcd37",
              "IPY_MODEL_5add1e40238e46acbad5323fa1ba780f"
            ],
            "layout": "IPY_MODEL_a4ef9648acd843e69ce17d58acc22ca5"
          }
        },
        "8b732c754bde4c14915d940a32199993": {
          "model_module": "@jupyter-widgets/controls",
          "model_name": "HTMLModel",
          "model_module_version": "1.5.0",
          "state": {
            "_dom_classes": [],
            "_model_module": "@jupyter-widgets/controls",
            "_model_module_version": "1.5.0",
            "_model_name": "HTMLModel",
            "_view_count": null,
            "_view_module": "@jupyter-widgets/controls",
            "_view_module_version": "1.5.0",
            "_view_name": "HTMLView",
            "description": "",
            "description_tooltip": null,
            "layout": "IPY_MODEL_2b7ff7c072774cda84f339587c3a1372",
            "placeholder": "​",
            "style": "IPY_MODEL_28aff2f965f64628b66f39e8d2656b8f",
            "value": "100%"
          }
        },
        "81aa1e26460f4899b8cec1e60c9fcd37": {
          "model_module": "@jupyter-widgets/controls",
          "model_name": "FloatProgressModel",
          "model_module_version": "1.5.0",
          "state": {
            "_dom_classes": [],
            "_model_module": "@jupyter-widgets/controls",
            "_model_module_version": "1.5.0",
            "_model_name": "FloatProgressModel",
            "_view_count": null,
            "_view_module": "@jupyter-widgets/controls",
            "_view_module_version": "1.5.0",
            "_view_name": "ProgressView",
            "bar_style": "success",
            "description": "",
            "description_tooltip": null,
            "layout": "IPY_MODEL_d90b92441c9a4cf284d70e1d6f6a5f27",
            "max": 170498071,
            "min": 0,
            "orientation": "horizontal",
            "style": "IPY_MODEL_126e17a29b6c4250b1768d828489123f",
            "value": 170498071
          }
        },
        "5add1e40238e46acbad5323fa1ba780f": {
          "model_module": "@jupyter-widgets/controls",
          "model_name": "HTMLModel",
          "model_module_version": "1.5.0",
          "state": {
            "_dom_classes": [],
            "_model_module": "@jupyter-widgets/controls",
            "_model_module_version": "1.5.0",
            "_model_name": "HTMLModel",
            "_view_count": null,
            "_view_module": "@jupyter-widgets/controls",
            "_view_module_version": "1.5.0",
            "_view_name": "HTMLView",
            "description": "",
            "description_tooltip": null,
            "layout": "IPY_MODEL_dd5717ea1dcf4b7fa509ab6681a05fd9",
            "placeholder": "​",
            "style": "IPY_MODEL_2461bfa0a9034427a032d2d0b87d4cb2",
            "value": " 170498071/170498071 [00:13&lt;00:00, 13450176.25it/s]"
          }
        },
        "a4ef9648acd843e69ce17d58acc22ca5": {
          "model_module": "@jupyter-widgets/base",
          "model_name": "LayoutModel",
          "model_module_version": "1.2.0",
          "state": {
            "_model_module": "@jupyter-widgets/base",
            "_model_module_version": "1.2.0",
            "_model_name": "LayoutModel",
            "_view_count": null,
            "_view_module": "@jupyter-widgets/base",
            "_view_module_version": "1.2.0",
            "_view_name": "LayoutView",
            "align_content": null,
            "align_items": null,
            "align_self": null,
            "border": null,
            "bottom": null,
            "display": null,
            "flex": null,
            "flex_flow": null,
            "grid_area": null,
            "grid_auto_columns": null,
            "grid_auto_flow": null,
            "grid_auto_rows": null,
            "grid_column": null,
            "grid_gap": null,
            "grid_row": null,
            "grid_template_areas": null,
            "grid_template_columns": null,
            "grid_template_rows": null,
            "height": null,
            "justify_content": null,
            "justify_items": null,
            "left": null,
            "margin": null,
            "max_height": null,
            "max_width": null,
            "min_height": null,
            "min_width": null,
            "object_fit": null,
            "object_position": null,
            "order": null,
            "overflow": null,
            "overflow_x": null,
            "overflow_y": null,
            "padding": null,
            "right": null,
            "top": null,
            "visibility": null,
            "width": null
          }
        },
        "2b7ff7c072774cda84f339587c3a1372": {
          "model_module": "@jupyter-widgets/base",
          "model_name": "LayoutModel",
          "model_module_version": "1.2.0",
          "state": {
            "_model_module": "@jupyter-widgets/base",
            "_model_module_version": "1.2.0",
            "_model_name": "LayoutModel",
            "_view_count": null,
            "_view_module": "@jupyter-widgets/base",
            "_view_module_version": "1.2.0",
            "_view_name": "LayoutView",
            "align_content": null,
            "align_items": null,
            "align_self": null,
            "border": null,
            "bottom": null,
            "display": null,
            "flex": null,
            "flex_flow": null,
            "grid_area": null,
            "grid_auto_columns": null,
            "grid_auto_flow": null,
            "grid_auto_rows": null,
            "grid_column": null,
            "grid_gap": null,
            "grid_row": null,
            "grid_template_areas": null,
            "grid_template_columns": null,
            "grid_template_rows": null,
            "height": null,
            "justify_content": null,
            "justify_items": null,
            "left": null,
            "margin": null,
            "max_height": null,
            "max_width": null,
            "min_height": null,
            "min_width": null,
            "object_fit": null,
            "object_position": null,
            "order": null,
            "overflow": null,
            "overflow_x": null,
            "overflow_y": null,
            "padding": null,
            "right": null,
            "top": null,
            "visibility": null,
            "width": null
          }
        },
        "28aff2f965f64628b66f39e8d2656b8f": {
          "model_module": "@jupyter-widgets/controls",
          "model_name": "DescriptionStyleModel",
          "model_module_version": "1.5.0",
          "state": {
            "_model_module": "@jupyter-widgets/controls",
            "_model_module_version": "1.5.0",
            "_model_name": "DescriptionStyleModel",
            "_view_count": null,
            "_view_module": "@jupyter-widgets/base",
            "_view_module_version": "1.2.0",
            "_view_name": "StyleView",
            "description_width": ""
          }
        },
        "d90b92441c9a4cf284d70e1d6f6a5f27": {
          "model_module": "@jupyter-widgets/base",
          "model_name": "LayoutModel",
          "model_module_version": "1.2.0",
          "state": {
            "_model_module": "@jupyter-widgets/base",
            "_model_module_version": "1.2.0",
            "_model_name": "LayoutModel",
            "_view_count": null,
            "_view_module": "@jupyter-widgets/base",
            "_view_module_version": "1.2.0",
            "_view_name": "LayoutView",
            "align_content": null,
            "align_items": null,
            "align_self": null,
            "border": null,
            "bottom": null,
            "display": null,
            "flex": null,
            "flex_flow": null,
            "grid_area": null,
            "grid_auto_columns": null,
            "grid_auto_flow": null,
            "grid_auto_rows": null,
            "grid_column": null,
            "grid_gap": null,
            "grid_row": null,
            "grid_template_areas": null,
            "grid_template_columns": null,
            "grid_template_rows": null,
            "height": null,
            "justify_content": null,
            "justify_items": null,
            "left": null,
            "margin": null,
            "max_height": null,
            "max_width": null,
            "min_height": null,
            "min_width": null,
            "object_fit": null,
            "object_position": null,
            "order": null,
            "overflow": null,
            "overflow_x": null,
            "overflow_y": null,
            "padding": null,
            "right": null,
            "top": null,
            "visibility": null,
            "width": null
          }
        },
        "126e17a29b6c4250b1768d828489123f": {
          "model_module": "@jupyter-widgets/controls",
          "model_name": "ProgressStyleModel",
          "model_module_version": "1.5.0",
          "state": {
            "_model_module": "@jupyter-widgets/controls",
            "_model_module_version": "1.5.0",
            "_model_name": "ProgressStyleModel",
            "_view_count": null,
            "_view_module": "@jupyter-widgets/base",
            "_view_module_version": "1.2.0",
            "_view_name": "StyleView",
            "bar_color": null,
            "description_width": ""
          }
        },
        "dd5717ea1dcf4b7fa509ab6681a05fd9": {
          "model_module": "@jupyter-widgets/base",
          "model_name": "LayoutModel",
          "model_module_version": "1.2.0",
          "state": {
            "_model_module": "@jupyter-widgets/base",
            "_model_module_version": "1.2.0",
            "_model_name": "LayoutModel",
            "_view_count": null,
            "_view_module": "@jupyter-widgets/base",
            "_view_module_version": "1.2.0",
            "_view_name": "LayoutView",
            "align_content": null,
            "align_items": null,
            "align_self": null,
            "border": null,
            "bottom": null,
            "display": null,
            "flex": null,
            "flex_flow": null,
            "grid_area": null,
            "grid_auto_columns": null,
            "grid_auto_flow": null,
            "grid_auto_rows": null,
            "grid_column": null,
            "grid_gap": null,
            "grid_row": null,
            "grid_template_areas": null,
            "grid_template_columns": null,
            "grid_template_rows": null,
            "height": null,
            "justify_content": null,
            "justify_items": null,
            "left": null,
            "margin": null,
            "max_height": null,
            "max_width": null,
            "min_height": null,
            "min_width": null,
            "object_fit": null,
            "object_position": null,
            "order": null,
            "overflow": null,
            "overflow_x": null,
            "overflow_y": null,
            "padding": null,
            "right": null,
            "top": null,
            "visibility": null,
            "width": null
          }
        },
        "2461bfa0a9034427a032d2d0b87d4cb2": {
          "model_module": "@jupyter-widgets/controls",
          "model_name": "DescriptionStyleModel",
          "model_module_version": "1.5.0",
          "state": {
            "_model_module": "@jupyter-widgets/controls",
            "_model_module_version": "1.5.0",
            "_model_name": "DescriptionStyleModel",
            "_view_count": null,
            "_view_module": "@jupyter-widgets/base",
            "_view_module_version": "1.2.0",
            "_view_name": "StyleView",
            "description_width": ""
          }
        }
      }
    }
  },
  "cells": [
    {
      "cell_type": "markdown",
      "source": [
        "# 초기 세팅"
      ],
      "metadata": {
        "id": "cdNvme8aKSBP"
      }
    },
    {
      "cell_type": "code",
      "metadata": {
        "id": "P1v9luAfHXdz"
      },
      "source": [
        "import torch\n",
        "import torch.nn as nn\n",
        "import torch.nn.functional as F\n",
        "import torch.optim as optim\n",
        "from torch.utils.data import Dataset, DataLoader\n",
        "\n",
        "import torchvision\n",
        "import torchvision.datasets as datasets\n",
        "import torchvision.transforms as transforms\n",
        "\n",
        "import numpy as np\n",
        "import matplotlib.pyplot as plt\n",
        "plt.style.use('seaborn-white')"
      ],
      "execution_count": 1,
      "outputs": []
    },
    {
      "cell_type": "code",
      "source": [
        "!pip install torchsummary\n",
        "from torchsummary import summary"
      ],
      "metadata": {
        "colab": {
          "base_uri": "https://localhost:8080/"
        },
        "id": "D39aCPyTu2Ce",
        "outputId": "568a69c1-ec70-4bd2-9cf1-d5d08e2b96b7"
      },
      "execution_count": 2,
      "outputs": [
        {
          "output_type": "stream",
          "name": "stdout",
          "text": [
            "Looking in indexes: https://pypi.org/simple, https://us-python.pkg.dev/colab-wheels/public/simple/\n",
            "Requirement already satisfied: torchsummary in /usr/local/lib/python3.8/dist-packages (1.5.1)\n"
          ]
        }
      ]
    },
    {
      "cell_type": "markdown",
      "metadata": {
        "id": "02LdHlTTSz5L"
      },
      "source": [
        "- 현재 GPU 설정"
      ]
    },
    {
      "cell_type": "code",
      "metadata": {
        "id": "Ybsjn80uSx3X",
        "colab": {
          "base_uri": "https://localhost:8080/"
        },
        "outputId": "1210da18-c241-4d98-d143-8886075b0499"
      },
      "source": [
        "# colab의 runtime-type을 GPU로 설정해서, True가 나오도록 한다.\n",
        "\n",
        "torch.cuda.is_available()"
      ],
      "execution_count": 3,
      "outputs": [
        {
          "output_type": "execute_result",
          "data": {
            "text/plain": [
              "True"
            ]
          },
          "metadata": {},
          "execution_count": 3
        }
      ]
    },
    {
      "cell_type": "code",
      "metadata": {
        "id": "HlPZI5wfDQhv",
        "colab": {
          "base_uri": "https://localhost:8080/"
        },
        "outputId": "7f70b472-f772-4ec1-e8ab-b816a4e58c6a"
      },
      "source": [
        "use_cuda = torch.cuda.is_available()\n",
        "device = torch.device(\"cuda\" if use_cuda else \"cpu\") # gpu('cuda')가 사용가능하면, gpu를 이용하도록 설정\n",
        "device"
      ],
      "execution_count": 4,
      "outputs": [
        {
          "output_type": "execute_result",
          "data": {
            "text/plain": [
              "device(type='cuda')"
            ]
          },
          "metadata": {},
          "execution_count": 4
        }
      ]
    },
    {
      "cell_type": "markdown",
      "source": [
        "# CIFAR10 분류 모델\n",
        "* R/G/B(3) 이미지 데이터 분류\n",
        "* 32x32 pixel"
      ],
      "metadata": {
        "id": "jqQF4qWUywYV"
      }
    },
    {
      "cell_type": "markdown",
      "metadata": {
        "id": "wD3z029XPFK0"
      },
      "source": [
        "## 전처리 설정"
      ]
    },
    {
      "cell_type": "code",
      "metadata": {
        "id": "4u3-pXWIPCiM"
      },
      "source": [
        "# transform 정의\n",
        "\n",
        "CIFAR_transform = transforms.Compose([transforms.ToTensor(),\n",
        "                                      transforms.Normalize((0.5, 0.5, 0.5), (0.5, 0.5, 0.5))]) # r,g,b 데이터임으로, 3개의 인자값 전달"
      ],
      "execution_count": 5,
      "outputs": []
    },
    {
      "cell_type": "markdown",
      "metadata": {
        "id": "a4HzFx19PNYv"
      },
      "source": [
        "## 데이터 로드 및 확인"
      ]
    },
    {
      "cell_type": "code",
      "metadata": {
        "id": "ctstlIt_PM9z",
        "colab": {
          "base_uri": "https://localhost:8080/",
          "height": 104,
          "referenced_widgets": [
            "d7712e6e5b6b4273a172796ffce276fe",
            "8b732c754bde4c14915d940a32199993",
            "81aa1e26460f4899b8cec1e60c9fcd37",
            "5add1e40238e46acbad5323fa1ba780f",
            "a4ef9648acd843e69ce17d58acc22ca5",
            "2b7ff7c072774cda84f339587c3a1372",
            "28aff2f965f64628b66f39e8d2656b8f",
            "d90b92441c9a4cf284d70e1d6f6a5f27",
            "126e17a29b6c4250b1768d828489123f",
            "dd5717ea1dcf4b7fa509ab6681a05fd9",
            "2461bfa0a9034427a032d2d0b87d4cb2"
          ]
        },
        "outputId": "f2333494-bfd0-4be4-d95a-5e5f9d7001a6"
      },
      "source": [
        "# datasets\n",
        "\n",
        "trainset = torchvision.datasets.CIFAR10(root='/content', \n",
        "                          train=True, download=True,\n",
        "                          transform=CIFAR_transform)\n",
        "\n",
        "testset = torchvision.datasets.CIFAR10(root='/content', \n",
        "                          train=False, download=True,\n",
        "                          transform=CIFAR_transform)"
      ],
      "execution_count": 6,
      "outputs": [
        {
          "output_type": "stream",
          "name": "stdout",
          "text": [
            "Downloading https://www.cs.toronto.edu/~kriz/cifar-10-python.tar.gz to /content/cifar-10-python.tar.gz\n"
          ]
        },
        {
          "output_type": "display_data",
          "data": {
            "text/plain": [
              "  0%|          | 0/170498071 [00:00<?, ?it/s]"
            ],
            "application/vnd.jupyter.widget-view+json": {
              "version_major": 2,
              "version_minor": 0,
              "model_id": "d7712e6e5b6b4273a172796ffce276fe"
            }
          },
          "metadata": {}
        },
        {
          "output_type": "stream",
          "name": "stdout",
          "text": [
            "Extracting /content/cifar-10-python.tar.gz to /content\n",
            "Files already downloaded and verified\n"
          ]
        }
      ]
    },
    {
      "cell_type": "code",
      "metadata": {
        "id": "wTkTcictPTyY"
      },
      "source": [
        "# DataLoader\n",
        "\n",
        "# batch-size = 4\n",
        "\n",
        "train_loader = DataLoader(trainset, batch_size=4, shuffle=True, num_workers=2)\n",
        "\n",
        "test_loader = DataLoader(testset, batch_size=4, shuffle=False, num_workers=2)"
      ],
      "execution_count": 7,
      "outputs": []
    },
    {
      "cell_type": "code",
      "source": [
        "# 숫자 label에 해당되는 값\n",
        "\n",
        "class_list = ('plane', 'car', 'bird', 'cat', 'deer',\n",
        "           'dog', 'frog', 'horse', 'ship', 'truck')"
      ],
      "metadata": {
        "id": "-lxqiKWGy-sP"
      },
      "execution_count": 8,
      "outputs": []
    },
    {
      "cell_type": "code",
      "metadata": {
        "id": "_6IsY5CrPZ5e",
        "colab": {
          "base_uri": "https://localhost:8080/",
          "height": 153
        },
        "outputId": "f1a424a8-daef-47db-8628-8d94b77ab3f1"
      },
      "source": [
        "def imshow(img):\n",
        "    img = img / 2 + 0.5\n",
        "    npimg = img.numpy()\n",
        "    plt.imshow(np.transpose(npimg, (1,2,0)))\n",
        "    plt.show()\n",
        "\n",
        "dataiter = iter(train_loader)\n",
        "images, labels = next(dataiter)\n",
        "\n",
        "imshow(torchvision.utils.make_grid(images))\n",
        "print(' '.join('{}\\t'.format(class_list[labels[j]]) for j in range(4)))"
      ],
      "execution_count": 9,
      "outputs": [
        {
          "output_type": "display_data",
          "data": {
            "text/plain": [
              "<Figure size 432x288 with 1 Axes>"
            ],
            "image/png": "[encoded data removed]"
          },
          "metadata": {}
        },
        {
          "output_type": "stream",
          "name": "stdout",
          "text": [
            "truck\t ship\t horse\t car\t\n"
          ]
        }
      ]
    },
    {
      "cell_type": "markdown",
      "metadata": {
        "id": "hZgB4eq0Pk6c"
      },
      "source": [
        "## 모델 생성"
      ]
    },
    {
      "cell_type": "markdown",
      "source": [
        "* input size = 4 * 3 * 32 * 32\n",
        "* output size = 4 * 10\n",
        "* 모델 조건\n",
        "> * convolution-layer : 2개 이상 사용\n",
        "> * maxpooling-layer : 1개 이상 사용\n",
        "> * fc-layer : 2개 이상 사용\n",
        "> * activation-function 으로 'relu' 사용"
      ],
      "metadata": {
        "id": "aNeryJhl3GhR"
      }
    },
    {
      "cell_type": "code",
      "metadata": {
        "id": "E2OMzoFHPeFZ"
      },
      "source": [
        "class Net(nn.Module):\n",
        "    def __init__(self):\n",
        "        super(Net, self).__init__()\n",
        "\n",
        "        self.conv1 = nn.Conv2d(in_channels = 3, out_channels = 32,  kernel_size = 3, stride =1, padding=1)\n",
        "        self.conv2 = nn.Conv2d(32, 64, 3)\n",
        "        self.conv3 = nn.Conv2d(64, 128, 3)\n",
        "        self.conv4 = nn.Conv2d(128, 256, 3)\n",
        "                \n",
        "        self.fc1 = nn.Linear(256 * 5 * 5, 1024)\n",
        "        self.fc2 = nn.Linear(1024, 512)\n",
        "        self.fc3 = nn.Linear(512, 10)\n",
        "        \n",
        "    def forward(self, x):\n",
        "        \n",
        "        x = F.relu(self.conv1(x))\n",
        "        x = F.relu(self.conv2(x))\n",
        "        x = F.max_pool2d(x, kernel_size=2, stride=2)\n",
        "        \n",
        "        x = F.relu(self.conv3(x))\n",
        "        x = F.relu(self.conv4(x))\n",
        "        x = F.max_pool2d(x, kernel_size=2, stride=2)\n",
        "        \n",
        "        x = x.view(-1, self.num_flat_features(x))\n",
        "        \n",
        "        x = F.relu(self.fc1(x))\n",
        "        x = F.relu(self.fc2(x))\n",
        "        x = self.fc3(x)\n",
        "       \n",
        "        return x\n",
        "    \n",
        "    def num_flat_features(self, x):\n",
        "        size = x.size()[1:]\n",
        "        num_features = 1\n",
        "        for s in size:\n",
        "            num_features *= s\n",
        "            \n",
        "        return num_features"
      ],
      "execution_count": 10,
      "outputs": []
    },
    {
      "cell_type": "code",
      "source": [
        "myNet = Net().to(device) # gpu에 모델 저장\n",
        "myNet"
      ],
      "metadata": {
        "id": "P5ZAjWK03iQ_",
        "colab": {
          "base_uri": "https://localhost:8080/"
        },
        "outputId": "50dbaeee-7faa-4870-b74c-1da47c352c58"
      },
      "execution_count": 11,
      "outputs": [
        {
          "output_type": "execute_result",
          "data": {
            "text/plain": [
              "Net(\n",
              "  (conv1): Conv2d(3, 32, kernel_size=(3, 3), stride=(1, 1), padding=(1, 1))\n",
              "  (conv2): Conv2d(32, 64, kernel_size=(3, 3), stride=(1, 1))\n",
              "  (conv3): Conv2d(64, 128, kernel_size=(3, 3), stride=(1, 1))\n",
              "  (conv4): Conv2d(128, 256, kernel_size=(3, 3), stride=(1, 1))\n",
              "  (fc1): Linear(in_features=6400, out_features=1024, bias=True)\n",
              "  (fc2): Linear(in_features=1024, out_features=512, bias=True)\n",
              "  (fc3): Linear(in_features=512, out_features=10, bias=True)\n",
              ")"
            ]
          },
          "metadata": {},
          "execution_count": 11
        }
      ]
    },
    {
      "cell_type": "code",
      "source": [
        "# input; (4 * 3 * 32 * 32)\n",
        "\n",
        "input = images.to(device)\n",
        "input.size()"
      ],
      "metadata": {
        "colab": {
          "base_uri": "https://localhost:8080/"
        },
        "id": "aC1MMHle3jid",
        "outputId": "667e1ffc-f834-459c-f30b-3d501f12a862"
      },
      "execution_count": 12,
      "outputs": [
        {
          "output_type": "execute_result",
          "data": {
            "text/plain": [
              "torch.Size([4, 3, 32, 32])"
            ]
          },
          "metadata": {},
          "execution_count": 12
        }
      ]
    },
    {
      "cell_type": "code",
      "source": [
        "# output; (4 * 10)\n",
        "\n",
        "output = myNet.forward(input)\n",
        "output.size()"
      ],
      "metadata": {
        "colab": {
          "base_uri": "https://localhost:8080/"
        },
        "id": "UYxJZCGo3uPZ",
        "outputId": "84ffc65e-bf22-4db3-bca4-f76f7600e856"
      },
      "execution_count": 13,
      "outputs": [
        {
          "output_type": "execute_result",
          "data": {
            "text/plain": [
              "torch.Size([4, 10])"
            ]
          },
          "metadata": {},
          "execution_count": 13
        }
      ]
    },
    {
      "cell_type": "code",
      "source": [
        "# 모델 구조 확인\n",
        "\n",
        "summary(myNet, input_size=(3, 32, 32), batch_size=4)"
      ],
      "metadata": {
        "id": "OS6RZEuB3wwa",
        "colab": {
          "base_uri": "https://localhost:8080/"
        },
        "outputId": "d78196f3-7cb5-402c-c74b-8b8ddef4604a"
      },
      "execution_count": 14,
      "outputs": [
        {
          "output_type": "stream",
          "name": "stdout",
          "text": [
            "----------------------------------------------------------------\n",
            "        Layer (type)               Output Shape         Param #\n",
            "================================================================\n",
            "            Conv2d-1            [4, 32, 32, 32]             896\n",
            "            Conv2d-2            [4, 64, 30, 30]          18,496\n",
            "            Conv2d-3           [4, 128, 13, 13]          73,856\n",
            "            Conv2d-4           [4, 256, 11, 11]         295,168\n",
            "            Linear-5                  [4, 1024]       6,554,624\n",
            "            Linear-6                   [4, 512]         524,800\n",
            "            Linear-7                    [4, 10]           5,130\n",
            "================================================================\n",
            "Total params: 7,472,970\n",
            "Trainable params: 7,472,970\n",
            "Non-trainable params: 0\n",
            "----------------------------------------------------------------\n",
            "Input size (MB): 0.05\n",
            "Forward/backward pass size (MB): 4.41\n",
            "Params size (MB): 28.51\n",
            "Estimated Total Size (MB): 32.96\n",
            "----------------------------------------------------------------\n"
          ]
        }
      ]
    },
    {
      "cell_type": "markdown",
      "metadata": {
        "id": "gogmHThzPrjK"
      },
      "source": [
        "## 손실함수와 옵티마이저"
      ]
    },
    {
      "cell_type": "code",
      "metadata": {
        "id": "X5SzxufZPpel"
      },
      "source": [
        "criterion = nn.CrossEntropyLoss() # 다중분류; CrossEntropyLoss\n",
        "optimizer = optim.SGD(myNet.parameters(), lr=0.001, momentum=0.9) # SGD; lr=0.001 & momentum=0.9"
      ],
      "execution_count": 15,
      "outputs": []
    },
    {
      "cell_type": "markdown",
      "metadata": {
        "id": "_UnbIcKaPyQv"
      },
      "source": [
        "## 모델 학습"
      ]
    },
    {
      "cell_type": "code",
      "metadata": {
        "id": "jlWiR3LwPuwa",
        "colab": {
          "base_uri": "https://localhost:8080/"
        },
        "outputId": "71a743ad-b140-4983-a1b9-20eeb0fb9c8d"
      },
      "source": [
        "# epochs = 10\n",
        "\n",
        "for epoch in range(10):\n",
        "    running_loss = 0.0\n",
        "\n",
        "    for i, data in enumerate(train_loader, 0):\n",
        "        inputs, labels = data[0].to(device), data[1].to(device)\n",
        "\n",
        "        optimizer.zero_grad()         # 가중치 초기화\n",
        "\n",
        "        y_pred = myNet(inputs)         # y_pred\n",
        "        loss = criterion(y_pred, labels)   # 손실함수를 이용해서 loss계산\n",
        "        loss.backward()               # back-propagation\n",
        "        optimizer.step()              # 가중치 업데이트\n",
        "\n",
        "        running_loss += loss.item()\n",
        "        if i % 2000 == 1999:\n",
        "            print(\"Epoch: {}, Batch: {}, Loss: {}\".format(epoch+1, i+1, running_loss/2000))\n",
        "            running_loss = 0.0"
      ],
      "execution_count": 16,
      "outputs": [
        {
          "output_type": "stream",
          "name": "stdout",
          "text": [
            "Epoch: 1, Batch: 2000, Loss: 2.266492358624935\n",
            "Epoch: 1, Batch: 4000, Loss: 1.9727665834128856\n",
            "Epoch: 1, Batch: 6000, Loss: 1.7446270929127932\n",
            "Epoch: 1, Batch: 8000, Loss: 1.5897488822937011\n",
            "Epoch: 1, Batch: 10000, Loss: 1.4959320620596408\n",
            "Epoch: 1, Batch: 12000, Loss: 1.4282503008842469\n",
            "Epoch: 2, Batch: 2000, Loss: 1.3055599967092275\n",
            "Epoch: 2, Batch: 4000, Loss: 1.2254745063446462\n",
            "Epoch: 2, Batch: 6000, Loss: 1.1883407889828086\n",
            "Epoch: 2, Batch: 8000, Loss: 1.104714333474636\n",
            "Epoch: 2, Batch: 10000, Loss: 1.0653317864378915\n",
            "Epoch: 2, Batch: 12000, Loss: 1.0162008991185576\n",
            "Epoch: 3, Batch: 2000, Loss: 0.8724645021846518\n",
            "Epoch: 3, Batch: 4000, Loss: 0.8755370583324693\n",
            "Epoch: 3, Batch: 6000, Loss: 0.8429804819244892\n",
            "Epoch: 3, Batch: 8000, Loss: 0.8148245453417767\n",
            "Epoch: 3, Batch: 10000, Loss: 0.8061602209903067\n",
            "Epoch: 3, Batch: 12000, Loss: 0.779593758134637\n",
            "Epoch: 4, Batch: 2000, Loss: 0.6319313470519846\n",
            "Epoch: 4, Batch: 4000, Loss: 0.6295278842501575\n",
            "Epoch: 4, Batch: 6000, Loss: 0.6184009557872778\n",
            "Epoch: 4, Batch: 8000, Loss: 0.6277915986264124\n",
            "Epoch: 4, Batch: 10000, Loss: 0.62267679907399\n",
            "Epoch: 4, Batch: 12000, Loss: 0.62559382826183\n",
            "Epoch: 5, Batch: 2000, Loss: 0.41884380169787616\n",
            "Epoch: 5, Batch: 4000, Loss: 0.4613778754096129\n",
            "Epoch: 5, Batch: 6000, Loss: 0.45568917102675915\n",
            "Epoch: 5, Batch: 8000, Loss: 0.4643229226686999\n",
            "Epoch: 5, Batch: 10000, Loss: 0.474797896515578\n",
            "Epoch: 5, Batch: 12000, Loss: 0.48261774872514795\n",
            "Epoch: 6, Batch: 2000, Loss: 0.2540293624697938\n",
            "Epoch: 6, Batch: 4000, Loss: 0.2919530255687832\n",
            "Epoch: 6, Batch: 6000, Loss: 0.3130231850090786\n",
            "Epoch: 6, Batch: 8000, Loss: 0.32511039404769143\n",
            "Epoch: 6, Batch: 10000, Loss: 0.3300654820413165\n",
            "Epoch: 6, Batch: 12000, Loss: 0.335757935538918\n",
            "Epoch: 7, Batch: 2000, Loss: 0.16272219594599927\n",
            "Epoch: 7, Batch: 4000, Loss: 0.17934581665399354\n",
            "Epoch: 7, Batch: 6000, Loss: 0.21225579127350966\n",
            "Epoch: 7, Batch: 8000, Loss: 0.207780818128487\n",
            "Epoch: 7, Batch: 10000, Loss: 0.22229671532880843\n",
            "Epoch: 7, Batch: 12000, Loss: 0.24669788449427404\n",
            "Epoch: 8, Batch: 2000, Loss: 0.09862631170424074\n",
            "Epoch: 8, Batch: 4000, Loss: 0.11810980736180124\n",
            "Epoch: 8, Batch: 6000, Loss: 0.14449810338692562\n",
            "Epoch: 8, Batch: 8000, Loss: 0.15966710802510226\n",
            "Epoch: 8, Batch: 10000, Loss: 0.15257097589824978\n",
            "Epoch: 8, Batch: 12000, Loss: 0.15302810188476407\n",
            "Epoch: 9, Batch: 2000, Loss: 0.08933564748323733\n",
            "Epoch: 9, Batch: 4000, Loss: 0.08923495427871503\n",
            "Epoch: 9, Batch: 6000, Loss: 0.11228728606780716\n",
            "Epoch: 9, Batch: 8000, Loss: 0.1226980660422872\n",
            "Epoch: 9, Batch: 10000, Loss: 0.11806166112516063\n",
            "Epoch: 9, Batch: 12000, Loss: 0.12269012053520706\n",
            "Epoch: 10, Batch: 2000, Loss: 0.0760292316414175\n",
            "Epoch: 10, Batch: 4000, Loss: 0.08792101021326354\n",
            "Epoch: 10, Batch: 6000, Loss: 0.09069108995715836\n",
            "Epoch: 10, Batch: 8000, Loss: 0.10536708849017933\n",
            "Epoch: 10, Batch: 10000, Loss: 0.10278507950714798\n",
            "Epoch: 10, Batch: 12000, Loss: 0.09810398985792375\n"
          ]
        }
      ]
    },
    {
      "cell_type": "markdown",
      "metadata": {
        "id": "NqYnwxJ3P8Gb"
      },
      "source": [
        "## 모델의 저장 및 로드"
      ]
    },
    {
      "cell_type": "code",
      "metadata": {
        "id": "keqtypx1QY6t",
        "colab": {
          "base_uri": "https://localhost:8080/",
          "height": 153
        },
        "outputId": "aab82269-cec8-4ef6-9948-1c9c107dd052"
      },
      "source": [
        "# 잘 학습된 모델인지 간단히 한 batch에 대해서 확인\n",
        "\n",
        "dataiter = iter(test_loader)\n",
        "images, labels = next(dataiter)\n",
        "\n",
        "imshow(torchvision.utils.make_grid(images))\n",
        "print(' '.join('\\t{}'.format(class_list[labels[j]]) for j in range(4))) # batch-size = 4"
      ],
      "execution_count": 17,
      "outputs": [
        {
          "output_type": "display_data",
          "data": {
            "text/plain": [
              "<Figure size 432x288 with 1 Axes>"
            ],
            "image/png": "[encoded data removed]"
          },
          "metadata": {}
        },
        {
          "output_type": "stream",
          "name": "stdout",
          "text": [
            "\tcat \tship \tship \tplane\n"
          ]
        }
      ]
    },
    {
      "cell_type": "code",
      "metadata": {
        "id": "z6UYtCT4P3Tj"
      },
      "source": [
        "# 저장\n",
        "\n",
        "PATH = './cifar_net.pth'\n",
        "torch.save(myNet.state_dict(), PATH)"
      ],
      "execution_count": 18,
      "outputs": []
    },
    {
      "cell_type": "code",
      "metadata": {
        "id": "FfsXzP9NQbMg",
        "colab": {
          "base_uri": "https://localhost:8080/"
        },
        "outputId": "01f2fcfe-e1e3-4853-a026-33218b3daded"
      },
      "source": [
        "# 불러오기\n",
        "\n",
        "Loaded_Net = Net().to(device)\n",
        "Loaded_Net.load_state_dict(torch.load(PATH))"
      ],
      "execution_count": 19,
      "outputs": [
        {
          "output_type": "execute_result",
          "data": {
            "text/plain": [
              "<All keys matched successfully>"
            ]
          },
          "metadata": {},
          "execution_count": 19
        }
      ]
    },
    {
      "cell_type": "markdown",
      "metadata": {
        "id": "1dvGiVkrQ2cf"
      },
      "source": [
        "## 모델 테스트\n",
        "* 조건\n",
        "> 전체 accuracy가 70% 이상이어야한다.<br>\n",
        "> 각각의 class에 대한 accuracy는 60% 이상이어야한다."
      ]
    },
    {
      "cell_type": "code",
      "metadata": {
        "id": "ajGFbhDvQtlp",
        "colab": {
          "base_uri": "https://localhost:8080/"
        },
        "outputId": "f43ddfaf-e17e-4a86-9f71-b5276c70d7a2"
      },
      "source": [
        "# 전체 accuracy 확인; 70% 이상 성능값\n",
        "\n",
        "correct = 0\n",
        "total = 0\n",
        "\n",
        "with torch.no_grad():\n",
        "    for data in test_loader:\n",
        "        images, labels = data[0].to(device), data[1].to(device)      # model객체도 gpu에 저장했음으로, 사용되는 데이터도 gpu에 저장한다.; to(device) 사용\n",
        "        \n",
        "        y_pred = Loaded_Net(images)                    # y_pred\n",
        "        _, predicted = torch.max(y_pred.data, axis=1)  # 확률이 가장 큰 것의 label을 최종 예측값으로 선택\n",
        "        total += labels.size(0) # 전체 갯수\n",
        "        correct += (predicted == labels).sum().item()   # 맞춘 갯수\n",
        "    \n",
        "    print(100 * correct / total)"
      ],
      "execution_count": 20,
      "outputs": [
        {
          "output_type": "stream",
          "name": "stdout",
          "text": [
            "76.76\n"
          ]
        }
      ]
    },
    {
      "cell_type": "markdown",
      "metadata": {
        "id": "trWVf5YvRYI0"
      },
      "source": [
        "- 어떤 것을 잘 분류했고, 잘 못했는지 확인"
      ]
    },
    {
      "cell_type": "code",
      "metadata": {
        "id": "P9p7QKhDQzpC",
        "colab": {
          "base_uri": "https://localhost:8080/"
        },
        "outputId": "247b4395-48e8-4146-cb03-88425079be01"
      },
      "source": [
        "# 각각의 class에 대한 accuracy 확인; 각각의 class에 대한 60% 이상 성능값\n",
        "\n",
        "class_correct = list(0. for i in range(10))\n",
        "class_total = list(0. for i in range(10))\n",
        "\n",
        "with torch.no_grad():\n",
        "    for data in test_loader:\n",
        "        images, labels = data[0].to(device), data[1].to(device)\n",
        "        outputs = Loaded_Net(images)\n",
        "        _, predicted = torch.max(outputs.data, axis=1)\n",
        "        c = (predicted == labels).squeeze()\n",
        "        for i in range(4): # 각각의 batch(batch-size : 4) 마다 계싼\n",
        "            label = labels[i]\n",
        "            class_correct[label] += c[i].item()\n",
        "            class_total[label] += 1\n",
        "\n",
        "for i in range(10):\n",
        "    print(\"Accuracy of {}: {}%\".format(class_list[i], 100 * class_correct[i] / class_total[i]))"
      ],
      "execution_count": 21,
      "outputs": [
        {
          "output_type": "stream",
          "name": "stdout",
          "text": [
            "Accuracy of plane: 79.4%\n",
            "Accuracy of car: 87.2%\n",
            "Accuracy of bird: 60.2%\n",
            "Accuracy of cat: 62.3%\n",
            "Accuracy of deer: 76.6%\n",
            "Accuracy of dog: 64.4%\n",
            "Accuracy of frog: 80.2%\n",
            "Accuracy of horse: 86.9%\n",
            "Accuracy of ship: 83.2%\n",
            "Accuracy of truck: 87.2%\n"
          ]
        }
      ]
    }
  ]
}