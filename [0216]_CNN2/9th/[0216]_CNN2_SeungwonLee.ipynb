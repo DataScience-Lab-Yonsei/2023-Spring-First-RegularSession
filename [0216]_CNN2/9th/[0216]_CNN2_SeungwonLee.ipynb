{
  "nbformat": 4,
  "nbformat_minor": 0,
  "metadata": {
    "colab": {
      "provenance": []
    },
    "kernelspec": {
      "name": "python3",
      "display_name": "Python 3"
    },
    "accelerator": "GPU",
    "gpuClass": "standard"
  },
  "cells": [
    {
      "cell_type": "markdown",
      "source": [
        "# 초기 세팅"
      ],
      "metadata": {
        "id": "cdNvme8aKSBP"
      }
    },
    {
      "cell_type": "code",
      "metadata": {
        "id": "P1v9luAfHXdz"
      },
      "source": [
        "import torch\n",
        "import torch.nn as nn\n",
        "import torch.nn.functional as F\n",
        "import torch.optim as optim\n",
        "from torch.utils.data import Dataset, DataLoader\n",
        "\n",
        "import torchvision\n",
        "import torchvision.datasets as datasets\n",
        "import torchvision.transforms as transforms\n",
        "\n",
        "import numpy as np\n",
        "import matplotlib.pyplot as plt\n",
        "plt.style.use('seaborn-white')"
      ],
      "execution_count": null,
      "outputs": []
    },
    {
      "cell_type": "code",
      "source": [
        "!pip install torchsummary\n",
        "from torchsummary import summary"
      ],
      "metadata": {
        "colab": {
          "base_uri": "https://localhost:8080/"
        },
        "id": "D39aCPyTu2Ce",
        "outputId": "8c5b6aad-f702-4003-b1c2-02b93a92d3fc"
      },
      "execution_count": null,
      "outputs": [
        {
          "output_type": "stream",
          "name": "stdout",
          "text": [
            "Looking in indexes: https://pypi.org/simple, https://us-python.pkg.dev/colab-wheels/public/simple/\n",
            "Requirement already satisfied: torchsummary in /usr/local/lib/python3.8/dist-packages (1.5.1)\n"
          ]
        }
      ]
    },
    {
      "cell_type": "markdown",
      "metadata": {
        "id": "02LdHlTTSz5L"
      },
      "source": [
        "- 현재 GPU 설정"
      ]
    },
    {
      "cell_type": "code",
      "metadata": {
        "id": "Ybsjn80uSx3X",
        "colab": {
          "base_uri": "https://localhost:8080/"
        },
        "outputId": "aa62996b-3b6b-4500-9615-0eedf908bb5a"
      },
      "source": [
        "# colab의 runtime-type을 GPU로 설정해서, True가 나오도록 한다.\n",
        "\n",
        "torch.cuda.is_available()"
      ],
      "execution_count": null,
      "outputs": [
        {
          "output_type": "execute_result",
          "data": {
            "text/plain": [
              "True"
            ]
          },
          "metadata": {},
          "execution_count": 3
        }
      ]
    },
    {
      "cell_type": "code",
      "metadata": {
        "id": "HlPZI5wfDQhv",
        "colab": {
          "base_uri": "https://localhost:8080/"
        },
        "outputId": "2d7103e3-b5d3-467a-b588-43bfa72c18e4"
      },
      "source": [
        "# gpu('cuda')가 사용가능하면, gpu를 이용하도록 설정\n",
        "\n",
        "device = torch.device('cuda' if torch.cuda.is_available() else 'cpu') \n",
        "device"
      ],
      "execution_count": null,
      "outputs": [
        {
          "output_type": "execute_result",
          "data": {
            "text/plain": [
              "device(type='cuda')"
            ]
          },
          "metadata": {},
          "execution_count": 4
        }
      ]
    },
    {
      "cell_type": "markdown",
      "source": [
        "# CIFAR10 분류 모델\n",
        "* R/G/B(3) 이미지 데이터 분류\n",
        "* 32x32 pixel"
      ],
      "metadata": {
        "id": "jqQF4qWUywYV"
      }
    },
    {
      "cell_type": "markdown",
      "metadata": {
        "id": "wD3z029XPFK0"
      },
      "source": [
        "## 전처리 설정"
      ]
    },
    {
      "cell_type": "code",
      "metadata": {
        "id": "4u3-pXWIPCiM"
      },
      "source": [
        "# transform 정의\n",
        "\n",
        "CIFAR_transform = transforms.Compose([transforms.ToTensor(), # tensor로 펴준다.\n",
        "                                      transforms.Normalize((0.5, 0.5, 0.5), (0.5, 0.5, 0.5))]) # r,g,b 데이터임으로, 3개의 인자값 전달"
      ],
      "execution_count": null,
      "outputs": []
    },
    {
      "cell_type": "markdown",
      "metadata": {
        "id": "a4HzFx19PNYv"
      },
      "source": [
        "## 데이터 로드 및 확인"
      ]
    },
    {
      "cell_type": "code",
      "metadata": {
        "id": "ctstlIt_PM9z",
        "colab": {
          "base_uri": "https://localhost:8080/"
        },
        "outputId": "9e193b06-0802-4f85-988b-148372080745"
      },
      "source": [
        "# datasets\n",
        "\n",
        "trainset = torchvision.datasets.CIFAR10(root='/content',\n",
        "                                 train=True, download=True,\n",
        "                                 transform=CIFAR_transform)\n",
        "\n",
        "testset = torchvision.datasets.CIFAR10(root='/content',\n",
        "                                 train=False, download=True,\n",
        "                                 transform=CIFAR_transform)"
      ],
      "execution_count": null,
      "outputs": [
        {
          "output_type": "stream",
          "name": "stdout",
          "text": [
            "Files already downloaded and verified\n",
            "Files already downloaded and verified\n"
          ]
        }
      ]
    },
    {
      "cell_type": "code",
      "metadata": {
        "id": "wTkTcictPTyY"
      },
      "source": [
        "# DataLoader\n",
        "\n",
        "# batch-size = 4\n",
        "\n",
        "train_loader = DataLoader(trainset, batch_size=4, shuffle=True, num_workers=2)\n",
        "\n",
        "test_loader = DataLoader(testset, batch_size=4, shuffle=False, num_workers=2)"
      ],
      "execution_count": null,
      "outputs": []
    },
    {
      "cell_type": "code",
      "source": [
        "# 숫자 label에 해당되는 값\n",
        "\n",
        "class_list = ('plane', 'car', 'bird', 'cat', 'deer',\n",
        "           'dog', 'frog', 'horse', 'ship', 'truck')"
      ],
      "metadata": {
        "id": "-lxqiKWGy-sP"
      },
      "execution_count": null,
      "outputs": []
    },
    {
      "cell_type": "code",
      "metadata": {
        "id": "_6IsY5CrPZ5e",
        "colab": {
          "base_uri": "https://localhost:8080/",
          "height": 153
        },
        "outputId": "ba0f7008-719d-47ac-a14c-46d08fa9b890"
      },
      "source": [
        "def imshow(img):\n",
        "    img = img / 2 + 0.5\n",
        "    npimg = img.numpy()\n",
        "    plt.imshow(np.transpose(npimg, (1,2,0)))\n",
        "    plt.show()\n",
        "\n",
        "dataiter = iter(train_loader)\n",
        "images, labels = next(dataiter)\n",
        "\n",
        "imshow(torchvision.utils.make_grid(images))\n",
        "print(' '.join('{}\\t'.format(class_list[labels[j]]) for j in range(4)))"
      ],
      "execution_count": null,
      "outputs": [
        {
          "output_type": "display_data",
          "data": {
            "text/plain": [
              "<Figure size 432x288 with 1 Axes>"
            ],
            "image/png": "[encoded data removed]"
          },
          "metadata": {}
        },
        {
          "output_type": "stream",
          "name": "stdout",
          "text": [
            "bird\t frog\t bird\t bird\t\n"
          ]
        }
      ]
    },
    {
      "cell_type": "markdown",
      "metadata": {
        "id": "hZgB4eq0Pk6c"
      },
      "source": [
        "## 모델 생성"
      ]
    },
    {
      "cell_type": "markdown",
      "source": [
        "* input size = 4 * 3 * 32 * 32\n",
        "* output size = 4 * 10\n",
        "* 모델 조건\n",
        "> * convolution-layer : 2개 이상 사용\n",
        "> * maxpooling-layer : 1개 이상 사용\n",
        "> * fc-layer : 2개 이상 사용\n",
        "> * activation-function 으로 'relu' 사용"
      ],
      "metadata": {
        "id": "aNeryJhl3GhR"
      }
    },
    {
      "cell_type": "code",
      "metadata": {
        "id": "E2OMzoFHPeFZ",
        "colab": {
          "base_uri": "https://localhost:8080/"
        },
        "outputId": "3a441204-50d2-4674-99a4-acee47f1b94f"
      },
      "source": [
        "import torch.nn as nn\n",
        "import torch.nn.functional as F\n",
        "\n",
        "class Net(nn.Module): \n",
        "    def __init__(self):\n",
        "        super(Net, self).__init__()\n",
        "        #out_channel 증가\n",
        "        self.conv1 = nn.Conv2d(3, 16, 5)\n",
        "        self.conv2 = nn.Conv2d(16, 32, 5)\n",
        "        #conv layer도 한 개 추가\n",
        "        self.conv3 = nn.Conv2d(32, 64, 5)\n",
        "\n",
        "        self.pool = nn.MaxPool2d(2, 2, 1)\n",
        "\n",
        "        self.fc1 = nn.Linear(64 * 2 * 2, 192)\n",
        "        #Full-connection layer도 추가\n",
        "        self.fc2 = nn.Linear(192, 128)\n",
        "        self.fc3 = nn.Linear(128, 84)\n",
        "        self.fc4 = nn.Linear(84, 10)\n",
        "       \n",
        "\n",
        "    def forward(self, x):\n",
        "        x = self.pool(F.relu(self.conv1(x)))\n",
        "        x = self.pool(F.relu(self.conv2(x)))\n",
        "        x = self.pool(F.relu(self.conv3(x)))\n",
        "        x = x.view(-1, 64 * 2 * 2)\n",
        "        x = F.relu(self.fc1(x))\n",
        "        x = F.relu(self.fc2(x))\n",
        "        x = F.relu(self.fc3(x))\n",
        "        x = self.fc4(x)\n",
        "        return x\n",
        "\n",
        "net = Net()\n",
        "print(net)\n"
      ],
      "execution_count": null,
      "outputs": [
        {
          "output_type": "stream",
          "name": "stdout",
          "text": [
            "Net(\n",
            "  (conv1): Conv2d(3, 16, kernel_size=(5, 5), stride=(1, 1))\n",
            "  (conv2): Conv2d(16, 32, kernel_size=(5, 5), stride=(1, 1))\n",
            "  (conv3): Conv2d(32, 64, kernel_size=(5, 5), stride=(1, 1))\n",
            "  (pool): MaxPool2d(kernel_size=2, stride=2, padding=1, dilation=1, ceil_mode=False)\n",
            "  (fc1): Linear(in_features=256, out_features=192, bias=True)\n",
            "  (fc2): Linear(in_features=192, out_features=128, bias=True)\n",
            "  (fc3): Linear(in_features=128, out_features=84, bias=True)\n",
            "  (fc4): Linear(in_features=84, out_features=10, bias=True)\n",
            "  (dropout1): Dropout(p=0.5, inplace=False)\n",
            ")\n"
          ]
        }
      ]
    },
    {
      "cell_type": "code",
      "source": [
        "myNet = Net().to(device) # gpu에 모델 저장\n",
        "myNet"
      ],
      "metadata": {
        "id": "P5ZAjWK03iQ_",
        "colab": {
          "base_uri": "https://localhost:8080/"
        },
        "outputId": "1bf40a00-102d-49a4-d704-874709f3cdf1"
      },
      "execution_count": null,
      "outputs": [
        {
          "output_type": "execute_result",
          "data": {
            "text/plain": [
              "Net(\n",
              "  (conv1): Conv2d(3, 16, kernel_size=(5, 5), stride=(1, 1))\n",
              "  (conv2): Conv2d(16, 32, kernel_size=(5, 5), stride=(1, 1))\n",
              "  (conv3): Conv2d(32, 64, kernel_size=(5, 5), stride=(1, 1))\n",
              "  (pool): MaxPool2d(kernel_size=2, stride=2, padding=1, dilation=1, ceil_mode=False)\n",
              "  (fc1): Linear(in_features=256, out_features=192, bias=True)\n",
              "  (fc2): Linear(in_features=192, out_features=128, bias=True)\n",
              "  (fc3): Linear(in_features=128, out_features=84, bias=True)\n",
              "  (fc4): Linear(in_features=84, out_features=10, bias=True)\n",
              "  (dropout1): Dropout(p=0.5, inplace=False)\n",
              ")"
            ]
          },
          "metadata": {},
          "execution_count": 11
        }
      ]
    },
    {
      "cell_type": "code",
      "source": [
        "# input; (4 * 3 * 32 * 32)\n",
        "\n",
        "input = images.to(device)\n",
        "input.size()"
      ],
      "metadata": {
        "id": "aC1MMHle3jid",
        "colab": {
          "base_uri": "https://localhost:8080/"
        },
        "outputId": "8251a595-e92f-446e-abf6-298204ba071e"
      },
      "execution_count": null,
      "outputs": [
        {
          "output_type": "execute_result",
          "data": {
            "text/plain": [
              "torch.Size([4, 3, 32, 32])"
            ]
          },
          "metadata": {},
          "execution_count": 12
        }
      ]
    },
    {
      "cell_type": "code",
      "source": [
        "# output; (4 * 10)\n",
        "\n",
        "output = myNet.forward(input)\n",
        "output.size()"
      ],
      "metadata": {
        "id": "UYxJZCGo3uPZ",
        "colab": {
          "base_uri": "https://localhost:8080/"
        },
        "outputId": "3bded926-24b9-48e3-90e2-4dbfa752479f"
      },
      "execution_count": null,
      "outputs": [
        {
          "output_type": "execute_result",
          "data": {
            "text/plain": [
              "torch.Size([4, 10])"
            ]
          },
          "metadata": {},
          "execution_count": 13
        }
      ]
    },
    {
      "cell_type": "code",
      "source": [
        "# 모델 구조 확인\n",
        "\n",
        "summary(myNet, input_size=(3,32,32), batch_size=4)\n",
        "# RGB 데이터일 때는 3\n",
        "# 흑백 데이터일 때는 1\n",
        "# cnn1에서는 batchsize = 128 or 64\n",
        "#ex) summary(model,(1,28,28),batch_size=10)"
      ],
      "metadata": {
        "id": "OS6RZEuB3wwa",
        "colab": {
          "base_uri": "https://localhost:8080/"
        },
        "outputId": "4fb2794e-f7e9-4c6c-d329-b6ca945ed535"
      },
      "execution_count": null,
      "outputs": [
        {
          "output_type": "stream",
          "name": "stdout",
          "text": [
            "----------------------------------------------------------------\n",
            "        Layer (type)               Output Shape         Param #\n",
            "================================================================\n",
            "            Conv2d-1            [4, 16, 28, 28]           1,216\n",
            "         MaxPool2d-2            [4, 16, 15, 15]               0\n",
            "            Conv2d-3            [4, 32, 11, 11]          12,832\n",
            "         MaxPool2d-4              [4, 32, 6, 6]               0\n",
            "            Conv2d-5              [4, 64, 2, 2]          51,264\n",
            "         MaxPool2d-6              [4, 64, 2, 2]               0\n",
            "            Linear-7                   [4, 192]          49,344\n",
            "            Linear-8                   [4, 128]          24,704\n",
            "            Linear-9                    [4, 84]          10,836\n",
            "          Dropout-10                    [4, 84]               0\n",
            "           Linear-11                    [4, 10]             850\n",
            "================================================================\n",
            "Total params: 151,046\n",
            "Trainable params: 151,046\n",
            "Non-trainable params: 0\n",
            "----------------------------------------------------------------\n",
            "Input size (MB): 0.05\n",
            "Forward/backward pass size (MB): 0.68\n",
            "Params size (MB): 0.58\n",
            "Estimated Total Size (MB): 1.30\n",
            "----------------------------------------------------------------\n"
          ]
        }
      ]
    },
    {
      "cell_type": "markdown",
      "metadata": {
        "id": "gogmHThzPrjK"
      },
      "source": [
        "## 손실함수와 옵티마이저"
      ]
    },
    {
      "cell_type": "code",
      "metadata": {
        "id": "X5SzxufZPpel"
      },
      "source": [
        "criterion = nn.CrossEntropyLoss() # 다중분류; CrossEntropyLoss\n",
        "optimizer = optim.SGD(myNet.parameters(), lr=0.001, momentum=0.9) # SGD; lr=0.001 & momentum=0.9"
      ],
      "execution_count": null,
      "outputs": []
    },
    {
      "cell_type": "markdown",
      "metadata": {
        "id": "_UnbIcKaPyQv"
      },
      "source": [
        "## 모델 학습"
      ]
    },
    {
      "cell_type": "code",
      "metadata": {
        "id": "jlWiR3LwPuwa",
        "colab": {
          "base_uri": "https://localhost:8080/"
        },
        "outputId": "981d1c46-cd23-4dea-a6dd-4c20f4789a30"
      },
      "source": [
        "# epochs = 1\n",
        "\n",
        "for epoch in range(10):\n",
        "    running_loss = 0.0\n",
        "\n",
        "    for i, data in enumerate(train_loader, start= 0):\n",
        "        inputs, labels = data[0].to(device), data[1].to(device)\n",
        "\n",
        "        optimizer.zero_grad()                            # 가중치 초기화\n",
        "\n",
        "        outputs = myNet(inputs)                          # y_pred\n",
        "        loss = criterion(outputs, labels)                           # 손실함수를 이용해서 loss계산\n",
        "        loss.backward()                           # back-propagation\n",
        "        optimizer.step()                          # 가중치 업데이트\n",
        "\n",
        "        running_loss += loss.item()\n",
        "        if i % 2000 == 1999:\n",
        "            print(\"Epoch: {}, Batch: {}, Loss: {}\".format(epoch+1, i+1, running_loss/2000))\n",
        "            running_loss = 0.0"
      ],
      "execution_count": null,
      "outputs": [
        {
          "output_type": "stream",
          "name": "stdout",
          "text": [
            "Epoch: 1, Batch: 2000, Loss: 2.3033900640010834\n",
            "Epoch: 1, Batch: 4000, Loss: 2.3008269551992417\n",
            "Epoch: 1, Batch: 6000, Loss: 2.180225087463856\n",
            "Epoch: 1, Batch: 8000, Loss: 1.9521491405367852\n",
            "Epoch: 1, Batch: 10000, Loss: 1.808092667132616\n",
            "Epoch: 1, Batch: 12000, Loss: 1.6915791239738465\n",
            "Epoch: 2, Batch: 2000, Loss: 1.5930392451584339\n",
            "Epoch: 2, Batch: 4000, Loss: 1.5455320280641318\n",
            "Epoch: 2, Batch: 6000, Loss: 1.4724792526066304\n",
            "Epoch: 2, Batch: 8000, Loss: 1.4377627098038792\n",
            "Epoch: 2, Batch: 10000, Loss: 1.393411886356771\n",
            "Epoch: 2, Batch: 12000, Loss: 1.368343451883644\n",
            "Epoch: 3, Batch: 2000, Loss: 1.317733806375414\n",
            "Epoch: 3, Batch: 4000, Loss: 1.2963104477487504\n",
            "Epoch: 3, Batch: 6000, Loss: 1.270912745937705\n",
            "Epoch: 3, Batch: 8000, Loss: 1.2368130258508025\n",
            "Epoch: 3, Batch: 10000, Loss: 1.2031789267975836\n",
            "Epoch: 3, Batch: 12000, Loss: 1.196654257711023\n",
            "Epoch: 4, Batch: 2000, Loss: 1.1225651656333357\n",
            "Epoch: 4, Batch: 4000, Loss: 1.1122068539783359\n",
            "Epoch: 4, Batch: 6000, Loss: 1.1101699804477394\n",
            "Epoch: 4, Batch: 8000, Loss: 1.1030716468691826\n",
            "Epoch: 4, Batch: 10000, Loss: 1.0933181844502688\n",
            "Epoch: 4, Batch: 12000, Loss: 1.0709522569663823\n",
            "Epoch: 5, Batch: 2000, Loss: 1.0085772927440704\n",
            "Epoch: 5, Batch: 4000, Loss: 1.0130943937622943\n",
            "Epoch: 5, Batch: 6000, Loss: 0.9870230678701774\n",
            "Epoch: 5, Batch: 8000, Loss: 1.0062550203737337\n",
            "Epoch: 5, Batch: 10000, Loss: 0.9712247349577956\n",
            "Epoch: 5, Batch: 12000, Loss: 0.9738779709907248\n",
            "Epoch: 6, Batch: 2000, Loss: 0.9184414061303251\n",
            "Epoch: 6, Batch: 4000, Loss: 0.9304619199675508\n",
            "Epoch: 6, Batch: 6000, Loss: 0.9045982824061357\n",
            "Epoch: 6, Batch: 8000, Loss: 0.9103110752752982\n",
            "Epoch: 6, Batch: 10000, Loss: 0.9157322601118358\n",
            "Epoch: 6, Batch: 12000, Loss: 0.9068980856020935\n",
            "Epoch: 7, Batch: 2000, Loss: 0.848800880235387\n",
            "Epoch: 7, Batch: 4000, Loss: 0.8555538637801073\n",
            "Epoch: 7, Batch: 6000, Loss: 0.8483505423472961\n",
            "Epoch: 7, Batch: 8000, Loss: 0.8515010645161383\n",
            "Epoch: 7, Batch: 10000, Loss: 0.8792525740582496\n",
            "Epoch: 7, Batch: 12000, Loss: 0.8285458558800747\n",
            "Epoch: 8, Batch: 2000, Loss: 0.7886072546867654\n",
            "Epoch: 8, Batch: 4000, Loss: 0.7865683343588026\n",
            "Epoch: 8, Batch: 6000, Loss: 0.8198676901805738\n",
            "Epoch: 8, Batch: 8000, Loss: 0.8137530055148527\n",
            "Epoch: 8, Batch: 10000, Loss: 0.7869601827591541\n",
            "Epoch: 8, Batch: 12000, Loss: 0.8129681895236718\n",
            "Epoch: 9, Batch: 2000, Loss: 0.7333772296904936\n",
            "Epoch: 9, Batch: 4000, Loss: 0.7451469820592774\n",
            "Epoch: 9, Batch: 6000, Loss: 0.7533382747665747\n",
            "Epoch: 9, Batch: 8000, Loss: 0.758612434044182\n",
            "Epoch: 9, Batch: 10000, Loss: 0.7525227891697578\n",
            "Epoch: 9, Batch: 12000, Loss: 0.7789160081545123\n",
            "Epoch: 10, Batch: 2000, Loss: 0.6919270977840933\n",
            "Epoch: 10, Batch: 4000, Loss: 0.6779193955233641\n",
            "Epoch: 10, Batch: 6000, Loss: 0.7207077668296988\n",
            "Epoch: 10, Batch: 8000, Loss: 0.723945369713726\n",
            "Epoch: 10, Batch: 10000, Loss: 0.7410724096994381\n",
            "Epoch: 10, Batch: 12000, Loss: 0.7394701430510159\n"
          ]
        }
      ]
    },
    {
      "cell_type": "markdown",
      "metadata": {
        "id": "NqYnwxJ3P8Gb"
      },
      "source": [
        "## 모델의 저장 및 로드"
      ]
    },
    {
      "cell_type": "code",
      "metadata": {
        "id": "keqtypx1QY6t",
        "colab": {
          "base_uri": "https://localhost:8080/",
          "height": 153
        },
        "outputId": "b87d6c85-34e8-4838-cdcf-9d5567c92cab"
      },
      "source": [
        "# 잘 학습된 모델인지 간단히 한 batch에 대해서 확인\n",
        "\n",
        "dataiter = iter(test_loader)\n",
        "images, labels = next(dataiter)\n",
        "\n",
        "imshow(torchvision.utils.make_grid(images))\n",
        "print(' '.join('\\t{}'.format(class_list[labels[j]]) for j in range(4))) # batch-size = 4"
      ],
      "execution_count": null,
      "outputs": [
        {
          "output_type": "display_data",
          "data": {
            "text/plain": [
              "<Figure size 432x288 with 1 Axes>"
            ],
            "image/png": "[encoded data removed]"
          },
          "metadata": {}
        },
        {
          "output_type": "stream",
          "name": "stdout",
          "text": [
            "\tcat \tship \tship \tplane\n"
          ]
        }
      ]
    },
    {
      "cell_type": "code",
      "metadata": {
        "id": "z6UYtCT4P3Tj"
      },
      "source": [
        "# 저장\n",
        "\n",
        "PATH = './cifar_net.pth'\n",
        "torch.save(myNet.state_dict(), PATH)"
      ],
      "execution_count": null,
      "outputs": []
    },
    {
      "cell_type": "code",
      "metadata": {
        "id": "FfsXzP9NQbMg",
        "colab": {
          "base_uri": "https://localhost:8080/"
        },
        "outputId": "ecec00b7-efa6-4272-9727-c5b3415d447a"
      },
      "source": [
        "# 불러오기\n",
        "\n",
        "Loaded_Net = Net().to(device)\n",
        "Loaded_Net.load_state_dict(torch.load(PATH))"
      ],
      "execution_count": null,
      "outputs": [
        {
          "output_type": "execute_result",
          "data": {
            "text/plain": [
              "<All keys matched successfully>"
            ]
          },
          "metadata": {},
          "execution_count": 19
        }
      ]
    },
    {
      "cell_type": "markdown",
      "metadata": {
        "id": "1dvGiVkrQ2cf"
      },
      "source": [
        "## 모델 테스트\n",
        "* 조건\n",
        "> 전체 accuracy가 70% 이상이어야한다.<br>\n",
        "> 각각의 class에 대한 accuracy는 60% 이상이어야한다."
      ]
    },
    {
      "cell_type": "code",
      "metadata": {
        "id": "ajGFbhDvQtlp",
        "colab": {
          "base_uri": "https://localhost:8080/"
        },
        "outputId": "ce5c57aa-2713-4aeb-ee27-287a9b079c43"
      },
      "source": [
        "# 전체 accuracy 확인; 70% 이상 성능값\n",
        "\n",
        "correct = 0\n",
        "total = 0\n",
        "\n",
        "with torch.no_grad():\n",
        "    for data in test_loader:\n",
        "        images, labels = data[0].to(device), data[1].to(device)                                              # model객체도 gpu에 저장했음으로, 사용되는 데이터도 gpu에 저장한다.; to(device) 사용\n",
        "        outputs = Loaded_Net(images)                                             # y_pred\n",
        "        _, predicted = torch.max(outputs.data, axis=1)  # 확률이 가장 큰 것의 label을 최종 예측값으로 선택\n",
        "        total += labels.size(0) # 전체 갯수\n",
        "        correct += (predicted == labels).sum().item()   # 맞춘 갯수\n",
        "    \n",
        "    print(100 * correct / total)"
      ],
      "execution_count": null,
      "outputs": [
        {
          "output_type": "stream",
          "name": "stdout",
          "text": [
            "69.48\n"
          ]
        }
      ]
    },
    {
      "cell_type": "markdown",
      "metadata": {
        "id": "trWVf5YvRYI0"
      },
      "source": [
        "- 어떤 것을 잘 분류했고, 잘 못했는지 확인"
      ]
    },
    {
      "cell_type": "code",
      "metadata": {
        "id": "P9p7QKhDQzpC",
        "colab": {
          "base_uri": "https://localhost:8080/"
        },
        "outputId": "94d8b9ce-0604-47b2-dd97-c398ea531dc5"
      },
      "source": [
        " #각각의 class에 대한 accuracy 확인; 각각의 class에 대한 60% 이상 성능값\n",
        "\n",
        "class_correct = list(0. for i in range(10))\n",
        "class_total = list(0. for i in range(10))\n",
        "\n",
        "with torch.no_grad():\n",
        "    for data in test_loader:\n",
        "        images, labels = data[0].to(device), data[1].to(device)\n",
        "        outputs = Loaded_Net(images)\n",
        "        _, predicted = torch.max(outputs.data, axis=1)\n",
        "        c = (predicted == labels).squeeze()\n",
        "        for i in range(4): # 각각의 batch(batch-size : 4) 마다 계싼\n",
        "            label = labels[i]\n",
        "            class_correct[label] += c[i].item()\n",
        "            class_total[label] += 1\n",
        "\n",
        "for i in range(10):\n",
        "    print(\"Accuracy of {}: {}%\".format(class_list[i], 100 * class_correct[i] / class_total[i]))"
      ],
      "execution_count": null,
      "outputs": [
        {
          "output_type": "stream",
          "name": "stdout",
          "text": [
            "Accuracy of plane: 75.7%\n",
            "Accuracy of car: 83.7%\n",
            "Accuracy of bird: 55.7%\n",
            "Accuracy of cat: 43.4%\n",
            "Accuracy of deer: 73.2%\n",
            "Accuracy of dog: 46.8%\n",
            "Accuracy of frog: 80.0%\n",
            "Accuracy of horse: 67.7%\n",
            "Accuracy of ship: 90.0%\n",
            "Accuracy of truck: 76.6%\n"
          ]
        }
      ]
    }
  ]
}