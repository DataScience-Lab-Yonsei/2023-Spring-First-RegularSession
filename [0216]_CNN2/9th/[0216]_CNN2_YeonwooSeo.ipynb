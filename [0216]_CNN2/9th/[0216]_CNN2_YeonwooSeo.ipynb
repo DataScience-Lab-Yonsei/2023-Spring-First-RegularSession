{
  "nbformat": 4,
  "nbformat_minor": 0,
  "metadata": {
    "colab": {
      "provenance": []
    },
    "kernelspec": {
      "name": "python3",
      "display_name": "Python 3"
    },
    "accelerator": "GPU",
    "gpuClass": "standard"
  },
  "cells": [
    {
      "cell_type": "markdown",
      "source": [
        "# 초기 세팅"
      ],
      "metadata": {
        "id": "cdNvme8aKSBP"
      }
    },
    {
      "cell_type": "code",
      "metadata": {
        "id": "P1v9luAfHXdz"
      },
      "source": [
        "import torch\n",
        "import torch.nn as nn\n",
        "import torch.nn.functional as F\n",
        "import torch.optim as optim\n",
        "from torch.utils.data import Dataset, DataLoader\n",
        "\n",
        "import torchvision\n",
        "import torchvision.datasets as datasets\n",
        "import torchvision.transforms as transforms\n",
        "\n",
        "import numpy as np\n",
        "import matplotlib.pyplot as plt\n",
        "plt.style.use('seaborn-white')"
      ],
      "execution_count": 116,
      "outputs": []
    },
    {
      "cell_type": "code",
      "source": [
        "!pip install torchsummary\n",
        "from torchsummary import summary"
      ],
      "metadata": {
        "colab": {
          "base_uri": "https://localhost:8080/"
        },
        "id": "D39aCPyTu2Ce",
        "outputId": "00099de6-255f-4269-d2e1-6e55c345f289"
      },
      "execution_count": 117,
      "outputs": [
        {
          "output_type": "stream",
          "name": "stdout",
          "text": [
            "Looking in indexes: https://pypi.org/simple, https://us-python.pkg.dev/colab-wheels/public/simple/\n",
            "Requirement already satisfied: torchsummary in /usr/local/lib/python3.8/dist-packages (1.5.1)\n"
          ]
        }
      ]
    },
    {
      "cell_type": "markdown",
      "metadata": {
        "id": "02LdHlTTSz5L"
      },
      "source": [
        "- 현재 GPU 설정"
      ]
    },
    {
      "cell_type": "code",
      "metadata": {
        "id": "Ybsjn80uSx3X",
        "colab": {
          "base_uri": "https://localhost:8080/"
        },
        "outputId": "d714b5a3-ad22-4797-f5f4-63f25b4147c2"
      },
      "source": [
        "# colab의 runtime-type을 GPU로 설정해서, True가 나오도록 한다.\n",
        "\n",
        "torch.cuda.is_available()"
      ],
      "execution_count": 118,
      "outputs": [
        {
          "output_type": "execute_result",
          "data": {
            "text/plain": [
              "True"
            ]
          },
          "metadata": {},
          "execution_count": 118
        }
      ]
    },
    {
      "cell_type": "code",
      "metadata": {
        "id": "HlPZI5wfDQhv",
        "colab": {
          "base_uri": "https://localhost:8080/"
        },
        "outputId": "bcd75b16-5817-4048-b038-345a973204e4"
      },
      "source": [
        "device = torch.device('cuda' if torch.cuda.is_available() else 'cpu')\n",
        "device"
      ],
      "execution_count": 119,
      "outputs": [
        {
          "output_type": "execute_result",
          "data": {
            "text/plain": [
              "device(type='cuda')"
            ]
          },
          "metadata": {},
          "execution_count": 119
        }
      ]
    },
    {
      "cell_type": "markdown",
      "source": [
        "# CIFAR10 분류 모델\n",
        "* R/G/B(3) 이미지 데이터 분류\n",
        "* 32x32 pixel"
      ],
      "metadata": {
        "id": "jqQF4qWUywYV"
      }
    },
    {
      "cell_type": "markdown",
      "metadata": {
        "id": "wD3z029XPFK0"
      },
      "source": [
        "## 전처리 설정"
      ]
    },
    {
      "cell_type": "code",
      "metadata": {
        "id": "4u3-pXWIPCiM"
      },
      "source": [
        "# transform 정의\n",
        "\n",
        "CIFAR_transform = transforms.Compose([transforms.ToTensor(), # PIL Image -> Tensor\n",
        "                                      transforms.Normalize((0.5, 0.5, 0.5), (0.5, 0.5, 0.5))]) # r,g,b 데이터임으로, 3개의 인자값 전달"
      ],
      "execution_count": 120,
      "outputs": []
    },
    {
      "cell_type": "markdown",
      "metadata": {
        "id": "a4HzFx19PNYv"
      },
      "source": [
        "## 데이터 로드 및 확인"
      ]
    },
    {
      "cell_type": "code",
      "metadata": {
        "id": "ctstlIt_PM9z",
        "colab": {
          "base_uri": "https://localhost:8080/"
        },
        "outputId": "a5a095a6-8e18-480a-d492-5e6af30d1ca4"
      },
      "source": [
        "# datasets\n",
        "\n",
        "trainset = torchvision.datasets.CIFAR10(root='/content', # 이곳에 MNIST폴더안에 데이터가 저장된다.\n",
        "                          train=True, download=True,\n",
        "                          transform=CIFAR_transform) # 어떤 transform을 할 것인가\n",
        "\n",
        "testset = torchvision.datasets.CIFAR10(root='/content',\n",
        "                         train=False, download=True,\n",
        "                         transform=CIFAR_transform)"
      ],
      "execution_count": 172,
      "outputs": [
        {
          "output_type": "stream",
          "name": "stdout",
          "text": [
            "Files already downloaded and verified\n",
            "Files already downloaded and verified\n"
          ]
        }
      ]
    },
    {
      "cell_type": "code",
      "metadata": {
        "id": "wTkTcictPTyY"
      },
      "source": [
        "# DataLoader\n",
        "\n",
        "# batch-size = 4\n",
        "\n",
        "train_loader = DataLoader(trainset, batch_size=4, shuffle=True, num_workers=2)\n",
        "\n",
        "test_loader = DataLoader(testset, batch_size=4, shuffle=False, num_workers=2)"
      ],
      "execution_count": 173,
      "outputs": []
    },
    {
      "cell_type": "code",
      "source": [
        "# 숫자 label에 해당되는 값\n",
        "\n",
        "class_list = ('plane', 'car', 'bird', 'cat', 'deer',\n",
        "           'dog', 'frog', 'horse', 'ship', 'truck')"
      ],
      "metadata": {
        "id": "-lxqiKWGy-sP"
      },
      "execution_count": 123,
      "outputs": []
    },
    {
      "cell_type": "code",
      "metadata": {
        "id": "_6IsY5CrPZ5e",
        "colab": {
          "base_uri": "https://localhost:8080/",
          "height": 152
        },
        "outputId": "7013216f-150a-4b2a-f0ae-5cfaefcd852c"
      },
      "source": [
        "def imshow(img):\n",
        "    img = img / 2 + 0.5\n",
        "    npimg = img.numpy()\n",
        "    plt.imshow(np.transpose(npimg, (1,2,0)))\n",
        "    plt.show()\n",
        "\n",
        "dataiter = iter(train_loader)\n",
        "images, labels = next(dataiter)\n",
        "\n",
        "imshow(torchvision.utils.make_grid(images))\n",
        "print(' '.join('{}\\t'.format(class_list[labels[j]]) for j in range(4)))"
      ],
      "execution_count": 124,
      "outputs": [
        {
          "output_type": "display_data",
          "data": {
            "text/plain": [
              "<Figure size 432x288 with 1 Axes>"
            ],
            "image/png": "[encoded data removed]"
          },
          "metadata": {}
        },
        {
          "output_type": "stream",
          "name": "stdout",
          "text": [
            "horse\t ship\t dog\t car\t\n"
          ]
        }
      ]
    },
    {
      "cell_type": "markdown",
      "metadata": {
        "id": "hZgB4eq0Pk6c"
      },
      "source": [
        "## 모델 생성"
      ]
    },
    {
      "cell_type": "markdown",
      "source": [
        "* input size = 4 * 3 * 32 * 32\n",
        "* output size = 4 * 10\n",
        "* 모델 조건\n",
        "> * convolution-layer : 2개 이상 사용\n",
        "> * maxpooling-layer : 1개 이상 사용\n",
        "> * fc-layer : 2개 이상 사용\n",
        "> * activation-function 으로 'relu' 사용"
      ],
      "metadata": {
        "id": "aNeryJhl3GhR"
      }
    },
    {
      "cell_type": "code",
      "metadata": {
        "id": "E2OMzoFHPeFZ"
      },
      "source": [
        "class Net(nn.Module):  \n",
        "    def __init__ (self):\n",
        "      super(Net, self).__init__()\n",
        "\n",
        "      self.conv1 = nn.Conv2d(3,6,3,1,0)\n",
        "      self.conv2 = nn.Conv2d(6,6,3,1,1)\n",
        "\n",
        "      self.fc1 = nn.Linear(6 * 15 * 15, 3000)\n",
        "      self.fc2 = nn.Linear(3000, 1500)\n",
        "      self.fc3 = nn.Linear(1500, 180) \n",
        "      self.fc4 = nn.Linear(180, 86)\n",
        "      self.fc5 = nn.Linear(86, 10)\n",
        "    \n",
        "    def num_flat_features(self, x): # 처음 dim-size을 제외하고, 모두 곱한 값을 반환해준다.\n",
        "        size = x.size()[1:]\n",
        "        num_features = 1\n",
        "        for s in size:\n",
        "            num_features *= s\n",
        "        \n",
        "        return num_features\n",
        "    def forward(self, x):\n",
        "        x = F.relu(self.conv1(x))\n",
        "        x = F.max_pool2d(x, (2,2))\n",
        "        x = F.relu(self.conv2(x))\n",
        "\n",
        "        x = x.view(-1, self.num_flat_features(x)) # num_flat_features : 아래에서 정의\n",
        "\n",
        "        x = F.relu(self.fc1(x))\n",
        "        x = F.relu(self.fc2(x))\n",
        "        x = F.relu(self.fc3(x))\n",
        "        x = F.relu(self.fc4(x))\n",
        "        x = self.fc5(x)\n",
        "\n",
        "\n",
        "        return x"
      ],
      "execution_count": 125,
      "outputs": []
    },
    {
      "cell_type": "code",
      "source": [
        "myNet = Net().to(device) # gpu에 모델 저장"
      ],
      "metadata": {
        "id": "P5ZAjWK03iQ_"
      },
      "execution_count": 126,
      "outputs": []
    },
    {
      "cell_type": "code",
      "source": [
        "# input; (4 * 3 * 32 * 32)\n",
        "\n",
        "input = images.to(device)\n",
        "input.size()"
      ],
      "metadata": {
        "colab": {
          "base_uri": "https://localhost:8080/"
        },
        "id": "aC1MMHle3jid",
        "outputId": "978503cd-eefc-4369-89d2-bf5e0b082edc"
      },
      "execution_count": 127,
      "outputs": [
        {
          "output_type": "execute_result",
          "data": {
            "text/plain": [
              "torch.Size([4, 3, 32, 32])"
            ]
          },
          "metadata": {},
          "execution_count": 127
        }
      ]
    },
    {
      "cell_type": "code",
      "source": [
        "# output; (4 * 10)\n",
        "\n",
        "output = myNet.forward(input)\n",
        "output.size()"
      ],
      "metadata": {
        "colab": {
          "base_uri": "https://localhost:8080/"
        },
        "id": "UYxJZCGo3uPZ",
        "outputId": "cca46453-9f07-4f84-da07-74df00927590"
      },
      "execution_count": 128,
      "outputs": [
        {
          "output_type": "execute_result",
          "data": {
            "text/plain": [
              "torch.Size([4, 10])"
            ]
          },
          "metadata": {},
          "execution_count": 128
        }
      ]
    },
    {
      "cell_type": "code",
      "source": [
        "# 모델 구조 확인\n",
        "\n",
        "summary(myNet, input_size=(3, 32, 32), batch_size=4)"
      ],
      "metadata": {
        "id": "OS6RZEuB3wwa",
        "colab": {
          "base_uri": "https://localhost:8080/"
        },
        "outputId": "c06542f0-8971-4334-a1ef-8dab1933c240"
      },
      "execution_count": 129,
      "outputs": [
        {
          "output_type": "stream",
          "name": "stdout",
          "text": [
            "----------------------------------------------------------------\n",
            "        Layer (type)               Output Shape         Param #\n",
            "================================================================\n",
            "            Conv2d-1             [4, 6, 30, 30]             168\n",
            "            Conv2d-2             [4, 6, 15, 15]             330\n",
            "            Linear-3                  [4, 3000]       4,053,000\n",
            "            Linear-4                  [4, 1500]       4,501,500\n",
            "            Linear-5                   [4, 180]         270,180\n",
            "            Linear-6                    [4, 86]          15,566\n",
            "            Linear-7                    [4, 10]             870\n",
            "================================================================\n",
            "Total params: 8,841,614\n",
            "Trainable params: 8,841,614\n",
            "Non-trainable params: 0\n",
            "----------------------------------------------------------------\n",
            "Input size (MB): 0.05\n",
            "Forward/backward pass size (MB): 0.35\n",
            "Params size (MB): 33.73\n",
            "Estimated Total Size (MB): 34.13\n",
            "----------------------------------------------------------------\n"
          ]
        }
      ]
    },
    {
      "cell_type": "markdown",
      "metadata": {
        "id": "gogmHThzPrjK"
      },
      "source": [
        "## 손실함수와 옵티마이저"
      ]
    },
    {
      "cell_type": "code",
      "metadata": {
        "id": "X5SzxufZPpel"
      },
      "source": [
        "criterion = nn.CrossEntropyLoss() # 다중분류; CrossEntropyLoss\n",
        "optimizer = optim.SGD(myNet.parameters(), lr=0.001, momentum=0.9) # SGD; lr=0.001 & momentum=0.9"
      ],
      "execution_count": 130,
      "outputs": []
    },
    {
      "cell_type": "markdown",
      "metadata": {
        "id": "_UnbIcKaPyQv"
      },
      "source": [
        "## 모델 학습"
      ]
    },
    {
      "cell_type": "code",
      "metadata": {
        "id": "jlWiR3LwPuwa",
        "colab": {
          "base_uri": "https://localhost:8080/"
        },
        "outputId": "ebe75564-13ec-4278-887c-7059702e176f"
      },
      "source": [
        "# epochs = 10\n",
        "\n",
        "for epoch in range(10):\n",
        "    running_loss = 0.0\n",
        "\n",
        "    for i, data in enumerate(train_loader, 0):\n",
        "        inputs, labels = data[0].to(device), data[1].to(device)\n",
        "\n",
        "        optimizer.zero_grad()             # 가중치 초기화 \n",
        "\n",
        "        outputs = myNet(inputs)             # y_pred\n",
        "        loss = criterion(outputs, labels)       # 손실함수를 이용해서 loss계산\n",
        "        loss.backward()                          # back-propagation\n",
        "        optimizer.step()                         # 가중치 업데이트\n",
        "\n",
        "        running_loss += loss.item()\n",
        "        if i % 2000 == 1999:\n",
        "            print(\"Epoch: {}, Batch: {}, Loss: {}\".format(epoch+1, i+1, running_loss/2000))\n",
        "            running_loss = 0.0"
      ],
      "execution_count": 131,
      "outputs": [
        {
          "output_type": "stream",
          "name": "stdout",
          "text": [
            "Epoch: 1, Batch: 2000, Loss: 2.3005434168577192\n",
            "Epoch: 1, Batch: 4000, Loss: 2.1195409832894803\n",
            "Epoch: 1, Batch: 6000, Loss: 1.874331055700779\n",
            "Epoch: 1, Batch: 8000, Loss: 1.7179861004948616\n",
            "Epoch: 1, Batch: 10000, Loss: 1.624339238755405\n",
            "Epoch: 1, Batch: 12000, Loss: 1.5327221737802028\n",
            "Epoch: 2, Batch: 2000, Loss: 1.4662787446901202\n",
            "Epoch: 2, Batch: 4000, Loss: 1.415119611978531\n",
            "Epoch: 2, Batch: 6000, Loss: 1.3668895751312375\n",
            "Epoch: 2, Batch: 8000, Loss: 1.3539865895211696\n",
            "Epoch: 2, Batch: 10000, Loss: 1.3374349908940495\n",
            "Epoch: 2, Batch: 12000, Loss: 1.2966104582995177\n",
            "Epoch: 3, Batch: 2000, Loss: 1.2000476741530002\n",
            "Epoch: 3, Batch: 4000, Loss: 1.1964284520111979\n",
            "Epoch: 3, Batch: 6000, Loss: 1.1688663450106977\n",
            "Epoch: 3, Batch: 8000, Loss: 1.1708708158619703\n",
            "Epoch: 3, Batch: 10000, Loss: 1.1706905946154147\n",
            "Epoch: 3, Batch: 12000, Loss: 1.1355582947283984\n",
            "Epoch: 4, Batch: 2000, Loss: 0.9875638009663671\n",
            "Epoch: 4, Batch: 4000, Loss: 1.001654402541928\n",
            "Epoch: 4, Batch: 6000, Loss: 0.9992014807071536\n",
            "Epoch: 4, Batch: 8000, Loss: 0.9860060973800718\n",
            "Epoch: 4, Batch: 10000, Loss: 1.0147201330168172\n",
            "Epoch: 4, Batch: 12000, Loss: 1.0050996374906973\n",
            "Epoch: 5, Batch: 2000, Loss: 0.7577705401403364\n",
            "Epoch: 5, Batch: 4000, Loss: 0.807806279678829\n",
            "Epoch: 5, Batch: 6000, Loss: 0.8027568067095708\n",
            "Epoch: 5, Batch: 8000, Loss: 0.8355603593364358\n",
            "Epoch: 5, Batch: 10000, Loss: 0.8270852171366568\n",
            "Epoch: 5, Batch: 12000, Loss: 0.8321910282061435\n",
            "Epoch: 6, Batch: 2000, Loss: 0.5431012353448895\n",
            "Epoch: 6, Batch: 4000, Loss: 0.5895054805087857\n",
            "Epoch: 6, Batch: 6000, Loss: 0.64083056963532\n",
            "Epoch: 6, Batch: 8000, Loss: 0.6305732384520816\n",
            "Epoch: 6, Batch: 10000, Loss: 0.6515832974773949\n",
            "Epoch: 6, Batch: 12000, Loss: 0.6508903250456788\n",
            "Epoch: 7, Batch: 2000, Loss: 0.3420480482697603\n",
            "Epoch: 7, Batch: 4000, Loss: 0.3882759084606805\n",
            "Epoch: 7, Batch: 6000, Loss: 0.42551512431915034\n",
            "Epoch: 7, Batch: 8000, Loss: 0.4690562855831522\n",
            "Epoch: 7, Batch: 10000, Loss: 0.45431116569687585\n",
            "Epoch: 7, Batch: 12000, Loss: 0.49347774268663486\n",
            "Epoch: 8, Batch: 2000, Loss: 0.22853110578274483\n",
            "Epoch: 8, Batch: 4000, Loss: 0.26912250580326874\n",
            "Epoch: 8, Batch: 6000, Loss: 0.3169376808550887\n",
            "Epoch: 8, Batch: 8000, Loss: 0.3196933786491245\n",
            "Epoch: 8, Batch: 10000, Loss: 0.3334657666843777\n",
            "Epoch: 8, Batch: 12000, Loss: 0.3284413537262444\n",
            "Epoch: 9, Batch: 2000, Loss: 0.16100603870310987\n",
            "Epoch: 9, Batch: 4000, Loss: 0.20331806016255086\n",
            "Epoch: 9, Batch: 6000, Loss: 0.2155706387406917\n",
            "Epoch: 9, Batch: 8000, Loss: 0.23912918411742795\n",
            "Epoch: 9, Batch: 10000, Loss: 0.25183763194793934\n",
            "Epoch: 9, Batch: 12000, Loss: 0.24438574034945487\n",
            "Epoch: 10, Batch: 2000, Loss: 0.12781895739998275\n",
            "Epoch: 10, Batch: 4000, Loss: 0.14197485952409095\n",
            "Epoch: 10, Batch: 6000, Loss: 0.17060515163625495\n",
            "Epoch: 10, Batch: 8000, Loss: 0.1612042407830953\n",
            "Epoch: 10, Batch: 10000, Loss: 0.19202580536241384\n",
            "Epoch: 10, Batch: 12000, Loss: 0.1832223735745879\n"
          ]
        }
      ]
    },
    {
      "cell_type": "markdown",
      "metadata": {
        "id": "NqYnwxJ3P8Gb"
      },
      "source": [
        "## 모델의 저장 및 로드"
      ]
    },
    {
      "cell_type": "code",
      "metadata": {
        "id": "keqtypx1QY6t",
        "colab": {
          "base_uri": "https://localhost:8080/",
          "height": 152
        },
        "outputId": "5dd53997-6374-429f-ebc2-4b8b702c8d60"
      },
      "source": [
        "# 잘 학습된 모델인지 간단히 한 batch에 대해서 확인\n",
        "\n",
        "dataiter = iter(test_loader)\n",
        "images, labels = next(dataiter)\n",
        "\n",
        "imshow(torchvision.utils.make_grid(images))\n",
        "print(' '.join('\\t{}'.format(class_list[labels[j]]) for j in range(4))) # batch-size = 4"
      ],
      "execution_count": 152,
      "outputs": [
        {
          "output_type": "display_data",
          "data": {
            "text/plain": [
              "<Figure size 432x288 with 1 Axes>"
            ],
            "image/png": "[encoded data removed]"
          },
          "metadata": {}
        },
        {
          "output_type": "stream",
          "name": "stdout",
          "text": [
            "\tfrog \ttruck \ttruck \tdeer\n"
          ]
        }
      ]
    },
    {
      "cell_type": "code",
      "metadata": {
        "id": "z6UYtCT4P3Tj"
      },
      "source": [
        "# 저장\n",
        "\n",
        "PATH = './cifar_net.pth'\n",
        "torch.save(myNet.state_dict(), PATH)"
      ],
      "execution_count": 153,
      "outputs": []
    },
    {
      "cell_type": "code",
      "metadata": {
        "id": "FfsXzP9NQbMg",
        "colab": {
          "base_uri": "https://localhost:8080/"
        },
        "outputId": "698604ab-bb60-4f93-d38f-09bf7e49093f"
      },
      "source": [
        "# 불러오기\n",
        "\n",
        "Loaded_Net = Net()\n",
        "Loaded_Net.load_state_dict(torch.load(PATH))"
      ],
      "execution_count": 157,
      "outputs": [
        {
          "output_type": "execute_result",
          "data": {
            "text/plain": [
              "<All keys matched successfully>"
            ]
          },
          "metadata": {},
          "execution_count": 157
        }
      ]
    },
    {
      "cell_type": "markdown",
      "metadata": {
        "id": "1dvGiVkrQ2cf"
      },
      "source": [
        "## 모델 테스트\n",
        "* 조건\n",
        "> 전체 accuracy가 70% 이상이어야한다.<br>\n",
        "> 각각의 class에 대한 accuracy는 60% 이상이어야한다."
      ]
    },
    {
      "cell_type": "code",
      "metadata": {
        "id": "ajGFbhDvQtlp",
        "colab": {
          "base_uri": "https://localhost:8080/"
        },
        "outputId": "be25fd27-b9a3-4670-cba8-df66278b0d3e"
      },
      "source": [
        "# 전체 accuracy 확인; 70% 이상 성능값\n",
        "\n",
        "correct = 0\n",
        "total = 0\n",
        "\n",
        "with torch.no_grad():\n",
        "    for data in test_loader:\n",
        "        images, labels = images.to(device), labels.to(device) # model객체도 gpu에 저장했음으로, 사용되는 데이터도 gpu에 저장한다.; to(device) 사용\n",
        "        outputs = myNet(images)                         # y_pred\n",
        "        _, predicted = torch.max(outputs.data, axis=1)  # 확률이 가장 큰 것의 label을 최종 예측값으로 선택\n",
        "        total += labels.size(0) # 전체 갯수\n",
        "        correct += (predicted == labels).sum().item()   # 맞춘 갯수\n",
        "    \n",
        "    print(100 * correct / total)"
      ],
      "execution_count": 177,
      "outputs": [
        {
          "output_type": "stream",
          "name": "stdout",
          "text": [
            "75.0\n"
          ]
        }
      ]
    },
    {
      "cell_type": "markdown",
      "metadata": {
        "id": "trWVf5YvRYI0"
      },
      "source": [
        "- 어떤 것을 잘 분류했고, 잘 못했는지 확인"
      ]
    },
    {
      "cell_type": "code",
      "metadata": {
        "id": "P9p7QKhDQzpC",
        "colab": {
          "base_uri": "https://localhost:8080/"
        },
        "outputId": "d204d956-0cc8-41ab-9f58-9e702471004c"
      },
      "source": [
        "# 각각의 class에 대한 accuracy 확인; 각각의 class에 대한 60% 이상 성능값\n",
        "\n",
        "class_correct = list(0. for i in range(10))\n",
        "class_total = list(0. for i in range(10))\n",
        "\n",
        "with torch.no_grad():\n",
        "    for data in test_loader:\n",
        "        images, labels = data[0].to(device), data[1].to(device)\n",
        "        outputs = myNet(images)\n",
        "        _, predicted = torch.max(outputs.data, axis=1)\n",
        "        c = (predicted == labels).squeeze()\n",
        "        for i in range(4): # 각각의 batch(batch-size : 4) 마다 계싼\n",
        "            label = labels[i]\n",
        "            class_correct[label] += c[i].item()\n",
        "            class_total[label] += 1\n",
        "\n",
        "for i in range(10):\n",
        "    print(\"Accuracy of {}: {}%\".format(class_list[i], 100 * class_correct[i] / class_total[i]))"
      ],
      "execution_count": 176,
      "outputs": [
        {
          "output_type": "stream",
          "name": "stdout",
          "text": [
            "Accuracy of plane: 66.3%\n",
            "Accuracy of car: 84.0%\n",
            "Accuracy of bird: 47.2%\n",
            "Accuracy of cat: 44.7%\n",
            "Accuracy of deer: 52.6%\n",
            "Accuracy of dog: 41.5%\n",
            "Accuracy of frog: 63.0%\n",
            "Accuracy of horse: 66.9%\n",
            "Accuracy of ship: 79.3%\n",
            "Accuracy of truck: 60.0%\n"
          ]
        }
      ]
    }
  ]
}