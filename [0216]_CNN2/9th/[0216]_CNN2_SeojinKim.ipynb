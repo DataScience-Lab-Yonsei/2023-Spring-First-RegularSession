{
  "nbformat": 4,
  "nbformat_minor": 0,
  "metadata": {
    "colab": {
      "provenance": [],
      "collapsed_sections": [
        "cdNvme8aKSBP",
        "jqQF4qWUywYV",
        "wD3z029XPFK0",
        "a4HzFx19PNYv",
        "hZgB4eq0Pk6c",
        "gogmHThzPrjK",
        "_UnbIcKaPyQv",
        "NqYnwxJ3P8Gb",
        "1dvGiVkrQ2cf"
      ]
    },
    "kernelspec": {
      "name": "python3",
      "display_name": "Python 3"
    },
    "accelerator": "GPU",
    "gpuClass": "premium",
    "widgets": {
      "application/vnd.jupyter.widget-state+json": {
        "d44078e76cba4a419a9d26a122158a61": {
          "model_module": "@jupyter-widgets/controls",
          "model_name": "HBoxModel",
          "model_module_version": "1.5.0",
          "state": {
            "_dom_classes": [],
            "_model_module": "@jupyter-widgets/controls",
            "_model_module_version": "1.5.0",
            "_model_name": "HBoxModel",
            "_view_count": null,
            "_view_module": "@jupyter-widgets/controls",
            "_view_module_version": "1.5.0",
            "_view_name": "HBoxView",
            "box_style": "",
            "children": [
              "IPY_MODEL_5c71e153808643f3ba0a06b592870c3d",
              "IPY_MODEL_73562f067c7c4d5b892bb0efd4412651",
              "IPY_MODEL_ae6c887ab3004058b14609580be89cb5"
            ],
            "layout": "IPY_MODEL_1da118a3b6934c098932e9b2edb8d821"
          }
        },
        "5c71e153808643f3ba0a06b592870c3d": {
          "model_module": "@jupyter-widgets/controls",
          "model_name": "HTMLModel",
          "model_module_version": "1.5.0",
          "state": {
            "_dom_classes": [],
            "_model_module": "@jupyter-widgets/controls",
            "_model_module_version": "1.5.0",
            "_model_name": "HTMLModel",
            "_view_count": null,
            "_view_module": "@jupyter-widgets/controls",
            "_view_module_version": "1.5.0",
            "_view_name": "HTMLView",
            "description": "",
            "description_tooltip": null,
            "layout": "IPY_MODEL_b90aaae11ace4491879a8895090fba77",
            "placeholder": "​",
            "style": "IPY_MODEL_f5f3c991e62f4193b088c59c0685fa0a",
            "value": "100%"
          }
        },
        "73562f067c7c4d5b892bb0efd4412651": {
          "model_module": "@jupyter-widgets/controls",
          "model_name": "FloatProgressModel",
          "model_module_version": "1.5.0",
          "state": {
            "_dom_classes": [],
            "_model_module": "@jupyter-widgets/controls",
            "_model_module_version": "1.5.0",
            "_model_name": "FloatProgressModel",
            "_view_count": null,
            "_view_module": "@jupyter-widgets/controls",
            "_view_module_version": "1.5.0",
            "_view_name": "ProgressView",
            "bar_style": "success",
            "description": "",
            "description_tooltip": null,
            "layout": "IPY_MODEL_6141bfc1612c4781aaf60962621acb66",
            "max": 170498071,
            "min": 0,
            "orientation": "horizontal",
            "style": "IPY_MODEL_cf115a36c5fd40e896f98fd88594b34d",
            "value": 170498071
          }
        },
        "ae6c887ab3004058b14609580be89cb5": {
          "model_module": "@jupyter-widgets/controls",
          "model_name": "HTMLModel",
          "model_module_version": "1.5.0",
          "state": {
            "_dom_classes": [],
            "_model_module": "@jupyter-widgets/controls",
            "_model_module_version": "1.5.0",
            "_model_name": "HTMLModel",
            "_view_count": null,
            "_view_module": "@jupyter-widgets/controls",
            "_view_module_version": "1.5.0",
            "_view_name": "HTMLView",
            "description": "",
            "description_tooltip": null,
            "layout": "IPY_MODEL_5dae41c2afb14fed8dbe2ad7f3fbafb0",
            "placeholder": "​",
            "style": "IPY_MODEL_c22d79f06ac3410bace0974250449a56",
            "value": " 170498071/170498071 [00:02&lt;00:00, 85171449.29it/s]"
          }
        },
        "1da118a3b6934c098932e9b2edb8d821": {
          "model_module": "@jupyter-widgets/base",
          "model_name": "LayoutModel",
          "model_module_version": "1.2.0",
          "state": {
            "_model_module": "@jupyter-widgets/base",
            "_model_module_version": "1.2.0",
            "_model_name": "LayoutModel",
            "_view_count": null,
            "_view_module": "@jupyter-widgets/base",
            "_view_module_version": "1.2.0",
            "_view_name": "LayoutView",
            "align_content": null,
            "align_items": null,
            "align_self": null,
            "border": null,
            "bottom": null,
            "display": null,
            "flex": null,
            "flex_flow": null,
            "grid_area": null,
            "grid_auto_columns": null,
            "grid_auto_flow": null,
            "grid_auto_rows": null,
            "grid_column": null,
            "grid_gap": null,
            "grid_row": null,
            "grid_template_areas": null,
            "grid_template_columns": null,
            "grid_template_rows": null,
            "height": null,
            "justify_content": null,
            "justify_items": null,
            "left": null,
            "margin": null,
            "max_height": null,
            "max_width": null,
            "min_height": null,
            "min_width": null,
            "object_fit": null,
            "object_position": null,
            "order": null,
            "overflow": null,
            "overflow_x": null,
            "overflow_y": null,
            "padding": null,
            "right": null,
            "top": null,
            "visibility": null,
            "width": null
          }
        },
        "b90aaae11ace4491879a8895090fba77": {
          "model_module": "@jupyter-widgets/base",
          "model_name": "LayoutModel",
          "model_module_version": "1.2.0",
          "state": {
            "_model_module": "@jupyter-widgets/base",
            "_model_module_version": "1.2.0",
            "_model_name": "LayoutModel",
            "_view_count": null,
            "_view_module": "@jupyter-widgets/base",
            "_view_module_version": "1.2.0",
            "_view_name": "LayoutView",
            "align_content": null,
            "align_items": null,
            "align_self": null,
            "border": null,
            "bottom": null,
            "display": null,
            "flex": null,
            "flex_flow": null,
            "grid_area": null,
            "grid_auto_columns": null,
            "grid_auto_flow": null,
            "grid_auto_rows": null,
            "grid_column": null,
            "grid_gap": null,
            "grid_row": null,
            "grid_template_areas": null,
            "grid_template_columns": null,
            "grid_template_rows": null,
            "height": null,
            "justify_content": null,
            "justify_items": null,
            "left": null,
            "margin": null,
            "max_height": null,
            "max_width": null,
            "min_height": null,
            "min_width": null,
            "object_fit": null,
            "object_position": null,
            "order": null,
            "overflow": null,
            "overflow_x": null,
            "overflow_y": null,
            "padding": null,
            "right": null,
            "top": null,
            "visibility": null,
            "width": null
          }
        },
        "f5f3c991e62f4193b088c59c0685fa0a": {
          "model_module": "@jupyter-widgets/controls",
          "model_name": "DescriptionStyleModel",
          "model_module_version": "1.5.0",
          "state": {
            "_model_module": "@jupyter-widgets/controls",
            "_model_module_version": "1.5.0",
            "_model_name": "DescriptionStyleModel",
            "_view_count": null,
            "_view_module": "@jupyter-widgets/base",
            "_view_module_version": "1.2.0",
            "_view_name": "StyleView",
            "description_width": ""
          }
        },
        "6141bfc1612c4781aaf60962621acb66": {
          "model_module": "@jupyter-widgets/base",
          "model_name": "LayoutModel",
          "model_module_version": "1.2.0",
          "state": {
            "_model_module": "@jupyter-widgets/base",
            "_model_module_version": "1.2.0",
            "_model_name": "LayoutModel",
            "_view_count": null,
            "_view_module": "@jupyter-widgets/base",
            "_view_module_version": "1.2.0",
            "_view_name": "LayoutView",
            "align_content": null,
            "align_items": null,
            "align_self": null,
            "border": null,
            "bottom": null,
            "display": null,
            "flex": null,
            "flex_flow": null,
            "grid_area": null,
            "grid_auto_columns": null,
            "grid_auto_flow": null,
            "grid_auto_rows": null,
            "grid_column": null,
            "grid_gap": null,
            "grid_row": null,
            "grid_template_areas": null,
            "grid_template_columns": null,
            "grid_template_rows": null,
            "height": null,
            "justify_content": null,
            "justify_items": null,
            "left": null,
            "margin": null,
            "max_height": null,
            "max_width": null,
            "min_height": null,
            "min_width": null,
            "object_fit": null,
            "object_position": null,
            "order": null,
            "overflow": null,
            "overflow_x": null,
            "overflow_y": null,
            "padding": null,
            "right": null,
            "top": null,
            "visibility": null,
            "width": null
          }
        },
        "cf115a36c5fd40e896f98fd88594b34d": {
          "model_module": "@jupyter-widgets/controls",
          "model_name": "ProgressStyleModel",
          "model_module_version": "1.5.0",
          "state": {
            "_model_module": "@jupyter-widgets/controls",
            "_model_module_version": "1.5.0",
            "_model_name": "ProgressStyleModel",
            "_view_count": null,
            "_view_module": "@jupyter-widgets/base",
            "_view_module_version": "1.2.0",
            "_view_name": "StyleView",
            "bar_color": null,
            "description_width": ""
          }
        },
        "5dae41c2afb14fed8dbe2ad7f3fbafb0": {
          "model_module": "@jupyter-widgets/base",
          "model_name": "LayoutModel",
          "model_module_version": "1.2.0",
          "state": {
            "_model_module": "@jupyter-widgets/base",
            "_model_module_version": "1.2.0",
            "_model_name": "LayoutModel",
            "_view_count": null,
            "_view_module": "@jupyter-widgets/base",
            "_view_module_version": "1.2.0",
            "_view_name": "LayoutView",
            "align_content": null,
            "align_items": null,
            "align_self": null,
            "border": null,
            "bottom": null,
            "display": null,
            "flex": null,
            "flex_flow": null,
            "grid_area": null,
            "grid_auto_columns": null,
            "grid_auto_flow": null,
            "grid_auto_rows": null,
            "grid_column": null,
            "grid_gap": null,
            "grid_row": null,
            "grid_template_areas": null,
            "grid_template_columns": null,
            "grid_template_rows": null,
            "height": null,
            "justify_content": null,
            "justify_items": null,
            "left": null,
            "margin": null,
            "max_height": null,
            "max_width": null,
            "min_height": null,
            "min_width": null,
            "object_fit": null,
            "object_position": null,
            "order": null,
            "overflow": null,
            "overflow_x": null,
            "overflow_y": null,
            "padding": null,
            "right": null,
            "top": null,
            "visibility": null,
            "width": null
          }
        },
        "c22d79f06ac3410bace0974250449a56": {
          "model_module": "@jupyter-widgets/controls",
          "model_name": "DescriptionStyleModel",
          "model_module_version": "1.5.0",
          "state": {
            "_model_module": "@jupyter-widgets/controls",
            "_model_module_version": "1.5.0",
            "_model_name": "DescriptionStyleModel",
            "_view_count": null,
            "_view_module": "@jupyter-widgets/base",
            "_view_module_version": "1.2.0",
            "_view_name": "StyleView",
            "description_width": ""
          }
        }
      }
    }
  },
  "cells": [
    {
      "cell_type": "markdown",
      "source": [
        "# 초기 세팅"
      ],
      "metadata": {
        "id": "cdNvme8aKSBP"
      }
    },
    {
      "cell_type": "code",
      "metadata": {
        "id": "P1v9luAfHXdz"
      },
      "source": [
        "import torch\n",
        "import torch.nn as nn\n",
        "import torch.nn.functional as F\n",
        "import torch.optim as optim\n",
        "from torch.utils.data import Dataset, DataLoader\n",
        "\n",
        "import torchvision\n",
        "import torchvision.datasets as datasets\n",
        "import torchvision.transforms as transforms\n",
        "\n",
        "import numpy as np\n",
        "import matplotlib.pyplot as plt\n",
        "plt.style.use('seaborn-white')"
      ],
      "execution_count": 2,
      "outputs": []
    },
    {
      "cell_type": "code",
      "source": [
        "!pip install torchsummary\n",
        "from torchsummary import summary"
      ],
      "metadata": {
        "colab": {
          "base_uri": "https://localhost:8080/"
        },
        "id": "D39aCPyTu2Ce",
        "outputId": "9ff64ffc-2bb0-423e-ad1f-9aaff596e96a"
      },
      "execution_count": 3,
      "outputs": [
        {
          "output_type": "stream",
          "name": "stdout",
          "text": [
            "Looking in indexes: https://pypi.org/simple, https://us-python.pkg.dev/colab-wheels/public/simple/\n",
            "Requirement already satisfied: torchsummary in /usr/local/lib/python3.8/dist-packages (1.5.1)\n"
          ]
        }
      ]
    },
    {
      "cell_type": "markdown",
      "metadata": {
        "id": "02LdHlTTSz5L"
      },
      "source": [
        "- 현재 GPU 설정"
      ]
    },
    {
      "cell_type": "code",
      "metadata": {
        "id": "Ybsjn80uSx3X",
        "colab": {
          "base_uri": "https://localhost:8080/"
        },
        "outputId": "87d8da8f-460f-431c-f529-8f91d55da9b9"
      },
      "source": [
        "# colab의 runtime-type을 GPU로 설정해서, True가 나오도록 한다.\n",
        "\n",
        "torch.cuda.is_available()"
      ],
      "execution_count": 4,
      "outputs": [
        {
          "output_type": "execute_result",
          "data": {
            "text/plain": [
              "True"
            ]
          },
          "metadata": {},
          "execution_count": 4
        }
      ]
    },
    {
      "cell_type": "code",
      "metadata": {
        "id": "HlPZI5wfDQhv",
        "colab": {
          "base_uri": "https://localhost:8080/"
        },
        "outputId": "0cfd7534-6f6d-4903-93f5-2eae8569914d"
      },
      "source": [
        "device = torch.device(\"cuda\" if torch.cuda.is_available() else \"cpu\") # gpu('cuda')가 사용가능하면, gpu를 이용하도록 설정\n",
        "device"
      ],
      "execution_count": 5,
      "outputs": [
        {
          "output_type": "execute_result",
          "data": {
            "text/plain": [
              "device(type='cuda')"
            ]
          },
          "metadata": {},
          "execution_count": 5
        }
      ]
    },
    {
      "cell_type": "markdown",
      "source": [
        "# CIFAR10 분류 모델\n",
        "* R/G/B(3) 이미지 데이터 분류\n",
        "* 32x32 pixel"
      ],
      "metadata": {
        "id": "jqQF4qWUywYV"
      }
    },
    {
      "cell_type": "markdown",
      "metadata": {
        "id": "wD3z029XPFK0"
      },
      "source": [
        "## 전처리 설정"
      ]
    },
    {
      "cell_type": "code",
      "metadata": {
        "id": "4u3-pXWIPCiM"
      },
      "source": [
        "# transform 정의\n",
        "\n",
        "CIFAR_transform = transforms.Compose([transforms.ToTensor(),\n",
        "                                      transforms.Normalize((0.5, 0.5, 0.5), (0.5, 0.5, 0.5))]) # r,g,b 데이터임으로, 3개의 인자값 전달"
      ],
      "execution_count": 6,
      "outputs": []
    },
    {
      "cell_type": "markdown",
      "metadata": {
        "id": "a4HzFx19PNYv"
      },
      "source": [
        "## 데이터 로드 및 확인"
      ]
    },
    {
      "cell_type": "code",
      "metadata": {
        "id": "ctstlIt_PM9z",
        "colab": {
          "base_uri": "https://localhost:8080/",
          "height": 103,
          "referenced_widgets": [
            "d44078e76cba4a419a9d26a122158a61",
            "5c71e153808643f3ba0a06b592870c3d",
            "73562f067c7c4d5b892bb0efd4412651",
            "ae6c887ab3004058b14609580be89cb5",
            "1da118a3b6934c098932e9b2edb8d821",
            "b90aaae11ace4491879a8895090fba77",
            "f5f3c991e62f4193b088c59c0685fa0a",
            "6141bfc1612c4781aaf60962621acb66",
            "cf115a36c5fd40e896f98fd88594b34d",
            "5dae41c2afb14fed8dbe2ad7f3fbafb0",
            "c22d79f06ac3410bace0974250449a56"
          ]
        },
        "outputId": "a9216a43-cd0c-45a1-8a3f-ac9be38ea496"
      },
      "source": [
        "# datasets\n",
        "\n",
        "trainset = torchvision.datasets.CIFAR10(root='/content',\n",
        "                                 train=True, download=True,\n",
        "                                 transform=CIFAR_transform)\n",
        "\n",
        "testset = torchvision.datasets.CIFAR10(root='/content',\n",
        "                                 train=False, download=True,\n",
        "                                 transform=CIFAR_transform)"
      ],
      "execution_count": 7,
      "outputs": [
        {
          "output_type": "stream",
          "name": "stdout",
          "text": [
            "Downloading https://www.cs.toronto.edu/~kriz/cifar-10-python.tar.gz to /content/cifar-10-python.tar.gz\n"
          ]
        },
        {
          "output_type": "display_data",
          "data": {
            "text/plain": [
              "  0%|          | 0/170498071 [00:00<?, ?it/s]"
            ],
            "application/vnd.jupyter.widget-view+json": {
              "version_major": 2,
              "version_minor": 0,
              "model_id": "d44078e76cba4a419a9d26a122158a61"
            }
          },
          "metadata": {}
        },
        {
          "output_type": "stream",
          "name": "stdout",
          "text": [
            "Extracting /content/cifar-10-python.tar.gz to /content\n",
            "Files already downloaded and verified\n"
          ]
        }
      ]
    },
    {
      "cell_type": "code",
      "metadata": {
        "id": "wTkTcictPTyY"
      },
      "source": [
        "# DataLoader\n",
        "\n",
        "# batch-size = 4\n",
        "\n",
        "train_loader = DataLoader(trainset, batch_size=4, shuffle=True, num_workers=2)\n",
        "\n",
        "test_loader = DataLoader(testset, batch_size=4, shuffle=False, num_workers=2)"
      ],
      "execution_count": 8,
      "outputs": []
    },
    {
      "cell_type": "code",
      "source": [
        "# 숫자 label에 해당되는 값\n",
        "\n",
        "class_list = ('plane', 'car', 'bird', 'cat', 'deer',\n",
        "           'dog', 'frog', 'horse', 'ship', 'truck')"
      ],
      "metadata": {
        "id": "-lxqiKWGy-sP"
      },
      "execution_count": 9,
      "outputs": []
    },
    {
      "cell_type": "code",
      "metadata": {
        "id": "_6IsY5CrPZ5e",
        "colab": {
          "base_uri": "https://localhost:8080/",
          "height": 153
        },
        "outputId": "4963eb40-b9fa-4844-dc90-cde587b2c94a"
      },
      "source": [
        "def imshow(img):\n",
        "    img = img / 2 + 0.5\n",
        "    npimg = img.numpy()\n",
        "    plt.imshow(np.transpose(npimg, (1,2,0)))\n",
        "    plt.show()\n",
        "\n",
        "dataiter = iter(train_loader)\n",
        "images, labels = next(dataiter)\n",
        "\n",
        "imshow(torchvision.utils.make_grid(images))\n",
        "print(' '.join('{}\\t'.format(class_list[labels[j]]) for j in range(4)))"
      ],
      "execution_count": 10,
      "outputs": [
        {
          "output_type": "display_data",
          "data": {
            "text/plain": [
              "<Figure size 432x288 with 1 Axes>"
            ],
            "image/png": "[encoded data removed]"
          },
          "metadata": {}
        },
        {
          "output_type": "stream",
          "name": "stdout",
          "text": [
            "dog\t cat\t car\t frog\t\n"
          ]
        }
      ]
    },
    {
      "cell_type": "code",
      "source": [
        "images.shape"
      ],
      "metadata": {
        "colab": {
          "base_uri": "https://localhost:8080/"
        },
        "id": "coHYyz0NSYoW",
        "outputId": "8d731866-9996-4dc2-afd5-6fe2e8226a4a"
      },
      "execution_count": 11,
      "outputs": [
        {
          "output_type": "execute_result",
          "data": {
            "text/plain": [
              "torch.Size([4, 3, 32, 32])"
            ]
          },
          "metadata": {},
          "execution_count": 11
        }
      ]
    },
    {
      "cell_type": "markdown",
      "source": [
        "# 모델 1"
      ],
      "metadata": {
        "id": "KSpL4kSpLjRb"
      }
    },
    {
      "cell_type": "markdown",
      "metadata": {
        "id": "hZgB4eq0Pk6c"
      },
      "source": [
        "## 모델 생성"
      ]
    },
    {
      "cell_type": "markdown",
      "source": [
        "* input size = 4 * 3 * 32 * 32\n",
        "* output size = 4 * 10\n",
        "* 모델 조건\n",
        "> * convolution-layer : 2개 이상 사용\n",
        "> * maxpooling-layer : 1개 이상 사용\n",
        "> * fc-layer : 2개 이상 사용\n",
        "> * activation-function 으로 'relu' 사용"
      ],
      "metadata": {
        "id": "aNeryJhl3GhR"
      }
    },
    {
      "cell_type": "code",
      "metadata": {
        "id": "E2OMzoFHPeFZ"
      },
      "source": [
        "class Net(nn.Module):\n",
        "    def __init__(self):\n",
        "      super(Net, self).__init__()\n",
        "      self.conv1 = nn.Conv2d(in_channels=3, out_channels=10, kernel_size=3, stride=1, padding=1)\n",
        "      self.conv2 = nn.Conv2d(10, 15, 3, 1, 1)\n",
        "      self.conv3 = nn.Conv2d(15, 25, 4, 2)\n",
        "      self.fc1 = nn.Linear(225, 50)\n",
        "      self.fc2 = nn.Linear(50, 10)\n",
        "      \n",
        "    def forward(self, x):\n",
        "      x = F.relu(self.conv1(x))\n",
        "      x = F.max_pool2d(x, (2,))\n",
        "      x = F.relu(self.conv2(x))\n",
        "      x = F.relu(self.conv3(x))\n",
        "      x = F.max_pool2d(x, (2,))\n",
        "      x = x.view(-1, self.num_flat_features(x))\n",
        "      x = F.relu(self.fc1(x))\n",
        "      x = self.fc2(x)\n",
        "\n",
        "      return x\n",
        "\n",
        "    def num_flat_features(self, x): # 처음 dim-size을 제외하고, 모두 곱한 값을 반환해준다.\n",
        "        size = x.size()[1:]\n",
        "        num_features = 1\n",
        "        for s in size:\n",
        "            num_features *= s\n",
        "        \n",
        "        return num_features"
      ],
      "execution_count": 18,
      "outputs": []
    },
    {
      "cell_type": "code",
      "source": [
        "myNet = Net().to(device) # gpu에 모델 저장\n",
        "myNet"
      ],
      "metadata": {
        "id": "P5ZAjWK03iQ_",
        "colab": {
          "base_uri": "https://localhost:8080/"
        },
        "outputId": "7d2acd7a-6b7f-4c31-de71-61787bc8cd83"
      },
      "execution_count": 19,
      "outputs": [
        {
          "output_type": "execute_result",
          "data": {
            "text/plain": [
              "Net(\n",
              "  (conv1): Conv2d(3, 10, kernel_size=(3, 3), stride=(1, 1), padding=(1, 1))\n",
              "  (conv2): Conv2d(10, 15, kernel_size=(3, 3), stride=(1, 1), padding=(1, 1))\n",
              "  (conv3): Conv2d(15, 25, kernel_size=(4, 4), stride=(2, 2))\n",
              "  (fc1): Linear(in_features=225, out_features=50, bias=True)\n",
              "  (fc2): Linear(in_features=50, out_features=10, bias=True)\n",
              ")"
            ]
          },
          "metadata": {},
          "execution_count": 19
        }
      ]
    },
    {
      "cell_type": "code",
      "source": [
        "# input; (4 * 3 * 32 * 32)\n",
        "\n",
        "input = images.to(device)\n",
        "input.size()"
      ],
      "metadata": {
        "colab": {
          "base_uri": "https://localhost:8080/"
        },
        "id": "aC1MMHle3jid",
        "outputId": "dbf17647-7f5d-4964-e20e-3cb56d0e32ac"
      },
      "execution_count": 12,
      "outputs": [
        {
          "output_type": "execute_result",
          "data": {
            "text/plain": [
              "torch.Size([4, 3, 32, 32])"
            ]
          },
          "metadata": {},
          "execution_count": 12
        }
      ]
    },
    {
      "cell_type": "code",
      "source": [
        "# output; (4 * 10)\n",
        "\n",
        "output = myNet.forward(input)\n",
        "output.size()"
      ],
      "metadata": {
        "colab": {
          "base_uri": "https://localhost:8080/"
        },
        "id": "UYxJZCGo3uPZ",
        "outputId": "af0b98a6-6040-4283-bba7-e3d7ba8a2a7b"
      },
      "execution_count": 21,
      "outputs": [
        {
          "output_type": "execute_result",
          "data": {
            "text/plain": [
              "torch.Size([4, 10])"
            ]
          },
          "metadata": {},
          "execution_count": 21
        }
      ]
    },
    {
      "cell_type": "code",
      "source": [
        "# 모델 구조 확인\n",
        "\n",
        "summary(myNet, input_size=(3, 32, 32), batch_size=4)"
      ],
      "metadata": {
        "id": "OS6RZEuB3wwa",
        "colab": {
          "base_uri": "https://localhost:8080/"
        },
        "outputId": "8499618d-72d8-4f4c-8d99-9493e257aa92"
      },
      "execution_count": 22,
      "outputs": [
        {
          "output_type": "stream",
          "name": "stdout",
          "text": [
            "----------------------------------------------------------------\n",
            "        Layer (type)               Output Shape         Param #\n",
            "================================================================\n",
            "            Conv2d-1            [4, 10, 32, 32]             280\n",
            "            Conv2d-2            [4, 15, 16, 16]           1,365\n",
            "            Conv2d-3              [4, 25, 7, 7]           6,025\n",
            "            Linear-4                    [4, 50]          11,300\n",
            "            Linear-5                    [4, 10]             510\n",
            "================================================================\n",
            "Total params: 19,480\n",
            "Trainable params: 19,480\n",
            "Non-trainable params: 0\n",
            "----------------------------------------------------------------\n",
            "Input size (MB): 0.05\n",
            "Forward/backward pass size (MB): 0.47\n",
            "Params size (MB): 0.07\n",
            "Estimated Total Size (MB): 0.59\n",
            "----------------------------------------------------------------\n"
          ]
        }
      ]
    },
    {
      "cell_type": "markdown",
      "metadata": {
        "id": "gogmHThzPrjK"
      },
      "source": [
        "## 손실함수와 옵티마이저"
      ]
    },
    {
      "cell_type": "code",
      "metadata": {
        "id": "X5SzxufZPpel"
      },
      "source": [
        "criterion = nn.CrossEntropyLoss() # 다중분류; CrossEntropyLoss\n",
        "optimizer = optim.SGD(myNet.parameters(), lr=0.001, momentum=0.9) # SGD; lr=0.001 & momentum=0.9"
      ],
      "execution_count": 24,
      "outputs": []
    },
    {
      "cell_type": "markdown",
      "metadata": {
        "id": "_UnbIcKaPyQv"
      },
      "source": [
        "## 모델 학습"
      ]
    },
    {
      "cell_type": "code",
      "metadata": {
        "id": "jlWiR3LwPuwa",
        "colab": {
          "base_uri": "https://localhost:8080/"
        },
        "outputId": "17aff206-64a3-4b90-a9da-267d5c86cb63"
      },
      "source": [
        "# epochs = 10\n",
        "\n",
        "for epoch in range(10):\n",
        "    running_loss = 0.0\n",
        "\n",
        "    for i, data in enumerate(train_loader, 0):\n",
        "        inputs, labels = data[0].to(device), data[1].to(device)\n",
        "\n",
        "        optimizer.zero_grad() # 가중치 초기화\n",
        "\n",
        "        y_pred = myNet(inputs) # y_pred\n",
        "        loss = criterion(y_pred, labels) # 손실함수를 이용해서 loss계산\n",
        "        loss.backward()  # back-propagation\n",
        "        optimizer.step() # 가중치 업데이트\n",
        "\n",
        "        running_loss += loss.item()\n",
        "        if i % 2000 == 1999:\n",
        "            print(\"Epoch: {}, Batch: {}, Loss: {}\".format(epoch+1, i+1, running_loss/2000))\n",
        "            running_loss = 0.0"
      ],
      "execution_count": 25,
      "outputs": [
        {
          "output_type": "stream",
          "name": "stdout",
          "text": [
            "Epoch: 1, Batch: 2000, Loss: 2.2178036366701126\n",
            "Epoch: 1, Batch: 4000, Loss: 1.9459464305341243\n",
            "Epoch: 1, Batch: 6000, Loss: 1.7487425505518914\n",
            "Epoch: 1, Batch: 8000, Loss: 1.6151623934209347\n",
            "Epoch: 1, Batch: 10000, Loss: 1.5382168479412794\n",
            "Epoch: 1, Batch: 12000, Loss: 1.4950300815328956\n",
            "Epoch: 2, Batch: 2000, Loss: 1.416332402601838\n",
            "Epoch: 2, Batch: 4000, Loss: 1.3548152931034565\n",
            "Epoch: 2, Batch: 6000, Loss: 1.3213663119152188\n",
            "Epoch: 2, Batch: 8000, Loss: 1.2907258255034686\n",
            "Epoch: 2, Batch: 10000, Loss: 1.2684827827848495\n",
            "Epoch: 2, Batch: 12000, Loss: 1.2461101721227168\n",
            "Epoch: 3, Batch: 2000, Loss: 1.1871636418374256\n",
            "Epoch: 3, Batch: 4000, Loss: 1.1637929659225046\n",
            "Epoch: 3, Batch: 6000, Loss: 1.1627463685795665\n",
            "Epoch: 3, Batch: 8000, Loss: 1.1484552529193461\n",
            "Epoch: 3, Batch: 10000, Loss: 1.1528204260207713\n",
            "Epoch: 3, Batch: 12000, Loss: 1.1293118499722332\n",
            "Epoch: 4, Batch: 2000, Loss: 1.0797960397545248\n",
            "Epoch: 4, Batch: 4000, Loss: 1.0823639285359532\n",
            "Epoch: 4, Batch: 6000, Loss: 1.079969949748367\n",
            "Epoch: 4, Batch: 8000, Loss: 1.0717301741531118\n",
            "Epoch: 4, Batch: 10000, Loss: 1.0667118347529323\n",
            "Epoch: 4, Batch: 12000, Loss: 1.0709529130291193\n",
            "Epoch: 5, Batch: 2000, Loss: 1.0203356143115088\n",
            "Epoch: 5, Batch: 4000, Loss: 1.0213453740458935\n",
            "Epoch: 5, Batch: 6000, Loss: 1.0155741651002317\n",
            "Epoch: 5, Batch: 8000, Loss: 1.000531432897318\n",
            "Epoch: 5, Batch: 10000, Loss: 1.0004045056095348\n",
            "Epoch: 5, Batch: 12000, Loss: 1.0315872211065142\n",
            "Epoch: 6, Batch: 2000, Loss: 0.9522320482237264\n",
            "Epoch: 6, Batch: 4000, Loss: 0.9739327744776383\n",
            "Epoch: 6, Batch: 6000, Loss: 0.987238270515576\n",
            "Epoch: 6, Batch: 8000, Loss: 0.9724651648383588\n",
            "Epoch: 6, Batch: 10000, Loss: 0.9764473153487779\n",
            "Epoch: 6, Batch: 12000, Loss: 0.9801695475336164\n",
            "Epoch: 7, Batch: 2000, Loss: 0.9246993376333267\n",
            "Epoch: 7, Batch: 4000, Loss: 0.9224112895512954\n",
            "Epoch: 7, Batch: 6000, Loss: 0.9417355261645279\n",
            "Epoch: 7, Batch: 8000, Loss: 0.9204459349908866\n",
            "Epoch: 7, Batch: 10000, Loss: 0.936265984851867\n",
            "Epoch: 7, Batch: 12000, Loss: 0.9789355101753027\n",
            "Epoch: 8, Batch: 2000, Loss: 0.8788923324169591\n",
            "Epoch: 8, Batch: 4000, Loss: 0.8886251718760468\n",
            "Epoch: 8, Batch: 6000, Loss: 0.9096387775242328\n",
            "Epoch: 8, Batch: 8000, Loss: 0.9341192226642743\n",
            "Epoch: 8, Batch: 10000, Loss: 0.924855150938034\n",
            "Epoch: 8, Batch: 12000, Loss: 0.9318048959244043\n",
            "Epoch: 9, Batch: 2000, Loss: 0.8706811004271731\n",
            "Epoch: 9, Batch: 4000, Loss: 0.8822126756901852\n",
            "Epoch: 9, Batch: 6000, Loss: 0.8964678166676313\n",
            "Epoch: 9, Batch: 8000, Loss: 0.8980441694962792\n",
            "Epoch: 9, Batch: 10000, Loss: 0.8942912337367889\n",
            "Epoch: 9, Batch: 12000, Loss: 0.905777946407441\n",
            "Epoch: 10, Batch: 2000, Loss: 0.8602877806655597\n",
            "Epoch: 10, Batch: 4000, Loss: 0.8594679680577246\n",
            "Epoch: 10, Batch: 6000, Loss: 0.8604920890601352\n",
            "Epoch: 10, Batch: 8000, Loss: 0.878073020957876\n",
            "Epoch: 10, Batch: 10000, Loss: 0.8899276209173258\n",
            "Epoch: 10, Batch: 12000, Loss: 0.8822013014252298\n"
          ]
        }
      ]
    },
    {
      "cell_type": "markdown",
      "metadata": {
        "id": "NqYnwxJ3P8Gb"
      },
      "source": [
        "## 모델의 저장 및 로드"
      ]
    },
    {
      "cell_type": "code",
      "metadata": {
        "id": "keqtypx1QY6t",
        "colab": {
          "base_uri": "https://localhost:8080/",
          "height": 153
        },
        "outputId": "ef073eb2-a25e-4b57-f577-83059008b336"
      },
      "source": [
        "# 잘 학습된 모델인지 간단히 한 batch에 대해서 확인\n",
        "\n",
        "dataiter = iter(test_loader)\n",
        "images, labels = next(dataiter)\n",
        "\n",
        "imshow(torchvision.utils.make_grid(images))\n",
        "print(' '.join('\\t{}'.format(class_list[labels[j]]) for j in range(4))) # batch-size = 4"
      ],
      "execution_count": 26,
      "outputs": [
        {
          "output_type": "display_data",
          "data": {
            "text/plain": [
              "<Figure size 432x288 with 1 Axes>"
            ],
            "image/png": "[encoded data removed]"
          },
          "metadata": {}
        },
        {
          "output_type": "stream",
          "name": "stdout",
          "text": [
            "\tcat \tship \tship \tplane\n"
          ]
        }
      ]
    },
    {
      "cell_type": "code",
      "metadata": {
        "id": "z6UYtCT4P3Tj"
      },
      "source": [
        "# 저장\n",
        "\n",
        "PATH = './cifar_net.pth'\n",
        "torch.save(myNet.state_dict(), PATH)"
      ],
      "execution_count": 27,
      "outputs": []
    },
    {
      "cell_type": "code",
      "metadata": {
        "id": "FfsXzP9NQbMg",
        "colab": {
          "base_uri": "https://localhost:8080/"
        },
        "outputId": "9b96e414-02e0-4684-b9ab-69c4501f78a7"
      },
      "source": [
        "# 불러오기\n",
        "\n",
        "Loaded_Net = Net().to(device)\n",
        "Loaded_Net.load_state_dict(torch.load(PATH))"
      ],
      "execution_count": 28,
      "outputs": [
        {
          "output_type": "execute_result",
          "data": {
            "text/plain": [
              "<All keys matched successfully>"
            ]
          },
          "metadata": {},
          "execution_count": 28
        }
      ]
    },
    {
      "cell_type": "markdown",
      "metadata": {
        "id": "1dvGiVkrQ2cf"
      },
      "source": [
        "## 모델 테스트\n",
        "* 조건\n",
        "> 전체 accuracy가 70% 이상이어야한다.<br>\n",
        "> 각각의 class에 대한 accuracy는 60% 이상이어야한다."
      ]
    },
    {
      "cell_type": "code",
      "metadata": {
        "id": "ajGFbhDvQtlp",
        "colab": {
          "base_uri": "https://localhost:8080/"
        },
        "outputId": "e7d8e9da-0e84-4a9a-972b-3b03b2114aa2"
      },
      "source": [
        "# 전체 accuracy 확인; 70% 이상 성능값\n",
        "\n",
        "correct = 0\n",
        "total = 0\n",
        "\n",
        "with torch.no_grad():\n",
        "    for data in test_loader:\n",
        "        images, labels = data[0].to(device), data[1].to(device) # model객체도 gpu에 저장했음으로, 사용되는 데이터도 gpu에 저장한다.; to(device) 사용\n",
        "        y_pred = myNet(images)                                             # y_pred\n",
        "        _, predicted = torch.max(y_pred.data, axis=1)  # 확률이 가장 큰 것의 label을 최종 예측값으로 선택\n",
        "        total += labels.size(0) # 전체 갯수\n",
        "        correct += (predicted == labels).sum().item()   # 맞춘 갯수\n",
        "    \n",
        "    print(100 * correct / total)"
      ],
      "execution_count": 31,
      "outputs": [
        {
          "output_type": "stream",
          "name": "stdout",
          "text": [
            "63.33\n"
          ]
        }
      ]
    },
    {
      "cell_type": "markdown",
      "metadata": {
        "id": "trWVf5YvRYI0"
      },
      "source": [
        "- 어떤 것을 잘 분류했고, 잘 못했는지 확인"
      ]
    },
    {
      "cell_type": "code",
      "metadata": {
        "id": "P9p7QKhDQzpC",
        "colab": {
          "base_uri": "https://localhost:8080/"
        },
        "outputId": "51fab3f2-4476-4d5e-cb7b-846666d0d1e9"
      },
      "source": [
        "# 각각의 class에 대한 accuracy 확인; 각각의 class에 대한 60% 이상 성능값\n",
        "\n",
        "class_correct = list(0. for i in range(10))\n",
        "class_total = list(0. for i in range(10))\n",
        "\n",
        "with torch.no_grad():\n",
        "    for data in test_loader:\n",
        "        images, labels = data[0].to(device), data[1].to(device)\n",
        "        outputs = Loaded_Net(images)\n",
        "        _, predicted = torch.max(outputs.data, axis=1)\n",
        "        c = (predicted == labels).squeeze()\n",
        "        for i in range(4): # 각각의 batch(batch-size : 4) 마다 계싼\n",
        "            label = labels[i]\n",
        "            class_correct[label] += c[i].item()\n",
        "            class_total[label] += 1\n",
        "\n",
        "for i in range(10):\n",
        "    print(\"Accuracy of {}: {}%\".format(class_list[i], 100 * class_correct[i] / class_total[i]))"
      ],
      "execution_count": 32,
      "outputs": [
        {
          "output_type": "stream",
          "name": "stdout",
          "text": [
            "Accuracy of plane: 62.4%\n",
            "Accuracy of car: 78.8%\n",
            "Accuracy of bird: 58.3%\n",
            "Accuracy of cat: 29.3%\n",
            "Accuracy of deer: 53.8%\n",
            "Accuracy of dog: 54.3%\n",
            "Accuracy of frog: 90.7%\n",
            "Accuracy of horse: 54.4%\n",
            "Accuracy of ship: 80.3%\n",
            "Accuracy of truck: 71.0%\n"
          ]
        }
      ]
    },
    {
      "cell_type": "markdown",
      "source": [
        "# 모델2"
      ],
      "metadata": {
        "id": "8h1E_dk1LgWk"
      }
    },
    {
      "cell_type": "markdown",
      "source": [
        "## 모델 2 학습"
      ],
      "metadata": {
        "id": "y09QVFF1EKnT"
      }
    },
    {
      "cell_type": "code",
      "source": [
        "class Net2(nn.Module):\n",
        "    def __init__(self):\n",
        "      super(Net2, self).__init__()\n",
        "      self.conv1 = nn.Conv2d(in_channels=3, out_channels=16, kernel_size=3, stride=1, padding=1)\n",
        "      self.conv2 = nn.Conv2d(16, 32, 3, 1, padding=1)\n",
        "      self.conv3 = nn.Conv2d(32, 64, 3, 1, padding=1)\n",
        "      self.fc1 = nn.Linear(4*4*64, 64)\n",
        "      self.fc2 = nn.Linear(64, 10)\n",
        "      #self.bn = nn.BatchNorm2d(32)\n",
        "      \n",
        "    def forward(self, x):\n",
        "      x = F.relu(self.conv1(x))\n",
        "      x = F.max_pool2d(x, (2,))\n",
        "      x = F.relu(self.conv2(x))\n",
        "      x = F.max_pool2d(x, (2,))\n",
        "      #x = self.bn(x)\n",
        "      x = F.relu(self.conv3(x))\n",
        "      x = F.max_pool2d(x, (2,))\n",
        "      x = x.view(-1, self.num_flat_features(x))\n",
        "      x = F.relu(self.fc1(x))\n",
        "      x = self.fc2(x)\n",
        "\n",
        "      return x\n",
        "\n",
        "    def num_flat_features(self, x): # 처음 dim-size을 제외하고, 모두 곱한 값을 반환해준다.\n",
        "        size = x.size()[1:]\n",
        "        num_features = 1\n",
        "        for s in size:\n",
        "            num_features *= s\n",
        "        \n",
        "        return num_features"
      ],
      "metadata": {
        "id": "UgdWYOZqENTU"
      },
      "execution_count": 23,
      "outputs": []
    },
    {
      "cell_type": "code",
      "source": [
        "myNet2 = Net2().to(device)"
      ],
      "metadata": {
        "id": "w5n6Lmt1FTt0"
      },
      "execution_count": 24,
      "outputs": []
    },
    {
      "cell_type": "code",
      "source": [
        "# output; (4 * 10)\n",
        "\n",
        "output2 = myNet2.forward(input)\n",
        "output2.size()"
      ],
      "metadata": {
        "colab": {
          "base_uri": "https://localhost:8080/"
        },
        "outputId": "d191341a-b450-4881-85e8-586d2ec70b0b",
        "id": "DlEPWKCSFcoO"
      },
      "execution_count": 27,
      "outputs": [
        {
          "output_type": "execute_result",
          "data": {
            "text/plain": [
              "torch.Size([4, 10])"
            ]
          },
          "metadata": {},
          "execution_count": 27
        }
      ]
    },
    {
      "cell_type": "code",
      "source": [
        "# 모델 구조 확인\n",
        "\n",
        "summary(myNet2, input_size=(3, 32, 32), batch_size=4)"
      ],
      "metadata": {
        "colab": {
          "base_uri": "https://localhost:8080/"
        },
        "outputId": "f0b66248-2618-4ab4-8df0-d0aa989404f7",
        "id": "6Re6f42IFcoO"
      },
      "execution_count": 28,
      "outputs": [
        {
          "output_type": "stream",
          "name": "stdout",
          "text": [
            "----------------------------------------------------------------\n",
            "        Layer (type)               Output Shape         Param #\n",
            "================================================================\n",
            "            Conv2d-1            [4, 16, 32, 32]             448\n",
            "            Conv2d-2            [4, 32, 16, 16]           4,640\n",
            "            Conv2d-3              [4, 64, 8, 8]          18,496\n",
            "            Linear-4                    [4, 64]          65,600\n",
            "            Linear-5                    [4, 10]             650\n",
            "================================================================\n",
            "Total params: 89,834\n",
            "Trainable params: 89,834\n",
            "Non-trainable params: 0\n",
            "----------------------------------------------------------------\n",
            "Input size (MB): 0.05\n",
            "Forward/backward pass size (MB): 0.88\n",
            "Params size (MB): 0.34\n",
            "Estimated Total Size (MB): 1.27\n",
            "----------------------------------------------------------------\n"
          ]
        }
      ]
    },
    {
      "cell_type": "markdown",
      "metadata": {
        "id": "iw-2ig6dFcoP"
      },
      "source": [
        "## 손실함수와 옵티마이저"
      ]
    },
    {
      "cell_type": "code",
      "metadata": {
        "id": "YunkGO2jFcoP"
      },
      "source": [
        "criterion = nn.CrossEntropyLoss() # 다중분류; CrossEntropyLoss\n",
        "optimizer2 = optim.SGD(myNet2.parameters(), lr=0.001, momentum=0.9) # SGD; lr=0.001 & momentum=0.9"
      ],
      "execution_count": 30,
      "outputs": []
    },
    {
      "cell_type": "markdown",
      "metadata": {
        "id": "-gftJuJoFcoP"
      },
      "source": [
        "## 모델 학습"
      ]
    },
    {
      "cell_type": "code",
      "metadata": {
        "colab": {
          "base_uri": "https://localhost:8080/"
        },
        "outputId": "fb401fa9-f8b1-4fd3-9bd8-c0930f4efe46",
        "id": "47qqwpfYFcoQ"
      },
      "source": [
        "# epochs = 10\n",
        "\n",
        "for epoch in range(10):\n",
        "    running_loss = 0.0\n",
        "\n",
        "    for i, data in enumerate(train_loader, 0):\n",
        "        inputs, labels = data[0].to(device), data[1].to(device)\n",
        "\n",
        "        optimizer2.zero_grad() # 가중치 초기화\n",
        "\n",
        "        y_pred = myNet2(inputs) # y_pred\n",
        "        loss = criterion(y_pred, labels) # 손실함수를 이용해서 loss계산\n",
        "        loss.backward()  # back-propagation\n",
        "        optimizer2.step() # 가중치 업데이트\n",
        "\n",
        "        running_loss += loss.item()\n",
        "        if i % 2000 == 1999:\n",
        "            print(\"Epoch: {}, Batch: {}, Loss: {}\".format(epoch+1, i+1, running_loss/2000))\n",
        "            running_loss = 0.0"
      ],
      "execution_count": 32,
      "outputs": [
        {
          "output_type": "stream",
          "name": "stdout",
          "text": [
            "Epoch: 1, Batch: 2000, Loss: 2.1897042883634565\n",
            "Epoch: 1, Batch: 4000, Loss: 1.8037723819315434\n",
            "Epoch: 1, Batch: 6000, Loss: 1.5643979483544828\n",
            "Epoch: 1, Batch: 8000, Loss: 1.446375856027007\n",
            "Epoch: 1, Batch: 10000, Loss: 1.3838920777514576\n",
            "Epoch: 1, Batch: 12000, Loss: 1.30367446564883\n",
            "Epoch: 2, Batch: 2000, Loss: 1.2175223337337375\n",
            "Epoch: 2, Batch: 4000, Loss: 1.140997240351513\n",
            "Epoch: 2, Batch: 6000, Loss: 1.1114213895043359\n",
            "Epoch: 2, Batch: 8000, Loss: 1.0812395253162832\n",
            "Epoch: 2, Batch: 10000, Loss: 1.0540829652473331\n",
            "Epoch: 2, Batch: 12000, Loss: 1.0261862080236896\n",
            "Epoch: 3, Batch: 2000, Loss: 0.9276319090984761\n",
            "Epoch: 3, Batch: 4000, Loss: 0.9238292898586952\n",
            "Epoch: 3, Batch: 6000, Loss: 0.8933581525888294\n",
            "Epoch: 3, Batch: 8000, Loss: 0.917684628913179\n",
            "Epoch: 3, Batch: 10000, Loss: 0.8867296826830133\n",
            "Epoch: 3, Batch: 12000, Loss: 0.8891888177022338\n",
            "Epoch: 4, Batch: 2000, Loss: 0.785427140392363\n",
            "Epoch: 4, Batch: 4000, Loss: 0.8135234054210596\n",
            "Epoch: 4, Batch: 6000, Loss: 0.7943390181636205\n",
            "Epoch: 4, Batch: 8000, Loss: 0.7890745970997959\n",
            "Epoch: 4, Batch: 10000, Loss: 0.7847637317727786\n",
            "Epoch: 4, Batch: 12000, Loss: 0.7957757101143943\n",
            "Epoch: 5, Batch: 2000, Loss: 0.7048269513868727\n",
            "Epoch: 5, Batch: 4000, Loss: 0.71612960226438\n",
            "Epoch: 5, Batch: 6000, Loss: 0.7032738463683054\n",
            "Epoch: 5, Batch: 8000, Loss: 0.7295975167723373\n",
            "Epoch: 5, Batch: 10000, Loss: 0.7273600782402792\n",
            "Epoch: 5, Batch: 12000, Loss: 0.7154892591233365\n",
            "Epoch: 6, Batch: 2000, Loss: 0.6209971086396836\n",
            "Epoch: 6, Batch: 4000, Loss: 0.6266940747332992\n",
            "Epoch: 6, Batch: 6000, Loss: 0.65119464638512\n",
            "Epoch: 6, Batch: 8000, Loss: 0.6825313596044434\n",
            "Epoch: 6, Batch: 10000, Loss: 0.6820589735502144\n",
            "Epoch: 6, Batch: 12000, Loss: 0.6636857862859034\n",
            "Epoch: 7, Batch: 2000, Loss: 0.5598940210699802\n",
            "Epoch: 7, Batch: 4000, Loss: 0.5792392064962187\n",
            "Epoch: 7, Batch: 6000, Loss: 0.6250052377412212\n",
            "Epoch: 7, Batch: 8000, Loss: 0.6138365016924799\n",
            "Epoch: 7, Batch: 10000, Loss: 0.631742501521745\n",
            "Epoch: 7, Batch: 12000, Loss: 0.6209515080734418\n",
            "Epoch: 8, Batch: 2000, Loss: 0.515168611161389\n",
            "Epoch: 8, Batch: 4000, Loss: 0.5341194359973306\n",
            "Epoch: 8, Batch: 6000, Loss: 0.5711729312197403\n",
            "Epoch: 8, Batch: 8000, Loss: 0.5742359948072117\n",
            "Epoch: 8, Batch: 10000, Loss: 0.5759627109914727\n",
            "Epoch: 8, Batch: 12000, Loss: 0.5762896748869388\n",
            "Epoch: 9, Batch: 2000, Loss: 0.45973927326881675\n",
            "Epoch: 9, Batch: 4000, Loss: 0.5078684991613772\n",
            "Epoch: 9, Batch: 6000, Loss: 0.4914883651731288\n",
            "Epoch: 9, Batch: 8000, Loss: 0.5417521346143603\n",
            "Epoch: 9, Batch: 10000, Loss: 0.5564327450209112\n",
            "Epoch: 9, Batch: 12000, Loss: 0.5614474916242762\n",
            "Epoch: 10, Batch: 2000, Loss: 0.4238177086737687\n",
            "Epoch: 10, Batch: 4000, Loss: 0.46919787809810076\n",
            "Epoch: 10, Batch: 6000, Loss: 0.4865099400109975\n",
            "Epoch: 10, Batch: 8000, Loss: 0.5281353771965369\n",
            "Epoch: 10, Batch: 10000, Loss: 0.5161915364690903\n",
            "Epoch: 10, Batch: 12000, Loss: 0.520183997370601\n"
          ]
        }
      ]
    },
    {
      "cell_type": "markdown",
      "metadata": {
        "id": "tfB9U3TUFcoQ"
      },
      "source": [
        "## 모델의 저장 및 로드"
      ]
    },
    {
      "cell_type": "code",
      "metadata": {
        "colab": {
          "base_uri": "https://localhost:8080/",
          "height": 153
        },
        "outputId": "7a15ac0d-3d8a-4eff-bb15-70e0b7cb1c12",
        "id": "Sh_PrfkkFcoQ"
      },
      "source": [
        "# 잘 학습된 모델인지 간단히 한 batch에 대해서 확인\n",
        "\n",
        "dataiter = iter(test_loader)\n",
        "images, labels = next(dataiter)\n",
        "\n",
        "imshow(torchvision.utils.make_grid(images))\n",
        "print(' '.join('\\t{}'.format(class_list[labels[j]]) for j in range(4))) # batch-size = 4"
      ],
      "execution_count": 33,
      "outputs": [
        {
          "output_type": "display_data",
          "data": {
            "text/plain": [
              "<Figure size 432x288 with 1 Axes>"
            ],
            "image/png": "[encoded data removed]"
          },
          "metadata": {}
        },
        {
          "output_type": "stream",
          "name": "stdout",
          "text": [
            "\tcat \tship \tship \tplane\n"
          ]
        }
      ]
    },
    {
      "cell_type": "code",
      "metadata": {
        "id": "FDg09JItFcoQ"
      },
      "source": [
        "# 저장\n",
        "\n",
        "PATH = './cifar_net2.pth'\n",
        "torch.save(myNet2.state_dict(), PATH)"
      ],
      "execution_count": 34,
      "outputs": []
    },
    {
      "cell_type": "code",
      "metadata": {
        "colab": {
          "base_uri": "https://localhost:8080/"
        },
        "outputId": "a5444aaa-22f7-439b-e33d-d419be7ce5d2",
        "id": "wLgoUP85FcoQ"
      },
      "source": [
        "# 불러오기\n",
        "\n",
        "Loaded_Net2 = Net2().to(device)\n",
        "Loaded_Net2.load_state_dict(torch.load(PATH))"
      ],
      "execution_count": 35,
      "outputs": [
        {
          "output_type": "execute_result",
          "data": {
            "text/plain": [
              "<All keys matched successfully>"
            ]
          },
          "metadata": {},
          "execution_count": 35
        }
      ]
    },
    {
      "cell_type": "markdown",
      "metadata": {
        "id": "hvpkwXixFcoQ"
      },
      "source": [
        "## 모델 테스트\n",
        "* 조건\n",
        "> 전체 accuracy가 70% 이상이어야한다.<br>\n",
        "> 각각의 class에 대한 accuracy는 60% 이상이어야한다."
      ]
    },
    {
      "cell_type": "code",
      "metadata": {
        "colab": {
          "base_uri": "https://localhost:8080/"
        },
        "outputId": "45281bdb-420a-49a6-e38d-8590c2401248",
        "id": "8kBE_XbfFcoQ"
      },
      "source": [
        "# 전체 accuracy 확인; 70% 이상 성능값\n",
        "\n",
        "correct2 = 0\n",
        "total2 = 0\n",
        "\n",
        "with torch.no_grad():\n",
        "    for data in test_loader:\n",
        "        images, labels = data[0].to(device), data[1].to(device) # model객체도 gpu에 저장했음으로, 사용되는 데이터도 gpu에 저장한다.; to(device) 사용\n",
        "        y_pred = myNet2(images)                                             # y_pred\n",
        "        _, predicted = torch.max(y_pred.data, axis=1)  # 확률이 가장 큰 것의 label을 최종 예측값으로 선택\n",
        "        total2 += labels.size(0) # 전체 갯수\n",
        "        correct2 += (predicted == labels).sum().item()   # 맞춘 갯수\n",
        "    \n",
        "    print(100 * correct2 / total2)"
      ],
      "execution_count": 36,
      "outputs": [
        {
          "output_type": "stream",
          "name": "stdout",
          "text": [
            "70.76\n"
          ]
        }
      ]
    },
    {
      "cell_type": "markdown",
      "metadata": {
        "id": "ouJ8Z_tEFcoQ"
      },
      "source": [
        "- 어떤 것을 잘 분류했고, 잘 못했는지 확인"
      ]
    },
    {
      "cell_type": "code",
      "metadata": {
        "colab": {
          "base_uri": "https://localhost:8080/"
        },
        "outputId": "9cf2d324-2b4d-4bfb-a50b-83095fcaf78c",
        "id": "k4eU2UjjFcoQ"
      },
      "source": [
        "# 각각의 class에 대한 accuracy 확인; 각각의 class에 대한 60% 이상 성능값\n",
        "\n",
        "class_correct2 = list(0. for i in range(10))\n",
        "class_total2 = list(0. for i in range(10))\n",
        "\n",
        "with torch.no_grad():\n",
        "    for data in test_loader:\n",
        "        images, labels = data[0].to(device), data[1].to(device)\n",
        "        outputs = Loaded_Net2(images)\n",
        "        _, predicted = torch.max(outputs.data, axis=1)\n",
        "        c = (predicted == labels).squeeze()\n",
        "        for i in range(4): # 각각의 batch(batch-size : 4) 마다 계싼\n",
        "            label = labels[i]\n",
        "            class_correct2[label] += c[i].item()\n",
        "            class_total2[label] += 1\n",
        "\n",
        "for i in range(10):\n",
        "    print(\"Accuracy of {}: {}%\".format(class_list[i], 100 * class_correct2[i] / class_total2[i]))"
      ],
      "execution_count": 37,
      "outputs": [
        {
          "output_type": "stream",
          "name": "stdout",
          "text": [
            "Accuracy of plane: 83.0%\n",
            "Accuracy of car: 81.9%\n",
            "Accuracy of bird: 54.5%\n",
            "Accuracy of cat: 54.8%\n",
            "Accuracy of deer: 73.0%\n",
            "Accuracy of dog: 65.4%\n",
            "Accuracy of frog: 67.5%\n",
            "Accuracy of horse: 76.7%\n",
            "Accuracy of ship: 73.3%\n",
            "Accuracy of truck: 77.5%\n"
          ]
        }
      ]
    },
    {
      "cell_type": "markdown",
      "source": [
        "# 모델3"
      ],
      "metadata": {
        "id": "UulG2v-5LoDB"
      }
    },
    {
      "cell_type": "code",
      "source": [
        "class Net3(nn.Module):\n",
        "    def __init__(self):\n",
        "      super(Net3, self).__init__()\n",
        "      self.conv1 = nn.Conv2d(in_channels=3, out_channels=16, kernel_size=3, stride=1, padding=1)\n",
        "      self.conv2 = nn.Conv2d(16, 32, 3, 1, padding=1)\n",
        "      self.conv3 = nn.Conv2d(32, 64, 3, 1, padding=1)\n",
        "      self.fc1 = nn.Linear(4*4*64, 64)\n",
        "      self.fc2 = nn.Linear(64, 10)\n",
        "      self.bn = nn.BatchNorm2d(32)\n",
        "      \n",
        "    def forward(self, x):\n",
        "      x = F.relu(self.conv1(x))\n",
        "      x = F.max_pool2d(x, (2,))\n",
        "      x = F.relu(self.conv2(x))\n",
        "      x = F.max_pool2d(x, (2,))\n",
        "      x = self.bn(x)\n",
        "      x = F.relu(self.conv3(x))\n",
        "      x = F.max_pool2d(x, (2,))\n",
        "      x = x.view(-1, self.num_flat_features(x))\n",
        "      x = F.relu(self.fc1(x))\n",
        "      x = self.fc2(x)\n",
        "\n",
        "      return x\n",
        "\n",
        "    def num_flat_features(self, x): # 처음 dim-size을 제외하고, 모두 곱한 값을 반환해준다.\n",
        "        size = x.size()[1:]\n",
        "        num_features = 1\n",
        "        for s in size:\n",
        "            num_features *= s\n",
        "        \n",
        "        return num_features"
      ],
      "metadata": {
        "id": "zC5gH8DzLuEm"
      },
      "execution_count": 38,
      "outputs": []
    },
    {
      "cell_type": "code",
      "source": [
        "myNet3 = Net3().to(device)"
      ],
      "metadata": {
        "id": "zxwjv_MtLuEn"
      },
      "execution_count": 39,
      "outputs": []
    },
    {
      "cell_type": "code",
      "source": [
        "# output; (4 * 10)\n",
        "\n",
        "output3 = myNet3.forward(input)\n",
        "output3.size()"
      ],
      "metadata": {
        "colab": {
          "base_uri": "https://localhost:8080/"
        },
        "outputId": "cbc19bf1-ff5c-4cfa-dd2b-88630fe1ffd7",
        "id": "_bl1z8WYLuEn"
      },
      "execution_count": 40,
      "outputs": [
        {
          "output_type": "execute_result",
          "data": {
            "text/plain": [
              "torch.Size([4, 10])"
            ]
          },
          "metadata": {},
          "execution_count": 40
        }
      ]
    },
    {
      "cell_type": "code",
      "source": [
        "# 모델 구조 확인\n",
        "\n",
        "summary(myNet3, input_size=(3, 32, 32), batch_size=4)"
      ],
      "metadata": {
        "colab": {
          "base_uri": "https://localhost:8080/"
        },
        "outputId": "87178081-69cb-436d-814e-cbe7cbf562f8",
        "id": "A8n-uJAELuEn"
      },
      "execution_count": 41,
      "outputs": [
        {
          "output_type": "stream",
          "name": "stdout",
          "text": [
            "----------------------------------------------------------------\n",
            "        Layer (type)               Output Shape         Param #\n",
            "================================================================\n",
            "            Conv2d-1            [4, 16, 32, 32]             448\n",
            "            Conv2d-2            [4, 32, 16, 16]           4,640\n",
            "       BatchNorm2d-3              [4, 32, 8, 8]              64\n",
            "            Conv2d-4              [4, 64, 8, 8]          18,496\n",
            "            Linear-5                    [4, 64]          65,600\n",
            "            Linear-6                    [4, 10]             650\n",
            "================================================================\n",
            "Total params: 89,898\n",
            "Trainable params: 89,898\n",
            "Non-trainable params: 0\n",
            "----------------------------------------------------------------\n",
            "Input size (MB): 0.05\n",
            "Forward/backward pass size (MB): 0.94\n",
            "Params size (MB): 0.34\n",
            "Estimated Total Size (MB): 1.33\n",
            "----------------------------------------------------------------\n"
          ]
        }
      ]
    },
    {
      "cell_type": "markdown",
      "metadata": {
        "id": "bfjz_XpYLuEn"
      },
      "source": [
        "## 손실함수와 옵티마이저"
      ]
    },
    {
      "cell_type": "code",
      "metadata": {
        "id": "CqXfP3FLLuEn"
      },
      "source": [
        "criterion = nn.CrossEntropyLoss() # 다중분류; CrossEntropyLoss\n",
        "optimizer3 = optim.SGD(myNet3.parameters(), lr=0.001, momentum=0.9) # SGD; lr=0.001 & momentum=0.9"
      ],
      "execution_count": 42,
      "outputs": []
    },
    {
      "cell_type": "markdown",
      "metadata": {
        "id": "_NhoIoyfLuEn"
      },
      "source": [
        "## 모델 학습"
      ]
    },
    {
      "cell_type": "code",
      "metadata": {
        "colab": {
          "base_uri": "https://localhost:8080/"
        },
        "outputId": "8a6195dd-a78a-4f2c-d9e1-cc760c842f4f",
        "id": "V2QxzqopLuEo"
      },
      "source": [
        "# epochs = 10\n",
        "\n",
        "for epoch in range(10):\n",
        "    running_loss = 0.0\n",
        "\n",
        "    for i, data in enumerate(train_loader, 0):\n",
        "        inputs, labels = data[0].to(device), data[1].to(device)\n",
        "\n",
        "        optimizer3.zero_grad() # 가중치 초기화\n",
        "\n",
        "        y_pred = myNet3(inputs) # y_pred\n",
        "        loss = criterion(y_pred, labels) # 손실함수를 이용해서 loss계산\n",
        "        loss.backward()  # back-propagation\n",
        "        optimizer3.step() # 가중치 업데이트\n",
        "\n",
        "        running_loss += loss.item()\n",
        "        if i % 2000 == 1999:\n",
        "            print(\"Epoch: {}, Batch: {}, Loss: {}\".format(epoch+1, i+1, running_loss/2000))\n",
        "            running_loss = 0.0"
      ],
      "execution_count": 43,
      "outputs": [
        {
          "output_type": "stream",
          "name": "stdout",
          "text": [
            "Epoch: 1, Batch: 2000, Loss: 1.7408435100317001\n",
            "Epoch: 1, Batch: 4000, Loss: 1.4576258484423161\n",
            "Epoch: 1, Batch: 6000, Loss: 1.3150781997516752\n",
            "Epoch: 1, Batch: 8000, Loss: 1.2055950712636112\n",
            "Epoch: 1, Batch: 10000, Loss: 1.135157524369657\n",
            "Epoch: 1, Batch: 12000, Loss: 1.0799253433505074\n",
            "Epoch: 2, Batch: 2000, Loss: 1.0074747532699257\n",
            "Epoch: 2, Batch: 4000, Loss: 0.9633566287141293\n",
            "Epoch: 2, Batch: 6000, Loss: 0.9354793101260439\n",
            "Epoch: 2, Batch: 8000, Loss: 0.9296738360049203\n",
            "Epoch: 2, Batch: 10000, Loss: 0.9304865392986685\n",
            "Epoch: 2, Batch: 12000, Loss: 0.8752222172878683\n",
            "Epoch: 3, Batch: 2000, Loss: 0.7957357744970359\n",
            "Epoch: 3, Batch: 4000, Loss: 0.803426974425558\n",
            "Epoch: 3, Batch: 6000, Loss: 0.8048674562498928\n",
            "Epoch: 3, Batch: 8000, Loss: 0.7873959144006949\n",
            "Epoch: 3, Batch: 10000, Loss: 0.793718789939885\n",
            "Epoch: 3, Batch: 12000, Loss: 0.7896431087104138\n",
            "Epoch: 4, Batch: 2000, Loss: 0.6940915743662044\n",
            "Epoch: 4, Batch: 4000, Loss: 0.7219570997008122\n",
            "Epoch: 4, Batch: 6000, Loss: 0.7070177275878378\n",
            "Epoch: 4, Batch: 8000, Loss: 0.7211646136982308\n",
            "Epoch: 4, Batch: 10000, Loss: 0.7006570587003371\n",
            "Epoch: 4, Batch: 12000, Loss: 0.7184393843559083\n",
            "Epoch: 5, Batch: 2000, Loss: 0.6168319936377811\n",
            "Epoch: 5, Batch: 4000, Loss: 0.6112686250568368\n",
            "Epoch: 5, Batch: 6000, Loss: 0.6712789041537326\n",
            "Epoch: 5, Batch: 8000, Loss: 0.6503654774107271\n",
            "Epoch: 5, Batch: 10000, Loss: 0.6502062648018182\n",
            "Epoch: 5, Batch: 12000, Loss: 0.656242937670846\n",
            "Epoch: 6, Batch: 2000, Loss: 0.5615199157037423\n",
            "Epoch: 6, Batch: 4000, Loss: 0.5564675140707405\n",
            "Epoch: 6, Batch: 6000, Loss: 0.5943425416905375\n",
            "Epoch: 6, Batch: 8000, Loss: 0.6074932785164274\n",
            "Epoch: 6, Batch: 10000, Loss: 0.595812779216918\n",
            "Epoch: 6, Batch: 12000, Loss: 0.6019882171352511\n",
            "Epoch: 7, Batch: 2000, Loss: 0.4792098052099027\n",
            "Epoch: 7, Batch: 4000, Loss: 0.5329688308943296\n",
            "Epoch: 7, Batch: 6000, Loss: 0.5506228114757978\n",
            "Epoch: 7, Batch: 8000, Loss: 0.5487150708623231\n",
            "Epoch: 7, Batch: 10000, Loss: 0.5560407660718338\n",
            "Epoch: 7, Batch: 12000, Loss: 0.5665976146784378\n",
            "Epoch: 8, Batch: 2000, Loss: 0.4531863140449277\n",
            "Epoch: 8, Batch: 4000, Loss: 0.49389937034756803\n",
            "Epoch: 8, Batch: 6000, Loss: 0.5030965149003532\n",
            "Epoch: 8, Batch: 8000, Loss: 0.517832373183046\n",
            "Epoch: 8, Batch: 10000, Loss: 0.5155784001211141\n",
            "Epoch: 8, Batch: 12000, Loss: 0.5149692638048801\n",
            "Epoch: 9, Batch: 2000, Loss: 0.40744815529286277\n",
            "Epoch: 9, Batch: 4000, Loss: 0.44722201507620774\n",
            "Epoch: 9, Batch: 6000, Loss: 0.45789318424656084\n",
            "Epoch: 9, Batch: 8000, Loss: 0.47808273823859054\n",
            "Epoch: 9, Batch: 10000, Loss: 0.4947301540339249\n",
            "Epoch: 9, Batch: 12000, Loss: 0.48666896112407265\n",
            "Epoch: 10, Batch: 2000, Loss: 0.3853560085132776\n",
            "Epoch: 10, Batch: 4000, Loss: 0.41414914924980983\n",
            "Epoch: 10, Batch: 6000, Loss: 0.43426559971320966\n",
            "Epoch: 10, Batch: 8000, Loss: 0.43368839360031414\n",
            "Epoch: 10, Batch: 10000, Loss: 0.45136966615535495\n",
            "Epoch: 10, Batch: 12000, Loss: 0.4561698632805055\n"
          ]
        }
      ]
    },
    {
      "cell_type": "markdown",
      "metadata": {
        "id": "GjjnsPW7LuEo"
      },
      "source": [
        "## 모델의 저장 및 로드"
      ]
    },
    {
      "cell_type": "code",
      "metadata": {
        "colab": {
          "base_uri": "https://localhost:8080/",
          "height": 153
        },
        "outputId": "260b6061-4e0c-42e6-95ce-2db926e24189",
        "id": "oA5yDryfLuEo"
      },
      "source": [
        "# 잘 학습된 모델인지 간단히 한 batch에 대해서 확인\n",
        "\n",
        "dataiter = iter(test_loader)\n",
        "images, labels = next(dataiter)\n",
        "\n",
        "imshow(torchvision.utils.make_grid(images))\n",
        "print(' '.join('\\t{}'.format(class_list[labels[j]]) for j in range(4))) # batch-size = 4"
      ],
      "execution_count": 44,
      "outputs": [
        {
          "output_type": "display_data",
          "data": {
            "text/plain": [
              "<Figure size 432x288 with 1 Axes>"
            ],
            "image/png": "[encoded data removed]"
          },
          "metadata": {}
        },
        {
          "output_type": "stream",
          "name": "stdout",
          "text": [
            "\tcat \tship \tship \tplane\n"
          ]
        }
      ]
    },
    {
      "cell_type": "code",
      "metadata": {
        "id": "NAc71zAOLuEo"
      },
      "source": [
        "# 저장\n",
        "\n",
        "PATH = './cifar_net3.pth'\n",
        "torch.save(myNet3.state_dict(), PATH)"
      ],
      "execution_count": 45,
      "outputs": []
    },
    {
      "cell_type": "code",
      "metadata": {
        "colab": {
          "base_uri": "https://localhost:8080/"
        },
        "outputId": "bdbe595b-e39c-41d3-aa1c-a016e56d019d",
        "id": "PHbReLv2LuEo"
      },
      "source": [
        "# 불러오기\n",
        "\n",
        "Loaded_Net3 = Net3().to(device)\n",
        "Loaded_Net3.load_state_dict(torch.load(PATH))"
      ],
      "execution_count": 46,
      "outputs": [
        {
          "output_type": "execute_result",
          "data": {
            "text/plain": [
              "<All keys matched successfully>"
            ]
          },
          "metadata": {},
          "execution_count": 46
        }
      ]
    },
    {
      "cell_type": "markdown",
      "metadata": {
        "id": "ND5RpJaQLuEo"
      },
      "source": [
        "## 모델 테스트\n",
        "* 조건\n",
        "> 전체 accuracy가 70% 이상이어야한다.<br>\n",
        "> 각각의 class에 대한 accuracy는 60% 이상이어야한다."
      ]
    },
    {
      "cell_type": "code",
      "metadata": {
        "colab": {
          "base_uri": "https://localhost:8080/"
        },
        "outputId": "16eb7ce8-edd7-4427-8594-1fcd21b0cdf1",
        "id": "g5VHun1lLuEo"
      },
      "source": [
        "# 전체 accuracy 확인; 70% 이상 성능값\n",
        "\n",
        "correct3 = 0\n",
        "total3 = 0\n",
        "\n",
        "with torch.no_grad():\n",
        "    for data in test_loader:\n",
        "        images, labels = data[0].to(device), data[1].to(device) # model객체도 gpu에 저장했음으로, 사용되는 데이터도 gpu에 저장한다.; to(device) 사용\n",
        "        y_pred = myNet3(images)                                             # y_pred\n",
        "        _, predicted = torch.max(y_pred.data, axis=1)  # 확률이 가장 큰 것의 label을 최종 예측값으로 선택\n",
        "        total3 += labels.size(0) # 전체 갯수\n",
        "        correct3 += (predicted == labels).sum().item()   # 맞춘 갯수\n",
        "    \n",
        "    print(100 * correct3 / total3)"
      ],
      "execution_count": 47,
      "outputs": [
        {
          "output_type": "stream",
          "name": "stdout",
          "text": [
            "73.12\n"
          ]
        }
      ]
    },
    {
      "cell_type": "markdown",
      "metadata": {
        "id": "NenAwxuBLuEo"
      },
      "source": [
        "- 어떤 것을 잘 분류했고, 잘 못했는지 확인"
      ]
    },
    {
      "cell_type": "code",
      "metadata": {
        "colab": {
          "base_uri": "https://localhost:8080/"
        },
        "outputId": "31be361b-e280-4efd-f5e4-3c70e8f9c1cd",
        "id": "lpNTbBLlLuEp"
      },
      "source": [
        "# 각각의 class에 대한 accuracy 확인; 각각의 class에 대한 60% 이상 성능값\n",
        "\n",
        "class_correct3 = list(0. for i in range(10))\n",
        "class_total3 = list(0. for i in range(10))\n",
        "\n",
        "with torch.no_grad():\n",
        "    for data in test_loader:\n",
        "        images, labels = data[0].to(device), data[1].to(device)\n",
        "        outputs = Loaded_Net3(images)\n",
        "        _, predicted = torch.max(outputs.data, axis=1)\n",
        "        c = (predicted == labels).squeeze()\n",
        "        for i in range(4): # 각각의 batch(batch-size : 4) 마다 계싼\n",
        "            label = labels[i]\n",
        "            class_correct3[label] += c[i].item()\n",
        "            class_total3[label] += 1\n",
        "\n",
        "for i in range(10):\n",
        "    print(\"Accuracy of {}: {}%\".format(class_list[i], 100 * class_correct3[i] / class_total3[i]))"
      ],
      "execution_count": 48,
      "outputs": [
        {
          "output_type": "stream",
          "name": "stdout",
          "text": [
            "Accuracy of plane: 78.2%\n",
            "Accuracy of car: 79.7%\n",
            "Accuracy of bird: 55.7%\n",
            "Accuracy of cat: 56.8%\n",
            "Accuracy of deer: 63.7%\n",
            "Accuracy of dog: 63.6%\n",
            "Accuracy of frog: 84.8%\n",
            "Accuracy of horse: 81.8%\n",
            "Accuracy of ship: 82.8%\n",
            "Accuracy of truck: 84.1%\n"
          ]
        }
      ]
    },
    {
      "cell_type": "code",
      "source": [],
      "metadata": {
        "id": "LPkRBucDQYCw"
      },
      "execution_count": null,
      "outputs": []
    },
    {
      "cell_type": "markdown",
      "source": [
        "# 모델 4"
      ],
      "metadata": {
        "id": "JUSgOZlTaW42"
      }
    },
    {
      "cell_type": "code",
      "source": [
        "class Net4(nn.Module):\n",
        "    def __init__(self):\n",
        "      super(Net4, self).__init__()\n",
        "      self.conv1 = nn.Conv2d(in_channels=3, out_channels=16, kernel_size=3, stride=1, padding=1)\n",
        "      self.conv2 = nn.Conv2d(16, 32, 3, 1, padding=1)\n",
        "      self.conv3 = nn.Conv2d(32, 64, 3, 1, padding=1)\n",
        "      self.fc1 = nn.Linear(4*4*64, 64)\n",
        "      self.fc2 = nn.Linear(64, 10)\n",
        "      self.bn1 = nn.BatchNorm2d(16)\n",
        "      self.bn2 = nn.BatchNorm2d(32)\n",
        "      self.bn3 = nn.BatchNorm2d(64)\n",
        "      \n",
        "    def forward(self, x):\n",
        "      x = F.relu(self.bn1(self.conv1(x)))\n",
        "      x = F.max_pool2d(x, (2,))\n",
        "      x = F.relu(self.bn2(self.conv2(x)))\n",
        "      x = F.max_pool2d(x, (2,))\n",
        "      x = F.relu(self.bn3(self.conv3(x)))\n",
        "      x = F.max_pool2d(x, (2,))\n",
        "      x = x.view(-1, self.num_flat_features(x))\n",
        "      x = F.relu(self.fc1(x))\n",
        "      x = self.fc2(x)\n",
        "\n",
        "      return x\n",
        "\n",
        "    def num_flat_features(self, x): # 처음 dim-size을 제외하고, 모두 곱한 값을 반환해준다.\n",
        "        size = x.size()[1:]\n",
        "        num_features = 1\n",
        "        for s in size:\n",
        "            num_features *= s\n",
        "        \n",
        "        return num_features"
      ],
      "metadata": {
        "id": "6GL0u24TabW-"
      },
      "execution_count": 50,
      "outputs": []
    },
    {
      "cell_type": "code",
      "source": [
        "myNet4 = Net4().to(device)"
      ],
      "metadata": {
        "id": "vmOK-dsqabW_"
      },
      "execution_count": 51,
      "outputs": []
    },
    {
      "cell_type": "code",
      "source": [
        "# output; (4 * 10)\n",
        "\n",
        "output4 = myNet4.forward(input)\n",
        "output4.size()"
      ],
      "metadata": {
        "colab": {
          "base_uri": "https://localhost:8080/"
        },
        "outputId": "7c5ce27f-230f-47cf-f7ef-8b781b57d7b4",
        "id": "0yU-cRhXabW_"
      },
      "execution_count": 52,
      "outputs": [
        {
          "output_type": "execute_result",
          "data": {
            "text/plain": [
              "torch.Size([4, 10])"
            ]
          },
          "metadata": {},
          "execution_count": 52
        }
      ]
    },
    {
      "cell_type": "code",
      "source": [
        "# 모델 구조 확인\n",
        "\n",
        "summary(myNet4, input_size=(3, 32, 32), batch_size=4)"
      ],
      "metadata": {
        "colab": {
          "base_uri": "https://localhost:8080/"
        },
        "outputId": "1f61a321-9a5e-4cc4-ea5e-845c244ad689",
        "id": "-JLrHzqvabW_"
      },
      "execution_count": 53,
      "outputs": [
        {
          "output_type": "stream",
          "name": "stdout",
          "text": [
            "----------------------------------------------------------------\n",
            "        Layer (type)               Output Shape         Param #\n",
            "================================================================\n",
            "            Conv2d-1            [4, 16, 32, 32]             448\n",
            "       BatchNorm2d-2            [4, 16, 32, 32]              32\n",
            "            Conv2d-3            [4, 32, 16, 16]           4,640\n",
            "       BatchNorm2d-4            [4, 32, 16, 16]              64\n",
            "            Conv2d-5              [4, 64, 8, 8]          18,496\n",
            "       BatchNorm2d-6              [4, 64, 8, 8]             128\n",
            "            Linear-7                    [4, 64]          65,600\n",
            "            Linear-8                    [4, 10]             650\n",
            "================================================================\n",
            "Total params: 90,058\n",
            "Trainable params: 90,058\n",
            "Non-trainable params: 0\n",
            "----------------------------------------------------------------\n",
            "Input size (MB): 0.05\n",
            "Forward/backward pass size (MB): 1.75\n",
            "Params size (MB): 0.34\n",
            "Estimated Total Size (MB): 2.14\n",
            "----------------------------------------------------------------\n"
          ]
        }
      ]
    },
    {
      "cell_type": "markdown",
      "metadata": {
        "id": "PS38H1VqabW_"
      },
      "source": [
        "## 손실함수와 옵티마이저"
      ]
    },
    {
      "cell_type": "code",
      "metadata": {
        "id": "KOf7D4O0abW_"
      },
      "source": [
        "criterion = nn.CrossEntropyLoss() # 다중분류; CrossEntropyLoss\n",
        "optimizer4 = optim.SGD(myNet4.parameters(), lr=0.001, momentum=0.9) # SGD; lr=0.001 & momentum=0.9"
      ],
      "execution_count": 54,
      "outputs": []
    },
    {
      "cell_type": "markdown",
      "metadata": {
        "id": "6JZaeueCabW_"
      },
      "source": [
        "## 모델 학습"
      ]
    },
    {
      "cell_type": "code",
      "metadata": {
        "colab": {
          "base_uri": "https://localhost:8080/"
        },
        "outputId": "b5142fc4-8c0e-49c4-b5f4-0135637c15fb",
        "id": "dsv1vaAkabW_"
      },
      "source": [
        "# epochs = 10\n",
        "\n",
        "for epoch in range(10):\n",
        "    running_loss = 0.0\n",
        "\n",
        "    for i, data in enumerate(train_loader, 0):\n",
        "        inputs, labels = data[0].to(device), data[1].to(device)\n",
        "\n",
        "        optimizer4.zero_grad() # 가중치 초기화\n",
        "\n",
        "        y_pred = myNet4(inputs) # y_pred\n",
        "        loss = criterion(y_pred, labels) # 손실함수를 이용해서 loss계산\n",
        "        loss.backward()  # back-propagation\n",
        "        optimizer4.step() # 가중치 업데이트\n",
        "\n",
        "        running_loss += loss.item()\n",
        "        if i % 2000 == 1999:\n",
        "            print(\"Epoch: {}, Batch: {}, Loss: {}\".format(epoch+1, i+1, running_loss/2000))\n",
        "            running_loss = 0.0"
      ],
      "execution_count": 55,
      "outputs": [
        {
          "output_type": "stream",
          "name": "stdout",
          "text": [
            "Epoch: 1, Batch: 2000, Loss: 1.7479746716320514\n",
            "Epoch: 1, Batch: 4000, Loss: 1.465475874260068\n",
            "Epoch: 1, Batch: 6000, Loss: 1.335789485629648\n",
            "Epoch: 1, Batch: 8000, Loss: 1.2596652325876057\n",
            "Epoch: 1, Batch: 10000, Loss: 1.206718226786703\n",
            "Epoch: 1, Batch: 12000, Loss: 1.1617772353552283\n",
            "Epoch: 2, Batch: 2000, Loss: 1.0564573279060423\n",
            "Epoch: 2, Batch: 4000, Loss: 1.034114745080471\n",
            "Epoch: 2, Batch: 6000, Loss: 1.0086439634840936\n",
            "Epoch: 2, Batch: 8000, Loss: 0.9899886647481472\n",
            "Epoch: 2, Batch: 10000, Loss: 0.9643627135134302\n",
            "Epoch: 2, Batch: 12000, Loss: 0.9487046124190092\n",
            "Epoch: 3, Batch: 2000, Loss: 0.8729316776283086\n",
            "Epoch: 3, Batch: 4000, Loss: 0.8470482930620201\n",
            "Epoch: 3, Batch: 6000, Loss: 0.8516113296002149\n",
            "Epoch: 3, Batch: 8000, Loss: 0.8596101244129241\n",
            "Epoch: 3, Batch: 10000, Loss: 0.8555275909183547\n",
            "Epoch: 3, Batch: 12000, Loss: 0.8168838971741498\n",
            "Epoch: 4, Batch: 2000, Loss: 0.7638430837122724\n",
            "Epoch: 4, Batch: 4000, Loss: 0.776288016019389\n",
            "Epoch: 4, Batch: 6000, Loss: 0.7480132666262798\n",
            "Epoch: 4, Batch: 8000, Loss: 0.7680986977769062\n",
            "Epoch: 4, Batch: 10000, Loss: 0.7624593639844097\n",
            "Epoch: 4, Batch: 12000, Loss: 0.7665047524932306\n",
            "Epoch: 5, Batch: 2000, Loss: 0.7003163838048931\n",
            "Epoch: 5, Batch: 4000, Loss: 0.7034871716010385\n",
            "Epoch: 5, Batch: 6000, Loss: 0.680918938281713\n",
            "Epoch: 5, Batch: 8000, Loss: 0.7075754165959078\n",
            "Epoch: 5, Batch: 10000, Loss: 0.7003020779793151\n",
            "Epoch: 5, Batch: 12000, Loss: 0.710978662715992\n",
            "Epoch: 6, Batch: 2000, Loss: 0.6243590267577674\n",
            "Epoch: 6, Batch: 4000, Loss: 0.6350557076714467\n",
            "Epoch: 6, Batch: 6000, Loss: 0.6657050854095723\n",
            "Epoch: 6, Batch: 8000, Loss: 0.6591420618678676\n",
            "Epoch: 6, Batch: 10000, Loss: 0.654024251334602\n",
            "Epoch: 6, Batch: 12000, Loss: 0.6742342361724004\n",
            "Epoch: 7, Batch: 2000, Loss: 0.579995109799318\n",
            "Epoch: 7, Batch: 4000, Loss: 0.5936037924524862\n",
            "Epoch: 7, Batch: 6000, Loss: 0.6036281729548937\n",
            "Epoch: 7, Batch: 8000, Loss: 0.6392516728105547\n",
            "Epoch: 7, Batch: 10000, Loss: 0.6272920974884765\n",
            "Epoch: 7, Batch: 12000, Loss: 0.6281823059078306\n",
            "Epoch: 8, Batch: 2000, Loss: 0.5346147525553825\n",
            "Epoch: 8, Batch: 4000, Loss: 0.5721262937067076\n",
            "Epoch: 8, Batch: 6000, Loss: 0.5764724934775731\n",
            "Epoch: 8, Batch: 8000, Loss: 0.5990902971801115\n",
            "Epoch: 8, Batch: 10000, Loss: 0.5974180059003993\n",
            "Epoch: 8, Batch: 12000, Loss: 0.5742570999964374\n",
            "Epoch: 9, Batch: 2000, Loss: 0.5050786462647957\n",
            "Epoch: 9, Batch: 4000, Loss: 0.5283050811614376\n",
            "Epoch: 9, Batch: 6000, Loss: 0.5557488016842254\n",
            "Epoch: 9, Batch: 8000, Loss: 0.5443304340146715\n",
            "Epoch: 9, Batch: 10000, Loss: 0.5541980959804205\n",
            "Epoch: 9, Batch: 12000, Loss: 0.5373204594086565\n",
            "Epoch: 10, Batch: 2000, Loss: 0.4986866729558678\n",
            "Epoch: 10, Batch: 4000, Loss: 0.4949158037886664\n",
            "Epoch: 10, Batch: 6000, Loss: 0.5079025733199087\n",
            "Epoch: 10, Batch: 8000, Loss: 0.5363797750353988\n",
            "Epoch: 10, Batch: 10000, Loss: 0.5361758521788288\n",
            "Epoch: 10, Batch: 12000, Loss: 0.5215713176226127\n"
          ]
        }
      ]
    },
    {
      "cell_type": "markdown",
      "metadata": {
        "id": "kEj1l9c8abXA"
      },
      "source": [
        "## 모델의 저장 및 로드"
      ]
    },
    {
      "cell_type": "code",
      "metadata": {
        "colab": {
          "base_uri": "https://localhost:8080/",
          "height": 153
        },
        "outputId": "bd10664e-42a2-4cde-9d3c-40f80a5d14b1",
        "id": "9jaRbzwpabXA"
      },
      "source": [
        "# 잘 학습된 모델인지 간단히 한 batch에 대해서 확인\n",
        "\n",
        "dataiter = iter(test_loader)\n",
        "images, labels = next(dataiter)\n",
        "\n",
        "imshow(torchvision.utils.make_grid(images))\n",
        "print(' '.join('\\t{}'.format(class_list[labels[j]]) for j in range(4))) # batch-size = 4"
      ],
      "execution_count": 56,
      "outputs": [
        {
          "output_type": "display_data",
          "data": {
            "text/plain": [
              "<Figure size 432x288 with 1 Axes>"
            ],
            "image/png": "[encoded data removed]"
          },
          "metadata": {}
        },
        {
          "output_type": "stream",
          "name": "stdout",
          "text": [
            "\tcat \tship \tship \tplane\n"
          ]
        }
      ]
    },
    {
      "cell_type": "code",
      "metadata": {
        "id": "xZwoeLtmabXA"
      },
      "source": [
        "# 저장\n",
        "\n",
        "PATH = './cifar_net4.pth'\n",
        "torch.save(myNet4.state_dict(), PATH)"
      ],
      "execution_count": 57,
      "outputs": []
    },
    {
      "cell_type": "code",
      "metadata": {
        "colab": {
          "base_uri": "https://localhost:8080/"
        },
        "outputId": "f84dc049-5cc0-4eec-a95a-6ac55ccb5d8a",
        "id": "jW1BUeaxabXA"
      },
      "source": [
        "# 불러오기\n",
        "\n",
        "Loaded_Net4 = Net4().to(device)\n",
        "Loaded_Net4.load_state_dict(torch.load(PATH))"
      ],
      "execution_count": 58,
      "outputs": [
        {
          "output_type": "execute_result",
          "data": {
            "text/plain": [
              "<All keys matched successfully>"
            ]
          },
          "metadata": {},
          "execution_count": 58
        }
      ]
    },
    {
      "cell_type": "markdown",
      "metadata": {
        "id": "UPin7gHnabXA"
      },
      "source": [
        "## 모델 테스트\n",
        "* 조건\n",
        "> 전체 accuracy가 70% 이상이어야한다.<br>\n",
        "> 각각의 class에 대한 accuracy는 60% 이상이어야한다."
      ]
    },
    {
      "cell_type": "code",
      "metadata": {
        "colab": {
          "base_uri": "https://localhost:8080/"
        },
        "outputId": "1df39600-245c-49c1-8fd5-73f9cf7d00ce",
        "id": "7gFsYmW2abXA"
      },
      "source": [
        "# 전체 accuracy 확인; 70% 이상 성능값\n",
        "\n",
        "correct4 = 0\n",
        "total4 = 0\n",
        "\n",
        "with torch.no_grad():\n",
        "    for data in test_loader:\n",
        "        images, labels = data[0].to(device), data[1].to(device) # model객체도 gpu에 저장했음으로, 사용되는 데이터도 gpu에 저장한다.; to(device) 사용\n",
        "        y_pred = myNet4(images)                                             # y_pred\n",
        "        _, predicted = torch.max(y_pred.data, axis=1)  # 확률이 가장 큰 것의 label을 최종 예측값으로 선택\n",
        "        total4 += labels.size(0) # 전체 갯수\n",
        "        correct4 += (predicted == labels).sum().item()   # 맞춘 갯수\n",
        "    \n",
        "    print(100 * correct4 / total4)"
      ],
      "execution_count": 59,
      "outputs": [
        {
          "output_type": "stream",
          "name": "stdout",
          "text": [
            "74.28\n"
          ]
        }
      ]
    },
    {
      "cell_type": "markdown",
      "metadata": {
        "id": "ZuTJ64r1abXA"
      },
      "source": [
        "- 어떤 것을 잘 분류했고, 잘 못했는지 확인"
      ]
    },
    {
      "cell_type": "code",
      "metadata": {
        "colab": {
          "base_uri": "https://localhost:8080/"
        },
        "outputId": "ae207d52-9363-4333-d677-d2032bc6ee36",
        "id": "N4p2OQHWabXA"
      },
      "source": [
        "# 각각의 class에 대한 accuracy 확인; 각각의 class에 대한 60% 이상 성능값\n",
        "\n",
        "class_correct4 = list(0. for i in range(10))\n",
        "class_total4 = list(0. for i in range(10))\n",
        "\n",
        "with torch.no_grad():\n",
        "    for data in test_loader:\n",
        "        images, labels = data[0].to(device), data[1].to(device)\n",
        "        outputs = Loaded_Net4(images)\n",
        "        _, predicted = torch.max(outputs.data, axis=1)\n",
        "        c = (predicted == labels).squeeze()\n",
        "        for i in range(4): # 각각의 batch(batch-size : 4) 마다 계싼\n",
        "            label = labels[i]\n",
        "            class_correct4[label] += c[i].item()\n",
        "            class_total4[label] += 1\n",
        "\n",
        "for i in range(10):\n",
        "    print(\"Accuracy of {}: {}%\".format(class_list[i], 100 * class_correct4[i] / class_total4[i]))"
      ],
      "execution_count": 60,
      "outputs": [
        {
          "output_type": "stream",
          "name": "stdout",
          "text": [
            "Accuracy of plane: 82.6%\n",
            "Accuracy of car: 80.3%\n",
            "Accuracy of bird: 66.9%\n",
            "Accuracy of cat: 55.3%\n",
            "Accuracy of deer: 72.6%\n",
            "Accuracy of dog: 59.0%\n",
            "Accuracy of frog: 83.5%\n",
            "Accuracy of horse: 76.2%\n",
            "Accuracy of ship: 80.6%\n",
            "Accuracy of truck: 85.8%\n"
          ]
        }
      ]
    },
    {
      "cell_type": "markdown",
      "source": [
        "# 모델 5"
      ],
      "metadata": {
        "id": "KrcY5Lsvg7xe"
      }
    },
    {
      "cell_type": "code",
      "source": [
        "class Net5(nn.Module):\n",
        "    def __init__(self):\n",
        "        super(Net5, self).__init__()\n",
        "        \n",
        "        self.conv1 = nn.Sequential(\n",
        "            nn.Conv2d(in_channels=3, out_channels=64, kernel_size=3, padding=1),\n",
        "            nn.BatchNorm2d(64),\n",
        "            nn.ReLU(inplace=True)\n",
        "        )\n",
        "        self.conv2 = nn.Sequential(\n",
        "            nn.Conv2d(64, 128, 3, padding=1),\n",
        "            nn.BatchNorm2d(128),\n",
        "            nn.ReLU(inplace=True),\n",
        "            nn.MaxPool2d(2)\n",
        "        )\n",
        "\n",
        "        self.res1 = nn.Sequential(nn.Sequential(\n",
        "            nn.Conv2d(128, 128, 3, padding=1),\n",
        "            nn.BatchNorm2d(128),\n",
        "            nn.ReLU(inplace=True)\n",
        "        ), nn.Sequential(\n",
        "            nn.Conv2d(128, 128, 3, padding=1),\n",
        "            nn.BatchNorm2d(128),\n",
        "            nn.ReLU(inplace=True))\n",
        "        )\n",
        "        \n",
        "        self.conv3 = nn.Sequential(\n",
        "            nn.Conv2d(128, 256, 3, padding=1),\n",
        "            nn.BatchNorm2d(256),\n",
        "            nn.ReLU(inplace=True),\n",
        "            nn.MaxPool2d(2)\n",
        "        )\n",
        "        self.conv4 = nn.Sequential(\n",
        "            nn.Conv2d(256, 512, 3, padding=1),\n",
        "            nn.BatchNorm2d(512),\n",
        "            nn.ReLU(inplace=True),\n",
        "            nn.MaxPool2d(2)\n",
        "        )\n",
        "\n",
        "        self.res2 = nn.Sequential(nn.Sequential(\n",
        "            nn.Conv2d(512, 512, 3, padding=1),\n",
        "            nn.BatchNorm2d(512),\n",
        "            nn.ReLU(inplace=True)\n",
        "        ), nn.Sequential( \n",
        "            nn.Conv2d(512, 512, 3, padding=1),\n",
        "            nn.BatchNorm2d(512),\n",
        "            nn.ReLU(inplace=True))\n",
        "        )\n",
        "\n",
        "        self.classifier = nn.Sequential(\n",
        "            nn.MaxPool2d(4), \n",
        "            nn.Flatten(), \n",
        "            nn.Linear(512, 10)\n",
        "        )\n",
        "        \n",
        "    def forward(self, x):\n",
        "        x = self.conv1(x)\n",
        "        x = self.conv2(x)\n",
        "        x = self.res1(x) + x\n",
        "        x = self.conv3(x)\n",
        "        x = self.conv4(x)\n",
        "        x = self.res2(x) + x\n",
        "        x = self.classifier(x)\n",
        "        \n",
        "        return x\n"
      ],
      "metadata": {
        "id": "GG1u72uBg_ai"
      },
      "execution_count": 13,
      "outputs": []
    },
    {
      "cell_type": "code",
      "source": [
        "myNet5 = Net5().to(device)"
      ],
      "metadata": {
        "id": "-aWk6UNMg_aj"
      },
      "execution_count": 14,
      "outputs": []
    },
    {
      "cell_type": "code",
      "source": [
        "# output; (4 * 10)\n",
        "\n",
        "output5 = myNet5.forward(input)\n",
        "output5.size()"
      ],
      "metadata": {
        "colab": {
          "base_uri": "https://localhost:8080/"
        },
        "outputId": "f4f661a0-5b40-4362-fb09-3a30eedb28b0",
        "id": "anz2i_FIg_aj"
      },
      "execution_count": 15,
      "outputs": [
        {
          "output_type": "execute_result",
          "data": {
            "text/plain": [
              "torch.Size([4, 10])"
            ]
          },
          "metadata": {},
          "execution_count": 15
        }
      ]
    },
    {
      "cell_type": "code",
      "source": [
        "# 모델 구조 확인\n",
        "\n",
        "summary(myNet5, input_size=(3, 32, 32), batch_size=4)"
      ],
      "metadata": {
        "colab": {
          "base_uri": "https://localhost:8080/"
        },
        "outputId": "4dabab0f-42ee-4bda-ad49-f8b30048728b",
        "id": "WePOR_qMg_aj"
      },
      "execution_count": 16,
      "outputs": [
        {
          "output_type": "stream",
          "name": "stdout",
          "text": [
            "----------------------------------------------------------------\n",
            "        Layer (type)               Output Shape         Param #\n",
            "================================================================\n",
            "            Conv2d-1            [4, 64, 32, 32]           1,792\n",
            "       BatchNorm2d-2            [4, 64, 32, 32]             128\n",
            "              ReLU-3            [4, 64, 32, 32]               0\n",
            "            Conv2d-4           [4, 128, 32, 32]          73,856\n",
            "       BatchNorm2d-5           [4, 128, 32, 32]             256\n",
            "              ReLU-6           [4, 128, 32, 32]               0\n",
            "         MaxPool2d-7           [4, 128, 16, 16]               0\n",
            "            Conv2d-8           [4, 128, 16, 16]         147,584\n",
            "       BatchNorm2d-9           [4, 128, 16, 16]             256\n",
            "             ReLU-10           [4, 128, 16, 16]               0\n",
            "           Conv2d-11           [4, 128, 16, 16]         147,584\n",
            "      BatchNorm2d-12           [4, 128, 16, 16]             256\n",
            "             ReLU-13           [4, 128, 16, 16]               0\n",
            "           Conv2d-14           [4, 256, 16, 16]         295,168\n",
            "      BatchNorm2d-15           [4, 256, 16, 16]             512\n",
            "             ReLU-16           [4, 256, 16, 16]               0\n",
            "        MaxPool2d-17             [4, 256, 8, 8]               0\n",
            "           Conv2d-18             [4, 512, 8, 8]       1,180,160\n",
            "      BatchNorm2d-19             [4, 512, 8, 8]           1,024\n",
            "             ReLU-20             [4, 512, 8, 8]               0\n",
            "        MaxPool2d-21             [4, 512, 4, 4]               0\n",
            "           Conv2d-22             [4, 512, 4, 4]       2,359,808\n",
            "      BatchNorm2d-23             [4, 512, 4, 4]           1,024\n",
            "             ReLU-24             [4, 512, 4, 4]               0\n",
            "           Conv2d-25             [4, 512, 4, 4]       2,359,808\n",
            "      BatchNorm2d-26             [4, 512, 4, 4]           1,024\n",
            "             ReLU-27             [4, 512, 4, 4]               0\n",
            "        MaxPool2d-28             [4, 512, 1, 1]               0\n",
            "          Flatten-29                   [4, 512]               0\n",
            "           Linear-30                    [4, 10]           5,130\n",
            "================================================================\n",
            "Total params: 6,575,370\n",
            "Trainable params: 6,575,370\n",
            "Non-trainable params: 0\n",
            "----------------------------------------------------------------\n",
            "Input size (MB): 0.05\n",
            "Forward/backward pass size (MB): 36.28\n",
            "Params size (MB): 25.08\n",
            "Estimated Total Size (MB): 61.41\n",
            "----------------------------------------------------------------\n"
          ]
        }
      ]
    },
    {
      "cell_type": "markdown",
      "metadata": {
        "id": "12qQSbWrg_aj"
      },
      "source": [
        "## 손실함수와 옵티마이저"
      ]
    },
    {
      "cell_type": "code",
      "metadata": {
        "id": "vD4m3LaWg_ak"
      },
      "source": [
        "criterion = nn.CrossEntropyLoss() # 다중분류; CrossEntropyLoss\n",
        "optimizer5 = optim.SGD(myNet5.parameters(), lr=0.001, momentum=0.9) # SGD; lr=0.001 & momentum=0.9"
      ],
      "execution_count": 17,
      "outputs": []
    },
    {
      "cell_type": "markdown",
      "metadata": {
        "id": "SpnoRb9ag_ak"
      },
      "source": [
        "## 모델 학습"
      ]
    },
    {
      "cell_type": "code",
      "metadata": {
        "colab": {
          "base_uri": "https://localhost:8080/"
        },
        "outputId": "fd3eca54-aa59-42ba-ece4-c094c4c8b668",
        "id": "XNhIa_zSg_ak"
      },
      "source": [
        "# epochs = 10\n",
        "\n",
        "for epoch in range(10):\n",
        "    running_loss = 0.0\n",
        "\n",
        "    for i, data in enumerate(train_loader, 0):\n",
        "        inputs, labels = data[0].to(device), data[1].to(device)\n",
        "\n",
        "        optimizer5.zero_grad() # 가중치 초기화\n",
        "\n",
        "        y_pred = myNet5(inputs) # y_pred\n",
        "        loss = criterion(y_pred, labels) # 손실함수를 이용해서 loss계산\n",
        "        loss.backward()  # back-propagation\n",
        "        optimizer5.step() # 가중치 업데이트\n",
        "\n",
        "        running_loss += loss.item()\n",
        "        if i % 2000 == 1999:\n",
        "            print(\"Epoch: {}, Batch: {}, Loss: {}\".format(epoch+1, i+1, running_loss/2000))\n",
        "            running_loss = 0.0"
      ],
      "execution_count": 18,
      "outputs": [
        {
          "output_type": "stream",
          "name": "stdout",
          "text": [
            "Epoch: 1, Batch: 2000, Loss: 3.0272886006236077\n",
            "Epoch: 1, Batch: 4000, Loss: 2.17025870475173\n",
            "Epoch: 1, Batch: 6000, Loss: 1.8783464467525481\n",
            "Epoch: 1, Batch: 8000, Loss: 1.7373099431991577\n",
            "Epoch: 1, Batch: 10000, Loss: 1.4945757301449776\n",
            "Epoch: 1, Batch: 12000, Loss: 1.413615225320682\n",
            "Epoch: 2, Batch: 2000, Loss: 1.2645893925614655\n",
            "Epoch: 2, Batch: 4000, Loss: 1.1352671270160937\n",
            "Epoch: 2, Batch: 6000, Loss: 1.1113466105340049\n",
            "Epoch: 2, Batch: 8000, Loss: 1.0485606567190262\n",
            "Epoch: 2, Batch: 10000, Loss: 0.9661415883100126\n",
            "Epoch: 2, Batch: 12000, Loss: 0.9171073239769321\n",
            "Epoch: 3, Batch: 2000, Loss: 0.8192387740346603\n",
            "Epoch: 3, Batch: 4000, Loss: 0.7973134603383951\n",
            "Epoch: 3, Batch: 6000, Loss: 0.774509567984147\n",
            "Epoch: 3, Batch: 8000, Loss: 0.7525029705832712\n",
            "Epoch: 3, Batch: 10000, Loss: 0.7334242596122204\n",
            "Epoch: 3, Batch: 12000, Loss: 0.7196772519788356\n",
            "Epoch: 4, Batch: 2000, Loss: 0.6103413684619009\n",
            "Epoch: 4, Batch: 4000, Loss: 0.6125630740846973\n",
            "Epoch: 4, Batch: 6000, Loss: 0.5954909985548875\n",
            "Epoch: 4, Batch: 8000, Loss: 0.5953545006889908\n",
            "Epoch: 4, Batch: 10000, Loss: 0.5798320533071856\n",
            "Epoch: 4, Batch: 12000, Loss: 0.5530901442497997\n",
            "Epoch: 5, Batch: 2000, Loss: 0.4679157984702615\n",
            "Epoch: 5, Batch: 4000, Loss: 0.4568125846171461\n",
            "Epoch: 5, Batch: 6000, Loss: 0.472824759805284\n",
            "Epoch: 5, Batch: 8000, Loss: 0.4655009619151824\n",
            "Epoch: 5, Batch: 10000, Loss: 0.4724565383198351\n",
            "Epoch: 5, Batch: 12000, Loss: 0.49216225850333284\n",
            "Epoch: 6, Batch: 2000, Loss: 0.34972140070565727\n",
            "Epoch: 6, Batch: 4000, Loss: 0.3388988318777865\n",
            "Epoch: 6, Batch: 6000, Loss: 0.3799257787840688\n",
            "Epoch: 6, Batch: 8000, Loss: 0.3772884827342932\n",
            "Epoch: 6, Batch: 10000, Loss: 0.385734770216568\n",
            "Epoch: 6, Batch: 12000, Loss: 0.3674151141014927\n",
            "Epoch: 7, Batch: 2000, Loss: 0.2728107814874656\n",
            "Epoch: 7, Batch: 4000, Loss: 0.2750063190861674\n",
            "Epoch: 7, Batch: 6000, Loss: 0.30971497623232425\n",
            "Epoch: 7, Batch: 8000, Loss: 0.3052538296712737\n",
            "Epoch: 7, Batch: 10000, Loss: 0.2979213630088761\n",
            "Epoch: 7, Batch: 12000, Loss: 0.3185395552532855\n",
            "Epoch: 8, Batch: 2000, Loss: 0.2058554560682153\n",
            "Epoch: 8, Batch: 4000, Loss: 0.20998868258917686\n",
            "Epoch: 8, Batch: 6000, Loss: 0.23435705198478626\n",
            "Epoch: 8, Batch: 8000, Loss: 0.23685595945125384\n",
            "Epoch: 8, Batch: 10000, Loss: 0.226044440410804\n",
            "Epoch: 8, Batch: 12000, Loss: 0.254143568672735\n",
            "Epoch: 9, Batch: 2000, Loss: 0.14303086097180534\n",
            "Epoch: 9, Batch: 4000, Loss: 0.14508684682693843\n",
            "Epoch: 9, Batch: 6000, Loss: 0.16252403285800643\n",
            "Epoch: 9, Batch: 8000, Loss: 0.20289484209727288\n",
            "Epoch: 9, Batch: 10000, Loss: 0.18573993485555684\n",
            "Epoch: 9, Batch: 12000, Loss: 0.2024553404922438\n",
            "Epoch: 10, Batch: 2000, Loss: 0.09954978035908466\n",
            "Epoch: 10, Batch: 4000, Loss: 0.11495235243588163\n",
            "Epoch: 10, Batch: 6000, Loss: 0.11475787627361259\n",
            "Epoch: 10, Batch: 8000, Loss: 0.12966782104288735\n",
            "Epoch: 10, Batch: 10000, Loss: 0.14367882029958037\n",
            "Epoch: 10, Batch: 12000, Loss: 0.13583701157438946\n"
          ]
        }
      ]
    },
    {
      "cell_type": "markdown",
      "metadata": {
        "id": "QSrev5D5g_ak"
      },
      "source": [
        "## 모델의 저장 및 로드"
      ]
    },
    {
      "cell_type": "code",
      "metadata": {
        "colab": {
          "base_uri": "https://localhost:8080/",
          "height": 153
        },
        "outputId": "164c18d7-a71f-498a-f679-70e23ef0ea4a",
        "id": "LfoYZBjCg_ak"
      },
      "source": [
        "# 잘 학습된 모델인지 간단히 한 batch에 대해서 확인\n",
        "\n",
        "dataiter = iter(test_loader)\n",
        "images, labels = next(dataiter)\n",
        "\n",
        "imshow(torchvision.utils.make_grid(images))\n",
        "print(' '.join('\\t{}'.format(class_list[labels[j]]) for j in range(4))) # batch-size = 4"
      ],
      "execution_count": 19,
      "outputs": [
        {
          "output_type": "display_data",
          "data": {
            "text/plain": [
              "<Figure size 432x288 with 1 Axes>"
            ],
            "image/png": "[encoded data removed]"
          },
          "metadata": {}
        },
        {
          "output_type": "stream",
          "name": "stdout",
          "text": [
            "\tcat \tship \tship \tplane\n"
          ]
        }
      ]
    },
    {
      "cell_type": "code",
      "metadata": {
        "id": "SjEjkLk4g_ak"
      },
      "source": [
        "# 저장\n",
        "\n",
        "PATH = './cifar_net5.pth'\n",
        "torch.save(myNet5.state_dict(), PATH)"
      ],
      "execution_count": 20,
      "outputs": []
    },
    {
      "cell_type": "code",
      "metadata": {
        "colab": {
          "base_uri": "https://localhost:8080/"
        },
        "outputId": "84e9765c-c67e-4c96-d9b9-cc7ba4370c0d",
        "id": "84_l3jqtg_ak"
      },
      "source": [
        "# 불러오기\n",
        "\n",
        "Loaded_Net5 = Net5().to(device)\n",
        "Loaded_Net5.load_state_dict(torch.load(PATH))"
      ],
      "execution_count": 21,
      "outputs": [
        {
          "output_type": "execute_result",
          "data": {
            "text/plain": [
              "<All keys matched successfully>"
            ]
          },
          "metadata": {},
          "execution_count": 21
        }
      ]
    },
    {
      "cell_type": "markdown",
      "metadata": {
        "id": "MV_dnUsKg_ak"
      },
      "source": [
        "## 모델 테스트\n",
        "* 조건\n",
        "> 전체 accuracy가 70% 이상이어야한다.<br>\n",
        "> 각각의 class에 대한 accuracy는 60% 이상이어야한다."
      ]
    },
    {
      "cell_type": "code",
      "metadata": {
        "colab": {
          "base_uri": "https://localhost:8080/"
        },
        "outputId": "a74a033f-3e35-4566-9a06-cbb3d465950e",
        "id": "hDIuCwI5g_al"
      },
      "source": [
        "# 전체 accuracy 확인; 70% 이상 성능값\n",
        "\n",
        "correct5 = 0\n",
        "total5 = 0\n",
        "\n",
        "with torch.no_grad():\n",
        "    for data in test_loader:\n",
        "        images, labels = data[0].to(device), data[1].to(device) # model객체도 gpu에 저장했음으로, 사용되는 데이터도 gpu에 저장한다.; to(device) 사용\n",
        "        y_pred = myNet5(images)                                             # y_pred\n",
        "        _, predicted = torch.max(y_pred.data, axis=1)  # 확률이 가장 큰 것의 label을 최종 예측값으로 선택\n",
        "        total5 += labels.size(0) # 전체 갯수\n",
        "        correct5 += (predicted == labels).sum().item()   # 맞춘 갯수\n",
        "    \n",
        "    print(100 * correct5 / total5)"
      ],
      "execution_count": 22,
      "outputs": [
        {
          "output_type": "stream",
          "name": "stdout",
          "text": [
            "83.98\n"
          ]
        }
      ]
    },
    {
      "cell_type": "markdown",
      "metadata": {
        "id": "hFplDQ-ig_al"
      },
      "source": [
        "- 어떤 것을 잘 분류했고, 잘 못했는지 확인"
      ]
    },
    {
      "cell_type": "code",
      "metadata": {
        "colab": {
          "base_uri": "https://localhost:8080/"
        },
        "outputId": "80f326e6-7f2f-41c0-a97d-9b6784ddf18e",
        "id": "F-OlwJ4Gg_al"
      },
      "source": [
        "# 각각의 class에 대한 accuracy 확인; 각각의 class에 대한 60% 이상 성능값\n",
        "\n",
        "class_correct5 = list(0. for i in range(10))\n",
        "class_total5 = list(0. for i in range(10))\n",
        "\n",
        "with torch.no_grad():\n",
        "    for data in test_loader:\n",
        "        images, labels = data[0].to(device), data[1].to(device)\n",
        "        outputs = Loaded_Net5(images)\n",
        "        _, predicted = torch.max(outputs.data, axis=1)\n",
        "        c = (predicted == labels).squeeze()\n",
        "        for i in range(4): # 각각의 batch(batch-size : 4) 마다 계싼\n",
        "            label = labels[i]\n",
        "            class_correct5[label] += c[i].item()\n",
        "            class_total5[label] += 1\n",
        "\n",
        "for i in range(10):\n",
        "    print(\"Accuracy of {}: {}%\".format(class_list[i], 100 * class_correct5[i] / class_total5[i]))"
      ],
      "execution_count": 23,
      "outputs": [
        {
          "output_type": "stream",
          "name": "stdout",
          "text": [
            "Accuracy of plane: 90.0%\n",
            "Accuracy of car: 95.9%\n",
            "Accuracy of bird: 62.0%\n",
            "Accuracy of cat: 64.5%\n",
            "Accuracy of deer: 90.6%\n",
            "Accuracy of dog: 84.7%\n",
            "Accuracy of frog: 84.4%\n",
            "Accuracy of horse: 86.7%\n",
            "Accuracy of ship: 94.0%\n",
            "Accuracy of truck: 87.0%\n"
          ]
        }
      ]
    },
    {
      "cell_type": "markdown",
      "source": [
        "# 모델 6"
      ],
      "metadata": {
        "id": "MMVkya4I1xN8"
      }
    },
    {
      "cell_type": "code",
      "source": [
        "class Net6(nn.Module):\n",
        "    def __init__(self):\n",
        "      super(Net6, self).__init__()\n",
        "      self.conv1 = nn.Conv2d(in_channels=3, out_channels=32, kernel_size=3, stride=1, padding=1)\n",
        "      self.conv2 = nn.Conv2d(32, 64, 3, 1, padding=1)\n",
        "      self.conv3 = nn.Conv2d(64, 128, 3, 1, padding=1)\n",
        "      self.fc1 = nn.Linear(4*4*128, 64)\n",
        "      self.fc2 = nn.Linear(64, 10)\n",
        "      self.bn1 = nn.BatchNorm2d(32)\n",
        "      self.bn2 = nn.BatchNorm2d(64)\n",
        "      self.bn3 = nn.BatchNorm2d(128)\n",
        "      \n",
        "    def forward(self, x):\n",
        "      x = F.relu(self.bn1(self.conv1(x)))\n",
        "      x = F.max_pool2d(x, (2,))\n",
        "      x = F.relu(self.bn2(self.conv2(x)))\n",
        "      x = F.max_pool2d(x, (2,))\n",
        "      x = F.relu(self.bn3(self.conv3(x)))\n",
        "      x = F.max_pool2d(x, (2,))\n",
        "      x = x.view(-1, self.num_flat_features(x))\n",
        "      x = F.relu(self.fc1(x))\n",
        "      x = self.fc2(x)\n",
        "\n",
        "      return x\n",
        "\n",
        "    def num_flat_features(self, x): # 처음 dim-size을 제외하고, 모두 곱한 값을 반환해준다.\n",
        "        size = x.size()[1:]\n",
        "        num_features = 1\n",
        "        for s in size:\n",
        "            num_features *= s\n",
        "        \n",
        "        return num_features"
      ],
      "metadata": {
        "id": "4gS4jmWn1znh"
      },
      "execution_count": 27,
      "outputs": []
    },
    {
      "cell_type": "code",
      "source": [
        "myNet6 = Net6().to(device)"
      ],
      "metadata": {
        "id": "1gU0CNY41zni"
      },
      "execution_count": 28,
      "outputs": []
    },
    {
      "cell_type": "code",
      "source": [
        "# output; (4 * 10)\n",
        "\n",
        "output6 = myNet6.forward(input)\n",
        "output6.size()"
      ],
      "metadata": {
        "colab": {
          "base_uri": "https://localhost:8080/"
        },
        "outputId": "12dfc2e1-ac05-4ce8-b76c-2e9903020f61",
        "id": "AAnOQ_8x1zni"
      },
      "execution_count": 29,
      "outputs": [
        {
          "output_type": "execute_result",
          "data": {
            "text/plain": [
              "torch.Size([4, 10])"
            ]
          },
          "metadata": {},
          "execution_count": 29
        }
      ]
    },
    {
      "cell_type": "code",
      "source": [
        "# 모델 구조 확인\n",
        "\n",
        "summary(myNet6, input_size=(3, 32, 32), batch_size=4)"
      ],
      "metadata": {
        "colab": {
          "base_uri": "https://localhost:8080/"
        },
        "outputId": "73730beb-84f4-4932-f3da-8a35481d1528",
        "id": "LmkLWQMg1zni"
      },
      "execution_count": 30,
      "outputs": [
        {
          "output_type": "stream",
          "name": "stdout",
          "text": [
            "----------------------------------------------------------------\n",
            "        Layer (type)               Output Shape         Param #\n",
            "================================================================\n",
            "            Conv2d-1            [4, 32, 32, 32]             896\n",
            "       BatchNorm2d-2            [4, 32, 32, 32]              64\n",
            "            Conv2d-3            [4, 64, 16, 16]          18,496\n",
            "       BatchNorm2d-4            [4, 64, 16, 16]             128\n",
            "            Conv2d-5             [4, 128, 8, 8]          73,856\n",
            "       BatchNorm2d-6             [4, 128, 8, 8]             256\n",
            "            Linear-7                    [4, 64]         131,136\n",
            "            Linear-8                    [4, 10]             650\n",
            "================================================================\n",
            "Total params: 225,482\n",
            "Trainable params: 225,482\n",
            "Non-trainable params: 0\n",
            "----------------------------------------------------------------\n",
            "Input size (MB): 0.05\n",
            "Forward/backward pass size (MB): 3.50\n",
            "Params size (MB): 0.86\n",
            "Estimated Total Size (MB): 4.41\n",
            "----------------------------------------------------------------\n"
          ]
        }
      ]
    },
    {
      "cell_type": "markdown",
      "metadata": {
        "id": "lQRKMrYc1zni"
      },
      "source": [
        "## 손실함수와 옵티마이저"
      ]
    },
    {
      "cell_type": "code",
      "metadata": {
        "id": "Zft0iBdL1zni"
      },
      "source": [
        "criterion = nn.CrossEntropyLoss() # 다중분류; CrossEntropyLoss\n",
        "optimizer6 = optim.SGD(myNet6.parameters(), lr=0.001, momentum=0.9) # SGD; lr=0.001 & momentum=0.9"
      ],
      "execution_count": 31,
      "outputs": []
    },
    {
      "cell_type": "markdown",
      "metadata": {
        "id": "xFn1vnC91zni"
      },
      "source": [
        "## 모델 학습"
      ]
    },
    {
      "cell_type": "code",
      "metadata": {
        "colab": {
          "base_uri": "https://localhost:8080/"
        },
        "outputId": "3d7304a4-9b86-49d9-a864-9e3a9ea3d607",
        "id": "gIMLbRFG1zni"
      },
      "source": [
        "# epochs = 10\n",
        "\n",
        "for epoch in range(10):\n",
        "    running_loss = 0.0\n",
        "\n",
        "    for i, data in enumerate(train_loader, 0):\n",
        "        inputs, labels = data[0].to(device), data[1].to(device)\n",
        "\n",
        "        optimizer6.zero_grad() # 가중치 초기화\n",
        "\n",
        "        y_pred = myNet6(inputs) # y_pred\n",
        "        loss = criterion(y_pred, labels) # 손실함수를 이용해서 loss계산\n",
        "        loss.backward()  # back-propagation\n",
        "        optimizer6.step() # 가중치 업데이트\n",
        "\n",
        "        running_loss += loss.item()\n",
        "        if i % 2000 == 1999:\n",
        "            print(\"Epoch: {}, Batch: {}, Loss: {}\".format(epoch+1, i+1, running_loss/2000))\n",
        "            running_loss = 0.0"
      ],
      "execution_count": 32,
      "outputs": [
        {
          "output_type": "stream",
          "name": "stdout",
          "text": [
            "Epoch: 1, Batch: 2000, Loss: 1.7602602669894696\n",
            "Epoch: 1, Batch: 4000, Loss: 1.4849180883094668\n",
            "Epoch: 1, Batch: 6000, Loss: 1.340417662192136\n",
            "Epoch: 1, Batch: 8000, Loss: 1.257006684165448\n",
            "Epoch: 1, Batch: 10000, Loss: 1.1665583917042242\n",
            "Epoch: 1, Batch: 12000, Loss: 1.1570333035159857\n",
            "Epoch: 2, Batch: 2000, Loss: 1.0394397596502676\n",
            "Epoch: 2, Batch: 4000, Loss: 1.0065120179909282\n",
            "Epoch: 2, Batch: 6000, Loss: 0.9904655431248247\n",
            "Epoch: 2, Batch: 8000, Loss: 0.9643602638039738\n",
            "Epoch: 2, Batch: 10000, Loss: 0.9473488567089662\n",
            "Epoch: 2, Batch: 12000, Loss: 0.9183133560842834\n",
            "Epoch: 3, Batch: 2000, Loss: 0.8355370455747471\n",
            "Epoch: 3, Batch: 4000, Loss: 0.821678781434428\n",
            "Epoch: 3, Batch: 6000, Loss: 0.8026625525737181\n",
            "Epoch: 3, Batch: 8000, Loss: 0.8372161676059477\n",
            "Epoch: 3, Batch: 10000, Loss: 0.8046403253431781\n",
            "Epoch: 3, Batch: 12000, Loss: 0.7832090417956933\n",
            "Epoch: 4, Batch: 2000, Loss: 0.691767124793725\n",
            "Epoch: 4, Batch: 4000, Loss: 0.69686898884119\n",
            "Epoch: 4, Batch: 6000, Loss: 0.7119219715749787\n",
            "Epoch: 4, Batch: 8000, Loss: 0.7113841868290911\n",
            "Epoch: 4, Batch: 10000, Loss: 0.6952159217916778\n",
            "Epoch: 4, Batch: 12000, Loss: 0.69432158049196\n",
            "Epoch: 5, Batch: 2000, Loss: 0.6028004111659248\n",
            "Epoch: 5, Batch: 4000, Loss: 0.6056119867798406\n",
            "Epoch: 5, Batch: 6000, Loss: 0.6289513970986591\n",
            "Epoch: 5, Batch: 8000, Loss: 0.6286662978068925\n",
            "Epoch: 5, Batch: 10000, Loss: 0.6204336012231652\n",
            "Epoch: 5, Batch: 12000, Loss: 0.6076289369686274\n",
            "Epoch: 6, Batch: 2000, Loss: 0.524319575935464\n",
            "Epoch: 6, Batch: 4000, Loss: 0.5429599804789759\n",
            "Epoch: 6, Batch: 6000, Loss: 0.5558010287102079\n",
            "Epoch: 6, Batch: 8000, Loss: 0.577379306997871\n",
            "Epoch: 6, Batch: 10000, Loss: 0.5537756958342579\n",
            "Epoch: 6, Batch: 12000, Loss: 0.5588546644618618\n",
            "Epoch: 7, Batch: 2000, Loss: 0.46112600946522436\n",
            "Epoch: 7, Batch: 4000, Loss: 0.48160732617718166\n",
            "Epoch: 7, Batch: 6000, Loss: 0.5151030568804126\n",
            "Epoch: 7, Batch: 8000, Loss: 0.5152610748081352\n",
            "Epoch: 7, Batch: 10000, Loss: 0.492740033556358\n",
            "Epoch: 7, Batch: 12000, Loss: 0.5188801678060554\n",
            "Epoch: 8, Batch: 2000, Loss: 0.4071487630990014\n",
            "Epoch: 8, Batch: 4000, Loss: 0.430731542957481\n",
            "Epoch: 8, Batch: 6000, Loss: 0.44876107769719964\n",
            "Epoch: 8, Batch: 8000, Loss: 0.45243973775026824\n",
            "Epoch: 8, Batch: 10000, Loss: 0.4740380964833748\n",
            "Epoch: 8, Batch: 12000, Loss: 0.46966773278650364\n",
            "Epoch: 9, Batch: 2000, Loss: 0.38380252955146715\n",
            "Epoch: 9, Batch: 4000, Loss: 0.3944317559844712\n",
            "Epoch: 9, Batch: 6000, Loss: 0.39289685714484224\n",
            "Epoch: 9, Batch: 8000, Loss: 0.444055292267818\n",
            "Epoch: 9, Batch: 10000, Loss: 0.4219667131705646\n",
            "Epoch: 9, Batch: 12000, Loss: 0.4254602500385463\n",
            "Epoch: 10, Batch: 2000, Loss: 0.3268596683282158\n",
            "Epoch: 10, Batch: 4000, Loss: 0.33668489953539577\n",
            "Epoch: 10, Batch: 6000, Loss: 0.3545203644457433\n",
            "Epoch: 10, Batch: 8000, Loss: 0.3910075216887199\n",
            "Epoch: 10, Batch: 10000, Loss: 0.40780693463937495\n",
            "Epoch: 10, Batch: 12000, Loss: 0.40271661133975795\n"
          ]
        }
      ]
    },
    {
      "cell_type": "markdown",
      "metadata": {
        "id": "gIVGxlLM1znj"
      },
      "source": [
        "## 모델의 저장 및 로드"
      ]
    },
    {
      "cell_type": "code",
      "metadata": {
        "colab": {
          "base_uri": "https://localhost:8080/",
          "height": 153
        },
        "outputId": "9f5d4f6e-c905-4996-e563-02f33b5ba5f8",
        "id": "bszgzwgH1znj"
      },
      "source": [
        "# 잘 학습된 모델인지 간단히 한 batch에 대해서 확인\n",
        "\n",
        "dataiter = iter(test_loader)\n",
        "images, labels = next(dataiter)\n",
        "\n",
        "imshow(torchvision.utils.make_grid(images))\n",
        "print(' '.join('\\t{}'.format(class_list[labels[j]]) for j in range(4))) # batch-size = 4"
      ],
      "execution_count": 33,
      "outputs": [
        {
          "output_type": "display_data",
          "data": {
            "text/plain": [
              "<Figure size 432x288 with 1 Axes>"
            ],
            "image/png": "[encoded data removed]"
          },
          "metadata": {}
        },
        {
          "output_type": "stream",
          "name": "stdout",
          "text": [
            "\tcat \tship \tship \tplane\n"
          ]
        }
      ]
    },
    {
      "cell_type": "code",
      "metadata": {
        "id": "9VMe97bQ1znj"
      },
      "source": [
        "# 저장\n",
        "\n",
        "PATH = './cifar_net6.pth'\n",
        "torch.save(myNet6.state_dict(), PATH)"
      ],
      "execution_count": 34,
      "outputs": []
    },
    {
      "cell_type": "code",
      "metadata": {
        "colab": {
          "base_uri": "https://localhost:8080/"
        },
        "outputId": "304b8cc1-6c78-429c-d383-7d31143abe61",
        "id": "45lepEAz1znj"
      },
      "source": [
        "# 불러오기\n",
        "\n",
        "Loaded_Net6 = Net6().to(device)\n",
        "Loaded_Net6.load_state_dict(torch.load(PATH))"
      ],
      "execution_count": 35,
      "outputs": [
        {
          "output_type": "execute_result",
          "data": {
            "text/plain": [
              "<All keys matched successfully>"
            ]
          },
          "metadata": {},
          "execution_count": 35
        }
      ]
    },
    {
      "cell_type": "markdown",
      "metadata": {
        "id": "YGv3hSwW1znj"
      },
      "source": [
        "## 모델 테스트\n",
        "* 조건\n",
        "> 전체 accuracy가 70% 이상이어야한다.<br>\n",
        "> 각각의 class에 대한 accuracy는 60% 이상이어야한다."
      ]
    },
    {
      "cell_type": "code",
      "metadata": {
        "colab": {
          "base_uri": "https://localhost:8080/"
        },
        "outputId": "62382ef9-1152-4567-fb9a-afdb0d29e512",
        "id": "NFN16o4l1znj"
      },
      "source": [
        "# 전체 accuracy 확인; 70% 이상 성능값\n",
        "\n",
        "correct6 = 0\n",
        "total6 = 0\n",
        "\n",
        "with torch.no_grad():\n",
        "    for data in test_loader:\n",
        "        images, labels = data[0].to(device), data[1].to(device) # model객체도 gpu에 저장했음으로, 사용되는 데이터도 gpu에 저장한다.; to(device) 사용\n",
        "        y_pred = myNet6(images)                                             # y_pred\n",
        "        _, predicted = torch.max(y_pred.data, axis=1)  # 확률이 가장 큰 것의 label을 최종 예측값으로 선택\n",
        "        total6 += labels.size(0) # 전체 갯수\n",
        "        correct6 += (predicted == labels).sum().item()   # 맞춘 갯수\n",
        "    \n",
        "    print(100 * correct6 / total6)"
      ],
      "execution_count": 36,
      "outputs": [
        {
          "output_type": "stream",
          "name": "stdout",
          "text": [
            "75.72\n"
          ]
        }
      ]
    },
    {
      "cell_type": "markdown",
      "metadata": {
        "id": "DBKd6U1Y1znj"
      },
      "source": [
        "- 어떤 것을 잘 분류했고, 잘 못했는지 확인"
      ]
    },
    {
      "cell_type": "code",
      "metadata": {
        "colab": {
          "base_uri": "https://localhost:8080/"
        },
        "outputId": "68f8606a-62b5-44dd-fa1c-bddf8e7ca9d8",
        "id": "CtN-pCZL1znj"
      },
      "source": [
        "# 각각의 class에 대한 accuracy 확인; 각각의 class에 대한 60% 이상 성능값\n",
        "\n",
        "class_correct6 = list(0. for i in range(10))\n",
        "class_total6 = list(0. for i in range(10))\n",
        "\n",
        "with torch.no_grad():\n",
        "    for data in test_loader:\n",
        "        images, labels = data[0].to(device), data[1].to(device)\n",
        "        outputs = Loaded_Net6(images)\n",
        "        _, predicted = torch.max(outputs.data, axis=1)\n",
        "        c = (predicted == labels).squeeze()\n",
        "        for i in range(4): # 각각의 batch(batch-size : 4) 마다 계싼\n",
        "            label = labels[i]\n",
        "            class_correct6[label] += c[i].item()\n",
        "            class_total6[label] += 1\n",
        "\n",
        "for i in range(10):\n",
        "    print(\"Accuracy of {}: {}%\".format(class_list[i], 100 * class_correct6[i] / class_total6[i]))"
      ],
      "execution_count": 37,
      "outputs": [
        {
          "output_type": "stream",
          "name": "stdout",
          "text": [
            "Accuracy of plane: 77.5%\n",
            "Accuracy of car: 78.3%\n",
            "Accuracy of bird: 64.9%\n",
            "Accuracy of cat: 48.3%\n",
            "Accuracy of deer: 73.9%\n",
            "Accuracy of dog: 69.8%\n",
            "Accuracy of frog: 82.9%\n",
            "Accuracy of horse: 84.4%\n",
            "Accuracy of ship: 87.7%\n",
            "Accuracy of truck: 89.5%\n"
          ]
        }
      ]
    }
  ]
}