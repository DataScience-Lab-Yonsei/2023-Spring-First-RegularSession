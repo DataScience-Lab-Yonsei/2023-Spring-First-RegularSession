{
  "nbformat": 4,
  "nbformat_minor": 0,
  "metadata": {
    "colab": {
      "provenance": [],
      "collapsed_sections": [
        "cdNvme8aKSBP",
        "jqQF4qWUywYV",
        "wD3z029XPFK0",
        "a4HzFx19PNYv",
        "hZgB4eq0Pk6c",
        "gogmHThzPrjK",
        "_UnbIcKaPyQv",
        "NqYnwxJ3P8Gb",
        "1dvGiVkrQ2cf"
      ]
    },
    "kernelspec": {
      "name": "python3",
      "display_name": "Python 3"
    },
    "accelerator": "GPU",
    "gpuClass": "standard",
    "widgets": {
      "application/vnd.jupyter.widget-state+json": {
        "4fac0d19f93242bcaf7f78a947df12ff": {
          "model_module": "@jupyter-widgets/controls",
          "model_name": "HBoxModel",
          "model_module_version": "1.5.0",
          "state": {
            "_dom_classes": [],
            "_model_module": "@jupyter-widgets/controls",
            "_model_module_version": "1.5.0",
            "_model_name": "HBoxModel",
            "_view_count": null,
            "_view_module": "@jupyter-widgets/controls",
            "_view_module_version": "1.5.0",
            "_view_name": "HBoxView",
            "box_style": "",
            "children": [
              "IPY_MODEL_cbe5e0010db14812baf08f00bee92534",
              "IPY_MODEL_d189b3e537d74214a5b24c38d3ae4ae5",
              "IPY_MODEL_57e733b453394e9e85163541291eec7f"
            ],
            "layout": "IPY_MODEL_3f213ce53fad4e8380250c8c7c5bc203"
          }
        },
        "cbe5e0010db14812baf08f00bee92534": {
          "model_module": "@jupyter-widgets/controls",
          "model_name": "HTMLModel",
          "model_module_version": "1.5.0",
          "state": {
            "_dom_classes": [],
            "_model_module": "@jupyter-widgets/controls",
            "_model_module_version": "1.5.0",
            "_model_name": "HTMLModel",
            "_view_count": null,
            "_view_module": "@jupyter-widgets/controls",
            "_view_module_version": "1.5.0",
            "_view_name": "HTMLView",
            "description": "",
            "description_tooltip": null,
            "layout": "IPY_MODEL_ab52a7de2ba84489b2e2f49630b3c209",
            "placeholder": "​",
            "style": "IPY_MODEL_d60b8a094ed04977bafd52f83d1e82d6",
            "value": "100%"
          }
        },
        "d189b3e537d74214a5b24c38d3ae4ae5": {
          "model_module": "@jupyter-widgets/controls",
          "model_name": "FloatProgressModel",
          "model_module_version": "1.5.0",
          "state": {
            "_dom_classes": [],
            "_model_module": "@jupyter-widgets/controls",
            "_model_module_version": "1.5.0",
            "_model_name": "FloatProgressModel",
            "_view_count": null,
            "_view_module": "@jupyter-widgets/controls",
            "_view_module_version": "1.5.0",
            "_view_name": "ProgressView",
            "bar_style": "success",
            "description": "",
            "description_tooltip": null,
            "layout": "IPY_MODEL_897c531f671c4097b7cfb5d5feebc013",
            "max": 170498071,
            "min": 0,
            "orientation": "horizontal",
            "style": "IPY_MODEL_c6837bdeea0648da85c7deff1ca13cd6",
            "value": 170498071
          }
        },
        "57e733b453394e9e85163541291eec7f": {
          "model_module": "@jupyter-widgets/controls",
          "model_name": "HTMLModel",
          "model_module_version": "1.5.0",
          "state": {
            "_dom_classes": [],
            "_model_module": "@jupyter-widgets/controls",
            "_model_module_version": "1.5.0",
            "_model_name": "HTMLModel",
            "_view_count": null,
            "_view_module": "@jupyter-widgets/controls",
            "_view_module_version": "1.5.0",
            "_view_name": "HTMLView",
            "description": "",
            "description_tooltip": null,
            "layout": "IPY_MODEL_08f05808329644918639176a6eafa9ee",
            "placeholder": "​",
            "style": "IPY_MODEL_f5833ddd11fa4481be6c58c64ee66053",
            "value": " 170498071/170498071 [00:01&lt;00:00, 100895908.84it/s]"
          }
        },
        "3f213ce53fad4e8380250c8c7c5bc203": {
          "model_module": "@jupyter-widgets/base",
          "model_name": "LayoutModel",
          "model_module_version": "1.2.0",
          "state": {
            "_model_module": "@jupyter-widgets/base",
            "_model_module_version": "1.2.0",
            "_model_name": "LayoutModel",
            "_view_count": null,
            "_view_module": "@jupyter-widgets/base",
            "_view_module_version": "1.2.0",
            "_view_name": "LayoutView",
            "align_content": null,
            "align_items": null,
            "align_self": null,
            "border": null,
            "bottom": null,
            "display": null,
            "flex": null,
            "flex_flow": null,
            "grid_area": null,
            "grid_auto_columns": null,
            "grid_auto_flow": null,
            "grid_auto_rows": null,
            "grid_column": null,
            "grid_gap": null,
            "grid_row": null,
            "grid_template_areas": null,
            "grid_template_columns": null,
            "grid_template_rows": null,
            "height": null,
            "justify_content": null,
            "justify_items": null,
            "left": null,
            "margin": null,
            "max_height": null,
            "max_width": null,
            "min_height": null,
            "min_width": null,
            "object_fit": null,
            "object_position": null,
            "order": null,
            "overflow": null,
            "overflow_x": null,
            "overflow_y": null,
            "padding": null,
            "right": null,
            "top": null,
            "visibility": null,
            "width": null
          }
        },
        "ab52a7de2ba84489b2e2f49630b3c209": {
          "model_module": "@jupyter-widgets/base",
          "model_name": "LayoutModel",
          "model_module_version": "1.2.0",
          "state": {
            "_model_module": "@jupyter-widgets/base",
            "_model_module_version": "1.2.0",
            "_model_name": "LayoutModel",
            "_view_count": null,
            "_view_module": "@jupyter-widgets/base",
            "_view_module_version": "1.2.0",
            "_view_name": "LayoutView",
            "align_content": null,
            "align_items": null,
            "align_self": null,
            "border": null,
            "bottom": null,
            "display": null,
            "flex": null,
            "flex_flow": null,
            "grid_area": null,
            "grid_auto_columns": null,
            "grid_auto_flow": null,
            "grid_auto_rows": null,
            "grid_column": null,
            "grid_gap": null,
            "grid_row": null,
            "grid_template_areas": null,
            "grid_template_columns": null,
            "grid_template_rows": null,
            "height": null,
            "justify_content": null,
            "justify_items": null,
            "left": null,
            "margin": null,
            "max_height": null,
            "max_width": null,
            "min_height": null,
            "min_width": null,
            "object_fit": null,
            "object_position": null,
            "order": null,
            "overflow": null,
            "overflow_x": null,
            "overflow_y": null,
            "padding": null,
            "right": null,
            "top": null,
            "visibility": null,
            "width": null
          }
        },
        "d60b8a094ed04977bafd52f83d1e82d6": {
          "model_module": "@jupyter-widgets/controls",
          "model_name": "DescriptionStyleModel",
          "model_module_version": "1.5.0",
          "state": {
            "_model_module": "@jupyter-widgets/controls",
            "_model_module_version": "1.5.0",
            "_model_name": "DescriptionStyleModel",
            "_view_count": null,
            "_view_module": "@jupyter-widgets/base",
            "_view_module_version": "1.2.0",
            "_view_name": "StyleView",
            "description_width": ""
          }
        },
        "897c531f671c4097b7cfb5d5feebc013": {
          "model_module": "@jupyter-widgets/base",
          "model_name": "LayoutModel",
          "model_module_version": "1.2.0",
          "state": {
            "_model_module": "@jupyter-widgets/base",
            "_model_module_version": "1.2.0",
            "_model_name": "LayoutModel",
            "_view_count": null,
            "_view_module": "@jupyter-widgets/base",
            "_view_module_version": "1.2.0",
            "_view_name": "LayoutView",
            "align_content": null,
            "align_items": null,
            "align_self": null,
            "border": null,
            "bottom": null,
            "display": null,
            "flex": null,
            "flex_flow": null,
            "grid_area": null,
            "grid_auto_columns": null,
            "grid_auto_flow": null,
            "grid_auto_rows": null,
            "grid_column": null,
            "grid_gap": null,
            "grid_row": null,
            "grid_template_areas": null,
            "grid_template_columns": null,
            "grid_template_rows": null,
            "height": null,
            "justify_content": null,
            "justify_items": null,
            "left": null,
            "margin": null,
            "max_height": null,
            "max_width": null,
            "min_height": null,
            "min_width": null,
            "object_fit": null,
            "object_position": null,
            "order": null,
            "overflow": null,
            "overflow_x": null,
            "overflow_y": null,
            "padding": null,
            "right": null,
            "top": null,
            "visibility": null,
            "width": null
          }
        },
        "c6837bdeea0648da85c7deff1ca13cd6": {
          "model_module": "@jupyter-widgets/controls",
          "model_name": "ProgressStyleModel",
          "model_module_version": "1.5.0",
          "state": {
            "_model_module": "@jupyter-widgets/controls",
            "_model_module_version": "1.5.0",
            "_model_name": "ProgressStyleModel",
            "_view_count": null,
            "_view_module": "@jupyter-widgets/base",
            "_view_module_version": "1.2.0",
            "_view_name": "StyleView",
            "bar_color": null,
            "description_width": ""
          }
        },
        "08f05808329644918639176a6eafa9ee": {
          "model_module": "@jupyter-widgets/base",
          "model_name": "LayoutModel",
          "model_module_version": "1.2.0",
          "state": {
            "_model_module": "@jupyter-widgets/base",
            "_model_module_version": "1.2.0",
            "_model_name": "LayoutModel",
            "_view_count": null,
            "_view_module": "@jupyter-widgets/base",
            "_view_module_version": "1.2.0",
            "_view_name": "LayoutView",
            "align_content": null,
            "align_items": null,
            "align_self": null,
            "border": null,
            "bottom": null,
            "display": null,
            "flex": null,
            "flex_flow": null,
            "grid_area": null,
            "grid_auto_columns": null,
            "grid_auto_flow": null,
            "grid_auto_rows": null,
            "grid_column": null,
            "grid_gap": null,
            "grid_row": null,
            "grid_template_areas": null,
            "grid_template_columns": null,
            "grid_template_rows": null,
            "height": null,
            "justify_content": null,
            "justify_items": null,
            "left": null,
            "margin": null,
            "max_height": null,
            "max_width": null,
            "min_height": null,
            "min_width": null,
            "object_fit": null,
            "object_position": null,
            "order": null,
            "overflow": null,
            "overflow_x": null,
            "overflow_y": null,
            "padding": null,
            "right": null,
            "top": null,
            "visibility": null,
            "width": null
          }
        },
        "f5833ddd11fa4481be6c58c64ee66053": {
          "model_module": "@jupyter-widgets/controls",
          "model_name": "DescriptionStyleModel",
          "model_module_version": "1.5.0",
          "state": {
            "_model_module": "@jupyter-widgets/controls",
            "_model_module_version": "1.5.0",
            "_model_name": "DescriptionStyleModel",
            "_view_count": null,
            "_view_module": "@jupyter-widgets/base",
            "_view_module_version": "1.2.0",
            "_view_name": "StyleView",
            "description_width": ""
          }
        }
      }
    }
  },
  "cells": [
    {
      "cell_type": "markdown",
      "source": [
        "# 초기 세팅"
      ],
      "metadata": {
        "id": "cdNvme8aKSBP"
      }
    },
    {
      "cell_type": "code",
      "metadata": {
        "id": "P1v9luAfHXdz"
      },
      "source": [
        "import torch\n",
        "import torch.nn as nn\n",
        "import torch.nn.functional as F\n",
        "import torch.optim as optim\n",
        "from torch.utils.data import Dataset, DataLoader\n",
        "\n",
        "import torchvision\n",
        "import torchvision.datasets as datasets\n",
        "import torchvision.transforms as transforms\n",
        "\n",
        "import numpy as np\n",
        "import matplotlib.pyplot as plt\n",
        "plt.style.use('seaborn-white')"
      ],
      "execution_count": 1,
      "outputs": []
    },
    {
      "cell_type": "code",
      "source": [
        "!pip install torchsummary\n",
        "from torchsummary import summary"
      ],
      "metadata": {
        "colab": {
          "base_uri": "https://localhost:8080/"
        },
        "id": "D39aCPyTu2Ce",
        "outputId": "c8de3620-b806-4428-c1f8-d2badc727bef"
      },
      "execution_count": 2,
      "outputs": [
        {
          "output_type": "stream",
          "name": "stdout",
          "text": [
            "Looking in indexes: https://pypi.org/simple, https://us-python.pkg.dev/colab-wheels/public/simple/\n",
            "Requirement already satisfied: torchsummary in /usr/local/lib/python3.8/dist-packages (1.5.1)\n"
          ]
        }
      ]
    },
    {
      "cell_type": "markdown",
      "metadata": {
        "id": "02LdHlTTSz5L"
      },
      "source": [
        "- 현재 GPU 설정"
      ]
    },
    {
      "cell_type": "code",
      "metadata": {
        "id": "Ybsjn80uSx3X",
        "colab": {
          "base_uri": "https://localhost:8080/"
        },
        "outputId": "f2413176-51ac-4c46-a548-fbe440a5f3d9"
      },
      "source": [
        "# colab의 runtime-type을 GPU로 설정해서, True가 나오도록 한다.\n",
        "\n",
        "torch.cuda.is_available()"
      ],
      "execution_count": 3,
      "outputs": [
        {
          "output_type": "execute_result",
          "data": {
            "text/plain": [
              "True"
            ]
          },
          "metadata": {},
          "execution_count": 3
        }
      ]
    },
    {
      "cell_type": "code",
      "metadata": {
        "id": "HlPZI5wfDQhv",
        "colab": {
          "base_uri": "https://localhost:8080/"
        },
        "outputId": "18dd513d-d7e4-4fdb-ec00-9e5298b26771"
      },
      "source": [
        "device =  torch.device('cuda' if torch.cuda.is_available() else 'cpu') # gpu('cuda')가 사용가능하면, gpu를 이용하도록 설정\n",
        "device"
      ],
      "execution_count": 4,
      "outputs": [
        {
          "output_type": "execute_result",
          "data": {
            "text/plain": [
              "device(type='cuda')"
            ]
          },
          "metadata": {},
          "execution_count": 4
        }
      ]
    },
    {
      "cell_type": "markdown",
      "source": [
        "# CIFAR10 분류 모델\n",
        "* R/G/B(3) 이미지 데이터 분류\n",
        "* 32x32 pixel"
      ],
      "metadata": {
        "id": "jqQF4qWUywYV"
      }
    },
    {
      "cell_type": "markdown",
      "metadata": {
        "id": "wD3z029XPFK0"
      },
      "source": [
        "## 전처리 설정"
      ]
    },
    {
      "cell_type": "code",
      "metadata": {
        "id": "4u3-pXWIPCiM"
      },
      "source": [
        "# transform 정의\n",
        "\n",
        "CIFAR_transform = transforms.Compose([transforms.ToTensor(),\n",
        "                                      transforms.Normalize((0.5, 0.5, 0.5), (0.5, 0.5, 0.5))]) # r,g,b 데이터이므로, 3개의 인자값 전달"
      ],
      "execution_count": 5,
      "outputs": []
    },
    {
      "cell_type": "markdown",
      "metadata": {
        "id": "a4HzFx19PNYv"
      },
      "source": [
        "## 데이터 로드 및 확인"
      ]
    },
    {
      "cell_type": "code",
      "metadata": {
        "id": "ctstlIt_PM9z",
        "colab": {
          "base_uri": "https://localhost:8080/",
          "height": 105,
          "referenced_widgets": [
            "4fac0d19f93242bcaf7f78a947df12ff",
            "cbe5e0010db14812baf08f00bee92534",
            "d189b3e537d74214a5b24c38d3ae4ae5",
            "57e733b453394e9e85163541291eec7f",
            "3f213ce53fad4e8380250c8c7c5bc203",
            "ab52a7de2ba84489b2e2f49630b3c209",
            "d60b8a094ed04977bafd52f83d1e82d6",
            "897c531f671c4097b7cfb5d5feebc013",
            "c6837bdeea0648da85c7deff1ca13cd6",
            "08f05808329644918639176a6eafa9ee",
            "f5833ddd11fa4481be6c58c64ee66053"
          ]
        },
        "outputId": "0dd5d3eb-52aa-4890-fdb3-8f1a8d9362b1"
      },
      "source": [
        "# datasets\n",
        "\n",
        "trainset = torchvision.datasets.CIFAR10(root='./data', train=True,\n",
        "                                        download=True, transform = CIFAR_transform)\n",
        "\n",
        "testset = torchvision.datasets.CIFAR10(root='./data', train=False,\n",
        "                                       download=True, transform = CIFAR_transform)"
      ],
      "execution_count": 6,
      "outputs": [
        {
          "output_type": "stream",
          "name": "stdout",
          "text": [
            "Downloading https://www.cs.toronto.edu/~kriz/cifar-10-python.tar.gz to ./data/cifar-10-python.tar.gz\n"
          ]
        },
        {
          "output_type": "display_data",
          "data": {
            "text/plain": [
              "  0%|          | 0/170498071 [00:00<?, ?it/s]"
            ],
            "application/vnd.jupyter.widget-view+json": {
              "version_major": 2,
              "version_minor": 0,
              "model_id": "4fac0d19f93242bcaf7f78a947df12ff"
            }
          },
          "metadata": {}
        },
        {
          "output_type": "stream",
          "name": "stdout",
          "text": [
            "Extracting ./data/cifar-10-python.tar.gz to ./data\n",
            "Files already downloaded and verified\n"
          ]
        }
      ]
    },
    {
      "cell_type": "code",
      "metadata": {
        "id": "wTkTcictPTyY"
      },
      "source": [
        "# DataLoader\n",
        "\n",
        "# batch-size = 4\n",
        "\n",
        "train_loader = DataLoader(trainset, batch_size=4, shuffle=True, num_workers=2)\n",
        "\n",
        "test_loader = DataLoader(testset, batch_size=4, shuffle=False, num_workers=2)"
      ],
      "execution_count": 7,
      "outputs": []
    },
    {
      "cell_type": "code",
      "source": [
        "# 숫자 label에 해당되는 값\n",
        "\n",
        "class_list = ('plane', 'car', 'bird', 'cat', 'deer',\n",
        "           'dog', 'frog', 'horse', 'ship', 'truck')"
      ],
      "metadata": {
        "id": "-lxqiKWGy-sP"
      },
      "execution_count": 8,
      "outputs": []
    },
    {
      "cell_type": "code",
      "metadata": {
        "id": "_6IsY5CrPZ5e",
        "colab": {
          "base_uri": "https://localhost:8080/",
          "height": 154
        },
        "outputId": "f58267dd-7637-44b1-ed33-b300b671ff7d"
      },
      "source": [
        "def imshow(img):\n",
        "    img = img / 2 + 0.5\n",
        "    npimg = img.numpy()\n",
        "    plt.imshow(np.transpose(npimg, (1,2,0)))\n",
        "    plt.show()\n",
        "\n",
        "dataiter = iter(train_loader)\n",
        "images, labels = next(dataiter)\n",
        "\n",
        "imshow(torchvision.utils.make_grid(images))\n",
        "print(' '.join('{}\\t'.format(class_list[labels[j]]) for j in range(4)))"
      ],
      "execution_count": 9,
      "outputs": [
        {
          "output_type": "display_data",
          "data": {
            "text/plain": [
              "<Figure size 432x288 with 1 Axes>"
            ],
            "image/png": "[encoded data removed]"
          },
          "metadata": {}
        },
        {
          "output_type": "stream",
          "name": "stdout",
          "text": [
            "truck\t truck\t deer\t ship\t\n"
          ]
        }
      ]
    },
    {
      "cell_type": "markdown",
      "metadata": {
        "id": "hZgB4eq0Pk6c"
      },
      "source": [
        "## 모델 생성"
      ]
    },
    {
      "cell_type": "markdown",
      "source": [
        "* input size = 4 * 3 * 32 * 32\n",
        "* output size = 4 * 10\n",
        "* 모델 조건\n",
        "> * convolution-layer : 2개 이상 사용\n",
        "> * maxpooling-layer : 1개 이상 사용\n",
        "> * fc-layer : 2개 이상 사용\n",
        "> * activation-function 으로 'relu' 사용"
      ],
      "metadata": {
        "id": "aNeryJhl3GhR"
      }
    },
    {
      "cell_type": "code",
      "metadata": {
        "id": "E2OMzoFHPeFZ"
      },
      "source": [
        "class Net(nn.Module):\n",
        "    def __init__(self):\n",
        "        super(Net, self).__init__()\n",
        "\n",
        "        self.conv1 = nn.Conv2d(in_channels=3, out_channels=64, kernel_size=3, stride=1, padding=0)\n",
        "        # in-channels = 3 <- RGB\n",
        "        # out-channels = 64\n",
        "        # kernel_size = 3*3 -> f = 3\n",
        "        # stride = 1(defalut) -> s = 1\n",
        "        # padding = 0(defalut) -> p = 0\n",
        "        # input-data pixel size = 32*32 -> n = 32\n",
        "        # (n-f+2p)/s + 1 = new n\n",
        "        # (32-3+2*0)/1 + 1 = 30\n",
        "\n",
        "        # maxpool: n = 30 -> 15\n",
        "\n",
        "        self.conv2 = nn.Conv2d(64, 128, 3)\n",
        "        # in-channels = 64 <- 이전 것의 out_channels\n",
        "        # out-channels = 128\n",
        "        # kernel_size = 3*3 -> f = 3\n",
        "        # stride = 1(defalut) -> s = 1\n",
        "        # padding = 0(defalut) -> p = 0\n",
        "        # (n-f+2p)/s + 1 = new n\n",
        "        # (15-3+2*0)/1 + 1 = 13\n",
        "\n",
        "        # maxpool: n = 13 -> 6\n",
        "\n",
        "        self.fc1 = nn.Linear(128 * 6 * 6, 120)\n",
        "        self.fc2 = nn.Linear(120, 84)\n",
        "        self.fc3 = nn.Linear(84, 10)\n",
        "\n",
        "    def forward(self, x):\n",
        "        x = F.relu(self.conv1(x))\n",
        "        x = F.max_pool2d(x, (2,2))\n",
        "        x = F.relu(self.conv2(x))\n",
        "        x = F.max_pool2d(x, 2)\n",
        "\n",
        "        x = x.view(-1, self.num_flat_features(x))\n",
        "\n",
        "        x = F.relu(self.fc1(x))\n",
        "        x = F.relu(self.fc2(x))\n",
        "        x = self.fc3(x)\n",
        "\n",
        "        return x\n",
        "    \n",
        "    def num_flat_features(self, x):\n",
        "        size = x.size()[1:]\n",
        "        num_features = 1\n",
        "        for s in size:\n",
        "            num_features *= s\n",
        "        \n",
        "        return num_features"
      ],
      "execution_count": 43,
      "outputs": []
    },
    {
      "cell_type": "code",
      "source": [
        "myNet = Net().to(device) # gpu에 모델 저장\n",
        "myNet"
      ],
      "metadata": {
        "id": "P5ZAjWK03iQ_",
        "colab": {
          "base_uri": "https://localhost:8080/"
        },
        "outputId": "32a38b6b-a351-41a6-9a6e-235adf3292df"
      },
      "execution_count": 44,
      "outputs": [
        {
          "output_type": "execute_result",
          "data": {
            "text/plain": [
              "Net(\n",
              "  (conv1): Conv2d(3, 64, kernel_size=(3, 3), stride=(1, 1))\n",
              "  (conv2): Conv2d(64, 128, kernel_size=(3, 3), stride=(1, 1))\n",
              "  (fc1): Linear(in_features=4608, out_features=120, bias=True)\n",
              "  (fc2): Linear(in_features=120, out_features=84, bias=True)\n",
              "  (fc3): Linear(in_features=84, out_features=10, bias=True)\n",
              ")"
            ]
          },
          "metadata": {},
          "execution_count": 44
        }
      ]
    },
    {
      "cell_type": "code",
      "source": [
        "# input; (4 * 3 * 32 * 32)\n",
        "\n",
        "input = images.to(device)\n",
        "input.size()"
      ],
      "metadata": {
        "colab": {
          "base_uri": "https://localhost:8080/"
        },
        "id": "aC1MMHle3jid",
        "outputId": "b817d2e0-a791-4b11-eed1-f78be63ff9be"
      },
      "execution_count": 45,
      "outputs": [
        {
          "output_type": "execute_result",
          "data": {
            "text/plain": [
              "torch.Size([4, 3, 32, 32])"
            ]
          },
          "metadata": {},
          "execution_count": 45
        }
      ]
    },
    {
      "cell_type": "code",
      "source": [
        "# output; (4 * 10)\n",
        "\n",
        "output = myNet.forward(input)\n",
        "output.size()"
      ],
      "metadata": {
        "colab": {
          "base_uri": "https://localhost:8080/"
        },
        "id": "UYxJZCGo3uPZ",
        "outputId": "395e34b3-c954-4548-a0f8-c8b7260951a0"
      },
      "execution_count": 46,
      "outputs": [
        {
          "output_type": "execute_result",
          "data": {
            "text/plain": [
              "torch.Size([4, 10])"
            ]
          },
          "metadata": {},
          "execution_count": 46
        }
      ]
    },
    {
      "cell_type": "code",
      "source": [
        "# 모델 구조 확인\n",
        "\n",
        "summary(myNet, input_size=(3, 32, 32), batch_size=4)"
      ],
      "metadata": {
        "id": "OS6RZEuB3wwa",
        "colab": {
          "base_uri": "https://localhost:8080/"
        },
        "outputId": "a5fb6ca9-3782-43c8-8bf7-d25e9d481573"
      },
      "execution_count": 47,
      "outputs": [
        {
          "output_type": "stream",
          "name": "stdout",
          "text": [
            "----------------------------------------------------------------\n",
            "        Layer (type)               Output Shape         Param #\n",
            "================================================================\n",
            "            Conv2d-1            [4, 64, 30, 30]           1,792\n",
            "            Conv2d-2           [4, 128, 13, 13]          73,856\n",
            "            Linear-3                   [4, 120]         553,080\n",
            "            Linear-4                    [4, 84]          10,164\n",
            "            Linear-5                    [4, 10]             850\n",
            "================================================================\n",
            "Total params: 639,742\n",
            "Trainable params: 639,742\n",
            "Non-trainable params: 0\n",
            "----------------------------------------------------------------\n",
            "Input size (MB): 0.05\n",
            "Forward/backward pass size (MB): 2.42\n",
            "Params size (MB): 2.44\n",
            "Estimated Total Size (MB): 4.91\n",
            "----------------------------------------------------------------\n"
          ]
        }
      ]
    },
    {
      "cell_type": "markdown",
      "metadata": {
        "id": "gogmHThzPrjK"
      },
      "source": [
        "## 손실함수와 옵티마이저"
      ]
    },
    {
      "cell_type": "code",
      "metadata": {
        "id": "X5SzxufZPpel"
      },
      "source": [
        "criterion = nn.CrossEntropyLoss() # 다중분류; CrossEntropyLoss\n",
        "optimizer = optim.SGD(myNet.parameters(), lr=0.001, momentum=0.9) # SGD; lr=0.001 & momentum=0.9"
      ],
      "execution_count": 48,
      "outputs": []
    },
    {
      "cell_type": "markdown",
      "metadata": {
        "id": "_UnbIcKaPyQv"
      },
      "source": [
        "## 모델 학습"
      ]
    },
    {
      "cell_type": "code",
      "metadata": {
        "id": "jlWiR3LwPuwa",
        "colab": {
          "base_uri": "https://localhost:8080/"
        },
        "outputId": "07e69c5b-ab91-4a0f-f813-e6875d780263"
      },
      "source": [
        "# epochs = 10\n",
        "\n",
        "for epoch in range(10):\n",
        "    running_loss = 0.0\n",
        "\n",
        "    for i, data in enumerate(train_loader, 0):\n",
        "        inputs, labels = data[0].to(device), data[1].to(device)\n",
        "\n",
        "        optimizer.zero_grad()                   #가중치 초기화\n",
        "\n",
        "        outputs = myNet(inputs)                 # y_pred\n",
        "        loss = criterion(outputs, labels)       # 손실함수를 이용해서 loss계산\n",
        "        loss.backward()                         # back-propagation\n",
        "        optimizer.step()                        # 가중치 업데이트\n",
        "\n",
        "        running_loss += loss.item()\n",
        "        \n",
        "        if i % 2000 == 1999:\n",
        "            print(\"Epoch: {}, Batch: {}, Loss: {}\".format(epoch+1, i+1, running_loss/2000))\n",
        "            running_loss = 0.0"
      ],
      "execution_count": 49,
      "outputs": [
        {
          "output_type": "stream",
          "name": "stdout",
          "text": [
            "Epoch: 1, Batch: 2000, Loss: 2.0707114829719067\n",
            "Epoch: 1, Batch: 4000, Loss: 1.6855574386119843\n",
            "Epoch: 1, Batch: 6000, Loss: 1.5080935268998146\n",
            "Epoch: 1, Batch: 8000, Loss: 1.3859905041232705\n",
            "Epoch: 1, Batch: 10000, Loss: 1.3001577438041567\n",
            "Epoch: 1, Batch: 12000, Loss: 1.2111857872977854\n",
            "Epoch: 2, Batch: 2000, Loss: 1.1164124742746353\n",
            "Epoch: 2, Batch: 4000, Loss: 1.0762510792743414\n",
            "Epoch: 2, Batch: 6000, Loss: 1.0296625240761788\n",
            "Epoch: 2, Batch: 8000, Loss: 1.0197182304356247\n",
            "Epoch: 2, Batch: 10000, Loss: 0.9955255780490115\n",
            "Epoch: 2, Batch: 12000, Loss: 0.9643443678878247\n",
            "Epoch: 3, Batch: 2000, Loss: 0.8542247638083063\n",
            "Epoch: 3, Batch: 4000, Loss: 0.8419661046776455\n",
            "Epoch: 3, Batch: 6000, Loss: 0.8411030331281946\n",
            "Epoch: 3, Batch: 8000, Loss: 0.8367460279511287\n",
            "Epoch: 3, Batch: 10000, Loss: 0.8150423789767083\n",
            "Epoch: 3, Batch: 12000, Loss: 0.8056544464319013\n",
            "Epoch: 4, Batch: 2000, Loss: 0.6786792613754514\n",
            "Epoch: 4, Batch: 4000, Loss: 0.7133179734000005\n",
            "Epoch: 4, Batch: 6000, Loss: 0.6720765790373553\n",
            "Epoch: 4, Batch: 8000, Loss: 0.6861261970088817\n",
            "Epoch: 4, Batch: 10000, Loss: 0.6658571321021299\n",
            "Epoch: 4, Batch: 12000, Loss: 0.6822677370989695\n",
            "Epoch: 5, Batch: 2000, Loss: 0.5137065768553876\n",
            "Epoch: 5, Batch: 4000, Loss: 0.54688975670316\n",
            "Epoch: 5, Batch: 6000, Loss: 0.5484038998484466\n",
            "Epoch: 5, Batch: 8000, Loss: 0.5530212075969902\n",
            "Epoch: 5, Batch: 10000, Loss: 0.5614614424412139\n",
            "Epoch: 5, Batch: 12000, Loss: 0.6005557498481358\n",
            "Epoch: 6, Batch: 2000, Loss: 0.39069791154151606\n",
            "Epoch: 6, Batch: 4000, Loss: 0.3975916971439692\n",
            "Epoch: 6, Batch: 6000, Loss: 0.4483535218033667\n",
            "Epoch: 6, Batch: 8000, Loss: 0.4515735484210018\n",
            "Epoch: 6, Batch: 10000, Loss: 0.47048864855055583\n",
            "Epoch: 6, Batch: 12000, Loss: 0.4852784855807986\n",
            "Epoch: 7, Batch: 2000, Loss: 0.3032972377859696\n",
            "Epoch: 7, Batch: 4000, Loss: 0.31639102636687766\n",
            "Epoch: 7, Batch: 6000, Loss: 0.3301505462589157\n",
            "Epoch: 7, Batch: 8000, Loss: 0.35398724665189\n",
            "Epoch: 7, Batch: 10000, Loss: 0.404029555362642\n",
            "Epoch: 7, Batch: 12000, Loss: 0.39502638571675924\n",
            "Epoch: 8, Batch: 2000, Loss: 0.20326194879636206\n",
            "Epoch: 8, Batch: 4000, Loss: 0.2380922377133795\n",
            "Epoch: 8, Batch: 6000, Loss: 0.27728190384616747\n",
            "Epoch: 8, Batch: 8000, Loss: 0.30152853736195445\n",
            "Epoch: 8, Batch: 10000, Loss: 0.2901529550767146\n",
            "Epoch: 8, Batch: 12000, Loss: 0.3102473801158478\n",
            "Epoch: 9, Batch: 2000, Loss: 0.15395639464375513\n",
            "Epoch: 9, Batch: 4000, Loss: 0.17564410637654465\n",
            "Epoch: 9, Batch: 6000, Loss: 0.20171124704341373\n",
            "Epoch: 9, Batch: 8000, Loss: 0.2387786389600435\n",
            "Epoch: 9, Batch: 10000, Loss: 0.244751342740107\n",
            "Epoch: 9, Batch: 12000, Loss: 0.25796224796674416\n",
            "Epoch: 10, Batch: 2000, Loss: 0.12566941491732062\n",
            "Epoch: 10, Batch: 4000, Loss: 0.14375269243988847\n",
            "Epoch: 10, Batch: 6000, Loss: 0.18643531370353827\n",
            "Epoch: 10, Batch: 8000, Loss: 0.19806284483620706\n",
            "Epoch: 10, Batch: 10000, Loss: 0.21216880748000413\n",
            "Epoch: 10, Batch: 12000, Loss: 0.22208789129773845\n"
          ]
        }
      ]
    },
    {
      "cell_type": "markdown",
      "metadata": {
        "id": "NqYnwxJ3P8Gb"
      },
      "source": [
        "## 모델의 저장 및 로드"
      ]
    },
    {
      "cell_type": "code",
      "metadata": {
        "id": "keqtypx1QY6t",
        "colab": {
          "base_uri": "https://localhost:8080/",
          "height": 154
        },
        "outputId": "09f255b4-cd2b-4901-88d9-7d2e604f7e69"
      },
      "source": [
        "# 잘 학습된 모델인지 간단히 한 batch에 대해서 확인\n",
        "\n",
        "dataiter = iter(test_loader)\n",
        "images, labels = next(dataiter)\n",
        "\n",
        "imshow(torchvision.utils.make_grid(images))\n",
        "print(' '.join('\\t{}'.format(class_list[labels[j]]) for j in range(4))) # batch-size = 4"
      ],
      "execution_count": 50,
      "outputs": [
        {
          "output_type": "display_data",
          "data": {
            "text/plain": [
              "<Figure size 432x288 with 1 Axes>"
            ],
            "image/png": "[encoded data removed]"
          },
          "metadata": {}
        },
        {
          "output_type": "stream",
          "name": "stdout",
          "text": [
            "\tcat \tship \tship \tplane\n"
          ]
        }
      ]
    },
    {
      "cell_type": "code",
      "metadata": {
        "id": "z6UYtCT4P3Tj"
      },
      "source": [
        "# 저장\n",
        "\n",
        "PATH = './cifar_net.pth'\n",
        "torch.save(myNet.state_dict(), PATH)"
      ],
      "execution_count": 51,
      "outputs": []
    },
    {
      "cell_type": "code",
      "metadata": {
        "id": "FfsXzP9NQbMg",
        "colab": {
          "base_uri": "https://localhost:8080/"
        },
        "outputId": "be5d1b2f-08af-4254-9bb6-79af1f84b141"
      },
      "source": [
        "# 불러오기\n",
        "\n",
        "Loaded_Net = Net().to(device)\n",
        "Loaded_Net.load_state_dict(torch.load(PATH))"
      ],
      "execution_count": 52,
      "outputs": [
        {
          "output_type": "execute_result",
          "data": {
            "text/plain": [
              "<All keys matched successfully>"
            ]
          },
          "metadata": {},
          "execution_count": 52
        }
      ]
    },
    {
      "cell_type": "markdown",
      "metadata": {
        "id": "1dvGiVkrQ2cf"
      },
      "source": [
        "## 모델 테스트\n",
        "* 조건\n",
        "> 전체 accuracy가 70% 이상이어야한다.<br>\n",
        "> 각각의 class에 대한 accuracy는 60% 이상이어야한다."
      ]
    },
    {
      "cell_type": "code",
      "metadata": {
        "id": "ajGFbhDvQtlp",
        "colab": {
          "base_uri": "https://localhost:8080/"
        },
        "outputId": "f03c50d6-47df-4e10-fc26-7b432ac2b65a"
      },
      "source": [
        "# 전체 accuracy 확인; 70% 이상 성능값\n",
        "\n",
        "correct = 0\n",
        "total = 0\n",
        "\n",
        "with torch.no_grad():\n",
        "    for data in test_loader:\n",
        "        images, labels = data[0].to(device), data[1].to(device)       # model객체도 gpu에 저장했으므로, 사용되는 데이터도 gpu에 저장한다.; to(device) 사용\n",
        "        outputs = myNet(images)                                       # y_pred\n",
        "        _, predicted = torch.max(outputs.data, axis=1)  # 확률이 가장 큰 것의 label을 최종 예측값으로 선택\n",
        "        total += labels.size(0) # 전체 갯수\n",
        "        correct += (predicted == labels).sum().item()   # 맞춘 갯수\n",
        "    \n",
        "    print(100 * correct / total)"
      ],
      "execution_count": 53,
      "outputs": [
        {
          "output_type": "stream",
          "name": "stdout",
          "text": [
            "72.09\n"
          ]
        }
      ]
    },
    {
      "cell_type": "markdown",
      "metadata": {
        "id": "trWVf5YvRYI0"
      },
      "source": [
        "- 어떤 것을 잘 분류했고, 잘 못했는지 확인"
      ]
    },
    {
      "cell_type": "code",
      "metadata": {
        "id": "P9p7QKhDQzpC",
        "colab": {
          "base_uri": "https://localhost:8080/"
        },
        "outputId": "6af8c42b-5a76-4486-d50a-96b8cbda4d11"
      },
      "source": [
        "# 각각의 class에 대한 accuracy 확인; 각각의 class에 대한 60% 이상 성능값\n",
        "\n",
        "class_correct = list(0. for i in range(10))\n",
        "class_total = list(0. for i in range(10))\n",
        "\n",
        "with torch.no_grad():\n",
        "    for data in test_loader:\n",
        "        images, labels = data[0].to(device), data[1].to(device)\n",
        "        outputs = Loaded_Net(images)\n",
        "        _, predicted = torch.max(outputs.data, axis=1)\n",
        "        c = (predicted == labels).squeeze()\n",
        "        for i in range(4): # 각각의 batch(batch-size : 4) 마다 계싼\n",
        "            label = labels[i]\n",
        "            class_correct[label] += c[i].item()\n",
        "            class_total[label] += 1\n",
        "\n",
        "for i in range(10):\n",
        "    print(\"Accuracy of {}: {}%\".format(class_list[i], 100 * class_correct[i] / class_total[i]))"
      ],
      "execution_count": 54,
      "outputs": [
        {
          "output_type": "stream",
          "name": "stdout",
          "text": [
            "Accuracy of plane: 78.1%\n",
            "Accuracy of car: 85.8%\n",
            "Accuracy of bird: 61.7%\n",
            "Accuracy of cat: 51.9%\n",
            "Accuracy of deer: 67.3%\n",
            "Accuracy of dog: 59.9%\n",
            "Accuracy of frog: 80.8%\n",
            "Accuracy of horse: 75.4%\n",
            "Accuracy of ship: 83.4%\n",
            "Accuracy of truck: 76.6%\n"
          ]
        }
      ]
    }
  ]
}