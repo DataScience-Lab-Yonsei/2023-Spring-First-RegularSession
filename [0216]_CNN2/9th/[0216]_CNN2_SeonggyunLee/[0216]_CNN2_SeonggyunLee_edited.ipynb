{
  "nbformat": 4,
  "nbformat_minor": 0,
  "metadata": {
    "colab": {
      "provenance": []
    },
    "kernelspec": {
      "name": "python3",
      "display_name": "Python 3"
    },
    "accelerator": "GPU",
    "gpuClass": "standard"
  },
  "cells": [
    {
      "cell_type": "markdown",
      "source": [
        "# 초기 세팅"
      ],
      "metadata": {
        "id": "cdNvme8aKSBP"
      }
    },
    {
      "cell_type": "code",
      "metadata": {
        "id": "P1v9luAfHXdz"
      },
      "source": [
        "import torch\n",
        "import torch.nn as nn\n",
        "import torch.nn.functional as F\n",
        "import torch.optim as optim\n",
        "from torch.utils.data import Dataset, DataLoader\n",
        "\n",
        "import torchvision\n",
        "import torchvision.datasets as datasets\n",
        "import torchvision.transforms as transforms\n",
        "\n",
        "import numpy as np\n",
        "import matplotlib.pyplot as plt\n",
        "plt.style.use('seaborn-white')"
      ],
      "execution_count": 36,
      "outputs": []
    },
    {
      "cell_type": "code",
      "source": [
        "from torchsummary import summary"
      ],
      "metadata": {
        "id": "D39aCPyTu2Ce"
      },
      "execution_count": 37,
      "outputs": []
    },
    {
      "cell_type": "markdown",
      "metadata": {
        "id": "02LdHlTTSz5L"
      },
      "source": [
        "- 현재 GPU 설정"
      ]
    },
    {
      "cell_type": "code",
      "metadata": {
        "id": "Ybsjn80uSx3X",
        "colab": {
          "base_uri": "https://localhost:8080/"
        },
        "outputId": "b43580b9-f4c4-40a9-91cf-3c9f2de63e93"
      },
      "source": [
        "# colab의 runtime-type을 GPU로 설정해서, True가 나오도록 한다.\n",
        "\n",
        "torch.cuda.is_available()"
      ],
      "execution_count": 38,
      "outputs": [
        {
          "output_type": "execute_result",
          "data": {
            "text/plain": [
              "True"
            ]
          },
          "metadata": {},
          "execution_count": 38
        }
      ]
    },
    {
      "cell_type": "code",
      "metadata": {
        "id": "HlPZI5wfDQhv",
        "colab": {
          "base_uri": "https://localhost:8080/"
        },
        "outputId": "6862f9b1-1f6e-4abf-bcbf-d6f57ff36047"
      },
      "source": [
        "device = torch.device('cuda' if torch.cuda.is_available() else 'cpu') # gpu('cuda')가 사용가능하면, gpu를 이용하도록 설정\n",
        "device"
      ],
      "execution_count": 39,
      "outputs": [
        {
          "output_type": "execute_result",
          "data": {
            "text/plain": [
              "device(type='cuda')"
            ]
          },
          "metadata": {},
          "execution_count": 39
        }
      ]
    },
    {
      "cell_type": "markdown",
      "source": [
        "# CIFAR10 분류 모델\n",
        "* R/G/B(3) 이미지 데이터 분류\n",
        "* 32x32 pixel"
      ],
      "metadata": {
        "id": "jqQF4qWUywYV"
      }
    },
    {
      "cell_type": "markdown",
      "metadata": {
        "id": "wD3z029XPFK0"
      },
      "source": [
        "## 전처리 설정"
      ]
    },
    {
      "cell_type": "code",
      "metadata": {
        "id": "4u3-pXWIPCiM"
      },
      "source": [
        "# transform 정의\n",
        "\n",
        "CIFAR_transform = transforms.Compose([transforms.ToTensor(), \n",
        "                                      transforms.Normalize((0.5, 0.5, 0.5), (0.5, 0.5, 0.5))]) # r,g,b 데이터임으로, 3개의 인자값 전달"
      ],
      "execution_count": 40,
      "outputs": []
    },
    {
      "cell_type": "markdown",
      "metadata": {
        "id": "a4HzFx19PNYv"
      },
      "source": [
        "## 데이터 로드 및 확인"
      ]
    },
    {
      "cell_type": "code",
      "metadata": {
        "id": "ctstlIt_PM9z",
        "colab": {
          "base_uri": "https://localhost:8080/"
        },
        "outputId": "89e1fb22-9bb7-4ec7-f05e-8c1dba8bc14a"
      },
      "source": [
        "# datasets\n",
        "\n",
        "trainset = torchvision.datasets.CIFAR10(root='./data', train=True,\n",
        "                                        download=True, transform=CIFAR_transform)\n",
        "\n",
        "testset = torchvision.datasets.CIFAR10(root='./data', train=True,\n",
        "                                        download=True, transform=CIFAR_transform)"
      ],
      "execution_count": 41,
      "outputs": [
        {
          "output_type": "stream",
          "name": "stdout",
          "text": [
            "Files already downloaded and verified\n",
            "Files already downloaded and verified\n"
          ]
        }
      ]
    },
    {
      "cell_type": "code",
      "metadata": {
        "id": "wTkTcictPTyY"
      },
      "source": [
        "# DataLoader\n",
        "\n",
        "batch_size = 4\n",
        "\n",
        "train_loader = DataLoader(trainset, batch_size=batch_size,\n",
        "                                          shuffle=True, num_workers=2)\n",
        "\n",
        "test_loader = DataLoader(trainset, batch_size=batch_size,\n",
        "                                          shuffle=True, num_workers=2)"
      ],
      "execution_count": 42,
      "outputs": []
    },
    {
      "cell_type": "code",
      "source": [
        "# 숫자 label에 해당되는 값\n",
        "\n",
        "class_list = ('plane', 'car', 'bird', 'cat', 'deer',\n",
        "           'dog', 'frog', 'horse', 'ship', 'truck')"
      ],
      "metadata": {
        "id": "-lxqiKWGy-sP"
      },
      "execution_count": 43,
      "outputs": []
    },
    {
      "cell_type": "code",
      "metadata": {
        "id": "_6IsY5CrPZ5e",
        "colab": {
          "base_uri": "https://localhost:8080/",
          "height": 154
        },
        "outputId": "ee9f436a-d438-4a9e-f02d-9e68b1f11d2e"
      },
      "source": [
        "def imshow(img):\n",
        "    img = img / 2 + 0.5\n",
        "    npimg = img.numpy()\n",
        "    plt.imshow(np.transpose(npimg, (1,2,0)))\n",
        "    plt.show()\n",
        "\n",
        "dataiter = iter(train_loader)\n",
        "images, labels = next(dataiter)\n",
        "\n",
        "imshow(torchvision.utils.make_grid(images))\n",
        "print(' '.join('{}\\t'.format(class_list[labels[j]]) for j in range(4)))"
      ],
      "execution_count": 44,
      "outputs": [
        {
          "output_type": "display_data",
          "data": {
            "text/plain": [
              "<Figure size 432x288 with 1 Axes>"
            ],
            "image/png": "[encoded data removed]"
          },
          "metadata": {}
        },
        {
          "output_type": "stream",
          "name": "stdout",
          "text": [
            "bird\t horse\t deer\t car\t\n"
          ]
        }
      ]
    },
    {
      "cell_type": "markdown",
      "metadata": {
        "id": "hZgB4eq0Pk6c"
      },
      "source": [
        "## 모델 생성"
      ]
    },
    {
      "cell_type": "markdown",
      "source": [
        "* input size = 4 * 3 * 32 * 32\n",
        "* output size = 4 * 10\n",
        "* 모델 조건\n",
        "> * convolution-layer : 2개 이상 사용\n",
        "> * maxpooling-layer : 1개 이상 사용\n",
        "> * fc-layer : 2개 이상 사용\n",
        "> * activation-function 으로 'relu' 사용"
      ],
      "metadata": {
        "id": "aNeryJhl3GhR"
      }
    },
    {
      "cell_type": "markdown",
      "source": [
        "**<구조(최종수정본)>** <br>\n",
        "[Feature Extraction] Conv1 -> MaxPooling -> Conv2 -> Conv3 <br>\n",
        "[Classification] fc1 -> fc2 -> fc3 <br>\n",
        "activating function : ReLU (마지막 fc3 제외)"
      ],
      "metadata": {
        "id": "vjXJOGW9QlYH"
      }
    },
    {
      "cell_type": "code",
      "metadata": {
        "id": "E2OMzoFHPeFZ"
      },
      "source": [
        "class Net(nn.Module):\n",
        "    def __init__(self):\n",
        "      super(Net, self).__init__()\n",
        "\n",
        "      self.conv1 = nn.Conv2d(in_channels=3, out_channels=6, kernel_size=3, stride=1, padding=0)\n",
        "      # in_channels = 3 : 컬러\n",
        "      # (32 - 3 + 2*0)/1 +1 = 30 = n\n",
        "\n",
        "      # maxpool : n=30 -> 15 / 코드 : F.max_pool2d(x, (2,2))\n",
        "\n",
        "      self.conv2 = nn.Conv2d(in_channels=6, out_channels=16, kernel_size=3, stride=1, padding=0)\n",
        "      # (15 - 3 +2*0)/1 +1 = 13 = n\n",
        "\n",
        "      # maxpool : n=13 -> 6 / 코드 : F.max_pool2d(x, (2,2))\n",
        "\n",
        "\n",
        "      self.fc1 = nn.Linear(16*6*6, 100)  #16*6*6, 130\n",
        "      self.fc2 = nn.Linear(100, 10) #130, 86\n",
        "      #self.fc3 = nn.Linear(86, 10)\n",
        "\n",
        "\n",
        "    def forward(self, x):\n",
        "      x = F.relu(self.conv1(x))\n",
        "      x = F.max_pool2d(x, (2,2))\n",
        "      x = F.relu(self.conv2(x))\n",
        "      x = F.max_pool2d(x, 2)\n",
        "\n",
        "      x = x.view(-1, self.num_flat_features(x)) # num_flat_features : 아래에서 정의\n",
        "\n",
        "      x = F.relu(self.fc1(x))\n",
        "      x = self.fc2(x)\n",
        "\n",
        "      return x\n",
        "\n",
        "\n",
        "    def num_flat_features(self, x): # 처음 dim-size을 제외하고, 모두 곱한 값을 반환해준다.\n",
        "      size = x.size()[1:]\n",
        "      num_features = 1\n",
        "      for s in size:\n",
        "        num_features *= s\n",
        "        \n",
        "      return num_features"
      ],
      "execution_count": 116,
      "outputs": []
    },
    {
      "cell_type": "code",
      "source": [
        "myNet = Net().to(device) # gpu에 모델 저장\n",
        "myNet"
      ],
      "metadata": {
        "id": "P5ZAjWK03iQ_",
        "colab": {
          "base_uri": "https://localhost:8080/"
        },
        "outputId": "4b78886b-f3dd-4e86-d62f-273289c64b97"
      },
      "execution_count": 117,
      "outputs": [
        {
          "output_type": "execute_result",
          "data": {
            "text/plain": [
              "Net(\n",
              "  (conv1): Conv2d(3, 6, kernel_size=(3, 3), stride=(1, 1))\n",
              "  (conv2): Conv2d(6, 16, kernel_size=(3, 3), stride=(1, 1))\n",
              "  (fc1): Linear(in_features=576, out_features=100, bias=True)\n",
              "  (fc2): Linear(in_features=100, out_features=10, bias=True)\n",
              ")"
            ]
          },
          "metadata": {},
          "execution_count": 117
        }
      ]
    },
    {
      "cell_type": "code",
      "source": [
        "# input; (4 * 3 * 32 * 32)\n",
        "\n",
        "input = images.to(device)\n",
        "input.size()"
      ],
      "metadata": {
        "colab": {
          "base_uri": "https://localhost:8080/"
        },
        "id": "aC1MMHle3jid",
        "outputId": "87ac9786-5413-42a1-b79a-2184445d5257"
      },
      "execution_count": 118,
      "outputs": [
        {
          "output_type": "execute_result",
          "data": {
            "text/plain": [
              "torch.Size([4, 3, 32, 32])"
            ]
          },
          "metadata": {},
          "execution_count": 118
        }
      ]
    },
    {
      "cell_type": "code",
      "source": [
        "# output; (4 * 10)\n",
        "\n",
        "output = myNet.forward(input)\n",
        "output.size()"
      ],
      "metadata": {
        "colab": {
          "base_uri": "https://localhost:8080/"
        },
        "id": "UYxJZCGo3uPZ",
        "outputId": "a9d1bf54-b659-4084-f5f5-39c846bf52eb"
      },
      "execution_count": 119,
      "outputs": [
        {
          "output_type": "execute_result",
          "data": {
            "text/plain": [
              "torch.Size([4, 10])"
            ]
          },
          "metadata": {},
          "execution_count": 119
        }
      ]
    },
    {
      "cell_type": "code",
      "source": [
        "# 모델 구조 확인\n",
        "\n",
        "summary(myNet, input_size=(3, 32, 32), batch_size=128)"
      ],
      "metadata": {
        "id": "OS6RZEuB3wwa",
        "colab": {
          "base_uri": "https://localhost:8080/"
        },
        "outputId": "28521545-a0b8-410a-ea25-538574a91a3e"
      },
      "execution_count": 120,
      "outputs": [
        {
          "output_type": "stream",
          "name": "stdout",
          "text": [
            "----------------------------------------------------------------\n",
            "        Layer (type)               Output Shape         Param #\n",
            "================================================================\n",
            "            Conv2d-1           [128, 6, 30, 30]             168\n",
            "            Conv2d-2          [128, 16, 13, 13]             880\n",
            "            Linear-3                 [128, 100]          57,700\n",
            "            Linear-4                  [128, 10]           1,010\n",
            "================================================================\n",
            "Total params: 59,758\n",
            "Trainable params: 59,758\n",
            "Non-trainable params: 0\n",
            "----------------------------------------------------------------\n",
            "Input size (MB): 1.50\n",
            "Forward/backward pass size (MB): 8.02\n",
            "Params size (MB): 0.23\n",
            "Estimated Total Size (MB): 9.75\n",
            "----------------------------------------------------------------\n"
          ]
        }
      ]
    },
    {
      "cell_type": "markdown",
      "metadata": {
        "id": "gogmHThzPrjK"
      },
      "source": [
        "## 손실함수와 옵티마이저"
      ]
    },
    {
      "cell_type": "code",
      "metadata": {
        "id": "X5SzxufZPpel"
      },
      "source": [
        "criterion = nn.CrossEntropyLoss() # 다중분류; CrossEntropyLoss\n",
        "optimizer = optim.SGD(myNet.parameters(), lr=0.001, momentum=0.9) # SGD; lr=0.001 & momentum=0.9"
      ],
      "execution_count": 121,
      "outputs": []
    },
    {
      "cell_type": "markdown",
      "metadata": {
        "id": "_UnbIcKaPyQv"
      },
      "source": [
        "## 모델 학습"
      ]
    },
    {
      "cell_type": "code",
      "metadata": {
        "id": "jlWiR3LwPuwa",
        "colab": {
          "base_uri": "https://localhost:8080/"
        },
        "outputId": "b726633d-c0b5-48f4-c39a-e75501aca7cd"
      },
      "source": [
        "# epochs = 10\n",
        "\n",
        "for epoch in range(10):\n",
        "    running_loss = 0.0\n",
        "\n",
        "    for i, data in enumerate(train_loader, 0):\n",
        "        inputs, labels = data[0].to(device), data[1].to(device)\n",
        "\n",
        "        optimizer.zero_grad()                      # 가중치 초기화\n",
        "\n",
        "        outputs = myNet(inputs)                    # y_pred\n",
        "        loss = criterion(outputs, labels)          # 손실함수를 이용해서 loss계산\n",
        "        loss.backward()                            # back-propagation\n",
        "        optimizer.step()                           # 가중치 업데이트\n",
        "\n",
        "        running_loss += loss.item()\n",
        "        if i % 2000 == 1999:\n",
        "            print(\"Epoch: {}, Batch: {}, Loss: {}\".format(epoch+1, i+1, running_loss/2000))\n",
        "            running_loss = 0.0"
      ],
      "execution_count": 122,
      "outputs": [
        {
          "output_type": "stream",
          "name": "stdout",
          "text": [
            "Epoch: 1, Batch: 2000, Loss: 2.072584563136101\n",
            "Epoch: 1, Batch: 4000, Loss: 1.741658540993929\n",
            "Epoch: 1, Batch: 6000, Loss: 1.5766900568306446\n",
            "Epoch: 1, Batch: 8000, Loss: 1.4870136616528034\n",
            "Epoch: 1, Batch: 10000, Loss: 1.459931265681982\n",
            "Epoch: 1, Batch: 12000, Loss: 1.3865136435851455\n",
            "Epoch: 2, Batch: 2000, Loss: 1.3132353229522704\n",
            "Epoch: 2, Batch: 4000, Loss: 1.2932999535910785\n",
            "Epoch: 2, Batch: 6000, Loss: 1.2779311953336001\n",
            "Epoch: 2, Batch: 8000, Loss: 1.2381252538114786\n",
            "Epoch: 2, Batch: 10000, Loss: 1.2286217615120112\n",
            "Epoch: 2, Batch: 12000, Loss: 1.1928538630455732\n",
            "Epoch: 3, Batch: 2000, Loss: 1.124421183090657\n",
            "Epoch: 3, Batch: 4000, Loss: 1.1384470505826174\n",
            "Epoch: 3, Batch: 6000, Loss: 1.1020535443983972\n",
            "Epoch: 3, Batch: 8000, Loss: 1.0928833273453638\n",
            "Epoch: 3, Batch: 10000, Loss: 1.138587878888473\n",
            "Epoch: 3, Batch: 12000, Loss: 1.112694307750091\n",
            "Epoch: 4, Batch: 2000, Loss: 1.015634684521705\n",
            "Epoch: 4, Batch: 4000, Loss: 1.023770038750954\n",
            "Epoch: 4, Batch: 6000, Loss: 1.03052810453251\n",
            "Epoch: 4, Batch: 8000, Loss: 1.036856639017351\n",
            "Epoch: 4, Batch: 10000, Loss: 1.0188377269748599\n",
            "Epoch: 4, Batch: 12000, Loss: 1.0235139978509395\n",
            "Epoch: 5, Batch: 2000, Loss: 0.9160023359521292\n",
            "Epoch: 5, Batch: 4000, Loss: 0.9463280046046711\n",
            "Epoch: 5, Batch: 6000, Loss: 0.9692192665226758\n",
            "Epoch: 5, Batch: 8000, Loss: 0.9733483052337543\n",
            "Epoch: 5, Batch: 10000, Loss: 0.9504262744663283\n",
            "Epoch: 5, Batch: 12000, Loss: 0.970202764859423\n",
            "Epoch: 6, Batch: 2000, Loss: 0.8616126436144114\n",
            "Epoch: 6, Batch: 4000, Loss: 0.8761219657077454\n",
            "Epoch: 6, Batch: 6000, Loss: 0.914548515603412\n",
            "Epoch: 6, Batch: 8000, Loss: 0.8968695432692766\n",
            "Epoch: 6, Batch: 10000, Loss: 0.8963902978515252\n",
            "Epoch: 6, Batch: 12000, Loss: 0.9206272105569951\n",
            "Epoch: 7, Batch: 2000, Loss: 0.8037895887969062\n",
            "Epoch: 7, Batch: 4000, Loss: 0.8284877246711403\n",
            "Epoch: 7, Batch: 6000, Loss: 0.8299292324385605\n",
            "Epoch: 7, Batch: 8000, Loss: 0.8589210790623911\n",
            "Epoch: 7, Batch: 10000, Loss: 0.8636163523523137\n",
            "Epoch: 7, Batch: 12000, Loss: 0.8916658736024983\n",
            "Epoch: 8, Batch: 2000, Loss: 0.7856674526603893\n",
            "Epoch: 8, Batch: 4000, Loss: 0.7614547727135359\n",
            "Epoch: 8, Batch: 6000, Loss: 0.7913034236954991\n",
            "Epoch: 8, Batch: 8000, Loss: 0.8297683057182003\n",
            "Epoch: 8, Batch: 10000, Loss: 0.8256263294224627\n",
            "Epoch: 8, Batch: 12000, Loss: 0.8230676412331959\n",
            "Epoch: 9, Batch: 2000, Loss: 0.7250271078958176\n",
            "Epoch: 9, Batch: 4000, Loss: 0.7394436923116445\n",
            "Epoch: 9, Batch: 6000, Loss: 0.7674602988078258\n",
            "Epoch: 9, Batch: 8000, Loss: 0.7854463925571763\n",
            "Epoch: 9, Batch: 10000, Loss: 0.7871955798004056\n",
            "Epoch: 9, Batch: 12000, Loss: 0.807460396160488\n",
            "Epoch: 10, Batch: 2000, Loss: 0.6649154627039098\n",
            "Epoch: 10, Batch: 4000, Loss: 0.7291378062895092\n",
            "Epoch: 10, Batch: 6000, Loss: 0.7238899423226248\n",
            "Epoch: 10, Batch: 8000, Loss: 0.7447581801456399\n",
            "Epoch: 10, Batch: 10000, Loss: 0.7522633646973409\n",
            "Epoch: 10, Batch: 12000, Loss: 0.759821455742931\n"
          ]
        }
      ]
    },
    {
      "cell_type": "markdown",
      "metadata": {
        "id": "NqYnwxJ3P8Gb"
      },
      "source": [
        "## 모델의 저장 및 로드"
      ]
    },
    {
      "cell_type": "code",
      "metadata": {
        "id": "keqtypx1QY6t",
        "colab": {
          "base_uri": "https://localhost:8080/",
          "height": 154
        },
        "outputId": "c69b4545-26ff-45fb-d8e6-6deb59d6584f"
      },
      "source": [
        "# 잘 학습된 모델인지 간단히 한 batch에 대해서 확인\n",
        "\n",
        "dataiter = iter(test_loader)\n",
        "images, labels = next(dataiter)\n",
        "\n",
        "imshow(torchvision.utils.make_grid(images))\n",
        "print(' '.join('\\t{}'.format(class_list[labels[j]]) for j in range(4))) # batch-size = 4"
      ],
      "execution_count": 123,
      "outputs": [
        {
          "output_type": "display_data",
          "data": {
            "text/plain": [
              "<Figure size 432x288 with 1 Axes>"
            ],
            "image/png": "[encoded data removed]"
          },
          "metadata": {}
        },
        {
          "output_type": "stream",
          "name": "stdout",
          "text": [
            "\tdeer \ttruck \tfrog \tship\n"
          ]
        }
      ]
    },
    {
      "cell_type": "code",
      "metadata": {
        "id": "z6UYtCT4P3Tj"
      },
      "source": [
        "# 저장\n",
        "\n",
        "PATH = './cifar_net.pth'\n",
        "torch.save(myNet.state_dict(), PATH)"
      ],
      "execution_count": 124,
      "outputs": []
    },
    {
      "cell_type": "code",
      "metadata": {
        "id": "FfsXzP9NQbMg",
        "colab": {
          "base_uri": "https://localhost:8080/"
        },
        "outputId": "a519824c-a650-465c-ac63-72472af60b88"
      },
      "source": [
        "# 불러오기\n",
        "\n",
        "Loaded_Net = Net().to(device)\n",
        "Loaded_Net.load_state_dict(torch.load(PATH))"
      ],
      "execution_count": 125,
      "outputs": [
        {
          "output_type": "execute_result",
          "data": {
            "text/plain": [
              "<All keys matched successfully>"
            ]
          },
          "metadata": {},
          "execution_count": 125
        }
      ]
    },
    {
      "cell_type": "markdown",
      "metadata": {
        "id": "1dvGiVkrQ2cf"
      },
      "source": [
        "## 모델 테스트\n",
        "* 조건\n",
        "> 전체 accuracy가 70% 이상이어야한다.<br>\n",
        "> 각각의 class에 대한 accuracy는 60% 이상이어야한다."
      ]
    },
    {
      "cell_type": "code",
      "metadata": {
        "id": "ajGFbhDvQtlp",
        "colab": {
          "base_uri": "https://localhost:8080/"
        },
        "outputId": "0fe6d56c-637b-4ea6-f0ef-d3b712c22477"
      },
      "source": [
        "# 전체 accuracy 확인; 70% 이상 성능값\n",
        "\n",
        "correct = 0\n",
        "total = 0\n",
        "\n",
        "with torch.no_grad():\n",
        "    for data in test_loader:\n",
        "        images, labels = data[0].to(device), data[1].to(device)          # model객체도 gpu에 저장했음으로, 사용되는 데이터도 gpu에 저장한다.; to(device) 사용\n",
        "        outputs = myNet(images)                           # y_pred\n",
        "        _, predicted = torch.max(outputs.data, axis=1)  # 확률이 가장 큰 것의 label을 최종 예측값으로 선택\n",
        "        total += labels.size(0) # 전체 갯수\n",
        "        correct += (predicted == labels).sum().item()   # 맞춘 갯수\n",
        "    \n",
        "    print(\"Accuracy of this model : {}%\".format(100 * correct / total))"
      ],
      "execution_count": 126,
      "outputs": [
        {
          "output_type": "stream",
          "name": "stdout",
          "text": [
            "Accuracy of this model : 77.75%\n"
          ]
        }
      ]
    },
    {
      "cell_type": "markdown",
      "metadata": {
        "id": "trWVf5YvRYI0"
      },
      "source": [
        "- 어떤 것을 잘 분류했고, 잘 못했는지 확인"
      ]
    },
    {
      "cell_type": "code",
      "metadata": {
        "id": "P9p7QKhDQzpC",
        "colab": {
          "base_uri": "https://localhost:8080/"
        },
        "outputId": "c2c387e5-c377-4bb2-bbf1-bb87cccdd6b1"
      },
      "source": [
        "# 각각의 class에 대한 accuracy 확인; 각각의 class에 대한 60% 이상 성능값\n",
        "\n",
        "class_correct = list(0. for i in range(10))\n",
        "class_total = list(0. for i in range(10))\n",
        "\n",
        "with torch.no_grad():\n",
        "    for data in test_loader:\n",
        "        images, labels = data[0].to(device), data[1].to(device)\n",
        "        outputs = Loaded_Net(images)\n",
        "        _, predicted = torch.max(outputs.data, axis=1)\n",
        "        c = (predicted == labels).squeeze()\n",
        "        for i in range(4): \n",
        "            label = labels[i]\n",
        "            class_correct[label] += c[i].item()\n",
        "            class_total[label] += 1\n",
        "\n",
        "for i in range(10):\n",
        "    print(\"Accuracy of {}: {}%\".format(class_list[i], 100 * class_correct[i] / class_total[i]))"
      ],
      "execution_count": 127,
      "outputs": [
        {
          "output_type": "stream",
          "name": "stdout",
          "text": [
            "Accuracy of plane: 86.74%\n",
            "Accuracy of car: 88.48%\n",
            "Accuracy of bird: 68.86%\n",
            "Accuracy of cat: 62.5%\n",
            "Accuracy of deer: 77.06%\n",
            "Accuracy of dog: 68.04%\n",
            "Accuracy of frog: 82.96%\n",
            "Accuracy of horse: 80.12%\n",
            "Accuracy of ship: 83.86%\n",
            "Accuracy of truck: 78.88%\n"
          ]
        }
      ]
    },
    {
      "cell_type": "code",
      "source": [],
      "metadata": {
        "id": "mtVxCK2eVQZh"
      },
      "execution_count": null,
      "outputs": []
    }
  ]
}