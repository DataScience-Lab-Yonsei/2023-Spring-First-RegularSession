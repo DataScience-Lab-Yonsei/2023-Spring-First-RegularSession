{
  "nbformat": 4,
  "nbformat_minor": 0,
  "metadata": {
    "colab": {
      "provenance": []
    },
    "kernelspec": {
      "name": "python3",
      "display_name": "Python 3"
    },
    "accelerator": "GPU",
    "gpuClass": "standard"
  },
  "cells": [
    {
      "cell_type": "markdown",
      "source": [
        "# 초기 세팅"
      ],
      "metadata": {
        "id": "cdNvme8aKSBP"
      }
    },
    {
      "cell_type": "code",
      "metadata": {
        "id": "P1v9luAfHXdz"
      },
      "source": [
        "import torch\n",
        "import torch.nn as nn\n",
        "import torch.nn.functional as F\n",
        "import torch.optim as optim\n",
        "from torch.utils.data import Dataset, DataLoader\n",
        "\n",
        "import torchvision\n",
        "import torchvision.datasets as datasets\n",
        "import torchvision.transforms as transforms\n",
        "\n",
        "import numpy as np\n",
        "import matplotlib.pyplot as plt\n",
        "plt.style.use('seaborn-white')"
      ],
      "execution_count": 36,
      "outputs": []
    },
    {
      "cell_type": "code",
      "source": [
        "from torchsummary import summary"
      ],
      "metadata": {
        "id": "D39aCPyTu2Ce"
      },
      "execution_count": 37,
      "outputs": []
    },
    {
      "cell_type": "markdown",
      "metadata": {
        "id": "02LdHlTTSz5L"
      },
      "source": [
        "- 현재 GPU 설정"
      ]
    },
    {
      "cell_type": "code",
      "metadata": {
        "id": "Ybsjn80uSx3X",
        "colab": {
          "base_uri": "https://localhost:8080/"
        },
        "outputId": "b43580b9-f4c4-40a9-91cf-3c9f2de63e93"
      },
      "source": [
        "# colab의 runtime-type을 GPU로 설정해서, True가 나오도록 한다.\n",
        "\n",
        "torch.cuda.is_available()"
      ],
      "execution_count": 38,
      "outputs": [
        {
          "output_type": "execute_result",
          "data": {
            "text/plain": [
              "True"
            ]
          },
          "metadata": {},
          "execution_count": 38
        }
      ]
    },
    {
      "cell_type": "code",
      "metadata": {
        "id": "HlPZI5wfDQhv",
        "colab": {
          "base_uri": "https://localhost:8080/"
        },
        "outputId": "6862f9b1-1f6e-4abf-bcbf-d6f57ff36047"
      },
      "source": [
        "device = torch.device('cuda' if torch.cuda.is_available() else 'cpu') # gpu('cuda')가 사용가능하면, gpu를 이용하도록 설정\n",
        "device"
      ],
      "execution_count": 39,
      "outputs": [
        {
          "output_type": "execute_result",
          "data": {
            "text/plain": [
              "device(type='cuda')"
            ]
          },
          "metadata": {},
          "execution_count": 39
        }
      ]
    },
    {
      "cell_type": "markdown",
      "source": [
        "# CIFAR10 분류 모델\n",
        "* R/G/B(3) 이미지 데이터 분류\n",
        "* 32x32 pixel"
      ],
      "metadata": {
        "id": "jqQF4qWUywYV"
      }
    },
    {
      "cell_type": "markdown",
      "metadata": {
        "id": "wD3z029XPFK0"
      },
      "source": [
        "## 전처리 설정"
      ]
    },
    {
      "cell_type": "code",
      "metadata": {
        "id": "4u3-pXWIPCiM"
      },
      "source": [
        "# transform 정의\n",
        "\n",
        "CIFAR_transform = transforms.Compose([transforms.ToTensor(), \n",
        "                                      transforms.Normalize((0.5, 0.5, 0.5), (0.5, 0.5, 0.5))]) # r,g,b 데이터임으로, 3개의 인자값 전달"
      ],
      "execution_count": 40,
      "outputs": []
    },
    {
      "cell_type": "markdown",
      "metadata": {
        "id": "a4HzFx19PNYv"
      },
      "source": [
        "## 데이터 로드 및 확인"
      ]
    },
    {
      "cell_type": "code",
      "metadata": {
        "id": "ctstlIt_PM9z",
        "colab": {
          "base_uri": "https://localhost:8080/"
        },
        "outputId": "89e1fb22-9bb7-4ec7-f05e-8c1dba8bc14a"
      },
      "source": [
        "# datasets\n",
        "\n",
        "trainset = torchvision.datasets.CIFAR10(root='./data', train=True,\n",
        "                                        download=True, transform=CIFAR_transform)\n",
        "\n",
        "testset = torchvision.datasets.CIFAR10(root='./data', train=True,\n",
        "                                        download=True, transform=CIFAR_transform)"
      ],
      "execution_count": 41,
      "outputs": [
        {
          "output_type": "stream",
          "name": "stdout",
          "text": [
            "Files already downloaded and verified\n",
            "Files already downloaded and verified\n"
          ]
        }
      ]
    },
    {
      "cell_type": "code",
      "metadata": {
        "id": "wTkTcictPTyY"
      },
      "source": [
        "# DataLoader\n",
        "\n",
        "batch_size = 4\n",
        "\n",
        "train_loader = DataLoader(trainset, batch_size=batch_size,\n",
        "                                          shuffle=True, num_workers=2)\n",
        "\n",
        "test_loader = DataLoader(trainset, batch_size=batch_size,\n",
        "                                          shuffle=True, num_workers=2)"
      ],
      "execution_count": 42,
      "outputs": []
    },
    {
      "cell_type": "code",
      "source": [
        "# 숫자 label에 해당되는 값\n",
        "\n",
        "class_list = ('plane', 'car', 'bird', 'cat', 'deer',\n",
        "           'dog', 'frog', 'horse', 'ship', 'truck')"
      ],
      "metadata": {
        "id": "-lxqiKWGy-sP"
      },
      "execution_count": 43,
      "outputs": []
    },
    {
      "cell_type": "code",
      "metadata": {
        "id": "_6IsY5CrPZ5e",
        "colab": {
          "base_uri": "https://localhost:8080/",
          "height": 154
        },
        "outputId": "ee9f436a-d438-4a9e-f02d-9e68b1f11d2e"
      },
      "source": [
        "def imshow(img):\n",
        "    img = img / 2 + 0.5\n",
        "    npimg = img.numpy()\n",
        "    plt.imshow(np.transpose(npimg, (1,2,0)))\n",
        "    plt.show()\n",
        "\n",
        "dataiter = iter(train_loader)\n",
        "images, labels = next(dataiter)\n",
        "\n",
        "imshow(torchvision.utils.make_grid(images))\n",
        "print(' '.join('{}\\t'.format(class_list[labels[j]]) for j in range(4)))"
      ],
      "execution_count": 44,
      "outputs": [
        {
          "output_type": "display_data",
          "data": {
            "text/plain": [
              "<Figure size 432x288 with 1 Axes>"
            ],
            "image/png": "[encoded data removed]"
          },
          "metadata": {}
        },
        {
          "output_type": "stream",
          "name": "stdout",
          "text": [
            "bird\t horse\t deer\t car\t\n"
          ]
        }
      ]
    },
    {
      "cell_type": "markdown",
      "metadata": {
        "id": "hZgB4eq0Pk6c"
      },
      "source": [
        "## 모델 생성"
      ]
    },
    {
      "cell_type": "markdown",
      "source": [
        "* input size = 4 * 3 * 32 * 32\n",
        "* output size = 4 * 10\n",
        "* 모델 조건\n",
        "> * convolution-layer : 2개 이상 사용\n",
        "> * maxpooling-layer : 1개 이상 사용\n",
        "> * fc-layer : 2개 이상 사용\n",
        "> * activation-function 으로 'relu' 사용"
      ],
      "metadata": {
        "id": "aNeryJhl3GhR"
      }
    },
    {
      "cell_type": "markdown",
      "source": [
        "**<구조>** <br>\n",
        "[Feature Extraction] Conv1 -> MaxPooling -> Conv2 -> Conv3 -> Conv4 <br>\n",
        "[Classification] fc1 -> fc2 <br>\n",
        "activating function : ReLU (마지막 fc2 제외)"
      ],
      "metadata": {
        "id": "vjXJOGW9QlYH"
      }
    },
    {
      "cell_type": "code",
      "metadata": {
        "id": "E2OMzoFHPeFZ"
      },
      "source": [
        "class Net(nn.Module):\n",
        "    def __init__(self):\n",
        "      super(Net, self).__init__()\n",
        "\n",
        "      self.conv1 = nn.Conv2d(in_channels=3, out_channels=6, kernel_size=5, stride=1, padding=1)\n",
        "      # in_channels = 3 : 컬러\n",
        "      # out_channels = 6\n",
        "      # (32 - 5 + 2*1)/1 +1 = 30 = n\n",
        "\n",
        "      # maxpool : n=30 -> 15  / 코드 : F.max_pool2d(x, (2,2))\n",
        "\n",
        "      self.conv2 = nn.Conv2d(in_channels=6, out_channels=5, kernel_size=3, stride=2, padding=2)\n",
        "      # (15 - 3 +2*2)/2 +1 = 9 = n\n",
        "\n",
        "      self.conv3 = nn.Conv2d(in_channels=5, out_channels=8, kernel_size=3, stride=2, padding=1)\n",
        "      # (9 - 3 + 2*1)/2 +1 = 5 = n\n",
        "\n",
        "      self.fc1 = nn.Linear(8*5*5, 80)\n",
        "      self.fc2 = nn.Linear(80, 10)\n",
        "\n",
        "\n",
        "    def forward(self, x):\n",
        "        x = F.relu(self.conv1(x))\n",
        "        x = F.max_pool2d(x, (2,2))\n",
        "        x = F.relu(self.conv2(x))\n",
        "        x = F.relu(self.conv3(x))\n",
        "\n",
        "        x = x.view(-1, self.num_flat_features(x)) # num_flat_features : 아래에서 정의\n",
        "\n",
        "        x = F.relu(self.fc1(x))\n",
        "        x = self.fc2(x)\n",
        "\n",
        "        return x\n",
        "\n",
        "\n",
        "    def num_flat_features(self, x): # 처음 dim-size을 제외하고, 모두 곱한 값을 반환해준다.\n",
        "        size = x.size()[1:]\n",
        "        num_features = 1\n",
        "        for s in size:\n",
        "            num_features *= s\n",
        "        \n",
        "        return num_features"
      ],
      "execution_count": 66,
      "outputs": []
    },
    {
      "cell_type": "code",
      "source": [
        "myNet = Net().to(device) # gpu에 모델 저장\n",
        "myNet"
      ],
      "metadata": {
        "id": "P5ZAjWK03iQ_",
        "colab": {
          "base_uri": "https://localhost:8080/"
        },
        "outputId": "6838fd99-ccc0-44c1-d810-15db39e9bd44"
      },
      "execution_count": 67,
      "outputs": [
        {
          "output_type": "execute_result",
          "data": {
            "text/plain": [
              "Net(\n",
              "  (conv1): Conv2d(3, 6, kernel_size=(5, 5), stride=(1, 1), padding=(1, 1))\n",
              "  (conv2): Conv2d(6, 5, kernel_size=(3, 3), stride=(2, 2), padding=(2, 2))\n",
              "  (conv3): Conv2d(5, 8, kernel_size=(3, 3), stride=(2, 2), padding=(1, 1))\n",
              "  (fc1): Linear(in_features=200, out_features=80, bias=True)\n",
              "  (fc2): Linear(in_features=80, out_features=10, bias=True)\n",
              ")"
            ]
          },
          "metadata": {},
          "execution_count": 67
        }
      ]
    },
    {
      "cell_type": "code",
      "source": [
        "# input; (4 * 3 * 32 * 32)\n",
        "\n",
        "input = images.to(device)\n",
        "input.size()"
      ],
      "metadata": {
        "colab": {
          "base_uri": "https://localhost:8080/"
        },
        "id": "aC1MMHle3jid",
        "outputId": "8fe80b31-c0ac-458b-9dae-9e62212b3e21"
      },
      "execution_count": 68,
      "outputs": [
        {
          "output_type": "execute_result",
          "data": {
            "text/plain": [
              "torch.Size([4, 3, 32, 32])"
            ]
          },
          "metadata": {},
          "execution_count": 68
        }
      ]
    },
    {
      "cell_type": "code",
      "source": [
        "# output; (4 * 10)\n",
        "\n",
        "output = myNet.forward(input)\n",
        "output.size()"
      ],
      "metadata": {
        "colab": {
          "base_uri": "https://localhost:8080/"
        },
        "id": "UYxJZCGo3uPZ",
        "outputId": "f8b40691-e801-479f-e88b-250982ed32e5"
      },
      "execution_count": 69,
      "outputs": [
        {
          "output_type": "execute_result",
          "data": {
            "text/plain": [
              "torch.Size([4, 10])"
            ]
          },
          "metadata": {},
          "execution_count": 69
        }
      ]
    },
    {
      "cell_type": "code",
      "source": [
        "# 모델 구조 확인\n",
        "\n",
        "summary(myNet, input_size=(3, 32, 32), batch_size=128)"
      ],
      "metadata": {
        "id": "OS6RZEuB3wwa",
        "colab": {
          "base_uri": "https://localhost:8080/"
        },
        "outputId": "043daddc-ffb7-4cc3-a8ca-ce1cc6c3b574"
      },
      "execution_count": 70,
      "outputs": [
        {
          "output_type": "stream",
          "name": "stdout",
          "text": [
            "----------------------------------------------------------------\n",
            "        Layer (type)               Output Shape         Param #\n",
            "================================================================\n",
            "            Conv2d-1           [128, 6, 30, 30]             456\n",
            "            Conv2d-2             [128, 5, 9, 9]             275\n",
            "            Conv2d-3             [128, 8, 5, 5]             368\n",
            "            Linear-4                  [128, 80]          16,080\n",
            "            Linear-5                  [128, 10]             810\n",
            "================================================================\n",
            "Total params: 17,989\n",
            "Trainable params: 17,989\n",
            "Non-trainable params: 0\n",
            "----------------------------------------------------------------\n",
            "Input size (MB): 1.50\n",
            "Forward/backward pass size (MB): 5.95\n",
            "Params size (MB): 0.07\n",
            "Estimated Total Size (MB): 7.52\n",
            "----------------------------------------------------------------\n"
          ]
        }
      ]
    },
    {
      "cell_type": "markdown",
      "metadata": {
        "id": "gogmHThzPrjK"
      },
      "source": [
        "## 손실함수와 옵티마이저"
      ]
    },
    {
      "cell_type": "code",
      "metadata": {
        "id": "X5SzxufZPpel"
      },
      "source": [
        "criterion = nn.CrossEntropyLoss() # 다중분류; CrossEntropyLoss\n",
        "optimizer = optim.SGD(myNet.parameters(), lr=0.001, momentum=0.9) # SGD; lr=0.001 & momentum=0.9"
      ],
      "execution_count": 71,
      "outputs": []
    },
    {
      "cell_type": "markdown",
      "metadata": {
        "id": "_UnbIcKaPyQv"
      },
      "source": [
        "## 모델 학습"
      ]
    },
    {
      "cell_type": "code",
      "metadata": {
        "id": "jlWiR3LwPuwa",
        "colab": {
          "base_uri": "https://localhost:8080/"
        },
        "outputId": "903be077-be94-437b-8ecd-9ff8ae9e9aff"
      },
      "source": [
        "# epochs = 10\n",
        "\n",
        "for epoch in range(10):\n",
        "    running_loss = 0.0\n",
        "\n",
        "    for i, data in enumerate(train_loader, 0):\n",
        "        inputs, labels = data[0].to(device), data[1].to(device)\n",
        "\n",
        "        optimizer.zero_grad()                      # 가중치 초기화\n",
        "\n",
        "        outputs = myNet(inputs)                    # y_pred\n",
        "        loss = criterion(outputs, labels)          # 손실함수를 이용해서 loss계산\n",
        "        loss.backward()                            # back-propagation\n",
        "        optimizer.step()                           # 가중치 업데이트\n",
        "\n",
        "        running_loss += loss.item()\n",
        "        if i % 2000 == 1999:\n",
        "            print(\"Epoch: {}, Batch: {}, Loss: {}\".format(epoch+1, i+1, running_loss/2000))\n",
        "            running_loss = 0.0"
      ],
      "execution_count": 72,
      "outputs": [
        {
          "output_type": "stream",
          "name": "stdout",
          "text": [
            "Epoch: 1, Batch: 2000, Loss: 2.2657100550532343\n",
            "Epoch: 1, Batch: 4000, Loss: 1.9948438594341278\n",
            "Epoch: 1, Batch: 6000, Loss: 1.7989167921841145\n",
            "Epoch: 1, Batch: 8000, Loss: 1.686532560184598\n",
            "Epoch: 1, Batch: 10000, Loss: 1.6535819034278392\n",
            "Epoch: 1, Batch: 12000, Loss: 1.6076055511683225\n",
            "Epoch: 2, Batch: 2000, Loss: 1.552969237744808\n",
            "Epoch: 2, Batch: 4000, Loss: 1.5396721648573874\n",
            "Epoch: 2, Batch: 6000, Loss: 1.5210885545313357\n",
            "Epoch: 2, Batch: 8000, Loss: 1.4875274272412062\n",
            "Epoch: 2, Batch: 10000, Loss: 1.4584568730145693\n",
            "Epoch: 2, Batch: 12000, Loss: 1.4452632185742258\n",
            "Epoch: 3, Batch: 2000, Loss: 1.3918065634220838\n",
            "Epoch: 3, Batch: 4000, Loss: 1.368795315347612\n",
            "Epoch: 3, Batch: 6000, Loss: 1.385328540764749\n",
            "Epoch: 3, Batch: 8000, Loss: 1.3705753709375859\n",
            "Epoch: 3, Batch: 10000, Loss: 1.3396225344985724\n",
            "Epoch: 3, Batch: 12000, Loss: 1.3553099937289954\n",
            "Epoch: 4, Batch: 2000, Loss: 1.3080419851019978\n",
            "Epoch: 4, Batch: 4000, Loss: 1.296118002615869\n",
            "Epoch: 4, Batch: 6000, Loss: 1.3160752036422492\n",
            "Epoch: 4, Batch: 8000, Loss: 1.2766562509536743\n",
            "Epoch: 4, Batch: 10000, Loss: 1.266071584150195\n",
            "Epoch: 4, Batch: 12000, Loss: 1.3116233545467257\n",
            "Epoch: 5, Batch: 2000, Loss: 1.2444039833657443\n",
            "Epoch: 5, Batch: 4000, Loss: 1.2414942035898566\n",
            "Epoch: 5, Batch: 6000, Loss: 1.2483951160497964\n",
            "Epoch: 5, Batch: 8000, Loss: 1.2639262404181064\n",
            "Epoch: 5, Batch: 10000, Loss: 1.225203415609896\n",
            "Epoch: 5, Batch: 12000, Loss: 1.2258579977564514\n",
            "Epoch: 6, Batch: 2000, Loss: 1.1986950036138295\n",
            "Epoch: 6, Batch: 4000, Loss: 1.212707554376684\n",
            "Epoch: 6, Batch: 6000, Loss: 1.2158526246361434\n",
            "Epoch: 6, Batch: 8000, Loss: 1.2092438158225267\n",
            "Epoch: 6, Batch: 10000, Loss: 1.1997862019538879\n",
            "Epoch: 6, Batch: 12000, Loss: 1.1987141031436621\n",
            "Epoch: 7, Batch: 2000, Loss: 1.173866764564067\n",
            "Epoch: 7, Batch: 4000, Loss: 1.1752387711778283\n",
            "Epoch: 7, Batch: 6000, Loss: 1.1663940026424826\n",
            "Epoch: 7, Batch: 8000, Loss: 1.1679393055811524\n",
            "Epoch: 7, Batch: 10000, Loss: 1.1618097109869123\n",
            "Epoch: 7, Batch: 12000, Loss: 1.1822379814032464\n",
            "Epoch: 8, Batch: 2000, Loss: 1.1348607310578227\n",
            "Epoch: 8, Batch: 4000, Loss: 1.1416523642241956\n",
            "Epoch: 8, Batch: 6000, Loss: 1.1690551043599844\n",
            "Epoch: 8, Batch: 8000, Loss: 1.1465447181239725\n",
            "Epoch: 8, Batch: 10000, Loss: 1.1442497153319418\n",
            "Epoch: 8, Batch: 12000, Loss: 1.1439296746123582\n",
            "Epoch: 9, Batch: 2000, Loss: 1.1049291456295178\n",
            "Epoch: 9, Batch: 4000, Loss: 1.1062010148875416\n",
            "Epoch: 9, Batch: 6000, Loss: 1.1220936951525509\n",
            "Epoch: 9, Batch: 8000, Loss: 1.1464441556558014\n",
            "Epoch: 9, Batch: 10000, Loss: 1.14211038139835\n",
            "Epoch: 9, Batch: 12000, Loss: 1.1299883796051144\n",
            "Epoch: 10, Batch: 2000, Loss: 1.0818122444339096\n",
            "Epoch: 10, Batch: 4000, Loss: 1.1120095466617494\n",
            "Epoch: 10, Batch: 6000, Loss: 1.1167976221330465\n",
            "Epoch: 10, Batch: 8000, Loss: 1.094875406257808\n",
            "Epoch: 10, Batch: 10000, Loss: 1.119486902775243\n",
            "Epoch: 10, Batch: 12000, Loss: 1.119120056609623\n"
          ]
        }
      ]
    },
    {
      "cell_type": "markdown",
      "metadata": {
        "id": "NqYnwxJ3P8Gb"
      },
      "source": [
        "## 모델의 저장 및 로드"
      ]
    },
    {
      "cell_type": "code",
      "metadata": {
        "id": "keqtypx1QY6t",
        "colab": {
          "base_uri": "https://localhost:8080/",
          "height": 154
        },
        "outputId": "11a000cb-494b-4234-a78b-cd78a6806143"
      },
      "source": [
        "# 잘 학습된 모델인지 간단히 한 batch에 대해서 확인\n",
        "\n",
        "dataiter = iter(test_loader)\n",
        "images, labels = next(dataiter)\n",
        "\n",
        "imshow(torchvision.utils.make_grid(images))\n",
        "print(' '.join('\\t{}'.format(class_list[labels[j]]) for j in range(4))) # batch-size = 4"
      ],
      "execution_count": 73,
      "outputs": [
        {
          "output_type": "display_data",
          "data": {
            "text/plain": [
              "<Figure size 432x288 with 1 Axes>"
            ],
            "image/png": "[encoded data removed]"
          },
          "metadata": {}
        },
        {
          "output_type": "stream",
          "name": "stdout",
          "text": [
            "\thorse \tdog \tcar \tship\n"
          ]
        }
      ]
    },
    {
      "cell_type": "code",
      "metadata": {
        "id": "z6UYtCT4P3Tj"
      },
      "source": [
        "# 저장\n",
        "\n",
        "PATH = './cifar_net.pth'\n",
        "torch.save(myNet.state_dict(), PATH)"
      ],
      "execution_count": 74,
      "outputs": []
    },
    {
      "cell_type": "code",
      "metadata": {
        "id": "FfsXzP9NQbMg",
        "colab": {
          "base_uri": "https://localhost:8080/"
        },
        "outputId": "d24324d1-6710-428d-c81e-29b5d4941702"
      },
      "source": [
        "# 불러오기\n",
        "\n",
        "Loaded_Net = Net().to(device)\n",
        "Loaded_Net.load_state_dict(torch.load(PATH))"
      ],
      "execution_count": 75,
      "outputs": [
        {
          "output_type": "execute_result",
          "data": {
            "text/plain": [
              "<All keys matched successfully>"
            ]
          },
          "metadata": {},
          "execution_count": 75
        }
      ]
    },
    {
      "cell_type": "markdown",
      "metadata": {
        "id": "1dvGiVkrQ2cf"
      },
      "source": [
        "## 모델 테스트\n",
        "* 조건\n",
        "> 전체 accuracy가 70% 이상이어야한다.<br>\n",
        "> 각각의 class에 대한 accuracy는 60% 이상이어야한다."
      ]
    },
    {
      "cell_type": "code",
      "metadata": {
        "id": "ajGFbhDvQtlp",
        "colab": {
          "base_uri": "https://localhost:8080/"
        },
        "outputId": "efdb8e60-981a-4903-babf-6928c942e3dc"
      },
      "source": [
        "# 전체 accuracy 확인; 70% 이상 성능값\n",
        "\n",
        "correct = 0\n",
        "total = 0\n",
        "\n",
        "with torch.no_grad():\n",
        "    for data in test_loader:\n",
        "        images, labels = data[0].to(device), data[1].to(device)          # model객체도 gpu에 저장했음으로, 사용되는 데이터도 gpu에 저장한다.; to(device) 사용\n",
        "        outputs = myNet(images)                           # y_pred\n",
        "        _, predicted = torch.max(outputs.data, axis=1)  # 확률이 가장 큰 것의 label을 최종 예측값으로 선택\n",
        "        total += labels.size(0) # 전체 갯수\n",
        "        correct += (predicted == labels).sum().item()   # 맞춘 갯수\n",
        "    \n",
        "    print(\"Accuracy of this model : {}%\".format(100 * correct / total))"
      ],
      "execution_count": 76,
      "outputs": [
        {
          "output_type": "stream",
          "name": "stdout",
          "text": [
            "Accuracy of this model : 60.834%\n"
          ]
        }
      ]
    },
    {
      "cell_type": "markdown",
      "metadata": {
        "id": "trWVf5YvRYI0"
      },
      "source": [
        "- 어떤 것을 잘 분류했고, 잘 못했는지 확인"
      ]
    },
    {
      "cell_type": "code",
      "metadata": {
        "id": "P9p7QKhDQzpC",
        "colab": {
          "base_uri": "https://localhost:8080/"
        },
        "outputId": "4b242e5a-ff1f-4aac-e101-4c82d22eec31"
      },
      "source": [
        "# 각각의 class에 대한 accuracy 확인; 각각의 class에 대한 60% 이상 성능값\n",
        "\n",
        "class_correct = list(0. for i in range(10))\n",
        "class_total = list(0. for i in range(10))\n",
        "\n",
        "with torch.no_grad():\n",
        "    for data in test_loader:\n",
        "        images, labels = data[0].to(device), data[1].to(device)\n",
        "        outputs = Loaded_Net(images)\n",
        "        _, predicted = torch.max(outputs.data, axis=1)\n",
        "        c = (predicted == labels).squeeze()\n",
        "        for i in range(4): \n",
        "            label = labels[i]\n",
        "            class_correct[label] += c[i].item()\n",
        "            class_total[label] += 1\n",
        "\n",
        "for i in range(10):\n",
        "    print(\"Accuracy of {}: {}%\".format(class_list[i], 100 * class_correct[i] / class_total[i]))"
      ],
      "execution_count": 77,
      "outputs": [
        {
          "output_type": "stream",
          "name": "stdout",
          "text": [
            "Accuracy of plane: 59.48%\n",
            "Accuracy of car: 79.96%\n",
            "Accuracy of bird: 63.72%\n",
            "Accuracy of cat: 29.94%\n",
            "Accuracy of deer: 54.28%\n",
            "Accuracy of dog: 47.28%\n",
            "Accuracy of frog: 72.62%\n",
            "Accuracy of horse: 64.98%\n",
            "Accuracy of ship: 64.64%\n",
            "Accuracy of truck: 71.44%\n"
          ]
        }
      ]
    },
    {
      "cell_type": "code",
      "source": [],
      "metadata": {
        "id": "mtVxCK2eVQZh"
      },
      "execution_count": null,
      "outputs": []
    }
  ]
}