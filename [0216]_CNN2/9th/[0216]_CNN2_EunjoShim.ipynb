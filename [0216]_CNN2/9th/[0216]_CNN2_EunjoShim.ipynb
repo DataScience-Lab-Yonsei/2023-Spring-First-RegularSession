{
  "nbformat": 4,
  "nbformat_minor": 0,
  "metadata": {
    "colab": {
      "provenance": []
    },
    "kernelspec": {
      "name": "python3",
      "display_name": "Python 3"
    },
    "accelerator": "GPU",
    "gpuClass": "standard",
    "widgets": {
      "application/vnd.jupyter.widget-state+json": {
        "8801ea4a0d724bd1ba942947b0d7f503": {
          "model_module": "@jupyter-widgets/controls",
          "model_name": "HBoxModel",
          "model_module_version": "1.5.0",
          "state": {
            "_dom_classes": [],
            "_model_module": "@jupyter-widgets/controls",
            "_model_module_version": "1.5.0",
            "_model_name": "HBoxModel",
            "_view_count": null,
            "_view_module": "@jupyter-widgets/controls",
            "_view_module_version": "1.5.0",
            "_view_name": "HBoxView",
            "box_style": "",
            "children": [
              "IPY_MODEL_52360c5c7603429f971b87421101bd1d",
              "IPY_MODEL_b74d44e3b2b64aac90adfa5d7da8390c",
              "IPY_MODEL_c344bee6fa0f401ba441d2f82b977c04"
            ],
            "layout": "IPY_MODEL_952a40bf54784b87959a330407d9385a"
          }
        },
        "52360c5c7603429f971b87421101bd1d": {
          "model_module": "@jupyter-widgets/controls",
          "model_name": "HTMLModel",
          "model_module_version": "1.5.0",
          "state": {
            "_dom_classes": [],
            "_model_module": "@jupyter-widgets/controls",
            "_model_module_version": "1.5.0",
            "_model_name": "HTMLModel",
            "_view_count": null,
            "_view_module": "@jupyter-widgets/controls",
            "_view_module_version": "1.5.0",
            "_view_name": "HTMLView",
            "description": "",
            "description_tooltip": null,
            "layout": "IPY_MODEL_a4e6b7df509742c7890d7ed5028e636a",
            "placeholder": "​",
            "style": "IPY_MODEL_d990f5fe74e84c98aef0c79981862730",
            "value": "100%"
          }
        },
        "b74d44e3b2b64aac90adfa5d7da8390c": {
          "model_module": "@jupyter-widgets/controls",
          "model_name": "FloatProgressModel",
          "model_module_version": "1.5.0",
          "state": {
            "_dom_classes": [],
            "_model_module": "@jupyter-widgets/controls",
            "_model_module_version": "1.5.0",
            "_model_name": "FloatProgressModel",
            "_view_count": null,
            "_view_module": "@jupyter-widgets/controls",
            "_view_module_version": "1.5.0",
            "_view_name": "ProgressView",
            "bar_style": "success",
            "description": "",
            "description_tooltip": null,
            "layout": "IPY_MODEL_fb9dfac771f34201aa9d7a8a48f11de5",
            "max": 170498071,
            "min": 0,
            "orientation": "horizontal",
            "style": "IPY_MODEL_9fd5467bc4c1414a9514581372805848",
            "value": 170498071
          }
        },
        "c344bee6fa0f401ba441d2f82b977c04": {
          "model_module": "@jupyter-widgets/controls",
          "model_name": "HTMLModel",
          "model_module_version": "1.5.0",
          "state": {
            "_dom_classes": [],
            "_model_module": "@jupyter-widgets/controls",
            "_model_module_version": "1.5.0",
            "_model_name": "HTMLModel",
            "_view_count": null,
            "_view_module": "@jupyter-widgets/controls",
            "_view_module_version": "1.5.0",
            "_view_name": "HTMLView",
            "description": "",
            "description_tooltip": null,
            "layout": "IPY_MODEL_683ab433ca454f8784eeb47736abc258",
            "placeholder": "​",
            "style": "IPY_MODEL_7fb7c550578140068a82e13cefeb0f53",
            "value": " 170498071/170498071 [00:13&lt;00:00, 12327524.59it/s]"
          }
        },
        "952a40bf54784b87959a330407d9385a": {
          "model_module": "@jupyter-widgets/base",
          "model_name": "LayoutModel",
          "model_module_version": "1.2.0",
          "state": {
            "_model_module": "@jupyter-widgets/base",
            "_model_module_version": "1.2.0",
            "_model_name": "LayoutModel",
            "_view_count": null,
            "_view_module": "@jupyter-widgets/base",
            "_view_module_version": "1.2.0",
            "_view_name": "LayoutView",
            "align_content": null,
            "align_items": null,
            "align_self": null,
            "border": null,
            "bottom": null,
            "display": null,
            "flex": null,
            "flex_flow": null,
            "grid_area": null,
            "grid_auto_columns": null,
            "grid_auto_flow": null,
            "grid_auto_rows": null,
            "grid_column": null,
            "grid_gap": null,
            "grid_row": null,
            "grid_template_areas": null,
            "grid_template_columns": null,
            "grid_template_rows": null,
            "height": null,
            "justify_content": null,
            "justify_items": null,
            "left": null,
            "margin": null,
            "max_height": null,
            "max_width": null,
            "min_height": null,
            "min_width": null,
            "object_fit": null,
            "object_position": null,
            "order": null,
            "overflow": null,
            "overflow_x": null,
            "overflow_y": null,
            "padding": null,
            "right": null,
            "top": null,
            "visibility": null,
            "width": null
          }
        },
        "a4e6b7df509742c7890d7ed5028e636a": {
          "model_module": "@jupyter-widgets/base",
          "model_name": "LayoutModel",
          "model_module_version": "1.2.0",
          "state": {
            "_model_module": "@jupyter-widgets/base",
            "_model_module_version": "1.2.0",
            "_model_name": "LayoutModel",
            "_view_count": null,
            "_view_module": "@jupyter-widgets/base",
            "_view_module_version": "1.2.0",
            "_view_name": "LayoutView",
            "align_content": null,
            "align_items": null,
            "align_self": null,
            "border": null,
            "bottom": null,
            "display": null,
            "flex": null,
            "flex_flow": null,
            "grid_area": null,
            "grid_auto_columns": null,
            "grid_auto_flow": null,
            "grid_auto_rows": null,
            "grid_column": null,
            "grid_gap": null,
            "grid_row": null,
            "grid_template_areas": null,
            "grid_template_columns": null,
            "grid_template_rows": null,
            "height": null,
            "justify_content": null,
            "justify_items": null,
            "left": null,
            "margin": null,
            "max_height": null,
            "max_width": null,
            "min_height": null,
            "min_width": null,
            "object_fit": null,
            "object_position": null,
            "order": null,
            "overflow": null,
            "overflow_x": null,
            "overflow_y": null,
            "padding": null,
            "right": null,
            "top": null,
            "visibility": null,
            "width": null
          }
        },
        "d990f5fe74e84c98aef0c79981862730": {
          "model_module": "@jupyter-widgets/controls",
          "model_name": "DescriptionStyleModel",
          "model_module_version": "1.5.0",
          "state": {
            "_model_module": "@jupyter-widgets/controls",
            "_model_module_version": "1.5.0",
            "_model_name": "DescriptionStyleModel",
            "_view_count": null,
            "_view_module": "@jupyter-widgets/base",
            "_view_module_version": "1.2.0",
            "_view_name": "StyleView",
            "description_width": ""
          }
        },
        "fb9dfac771f34201aa9d7a8a48f11de5": {
          "model_module": "@jupyter-widgets/base",
          "model_name": "LayoutModel",
          "model_module_version": "1.2.0",
          "state": {
            "_model_module": "@jupyter-widgets/base",
            "_model_module_version": "1.2.0",
            "_model_name": "LayoutModel",
            "_view_count": null,
            "_view_module": "@jupyter-widgets/base",
            "_view_module_version": "1.2.0",
            "_view_name": "LayoutView",
            "align_content": null,
            "align_items": null,
            "align_self": null,
            "border": null,
            "bottom": null,
            "display": null,
            "flex": null,
            "flex_flow": null,
            "grid_area": null,
            "grid_auto_columns": null,
            "grid_auto_flow": null,
            "grid_auto_rows": null,
            "grid_column": null,
            "grid_gap": null,
            "grid_row": null,
            "grid_template_areas": null,
            "grid_template_columns": null,
            "grid_template_rows": null,
            "height": null,
            "justify_content": null,
            "justify_items": null,
            "left": null,
            "margin": null,
            "max_height": null,
            "max_width": null,
            "min_height": null,
            "min_width": null,
            "object_fit": null,
            "object_position": null,
            "order": null,
            "overflow": null,
            "overflow_x": null,
            "overflow_y": null,
            "padding": null,
            "right": null,
            "top": null,
            "visibility": null,
            "width": null
          }
        },
        "9fd5467bc4c1414a9514581372805848": {
          "model_module": "@jupyter-widgets/controls",
          "model_name": "ProgressStyleModel",
          "model_module_version": "1.5.0",
          "state": {
            "_model_module": "@jupyter-widgets/controls",
            "_model_module_version": "1.5.0",
            "_model_name": "ProgressStyleModel",
            "_view_count": null,
            "_view_module": "@jupyter-widgets/base",
            "_view_module_version": "1.2.0",
            "_view_name": "StyleView",
            "bar_color": null,
            "description_width": ""
          }
        },
        "683ab433ca454f8784eeb47736abc258": {
          "model_module": "@jupyter-widgets/base",
          "model_name": "LayoutModel",
          "model_module_version": "1.2.0",
          "state": {
            "_model_module": "@jupyter-widgets/base",
            "_model_module_version": "1.2.0",
            "_model_name": "LayoutModel",
            "_view_count": null,
            "_view_module": "@jupyter-widgets/base",
            "_view_module_version": "1.2.0",
            "_view_name": "LayoutView",
            "align_content": null,
            "align_items": null,
            "align_self": null,
            "border": null,
            "bottom": null,
            "display": null,
            "flex": null,
            "flex_flow": null,
            "grid_area": null,
            "grid_auto_columns": null,
            "grid_auto_flow": null,
            "grid_auto_rows": null,
            "grid_column": null,
            "grid_gap": null,
            "grid_row": null,
            "grid_template_areas": null,
            "grid_template_columns": null,
            "grid_template_rows": null,
            "height": null,
            "justify_content": null,
            "justify_items": null,
            "left": null,
            "margin": null,
            "max_height": null,
            "max_width": null,
            "min_height": null,
            "min_width": null,
            "object_fit": null,
            "object_position": null,
            "order": null,
            "overflow": null,
            "overflow_x": null,
            "overflow_y": null,
            "padding": null,
            "right": null,
            "top": null,
            "visibility": null,
            "width": null
          }
        },
        "7fb7c550578140068a82e13cefeb0f53": {
          "model_module": "@jupyter-widgets/controls",
          "model_name": "DescriptionStyleModel",
          "model_module_version": "1.5.0",
          "state": {
            "_model_module": "@jupyter-widgets/controls",
            "_model_module_version": "1.5.0",
            "_model_name": "DescriptionStyleModel",
            "_view_count": null,
            "_view_module": "@jupyter-widgets/base",
            "_view_module_version": "1.2.0",
            "_view_name": "StyleView",
            "description_width": ""
          }
        }
      }
    }
  },
  "cells": [
    {
      "cell_type": "markdown",
      "source": [
        "# 초기 세팅"
      ],
      "metadata": {
        "id": "cdNvme8aKSBP"
      }
    },
    {
      "cell_type": "code",
      "metadata": {
        "id": "P1v9luAfHXdz"
      },
      "source": [
        "import torch\n",
        "import torch.nn as nn\n",
        "import torch.nn.functional as F\n",
        "import torch.optim as optim\n",
        "from torch.utils.data import Dataset, DataLoader\n",
        "\n",
        "import torchvision\n",
        "import torchvision.datasets as datasets\n",
        "import torchvision.transforms as transforms\n",
        "\n",
        "import numpy as np\n",
        "import matplotlib.pyplot as plt\n",
        "plt.style.use('seaborn-white')"
      ],
      "execution_count": 1,
      "outputs": []
    },
    {
      "cell_type": "code",
      "source": [
        "!pip install torchsummary\n",
        "from torchsummary import summary"
      ],
      "metadata": {
        "colab": {
          "base_uri": "https://localhost:8080/"
        },
        "id": "D39aCPyTu2Ce",
        "outputId": "e5e3b01e-7460-497c-8d11-e5e968f764e8"
      },
      "execution_count": 2,
      "outputs": [
        {
          "output_type": "stream",
          "name": "stdout",
          "text": [
            "Looking in indexes: https://pypi.org/simple, https://us-python.pkg.dev/colab-wheels/public/simple/\n",
            "Requirement already satisfied: torchsummary in /usr/local/lib/python3.8/dist-packages (1.5.1)\n"
          ]
        }
      ]
    },
    {
      "cell_type": "markdown",
      "metadata": {
        "id": "02LdHlTTSz5L"
      },
      "source": [
        "- 현재 GPU 설정"
      ]
    },
    {
      "cell_type": "code",
      "metadata": {
        "id": "Ybsjn80uSx3X",
        "colab": {
          "base_uri": "https://localhost:8080/"
        },
        "outputId": "23620fdc-4b76-49ee-fab8-c5785bf2fa2a"
      },
      "source": [
        "# colab의 runtime-type을 GPU로 설정해서, True가 나오도록 한다.\n",
        "\n",
        "torch.cuda.is_available()"
      ],
      "execution_count": 3,
      "outputs": [
        {
          "output_type": "execute_result",
          "data": {
            "text/plain": [
              "True"
            ]
          },
          "metadata": {},
          "execution_count": 3
        }
      ]
    },
    {
      "cell_type": "code",
      "metadata": {
        "id": "HlPZI5wfDQhv",
        "colab": {
          "base_uri": "https://localhost:8080/"
        },
        "outputId": "8a0aaa2d-5187-4e4a-db49-2dee33ae992f"
      },
      "source": [
        "device = torch.device('cuda' if torch.cuda.is_available() else 'cpu') # gpu('cuda')가 사용가능하면, gpu를 이용하도록 설정\n",
        "device"
      ],
      "execution_count": 4,
      "outputs": [
        {
          "output_type": "execute_result",
          "data": {
            "text/plain": [
              "device(type='cuda')"
            ]
          },
          "metadata": {},
          "execution_count": 4
        }
      ]
    },
    {
      "cell_type": "markdown",
      "source": [
        "# CIFAR10 분류 모델\n",
        "* R/G/B(3) 이미지 데이터 분류\n",
        "* 32x32 pixel"
      ],
      "metadata": {
        "id": "jqQF4qWUywYV"
      }
    },
    {
      "cell_type": "markdown",
      "metadata": {
        "id": "wD3z029XPFK0"
      },
      "source": [
        "## 전처리 설정"
      ]
    },
    {
      "cell_type": "code",
      "metadata": {
        "id": "4u3-pXWIPCiM"
      },
      "source": [
        "# transform 정의\n",
        "\n",
        "CIFAR_transform = transforms.Compose([transforms.ToTensor(),transforms.Normalize((0.5, 0.5, 0.5), (0.5, 0.5, 0.5))])\n",
        "# r,g,b 데이터임으로, 3개의 인자값 전달"
      ],
      "execution_count": 5,
      "outputs": []
    },
    {
      "cell_type": "markdown",
      "metadata": {
        "id": "a4HzFx19PNYv"
      },
      "source": [
        "## 데이터 로드 및 확인"
      ]
    },
    {
      "cell_type": "code",
      "metadata": {
        "id": "ctstlIt_PM9z",
        "colab": {
          "base_uri": "https://localhost:8080/",
          "height": 153,
          "referenced_widgets": [
            "8801ea4a0d724bd1ba942947b0d7f503",
            "52360c5c7603429f971b87421101bd1d",
            "b74d44e3b2b64aac90adfa5d7da8390c",
            "c344bee6fa0f401ba441d2f82b977c04",
            "952a40bf54784b87959a330407d9385a",
            "a4e6b7df509742c7890d7ed5028e636a",
            "d990f5fe74e84c98aef0c79981862730",
            "fb9dfac771f34201aa9d7a8a48f11de5",
            "9fd5467bc4c1414a9514581372805848",
            "683ab433ca454f8784eeb47736abc258",
            "7fb7c550578140068a82e13cefeb0f53"
          ]
        },
        "outputId": "f9ec3e22-216f-419a-e932-fb09beb4d47b"
      },
      "source": [
        "# datasets\n",
        "\n",
        "trainset = torchvision.datasets.CIFAR10(root = '/content', train = True, transform = CIFAR_transform, download = True)\n",
        "\n",
        "testset = torchvision.datasets.CIFAR10(root = '/content', train = False, transform = CIFAR_transform, download = True)"
      ],
      "execution_count": 6,
      "outputs": [
        {
          "output_type": "stream",
          "name": "stdout",
          "text": [
            "Downloading https://www.cs.toronto.edu/~kriz/cifar-10-python.tar.gz to /content/cifar-10-python.tar.gz\n"
          ]
        },
        {
          "output_type": "display_data",
          "data": {
            "text/plain": [
              "  0%|          | 0/170498071 [00:00<?, ?it/s]"
            ],
            "application/vnd.jupyter.widget-view+json": {
              "version_major": 2,
              "version_minor": 0,
              "model_id": "8801ea4a0d724bd1ba942947b0d7f503"
            }
          },
          "metadata": {}
        },
        {
          "output_type": "stream",
          "name": "stdout",
          "text": [
            "Extracting /content/cifar-10-python.tar.gz to /content\n",
            "Files already downloaded and verified\n"
          ]
        }
      ]
    },
    {
      "cell_type": "code",
      "metadata": {
        "id": "wTkTcictPTyY"
      },
      "source": [
        "# DataLoader\n",
        "\n",
        "# batch-size = 4\n",
        "\n",
        "train_loader = DataLoader(trainset, batch_size = 4, shuffle = True, num_workers=2)\n",
        "\n",
        "test_loader = DataLoader(trainset, batch_size = 4, shuffle = False, num_workers=2)"
      ],
      "execution_count": 7,
      "outputs": []
    },
    {
      "cell_type": "code",
      "source": [
        "# 숫자 label에 해당되는 값\n",
        "\n",
        "class_list = ('plane', 'car', 'bird', 'cat', 'deer',\n",
        "           'dog', 'frog', 'horse', 'ship', 'truck')"
      ],
      "metadata": {
        "id": "-lxqiKWGy-sP"
      },
      "execution_count": 8,
      "outputs": []
    },
    {
      "cell_type": "code",
      "metadata": {
        "id": "_6IsY5CrPZ5e",
        "colab": {
          "base_uri": "https://localhost:8080/",
          "height": 154
        },
        "outputId": "f62d467c-b328-457b-ddf3-45f6c3bee4b3"
      },
      "source": [
        "def imshow(img):\n",
        "    img = img / 2 + 0.5\n",
        "    npimg = img.numpy()\n",
        "    plt.imshow(np.transpose(npimg, (1,2,0)))\n",
        "    plt.show()\n",
        "\n",
        "dataiter = iter(train_loader)\n",
        "images, labels = next(dataiter)\n",
        "\n",
        "imshow(torchvision.utils.make_grid(images))\n",
        "print(' '.join('{}\\t'.format(class_list[labels[j]]) for j in range(4)))"
      ],
      "execution_count": 9,
      "outputs": [
        {
          "output_type": "display_data",
          "data": {
            "text/plain": [
              "<Figure size 432x288 with 1 Axes>"
            ],
            "image/png": "[encoded data removed]"
          },
          "metadata": {}
        },
        {
          "output_type": "stream",
          "name": "stdout",
          "text": [
            "horse\t truck\t cat\t truck\t\n"
          ]
        }
      ]
    },
    {
      "cell_type": "markdown",
      "metadata": {
        "id": "hZgB4eq0Pk6c"
      },
      "source": [
        "## 모델 생성"
      ]
    },
    {
      "cell_type": "markdown",
      "source": [
        "* input size = 4 * 3 * 32 * 32\n",
        "* output size = 4 * 10\n",
        "* 모델 조건\n",
        "> * convolution-layer : 2개 이상 사용\n",
        "> * maxpooling-layer : 1개 이상 사용\n",
        "> * fc-layer : 2개 이상 사용\n",
        "> * activation-function 으로 'relu' 사용"
      ],
      "metadata": {
        "id": "aNeryJhl3GhR"
      }
    },
    {
      "cell_type": "code",
      "metadata": {
        "id": "E2OMzoFHPeFZ"
      },
      "source": [
        "class Net(nn.Module):\n",
        "    def __init__(self):\n",
        "      super(Net, self).__init__()\n",
        "      self.conv1 = nn.Conv2d(3, 16, 3, stride=1, padding = 1)\n",
        "      self.conv2 = nn.Conv2d(16, 32, 3, stride=1, padding = 1)\n",
        "      self.conv3 = nn.Conv2d(32, 32, 3, stride=1, padding = 1)\n",
        "      self.conv4 = nn.Conv2d(32, 64, 3, stride=1, padding = 1)\n",
        "      self.fc1 = nn.Linear(64*8*8, 1000)\n",
        "      self.fc2 = nn.Linear(1000, 10)\n",
        "\n",
        "\n",
        "    def forward(self,x):\n",
        "      x = F.relu(self.conv1(x))\n",
        "      x = F.relu(self.conv2(x))\n",
        "      x = F.max_pool2d(x, 2)\n",
        "      x = F.relu(self.conv3(x))\n",
        "      x = F.relu(self.conv4(x))\n",
        "      x = F.max_pool2d(x, 2)\n",
        "      x = x.view(-1, self.num_flat_features(x)) \n",
        "      x = F.relu(self.fc1(x))\n",
        "      x = self.fc2(x)\n",
        "\n",
        "      return x\n",
        "      \n",
        "    def num_flat_features(self, x): \n",
        "      size = x.size()[1:]\n",
        "      num_features = 1\n",
        "      for s in size:\n",
        "        num_features *= s\n",
        "          \n",
        "      return num_features"
      ],
      "execution_count": 10,
      "outputs": []
    },
    {
      "cell_type": "code",
      "source": [
        "myNet = Net().to(device) # gpu에 모델 저장\n",
        "myNet"
      ],
      "metadata": {
        "id": "P5ZAjWK03iQ_",
        "colab": {
          "base_uri": "https://localhost:8080/"
        },
        "outputId": "1fd074b3-be26-415b-8157-6153e4169cb5"
      },
      "execution_count": 11,
      "outputs": [
        {
          "output_type": "execute_result",
          "data": {
            "text/plain": [
              "Net(\n",
              "  (conv1): Conv2d(3, 16, kernel_size=(3, 3), stride=(1, 1), padding=(1, 1))\n",
              "  (conv2): Conv2d(16, 32, kernel_size=(3, 3), stride=(1, 1), padding=(1, 1))\n",
              "  (conv3): Conv2d(32, 32, kernel_size=(3, 3), stride=(1, 1), padding=(1, 1))\n",
              "  (conv4): Conv2d(32, 64, kernel_size=(3, 3), stride=(1, 1), padding=(1, 1))\n",
              "  (fc1): Linear(in_features=4096, out_features=1000, bias=True)\n",
              "  (fc2): Linear(in_features=1000, out_features=10, bias=True)\n",
              ")"
            ]
          },
          "metadata": {},
          "execution_count": 11
        }
      ]
    },
    {
      "cell_type": "code",
      "source": [
        "# input; (4 * 3 * 32 * 32)\n",
        "\n",
        "input = images.to(device)\n",
        "input.size()"
      ],
      "metadata": {
        "colab": {
          "base_uri": "https://localhost:8080/"
        },
        "id": "aC1MMHle3jid",
        "outputId": "dfef5548-51ce-4e89-aeb8-dba51b8616b2"
      },
      "execution_count": 12,
      "outputs": [
        {
          "output_type": "execute_result",
          "data": {
            "text/plain": [
              "torch.Size([4, 3, 32, 32])"
            ]
          },
          "metadata": {},
          "execution_count": 12
        }
      ]
    },
    {
      "cell_type": "code",
      "source": [
        "# output; (4 * 10)\n",
        "\n",
        "output = myNet.forward(input)\n",
        "output.size()"
      ],
      "metadata": {
        "colab": {
          "base_uri": "https://localhost:8080/"
        },
        "id": "UYxJZCGo3uPZ",
        "outputId": "ab729fd7-2686-4ac2-b58a-a1b8d7ad3711"
      },
      "execution_count": 13,
      "outputs": [
        {
          "output_type": "execute_result",
          "data": {
            "text/plain": [
              "torch.Size([4, 10])"
            ]
          },
          "metadata": {},
          "execution_count": 13
        }
      ]
    },
    {
      "cell_type": "code",
      "source": [
        "# 모델 구조 확인\n",
        "\n",
        "summary(myNet, input_size=(3,32,32), batch_size=4)"
      ],
      "metadata": {
        "id": "OS6RZEuB3wwa",
        "colab": {
          "base_uri": "https://localhost:8080/"
        },
        "outputId": "02a82b6d-1852-4627-c67d-5d86450af2a2"
      },
      "execution_count": 14,
      "outputs": [
        {
          "output_type": "stream",
          "name": "stdout",
          "text": [
            "----------------------------------------------------------------\n",
            "        Layer (type)               Output Shape         Param #\n",
            "================================================================\n",
            "            Conv2d-1            [4, 16, 32, 32]             448\n",
            "            Conv2d-2            [4, 32, 32, 32]           4,640\n",
            "            Conv2d-3            [4, 32, 16, 16]           9,248\n",
            "            Conv2d-4            [4, 64, 16, 16]          18,496\n",
            "            Linear-5                  [4, 1000]       4,097,000\n",
            "            Linear-6                    [4, 10]          10,010\n",
            "================================================================\n",
            "Total params: 4,139,842\n",
            "Trainable params: 4,139,842\n",
            "Non-trainable params: 0\n",
            "----------------------------------------------------------------\n",
            "Input size (MB): 0.05\n",
            "Forward/backward pass size (MB): 2.28\n",
            "Params size (MB): 15.79\n",
            "Estimated Total Size (MB): 18.12\n",
            "----------------------------------------------------------------\n"
          ]
        }
      ]
    },
    {
      "cell_type": "markdown",
      "metadata": {
        "id": "gogmHThzPrjK"
      },
      "source": [
        "## 손실함수와 옵티마이저"
      ]
    },
    {
      "cell_type": "code",
      "metadata": {
        "id": "X5SzxufZPpel"
      },
      "source": [
        "criterion = nn.CrossEntropyLoss() # 다중분류; CrossEntropyLoss\n",
        "optimizer = optim.SGD(myNet.parameters(), lr=0.001, momentum=0.9) # SGD; lr=0.001 & momentum=0.9"
      ],
      "execution_count": 18,
      "outputs": []
    },
    {
      "cell_type": "markdown",
      "metadata": {
        "id": "_UnbIcKaPyQv"
      },
      "source": [
        "## 모델 학습"
      ]
    },
    {
      "cell_type": "code",
      "metadata": {
        "id": "jlWiR3LwPuwa",
        "colab": {
          "base_uri": "https://localhost:8080/"
        },
        "outputId": "56c7596f-a9c5-4bfa-fef7-40ff1c560624"
      },
      "source": [
        "# epochs = 10\n",
        "\n",
        "for epoch in range(10):\n",
        "    running_loss = 0.0\n",
        "\n",
        "    for i, data in enumerate(train_loader, 0):\n",
        "        inputs, labels = data[0].to(device), data[1].to(device)\n",
        "        optimizer.zero_grad() # 가중치 초기화\n",
        "        outputs = myNet(inputs)# y_pred\n",
        "        loss = criterion(outputs,labels) # 손실함수를 이용해서 loss계산\n",
        "        loss.backward() # back-propagation\n",
        "        optimizer.step()# 가중치 업데이트\n",
        "\n",
        "        running_loss += loss.item()\n",
        "        if i % 2000 == 1999:\n",
        "            print(\"Epoch: {}, Batch: {}, Loss: {}\".format(epoch+1, i+1, running_loss/2000))\n",
        "            running_loss = 0.0"
      ],
      "execution_count": 20,
      "outputs": [
        {
          "output_type": "stream",
          "name": "stdout",
          "text": [
            "Epoch: 1, Batch: 2000, Loss: 2.151510073065758\n",
            "Epoch: 1, Batch: 4000, Loss: 1.7585152703374625\n",
            "Epoch: 1, Batch: 6000, Loss: 1.5670609258711339\n",
            "Epoch: 1, Batch: 8000, Loss: 1.4693376864641905\n",
            "Epoch: 1, Batch: 10000, Loss: 1.3902218883931636\n",
            "Epoch: 1, Batch: 12000, Loss: 1.295808226313442\n",
            "Epoch: 2, Batch: 2000, Loss: 1.1620360755212604\n",
            "Epoch: 2, Batch: 4000, Loss: 1.1004172212826089\n",
            "Epoch: 2, Batch: 6000, Loss: 1.03191989913024\n",
            "Epoch: 2, Batch: 8000, Loss: 1.0154681622833013\n",
            "Epoch: 2, Batch: 10000, Loss: 0.9683635993134231\n",
            "Epoch: 2, Batch: 12000, Loss: 0.9515316137801856\n",
            "Epoch: 3, Batch: 2000, Loss: 0.7719647318227216\n",
            "Epoch: 3, Batch: 4000, Loss: 0.79563079518429\n",
            "Epoch: 3, Batch: 6000, Loss: 0.7719843538266141\n",
            "Epoch: 3, Batch: 8000, Loss: 0.7606423981559346\n",
            "Epoch: 3, Batch: 10000, Loss: 0.7409577249865978\n",
            "Epoch: 3, Batch: 12000, Loss: 0.7460411244181451\n",
            "Epoch: 4, Batch: 2000, Loss: 0.5135431389121804\n",
            "Epoch: 4, Batch: 4000, Loss: 0.5400875257992303\n",
            "Epoch: 4, Batch: 6000, Loss: 0.544020081542636\n",
            "Epoch: 4, Batch: 8000, Loss: 0.5666940015275941\n",
            "Epoch: 4, Batch: 10000, Loss: 0.5803573854116548\n",
            "Epoch: 4, Batch: 12000, Loss: 0.554788895354257\n",
            "Epoch: 5, Batch: 2000, Loss: 0.29497007618974613\n",
            "Epoch: 5, Batch: 4000, Loss: 0.34113424822472005\n",
            "Epoch: 5, Batch: 6000, Loss: 0.3614507995981733\n",
            "Epoch: 5, Batch: 8000, Loss: 0.35409246943980904\n",
            "Epoch: 5, Batch: 10000, Loss: 0.38625840682551277\n",
            "Epoch: 5, Batch: 12000, Loss: 0.39858433743726074\n",
            "Epoch: 6, Batch: 2000, Loss: 0.16173743284548664\n",
            "Epoch: 6, Batch: 4000, Loss: 0.18372399198023778\n",
            "Epoch: 6, Batch: 6000, Loss: 0.20509827427923688\n",
            "Epoch: 6, Batch: 8000, Loss: 0.23041064437627903\n",
            "Epoch: 6, Batch: 10000, Loss: 0.23819764504325677\n",
            "Epoch: 6, Batch: 12000, Loss: 0.26314569284521616\n",
            "Epoch: 7, Batch: 2000, Loss: 0.11265295641160003\n",
            "Epoch: 7, Batch: 4000, Loss: 0.13633285043412893\n",
            "Epoch: 7, Batch: 6000, Loss: 0.14663194272679708\n",
            "Epoch: 7, Batch: 8000, Loss: 0.1650209711001369\n",
            "Epoch: 7, Batch: 10000, Loss: 0.1786757783855736\n",
            "Epoch: 7, Batch: 12000, Loss: 0.18532451711825718\n",
            "Epoch: 8, Batch: 2000, Loss: 0.08822620066331621\n",
            "Epoch: 8, Batch: 4000, Loss: 0.09292830841255358\n",
            "Epoch: 8, Batch: 6000, Loss: 0.11541929109673904\n",
            "Epoch: 8, Batch: 8000, Loss: 0.12979663475482048\n",
            "Epoch: 8, Batch: 10000, Loss: 0.1472528016464327\n",
            "Epoch: 8, Batch: 12000, Loss: 0.15467455248921091\n",
            "Epoch: 9, Batch: 2000, Loss: 0.07836654500507256\n",
            "Epoch: 9, Batch: 4000, Loss: 0.07294648074192164\n",
            "Epoch: 9, Batch: 6000, Loss: 0.10023814696946573\n",
            "Epoch: 9, Batch: 8000, Loss: 0.10455371011686397\n",
            "Epoch: 9, Batch: 10000, Loss: 0.10948379071918865\n",
            "Epoch: 9, Batch: 12000, Loss: 0.11719721650999958\n",
            "Epoch: 10, Batch: 2000, Loss: 0.07134190889918661\n",
            "Epoch: 10, Batch: 4000, Loss: 0.07208134463247942\n",
            "Epoch: 10, Batch: 6000, Loss: 0.08622575605712401\n",
            "Epoch: 10, Batch: 8000, Loss: 0.08813361217314611\n",
            "Epoch: 10, Batch: 10000, Loss: 0.1042855715850961\n",
            "Epoch: 10, Batch: 12000, Loss: 0.10668859850117557\n"
          ]
        }
      ]
    },
    {
      "cell_type": "markdown",
      "metadata": {
        "id": "NqYnwxJ3P8Gb"
      },
      "source": [
        "## 모델의 저장 및 로드"
      ]
    },
    {
      "cell_type": "code",
      "metadata": {
        "id": "keqtypx1QY6t",
        "colab": {
          "base_uri": "https://localhost:8080/",
          "height": 154
        },
        "outputId": "4ac94d7e-5cec-4ce5-a159-42f71dc2d947"
      },
      "source": [
        "# 잘 학습된 모델인지 간단히 한 batch에 대해서 확인\n",
        "\n",
        "dataiter = iter(test_loader)\n",
        "images, labels = next(dataiter)\n",
        "\n",
        "imshow(torchvision.utils.make_grid(images))\n",
        "print(' '.join('\\t{}'.format(class_list[labels[j]]) for j in range(4))) # batch-size = 4"
      ],
      "execution_count": 21,
      "outputs": [
        {
          "output_type": "display_data",
          "data": {
            "text/plain": [
              "<Figure size 432x288 with 1 Axes>"
            ],
            "image/png": "[encoded data removed]"
          },
          "metadata": {}
        },
        {
          "output_type": "stream",
          "name": "stdout",
          "text": [
            "\tfrog \ttruck \ttruck \tdeer\n"
          ]
        }
      ]
    },
    {
      "cell_type": "code",
      "metadata": {
        "id": "z6UYtCT4P3Tj"
      },
      "source": [
        "# 저장\n",
        "\n",
        "PATH = './cifar_net.pth'\n",
        "torch.save(myNet.state_dict(), PATH)"
      ],
      "execution_count": 22,
      "outputs": []
    },
    {
      "cell_type": "code",
      "metadata": {
        "id": "FfsXzP9NQbMg",
        "colab": {
          "base_uri": "https://localhost:8080/"
        },
        "outputId": "964dfb9d-7dd3-4cd4-fb6c-f47e6bc41073"
      },
      "source": [
        "# 불러오기\n",
        "\n",
        "Loaded_Net = Net().to(device)\n",
        "Loaded_Net.load_state_dict(torch.load(PATH))"
      ],
      "execution_count": 23,
      "outputs": [
        {
          "output_type": "execute_result",
          "data": {
            "text/plain": [
              "<All keys matched successfully>"
            ]
          },
          "metadata": {},
          "execution_count": 23
        }
      ]
    },
    {
      "cell_type": "markdown",
      "metadata": {
        "id": "1dvGiVkrQ2cf"
      },
      "source": [
        "## 모델 테스트\n",
        "* 조건\n",
        "> 전체 accuracy가 70% 이상이어야한다.<br>\n",
        "> 각각의 class에 대한 accuracy는 60% 이상이어야한다."
      ]
    },
    {
      "cell_type": "code",
      "metadata": {
        "id": "ajGFbhDvQtlp",
        "colab": {
          "base_uri": "https://localhost:8080/"
        },
        "outputId": "afd5c59c-a311-46f2-cc80-ac628e0d4190"
      },
      "source": [
        "# 전체 accuracy 확인; 70% 이상 성능값\n",
        "\n",
        "correct = 0\n",
        "total = 0\n",
        "\n",
        "with torch.no_grad():\n",
        "    for data in test_loader:\n",
        "      images,labels = data[0].to(device), data[1].to(device)                                          # model객체도 gpu에 저장했음으로, 사용되는 데이터도 gpu에 저장한다.; to(device) 사용\n",
        "      outputs = myNet(images)                                              # y_pred\n",
        "      _, predicted = torch.max(outputs.data, axis=1)  # 확률이 가장 큰 것의 label을 최종 예측값으로 선택\n",
        "      total += labels.size(0) # 전체 갯수\n",
        "      correct += (predicted == labels).sum().item()   # 맞춘 갯수\n",
        "    \n",
        "    print(100 * correct / total)"
      ],
      "execution_count": 25,
      "outputs": [
        {
          "output_type": "stream",
          "name": "stdout",
          "text": [
            "97.974\n"
          ]
        }
      ]
    },
    {
      "cell_type": "markdown",
      "metadata": {
        "id": "trWVf5YvRYI0"
      },
      "source": [
        "- 어떤 것을 잘 분류했고, 잘 못했는지 확인"
      ]
    },
    {
      "cell_type": "code",
      "metadata": {
        "id": "P9p7QKhDQzpC",
        "colab": {
          "base_uri": "https://localhost:8080/"
        },
        "outputId": "1314674a-4ade-4f05-cac9-3a5606ab344d"
      },
      "source": [
        "# 각각의 class에 대한 accuracy 확인; 각각의 class에 대한 60% 이상 성능값\n",
        "\n",
        "class_correct = list(0. for i in range(10))\n",
        "class_total = list(0. for i in range(10))\n",
        "\n",
        "with torch.no_grad():\n",
        "    for data in test_loader:\n",
        "        images, labels = data[0].to(device), data[1].to(device)\n",
        "        outputs = Loaded_Net(images)\n",
        "        _, predicted = torch.max(outputs.data, axis=1)\n",
        "        c = (predicted == labels).squeeze()\n",
        "        for i in range(4): # 각각의 batch(batch-size : 4) 마다 계싼\n",
        "            label = labels[i]\n",
        "            class_correct[label] += c[i].item()\n",
        "            class_total[label] += 1\n",
        "\n",
        "for i in range(10):\n",
        "    print(\"Accuracy of {}: {}%\".format(class_list[i], 100 * class_correct[i] / class_total[i]))"
      ],
      "execution_count": 26,
      "outputs": [
        {
          "output_type": "stream",
          "name": "stdout",
          "text": [
            "Accuracy of plane: 99.7%\n",
            "Accuracy of car: 99.24%\n",
            "Accuracy of bird: 98.68%\n",
            "Accuracy of cat: 96.38%\n",
            "Accuracy of deer: 97.08%\n",
            "Accuracy of dog: 97.16%\n",
            "Accuracy of frog: 98.96%\n",
            "Accuracy of horse: 98.36%\n",
            "Accuracy of ship: 95.9%\n",
            "Accuracy of truck: 98.28%\n"
          ]
        }
      ]
    }
  ]
}