{
  "nbformat": 4,
  "nbformat_minor": 0,
  "metadata": {
    "colab": {
      "provenance": []
    },
    "kernelspec": {
      "name": "python3",
      "display_name": "Python 3"
    },
    "accelerator": "GPU",
    "gpuClass": "standard",
    "widgets": {
      "application/vnd.jupyter.widget-state+json": {
        "24bca41720fb46d093a98cd5c5ceab7c": {
          "model_module": "@jupyter-widgets/controls",
          "model_name": "HBoxModel",
          "model_module_version": "1.5.0",
          "state": {
            "_dom_classes": [],
            "_model_module": "@jupyter-widgets/controls",
            "_model_module_version": "1.5.0",
            "_model_name": "HBoxModel",
            "_view_count": null,
            "_view_module": "@jupyter-widgets/controls",
            "_view_module_version": "1.5.0",
            "_view_name": "HBoxView",
            "box_style": "",
            "children": [
              "IPY_MODEL_06bc7e6fbc06424bbb2b8003eec9c196",
              "IPY_MODEL_c3185f98be8a4bc6a0df24248b51975a",
              "IPY_MODEL_03106918b3d941269a443dd2fdb31438"
            ],
            "layout": "IPY_MODEL_3b97ee152cfd4f7c9d8e45bf8b3b6a57"
          }
        },
        "06bc7e6fbc06424bbb2b8003eec9c196": {
          "model_module": "@jupyter-widgets/controls",
          "model_name": "HTMLModel",
          "model_module_version": "1.5.0",
          "state": {
            "_dom_classes": [],
            "_model_module": "@jupyter-widgets/controls",
            "_model_module_version": "1.5.0",
            "_model_name": "HTMLModel",
            "_view_count": null,
            "_view_module": "@jupyter-widgets/controls",
            "_view_module_version": "1.5.0",
            "_view_name": "HTMLView",
            "description": "",
            "description_tooltip": null,
            "layout": "IPY_MODEL_98ac3b8c95aa40ca89c5b794a1b27f90",
            "placeholder": "​",
            "style": "IPY_MODEL_d75270da2e104ce08a9c36cdc606b121",
            "value": "100%"
          }
        },
        "c3185f98be8a4bc6a0df24248b51975a": {
          "model_module": "@jupyter-widgets/controls",
          "model_name": "FloatProgressModel",
          "model_module_version": "1.5.0",
          "state": {
            "_dom_classes": [],
            "_model_module": "@jupyter-widgets/controls",
            "_model_module_version": "1.5.0",
            "_model_name": "FloatProgressModel",
            "_view_count": null,
            "_view_module": "@jupyter-widgets/controls",
            "_view_module_version": "1.5.0",
            "_view_name": "ProgressView",
            "bar_style": "success",
            "description": "",
            "description_tooltip": null,
            "layout": "IPY_MODEL_828da7c8660e471d93b499bd029f49e5",
            "max": 170498071,
            "min": 0,
            "orientation": "horizontal",
            "style": "IPY_MODEL_7c11a4576fc244b195f40370fa63b8e5",
            "value": 170498071
          }
        },
        "03106918b3d941269a443dd2fdb31438": {
          "model_module": "@jupyter-widgets/controls",
          "model_name": "HTMLModel",
          "model_module_version": "1.5.0",
          "state": {
            "_dom_classes": [],
            "_model_module": "@jupyter-widgets/controls",
            "_model_module_version": "1.5.0",
            "_model_name": "HTMLModel",
            "_view_count": null,
            "_view_module": "@jupyter-widgets/controls",
            "_view_module_version": "1.5.0",
            "_view_name": "HTMLView",
            "description": "",
            "description_tooltip": null,
            "layout": "IPY_MODEL_67e2c31649f146f89038eb8513059564",
            "placeholder": "​",
            "style": "IPY_MODEL_ade74fc539fa42368cab6423191594ef",
            "value": " 170498071/170498071 [00:13&lt;00:00, 14378923.62it/s]"
          }
        },
        "3b97ee152cfd4f7c9d8e45bf8b3b6a57": {
          "model_module": "@jupyter-widgets/base",
          "model_name": "LayoutModel",
          "model_module_version": "1.2.0",
          "state": {
            "_model_module": "@jupyter-widgets/base",
            "_model_module_version": "1.2.0",
            "_model_name": "LayoutModel",
            "_view_count": null,
            "_view_module": "@jupyter-widgets/base",
            "_view_module_version": "1.2.0",
            "_view_name": "LayoutView",
            "align_content": null,
            "align_items": null,
            "align_self": null,
            "border": null,
            "bottom": null,
            "display": null,
            "flex": null,
            "flex_flow": null,
            "grid_area": null,
            "grid_auto_columns": null,
            "grid_auto_flow": null,
            "grid_auto_rows": null,
            "grid_column": null,
            "grid_gap": null,
            "grid_row": null,
            "grid_template_areas": null,
            "grid_template_columns": null,
            "grid_template_rows": null,
            "height": null,
            "justify_content": null,
            "justify_items": null,
            "left": null,
            "margin": null,
            "max_height": null,
            "max_width": null,
            "min_height": null,
            "min_width": null,
            "object_fit": null,
            "object_position": null,
            "order": null,
            "overflow": null,
            "overflow_x": null,
            "overflow_y": null,
            "padding": null,
            "right": null,
            "top": null,
            "visibility": null,
            "width": null
          }
        },
        "98ac3b8c95aa40ca89c5b794a1b27f90": {
          "model_module": "@jupyter-widgets/base",
          "model_name": "LayoutModel",
          "model_module_version": "1.2.0",
          "state": {
            "_model_module": "@jupyter-widgets/base",
            "_model_module_version": "1.2.0",
            "_model_name": "LayoutModel",
            "_view_count": null,
            "_view_module": "@jupyter-widgets/base",
            "_view_module_version": "1.2.0",
            "_view_name": "LayoutView",
            "align_content": null,
            "align_items": null,
            "align_self": null,
            "border": null,
            "bottom": null,
            "display": null,
            "flex": null,
            "flex_flow": null,
            "grid_area": null,
            "grid_auto_columns": null,
            "grid_auto_flow": null,
            "grid_auto_rows": null,
            "grid_column": null,
            "grid_gap": null,
            "grid_row": null,
            "grid_template_areas": null,
            "grid_template_columns": null,
            "grid_template_rows": null,
            "height": null,
            "justify_content": null,
            "justify_items": null,
            "left": null,
            "margin": null,
            "max_height": null,
            "max_width": null,
            "min_height": null,
            "min_width": null,
            "object_fit": null,
            "object_position": null,
            "order": null,
            "overflow": null,
            "overflow_x": null,
            "overflow_y": null,
            "padding": null,
            "right": null,
            "top": null,
            "visibility": null,
            "width": null
          }
        },
        "d75270da2e104ce08a9c36cdc606b121": {
          "model_module": "@jupyter-widgets/controls",
          "model_name": "DescriptionStyleModel",
          "model_module_version": "1.5.0",
          "state": {
            "_model_module": "@jupyter-widgets/controls",
            "_model_module_version": "1.5.0",
            "_model_name": "DescriptionStyleModel",
            "_view_count": null,
            "_view_module": "@jupyter-widgets/base",
            "_view_module_version": "1.2.0",
            "_view_name": "StyleView",
            "description_width": ""
          }
        },
        "828da7c8660e471d93b499bd029f49e5": {
          "model_module": "@jupyter-widgets/base",
          "model_name": "LayoutModel",
          "model_module_version": "1.2.0",
          "state": {
            "_model_module": "@jupyter-widgets/base",
            "_model_module_version": "1.2.0",
            "_model_name": "LayoutModel",
            "_view_count": null,
            "_view_module": "@jupyter-widgets/base",
            "_view_module_version": "1.2.0",
            "_view_name": "LayoutView",
            "align_content": null,
            "align_items": null,
            "align_self": null,
            "border": null,
            "bottom": null,
            "display": null,
            "flex": null,
            "flex_flow": null,
            "grid_area": null,
            "grid_auto_columns": null,
            "grid_auto_flow": null,
            "grid_auto_rows": null,
            "grid_column": null,
            "grid_gap": null,
            "grid_row": null,
            "grid_template_areas": null,
            "grid_template_columns": null,
            "grid_template_rows": null,
            "height": null,
            "justify_content": null,
            "justify_items": null,
            "left": null,
            "margin": null,
            "max_height": null,
            "max_width": null,
            "min_height": null,
            "min_width": null,
            "object_fit": null,
            "object_position": null,
            "order": null,
            "overflow": null,
            "overflow_x": null,
            "overflow_y": null,
            "padding": null,
            "right": null,
            "top": null,
            "visibility": null,
            "width": null
          }
        },
        "7c11a4576fc244b195f40370fa63b8e5": {
          "model_module": "@jupyter-widgets/controls",
          "model_name": "ProgressStyleModel",
          "model_module_version": "1.5.0",
          "state": {
            "_model_module": "@jupyter-widgets/controls",
            "_model_module_version": "1.5.0",
            "_model_name": "ProgressStyleModel",
            "_view_count": null,
            "_view_module": "@jupyter-widgets/base",
            "_view_module_version": "1.2.0",
            "_view_name": "StyleView",
            "bar_color": null,
            "description_width": ""
          }
        },
        "67e2c31649f146f89038eb8513059564": {
          "model_module": "@jupyter-widgets/base",
          "model_name": "LayoutModel",
          "model_module_version": "1.2.0",
          "state": {
            "_model_module": "@jupyter-widgets/base",
            "_model_module_version": "1.2.0",
            "_model_name": "LayoutModel",
            "_view_count": null,
            "_view_module": "@jupyter-widgets/base",
            "_view_module_version": "1.2.0",
            "_view_name": "LayoutView",
            "align_content": null,
            "align_items": null,
            "align_self": null,
            "border": null,
            "bottom": null,
            "display": null,
            "flex": null,
            "flex_flow": null,
            "grid_area": null,
            "grid_auto_columns": null,
            "grid_auto_flow": null,
            "grid_auto_rows": null,
            "grid_column": null,
            "grid_gap": null,
            "grid_row": null,
            "grid_template_areas": null,
            "grid_template_columns": null,
            "grid_template_rows": null,
            "height": null,
            "justify_content": null,
            "justify_items": null,
            "left": null,
            "margin": null,
            "max_height": null,
            "max_width": null,
            "min_height": null,
            "min_width": null,
            "object_fit": null,
            "object_position": null,
            "order": null,
            "overflow": null,
            "overflow_x": null,
            "overflow_y": null,
            "padding": null,
            "right": null,
            "top": null,
            "visibility": null,
            "width": null
          }
        },
        "ade74fc539fa42368cab6423191594ef": {
          "model_module": "@jupyter-widgets/controls",
          "model_name": "DescriptionStyleModel",
          "model_module_version": "1.5.0",
          "state": {
            "_model_module": "@jupyter-widgets/controls",
            "_model_module_version": "1.5.0",
            "_model_name": "DescriptionStyleModel",
            "_view_count": null,
            "_view_module": "@jupyter-widgets/base",
            "_view_module_version": "1.2.0",
            "_view_name": "StyleView",
            "description_width": ""
          }
        }
      }
    }
  },
  "cells": [
    {
      "cell_type": "markdown",
      "source": [
        "# 초기 세팅"
      ],
      "metadata": {
        "id": "cdNvme8aKSBP"
      }
    },
    {
      "cell_type": "code",
      "metadata": {
        "id": "P1v9luAfHXdz"
      },
      "source": [
        "import torch\n",
        "import torch.nn as nn\n",
        "import torch.nn.functional as F\n",
        "import torch.optim as optim\n",
        "from torch.utils.data import Dataset, DataLoader\n",
        "\n",
        "import torchvision\n",
        "import torchvision.datasets as datasets\n",
        "import torchvision.transforms as transforms\n",
        "\n",
        "import numpy as np\n",
        "import matplotlib.pyplot as plt\n",
        "plt.style.use('seaborn-white')"
      ],
      "execution_count": 1,
      "outputs": []
    },
    {
      "cell_type": "code",
      "source": [
        "#!pip install torchsummary\n",
        "from torchsummary import summary"
      ],
      "metadata": {
        "id": "D39aCPyTu2Ce"
      },
      "execution_count": 2,
      "outputs": []
    },
    {
      "cell_type": "markdown",
      "metadata": {
        "id": "02LdHlTTSz5L"
      },
      "source": [
        "- 현재 GPU 설정"
      ]
    },
    {
      "cell_type": "code",
      "metadata": {
        "id": "Ybsjn80uSx3X",
        "colab": {
          "base_uri": "https://localhost:8080/"
        },
        "outputId": "3a3b80e2-228a-4642-ff99-9fcd4e3f599d"
      },
      "source": [
        "# colab의 runtime-type을 GPU로 설정해서, True가 나오도록 한다.\n",
        "\n",
        "torch.cuda.is_available()"
      ],
      "execution_count": 3,
      "outputs": [
        {
          "output_type": "execute_result",
          "data": {
            "text/plain": [
              "True"
            ]
          },
          "metadata": {},
          "execution_count": 3
        }
      ]
    },
    {
      "cell_type": "code",
      "metadata": {
        "id": "HlPZI5wfDQhv",
        "colab": {
          "base_uri": "https://localhost:8080/"
        },
        "outputId": "38bacc0b-3d7c-450e-a78c-42bbfd65ebf6"
      },
      "source": [
        "use_cuda = torch.cuda.is_available()\n",
        "device = torch.device(\"cuda\" if use_cuda else \"cpu\") # gpu('cuda')가 사용가능하면, gpu를 이용하도록 설정\n",
        "device"
      ],
      "execution_count": 4,
      "outputs": [
        {
          "output_type": "execute_result",
          "data": {
            "text/plain": [
              "device(type='cuda')"
            ]
          },
          "metadata": {},
          "execution_count": 4
        }
      ]
    },
    {
      "cell_type": "markdown",
      "source": [
        "# CIFAR10 분류 모델\n",
        "* R/G/B(3) 이미지 데이터 분류\n",
        "* 32x32 pixel"
      ],
      "metadata": {
        "id": "jqQF4qWUywYV"
      }
    },
    {
      "cell_type": "markdown",
      "metadata": {
        "id": "wD3z029XPFK0"
      },
      "source": [
        "## 전처리 설정"
      ]
    },
    {
      "cell_type": "code",
      "metadata": {
        "id": "4u3-pXWIPCiM"
      },
      "source": [
        "# transform 정의\n",
        "\n",
        "CIFAR_transform = transforms.Compose([transforms.ToTensor(),\n",
        "                                      transforms.Normalize((0.5, 0.5, 0.5), (0.5, 0.5, 0.5))])# r,g,b 데이터임으로, 3개의 인자값 전달"
      ],
      "execution_count": 5,
      "outputs": []
    },
    {
      "cell_type": "markdown",
      "metadata": {
        "id": "a4HzFx19PNYv"
      },
      "source": [
        "## 데이터 로드 및 확인"
      ]
    },
    {
      "cell_type": "code",
      "metadata": {
        "id": "ctstlIt_PM9z",
        "colab": {
          "base_uri": "https://localhost:8080/",
          "height": 104,
          "referenced_widgets": [
            "24bca41720fb46d093a98cd5c5ceab7c",
            "06bc7e6fbc06424bbb2b8003eec9c196",
            "c3185f98be8a4bc6a0df24248b51975a",
            "03106918b3d941269a443dd2fdb31438",
            "3b97ee152cfd4f7c9d8e45bf8b3b6a57",
            "98ac3b8c95aa40ca89c5b794a1b27f90",
            "d75270da2e104ce08a9c36cdc606b121",
            "828da7c8660e471d93b499bd029f49e5",
            "7c11a4576fc244b195f40370fa63b8e5",
            "67e2c31649f146f89038eb8513059564",
            "ade74fc539fa42368cab6423191594ef"
          ]
        },
        "outputId": "e156aa05-84c9-4bfb-a5f6-8c18c9ab08f9"
      },
      "source": [
        "# datasets\n",
        "\n",
        "trainset = torchvision.datasets.CIFAR10(root='/content',\n",
        "                                 train=True, download=True,\n",
        "                                 transform=CIFAR_transform)\n",
        "\n",
        "testset = torchvision.datasets.CIFAR10(root='/content',\n",
        "                                 train=False, download=True,\n",
        "                                 transform=CIFAR_transform)"
      ],
      "execution_count": 6,
      "outputs": [
        {
          "output_type": "stream",
          "name": "stdout",
          "text": [
            "Downloading https://www.cs.toronto.edu/~kriz/cifar-10-python.tar.gz to /content/cifar-10-python.tar.gz\n"
          ]
        },
        {
          "output_type": "display_data",
          "data": {
            "text/plain": [
              "  0%|          | 0/170498071 [00:00<?, ?it/s]"
            ],
            "application/vnd.jupyter.widget-view+json": {
              "version_major": 2,
              "version_minor": 0,
              "model_id": "24bca41720fb46d093a98cd5c5ceab7c"
            }
          },
          "metadata": {}
        },
        {
          "output_type": "stream",
          "name": "stdout",
          "text": [
            "Extracting /content/cifar-10-python.tar.gz to /content\n",
            "Files already downloaded and verified\n"
          ]
        }
      ]
    },
    {
      "cell_type": "code",
      "metadata": {
        "id": "wTkTcictPTyY"
      },
      "source": [
        "# DataLoader\n",
        "\n",
        "# batch-size = 4\n",
        "\n",
        "train_loader = DataLoader(trainset, batch_size=4, shuffle=True, num_workers=2)\n",
        "\n",
        "test_loader = DataLoader(testset, batch_size=4, shuffle=False, num_workers=2)"
      ],
      "execution_count": 7,
      "outputs": []
    },
    {
      "cell_type": "code",
      "source": [
        "# 숫자 label에 해당되는 값\n",
        "\n",
        "class_list = ('plane', 'car', 'bird', 'cat', 'deer',\n",
        "           'dog', 'frog', 'horse', 'ship', 'truck')"
      ],
      "metadata": {
        "id": "-lxqiKWGy-sP"
      },
      "execution_count": 8,
      "outputs": []
    },
    {
      "cell_type": "code",
      "metadata": {
        "id": "_6IsY5CrPZ5e",
        "colab": {
          "base_uri": "https://localhost:8080/",
          "height": 153
        },
        "outputId": "b3dec9a4-63c3-4a79-95de-6b282515dece"
      },
      "source": [
        "\n",
        "\n",
        "def imshow(img):\n",
        "    img = img / 2 + 0.5\n",
        "    npimg = img.numpy()\n",
        "    plt.imshow(np.transpose(npimg, (1,2,0)))\n",
        "    plt.show()\n",
        "\n",
        "dataiter = iter(train_loader)\n",
        "images, labels = next(dataiter)\n",
        "\n",
        "imshow(torchvision.utils.make_grid(images))\n",
        "print(' '.join('{}\\t'.format(class_list[labels[j]]) for j in range(4)))"
      ],
      "execution_count": 9,
      "outputs": [
        {
          "output_type": "display_data",
          "data": {
            "text/plain": [
              "<Figure size 432x288 with 1 Axes>"
            ],
            "image/png": "[encoded data removed]"
          },
          "metadata": {}
        },
        {
          "output_type": "stream",
          "name": "stdout",
          "text": [
            "frog\t bird\t frog\t dog\t\n"
          ]
        }
      ]
    },
    {
      "cell_type": "markdown",
      "metadata": {
        "id": "hZgB4eq0Pk6c"
      },
      "source": [
        "## 모델 생성"
      ]
    },
    {
      "cell_type": "markdown",
      "source": [
        "* input size = 4 * 3 * 32 * 32\n",
        "* output size = 4 * 10\n",
        "* 모델 조건\n",
        "> * convolution-layer : 2개 이상 사용\n",
        "> * maxpooling-layer : 1개 이상 사용\n",
        "> * fc-layer : 2개 이상 사용\n",
        "> * activation-function 으로 'relu' 사용"
      ],
      "metadata": {
        "id": "aNeryJhl3GhR"
      }
    },
    {
      "cell_type": "code",
      "metadata": {
        "id": "E2OMzoFHPeFZ"
      },
      "source": [
        "class Net(nn.Module):\n",
        "    def __init__(self):\n",
        "        super(Net, self).__init__()\n",
        "\n",
        "        self.conv1 = nn.Conv2d(in_channels=3, out_channels=16, kernel_size=3, stride=1, padding=1)\n",
        "        self.bn = nn.BatchNorm2d(16)\n",
        "        self.conv2 = nn.Conv2d(16, 16, 3, padding=1)\n",
        "        self.conv3 = nn.Conv2d(16, 32, 3, padding=1)\n",
        "        self.conv4 = nn.Conv2d(32, 32, 3, padding=1)\n",
        "        self.conv5 = nn.Conv2d(32, 64, 3, padding=1)\n",
        "\n",
        "        self.dropout1 = nn.Dropout(p=0.5, inplace=False)\n",
        "\n",
        "        self.fc1 = nn.Linear(8*8*64, 1000)\n",
        "        self.fc2 = nn.Linear(1000, 10)\n",
        "\n",
        "    def forward(self, x):\n",
        "        x = F.relu(self.bn(self.conv1(x)))\n",
        "        x = F.relu(self.conv2(x))\n",
        "        x = F.max_pool2d(x, (2,2))\n",
        "        x = F.relu(self.conv3(x))\n",
        "        x = F.relu(self.conv4(x))\n",
        "        x = F.max_pool2d(x, (2,2))\n",
        "        x = F.relu(self.conv5(x))\n",
        "\n",
        "\n",
        "        x = x.view(-1, self.num_flat_features(x))\n",
        "        \n",
        "        x = F.relu(self.fc1(x))\n",
        "        x = self.fc2(x)\n",
        "\n",
        "        return x\n",
        "    \n",
        "    def num_flat_features(self, x): # 처음 dim-size을 제외하고, 모두 곱한 값을 반환해준다.\n",
        "        size = x.size()[1:]\n",
        "        num_features = 1\n",
        "        for s in size:\n",
        "            num_features *= s\n",
        "        \n",
        "        return num_features        "
      ],
      "execution_count": 16,
      "outputs": []
    },
    {
      "cell_type": "code",
      "source": [
        "myNet = Net().to(device) # gpu에 모델 저장\n",
        "myNet"
      ],
      "metadata": {
        "id": "P5ZAjWK03iQ_",
        "colab": {
          "base_uri": "https://localhost:8080/"
        },
        "outputId": "20047c22-71d2-4e3e-d6da-6a970db936a8"
      },
      "execution_count": 17,
      "outputs": [
        {
          "output_type": "execute_result",
          "data": {
            "text/plain": [
              "Net(\n",
              "  (conv1): Conv2d(3, 16, kernel_size=(3, 3), stride=(1, 1), padding=(1, 1))\n",
              "  (bn): BatchNorm2d(16, eps=1e-05, momentum=0.1, affine=True, track_running_stats=True)\n",
              "  (conv2): Conv2d(16, 16, kernel_size=(3, 3), stride=(1, 1), padding=(1, 1))\n",
              "  (conv3): Conv2d(16, 32, kernel_size=(3, 3), stride=(1, 1), padding=(1, 1))\n",
              "  (conv4): Conv2d(32, 32, kernel_size=(3, 3), stride=(1, 1), padding=(1, 1))\n",
              "  (conv5): Conv2d(32, 64, kernel_size=(3, 3), stride=(1, 1), padding=(1, 1))\n",
              "  (dropout1): Dropout(p=0.5, inplace=False)\n",
              "  (fc1): Linear(in_features=4096, out_features=1000, bias=True)\n",
              "  (fc2): Linear(in_features=1000, out_features=10, bias=True)\n",
              ")"
            ]
          },
          "metadata": {},
          "execution_count": 17
        }
      ]
    },
    {
      "cell_type": "code",
      "source": [
        "# input; (4 * 3 * 32 * 32)\n",
        "\n",
        "input = images.to(device)\n",
        "input.size()"
      ],
      "metadata": {
        "colab": {
          "base_uri": "https://localhost:8080/"
        },
        "id": "aC1MMHle3jid",
        "outputId": "6d617af9-24a8-4cb7-cf40-1edba26d187c"
      },
      "execution_count": 18,
      "outputs": [
        {
          "output_type": "execute_result",
          "data": {
            "text/plain": [
              "torch.Size([4, 3, 32, 32])"
            ]
          },
          "metadata": {},
          "execution_count": 18
        }
      ]
    },
    {
      "cell_type": "code",
      "source": [
        "# output; (4 * 10)\n",
        "\n",
        "output = myNet.forward(input)\n",
        "output.size()"
      ],
      "metadata": {
        "colab": {
          "base_uri": "https://localhost:8080/"
        },
        "id": "UYxJZCGo3uPZ",
        "outputId": "cab01505-75b7-4c5a-f858-3ba9cddeae66"
      },
      "execution_count": 19,
      "outputs": [
        {
          "output_type": "execute_result",
          "data": {
            "text/plain": [
              "torch.Size([4, 10])"
            ]
          },
          "metadata": {},
          "execution_count": 19
        }
      ]
    },
    {
      "cell_type": "code",
      "source": [
        "# 모델 구조 확인\n",
        "\n",
        "summary(myNet, input_size=(3, 32, 32), batch_size=4)"
      ],
      "metadata": {
        "id": "OS6RZEuB3wwa",
        "colab": {
          "base_uri": "https://localhost:8080/"
        },
        "outputId": "893b9687-3e0a-4b00-b73b-4de03fdf7425"
      },
      "execution_count": 20,
      "outputs": [
        {
          "output_type": "stream",
          "name": "stdout",
          "text": [
            "----------------------------------------------------------------\n",
            "        Layer (type)               Output Shape         Param #\n",
            "================================================================\n",
            "            Conv2d-1            [4, 16, 32, 32]             448\n",
            "       BatchNorm2d-2            [4, 16, 32, 32]              32\n",
            "            Conv2d-3            [4, 16, 32, 32]           2,320\n",
            "            Conv2d-4            [4, 32, 16, 16]           4,640\n",
            "            Conv2d-5            [4, 32, 16, 16]           9,248\n",
            "            Conv2d-6              [4, 64, 8, 8]          18,496\n",
            "            Linear-7                  [4, 1000]       4,097,000\n",
            "            Linear-8                    [4, 10]          10,010\n",
            "================================================================\n",
            "Total params: 4,142,194\n",
            "Trainable params: 4,142,194\n",
            "Non-trainable params: 0\n",
            "----------------------------------------------------------------\n",
            "Input size (MB): 0.05\n",
            "Forward/backward pass size (MB): 2.16\n",
            "Params size (MB): 15.80\n",
            "Estimated Total Size (MB): 18.00\n",
            "----------------------------------------------------------------\n"
          ]
        }
      ]
    },
    {
      "cell_type": "markdown",
      "metadata": {
        "id": "gogmHThzPrjK"
      },
      "source": [
        "## 손실함수와 옵티마이저"
      ]
    },
    {
      "cell_type": "code",
      "metadata": {
        "id": "X5SzxufZPpel"
      },
      "source": [
        "criterion = criterion = nn.CrossEntropyLoss() # 다중분류; CrossEntropyLoss\n",
        "optimizer = optim.SGD(myNet.parameters(), lr=0.001, momentum=0.9) # SGD; lr=0.001 & momentum=0.9"
      ],
      "execution_count": 21,
      "outputs": []
    },
    {
      "cell_type": "markdown",
      "metadata": {
        "id": "_UnbIcKaPyQv"
      },
      "source": [
        "## 모델 학습"
      ]
    },
    {
      "cell_type": "code",
      "metadata": {
        "id": "jlWiR3LwPuwa",
        "colab": {
          "base_uri": "https://localhost:8080/"
        },
        "outputId": "866fb47d-faec-4930-8b2a-bf95c7fa0d82"
      },
      "source": [
        "# epochs = 20\n",
        "\n",
        "for epoch in range(20):\n",
        "    running_loss = 0.0\n",
        "\n",
        "    for i, data in enumerate(train_loader, 0):\n",
        "        inputs, labels = data[0].to(device), data[1].to(device)\n",
        "        \n",
        "        optimizer.zero_grad()                            # 가중치 초기화\n",
        "\n",
        "        outputs = myNet(inputs)\n",
        "        loss = criterion(outputs, labels)\n",
        "        loss.backward()\n",
        "        optimizer.step()\n",
        "\n",
        "        running_loss += loss.item()\n",
        "        if i % 2000 == 1999:\n",
        "            print(\"Epoch: {}, Batch: {}, Loss: {}\".format(epoch+1, i+1, running_loss/2000))\n",
        "            running_loss = 0.0"
      ],
      "execution_count": 22,
      "outputs": [
        {
          "output_type": "stream",
          "name": "stdout",
          "text": [
            "Epoch: 1, Batch: 2000, Loss: 2.1196259385347367\n",
            "Epoch: 1, Batch: 4000, Loss: 1.7414493440985679\n",
            "Epoch: 1, Batch: 6000, Loss: 1.5526106313616037\n",
            "Epoch: 1, Batch: 8000, Loss: 1.381602844130248\n",
            "Epoch: 1, Batch: 10000, Loss: 1.2828917396254838\n",
            "Epoch: 1, Batch: 12000, Loss: 1.1686199754104019\n",
            "Epoch: 2, Batch: 2000, Loss: 1.0595530855534598\n",
            "Epoch: 2, Batch: 4000, Loss: 1.0083283452214673\n",
            "Epoch: 2, Batch: 6000, Loss: 0.9781222838563844\n",
            "Epoch: 2, Batch: 8000, Loss: 0.918525991619099\n",
            "Epoch: 2, Batch: 10000, Loss: 0.9185229101022705\n",
            "Epoch: 2, Batch: 12000, Loss: 0.9032006278303452\n",
            "Epoch: 3, Batch: 2000, Loss: 0.7343591936626471\n",
            "Epoch: 3, Batch: 4000, Loss: 0.7737091941761318\n",
            "Epoch: 3, Batch: 6000, Loss: 0.7578991210686509\n",
            "Epoch: 3, Batch: 8000, Loss: 0.7573613664445001\n",
            "Epoch: 3, Batch: 10000, Loss: 0.726024400305585\n",
            "Epoch: 3, Batch: 12000, Loss: 0.7099835303770379\n",
            "Epoch: 4, Batch: 2000, Loss: 0.5683817874076776\n",
            "Epoch: 4, Batch: 4000, Loss: 0.5677261733040941\n",
            "Epoch: 4, Batch: 6000, Loss: 0.5785654522744681\n",
            "Epoch: 4, Batch: 8000, Loss: 0.5893354890722112\n",
            "Epoch: 4, Batch: 10000, Loss: 0.5930386242024251\n",
            "Epoch: 4, Batch: 12000, Loss: 0.5954214458161732\n",
            "Epoch: 5, Batch: 2000, Loss: 0.38372131808342236\n",
            "Epoch: 5, Batch: 4000, Loss: 0.4073644658428802\n",
            "Epoch: 5, Batch: 6000, Loss: 0.42070019382789176\n",
            "Epoch: 5, Batch: 8000, Loss: 0.44841967687303985\n",
            "Epoch: 5, Batch: 10000, Loss: 0.4589201894594735\n",
            "Epoch: 5, Batch: 12000, Loss: 0.4704602137992624\n",
            "Epoch: 6, Batch: 2000, Loss: 0.2285831450292808\n",
            "Epoch: 6, Batch: 4000, Loss: 0.26920981271191985\n",
            "Epoch: 6, Batch: 6000, Loss: 0.302778990123412\n",
            "Epoch: 6, Batch: 8000, Loss: 0.3189285883155628\n",
            "Epoch: 6, Batch: 10000, Loss: 0.3307903233396628\n",
            "Epoch: 6, Batch: 12000, Loss: 0.3304357784563472\n",
            "Epoch: 7, Batch: 2000, Loss: 0.163773514378034\n",
            "Epoch: 7, Batch: 4000, Loss: 0.2218287193793295\n",
            "Epoch: 7, Batch: 6000, Loss: 0.22670447406372457\n",
            "Epoch: 7, Batch: 8000, Loss: 0.2297430035549013\n",
            "Epoch: 7, Batch: 10000, Loss: 0.24198064546332143\n",
            "Epoch: 7, Batch: 12000, Loss: 0.23510176694856405\n",
            "Epoch: 8, Batch: 2000, Loss: 0.1374750180482651\n",
            "Epoch: 8, Batch: 4000, Loss: 0.1338906556910898\n",
            "Epoch: 8, Batch: 6000, Loss: 0.17563056516968897\n",
            "Epoch: 8, Batch: 8000, Loss: 0.17456633566855145\n",
            "Epoch: 8, Batch: 10000, Loss: 0.19564343522419952\n",
            "Epoch: 8, Batch: 12000, Loss: 0.19294894387936454\n",
            "Epoch: 9, Batch: 2000, Loss: 0.11702628813705492\n",
            "Epoch: 9, Batch: 4000, Loss: 0.11786363738898559\n",
            "Epoch: 9, Batch: 6000, Loss: 0.12260086738593746\n",
            "Epoch: 9, Batch: 8000, Loss: 0.13190936851981716\n",
            "Epoch: 9, Batch: 10000, Loss: 0.14420101716110814\n",
            "Epoch: 9, Batch: 12000, Loss: 0.16343933918042652\n",
            "Epoch: 10, Batch: 2000, Loss: 0.07387174093095636\n",
            "Epoch: 10, Batch: 4000, Loss: 0.09546320623790201\n",
            "Epoch: 10, Batch: 6000, Loss: 0.12125137062566525\n",
            "Epoch: 10, Batch: 8000, Loss: 0.12337525789534165\n",
            "Epoch: 10, Batch: 10000, Loss: 0.12688524795161976\n",
            "Epoch: 10, Batch: 12000, Loss: 0.11948516847747583\n",
            "Epoch: 11, Batch: 2000, Loss: 0.086669600753256\n",
            "Epoch: 11, Batch: 4000, Loss: 0.09227166629488444\n",
            "Epoch: 11, Batch: 6000, Loss: 0.11054183679439158\n",
            "Epoch: 11, Batch: 8000, Loss: 0.08770092836886054\n",
            "Epoch: 11, Batch: 10000, Loss: 0.1079623382279817\n",
            "Epoch: 11, Batch: 12000, Loss: 0.10473286467449176\n",
            "Epoch: 12, Batch: 2000, Loss: 0.057518748447803573\n",
            "Epoch: 12, Batch: 4000, Loss: 0.07222936639881729\n",
            "Epoch: 12, Batch: 6000, Loss: 0.08117107295613389\n",
            "Epoch: 12, Batch: 8000, Loss: 0.08248026774970568\n",
            "Epoch: 12, Batch: 10000, Loss: 0.10491738230077446\n",
            "Epoch: 12, Batch: 12000, Loss: 0.09862653737288869\n",
            "Epoch: 13, Batch: 2000, Loss: 0.06876103289665568\n",
            "Epoch: 13, Batch: 4000, Loss: 0.07021811301675177\n",
            "Epoch: 13, Batch: 6000, Loss: 0.08280675682257467\n",
            "Epoch: 13, Batch: 8000, Loss: 0.09362276681373578\n",
            "Epoch: 13, Batch: 10000, Loss: 0.09582836310969478\n",
            "Epoch: 13, Batch: 12000, Loss: 0.08229417848646918\n",
            "Epoch: 14, Batch: 2000, Loss: 0.07963883029933078\n",
            "Epoch: 14, Batch: 4000, Loss: 0.07378995435508551\n",
            "Epoch: 14, Batch: 6000, Loss: 0.10405760964422418\n",
            "Epoch: 14, Batch: 8000, Loss: 0.07825324570072757\n",
            "Epoch: 14, Batch: 10000, Loss: 0.08599740328316278\n",
            "Epoch: 14, Batch: 12000, Loss: 0.09082352363913804\n",
            "Epoch: 15, Batch: 2000, Loss: 0.04954806216359336\n",
            "Epoch: 15, Batch: 4000, Loss: 0.08477270353102583\n",
            "Epoch: 15, Batch: 6000, Loss: 0.07352286500113947\n",
            "Epoch: 15, Batch: 8000, Loss: 0.062384510688043224\n",
            "Epoch: 15, Batch: 10000, Loss: 0.07351611855238571\n",
            "Epoch: 15, Batch: 12000, Loss: 0.09226278208997427\n",
            "Epoch: 16, Batch: 2000, Loss: 0.04660033157141923\n",
            "Epoch: 16, Batch: 4000, Loss: 0.06660321062072715\n",
            "Epoch: 16, Batch: 6000, Loss: 0.07992442426588628\n",
            "Epoch: 16, Batch: 8000, Loss: 0.06885898237257798\n",
            "Epoch: 16, Batch: 10000, Loss: 0.0736692932925007\n",
            "Epoch: 16, Batch: 12000, Loss: 0.08077815687298\n",
            "Epoch: 17, Batch: 2000, Loss: 0.050700400030639116\n",
            "Epoch: 17, Batch: 4000, Loss: 0.04894088380942484\n",
            "Epoch: 17, Batch: 6000, Loss: 0.06170280000062769\n",
            "Epoch: 17, Batch: 8000, Loss: 0.052209313806789975\n",
            "Epoch: 17, Batch: 10000, Loss: 0.06716911808939509\n",
            "Epoch: 17, Batch: 12000, Loss: 0.07102093485125573\n",
            "Epoch: 18, Batch: 2000, Loss: 0.04821273595086542\n",
            "Epoch: 18, Batch: 4000, Loss: 0.0663491104249177\n",
            "Epoch: 18, Batch: 6000, Loss: 0.06119143214257298\n",
            "Epoch: 18, Batch: 8000, Loss: 0.04963242163870606\n",
            "Epoch: 18, Batch: 10000, Loss: 0.05051835425989341\n",
            "Epoch: 18, Batch: 12000, Loss: 0.07846826448465732\n",
            "Epoch: 19, Batch: 2000, Loss: 0.05182731170301331\n",
            "Epoch: 19, Batch: 4000, Loss: 0.06103986067516866\n",
            "Epoch: 19, Batch: 6000, Loss: 0.07165897178079982\n",
            "Epoch: 19, Batch: 8000, Loss: 0.07850296090735956\n",
            "Epoch: 19, Batch: 10000, Loss: 0.07010428624056042\n",
            "Epoch: 19, Batch: 12000, Loss: 0.0712665938298121\n",
            "Epoch: 20, Batch: 2000, Loss: 0.0608445997555613\n",
            "Epoch: 20, Batch: 4000, Loss: 0.05585926005045009\n",
            "Epoch: 20, Batch: 6000, Loss: 0.05391371145505634\n",
            "Epoch: 20, Batch: 8000, Loss: 0.07117341277005557\n",
            "Epoch: 20, Batch: 10000, Loss: 0.07345527935329824\n",
            "Epoch: 20, Batch: 12000, Loss: 0.07322082039834223\n"
          ]
        }
      ]
    },
    {
      "cell_type": "markdown",
      "metadata": {
        "id": "NqYnwxJ3P8Gb"
      },
      "source": [
        "## 모델의 저장 및 로드"
      ]
    },
    {
      "cell_type": "code",
      "metadata": {
        "id": "keqtypx1QY6t",
        "colab": {
          "base_uri": "https://localhost:8080/",
          "height": 153
        },
        "outputId": "441e4d35-091f-4b96-8b56-943a83b4c2aa"
      },
      "source": [
        "# 잘 학습된 모델인지 간단히 한 batch에 대해서 확인\n",
        "\n",
        "dataiter = iter(test_loader)\n",
        "images, labels = next(dataiter)\n",
        "\n",
        "imshow(torchvision.utils.make_grid(images))\n",
        "print(' '.join('\\t{}'.format(class_list[labels[j]]) for j in range(4))) # batch-size = 4"
      ],
      "execution_count": 23,
      "outputs": [
        {
          "output_type": "display_data",
          "data": {
            "text/plain": [
              "<Figure size 432x288 with 1 Axes>"
            ],
            "image/png": "[encoded data removed]"
          },
          "metadata": {}
        },
        {
          "output_type": "stream",
          "name": "stdout",
          "text": [
            "\tcat \tship \tship \tplane\n"
          ]
        }
      ]
    },
    {
      "cell_type": "code",
      "metadata": {
        "id": "z6UYtCT4P3Tj"
      },
      "source": [
        "# 저장\n",
        "\n",
        "PATH = './cifar_net.pth'\n",
        "torch.save(myNet.state_dict(), PATH)"
      ],
      "execution_count": 24,
      "outputs": []
    },
    {
      "cell_type": "code",
      "metadata": {
        "id": "FfsXzP9NQbMg",
        "colab": {
          "base_uri": "https://localhost:8080/"
        },
        "outputId": "f167897a-11bd-4e14-bff8-6d7f0b9df956"
      },
      "source": [
        "# 불러오기\n",
        "\n",
        "Loaded_Net = Net().to(device)\n",
        "Loaded_Net.load_state_dict(torch.load(PATH))"
      ],
      "execution_count": 25,
      "outputs": [
        {
          "output_type": "execute_result",
          "data": {
            "text/plain": [
              "<All keys matched successfully>"
            ]
          },
          "metadata": {},
          "execution_count": 25
        }
      ]
    },
    {
      "cell_type": "markdown",
      "metadata": {
        "id": "1dvGiVkrQ2cf"
      },
      "source": [
        "## 모델 테스트\n",
        "* 조건\n",
        "> 전체 accuracy가 70% 이상이어야한다.<br>\n",
        "> 각각의 class에 대한 accuracy는 60% 이상이어야한다."
      ]
    },
    {
      "cell_type": "code",
      "metadata": {
        "id": "ajGFbhDvQtlp",
        "colab": {
          "base_uri": "https://localhost:8080/"
        },
        "outputId": "8ed68d3d-2eaa-4922-9719-3012e0831376"
      },
      "source": [
        "# 전체 accuracy 확인; 70% 이상 성능값\n",
        "\n",
        "correct = 0\n",
        "total = 0\n",
        "\n",
        "with torch.no_grad():\n",
        "    for data in test_loader:\n",
        "        images, labels = data[0].to(device), data[1].to(device)\n",
        "        outputs = myNet(images)\n",
        "        _, predicted = torch.max(outputs.data, axis=1)  # 확률이 가장 큰 것의 label을 최종 예측값으로 선택\n",
        "        total += labels.size(0) # 전체 갯수\n",
        "        correct += (predicted == labels).sum().item()   # 맞춘 갯수\n",
        "    \n",
        "    print(100 * correct / total)"
      ],
      "execution_count": 26,
      "outputs": [
        {
          "output_type": "stream",
          "name": "stdout",
          "text": [
            "72.22\n"
          ]
        }
      ]
    },
    {
      "cell_type": "markdown",
      "metadata": {
        "id": "trWVf5YvRYI0"
      },
      "source": [
        "- 어떤 것을 잘 분류했고, 잘 못했는지 확인"
      ]
    },
    {
      "cell_type": "code",
      "metadata": {
        "id": "P9p7QKhDQzpC",
        "colab": {
          "base_uri": "https://localhost:8080/"
        },
        "outputId": "19f6c550-b9bf-4ed6-9f11-4a7cc6931350"
      },
      "source": [
        "# 각각의 class에 대한 accuracy 확인; 각각의 class에 대한 60% 이상 성능값\n",
        "\n",
        "class_correct = list(0. for i in range(10))\n",
        "class_total = list(0. for i in range(10))\n",
        "\n",
        "with torch.no_grad():\n",
        "    for data in test_loader:\n",
        "        images, labels = data[0].to(device), data[1].to(device)\n",
        "        outputs = Loaded_Net(images)\n",
        "        _, predicted = torch.max(outputs.data, axis=1)\n",
        "        c = (predicted == labels).squeeze()\n",
        "        for i in range(4): # 각각의 batch(batch-size : 4) 마다 계싼\n",
        "            label = labels[i]\n",
        "            class_correct[label] += c[i].item()\n",
        "            class_total[label] += 1\n",
        "\n",
        "for i in range(10):\n",
        "    print(\"Accuracy of {}: {}%\".format(class_list[i], 100 * class_correct[i] / class_total[i]))"
      ],
      "execution_count": 27,
      "outputs": [
        {
          "output_type": "stream",
          "name": "stdout",
          "text": [
            "Accuracy of plane: 73.3%\n",
            "Accuracy of car: 87.0%\n",
            "Accuracy of bird: 67.1%\n",
            "Accuracy of cat: 46.7%\n",
            "Accuracy of deer: 60.4%\n",
            "Accuracy of dog: 68.3%\n",
            "Accuracy of frog: 68.3%\n",
            "Accuracy of horse: 80.9%\n",
            "Accuracy of ship: 82.6%\n",
            "Accuracy of truck: 87.6%\n"
          ]
        }
      ]
    },
    {
      "cell_type": "code",
      "source": [],
      "metadata": {
        "id": "d79fLwYkT8vc"
      },
      "execution_count": 64,
      "outputs": []
    }
  ]
}