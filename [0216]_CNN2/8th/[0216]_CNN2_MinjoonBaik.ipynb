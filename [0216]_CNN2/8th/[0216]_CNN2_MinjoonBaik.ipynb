{
  "nbformat": 4,
  "nbformat_minor": 0,
  "metadata": {
    "colab": {
      "provenance": []
    },
    "kernelspec": {
      "name": "python3",
      "display_name": "Python 3"
    },
    "accelerator": "GPU",
    "gpuClass": "standard"
  },
  "cells": [
    {
      "cell_type": "markdown",
      "source": [
        "# 초기 세팅"
      ],
      "metadata": {
        "id": "cdNvme8aKSBP"
      }
    },
    {
      "cell_type": "code",
      "metadata": {
        "id": "P1v9luAfHXdz"
      },
      "source": [
        "import torch\n",
        "import torch.nn as nn\n",
        "import torch.nn.functional as F\n",
        "import torch.optim as optim\n",
        "from torch.utils.data import Dataset, DataLoader\n",
        "\n",
        "import torchvision\n",
        "import torchvision.datasets as datasets\n",
        "import torchvision.transforms as transforms\n",
        "\n",
        "import numpy as np\n",
        "import matplotlib.pyplot as plt\n",
        "plt.style.use('seaborn-white')"
      ],
      "execution_count": 26,
      "outputs": []
    },
    {
      "cell_type": "code",
      "source": [
        "!pip install torchsummary\n",
        "from torchsummary import summary"
      ],
      "metadata": {
        "colab": {
          "base_uri": "https://localhost:8080/"
        },
        "id": "D39aCPyTu2Ce",
        "outputId": "63febb7a-baeb-41bf-ddfc-4a09bf8367b6"
      },
      "execution_count": 27,
      "outputs": [
        {
          "output_type": "stream",
          "name": "stdout",
          "text": [
            "Looking in indexes: https://pypi.org/simple, https://us-python.pkg.dev/colab-wheels/public/simple/\n",
            "Requirement already satisfied: torchsummary in /usr/local/lib/python3.8/dist-packages (1.5.1)\n"
          ]
        }
      ]
    },
    {
      "cell_type": "markdown",
      "metadata": {
        "id": "02LdHlTTSz5L"
      },
      "source": [
        "- 현재 GPU 설정"
      ]
    },
    {
      "cell_type": "code",
      "metadata": {
        "id": "Ybsjn80uSx3X",
        "colab": {
          "base_uri": "https://localhost:8080/"
        },
        "outputId": "04ab1447-04c2-477a-c3e9-58578a2749ef"
      },
      "source": [
        "# colab의 runtime-type을 GPU로 설정해서, True가 나오도록 한다.\n",
        "\n",
        "torch.cuda.is_available()"
      ],
      "execution_count": 28,
      "outputs": [
        {
          "output_type": "execute_result",
          "data": {
            "text/plain": [
              "True"
            ]
          },
          "metadata": {},
          "execution_count": 28
        }
      ]
    },
    {
      "cell_type": "code",
      "metadata": {
        "id": "HlPZI5wfDQhv",
        "colab": {
          "base_uri": "https://localhost:8080/"
        },
        "outputId": "968d5203-6b6b-49ec-d9b8-a00a2c937705"
      },
      "source": [
        "device = torch.device(\"cuda\" if torch.cuda.is_available() else \"cpu\") # gpu('cuda')가 사용가능하면, gpu를 이용하도록 설정\n",
        "device"
      ],
      "execution_count": 29,
      "outputs": [
        {
          "output_type": "execute_result",
          "data": {
            "text/plain": [
              "device(type='cuda')"
            ]
          },
          "metadata": {},
          "execution_count": 29
        }
      ]
    },
    {
      "cell_type": "markdown",
      "source": [
        "# CIFAR10 분류 모델\n",
        "* R/G/B(3) 이미지 데이터 분류\n",
        "* 32x32 pixel"
      ],
      "metadata": {
        "id": "jqQF4qWUywYV"
      }
    },
    {
      "cell_type": "markdown",
      "metadata": {
        "id": "wD3z029XPFK0"
      },
      "source": [
        "## 전처리 설정"
      ]
    },
    {
      "cell_type": "code",
      "metadata": {
        "id": "4u3-pXWIPCiM"
      },
      "source": [
        "# transform 정의\n",
        "\n",
        "CIFAR_transform = transforms.Compose([transforms.ToTensor(),\n",
        "                                      transforms.Normalize((0.5, 0.5, 0.5), (0.5, 0.5, 0.5))]) # r,g,b 데이터임으로, 3개의 인자값 전달"
      ],
      "execution_count": 30,
      "outputs": []
    },
    {
      "cell_type": "markdown",
      "metadata": {
        "id": "a4HzFx19PNYv"
      },
      "source": [
        "## 데이터 로드 및 확인"
      ]
    },
    {
      "cell_type": "code",
      "metadata": {
        "id": "ctstlIt_PM9z",
        "colab": {
          "base_uri": "https://localhost:8080/"
        },
        "outputId": "87b74811-9663-42ad-8ff0-7686453feef2"
      },
      "source": [
        "# datasets\n",
        "\n",
        "trainset = torchvision.datasets.CIFAR10(root='/content',\n",
        "                                 train=True, download=True,\n",
        "                                 transform=CIFAR_transform)\n",
        "\n",
        "testset = torchvision.datasets.CIFAR10(root='/content',\n",
        "                                 train=False, download=True,\n",
        "                                 transform=CIFAR_transform)"
      ],
      "execution_count": 31,
      "outputs": [
        {
          "output_type": "stream",
          "name": "stdout",
          "text": [
            "Files already downloaded and verified\n",
            "Files already downloaded and verified\n"
          ]
        }
      ]
    },
    {
      "cell_type": "code",
      "metadata": {
        "id": "wTkTcictPTyY"
      },
      "source": [
        "# DataLoader\n",
        "\n",
        "# batch-size = 4\n",
        "\n",
        "train_loader =  DataLoader(trainset, batch_size=4, shuffle=True, num_workers=2)\n",
        "test_loader =  DataLoader(testset, batch_size=4, shuffle=False, num_workers=2)"
      ],
      "execution_count": 32,
      "outputs": []
    },
    {
      "cell_type": "code",
      "source": [
        "# 숫자 label에 해당되는 값\n",
        "\n",
        "class_list = ('plane', 'car', 'bird', 'cat', 'deer',\n",
        "           'dog', 'frog', 'horse', 'ship', 'truck')"
      ],
      "metadata": {
        "id": "-lxqiKWGy-sP"
      },
      "execution_count": 33,
      "outputs": []
    },
    {
      "cell_type": "code",
      "metadata": {
        "id": "_6IsY5CrPZ5e",
        "colab": {
          "base_uri": "https://localhost:8080/",
          "height": 153
        },
        "outputId": "c2c4d2a4-eedb-4c11-c9e1-8ecd514886ea"
      },
      "source": [
        "def imshow(img):\n",
        "    img = img / 2 + 0.5\n",
        "    npimg = img.numpy()\n",
        "    plt.imshow(np.transpose(npimg, (1,2,0)))\n",
        "    plt.show()\n",
        "\n",
        "dataiter = iter(train_loader)\n",
        "images, labels = next(dataiter)\n",
        "\n",
        "imshow(torchvision.utils.make_grid(images))\n",
        "print(' '.join('{}\\t'.format(class_list[labels[j]]) for j in range(4)))"
      ],
      "execution_count": 34,
      "outputs": [
        {
          "output_type": "display_data",
          "data": {
            "text/plain": [
              "<Figure size 432x288 with 1 Axes>"
            ],
            "image/png": "[encoded data removed]"
          },
          "metadata": {}
        },
        {
          "output_type": "stream",
          "name": "stdout",
          "text": [
            "horse\t bird\t bird\t cat\t\n"
          ]
        }
      ]
    },
    {
      "cell_type": "markdown",
      "metadata": {
        "id": "hZgB4eq0Pk6c"
      },
      "source": [
        "## 모델 생성"
      ]
    },
    {
      "cell_type": "markdown",
      "source": [
        "* input size = 4 * 3 * 32 * 32\n",
        "* output size = 4 * 10\n",
        "* 모델 조건\n",
        "> * convolution-layer : 2개 이상 사용\n",
        "> * maxpooling-layer : 1개 이상 사용\n",
        "> * fc-layer : 2개 이상 사용\n",
        "> * activation-function 으로 'relu' 사용"
      ],
      "metadata": {
        "id": "aNeryJhl3GhR"
      }
    },
    {
      "cell_type": "code",
      "metadata": {
        "id": "E2OMzoFHPeFZ"
      },
      "source": [
        "class Net(nn.Module):\n",
        "\n",
        "  def __init__(self):\n",
        "    super(Net, self).__init__()\n",
        "\n",
        "    self.conv1 = nn.Conv2d(3, 6, 3, 1, 1) #n=32\n",
        "    #maxpooling 2*2 => out_dim=16\n",
        "\n",
        "    self.conv2 = nn.Conv2d(6, 16, 3, 1, 1) #n=16\n",
        "    #maxpooling 2*2 => out_dim=8\n",
        "\n",
        "    self.conv3 = nn.Conv2d(16, 30, 3, 1, 1) #n=4\n",
        "    #maxpooling 2*2 => out_dim=4\n",
        "\n",
        "    self.fc1 = nn.Linear(480, 120) \n",
        "    self.fc2 = nn.Linear(120, 84)\n",
        "    self.fc3 = nn.Linear(84, 32)\n",
        "    self.fc4 = nn.Linear(32, 10)\n",
        "    \n",
        "\n",
        "  def forward(self, x):\n",
        "\n",
        "    x = self.conv1(x) #6*32*32\n",
        "    x = F.relu(x) #6*32*32\n",
        "\n",
        "    x = F.max_pool2d(x, 2) #6*16*16\n",
        "\n",
        "    x = self.conv2(x) #16*16*16\n",
        "    x = F.relu(x) #16*16*16\n",
        "\n",
        "    x = F.max_pool2d(x, 2) #16*8*8\n",
        "\n",
        "    x = self.conv3(x) #30*8*8\n",
        "    x = F.relu(x) #30*8*8\n",
        "\n",
        "    x = F.max_pool2d(x, 2) #30*4*4\n",
        "\n",
        "    x = x.view(-1, self.num_flat_features(x)) #flatten=1*480\n",
        "\n",
        "    x = self.fc1(x) #1*120\n",
        "    x = F.relu(x) #1*120\n",
        "    x = self.fc2(x) #1*84\n",
        "    x = F.relu(x) #1*84\n",
        "    x = self.fc3(x) #1*32\n",
        "    x = F.relu(x) #1*32\n",
        "    x = self.fc4(x) #1*10\n",
        "\n",
        "    return x\n",
        "\n",
        "  def num_flat_features(self, x):\n",
        "    size = x.size()[1:] \n",
        "    num_features = 1 \n",
        "    for s in size: \n",
        "      num_features *= s\n",
        "\n",
        "    return num_features"
      ],
      "execution_count": 47,
      "outputs": []
    },
    {
      "cell_type": "code",
      "source": [
        "myNet = Net().to(device) # gpu에 모델 저장\n",
        "myNet"
      ],
      "metadata": {
        "id": "P5ZAjWK03iQ_",
        "colab": {
          "base_uri": "https://localhost:8080/"
        },
        "outputId": "9e402797-5653-4828-e731-39cd2e2a7a74"
      },
      "execution_count": 36,
      "outputs": [
        {
          "output_type": "execute_result",
          "data": {
            "text/plain": [
              "Net(\n",
              "  (conv1): Conv2d(3, 6, kernel_size=(3, 3), stride=(1, 1), padding=(1, 1))\n",
              "  (conv2): Conv2d(6, 16, kernel_size=(3, 3), stride=(1, 1), padding=(1, 1))\n",
              "  (conv3): Conv2d(16, 30, kernel_size=(3, 3), stride=(1, 1), padding=(1, 1))\n",
              "  (fc1): Linear(in_features=480, out_features=120, bias=True)\n",
              "  (fc2): Linear(in_features=120, out_features=84, bias=True)\n",
              "  (fc3): Linear(in_features=84, out_features=32, bias=True)\n",
              "  (fc4): Linear(in_features=32, out_features=10, bias=True)\n",
              ")"
            ]
          },
          "metadata": {},
          "execution_count": 36
        }
      ]
    },
    {
      "cell_type": "code",
      "source": [
        "# input; (4 * 3 * 32 * 32)\n",
        "\n",
        "input = images.to(device)\n",
        "input.size()"
      ],
      "metadata": {
        "colab": {
          "base_uri": "https://localhost:8080/"
        },
        "id": "aC1MMHle3jid",
        "outputId": "5674ffab-5640-476d-b348-60076e7aa745"
      },
      "execution_count": 37,
      "outputs": [
        {
          "output_type": "execute_result",
          "data": {
            "text/plain": [
              "torch.Size([4, 3, 32, 32])"
            ]
          },
          "metadata": {},
          "execution_count": 37
        }
      ]
    },
    {
      "cell_type": "code",
      "source": [
        "# output; (4 * 10)\n",
        "\n",
        "output = myNet.forward(input)\n",
        "output.size()"
      ],
      "metadata": {
        "colab": {
          "base_uri": "https://localhost:8080/"
        },
        "id": "UYxJZCGo3uPZ",
        "outputId": "2d293525-478e-4770-ee11-f834a3b4833e"
      },
      "execution_count": 38,
      "outputs": [
        {
          "output_type": "execute_result",
          "data": {
            "text/plain": [
              "torch.Size([4, 10])"
            ]
          },
          "metadata": {},
          "execution_count": 38
        }
      ]
    },
    {
      "cell_type": "code",
      "source": [
        "# 모델 구조 확인\n",
        "\n",
        "summary(myNet, input_size=(3, 32, 32), batch_size=4)"
      ],
      "metadata": {
        "id": "OS6RZEuB3wwa",
        "colab": {
          "base_uri": "https://localhost:8080/"
        },
        "outputId": "7f1c8388-d45e-47e8-cb34-8b8c77cde234"
      },
      "execution_count": 39,
      "outputs": [
        {
          "output_type": "stream",
          "name": "stdout",
          "text": [
            "----------------------------------------------------------------\n",
            "        Layer (type)               Output Shape         Param #\n",
            "================================================================\n",
            "            Conv2d-1             [4, 6, 32, 32]             168\n",
            "            Conv2d-2            [4, 16, 16, 16]             880\n",
            "            Conv2d-3              [4, 30, 8, 8]           4,350\n",
            "            Linear-4                   [4, 120]          57,720\n",
            "            Linear-5                    [4, 84]          10,164\n",
            "            Linear-6                    [4, 32]           2,720\n",
            "            Linear-7                    [4, 10]             330\n",
            "================================================================\n",
            "Total params: 76,332\n",
            "Trainable params: 76,332\n",
            "Non-trainable params: 0\n",
            "----------------------------------------------------------------\n",
            "Input size (MB): 0.05\n",
            "Forward/backward pass size (MB): 0.38\n",
            "Params size (MB): 0.29\n",
            "Estimated Total Size (MB): 0.72\n",
            "----------------------------------------------------------------\n"
          ]
        }
      ]
    },
    {
      "cell_type": "markdown",
      "metadata": {
        "id": "gogmHThzPrjK"
      },
      "source": [
        "## 손실함수와 옵티마이저"
      ]
    },
    {
      "cell_type": "code",
      "metadata": {
        "id": "X5SzxufZPpel"
      },
      "source": [
        "criterion = nn.CrossEntropyLoss() # 다중분류; CrossEntropyLoss\n",
        "optimizer = optim.SGD(myNet.parameters(), lr=0.001, momentum=0.9)"
      ],
      "execution_count": 40,
      "outputs": []
    },
    {
      "cell_type": "markdown",
      "metadata": {
        "id": "_UnbIcKaPyQv"
      },
      "source": [
        "## 모델 학습"
      ]
    },
    {
      "cell_type": "code",
      "metadata": {
        "id": "jlWiR3LwPuwa",
        "colab": {
          "base_uri": "https://localhost:8080/"
        },
        "outputId": "2cf29ce2-22a7-4a50-841e-3d2b0854980c"
      },
      "source": [
        "# epochs = 10\n",
        "\n",
        "for epoch in range(10):\n",
        "    running_loss = 0.0\n",
        "\n",
        "    for i, data in enumerate(train_loader, 0):\n",
        "        inputs, labels = data[0].to(device), data[1].to(device)\n",
        "\n",
        "        optimizer.zero_grad() # epoch마다 gradient 0으로 초기화\n",
        "\n",
        "        outputs = myNet(inputs) # y_pred = f(X)\n",
        "        loss = criterion(outputs, labels) # CrossEntropyLoss; 0~1 사이값\n",
        "        loss.backward() # back-propagation; gradient 계산\n",
        "        optimizer.step() # parameters(weights) update\n",
        "\n",
        "        running_loss += loss.item()\n",
        "        if i % 2000 == 1999:\n",
        "            print(\"Epoch: {}, Batch: {}, Loss: {}\".format(epoch+1, i+1, running_loss/2000))\n",
        "            running_loss = 0.0"
      ],
      "execution_count": 41,
      "outputs": [
        {
          "output_type": "stream",
          "name": "stdout",
          "text": [
            "Epoch: 1, Batch: 2000, Loss: 2.3031192717552185\n",
            "Epoch: 1, Batch: 4000, Loss: 2.292927631855011\n",
            "Epoch: 1, Batch: 6000, Loss: 2.133474869132042\n",
            "Epoch: 1, Batch: 8000, Loss: 1.9546563893556594\n",
            "Epoch: 1, Batch: 10000, Loss: 1.794793516933918\n",
            "Epoch: 1, Batch: 12000, Loss: 1.6603962981104852\n",
            "Epoch: 2, Batch: 2000, Loss: 1.5591680586487056\n",
            "Epoch: 2, Batch: 4000, Loss: 1.497640087738633\n",
            "Epoch: 2, Batch: 6000, Loss: 1.4327477698475122\n",
            "Epoch: 2, Batch: 8000, Loss: 1.3944448901340365\n",
            "Epoch: 2, Batch: 10000, Loss: 1.3609137437865138\n",
            "Epoch: 2, Batch: 12000, Loss: 1.3457072374373675\n",
            "Epoch: 3, Batch: 2000, Loss: 1.262217989694327\n",
            "Epoch: 3, Batch: 4000, Loss: 1.2383271183893085\n",
            "Epoch: 3, Batch: 6000, Loss: 1.2416852928549051\n",
            "Epoch: 3, Batch: 8000, Loss: 1.2248633093200625\n",
            "Epoch: 3, Batch: 10000, Loss: 1.19502472903952\n",
            "Epoch: 3, Batch: 12000, Loss: 1.1625449885129928\n",
            "Epoch: 4, Batch: 2000, Loss: 1.11933505897969\n",
            "Epoch: 4, Batch: 4000, Loss: 1.1197073139585554\n",
            "Epoch: 4, Batch: 6000, Loss: 1.0993129881247878\n",
            "Epoch: 4, Batch: 8000, Loss: 1.085297877278179\n",
            "Epoch: 4, Batch: 10000, Loss: 1.0817413455955684\n",
            "Epoch: 4, Batch: 12000, Loss: 1.0605926915891468\n",
            "Epoch: 5, Batch: 2000, Loss: 1.0043270413987337\n",
            "Epoch: 5, Batch: 4000, Loss: 1.027765235921368\n",
            "Epoch: 5, Batch: 6000, Loss: 1.0222184299626387\n",
            "Epoch: 5, Batch: 8000, Loss: 1.001966337976046\n",
            "Epoch: 5, Batch: 10000, Loss: 0.982483506125398\n",
            "Epoch: 5, Batch: 12000, Loss: 1.0018982538520358\n",
            "Epoch: 6, Batch: 2000, Loss: 0.9510371369002387\n",
            "Epoch: 6, Batch: 4000, Loss: 0.953977215458639\n",
            "Epoch: 6, Batch: 6000, Loss: 0.9426197221484035\n",
            "Epoch: 6, Batch: 8000, Loss: 0.9609199168435298\n",
            "Epoch: 6, Batch: 10000, Loss: 0.9272248082901351\n",
            "Epoch: 6, Batch: 12000, Loss: 0.9400454615717754\n",
            "Epoch: 7, Batch: 2000, Loss: 0.8804490061262622\n",
            "Epoch: 7, Batch: 4000, Loss: 0.8969876401880756\n",
            "Epoch: 7, Batch: 6000, Loss: 0.8908056858219207\n",
            "Epoch: 7, Batch: 8000, Loss: 0.882947495028493\n",
            "Epoch: 7, Batch: 10000, Loss: 0.8986032534418628\n",
            "Epoch: 7, Batch: 12000, Loss: 0.8991180149158463\n",
            "Epoch: 8, Batch: 2000, Loss: 0.8077894885953283\n",
            "Epoch: 8, Batch: 4000, Loss: 0.8387171684606001\n",
            "Epoch: 8, Batch: 6000, Loss: 0.8250086119752378\n",
            "Epoch: 8, Batch: 8000, Loss: 0.8736505909757689\n",
            "Epoch: 8, Batch: 10000, Loss: 0.8529494140415919\n",
            "Epoch: 8, Batch: 12000, Loss: 0.8674228835406248\n",
            "Epoch: 9, Batch: 2000, Loss: 0.7644846801780223\n",
            "Epoch: 9, Batch: 4000, Loss: 0.7941261613927781\n",
            "Epoch: 9, Batch: 6000, Loss: 0.7956289557270356\n",
            "Epoch: 9, Batch: 8000, Loss: 0.8227542613593396\n",
            "Epoch: 9, Batch: 10000, Loss: 0.8321940000765026\n",
            "Epoch: 9, Batch: 12000, Loss: 0.8198280792937148\n",
            "Epoch: 10, Batch: 2000, Loss: 0.7493416647360427\n",
            "Epoch: 10, Batch: 4000, Loss: 0.7613682471437496\n",
            "Epoch: 10, Batch: 6000, Loss: 0.7749441637848504\n",
            "Epoch: 10, Batch: 8000, Loss: 0.7912984123912175\n",
            "Epoch: 10, Batch: 10000, Loss: 0.7923261192259379\n",
            "Epoch: 10, Batch: 12000, Loss: 0.7826725888862129\n"
          ]
        }
      ]
    },
    {
      "cell_type": "markdown",
      "metadata": {
        "id": "NqYnwxJ3P8Gb"
      },
      "source": [
        "## 모델의 저장 및 로드"
      ]
    },
    {
      "cell_type": "code",
      "metadata": {
        "id": "keqtypx1QY6t",
        "colab": {
          "base_uri": "https://localhost:8080/",
          "height": 153
        },
        "outputId": "29dd7b10-6101-4084-a7f4-5e9e5d2a171e"
      },
      "source": [
        "# 잘 학습된 모델인지 간단히 한 batch에 대해서 확인\n",
        "\n",
        "dataiter = iter(test_loader)\n",
        "images, labels = next(dataiter)\n",
        "\n",
        "imshow(torchvision.utils.make_grid(images))\n",
        "print(' '.join('\\t{}'.format(class_list[labels[j]]) for j in range(4))) # batch-size = 4"
      ],
      "execution_count": 42,
      "outputs": [
        {
          "output_type": "display_data",
          "data": {
            "text/plain": [
              "<Figure size 432x288 with 1 Axes>"
            ],
            "image/png": "[encoded data removed]"
          },
          "metadata": {}
        },
        {
          "output_type": "stream",
          "name": "stdout",
          "text": [
            "\tcat \tship \tship \tplane\n"
          ]
        }
      ]
    },
    {
      "cell_type": "code",
      "metadata": {
        "id": "z6UYtCT4P3Tj"
      },
      "source": [
        "# 저장\n",
        "\n",
        "PATH = './cifar_net.pth'\n",
        "torch.save(myNet.state_dict(), PATH)"
      ],
      "execution_count": 43,
      "outputs": []
    },
    {
      "cell_type": "code",
      "metadata": {
        "id": "FfsXzP9NQbMg",
        "colab": {
          "base_uri": "https://localhost:8080/"
        },
        "outputId": "876ca07d-6aa3-40b5-ed12-5f1b04a3b61f"
      },
      "source": [
        "# 불러오기\n",
        "\n",
        "Loaded_Net = Net().to(device)\n",
        "Loaded_Net.load_state_dict(torch.load(PATH))"
      ],
      "execution_count": 44,
      "outputs": [
        {
          "output_type": "execute_result",
          "data": {
            "text/plain": [
              "<All keys matched successfully>"
            ]
          },
          "metadata": {},
          "execution_count": 44
        }
      ]
    },
    {
      "cell_type": "markdown",
      "metadata": {
        "id": "1dvGiVkrQ2cf"
      },
      "source": [
        "## 모델 테스트\n",
        "* 조건\n",
        "> 전체 accuracy가 70% 이상이어야한다.<br>\n",
        "> 각각의 class에 대한 accuracy는 60% 이상이어야한다."
      ]
    },
    {
      "cell_type": "code",
      "metadata": {
        "id": "ajGFbhDvQtlp",
        "colab": {
          "base_uri": "https://localhost:8080/"
        },
        "outputId": "eb50472e-9966-42fa-c63f-ea386b5778d9"
      },
      "source": [
        "# 전체 accuracy 확인; 70% 이상 성능값\n",
        "\n",
        "correct = 0\n",
        "total = 0\n",
        "\n",
        "with torch.no_grad():\n",
        "    for data in test_loader:\n",
        "        images, labels = data[0].to(device), data[1].to(device)                                     \n",
        "        outputs = myNet(images)                                           \n",
        "        _, predicted = torch.max(outputs.data, axis=1)  # 확률이 가장 큰 것의 label을 최종 예측값으로 선택\n",
        "        total += labels.size(0) # 전체 갯수\n",
        "        correct += (predicted == labels).sum().item()   # 맞춘 갯수\n",
        "    \n",
        "    print(100 * correct / total)"
      ],
      "execution_count": 45,
      "outputs": [
        {
          "output_type": "stream",
          "name": "stdout",
          "text": [
            "66.91\n"
          ]
        }
      ]
    },
    {
      "cell_type": "markdown",
      "metadata": {
        "id": "trWVf5YvRYI0"
      },
      "source": [
        "- 어떤 것을 잘 분류했고, 잘 못했는지 확인"
      ]
    },
    {
      "cell_type": "code",
      "metadata": {
        "id": "P9p7QKhDQzpC",
        "colab": {
          "base_uri": "https://localhost:8080/"
        },
        "outputId": "4d7b4125-e858-419a-fd32-1e5869fce165"
      },
      "source": [
        "# 각각의 class에 대한 accuracy 확인; 각각의 class에 대한 60% 이상 성능값\n",
        "\n",
        "class_correct = list(0. for i in range(10))\n",
        "class_total = list(0. for i in range(10))\n",
        "\n",
        "with torch.no_grad():\n",
        "    for data in test_loader:\n",
        "        images, labels = data[0].to(device), data[1].to(device)\n",
        "        outputs = Loaded_Net(images)\n",
        "        _, predicted = torch.max(outputs.data, axis=1)\n",
        "        c = (predicted == labels).squeeze()\n",
        "        for i in range(4): # 각각의 batch(batch-size : 4) 마다 계싼\n",
        "            label = labels[i]\n",
        "            class_correct[label] += c[i].item()\n",
        "            class_total[label] += 1\n",
        "\n",
        "for i in range(10):\n",
        "    print(\"Accuracy of {}: {}%\".format(class_list[i], 100 * class_correct[i] / class_total[i]))"
      ],
      "execution_count": 46,
      "outputs": [
        {
          "output_type": "stream",
          "name": "stdout",
          "text": [
            "Accuracy of plane: 73.3%\n",
            "Accuracy of car: 76.5%\n",
            "Accuracy of bird: 50.7%\n",
            "Accuracy of cat: 52.5%\n",
            "Accuracy of deer: 65.0%\n",
            "Accuracy of dog: 52.9%\n",
            "Accuracy of frog: 72.3%\n",
            "Accuracy of horse: 73.0%\n",
            "Accuracy of ship: 73.0%\n",
            "Accuracy of truck: 79.9%\n"
          ]
        }
      ]
    }
  ]
}