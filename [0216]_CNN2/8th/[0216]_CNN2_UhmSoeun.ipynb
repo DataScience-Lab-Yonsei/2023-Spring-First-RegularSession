{
  "nbformat": 4,
  "nbformat_minor": 0,
  "metadata": {
    "colab": {
      "provenance": [],
      "collapsed_sections": [
        "cdNvme8aKSBP",
        "jqQF4qWUywYV",
        "wD3z029XPFK0",
        "a4HzFx19PNYv",
        "hZgB4eq0Pk6c",
        "gogmHThzPrjK",
        "_UnbIcKaPyQv",
        "NqYnwxJ3P8Gb",
        "1dvGiVkrQ2cf"
      ]
    },
    "kernelspec": {
      "name": "python3",
      "display_name": "Python 3"
    },
    "accelerator": "GPU",
    "gpuClass": "standard"
  },
  "cells": [
    {
      "cell_type": "markdown",
      "source": [
        "# 초기 세팅"
      ],
      "metadata": {
        "id": "cdNvme8aKSBP"
      }
    },
    {
      "cell_type": "code",
      "metadata": {
        "id": "P1v9luAfHXdz"
      },
      "source": [
        "import torch\n",
        "import torch.nn as nn\n",
        "import torch.nn.functional as F\n",
        "import torch.optim as optim\n",
        "from torch.utils.data import Dataset, DataLoader\n",
        "\n",
        "import torchvision\n",
        "import torchvision.datasets as datasets\n",
        "import torchvision.transforms as transforms\n",
        "\n",
        "import numpy as np\n",
        "import matplotlib.pyplot as plt\n",
        "plt.style.use('seaborn-white')"
      ],
      "execution_count": 2,
      "outputs": []
    },
    {
      "cell_type": "code",
      "source": [
        "!pip install torchsummary\n",
        "from torchsummary import summary"
      ],
      "metadata": {
        "colab": {
          "base_uri": "https://localhost:8080/"
        },
        "id": "D39aCPyTu2Ce",
        "outputId": "33b6f74e-b0ef-464f-ab55-73172ef6a57f"
      },
      "execution_count": 3,
      "outputs": [
        {
          "output_type": "stream",
          "name": "stdout",
          "text": [
            "Looking in indexes: https://pypi.org/simple, https://us-python.pkg.dev/colab-wheels/public/simple/\n",
            "Requirement already satisfied: torchsummary in /usr/local/lib/python3.8/dist-packages (1.5.1)\n"
          ]
        }
      ]
    },
    {
      "cell_type": "markdown",
      "metadata": {
        "id": "02LdHlTTSz5L"
      },
      "source": [
        "- 현재 GPU 설정"
      ]
    },
    {
      "cell_type": "code",
      "metadata": {
        "id": "Ybsjn80uSx3X",
        "colab": {
          "base_uri": "https://localhost:8080/"
        },
        "outputId": "d2c4fb3e-9cf2-4c91-8e07-ed6f6d69870d"
      },
      "source": [
        "# colab의 runtime-type을 GPU로 설정해서, True가 나오도록 한다.\n",
        "\n",
        "torch.cuda.is_available()"
      ],
      "execution_count": 4,
      "outputs": [
        {
          "output_type": "execute_result",
          "data": {
            "text/plain": [
              "True"
            ]
          },
          "metadata": {},
          "execution_count": 4
        }
      ]
    },
    {
      "cell_type": "code",
      "metadata": {
        "id": "HlPZI5wfDQhv",
        "colab": {
          "base_uri": "https://localhost:8080/",
          "height": 36
        },
        "outputId": "1c3fc403-6d70-4ace-d239-7fd4c1978dc4"
      },
      "source": [
        "device = ('cuda' if torch.cuda.is_available() else 'cpu' ) # gpu('cuda')가 사용가능하면, gpu를 이용하도록 설정\n",
        "device"
      ],
      "execution_count": 5,
      "outputs": [
        {
          "output_type": "execute_result",
          "data": {
            "text/plain": [
              "'cuda'"
            ],
            "application/vnd.google.colaboratory.intrinsic+json": {
              "type": "string"
            }
          },
          "metadata": {},
          "execution_count": 5
        }
      ]
    },
    {
      "cell_type": "markdown",
      "source": [
        "# CIFAR10 분류 모델\n",
        "* R/G/B(3) 이미지 데이터 분류\n",
        "* 32x32 pixel"
      ],
      "metadata": {
        "id": "jqQF4qWUywYV"
      }
    },
    {
      "cell_type": "markdown",
      "metadata": {
        "id": "wD3z029XPFK0"
      },
      "source": [
        "## 전처리 설정"
      ]
    },
    {
      "cell_type": "code",
      "metadata": {
        "id": "4u3-pXWIPCiM"
      },
      "source": [
        "# transform 정의\n",
        "\n",
        "CIFAR_transform = transforms.Compose([transforms.ToTensor(),\n",
        "                                      transforms.Normalize((0.5, 0.5, 0.5), (0.5, 0.5, 0.5))]) # r,g,b 데이터임으로, 3개의 인자값 전달"
      ],
      "execution_count": 6,
      "outputs": []
    },
    {
      "cell_type": "markdown",
      "metadata": {
        "id": "a4HzFx19PNYv"
      },
      "source": [
        "## 데이터 로드 및 확인"
      ]
    },
    {
      "cell_type": "code",
      "metadata": {
        "id": "ctstlIt_PM9z",
        "colab": {
          "base_uri": "https://localhost:8080/"
        },
        "outputId": "89c756c7-00a0-4b1c-bb57-daf51a7645b3"
      },
      "source": [
        "# datasets\n",
        "\n",
        "trainset = torchvision.datasets.CIFAR10(root='/content',\n",
        "                                 train=True, download=True,\n",
        "                                 transform=CIFAR_transform)\n",
        "\n",
        "testset = torchvision.datasets.CIFAR10(root='/content',\n",
        "                                 train=False, download=True,\n",
        "                                 transform=CIFAR_transform)"
      ],
      "execution_count": 7,
      "outputs": [
        {
          "output_type": "stream",
          "name": "stdout",
          "text": [
            "Files already downloaded and verified\n",
            "Files already downloaded and verified\n"
          ]
        }
      ]
    },
    {
      "cell_type": "code",
      "metadata": {
        "id": "wTkTcictPTyY"
      },
      "source": [
        "# DataLoader\n",
        "\n",
        "# batch-size = 4\n",
        "\n",
        "train_loader = DataLoader(trainset, batch_size = 4, shuffle = True, num_workers = 2)\n",
        "\n",
        "test_loader = DataLoader(testset, batch_size = 4, shuffle = True, num_workers = 2)"
      ],
      "execution_count": 8,
      "outputs": []
    },
    {
      "cell_type": "code",
      "source": [
        "# 숫자 label에 해당되는 값\n",
        "\n",
        "class_list = ('plane', 'car', 'bird', 'cat', 'deer',\n",
        "           'dog', 'frog', 'horse', 'ship', 'truck')"
      ],
      "metadata": {
        "id": "-lxqiKWGy-sP"
      },
      "execution_count": 9,
      "outputs": []
    },
    {
      "cell_type": "code",
      "metadata": {
        "id": "_6IsY5CrPZ5e",
        "colab": {
          "base_uri": "https://localhost:8080/",
          "height": 152
        },
        "outputId": "148088da-02b5-403e-c816-b8b8abe6e95e"
      },
      "source": [
        "def imshow(img):\n",
        "    img = img / 2 + 0.5\n",
        "    npimg = img.numpy()\n",
        "    plt.imshow(np.transpose(npimg, (1,2,0)))\n",
        "    plt.show()\n",
        "\n",
        "dataiter = iter(train_loader)\n",
        "images, labels = next(dataiter)\n",
        "\n",
        "imshow(torchvision.utils.make_grid(images))\n",
        "print(' '.join('{}\\t'.format(class_list[labels[j]]) for j in range(4)))"
      ],
      "execution_count": 10,
      "outputs": [
        {
          "output_type": "display_data",
          "data": {
            "text/plain": [
              "<Figure size 432x288 with 1 Axes>"
            ],
            "image/png": "[encoded data removed]"
          },
          "metadata": {}
        },
        {
          "output_type": "stream",
          "name": "stdout",
          "text": [
            "truck\t ship\t plane\t plane\t\n"
          ]
        }
      ]
    },
    {
      "cell_type": "markdown",
      "metadata": {
        "id": "hZgB4eq0Pk6c"
      },
      "source": [
        "## 모델 생성"
      ]
    },
    {
      "cell_type": "markdown",
      "source": [
        "* input size = 4 * 3 * 32 * 32\n",
        "* output size = 4 * 10\n",
        "* 모델 조건\n",
        "> * convolution-layer : 2개 이상 사용\n",
        "> * maxpooling-layer : 1개 이상 사용\n",
        "> * fc-layer : 2개 이상 사용\n",
        "> * activation-function 으로 'relu' 사용"
      ],
      "metadata": {
        "id": "aNeryJhl3GhR"
      }
    },
    {
      "cell_type": "code",
      "metadata": {
        "id": "E2OMzoFHPeFZ",
        "colab": {
          "base_uri": "https://localhost:8080/"
        },
        "outputId": "3909e76c-334c-4ced-c2d0-476af418d74c"
      },
      "source": [
        "from torch.nn.modules.batchnorm import BatchNorm2d\n",
        "class Net(nn.Module):\n",
        "    def __init__(self):\n",
        "      super(Net,self).__init__()\n",
        "\n",
        "      #input(3,32,32)\n",
        "      self.conv_layers = nn.Sequential(\n",
        "          nn.Conv2d(3,32,3,stride=1,padding=1),\n",
        "          nn.ReLU(),\n",
        "          nn.BatchNorm2d(32),\n",
        "\n",
        "          nn.Conv2d(32,32,3,stride=1,padding=1),\n",
        "          nn.ReLU(),\n",
        "          nn.BatchNorm2d(32),\n",
        "\n",
        "          nn.MaxPool2d(2),\n",
        "\n",
        "          nn.Conv2d(32,64,3,stride=1,padding=1),\n",
        "          nn.ReLU(),\n",
        "          nn.BatchNorm2d(64),\n",
        "\n",
        "          nn.MaxPool2d(2),\n",
        "\n",
        "          nn.Conv2d(64,128,3,stride=1,padding=1),\n",
        "          nn.ReLU(),\n",
        "          nn.BatchNorm2d(128),\n",
        "\n",
        "          nn.Conv2d(128,128,3,stride=1,padding=1),\n",
        "          nn.ReLU(),\n",
        "          nn.BatchNorm2d(128),\n",
        "\n",
        "          nn.MaxPool2d(2)\n",
        "      )\n",
        "\n",
        "      self.fc_layers = nn.Sequential(\n",
        "          nn.Linear(128*4*4,100),\n",
        "          nn.ReLU(),\n",
        "          nn.Linear(100,10)\n",
        "      )\n",
        "\n",
        "\n",
        "\n",
        "    def forward(self,x):\n",
        "      x = self.conv_layers(x)\n",
        "      x = x.view(x.size(0),-1)\n",
        "      x = self.fc_layers(x)\n",
        "\n",
        "      return x\n",
        "    \n",
        "    def num_flat_features(self, x): # 처음 dim-size을 제외하고, 모두 곱한 값을 반환해준다.\n",
        "        size = x.size()[1:]\n",
        "        num_features = 1\n",
        "        for s in size:\n",
        "            num_features *= s\n",
        "        \n",
        "        return num_features\n",
        "\n",
        "myNet = Net()\n",
        "print(myNet)"
      ],
      "execution_count": 11,
      "outputs": [
        {
          "output_type": "stream",
          "name": "stdout",
          "text": [
            "Net(\n",
            "  (conv_layers): Sequential(\n",
            "    (0): Conv2d(3, 32, kernel_size=(3, 3), stride=(1, 1), padding=(1, 1))\n",
            "    (1): ReLU()\n",
            "    (2): BatchNorm2d(32, eps=1e-05, momentum=0.1, affine=True, track_running_stats=True)\n",
            "    (3): Conv2d(32, 32, kernel_size=(3, 3), stride=(1, 1), padding=(1, 1))\n",
            "    (4): ReLU()\n",
            "    (5): BatchNorm2d(32, eps=1e-05, momentum=0.1, affine=True, track_running_stats=True)\n",
            "    (6): MaxPool2d(kernel_size=2, stride=2, padding=0, dilation=1, ceil_mode=False)\n",
            "    (7): Conv2d(32, 64, kernel_size=(3, 3), stride=(1, 1), padding=(1, 1))\n",
            "    (8): ReLU()\n",
            "    (9): BatchNorm2d(64, eps=1e-05, momentum=0.1, affine=True, track_running_stats=True)\n",
            "    (10): MaxPool2d(kernel_size=2, stride=2, padding=0, dilation=1, ceil_mode=False)\n",
            "    (11): Conv2d(64, 128, kernel_size=(3, 3), stride=(1, 1), padding=(1, 1))\n",
            "    (12): ReLU()\n",
            "    (13): BatchNorm2d(128, eps=1e-05, momentum=0.1, affine=True, track_running_stats=True)\n",
            "    (14): Conv2d(128, 128, kernel_size=(3, 3), stride=(1, 1), padding=(1, 1))\n",
            "    (15): ReLU()\n",
            "    (16): BatchNorm2d(128, eps=1e-05, momentum=0.1, affine=True, track_running_stats=True)\n",
            "    (17): MaxPool2d(kernel_size=2, stride=2, padding=0, dilation=1, ceil_mode=False)\n",
            "  )\n",
            "  (fc_layers): Sequential(\n",
            "    (0): Linear(in_features=2048, out_features=100, bias=True)\n",
            "    (1): ReLU()\n",
            "    (2): Linear(in_features=100, out_features=10, bias=True)\n",
            "  )\n",
            ")\n"
          ]
        }
      ]
    },
    {
      "cell_type": "code",
      "source": [
        "# 모델객체 생성\n",
        "myNet= Net().to(device)\n",
        "\n",
        "print(myNet)"
      ],
      "metadata": {
        "colab": {
          "base_uri": "https://localhost:8080/"
        },
        "id": "zR-M8adi8HFa",
        "outputId": "e6874d03-552a-42bf-f253-29ddf2fba5db"
      },
      "execution_count": 12,
      "outputs": [
        {
          "output_type": "stream",
          "name": "stdout",
          "text": [
            "Net(\n",
            "  (conv_layers): Sequential(\n",
            "    (0): Conv2d(3, 32, kernel_size=(3, 3), stride=(1, 1), padding=(1, 1))\n",
            "    (1): ReLU()\n",
            "    (2): BatchNorm2d(32, eps=1e-05, momentum=0.1, affine=True, track_running_stats=True)\n",
            "    (3): Conv2d(32, 32, kernel_size=(3, 3), stride=(1, 1), padding=(1, 1))\n",
            "    (4): ReLU()\n",
            "    (5): BatchNorm2d(32, eps=1e-05, momentum=0.1, affine=True, track_running_stats=True)\n",
            "    (6): MaxPool2d(kernel_size=2, stride=2, padding=0, dilation=1, ceil_mode=False)\n",
            "    (7): Conv2d(32, 64, kernel_size=(3, 3), stride=(1, 1), padding=(1, 1))\n",
            "    (8): ReLU()\n",
            "    (9): BatchNorm2d(64, eps=1e-05, momentum=0.1, affine=True, track_running_stats=True)\n",
            "    (10): MaxPool2d(kernel_size=2, stride=2, padding=0, dilation=1, ceil_mode=False)\n",
            "    (11): Conv2d(64, 128, kernel_size=(3, 3), stride=(1, 1), padding=(1, 1))\n",
            "    (12): ReLU()\n",
            "    (13): BatchNorm2d(128, eps=1e-05, momentum=0.1, affine=True, track_running_stats=True)\n",
            "    (14): Conv2d(128, 128, kernel_size=(3, 3), stride=(1, 1), padding=(1, 1))\n",
            "    (15): ReLU()\n",
            "    (16): BatchNorm2d(128, eps=1e-05, momentum=0.1, affine=True, track_running_stats=True)\n",
            "    (17): MaxPool2d(kernel_size=2, stride=2, padding=0, dilation=1, ceil_mode=False)\n",
            "  )\n",
            "  (fc_layers): Sequential(\n",
            "    (0): Linear(in_features=2048, out_features=100, bias=True)\n",
            "    (1): ReLU()\n",
            "    (2): Linear(in_features=100, out_features=10, bias=True)\n",
            "  )\n",
            ")\n"
          ]
        }
      ]
    },
    {
      "cell_type": "code",
      "source": [
        "# input; (4 * 3 * 32 * 32)\n",
        "\n",
        "input = images.to(device)\n",
        "input.size()"
      ],
      "metadata": {
        "colab": {
          "base_uri": "https://localhost:8080/"
        },
        "id": "aC1MMHle3jid",
        "outputId": "266a5013-eb78-4309-a592-14fe2dd83019"
      },
      "execution_count": 13,
      "outputs": [
        {
          "output_type": "execute_result",
          "data": {
            "text/plain": [
              "torch.Size([4, 3, 32, 32])"
            ]
          },
          "metadata": {},
          "execution_count": 13
        }
      ]
    },
    {
      "cell_type": "code",
      "source": [
        "# output; (4 * 10)\n",
        "\n",
        "output = myNet.forward(input)\n",
        "output.size()"
      ],
      "metadata": {
        "colab": {
          "base_uri": "https://localhost:8080/"
        },
        "id": "UYxJZCGo3uPZ",
        "outputId": "1394d043-d813-41da-fc26-a189b8711b82"
      },
      "execution_count": 14,
      "outputs": [
        {
          "output_type": "execute_result",
          "data": {
            "text/plain": [
              "torch.Size([4, 10])"
            ]
          },
          "metadata": {},
          "execution_count": 14
        }
      ]
    },
    {
      "cell_type": "code",
      "source": [
        "# 모델 구조 확인\n",
        "\n",
        "summary(myNet, input_size=(3,32,32), batch_size=4)"
      ],
      "metadata": {
        "id": "OS6RZEuB3wwa",
        "colab": {
          "base_uri": "https://localhost:8080/"
        },
        "outputId": "a5961a59-a51c-46f3-aad6-5d84e8e1edec"
      },
      "execution_count": 15,
      "outputs": [
        {
          "output_type": "stream",
          "name": "stdout",
          "text": [
            "----------------------------------------------------------------\n",
            "        Layer (type)               Output Shape         Param #\n",
            "================================================================\n",
            "            Conv2d-1            [4, 32, 32, 32]             896\n",
            "              ReLU-2            [4, 32, 32, 32]               0\n",
            "       BatchNorm2d-3            [4, 32, 32, 32]              64\n",
            "            Conv2d-4            [4, 32, 32, 32]           9,248\n",
            "              ReLU-5            [4, 32, 32, 32]               0\n",
            "       BatchNorm2d-6            [4, 32, 32, 32]              64\n",
            "         MaxPool2d-7            [4, 32, 16, 16]               0\n",
            "            Conv2d-8            [4, 64, 16, 16]          18,496\n",
            "              ReLU-9            [4, 64, 16, 16]               0\n",
            "      BatchNorm2d-10            [4, 64, 16, 16]             128\n",
            "        MaxPool2d-11              [4, 64, 8, 8]               0\n",
            "           Conv2d-12             [4, 128, 8, 8]          73,856\n",
            "             ReLU-13             [4, 128, 8, 8]               0\n",
            "      BatchNorm2d-14             [4, 128, 8, 8]             256\n",
            "           Conv2d-15             [4, 128, 8, 8]         147,584\n",
            "             ReLU-16             [4, 128, 8, 8]               0\n",
            "      BatchNorm2d-17             [4, 128, 8, 8]             256\n",
            "        MaxPool2d-18             [4, 128, 4, 4]               0\n",
            "           Linear-19                   [4, 100]         204,900\n",
            "             ReLU-20                   [4, 100]               0\n",
            "           Linear-21                    [4, 10]           1,010\n",
            "================================================================\n",
            "Total params: 456,758\n",
            "Trainable params: 456,758\n",
            "Non-trainable params: 0\n",
            "----------------------------------------------------------------\n",
            "Input size (MB): 0.05\n",
            "Forward/backward pass size (MB): 9.44\n",
            "Params size (MB): 1.74\n",
            "Estimated Total Size (MB): 11.23\n",
            "----------------------------------------------------------------\n"
          ]
        }
      ]
    },
    {
      "cell_type": "markdown",
      "metadata": {
        "id": "gogmHThzPrjK"
      },
      "source": [
        "## 손실함수와 옵티마이저"
      ]
    },
    {
      "cell_type": "code",
      "metadata": {
        "id": "X5SzxufZPpel"
      },
      "source": [
        "criterion =  nn.CrossEntropyLoss() # 다중분류; CrossEntropyLoss\n",
        "optimizer = optim.SGD(myNet.parameters(), lr=0.001, momentum=0.9)# SGD; lr=0.001 & momentum=0.9"
      ],
      "execution_count": 16,
      "outputs": []
    },
    {
      "cell_type": "markdown",
      "metadata": {
        "id": "_UnbIcKaPyQv"
      },
      "source": [
        "## 모델 학습"
      ]
    },
    {
      "cell_type": "code",
      "metadata": {
        "id": "jlWiR3LwPuwa",
        "colab": {
          "base_uri": "https://localhost:8080/"
        },
        "outputId": "9870c695-6710-42f5-e3f6-fb92ce48c918"
      },
      "source": [
        "# epochs = 10\n",
        "\n",
        "for epoch in range(30):\n",
        "    running_loss = 0.0\n",
        "\n",
        "    for i, data in enumerate(train_loader, 0):\n",
        "        inputs, labels = data[0].to(device), data[1].to(device)\n",
        "\n",
        "        optimizer.zero_grad()\n",
        "                                 \n",
        "\n",
        "        y_pred = myNet(inputs)            # y_pred\n",
        "        loss = criterion(y_pred,labels)             # 손실함수를 이용해서 loss계산\n",
        "        loss.backward()     # back-propagation\n",
        "        optimizer.step()                     # 가중치 업데이트\n",
        "\n",
        "        running_loss += loss.item()\n",
        "        if i % 2000 == 1999:\n",
        "            print(\"Epoch: {}, Batch: {}, Loss: {}\".format(epoch+1, i+1, running_loss/2000))\n",
        "            running_loss = 0.0"
      ],
      "execution_count": 17,
      "outputs": [
        {
          "output_type": "stream",
          "name": "stdout",
          "text": [
            "Epoch: 1, Batch: 2000, Loss: 1.6868296967893839\n",
            "Epoch: 1, Batch: 4000, Loss: 1.3820499818325043\n",
            "Epoch: 1, Batch: 6000, Loss: 1.2592878936324268\n",
            "Epoch: 1, Batch: 8000, Loss: 1.129715545637533\n",
            "Epoch: 1, Batch: 10000, Loss: 1.0907880577296019\n",
            "Epoch: 1, Batch: 12000, Loss: 0.999677986552706\n",
            "Epoch: 2, Batch: 2000, Loss: 0.8836010336373001\n",
            "Epoch: 2, Batch: 4000, Loss: 0.8610772880506702\n",
            "Epoch: 2, Batch: 6000, Loss: 0.86036480242759\n",
            "Epoch: 2, Batch: 8000, Loss: 0.8069556527596433\n",
            "Epoch: 2, Batch: 10000, Loss: 0.8026049978297669\n",
            "Epoch: 2, Batch: 12000, Loss: 0.79293528515246\n",
            "Epoch: 3, Batch: 2000, Loss: 0.6559820571867749\n",
            "Epoch: 3, Batch: 4000, Loss: 0.6667531281831689\n",
            "Epoch: 3, Batch: 6000, Loss: 0.678983497362191\n",
            "Epoch: 3, Batch: 8000, Loss: 0.6562245617950102\n",
            "Epoch: 3, Batch: 10000, Loss: 0.649819086891308\n",
            "Epoch: 3, Batch: 12000, Loss: 0.6530073505599284\n",
            "Epoch: 4, Batch: 2000, Loss: 0.5108897757035448\n",
            "Epoch: 4, Batch: 4000, Loss: 0.5597194232271868\n",
            "Epoch: 4, Batch: 6000, Loss: 0.523521609354997\n",
            "Epoch: 4, Batch: 8000, Loss: 0.530143177555572\n",
            "Epoch: 4, Batch: 10000, Loss: 0.5472242820123793\n",
            "Epoch: 4, Batch: 12000, Loss: 0.5583784063458334\n",
            "Epoch: 5, Batch: 2000, Loss: 0.39119727025481915\n",
            "Epoch: 5, Batch: 4000, Loss: 0.4217126066837372\n",
            "Epoch: 5, Batch: 6000, Loss: 0.4284427706503557\n",
            "Epoch: 5, Batch: 8000, Loss: 0.4446245535719208\n",
            "Epoch: 5, Batch: 10000, Loss: 0.45823544968379426\n",
            "Epoch: 5, Batch: 12000, Loss: 0.4603981518067085\n",
            "Epoch: 6, Batch: 2000, Loss: 0.30290369764081243\n",
            "Epoch: 6, Batch: 4000, Loss: 0.3441643658291314\n",
            "Epoch: 6, Batch: 6000, Loss: 0.3423449402401784\n",
            "Epoch: 6, Batch: 8000, Loss: 0.36528426533403396\n",
            "Epoch: 6, Batch: 10000, Loss: 0.384203106397159\n",
            "Epoch: 6, Batch: 12000, Loss: 0.3863210139710761\n",
            "Epoch: 7, Batch: 2000, Loss: 0.25109387853295934\n",
            "Epoch: 7, Batch: 4000, Loss: 0.26307452488997934\n",
            "Epoch: 7, Batch: 6000, Loss: 0.2821810709205381\n",
            "Epoch: 7, Batch: 8000, Loss: 0.28128317373146383\n",
            "Epoch: 7, Batch: 10000, Loss: 0.31445471819774595\n",
            "Epoch: 7, Batch: 12000, Loss: 0.3301016637635612\n",
            "Epoch: 8, Batch: 2000, Loss: 0.18377815435968364\n",
            "Epoch: 8, Batch: 4000, Loss: 0.20749789462897586\n",
            "Epoch: 8, Batch: 6000, Loss: 0.21842127837703196\n",
            "Epoch: 8, Batch: 8000, Loss: 0.254337423690482\n",
            "Epoch: 8, Batch: 10000, Loss: 0.24488533203637303\n",
            "Epoch: 8, Batch: 12000, Loss: 0.25265448220222203\n",
            "Epoch: 9, Batch: 2000, Loss: 0.1523099800650122\n",
            "Epoch: 9, Batch: 4000, Loss: 0.17134105939638997\n",
            "Epoch: 9, Batch: 6000, Loss: 0.17798609928074358\n",
            "Epoch: 9, Batch: 8000, Loss: 0.19066359133544278\n",
            "Epoch: 9, Batch: 10000, Loss: 0.2201636401037956\n",
            "Epoch: 9, Batch: 12000, Loss: 0.2227806682483814\n",
            "Epoch: 10, Batch: 2000, Loss: 0.11799502473836927\n",
            "Epoch: 10, Batch: 4000, Loss: 0.1507489765498318\n",
            "Epoch: 10, Batch: 6000, Loss: 0.1347141693405952\n",
            "Epoch: 10, Batch: 8000, Loss: 0.16060433040363234\n",
            "Epoch: 10, Batch: 10000, Loss: 0.15253861245401004\n",
            "Epoch: 10, Batch: 12000, Loss: 0.18416817621953327\n",
            "Epoch: 11, Batch: 2000, Loss: 0.11341514168191302\n",
            "Epoch: 11, Batch: 4000, Loss: 0.11103821850514269\n",
            "Epoch: 11, Batch: 6000, Loss: 0.12010662019074345\n",
            "Epoch: 11, Batch: 8000, Loss: 0.1334877955671179\n",
            "Epoch: 11, Batch: 10000, Loss: 0.1394271671187503\n",
            "Epoch: 11, Batch: 12000, Loss: 0.1550525172824289\n",
            "Epoch: 12, Batch: 2000, Loss: 0.10922740346475325\n",
            "Epoch: 12, Batch: 4000, Loss: 0.10401778480010676\n",
            "Epoch: 12, Batch: 6000, Loss: 0.10656222919568221\n",
            "Epoch: 12, Batch: 8000, Loss: 0.11443915306631924\n",
            "Epoch: 12, Batch: 10000, Loss: 0.11607177752338277\n",
            "Epoch: 12, Batch: 12000, Loss: 0.13892884868405111\n",
            "Epoch: 13, Batch: 2000, Loss: 0.07856615868603292\n",
            "Epoch: 13, Batch: 4000, Loss: 0.08960719511348075\n",
            "Epoch: 13, Batch: 6000, Loss: 0.09338099445194505\n",
            "Epoch: 13, Batch: 8000, Loss: 0.10807426936229982\n",
            "Epoch: 13, Batch: 10000, Loss: 0.11047201000339511\n",
            "Epoch: 13, Batch: 12000, Loss: 0.1041673622216084\n",
            "Epoch: 14, Batch: 2000, Loss: 0.0772635521392411\n",
            "Epoch: 14, Batch: 4000, Loss: 0.08024894494084817\n",
            "Epoch: 14, Batch: 6000, Loss: 0.08019885463855839\n",
            "Epoch: 14, Batch: 8000, Loss: 0.0787421050757433\n",
            "Epoch: 14, Batch: 10000, Loss: 0.09984946922643664\n",
            "Epoch: 14, Batch: 12000, Loss: 0.11139692263265218\n",
            "Epoch: 15, Batch: 2000, Loss: 0.05808465983481849\n",
            "Epoch: 15, Batch: 4000, Loss: 0.06813660293776803\n",
            "Epoch: 15, Batch: 6000, Loss: 0.06713155295816654\n",
            "Epoch: 15, Batch: 8000, Loss: 0.07309866197544454\n",
            "Epoch: 15, Batch: 10000, Loss: 0.07460454681554947\n",
            "Epoch: 15, Batch: 12000, Loss: 0.09352926468102661\n",
            "Epoch: 16, Batch: 2000, Loss: 0.05602068752204472\n",
            "Epoch: 16, Batch: 4000, Loss: 0.05643726649654822\n",
            "Epoch: 16, Batch: 6000, Loss: 0.06363422715333798\n",
            "Epoch: 16, Batch: 8000, Loss: 0.0661218163893004\n",
            "Epoch: 16, Batch: 10000, Loss: 0.06821115930227585\n",
            "Epoch: 16, Batch: 12000, Loss: 0.07076457674055273\n",
            "Epoch: 17, Batch: 2000, Loss: 0.05036680314550796\n",
            "Epoch: 17, Batch: 4000, Loss: 0.053355396297382854\n",
            "Epoch: 17, Batch: 6000, Loss: 0.057092217561545214\n",
            "Epoch: 17, Batch: 8000, Loss: 0.06538457158218415\n",
            "Epoch: 17, Batch: 10000, Loss: 0.06306972028538117\n",
            "Epoch: 17, Batch: 12000, Loss: 0.06134959604618752\n",
            "Epoch: 18, Batch: 2000, Loss: 0.04518096208674832\n",
            "Epoch: 18, Batch: 4000, Loss: 0.044837391116240397\n",
            "Epoch: 18, Batch: 6000, Loss: 0.05398474084308604\n",
            "Epoch: 18, Batch: 8000, Loss: 0.05245084158364437\n",
            "Epoch: 18, Batch: 10000, Loss: 0.060084523763238355\n",
            "Epoch: 18, Batch: 12000, Loss: 0.05279489172529447\n",
            "Epoch: 19, Batch: 2000, Loss: 0.0345752335678517\n",
            "Epoch: 19, Batch: 4000, Loss: 0.04403055777027829\n",
            "Epoch: 19, Batch: 6000, Loss: 0.04469103166679373\n",
            "Epoch: 19, Batch: 8000, Loss: 0.04288696973888989\n",
            "Epoch: 19, Batch: 10000, Loss: 0.05117511141244972\n",
            "Epoch: 19, Batch: 12000, Loss: 0.07253585391036134\n",
            "Epoch: 20, Batch: 2000, Loss: 0.04435827918698842\n",
            "Epoch: 20, Batch: 4000, Loss: 0.05513765685101178\n",
            "Epoch: 20, Batch: 6000, Loss: 0.0407736068383222\n",
            "Epoch: 20, Batch: 8000, Loss: 0.046584503710770886\n",
            "Epoch: 20, Batch: 10000, Loss: 0.05481815457997349\n",
            "Epoch: 20, Batch: 12000, Loss: 0.05896119874324238\n",
            "Epoch: 21, Batch: 2000, Loss: 0.035394413426160155\n",
            "Epoch: 21, Batch: 4000, Loss: 0.041553207202084906\n",
            "Epoch: 21, Batch: 6000, Loss: 0.041593177011986546\n",
            "Epoch: 21, Batch: 8000, Loss: 0.048361182881523544\n",
            "Epoch: 21, Batch: 10000, Loss: 0.04306372950238079\n",
            "Epoch: 21, Batch: 12000, Loss: 0.03993469943481668\n",
            "Epoch: 22, Batch: 2000, Loss: 0.02903340891749206\n",
            "Epoch: 22, Batch: 4000, Loss: 0.029658168155526684\n",
            "Epoch: 22, Batch: 6000, Loss: 0.03143265892695183\n",
            "Epoch: 22, Batch: 8000, Loss: 0.035965369428102745\n",
            "Epoch: 22, Batch: 10000, Loss: 0.04891038766027525\n",
            "Epoch: 22, Batch: 12000, Loss: 0.04869037010451561\n",
            "Epoch: 23, Batch: 2000, Loss: 0.03186898954206129\n",
            "Epoch: 23, Batch: 4000, Loss: 0.03280539227074405\n",
            "Epoch: 23, Batch: 6000, Loss: 0.038390929287514905\n",
            "Epoch: 23, Batch: 8000, Loss: 0.02696440593085813\n",
            "Epoch: 23, Batch: 10000, Loss: 0.03175182287815457\n",
            "Epoch: 23, Batch: 12000, Loss: 0.05035302527928742\n",
            "Epoch: 24, Batch: 2000, Loss: 0.04162704385071963\n",
            "Epoch: 24, Batch: 4000, Loss: 0.04531732189180177\n",
            "Epoch: 24, Batch: 6000, Loss: 0.04280731833775631\n",
            "Epoch: 24, Batch: 8000, Loss: 0.04385039747176187\n",
            "Epoch: 24, Batch: 10000, Loss: 0.041882839840256224\n",
            "Epoch: 24, Batch: 12000, Loss: 0.04768709689313226\n",
            "Epoch: 25, Batch: 2000, Loss: 0.030999854910668843\n",
            "Epoch: 25, Batch: 4000, Loss: 0.03189399344285407\n",
            "Epoch: 25, Batch: 6000, Loss: 0.02750714571573526\n",
            "Epoch: 25, Batch: 8000, Loss: 0.030441863752175634\n",
            "Epoch: 25, Batch: 10000, Loss: 0.034013113239324655\n",
            "Epoch: 25, Batch: 12000, Loss: 0.035667193129973226\n",
            "Epoch: 26, Batch: 2000, Loss: 0.019853704739557606\n",
            "Epoch: 26, Batch: 4000, Loss: 0.025287024178210535\n",
            "Epoch: 26, Batch: 6000, Loss: 0.031005651387765443\n",
            "Epoch: 26, Batch: 8000, Loss: 0.032538236537998234\n",
            "Epoch: 26, Batch: 10000, Loss: 0.03756881209158883\n",
            "Epoch: 26, Batch: 12000, Loss: 0.041745276466714526\n",
            "Epoch: 27, Batch: 2000, Loss: 0.021000968745393003\n",
            "Epoch: 27, Batch: 4000, Loss: 0.0171709220359928\n",
            "Epoch: 27, Batch: 6000, Loss: 0.025598243199430857\n",
            "Epoch: 27, Batch: 8000, Loss: 0.02624693499283735\n",
            "Epoch: 27, Batch: 10000, Loss: 0.02897142383390096\n",
            "Epoch: 27, Batch: 12000, Loss: 0.02599950418435126\n",
            "Epoch: 28, Batch: 2000, Loss: 0.018305688212801666\n",
            "Epoch: 28, Batch: 4000, Loss: 0.022219213816184073\n",
            "Epoch: 28, Batch: 6000, Loss: 0.02249437915495345\n",
            "Epoch: 28, Batch: 8000, Loss: 0.022228965322816305\n",
            "Epoch: 28, Batch: 10000, Loss: 0.02068549853967489\n",
            "Epoch: 28, Batch: 12000, Loss: 0.03411611617953061\n",
            "Epoch: 29, Batch: 2000, Loss: 0.019113793109780994\n",
            "Epoch: 29, Batch: 4000, Loss: 0.02812854571241213\n",
            "Epoch: 29, Batch: 6000, Loss: 0.033881957105319875\n",
            "Epoch: 29, Batch: 8000, Loss: 0.03056470021229429\n",
            "Epoch: 29, Batch: 10000, Loss: 0.030966733083854118\n",
            "Epoch: 29, Batch: 12000, Loss: 0.033845079705916006\n",
            "Epoch: 30, Batch: 2000, Loss: 0.01653167961247689\n",
            "Epoch: 30, Batch: 4000, Loss: 0.02554616980468811\n",
            "Epoch: 30, Batch: 6000, Loss: 0.02552771579132664\n",
            "Epoch: 30, Batch: 8000, Loss: 0.027426902335856807\n",
            "Epoch: 30, Batch: 10000, Loss: 0.028061152362204356\n",
            "Epoch: 30, Batch: 12000, Loss: 0.03527967581534377\n"
          ]
        }
      ]
    },
    {
      "cell_type": "markdown",
      "metadata": {
        "id": "NqYnwxJ3P8Gb"
      },
      "source": [
        "## 모델의 저장 및 로드"
      ]
    },
    {
      "cell_type": "code",
      "metadata": {
        "id": "keqtypx1QY6t",
        "colab": {
          "base_uri": "https://localhost:8080/",
          "height": 152
        },
        "outputId": "fdfc6243-b961-4e10-e458-8cf7b6763175"
      },
      "source": [
        "# 잘 학습된 모델인지 간단히 한 batch에 대해서 확인\n",
        "\n",
        "dataiter = iter(test_loader)\n",
        "images, labels = next(dataiter)\n",
        "\n",
        "imshow(torchvision.utils.make_grid(images))\n",
        "print(' '.join('\\t{}'.format(class_list[labels[j]]) for j in range(4))) # batch-size = 4"
      ],
      "execution_count": 18,
      "outputs": [
        {
          "output_type": "display_data",
          "data": {
            "text/plain": [
              "<Figure size 432x288 with 1 Axes>"
            ],
            "image/png": "[encoded data removed]"
          },
          "metadata": {}
        },
        {
          "output_type": "stream",
          "name": "stdout",
          "text": [
            "\tplane \tfrog \tcar \tfrog\n"
          ]
        }
      ]
    },
    {
      "cell_type": "code",
      "metadata": {
        "id": "z6UYtCT4P3Tj"
      },
      "source": [
        "# 저장\n",
        "\n",
        "PATH = './cifar_net.pth'\n",
        "torch.save(myNet.state_dict(), PATH)"
      ],
      "execution_count": 19,
      "outputs": []
    },
    {
      "cell_type": "code",
      "metadata": {
        "id": "FfsXzP9NQbMg",
        "colab": {
          "base_uri": "https://localhost:8080/"
        },
        "outputId": "bb42699a-76b3-4200-9ad0-ed013108af91"
      },
      "source": [
        "# 불러오기\n",
        "\n",
        "Loaded_Net = Net().to(device)\n",
        "Loaded_Net.load_state_dict(torch.load(PATH))"
      ],
      "execution_count": 20,
      "outputs": [
        {
          "output_type": "execute_result",
          "data": {
            "text/plain": [
              "<All keys matched successfully>"
            ]
          },
          "metadata": {},
          "execution_count": 20
        }
      ]
    },
    {
      "cell_type": "markdown",
      "metadata": {
        "id": "1dvGiVkrQ2cf"
      },
      "source": [
        "## 모델 테스트\n",
        "* 조건\n",
        "> 전체 accuracy가 70% 이상이어야한다.<br>\n",
        "> 각각의 class에 대한 accuracy는 60% 이상이어야한다."
      ]
    },
    {
      "cell_type": "code",
      "metadata": {
        "id": "ajGFbhDvQtlp",
        "colab": {
          "base_uri": "https://localhost:8080/"
        },
        "outputId": "ba12a451-31ab-4037-a1e1-a78ab06157ea"
      },
      "source": [
        "# 전체 accuracy 확인; 70% 이상 성능값\n",
        "\n",
        "correct = 0\n",
        "total = 0\n",
        "\n",
        "with torch.no_grad():\n",
        "    for data in test_loader:\n",
        "        images, labels = data[0].to(device), data[1].to(device)            # model객체도 gpu에 저장했음으로, 사용되는 데이터도 gpu에 저장한다.; to(device) 사용\n",
        "        outputs = myNet(images)                                            # y_pred\n",
        "        _, predicted = torch.max(outputs.data, axis=1)  # 확률이 가장 큰 것의 label을 최종 예측값으로 선택\n",
        "        total += labels.size(0) # 전체 갯수\n",
        "        correct += (predicted == labels).sum().item()   # 맞춘 갯수\n",
        "    \n",
        "    print(100 * correct / total)"
      ],
      "execution_count": 21,
      "outputs": [
        {
          "output_type": "stream",
          "name": "stdout",
          "text": [
            "79.52\n"
          ]
        }
      ]
    },
    {
      "cell_type": "markdown",
      "metadata": {
        "id": "trWVf5YvRYI0"
      },
      "source": [
        "- 어떤 것을 잘 분류했고, 잘 못했는지 확인"
      ]
    },
    {
      "cell_type": "code",
      "metadata": {
        "id": "P9p7QKhDQzpC",
        "colab": {
          "base_uri": "https://localhost:8080/"
        },
        "outputId": "b7aa19f6-a1c5-44d6-8313-9c3d1dce180a"
      },
      "source": [
        "# 각각의 class에 대한 accuracy 확인; 각각의 class에 대한 60% 이상 성능값\n",
        "\n",
        "class_correct = list(0. for i in range(10))\n",
        "class_total = list(0. for i in range(10))\n",
        "\n",
        "with torch.no_grad():\n",
        "    for data in test_loader:\n",
        "        images, labels = data[0].to(device), data[1].to(device)\n",
        "        outputs = Loaded_Net(images)\n",
        "        _, predicted = torch.max(outputs.data, axis=1)\n",
        "        c = (predicted == labels).squeeze()\n",
        "        for i in range(4): # 각각의 batch(batch-size : 4) 마다 계싼\n",
        "            label = labels[i]\n",
        "            class_correct[label] += c[i].item()\n",
        "            class_total[label] += 1\n",
        "\n",
        "for i in range(10):\n",
        "    print(\"Accuracy of {}: {}%\".format(class_list[i], 100 * class_correct[i] / class_total[i]))"
      ],
      "execution_count": 22,
      "outputs": [
        {
          "output_type": "stream",
          "name": "stdout",
          "text": [
            "Accuracy of plane: 82.9%\n",
            "Accuracy of car: 91.0%\n",
            "Accuracy of bird: 74.7%\n",
            "Accuracy of cat: 59.1%\n",
            "Accuracy of deer: 80.8%\n",
            "Accuracy of dog: 67.8%\n",
            "Accuracy of frog: 85.0%\n",
            "Accuracy of horse: 79.2%\n",
            "Accuracy of ship: 86.2%\n",
            "Accuracy of truck: 87.7%\n"
          ]
        }
      ]
    }
  ]
}