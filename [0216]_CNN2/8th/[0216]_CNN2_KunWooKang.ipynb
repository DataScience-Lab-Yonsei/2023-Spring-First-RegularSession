{
  "nbformat": 4,
  "nbformat_minor": 0,
  "metadata": {
    "colab": {
      "provenance": []
    },
    "kernelspec": {
      "name": "python3",
      "display_name": "Python 3"
    },
    "accelerator": "GPU",
    "gpuClass": "standard",
    "widgets": {
      "application/vnd.jupyter.widget-state+json": {
        "016e8b10b84a4fc494fb42770337816f": {
          "model_module": "@jupyter-widgets/controls",
          "model_name": "HBoxModel",
          "model_module_version": "1.5.0",
          "state": {
            "_dom_classes": [],
            "_model_module": "@jupyter-widgets/controls",
            "_model_module_version": "1.5.0",
            "_model_name": "HBoxModel",
            "_view_count": null,
            "_view_module": "@jupyter-widgets/controls",
            "_view_module_version": "1.5.0",
            "_view_name": "HBoxView",
            "box_style": "",
            "children": [
              "IPY_MODEL_84a3554802644dc280b7f53c602198a2",
              "IPY_MODEL_642d52056e30497bbc5d361ca7535a0d",
              "IPY_MODEL_3f793ae0158945199a8894f9b6c9ac89"
            ],
            "layout": "IPY_MODEL_f3c97c24f03a43a5923e1ddc4f67cc20"
          }
        },
        "84a3554802644dc280b7f53c602198a2": {
          "model_module": "@jupyter-widgets/controls",
          "model_name": "HTMLModel",
          "model_module_version": "1.5.0",
          "state": {
            "_dom_classes": [],
            "_model_module": "@jupyter-widgets/controls",
            "_model_module_version": "1.5.0",
            "_model_name": "HTMLModel",
            "_view_count": null,
            "_view_module": "@jupyter-widgets/controls",
            "_view_module_version": "1.5.0",
            "_view_name": "HTMLView",
            "description": "",
            "description_tooltip": null,
            "layout": "IPY_MODEL_8eb02d3ede45414e9bc35b10e8cfe2d3",
            "placeholder": "​",
            "style": "IPY_MODEL_08286b36c5464dfda2dd01d835ae1fba",
            "value": "100%"
          }
        },
        "642d52056e30497bbc5d361ca7535a0d": {
          "model_module": "@jupyter-widgets/controls",
          "model_name": "FloatProgressModel",
          "model_module_version": "1.5.0",
          "state": {
            "_dom_classes": [],
            "_model_module": "@jupyter-widgets/controls",
            "_model_module_version": "1.5.0",
            "_model_name": "FloatProgressModel",
            "_view_count": null,
            "_view_module": "@jupyter-widgets/controls",
            "_view_module_version": "1.5.0",
            "_view_name": "ProgressView",
            "bar_style": "success",
            "description": "",
            "description_tooltip": null,
            "layout": "IPY_MODEL_7c315afc50cd4522ae1913f64dbbf41c",
            "max": 170498071,
            "min": 0,
            "orientation": "horizontal",
            "style": "IPY_MODEL_cbd5010e39e54fe98801b045e795afac",
            "value": 170498071
          }
        },
        "3f793ae0158945199a8894f9b6c9ac89": {
          "model_module": "@jupyter-widgets/controls",
          "model_name": "HTMLModel",
          "model_module_version": "1.5.0",
          "state": {
            "_dom_classes": [],
            "_model_module": "@jupyter-widgets/controls",
            "_model_module_version": "1.5.0",
            "_model_name": "HTMLModel",
            "_view_count": null,
            "_view_module": "@jupyter-widgets/controls",
            "_view_module_version": "1.5.0",
            "_view_name": "HTMLView",
            "description": "",
            "description_tooltip": null,
            "layout": "IPY_MODEL_037e24a7f5394b66acdd5388c33203a3",
            "placeholder": "​",
            "style": "IPY_MODEL_ef0ecc08dda3403bb5e2c676b98b5b92",
            "value": " 170498071/170498071 [00:05&lt;00:00, 32273146.05it/s]"
          }
        },
        "f3c97c24f03a43a5923e1ddc4f67cc20": {
          "model_module": "@jupyter-widgets/base",
          "model_name": "LayoutModel",
          "model_module_version": "1.2.0",
          "state": {
            "_model_module": "@jupyter-widgets/base",
            "_model_module_version": "1.2.0",
            "_model_name": "LayoutModel",
            "_view_count": null,
            "_view_module": "@jupyter-widgets/base",
            "_view_module_version": "1.2.0",
            "_view_name": "LayoutView",
            "align_content": null,
            "align_items": null,
            "align_self": null,
            "border": null,
            "bottom": null,
            "display": null,
            "flex": null,
            "flex_flow": null,
            "grid_area": null,
            "grid_auto_columns": null,
            "grid_auto_flow": null,
            "grid_auto_rows": null,
            "grid_column": null,
            "grid_gap": null,
            "grid_row": null,
            "grid_template_areas": null,
            "grid_template_columns": null,
            "grid_template_rows": null,
            "height": null,
            "justify_content": null,
            "justify_items": null,
            "left": null,
            "margin": null,
            "max_height": null,
            "max_width": null,
            "min_height": null,
            "min_width": null,
            "object_fit": null,
            "object_position": null,
            "order": null,
            "overflow": null,
            "overflow_x": null,
            "overflow_y": null,
            "padding": null,
            "right": null,
            "top": null,
            "visibility": null,
            "width": null
          }
        },
        "8eb02d3ede45414e9bc35b10e8cfe2d3": {
          "model_module": "@jupyter-widgets/base",
          "model_name": "LayoutModel",
          "model_module_version": "1.2.0",
          "state": {
            "_model_module": "@jupyter-widgets/base",
            "_model_module_version": "1.2.0",
            "_model_name": "LayoutModel",
            "_view_count": null,
            "_view_module": "@jupyter-widgets/base",
            "_view_module_version": "1.2.0",
            "_view_name": "LayoutView",
            "align_content": null,
            "align_items": null,
            "align_self": null,
            "border": null,
            "bottom": null,
            "display": null,
            "flex": null,
            "flex_flow": null,
            "grid_area": null,
            "grid_auto_columns": null,
            "grid_auto_flow": null,
            "grid_auto_rows": null,
            "grid_column": null,
            "grid_gap": null,
            "grid_row": null,
            "grid_template_areas": null,
            "grid_template_columns": null,
            "grid_template_rows": null,
            "height": null,
            "justify_content": null,
            "justify_items": null,
            "left": null,
            "margin": null,
            "max_height": null,
            "max_width": null,
            "min_height": null,
            "min_width": null,
            "object_fit": null,
            "object_position": null,
            "order": null,
            "overflow": null,
            "overflow_x": null,
            "overflow_y": null,
            "padding": null,
            "right": null,
            "top": null,
            "visibility": null,
            "width": null
          }
        },
        "08286b36c5464dfda2dd01d835ae1fba": {
          "model_module": "@jupyter-widgets/controls",
          "model_name": "DescriptionStyleModel",
          "model_module_version": "1.5.0",
          "state": {
            "_model_module": "@jupyter-widgets/controls",
            "_model_module_version": "1.5.0",
            "_model_name": "DescriptionStyleModel",
            "_view_count": null,
            "_view_module": "@jupyter-widgets/base",
            "_view_module_version": "1.2.0",
            "_view_name": "StyleView",
            "description_width": ""
          }
        },
        "7c315afc50cd4522ae1913f64dbbf41c": {
          "model_module": "@jupyter-widgets/base",
          "model_name": "LayoutModel",
          "model_module_version": "1.2.0",
          "state": {
            "_model_module": "@jupyter-widgets/base",
            "_model_module_version": "1.2.0",
            "_model_name": "LayoutModel",
            "_view_count": null,
            "_view_module": "@jupyter-widgets/base",
            "_view_module_version": "1.2.0",
            "_view_name": "LayoutView",
            "align_content": null,
            "align_items": null,
            "align_self": null,
            "border": null,
            "bottom": null,
            "display": null,
            "flex": null,
            "flex_flow": null,
            "grid_area": null,
            "grid_auto_columns": null,
            "grid_auto_flow": null,
            "grid_auto_rows": null,
            "grid_column": null,
            "grid_gap": null,
            "grid_row": null,
            "grid_template_areas": null,
            "grid_template_columns": null,
            "grid_template_rows": null,
            "height": null,
            "justify_content": null,
            "justify_items": null,
            "left": null,
            "margin": null,
            "max_height": null,
            "max_width": null,
            "min_height": null,
            "min_width": null,
            "object_fit": null,
            "object_position": null,
            "order": null,
            "overflow": null,
            "overflow_x": null,
            "overflow_y": null,
            "padding": null,
            "right": null,
            "top": null,
            "visibility": null,
            "width": null
          }
        },
        "cbd5010e39e54fe98801b045e795afac": {
          "model_module": "@jupyter-widgets/controls",
          "model_name": "ProgressStyleModel",
          "model_module_version": "1.5.0",
          "state": {
            "_model_module": "@jupyter-widgets/controls",
            "_model_module_version": "1.5.0",
            "_model_name": "ProgressStyleModel",
            "_view_count": null,
            "_view_module": "@jupyter-widgets/base",
            "_view_module_version": "1.2.0",
            "_view_name": "StyleView",
            "bar_color": null,
            "description_width": ""
          }
        },
        "037e24a7f5394b66acdd5388c33203a3": {
          "model_module": "@jupyter-widgets/base",
          "model_name": "LayoutModel",
          "model_module_version": "1.2.0",
          "state": {
            "_model_module": "@jupyter-widgets/base",
            "_model_module_version": "1.2.0",
            "_model_name": "LayoutModel",
            "_view_count": null,
            "_view_module": "@jupyter-widgets/base",
            "_view_module_version": "1.2.0",
            "_view_name": "LayoutView",
            "align_content": null,
            "align_items": null,
            "align_self": null,
            "border": null,
            "bottom": null,
            "display": null,
            "flex": null,
            "flex_flow": null,
            "grid_area": null,
            "grid_auto_columns": null,
            "grid_auto_flow": null,
            "grid_auto_rows": null,
            "grid_column": null,
            "grid_gap": null,
            "grid_row": null,
            "grid_template_areas": null,
            "grid_template_columns": null,
            "grid_template_rows": null,
            "height": null,
            "justify_content": null,
            "justify_items": null,
            "left": null,
            "margin": null,
            "max_height": null,
            "max_width": null,
            "min_height": null,
            "min_width": null,
            "object_fit": null,
            "object_position": null,
            "order": null,
            "overflow": null,
            "overflow_x": null,
            "overflow_y": null,
            "padding": null,
            "right": null,
            "top": null,
            "visibility": null,
            "width": null
          }
        },
        "ef0ecc08dda3403bb5e2c676b98b5b92": {
          "model_module": "@jupyter-widgets/controls",
          "model_name": "DescriptionStyleModel",
          "model_module_version": "1.5.0",
          "state": {
            "_model_module": "@jupyter-widgets/controls",
            "_model_module_version": "1.5.0",
            "_model_name": "DescriptionStyleModel",
            "_view_count": null,
            "_view_module": "@jupyter-widgets/base",
            "_view_module_version": "1.2.0",
            "_view_name": "StyleView",
            "description_width": ""
          }
        }
      }
    }
  },
  "cells": [
    {
      "cell_type": "markdown",
      "source": [
        "# 초기 세팅"
      ],
      "metadata": {
        "id": "cdNvme8aKSBP"
      }
    },
    {
      "cell_type": "code",
      "metadata": {
        "id": "P1v9luAfHXdz"
      },
      "source": [
        "import torch\n",
        "import torch.nn as nn\n",
        "import torch.nn.functional as F\n",
        "import torch.optim as optim\n",
        "from torch.utils.data import Dataset, DataLoader\n",
        "\n",
        "import torchvision\n",
        "import torchvision.datasets as datasets\n",
        "import torchvision.transforms as transforms\n",
        "\n",
        "import numpy as np\n",
        "import matplotlib.pyplot as plt\n",
        "plt.style.use('seaborn-white')"
      ],
      "execution_count": 1,
      "outputs": []
    },
    {
      "cell_type": "code",
      "source": [
        "!pip install torchsummary\n",
        "from torchsummary import summary"
      ],
      "metadata": {
        "colab": {
          "base_uri": "https://localhost:8080/"
        },
        "id": "D39aCPyTu2Ce",
        "outputId": "618056e0-8c07-42e5-ed13-1457474937c5"
      },
      "execution_count": 2,
      "outputs": [
        {
          "output_type": "stream",
          "name": "stdout",
          "text": [
            "Looking in indexes: https://pypi.org/simple, https://us-python.pkg.dev/colab-wheels/public/simple/\n",
            "Requirement already satisfied: torchsummary in /usr/local/lib/python3.8/dist-packages (1.5.1)\n"
          ]
        }
      ]
    },
    {
      "cell_type": "markdown",
      "metadata": {
        "id": "02LdHlTTSz5L"
      },
      "source": [
        "- 현재 GPU 설정"
      ]
    },
    {
      "cell_type": "code",
      "metadata": {
        "id": "Ybsjn80uSx3X",
        "colab": {
          "base_uri": "https://localhost:8080/"
        },
        "outputId": "9f18d5d9-1f06-47fc-c646-324ea6100231"
      },
      "source": [
        "# colab의 runtime-type을 GPU로 설정해서, True가 나오도록 한다.\n",
        "\n",
        "#...현재 colab의 사용량 제한으로 인해 gpu 연결이 불가능 하다고 나옵니다.... ㅠ\n",
        "\n",
        "torch.cuda.is_available()"
      ],
      "execution_count": 3,
      "outputs": [
        {
          "output_type": "execute_result",
          "data": {
            "text/plain": [
              "True"
            ]
          },
          "metadata": {},
          "execution_count": 3
        }
      ]
    },
    {
      "cell_type": "code",
      "metadata": {
        "id": "HlPZI5wfDQhv",
        "colab": {
          "base_uri": "https://localhost:8080/"
        },
        "outputId": "7d211643-dd49-414b-ccab-c9af5c7f07a9"
      },
      "source": [
        "device = torch.device('cuda' if torch.cuda.is_available() else 'cpu')\n",
        "device"
      ],
      "execution_count": 4,
      "outputs": [
        {
          "output_type": "execute_result",
          "data": {
            "text/plain": [
              "device(type='cuda')"
            ]
          },
          "metadata": {},
          "execution_count": 4
        }
      ]
    },
    {
      "cell_type": "markdown",
      "source": [
        "# CIFAR10 분류 모델\n",
        "* R/G/B(3) 이미지 데이터 분류\n",
        "* 32x32 pixel"
      ],
      "metadata": {
        "id": "jqQF4qWUywYV"
      }
    },
    {
      "cell_type": "markdown",
      "metadata": {
        "id": "wD3z029XPFK0"
      },
      "source": [
        "## 전처리 설정"
      ]
    },
    {
      "cell_type": "code",
      "metadata": {
        "id": "4u3-pXWIPCiM"
      },
      "source": [
        "# transform 정의\n",
        "\n",
        "CIFAR_transform = transforms.Compose([transforms.ToTensor(), # tensor로 펴준다.\n",
        "                              \n",
        "\n",
        "\n",
        "                                      transforms.Normalize((0.5, 0.5, 0.5), (0.5, 0.5, 0.5))]) # r,g,b 데이터임으로, 3개의 인자값 전달"
      ],
      "execution_count": 5,
      "outputs": []
    },
    {
      "cell_type": "markdown",
      "metadata": {
        "id": "a4HzFx19PNYv"
      },
      "source": [
        "## 데이터 로드 및 확인"
      ]
    },
    {
      "cell_type": "code",
      "metadata": {
        "id": "ctstlIt_PM9z",
        "colab": {
          "base_uri": "https://localhost:8080/",
          "height": 104,
          "referenced_widgets": [
            "016e8b10b84a4fc494fb42770337816f",
            "84a3554802644dc280b7f53c602198a2",
            "642d52056e30497bbc5d361ca7535a0d",
            "3f793ae0158945199a8894f9b6c9ac89",
            "f3c97c24f03a43a5923e1ddc4f67cc20",
            "8eb02d3ede45414e9bc35b10e8cfe2d3",
            "08286b36c5464dfda2dd01d835ae1fba",
            "7c315afc50cd4522ae1913f64dbbf41c",
            "cbd5010e39e54fe98801b045e795afac",
            "037e24a7f5394b66acdd5388c33203a3",
            "ef0ecc08dda3403bb5e2c676b98b5b92"
          ]
        },
        "outputId": "660db877-3ee6-4c84-f6c1-3ae9fab39fb5"
      },
      "source": [
        "# datasets\n",
        "\n",
        "trainset = torchvision.datasets.CIFAR10(root='/content',\n",
        "                                 train=True, download=True,\n",
        "                                 transform=CIFAR_transform)\n",
        "\n",
        "testset = torchvision.datasets.CIFAR10(root='/content',\n",
        "                                 train=False, download=True,\n",
        "                                 transform=CIFAR_transform)"
      ],
      "execution_count": 6,
      "outputs": [
        {
          "output_type": "stream",
          "name": "stdout",
          "text": [
            "Downloading https://www.cs.toronto.edu/~kriz/cifar-10-python.tar.gz to /content/cifar-10-python.tar.gz\n"
          ]
        },
        {
          "output_type": "display_data",
          "data": {
            "text/plain": [
              "  0%|          | 0/170498071 [00:00<?, ?it/s]"
            ],
            "application/vnd.jupyter.widget-view+json": {
              "version_major": 2,
              "version_minor": 0,
              "model_id": "016e8b10b84a4fc494fb42770337816f"
            }
          },
          "metadata": {}
        },
        {
          "output_type": "stream",
          "name": "stdout",
          "text": [
            "Extracting /content/cifar-10-python.tar.gz to /content\n",
            "Files already downloaded and verified\n"
          ]
        }
      ]
    },
    {
      "cell_type": "code",
      "metadata": {
        "id": "wTkTcictPTyY"
      },
      "source": [
        "# DataLoader\n",
        "\n",
        "# batch-size = 4\n",
        "\n",
        "train_loader =  DataLoader(trainset, batch_size=4, shuffle=True, num_workers=2)\n",
        "test_loader =  DataLoader(testset, batch_size=4, shuffle=False, num_workers=2)"
      ],
      "execution_count": 7,
      "outputs": []
    },
    {
      "cell_type": "code",
      "source": [
        "# 숫자 label에 해당되는 값\n",
        "\n",
        "class_list = ('plane', 'car', 'bird', 'cat', 'deer',\n",
        "           'dog', 'frog', 'horse', 'ship', 'truck')"
      ],
      "metadata": {
        "id": "-lxqiKWGy-sP"
      },
      "execution_count": 8,
      "outputs": []
    },
    {
      "cell_type": "code",
      "metadata": {
        "id": "_6IsY5CrPZ5e",
        "colab": {
          "base_uri": "https://localhost:8080/",
          "height": 153
        },
        "outputId": "12bb48bd-3b1e-4852-a9bc-4c4e8a7cdaf3"
      },
      "source": [
        "def imshow(img):\n",
        "    img = img / 2 + 0.5\n",
        "    npimg = img.numpy()\n",
        "    plt.imshow(np.transpose(npimg, (1,2,0)))\n",
        "    plt.show()\n",
        "\n",
        "dataiter = iter(train_loader)\n",
        "images, labels = next(dataiter)\n",
        "\n",
        "imshow(torchvision.utils.make_grid(images))\n",
        "print(' '.join('{}\\t'.format(class_list[labels[j]]) for j in range(4)))"
      ],
      "execution_count": 9,
      "outputs": [
        {
          "output_type": "display_data",
          "data": {
            "text/plain": [
              "<Figure size 432x288 with 1 Axes>"
            ],
            "image/png": "[encoded data removed]"
          },
          "metadata": {}
        },
        {
          "output_type": "stream",
          "name": "stdout",
          "text": [
            "car\t car\t car\t dog\t\n"
          ]
        }
      ]
    },
    {
      "cell_type": "markdown",
      "metadata": {
        "id": "hZgB4eq0Pk6c"
      },
      "source": [
        "## 모델 생성"
      ]
    },
    {
      "cell_type": "markdown",
      "source": [
        "* input size = 4 * 3 * 32 * 32\n",
        "* output size = 4 * 10\n",
        "* 모델 조건\n",
        "> * convolution-layer : 2개 이상 사용\n",
        "> * maxpooling-layer : 1개 이상 사용\n",
        "> * fc-layer : 2개 이상 사용\n",
        "> * activation-function 으로 'relu' 사용"
      ],
      "metadata": {
        "id": "aNeryJhl3GhR"
      }
    },
    {
      "cell_type": "code",
      "metadata": {
        "id": "E2OMzoFHPeFZ"
      },
      "source": [
        "from re import X\n",
        "class Net(nn.Module):\n",
        "     def __init__(self):\n",
        "        super(Net, self).__init__()\n",
        "        \n",
        "        self.conv1 = nn.Conv2d(in_channels=3, out_channels=6, kernel_size=3, stride=1, padding=1)\n",
        "        self.bn1 = nn.BatchNorm2d(6)\n",
        "        self.conv2 = nn.Conv2d(6, 12, 3, stride = 1, padding = 1)\n",
        "        self.bn2 = nn.BatchNorm2d(12)\n",
        "        self.conv3 = nn.Conv2d(12,24,3, stride=1, padding=1)\n",
        "        self.bn3 = nn.BatchNorm2d(24)\n",
        "        self.maxpool1 = nn.MaxPool2d(2)\n",
        "        #16\n",
        "        self.conv4 = nn.Conv2d(24,48,3, stride=1, padding=1)\n",
        "        self.bn4 = nn.BatchNorm2d(48)\n",
        "        self.conv5 = nn.Conv2d(48,96,3, stride=1, padding=1)\n",
        "        self.bn5 = nn.BatchNorm2d(96)\n",
        "        self.maxpool2 = nn.MaxPool2d(2)\n",
        "        #8\n",
        "        self.conv6= nn.Conv2d(96,48, 3, stride=1, padding=1)\n",
        "        self.bn6 = nn.BatchNorm2d(48)\n",
        "        self.conv7= nn.Conv2d(48, 24, 3, stride=1, padding=1)\n",
        "        self.bn7 = nn.BatchNorm2d(24)\n",
        "        self.maxpool3 = nn.MaxPool2d(2,2)\n",
        "        #4\n",
        "        self.conv8= nn.Conv2d(24,48,3, stride=1, padding=1)\n",
        "        self.bn8 = nn.BatchNorm2d(48)\n",
        "        self.conv9= nn.Conv2d(48,96,3, stride=1, padding=1)\n",
        "        self.bn9 = nn.BatchNorm2d(96)\n",
        "        self.conv10= nn.Conv2d(96,192,3, stride=1, padding=1)\n",
        "        self.bn10 = nn.BatchNorm2d(192)\n",
        "        self.maxpool4 = nn.MaxPool2d(2,2)\n",
        "        #2\n",
        "        self.fc1 = nn.Linear(192 * 2 * 2, 230)\n",
        "        self.fc2 = nn.Linear(230, 115)\n",
        "        self.dropout1 = nn.Dropout2d(p=0.5, inplace=False)\n",
        "        self.fc3 = nn.Linear(115, 10)\n",
        "       \n",
        "      \n",
        "     def forward(self, x):\n",
        "       \n",
        "        x = F.relu(self.bn1(self.conv1(x)))\n",
        "        x = F.relu(self.bn2(self.conv2(x)))\n",
        "        x = F.relu(self.bn3(self.conv3(x)))\n",
        "        x = self.maxpool1(x)\n",
        "        x = F.relu(self.bn4(self.conv4(x)))\n",
        "        x = F.relu(self.bn5(self.conv5(x)))\n",
        "        x = self.maxpool2(x)\n",
        "        x = F.relu(self.bn6(self.conv6(x)))\n",
        "        x = F.relu(self.bn7(self.conv7(x)))\n",
        "        x = self.maxpool3(x)\n",
        "        x = F.relu(self.bn8(self.conv8(x)))\n",
        "        x = F.relu(self.bn9(self.conv9(x)))\n",
        "        x = F.relu(self.bn10(self.conv10(x)))\n",
        "        x = self.maxpool4(x)\n",
        "       \n",
        "        x = x.view(-1, self.num_flat_features(x)) # num_flat_features : 아래에서 정의\n",
        "     \n",
        "        x = F.relu(self.fc1(x))\n",
        "        x = F.relu(self.fc2(x))\n",
        "        x = self.dropout1(x)\n",
        "        x = self.fc3(x)\n",
        "       \n",
        "\n",
        "        return x\n",
        "    \n",
        "     def num_flat_features(self, x): # 처음 dim-size을 제외하고, 모두 곱한 값을 반환해준다.\n",
        "        size = x.size()[1:]\n",
        "        num_features = 1\n",
        "        for s in size:\n",
        "            num_features *= s\n",
        "        \n",
        "        return num_features\n",
        "\n",
        "net = Net()\n"
      ],
      "execution_count": 10,
      "outputs": []
    },
    {
      "cell_type": "code",
      "source": [
        "myNet = Net().to(device) # gpu에 모델 저장\n",
        "myNet"
      ],
      "metadata": {
        "id": "P5ZAjWK03iQ_",
        "colab": {
          "base_uri": "https://localhost:8080/"
        },
        "outputId": "a285d2ea-4316-4c14-85f4-a6292e65f590"
      },
      "execution_count": 11,
      "outputs": [
        {
          "output_type": "execute_result",
          "data": {
            "text/plain": [
              "Net(\n",
              "  (conv1): Conv2d(3, 6, kernel_size=(3, 3), stride=(1, 1), padding=(1, 1))\n",
              "  (bn1): BatchNorm2d(6, eps=1e-05, momentum=0.1, affine=True, track_running_stats=True)\n",
              "  (conv2): Conv2d(6, 12, kernel_size=(3, 3), stride=(1, 1), padding=(1, 1))\n",
              "  (bn2): BatchNorm2d(12, eps=1e-05, momentum=0.1, affine=True, track_running_stats=True)\n",
              "  (conv3): Conv2d(12, 24, kernel_size=(3, 3), stride=(1, 1), padding=(1, 1))\n",
              "  (bn3): BatchNorm2d(24, eps=1e-05, momentum=0.1, affine=True, track_running_stats=True)\n",
              "  (maxpool1): MaxPool2d(kernel_size=2, stride=2, padding=0, dilation=1, ceil_mode=False)\n",
              "  (conv4): Conv2d(24, 48, kernel_size=(3, 3), stride=(1, 1), padding=(1, 1))\n",
              "  (bn4): BatchNorm2d(48, eps=1e-05, momentum=0.1, affine=True, track_running_stats=True)\n",
              "  (conv5): Conv2d(48, 96, kernel_size=(3, 3), stride=(1, 1), padding=(1, 1))\n",
              "  (bn5): BatchNorm2d(96, eps=1e-05, momentum=0.1, affine=True, track_running_stats=True)\n",
              "  (maxpool2): MaxPool2d(kernel_size=2, stride=2, padding=0, dilation=1, ceil_mode=False)\n",
              "  (conv6): Conv2d(96, 48, kernel_size=(3, 3), stride=(1, 1), padding=(1, 1))\n",
              "  (bn6): BatchNorm2d(48, eps=1e-05, momentum=0.1, affine=True, track_running_stats=True)\n",
              "  (conv7): Conv2d(48, 24, kernel_size=(3, 3), stride=(1, 1), padding=(1, 1))\n",
              "  (bn7): BatchNorm2d(24, eps=1e-05, momentum=0.1, affine=True, track_running_stats=True)\n",
              "  (maxpool3): MaxPool2d(kernel_size=2, stride=2, padding=0, dilation=1, ceil_mode=False)\n",
              "  (conv8): Conv2d(24, 48, kernel_size=(3, 3), stride=(1, 1), padding=(1, 1))\n",
              "  (bn8): BatchNorm2d(48, eps=1e-05, momentum=0.1, affine=True, track_running_stats=True)\n",
              "  (conv9): Conv2d(48, 96, kernel_size=(3, 3), stride=(1, 1), padding=(1, 1))\n",
              "  (bn9): BatchNorm2d(96, eps=1e-05, momentum=0.1, affine=True, track_running_stats=True)\n",
              "  (conv10): Conv2d(96, 192, kernel_size=(3, 3), stride=(1, 1), padding=(1, 1))\n",
              "  (bn10): BatchNorm2d(192, eps=1e-05, momentum=0.1, affine=True, track_running_stats=True)\n",
              "  (maxpool4): MaxPool2d(kernel_size=2, stride=2, padding=0, dilation=1, ceil_mode=False)\n",
              "  (fc1): Linear(in_features=768, out_features=230, bias=True)\n",
              "  (fc2): Linear(in_features=230, out_features=115, bias=True)\n",
              "  (dropout1): Dropout2d(p=0.5, inplace=False)\n",
              "  (fc3): Linear(in_features=115, out_features=10, bias=True)\n",
              ")"
            ]
          },
          "metadata": {},
          "execution_count": 11
        }
      ]
    },
    {
      "cell_type": "code",
      "source": [
        "# input; (4 * 3 * 32 * 32)\n",
        "\n",
        "input = images.to(device)\n",
        "input.size()"
      ],
      "metadata": {
        "colab": {
          "base_uri": "https://localhost:8080/"
        },
        "id": "aC1MMHle3jid",
        "outputId": "3b2db80d-0936-4435-c3b9-8ee361b03583"
      },
      "execution_count": 12,
      "outputs": [
        {
          "output_type": "execute_result",
          "data": {
            "text/plain": [
              "torch.Size([4, 3, 32, 32])"
            ]
          },
          "metadata": {},
          "execution_count": 12
        }
      ]
    },
    {
      "cell_type": "code",
      "source": [
        "#output; (4 * 10)\n",
        "\n",
        "output = myNet.forward(input)\n",
        "output.size()"
      ],
      "metadata": {
        "colab": {
          "base_uri": "https://localhost:8080/"
        },
        "id": "UYxJZCGo3uPZ",
        "outputId": "24538d80-a5c2-4f84-c231-e83ca78c5210"
      },
      "execution_count": 13,
      "outputs": [
        {
          "output_type": "stream",
          "name": "stderr",
          "text": [
            "/usr/local/lib/python3.8/dist-packages/torch/nn/functional.py:1331: UserWarning: dropout2d: Received a 2-D input to dropout2d, which is deprecated and will result in an error in a future release. To retain the behavior and silence this warning, please use dropout instead. Note that dropout2d exists to provide channel-wise dropout on inputs with 2 spatial dimensions, a channel dimension, and an optional batch dimension (i.e. 3D or 4D inputs).\n",
            "  warnings.warn(warn_msg)\n"
          ]
        },
        {
          "output_type": "execute_result",
          "data": {
            "text/plain": [
              "torch.Size([4, 10])"
            ]
          },
          "metadata": {},
          "execution_count": 13
        }
      ]
    },
    {
      "cell_type": "code",
      "source": [
        "# 모델 구조 확인\n",
        "\n",
        "summary(myNet, input_size=(3,32,32), batch_size=4)"
      ],
      "metadata": {
        "id": "OS6RZEuB3wwa",
        "colab": {
          "base_uri": "https://localhost:8080/"
        },
        "outputId": "ed1b49c6-a785-41e8-9233-5989f6e0f614"
      },
      "execution_count": 14,
      "outputs": [
        {
          "output_type": "stream",
          "name": "stdout",
          "text": [
            "----------------------------------------------------------------\n",
            "        Layer (type)               Output Shape         Param #\n",
            "================================================================\n",
            "            Conv2d-1             [4, 6, 32, 32]             168\n",
            "       BatchNorm2d-2             [4, 6, 32, 32]              12\n",
            "            Conv2d-3            [4, 12, 32, 32]             660\n",
            "       BatchNorm2d-4            [4, 12, 32, 32]              24\n",
            "            Conv2d-5            [4, 24, 32, 32]           2,616\n",
            "       BatchNorm2d-6            [4, 24, 32, 32]              48\n",
            "         MaxPool2d-7            [4, 24, 16, 16]               0\n",
            "            Conv2d-8            [4, 48, 16, 16]          10,416\n",
            "       BatchNorm2d-9            [4, 48, 16, 16]              96\n",
            "           Conv2d-10            [4, 96, 16, 16]          41,568\n",
            "      BatchNorm2d-11            [4, 96, 16, 16]             192\n",
            "        MaxPool2d-12              [4, 96, 8, 8]               0\n",
            "           Conv2d-13              [4, 48, 8, 8]          41,520\n",
            "      BatchNorm2d-14              [4, 48, 8, 8]              96\n",
            "           Conv2d-15              [4, 24, 8, 8]          10,392\n",
            "      BatchNorm2d-16              [4, 24, 8, 8]              48\n",
            "        MaxPool2d-17              [4, 24, 4, 4]               0\n",
            "           Conv2d-18              [4, 48, 4, 4]          10,416\n",
            "      BatchNorm2d-19              [4, 48, 4, 4]              96\n",
            "           Conv2d-20              [4, 96, 4, 4]          41,568\n",
            "      BatchNorm2d-21              [4, 96, 4, 4]             192\n",
            "           Conv2d-22             [4, 192, 4, 4]         166,080\n",
            "      BatchNorm2d-23             [4, 192, 4, 4]             384\n",
            "        MaxPool2d-24             [4, 192, 2, 2]               0\n",
            "           Linear-25                   [4, 230]         176,870\n",
            "           Linear-26                   [4, 115]          26,565\n",
            "        Dropout2d-27                   [4, 115]               0\n",
            "           Linear-28                    [4, 10]           1,160\n",
            "================================================================\n",
            "Total params: 531,187\n",
            "Trainable params: 531,187\n",
            "Non-trainable params: 0\n",
            "----------------------------------------------------------------\n",
            "Input size (MB): 0.05\n",
            "Forward/backward pass size (MB): 5.91\n",
            "Params size (MB): 2.03\n",
            "Estimated Total Size (MB): 7.98\n",
            "----------------------------------------------------------------\n"
          ]
        }
      ]
    },
    {
      "cell_type": "markdown",
      "metadata": {
        "id": "gogmHThzPrjK"
      },
      "source": [
        "## 손실함수와 옵티마이저"
      ]
    },
    {
      "cell_type": "code",
      "metadata": {
        "id": "X5SzxufZPpel"
      },
      "source": [
        "criterion = nn.CrossEntropyLoss()\n",
        "\n",
        "optimizer = optim.SGD(myNet.parameters(), lr=0.001, momentum=0.9)"
      ],
      "execution_count": 15,
      "outputs": []
    },
    {
      "cell_type": "markdown",
      "metadata": {
        "id": "_UnbIcKaPyQv"
      },
      "source": [
        "## 모델 학습"
      ]
    },
    {
      "cell_type": "code",
      "metadata": {
        "id": "jlWiR3LwPuwa",
        "colab": {
          "base_uri": "https://localhost:8080/"
        },
        "outputId": "900ced24-fbb8-4b93-e5a4-c1bb84cee341"
      },
      "source": [
        "# epochs = 20\n",
        "\n",
        "for epoch in range(20):\n",
        "    running_loss = 0.0\n",
        "\n",
        "    for i, data in enumerate(train_loader, start= 0):\n",
        "        inputs, labels = data[0].to(device), data[1].to(device)\n",
        "\n",
        "        optimizer.zero_grad()                            # 가중치 초기화\n",
        "\n",
        "        outputs = myNet(inputs)                          # y_pred\n",
        "        loss = criterion(outputs, labels)                           # 손실함수를 이용해서 loss계산\n",
        "        loss.backward()                           # back-propagation\n",
        "        optimizer.step()                          # 가중치 업데이트\n",
        "\n",
        "        running_loss += loss.item()\n",
        "        if i % 2000 == 1999:\n",
        "            print(\"Epoch: {}, Batch: {}, Loss: {}\".format(epoch+1, i+1, running_loss/2000))\n",
        "            running_loss = 0.0"
      ],
      "execution_count": 16,
      "outputs": [
        {
          "output_type": "stream",
          "name": "stdout",
          "text": [
            "Epoch: 1, Batch: 2000, Loss: 2.0215257987082005\n",
            "Epoch: 1, Batch: 4000, Loss: 1.7724230817556381\n",
            "Epoch: 1, Batch: 6000, Loss: 1.5990177331119775\n",
            "Epoch: 1, Batch: 8000, Loss: 1.4755794483572244\n",
            "Epoch: 1, Batch: 10000, Loss: 1.4140097985714675\n",
            "Epoch: 1, Batch: 12000, Loss: 1.3006333419606089\n",
            "Epoch: 2, Batch: 2000, Loss: 1.2184122495702467\n",
            "Epoch: 2, Batch: 4000, Loss: 1.161942129294388\n",
            "Epoch: 2, Batch: 6000, Loss: 1.133296302743256\n",
            "Epoch: 2, Batch: 8000, Loss: 1.1121061574947089\n",
            "Epoch: 2, Batch: 10000, Loss: 1.0624382329322397\n",
            "Epoch: 2, Batch: 12000, Loss: 1.048385901235044\n",
            "Epoch: 3, Batch: 2000, Loss: 0.9774634083472192\n",
            "Epoch: 3, Batch: 4000, Loss: 0.9564923711526208\n",
            "Epoch: 3, Batch: 6000, Loss: 0.9342814836697653\n",
            "Epoch: 3, Batch: 8000, Loss: 0.9227521100465674\n",
            "Epoch: 3, Batch: 10000, Loss: 0.8979896354451775\n",
            "Epoch: 3, Batch: 12000, Loss: 0.915853270758409\n",
            "Epoch: 4, Batch: 2000, Loss: 0.832104793306964\n",
            "Epoch: 4, Batch: 4000, Loss: 0.8418639266896062\n",
            "Epoch: 4, Batch: 6000, Loss: 0.8353431360844988\n",
            "Epoch: 4, Batch: 8000, Loss: 0.8215573336671805\n",
            "Epoch: 4, Batch: 10000, Loss: 0.8070428547556512\n",
            "Epoch: 4, Batch: 12000, Loss: 0.8124498245348223\n",
            "Epoch: 5, Batch: 2000, Loss: 0.7556143712860066\n",
            "Epoch: 5, Batch: 4000, Loss: 0.7404582486292347\n",
            "Epoch: 5, Batch: 6000, Loss: 0.7492267192881554\n",
            "Epoch: 5, Batch: 8000, Loss: 0.7496682541570626\n",
            "Epoch: 5, Batch: 10000, Loss: 0.7265261467831442\n",
            "Epoch: 5, Batch: 12000, Loss: 0.752934061734646\n",
            "Epoch: 6, Batch: 2000, Loss: 0.6549191046935448\n",
            "Epoch: 6, Batch: 4000, Loss: 0.6845505472436199\n",
            "Epoch: 6, Batch: 6000, Loss: 0.7019370370830292\n",
            "Epoch: 6, Batch: 8000, Loss: 0.6717502310344716\n",
            "Epoch: 6, Batch: 10000, Loss: 0.6825840651206673\n",
            "Epoch: 6, Batch: 12000, Loss: 0.6879710247133044\n",
            "Epoch: 7, Batch: 2000, Loss: 0.604676141383883\n",
            "Epoch: 7, Batch: 4000, Loss: 0.6161722663883847\n",
            "Epoch: 7, Batch: 6000, Loss: 0.6291884196030151\n",
            "Epoch: 7, Batch: 8000, Loss: 0.6322136864947387\n",
            "Epoch: 7, Batch: 10000, Loss: 0.6278949484084151\n",
            "Epoch: 7, Batch: 12000, Loss: 0.6215933113737847\n",
            "Epoch: 8, Batch: 2000, Loss: 0.5594150803020166\n",
            "Epoch: 8, Batch: 4000, Loss: 0.5647378667079028\n",
            "Epoch: 8, Batch: 6000, Loss: 0.5827006518865965\n",
            "Epoch: 8, Batch: 8000, Loss: 0.550996775641137\n",
            "Epoch: 8, Batch: 10000, Loss: 0.5814175094279926\n",
            "Epoch: 8, Batch: 12000, Loss: 0.5654042084114044\n",
            "Epoch: 9, Batch: 2000, Loss: 0.5241741706917019\n",
            "Epoch: 9, Batch: 4000, Loss: 0.506121898350073\n",
            "Epoch: 9, Batch: 6000, Loss: 0.5235133488883075\n",
            "Epoch: 9, Batch: 8000, Loss: 0.5212571696597442\n",
            "Epoch: 9, Batch: 10000, Loss: 0.5445951140622638\n",
            "Epoch: 9, Batch: 12000, Loss: 0.5507033700577012\n",
            "Epoch: 10, Batch: 2000, Loss: 0.4488156487918677\n",
            "Epoch: 10, Batch: 4000, Loss: 0.4837707367752118\n",
            "Epoch: 10, Batch: 6000, Loss: 0.47868398376506593\n",
            "Epoch: 10, Batch: 8000, Loss: 0.5065928757339497\n",
            "Epoch: 10, Batch: 10000, Loss: 0.4858805330191099\n",
            "Epoch: 10, Batch: 12000, Loss: 0.5052252685064014\n",
            "Epoch: 11, Batch: 2000, Loss: 0.4324648458055308\n",
            "Epoch: 11, Batch: 4000, Loss: 0.4349202464064874\n",
            "Epoch: 11, Batch: 6000, Loss: 0.45304316835145436\n",
            "Epoch: 11, Batch: 8000, Loss: 0.45660330798337234\n",
            "Epoch: 11, Batch: 10000, Loss: 0.45657973230379867\n",
            "Epoch: 11, Batch: 12000, Loss: 0.46690316909056856\n",
            "Epoch: 12, Batch: 2000, Loss: 0.41061730315169187\n",
            "Epoch: 12, Batch: 4000, Loss: 0.4067433925553305\n",
            "Epoch: 12, Batch: 6000, Loss: 0.41264202712019005\n",
            "Epoch: 12, Batch: 8000, Loss: 0.4316619750061618\n",
            "Epoch: 12, Batch: 10000, Loss: 0.43239357893989655\n",
            "Epoch: 12, Batch: 12000, Loss: 0.4280977269176519\n",
            "Epoch: 13, Batch: 2000, Loss: 0.3614463560450299\n",
            "Epoch: 13, Batch: 4000, Loss: 0.3755270761058373\n",
            "Epoch: 13, Batch: 6000, Loss: 0.3894015133697381\n",
            "Epoch: 13, Batch: 8000, Loss: 0.3935259748228473\n",
            "Epoch: 13, Batch: 10000, Loss: 0.40347288090203076\n",
            "Epoch: 13, Batch: 12000, Loss: 0.4124433397441808\n",
            "Epoch: 14, Batch: 2000, Loss: 0.34250978146722694\n",
            "Epoch: 14, Batch: 4000, Loss: 0.34838548287462345\n",
            "Epoch: 14, Batch: 6000, Loss: 0.357447335707343\n",
            "Epoch: 14, Batch: 8000, Loss: 0.3774274496289181\n",
            "Epoch: 14, Batch: 10000, Loss: 0.3637719593105339\n",
            "Epoch: 14, Batch: 12000, Loss: 0.3835050204762847\n",
            "Epoch: 15, Batch: 2000, Loss: 0.32034047415760003\n",
            "Epoch: 15, Batch: 4000, Loss: 0.32331464244430774\n",
            "Epoch: 15, Batch: 6000, Loss: 0.33054924875062974\n",
            "Epoch: 15, Batch: 8000, Loss: 0.3437977877100095\n",
            "Epoch: 15, Batch: 10000, Loss: 0.34807424106413964\n",
            "Epoch: 15, Batch: 12000, Loss: 0.3644381507243811\n",
            "Epoch: 16, Batch: 2000, Loss: 0.29511994943725484\n",
            "Epoch: 16, Batch: 4000, Loss: 0.2970549348264044\n",
            "Epoch: 16, Batch: 6000, Loss: 0.3327119359508835\n",
            "Epoch: 16, Batch: 8000, Loss: 0.32149648785833235\n",
            "Epoch: 16, Batch: 10000, Loss: 0.32328303954303\n",
            "Epoch: 16, Batch: 12000, Loss: 0.3069430306425657\n",
            "Epoch: 17, Batch: 2000, Loss: 0.26961682567514617\n",
            "Epoch: 17, Batch: 4000, Loss: 0.2921809553845146\n",
            "Epoch: 17, Batch: 6000, Loss: 0.2793569459557016\n",
            "Epoch: 17, Batch: 8000, Loss: 0.315574422431391\n",
            "Epoch: 17, Batch: 10000, Loss: 0.3150674060573491\n",
            "Epoch: 17, Batch: 12000, Loss: 0.2963394798450226\n",
            "Epoch: 18, Batch: 2000, Loss: 0.24336263508566533\n",
            "Epoch: 18, Batch: 4000, Loss: 0.24456995976849094\n",
            "Epoch: 18, Batch: 6000, Loss: 0.27910795437257\n",
            "Epoch: 18, Batch: 8000, Loss: 0.26677211857072236\n",
            "Epoch: 18, Batch: 10000, Loss: 0.2894080304337933\n",
            "Epoch: 18, Batch: 12000, Loss: 0.30303162436098136\n",
            "Epoch: 19, Batch: 2000, Loss: 0.211254699660117\n",
            "Epoch: 19, Batch: 4000, Loss: 0.23638585241935442\n",
            "Epoch: 19, Batch: 6000, Loss: 0.2555347891316699\n",
            "Epoch: 19, Batch: 8000, Loss: 0.26391466068221126\n",
            "Epoch: 19, Batch: 10000, Loss: 0.26344417975011364\n",
            "Epoch: 19, Batch: 12000, Loss: 0.26937576999815155\n",
            "Epoch: 20, Batch: 2000, Loss: 0.2117817560879819\n",
            "Epoch: 20, Batch: 4000, Loss: 0.23062227981023956\n",
            "Epoch: 20, Batch: 6000, Loss: 0.2332774107999628\n",
            "Epoch: 20, Batch: 8000, Loss: 0.23889532088818316\n",
            "Epoch: 20, Batch: 10000, Loss: 0.2554340875858754\n",
            "Epoch: 20, Batch: 12000, Loss: 0.23612169701514762\n"
          ]
        }
      ]
    },
    {
      "cell_type": "markdown",
      "metadata": {
        "id": "NqYnwxJ3P8Gb"
      },
      "source": [
        "## 모델의 저장 및 로드"
      ]
    },
    {
      "cell_type": "code",
      "metadata": {
        "id": "keqtypx1QY6t",
        "colab": {
          "base_uri": "https://localhost:8080/",
          "height": 153
        },
        "outputId": "91180a9e-3902-4056-bcf5-3f17909068c2"
      },
      "source": [
        "# 잘 학습된 모델인지 간단히 한 batch에 대해서 확인\n",
        "\n",
        "dataiter = iter(test_loader)\n",
        "images, labels = next(dataiter)\n",
        "\n",
        "imshow(torchvision.utils.make_grid(images))\n",
        "print(' '.join('\\t{}'.format(class_list[labels[j]]) for j in range(4))) # batch-size = 4"
      ],
      "execution_count": 28,
      "outputs": [
        {
          "output_type": "display_data",
          "data": {
            "text/plain": [
              "<Figure size 432x288 with 1 Axes>"
            ],
            "image/png": "[encoded data removed]"
          },
          "metadata": {}
        },
        {
          "output_type": "stream",
          "name": "stdout",
          "text": [
            "\tcat \tship \tship \tplane\n"
          ]
        }
      ]
    },
    {
      "cell_type": "code",
      "metadata": {
        "id": "z6UYtCT4P3Tj"
      },
      "source": [
        "# 저장\n",
        "\n",
        "PATH = './cifar_net.pth'\n",
        "torch.save(myNet.state_dict(), PATH)"
      ],
      "execution_count": 29,
      "outputs": []
    },
    {
      "cell_type": "code",
      "metadata": {
        "id": "FfsXzP9NQbMg",
        "colab": {
          "base_uri": "https://localhost:8080/"
        },
        "outputId": "7334f0e8-eec4-4715-9b7a-35209c5aa6bd"
      },
      "source": [
        "# 불러오기\n",
        "\n",
        "Loaded_Net = Net().to(device)\n",
        "Loaded_Net.load_state_dict(torch.load(PATH))"
      ],
      "execution_count": 30,
      "outputs": [
        {
          "output_type": "execute_result",
          "data": {
            "text/plain": [
              "<All keys matched successfully>"
            ]
          },
          "metadata": {},
          "execution_count": 30
        }
      ]
    },
    {
      "cell_type": "markdown",
      "metadata": {
        "id": "1dvGiVkrQ2cf"
      },
      "source": [
        "## 모델 테스트\n",
        "* 조건\n",
        "> 전체 accuracy가 70% 이상이어야한다.<br>\n",
        "> 각각의 class에 대한 accuracy는 60% 이상이어야한다."
      ]
    },
    {
      "cell_type": "code",
      "metadata": {
        "id": "ajGFbhDvQtlp",
        "colab": {
          "base_uri": "https://localhost:8080/"
        },
        "outputId": "c68d4ce9-b36f-4941-d17b-00ac1b09c73b"
      },
      "source": [
        "# 전체 accuracy 확인; 70% 이상 성능값\n",
        "\n",
        "correct = 0\n",
        "total = 0\n",
        "\n",
        "with torch.no_grad():\n",
        "    for data in test_loader:\n",
        "        images, labels = data[0].to(device), data[1].to(device)                                              # model객체도 gpu에 저장했음으로, 사용되는 데이터도 gpu에 저장한다.; to(device) 사용\n",
        "        outputs = Loaded_Net(images)                                             # y_pred\n",
        "        _, predicted = torch.max(outputs.data, axis=1)  # 확률이 가장 큰 것의 label을 최종 예측값으로 선택\n",
        "        total += labels.size(0) # 전체 갯수\n",
        "        correct += (predicted == labels).sum().item()   # 맞춘 갯수\n",
        "    \n",
        "    print(100 * correct / total)"
      ],
      "execution_count": 34,
      "outputs": [
        {
          "output_type": "stream",
          "name": "stdout",
          "text": [
            "79.09\n"
          ]
        }
      ]
    },
    {
      "cell_type": "markdown",
      "metadata": {
        "id": "trWVf5YvRYI0"
      },
      "source": [
        "- 어떤 것을 잘 분류했고, 잘 못했는지 확인"
      ]
    },
    {
      "cell_type": "code",
      "metadata": {
        "id": "P9p7QKhDQzpC",
        "colab": {
          "base_uri": "https://localhost:8080/"
        },
        "outputId": "b1176b52-5863-4188-d101-9f20564b693f"
      },
      "source": [
        "# 각각의 class에 대한 accuracy 확인; 각각의 class에 대한 60% 이상 성능값\n",
        "\n",
        "class_correct = list(0. for i in range(10))\n",
        "class_total = list(0. for i in range(10))\n",
        "\n",
        "with torch.no_grad():\n",
        "    for data in test_loader:\n",
        "        images, labels = data[0].to(device), data[1].to(device)\n",
        "        outputs = Loaded_Net(images)\n",
        "        _, predicted = torch.max(outputs.data, axis=1)\n",
        "        c = (predicted == labels).squeeze()\n",
        "        for i in range(4): # 각각의 batch(batch-size : 4) 마다 계싼\n",
        "            label = labels[i]\n",
        "            class_correct[label] += c[i].item()\n",
        "            class_total[label] += 1\n",
        "\n",
        "for i in range(10):\n",
        "    print(\"Accuracy of {}: {}%\".format(class_list[i], 100 * class_correct[i] / class_total[i]))"
      ],
      "execution_count": 27,
      "outputs": [
        {
          "output_type": "stream",
          "name": "stdout",
          "text": [
            "Accuracy of plane: 82.5%\n",
            "Accuracy of car: 88.3%\n",
            "Accuracy of bird: 68.3%\n",
            "Accuracy of cat: 67.6%\n",
            "Accuracy of deer: 74.1%\n",
            "Accuracy of dog: 61.4%\n",
            "Accuracy of frog: 86.6%\n",
            "Accuracy of horse: 84.6%\n",
            "Accuracy of ship: 86.3%\n",
            "Accuracy of truck: 89.6%\n"
          ]
        }
      ]
    },
    {
      "cell_type": "code",
      "source": [
        "#이놈의 개랑 고양이가 구별이 안되서 70%를 못넘기겠습니다.....!!!!!!!!!!!!!!!!!!!!!!!!!!!!!!!!!!!!!!!"
      ],
      "metadata": {
        "id": "h4CpxXeLoIr-"
      },
      "execution_count": 22,
      "outputs": []
    }
  ]
}