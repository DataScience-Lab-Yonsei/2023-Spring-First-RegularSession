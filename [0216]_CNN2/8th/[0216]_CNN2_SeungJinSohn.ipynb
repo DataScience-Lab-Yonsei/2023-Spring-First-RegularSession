{
  "nbformat": 4,
  "nbformat_minor": 0,
  "metadata": {
    "colab": {
      "provenance": [],
      "collapsed_sections": [
        "cdNvme8aKSBP"
      ]
    },
    "kernelspec": {
      "name": "python3",
      "display_name": "Python 3"
    },
    "accelerator": "GPU",
    "gpuClass": "standard",
    "widgets": {
      "application/vnd.jupyter.widget-state+json": {
        "f4f74d7e7cc444fdb12774809b1e23e6": {
          "model_module": "@jupyter-widgets/controls",
          "model_name": "HBoxModel",
          "model_module_version": "1.5.0",
          "state": {
            "_dom_classes": [],
            "_model_module": "@jupyter-widgets/controls",
            "_model_module_version": "1.5.0",
            "_model_name": "HBoxModel",
            "_view_count": null,
            "_view_module": "@jupyter-widgets/controls",
            "_view_module_version": "1.5.0",
            "_view_name": "HBoxView",
            "box_style": "",
            "children": [
              "IPY_MODEL_90294423792d4f65806146eb28ac116a",
              "IPY_MODEL_0208030d2bd5480cac8f2fcd11ce77d9",
              "IPY_MODEL_9b44a9831b9e4eba804fd91da1098576"
            ],
            "layout": "IPY_MODEL_5b8d852e479c434a986ca96f55045c94"
          }
        },
        "90294423792d4f65806146eb28ac116a": {
          "model_module": "@jupyter-widgets/controls",
          "model_name": "HTMLModel",
          "model_module_version": "1.5.0",
          "state": {
            "_dom_classes": [],
            "_model_module": "@jupyter-widgets/controls",
            "_model_module_version": "1.5.0",
            "_model_name": "HTMLModel",
            "_view_count": null,
            "_view_module": "@jupyter-widgets/controls",
            "_view_module_version": "1.5.0",
            "_view_name": "HTMLView",
            "description": "",
            "description_tooltip": null,
            "layout": "IPY_MODEL_dd72c0c8eab841ceb2433fdabe1ea263",
            "placeholder": "​",
            "style": "IPY_MODEL_cfc9b796fb88421291dac840a7c6519d",
            "value": "100%"
          }
        },
        "0208030d2bd5480cac8f2fcd11ce77d9": {
          "model_module": "@jupyter-widgets/controls",
          "model_name": "FloatProgressModel",
          "model_module_version": "1.5.0",
          "state": {
            "_dom_classes": [],
            "_model_module": "@jupyter-widgets/controls",
            "_model_module_version": "1.5.0",
            "_model_name": "FloatProgressModel",
            "_view_count": null,
            "_view_module": "@jupyter-widgets/controls",
            "_view_module_version": "1.5.0",
            "_view_name": "ProgressView",
            "bar_style": "success",
            "description": "",
            "description_tooltip": null,
            "layout": "IPY_MODEL_81fa9858a94242b4bc894bad29eafbb5",
            "max": 170498071,
            "min": 0,
            "orientation": "horizontal",
            "style": "IPY_MODEL_35ebc46c795c4ff79b980e4b7e1ac5c7",
            "value": 170498071
          }
        },
        "9b44a9831b9e4eba804fd91da1098576": {
          "model_module": "@jupyter-widgets/controls",
          "model_name": "HTMLModel",
          "model_module_version": "1.5.0",
          "state": {
            "_dom_classes": [],
            "_model_module": "@jupyter-widgets/controls",
            "_model_module_version": "1.5.0",
            "_model_name": "HTMLModel",
            "_view_count": null,
            "_view_module": "@jupyter-widgets/controls",
            "_view_module_version": "1.5.0",
            "_view_name": "HTMLView",
            "description": "",
            "description_tooltip": null,
            "layout": "IPY_MODEL_2474301e93cc4902b78788833a711c75",
            "placeholder": "​",
            "style": "IPY_MODEL_8847dec990b34c5fbc21bed73cbbd9b2",
            "value": " 170498071/170498071 [00:16&lt;00:00, 12444715.96it/s]"
          }
        },
        "5b8d852e479c434a986ca96f55045c94": {
          "model_module": "@jupyter-widgets/base",
          "model_name": "LayoutModel",
          "model_module_version": "1.2.0",
          "state": {
            "_model_module": "@jupyter-widgets/base",
            "_model_module_version": "1.2.0",
            "_model_name": "LayoutModel",
            "_view_count": null,
            "_view_module": "@jupyter-widgets/base",
            "_view_module_version": "1.2.0",
            "_view_name": "LayoutView",
            "align_content": null,
            "align_items": null,
            "align_self": null,
            "border": null,
            "bottom": null,
            "display": null,
            "flex": null,
            "flex_flow": null,
            "grid_area": null,
            "grid_auto_columns": null,
            "grid_auto_flow": null,
            "grid_auto_rows": null,
            "grid_column": null,
            "grid_gap": null,
            "grid_row": null,
            "grid_template_areas": null,
            "grid_template_columns": null,
            "grid_template_rows": null,
            "height": null,
            "justify_content": null,
            "justify_items": null,
            "left": null,
            "margin": null,
            "max_height": null,
            "max_width": null,
            "min_height": null,
            "min_width": null,
            "object_fit": null,
            "object_position": null,
            "order": null,
            "overflow": null,
            "overflow_x": null,
            "overflow_y": null,
            "padding": null,
            "right": null,
            "top": null,
            "visibility": null,
            "width": null
          }
        },
        "dd72c0c8eab841ceb2433fdabe1ea263": {
          "model_module": "@jupyter-widgets/base",
          "model_name": "LayoutModel",
          "model_module_version": "1.2.0",
          "state": {
            "_model_module": "@jupyter-widgets/base",
            "_model_module_version": "1.2.0",
            "_model_name": "LayoutModel",
            "_view_count": null,
            "_view_module": "@jupyter-widgets/base",
            "_view_module_version": "1.2.0",
            "_view_name": "LayoutView",
            "align_content": null,
            "align_items": null,
            "align_self": null,
            "border": null,
            "bottom": null,
            "display": null,
            "flex": null,
            "flex_flow": null,
            "grid_area": null,
            "grid_auto_columns": null,
            "grid_auto_flow": null,
            "grid_auto_rows": null,
            "grid_column": null,
            "grid_gap": null,
            "grid_row": null,
            "grid_template_areas": null,
            "grid_template_columns": null,
            "grid_template_rows": null,
            "height": null,
            "justify_content": null,
            "justify_items": null,
            "left": null,
            "margin": null,
            "max_height": null,
            "max_width": null,
            "min_height": null,
            "min_width": null,
            "object_fit": null,
            "object_position": null,
            "order": null,
            "overflow": null,
            "overflow_x": null,
            "overflow_y": null,
            "padding": null,
            "right": null,
            "top": null,
            "visibility": null,
            "width": null
          }
        },
        "cfc9b796fb88421291dac840a7c6519d": {
          "model_module": "@jupyter-widgets/controls",
          "model_name": "DescriptionStyleModel",
          "model_module_version": "1.5.0",
          "state": {
            "_model_module": "@jupyter-widgets/controls",
            "_model_module_version": "1.5.0",
            "_model_name": "DescriptionStyleModel",
            "_view_count": null,
            "_view_module": "@jupyter-widgets/base",
            "_view_module_version": "1.2.0",
            "_view_name": "StyleView",
            "description_width": ""
          }
        },
        "81fa9858a94242b4bc894bad29eafbb5": {
          "model_module": "@jupyter-widgets/base",
          "model_name": "LayoutModel",
          "model_module_version": "1.2.0",
          "state": {
            "_model_module": "@jupyter-widgets/base",
            "_model_module_version": "1.2.0",
            "_model_name": "LayoutModel",
            "_view_count": null,
            "_view_module": "@jupyter-widgets/base",
            "_view_module_version": "1.2.0",
            "_view_name": "LayoutView",
            "align_content": null,
            "align_items": null,
            "align_self": null,
            "border": null,
            "bottom": null,
            "display": null,
            "flex": null,
            "flex_flow": null,
            "grid_area": null,
            "grid_auto_columns": null,
            "grid_auto_flow": null,
            "grid_auto_rows": null,
            "grid_column": null,
            "grid_gap": null,
            "grid_row": null,
            "grid_template_areas": null,
            "grid_template_columns": null,
            "grid_template_rows": null,
            "height": null,
            "justify_content": null,
            "justify_items": null,
            "left": null,
            "margin": null,
            "max_height": null,
            "max_width": null,
            "min_height": null,
            "min_width": null,
            "object_fit": null,
            "object_position": null,
            "order": null,
            "overflow": null,
            "overflow_x": null,
            "overflow_y": null,
            "padding": null,
            "right": null,
            "top": null,
            "visibility": null,
            "width": null
          }
        },
        "35ebc46c795c4ff79b980e4b7e1ac5c7": {
          "model_module": "@jupyter-widgets/controls",
          "model_name": "ProgressStyleModel",
          "model_module_version": "1.5.0",
          "state": {
            "_model_module": "@jupyter-widgets/controls",
            "_model_module_version": "1.5.0",
            "_model_name": "ProgressStyleModel",
            "_view_count": null,
            "_view_module": "@jupyter-widgets/base",
            "_view_module_version": "1.2.0",
            "_view_name": "StyleView",
            "bar_color": null,
            "description_width": ""
          }
        },
        "2474301e93cc4902b78788833a711c75": {
          "model_module": "@jupyter-widgets/base",
          "model_name": "LayoutModel",
          "model_module_version": "1.2.0",
          "state": {
            "_model_module": "@jupyter-widgets/base",
            "_model_module_version": "1.2.0",
            "_model_name": "LayoutModel",
            "_view_count": null,
            "_view_module": "@jupyter-widgets/base",
            "_view_module_version": "1.2.0",
            "_view_name": "LayoutView",
            "align_content": null,
            "align_items": null,
            "align_self": null,
            "border": null,
            "bottom": null,
            "display": null,
            "flex": null,
            "flex_flow": null,
            "grid_area": null,
            "grid_auto_columns": null,
            "grid_auto_flow": null,
            "grid_auto_rows": null,
            "grid_column": null,
            "grid_gap": null,
            "grid_row": null,
            "grid_template_areas": null,
            "grid_template_columns": null,
            "grid_template_rows": null,
            "height": null,
            "justify_content": null,
            "justify_items": null,
            "left": null,
            "margin": null,
            "max_height": null,
            "max_width": null,
            "min_height": null,
            "min_width": null,
            "object_fit": null,
            "object_position": null,
            "order": null,
            "overflow": null,
            "overflow_x": null,
            "overflow_y": null,
            "padding": null,
            "right": null,
            "top": null,
            "visibility": null,
            "width": null
          }
        },
        "8847dec990b34c5fbc21bed73cbbd9b2": {
          "model_module": "@jupyter-widgets/controls",
          "model_name": "DescriptionStyleModel",
          "model_module_version": "1.5.0",
          "state": {
            "_model_module": "@jupyter-widgets/controls",
            "_model_module_version": "1.5.0",
            "_model_name": "DescriptionStyleModel",
            "_view_count": null,
            "_view_module": "@jupyter-widgets/base",
            "_view_module_version": "1.2.0",
            "_view_name": "StyleView",
            "description_width": ""
          }
        }
      }
    }
  },
  "cells": [
    {
      "cell_type": "markdown",
      "source": [
        "# 초기 세팅"
      ],
      "metadata": {
        "id": "cdNvme8aKSBP"
      }
    },
    {
      "cell_type": "code",
      "metadata": {
        "id": "P1v9luAfHXdz"
      },
      "source": [
        "import torch\n",
        "import torch.nn as nn\n",
        "import torch.nn.functional as F\n",
        "import torch.optim as optim\n",
        "from torch.utils.data import Dataset, DataLoader\n",
        "\n",
        "import torchvision\n",
        "import torchvision.datasets as datasets\n",
        "import torchvision.transforms as transforms\n",
        "\n",
        "import numpy as np\n",
        "import matplotlib.pyplot as plt\n",
        "plt.style.use('seaborn-white')"
      ],
      "execution_count": 1,
      "outputs": []
    },
    {
      "cell_type": "code",
      "source": [
        "!pip install torchsummary\n",
        "from torchsummary import summary"
      ],
      "metadata": {
        "colab": {
          "base_uri": "https://localhost:8080/"
        },
        "id": "D39aCPyTu2Ce",
        "outputId": "33004613-2feb-43b6-f008-9107c04f99f9"
      },
      "execution_count": 2,
      "outputs": [
        {
          "output_type": "stream",
          "name": "stdout",
          "text": [
            "Looking in indexes: https://pypi.org/simple, https://us-python.pkg.dev/colab-wheels/public/simple/\n",
            "Requirement already satisfied: torchsummary in /usr/local/lib/python3.8/dist-packages (1.5.1)\n"
          ]
        }
      ]
    },
    {
      "cell_type": "markdown",
      "metadata": {
        "id": "02LdHlTTSz5L"
      },
      "source": [
        "- 현재 GPU 설정"
      ]
    },
    {
      "cell_type": "code",
      "metadata": {
        "id": "Ybsjn80uSx3X",
        "colab": {
          "base_uri": "https://localhost:8080/"
        },
        "outputId": "5819cf0c-903a-4e69-85bb-aed463b0cfdc"
      },
      "source": [
        "# colab의 runtime-type을 GPU로 설정해서, True가 나오도록 한다.\n",
        "\n",
        "torch.cuda.is_available()"
      ],
      "execution_count": 3,
      "outputs": [
        {
          "output_type": "execute_result",
          "data": {
            "text/plain": [
              "True"
            ]
          },
          "metadata": {},
          "execution_count": 3
        }
      ]
    },
    {
      "cell_type": "code",
      "metadata": {
        "id": "HlPZI5wfDQhv",
        "colab": {
          "base_uri": "https://localhost:8080/"
        },
        "outputId": "385c9b70-5785-435e-f619-1d21d6ca1833"
      },
      "source": [
        "use_cuda = torch.cuda.is_available()\n",
        "device = torch.device(\"cuda\" if use_cuda else \"cpu\") # gpu('cuda')가 사용가능하면, gpu를 이용하도록 설정\n",
        "device"
      ],
      "execution_count": 4,
      "outputs": [
        {
          "output_type": "execute_result",
          "data": {
            "text/plain": [
              "device(type='cuda')"
            ]
          },
          "metadata": {},
          "execution_count": 4
        }
      ]
    },
    {
      "cell_type": "markdown",
      "source": [
        "# CIFAR10 분류 모델\n",
        "* R/G/B(3) 이미지 데이터 분류\n",
        "* 32x32 pixel"
      ],
      "metadata": {
        "id": "jqQF4qWUywYV"
      }
    },
    {
      "cell_type": "markdown",
      "metadata": {
        "id": "wD3z029XPFK0"
      },
      "source": [
        "## 전처리 설정"
      ]
    },
    {
      "cell_type": "code",
      "metadata": {
        "id": "4u3-pXWIPCiM"
      },
      "source": [
        "# transform 정의\n",
        "\n",
        "CIFAR_transform = transforms.Compose([transforms.ToTensor(), # tensor로 펴준다 \n",
        "                                      transforms.Normalize((0.5, 0.5, 0.5), (0.5, 0.5, 0.5))]) # r,g,b 데이터임으로, 3개의 인자값 전달"
      ],
      "execution_count": 5,
      "outputs": []
    },
    {
      "cell_type": "markdown",
      "metadata": {
        "id": "a4HzFx19PNYv"
      },
      "source": [
        "## 데이터 로드 및 확인"
      ]
    },
    {
      "cell_type": "code",
      "metadata": {
        "id": "ctstlIt_PM9z",
        "colab": {
          "base_uri": "https://localhost:8080/",
          "height": 103,
          "referenced_widgets": [
            "f4f74d7e7cc444fdb12774809b1e23e6",
            "90294423792d4f65806146eb28ac116a",
            "0208030d2bd5480cac8f2fcd11ce77d9",
            "9b44a9831b9e4eba804fd91da1098576",
            "5b8d852e479c434a986ca96f55045c94",
            "dd72c0c8eab841ceb2433fdabe1ea263",
            "cfc9b796fb88421291dac840a7c6519d",
            "81fa9858a94242b4bc894bad29eafbb5",
            "35ebc46c795c4ff79b980e4b7e1ac5c7",
            "2474301e93cc4902b78788833a711c75",
            "8847dec990b34c5fbc21bed73cbbd9b2"
          ]
        },
        "outputId": "5e14f479-e5e9-49dd-d962-a632a1f36c18"
      },
      "source": [
        "# datasets\n",
        "\n",
        "trainset = torchvision.datasets.CIFAR10(root='/content',\n",
        "                                 train=True, download=True,\n",
        "                                 transform=CIFAR_transform)\n",
        "\n",
        "testset = torchvision.datasets.CIFAR10(root='/content',\n",
        "                                 train=False, download=True,\n",
        "                                 transform=CIFAR_transform)"
      ],
      "execution_count": 6,
      "outputs": [
        {
          "output_type": "stream",
          "name": "stdout",
          "text": [
            "Downloading https://www.cs.toronto.edu/~kriz/cifar-10-python.tar.gz to /content/cifar-10-python.tar.gz\n"
          ]
        },
        {
          "output_type": "display_data",
          "data": {
            "text/plain": [
              "  0%|          | 0/170498071 [00:00<?, ?it/s]"
            ],
            "application/vnd.jupyter.widget-view+json": {
              "version_major": 2,
              "version_minor": 0,
              "model_id": "f4f74d7e7cc444fdb12774809b1e23e6"
            }
          },
          "metadata": {}
        },
        {
          "output_type": "stream",
          "name": "stdout",
          "text": [
            "Extracting /content/cifar-10-python.tar.gz to /content\n",
            "Files already downloaded and verified\n"
          ]
        }
      ]
    },
    {
      "cell_type": "code",
      "metadata": {
        "id": "wTkTcictPTyY"
      },
      "source": [
        "# DataLoader\n",
        "\n",
        "# batch-size = 4\n",
        "\n",
        "train_loader = DataLoader(trainset, batch_size=4, shuffle=True, num_workers=2)\n",
        "\n",
        "test_loader = DataLoader(testset, batch_size=4, shuffle=False, num_workers=2)"
      ],
      "execution_count": 7,
      "outputs": []
    },
    {
      "cell_type": "code",
      "source": [
        "# 숫자 label에 해당되는 값\n",
        "\n",
        "class_list = ('plane', 'car', 'bird', 'cat', 'deer',\n",
        "           'dog', 'frog', 'horse', 'ship', 'truck')"
      ],
      "metadata": {
        "id": "-lxqiKWGy-sP"
      },
      "execution_count": 8,
      "outputs": []
    },
    {
      "cell_type": "code",
      "metadata": {
        "id": "_6IsY5CrPZ5e",
        "colab": {
          "base_uri": "https://localhost:8080/",
          "height": 153
        },
        "outputId": "ab0398ac-0295-4263-81ca-55defa55da3b"
      },
      "source": [
        "def imshow(img):\n",
        "    img = img / 2 + 0.5\n",
        "    npimg = img.numpy()\n",
        "    plt.imshow(np.transpose(npimg, (1,2,0)))\n",
        "    plt.show()\n",
        "\n",
        "dataiter = iter(train_loader)\n",
        "images, labels = next(dataiter)\n",
        "\n",
        "imshow(torchvision.utils.make_grid(images))\n",
        "print(' '.join('{}\\t'.format(class_list[labels[j]]) for j in range(4)))"
      ],
      "execution_count": 9,
      "outputs": [
        {
          "output_type": "display_data",
          "data": {
            "text/plain": [
              "<Figure size 432x288 with 1 Axes>"
            ],
            "image/png": "[encoded data removed]"
          },
          "metadata": {}
        },
        {
          "output_type": "stream",
          "name": "stdout",
          "text": [
            "truck\t horse\t truck\t bird\t\n"
          ]
        }
      ]
    },
    {
      "cell_type": "markdown",
      "metadata": {
        "id": "hZgB4eq0Pk6c"
      },
      "source": [
        "## 모델 생성"
      ]
    },
    {
      "cell_type": "markdown",
      "source": [
        "* input size = 4 * 3 * 32 * 32\n",
        "* output size = 4 * 10\n",
        "* 모델 조건\n",
        "> * convolution-layer : 2개 이상 사용\n",
        "> * maxpooling-layer : 1개 이상 사용\n",
        "> * fc-layer : 2개 이상 사용\n",
        "> * activation-function 으로 'relu' 사용"
      ],
      "metadata": {
        "id": "aNeryJhl3GhR"
      }
    },
    {
      "cell_type": "code",
      "metadata": {
        "id": "E2OMzoFHPeFZ"
      },
      "source": [
        "''' 내가 짠 코드 아래 코드와 차이점이라면 maxpool2d를 나는 forward에서 정의했지만, 아래 코드는 __init__에서 정의하여 코드가 간결해졌고, 매 layer마다 maxpooling을 해주었다는 점이 차이.\n",
        "class Net(nn.Module):\n",
        "    def __init__(self):\n",
        "        super(Net, self).__init__()\n",
        "\n",
        "        self.conv1 = nn.Conv2d(in_channels = 3, out_channels = 6, kernel_size = 5, stride = 1, padding = 2)\n",
        "        # in-channels = 3 <- RGB\n",
        "        # out-channels =  필터 개수\n",
        "        # kernel_size / filter-size = 3\n",
        "        # stride = 1(default) -> s=1\n",
        "        # padding = 2(default) -> p=2\n",
        "        # input-data pixel size = 32*32\n",
        "        # (n-f+2p)/s + 1 = new n\n",
        "        # (32 - 5 + 2 x 2)/1 + 1 = 32 필터 한 번 거친 output의 size 32*32\n",
        "\n",
        "        # maxpool2d : n = 32 -> 16\n",
        "\n",
        "        self.conv2 = nn.Conv2d(in_channels = 6, out_channels = 16, kernel_size = 5, stride = 1, padding = 2)\n",
        "        # (16 - 5 + 2 x 2)/1 + 1 = 16\n",
        "\n",
        "        self.conv3 = nn.Conv2d(in_channels = 16, out_channels = 16, kernel_size = 4, stride = 1, padding = 1)\n",
        "        # (15 - 4 + 2 x 1)/1 + 1 = 14\n",
        "\n",
        "        self.conv4 = nn.Conv2d(in_channels = 16, out_channels = 7, kernel_size = 4, stride = 2, padding = 1)\n",
        "        # (14 - 4 + 2 x 1)/2 + 1 = 7 \n",
        "\n",
        "        self.fc1 = nn.Linear(7*7*7, 100)\n",
        "        self.fc2 = nn.Linear(100, 10)\n",
        "        \n",
        "      \n",
        "        # 10 : 10개의 category\n",
        "\n",
        "    def forward(self, x):\n",
        "        #print(x.size())\n",
        "        x = F.relu(self.conv1(x))\n",
        "        #print(x.size())\n",
        "        x = F.max_pool2d(x, (2,2))\n",
        "        #print(x.size())\n",
        "        x = F.relu(self.conv2(x))\n",
        "        #print(x.size())\n",
        "        x = F.relu(self.conv3(x))\n",
        "        #print(x.size())\n",
        "        x = F.relu(self.conv4(x))\n",
        "\n",
        "        x = x.view(-1, self.num_flat_features(x)) # num_flat_features : 아래에서 정의\n",
        "        #print(x.size())\n",
        "\n",
        "        x = F.relu(self.fc1(x))\n",
        "        #print(x.size())\n",
        "        x = F.relu(self.fc2(x))\n",
        "        #print(x.size(), '\\n\\n')\n",
        "        \n",
        "      \n",
        "\n",
        "        return x\n",
        "    def num_flat_features(self, x): # 처음 dim-size을 제외하고, 모두 곱한 값을 반환해준다.\n",
        "        size = x.size()[1:]\n",
        "        num_features = 1\n",
        "        for s in size:\n",
        "            num_features *= s\n",
        "        \n",
        "        return num_features\n",
        "\n",
        "net=Net()\n",
        "'''"
      ],
      "execution_count": null,
      "outputs": []
    },
    {
      "cell_type": "code",
      "source": [
        "'''\n",
        "import torch.nn as nn\n",
        "import torch.nn.functional as F\n",
        "\n",
        "\n",
        "class Net(nn.Module): \n",
        "    def __init__(self):\n",
        "        super(Net, self).__init__()\n",
        "        #out_channel 증가\n",
        "        self.conv1 = nn.Conv2d(3, 16, 5)\n",
        "        self.conv2 = nn.Conv2d(16, 32, 5)\n",
        "        #conv layer도 한 개 추가\n",
        "        self.conv3 = nn.Conv2d(32, 64, 5)\n",
        "\n",
        "        self.pool = nn.MaxPool2d(2, 2, 1)\n",
        "\n",
        "        self.fc1 = nn.Linear(64 * 2 * 2, 192)\n",
        "        #Full-connection layer도 추가\n",
        "        self.fc2 = nn.Linear(192, 128)\n",
        "        self.fc3 = nn.Linear(128, 84)\n",
        "        self.fc4 = nn.Linear(84, 10)\n",
        "        self.dropout1 = nn.Dropout(p=0.5, inplace=False)\n",
        "        #self.batchnorm1 = nn.BatchNorm2d(16)\n",
        "        #self.batchnorm2 = nn.BatchNorm2d(32)\n",
        "        #self.batchnorm3 = nn.BatchNorm2d(64)\n",
        "       \n",
        "        \n",
        "\n",
        "    def forward(self, x):\n",
        "        x = self.pool(F.relu(self.conv1(x)))\n",
        "        #x = self.batchnorm1(x)\n",
        "        x = self.pool(F.relu(self.conv2(x)))\n",
        "        x = self.dropout1(x)\n",
        "        #x = self.batchnorm2(x)\n",
        "        x = self.pool(F.relu(self.conv3(x)))\n",
        "        #x = self.batchnorm3(x)\n",
        "        x = self.dropout1(x)\n",
        "        x = x.view(-1, 64 * 2 * 2)\n",
        "        x = F.relu(self.fc1(x))\n",
        "        x = self.dropout1(x)\n",
        "        x = F.relu(self.fc2(x))\n",
        "        x = F.relu(self.fc3(x))\n",
        "        x = self.fc4(x)\n",
        "        return x\n",
        "\n",
        "net = Net()\n",
        "net.to(device)\n",
        "'''"
      ],
      "metadata": {
        "colab": {
          "base_uri": "https://localhost:8080/"
        },
        "id": "BEj2uJoTF2w7",
        "outputId": "abcf21d2-64e6-4940-d890-77bfa1b5b8a0"
      },
      "execution_count": null,
      "outputs": [
        {
          "output_type": "execute_result",
          "data": {
            "text/plain": [
              "Net(\n",
              "  (conv1): Conv2d(3, 16, kernel_size=(5, 5), stride=(1, 1))\n",
              "  (conv2): Conv2d(16, 32, kernel_size=(5, 5), stride=(1, 1))\n",
              "  (conv3): Conv2d(32, 64, kernel_size=(5, 5), stride=(1, 1))\n",
              "  (pool): MaxPool2d(kernel_size=2, stride=2, padding=1, dilation=1, ceil_mode=False)\n",
              "  (fc1): Linear(in_features=256, out_features=192, bias=True)\n",
              "  (fc2): Linear(in_features=192, out_features=128, bias=True)\n",
              "  (fc3): Linear(in_features=128, out_features=84, bias=True)\n",
              "  (fc4): Linear(in_features=84, out_features=10, bias=True)\n",
              "  (dropout1): Dropout(p=0.5, inplace=False)\n",
              ")"
            ]
          },
          "metadata": {},
          "execution_count": 133
        }
      ]
    },
    {
      "cell_type": "code",
      "source": [
        "# SimpleCNN의 구조를 변경\n",
        "# 입력 채널: 3 출력 채널: 32 \n",
        "# 입력 채널: 32(앞 layer 출력 채널 수 그대로) 출력 채널: 임의\n",
        "# max pool 2d는 이미지 사이즈를 줄여주는 역할 \n",
        "\n",
        "class Net(nn.Module):\n",
        "\n",
        "    def __init__(self):\n",
        "        super().__init__()\n",
        "        \n",
        "        self.conv_layers = nn.Sequential(\n",
        "           nn.Conv2d( in_channels=3, out_channels=32, kernel_size=3, padding=1 ), # 3, 32x32 -> 32, 32x32\n",
        "           nn.BatchNorm2d(32),\n",
        "           nn.ReLU(),\n",
        "      \n",
        "           nn.Conv2d( in_channels=32, out_channels=32, kernel_size=3, padding=1 ), # 32, 32x32 -> 32, 32x32\n",
        "           nn.BatchNorm2d(32),\n",
        "           nn.ReLU(),\n",
        "           nn.MaxPool2d(2), # 32, 32x32 -> 32, 16x16\n",
        "\n",
        "           nn.Conv2d( in_channels=32, out_channels=64, kernel_size=3, padding=1 ), # 32, 16x16 -> 64, 16x16\n",
        "           nn.BatchNorm2d(64),\n",
        "           nn.ReLU(),\n",
        "           nn.Dropout(p=0.5),\n",
        "\n",
        "           nn.Conv2d( in_channels=64, out_channels=32, kernel_size=3, padding=1 ), # 32, 16x16 -> 64, 16x16\n",
        "           nn.BatchNorm2d(32),\n",
        "           nn.ReLU(),\n",
        "\n",
        "           nn.Conv2d( in_channels=32, out_channels=32, kernel_size=3, padding=1 ), # 32, 16x16 -> 64, 16x16\n",
        "           nn.BatchNorm2d(32),\n",
        "           nn.ReLU(),\n",
        "           nn.Dropout(p=0.5),\n",
        "           nn.MaxPool2d(2), # 64, 16x16 -> 64, 8x8,\n",
        "\n",
        "           nn.Conv2d( in_channels=32, out_channels=32, kernel_size=3, padding=1 ), # 64, 16x16 -> 64, 8x8\n",
        "           nn.BatchNorm2d(32),\n",
        "           nn.ReLU(),\n",
        "\n",
        "           nn.Conv2d( in_channels=32, out_channels=32, kernel_size=3, padding=1 ), # 64, 8x8 -> 64, 8x8\n",
        "           nn.BatchNorm2d(32),\n",
        "           nn.ReLU(),\n",
        "           \n",
        "        )\n",
        "        \n",
        "        self.fc_layers = nn.Sequential(\n",
        "            nn.Linear( 32 * 8 * 8, 64 ), # 64 * 8 * 8 -> 32\n",
        "            #nn.BatchNorm1d(64),\n",
        "            nn.Dropout(p=0.5),\n",
        "            nn.Linear(64,10),\n",
        "            \n",
        "            \n",
        "            \n",
        "                   )\n",
        "       \n",
        "        \n",
        "    def forward(self, x):\n",
        "\n",
        "        x = self.conv_layers(x) \n",
        "        \n",
        "        x = x.view( x.size(0), -1 ) # flatten\n",
        "\n",
        "        x = self.fc_layers(x)\n",
        "\n",
        "        return x\n",
        "\n",
        "net = Net()\n",
        "net.to(device)"
      ],
      "metadata": {
        "colab": {
          "base_uri": "https://localhost:8080/"
        },
        "id": "KyCvo3Vnfi2v",
        "outputId": "cc105f01-b06b-4f25-d579-15b74d1d343c"
      },
      "execution_count": 37,
      "outputs": [
        {
          "output_type": "execute_result",
          "data": {
            "text/plain": [
              "Net(\n",
              "  (conv_layers): Sequential(\n",
              "    (0): Conv2d(3, 32, kernel_size=(3, 3), stride=(1, 1), padding=(1, 1))\n",
              "    (1): BatchNorm2d(32, eps=1e-05, momentum=0.1, affine=True, track_running_stats=True)\n",
              "    (2): ReLU()\n",
              "    (3): Conv2d(32, 32, kernel_size=(3, 3), stride=(1, 1), padding=(1, 1))\n",
              "    (4): BatchNorm2d(32, eps=1e-05, momentum=0.1, affine=True, track_running_stats=True)\n",
              "    (5): ReLU()\n",
              "    (6): MaxPool2d(kernel_size=2, stride=2, padding=0, dilation=1, ceil_mode=False)\n",
              "    (7): Conv2d(32, 64, kernel_size=(3, 3), stride=(1, 1), padding=(1, 1))\n",
              "    (8): BatchNorm2d(64, eps=1e-05, momentum=0.1, affine=True, track_running_stats=True)\n",
              "    (9): ReLU()\n",
              "    (10): Dropout(p=0.5, inplace=False)\n",
              "    (11): Conv2d(64, 32, kernel_size=(3, 3), stride=(1, 1), padding=(1, 1))\n",
              "    (12): BatchNorm2d(32, eps=1e-05, momentum=0.1, affine=True, track_running_stats=True)\n",
              "    (13): ReLU()\n",
              "    (14): Conv2d(32, 32, kernel_size=(3, 3), stride=(1, 1), padding=(1, 1))\n",
              "    (15): BatchNorm2d(32, eps=1e-05, momentum=0.1, affine=True, track_running_stats=True)\n",
              "    (16): ReLU()\n",
              "    (17): Dropout(p=0.5, inplace=False)\n",
              "    (18): MaxPool2d(kernel_size=2, stride=2, padding=0, dilation=1, ceil_mode=False)\n",
              "    (19): Conv2d(32, 32, kernel_size=(3, 3), stride=(1, 1), padding=(1, 1))\n",
              "    (20): BatchNorm2d(32, eps=1e-05, momentum=0.1, affine=True, track_running_stats=True)\n",
              "    (21): ReLU()\n",
              "    (22): Conv2d(32, 32, kernel_size=(3, 3), stride=(1, 1), padding=(1, 1))\n",
              "    (23): BatchNorm2d(32, eps=1e-05, momentum=0.1, affine=True, track_running_stats=True)\n",
              "    (24): ReLU()\n",
              "  )\n",
              "  (fc_layers): Sequential(\n",
              "    (0): Linear(in_features=2048, out_features=64, bias=True)\n",
              "    (1): Dropout(p=0.5, inplace=False)\n",
              "    (2): Linear(in_features=64, out_features=10, bias=True)\n",
              "  )\n",
              ")"
            ]
          },
          "metadata": {},
          "execution_count": 37
        }
      ]
    },
    {
      "cell_type": "code",
      "source": [
        "myNet = Net().to(device) # gpu에 모델 저장\n",
        "myNet"
      ],
      "metadata": {
        "id": "P5ZAjWK03iQ_",
        "colab": {
          "base_uri": "https://localhost:8080/"
        },
        "outputId": "516aae2b-b236-496e-ad46-31fae3519dc0"
      },
      "execution_count": 38,
      "outputs": [
        {
          "output_type": "execute_result",
          "data": {
            "text/plain": [
              "Net(\n",
              "  (conv_layers): Sequential(\n",
              "    (0): Conv2d(3, 32, kernel_size=(3, 3), stride=(1, 1), padding=(1, 1))\n",
              "    (1): BatchNorm2d(32, eps=1e-05, momentum=0.1, affine=True, track_running_stats=True)\n",
              "    (2): ReLU()\n",
              "    (3): Conv2d(32, 32, kernel_size=(3, 3), stride=(1, 1), padding=(1, 1))\n",
              "    (4): BatchNorm2d(32, eps=1e-05, momentum=0.1, affine=True, track_running_stats=True)\n",
              "    (5): ReLU()\n",
              "    (6): MaxPool2d(kernel_size=2, stride=2, padding=0, dilation=1, ceil_mode=False)\n",
              "    (7): Conv2d(32, 64, kernel_size=(3, 3), stride=(1, 1), padding=(1, 1))\n",
              "    (8): BatchNorm2d(64, eps=1e-05, momentum=0.1, affine=True, track_running_stats=True)\n",
              "    (9): ReLU()\n",
              "    (10): Dropout(p=0.5, inplace=False)\n",
              "    (11): Conv2d(64, 32, kernel_size=(3, 3), stride=(1, 1), padding=(1, 1))\n",
              "    (12): BatchNorm2d(32, eps=1e-05, momentum=0.1, affine=True, track_running_stats=True)\n",
              "    (13): ReLU()\n",
              "    (14): Conv2d(32, 32, kernel_size=(3, 3), stride=(1, 1), padding=(1, 1))\n",
              "    (15): BatchNorm2d(32, eps=1e-05, momentum=0.1, affine=True, track_running_stats=True)\n",
              "    (16): ReLU()\n",
              "    (17): Dropout(p=0.5, inplace=False)\n",
              "    (18): MaxPool2d(kernel_size=2, stride=2, padding=0, dilation=1, ceil_mode=False)\n",
              "    (19): Conv2d(32, 32, kernel_size=(3, 3), stride=(1, 1), padding=(1, 1))\n",
              "    (20): BatchNorm2d(32, eps=1e-05, momentum=0.1, affine=True, track_running_stats=True)\n",
              "    (21): ReLU()\n",
              "    (22): Conv2d(32, 32, kernel_size=(3, 3), stride=(1, 1), padding=(1, 1))\n",
              "    (23): BatchNorm2d(32, eps=1e-05, momentum=0.1, affine=True, track_running_stats=True)\n",
              "    (24): ReLU()\n",
              "  )\n",
              "  (fc_layers): Sequential(\n",
              "    (0): Linear(in_features=2048, out_features=64, bias=True)\n",
              "    (1): Dropout(p=0.5, inplace=False)\n",
              "    (2): Linear(in_features=64, out_features=10, bias=True)\n",
              "  )\n",
              ")"
            ]
          },
          "metadata": {},
          "execution_count": 38
        }
      ]
    },
    {
      "cell_type": "code",
      "source": [
        "# input; (4 * 3 * 32 * 32)\n",
        "\n",
        "input = images.to(device)\n",
        "input.size()"
      ],
      "metadata": {
        "colab": {
          "base_uri": "https://localhost:8080/"
        },
        "id": "aC1MMHle3jid",
        "outputId": "a2469dd3-cad5-4d6d-9be6-e4d7266b9395"
      },
      "execution_count": 39,
      "outputs": [
        {
          "output_type": "execute_result",
          "data": {
            "text/plain": [
              "torch.Size([4, 3, 32, 32])"
            ]
          },
          "metadata": {},
          "execution_count": 39
        }
      ]
    },
    {
      "cell_type": "code",
      "source": [
        "# output; (4 * 10)\n",
        "\n",
        "output = myNet.forward(input)\n",
        "output.size()"
      ],
      "metadata": {
        "colab": {
          "base_uri": "https://localhost:8080/"
        },
        "id": "UYxJZCGo3uPZ",
        "outputId": "b5ef5d1c-ff4e-476b-ffab-51b5915ecb2e"
      },
      "execution_count": 40,
      "outputs": [
        {
          "output_type": "execute_result",
          "data": {
            "text/plain": [
              "torch.Size([4, 10])"
            ]
          },
          "metadata": {},
          "execution_count": 40
        }
      ]
    },
    {
      "cell_type": "code",
      "source": [
        "# 모델 구조 확인\n",
        "\n",
        "summary(myNet, input_size=(3,32,32), batch_size=4)"
      ],
      "metadata": {
        "id": "OS6RZEuB3wwa",
        "colab": {
          "base_uri": "https://localhost:8080/"
        },
        "outputId": "75165740-2522-4b77-b81d-1a86d113f9a0"
      },
      "execution_count": 41,
      "outputs": [
        {
          "output_type": "stream",
          "name": "stdout",
          "text": [
            "----------------------------------------------------------------\n",
            "        Layer (type)               Output Shape         Param #\n",
            "================================================================\n",
            "            Conv2d-1            [4, 32, 32, 32]             896\n",
            "       BatchNorm2d-2            [4, 32, 32, 32]              64\n",
            "              ReLU-3            [4, 32, 32, 32]               0\n",
            "            Conv2d-4            [4, 32, 32, 32]           9,248\n",
            "       BatchNorm2d-5            [4, 32, 32, 32]              64\n",
            "              ReLU-6            [4, 32, 32, 32]               0\n",
            "         MaxPool2d-7            [4, 32, 16, 16]               0\n",
            "            Conv2d-8            [4, 64, 16, 16]          18,496\n",
            "       BatchNorm2d-9            [4, 64, 16, 16]             128\n",
            "             ReLU-10            [4, 64, 16, 16]               0\n",
            "          Dropout-11            [4, 64, 16, 16]               0\n",
            "           Conv2d-12            [4, 32, 16, 16]          18,464\n",
            "      BatchNorm2d-13            [4, 32, 16, 16]              64\n",
            "             ReLU-14            [4, 32, 16, 16]               0\n",
            "           Conv2d-15            [4, 32, 16, 16]           9,248\n",
            "      BatchNorm2d-16            [4, 32, 16, 16]              64\n",
            "             ReLU-17            [4, 32, 16, 16]               0\n",
            "          Dropout-18            [4, 32, 16, 16]               0\n",
            "        MaxPool2d-19              [4, 32, 8, 8]               0\n",
            "           Conv2d-20              [4, 32, 8, 8]           9,248\n",
            "      BatchNorm2d-21              [4, 32, 8, 8]              64\n",
            "             ReLU-22              [4, 32, 8, 8]               0\n",
            "           Conv2d-23              [4, 32, 8, 8]           9,248\n",
            "      BatchNorm2d-24              [4, 32, 8, 8]              64\n",
            "             ReLU-25              [4, 32, 8, 8]               0\n",
            "           Linear-26                    [4, 64]         131,136\n",
            "          Dropout-27                    [4, 64]               0\n",
            "           Linear-28                    [4, 10]             650\n",
            "================================================================\n",
            "Total params: 207,146\n",
            "Trainable params: 207,146\n",
            "Non-trainable params: 0\n",
            "----------------------------------------------------------------\n",
            "Input size (MB): 0.05\n",
            "Forward/backward pass size (MB): 10.44\n",
            "Params size (MB): 0.79\n",
            "Estimated Total Size (MB): 11.28\n",
            "----------------------------------------------------------------\n"
          ]
        }
      ]
    },
    {
      "cell_type": "markdown",
      "metadata": {
        "id": "gogmHThzPrjK"
      },
      "source": [
        "## 손실함수와 옵티마이저"
      ]
    },
    {
      "cell_type": "code",
      "metadata": {
        "id": "X5SzxufZPpel"
      },
      "source": [
        "criterion = nn.CrossEntropyLoss() # 다중분류; CrossEntropyLoss\n",
        "optimizer = optim.SGD(myNet.parameters(),lr=0.001,momentum=0.9) # SGD; lr=0.001 & momentum=0.9"
      ],
      "execution_count": 42,
      "outputs": []
    },
    {
      "cell_type": "markdown",
      "metadata": {
        "id": "_UnbIcKaPyQv"
      },
      "source": [
        "## 모델 학습"
      ]
    },
    {
      "cell_type": "code",
      "metadata": {
        "id": "jlWiR3LwPuwa",
        "colab": {
          "base_uri": "https://localhost:8080/"
        },
        "outputId": "53d761ea-c2b3-47be-f984-1196c190d4db"
      },
      "source": [
        "# epochs = 총 20번 학습습\n",
        "\n",
        "for epoch in range(10):\n",
        "    running_loss = 0.0\n",
        "\n",
        "    for i, data in enumerate(train_loader, 0):\n",
        "        inputs, labels = data[0].to(device), data[1].to(device)\n",
        "\n",
        "        optimizer.zero_grad()                         # 가중치 초기화\n",
        "\n",
        "        y_pred = myNet(inputs)                            # y_pred\n",
        "        loss = criterion(y_pred, labels)                  # 손실함수를 이용해서 loss계산\n",
        "        loss.backward()                               # back-propagation\n",
        "        optimizer.step()                            # 가중치 업데이트\n",
        "\n",
        "        running_loss += loss.item()\n",
        "        if i % 2000 == 1999:\n",
        "            print(\"Epoch: {}, Batch: {}, Loss: {}\".format(epoch+1, i+1, running_loss/2000))\n",
        "            running_loss = 0.0"
      ],
      "execution_count": 50,
      "outputs": [
        {
          "output_type": "stream",
          "name": "stdout",
          "text": [
            "Epoch: 1, Batch: 2000, Loss: 0.6407696093940176\n",
            "Epoch: 1, Batch: 4000, Loss: 0.6372602727466729\n",
            "Epoch: 1, Batch: 6000, Loss: 0.6078449220883194\n",
            "Epoch: 1, Batch: 8000, Loss: 0.630146087453235\n",
            "Epoch: 1, Batch: 10000, Loss: 0.6441116123840911\n",
            "Epoch: 1, Batch: 12000, Loss: 0.649305943613872\n",
            "Epoch: 2, Batch: 2000, Loss: 0.6030128593765257\n",
            "Epoch: 2, Batch: 4000, Loss: 0.632896062258369\n",
            "Epoch: 2, Batch: 6000, Loss: 0.6226651888316265\n",
            "Epoch: 2, Batch: 8000, Loss: 0.6214253645825083\n",
            "Epoch: 2, Batch: 10000, Loss: 0.6301270919875241\n",
            "Epoch: 2, Batch: 12000, Loss: 0.6083712086421438\n",
            "Epoch: 3, Batch: 2000, Loss: 0.6056617250363342\n",
            "Epoch: 3, Batch: 4000, Loss: 0.5927481994779082\n",
            "Epoch: 3, Batch: 6000, Loss: 0.6298884123197349\n",
            "Epoch: 3, Batch: 8000, Loss: 0.6142773202337557\n",
            "Epoch: 3, Batch: 10000, Loss: 0.5944710058096098\n",
            "Epoch: 3, Batch: 12000, Loss: 0.6042656928707438\n",
            "Epoch: 4, Batch: 2000, Loss: 0.5716956661519361\n",
            "Epoch: 4, Batch: 4000, Loss: 0.5732876810599701\n",
            "Epoch: 4, Batch: 6000, Loss: 0.6030611305978382\n",
            "Epoch: 4, Batch: 8000, Loss: 0.5957335367157939\n",
            "Epoch: 4, Batch: 10000, Loss: 0.6017274582987884\n",
            "Epoch: 4, Batch: 12000, Loss: 0.6014254264115588\n",
            "Epoch: 5, Batch: 2000, Loss: 0.5575778880799189\n",
            "Epoch: 5, Batch: 4000, Loss: 0.5705401347762963\n",
            "Epoch: 5, Batch: 6000, Loss: 0.5777621342000784\n",
            "Epoch: 5, Batch: 8000, Loss: 0.5816051988980034\n",
            "Epoch: 5, Batch: 10000, Loss: 0.5779396881244611\n",
            "Epoch: 5, Batch: 12000, Loss: 0.5885226059646811\n",
            "Epoch: 6, Batch: 2000, Loss: 0.5509750053456519\n",
            "Epoch: 6, Batch: 4000, Loss: 0.555421862951829\n",
            "Epoch: 6, Batch: 6000, Loss: 0.5614722280711285\n",
            "Epoch: 6, Batch: 8000, Loss: 0.5580221178284847\n",
            "Epoch: 6, Batch: 10000, Loss: 0.5827818857479724\n",
            "Epoch: 6, Batch: 12000, Loss: 0.5992608497820329\n",
            "Epoch: 7, Batch: 2000, Loss: 0.5399748571049131\n",
            "Epoch: 7, Batch: 4000, Loss: 0.5643335395429459\n",
            "Epoch: 7, Batch: 6000, Loss: 0.5656266173295443\n",
            "Epoch: 7, Batch: 8000, Loss: 0.5769063998542261\n",
            "Epoch: 7, Batch: 10000, Loss: 0.5588238454411621\n",
            "Epoch: 7, Batch: 12000, Loss: 0.5496428133317386\n",
            "Epoch: 8, Batch: 2000, Loss: 0.5524932744067628\n",
            "Epoch: 8, Batch: 4000, Loss: 0.5394716895576712\n",
            "Epoch: 8, Batch: 6000, Loss: 0.5586904437926278\n",
            "Epoch: 8, Batch: 8000, Loss: 0.549396475033136\n",
            "Epoch: 8, Batch: 10000, Loss: 0.5521636247037968\n",
            "Epoch: 8, Batch: 12000, Loss: 0.5704212274414021\n",
            "Epoch: 9, Batch: 2000, Loss: 0.5357211856350769\n",
            "Epoch: 9, Batch: 4000, Loss: 0.513998249181779\n",
            "Epoch: 9, Batch: 6000, Loss: 0.5244028770234727\n",
            "Epoch: 9, Batch: 8000, Loss: 0.5448058172242891\n",
            "Epoch: 9, Batch: 10000, Loss: 0.5692619119208248\n",
            "Epoch: 9, Batch: 12000, Loss: 0.5386204731216422\n",
            "Epoch: 10, Batch: 2000, Loss: 0.5247403727034107\n",
            "Epoch: 10, Batch: 4000, Loss: 0.536502055626479\n",
            "Epoch: 10, Batch: 6000, Loss: 0.5295856648512126\n",
            "Epoch: 10, Batch: 8000, Loss: 0.5534248447303544\n",
            "Epoch: 10, Batch: 10000, Loss: 0.540073556109157\n",
            "Epoch: 10, Batch: 12000, Loss: 0.536340731201577\n"
          ]
        }
      ]
    },
    {
      "cell_type": "markdown",
      "metadata": {
        "id": "NqYnwxJ3P8Gb"
      },
      "source": [
        "## 모델의 저장 및 로드"
      ]
    },
    {
      "cell_type": "code",
      "metadata": {
        "id": "keqtypx1QY6t",
        "colab": {
          "base_uri": "https://localhost:8080/",
          "height": 171
        },
        "outputId": "b6cfea1b-0d31-44ec-8fc7-924985f50805"
      },
      "source": [
        "# 잘 학습된 모델인지 간단히 한 batch에 대해서 확인\n",
        "\n",
        "dataiter = iter(test_loader)\n",
        "images, labels = next(dataiter)\n",
        "\n",
        "imshow(torchvision.utils.make_grid(images))\n",
        "print(' '.join('\\t{}'.format(class_list[labels[j]]) for j in range(4))) # batch-size = 4\n",
        "print(' '.join('\\t{}'.format(class_list[predicted[j]]) for j in range(4))) # batch-size = 4"
      ],
      "execution_count": 51,
      "outputs": [
        {
          "output_type": "display_data",
          "data": {
            "text/plain": [
              "<Figure size 432x288 with 1 Axes>"
            ],
            "image/png": "[encoded data removed]"
          },
          "metadata": {}
        },
        {
          "output_type": "stream",
          "name": "stdout",
          "text": [
            "\tcat \tship \tship \tplane\n",
            "\tcat \tdog \tcar \thorse\n"
          ]
        }
      ]
    },
    {
      "cell_type": "code",
      "metadata": {
        "id": "z6UYtCT4P3Tj"
      },
      "source": [
        "# 저장\n",
        "\n",
        "PATH = './cifar_net.pth'\n",
        "torch.save(myNet.state_dict(), PATH)"
      ],
      "execution_count": 52,
      "outputs": []
    },
    {
      "cell_type": "code",
      "metadata": {
        "id": "FfsXzP9NQbMg",
        "colab": {
          "base_uri": "https://localhost:8080/"
        },
        "outputId": "a867aa36-e0b5-4cfc-c235-6bd4841bf681"
      },
      "source": [
        "# 불러오기\n",
        "\n",
        "Loaded_Net = Net().to(device)\n",
        "Loaded_Net.load_state_dict(torch.load(PATH))"
      ],
      "execution_count": 53,
      "outputs": [
        {
          "output_type": "execute_result",
          "data": {
            "text/plain": [
              "<All keys matched successfully>"
            ]
          },
          "metadata": {},
          "execution_count": 53
        }
      ]
    },
    {
      "cell_type": "markdown",
      "metadata": {
        "id": "1dvGiVkrQ2cf"
      },
      "source": [
        "## 모델 테스트\n",
        "* 조건\n",
        "> 전체 accuracy가 70% 이상이어야한다.<br>\n",
        "> 각각의 class에 대한 accuracy는 60% 이상이어야한다."
      ]
    },
    {
      "cell_type": "code",
      "metadata": {
        "id": "ajGFbhDvQtlp",
        "colab": {
          "base_uri": "https://localhost:8080/"
        },
        "outputId": "2a84536b-d0fb-4b9d-f5cc-b8eaaf4ca0d7"
      },
      "source": [
        "# 전체 accuracy 확인; 70% 이상 성능값\n",
        "\n",
        "correct = 0\n",
        "total = 0\n",
        "\n",
        "with torch.no_grad():\n",
        "    for data in test_loader:\n",
        "        images, labels = data[0].to(device), data[1].to(device)      # model객체도 gpu에 저장했음으로, 사용되는 데이터도 gpu에 저장한다.; to(device) 사용\n",
        "        outputs = Loaded_Net(images)                                  # y_pred\n",
        "        _, predicted = torch.max(outputs.data, axis=1)  # 확률이 가장 큰 것의 label을 최종 예측값으로 선택\n",
        "        total += labels.size(0) # 전체 갯수\n",
        "        correct += (predicted == labels).sum().item()   # 맞춘 갯수\n",
        "    \n",
        "    print(100 * correct / total)"
      ],
      "execution_count": 54,
      "outputs": [
        {
          "output_type": "stream",
          "name": "stdout",
          "text": [
            "77.02\n"
          ]
        }
      ]
    },
    {
      "cell_type": "markdown",
      "metadata": {
        "id": "trWVf5YvRYI0"
      },
      "source": [
        "- 어떤 것을 잘 분류했고, 잘 못했는지 확인"
      ]
    },
    {
      "cell_type": "code",
      "metadata": {
        "id": "P9p7QKhDQzpC",
        "colab": {
          "base_uri": "https://localhost:8080/"
        },
        "outputId": "ea7db205-5621-4c61-83af-88bc258117dd"
      },
      "source": [
        "# 각각의 class에 대한 accuracy 확인; 각각의 class에 대한 60% 이상 성능값\n",
        "\n",
        "class_correct = list(0. for i in range(10))\n",
        "class_total = list(0. for i in range(10))\n",
        "\n",
        "with torch.no_grad():\n",
        "    for data in test_loader:\n",
        "        images, labels = data[0].to(device), data[1].to(device)\n",
        "        outputs = Loaded_Net(images)\n",
        "        _, predicted = torch.max(outputs.data, axis=1)\n",
        "        c = (predicted == labels).squeeze()\n",
        "        for i in range(4): # 각각의 batch(batch-size : 4) 마다 계싼\n",
        "            label = labels[i]\n",
        "            class_correct[label] += c[i].item()\n",
        "            class_total[label] += 1\n",
        "\n",
        "for i in range(10):\n",
        "    print(\"Accuracy of {}: {}%\".format(class_list[i], 100 * class_correct[i] / class_total[i]))"
      ],
      "execution_count": 55,
      "outputs": [
        {
          "output_type": "stream",
          "name": "stdout",
          "text": [
            "Accuracy of plane: 80.1%\n",
            "Accuracy of car: 84.3%\n",
            "Accuracy of bird: 71.2%\n",
            "Accuracy of cat: 64.2%\n",
            "Accuracy of deer: 73.2%\n",
            "Accuracy of dog: 66.1%\n",
            "Accuracy of frog: 82.6%\n",
            "Accuracy of horse: 82.2%\n",
            "Accuracy of ship: 86.8%\n",
            "Accuracy of truck: 82.5%\n"
          ]
        }
      ]
    }
  ]
}