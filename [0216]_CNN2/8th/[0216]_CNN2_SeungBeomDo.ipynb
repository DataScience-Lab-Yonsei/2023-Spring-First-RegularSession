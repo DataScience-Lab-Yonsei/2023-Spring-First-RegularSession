{
  "nbformat": 4,
  "nbformat_minor": 0,
  "metadata": {
    "colab": {
      "provenance": [],
      "collapsed_sections": [
        "cdNvme8aKSBP",
        "jqQF4qWUywYV",
        "wD3z029XPFK0",
        "a4HzFx19PNYv",
        "hZgB4eq0Pk6c",
        "gogmHThzPrjK",
        "_UnbIcKaPyQv",
        "NqYnwxJ3P8Gb",
        "1dvGiVkrQ2cf"
      ]
    },
    "kernelspec": {
      "name": "python3",
      "display_name": "Python 3"
    },
    "accelerator": "GPU",
    "gpuClass": "standard",
    "widgets": {
      "application/vnd.jupyter.widget-state+json": {
        "0df27c57566448c6be9330e07fb3f520": {
          "model_module": "@jupyter-widgets/controls",
          "model_name": "HBoxModel",
          "model_module_version": "1.5.0",
          "state": {
            "_dom_classes": [],
            "_model_module": "@jupyter-widgets/controls",
            "_model_module_version": "1.5.0",
            "_model_name": "HBoxModel",
            "_view_count": null,
            "_view_module": "@jupyter-widgets/controls",
            "_view_module_version": "1.5.0",
            "_view_name": "HBoxView",
            "box_style": "",
            "children": [
              "IPY_MODEL_0bd39cc1a7fb46879374031801c323ae",
              "IPY_MODEL_a56a4050e54a4b2391fb580c04166f87",
              "IPY_MODEL_682f6d5073cb4f8696fa1b0f1d1cebd2"
            ],
            "layout": "IPY_MODEL_0f83ce0d92b04b0f9297f3023a0ffd7f"
          }
        },
        "0bd39cc1a7fb46879374031801c323ae": {
          "model_module": "@jupyter-widgets/controls",
          "model_name": "HTMLModel",
          "model_module_version": "1.5.0",
          "state": {
            "_dom_classes": [],
            "_model_module": "@jupyter-widgets/controls",
            "_model_module_version": "1.5.0",
            "_model_name": "HTMLModel",
            "_view_count": null,
            "_view_module": "@jupyter-widgets/controls",
            "_view_module_version": "1.5.0",
            "_view_name": "HTMLView",
            "description": "",
            "description_tooltip": null,
            "layout": "IPY_MODEL_64f901a2973048e3bfca19b0346b9cb9",
            "placeholder": "​",
            "style": "IPY_MODEL_d3510d9af4014a7e8a6cf9c419170278",
            "value": "100%"
          }
        },
        "a56a4050e54a4b2391fb580c04166f87": {
          "model_module": "@jupyter-widgets/controls",
          "model_name": "FloatProgressModel",
          "model_module_version": "1.5.0",
          "state": {
            "_dom_classes": [],
            "_model_module": "@jupyter-widgets/controls",
            "_model_module_version": "1.5.0",
            "_model_name": "FloatProgressModel",
            "_view_count": null,
            "_view_module": "@jupyter-widgets/controls",
            "_view_module_version": "1.5.0",
            "_view_name": "ProgressView",
            "bar_style": "success",
            "description": "",
            "description_tooltip": null,
            "layout": "IPY_MODEL_e1fa806d8b7242ff8b602d7db7258532",
            "max": 170498071,
            "min": 0,
            "orientation": "horizontal",
            "style": "IPY_MODEL_ed49f31982ca4c4cae8454bd8ab0ff38",
            "value": 170498071
          }
        },
        "682f6d5073cb4f8696fa1b0f1d1cebd2": {
          "model_module": "@jupyter-widgets/controls",
          "model_name": "HTMLModel",
          "model_module_version": "1.5.0",
          "state": {
            "_dom_classes": [],
            "_model_module": "@jupyter-widgets/controls",
            "_model_module_version": "1.5.0",
            "_model_name": "HTMLModel",
            "_view_count": null,
            "_view_module": "@jupyter-widgets/controls",
            "_view_module_version": "1.5.0",
            "_view_name": "HTMLView",
            "description": "",
            "description_tooltip": null,
            "layout": "IPY_MODEL_e5350309e386418494321a33bac1d806",
            "placeholder": "​",
            "style": "IPY_MODEL_48a686fbe0eb4334902d778db49b6784",
            "value": " 170498071/170498071 [00:03&lt;00:00, 53779957.24it/s]"
          }
        },
        "0f83ce0d92b04b0f9297f3023a0ffd7f": {
          "model_module": "@jupyter-widgets/base",
          "model_name": "LayoutModel",
          "model_module_version": "1.2.0",
          "state": {
            "_model_module": "@jupyter-widgets/base",
            "_model_module_version": "1.2.0",
            "_model_name": "LayoutModel",
            "_view_count": null,
            "_view_module": "@jupyter-widgets/base",
            "_view_module_version": "1.2.0",
            "_view_name": "LayoutView",
            "align_content": null,
            "align_items": null,
            "align_self": null,
            "border": null,
            "bottom": null,
            "display": null,
            "flex": null,
            "flex_flow": null,
            "grid_area": null,
            "grid_auto_columns": null,
            "grid_auto_flow": null,
            "grid_auto_rows": null,
            "grid_column": null,
            "grid_gap": null,
            "grid_row": null,
            "grid_template_areas": null,
            "grid_template_columns": null,
            "grid_template_rows": null,
            "height": null,
            "justify_content": null,
            "justify_items": null,
            "left": null,
            "margin": null,
            "max_height": null,
            "max_width": null,
            "min_height": null,
            "min_width": null,
            "object_fit": null,
            "object_position": null,
            "order": null,
            "overflow": null,
            "overflow_x": null,
            "overflow_y": null,
            "padding": null,
            "right": null,
            "top": null,
            "visibility": null,
            "width": null
          }
        },
        "64f901a2973048e3bfca19b0346b9cb9": {
          "model_module": "@jupyter-widgets/base",
          "model_name": "LayoutModel",
          "model_module_version": "1.2.0",
          "state": {
            "_model_module": "@jupyter-widgets/base",
            "_model_module_version": "1.2.0",
            "_model_name": "LayoutModel",
            "_view_count": null,
            "_view_module": "@jupyter-widgets/base",
            "_view_module_version": "1.2.0",
            "_view_name": "LayoutView",
            "align_content": null,
            "align_items": null,
            "align_self": null,
            "border": null,
            "bottom": null,
            "display": null,
            "flex": null,
            "flex_flow": null,
            "grid_area": null,
            "grid_auto_columns": null,
            "grid_auto_flow": null,
            "grid_auto_rows": null,
            "grid_column": null,
            "grid_gap": null,
            "grid_row": null,
            "grid_template_areas": null,
            "grid_template_columns": null,
            "grid_template_rows": null,
            "height": null,
            "justify_content": null,
            "justify_items": null,
            "left": null,
            "margin": null,
            "max_height": null,
            "max_width": null,
            "min_height": null,
            "min_width": null,
            "object_fit": null,
            "object_position": null,
            "order": null,
            "overflow": null,
            "overflow_x": null,
            "overflow_y": null,
            "padding": null,
            "right": null,
            "top": null,
            "visibility": null,
            "width": null
          }
        },
        "d3510d9af4014a7e8a6cf9c419170278": {
          "model_module": "@jupyter-widgets/controls",
          "model_name": "DescriptionStyleModel",
          "model_module_version": "1.5.0",
          "state": {
            "_model_module": "@jupyter-widgets/controls",
            "_model_module_version": "1.5.0",
            "_model_name": "DescriptionStyleModel",
            "_view_count": null,
            "_view_module": "@jupyter-widgets/base",
            "_view_module_version": "1.2.0",
            "_view_name": "StyleView",
            "description_width": ""
          }
        },
        "e1fa806d8b7242ff8b602d7db7258532": {
          "model_module": "@jupyter-widgets/base",
          "model_name": "LayoutModel",
          "model_module_version": "1.2.0",
          "state": {
            "_model_module": "@jupyter-widgets/base",
            "_model_module_version": "1.2.0",
            "_model_name": "LayoutModel",
            "_view_count": null,
            "_view_module": "@jupyter-widgets/base",
            "_view_module_version": "1.2.0",
            "_view_name": "LayoutView",
            "align_content": null,
            "align_items": null,
            "align_self": null,
            "border": null,
            "bottom": null,
            "display": null,
            "flex": null,
            "flex_flow": null,
            "grid_area": null,
            "grid_auto_columns": null,
            "grid_auto_flow": null,
            "grid_auto_rows": null,
            "grid_column": null,
            "grid_gap": null,
            "grid_row": null,
            "grid_template_areas": null,
            "grid_template_columns": null,
            "grid_template_rows": null,
            "height": null,
            "justify_content": null,
            "justify_items": null,
            "left": null,
            "margin": null,
            "max_height": null,
            "max_width": null,
            "min_height": null,
            "min_width": null,
            "object_fit": null,
            "object_position": null,
            "order": null,
            "overflow": null,
            "overflow_x": null,
            "overflow_y": null,
            "padding": null,
            "right": null,
            "top": null,
            "visibility": null,
            "width": null
          }
        },
        "ed49f31982ca4c4cae8454bd8ab0ff38": {
          "model_module": "@jupyter-widgets/controls",
          "model_name": "ProgressStyleModel",
          "model_module_version": "1.5.0",
          "state": {
            "_model_module": "@jupyter-widgets/controls",
            "_model_module_version": "1.5.0",
            "_model_name": "ProgressStyleModel",
            "_view_count": null,
            "_view_module": "@jupyter-widgets/base",
            "_view_module_version": "1.2.0",
            "_view_name": "StyleView",
            "bar_color": null,
            "description_width": ""
          }
        },
        "e5350309e386418494321a33bac1d806": {
          "model_module": "@jupyter-widgets/base",
          "model_name": "LayoutModel",
          "model_module_version": "1.2.0",
          "state": {
            "_model_module": "@jupyter-widgets/base",
            "_model_module_version": "1.2.0",
            "_model_name": "LayoutModel",
            "_view_count": null,
            "_view_module": "@jupyter-widgets/base",
            "_view_module_version": "1.2.0",
            "_view_name": "LayoutView",
            "align_content": null,
            "align_items": null,
            "align_self": null,
            "border": null,
            "bottom": null,
            "display": null,
            "flex": null,
            "flex_flow": null,
            "grid_area": null,
            "grid_auto_columns": null,
            "grid_auto_flow": null,
            "grid_auto_rows": null,
            "grid_column": null,
            "grid_gap": null,
            "grid_row": null,
            "grid_template_areas": null,
            "grid_template_columns": null,
            "grid_template_rows": null,
            "height": null,
            "justify_content": null,
            "justify_items": null,
            "left": null,
            "margin": null,
            "max_height": null,
            "max_width": null,
            "min_height": null,
            "min_width": null,
            "object_fit": null,
            "object_position": null,
            "order": null,
            "overflow": null,
            "overflow_x": null,
            "overflow_y": null,
            "padding": null,
            "right": null,
            "top": null,
            "visibility": null,
            "width": null
          }
        },
        "48a686fbe0eb4334902d778db49b6784": {
          "model_module": "@jupyter-widgets/controls",
          "model_name": "DescriptionStyleModel",
          "model_module_version": "1.5.0",
          "state": {
            "_model_module": "@jupyter-widgets/controls",
            "_model_module_version": "1.5.0",
            "_model_name": "DescriptionStyleModel",
            "_view_count": null,
            "_view_module": "@jupyter-widgets/base",
            "_view_module_version": "1.2.0",
            "_view_name": "StyleView",
            "description_width": ""
          }
        }
      }
    }
  },
  "cells": [
    {
      "cell_type": "markdown",
      "source": [
        "# 초기 세팅"
      ],
      "metadata": {
        "id": "cdNvme8aKSBP"
      }
    },
    {
      "cell_type": "code",
      "metadata": {
        "id": "P1v9luAfHXdz"
      },
      "source": [
        "import torch\n",
        "import torch.nn as nn\n",
        "import torch.nn.functional as F\n",
        "import torch.optim as optim\n",
        "from torch.utils.data import Dataset, DataLoader\n",
        "\n",
        "import torchvision\n",
        "import torchvision.datasets as datasets\n",
        "import torchvision.transforms as transforms\n",
        "\n",
        "import numpy as np\n",
        "import matplotlib.pyplot as plt\n",
        "plt.style.use('seaborn-white')"
      ],
      "execution_count": 1,
      "outputs": []
    },
    {
      "cell_type": "code",
      "source": [
        "!pip install torchsummary\n",
        "from torchsummary import summary"
      ],
      "metadata": {
        "colab": {
          "base_uri": "https://localhost:8080/"
        },
        "id": "D39aCPyTu2Ce",
        "outputId": "667da23f-ab01-4c4d-987b-5fe60d833131"
      },
      "execution_count": 2,
      "outputs": [
        {
          "output_type": "stream",
          "name": "stdout",
          "text": [
            "Looking in indexes: https://pypi.org/simple, https://us-python.pkg.dev/colab-wheels/public/simple/\n",
            "Requirement already satisfied: torchsummary in /usr/local/lib/python3.8/dist-packages (1.5.1)\n"
          ]
        }
      ]
    },
    {
      "cell_type": "markdown",
      "metadata": {
        "id": "02LdHlTTSz5L"
      },
      "source": [
        "- 현재 GPU 설정"
      ]
    },
    {
      "cell_type": "code",
      "metadata": {
        "id": "Ybsjn80uSx3X",
        "colab": {
          "base_uri": "https://localhost:8080/"
        },
        "outputId": "3b6db1d3-73de-427a-c606-388bfac8ca4f"
      },
      "source": [
        "# colab의 runtime-type을 GPU로 설정해서, True가 나오도록 한다.\n",
        "\n",
        "torch.cuda.is_available()"
      ],
      "execution_count": 3,
      "outputs": [
        {
          "output_type": "execute_result",
          "data": {
            "text/plain": [
              "True"
            ]
          },
          "metadata": {},
          "execution_count": 3
        }
      ]
    },
    {
      "cell_type": "code",
      "metadata": {
        "id": "HlPZI5wfDQhv",
        "colab": {
          "base_uri": "https://localhost:8080/"
        },
        "outputId": "7fb9085e-b81f-462e-d278-d5b35e337a92"
      },
      "source": [
        "use_cuda = torch.cuda.is_available()\n",
        "device = torch.device(\"cuda\" if use_cuda else \"cpu\")\n",
        "device"
      ],
      "execution_count": 5,
      "outputs": [
        {
          "output_type": "execute_result",
          "data": {
            "text/plain": [
              "device(type='cuda')"
            ]
          },
          "metadata": {},
          "execution_count": 5
        }
      ]
    },
    {
      "cell_type": "markdown",
      "source": [
        "# CIFAR10 분류 모델\n",
        "* R/G/B(3) 이미지 데이터 분류\n",
        "* 32x32 pixel"
      ],
      "metadata": {
        "id": "jqQF4qWUywYV"
      }
    },
    {
      "cell_type": "markdown",
      "metadata": {
        "id": "wD3z029XPFK0"
      },
      "source": [
        "## 전처리 설정"
      ]
    },
    {
      "cell_type": "code",
      "metadata": {
        "id": "4u3-pXWIPCiM"
      },
      "source": [
        "# transform 정의\n",
        "\n",
        "CIFAR_transform = transforms.Compose([transforms.ToTensor(),\n",
        "                                      transforms.Normalize((0.5, 0.5, 0.5), (0.5, 0.5, 0.5))]) # r,g,b 데이터임으로, 3개의 인자값 전달"
      ],
      "execution_count": 6,
      "outputs": []
    },
    {
      "cell_type": "markdown",
      "metadata": {
        "id": "a4HzFx19PNYv"
      },
      "source": [
        "## 데이터 로드 및 확인"
      ]
    },
    {
      "cell_type": "code",
      "metadata": {
        "id": "ctstlIt_PM9z",
        "colab": {
          "base_uri": "https://localhost:8080/",
          "height": 104,
          "referenced_widgets": [
            "0df27c57566448c6be9330e07fb3f520",
            "0bd39cc1a7fb46879374031801c323ae",
            "a56a4050e54a4b2391fb580c04166f87",
            "682f6d5073cb4f8696fa1b0f1d1cebd2",
            "0f83ce0d92b04b0f9297f3023a0ffd7f",
            "64f901a2973048e3bfca19b0346b9cb9",
            "d3510d9af4014a7e8a6cf9c419170278",
            "e1fa806d8b7242ff8b602d7db7258532",
            "ed49f31982ca4c4cae8454bd8ab0ff38",
            "e5350309e386418494321a33bac1d806",
            "48a686fbe0eb4334902d778db49b6784"
          ]
        },
        "outputId": "206af967-7f80-487d-ca9e-b90dcb968e8e"
      },
      "source": [
        "# datasets\n",
        "\n",
        "trainset = torchvision.datasets.CIFAR10(root='/content',\n",
        "                                 train=True, download=True,\n",
        "                                 transform=CIFAR_transform)\n",
        "\n",
        "testset = torchvision.datasets.CIFAR10(root='/content',\n",
        "                                 train=False, download=True,\n",
        "                                 transform=CIFAR_transform)"
      ],
      "execution_count": 7,
      "outputs": [
        {
          "output_type": "stream",
          "name": "stdout",
          "text": [
            "Downloading https://www.cs.toronto.edu/~kriz/cifar-10-python.tar.gz to /content/cifar-10-python.tar.gz\n"
          ]
        },
        {
          "output_type": "display_data",
          "data": {
            "text/plain": [
              "  0%|          | 0/170498071 [00:00<?, ?it/s]"
            ],
            "application/vnd.jupyter.widget-view+json": {
              "version_major": 2,
              "version_minor": 0,
              "model_id": "0df27c57566448c6be9330e07fb3f520"
            }
          },
          "metadata": {}
        },
        {
          "output_type": "stream",
          "name": "stdout",
          "text": [
            "Extracting /content/cifar-10-python.tar.gz to /content\n",
            "Files already downloaded and verified\n"
          ]
        }
      ]
    },
    {
      "cell_type": "code",
      "metadata": {
        "id": "wTkTcictPTyY"
      },
      "source": [
        "# DataLoader\n",
        "\n",
        "# batch-size = 4\n",
        "\n",
        "train_loader =  DataLoader(trainset, batch_size=4, shuffle=True, num_workers=2)\n",
        "test_loader =  DataLoader(testset, batch_size=4, shuffle=False, num_workers=2)"
      ],
      "execution_count": 8,
      "outputs": []
    },
    {
      "cell_type": "code",
      "source": [
        "# 숫자 label에 해당되는 값\n",
        "\n",
        "class_list = ('plane', 'car', 'bird', 'cat', 'deer',\n",
        "           'dog', 'frog', 'horse', 'ship', 'truck')"
      ],
      "metadata": {
        "id": "-lxqiKWGy-sP"
      },
      "execution_count": 9,
      "outputs": []
    },
    {
      "cell_type": "code",
      "metadata": {
        "id": "_6IsY5CrPZ5e",
        "colab": {
          "base_uri": "https://localhost:8080/",
          "height": 153
        },
        "outputId": "6efd33a6-bf33-44a7-a378-a47317ccb4f5"
      },
      "source": [
        "def imshow(img):\n",
        "    img = img / 2 + 0.5\n",
        "    npimg = img.numpy()\n",
        "    plt.imshow(np.transpose(npimg, (1,2,0)))\n",
        "    plt.show()\n",
        "\n",
        "dataiter = iter(train_loader)\n",
        "images, labels = next(dataiter)\n",
        "\n",
        "imshow(torchvision.utils.make_grid(images))\n",
        "print(' '.join('{}\\t'.format(class_list[labels[j]]) for j in range(4)))"
      ],
      "execution_count": 10,
      "outputs": [
        {
          "output_type": "display_data",
          "data": {
            "text/plain": [
              "<Figure size 432x288 with 1 Axes>"
            ],
            "image/png": "[encoded data removed]"
          },
          "metadata": {}
        },
        {
          "output_type": "stream",
          "name": "stdout",
          "text": [
            "bird\t bird\t dog\t dog\t\n"
          ]
        }
      ]
    },
    {
      "cell_type": "markdown",
      "metadata": {
        "id": "hZgB4eq0Pk6c"
      },
      "source": [
        "## 모델 생성"
      ]
    },
    {
      "cell_type": "markdown",
      "source": [
        "* input size = 4 * 3 * 32 * 32\n",
        "* output size = 4 * 10\n",
        "* 모델 조건\n",
        "> * convolution-layer : 2개 이상 사용\n",
        "> * maxpooling-layer : 1개 이상 사용\n",
        "> * fc-layer : 2개 이상 사용\n",
        "> * activation-function 으로 'relu' 사용"
      ],
      "metadata": {
        "id": "aNeryJhl3GhR"
      }
    },
    {
      "cell_type": "code",
      "source": [
        "class Net(nn.Module):\n",
        "\n",
        "  def __init__(self):\n",
        "    super(Net, self).__init__()\n",
        "\n",
        "    ##Convolution Layers\n",
        "\n",
        "    self.conv1 = nn.Conv2d(3, 6, 3, 1, 1) \n",
        "    #in_ch=3, out_ch=6, kernel=3, stride=1, padding=1\n",
        "    #in_dim=32, out_dim=32\n",
        "\n",
        "    #maxpooling 2*2 => out_dim=16\n",
        "\n",
        "    self.conv2 = nn.Conv2d(6, 16, 3, 1, 1)\n",
        "    #in_ch=6, out_ch=16, kernel=3, stride=1, padding=1\n",
        "    #in_dim=16, out_dim=16    \n",
        "\n",
        "    #maxpooling 2*2 => out_dim=8\n",
        "\n",
        "    self.conv3 = nn.Conv2d(16, 30, 3, 1, 1)\n",
        "    #in_ch=16, out_ch=30, kernel=3, stride=1, padding=1\n",
        "    #in_dim=8, out_dim=8    \n",
        "\n",
        "    #maxpooling 2*2 => out_dim=4\n",
        "\n",
        "    ##Fully Connected Layers\n",
        "\n",
        "    #flatten: 30*4*4 = 480\n",
        "\n",
        "    self.fc1 = nn.Linear(480, 120) \n",
        "    self.fc2 = nn.Linear(120, 84)\n",
        "    self.fc3 = nn.Linear(84, 32)\n",
        "    self.fc4 = nn.Linear(32, 10)\n",
        "    \n",
        "\n",
        "  def forward(self, x):\n",
        "\n",
        "    x = self.conv1(x) #6*32*32\n",
        "    x = F.relu(x) #6*32*32\n",
        "\n",
        "    x = F.max_pool2d(x, 2) #6*16*16\n",
        "\n",
        "    x = self.conv2(x) #16*16*16\n",
        "    x = F.relu(x) #16*16*16\n",
        "\n",
        "    x = F.max_pool2d(x, 2) #16*8*8\n",
        "\n",
        "    x = self.conv3(x) #30*8*8\n",
        "    x = F.relu(x) #30*8*8\n",
        "\n",
        "    x = F.max_pool2d(x, 2) #30*4*4\n",
        "\n",
        "    x = x.view(-1, self.num_flat_features(x)) #flatten=1*480\n",
        "\n",
        "    x = self.fc1(x) #1*120\n",
        "    x = F.relu(x) #1*120\n",
        "    x = self.fc2(x) #1*84\n",
        "    x = F.relu(x) #1*84\n",
        "    x = self.fc3(x) #1*32\n",
        "    x = F.relu(x) #1*32\n",
        "    x = self.fc4(x) #1*10\n",
        "\n",
        "    return x\n",
        "\n",
        "  def num_flat_features(self, x):\n",
        "    size = x.size()[1:] #이미지 개수를 제외한, 채널과 가로와 세로 길이\n",
        "    num_features = 1 \n",
        "    for s in size: \n",
        "      num_features *= s #를 다 곱해줌\n",
        "\n",
        "    return num_features\n"
      ],
      "metadata": {
        "id": "Z_8LDNhW9ku3"
      },
      "execution_count": 124,
      "outputs": []
    },
    {
      "cell_type": "code",
      "source": [
        "myNet = Net().to(device) # gpu에 모델 저장\n",
        "print(myNet)"
      ],
      "metadata": {
        "id": "P5ZAjWK03iQ_",
        "colab": {
          "base_uri": "https://localhost:8080/"
        },
        "outputId": "9c004b77-8388-40e7-b5fe-24645cc019eb"
      },
      "execution_count": 125,
      "outputs": [
        {
          "output_type": "stream",
          "name": "stdout",
          "text": [
            "Net(\n",
            "  (conv1): Conv2d(3, 6, kernel_size=(3, 3), stride=(1, 1), padding=(1, 1))\n",
            "  (conv2): Conv2d(6, 16, kernel_size=(3, 3), stride=(1, 1), padding=(1, 1))\n",
            "  (conv3): Conv2d(16, 30, kernel_size=(3, 3), stride=(1, 1), padding=(1, 1))\n",
            "  (fc1): Linear(in_features=480, out_features=120, bias=True)\n",
            "  (fc2): Linear(in_features=120, out_features=84, bias=True)\n",
            "  (fc3): Linear(in_features=84, out_features=32, bias=True)\n",
            "  (fc4): Linear(in_features=32, out_features=10, bias=True)\n",
            ")\n"
          ]
        }
      ]
    },
    {
      "cell_type": "code",
      "source": [
        "# input; (4 * 3 * 32 * 32)\n",
        "\n",
        "input = images.to(device)\n",
        "input.size()"
      ],
      "metadata": {
        "colab": {
          "base_uri": "https://localhost:8080/"
        },
        "id": "aC1MMHle3jid",
        "outputId": "5433155d-5f12-401b-ac50-6e6a81bfc72b"
      },
      "execution_count": 126,
      "outputs": [
        {
          "output_type": "execute_result",
          "data": {
            "text/plain": [
              "torch.Size([4, 3, 32, 32])"
            ]
          },
          "metadata": {},
          "execution_count": 126
        }
      ]
    },
    {
      "cell_type": "code",
      "source": [
        "# output; (4 * 10)\n",
        "\n",
        "output = myNet.forward(input)\n",
        "output.size()"
      ],
      "metadata": {
        "colab": {
          "base_uri": "https://localhost:8080/"
        },
        "id": "7gDLDD4Ajh4v",
        "outputId": "8af94a74-29be-4cd5-dca9-72fb41e86b88"
      },
      "execution_count": 127,
      "outputs": [
        {
          "output_type": "execute_result",
          "data": {
            "text/plain": [
              "torch.Size([4, 10])"
            ]
          },
          "metadata": {},
          "execution_count": 127
        }
      ]
    },
    {
      "cell_type": "code",
      "source": [
        "# output; (4 * 10)\n",
        "\n",
        "output = myNet.forward(input)\n",
        "output.size()"
      ],
      "metadata": {
        "colab": {
          "base_uri": "https://localhost:8080/"
        },
        "id": "UYxJZCGo3uPZ",
        "outputId": "e07ead3b-7487-41a1-ad4b-61e0a628da6a"
      },
      "execution_count": 128,
      "outputs": [
        {
          "output_type": "execute_result",
          "data": {
            "text/plain": [
              "torch.Size([4, 10])"
            ]
          },
          "metadata": {},
          "execution_count": 128
        }
      ]
    },
    {
      "cell_type": "code",
      "source": [
        "# 모델 구조 확인\n",
        "\n",
        "summary(myNet, input_size=(3, 32, 32), batch_size=4)"
      ],
      "metadata": {
        "id": "OS6RZEuB3wwa",
        "colab": {
          "base_uri": "https://localhost:8080/"
        },
        "outputId": "56aec8ec-2fdb-44f7-fe3a-13d32952137c"
      },
      "execution_count": 129,
      "outputs": [
        {
          "output_type": "stream",
          "name": "stdout",
          "text": [
            "----------------------------------------------------------------\n",
            "        Layer (type)               Output Shape         Param #\n",
            "================================================================\n",
            "            Conv2d-1             [4, 6, 32, 32]             168\n",
            "            Conv2d-2            [4, 16, 16, 16]             880\n",
            "            Conv2d-3              [4, 30, 8, 8]           4,350\n",
            "            Linear-4                   [4, 120]          57,720\n",
            "            Linear-5                    [4, 84]          10,164\n",
            "            Linear-6                    [4, 32]           2,720\n",
            "            Linear-7                    [4, 10]             330\n",
            "================================================================\n",
            "Total params: 76,332\n",
            "Trainable params: 76,332\n",
            "Non-trainable params: 0\n",
            "----------------------------------------------------------------\n",
            "Input size (MB): 0.05\n",
            "Forward/backward pass size (MB): 0.38\n",
            "Params size (MB): 0.29\n",
            "Estimated Total Size (MB): 0.72\n",
            "----------------------------------------------------------------\n"
          ]
        }
      ]
    },
    {
      "cell_type": "markdown",
      "metadata": {
        "id": "gogmHThzPrjK"
      },
      "source": [
        "## 손실함수와 옵티마이저"
      ]
    },
    {
      "cell_type": "code",
      "metadata": {
        "id": "X5SzxufZPpel"
      },
      "source": [
        "criterion = nn.CrossEntropyLoss() # 다중분류; CrossEntropyLoss\n",
        "optimizer = optim.SGD(myNet.parameters(), lr=0.001, momentum=0.9) # SGD; lr=0.001 & momentum=0.9"
      ],
      "execution_count": 130,
      "outputs": []
    },
    {
      "cell_type": "markdown",
      "metadata": {
        "id": "_UnbIcKaPyQv"
      },
      "source": [
        "## 모델 학습"
      ]
    },
    {
      "cell_type": "code",
      "metadata": {
        "id": "jlWiR3LwPuwa",
        "colab": {
          "base_uri": "https://localhost:8080/"
        },
        "outputId": "64011931-444d-4bc7-958c-3262b3e9d324"
      },
      "source": [
        "# epochs = 10\n",
        "\n",
        "for epoch in range(10):\n",
        "    running_loss = 0.0\n",
        "\n",
        "    for i, data in enumerate(train_loader, 0):\n",
        "        inputs, labels = data[0].to(device), data[1].to(device)\n",
        "\n",
        "        optimizer.zero_grad() # epoch마다 gradient 0으로 초기화\n",
        "\n",
        "        outputs = myNet(inputs) # y_pred = f(X)\n",
        "        loss = criterion(outputs, labels) # CrossEntropyLoss; 0~1 사이값\n",
        "        loss.backward() # back-propagation; gradient 계산\n",
        "        optimizer.step() # parameters(weights) update\n",
        "\n",
        "        running_loss += loss.item()\n",
        "        if i % 2000 == 1999:\n",
        "            print(\"Epoch: {}, Batch: {}, Loss: {}\".format(epoch+1, i+1, running_loss/2000))\n",
        "            running_loss = 0.0"
      ],
      "execution_count": 131,
      "outputs": [
        {
          "output_type": "stream",
          "name": "stdout",
          "text": [
            "Epoch: 1, Batch: 2000, Loss: 2.304163484930992\n",
            "Epoch: 1, Batch: 4000, Loss: 2.3030360041856768\n",
            "Epoch: 1, Batch: 6000, Loss: 2.3011746413707734\n",
            "Epoch: 1, Batch: 8000, Loss: 2.2293106988072395\n",
            "Epoch: 1, Batch: 10000, Loss: 2.026610652089119\n",
            "Epoch: 1, Batch: 12000, Loss: 1.8273300442099571\n",
            "Epoch: 2, Batch: 2000, Loss: 1.690432062625885\n",
            "Epoch: 2, Batch: 4000, Loss: 1.5942566452473401\n",
            "Epoch: 2, Batch: 6000, Loss: 1.5004381077289581\n",
            "Epoch: 2, Batch: 8000, Loss: 1.4784086741656064\n",
            "Epoch: 2, Batch: 10000, Loss: 1.4012043959498406\n",
            "Epoch: 2, Batch: 12000, Loss: 1.3504339446648956\n",
            "Epoch: 3, Batch: 2000, Loss: 1.299457697197795\n",
            "Epoch: 3, Batch: 4000, Loss: 1.2756475310400128\n",
            "Epoch: 3, Batch: 6000, Loss: 1.2398287432417274\n",
            "Epoch: 3, Batch: 8000, Loss: 1.2225332652498038\n",
            "Epoch: 3, Batch: 10000, Loss: 1.213134088844061\n",
            "Epoch: 3, Batch: 12000, Loss: 1.177887775148265\n",
            "Epoch: 4, Batch: 2000, Loss: 1.1205784910023213\n",
            "Epoch: 4, Batch: 4000, Loss: 1.0980854513999074\n",
            "Epoch: 4, Batch: 6000, Loss: 1.0759165185373276\n",
            "Epoch: 4, Batch: 8000, Loss: 1.0863065895251929\n",
            "Epoch: 4, Batch: 10000, Loss: 1.0800087778670713\n",
            "Epoch: 4, Batch: 12000, Loss: 1.0534096878189594\n",
            "Epoch: 5, Batch: 2000, Loss: 0.9639620294366031\n",
            "Epoch: 5, Batch: 4000, Loss: 0.9828606471419334\n",
            "Epoch: 5, Batch: 6000, Loss: 0.989419916187413\n",
            "Epoch: 5, Batch: 8000, Loss: 0.9950800743186846\n",
            "Epoch: 5, Batch: 10000, Loss: 0.974973608281929\n",
            "Epoch: 5, Batch: 12000, Loss: 0.9855269466713071\n",
            "Epoch: 6, Batch: 2000, Loss: 0.9154231129754334\n",
            "Epoch: 6, Batch: 4000, Loss: 0.8991602098157163\n",
            "Epoch: 6, Batch: 6000, Loss: 0.9029919412541203\n",
            "Epoch: 6, Batch: 8000, Loss: 0.9188350162288407\n",
            "Epoch: 6, Batch: 10000, Loss: 0.9078257132268045\n",
            "Epoch: 6, Batch: 12000, Loss: 0.8923160249995999\n",
            "Epoch: 7, Batch: 2000, Loss: 0.8262301426049089\n",
            "Epoch: 7, Batch: 4000, Loss: 0.8436185637908057\n",
            "Epoch: 7, Batch: 6000, Loss: 0.8575375487762503\n",
            "Epoch: 7, Batch: 8000, Loss: 0.8676704010274261\n",
            "Epoch: 7, Batch: 10000, Loss: 0.8565685646142811\n",
            "Epoch: 7, Batch: 12000, Loss: 0.8658037155549974\n",
            "Epoch: 8, Batch: 2000, Loss: 0.7653856306932867\n",
            "Epoch: 8, Batch: 4000, Loss: 0.7750090387598612\n",
            "Epoch: 8, Batch: 6000, Loss: 0.7932411770019681\n",
            "Epoch: 8, Batch: 8000, Loss: 0.8194458288755267\n",
            "Epoch: 8, Batch: 10000, Loss: 0.8097651783188339\n",
            "Epoch: 8, Batch: 12000, Loss: 0.8198055049083196\n",
            "Epoch: 9, Batch: 2000, Loss: 0.7297367192490491\n",
            "Epoch: 9, Batch: 4000, Loss: 0.749192102481611\n",
            "Epoch: 9, Batch: 6000, Loss: 0.7715242995494045\n",
            "Epoch: 9, Batch: 8000, Loss: 0.7644033862976357\n",
            "Epoch: 9, Batch: 10000, Loss: 0.783588311753585\n",
            "Epoch: 9, Batch: 12000, Loss: 0.7840914741910529\n",
            "Epoch: 10, Batch: 2000, Loss: 0.7015175534971059\n",
            "Epoch: 10, Batch: 4000, Loss: 0.7125451405122876\n",
            "Epoch: 10, Batch: 6000, Loss: 0.7406241438926663\n",
            "Epoch: 10, Batch: 8000, Loss: 0.730954001795617\n",
            "Epoch: 10, Batch: 10000, Loss: 0.7692454830385977\n",
            "Epoch: 10, Batch: 12000, Loss: 0.7273572605142253\n"
          ]
        }
      ]
    },
    {
      "cell_type": "markdown",
      "metadata": {
        "id": "NqYnwxJ3P8Gb"
      },
      "source": [
        "## 모델의 저장 및 로드"
      ]
    },
    {
      "cell_type": "code",
      "metadata": {
        "id": "keqtypx1QY6t",
        "colab": {
          "base_uri": "https://localhost:8080/",
          "height": 0
        },
        "outputId": "c4afe575-8c02-420c-a5e2-54443cf81afc"
      },
      "source": [
        "# 잘 학습된 모델인지 간단히 한 batch에 대해서 확인\n",
        "\n",
        "dataiter = iter(test_loader)\n",
        "images, labels = next(dataiter)\n",
        "\n",
        "imshow(torchvision.utils.make_grid(images))\n",
        "print(' '.join('\\t{}'.format(class_list[labels[j]]) for j in range(4))) # batch-size = 4"
      ],
      "execution_count": 132,
      "outputs": [
        {
          "output_type": "display_data",
          "data": {
            "text/plain": [
              "<Figure size 432x288 with 1 Axes>"
            ],
            "image/png": "[encoded data removed]"
          },
          "metadata": {}
        },
        {
          "output_type": "stream",
          "name": "stdout",
          "text": [
            "\tcat \tship \tship \tplane\n"
          ]
        }
      ]
    },
    {
      "cell_type": "code",
      "metadata": {
        "id": "z6UYtCT4P3Tj"
      },
      "source": [
        "# 저장\n",
        "\n",
        "PATH = './cifar_net.pth'\n",
        "torch.save(myNet.state_dict(), PATH)"
      ],
      "execution_count": 133,
      "outputs": []
    },
    {
      "cell_type": "code",
      "metadata": {
        "id": "FfsXzP9NQbMg",
        "colab": {
          "base_uri": "https://localhost:8080/"
        },
        "outputId": "6c5f263f-802b-4985-f43b-fa39f3731e94"
      },
      "source": [
        "# 불러오기\n",
        "\n",
        "Loaded_Net = Net().to(device)\n",
        "Loaded_Net.load_state_dict(torch.load(PATH))"
      ],
      "execution_count": 134,
      "outputs": [
        {
          "output_type": "execute_result",
          "data": {
            "text/plain": [
              "<All keys matched successfully>"
            ]
          },
          "metadata": {},
          "execution_count": 134
        }
      ]
    },
    {
      "cell_type": "markdown",
      "metadata": {
        "id": "1dvGiVkrQ2cf"
      },
      "source": [
        "## 모델 테스트\n",
        "* 조건\n",
        "> 전체 accuracy가 70% 이상이어야한다.<br>\n",
        "> 각각의 class에 대한 accuracy는 60% 이상이어야한다."
      ]
    },
    {
      "cell_type": "code",
      "metadata": {
        "id": "ajGFbhDvQtlp",
        "colab": {
          "base_uri": "https://localhost:8080/"
        },
        "outputId": "6ab1194a-3c04-4e24-9bf0-e5fa7eb112ac"
      },
      "source": [
        "# 전체 accuracy 확인; 70% 이상 성능값\n",
        "\n",
        "correct = 0\n",
        "total = 0\n",
        "\n",
        "with torch.no_grad():\n",
        "    for data in test_loader:\n",
        "        images, labels = data[0].to(device), data[1].to(device)                                     \n",
        "        outputs = myNet(images)                                           \n",
        "        _, predicted = torch.max(outputs.data, axis=1)  # 확률이 가장 큰 것의 label을 최종 예측값으로 선택\n",
        "        total += labels.size(0) # 전체 갯수\n",
        "        correct += (predicted == labels).sum().item()   # 맞춘 갯수\n",
        "    \n",
        "    print(100 * correct / total)"
      ],
      "execution_count": 135,
      "outputs": [
        {
          "output_type": "stream",
          "name": "stdout",
          "text": [
            "66.78\n"
          ]
        }
      ]
    },
    {
      "cell_type": "markdown",
      "metadata": {
        "id": "trWVf5YvRYI0"
      },
      "source": [
        "- 어떤 것을 잘 분류했고, 잘 못했는지 확인"
      ]
    },
    {
      "cell_type": "code",
      "metadata": {
        "id": "P9p7QKhDQzpC",
        "colab": {
          "base_uri": "https://localhost:8080/"
        },
        "outputId": "636576b9-9302-4696-fcaf-080d130afc93"
      },
      "source": [
        "# 각각의 class에 대한 accuracy 확인; 각각의 class에 대한 60% 이상 성능값\n",
        "\n",
        "class_correct = list(0. for i in range(10))\n",
        "class_total = list(0. for i in range(10))\n",
        "\n",
        "with torch.no_grad():\n",
        "    for data in test_loader:\n",
        "        images, labels = data[0].to(device), data[1].to(device)\n",
        "        outputs = Loaded_Net(images)\n",
        "        _, predicted = torch.max(outputs.data, axis=1)\n",
        "        c = (predicted == labels).squeeze()\n",
        "        for i in range(4): # 각각의 batch(batch-size : 4) 마다 계산\n",
        "            label = labels[i]\n",
        "            class_correct[label] += c[i].item()\n",
        "            class_total[label] += 1\n",
        "\n",
        "for i in range(10):\n",
        "    print(\"Accuracy of {}: {}%\".format(class_list[i], 100 * class_correct[i] / class_total[i]))"
      ],
      "execution_count": 136,
      "outputs": [
        {
          "output_type": "stream",
          "name": "stdout",
          "text": [
            "Accuracy of plane: 72.1%\n",
            "Accuracy of car: 79.0%\n",
            "Accuracy of bird: 61.0%\n",
            "Accuracy of cat: 51.7%\n",
            "Accuracy of deer: 67.0%\n",
            "Accuracy of dog: 39.1%\n",
            "Accuracy of frog: 71.3%\n",
            "Accuracy of horse: 71.7%\n",
            "Accuracy of ship: 76.1%\n",
            "Accuracy of truck: 78.8%\n"
          ]
        }
      ]
    }
  ]
}