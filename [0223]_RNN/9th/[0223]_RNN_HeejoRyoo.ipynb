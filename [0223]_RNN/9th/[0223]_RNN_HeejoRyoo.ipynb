{
  "cells": [
    {
      "cell_type": "markdown",
      "metadata": {
        "id": "j3Y6776trw55"
      },
      "source": [
        "과제 내용 : 기계 독해 (LSTM 기반 영영화 긍/부정 결과 데이터셋 결과 기반 예측.)\n",
        "\n",
        "\n",
        "#Mission! : \n",
        "\n",
        "vocab tockenizer, batch 크기 등과 \n",
        "\n",
        "LSTM 모델의 하이퍼파라미터를 튜닝해서 최대한 \n",
        "\n",
        "Accuracy를 올려보세요!"
      ]
    },
    {
      "cell_type": "code",
      "execution_count": null,
      "metadata": {
        "id": "jxVcjfmb6yFi"
      },
      "outputs": [],
      "source": [
        "import pandas as pd\n",
        "import torch\n",
        "from torch.utils.data import Dataset, DataLoader"
      ]
    },
    {
      "cell_type": "code",
      "execution_count": null,
      "metadata": {
        "id": "qyfeXyTH2NDD"
      },
      "outputs": [],
      "source": [
        "import torch\n",
        "import torch.nn as nn\n",
        "import urllib.request\n",
        "DEVICE = torch.device(\"cuda\") if torch.cuda.is_available() else torch.device(\"cpu\")"
      ]
    },
    {
      "cell_type": "markdown",
      "metadata": {
        "id": "ta-kBihxezTJ"
      },
      "source": [
        "데이터 깃헙에서 받아주겠습니다. 대표적인 영어데이터인 IMDB 리뷰데이터입니다."
      ]
    },
    {
      "cell_type": "code",
      "execution_count": null,
      "metadata": {
        "colab": {
          "base_uri": "https://localhost:8080/"
        },
        "id": "KDb7rV4re5Rv",
        "outputId": "daf0c060-8091-4c8b-bbd8-6f63e2af40b4"
      },
      "outputs": [
        {
          "output_type": "execute_result",
          "data": {
            "text/plain": [
              "('IMDb_Reviews.csv', <http.client.HTTPMessage at 0x7f6e2b0c1640>)"
            ]
          },
          "metadata": {},
          "execution_count": 20
        }
      ],
      "source": [
        "urllib.request.urlretrieve(\"https://raw.githubusercontent.com/LawrenceDuan/IMDb-Review-Analysis/master/IMDb_Reviews.csv\", filename=\"IMDb_Reviews.csv\")"
      ]
    },
    {
      "cell_type": "code",
      "execution_count": null,
      "metadata": {
        "colab": {
          "base_uri": "https://localhost:8080/",
          "height": 206
        },
        "id": "wEgQAv40fAvl",
        "outputId": "4dd85f97-f5d9-4b42-d519-bfd49a3c4dd3"
      },
      "outputs": [
        {
          "output_type": "execute_result",
          "data": {
            "text/plain": [
              "                                              review  sentiment\n",
              "0  My family and I normally do not watch local mo...          1\n",
              "1  Believe it or not, this was at one time the wo...          0\n",
              "2  After some internet surfing, I found the \"Home...          0\n",
              "3  One of the most unheralded great works of anim...          1\n",
              "4  It was the Sixties, and anyone with long hair ...          0"
            ],
            "text/html": [
              "\n",
              "  <div id=\"df-ac47f9db-6f71-4abb-bcf8-708e74fc73ab\">\n",
              "    <div class=\"colab-df-container\">\n",
              "      <div>\n",
              "<style scoped>\n",
              "    .dataframe tbody tr th:only-of-type {\n",
              "        vertical-align: middle;\n",
              "    }\n",
              "\n",
              "    .dataframe tbody tr th {\n",
              "        vertical-align: top;\n",
              "    }\n",
              "\n",
              "    .dataframe thead th {\n",
              "        text-align: right;\n",
              "    }\n",
              "</style>\n",
              "<table border=\"1\" class=\"dataframe\">\n",
              "  <thead>\n",
              "    <tr style=\"text-align: right;\">\n",
              "      <th></th>\n",
              "      <th>review</th>\n",
              "      <th>sentiment</th>\n",
              "    </tr>\n",
              "  </thead>\n",
              "  <tbody>\n",
              "    <tr>\n",
              "      <th>0</th>\n",
              "      <td>My family and I normally do not watch local mo...</td>\n",
              "      <td>1</td>\n",
              "    </tr>\n",
              "    <tr>\n",
              "      <th>1</th>\n",
              "      <td>Believe it or not, this was at one time the wo...</td>\n",
              "      <td>0</td>\n",
              "    </tr>\n",
              "    <tr>\n",
              "      <th>2</th>\n",
              "      <td>After some internet surfing, I found the \"Home...</td>\n",
              "      <td>0</td>\n",
              "    </tr>\n",
              "    <tr>\n",
              "      <th>3</th>\n",
              "      <td>One of the most unheralded great works of anim...</td>\n",
              "      <td>1</td>\n",
              "    </tr>\n",
              "    <tr>\n",
              "      <th>4</th>\n",
              "      <td>It was the Sixties, and anyone with long hair ...</td>\n",
              "      <td>0</td>\n",
              "    </tr>\n",
              "  </tbody>\n",
              "</table>\n",
              "</div>\n",
              "      <button class=\"colab-df-convert\" onclick=\"convertToInteractive('df-ac47f9db-6f71-4abb-bcf8-708e74fc73ab')\"\n",
              "              title=\"Convert this dataframe to an interactive table.\"\n",
              "              style=\"display:none;\">\n",
              "        \n",
              "  <svg xmlns=\"http://www.w3.org/2000/svg\" height=\"24px\"viewBox=\"0 0 24 24\"\n",
              "       width=\"24px\">\n",
              "    <path d=\"M0 0h24v24H0V0z\" fill=\"none\"/>\n",
              "    <path d=\"M18.56 5.44l.94 2.06.94-2.06 2.06-.94-2.06-.94-.94-2.06-.94 2.06-2.06.94zm-11 1L8.5 8.5l.94-2.06 2.06-.94-2.06-.94L8.5 2.5l-.94 2.06-2.06.94zm10 10l.94 2.06.94-2.06 2.06-.94-2.06-.94-.94-2.06-.94 2.06-2.06.94z\"/><path d=\"M17.41 7.96l-1.37-1.37c-.4-.4-.92-.59-1.43-.59-.52 0-1.04.2-1.43.59L10.3 9.45l-7.72 7.72c-.78.78-.78 2.05 0 2.83L4 21.41c.39.39.9.59 1.41.59.51 0 1.02-.2 1.41-.59l7.78-7.78 2.81-2.81c.8-.78.8-2.07 0-2.86zM5.41 20L4 18.59l7.72-7.72 1.47 1.35L5.41 20z\"/>\n",
              "  </svg>\n",
              "      </button>\n",
              "      \n",
              "  <style>\n",
              "    .colab-df-container {\n",
              "      display:flex;\n",
              "      flex-wrap:wrap;\n",
              "      gap: 12px;\n",
              "    }\n",
              "\n",
              "    .colab-df-convert {\n",
              "      background-color: #E8F0FE;\n",
              "      border: none;\n",
              "      border-radius: 50%;\n",
              "      cursor: pointer;\n",
              "      display: none;\n",
              "      fill: #1967D2;\n",
              "      height: 32px;\n",
              "      padding: 0 0 0 0;\n",
              "      width: 32px;\n",
              "    }\n",
              "\n",
              "    .colab-df-convert:hover {\n",
              "      background-color: #E2EBFA;\n",
              "      box-shadow: 0px 1px 2px rgba(60, 64, 67, 0.3), 0px 1px 3px 1px rgba(60, 64, 67, 0.15);\n",
              "      fill: #174EA6;\n",
              "    }\n",
              "\n",
              "    [theme=dark] .colab-df-convert {\n",
              "      background-color: #3B4455;\n",
              "      fill: #D2E3FC;\n",
              "    }\n",
              "\n",
              "    [theme=dark] .colab-df-convert:hover {\n",
              "      background-color: #434B5C;\n",
              "      box-shadow: 0px 1px 3px 1px rgba(0, 0, 0, 0.15);\n",
              "      filter: drop-shadow(0px 1px 2px rgba(0, 0, 0, 0.3));\n",
              "      fill: #FFFFFF;\n",
              "    }\n",
              "  </style>\n",
              "\n",
              "      <script>\n",
              "        const buttonEl =\n",
              "          document.querySelector('#df-ac47f9db-6f71-4abb-bcf8-708e74fc73ab button.colab-df-convert');\n",
              "        buttonEl.style.display =\n",
              "          google.colab.kernel.accessAllowed ? 'block' : 'none';\n",
              "\n",
              "        async function convertToInteractive(key) {\n",
              "          const element = document.querySelector('#df-ac47f9db-6f71-4abb-bcf8-708e74fc73ab');\n",
              "          const dataTable =\n",
              "            await google.colab.kernel.invokeFunction('convertToInteractive',\n",
              "                                                     [key], {});\n",
              "          if (!dataTable) return;\n",
              "\n",
              "          const docLinkHtml = 'Like what you see? Visit the ' +\n",
              "            '<a target=\"_blank\" href=https://colab.research.google.com/notebooks/data_table.ipynb>data table notebook</a>'\n",
              "            + ' to learn more about interactive tables.';\n",
              "          element.innerHTML = '';\n",
              "          dataTable['output_type'] = 'display_data';\n",
              "          await google.colab.output.renderOutput(dataTable, element);\n",
              "          const docLink = document.createElement('div');\n",
              "          docLink.innerHTML = docLinkHtml;\n",
              "          element.appendChild(docLink);\n",
              "        }\n",
              "      </script>\n",
              "    </div>\n",
              "  </div>\n",
              "  "
            ]
          },
          "metadata": {},
          "execution_count": 21
        }
      ],
      "source": [
        "df = pd.read_csv('IMDb_Reviews.csv', encoding='utf-8')\n",
        "df.head()"
      ]
    },
    {
      "cell_type": "markdown",
      "metadata": {
        "id": "pQKBAY0jfJPR"
      },
      "source": [
        "첫 열은 영화 리뷰로, 둘째 열은 긍정/부정을 나타내는 열입니다. (긍정 1 부정 0)"
      ]
    },
    {
      "cell_type": "code",
      "execution_count": null,
      "metadata": {
        "colab": {
          "base_uri": "https://localhost:8080/"
        },
        "id": "dtQFjneifG-a",
        "outputId": "4d33ade3-d0bd-46e5-8b64-cf176a0f6485"
      },
      "outputs": [
        {
          "output_type": "stream",
          "name": "stdout",
          "text": [
            "전체 샘플의 개수 : 50000\n"
          ]
        }
      ],
      "source": [
        "print('전체 샘플의 개수 : {}'.format(len(df)))"
      ]
    },
    {
      "cell_type": "markdown",
      "metadata": {
        "id": "MKnwiUGgfVS7"
      },
      "source": [
        "샘플 개수 50000개, 4 대 1 로 나눠주겠습니다."
      ]
    },
    {
      "cell_type": "code",
      "execution_count": null,
      "metadata": {
        "id": "QTy6Z6H8fYc9"
      },
      "outputs": [],
      "source": [
        "train_datapipe = df[:40000]\n",
        "test_datapipe = df[40000:]"
      ]
    },
    {
      "cell_type": "markdown",
      "metadata": {
        "id": "2z_cSvex7geA"
      },
      "source": [
        "여러분의 커스텀 데이터셋을 만들어보세요. 아래 있는 코드를 쓰셔도 좋고 개별 구글링 진행하셔도 좋습니다."
      ]
    },
    {
      "cell_type": "markdown",
      "metadata": {
        "id": "LVqLG8NbD1PG"
      },
      "source": [
        "https://towardsdatascience.com/how-to-use-datasets-and-dataloader-in-pytorch-for-custom-text-data-270eed7f7c00"
      ]
    },
    {
      "cell_type": "markdown",
      "source": [
        "Create a custom Dataset class"
      ],
      "metadata": {
        "id": "Z-vSM_D2BCcK"
      }
    },
    {
      "cell_type": "code",
      "source": [
        "class CustomTextDataset(Dataset):\n",
        "    def __init__(self, txt, labels):\n",
        "        self.labels = labels\n",
        "        self.text = text\n",
        "def __len__(self):\n",
        "        return len(self.labels)\n",
        "def __getitem__(self, idx):\n",
        "        label = self.labels[idx]\n",
        "        text = self.text[idx]\n",
        "        sample = {\"Text\": text, \"Class\": label}\n",
        "        return sample"
      ],
      "metadata": {
        "id": "oa_AmBytBHXe"
      },
      "execution_count": null,
      "outputs": []
    },
    {
      "cell_type": "markdown",
      "metadata": {
        "id": "NIhtjXX17v6L"
      },
      "source": [
        "Initialise the CustomTextDataset class\n"
      ]
    },
    {
      "cell_type": "code",
      "execution_count": null,
      "metadata": {
        "id": "_Ks6FYe_Eo3R"
      },
      "outputs": [],
      "source": [
        "import numpy as np"
      ]
    },
    {
      "cell_type": "code",
      "execution_count": null,
      "metadata": {
        "id": "8j_2kV8t7C8o"
      },
      "outputs": [],
      "source": [
        "# define data and class labels\n",
        "text = train_datapipe.review\n",
        "labels = train_datapipe.sentiment"
      ]
    },
    {
      "cell_type": "markdown",
      "source": [
        "# DataLoader\n",
        "(dataset, batch_size=1, shuffle=False, sampler=None,  batch_sampler=None, num_workers=0, collate_fn=None,\n",
        "pin_memory=False, drop_last=False, timeout=0,\n",
        "worker_init_fn=None)"
      ],
      "metadata": {
        "id": "UvFseCM_ZpDx"
      }
    },
    {
      "cell_type": "code",
      "execution_count": null,
      "metadata": {
        "colab": {
          "base_uri": "https://localhost:8080/"
        },
        "id": "eDwYC3hBGdCB",
        "outputId": "2901e8a7-9c3b-4128-fec9-3fe236dfbdf0"
      },
      "outputs": [
        {
          "output_type": "stream",
          "name": "stdout",
          "text": [
            "\n",
            "First iteration of data set:  (1, 'My family and I normally do not watch local movies for the simple reason that they are poorly made, they lack the depth, and just not worth our time.<br /><br />The trailer of \"Nasaan ka man\" caught my attention, my daughter in law\\'s and daughter\\'s so we took time out to watch it this afternoon. The movie exceeded our expectations. The cinematography was very good, the story beautiful and the acting awesome. Jericho Rosales was really very good, so\\'s Claudine Barretto. The fact that I despised Diether Ocampo proves he was effective at his role. I have never been this touched, moved and affected by a local movie before. Imagine a cynic like me dabbing my eyes at the end of the movie? Congratulations to Star Cinema!! Way to go, Jericho and Claudine!!') \n",
            "\n",
            "Length of data set:  40000 \n",
            "\n",
            "Entire data set:  "
          ]
        },
        {
          "output_type": "stream",
          "name": "stderr",
          "text": [
            "IOPub data rate exceeded.\n",
            "The notebook server will temporarily stop sending output\n",
            "to the client in order to avoid crashing it.\n",
            "To change this limit, set the config variable\n",
            "`--NotebookApp.iopub_data_rate_limit`.\n",
            "\n",
            "Current values:\n",
            "NotebookApp.iopub_data_rate_limit=1000000.0 (bytes/sec)\n",
            "NotebookApp.rate_limit_window=3.0 (secs)\n",
            "\n"
          ]
        }
      ],
      "source": [
        "# Import libraries\n",
        "import pandas as pd\n",
        "import torch\n",
        "from torch.utils.data import Dataset, DataLoader\n",
        "\n",
        "# create custom dataset class\n",
        "class CustomTextDataset(Dataset):\n",
        "    def __init__(self, text, labels):\n",
        "        self.labels = labels\n",
        "        self.text = text\n",
        "\n",
        "    def __len__(self):\n",
        "        return len(self.labels)\n",
        "\n",
        "    def __getitem__(self, idx):\n",
        "        label = self.labels[idx]\n",
        "        data = self.text[idx]\n",
        "        sample = (label, data)\n",
        "        return sample\n",
        "\n",
        "# define data and class labels\n",
        "text = text\n",
        "labels = labels\n",
        "\n",
        "# create Pandas DataFrame\n",
        "text_labels_df = pd.DataFrame({'Text': text, 'Labels': labels})\n",
        "\n",
        "# define data set object\n",
        "TD = CustomTextDataset(text_labels_df['Text'], text_labels_df['Labels'])\n",
        "\n",
        "# Display image and label.\n",
        "print('\\nFirst iteration of data set: ', next(iter(TD)), '\\n')\n",
        "\n",
        "# Print how many items are in the data set\n",
        "print('Length of data set: ', len(TD), '\\n')\n",
        "\n",
        "# Print entire data set\n",
        "print('Entire data set: ', list(DataLoader(TD)), '\\n')\n",
        "\n",
        "\n",
        "\n"
      ]
    },
    {
      "cell_type": "code",
      "source": [
        "from torchtext.data.utils import get_tokenizer\n",
        "from torchtext.vocab import build_vocab_from_iterator\n"
      ],
      "metadata": {
        "id": "qIWMoWNTufZU"
      },
      "execution_count": null,
      "outputs": []
    },
    {
      "cell_type": "markdown",
      "source": [
        "vocab tockenizer 설명 코랩랩\n",
        "\n",
        "https://colab.research.google.com/github/PyTorchKorea/tutorials-kr/blob/master/docs/_downloads/b5fa995b1432ebc93ea7bfe7ec9daed1/text_sentiment_ngrams_tutorial.ipynb#scrollTo=qUEEK7gmuxuC"
      ],
      "metadata": {
        "id": "lFMVPGyxHqLn"
      }
    },
    {
      "cell_type": "markdown",
      "metadata": {
        "id": "FG5hMxchI0yt"
      },
      "source": [
        "# LSTM 모델 구성"
      ]
    },
    {
      "cell_type": "markdown",
      "metadata": {
        "id": "7MYlHuIAnMDz"
      },
      "source": [
        "![image.png](data:image/png;base64,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)"
      ]
    },
    {
      "cell_type": "code",
      "execution_count": null,
      "metadata": {
        "id": "sDqoKWY4TnuQ"
      },
      "outputs": [],
      "source": [
        "class BasicLSTM(nn.Module):\n",
        "    def __init__(self, n_layers, hidden_dim, n_vocab, embed_dim, n_classes):\n",
        "        super(BasicLSTM, self).__init__()\n",
        "        print(\"Building Basic LSTM model...\")\n",
        "\n",
        "        \n",
        "        self.n_layers = n_layers \n",
        "        #n_vocab : Vocab 안에 있는 단어의 개수, embed_dim : 임베딩 된 단어 텐서가 갖는 차원 값(dimension)\n",
        "        self.embed = nn.Embedding(n_vocab, embed_dim)\n",
        "        self.hidden_dim = hidden_dim\n",
        "#---------------------------------------------- 여기 밑부터 작성해주세요~-------------------------------------------------\n",
        "        #앞에서 정의한 하이퍼 파라미터를 넣어 LSTM 정의\n",
        "        self.lstm = nn.LSTM(input_size=embed_dim, \n",
        "                            hidden_size=self.hidden_dim, \n",
        "                            num_layers=self.n_layers,\n",
        "                            batch_first=True)\n",
        "        \n",
        "        #Input: LSTM의 hidden state vector(context), Output : Class probability vector\n",
        "        self.out = nn.Linear(self.hidden_dim, n_classes)\n",
        "#----------------------------------------------여기까지-------------------------------------------------\n",
        "\n",
        "    def forward(self, x):\n",
        "        # Input data: 한 batch 내 모든 영화 평가 데이터\n",
        "        \n",
        "        x = self.embed(x)# 영화 평 임베딩\n",
        "\n",
        "        # 초기 hidden, cell state vector를 zero vector로 생성\n",
        "        h_0 = Variable(torch.zeros(self.n_layers, x.size(0), self.hidden_dim)).to(DEVICE)\n",
        "        c_0 = Variable(torch.zeros(self.n_layers, x.size(0), self.hidden_dim)).to(DEVICE)\n",
        "#------------------------------------------------여기 밑부터 작성해주세요-------------------------------------------------------------\n",
        "        output, (h_t, c_t) = self.lstm(x, (h_0, c_0)) \n",
        "        #print(h_t.shape)\n",
        "        #(1,64,h) ==> 64 batch-size,  h hidden_dimmension\n",
        "\n",
        "        # 영화 리뷰 배열들을 압축한 hidden state vector\n",
        "        # (batch_size, hidden_dim)형태의 텐서 추출\n",
        "        h_t = h_t.view(-1, self.hidden_dim)\n",
        "\n",
        "#-------------------------------------------------여기까지---------------------------------------------------------\n",
        "        # linear layer의 입력으로 주고, 각 클래스 별 결과 logit을 생성.\n",
        "        logit = self.out(h_t)  # [b, h] -> [b, o]\n",
        "        return logit\n"
      ]
    },
    {
      "cell_type": "code",
      "execution_count": null,
      "metadata": {
        "id": "CTEbzqkrTxPU"
      },
      "outputs": [],
      "source": [
        "def train(model, optimizer, train_iter):\n",
        "    model.train()\n",
        "    for b, batch in enumerate(train_iter):\n",
        "        x, y = batch.text.to(DEVICE), batch.label.to(DEVICE)\n",
        "        optimizer.zero_grad()# 매번 기울기를 새로 계산하기 위해서 zero 로 초기화\n",
        "        logit = model(x)#모델의 예측값 logit 계산\n",
        "        #print(y)\n",
        "        loss = F.cross_entropy(logit, y)# logit과 실제 label간의 오차를 구하고 기울기 계산\n",
        "        loss.backward()\n",
        "        optimizer.step()"
      ]
    },
    {
      "cell_type": "code",
      "execution_count": null,
      "metadata": {
        "id": "XH1bblnlTzn_"
      },
      "outputs": [],
      "source": [
        "def evaluate(model, val_iter):\n",
        "    \"\"\"evaluate model\"\"\"                   \n",
        "    model.eval()\n",
        "    corrects, total_loss = 0, 0\n",
        "    for batch in val_iter:# Validation 데이터셋에 대하여 \n",
        "        x, y = batch.text.to(DEVICE), batch.label.to(DEVICE)\n",
        "        logit = model(x)\n",
        "        loss = F.cross_entropy(logit, y, reduction='sum')\n",
        "        total_loss += loss.item()\n",
        "        corrects += (logit.max(1)[1].view(y.size()).data == y.data).sum()\n",
        "    #전체 validation 셋에 대한 평균 loss와 accuracy를 구하는 과정\n",
        "    size = len(val_iter.dataset)\n",
        "    avg_loss = total_loss / size\n",
        "    avg_accuracy = 100.0 * corrects / size\n",
        "    return avg_loss, avg_accuracy"
      ]
    },
    {
      "cell_type": "markdown",
      "metadata": {
        "id": "GvEjxSkT4FoY"
      },
      "source": [
        "참고 : __init__(self, n_layers, hidden_dim, n_vocab, embed_dim, n_classes):"
      ]
    },
    {
      "cell_type": "code",
      "source": [
        "n_layers = 1\n",
        "hidden_dim = 32\n",
        "vocab_size = len(text)\n",
        "embed_dim = 128\n",
        "n_classes = 3\n",
        "\n",
        "Ir = 0.001\n",
        "batch_size = 20"
      ],
      "metadata": {
        "id": "1ElWi9ajjEXg"
      },
      "execution_count": null,
      "outputs": []
    },
    {
      "cell_type": "code",
      "execution_count": null,
      "metadata": {
        "id": "VHO8Mzd6T2Sc",
        "colab": {
          "base_uri": "https://localhost:8080/"
        },
        "outputId": "2af006c4-7be5-42ca-e406-a311d657b98e"
      },
      "outputs": [
        {
          "output_type": "stream",
          "name": "stdout",
          "text": [
            "Building Basic LSTM model...\n"
          ]
        }
      ],
      "source": [
        "model = BasicLSTM(1, 32, vocab_size, 128, n_classes).to(DEVICE)\n",
        "optimizer = torch.optim.Adam(model.parameters(), lr=0.001)"
      ]
    },
    {
      "cell_type": "code",
      "execution_count": null,
      "metadata": {
        "id": "8237Qje02t6h",
        "colab": {
          "base_uri": "https://localhost:8080/"
        },
        "outputId": "9dbd3cce-afa7-4d7f-df3a-14602b829213"
      },
      "outputs": [
        {
          "output_type": "execute_result",
          "data": {
            "text/plain": [
              "BasicLSTM(\n",
              "  (embed): Embedding(40000, 128)\n",
              "  (lstm): LSTM(128, 32, batch_first=True)\n",
              "  (out): Linear(in_features=32, out_features=3, bias=True)\n",
              ")"
            ]
          },
          "metadata": {},
          "execution_count": 42
        }
      ],
      "source": [
        "model"
      ]
    },
    {
      "cell_type": "code",
      "execution_count": 47,
      "metadata": {
        "id": "-KQ3_dBbT32e",
        "colab": {
          "base_uri": "https://localhost:8080/",
          "height": 246
        },
        "outputId": "581cc305-5cf3-48e7-ca88-38b506971188"
      },
      "outputs": [
        {
          "output_type": "error",
          "ename": "NameError",
          "evalue": "ignored",
          "traceback": [
            "\u001b[0;31m---------------------------------------------------------------------------\u001b[0m",
            "\u001b[0;31mNameError\u001b[0m                                 Traceback (most recent call last)",
            "\u001b[0;32m<ipython-input-47-db10f7fb91b1>\u001b[0m in \u001b[0;36m<module>\u001b[0;34m\u001b[0m\n\u001b[1;32m      3\u001b[0m \u001b[0;34m\u001b[0m\u001b[0m\n\u001b[1;32m      4\u001b[0m \u001b[0;32mfor\u001b[0m \u001b[0me\u001b[0m \u001b[0;32min\u001b[0m \u001b[0mrange\u001b[0m\u001b[0;34m(\u001b[0m\u001b[0;36m1\u001b[0m\u001b[0;34m,\u001b[0m \u001b[0mEPOCHS\u001b[0m\u001b[0;34m+\u001b[0m\u001b[0;36m1\u001b[0m\u001b[0;34m)\u001b[0m\u001b[0;34m:\u001b[0m\u001b[0;34m\u001b[0m\u001b[0;34m\u001b[0m\u001b[0m\n\u001b[0;32m----> 5\u001b[0;31m     \u001b[0mtrain\u001b[0m\u001b[0;34m(\u001b[0m\u001b[0mmodel\u001b[0m\u001b[0;34m,\u001b[0m \u001b[0moptimizer\u001b[0m\u001b[0;34m,\u001b[0m \u001b[0mtrain_iter\u001b[0m\u001b[0;34m)\u001b[0m\u001b[0;34m\u001b[0m\u001b[0;34m\u001b[0m\u001b[0m\n\u001b[0m\u001b[1;32m      6\u001b[0m     \u001b[0mval_loss\u001b[0m\u001b[0;34m,\u001b[0m \u001b[0mval_accuracy\u001b[0m \u001b[0;34m=\u001b[0m \u001b[0mevaluate\u001b[0m\u001b[0;34m(\u001b[0m\u001b[0mmodel\u001b[0m\u001b[0;34m,\u001b[0m \u001b[0mval_iter\u001b[0m\u001b[0;34m)\u001b[0m\u001b[0;34m\u001b[0m\u001b[0;34m\u001b[0m\u001b[0m\n\u001b[1;32m      7\u001b[0m \u001b[0;34m\u001b[0m\u001b[0m\n",
            "\u001b[0;31mNameError\u001b[0m: name 'train_iter' is not defined"
          ]
        }
      ],
      "source": [
        "best_val_loss = None\n",
        "EPOCHS = 1\n",
        "\n",
        "for e in range(1, EPOCHS+1):\n",
        "    train(model, optimizer, train_iter)\n",
        "    val_loss, val_accuracy = evaluate(model, val_iter)\n",
        "\n",
        "    print(\"[이폭: %d] 검증 오차:%5.2f | 검증 정확도:%5.2f\" % (e, val_loss, val_accuracy))\n",
        "    \n",
        "    # 검증 오차가 가장 적은 최적의 모델을 저장\n",
        "    if not best_val_loss or val_loss < best_val_loss:\n",
        "        if not os.path.isdir(\"snapshot\"):\n",
        "            os.makedirs(\"snapshot\")\n",
        "        torch.save(model.state_dict(), './snapshot/txtclassification.pt')\n",
        "        best_val_loss = val_loss"
      ]
    },
    {
      "cell_type": "code",
      "execution_count": null,
      "metadata": {
        "id": "c5J0NrCYT5xx",
        "colab": {
          "base_uri": "https://localhost:8080/",
          "height": 361
        },
        "outputId": "1367d858-e92e-4320-a354-8ea158bb675c"
      },
      "outputs": [
        {
          "output_type": "error",
          "ename": "FileNotFoundError",
          "evalue": "ignored",
          "traceback": [
            "\u001b[0;31m---------------------------------------------------------------------------\u001b[0m",
            "\u001b[0;31mFileNotFoundError\u001b[0m                         Traceback (most recent call last)",
            "\u001b[0;32m<ipython-input-44-ec14077b520e>\u001b[0m in \u001b[0;36m<module>\u001b[0;34m\u001b[0m\n\u001b[0;32m----> 1\u001b[0;31m \u001b[0mmodel\u001b[0m\u001b[0;34m.\u001b[0m\u001b[0mload_state_dict\u001b[0m\u001b[0;34m(\u001b[0m\u001b[0mtorch\u001b[0m\u001b[0;34m.\u001b[0m\u001b[0mload\u001b[0m\u001b[0;34m(\u001b[0m\u001b[0;34m'./snapshot/txtclassification.pt'\u001b[0m\u001b[0;34m)\u001b[0m\u001b[0;34m)\u001b[0m\u001b[0;34m\u001b[0m\u001b[0;34m\u001b[0m\u001b[0m\n\u001b[0m\u001b[1;32m      2\u001b[0m \u001b[0mtest_loss\u001b[0m\u001b[0;34m,\u001b[0m \u001b[0mtest_acc\u001b[0m \u001b[0;34m=\u001b[0m \u001b[0mevaluate\u001b[0m\u001b[0;34m(\u001b[0m\u001b[0mmodel\u001b[0m\u001b[0;34m,\u001b[0m \u001b[0mtest_iter\u001b[0m\u001b[0;34m)\u001b[0m\u001b[0;34m\u001b[0m\u001b[0;34m\u001b[0m\u001b[0m\n\u001b[1;32m      3\u001b[0m \u001b[0mprint\u001b[0m\u001b[0;34m(\u001b[0m\u001b[0;34m'테스트 오차: %5.2f | 테스트 정확도: %5.2f'\u001b[0m \u001b[0;34m%\u001b[0m \u001b[0;34m(\u001b[0m\u001b[0mtest_loss\u001b[0m\u001b[0;34m,\u001b[0m \u001b[0mtest_acc\u001b[0m\u001b[0;34m)\u001b[0m\u001b[0;34m)\u001b[0m\u001b[0;34m\u001b[0m\u001b[0;34m\u001b[0m\u001b[0m\n",
            "\u001b[0;32m/usr/local/lib/python3.8/dist-packages/torch/serialization.py\u001b[0m in \u001b[0;36mload\u001b[0;34m(f, map_location, pickle_module, weights_only, **pickle_load_args)\u001b[0m\n\u001b[1;32m    769\u001b[0m         \u001b[0mpickle_load_args\u001b[0m\u001b[0;34m[\u001b[0m\u001b[0;34m'encoding'\u001b[0m\u001b[0;34m]\u001b[0m \u001b[0;34m=\u001b[0m \u001b[0;34m'utf-8'\u001b[0m\u001b[0;34m\u001b[0m\u001b[0;34m\u001b[0m\u001b[0m\n\u001b[1;32m    770\u001b[0m \u001b[0;34m\u001b[0m\u001b[0m\n\u001b[0;32m--> 771\u001b[0;31m     \u001b[0;32mwith\u001b[0m \u001b[0m_open_file_like\u001b[0m\u001b[0;34m(\u001b[0m\u001b[0mf\u001b[0m\u001b[0;34m,\u001b[0m \u001b[0;34m'rb'\u001b[0m\u001b[0;34m)\u001b[0m \u001b[0;32mas\u001b[0m \u001b[0mopened_file\u001b[0m\u001b[0;34m:\u001b[0m\u001b[0;34m\u001b[0m\u001b[0;34m\u001b[0m\u001b[0m\n\u001b[0m\u001b[1;32m    772\u001b[0m         \u001b[0;32mif\u001b[0m \u001b[0m_is_zipfile\u001b[0m\u001b[0;34m(\u001b[0m\u001b[0mopened_file\u001b[0m\u001b[0;34m)\u001b[0m\u001b[0;34m:\u001b[0m\u001b[0;34m\u001b[0m\u001b[0;34m\u001b[0m\u001b[0m\n\u001b[1;32m    773\u001b[0m             \u001b[0;31m# The zipfile reader is going to advance the current file position.\u001b[0m\u001b[0;34m\u001b[0m\u001b[0;34m\u001b[0m\u001b[0;34m\u001b[0m\u001b[0m\n",
            "\u001b[0;32m/usr/local/lib/python3.8/dist-packages/torch/serialization.py\u001b[0m in \u001b[0;36m_open_file_like\u001b[0;34m(name_or_buffer, mode)\u001b[0m\n\u001b[1;32m    268\u001b[0m \u001b[0;32mdef\u001b[0m \u001b[0m_open_file_like\u001b[0m\u001b[0;34m(\u001b[0m\u001b[0mname_or_buffer\u001b[0m\u001b[0;34m,\u001b[0m \u001b[0mmode\u001b[0m\u001b[0;34m)\u001b[0m\u001b[0;34m:\u001b[0m\u001b[0;34m\u001b[0m\u001b[0;34m\u001b[0m\u001b[0m\n\u001b[1;32m    269\u001b[0m     \u001b[0;32mif\u001b[0m \u001b[0m_is_path\u001b[0m\u001b[0;34m(\u001b[0m\u001b[0mname_or_buffer\u001b[0m\u001b[0;34m)\u001b[0m\u001b[0;34m:\u001b[0m\u001b[0;34m\u001b[0m\u001b[0;34m\u001b[0m\u001b[0m\n\u001b[0;32m--> 270\u001b[0;31m         \u001b[0;32mreturn\u001b[0m \u001b[0m_open_file\u001b[0m\u001b[0;34m(\u001b[0m\u001b[0mname_or_buffer\u001b[0m\u001b[0;34m,\u001b[0m \u001b[0mmode\u001b[0m\u001b[0;34m)\u001b[0m\u001b[0;34m\u001b[0m\u001b[0;34m\u001b[0m\u001b[0m\n\u001b[0m\u001b[1;32m    271\u001b[0m     \u001b[0;32melse\u001b[0m\u001b[0;34m:\u001b[0m\u001b[0;34m\u001b[0m\u001b[0;34m\u001b[0m\u001b[0m\n\u001b[1;32m    272\u001b[0m         \u001b[0;32mif\u001b[0m \u001b[0;34m'w'\u001b[0m \u001b[0;32min\u001b[0m \u001b[0mmode\u001b[0m\u001b[0;34m:\u001b[0m\u001b[0;34m\u001b[0m\u001b[0;34m\u001b[0m\u001b[0m\n",
            "\u001b[0;32m/usr/local/lib/python3.8/dist-packages/torch/serialization.py\u001b[0m in \u001b[0;36m__init__\u001b[0;34m(self, name, mode)\u001b[0m\n\u001b[1;32m    249\u001b[0m \u001b[0;32mclass\u001b[0m \u001b[0m_open_file\u001b[0m\u001b[0;34m(\u001b[0m\u001b[0m_opener\u001b[0m\u001b[0;34m)\u001b[0m\u001b[0;34m:\u001b[0m\u001b[0;34m\u001b[0m\u001b[0;34m\u001b[0m\u001b[0m\n\u001b[1;32m    250\u001b[0m     \u001b[0;32mdef\u001b[0m \u001b[0m__init__\u001b[0m\u001b[0;34m(\u001b[0m\u001b[0mself\u001b[0m\u001b[0;34m,\u001b[0m \u001b[0mname\u001b[0m\u001b[0;34m,\u001b[0m \u001b[0mmode\u001b[0m\u001b[0;34m)\u001b[0m\u001b[0;34m:\u001b[0m\u001b[0;34m\u001b[0m\u001b[0;34m\u001b[0m\u001b[0m\n\u001b[0;32m--> 251\u001b[0;31m         \u001b[0msuper\u001b[0m\u001b[0;34m(\u001b[0m\u001b[0m_open_file\u001b[0m\u001b[0;34m,\u001b[0m \u001b[0mself\u001b[0m\u001b[0;34m)\u001b[0m\u001b[0;34m.\u001b[0m\u001b[0m__init__\u001b[0m\u001b[0;34m(\u001b[0m\u001b[0mopen\u001b[0m\u001b[0;34m(\u001b[0m\u001b[0mname\u001b[0m\u001b[0;34m,\u001b[0m \u001b[0mmode\u001b[0m\u001b[0;34m)\u001b[0m\u001b[0;34m)\u001b[0m\u001b[0;34m\u001b[0m\u001b[0;34m\u001b[0m\u001b[0m\n\u001b[0m\u001b[1;32m    252\u001b[0m \u001b[0;34m\u001b[0m\u001b[0m\n\u001b[1;32m    253\u001b[0m     \u001b[0;32mdef\u001b[0m \u001b[0m__exit__\u001b[0m\u001b[0;34m(\u001b[0m\u001b[0mself\u001b[0m\u001b[0;34m,\u001b[0m \u001b[0;34m*\u001b[0m\u001b[0margs\u001b[0m\u001b[0;34m)\u001b[0m\u001b[0;34m:\u001b[0m\u001b[0;34m\u001b[0m\u001b[0;34m\u001b[0m\u001b[0m\n",
            "\u001b[0;31mFileNotFoundError\u001b[0m: [Errno 2] No such file or directory: './snapshot/txtclassification.pt'"
          ]
        }
      ],
      "source": [
        "model.load_state_dict(torch.load('./snapshot/txtclassification.pt'))\n",
        "test_loss, test_acc = evaluate(model, test_iter)\n",
        "print('테스트 오차: %5.2f | 테스트 정확도: %5.2f' % (test_loss, test_acc))"
      ]
    }
  ],
  "metadata": {
    "accelerator": "GPU",
    "colab": {
      "provenance": []
    },
    "kernelspec": {
      "display_name": "Python 3",
      "language": "python",
      "name": "python3"
    },
    "language_info": {
      "codemirror_mode": {
        "name": "ipython",
        "version": 3
      },
      "file_extension": ".py",
      "mimetype": "text/x-python",
      "name": "python",
      "nbconvert_exporter": "python",
      "pygments_lexer": "ipython3",
      "version": "3.8.5"
    },
    "toc": {
      "base_numbering": 1,
      "nav_menu": {},
      "number_sections": true,
      "sideBar": true,
      "skip_h1_title": false,
      "title_cell": "Table of Contents",
      "title_sidebar": "Contents",
      "toc_cell": false,
      "toc_position": {},
      "toc_section_display": true,
      "toc_window_display": true
    }
  },
  "nbformat": 4,
  "nbformat_minor": 0
}