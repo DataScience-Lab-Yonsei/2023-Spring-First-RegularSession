{
  "nbformat": 4,
  "nbformat_minor": 0,
  "metadata": {
    "colab": {
      "private_outputs": true,
      "provenance": []
    },
    "kernelspec": {
      "name": "python3",
      "display_name": "Python 3"
    },
    "language_info": {
      "name": "python"
    }
  },
  "cells": [
    {
      "cell_type": "code",
      "source": [
        "#기본 라이브러리 만들기\n",
        "import pandas as pd\n",
        "import numpy as np\n",
        "import matplotlib.pyplot as plt"
      ],
      "metadata": {
        "id": "J9Kq7ZSKf6QV"
      },
      "execution_count": null,
      "outputs": []
    },
    {
      "cell_type": "code",
      "source": [
        "from google.colab import drive\n",
        "drive.mount('/content/drive')"
      ],
      "metadata": {
        "id": "NeNRmxvp-GNl"
      },
      "execution_count": null,
      "outputs": []
    },
    {
      "cell_type": "code",
      "source": [
        "import warnings\n",
        "warnings.filterwarnings('ignore')"
      ],
      "metadata": {
        "id": "U6KjQaw0QjaO"
      },
      "execution_count": null,
      "outputs": []
    },
    {
      "cell_type": "markdown",
      "source": [
        "# 실습 1) Decision Tree : iris 데이터\n",
        "\n"
      ],
      "metadata": {
        "id": "byg9DN_HaXn4"
      }
    },
    {
      "cell_type": "markdown",
      "source": [
        "참고문헌: <br>\n",
        "1) <파이썬 머신러닝 완벽 가이드> 4장 <br>\n",
        "2) 7기 김원님 코딩 실습 자료 "
      ],
      "metadata": {
        "id": "H7rIsYz9pOnW"
      }
    },
    {
      "cell_type": "markdown",
      "source": [
        "장점: 직관적으로 이해하기 쉽다, 스케일링 같은 전처리 작업 등이 필요 없다, 시각적으로 표현하기 쉽다 <br>\n",
        "단점: 과적합되기 쉽다 > 이를 극복하기 위해 트리의 크기를 사전에 제한하는 튜닝 필요"
      ],
      "metadata": {
        "id": "_lOrV0DPaoIr"
      }
    },
    {
      "cell_type": "markdown",
      "source": [
        "**결정트리 만들기: DecisionTreeClassifier 함수 이용** <br>\n",
        "\n",
        "호출 방법: *from sklearn.tree import DecisionTreeClassifier*\n",
        "\n",
        "DecisionTreeClassifier 함수의 (하이퍼) 파라미터: <br>\n",
        "- min_samples_split : 노드를 분할하기 위한 최소한의 샘플 데이터 수, <br>\n",
        "  디폴트는 2이고 작게 설정할 수록 분할되는 노드가 많아져서 과적합 가능성 증가 <br>\n",
        "\n",
        "- min_samples_leaf : 말단 노드가 되기 위한 최소한의 샘플 데이터 수\n",
        "\n",
        "- max_features : 최적의 분할을 위해 고려할 최대 피처 개수. <br>\n",
        "디폴트는 None으로 데이터 세트의 모든 피처를 사용해 분할 수행 <br>\n",
        "\n",
        "- max_depth : 트리의 최대 깊이를 규정 <br>\n",
        "디폴트는 None으로, 완벽하게 클래스 결정 값이 될 때까지 깊이를 계속 키우며 분할 <br>\n",
        "적절하게 깊이를 제한해야 과적합을 방지할 수 있음\n",
        "\n",
        "- max_leaf_nodes : 말단 노드의 최대 개수 <br>"
      ],
      "metadata": {
        "id": "hMoNnPg2baBv"
      }
    },
    {
      "cell_type": "markdown",
      "source": [
        "![iris.svg](data:image/svg+xml;base64,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)"
      ],
      "metadata": {
        "id": "WJmNf67vdMRQ"
      }
    },
    {
      "cell_type": "markdown",
      "source": [
        "### 데이터셋 불러오기"
      ],
      "metadata": {
        "id": "MnqFnBpVfAXn"
      }
    },
    {
      "cell_type": "code",
      "source": [
        "#datasets 모듈에서 내장된 데이터셋 load_iris 호출 : 붓꽃 데이터셋\n",
        "from sklearn.datasets import load_iris\n",
        "iris = load_iris()"
      ],
      "metadata": {
        "id": "XjT7KnE6e3US"
      },
      "execution_count": null,
      "outputs": []
    },
    {
      "cell_type": "code",
      "source": [
        "iris"
      ],
      "metadata": {
        "id": "MLR-WfpafJDV"
      },
      "execution_count": null,
      "outputs": []
    },
    {
      "cell_type": "code",
      "source": [
        "#데이터(독립변수)는 iris.data에 저장되어 있음. 앞에 5개만 살펴보자.\n",
        "iris.data[:5]"
      ],
      "metadata": {
        "id": "2aiKt-1ffJFa"
      },
      "execution_count": null,
      "outputs": []
    },
    {
      "cell_type": "code",
      "source": [
        "#데이터(종속변수)는 iris.target에 저장되어 있음. 앞에 5개만 살펴보자.\n",
        "iris.target"
      ],
      "metadata": {
        "id": "Tp2mH1yzfJHn"
      },
      "execution_count": null,
      "outputs": []
    },
    {
      "cell_type": "code",
      "source": [
        "#컬럼명은 iris.feature_names에 저장되어 있음.\n",
        "iris.feature_names"
      ],
      "metadata": {
        "id": "tUXOy4HDfJJs"
      },
      "execution_count": null,
      "outputs": []
    },
    {
      "cell_type": "code",
      "source": [
        "#레이블 이름은 iris.target_names에 저장되어 있음 (y의 0, 1, 2가 각각 setosa, versicolor, virginica를 의미)\n",
        "iris.target_names"
      ],
      "metadata": {
        "id": "ds9uSjnHlMYI"
      },
      "execution_count": null,
      "outputs": []
    },
    {
      "cell_type": "code",
      "source": [
        "#이를 보기 좋게 파악하기 위해 데이터프레임으로 만들면 (선택사항임, 필수X)\n",
        "iris_df = pd.DataFrame(data = iris.data, columns = iris.feature_names)\n",
        "iris_df[\"Target\"] = iris.target #\"Target\" 열에 종속변수 데이터 추가\n",
        "iris_df"
      ],
      "metadata": {
        "id": "hyP5DG-9fwAm"
      },
      "execution_count": null,
      "outputs": []
    },
    {
      "cell_type": "code",
      "source": [
        "#간단하게 데이터 살펴보기 (선택사항임, 필수X)\n",
        "iris_df.info()"
      ],
      "metadata": {
        "id": "mPefaDqvgmxS"
      },
      "execution_count": null,
      "outputs": []
    },
    {
      "cell_type": "markdown",
      "source": [
        "### 훈련 세트와 테스트 세트 분리"
      ],
      "metadata": {
        "id": "4yLofxyBhC7z"
      }
    },
    {
      "cell_type": "code",
      "source": [
        "#model_selection 모듈에서 훈련 세트와 테스트 세트를 분리시켜주는 train_test_split 함수 호출\n",
        "from sklearn.model_selection import train_test_split\n",
        "\n",
        "#8 대 2의 비율로 훈련 세트와 테스트 세트 분리\n",
        "train_X, test_X, train_y, test_y = train_test_split(iris.data, iris.target,\n",
        "                                                    test_size = 0.2, random_state = 1, \n",
        "                                                    stratify=iris.target) \n",
        "#stratify = iris.target: 0, 1, 2값이 균등하게 나누어질 수 있도록 조정 (분류 문제에서 자주 사용)"
      ],
      "metadata": {
        "id": "vqYWBmjhetIl"
      },
      "execution_count": null,
      "outputs": []
    },
    {
      "cell_type": "code",
      "source": [
        "#train_y에서 0, 1, 2의 비율\n",
        "print(len(train_y[train_y == 0]) / len(train_y))\n",
        "print(len(train_y[train_y == 1]) / len(train_y))\n",
        "print(len(train_y[train_y == 2]) / len(train_y))"
      ],
      "metadata": {
        "id": "hbgBPFBm6M3-"
      },
      "execution_count": null,
      "outputs": []
    },
    {
      "cell_type": "code",
      "source": [
        "#test_y에서 0, 1, 2의 비율\n",
        "print(len(test_y[test_y == 0]) / len(test_y))\n",
        "print(len(test_y[test_y == 1]) / len(test_y))\n",
        "print(len(test_y[test_y == 2]) / len(test_y))"
      ],
      "metadata": {
        "id": "l5uzCmkR60YI"
      },
      "execution_count": null,
      "outputs": []
    },
    {
      "cell_type": "code",
      "source": [
        "#확인\n",
        "train_X[:5]"
      ],
      "metadata": {
        "id": "dFDJJ0GMiJ_Y"
      },
      "execution_count": null,
      "outputs": []
    },
    {
      "cell_type": "markdown",
      "source": [
        "### Decision Tree 모델 구현"
      ],
      "metadata": {
        "id": "QQl2R0jgigmd"
      }
    },
    {
      "cell_type": "markdown",
      "source": [
        "해당 데이터는 결측치가 없습니다 > 결측치 처리 불필요 <br>\n",
        "Decision Tree는 스케일링 작업 X > 스케일링 불필요\n",
        "\n",
        "따라서, 바로 모델 구현에 들어가겠습니다.\n"
      ],
      "metadata": {
        "id": "0TeKZJC9jGWD"
      }
    },
    {
      "cell_type": "code",
      "source": [
        "#tree 모듈에서 Decision Tree 함수 호출\n",
        "from sklearn.tree import DecisionTreeClassifier\n",
        "\n",
        "tree1 = DecisionTreeClassifier() #모델 객체 생성\n",
        "tree1.fit(train_X, train_y) #모델 훈련"
      ],
      "metadata": {
        "id": "0NE2v1YhiaoG"
      },
      "execution_count": null,
      "outputs": []
    },
    {
      "cell_type": "code",
      "source": [
        "#앞의 데이터 10개를 예측해보자\n",
        "tree1.predict(test_X[:10])"
      ],
      "metadata": {
        "id": "MVoyT9MJukj4"
      },
      "execution_count": null,
      "outputs": []
    },
    {
      "cell_type": "code",
      "source": [
        "#실제값\n",
        "test_y[:10]"
      ],
      "metadata": {
        "id": "ltyTHoRouwGG"
      },
      "execution_count": null,
      "outputs": []
    },
    {
      "cell_type": "markdown",
      "source": [
        "### 시각화"
      ],
      "metadata": {
        "id": "ssS1J-j0mJ9G"
      }
    },
    {
      "cell_type": "markdown",
      "source": [
        "graphviz 패키지: 결정 트리 알고리즘이 어떠한 규칙을 갖고 트리를 생성하는지 시각적으로 보여줄 수 있음 <br>\n",
        "사이킷런은 이러한 graphviz 패키지와 쉽게 인터페이스할 수 있도록 export_graphviz() API를 제공"
      ],
      "metadata": {
        "id": "RJbrSOWemMAy"
      }
    },
    {
      "cell_type": "code",
      "source": [
        "#export_graphviz 함수: graphviz 패키지를 불러와 시각화하기 위한 파일을 만든다\n",
        "from sklearn.tree import export_graphviz\n",
        "#export_graphviz 함수 그 자체가 시각화해주는 함수는 아님\n",
        "\n",
        "#export_graphviz()의 호출 결과로 out_file로 파일을 생성함\n",
        "export_graphviz(tree1, #모델의 이름\n",
        "                out_file = \"tree.dot\", #파일을 tree.dot이라는 이름으로 생성하겠다\n",
        "                class_names = iris.target_names,\n",
        "                feature_names = iris.feature_names,\n",
        "                impurity = True, # impurity = True: 분순도를 표기 (True가 디폴트)\n",
        "                filled = True) # filled = True: 색깔을 추가 (False가 디폴트) \n",
        "                # 이 경우는 3개의 클래스가 주황, 초록, 보라색으로 표시됨\n",
        "                # 색깔이 진할 수록 지니계수가 낮고 해당 레이블에 속하는 샘플 데이터가 많다는 뜻"
      ],
      "metadata": {
        "id": "rJ70eCXujE6l"
      },
      "execution_count": null,
      "outputs": []
    },
    {
      "cell_type": "code",
      "source": [
        "# 결정트리를 위한 시각화 패키지\n",
        "import graphviz\n",
        "\n",
        "#tree.dot 파일 열기 / 읽기\n",
        "with open(\"tree.dot\") as f:\n",
        "  dot_graph = f.read()\n",
        "\n",
        "#시각화\n",
        "graphviz.Source(dot_graph)"
      ],
      "metadata": {
        "id": "lyeMIvsVk2O2"
      },
      "execution_count": null,
      "outputs": []
    },
    {
      "cell_type": "markdown",
      "source": [
        "### 성능평가"
      ],
      "metadata": {
        "id": "R8fgcINotcNx"
      }
    },
    {
      "cell_type": "code",
      "source": [
        "#test_X의 예측값을 pred_y에 넣어주겠다.\n",
        "pred_y = tree1.predict(test_X)\n",
        "pred_y"
      ],
      "metadata": {
        "id": "kGGp5enUvL43"
      },
      "execution_count": null,
      "outputs": []
    },
    {
      "cell_type": "code",
      "source": [
        "#accuracy_score\n",
        "from sklearn.metrics import accuracy_score\n",
        "print(\"Accuracy : {:.3f}\".format(accuracy_score(test_y, pred_y)))"
      ],
      "metadata": {
        "id": "yJmwJ6nfmFd9"
      },
      "execution_count": null,
      "outputs": []
    },
    {
      "cell_type": "code",
      "source": [
        "from sklearn.metrics import classification_report\n",
        "\n",
        "# 다양한 평가지표\n",
        "print(classification_report(test_y, pred_y, digits=3))"
      ],
      "metadata": {
        "id": "EsDYLaBSwrFm"
      },
      "execution_count": null,
      "outputs": []
    },
    {
      "cell_type": "markdown",
      "source": [
        "참고) https://blog.naver.com/PostView.naver?blogId=hannaurora&logNo=222498671200&parentCategoryNo=&categoryNo=41&viewDate=&isShowPopularPosts=true&from=search"
      ],
      "metadata": {
        "id": "A9NeMQIEx-Re"
      }
    },
    {
      "cell_type": "markdown",
      "source": [
        "### 하이퍼 파라미터 조정해보기"
      ],
      "metadata": {
        "id": "R6AzfOOdyKys"
      }
    },
    {
      "cell_type": "markdown",
      "source": [
        "DecisionTreeClassifier 함수의 (하이퍼) 파라미터: <br>\n",
        "- min_samples_split : 노드를 분할하기 위한 최소한의 샘플 데이터 수, <br>\n",
        "  디폴트는 2이고 작게 설정할 수록 분할되는 노드가 많아져서 과적합 가능성 증가 <br>\n",
        "\n",
        "- min_samples_leaf : 말단 노드가 되기 위한 최소한의 샘플 데이터 수\n",
        "\n",
        "- max_features : 최적의 분할을 위해 고려할 최대 피처 개수. <br>\n",
        "디폴트는 None으로 데이터 세트의 모든 피처를 사용해 분할 수행 <br>\n",
        "\n",
        "- max_depth : 트리의 최대 깊이를 규정 <br>\n",
        "디폴트는 None으로, 완벽하게 클래스 결정 값이 될 때까지 깊이를 계속 키우며 분할 <br>\n",
        "적절하게 깊이를 제한해야 과적합을 방지할 수 있음\n",
        "\n",
        "- max_leaf_nodes : 말단 노드의 최대 개수 <br>"
      ],
      "metadata": {
        "id": "NFmQ3jb9yjWv"
      }
    },
    {
      "cell_type": "markdown",
      "source": [
        "#### min_sample_split = 5"
      ],
      "metadata": {
        "id": "tawxG8uc0AAd"
      }
    },
    {
      "cell_type": "code",
      "source": [
        "#max_depth를 3으로 설정해보자!\n",
        "from sklearn.tree import DecisionTreeClassifier\n",
        "\n",
        "tree2 = DecisionTreeClassifier(min_samples_split = 5) #모델 객체 생성\n",
        "tree2.fit(train_X, train_y) #모델 훈련"
      ],
      "metadata": {
        "id": "Qb-B2-A00cE7"
      },
      "execution_count": null,
      "outputs": []
    },
    {
      "cell_type": "code",
      "source": [
        "#export_graphviz 함수: graphviz 패키지를 불러와 시각화하기 위한 파일을 만든다\n",
        "from sklearn.tree import export_graphviz\n",
        "#export_graphviz 함수 그 자체가 시각화해주는 함수는 아님\n",
        "\n",
        "#export_graphviz()의 호출 결과로 out_file로 파일을 생성함\n",
        "export_graphviz(tree2, #모델의 이름\n",
        "                out_file = \"tree2.dot\", #파일을 tree2.dot이라는 이름으로 생성하겠다\n",
        "                class_names = iris.target_names,\n",
        "                feature_names = iris.feature_names,\n",
        "                impurity = True, # impurity = True: 분순도를 표기 (True가 디폴트)\n",
        "                filled = True) # filled = True: 색깔을 추가 (False가 디폴트) \n",
        "                # 이 경우는 3개의 클래스가 주황, 초록, 보라색으로 표시됨\n",
        "                # 색깔이 진할 수록 지니계수가 낮고 해당 레이블에 속하는 샘플 데이터가 많다는 뜻"
      ],
      "metadata": {
        "id": "UIxk29vM02kp"
      },
      "execution_count": null,
      "outputs": []
    },
    {
      "cell_type": "code",
      "source": [
        "# 결정트리를 위한 시각화 패키지\n",
        "import graphviz\n",
        "\n",
        "#tree2.dot 파일 열기 / 읽기\n",
        "with open(\"tree2.dot\") as f:\n",
        "  dot_graph = f.read()\n",
        "\n",
        "#시각화\n",
        "graphviz.Source(dot_graph)"
      ],
      "metadata": {
        "id": "lQXvY5zU1C6U"
      },
      "execution_count": null,
      "outputs": []
    },
    {
      "cell_type": "markdown",
      "source": [
        "#### max_depth = 3"
      ],
      "metadata": {
        "id": "13mfsozWzZ2I"
      }
    },
    {
      "cell_type": "code",
      "source": [
        "#max_depth를 3으로 설정해보자!\n",
        "from sklearn.tree import DecisionTreeClassifier\n",
        "\n",
        "tree3 = DecisionTreeClassifier(max_depth = 3) #모델 객체 생성\n",
        "tree3.fit(train_X, train_y) #모델 훈련"
      ],
      "metadata": {
        "id": "mY3rPgEuyQ6s"
      },
      "execution_count": null,
      "outputs": []
    },
    {
      "cell_type": "code",
      "source": [
        "#export_graphviz 함수: graphviz 패키지를 불러와 시각화하기 위한 파일을 만든다\n",
        "from sklearn.tree import export_graphviz\n",
        "#export_graphviz 함수 그 자체가 시각화해주는 함수는 아님\n",
        "\n",
        "#export_graphviz()의 호출 결과로 out_file로 파일을 생성함\n",
        "export_graphviz(tree3, #모델의 이름\n",
        "                out_file = \"tree3.dot\", #파일을 tree3.dot이라는 이름으로 생성하겠다\n",
        "                class_names = iris.target_names,\n",
        "                feature_names = iris.feature_names,\n",
        "                impurity = True, # impurity = True: 분순도를 표기 (True가 디폴트)\n",
        "                filled = True) # filled = True: 색깔을 추가 (False가 디폴트) \n",
        "                # 이 경우는 3개의 클래스가 주황, 초록, 보라색으로 표시됨\n",
        "                # 색깔이 진할 수록 지니계수가 낮고 해당 레이블에 속하는 샘플 데이터가 많다는 뜻"
      ],
      "metadata": {
        "id": "fVlc1uL-zTXV"
      },
      "execution_count": null,
      "outputs": []
    },
    {
      "cell_type": "code",
      "source": [
        "# 결정트리를 위한 시각화 패키지\n",
        "import graphviz\n",
        "\n",
        "#tree3.dot 파일 열기 / 읽기\n",
        "with open(\"tree3.dot\") as f:\n",
        "  dot_graph = f.read()\n",
        "\n",
        "#시각화\n",
        "graphviz.Source(dot_graph)"
      ],
      "metadata": {
        "id": "V4h1y88dzWbY"
      },
      "execution_count": null,
      "outputs": []
    },
    {
      "cell_type": "code",
      "source": [
        "#accuracy_score\n",
        "from sklearn.metrics import accuracy_score\n",
        "print(\"Accuracy (min_samples_split = 5): {:.3f}\".format(accuracy_score(test_y, tree2.predict(test_X))))\n",
        "print(\"Accuracy (max_depth = 3): {:.3f}\".format(accuracy_score(test_y, tree3.predict(test_X))))"
      ],
      "metadata": {
        "id": "yO4Aw_nozq5V"
      },
      "execution_count": null,
      "outputs": []
    },
    {
      "cell_type": "markdown",
      "source": [
        "# 실습 2) Decision Tree : Personal Loan 데이터"
      ],
      "metadata": {
        "id": "8V_NEuYF2Yjj"
      }
    },
    {
      "cell_type": "markdown",
      "source": [
        "**필독) 사전에 구글 드라이브에 Personal Loan.csv 파일을 업로드 해주세요!**"
      ],
      "metadata": {
        "id": "LePCQQ7_9fNS"
      }
    },
    {
      "cell_type": "markdown",
      "metadata": {
        "id": "jF4c_xAR-wg6"
      },
      "source": [
        "### 데이터 불러오기"
      ]
    },
    {
      "cell_type": "code",
      "execution_count": null,
      "metadata": {
        "id": "Aj6VFnF--wg6"
      },
      "outputs": [],
      "source": [
        "#Personal Loan.csv 파일 불러오기\n",
        "loan = pd.read_csv('/content/drive/MyDrive/DSL/Personal Loan.csv')\n",
        "loan.head()"
      ]
    },
    {
      "cell_type": "code",
      "source": [
        "#데이터 간단하게 살펴보기\n",
        "loan.info()"
      ],
      "metadata": {
        "id": "gNEuEOQi-iCw"
      },
      "execution_count": null,
      "outputs": []
    },
    {
      "cell_type": "markdown",
      "source": [
        "여기서 ZIP Code, ID 열은 분석의 편의를 위해 빼도록 하겠다.\n",
        "\n",
        "또 데이터들을 각각 raw_X, raw_y에 담아주도록 하자."
      ],
      "metadata": {
        "id": "s8amOBje-_kK"
      }
    },
    {
      "cell_type": "code",
      "source": [
        "raw_X = loan.dropna().drop(['Personal Loan', 'ZIP Code', 'ID'], axis=1) #종속변수 Personal Loan 및 ZIP Code, ID 열 빼기\n",
        "raw_X.head()"
      ],
      "metadata": {
        "id": "BoO0iHe__VSl"
      },
      "execution_count": null,
      "outputs": []
    },
    {
      "cell_type": "code",
      "execution_count": null,
      "metadata": {
        "id": "2dIq4wOW-wg7"
      },
      "outputs": [],
      "source": [
        "raw_y = loan['Personal Loan']\n",
        "raw_y.value_counts() # 이진분류(0,1) 문제"
      ]
    },
    {
      "cell_type": "markdown",
      "source": [
        "### 범주형 데이터 전처리 (원-핫 인코딩)"
      ],
      "metadata": {
        "id": "bRS5swvP-cmE"
      }
    },
    {
      "cell_type": "markdown",
      "source": [
        "Education 열의 경우, 숫자로 되어있지만 범주형 데이터이다. <br>\n",
        "원-핫 인코딩을 이용해 전처리를 해보도록 하자."
      ],
      "metadata": {
        "id": "FfoJEjU--vfp"
      }
    },
    {
      "cell_type": "code",
      "execution_count": null,
      "metadata": {
        "id": "18opODaU-wg7"
      },
      "outputs": [],
      "source": [
        "# 연속형이 아니라 범주형인 'Education'열을 One-hot Encoding으로 전처리\n",
        "raw_X_one_hot = pd.get_dummies(data=raw_X, columns=['Education'], prefix='Education')\n",
        "raw_X_one_hot.head()"
      ]
    },
    {
      "cell_type": "markdown",
      "metadata": {
        "id": "pt96HWZx-wg7"
      },
      "source": [
        "### 훈련 세트와 테스트 세트 분리"
      ]
    },
    {
      "cell_type": "code",
      "execution_count": null,
      "metadata": {
        "id": "R0FU9lB1-wg7"
      },
      "outputs": [],
      "source": [
        "#stratify = raw_y에 주목\n",
        "#raw_X_one_hot, raw_y를 넣어주었음\n",
        "train_X, test_X, train_y, test_y = train_test_split(raw_X_one_hot, raw_y, train_size=0.7, test_size=0.3, random_state=1, stratify=raw_y)\n",
        "print(train_X.shape, test_X.shape, train_y.shape, test_y.shape)"
      ]
    },
    {
      "cell_type": "code",
      "source": [
        "raw_y.value_counts() \n",
        "# 0의 비율: 0.8976\n",
        "# 1의 비율: 0.1024"
      ],
      "metadata": {
        "id": "UiANSkQOAnSG"
      },
      "execution_count": null,
      "outputs": []
    },
    {
      "cell_type": "code",
      "source": [
        "test_y.value_counts()\n",
        "# 0의 비율: 0.8973\n",
        "# 1의 비율: 0.1027"
      ],
      "metadata": {
        "id": "mSNrqJCtAaDR"
      },
      "execution_count": null,
      "outputs": []
    },
    {
      "cell_type": "code",
      "source": [
        "train_y.value_counts()\n",
        "# 0의 비율: 0.8977\n",
        "# 1의 비율: 0.1023"
      ],
      "metadata": {
        "id": "Wy-hld7bAfij"
      },
      "execution_count": null,
      "outputs": []
    },
    {
      "cell_type": "markdown",
      "source": [
        "### Decision Tree 모델 구현"
      ],
      "metadata": {
        "id": "oy-Ygul_cm_X"
      }
    },
    {
      "cell_type": "code",
      "execution_count": null,
      "metadata": {
        "id": "6KztFl_J-wg7"
      },
      "outputs": [],
      "source": [
        "from sklearn.tree import DecisionTreeClassifier\n",
        "\n",
        "loan_tree = DecisionTreeClassifier()\n",
        "loan_tree.fit(train_X, train_y)"
      ]
    },
    {
      "cell_type": "markdown",
      "source": [
        "### 시각화"
      ],
      "metadata": {
        "id": "_KXSsggcCXlF"
      }
    },
    {
      "cell_type": "code",
      "source": [
        "#export_graphviz 함수: graphviz 패키지를 불러와 시각화하기 위한 파일을 만든다\n",
        "from sklearn.tree import export_graphviz\n",
        "\n",
        "#export_graphviz()의 호출 결과로 out_file로 파일을 생성함\n",
        "export_graphviz(loan_tree, #모델의 이름\n",
        "                out_file = \"loan_tree.dot\",\n",
        "                feature_names = train_X.columns,\n",
        "                impurity = True, # impurity = True: 분순도를 표기 (True가 디폴트)\n",
        "                filled = True) # filled = True: 색깔을 추가 (False가 디폴트) "
      ],
      "metadata": {
        "id": "URzCSaQJCXlF"
      },
      "execution_count": null,
      "outputs": []
    },
    {
      "cell_type": "code",
      "source": [
        "# 결정트리를 위한 시각화 패키지\n",
        "import graphviz\n",
        "\n",
        "#loan_tree 파일 열기 / 읽기\n",
        "with open(\"loan_tree.dot\") as f:\n",
        "  dot_graph = f.read()\n",
        "\n",
        "#시각화\n",
        "graphviz.Source(dot_graph)"
      ],
      "metadata": {
        "id": "CUmqeKh9CXlF"
      },
      "execution_count": null,
      "outputs": []
    },
    {
      "cell_type": "markdown",
      "source": [
        "### 성능평가"
      ],
      "metadata": {
        "id": "A6N48EcmCOKV"
      }
    },
    {
      "cell_type": "code",
      "execution_count": null,
      "metadata": {
        "id": "QwTMgZBg-wg8"
      },
      "outputs": [],
      "source": [
        "from sklearn.metrics import accuracy_score, f1_score\n",
        "\n",
        "print(\"Decision Tree Accuracy for test data : {:.3f}\".format(accuracy_score(test_y, loan_tree.predict(test_X))))\n",
        "print(\"Decision Tree F1 score for test data : {:.3f}\".format(f1_score(test_y, loan_tree.predict(test_X))))"
      ]
    },
    {
      "cell_type": "markdown",
      "source": [
        "### 최적의 하이퍼 파라미터 찾기 : 그리드 서치"
      ],
      "metadata": {
        "id": "46ldJVxJDRjf"
      }
    },
    {
      "cell_type": "markdown",
      "source": [
        "![img.png](data:image/png;base64,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)"
      ],
      "metadata": {
        "id": "m5VJyXK8EfvS"
      }
    },
    {
      "cell_type": "markdown",
      "source": [
        "Gridsearch: 관심 있는 매개변수들을 대상으로 가능한 모든 조합을 시도하여 최적의 매개변수를 찾는 방법. <br> 즉, 우리에게 필요한 최적의 하이퍼 파라미터를 찾아준다 <br>\n",
        "ex) max_depth를 몇으로 설정하는게 좋은지 등등 <br>\n",
        "\n",
        "GridSearch는 확인하고 싶은 다양한 파라미터값을 넣어주면,\n",
        "그것들을 하나씩 확인하면서 스코어를 내고, <br>\n",
        "가장 좋은 성능의 모델에 대한 결과를 확인하고 사용할 수 있음"
      ],
      "metadata": {
        "id": "cPc4q8lbEtqy"
      }
    },
    {
      "cell_type": "markdown",
      "source": [
        "model_selection 모듈의 GridSearchCV 함수는 GridSearch + Cross validation의 약어로, <br>\n",
        "k개의 폴드에 대해 최적의 하이퍼 파라미터를 모두 종합적으로 고려하여 최적의 파라미터를 출력한다. <br> 이때, 테스트하고자 하는 파라미터 값들을 사전(dictionary) 타입으로 정의해주어야 한다."
      ],
      "metadata": {
        "id": "KEjO__UyFnkD"
      }
    },
    {
      "cell_type": "markdown",
      "metadata": {
        "id": "ZrMaJqJZN4qn"
      },
      "source": [
        "max_depth, min_samples_split에 대한 hyperparameter tuning을 실습해보자."
      ]
    },
    {
      "cell_type": "code",
      "execution_count": null,
      "metadata": {
        "id": "NnKStiY9anlF"
      },
      "outputs": [],
      "source": [
        "from sklearn.model_selection import GridSearchCV # 관심 있는 매개변수들을 대상으로 가능한 모든 조합을 시도하여 최적의 매개변수를 찾는 방법\n",
        "\n",
        "# 테스트하고자 하는 파라미터 값들을 사전타입으로 정의\n",
        "# max_depth 와 min_samples_split라는 parameter에 대해 범위 지정\n",
        "hyperparamters = {'max_depth': list(range(2, 8)),  'min_samples_split': list(range(2, 20))}\n",
        "\n",
        "# GridSearch 진행\n",
        "GridCV = GridSearchCV(estimator=loan_tree, param_grid=hyperparamters, cv=5)\n",
        "GridCV.fit(train_X, train_y)"
      ]
    },
    {
      "cell_type": "code",
      "source": [
        "GridCV.best_params_ # 가장 좋은 성능을 보였을 때의 parameter"
      ],
      "metadata": {
        "id": "i269YnrzI7xq"
      },
      "execution_count": null,
      "outputs": []
    },
    {
      "cell_type": "code",
      "source": [
        "GridCV.best_score_ #위 파라미터로 했을 때 성능(평균 정확도)"
      ],
      "metadata": {
        "id": "laiByL_cI9_U"
      },
      "execution_count": null,
      "outputs": []
    },
    {
      "cell_type": "code",
      "source": [
        "#위 파라미터 값들로 모델을 훈련시켜보자!\n",
        "loan_tree_new = DecisionTreeClassifier(max_depth=5, min_samples_split=9, random_state=0).fit(train_X, train_y)"
      ],
      "metadata": {
        "id": "BM2f55yBHciV"
      },
      "execution_count": null,
      "outputs": []
    },
    {
      "cell_type": "code",
      "source": [
        "#원래의 트리 성능\n",
        "from sklearn.metrics import accuracy_score, f1_score\n",
        "\n",
        "print(\"Decision Tree Accuracy for test data : {:.3f}\".format(accuracy_score(test_y, loan_tree.predict(test_X))))\n",
        "print(\"Decision Tree F1 score for test data : {:.3f}\".format(f1_score(test_y, loan_tree.predict(test_X))))"
      ],
      "metadata": {
        "id": "Fxy2MrUAHYAB"
      },
      "execution_count": null,
      "outputs": []
    },
    {
      "cell_type": "code",
      "source": [
        "#새로운 트리 성능\n",
        "from sklearn.metrics import accuracy_score, f1_score\n",
        "\n",
        "print(\"Decision Tree Accuracy for test data : {:.3f}\".format(accuracy_score(test_y, loan_tree_new.predict(test_X))))\n",
        "print(\"Decision Tree F1 score for test data : {:.3f}\".format(f1_score(test_y, loan_tree_new.predict(test_X))))"
      ],
      "metadata": {
        "id": "Q6-4lscQIAe1"
      },
      "execution_count": null,
      "outputs": []
    },
    {
      "cell_type": "markdown",
      "source": [
        "GridSearchCV로 최적의 하이퍼 파라미터를 찾았다. 성능이 보다 좋아진 것을 확인할 수 있다"
      ],
      "metadata": {
        "id": "D9Bd-55cIPGt"
      }
    },
    {
      "cell_type": "markdown",
      "source": [
        "# 실습 3) Voting Classifier : 유방암 데이터"
      ],
      "metadata": {
        "id": "1lE-VthUIknv"
      }
    },
    {
      "cell_type": "markdown",
      "source": [
        "### 데이터 불러오기"
      ],
      "metadata": {
        "id": "PbG3ruNZKSl0"
      }
    },
    {
      "cell_type": "code",
      "source": [
        "#사이킷런 내장 데이터인 유방암 데이터 가져오기 \n",
        "from sklearn.datasets import load_breast_cancer\n",
        "cancer = load_breast_cancer()"
      ],
      "metadata": {
        "id": "O6Zo1h6OJRcU"
      },
      "execution_count": null,
      "outputs": []
    },
    {
      "cell_type": "code",
      "source": [
        "cancer.target #예측해야 되는 값: 0 또는 1"
      ],
      "metadata": {
        "id": "DjKRKgfmJ_i3"
      },
      "execution_count": null,
      "outputs": []
    },
    {
      "cell_type": "markdown",
      "source": [
        "### 훈련 세트와 테스트 세트 분리"
      ],
      "metadata": {
        "id": "nckZX-T9KRQi"
      }
    },
    {
      "cell_type": "code",
      "source": [
        "from sklearn.model_selection import train_test_split\n",
        "train_X, test_X, train_y, test_y = train_test_split(cancer.data, cancer.target,\n",
        "                                                    test_size = 0.2, random_state = 1)"
      ],
      "metadata": {
        "id": "rSLj8W97KZmx"
      },
      "execution_count": null,
      "outputs": []
    },
    {
      "cell_type": "markdown",
      "source": [
        "### Voting Classifier 모델 만들기"
      ],
      "metadata": {
        "id": "pKAqf6D_Ku8J"
      }
    },
    {
      "cell_type": "code",
      "source": [
        "from sklearn.linear_model import LogisticRegression\n",
        "from sklearn.tree import DecisionTreeClassifier\n",
        "\n",
        "#개별 모델은 로지스틱 회귀와 Decision Tree\n",
        "model1 = LogisticRegression()\n",
        "model2 = DecisionTreeClassifier()"
      ],
      "metadata": {
        "id": "NizN1cPJKuCs"
      },
      "execution_count": null,
      "outputs": []
    },
    {
      "cell_type": "code",
      "source": [
        "#VotingClassifier\n",
        "from sklearn.ensemble import VotingClassifier\n",
        "voting = VotingClassifier(estimators = [('LR', model1), ('DT', model2)], voting = 'soft')"
      ],
      "metadata": {
        "id": "evPp2mcqLwDn"
      },
      "execution_count": null,
      "outputs": []
    },
    {
      "cell_type": "code",
      "source": [
        "#VotingClassifier 학습/예측/평가\n",
        "voting.fit(train_X, train_y)"
      ],
      "metadata": {
        "id": "4ok3Sm1DKrRJ"
      },
      "execution_count": null,
      "outputs": []
    },
    {
      "cell_type": "code",
      "source": [
        "from sklearn.metrics import accuracy_score, f1_score\n",
        "print(\"Voting Classifier Accuracy for test data : {:.4f}\".format(accuracy_score(test_y, voting.predict(test_X))))"
      ],
      "metadata": {
        "id": "wAVXrLwTO_Jg"
      },
      "execution_count": null,
      "outputs": []
    },
    {
      "cell_type": "code",
      "source": [
        "#개별 모델의 학습 / 예측 평가\n",
        "classifiers = [model1, model2]\n",
        "for i in classifiers:\n",
        "  i.fit(train_X, train_y)\n",
        "  pred = i.predict(test_X)\n",
        "  class_name = i.__class__.__name__\n",
        "  print('{0} accuracy: {1: .4f}'.format(class_name, accuracy_score(test_y, pred)))"
      ],
      "metadata": {
        "id": "BySaEdH5PCOz"
      },
      "execution_count": null,
      "outputs": []
    },
    {
      "cell_type": "markdown",
      "source": [
        "# 실습 4) Random Forest : 유방암 데이터"
      ],
      "metadata": {
        "id": "7DuCy3XqSbda"
      }
    },
    {
      "cell_type": "code",
      "source": [
        "from sklearn.ensemble import RandomForestClassifier\n",
        "rf = RandomForestClassifier()\n",
        "rf.fit(train_X, train_y)\n",
        "pred = rf.predict(test_X)\n",
        "print(\"Random Forest Classifier Accuracy for test data : {:.4f}\".format(accuracy_score(test_y, pred)))"
      ],
      "metadata": {
        "id": "uFHL49kqQOcq"
      },
      "execution_count": null,
      "outputs": []
    },
    {
      "cell_type": "markdown",
      "source": [
        "### 그리드 서치"
      ],
      "metadata": {
        "id": "G5dkDiKWT5y0"
      }
    },
    {
      "cell_type": "code",
      "source": [
        "from sklearn.model_selection import GridSearchCV\n",
        "\n",
        "params = {'max_depth': [5, 10, 15, 20]}\n",
        "\n",
        "rf_new = RandomForestClassifier(n_estimators = 100)\n",
        "GridCV = GridSearchCV(rf_new, param_grid = params, cv = 5, n_jobs = -1)\n",
        "GridCV.fit(train_X, train_y)\n",
        "\n",
        "print(\"최적의 파라미터: \", GridCV.best_params_)\n",
        "print('최고 예측 정확도: ', GridCV.best_score_)"
      ],
      "metadata": {
        "id": "ndV76wKVTckP"
      },
      "execution_count": null,
      "outputs": []
    },
    {
      "cell_type": "code",
      "source": [
        "rf_new = RandomForestClassifier(max_depth = 20)\n",
        "rf_new.fit(train_X, train_y)\n",
        "pred = rf_new.predict(test_X)\n",
        "print(\"Random Forest Classifier(New) Accuracy for test data : {:.4f}\".format(accuracy_score(test_y, pred)))"
      ],
      "metadata": {
        "id": "NGjyj_EwWlze"
      },
      "execution_count": null,
      "outputs": []
    },
    {
      "cell_type": "markdown",
      "metadata": {
        "id": "jHo_TTPw6eit"
      },
      "source": [
        "#실습 5) Gradient Boost Classifier : 유방암 데이터"
      ]
    },
    {
      "cell_type": "code",
      "execution_count": null,
      "metadata": {
        "id": "K_33VS7J6kKY"
      },
      "outputs": [],
      "source": [
        "from sklearn.ensemble import GradientBoostingClassifier\n",
        "\n",
        "gb_clf = GradientBoostingClassifier()\n",
        "gb_clf.fit(train_X, train_y)\n",
        "gb_pred = gb_clf.predict(test_X)\n",
        "gb_acc = accuracy_score(test_y, gb_pred)\n",
        "\n",
        "print(f\"모델 정확도 : {gb_acc :.4f}\")"
      ]
    }
  ]
}