{
  "nbformat": 4,
  "nbformat_minor": 0,
  "metadata": {
    "colab": {
      "provenance": [],
      "collapsed_sections": [
        "N41cjE95HhPx",
        "nsDeGdFJE2zj",
        "aamdoKMAfRQG",
        "pQKkB0d7QHM6",
        "bdqQsWBVgLX-",
        "dzWv6YTpv1kZ",
        "566YZOQrmt4r",
        "dVbHNDLZkwFx",
        "vqPvn8iG2Icl",
        "PPl2ABP54iXl",
        "EscUhtogJJgJ",
        "jHU6l7bhUPui",
        "6fzg3bt2cscJ",
        "gPllCEVhdnYa",
        "fuNEpyt0hKLQ",
        "0ba6dIWedbp2",
        "Qo6TXUyWlLrn",
        "uIZSWV6ziZgu",
        "UrV1Y7ESn2QY",
        "qJ8ImVV4n2Qa",
        "MH2rU0l6n2Qa",
        "2TWY4bXPn2Qj",
        "_nHFn8xKn2Qj",
        "w6DnTqg_n2Qk",
        "EA5a3_cwj5s7",
        "sMUdCgK3j5s7",
        "Nn1Al5k4E2zp",
        "bMMCB38i5oPY",
        "VSVICrRB5_0K",
        "UIUfFoIz7ZJn",
        "6Xd9UWJcA_4B",
        "R7ggbZA2_fc4",
        "9sksmjlgG4PG"
      ]
    },
    "kernelspec": {
      "name": "python3",
      "display_name": "Python 3"
    },
    "language_info": {
      "name": "python"
    }
  },
  "cells": [
    {
      "cell_type": "code",
      "execution_count": null,
      "metadata": {
        "id": "Vw7A9SAzxVdk"
      },
      "outputs": [],
      "source": [
        "# 기본적인 라이브러리(기초세션에서 다룸)\n",
        "import os\n",
        "import time\n",
        "import random\n",
        "import numpy as np\n",
        "import pandas as pd\n",
        "import matplotlib.pyplot as plt\n",
        "import seaborn as sns"
      ]
    },
    {
      "cell_type": "code",
      "source": [
        "# 구글 드라이브 연동\n",
        "\n",
        "from google.colab import drive\n",
        "drive.mount('/content/drive')"
      ],
      "metadata": {
        "id": "_KXbcY76casg",
        "colab": {
          "base_uri": "https://localhost:8080/"
        },
        "outputId": "5defccc8-9f5a-4da9-c68d-1ee13e211b9c"
      },
      "execution_count": null,
      "outputs": [
        {
          "output_type": "stream",
          "name": "stdout",
          "text": [
            "Drive already mounted at /content/drive; to attempt to forcibly remount, call drive.mount(\"/content/drive\", force_remount=True).\n"
          ]
        }
      ]
    },
    {
      "cell_type": "markdown",
      "source": [
        "# 예제 1"
      ],
      "metadata": {
        "id": "N41cjE95HhPx"
      }
    },
    {
      "cell_type": "markdown",
      "source": [
        "사용할 데이터 : bike.csv"
      ],
      "metadata": {
        "id": "-rZ8dPoxNmta"
      }
    },
    {
      "cell_type": "markdown",
      "source": [
        "주어진 데이터는 서울시 공공데이터인 자전거 대여 수를 나타낸 데이터로 아래와 같다. 데이터에는 자전거 대여 수와 함께 ID, 시간, 날씨 등의 정보를 포함하고 있다."
      ],
      "metadata": {
        "id": "DZbYMIA5PbLq"
      }
    },
    {
      "cell_type": "markdown",
      "source": [
        "서울시 마포구의 날짜별, 시간별 기상상황과 따릉이 대여 수 데이터\n",
        "즉, 따릉이 보관소별로 매일 자전거 대여\n",
        "\n",
        "* id : 마포구에 있는 따릉이 보관소의 고유 id\n",
        "* hour : 따릉이 보관소에서 기상상황을 측정한 시간\n",
        "* temperature : 기온\n",
        "* precipitation : 비가 오지 않았으면 0, 비가 오면 1, null은 비가 온 것도 아니고 안 온 것도 아니라서 센서가 확실히 측정불가한 상태\n",
        "* windspeed : 풍속(평균)\n",
        "* humidity : 습도\n",
        "* visibility : 시정(視程), 시계(視界)(특정 기상 상태에 따른 가시성을 의미)\n",
        "* ozone : 오존\n",
        "* pm10 : 미세먼지(머리카락 굵기의 1/5에서 1/7 크기의 미세먼지)\n",
        "* pm2.5 : 미세먼지(머리카락 굵기의 1/20에서 1/30 크기의 미세먼지)\n",
        "* count : 측정한 날짜의 따릉이 대여 수\n",
        "\n",
        "> 데이터 출처 : https://www.dacon.io/competitions/open/235576/data"
      ],
      "metadata": {
        "id": "vyWOwo6rogUm"
      }
    },
    {
      "cell_type": "markdown",
      "metadata": {
        "id": "nsDeGdFJE2zj"
      },
      "source": [
        "## 데이터 불러오기"
      ]
    },
    {
      "cell_type": "code",
      "execution_count": null,
      "metadata": {
        "scrolled": true,
        "id": "l1qgi_A_E2zj",
        "outputId": "a855215e-c741-492d-d6c9-924804b906d0",
        "colab": {
          "base_uri": "https://localhost:8080/"
        }
      },
      "outputs": [
        {
          "output_type": "execute_result",
          "data": {
            "text/plain": [
              "   id  hour  hour_bef_temperature  hour_bef_precipitation  hour_bef_windspeed  \\\n",
              "0   3    20                  16.3                     1.0                 1.5   \n",
              "1   6    13                  20.1                     0.0                 1.4   \n",
              "2   7     6                  13.9                     0.0                 0.7   \n",
              "3   8    23                   8.1                     0.0                 2.7   \n",
              "4   9    18                  29.5                     0.0                 4.8   \n",
              "\n",
              "   hour_bef_humidity  hour_bef_visibility  hour_bef_ozone  hour_bef_pm10  \\\n",
              "0               89.0                576.0           0.027           76.0   \n",
              "1               48.0                916.0           0.042           73.0   \n",
              "2               79.0               1382.0           0.033           32.0   \n",
              "3               54.0                946.0           0.040           75.0   \n",
              "4                7.0               2000.0           0.057           27.0   \n",
              "\n",
              "   hour_bef_pm2.5  count  \n",
              "0            33.0     49  \n",
              "1            40.0    159  \n",
              "2            19.0     26  \n",
              "3            64.0     57  \n",
              "4            11.0    431  "
            ],
            "text/html": [
              "\n",
              "  <div id=\"df-c67635c5-bc74-4f93-9ddf-1681822f7657\">\n",
              "    <div class=\"colab-df-container\">\n",
              "      <div>\n",
              "<style scoped>\n",
              "    .dataframe tbody tr th:only-of-type {\n",
              "        vertical-align: middle;\n",
              "    }\n",
              "\n",
              "    .dataframe tbody tr th {\n",
              "        vertical-align: top;\n",
              "    }\n",
              "\n",
              "    .dataframe thead th {\n",
              "        text-align: right;\n",
              "    }\n",
              "</style>\n",
              "<table border=\"1\" class=\"dataframe\">\n",
              "  <thead>\n",
              "    <tr style=\"text-align: right;\">\n",
              "      <th></th>\n",
              "      <th>id</th>\n",
              "      <th>hour</th>\n",
              "      <th>hour_bef_temperature</th>\n",
              "      <th>hour_bef_precipitation</th>\n",
              "      <th>hour_bef_windspeed</th>\n",
              "      <th>hour_bef_humidity</th>\n",
              "      <th>hour_bef_visibility</th>\n",
              "      <th>hour_bef_ozone</th>\n",
              "      <th>hour_bef_pm10</th>\n",
              "      <th>hour_bef_pm2.5</th>\n",
              "      <th>count</th>\n",
              "    </tr>\n",
              "  </thead>\n",
              "  <tbody>\n",
              "    <tr>\n",
              "      <th>0</th>\n",
              "      <td>3</td>\n",
              "      <td>20</td>\n",
              "      <td>16.3</td>\n",
              "      <td>1.0</td>\n",
              "      <td>1.5</td>\n",
              "      <td>89.0</td>\n",
              "      <td>576.0</td>\n",
              "      <td>0.027</td>\n",
              "      <td>76.0</td>\n",
              "      <td>33.0</td>\n",
              "      <td>49</td>\n",
              "    </tr>\n",
              "    <tr>\n",
              "      <th>1</th>\n",
              "      <td>6</td>\n",
              "      <td>13</td>\n",
              "      <td>20.1</td>\n",
              "      <td>0.0</td>\n",
              "      <td>1.4</td>\n",
              "      <td>48.0</td>\n",
              "      <td>916.0</td>\n",
              "      <td>0.042</td>\n",
              "      <td>73.0</td>\n",
              "      <td>40.0</td>\n",
              "      <td>159</td>\n",
              "    </tr>\n",
              "    <tr>\n",
              "      <th>2</th>\n",
              "      <td>7</td>\n",
              "      <td>6</td>\n",
              "      <td>13.9</td>\n",
              "      <td>0.0</td>\n",
              "      <td>0.7</td>\n",
              "      <td>79.0</td>\n",
              "      <td>1382.0</td>\n",
              "      <td>0.033</td>\n",
              "      <td>32.0</td>\n",
              "      <td>19.0</td>\n",
              "      <td>26</td>\n",
              "    </tr>\n",
              "    <tr>\n",
              "      <th>3</th>\n",
              "      <td>8</td>\n",
              "      <td>23</td>\n",
              "      <td>8.1</td>\n",
              "      <td>0.0</td>\n",
              "      <td>2.7</td>\n",
              "      <td>54.0</td>\n",
              "      <td>946.0</td>\n",
              "      <td>0.040</td>\n",
              "      <td>75.0</td>\n",
              "      <td>64.0</td>\n",
              "      <td>57</td>\n",
              "    </tr>\n",
              "    <tr>\n",
              "      <th>4</th>\n",
              "      <td>9</td>\n",
              "      <td>18</td>\n",
              "      <td>29.5</td>\n",
              "      <td>0.0</td>\n",
              "      <td>4.8</td>\n",
              "      <td>7.0</td>\n",
              "      <td>2000.0</td>\n",
              "      <td>0.057</td>\n",
              "      <td>27.0</td>\n",
              "      <td>11.0</td>\n",
              "      <td>431</td>\n",
              "    </tr>\n",
              "  </tbody>\n",
              "</table>\n",
              "</div>\n",
              "      <button class=\"colab-df-convert\" onclick=\"convertToInteractive('df-c67635c5-bc74-4f93-9ddf-1681822f7657')\"\n",
              "              title=\"Convert this dataframe to an interactive table.\"\n",
              "              style=\"display:none;\">\n",
              "        \n",
              "  <svg xmlns=\"http://www.w3.org/2000/svg\" height=\"24px\"viewBox=\"0 0 24 24\"\n",
              "       width=\"24px\">\n",
              "    <path d=\"M0 0h24v24H0V0z\" fill=\"none\"/>\n",
              "    <path d=\"M18.56 5.44l.94 2.06.94-2.06 2.06-.94-2.06-.94-.94-2.06-.94 2.06-2.06.94zm-11 1L8.5 8.5l.94-2.06 2.06-.94-2.06-.94L8.5 2.5l-.94 2.06-2.06.94zm10 10l.94 2.06.94-2.06 2.06-.94-2.06-.94-.94-2.06-.94 2.06-2.06.94z\"/><path d=\"M17.41 7.96l-1.37-1.37c-.4-.4-.92-.59-1.43-.59-.52 0-1.04.2-1.43.59L10.3 9.45l-7.72 7.72c-.78.78-.78 2.05 0 2.83L4 21.41c.39.39.9.59 1.41.59.51 0 1.02-.2 1.41-.59l7.78-7.78 2.81-2.81c.8-.78.8-2.07 0-2.86zM5.41 20L4 18.59l7.72-7.72 1.47 1.35L5.41 20z\"/>\n",
              "  </svg>\n",
              "      </button>\n",
              "      \n",
              "  <style>\n",
              "    .colab-df-container {\n",
              "      display:flex;\n",
              "      flex-wrap:wrap;\n",
              "      gap: 12px;\n",
              "    }\n",
              "\n",
              "    .colab-df-convert {\n",
              "      background-color: #E8F0FE;\n",
              "      border: none;\n",
              "      border-radius: 50%;\n",
              "      cursor: pointer;\n",
              "      display: none;\n",
              "      fill: #1967D2;\n",
              "      height: 32px;\n",
              "      padding: 0 0 0 0;\n",
              "      width: 32px;\n",
              "    }\n",
              "\n",
              "    .colab-df-convert:hover {\n",
              "      background-color: #E2EBFA;\n",
              "      box-shadow: 0px 1px 2px rgba(60, 64, 67, 0.3), 0px 1px 3px 1px rgba(60, 64, 67, 0.15);\n",
              "      fill: #174EA6;\n",
              "    }\n",
              "\n",
              "    [theme=dark] .colab-df-convert {\n",
              "      background-color: #3B4455;\n",
              "      fill: #D2E3FC;\n",
              "    }\n",
              "\n",
              "    [theme=dark] .colab-df-convert:hover {\n",
              "      background-color: #434B5C;\n",
              "      box-shadow: 0px 1px 3px 1px rgba(0, 0, 0, 0.15);\n",
              "      filter: drop-shadow(0px 1px 2px rgba(0, 0, 0, 0.3));\n",
              "      fill: #FFFFFF;\n",
              "    }\n",
              "  </style>\n",
              "\n",
              "      <script>\n",
              "        const buttonEl =\n",
              "          document.querySelector('#df-c67635c5-bc74-4f93-9ddf-1681822f7657 button.colab-df-convert');\n",
              "        buttonEl.style.display =\n",
              "          google.colab.kernel.accessAllowed ? 'block' : 'none';\n",
              "\n",
              "        async function convertToInteractive(key) {\n",
              "          const element = document.querySelector('#df-c67635c5-bc74-4f93-9ddf-1681822f7657');\n",
              "          const dataTable =\n",
              "            await google.colab.kernel.invokeFunction('convertToInteractive',\n",
              "                                                     [key], {});\n",
              "          if (!dataTable) return;\n",
              "\n",
              "          const docLinkHtml = 'Like what you see? Visit the ' +\n",
              "            '<a target=\"_blank\" href=https://colab.research.google.com/notebooks/data_table.ipynb>data table notebook</a>'\n",
              "            + ' to learn more about interactive tables.';\n",
              "          element.innerHTML = '';\n",
              "          dataTable['output_type'] = 'display_data';\n",
              "          await google.colab.output.renderOutput(dataTable, element);\n",
              "          const docLink = document.createElement('div');\n",
              "          docLink.innerHTML = docLinkHtml;\n",
              "          element.appendChild(docLink);\n",
              "        }\n",
              "      </script>\n",
              "    </div>\n",
              "  </div>\n",
              "  "
            ]
          },
          "metadata": {},
          "execution_count": 277
        }
      ],
      "source": [
        "path = '/content/drive/MyDrive/세션자료/bike.csv'\n",
        "bike = pd.read_csv(path)\n",
        "bike.head()"
      ]
    },
    {
      "cell_type": "markdown",
      "source": [
        "## 어떤 Task인지 파악하기"
      ],
      "metadata": {
        "id": "aamdoKMAfRQG"
      }
    },
    {
      "cell_type": "markdown",
      "source": [
        "데이터 구조 확인 및 어떤 task인지 파악을 한다."
      ],
      "metadata": {
        "id": "tFgtXQq5nJqf"
      }
    },
    {
      "cell_type": "code",
      "execution_count": null,
      "metadata": {
        "id": "v6VP6ufnE2zk",
        "outputId": "fedd8e31-805d-440c-8730-22e557e48dc8",
        "colab": {
          "base_uri": "https://localhost:8080/"
        }
      },
      "outputs": [
        {
          "output_type": "execute_result",
          "data": {
            "text/plain": [
              "(1459, 11)"
            ]
          },
          "metadata": {},
          "execution_count": 278
        }
      ],
      "source": [
        "# (행,열)\n",
        "# 행의 수 = 데이터(표본)의 갯수 = 1459\n",
        "# 열의 수 = features들의 갯수 = 11\n",
        "\n",
        "bike.shape"
      ]
    },
    {
      "cell_type": "code",
      "source": [
        "# features 살펴보기\n",
        "\n",
        "bike.columns"
      ],
      "metadata": {
        "colab": {
          "base_uri": "https://localhost:8080/"
        },
        "id": "wbZO0g5-Qabr",
        "outputId": "894b519f-3a1f-4a5d-a5ed-5afe9a3d6272"
      },
      "execution_count": null,
      "outputs": [
        {
          "output_type": "execute_result",
          "data": {
            "text/plain": [
              "Index(['id', 'hour', 'hour_bef_temperature', 'hour_bef_precipitation',\n",
              "       'hour_bef_windspeed', 'hour_bef_humidity', 'hour_bef_visibility',\n",
              "       'hour_bef_ozone', 'hour_bef_pm10', 'hour_bef_pm2.5', 'count'],\n",
              "      dtype='object')"
            ]
          },
          "metadata": {},
          "execution_count": 279
        }
      ]
    },
    {
      "cell_type": "code",
      "source": [],
      "metadata": {
        "id": "qceIJrtYhL2V"
      },
      "execution_count": null,
      "outputs": []
    },
    {
      "cell_type": "code",
      "source": [
        "# y값 = 'count(자전거 대여 대수)'열\n",
        "\n",
        "# y(label)값 뜯어내기\n",
        "y_label = bike.loc[:,'count']\n",
        "\n",
        "# y값 분포 확인\n",
        "y_label.value_counts()\n",
        "plt.hist(y_label.values)\n",
        "\n",
        "# 결론\n",
        "# y값 = exist -> Supervised\n",
        "# y값 = 연속형 -> regression"
      ],
      "metadata": {
        "colab": {
          "base_uri": "https://localhost:8080/"
        },
        "id": "QlRHqb5RQgju",
        "outputId": "63b27ee3-29cd-4b5d-9a9d-c217942219d0"
      },
      "execution_count": null,
      "outputs": [
        {
          "output_type": "execute_result",
          "data": {
            "text/plain": [
              "(array([413., 237., 327., 188., 120.,  83.,  47.,  33.,   6.,   5.]),\n",
              " array([  1.,  44.,  87., 130., 173., 216., 259., 302., 345., 388., 431.]),\n",
              " <a list of 10 Patch objects>)"
            ]
          },
          "metadata": {},
          "execution_count": 280
        },
        {
          "output_type": "display_data",
          "data": {
            "text/plain": [
              "<Figure size 432x288 with 1 Axes>"
            ],
            "image/png": "[encoded data removed]"
          },
          "metadata": {
            "needs_background": "light"
          }
        }
      ]
    },
    {
      "cell_type": "code",
      "source": [
        "# 위의 y값을 제외한 진정한 X값들로 이루어진 features 만들기\n",
        "\n",
        "X_features = bike.drop(['count'], axis=1)\n",
        "X_features.columns # 10개의 열들이 진정한 X_features로 사용\n",
        "\n",
        "# 즉, 10개의 X_features열들로 1개의 y_label인 'count'를 맞추는 문제\n",
        "# 여기서 행은 데이터의 갯수, 즉 이러한 갯수의 데이터를 이용해 학습을 시킨다는 의미"
      ],
      "metadata": {
        "colab": {
          "base_uri": "https://localhost:8080/"
        },
        "id": "o_YAnRkXSeEh",
        "outputId": "e75ffa5d-005e-402f-ad8d-699803b650b6"
      },
      "execution_count": null,
      "outputs": [
        {
          "output_type": "execute_result",
          "data": {
            "text/plain": [
              "Index(['id', 'hour', 'hour_bef_temperature', 'hour_bef_precipitation',\n",
              "       'hour_bef_windspeed', 'hour_bef_humidity', 'hour_bef_visibility',\n",
              "       'hour_bef_ozone', 'hour_bef_pm10', 'hour_bef_pm2.5'],\n",
              "      dtype='object')"
            ]
          },
          "metadata": {},
          "execution_count": 281
        }
      ]
    },
    {
      "cell_type": "code",
      "source": [
        "# X_features 열들이 ['연속형','범주형']인지 확인\n",
        "\n",
        "# 1~5번째 행(데이터)\n",
        "X_features.head()\n",
        "\n",
        "# 범주형 데이터 : 'hour_bef_precipitation'\n",
        "# 연속형 데이터 : 나머지"
      ],
      "metadata": {
        "colab": {
          "base_uri": "https://localhost:8080/"
        },
        "id": "njqoWVM1V373",
        "outputId": "b39ecf3c-000f-4d5f-c0ea-302d01c9af69"
      },
      "execution_count": null,
      "outputs": [
        {
          "output_type": "execute_result",
          "data": {
            "text/plain": [
              "   id  hour  hour_bef_temperature  hour_bef_precipitation  hour_bef_windspeed  \\\n",
              "0   3    20                  16.3                     1.0                 1.5   \n",
              "1   6    13                  20.1                     0.0                 1.4   \n",
              "2   7     6                  13.9                     0.0                 0.7   \n",
              "3   8    23                   8.1                     0.0                 2.7   \n",
              "4   9    18                  29.5                     0.0                 4.8   \n",
              "\n",
              "   hour_bef_humidity  hour_bef_visibility  hour_bef_ozone  hour_bef_pm10  \\\n",
              "0               89.0                576.0           0.027           76.0   \n",
              "1               48.0                916.0           0.042           73.0   \n",
              "2               79.0               1382.0           0.033           32.0   \n",
              "3               54.0                946.0           0.040           75.0   \n",
              "4                7.0               2000.0           0.057           27.0   \n",
              "\n",
              "   hour_bef_pm2.5  \n",
              "0            33.0  \n",
              "1            40.0  \n",
              "2            19.0  \n",
              "3            64.0  \n",
              "4            11.0  "
            ],
            "text/html": [
              "\n",
              "  <div id=\"df-bdcca65c-ae5e-4971-8816-2206313a4b19\">\n",
              "    <div class=\"colab-df-container\">\n",
              "      <div>\n",
              "<style scoped>\n",
              "    .dataframe tbody tr th:only-of-type {\n",
              "        vertical-align: middle;\n",
              "    }\n",
              "\n",
              "    .dataframe tbody tr th {\n",
              "        vertical-align: top;\n",
              "    }\n",
              "\n",
              "    .dataframe thead th {\n",
              "        text-align: right;\n",
              "    }\n",
              "</style>\n",
              "<table border=\"1\" class=\"dataframe\">\n",
              "  <thead>\n",
              "    <tr style=\"text-align: right;\">\n",
              "      <th></th>\n",
              "      <th>id</th>\n",
              "      <th>hour</th>\n",
              "      <th>hour_bef_temperature</th>\n",
              "      <th>hour_bef_precipitation</th>\n",
              "      <th>hour_bef_windspeed</th>\n",
              "      <th>hour_bef_humidity</th>\n",
              "      <th>hour_bef_visibility</th>\n",
              "      <th>hour_bef_ozone</th>\n",
              "      <th>hour_bef_pm10</th>\n",
              "      <th>hour_bef_pm2.5</th>\n",
              "    </tr>\n",
              "  </thead>\n",
              "  <tbody>\n",
              "    <tr>\n",
              "      <th>0</th>\n",
              "      <td>3</td>\n",
              "      <td>20</td>\n",
              "      <td>16.3</td>\n",
              "      <td>1.0</td>\n",
              "      <td>1.5</td>\n",
              "      <td>89.0</td>\n",
              "      <td>576.0</td>\n",
              "      <td>0.027</td>\n",
              "      <td>76.0</td>\n",
              "      <td>33.0</td>\n",
              "    </tr>\n",
              "    <tr>\n",
              "      <th>1</th>\n",
              "      <td>6</td>\n",
              "      <td>13</td>\n",
              "      <td>20.1</td>\n",
              "      <td>0.0</td>\n",
              "      <td>1.4</td>\n",
              "      <td>48.0</td>\n",
              "      <td>916.0</td>\n",
              "      <td>0.042</td>\n",
              "      <td>73.0</td>\n",
              "      <td>40.0</td>\n",
              "    </tr>\n",
              "    <tr>\n",
              "      <th>2</th>\n",
              "      <td>7</td>\n",
              "      <td>6</td>\n",
              "      <td>13.9</td>\n",
              "      <td>0.0</td>\n",
              "      <td>0.7</td>\n",
              "      <td>79.0</td>\n",
              "      <td>1382.0</td>\n",
              "      <td>0.033</td>\n",
              "      <td>32.0</td>\n",
              "      <td>19.0</td>\n",
              "    </tr>\n",
              "    <tr>\n",
              "      <th>3</th>\n",
              "      <td>8</td>\n",
              "      <td>23</td>\n",
              "      <td>8.1</td>\n",
              "      <td>0.0</td>\n",
              "      <td>2.7</td>\n",
              "      <td>54.0</td>\n",
              "      <td>946.0</td>\n",
              "      <td>0.040</td>\n",
              "      <td>75.0</td>\n",
              "      <td>64.0</td>\n",
              "    </tr>\n",
              "    <tr>\n",
              "      <th>4</th>\n",
              "      <td>9</td>\n",
              "      <td>18</td>\n",
              "      <td>29.5</td>\n",
              "      <td>0.0</td>\n",
              "      <td>4.8</td>\n",
              "      <td>7.0</td>\n",
              "      <td>2000.0</td>\n",
              "      <td>0.057</td>\n",
              "      <td>27.0</td>\n",
              "      <td>11.0</td>\n",
              "    </tr>\n",
              "  </tbody>\n",
              "</table>\n",
              "</div>\n",
              "      <button class=\"colab-df-convert\" onclick=\"convertToInteractive('df-bdcca65c-ae5e-4971-8816-2206313a4b19')\"\n",
              "              title=\"Convert this dataframe to an interactive table.\"\n",
              "              style=\"display:none;\">\n",
              "        \n",
              "  <svg xmlns=\"http://www.w3.org/2000/svg\" height=\"24px\"viewBox=\"0 0 24 24\"\n",
              "       width=\"24px\">\n",
              "    <path d=\"M0 0h24v24H0V0z\" fill=\"none\"/>\n",
              "    <path d=\"M18.56 5.44l.94 2.06.94-2.06 2.06-.94-2.06-.94-.94-2.06-.94 2.06-2.06.94zm-11 1L8.5 8.5l.94-2.06 2.06-.94-2.06-.94L8.5 2.5l-.94 2.06-2.06.94zm10 10l.94 2.06.94-2.06 2.06-.94-2.06-.94-.94-2.06-.94 2.06-2.06.94z\"/><path d=\"M17.41 7.96l-1.37-1.37c-.4-.4-.92-.59-1.43-.59-.52 0-1.04.2-1.43.59L10.3 9.45l-7.72 7.72c-.78.78-.78 2.05 0 2.83L4 21.41c.39.39.9.59 1.41.59.51 0 1.02-.2 1.41-.59l7.78-7.78 2.81-2.81c.8-.78.8-2.07 0-2.86zM5.41 20L4 18.59l7.72-7.72 1.47 1.35L5.41 20z\"/>\n",
              "  </svg>\n",
              "      </button>\n",
              "      \n",
              "  <style>\n",
              "    .colab-df-container {\n",
              "      display:flex;\n",
              "      flex-wrap:wrap;\n",
              "      gap: 12px;\n",
              "    }\n",
              "\n",
              "    .colab-df-convert {\n",
              "      background-color: #E8F0FE;\n",
              "      border: none;\n",
              "      border-radius: 50%;\n",
              "      cursor: pointer;\n",
              "      display: none;\n",
              "      fill: #1967D2;\n",
              "      height: 32px;\n",
              "      padding: 0 0 0 0;\n",
              "      width: 32px;\n",
              "    }\n",
              "\n",
              "    .colab-df-convert:hover {\n",
              "      background-color: #E2EBFA;\n",
              "      box-shadow: 0px 1px 2px rgba(60, 64, 67, 0.3), 0px 1px 3px 1px rgba(60, 64, 67, 0.15);\n",
              "      fill: #174EA6;\n",
              "    }\n",
              "\n",
              "    [theme=dark] .colab-df-convert {\n",
              "      background-color: #3B4455;\n",
              "      fill: #D2E3FC;\n",
              "    }\n",
              "\n",
              "    [theme=dark] .colab-df-convert:hover {\n",
              "      background-color: #434B5C;\n",
              "      box-shadow: 0px 1px 3px 1px rgba(0, 0, 0, 0.15);\n",
              "      filter: drop-shadow(0px 1px 2px rgba(0, 0, 0, 0.3));\n",
              "      fill: #FFFFFF;\n",
              "    }\n",
              "  </style>\n",
              "\n",
              "      <script>\n",
              "        const buttonEl =\n",
              "          document.querySelector('#df-bdcca65c-ae5e-4971-8816-2206313a4b19 button.colab-df-convert');\n",
              "        buttonEl.style.display =\n",
              "          google.colab.kernel.accessAllowed ? 'block' : 'none';\n",
              "\n",
              "        async function convertToInteractive(key) {\n",
              "          const element = document.querySelector('#df-bdcca65c-ae5e-4971-8816-2206313a4b19');\n",
              "          const dataTable =\n",
              "            await google.colab.kernel.invokeFunction('convertToInteractive',\n",
              "                                                     [key], {});\n",
              "          if (!dataTable) return;\n",
              "\n",
              "          const docLinkHtml = 'Like what you see? Visit the ' +\n",
              "            '<a target=\"_blank\" href=https://colab.research.google.com/notebooks/data_table.ipynb>data table notebook</a>'\n",
              "            + ' to learn more about interactive tables.';\n",
              "          element.innerHTML = '';\n",
              "          dataTable['output_type'] = 'display_data';\n",
              "          await google.colab.output.renderOutput(dataTable, element);\n",
              "          const docLink = document.createElement('div');\n",
              "          docLink.innerHTML = docLinkHtml;\n",
              "          element.appendChild(docLink);\n",
              "        }\n",
              "      </script>\n",
              "    </div>\n",
              "  </div>\n",
              "  "
            ]
          },
          "metadata": {},
          "execution_count": 282
        }
      ]
    },
    {
      "cell_type": "markdown",
      "source": [
        "* 지금까지 배운 모델 중 회귀문제를 풀 수 있는 모델은 '선형회귀'이다.\n",
        "\n",
        "> * 선형회귀의 경우, X값 중에 범주형 데이터가 있을 경우에\n",
        "> * label_encoding -> one-hot_encoding으로 바꾸어주어야한다.\n",
        "\n",
        "> * 범주형 데이터 : 'hour_bef_precipitation'\n",
        "> * 연속형 데이터 : 나머지\n",
        "\n",
        "* 주의\n",
        "> * 사실 hour의 경우에 0~23까지가 대략 60개씩 나타난다.\n",
        "> * 따라서 hour를 어떻게 생각하느냐에 따라 범주형인지 연속형인지가 결정된다.\n",
        "> * 실제로는 데이터를 측정을 하는 과정에서 확실하게 알 수 있지만, 지금의 경우에는 있는 데이터로 주어진 정보로 분석을 함으로 어떤 방식으로 데이터가 수집되었는지 생각해보아야한다.\n",
        "\n",
        "* 예시\n",
        "> * ex. hour=23일 경우, 23시에 기상상황을 측정했다는 의미 -> 범주형자료\n",
        "> * ex. hour=23일 경우, 0~23시부터 기상상황을 측정하여 평균을 했다는 의미 -> 연속형자료\n",
        "> * 앞으로의 문제의 경우에 hour을 범주형으로 해석할 경우, 24개의 집단에 대한 one-hot encoding을 진행해야함으로 변수의 수를 1개 -> 24개로 바꾸지 않기 위해 그냥 연속형으로 생각해 간단하게 하기로 한다.\n",
        "> * 궁금하신 분들은 'hour'을 one-hot_encoding을 하여 진행해보세요.\n",
        "\n"
      ],
      "metadata": {
        "id": "ZAmb_w3jn-Q5"
      }
    },
    {
      "cell_type": "code",
      "source": [
        "bike.hour.value_counts()"
      ],
      "metadata": {
        "colab": {
          "base_uri": "https://localhost:8080/"
        },
        "id": "0igJ1ZxjpDUi",
        "outputId": "c39ec6d8-0960-41be-e3bc-3736028f419a"
      },
      "execution_count": null,
      "outputs": [
        {
          "output_type": "execute_result",
          "data": {
            "text/plain": [
              "20    61\n",
              "4     61\n",
              "5     61\n",
              "11    61\n",
              "22    61\n",
              "19    61\n",
              "15    61\n",
              "7     61\n",
              "8     61\n",
              "10    61\n",
              "1     61\n",
              "14    61\n",
              "9     61\n",
              "3     61\n",
              "2     61\n",
              "18    61\n",
              "23    61\n",
              "6     61\n",
              "12    61\n",
              "13    60\n",
              "17    60\n",
              "16    60\n",
              "0     60\n",
              "21    60\n",
              "Name: hour, dtype: int64"
            ]
          },
          "metadata": {},
          "execution_count": 283
        }
      ]
    },
    {
      "cell_type": "code",
      "source": [
        "# 범주형 데이터(hour_bef_precipitation) 살펴보기\n",
        "\n",
        "bike.loc[:,'hour_bef_precipitation'].value_counts()\n",
        "\n",
        "# 해당 데이터의 경우, '0 or 1'인 binary-class를 갖는다."
      ],
      "metadata": {
        "colab": {
          "base_uri": "https://localhost:8080/"
        },
        "id": "EkECaSr0WS8s",
        "outputId": "f65139a1-3bd7-4bb2-fbf7-43fb1c14ea5d"
      },
      "execution_count": null,
      "outputs": [
        {
          "output_type": "execute_result",
          "data": {
            "text/plain": [
              "0.0    1404\n",
              "1.0      46\n",
              "Name: hour_bef_precipitation, dtype: int64"
            ]
          },
          "metadata": {},
          "execution_count": 284
        }
      ]
    },
    {
      "cell_type": "markdown",
      "source": [
        "## 데이터 전처리하기(1)\n",
        "* 결측치 파악"
      ],
      "metadata": {
        "id": "pQKkB0d7QHM6"
      }
    },
    {
      "cell_type": "markdown",
      "source": [
        "사실상 ML에서는 데이터 전처리를 하는데 가장 오랜시간이 걸린다.\n",
        "\n",
        "데이터 전처리의 경우, 개인의 논리와 그간의 데이터 분석경험에 따라 어느 정도 바뀌어질 수 있다. 따라서 이번 시간에 제시된 방법이 정답은 아니고, 하나의 방법으로 제시하는 측면이라는 걸 확인해주길 바랍니다."
      ],
      "metadata": {
        "id": "AeiRy9AnfYOy"
      }
    },
    {
      "cell_type": "markdown",
      "source": [
        "### 결측치 처리"
      ],
      "metadata": {
        "id": "plI5yCnhUmLl"
      }
    },
    {
      "cell_type": "code",
      "source": [
        "# 항상 결측치가 있는지 확인이 필요하다.\n",
        "\n",
        "bike.isnull().sum()"
      ],
      "metadata": {
        "colab": {
          "base_uri": "https://localhost:8080/"
        },
        "id": "Vhd-fX3HUD5i",
        "outputId": "51b0d13e-146c-48b5-9e22-f24b6aecffc6"
      },
      "execution_count": null,
      "outputs": [
        {
          "output_type": "execute_result",
          "data": {
            "text/plain": [
              "id                          0\n",
              "hour                        0\n",
              "hour_bef_temperature        2\n",
              "hour_bef_precipitation      9\n",
              "hour_bef_windspeed          9\n",
              "hour_bef_humidity           2\n",
              "hour_bef_visibility         2\n",
              "hour_bef_ozone             76\n",
              "hour_bef_pm10              90\n",
              "hour_bef_pm2.5            117\n",
              "count                       0\n",
              "dtype: int64"
            ]
          },
          "metadata": {},
          "execution_count": 285
        }
      ]
    },
    {
      "cell_type": "markdown",
      "source": [
        "질문 : 결측치를 어떻게 처리할 것인가?"
      ],
      "metadata": {
        "id": "dukp8zqGbjjv"
      }
    },
    {
      "cell_type": "markdown",
      "source": [
        "범주형 축(hour_bef_precipitation)의 경우,\n",
        "\n",
        "여러가지 방법이 있다. 이번시간에서는 그 중에서 한 번 생각해볼 2가지 방법을 제안한다.\n",
        "\n",
        "1. 새로운 class를 만들지 않고 기존의 class에 넣을 수 있다.\n",
        "> 설명 : 해당 축은 '0 or 1'값을 갖는 범주형 feature이다. 따라서 '0 or 1'값이 아닌 새로운 class를 만들지 않고, 기존의 '0 or 1'값으로 null을 채운다. 이 때, 최빈값을 사용하기로 한다. 단, '0 or 1'이 같은 비율로 존재할 경우를 주의하여 이 상황에는 어떻게 할지 고민해볼 것\n",
        "\n",
        "2. 새로운 class를 만들어, 기존의 class 범주를 확장시켜 null값을 채운다.\n",
        "> 설명 : null값을 하나의 class로 보고 이 값들만 들어가는 새로운 범주를 만든다. 예를 들면, '0 or 1'이 있기에 같은 정수형 범주인 '2'로 null값을 바꿔주면 된다.\n",
        "\n",
        "이번 시간에서는 2번 방법을 사용한다."
      ],
      "metadata": {
        "id": "aiLH5pgbXQNN"
      }
    },
    {
      "cell_type": "code",
      "source": [
        "# 이번시간에 범주형 축(hour_bef_precipitation)의 경우, \"null -> 새로운 범주 클래스(2)로 만들기\"를 사용\n",
        "\n",
        "# null값을 찾아내기 위해 'null!=null'인 사실을 이용한다.\n",
        "x = np.nan\n",
        "x==x"
      ],
      "metadata": {
        "colab": {
          "base_uri": "https://localhost:8080/"
        },
        "id": "Rqm0JxgZYdXU",
        "outputId": "a95fdb47-d0a3-42e1-ae2f-3403f9d61bbd"
      },
      "execution_count": null,
      "outputs": [
        {
          "output_type": "execute_result",
          "data": {
            "text/plain": [
              "False"
            ]
          },
          "metadata": {},
          "execution_count": 286
        }
      ]
    },
    {
      "cell_type": "code",
      "source": [
        "# 위의 null값의 특징과 apply()함수를 이용\n",
        "\n",
        "bike.loc[:,'hour_bef_precipitation'] = bike.loc[:,'hour_bef_precipitation'].apply(lambda x:2 if x!=x else x)\n",
        "\n",
        "bike.loc[:,'hour_bef_precipitation'].value_counts() # 2라는 class가 새로 생겨남"
      ],
      "metadata": {
        "colab": {
          "base_uri": "https://localhost:8080/"
        },
        "id": "0KTrzGymBr7F",
        "outputId": "7c3780ad-9e62-44f5-e85a-2f1f57310a98"
      },
      "execution_count": null,
      "outputs": [
        {
          "output_type": "execute_result",
          "data": {
            "text/plain": [
              "0.0    1404\n",
              "1.0      46\n",
              "2.0       9\n",
              "Name: hour_bef_precipitation, dtype: int64"
            ]
          },
          "metadata": {},
          "execution_count": 287
        }
      ]
    },
    {
      "cell_type": "code",
      "source": [
        "# 'hour_bef_precipitation'의 null값 2개가 2로 바뀜으로써, 해당 열의 null값이 0이 됨\n",
        "\n",
        "bike.isnull().sum()"
      ],
      "metadata": {
        "colab": {
          "base_uri": "https://localhost:8080/"
        },
        "id": "AmOuXBItB_aA",
        "outputId": "9510d842-42d1-489c-bf3e-0b7db9f0d8c0"
      },
      "execution_count": null,
      "outputs": [
        {
          "output_type": "execute_result",
          "data": {
            "text/plain": [
              "id                          0\n",
              "hour                        0\n",
              "hour_bef_temperature        2\n",
              "hour_bef_precipitation      0\n",
              "hour_bef_windspeed          9\n",
              "hour_bef_humidity           2\n",
              "hour_bef_visibility         2\n",
              "hour_bef_ozone             76\n",
              "hour_bef_pm10              90\n",
              "hour_bef_pm2.5            117\n",
              "count                       0\n",
              "dtype: int64"
            ]
          },
          "metadata": {},
          "execution_count": 288
        }
      ]
    },
    {
      "cell_type": "markdown",
      "source": [
        "나머지의 연속형 축들의 경우,\n",
        "\n",
        "null값의 갯수에 따라 다음과 같이 결측치를 처리\n",
        "\n",
        "1. null값 10개 미만 : 최빈값으로 대체 (빈도가 같아 최빈값이 2개 이상이면, 구한 최빈값의 평균으로 처리)\n",
        "2. null값 10개 이상 100개 미만 : 평균값으로 대체\n",
        "3. null값 100개 이상 : null값 행 제거 "
      ],
      "metadata": {
        "id": "rBXg2YQ6U7AA"
      }
    },
    {
      "cell_type": "markdown",
      "source": [
        "#### 1. null값 10개 미만 : 최빈값으로 대체 (빈도가 같아 최빈값이 2개 이상이면, 구한 최빈값의 평균으로 처리)"
      ],
      "metadata": {
        "id": "hM1OAT2fc-6K"
      }
    },
    {
      "cell_type": "code",
      "source": [
        "# null값이 10개 미만인 축 선별\n",
        "# (hour_bef_temperature, hour_bef_windspeed, hour_bef_humidity, hour_bef_visibility)\n",
        "\n",
        "# 각 features축별 최빈값 확인\n",
        "lessthan10_list = ['hour_bef_temperature', 'hour_bef_windspeed',\n",
        "                   'hour_bef_humidity', 'hour_bef_visibility']\n",
        "\n",
        "bike.loc[:,lessthan10_list].mode()\n",
        "\n",
        "# 'hour_bef_temperature'축이 최빈값이 2개이다."
      ],
      "metadata": {
        "colab": {
          "base_uri": "https://localhost:8080/"
        },
        "id": "U1vMMp_CdIgP",
        "outputId": "c2ef265d-f66e-4a00-8a78-a8223adfedd8"
      },
      "execution_count": null,
      "outputs": [
        {
          "output_type": "execute_result",
          "data": {
            "text/plain": [
              "   hour_bef_temperature  hour_bef_windspeed  hour_bef_humidity  \\\n",
              "0                  18.8                 2.0               44.0   \n",
              "1                  19.4                 NaN                NaN   \n",
              "\n",
              "   hour_bef_visibility  \n",
              "0               2000.0  \n",
              "1                  NaN  "
            ],
            "text/html": [
              "\n",
              "  <div id=\"df-a9dd1fea-a0fb-4009-84dc-ce45d5e8c207\">\n",
              "    <div class=\"colab-df-container\">\n",
              "      <div>\n",
              "<style scoped>\n",
              "    .dataframe tbody tr th:only-of-type {\n",
              "        vertical-align: middle;\n",
              "    }\n",
              "\n",
              "    .dataframe tbody tr th {\n",
              "        vertical-align: top;\n",
              "    }\n",
              "\n",
              "    .dataframe thead th {\n",
              "        text-align: right;\n",
              "    }\n",
              "</style>\n",
              "<table border=\"1\" class=\"dataframe\">\n",
              "  <thead>\n",
              "    <tr style=\"text-align: right;\">\n",
              "      <th></th>\n",
              "      <th>hour_bef_temperature</th>\n",
              "      <th>hour_bef_windspeed</th>\n",
              "      <th>hour_bef_humidity</th>\n",
              "      <th>hour_bef_visibility</th>\n",
              "    </tr>\n",
              "  </thead>\n",
              "  <tbody>\n",
              "    <tr>\n",
              "      <th>0</th>\n",
              "      <td>18.8</td>\n",
              "      <td>2.0</td>\n",
              "      <td>44.0</td>\n",
              "      <td>2000.0</td>\n",
              "    </tr>\n",
              "    <tr>\n",
              "      <th>1</th>\n",
              "      <td>19.4</td>\n",
              "      <td>NaN</td>\n",
              "      <td>NaN</td>\n",
              "      <td>NaN</td>\n",
              "    </tr>\n",
              "  </tbody>\n",
              "</table>\n",
              "</div>\n",
              "      <button class=\"colab-df-convert\" onclick=\"convertToInteractive('df-a9dd1fea-a0fb-4009-84dc-ce45d5e8c207')\"\n",
              "              title=\"Convert this dataframe to an interactive table.\"\n",
              "              style=\"display:none;\">\n",
              "        \n",
              "  <svg xmlns=\"http://www.w3.org/2000/svg\" height=\"24px\"viewBox=\"0 0 24 24\"\n",
              "       width=\"24px\">\n",
              "    <path d=\"M0 0h24v24H0V0z\" fill=\"none\"/>\n",
              "    <path d=\"M18.56 5.44l.94 2.06.94-2.06 2.06-.94-2.06-.94-.94-2.06-.94 2.06-2.06.94zm-11 1L8.5 8.5l.94-2.06 2.06-.94-2.06-.94L8.5 2.5l-.94 2.06-2.06.94zm10 10l.94 2.06.94-2.06 2.06-.94-2.06-.94-.94-2.06-.94 2.06-2.06.94z\"/><path d=\"M17.41 7.96l-1.37-1.37c-.4-.4-.92-.59-1.43-.59-.52 0-1.04.2-1.43.59L10.3 9.45l-7.72 7.72c-.78.78-.78 2.05 0 2.83L4 21.41c.39.39.9.59 1.41.59.51 0 1.02-.2 1.41-.59l7.78-7.78 2.81-2.81c.8-.78.8-2.07 0-2.86zM5.41 20L4 18.59l7.72-7.72 1.47 1.35L5.41 20z\"/>\n",
              "  </svg>\n",
              "      </button>\n",
              "      \n",
              "  <style>\n",
              "    .colab-df-container {\n",
              "      display:flex;\n",
              "      flex-wrap:wrap;\n",
              "      gap: 12px;\n",
              "    }\n",
              "\n",
              "    .colab-df-convert {\n",
              "      background-color: #E8F0FE;\n",
              "      border: none;\n",
              "      border-radius: 50%;\n",
              "      cursor: pointer;\n",
              "      display: none;\n",
              "      fill: #1967D2;\n",
              "      height: 32px;\n",
              "      padding: 0 0 0 0;\n",
              "      width: 32px;\n",
              "    }\n",
              "\n",
              "    .colab-df-convert:hover {\n",
              "      background-color: #E2EBFA;\n",
              "      box-shadow: 0px 1px 2px rgba(60, 64, 67, 0.3), 0px 1px 3px 1px rgba(60, 64, 67, 0.15);\n",
              "      fill: #174EA6;\n",
              "    }\n",
              "\n",
              "    [theme=dark] .colab-df-convert {\n",
              "      background-color: #3B4455;\n",
              "      fill: #D2E3FC;\n",
              "    }\n",
              "\n",
              "    [theme=dark] .colab-df-convert:hover {\n",
              "      background-color: #434B5C;\n",
              "      box-shadow: 0px 1px 3px 1px rgba(0, 0, 0, 0.15);\n",
              "      filter: drop-shadow(0px 1px 2px rgba(0, 0, 0, 0.3));\n",
              "      fill: #FFFFFF;\n",
              "    }\n",
              "  </style>\n",
              "\n",
              "      <script>\n",
              "        const buttonEl =\n",
              "          document.querySelector('#df-a9dd1fea-a0fb-4009-84dc-ce45d5e8c207 button.colab-df-convert');\n",
              "        buttonEl.style.display =\n",
              "          google.colab.kernel.accessAllowed ? 'block' : 'none';\n",
              "\n",
              "        async function convertToInteractive(key) {\n",
              "          const element = document.querySelector('#df-a9dd1fea-a0fb-4009-84dc-ce45d5e8c207');\n",
              "          const dataTable =\n",
              "            await google.colab.kernel.invokeFunction('convertToInteractive',\n",
              "                                                     [key], {});\n",
              "          if (!dataTable) return;\n",
              "\n",
              "          const docLinkHtml = 'Like what you see? Visit the ' +\n",
              "            '<a target=\"_blank\" href=https://colab.research.google.com/notebooks/data_table.ipynb>data table notebook</a>'\n",
              "            + ' to learn more about interactive tables.';\n",
              "          element.innerHTML = '';\n",
              "          dataTable['output_type'] = 'display_data';\n",
              "          await google.colab.output.renderOutput(dataTable, element);\n",
              "          const docLink = document.createElement('div');\n",
              "          docLink.innerHTML = docLinkHtml;\n",
              "          element.appendChild(docLink);\n",
              "        }\n",
              "      </script>\n",
              "    </div>\n",
              "  </div>\n",
              "  "
            ]
          },
          "metadata": {},
          "execution_count": 289
        }
      ]
    },
    {
      "cell_type": "code",
      "source": [
        "# 최빈값이 2개인 것들을 처리하기 위해, mode()로 나온 값에 평균을 해준다.\n",
        "\n",
        "bike.loc[:,lessthan10_list].mode().mean()"
      ],
      "metadata": {
        "colab": {
          "base_uri": "https://localhost:8080/"
        },
        "id": "0ODryA8JdQwP",
        "outputId": "fcf9445f-e1ec-4075-dec2-397247e99f02"
      },
      "execution_count": null,
      "outputs": [
        {
          "output_type": "execute_result",
          "data": {
            "text/plain": [
              "hour_bef_temperature      19.1\n",
              "hour_bef_windspeed         2.0\n",
              "hour_bef_humidity         44.0\n",
              "hour_bef_visibility     2000.0\n",
              "dtype: float64"
            ]
          },
          "metadata": {},
          "execution_count": 290
        }
      ]
    },
    {
      "cell_type": "code",
      "source": [
        "# null값을 최빈값으로 채워준다.\n",
        "for name in lessthan10_list:\n",
        "    bike[name].fillna(bike[name].mode().mean(), inplace=True)\n",
        "\n",
        "# 변경된 결과를 확인\n",
        "bike.isnull().sum()"
      ],
      "metadata": {
        "colab": {
          "base_uri": "https://localhost:8080/"
        },
        "id": "6M6hO5bKdSo5",
        "outputId": "70fc2567-c159-4eb6-a5a7-92d6fdc5540a"
      },
      "execution_count": null,
      "outputs": [
        {
          "output_type": "execute_result",
          "data": {
            "text/plain": [
              "id                          0\n",
              "hour                        0\n",
              "hour_bef_temperature        0\n",
              "hour_bef_precipitation      0\n",
              "hour_bef_windspeed          0\n",
              "hour_bef_humidity           0\n",
              "hour_bef_visibility         0\n",
              "hour_bef_ozone             76\n",
              "hour_bef_pm10              90\n",
              "hour_bef_pm2.5            117\n",
              "count                       0\n",
              "dtype: int64"
            ]
          },
          "metadata": {},
          "execution_count": 291
        }
      ]
    },
    {
      "cell_type": "markdown",
      "metadata": {
        "id": "tFcHZmRlE2zl"
      },
      "source": [
        "#### 2. null값 10개 이상 100개 미만 : 평균값으로 대체\n"
      ]
    },
    {
      "cell_type": "code",
      "execution_count": null,
      "metadata": {
        "id": "KEqChyWPE2zl",
        "outputId": "401b6e2d-8898-4fb5-9bca-6f53f93f036b",
        "colab": {
          "base_uri": "https://localhost:8080/"
        }
      },
      "outputs": [
        {
          "output_type": "execute_result",
          "data": {
            "text/plain": [
              "id                          0\n",
              "hour                        0\n",
              "hour_bef_temperature        0\n",
              "hour_bef_precipitation      0\n",
              "hour_bef_windspeed          0\n",
              "hour_bef_humidity           0\n",
              "hour_bef_visibility         0\n",
              "hour_bef_ozone              0\n",
              "hour_bef_pm10               0\n",
              "hour_bef_pm2.5            117\n",
              "count                       0\n",
              "dtype: int64"
            ]
          },
          "metadata": {},
          "execution_count": 292
        }
      ],
      "source": [
        "# null값이 10개 이상 100개 미만인 축 선별\n",
        "# (hour_bef_ozone, hour_bef_pm10)\n",
        "\n",
        "lessthan100_list = ['hour_bef_ozone', 'hour_bef_pm10']\n",
        "bike.loc[:,lessthan100_list].mean()\n",
        "\n",
        "# null값을 평균값으로 채워준다.\n",
        "for name in lessthan100_list:\n",
        "    bike[name].fillna(bike[name].mean(), inplace=True)\n",
        "\n",
        "# 변경된 결과를 확인\n",
        "bike.isnull().sum()    "
      ]
    },
    {
      "cell_type": "markdown",
      "metadata": {
        "id": "-DSlmCobE2zl"
      },
      "source": [
        "#### 3. null값 100개 이상 : null값 행 제거 \n"
      ]
    },
    {
      "cell_type": "code",
      "execution_count": null,
      "metadata": {
        "id": "253PSxFzE2zl",
        "outputId": "bdd5406f-c39f-46bd-873c-bf09f50932b7",
        "colab": {
          "base_uri": "https://localhost:8080/"
        }
      },
      "outputs": [
        {
          "output_type": "execute_result",
          "data": {
            "text/plain": [
              "id                        0\n",
              "hour                      0\n",
              "hour_bef_temperature      0\n",
              "hour_bef_precipitation    0\n",
              "hour_bef_windspeed        0\n",
              "hour_bef_humidity         0\n",
              "hour_bef_visibility       0\n",
              "hour_bef_ozone            0\n",
              "hour_bef_pm10             0\n",
              "hour_bef_pm2.5            0\n",
              "count                     0\n",
              "dtype: int64"
            ]
          },
          "metadata": {},
          "execution_count": 293
        }
      ],
      "source": [
        "# null값이 100개 이상인 축 선별\n",
        "# hour_bef_pm2.5\n",
        "\n",
        "# null값을 가진 행(데이터)을 제거해준다.\n",
        "bike.dropna(subset = ['hour_bef_pm2.5'], inplace=True)\n",
        "\n",
        "# 변경된 결과를 확인\n",
        "bike.isnull().sum()  "
      ]
    },
    {
      "cell_type": "code",
      "source": [
        "# 결측치를 가진 행(데이터)을 일부 삭제하였음으로, 일부 index는 없을 것이다.\n",
        "# 따라서 결측치를 모두 처리한 데이터의 index를 정리해줌.\n",
        "\n",
        "bike.index"
      ],
      "metadata": {
        "colab": {
          "base_uri": "https://localhost:8080/"
        },
        "id": "0BvZB17rzbOM",
        "outputId": "8fd0b1d7-2fd9-45e0-8bb5-57aa15f80b4d"
      },
      "execution_count": null,
      "outputs": [
        {
          "output_type": "execute_result",
          "data": {
            "text/plain": [
              "Int64Index([   0,    1,    2,    3,    4,    5,    6,    7,    8,    9,\n",
              "            ...\n",
              "            1449, 1450, 1451, 1452, 1453, 1454, 1455, 1456, 1457, 1458],\n",
              "           dtype='int64', length=1342)"
            ]
          },
          "metadata": {},
          "execution_count": 294
        }
      ]
    },
    {
      "cell_type": "code",
      "source": [
        "# index 정리\n",
        "\n",
        "bike.reset_index(drop=True, inplace=True) # drop : index열을 만들것인지 여부\n",
        "bike.index"
      ],
      "metadata": {
        "colab": {
          "base_uri": "https://localhost:8080/"
        },
        "id": "zkvJgFucg_8U",
        "outputId": "9a6cce1d-c70b-42f7-f36b-575b1ba905b9"
      },
      "execution_count": null,
      "outputs": [
        {
          "output_type": "execute_result",
          "data": {
            "text/plain": [
              "RangeIndex(start=0, stop=1342, step=1)"
            ]
          },
          "metadata": {},
          "execution_count": 295
        }
      ]
    },
    {
      "cell_type": "markdown",
      "source": [
        "## 데이터 전처리하기(2)\n",
        "* 범주형 X 데이터 처리 및 변수제거"
      ],
      "metadata": {
        "id": "bdqQsWBVgLX-"
      }
    },
    {
      "cell_type": "markdown",
      "source": [
        "사실상 ML에서는 데이터 전처리를 하는데 가장 오랜시간이 걸린다."
      ],
      "metadata": {
        "id": "EYp0kSBVge7z"
      }
    },
    {
      "cell_type": "markdown",
      "source": [
        "### 1. 범주형 X데이터 처리"
      ],
      "metadata": {
        "id": "dzWv6YTpv1kZ"
      }
    },
    {
      "cell_type": "markdown",
      "source": [
        "* 'hour_bef_precipitation'열의 경우, 범주형이나 [0,1,2]형태로 label_encoding이 되어있다.\n",
        "* 따라서 one-hot_encoding을 해주어야 앞으로의 계산이 올바르다.\n",
        "\n",
        "> 참고\n",
        "> * label_encoding : '냉장고','맥주' -> '1','2'\n",
        "> * one-hot_encoding : '냉장고','맥주' -> [1,0],[0,1]\n",
        "> * 자료 : https://hye-z.tistory.com/m/16#:~:text=One%2DHot%20Encoding,-One%2DHot%20Encoding&text=%EC%9D%B4%ED%9B%84%20%EA%B0%9C%EB%B3%84%EB%A1%9C%20%ED%95%B4%EB%8B%B9%20%EC%BB%AC%EB%9F%BC,%EB%B3%80%ED%99%98%20%ED%9B%84%20%EC%82%AC%EC%9A%A9%EA%B0%80%EB%8A%A5%ED%95%98%EB%8B%A4.\n",
        "\n",
        "> 특히, 선형회귀에서는 범주형변수를 dummy-variable로 하여 처리한다.\n",
        "> * https://drive.google.com/drive/folders/14vLj8wME6-_RsRULfHDH0ZFvdsnTs9E3?usp=share_link"
      ],
      "metadata": {
        "id": "XFr_LZ-0ySZ-"
      }
    },
    {
      "cell_type": "code",
      "source": [
        "# label_encoding된 'hour_bef_precipitation'열\n",
        "\n",
        "bike.loc[:,'hour_bef_precipitation']"
      ],
      "metadata": {
        "colab": {
          "base_uri": "https://localhost:8080/"
        },
        "id": "MJjBDyXEzxDC",
        "outputId": "89d6a570-7cb8-4e4b-d0c0-17766c8199a5"
      },
      "execution_count": null,
      "outputs": [
        {
          "output_type": "execute_result",
          "data": {
            "text/plain": [
              "0       1.0\n",
              "1       0.0\n",
              "2       0.0\n",
              "3       0.0\n",
              "4       0.0\n",
              "       ... \n",
              "1337    0.0\n",
              "1338    0.0\n",
              "1339    0.0\n",
              "1340    0.0\n",
              "1341    0.0\n",
              "Name: hour_bef_precipitation, Length: 1342, dtype: float64"
            ]
          },
          "metadata": {},
          "execution_count": 296
        }
      ]
    },
    {
      "cell_type": "code",
      "source": [
        "# one-hot_encoding된 'hour_bef_precipitation'열\n",
        "\n",
        "temp = pd.get_dummies(bike.loc[:,'hour_bef_precipitation'])\n",
        "temp.columns = ['hbp1','hbp2','hbp3']\n",
        "temp"
      ],
      "metadata": {
        "colab": {
          "base_uri": "https://localhost:8080/"
        },
        "id": "Icbaq-3e0QQ0",
        "outputId": "fbb7f3ff-06ea-4298-8fca-0acc4599ce1e"
      },
      "execution_count": null,
      "outputs": [
        {
          "output_type": "execute_result",
          "data": {
            "text/plain": [
              "      hbp1  hbp2  hbp3\n",
              "0        0     1     0\n",
              "1        1     0     0\n",
              "2        1     0     0\n",
              "3        1     0     0\n",
              "4        1     0     0\n",
              "...    ...   ...   ...\n",
              "1337     1     0     0\n",
              "1338     1     0     0\n",
              "1339     1     0     0\n",
              "1340     1     0     0\n",
              "1341     1     0     0\n",
              "\n",
              "[1342 rows x 3 columns]"
            ],
            "text/html": [
              "\n",
              "  <div id=\"df-65a59121-9f5a-4d3a-a152-937e4adcf99c\">\n",
              "    <div class=\"colab-df-container\">\n",
              "      <div>\n",
              "<style scoped>\n",
              "    .dataframe tbody tr th:only-of-type {\n",
              "        vertical-align: middle;\n",
              "    }\n",
              "\n",
              "    .dataframe tbody tr th {\n",
              "        vertical-align: top;\n",
              "    }\n",
              "\n",
              "    .dataframe thead th {\n",
              "        text-align: right;\n",
              "    }\n",
              "</style>\n",
              "<table border=\"1\" class=\"dataframe\">\n",
              "  <thead>\n",
              "    <tr style=\"text-align: right;\">\n",
              "      <th></th>\n",
              "      <th>hbp1</th>\n",
              "      <th>hbp2</th>\n",
              "      <th>hbp3</th>\n",
              "    </tr>\n",
              "  </thead>\n",
              "  <tbody>\n",
              "    <tr>\n",
              "      <th>0</th>\n",
              "      <td>0</td>\n",
              "      <td>1</td>\n",
              "      <td>0</td>\n",
              "    </tr>\n",
              "    <tr>\n",
              "      <th>1</th>\n",
              "      <td>1</td>\n",
              "      <td>0</td>\n",
              "      <td>0</td>\n",
              "    </tr>\n",
              "    <tr>\n",
              "      <th>2</th>\n",
              "      <td>1</td>\n",
              "      <td>0</td>\n",
              "      <td>0</td>\n",
              "    </tr>\n",
              "    <tr>\n",
              "      <th>3</th>\n",
              "      <td>1</td>\n",
              "      <td>0</td>\n",
              "      <td>0</td>\n",
              "    </tr>\n",
              "    <tr>\n",
              "      <th>4</th>\n",
              "      <td>1</td>\n",
              "      <td>0</td>\n",
              "      <td>0</td>\n",
              "    </tr>\n",
              "    <tr>\n",
              "      <th>...</th>\n",
              "      <td>...</td>\n",
              "      <td>...</td>\n",
              "      <td>...</td>\n",
              "    </tr>\n",
              "    <tr>\n",
              "      <th>1337</th>\n",
              "      <td>1</td>\n",
              "      <td>0</td>\n",
              "      <td>0</td>\n",
              "    </tr>\n",
              "    <tr>\n",
              "      <th>1338</th>\n",
              "      <td>1</td>\n",
              "      <td>0</td>\n",
              "      <td>0</td>\n",
              "    </tr>\n",
              "    <tr>\n",
              "      <th>1339</th>\n",
              "      <td>1</td>\n",
              "      <td>0</td>\n",
              "      <td>0</td>\n",
              "    </tr>\n",
              "    <tr>\n",
              "      <th>1340</th>\n",
              "      <td>1</td>\n",
              "      <td>0</td>\n",
              "      <td>0</td>\n",
              "    </tr>\n",
              "    <tr>\n",
              "      <th>1341</th>\n",
              "      <td>1</td>\n",
              "      <td>0</td>\n",
              "      <td>0</td>\n",
              "    </tr>\n",
              "  </tbody>\n",
              "</table>\n",
              "<p>1342 rows × 3 columns</p>\n",
              "</div>\n",
              "      <button class=\"colab-df-convert\" onclick=\"convertToInteractive('df-65a59121-9f5a-4d3a-a152-937e4adcf99c')\"\n",
              "              title=\"Convert this dataframe to an interactive table.\"\n",
              "              style=\"display:none;\">\n",
              "        \n",
              "  <svg xmlns=\"http://www.w3.org/2000/svg\" height=\"24px\"viewBox=\"0 0 24 24\"\n",
              "       width=\"24px\">\n",
              "    <path d=\"M0 0h24v24H0V0z\" fill=\"none\"/>\n",
              "    <path d=\"M18.56 5.44l.94 2.06.94-2.06 2.06-.94-2.06-.94-.94-2.06-.94 2.06-2.06.94zm-11 1L8.5 8.5l.94-2.06 2.06-.94-2.06-.94L8.5 2.5l-.94 2.06-2.06.94zm10 10l.94 2.06.94-2.06 2.06-.94-2.06-.94-.94-2.06-.94 2.06-2.06.94z\"/><path d=\"M17.41 7.96l-1.37-1.37c-.4-.4-.92-.59-1.43-.59-.52 0-1.04.2-1.43.59L10.3 9.45l-7.72 7.72c-.78.78-.78 2.05 0 2.83L4 21.41c.39.39.9.59 1.41.59.51 0 1.02-.2 1.41-.59l7.78-7.78 2.81-2.81c.8-.78.8-2.07 0-2.86zM5.41 20L4 18.59l7.72-7.72 1.47 1.35L5.41 20z\"/>\n",
              "  </svg>\n",
              "      </button>\n",
              "      \n",
              "  <style>\n",
              "    .colab-df-container {\n",
              "      display:flex;\n",
              "      flex-wrap:wrap;\n",
              "      gap: 12px;\n",
              "    }\n",
              "\n",
              "    .colab-df-convert {\n",
              "      background-color: #E8F0FE;\n",
              "      border: none;\n",
              "      border-radius: 50%;\n",
              "      cursor: pointer;\n",
              "      display: none;\n",
              "      fill: #1967D2;\n",
              "      height: 32px;\n",
              "      padding: 0 0 0 0;\n",
              "      width: 32px;\n",
              "    }\n",
              "\n",
              "    .colab-df-convert:hover {\n",
              "      background-color: #E2EBFA;\n",
              "      box-shadow: 0px 1px 2px rgba(60, 64, 67, 0.3), 0px 1px 3px 1px rgba(60, 64, 67, 0.15);\n",
              "      fill: #174EA6;\n",
              "    }\n",
              "\n",
              "    [theme=dark] .colab-df-convert {\n",
              "      background-color: #3B4455;\n",
              "      fill: #D2E3FC;\n",
              "    }\n",
              "\n",
              "    [theme=dark] .colab-df-convert:hover {\n",
              "      background-color: #434B5C;\n",
              "      box-shadow: 0px 1px 3px 1px rgba(0, 0, 0, 0.15);\n",
              "      filter: drop-shadow(0px 1px 2px rgba(0, 0, 0, 0.3));\n",
              "      fill: #FFFFFF;\n",
              "    }\n",
              "  </style>\n",
              "\n",
              "      <script>\n",
              "        const buttonEl =\n",
              "          document.querySelector('#df-65a59121-9f5a-4d3a-a152-937e4adcf99c button.colab-df-convert');\n",
              "        buttonEl.style.display =\n",
              "          google.colab.kernel.accessAllowed ? 'block' : 'none';\n",
              "\n",
              "        async function convertToInteractive(key) {\n",
              "          const element = document.querySelector('#df-65a59121-9f5a-4d3a-a152-937e4adcf99c');\n",
              "          const dataTable =\n",
              "            await google.colab.kernel.invokeFunction('convertToInteractive',\n",
              "                                                     [key], {});\n",
              "          if (!dataTable) return;\n",
              "\n",
              "          const docLinkHtml = 'Like what you see? Visit the ' +\n",
              "            '<a target=\"_blank\" href=https://colab.research.google.com/notebooks/data_table.ipynb>data table notebook</a>'\n",
              "            + ' to learn more about interactive tables.';\n",
              "          element.innerHTML = '';\n",
              "          dataTable['output_type'] = 'display_data';\n",
              "          await google.colab.output.renderOutput(dataTable, element);\n",
              "          const docLink = document.createElement('div');\n",
              "          docLink.innerHTML = docLinkHtml;\n",
              "          element.appendChild(docLink);\n",
              "        }\n",
              "      </script>\n",
              "    </div>\n",
              "  </div>\n",
              "  "
            ]
          },
          "metadata": {},
          "execution_count": 297
        }
      ]
    },
    {
      "cell_type": "code",
      "source": [
        "# 새로 encoding한 데이터로 바꿔주기\n",
        "\n",
        "bike = bike.drop(['hour_bef_precipitation'], axis=1)\n",
        "bike = pd.concat([bike, temp], axis=1)\n",
        "bike.head()"
      ],
      "metadata": {
        "colab": {
          "base_uri": "https://localhost:8080/"
        },
        "id": "6l7TgH5VzacB",
        "outputId": "cfedb8b9-1b2d-42e1-bff0-c7c9d615cc67"
      },
      "execution_count": null,
      "outputs": [
        {
          "output_type": "execute_result",
          "data": {
            "text/plain": [
              "   id  hour  hour_bef_temperature  hour_bef_windspeed  hour_bef_humidity  \\\n",
              "0   3    20                  16.3                 1.5               89.0   \n",
              "1   6    13                  20.1                 1.4               48.0   \n",
              "2   7     6                  13.9                 0.7               79.0   \n",
              "3   8    23                   8.1                 2.7               54.0   \n",
              "4   9    18                  29.5                 4.8                7.0   \n",
              "\n",
              "   hour_bef_visibility  hour_bef_ozone  hour_bef_pm10  hour_bef_pm2.5  count  \\\n",
              "0                576.0           0.027           76.0            33.0     49   \n",
              "1                916.0           0.042           73.0            40.0    159   \n",
              "2               1382.0           0.033           32.0            19.0     26   \n",
              "3                946.0           0.040           75.0            64.0     57   \n",
              "4               2000.0           0.057           27.0            11.0    431   \n",
              "\n",
              "   hbp1  hbp2  hbp3  \n",
              "0     0     1     0  \n",
              "1     1     0     0  \n",
              "2     1     0     0  \n",
              "3     1     0     0  \n",
              "4     1     0     0  "
            ],
            "text/html": [
              "\n",
              "  <div id=\"df-5f5bc468-676a-47cc-9816-1a308a362d25\">\n",
              "    <div class=\"colab-df-container\">\n",
              "      <div>\n",
              "<style scoped>\n",
              "    .dataframe tbody tr th:only-of-type {\n",
              "        vertical-align: middle;\n",
              "    }\n",
              "\n",
              "    .dataframe tbody tr th {\n",
              "        vertical-align: top;\n",
              "    }\n",
              "\n",
              "    .dataframe thead th {\n",
              "        text-align: right;\n",
              "    }\n",
              "</style>\n",
              "<table border=\"1\" class=\"dataframe\">\n",
              "  <thead>\n",
              "    <tr style=\"text-align: right;\">\n",
              "      <th></th>\n",
              "      <th>id</th>\n",
              "      <th>hour</th>\n",
              "      <th>hour_bef_temperature</th>\n",
              "      <th>hour_bef_windspeed</th>\n",
              "      <th>hour_bef_humidity</th>\n",
              "      <th>hour_bef_visibility</th>\n",
              "      <th>hour_bef_ozone</th>\n",
              "      <th>hour_bef_pm10</th>\n",
              "      <th>hour_bef_pm2.5</th>\n",
              "      <th>count</th>\n",
              "      <th>hbp1</th>\n",
              "      <th>hbp2</th>\n",
              "      <th>hbp3</th>\n",
              "    </tr>\n",
              "  </thead>\n",
              "  <tbody>\n",
              "    <tr>\n",
              "      <th>0</th>\n",
              "      <td>3</td>\n",
              "      <td>20</td>\n",
              "      <td>16.3</td>\n",
              "      <td>1.5</td>\n",
              "      <td>89.0</td>\n",
              "      <td>576.0</td>\n",
              "      <td>0.027</td>\n",
              "      <td>76.0</td>\n",
              "      <td>33.0</td>\n",
              "      <td>49</td>\n",
              "      <td>0</td>\n",
              "      <td>1</td>\n",
              "      <td>0</td>\n",
              "    </tr>\n",
              "    <tr>\n",
              "      <th>1</th>\n",
              "      <td>6</td>\n",
              "      <td>13</td>\n",
              "      <td>20.1</td>\n",
              "      <td>1.4</td>\n",
              "      <td>48.0</td>\n",
              "      <td>916.0</td>\n",
              "      <td>0.042</td>\n",
              "      <td>73.0</td>\n",
              "      <td>40.0</td>\n",
              "      <td>159</td>\n",
              "      <td>1</td>\n",
              "      <td>0</td>\n",
              "      <td>0</td>\n",
              "    </tr>\n",
              "    <tr>\n",
              "      <th>2</th>\n",
              "      <td>7</td>\n",
              "      <td>6</td>\n",
              "      <td>13.9</td>\n",
              "      <td>0.7</td>\n",
              "      <td>79.0</td>\n",
              "      <td>1382.0</td>\n",
              "      <td>0.033</td>\n",
              "      <td>32.0</td>\n",
              "      <td>19.0</td>\n",
              "      <td>26</td>\n",
              "      <td>1</td>\n",
              "      <td>0</td>\n",
              "      <td>0</td>\n",
              "    </tr>\n",
              "    <tr>\n",
              "      <th>3</th>\n",
              "      <td>8</td>\n",
              "      <td>23</td>\n",
              "      <td>8.1</td>\n",
              "      <td>2.7</td>\n",
              "      <td>54.0</td>\n",
              "      <td>946.0</td>\n",
              "      <td>0.040</td>\n",
              "      <td>75.0</td>\n",
              "      <td>64.0</td>\n",
              "      <td>57</td>\n",
              "      <td>1</td>\n",
              "      <td>0</td>\n",
              "      <td>0</td>\n",
              "    </tr>\n",
              "    <tr>\n",
              "      <th>4</th>\n",
              "      <td>9</td>\n",
              "      <td>18</td>\n",
              "      <td>29.5</td>\n",
              "      <td>4.8</td>\n",
              "      <td>7.0</td>\n",
              "      <td>2000.0</td>\n",
              "      <td>0.057</td>\n",
              "      <td>27.0</td>\n",
              "      <td>11.0</td>\n",
              "      <td>431</td>\n",
              "      <td>1</td>\n",
              "      <td>0</td>\n",
              "      <td>0</td>\n",
              "    </tr>\n",
              "  </tbody>\n",
              "</table>\n",
              "</div>\n",
              "      <button class=\"colab-df-convert\" onclick=\"convertToInteractive('df-5f5bc468-676a-47cc-9816-1a308a362d25')\"\n",
              "              title=\"Convert this dataframe to an interactive table.\"\n",
              "              style=\"display:none;\">\n",
              "        \n",
              "  <svg xmlns=\"http://www.w3.org/2000/svg\" height=\"24px\"viewBox=\"0 0 24 24\"\n",
              "       width=\"24px\">\n",
              "    <path d=\"M0 0h24v24H0V0z\" fill=\"none\"/>\n",
              "    <path d=\"M18.56 5.44l.94 2.06.94-2.06 2.06-.94-2.06-.94-.94-2.06-.94 2.06-2.06.94zm-11 1L8.5 8.5l.94-2.06 2.06-.94-2.06-.94L8.5 2.5l-.94 2.06-2.06.94zm10 10l.94 2.06.94-2.06 2.06-.94-2.06-.94-.94-2.06-.94 2.06-2.06.94z\"/><path d=\"M17.41 7.96l-1.37-1.37c-.4-.4-.92-.59-1.43-.59-.52 0-1.04.2-1.43.59L10.3 9.45l-7.72 7.72c-.78.78-.78 2.05 0 2.83L4 21.41c.39.39.9.59 1.41.59.51 0 1.02-.2 1.41-.59l7.78-7.78 2.81-2.81c.8-.78.8-2.07 0-2.86zM5.41 20L4 18.59l7.72-7.72 1.47 1.35L5.41 20z\"/>\n",
              "  </svg>\n",
              "      </button>\n",
              "      \n",
              "  <style>\n",
              "    .colab-df-container {\n",
              "      display:flex;\n",
              "      flex-wrap:wrap;\n",
              "      gap: 12px;\n",
              "    }\n",
              "\n",
              "    .colab-df-convert {\n",
              "      background-color: #E8F0FE;\n",
              "      border: none;\n",
              "      border-radius: 50%;\n",
              "      cursor: pointer;\n",
              "      display: none;\n",
              "      fill: #1967D2;\n",
              "      height: 32px;\n",
              "      padding: 0 0 0 0;\n",
              "      width: 32px;\n",
              "    }\n",
              "\n",
              "    .colab-df-convert:hover {\n",
              "      background-color: #E2EBFA;\n",
              "      box-shadow: 0px 1px 2px rgba(60, 64, 67, 0.3), 0px 1px 3px 1px rgba(60, 64, 67, 0.15);\n",
              "      fill: #174EA6;\n",
              "    }\n",
              "\n",
              "    [theme=dark] .colab-df-convert {\n",
              "      background-color: #3B4455;\n",
              "      fill: #D2E3FC;\n",
              "    }\n",
              "\n",
              "    [theme=dark] .colab-df-convert:hover {\n",
              "      background-color: #434B5C;\n",
              "      box-shadow: 0px 1px 3px 1px rgba(0, 0, 0, 0.15);\n",
              "      filter: drop-shadow(0px 1px 2px rgba(0, 0, 0, 0.3));\n",
              "      fill: #FFFFFF;\n",
              "    }\n",
              "  </style>\n",
              "\n",
              "      <script>\n",
              "        const buttonEl =\n",
              "          document.querySelector('#df-5f5bc468-676a-47cc-9816-1a308a362d25 button.colab-df-convert');\n",
              "        buttonEl.style.display =\n",
              "          google.colab.kernel.accessAllowed ? 'block' : 'none';\n",
              "\n",
              "        async function convertToInteractive(key) {\n",
              "          const element = document.querySelector('#df-5f5bc468-676a-47cc-9816-1a308a362d25');\n",
              "          const dataTable =\n",
              "            await google.colab.kernel.invokeFunction('convertToInteractive',\n",
              "                                                     [key], {});\n",
              "          if (!dataTable) return;\n",
              "\n",
              "          const docLinkHtml = 'Like what you see? Visit the ' +\n",
              "            '<a target=\"_blank\" href=https://colab.research.google.com/notebooks/data_table.ipynb>data table notebook</a>'\n",
              "            + ' to learn more about interactive tables.';\n",
              "          element.innerHTML = '';\n",
              "          dataTable['output_type'] = 'display_data';\n",
              "          await google.colab.output.renderOutput(dataTable, element);\n",
              "          const docLink = document.createElement('div');\n",
              "          docLink.innerHTML = docLinkHtml;\n",
              "          element.appendChild(docLink);\n",
              "        }\n",
              "      </script>\n",
              "    </div>\n",
              "  </div>\n",
              "  "
            ]
          },
          "metadata": {},
          "execution_count": 298
        }
      ]
    },
    {
      "cell_type": "code",
      "source": [
        "# 변경된 'y_label', 'X_features' 만들기\n",
        "\n",
        "y_label = bike.loc[:,'count']\n",
        "X_features = bike.drop(['count'], axis=1)"
      ],
      "metadata": {
        "id": "kgn2vJfG3YnB"
      },
      "execution_count": null,
      "outputs": []
    },
    {
      "cell_type": "markdown",
      "source": [
        "### 2-0. 의미없는 변수제거"
      ],
      "metadata": {
        "id": "566YZOQrmt4r"
      }
    },
    {
      "cell_type": "code",
      "source": [
        "# 그 자체로 의미없는 열 제거\n",
        "\n",
        "# id열 삭제\n",
        "\n",
        "X_features = X_features.drop(['id'], axis=1)\n",
        "X_features.columns"
      ],
      "metadata": {
        "colab": {
          "base_uri": "https://localhost:8080/"
        },
        "id": "zlEVm1bUgtdv",
        "outputId": "d7adca17-7406-418e-f1c7-308f0e174ad2"
      },
      "execution_count": null,
      "outputs": [
        {
          "output_type": "execute_result",
          "data": {
            "text/plain": [
              "Index(['hour', 'hour_bef_temperature', 'hour_bef_windspeed',\n",
              "       'hour_bef_humidity', 'hour_bef_visibility', 'hour_bef_ozone',\n",
              "       'hour_bef_pm10', 'hour_bef_pm2.5', 'hbp1', 'hbp2', 'hbp3'],\n",
              "      dtype='object')"
            ]
          },
          "metadata": {},
          "execution_count": 300
        }
      ]
    },
    {
      "cell_type": "markdown",
      "source": [
        "### 2-1. 다중공선성으로 변수 제거\n",
        "\n",
        "다중공선성이 있는 X변수를 제거한다.\n"
      ],
      "metadata": {
        "id": "dVbHNDLZkwFx"
      }
    },
    {
      "cell_type": "markdown",
      "source": [
        "여러가지 회귀 모델 중 선형회귀모형을 사용하도록 한다. 선형회귀모형을 사용할 때, 다중공선성을 통해 X_features들을 골라낼 수 있다."
      ],
      "metadata": {
        "id": "615rd_ggk1lo"
      }
    },
    {
      "cell_type": "markdown",
      "source": [
        "#### 2-1-1. 상관계수를 살펴본다.(상관행렬 이용)\n",
        "* 변수 제거 후에는 X2_features로 새로 지정"
      ],
      "metadata": {
        "id": "oGyWVdbFm3F-"
      }
    },
    {
      "cell_type": "markdown",
      "source": [
        "1. X_features들의 서로 다른 축들 중에 서로의 상관관계가 높은 것을 찾는다.\n",
        "* 상관관계가 높은 두 축은 다른 축으로 설명이 가능하다는 뜻임으로, 두 개를 모두 이용하지 않고 1개만 사용하자.\n",
        "\n",
        "2. 서로 상관관계가 높은 것들 중 y_label과의 상관관계가 높은 것을 남겨두고, 낮은 것을 제거한다.\n",
        "* 즉, 서로가 서로를 설명할 수 있는 X_features내의 두 축에 대하여 어떤 것을 남길지에 대한 기준을 정해야한다. 이 때, y값과의 상관계수값이 더 큰 것을 남기도록 한다.\n",
        "* 향후, 배울 차원축소에서 '변수선택'의 한 기법(mRMR)에서 비슷하게 적용된다."
      ],
      "metadata": {
        "id": "c9NULQednAXF"
      }
    },
    {
      "cell_type": "markdown",
      "source": [
        "새로운 X_features를 X2_features라 하자."
      ],
      "metadata": {
        "id": "t2ZHXvgvrNoS"
      }
    },
    {
      "cell_type": "code",
      "execution_count": null,
      "metadata": {
        "scrolled": false,
        "id": "C0erwJkHE2zm",
        "outputId": "e130f5e9-5c52-4732-8040-e5161a333277",
        "colab": {
          "base_uri": "https://localhost:8080/",
          "height": 371
        }
      },
      "outputs": [
        {
          "output_type": "display_data",
          "data": {
            "text/plain": [
              "<Figure size 432x288 with 2 Axes>"
            ],
            "image/png": "[encoded data removed]"
          },
          "metadata": {
            "needs_background": "light"
          }
        }
      ],
      "source": [
        "# 1. X_features들의 서로 다른 축들 중에 서로의 상관관계가 높은 것을 찾는다.\n",
        "# sns라이브러리를 통해 시각적으로 확인\n",
        "# 색깔이 진할수록 상관관계가 높다.\n",
        "\n",
        "cmap = sns.light_palette(color=\"black\", as_cmap=True)\n",
        "sns.heatmap(X_features.corr(), annot=True, cmap=cmap)\n",
        "plt.show()"
      ]
    },
    {
      "cell_type": "code",
      "execution_count": null,
      "metadata": {
        "id": "TdOy26kDE2zn",
        "outputId": "3e4f7042-b0ae-4408-f77e-f13de98679b2",
        "colab": {
          "base_uri": "https://localhost:8080/",
          "height": 458
        }
      },
      "outputs": [
        {
          "output_type": "execute_result",
          "data": {
            "text/plain": [
              "                          hour  hour_bef_temperature  hour_bef_windspeed  \\\n",
              "hour                  0.000000              0.402386            0.459823   \n",
              "hour_bef_temperature  0.402386              0.000000            0.370793   \n",
              "hour_bef_windspeed    0.459823              0.370793            0.000000   \n",
              "hour_bef_humidity     0.324711              0.486215            0.427852   \n",
              "hour_bef_visibility   0.193399              0.200341            0.261902   \n",
              "hour_bef_ozone        0.386720              0.525443            0.512580   \n",
              "hour_bef_pm10         0.047382              0.037487            0.005339   \n",
              "hour_bef_pm2.5        0.061229              0.078665            0.198391   \n",
              "hbp1                  0.003116              0.092274            0.002724   \n",
              "hbp2                  0.021609              0.095737            0.011543   \n",
              "hbp3                  0.058964              0.009481            0.034203   \n",
              "\n",
              "                      hour_bef_humidity  hour_bef_visibility  hour_bef_ozone  \\\n",
              "hour                           0.324711             0.193399        0.386720   \n",
              "hour_bef_temperature           0.486215             0.200341        0.525443   \n",
              "hour_bef_windspeed             0.427852             0.261902        0.512580   \n",
              "hour_bef_humidity              0.000000             0.594545        0.405196   \n",
              "hour_bef_visibility            0.594545             0.000000        0.096312   \n",
              "hour_bef_ozone                 0.405196             0.096312        0.000000   \n",
              "hour_bef_pm10                  0.088137             0.419691        0.088233   \n",
              "hour_bef_pm2.5                 0.167736             0.644989        0.017284   \n",
              "hbp1                           0.249698             0.186625        0.060359   \n",
              "hbp2                           0.264583             0.196813        0.064331   \n",
              "hbp3                           0.012641             0.011659        0.002173   \n",
              "\n",
              "                      hour_bef_pm10  hour_bef_pm2.5      hbp1      hbp2  \\\n",
              "hour                       0.047382        0.061229  0.003116  0.021609   \n",
              "hour_bef_temperature       0.037487        0.078665  0.092274  0.095737   \n",
              "hour_bef_windspeed         0.005339        0.198391  0.002724  0.011543   \n",
              "hour_bef_humidity          0.088137        0.167736  0.249698  0.264583   \n",
              "hour_bef_visibility        0.419691        0.644989  0.186625  0.196813   \n",
              "hour_bef_ozone             0.088233        0.017284  0.060359  0.064331   \n",
              "hour_bef_pm10              0.000000        0.489191  0.038516  0.049464   \n",
              "hour_bef_pm2.5             0.489191        0.000000  0.000930  0.004742   \n",
              "hbp1                       0.038516        0.000930  0.000000  0.920048   \n",
              "hbp2                       0.049464        0.004742  0.920048  0.000000   \n",
              "hbp3                       0.018476        0.013567  0.380097  0.012692   \n",
              "\n",
              "                          hbp3  \n",
              "hour                  0.058964  \n",
              "hour_bef_temperature  0.009481  \n",
              "hour_bef_windspeed    0.034203  \n",
              "hour_bef_humidity     0.012641  \n",
              "hour_bef_visibility   0.011659  \n",
              "hour_bef_ozone        0.002173  \n",
              "hour_bef_pm10         0.018476  \n",
              "hour_bef_pm2.5        0.013567  \n",
              "hbp1                  0.380097  \n",
              "hbp2                  0.012692  \n",
              "hbp3                  0.000000  "
            ],
            "text/html": [
              "\n",
              "  <div id=\"df-8c1ed5a7-2ea8-499f-9ed4-13f21ecef88f\">\n",
              "    <div class=\"colab-df-container\">\n",
              "      <div>\n",
              "<style scoped>\n",
              "    .dataframe tbody tr th:only-of-type {\n",
              "        vertical-align: middle;\n",
              "    }\n",
              "\n",
              "    .dataframe tbody tr th {\n",
              "        vertical-align: top;\n",
              "    }\n",
              "\n",
              "    .dataframe thead th {\n",
              "        text-align: right;\n",
              "    }\n",
              "</style>\n",
              "<table border=\"1\" class=\"dataframe\">\n",
              "  <thead>\n",
              "    <tr style=\"text-align: right;\">\n",
              "      <th></th>\n",
              "      <th>hour</th>\n",
              "      <th>hour_bef_temperature</th>\n",
              "      <th>hour_bef_windspeed</th>\n",
              "      <th>hour_bef_humidity</th>\n",
              "      <th>hour_bef_visibility</th>\n",
              "      <th>hour_bef_ozone</th>\n",
              "      <th>hour_bef_pm10</th>\n",
              "      <th>hour_bef_pm2.5</th>\n",
              "      <th>hbp1</th>\n",
              "      <th>hbp2</th>\n",
              "      <th>hbp3</th>\n",
              "    </tr>\n",
              "  </thead>\n",
              "  <tbody>\n",
              "    <tr>\n",
              "      <th>hour</th>\n",
              "      <td>0.000000</td>\n",
              "      <td>0.402386</td>\n",
              "      <td>0.459823</td>\n",
              "      <td>0.324711</td>\n",
              "      <td>0.193399</td>\n",
              "      <td>0.386720</td>\n",
              "      <td>0.047382</td>\n",
              "      <td>0.061229</td>\n",
              "      <td>0.003116</td>\n",
              "      <td>0.021609</td>\n",
              "      <td>0.058964</td>\n",
              "    </tr>\n",
              "    <tr>\n",
              "      <th>hour_bef_temperature</th>\n",
              "      <td>0.402386</td>\n",
              "      <td>0.000000</td>\n",
              "      <td>0.370793</td>\n",
              "      <td>0.486215</td>\n",
              "      <td>0.200341</td>\n",
              "      <td>0.525443</td>\n",
              "      <td>0.037487</td>\n",
              "      <td>0.078665</td>\n",
              "      <td>0.092274</td>\n",
              "      <td>0.095737</td>\n",
              "      <td>0.009481</td>\n",
              "    </tr>\n",
              "    <tr>\n",
              "      <th>hour_bef_windspeed</th>\n",
              "      <td>0.459823</td>\n",
              "      <td>0.370793</td>\n",
              "      <td>0.000000</td>\n",
              "      <td>0.427852</td>\n",
              "      <td>0.261902</td>\n",
              "      <td>0.512580</td>\n",
              "      <td>0.005339</td>\n",
              "      <td>0.198391</td>\n",
              "      <td>0.002724</td>\n",
              "      <td>0.011543</td>\n",
              "      <td>0.034203</td>\n",
              "    </tr>\n",
              "    <tr>\n",
              "      <th>hour_bef_humidity</th>\n",
              "      <td>0.324711</td>\n",
              "      <td>0.486215</td>\n",
              "      <td>0.427852</td>\n",
              "      <td>0.000000</td>\n",
              "      <td>0.594545</td>\n",
              "      <td>0.405196</td>\n",
              "      <td>0.088137</td>\n",
              "      <td>0.167736</td>\n",
              "      <td>0.249698</td>\n",
              "      <td>0.264583</td>\n",
              "      <td>0.012641</td>\n",
              "    </tr>\n",
              "    <tr>\n",
              "      <th>hour_bef_visibility</th>\n",
              "      <td>0.193399</td>\n",
              "      <td>0.200341</td>\n",
              "      <td>0.261902</td>\n",
              "      <td>0.594545</td>\n",
              "      <td>0.000000</td>\n",
              "      <td>0.096312</td>\n",
              "      <td>0.419691</td>\n",
              "      <td>0.644989</td>\n",
              "      <td>0.186625</td>\n",
              "      <td>0.196813</td>\n",
              "      <td>0.011659</td>\n",
              "    </tr>\n",
              "    <tr>\n",
              "      <th>hour_bef_ozone</th>\n",
              "      <td>0.386720</td>\n",
              "      <td>0.525443</td>\n",
              "      <td>0.512580</td>\n",
              "      <td>0.405196</td>\n",
              "      <td>0.096312</td>\n",
              "      <td>0.000000</td>\n",
              "      <td>0.088233</td>\n",
              "      <td>0.017284</td>\n",
              "      <td>0.060359</td>\n",
              "      <td>0.064331</td>\n",
              "      <td>0.002173</td>\n",
              "    </tr>\n",
              "    <tr>\n",
              "      <th>hour_bef_pm10</th>\n",
              "      <td>0.047382</td>\n",
              "      <td>0.037487</td>\n",
              "      <td>0.005339</td>\n",
              "      <td>0.088137</td>\n",
              "      <td>0.419691</td>\n",
              "      <td>0.088233</td>\n",
              "      <td>0.000000</td>\n",
              "      <td>0.489191</td>\n",
              "      <td>0.038516</td>\n",
              "      <td>0.049464</td>\n",
              "      <td>0.018476</td>\n",
              "    </tr>\n",
              "    <tr>\n",
              "      <th>hour_bef_pm2.5</th>\n",
              "      <td>0.061229</td>\n",
              "      <td>0.078665</td>\n",
              "      <td>0.198391</td>\n",
              "      <td>0.167736</td>\n",
              "      <td>0.644989</td>\n",
              "      <td>0.017284</td>\n",
              "      <td>0.489191</td>\n",
              "      <td>0.000000</td>\n",
              "      <td>0.000930</td>\n",
              "      <td>0.004742</td>\n",
              "      <td>0.013567</td>\n",
              "    </tr>\n",
              "    <tr>\n",
              "      <th>hbp1</th>\n",
              "      <td>0.003116</td>\n",
              "      <td>0.092274</td>\n",
              "      <td>0.002724</td>\n",
              "      <td>0.249698</td>\n",
              "      <td>0.186625</td>\n",
              "      <td>0.060359</td>\n",
              "      <td>0.038516</td>\n",
              "      <td>0.000930</td>\n",
              "      <td>0.000000</td>\n",
              "      <td>0.920048</td>\n",
              "      <td>0.380097</td>\n",
              "    </tr>\n",
              "    <tr>\n",
              "      <th>hbp2</th>\n",
              "      <td>0.021609</td>\n",
              "      <td>0.095737</td>\n",
              "      <td>0.011543</td>\n",
              "      <td>0.264583</td>\n",
              "      <td>0.196813</td>\n",
              "      <td>0.064331</td>\n",
              "      <td>0.049464</td>\n",
              "      <td>0.004742</td>\n",
              "      <td>0.920048</td>\n",
              "      <td>0.000000</td>\n",
              "      <td>0.012692</td>\n",
              "    </tr>\n",
              "    <tr>\n",
              "      <th>hbp3</th>\n",
              "      <td>0.058964</td>\n",
              "      <td>0.009481</td>\n",
              "      <td>0.034203</td>\n",
              "      <td>0.012641</td>\n",
              "      <td>0.011659</td>\n",
              "      <td>0.002173</td>\n",
              "      <td>0.018476</td>\n",
              "      <td>0.013567</td>\n",
              "      <td>0.380097</td>\n",
              "      <td>0.012692</td>\n",
              "      <td>0.000000</td>\n",
              "    </tr>\n",
              "  </tbody>\n",
              "</table>\n",
              "</div>\n",
              "      <button class=\"colab-df-convert\" onclick=\"convertToInteractive('df-8c1ed5a7-2ea8-499f-9ed4-13f21ecef88f')\"\n",
              "              title=\"Convert this dataframe to an interactive table.\"\n",
              "              style=\"display:none;\">\n",
              "        \n",
              "  <svg xmlns=\"http://www.w3.org/2000/svg\" height=\"24px\"viewBox=\"0 0 24 24\"\n",
              "       width=\"24px\">\n",
              "    <path d=\"M0 0h24v24H0V0z\" fill=\"none\"/>\n",
              "    <path d=\"M18.56 5.44l.94 2.06.94-2.06 2.06-.94-2.06-.94-.94-2.06-.94 2.06-2.06.94zm-11 1L8.5 8.5l.94-2.06 2.06-.94-2.06-.94L8.5 2.5l-.94 2.06-2.06.94zm10 10l.94 2.06.94-2.06 2.06-.94-2.06-.94-.94-2.06-.94 2.06-2.06.94z\"/><path d=\"M17.41 7.96l-1.37-1.37c-.4-.4-.92-.59-1.43-.59-.52 0-1.04.2-1.43.59L10.3 9.45l-7.72 7.72c-.78.78-.78 2.05 0 2.83L4 21.41c.39.39.9.59 1.41.59.51 0 1.02-.2 1.41-.59l7.78-7.78 2.81-2.81c.8-.78.8-2.07 0-2.86zM5.41 20L4 18.59l7.72-7.72 1.47 1.35L5.41 20z\"/>\n",
              "  </svg>\n",
              "      </button>\n",
              "      \n",
              "  <style>\n",
              "    .colab-df-container {\n",
              "      display:flex;\n",
              "      flex-wrap:wrap;\n",
              "      gap: 12px;\n",
              "    }\n",
              "\n",
              "    .colab-df-convert {\n",
              "      background-color: #E8F0FE;\n",
              "      border: none;\n",
              "      border-radius: 50%;\n",
              "      cursor: pointer;\n",
              "      display: none;\n",
              "      fill: #1967D2;\n",
              "      height: 32px;\n",
              "      padding: 0 0 0 0;\n",
              "      width: 32px;\n",
              "    }\n",
              "\n",
              "    .colab-df-convert:hover {\n",
              "      background-color: #E2EBFA;\n",
              "      box-shadow: 0px 1px 2px rgba(60, 64, 67, 0.3), 0px 1px 3px 1px rgba(60, 64, 67, 0.15);\n",
              "      fill: #174EA6;\n",
              "    }\n",
              "\n",
              "    [theme=dark] .colab-df-convert {\n",
              "      background-color: #3B4455;\n",
              "      fill: #D2E3FC;\n",
              "    }\n",
              "\n",
              "    [theme=dark] .colab-df-convert:hover {\n",
              "      background-color: #434B5C;\n",
              "      box-shadow: 0px 1px 3px 1px rgba(0, 0, 0, 0.15);\n",
              "      filter: drop-shadow(0px 1px 2px rgba(0, 0, 0, 0.3));\n",
              "      fill: #FFFFFF;\n",
              "    }\n",
              "  </style>\n",
              "\n",
              "      <script>\n",
              "        const buttonEl =\n",
              "          document.querySelector('#df-8c1ed5a7-2ea8-499f-9ed4-13f21ecef88f button.colab-df-convert');\n",
              "        buttonEl.style.display =\n",
              "          google.colab.kernel.accessAllowed ? 'block' : 'none';\n",
              "\n",
              "        async function convertToInteractive(key) {\n",
              "          const element = document.querySelector('#df-8c1ed5a7-2ea8-499f-9ed4-13f21ecef88f');\n",
              "          const dataTable =\n",
              "            await google.colab.kernel.invokeFunction('convertToInteractive',\n",
              "                                                     [key], {});\n",
              "          if (!dataTable) return;\n",
              "\n",
              "          const docLinkHtml = 'Like what you see? Visit the ' +\n",
              "            '<a target=\"_blank\" href=https://colab.research.google.com/notebooks/data_table.ipynb>data table notebook</a>'\n",
              "            + ' to learn more about interactive tables.';\n",
              "          element.innerHTML = '';\n",
              "          dataTable['output_type'] = 'display_data';\n",
              "          await google.colab.output.renderOutput(dataTable, element);\n",
              "          const docLink = document.createElement('div');\n",
              "          docLink.innerHTML = docLinkHtml;\n",
              "          element.appendChild(docLink);\n",
              "        }\n",
              "      </script>\n",
              "    </div>\n",
              "  </div>\n",
              "  "
            ]
          },
          "metadata": {},
          "execution_count": 302
        }
      ],
      "source": [
        "# pandas내부의 corr()함수를 통해 수치적으로 정확히 확인\n",
        "\n",
        "cor_matrix = abs(X_features.corr())\n",
        "\n",
        "for i in range(len(cor_matrix.columns)):\n",
        "    cor_matrix.iloc[i,i] = 0\n",
        "\n",
        "cor_matrix"
      ]
    },
    {
      "cell_type": "code",
      "source": [
        "# 상관계수값이 높은 순대로 정렬\n",
        "\n",
        "np.sort(cor_matrix.values.flatten())[::-1]\n",
        "\n",
        "# corr(a,b) = corr(b,a)임으로 똑같은 값이 2개씩 나온다."
      ],
      "metadata": {
        "colab": {
          "base_uri": "https://localhost:8080/"
        },
        "id": "P6XfYEr2o9yB",
        "outputId": "98dd2e5d-0422-4e94-de2e-12ae25692124"
      },
      "execution_count": null,
      "outputs": [
        {
          "output_type": "execute_result",
          "data": {
            "text/plain": [
              "array([0.92004794, 0.92004794, 0.64498948, 0.64498948, 0.59454503,\n",
              "       0.59454503, 0.5254433 , 0.5254433 , 0.51258025, 0.51258025,\n",
              "       0.48919082, 0.48919082, 0.48621461, 0.48621461, 0.45982254,\n",
              "       0.45982254, 0.42785228, 0.42785228, 0.4196908 , 0.4196908 ,\n",
              "       0.40519649, 0.40519649, 0.40238566, 0.40238566, 0.38672037,\n",
              "       0.38672037, 0.38009691, 0.38009691, 0.37079319, 0.37079319,\n",
              "       0.32471089, 0.32471089, 0.26458267, 0.26458267, 0.26190158,\n",
              "       0.26190158, 0.24969783, 0.24969783, 0.20034088, 0.20034088,\n",
              "       0.19839124, 0.19839124, 0.19681324, 0.19681324, 0.1933993 ,\n",
              "       0.1933993 , 0.18662483, 0.18662483, 0.16773596, 0.16773596,\n",
              "       0.09631191, 0.09631191, 0.09573713, 0.09573713, 0.09227373,\n",
              "       0.09227373, 0.08823347, 0.08823347, 0.08813721, 0.08813721,\n",
              "       0.07866529, 0.07866529, 0.064331  , 0.064331  , 0.06122932,\n",
              "       0.06122932, 0.06035891, 0.06035891, 0.05896394, 0.05896394,\n",
              "       0.04946419, 0.04946419, 0.0473816 , 0.0473816 , 0.03851597,\n",
              "       0.03851597, 0.03748724, 0.03748724, 0.03420253, 0.03420253,\n",
              "       0.02160882, 0.02160882, 0.01847564, 0.01847564, 0.01728425,\n",
              "       0.01728425, 0.01356728, 0.01356728, 0.01269208, 0.01269208,\n",
              "       0.01264112, 0.01264112, 0.01165897, 0.01165897, 0.01154296,\n",
              "       0.01154296, 0.00948059, 0.00948059, 0.00533882, 0.00533882,\n",
              "       0.00474161, 0.00474161, 0.00311566, 0.00311566, 0.00272435,\n",
              "       0.00272435, 0.00217275, 0.00217275, 0.00093008, 0.00093008,\n",
              "       0.        , 0.        , 0.        , 0.        , 0.        ,\n",
              "       0.        , 0.        , 0.        , 0.        , 0.        ,\n",
              "       0.        ])"
            ]
          },
          "metadata": {},
          "execution_count": 303
        }
      ]
    },
    {
      "cell_type": "code",
      "source": [
        "# 상관관수값이 가장 큰 두 축을 찾기\n",
        "\n",
        "idx = np.where(cor_matrix == cor_matrix.max().max())[0]\n",
        "print('columns of max corr : {} & {}'.format(cor_matrix.columns[idx[0]], cor_matrix.columns[idx[1]]))"
      ],
      "metadata": {
        "colab": {
          "base_uri": "https://localhost:8080/"
        },
        "id": "PUhnE3V_ZTKN",
        "outputId": "2f8ed30a-a6ed-4891-adde-2582437064ff"
      },
      "execution_count": null,
      "outputs": [
        {
          "output_type": "stream",
          "name": "stdout",
          "text": [
            "columns of max corr : hbp1 & hbp2\n"
          ]
        }
      ]
    },
    {
      "cell_type": "markdown",
      "source": [
        "여기서 확인해볼 점은 hbp1과 hbp2는 같은 범주형 축인 'hour_bef_precipitation'에서 나온 새 축이라는 것이다. "
      ],
      "metadata": {
        "id": "a6pDZGloZWAq"
      }
    },
    {
      "cell_type": "code",
      "source": [
        "# 실제 산점도를 그려보아도, 이 축들의 상관관계가 높은 것이 의미가 없음을 확인할 수 있다.\n",
        "\n",
        "plt.scatter(bike.hbp1,bike.hbp2)"
      ],
      "metadata": {
        "colab": {
          "base_uri": "https://localhost:8080/",
          "height": 282
        },
        "id": "cnKvel0FZpK5",
        "outputId": "0714275c-5c20-4ae0-a5af-ea6bc9dc481e"
      },
      "execution_count": null,
      "outputs": [
        {
          "output_type": "execute_result",
          "data": {
            "text/plain": [
              "<matplotlib.collections.PathCollection at 0x7f37d3f94cd0>"
            ]
          },
          "metadata": {},
          "execution_count": 305
        },
        {
          "output_type": "display_data",
          "data": {
            "text/plain": [
              "<Figure size 432x288 with 1 Axes>"
            ],
            "image/png": "[encoded data removed]"
          },
          "metadata": {
            "needs_background": "light"
          }
        }
      ]
    },
    {
      "cell_type": "code",
      "source": [
        "# one-hot encoding과정에서 생긴 hbp1~hbp3는 제외하고 다시 진행\n",
        "\n",
        "cor_matrix = abs(X_features.iloc[:,:-3].corr())\n",
        "\n",
        "for i in range(len(cor_matrix.columns)):\n",
        "    cor_matrix.iloc[i,i] = 0\n",
        "\n",
        "cor_matrix"
      ],
      "metadata": {
        "colab": {
          "base_uri": "https://localhost:8080/",
          "height": 364
        },
        "id": "hZZ_F4e8aPLP",
        "outputId": "837c9e65-75f4-41bd-bb65-26f72e8a2460"
      },
      "execution_count": null,
      "outputs": [
        {
          "output_type": "execute_result",
          "data": {
            "text/plain": [
              "                          hour  hour_bef_temperature  hour_bef_windspeed  \\\n",
              "hour                  0.000000              0.402386            0.459823   \n",
              "hour_bef_temperature  0.402386              0.000000            0.370793   \n",
              "hour_bef_windspeed    0.459823              0.370793            0.000000   \n",
              "hour_bef_humidity     0.324711              0.486215            0.427852   \n",
              "hour_bef_visibility   0.193399              0.200341            0.261902   \n",
              "hour_bef_ozone        0.386720              0.525443            0.512580   \n",
              "hour_bef_pm10         0.047382              0.037487            0.005339   \n",
              "hour_bef_pm2.5        0.061229              0.078665            0.198391   \n",
              "\n",
              "                      hour_bef_humidity  hour_bef_visibility  hour_bef_ozone  \\\n",
              "hour                           0.324711             0.193399        0.386720   \n",
              "hour_bef_temperature           0.486215             0.200341        0.525443   \n",
              "hour_bef_windspeed             0.427852             0.261902        0.512580   \n",
              "hour_bef_humidity              0.000000             0.594545        0.405196   \n",
              "hour_bef_visibility            0.594545             0.000000        0.096312   \n",
              "hour_bef_ozone                 0.405196             0.096312        0.000000   \n",
              "hour_bef_pm10                  0.088137             0.419691        0.088233   \n",
              "hour_bef_pm2.5                 0.167736             0.644989        0.017284   \n",
              "\n",
              "                      hour_bef_pm10  hour_bef_pm2.5  \n",
              "hour                       0.047382        0.061229  \n",
              "hour_bef_temperature       0.037487        0.078665  \n",
              "hour_bef_windspeed         0.005339        0.198391  \n",
              "hour_bef_humidity          0.088137        0.167736  \n",
              "hour_bef_visibility        0.419691        0.644989  \n",
              "hour_bef_ozone             0.088233        0.017284  \n",
              "hour_bef_pm10              0.000000        0.489191  \n",
              "hour_bef_pm2.5             0.489191        0.000000  "
            ],
            "text/html": [
              "\n",
              "  <div id=\"df-f49f2402-fe28-450e-b608-9874440492f2\">\n",
              "    <div class=\"colab-df-container\">\n",
              "      <div>\n",
              "<style scoped>\n",
              "    .dataframe tbody tr th:only-of-type {\n",
              "        vertical-align: middle;\n",
              "    }\n",
              "\n",
              "    .dataframe tbody tr th {\n",
              "        vertical-align: top;\n",
              "    }\n",
              "\n",
              "    .dataframe thead th {\n",
              "        text-align: right;\n",
              "    }\n",
              "</style>\n",
              "<table border=\"1\" class=\"dataframe\">\n",
              "  <thead>\n",
              "    <tr style=\"text-align: right;\">\n",
              "      <th></th>\n",
              "      <th>hour</th>\n",
              "      <th>hour_bef_temperature</th>\n",
              "      <th>hour_bef_windspeed</th>\n",
              "      <th>hour_bef_humidity</th>\n",
              "      <th>hour_bef_visibility</th>\n",
              "      <th>hour_bef_ozone</th>\n",
              "      <th>hour_bef_pm10</th>\n",
              "      <th>hour_bef_pm2.5</th>\n",
              "    </tr>\n",
              "  </thead>\n",
              "  <tbody>\n",
              "    <tr>\n",
              "      <th>hour</th>\n",
              "      <td>0.000000</td>\n",
              "      <td>0.402386</td>\n",
              "      <td>0.459823</td>\n",
              "      <td>0.324711</td>\n",
              "      <td>0.193399</td>\n",
              "      <td>0.386720</td>\n",
              "      <td>0.047382</td>\n",
              "      <td>0.061229</td>\n",
              "    </tr>\n",
              "    <tr>\n",
              "      <th>hour_bef_temperature</th>\n",
              "      <td>0.402386</td>\n",
              "      <td>0.000000</td>\n",
              "      <td>0.370793</td>\n",
              "      <td>0.486215</td>\n",
              "      <td>0.200341</td>\n",
              "      <td>0.525443</td>\n",
              "      <td>0.037487</td>\n",
              "      <td>0.078665</td>\n",
              "    </tr>\n",
              "    <tr>\n",
              "      <th>hour_bef_windspeed</th>\n",
              "      <td>0.459823</td>\n",
              "      <td>0.370793</td>\n",
              "      <td>0.000000</td>\n",
              "      <td>0.427852</td>\n",
              "      <td>0.261902</td>\n",
              "      <td>0.512580</td>\n",
              "      <td>0.005339</td>\n",
              "      <td>0.198391</td>\n",
              "    </tr>\n",
              "    <tr>\n",
              "      <th>hour_bef_humidity</th>\n",
              "      <td>0.324711</td>\n",
              "      <td>0.486215</td>\n",
              "      <td>0.427852</td>\n",
              "      <td>0.000000</td>\n",
              "      <td>0.594545</td>\n",
              "      <td>0.405196</td>\n",
              "      <td>0.088137</td>\n",
              "      <td>0.167736</td>\n",
              "    </tr>\n",
              "    <tr>\n",
              "      <th>hour_bef_visibility</th>\n",
              "      <td>0.193399</td>\n",
              "      <td>0.200341</td>\n",
              "      <td>0.261902</td>\n",
              "      <td>0.594545</td>\n",
              "      <td>0.000000</td>\n",
              "      <td>0.096312</td>\n",
              "      <td>0.419691</td>\n",
              "      <td>0.644989</td>\n",
              "    </tr>\n",
              "    <tr>\n",
              "      <th>hour_bef_ozone</th>\n",
              "      <td>0.386720</td>\n",
              "      <td>0.525443</td>\n",
              "      <td>0.512580</td>\n",
              "      <td>0.405196</td>\n",
              "      <td>0.096312</td>\n",
              "      <td>0.000000</td>\n",
              "      <td>0.088233</td>\n",
              "      <td>0.017284</td>\n",
              "    </tr>\n",
              "    <tr>\n",
              "      <th>hour_bef_pm10</th>\n",
              "      <td>0.047382</td>\n",
              "      <td>0.037487</td>\n",
              "      <td>0.005339</td>\n",
              "      <td>0.088137</td>\n",
              "      <td>0.419691</td>\n",
              "      <td>0.088233</td>\n",
              "      <td>0.000000</td>\n",
              "      <td>0.489191</td>\n",
              "    </tr>\n",
              "    <tr>\n",
              "      <th>hour_bef_pm2.5</th>\n",
              "      <td>0.061229</td>\n",
              "      <td>0.078665</td>\n",
              "      <td>0.198391</td>\n",
              "      <td>0.167736</td>\n",
              "      <td>0.644989</td>\n",
              "      <td>0.017284</td>\n",
              "      <td>0.489191</td>\n",
              "      <td>0.000000</td>\n",
              "    </tr>\n",
              "  </tbody>\n",
              "</table>\n",
              "</div>\n",
              "      <button class=\"colab-df-convert\" onclick=\"convertToInteractive('df-f49f2402-fe28-450e-b608-9874440492f2')\"\n",
              "              title=\"Convert this dataframe to an interactive table.\"\n",
              "              style=\"display:none;\">\n",
              "        \n",
              "  <svg xmlns=\"http://www.w3.org/2000/svg\" height=\"24px\"viewBox=\"0 0 24 24\"\n",
              "       width=\"24px\">\n",
              "    <path d=\"M0 0h24v24H0V0z\" fill=\"none\"/>\n",
              "    <path d=\"M18.56 5.44l.94 2.06.94-2.06 2.06-.94-2.06-.94-.94-2.06-.94 2.06-2.06.94zm-11 1L8.5 8.5l.94-2.06 2.06-.94-2.06-.94L8.5 2.5l-.94 2.06-2.06.94zm10 10l.94 2.06.94-2.06 2.06-.94-2.06-.94-.94-2.06-.94 2.06-2.06.94z\"/><path d=\"M17.41 7.96l-1.37-1.37c-.4-.4-.92-.59-1.43-.59-.52 0-1.04.2-1.43.59L10.3 9.45l-7.72 7.72c-.78.78-.78 2.05 0 2.83L4 21.41c.39.39.9.59 1.41.59.51 0 1.02-.2 1.41-.59l7.78-7.78 2.81-2.81c.8-.78.8-2.07 0-2.86zM5.41 20L4 18.59l7.72-7.72 1.47 1.35L5.41 20z\"/>\n",
              "  </svg>\n",
              "      </button>\n",
              "      \n",
              "  <style>\n",
              "    .colab-df-container {\n",
              "      display:flex;\n",
              "      flex-wrap:wrap;\n",
              "      gap: 12px;\n",
              "    }\n",
              "\n",
              "    .colab-df-convert {\n",
              "      background-color: #E8F0FE;\n",
              "      border: none;\n",
              "      border-radius: 50%;\n",
              "      cursor: pointer;\n",
              "      display: none;\n",
              "      fill: #1967D2;\n",
              "      height: 32px;\n",
              "      padding: 0 0 0 0;\n",
              "      width: 32px;\n",
              "    }\n",
              "\n",
              "    .colab-df-convert:hover {\n",
              "      background-color: #E2EBFA;\n",
              "      box-shadow: 0px 1px 2px rgba(60, 64, 67, 0.3), 0px 1px 3px 1px rgba(60, 64, 67, 0.15);\n",
              "      fill: #174EA6;\n",
              "    }\n",
              "\n",
              "    [theme=dark] .colab-df-convert {\n",
              "      background-color: #3B4455;\n",
              "      fill: #D2E3FC;\n",
              "    }\n",
              "\n",
              "    [theme=dark] .colab-df-convert:hover {\n",
              "      background-color: #434B5C;\n",
              "      box-shadow: 0px 1px 3px 1px rgba(0, 0, 0, 0.15);\n",
              "      filter: drop-shadow(0px 1px 2px rgba(0, 0, 0, 0.3));\n",
              "      fill: #FFFFFF;\n",
              "    }\n",
              "  </style>\n",
              "\n",
              "      <script>\n",
              "        const buttonEl =\n",
              "          document.querySelector('#df-f49f2402-fe28-450e-b608-9874440492f2 button.colab-df-convert');\n",
              "        buttonEl.style.display =\n",
              "          google.colab.kernel.accessAllowed ? 'block' : 'none';\n",
              "\n",
              "        async function convertToInteractive(key) {\n",
              "          const element = document.querySelector('#df-f49f2402-fe28-450e-b608-9874440492f2');\n",
              "          const dataTable =\n",
              "            await google.colab.kernel.invokeFunction('convertToInteractive',\n",
              "                                                     [key], {});\n",
              "          if (!dataTable) return;\n",
              "\n",
              "          const docLinkHtml = 'Like what you see? Visit the ' +\n",
              "            '<a target=\"_blank\" href=https://colab.research.google.com/notebooks/data_table.ipynb>data table notebook</a>'\n",
              "            + ' to learn more about interactive tables.';\n",
              "          element.innerHTML = '';\n",
              "          dataTable['output_type'] = 'display_data';\n",
              "          await google.colab.output.renderOutput(dataTable, element);\n",
              "          const docLink = document.createElement('div');\n",
              "          docLink.innerHTML = docLinkHtml;\n",
              "          element.appendChild(docLink);\n",
              "        }\n",
              "      </script>\n",
              "    </div>\n",
              "  </div>\n",
              "  "
            ]
          },
          "metadata": {},
          "execution_count": 311
        }
      ]
    },
    {
      "cell_type": "code",
      "source": [
        "# 상관계수값이 높은 순대로 정렬\n",
        "\n",
        "np.sort(cor_matrix.values.flatten())[::-1]\n",
        "\n",
        "# corr(a,b) = corr(b,a)임으로 똑같은 값이 2개씩 나온다.\n",
        "# 가장 큰 값이 '0.64498948'정도이다.\n",
        "# 이 값을 가진 두 축을 찾아 하나를 제거하도록 하자.\n",
        "\n",
        "# 참고\n",
        "# 사실 어떤 것을 제거할지는 개인의 판단에 맡긴다.\n",
        "# 상관관계가 높은 두 축들을 찾아내어, 두 축에 대한 2차원 산점도를 그려보고 결정해도 된다.\n",
        "# 왜냐하면, corr는 하나의 지표임으로 두 축과의 관계를 잘 나타내지 않을 수 있기 때문."
      ],
      "metadata": {
        "colab": {
          "base_uri": "https://localhost:8080/"
        },
        "id": "g2vEOrL_ZNDK",
        "outputId": "c41a0bbb-e069-4303-80d5-2fca16b6333d"
      },
      "execution_count": null,
      "outputs": [
        {
          "output_type": "execute_result",
          "data": {
            "text/plain": [
              "array([0.64498948, 0.64498948, 0.59454503, 0.59454503, 0.5254433 ,\n",
              "       0.5254433 , 0.51258025, 0.51258025, 0.48919082, 0.48919082,\n",
              "       0.48621461, 0.48621461, 0.45982254, 0.45982254, 0.42785228,\n",
              "       0.42785228, 0.4196908 , 0.4196908 , 0.40519649, 0.40519649,\n",
              "       0.40238566, 0.40238566, 0.38672037, 0.38672037, 0.37079319,\n",
              "       0.37079319, 0.32471089, 0.32471089, 0.26190158, 0.26190158,\n",
              "       0.20034088, 0.20034088, 0.19839124, 0.19839124, 0.1933993 ,\n",
              "       0.1933993 , 0.16773596, 0.16773596, 0.09631191, 0.09631191,\n",
              "       0.08823347, 0.08823347, 0.08813721, 0.08813721, 0.07866529,\n",
              "       0.07866529, 0.06122932, 0.06122932, 0.0473816 , 0.0473816 ,\n",
              "       0.03748724, 0.03748724, 0.01728425, 0.01728425, 0.00533882,\n",
              "       0.00533882, 0.        , 0.        , 0.        , 0.        ,\n",
              "       0.        , 0.        , 0.        , 0.        ])"
            ]
          },
          "metadata": {},
          "execution_count": 307
        }
      ]
    },
    {
      "cell_type": "code",
      "source": [
        "# 상관관수값이 가장 큰 두 축을 찾기\n",
        "\n",
        "idx = np.where(cor_matrix == cor_matrix.max().max())[0]\n",
        "print('columns of max corr : {} & {}'.format(cor_matrix.columns[idx[0]], cor_matrix.columns[idx[1]]))"
      ],
      "metadata": {
        "colab": {
          "base_uri": "https://localhost:8080/"
        },
        "id": "KTVTFzpoo9Gh",
        "outputId": "889e65a1-7330-4061-e546-0f1eb3edfb8f"
      },
      "execution_count": null,
      "outputs": [
        {
          "output_type": "stream",
          "name": "stdout",
          "text": [
            "columns of max corr : hour_bef_visibility & hour_bef_pm2.5\n"
          ]
        }
      ]
    },
    {
      "cell_type": "code",
      "execution_count": null,
      "metadata": {
        "id": "7i5JkjuUE2zn",
        "outputId": "24122c9b-9ed4-4d8e-b9f8-4f9716695b9f",
        "colab": {
          "base_uri": "https://localhost:8080/"
        }
      },
      "outputs": [
        {
          "output_type": "stream",
          "name": "stdout",
          "text": [
            "hour_bef_visibility : 0.30660493443433273\n",
            "hour_bef_pm2.5 : -0.13429258191572585\n"
          ]
        }
      ],
      "source": [
        "# 2. 서로 상관관계가 높은 것들 중 y_label과의 상관관계가 높은 것을 남겨두고, 낮은 것을 제거한다. \n",
        "\n",
        "# 'hour_bef_visibility' & 'hour_bef_pm2.5'\n",
        "\n",
        "print('hour_bef_visibility :', X_features.loc[:,'hour_bef_visibility'].corr(y_label))\n",
        "print('hour_bef_pm2.5 :', X_features.loc[:,'hour_bef_pm2.5'].corr(y_label))"
      ]
    },
    {
      "cell_type": "code",
      "execution_count": null,
      "metadata": {
        "id": "F1sIL0hBE2zn",
        "outputId": "53c2f866-5ade-46e5-8a43-d3574be4c181",
        "colab": {
          "base_uri": "https://localhost:8080/"
        }
      },
      "outputs": [
        {
          "output_type": "execute_result",
          "data": {
            "text/plain": [
              "Index(['hour', 'hour_bef_temperature', 'hour_bef_windspeed',\n",
              "       'hour_bef_humidity', 'hour_bef_visibility', 'hour_bef_ozone',\n",
              "       'hour_bef_pm10', 'hbp1', 'hbp2', 'hbp3'],\n",
              "      dtype='object')"
            ]
          },
          "metadata": {},
          "execution_count": 310
        }
      ],
      "source": [
        "# y_target과 상관계수값이 더 작은 'hour_bef_pm2.5'열을 제거한다.\n",
        "\n",
        "X2_features = X_features.drop('hour_bef_pm2.5', axis=1)\n",
        "X2_features.columns"
      ]
    },
    {
      "cell_type": "markdown",
      "metadata": {
        "id": "ZEMumMn_E2zn"
      },
      "source": [
        "#### 2-1-2. VIF를 통해 다중공선성 위험이 제일 큰 변수 한개를 제거\n",
        "* 위에서 변수를 제거한 이후 만들어진 X2_features을 사용한다.\n",
        "* 변수 제거 후에는 X3_features로 새로 지정\n"
      ]
    },
    {
      "cell_type": "code",
      "source": [
        "from statsmodels.stats.outliers_influence import variance_inflation_factor\n",
        "\n",
        "# 값을 저장할 데이터프레임 변수\n",
        "vif = pd.DataFrame()\n",
        "\n",
        "# 첫번째 features축은 columns이름으로\n",
        "vif[\"features\"] = X2_features.columns # 독립변수들의 이름들로 구성된 features열 추가\n",
        "\n",
        "# 두번째 축은 VIF값을 계산하여 집어넣기\n",
        "vif[\"VIF Factor\"] = [variance_inflation_factor(X2_features.values, i) for i in range(X2_features.shape[1])] # 리스트내포\n",
        "\n",
        "vif"
      ],
      "metadata": {
        "colab": {
          "base_uri": "https://localhost:8080/",
          "height": 362
        },
        "id": "qJxbPmMRsnvV",
        "outputId": "0ad08e73-3a28-4e0f-a5ff-ff7f6b93ae18"
      },
      "execution_count": null,
      "outputs": [
        {
          "output_type": "execute_result",
          "data": {
            "text/plain": [
              "               features  VIF Factor\n",
              "0                  hour    1.408332\n",
              "1  hour_bef_temperature    1.706727\n",
              "2    hour_bef_windspeed    1.643662\n",
              "3     hour_bef_humidity    2.869818\n",
              "4   hour_bef_visibility    2.567377\n",
              "5        hour_bef_ozone    1.740091\n",
              "6         hour_bef_pm10    1.624140\n",
              "7                  hbp1  125.665213\n",
              "8                  hbp2    5.122999\n",
              "9                  hbp3    1.688444"
            ],
            "text/html": [
              "\n",
              "  <div id=\"df-6846fa92-6219-4c18-b1f4-41a10e116101\">\n",
              "    <div class=\"colab-df-container\">\n",
              "      <div>\n",
              "<style scoped>\n",
              "    .dataframe tbody tr th:only-of-type {\n",
              "        vertical-align: middle;\n",
              "    }\n",
              "\n",
              "    .dataframe tbody tr th {\n",
              "        vertical-align: top;\n",
              "    }\n",
              "\n",
              "    .dataframe thead th {\n",
              "        text-align: right;\n",
              "    }\n",
              "</style>\n",
              "<table border=\"1\" class=\"dataframe\">\n",
              "  <thead>\n",
              "    <tr style=\"text-align: right;\">\n",
              "      <th></th>\n",
              "      <th>features</th>\n",
              "      <th>VIF Factor</th>\n",
              "    </tr>\n",
              "  </thead>\n",
              "  <tbody>\n",
              "    <tr>\n",
              "      <th>0</th>\n",
              "      <td>hour</td>\n",
              "      <td>1.408332</td>\n",
              "    </tr>\n",
              "    <tr>\n",
              "      <th>1</th>\n",
              "      <td>hour_bef_temperature</td>\n",
              "      <td>1.706727</td>\n",
              "    </tr>\n",
              "    <tr>\n",
              "      <th>2</th>\n",
              "      <td>hour_bef_windspeed</td>\n",
              "      <td>1.643662</td>\n",
              "    </tr>\n",
              "    <tr>\n",
              "      <th>3</th>\n",
              "      <td>hour_bef_humidity</td>\n",
              "      <td>2.869818</td>\n",
              "    </tr>\n",
              "    <tr>\n",
              "      <th>4</th>\n",
              "      <td>hour_bef_visibility</td>\n",
              "      <td>2.567377</td>\n",
              "    </tr>\n",
              "    <tr>\n",
              "      <th>5</th>\n",
              "      <td>hour_bef_ozone</td>\n",
              "      <td>1.740091</td>\n",
              "    </tr>\n",
              "    <tr>\n",
              "      <th>6</th>\n",
              "      <td>hour_bef_pm10</td>\n",
              "      <td>1.624140</td>\n",
              "    </tr>\n",
              "    <tr>\n",
              "      <th>7</th>\n",
              "      <td>hbp1</td>\n",
              "      <td>125.665213</td>\n",
              "    </tr>\n",
              "    <tr>\n",
              "      <th>8</th>\n",
              "      <td>hbp2</td>\n",
              "      <td>5.122999</td>\n",
              "    </tr>\n",
              "    <tr>\n",
              "      <th>9</th>\n",
              "      <td>hbp3</td>\n",
              "      <td>1.688444</td>\n",
              "    </tr>\n",
              "  </tbody>\n",
              "</table>\n",
              "</div>\n",
              "      <button class=\"colab-df-convert\" onclick=\"convertToInteractive('df-6846fa92-6219-4c18-b1f4-41a10e116101')\"\n",
              "              title=\"Convert this dataframe to an interactive table.\"\n",
              "              style=\"display:none;\">\n",
              "        \n",
              "  <svg xmlns=\"http://www.w3.org/2000/svg\" height=\"24px\"viewBox=\"0 0 24 24\"\n",
              "       width=\"24px\">\n",
              "    <path d=\"M0 0h24v24H0V0z\" fill=\"none\"/>\n",
              "    <path d=\"M18.56 5.44l.94 2.06.94-2.06 2.06-.94-2.06-.94-.94-2.06-.94 2.06-2.06.94zm-11 1L8.5 8.5l.94-2.06 2.06-.94-2.06-.94L8.5 2.5l-.94 2.06-2.06.94zm10 10l.94 2.06.94-2.06 2.06-.94-2.06-.94-.94-2.06-.94 2.06-2.06.94z\"/><path d=\"M17.41 7.96l-1.37-1.37c-.4-.4-.92-.59-1.43-.59-.52 0-1.04.2-1.43.59L10.3 9.45l-7.72 7.72c-.78.78-.78 2.05 0 2.83L4 21.41c.39.39.9.59 1.41.59.51 0 1.02-.2 1.41-.59l7.78-7.78 2.81-2.81c.8-.78.8-2.07 0-2.86zM5.41 20L4 18.59l7.72-7.72 1.47 1.35L5.41 20z\"/>\n",
              "  </svg>\n",
              "      </button>\n",
              "      \n",
              "  <style>\n",
              "    .colab-df-container {\n",
              "      display:flex;\n",
              "      flex-wrap:wrap;\n",
              "      gap: 12px;\n",
              "    }\n",
              "\n",
              "    .colab-df-convert {\n",
              "      background-color: #E8F0FE;\n",
              "      border: none;\n",
              "      border-radius: 50%;\n",
              "      cursor: pointer;\n",
              "      display: none;\n",
              "      fill: #1967D2;\n",
              "      height: 32px;\n",
              "      padding: 0 0 0 0;\n",
              "      width: 32px;\n",
              "    }\n",
              "\n",
              "    .colab-df-convert:hover {\n",
              "      background-color: #E2EBFA;\n",
              "      box-shadow: 0px 1px 2px rgba(60, 64, 67, 0.3), 0px 1px 3px 1px rgba(60, 64, 67, 0.15);\n",
              "      fill: #174EA6;\n",
              "    }\n",
              "\n",
              "    [theme=dark] .colab-df-convert {\n",
              "      background-color: #3B4455;\n",
              "      fill: #D2E3FC;\n",
              "    }\n",
              "\n",
              "    [theme=dark] .colab-df-convert:hover {\n",
              "      background-color: #434B5C;\n",
              "      box-shadow: 0px 1px 3px 1px rgba(0, 0, 0, 0.15);\n",
              "      filter: drop-shadow(0px 1px 2px rgba(0, 0, 0, 0.3));\n",
              "      fill: #FFFFFF;\n",
              "    }\n",
              "  </style>\n",
              "\n",
              "      <script>\n",
              "        const buttonEl =\n",
              "          document.querySelector('#df-6846fa92-6219-4c18-b1f4-41a10e116101 button.colab-df-convert');\n",
              "        buttonEl.style.display =\n",
              "          google.colab.kernel.accessAllowed ? 'block' : 'none';\n",
              "\n",
              "        async function convertToInteractive(key) {\n",
              "          const element = document.querySelector('#df-6846fa92-6219-4c18-b1f4-41a10e116101');\n",
              "          const dataTable =\n",
              "            await google.colab.kernel.invokeFunction('convertToInteractive',\n",
              "                                                     [key], {});\n",
              "          if (!dataTable) return;\n",
              "\n",
              "          const docLinkHtml = 'Like what you see? Visit the ' +\n",
              "            '<a target=\"_blank\" href=https://colab.research.google.com/notebooks/data_table.ipynb>data table notebook</a>'\n",
              "            + ' to learn more about interactive tables.';\n",
              "          element.innerHTML = '';\n",
              "          dataTable['output_type'] = 'display_data';\n",
              "          await google.colab.output.renderOutput(dataTable, element);\n",
              "          const docLink = document.createElement('div');\n",
              "          docLink.innerHTML = docLinkHtml;\n",
              "          element.appendChild(docLink);\n",
              "        }\n",
              "      </script>\n",
              "    </div>\n",
              "  </div>\n",
              "  "
            ]
          },
          "metadata": {},
          "execution_count": 313
        }
      ]
    },
    {
      "cell_type": "markdown",
      "source": [
        "VIF란?\n",
        "* 어떤 축이 다른 축으로 표현될 수 있느냐를 R^2으로 나타낸 점수이다.\n",
        "* hbp1~hbp3의 경우, hp3는 9개의 1과 나머지는 모두 0으로 되어 있다.\n",
        "* 따라서 hbp1과 hbp2 둘 중 하나는 1임으로 'hbp1+hbp2=1' 관계라고 볼 수 있다.\n",
        "* 즉, hbp1 = 1-hbp2 로 표현될 수 있고, 이는 hbp1이 hbp2로 표현될 수 있다는 것을 의미한다.\n",
        "* 따라서 hbp1이 제거되어야한다."
      ],
      "metadata": {
        "id": "myqpxiTibYMm"
      }
    },
    {
      "cell_type": "code",
      "source": [
        "X2_features.hbp1 == 1-X2_features.hbp2"
      ],
      "metadata": {
        "colab": {
          "base_uri": "https://localhost:8080/"
        },
        "id": "pjNRSq4Rb3tX",
        "outputId": "b6056740-47b3-40fd-d634-f3021351dad2"
      },
      "execution_count": null,
      "outputs": [
        {
          "output_type": "execute_result",
          "data": {
            "text/plain": [
              "0       True\n",
              "1       True\n",
              "2       True\n",
              "3       True\n",
              "4       True\n",
              "        ... \n",
              "1337    True\n",
              "1338    True\n",
              "1339    True\n",
              "1340    True\n",
              "1341    True\n",
              "Length: 1342, dtype: bool"
            ]
          },
          "metadata": {},
          "execution_count": 314
        }
      ]
    },
    {
      "cell_type": "code",
      "execution_count": null,
      "metadata": {
        "id": "rR4os0uHE2zn",
        "outputId": "b30af72c-77b1-47a9-a3fa-b00d4e82334d",
        "colab": {
          "base_uri": "https://localhost:8080/"
        }
      },
      "outputs": [
        {
          "output_type": "execute_result",
          "data": {
            "text/plain": [
              "Index(['hour', 'hour_bef_temperature', 'hour_bef_windspeed',\n",
              "       'hour_bef_humidity', 'hour_bef_visibility', 'hour_bef_ozone',\n",
              "       'hour_bef_pm10', 'hbp2', 'hbp3'],\n",
              "      dtype='object')"
            ]
          },
          "metadata": {},
          "execution_count": 315
        }
      ],
      "source": [
        "# 다중공선성의 제거를 위해 VIF값이 가장 큰 'hbp1'열을 제거\n",
        "# VIF가 크다는 것은 그 열이 다른 열들로 표현이 잘 된다는 것을 의미한다.\n",
        "# VIF값이 10을 넘으면, 제거를 하는 것이 좋다.\n",
        "\n",
        "X3_features = X2_features.drop('hbp1', axis=1)\n",
        "X3_features.columns"
      ]
    },
    {
      "cell_type": "markdown",
      "source": [
        "### 2-2. 통계적 검정으로 변수 제거\n",
        "t-test를 통해 통계적으로 회귀계수가 0이라고 판단된 X변수를 제거한다.\n",
        "> 참고로, t-test를 하기 위해서는 모델학습이 우선시되어야한다. 따라서 사실상 통계적 검정으로 변수를 제거하는 방법은 학습데이터로 모델학습을 한 뒤에 하는게 맞으나, 변수제거에서 한꺼번에 다루기 위해 여기서 다루었다."
      ],
      "metadata": {
        "id": "vqPvn8iG2Icl"
      }
    },
    {
      "cell_type": "markdown",
      "source": [
        "상관계수행렬, VIF를 통해 다중공선성이 제거된 데이터(X3_features)로 statsmodel을 통해 summary 출력\n",
        "* t-test로 0이라고 판단된 변수를 제거한 X4_features로 새로 지정"
      ],
      "metadata": {
        "id": "Y3oR0_M62iy7"
      }
    },
    {
      "cell_type": "code",
      "execution_count": null,
      "metadata": {
        "id": "Q3z9vQzDE2zn",
        "outputId": "c4fc0f23-fc1a-46ff-8116-edbc63dd7cb1",
        "colab": {
          "base_uri": "https://localhost:8080/",
          "height": 703
        }
      },
      "outputs": [
        {
          "output_type": "stream",
          "name": "stderr",
          "text": [
            "/usr/local/lib/python3.8/dist-packages/statsmodels/tsa/tsatools.py:142: FutureWarning: In a future version of pandas all arguments of concat except for the argument 'objs' will be keyword-only\n",
            "  x = pd.concat(x[::order], 1)\n"
          ]
        },
        {
          "output_type": "execute_result",
          "data": {
            "text/plain": [
              "<class 'statsmodels.iolib.summary.Summary'>\n",
              "\"\"\"\n",
              "                            OLS Regression Results                            \n",
              "==============================================================================\n",
              "Dep. Variable:                  count   R-squared:                       0.591\n",
              "Model:                            OLS   Adj. R-squared:                  0.589\n",
              "Method:                 Least Squares   F-statistic:                     214.3\n",
              "Date:                Wed, 01 Feb 2023   Prob (F-statistic):          1.28e-251\n",
              "Time:                        10:37:43   Log-Likelihood:                -7233.5\n",
              "No. Observations:                1342   AIC:                         1.449e+04\n",
              "Df Residuals:                    1332   BIC:                         1.454e+04\n",
              "Df Model:                           9                                         \n",
              "Covariance Type:            nonrobust                                         \n",
              "========================================================================================\n",
              "                           coef    std err          t      P>|t|      [0.025      0.975]\n",
              "----------------------------------------------------------------------------------------\n",
              "const                  -25.0253     16.586     -1.509      0.132     -57.563       7.512\n",
              "hour                     4.8544      0.256     18.976      0.000       4.353       5.356\n",
              "hour_bef_temperature     5.2348      0.366     14.318      0.000       4.518       5.952\n",
              "hour_bef_windspeed       4.9724      1.351      3.680      0.000       2.322       7.623\n",
              "hour_bef_humidity       -0.3416      0.122     -2.794      0.005      -0.581      -0.102\n",
              "hour_bef_visibility      0.0023      0.004      0.576      0.565      -0.006       0.010\n",
              "hour_bef_ozone         287.5592     99.081      2.902      0.004      93.188     481.930\n",
              "hour_bef_pm10           -0.3121      0.060     -5.240      0.000      -0.429      -0.195\n",
              "hbp2                   -55.3162      9.013     -6.138      0.000     -72.997     -37.635\n",
              "hbp3                    22.6694     20.225      1.121      0.263     -17.007      62.345\n",
              "==============================================================================\n",
              "Omnibus:                      182.681   Durbin-Watson:                   1.981\n",
              "Prob(Omnibus):                  0.000   Jarque-Bera (JB):              293.748\n",
              "Skew:                           0.914   Prob(JB):                     1.63e-64\n",
              "Kurtosis:                       4.384   Cond. No.                     1.04e+05\n",
              "==============================================================================\n",
              "\n",
              "Notes:\n",
              "[1] Standard Errors assume that the covariance matrix of the errors is correctly specified.\n",
              "[2] The condition number is large, 1.04e+05. This might indicate that there are\n",
              "strong multicollinearity or other numerical problems.\n",
              "\"\"\""
            ],
            "text/html": [
              "<table class=\"simpletable\">\n",
              "<caption>OLS Regression Results</caption>\n",
              "<tr>\n",
              "  <th>Dep. Variable:</th>          <td>count</td>      <th>  R-squared:         </th> <td>   0.591</td> \n",
              "</tr>\n",
              "<tr>\n",
              "  <th>Model:</th>                   <td>OLS</td>       <th>  Adj. R-squared:    </th> <td>   0.589</td> \n",
              "</tr>\n",
              "<tr>\n",
              "  <th>Method:</th>             <td>Least Squares</td>  <th>  F-statistic:       </th> <td>   214.3</td> \n",
              "</tr>\n",
              "<tr>\n",
              "  <th>Date:</th>             <td>Wed, 01 Feb 2023</td> <th>  Prob (F-statistic):</th> <td>1.28e-251</td>\n",
              "</tr>\n",
              "<tr>\n",
              "  <th>Time:</th>                 <td>10:37:43</td>     <th>  Log-Likelihood:    </th> <td> -7233.5</td> \n",
              "</tr>\n",
              "<tr>\n",
              "  <th>No. Observations:</th>      <td>  1342</td>      <th>  AIC:               </th> <td>1.449e+04</td>\n",
              "</tr>\n",
              "<tr>\n",
              "  <th>Df Residuals:</th>          <td>  1332</td>      <th>  BIC:               </th> <td>1.454e+04</td>\n",
              "</tr>\n",
              "<tr>\n",
              "  <th>Df Model:</th>              <td>     9</td>      <th>                     </th>     <td> </td>    \n",
              "</tr>\n",
              "<tr>\n",
              "  <th>Covariance Type:</th>      <td>nonrobust</td>    <th>                     </th>     <td> </td>    \n",
              "</tr>\n",
              "</table>\n",
              "<table class=\"simpletable\">\n",
              "<tr>\n",
              "            <td></td>              <th>coef</th>     <th>std err</th>      <th>t</th>      <th>P>|t|</th>  <th>[0.025</th>    <th>0.975]</th>  \n",
              "</tr>\n",
              "<tr>\n",
              "  <th>const</th>                <td>  -25.0253</td> <td>   16.586</td> <td>   -1.509</td> <td> 0.132</td> <td>  -57.563</td> <td>    7.512</td>\n",
              "</tr>\n",
              "<tr>\n",
              "  <th>hour</th>                 <td>    4.8544</td> <td>    0.256</td> <td>   18.976</td> <td> 0.000</td> <td>    4.353</td> <td>    5.356</td>\n",
              "</tr>\n",
              "<tr>\n",
              "  <th>hour_bef_temperature</th> <td>    5.2348</td> <td>    0.366</td> <td>   14.318</td> <td> 0.000</td> <td>    4.518</td> <td>    5.952</td>\n",
              "</tr>\n",
              "<tr>\n",
              "  <th>hour_bef_windspeed</th>   <td>    4.9724</td> <td>    1.351</td> <td>    3.680</td> <td> 0.000</td> <td>    2.322</td> <td>    7.623</td>\n",
              "</tr>\n",
              "<tr>\n",
              "  <th>hour_bef_humidity</th>    <td>   -0.3416</td> <td>    0.122</td> <td>   -2.794</td> <td> 0.005</td> <td>   -0.581</td> <td>   -0.102</td>\n",
              "</tr>\n",
              "<tr>\n",
              "  <th>hour_bef_visibility</th>  <td>    0.0023</td> <td>    0.004</td> <td>    0.576</td> <td> 0.565</td> <td>   -0.006</td> <td>    0.010</td>\n",
              "</tr>\n",
              "<tr>\n",
              "  <th>hour_bef_ozone</th>       <td>  287.5592</td> <td>   99.081</td> <td>    2.902</td> <td> 0.004</td> <td>   93.188</td> <td>  481.930</td>\n",
              "</tr>\n",
              "<tr>\n",
              "  <th>hour_bef_pm10</th>        <td>   -0.3121</td> <td>    0.060</td> <td>   -5.240</td> <td> 0.000</td> <td>   -0.429</td> <td>   -0.195</td>\n",
              "</tr>\n",
              "<tr>\n",
              "  <th>hbp2</th>                 <td>  -55.3162</td> <td>    9.013</td> <td>   -6.138</td> <td> 0.000</td> <td>  -72.997</td> <td>  -37.635</td>\n",
              "</tr>\n",
              "<tr>\n",
              "  <th>hbp3</th>                 <td>   22.6694</td> <td>   20.225</td> <td>    1.121</td> <td> 0.263</td> <td>  -17.007</td> <td>   62.345</td>\n",
              "</tr>\n",
              "</table>\n",
              "<table class=\"simpletable\">\n",
              "<tr>\n",
              "  <th>Omnibus:</th>       <td>182.681</td> <th>  Durbin-Watson:     </th> <td>   1.981</td>\n",
              "</tr>\n",
              "<tr>\n",
              "  <th>Prob(Omnibus):</th> <td> 0.000</td>  <th>  Jarque-Bera (JB):  </th> <td> 293.748</td>\n",
              "</tr>\n",
              "<tr>\n",
              "  <th>Skew:</th>          <td> 0.914</td>  <th>  Prob(JB):          </th> <td>1.63e-64</td>\n",
              "</tr>\n",
              "<tr>\n",
              "  <th>Kurtosis:</th>      <td> 4.384</td>  <th>  Cond. No.          </th> <td>1.04e+05</td>\n",
              "</tr>\n",
              "</table><br/><br/>Notes:<br/>[1] Standard Errors assume that the covariance matrix of the errors is correctly specified.<br/>[2] The condition number is large, 1.04e+05. This might indicate that there are<br/>strong multicollinearity or other numerical problems."
            ]
          },
          "metadata": {},
          "execution_count": 229
        }
      ],
      "source": [
        "# Linear Regression모델 적용 시, 통계적 정보를 주는 라이브러리(기초세션의 통계적사고에서 다룸)\n",
        "import itertools\n",
        "import statsmodels.api as sm\n",
        "import statsmodels.formula.api as smf\n",
        "\n",
        "# 상수항을 추가한 다중선형회귀\n",
        "# 기초세션의 '통계적사고'에서 다룬 선형회귀 내용을 가져와 사용\n",
        "\n",
        "X_constant = sm.add_constant(X3_features, has_constant='add') # has_constant='add'; 상수항 추가\n",
        "lin_model_constant = sm.OLS(y_label, X_constant) # OLS기법 적용\n",
        "lin_model_constant = lin_model_constant.fit() # 모델 학습\n",
        "lin_model_constant.summary()"
      ]
    },
    {
      "cell_type": "code",
      "source": [
        "# 'hour_bef_visibility'열의 경우, p-value값이 0.106으로 0.05보다 큼으로\n",
        "# 회귀계수가 0이라는 귀무가설(H0)을 기각하지 못한다.\n",
        "# 따라서 'hour_bef_visibility'열의 회귀계수는 0임으로 해당 X변수의 제거가 필요하다.\n",
        "X4_features = X3_features.drop('hour_bef_visibility', axis=1)\n",
        "X4_features.columns"
      ],
      "metadata": {
        "colab": {
          "base_uri": "https://localhost:8080/"
        },
        "id": "8JSZfQ-C3s1A",
        "outputId": "0efb7bbd-3c19-43d2-af30-e92765a82af7"
      },
      "execution_count": null,
      "outputs": [
        {
          "output_type": "execute_result",
          "data": {
            "text/plain": [
              "Index(['hour', 'hour_bef_temperature', 'hour_bef_windspeed',\n",
              "       'hour_bef_humidity', 'hour_bef_ozone', 'hour_bef_pm10', 'hbp2', 'hbp3'],\n",
              "      dtype='object')"
            ]
          },
          "metadata": {},
          "execution_count": 230
        }
      ]
    },
    {
      "cell_type": "code",
      "source": [
        "# 변수 제거 후에 새로 모델을 학습시켜보았더니, 모든 변수의 회귀계수가 0.05보다 작게 나온다.\n",
        "\n",
        "X_constant = sm.add_constant(X4_features, has_constant='add') # has_constant='add'; 상수항 추가\n",
        "lin_model_constant = sm.OLS(y_label, X_constant) # OLS기법 적용\n",
        "lin_model_constant = lin_model_constant.fit() # 모델 학습\n",
        "lin_model_constant.summary()"
      ],
      "metadata": {
        "colab": {
          "base_uri": "https://localhost:8080/",
          "height": 682
        },
        "id": "gN4rceB-3vII",
        "outputId": "919f50a2-d091-4a0f-d242-6e7431c0ba65"
      },
      "execution_count": null,
      "outputs": [
        {
          "output_type": "stream",
          "name": "stderr",
          "text": [
            "/usr/local/lib/python3.8/dist-packages/statsmodels/tsa/tsatools.py:142: FutureWarning: In a future version of pandas all arguments of concat except for the argument 'objs' will be keyword-only\n",
            "  x = pd.concat(x[::order], 1)\n"
          ]
        },
        {
          "output_type": "execute_result",
          "data": {
            "text/plain": [
              "<class 'statsmodels.iolib.summary.Summary'>\n",
              "\"\"\"\n",
              "                            OLS Regression Results                            \n",
              "==============================================================================\n",
              "Dep. Variable:                  count   R-squared:                       0.591\n",
              "Model:                            OLS   Adj. R-squared:                  0.589\n",
              "Method:                 Least Squares   F-statistic:                     241.1\n",
              "Date:                Wed, 01 Feb 2023   Prob (F-statistic):          9.39e-253\n",
              "Time:                        10:37:44   Log-Likelihood:                -7233.6\n",
              "No. Observations:                1342   AIC:                         1.449e+04\n",
              "Df Residuals:                    1333   BIC:                         1.453e+04\n",
              "Df Model:                           8                                         \n",
              "Covariance Type:            nonrobust                                         \n",
              "========================================================================================\n",
              "                           coef    std err          t      P>|t|      [0.025      0.975]\n",
              "----------------------------------------------------------------------------------------\n",
              "const                  -17.4073     10.011     -1.739      0.082     -37.046       2.231\n",
              "hour                     4.8571      0.256     18.995      0.000       4.356       5.359\n",
              "hour_bef_temperature     5.2010      0.361     14.417      0.000       4.493       5.909\n",
              "hour_bef_windspeed       5.0332      1.347      3.737      0.000       2.391       7.675\n",
              "hour_bef_humidity       -0.3884      0.091     -4.251      0.000      -0.568      -0.209\n",
              "hour_bef_ozone         279.3563     98.028      2.850      0.004      87.051     471.662\n",
              "hour_bef_pm10           -0.3327      0.048     -6.990      0.000      -0.426      -0.239\n",
              "hbp2                   -55.7558      8.978     -6.210      0.000     -73.369     -38.143\n",
              "hbp3                    22.7962     20.219      1.127      0.260     -16.868      62.460\n",
              "==============================================================================\n",
              "Omnibus:                      182.473   Durbin-Watson:                   1.980\n",
              "Prob(Omnibus):                  0.000   Jarque-Bera (JB):              292.956\n",
              "Skew:                           0.913   Prob(JB):                     2.43e-64\n",
              "Kurtosis:                       4.379   Cond. No.                     5.64e+03\n",
              "==============================================================================\n",
              "\n",
              "Notes:\n",
              "[1] Standard Errors assume that the covariance matrix of the errors is correctly specified.\n",
              "[2] The condition number is large, 5.64e+03. This might indicate that there are\n",
              "strong multicollinearity or other numerical problems.\n",
              "\"\"\""
            ],
            "text/html": [
              "<table class=\"simpletable\">\n",
              "<caption>OLS Regression Results</caption>\n",
              "<tr>\n",
              "  <th>Dep. Variable:</th>          <td>count</td>      <th>  R-squared:         </th> <td>   0.591</td> \n",
              "</tr>\n",
              "<tr>\n",
              "  <th>Model:</th>                   <td>OLS</td>       <th>  Adj. R-squared:    </th> <td>   0.589</td> \n",
              "</tr>\n",
              "<tr>\n",
              "  <th>Method:</th>             <td>Least Squares</td>  <th>  F-statistic:       </th> <td>   241.1</td> \n",
              "</tr>\n",
              "<tr>\n",
              "  <th>Date:</th>             <td>Wed, 01 Feb 2023</td> <th>  Prob (F-statistic):</th> <td>9.39e-253</td>\n",
              "</tr>\n",
              "<tr>\n",
              "  <th>Time:</th>                 <td>10:37:44</td>     <th>  Log-Likelihood:    </th> <td> -7233.6</td> \n",
              "</tr>\n",
              "<tr>\n",
              "  <th>No. Observations:</th>      <td>  1342</td>      <th>  AIC:               </th> <td>1.449e+04</td>\n",
              "</tr>\n",
              "<tr>\n",
              "  <th>Df Residuals:</th>          <td>  1333</td>      <th>  BIC:               </th> <td>1.453e+04</td>\n",
              "</tr>\n",
              "<tr>\n",
              "  <th>Df Model:</th>              <td>     8</td>      <th>                     </th>     <td> </td>    \n",
              "</tr>\n",
              "<tr>\n",
              "  <th>Covariance Type:</th>      <td>nonrobust</td>    <th>                     </th>     <td> </td>    \n",
              "</tr>\n",
              "</table>\n",
              "<table class=\"simpletable\">\n",
              "<tr>\n",
              "            <td></td>              <th>coef</th>     <th>std err</th>      <th>t</th>      <th>P>|t|</th>  <th>[0.025</th>    <th>0.975]</th>  \n",
              "</tr>\n",
              "<tr>\n",
              "  <th>const</th>                <td>  -17.4073</td> <td>   10.011</td> <td>   -1.739</td> <td> 0.082</td> <td>  -37.046</td> <td>    2.231</td>\n",
              "</tr>\n",
              "<tr>\n",
              "  <th>hour</th>                 <td>    4.8571</td> <td>    0.256</td> <td>   18.995</td> <td> 0.000</td> <td>    4.356</td> <td>    5.359</td>\n",
              "</tr>\n",
              "<tr>\n",
              "  <th>hour_bef_temperature</th> <td>    5.2010</td> <td>    0.361</td> <td>   14.417</td> <td> 0.000</td> <td>    4.493</td> <td>    5.909</td>\n",
              "</tr>\n",
              "<tr>\n",
              "  <th>hour_bef_windspeed</th>   <td>    5.0332</td> <td>    1.347</td> <td>    3.737</td> <td> 0.000</td> <td>    2.391</td> <td>    7.675</td>\n",
              "</tr>\n",
              "<tr>\n",
              "  <th>hour_bef_humidity</th>    <td>   -0.3884</td> <td>    0.091</td> <td>   -4.251</td> <td> 0.000</td> <td>   -0.568</td> <td>   -0.209</td>\n",
              "</tr>\n",
              "<tr>\n",
              "  <th>hour_bef_ozone</th>       <td>  279.3563</td> <td>   98.028</td> <td>    2.850</td> <td> 0.004</td> <td>   87.051</td> <td>  471.662</td>\n",
              "</tr>\n",
              "<tr>\n",
              "  <th>hour_bef_pm10</th>        <td>   -0.3327</td> <td>    0.048</td> <td>   -6.990</td> <td> 0.000</td> <td>   -0.426</td> <td>   -0.239</td>\n",
              "</tr>\n",
              "<tr>\n",
              "  <th>hbp2</th>                 <td>  -55.7558</td> <td>    8.978</td> <td>   -6.210</td> <td> 0.000</td> <td>  -73.369</td> <td>  -38.143</td>\n",
              "</tr>\n",
              "<tr>\n",
              "  <th>hbp3</th>                 <td>   22.7962</td> <td>   20.219</td> <td>    1.127</td> <td> 0.260</td> <td>  -16.868</td> <td>   62.460</td>\n",
              "</tr>\n",
              "</table>\n",
              "<table class=\"simpletable\">\n",
              "<tr>\n",
              "  <th>Omnibus:</th>       <td>182.473</td> <th>  Durbin-Watson:     </th> <td>   1.980</td>\n",
              "</tr>\n",
              "<tr>\n",
              "  <th>Prob(Omnibus):</th> <td> 0.000</td>  <th>  Jarque-Bera (JB):  </th> <td> 292.956</td>\n",
              "</tr>\n",
              "<tr>\n",
              "  <th>Skew:</th>          <td> 0.913</td>  <th>  Prob(JB):          </th> <td>2.43e-64</td>\n",
              "</tr>\n",
              "<tr>\n",
              "  <th>Kurtosis:</th>      <td> 4.379</td>  <th>  Cond. No.          </th> <td>5.64e+03</td>\n",
              "</tr>\n",
              "</table><br/><br/>Notes:<br/>[1] Standard Errors assume that the covariance matrix of the errors is correctly specified.<br/>[2] The condition number is large, 5.64e+03. This might indicate that there are<br/>strong multicollinearity or other numerical problems."
            ]
          },
          "metadata": {},
          "execution_count": 231
        }
      ]
    },
    {
      "cell_type": "markdown",
      "source": [
        "## 데이터 분할\n",
        "* train_X, train_y : 모델 학습을 위한 데이터\n",
        "* test_X, test_y : 학습된 모델을 평가하기 위한 데이터"
      ],
      "metadata": {
        "id": "PPl2ABP54iXl"
      }
    },
    {
      "cell_type": "markdown",
      "metadata": {
        "id": "LOFgZw3QE2zn"
      },
      "source": [
        "학습, 테스트 데이터 8:2비율로 분할 \n",
        "* random state=1 으로 지정"
      ]
    },
    {
      "cell_type": "code",
      "execution_count": null,
      "metadata": {
        "id": "GAEVbmQ9E2zn",
        "outputId": "3404ea5d-1ae5-455a-8d7b-a79908c7b12e",
        "colab": {
          "base_uri": "https://localhost:8080/"
        }
      },
      "outputs": [
        {
          "output_type": "stream",
          "name": "stdout",
          "text": [
            "(1073, 9) (269, 9) (1073,) (269,)\n"
          ]
        }
      ],
      "source": [
        "from sklearn.model_selection import train_test_split\n",
        "\n",
        "# X3_features 사용; X4_features의 경우, 학습이후에 만들어진 데이터임으로\n",
        "\n",
        "train_X, test_X, train_y, test_y = train_test_split(X3_features, y_label, train_size=0.8,\n",
        "                                                    test_size=0.2, random_state=1)\n",
        "print(train_X.shape, test_X.shape, train_y.shape, test_y.shape)"
      ]
    },
    {
      "cell_type": "markdown",
      "source": [
        "## 회귀 평가함수; MSE(mean-square-error), MAE(mean-absolute-error)\n",
        "\n",
        "여러가지 회귀모델을 비교하기 위한 평가함수이다.\n",
        "* 각각의 회귀모델은 나름의 목적함수/손실함수를 가지고 있고 이값을 각각 최소화하는 방향으로 학습이 이루어진다.\n",
        "* 따라서 서로 다른 모델의 경우, 서로 다른 '목적함수/손실함수'를 가짐으로써 어떤 모델이 더 좋은지 평가하기가 어렵다.\n",
        "* 그렇기에 서로 다른 회귀 모델을 비교하기 위해 평가함수인 RMS/MAE를 사용한다."
      ],
      "metadata": {
        "id": "EscUhtogJJgJ"
      }
    },
    {
      "cell_type": "code",
      "source": [
        "# 회귀(y값이 연속형변수)의 평가지표\n",
        "\n",
        "from sklearn.metrics import mean_squared_error, mean_absolute_error\n",
        "\n",
        "# MSE, RMSE, RMSLE 를 모두 계산 \n",
        "def evaluate_regr(y,pred):\n",
        "    # MSE는 제곱이기에 값이 큼으로 r-MSE(root)를 이용한다.\n",
        "    # MSE는 scikit-learn의 mean_squared_error()로 계산\n",
        "    rmse_val = np.sqrt(mean_squared_error(y,pred))\n",
        "    # MAE는 scikit-learn의 mean_absolute_error()로 계산\n",
        "    mae_val = mean_absolute_error(y,pred)\n",
        "\n",
        "    # (r-MSE & MAE)를 출력 후, 반환해주는 함수\n",
        "    print('RMSE: {0:.3F}, MAE: {1:.3F}'.format(rmse_val, mae_val))\n",
        "    return (rmse_val, mae_val)"
      ],
      "metadata": {
        "id": "L3FCcJeGTAfl"
      },
      "execution_count": null,
      "outputs": []
    },
    {
      "cell_type": "markdown",
      "source": [
        "## 1. LinearRegression\n",
        "\n",
        "* 사용한 모델 : 규체항이나 다항회귀 없이, 그냥 쌩 다중선형회귀\n",
        "* 학습방법 : 학습데이터로 학습 후, 테스트데이터로 평가"
      ],
      "metadata": {
        "id": "jHU6l7bhUPui"
      }
    },
    {
      "cell_type": "code",
      "source": [
        "from sklearn.linear_model import LinearRegression\n",
        "\n",
        "# Model\n",
        "lr_model = LinearRegression()\n",
        "lr_model.fit(train_X, train_y) # 최적화식을 풀어 학습파라미티(회귀계수)를 구한다.\n",
        "pred = lr_model.predict(test_X) # 구한 회귀계수로 모델을 만들고, test_X로 test_y값을 예측한다.\n",
        "\n",
        "result = evaluate_regr(test_y, pred) # 실제 값인 test_y과 예측값인 pred를 비교한다. 이 때, 회귀와 관련된 평가지표를 사용\n",
        "plt.bar(['RMSE','MAE'], result)"
      ],
      "metadata": {
        "colab": {
          "base_uri": "https://localhost:8080/",
          "height": 300
        },
        "id": "sEk-w22bUV8C",
        "outputId": "985f2372-61dd-43bd-f712-dd222b8807a1"
      },
      "execution_count": null,
      "outputs": [
        {
          "output_type": "stream",
          "name": "stdout",
          "text": [
            "RMSE: 53.242, MAE: 38.685\n"
          ]
        },
        {
          "output_type": "execute_result",
          "data": {
            "text/plain": [
              "<BarContainer object of 2 artists>"
            ]
          },
          "metadata": {},
          "execution_count": 319
        },
        {
          "output_type": "display_data",
          "data": {
            "text/plain": [
              "<Figure size 432x288 with 1 Axes>"
            ],
            "image/png": "[encoded data removed]"
          },
          "metadata": {
            "needs_background": "light"
          }
        }
      ]
    },
    {
      "cell_type": "markdown",
      "source": [
        "## 2.  Ridge, Lasso"
      ],
      "metadata": {
        "id": "6fzg3bt2cscJ"
      }
    },
    {
      "cell_type": "markdown",
      "metadata": {
        "id": "TM66Jd8eE2zo"
      },
      "source": [
        "* 사용한 모델\n",
        "> * Ridge : 회귀계수의 크기를 0으로 가깝게 하여, X를 완전히 제거하지 않고 살려두기 위한 모델\n",
        "> * Lasso : 회귀계수의 크기를 그냥 0으로 만들어버려, X를 완전히 제거하는 모델\n",
        "\n",
        "* 학습방법\n",
        "> * 모델을 하이퍼라미터 값을 변경해가면서 10-Fold를 통해 학습데이터 평가. 즉, 학습데이터를 학습과 검증데이터로 쪼개는 과정을 반복하여 학습시키는 방법\n",
        ">   * 참고 : https://huidea.tistory.com/30\n",
        "> * 하이퍼라미터 후보 : alpha = [0.001, 0.01, 0.1, 1, 10]\n",
        ">   * 하이퍼파라미터 선택을 위한 평가지표 : R2_score\n",
        ">   * 참고 : R2_score의 경우, 선형회귀에서만 사용할 수 있는 지표이다. 즉, 다른 회귀모델에서는 사용불가.\n",
        "\n",
        "* summary\n",
        "> * 그냥 학습\n",
        ">   * 학습에 사용하는 데이터 = train_X, train_y\n",
        ">   * 테스트에 사용하는 데이터 = test_X, test_y\n",
        "> * k-fold 학습\n",
        ">   * 학습에 사용하는 데이터 = train_X, train_y\n",
        ">   * 테스트에 사용하는 데이터 = train_X, train_y\n",
        "> * k-fold를 사용하는 이유\n",
        ">   * 데이터의 수가 너무 적어, test_X, test_y를 만들기 어려운 경우\n",
        ">   * 하이퍼파라미터를 찾을 시에, test_X, test_y을 잘 예측하는 모델이 아닌 train_X, train_y을 잘 예측하는 모델로 하여, 과적합을 막기 위함"
      ]
    },
    {
      "cell_type": "code",
      "source": [
        "# 데이터 전처리에 사용되는 라이브러리\n",
        "from sklearn.model_selection import cross_val_score\n",
        "\n",
        "# 규제항이 있는 선형회귀 관련 라이브러리\n",
        "from sklearn.linear_model import Ridge, Lasso"
      ],
      "metadata": {
        "id": "Q42gyTWP8-sL"
      },
      "execution_count": null,
      "outputs": []
    },
    {
      "cell_type": "code",
      "execution_count": null,
      "metadata": {
        "id": "aiEUayTYE2zo",
        "outputId": "07c09895-85e9-49bf-c430-ab7eaea9c9bb",
        "colab": {
          "base_uri": "https://localhost:8080/",
          "height": 282
        }
      },
      "outputs": [
        {
          "output_type": "execute_result",
          "data": {
            "text/plain": [
              "<matplotlib.legend.Legend at 0x7f37d48111c0>"
            ]
          },
          "metadata": {},
          "execution_count": 167
        },
        {
          "output_type": "display_data",
          "data": {
            "text/plain": [
              "<Figure size 432x288 with 1 Axes>"
            ],
            "image/png": "[encoded data removed]"
          },
          "metadata": {
            "needs_background": "light"
          }
        }
      ],
      "source": [
        "# hyper-parameter 후보\n",
        "alpha_list = [0.001, 0.01, 0.1, 1, 10]\n",
        "\n",
        "\n",
        "# 모델 평가와 관련된 라이브러리\n",
        "from sklearn import metrics\n",
        "from sklearn.metrics import r2_score # R^2\n",
        "\n",
        "# 각 모델을 비교하기 위한 평가지표인 r2-score를 저장할 장소\n",
        "ridge_r2_list_train = []\n",
        "ridge_r2_list_test = []\n",
        "lasso_r2_list_train = []\n",
        "lasso_r2_list_test = []\n",
        "\n",
        "# 모든 'hyper-parameter'에 대해 하나씩 수행\n",
        "for alpha in alpha_list:\n",
        "\n",
        "    # 모델 객체 선언; Ridge(), Lasso()\n",
        "    # alpha <- hyper-parameter 하나씩 대입\n",
        "    ridge_model = Ridge(alpha=alpha)\n",
        "    lasso_model = Lasso(alpha=alpha)\n",
        "    \n",
        "\n",
        "\n",
        "    # # 이전처럼 'k-fold학습'을 쓰지 않고, 그냥 학습\n",
        "    # ridge_model.fit(train_X,train_y)\n",
        "    # lasso_model.fit(train_X,train_y)\n",
        "    # #테스트; sklearn.metrics에 있는 r2_score()함수를 가져와 평가\n",
        "    # ridge_r2_list_test.append(r2_score(test_y,ridge_model.predict(test_X)))\n",
        "    # lasso_r2_list_test.append(r2_score(test_y,lasso_model.predict(test_X)))\n",
        "\n",
        "\n",
        "    # kfold 통해 성능평가; 즉, train_set을 8:2로 나누는 것을 10번 반복해서 학습을 진행하는 것이다.\n",
        "    # cross_val_score()에서 scoring='r2'로 두고 평가\n",
        "    # 즉, train_set만을 가지고 학습 및 평가(검증)를 진행한다.\n",
        "    # test_set은 사용하지 않는다.\n",
        "    ridge_r2_list_train.append(np.mean(cross_val_score(ridge_model,train_X,train_y,scoring='r2',cv=10)))\n",
        "    lasso_r2_list_train.append(np.mean(cross_val_score(lasso_model,train_X,train_y,scoring='r2',cv=10)))\n",
        "    \n",
        "    \n",
        "\n",
        "plt.plot(alpha_list, ridge_r2_list_train, label='Ridge R2 Train')\n",
        "plt.plot(alpha_list, lasso_r2_list_train, label='Lasso R2 Train')\n",
        "\n",
        "plt.legend()\n",
        "\n",
        "# r2지표는 높을수록 좋음으로, Ridge&Lasso 모두 alpha=0.001일 때 가장 모델의 성능이 좋다."
      ]
    },
    {
      "cell_type": "code",
      "execution_count": null,
      "metadata": {
        "id": "-G6QxR4SE2zo",
        "outputId": "294b0f99-8663-468f-fbb4-cf9c5bc9ffa4",
        "colab": {
          "base_uri": "https://localhost:8080/"
        }
      },
      "outputs": [
        {
          "output_type": "execute_result",
          "data": {
            "text/plain": [
              "[0.5835370814408894,\n",
              " 0.5835598975702994,\n",
              " 0.5835645621850609,\n",
              " 0.5829591161172232,\n",
              " 0.5816632964853079]"
            ]
          },
          "metadata": {},
          "execution_count": 168
        }
      ],
      "source": [
        "# 차례로 'alpha = [0.001, 0.01, 0.1, 1, 10]'을 했을 때, Ridge모델에 대한 r2평가지표\n",
        "ridge_r2_list_train"
      ]
    },
    {
      "cell_type": "code",
      "execution_count": null,
      "metadata": {
        "id": "v7XM-WhjE2zo",
        "outputId": "f5e9706b-7922-48f8-bf12-accf723421c9",
        "colab": {
          "base_uri": "https://localhost:8080/"
        }
      },
      "outputs": [
        {
          "output_type": "execute_result",
          "data": {
            "text/plain": [
              "[0.5835280784514637,\n",
              " 0.5834113719012438,\n",
              " 0.5821142608318493,\n",
              " 0.576112418978648,\n",
              " 0.5625329424414238]"
            ]
          },
          "metadata": {},
          "execution_count": 169
        }
      ],
      "source": [
        "# 차례로 'alpha = [0.001, 0.01, 0.1, 1, 10]'을 했을 때, Lasso모델에 대한 r2평가지표\n",
        "lasso_r2_list_train"
      ]
    },
    {
      "cell_type": "markdown",
      "source": [
        "가장 좋은 성능이 나온 hyper-parameter값을 기준으로 모델을 제작한다.\n",
        "* 이전에는 반복문을 사용하여 가장 마지막 모델이 변수안에 들어갔기에, 다시 학습이 필요함"
      ],
      "metadata": {
        "id": "UirAr-y4YgeR"
      }
    },
    {
      "cell_type": "code",
      "source": [
        "# 가장 성능이 좋은 모델의 hyper-parameter 확인\n",
        "\n",
        "idx1 = np.array(ridge_r2_list_train).argsort()[::-1][0] # 가장 큰 것의 index\n",
        "idx2 = np.array(lasso_r2_list_train).argsort()[::-1][0] # 가장 큰 것의 index\n",
        "\n",
        "print('Ridge best alpha :', alpha_list[idx1])\n",
        "print('Lasso best alpha :', alpha_list[idx2])"
      ],
      "metadata": {
        "colab": {
          "base_uri": "https://localhost:8080/"
        },
        "id": "TFkJvEKAY8hk",
        "outputId": "1570fe82-9930-427d-eeb6-4784b3399dc0"
      },
      "execution_count": null,
      "outputs": [
        {
          "output_type": "stream",
          "name": "stdout",
          "text": [
            "Ridge best alpha : 0.1\n",
            "Lasso best alpha : 0.001\n"
          ]
        }
      ]
    },
    {
      "cell_type": "markdown",
      "source": [
        "각각 최적이 hyper-parameter로 학습한 후에 Ridge와 Lasso의 성능을 서로 비교하자.\n",
        "* 이번에는 R2_score뿐만 아니라, 일반적으로 회귀모델들의 평가지표로써 사용되는 r-MSE & MAE도 함께 사용"
      ],
      "metadata": {
        "id": "utsftCbAZL4V"
      }
    },
    {
      "cell_type": "code",
      "source": [
        "# 각각 alpha = 0.1, 0.001으로 두고, ridge와 lasso 적합\n",
        "\n",
        "# 모델 객체 선언, 이 때 위에서 구한 최적의 hyper-parameter를 넣어준다.\n",
        "ridge = Ridge(alpha=0.1) # 'fit_intercept=True' : 절편을 넣어줄지에 대한 여부\n",
        "lasso = Lasso(alpha=0.001)\n",
        "\n",
        "# 모델 학습; 이번에는 학습데이터를 학습&검증데이터로 나누는 것이 아닌\n",
        "# 학습데이터로 학습하고, 테스트데이터로 테스트를 한다.\n",
        "ridge.fit(train_X, train_y)\n",
        "lasso.fit(train_X, train_y)\n",
        "\n",
        "# 모델 평가\n",
        "# R^2; r2_score\n",
        "# 여기서 매우 조심해야할 사항이 있다.\n",
        "# 그것은 바로 r2_score()와 mean_squared_error() 모두 인자의 순서를 주의해서 넣어주어야한다는 것이다.\n",
        "# 모두 (정닶값,예측값) 순으로 넣어주어야한다.\n",
        "# mse는 어차피 같은 값이 나오지만, r2_score는 조심해야한다.\n",
        "print(\"R square score for Ridge model : {:.5f}\".format(r2_score(test_y, ridge.predict(test_X))))\n",
        "print(\"R square score for Lasso model : {:.5f}\".format(r2_score(test_y, lasso.predict(test_X))))\n",
        "\n",
        "# MSE; mean_squared_error\n",
        "print(\"MSE for Ridge model : {:.5f}\".format(mean_squared_error(test_y, ridge.predict(test_X))))\n",
        "print(\"MSE for Lasso model : {:.5f}\".format(mean_squared_error(test_y, lasso.predict(test_X))))"
      ],
      "metadata": {
        "colab": {
          "base_uri": "https://localhost:8080/"
        },
        "id": "HswMseEEZDUM",
        "outputId": "a3b936f9-38c4-47e3-c5f2-814ab9af714d"
      },
      "execution_count": null,
      "outputs": [
        {
          "output_type": "stream",
          "name": "stdout",
          "text": [
            "R square score for Ridge model : 0.55624\n",
            "R square score for Lasso model : 0.55745\n",
            "MSE for Ridge model : 2842.77187\n",
            "MSE for Lasso model : 2835.00559\n"
          ]
        }
      ]
    },
    {
      "cell_type": "code",
      "source": [
        "pred = ridge.predict(test_X) # 구한 회귀계수로 모델을 만들고, test_X로 test_y값을 예측한다.\n",
        "\n",
        "result = evaluate_regr(test_y, pred) # 실제 값인 test_y과 예측값인 pred를 비교한다. 이 때, 회귀와 관련된 평가지표를 사용\n",
        "plt.bar(['RMSE','MAE'], result)"
      ],
      "metadata": {
        "colab": {
          "base_uri": "https://localhost:8080/",
          "height": 300
        },
        "id": "eLGETvSQdCQR",
        "outputId": "0a4c6df6-c301-4617-990d-4759352813f2"
      },
      "execution_count": null,
      "outputs": [
        {
          "output_type": "stream",
          "name": "stdout",
          "text": [
            "RMSE: 53.318, MAE: 38.730\n"
          ]
        },
        {
          "output_type": "execute_result",
          "data": {
            "text/plain": [
              "<BarContainer object of 2 artists>"
            ]
          },
          "metadata": {},
          "execution_count": 176
        },
        {
          "output_type": "display_data",
          "data": {
            "text/plain": [
              "<Figure size 432x288 with 1 Axes>"
            ],
            "image/png": "[encoded data removed]"
          },
          "metadata": {
            "needs_background": "light"
          }
        }
      ]
    },
    {
      "cell_type": "code",
      "source": [
        "pred = lasso.predict(test_X) # 구한 회귀계수로 모델을 만들고, test_X로 test_y값을 예측한다.\n",
        "\n",
        "result = evaluate_regr(test_y, pred) # 실제 값인 test_y과 예측값인 pred를 비교한다. 이 때, 회귀와 관련된 평가지표를 사용\n",
        "plt.bar(['RMSE','MAE'], result)"
      ],
      "metadata": {
        "colab": {
          "base_uri": "https://localhost:8080/",
          "height": 300
        },
        "id": "lDRHOqnJdJqv",
        "outputId": "9c04f28f-79ff-43be-b491-92de0e0e37ed"
      },
      "execution_count": null,
      "outputs": [
        {
          "output_type": "stream",
          "name": "stdout",
          "text": [
            "RMSE: 53.245, MAE: 38.686\n"
          ]
        },
        {
          "output_type": "execute_result",
          "data": {
            "text/plain": [
              "<BarContainer object of 2 artists>"
            ]
          },
          "metadata": {},
          "execution_count": 177
        },
        {
          "output_type": "display_data",
          "data": {
            "text/plain": [
              "<Figure size 432x288 with 1 Axes>"
            ],
            "image/png": "[encoded data removed]"
          },
          "metadata": {
            "needs_background": "light"
          }
        }
      ]
    },
    {
      "cell_type": "markdown",
      "source": [
        "Lasso가 Ridge보다 근소한 차이로 R2_score값은 높고 RMSE값은 낮기에 더 좋은 모델이다. 따라서 해당 Lasso 모델을 선택한다."
      ],
      "metadata": {
        "id": "5na5zSWadQHe"
      }
    },
    {
      "cell_type": "markdown",
      "source": [
        "## 변수중요도 : 회귀계수에 대한 해석"
      ],
      "metadata": {
        "id": "gPllCEVhdnYa"
      }
    },
    {
      "cell_type": "markdown",
      "source": [
        "ML에서는 NN과 달리 어느 정도 설명가능한 부분이 있다. 그 중 하나가 바로 변수 중요도이다.\n",
        "\n",
        "> 일반적으로 회귀계수의 크기가 클수록 해당 X변수의 중요도가 높다. 하지만 회귀계수의 의미를 생각하면, X변수를 스케일링에 따라 다르게 해석할 수 있다.(세션자료 참고)\n",
        "\n",
        "> 1. 스케일링 없이\n",
        ">    * 1000원짜리 김밥 1원 증가할 때와 10억원짜리 집값 1원 증가할 때, 경제지표에 미치는 영향\n",
        "> 2. min-max scaling\n",
        ">    * 1000원짜리 김밥가격 10% 증가할 때와 10억원짜리 집값 10% 증가할 때, 경제지표에 미치는 영향\n",
        "> 3. standard scaling\n",
        ">    * 데이터로 얻은 각각의 김밥과 집값의 분포에서 z-score가 일정부분 동일하게 움직였을 때의 가격 변화가 경제지표에 미치는 영향"
      ],
      "metadata": {
        "id": "_WoWQpg9d70G"
      }
    },
    {
      "cell_type": "markdown",
      "source": [
        "최종적으로 선택해서 학습까지 완료시킨 ridge모델을 사용"
      ],
      "metadata": {
        "id": "Rn4TRUYifmXR"
      }
    },
    {
      "cell_type": "markdown",
      "source": [
        "1. 스케일링 없이"
      ],
      "metadata": {
        "id": "RptZU_ZBfggF"
      }
    },
    {
      "cell_type": "code",
      "source": [
        "# 표준화한 회귀계수의 절댓값\n",
        "coef = ridge.coef_\n",
        "coef_abs = np.abs(coef)\n",
        "\n",
        "# 회귀계수의 절댓값 크기 index\n",
        "idx = coef_abs.argsort()[::-1]\n",
        "\n",
        "# 회귀계수의 절댓값을 큰 순서대로 정렬\n",
        "coef_abs = coef_abs[idx]\n",
        "\n",
        "# 회귀계수의 독립변수이름을 큰 순서대로 정렬\n",
        "name = X3_features.head(1).columns[idx].values\n",
        "\n",
        "# top10\n",
        "sns.barplot(name[0:10], coef_abs[0:10])\n",
        "plt.xticks(rotation=45)\n",
        "plt.ylabel('Reg_Coef')\n",
        "plt.title('Reg_Coef per features; TOP10')\n",
        "plt.show()"
      ],
      "metadata": {
        "colab": {
          "base_uri": "https://localhost:8080/",
          "height": 413
        },
        "id": "g0_tSTrTfiZ8",
        "outputId": "f91ca29c-1d07-49bd-fcd4-0a2431437ee7"
      },
      "execution_count": null,
      "outputs": [
        {
          "output_type": "stream",
          "name": "stderr",
          "text": [
            "/usr/local/lib/python3.8/dist-packages/seaborn/_decorators.py:36: FutureWarning: Pass the following variables as keyword args: x, y. From version 0.12, the only valid positional argument will be `data`, and passing other arguments without an explicit keyword will result in an error or misinterpretation.\n",
            "  warnings.warn(\n"
          ]
        },
        {
          "output_type": "display_data",
          "data": {
            "text/plain": [
              "<Figure size 432x288 with 1 Axes>"
            ],
            "image/png": "[encoded data removed]"
          },
          "metadata": {
            "needs_background": "light"
          }
        }
      ]
    },
    {
      "cell_type": "markdown",
      "source": [
        "2. min-max scaling"
      ],
      "metadata": {
        "id": "wmdK7TcqgYs-"
      }
    },
    {
      "cell_type": "code",
      "source": [
        "from sklearn.preprocessing import MinMaxScaler\n",
        "\n",
        "total_data = pd.concat([X3_features, y_label], axis=1)\n",
        "\n",
        "scaler = MinMaxScaler()\n",
        "scaler.fit(total_data)\n",
        "trans_data = scaler.transform(total_data)\n",
        "\n",
        "# numpy -> df\n",
        "trans_data_df = pd.DataFrame(data=trans_data, columns=total_data.columns)\n",
        "trans_data_df.head(1) # 0~1 사이의 값들을 가짐을 확인할 수 있다."
      ],
      "metadata": {
        "colab": {
          "base_uri": "https://localhost:8080/",
          "height": 144
        },
        "id": "pCNRqn8DgbVB",
        "outputId": "887d55b5-fd4b-4b1e-d4c1-a3afd9be2809"
      },
      "execution_count": null,
      "outputs": [
        {
          "output_type": "execute_result",
          "data": {
            "text/plain": [
              "       hour  hour_bef_temperature  hour_bef_windspeed  hour_bef_humidity  \\\n",
              "0  0.869565              0.490706              0.1875           0.891304   \n",
              "\n",
              "   hour_bef_visibility  hour_bef_ozone  hour_bef_pm10  hbp2  hbp3     count  \n",
              "0             0.259105        0.196721       0.257692   1.0   0.0  0.111628  "
            ],
            "text/html": [
              "\n",
              "  <div id=\"df-687a1dc9-cc77-4735-9790-688d88f37938\">\n",
              "    <div class=\"colab-df-container\">\n",
              "      <div>\n",
              "<style scoped>\n",
              "    .dataframe tbody tr th:only-of-type {\n",
              "        vertical-align: middle;\n",
              "    }\n",
              "\n",
              "    .dataframe tbody tr th {\n",
              "        vertical-align: top;\n",
              "    }\n",
              "\n",
              "    .dataframe thead th {\n",
              "        text-align: right;\n",
              "    }\n",
              "</style>\n",
              "<table border=\"1\" class=\"dataframe\">\n",
              "  <thead>\n",
              "    <tr style=\"text-align: right;\">\n",
              "      <th></th>\n",
              "      <th>hour</th>\n",
              "      <th>hour_bef_temperature</th>\n",
              "      <th>hour_bef_windspeed</th>\n",
              "      <th>hour_bef_humidity</th>\n",
              "      <th>hour_bef_visibility</th>\n",
              "      <th>hour_bef_ozone</th>\n",
              "      <th>hour_bef_pm10</th>\n",
              "      <th>hbp2</th>\n",
              "      <th>hbp3</th>\n",
              "      <th>count</th>\n",
              "    </tr>\n",
              "  </thead>\n",
              "  <tbody>\n",
              "    <tr>\n",
              "      <th>0</th>\n",
              "      <td>0.869565</td>\n",
              "      <td>0.490706</td>\n",
              "      <td>0.1875</td>\n",
              "      <td>0.891304</td>\n",
              "      <td>0.259105</td>\n",
              "      <td>0.196721</td>\n",
              "      <td>0.257692</td>\n",
              "      <td>1.0</td>\n",
              "      <td>0.0</td>\n",
              "      <td>0.111628</td>\n",
              "    </tr>\n",
              "  </tbody>\n",
              "</table>\n",
              "</div>\n",
              "      <button class=\"colab-df-convert\" onclick=\"convertToInteractive('df-687a1dc9-cc77-4735-9790-688d88f37938')\"\n",
              "              title=\"Convert this dataframe to an interactive table.\"\n",
              "              style=\"display:none;\">\n",
              "        \n",
              "  <svg xmlns=\"http://www.w3.org/2000/svg\" height=\"24px\"viewBox=\"0 0 24 24\"\n",
              "       width=\"24px\">\n",
              "    <path d=\"M0 0h24v24H0V0z\" fill=\"none\"/>\n",
              "    <path d=\"M18.56 5.44l.94 2.06.94-2.06 2.06-.94-2.06-.94-.94-2.06-.94 2.06-2.06.94zm-11 1L8.5 8.5l.94-2.06 2.06-.94-2.06-.94L8.5 2.5l-.94 2.06-2.06.94zm10 10l.94 2.06.94-2.06 2.06-.94-2.06-.94-.94-2.06-.94 2.06-2.06.94z\"/><path d=\"M17.41 7.96l-1.37-1.37c-.4-.4-.92-.59-1.43-.59-.52 0-1.04.2-1.43.59L10.3 9.45l-7.72 7.72c-.78.78-.78 2.05 0 2.83L4 21.41c.39.39.9.59 1.41.59.51 0 1.02-.2 1.41-.59l7.78-7.78 2.81-2.81c.8-.78.8-2.07 0-2.86zM5.41 20L4 18.59l7.72-7.72 1.47 1.35L5.41 20z\"/>\n",
              "  </svg>\n",
              "      </button>\n",
              "      \n",
              "  <style>\n",
              "    .colab-df-container {\n",
              "      display:flex;\n",
              "      flex-wrap:wrap;\n",
              "      gap: 12px;\n",
              "    }\n",
              "\n",
              "    .colab-df-convert {\n",
              "      background-color: #E8F0FE;\n",
              "      border: none;\n",
              "      border-radius: 50%;\n",
              "      cursor: pointer;\n",
              "      display: none;\n",
              "      fill: #1967D2;\n",
              "      height: 32px;\n",
              "      padding: 0 0 0 0;\n",
              "      width: 32px;\n",
              "    }\n",
              "\n",
              "    .colab-df-convert:hover {\n",
              "      background-color: #E2EBFA;\n",
              "      box-shadow: 0px 1px 2px rgba(60, 64, 67, 0.3), 0px 1px 3px 1px rgba(60, 64, 67, 0.15);\n",
              "      fill: #174EA6;\n",
              "    }\n",
              "\n",
              "    [theme=dark] .colab-df-convert {\n",
              "      background-color: #3B4455;\n",
              "      fill: #D2E3FC;\n",
              "    }\n",
              "\n",
              "    [theme=dark] .colab-df-convert:hover {\n",
              "      background-color: #434B5C;\n",
              "      box-shadow: 0px 1px 3px 1px rgba(0, 0, 0, 0.15);\n",
              "      filter: drop-shadow(0px 1px 2px rgba(0, 0, 0, 0.3));\n",
              "      fill: #FFFFFF;\n",
              "    }\n",
              "  </style>\n",
              "\n",
              "      <script>\n",
              "        const buttonEl =\n",
              "          document.querySelector('#df-687a1dc9-cc77-4735-9790-688d88f37938 button.colab-df-convert');\n",
              "        buttonEl.style.display =\n",
              "          google.colab.kernel.accessAllowed ? 'block' : 'none';\n",
              "\n",
              "        async function convertToInteractive(key) {\n",
              "          const element = document.querySelector('#df-687a1dc9-cc77-4735-9790-688d88f37938');\n",
              "          const dataTable =\n",
              "            await google.colab.kernel.invokeFunction('convertToInteractive',\n",
              "                                                     [key], {});\n",
              "          if (!dataTable) return;\n",
              "\n",
              "          const docLinkHtml = 'Like what you see? Visit the ' +\n",
              "            '<a target=\"_blank\" href=https://colab.research.google.com/notebooks/data_table.ipynb>data table notebook</a>'\n",
              "            + ' to learn more about interactive tables.';\n",
              "          element.innerHTML = '';\n",
              "          dataTable['output_type'] = 'display_data';\n",
              "          await google.colab.output.renderOutput(dataTable, element);\n",
              "          const docLink = document.createElement('div');\n",
              "          docLink.innerHTML = docLinkHtml;\n",
              "          element.appendChild(docLink);\n",
              "        }\n",
              "      </script>\n",
              "    </div>\n",
              "  </div>\n",
              "  "
            ]
          },
          "metadata": {},
          "execution_count": 321
        }
      ]
    },
    {
      "cell_type": "markdown",
      "source": [
        "이후, 이전처럼 '데이터분할 -> 최적의 hyper-parameter선택 -> 선택된 모델로 학습 -> 변수중요도 확인' 과정을 수행"
      ],
      "metadata": {
        "id": "JkG6FMv5gqL_"
      }
    },
    {
      "cell_type": "markdown",
      "source": [
        "3. standard scaling"
      ],
      "metadata": {
        "id": "m7ms0JByg2lW"
      }
    },
    {
      "cell_type": "code",
      "source": [
        "from sklearn.preprocessing import StandardScaler\n",
        "\n",
        "total_data = pd.concat([X3_features, y_label], axis=1)\n",
        "\n",
        "scaler = StandardScaler()\n",
        "scaler.fit(total_data)\n",
        "trans_data = scaler.transform(total_data)\n",
        "\n",
        "# numpy -> df\n",
        "trans_data_df = pd.DataFrame(data=trans_data, columns=total_data.columns)\n",
        "trans_data_df.head(1) # 0~1 사이의 값들을 가짐을 확인할 수 있다."
      ],
      "metadata": {
        "colab": {
          "base_uri": "https://localhost:8080/",
          "height": 144
        },
        "id": "y2IIIj69g4y6",
        "outputId": "c3a7ca33-371f-4de0-c7ae-44d2ad2fb1c0"
      },
      "execution_count": null,
      "outputs": [
        {
          "output_type": "execute_result",
          "data": {
            "text/plain": [
              "       hour  hour_bef_temperature  hour_bef_windspeed  hour_bef_humidity  \\\n",
              "0  1.198579             -0.114422           -0.720969           1.855885   \n",
              "\n",
              "   hour_bef_visibility  hour_bef_ozone  hour_bef_pm10      hbp2      hbp3  \\\n",
              "0            -1.459377       -0.628003       0.599678  5.705261 -0.072412   \n",
              "\n",
              "      count  \n",
              "0 -0.749088  "
            ],
            "text/html": [
              "\n",
              "  <div id=\"df-4cd5c661-1fd1-4bce-87b6-e2aab7ef9ab7\">\n",
              "    <div class=\"colab-df-container\">\n",
              "      <div>\n",
              "<style scoped>\n",
              "    .dataframe tbody tr th:only-of-type {\n",
              "        vertical-align: middle;\n",
              "    }\n",
              "\n",
              "    .dataframe tbody tr th {\n",
              "        vertical-align: top;\n",
              "    }\n",
              "\n",
              "    .dataframe thead th {\n",
              "        text-align: right;\n",
              "    }\n",
              "</style>\n",
              "<table border=\"1\" class=\"dataframe\">\n",
              "  <thead>\n",
              "    <tr style=\"text-align: right;\">\n",
              "      <th></th>\n",
              "      <th>hour</th>\n",
              "      <th>hour_bef_temperature</th>\n",
              "      <th>hour_bef_windspeed</th>\n",
              "      <th>hour_bef_humidity</th>\n",
              "      <th>hour_bef_visibility</th>\n",
              "      <th>hour_bef_ozone</th>\n",
              "      <th>hour_bef_pm10</th>\n",
              "      <th>hbp2</th>\n",
              "      <th>hbp3</th>\n",
              "      <th>count</th>\n",
              "    </tr>\n",
              "  </thead>\n",
              "  <tbody>\n",
              "    <tr>\n",
              "      <th>0</th>\n",
              "      <td>1.198579</td>\n",
              "      <td>-0.114422</td>\n",
              "      <td>-0.720969</td>\n",
              "      <td>1.855885</td>\n",
              "      <td>-1.459377</td>\n",
              "      <td>-0.628003</td>\n",
              "      <td>0.599678</td>\n",
              "      <td>5.705261</td>\n",
              "      <td>-0.072412</td>\n",
              "      <td>-0.749088</td>\n",
              "    </tr>\n",
              "  </tbody>\n",
              "</table>\n",
              "</div>\n",
              "      <button class=\"colab-df-convert\" onclick=\"convertToInteractive('df-4cd5c661-1fd1-4bce-87b6-e2aab7ef9ab7')\"\n",
              "              title=\"Convert this dataframe to an interactive table.\"\n",
              "              style=\"display:none;\">\n",
              "        \n",
              "  <svg xmlns=\"http://www.w3.org/2000/svg\" height=\"24px\"viewBox=\"0 0 24 24\"\n",
              "       width=\"24px\">\n",
              "    <path d=\"M0 0h24v24H0V0z\" fill=\"none\"/>\n",
              "    <path d=\"M18.56 5.44l.94 2.06.94-2.06 2.06-.94-2.06-.94-.94-2.06-.94 2.06-2.06.94zm-11 1L8.5 8.5l.94-2.06 2.06-.94-2.06-.94L8.5 2.5l-.94 2.06-2.06.94zm10 10l.94 2.06.94-2.06 2.06-.94-2.06-.94-.94-2.06-.94 2.06-2.06.94z\"/><path d=\"M17.41 7.96l-1.37-1.37c-.4-.4-.92-.59-1.43-.59-.52 0-1.04.2-1.43.59L10.3 9.45l-7.72 7.72c-.78.78-.78 2.05 0 2.83L4 21.41c.39.39.9.59 1.41.59.51 0 1.02-.2 1.41-.59l7.78-7.78 2.81-2.81c.8-.78.8-2.07 0-2.86zM5.41 20L4 18.59l7.72-7.72 1.47 1.35L5.41 20z\"/>\n",
              "  </svg>\n",
              "      </button>\n",
              "      \n",
              "  <style>\n",
              "    .colab-df-container {\n",
              "      display:flex;\n",
              "      flex-wrap:wrap;\n",
              "      gap: 12px;\n",
              "    }\n",
              "\n",
              "    .colab-df-convert {\n",
              "      background-color: #E8F0FE;\n",
              "      border: none;\n",
              "      border-radius: 50%;\n",
              "      cursor: pointer;\n",
              "      display: none;\n",
              "      fill: #1967D2;\n",
              "      height: 32px;\n",
              "      padding: 0 0 0 0;\n",
              "      width: 32px;\n",
              "    }\n",
              "\n",
              "    .colab-df-convert:hover {\n",
              "      background-color: #E2EBFA;\n",
              "      box-shadow: 0px 1px 2px rgba(60, 64, 67, 0.3), 0px 1px 3px 1px rgba(60, 64, 67, 0.15);\n",
              "      fill: #174EA6;\n",
              "    }\n",
              "\n",
              "    [theme=dark] .colab-df-convert {\n",
              "      background-color: #3B4455;\n",
              "      fill: #D2E3FC;\n",
              "    }\n",
              "\n",
              "    [theme=dark] .colab-df-convert:hover {\n",
              "      background-color: #434B5C;\n",
              "      box-shadow: 0px 1px 3px 1px rgba(0, 0, 0, 0.15);\n",
              "      filter: drop-shadow(0px 1px 2px rgba(0, 0, 0, 0.3));\n",
              "      fill: #FFFFFF;\n",
              "    }\n",
              "  </style>\n",
              "\n",
              "      <script>\n",
              "        const buttonEl =\n",
              "          document.querySelector('#df-4cd5c661-1fd1-4bce-87b6-e2aab7ef9ab7 button.colab-df-convert');\n",
              "        buttonEl.style.display =\n",
              "          google.colab.kernel.accessAllowed ? 'block' : 'none';\n",
              "\n",
              "        async function convertToInteractive(key) {\n",
              "          const element = document.querySelector('#df-4cd5c661-1fd1-4bce-87b6-e2aab7ef9ab7');\n",
              "          const dataTable =\n",
              "            await google.colab.kernel.invokeFunction('convertToInteractive',\n",
              "                                                     [key], {});\n",
              "          if (!dataTable) return;\n",
              "\n",
              "          const docLinkHtml = 'Like what you see? Visit the ' +\n",
              "            '<a target=\"_blank\" href=https://colab.research.google.com/notebooks/data_table.ipynb>data table notebook</a>'\n",
              "            + ' to learn more about interactive tables.';\n",
              "          element.innerHTML = '';\n",
              "          dataTable['output_type'] = 'display_data';\n",
              "          await google.colab.output.renderOutput(dataTable, element);\n",
              "          const docLink = document.createElement('div');\n",
              "          docLink.innerHTML = docLinkHtml;\n",
              "          element.appendChild(docLink);\n",
              "        }\n",
              "      </script>\n",
              "    </div>\n",
              "  </div>\n",
              "  "
            ]
          },
          "metadata": {},
          "execution_count": 325
        }
      ]
    },
    {
      "cell_type": "code",
      "source": [
        "ridge.coef_"
      ],
      "metadata": {
        "colab": {
          "base_uri": "https://localhost:8080/"
        },
        "id": "CF1SMH4Xd3Yr",
        "outputId": "400d2cd1-38a0-4b12-bd71-046b5c0979aa"
      },
      "execution_count": null,
      "outputs": [
        {
          "output_type": "execute_result",
          "data": {
            "text/plain": [
              "array([ 4.71283875e+00,  5.06427769e+00,  7.66071621e+00, -4.79688026e-01,\n",
              "       -1.31462007e-03,  1.70677857e+02, -3.66791635e-01, -5.58750343e+01,\n",
              "        3.41595346e+01])"
            ]
          },
          "metadata": {},
          "execution_count": 326
        }
      ]
    },
    {
      "cell_type": "markdown",
      "source": [
        "# 문제 1"
      ],
      "metadata": {
        "id": "fuNEpyt0hKLQ"
      }
    },
    {
      "cell_type": "markdown",
      "source": [
        "사용할 데이터 : house.csv"
      ],
      "metadata": {
        "id": "1ca0VrcNxsd1"
      }
    },
    {
      "cell_type": "markdown",
      "source": [
        "네이버 부동산에서 크롤링해 가져온 서울시 부동산 데이터\n",
        "\n",
        "* Unnamed: 0 : 의미없는 칼럼\n",
        "* id : 매물id\n",
        "> 한 매물당 하나의 id가 할당된다.\n",
        "* lat : 위도\n",
        "* lng : 경도\n",
        "* gu : 구(행정지역정보)\n",
        "* goodsType : 매물의 거래형태(아파트,빌라 등)\n",
        "* payType : 판매의 거래형태(월세,매매 등)\n",
        "* floor : 매물방의 층수\n",
        "* floor_total : 매물이 있는 전체 건물의 층수\n",
        "* contractArea : 계약면적\n",
        "* realArea : 실제면적\n",
        "* direction : 창문방향(남향,북향)\n",
        "* tag : 매물마다 관련된 설명정보\n",
        "> ex. 일조량 및 관리 잘 된 복층\n",
        "* tagList : 매물마다 관련된 설명에서의 태그\n",
        "> ex. '10년이내, 25년이내 건축, 복층'과 같이 인스타 해시테그 느낌\n",
        "* deposit : 보증금\n",
        "* monthlyPay : 월세\n",
        "\n",
        "\n",
        "> 데이터 출처 : 네이버 부동산 크롤링 데이터"
      ],
      "metadata": {
        "id": "t9YNrpxfxw7T"
      }
    },
    {
      "cell_type": "markdown",
      "source": [
        "설명\n",
        "* X와 y를 찾아, LinearRegression을 위 예제1을 참고하여 실행하시오.\n",
        "* 예를 들면, y='보증금', X=나머지 으로 하여 나머지 값으로 보증금을 예측하는 선형회귀문제로 Task를 정해 코딩을 진행\n",
        "\n",
        "* 조건\n",
        "> * ***(핵심내용)*** X & y로 이용할 것을 명확히 제시하고, y에 따른 어떤 문제인지 파악하기\n",
        ">    * y를 연속형으로 하여, LinearRegression문제가 될 수 있도록 한다.\n",
        "> * X변수에 1개이상의 범주형데이터를 포함하고, one-hot encoding을 사용하기\n",
        "> * 최소 1가지 이상의 방법으로 X데이터 중 1개 이상의 열을 삭제하기\n",
        "> * 데이터 분할 진행하기\n",
        "> * ***(핵심내용)*** 다중선형회귀 모델을 사용하기\n",
        "> * 규제항이 있는 모델(Ridge,Lasso)을 사용하기\n",
        "> * hyper-parameter 튜닝을 진행하기\n",
        ">   * cross_val_score를 사용하지 않아도 됩니다.\n",
        ">   * GridSearchCV ,RandomSearchCV을 사용하셔도 됩니다.\n",
        ">   * 참고자료 : https://dacon.io/codeshare/\n",
        "> * ***(핵심내용)*** 변수 중요도 해석\n",
        ">   * 스케일링 없이\n",
        ">   * min-max scaling\n",
        ">   * standard scaling"
      ],
      "metadata": {
        "id": "xw81U8EQz7tc"
      }
    },
    {
      "cell_type": "markdown",
      "source": [
        "# 예제 2"
      ],
      "metadata": {
        "id": "0ba6dIWedbp2"
      }
    },
    {
      "cell_type": "markdown",
      "source": [
        "데이터의 y값이 '연속형' -> '범주형'만 바뀔뿐 이후에 진행하는 절차는 유사하다."
      ],
      "metadata": {
        "id": "THK5yW1Rl0iC"
      }
    },
    {
      "cell_type": "markdown",
      "source": [
        "위에서 사용한 데이터를 그대로 이용한다.\n",
        "* 단, 이전에는 y값을 'count'라는 연속형 데이터로 선정하여, supervised & regression 문제였으나\n",
        "* 이번에는 y값을 'precipitation'라는 범주형 데이터로 선정하여, supervised & classification 문제로 변경된다."
      ],
      "metadata": {
        "id": "yJ08KUVQirPR"
      }
    },
    {
      "cell_type": "markdown",
      "source": [
        "## remark; 데이터 소개 again"
      ],
      "metadata": {
        "id": "Qo6TXUyWlLrn"
      }
    },
    {
      "cell_type": "markdown",
      "source": [
        "사용할 데이터 : bike.csv"
      ],
      "metadata": {
        "id": "Ok77nb7niZgm"
      }
    },
    {
      "cell_type": "markdown",
      "source": [
        "주어진 데이터는 서울시 공공데이터인 자전거 대여 수를 나타낸 데이터로 아래와 같다. 데이터에는 자전거 대여 수와 함께 ID, 시간, 날씨 등의 정보를 포함하고 있다."
      ],
      "metadata": {
        "id": "3fqC7e2NiZgu"
      }
    },
    {
      "cell_type": "markdown",
      "source": [
        "서울시 마포구의 날짜별, 시간별 기상상황과 따릉이 대여 수 데이터\n",
        "즉, 따릉이 보관소별로 매일 자전거 대여\n",
        "\n",
        "* id : 마포구에 있는 따릉이 보관소의 고유 id\n",
        "* hour : 따릉이 보관소에서 기상상황을 측정한 시간\n",
        "> ex. hour=23일 경우, 23시에 기상상황을 측정했다는 의미\n",
        "* temperature : 기온\n",
        "* precipitation : 비가 오지 않았으면 0, 비가 오면 1, null은 비가 온 것도 아니고 안 온 것도 아니라서 센서가 확실히 측정불가한 상태\n",
        "* windspeed : 풍속(평균)\n",
        "* humidity : 습도\n",
        "* visibility : 시정(視程), 시계(視界)(특정 기상 상태에 따른 가시성을 의미)\n",
        "* ozone : 오존\n",
        "* pm10 : 미세먼지(머리카락 굵기의 1/5에서 1/7 크기의 미세먼지)\n",
        "* pm2.5 : 미세먼지(머리카락 굵기의 1/20에서 1/30 크기의 미세먼지)\n",
        "* count : 측정한 날짜의 따릉이 대여 수\n",
        "\n",
        "> 데이터 출처 : https://www.dacon.io/competitions/open/235576/data"
      ],
      "metadata": {
        "id": "ofkpVxI2iZgu"
      }
    },
    {
      "cell_type": "markdown",
      "metadata": {
        "id": "uIZSWV6ziZgu"
      },
      "source": [
        "## 데이터 불러오기"
      ]
    },
    {
      "cell_type": "code",
      "execution_count": null,
      "metadata": {
        "scrolled": true,
        "outputId": "8c0e9783-05a8-4fa6-8058-645d275001c6",
        "colab": {
          "base_uri": "https://localhost:8080/"
        },
        "id": "z2uvc1LDiZgu"
      },
      "outputs": [
        {
          "output_type": "execute_result",
          "data": {
            "text/plain": [
              "   id  hour  hour_bef_temperature  hour_bef_precipitation  hour_bef_windspeed  \\\n",
              "0   3    20                  16.3                     1.0                 1.5   \n",
              "1   6    13                  20.1                     0.0                 1.4   \n",
              "2   7     6                  13.9                     0.0                 0.7   \n",
              "3   8    23                   8.1                     0.0                 2.7   \n",
              "4   9    18                  29.5                     0.0                 4.8   \n",
              "\n",
              "   hour_bef_humidity  hour_bef_visibility  hour_bef_ozone  hour_bef_pm10  \\\n",
              "0               89.0                576.0           0.027           76.0   \n",
              "1               48.0                916.0           0.042           73.0   \n",
              "2               79.0               1382.0           0.033           32.0   \n",
              "3               54.0                946.0           0.040           75.0   \n",
              "4                7.0               2000.0           0.057           27.0   \n",
              "\n",
              "   hour_bef_pm2.5  count  \n",
              "0            33.0     49  \n",
              "1            40.0    159  \n",
              "2            19.0     26  \n",
              "3            64.0     57  \n",
              "4            11.0    431  "
            ],
            "text/html": [
              "\n",
              "  <div id=\"df-41877a3f-c96f-4360-acd0-1679ec77e34a\">\n",
              "    <div class=\"colab-df-container\">\n",
              "      <div>\n",
              "<style scoped>\n",
              "    .dataframe tbody tr th:only-of-type {\n",
              "        vertical-align: middle;\n",
              "    }\n",
              "\n",
              "    .dataframe tbody tr th {\n",
              "        vertical-align: top;\n",
              "    }\n",
              "\n",
              "    .dataframe thead th {\n",
              "        text-align: right;\n",
              "    }\n",
              "</style>\n",
              "<table border=\"1\" class=\"dataframe\">\n",
              "  <thead>\n",
              "    <tr style=\"text-align: right;\">\n",
              "      <th></th>\n",
              "      <th>id</th>\n",
              "      <th>hour</th>\n",
              "      <th>hour_bef_temperature</th>\n",
              "      <th>hour_bef_precipitation</th>\n",
              "      <th>hour_bef_windspeed</th>\n",
              "      <th>hour_bef_humidity</th>\n",
              "      <th>hour_bef_visibility</th>\n",
              "      <th>hour_bef_ozone</th>\n",
              "      <th>hour_bef_pm10</th>\n",
              "      <th>hour_bef_pm2.5</th>\n",
              "      <th>count</th>\n",
              "    </tr>\n",
              "  </thead>\n",
              "  <tbody>\n",
              "    <tr>\n",
              "      <th>0</th>\n",
              "      <td>3</td>\n",
              "      <td>20</td>\n",
              "      <td>16.3</td>\n",
              "      <td>1.0</td>\n",
              "      <td>1.5</td>\n",
              "      <td>89.0</td>\n",
              "      <td>576.0</td>\n",
              "      <td>0.027</td>\n",
              "      <td>76.0</td>\n",
              "      <td>33.0</td>\n",
              "      <td>49</td>\n",
              "    </tr>\n",
              "    <tr>\n",
              "      <th>1</th>\n",
              "      <td>6</td>\n",
              "      <td>13</td>\n",
              "      <td>20.1</td>\n",
              "      <td>0.0</td>\n",
              "      <td>1.4</td>\n",
              "      <td>48.0</td>\n",
              "      <td>916.0</td>\n",
              "      <td>0.042</td>\n",
              "      <td>73.0</td>\n",
              "      <td>40.0</td>\n",
              "      <td>159</td>\n",
              "    </tr>\n",
              "    <tr>\n",
              "      <th>2</th>\n",
              "      <td>7</td>\n",
              "      <td>6</td>\n",
              "      <td>13.9</td>\n",
              "      <td>0.0</td>\n",
              "      <td>0.7</td>\n",
              "      <td>79.0</td>\n",
              "      <td>1382.0</td>\n",
              "      <td>0.033</td>\n",
              "      <td>32.0</td>\n",
              "      <td>19.0</td>\n",
              "      <td>26</td>\n",
              "    </tr>\n",
              "    <tr>\n",
              "      <th>3</th>\n",
              "      <td>8</td>\n",
              "      <td>23</td>\n",
              "      <td>8.1</td>\n",
              "      <td>0.0</td>\n",
              "      <td>2.7</td>\n",
              "      <td>54.0</td>\n",
              "      <td>946.0</td>\n",
              "      <td>0.040</td>\n",
              "      <td>75.0</td>\n",
              "      <td>64.0</td>\n",
              "      <td>57</td>\n",
              "    </tr>\n",
              "    <tr>\n",
              "      <th>4</th>\n",
              "      <td>9</td>\n",
              "      <td>18</td>\n",
              "      <td>29.5</td>\n",
              "      <td>0.0</td>\n",
              "      <td>4.8</td>\n",
              "      <td>7.0</td>\n",
              "      <td>2000.0</td>\n",
              "      <td>0.057</td>\n",
              "      <td>27.0</td>\n",
              "      <td>11.0</td>\n",
              "      <td>431</td>\n",
              "    </tr>\n",
              "  </tbody>\n",
              "</table>\n",
              "</div>\n",
              "      <button class=\"colab-df-convert\" onclick=\"convertToInteractive('df-41877a3f-c96f-4360-acd0-1679ec77e34a')\"\n",
              "              title=\"Convert this dataframe to an interactive table.\"\n",
              "              style=\"display:none;\">\n",
              "        \n",
              "  <svg xmlns=\"http://www.w3.org/2000/svg\" height=\"24px\"viewBox=\"0 0 24 24\"\n",
              "       width=\"24px\">\n",
              "    <path d=\"M0 0h24v24H0V0z\" fill=\"none\"/>\n",
              "    <path d=\"M18.56 5.44l.94 2.06.94-2.06 2.06-.94-2.06-.94-.94-2.06-.94 2.06-2.06.94zm-11 1L8.5 8.5l.94-2.06 2.06-.94-2.06-.94L8.5 2.5l-.94 2.06-2.06.94zm10 10l.94 2.06.94-2.06 2.06-.94-2.06-.94-.94-2.06-.94 2.06-2.06.94z\"/><path d=\"M17.41 7.96l-1.37-1.37c-.4-.4-.92-.59-1.43-.59-.52 0-1.04.2-1.43.59L10.3 9.45l-7.72 7.72c-.78.78-.78 2.05 0 2.83L4 21.41c.39.39.9.59 1.41.59.51 0 1.02-.2 1.41-.59l7.78-7.78 2.81-2.81c.8-.78.8-2.07 0-2.86zM5.41 20L4 18.59l7.72-7.72 1.47 1.35L5.41 20z\"/>\n",
              "  </svg>\n",
              "      </button>\n",
              "      \n",
              "  <style>\n",
              "    .colab-df-container {\n",
              "      display:flex;\n",
              "      flex-wrap:wrap;\n",
              "      gap: 12px;\n",
              "    }\n",
              "\n",
              "    .colab-df-convert {\n",
              "      background-color: #E8F0FE;\n",
              "      border: none;\n",
              "      border-radius: 50%;\n",
              "      cursor: pointer;\n",
              "      display: none;\n",
              "      fill: #1967D2;\n",
              "      height: 32px;\n",
              "      padding: 0 0 0 0;\n",
              "      width: 32px;\n",
              "    }\n",
              "\n",
              "    .colab-df-convert:hover {\n",
              "      background-color: #E2EBFA;\n",
              "      box-shadow: 0px 1px 2px rgba(60, 64, 67, 0.3), 0px 1px 3px 1px rgba(60, 64, 67, 0.15);\n",
              "      fill: #174EA6;\n",
              "    }\n",
              "\n",
              "    [theme=dark] .colab-df-convert {\n",
              "      background-color: #3B4455;\n",
              "      fill: #D2E3FC;\n",
              "    }\n",
              "\n",
              "    [theme=dark] .colab-df-convert:hover {\n",
              "      background-color: #434B5C;\n",
              "      box-shadow: 0px 1px 3px 1px rgba(0, 0, 0, 0.15);\n",
              "      filter: drop-shadow(0px 1px 2px rgba(0, 0, 0, 0.3));\n",
              "      fill: #FFFFFF;\n",
              "    }\n",
              "  </style>\n",
              "\n",
              "      <script>\n",
              "        const buttonEl =\n",
              "          document.querySelector('#df-41877a3f-c96f-4360-acd0-1679ec77e34a button.colab-df-convert');\n",
              "        buttonEl.style.display =\n",
              "          google.colab.kernel.accessAllowed ? 'block' : 'none';\n",
              "\n",
              "        async function convertToInteractive(key) {\n",
              "          const element = document.querySelector('#df-41877a3f-c96f-4360-acd0-1679ec77e34a');\n",
              "          const dataTable =\n",
              "            await google.colab.kernel.invokeFunction('convertToInteractive',\n",
              "                                                     [key], {});\n",
              "          if (!dataTable) return;\n",
              "\n",
              "          const docLinkHtml = 'Like what you see? Visit the ' +\n",
              "            '<a target=\"_blank\" href=https://colab.research.google.com/notebooks/data_table.ipynb>data table notebook</a>'\n",
              "            + ' to learn more about interactive tables.';\n",
              "          element.innerHTML = '';\n",
              "          dataTable['output_type'] = 'display_data';\n",
              "          await google.colab.output.renderOutput(dataTable, element);\n",
              "          const docLink = document.createElement('div');\n",
              "          docLink.innerHTML = docLinkHtml;\n",
              "          element.appendChild(docLink);\n",
              "        }\n",
              "      </script>\n",
              "    </div>\n",
              "  </div>\n",
              "  "
            ]
          },
          "metadata": {},
          "execution_count": 343
        }
      ],
      "source": [
        "path = '/content/drive/MyDrive/세션자료/bike.csv'\n",
        "bike = pd.read_csv(path)\n",
        "bike.head()"
      ]
    },
    {
      "cell_type": "markdown",
      "source": [
        "## 어떤 Task인지 파악하기"
      ],
      "metadata": {
        "id": "UrV1Y7ESn2QY"
      }
    },
    {
      "cell_type": "markdown",
      "source": [
        "데이터 구조 확인 및 어떤 task인지 파악을 한다."
      ],
      "metadata": {
        "id": "IGL8Pf13n2QY"
      }
    },
    {
      "cell_type": "code",
      "execution_count": null,
      "metadata": {
        "outputId": "b8110add-b164-4a66-d20b-b0e76d9da16b",
        "colab": {
          "base_uri": "https://localhost:8080/"
        },
        "id": "u9Q22br_n2QZ"
      },
      "outputs": [
        {
          "output_type": "execute_result",
          "data": {
            "text/plain": [
              "(1459, 11)"
            ]
          },
          "metadata": {},
          "execution_count": 344
        }
      ],
      "source": [
        "# (행,열)\n",
        "# 행의 수 = 데이터(표본)의 갯수 = 1459\n",
        "# 열의 수 = features들의 갯수 = 11\n",
        "\n",
        "bike.shape"
      ]
    },
    {
      "cell_type": "code",
      "source": [
        "# features 살펴보기\n",
        "\n",
        "bike.columns"
      ],
      "metadata": {
        "colab": {
          "base_uri": "https://localhost:8080/"
        },
        "outputId": "8e2f9fd5-44a1-4c93-cd96-9c9456fa7756",
        "id": "0AxoCrD2n2QZ"
      },
      "execution_count": null,
      "outputs": [
        {
          "output_type": "execute_result",
          "data": {
            "text/plain": [
              "Index(['id', 'hour', 'hour_bef_temperature', 'hour_bef_precipitation',\n",
              "       'hour_bef_windspeed', 'hour_bef_humidity', 'hour_bef_visibility',\n",
              "       'hour_bef_ozone', 'hour_bef_pm10', 'hour_bef_pm2.5', 'count'],\n",
              "      dtype='object')"
            ]
          },
          "metadata": {},
          "execution_count": 345
        }
      ]
    },
    {
      "cell_type": "code",
      "source": [
        "# y값 = 'hour_bef_precipitation(비가 왔는지 안왔는지 여부)'열\n",
        "\n",
        "# y(label)값 뜯어내기\n",
        "y_label = bike.loc[:,'hour_bef_precipitation']\n",
        "\n",
        "# y값 분포 확인\n",
        "y_label.value_counts()\n",
        "plt.hist(y_label.values)\n",
        "\n",
        "# 결론\n",
        "# y값 = exist -> Supervised\n",
        "# y값 = 범주형 -> classification"
      ],
      "metadata": {
        "colab": {
          "base_uri": "https://localhost:8080/"
        },
        "outputId": "3109e810-1db0-4b7d-b157-a67f576fd4fd",
        "id": "zKKLPN-Vn2QZ"
      },
      "execution_count": null,
      "outputs": [
        {
          "output_type": "execute_result",
          "data": {
            "text/plain": [
              "(array([1404.,    0.,    0.,    0.,    0.,    0.,    0.,    0.,    0.,\n",
              "          46.]),\n",
              " array([0. , 0.1, 0.2, 0.3, 0.4, 0.5, 0.6, 0.7, 0.8, 0.9, 1. ]),\n",
              " <a list of 10 Patch objects>)"
            ]
          },
          "metadata": {},
          "execution_count": 346
        },
        {
          "output_type": "display_data",
          "data": {
            "text/plain": [
              "<Figure size 432x288 with 1 Axes>"
            ],
            "image/png": "[encoded data removed]"
          },
          "metadata": {
            "needs_background": "light"
          }
        }
      ]
    },
    {
      "cell_type": "code",
      "source": [
        "# 범주형 데이터(hour_bef_precipitation) 살펴보기\n",
        "\n",
        "bike.loc[:,'hour_bef_precipitation'].value_counts()\n",
        "\n",
        "# 해당 데이터의 경우, '0 or 1'인 binary-class를 갖는다.\n",
        "# 따라서 해당 문제는 binary-classification task로 생각할 수 있다."
      ],
      "metadata": {
        "colab": {
          "base_uri": "https://localhost:8080/"
        },
        "outputId": "b8487885-451e-48ae-e001-45cceff44089",
        "id": "KaDTWnptn2Qa"
      },
      "execution_count": null,
      "outputs": [
        {
          "output_type": "execute_result",
          "data": {
            "text/plain": [
              "0.0    1404\n",
              "1.0      46\n",
              "Name: hour_bef_precipitation, dtype: int64"
            ]
          },
          "metadata": {},
          "execution_count": 347
        }
      ]
    },
    {
      "cell_type": "code",
      "source": [
        "# 위의 y값을 제외한 진정한 X값들로 이루어진 features 만들기\n",
        "\n",
        "X_features = bike.drop(['hour_bef_precipitation'], axis=1)\n",
        "X_features.columns # 10개의 열들이 진정한 X_features로 사용\n",
        "\n",
        "# 즉, 10개의 X_features열들로 1개의 y_label인 'hour_bef_precipitation'를 맞추는 문제\n",
        "# 여기서 행은 데이터의 갯수, 즉 이러한 갯수의 데이터를 이용해 학습을 시킨다는 의미"
      ],
      "metadata": {
        "colab": {
          "base_uri": "https://localhost:8080/"
        },
        "outputId": "63f2d2d1-70b5-4663-c986-a5e434a786c6",
        "id": "z3WS4cs8n2QZ"
      },
      "execution_count": null,
      "outputs": [
        {
          "output_type": "execute_result",
          "data": {
            "text/plain": [
              "Index(['id', 'hour', 'hour_bef_temperature', 'hour_bef_windspeed',\n",
              "       'hour_bef_humidity', 'hour_bef_visibility', 'hour_bef_ozone',\n",
              "       'hour_bef_pm10', 'hour_bef_pm2.5', 'count'],\n",
              "      dtype='object')"
            ]
          },
          "metadata": {},
          "execution_count": 348
        }
      ]
    },
    {
      "cell_type": "code",
      "source": [
        "# X_features 열들이 ['연속형','범주형']인지 확인\n",
        "\n",
        "# 1~5번째 행(데이터)\n",
        "X_features.head()\n",
        "\n",
        "# 범주형 데이터 : 없음\n",
        "# 연속형 데이터 : 나머지"
      ],
      "metadata": {
        "colab": {
          "base_uri": "https://localhost:8080/"
        },
        "outputId": "07472201-9013-4a63-f417-4e8561e07a80",
        "id": "1rfl-iR8n2QZ"
      },
      "execution_count": null,
      "outputs": [
        {
          "output_type": "execute_result",
          "data": {
            "text/plain": [
              "   id  hour  hour_bef_temperature  hour_bef_windspeed  hour_bef_humidity  \\\n",
              "0   3    20                  16.3                 1.5               89.0   \n",
              "1   6    13                  20.1                 1.4               48.0   \n",
              "2   7     6                  13.9                 0.7               79.0   \n",
              "3   8    23                   8.1                 2.7               54.0   \n",
              "4   9    18                  29.5                 4.8                7.0   \n",
              "\n",
              "   hour_bef_visibility  hour_bef_ozone  hour_bef_pm10  hour_bef_pm2.5  count  \n",
              "0                576.0           0.027           76.0            33.0     49  \n",
              "1                916.0           0.042           73.0            40.0    159  \n",
              "2               1382.0           0.033           32.0            19.0     26  \n",
              "3                946.0           0.040           75.0            64.0     57  \n",
              "4               2000.0           0.057           27.0            11.0    431  "
            ],
            "text/html": [
              "\n",
              "  <div id=\"df-b534f283-4777-4588-a478-889a9668651c\">\n",
              "    <div class=\"colab-df-container\">\n",
              "      <div>\n",
              "<style scoped>\n",
              "    .dataframe tbody tr th:only-of-type {\n",
              "        vertical-align: middle;\n",
              "    }\n",
              "\n",
              "    .dataframe tbody tr th {\n",
              "        vertical-align: top;\n",
              "    }\n",
              "\n",
              "    .dataframe thead th {\n",
              "        text-align: right;\n",
              "    }\n",
              "</style>\n",
              "<table border=\"1\" class=\"dataframe\">\n",
              "  <thead>\n",
              "    <tr style=\"text-align: right;\">\n",
              "      <th></th>\n",
              "      <th>id</th>\n",
              "      <th>hour</th>\n",
              "      <th>hour_bef_temperature</th>\n",
              "      <th>hour_bef_windspeed</th>\n",
              "      <th>hour_bef_humidity</th>\n",
              "      <th>hour_bef_visibility</th>\n",
              "      <th>hour_bef_ozone</th>\n",
              "      <th>hour_bef_pm10</th>\n",
              "      <th>hour_bef_pm2.5</th>\n",
              "      <th>count</th>\n",
              "    </tr>\n",
              "  </thead>\n",
              "  <tbody>\n",
              "    <tr>\n",
              "      <th>0</th>\n",
              "      <td>3</td>\n",
              "      <td>20</td>\n",
              "      <td>16.3</td>\n",
              "      <td>1.5</td>\n",
              "      <td>89.0</td>\n",
              "      <td>576.0</td>\n",
              "      <td>0.027</td>\n",
              "      <td>76.0</td>\n",
              "      <td>33.0</td>\n",
              "      <td>49</td>\n",
              "    </tr>\n",
              "    <tr>\n",
              "      <th>1</th>\n",
              "      <td>6</td>\n",
              "      <td>13</td>\n",
              "      <td>20.1</td>\n",
              "      <td>1.4</td>\n",
              "      <td>48.0</td>\n",
              "      <td>916.0</td>\n",
              "      <td>0.042</td>\n",
              "      <td>73.0</td>\n",
              "      <td>40.0</td>\n",
              "      <td>159</td>\n",
              "    </tr>\n",
              "    <tr>\n",
              "      <th>2</th>\n",
              "      <td>7</td>\n",
              "      <td>6</td>\n",
              "      <td>13.9</td>\n",
              "      <td>0.7</td>\n",
              "      <td>79.0</td>\n",
              "      <td>1382.0</td>\n",
              "      <td>0.033</td>\n",
              "      <td>32.0</td>\n",
              "      <td>19.0</td>\n",
              "      <td>26</td>\n",
              "    </tr>\n",
              "    <tr>\n",
              "      <th>3</th>\n",
              "      <td>8</td>\n",
              "      <td>23</td>\n",
              "      <td>8.1</td>\n",
              "      <td>2.7</td>\n",
              "      <td>54.0</td>\n",
              "      <td>946.0</td>\n",
              "      <td>0.040</td>\n",
              "      <td>75.0</td>\n",
              "      <td>64.0</td>\n",
              "      <td>57</td>\n",
              "    </tr>\n",
              "    <tr>\n",
              "      <th>4</th>\n",
              "      <td>9</td>\n",
              "      <td>18</td>\n",
              "      <td>29.5</td>\n",
              "      <td>4.8</td>\n",
              "      <td>7.0</td>\n",
              "      <td>2000.0</td>\n",
              "      <td>0.057</td>\n",
              "      <td>27.0</td>\n",
              "      <td>11.0</td>\n",
              "      <td>431</td>\n",
              "    </tr>\n",
              "  </tbody>\n",
              "</table>\n",
              "</div>\n",
              "      <button class=\"colab-df-convert\" onclick=\"convertToInteractive('df-b534f283-4777-4588-a478-889a9668651c')\"\n",
              "              title=\"Convert this dataframe to an interactive table.\"\n",
              "              style=\"display:none;\">\n",
              "        \n",
              "  <svg xmlns=\"http://www.w3.org/2000/svg\" height=\"24px\"viewBox=\"0 0 24 24\"\n",
              "       width=\"24px\">\n",
              "    <path d=\"M0 0h24v24H0V0z\" fill=\"none\"/>\n",
              "    <path d=\"M18.56 5.44l.94 2.06.94-2.06 2.06-.94-2.06-.94-.94-2.06-.94 2.06-2.06.94zm-11 1L8.5 8.5l.94-2.06 2.06-.94-2.06-.94L8.5 2.5l-.94 2.06-2.06.94zm10 10l.94 2.06.94-2.06 2.06-.94-2.06-.94-.94-2.06-.94 2.06-2.06.94z\"/><path d=\"M17.41 7.96l-1.37-1.37c-.4-.4-.92-.59-1.43-.59-.52 0-1.04.2-1.43.59L10.3 9.45l-7.72 7.72c-.78.78-.78 2.05 0 2.83L4 21.41c.39.39.9.59 1.41.59.51 0 1.02-.2 1.41-.59l7.78-7.78 2.81-2.81c.8-.78.8-2.07 0-2.86zM5.41 20L4 18.59l7.72-7.72 1.47 1.35L5.41 20z\"/>\n",
              "  </svg>\n",
              "      </button>\n",
              "      \n",
              "  <style>\n",
              "    .colab-df-container {\n",
              "      display:flex;\n",
              "      flex-wrap:wrap;\n",
              "      gap: 12px;\n",
              "    }\n",
              "\n",
              "    .colab-df-convert {\n",
              "      background-color: #E8F0FE;\n",
              "      border: none;\n",
              "      border-radius: 50%;\n",
              "      cursor: pointer;\n",
              "      display: none;\n",
              "      fill: #1967D2;\n",
              "      height: 32px;\n",
              "      padding: 0 0 0 0;\n",
              "      width: 32px;\n",
              "    }\n",
              "\n",
              "    .colab-df-convert:hover {\n",
              "      background-color: #E2EBFA;\n",
              "      box-shadow: 0px 1px 2px rgba(60, 64, 67, 0.3), 0px 1px 3px 1px rgba(60, 64, 67, 0.15);\n",
              "      fill: #174EA6;\n",
              "    }\n",
              "\n",
              "    [theme=dark] .colab-df-convert {\n",
              "      background-color: #3B4455;\n",
              "      fill: #D2E3FC;\n",
              "    }\n",
              "\n",
              "    [theme=dark] .colab-df-convert:hover {\n",
              "      background-color: #434B5C;\n",
              "      box-shadow: 0px 1px 3px 1px rgba(0, 0, 0, 0.15);\n",
              "      filter: drop-shadow(0px 1px 2px rgba(0, 0, 0, 0.3));\n",
              "      fill: #FFFFFF;\n",
              "    }\n",
              "  </style>\n",
              "\n",
              "      <script>\n",
              "        const buttonEl =\n",
              "          document.querySelector('#df-b534f283-4777-4588-a478-889a9668651c button.colab-df-convert');\n",
              "        buttonEl.style.display =\n",
              "          google.colab.kernel.accessAllowed ? 'block' : 'none';\n",
              "\n",
              "        async function convertToInteractive(key) {\n",
              "          const element = document.querySelector('#df-b534f283-4777-4588-a478-889a9668651c');\n",
              "          const dataTable =\n",
              "            await google.colab.kernel.invokeFunction('convertToInteractive',\n",
              "                                                     [key], {});\n",
              "          if (!dataTable) return;\n",
              "\n",
              "          const docLinkHtml = 'Like what you see? Visit the ' +\n",
              "            '<a target=\"_blank\" href=https://colab.research.google.com/notebooks/data_table.ipynb>data table notebook</a>'\n",
              "            + ' to learn more about interactive tables.';\n",
              "          element.innerHTML = '';\n",
              "          dataTable['output_type'] = 'display_data';\n",
              "          await google.colab.output.renderOutput(dataTable, element);\n",
              "          const docLink = document.createElement('div');\n",
              "          docLink.innerHTML = docLinkHtml;\n",
              "          element.appendChild(docLink);\n",
              "        }\n",
              "      </script>\n",
              "    </div>\n",
              "  </div>\n",
              "  "
            ]
          },
          "metadata": {},
          "execution_count": 349
        }
      ]
    },
    {
      "cell_type": "markdown",
      "source": [
        "* 지금까지 배운 모델 중 binary-classification 문제를 풀 수 있는 모델은 '로지스틱회귀'와 'SVM'이다.\n",
        "\n",
        "> * 로지스틱회귀나 SVM의 경우에도, X값 중에 범주형 데이터가 있을 경우에\n",
        "> * label_encoding -> one-hot_encoding으로 바꾸어주어야한다.\n",
        "\n",
        "> * 범주형 데이터 : 'hour_bef_precipitation'\n",
        "> * 연속형 데이터 : 나머지"
      ],
      "metadata": {
        "id": "Jec2zCPNoina"
      }
    },
    {
      "cell_type": "markdown",
      "source": [
        "## 데이터 전처리하기(1)\n",
        "* 결측치 파악"
      ],
      "metadata": {
        "id": "qJ8ImVV4n2Qa"
      }
    },
    {
      "cell_type": "markdown",
      "source": [
        "사실상 ML에서는 데이터 전처리를 하는데 가장 오랜시간이 걸린다.\n",
        "\n",
        "데이터 전처리의 경우, 개인의 논리와 그간의 데이터 분석경험에 따라 어느 정도 바뀌어질 수 있다. 따라서 이번 시간에 제시된 방법이 정답은 아니고, 하나의 방법으로 제시하는 측면이라는 걸 확인해주길 바랍니다."
      ],
      "metadata": {
        "id": "8C6v4UCHn2Qa"
      }
    },
    {
      "cell_type": "markdown",
      "source": [
        "### 결측치 처리"
      ],
      "metadata": {
        "id": "MH2rU0l6n2Qa"
      }
    },
    {
      "cell_type": "code",
      "source": [
        "# 항상 결측치가 있는지 확인이 필요하다.\n",
        "\n",
        "bike.isnull().sum()"
      ],
      "metadata": {
        "colab": {
          "base_uri": "https://localhost:8080/"
        },
        "outputId": "cf587308-2407-4479-deba-8099301ce95b",
        "id": "5i4A8pjyn2Qa"
      },
      "execution_count": null,
      "outputs": [
        {
          "output_type": "execute_result",
          "data": {
            "text/plain": [
              "id                          0\n",
              "hour                        0\n",
              "hour_bef_temperature        2\n",
              "hour_bef_precipitation      9\n",
              "hour_bef_windspeed          9\n",
              "hour_bef_humidity           2\n",
              "hour_bef_visibility         2\n",
              "hour_bef_ozone             76\n",
              "hour_bef_pm10              90\n",
              "hour_bef_pm2.5            117\n",
              "count                       0\n",
              "dtype: int64"
            ]
          },
          "metadata": {},
          "execution_count": 350
        }
      ]
    },
    {
      "cell_type": "markdown",
      "source": [
        "질문 : 결측치를 어떻게 처리할 것인가?"
      ],
      "metadata": {
        "id": "brfdhmTKn2Qa"
      }
    },
    {
      "cell_type": "markdown",
      "source": [
        "y값인 범주형 축(hour_bef_precipitation)의 경우,\n",
        "\n",
        "* 데이터 구조 : 0과 1인 class에 대부분의 값이 속해있고, 2개의 값은 null값이다.\n",
        "\n",
        "* 처리 방법\n",
        "> 1. null이 있는 행을 제거한다.\n",
        "> 2. null이 있는 값을 최빈값으로 바꾼다.\n",
        "> 3. null이 있는 값을 새로운 class로 대입한다.\n",
        "\n",
        "이전문제에서는 3번의 방법을 사용하여 binary-class를 3개의 class로 바꾸었다. 그러나 우리가 배운 것은 binary-class를 분류하는 방법인 logistic-regression과 svm임으로, 1 또는 2 방법을 사용해 binary-class를 유지해야한다. 따라서 이번 문제에서는 1번 방법을 사용하도록 하자.(2번 방법을 사용해도 됩니다.)\n",
        "\n"
      ],
      "metadata": {
        "id": "QKaYrk8Fn2Qa"
      }
    },
    {
      "cell_type": "markdown",
      "source": [
        "X의 경우에도 이전과 다르게 결측치의 갯수에 따라 나누지 않고, null값을 가진 데이터를 모두 제거하도록 하자.\n",
        "\n",
        "* 해당 방법의 경우, null값의 갯수가 총 데이터의 갯수보다 적으면 사용할 수 있는 기법이다.\n",
        "* 만약 null값의 갯수가 많은데 null값을 가진 행을 삭제한다면, 남은 데이터는 얼마 없을 것이다."
      ],
      "metadata": {
        "id": "KYVy9NCNqG03"
      }
    },
    {
      "cell_type": "code",
      "source": [
        "# 총 데이터의 수(=행의 크기)\n",
        "\n",
        "bike.shape[0]"
      ],
      "metadata": {
        "colab": {
          "base_uri": "https://localhost:8080/"
        },
        "outputId": "91ce11b8-d478-4e65-ffb4-71d15878aff6",
        "id": "R4dePQBxn2Qa"
      },
      "execution_count": null,
      "outputs": [
        {
          "output_type": "execute_result",
          "data": {
            "text/plain": [
              "1459"
            ]
          },
          "metadata": {},
          "execution_count": 351
        }
      ]
    },
    {
      "cell_type": "code",
      "source": [
        "# null값을 가진 데이터의 수(=null값이 하나라도 있는 행의 크기)\n",
        "\n",
        "bike.isnull().any(axis=1).sum()"
      ],
      "metadata": {
        "colab": {
          "base_uri": "https://localhost:8080/"
        },
        "id": "rJPtbMDqqj2_",
        "outputId": "3cd54c3b-e361-4f6f-dd2f-709b23c6b20b"
      },
      "execution_count": null,
      "outputs": [
        {
          "output_type": "execute_result",
          "data": {
            "text/plain": [
              "138"
            ]
          },
          "metadata": {},
          "execution_count": 352
        }
      ]
    },
    {
      "cell_type": "code",
      "source": [
        "# null값의 비율\n",
        "\n",
        "bike.isnull().any(axis=1).sum() / bike.shape[0] * 100"
      ],
      "metadata": {
        "colab": {
          "base_uri": "https://localhost:8080/"
        },
        "id": "8iBkt4Jdq-fy",
        "outputId": "fa4f8037-ae31-49d3-e63e-3226c287dad7"
      },
      "execution_count": null,
      "outputs": [
        {
          "output_type": "execute_result",
          "data": {
            "text/plain": [
              "9.458533241946538"
            ]
          },
          "metadata": {},
          "execution_count": 353
        }
      ]
    },
    {
      "cell_type": "markdown",
      "source": [
        "대략 10%임으로 사실 null값이 많다고 볼 수 있지만, 위 regression에서 방법을 설명하였기에 여기서는 그냥 null값이 하나라도 있는 행을 제거하도록 한다."
      ],
      "metadata": {
        "id": "wp6IyHCDq9j1"
      }
    },
    {
      "cell_type": "code",
      "source": [
        "bike.dropna(axis=0, inplace=True)"
      ],
      "metadata": {
        "id": "YMDj36TlreUz"
      },
      "execution_count": null,
      "outputs": []
    },
    {
      "cell_type": "code",
      "source": [
        "bike.isnull().sum()"
      ],
      "metadata": {
        "colab": {
          "base_uri": "https://localhost:8080/"
        },
        "id": "KhJKroQ7rijV",
        "outputId": "de084ba8-2bbc-4a73-e9c1-9dc8b686767b"
      },
      "execution_count": null,
      "outputs": [
        {
          "output_type": "execute_result",
          "data": {
            "text/plain": [
              "id                        0\n",
              "hour                      0\n",
              "hour_bef_temperature      0\n",
              "hour_bef_precipitation    0\n",
              "hour_bef_windspeed        0\n",
              "hour_bef_humidity         0\n",
              "hour_bef_visibility       0\n",
              "hour_bef_ozone            0\n",
              "hour_bef_pm10             0\n",
              "hour_bef_pm2.5            0\n",
              "count                     0\n",
              "dtype: int64"
            ]
          },
          "metadata": {},
          "execution_count": 355
        }
      ]
    },
    {
      "cell_type": "code",
      "source": [
        "# index 정리\n",
        "\n",
        "bike.reset_index(drop=True, inplace=True) # drop : index열을 만들것인지 여부\n",
        "bike.index"
      ],
      "metadata": {
        "colab": {
          "base_uri": "https://localhost:8080/"
        },
        "outputId": "03b039e5-60a5-4138-b0c9-80be214080de",
        "id": "JXNQhW-gn2Qj"
      },
      "execution_count": null,
      "outputs": [
        {
          "output_type": "execute_result",
          "data": {
            "text/plain": [
              "RangeIndex(start=0, stop=1321, step=1)"
            ]
          },
          "metadata": {},
          "execution_count": 356
        }
      ]
    },
    {
      "cell_type": "markdown",
      "source": [
        "## 데이터 전처리하기(2)\n",
        "* 범주형 X 데이터 처리 및 변수제거"
      ],
      "metadata": {
        "id": "2TWY4bXPn2Qj"
      }
    },
    {
      "cell_type": "markdown",
      "source": [
        "사실상 ML에서는 데이터 전처리를 하는데 가장 오랜시간이 걸린다."
      ],
      "metadata": {
        "id": "JcVhQ5DFn2Qj"
      }
    },
    {
      "cell_type": "markdown",
      "source": [
        "### 1. 범주형 X데이터 처리"
      ],
      "metadata": {
        "id": "_nHFn8xKn2Qj"
      }
    },
    {
      "cell_type": "markdown",
      "source": [
        "해당 문제의 경우, 유일하게 범주형 변수였던 'hour_bef_precipitation'이 y값으로 사용되었기에, 따로 범주형 자료에 대한 one-hot_encoding은 필요없다. 만약 다른 데이터로 진행하여 X값 중에 범주형자료가 있다면 수행해주어야하는 절차이다."
      ],
      "metadata": {
        "id": "SAozNLvPn2Qk"
      }
    },
    {
      "cell_type": "code",
      "source": [
        "# X & y 나누기\n",
        "\n",
        "y_label = bike.loc[:,'hour_bef_precipitation']\n",
        "X_features = bike.drop(['hour_bef_precipitation'], axis=1)"
      ],
      "metadata": {
        "id": "LWVIu6HgtAdw"
      },
      "execution_count": null,
      "outputs": []
    },
    {
      "cell_type": "markdown",
      "source": [
        "### 2-0. 의미없는 변수제거"
      ],
      "metadata": {
        "id": "w6DnTqg_n2Qk"
      }
    },
    {
      "cell_type": "code",
      "source": [
        "# 그 자체로 의미없는 열 제거\n",
        "\n",
        "# id열 삭제\n",
        "\n",
        "X_features = X_features.drop(['id'], axis=1)\n",
        "X_features.columns"
      ],
      "metadata": {
        "colab": {
          "base_uri": "https://localhost:8080/"
        },
        "outputId": "535765ad-bddf-48e9-dd6f-852cbc1eca23",
        "id": "9h0zimpYn2Qk"
      },
      "execution_count": null,
      "outputs": [
        {
          "output_type": "execute_result",
          "data": {
            "text/plain": [
              "Index(['hour', 'hour_bef_temperature', 'hour_bef_windspeed',\n",
              "       'hour_bef_humidity', 'hour_bef_visibility', 'hour_bef_ozone',\n",
              "       'hour_bef_pm10', 'hour_bef_pm2.5', 'count'],\n",
              "      dtype='object')"
            ]
          },
          "metadata": {},
          "execution_count": 358
        }
      ]
    },
    {
      "cell_type": "markdown",
      "source": [
        "### 2-1. 다중공선성 변수제거\n",
        "\n",
        "* 이전에는 모든 방법으로 시도했으나, 이번에는 진행해보고 필요하면 시도하자.\n",
        "* 다중공선성은 사실 예측효과를 저하시키지는 않기 때문이다.\n"
      ],
      "metadata": {
        "id": "vhtp2mveuBqA"
      }
    },
    {
      "cell_type": "markdown",
      "source": [
        "## 데이터 분할\n",
        "* train_X, train_y : 모델 학습을 위한 데이터\n",
        "* test_X, test_y : 학습된 모델을 평가하기 위한 데이터"
      ],
      "metadata": {
        "id": "EA5a3_cwj5s7"
      }
    },
    {
      "cell_type": "markdown",
      "source": [
        "X, y 를 8: 2로 데이터 분할\n",
        "* stratify를 통해 y값 클래스 비율 일정하게 분할\n",
        "* random_state = 1로 지정"
      ],
      "metadata": {
        "id": "vAU-mZYJ28Ci"
      }
    },
    {
      "cell_type": "markdown",
      "source": [
        "![[0131][Session]_ LinearRegression_and_SVM (1) (1)-74 Medium.jpeg](data:image/jpeg;base64,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)"
      ],
      "metadata": {
        "id": "t4v-tPYo3MZc"
      }
    },
    {
      "cell_type": "code",
      "execution_count": null,
      "metadata": {
        "outputId": "50555796-f967-4ff1-982a-9b46f4971a72",
        "colab": {
          "base_uri": "https://localhost:8080/"
        },
        "id": "arfPYNY1j5s7"
      },
      "outputs": [
        {
          "output_type": "stream",
          "name": "stdout",
          "text": [
            "(1056, 9) (265, 9) (1056,) (265,)\n"
          ]
        }
      ],
      "source": [
        "# 분류문제임으로 y값의 범주에 따른 분포가 동일하도록 데이터 분할; stratify=raw_y\n",
        "\n",
        "train_X,test_X,train_y,test_y = train_test_split(X_features,y_label, train_size=0.8,test_size=0.2, random_state=1, stratify=y_label)\n",
        "print(train_X.shape,test_X.shape, train_y.shape,test_y.shape)"
      ]
    },
    {
      "cell_type": "code",
      "source": [
        "a = train_y.value_counts()[1]\n",
        "b = train_y.value_counts()[0]\n",
        "ka = test_y.value_counts()[1]\n",
        "kb = test_y.value_counts()[0]"
      ],
      "metadata": {
        "id": "S_Y7OcJ13-1p"
      },
      "execution_count": null,
      "outputs": []
    },
    {
      "cell_type": "code",
      "source": [
        "ka/a"
      ],
      "metadata": {
        "colab": {
          "base_uri": "https://localhost:8080/"
        },
        "id": "zHRe2JLr4YLR",
        "outputId": "194f719e-80a4-4943-f94b-f596ed28e198"
      },
      "execution_count": null,
      "outputs": [
        {
          "output_type": "execute_result",
          "data": {
            "text/plain": [
              "0.25"
            ]
          },
          "metadata": {},
          "execution_count": 361
        }
      ]
    },
    {
      "cell_type": "code",
      "source": [
        "kb/b"
      ],
      "metadata": {
        "colab": {
          "base_uri": "https://localhost:8080/"
        },
        "id": "xI4Zhh1R4tzY",
        "outputId": "e74acceb-2c19-454c-a3e8-35dd553b031c"
      },
      "execution_count": null,
      "outputs": [
        {
          "output_type": "execute_result",
          "data": {
            "text/plain": [
              "0.2509765625"
            ]
          },
          "metadata": {},
          "execution_count": 362
        }
      ]
    },
    {
      "cell_type": "markdown",
      "source": [
        "## 분류 평가함수\n",
        "\n",
        "* 종류 : Accuracy, Precision, Recall, Specificity, f1-score, ROC AOU\n",
        "* 참고 : https://hong-yp-ml-records.tistory.com/29\n",
        "\n",
        "하나의 분류 모델 마다 사용하는 목적식이나 손실함수는 다르다.\n",
        "> * logistic-regression : binary-cross-entropy\n",
        "> * svm : margin\n",
        "\n",
        "따라서 각 모델의 학습파라미터를 얻는데에 사용되는 것이 '목적식이나 손실함수'이고 이 모델을 다른 모델과 비교할 때는 '목적식이나 손실함수'가 다름으로, 공통적인 평가함수를 이용하여 모델 비교가 가능하다. 그리고 위에 있는 분류 평가함수가 그 종류이다."
      ],
      "metadata": {
        "id": "sMUdCgK3j5s7"
      }
    },
    {
      "cell_type": "code",
      "source": [
        "# 분류(y값이 범주형변수)의 평가지표\n",
        "\n",
        "from sklearn.metrics import accuracy_score,f1_score,precision_score,recall_score"
      ],
      "metadata": {
        "id": "VMIeHxwAj5s7"
      },
      "execution_count": null,
      "outputs": []
    },
    {
      "cell_type": "markdown",
      "metadata": {
        "id": "Nn1Al5k4E2zp"
      },
      "source": [
        "## X 데이터 Standard Scale 진행\n",
        "\n",
        "* 분류 문제임으로, y 데이터는 범주형이고 이 y데이터의 분포를 정규화해줄 필요는 없다."
      ]
    },
    {
      "cell_type": "code",
      "execution_count": null,
      "metadata": {
        "id": "bFwawIUxE2zp"
      },
      "outputs": [],
      "source": [
        "scale=StandardScaler()\n",
        "scale.fit(train_X) # train으로 fit을 적용하고\n",
        "train_X=pd.DataFrame(scale.transform(train_X),columns=train_X.columns) # 이후에 train에 transform\n",
        "test_X=pd.DataFrame(scale.transform(test_X),columns=test_X.columns) # test는 fit없이 transform만 적용한다."
      ]
    },
    {
      "cell_type": "markdown",
      "source": [
        "## Logistic Regression"
      ],
      "metadata": {
        "id": "bMMCB38i5oPY"
      }
    },
    {
      "cell_type": "markdown",
      "metadata": {
        "id": "vU8u2vp1E2zp"
      },
      "source": [
        "하이퍼 파라미터 값을 변경해가면서 10-Fold를 통해 학습데이터 평가 \n",
        "* Logistic Regression 하이퍼파라미터 후보 : C =0.01,0.1,1,10\n",
        "* 평가지표 : Recall"
      ]
    },
    {
      "cell_type": "code",
      "execution_count": null,
      "metadata": {
        "id": "yR_o7BARE2zp"
      },
      "outputs": [],
      "source": [
        "# 이전에 사용한 cross_val_score 함수를 사용\n",
        "\n",
        "from sklearn.model_selection import cross_val_score"
      ]
    },
    {
      "cell_type": "code",
      "execution_count": null,
      "metadata": {
        "id": "tmjjjveSE2zp",
        "outputId": "3db77b9c-8785-46b4-adb9-e9c81b9d1fc8",
        "colab": {
          "base_uri": "https://localhost:8080/"
        }
      },
      "outputs": [
        {
          "output_type": "stream",
          "name": "stdout",
          "text": [
            "[0.0, 0.0, 0.1, 0.16666666666666666]\n",
            "--------------------------------------------------\n",
            "Logistic-Regression best alpha : 10\n"
          ]
        }
      ],
      "source": [
        "# 로지스틱회귀의 하이퍼파라미터 튜닝\n",
        "from sklearn.linear_model import LogisticRegression\n",
        "\n",
        "# 하이퍼파라미터 후보\n",
        "C = [0.01,0.1,1,10]\n",
        "lr_score = []\n",
        "\n",
        "# 각 하이피파라미터당\n",
        "for c in C:\n",
        "    # 하이퍼파라미터를 고정한 모델을 선언하고\n",
        "    lr_model=LogisticRegression(C=c)\n",
        "    # 10-Fold 방법으로 학습데이터에 대해 평가(평균recall)를 진행하고 이 값을 저장\n",
        "    lr_score.append(np.mean(cross_val_score(\n",
        "        lr_model,train_X,train_y,scoring='recall',cv=10)))\n",
        "\n",
        "idx1 = np.array(lr_score).argsort()[::-1][0] # 가장 큰 것의 index\n",
        "\n",
        "print(lr_score)\n",
        "print('-'*50)\n",
        "print('Logistic-Regression best alpha :', C[idx1])"
      ]
    },
    {
      "cell_type": "code",
      "execution_count": null,
      "metadata": {
        "id": "J2mFsZwUE2zq",
        "outputId": "18522d95-947c-42e0-9eba-815880dd97b8",
        "colab": {
          "base_uri": "https://localhost:8080/"
        }
      },
      "outputs": [
        {
          "output_type": "execute_result",
          "data": {
            "text/plain": [
              "[0.0, 0.0, 0.1, 0.16666666666666666]"
            ]
          },
          "metadata": {},
          "execution_count": 371
        }
      ],
      "source": [
        "lr_score"
      ]
    },
    {
      "cell_type": "markdown",
      "source": [
        "## SVM"
      ],
      "metadata": {
        "id": "VSVICrRB5_0K"
      }
    },
    {
      "cell_type": "markdown",
      "source": [
        "하이퍼 파라미터 값을 변경해가면서 10-Fold를 통해 학습데이터 평가\n",
        "\n",
        "* GridSearchCV cv=5를 통해 탐색\n",
        "* SVM 하이퍼파라미터 후보\n",
        "> * kernel = rbf, linear, poly\n",
        "> * C = 0.5, 1.5, 10\n",
        "* 평가지표 : Recall"
      ],
      "metadata": {
        "id": "S6ieDsqB6FJT"
      }
    },
    {
      "cell_type": "code",
      "source": [
        "# hyper-parameter의 종류가 2개(kernel, C)임으로, 이전에 사용한 cross_val_score를 이용하면\n",
        "# 2개의 반복문을 사용해야한다.\n",
        "# 따라서 보다 사용하기 쉬운 'GridSearchCV()'를 사용하자.\n",
        "from sklearn.model_selection import GridSearchCV\n",
        "\n",
        "# 객체 선언\n",
        "from sklearn.svm import SVC # SVC = SVM + Classification vs SVR = SVM + Regression\n",
        "model_svm = SVC()\n",
        "\n",
        "# pca후의 train 데이터에 대해서 학습진행\n",
        "model_svm.fit(train_X, train_y)\n",
        "\n",
        "# HyperParameter 후보군\n",
        "parameters={'kernel':['rbf','linear','poly'],\n",
        "            'C':[0.5,1.5,10],\n",
        "            'random_state':[1]}\n",
        "\n",
        "# HyperParameter를 Tuning\n",
        "model_svm=GridSearchCV(estimator=model_svm, param_grid=parameters,\n",
        "                       scoring='recall', cv=10, refit=True)\n",
        "\n",
        "# 객체는 이전에 'refit=True'에 의해 생성되었기에, 바로 train 데이터에 대한 학습을 진행하면 된다.\n",
        "model_svm.fit(train_X,train_y)"
      ],
      "metadata": {
        "colab": {
          "base_uri": "https://localhost:8080/"
        },
        "id": "V0q6VSMk6hYD",
        "outputId": "55155dbf-a476-4666-f14e-14cb59a25126"
      },
      "execution_count": null,
      "outputs": [
        {
          "output_type": "execute_result",
          "data": {
            "text/plain": [
              "GridSearchCV(cv=10, estimator=SVC(),\n",
              "             param_grid={'C': [0.5, 1.5, 10],\n",
              "                         'kernel': ['rbf', 'linear', 'poly'],\n",
              "                         'random_state': [1]},\n",
              "             scoring='recall')"
            ]
          },
          "metadata": {},
          "execution_count": 372
        }
      ]
    },
    {
      "cell_type": "code",
      "source": [
        "model_svm.best_params_"
      ],
      "metadata": {
        "colab": {
          "base_uri": "https://localhost:8080/"
        },
        "id": "-ht2fMUi6x_T",
        "outputId": "58988a70-02a8-40b0-fe76-6ef233a99451"
      },
      "execution_count": null,
      "outputs": [
        {
          "output_type": "execute_result",
          "data": {
            "text/plain": [
              "{'C': 10, 'kernel': 'rbf', 'random_state': 1}"
            ]
          },
          "metadata": {},
          "execution_count": 373
        }
      ]
    },
    {
      "cell_type": "markdown",
      "source": [
        "## 분류 모델끼리 비교"
      ],
      "metadata": {
        "id": "UIUfFoIz7ZJn"
      }
    },
    {
      "cell_type": "markdown",
      "metadata": {
        "id": "30KBEhioE2zq"
      },
      "source": [
        "학습데이터로 평가했을 때 가장 좋은 성능을 보인 하이퍼 파라미터값을 기준으로 Logistic Regression, SVM모델 만들어 테스트 데이터로 평가\n",
        "* 평가지표 Recall, Precision, F1-score"
      ]
    },
    {
      "cell_type": "code",
      "execution_count": null,
      "metadata": {
        "id": "rjFa0CoyE2zq",
        "outputId": "3ff6c01b-9598-41da-fb2d-503f69918361",
        "colab": {
          "base_uri": "https://localhost:8080/"
        }
      },
      "outputs": [
        {
          "output_type": "stream",
          "name": "stdout",
          "text": [
            "recall : 0.625\n",
            "precision : 0.8333333333333334\n",
            "f1_score : 0.7142857142857143\n",
            "--------------------------------------------------\n",
            "recall : 0.5\n",
            "precision : 0.6666666666666666\n",
            "f1_score : 0.5714285714285715\n"
          ]
        }
      ],
      "source": [
        "# Logistic-Regression; C=10\n",
        "\n",
        "lr_model=LogisticRegression(C=10)\n",
        "lr_model.fit(train_X,train_y)\n",
        "\n",
        "# SVM; C=10, kernel=rbf\n",
        "model_svm = SVC(C=10, kernel='rbf')\n",
        "model_svm.fit(train_X,train_y)\n",
        "\n",
        "# 평가지표 또한, (정답,예측값) 순으로 넣어주어야한다.\n",
        "\n",
        "# Logistic-Regression\n",
        "print(\"recall :\", recall_score(test_y,lr_model.predict(test_X)))\n",
        "print(\"precision :\", precision_score(test_y,lr_model.predict(test_X)))\n",
        "print(\"f1_score :\", f1_score(test_y,lr_model.predict(test_X)))\n",
        "print('-'*50)\n",
        "\n",
        "# SVM\n",
        "print(\"recall :\", recall_score(test_y,model_svm.predict(test_X)))\n",
        "print(\"precision :\", precision_score(test_y,model_svm.predict(test_X)))\n",
        "print(\"f1_score :\", f1_score(test_y,model_svm.predict(test_X)))"
      ]
    },
    {
      "cell_type": "markdown",
      "source": [
        "## 변수중요도; SVM"
      ],
      "metadata": {
        "id": "6Xd9UWJcA_4B"
      }
    },
    {
      "cell_type": "markdown",
      "source": [
        "![Untitled (Draft)-1 Medium.jpeg](data:image/jpeg;base64,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)"
      ],
      "metadata": {
        "id": "99XL4seoBCH0"
      }
    },
    {
      "cell_type": "code",
      "source": [
        "# model_svm.coef_"
      ],
      "metadata": {
        "colab": {
          "base_uri": "https://localhost:8080/",
          "height": 287
        },
        "id": "DOosl4JiBJkn",
        "outputId": "1953c488-c860-4c33-f10e-67f70ba104b5"
      },
      "execution_count": null,
      "outputs": [
        {
          "output_type": "error",
          "ename": "AttributeError",
          "evalue": "ignored",
          "traceback": [
            "\u001b[0;31m---------------------------------------------------------------------------\u001b[0m",
            "\u001b[0;31mAttributeError\u001b[0m                            Traceback (most recent call last)",
            "\u001b[0;32m<ipython-input-104-17e21b7b802e>\u001b[0m in \u001b[0;36m<module>\u001b[0;34m\u001b[0m\n\u001b[0;32m----> 1\u001b[0;31m \u001b[0mmodel_svm\u001b[0m\u001b[0;34m.\u001b[0m\u001b[0mcoef_\u001b[0m\u001b[0;34m\u001b[0m\u001b[0;34m\u001b[0m\u001b[0m\n\u001b[0m",
            "\u001b[0;32m/usr/local/lib/python3.8/dist-packages/sklearn/svm/_base.py\u001b[0m in \u001b[0;36mcoef_\u001b[0;34m(self)\u001b[0m\n\u001b[1;32m    635\u001b[0m         \"\"\"\n\u001b[1;32m    636\u001b[0m         \u001b[0;32mif\u001b[0m \u001b[0mself\u001b[0m\u001b[0;34m.\u001b[0m\u001b[0mkernel\u001b[0m \u001b[0;34m!=\u001b[0m \u001b[0;34m\"linear\"\u001b[0m\u001b[0;34m:\u001b[0m\u001b[0;34m\u001b[0m\u001b[0;34m\u001b[0m\u001b[0m\n\u001b[0;32m--> 637\u001b[0;31m             \u001b[0;32mraise\u001b[0m \u001b[0mAttributeError\u001b[0m\u001b[0;34m(\u001b[0m\u001b[0;34m\"coef_ is only available when using a linear kernel\"\u001b[0m\u001b[0;34m)\u001b[0m\u001b[0;34m\u001b[0m\u001b[0;34m\u001b[0m\u001b[0m\n\u001b[0m\u001b[1;32m    638\u001b[0m \u001b[0;34m\u001b[0m\u001b[0m\n\u001b[1;32m    639\u001b[0m         \u001b[0mcoef\u001b[0m \u001b[0;34m=\u001b[0m \u001b[0mself\u001b[0m\u001b[0;34m.\u001b[0m\u001b[0m_get_coef\u001b[0m\u001b[0;34m(\u001b[0m\u001b[0;34m)\u001b[0m\u001b[0;34m\u001b[0m\u001b[0;34m\u001b[0m\u001b[0m\n",
            "\u001b[0;31mAttributeError\u001b[0m: coef_ is only available when using a linear kernel"
          ]
        }
      ]
    },
    {
      "cell_type": "code",
      "source": [
        "# SVM; C=10, kernel=rbf\n",
        "model_svm = SVC(C=10, kernel='linear')\n",
        "model_svm.fit(train_X,train_y)\n",
        "\n",
        "model_svm.coef_"
      ],
      "metadata": {
        "colab": {
          "base_uri": "https://localhost:8080/"
        },
        "id": "X89GNQj_BC68",
        "outputId": "4ae321e4-56dc-48d0-b3ce-9440fbbc356f"
      },
      "execution_count": null,
      "outputs": [
        {
          "output_type": "execute_result",
          "data": {
            "text/plain": [
              "array([[ 2.06945722e-04,  1.50665199e-04,  3.68931722e-05,\n",
              "         4.04350042e-04,  8.78720149e-05,  3.84863838e-05,\n",
              "         1.76938586e-04, -4.82010014e-05, -6.55866575e-04]])"
            ]
          },
          "metadata": {},
          "execution_count": 375
        }
      ]
    },
    {
      "cell_type": "markdown",
      "source": [
        "# 이론 문제"
      ],
      "metadata": {
        "id": "R7ggbZA2_fc4"
      }
    },
    {
      "cell_type": "markdown",
      "source": [
        "(직접 종이나 아이패드에 써서 코랩에 이미지 파일로 업로드 해주시면 됩니다)"
      ],
      "metadata": {
        "id": "47jOfD4LA-Cs"
      }
    },
    {
      "cell_type": "markdown",
      "source": [
        "**1.SVM의 수리적 모델링에서, 목적함수를 적고 증명과정을 서술하시오**"
      ],
      "metadata": {
        "id": "jvf64CMk_l4N"
      }
    },
    {
      "cell_type": "markdown",
      "source": [
        "**2. 시그모이드 함수의 공식, 정의역, 치역을 작성하시오**"
      ],
      "metadata": {
        "id": "jAo_Nu90AP8d"
      }
    },
    {
      "cell_type": "markdown",
      "source": [
        "**3. 코드 실습 영상을 참고하여, 아래 그림과 같은 데이터의 F1-score를 계산하시오**\n"
      ],
      "metadata": {
        "id": "bRF4qz9XAhzw"
      }
    },
    {
      "cell_type": "markdown",
      "source": [
        "![image.png](data:image/png;base64,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)"
      ],
      "metadata": {
        "id": "jrNE1B5eAwk-"
      }
    },
    {
      "cell_type": "markdown",
      "source": [
        "# 더 공부하고 싶으신 분들을 위한 자료\n",
        "세션에서 다룬 내용을 하나하나 직접 구현해보실 수 있습니다."
      ],
      "metadata": {
        "id": "9sksmjlgG4PG"
      }
    },
    {
      "cell_type": "markdown",
      "metadata": {
        "id": "fvjh5An4Gz7i"
      },
      "source": [
        "**Chapter 3 – Classification**"
      ]
    },
    {
      "cell_type": "markdown",
      "metadata": {
        "id": "DAlLc-RXGz7k"
      },
      "source": [
        "<table align=\"left\">\n",
        "  <td>\n",
        "    <a href=\"https://colab.research.google.com/github/ageron/handson-ml2/blob/master/03_classification.ipynb\" target=\"_parent\"><img src=\"https://colab.research.google.com/assets/colab-badge.svg\" alt=\"Open In Colab\"/></a>\n",
        "  </td>\n",
        "  <td>\n",
        "    <a target=\"_blank\" href=\"https://kaggle.com/kernels/welcome?src=https://github.com/ageron/handson-ml2/blob/master/03_classification.ipynb\"><img src=\"https://kaggle.com/static/images/open-in-kaggle.svg\" /></a>\n",
        "  </td>\n",
        "</table>"
      ]
    },
    {
      "cell_type": "markdown",
      "metadata": {
        "id": "QlH_I4e5Gy7R"
      },
      "source": [
        "**Chapter 4 – Training Models**"
      ]
    },
    {
      "cell_type": "markdown",
      "metadata": {
        "id": "mJAchQoVGy7U"
      },
      "source": [
        "<table align=\"left\">\n",
        "  <td>\n",
        "    <a href=\"https://colab.research.google.com/github/ageron/handson-ml2/blob/master/04_training_linear_models.ipynb\" target=\"_parent\"><img src=\"https://colab.research.google.com/assets/colab-badge.svg\" alt=\"Open In Colab\"/></a>\n",
        "  </td>\n",
        "  <td>\n",
        "    <a target=\"_blank\" href=\"https://kaggle.com/kernels/welcome?src=https://github.com/ageron/handson-ml2/blob/master/04_training_linear_models.ipynb\"><img src=\"https://kaggle.com/static/images/open-in-kaggle.svg\" /></a>\n",
        "  </td>\n",
        "</table>"
      ]
    },
    {
      "cell_type": "markdown",
      "metadata": {
        "id": "BovOOgBBG0an"
      },
      "source": [
        "**Chapter 5 – Support Vector Machines**"
      ]
    },
    {
      "cell_type": "markdown",
      "metadata": {
        "id": "zrM0WGvaG0ap"
      },
      "source": [
        "<table align=\"left\">\n",
        "  <td>\n",
        "    <a href=\"https://colab.research.google.com/github/ageron/handson-ml2/blob/master/05_support_vector_machines.ipynb\" target=\"_parent\"><img src=\"https://colab.research.google.com/assets/colab-badge.svg\" alt=\"Open In Colab\"/></a>\n",
        "  </td>\n",
        "  <td>\n",
        "    <a target=\"_blank\" href=\"https://kaggle.com/kernels/welcome?src=https://github.com/ageron/handson-ml2/blob/master/05_support_vector_machines.ipynb\"><img src=\"https://kaggle.com/static/images/open-in-kaggle.svg\" /></a>\n",
        "  </td>\n",
        "</table>"
      ]
    }
  ]
}